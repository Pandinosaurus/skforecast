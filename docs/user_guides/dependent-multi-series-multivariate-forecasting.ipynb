{
 "cells": [
  {
   "attachments": {},
   "cell_type": "markdown",
   "id": "28fd5b27",
   "metadata": {},
   "source": [
    "# Global Forecasting Models: Dependent multi-series forecasting (Multivariate forecasting)\n",
    "\n",
    "[Univariate time series forecasting](../introduction-forecasting/introduction-forecasting.html) models a single time series as a linear or nonlinear combination of its lags, using past values of the series to predict its future. Global forecasting, involves building a single predictive model that considers all time series simultaneously. It attempts to capture the core patterns that govern the series, thereby mitigating the potential noise that each series might introduce. This approach is computationally efficient, easy to maintain, and can yield more robust generalizations across time series.\n",
    "\n",
    "In **dependent multi-series forecasting (multivariate time series)**, all series are modeled together in a single model, considering that each time series depends not only on its past values but also on the past values of the other series. The forecaster is expected not only to learn the information of each series separately but also to relate them. An example is the measurements made by all the sensors (flow, temperature, pressure...) installed on an industrial machine such as a compressor.\n",
    "\n",
    "<p style=\"text-align: center\">\n",
    "<img src=\"../img/forecaster_multivariate_train_matrix_diagram.png\" style=\"width: 600px\">\n",
    "<br>\n",
    "<font size=\"2.5\"> <i>Internal Forecaster time series transformation to train a forecaster with multiple dependent time series.</i></font>\n",
    "</p>\n",
    "\n",
    "Since as many training matrices are created as there are series in the dataset, it must be decided on which level the forecasting will be performed. To predict the next *n* steps a model is trained for each step to be predicted, the selected level in the figure is `Series 1`. This strategy is of the type [direct multi-step forecasting](../introduction-forecasting/introduction-forecasting.html#direct-multi-step-forecasting).\n",
    "\n",
    "<p style=\"text-align: center\">\n",
    "<img src=\"../img/forecaster_multivariate_prediction_diagram.png\" style=\"width: 600px\">\n",
    "<br>\n",
    "<font size=\"2.5\"> <i>Diagram of direct forecasting with multiple dependent time series.</i></font>\n",
    "</p>\n",
    "\n",
    "\n",
    "Using the <code>ForecasterDirectMultiVariate</code> class, it is possible to easily build machine learning models for dependent multi-series forecasting."
   ]
  },
  {
   "cell_type": "markdown",
   "id": "31e9dfb7",
   "metadata": {},
   "source": [
    "<div class=\"admonition note\" name=\"html-admonition\" style=\"background: rgba(0,184,212,.1); padding-top: 0px; padding-bottom: 6px; border-radius: 8px; border-left: 8px solid #00b8d4; border-color: #00b8d4; padding-left: 10px; padding-right: 10px;\">\n",
    "\n",
    "<p class=\"title\">\n",
    "    <i style=\"font-size: 18px; color:#00b8d4;\"></i>\n",
    "    <b style=\"color: #00b8d4;\">&#9998 Note</b>\n",
    "</p>\n",
    "\n",
    "Why can only one series be predicted?\n",
    "\n",
    "The key challenge with directly applying a strategy to multiple time series is scalability. Typically, each time series and each time step would require its own model. For instance, if you have 1,000 time series and a prediction horizon of 24 steps, you would need to train 24,000 separate models. This approach becomes impractical very quickly. That's why the <code>ForecasterDirectMultiVariate</code> can learn from multiple series but can only predict one at a time.\n",
    "\n",
    "The good news? We are developing a new class that will enable predictions for multiple series simultaneously. Stay tuned!\n",
    "\n",
    "</div>"
   ]
  },
  {
   "attachments": {},
   "cell_type": "markdown",
   "id": "833f168e",
   "metadata": {},
   "source": [
    "<div class=\"admonition note\" name=\"html-admonition\" style=\"background: rgba(0,184,212,.1); padding-top: 0px; padding-bottom: 6px; border-radius: 8px; border-left: 8px solid #00b8d4; border-color: #00b8d4; padding-left: 10px; padding-right: 10px;\">\n",
    "\n",
    "<p class=\"title\">\n",
    "    <i style=\"font-size: 18px; color:#00b8d4;\"></i>\n",
    "    <b style=\"color: #00b8d4;\">&#9998 Note</b>\n",
    "</p>\n",
    "\n",
    "Skforecast offers additional approaches to create Global Forecasting Models:\n",
    "\n",
    "<ul>\n",
    "    <li>\n",
    "    <a href=\"../user_guides/independent-multi-time-series-forecasting.html\">Global Forecasting Models: Independent multi-series forecasting</a>\n",
    "    </li>\n",
    "    <li>\n",
    "    <a href=\"../user_guides/multi-series-with-different-length-and-different_exog.html\">Global Forecasting Models: Time series with different lengths and different exogenous variables</a>\n",
    "    </li>\n",
    "    <li>\n",
    "    <a href=\"../user_guides/forecasting-with-deep-learning-rnn-lstm.html\">Global Forecasting Models: Forecasting with Deep Learning</a>\n",
    "    </li>\n",
    "</ul>\n",
    "\n",
    "\n",
    "To learn more about global forecasting models visit our examples:\n",
    "\n",
    "<ul>\n",
    "    <li>\n",
    "    <a href=\"https://www.cienciadedatos.net/documentos/py44-multi-series-forecasting-skforecast.html\">Global Forecasting Models: Multi-series forecasting with Python and skforecast</a>\n",
    "    </li>\n",
    "    <li>\n",
    "    <a href=\"https://www.cienciadedatos.net/documentos/py59-scalable-forecasting-models.html\">Scalable Forecasting: Modeling thousand time series with a single global model</a>\n",
    "    </li>\n",
    "    <li>\n",
    "    <a href=\"https://cienciadedatos.net/documentos/py53-global-forecasting-models\">Global Forecasting Models: Comparative Analysis of Single and Multi-Series Forecasting Modeling</a>\n",
    "    </li>\n",
    "    <li>\n",
    "    <a href=\"https://cienciadedatos.net/documentos/py54-forecasting-with-deep-learning\">Forecasting with Deep Learning</a>\n",
    "    </li>\n",
    "</ul>\n",
    "\n",
    "</div>"
   ]
  },
  {
   "attachments": {},
   "cell_type": "markdown",
   "id": "77a4bb4b",
   "metadata": {},
   "source": [
    "## Libraries and data"
   ]
  },
  {
   "cell_type": "code",
   "execution_count": 1,
   "id": "b15fba42",
   "metadata": {
    "ExecuteTime": {
     "end_time": "2022-09-20T10:50:15.488670Z",
     "start_time": "2022-09-20T10:50:15.468737Z"
    }
   },
   "outputs": [],
   "source": [
    "# Libraries\n",
    "# ==============================================================================\n",
    "import numpy as np\n",
    "import matplotlib.pyplot as plt\n",
    "from sklearn.preprocessing import StandardScaler\n",
    "from lightgbm import LGBMRegressor\n",
    "from sklearn.metrics import mean_absolute_error\n",
    "from skforecast.datasets import fetch_dataset\n",
    "from skforecast.preprocessing import RollingFeatures\n",
    "from skforecast.direct import ForecasterDirectMultiVariate\n",
    "from skforecast.model_selection import TimeSeriesFold\n",
    "from skforecast.model_selection import backtesting_forecaster_multiseries\n",
    "from skforecast.model_selection import grid_search_forecaster_multiseries\n",
    "from skforecast.model_selection import random_search_forecaster_multiseries\n",
    "from skforecast.model_selection import bayesian_search_forecaster_multiseries\n",
    "from skforecast.plot import set_dark_theme"
   ]
  },
  {
   "cell_type": "code",
   "execution_count": 2,
   "id": "0c0024f6-5d9b-4e0d-a332-dfb71280d7e3",
   "metadata": {
    "ExecuteTime": {
     "end_time": "2022-09-20T09:48:03.761722Z",
     "start_time": "2022-09-20T09:48:02.297714Z"
    }
   },
   "outputs": [
    {
     "name": "stdout",
     "output_type": "stream",
     "text": [
      "air_quality_valencia_no_missing\n",
      "-------------------------------\n",
      "Hourly measures of several air chemical pollutant at Valencia city (Avd.\n",
      "Francia) from 2019-01-01 to 20213-12-31. Including the following variables:\n",
      "pm2.5 (µg/m³), CO (mg/m³), NO (µg/m³), NO2 (µg/m³), PM10 (µg/m³), NOx (µg/m³),\n",
      "O3 (µg/m³), Veloc. (m/s), Direc. (degrees), SO2 (µg/m³). Missing values have\n",
      "been imputed using linear interpolation.\n",
      "Red de Vigilancia y Control de la Contaminación Atmosférica, 46250047-València -\n",
      "Av. França, https://mediambient.gva.es/es/web/calidad-ambiental/datos-\n",
      "historicos.\n",
      "Shape of the dataset: (43824, 10)\n"
     ]
    }
   ],
   "source": [
    "# Data download\n",
    "# ==============================================================================\n",
    "data = fetch_dataset(name=\"air_quality_valencia_no_missing\")"
   ]
  },
  {
   "cell_type": "code",
   "execution_count": 3,
   "id": "2686f0f5",
   "metadata": {},
   "outputs": [
    {
     "name": "stdout",
     "output_type": "stream",
     "text": [
      "Shape:  (1826, 10)\n"
     ]
    },
    {
     "data": {
      "application/vnd.microsoft.datawrangler.viewer.v0+json": {
       "columns": [
        {
         "name": "datetime",
         "rawType": "datetime64[ns]",
         "type": "datetime"
        },
        {
         "name": "so2",
         "rawType": "float64",
         "type": "float"
        },
        {
         "name": "co",
         "rawType": "float64",
         "type": "float"
        },
        {
         "name": "no",
         "rawType": "float64",
         "type": "float"
        },
        {
         "name": "no2",
         "rawType": "float64",
         "type": "float"
        },
        {
         "name": "pm10",
         "rawType": "float64",
         "type": "float"
        },
        {
         "name": "nox",
         "rawType": "float64",
         "type": "float"
        },
        {
         "name": "o3",
         "rawType": "float64",
         "type": "float"
        },
        {
         "name": "veloc.",
         "rawType": "float64",
         "type": "float"
        },
        {
         "name": "direc.",
         "rawType": "float64",
         "type": "float"
        },
        {
         "name": "pm2.5",
         "rawType": "float64",
         "type": "float"
        }
       ],
       "conversionMethod": "pd.DataFrame",
       "ref": "bc3a0247-6ab8-41f5-b3ea-5239cf00a1de",
       "rows": [
        [
         "2019-01-01 00:00:00",
         "6.0",
         "0.1416666666666667",
         "17.375",
         "37.25",
         "21.458333333333332",
         "63.458333333333336",
         "20.291666666666668",
         "0.4166666666666667",
         "207.41666666666666",
         "17.208333333333332"
        ],
        [
         "2019-01-02 00:00:00",
         "6.041666666666667",
         "0.1708333333333333",
         "23.458333333333332",
         "49.333333333333336",
         "26.416666666666668",
         "85.04166666666667",
         "11.708333333333334",
         "0.5791666666666667",
         "225.375",
         "17.375"
        ],
        [
         "2019-01-03 00:00:00",
         "5.916666666666667",
         "0.21666666666666667",
         "41.291666666666664",
         "53.25",
         "36.166666666666664",
         "116.33333333333333",
         "9.833333333333334",
         "0.5",
         "211.83333333333334",
         "21.625"
        ],
        [
         "2019-01-04 00:00:00",
         "5.458333333333333",
         "0.2041666666666667",
         "21.208333333333332",
         "45.75",
         "32.208333333333336",
         "77.95833333333333",
         "15.166666666666666",
         "0.6749999999999999",
         "199.58333333333334",
         "22.166666666666668"
        ],
        [
         "2019-01-05 00:00:00",
         "4.541666666666667",
         "0.19166666666666665",
         "10.291666666666666",
         "36.375",
         "32.875",
         "51.833333333333336",
         "21.083333333333332",
         "0.875",
         "254.20833333333334",
         "24.916666666666668"
        ]
       ],
       "shape": {
        "columns": 10,
        "rows": 5
       }
      },
      "text/html": [
       "<div>\n",
       "<style scoped>\n",
       "    .dataframe tbody tr th:only-of-type {\n",
       "        vertical-align: middle;\n",
       "    }\n",
       "\n",
       "    .dataframe tbody tr th {\n",
       "        vertical-align: top;\n",
       "    }\n",
       "\n",
       "    .dataframe thead th {\n",
       "        text-align: right;\n",
       "    }\n",
       "</style>\n",
       "<table border=\"1\" class=\"dataframe\">\n",
       "  <thead>\n",
       "    <tr style=\"text-align: right;\">\n",
       "      <th></th>\n",
       "      <th>so2</th>\n",
       "      <th>co</th>\n",
       "      <th>no</th>\n",
       "      <th>no2</th>\n",
       "      <th>pm10</th>\n",
       "      <th>nox</th>\n",
       "      <th>o3</th>\n",
       "      <th>veloc.</th>\n",
       "      <th>direc.</th>\n",
       "      <th>pm2.5</th>\n",
       "    </tr>\n",
       "    <tr>\n",
       "      <th>datetime</th>\n",
       "      <th></th>\n",
       "      <th></th>\n",
       "      <th></th>\n",
       "      <th></th>\n",
       "      <th></th>\n",
       "      <th></th>\n",
       "      <th></th>\n",
       "      <th></th>\n",
       "      <th></th>\n",
       "      <th></th>\n",
       "    </tr>\n",
       "  </thead>\n",
       "  <tbody>\n",
       "    <tr>\n",
       "      <th>2019-01-01</th>\n",
       "      <td>6.000000</td>\n",
       "      <td>0.141667</td>\n",
       "      <td>17.375000</td>\n",
       "      <td>37.250000</td>\n",
       "      <td>21.458333</td>\n",
       "      <td>63.458333</td>\n",
       "      <td>20.291667</td>\n",
       "      <td>0.416667</td>\n",
       "      <td>207.416667</td>\n",
       "      <td>17.208333</td>\n",
       "    </tr>\n",
       "    <tr>\n",
       "      <th>2019-01-02</th>\n",
       "      <td>6.041667</td>\n",
       "      <td>0.170833</td>\n",
       "      <td>23.458333</td>\n",
       "      <td>49.333333</td>\n",
       "      <td>26.416667</td>\n",
       "      <td>85.041667</td>\n",
       "      <td>11.708333</td>\n",
       "      <td>0.579167</td>\n",
       "      <td>225.375000</td>\n",
       "      <td>17.375000</td>\n",
       "    </tr>\n",
       "    <tr>\n",
       "      <th>2019-01-03</th>\n",
       "      <td>5.916667</td>\n",
       "      <td>0.216667</td>\n",
       "      <td>41.291667</td>\n",
       "      <td>53.250000</td>\n",
       "      <td>36.166667</td>\n",
       "      <td>116.333333</td>\n",
       "      <td>9.833333</td>\n",
       "      <td>0.500000</td>\n",
       "      <td>211.833333</td>\n",
       "      <td>21.625000</td>\n",
       "    </tr>\n",
       "    <tr>\n",
       "      <th>2019-01-04</th>\n",
       "      <td>5.458333</td>\n",
       "      <td>0.204167</td>\n",
       "      <td>21.208333</td>\n",
       "      <td>45.750000</td>\n",
       "      <td>32.208333</td>\n",
       "      <td>77.958333</td>\n",
       "      <td>15.166667</td>\n",
       "      <td>0.675000</td>\n",
       "      <td>199.583333</td>\n",
       "      <td>22.166667</td>\n",
       "    </tr>\n",
       "    <tr>\n",
       "      <th>2019-01-05</th>\n",
       "      <td>4.541667</td>\n",
       "      <td>0.191667</td>\n",
       "      <td>10.291667</td>\n",
       "      <td>36.375000</td>\n",
       "      <td>32.875000</td>\n",
       "      <td>51.833333</td>\n",
       "      <td>21.083333</td>\n",
       "      <td>0.875000</td>\n",
       "      <td>254.208333</td>\n",
       "      <td>24.916667</td>\n",
       "    </tr>\n",
       "  </tbody>\n",
       "</table>\n",
       "</div>"
      ],
      "text/plain": [
       "                 so2        co         no        no2       pm10         nox  \\\n",
       "datetime                                                                      \n",
       "2019-01-01  6.000000  0.141667  17.375000  37.250000  21.458333   63.458333   \n",
       "2019-01-02  6.041667  0.170833  23.458333  49.333333  26.416667   85.041667   \n",
       "2019-01-03  5.916667  0.216667  41.291667  53.250000  36.166667  116.333333   \n",
       "2019-01-04  5.458333  0.204167  21.208333  45.750000  32.208333   77.958333   \n",
       "2019-01-05  4.541667  0.191667  10.291667  36.375000  32.875000   51.833333   \n",
       "\n",
       "                   o3    veloc.      direc.      pm2.5  \n",
       "datetime                                                \n",
       "2019-01-01  20.291667  0.416667  207.416667  17.208333  \n",
       "2019-01-02  11.708333  0.579167  225.375000  17.375000  \n",
       "2019-01-03   9.833333  0.500000  211.833333  21.625000  \n",
       "2019-01-04  15.166667  0.675000  199.583333  22.166667  \n",
       "2019-01-05  21.083333  0.875000  254.208333  24.916667  "
      ]
     },
     "execution_count": 3,
     "metadata": {},
     "output_type": "execute_result"
    }
   ],
   "source": [
    "# Aggregate at daily frequency to reduce dimensions\n",
    "# ==============================================================================\n",
    "data = data.resample('D').mean()\n",
    "print(\"Shape: \", data.shape)\n",
    "data.head()"
   ]
  },
  {
   "cell_type": "code",
   "execution_count": 4,
   "id": "9eca9251",
   "metadata": {
    "ExecuteTime": {
     "end_time": "2022-09-20T09:48:06.136685Z",
     "start_time": "2022-09-20T09:48:06.122785Z"
    }
   },
   "outputs": [
    {
     "name": "stdout",
     "output_type": "stream",
     "text": [
      "Train dates : 2019-01-01 00:00:00 --- 2023-05-31 00:00:00  (n=1612)\n",
      "Test dates  : 2023-06-01 00:00:00 --- 2023-12-31 00:00:00  (n=214)\n"
     ]
    }
   ],
   "source": [
    "# Split data into train-val-test\n",
    "# ==============================================================================\n",
    "end_train = '2023-05-31 23:59:59'\n",
    "data_train = data.loc[:end_train, :].copy()\n",
    "data_test  = data.loc[end_train:, :].copy()\n",
    "\n",
    "print(\n",
    "    f\"Train dates : {data_train.index.min()} --- {data_train.index.max()}  \"\n",
    "    f\"(n={len(data_train)})\"\n",
    ")\n",
    "print(\n",
    "    f\"Test dates  : {data_test.index.min()} --- {data_test.index.max()}  \"\n",
    "    f\"(n={len(data_test)})\"\n",
    ")"
   ]
  },
  {
   "cell_type": "code",
   "execution_count": 5,
   "id": "2c0ee344",
   "metadata": {
    "ExecuteTime": {
     "end_time": "2022-09-20T09:48:45.616852Z",
     "start_time": "2022-09-20T09:48:45.150172Z"
    }
   },
   "outputs": [
    {
     "data": {
      "image/png": "[encoded data removed]",
      "text/plain": [
       "<Figure size 800x500 with 3 Axes>"
      ]
     },
     "metadata": {},
     "output_type": "display_data"
    }
   ],
   "source": [
    "# Plot time series\n",
    "# ==============================================================================\n",
    "set_dark_theme()\n",
    "fig, axes = plt.subplots(nrows=3, ncols=1, figsize=(8, 5), sharex=True)\n",
    "for i, col in enumerate(data.columns[:3]):\n",
    "    data_train[col].plot(ax=axes[i], label='train')\n",
    "    data_test[col].plot(ax=axes[i], label='test')\n",
    "    axes[i].set_ylabel('Concentration(ug/m^3)', fontsize=8)\n",
    "    axes[i].set_title(col)\n",
    "    axes[i].legend(loc='upper right')\n",
    "\n",
    "fig.tight_layout()\n",
    "plt.show();"
   ]
  },
  {
   "attachments": {},
   "cell_type": "markdown",
   "id": "9801a209-b601-4d9b-aa3c-a2e03df98c98",
   "metadata": {},
   "source": [
    "## Train and predict ForecasterDirectMultiVariate\n",
    "\n",
    "When initializing the forecaster, the series (`level`) to be predicted and the maximum number of `steps` must be indicated since a different model will be created for each step."
   ]
  },
  {
   "cell_type": "markdown",
   "id": "3348a200",
   "metadata": {},
   "source": [
    "<div class=\"admonition note\" name=\"html-admonition\" style=\"background: rgba(0,184,212,.1); padding-top: 0px; padding-bottom: 6px; border-radius: 8px; border-left: 8px solid #00b8d4; border-color: #00b8d4; padding-left: 10px; padding-right: 10px;\">\n",
    "\n",
    "<p class=\"title\">\n",
    "    <i style=\"font-size: 18px; color:#00b8d4;\"></i>\n",
    "    <b style=\"color: #00b8d4;\">&#9998 Note</b>\n",
    "</p>\n",
    "\n",
    "<code>ForecasterDirectMultiVariate</code> includes the <code>n_jobs</code> parameter, allowing multi-process parallelization. This allows to train regressors for all steps simultaneously.\n",
    "\n",
    "The benefits of parallelization depend on several factors, including the regressor used, the number of fits to be performed, and the volume of data involved. When the <code>n_jobs</code> parameter is set to <code>'auto'</code>, the level of parallelization is automatically selected based on heuristic rules that aim to choose the best option for each scenario.\n",
    "\n",
    "For a more detailed look at parallelization, visit <a href=\"../faq/parallelization-skforecast.html\">Parallelization in skforecast</a>.\n",
    "\n",
    "</div>"
   ]
  },
  {
   "cell_type": "code",
   "execution_count": 6,
   "id": "349d1b95-5b16-4620-a46e-d595b4187ebe",
   "metadata": {
    "ExecuteTime": {
     "end_time": "2022-09-20T09:59:14.441502Z",
     "start_time": "2022-09-20T09:59:14.404629Z"
    }
   },
   "outputs": [
    {
     "data": {
      "text/html": [
       "\n",
       "    <style>\n",
       "        .container-b8887ad9f04448c3a6851b3f37b18a25 {\n",
       "            font-family: 'Arial', sans-serif;\n",
       "            font-size: 0.9em;\n",
       "            color: #333333;\n",
       "            border: 1px solid #ddd;\n",
       "            background-color: #f0f8ff;\n",
       "            padding: 5px 15px;\n",
       "            border-radius: 8px;\n",
       "            max-width: 600px;\n",
       "            #margin: auto;\n",
       "        }\n",
       "        .container-b8887ad9f04448c3a6851b3f37b18a25 h2 {\n",
       "            font-size: 1.5em;\n",
       "            color: #222222;\n",
       "            border-bottom: 2px solid #ddd;\n",
       "            padding-bottom: 5px;\n",
       "            margin-bottom: 15px;\n",
       "            margin-top: 5px;\n",
       "        }\n",
       "        .container-b8887ad9f04448c3a6851b3f37b18a25 details {\n",
       "            margin: 10px 0;\n",
       "        }\n",
       "        .container-b8887ad9f04448c3a6851b3f37b18a25 summary {\n",
       "            font-weight: bold;\n",
       "            font-size: 1.1em;\n",
       "            color: #000000;\n",
       "            cursor: pointer;\n",
       "            margin-bottom: 5px;\n",
       "            background-color: #b3dbfd;\n",
       "            padding: 5px;\n",
       "            border-radius: 5px;\n",
       "        }\n",
       "        .container-b8887ad9f04448c3a6851b3f37b18a25 summary:hover {\n",
       "            color: #000000;\n",
       "            background-color: #e0e0e0;\n",
       "        }\n",
       "        .container-b8887ad9f04448c3a6851b3f37b18a25 ul {\n",
       "            font-family: 'Courier New', monospace;\n",
       "            list-style-type: none;\n",
       "            padding-left: 20px;\n",
       "            margin: 10px 0;\n",
       "            line-height: normal;\n",
       "        }\n",
       "        .container-b8887ad9f04448c3a6851b3f37b18a25 li {\n",
       "            margin: 5px 0;\n",
       "            font-family: 'Courier New', monospace;\n",
       "        }\n",
       "        .container-b8887ad9f04448c3a6851b3f37b18a25 li strong {\n",
       "            font-weight: bold;\n",
       "            color: #444444;\n",
       "        }\n",
       "        .container-b8887ad9f04448c3a6851b3f37b18a25 li::before {\n",
       "            content: \"- \";\n",
       "            color: #666666;\n",
       "        }\n",
       "        .container-b8887ad9f04448c3a6851b3f37b18a25 a {\n",
       "            color: #001633;\n",
       "            text-decoration: none;\n",
       "        }\n",
       "        .container-b8887ad9f04448c3a6851b3f37b18a25 a:hover {\n",
       "            color: #359ccb; \n",
       "        }\n",
       "    </style>\n",
       "    \n",
       "        <div class=\"container-b8887ad9f04448c3a6851b3f37b18a25\">\n",
       "            <h2>ForecasterDirectMultiVariate</h2>\n",
       "            <details open>\n",
       "                <summary>General Information</summary>\n",
       "                <ul>\n",
       "                    <li><strong>Regressor:</strong> LGBMRegressor</li>\n",
       "                    <li><strong>Target series (level):</strong> co</li>\n",
       "                    <li><strong>Lags:</strong> [1 2 3 4 5 6 7]</li>\n",
       "                    <li><strong>Window features:</strong> ['roll_mean_7']</li>\n",
       "                    <li><strong>Window size:</strong> 7</li>\n",
       "                    <li><strong>Maximum steps to predict:</strong> 7</li>\n",
       "                    <li><strong>Exogenous included:</strong> False</li>\n",
       "                    <li><strong>Weight function included:</strong> False</li>\n",
       "                    <li><strong>Differentiation order:</strong> None</li>\n",
       "                    <li><strong>Creation date:</strong> 2025-03-07 11:02:19</li>\n",
       "                    <li><strong>Last fit date:</strong> 2025-03-07 11:02:21</li>\n",
       "                    <li><strong>Skforecast version:</strong> 0.15.0</li>\n",
       "                    <li><strong>Python version:</strong> 3.12.9</li>\n",
       "                    <li><strong>Forecaster id:</strong> None</li>\n",
       "                </ul>\n",
       "            </details>\n",
       "            <details>\n",
       "                <summary>Exogenous Variables</summary>\n",
       "                <ul>\n",
       "                    None\n",
       "                </ul>\n",
       "            </details>\n",
       "            <details>\n",
       "                <summary>Data Transformations</summary>\n",
       "                <ul>\n",
       "                    <li><strong>Transformer for series:</strong> None</li>\n",
       "                    <li><strong>Transformer for exog:</strong> None</li>\n",
       "                </ul>\n",
       "            </details>\n",
       "            <details>\n",
       "                <summary>Training Information</summary>\n",
       "                <ul>\n",
       "                    <li><strong>Target series (level):</strong> co</li>\n",
       "                    <li><strong>Multivariate series:</strong> so2, co, no, no2, pm10, nox, o3, veloc., direc., pm2.5</li>\n",
       "                    <li><strong>Training range:</strong> [Timestamp('2019-01-01 00:00:00'), Timestamp('2023-05-31 00:00:00')]</li>\n",
       "                    <li><strong>Training index type:</strong> DatetimeIndex</li>\n",
       "                    <li><strong>Training index frequency:</strong> D</li>\n",
       "                </ul>\n",
       "            </details>\n",
       "            <details>\n",
       "                <summary>Regressor Parameters</summary>\n",
       "                <ul>\n",
       "                    {'boosting_type': 'gbdt', 'class_weight': None, 'colsample_bytree': 1.0, 'importance_type': 'split', 'learning_rate': 0.1, 'max_depth': -1, 'min_child_samples': 20, 'min_child_weight': 0.001, 'min_split_gain': 0.0, 'n_estimators': 100, 'n_jobs': None, 'num_leaves': 31, 'objective': None, 'random_state': 123, 'reg_alpha': 0.0, 'reg_lambda': 0.0, 'subsample': 1.0, 'subsample_for_bin': 200000, 'subsample_freq': 0, 'verbose': -1}\n",
       "                </ul>\n",
       "            </details>\n",
       "            <details>\n",
       "                <summary>Fit Kwargs</summary>\n",
       "                <ul>\n",
       "                    {}\n",
       "                </ul>\n",
       "            </details>\n",
       "            <p>\n",
       "                <a href=\"https://skforecast.org/0.15.0/api/forecasterdirectmultivariate.html\">&#128712 <strong>API Reference</strong></a>\n",
       "                &nbsp;&nbsp;\n",
       "                <a href=\"https://skforecast.org/0.15.0/user_guides/dependent-multi-series-multivariate-forecasting.html\">&#128462 <strong>User Guide</strong></a>\n",
       "            </p>\n",
       "        </div>\n",
       "        "
      ],
      "text/plain": [
       "============================ \n",
       "ForecasterDirectMultiVariate \n",
       "============================ \n",
       "Regressor: LGBMRegressor \n",
       "Target series (level): co \n",
       "Lags: [1 2 3 4 5 6 7] \n",
       "Window features: ['roll_mean_7'] \n",
       "Window size: 7 \n",
       "Maximum steps to predict: 7 \n",
       "Multivariate series: so2, co, no, no2, pm10, nox, o3, veloc., direc., pm2.5 \n",
       "Exogenous included: False \n",
       "Exogenous names: None \n",
       "Transformer for series: None \n",
       "Transformer for exog: None \n",
       "Weight function included: False \n",
       "Differentiation order: None \n",
       "Training range: [Timestamp('2019-01-01 00:00:00'), Timestamp('2023-05-31 00:00:00')] \n",
       "Training index type: DatetimeIndex \n",
       "Training index frequency: D \n",
       "Regressor parameters: \n",
       "    {'boosting_type': 'gbdt', 'class_weight': None, 'colsample_bytree': 1.0,\n",
       "    'importance_type': 'split', 'learning_rate': 0.1, 'max_depth': -1,\n",
       "    'min_child_samples': 20, 'min_child_weight': 0.001, 'min_split_gain': 0.0,\n",
       "    'n_estimators': 100, 'n_jobs': None, 'num_leaves': 31, 'objective': None,\n",
       "    'random_state': 123, 'reg_alpha': 0.0, 'reg_lambda': 0.0, 'subsample': 1.0,\n",
       "    'subsample_for_bin': 200000, 'subsample_freq': 0, 'verbose': -1} \n",
       "fit_kwargs: {} \n",
       "Creation date: 2025-03-07 11:02:19 \n",
       "Last fit date: 2025-03-07 11:02:21 \n",
       "Skforecast version: 0.15.0 \n",
       "Python version: 3.12.9 \n",
       "Forecaster id: None "
      ]
     },
     "execution_count": 6,
     "metadata": {},
     "output_type": "execute_result"
    }
   ],
   "source": [
    "# Create and fit forecaster MultiVariate\n",
    "# ==============================================================================\n",
    "forecaster = ForecasterDirectMultiVariate(\n",
    "                 regressor          = LGBMRegressor(random_state=123, verbose=-1),\n",
    "                 level              = 'co',\n",
    "                 steps              = 7,\n",
    "                 lags               = 7,\n",
    "                 window_features    = RollingFeatures(stats=['mean'], window_sizes=[7]),\n",
    "                 transformer_series = None,\n",
    "                 transformer_exog   = None\n",
    "             )\n",
    "\n",
    "forecaster.fit(series=data_train)\n",
    "forecaster"
   ]
  },
  {
   "attachments": {},
   "cell_type": "markdown",
   "id": "4b5a783f",
   "metadata": {},
   "source": [
    "When predicting, the value of `steps` must be less than or equal to the value of steps defined when initializing the forecaster. Starts at 1.\n",
    "\n",
    "+ If `int` only steps within the range of 1 to int are predicted.\n",
    "\n",
    "+ If `list` of `int`. Only the steps contained in the list are predicted.\n",
    "\n",
    "+ If `None` as many steps are predicted as were defined at initialization."
   ]
  },
  {
   "cell_type": "code",
   "execution_count": 7,
   "id": "f1bdf4f8-b999-4d97-899c-fbcc2af7066a",
   "metadata": {
    "ExecuteTime": {
     "end_time": "2022-09-20T10:00:26.432022Z",
     "start_time": "2022-09-20T10:00:25.599841Z"
    }
   },
   "outputs": [
    {
     "data": {
      "application/vnd.microsoft.datawrangler.viewer.v0+json": {
       "columns": [
        {
         "name": "index",
         "rawType": "datetime64[ns]",
         "type": "datetime"
        },
        {
         "name": "level",
         "rawType": "object",
         "type": "string"
        },
        {
         "name": "pred",
         "rawType": "float64",
         "type": "float"
        }
       ],
       "conversionMethod": "pd.DataFrame",
       "ref": "b9bd51aa-3cba-45ab-a8f3-9a1956d54cee",
       "rows": [
        [
         "2023-06-01 00:00:00",
         "co",
         "0.10016496277086648"
        ],
        [
         "2023-06-02 00:00:00",
         "co",
         "0.1086359160499904"
        ],
        [
         "2023-06-03 00:00:00",
         "co",
         "0.11370958216486692"
        ],
        [
         "2023-06-04 00:00:00",
         "co",
         "0.1031022137882522"
        ],
        [
         "2023-06-05 00:00:00",
         "co",
         "0.10551621806098296"
        ],
        [
         "2023-06-06 00:00:00",
         "co",
         "0.11402905666581155"
        ],
        [
         "2023-06-07 00:00:00",
         "co",
         "0.11027385640749356"
        ]
       ],
       "shape": {
        "columns": 2,
        "rows": 7
       }
      },
      "text/html": [
       "<div>\n",
       "<style scoped>\n",
       "    .dataframe tbody tr th:only-of-type {\n",
       "        vertical-align: middle;\n",
       "    }\n",
       "\n",
       "    .dataframe tbody tr th {\n",
       "        vertical-align: top;\n",
       "    }\n",
       "\n",
       "    .dataframe thead th {\n",
       "        text-align: right;\n",
       "    }\n",
       "</style>\n",
       "<table border=\"1\" class=\"dataframe\">\n",
       "  <thead>\n",
       "    <tr style=\"text-align: right;\">\n",
       "      <th></th>\n",
       "      <th>level</th>\n",
       "      <th>pred</th>\n",
       "    </tr>\n",
       "  </thead>\n",
       "  <tbody>\n",
       "    <tr>\n",
       "      <th>2023-06-01</th>\n",
       "      <td>co</td>\n",
       "      <td>0.100165</td>\n",
       "    </tr>\n",
       "    <tr>\n",
       "      <th>2023-06-02</th>\n",
       "      <td>co</td>\n",
       "      <td>0.108636</td>\n",
       "    </tr>\n",
       "    <tr>\n",
       "      <th>2023-06-03</th>\n",
       "      <td>co</td>\n",
       "      <td>0.113710</td>\n",
       "    </tr>\n",
       "    <tr>\n",
       "      <th>2023-06-04</th>\n",
       "      <td>co</td>\n",
       "      <td>0.103102</td>\n",
       "    </tr>\n",
       "    <tr>\n",
       "      <th>2023-06-05</th>\n",
       "      <td>co</td>\n",
       "      <td>0.105516</td>\n",
       "    </tr>\n",
       "    <tr>\n",
       "      <th>2023-06-06</th>\n",
       "      <td>co</td>\n",
       "      <td>0.114029</td>\n",
       "    </tr>\n",
       "    <tr>\n",
       "      <th>2023-06-07</th>\n",
       "      <td>co</td>\n",
       "      <td>0.110274</td>\n",
       "    </tr>\n",
       "  </tbody>\n",
       "</table>\n",
       "</div>"
      ],
      "text/plain": [
       "           level      pred\n",
       "2023-06-01    co  0.100165\n",
       "2023-06-02    co  0.108636\n",
       "2023-06-03    co  0.113710\n",
       "2023-06-04    co  0.103102\n",
       "2023-06-05    co  0.105516\n",
       "2023-06-06    co  0.114029\n",
       "2023-06-07    co  0.110274"
      ]
     },
     "execution_count": 7,
     "metadata": {},
     "output_type": "execute_result"
    }
   ],
   "source": [
    "# Predict with forecaster MultiVariate\n",
    "# ==============================================================================\n",
    "predictions = forecaster.predict(steps=None)  # All steps\n",
    "predictions"
   ]
  },
  {
   "cell_type": "code",
   "execution_count": 8,
   "id": "c7b1f549",
   "metadata": {},
   "outputs": [
    {
     "data": {
      "application/vnd.microsoft.datawrangler.viewer.v0+json": {
       "columns": [
        {
         "name": "index",
         "rawType": "datetime64[ns]",
         "type": "datetime"
        },
        {
         "name": "level",
         "rawType": "object",
         "type": "string"
        },
        {
         "name": "pred",
         "rawType": "float64",
         "type": "float"
        }
       ],
       "conversionMethod": "pd.DataFrame",
       "ref": "484ff8b2-70c3-4449-b04d-1a18cc65cc62",
       "rows": [
        [
         "2023-06-01 00:00:00",
         "co",
         "0.10016496277086648"
        ],
        [
         "2023-06-05 00:00:00",
         "co",
         "0.10551621806098296"
        ]
       ],
       "shape": {
        "columns": 2,
        "rows": 2
       }
      },
      "text/html": [
       "<div>\n",
       "<style scoped>\n",
       "    .dataframe tbody tr th:only-of-type {\n",
       "        vertical-align: middle;\n",
       "    }\n",
       "\n",
       "    .dataframe tbody tr th {\n",
       "        vertical-align: top;\n",
       "    }\n",
       "\n",
       "    .dataframe thead th {\n",
       "        text-align: right;\n",
       "    }\n",
       "</style>\n",
       "<table border=\"1\" class=\"dataframe\">\n",
       "  <thead>\n",
       "    <tr style=\"text-align: right;\">\n",
       "      <th></th>\n",
       "      <th>level</th>\n",
       "      <th>pred</th>\n",
       "    </tr>\n",
       "  </thead>\n",
       "  <tbody>\n",
       "    <tr>\n",
       "      <th>2023-06-01</th>\n",
       "      <td>co</td>\n",
       "      <td>0.100165</td>\n",
       "    </tr>\n",
       "    <tr>\n",
       "      <th>2023-06-05</th>\n",
       "      <td>co</td>\n",
       "      <td>0.105516</td>\n",
       "    </tr>\n",
       "  </tbody>\n",
       "</table>\n",
       "</div>"
      ],
      "text/plain": [
       "           level      pred\n",
       "2023-06-01    co  0.100165\n",
       "2023-06-05    co  0.105516"
      ]
     },
     "execution_count": 8,
     "metadata": {},
     "output_type": "execute_result"
    }
   ],
   "source": [
    "# Predict only a subset of steps\n",
    "# ==============================================================================\n",
    "predictions = forecaster.predict(steps=[1, 5])\n",
    "predictions"
   ]
  },
  {
   "cell_type": "code",
   "execution_count": 9,
   "id": "e7be1699",
   "metadata": {},
   "outputs": [
    {
     "data": {
      "application/vnd.microsoft.datawrangler.viewer.v0+json": {
       "columns": [
        {
         "name": "index",
         "rawType": "datetime64[ns]",
         "type": "datetime"
        },
        {
         "name": "level",
         "rawType": "object",
         "type": "string"
        },
        {
         "name": "pred",
         "rawType": "float64",
         "type": "float"
        },
        {
         "name": "lower_bound",
         "rawType": "float64",
         "type": "float"
        },
        {
         "name": "upper_bound",
         "rawType": "float64",
         "type": "float"
        }
       ],
       "conversionMethod": "pd.DataFrame",
       "ref": "e8dff421-2155-4aa4-824c-543612a7e036",
       "rows": [
        [
         "2023-06-01 00:00:00",
         "co",
         "0.10016496277086648",
         "0.09653301416887719",
         "0.10379691137285577"
        ],
        [
         "2023-06-02 00:00:00",
         "co",
         "0.1086359160499904",
         "0.09961519317219131",
         "0.11765663892778949"
        ],
        [
         "2023-06-03 00:00:00",
         "co",
         "0.11370958216486692",
         "0.10192894616374722",
         "0.12549021816598663"
        ],
        [
         "2023-06-04 00:00:00",
         "co",
         "0.1031022137882522",
         "0.09996694717829946",
         "0.10623748039820494"
        ],
        [
         "2023-06-05 00:00:00",
         "co",
         "0.10551621806098296",
         "0.0997852217679982",
         "0.11124721435396773"
        ],
        [
         "2023-06-06 00:00:00",
         "co",
         "0.11402905666581155",
         "0.10224842066469185",
         "0.12580969266693126"
        ],
        [
         "2023-06-07 00:00:00",
         "co",
         "0.11027385640749356",
         "0.09849322040637386",
         "0.12205449240861325"
        ]
       ],
       "shape": {
        "columns": 4,
        "rows": 7
       }
      },
      "text/html": [
       "<div>\n",
       "<style scoped>\n",
       "    .dataframe tbody tr th:only-of-type {\n",
       "        vertical-align: middle;\n",
       "    }\n",
       "\n",
       "    .dataframe tbody tr th {\n",
       "        vertical-align: top;\n",
       "    }\n",
       "\n",
       "    .dataframe thead th {\n",
       "        text-align: right;\n",
       "    }\n",
       "</style>\n",
       "<table border=\"1\" class=\"dataframe\">\n",
       "  <thead>\n",
       "    <tr style=\"text-align: right;\">\n",
       "      <th></th>\n",
       "      <th>level</th>\n",
       "      <th>pred</th>\n",
       "      <th>lower_bound</th>\n",
       "      <th>upper_bound</th>\n",
       "    </tr>\n",
       "  </thead>\n",
       "  <tbody>\n",
       "    <tr>\n",
       "      <th>2023-06-01</th>\n",
       "      <td>co</td>\n",
       "      <td>0.100165</td>\n",
       "      <td>0.096533</td>\n",
       "      <td>0.103797</td>\n",
       "    </tr>\n",
       "    <tr>\n",
       "      <th>2023-06-02</th>\n",
       "      <td>co</td>\n",
       "      <td>0.108636</td>\n",
       "      <td>0.099615</td>\n",
       "      <td>0.117657</td>\n",
       "    </tr>\n",
       "    <tr>\n",
       "      <th>2023-06-03</th>\n",
       "      <td>co</td>\n",
       "      <td>0.113710</td>\n",
       "      <td>0.101929</td>\n",
       "      <td>0.125490</td>\n",
       "    </tr>\n",
       "    <tr>\n",
       "      <th>2023-06-04</th>\n",
       "      <td>co</td>\n",
       "      <td>0.103102</td>\n",
       "      <td>0.099967</td>\n",
       "      <td>0.106237</td>\n",
       "    </tr>\n",
       "    <tr>\n",
       "      <th>2023-06-05</th>\n",
       "      <td>co</td>\n",
       "      <td>0.105516</td>\n",
       "      <td>0.099785</td>\n",
       "      <td>0.111247</td>\n",
       "    </tr>\n",
       "    <tr>\n",
       "      <th>2023-06-06</th>\n",
       "      <td>co</td>\n",
       "      <td>0.114029</td>\n",
       "      <td>0.102248</td>\n",
       "      <td>0.125810</td>\n",
       "    </tr>\n",
       "    <tr>\n",
       "      <th>2023-06-07</th>\n",
       "      <td>co</td>\n",
       "      <td>0.110274</td>\n",
       "      <td>0.098493</td>\n",
       "      <td>0.122054</td>\n",
       "    </tr>\n",
       "  </tbody>\n",
       "</table>\n",
       "</div>"
      ],
      "text/plain": [
       "           level      pred  lower_bound  upper_bound\n",
       "2023-06-01    co  0.100165     0.096533     0.103797\n",
       "2023-06-02    co  0.108636     0.099615     0.117657\n",
       "2023-06-03    co  0.113710     0.101929     0.125490\n",
       "2023-06-04    co  0.103102     0.099967     0.106237\n",
       "2023-06-05    co  0.105516     0.099785     0.111247\n",
       "2023-06-06    co  0.114029     0.102248     0.125810\n",
       "2023-06-07    co  0.110274     0.098493     0.122054"
      ]
     },
     "execution_count": 9,
     "metadata": {},
     "output_type": "execute_result"
    }
   ],
   "source": [
    "# Predict intervals using in-sample residuals\n",
    "# ==============================================================================\n",
    "forecaster.set_in_sample_residuals(series=data_train)\n",
    "predictions = forecaster.predict_interval(random_state=9871)\n",
    "predictions"
   ]
  },
  {
   "cell_type": "markdown",
   "id": "45725386",
   "metadata": {},
   "source": [
    "To learn more about probabilistic forecasting features available in skforecast, see [probabilistic forecasting](../user_guides/probabilistic-forecasting-overview.html). "
   ]
  },
  {
   "attachments": {},
   "cell_type": "markdown",
   "id": "bfc89fd7",
   "metadata": {},
   "source": [
    "## Backtesting MultiVariate\n",
    "\n",
    "See the [backtesting user guide](../user_guides/backtesting.html) to learn more about backtesting."
   ]
  },
  {
   "cell_type": "code",
   "execution_count": 10,
   "id": "b1b53f4b-be13-4e7b-bfdd-2cf0f3492452",
   "metadata": {
    "ExecuteTime": {
     "end_time": "2022-09-20T11:01:44.610083Z",
     "start_time": "2022-09-20T11:01:44.092807Z"
    }
   },
   "outputs": [
    {
     "data": {
      "application/vnd.jupyter.widget-view+json": {
       "model_id": "7b97412933c847c4aafefaa6293494de",
       "version_major": 2,
       "version_minor": 0
      },
      "text/plain": [
       "  0%|          | 0/31 [00:00<?, ?it/s]"
      ]
     },
     "metadata": {},
     "output_type": "display_data"
    },
    {
     "data": {
      "application/vnd.microsoft.datawrangler.viewer.v0+json": {
       "columns": [
        {
         "name": "index",
         "rawType": "int64",
         "type": "integer"
        },
        {
         "name": "levels",
         "rawType": "object",
         "type": "string"
        },
        {
         "name": "mean_absolute_error",
         "rawType": "float64",
         "type": "float"
        }
       ],
       "conversionMethod": "pd.DataFrame",
       "ref": "06c1a0f1-006b-4666-b63c-9481f3eb4539",
       "rows": [
        [
         "0",
         "co",
         "0.016992827246347673"
        ]
       ],
       "shape": {
        "columns": 2,
        "rows": 1
       }
      },
      "text/html": [
       "<div>\n",
       "<style scoped>\n",
       "    .dataframe tbody tr th:only-of-type {\n",
       "        vertical-align: middle;\n",
       "    }\n",
       "\n",
       "    .dataframe tbody tr th {\n",
       "        vertical-align: top;\n",
       "    }\n",
       "\n",
       "    .dataframe thead th {\n",
       "        text-align: right;\n",
       "    }\n",
       "</style>\n",
       "<table border=\"1\" class=\"dataframe\">\n",
       "  <thead>\n",
       "    <tr style=\"text-align: right;\">\n",
       "      <th></th>\n",
       "      <th>levels</th>\n",
       "      <th>mean_absolute_error</th>\n",
       "    </tr>\n",
       "  </thead>\n",
       "  <tbody>\n",
       "    <tr>\n",
       "      <th>0</th>\n",
       "      <td>co</td>\n",
       "      <td>0.016993</td>\n",
       "    </tr>\n",
       "  </tbody>\n",
       "</table>\n",
       "</div>"
      ],
      "text/plain": [
       "  levels  mean_absolute_error\n",
       "0     co             0.016993"
      ]
     },
     "metadata": {},
     "output_type": "display_data"
    },
    {
     "data": {
      "application/vnd.microsoft.datawrangler.viewer.v0+json": {
       "columns": [
        {
         "name": "index",
         "rawType": "datetime64[ns]",
         "type": "datetime"
        },
        {
         "name": "level",
         "rawType": "object",
         "type": "string"
        },
        {
         "name": "pred",
         "rawType": "float64",
         "type": "float"
        }
       ],
       "conversionMethod": "pd.DataFrame",
       "ref": "a176bdb2-19a3-4fac-816e-173b355f73e9",
       "rows": [
        [
         "2023-06-01 00:00:00",
         "co",
         "0.10016496277086648"
        ],
        [
         "2023-06-02 00:00:00",
         "co",
         "0.1086359160499904"
        ],
        [
         "2023-06-03 00:00:00",
         "co",
         "0.11370958216486692"
        ],
        [
         "2023-06-04 00:00:00",
         "co",
         "0.1031022137882522"
        ]
       ],
       "shape": {
        "columns": 2,
        "rows": 4
       }
      },
      "text/html": [
       "<div>\n",
       "<style scoped>\n",
       "    .dataframe tbody tr th:only-of-type {\n",
       "        vertical-align: middle;\n",
       "    }\n",
       "\n",
       "    .dataframe tbody tr th {\n",
       "        vertical-align: top;\n",
       "    }\n",
       "\n",
       "    .dataframe thead th {\n",
       "        text-align: right;\n",
       "    }\n",
       "</style>\n",
       "<table border=\"1\" class=\"dataframe\">\n",
       "  <thead>\n",
       "    <tr style=\"text-align: right;\">\n",
       "      <th></th>\n",
       "      <th>level</th>\n",
       "      <th>pred</th>\n",
       "    </tr>\n",
       "  </thead>\n",
       "  <tbody>\n",
       "    <tr>\n",
       "      <th>2023-06-01</th>\n",
       "      <td>co</td>\n",
       "      <td>0.100165</td>\n",
       "    </tr>\n",
       "    <tr>\n",
       "      <th>2023-06-02</th>\n",
       "      <td>co</td>\n",
       "      <td>0.108636</td>\n",
       "    </tr>\n",
       "    <tr>\n",
       "      <th>2023-06-03</th>\n",
       "      <td>co</td>\n",
       "      <td>0.113710</td>\n",
       "    </tr>\n",
       "    <tr>\n",
       "      <th>2023-06-04</th>\n",
       "      <td>co</td>\n",
       "      <td>0.103102</td>\n",
       "    </tr>\n",
       "  </tbody>\n",
       "</table>\n",
       "</div>"
      ],
      "text/plain": [
       "           level      pred\n",
       "2023-06-01    co  0.100165\n",
       "2023-06-02    co  0.108636\n",
       "2023-06-03    co  0.113710\n",
       "2023-06-04    co  0.103102"
      ]
     },
     "execution_count": 10,
     "metadata": {},
     "output_type": "execute_result"
    }
   ],
   "source": [
    "# Backtesting MultiVariate\n",
    "# ==============================================================================\n",
    "cv = TimeSeriesFold(\n",
    "         steps                 = 7,\n",
    "         initial_train_size    = len(data_train),\n",
    "         refit                 = False,\n",
    "         allow_incomplete_fold = True\n",
    "     )\n",
    "\n",
    "metrics_levels, backtest_predictions = backtesting_forecaster_multiseries(\n",
    "                                           forecaster = forecaster,\n",
    "                                           series     = data,\n",
    "                                           cv         = cv,\n",
    "                                           metric     = 'mean_absolute_error'\n",
    "                                       )\n",
    "display(metrics_levels)\n",
    "backtest_predictions.head(4)"
   ]
  },
  {
   "attachments": {},
   "cell_type": "markdown",
   "id": "0d93ddc5",
   "metadata": {},
   "source": [
    "## Hyperparameter tuning and lags selection MultiVariate\n",
    "\n",
    "The `grid_search_forecaster_multiseries`, `random_search_forecaster_multiseries` and `bayesian_search_forecaster_multiseries` functions in the `model_selection` module allow for lags and hyperparameter optimization. It is performed using the backtesting strategy for validation as in other Forecasters, [see the user guide here](../user_guides/hyperparameter-tuning-and-lags-selection.html).\n",
    "\n",
    "The following example shows how to use `random_search_forecaster_multiseries` to find the best lags and model hyperparameters."
   ]
  },
  {
   "cell_type": "code",
   "execution_count": 11,
   "id": "6413fa80",
   "metadata": {},
   "outputs": [],
   "source": [
    "# Create and forecaster MultiVariate\n",
    "# ==============================================================================\n",
    "forecaster = ForecasterDirectMultiVariate(\n",
    "                 regressor          = LGBMRegressor(random_state=123, verbose=-1),\n",
    "                 level              = 'co',\n",
    "                 steps              = 7,\n",
    "                 lags               = 7,\n",
    "                 window_features    = RollingFeatures(stats=['mean'], window_sizes=[7])\n",
    "             )"
   ]
  },
  {
   "cell_type": "code",
   "execution_count": 12,
   "id": "8d8a8721",
   "metadata": {},
   "outputs": [
    {
     "data": {
      "application/vnd.jupyter.widget-view+json": {
       "model_id": "4e38d7a9c9284a1da11ff84788a6092b",
       "version_major": 2,
       "version_minor": 0
      },
      "text/plain": [
       "lags grid:   0%|          | 0/2 [00:00<?, ?it/s]"
      ]
     },
     "metadata": {},
     "output_type": "display_data"
    },
    {
     "data": {
      "application/vnd.jupyter.widget-view+json": {
       "model_id": "34b56ccdf6104ee3b26f11826984dae0",
       "version_major": 2,
       "version_minor": 0
      },
      "text/plain": [
       "params grid:   0%|          | 0/5 [00:00<?, ?it/s]"
      ]
     },
     "metadata": {},
     "output_type": "display_data"
    },
    {
     "name": "stdout",
     "output_type": "stream",
     "text": [
      "`Forecaster` refitted using the best-found lags and parameters, and the whole data set: \n",
      "  Lags: [ 1  2  3  4  5  6  7  8  9 10 11 12 13 14] \n",
      "  Parameters: {'n_estimators': np.int64(19), 'max_depth': np.int64(5)}\n",
      "  Backtesting metric: 0.016567112132881933\n",
      "  Levels: ['co']\n",
      "\n"
     ]
    },
    {
     "data": {
      "application/vnd.microsoft.datawrangler.viewer.v0+json": {
       "columns": [
        {
         "name": "index",
         "rawType": "int64",
         "type": "integer"
        },
        {
         "name": "levels",
         "rawType": "object",
         "type": "unknown"
        },
        {
         "name": "lags",
         "rawType": "object",
         "type": "unknown"
        },
        {
         "name": "lags_label",
         "rawType": "object",
         "type": "unknown"
        },
        {
         "name": "params",
         "rawType": "object",
         "type": "unknown"
        },
        {
         "name": "mean_absolute_error",
         "rawType": "float64",
         "type": "float"
        },
        {
         "name": "n_estimators",
         "rawType": "int64",
         "type": "integer"
        },
        {
         "name": "max_depth",
         "rawType": "int64",
         "type": "integer"
        }
       ],
       "conversionMethod": "pd.DataFrame",
       "ref": "b3b97299-55ac-4f9d-89e5-a29b9383f3f8",
       "rows": [
        [
         "0",
         "['co']",
         "[ 1  2  3  4  5  6  7  8  9 10 11 12 13 14]",
         "[ 1  2  3  4  5  6  7  8  9 10 11 12 13 14]",
         "{'n_estimators': np.int64(19), 'max_depth': np.int64(5)}",
         "0.016567112132881933",
         "19",
         "5"
        ],
        [
         "1",
         "['co']",
         "[ 1  2  3  4  5  6  7  8  9 10 11 12 13 14]",
         "[ 1  2  3  4  5  6  7  8  9 10 11 12 13 14]",
         "{'n_estimators': np.int64(16), 'max_depth': np.int64(5)}",
         "0.01732880897948441",
         "16",
         "5"
        ],
        [
         "2",
         "['co']",
         "[1 2 3 4 5 6 7]",
         "[1 2 3 4 5 6 7]",
         "{'n_estimators': np.int64(18), 'max_depth': np.int64(3)}",
         "0.01770456238363849",
         "18",
         "3"
        ],
        [
         "3",
         "['co']",
         "[1 2 3 4 5 6 7]",
         "[1 2 3 4 5 6 7]",
         "{'n_estimators': np.int64(19), 'max_depth': np.int64(5)}",
         "0.01772445964664509",
         "19",
         "5"
        ],
        [
         "4",
         "['co']",
         "[ 1  2  3  4  5  6  7  8  9 10 11 12 13 14]",
         "[ 1  2  3  4  5  6  7  8  9 10 11 12 13 14]",
         "{'n_estimators': np.int64(18), 'max_depth': np.int64(3)}",
         "0.017854092312167325",
         "18",
         "3"
        ],
        [
         "5",
         "['co']",
         "[1 2 3 4 5 6 7]",
         "[1 2 3 4 5 6 7]",
         "{'n_estimators': np.int64(17), 'max_depth': np.int64(3)}",
         "0.017885068104903597",
         "17",
         "3"
        ],
        [
         "6",
         "['co']",
         "[1 2 3 4 5 6 7]",
         "[1 2 3 4 5 6 7]",
         "{'n_estimators': np.int64(16), 'max_depth': np.int64(5)}",
         "0.01792290745865073",
         "16",
         "5"
        ],
        [
         "7",
         "['co']",
         "[ 1  2  3  4  5  6  7  8  9 10 11 12 13 14]",
         "[ 1  2  3  4  5  6  7  8  9 10 11 12 13 14]",
         "{'n_estimators': np.int64(15), 'max_depth': np.int64(3)}",
         "0.018075856035801915",
         "15",
         "3"
        ],
        [
         "8",
         "['co']",
         "[ 1  2  3  4  5  6  7  8  9 10 11 12 13 14]",
         "[ 1  2  3  4  5  6  7  8  9 10 11 12 13 14]",
         "{'n_estimators': np.int64(17), 'max_depth': np.int64(3)}",
         "0.018101391862822964",
         "17",
         "3"
        ],
        [
         "9",
         "['co']",
         "[1 2 3 4 5 6 7]",
         "[1 2 3 4 5 6 7]",
         "{'n_estimators': np.int64(15), 'max_depth': np.int64(3)}",
         "0.01823547971888781",
         "15",
         "3"
        ]
       ],
       "shape": {
        "columns": 7,
        "rows": 10
       }
      },
      "text/html": [
       "<div>\n",
       "<style scoped>\n",
       "    .dataframe tbody tr th:only-of-type {\n",
       "        vertical-align: middle;\n",
       "    }\n",
       "\n",
       "    .dataframe tbody tr th {\n",
       "        vertical-align: top;\n",
       "    }\n",
       "\n",
       "    .dataframe thead th {\n",
       "        text-align: right;\n",
       "    }\n",
       "</style>\n",
       "<table border=\"1\" class=\"dataframe\">\n",
       "  <thead>\n",
       "    <tr style=\"text-align: right;\">\n",
       "      <th></th>\n",
       "      <th>levels</th>\n",
       "      <th>lags</th>\n",
       "      <th>lags_label</th>\n",
       "      <th>params</th>\n",
       "      <th>mean_absolute_error</th>\n",
       "      <th>n_estimators</th>\n",
       "      <th>max_depth</th>\n",
       "    </tr>\n",
       "  </thead>\n",
       "  <tbody>\n",
       "    <tr>\n",
       "      <th>0</th>\n",
       "      <td>[co]</td>\n",
       "      <td>[1, 2, 3, 4, 5, 6, 7, 8, 9, 10, 11, 12, 13, 14]</td>\n",
       "      <td>[1, 2, 3, 4, 5, 6, 7, 8, 9, 10, 11, 12, 13, 14]</td>\n",
       "      <td>{'n_estimators': 19, 'max_depth': 5}</td>\n",
       "      <td>0.016567</td>\n",
       "      <td>19</td>\n",
       "      <td>5</td>\n",
       "    </tr>\n",
       "    <tr>\n",
       "      <th>1</th>\n",
       "      <td>[co]</td>\n",
       "      <td>[1, 2, 3, 4, 5, 6, 7, 8, 9, 10, 11, 12, 13, 14]</td>\n",
       "      <td>[1, 2, 3, 4, 5, 6, 7, 8, 9, 10, 11, 12, 13, 14]</td>\n",
       "      <td>{'n_estimators': 16, 'max_depth': 5}</td>\n",
       "      <td>0.017329</td>\n",
       "      <td>16</td>\n",
       "      <td>5</td>\n",
       "    </tr>\n",
       "    <tr>\n",
       "      <th>2</th>\n",
       "      <td>[co]</td>\n",
       "      <td>[1, 2, 3, 4, 5, 6, 7]</td>\n",
       "      <td>[1, 2, 3, 4, 5, 6, 7]</td>\n",
       "      <td>{'n_estimators': 18, 'max_depth': 3}</td>\n",
       "      <td>0.017705</td>\n",
       "      <td>18</td>\n",
       "      <td>3</td>\n",
       "    </tr>\n",
       "    <tr>\n",
       "      <th>3</th>\n",
       "      <td>[co]</td>\n",
       "      <td>[1, 2, 3, 4, 5, 6, 7]</td>\n",
       "      <td>[1, 2, 3, 4, 5, 6, 7]</td>\n",
       "      <td>{'n_estimators': 19, 'max_depth': 5}</td>\n",
       "      <td>0.017724</td>\n",
       "      <td>19</td>\n",
       "      <td>5</td>\n",
       "    </tr>\n",
       "    <tr>\n",
       "      <th>4</th>\n",
       "      <td>[co]</td>\n",
       "      <td>[1, 2, 3, 4, 5, 6, 7, 8, 9, 10, 11, 12, 13, 14]</td>\n",
       "      <td>[1, 2, 3, 4, 5, 6, 7, 8, 9, 10, 11, 12, 13, 14]</td>\n",
       "      <td>{'n_estimators': 18, 'max_depth': 3}</td>\n",
       "      <td>0.017854</td>\n",
       "      <td>18</td>\n",
       "      <td>3</td>\n",
       "    </tr>\n",
       "    <tr>\n",
       "      <th>5</th>\n",
       "      <td>[co]</td>\n",
       "      <td>[1, 2, 3, 4, 5, 6, 7]</td>\n",
       "      <td>[1, 2, 3, 4, 5, 6, 7]</td>\n",
       "      <td>{'n_estimators': 17, 'max_depth': 3}</td>\n",
       "      <td>0.017885</td>\n",
       "      <td>17</td>\n",
       "      <td>3</td>\n",
       "    </tr>\n",
       "    <tr>\n",
       "      <th>6</th>\n",
       "      <td>[co]</td>\n",
       "      <td>[1, 2, 3, 4, 5, 6, 7]</td>\n",
       "      <td>[1, 2, 3, 4, 5, 6, 7]</td>\n",
       "      <td>{'n_estimators': 16, 'max_depth': 5}</td>\n",
       "      <td>0.017923</td>\n",
       "      <td>16</td>\n",
       "      <td>5</td>\n",
       "    </tr>\n",
       "    <tr>\n",
       "      <th>7</th>\n",
       "      <td>[co]</td>\n",
       "      <td>[1, 2, 3, 4, 5, 6, 7, 8, 9, 10, 11, 12, 13, 14]</td>\n",
       "      <td>[1, 2, 3, 4, 5, 6, 7, 8, 9, 10, 11, 12, 13, 14]</td>\n",
       "      <td>{'n_estimators': 15, 'max_depth': 3}</td>\n",
       "      <td>0.018076</td>\n",
       "      <td>15</td>\n",
       "      <td>3</td>\n",
       "    </tr>\n",
       "    <tr>\n",
       "      <th>8</th>\n",
       "      <td>[co]</td>\n",
       "      <td>[1, 2, 3, 4, 5, 6, 7, 8, 9, 10, 11, 12, 13, 14]</td>\n",
       "      <td>[1, 2, 3, 4, 5, 6, 7, 8, 9, 10, 11, 12, 13, 14]</td>\n",
       "      <td>{'n_estimators': 17, 'max_depth': 3}</td>\n",
       "      <td>0.018101</td>\n",
       "      <td>17</td>\n",
       "      <td>3</td>\n",
       "    </tr>\n",
       "    <tr>\n",
       "      <th>9</th>\n",
       "      <td>[co]</td>\n",
       "      <td>[1, 2, 3, 4, 5, 6, 7]</td>\n",
       "      <td>[1, 2, 3, 4, 5, 6, 7]</td>\n",
       "      <td>{'n_estimators': 15, 'max_depth': 3}</td>\n",
       "      <td>0.018235</td>\n",
       "      <td>15</td>\n",
       "      <td>3</td>\n",
       "    </tr>\n",
       "  </tbody>\n",
       "</table>\n",
       "</div>"
      ],
      "text/plain": [
       "  levels                                             lags  \\\n",
       "0   [co]  [1, 2, 3, 4, 5, 6, 7, 8, 9, 10, 11, 12, 13, 14]   \n",
       "1   [co]  [1, 2, 3, 4, 5, 6, 7, 8, 9, 10, 11, 12, 13, 14]   \n",
       "2   [co]                            [1, 2, 3, 4, 5, 6, 7]   \n",
       "3   [co]                            [1, 2, 3, 4, 5, 6, 7]   \n",
       "4   [co]  [1, 2, 3, 4, 5, 6, 7, 8, 9, 10, 11, 12, 13, 14]   \n",
       "5   [co]                            [1, 2, 3, 4, 5, 6, 7]   \n",
       "6   [co]                            [1, 2, 3, 4, 5, 6, 7]   \n",
       "7   [co]  [1, 2, 3, 4, 5, 6, 7, 8, 9, 10, 11, 12, 13, 14]   \n",
       "8   [co]  [1, 2, 3, 4, 5, 6, 7, 8, 9, 10, 11, 12, 13, 14]   \n",
       "9   [co]                            [1, 2, 3, 4, 5, 6, 7]   \n",
       "\n",
       "                                        lags_label  \\\n",
       "0  [1, 2, 3, 4, 5, 6, 7, 8, 9, 10, 11, 12, 13, 14]   \n",
       "1  [1, 2, 3, 4, 5, 6, 7, 8, 9, 10, 11, 12, 13, 14]   \n",
       "2                            [1, 2, 3, 4, 5, 6, 7]   \n",
       "3                            [1, 2, 3, 4, 5, 6, 7]   \n",
       "4  [1, 2, 3, 4, 5, 6, 7, 8, 9, 10, 11, 12, 13, 14]   \n",
       "5                            [1, 2, 3, 4, 5, 6, 7]   \n",
       "6                            [1, 2, 3, 4, 5, 6, 7]   \n",
       "7  [1, 2, 3, 4, 5, 6, 7, 8, 9, 10, 11, 12, 13, 14]   \n",
       "8  [1, 2, 3, 4, 5, 6, 7, 8, 9, 10, 11, 12, 13, 14]   \n",
       "9                            [1, 2, 3, 4, 5, 6, 7]   \n",
       "\n",
       "                                 params  mean_absolute_error  n_estimators  \\\n",
       "0  {'n_estimators': 19, 'max_depth': 5}             0.016567            19   \n",
       "1  {'n_estimators': 16, 'max_depth': 5}             0.017329            16   \n",
       "2  {'n_estimators': 18, 'max_depth': 3}             0.017705            18   \n",
       "3  {'n_estimators': 19, 'max_depth': 5}             0.017724            19   \n",
       "4  {'n_estimators': 18, 'max_depth': 3}             0.017854            18   \n",
       "5  {'n_estimators': 17, 'max_depth': 3}             0.017885            17   \n",
       "6  {'n_estimators': 16, 'max_depth': 5}             0.017923            16   \n",
       "7  {'n_estimators': 15, 'max_depth': 3}             0.018076            15   \n",
       "8  {'n_estimators': 17, 'max_depth': 3}             0.018101            17   \n",
       "9  {'n_estimators': 15, 'max_depth': 3}             0.018235            15   \n",
       "\n",
       "   max_depth  \n",
       "0          5  \n",
       "1          5  \n",
       "2          3  \n",
       "3          5  \n",
       "4          3  \n",
       "5          3  \n",
       "6          5  \n",
       "7          3  \n",
       "8          3  \n",
       "9          3  "
      ]
     },
     "execution_count": 12,
     "metadata": {},
     "output_type": "execute_result"
    }
   ],
   "source": [
    "# Random search MultiVariate\n",
    "# ==============================================================================\n",
    "lags_grid = [7, 14]\n",
    "param_distributions = {\n",
    "    'n_estimators': np.arange(start=10, stop=20, step=1, dtype=int),\n",
    "    'max_depth': np.arange(start=3, stop=6, step=1, dtype=int)\n",
    "}\n",
    "\n",
    "cv = TimeSeriesFold(\n",
    "         steps              = 7,\n",
    "         initial_train_size = len(data_train),\n",
    "         refit              = False,\n",
    "     )\n",
    "\n",
    "results = random_search_forecaster_multiseries(\n",
    "              forecaster          = forecaster,\n",
    "              series              = data,\n",
    "              lags_grid           = lags_grid,\n",
    "              param_distributions = param_distributions,\n",
    "              cv                  = cv,\n",
    "              metric              = 'mean_absolute_error',\n",
    "              aggregate_metric    = 'weighted_average',\n",
    "              n_iter              = 5,\n",
    "          )\n",
    "\n",
    "results"
   ]
  },
  {
   "cell_type": "markdown",
   "id": "18bb3356",
   "metadata": {},
   "source": [
    "It is also possible to perform a bayesian optimization with `optuna` using the `bayesian_search_forecaster_multiseries` function. For more information about this type of optimization, see the [user guide here](../user_guides/hyperparameter-tuning-and-lags-selection.html#bayesian-search)."
   ]
  },
  {
   "cell_type": "code",
   "execution_count": 13,
   "id": "ac8890a5",
   "metadata": {},
   "outputs": [
    {
     "data": {
      "application/vnd.jupyter.widget-view+json": {
       "model_id": "5691bc51ffb9442a81a31ef3b118dce8",
       "version_major": 2,
       "version_minor": 0
      },
      "text/plain": [
       "  0%|          | 0/5 [00:00<?, ?it/s]"
      ]
     },
     "metadata": {},
     "output_type": "display_data"
    },
    {
     "name": "stdout",
     "output_type": "stream",
     "text": [
      "`Forecaster` refitted using the best-found lags and parameters, and the whole data set: \n",
      "  Lags: [ 1  2  3  4  5  6  7  8  9 10 11 12 13 14] \n",
      "  Parameters: {'n_estimators': 16, 'min_samples_leaf': 9, 'max_features': 'log2'}\n",
      "  Backtesting metric: 0.018024662716443113\n",
      "  Levels: ['co']\n",
      "\n"
     ]
    },
    {
     "data": {
      "application/vnd.microsoft.datawrangler.viewer.v0+json": {
       "columns": [
        {
         "name": "index",
         "rawType": "int64",
         "type": "integer"
        },
        {
         "name": "levels",
         "rawType": "object",
         "type": "unknown"
        },
        {
         "name": "lags",
         "rawType": "object",
         "type": "unknown"
        },
        {
         "name": "params",
         "rawType": "object",
         "type": "unknown"
        },
        {
         "name": "mean_absolute_error",
         "rawType": "float64",
         "type": "float"
        },
        {
         "name": "n_estimators",
         "rawType": "int64",
         "type": "integer"
        },
        {
         "name": "min_samples_leaf",
         "rawType": "int64",
         "type": "integer"
        },
        {
         "name": "max_features",
         "rawType": "object",
         "type": "string"
        }
       ],
       "conversionMethod": "pd.DataFrame",
       "ref": "81c765d1-63a9-465d-8295-5b7644911696",
       "rows": [
        [
         "0",
         "['co']",
         "[ 1  2  3  4  5  6  7  8  9 10 11 12 13 14]",
         "{'n_estimators': 16, 'min_samples_leaf': 9, 'max_features': 'log2'}",
         "0.018024662716443113",
         "16",
         "9",
         "log2"
        ],
        [
         "1",
         "['co']",
         "[1 2 3 4 5 6 7]",
         "{'n_estimators': 14, 'min_samples_leaf': 8, 'max_features': 'log2'}",
         "0.019328318492476824",
         "14",
         "8",
         "log2"
        ],
        [
         "2",
         "['co']",
         "[1 2 3 4 5 6 7]",
         "{'n_estimators': 15, 'min_samples_leaf': 4, 'max_features': 'sqrt'}",
         "0.020232876654915778",
         "15",
         "4",
         "sqrt"
        ],
        [
         "3",
         "['co']",
         "[1 2 3 4 5 6 7]",
         "{'n_estimators': 12, 'min_samples_leaf': 6, 'max_features': 'log2'}",
         "0.020451775611228445",
         "12",
         "6",
         "log2"
        ]
       ],
       "shape": {
        "columns": 7,
        "rows": 4
       }
      },
      "text/html": [
       "<div>\n",
       "<style scoped>\n",
       "    .dataframe tbody tr th:only-of-type {\n",
       "        vertical-align: middle;\n",
       "    }\n",
       "\n",
       "    .dataframe tbody tr th {\n",
       "        vertical-align: top;\n",
       "    }\n",
       "\n",
       "    .dataframe thead th {\n",
       "        text-align: right;\n",
       "    }\n",
       "</style>\n",
       "<table border=\"1\" class=\"dataframe\">\n",
       "  <thead>\n",
       "    <tr style=\"text-align: right;\">\n",
       "      <th></th>\n",
       "      <th>levels</th>\n",
       "      <th>lags</th>\n",
       "      <th>params</th>\n",
       "      <th>mean_absolute_error</th>\n",
       "      <th>n_estimators</th>\n",
       "      <th>min_samples_leaf</th>\n",
       "      <th>max_features</th>\n",
       "    </tr>\n",
       "  </thead>\n",
       "  <tbody>\n",
       "    <tr>\n",
       "      <th>0</th>\n",
       "      <td>[co]</td>\n",
       "      <td>[1, 2, 3, 4, 5, 6, 7, 8, 9, 10, 11, 12, 13, 14]</td>\n",
       "      <td>{'n_estimators': 16, 'min_samples_leaf': 9, 'm...</td>\n",
       "      <td>0.018025</td>\n",
       "      <td>16</td>\n",
       "      <td>9</td>\n",
       "      <td>log2</td>\n",
       "    </tr>\n",
       "    <tr>\n",
       "      <th>1</th>\n",
       "      <td>[co]</td>\n",
       "      <td>[1, 2, 3, 4, 5, 6, 7]</td>\n",
       "      <td>{'n_estimators': 14, 'min_samples_leaf': 8, 'm...</td>\n",
       "      <td>0.019328</td>\n",
       "      <td>14</td>\n",
       "      <td>8</td>\n",
       "      <td>log2</td>\n",
       "    </tr>\n",
       "    <tr>\n",
       "      <th>2</th>\n",
       "      <td>[co]</td>\n",
       "      <td>[1, 2, 3, 4, 5, 6, 7]</td>\n",
       "      <td>{'n_estimators': 15, 'min_samples_leaf': 4, 'm...</td>\n",
       "      <td>0.020233</td>\n",
       "      <td>15</td>\n",
       "      <td>4</td>\n",
       "      <td>sqrt</td>\n",
       "    </tr>\n",
       "    <tr>\n",
       "      <th>3</th>\n",
       "      <td>[co]</td>\n",
       "      <td>[1, 2, 3, 4, 5, 6, 7]</td>\n",
       "      <td>{'n_estimators': 12, 'min_samples_leaf': 6, 'm...</td>\n",
       "      <td>0.020452</td>\n",
       "      <td>12</td>\n",
       "      <td>6</td>\n",
       "      <td>log2</td>\n",
       "    </tr>\n",
       "  </tbody>\n",
       "</table>\n",
       "</div>"
      ],
      "text/plain": [
       "  levels                                             lags  \\\n",
       "0   [co]  [1, 2, 3, 4, 5, 6, 7, 8, 9, 10, 11, 12, 13, 14]   \n",
       "1   [co]                            [1, 2, 3, 4, 5, 6, 7]   \n",
       "2   [co]                            [1, 2, 3, 4, 5, 6, 7]   \n",
       "3   [co]                            [1, 2, 3, 4, 5, 6, 7]   \n",
       "\n",
       "                                              params  mean_absolute_error  \\\n",
       "0  {'n_estimators': 16, 'min_samples_leaf': 9, 'm...             0.018025   \n",
       "1  {'n_estimators': 14, 'min_samples_leaf': 8, 'm...             0.019328   \n",
       "2  {'n_estimators': 15, 'min_samples_leaf': 4, 'm...             0.020233   \n",
       "3  {'n_estimators': 12, 'min_samples_leaf': 6, 'm...             0.020452   \n",
       "\n",
       "   n_estimators  min_samples_leaf max_features  \n",
       "0            16                 9         log2  \n",
       "1            14                 8         log2  \n",
       "2            15                 4         sqrt  \n",
       "3            12                 6         log2  "
      ]
     },
     "execution_count": 13,
     "metadata": {},
     "output_type": "execute_result"
    }
   ],
   "source": [
    "# Bayesian search hyperparameters and lags with Optuna\n",
    "# ==============================================================================\n",
    "forecaster = ForecasterDirectMultiVariate(\n",
    "                 regressor       = LGBMRegressor(random_state=123, verbose=-1),\n",
    "                 level           = 'co',\n",
    "                 steps           = 7,\n",
    "                 lags            = 7,\n",
    "                 window_features = RollingFeatures(stats=['mean'], window_sizes=[7])\n",
    "             )\n",
    "\n",
    "# Search space\n",
    "def search_space(trial):\n",
    "    search_space  = {\n",
    "        'lags'            : trial.suggest_categorical('lags', [7, 14]),\n",
    "        'n_estimators'    : trial.suggest_int('n_estimators', 10, 20),\n",
    "        'min_samples_leaf': trial.suggest_int('min_samples_leaf', 1., 10),\n",
    "        'max_features'    : trial.suggest_categorical('max_features', ['log2', 'sqrt'])\n",
    "    }\n",
    "\n",
    "    return search_space\n",
    "\n",
    "cv = TimeSeriesFold(\n",
    "         steps              = 7,\n",
    "         initial_train_size = len(data_train),\n",
    "         refit              = False,\n",
    "     )\n",
    "\n",
    "results, best_trial = bayesian_search_forecaster_multiseries(\n",
    "                          forecaster            = forecaster,\n",
    "                          series                = data,\n",
    "                          search_space          = search_space,\n",
    "                          cv                    = cv,\n",
    "                          metric                = 'mean_absolute_error',\n",
    "                          aggregate_metric      = 'weighted_average',\n",
    "                          n_trials              = 5,\n",
    "                          kwargs_create_study   = {},\n",
    "                          kwargs_study_optimize = {}\n",
    "                      )\n",
    "\n",
    "results.head(4)"
   ]
  },
  {
   "cell_type": "markdown",
   "id": "d7717df3",
   "metadata": {},
   "source": [
    "`best_trial` contains information of the trial which achived the best results. See more in [Study class](https://optuna.readthedocs.io/en/stable/reference/generated/optuna.study.Study.html#optuna.study.Study)."
   ]
  },
  {
   "cell_type": "code",
   "execution_count": 14,
   "id": "e5a6c544",
   "metadata": {},
   "outputs": [
    {
     "data": {
      "text/plain": [
       "FrozenTrial(number=3, state=1, values=[0.018024662716443113], datetime_start=datetime.datetime(2025, 3, 7, 11, 2, 42, 920406), datetime_complete=datetime.datetime(2025, 3, 7, 11, 2, 44, 552902), params={'lags': 14, 'n_estimators': 16, 'min_samples_leaf': 9, 'max_features': 'log2'}, user_attrs={}, system_attrs={}, intermediate_values={}, distributions={'lags': CategoricalDistribution(choices=(7, 14)), 'n_estimators': IntDistribution(high=20, log=False, low=10, step=1), 'min_samples_leaf': IntDistribution(high=10, log=False, low=1, step=1), 'max_features': CategoricalDistribution(choices=('log2', 'sqrt'))}, trial_id=3, value=None)"
      ]
     },
     "execution_count": 14,
     "metadata": {},
     "output_type": "execute_result"
    }
   ],
   "source": [
    "# Optuna best trial in the study\n",
    "# ==============================================================================\n",
    "best_trial"
   ]
  },
  {
   "attachments": {},
   "cell_type": "markdown",
   "id": "f48b1b2f",
   "metadata": {},
   "source": [
    "## Different lags for each time series\n",
    "\n",
    "If a `dict` is passed to the `lags` argument, it allows setting different lags for each of the series. The keys of the dictionary must be the names of the series to be used during training."
   ]
  },
  {
   "cell_type": "code",
   "execution_count": 15,
   "id": "1804117c",
   "metadata": {},
   "outputs": [
    {
     "data": {
      "application/vnd.microsoft.datawrangler.viewer.v0+json": {
       "columns": [
        {
         "name": "index",
         "rawType": "datetime64[ns]",
         "type": "datetime"
        },
        {
         "name": "level",
         "rawType": "object",
         "type": "string"
        },
        {
         "name": "pred",
         "rawType": "float64",
         "type": "float"
        }
       ],
       "conversionMethod": "pd.DataFrame",
       "ref": "709b4631-f81b-43f5-830c-8d7c973b5963",
       "rows": [
        [
         "2023-06-01 00:00:00",
         "co",
         "0.09879809551979102"
        ],
        [
         "2023-06-02 00:00:00",
         "co",
         "0.10718460315420722"
        ],
        [
         "2023-06-03 00:00:00",
         "co",
         "0.11222452896585913"
        ],
        [
         "2023-06-04 00:00:00",
         "co",
         "0.10720828743055244"
        ],
        [
         "2023-06-05 00:00:00",
         "co",
         "0.09864253780812096"
        ],
        [
         "2023-06-06 00:00:00",
         "co",
         "0.10037494964076069"
        ],
        [
         "2023-06-07 00:00:00",
         "co",
         "0.09951268279348016"
        ]
       ],
       "shape": {
        "columns": 2,
        "rows": 7
       }
      },
      "text/html": [
       "<div>\n",
       "<style scoped>\n",
       "    .dataframe tbody tr th:only-of-type {\n",
       "        vertical-align: middle;\n",
       "    }\n",
       "\n",
       "    .dataframe tbody tr th {\n",
       "        vertical-align: top;\n",
       "    }\n",
       "\n",
       "    .dataframe thead th {\n",
       "        text-align: right;\n",
       "    }\n",
       "</style>\n",
       "<table border=\"1\" class=\"dataframe\">\n",
       "  <thead>\n",
       "    <tr style=\"text-align: right;\">\n",
       "      <th></th>\n",
       "      <th>level</th>\n",
       "      <th>pred</th>\n",
       "    </tr>\n",
       "  </thead>\n",
       "  <tbody>\n",
       "    <tr>\n",
       "      <th>2023-06-01</th>\n",
       "      <td>co</td>\n",
       "      <td>0.098798</td>\n",
       "    </tr>\n",
       "    <tr>\n",
       "      <th>2023-06-02</th>\n",
       "      <td>co</td>\n",
       "      <td>0.107185</td>\n",
       "    </tr>\n",
       "    <tr>\n",
       "      <th>2023-06-03</th>\n",
       "      <td>co</td>\n",
       "      <td>0.112225</td>\n",
       "    </tr>\n",
       "    <tr>\n",
       "      <th>2023-06-04</th>\n",
       "      <td>co</td>\n",
       "      <td>0.107208</td>\n",
       "    </tr>\n",
       "    <tr>\n",
       "      <th>2023-06-05</th>\n",
       "      <td>co</td>\n",
       "      <td>0.098643</td>\n",
       "    </tr>\n",
       "    <tr>\n",
       "      <th>2023-06-06</th>\n",
       "      <td>co</td>\n",
       "      <td>0.100375</td>\n",
       "    </tr>\n",
       "    <tr>\n",
       "      <th>2023-06-07</th>\n",
       "      <td>co</td>\n",
       "      <td>0.099513</td>\n",
       "    </tr>\n",
       "  </tbody>\n",
       "</table>\n",
       "</div>"
      ],
      "text/plain": [
       "           level      pred\n",
       "2023-06-01    co  0.098798\n",
       "2023-06-02    co  0.107185\n",
       "2023-06-03    co  0.112225\n",
       "2023-06-04    co  0.107208\n",
       "2023-06-05    co  0.098643\n",
       "2023-06-06    co  0.100375\n",
       "2023-06-07    co  0.099513"
      ]
     },
     "execution_count": 15,
     "metadata": {},
     "output_type": "execute_result"
    }
   ],
   "source": [
    "# Create and fit forecaster MultiVariate Custom lags\n",
    "# ==============================================================================\n",
    "lags_dict = {\n",
    "    'so2': [7, 14], 'co': 7, 'no': [7, 14], 'no2': [7, 14],\n",
    "    'pm10': [7, 14], 'nox': [7, 14], 'o3': [7, 14], 'veloc.': 3,\n",
    "    'direc.': 3, 'pm2.5': [7, 14]\n",
    "}\n",
    "forecaster = ForecasterDirectMultiVariate(\n",
    "                 regressor = LGBMRegressor(random_state=123, verbose=-1),\n",
    "                 level     = 'co',\n",
    "                 steps     = 7,\n",
    "                 lags      = lags_dict,\n",
    "             )\n",
    "\n",
    "forecaster.fit(series=data_train)\n",
    "\n",
    "# Predict\n",
    "# ==============================================================================\n",
    "predictions = forecaster.predict(steps=7)\n",
    "predictions"
   ]
  },
  {
   "cell_type": "markdown",
   "id": "fbe427dc",
   "metadata": {},
   "source": [
    "If a `None` is passed to any of the keys of the `lags` argument, that series will not be used to create the `X` training matrix.\n",
    "\n",
    "In this example, no lags are created for the `'co'` series, but since it is the `level` of the forecaster, the `'co'` column will be used to create the `y` training matrix."
   ]
  },
  {
   "cell_type": "code",
   "execution_count": 16,
   "id": "3a9148bf",
   "metadata": {},
   "outputs": [
    {
     "data": {
      "application/vnd.microsoft.datawrangler.viewer.v0+json": {
       "columns": [
        {
         "name": "index",
         "rawType": "datetime64[ns]",
         "type": "datetime"
        },
        {
         "name": "level",
         "rawType": "object",
         "type": "string"
        },
        {
         "name": "pred",
         "rawType": "float64",
         "type": "float"
        }
       ],
       "conversionMethod": "pd.DataFrame",
       "ref": "45c32835-de7d-4870-a332-a852bd184e9f",
       "rows": [
        [
         "2023-06-01 00:00:00",
         "co",
         "0.107965624226013"
        ],
        [
         "2023-06-02 00:00:00",
         "co",
         "0.1186920860546675"
        ],
        [
         "2023-06-03 00:00:00",
         "co",
         "0.12548012653917312"
        ],
        [
         "2023-06-04 00:00:00",
         "co",
         "0.13290836626468452"
        ],
        [
         "2023-06-05 00:00:00",
         "co",
         "0.1182374967072046"
        ],
        [
         "2023-06-06 00:00:00",
         "co",
         "0.1216384139881739"
        ],
        [
         "2023-06-07 00:00:00",
         "co",
         "0.1207528724212986"
        ]
       ],
       "shape": {
        "columns": 2,
        "rows": 7
       }
      },
      "text/html": [
       "<div>\n",
       "<style scoped>\n",
       "    .dataframe tbody tr th:only-of-type {\n",
       "        vertical-align: middle;\n",
       "    }\n",
       "\n",
       "    .dataframe tbody tr th {\n",
       "        vertical-align: top;\n",
       "    }\n",
       "\n",
       "    .dataframe thead th {\n",
       "        text-align: right;\n",
       "    }\n",
       "</style>\n",
       "<table border=\"1\" class=\"dataframe\">\n",
       "  <thead>\n",
       "    <tr style=\"text-align: right;\">\n",
       "      <th></th>\n",
       "      <th>level</th>\n",
       "      <th>pred</th>\n",
       "    </tr>\n",
       "  </thead>\n",
       "  <tbody>\n",
       "    <tr>\n",
       "      <th>2023-06-01</th>\n",
       "      <td>co</td>\n",
       "      <td>0.107966</td>\n",
       "    </tr>\n",
       "    <tr>\n",
       "      <th>2023-06-02</th>\n",
       "      <td>co</td>\n",
       "      <td>0.118692</td>\n",
       "    </tr>\n",
       "    <tr>\n",
       "      <th>2023-06-03</th>\n",
       "      <td>co</td>\n",
       "      <td>0.125480</td>\n",
       "    </tr>\n",
       "    <tr>\n",
       "      <th>2023-06-04</th>\n",
       "      <td>co</td>\n",
       "      <td>0.132908</td>\n",
       "    </tr>\n",
       "    <tr>\n",
       "      <th>2023-06-05</th>\n",
       "      <td>co</td>\n",
       "      <td>0.118237</td>\n",
       "    </tr>\n",
       "    <tr>\n",
       "      <th>2023-06-06</th>\n",
       "      <td>co</td>\n",
       "      <td>0.121638</td>\n",
       "    </tr>\n",
       "    <tr>\n",
       "      <th>2023-06-07</th>\n",
       "      <td>co</td>\n",
       "      <td>0.120753</td>\n",
       "    </tr>\n",
       "  </tbody>\n",
       "</table>\n",
       "</div>"
      ],
      "text/plain": [
       "           level      pred\n",
       "2023-06-01    co  0.107966\n",
       "2023-06-02    co  0.118692\n",
       "2023-06-03    co  0.125480\n",
       "2023-06-04    co  0.132908\n",
       "2023-06-05    co  0.118237\n",
       "2023-06-06    co  0.121638\n",
       "2023-06-07    co  0.120753"
      ]
     },
     "execution_count": 16,
     "metadata": {},
     "output_type": "execute_result"
    }
   ],
   "source": [
    "# Create and fit forecaster MultiVariate Custom lags with None\n",
    "# ==============================================================================\n",
    "lags_dict = {\n",
    "    'so2': [7, 14], 'co': None, 'no': [7, 14], 'no2': [7, 14],\n",
    "    'pm10': [7, 14], 'nox': [7, 14], 'o3': [7, 14], 'veloc.': 3,\n",
    "    'direc.': 3, 'pm2.5': [7, 14]\n",
    "}\n",
    "forecaster = ForecasterDirectMultiVariate(\n",
    "                 regressor = LGBMRegressor(random_state=123, verbose=-1),\n",
    "                 level     = 'co',\n",
    "                 lags      = lags_dict,\n",
    "                 steps     = 7,\n",
    "             )\n",
    "\n",
    "forecaster.fit(series=data_train)\n",
    "\n",
    "# Predict\n",
    "# ==============================================================================\n",
    "predictions = forecaster.predict(steps=7)\n",
    "predictions"
   ]
  },
  {
   "attachments": {},
   "cell_type": "markdown",
   "id": "88e7af89",
   "metadata": {},
   "source": [
    "It is possible to use the `create_train_X_y` method to generate the matrices that the forecaster is using to train the model. This approach enables gaining insight into the specific lags that have been created."
   ]
  },
  {
   "cell_type": "code",
   "execution_count": 17,
   "id": "87227039",
   "metadata": {},
   "outputs": [
    {
     "data": {
      "application/vnd.microsoft.datawrangler.viewer.v0+json": {
       "columns": [
        {
         "name": "datetime",
         "rawType": "datetime64[ns]",
         "type": "datetime"
        },
        {
         "name": "so2_lag_7",
         "rawType": "float64",
         "type": "float"
        },
        {
         "name": "so2_lag_14",
         "rawType": "float64",
         "type": "float"
        },
        {
         "name": "no_lag_7",
         "rawType": "float64",
         "type": "float"
        },
        {
         "name": "no_lag_14",
         "rawType": "float64",
         "type": "float"
        },
        {
         "name": "no2_lag_7",
         "rawType": "float64",
         "type": "float"
        },
        {
         "name": "no2_lag_14",
         "rawType": "float64",
         "type": "float"
        },
        {
         "name": "pm10_lag_7",
         "rawType": "float64",
         "type": "float"
        },
        {
         "name": "pm10_lag_14",
         "rawType": "float64",
         "type": "float"
        },
        {
         "name": "nox_lag_7",
         "rawType": "float64",
         "type": "float"
        },
        {
         "name": "nox_lag_14",
         "rawType": "float64",
         "type": "float"
        },
        {
         "name": "o3_lag_7",
         "rawType": "float64",
         "type": "float"
        },
        {
         "name": "o3_lag_14",
         "rawType": "float64",
         "type": "float"
        },
        {
         "name": "veloc._lag_1",
         "rawType": "float64",
         "type": "float"
        },
        {
         "name": "veloc._lag_2",
         "rawType": "float64",
         "type": "float"
        },
        {
         "name": "veloc._lag_3",
         "rawType": "float64",
         "type": "float"
        },
        {
         "name": "direc._lag_1",
         "rawType": "float64",
         "type": "float"
        },
        {
         "name": "direc._lag_2",
         "rawType": "float64",
         "type": "float"
        },
        {
         "name": "direc._lag_3",
         "rawType": "float64",
         "type": "float"
        },
        {
         "name": "pm2.5_lag_7",
         "rawType": "float64",
         "type": "float"
        },
        {
         "name": "pm2.5_lag_14",
         "rawType": "float64",
         "type": "float"
        }
       ],
       "conversionMethod": "pd.DataFrame",
       "ref": "6e086c72-2af4-4325-93c7-6c08d8864c61",
       "rows": [
        [
         "2019-01-15 00:00:00",
         "1.061795469405155",
         "2.362414235880163",
         "3.462135690933706",
         "2.2329676837830292",
         "2.971237354048187",
         "2.098158178938412",
         "1.1752591693295564",
         "0.2291214831310293",
         "3.4198807965225417",
         "2.2986569519937503",
         "-1.8716688672847572",
         "-1.8008473315175402",
         "-0.7268692417270413",
         "-0.979544023794483",
         "-0.792953415498526",
         "0.6732737356542874",
         "1.019948330120768",
         "1.581166141202064",
         "2.1044967728019945",
         "1.0847507723982917"
        ],
        [
         "2019-01-16 00:00:00",
         "1.80500619310516",
         "2.408864906111414",
         "6.2473025048242565",
         "3.270300221609612",
         "2.622404350294281",
         "3.2542904199513565",
         "1.1565853992072173",
         "0.5994845905574266",
         "4.6053055973842705",
         "3.4863746441530843",
         "-1.7543706986703036",
         "-2.2567609680190026",
         "-1.150585414732444",
         "-0.7268692417270413",
         "-0.979544023794483",
         "0.171310717733274",
         "0.6732737356542874",
         "1.019948330120768",
         "1.7821632669272611",
         "1.1081932091891815"
        ],
        [
         "2019-01-17 00:00:00",
         "-0.9820340207698575",
         "2.2695128954176633",
         "0.8261742420730056",
         "6.311247661265622",
         "2.5964910414439917",
         "3.6290367325555524",
         "-0.11945555915263842",
         "1.327761625328661",
         "1.927208561781758",
         "5.208336008654356",
         "-0.3313004643477765",
         "-2.356353752691652",
         "-0.9445582847389914",
         "-1.150585414732444",
         "-0.7268692417270413",
         "0.5111744164342045",
         "0.171310717733274",
         "0.6732737356542874",
         "-0.37454091783459337",
         "1.7059753473568695"
        ],
        [
         "2019-01-18 00:00:00",
         "1.4798515014864075",
         "1.7585555228739094",
         "8.194077267594695",
         "2.8866292829614237",
         "4.617729131766622",
         "2.9114374105475176",
         "1.221943594635405",
         "1.0320935983916217",
         "6.726230047668794",
         "3.096583123560252",
         "-1.4334606147250992",
         "-2.0730676096227825",
         "-1.115599675676952",
         "-0.9445582847389914",
         "-1.150585414732444",
         "1.4360940613958555",
         "0.5111744164342045",
         "0.171310717733274",
         "0.81516274930306",
         "1.7821632669272611"
        ]
       ],
       "shape": {
        "columns": 20,
        "rows": 4
       }
      },
      "text/html": [
       "<div>\n",
       "<style scoped>\n",
       "    .dataframe tbody tr th:only-of-type {\n",
       "        vertical-align: middle;\n",
       "    }\n",
       "\n",
       "    .dataframe tbody tr th {\n",
       "        vertical-align: top;\n",
       "    }\n",
       "\n",
       "    .dataframe thead th {\n",
       "        text-align: right;\n",
       "    }\n",
       "</style>\n",
       "<table border=\"1\" class=\"dataframe\">\n",
       "  <thead>\n",
       "    <tr style=\"text-align: right;\">\n",
       "      <th></th>\n",
       "      <th>so2_lag_7</th>\n",
       "      <th>so2_lag_14</th>\n",
       "      <th>no_lag_7</th>\n",
       "      <th>no_lag_14</th>\n",
       "      <th>no2_lag_7</th>\n",
       "      <th>no2_lag_14</th>\n",
       "      <th>pm10_lag_7</th>\n",
       "      <th>pm10_lag_14</th>\n",
       "      <th>nox_lag_7</th>\n",
       "      <th>nox_lag_14</th>\n",
       "      <th>o3_lag_7</th>\n",
       "      <th>o3_lag_14</th>\n",
       "      <th>veloc._lag_1</th>\n",
       "      <th>veloc._lag_2</th>\n",
       "      <th>veloc._lag_3</th>\n",
       "      <th>direc._lag_1</th>\n",
       "      <th>direc._lag_2</th>\n",
       "      <th>direc._lag_3</th>\n",
       "      <th>pm2.5_lag_7</th>\n",
       "      <th>pm2.5_lag_14</th>\n",
       "    </tr>\n",
       "    <tr>\n",
       "      <th>datetime</th>\n",
       "      <th></th>\n",
       "      <th></th>\n",
       "      <th></th>\n",
       "      <th></th>\n",
       "      <th></th>\n",
       "      <th></th>\n",
       "      <th></th>\n",
       "      <th></th>\n",
       "      <th></th>\n",
       "      <th></th>\n",
       "      <th></th>\n",
       "      <th></th>\n",
       "      <th></th>\n",
       "      <th></th>\n",
       "      <th></th>\n",
       "      <th></th>\n",
       "      <th></th>\n",
       "      <th></th>\n",
       "      <th></th>\n",
       "      <th></th>\n",
       "    </tr>\n",
       "  </thead>\n",
       "  <tbody>\n",
       "    <tr>\n",
       "      <th>2019-01-15</th>\n",
       "      <td>1.061795</td>\n",
       "      <td>2.362414</td>\n",
       "      <td>3.462136</td>\n",
       "      <td>2.232968</td>\n",
       "      <td>2.971237</td>\n",
       "      <td>2.098158</td>\n",
       "      <td>1.175259</td>\n",
       "      <td>0.229121</td>\n",
       "      <td>3.419881</td>\n",
       "      <td>2.298657</td>\n",
       "      <td>-1.871669</td>\n",
       "      <td>-1.800847</td>\n",
       "      <td>-0.726869</td>\n",
       "      <td>-0.979544</td>\n",
       "      <td>-0.792953</td>\n",
       "      <td>0.673274</td>\n",
       "      <td>1.019948</td>\n",
       "      <td>1.581166</td>\n",
       "      <td>2.104497</td>\n",
       "      <td>1.084751</td>\n",
       "    </tr>\n",
       "    <tr>\n",
       "      <th>2019-01-16</th>\n",
       "      <td>1.805006</td>\n",
       "      <td>2.408865</td>\n",
       "      <td>6.247303</td>\n",
       "      <td>3.270300</td>\n",
       "      <td>2.622404</td>\n",
       "      <td>3.254290</td>\n",
       "      <td>1.156585</td>\n",
       "      <td>0.599485</td>\n",
       "      <td>4.605306</td>\n",
       "      <td>3.486375</td>\n",
       "      <td>-1.754371</td>\n",
       "      <td>-2.256761</td>\n",
       "      <td>-1.150585</td>\n",
       "      <td>-0.726869</td>\n",
       "      <td>-0.979544</td>\n",
       "      <td>0.171311</td>\n",
       "      <td>0.673274</td>\n",
       "      <td>1.019948</td>\n",
       "      <td>1.782163</td>\n",
       "      <td>1.108193</td>\n",
       "    </tr>\n",
       "    <tr>\n",
       "      <th>2019-01-17</th>\n",
       "      <td>-0.982034</td>\n",
       "      <td>2.269513</td>\n",
       "      <td>0.826174</td>\n",
       "      <td>6.311248</td>\n",
       "      <td>2.596491</td>\n",
       "      <td>3.629037</td>\n",
       "      <td>-0.119456</td>\n",
       "      <td>1.327762</td>\n",
       "      <td>1.927209</td>\n",
       "      <td>5.208336</td>\n",
       "      <td>-0.331300</td>\n",
       "      <td>-2.356354</td>\n",
       "      <td>-0.944558</td>\n",
       "      <td>-1.150585</td>\n",
       "      <td>-0.726869</td>\n",
       "      <td>0.511174</td>\n",
       "      <td>0.171311</td>\n",
       "      <td>0.673274</td>\n",
       "      <td>-0.374541</td>\n",
       "      <td>1.705975</td>\n",
       "    </tr>\n",
       "    <tr>\n",
       "      <th>2019-01-18</th>\n",
       "      <td>1.479852</td>\n",
       "      <td>1.758556</td>\n",
       "      <td>8.194077</td>\n",
       "      <td>2.886629</td>\n",
       "      <td>4.617729</td>\n",
       "      <td>2.911437</td>\n",
       "      <td>1.221944</td>\n",
       "      <td>1.032094</td>\n",
       "      <td>6.726230</td>\n",
       "      <td>3.096583</td>\n",
       "      <td>-1.433461</td>\n",
       "      <td>-2.073068</td>\n",
       "      <td>-1.115600</td>\n",
       "      <td>-0.944558</td>\n",
       "      <td>-1.150585</td>\n",
       "      <td>1.436094</td>\n",
       "      <td>0.511174</td>\n",
       "      <td>0.171311</td>\n",
       "      <td>0.815163</td>\n",
       "      <td>1.782163</td>\n",
       "    </tr>\n",
       "  </tbody>\n",
       "</table>\n",
       "</div>"
      ],
      "text/plain": [
       "            so2_lag_7  so2_lag_14  no_lag_7  no_lag_14  no2_lag_7  no2_lag_14  \\\n",
       "datetime                                                                        \n",
       "2019-01-15   1.061795    2.362414  3.462136   2.232968   2.971237    2.098158   \n",
       "2019-01-16   1.805006    2.408865  6.247303   3.270300   2.622404    3.254290   \n",
       "2019-01-17  -0.982034    2.269513  0.826174   6.311248   2.596491    3.629037   \n",
       "2019-01-18   1.479852    1.758556  8.194077   2.886629   4.617729    2.911437   \n",
       "\n",
       "            pm10_lag_7  pm10_lag_14  nox_lag_7  nox_lag_14  o3_lag_7  \\\n",
       "datetime                                                               \n",
       "2019-01-15    1.175259     0.229121   3.419881    2.298657 -1.871669   \n",
       "2019-01-16    1.156585     0.599485   4.605306    3.486375 -1.754371   \n",
       "2019-01-17   -0.119456     1.327762   1.927209    5.208336 -0.331300   \n",
       "2019-01-18    1.221944     1.032094   6.726230    3.096583 -1.433461   \n",
       "\n",
       "            o3_lag_14  veloc._lag_1  veloc._lag_2  veloc._lag_3  direc._lag_1  \\\n",
       "datetime                                                                        \n",
       "2019-01-15  -1.800847     -0.726869     -0.979544     -0.792953      0.673274   \n",
       "2019-01-16  -2.256761     -1.150585     -0.726869     -0.979544      0.171311   \n",
       "2019-01-17  -2.356354     -0.944558     -1.150585     -0.726869      0.511174   \n",
       "2019-01-18  -2.073068     -1.115600     -0.944558     -1.150585      1.436094   \n",
       "\n",
       "            direc._lag_2  direc._lag_3  pm2.5_lag_7  pm2.5_lag_14  \n",
       "datetime                                                           \n",
       "2019-01-15      1.019948      1.581166     2.104497      1.084751  \n",
       "2019-01-16      0.673274      1.019948     1.782163      1.108193  \n",
       "2019-01-17      0.171311      0.673274    -0.374541      1.705975  \n",
       "2019-01-18      0.511174      0.171311     0.815163      1.782163  "
      ]
     },
     "execution_count": 17,
     "metadata": {},
     "output_type": "execute_result"
    }
   ],
   "source": [
    "# Extract training matrix\n",
    "# ==============================================================================\n",
    "X_train, y_train = forecaster.create_train_X_y(series=data_train)\n",
    "\n",
    "# X and y to train model for step 1\n",
    "X_train_step_1, y_train_step_1 = forecaster.filter_train_X_y_for_step(\n",
    "                                     step    = 1,\n",
    "                                     X_train = X_train,\n",
    "                                     y_train = y_train,\n",
    "                                 )\n",
    "\n",
    "X_train_step_1.head(4)"
   ]
  },
  {
   "cell_type": "code",
   "execution_count": 18,
   "id": "9ba74cbb",
   "metadata": {},
   "outputs": [
    {
     "data": {
      "text/plain": [
       "datetime\n",
       "2019-01-15    3.149604\n",
       "2019-01-16    1.554001\n",
       "2019-01-17   -0.323179\n",
       "2019-01-18   -0.417038\n",
       "Freq: D, Name: co_step_1, dtype: float64"
      ]
     },
     "execution_count": 18,
     "metadata": {},
     "output_type": "execute_result"
    }
   ],
   "source": [
    "# Extract training matrix\n",
    "# ==============================================================================\n",
    "y_train_step_1.head(4)"
   ]
  },
  {
   "cell_type": "markdown",
   "id": "8086660d",
   "metadata": {},
   "source": [
    "## Exogenous variables in MultiVariate\n",
    "\n",
    "Exogenous variables are predictors that are independent of the model being used for forecasting, and their future values must be known in order to include them in the prediction process.\n",
    "\n",
    "In the <code>ForecasterDirectMultiVariate</code>, as in the other forecasters, exogenous variables can be easily included as predictors using the `exog` argument.\n",
    "\n",
    "To learn more about exogenous variables in skforecast visit the [exogenous variables user guide](../user_guides/exogenous-variables.html)."
   ]
  },
  {
   "cell_type": "markdown",
   "id": "61fb611e",
   "metadata": {},
   "source": [
    "## Scikit-learn transformers in MultiVariate\n",
    "\n",
    "By default, the <code>ForecasterDirectMultiVariate</code> class uses the scikit-learn `StandardScaler` transformer to scale the data. This transformer is applied to all series. However, it is possible to use different transformers for each series or not to apply any transformation at all:\n",
    "\n",
    "+ If `transformer_series` is a `transformer` the same transformation will be applied to all series. \n",
    "\n",
    "+ If `transformer_series` is a `dict` a different transformation can be set for each series. Series not present in the dict will not have any transformation applied to them (check warning message).\n",
    "\n",
    "Learn more about [using scikit-learn transformers](../user_guides/sklearn-transformers-and-pipeline.html) with skforecast."
   ]
  },
  {
   "cell_type": "code",
   "execution_count": 19,
   "id": "6de758bd",
   "metadata": {},
   "outputs": [
    {
     "data": {
      "text/html": [
       "<pre style=\"white-space:pre;overflow-x:auto;line-height:normal;font-family:Menlo,'DejaVu Sans Mono',consolas,'Courier New',monospace\"><span style=\"color: #ffaf00; text-decoration-color: #ffaf00\">╭─────────────────────────────── IgnoredArgumentWarning ───────────────────────────────╮</span>\n",
       "<span style=\"color: #ffaf00; text-decoration-color: #ffaf00\">│</span> {'no', 'o3', 'so2', 'direc.', 'nox', 'veloc.', 'pm10', 'pm2.5'} not present in       <span style=\"color: #ffaf00; text-decoration-color: #ffaf00\">│</span>\n",
       "<span style=\"color: #ffaf00; text-decoration-color: #ffaf00\">│</span> `transformer_series`. No transformation is applied to these series.                  <span style=\"color: #ffaf00; text-decoration-color: #ffaf00\">│</span>\n",
       "<span style=\"color: #ffaf00; text-decoration-color: #ffaf00\">│</span>                                                                                      <span style=\"color: #ffaf00; text-decoration-color: #ffaf00\">│</span>\n",
       "<span style=\"color: #ffaf00; text-decoration-color: #ffaf00\">│</span> Category : IgnoredArgumentWarning                                                    <span style=\"color: #ffaf00; text-decoration-color: #ffaf00\">│</span>\n",
       "<span style=\"color: #ffaf00; text-decoration-color: #ffaf00\">│</span> Location :                                                                           <span style=\"color: #ffaf00; text-decoration-color: #ffaf00\">│</span>\n",
       "<span style=\"color: #ffaf00; text-decoration-color: #ffaf00\">│</span> c:\\anaconda\\envs\\skforecast_15_p12\\Lib\\site-packages\\skforecast\\utils\\utils.py:370   <span style=\"color: #ffaf00; text-decoration-color: #ffaf00\">│</span>\n",
       "<span style=\"color: #ffaf00; text-decoration-color: #ffaf00\">│</span> Suppress : warnings.simplefilter('ignore', category=IgnoredArgumentWarning)          <span style=\"color: #ffaf00; text-decoration-color: #ffaf00\">│</span>\n",
       "<span style=\"color: #ffaf00; text-decoration-color: #ffaf00\">╰──────────────────────────────────────────────────────────────────────────────────────╯</span>\n",
       "</pre>\n"
      ],
      "text/plain": [
       "\u001b[38;5;214m╭─\u001b[0m\u001b[38;5;214m──────────────────────────────\u001b[0m\u001b[38;5;214m IgnoredArgumentWarning \u001b[0m\u001b[38;5;214m──────────────────────────────\u001b[0m\u001b[38;5;214m─╮\u001b[0m\n",
       "\u001b[38;5;214m│\u001b[0m {'no', 'o3', 'so2', 'direc.', 'nox', 'veloc.', 'pm10', 'pm2.5'} not present in       \u001b[38;5;214m│\u001b[0m\n",
       "\u001b[38;5;214m│\u001b[0m `transformer_series`. No transformation is applied to these series.                  \u001b[38;5;214m│\u001b[0m\n",
       "\u001b[38;5;214m│\u001b[0m                                                                                      \u001b[38;5;214m│\u001b[0m\n",
       "\u001b[38;5;214m│\u001b[0m Category : IgnoredArgumentWarning                                                    \u001b[38;5;214m│\u001b[0m\n",
       "\u001b[38;5;214m│\u001b[0m Location :                                                                           \u001b[38;5;214m│\u001b[0m\n",
       "\u001b[38;5;214m│\u001b[0m c:\\anaconda\\envs\\skforecast_15_p12\\Lib\\site-packages\\skforecast\\utils\\utils.py:370   \u001b[38;5;214m│\u001b[0m\n",
       "\u001b[38;5;214m│\u001b[0m Suppress : warnings.simplefilter('ignore', category=IgnoredArgumentWarning)          \u001b[38;5;214m│\u001b[0m\n",
       "\u001b[38;5;214m╰──────────────────────────────────────────────────────────────────────────────────────╯\u001b[0m\n"
      ]
     },
     "metadata": {},
     "output_type": "display_data"
    },
    {
     "data": {
      "text/html": [
       "\n",
       "    <style>\n",
       "        .container-1f4ee241f7d24dc4baa00aa32590d64b {\n",
       "            font-family: 'Arial', sans-serif;\n",
       "            font-size: 0.9em;\n",
       "            color: #333333;\n",
       "            border: 1px solid #ddd;\n",
       "            background-color: #f0f8ff;\n",
       "            padding: 5px 15px;\n",
       "            border-radius: 8px;\n",
       "            max-width: 600px;\n",
       "            #margin: auto;\n",
       "        }\n",
       "        .container-1f4ee241f7d24dc4baa00aa32590d64b h2 {\n",
       "            font-size: 1.5em;\n",
       "            color: #222222;\n",
       "            border-bottom: 2px solid #ddd;\n",
       "            padding-bottom: 5px;\n",
       "            margin-bottom: 15px;\n",
       "            margin-top: 5px;\n",
       "        }\n",
       "        .container-1f4ee241f7d24dc4baa00aa32590d64b details {\n",
       "            margin: 10px 0;\n",
       "        }\n",
       "        .container-1f4ee241f7d24dc4baa00aa32590d64b summary {\n",
       "            font-weight: bold;\n",
       "            font-size: 1.1em;\n",
       "            color: #000000;\n",
       "            cursor: pointer;\n",
       "            margin-bottom: 5px;\n",
       "            background-color: #b3dbfd;\n",
       "            padding: 5px;\n",
       "            border-radius: 5px;\n",
       "        }\n",
       "        .container-1f4ee241f7d24dc4baa00aa32590d64b summary:hover {\n",
       "            color: #000000;\n",
       "            background-color: #e0e0e0;\n",
       "        }\n",
       "        .container-1f4ee241f7d24dc4baa00aa32590d64b ul {\n",
       "            font-family: 'Courier New', monospace;\n",
       "            list-style-type: none;\n",
       "            padding-left: 20px;\n",
       "            margin: 10px 0;\n",
       "            line-height: normal;\n",
       "        }\n",
       "        .container-1f4ee241f7d24dc4baa00aa32590d64b li {\n",
       "            margin: 5px 0;\n",
       "            font-family: 'Courier New', monospace;\n",
       "        }\n",
       "        .container-1f4ee241f7d24dc4baa00aa32590d64b li strong {\n",
       "            font-weight: bold;\n",
       "            color: #444444;\n",
       "        }\n",
       "        .container-1f4ee241f7d24dc4baa00aa32590d64b li::before {\n",
       "            content: \"- \";\n",
       "            color: #666666;\n",
       "        }\n",
       "        .container-1f4ee241f7d24dc4baa00aa32590d64b a {\n",
       "            color: #001633;\n",
       "            text-decoration: none;\n",
       "        }\n",
       "        .container-1f4ee241f7d24dc4baa00aa32590d64b a:hover {\n",
       "            color: #359ccb; \n",
       "        }\n",
       "    </style>\n",
       "    \n",
       "        <div class=\"container-1f4ee241f7d24dc4baa00aa32590d64b\">\n",
       "            <h2>ForecasterDirectMultiVariate</h2>\n",
       "            <details open>\n",
       "                <summary>General Information</summary>\n",
       "                <ul>\n",
       "                    <li><strong>Regressor:</strong> LGBMRegressor</li>\n",
       "                    <li><strong>Target series (level):</strong> co</li>\n",
       "                    <li><strong>Lags:</strong> [1 2 3 4 5 6 7]</li>\n",
       "                    <li><strong>Window features:</strong> None</li>\n",
       "                    <li><strong>Window size:</strong> 7</li>\n",
       "                    <li><strong>Maximum steps to predict:</strong> 7</li>\n",
       "                    <li><strong>Exogenous included:</strong> False</li>\n",
       "                    <li><strong>Weight function included:</strong> False</li>\n",
       "                    <li><strong>Differentiation order:</strong> None</li>\n",
       "                    <li><strong>Creation date:</strong> 2025-03-07 11:02:49</li>\n",
       "                    <li><strong>Last fit date:</strong> 2025-03-07 11:02:50</li>\n",
       "                    <li><strong>Skforecast version:</strong> 0.15.0</li>\n",
       "                    <li><strong>Python version:</strong> 3.12.9</li>\n",
       "                    <li><strong>Forecaster id:</strong> None</li>\n",
       "                </ul>\n",
       "            </details>\n",
       "            <details>\n",
       "                <summary>Exogenous Variables</summary>\n",
       "                <ul>\n",
       "                    None\n",
       "                </ul>\n",
       "            </details>\n",
       "            <details>\n",
       "                <summary>Data Transformations</summary>\n",
       "                <ul>\n",
       "                    <li><strong>Transformer for series:</strong> 'co': StandardScaler(), 'no2': StandardScaler()</li>\n",
       "                    <li><strong>Transformer for exog:</strong> None</li>\n",
       "                </ul>\n",
       "            </details>\n",
       "            <details>\n",
       "                <summary>Training Information</summary>\n",
       "                <ul>\n",
       "                    <li><strong>Target series (level):</strong> co</li>\n",
       "                    <li><strong>Multivariate series:</strong> so2, co, no, no2, pm10, nox, o3, veloc., direc., pm2.5</li>\n",
       "                    <li><strong>Training range:</strong> [Timestamp('2019-01-01 00:00:00'), Timestamp('2023-05-31 00:00:00')]</li>\n",
       "                    <li><strong>Training index type:</strong> DatetimeIndex</li>\n",
       "                    <li><strong>Training index frequency:</strong> D</li>\n",
       "                </ul>\n",
       "            </details>\n",
       "            <details>\n",
       "                <summary>Regressor Parameters</summary>\n",
       "                <ul>\n",
       "                    {'boosting_type': 'gbdt', 'class_weight': None, 'colsample_bytree': 1.0, 'importance_type': 'split', 'learning_rate': 0.1, 'max_depth': -1, 'min_child_samples': 20, 'min_child_weight': 0.001, 'min_split_gain': 0.0, 'n_estimators': 100, 'n_jobs': None, 'num_leaves': 31, 'objective': None, 'random_state': 123, 'reg_alpha': 0.0, 'reg_lambda': 0.0, 'subsample': 1.0, 'subsample_for_bin': 200000, 'subsample_freq': 0, 'verbose': -1}\n",
       "                </ul>\n",
       "            </details>\n",
       "            <details>\n",
       "                <summary>Fit Kwargs</summary>\n",
       "                <ul>\n",
       "                    {}\n",
       "                </ul>\n",
       "            </details>\n",
       "            <p>\n",
       "                <a href=\"https://skforecast.org/0.15.0/api/forecasterdirectmultivariate.html\">&#128712 <strong>API Reference</strong></a>\n",
       "                &nbsp;&nbsp;\n",
       "                <a href=\"https://skforecast.org/0.15.0/user_guides/dependent-multi-series-multivariate-forecasting.html\">&#128462 <strong>User Guide</strong></a>\n",
       "            </p>\n",
       "        </div>\n",
       "        "
      ],
      "text/plain": [
       "============================ \n",
       "ForecasterDirectMultiVariate \n",
       "============================ \n",
       "Regressor: LGBMRegressor \n",
       "Target series (level): co \n",
       "Lags: [1 2 3 4 5 6 7] \n",
       "Window features: None \n",
       "Window size: 7 \n",
       "Maximum steps to predict: 7 \n",
       "Multivariate series: so2, co, no, no2, pm10, nox, o3, veloc., direc., pm2.5 \n",
       "Exogenous included: False \n",
       "Exogenous names: None \n",
       "Transformer for series: 'co': StandardScaler(), 'no2': StandardScaler() \n",
       "Transformer for exog: None \n",
       "Weight function included: False \n",
       "Differentiation order: None \n",
       "Training range: [Timestamp('2019-01-01 00:00:00'), Timestamp('2023-05-31 00:00:00')] \n",
       "Training index type: DatetimeIndex \n",
       "Training index frequency: D \n",
       "Regressor parameters: \n",
       "    {'boosting_type': 'gbdt', 'class_weight': None, 'colsample_bytree': 1.0,\n",
       "    'importance_type': 'split', 'learning_rate': 0.1, 'max_depth': -1,\n",
       "    'min_child_samples': 20, 'min_child_weight': 0.001, 'min_split_gain': 0.0,\n",
       "    'n_estimators': 100, 'n_jobs': None, 'num_leaves': 31, 'objective': None,\n",
       "    'random_state': 123, 'reg_alpha': 0.0, 'reg_lambda': 0.0, 'subsample': 1.0,\n",
       "    'subsample_for_bin': 200000, 'subsample_freq': 0, 'verbose': -1} \n",
       "fit_kwargs: {} \n",
       "Creation date: 2025-03-07 11:02:49 \n",
       "Last fit date: 2025-03-07 11:02:50 \n",
       "Skforecast version: 0.15.0 \n",
       "Python version: 3.12.9 \n",
       "Forecaster id: None "
      ]
     },
     "execution_count": 19,
     "metadata": {},
     "output_type": "execute_result"
    }
   ],
   "source": [
    "# Transformers in MultiVariate\n",
    "# ==============================================================================\n",
    "forecaster = ForecasterDirectMultiVariate(\n",
    "                 regressor          = LGBMRegressor(random_state=123, verbose=-1),\n",
    "                 level              = 'co',\n",
    "                 lags               = 7,\n",
    "                 steps              = 7,\n",
    "                 transformer_series = {'co': StandardScaler(), 'no2': StandardScaler()}\n",
    "             )\n",
    "\n",
    "forecaster.fit(series=data_train)\n",
    "forecaster"
   ]
  },
  {
   "attachments": {},
   "cell_type": "markdown",
   "id": "6ef846b0",
   "metadata": {},
   "source": [
    "## Weights in MultiVariate\n",
    "\n",
    "The weights are used to control the influence that each observation has on the training of the model.\n",
    "\n",
    "Learn more about [weighted time series forecasting](../user_guides/weighted-time-series-forecasting.html) with skforecast."
   ]
  },
  {
   "cell_type": "code",
   "execution_count": 20,
   "id": "d4966617",
   "metadata": {},
   "outputs": [
    {
     "data": {
      "application/vnd.microsoft.datawrangler.viewer.v0+json": {
       "columns": [
        {
         "name": "index",
         "rawType": "datetime64[ns]",
         "type": "datetime"
        },
        {
         "name": "level",
         "rawType": "object",
         "type": "string"
        },
        {
         "name": "pred",
         "rawType": "float64",
         "type": "float"
        }
       ],
       "conversionMethod": "pd.DataFrame",
       "ref": "ea95683d-a57e-4aaf-be70-85ca1c936179",
       "rows": [
        [
         "2023-06-01 00:00:00",
         "co",
         "0.106243197834695"
        ],
        [
         "2023-06-02 00:00:00",
         "co",
         "0.1036170534889589"
        ],
        [
         "2023-06-03 00:00:00",
         "co",
         "0.10253652225718259"
        ]
       ],
       "shape": {
        "columns": 2,
        "rows": 3
       }
      },
      "text/html": [
       "<div>\n",
       "<style scoped>\n",
       "    .dataframe tbody tr th:only-of-type {\n",
       "        vertical-align: middle;\n",
       "    }\n",
       "\n",
       "    .dataframe tbody tr th {\n",
       "        vertical-align: top;\n",
       "    }\n",
       "\n",
       "    .dataframe thead th {\n",
       "        text-align: right;\n",
       "    }\n",
       "</style>\n",
       "<table border=\"1\" class=\"dataframe\">\n",
       "  <thead>\n",
       "    <tr style=\"text-align: right;\">\n",
       "      <th></th>\n",
       "      <th>level</th>\n",
       "      <th>pred</th>\n",
       "    </tr>\n",
       "  </thead>\n",
       "  <tbody>\n",
       "    <tr>\n",
       "      <th>2023-06-01</th>\n",
       "      <td>co</td>\n",
       "      <td>0.106243</td>\n",
       "    </tr>\n",
       "    <tr>\n",
       "      <th>2023-06-02</th>\n",
       "      <td>co</td>\n",
       "      <td>0.103617</td>\n",
       "    </tr>\n",
       "    <tr>\n",
       "      <th>2023-06-03</th>\n",
       "      <td>co</td>\n",
       "      <td>0.102537</td>\n",
       "    </tr>\n",
       "  </tbody>\n",
       "</table>\n",
       "</div>"
      ],
      "text/plain": [
       "           level      pred\n",
       "2023-06-01    co  0.106243\n",
       "2023-06-02    co  0.103617\n",
       "2023-06-03    co  0.102537"
      ]
     },
     "execution_count": 20,
     "metadata": {},
     "output_type": "execute_result"
    }
   ],
   "source": [
    "# Weights in MultiVariate\n",
    "# ==============================================================================\n",
    "def custom_weights(index):\n",
    "    \"\"\"\n",
    "    Return 0 if index is between '2013-01-01' and '2013-01-31', 1 otherwise.\n",
    "    \"\"\"\n",
    "    weights = np.where(\n",
    "                  (index >= '2013-01-01') & (index <= '2013-01-31'),\n",
    "                   0,\n",
    "                   1\n",
    "              )\n",
    "    \n",
    "    return weights\n",
    "\n",
    "\n",
    "forecaster = ForecasterDirectMultiVariate(\n",
    "                 regressor          = LGBMRegressor(random_state=123, verbose=-1),\n",
    "                 level              = 'co',\n",
    "                 lags               = 7,\n",
    "                 steps              = 7,\n",
    "                 transformer_series = StandardScaler(),\n",
    "                 weight_func        = custom_weights\n",
    "             )\n",
    "\n",
    "forecaster.fit(series=data_train)\n",
    "forecaster.predict(steps=7).head(3)"
   ]
  },
  {
   "attachments": {},
   "cell_type": "markdown",
   "id": "9f7180da",
   "metadata": {},
   "source": [
    "<div class=\"admonition note\" name=\"html-admonition\" style=\"background: rgba(255,145,0,.1); padding-top: 0px; padding-bottom: 6px; border-radius: 8px; border-left: 8px solid #ff9100; border-color: #ff9100; padding-left: 10px; padding-right: 10px\">\n",
    "\n",
    "<p class=\"title\">\n",
    "    <i style=\"font-size: 18px; color:#ff9100; border-color: #ff1744;\"></i>\n",
    "    <b style=\"color: #ff9100;\"> <span style=\"color: #ff9100;\">&#9888;</span> Warning</b>\n",
    "</p>\n",
    "\n",
    "The <code>weight_func</code> argument will be ignored if the regressor does not accept <code>sample_weight</code> in its <code>fit</code> method.\n",
    "\n",
    "</div>"
   ]
  },
  {
   "attachments": {},
   "cell_type": "markdown",
   "id": "3c410247",
   "metadata": {},
   "source": [
    "The source code of the `weight_func` added to the forecaster is stored in the argument `source_code_weight_func`."
   ]
  },
  {
   "cell_type": "code",
   "execution_count": 21,
   "id": "fbe3c2a9",
   "metadata": {},
   "outputs": [
    {
     "name": "stdout",
     "output_type": "stream",
     "text": [
      "def custom_weights(index):\n",
      "    \"\"\"\n",
      "    Return 0 if index is between '2013-01-01' and '2013-01-31', 1 otherwise.\n",
      "    \"\"\"\n",
      "    weights = np.where(\n",
      "                  (index >= '2013-01-01') & (index <= '2013-01-31'),\n",
      "                   0,\n",
      "                   1\n",
      "              )\n",
      "    \n",
      "    return weights\n",
      "\n"
     ]
    }
   ],
   "source": [
    "# Source code weight function\n",
    "# ==============================================================================\n",
    "print(forecaster.source_code_weight_func)"
   ]
  },
  {
   "attachments": {},
   "cell_type": "markdown",
   "id": "31b0c86d",
   "metadata": {},
   "source": [
    "## Compare multiple metrics\n",
    "\n",
    "All four functions (`backtesting_forecaster_multiseries`, `grid_search_forecaster_multiseries`,  `random_search_forecaster_multiseries`, and `bayesian_search_forecaster_multiseries`) allow the calculation of multiple metrics for each forecaster configuration if a list is provided. This list can include custom metrics, and the best model is selected based on the first metric in the list and the first aggregation method (if more than one is provided)."
   ]
  },
  {
   "cell_type": "code",
   "execution_count": 22,
   "id": "9b5c77b3",
   "metadata": {},
   "outputs": [
    {
     "data": {
      "application/vnd.jupyter.widget-view+json": {
       "model_id": "63dba14f97f341e48f89b5f5a9da24fe",
       "version_major": 2,
       "version_minor": 0
      },
      "text/plain": [
       "lags grid:   0%|          | 0/2 [00:00<?, ?it/s]"
      ]
     },
     "metadata": {},
     "output_type": "display_data"
    },
    {
     "data": {
      "application/vnd.jupyter.widget-view+json": {
       "model_id": "01af412617394cba885edb9d7a570a71",
       "version_major": 2,
       "version_minor": 0
      },
      "text/plain": [
       "params grid:   0%|          | 0/3 [00:00<?, ?it/s]"
      ]
     },
     "metadata": {},
     "output_type": "display_data"
    },
    {
     "name": "stdout",
     "output_type": "stream",
     "text": [
      "`Forecaster` refitted using the best-found lags and parameters, and the whole data set: \n",
      "  Lags: [ 1  2  3  4  5  6  7  8  9 10 11 12 13 14] \n",
      "  Parameters: {'alpha': 0.01}\n",
      "  Backtesting metric: 0.014486558378954958\n",
      "  Levels: ['co']\n",
      "\n"
     ]
    },
    {
     "data": {
      "application/vnd.microsoft.datawrangler.viewer.v0+json": {
       "columns": [
        {
         "name": "index",
         "rawType": "int64",
         "type": "integer"
        },
        {
         "name": "levels",
         "rawType": "object",
         "type": "unknown"
        },
        {
         "name": "lags",
         "rawType": "object",
         "type": "unknown"
        },
        {
         "name": "lags_label",
         "rawType": "object",
         "type": "unknown"
        },
        {
         "name": "params",
         "rawType": "object",
         "type": "unknown"
        },
        {
         "name": "mean_absolute_error",
         "rawType": "float64",
         "type": "float"
        },
        {
         "name": "custom_metric",
         "rawType": "float64",
         "type": "float"
        },
        {
         "name": "mean_squared_error",
         "rawType": "float64",
         "type": "float"
        },
        {
         "name": "alpha",
         "rawType": "float64",
         "type": "float"
        }
       ],
       "conversionMethod": "pd.DataFrame",
       "ref": "eb3a2e8b-4054-419d-bb3c-8554eeae0450",
       "rows": [
        [
         "0",
         "['co']",
         "[ 1  2  3  4  5  6  7  8  9 10 11 12 13 14]",
         "[ 1  2  3  4  5  6  7  8  9 10 11 12 13 14]",
         "{'alpha': 0.01}",
         "0.014486558378954958",
         "0.021981179051065076",
         "0.0004393427586223616",
         "0.01"
        ],
        [
         "1",
         "['co']",
         "[ 1  2  3  4  5  6  7  8  9 10 11 12 13 14]",
         "[ 1  2  3  4  5  6  7  8  9 10 11 12 13 14]",
         "{'alpha': 0.1}",
         "0.014486558378954958",
         "0.021981179051065076",
         "0.0004393427586223616",
         "0.1"
        ],
        [
         "2",
         "['co']",
         "[ 1  2  3  4  5  6  7  8  9 10 11 12 13 14]",
         "[ 1  2  3  4  5  6  7  8  9 10 11 12 13 14]",
         "{'alpha': 1}",
         "0.014486558378954958",
         "0.021981179051065076",
         "0.0004393427586223616",
         "1.0"
        ],
        [
         "3",
         "['co']",
         "[1 2 3 4 5 6 7]",
         "[1 2 3 4 5 6 7]",
         "{'alpha': 0.01}",
         "0.01477324950165414",
         "0.022789040834652125",
         "0.0005109346109078779",
         "0.01"
        ],
        [
         "4",
         "['co']",
         "[1 2 3 4 5 6 7]",
         "[1 2 3 4 5 6 7]",
         "{'alpha': 1}",
         "0.01477324950165414",
         "0.022789040834652125",
         "0.0005109346109078779",
         "1.0"
        ],
        [
         "5",
         "['co']",
         "[1 2 3 4 5 6 7]",
         "[1 2 3 4 5 6 7]",
         "{'alpha': 0.1}",
         "0.01477324950165414",
         "0.022789040834652125",
         "0.0005109346109078779",
         "0.1"
        ]
       ],
       "shape": {
        "columns": 8,
        "rows": 6
       }
      },
      "text/html": [
       "<div>\n",
       "<style scoped>\n",
       "    .dataframe tbody tr th:only-of-type {\n",
       "        vertical-align: middle;\n",
       "    }\n",
       "\n",
       "    .dataframe tbody tr th {\n",
       "        vertical-align: top;\n",
       "    }\n",
       "\n",
       "    .dataframe thead th {\n",
       "        text-align: right;\n",
       "    }\n",
       "</style>\n",
       "<table border=\"1\" class=\"dataframe\">\n",
       "  <thead>\n",
       "    <tr style=\"text-align: right;\">\n",
       "      <th></th>\n",
       "      <th>levels</th>\n",
       "      <th>lags</th>\n",
       "      <th>lags_label</th>\n",
       "      <th>params</th>\n",
       "      <th>mean_absolute_error</th>\n",
       "      <th>custom_metric</th>\n",
       "      <th>mean_squared_error</th>\n",
       "      <th>alpha</th>\n",
       "    </tr>\n",
       "  </thead>\n",
       "  <tbody>\n",
       "    <tr>\n",
       "      <th>0</th>\n",
       "      <td>[co]</td>\n",
       "      <td>[1, 2, 3, 4, 5, 6, 7, 8, 9, 10, 11, 12, 13, 14]</td>\n",
       "      <td>[1, 2, 3, 4, 5, 6, 7, 8, 9, 10, 11, 12, 13, 14]</td>\n",
       "      <td>{'alpha': 0.01}</td>\n",
       "      <td>0.014487</td>\n",
       "      <td>0.021981</td>\n",
       "      <td>0.000439</td>\n",
       "      <td>0.01</td>\n",
       "    </tr>\n",
       "    <tr>\n",
       "      <th>1</th>\n",
       "      <td>[co]</td>\n",
       "      <td>[1, 2, 3, 4, 5, 6, 7, 8, 9, 10, 11, 12, 13, 14]</td>\n",
       "      <td>[1, 2, 3, 4, 5, 6, 7, 8, 9, 10, 11, 12, 13, 14]</td>\n",
       "      <td>{'alpha': 0.1}</td>\n",
       "      <td>0.014487</td>\n",
       "      <td>0.021981</td>\n",
       "      <td>0.000439</td>\n",
       "      <td>0.10</td>\n",
       "    </tr>\n",
       "    <tr>\n",
       "      <th>2</th>\n",
       "      <td>[co]</td>\n",
       "      <td>[1, 2, 3, 4, 5, 6, 7, 8, 9, 10, 11, 12, 13, 14]</td>\n",
       "      <td>[1, 2, 3, 4, 5, 6, 7, 8, 9, 10, 11, 12, 13, 14]</td>\n",
       "      <td>{'alpha': 1}</td>\n",
       "      <td>0.014487</td>\n",
       "      <td>0.021981</td>\n",
       "      <td>0.000439</td>\n",
       "      <td>1.00</td>\n",
       "    </tr>\n",
       "    <tr>\n",
       "      <th>3</th>\n",
       "      <td>[co]</td>\n",
       "      <td>[1, 2, 3, 4, 5, 6, 7]</td>\n",
       "      <td>[1, 2, 3, 4, 5, 6, 7]</td>\n",
       "      <td>{'alpha': 0.01}</td>\n",
       "      <td>0.014773</td>\n",
       "      <td>0.022789</td>\n",
       "      <td>0.000511</td>\n",
       "      <td>0.01</td>\n",
       "    </tr>\n",
       "    <tr>\n",
       "      <th>4</th>\n",
       "      <td>[co]</td>\n",
       "      <td>[1, 2, 3, 4, 5, 6, 7]</td>\n",
       "      <td>[1, 2, 3, 4, 5, 6, 7]</td>\n",
       "      <td>{'alpha': 1}</td>\n",
       "      <td>0.014773</td>\n",
       "      <td>0.022789</td>\n",
       "      <td>0.000511</td>\n",
       "      <td>1.00</td>\n",
       "    </tr>\n",
       "    <tr>\n",
       "      <th>5</th>\n",
       "      <td>[co]</td>\n",
       "      <td>[1, 2, 3, 4, 5, 6, 7]</td>\n",
       "      <td>[1, 2, 3, 4, 5, 6, 7]</td>\n",
       "      <td>{'alpha': 0.1}</td>\n",
       "      <td>0.014773</td>\n",
       "      <td>0.022789</td>\n",
       "      <td>0.000511</td>\n",
       "      <td>0.10</td>\n",
       "    </tr>\n",
       "  </tbody>\n",
       "</table>\n",
       "</div>"
      ],
      "text/plain": [
       "  levels                                             lags  \\\n",
       "0   [co]  [1, 2, 3, 4, 5, 6, 7, 8, 9, 10, 11, 12, 13, 14]   \n",
       "1   [co]  [1, 2, 3, 4, 5, 6, 7, 8, 9, 10, 11, 12, 13, 14]   \n",
       "2   [co]  [1, 2, 3, 4, 5, 6, 7, 8, 9, 10, 11, 12, 13, 14]   \n",
       "3   [co]                            [1, 2, 3, 4, 5, 6, 7]   \n",
       "4   [co]                            [1, 2, 3, 4, 5, 6, 7]   \n",
       "5   [co]                            [1, 2, 3, 4, 5, 6, 7]   \n",
       "\n",
       "                                        lags_label           params  \\\n",
       "0  [1, 2, 3, 4, 5, 6, 7, 8, 9, 10, 11, 12, 13, 14]  {'alpha': 0.01}   \n",
       "1  [1, 2, 3, 4, 5, 6, 7, 8, 9, 10, 11, 12, 13, 14]   {'alpha': 0.1}   \n",
       "2  [1, 2, 3, 4, 5, 6, 7, 8, 9, 10, 11, 12, 13, 14]     {'alpha': 1}   \n",
       "3                            [1, 2, 3, 4, 5, 6, 7]  {'alpha': 0.01}   \n",
       "4                            [1, 2, 3, 4, 5, 6, 7]     {'alpha': 1}   \n",
       "5                            [1, 2, 3, 4, 5, 6, 7]   {'alpha': 0.1}   \n",
       "\n",
       "   mean_absolute_error  custom_metric  mean_squared_error  alpha  \n",
       "0             0.014487       0.021981            0.000439   0.01  \n",
       "1             0.014487       0.021981            0.000439   0.10  \n",
       "2             0.014487       0.021981            0.000439   1.00  \n",
       "3             0.014773       0.022789            0.000511   0.01  \n",
       "4             0.014773       0.022789            0.000511   1.00  \n",
       "5             0.014773       0.022789            0.000511   0.10  "
      ]
     },
     "execution_count": 22,
     "metadata": {},
     "output_type": "execute_result"
    }
   ],
   "source": [
    "# Grid search MultiVariate with multiple metrics\n",
    "# ==============================================================================\n",
    "forecaster = ForecasterDirectMultiVariate(\n",
    "                 regressor = LGBMRegressor(random_state=123, verbose=-1),\n",
    "                 level     = 'co',\n",
    "                 lags      = 7,\n",
    "                 steps     = 7\n",
    "             )    \n",
    "\n",
    "def custom_metric(y_true, y_pred):\n",
    "    \"\"\"\n",
    "    Calculate the mean absolute error using only the predicted values of the last\n",
    "    3 months of the year.\n",
    "    \"\"\"\n",
    "    mask = y_true.index.month.isin([10, 11, 12])\n",
    "    metric = mean_absolute_error(y_true[mask], y_pred[mask])\n",
    "    \n",
    "    return metric\n",
    "\n",
    "cv = TimeSeriesFold(\n",
    "         steps              = 7,\n",
    "         initial_train_size = len(data_train),\n",
    "         refit              = False,\n",
    "     )\n",
    "\n",
    "lags_grid = [7, 14]\n",
    "param_grid = {'alpha': [0.01, 0.1, 1]}\n",
    "\n",
    "results = grid_search_forecaster_multiseries(\n",
    "              forecaster       = forecaster,\n",
    "              series           = data,\n",
    "              lags_grid        = lags_grid,\n",
    "              param_grid       = param_grid,\n",
    "              cv               = cv,\n",
    "              metric           = [mean_absolute_error, custom_metric, 'mean_squared_error'],\n",
    "              aggregate_metric = 'weighted_average',\n",
    "          )\n",
    "\n",
    "results"
   ]
  },
  {
   "attachments": {},
   "cell_type": "markdown",
   "id": "dbe3c4dc-4b71-42f0-a4c9-d6815535272d",
   "metadata": {},
   "source": [
    "## Feature importances\n",
    "\n",
    "Since <code>ForecasterDirectMultiVariate</code> fits one model per step, it is necessary to specify from which model retrieves its feature importances."
   ]
  },
  {
   "cell_type": "code",
   "execution_count": 23,
   "id": "8394cca9-e86d-4309-b10c-ea26485f85e7",
   "metadata": {},
   "outputs": [
    {
     "data": {
      "application/vnd.microsoft.datawrangler.viewer.v0+json": {
       "columns": [
        {
         "name": "index",
         "rawType": "int64",
         "type": "integer"
        },
        {
         "name": "feature",
         "rawType": "object",
         "type": "string"
        },
        {
         "name": "importance",
         "rawType": "int32",
         "type": "integer"
        }
       ],
       "conversionMethod": "pd.DataFrame",
       "ref": "74313174-4472-4bfc-9e6f-b9eec5ea83f1",
       "rows": [
        [
         "14",
         "co_lag_1",
         "146"
        ],
        [
         "31",
         "no_lag_4",
         "84"
        ],
        [
         "61",
         "pm10_lag_6",
         "64"
        ],
        [
         "1",
         "so2_lag_2",
         "52"
        ],
        [
         "0",
         "so2_lag_1",
         "50"
        ],
        [
         "58",
         "pm10_lag_3",
         "46"
        ],
        [
         "2",
         "so2_lag_3",
         "45"
        ],
        [
         "19",
         "co_lag_6",
         "40"
        ],
        [
         "72",
         "nox_lag_3",
         "38"
        ],
        [
         "15",
         "co_lag_2",
         "38"
        ],
        [
         "30",
         "no_lag_3",
         "36"
        ],
        [
         "8",
         "so2_lag_9",
         "36"
        ],
        [
         "21",
         "co_lag_8",
         "36"
        ],
        [
         "125",
         "direc._lag_14",
         "36"
        ],
        [
         "103",
         "veloc._lag_6",
         "34"
        ],
        [
         "16",
         "co_lag_3",
         "33"
        ],
        [
         "60",
         "pm10_lag_5",
         "32"
        ],
        [
         "90",
         "o3_lag_7",
         "32"
        ],
        [
         "18",
         "co_lag_5",
         "32"
        ],
        [
         "109",
         "veloc._lag_12",
         "31"
        ],
        [
         "102",
         "veloc._lag_5",
         "30"
        ],
        [
         "20",
         "co_lag_7",
         "29"
        ],
        [
         "126",
         "pm2.5_lag_1",
         "29"
        ],
        [
         "134",
         "pm2.5_lag_9",
         "29"
        ],
        [
         "27",
         "co_lag_14",
         "29"
        ],
        [
         "36",
         "no_lag_9",
         "28"
        ],
        [
         "56",
         "pm10_lag_1",
         "28"
        ],
        [
         "23",
         "co_lag_10",
         "27"
        ],
        [
         "121",
         "direc._lag_10",
         "27"
        ],
        [
         "39",
         "no_lag_12",
         "26"
        ],
        [
         "48",
         "no2_lag_7",
         "26"
        ],
        [
         "106",
         "veloc._lag_9",
         "26"
        ],
        [
         "96",
         "o3_lag_13",
         "26"
        ],
        [
         "138",
         "pm2.5_lag_13",
         "26"
        ],
        [
         "130",
         "pm2.5_lag_5",
         "25"
        ],
        [
         "37",
         "no_lag_10",
         "25"
        ],
        [
         "123",
         "direc._lag_12",
         "24"
        ],
        [
         "122",
         "direc._lag_11",
         "24"
        ],
        [
         "97",
         "o3_lag_14",
         "24"
        ],
        [
         "116",
         "direc._lag_5",
         "24"
        ],
        [
         "25",
         "co_lag_12",
         "24"
        ],
        [
         "111",
         "veloc._lag_14",
         "24"
        ],
        [
         "100",
         "veloc._lag_3",
         "23"
        ],
        [
         "73",
         "nox_lag_4",
         "23"
        ],
        [
         "98",
         "veloc._lag_1",
         "23"
        ],
        [
         "12",
         "so2_lag_13",
         "22"
        ],
        [
         "62",
         "pm10_lag_7",
         "22"
        ],
        [
         "136",
         "pm2.5_lag_11",
         "22"
        ],
        [
         "92",
         "o3_lag_9",
         "22"
        ],
        [
         "68",
         "pm10_lag_13",
         "22"
        ]
       ],
       "shape": {
        "columns": 2,
        "rows": 140
       }
      },
      "text/html": [
       "<div>\n",
       "<style scoped>\n",
       "    .dataframe tbody tr th:only-of-type {\n",
       "        vertical-align: middle;\n",
       "    }\n",
       "\n",
       "    .dataframe tbody tr th {\n",
       "        vertical-align: top;\n",
       "    }\n",
       "\n",
       "    .dataframe thead th {\n",
       "        text-align: right;\n",
       "    }\n",
       "</style>\n",
       "<table border=\"1\" class=\"dataframe\">\n",
       "  <thead>\n",
       "    <tr style=\"text-align: right;\">\n",
       "      <th></th>\n",
       "      <th>feature</th>\n",
       "      <th>importance</th>\n",
       "    </tr>\n",
       "  </thead>\n",
       "  <tbody>\n",
       "    <tr>\n",
       "      <th>14</th>\n",
       "      <td>co_lag_1</td>\n",
       "      <td>146</td>\n",
       "    </tr>\n",
       "    <tr>\n",
       "      <th>31</th>\n",
       "      <td>no_lag_4</td>\n",
       "      <td>84</td>\n",
       "    </tr>\n",
       "    <tr>\n",
       "      <th>61</th>\n",
       "      <td>pm10_lag_6</td>\n",
       "      <td>64</td>\n",
       "    </tr>\n",
       "    <tr>\n",
       "      <th>1</th>\n",
       "      <td>so2_lag_2</td>\n",
       "      <td>52</td>\n",
       "    </tr>\n",
       "    <tr>\n",
       "      <th>0</th>\n",
       "      <td>so2_lag_1</td>\n",
       "      <td>50</td>\n",
       "    </tr>\n",
       "    <tr>\n",
       "      <th>...</th>\n",
       "      <td>...</td>\n",
       "      <td>...</td>\n",
       "    </tr>\n",
       "    <tr>\n",
       "      <th>52</th>\n",
       "      <td>no2_lag_11</td>\n",
       "      <td>8</td>\n",
       "    </tr>\n",
       "    <tr>\n",
       "      <th>131</th>\n",
       "      <td>pm2.5_lag_6</td>\n",
       "      <td>8</td>\n",
       "    </tr>\n",
       "    <tr>\n",
       "      <th>132</th>\n",
       "      <td>pm2.5_lag_7</td>\n",
       "      <td>7</td>\n",
       "    </tr>\n",
       "    <tr>\n",
       "      <th>82</th>\n",
       "      <td>nox_lag_13</td>\n",
       "      <td>5</td>\n",
       "    </tr>\n",
       "    <tr>\n",
       "      <th>54</th>\n",
       "      <td>no2_lag_13</td>\n",
       "      <td>3</td>\n",
       "    </tr>\n",
       "  </tbody>\n",
       "</table>\n",
       "<p>140 rows × 2 columns</p>\n",
       "</div>"
      ],
      "text/plain": [
       "         feature  importance\n",
       "14      co_lag_1         146\n",
       "31      no_lag_4          84\n",
       "61    pm10_lag_6          64\n",
       "1      so2_lag_2          52\n",
       "0      so2_lag_1          50\n",
       "..           ...         ...\n",
       "52    no2_lag_11           8\n",
       "131  pm2.5_lag_6           8\n",
       "132  pm2.5_lag_7           7\n",
       "82    nox_lag_13           5\n",
       "54    no2_lag_13           3\n",
       "\n",
       "[140 rows x 2 columns]"
      ]
     },
     "execution_count": 23,
     "metadata": {},
     "output_type": "execute_result"
    }
   ],
   "source": [
    "# Feature importances for step 1\n",
    "# ==============================================================================\n",
    "forecaster.get_feature_importances(step=1)"
   ]
  },
  {
   "attachments": {},
   "cell_type": "markdown",
   "id": "6d257fbe-f14e-4b5c-b21c-82b1fa87d511",
   "metadata": {},
   "source": [
    "## Training and prediction matrices\n",
    "\n",
    "While the primary goal of building forecasting models is to predict future values, it is equally important to evaluate if the model is effectively learning from the training data. Analyzing predictions on the training data or exploring the prediction matrices is crucial for assessing model performance and understanding areas for optimization. This process can help identify issues like overfitting or underfitting, as well as provide deeper insights into the model’s decision-making process. Check the [How to Extract Training and Prediction Matrices](../user_guides/training-and-prediction-matrices.html) user guide for more information."
   ]
  }
 ],
 "metadata": {
  "kernelspec": {
   "display_name": "skforecast_15_p12",
   "language": "python",
   "name": "python3"
  },
  "language_info": {
   "codemirror_mode": {
    "name": "ipython",
    "version": 3
   },
   "file_extension": ".py",
   "mimetype": "text/x-python",
   "name": "python",
   "nbconvert_exporter": "python",
   "pygments_lexer": "ipython3",
   "version": "3.12.9"
  },
  "toc": {
   "base_numbering": 1,
   "nav_menu": {},
   "number_sections": true,
   "sideBar": true,
   "skip_h1_title": false,
   "title_cell": "Table of Contents",
   "title_sidebar": "Contents",
   "toc_cell": false,
   "toc_position": {
    "height": "calc(100% - 180px)",
    "left": "10px",
    "top": "150px",
    "width": "184.087px"
   },
   "toc_section_display": true,
   "toc_window_display": true
  }
 },
 "nbformat": 4,
 "nbformat_minor": 5
}
