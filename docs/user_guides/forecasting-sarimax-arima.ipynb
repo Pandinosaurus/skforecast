{
 "cells": [
  {
   "attachments": {},
   "cell_type": "markdown",
   "id": "bbb9de38-5318-4e53-a2aa-409c7b991fe8",
   "metadata": {},
   "source": [
    "# ARIMA and SARIMAX\n",
    "\n",
    "ARIMA (AutoRegressive Integrated Moving Average) and SARIMAX (Seasonal AutoRegressive Integrated Moving Average with eXogenous regressors) are prominent and widely used statistical forecasting models. While ARIMA models are more widely known, SARIMAX models extend the ARIMA framework by seamlessly integrating seasonal patterns and exogenous variables.\n",
    "\n",
    "In the ARIMA-SARIMAX model notation, the parameters $p$, $d$, and $q$ represent the autoregressive, differencing, and moving-average components, respectively. $P$, $D$, and $Q$ denote the same components for the seasonal part of the model, with $m$ representing the number of periods in each season.\n",
    "\n",
    "+ $p$ is the order (number of time lags) of the autoregressive part of the model.\n",
    "\n",
    "+ $d$ is the degree of differencing (the number of times that past values have been subtracted from the data).\n",
    "\n",
    "+ $q$ is the order of the moving average part of the model.\n",
    "\n",
    "+ $P$ is the order (number of time lags) of the seasonal part of the model.\n",
    "\n",
    "+ $D$ is the degree of differencing (the number of times the data have had past values subtracted) of the seasonal part of the model.\n",
    "\n",
    "+ $Q$ is the order of the moving average of the seasonal part of the model.\n",
    "\n",
    "+ $m$ refers to the number of periods in each season.\n",
    "\n",
    "When the terms $P$, $D$, $Q$, and $m$ are zero and no exogenous variables are included in the model, the SARIMAX model is equivalent to an ARIMA.\n",
    "\n",
    "When two out of the three terms are zero, the model can be referred to based on the non-zero parameter, dropping \"AR\", \"I\" or \"MA\" from the acronym describing the model. For example, $ARIMA(1,0,0)$ is $AR(1)$, $ARIMA(0,1,0)$ is $I(1)$, and $ARIMA(0,0,1)$ is $MA(1)$.\n",
    "\n",
    "<font size=\"6\">ARIMA implementations</font>\n",
    "\n",
    "Several Python libraries implement ARIMA-SARIMAX models. Three of them are:\n",
    "\n",
    "+ [statsmodels](https://www.statsmodels.org/stable/index.html): this is one of the most complete libraries for statistical modeling. While the functional paradigm may be intuitive for those coming from the R environment, those accustomed to the object-oriented API of scikit-learn may need a short period of adaptation.\n",
    "\n",
    "+ [pmdarima](http://alkaline-ml.com/pmdarima/): This is a wrapper for `statsmodels SARIMAX`. Its distinguishing feature is its seamless integration with the scikit-learn API, allowing users familiar with scikit-learn's conventions to seamlessly dive into time series modeling.\n",
    "\n",
    "+ [skforecast](https://skforecast.org/latest/index.html): a novel wrapper for `statsmodels SARIMAX` that also follows the scikit-learn API. This implementation is very similar to that of pmdarima, but has been streamlined to include only the essential elements for skforecast, resulting in significant speed improvements.\n",
    "\n",
    "<font size=\"6\">ForecasterSarimax</font>\n",
    "\n",
    "The <code>ForecasterSarimax</code> class allows training and validation of ARIMA and SARIMAX models using the skforecast API. <code>ForecasterSarimax</code> is compatible with the [`Sarimax` from skforecast](../api/sarimax.html) implementation, a novel wrapper for [statsmodels SARIMAX](https://www.statsmodels.org/stable/generated/statsmodels.tsa.statespace.sarimax.SARIMAX.html) that also follows the sklearn API. This implementation is very similar to pmdarima, but has been streamlined to include only the essential elements for skforecast, resulting in significant speed improvements."
   ]
  },
  {
   "cell_type": "markdown",
   "id": "1ca6b79c",
   "metadata": {},
   "source": [
    "<div class=\"admonition note\" name=\"html-admonition\" style=\"background: rgba(0,191,191,.1); padding-top: 0px; padding-bottom: 6px; border-radius: 8px; border-left: 8px solid #00bfa5; border-color: #00bfa5; padding-left: 10px; padding-right: 10px;\">\n",
    "\n",
    "<p class=\"title\">\n",
    "    <i style=\"font-size: 18px; color:#00bfa5;\"></i>\n",
    "    <b style=\"color: #00bfa5;\">&#128161 Tip</b>\n",
    "</p>\n",
    "\n",
    "To learn more about modeling time series with ARIMA models, visit our example: <a href=\"https://www.cienciadedatos.net/documentos/py51-arima-sarimax-models-python.html\">ARIMA and SARIMAX models with Python</a>.\n",
    "\n",
    "</div>"
   ]
  },
  {
   "cell_type": "markdown",
   "id": "a20a0532",
   "metadata": {},
   "source": [
    "<div class=\"admonition note\" name=\"html-admonition\" style=\"background: rgba(255,145,0,.1); padding-top: 0px; padding-bottom: 6px; border-radius: 8px; border-left: 8px solid #ff9100; border-color: #ff9100; padding-left: 10px; padding-right: 10px\">\n",
    "\n",
    "<p class=\"title\">\n",
    "    <i style=\"font-size: 18px; color:#ff9100; border-color: #ff1744;\"></i>\n",
    "    <b style=\"color: #ff9100;\"> <span style=\"color: #ff9100;\">&#9888;</span> Warning</b>\n",
    "</p>\n",
    "\n",
    "The <code>pmdarima.ARIMA</code> regressor is no longer supported by the <code>ForecasterSarimax</code>. You can use the <code>skforecast.Sarimax.Sarimax</code> model or, to continue using it, use skforecast 0.13.0 or lower.\n",
    "<br><br>\n",
    "User guide: https://skforecast.org/0.13.0/user_guides/forecasting-sarimax-arima#forecastersarimax\n",
    "\n",
    "</div>"
   ]
  },
  {
   "attachments": {},
   "cell_type": "markdown",
   "id": "d1ae70e1-1354-4aa6-9dc4-73d3c7b016c5",
   "metadata": {},
   "source": [
    "## Libraries and data"
   ]
  },
  {
   "cell_type": "code",
   "execution_count": 19,
   "id": "d378f5ff-8092-49bb-80b7-8a3996d19fb1",
   "metadata": {
    "ExecuteTime": {
     "end_time": "2022-03-06T18:53:26.295308Z",
     "start_time": "2022-03-06T18:53:25.182680Z"
    }
   },
   "outputs": [],
   "source": [
    "# Libraries\n",
    "# ==============================================================================\n",
    "import matplotlib.pyplot as plt\n",
    "from sklearn.metrics import mean_absolute_error\n",
    "from skforecast.datasets import fetch_dataset\n",
    "from skforecast.sarimax import Sarimax\n",
    "from skforecast.recursive import ForecasterSarimax\n",
    "from skforecast.model_selection import TimeSeriesFold, backtesting_sarimax, grid_search_sarimax\n",
    "from skforecast.plot import set_dark_theme\n",
    "from statsmodels.tsa.statespace.sarimax import SARIMAX\n",
    "import warnings\n",
    "warnings.filterwarnings('ignore')"
   ]
  },
  {
   "cell_type": "code",
   "execution_count": 20,
   "id": "9b59e2b8",
   "metadata": {},
   "outputs": [
    {
     "name": "stdout",
     "output_type": "stream",
     "text": [
      "h2o_exog\n",
      "--------\n",
      "Monthly expenditure ($AUD) on corticosteroid drugs that the Australian health\n",
      "system had between 1991 and 2008. Two additional variables (exog_1, exog_2) are\n",
      "simulated.\n",
      "Hyndman R (2023). fpp3: Data for Forecasting: Principles and Practice (3rd\n",
      "Edition). http://pkg.robjhyndman.com/fpp3package/,\n",
      "https://github.com/robjhyndman/fpp3package, http://OTexts.com/fpp3.\n",
      "Shape of the dataset: (195, 3)\n"
     ]
    }
   ],
   "source": [
    "# Download data\n",
    "# ==============================================================================\n",
    "data = fetch_dataset(name=\"h2o_exog\")\n",
    "data.index.name = 'datetime'"
   ]
  },
  {
   "cell_type": "code",
   "execution_count": 21,
   "id": "fe2cb76c",
   "metadata": {},
   "outputs": [
    {
     "name": "stdout",
     "output_type": "stream",
     "text": [
      "Train dates : 1992-04-01 00:00:00 --- 2005-06-01 00:00:00  (n=159)\n",
      "Test dates  : 2005-07-01 00:00:00 --- 2008-06-01 00:00:00  (n=36)\n"
     ]
    },
    {
     "data": {
      "image/png": "[encoded data removed]",
      "text/plain": [
       "<Figure size 700x300 with 1 Axes>"
      ]
     },
     "metadata": {},
     "output_type": "display_data"
    }
   ],
   "source": [
    "# Train-test dates\n",
    "# ==============================================================================\n",
    "end_train = '2005-06-01 23:59:59'\n",
    "print(\n",
    "    f\"Train dates : {data.index.min()} --- {data.loc[:end_train].index.max()}  \"\n",
    "    f\"(n={len(data.loc[:end_train])})\"\n",
    ")\n",
    "print(\n",
    "    f\"Test dates  : {data.loc[end_train:].index.min()} --- {data.loc[:].index.max()}  \"\n",
    "    f\"(n={len(data.loc[end_train:])})\"\n",
    ")\n",
    "data_train = data.loc[:end_train]\n",
    "data_test  = data.loc[end_train:]\n",
    "\n",
    "# Plot\n",
    "# ==============================================================================\n",
    "set_dark_theme()\n",
    "fig, ax = plt.subplots(figsize=(7, 3))\n",
    "data.plot(ax=ax)\n",
    "ax.legend();"
   ]
  },
  {
   "cell_type": "markdown",
   "id": "bdaca6ff",
   "metadata": {},
   "source": [
    "## Statsmodels and skforecast"
   ]
  },
  {
   "cell_type": "markdown",
   "id": "c64ebb48",
   "metadata": {},
   "source": [
    "The following section focus on how to train an ARIMA model and forecast future values with each of the three libraries."
   ]
  },
  {
   "cell_type": "markdown",
   "id": "33edbfec",
   "metadata": {},
   "source": [
    "<font size=\"5\">**statsmodels**</font>"
   ]
  },
  {
   "cell_type": "code",
   "execution_count": 22,
   "id": "27ae794e",
   "metadata": {},
   "outputs": [
    {
     "data": {
      "text/html": [
       "<table class=\"simpletable\">\n",
       "<caption>SARIMAX Results</caption>\n",
       "<tr>\n",
       "  <th>Dep. Variable:</th>           <td>y</td>        <th>  No. Observations:  </th>    <td>159</td>  \n",
       "</tr>\n",
       "<tr>\n",
       "  <th>Model:</th>           <td>SARIMAX(1, 1, 1)</td> <th>  Log Likelihood     </th>  <td>89.934</td> \n",
       "</tr>\n",
       "<tr>\n",
       "  <th>Date:</th>            <td>Fri, 07 Mar 2025</td> <th>  AIC                </th> <td>-173.869</td>\n",
       "</tr>\n",
       "<tr>\n",
       "  <th>Time:</th>                <td>11:29:01</td>     <th>  BIC                </th> <td>-164.681</td>\n",
       "</tr>\n",
       "<tr>\n",
       "  <th>Sample:</th>             <td>04-01-1992</td>    <th>  HQIC               </th> <td>-170.137</td>\n",
       "</tr>\n",
       "<tr>\n",
       "  <th></th>                   <td>- 06-01-2005</td>   <th>                     </th>     <td> </td>   \n",
       "</tr>\n",
       "<tr>\n",
       "  <th>Covariance Type:</th>        <td>opg</td>       <th>                     </th>     <td> </td>   \n",
       "</tr>\n",
       "</table>\n",
       "<table class=\"simpletable\">\n",
       "<tr>\n",
       "     <td></td>       <th>coef</th>     <th>std err</th>      <th>z</th>      <th>P>|z|</th>  <th>[0.025</th>    <th>0.975]</th>  \n",
       "</tr>\n",
       "<tr>\n",
       "  <th>ar.L1</th>  <td>    0.6316</td> <td>    0.143</td> <td>    4.420</td> <td> 0.000</td> <td>    0.352</td> <td>    0.912</td>\n",
       "</tr>\n",
       "<tr>\n",
       "  <th>ma.L1</th>  <td>   -0.9534</td> <td>    0.054</td> <td>  -17.814</td> <td> 0.000</td> <td>   -1.058</td> <td>   -0.849</td>\n",
       "</tr>\n",
       "<tr>\n",
       "  <th>sigma2</th> <td>    0.0186</td> <td>    0.002</td> <td>    8.619</td> <td> 0.000</td> <td>    0.014</td> <td>    0.023</td>\n",
       "</tr>\n",
       "</table>\n",
       "<table class=\"simpletable\">\n",
       "<tr>\n",
       "  <th>Ljung-Box (L1) (Q):</th>     <td>0.75</td> <th>  Jarque-Bera (JB):  </th> <td>167.05</td>\n",
       "</tr>\n",
       "<tr>\n",
       "  <th>Prob(Q):</th>                <td>0.39</td> <th>  Prob(JB):          </th>  <td>0.00</td> \n",
       "</tr>\n",
       "<tr>\n",
       "  <th>Heteroskedasticity (H):</th> <td>2.13</td> <th>  Skew:              </th>  <td>-1.66</td>\n",
       "</tr>\n",
       "<tr>\n",
       "  <th>Prob(H) (two-sided):</th>    <td>0.01</td> <th>  Kurtosis:          </th>  <td>6.78</td> \n",
       "</tr>\n",
       "</table><br/><br/>Warnings:<br/>[1] Covariance matrix calculated using the outer product of gradients (complex-step)."
      ],
      "text/latex": [
       "\\begin{center}\n",
       "\\begin{tabular}{lclc}\n",
       "\\toprule\n",
       "\\textbf{Dep. Variable:}          &        y         & \\textbf{  No. Observations:  } &    159      \\\\\n",
       "\\textbf{Model:}                  & SARIMAX(1, 1, 1) & \\textbf{  Log Likelihood     } &   89.934    \\\\\n",
       "\\textbf{Date:}                   & Fri, 07 Mar 2025 & \\textbf{  AIC                } &  -173.869   \\\\\n",
       "\\textbf{Time:}                   &     11:29:01     & \\textbf{  BIC                } &  -164.681   \\\\\n",
       "\\textbf{Sample:}                 &    04-01-1992    & \\textbf{  HQIC               } &  -170.137   \\\\\n",
       "\\textbf{}                        &   - 06-01-2005   & \\textbf{                     } &             \\\\\n",
       "\\textbf{Covariance Type:}        &       opg        & \\textbf{                     } &             \\\\\n",
       "\\bottomrule\n",
       "\\end{tabular}\n",
       "\\begin{tabular}{lcccccc}\n",
       "                & \\textbf{coef} & \\textbf{std err} & \\textbf{z} & \\textbf{P$> |$z$|$} & \\textbf{[0.025} & \\textbf{0.975]}  \\\\\n",
       "\\midrule\n",
       "\\textbf{ar.L1}  &       0.6316  &        0.143     &     4.420  &         0.000        &        0.352    &        0.912     \\\\\n",
       "\\textbf{ma.L1}  &      -0.9534  &        0.054     &   -17.814  &         0.000        &       -1.058    &       -0.849     \\\\\n",
       "\\textbf{sigma2} &       0.0186  &        0.002     &     8.619  &         0.000        &        0.014    &        0.023     \\\\\n",
       "\\bottomrule\n",
       "\\end{tabular}\n",
       "\\begin{tabular}{lclc}\n",
       "\\textbf{Ljung-Box (L1) (Q):}     & 0.75 & \\textbf{  Jarque-Bera (JB):  } & 167.05  \\\\\n",
       "\\textbf{Prob(Q):}                & 0.39 & \\textbf{  Prob(JB):          } &  0.00   \\\\\n",
       "\\textbf{Heteroskedasticity (H):} & 2.13 & \\textbf{  Skew:              } & -1.66   \\\\\n",
       "\\textbf{Prob(H) (two-sided):}    & 0.01 & \\textbf{  Kurtosis:          } &  6.78   \\\\\n",
       "\\bottomrule\n",
       "\\end{tabular}\n",
       "%\\caption{SARIMAX Results}\n",
       "\\end{center}\n",
       "\n",
       "Warnings: \\newline\n",
       " [1] Covariance matrix calculated using the outer product of gradients (complex-step)."
      ],
      "text/plain": [
       "<class 'statsmodels.iolib.summary.Summary'>\n",
       "\"\"\"\n",
       "                               SARIMAX Results                                \n",
       "==============================================================================\n",
       "Dep. Variable:                      y   No. Observations:                  159\n",
       "Model:               SARIMAX(1, 1, 1)   Log Likelihood                  89.934\n",
       "Date:                Fri, 07 Mar 2025   AIC                           -173.869\n",
       "Time:                        11:29:01   BIC                           -164.681\n",
       "Sample:                    04-01-1992   HQIC                          -170.137\n",
       "                         - 06-01-2005                                         \n",
       "Covariance Type:                  opg                                         \n",
       "==============================================================================\n",
       "                 coef    std err          z      P>|z|      [0.025      0.975]\n",
       "------------------------------------------------------------------------------\n",
       "ar.L1          0.6316      0.143      4.420      0.000       0.352       0.912\n",
       "ma.L1         -0.9534      0.054    -17.814      0.000      -1.058      -0.849\n",
       "sigma2         0.0186      0.002      8.619      0.000       0.014       0.023\n",
       "===================================================================================\n",
       "Ljung-Box (L1) (Q):                   0.75   Jarque-Bera (JB):               167.05\n",
       "Prob(Q):                              0.39   Prob(JB):                         0.00\n",
       "Heteroskedasticity (H):               2.13   Skew:                            -1.66\n",
       "Prob(H) (two-sided):                  0.01   Kurtosis:                         6.78\n",
       "===================================================================================\n",
       "\n",
       "Warnings:\n",
       "[1] Covariance matrix calculated using the outer product of gradients (complex-step).\n",
       "\"\"\""
      ]
     },
     "execution_count": 22,
     "metadata": {},
     "output_type": "execute_result"
    }
   ],
   "source": [
    "# ARIMA model with statsmodels.Sarimax\n",
    "# ==============================================================================\n",
    "arima = SARIMAX(endog = data_train['y'], order = (1, 1, 1))\n",
    "arima_res = arima.fit(disp=0)\n",
    "arima_res.summary()"
   ]
  },
  {
   "cell_type": "code",
   "execution_count": 23,
   "id": "e6d534cb",
   "metadata": {},
   "outputs": [
    {
     "data": {
      "text/plain": [
       "2005-07-01    0.859455\n",
       "2005-08-01    0.870313\n",
       "2005-09-01    0.877172\n",
       "2005-10-01    0.881503\n",
       "Freq: MS, Name: predicted_mean, dtype: float64"
      ]
     },
     "execution_count": 23,
     "metadata": {},
     "output_type": "execute_result"
    }
   ],
   "source": [
    "# Prediction\n",
    "# ==============================================================================\n",
    "predictions = arima_res.get_forecast(steps=12)\n",
    "predictions.predicted_mean.head(4)"
   ]
  },
  {
   "cell_type": "markdown",
   "id": "463e7aeb",
   "metadata": {},
   "source": [
    "<font size=\"5\">**skforecast**</font>"
   ]
  },
  {
   "cell_type": "code",
   "execution_count": 24,
   "id": "e612dc13",
   "metadata": {},
   "outputs": [
    {
     "data": {
      "text/html": [
       "<table class=\"simpletable\">\n",
       "<caption>SARIMAX Results</caption>\n",
       "<tr>\n",
       "  <th>Dep. Variable:</th>           <td>y</td>        <th>  No. Observations:  </th>    <td>159</td>  \n",
       "</tr>\n",
       "<tr>\n",
       "  <th>Model:</th>           <td>SARIMAX(1, 1, 1)</td> <th>  Log Likelihood     </th>  <td>89.934</td> \n",
       "</tr>\n",
       "<tr>\n",
       "  <th>Date:</th>            <td>Fri, 07 Mar 2025</td> <th>  AIC                </th> <td>-173.869</td>\n",
       "</tr>\n",
       "<tr>\n",
       "  <th>Time:</th>                <td>11:29:01</td>     <th>  BIC                </th> <td>-164.681</td>\n",
       "</tr>\n",
       "<tr>\n",
       "  <th>Sample:</th>             <td>04-01-1992</td>    <th>  HQIC               </th> <td>-170.137</td>\n",
       "</tr>\n",
       "<tr>\n",
       "  <th></th>                   <td>- 06-01-2005</td>   <th>                     </th>     <td> </td>   \n",
       "</tr>\n",
       "<tr>\n",
       "  <th>Covariance Type:</th>        <td>opg</td>       <th>                     </th>     <td> </td>   \n",
       "</tr>\n",
       "</table>\n",
       "<table class=\"simpletable\">\n",
       "<tr>\n",
       "     <td></td>       <th>coef</th>     <th>std err</th>      <th>z</th>      <th>P>|z|</th>  <th>[0.025</th>    <th>0.975]</th>  \n",
       "</tr>\n",
       "<tr>\n",
       "  <th>ar.L1</th>  <td>    0.6316</td> <td>    0.143</td> <td>    4.420</td> <td> 0.000</td> <td>    0.352</td> <td>    0.912</td>\n",
       "</tr>\n",
       "<tr>\n",
       "  <th>ma.L1</th>  <td>   -0.9534</td> <td>    0.054</td> <td>  -17.814</td> <td> 0.000</td> <td>   -1.058</td> <td>   -0.849</td>\n",
       "</tr>\n",
       "<tr>\n",
       "  <th>sigma2</th> <td>    0.0186</td> <td>    0.002</td> <td>    8.619</td> <td> 0.000</td> <td>    0.014</td> <td>    0.023</td>\n",
       "</tr>\n",
       "</table>\n",
       "<table class=\"simpletable\">\n",
       "<tr>\n",
       "  <th>Ljung-Box (L1) (Q):</th>     <td>0.75</td> <th>  Jarque-Bera (JB):  </th> <td>167.05</td>\n",
       "</tr>\n",
       "<tr>\n",
       "  <th>Prob(Q):</th>                <td>0.39</td> <th>  Prob(JB):          </th>  <td>0.00</td> \n",
       "</tr>\n",
       "<tr>\n",
       "  <th>Heteroskedasticity (H):</th> <td>2.13</td> <th>  Skew:              </th>  <td>-1.66</td>\n",
       "</tr>\n",
       "<tr>\n",
       "  <th>Prob(H) (two-sided):</th>    <td>0.01</td> <th>  Kurtosis:          </th>  <td>6.78</td> \n",
       "</tr>\n",
       "</table><br/><br/>Warnings:<br/>[1] Covariance matrix calculated using the outer product of gradients (complex-step)."
      ],
      "text/latex": [
       "\\begin{center}\n",
       "\\begin{tabular}{lclc}\n",
       "\\toprule\n",
       "\\textbf{Dep. Variable:}          &        y         & \\textbf{  No. Observations:  } &    159      \\\\\n",
       "\\textbf{Model:}                  & SARIMAX(1, 1, 1) & \\textbf{  Log Likelihood     } &   89.934    \\\\\n",
       "\\textbf{Date:}                   & Fri, 07 Mar 2025 & \\textbf{  AIC                } &  -173.869   \\\\\n",
       "\\textbf{Time:}                   &     11:29:01     & \\textbf{  BIC                } &  -164.681   \\\\\n",
       "\\textbf{Sample:}                 &    04-01-1992    & \\textbf{  HQIC               } &  -170.137   \\\\\n",
       "\\textbf{}                        &   - 06-01-2005   & \\textbf{                     } &             \\\\\n",
       "\\textbf{Covariance Type:}        &       opg        & \\textbf{                     } &             \\\\\n",
       "\\bottomrule\n",
       "\\end{tabular}\n",
       "\\begin{tabular}{lcccccc}\n",
       "                & \\textbf{coef} & \\textbf{std err} & \\textbf{z} & \\textbf{P$> |$z$|$} & \\textbf{[0.025} & \\textbf{0.975]}  \\\\\n",
       "\\midrule\n",
       "\\textbf{ar.L1}  &       0.6316  &        0.143     &     4.420  &         0.000        &        0.352    &        0.912     \\\\\n",
       "\\textbf{ma.L1}  &      -0.9534  &        0.054     &   -17.814  &         0.000        &       -1.058    &       -0.849     \\\\\n",
       "\\textbf{sigma2} &       0.0186  &        0.002     &     8.619  &         0.000        &        0.014    &        0.023     \\\\\n",
       "\\bottomrule\n",
       "\\end{tabular}\n",
       "\\begin{tabular}{lclc}\n",
       "\\textbf{Ljung-Box (L1) (Q):}     & 0.75 & \\textbf{  Jarque-Bera (JB):  } & 167.05  \\\\\n",
       "\\textbf{Prob(Q):}                & 0.39 & \\textbf{  Prob(JB):          } &  0.00   \\\\\n",
       "\\textbf{Heteroskedasticity (H):} & 2.13 & \\textbf{  Skew:              } & -1.66   \\\\\n",
       "\\textbf{Prob(H) (two-sided):}    & 0.01 & \\textbf{  Kurtosis:          } &  6.78   \\\\\n",
       "\\bottomrule\n",
       "\\end{tabular}\n",
       "%\\caption{SARIMAX Results}\n",
       "\\end{center}\n",
       "\n",
       "Warnings: \\newline\n",
       " [1] Covariance matrix calculated using the outer product of gradients (complex-step)."
      ],
      "text/plain": [
       "<class 'statsmodels.iolib.summary.Summary'>\n",
       "\"\"\"\n",
       "                               SARIMAX Results                                \n",
       "==============================================================================\n",
       "Dep. Variable:                      y   No. Observations:                  159\n",
       "Model:               SARIMAX(1, 1, 1)   Log Likelihood                  89.934\n",
       "Date:                Fri, 07 Mar 2025   AIC                           -173.869\n",
       "Time:                        11:29:01   BIC                           -164.681\n",
       "Sample:                    04-01-1992   HQIC                          -170.137\n",
       "                         - 06-01-2005                                         \n",
       "Covariance Type:                  opg                                         \n",
       "==============================================================================\n",
       "                 coef    std err          z      P>|z|      [0.025      0.975]\n",
       "------------------------------------------------------------------------------\n",
       "ar.L1          0.6316      0.143      4.420      0.000       0.352       0.912\n",
       "ma.L1         -0.9534      0.054    -17.814      0.000      -1.058      -0.849\n",
       "sigma2         0.0186      0.002      8.619      0.000       0.014       0.023\n",
       "===================================================================================\n",
       "Ljung-Box (L1) (Q):                   0.75   Jarque-Bera (JB):               167.05\n",
       "Prob(Q):                              0.39   Prob(JB):                         0.00\n",
       "Heteroskedasticity (H):               2.13   Skew:                            -1.66\n",
       "Prob(H) (two-sided):                  0.01   Kurtosis:                         6.78\n",
       "===================================================================================\n",
       "\n",
       "Warnings:\n",
       "[1] Covariance matrix calculated using the outer product of gradients (complex-step).\n",
       "\"\"\""
      ]
     },
     "execution_count": 24,
     "metadata": {},
     "output_type": "execute_result"
    }
   ],
   "source": [
    "# ARIMA model with skforecast.Sarimax\n",
    "# ==============================================================================\n",
    "arima = Sarimax(order=(1, 1, 1))\n",
    "arima.fit(y=data_train['y'])\n",
    "arima.summary()"
   ]
  },
  {
   "cell_type": "code",
   "execution_count": 25,
   "id": "5440040e",
   "metadata": {},
   "outputs": [
    {
     "data": {
      "application/vnd.microsoft.datawrangler.viewer.v0+json": {
       "columns": [
        {
         "name": "index",
         "rawType": "datetime64[ns]",
         "type": "datetime"
        },
        {
         "name": "pred",
         "rawType": "float64",
         "type": "float"
        }
       ],
       "conversionMethod": "pd.DataFrame",
       "ref": "49ed760d-0f98-4d3a-a546-bef7d435a8ef",
       "rows": [
        [
         "2005-07-01 00:00:00",
         "0.8594547159381329"
        ],
        [
         "2005-08-01 00:00:00",
         "0.870313234241488"
        ],
        [
         "2005-09-01 00:00:00",
         "0.877171619999408"
        ],
        [
         "2005-10-01 00:00:00",
         "0.8815034684054567"
        ]
       ],
       "shape": {
        "columns": 1,
        "rows": 4
       }
      },
      "text/html": [
       "<div>\n",
       "<style scoped>\n",
       "    .dataframe tbody tr th:only-of-type {\n",
       "        vertical-align: middle;\n",
       "    }\n",
       "\n",
       "    .dataframe tbody tr th {\n",
       "        vertical-align: top;\n",
       "    }\n",
       "\n",
       "    .dataframe thead th {\n",
       "        text-align: right;\n",
       "    }\n",
       "</style>\n",
       "<table border=\"1\" class=\"dataframe\">\n",
       "  <thead>\n",
       "    <tr style=\"text-align: right;\">\n",
       "      <th></th>\n",
       "      <th>pred</th>\n",
       "    </tr>\n",
       "  </thead>\n",
       "  <tbody>\n",
       "    <tr>\n",
       "      <th>2005-07-01</th>\n",
       "      <td>0.859455</td>\n",
       "    </tr>\n",
       "    <tr>\n",
       "      <th>2005-08-01</th>\n",
       "      <td>0.870313</td>\n",
       "    </tr>\n",
       "    <tr>\n",
       "      <th>2005-09-01</th>\n",
       "      <td>0.877172</td>\n",
       "    </tr>\n",
       "    <tr>\n",
       "      <th>2005-10-01</th>\n",
       "      <td>0.881503</td>\n",
       "    </tr>\n",
       "  </tbody>\n",
       "</table>\n",
       "</div>"
      ],
      "text/plain": [
       "                pred\n",
       "2005-07-01  0.859455\n",
       "2005-08-01  0.870313\n",
       "2005-09-01  0.877172\n",
       "2005-10-01  0.881503"
      ]
     },
     "execution_count": 25,
     "metadata": {},
     "output_type": "execute_result"
    }
   ],
   "source": [
    "# Prediction\n",
    "# ==============================================================================\n",
    "predictions = arima.predict(steps=12)\n",
    "predictions.head(4)"
   ]
  },
  {
   "attachments": {},
   "cell_type": "markdown",
   "id": "9801a209-b601-4d9b-aa3c-a2e03df98c98",
   "metadata": {},
   "source": [
    "## ForecasterSarimax"
   ]
  },
  {
   "cell_type": "markdown",
   "id": "24b159ce",
   "metadata": {},
   "source": [
    "The previous section introduced the construction of ARIMA-SARIMAX models using three different implementations. In order to seamlessly integrate these models with the various functionalities provided by **skforecast**, the next step is to encapsulate the skforecast <code>Sarimax</code> model within a <code>ForecasterSarimax</code> object. This encapsulation harmonizes the intricacies of the model and allows for the coherent use of skforecast's extensive capabilities."
   ]
  },
  {
   "attachments": {},
   "cell_type": "markdown",
   "id": "4c8e5dca",
   "metadata": {},
   "source": [
    "## Training"
   ]
  },
  {
   "cell_type": "code",
   "execution_count": 26,
   "id": "4f83164f-9758-485e-86bb-05bbbc04fccd",
   "metadata": {
    "ExecuteTime": {
     "end_time": "2022-03-06T18:53:34.987954Z",
     "start_time": "2022-03-06T18:53:30.218865Z"
    }
   },
   "outputs": [
    {
     "data": {
      "text/html": [
       "\n",
       "    <style>\n",
       "        .container-0477b5847b5945c087ae3df89925bdd7 {\n",
       "            font-family: 'Arial', sans-serif;\n",
       "            font-size: 0.9em;\n",
       "            color: #333333;\n",
       "            border: 1px solid #ddd;\n",
       "            background-color: #f0f8ff;\n",
       "            padding: 5px 15px;\n",
       "            border-radius: 8px;\n",
       "            max-width: 600px;\n",
       "            #margin: auto;\n",
       "        }\n",
       "        .container-0477b5847b5945c087ae3df89925bdd7 h2 {\n",
       "            font-size: 1.5em;\n",
       "            color: #222222;\n",
       "            border-bottom: 2px solid #ddd;\n",
       "            padding-bottom: 5px;\n",
       "            margin-bottom: 15px;\n",
       "            margin-top: 5px;\n",
       "        }\n",
       "        .container-0477b5847b5945c087ae3df89925bdd7 details {\n",
       "            margin: 10px 0;\n",
       "        }\n",
       "        .container-0477b5847b5945c087ae3df89925bdd7 summary {\n",
       "            font-weight: bold;\n",
       "            font-size: 1.1em;\n",
       "            color: #000000;\n",
       "            cursor: pointer;\n",
       "            margin-bottom: 5px;\n",
       "            background-color: #b3dbfd;\n",
       "            padding: 5px;\n",
       "            border-radius: 5px;\n",
       "        }\n",
       "        .container-0477b5847b5945c087ae3df89925bdd7 summary:hover {\n",
       "            color: #000000;\n",
       "            background-color: #e0e0e0;\n",
       "        }\n",
       "        .container-0477b5847b5945c087ae3df89925bdd7 ul {\n",
       "            font-family: 'Courier New', monospace;\n",
       "            list-style-type: none;\n",
       "            padding-left: 20px;\n",
       "            margin: 10px 0;\n",
       "            line-height: normal;\n",
       "        }\n",
       "        .container-0477b5847b5945c087ae3df89925bdd7 li {\n",
       "            margin: 5px 0;\n",
       "            font-family: 'Courier New', monospace;\n",
       "        }\n",
       "        .container-0477b5847b5945c087ae3df89925bdd7 li strong {\n",
       "            font-weight: bold;\n",
       "            color: #444444;\n",
       "        }\n",
       "        .container-0477b5847b5945c087ae3df89925bdd7 li::before {\n",
       "            content: \"- \";\n",
       "            color: #666666;\n",
       "        }\n",
       "        .container-0477b5847b5945c087ae3df89925bdd7 a {\n",
       "            color: #001633;\n",
       "            text-decoration: none;\n",
       "        }\n",
       "        .container-0477b5847b5945c087ae3df89925bdd7 a:hover {\n",
       "            color: #359ccb; \n",
       "        }\n",
       "    </style>\n",
       "    \n",
       "        <div class=\"container-0477b5847b5945c087ae3df89925bdd7\">\n",
       "            <h2>ForecasterSarimax</h2>\n",
       "            <details open>\n",
       "                <summary>General Information</summary>\n",
       "                <ul>\n",
       "                    <li><strong>Regressor:</strong> Sarimax</li>\n",
       "                    <li><strong>Order:</strong> (12, 1, 1)</li>\n",
       "                    <li><strong>Seasonal order:</strong> (0, 0, 0, 0)</li>\n",
       "                    <li><strong>Trend:</strong> None</li>\n",
       "                    <li><strong>Window size:</strong> 1</li>\n",
       "                    <li><strong>Exogenous included:</strong> False</li>\n",
       "                    <li><strong>Creation date:</strong> 2025-03-07 11:29:01</li>\n",
       "                    <li><strong>Last fit date:</strong> 2025-03-07 11:29:04</li>\n",
       "                    <li><strong>Skforecast version:</strong> 0.15.0</li>\n",
       "                    <li><strong>Python version:</strong> 3.12.9</li>\n",
       "                    <li><strong>Forecaster id:</strong> None</li>\n",
       "                </ul>\n",
       "            </details>\n",
       "            <details>\n",
       "                <summary>Exogenous Variables</summary>\n",
       "                <ul>\n",
       "                    None\n",
       "                </ul>\n",
       "            </details>\n",
       "            <details>\n",
       "                <summary>Data Transformations</summary>\n",
       "                <ul>\n",
       "                    <li><strong>Transformer for y:</strong> None</li>\n",
       "                    <li><strong>Transformer for exog:</strong> None</li>\n",
       "                </ul>\n",
       "            </details>\n",
       "            <details>\n",
       "                <summary>Training Information</summary>\n",
       "                <ul>\n",
       "                    <li><strong>Training range:</strong> [Timestamp('1992-04-01 00:00:00'), Timestamp('2005-06-01 00:00:00')]</li>\n",
       "                    <li><strong>Training index type:</strong> DatetimeIndex</li>\n",
       "                    <li><strong>Training index frequency:</strong> MS</li>\n",
       "                </ul>\n",
       "            </details>\n",
       "            <details>\n",
       "                <summary>Regressor Parameters</summary>\n",
       "                <ul>\n",
       "                    \n",
       "    {'concentrate_scale': False, 'dates': None, 'disp': False,\n",
       "    'enforce_invertibility': True, 'enforce_stationarity': True, 'freq': None,\n",
       "    'hamilton_representation': False, 'maxiter': 200, 'measurement_error':\n",
       "    False, 'method': 'lbfgs', 'missing': 'none', 'mle_regression': True,\n",
       "    'order': (12, 1, 1), 'seasonal_order': (0, 0, 0, 0), 'simple_differencing':\n",
       "    False, 'sm_fit_kwargs': {}, 'sm_init_kwargs': {}, 'sm_predict_kwargs': {},\n",
       "    'start_params': None, 'time_varying_regression': False, 'trend': None,\n",
       "    'trend_offset': 1, 'use_exact_diffuse': False, 'validate_specification':\n",
       "    True}\n",
       "                </ul>\n",
       "            </details>\n",
       "            <details>\n",
       "                <summary>Fit Kwargs</summary>\n",
       "                <ul>\n",
       "                    {}\n",
       "                </ul>\n",
       "            </details>\n",
       "            <p>\n",
       "                <a href=\"https://skforecast.org/0.15.0/api/forecastersarimax.html\">&#128712 <strong>API Reference</strong></a>\n",
       "                &nbsp;&nbsp;\n",
       "                <a href=\"https://skforecast.org/0.15.0/user_guides/forecasting-sarimax-arima.html\">&#128462 <strong>User Guide</strong></a>\n",
       "            </p>\n",
       "        </div>\n",
       "        "
      ],
      "text/plain": [
       "================= \n",
       "ForecasterSarimax \n",
       "================= \n",
       "Regressor: Sarimax(12,1,1)(0,0,0)[0] \n",
       "Exogenous included: False \n",
       "Exogenous names: None \n",
       "Transformer for y: None \n",
       "Transformer for exog: None \n",
       "Training range: [Timestamp('1992-04-01 00:00:00'), Timestamp('2005-06-01 00:00:00')] \n",
       "Training index type: DatetimeIndex \n",
       "Training index frequency: MS \n",
       "Regressor parameters: \n",
       "    {'concentrate_scale': False, 'dates': None, 'disp': False,\n",
       "    'enforce_invertibility': True, 'enforce_stationarity': True, 'freq': None,\n",
       "    'hamilton_representation': False, 'maxiter': 200, 'measurement_error':\n",
       "    False, 'method': 'lbfgs', 'missing': 'none', 'mle_regression': True,\n",
       "    'order': (12, 1, 1), 'seasonal_order': (0, 0, 0, 0), 'simple_differencing':\n",
       "    False, 'sm_fit_kwargs': {}, 'sm_init_kwargs': {}, 'sm_predict_kwargs': {},\n",
       "    'start_params': None, 'time_varying_regression': False, 'trend': None,\n",
       "    'trend_offset': 1, 'use_exact_diffuse': False, 'validate_specification':\n",
       "    True} \n",
       "fit_kwargs: {} \n",
       "Creation date: 2025-03-07 11:29:01 \n",
       "Last fit date: 2025-03-07 11:29:04 \n",
       "Index seen by the forecaster: DatetimeIndex(['1992-04-01', '1992-05-01', '1992-06-01', '1992-07-01',\n",
       "               '1992-08-01', '1992-09-01', '1992-10-01', '1992-11-01',\n",
       "               '1992-12-01', '1993-01-01',\n",
       "               ...\n",
       "               '2004-09-01', '2004-10-01', '2004-11-01', '2004-12-01',\n",
       "               '2005-01-01', '2005-02-01', '2005-03-01', '2005-04-01',\n",
       "               '2005-05-01', '2005-06-01'],\n",
       "              dtype='datetime64[ns]', name='datetime', length=159, freq='MS') \n",
       "Skforecast version: 0.15.0 \n",
       "Python version: 3.12.9 \n",
       "Forecaster id: None "
      ]
     },
     "execution_count": 26,
     "metadata": {},
     "output_type": "execute_result"
    }
   ],
   "source": [
    "# Create and fit ForecasterSarimax\n",
    "# ==============================================================================\n",
    "forecaster = ForecasterSarimax(\n",
    "                 regressor=Sarimax(order=(12, 1, 1), seasonal_order=(0, 0, 0, 0), maxiter=200),\n",
    "             )\n",
    "\n",
    "forecaster.fit(y=data_train['y'], suppress_warnings=True)\n",
    "forecaster"
   ]
  },
  {
   "attachments": {},
   "cell_type": "markdown",
   "id": "f855fc34",
   "metadata": {},
   "source": [
    "## Prediction"
   ]
  },
  {
   "cell_type": "code",
   "execution_count": 27,
   "id": "2c8f34a3",
   "metadata": {},
   "outputs": [
    {
     "data": {
      "text/plain": [
       "2005-07-01    0.957860\n",
       "2005-08-01    0.960092\n",
       "2005-09-01    1.108625\n",
       "Freq: MS, Name: pred, dtype: float64"
      ]
     },
     "execution_count": 27,
     "metadata": {},
     "output_type": "execute_result"
    }
   ],
   "source": [
    "# Predict\n",
    "# ==============================================================================\n",
    "predictions = forecaster.predict(steps=36)\n",
    "predictions.head(3)"
   ]
  },
  {
   "cell_type": "code",
   "execution_count": 28,
   "id": "fd4a82ae-5258-49bb-9f6d-380b3cb67563",
   "metadata": {
    "ExecuteTime": {
     "end_time": "2022-03-06T18:53:35.080031Z",
     "start_time": "2022-03-06T18:53:35.056284Z"
    }
   },
   "outputs": [
    {
     "data": {
      "image/png": "[encoded data removed]",
      "text/plain": [
       "<Figure size 700x300 with 1 Axes>"
      ]
     },
     "metadata": {},
     "output_type": "display_data"
    }
   ],
   "source": [
    "# Plot predictions\n",
    "# ==============================================================================\n",
    "fig, ax = plt.subplots(figsize=(7, 3))\n",
    "data_train['y'].plot(ax=ax, label='train')\n",
    "data_test['y'].plot(ax=ax, label='test')\n",
    "predictions.plot(ax=ax, label='predictions')\n",
    "ax.legend();"
   ]
  },
  {
   "cell_type": "code",
   "execution_count": 29,
   "id": "3e220454",
   "metadata": {},
   "outputs": [
    {
     "name": "stdout",
     "output_type": "stream",
     "text": [
      "Test error (mse): 0.07125639765150053\n"
     ]
    }
   ],
   "source": [
    "# Prediction error\n",
    "# ==============================================================================\n",
    "error_mse = mean_absolute_error(\n",
    "                y_true = data_test['y'],\n",
    "                y_pred = predictions\n",
    "            )\n",
    "\n",
    "print(f\"Test error (mse): {error_mse}\")"
   ]
  },
  {
   "cell_type": "markdown",
   "id": "4a544fef",
   "metadata": {},
   "source": [
    "## Interval prediction\n",
    "\n",
    "Either `alpha` or `interval` can be used to indicate the confidence of the estimated prediction interval."
   ]
  },
  {
   "cell_type": "code",
   "execution_count": 30,
   "id": "b43fa507",
   "metadata": {},
   "outputs": [
    {
     "data": {
      "application/vnd.microsoft.datawrangler.viewer.v0+json": {
       "columns": [
        {
         "name": "index",
         "rawType": "datetime64[ns]",
         "type": "datetime"
        },
        {
         "name": "pred",
         "rawType": "float64",
         "type": "float"
        },
        {
         "name": "lower_bound",
         "rawType": "float64",
         "type": "float"
        },
        {
         "name": "upper_bound",
         "rawType": "float64",
         "type": "float"
        }
       ],
       "conversionMethod": "pd.DataFrame",
       "ref": "5f1b5cf8-af19-457e-8eda-040f0c8458bc",
       "rows": [
        [
         "2005-07-01 00:00:00",
         "0.9578602127278634",
         "0.8578204321168273",
         "1.0578999933388995"
        ],
        [
         "2005-08-01 00:00:00",
         "0.9600915344493534",
         "0.8538632905999394",
         "1.0663197782987672"
        ],
        [
         "2005-09-01 00:00:00",
         "1.1086250302485992",
         "0.9982318519619927",
         "1.2190182085352057"
        ]
       ],
       "shape": {
        "columns": 3,
        "rows": 3
       }
      },
      "text/html": [
       "<div>\n",
       "<style scoped>\n",
       "    .dataframe tbody tr th:only-of-type {\n",
       "        vertical-align: middle;\n",
       "    }\n",
       "\n",
       "    .dataframe tbody tr th {\n",
       "        vertical-align: top;\n",
       "    }\n",
       "\n",
       "    .dataframe thead th {\n",
       "        text-align: right;\n",
       "    }\n",
       "</style>\n",
       "<table border=\"1\" class=\"dataframe\">\n",
       "  <thead>\n",
       "    <tr style=\"text-align: right;\">\n",
       "      <th></th>\n",
       "      <th>pred</th>\n",
       "      <th>lower_bound</th>\n",
       "      <th>upper_bound</th>\n",
       "    </tr>\n",
       "  </thead>\n",
       "  <tbody>\n",
       "    <tr>\n",
       "      <th>2005-07-01</th>\n",
       "      <td>0.957860</td>\n",
       "      <td>0.857820</td>\n",
       "      <td>1.057900</td>\n",
       "    </tr>\n",
       "    <tr>\n",
       "      <th>2005-08-01</th>\n",
       "      <td>0.960092</td>\n",
       "      <td>0.853863</td>\n",
       "      <td>1.066320</td>\n",
       "    </tr>\n",
       "    <tr>\n",
       "      <th>2005-09-01</th>\n",
       "      <td>1.108625</td>\n",
       "      <td>0.998232</td>\n",
       "      <td>1.219018</td>\n",
       "    </tr>\n",
       "  </tbody>\n",
       "</table>\n",
       "</div>"
      ],
      "text/plain": [
       "                pred  lower_bound  upper_bound\n",
       "2005-07-01  0.957860     0.857820     1.057900\n",
       "2005-08-01  0.960092     0.853863     1.066320\n",
       "2005-09-01  1.108625     0.998232     1.219018"
      ]
     },
     "execution_count": 30,
     "metadata": {},
     "output_type": "execute_result"
    }
   ],
   "source": [
    "# Predict intervals\n",
    "# ==============================================================================\n",
    "predictions = forecaster.predict_interval(steps=36, alpha=0.05)\n",
    "predictions.head(3)"
   ]
  },
  {
   "cell_type": "markdown",
   "id": "e5c7c23b",
   "metadata": {},
   "source": [
    "## Exogenous variables\n",
    "\n",
    "The addition of exogenous variables is done using the `exog` argument. The only requirement for including an exogenous variable is the need to know the value of the variable also during the forecast period."
   ]
  },
  {
   "cell_type": "markdown",
   "id": "ada5e28a",
   "metadata": {},
   "source": [
    "<div class=\"admonition note\" name=\"html-admonition\" style=\"background: rgba(0,191,191,.1); padding-top: 0px; padding-bottom: 6px; border-radius: 8px; border-left: 8px solid #00bfa5; border-color: #00bfa5; padding-left: 10px; padding-right: 10px;\">\n",
    "\n",
    "<p class=\"title\">\n",
    "    <i style=\"font-size: 18px; color:#00bfa5;\"></i>\n",
    "    <b style=\"color: #00bfa5;\">&#128161 Tip</b>\n",
    "</p>\n",
    "\n",
    "To learn more about exogenous variables and how to correctly manage them with skforecast visit: <a href=\"../user_guides/exogenous-variables.html\">Exogenous variables (features) user guide</a>.\n",
    "\n",
    "</div>"
   ]
  },
  {
   "cell_type": "code",
   "execution_count": 31,
   "id": "06add010",
   "metadata": {},
   "outputs": [
    {
     "data": {
      "text/plain": [
       "2005-07-01    0.904512\n",
       "2005-08-01    0.932239\n",
       "2005-09-01    1.089341\n",
       "Freq: MS, Name: pred, dtype: float64"
      ]
     },
     "execution_count": 31,
     "metadata": {},
     "output_type": "execute_result"
    }
   ],
   "source": [
    "# Create and fit ForecasterSarimax with exogenous variables\n",
    "# ==============================================================================\n",
    "forecaster = ForecasterSarimax(\n",
    "                 regressor=Sarimax(order=(12, 1, 1), seasonal_order=(0, 0, 0, 0), maxiter=200),\n",
    "             )\n",
    "\n",
    "forecaster.fit(\n",
    "    y                 = data_train['y'], \n",
    "    exog              = data_train[['exog_1', 'exog_2']],\n",
    "    suppress_warnings = True\n",
    ")\n",
    "\n",
    "# Predict with exog\n",
    "# ==============================================================================\n",
    "predictions = forecaster.predict(\n",
    "                  steps = 36,\n",
    "                  exog  = data_test[['exog_1', 'exog_2']]\n",
    "              )\n",
    "predictions.head(3)"
   ]
  },
  {
   "cell_type": "markdown",
   "id": "9745bd49",
   "metadata": {},
   "source": [
    "## Using an already trained ARIMA\n",
    "\n",
    "Forecasting with an ARIMA model becomes challenging when the forecast horizon data does not immediately follow the last observed value during the training phase. This complexity is due to the moving average (MA) component, which relies on past forecast errors as predictors. Thus, to predict at time 't', the error of the 't-1' prediction becomes a necessity. In situations where this prediction isn't available, the corresponding error remains unavailable.\n",
    "\n",
    "For this reason, in most cases, ARIMA models are retrained each time predictions need to be made. Despite considerable efforts and advances to speed up the training process for these models, it is not always feasible to retrain the model between predictions, either due to time constraints or insufficient computational resources for repeated access to historical data. An intermediate approach is to feed the model with data from the last training observation to the start of the prediction phase. This technique enables the estimation of intermediate predictions and, as a result, the necessary errors.\n",
    "\n",
    "For example, imagine a situation where a model was trained 20 days ago with daily data from the past three years. When generating new predictions, only the 20 most recent values would be needed, rather than the complete historical dataset (365 * 3 + 20).\n",
    "\n",
    "Integrating new data into the model can be complex, but the <code>ForecasterSarimax</code> class simplifies this considerably by automating the process through the `last_window` argument in its `predict` method."
   ]
  },
  {
   "cell_type": "code",
   "execution_count": 32,
   "id": "5e37dec8",
   "metadata": {},
   "outputs": [
    {
     "name": "stdout",
     "output_type": "stream",
     "text": [
      "Train dates       : 1992-04-01 00:00:00 --- 2005-06-01 00:00:00  (n=159)\n",
      "Last window dates : 2005-07-01 00:00:00 --- 2007-06-01 00:00:00  (n=24)\n",
      "Test dates        : 2007-07-01 00:00:00 --- 2008-06-01 00:00:00  (n=12)\n"
     ]
    },
    {
     "data": {
      "image/png": "[encoded data removed]",
      "text/plain": [
       "<Figure size 700x300 with 1 Axes>"
      ]
     },
     "metadata": {},
     "output_type": "display_data"
    }
   ],
   "source": [
    "# Split data Train - Last window - Test\n",
    "# ==============================================================================\n",
    "end_train = '2005-06-01 23:59:59'\n",
    "end_last_window = '2007-06-01 23:59:59'\n",
    "\n",
    "print(\n",
    "    f\"Train dates       : {data.index.min()} --- {data.loc[:end_train].index.max()}  \"\n",
    "    f\"(n={len(data.loc[:end_train])})\"\n",
    ")\n",
    "print(\n",
    "    f\"Last window dates : {data.loc[end_train:].index.min()} --- {data.loc[:end_last_window].index.max()}  \"\n",
    "    f\"(n={len(data.loc[end_train:end_last_window])})\"\n",
    ")\n",
    "print(\n",
    "    f\"Test dates        : {data.loc[end_last_window:].index.min()} --- {data.index.max()}  \"\n",
    "    f\"(n={len(data.loc[end_last_window:])})\"\n",
    ")\n",
    "data_train       = data.loc[:end_train]\n",
    "data_last_window = data.loc[end_train:end_last_window]\n",
    "data_test        = data.loc[end_last_window:]\n",
    "\n",
    "# Plot\n",
    "# ======================================================================================\n",
    "fig, ax = plt.subplots(figsize=(7, 3))\n",
    "data_train['y'].plot(ax=ax, label='train')\n",
    "data_last_window['y'].plot(ax=ax, label='last window')\n",
    "data_test['y'].plot(ax=ax, label='test')\n",
    "ax.legend();"
   ]
  },
  {
   "cell_type": "markdown",
   "id": "fee4ed8a",
   "metadata": {},
   "source": [
    "Since exogenous variables have been included in the Forecaster tuning, it is necessary to pass both past values and their future values to the `predict` method using the `last_window_exog` and `exog` parameters when making predictions."
   ]
  },
  {
   "cell_type": "code",
   "execution_count": 33,
   "id": "9754fec0",
   "metadata": {},
   "outputs": [
    {
     "data": {
      "text/plain": [
       "2007-07-01    0.883929\n",
       "2007-08-01    1.041001\n",
       "2007-09-01    1.071707\n",
       "Freq: MS, Name: pred, dtype: float64"
      ]
     },
     "execution_count": 33,
     "metadata": {},
     "output_type": "execute_result"
    }
   ],
   "source": [
    "# Create and fit ForecasterSarimax with exogenous variables\n",
    "# ==============================================================================\n",
    "forecaster = ForecasterSarimax(\n",
    "                 regressor=Sarimax(order=(12, 1, 1), seasonal_order=(0, 0, 0, 0), maxiter=200),\n",
    "             )\n",
    "\n",
    "forecaster.fit(\n",
    "    y                 = data_train['y'], \n",
    "    exog              = data_train[['exog_1', 'exog_2']],\n",
    "    suppress_warnings = True\n",
    ")\n",
    "\n",
    "# Predict with exog and last window\n",
    "# ==============================================================================\n",
    "predictions = forecaster.predict(\n",
    "                  steps            = 12,\n",
    "                  exog             = data_test[['exog_1', 'exog_2']],\n",
    "                  last_window      = data_last_window['y'],\n",
    "                  last_window_exog = data_last_window[['exog_1', 'exog_2']]\n",
    "              )\n",
    "predictions.head(3)"
   ]
  },
  {
   "cell_type": "code",
   "execution_count": 34,
   "id": "85d21adc",
   "metadata": {},
   "outputs": [
    {
     "name": "stdout",
     "output_type": "stream",
     "text": [
      "Test error (mse): 0.06267633382927788\n"
     ]
    }
   ],
   "source": [
    "# Prediction error\n",
    "# ==============================================================================\n",
    "error_mse = mean_absolute_error(\n",
    "                y_true = data_test['y'],\n",
    "                y_pred = predictions\n",
    "            )\n",
    "\n",
    "print(f\"Test error (mse): {error_mse}\")"
   ]
  },
  {
   "cell_type": "code",
   "execution_count": 35,
   "id": "18bcabfe",
   "metadata": {},
   "outputs": [
    {
     "data": {
      "image/png": "[encoded data removed]",
      "text/plain": [
       "<Figure size 700x300 with 1 Axes>"
      ]
     },
     "metadata": {},
     "output_type": "display_data"
    }
   ],
   "source": [
    "# Plot predictions\n",
    "# ==============================================================================\n",
    "fig, ax = plt.subplots(figsize=(7, 3))\n",
    "data_train['y'].plot(ax=ax, label='train')\n",
    "data_last_window['y'].plot(ax=ax, label='last window')\n",
    "data_test['y'].plot(ax=ax, label='test')\n",
    "predictions.plot(ax=ax, label='predictions')\n",
    "ax.legend();"
   ]
  },
  {
   "attachments": {},
   "cell_type": "markdown",
   "id": "0dd12901",
   "metadata": {},
   "source": [
    "## Feature importances\n",
    "\n",
    "Returns the parameters of the model."
   ]
  },
  {
   "cell_type": "code",
   "execution_count": 36,
   "id": "d96b199c",
   "metadata": {},
   "outputs": [
    {
     "data": {
      "application/vnd.microsoft.datawrangler.viewer.v0+json": {
       "columns": [
        {
         "name": "index",
         "rawType": "int64",
         "type": "integer"
        },
        {
         "name": "feature",
         "rawType": "object",
         "type": "string"
        },
        {
         "name": "importance",
         "rawType": "float64",
         "type": "float"
        }
       ],
       "conversionMethod": "pd.DataFrame",
       "ref": "79d4f40a-c442-42ab-8591-b3d173d731ea",
       "rows": [
        [
         "1",
         "exog_2",
         "1.520489942293957"
        ],
        [
         "13",
         "ar.L12",
         "0.6688918335797506"
        ],
        [
         "15",
         "sigma2",
         "0.0015971941684763135"
        ],
        [
         "12",
         "ar.L11",
         "-0.15212971461961955"
        ],
        [
         "2",
         "ar.L1",
         "-0.16302983985117353"
        ],
        [
         "6",
         "ar.L5",
         "-0.19248576945957235"
        ],
        [
         "4",
         "ar.L3",
         "-0.19524448026713448"
        ],
        [
         "10",
         "ar.L9",
         "-0.21203280701647464"
        ],
        [
         "7",
         "ar.L6",
         "-0.2120886657875909"
        ],
        [
         "9",
         "ar.L8",
         "-0.21565836528365612"
        ],
        [
         "11",
         "ar.L10",
         "-0.2308366480690202"
        ],
        [
         "3",
         "ar.L2",
         "-0.23932970574570378"
        ],
        [
         "8",
         "ar.L7",
         "-0.24965078421613157"
        ],
        [
         "5",
         "ar.L4",
         "-0.2859732874784246"
        ],
        [
         "0",
         "exog_1",
         "-0.5365529463577899"
        ],
        [
         "14",
         "ma.L1",
         "-0.9771811437360189"
        ]
       ],
       "shape": {
        "columns": 2,
        "rows": 16
       }
      },
      "text/html": [
       "<div>\n",
       "<style scoped>\n",
       "    .dataframe tbody tr th:only-of-type {\n",
       "        vertical-align: middle;\n",
       "    }\n",
       "\n",
       "    .dataframe tbody tr th {\n",
       "        vertical-align: top;\n",
       "    }\n",
       "\n",
       "    .dataframe thead th {\n",
       "        text-align: right;\n",
       "    }\n",
       "</style>\n",
       "<table border=\"1\" class=\"dataframe\">\n",
       "  <thead>\n",
       "    <tr style=\"text-align: right;\">\n",
       "      <th></th>\n",
       "      <th>feature</th>\n",
       "      <th>importance</th>\n",
       "    </tr>\n",
       "  </thead>\n",
       "  <tbody>\n",
       "    <tr>\n",
       "      <th>1</th>\n",
       "      <td>exog_2</td>\n",
       "      <td>1.520490</td>\n",
       "    </tr>\n",
       "    <tr>\n",
       "      <th>13</th>\n",
       "      <td>ar.L12</td>\n",
       "      <td>0.668892</td>\n",
       "    </tr>\n",
       "    <tr>\n",
       "      <th>15</th>\n",
       "      <td>sigma2</td>\n",
       "      <td>0.001597</td>\n",
       "    </tr>\n",
       "    <tr>\n",
       "      <th>12</th>\n",
       "      <td>ar.L11</td>\n",
       "      <td>-0.152130</td>\n",
       "    </tr>\n",
       "    <tr>\n",
       "      <th>2</th>\n",
       "      <td>ar.L1</td>\n",
       "      <td>-0.163030</td>\n",
       "    </tr>\n",
       "    <tr>\n",
       "      <th>6</th>\n",
       "      <td>ar.L5</td>\n",
       "      <td>-0.192486</td>\n",
       "    </tr>\n",
       "    <tr>\n",
       "      <th>4</th>\n",
       "      <td>ar.L3</td>\n",
       "      <td>-0.195244</td>\n",
       "    </tr>\n",
       "    <tr>\n",
       "      <th>10</th>\n",
       "      <td>ar.L9</td>\n",
       "      <td>-0.212033</td>\n",
       "    </tr>\n",
       "    <tr>\n",
       "      <th>7</th>\n",
       "      <td>ar.L6</td>\n",
       "      <td>-0.212089</td>\n",
       "    </tr>\n",
       "    <tr>\n",
       "      <th>9</th>\n",
       "      <td>ar.L8</td>\n",
       "      <td>-0.215658</td>\n",
       "    </tr>\n",
       "    <tr>\n",
       "      <th>11</th>\n",
       "      <td>ar.L10</td>\n",
       "      <td>-0.230837</td>\n",
       "    </tr>\n",
       "    <tr>\n",
       "      <th>3</th>\n",
       "      <td>ar.L2</td>\n",
       "      <td>-0.239330</td>\n",
       "    </tr>\n",
       "    <tr>\n",
       "      <th>8</th>\n",
       "      <td>ar.L7</td>\n",
       "      <td>-0.249651</td>\n",
       "    </tr>\n",
       "    <tr>\n",
       "      <th>5</th>\n",
       "      <td>ar.L4</td>\n",
       "      <td>-0.285973</td>\n",
       "    </tr>\n",
       "    <tr>\n",
       "      <th>0</th>\n",
       "      <td>exog_1</td>\n",
       "      <td>-0.536553</td>\n",
       "    </tr>\n",
       "    <tr>\n",
       "      <th>14</th>\n",
       "      <td>ma.L1</td>\n",
       "      <td>-0.977181</td>\n",
       "    </tr>\n",
       "  </tbody>\n",
       "</table>\n",
       "</div>"
      ],
      "text/plain": [
       "   feature  importance\n",
       "1   exog_2    1.520490\n",
       "13  ar.L12    0.668892\n",
       "15  sigma2    0.001597\n",
       "12  ar.L11   -0.152130\n",
       "2    ar.L1   -0.163030\n",
       "6    ar.L5   -0.192486\n",
       "4    ar.L3   -0.195244\n",
       "10   ar.L9   -0.212033\n",
       "7    ar.L6   -0.212089\n",
       "9    ar.L8   -0.215658\n",
       "11  ar.L10   -0.230837\n",
       "3    ar.L2   -0.239330\n",
       "8    ar.L7   -0.249651\n",
       "5    ar.L4   -0.285973\n",
       "0   exog_1   -0.536553\n",
       "14   ma.L1   -0.977181"
      ]
     },
     "execution_count": 36,
     "metadata": {},
     "output_type": "execute_result"
    }
   ],
   "source": [
    "# Feature importances\n",
    "# ==============================================================================\n",
    "forecaster.get_feature_importances()"
   ]
  },
  {
   "attachments": {},
   "cell_type": "markdown",
   "id": "e96fefe0",
   "metadata": {},
   "source": [
    "## Backtesting\n",
    "\n",
    "SARIMAX models can be evaluated using any of the [backtesting strategies](../introduction-forecasting/introduction-forecasting.html#backtesting-forecasting-models) implemented in skforecast."
   ]
  },
  {
   "cell_type": "code",
   "execution_count": 37,
   "id": "e85edc9d",
   "metadata": {},
   "outputs": [
    {
     "name": "stdout",
     "output_type": "stream",
     "text": [
      "Information of folds\n",
      "--------------------\n",
      "Number of observations used for initial training: 159\n",
      "Number of observations used for backtesting: 36\n",
      "    Number of folds: 3\n",
      "    Number skipped folds: 0 \n",
      "    Number of steps per fold: 12\n",
      "    Number of steps to exclude between last observed data (last window) and predictions (gap): 0\n",
      "\n",
      "Fold: 0\n",
      "    Training:   1992-04-01 00:00:00 -- 2005-06-01 00:00:00  (n=159)\n",
      "    Validation: 2005-07-01 00:00:00 -- 2006-06-01 00:00:00  (n=12)\n",
      "Fold: 1\n",
      "    Training:   1992-04-01 00:00:00 -- 2006-06-01 00:00:00  (n=171)\n",
      "    Validation: 2006-07-01 00:00:00 -- 2007-06-01 00:00:00  (n=12)\n",
      "Fold: 2\n",
      "    Training:   1992-04-01 00:00:00 -- 2007-06-01 00:00:00  (n=183)\n",
      "    Validation: 2007-07-01 00:00:00 -- 2008-06-01 00:00:00  (n=12)\n",
      "\n"
     ]
    },
    {
     "data": {
      "application/vnd.jupyter.widget-view+json": {
       "model_id": "8b6dc89392384d94b8f65029976154e6",
       "version_major": 2,
       "version_minor": 0
      },
      "text/plain": [
       "  0%|          | 0/3 [00:00<?, ?it/s]"
      ]
     },
     "metadata": {},
     "output_type": "display_data"
    },
    {
     "data": {
      "application/vnd.microsoft.datawrangler.viewer.v0+json": {
       "columns": [
        {
         "name": "index",
         "rawType": "int64",
         "type": "integer"
        },
        {
         "name": "mean_absolute_error",
         "rawType": "float64",
         "type": "float"
        }
       ],
       "conversionMethod": "pd.DataFrame",
       "ref": "16de5322-b524-43c2-8e46-834232c2a031",
       "rows": [
        [
         "0",
         "0.05645881745739426"
        ]
       ],
       "shape": {
        "columns": 1,
        "rows": 1
       }
      },
      "text/html": [
       "<div>\n",
       "<style scoped>\n",
       "    .dataframe tbody tr th:only-of-type {\n",
       "        vertical-align: middle;\n",
       "    }\n",
       "\n",
       "    .dataframe tbody tr th {\n",
       "        vertical-align: top;\n",
       "    }\n",
       "\n",
       "    .dataframe thead th {\n",
       "        text-align: right;\n",
       "    }\n",
       "</style>\n",
       "<table border=\"1\" class=\"dataframe\">\n",
       "  <thead>\n",
       "    <tr style=\"text-align: right;\">\n",
       "      <th></th>\n",
       "      <th>mean_absolute_error</th>\n",
       "    </tr>\n",
       "  </thead>\n",
       "  <tbody>\n",
       "    <tr>\n",
       "      <th>0</th>\n",
       "      <td>0.056459</td>\n",
       "    </tr>\n",
       "  </tbody>\n",
       "</table>\n",
       "</div>"
      ],
      "text/plain": [
       "   mean_absolute_error\n",
       "0             0.056459"
      ]
     },
     "execution_count": 37,
     "metadata": {},
     "output_type": "execute_result"
    }
   ],
   "source": [
    "# Backtest forecaster\n",
    "# ======================================================================================\n",
    "forecaster = ForecasterSarimax(\n",
    "                 regressor=Sarimax(order=(12, 1, 1), seasonal_order=(0, 0, 0, 0), maxiter=200),\n",
    "             )\n",
    "\n",
    "cv = TimeSeriesFold(\n",
    "         steps              = 12,\n",
    "         initial_train_size = len(data_train),\n",
    "         refit              = True,\n",
    "         fixed_train_size   = False,\n",
    "     )\n",
    "\n",
    "metric, predictions = backtesting_sarimax(\n",
    "                          forecaster            = forecaster,\n",
    "                          y                     = data['y'],\n",
    "                          exog                  = data[['exog_1', 'exog_2']],\n",
    "                          cv                    = cv,\n",
    "                          metric                = 'mean_absolute_error',\n",
    "                          n_jobs                = 'auto',\n",
    "                          suppress_warnings_fit = True,\n",
    "                          verbose               = True,\n",
    "                          show_progress         = True\n",
    "                      )\n",
    "\n",
    "metric"
   ]
  },
  {
   "cell_type": "code",
   "execution_count": 38,
   "id": "71c61f1d",
   "metadata": {},
   "outputs": [
    {
     "data": {
      "application/vnd.microsoft.datawrangler.viewer.v0+json": {
       "columns": [
        {
         "name": "index",
         "rawType": "datetime64[ns]",
         "type": "datetime"
        },
        {
         "name": "pred",
         "rawType": "float64",
         "type": "float"
        }
       ],
       "conversionMethod": "pd.DataFrame",
       "ref": "19afa7a2-7054-4f89-890d-2b1a983f5298",
       "rows": [
        [
         "2005-07-01 00:00:00",
         "0.9043781687588675"
        ],
        [
         "2005-08-01 00:00:00",
         "0.9313918358961344"
        ],
        [
         "2005-09-01 00:00:00",
         "1.0895696907392172"
        ],
        [
         "2005-10-01 00:00:00",
         "1.1135032223233587"
        ]
       ],
       "shape": {
        "columns": 1,
        "rows": 4
       }
      },
      "text/html": [
       "<div>\n",
       "<style scoped>\n",
       "    .dataframe tbody tr th:only-of-type {\n",
       "        vertical-align: middle;\n",
       "    }\n",
       "\n",
       "    .dataframe tbody tr th {\n",
       "        vertical-align: top;\n",
       "    }\n",
       "\n",
       "    .dataframe thead th {\n",
       "        text-align: right;\n",
       "    }\n",
       "</style>\n",
       "<table border=\"1\" class=\"dataframe\">\n",
       "  <thead>\n",
       "    <tr style=\"text-align: right;\">\n",
       "      <th></th>\n",
       "      <th>pred</th>\n",
       "    </tr>\n",
       "  </thead>\n",
       "  <tbody>\n",
       "    <tr>\n",
       "      <th>2005-07-01</th>\n",
       "      <td>0.904378</td>\n",
       "    </tr>\n",
       "    <tr>\n",
       "      <th>2005-08-01</th>\n",
       "      <td>0.931392</td>\n",
       "    </tr>\n",
       "    <tr>\n",
       "      <th>2005-09-01</th>\n",
       "      <td>1.089570</td>\n",
       "    </tr>\n",
       "    <tr>\n",
       "      <th>2005-10-01</th>\n",
       "      <td>1.113503</td>\n",
       "    </tr>\n",
       "  </tbody>\n",
       "</table>\n",
       "</div>"
      ],
      "text/plain": [
       "                pred\n",
       "2005-07-01  0.904378\n",
       "2005-08-01  0.931392\n",
       "2005-09-01  1.089570\n",
       "2005-10-01  1.113503"
      ]
     },
     "execution_count": 38,
     "metadata": {},
     "output_type": "execute_result"
    }
   ],
   "source": [
    "# Backtest predictions\n",
    "# ======================================================================================\n",
    "predictions.head(4)"
   ]
  },
  {
   "attachments": {},
   "cell_type": "markdown",
   "id": "6733243a",
   "metadata": {},
   "source": [
    "## Model tunning\n",
    "\n",
    "To find the optimal hyperparameters for the SARIMAX model, the use of strategic search methods is essential. Among these methods, two widely used approaches are:\n",
    "\n",
    "+ **Statistical Criteria**: Information criterion metrics, such as Akaike's Information Criterion (AIC) or Bayesian Information Criterion (BIC), use different penalties on the maximum likelihood (log-likelihood) estimate of the model as a measure of fit. The advantage of using such criteria is that they are computed only on the training data, eliminating the need for predictions on new data. As a result, the optimization process is greatly accelerated. The well-known Auto Arima algorithm uses this approach.\n",
    "\n",
    "+ **Validation Techniques**: The use of validation techniques, especially [backtesting](../user_guides/hyperparameter-tuning-and-lags-selection.html), is another effective strategy. Backtesting involves evaluating the performance of the model using historical data to simulate real-world conditions. This helps to validate the effectiveness of the hyperparameters under different scenarios, providing a practical assessment of their viability.\n",
    "\n",
    "In the first approach, calculations are based solely on training data, eliminating the need for predictions on new data. This makes the optimization process very fast. However, it is important to note that information criteria metrics only measure the relative quality of models. This means that all tested models could still be poor fits. Therefore, the final selected model must undergo a backtesting phase. This phase calculates a metric (such as MAE, MSE, MAPE, etc.) that validates its performance on a meaningful scale.\n",
    "\n",
    "On the other hand, the second approach - validation techniques - tends to be more time-consuming, since the model must be trained and then evaluated on new data. However, the results generated are often more robust, and the metrics derived can provide deeper insights."
   ]
  },
  {
   "cell_type": "markdown",
   "id": "f8dd0091",
   "metadata": {},
   "source": [
    "<div class=\"admonition note\" name=\"html-admonition\" style=\"background: rgba(0,191,191,.1); padding-top: 0px; padding-bottom: 6px; border-radius: 8px; border-left: 8px solid #00bfa5; border-color: #00bfa5; padding-left: 10px; padding-right: 10px;\">\n",
    "\n",
    "<p class=\"title\">\n",
    "    <i style=\"font-size: 18px; color:#00bfa5;\"></i>\n",
    "    <b style=\"color: #00bfa5;\">&#128161 Tip</b>\n",
    "</p>\n",
    "\n",
    "In summary, while the statistical criteria approach offers speed and efficiency, validation techniques provide a more comprehensive and insightful evaluation, albeit at a slower pace due to their reliance on new data for testing. Fortunately, for sufficiently large data sets, they all lead to the same model.\n",
    "\n",
    "</div>"
   ]
  },
  {
   "cell_type": "markdown",
   "id": "608898c2",
   "metadata": {},
   "source": [
    "<div class=\"admonition note\" name=\"html-admonition\" style=\"background: rgba(255,145,0,.1); padding-top: 0px; padding-bottom: 6px; border-radius: 8px; border-left: 8px solid #ff9100; border-color: #ff9100; padding-left: 10px; padding-right: 10px\">\n",
    "\n",
    "<p class=\"title\">\n",
    "    <i style=\"font-size: 18px; color:#ff9100; border-color: #ff1744;\"></i>\n",
    "    <b style=\"color: #ff9100;\"> <span style=\"color: #ff9100;\">&#9888;</span> Warning</b>\n",
    "</p>\n",
    "\n",
    "When evaluating ARIMA-SARIMAX models, it is important to note that AIC assumes that all models are trained on the same data. Thus, using AIC to decide between different orders of differencing is technically invalid, since one data point is lost with each order of differencing. Therefore, the Auto Arima algorithm uses a unit root test to select the order of differencing, and only uses the AIC to select the order of the AR and MA components.\n",
    "\n",
    "</div>"
   ]
  },
  {
   "cell_type": "markdown",
   "id": "f787da14",
   "metadata": {},
   "source": [
    "<div class=\"admonition note\" name=\"html-admonition\" style=\"background: rgba(0,184,212,.1); padding-top: 0px; padding-bottom: 6px; border-radius: 8px; border-left: 8px solid #00b8d4; border-color: #00b8d4; padding-left: 10px; padding-right: 10px;\">\n",
    "\n",
    "<p class=\"title\">\n",
    "    <i style=\"font-size: 18px; color:#00b8d4;\"></i>\n",
    "    <b style=\"color: #00b8d4;\">&#9998 Note</b>\n",
    "</p>\n",
    "\n",
    "For a detailed explanation of Akaike's Information Criterion (AIC) see <a href=\"https://robjhyndman.com/hyndsight/aic/\">Rob J Hyndman's blog</a> and <a href=\"https://sites.warnercnr.colostate.edu/kenburnham/wp-content/uploads/sites/25/2016/08/AIC-Myths-and-Misunderstandings.pdf\">AIC Myths and Misunderstandings by Anderson and Burnham</a>.\n",
    "\n",
    "</div>"
   ]
  },
  {
   "cell_type": "code",
   "execution_count": 39,
   "id": "fa36408a",
   "metadata": {},
   "outputs": [
    {
     "name": "stdout",
     "output_type": "stream",
     "text": [
      "Train dates      : 1992-04-01 00:00:00 --- 2001-01-01 00:00:00  (n=106)\n",
      "Validation dates : 2001-02-01 00:00:00 --- 2006-01-01 00:00:00  (n=60)\n",
      "Test dates       : 2006-02-01 00:00:00 --- 2008-06-01 00:00:00  (n=29)\n"
     ]
    },
    {
     "data": {
      "image/png": "[encoded data removed]",
      "text/plain": [
       "<Figure size 700x300 with 1 Axes>"
      ]
     },
     "metadata": {},
     "output_type": "display_data"
    }
   ],
   "source": [
    "# Train-validation-test data\n",
    "# ======================================================================================\n",
    "end_train = '2001-01-01 23:59:00'\n",
    "end_val = '2006-01-01 23:59:00'\n",
    "\n",
    "print(f\"Train dates      : {data.index.min()} --- {data.loc[:end_train].index.max()}  (n={len(data.loc[:end_train])})\")\n",
    "print(f\"Validation dates : {data.loc[end_train:].index.min()} --- {data.loc[:end_val].index.max()}  (n={len(data.loc[end_train:end_val])})\")\n",
    "print(f\"Test dates       : {data.loc[end_val:].index.min()} --- {data.index.max()}  (n={len(data.loc[end_val:])})\")\n",
    "\n",
    "# Plot\n",
    "# ======================================================================================\n",
    "fig, ax = plt.subplots(figsize=(7, 3))\n",
    "data.loc[:end_train, 'y'].plot(ax=ax, label='train')\n",
    "data.loc[end_train:end_val, 'y'].plot(ax=ax, label='validation')\n",
    "data.loc[end_val:, 'y'].plot(ax=ax, label='test')\n",
    "ax.legend();"
   ]
  },
  {
   "cell_type": "markdown",
   "id": "9b546058",
   "metadata": {},
   "source": [
    "### Grid search with backtesting"
   ]
  },
  {
   "cell_type": "code",
   "execution_count": 40,
   "id": "a40122be",
   "metadata": {},
   "outputs": [
    {
     "name": "stdout",
     "output_type": "stream",
     "text": [
      "Number of models compared: 9.\n"
     ]
    },
    {
     "data": {
      "application/vnd.jupyter.widget-view+json": {
       "model_id": "7bdf821be38d49c7ab125f0d001c96de",
       "version_major": 2,
       "version_minor": 0
      },
      "text/plain": [
       "params grid:   0%|          | 0/9 [00:00<?, ?it/s]"
      ]
     },
     "metadata": {},
     "output_type": "display_data"
    },
    {
     "name": "stdout",
     "output_type": "stream",
     "text": [
      "`Forecaster` refitted using the best-found parameters, and the whole data set: \n",
      "  Parameters: {'order': (12, 1, 0), 'trend': 'c'}\n",
      "  Backtesting metric: 0.058789455086324986\n",
      "\n"
     ]
    },
    {
     "data": {
      "application/vnd.microsoft.datawrangler.viewer.v0+json": {
       "columns": [
        {
         "name": "index",
         "rawType": "int64",
         "type": "integer"
        },
        {
         "name": "params",
         "rawType": "object",
         "type": "unknown"
        },
        {
         "name": "mean_absolute_error",
         "rawType": "float64",
         "type": "float"
        },
        {
         "name": "order",
         "rawType": "object",
         "type": "unknown"
        },
        {
         "name": "trend",
         "rawType": "object",
         "type": "unknown"
        }
       ],
       "conversionMethod": "pd.DataFrame",
       "ref": "f947a19e-028e-4376-8b2c-59cf636ada43",
       "rows": [
        [
         "0",
         "{'order': (12, 1, 0), 'trend': 'c'}",
         "0.058789455086324986",
         "(12, 1, 0)",
         "c"
        ],
        [
         "1",
         "{'order': (12, 1, 1), 'trend': 'c'}",
         "0.0588711232308523",
         "(12, 1, 1)",
         "c"
        ],
        [
         "2",
         "{'order': (12, 1, 1), 'trend': 'n'}",
         "0.05951726216768722",
         "(12, 1, 1)",
         "n"
        ],
        [
         "3",
         "{'order': (12, 1, 1), 'trend': None}",
         "0.05951726216768722",
         "(12, 1, 1)",
         null
        ],
        [
         "4",
         "{'order': (12, 1, 0), 'trend': 'n'}",
         "0.061719810917958196",
         "(12, 1, 0)",
         "n"
        ]
       ],
       "shape": {
        "columns": 4,
        "rows": 5
       }
      },
      "text/html": [
       "<div>\n",
       "<style scoped>\n",
       "    .dataframe tbody tr th:only-of-type {\n",
       "        vertical-align: middle;\n",
       "    }\n",
       "\n",
       "    .dataframe tbody tr th {\n",
       "        vertical-align: top;\n",
       "    }\n",
       "\n",
       "    .dataframe thead th {\n",
       "        text-align: right;\n",
       "    }\n",
       "</style>\n",
       "<table border=\"1\" class=\"dataframe\">\n",
       "  <thead>\n",
       "    <tr style=\"text-align: right;\">\n",
       "      <th></th>\n",
       "      <th>params</th>\n",
       "      <th>mean_absolute_error</th>\n",
       "      <th>order</th>\n",
       "      <th>trend</th>\n",
       "    </tr>\n",
       "  </thead>\n",
       "  <tbody>\n",
       "    <tr>\n",
       "      <th>0</th>\n",
       "      <td>{'order': (12, 1, 0), 'trend': 'c'}</td>\n",
       "      <td>0.058789</td>\n",
       "      <td>(12, 1, 0)</td>\n",
       "      <td>c</td>\n",
       "    </tr>\n",
       "    <tr>\n",
       "      <th>1</th>\n",
       "      <td>{'order': (12, 1, 1), 'trend': 'c'}</td>\n",
       "      <td>0.058871</td>\n",
       "      <td>(12, 1, 1)</td>\n",
       "      <td>c</td>\n",
       "    </tr>\n",
       "    <tr>\n",
       "      <th>2</th>\n",
       "      <td>{'order': (12, 1, 1), 'trend': 'n'}</td>\n",
       "      <td>0.059517</td>\n",
       "      <td>(12, 1, 1)</td>\n",
       "      <td>n</td>\n",
       "    </tr>\n",
       "    <tr>\n",
       "      <th>3</th>\n",
       "      <td>{'order': (12, 1, 1), 'trend': None}</td>\n",
       "      <td>0.059517</td>\n",
       "      <td>(12, 1, 1)</td>\n",
       "      <td>None</td>\n",
       "    </tr>\n",
       "    <tr>\n",
       "      <th>4</th>\n",
       "      <td>{'order': (12, 1, 0), 'trend': 'n'}</td>\n",
       "      <td>0.061720</td>\n",
       "      <td>(12, 1, 0)</td>\n",
       "      <td>n</td>\n",
       "    </tr>\n",
       "  </tbody>\n",
       "</table>\n",
       "</div>"
      ],
      "text/plain": [
       "                                 params  mean_absolute_error       order trend\n",
       "0   {'order': (12, 1, 0), 'trend': 'c'}             0.058789  (12, 1, 0)     c\n",
       "1   {'order': (12, 1, 1), 'trend': 'c'}             0.058871  (12, 1, 1)     c\n",
       "2   {'order': (12, 1, 1), 'trend': 'n'}             0.059517  (12, 1, 1)     n\n",
       "3  {'order': (12, 1, 1), 'trend': None}             0.059517  (12, 1, 1)  None\n",
       "4   {'order': (12, 1, 0), 'trend': 'n'}             0.061720  (12, 1, 0)     n"
      ]
     },
     "execution_count": 40,
     "metadata": {},
     "output_type": "execute_result"
    }
   ],
   "source": [
    "# Grid search hyperparameter\n",
    "# ======================================================================================\n",
    "forecaster = ForecasterSarimax(\n",
    "                 regressor=Sarimax(order=(12, 1, 1), maxiter=200)\n",
    "             )\n",
    "\n",
    "param_grid = {\n",
    "    'order': [(12, 0, 0), (12, 1, 0), (12, 1, 1)],\n",
    "    'trend': [None, 'n', 'c']\n",
    "}\n",
    "\n",
    "cv = TimeSeriesFold(\n",
    "         steps              = 12,\n",
    "         initial_train_size = len(data.loc[:end_train, 'y']),\n",
    "         refit              = False\n",
    "     )\n",
    "\n",
    "results_grid = grid_search_sarimax(\n",
    "                   forecaster            = forecaster,\n",
    "                   y                     = data.loc[:end_val, 'y'],\n",
    "                   param_grid            = param_grid,\n",
    "                   cv                    = cv,\n",
    "                   metric                = 'mean_absolute_error',\n",
    "                   return_best           = True,\n",
    "                   n_jobs                = 'auto',\n",
    "                   suppress_warnings_fit = True,\n",
    "                   verbose               = False,\n",
    "                   show_progress         = True\n",
    "               )\n",
    "\n",
    "results_grid.head(5)"
   ]
  },
  {
   "attachments": {},
   "cell_type": "markdown",
   "id": "13c5ac5d",
   "metadata": {},
   "source": [
    "Since `return_best = True`, the Forecaster object is updated with the most optimal configuration found and trained with the entire dataset. This means that the grid search will yield the lowest error model with the best hyperparameters that lead to the highest performance metric. This last model can subsequently be utilized for forecasts on new data."
   ]
  },
  {
   "cell_type": "code",
   "execution_count": 41,
   "id": "7987e88d",
   "metadata": {},
   "outputs": [
    {
     "data": {
      "text/html": [
       "\n",
       "    <style>\n",
       "        .container-bb5acfbf207f40daa6f8d79d1973e879 {\n",
       "            font-family: 'Arial', sans-serif;\n",
       "            font-size: 0.9em;\n",
       "            color: #333333;\n",
       "            border: 1px solid #ddd;\n",
       "            background-color: #f0f8ff;\n",
       "            padding: 5px 15px;\n",
       "            border-radius: 8px;\n",
       "            max-width: 600px;\n",
       "            #margin: auto;\n",
       "        }\n",
       "        .container-bb5acfbf207f40daa6f8d79d1973e879 h2 {\n",
       "            font-size: 1.5em;\n",
       "            color: #222222;\n",
       "            border-bottom: 2px solid #ddd;\n",
       "            padding-bottom: 5px;\n",
       "            margin-bottom: 15px;\n",
       "            margin-top: 5px;\n",
       "        }\n",
       "        .container-bb5acfbf207f40daa6f8d79d1973e879 details {\n",
       "            margin: 10px 0;\n",
       "        }\n",
       "        .container-bb5acfbf207f40daa6f8d79d1973e879 summary {\n",
       "            font-weight: bold;\n",
       "            font-size: 1.1em;\n",
       "            color: #000000;\n",
       "            cursor: pointer;\n",
       "            margin-bottom: 5px;\n",
       "            background-color: #b3dbfd;\n",
       "            padding: 5px;\n",
       "            border-radius: 5px;\n",
       "        }\n",
       "        .container-bb5acfbf207f40daa6f8d79d1973e879 summary:hover {\n",
       "            color: #000000;\n",
       "            background-color: #e0e0e0;\n",
       "        }\n",
       "        .container-bb5acfbf207f40daa6f8d79d1973e879 ul {\n",
       "            font-family: 'Courier New', monospace;\n",
       "            list-style-type: none;\n",
       "            padding-left: 20px;\n",
       "            margin: 10px 0;\n",
       "            line-height: normal;\n",
       "        }\n",
       "        .container-bb5acfbf207f40daa6f8d79d1973e879 li {\n",
       "            margin: 5px 0;\n",
       "            font-family: 'Courier New', monospace;\n",
       "        }\n",
       "        .container-bb5acfbf207f40daa6f8d79d1973e879 li strong {\n",
       "            font-weight: bold;\n",
       "            color: #444444;\n",
       "        }\n",
       "        .container-bb5acfbf207f40daa6f8d79d1973e879 li::before {\n",
       "            content: \"- \";\n",
       "            color: #666666;\n",
       "        }\n",
       "        .container-bb5acfbf207f40daa6f8d79d1973e879 a {\n",
       "            color: #001633;\n",
       "            text-decoration: none;\n",
       "        }\n",
       "        .container-bb5acfbf207f40daa6f8d79d1973e879 a:hover {\n",
       "            color: #359ccb; \n",
       "        }\n",
       "    </style>\n",
       "    \n",
       "        <div class=\"container-bb5acfbf207f40daa6f8d79d1973e879\">\n",
       "            <h2>ForecasterSarimax</h2>\n",
       "            <details open>\n",
       "                <summary>General Information</summary>\n",
       "                <ul>\n",
       "                    <li><strong>Regressor:</strong> Sarimax</li>\n",
       "                    <li><strong>Order:</strong> (12, 1, 0)</li>\n",
       "                    <li><strong>Seasonal order:</strong> (0, 0, 0, 0)</li>\n",
       "                    <li><strong>Trend:</strong> c</li>\n",
       "                    <li><strong>Window size:</strong> 1</li>\n",
       "                    <li><strong>Exogenous included:</strong> False</li>\n",
       "                    <li><strong>Creation date:</strong> 2025-03-07 11:30:15</li>\n",
       "                    <li><strong>Last fit date:</strong> 2025-03-07 11:31:50</li>\n",
       "                    <li><strong>Skforecast version:</strong> 0.15.0</li>\n",
       "                    <li><strong>Python version:</strong> 3.12.9</li>\n",
       "                    <li><strong>Forecaster id:</strong> None</li>\n",
       "                </ul>\n",
       "            </details>\n",
       "            <details>\n",
       "                <summary>Exogenous Variables</summary>\n",
       "                <ul>\n",
       "                    None\n",
       "                </ul>\n",
       "            </details>\n",
       "            <details>\n",
       "                <summary>Data Transformations</summary>\n",
       "                <ul>\n",
       "                    <li><strong>Transformer for y:</strong> None</li>\n",
       "                    <li><strong>Transformer for exog:</strong> None</li>\n",
       "                </ul>\n",
       "            </details>\n",
       "            <details>\n",
       "                <summary>Training Information</summary>\n",
       "                <ul>\n",
       "                    <li><strong>Training range:</strong> [Timestamp('1992-04-01 00:00:00'), Timestamp('2006-01-01 00:00:00')]</li>\n",
       "                    <li><strong>Training index type:</strong> DatetimeIndex</li>\n",
       "                    <li><strong>Training index frequency:</strong> MS</li>\n",
       "                </ul>\n",
       "            </details>\n",
       "            <details>\n",
       "                <summary>Regressor Parameters</summary>\n",
       "                <ul>\n",
       "                    \n",
       "    {'concentrate_scale': False, 'dates': None, 'disp': False,\n",
       "    'enforce_invertibility': True, 'enforce_stationarity': True, 'freq': None,\n",
       "    'hamilton_representation': False, 'maxiter': 200, 'measurement_error':\n",
       "    False, 'method': 'lbfgs', 'missing': 'none', 'mle_regression': True,\n",
       "    'order': (12, 1, 0), 'seasonal_order': (0, 0, 0, 0), 'simple_differencing':\n",
       "    False, 'sm_fit_kwargs': {}, 'sm_init_kwargs': {}, 'sm_predict_kwargs': {},\n",
       "    'start_params': None, 'time_varying_regression': False, 'trend': 'c',\n",
       "    'trend_offset': 1, 'use_exact_diffuse': False, 'validate_specification':\n",
       "    True}\n",
       "                </ul>\n",
       "            </details>\n",
       "            <details>\n",
       "                <summary>Fit Kwargs</summary>\n",
       "                <ul>\n",
       "                    {}\n",
       "                </ul>\n",
       "            </details>\n",
       "            <p>\n",
       "                <a href=\"https://skforecast.org/0.15.0/api/forecastersarimax.html\">&#128712 <strong>API Reference</strong></a>\n",
       "                &nbsp;&nbsp;\n",
       "                <a href=\"https://skforecast.org/0.15.0/user_guides/forecasting-sarimax-arima.html\">&#128462 <strong>User Guide</strong></a>\n",
       "            </p>\n",
       "        </div>\n",
       "        "
      ],
      "text/plain": [
       "================= \n",
       "ForecasterSarimax \n",
       "================= \n",
       "Regressor: Sarimax(12,1,0)(0,0,0)[0] \n",
       "Exogenous included: False \n",
       "Exogenous names: None \n",
       "Transformer for y: None \n",
       "Transformer for exog: None \n",
       "Training range: [Timestamp('1992-04-01 00:00:00'), Timestamp('2006-01-01 00:00:00')] \n",
       "Training index type: DatetimeIndex \n",
       "Training index frequency: MS \n",
       "Regressor parameters: \n",
       "    {'concentrate_scale': False, 'dates': None, 'disp': False,\n",
       "    'enforce_invertibility': True, 'enforce_stationarity': True, 'freq': None,\n",
       "    'hamilton_representation': False, 'maxiter': 200, 'measurement_error':\n",
       "    False, 'method': 'lbfgs', 'missing': 'none', 'mle_regression': True,\n",
       "    'order': (12, 1, 0), 'seasonal_order': (0, 0, 0, 0), 'simple_differencing':\n",
       "    False, 'sm_fit_kwargs': {}, 'sm_init_kwargs': {}, 'sm_predict_kwargs': {},\n",
       "    'start_params': None, 'time_varying_regression': False, 'trend': 'c',\n",
       "    'trend_offset': 1, 'use_exact_diffuse': False, 'validate_specification':\n",
       "    True} \n",
       "fit_kwargs: {} \n",
       "Creation date: 2025-03-07 11:30:15 \n",
       "Last fit date: 2025-03-07 11:31:50 \n",
       "Index seen by the forecaster: DatetimeIndex(['1992-04-01', '1992-05-01', '1992-06-01', '1992-07-01',\n",
       "               '1992-08-01', '1992-09-01', '1992-10-01', '1992-11-01',\n",
       "               '1992-12-01', '1993-01-01',\n",
       "               ...\n",
       "               '2005-04-01', '2005-05-01', '2005-06-01', '2005-07-01',\n",
       "               '2005-08-01', '2005-09-01', '2005-10-01', '2005-11-01',\n",
       "               '2005-12-01', '2006-01-01'],\n",
       "              dtype='datetime64[ns]', name='datetime', length=166, freq='MS') \n",
       "Skforecast version: 0.15.0 \n",
       "Python version: 3.12.9 \n",
       "Forecaster id: None "
      ]
     },
     "execution_count": 41,
     "metadata": {},
     "output_type": "execute_result"
    }
   ],
   "source": [
    "forecaster"
   ]
  },
  {
   "cell_type": "markdown",
   "metadata": {},
   "source": [
    "## Prediction on training data (In-sample Predictions)\n",
    "\n",
    "Predictions on the training data are crucial for evaluating the accuracy and effectiveness of the model. By comparing the predicted values wtih the actual observed values in the training dataset, you can assess how well the model has learned the underlying patterns and trends in the data. This comparison helps in understanding the model's performance and identify areas where it may need improvement or adjustment. In essence, they act as a mirror, reflecting how the model interprets and reconstructs the historical data on which it was trained.\n",
    "\n",
    "The [predictions of the fitted values](https://www.statsmodels.org/dev/generated/statsmodels.tsa.statespace.sarimax.SARIMAXResults.fittedvalues.html#statsmodels.tsa.statespace.sarimax.SARIMAXResults.fittedvalues) are stored in the `fittedvalues` attribute of the `SARIMAXResults` object. This object is stored within the `sarimax_res` attribute of the [skforecast `Sarimax` model](../api/sarimax):"
   ]
  },
  {
   "cell_type": "code",
   "execution_count": 42,
   "metadata": {},
   "outputs": [
    {
     "data": {
      "text/plain": [
       "datetime\n",
       "1992-04-01    0.000000\n",
       "1992-05-01    0.379808\n",
       "1992-06-01    0.361364\n",
       "1992-07-01    0.413265\n",
       "1992-08-01    0.481084\n",
       "                ...   \n",
       "2005-02-01    0.739315\n",
       "2005-03-01    0.751082\n",
       "2005-04-01    0.716096\n",
       "2005-05-01    0.749931\n",
       "2005-06-01    0.817595\n",
       "Freq: MS, Length: 159, dtype: float64"
      ]
     },
     "execution_count": 42,
     "metadata": {},
     "output_type": "execute_result"
    }
   ],
   "source": [
    "# Create and fit ForecasterSarimax (skforecast)\n",
    "# ==============================================================================\n",
    "forecaster = ForecasterSarimax(\n",
    "                 regressor=Sarimax(order=(12, 1, 1), maxiter=200),\n",
    "             )\n",
    "forecaster.fit(y=data_train['y'], suppress_warnings=True)\n",
    "\n",
    "# In-sample Predictions\n",
    "# ==============================================================================\n",
    "forecaster.regressor.sarimax_res.fittedvalues"
   ]
  }
 ],
 "metadata": {
  "kernelspec": {
   "display_name": "skforecast_15_p12",
   "language": "python",
   "name": "python3"
  },
  "language_info": {
   "codemirror_mode": {
    "name": "ipython",
    "version": 3
   },
   "file_extension": ".py",
   "mimetype": "text/x-python",
   "name": "python",
   "nbconvert_exporter": "python",
   "pygments_lexer": "ipython3",
   "version": "3.12.9"
  },
  "toc": {
   "base_numbering": 1,
   "nav_menu": {},
   "number_sections": true,
   "sideBar": true,
   "skip_h1_title": false,
   "title_cell": "Table of Contents",
   "title_sidebar": "Contents",
   "toc_cell": false,
   "toc_position": {},
   "toc_section_display": true,
   "toc_window_display": false
  },
  "varInspector": {
   "cols": {
    "lenName": 16,
    "lenType": 16,
    "lenVar": 40
   },
   "kernels_config": {
    "python": {
     "delete_cmd_postfix": "",
     "delete_cmd_prefix": "del ",
     "library": "var_list.py",
     "varRefreshCmd": "print(var_dic_list())"
    },
    "r": {
     "delete_cmd_postfix": ") ",
     "delete_cmd_prefix": "rm(",
     "library": "var_list.r",
     "varRefreshCmd": "cat(var_dic_list()) "
    }
   },
   "types_to_exclude": [
    "module",
    "function",
    "builtin_function_or_method",
    "instance",
    "_Feature"
   ],
   "window_display": false
  }
 },
 "nbformat": 4,
 "nbformat_minor": 5
}
