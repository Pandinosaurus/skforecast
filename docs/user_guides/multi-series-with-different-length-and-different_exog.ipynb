{
 "cells": [
  {
   "cell_type": "markdown",
   "metadata": {},
   "source": [
    "# Global Forecasting Models: Time series with different lengths and different exogenous variables"
   ]
  },
  {
   "cell_type": "markdown",
   "metadata": {},
   "source": [
    "When faced with a multi-series forecasting problem, it is common for the series to have varying lengths due to differences in the starting times of data recording. To address this scenario, the class [ForecasterRecursiveMultiSeries](../user_guides/independent-multi-time-series-forecasting.html) allows the simultaneous modeling of time series of different lengths and using different exogenous variables.\n",
    "\n",
    "+ When the modeled series have different lengths, they must be stored in a Python dictionary. The keys of the dictionary are the names of the series and the values are the series themselves. All series must be of type `pandas.Series`, have a `pandas.DatetimeIndex` with the **same frequency**.\n",
    "\n",
    "\n",
    "| Series values                            | Allowed |\n",
    "|:----------------------------------------:|:-------:|\n",
    "| `[NaN, NaN, NaN, NaN, 4, 5, 6, 7, 8, 9]` |✔️       |\n",
    "| `[0, 1, 2, 3, 4, 5, 6, 7, 8, NaN]`       |✔️       |\n",
    "| `[0, 1, 2, 3, 4, NaN, 6, 7, 8, 9]`       |✔️       |\n",
    "| `[NaN, NaN, 2, 3, 4, NaN, 6, 7, 8, 9]`   |✔️       |\n",
    "\n",
    "+ When different exogenous variables are used for each series, or if the exogenous variables are the same but have different values for each series, they must be stored in a dictionary. The keys of the dictionary are the names of the series and the values are the exogenous variables themselves. All exogenous variables must be of type `pandas.DataFrame` or `pandas.Series` and have a `pandas.DatetimeIndex` with the **same frequency**."
   ]
  },
  {
   "cell_type": "markdown",
   "metadata": {},
   "source": [
    "<div class=\"admonition note\" name=\"html-admonition\" style=\"background: rgba(0,191,191,.1); padding-top: 0px; padding-bottom: 6px; border-radius: 8px; border-left: 8px solid #00bfa5; border-color: #00bfa5; padding-left: 10px; padding-right: 10px;\">\n",
    "\n",
    "<p class=\"title\">\n",
    "    <i style=\"font-size: 18px; color:#00bfa5;\"></i>\n",
    "    <b style=\"color: #00bfa5;\">&#128161 Tip</b>\n",
    "</p>\n",
    "\n",
    "API Reference <a href=\"../api/forecasterrecursivemultiseries.html\">ForecasterRecursiveMultiSeries</a>.\n",
    "\n",
    "</div>"
   ]
  },
  {
   "cell_type": "markdown",
   "metadata": {},
   "source": [
    "## Libraries and data"
   ]
  },
  {
   "cell_type": "code",
   "execution_count": 1,
   "metadata": {},
   "outputs": [],
   "source": [
    "# Libraries\n",
    "# ==============================================================================\n",
    "import numpy as np\n",
    "import pandas as pd\n",
    "import matplotlib.pyplot as plt\n",
    "from lightgbm import LGBMRegressor\n",
    "from skforecast.plot import set_dark_theme\n",
    "from skforecast.preprocessing import series_long_to_dict, exog_long_to_dict, RollingFeatures\n",
    "from skforecast.recursive import ForecasterRecursiveMultiSeries\n",
    "from skforecast.model_selection import (\n",
    "    TimeSeriesFold,\n",
    "    backtesting_forecaster_multiseries,\n",
    "    bayesian_search_forecaster_multiseries\n",
    ")"
   ]
  },
  {
   "cell_type": "markdown",
   "metadata": {},
   "source": [
    "The data for this example is stored in **\"long format\"** in a single `DataFrame`. The `series_id` column identifies the series to which each observation belongs. The `timestamp` column contains the date of the observation, and the `value` column contains the value of the series at that date. Each time series is of a different length.\n",
    "\n",
    "The exogenous variables are stored in a separate `DataFrame`, also in **\"long format\"**. The column `series_id` identifies the series to which each observation belongs. The column `timestamp` contains the date of the observation, and the remaining columns contain the values of the exogenous variables at that date."
   ]
  },
  {
   "cell_type": "code",
   "execution_count": 2,
   "metadata": {},
   "outputs": [
    {
     "data": {
      "application/vnd.microsoft.datawrangler.viewer.v0+json": {
       "columns": [
        {
         "name": "index",
         "rawType": "int64",
         "type": "integer"
        },
        {
         "name": "series_id",
         "rawType": "object",
         "type": "string"
        },
        {
         "name": "timestamp",
         "rawType": "datetime64[ns]",
         "type": "datetime"
        },
        {
         "name": "value",
         "rawType": "float64",
         "type": "float"
        }
       ],
       "conversionMethod": "pd.DataFrame",
       "ref": "85f597ce-e79a-4615-b61d-072af44848c5",
       "rows": [
        [
         "0",
         "id_1000",
         "2016-01-01 00:00:00",
         "1012.5006942749023"
        ],
        [
         "1",
         "id_1000",
         "2016-01-02 00:00:00",
         "1158.500099182129"
        ],
        [
         "2",
         "id_1000",
         "2016-01-03 00:00:00",
         "983.0000991821288"
        ],
        [
         "3",
         "id_1000",
         "2016-01-04 00:00:00",
         "1675.7504959106443"
        ],
        [
         "4",
         "id_1000",
         "2016-01-05 00:00:00",
         "1586.2506942749023"
        ]
       ],
       "shape": {
        "columns": 3,
        "rows": 5
       }
      },
      "text/html": [
       "<div>\n",
       "<style scoped>\n",
       "    .dataframe tbody tr th:only-of-type {\n",
       "        vertical-align: middle;\n",
       "    }\n",
       "\n",
       "    .dataframe tbody tr th {\n",
       "        vertical-align: top;\n",
       "    }\n",
       "\n",
       "    .dataframe thead th {\n",
       "        text-align: right;\n",
       "    }\n",
       "</style>\n",
       "<table border=\"1\" class=\"dataframe\">\n",
       "  <thead>\n",
       "    <tr style=\"text-align: right;\">\n",
       "      <th></th>\n",
       "      <th>series_id</th>\n",
       "      <th>timestamp</th>\n",
       "      <th>value</th>\n",
       "    </tr>\n",
       "  </thead>\n",
       "  <tbody>\n",
       "    <tr>\n",
       "      <th>0</th>\n",
       "      <td>id_1000</td>\n",
       "      <td>2016-01-01</td>\n",
       "      <td>1012.500694</td>\n",
       "    </tr>\n",
       "    <tr>\n",
       "      <th>1</th>\n",
       "      <td>id_1000</td>\n",
       "      <td>2016-01-02</td>\n",
       "      <td>1158.500099</td>\n",
       "    </tr>\n",
       "    <tr>\n",
       "      <th>2</th>\n",
       "      <td>id_1000</td>\n",
       "      <td>2016-01-03</td>\n",
       "      <td>983.000099</td>\n",
       "    </tr>\n",
       "    <tr>\n",
       "      <th>3</th>\n",
       "      <td>id_1000</td>\n",
       "      <td>2016-01-04</td>\n",
       "      <td>1675.750496</td>\n",
       "    </tr>\n",
       "    <tr>\n",
       "      <th>4</th>\n",
       "      <td>id_1000</td>\n",
       "      <td>2016-01-05</td>\n",
       "      <td>1586.250694</td>\n",
       "    </tr>\n",
       "  </tbody>\n",
       "</table>\n",
       "</div>"
      ],
      "text/plain": [
       "  series_id  timestamp        value\n",
       "0   id_1000 2016-01-01  1012.500694\n",
       "1   id_1000 2016-01-02  1158.500099\n",
       "2   id_1000 2016-01-03   983.000099\n",
       "3   id_1000 2016-01-04  1675.750496\n",
       "4   id_1000 2016-01-05  1586.250694"
      ]
     },
     "metadata": {},
     "output_type": "display_data"
    },
    {
     "name": "stdout",
     "output_type": "stream",
     "text": [
      "\n"
     ]
    },
    {
     "data": {
      "application/vnd.microsoft.datawrangler.viewer.v0+json": {
       "columns": [
        {
         "name": "index",
         "rawType": "int64",
         "type": "integer"
        },
        {
         "name": "series_id",
         "rawType": "object",
         "type": "string"
        },
        {
         "name": "timestamp",
         "rawType": "datetime64[ns]",
         "type": "datetime"
        },
        {
         "name": "sin_day_of_week",
         "rawType": "float64",
         "type": "float"
        },
        {
         "name": "cos_day_of_week",
         "rawType": "float64",
         "type": "float"
        },
        {
         "name": "air_temperature",
         "rawType": "float64",
         "type": "float"
        },
        {
         "name": "wind_speed",
         "rawType": "float64",
         "type": "float"
        }
       ],
       "conversionMethod": "pd.DataFrame",
       "ref": "9bdf3eda-8105-4a48-95d3-1b87e4a01e95",
       "rows": [
        [
         "0",
         "id_1000",
         "2016-01-01 00:00:00",
         "-0.433883739117558",
         "-0.9009688679024191",
         "6.416639209225701",
         "4.040115321252059"
        ],
        [
         "1",
         "id_1000",
         "2016-01-02 00:00:00",
         "-0.9749279121818236",
         "-0.2225209339563146",
         "6.366474464579901",
         "4.530395387149917"
        ],
        [
         "2",
         "id_1000",
         "2016-01-03 00:00:00",
         "-0.7818314824680299",
         "0.6234898018587334",
         "6.5552718286655685",
         "3.2730642504118617"
        ],
        [
         "3",
         "id_1000",
         "2016-01-04 00:00:00",
         "0.0",
         "1.0",
         "6.704777594728172",
         "4.865403624382208"
        ],
        [
         "4",
         "id_1000",
         "2016-01-05 00:00:00",
         "0.7818314824680298",
         "0.6234898018587336",
         "2.392998352553542",
         "5.228912685337727"
        ]
       ],
       "shape": {
        "columns": 6,
        "rows": 5
       }
      },
      "text/html": [
       "<div>\n",
       "<style scoped>\n",
       "    .dataframe tbody tr th:only-of-type {\n",
       "        vertical-align: middle;\n",
       "    }\n",
       "\n",
       "    .dataframe tbody tr th {\n",
       "        vertical-align: top;\n",
       "    }\n",
       "\n",
       "    .dataframe thead th {\n",
       "        text-align: right;\n",
       "    }\n",
       "</style>\n",
       "<table border=\"1\" class=\"dataframe\">\n",
       "  <thead>\n",
       "    <tr style=\"text-align: right;\">\n",
       "      <th></th>\n",
       "      <th>series_id</th>\n",
       "      <th>timestamp</th>\n",
       "      <th>sin_day_of_week</th>\n",
       "      <th>cos_day_of_week</th>\n",
       "      <th>air_temperature</th>\n",
       "      <th>wind_speed</th>\n",
       "    </tr>\n",
       "  </thead>\n",
       "  <tbody>\n",
       "    <tr>\n",
       "      <th>0</th>\n",
       "      <td>id_1000</td>\n",
       "      <td>2016-01-01</td>\n",
       "      <td>-0.433884</td>\n",
       "      <td>-0.900969</td>\n",
       "      <td>6.416639</td>\n",
       "      <td>4.040115</td>\n",
       "    </tr>\n",
       "    <tr>\n",
       "      <th>1</th>\n",
       "      <td>id_1000</td>\n",
       "      <td>2016-01-02</td>\n",
       "      <td>-0.974928</td>\n",
       "      <td>-0.222521</td>\n",
       "      <td>6.366474</td>\n",
       "      <td>4.530395</td>\n",
       "    </tr>\n",
       "    <tr>\n",
       "      <th>2</th>\n",
       "      <td>id_1000</td>\n",
       "      <td>2016-01-03</td>\n",
       "      <td>-0.781831</td>\n",
       "      <td>0.623490</td>\n",
       "      <td>6.555272</td>\n",
       "      <td>3.273064</td>\n",
       "    </tr>\n",
       "    <tr>\n",
       "      <th>3</th>\n",
       "      <td>id_1000</td>\n",
       "      <td>2016-01-04</td>\n",
       "      <td>0.000000</td>\n",
       "      <td>1.000000</td>\n",
       "      <td>6.704778</td>\n",
       "      <td>4.865404</td>\n",
       "    </tr>\n",
       "    <tr>\n",
       "      <th>4</th>\n",
       "      <td>id_1000</td>\n",
       "      <td>2016-01-05</td>\n",
       "      <td>0.781831</td>\n",
       "      <td>0.623490</td>\n",
       "      <td>2.392998</td>\n",
       "      <td>5.228913</td>\n",
       "    </tr>\n",
       "  </tbody>\n",
       "</table>\n",
       "</div>"
      ],
      "text/plain": [
       "  series_id  timestamp  sin_day_of_week  cos_day_of_week  air_temperature  \\\n",
       "0   id_1000 2016-01-01        -0.433884        -0.900969         6.416639   \n",
       "1   id_1000 2016-01-02        -0.974928        -0.222521         6.366474   \n",
       "2   id_1000 2016-01-03        -0.781831         0.623490         6.555272   \n",
       "3   id_1000 2016-01-04         0.000000         1.000000         6.704778   \n",
       "4   id_1000 2016-01-05         0.781831         0.623490         2.392998   \n",
       "\n",
       "   wind_speed  \n",
       "0    4.040115  \n",
       "1    4.530395  \n",
       "2    3.273064  \n",
       "3    4.865404  \n",
       "4    5.228913  "
      ]
     },
     "metadata": {},
     "output_type": "display_data"
    }
   ],
   "source": [
    "# Load time series of multiple lengths and exogenous variables\n",
    "# ==============================================================================\n",
    "series = pd.read_csv(\n",
    "    'https://raw.githubusercontent.com/skforecast/skforecast-datasets/main/data/demo_multi_series.csv'\n",
    ")\n",
    "exog = pd.read_csv(\n",
    "    'https://raw.githubusercontent.com/skforecast/skforecast-datasets/main/data/demo_multi_series_exog.csv'\n",
    ")\n",
    "\n",
    "series['timestamp'] = pd.to_datetime(series['timestamp'])\n",
    "exog['timestamp'] = pd.to_datetime(exog['timestamp'])\n",
    "\n",
    "display(series.head())\n",
    "print(\"\")\n",
    "display(exog.head())"
   ]
  },
  {
   "cell_type": "markdown",
   "metadata": {},
   "source": [
    "When series have different lengths, the data must be transformed into a dictionary. The keys of the dictionary are the names of the series and the values are the series themselves. To do this, the `series_long_to_dict` function is used, which takes the `DataFrame` in \"long format\" and returns a `dict` of `pandas Series`.\n",
    "\n",
    "Similarly, when the exogenous variables are different (values or variables) for each series, the data must be transformed into a dictionary. The keys of the dictionary are the names of the series and the values are the exogenous variables themselves. The `exog_long_to_dict` function is used, which takes the `DataFrame` in \"long format\" and returns a `dict` of exogenous variables (`pandas Series` or `pandas DataFrame`)."
   ]
  },
  {
   "cell_type": "code",
   "execution_count": 3,
   "metadata": {},
   "outputs": [
    {
     "data": {
      "text/html": [
       "<pre style=\"white-space:pre;overflow-x:auto;line-height:normal;font-family:Menlo,'DejaVu Sans Mono',consolas,'Courier New',monospace\"><span style=\"color: #ffaf00; text-decoration-color: #ffaf00\">╭──────────────────────────────── MissingValuesWarning ────────────────────────────────╮</span>\n",
       "<span style=\"color: #ffaf00; text-decoration-color: #ffaf00\">│</span> Series 'id_1003' is incomplete. NaNs have been introduced after setting the          <span style=\"color: #ffaf00; text-decoration-color: #ffaf00\">│</span>\n",
       "<span style=\"color: #ffaf00; text-decoration-color: #ffaf00\">│</span> frequency.                                                                           <span style=\"color: #ffaf00; text-decoration-color: #ffaf00\">│</span>\n",
       "<span style=\"color: #ffaf00; text-decoration-color: #ffaf00\">│</span>                                                                                      <span style=\"color: #ffaf00; text-decoration-color: #ffaf00\">│</span>\n",
       "<span style=\"color: #ffaf00; text-decoration-color: #ffaf00\">│</span> Category : MissingValuesWarning                                                      <span style=\"color: #ffaf00; text-decoration-color: #ffaf00\">│</span>\n",
       "<span style=\"color: #ffaf00; text-decoration-color: #ffaf00\">│</span> Location :                                                                           <span style=\"color: #ffaf00; text-decoration-color: #ffaf00\">│</span>\n",
       "<span style=\"color: #ffaf00; text-decoration-color: #ffaf00\">│</span> c:\\anaconda\\envs\\skforecast_15_p12\\Lib\\site-packages\\skforecast\\preprocessing\\prepro <span style=\"color: #ffaf00; text-decoration-color: #ffaf00\">│</span>\n",
       "<span style=\"color: #ffaf00; text-decoration-color: #ffaf00\">│</span> cessing.py:428                                                                       <span style=\"color: #ffaf00; text-decoration-color: #ffaf00\">│</span>\n",
       "<span style=\"color: #ffaf00; text-decoration-color: #ffaf00\">│</span> Suppress : warnings.simplefilter('ignore', category=MissingValuesWarning)            <span style=\"color: #ffaf00; text-decoration-color: #ffaf00\">│</span>\n",
       "<span style=\"color: #ffaf00; text-decoration-color: #ffaf00\">╰──────────────────────────────────────────────────────────────────────────────────────╯</span>\n",
       "</pre>\n"
      ],
      "text/plain": [
       "\u001b[38;5;214m╭─\u001b[0m\u001b[38;5;214m───────────────────────────────\u001b[0m\u001b[38;5;214m MissingValuesWarning \u001b[0m\u001b[38;5;214m───────────────────────────────\u001b[0m\u001b[38;5;214m─╮\u001b[0m\n",
       "\u001b[38;5;214m│\u001b[0m Series 'id_1003' is incomplete. NaNs have been introduced after setting the          \u001b[38;5;214m│\u001b[0m\n",
       "\u001b[38;5;214m│\u001b[0m frequency.                                                                           \u001b[38;5;214m│\u001b[0m\n",
       "\u001b[38;5;214m│\u001b[0m                                                                                      \u001b[38;5;214m│\u001b[0m\n",
       "\u001b[38;5;214m│\u001b[0m Category : MissingValuesWarning                                                      \u001b[38;5;214m│\u001b[0m\n",
       "\u001b[38;5;214m│\u001b[0m Location :                                                                           \u001b[38;5;214m│\u001b[0m\n",
       "\u001b[38;5;214m│\u001b[0m c:\\anaconda\\envs\\skforecast_15_p12\\Lib\\site-packages\\skforecast\\preprocessing\\prepro \u001b[38;5;214m│\u001b[0m\n",
       "\u001b[38;5;214m│\u001b[0m cessing.py:428                                                                       \u001b[38;5;214m│\u001b[0m\n",
       "\u001b[38;5;214m│\u001b[0m Suppress : warnings.simplefilter('ignore', category=MissingValuesWarning)            \u001b[38;5;214m│\u001b[0m\n",
       "\u001b[38;5;214m╰──────────────────────────────────────────────────────────────────────────────────────╯\u001b[0m\n"
      ]
     },
     "metadata": {},
     "output_type": "display_data"
    }
   ],
   "source": [
    "# Transform series and exog to dictionaries\n",
    "# ==============================================================================\n",
    "series_dict = series_long_to_dict(\n",
    "    data      = series,\n",
    "    series_id = 'series_id',\n",
    "    index     = 'timestamp',\n",
    "    values    = 'value',\n",
    "    freq      = 'D'\n",
    ")\n",
    "\n",
    "exog_dict = exog_long_to_dict(\n",
    "    data      = exog,\n",
    "    series_id = 'series_id',\n",
    "    index     = 'timestamp',\n",
    "    freq      = 'D'\n",
    ")"
   ]
  },
  {
   "cell_type": "markdown",
   "metadata": {},
   "source": [
    "Some exogenous variables are omitted for series 1 and 3 to illustrate that different exogenous variables can be used for each series."
   ]
  },
  {
   "cell_type": "code",
   "execution_count": 4,
   "metadata": {},
   "outputs": [],
   "source": [
    "# Drop some exogenous variables for series 'id_1000' and 'id_1003'\n",
    "# ==============================================================================\n",
    "exog_dict['id_1000'] = exog_dict['id_1000'].drop(columns=['air_temperature', 'wind_speed'])\n",
    "exog_dict['id_1003'] = exog_dict['id_1003'].drop(columns=['cos_day_of_week'])"
   ]
  },
  {
   "cell_type": "code",
   "execution_count": 5,
   "metadata": {},
   "outputs": [],
   "source": [
    "# Partition data in train and test\n",
    "# ==============================================================================\n",
    "end_train = '2016-07-31 23:59:00'\n",
    "series_dict_train = {k: v.loc[: end_train,] for k, v in series_dict.items()}\n",
    "exog_dict_train   = {k: v.loc[: end_train,] for k, v in exog_dict.items()}\n",
    "series_dict_test  = {k: v.loc[end_train:,] for k, v in series_dict.items()}\n",
    "exog_dict_test    = {k: v.loc[end_train:,] for k, v in exog_dict.items()}"
   ]
  },
  {
   "cell_type": "code",
   "execution_count": 6,
   "metadata": {},
   "outputs": [
    {
     "data": {
      "image/png": "[encoded data removed]",
      "text/plain": [
       "<Figure size 800x400 with 5 Axes>"
      ]
     },
     "metadata": {},
     "output_type": "display_data"
    }
   ],
   "source": [
    "# Plot series\n",
    "# ==============================================================================\n",
    "set_dark_theme()\n",
    "colors = plt.rcParams['axes.prop_cycle'].by_key()['color']\n",
    "fig, axs = plt.subplots(5, 1, figsize=(8, 4), sharex=True)\n",
    "\n",
    "for i, s in enumerate(series_dict.values()):\n",
    "    axs[i].plot(s, label=s.name, color=colors[i])\n",
    "    axs[i].legend(loc='upper right', fontsize=8)\n",
    "    axs[i].tick_params(axis='both', labelsize=8)\n",
    "    axs[i].axvline(pd.to_datetime(end_train), color='white', linestyle='--', linewidth=1)  # End train\n",
    "\n",
    "fig.suptitle('Series in `series_dict`', fontsize=15)\n",
    "plt.tight_layout()"
   ]
  },
  {
   "cell_type": "code",
   "execution_count": 7,
   "metadata": {},
   "outputs": [
    {
     "name": "stdout",
     "output_type": "stream",
     "text": [
      "id_1000:\n",
      "\tTrain: len=213, 2016-01-01 00:00:00 --- 2016-07-31 00:00:00\n",
      "\tTest : len=153, 2016-08-01 00:00:00 --- 2016-12-31 00:00:00\n",
      "id_1001:\n",
      "\tTrain: len=30, 2016-07-02 00:00:00 --- 2016-07-31 00:00:00\n",
      "\tTest : len=153, 2016-08-01 00:00:00 --- 2016-12-31 00:00:00\n",
      "id_1002:\n",
      "\tTrain: len=183, 2016-01-01 00:00:00 --- 2016-07-01 00:00:00\n",
      "\tTest : len=0\n",
      "id_1003:\n",
      "\tTrain: len=213, 2016-01-01 00:00:00 --- 2016-07-31 00:00:00\n",
      "\tTest : len=153, 2016-08-01 00:00:00 --- 2016-12-31 00:00:00\n",
      "id_1004:\n",
      "\tTrain: len=91, 2016-05-02 00:00:00 --- 2016-07-31 00:00:00\n",
      "\tTest : len=31, 2016-08-01 00:00:00 --- 2016-08-31 00:00:00\n"
     ]
    }
   ],
   "source": [
    "# Description of each partition\n",
    "# ==============================================================================\n",
    "for k in series_dict.keys():\n",
    "    print(f\"{k}:\")\n",
    "    try:\n",
    "        print(\n",
    "            f\"\\tTrain: len={len(series_dict_train[k])}, {series_dict_train[k].index[0]}\"\n",
    "            f\" --- {series_dict_train[k].index[-1]}\"\n",
    "        )\n",
    "    except:\n",
    "        print(\"\\tTrain: len=0\")\n",
    "    try:\n",
    "        print(\n",
    "            f\"\\tTest : len={len(series_dict_test[k])}, {series_dict_test[k].index[0]}\"\n",
    "            f\" --- {series_dict_test[k].index[-1]}\"\n",
    "        )\n",
    "    except:\n",
    "        print(\"\\tTest : len=0\")"
   ]
  },
  {
   "cell_type": "code",
   "execution_count": 8,
   "metadata": {},
   "outputs": [
    {
     "name": "stdout",
     "output_type": "stream",
     "text": [
      "id_1000:\n",
      "\t['sin_day_of_week', 'cos_day_of_week']\n",
      "id_1001:\n",
      "\t['sin_day_of_week', 'cos_day_of_week', 'air_temperature', 'wind_speed']\n",
      "id_1002:\n",
      "\t['sin_day_of_week', 'cos_day_of_week', 'air_temperature', 'wind_speed']\n",
      "id_1003:\n",
      "\t['sin_day_of_week', 'air_temperature', 'wind_speed']\n",
      "id_1004:\n",
      "\t['sin_day_of_week', 'cos_day_of_week', 'air_temperature', 'wind_speed']\n"
     ]
    }
   ],
   "source": [
    "# Exogenous variables for each series\n",
    "# ==============================================================================\n",
    "for k in series_dict.keys():\n",
    "    print(f\"{k}:\")\n",
    "    try:\n",
    "        print(f\"\\t{exog_dict[k].columns.to_list()}\")\n",
    "    except:\n",
    "        print(\"\\tNo exogenous variables\")"
   ]
  },
  {
   "cell_type": "markdown",
   "metadata": {},
   "source": [
    "## Train and predict\n",
    "\n",
    "The `fit` method is used to train the model, it is passed the dictionary of series and the dictionary of exogenous variables where the keys of each dictionary are the names of the series."
   ]
  },
  {
   "cell_type": "code",
   "execution_count": 9,
   "metadata": {},
   "outputs": [
    {
     "data": {
      "text/html": [
       "\n",
       "    <style>\n",
       "        .container-226554954fb3418a90bd6a45155e7479 {\n",
       "            font-family: 'Arial', sans-serif;\n",
       "            font-size: 0.9em;\n",
       "            color: #333333;\n",
       "            border: 1px solid #ddd;\n",
       "            background-color: #f0f8ff;\n",
       "            padding: 5px 15px;\n",
       "            border-radius: 8px;\n",
       "            max-width: 600px;\n",
       "            #margin: auto;\n",
       "        }\n",
       "        .container-226554954fb3418a90bd6a45155e7479 h2 {\n",
       "            font-size: 1.5em;\n",
       "            color: #222222;\n",
       "            border-bottom: 2px solid #ddd;\n",
       "            padding-bottom: 5px;\n",
       "            margin-bottom: 15px;\n",
       "            margin-top: 5px;\n",
       "        }\n",
       "        .container-226554954fb3418a90bd6a45155e7479 details {\n",
       "            margin: 10px 0;\n",
       "        }\n",
       "        .container-226554954fb3418a90bd6a45155e7479 summary {\n",
       "            font-weight: bold;\n",
       "            font-size: 1.1em;\n",
       "            color: #000000;\n",
       "            cursor: pointer;\n",
       "            margin-bottom: 5px;\n",
       "            background-color: #b3dbfd;\n",
       "            padding: 5px;\n",
       "            border-radius: 5px;\n",
       "        }\n",
       "        .container-226554954fb3418a90bd6a45155e7479 summary:hover {\n",
       "            color: #000000;\n",
       "            background-color: #e0e0e0;\n",
       "        }\n",
       "        .container-226554954fb3418a90bd6a45155e7479 ul {\n",
       "            font-family: 'Courier New', monospace;\n",
       "            list-style-type: none;\n",
       "            padding-left: 20px;\n",
       "            margin: 10px 0;\n",
       "            line-height: normal;\n",
       "        }\n",
       "        .container-226554954fb3418a90bd6a45155e7479 li {\n",
       "            margin: 5px 0;\n",
       "            font-family: 'Courier New', monospace;\n",
       "        }\n",
       "        .container-226554954fb3418a90bd6a45155e7479 li strong {\n",
       "            font-weight: bold;\n",
       "            color: #444444;\n",
       "        }\n",
       "        .container-226554954fb3418a90bd6a45155e7479 li::before {\n",
       "            content: \"- \";\n",
       "            color: #666666;\n",
       "        }\n",
       "        .container-226554954fb3418a90bd6a45155e7479 a {\n",
       "            color: #001633;\n",
       "            text-decoration: none;\n",
       "        }\n",
       "        .container-226554954fb3418a90bd6a45155e7479 a:hover {\n",
       "            color: #359ccb; \n",
       "        }\n",
       "    </style>\n",
       "    \n",
       "        <div class=\"container-226554954fb3418a90bd6a45155e7479\">\n",
       "            <h2>ForecasterRecursiveMultiSeries</h2>\n",
       "            <details open>\n",
       "                <summary>General Information</summary>\n",
       "                <ul>\n",
       "                    <li><strong>Regressor:</strong> LGBMRegressor</li>\n",
       "                    <li><strong>Lags:</strong> [ 1  2  3  4  5  6  7  8  9 10 11 12 13 14]</li>\n",
       "                    <li><strong>Window features:</strong> ['roll_mean_7', 'roll_mean_14']</li>\n",
       "                    <li><strong>Window size:</strong> 14</li>\n",
       "                    <li><strong>Series encoding:</strong> ordinal</li>\n",
       "                    <li><strong>Exogenous included:</strong> True</li>\n",
       "                    <li><strong>Weight function included:</strong> False</li>\n",
       "                    <li><strong>Series weights:</strong> None</li>\n",
       "                    <li><strong>Differentiation order:</strong> None</li>\n",
       "                    <li><strong>Creation date:</strong> 2025-03-07 12:49:34</li>\n",
       "                    <li><strong>Last fit date:</strong> 2025-03-07 12:49:35</li>\n",
       "                    <li><strong>Skforecast version:</strong> 0.15.0</li>\n",
       "                    <li><strong>Python version:</strong> 3.12.9</li>\n",
       "                    <li><strong>Forecaster id:</strong> None</li>\n",
       "                </ul>\n",
       "            </details>\n",
       "            <details>\n",
       "                <summary>Exogenous Variables</summary>\n",
       "                <ul>\n",
       "                    sin_day_of_week, cos_day_of_week, air_temperature, wind_speed\n",
       "                </ul>\n",
       "            </details>\n",
       "            <details>\n",
       "                <summary>Data Transformations</summary>\n",
       "                <ul>\n",
       "                    <li><strong>Transformer for series:</strong> None</li>\n",
       "                    <li><strong>Transformer for exog:</strong> None</li>\n",
       "                </ul>\n",
       "            </details>\n",
       "            <details>\n",
       "                <summary>Training Information</summary>\n",
       "                <ul>\n",
       "                    <li><strong>Series names (levels):</strong> id_1000, id_1001, id_1002, id_1003, id_1004</li>\n",
       "                    <li><strong>Training range:</strong> 'id_1000': ['2016-01-01', '2016-07-31'], 'id_1001': ['2016-07-02', '2016-07-31'], 'id_1002': ['2016-01-01', '2016-07-01'], 'id_1003': ['2016-01-01', '2016-07-31'], 'id_1004': ['2016-05-02', '2016-07-31']</li>\n",
       "                    <li><strong>Training index type:</strong> DatetimeIndex</li>\n",
       "                    <li><strong>Training index frequency:</strong> D</li>\n",
       "                </ul>\n",
       "            </details>\n",
       "            <details>\n",
       "                <summary>Regressor Parameters</summary>\n",
       "                <ul>\n",
       "                    {'boosting_type': 'gbdt', 'class_weight': None, 'colsample_bytree': 1.0, 'importance_type': 'split', 'learning_rate': 0.1, 'max_depth': 5, 'min_child_samples': 20, 'min_child_weight': 0.001, 'min_split_gain': 0.0, 'n_estimators': 100, 'n_jobs': None, 'num_leaves': 31, 'objective': None, 'random_state': 123, 'reg_alpha': 0.0, 'reg_lambda': 0.0, 'subsample': 1.0, 'subsample_for_bin': 200000, 'subsample_freq': 0, 'verbose': -1}\n",
       "                </ul>\n",
       "            </details>\n",
       "            <details>\n",
       "                <summary>Fit Kwargs</summary>\n",
       "                <ul>\n",
       "                    {}\n",
       "                </ul>\n",
       "            </details>\n",
       "            <p>\n",
       "                <a href=\"https://skforecast.org/0.15.0/api/forecasterrecursivemultiseries.html\">&#128712 <strong>API Reference</strong></a>\n",
       "                &nbsp;&nbsp;\n",
       "                <a href=\"https://skforecast.org/0.15.0/user_guides/independent-multi-time-series-forecasting.html\">&#128462 <strong>User Guide</strong></a>\n",
       "            </p>\n",
       "        </div>\n",
       "        "
      ],
      "text/plain": [
       "============================== \n",
       "ForecasterRecursiveMultiSeries \n",
       "============================== \n",
       "Regressor: LGBMRegressor \n",
       "Lags: [ 1  2  3  4  5  6  7  8  9 10 11 12 13 14] \n",
       "Window features: ['roll_mean_7', 'roll_mean_14'] \n",
       "Window size: 14 \n",
       "Series encoding: ordinal \n",
       "Series names (levels): id_1000, id_1001, id_1002, id_1003, id_1004 \n",
       "Exogenous included: True \n",
       "Exogenous names: \n",
       "    sin_day_of_week, cos_day_of_week, air_temperature, wind_speed \n",
       "Transformer for series: None \n",
       "Transformer for exog: None \n",
       "Weight function included: False \n",
       "Series weights: None \n",
       "Differentiation order: None \n",
       "Training range: \n",
       "    'id_1000': ['2016-01-01', '2016-07-31'], 'id_1001': ['2016-07-02',\n",
       "    '2016-07-31'], 'id_1002': ['2016-01-01', '2016-07-01'], 'id_1003':\n",
       "    ['2016-01-01', '2016-07-31'], 'id_1004': ['2016-05-02', '2016-07-31'] \n",
       "Training index type: DatetimeIndex \n",
       "Training index frequency: D \n",
       "Regressor parameters: \n",
       "    {'boosting_type': 'gbdt', 'class_weight': None, 'colsample_bytree': 1.0,\n",
       "    'importance_type': 'split', 'learning_rate': 0.1, 'max_depth': 5,\n",
       "    'min_child_samples': 20, 'min_child_weight': 0.001, 'min_split_gain': 0.0,\n",
       "    'n_estimators': 100, 'n_jobs': None, 'num_leaves': 31, 'objective': None,\n",
       "    'random_state': 123, 'reg_alpha': 0.0, 'reg_lambda': 0.0, 'subsample': 1.0,\n",
       "    'subsample_for_bin': 200000, 'subsample_freq': 0, 'verbose': -1} \n",
       "fit_kwargs: {} \n",
       "Creation date: 2025-03-07 12:49:34 \n",
       "Last fit date: 2025-03-07 12:49:35 \n",
       "Skforecast version: 0.15.0 \n",
       "Python version: 3.12.9 \n",
       "Forecaster id: None "
      ]
     },
     "execution_count": 9,
     "metadata": {},
     "output_type": "execute_result"
    }
   ],
   "source": [
    "# Fit forecaster\n",
    "# ==============================================================================\n",
    "regressor = LGBMRegressor(random_state=123, verbose=-1, max_depth=5)\n",
    "window_features = RollingFeatures(stats=['mean', 'mean'], window_sizes=[7, 14])\n",
    "forecaster = ForecasterRecursiveMultiSeries(\n",
    "                 regressor          = regressor, \n",
    "                 lags               = 14, \n",
    "                 window_features    = window_features,\n",
    "                 encoding           = \"ordinal\", \n",
    "                 dropna_from_series = False\n",
    "             )\n",
    "\n",
    "forecaster.fit(series=series_dict_train, exog=exog_dict_train, suppress_warnings=True)\n",
    "forecaster"
   ]
  },
  {
   "cell_type": "markdown",
   "metadata": {},
   "source": [
    "Only series whose last window of data ends at the same datetime index can be predicted together. If `levels = None`, series that do not reach the maximum index are excluded from prediction. In this example, series `'id_1002'` is excluded because it does not reach the maximum index."
   ]
  },
  {
   "cell_type": "code",
   "execution_count": 10,
   "metadata": {},
   "outputs": [
    {
     "data": {
      "application/vnd.microsoft.datawrangler.viewer.v0+json": {
       "columns": [
        {
         "name": "index",
         "rawType": "datetime64[ns]",
         "type": "datetime"
        },
        {
         "name": "level",
         "rawType": "object",
         "type": "string"
        },
        {
         "name": "pred",
         "rawType": "float64",
         "type": "float"
        }
       ],
       "conversionMethod": "pd.DataFrame",
       "ref": "a4b4a725-391c-4f72-ad8d-4af1c7a1ddbf",
       "rows": [
        [
         "2016-08-01 00:00:00",
         "id_1000",
         "1453.3129706171505"
        ],
        [
         "2016-08-01 00:00:00",
         "id_1001",
         "2849.347881913857"
        ],
        [
         "2016-08-01 00:00:00",
         "id_1003",
         "2706.851725862972"
        ],
        [
         "2016-08-01 00:00:00",
         "id_1004",
         "7496.555367150738"
        ],
        [
         "2016-08-02 00:00:00",
         "id_1000",
         "1440.7631955182765"
        ],
        [
         "2016-08-02 00:00:00",
         "id_1001",
         "2947.5795364250685"
        ],
        [
         "2016-08-02 00:00:00",
         "id_1003",
         "2310.0759676425787"
        ],
        [
         "2016-08-02 00:00:00",
         "id_1004",
         "8685.425989984233"
        ],
        [
         "2016-08-03 00:00:00",
         "id_1000",
         "1410.1514374602461"
        ],
        [
         "2016-08-03 00:00:00",
         "id_1001",
         "2875.8476909502783"
        ],
        [
         "2016-08-03 00:00:00",
         "id_1003",
         "1997.329409786017"
        ],
        [
         "2016-08-03 00:00:00",
         "id_1004",
         "8961.631704950642"
        ],
        [
         "2016-08-04 00:00:00",
         "id_1000",
         "1348.7872992656885"
        ],
        [
         "2016-08-04 00:00:00",
         "id_1001",
         "3160.5336452223364"
        ],
        [
         "2016-08-04 00:00:00",
         "id_1003",
         "1923.8970117527028"
        ],
        [
         "2016-08-04 00:00:00",
         "id_1004",
         "8764.338331268471"
        ],
        [
         "2016-08-05 00:00:00",
         "id_1000",
         "1301.504386511817"
        ],
        [
         "2016-08-05 00:00:00",
         "id_1001",
         "2920.424936701862"
        ],
        [
         "2016-08-05 00:00:00",
         "id_1003",
         "1940.1499535699143"
        ],
        [
         "2016-08-05 00:00:00",
         "id_1004",
         "8694.13483326678"
        ]
       ],
       "shape": {
        "columns": 2,
        "rows": 20
       }
      },
      "text/html": [
       "<div>\n",
       "<style scoped>\n",
       "    .dataframe tbody tr th:only-of-type {\n",
       "        vertical-align: middle;\n",
       "    }\n",
       "\n",
       "    .dataframe tbody tr th {\n",
       "        vertical-align: top;\n",
       "    }\n",
       "\n",
       "    .dataframe thead th {\n",
       "        text-align: right;\n",
       "    }\n",
       "</style>\n",
       "<table border=\"1\" class=\"dataframe\">\n",
       "  <thead>\n",
       "    <tr style=\"text-align: right;\">\n",
       "      <th></th>\n",
       "      <th>level</th>\n",
       "      <th>pred</th>\n",
       "    </tr>\n",
       "  </thead>\n",
       "  <tbody>\n",
       "    <tr>\n",
       "      <th>2016-08-01</th>\n",
       "      <td>id_1000</td>\n",
       "      <td>1453.312971</td>\n",
       "    </tr>\n",
       "    <tr>\n",
       "      <th>2016-08-01</th>\n",
       "      <td>id_1001</td>\n",
       "      <td>2849.347882</td>\n",
       "    </tr>\n",
       "    <tr>\n",
       "      <th>2016-08-01</th>\n",
       "      <td>id_1003</td>\n",
       "      <td>2706.851726</td>\n",
       "    </tr>\n",
       "    <tr>\n",
       "      <th>2016-08-01</th>\n",
       "      <td>id_1004</td>\n",
       "      <td>7496.555367</td>\n",
       "    </tr>\n",
       "    <tr>\n",
       "      <th>2016-08-02</th>\n",
       "      <td>id_1000</td>\n",
       "      <td>1440.763196</td>\n",
       "    </tr>\n",
       "    <tr>\n",
       "      <th>2016-08-02</th>\n",
       "      <td>id_1001</td>\n",
       "      <td>2947.579536</td>\n",
       "    </tr>\n",
       "    <tr>\n",
       "      <th>2016-08-02</th>\n",
       "      <td>id_1003</td>\n",
       "      <td>2310.075968</td>\n",
       "    </tr>\n",
       "    <tr>\n",
       "      <th>2016-08-02</th>\n",
       "      <td>id_1004</td>\n",
       "      <td>8685.425990</td>\n",
       "    </tr>\n",
       "    <tr>\n",
       "      <th>2016-08-03</th>\n",
       "      <td>id_1000</td>\n",
       "      <td>1410.151437</td>\n",
       "    </tr>\n",
       "    <tr>\n",
       "      <th>2016-08-03</th>\n",
       "      <td>id_1001</td>\n",
       "      <td>2875.847691</td>\n",
       "    </tr>\n",
       "    <tr>\n",
       "      <th>2016-08-03</th>\n",
       "      <td>id_1003</td>\n",
       "      <td>1997.329410</td>\n",
       "    </tr>\n",
       "    <tr>\n",
       "      <th>2016-08-03</th>\n",
       "      <td>id_1004</td>\n",
       "      <td>8961.631705</td>\n",
       "    </tr>\n",
       "    <tr>\n",
       "      <th>2016-08-04</th>\n",
       "      <td>id_1000</td>\n",
       "      <td>1348.787299</td>\n",
       "    </tr>\n",
       "    <tr>\n",
       "      <th>2016-08-04</th>\n",
       "      <td>id_1001</td>\n",
       "      <td>3160.533645</td>\n",
       "    </tr>\n",
       "    <tr>\n",
       "      <th>2016-08-04</th>\n",
       "      <td>id_1003</td>\n",
       "      <td>1923.897012</td>\n",
       "    </tr>\n",
       "    <tr>\n",
       "      <th>2016-08-04</th>\n",
       "      <td>id_1004</td>\n",
       "      <td>8764.338331</td>\n",
       "    </tr>\n",
       "    <tr>\n",
       "      <th>2016-08-05</th>\n",
       "      <td>id_1000</td>\n",
       "      <td>1301.504387</td>\n",
       "    </tr>\n",
       "    <tr>\n",
       "      <th>2016-08-05</th>\n",
       "      <td>id_1001</td>\n",
       "      <td>2920.424937</td>\n",
       "    </tr>\n",
       "    <tr>\n",
       "      <th>2016-08-05</th>\n",
       "      <td>id_1003</td>\n",
       "      <td>1940.149954</td>\n",
       "    </tr>\n",
       "    <tr>\n",
       "      <th>2016-08-05</th>\n",
       "      <td>id_1004</td>\n",
       "      <td>8694.134833</td>\n",
       "    </tr>\n",
       "  </tbody>\n",
       "</table>\n",
       "</div>"
      ],
      "text/plain": [
       "              level         pred\n",
       "2016-08-01  id_1000  1453.312971\n",
       "2016-08-01  id_1001  2849.347882\n",
       "2016-08-01  id_1003  2706.851726\n",
       "2016-08-01  id_1004  7496.555367\n",
       "2016-08-02  id_1000  1440.763196\n",
       "2016-08-02  id_1001  2947.579536\n",
       "2016-08-02  id_1003  2310.075968\n",
       "2016-08-02  id_1004  8685.425990\n",
       "2016-08-03  id_1000  1410.151437\n",
       "2016-08-03  id_1001  2875.847691\n",
       "2016-08-03  id_1003  1997.329410\n",
       "2016-08-03  id_1004  8961.631705\n",
       "2016-08-04  id_1000  1348.787299\n",
       "2016-08-04  id_1001  3160.533645\n",
       "2016-08-04  id_1003  1923.897012\n",
       "2016-08-04  id_1004  8764.338331\n",
       "2016-08-05  id_1000  1301.504387\n",
       "2016-08-05  id_1001  2920.424937\n",
       "2016-08-05  id_1003  1940.149954\n",
       "2016-08-05  id_1004  8694.134833"
      ]
     },
     "execution_count": 10,
     "metadata": {},
     "output_type": "execute_result"
    }
   ],
   "source": [
    "# Predict\n",
    "# ==============================================================================\n",
    "predictions = forecaster.predict(steps=5, exog=exog_dict_test, suppress_warnings=True)\n",
    "predictions"
   ]
  },
  {
   "cell_type": "markdown",
   "metadata": {},
   "source": [
    "## Missing values in the series\n",
    "\n",
    "When working with time series of different lengths, it is common for some series to have missing values. As not all the regressors allow missing values, the argument `dropna_from_series` can be used to remove the missing values from the training matrices. \n",
    "\n",
    "- If `False`, leave NaNs in `X_train` and warn the user. (default)\n",
    "\n",
    "- If `True`, drop NaNs in `X_train` and same rows in `y_train` and warn the user.\n",
    "\n",
    "`y_train` NaNs (and same rows from `X_train`) are always dropped because the target variable cannot have NaN values."
   ]
  },
  {
   "cell_type": "code",
   "execution_count": 11,
   "metadata": {},
   "outputs": [
    {
     "data": {
      "image/png": "[encoded data removed]",
      "text/plain": [
       "<Figure size 800x250 with 2 Axes>"
      ]
     },
     "metadata": {},
     "output_type": "display_data"
    }
   ],
   "source": [
    "# Sample data with interspersed NaNs\n",
    "# ==============================================================================\n",
    "series_dict_nan = {\n",
    "    'id_1000': series_dict['id_1000'].copy(),\n",
    "    'id_1003': series_dict['id_1003'].copy()\n",
    "}\n",
    "\n",
    "# Create NaNs\n",
    "series_dict_nan['id_1000'].loc['2016-03-01':'2016-04-01',] = np.nan\n",
    "series_dict_nan['id_1000'].loc['2016-05-01':'2016-05-07',] = np.nan\n",
    "series_dict_nan['id_1003'].loc['2016-07-01',] = np.nan\n",
    "\n",
    "# Plot series\n",
    "# ==============================================================================\n",
    "fig, axs = plt.subplots(2, 1, figsize=(8, 2.5), sharex=True)\n",
    "\n",
    "for i, s in enumerate(series_dict_nan.values()):\n",
    "    axs[i].plot(s, label=s.name, color=colors[i])\n",
    "    axs[i].legend(loc='upper right', fontsize=8)\n",
    "    axs[i].tick_params(axis='both', labelsize=8)\n",
    "    axs[i].axvline(pd.to_datetime(end_train), color='white', linestyle='--', linewidth=1)  # End train\n",
    "\n",
    "fig.suptitle('Series in `series_dict_nan`', fontsize=15)\n",
    "plt.tight_layout()"
   ]
  },
  {
   "cell_type": "markdown",
   "metadata": {},
   "source": [
    "When `dropna_from_series = False`, the NaNs in `X_train` are kept and the user is warned. This is useful if the user wants to keep the NaNs in the series and use a regressor that can handle them."
   ]
  },
  {
   "cell_type": "code",
   "execution_count": 12,
   "metadata": {},
   "outputs": [
    {
     "data": {
      "text/html": [
       "<pre style=\"white-space:pre;overflow-x:auto;line-height:normal;font-family:Menlo,'DejaVu Sans Mono',consolas,'Courier New',monospace\"><span style=\"color: #ffaf00; text-decoration-color: #ffaf00\">╭──────────────────────────────── MissingValuesWarning ────────────────────────────────╮</span>\n",
       "<span style=\"color: #ffaf00; text-decoration-color: #ffaf00\">│</span> NaNs detected in `y_train`. They have been dropped because the target variable       <span style=\"color: #ffaf00; text-decoration-color: #ffaf00\">│</span>\n",
       "<span style=\"color: #ffaf00; text-decoration-color: #ffaf00\">│</span> cannot have NaN values. Same rows have been dropped from `X_train` to maintain       <span style=\"color: #ffaf00; text-decoration-color: #ffaf00\">│</span>\n",
       "<span style=\"color: #ffaf00; text-decoration-color: #ffaf00\">│</span> alignment. This is caused by series with interspersed NaNs.                          <span style=\"color: #ffaf00; text-decoration-color: #ffaf00\">│</span>\n",
       "<span style=\"color: #ffaf00; text-decoration-color: #ffaf00\">│</span>                                                                                      <span style=\"color: #ffaf00; text-decoration-color: #ffaf00\">│</span>\n",
       "<span style=\"color: #ffaf00; text-decoration-color: #ffaf00\">│</span> Category : MissingValuesWarning                                                      <span style=\"color: #ffaf00; text-decoration-color: #ffaf00\">│</span>\n",
       "<span style=\"color: #ffaf00; text-decoration-color: #ffaf00\">│</span> Location :                                                                           <span style=\"color: #ffaf00; text-decoration-color: #ffaf00\">│</span>\n",
       "<span style=\"color: #ffaf00; text-decoration-color: #ffaf00\">│</span> c:\\anaconda\\envs\\skforecast_15_p12\\Lib\\site-packages\\skforecast\\recursive\\_forecaste <span style=\"color: #ffaf00; text-decoration-color: #ffaf00\">│</span>\n",
       "<span style=\"color: #ffaf00; text-decoration-color: #ffaf00\">│</span> r_recursive_multiseries.py:1190                                                      <span style=\"color: #ffaf00; text-decoration-color: #ffaf00\">│</span>\n",
       "<span style=\"color: #ffaf00; text-decoration-color: #ffaf00\">│</span> Suppress : warnings.simplefilter('ignore', category=MissingValuesWarning)            <span style=\"color: #ffaf00; text-decoration-color: #ffaf00\">│</span>\n",
       "<span style=\"color: #ffaf00; text-decoration-color: #ffaf00\">╰──────────────────────────────────────────────────────────────────────────────────────╯</span>\n",
       "</pre>\n"
      ],
      "text/plain": [
       "\u001b[38;5;214m╭─\u001b[0m\u001b[38;5;214m───────────────────────────────\u001b[0m\u001b[38;5;214m MissingValuesWarning \u001b[0m\u001b[38;5;214m───────────────────────────────\u001b[0m\u001b[38;5;214m─╮\u001b[0m\n",
       "\u001b[38;5;214m│\u001b[0m NaNs detected in `y_train`. They have been dropped because the target variable       \u001b[38;5;214m│\u001b[0m\n",
       "\u001b[38;5;214m│\u001b[0m cannot have NaN values. Same rows have been dropped from `X_train` to maintain       \u001b[38;5;214m│\u001b[0m\n",
       "\u001b[38;5;214m│\u001b[0m alignment. This is caused by series with interspersed NaNs.                          \u001b[38;5;214m│\u001b[0m\n",
       "\u001b[38;5;214m│\u001b[0m                                                                                      \u001b[38;5;214m│\u001b[0m\n",
       "\u001b[38;5;214m│\u001b[0m Category : MissingValuesWarning                                                      \u001b[38;5;214m│\u001b[0m\n",
       "\u001b[38;5;214m│\u001b[0m Location :                                                                           \u001b[38;5;214m│\u001b[0m\n",
       "\u001b[38;5;214m│\u001b[0m c:\\anaconda\\envs\\skforecast_15_p12\\Lib\\site-packages\\skforecast\\recursive\\_forecaste \u001b[38;5;214m│\u001b[0m\n",
       "\u001b[38;5;214m│\u001b[0m r_recursive_multiseries.py:1190                                                      \u001b[38;5;214m│\u001b[0m\n",
       "\u001b[38;5;214m│\u001b[0m Suppress : warnings.simplefilter('ignore', category=MissingValuesWarning)            \u001b[38;5;214m│\u001b[0m\n",
       "\u001b[38;5;214m╰──────────────────────────────────────────────────────────────────────────────────────╯\u001b[0m\n"
      ]
     },
     "metadata": {},
     "output_type": "display_data"
    },
    {
     "data": {
      "text/html": [
       "<pre style=\"white-space:pre;overflow-x:auto;line-height:normal;font-family:Menlo,'DejaVu Sans Mono',consolas,'Courier New',monospace\"><span style=\"color: #ffaf00; text-decoration-color: #ffaf00\">╭──────────────────────────────── MissingValuesWarning ────────────────────────────────╮</span>\n",
       "<span style=\"color: #ffaf00; text-decoration-color: #ffaf00\">│</span> NaNs detected in `X_train`. Some regressors do not allow NaN values during training. <span style=\"color: #ffaf00; text-decoration-color: #ffaf00\">│</span>\n",
       "<span style=\"color: #ffaf00; text-decoration-color: #ffaf00\">│</span> If you want to drop them, set `forecaster.dropna_from_series = True`.                <span style=\"color: #ffaf00; text-decoration-color: #ffaf00\">│</span>\n",
       "<span style=\"color: #ffaf00; text-decoration-color: #ffaf00\">│</span>                                                                                      <span style=\"color: #ffaf00; text-decoration-color: #ffaf00\">│</span>\n",
       "<span style=\"color: #ffaf00; text-decoration-color: #ffaf00\">│</span> Category : MissingValuesWarning                                                      <span style=\"color: #ffaf00; text-decoration-color: #ffaf00\">│</span>\n",
       "<span style=\"color: #ffaf00; text-decoration-color: #ffaf00\">│</span> Location :                                                                           <span style=\"color: #ffaf00; text-decoration-color: #ffaf00\">│</span>\n",
       "<span style=\"color: #ffaf00; text-decoration-color: #ffaf00\">│</span> c:\\anaconda\\envs\\skforecast_15_p12\\Lib\\site-packages\\skforecast\\recursive\\_forecaste <span style=\"color: #ffaf00; text-decoration-color: #ffaf00\">│</span>\n",
       "<span style=\"color: #ffaf00; text-decoration-color: #ffaf00\">│</span> r_recursive_multiseries.py:1212                                                      <span style=\"color: #ffaf00; text-decoration-color: #ffaf00\">│</span>\n",
       "<span style=\"color: #ffaf00; text-decoration-color: #ffaf00\">│</span> Suppress : warnings.simplefilter('ignore', category=MissingValuesWarning)            <span style=\"color: #ffaf00; text-decoration-color: #ffaf00\">│</span>\n",
       "<span style=\"color: #ffaf00; text-decoration-color: #ffaf00\">╰──────────────────────────────────────────────────────────────────────────────────────╯</span>\n",
       "</pre>\n"
      ],
      "text/plain": [
       "\u001b[38;5;214m╭─\u001b[0m\u001b[38;5;214m───────────────────────────────\u001b[0m\u001b[38;5;214m MissingValuesWarning \u001b[0m\u001b[38;5;214m───────────────────────────────\u001b[0m\u001b[38;5;214m─╮\u001b[0m\n",
       "\u001b[38;5;214m│\u001b[0m NaNs detected in `X_train`. Some regressors do not allow NaN values during training. \u001b[38;5;214m│\u001b[0m\n",
       "\u001b[38;5;214m│\u001b[0m If you want to drop them, set `forecaster.dropna_from_series = True`.                \u001b[38;5;214m│\u001b[0m\n",
       "\u001b[38;5;214m│\u001b[0m                                                                                      \u001b[38;5;214m│\u001b[0m\n",
       "\u001b[38;5;214m│\u001b[0m Category : MissingValuesWarning                                                      \u001b[38;5;214m│\u001b[0m\n",
       "\u001b[38;5;214m│\u001b[0m Location :                                                                           \u001b[38;5;214m│\u001b[0m\n",
       "\u001b[38;5;214m│\u001b[0m c:\\anaconda\\envs\\skforecast_15_p12\\Lib\\site-packages\\skforecast\\recursive\\_forecaste \u001b[38;5;214m│\u001b[0m\n",
       "\u001b[38;5;214m│\u001b[0m r_recursive_multiseries.py:1212                                                      \u001b[38;5;214m│\u001b[0m\n",
       "\u001b[38;5;214m│\u001b[0m Suppress : warnings.simplefilter('ignore', category=MissingValuesWarning)            \u001b[38;5;214m│\u001b[0m\n",
       "\u001b[38;5;214m╰──────────────────────────────────────────────────────────────────────────────────────╯\u001b[0m\n"
      ]
     },
     "metadata": {},
     "output_type": "display_data"
    },
    {
     "data": {
      "application/vnd.microsoft.datawrangler.viewer.v0+json": {
       "columns": [
        {
         "name": "index",
         "rawType": "datetime64[ns]",
         "type": "datetime"
        },
        {
         "name": "lag_1",
         "rawType": "float64",
         "type": "float"
        },
        {
         "name": "lag_2",
         "rawType": "float64",
         "type": "float"
        },
        {
         "name": "lag_3",
         "rawType": "float64",
         "type": "float"
        },
        {
         "name": "_level_skforecast",
         "rawType": "int64",
         "type": "integer"
        }
       ],
       "conversionMethod": "pd.DataFrame",
       "ref": "0006ed29-0f70-49dc-9bcf-0a729a37292b",
       "rows": [
        [
         "2016-01-04 00:00:00",
         "983.0000991821288",
         "1158.500099182129",
         "1012.5006942749023",
         "0"
        ],
        [
         "2016-01-05 00:00:00",
         "1675.7504959106443",
         "983.0000991821288",
         "1158.500099182129",
         "0"
        ],
        [
         "2016-01-06 00:00:00",
         "1586.2506942749023",
         "1675.7504959106443",
         "983.0000991821288",
         "0"
        ]
       ],
       "shape": {
        "columns": 4,
        "rows": 3
       }
      },
      "text/html": [
       "<div>\n",
       "<style scoped>\n",
       "    .dataframe tbody tr th:only-of-type {\n",
       "        vertical-align: middle;\n",
       "    }\n",
       "\n",
       "    .dataframe tbody tr th {\n",
       "        vertical-align: top;\n",
       "    }\n",
       "\n",
       "    .dataframe thead th {\n",
       "        text-align: right;\n",
       "    }\n",
       "</style>\n",
       "<table border=\"1\" class=\"dataframe\">\n",
       "  <thead>\n",
       "    <tr style=\"text-align: right;\">\n",
       "      <th></th>\n",
       "      <th>lag_1</th>\n",
       "      <th>lag_2</th>\n",
       "      <th>lag_3</th>\n",
       "      <th>_level_skforecast</th>\n",
       "    </tr>\n",
       "  </thead>\n",
       "  <tbody>\n",
       "    <tr>\n",
       "      <th>2016-01-04</th>\n",
       "      <td>983.000099</td>\n",
       "      <td>1158.500099</td>\n",
       "      <td>1012.500694</td>\n",
       "      <td>0</td>\n",
       "    </tr>\n",
       "    <tr>\n",
       "      <th>2016-01-05</th>\n",
       "      <td>1675.750496</td>\n",
       "      <td>983.000099</td>\n",
       "      <td>1158.500099</td>\n",
       "      <td>0</td>\n",
       "    </tr>\n",
       "    <tr>\n",
       "      <th>2016-01-06</th>\n",
       "      <td>1586.250694</td>\n",
       "      <td>1675.750496</td>\n",
       "      <td>983.000099</td>\n",
       "      <td>0</td>\n",
       "    </tr>\n",
       "  </tbody>\n",
       "</table>\n",
       "</div>"
      ],
      "text/plain": [
       "                  lag_1        lag_2        lag_3  _level_skforecast\n",
       "2016-01-04   983.000099  1158.500099  1012.500694                  0\n",
       "2016-01-05  1675.750496   983.000099  1158.500099                  0\n",
       "2016-01-06  1586.250694  1675.750496   983.000099                  0"
      ]
     },
     "metadata": {},
     "output_type": "display_data"
    },
    {
     "name": "stdout",
     "output_type": "stream",
     "text": [
      "Observations per series:\n",
      "_level_skforecast\n",
      "0    324\n",
      "1    216\n",
      "Name: count, dtype: int64\n",
      "\n",
      "NaNs per series:\n",
      "lag_1                 5\n",
      "lag_2                 9\n",
      "lag_3                13\n",
      "_level_skforecast     0\n",
      "dtype: int64\n"
     ]
    }
   ],
   "source": [
    "# Create Matrices, dropna_from_series = False\n",
    "# ==============================================================================\n",
    "regressor = LGBMRegressor(random_state=123, verbose=-1, max_depth=5)\n",
    "forecaster = ForecasterRecursiveMultiSeries(\n",
    "                 regressor          = regressor, \n",
    "                 lags               = 3, \n",
    "                 encoding           = \"ordinal\", \n",
    "                 dropna_from_series = False\n",
    "             )\n",
    "\n",
    "X, y = forecaster.create_train_X_y(series=series_dict_nan)\n",
    "\n",
    "display(X.head(3))\n",
    "print(\"Observations per series:\")\n",
    "print(X['_level_skforecast'].value_counts())\n",
    "print(\"\")\n",
    "print(\"NaNs per series:\")\n",
    "print(X.isnull().sum())"
   ]
  },
  {
   "cell_type": "markdown",
   "metadata": {},
   "source": [
    "When `dropna_from_series = True`, the NaNs in `X_train` are removed and the user is warned. This is useful if the user chooses a regressor that cannot handle missing values."
   ]
  },
  {
   "cell_type": "code",
   "execution_count": 13,
   "metadata": {},
   "outputs": [
    {
     "data": {
      "text/html": [
       "<pre style=\"white-space:pre;overflow-x:auto;line-height:normal;font-family:Menlo,'DejaVu Sans Mono',consolas,'Courier New',monospace\"><span style=\"color: #ffaf00; text-decoration-color: #ffaf00\">╭──────────────────────────────── MissingValuesWarning ────────────────────────────────╮</span>\n",
       "<span style=\"color: #ffaf00; text-decoration-color: #ffaf00\">│</span> NaNs detected in `y_train`. They have been dropped because the target variable       <span style=\"color: #ffaf00; text-decoration-color: #ffaf00\">│</span>\n",
       "<span style=\"color: #ffaf00; text-decoration-color: #ffaf00\">│</span> cannot have NaN values. Same rows have been dropped from `X_train` to maintain       <span style=\"color: #ffaf00; text-decoration-color: #ffaf00\">│</span>\n",
       "<span style=\"color: #ffaf00; text-decoration-color: #ffaf00\">│</span> alignment. This is caused by series with interspersed NaNs.                          <span style=\"color: #ffaf00; text-decoration-color: #ffaf00\">│</span>\n",
       "<span style=\"color: #ffaf00; text-decoration-color: #ffaf00\">│</span>                                                                                      <span style=\"color: #ffaf00; text-decoration-color: #ffaf00\">│</span>\n",
       "<span style=\"color: #ffaf00; text-decoration-color: #ffaf00\">│</span> Category : MissingValuesWarning                                                      <span style=\"color: #ffaf00; text-decoration-color: #ffaf00\">│</span>\n",
       "<span style=\"color: #ffaf00; text-decoration-color: #ffaf00\">│</span> Location :                                                                           <span style=\"color: #ffaf00; text-decoration-color: #ffaf00\">│</span>\n",
       "<span style=\"color: #ffaf00; text-decoration-color: #ffaf00\">│</span> c:\\anaconda\\envs\\skforecast_15_p12\\Lib\\site-packages\\skforecast\\recursive\\_forecaste <span style=\"color: #ffaf00; text-decoration-color: #ffaf00\">│</span>\n",
       "<span style=\"color: #ffaf00; text-decoration-color: #ffaf00\">│</span> r_recursive_multiseries.py:1190                                                      <span style=\"color: #ffaf00; text-decoration-color: #ffaf00\">│</span>\n",
       "<span style=\"color: #ffaf00; text-decoration-color: #ffaf00\">│</span> Suppress : warnings.simplefilter('ignore', category=MissingValuesWarning)            <span style=\"color: #ffaf00; text-decoration-color: #ffaf00\">│</span>\n",
       "<span style=\"color: #ffaf00; text-decoration-color: #ffaf00\">╰──────────────────────────────────────────────────────────────────────────────────────╯</span>\n",
       "</pre>\n"
      ],
      "text/plain": [
       "\u001b[38;5;214m╭─\u001b[0m\u001b[38;5;214m───────────────────────────────\u001b[0m\u001b[38;5;214m MissingValuesWarning \u001b[0m\u001b[38;5;214m───────────────────────────────\u001b[0m\u001b[38;5;214m─╮\u001b[0m\n",
       "\u001b[38;5;214m│\u001b[0m NaNs detected in `y_train`. They have been dropped because the target variable       \u001b[38;5;214m│\u001b[0m\n",
       "\u001b[38;5;214m│\u001b[0m cannot have NaN values. Same rows have been dropped from `X_train` to maintain       \u001b[38;5;214m│\u001b[0m\n",
       "\u001b[38;5;214m│\u001b[0m alignment. This is caused by series with interspersed NaNs.                          \u001b[38;5;214m│\u001b[0m\n",
       "\u001b[38;5;214m│\u001b[0m                                                                                      \u001b[38;5;214m│\u001b[0m\n",
       "\u001b[38;5;214m│\u001b[0m Category : MissingValuesWarning                                                      \u001b[38;5;214m│\u001b[0m\n",
       "\u001b[38;5;214m│\u001b[0m Location :                                                                           \u001b[38;5;214m│\u001b[0m\n",
       "\u001b[38;5;214m│\u001b[0m c:\\anaconda\\envs\\skforecast_15_p12\\Lib\\site-packages\\skforecast\\recursive\\_forecaste \u001b[38;5;214m│\u001b[0m\n",
       "\u001b[38;5;214m│\u001b[0m r_recursive_multiseries.py:1190                                                      \u001b[38;5;214m│\u001b[0m\n",
       "\u001b[38;5;214m│\u001b[0m Suppress : warnings.simplefilter('ignore', category=MissingValuesWarning)            \u001b[38;5;214m│\u001b[0m\n",
       "\u001b[38;5;214m╰──────────────────────────────────────────────────────────────────────────────────────╯\u001b[0m\n"
      ]
     },
     "metadata": {},
     "output_type": "display_data"
    },
    {
     "data": {
      "text/html": [
       "<pre style=\"white-space:pre;overflow-x:auto;line-height:normal;font-family:Menlo,'DejaVu Sans Mono',consolas,'Courier New',monospace\"><span style=\"color: #ffaf00; text-decoration-color: #ffaf00\">╭──────────────────────────────── MissingValuesWarning ────────────────────────────────╮</span>\n",
       "<span style=\"color: #ffaf00; text-decoration-color: #ffaf00\">│</span> NaNs detected in `X_train`. They have been dropped. If you want to keep them, set    <span style=\"color: #ffaf00; text-decoration-color: #ffaf00\">│</span>\n",
       "<span style=\"color: #ffaf00; text-decoration-color: #ffaf00\">│</span> `forecaster.dropna_from_series = False`. Same rows have been removed from `y_train`  <span style=\"color: #ffaf00; text-decoration-color: #ffaf00\">│</span>\n",
       "<span style=\"color: #ffaf00; text-decoration-color: #ffaf00\">│</span> to maintain alignment. This caused by series with interspersed NaNs.                 <span style=\"color: #ffaf00; text-decoration-color: #ffaf00\">│</span>\n",
       "<span style=\"color: #ffaf00; text-decoration-color: #ffaf00\">│</span>                                                                                      <span style=\"color: #ffaf00; text-decoration-color: #ffaf00\">│</span>\n",
       "<span style=\"color: #ffaf00; text-decoration-color: #ffaf00\">│</span> Category : MissingValuesWarning                                                      <span style=\"color: #ffaf00; text-decoration-color: #ffaf00\">│</span>\n",
       "<span style=\"color: #ffaf00; text-decoration-color: #ffaf00\">│</span> Location :                                                                           <span style=\"color: #ffaf00; text-decoration-color: #ffaf00\">│</span>\n",
       "<span style=\"color: #ffaf00; text-decoration-color: #ffaf00\">│</span> c:\\anaconda\\envs\\skforecast_15_p12\\Lib\\site-packages\\skforecast\\recursive\\_forecaste <span style=\"color: #ffaf00; text-decoration-color: #ffaf00\">│</span>\n",
       "<span style=\"color: #ffaf00; text-decoration-color: #ffaf00\">│</span> r_recursive_multiseries.py:1203                                                      <span style=\"color: #ffaf00; text-decoration-color: #ffaf00\">│</span>\n",
       "<span style=\"color: #ffaf00; text-decoration-color: #ffaf00\">│</span> Suppress : warnings.simplefilter('ignore', category=MissingValuesWarning)            <span style=\"color: #ffaf00; text-decoration-color: #ffaf00\">│</span>\n",
       "<span style=\"color: #ffaf00; text-decoration-color: #ffaf00\">╰──────────────────────────────────────────────────────────────────────────────────────╯</span>\n",
       "</pre>\n"
      ],
      "text/plain": [
       "\u001b[38;5;214m╭─\u001b[0m\u001b[38;5;214m───────────────────────────────\u001b[0m\u001b[38;5;214m MissingValuesWarning \u001b[0m\u001b[38;5;214m───────────────────────────────\u001b[0m\u001b[38;5;214m─╮\u001b[0m\n",
       "\u001b[38;5;214m│\u001b[0m NaNs detected in `X_train`. They have been dropped. If you want to keep them, set    \u001b[38;5;214m│\u001b[0m\n",
       "\u001b[38;5;214m│\u001b[0m `forecaster.dropna_from_series = False`. Same rows have been removed from `y_train`  \u001b[38;5;214m│\u001b[0m\n",
       "\u001b[38;5;214m│\u001b[0m to maintain alignment. This caused by series with interspersed NaNs.                 \u001b[38;5;214m│\u001b[0m\n",
       "\u001b[38;5;214m│\u001b[0m                                                                                      \u001b[38;5;214m│\u001b[0m\n",
       "\u001b[38;5;214m│\u001b[0m Category : MissingValuesWarning                                                      \u001b[38;5;214m│\u001b[0m\n",
       "\u001b[38;5;214m│\u001b[0m Location :                                                                           \u001b[38;5;214m│\u001b[0m\n",
       "\u001b[38;5;214m│\u001b[0m c:\\anaconda\\envs\\skforecast_15_p12\\Lib\\site-packages\\skforecast\\recursive\\_forecaste \u001b[38;5;214m│\u001b[0m\n",
       "\u001b[38;5;214m│\u001b[0m r_recursive_multiseries.py:1203                                                      \u001b[38;5;214m│\u001b[0m\n",
       "\u001b[38;5;214m│\u001b[0m Suppress : warnings.simplefilter('ignore', category=MissingValuesWarning)            \u001b[38;5;214m│\u001b[0m\n",
       "\u001b[38;5;214m╰──────────────────────────────────────────────────────────────────────────────────────╯\u001b[0m\n"
      ]
     },
     "metadata": {},
     "output_type": "display_data"
    },
    {
     "data": {
      "application/vnd.microsoft.datawrangler.viewer.v0+json": {
       "columns": [
        {
         "name": "index",
         "rawType": "datetime64[ns]",
         "type": "datetime"
        },
        {
         "name": "lag_1",
         "rawType": "float64",
         "type": "float"
        },
        {
         "name": "lag_2",
         "rawType": "float64",
         "type": "float"
        },
        {
         "name": "lag_3",
         "rawType": "float64",
         "type": "float"
        },
        {
         "name": "_level_skforecast",
         "rawType": "int64",
         "type": "integer"
        }
       ],
       "conversionMethod": "pd.DataFrame",
       "ref": "a6a64388-25bb-4f13-b046-fd26b550362c",
       "rows": [
        [
         "2016-01-04 00:00:00",
         "983.0000991821288",
         "1158.500099182129",
         "1012.5006942749023",
         "0"
        ],
        [
         "2016-01-05 00:00:00",
         "1675.7504959106443",
         "983.0000991821288",
         "1158.500099182129",
         "0"
        ],
        [
         "2016-01-06 00:00:00",
         "1586.2506942749023",
         "1675.7504959106443",
         "983.0000991821288",
         "0"
        ]
       ],
       "shape": {
        "columns": 4,
        "rows": 3
       }
      },
      "text/html": [
       "<div>\n",
       "<style scoped>\n",
       "    .dataframe tbody tr th:only-of-type {\n",
       "        vertical-align: middle;\n",
       "    }\n",
       "\n",
       "    .dataframe tbody tr th {\n",
       "        vertical-align: top;\n",
       "    }\n",
       "\n",
       "    .dataframe thead th {\n",
       "        text-align: right;\n",
       "    }\n",
       "</style>\n",
       "<table border=\"1\" class=\"dataframe\">\n",
       "  <thead>\n",
       "    <tr style=\"text-align: right;\">\n",
       "      <th></th>\n",
       "      <th>lag_1</th>\n",
       "      <th>lag_2</th>\n",
       "      <th>lag_3</th>\n",
       "      <th>_level_skforecast</th>\n",
       "    </tr>\n",
       "  </thead>\n",
       "  <tbody>\n",
       "    <tr>\n",
       "      <th>2016-01-04</th>\n",
       "      <td>983.000099</td>\n",
       "      <td>1158.500099</td>\n",
       "      <td>1012.500694</td>\n",
       "      <td>0</td>\n",
       "    </tr>\n",
       "    <tr>\n",
       "      <th>2016-01-05</th>\n",
       "      <td>1675.750496</td>\n",
       "      <td>983.000099</td>\n",
       "      <td>1158.500099</td>\n",
       "      <td>0</td>\n",
       "    </tr>\n",
       "    <tr>\n",
       "      <th>2016-01-06</th>\n",
       "      <td>1586.250694</td>\n",
       "      <td>1675.750496</td>\n",
       "      <td>983.000099</td>\n",
       "      <td>0</td>\n",
       "    </tr>\n",
       "  </tbody>\n",
       "</table>\n",
       "</div>"
      ],
      "text/plain": [
       "                  lag_1        lag_2        lag_3  _level_skforecast\n",
       "2016-01-04   983.000099  1158.500099  1012.500694                  0\n",
       "2016-01-05  1675.750496   983.000099  1158.500099                  0\n",
       "2016-01-06  1586.250694  1675.750496   983.000099                  0"
      ]
     },
     "metadata": {},
     "output_type": "display_data"
    },
    {
     "name": "stdout",
     "output_type": "stream",
     "text": [
      "Observations per series:\n",
      "_level_skforecast\n",
      "0    318\n",
      "1    207\n",
      "Name: count, dtype: int64\n",
      "\n",
      "NaNs per series:\n",
      "lag_1                0\n",
      "lag_2                0\n",
      "lag_3                0\n",
      "_level_skforecast    0\n",
      "dtype: int64\n"
     ]
    }
   ],
   "source": [
    "# Create Matrices, dropna_from_series = False\n",
    "# ==============================================================================\n",
    "regressor = LGBMRegressor(random_state=123, verbose=-1, max_depth=5)\n",
    "forecaster = ForecasterRecursiveMultiSeries(\n",
    "                 regressor          = regressor, \n",
    "                 lags               = 3, \n",
    "                 encoding           = \"ordinal\", \n",
    "                 dropna_from_series = True\n",
    "             )\n",
    "\n",
    "X, y = forecaster.create_train_X_y(series=series_dict_nan)\n",
    "\n",
    "display(X.head(3))\n",
    "print(\"Observations per series:\")\n",
    "print(X['_level_skforecast'].value_counts())\n",
    "print(\"\")\n",
    "print(\"NaNs per series:\")\n",
    "print(X.isnull().sum())"
   ]
  },
  {
   "cell_type": "markdown",
   "metadata": {},
   "source": [
    "During the training process, the warnings can be suppressed by setting `suppress_warnings = True`."
   ]
  },
  {
   "cell_type": "code",
   "execution_count": 14,
   "metadata": {},
   "outputs": [
    {
     "data": {
      "text/html": [
       "\n",
       "    <style>\n",
       "        .container-735e3d5c34e345ce9d604ead83b06fd7 {\n",
       "            font-family: 'Arial', sans-serif;\n",
       "            font-size: 0.9em;\n",
       "            color: #333333;\n",
       "            border: 1px solid #ddd;\n",
       "            background-color: #f0f8ff;\n",
       "            padding: 5px 15px;\n",
       "            border-radius: 8px;\n",
       "            max-width: 600px;\n",
       "            #margin: auto;\n",
       "        }\n",
       "        .container-735e3d5c34e345ce9d604ead83b06fd7 h2 {\n",
       "            font-size: 1.5em;\n",
       "            color: #222222;\n",
       "            border-bottom: 2px solid #ddd;\n",
       "            padding-bottom: 5px;\n",
       "            margin-bottom: 15px;\n",
       "            margin-top: 5px;\n",
       "        }\n",
       "        .container-735e3d5c34e345ce9d604ead83b06fd7 details {\n",
       "            margin: 10px 0;\n",
       "        }\n",
       "        .container-735e3d5c34e345ce9d604ead83b06fd7 summary {\n",
       "            font-weight: bold;\n",
       "            font-size: 1.1em;\n",
       "            color: #000000;\n",
       "            cursor: pointer;\n",
       "            margin-bottom: 5px;\n",
       "            background-color: #b3dbfd;\n",
       "            padding: 5px;\n",
       "            border-radius: 5px;\n",
       "        }\n",
       "        .container-735e3d5c34e345ce9d604ead83b06fd7 summary:hover {\n",
       "            color: #000000;\n",
       "            background-color: #e0e0e0;\n",
       "        }\n",
       "        .container-735e3d5c34e345ce9d604ead83b06fd7 ul {\n",
       "            font-family: 'Courier New', monospace;\n",
       "            list-style-type: none;\n",
       "            padding-left: 20px;\n",
       "            margin: 10px 0;\n",
       "            line-height: normal;\n",
       "        }\n",
       "        .container-735e3d5c34e345ce9d604ead83b06fd7 li {\n",
       "            margin: 5px 0;\n",
       "            font-family: 'Courier New', monospace;\n",
       "        }\n",
       "        .container-735e3d5c34e345ce9d604ead83b06fd7 li strong {\n",
       "            font-weight: bold;\n",
       "            color: #444444;\n",
       "        }\n",
       "        .container-735e3d5c34e345ce9d604ead83b06fd7 li::before {\n",
       "            content: \"- \";\n",
       "            color: #666666;\n",
       "        }\n",
       "        .container-735e3d5c34e345ce9d604ead83b06fd7 a {\n",
       "            color: #001633;\n",
       "            text-decoration: none;\n",
       "        }\n",
       "        .container-735e3d5c34e345ce9d604ead83b06fd7 a:hover {\n",
       "            color: #359ccb; \n",
       "        }\n",
       "    </style>\n",
       "    \n",
       "        <div class=\"container-735e3d5c34e345ce9d604ead83b06fd7\">\n",
       "            <h2>ForecasterRecursiveMultiSeries</h2>\n",
       "            <details open>\n",
       "                <summary>General Information</summary>\n",
       "                <ul>\n",
       "                    <li><strong>Regressor:</strong> LGBMRegressor</li>\n",
       "                    <li><strong>Lags:</strong> [1 2 3]</li>\n",
       "                    <li><strong>Window features:</strong> None</li>\n",
       "                    <li><strong>Window size:</strong> 3</li>\n",
       "                    <li><strong>Series encoding:</strong> ordinal</li>\n",
       "                    <li><strong>Exogenous included:</strong> False</li>\n",
       "                    <li><strong>Weight function included:</strong> False</li>\n",
       "                    <li><strong>Series weights:</strong> None</li>\n",
       "                    <li><strong>Differentiation order:</strong> None</li>\n",
       "                    <li><strong>Creation date:</strong> 2025-03-07 12:49:41</li>\n",
       "                    <li><strong>Last fit date:</strong> 2025-03-07 12:49:42</li>\n",
       "                    <li><strong>Skforecast version:</strong> 0.15.0</li>\n",
       "                    <li><strong>Python version:</strong> 3.12.9</li>\n",
       "                    <li><strong>Forecaster id:</strong> None</li>\n",
       "                </ul>\n",
       "            </details>\n",
       "            <details>\n",
       "                <summary>Exogenous Variables</summary>\n",
       "                <ul>\n",
       "                    None\n",
       "                </ul>\n",
       "            </details>\n",
       "            <details>\n",
       "                <summary>Data Transformations</summary>\n",
       "                <ul>\n",
       "                    <li><strong>Transformer for series:</strong> None</li>\n",
       "                    <li><strong>Transformer for exog:</strong> None</li>\n",
       "                </ul>\n",
       "            </details>\n",
       "            <details>\n",
       "                <summary>Training Information</summary>\n",
       "                <ul>\n",
       "                    <li><strong>Series names (levels):</strong> id_1000, id_1003</li>\n",
       "                    <li><strong>Training range:</strong> 'id_1000': ['2016-01-01', '2016-12-31'], 'id_1003': ['2016-01-01', '2016-12-31']</li>\n",
       "                    <li><strong>Training index type:</strong> DatetimeIndex</li>\n",
       "                    <li><strong>Training index frequency:</strong> D</li>\n",
       "                </ul>\n",
       "            </details>\n",
       "            <details>\n",
       "                <summary>Regressor Parameters</summary>\n",
       "                <ul>\n",
       "                    {'boosting_type': 'gbdt', 'class_weight': None, 'colsample_bytree': 1.0, 'importance_type': 'split', 'learning_rate': 0.1, 'max_depth': 5, 'min_child_samples': 20, 'min_child_weight': 0.001, 'min_split_gain': 0.0, 'n_estimators': 100, 'n_jobs': None, 'num_leaves': 31, 'objective': None, 'random_state': 123, 'reg_alpha': 0.0, 'reg_lambda': 0.0, 'subsample': 1.0, 'subsample_for_bin': 200000, 'subsample_freq': 0, 'verbose': -1}\n",
       "                </ul>\n",
       "            </details>\n",
       "            <details>\n",
       "                <summary>Fit Kwargs</summary>\n",
       "                <ul>\n",
       "                    {}\n",
       "                </ul>\n",
       "            </details>\n",
       "            <p>\n",
       "                <a href=\"https://skforecast.org/0.15.0/api/forecasterrecursivemultiseries.html\">&#128712 <strong>API Reference</strong></a>\n",
       "                &nbsp;&nbsp;\n",
       "                <a href=\"https://skforecast.org/0.15.0/user_guides/independent-multi-time-series-forecasting.html\">&#128462 <strong>User Guide</strong></a>\n",
       "            </p>\n",
       "        </div>\n",
       "        "
      ],
      "text/plain": [
       "============================== \n",
       "ForecasterRecursiveMultiSeries \n",
       "============================== \n",
       "Regressor: LGBMRegressor \n",
       "Lags: [1 2 3] \n",
       "Window features: None \n",
       "Window size: 3 \n",
       "Series encoding: ordinal \n",
       "Series names (levels): id_1000, id_1003 \n",
       "Exogenous included: False \n",
       "Exogenous names: None \n",
       "Transformer for series: None \n",
       "Transformer for exog: None \n",
       "Weight function included: False \n",
       "Series weights: None \n",
       "Differentiation order: None \n",
       "Training range: \n",
       "    'id_1000': ['2016-01-01', '2016-12-31'], 'id_1003': ['2016-01-01', '2016-12-31'] \n",
       "Training index type: DatetimeIndex \n",
       "Training index frequency: D \n",
       "Regressor parameters: \n",
       "    {'boosting_type': 'gbdt', 'class_weight': None, 'colsample_bytree': 1.0,\n",
       "    'importance_type': 'split', 'learning_rate': 0.1, 'max_depth': 5,\n",
       "    'min_child_samples': 20, 'min_child_weight': 0.001, 'min_split_gain': 0.0,\n",
       "    'n_estimators': 100, 'n_jobs': None, 'num_leaves': 31, 'objective': None,\n",
       "    'random_state': 123, 'reg_alpha': 0.0, 'reg_lambda': 0.0, 'subsample': 1.0,\n",
       "    'subsample_for_bin': 200000, 'subsample_freq': 0, 'verbose': -1} \n",
       "fit_kwargs: {} \n",
       "Creation date: 2025-03-07 12:49:41 \n",
       "Last fit date: 2025-03-07 12:49:42 \n",
       "Skforecast version: 0.15.0 \n",
       "Python version: 3.12.9 \n",
       "Forecaster id: None "
      ]
     },
     "execution_count": 14,
     "metadata": {},
     "output_type": "execute_result"
    }
   ],
   "source": [
    "# Suppress warnings during fit method\n",
    "# ==============================================================================\n",
    "forecaster.fit(series=series_dict_nan, suppress_warnings=True)\n",
    "forecaster"
   ]
  },
  {
   "cell_type": "markdown",
   "metadata": {},
   "source": [
    "## Backtesting\n",
    "\n",
    "Similar to the `predict` method, you need to specify the `levels` for [backtesting](../user_guides/backtesting.html). When backtesting time series of varying lengths, two key behaviors should be noted:\n",
    "\n",
    "+ Handling missing values in the Series: The backtesting process only provides predictions for the date-times available in the series. If there are gaps in the validation or test set, predictions for those missing periods will not be generated. This ensures that metrics are not skewed by missing values, as no true values are available for those date-times.\n",
    "\n",
    "+ Size of the training set: The `initial_train_size` is applied starting from the first date-time observed among all series. For series that begin later than others, the training will include less data. "
   ]
  },
  {
   "cell_type": "code",
   "execution_count": 15,
   "metadata": {},
   "outputs": [
    {
     "data": {
      "application/vnd.jupyter.widget-view+json": {
       "model_id": "490c3a2ef33445528eb281e1b73729c9",
       "version_major": 2,
       "version_minor": 0
      },
      "text/plain": [
       "  0%|          | 0/7 [00:00<?, ?it/s]"
      ]
     },
     "metadata": {},
     "output_type": "display_data"
    },
    {
     "data": {
      "application/vnd.microsoft.datawrangler.viewer.v0+json": {
       "columns": [
        {
         "name": "index",
         "rawType": "int64",
         "type": "integer"
        },
        {
         "name": "levels",
         "rawType": "object",
         "type": "string"
        },
        {
         "name": "mean_absolute_error",
         "rawType": "float64",
         "type": "float"
        }
       ],
       "conversionMethod": "pd.DataFrame",
       "ref": "1455a291-69c2-4550-a030-3f04803656cf",
       "rows": [
        [
         "0",
         "id_1000",
         "167.50221417688525"
        ],
        [
         "1",
         "id_1001",
         "1103.3138873496005"
        ],
        [
         "2",
         "id_1002",
         null
        ],
        [
         "3",
         "id_1003",
         "280.49260277595124"
        ],
        [
         "4",
         "id_1004",
         "711.0783590712833"
        ],
        [
         "5",
         "average",
         "565.5967658434301"
        ],
        [
         "6",
         "weighted_average",
         "572.9441268269501"
        ],
        [
         "7",
         "pooling",
         "572.9441268269501"
        ]
       ],
       "shape": {
        "columns": 2,
        "rows": 8
       }
      },
      "text/html": [
       "<div>\n",
       "<style scoped>\n",
       "    .dataframe tbody tr th:only-of-type {\n",
       "        vertical-align: middle;\n",
       "    }\n",
       "\n",
       "    .dataframe tbody tr th {\n",
       "        vertical-align: top;\n",
       "    }\n",
       "\n",
       "    .dataframe thead th {\n",
       "        text-align: right;\n",
       "    }\n",
       "</style>\n",
       "<table border=\"1\" class=\"dataframe\">\n",
       "  <thead>\n",
       "    <tr style=\"text-align: right;\">\n",
       "      <th></th>\n",
       "      <th>levels</th>\n",
       "      <th>mean_absolute_error</th>\n",
       "    </tr>\n",
       "  </thead>\n",
       "  <tbody>\n",
       "    <tr>\n",
       "      <th>0</th>\n",
       "      <td>id_1000</td>\n",
       "      <td>167.502214</td>\n",
       "    </tr>\n",
       "    <tr>\n",
       "      <th>1</th>\n",
       "      <td>id_1001</td>\n",
       "      <td>1103.313887</td>\n",
       "    </tr>\n",
       "    <tr>\n",
       "      <th>2</th>\n",
       "      <td>id_1002</td>\n",
       "      <td>NaN</td>\n",
       "    </tr>\n",
       "    <tr>\n",
       "      <th>3</th>\n",
       "      <td>id_1003</td>\n",
       "      <td>280.492603</td>\n",
       "    </tr>\n",
       "    <tr>\n",
       "      <th>4</th>\n",
       "      <td>id_1004</td>\n",
       "      <td>711.078359</td>\n",
       "    </tr>\n",
       "    <tr>\n",
       "      <th>5</th>\n",
       "      <td>average</td>\n",
       "      <td>565.596766</td>\n",
       "    </tr>\n",
       "    <tr>\n",
       "      <th>6</th>\n",
       "      <td>weighted_average</td>\n",
       "      <td>572.944127</td>\n",
       "    </tr>\n",
       "    <tr>\n",
       "      <th>7</th>\n",
       "      <td>pooling</td>\n",
       "      <td>572.944127</td>\n",
       "    </tr>\n",
       "  </tbody>\n",
       "</table>\n",
       "</div>"
      ],
      "text/plain": [
       "             levels  mean_absolute_error\n",
       "0           id_1000           167.502214\n",
       "1           id_1001          1103.313887\n",
       "2           id_1002                  NaN\n",
       "3           id_1003           280.492603\n",
       "4           id_1004           711.078359\n",
       "5           average           565.596766\n",
       "6  weighted_average           572.944127\n",
       "7           pooling           572.944127"
      ]
     },
     "metadata": {},
     "output_type": "display_data"
    },
    {
     "data": {
      "application/vnd.microsoft.datawrangler.viewer.v0+json": {
       "columns": [
        {
         "name": "index",
         "rawType": "datetime64[ns]",
         "type": "datetime"
        },
        {
         "name": "level",
         "rawType": "object",
         "type": "string"
        },
        {
         "name": "pred",
         "rawType": "float64",
         "type": "float"
        }
       ],
       "conversionMethod": "pd.DataFrame",
       "ref": "6d577b35-3988-4b02-be0d-72e1eeebc977",
       "rows": [
        [
         "2016-08-01 00:00:00",
         "id_1000",
         "1453.3129706171505"
        ],
        [
         "2016-08-01 00:00:00",
         "id_1001",
         "2849.347881913857"
        ],
        [
         "2016-08-01 00:00:00",
         "id_1003",
         "2706.851725862972"
        ],
        [
         "2016-08-01 00:00:00",
         "id_1004",
         "7496.555367150738"
        ],
        [
         "2016-08-02 00:00:00",
         "id_1000",
         "1440.7631955182765"
        ],
        [
         "2016-08-02 00:00:00",
         "id_1001",
         "2947.5795364250685"
        ],
        [
         "2016-08-02 00:00:00",
         "id_1003",
         "2310.0759676425787"
        ],
        [
         "2016-08-02 00:00:00",
         "id_1004",
         "8685.425989984233"
        ],
        [
         "2016-08-03 00:00:00",
         "id_1000",
         "1410.1514374602461"
        ],
        [
         "2016-08-03 00:00:00",
         "id_1001",
         "2875.8476909502783"
        ],
        [
         "2016-08-03 00:00:00",
         "id_1003",
         "1997.329409786017"
        ],
        [
         "2016-08-03 00:00:00",
         "id_1004",
         "8961.631704950642"
        ],
        [
         "2016-08-04 00:00:00",
         "id_1000",
         "1348.7872992656885"
        ],
        [
         "2016-08-04 00:00:00",
         "id_1001",
         "3160.5336452223364"
        ],
        [
         "2016-08-04 00:00:00",
         "id_1003",
         "1923.8970117527028"
        ],
        [
         "2016-08-04 00:00:00",
         "id_1004",
         "8764.338331268471"
        ],
        [
         "2016-08-05 00:00:00",
         "id_1000",
         "1301.504386511817"
        ],
        [
         "2016-08-05 00:00:00",
         "id_1001",
         "2920.424936701862"
        ],
        [
         "2016-08-05 00:00:00",
         "id_1003",
         "1940.1499535699143"
        ],
        [
         "2016-08-05 00:00:00",
         "id_1004",
         "8694.13483326678"
        ],
        [
         "2016-08-06 00:00:00",
         "id_1000",
         "1020.6171112209363"
        ],
        [
         "2016-08-06 00:00:00",
         "id_1001",
         "2956.660403614702"
        ],
        [
         "2016-08-06 00:00:00",
         "id_1003",
         "2160.7079722679537"
        ],
        [
         "2016-08-06 00:00:00",
         "id_1004",
         "6647.057255681391"
        ],
        [
         "2016-08-07 00:00:00",
         "id_1000",
         "943.7151152594176"
        ],
        [
         "2016-08-07 00:00:00",
         "id_1001",
         "2624.9253721189234"
        ],
        [
         "2016-08-07 00:00:00",
         "id_1003",
         null
        ],
        [
         "2016-08-07 00:00:00",
         "id_1004",
         "5429.580315627835"
        ],
        [
         "2016-08-08 00:00:00",
         "id_1000",
         "1367.515935658954"
        ],
        [
         "2016-08-08 00:00:00",
         "id_1001",
         "3043.4745850459844"
        ],
        [
         "2016-08-08 00:00:00",
         "id_1003",
         null
        ],
        [
         "2016-08-08 00:00:00",
         "id_1004",
         "6726.743432539296"
        ],
        [
         "2016-08-09 00:00:00",
         "id_1000",
         "1393.9421055339224"
        ],
        [
         "2016-08-09 00:00:00",
         "id_1001",
         "3267.5617501696456"
        ],
        [
         "2016-08-09 00:00:00",
         "id_1003",
         null
        ],
        [
         "2016-08-09 00:00:00",
         "id_1004",
         "7515.285359927082"
        ],
        [
         "2016-08-10 00:00:00",
         "id_1000",
         "1397.1946457946165"
        ],
        [
         "2016-08-10 00:00:00",
         "id_1001",
         "3276.043675349794"
        ],
        [
         "2016-08-10 00:00:00",
         "id_1003",
         null
        ],
        [
         "2016-08-10 00:00:00",
         "id_1004",
         "8444.271996725694"
        ],
        [
         "2016-08-11 00:00:00",
         "id_1000",
         "1352.304831530302"
        ],
        [
         "2016-08-11 00:00:00",
         "id_1001",
         "3822.1303794286628"
        ],
        [
         "2016-08-11 00:00:00",
         "id_1003",
         null
        ],
        [
         "2016-08-11 00:00:00",
         "id_1004",
         "9049.563006141632"
        ],
        [
         "2016-08-12 00:00:00",
         "id_1000",
         "1273.7347940129591"
        ],
        [
         "2016-08-12 00:00:00",
         "id_1001",
         "3918.8012166751623"
        ],
        [
         "2016-08-12 00:00:00",
         "id_1003",
         null
        ],
        [
         "2016-08-12 00:00:00",
         "id_1004",
         "8807.643593094299"
        ],
        [
         "2016-08-13 00:00:00",
         "id_1000",
         "1044.4020792929211"
        ],
        [
         "2016-08-13 00:00:00",
         "id_1001",
         "3717.3910782887356"
        ]
       ],
       "shape": {
        "columns": 2,
        "rows": 507
       }
      },
      "text/html": [
       "<div>\n",
       "<style scoped>\n",
       "    .dataframe tbody tr th:only-of-type {\n",
       "        vertical-align: middle;\n",
       "    }\n",
       "\n",
       "    .dataframe tbody tr th {\n",
       "        vertical-align: top;\n",
       "    }\n",
       "\n",
       "    .dataframe thead th {\n",
       "        text-align: right;\n",
       "    }\n",
       "</style>\n",
       "<table border=\"1\" class=\"dataframe\">\n",
       "  <thead>\n",
       "    <tr style=\"text-align: right;\">\n",
       "      <th></th>\n",
       "      <th>level</th>\n",
       "      <th>pred</th>\n",
       "    </tr>\n",
       "  </thead>\n",
       "  <tbody>\n",
       "    <tr>\n",
       "      <th>2016-08-01</th>\n",
       "      <td>id_1000</td>\n",
       "      <td>1453.312971</td>\n",
       "    </tr>\n",
       "    <tr>\n",
       "      <th>2016-08-01</th>\n",
       "      <td>id_1001</td>\n",
       "      <td>2849.347882</td>\n",
       "    </tr>\n",
       "    <tr>\n",
       "      <th>2016-08-01</th>\n",
       "      <td>id_1003</td>\n",
       "      <td>2706.851726</td>\n",
       "    </tr>\n",
       "    <tr>\n",
       "      <th>2016-08-01</th>\n",
       "      <td>id_1004</td>\n",
       "      <td>7496.555367</td>\n",
       "    </tr>\n",
       "    <tr>\n",
       "      <th>2016-08-02</th>\n",
       "      <td>id_1000</td>\n",
       "      <td>1440.763196</td>\n",
       "    </tr>\n",
       "    <tr>\n",
       "      <th>...</th>\n",
       "      <td>...</td>\n",
       "      <td>...</td>\n",
       "    </tr>\n",
       "    <tr>\n",
       "      <th>2016-12-30</th>\n",
       "      <td>id_1001</td>\n",
       "      <td>1132.535774</td>\n",
       "    </tr>\n",
       "    <tr>\n",
       "      <th>2016-12-30</th>\n",
       "      <td>id_1003</td>\n",
       "      <td>2089.261345</td>\n",
       "    </tr>\n",
       "    <tr>\n",
       "      <th>2016-12-31</th>\n",
       "      <td>id_1000</td>\n",
       "      <td>1393.128313</td>\n",
       "    </tr>\n",
       "    <tr>\n",
       "      <th>2016-12-31</th>\n",
       "      <td>id_1001</td>\n",
       "      <td>1106.034061</td>\n",
       "    </tr>\n",
       "    <tr>\n",
       "      <th>2016-12-31</th>\n",
       "      <td>id_1003</td>\n",
       "      <td>2064.475030</td>\n",
       "    </tr>\n",
       "  </tbody>\n",
       "</table>\n",
       "<p>507 rows × 2 columns</p>\n",
       "</div>"
      ],
      "text/plain": [
       "              level         pred\n",
       "2016-08-01  id_1000  1453.312971\n",
       "2016-08-01  id_1001  2849.347882\n",
       "2016-08-01  id_1003  2706.851726\n",
       "2016-08-01  id_1004  7496.555367\n",
       "2016-08-02  id_1000  1440.763196\n",
       "...             ...          ...\n",
       "2016-12-30  id_1001  1132.535774\n",
       "2016-12-30  id_1003  2089.261345\n",
       "2016-12-31  id_1000  1393.128313\n",
       "2016-12-31  id_1001  1106.034061\n",
       "2016-12-31  id_1003  2064.475030\n",
       "\n",
       "[507 rows x 2 columns]"
      ]
     },
     "execution_count": 15,
     "metadata": {},
     "output_type": "execute_result"
    }
   ],
   "source": [
    "# Backtesting\n",
    "# ==============================================================================\n",
    "forecaster = ForecasterRecursiveMultiSeries(\n",
    "                 regressor          = regressor, \n",
    "                 lags               = 14, \n",
    "                 window_features    = RollingFeatures(stats=['mean', 'mean'], window_sizes=[7, 14]),\n",
    "                 encoding           = \"ordinal\", \n",
    "                 dropna_from_series = False\n",
    "             )\n",
    "\n",
    "cv = TimeSeriesFold(\n",
    "         steps              = 24,\n",
    "         initial_train_size = len(series_dict_train[\"id_1000\"])\n",
    "     )\n",
    "\n",
    "metrics_levels, backtest_predictions = backtesting_forecaster_multiseries(\n",
    "    forecaster            = forecaster,\n",
    "    series                = series_dict,\n",
    "    exog                  = exog_dict,\n",
    "    cv                    = cv,\n",
    "    levels                = None,\n",
    "    metric                = \"mean_absolute_error\",\n",
    "    add_aggregated_metric = True,\n",
    "    suppress_warnings     = True\n",
    ")\n",
    "\n",
    "display(metrics_levels)\n",
    "backtest_predictions"
   ]
  },
  {
   "cell_type": "markdown",
   "metadata": {},
   "source": [
    "Note that if a series has no observations in the test set, the backtesting process will not return any predictions for that series and the metric will be `NaN`, as happened with series `'id_1002'`."
   ]
  },
  {
   "cell_type": "code",
   "execution_count": 16,
   "metadata": {},
   "outputs": [
    {
     "data": {
      "image/png": "[encoded data removed]",
      "text/plain": [
       "<Figure size 800x400 with 5 Axes>"
      ]
     },
     "metadata": {},
     "output_type": "display_data"
    }
   ],
   "source": [
    "# Plot backtesting predictions\n",
    "# ==============================================================================\n",
    "fig, axs = plt.subplots(5, 1, figsize=(8, 4), sharex=True)\n",
    "\n",
    "for i, s in enumerate(series_dict.keys()):\n",
    "    axs[i].plot(series_dict[s], label=series_dict[s].name, color=colors[i])\n",
    "    axs[i].axvline(pd.to_datetime(end_train), color='white', linestyle='--', linewidth=1)  # End train\n",
    "    try:\n",
    "        axs[i].plot(backtest_predictions[s], label='prediction', color=\"white\")\n",
    "    except:\n",
    "        pass\n",
    "    axs[i].legend(loc='upper right', fontsize=8)\n",
    "    axs[i].tick_params(axis='both', labelsize=8)\n",
    "\n",
    "fig.suptitle('Backtest Predictions', fontsize=15)\n",
    "plt.tight_layout()"
   ]
  },
  {
   "cell_type": "markdown",
   "metadata": {},
   "source": [
    "## Hyperparameter tuning and lags selection\n",
    "\n",
    "The `grid_search_forecaster_multiseries`, `random_search_forecaster_multiseries` and `bayesian_search_forecaster_multiseries` functions in the `model_selection` module allow for lags and hyperparameter optimization. It is performed using the backtesting strategy for validation as in other Forecasters.\n",
    "\n",
    "When using series of different lengths, the metric is calculated as a **weighted average** of the backtesting metrics of the selected series (levels) and their number of predictions.\n",
    "\n",
    "More information about: [Hyperparameter tuning and lags selection Multi-Series](../user_guides/independent-multi-time-series-forecasting.html#hyperparameter-tuning-and-lags-selection-multi-series)."
   ]
  },
  {
   "cell_type": "code",
   "execution_count": 17,
   "metadata": {},
   "outputs": [
    {
     "data": {
      "application/vnd.jupyter.widget-view+json": {
       "model_id": "be150c348b7b400897f32484a9faecab",
       "version_major": 2,
       "version_minor": 0
      },
      "text/plain": [
       "  0%|          | 0/10 [00:00<?, ?it/s]"
      ]
     },
     "metadata": {},
     "output_type": "display_data"
    },
    {
     "name": "stdout",
     "output_type": "stream",
     "text": [
      "`Forecaster` refitted using the best-found lags and parameters, and the whole data set: \n",
      "  Lags: [ 1  2  3  4  5  6  7  8  9 10 11 12 13 14] \n",
      "  Parameters: {'min_samples_leaf': 29, 'max_depth': 5}\n",
      "  Backtesting metric: 531.5731935466865\n",
      "  Levels: ['id_1000', 'id_1001', 'id_1002', 'id_1003', 'id_1004']\n",
      "\n"
     ]
    },
    {
     "data": {
      "application/vnd.microsoft.datawrangler.viewer.v0+json": {
       "columns": [
        {
         "name": "index",
         "rawType": "int64",
         "type": "integer"
        },
        {
         "name": "levels",
         "rawType": "object",
         "type": "unknown"
        },
        {
         "name": "lags",
         "rawType": "object",
         "type": "unknown"
        },
        {
         "name": "params",
         "rawType": "object",
         "type": "unknown"
        },
        {
         "name": "mean_absolute_error__weighted_average",
         "rawType": "float64",
         "type": "float"
        },
        {
         "name": "mean_absolute_error__average",
         "rawType": "float64",
         "type": "float"
        },
        {
         "name": "mean_absolute_error__pooling",
         "rawType": "float64",
         "type": "float"
        },
        {
         "name": "min_samples_leaf",
         "rawType": "int64",
         "type": "integer"
        },
        {
         "name": "max_depth",
         "rawType": "int64",
         "type": "integer"
        }
       ],
       "conversionMethod": "pd.DataFrame",
       "ref": "111b3582-df74-4a55-bc69-09417226b569",
       "rows": [
        [
         "0",
         "['id_1000', 'id_1001', 'id_1002', 'id_1003', 'id_1004']",
         "[ 1  2  3  4  5  6  7  8  9 10 11 12 13 14]",
         "{'min_samples_leaf': 29, 'max_depth': 5}",
         "531.5731935466865",
         "510.88511906506864",
         "510.88511906506864",
         "29",
         "5"
        ],
        [
         "1",
         "['id_1000', 'id_1001', 'id_1002', 'id_1003', 'id_1004']",
         "[ 1  2  3  4  5  6  7  8  9 10 11 12 13 14]",
         "{'min_samples_leaf': 11, 'max_depth': 5}",
         "542.7009632316972",
         "557.1697484047575",
         "557.1697484047575",
         "11",
         "5"
        ],
        [
         "2",
         "['id_1000', 'id_1001', 'id_1002', 'id_1003', 'id_1004']",
         "[ 1  2  3  4  5  6  7  8  9 10 11 12 13 14]",
         "{'min_samples_leaf': 18, 'max_depth': 4}",
         "572.011629811374",
         "559.1988616564888",
         "559.1988616564888",
         "18",
         "4"
        ],
        [
         "3",
         "['id_1000', 'id_1001', 'id_1002', 'id_1003', 'id_1004']",
         "[1 2 3 4 5 6 7]",
         "{'min_samples_leaf': 30, 'max_depth': 6}",
         "591.8171786877311",
         "595.2347224216222",
         "595.2347224216221",
         "30",
         "6"
        ]
       ],
       "shape": {
        "columns": 8,
        "rows": 4
       }
      },
      "text/html": [
       "<div>\n",
       "<style scoped>\n",
       "    .dataframe tbody tr th:only-of-type {\n",
       "        vertical-align: middle;\n",
       "    }\n",
       "\n",
       "    .dataframe tbody tr th {\n",
       "        vertical-align: top;\n",
       "    }\n",
       "\n",
       "    .dataframe thead th {\n",
       "        text-align: right;\n",
       "    }\n",
       "</style>\n",
       "<table border=\"1\" class=\"dataframe\">\n",
       "  <thead>\n",
       "    <tr style=\"text-align: right;\">\n",
       "      <th></th>\n",
       "      <th>levels</th>\n",
       "      <th>lags</th>\n",
       "      <th>params</th>\n",
       "      <th>mean_absolute_error__weighted_average</th>\n",
       "      <th>mean_absolute_error__average</th>\n",
       "      <th>mean_absolute_error__pooling</th>\n",
       "      <th>min_samples_leaf</th>\n",
       "      <th>max_depth</th>\n",
       "    </tr>\n",
       "  </thead>\n",
       "  <tbody>\n",
       "    <tr>\n",
       "      <th>0</th>\n",
       "      <td>[id_1000, id_1001, id_1002, id_1003, id_1004]</td>\n",
       "      <td>[1, 2, 3, 4, 5, 6, 7, 8, 9, 10, 11, 12, 13, 14]</td>\n",
       "      <td>{'min_samples_leaf': 29, 'max_depth': 5}</td>\n",
       "      <td>531.573194</td>\n",
       "      <td>510.885119</td>\n",
       "      <td>510.885119</td>\n",
       "      <td>29</td>\n",
       "      <td>5</td>\n",
       "    </tr>\n",
       "    <tr>\n",
       "      <th>1</th>\n",
       "      <td>[id_1000, id_1001, id_1002, id_1003, id_1004]</td>\n",
       "      <td>[1, 2, 3, 4, 5, 6, 7, 8, 9, 10, 11, 12, 13, 14]</td>\n",
       "      <td>{'min_samples_leaf': 11, 'max_depth': 5}</td>\n",
       "      <td>542.700963</td>\n",
       "      <td>557.169748</td>\n",
       "      <td>557.169748</td>\n",
       "      <td>11</td>\n",
       "      <td>5</td>\n",
       "    </tr>\n",
       "    <tr>\n",
       "      <th>2</th>\n",
       "      <td>[id_1000, id_1001, id_1002, id_1003, id_1004]</td>\n",
       "      <td>[1, 2, 3, 4, 5, 6, 7, 8, 9, 10, 11, 12, 13, 14]</td>\n",
       "      <td>{'min_samples_leaf': 18, 'max_depth': 4}</td>\n",
       "      <td>572.011630</td>\n",
       "      <td>559.198862</td>\n",
       "      <td>559.198862</td>\n",
       "      <td>18</td>\n",
       "      <td>4</td>\n",
       "    </tr>\n",
       "    <tr>\n",
       "      <th>3</th>\n",
       "      <td>[id_1000, id_1001, id_1002, id_1003, id_1004]</td>\n",
       "      <td>[1, 2, 3, 4, 5, 6, 7]</td>\n",
       "      <td>{'min_samples_leaf': 30, 'max_depth': 6}</td>\n",
       "      <td>591.817179</td>\n",
       "      <td>595.234722</td>\n",
       "      <td>595.234722</td>\n",
       "      <td>30</td>\n",
       "      <td>6</td>\n",
       "    </tr>\n",
       "  </tbody>\n",
       "</table>\n",
       "</div>"
      ],
      "text/plain": [
       "                                          levels  \\\n",
       "0  [id_1000, id_1001, id_1002, id_1003, id_1004]   \n",
       "1  [id_1000, id_1001, id_1002, id_1003, id_1004]   \n",
       "2  [id_1000, id_1001, id_1002, id_1003, id_1004]   \n",
       "3  [id_1000, id_1001, id_1002, id_1003, id_1004]   \n",
       "\n",
       "                                              lags  \\\n",
       "0  [1, 2, 3, 4, 5, 6, 7, 8, 9, 10, 11, 12, 13, 14]   \n",
       "1  [1, 2, 3, 4, 5, 6, 7, 8, 9, 10, 11, 12, 13, 14]   \n",
       "2  [1, 2, 3, 4, 5, 6, 7, 8, 9, 10, 11, 12, 13, 14]   \n",
       "3                            [1, 2, 3, 4, 5, 6, 7]   \n",
       "\n",
       "                                     params  \\\n",
       "0  {'min_samples_leaf': 29, 'max_depth': 5}   \n",
       "1  {'min_samples_leaf': 11, 'max_depth': 5}   \n",
       "2  {'min_samples_leaf': 18, 'max_depth': 4}   \n",
       "3  {'min_samples_leaf': 30, 'max_depth': 6}   \n",
       "\n",
       "   mean_absolute_error__weighted_average  mean_absolute_error__average  \\\n",
       "0                             531.573194                    510.885119   \n",
       "1                             542.700963                    557.169748   \n",
       "2                             572.011630                    559.198862   \n",
       "3                             591.817179                    595.234722   \n",
       "\n",
       "   mean_absolute_error__pooling  min_samples_leaf  max_depth  \n",
       "0                    510.885119                29          5  \n",
       "1                    557.169748                11          5  \n",
       "2                    559.198862                18          4  \n",
       "3                    595.234722                30          6  "
      ]
     },
     "execution_count": 17,
     "metadata": {},
     "output_type": "execute_result"
    }
   ],
   "source": [
    "# Bayesian search hyperparameters and lags with Optuna\n",
    "# ==============================================================================\n",
    "forecaster = ForecasterRecursiveMultiSeries(\n",
    "                 regressor          = LGBMRegressor(random_state=123, verbose=-1), \n",
    "                 lags               = 14, \n",
    "                 window_features    = RollingFeatures(stats=['mean', 'mean'], window_sizes=[7, 14]),\n",
    "                 encoding           = \"ordinal\", \n",
    "                 dropna_from_series = False\n",
    "             )\n",
    "\n",
    "# Search space\n",
    "def search_space(trial):\n",
    "    search_space  = {\n",
    "        'lags'            : trial.suggest_categorical('lags', [7, 14]),\n",
    "        'min_samples_leaf': trial.suggest_int('min_samples_leaf', 10, 30),\n",
    "        'max_depth'       : trial.suggest_int('max_depth', 3, 7)\n",
    "    }\n",
    "\n",
    "    return search_space\n",
    "\n",
    "cv = TimeSeriesFold(\n",
    "         steps              = 24,\n",
    "         initial_train_size = len(series_dict_train[\"id_1000\"]),\n",
    "     )\n",
    "\n",
    "results, best_trial = bayesian_search_forecaster_multiseries(\n",
    "    forecaster        = forecaster,\n",
    "    series            = series_dict,\n",
    "    exog              = exog_dict,\n",
    "    search_space      = search_space,\n",
    "    cv                = cv,\n",
    "    levels            = None,\n",
    "    metric            = 'mean_absolute_error',\n",
    "    n_trials          = 10,\n",
    "    suppress_warnings = True\n",
    ")\n",
    "\n",
    "results.head(4)"
   ]
  },
  {
   "cell_type": "markdown",
   "metadata": {},
   "source": [
    "## Categorical variables"
   ]
  },
  {
   "cell_type": "markdown",
   "metadata": {},
   "source": [
    "<div class=\"admonition note\" name=\"html-admonition\" style=\"background: rgba(255,145,0,.1); padding-top: 0px; padding-bottom: 6px; border-radius: 8px; border-left: 8px solid #ff9100; border-color: #ff9100; padding-left: 10px; padding-right: 10px\">\n",
    "\n",
    "<p class=\"title\">\n",
    "    <i style=\"font-size: 18px; color:#ff9100; border-color: #ff1744;\"></i>\n",
    "    <b style=\"color: #ff9100;\"> <span style=\"color: #ff9100;\">&#9888;</span> Warning</b>\n",
    "</p>\n",
    "\n",
    "Starting with version <code>0.13.0</code>, the <code>ForecasterRecursiveMultiSeries</code> class can use <code>encoding='ordinal_category'</code> for encoding time series identifiers. This approach creates a new column (<i>_level_skforecast</i>) of type pandas <code>category</code>. Consequently, the regressors must be able to handle categorical variables. If the regressors do not support categorical variables, the user should set the encoding to <code>'ordinal'</code> or <code>'onehot'</code> for compatibility.\n",
    "\n",
    "<p>Some examples of regressors that support categorical variables and how to enable them are:</p>\n",
    "\n",
    "<strong>HistGradientBoostingRegressor</strong> \n",
    "\n",
    "```python\n",
    "HistGradientBoostingRegressor(categorical_features=\"from_dtype\")\n",
    "```\n",
    "\n",
    "<strong>LightGBM</strong>\n",
    "\n",
    "<code>LGBMRegressor</code> does not allow configuration of categorical features during initialization, but rather in its <code>fit</code> method. Therefore, use Forecaster' argument <code>fit_kwargs = {'categorical_feature':'auto'}</code>. This is the default behavior of <code>LGBMRegressor</code> if no indication is given.\n",
    "\n",
    "<strong>XGBoost</strong>\n",
    "```python\n",
    "XGBRegressor(enable_categorical=True)\n",
    "```\n",
    "\n",
    "</div>"
   ]
  }
 ],
 "metadata": {
  "kernelspec": {
   "display_name": "skforecast_15_p12",
   "language": "python",
   "name": "python3"
  },
  "language_info": {
   "codemirror_mode": {
    "name": "ipython",
    "version": 3
   },
   "file_extension": ".py",
   "mimetype": "text/x-python",
   "name": "python",
   "nbconvert_exporter": "python",
   "pygments_lexer": "ipython3",
   "version": "3.12.9"
  },
  "orig_nbformat": 4
 },
 "nbformat": 4,
 "nbformat_minor": 2
}
