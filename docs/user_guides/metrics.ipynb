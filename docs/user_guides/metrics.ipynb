{
 "cells": [
  {
   "cell_type": "markdown",
   "metadata": {},
   "source": [
    "# Time Series Forecasting Metrics\n",
    "\n",
    "In time series forecasting, evaluating the performance of predictive models is crucial to ensure accurate and reliable forecasts. Forecasting metrics are quantitative measures used to assess the accuracy and effectiveness of these models. They help in comparing different models, diagnosing errors, and making informed decisions based on forecast results.\n",
    "\n",
    "Skforecast is compatible with most of the regression metrics from scikit-learn and includes additional metrics specifically designed for time series forecasting.\n",
    "\n",
    "+ Mean Squared Error (\"[mean_squared_error](https://scikit-learn.org/stable/modules/generated/sklearn.metrics.mean_squared_error.html)\")\n",
    "\n",
    "+ Mean Absolute Error (\"[mean_absolute_error](https://scikit-learn.org/stable/modules/generated/sklearn.metrics.mean_absolute_error.html)\")\n",
    "\n",
    "+ Mean Absolute Percentage Error (\"[mean_absolute_percentage_error](https://scikit-learn.org/stable/modules/generated/sklearn.metrics.mean_absolute_percentage_error.html)\")\n",
    "\n",
    "+ Mean Squared Log Error (\"[mean_squared_log_error](https://scikit-learn.org/stable/modules/generated/sklearn.metrics.mean_squared_log_error.html)\")\n",
    "\n",
    "+ Median Absolute Error (\"[median_absolute_error](https://scikit-learn.org/stable/modules/generated/sklearn.metrics.median_absolute_error.html)\")\n",
    "\n",
    "+ Mean Absolute Scaled Error (\"[mean_absolute_scaled_error](https://en.wikipedia.org/wiki/Mean_absolute_scaled_error#:~:text=In%20statistics%2C%20the%20mean%20absolute,2005%20by%20statistician%20Rob%20J.)\")\n",
    "\n",
    "+ Root Mean Squared Scaled Error (\"root_mean_squared_scaled_error\")\n",
    "\n",
    "In addition, Skforecast allows the user to define their own custom metrics. This can be done by creating a function that takes two arguments: the true values (`y_true`) and the predicted values (`y_pred`), and returns a single value representing the metric. The custom metric, optionally takes an additional argument `y_train` with the training data used to fit the model.\n",
    "\n",
    "In most cases, the metrics are calculated using the predictions generated in a [backtesting](../user_guides/backtesting.html) process. For this, the `backtesting_forecaster` and `backtesting_forecaster_multiseries` functions take the `metrics` argument to specify the metric(s) to be calculated in addition to the predictions."
   ]
  },
  {
   "cell_type": "markdown",
   "metadata": {},
   "source": [
    "## Metrics for single series forecasting\n",
    "\n",
    "The following code shows how to calculate metrics when a single series is forecasted. The example uses the `backtesting_forecaster` function to generate predictions and calculate the metrics."
   ]
  },
  {
   "cell_type": "code",
   "execution_count": 1,
   "metadata": {},
   "outputs": [],
   "source": [
    "# Libraries\n",
    "# ==============================================================================\n",
    "import pandas as pd\n",
    "from lightgbm import LGBMRegressor\n",
    "from skforecast.datasets import fetch_dataset\n",
    "from skforecast.recursive import ForecasterRecursive\n",
    "from skforecast.model_selection import TimeSeriesFold, backtesting_forecaster\n",
    "from sklearn.metrics import mean_squared_error, mean_absolute_percentage_error, mean_absolute_error\n",
    "from skforecast.metrics import mean_absolute_scaled_error\n",
    "from skforecast.plot import set_dark_theme"
   ]
  },
  {
   "cell_type": "code",
   "execution_count": 2,
   "metadata": {},
   "outputs": [
    {
     "name": "stdout",
     "output_type": "stream",
     "text": [
      "website_visits\n",
      "--------------\n",
      "Daily visits to the cienciadedatos.net website registered with the google\n",
      "analytics service.\n",
      "Amat Rodrigo, J. (2021). cienciadedatos.net (1.0.0). Zenodo.\n",
      "https://doi.org/10.5281/zenodo.10006330\n",
      "Shape of the dataset: (421, 2)\n"
     ]
    },
    {
     "data": {
      "application/vnd.microsoft.datawrangler.viewer.v0+json": {
       "columns": [
        {
         "name": "date",
         "rawType": "datetime64[ns]",
         "type": "datetime"
        },
        {
         "name": "users",
         "rawType": "int64",
         "type": "integer"
        }
       ],
       "conversionMethod": "pd.DataFrame",
       "ref": "03d5e894-b08e-442b-8f64-dfb01930d5c7",
       "rows": [
        [
         "2020-07-01 00:00:00",
         "2324"
        ],
        [
         "2020-07-02 00:00:00",
         "2201"
        ],
        [
         "2020-07-03 00:00:00",
         "2146"
        ]
       ],
       "shape": {
        "columns": 1,
        "rows": 3
       }
      },
      "text/html": [
       "<div>\n",
       "<style scoped>\n",
       "    .dataframe tbody tr th:only-of-type {\n",
       "        vertical-align: middle;\n",
       "    }\n",
       "\n",
       "    .dataframe tbody tr th {\n",
       "        vertical-align: top;\n",
       "    }\n",
       "\n",
       "    .dataframe thead th {\n",
       "        text-align: right;\n",
       "    }\n",
       "</style>\n",
       "<table border=\"1\" class=\"dataframe\">\n",
       "  <thead>\n",
       "    <tr style=\"text-align: right;\">\n",
       "      <th></th>\n",
       "      <th>users</th>\n",
       "    </tr>\n",
       "    <tr>\n",
       "      <th>date</th>\n",
       "      <th></th>\n",
       "    </tr>\n",
       "  </thead>\n",
       "  <tbody>\n",
       "    <tr>\n",
       "      <th>2020-07-01</th>\n",
       "      <td>2324</td>\n",
       "    </tr>\n",
       "    <tr>\n",
       "      <th>2020-07-02</th>\n",
       "      <td>2201</td>\n",
       "    </tr>\n",
       "    <tr>\n",
       "      <th>2020-07-03</th>\n",
       "      <td>2146</td>\n",
       "    </tr>\n",
       "  </tbody>\n",
       "</table>\n",
       "</div>"
      ],
      "text/plain": [
       "            users\n",
       "date             \n",
       "2020-07-01   2324\n",
       "2020-07-02   2201\n",
       "2020-07-03   2146"
      ]
     },
     "execution_count": 2,
     "metadata": {},
     "output_type": "execute_result"
    }
   ],
   "source": [
    "# Dowlnoad dataset\n",
    "# ==============================================================================\n",
    "data = fetch_dataset('website_visits', raw=True)\n",
    "data['date'] = pd.to_datetime(data['date'], format='%d/%m/%y')\n",
    "data = data.set_index('date')\n",
    "data = data.asfreq('1D')\n",
    "data = data.sort_index()\n",
    "data.head(3)"
   ]
  },
  {
   "cell_type": "code",
   "execution_count": 3,
   "metadata": {},
   "outputs": [
    {
     "data": {
      "application/vnd.jupyter.widget-view+json": {
       "model_id": "8c08b3473d3544498b3c3e0a64ff5013",
       "version_major": 2,
       "version_minor": 0
      },
      "text/plain": [
       "  0%|          | 0/31 [00:00<?, ?it/s]"
      ]
     },
     "metadata": {},
     "output_type": "display_data"
    },
    {
     "data": {
      "application/vnd.microsoft.datawrangler.viewer.v0+json": {
       "columns": [
        {
         "name": "index",
         "rawType": "int64",
         "type": "integer"
        },
        {
         "name": "mean_absolute_error",
         "rawType": "float64",
         "type": "float"
        },
        {
         "name": "mean_squared_error",
         "rawType": "float64",
         "type": "float"
        },
        {
         "name": "mean_absolute_percentage_error",
         "rawType": "float64",
         "type": "float"
        },
        {
         "name": "mean_absolute_scaled_error",
         "rawType": "float64",
         "type": "float"
        }
       ],
       "conversionMethod": "pd.DataFrame",
       "ref": "47c0d621-95e0-4b5d-a068-6df829786138",
       "rows": [
        [
         "0",
         "298.29890277017006",
         "165698.93088371557",
         "0.17613577463555347",
         "0.695102822332926"
        ]
       ],
       "shape": {
        "columns": 4,
        "rows": 1
       }
      },
      "text/html": [
       "<div>\n",
       "<style scoped>\n",
       "    .dataframe tbody tr th:only-of-type {\n",
       "        vertical-align: middle;\n",
       "    }\n",
       "\n",
       "    .dataframe tbody tr th {\n",
       "        vertical-align: top;\n",
       "    }\n",
       "\n",
       "    .dataframe thead th {\n",
       "        text-align: right;\n",
       "    }\n",
       "</style>\n",
       "<table border=\"1\" class=\"dataframe\">\n",
       "  <thead>\n",
       "    <tr style=\"text-align: right;\">\n",
       "      <th></th>\n",
       "      <th>mean_absolute_error</th>\n",
       "      <th>mean_squared_error</th>\n",
       "      <th>mean_absolute_percentage_error</th>\n",
       "      <th>mean_absolute_scaled_error</th>\n",
       "    </tr>\n",
       "  </thead>\n",
       "  <tbody>\n",
       "    <tr>\n",
       "      <th>0</th>\n",
       "      <td>298.298903</td>\n",
       "      <td>165698.930884</td>\n",
       "      <td>0.176136</td>\n",
       "      <td>0.695103</td>\n",
       "    </tr>\n",
       "  </tbody>\n",
       "</table>\n",
       "</div>"
      ],
      "text/plain": [
       "   mean_absolute_error  mean_squared_error  mean_absolute_percentage_error  \\\n",
       "0           298.298903       165698.930884                        0.176136   \n",
       "\n",
       "   mean_absolute_scaled_error  \n",
       "0                    0.695103  "
      ]
     },
     "execution_count": 3,
     "metadata": {},
     "output_type": "execute_result"
    }
   ],
   "source": [
    "# Backtesting to generate predictions over the test set and calculate metrics\n",
    "# ==============================================================================\n",
    "forecaster = ForecasterRecursive(\n",
    "                 regressor = LGBMRegressor(random_state=123, verbose=-1),\n",
    "                 lags      = 7\n",
    "             )\n",
    "\n",
    "metrics = [\n",
    "    'mean_absolute_error',\n",
    "    'mean_squared_error',\n",
    "    'mean_absolute_percentage_error',\n",
    "    'mean_absolute_scaled_error'\n",
    "]\n",
    "\n",
    "cv = TimeSeriesFold(steps=7, initial_train_size = len(data) // 2)\n",
    "\n",
    "backtest_metrics, predictions = backtesting_forecaster(\n",
    "                                    forecaster = forecaster,\n",
    "                                    y          = data['users'],\n",
    "                                    cv         = cv,\n",
    "                                    metric     = metrics,\n",
    "                                )\n",
    "backtest_metrics"
   ]
  },
  {
   "cell_type": "markdown",
   "metadata": {},
   "source": [
    "It is possible to pass a list of functions instead of names. "
   ]
  },
  {
   "cell_type": "code",
   "execution_count": 4,
   "metadata": {},
   "outputs": [
    {
     "data": {
      "application/vnd.jupyter.widget-view+json": {
       "model_id": "8fea528e771c49c78e2870e503816472",
       "version_major": 2,
       "version_minor": 0
      },
      "text/plain": [
       "  0%|          | 0/31 [00:00<?, ?it/s]"
      ]
     },
     "metadata": {},
     "output_type": "display_data"
    },
    {
     "data": {
      "application/vnd.microsoft.datawrangler.viewer.v0+json": {
       "columns": [
        {
         "name": "index",
         "rawType": "int64",
         "type": "integer"
        },
        {
         "name": "mean_absolute_error",
         "rawType": "float64",
         "type": "float"
        },
        {
         "name": "mean_squared_error",
         "rawType": "float64",
         "type": "float"
        },
        {
         "name": "mean_absolute_percentage_error",
         "rawType": "float64",
         "type": "float"
        },
        {
         "name": "mean_absolute_scaled_error",
         "rawType": "float64",
         "type": "float"
        }
       ],
       "conversionMethod": "pd.DataFrame",
       "ref": "810d7b4f-00fb-4ad0-a240-1f5049f446af",
       "rows": [
        [
         "0",
         "298.29890277017006",
         "165698.93088371557",
         "0.17613577463555347",
         "0.695102822332926"
        ]
       ],
       "shape": {
        "columns": 4,
        "rows": 1
       }
      },
      "text/html": [
       "<div>\n",
       "<style scoped>\n",
       "    .dataframe tbody tr th:only-of-type {\n",
       "        vertical-align: middle;\n",
       "    }\n",
       "\n",
       "    .dataframe tbody tr th {\n",
       "        vertical-align: top;\n",
       "    }\n",
       "\n",
       "    .dataframe thead th {\n",
       "        text-align: right;\n",
       "    }\n",
       "</style>\n",
       "<table border=\"1\" class=\"dataframe\">\n",
       "  <thead>\n",
       "    <tr style=\"text-align: right;\">\n",
       "      <th></th>\n",
       "      <th>mean_absolute_error</th>\n",
       "      <th>mean_squared_error</th>\n",
       "      <th>mean_absolute_percentage_error</th>\n",
       "      <th>mean_absolute_scaled_error</th>\n",
       "    </tr>\n",
       "  </thead>\n",
       "  <tbody>\n",
       "    <tr>\n",
       "      <th>0</th>\n",
       "      <td>298.298903</td>\n",
       "      <td>165698.930884</td>\n",
       "      <td>0.176136</td>\n",
       "      <td>0.695103</td>\n",
       "    </tr>\n",
       "  </tbody>\n",
       "</table>\n",
       "</div>"
      ],
      "text/plain": [
       "   mean_absolute_error  mean_squared_error  mean_absolute_percentage_error  \\\n",
       "0           298.298903       165698.930884                        0.176136   \n",
       "\n",
       "   mean_absolute_scaled_error  \n",
       "0                    0.695103  "
      ]
     },
     "execution_count": 4,
     "metadata": {},
     "output_type": "execute_result"
    }
   ],
   "source": [
    "# Backtesting with callable metrics\n",
    "# ==============================================================================\n",
    "metrics = [\n",
    "    mean_absolute_error,\n",
    "    mean_squared_error,\n",
    "    mean_absolute_percentage_error,\n",
    "    mean_absolute_scaled_error\n",
    "]\n",
    "\n",
    "backtest_metrics, predictions = backtesting_forecaster(\n",
    "                                    forecaster = forecaster,\n",
    "                                    y          = data['users'],\n",
    "                                    cv         = cv,\n",
    "                                    metric     = metrics,\n",
    "                                )\n",
    "backtest_metrics"
   ]
  },
  {
   "cell_type": "markdown",
   "metadata": {},
   "source": [
    "Since functions can be passed as arguments, it is possible to define custom metrics. The custom metric must be a function that takes two arguments: the true values (`y_true`) and the predicted values (`y_pred`), and returns a single value representing the metric. Optionally, it can take additional arguments `y_train` with the training data."
   ]
  },
  {
   "cell_type": "code",
   "execution_count": 5,
   "metadata": {},
   "outputs": [
    {
     "data": {
      "application/vnd.jupyter.widget-view+json": {
       "model_id": "0c334a0c0a2a4774a7dd8099a1507971",
       "version_major": 2,
       "version_minor": 0
      },
      "text/plain": [
       "  0%|          | 0/31 [00:00<?, ?it/s]"
      ]
     },
     "metadata": {},
     "output_type": "display_data"
    },
    {
     "data": {
      "application/vnd.microsoft.datawrangler.viewer.v0+json": {
       "columns": [
        {
         "name": "index",
         "rawType": "int64",
         "type": "integer"
        },
        {
         "name": "custom_metric",
         "rawType": "float64",
         "type": "float"
        }
       ],
       "conversionMethod": "pd.DataFrame",
       "ref": "e990077c-4815-4461-8594-b33f3ccedbe5",
       "rows": [
        [
         "0",
         "298.3754473844881"
        ]
       ],
       "shape": {
        "columns": 1,
        "rows": 1
       }
      },
      "text/html": [
       "<div>\n",
       "<style scoped>\n",
       "    .dataframe tbody tr th:only-of-type {\n",
       "        vertical-align: middle;\n",
       "    }\n",
       "\n",
       "    .dataframe tbody tr th {\n",
       "        vertical-align: top;\n",
       "    }\n",
       "\n",
       "    .dataframe thead th {\n",
       "        text-align: right;\n",
       "    }\n",
       "</style>\n",
       "<table border=\"1\" class=\"dataframe\">\n",
       "  <thead>\n",
       "    <tr style=\"text-align: right;\">\n",
       "      <th></th>\n",
       "      <th>custom_metric</th>\n",
       "    </tr>\n",
       "  </thead>\n",
       "  <tbody>\n",
       "    <tr>\n",
       "      <th>0</th>\n",
       "      <td>298.375447</td>\n",
       "    </tr>\n",
       "  </tbody>\n",
       "</table>\n",
       "</div>"
      ],
      "text/plain": [
       "   custom_metric\n",
       "0     298.375447"
      ]
     },
     "execution_count": 5,
     "metadata": {},
     "output_type": "execute_result"
    }
   ],
   "source": [
    "# Backtesting with custom metric\n",
    "# ==============================================================================\n",
    "def custom_metric(y_true, y_pred):\n",
    "    \"\"\"\n",
    "    Calculate the mean absolute error excluding weekends.\n",
    "    \"\"\"\n",
    "    mask = y_true.index.weekday < 5\n",
    "    metric = mean_absolute_error(y_true[mask], y_pred[mask])\n",
    "\n",
    "    return metric\n",
    "\n",
    "backtest_metrics, predictions = backtesting_forecaster(\n",
    "                                    forecaster = forecaster,\n",
    "                                    y          = data['users'],\n",
    "                                    cv         = cv,\n",
    "                                    metric     = custom_metric,\n",
    "                                )\n",
    "backtest_metrics"
   ]
  },
  {
   "cell_type": "markdown",
   "metadata": {},
   "source": [
    "## Metrics for multiple time series forecasting"
   ]
  },
  {
   "cell_type": "markdown",
   "metadata": {},
   "source": [
    "When working with multiple time series, it is common to calculate metrics across all series to get an overall measure of performance, in addition to individual values. Skforecast provides 3 different aggregation methods:\n",
    "\n",
    "+ **average**: the average (arithmetic mean) of all levels.\n",
    "\n",
    "+ **weighted_average**: the average of the metrics weighted by the number of predicted values of each level.\n",
    "\n",
    "+ **pooling**: the values of all levels are pooled and then the metric is calculated.\n",
    "\n",
    "To include the aggregated metrics in the output of `backtesting_forecaster_multiseries`, the `add_aggregated_metric` argument must be set to `True`."
   ]
  },
  {
   "cell_type": "code",
   "execution_count": 6,
   "metadata": {},
   "outputs": [],
   "source": [
    "# Libraries\n",
    "# ==============================================================================\n",
    "import matplotlib.pyplot as plt\n",
    "from lightgbm import LGBMRegressor\n",
    "from skforecast.datasets import fetch_dataset\n",
    "from skforecast.recursive import ForecasterRecursiveMultiSeries\n",
    "from skforecast.model_selection import backtesting_forecaster_multiseries\n",
    "from skforecast.model_selection import grid_search_forecaster_multiseries"
   ]
  },
  {
   "cell_type": "code",
   "execution_count": 7,
   "metadata": {},
   "outputs": [
    {
     "name": "stdout",
     "output_type": "stream",
     "text": [
      "items_sales\n",
      "-----------\n",
      "Simulated time series for the sales of 3 different items.\n",
      "Simulated data.\n",
      "Shape of the dataset: (1097, 3)\n"
     ]
    },
    {
     "data": {
      "application/vnd.microsoft.datawrangler.viewer.v0+json": {
       "columns": [
        {
         "name": "date",
         "rawType": "datetime64[ns]",
         "type": "datetime"
        },
        {
         "name": "item_1",
         "rawType": "float64",
         "type": "float"
        },
        {
         "name": "item_2",
         "rawType": "float64",
         "type": "float"
        },
        {
         "name": "item_3",
         "rawType": "float64",
         "type": "float"
        }
       ],
       "conversionMethod": "pd.DataFrame",
       "ref": "0bc557b1-eb6d-4213-b82a-d9b00018172e",
       "rows": [
        [
         "2012-01-01 00:00:00",
         "8.2531745918",
         "21.047727272727272",
         "19.42973946376865"
        ],
        [
         "2012-01-02 00:00:00",
         "22.7778257304",
         "26.578125",
         "28.00986308040715"
        ],
        [
         "2012-01-03 00:00:00",
         "27.5490988882",
         "31.751041666666666",
         "32.0789220997037"
        ],
        [
         "2012-01-04 00:00:00",
         "25.8955329422",
         "24.56770833333333",
         "27.25227557993816"
        ],
        [
         "2012-01-05 00:00:00",
         "21.3792376946",
         "18.191666666666663",
         "20.35773678098677"
        ]
       ],
       "shape": {
        "columns": 3,
        "rows": 5
       }
      },
      "text/html": [
       "<div>\n",
       "<style scoped>\n",
       "    .dataframe tbody tr th:only-of-type {\n",
       "        vertical-align: middle;\n",
       "    }\n",
       "\n",
       "    .dataframe tbody tr th {\n",
       "        vertical-align: top;\n",
       "    }\n",
       "\n",
       "    .dataframe thead th {\n",
       "        text-align: right;\n",
       "    }\n",
       "</style>\n",
       "<table border=\"1\" class=\"dataframe\">\n",
       "  <thead>\n",
       "    <tr style=\"text-align: right;\">\n",
       "      <th></th>\n",
       "      <th>item_1</th>\n",
       "      <th>item_2</th>\n",
       "      <th>item_3</th>\n",
       "    </tr>\n",
       "    <tr>\n",
       "      <th>date</th>\n",
       "      <th></th>\n",
       "      <th></th>\n",
       "      <th></th>\n",
       "    </tr>\n",
       "  </thead>\n",
       "  <tbody>\n",
       "    <tr>\n",
       "      <th>2012-01-01</th>\n",
       "      <td>8.253175</td>\n",
       "      <td>21.047727</td>\n",
       "      <td>19.429739</td>\n",
       "    </tr>\n",
       "    <tr>\n",
       "      <th>2012-01-02</th>\n",
       "      <td>22.777826</td>\n",
       "      <td>26.578125</td>\n",
       "      <td>28.009863</td>\n",
       "    </tr>\n",
       "    <tr>\n",
       "      <th>2012-01-03</th>\n",
       "      <td>27.549099</td>\n",
       "      <td>31.751042</td>\n",
       "      <td>32.078922</td>\n",
       "    </tr>\n",
       "    <tr>\n",
       "      <th>2012-01-04</th>\n",
       "      <td>25.895533</td>\n",
       "      <td>24.567708</td>\n",
       "      <td>27.252276</td>\n",
       "    </tr>\n",
       "    <tr>\n",
       "      <th>2012-01-05</th>\n",
       "      <td>21.379238</td>\n",
       "      <td>18.191667</td>\n",
       "      <td>20.357737</td>\n",
       "    </tr>\n",
       "  </tbody>\n",
       "</table>\n",
       "</div>"
      ],
      "text/plain": [
       "               item_1     item_2     item_3\n",
       "date                                       \n",
       "2012-01-01   8.253175  21.047727  19.429739\n",
       "2012-01-02  22.777826  26.578125  28.009863\n",
       "2012-01-03  27.549099  31.751042  32.078922\n",
       "2012-01-04  25.895533  24.567708  27.252276\n",
       "2012-01-05  21.379238  18.191667  20.357737"
      ]
     },
     "execution_count": 7,
     "metadata": {},
     "output_type": "execute_result"
    }
   ],
   "source": [
    "# Data download\n",
    "# ==============================================================================\n",
    "data = fetch_dataset(name=\"items_sales\")\n",
    "data.head()"
   ]
  },
  {
   "cell_type": "code",
   "execution_count": 8,
   "metadata": {},
   "outputs": [
    {
     "name": "stdout",
     "output_type": "stream",
     "text": [
      "Train dates : 2012-01-01 00:00:00 --- 2014-07-15 00:00:00   (n=927)\n",
      "Test dates  : 2014-07-16 00:00:00 --- 2015-01-01 00:00:00   (n=170)\n"
     ]
    }
   ],
   "source": [
    "# Split data into train-val-test\n",
    "# ==============================================================================\n",
    "end_train = '2014-07-15 23:59:00'\n",
    "data_train = data.loc[:end_train, :].copy()\n",
    "data_test  = data.loc[end_train:, :].copy()\n",
    "\n",
    "print(\n",
    "    f\"Train dates : {data_train.index.min()} --- {data_train.index.max()}   \"\n",
    "    f\"(n={len(data_train)})\"\n",
    ")\n",
    "print(\n",
    "    f\"Test dates  : {data_test.index.min()} --- {data_test.index.max()}   \"\n",
    "    f\"(n={len(data_test)})\"\n",
    ")"
   ]
  },
  {
   "cell_type": "code",
   "execution_count": 9,
   "metadata": {},
   "outputs": [
    {
     "data": {
      "image/png": "[encoded data removed]",
      "text/plain": [
       "<Figure size 700x500 with 3 Axes>"
      ]
     },
     "metadata": {},
     "output_type": "display_data"
    }
   ],
   "source": [
    "# Plot time series\n",
    "# ==============================================================================\n",
    "set_dark_theme()\n",
    "fig, axes = plt.subplots(nrows=3, ncols=1, figsize=(7, 5), sharex=True)\n",
    "for i, item in enumerate(['item_1', 'item_2', 'item_3'], start=0):\n",
    "    data_train[item].plot(label='train', ax=axes[i])\n",
    "    data_test[item].plot(label='test', ax=axes[i])\n",
    "    axes[i].set_ylabel('sales')\n",
    "    axes[i].set_title(f'Item {i + 1}')\n",
    "    axes[i].set_xlabel('')\n",
    "    axes[i].legend(loc='upper left')\n",
    "fig.tight_layout()\n",
    "plt.show()"
   ]
  },
  {
   "cell_type": "code",
   "execution_count": 10,
   "metadata": {},
   "outputs": [],
   "source": [
    "# Create and fit a Forecaster Multi-Series\n",
    "# ==============================================================================\n",
    "forecaster = ForecasterRecursiveMultiSeries(\n",
    "                 regressor = LGBMRegressor(random_state=123, verbose=-1),\n",
    "                 lags      = 24,\n",
    "                 encoding  = 'ordinal'\n",
    "             )\n",
    "forecaster.fit(series=data_train)"
   ]
  },
  {
   "cell_type": "code",
   "execution_count": 11,
   "metadata": {},
   "outputs": [
    {
     "data": {
      "application/vnd.jupyter.widget-view+json": {
       "model_id": "6bde81394634423ab7392833f1d6223e",
       "version_major": 2,
       "version_minor": 0
      },
      "text/plain": [
       "  0%|          | 0/8 [00:00<?, ?it/s]"
      ]
     },
     "metadata": {},
     "output_type": "display_data"
    },
    {
     "name": "stdout",
     "output_type": "stream",
     "text": [
      "Backtest metrics\n"
     ]
    },
    {
     "data": {
      "application/vnd.microsoft.datawrangler.viewer.v0+json": {
       "columns": [
        {
         "name": "index",
         "rawType": "int64",
         "type": "integer"
        },
        {
         "name": "levels",
         "rawType": "object",
         "type": "string"
        },
        {
         "name": "mean_absolute_error",
         "rawType": "float64",
         "type": "float"
        },
        {
         "name": "mean_squared_error",
         "rawType": "float64",
         "type": "float"
        },
        {
         "name": "mean_absolute_percentage_error",
         "rawType": "float64",
         "type": "float"
        },
        {
         "name": "mean_absolute_scaled_error",
         "rawType": "float64",
         "type": "float"
        }
       ],
       "conversionMethod": "pd.DataFrame",
       "ref": "1adcbc75-86b2-465c-96d1-97cec9cb980b",
       "rows": [
        [
         "0",
         "item_1",
         "1.163837065741761",
         "2.7486120797036055",
         "0.05758867460397516",
         "0.7624852839180684"
        ],
        [
         "1",
         "item_2",
         "2.634182420813472",
         "12.35866754214084",
         "0.17133482270654668",
         "1.1182617810536026"
        ],
        [
         "2",
         "item_3",
         "3.111350571720154",
         "16.09677158669809",
         "0.20066446332054133",
         "0.8401879435196712"
        ],
        [
         "3",
         "average",
         "2.3031233527584623",
         "10.40135040284751",
         "0.14319598687702106",
         "0.9069783361637808"
        ],
        [
         "4",
         "weighted_average",
         "2.3031233527584623",
         "10.40135040284751",
         "0.14319598687702106",
         "0.9069783361637807"
        ],
        [
         "5",
         "pooling",
         "2.3031233527584623",
         "10.40135040284751",
         "0.14319598687702104",
         "0.9109089675663897"
        ]
       ],
       "shape": {
        "columns": 5,
        "rows": 6
       }
      },
      "text/html": [
       "<div>\n",
       "<style scoped>\n",
       "    .dataframe tbody tr th:only-of-type {\n",
       "        vertical-align: middle;\n",
       "    }\n",
       "\n",
       "    .dataframe tbody tr th {\n",
       "        vertical-align: top;\n",
       "    }\n",
       "\n",
       "    .dataframe thead th {\n",
       "        text-align: right;\n",
       "    }\n",
       "</style>\n",
       "<table border=\"1\" class=\"dataframe\">\n",
       "  <thead>\n",
       "    <tr style=\"text-align: right;\">\n",
       "      <th></th>\n",
       "      <th>levels</th>\n",
       "      <th>mean_absolute_error</th>\n",
       "      <th>mean_squared_error</th>\n",
       "      <th>mean_absolute_percentage_error</th>\n",
       "      <th>mean_absolute_scaled_error</th>\n",
       "    </tr>\n",
       "  </thead>\n",
       "  <tbody>\n",
       "    <tr>\n",
       "      <th>0</th>\n",
       "      <td>item_1</td>\n",
       "      <td>1.163837</td>\n",
       "      <td>2.748612</td>\n",
       "      <td>0.057589</td>\n",
       "      <td>0.762485</td>\n",
       "    </tr>\n",
       "    <tr>\n",
       "      <th>1</th>\n",
       "      <td>item_2</td>\n",
       "      <td>2.634182</td>\n",
       "      <td>12.358668</td>\n",
       "      <td>0.171335</td>\n",
       "      <td>1.118262</td>\n",
       "    </tr>\n",
       "    <tr>\n",
       "      <th>2</th>\n",
       "      <td>item_3</td>\n",
       "      <td>3.111351</td>\n",
       "      <td>16.096772</td>\n",
       "      <td>0.200664</td>\n",
       "      <td>0.840188</td>\n",
       "    </tr>\n",
       "    <tr>\n",
       "      <th>3</th>\n",
       "      <td>average</td>\n",
       "      <td>2.303123</td>\n",
       "      <td>10.401350</td>\n",
       "      <td>0.143196</td>\n",
       "      <td>0.906978</td>\n",
       "    </tr>\n",
       "    <tr>\n",
       "      <th>4</th>\n",
       "      <td>weighted_average</td>\n",
       "      <td>2.303123</td>\n",
       "      <td>10.401350</td>\n",
       "      <td>0.143196</td>\n",
       "      <td>0.906978</td>\n",
       "    </tr>\n",
       "    <tr>\n",
       "      <th>5</th>\n",
       "      <td>pooling</td>\n",
       "      <td>2.303123</td>\n",
       "      <td>10.401350</td>\n",
       "      <td>0.143196</td>\n",
       "      <td>0.910909</td>\n",
       "    </tr>\n",
       "  </tbody>\n",
       "</table>\n",
       "</div>"
      ],
      "text/plain": [
       "             levels  mean_absolute_error  mean_squared_error  \\\n",
       "0            item_1             1.163837            2.748612   \n",
       "1            item_2             2.634182           12.358668   \n",
       "2            item_3             3.111351           16.096772   \n",
       "3           average             2.303123           10.401350   \n",
       "4  weighted_average             2.303123           10.401350   \n",
       "5           pooling             2.303123           10.401350   \n",
       "\n",
       "   mean_absolute_percentage_error  mean_absolute_scaled_error  \n",
       "0                        0.057589                    0.762485  \n",
       "1                        0.171335                    1.118262  \n",
       "2                        0.200664                    0.840188  \n",
       "3                        0.143196                    0.906978  \n",
       "4                        0.143196                    0.906978  \n",
       "5                        0.143196                    0.910909  "
      ]
     },
     "execution_count": 11,
     "metadata": {},
     "output_type": "execute_result"
    }
   ],
   "source": [
    "# Backtesting forecaster on multiple time series\n",
    "# ==============================================================================\n",
    "metrics = [\n",
    "    'mean_absolute_error',\n",
    "    'mean_squared_error',\n",
    "    'mean_absolute_percentage_error',\n",
    "    'mean_absolute_scaled_error'\n",
    "]\n",
    "\n",
    "cv = TimeSeriesFold(steps=24, initial_train_size=len(data_train))\n",
    "\n",
    "backtest_metrics, backtest_predictions = backtesting_forecaster_multiseries(\n",
    "    forecaster            = forecaster,\n",
    "    series                = data,\n",
    "    cv                    = cv,\n",
    "    levels                = None,\n",
    "    metric                = metrics,\n",
    "    add_aggregated_metric = True\n",
    ")\n",
    "\n",
    "print(\"Backtest metrics\")\n",
    "backtest_metrics"
   ]
  },
  {
   "cell_type": "code",
   "execution_count": 12,
   "metadata": {},
   "outputs": [
    {
     "name": "stdout",
     "output_type": "stream",
     "text": [
      "Backtest predictions\n"
     ]
    },
    {
     "data": {
      "application/vnd.microsoft.datawrangler.viewer.v0+json": {
       "columns": [
        {
         "name": "index",
         "rawType": "datetime64[ns]",
         "type": "datetime"
        },
        {
         "name": "level",
         "rawType": "object",
         "type": "string"
        },
        {
         "name": "pred",
         "rawType": "float64",
         "type": "float"
        }
       ],
       "conversionMethod": "pd.DataFrame",
       "ref": "f8951636-e3a9-44d9-8739-d1381c6fe35e",
       "rows": [
        [
         "2014-07-16 00:00:00",
         "item_1",
         "25.90632261269448"
        ],
        [
         "2014-07-16 00:00:00",
         "item_2",
         "10.522491115340877"
        ],
        [
         "2014-07-16 00:00:00",
         "item_3",
         "12.034586999422316"
        ],
        [
         "2014-07-17 00:00:00",
         "item_1",
         "25.80719354321116"
        ]
       ],
       "shape": {
        "columns": 2,
        "rows": 4
       }
      },
      "text/html": [
       "<div>\n",
       "<style scoped>\n",
       "    .dataframe tbody tr th:only-of-type {\n",
       "        vertical-align: middle;\n",
       "    }\n",
       "\n",
       "    .dataframe tbody tr th {\n",
       "        vertical-align: top;\n",
       "    }\n",
       "\n",
       "    .dataframe thead th {\n",
       "        text-align: right;\n",
       "    }\n",
       "</style>\n",
       "<table border=\"1\" class=\"dataframe\">\n",
       "  <thead>\n",
       "    <tr style=\"text-align: right;\">\n",
       "      <th></th>\n",
       "      <th>level</th>\n",
       "      <th>pred</th>\n",
       "    </tr>\n",
       "  </thead>\n",
       "  <tbody>\n",
       "    <tr>\n",
       "      <th>2014-07-16</th>\n",
       "      <td>item_1</td>\n",
       "      <td>25.906323</td>\n",
       "    </tr>\n",
       "    <tr>\n",
       "      <th>2014-07-16</th>\n",
       "      <td>item_2</td>\n",
       "      <td>10.522491</td>\n",
       "    </tr>\n",
       "    <tr>\n",
       "      <th>2014-07-16</th>\n",
       "      <td>item_3</td>\n",
       "      <td>12.034587</td>\n",
       "    </tr>\n",
       "    <tr>\n",
       "      <th>2014-07-17</th>\n",
       "      <td>item_1</td>\n",
       "      <td>25.807194</td>\n",
       "    </tr>\n",
       "  </tbody>\n",
       "</table>\n",
       "</div>"
      ],
      "text/plain": [
       "             level       pred\n",
       "2014-07-16  item_1  25.906323\n",
       "2014-07-16  item_2  10.522491\n",
       "2014-07-16  item_3  12.034587\n",
       "2014-07-17  item_1  25.807194"
      ]
     },
     "execution_count": 12,
     "metadata": {},
     "output_type": "execute_result"
    }
   ],
   "source": [
    "# Backtest predictions\n",
    "# ==============================================================================\n",
    "print(\"Backtest predictions\")\n",
    "backtest_predictions.head(4)"
   ]
  },
  {
   "cell_type": "markdown",
   "metadata": {},
   "source": [
    "When using the hyperparameter optimization functions, the metrics are computed for each level and then aggregated. The `aggregate_metric` argument determines the aggregation method(s) to be used. Some considerations when choosing the aggregation method are:\n",
    "\n",
    "+ 'average' and 'weighted_average' will be different if the number of predicted values is different for each series (level).\n",
    "\n",
    "+ When all series have the same number of predicted values, 'average', 'weighted_average' and 'pooling' are equivalent except for the case of scaled metrics (`mean_absolute_scaled_error`, `root_mean_squared_scaled_error`) as the naive forecast is calculated individually for each series.\n",
    "\n",
    "In this example, `metric = ['mean_absolute_scaled_error', 'root_mean_squared_scaled_error']` and `aggregate_metric = ['weighted_average', 'average', 'pooling']` so that the following metrics are calculated:\n",
    "\n",
    "+ mean_absolute_scaled_error__weighted_average, mean_absolute_scaled_error__average, mean_absolute_scaled_error__pooling\n",
    "\n",
    "+ root_mean_squared_scaled_error__weighted_average, root_mean_squared_scaled_error__average, root_mean_squared_scaled_error__pooling\n",
    "\n",
    "Since `return_best` is set to `True`, the best model is returned. The best model is the one that minimizes the metric obtained by the first specified metric and aggregation method, `mean_absolute_scaled_error__weighted_average`."
   ]
  },
  {
   "cell_type": "code",
   "execution_count": 13,
   "metadata": {},
   "outputs": [
    {
     "data": {
      "application/vnd.jupyter.widget-view+json": {
       "model_id": "b3e8ff436c8c4270bba90e218e67277e",
       "version_major": 2,
       "version_minor": 0
      },
      "text/plain": [
       "lags grid:   0%|          | 0/2 [00:00<?, ?it/s]"
      ]
     },
     "metadata": {},
     "output_type": "display_data"
    },
    {
     "data": {
      "application/vnd.jupyter.widget-view+json": {
       "model_id": "cdcbe3dafe72432b8073f11a186a72d2",
       "version_major": 2,
       "version_minor": 0
      },
      "text/plain": [
       "params grid:   0%|          | 0/4 [00:00<?, ?it/s]"
      ]
     },
     "metadata": {},
     "output_type": "display_data"
    },
    {
     "name": "stdout",
     "output_type": "stream",
     "text": [
      "`Forecaster` refitted using the best-found lags and parameters, and the whole data set: \n",
      "  Lags: [ 1  2  3  4  5  6  7  8  9 10 11 12 13 14 15 16 17 18 19 20 21 22 23 24\n",
      " 25 26 27 28 29 30 31 32 33 34 35 36 37 38 39 40 41 42 43 44 45 46 47 48] \n",
      "  Parameters: {'max_depth': 7, 'n_estimators': 20}\n",
      "  Backtesting metric: 0.8965371058488802\n",
      "  Levels: ['item_1', 'item_2', 'item_3']\n",
      "\n"
     ]
    },
    {
     "data": {
      "application/vnd.microsoft.datawrangler.viewer.v0+json": {
       "columns": [
        {
         "name": "index",
         "rawType": "int64",
         "type": "integer"
        },
        {
         "name": "levels",
         "rawType": "object",
         "type": "unknown"
        },
        {
         "name": "lags",
         "rawType": "object",
         "type": "unknown"
        },
        {
         "name": "lags_label",
         "rawType": "object",
         "type": "unknown"
        },
        {
         "name": "params",
         "rawType": "object",
         "type": "unknown"
        },
        {
         "name": "mean_absolute_scaled_error__weighted_average",
         "rawType": "float64",
         "type": "float"
        },
        {
         "name": "mean_absolute_scaled_error__average",
         "rawType": "float64",
         "type": "float"
        },
        {
         "name": "mean_absolute_scaled_error__pooling",
         "rawType": "float64",
         "type": "float"
        },
        {
         "name": "root_mean_squared_scaled_error__weighted_average",
         "rawType": "float64",
         "type": "float"
        },
        {
         "name": "root_mean_squared_scaled_error__average",
         "rawType": "float64",
         "type": "float"
        },
        {
         "name": "root_mean_squared_scaled_error__pooling",
         "rawType": "float64",
         "type": "float"
        },
        {
         "name": "max_depth",
         "rawType": "int64",
         "type": "integer"
        },
        {
         "name": "n_estimators",
         "rawType": "int64",
         "type": "integer"
        }
       ],
       "conversionMethod": "pd.DataFrame",
       "ref": "60dc5fd6-105a-4ae2-8268-c8042d72d022",
       "rows": [
        [
         "0",
         "['item_1', 'item_2', 'item_3']",
         "[ 1  2  3  4  5  6  7  8  9 10 11 12 13 14 15 16 17 18 19 20 21 22 23 24\n 25 26 27 28 29 30 31 32 33 34 35 36 37 38 39 40 41 42 43 44 45 46 47 48]",
         "[ 1  2  3  4  5  6  7  8  9 10 11 12 13 14 15 16 17 18 19 20 21 22 23 24\n 25 26 27 28 29 30 31 32 33 34 35 36 37 38 39 40 41 42 43 44 45 46 47 48]",
         "{'max_depth': 7, 'n_estimators': 20}",
         "0.8965371058488802",
         "0.8965371058488805",
         "0.8915854076111338",
         "0.8734903098791033",
         "0.8734903098791034",
         "0.8628158117398343",
         "7",
         "20"
        ],
        [
         "1",
         "['item_1', 'item_2', 'item_3']",
         "[ 1  2  3  4  5  6  7  8  9 10 11 12 13 14 15 16 17 18 19 20 21 22 23 24\n 25 26 27 28 29 30 31 32 33 34 35 36 37 38 39 40 41 42 43 44 45 46 47 48]",
         "[ 1  2  3  4  5  6  7  8  9 10 11 12 13 14 15 16 17 18 19 20 21 22 23 24\n 25 26 27 28 29 30 31 32 33 34 35 36 37 38 39 40 41 42 43 44 45 46 47 48]",
         "{'max_depth': 3, 'n_estimators': 20}",
         "0.9686971528209435",
         "0.9686971528209434",
         "0.9467633156288495",
         "0.927638505156485",
         "0.927638505156485",
         "0.8962541349725959",
         "3",
         "20"
        ],
        [
         "2",
         "['item_1', 'item_2', 'item_3']",
         "[ 1  2  3  4  5  6  7  8  9 10 11 12 13 14 15 16 17 18 19 20 21 22 23 24]",
         "[ 1  2  3  4  5  6  7  8  9 10 11 12 13 14 15 16 17 18 19 20 21 22 23 24]",
         "{'max_depth': 7, 'n_estimators': 20}",
         "0.9700854362344024",
         "0.9700854362344022",
         "0.9622753926269801",
         "0.9302726138117404",
         "0.9302726138117404",
         "0.9215225362611026",
         "7",
         "20"
        ],
        [
         "3",
         "['item_1', 'item_2', 'item_3']",
         "[ 1  2  3  4  5  6  7  8  9 10 11 12 13 14 15 16 17 18 19 20 21 22 23 24]",
         "[ 1  2  3  4  5  6  7  8  9 10 11 12 13 14 15 16 17 18 19 20 21 22 23 24]",
         "{'max_depth': 3, 'n_estimators': 20}",
         "0.9925908592437195",
         "0.9925908592437191",
         "0.9719357988246401",
         "0.9377598912965817",
         "0.9377598912965817",
         "0.9102797679686212",
         "3",
         "20"
        ],
        [
         "4",
         "['item_1', 'item_2', 'item_3']",
         "[ 1  2  3  4  5  6  7  8  9 10 11 12 13 14 15 16 17 18 19 20 21 22 23 24\n 25 26 27 28 29 30 31 32 33 34 35 36 37 38 39 40 41 42 43 44 45 46 47 48]",
         "[ 1  2  3  4  5  6  7  8  9 10 11 12 13 14 15 16 17 18 19 20 21 22 23 24\n 25 26 27 28 29 30 31 32 33 34 35 36 37 38 39 40 41 42 43 44 45 46 47 48]",
         "{'max_depth': 7, 'n_estimators': 10}",
         "1.2956259587545775",
         "1.2956259587545773",
         "1.2130492786862455",
         "1.1724348778779272",
         "1.1724348778779274",
         "1.0771389243233378",
         "7",
         "10"
        ],
        [
         "5",
         "['item_1', 'item_2', 'item_3']",
         "[ 1  2  3  4  5  6  7  8  9 10 11 12 13 14 15 16 17 18 19 20 21 22 23 24]",
         "[ 1  2  3  4  5  6  7  8  9 10 11 12 13 14 15 16 17 18 19 20 21 22 23 24]",
         "{'max_depth': 3, 'n_estimators': 10}",
         "1.3694249691179265",
         "1.3694249691179268",
         "1.292355809203352",
         "1.2374865357141018",
         "1.2374865357141018",
         "1.143031198648295",
         "3",
         "10"
        ],
        [
         "6",
         "['item_1', 'item_2', 'item_3']",
         "[ 1  2  3  4  5  6  7  8  9 10 11 12 13 14 15 16 17 18 19 20 21 22 23 24\n 25 26 27 28 29 30 31 32 33 34 35 36 37 38 39 40 41 42 43 44 45 46 47 48]",
         "[ 1  2  3  4  5  6  7  8  9 10 11 12 13 14 15 16 17 18 19 20 21 22 23 24\n 25 26 27 28 29 30 31 32 33 34 35 36 37 38 39 40 41 42 43 44 45 46 47 48]",
         "{'max_depth': 3, 'n_estimators': 10}",
         "1.3788193880852482",
         "1.3788193880852484",
         "1.291498759700922",
         "1.2440841624302619",
         "1.244084162430262",
         "1.140352601637662",
         "3",
         "10"
        ],
        [
         "7",
         "['item_1', 'item_2', 'item_3']",
         "[ 1  2  3  4  5  6  7  8  9 10 11 12 13 14 15 16 17 18 19 20 21 22 23 24]",
         "[ 1  2  3  4  5  6  7  8  9 10 11 12 13 14 15 16 17 18 19 20 21 22 23 24]",
         "{'max_depth': 7, 'n_estimators': 10}",
         "1.4101473004214575",
         "1.4101473004214573",
         "1.3176912082860555",
         "1.2776276218056997",
         "1.2776276218056999",
         "1.1724674714731067",
         "7",
         "10"
        ]
       ],
       "shape": {
        "columns": 12,
        "rows": 8
       }
      },
      "text/html": [
       "<div>\n",
       "<style scoped>\n",
       "    .dataframe tbody tr th:only-of-type {\n",
       "        vertical-align: middle;\n",
       "    }\n",
       "\n",
       "    .dataframe tbody tr th {\n",
       "        vertical-align: top;\n",
       "    }\n",
       "\n",
       "    .dataframe thead th {\n",
       "        text-align: right;\n",
       "    }\n",
       "</style>\n",
       "<table border=\"1\" class=\"dataframe\">\n",
       "  <thead>\n",
       "    <tr style=\"text-align: right;\">\n",
       "      <th></th>\n",
       "      <th>levels</th>\n",
       "      <th>lags</th>\n",
       "      <th>lags_label</th>\n",
       "      <th>params</th>\n",
       "      <th>mean_absolute_scaled_error__weighted_average</th>\n",
       "      <th>mean_absolute_scaled_error__average</th>\n",
       "      <th>mean_absolute_scaled_error__pooling</th>\n",
       "      <th>root_mean_squared_scaled_error__weighted_average</th>\n",
       "      <th>root_mean_squared_scaled_error__average</th>\n",
       "      <th>root_mean_squared_scaled_error__pooling</th>\n",
       "      <th>max_depth</th>\n",
       "      <th>n_estimators</th>\n",
       "    </tr>\n",
       "  </thead>\n",
       "  <tbody>\n",
       "    <tr>\n",
       "      <th>0</th>\n",
       "      <td>[item_1, item_2, item_3]</td>\n",
       "      <td>[1, 2, 3, 4, 5, 6, 7, 8, 9, 10, 11, 12, 13, 14...</td>\n",
       "      <td>[1, 2, 3, 4, 5, 6, 7, 8, 9, 10, 11, 12, 13, 14...</td>\n",
       "      <td>{'max_depth': 7, 'n_estimators': 20}</td>\n",
       "      <td>0.896537</td>\n",
       "      <td>0.896537</td>\n",
       "      <td>0.891585</td>\n",
       "      <td>0.873490</td>\n",
       "      <td>0.873490</td>\n",
       "      <td>0.862816</td>\n",
       "      <td>7</td>\n",
       "      <td>20</td>\n",
       "    </tr>\n",
       "    <tr>\n",
       "      <th>1</th>\n",
       "      <td>[item_1, item_2, item_3]</td>\n",
       "      <td>[1, 2, 3, 4, 5, 6, 7, 8, 9, 10, 11, 12, 13, 14...</td>\n",
       "      <td>[1, 2, 3, 4, 5, 6, 7, 8, 9, 10, 11, 12, 13, 14...</td>\n",
       "      <td>{'max_depth': 3, 'n_estimators': 20}</td>\n",
       "      <td>0.968697</td>\n",
       "      <td>0.968697</td>\n",
       "      <td>0.946763</td>\n",
       "      <td>0.927639</td>\n",
       "      <td>0.927639</td>\n",
       "      <td>0.896254</td>\n",
       "      <td>3</td>\n",
       "      <td>20</td>\n",
       "    </tr>\n",
       "    <tr>\n",
       "      <th>2</th>\n",
       "      <td>[item_1, item_2, item_3]</td>\n",
       "      <td>[1, 2, 3, 4, 5, 6, 7, 8, 9, 10, 11, 12, 13, 14...</td>\n",
       "      <td>[1, 2, 3, 4, 5, 6, 7, 8, 9, 10, 11, 12, 13, 14...</td>\n",
       "      <td>{'max_depth': 7, 'n_estimators': 20}</td>\n",
       "      <td>0.970085</td>\n",
       "      <td>0.970085</td>\n",
       "      <td>0.962275</td>\n",
       "      <td>0.930273</td>\n",
       "      <td>0.930273</td>\n",
       "      <td>0.921523</td>\n",
       "      <td>7</td>\n",
       "      <td>20</td>\n",
       "    </tr>\n",
       "    <tr>\n",
       "      <th>3</th>\n",
       "      <td>[item_1, item_2, item_3]</td>\n",
       "      <td>[1, 2, 3, 4, 5, 6, 7, 8, 9, 10, 11, 12, 13, 14...</td>\n",
       "      <td>[1, 2, 3, 4, 5, 6, 7, 8, 9, 10, 11, 12, 13, 14...</td>\n",
       "      <td>{'max_depth': 3, 'n_estimators': 20}</td>\n",
       "      <td>0.992591</td>\n",
       "      <td>0.992591</td>\n",
       "      <td>0.971936</td>\n",
       "      <td>0.937760</td>\n",
       "      <td>0.937760</td>\n",
       "      <td>0.910280</td>\n",
       "      <td>3</td>\n",
       "      <td>20</td>\n",
       "    </tr>\n",
       "    <tr>\n",
       "      <th>4</th>\n",
       "      <td>[item_1, item_2, item_3]</td>\n",
       "      <td>[1, 2, 3, 4, 5, 6, 7, 8, 9, 10, 11, 12, 13, 14...</td>\n",
       "      <td>[1, 2, 3, 4, 5, 6, 7, 8, 9, 10, 11, 12, 13, 14...</td>\n",
       "      <td>{'max_depth': 7, 'n_estimators': 10}</td>\n",
       "      <td>1.295626</td>\n",
       "      <td>1.295626</td>\n",
       "      <td>1.213049</td>\n",
       "      <td>1.172435</td>\n",
       "      <td>1.172435</td>\n",
       "      <td>1.077139</td>\n",
       "      <td>7</td>\n",
       "      <td>10</td>\n",
       "    </tr>\n",
       "    <tr>\n",
       "      <th>5</th>\n",
       "      <td>[item_1, item_2, item_3]</td>\n",
       "      <td>[1, 2, 3, 4, 5, 6, 7, 8, 9, 10, 11, 12, 13, 14...</td>\n",
       "      <td>[1, 2, 3, 4, 5, 6, 7, 8, 9, 10, 11, 12, 13, 14...</td>\n",
       "      <td>{'max_depth': 3, 'n_estimators': 10}</td>\n",
       "      <td>1.369425</td>\n",
       "      <td>1.369425</td>\n",
       "      <td>1.292356</td>\n",
       "      <td>1.237487</td>\n",
       "      <td>1.237487</td>\n",
       "      <td>1.143031</td>\n",
       "      <td>3</td>\n",
       "      <td>10</td>\n",
       "    </tr>\n",
       "    <tr>\n",
       "      <th>6</th>\n",
       "      <td>[item_1, item_2, item_3]</td>\n",
       "      <td>[1, 2, 3, 4, 5, 6, 7, 8, 9, 10, 11, 12, 13, 14...</td>\n",
       "      <td>[1, 2, 3, 4, 5, 6, 7, 8, 9, 10, 11, 12, 13, 14...</td>\n",
       "      <td>{'max_depth': 3, 'n_estimators': 10}</td>\n",
       "      <td>1.378819</td>\n",
       "      <td>1.378819</td>\n",
       "      <td>1.291499</td>\n",
       "      <td>1.244084</td>\n",
       "      <td>1.244084</td>\n",
       "      <td>1.140353</td>\n",
       "      <td>3</td>\n",
       "      <td>10</td>\n",
       "    </tr>\n",
       "    <tr>\n",
       "      <th>7</th>\n",
       "      <td>[item_1, item_2, item_3]</td>\n",
       "      <td>[1, 2, 3, 4, 5, 6, 7, 8, 9, 10, 11, 12, 13, 14...</td>\n",
       "      <td>[1, 2, 3, 4, 5, 6, 7, 8, 9, 10, 11, 12, 13, 14...</td>\n",
       "      <td>{'max_depth': 7, 'n_estimators': 10}</td>\n",
       "      <td>1.410147</td>\n",
       "      <td>1.410147</td>\n",
       "      <td>1.317691</td>\n",
       "      <td>1.277628</td>\n",
       "      <td>1.277628</td>\n",
       "      <td>1.172467</td>\n",
       "      <td>7</td>\n",
       "      <td>10</td>\n",
       "    </tr>\n",
       "  </tbody>\n",
       "</table>\n",
       "</div>"
      ],
      "text/plain": [
       "                     levels  \\\n",
       "0  [item_1, item_2, item_3]   \n",
       "1  [item_1, item_2, item_3]   \n",
       "2  [item_1, item_2, item_3]   \n",
       "3  [item_1, item_2, item_3]   \n",
       "4  [item_1, item_2, item_3]   \n",
       "5  [item_1, item_2, item_3]   \n",
       "6  [item_1, item_2, item_3]   \n",
       "7  [item_1, item_2, item_3]   \n",
       "\n",
       "                                                lags  \\\n",
       "0  [1, 2, 3, 4, 5, 6, 7, 8, 9, 10, 11, 12, 13, 14...   \n",
       "1  [1, 2, 3, 4, 5, 6, 7, 8, 9, 10, 11, 12, 13, 14...   \n",
       "2  [1, 2, 3, 4, 5, 6, 7, 8, 9, 10, 11, 12, 13, 14...   \n",
       "3  [1, 2, 3, 4, 5, 6, 7, 8, 9, 10, 11, 12, 13, 14...   \n",
       "4  [1, 2, 3, 4, 5, 6, 7, 8, 9, 10, 11, 12, 13, 14...   \n",
       "5  [1, 2, 3, 4, 5, 6, 7, 8, 9, 10, 11, 12, 13, 14...   \n",
       "6  [1, 2, 3, 4, 5, 6, 7, 8, 9, 10, 11, 12, 13, 14...   \n",
       "7  [1, 2, 3, 4, 5, 6, 7, 8, 9, 10, 11, 12, 13, 14...   \n",
       "\n",
       "                                          lags_label  \\\n",
       "0  [1, 2, 3, 4, 5, 6, 7, 8, 9, 10, 11, 12, 13, 14...   \n",
       "1  [1, 2, 3, 4, 5, 6, 7, 8, 9, 10, 11, 12, 13, 14...   \n",
       "2  [1, 2, 3, 4, 5, 6, 7, 8, 9, 10, 11, 12, 13, 14...   \n",
       "3  [1, 2, 3, 4, 5, 6, 7, 8, 9, 10, 11, 12, 13, 14...   \n",
       "4  [1, 2, 3, 4, 5, 6, 7, 8, 9, 10, 11, 12, 13, 14...   \n",
       "5  [1, 2, 3, 4, 5, 6, 7, 8, 9, 10, 11, 12, 13, 14...   \n",
       "6  [1, 2, 3, 4, 5, 6, 7, 8, 9, 10, 11, 12, 13, 14...   \n",
       "7  [1, 2, 3, 4, 5, 6, 7, 8, 9, 10, 11, 12, 13, 14...   \n",
       "\n",
       "                                 params  \\\n",
       "0  {'max_depth': 7, 'n_estimators': 20}   \n",
       "1  {'max_depth': 3, 'n_estimators': 20}   \n",
       "2  {'max_depth': 7, 'n_estimators': 20}   \n",
       "3  {'max_depth': 3, 'n_estimators': 20}   \n",
       "4  {'max_depth': 7, 'n_estimators': 10}   \n",
       "5  {'max_depth': 3, 'n_estimators': 10}   \n",
       "6  {'max_depth': 3, 'n_estimators': 10}   \n",
       "7  {'max_depth': 7, 'n_estimators': 10}   \n",
       "\n",
       "   mean_absolute_scaled_error__weighted_average  \\\n",
       "0                                      0.896537   \n",
       "1                                      0.968697   \n",
       "2                                      0.970085   \n",
       "3                                      0.992591   \n",
       "4                                      1.295626   \n",
       "5                                      1.369425   \n",
       "6                                      1.378819   \n",
       "7                                      1.410147   \n",
       "\n",
       "   mean_absolute_scaled_error__average  mean_absolute_scaled_error__pooling  \\\n",
       "0                             0.896537                             0.891585   \n",
       "1                             0.968697                             0.946763   \n",
       "2                             0.970085                             0.962275   \n",
       "3                             0.992591                             0.971936   \n",
       "4                             1.295626                             1.213049   \n",
       "5                             1.369425                             1.292356   \n",
       "6                             1.378819                             1.291499   \n",
       "7                             1.410147                             1.317691   \n",
       "\n",
       "   root_mean_squared_scaled_error__weighted_average  \\\n",
       "0                                          0.873490   \n",
       "1                                          0.927639   \n",
       "2                                          0.930273   \n",
       "3                                          0.937760   \n",
       "4                                          1.172435   \n",
       "5                                          1.237487   \n",
       "6                                          1.244084   \n",
       "7                                          1.277628   \n",
       "\n",
       "   root_mean_squared_scaled_error__average  \\\n",
       "0                                 0.873490   \n",
       "1                                 0.927639   \n",
       "2                                 0.930273   \n",
       "3                                 0.937760   \n",
       "4                                 1.172435   \n",
       "5                                 1.237487   \n",
       "6                                 1.244084   \n",
       "7                                 1.277628   \n",
       "\n",
       "   root_mean_squared_scaled_error__pooling  max_depth  n_estimators  \n",
       "0                                 0.862816          7            20  \n",
       "1                                 0.896254          3            20  \n",
       "2                                 0.921523          7            20  \n",
       "3                                 0.910280          3            20  \n",
       "4                                 1.077139          7            10  \n",
       "5                                 1.143031          3            10  \n",
       "6                                 1.140353          3            10  \n",
       "7                                 1.172467          7            10  "
      ]
     },
     "execution_count": 13,
     "metadata": {},
     "output_type": "execute_result"
    }
   ],
   "source": [
    "# Grid search Multi-Series\n",
    "# ==============================================================================\n",
    "forecaster = ForecasterRecursiveMultiSeries(\n",
    "                 regressor = LGBMRegressor(random_state=123, verbose=-1),\n",
    "                 lags      = 24,\n",
    "                 encoding  = 'ordinal'\n",
    "             )\n",
    "\n",
    "lags_grid = [24, 48]\n",
    "param_grid = {\n",
    "    'n_estimators': [10, 20],\n",
    "    'max_depth': [3, 7]\n",
    "}\n",
    "\n",
    "cv = TimeSeriesFold(steps=24, initial_train_size=len(data_train), refit=False)\n",
    "\n",
    "levels = ['item_1', 'item_2', 'item_3']\n",
    "\n",
    "results = grid_search_forecaster_multiseries(\n",
    "              forecaster       = forecaster,\n",
    "              series           = data,\n",
    "              lags_grid        = lags_grid,\n",
    "              param_grid       = param_grid,\n",
    "              cv               = cv,\n",
    "              levels           = levels,  # Same as levels = None\n",
    "              metric           = ['mean_absolute_scaled_error', 'root_mean_squared_scaled_error'],\n",
    "              aggregate_metric = ['weighted_average', 'average', 'pooling'],\n",
    "          )\n",
    "\n",
    "results"
   ]
  }
 ],
 "metadata": {
  "kernelspec": {
   "display_name": "skforecast_15_p12",
   "language": "python",
   "name": "python3"
  },
  "language_info": {
   "codemirror_mode": {
    "name": "ipython",
    "version": 3
   },
   "file_extension": ".py",
   "mimetype": "text/x-python",
   "name": "python",
   "nbconvert_exporter": "python",
   "pygments_lexer": "ipython3",
   "version": "3.12.9"
  }
 },
 "nbformat": 4,
 "nbformat_minor": 2
}
