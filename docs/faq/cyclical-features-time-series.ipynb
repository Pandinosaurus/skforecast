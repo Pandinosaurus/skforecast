{
 "cells": [
  {
   "attachments": {},
   "cell_type": "markdown",
   "metadata": {},
   "source": [
    "# Cyclical features in time series forecasting"
   ]
  },
  {
   "attachments": {},
   "cell_type": "markdown",
   "metadata": {},
   "source": [
    "Cyclical features play an important role in time series prediction because they capture recurring patterns or oscillations within a data set. These patterns repeat at fixed intervals, and the effective incorporation of cyclical features into a machine learning model requires careful preprocessing and feature engineering.\n",
    "\n",
    "Due to the circular nature of cyclical features, it is not recommended to use them directly as numerical inputs in a machine learning model. Instead, they should be encoded in a format that captures their cyclical behavior. There are several common encoding techniques:\n",
    "\n",
    "+ One-hot encoding: If the cyclical feature consists of distinct categories, such as seasons or months, one-hot encoding can be used. This approach creates binary variables for each category, allowing the model to understand the presence or absence of specific categories.\n",
    "\n",
    "+ Trigonometric coding: For periodic features such as time of day or day of the week, trigonometric functions such as sine and cosine can be used for coding. By mapping the cyclic feature onto a unit circle, these functions preserve the cyclic relationships. In addition, this method introduces only two additional features, making it an efficient coding technique.\n",
    "\n",
    "+ Basis functions: Basis functions are mathematical functions that span a vector space and can be used to represent other functions within that space. When using basis functions, the cyclic feature is transformed into a new set of features based on the selected basis functions. Some commonly used basis functions for encoding cyclic features include Fourier basis functions, B-spline basis functions, and Gaussian basis functions. B-splines are a way to approximate nonlinear functions using a piecewise combination of polynomials.\n",
    "\n",
    "By applying these encoding techniques, cyclic features can be effectively incorporated into a machine learning model, allowing it to capture and exploit the valuable recurring patterns present in time series data."
   ]
  },
  {
   "attachments": {},
   "cell_type": "markdown",
   "metadata": {},
   "source": [
    "<div class=\"admonition note\" name=\"html-admonition\" style=\"background: rgba(0,184,212,.1); padding-top: 0px; padding-bottom: 6px; border-radius: 8px; border-left: 8px solid #00b8d4; border-color: #00b8d4; padding-left: 10px; padding-right: 10px;\">\n",
    "\n",
    "<p class=\"title\">\n",
    "    <i style=\"font-size: 18px; color:#00b8d4;\"></i>\n",
    "    <b style=\"color: #00b8d4;\">&#9998 Note</b>\n",
    "</p>\n",
    "\n",
    "The following examples are inspired by <a href=\"https://scikit-learn.org/stable/auto_examples/applications/plot_cyclical_feature_engineering.html#sphx-glr-auto-examples-applications-plot-cyclical-feature-engineering-py\">Time-related feature engineering</a>, <a href=\"https://scikit-lego.netlify.app/preprocessing.html#Repeating-Basis-Function-Transformer\">scikit-lego’s documentation</a> and <a href=\"https://developer.nvidia.com/blog/three-approaches-to-encoding-time-information-as-features-for-ml-models/\">Three Approaches to Encoding Time Information as Features for ML Models By Eryk Lewinson</a>.\n",
    "\n",
    "</div>"
   ]
  },
  {
   "attachments": {},
   "cell_type": "markdown",
   "metadata": {},
   "source": [
    "## Libraries and data"
   ]
  },
  {
   "cell_type": "code",
   "execution_count": 1,
   "metadata": {
    "ExecuteTime": {
     "end_time": "2022-09-28T14:52:40.040628Z",
     "start_time": "2022-09-28T14:52:38.284162Z"
    }
   },
   "outputs": [],
   "source": [
    "# Data manipulation\n",
    "# ==============================================================================\n",
    "import numpy as np\n",
    "import pandas as pd\n",
    "\n",
    "# Plots\n",
    "# ==============================================================================\n",
    "import matplotlib.pyplot as plt\n",
    "plt.style.use('seaborn-v0_8-darkgrid')\n",
    "\n",
    "# Modelling and Forecasting\n",
    "# ==============================================================================\n",
    "from sklearn.ensemble import HistGradientBoostingRegressor\n",
    "from sklearn.preprocessing import FunctionTransformer\n",
    "from sklearn.preprocessing import OneHotEncoder\n",
    "from sklearn.preprocessing import SplineTransformer\n",
    "from sklearn.compose import make_column_transformer\n",
    "from sklego.preprocessing import RepeatingBasisFunction\n",
    "from skforecast.recursive import ForecasterRecursive\n",
    "from skforecast.model_selection import TimeSeriesFold\n",
    "from skforecast.model_selection import backtesting_forecaster"
   ]
  },
  {
   "cell_type": "code",
   "execution_count": 2,
   "metadata": {},
   "outputs": [
    {
     "data": {
      "text/html": [
       "<div>\n",
       "<style scoped>\n",
       "    .dataframe tbody tr th:only-of-type {\n",
       "        vertical-align: middle;\n",
       "    }\n",
       "\n",
       "    .dataframe tbody tr th {\n",
       "        vertical-align: top;\n",
       "    }\n",
       "\n",
       "    .dataframe thead th {\n",
       "        text-align: right;\n",
       "    }\n",
       "</style>\n",
       "<table border=\"1\" class=\"dataframe\">\n",
       "  <thead>\n",
       "    <tr style=\"text-align: right;\">\n",
       "      <th></th>\n",
       "      <th>y</th>\n",
       "      <th>month</th>\n",
       "    </tr>\n",
       "    <tr>\n",
       "      <th>date</th>\n",
       "      <th></th>\n",
       "      <th></th>\n",
       "    </tr>\n",
       "  </thead>\n",
       "  <tbody>\n",
       "    <tr>\n",
       "      <th>2020-01-01</th>\n",
       "      <td>2.928244</td>\n",
       "      <td>1</td>\n",
       "    </tr>\n",
       "    <tr>\n",
       "      <th>2020-01-02</th>\n",
       "      <td>4.866145</td>\n",
       "      <td>1</td>\n",
       "    </tr>\n",
       "    <tr>\n",
       "      <th>2020-01-03</th>\n",
       "      <td>4.425159</td>\n",
       "      <td>1</td>\n",
       "    </tr>\n",
       "  </tbody>\n",
       "</table>\n",
       "</div>"
      ],
      "text/plain": [
       "                   y  month\n",
       "date                       \n",
       "2020-01-01  2.928244      1\n",
       "2020-01-02  4.866145      1\n",
       "2020-01-03  4.425159      1"
      ]
     },
     "execution_count": 2,
     "metadata": {},
     "output_type": "execute_result"
    }
   ],
   "source": [
    "# Data simulation\n",
    "# ==============================================================================\n",
    "np.random.seed(123)\n",
    "dates = pd.date_range(start=\"2020-01-01\", end=\"2023-12-31\")\n",
    "data = pd.DataFrame(index=dates)\n",
    "data.index.name = \"date\"\n",
    "data[\"day_idx\"] = range(len(data))\n",
    "data['month'] = data.index.month\n",
    "\n",
    "# Create the components that will be combined to get the target series\n",
    "signal_1 = 3 + 4 * np.sin(data[\"day_idx\"] / 365 * 2 * np.pi)\n",
    "signal_2 = 3 * np.sin(data[\"day_idx\"] / 365 * 4 * np.pi + 365 / 2)\n",
    "noise = np.random.normal(0, 0.85, len(data))\n",
    "y = signal_1 + signal_2 + noise\n",
    "\n",
    "data[\"y\"] = y\n",
    "data = data[[\"y\", \"month\"]]\n",
    "data.head(3)"
   ]
  },
  {
   "cell_type": "code",
   "execution_count": 3,
   "metadata": {},
   "outputs": [
    {
     "name": "stdout",
     "output_type": "stream",
     "text": [
      "Dates train : 2020-01-01 00:00:00 --- 2022-06-30 00:00:00  (n=912)\n",
      "Dates test  : 2022-07-01 00:00:00 --- 2023-12-31 00:00:00  (n=549)\n"
     ]
    }
   ],
   "source": [
    "# Split train-test\n",
    "# ==============================================================================\n",
    "end_train = '2022-06-30 23:59:00'\n",
    "data_train = data.loc[: end_train, :]\n",
    "data_test  = data.loc[end_train:, :]\n",
    "\n",
    "print(f\"Dates train : {data_train.index.min()} --- {data_train.index.max()}  (n={len(data_train)})\")\n",
    "print(f\"Dates test  : {data_test.index.min()} --- {data_test.index.max()}  (n={len(data_test)})\")"
   ]
  },
  {
   "cell_type": "code",
   "execution_count": 4,
   "metadata": {},
   "outputs": [
    {
     "data": {
      "image/png": "[encoded data removed]",
      "text/plain": [
       "<Figure size 700x300 with 1 Axes>"
      ]
     },
     "metadata": {},
     "output_type": "display_data"
    }
   ],
   "source": [
    "# Plot time series\n",
    "# ==============================================================================\n",
    "fig, ax = plt.subplots(figsize=(7, 3))\n",
    "data_train['y'].plot(title=\"Time series\", label=\"train\", ax=ax)\n",
    "data_test['y'].plot(title=\"Time series\", label=\"test\", ax=ax)\n",
    "ax.legend();"
   ]
  },
  {
   "attachments": {},
   "cell_type": "markdown",
   "metadata": {},
   "source": [
    "## One hot encoding"
   ]
  },
  {
   "cell_type": "code",
   "execution_count": 5,
   "metadata": {},
   "outputs": [
    {
     "data": {
      "text/html": [
       "<div>\n",
       "<style scoped>\n",
       "    .dataframe tbody tr th:only-of-type {\n",
       "        vertical-align: middle;\n",
       "    }\n",
       "\n",
       "    .dataframe tbody tr th {\n",
       "        vertical-align: top;\n",
       "    }\n",
       "\n",
       "    .dataframe thead th {\n",
       "        text-align: right;\n",
       "    }\n",
       "</style>\n",
       "<table border=\"1\" class=\"dataframe\">\n",
       "  <thead>\n",
       "    <tr style=\"text-align: right;\">\n",
       "      <th></th>\n",
       "      <th>month_1</th>\n",
       "      <th>month_2</th>\n",
       "      <th>month_3</th>\n",
       "      <th>month_4</th>\n",
       "      <th>month_5</th>\n",
       "      <th>month_6</th>\n",
       "      <th>month_7</th>\n",
       "      <th>month_8</th>\n",
       "      <th>month_9</th>\n",
       "      <th>month_10</th>\n",
       "      <th>month_11</th>\n",
       "      <th>month_12</th>\n",
       "      <th>y</th>\n",
       "    </tr>\n",
       "    <tr>\n",
       "      <th>date</th>\n",
       "      <th></th>\n",
       "      <th></th>\n",
       "      <th></th>\n",
       "      <th></th>\n",
       "      <th></th>\n",
       "      <th></th>\n",
       "      <th></th>\n",
       "      <th></th>\n",
       "      <th></th>\n",
       "      <th></th>\n",
       "      <th></th>\n",
       "      <th></th>\n",
       "      <th></th>\n",
       "    </tr>\n",
       "  </thead>\n",
       "  <tbody>\n",
       "    <tr>\n",
       "      <th>2020-01-01</th>\n",
       "      <td>1.0</td>\n",
       "      <td>0.0</td>\n",
       "      <td>0.0</td>\n",
       "      <td>0.0</td>\n",
       "      <td>0.0</td>\n",
       "      <td>0.0</td>\n",
       "      <td>0.0</td>\n",
       "      <td>0.0</td>\n",
       "      <td>0.0</td>\n",
       "      <td>0.0</td>\n",
       "      <td>0.0</td>\n",
       "      <td>0.0</td>\n",
       "      <td>2.928244</td>\n",
       "    </tr>\n",
       "    <tr>\n",
       "      <th>2020-01-02</th>\n",
       "      <td>1.0</td>\n",
       "      <td>0.0</td>\n",
       "      <td>0.0</td>\n",
       "      <td>0.0</td>\n",
       "      <td>0.0</td>\n",
       "      <td>0.0</td>\n",
       "      <td>0.0</td>\n",
       "      <td>0.0</td>\n",
       "      <td>0.0</td>\n",
       "      <td>0.0</td>\n",
       "      <td>0.0</td>\n",
       "      <td>0.0</td>\n",
       "      <td>4.866145</td>\n",
       "    </tr>\n",
       "    <tr>\n",
       "      <th>2020-01-03</th>\n",
       "      <td>1.0</td>\n",
       "      <td>0.0</td>\n",
       "      <td>0.0</td>\n",
       "      <td>0.0</td>\n",
       "      <td>0.0</td>\n",
       "      <td>0.0</td>\n",
       "      <td>0.0</td>\n",
       "      <td>0.0</td>\n",
       "      <td>0.0</td>\n",
       "      <td>0.0</td>\n",
       "      <td>0.0</td>\n",
       "      <td>0.0</td>\n",
       "      <td>4.425159</td>\n",
       "    </tr>\n",
       "  </tbody>\n",
       "</table>\n",
       "</div>"
      ],
      "text/plain": [
       "            month_1  month_2  month_3  month_4  month_5  month_6  month_7  \\\n",
       "date                                                                        \n",
       "2020-01-01      1.0      0.0      0.0      0.0      0.0      0.0      0.0   \n",
       "2020-01-02      1.0      0.0      0.0      0.0      0.0      0.0      0.0   \n",
       "2020-01-03      1.0      0.0      0.0      0.0      0.0      0.0      0.0   \n",
       "\n",
       "            month_8  month_9  month_10  month_11  month_12         y  \n",
       "date                                                                  \n",
       "2020-01-01      0.0      0.0       0.0       0.0       0.0  2.928244  \n",
       "2020-01-02      0.0      0.0       0.0       0.0       0.0  4.866145  \n",
       "2020-01-03      0.0      0.0       0.0       0.0       0.0  4.425159  "
      ]
     },
     "execution_count": 5,
     "metadata": {},
     "output_type": "execute_result"
    }
   ],
   "source": [
    "# One hot encoding of week_day and hour_day\n",
    "# ==============================================================================\n",
    "one_hot_encoder = make_column_transformer(\n",
    "                      (\n",
    "                          OneHotEncoder(sparse_output=False, drop='if_binary'),\n",
    "                          ['month'],\n",
    "                      ),\n",
    "                      remainder=\"passthrough\",\n",
    "                      verbose_feature_names_out=False,\n",
    "                  ).set_output(transform=\"pandas\")\n",
    "\n",
    "data_encoded_oh = one_hot_encoder.fit_transform(data)\n",
    "data_encoded_oh.head(3)"
   ]
  },
  {
   "attachments": {},
   "cell_type": "markdown",
   "metadata": {},
   "source": [
    "## Cyclical encoding with sine/cosine transformation"
   ]
  },
  {
   "cell_type": "code",
   "execution_count": 6,
   "metadata": {},
   "outputs": [
    {
     "data": {
      "text/html": [
       "<div>\n",
       "<style scoped>\n",
       "    .dataframe tbody tr th:only-of-type {\n",
       "        vertical-align: middle;\n",
       "    }\n",
       "\n",
       "    .dataframe tbody tr th {\n",
       "        vertical-align: top;\n",
       "    }\n",
       "\n",
       "    .dataframe thead th {\n",
       "        text-align: right;\n",
       "    }\n",
       "</style>\n",
       "<table border=\"1\" class=\"dataframe\">\n",
       "  <thead>\n",
       "    <tr style=\"text-align: right;\">\n",
       "      <th></th>\n",
       "      <th>y</th>\n",
       "      <th>month</th>\n",
       "      <th>month_sin</th>\n",
       "      <th>month_cos</th>\n",
       "    </tr>\n",
       "    <tr>\n",
       "      <th>date</th>\n",
       "      <th></th>\n",
       "      <th></th>\n",
       "      <th></th>\n",
       "      <th></th>\n",
       "    </tr>\n",
       "  </thead>\n",
       "  <tbody>\n",
       "    <tr>\n",
       "      <th>2020-01-01</th>\n",
       "      <td>2.928244</td>\n",
       "      <td>1</td>\n",
       "      <td>0.5</td>\n",
       "      <td>0.866025</td>\n",
       "    </tr>\n",
       "    <tr>\n",
       "      <th>2020-01-02</th>\n",
       "      <td>4.866145</td>\n",
       "      <td>1</td>\n",
       "      <td>0.5</td>\n",
       "      <td>0.866025</td>\n",
       "    </tr>\n",
       "    <tr>\n",
       "      <th>2020-01-03</th>\n",
       "      <td>4.425159</td>\n",
       "      <td>1</td>\n",
       "      <td>0.5</td>\n",
       "      <td>0.866025</td>\n",
       "    </tr>\n",
       "    <tr>\n",
       "      <th>2020-01-04</th>\n",
       "      <td>3.069222</td>\n",
       "      <td>1</td>\n",
       "      <td>0.5</td>\n",
       "      <td>0.866025</td>\n",
       "    </tr>\n",
       "    <tr>\n",
       "      <th>2020-01-05</th>\n",
       "      <td>4.021290</td>\n",
       "      <td>1</td>\n",
       "      <td>0.5</td>\n",
       "      <td>0.866025</td>\n",
       "    </tr>\n",
       "  </tbody>\n",
       "</table>\n",
       "</div>"
      ],
      "text/plain": [
       "                   y  month  month_sin  month_cos\n",
       "date                                             \n",
       "2020-01-01  2.928244      1        0.5   0.866025\n",
       "2020-01-02  4.866145      1        0.5   0.866025\n",
       "2020-01-03  4.425159      1        0.5   0.866025\n",
       "2020-01-04  3.069222      1        0.5   0.866025\n",
       "2020-01-05  4.021290      1        0.5   0.866025"
      ]
     },
     "execution_count": 6,
     "metadata": {},
     "output_type": "execute_result"
    }
   ],
   "source": [
    "# Cyclical encoding with sine/cosine transformation\n",
    "# ==============================================================================\n",
    "def sin_transformer(period):\n",
    "\t\"\"\"\n",
    "\tReturns a transformer that applies sine transformation to a variable using\n",
    "\tthe specified period.\n",
    "\t\"\"\"\n",
    "\treturn FunctionTransformer(lambda x: np.sin(x / period * 2 * np.pi))\n",
    "\n",
    "def cos_transformer(period):\n",
    "\t\"\"\"\n",
    "\tReturns a transformer that applies cosine transformation to a variable using\n",
    "\tthe specified period.\n",
    "\t\"\"\"\n",
    "\treturn FunctionTransformer(lambda x: np.cos(x / period * 2 * np.pi))\n",
    "\n",
    "data_encoded_sin_cos = data.copy()\n",
    "data_encoded_sin_cos[\"month_sin\"] = sin_transformer(12).fit_transform(data_encoded_sin_cos['month'])\n",
    "data_encoded_sin_cos[\"month_cos\"] = cos_transformer(12).fit_transform(data_encoded_sin_cos['month'])\n",
    "data_encoded_sin_cos.head()"
   ]
  },
  {
   "cell_type": "code",
   "execution_count": 7,
   "metadata": {},
   "outputs": [
    {
     "data": {
      "image/png": "[encoded data removed]",
      "text/plain": [
       "<Figure size 400x350 with 2 Axes>"
      ]
     },
     "metadata": {},
     "output_type": "display_data"
    }
   ],
   "source": [
    "# Plot of the transformation\n",
    "# ==============================================================================\n",
    "fig, ax = plt.subplots(figsize=(4., 3.5))\n",
    "sp = ax.scatter(\n",
    "        data_encoded_sin_cos[\"month_sin\"],\n",
    "        data_encoded_sin_cos[\"month_cos\"],\n",
    "        c=data_encoded_sin_cos[\"month\"],\n",
    "        cmap='viridis'\n",
    "     )\n",
    "ax.set(\n",
    "    xlabel=\"sin(month)\",\n",
    "    ylabel=\"cos(month)\",\n",
    ")\n",
    "_ = fig.colorbar(sp)\n",
    "data_encoded_sin_cos = data_encoded_sin_cos.drop(columns='month')"
   ]
  },
  {
   "attachments": {},
   "cell_type": "markdown",
   "metadata": {},
   "source": [
    "## B-splines functions"
   ]
  },
  {
   "cell_type": "code",
   "execution_count": 8,
   "metadata": {},
   "outputs": [
    {
     "data": {
      "text/html": [
       "<div>\n",
       "<style scoped>\n",
       "    .dataframe tbody tr th:only-of-type {\n",
       "        vertical-align: middle;\n",
       "    }\n",
       "\n",
       "    .dataframe tbody tr th {\n",
       "        vertical-align: top;\n",
       "    }\n",
       "\n",
       "    .dataframe thead th {\n",
       "        text-align: right;\n",
       "    }\n",
       "</style>\n",
       "<table border=\"1\" class=\"dataframe\">\n",
       "  <thead>\n",
       "    <tr style=\"text-align: right;\">\n",
       "      <th></th>\n",
       "      <th>y</th>\n",
       "      <th>month</th>\n",
       "      <th>day_of_year</th>\n",
       "    </tr>\n",
       "    <tr>\n",
       "      <th>date</th>\n",
       "      <th></th>\n",
       "      <th></th>\n",
       "      <th></th>\n",
       "    </tr>\n",
       "  </thead>\n",
       "  <tbody>\n",
       "    <tr>\n",
       "      <th>2020-01-01</th>\n",
       "      <td>2.928244</td>\n",
       "      <td>1</td>\n",
       "      <td>1</td>\n",
       "    </tr>\n",
       "    <tr>\n",
       "      <th>2020-01-02</th>\n",
       "      <td>4.866145</td>\n",
       "      <td>1</td>\n",
       "      <td>2</td>\n",
       "    </tr>\n",
       "    <tr>\n",
       "      <th>2020-01-03</th>\n",
       "      <td>4.425159</td>\n",
       "      <td>1</td>\n",
       "      <td>3</td>\n",
       "    </tr>\n",
       "  </tbody>\n",
       "</table>\n",
       "</div>"
      ],
      "text/plain": [
       "                   y  month  day_of_year\n",
       "date                                    \n",
       "2020-01-01  2.928244      1            1\n",
       "2020-01-02  4.866145      1            2\n",
       "2020-01-03  4.425159      1            3"
      ]
     },
     "execution_count": 8,
     "metadata": {},
     "output_type": "execute_result"
    }
   ],
   "source": [
    "# Create feature day of year\n",
    "# ==============================================================================\n",
    "data['day_of_year'] = data.index.day_of_year\n",
    "data.head(3)"
   ]
  },
  {
   "cell_type": "code",
   "execution_count": 9,
   "metadata": {},
   "outputs": [],
   "source": [
    "# B-spline functions\n",
    "# ==============================================================================\n",
    "def spline_transformer(period, degree=3, extrapolation=\"periodic\"):\n",
    "    \"\"\"\n",
    "    Returns a transformer that applies B-spline transformation.\n",
    "    \"\"\"\n",
    "    return SplineTransformer(\n",
    "               degree        = degree,\n",
    "               n_knots       = period + 1,\n",
    "               knots         = 'uniform',\n",
    "               extrapolation = extrapolation,\n",
    "               include_bias  = True\n",
    "           ).set_output(transform=\"pandas\")\n",
    "\n",
    "splines_month = spline_transformer(period=12).fit_transform(data[['day_of_year']])\n",
    "splines_month.columns = [f\"spline{i}\" for i in range(len(splines_month.columns))]"
   ]
  },
  {
   "attachments": {},
   "cell_type": "markdown",
   "metadata": {},
   "source": [
    "The graph below shows the 12 spline functions generated using the day of the year as input. Since 12 splines are created with knots evenly distributed along the range 1 to 365 (day_of_year), each curve represents the proximity to the beginning of a particular month."
   ]
  },
  {
   "cell_type": "code",
   "execution_count": 10,
   "metadata": {},
   "outputs": [
    {
     "data": {
      "text/plain": [
       "spline0    2020-12-01\n",
       "spline1    2020-01-01\n",
       "spline2    2020-01-31\n",
       "spline3    2020-03-02\n",
       "spline4    2020-04-01\n",
       "spline5    2020-05-02\n",
       "spline6    2020-06-01\n",
       "spline7    2020-07-02\n",
       "spline8    2020-08-01\n",
       "spline9    2020-08-31\n",
       "spline10   2020-10-01\n",
       "spline11   2020-10-31\n",
       "dtype: datetime64[ns]"
      ]
     },
     "execution_count": 10,
     "metadata": {},
     "output_type": "execute_result"
    }
   ],
   "source": [
    "# Location of the maximum value of each spline\n",
    "# ==============================================================================\n",
    "splines_month.idxmax()"
   ]
  },
  {
   "cell_type": "code",
   "execution_count": 11,
   "metadata": {},
   "outputs": [
    {
     "name": "stderr",
     "output_type": "stream",
     "text": [
      "C:\\Users\\jaesc2\\AppData\\Local\\Temp\\ipykernel_28108\\1440543275.py:4: UserWarning: To output multiple subplots, the figure containing the passed axes is being cleared.\n",
      "  splines_month.head(365).plot(\n"
     ]
    },
    {
     "data": {
      "image/png": "[encoded data removed]",
      "text/plain": [
       "<Figure size 700x400 with 12 Axes>"
      ]
     },
     "metadata": {},
     "output_type": "display_data"
    }
   ],
   "source": [
    "# Plot of the B-splines functions for the first 365 days\n",
    "# ==============================================================================\n",
    "fig, ax = plt.subplots(figsize=(7, 4))\n",
    "splines_month.head(365).plot(\n",
    "    ax       = ax,\n",
    "    subplots = True,\n",
    "    sharex   = True,\n",
    "    legend   = False,\n",
    "    yticks   = [],\n",
    "    title    = 'Splines functions for the first 365 days'\n",
    ");"
   ]
  },
  {
   "cell_type": "code",
   "execution_count": 12,
   "metadata": {},
   "outputs": [
    {
     "data": {
      "text/html": [
       "<div>\n",
       "<style scoped>\n",
       "    .dataframe tbody tr th:only-of-type {\n",
       "        vertical-align: middle;\n",
       "    }\n",
       "\n",
       "    .dataframe tbody tr th {\n",
       "        vertical-align: top;\n",
       "    }\n",
       "\n",
       "    .dataframe thead th {\n",
       "        text-align: right;\n",
       "    }\n",
       "</style>\n",
       "<table border=\"1\" class=\"dataframe\">\n",
       "  <thead>\n",
       "    <tr style=\"text-align: right;\">\n",
       "      <th></th>\n",
       "      <th>y</th>\n",
       "      <th>spline0</th>\n",
       "      <th>spline1</th>\n",
       "      <th>spline2</th>\n",
       "      <th>spline3</th>\n",
       "      <th>spline4</th>\n",
       "      <th>spline5</th>\n",
       "      <th>spline6</th>\n",
       "      <th>spline7</th>\n",
       "      <th>spline8</th>\n",
       "      <th>spline9</th>\n",
       "      <th>spline10</th>\n",
       "      <th>spline11</th>\n",
       "    </tr>\n",
       "    <tr>\n",
       "      <th>date</th>\n",
       "      <th></th>\n",
       "      <th></th>\n",
       "      <th></th>\n",
       "      <th></th>\n",
       "      <th></th>\n",
       "      <th></th>\n",
       "      <th></th>\n",
       "      <th></th>\n",
       "      <th></th>\n",
       "      <th></th>\n",
       "      <th></th>\n",
       "      <th></th>\n",
       "      <th></th>\n",
       "    </tr>\n",
       "  </thead>\n",
       "  <tbody>\n",
       "    <tr>\n",
       "      <th>2020-01-01</th>\n",
       "      <td>2.928244</td>\n",
       "      <td>0.166667</td>\n",
       "      <td>0.666667</td>\n",
       "      <td>0.166667</td>\n",
       "      <td>0.000000</td>\n",
       "      <td>0.0</td>\n",
       "      <td>0.0</td>\n",
       "      <td>0.0</td>\n",
       "      <td>0.0</td>\n",
       "      <td>0.0</td>\n",
       "      <td>0.0</td>\n",
       "      <td>0.0</td>\n",
       "      <td>0.0</td>\n",
       "    </tr>\n",
       "    <tr>\n",
       "      <th>2020-01-02</th>\n",
       "      <td>4.866145</td>\n",
       "      <td>0.150763</td>\n",
       "      <td>0.665604</td>\n",
       "      <td>0.183628</td>\n",
       "      <td>0.000006</td>\n",
       "      <td>0.0</td>\n",
       "      <td>0.0</td>\n",
       "      <td>0.0</td>\n",
       "      <td>0.0</td>\n",
       "      <td>0.0</td>\n",
       "      <td>0.0</td>\n",
       "      <td>0.0</td>\n",
       "      <td>0.0</td>\n",
       "    </tr>\n",
       "    <tr>\n",
       "      <th>2020-01-03</th>\n",
       "      <td>4.425159</td>\n",
       "      <td>0.135904</td>\n",
       "      <td>0.662485</td>\n",
       "      <td>0.201563</td>\n",
       "      <td>0.000047</td>\n",
       "      <td>0.0</td>\n",
       "      <td>0.0</td>\n",
       "      <td>0.0</td>\n",
       "      <td>0.0</td>\n",
       "      <td>0.0</td>\n",
       "      <td>0.0</td>\n",
       "      <td>0.0</td>\n",
       "      <td>0.0</td>\n",
       "    </tr>\n",
       "  </tbody>\n",
       "</table>\n",
       "</div>"
      ],
      "text/plain": [
       "                   y   spline0   spline1   spline2   spline3  spline4  \\\n",
       "date                                                                    \n",
       "2020-01-01  2.928244  0.166667  0.666667  0.166667  0.000000      0.0   \n",
       "2020-01-02  4.866145  0.150763  0.665604  0.183628  0.000006      0.0   \n",
       "2020-01-03  4.425159  0.135904  0.662485  0.201563  0.000047      0.0   \n",
       "\n",
       "            spline5  spline6  spline7  spline8  spline9  spline10  spline11  \n",
       "date                                                                         \n",
       "2020-01-01      0.0      0.0      0.0      0.0      0.0       0.0       0.0  \n",
       "2020-01-02      0.0      0.0      0.0      0.0      0.0       0.0       0.0  \n",
       "2020-01-03      0.0      0.0      0.0      0.0      0.0       0.0       0.0  "
      ]
     },
     "execution_count": 12,
     "metadata": {},
     "output_type": "execute_result"
    }
   ],
   "source": [
    "# Encoded data\n",
    "# ==============================================================================\n",
    "data_encoded_splines = pd.concat([data, splines_month], axis=1)\n",
    "data_encoded_splines = data_encoded_splines.drop(columns=['day_of_year', 'month'])\n",
    "data_encoded_splines.head(3)"
   ]
  },
  {
   "attachments": {},
   "cell_type": "markdown",
   "metadata": {},
   "source": [
    "## Radial basis functions (RBF)\n",
    "\n",
    "The same encoding can be done using the `RepeatingBasisFunction` transformer from scikit-lego. The transformer is used to encode the day of the year into 12 radial basis functions."
   ]
  },
  {
   "cell_type": "code",
   "execution_count": 13,
   "metadata": {},
   "outputs": [
    {
     "data": {
      "text/html": [
       "<div>\n",
       "<style scoped>\n",
       "    .dataframe tbody tr th:only-of-type {\n",
       "        vertical-align: middle;\n",
       "    }\n",
       "\n",
       "    .dataframe tbody tr th {\n",
       "        vertical-align: top;\n",
       "    }\n",
       "\n",
       "    .dataframe thead th {\n",
       "        text-align: right;\n",
       "    }\n",
       "</style>\n",
       "<table border=\"1\" class=\"dataframe\">\n",
       "  <thead>\n",
       "    <tr style=\"text-align: right;\">\n",
       "      <th></th>\n",
       "      <th>rbf_0</th>\n",
       "      <th>rbf_1</th>\n",
       "      <th>rbf_2</th>\n",
       "      <th>rbf_3</th>\n",
       "      <th>rbf_4</th>\n",
       "      <th>rbf_5</th>\n",
       "      <th>rbf_6</th>\n",
       "      <th>rbf_7</th>\n",
       "      <th>rbf_8</th>\n",
       "      <th>rbf_9</th>\n",
       "      <th>rbf_10</th>\n",
       "      <th>rbf_11</th>\n",
       "    </tr>\n",
       "    <tr>\n",
       "      <th>date</th>\n",
       "      <th></th>\n",
       "      <th></th>\n",
       "      <th></th>\n",
       "      <th></th>\n",
       "      <th></th>\n",
       "      <th></th>\n",
       "      <th></th>\n",
       "      <th></th>\n",
       "      <th></th>\n",
       "      <th></th>\n",
       "      <th></th>\n",
       "      <th></th>\n",
       "    </tr>\n",
       "  </thead>\n",
       "  <tbody>\n",
       "    <tr>\n",
       "      <th>2020-01-01</th>\n",
       "      <td>1.000000</td>\n",
       "      <td>0.367879</td>\n",
       "      <td>0.018316</td>\n",
       "      <td>0.000123</td>\n",
       "      <td>1.125352e-07</td>\n",
       "      <td>1.388794e-11</td>\n",
       "      <td>2.319523e-16</td>\n",
       "      <td>1.388794e-11</td>\n",
       "      <td>1.125352e-07</td>\n",
       "      <td>0.000123</td>\n",
       "      <td>0.018316</td>\n",
       "      <td>0.367879</td>\n",
       "    </tr>\n",
       "    <tr>\n",
       "      <th>2020-01-02</th>\n",
       "      <td>0.998920</td>\n",
       "      <td>0.392457</td>\n",
       "      <td>0.020867</td>\n",
       "      <td>0.000150</td>\n",
       "      <td>1.462326e-07</td>\n",
       "      <td>1.927304e-11</td>\n",
       "      <td>3.437695e-16</td>\n",
       "      <td>9.985890e-12</td>\n",
       "      <td>8.641586e-08</td>\n",
       "      <td>0.000101</td>\n",
       "      <td>0.016041</td>\n",
       "      <td>0.344096</td>\n",
       "    </tr>\n",
       "    <tr>\n",
       "      <th>2020-01-03</th>\n",
       "      <td>0.995686</td>\n",
       "      <td>0.417773</td>\n",
       "      <td>0.023723</td>\n",
       "      <td>0.000182</td>\n",
       "      <td>1.896101e-07</td>\n",
       "      <td>2.668848e-11</td>\n",
       "      <td>5.083902e-16</td>\n",
       "      <td>7.164680e-12</td>\n",
       "      <td>6.621552e-08</td>\n",
       "      <td>0.000083</td>\n",
       "      <td>0.014019</td>\n",
       "      <td>0.321155</td>\n",
       "    </tr>\n",
       "  </tbody>\n",
       "</table>\n",
       "</div>"
      ],
      "text/plain": [
       "               rbf_0     rbf_1     rbf_2     rbf_3         rbf_4  \\\n",
       "date                                                               \n",
       "2020-01-01  1.000000  0.367879  0.018316  0.000123  1.125352e-07   \n",
       "2020-01-02  0.998920  0.392457  0.020867  0.000150  1.462326e-07   \n",
       "2020-01-03  0.995686  0.417773  0.023723  0.000182  1.896101e-07   \n",
       "\n",
       "                   rbf_5         rbf_6         rbf_7         rbf_8     rbf_9  \\\n",
       "date                                                                           \n",
       "2020-01-01  1.388794e-11  2.319523e-16  1.388794e-11  1.125352e-07  0.000123   \n",
       "2020-01-02  1.927304e-11  3.437695e-16  9.985890e-12  8.641586e-08  0.000101   \n",
       "2020-01-03  2.668848e-11  5.083902e-16  7.164680e-12  6.621552e-08  0.000083   \n",
       "\n",
       "              rbf_10    rbf_11  \n",
       "date                            \n",
       "2020-01-01  0.018316  0.367879  \n",
       "2020-01-02  0.016041  0.344096  \n",
       "2020-01-03  0.014019  0.321155  "
      ]
     },
     "execution_count": 13,
     "metadata": {},
     "output_type": "execute_result"
    }
   ],
   "source": [
    "# Radial basis functions\n",
    "# ==============================================================================\n",
    "rbf = RepeatingBasisFunction(\n",
    "          n_periods   = 12,\n",
    "          remainder   = 'drop',\n",
    "          column      = 'day_of_year',\n",
    "          input_range = (1, 366)\n",
    "      )\n",
    "rbf_month = rbf.fit_transform(data[['day_of_year']])\n",
    "rbf_month = pd.DataFrame(\n",
    "                data    = rbf_month,\n",
    "                index   = data.index,\n",
    "                columns = [f\"rbf_{i}\" for i in range(rbf_month.shape[1])]\n",
    "            )\n",
    "rbf_month.head(3)"
   ]
  },
  {
   "cell_type": "code",
   "execution_count": 14,
   "metadata": {},
   "outputs": [
    {
     "data": {
      "text/plain": [
       "rbf_0    2020-01-01\n",
       "rbf_1    2020-01-31\n",
       "rbf_2    2020-03-02\n",
       "rbf_3    2020-04-01\n",
       "rbf_4    2020-05-02\n",
       "rbf_5    2020-06-01\n",
       "rbf_6    2020-07-01\n",
       "rbf_7    2020-08-01\n",
       "rbf_8    2020-08-31\n",
       "rbf_9    2020-10-01\n",
       "rbf_10   2020-10-31\n",
       "rbf_11   2020-12-01\n",
       "dtype: datetime64[ns]"
      ]
     },
     "execution_count": 14,
     "metadata": {},
     "output_type": "execute_result"
    }
   ],
   "source": [
    "# Location of the maximum value of each rbf\n",
    "# ==============================================================================\n",
    "rbf_month.idxmax()"
   ]
  },
  {
   "cell_type": "code",
   "execution_count": 15,
   "metadata": {},
   "outputs": [
    {
     "data": {
      "text/html": [
       "<div>\n",
       "<style scoped>\n",
       "    .dataframe tbody tr th:only-of-type {\n",
       "        vertical-align: middle;\n",
       "    }\n",
       "\n",
       "    .dataframe tbody tr th {\n",
       "        vertical-align: top;\n",
       "    }\n",
       "\n",
       "    .dataframe thead th {\n",
       "        text-align: right;\n",
       "    }\n",
       "</style>\n",
       "<table border=\"1\" class=\"dataframe\">\n",
       "  <thead>\n",
       "    <tr style=\"text-align: right;\">\n",
       "      <th></th>\n",
       "      <th>y</th>\n",
       "      <th>rbf_0</th>\n",
       "      <th>rbf_1</th>\n",
       "      <th>rbf_2</th>\n",
       "      <th>rbf_3</th>\n",
       "      <th>rbf_4</th>\n",
       "      <th>rbf_5</th>\n",
       "      <th>rbf_6</th>\n",
       "      <th>rbf_7</th>\n",
       "      <th>rbf_8</th>\n",
       "      <th>rbf_9</th>\n",
       "      <th>rbf_10</th>\n",
       "      <th>rbf_11</th>\n",
       "    </tr>\n",
       "    <tr>\n",
       "      <th>date</th>\n",
       "      <th></th>\n",
       "      <th></th>\n",
       "      <th></th>\n",
       "      <th></th>\n",
       "      <th></th>\n",
       "      <th></th>\n",
       "      <th></th>\n",
       "      <th></th>\n",
       "      <th></th>\n",
       "      <th></th>\n",
       "      <th></th>\n",
       "      <th></th>\n",
       "      <th></th>\n",
       "    </tr>\n",
       "  </thead>\n",
       "  <tbody>\n",
       "    <tr>\n",
       "      <th>2020-01-01</th>\n",
       "      <td>2.928244</td>\n",
       "      <td>1.000000</td>\n",
       "      <td>0.367879</td>\n",
       "      <td>0.018316</td>\n",
       "      <td>0.000123</td>\n",
       "      <td>1.125352e-07</td>\n",
       "      <td>1.388794e-11</td>\n",
       "      <td>2.319523e-16</td>\n",
       "      <td>1.388794e-11</td>\n",
       "      <td>1.125352e-07</td>\n",
       "      <td>0.000123</td>\n",
       "      <td>0.018316</td>\n",
       "      <td>0.367879</td>\n",
       "    </tr>\n",
       "    <tr>\n",
       "      <th>2020-01-02</th>\n",
       "      <td>4.866145</td>\n",
       "      <td>0.998920</td>\n",
       "      <td>0.392457</td>\n",
       "      <td>0.020867</td>\n",
       "      <td>0.000150</td>\n",
       "      <td>1.462326e-07</td>\n",
       "      <td>1.927304e-11</td>\n",
       "      <td>3.437695e-16</td>\n",
       "      <td>9.985890e-12</td>\n",
       "      <td>8.641586e-08</td>\n",
       "      <td>0.000101</td>\n",
       "      <td>0.016041</td>\n",
       "      <td>0.344096</td>\n",
       "    </tr>\n",
       "    <tr>\n",
       "      <th>2020-01-03</th>\n",
       "      <td>4.425159</td>\n",
       "      <td>0.995686</td>\n",
       "      <td>0.417773</td>\n",
       "      <td>0.023723</td>\n",
       "      <td>0.000182</td>\n",
       "      <td>1.896101e-07</td>\n",
       "      <td>2.668848e-11</td>\n",
       "      <td>5.083902e-16</td>\n",
       "      <td>7.164680e-12</td>\n",
       "      <td>6.621552e-08</td>\n",
       "      <td>0.000083</td>\n",
       "      <td>0.014019</td>\n",
       "      <td>0.321155</td>\n",
       "    </tr>\n",
       "  </tbody>\n",
       "</table>\n",
       "</div>"
      ],
      "text/plain": [
       "                   y     rbf_0     rbf_1     rbf_2     rbf_3         rbf_4  \\\n",
       "date                                                                         \n",
       "2020-01-01  2.928244  1.000000  0.367879  0.018316  0.000123  1.125352e-07   \n",
       "2020-01-02  4.866145  0.998920  0.392457  0.020867  0.000150  1.462326e-07   \n",
       "2020-01-03  4.425159  0.995686  0.417773  0.023723  0.000182  1.896101e-07   \n",
       "\n",
       "                   rbf_5         rbf_6         rbf_7         rbf_8     rbf_9  \\\n",
       "date                                                                           \n",
       "2020-01-01  1.388794e-11  2.319523e-16  1.388794e-11  1.125352e-07  0.000123   \n",
       "2020-01-02  1.927304e-11  3.437695e-16  9.985890e-12  8.641586e-08  0.000101   \n",
       "2020-01-03  2.668848e-11  5.083902e-16  7.164680e-12  6.621552e-08  0.000083   \n",
       "\n",
       "              rbf_10    rbf_11  \n",
       "date                            \n",
       "2020-01-01  0.018316  0.367879  \n",
       "2020-01-02  0.016041  0.344096  \n",
       "2020-01-03  0.014019  0.321155  "
      ]
     },
     "execution_count": 15,
     "metadata": {},
     "output_type": "execute_result"
    }
   ],
   "source": [
    "# Encoded data\n",
    "# ==============================================================================\n",
    "data_encoded_rbf = pd.concat([data, rbf_month], axis=1)\n",
    "data_encoded_rbf = data_encoded_rbf.drop(columns=['day_of_year', 'month'])\n",
    "data_encoded_rbf.head(3)"
   ]
  },
  {
   "attachments": {},
   "cell_type": "markdown",
   "metadata": {},
   "source": [
    "## Compare forecasting results\n",
    "\n",
    "A non-informative lag is included so that the impact of cyclical features can be assessed without being obscured by the autoregressive component."
   ]
  },
  {
   "cell_type": "code",
   "execution_count": 16,
   "metadata": {},
   "outputs": [],
   "source": [
    "# Create forecaster\n",
    "# ==============================================================================\n",
    "forecaster = ForecasterRecursive(\n",
    "                 regressor = HistGradientBoostingRegressor(random_state=123),\n",
    "                 lags      = [70]\n",
    "             )"
   ]
  },
  {
   "cell_type": "code",
   "execution_count": 17,
   "metadata": {},
   "outputs": [
    {
     "name": "stdout",
     "output_type": "stream",
     "text": [
      "Backtest error using one hot encoding: 1.10\n",
      "Backtest error using sine/cosine encoding: 1.12\n",
      "Backtest error using spline encoding: 0.75\n",
      "Backtest error using rbf encoding: 0.74\n"
     ]
    },
    {
     "data": {
      "image/png": "[encoded data removed]",
      "text/plain": [
       "<Figure size 700x300 with 1 Axes>"
      ]
     },
     "metadata": {},
     "output_type": "display_data"
    }
   ],
   "source": [
    "# Train and validate a forecaster using each encoding method\n",
    "# ==============================================================================\n",
    "datasets = [\n",
    "    data_encoded_oh, data_encoded_sin_cos, data_encoded_splines, data_encoded_rbf\n",
    "]\n",
    "encoding_methods = [\n",
    "    'one hot encoding', 'sine/cosine encoding', 'spline encoding', 'rbf encoding'\n",
    "]\n",
    "\n",
    "fig, ax = plt.subplots(figsize=(7, 3))\n",
    "data_test['y'].plot(title=\"Time series\", label=\"test\", ax=ax)\n",
    "\n",
    "for i, data_encoded in enumerate(datasets):\n",
    "\n",
    "    cv = TimeSeriesFold(\n",
    "            steps              = 365,\n",
    "            initial_train_size = len(data_encoded.loc[:end_train]),\n",
    "            refit              = False,\n",
    "         )\n",
    "    metric, predictions = backtesting_forecaster(\n",
    "                              forecaster    = forecaster,\n",
    "                              y             = data_encoded['y'],\n",
    "                              exog          = data_encoded.drop(columns='y'),\n",
    "                              cv            = cv,\n",
    "                              metric        = 'mean_squared_error',\n",
    "                              verbose       = False,  # Change to True to see detailed information\n",
    "                              show_progress = False\n",
    "                          )\n",
    "\n",
    "    print(f\"Backtest error using {encoding_methods[i]}: {metric.at[0, 'mean_squared_error']:.2f}\")\n",
    "    predictions.plot(label=encoding_methods[i], ax=ax)\n",
    "    ax.legend(labels=['test'] + encoding_methods)\n",
    "    \n",
    "plt.show();"
   ]
  }
 ],
 "metadata": {
  "kernelspec": {
   "display_name": "skforecast_py11_2",
   "language": "python",
   "name": "python3"
  },
  "language_info": {
   "codemirror_mode": {
    "name": "ipython",
    "version": 3
   },
   "file_extension": ".py",
   "mimetype": "text/x-python",
   "name": "python",
   "nbconvert_exporter": "python",
   "pygments_lexer": "ipython3",
   "version": "3.11.10"
  },
  "toc": {
   "base_numbering": 1,
   "nav_menu": {},
   "number_sections": false,
   "sideBar": true,
   "skip_h1_title": true,
   "title_cell": "Tabla de contenidos",
   "title_sidebar": "Tabla de contenidos",
   "toc_cell": false,
   "toc_position": {
    "height": "calc(100% - 180px)",
    "left": "10px",
    "top": "150px",
    "width": "291.767px"
   },
   "toc_section_display": true,
   "toc_window_display": true
  },
  "varInspector": {
   "cols": {
    "lenName": 16,
    "lenType": 16,
    "lenVar": 40
   },
   "kernels_config": {
    "python": {
     "delete_cmd_postfix": "",
     "delete_cmd_prefix": "del ",
     "library": "var_list.py",
     "varRefreshCmd": "print(var_dic_list())"
    },
    "r": {
     "delete_cmd_postfix": ") ",
     "delete_cmd_prefix": "rm(",
     "library": "var_list.r",
     "varRefreshCmd": "cat(var_dic_list()) "
    }
   },
   "position": {
    "height": "144.391px",
    "left": "1478px",
    "right": "20px",
    "top": "126px",
    "width": "350px"
   },
   "types_to_exclude": [
    "module",
    "function",
    "builtin_function_or_method",
    "instance",
    "_Feature"
   ],
   "window_display": false
  }
 },
 "nbformat": 4,
 "nbformat_minor": 4
}
