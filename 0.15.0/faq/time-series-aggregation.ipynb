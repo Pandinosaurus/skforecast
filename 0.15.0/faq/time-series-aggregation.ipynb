{
 "cells": [
  {
   "cell_type": "markdown",
   "metadata": {},
   "source": [
    "# Time series aggregation"
   ]
  },
  {
   "cell_type": "markdown",
   "metadata": {},
   "source": [
    "Time series aggregation involves summarizing or transforming data over specific time intervals. Two of the most common use cases are\n",
    "\n",
    "+ Aggregating data from one frequency to another. For example, converting hourly data to daily data. \n",
    "\n",
    "+ Aggregating data across a sliding window. For example, calculating a rolling average over the last 7 days.\n",
    "\n",
    "These aggregations not only greatly reduce the total volume of data, but also help you find interesting features for your model faster.\n",
    "\n",
    "**Pandas** provides an easy and efficient way to aggregate data from time series. This document shows how to use the `resampling` and `rolling` methods to aggregate data, with special emphasis on how to avoid data leakage, which is a common mistake when aggregating time series."
   ]
  },
  {
   "cell_type": "markdown",
   "metadata": {},
   "source": [
    "## Libraries and data"
   ]
  },
  {
   "cell_type": "code",
   "execution_count": 1,
   "metadata": {},
   "outputs": [],
   "source": [
    "# Libraries\n",
    "# ==============================================================================\n",
    "import pandas as pd\n",
    "from skforecast.datasets import fetch_dataset"
   ]
  },
  {
   "cell_type": "code",
   "execution_count": 2,
   "metadata": {},
   "outputs": [
    {
     "name": "stdout",
     "output_type": "stream",
     "text": [
      "vic_electricity\n",
      "---------------\n",
      "Half-hourly electricity demand for Victoria, Australia\n",
      "O'Hara-Wild M, Hyndman R, Wang E, Godahewa R (2022).tsibbledata: Diverse\n",
      "Datasets for 'tsibble'. https://tsibbledata.tidyverts.org/,\n",
      "https://github.com/tidyverts/tsibbledata/.\n",
      "https://tsibbledata.tidyverts.org/reference/vic_elec.html\n",
      "Shape of the dataset: (52608, 4)\n"
     ]
    },
    {
     "data": {
      "application/vnd.microsoft.datawrangler.viewer.v0+json": {
       "columns": [
        {
         "name": "Time",
         "rawType": "datetime64[ns]",
         "type": "datetime"
        },
        {
         "name": "Demand",
         "rawType": "float64",
         "type": "float"
        },
        {
         "name": "Temperature",
         "rawType": "float64",
         "type": "float"
        },
        {
         "name": "Holiday",
         "rawType": "bool",
         "type": "boolean"
        }
       ],
       "conversionMethod": "pd.DataFrame",
       "ref": "a009460c-6f98-4acb-82ca-42dc683d504c",
       "rows": [
        [
         "2011-12-31 13:00:00",
         "4382.825174",
         "21.4",
         "True"
        ],
        [
         "2011-12-31 13:30:00",
         "4263.365526",
         "21.05",
         "True"
        ],
        [
         "2011-12-31 14:00:00",
         "4048.966046",
         "20.7",
         "True"
        ],
        [
         "2011-12-31 14:30:00",
         "3877.56333",
         "20.55",
         "True"
        ],
        [
         "2011-12-31 15:00:00",
         "4036.229746",
         "20.4",
         "True"
        ]
       ],
       "shape": {
        "columns": 3,
        "rows": 5
       }
      },
      "text/html": [
       "<div>\n",
       "<style scoped>\n",
       "    .dataframe tbody tr th:only-of-type {\n",
       "        vertical-align: middle;\n",
       "    }\n",
       "\n",
       "    .dataframe tbody tr th {\n",
       "        vertical-align: top;\n",
       "    }\n",
       "\n",
       "    .dataframe thead th {\n",
       "        text-align: right;\n",
       "    }\n",
       "</style>\n",
       "<table border=\"1\" class=\"dataframe\">\n",
       "  <thead>\n",
       "    <tr style=\"text-align: right;\">\n",
       "      <th></th>\n",
       "      <th>Demand</th>\n",
       "      <th>Temperature</th>\n",
       "      <th>Holiday</th>\n",
       "    </tr>\n",
       "    <tr>\n",
       "      <th>Time</th>\n",
       "      <th></th>\n",
       "      <th></th>\n",
       "      <th></th>\n",
       "    </tr>\n",
       "  </thead>\n",
       "  <tbody>\n",
       "    <tr>\n",
       "      <th>2011-12-31 13:00:00</th>\n",
       "      <td>4382.825174</td>\n",
       "      <td>21.40</td>\n",
       "      <td>True</td>\n",
       "    </tr>\n",
       "    <tr>\n",
       "      <th>2011-12-31 13:30:00</th>\n",
       "      <td>4263.365526</td>\n",
       "      <td>21.05</td>\n",
       "      <td>True</td>\n",
       "    </tr>\n",
       "    <tr>\n",
       "      <th>2011-12-31 14:00:00</th>\n",
       "      <td>4048.966046</td>\n",
       "      <td>20.70</td>\n",
       "      <td>True</td>\n",
       "    </tr>\n",
       "    <tr>\n",
       "      <th>2011-12-31 14:30:00</th>\n",
       "      <td>3877.563330</td>\n",
       "      <td>20.55</td>\n",
       "      <td>True</td>\n",
       "    </tr>\n",
       "    <tr>\n",
       "      <th>2011-12-31 15:00:00</th>\n",
       "      <td>4036.229746</td>\n",
       "      <td>20.40</td>\n",
       "      <td>True</td>\n",
       "    </tr>\n",
       "  </tbody>\n",
       "</table>\n",
       "</div>"
      ],
      "text/plain": [
       "                          Demand  Temperature  Holiday\n",
       "Time                                                  \n",
       "2011-12-31 13:00:00  4382.825174        21.40     True\n",
       "2011-12-31 13:30:00  4263.365526        21.05     True\n",
       "2011-12-31 14:00:00  4048.966046        20.70     True\n",
       "2011-12-31 14:30:00  3877.563330        20.55     True\n",
       "2011-12-31 15:00:00  4036.229746        20.40     True"
      ]
     },
     "execution_count": 2,
     "metadata": {},
     "output_type": "execute_result"
    }
   ],
   "source": [
    "# Download data\n",
    "# ==============================================================================\n",
    "data = fetch_dataset(name='vic_electricity')\n",
    "data = data[['Demand', 'Temperature', 'Holiday']]\n",
    "data.head(5)"
   ]
  },
  {
   "cell_type": "markdown",
   "metadata": {},
   "source": [
    "This dataset contains the electricity demand in Victoria (Australia) at half-hourly frequency."
   ]
  },
  {
   "cell_type": "code",
   "execution_count": 3,
   "metadata": {},
   "outputs": [
    {
     "name": "stdout",
     "output_type": "stream",
     "text": [
      "Frequency: <30 * Minutes>\n"
     ]
    }
   ],
   "source": [
    "# Index Frequency\n",
    "# ==============================================================================\n",
    "print(f\"Frequency: {data.index.freq}\")"
   ]
  },
  {
   "cell_type": "markdown",
   "metadata": {},
   "source": [
    "## Change frequency (resample)"
   ]
  },
  {
   "cell_type": "markdown",
   "metadata": {},
   "source": [
    "To change the frequency of a time series, use the `resample` method. This method allows you to specify a frequency and an aggregation function. It works similarly to the `groupby` method, but it works with time series indices.\n",
    "\n",
    "When aggregating data, it is very important to use the `closed` and `label` arguments correctly. This avoids introducing future information into the training (data leakage). \n",
    "\n",
    "+ The `closed` argument specifies whether the interval is closed on the left-side, right-side, both or neither. \n",
    "\n",
    "+ The `label` argument specifies whether the result is labeled with the beginning or the end of the interval. \n",
    "\n",
    "Suppose that values are available for 10:10, 10:30, 10:45, 11:00, 11:12, and 11:30. To obtain the hourly average, the value assigned to 11:00 must be calculated using the values for 10:10, 10:30, and 10:45; and the value assigned to 12:00 must be calculated using the value for 11:00, 11:12 and 11:30. The 11:00 average does not include the 11:00 point value because in reality the value is not available at that exact time.\n",
    "\n",
    "In this case, the correct arguments are `closed='left'` and `label='right'`.\n",
    "\n",
    "<p align=\"center\">\n",
    "<img src=\"../img/diagram_resampling_datetime.png\" style=\"width: 500px;\">\n",
    "<br>\n",
    "<font size='2.5'> <i>Diagram of data aggregation using the resample method without including future information.</i></font>\n",
    "</p>\n",
    "\n",
    "For example, the code in the next cell converts the data from half-hourly to hourly frequency. Since there are multiple columns, an aggregation function must be specified for each column. In this case, the `sum` is calculated for the `Demand` column and the `average` is calculated for the rest."
   ]
  },
  {
   "cell_type": "code",
   "execution_count": 4,
   "metadata": {},
   "outputs": [
    {
     "data": {
      "application/vnd.microsoft.datawrangler.viewer.v0+json": {
       "columns": [
        {
         "name": "Time",
         "rawType": "datetime64[ns]",
         "type": "datetime"
        },
        {
         "name": "Demand",
         "rawType": "float64",
         "type": "float"
        },
        {
         "name": "Temperature",
         "rawType": "float64",
         "type": "float"
        },
        {
         "name": "Holiday",
         "rawType": "float64",
         "type": "float"
        }
       ],
       "conversionMethod": "pd.DataFrame",
       "ref": "78ca35fd-186f-4b01-a00e-238ef1b9f093",
       "rows": [
        [
         "2011-12-31 14:00:00",
         "8646.1907",
         "21.225",
         "1.0"
        ],
        [
         "2011-12-31 15:00:00",
         "7926.529376",
         "20.625",
         "1.0"
        ],
        [
         "2011-12-31 16:00:00",
         "7901.82699",
         "20.325",
         "1.0"
        ],
        [
         "2011-12-31 17:00:00",
         "7255.72135",
         "19.85",
         "1.0"
        ],
        [
         "2011-12-31 18:00:00",
         "6792.503352",
         "19.025",
         "1.0"
        ],
        [
         "2011-12-31 19:00:00",
         "6635.98446",
         "18.725",
         "1.0"
        ],
        [
         "2011-12-31 20:00:00",
         "6548.104464",
         "18.675",
         "1.0"
        ],
        [
         "2011-12-31 21:00:00",
         "6864.8422439999995",
         "19.65",
         "1.0"
        ],
        [
         "2011-12-31 22:00:00",
         "7300.076306",
         "21.775",
         "1.0"
        ],
        [
         "2011-12-31 23:00:00",
         "8001.86695",
         "24.65",
         "1.0"
        ],
        [
         "2012-01-01 00:00:00",
         "8658.099726",
         "27.0",
         "1.0"
        ],
        [
         "2012-01-01 01:00:00",
         "9371.64096",
         "29.65",
         "1.0"
        ],
        [
         "2012-01-01 02:00:00",
         "10018.933993999999",
         "31.65",
         "1.0"
        ],
        [
         "2012-01-01 03:00:00",
         "10540.232656",
         "32.675",
         "1.0"
        ],
        [
         "2012-01-01 04:00:00",
         "10974.776578",
         "32.3",
         "1.0"
        ],
        [
         "2012-01-01 05:00:00",
         "11378.492134",
         "31.0",
         "1.0"
        ],
        [
         "2012-01-01 06:00:00",
         "11766.933015999999",
         "30.0",
         "1.0"
        ],
        [
         "2012-01-01 07:00:00",
         "12071.06248",
         "30.975",
         "1.0"
        ],
        [
         "2012-01-01 08:00:00",
         "12087.937854",
         "31.35",
         "1.0"
        ],
        [
         "2012-01-01 09:00:00",
         "11599.846456",
         "28.675",
         "1.0"
        ],
        [
         "2012-01-01 10:00:00",
         "10925.304398",
         "26.975",
         "1.0"
        ],
        [
         "2012-01-01 11:00:00",
         "10604.72434",
         "25.325",
         "1.0"
        ],
        [
         "2012-01-01 12:00:00",
         "9720.748822000001",
         "23.674999999999997",
         "1.0"
        ],
        [
         "2012-01-01 13:00:00",
         "8845.531898000001",
         "21.975",
         "1.0"
        ],
        [
         "2012-01-01 14:00:00",
         "8531.930425999999",
         "21.5",
         "1.0"
        ],
        [
         "2012-01-01 15:00:00",
         "7650.256638",
         "21.075",
         "1.0"
        ],
        [
         "2012-01-01 16:00:00",
         "7717.48731",
         "20.625",
         "1.0"
        ],
        [
         "2012-01-01 17:00:00",
         "7091.48962",
         "20.375",
         "1.0"
        ],
        [
         "2012-01-01 18:00:00",
         "6850.548704000001",
         "20.4",
         "1.0"
        ],
        [
         "2012-01-01 19:00:00",
         "6868.673342",
         "20.825",
         "1.0"
        ],
        [
         "2012-01-01 20:00:00",
         "7060.872670000001",
         "21.674999999999997",
         "1.0"
        ],
        [
         "2012-01-01 21:00:00",
         "7683.040868",
         "24.0",
         "1.0"
        ],
        [
         "2012-01-01 22:00:00",
         "8426.338758",
         "27.575",
         "1.0"
        ],
        [
         "2012-01-01 23:00:00",
         "9465.662706",
         "30.775",
         "1.0"
        ],
        [
         "2012-01-02 00:00:00",
         "10525.790676",
         "32.825",
         "1.0"
        ],
        [
         "2012-01-02 01:00:00",
         "11572.086834",
         "34.5",
         "1.0"
        ],
        [
         "2012-01-02 02:00:00",
         "12472.288334",
         "36.725",
         "1.0"
        ],
        [
         "2012-01-02 03:00:00",
         "13124.431756",
         "37.1",
         "1.0"
        ],
        [
         "2012-01-02 04:00:00",
         "13550.13955",
         "37.400000000000006",
         "1.0"
        ],
        [
         "2012-01-02 05:00:00",
         "13996.737008",
         "38.525",
         "1.0"
        ],
        [
         "2012-01-02 06:00:00",
         "14408.347905999999",
         "39.3",
         "1.0"
        ],
        [
         "2012-01-02 07:00:00",
         "14645.314026",
         "39.525000000000006",
         "1.0"
        ],
        [
         "2012-01-02 08:00:00",
         "14469.58551",
         "39.075",
         "1.0"
        ],
        [
         "2012-01-02 09:00:00",
         "13946.122264",
         "37.875",
         "1.0"
        ],
        [
         "2012-01-02 10:00:00",
         "13256.514954",
         "35.825",
         "1.0"
        ],
        [
         "2012-01-02 11:00:00",
         "12783.757388",
         "34.025",
         "1.0"
        ],
        [
         "2012-01-02 12:00:00",
         "11530.972818",
         "32.775",
         "1.0"
        ],
        [
         "2012-01-02 13:00:00",
         "10336.33353",
         "32.25",
         "1.0"
        ],
        [
         "2012-01-02 14:00:00",
         "9916.813072",
         "31.1",
         "0.0"
        ],
        [
         "2012-01-02 15:00:00",
         "8898.740851999999",
         "28.35",
         "0.0"
        ]
       ],
       "shape": {
        "columns": 3,
        "rows": 26304
       }
      },
      "text/html": [
       "<div>\n",
       "<style scoped>\n",
       "    .dataframe tbody tr th:only-of-type {\n",
       "        vertical-align: middle;\n",
       "    }\n",
       "\n",
       "    .dataframe tbody tr th {\n",
       "        vertical-align: top;\n",
       "    }\n",
       "\n",
       "    .dataframe thead th {\n",
       "        text-align: right;\n",
       "    }\n",
       "</style>\n",
       "<table border=\"1\" class=\"dataframe\">\n",
       "  <thead>\n",
       "    <tr style=\"text-align: right;\">\n",
       "      <th></th>\n",
       "      <th>Demand</th>\n",
       "      <th>Temperature</th>\n",
       "      <th>Holiday</th>\n",
       "    </tr>\n",
       "    <tr>\n",
       "      <th>Time</th>\n",
       "      <th></th>\n",
       "      <th></th>\n",
       "      <th></th>\n",
       "    </tr>\n",
       "  </thead>\n",
       "  <tbody>\n",
       "    <tr>\n",
       "      <th>2011-12-31 14:00:00</th>\n",
       "      <td>8646.190700</td>\n",
       "      <td>21.225</td>\n",
       "      <td>1.0</td>\n",
       "    </tr>\n",
       "    <tr>\n",
       "      <th>2011-12-31 15:00:00</th>\n",
       "      <td>7926.529376</td>\n",
       "      <td>20.625</td>\n",
       "      <td>1.0</td>\n",
       "    </tr>\n",
       "    <tr>\n",
       "      <th>2011-12-31 16:00:00</th>\n",
       "      <td>7901.826990</td>\n",
       "      <td>20.325</td>\n",
       "      <td>1.0</td>\n",
       "    </tr>\n",
       "    <tr>\n",
       "      <th>2011-12-31 17:00:00</th>\n",
       "      <td>7255.721350</td>\n",
       "      <td>19.850</td>\n",
       "      <td>1.0</td>\n",
       "    </tr>\n",
       "    <tr>\n",
       "      <th>2011-12-31 18:00:00</th>\n",
       "      <td>6792.503352</td>\n",
       "      <td>19.025</td>\n",
       "      <td>1.0</td>\n",
       "    </tr>\n",
       "    <tr>\n",
       "      <th>...</th>\n",
       "      <td>...</td>\n",
       "      <td>...</td>\n",
       "      <td>...</td>\n",
       "    </tr>\n",
       "    <tr>\n",
       "      <th>2014-12-31 09:00:00</th>\n",
       "      <td>8139.251100</td>\n",
       "      <td>21.600</td>\n",
       "      <td>0.0</td>\n",
       "    </tr>\n",
       "    <tr>\n",
       "      <th>2014-12-31 10:00:00</th>\n",
       "      <td>7818.461408</td>\n",
       "      <td>20.300</td>\n",
       "      <td>0.0</td>\n",
       "    </tr>\n",
       "    <tr>\n",
       "      <th>2014-12-31 11:00:00</th>\n",
       "      <td>7801.201802</td>\n",
       "      <td>19.650</td>\n",
       "      <td>0.0</td>\n",
       "    </tr>\n",
       "    <tr>\n",
       "      <th>2014-12-31 12:00:00</th>\n",
       "      <td>7516.472988</td>\n",
       "      <td>18.100</td>\n",
       "      <td>0.0</td>\n",
       "    </tr>\n",
       "    <tr>\n",
       "      <th>2014-12-31 13:00:00</th>\n",
       "      <td>7571.301440</td>\n",
       "      <td>17.200</td>\n",
       "      <td>0.0</td>\n",
       "    </tr>\n",
       "  </tbody>\n",
       "</table>\n",
       "<p>26304 rows × 3 columns</p>\n",
       "</div>"
      ],
      "text/plain": [
       "                          Demand  Temperature  Holiday\n",
       "Time                                                  \n",
       "2011-12-31 14:00:00  8646.190700       21.225      1.0\n",
       "2011-12-31 15:00:00  7926.529376       20.625      1.0\n",
       "2011-12-31 16:00:00  7901.826990       20.325      1.0\n",
       "2011-12-31 17:00:00  7255.721350       19.850      1.0\n",
       "2011-12-31 18:00:00  6792.503352       19.025      1.0\n",
       "...                          ...          ...      ...\n",
       "2014-12-31 09:00:00  8139.251100       21.600      0.0\n",
       "2014-12-31 10:00:00  7818.461408       20.300      0.0\n",
       "2014-12-31 11:00:00  7801.201802       19.650      0.0\n",
       "2014-12-31 12:00:00  7516.472988       18.100      0.0\n",
       "2014-12-31 13:00:00  7571.301440       17.200      0.0\n",
       "\n",
       "[26304 rows x 3 columns]"
      ]
     },
     "execution_count": 4,
     "metadata": {},
     "output_type": "execute_result"
    }
   ],
   "source": [
    "# Aggregate data from 30 minutes to 1 hour\n",
    "# ==============================================================================\n",
    "data = data.resample(rule='1h', closed='left', label ='right').agg({\n",
    "           'Demand': 'sum',\n",
    "           'Temperature': 'mean',\n",
    "           'Holiday': 'mean'\n",
    "       })\n",
    "\n",
    "data"
   ]
  },
  {
   "cell_type": "markdown",
   "metadata": {},
   "source": [
    "## Rolling window aggregation"
   ]
  },
  {
   "cell_type": "markdown",
   "metadata": {},
   "source": [
    "Rolling window aggregation is used to calculate statistics over a sliding window of time. For example, the 24h rolling average is the average of the last 24 hours of data. As with the `resample` method, it is very important to use the `closed='left'` and `center=False` arguments correctly to avoid introducing future information into the training (data leakage)."
   ]
  },
  {
   "cell_type": "code",
   "execution_count": 5,
   "metadata": {},
   "outputs": [
    {
     "data": {
      "application/vnd.microsoft.datawrangler.viewer.v0+json": {
       "columns": [
        {
         "name": "Time",
         "rawType": "datetime64[ns]",
         "type": "datetime"
        },
        {
         "name": "Demand",
         "rawType": "float64",
         "type": "float"
        },
        {
         "name": "Temperature",
         "rawType": "float64",
         "type": "float"
        },
        {
         "name": "Holiday",
         "rawType": "float64",
         "type": "float"
        }
       ],
       "conversionMethod": "pd.DataFrame",
       "ref": "a7317d91-9f8b-4453-94b2-d0a56ed23841",
       "rows": [
        [
         "2011-12-31 14:00:00",
         null,
         null,
         null
        ],
        [
         "2011-12-31 15:00:00",
         null,
         null,
         null
        ],
        [
         "2011-12-31 16:00:00",
         null,
         null,
         null
        ],
        [
         "2011-12-31 17:00:00",
         null,
         null,
         null
        ],
        [
         "2011-12-31 18:00:00",
         "7932.567104",
         "20.50625",
         "1.0"
        ],
        [
         "2011-12-31 19:00:00",
         "7469.145267",
         "19.95625",
         "1.0"
        ],
        [
         "2011-12-31 20:00:00",
         "7146.509038",
         "19.48125",
         "1.0"
        ],
        [
         "2011-12-31 21:00:00",
         "6808.0784065",
         "19.06875",
         "1.0"
        ],
        [
         "2011-12-31 22:00:00",
         "6710.35863",
         "19.01875",
         "1.0"
        ],
        [
         "2011-12-31 23:00:00",
         "6837.2518685",
         "19.706249999999997",
         "1.0"
        ],
        [
         "2012-01-01 00:00:00",
         "7178.7224909999995",
         "21.1875",
         "1.0"
        ],
        [
         "2012-01-01 01:00:00",
         "7706.2213065",
         "23.268749999999997",
         "1.0"
        ],
        [
         "2012-01-01 02:00:00",
         "8332.9209855",
         "25.768749999999997",
         "1.0"
        ],
        [
         "2012-01-01 03:00:00",
         "9012.6354075",
         "28.237499999999997",
         "1.0"
        ],
        [
         "2012-01-01 04:00:00",
         "9647.226834000001",
         "30.24375",
         "1.0"
        ],
        [
         "2012-01-01 05:00:00",
         "10226.396047",
         "31.568749999999998",
         "1.0"
        ],
        [
         "2012-01-01 06:00:00",
         "10728.108840500001",
         "31.90625",
         "1.0"
        ],
        [
         "2012-01-01 07:00:00",
         "11165.108596",
         "31.49375",
         "1.0"
        ],
        [
         "2012-01-01 08:00:00",
         "11547.816052",
         "31.06875",
         "1.0"
        ],
        [
         "2012-01-01 09:00:00",
         "11826.106371000002",
         "30.83125",
         "1.0"
        ],
        [
         "2012-01-01 10:00:00",
         "11881.444951500001",
         "30.25",
         "1.0"
        ],
        [
         "2012-01-01 11:00:00",
         "11671.037797",
         "29.493750000000002",
         "1.0"
        ],
        [
         "2012-01-01 12:00:00",
         "11304.453261999999",
         "28.081249999999997",
         "1.0"
        ],
        [
         "2012-01-01 13:00:00",
         "10712.656004",
         "26.1625",
         "1.0"
        ],
        [
         "2012-01-01 14:00:00",
         "10024.0773645",
         "24.4875",
         "1.0"
        ],
        [
         "2012-01-01 15:00:00",
         "9425.7338715",
         "23.11875",
         "1.0"
        ],
        [
         "2012-01-01 16:00:00",
         "8687.116946",
         "22.056250000000002",
         "1.0"
        ],
        [
         "2012-01-01 17:00:00",
         "8186.301568",
         "21.293750000000003",
         "1.0"
        ],
        [
         "2012-01-01 18:00:00",
         "7747.7909985",
         "20.89375",
         "1.0"
        ],
        [
         "2012-01-01 19:00:00",
         "7327.445568",
         "20.61875",
         "1.0"
        ],
        [
         "2012-01-01 20:00:00",
         "7132.049744000001",
         "20.55625",
         "1.0"
        ],
        [
         "2012-01-01 21:00:00",
         "6967.896084000001",
         "20.818749999999998",
         "1.0"
        ],
        [
         "2012-01-01 22:00:00",
         "7115.783896000001",
         "21.724999999999998",
         "1.0"
        ],
        [
         "2012-01-01 23:00:00",
         "7509.7314095",
         "23.51875",
         "1.0"
        ],
        [
         "2012-01-02 00:00:00",
         "8158.9787504999995",
         "26.006249999999998",
         "1.0"
        ],
        [
         "2012-01-02 01:00:00",
         "9025.208252",
         "28.79375",
         "1.0"
        ],
        [
         "2012-01-02 02:00:00",
         "9997.4697435",
         "31.41875",
         "1.0"
        ],
        [
         "2012-01-02 03:00:00",
         "11008.9571375",
         "33.70625",
         "1.0"
        ],
        [
         "2012-01-02 04:00:00",
         "11923.649400000002",
         "35.2875",
         "1.0"
        ],
        [
         "2012-01-02 05:00:00",
         "12679.7366185",
         "36.431250000000006",
         "1.0"
        ],
        [
         "2012-01-02 06:00:00",
         "13285.899162",
         "37.4375",
         "1.0"
        ],
        [
         "2012-01-02 07:00:00",
         "13769.914055000001",
         "38.081250000000004",
         "1.0"
        ],
        [
         "2012-01-02 08:00:00",
         "14150.134622499998",
         "38.6875",
         "1.0"
        ],
        [
         "2012-01-02 09:00:00",
         "14379.9961125",
         "39.10625",
         "1.0"
        ],
        [
         "2012-01-02 10:00:00",
         "14367.3424265",
         "38.94375",
         "1.0"
        ],
        [
         "2012-01-02 11:00:00",
         "14079.3841885",
         "38.075",
         "1.0"
        ],
        [
         "2012-01-02 12:00:00",
         "13613.995029",
         "36.7",
         "1.0"
        ],
        [
         "2012-01-02 13:00:00",
         "12879.341856",
         "35.125",
         "1.0"
        ],
        [
         "2012-01-02 14:00:00",
         "11976.8946725",
         "33.71875",
         "1.0"
        ],
        [
         "2012-01-02 15:00:00",
         "11141.969202",
         "32.5375",
         "0.75"
        ]
       ],
       "shape": {
        "columns": 3,
        "rows": 26304
       }
      },
      "text/html": [
       "<div>\n",
       "<style scoped>\n",
       "    .dataframe tbody tr th:only-of-type {\n",
       "        vertical-align: middle;\n",
       "    }\n",
       "\n",
       "    .dataframe tbody tr th {\n",
       "        vertical-align: top;\n",
       "    }\n",
       "\n",
       "    .dataframe thead th {\n",
       "        text-align: right;\n",
       "    }\n",
       "</style>\n",
       "<table border=\"1\" class=\"dataframe\">\n",
       "  <thead>\n",
       "    <tr style=\"text-align: right;\">\n",
       "      <th></th>\n",
       "      <th>Demand</th>\n",
       "      <th>Temperature</th>\n",
       "      <th>Holiday</th>\n",
       "    </tr>\n",
       "    <tr>\n",
       "      <th>Time</th>\n",
       "      <th></th>\n",
       "      <th></th>\n",
       "      <th></th>\n",
       "    </tr>\n",
       "  </thead>\n",
       "  <tbody>\n",
       "    <tr>\n",
       "      <th>2011-12-31 14:00:00</th>\n",
       "      <td>NaN</td>\n",
       "      <td>NaN</td>\n",
       "      <td>NaN</td>\n",
       "    </tr>\n",
       "    <tr>\n",
       "      <th>2011-12-31 15:00:00</th>\n",
       "      <td>NaN</td>\n",
       "      <td>NaN</td>\n",
       "      <td>NaN</td>\n",
       "    </tr>\n",
       "    <tr>\n",
       "      <th>2011-12-31 16:00:00</th>\n",
       "      <td>NaN</td>\n",
       "      <td>NaN</td>\n",
       "      <td>NaN</td>\n",
       "    </tr>\n",
       "    <tr>\n",
       "      <th>2011-12-31 17:00:00</th>\n",
       "      <td>NaN</td>\n",
       "      <td>NaN</td>\n",
       "      <td>NaN</td>\n",
       "    </tr>\n",
       "    <tr>\n",
       "      <th>2011-12-31 18:00:00</th>\n",
       "      <td>7932.567104</td>\n",
       "      <td>20.50625</td>\n",
       "      <td>1.0</td>\n",
       "    </tr>\n",
       "    <tr>\n",
       "      <th>...</th>\n",
       "      <td>...</td>\n",
       "      <td>...</td>\n",
       "      <td>...</td>\n",
       "    </tr>\n",
       "    <tr>\n",
       "      <th>2014-12-31 09:00:00</th>\n",
       "      <td>8490.517461</td>\n",
       "      <td>23.71250</td>\n",
       "      <td>0.0</td>\n",
       "    </tr>\n",
       "    <tr>\n",
       "      <th>2014-12-31 10:00:00</th>\n",
       "      <td>8482.825404</td>\n",
       "      <td>23.41250</td>\n",
       "      <td>0.0</td>\n",
       "    </tr>\n",
       "    <tr>\n",
       "      <th>2014-12-31 11:00:00</th>\n",
       "      <td>8314.896216</td>\n",
       "      <td>22.67500</td>\n",
       "      <td>0.0</td>\n",
       "    </tr>\n",
       "    <tr>\n",
       "      <th>2014-12-31 12:00:00</th>\n",
       "      <td>8076.417548</td>\n",
       "      <td>21.30000</td>\n",
       "      <td>0.0</td>\n",
       "    </tr>\n",
       "    <tr>\n",
       "      <th>2014-12-31 13:00:00</th>\n",
       "      <td>7818.846825</td>\n",
       "      <td>19.91250</td>\n",
       "      <td>0.0</td>\n",
       "    </tr>\n",
       "  </tbody>\n",
       "</table>\n",
       "<p>26304 rows × 3 columns</p>\n",
       "</div>"
      ],
      "text/plain": [
       "                          Demand  Temperature  Holiday\n",
       "Time                                                  \n",
       "2011-12-31 14:00:00          NaN          NaN      NaN\n",
       "2011-12-31 15:00:00          NaN          NaN      NaN\n",
       "2011-12-31 16:00:00          NaN          NaN      NaN\n",
       "2011-12-31 17:00:00          NaN          NaN      NaN\n",
       "2011-12-31 18:00:00  7932.567104     20.50625      1.0\n",
       "...                          ...          ...      ...\n",
       "2014-12-31 09:00:00  8490.517461     23.71250      0.0\n",
       "2014-12-31 10:00:00  8482.825404     23.41250      0.0\n",
       "2014-12-31 11:00:00  8314.896216     22.67500      0.0\n",
       "2014-12-31 12:00:00  8076.417548     21.30000      0.0\n",
       "2014-12-31 13:00:00  7818.846825     19.91250      0.0\n",
       "\n",
       "[26304 rows x 3 columns]"
      ]
     },
     "execution_count": 5,
     "metadata": {},
     "output_type": "execute_result"
    }
   ],
   "source": [
    "# Rolling mean for 4 hours\n",
    "# ==============================================================================\n",
    "data.rolling(window=4, min_periods=4, closed='left', center=False).mean()"
   ]
  },
  {
   "cell_type": "markdown",
   "metadata": {},
   "source": [
    "The average values for `2011-12-31 18:00:00` are calculated from the values of the previous 4 hours (from 14:00:00 to 17:00:00)."
   ]
  },
  {
   "cell_type": "code",
   "execution_count": 6,
   "metadata": {},
   "outputs": [
    {
     "data": {
      "text/plain": [
       "Demand         7932.567104\n",
       "Temperature      20.506250\n",
       "Holiday           1.000000\n",
       "dtype: float64"
      ]
     },
     "execution_count": 6,
     "metadata": {},
     "output_type": "execute_result"
    }
   ],
   "source": [
    "# '2011-12-31 18:00:00' mean\n",
    "# ==============================================================================\n",
    "data.iloc[0:4, :].mean()"
   ]
  },
  {
   "cell_type": "markdown",
   "metadata": {},
   "source": [
    "<div class=\"admonition note\" name=\"html-admonition\" style=\"background: rgba(255,145,0,.1); padding-top: 0px; padding-bottom: 6px; border-radius: 8px; border-left: 8px solid #ff9100; border-color: #ff9100; padding-left: 10px; padding-right: 10px\">\n",
    "\n",
    "<p class=\"title\">\n",
    "    <i style=\"font-size: 18px; color:#ff9100; border-color: #ff1744;\"></i>\n",
    "    <b style=\"color: #ff9100;\"> <span style=\"color: #ff9100;\">&#9888;</span> Warning</b>\n",
    "</p>\n",
    "\n",
    "When transforming time series data, such as aggregating, it is very important to avoid data leakage, which means using information from the future to calculate the current value.\n",
    "\n",
    "</div>"
   ]
  }
 ],
 "metadata": {
  "kernelspec": {
   "display_name": "skforecast_15_py12",
   "language": "python",
   "name": "python3"
  },
  "language_info": {
   "codemirror_mode": {
    "name": "ipython",
    "version": 3
   },
   "file_extension": ".py",
   "mimetype": "text/x-python",
   "name": "python",
   "nbconvert_exporter": "python",
   "pygments_lexer": "ipython3",
   "version": "3.12.9"
  }
 },
 "nbformat": 4,
 "nbformat_minor": 2
}
