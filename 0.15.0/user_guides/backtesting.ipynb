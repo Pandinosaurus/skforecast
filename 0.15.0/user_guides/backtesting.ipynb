{
 "cells": [
  {
   "attachments": {},
   "cell_type": "markdown",
   "id": "afd7722d",
   "metadata": {},
   "source": [
    "# Backtesting\n",
    "\n",
    "In time series forecasting, the process of *backtesting* consists of evaluating the performance of a predictive model by applying it retrospectively to historical data. Therefore, it is a special type of cross-validation applied to the previous period(s).\n",
    "\n",
    "The purpose of backtesting is to evaluate the accuracy and effectiveness of a model and identify any potential issues or areas of improvement. By testing the model on historical data, one can assess how well it performs on data that it has not seen before. This is an important step in the modeling process, as it helps to ensure that the model is robust and reliable.\n",
    "\n",
    "Backtesting can be done using a variety of techniques, such as simple train-test splits or more sophisticated methods like rolling windows or expanding windows. The choice of method depends on the specific needs of the analysis and the characteristics of the time series data.\n",
    "\n",
    "Overall, backtesting is an essential step in the development of a time series forecasting model. By rigorously testing the model on historical data, one can improve its accuracy and ensure that it is effective at predicting future values of the time series.\n",
    "\n",
    "## Backtesting without refit\n",
    "\n",
    "Backtesting without refit is a strategy where the model is trained only once and used sequentially without updating it, following the temporal order of the data. This approach is advantageous as it is much faster than other methods that require retraining the model each time. However, the model may lose its predictive power over time as it does not incorporate the latest information available.\n",
    "\n",
    "<p style=\"text-align: center\">\n",
    "<img src=\"../img/diagram-backtesting-no-refit.png\" style=\"width: 500px;\">\n",
    "</p>\n",
    "\n",
    "<p style=\"text-align: center\">\n",
    "<img src=\"../img/backtesting_no_refit.gif\" style=\"width: 650px;\">\n",
    "<br>\n",
    "<font size=\"2.5\"> <i>Backtesting without refit.</i></font>\n",
    "</p>\n",
    "\n",
    "*Note: The argument needed to achieve this configuration is `refit=False`.*\n",
    "\n",
    "## Backtesting with refit and increasing training size\n",
    "\n",
    "In this strategy, the model is trained before making predictions each time, and all available data up to that point is used in the training process. This differs from standard cross-validation, where the data is randomly distributed between training and validation sets.\n",
    "\n",
    "Instead of randomizing the data, this backtesting sequentially increases the size of the training set while maintaining the temporal order of the data. By doing this, the model can be tested on progressively larger amounts of historical data, providing a more accurate assessment of its predictive capabilities.\n",
    "\n",
    "<p style=\"text-align: center\">\n",
    "<img src=\"../img/diagram-backtesting-refit.png\" style=\"width: 500px;\">\n",
    "</p>\n",
    "\n",
    "<p style=\"text-align: center\">\n",
    "<img src=\"../img/backtesting_refit.gif\" style=\"width: 650px;\">\n",
    "<br>\n",
    "<font size=\"2.5\"> <i>Backtesting with refit and increasing training size (fixed origin).</i></font>\n",
    "</p>\n",
    "\n",
    "*Note: The arguments needed to achieve this configuration are `refit=True` and `fixed_train_size=False`.*\n",
    "\n",
    "## Backtesting with refit and fixed training size\n",
    "\n",
    "In this approach, the model is trained using a fixed window of past observations, and the testing is performed on a rolling basis, where the training window is moved forward in time. The size of the training window is kept constant, allowing for the model to be tested on different sections of the data. This technique is particularly useful when there is a limited amount of data available, or when the data is non-stationary, and the model's performance may vary over time. Is also known as time series cross-validation or walk-forward validation.\n",
    "\n",
    "<p style=\"text-align: center\">\n",
    "<img src=\"../img/diagram-backtesting-refit-fixed-train-size.png\" style=\"width: 500px;\">\n",
    "</p>\n",
    "\n",
    "<p style=\"text-align: center\">\n",
    "<img src=\"../img/backtesting_refit_fixed_train_size.gif\" style=\"width: 650px;\">\n",
    "<br>\n",
    "<font size=\"2.5\"> <i>Backtesting with refit and fixed training size (rolling origin).</i></font>\n",
    "</p>\n",
    "\n",
    "*Note: The arguments needed to achieve this configuration are `refit=True` and `fixed_train_size=True`.*\n",
    "\n",
    "## Backtesting with intermittent refit\n",
    "\n",
    "The model is retrained every $n$ iterations of prediction. This method is often used when the frequency of retraining and prediction is different. It can be implemented using either a fixed or rolling origin, providing flexibility in adapting the model to new data.\n",
    "\n",
    "<div class=\"admonition note\" name=\"html-admonition\" style=\"background: rgba(0,191,191,.1); padding-top: 0px; padding-bottom: 6px; border-radius: 8px; border-left: 8px solid #00bfa5; border-color: #00bfa5; padding-left: 10px; padding-right: 10px;\">\n",
    "\n",
    "<p class=\"title\">\n",
    "    <i style=\"font-size: 18px; color:#00bfa5;\"></i>\n",
    "    <b style=\"color: #00bfa5;\">&#128161 Tip</b>\n",
    "</p>\n",
    "\n",
    "This strategy usually achieves a good balance between the computational cost of retraining and avoiding model degradation.\n",
    "\n",
    "</div>\n",
    "\n",
    "<p style=\"text-align: center\">\n",
    "<img src=\"../img/backtesting_intermittent_refit.gif\" style=\"width: 650px;\">\n",
    "<br>\n",
    "<font size=\"2.5\"> <i>Backtesting with intermittent refit.</i></font>\n",
    "</p>\n",
    "\n",
    "*Note: The argument needed to achieve this configuration is `refit=n`, where $n$ is an integer. This configuration also allows the use of `fixed_train_size`.*\n",
    "\n",
    "## Backtesting including gap\n",
    "\n",
    "This approach introduces a time gap between the training and test sets, replicating a scenario where predictions cannot be made immediately after the end of the training data.\n",
    "\n",
    "For example, consider the goal of predicting the 24 hours of day D+1, but the predictions need to be made at 11:00 to allow sufficient flexibility. At 11:00 on day D, the task is to forecast hours [12 - 23] of the same day and hours [0 - 23] of day D+1. Thus, a total of 36 hours into the future must be predicted, with only the last 24 hours to be stored.\n",
    "\n",
    "<p style=\"text-align: center\">\n",
    "<img src=\"../img/backtesting_refit_gap.gif\" style=\"width: 650px;\">\n",
    "<br>\n",
    "<font size=\"2.5\"> <i>Backtesting with refit and gap.</i></font>\n",
    "</p>\n",
    "\n",
    "*Note: After setting the desired values for `refit` and `fixed_train_size`. The argument needed to achieve this configuration is `gap=n`, where $n$ is an integer.*\n",
    "\n",
    "## Skip folds\n",
    "\n",
    "All of the above backtesting strategies can be combined with the option to skip a certain number of folds by setting the `skip_folds` argument. Since the model predicts fewer points in time, the computational cost is reduced and the backtesting process is faster. This is particularly useful when one is interested in an approximate estimate of the model's performance, but does not require an exact evaluation, for example, when searching for hyperparameters. If `skip_folds` is an integer, every 'skip_folds'-th is returned. If `skip_folds` is a list, the folds in the list are skipped. For example, if `skip_folds = 3`, and there are 10 folds, the returned folds will be [0, 3, 6, 9]. If `skip_folds` is a list [1, 2, 3], the returned folds will be [0, 4, 5, 6, 7, 8, 9].\n",
    "\n",
    "## Which strategy should I use?\n",
    "\n",
    "To ensure an accurate evaluation of your model and gain confidence in its predictive performance on new data, it is critical to employ an appropriate backtesting strategy. Factors such as use case characteristics, available computing resources and time intervals between predictions need to be considered to determine which strategy to use. These factors determine when the model should be refitted and the prediction horizon that should be used.\n",
    "\n",
    "+ **Prediction horizon** (`steps`): suppose you need to predict the users of an application every Monday for the whole week. In this case, each iteration of backtesting would be a seven-step prediction, representing the seven days of the week.\n",
    "  \n",
    "+ **Refit strategy** (`refit`): Continuing with the example above, at the end of the week you need to decide whether or not to update the model. Training the model with additional data can improve its predictive ability, but it requires more time and computational resources, which may not always be readily available. A reasonable approach is to compare different retrain frequencies and select the one for which the error metric shows a consistent upward trend. This behaviour can be effectively simulated using the backtesting framework.\n",
    "\n",
    "As an example, backtesting is performed using the data from this [skforecast example](https://www.cienciadedatos.net/documentos/py29-forecasting-electricity-power-demand-python.html). The same backtest is run with `steps=24` (predict 24 hours) and different `refit` strategies: `False` (no re-fitting between predictions), re-fitting every `30` days, every `14` days, every `7` days and `True` (re-fitting after every prediction). Notice that the significant increase in time does not correspond to a decrease in error.\n",
    "\n",
    "| refit value | execution time (s) | metric |\n",
    "|------------:|-------------------:|-------:|\n",
    "|       False |                1.4 |  262.5 |\n",
    "|          30 |                4.0 |  263.4 |\n",
    "|          14 |                6.3 |  262.5 |\n",
    "|           7 |               11.1 |  261.4 |\n",
    "|        True |               69.1 |  258.3 |\n",
    "\n",
    "<br>\n",
    "\n",
    "**In general, the more closely the backtesting process resembles the actual scenario in which the model is used, the more reliable the estimated metric will be.**"
   ]
  },
  {
   "attachments": {},
   "cell_type": "markdown",
   "id": "96f2ace4",
   "metadata": {},
   "source": [
    "<div class=\"admonition note\" name=\"html-admonition\" style=\"background: rgba(0,184,212,.1); padding-top: 0px; padding-bottom: 6px; border-radius: 8px; border-left: 8px solid #00b8d4; border-color: #00b8d4; padding-left: 10px; padding-right: 10px;\">\n",
    "\n",
    "<p class=\"title\">\n",
    "    <i style=\"font-size: 18px; color:#00b8d4;\"></i>\n",
    "    <b style=\"color: #00b8d4;\">&#9998 Note</b>\n",
    "</p>\n",
    "\n",
    "All backtesting and grid search functions have been extended to include the <code>n_jobs</code> argument, allowing multi-process parallelization for improved performance. This applies to all functions of the different <code>model_selection</code> modules. \n",
    "\n",
    "The benefits of parallelization depend on several factors, including the regressor used, the number of fits to be performed, and the volume of data involved. When the <code>n_jobs</code> parameter is set to <code>'auto'</code>, the level of parallelization is automatically selected based on heuristic rules that aim to choose the best option for each scenario.\n",
    "\n",
    "For a more detailed look at parallelization, visit <a href=\"../faq/parallelization-skforecast.html\">Parallelization in skforecast</a>.\n",
    "\n",
    "</div>"
   ]
  },
  {
   "attachments": {},
   "cell_type": "markdown",
   "id": "9cfc67be",
   "metadata": {},
   "source": [
    "## Libraries and data"
   ]
  },
  {
   "cell_type": "code",
   "execution_count": 1,
   "id": "b5cf6dad",
   "metadata": {},
   "outputs": [],
   "source": [
    "# Libraries\n",
    "# ==============================================================================\n",
    "import pandas as pd\n",
    "import matplotlib.pyplot as plt\n",
    "from sklearn.linear_model import Ridge\n",
    "from lightgbm import LGBMRegressor\n",
    "from sklearn.metrics import mean_squared_error\n",
    "from skforecast.datasets import fetch_dataset\n",
    "from skforecast.preprocessing import RollingFeatures\n",
    "from skforecast.recursive import ForecasterRecursive\n",
    "from skforecast.model_selection import TimeSeriesFold\n",
    "from skforecast.model_selection import backtesting_forecaster\n",
    "from skforecast.plot import plot_prediction_intervals, set_dark_theme"
   ]
  },
  {
   "cell_type": "code",
   "execution_count": 2,
   "id": "0520b926",
   "metadata": {
    "ExecuteTime": {
     "end_time": "2022-03-04T18:35:16.660907Z",
     "start_time": "2022-03-04T18:35:16.553084Z"
    }
   },
   "outputs": [
    {
     "name": "stdout",
     "output_type": "stream",
     "text": [
      "h2o\n",
      "---\n",
      "Monthly expenditure ($AUD) on corticosteroid drugs that the Australian health\n",
      "system had between 1991 and 2008.\n",
      "Hyndman R (2023). fpp3: Data for Forecasting: Principles and Practice(3rd\n",
      "Edition). http://pkg.robjhyndman.com/fpp3package/,https://github.com/robjhyndman\n",
      "/fpp3package, http://OTexts.com/fpp3.\n",
      "Shape of the dataset: (204, 2)\n",
      "Train dates      : 1991-07-01 00:00:00 --- 2002-01-01 00:00:00  (n=127)\n",
      "Validation dates : 2002-02-01 00:00:00 --- 2008-06-01 00:00:00  (n=77)\n"
     ]
    },
    {
     "data": {
      "image/png": "[encoded data removed]",
      "text/plain": [
       "<Figure size 600x300 with 1 Axes>"
      ]
     },
     "metadata": {},
     "output_type": "display_data"
    },
    {
     "data": {
      "application/vnd.microsoft.datawrangler.viewer.v0+json": {
       "columns": [
        {
         "name": "datetime",
         "rawType": "datetime64[ns]",
         "type": "datetime"
        },
        {
         "name": "y",
         "rawType": "float64",
         "type": "float"
        }
       ],
       "conversionMethod": "pd.DataFrame",
       "ref": "27b14e4f-7ba5-4816-873b-d2108e0372e6",
       "rows": [
        [
         "1991-07-01 00:00:00",
         "0.429795"
        ],
        [
         "1991-08-01 00:00:00",
         "0.400906"
        ],
        [
         "1991-09-01 00:00:00",
         "0.432159"
        ],
        [
         "1991-10-01 00:00:00",
         "0.492543"
        ]
       ],
       "shape": {
        "columns": 1,
        "rows": 4
       }
      },
      "text/html": [
       "<div>\n",
       "<style scoped>\n",
       "    .dataframe tbody tr th:only-of-type {\n",
       "        vertical-align: middle;\n",
       "    }\n",
       "\n",
       "    .dataframe tbody tr th {\n",
       "        vertical-align: top;\n",
       "    }\n",
       "\n",
       "    .dataframe thead th {\n",
       "        text-align: right;\n",
       "    }\n",
       "</style>\n",
       "<table border=\"1\" class=\"dataframe\">\n",
       "  <thead>\n",
       "    <tr style=\"text-align: right;\">\n",
       "      <th></th>\n",
       "      <th>y</th>\n",
       "    </tr>\n",
       "    <tr>\n",
       "      <th>datetime</th>\n",
       "      <th></th>\n",
       "    </tr>\n",
       "  </thead>\n",
       "  <tbody>\n",
       "    <tr>\n",
       "      <th>1991-07-01</th>\n",
       "      <td>0.429795</td>\n",
       "    </tr>\n",
       "    <tr>\n",
       "      <th>1991-08-01</th>\n",
       "      <td>0.400906</td>\n",
       "    </tr>\n",
       "    <tr>\n",
       "      <th>1991-09-01</th>\n",
       "      <td>0.432159</td>\n",
       "    </tr>\n",
       "    <tr>\n",
       "      <th>1991-10-01</th>\n",
       "      <td>0.492543</td>\n",
       "    </tr>\n",
       "  </tbody>\n",
       "</table>\n",
       "</div>"
      ],
      "text/plain": [
       "                   y\n",
       "datetime            \n",
       "1991-07-01  0.429795\n",
       "1991-08-01  0.400906\n",
       "1991-09-01  0.432159\n",
       "1991-10-01  0.492543"
      ]
     },
     "metadata": {},
     "output_type": "display_data"
    }
   ],
   "source": [
    "# Download data\n",
    "# ==============================================================================\n",
    "data = fetch_dataset(\n",
    "    name=\"h2o\", raw=True, kwargs_read_csv={\"names\": [\"y\", \"datetime\"], \"header\": 0}\n",
    ")\n",
    "\n",
    "# Data preprocessing\n",
    "# ==============================================================================\n",
    "data['datetime'] = pd.to_datetime(data['datetime'], format='%Y-%m-%d')\n",
    "data = data.set_index('datetime')\n",
    "data = data.asfreq('MS')\n",
    "data = data[['y']]\n",
    "data = data.sort_index()\n",
    "\n",
    "# Train-validation dates\n",
    "# ==============================================================================\n",
    "end_train = '2002-01-01 23:59:00'\n",
    "\n",
    "print(\n",
    "    f\"Train dates      : {data.index.min()} --- {data.loc[:end_train].index.max()}\"\n",
    "    f\"  (n={len(data.loc[:end_train])})\"\n",
    ")\n",
    "print(\n",
    "    f\"Validation dates : {data.loc[end_train:].index.min()} --- {data.index.max()}\"\n",
    "    f\"  (n={len(data.loc[end_train:])})\"\n",
    ")\n",
    "\n",
    "# Plot\n",
    "# ==============================================================================\n",
    "set_dark_theme()\n",
    "fig, ax = plt.subplots(figsize=(6, 3))\n",
    "data.loc[:end_train].plot(ax=ax, label='train')\n",
    "data.loc[end_train:].plot(ax=ax, label='validation')\n",
    "ax.legend()\n",
    "plt.show()\n",
    "\n",
    "display(data.head(4))"
   ]
  },
  {
   "cell_type": "markdown",
   "id": "0c6e713c",
   "metadata": {},
   "source": [
    "## TimeSeriesFold\n",
    "\n",
    "The [`TimeSeriesFold`](../api/model_selection.html#skforecast.model_selection._split.TimeSeriesFold) class is designed to generate the partitions used in the backtesting process to train and evaluate the model. By leveraging its various arguments, it provides extensive flexibility, enabling the simulation of scenarios such as refit, no refit, rolling origin, and others. The `split` method returns the index positions of the time series corresponding to each partition. When `as_pandas=True` is specified, the output is a DataFrame with detailed information, including descriptive column names."
   ]
  },
  {
   "cell_type": "code",
   "execution_count": 3,
   "id": "541ca35d",
   "metadata": {},
   "outputs": [
    {
     "data": {
      "application/vnd.microsoft.datawrangler.viewer.v0+json": {
       "columns": [
        {
         "name": "index",
         "rawType": "int64",
         "type": "integer"
        },
        {
         "name": "fold",
         "rawType": "int64",
         "type": "integer"
        },
        {
         "name": "train_start",
         "rawType": "int64",
         "type": "integer"
        },
        {
         "name": "train_end",
         "rawType": "int64",
         "type": "integer"
        },
        {
         "name": "last_window_start",
         "rawType": "int64",
         "type": "integer"
        },
        {
         "name": "last_window_end",
         "rawType": "int64",
         "type": "integer"
        },
        {
         "name": "test_start",
         "rawType": "int64",
         "type": "integer"
        },
        {
         "name": "test_end",
         "rawType": "int64",
         "type": "integer"
        },
        {
         "name": "test_start_with_gap",
         "rawType": "int64",
         "type": "integer"
        },
        {
         "name": "test_end_with_gap",
         "rawType": "int64",
         "type": "integer"
        },
        {
         "name": "fit_forecaster",
         "rawType": "bool",
         "type": "boolean"
        }
       ],
       "conversionMethod": "pd.DataFrame",
       "ref": "3ec3f126-9b8c-49aa-a50c-ccdf2f1a5474",
       "rows": [
        [
         "0",
         "0",
         "0",
         "127",
         "117",
         "127",
         "127",
         "137",
         "127",
         "137",
         "True"
        ],
        [
         "1",
         "1",
         "0",
         "137",
         "127",
         "137",
         "137",
         "147",
         "137",
         "147",
         "True"
        ],
        [
         "2",
         "2",
         "0",
         "147",
         "137",
         "147",
         "147",
         "157",
         "147",
         "157",
         "True"
        ],
        [
         "3",
         "3",
         "0",
         "157",
         "147",
         "157",
         "157",
         "167",
         "157",
         "167",
         "True"
        ],
        [
         "4",
         "4",
         "0",
         "167",
         "157",
         "167",
         "167",
         "177",
         "167",
         "177",
         "True"
        ],
        [
         "5",
         "5",
         "0",
         "177",
         "167",
         "177",
         "177",
         "187",
         "177",
         "187",
         "True"
        ],
        [
         "6",
         "6",
         "0",
         "187",
         "177",
         "187",
         "187",
         "197",
         "187",
         "197",
         "True"
        ],
        [
         "7",
         "7",
         "0",
         "197",
         "187",
         "197",
         "197",
         "204",
         "197",
         "204",
         "True"
        ]
       ],
       "shape": {
        "columns": 10,
        "rows": 8
       }
      },
      "text/html": [
       "<div>\n",
       "<style scoped>\n",
       "    .dataframe tbody tr th:only-of-type {\n",
       "        vertical-align: middle;\n",
       "    }\n",
       "\n",
       "    .dataframe tbody tr th {\n",
       "        vertical-align: top;\n",
       "    }\n",
       "\n",
       "    .dataframe thead th {\n",
       "        text-align: right;\n",
       "    }\n",
       "</style>\n",
       "<table border=\"1\" class=\"dataframe\">\n",
       "  <thead>\n",
       "    <tr style=\"text-align: right;\">\n",
       "      <th></th>\n",
       "      <th>fold</th>\n",
       "      <th>train_start</th>\n",
       "      <th>train_end</th>\n",
       "      <th>last_window_start</th>\n",
       "      <th>last_window_end</th>\n",
       "      <th>test_start</th>\n",
       "      <th>test_end</th>\n",
       "      <th>test_start_with_gap</th>\n",
       "      <th>test_end_with_gap</th>\n",
       "      <th>fit_forecaster</th>\n",
       "    </tr>\n",
       "  </thead>\n",
       "  <tbody>\n",
       "    <tr>\n",
       "      <th>0</th>\n",
       "      <td>0</td>\n",
       "      <td>0</td>\n",
       "      <td>127</td>\n",
       "      <td>117</td>\n",
       "      <td>127</td>\n",
       "      <td>127</td>\n",
       "      <td>137</td>\n",
       "      <td>127</td>\n",
       "      <td>137</td>\n",
       "      <td>True</td>\n",
       "    </tr>\n",
       "    <tr>\n",
       "      <th>1</th>\n",
       "      <td>1</td>\n",
       "      <td>0</td>\n",
       "      <td>137</td>\n",
       "      <td>127</td>\n",
       "      <td>137</td>\n",
       "      <td>137</td>\n",
       "      <td>147</td>\n",
       "      <td>137</td>\n",
       "      <td>147</td>\n",
       "      <td>True</td>\n",
       "    </tr>\n",
       "    <tr>\n",
       "      <th>2</th>\n",
       "      <td>2</td>\n",
       "      <td>0</td>\n",
       "      <td>147</td>\n",
       "      <td>137</td>\n",
       "      <td>147</td>\n",
       "      <td>147</td>\n",
       "      <td>157</td>\n",
       "      <td>147</td>\n",
       "      <td>157</td>\n",
       "      <td>True</td>\n",
       "    </tr>\n",
       "    <tr>\n",
       "      <th>3</th>\n",
       "      <td>3</td>\n",
       "      <td>0</td>\n",
       "      <td>157</td>\n",
       "      <td>147</td>\n",
       "      <td>157</td>\n",
       "      <td>157</td>\n",
       "      <td>167</td>\n",
       "      <td>157</td>\n",
       "      <td>167</td>\n",
       "      <td>True</td>\n",
       "    </tr>\n",
       "    <tr>\n",
       "      <th>4</th>\n",
       "      <td>4</td>\n",
       "      <td>0</td>\n",
       "      <td>167</td>\n",
       "      <td>157</td>\n",
       "      <td>167</td>\n",
       "      <td>167</td>\n",
       "      <td>177</td>\n",
       "      <td>167</td>\n",
       "      <td>177</td>\n",
       "      <td>True</td>\n",
       "    </tr>\n",
       "    <tr>\n",
       "      <th>5</th>\n",
       "      <td>5</td>\n",
       "      <td>0</td>\n",
       "      <td>177</td>\n",
       "      <td>167</td>\n",
       "      <td>177</td>\n",
       "      <td>177</td>\n",
       "      <td>187</td>\n",
       "      <td>177</td>\n",
       "      <td>187</td>\n",
       "      <td>True</td>\n",
       "    </tr>\n",
       "    <tr>\n",
       "      <th>6</th>\n",
       "      <td>6</td>\n",
       "      <td>0</td>\n",
       "      <td>187</td>\n",
       "      <td>177</td>\n",
       "      <td>187</td>\n",
       "      <td>187</td>\n",
       "      <td>197</td>\n",
       "      <td>187</td>\n",
       "      <td>197</td>\n",
       "      <td>True</td>\n",
       "    </tr>\n",
       "    <tr>\n",
       "      <th>7</th>\n",
       "      <td>7</td>\n",
       "      <td>0</td>\n",
       "      <td>197</td>\n",
       "      <td>187</td>\n",
       "      <td>197</td>\n",
       "      <td>197</td>\n",
       "      <td>204</td>\n",
       "      <td>197</td>\n",
       "      <td>204</td>\n",
       "      <td>True</td>\n",
       "    </tr>\n",
       "  </tbody>\n",
       "</table>\n",
       "</div>"
      ],
      "text/plain": [
       "   fold  train_start  train_end  last_window_start  last_window_end  \\\n",
       "0     0            0        127                117              127   \n",
       "1     1            0        137                127              137   \n",
       "2     2            0        147                137              147   \n",
       "3     3            0        157                147              157   \n",
       "4     4            0        167                157              167   \n",
       "5     5            0        177                167              177   \n",
       "6     6            0        187                177              187   \n",
       "7     7            0        197                187              197   \n",
       "\n",
       "   test_start  test_end  test_start_with_gap  test_end_with_gap  \\\n",
       "0         127       137                  127                137   \n",
       "1         137       147                  137                147   \n",
       "2         147       157                  147                157   \n",
       "3         157       167                  157                167   \n",
       "4         167       177                  167                177   \n",
       "5         177       187                  177                187   \n",
       "6         187       197                  187                197   \n",
       "7         197       204                  197                204   \n",
       "\n",
       "   fit_forecaster  \n",
       "0            True  \n",
       "1            True  \n",
       "2            True  \n",
       "3            True  \n",
       "4            True  \n",
       "5            True  \n",
       "6            True  \n",
       "7            True  "
      ]
     },
     "execution_count": 3,
     "metadata": {},
     "output_type": "execute_result"
    }
   ],
   "source": [
    "# Create TimeSeriesFold\n",
    "# ==============================================================================\n",
    "cv = TimeSeriesFold(\n",
    "         steps                 = 10,\n",
    "         initial_train_size    = len(data.loc[:end_train]),\n",
    "         window_size           = 10,\n",
    "         refit                 = True,\n",
    "         fixed_train_size      = False,\n",
    "         gap                   = 0,\n",
    "         allow_incomplete_fold = True,\n",
    "         verbose               = False\n",
    "     )\n",
    "\n",
    "cv.split(X=data, as_pandas=True)"
   ]
  },
  {
   "cell_type": "markdown",
   "id": "99972823",
   "metadata": {},
   "source": [
    "It is posible to use a datetime (string compatible with pandas or a pandas Timestamp) as `initial_train_size`. In this case, the initial training set will include all observations up to the specified date (inclusive)."
   ]
  },
  {
   "cell_type": "code",
   "execution_count": 4,
   "id": "7696e5af",
   "metadata": {},
   "outputs": [
    {
     "data": {
      "application/vnd.microsoft.datawrangler.viewer.v0+json": {
       "columns": [
        {
         "name": "index",
         "rawType": "int64",
         "type": "integer"
        },
        {
         "name": "fold",
         "rawType": "int64",
         "type": "integer"
        },
        {
         "name": "train_start",
         "rawType": "int64",
         "type": "integer"
        },
        {
         "name": "train_end",
         "rawType": "int64",
         "type": "integer"
        },
        {
         "name": "last_window_start",
         "rawType": "int64",
         "type": "integer"
        },
        {
         "name": "last_window_end",
         "rawType": "int64",
         "type": "integer"
        },
        {
         "name": "test_start",
         "rawType": "int64",
         "type": "integer"
        },
        {
         "name": "test_end",
         "rawType": "int64",
         "type": "integer"
        },
        {
         "name": "test_start_with_gap",
         "rawType": "int64",
         "type": "integer"
        },
        {
         "name": "test_end_with_gap",
         "rawType": "int64",
         "type": "integer"
        },
        {
         "name": "fit_forecaster",
         "rawType": "bool",
         "type": "boolean"
        }
       ],
       "conversionMethod": "pd.DataFrame",
       "ref": "e98bb2e8-59fc-482d-9e7d-c9e1ed4e4a71",
       "rows": [
        [
         "0",
         "0",
         "0",
         "127",
         "117",
         "127",
         "127",
         "137",
         "127",
         "137",
         "True"
        ],
        [
         "1",
         "1",
         "0",
         "137",
         "127",
         "137",
         "137",
         "147",
         "137",
         "147",
         "True"
        ],
        [
         "2",
         "2",
         "0",
         "147",
         "137",
         "147",
         "147",
         "157",
         "147",
         "157",
         "True"
        ],
        [
         "3",
         "3",
         "0",
         "157",
         "147",
         "157",
         "157",
         "167",
         "157",
         "167",
         "True"
        ],
        [
         "4",
         "4",
         "0",
         "167",
         "157",
         "167",
         "167",
         "177",
         "167",
         "177",
         "True"
        ],
        [
         "5",
         "5",
         "0",
         "177",
         "167",
         "177",
         "177",
         "187",
         "177",
         "187",
         "True"
        ],
        [
         "6",
         "6",
         "0",
         "187",
         "177",
         "187",
         "187",
         "197",
         "187",
         "197",
         "True"
        ],
        [
         "7",
         "7",
         "0",
         "197",
         "187",
         "197",
         "197",
         "204",
         "197",
         "204",
         "True"
        ]
       ],
       "shape": {
        "columns": 10,
        "rows": 8
       }
      },
      "text/html": [
       "<div>\n",
       "<style scoped>\n",
       "    .dataframe tbody tr th:only-of-type {\n",
       "        vertical-align: middle;\n",
       "    }\n",
       "\n",
       "    .dataframe tbody tr th {\n",
       "        vertical-align: top;\n",
       "    }\n",
       "\n",
       "    .dataframe thead th {\n",
       "        text-align: right;\n",
       "    }\n",
       "</style>\n",
       "<table border=\"1\" class=\"dataframe\">\n",
       "  <thead>\n",
       "    <tr style=\"text-align: right;\">\n",
       "      <th></th>\n",
       "      <th>fold</th>\n",
       "      <th>train_start</th>\n",
       "      <th>train_end</th>\n",
       "      <th>last_window_start</th>\n",
       "      <th>last_window_end</th>\n",
       "      <th>test_start</th>\n",
       "      <th>test_end</th>\n",
       "      <th>test_start_with_gap</th>\n",
       "      <th>test_end_with_gap</th>\n",
       "      <th>fit_forecaster</th>\n",
       "    </tr>\n",
       "  </thead>\n",
       "  <tbody>\n",
       "    <tr>\n",
       "      <th>0</th>\n",
       "      <td>0</td>\n",
       "      <td>0</td>\n",
       "      <td>127</td>\n",
       "      <td>117</td>\n",
       "      <td>127</td>\n",
       "      <td>127</td>\n",
       "      <td>137</td>\n",
       "      <td>127</td>\n",
       "      <td>137</td>\n",
       "      <td>True</td>\n",
       "    </tr>\n",
       "    <tr>\n",
       "      <th>1</th>\n",
       "      <td>1</td>\n",
       "      <td>0</td>\n",
       "      <td>137</td>\n",
       "      <td>127</td>\n",
       "      <td>137</td>\n",
       "      <td>137</td>\n",
       "      <td>147</td>\n",
       "      <td>137</td>\n",
       "      <td>147</td>\n",
       "      <td>True</td>\n",
       "    </tr>\n",
       "    <tr>\n",
       "      <th>2</th>\n",
       "      <td>2</td>\n",
       "      <td>0</td>\n",
       "      <td>147</td>\n",
       "      <td>137</td>\n",
       "      <td>147</td>\n",
       "      <td>147</td>\n",
       "      <td>157</td>\n",
       "      <td>147</td>\n",
       "      <td>157</td>\n",
       "      <td>True</td>\n",
       "    </tr>\n",
       "    <tr>\n",
       "      <th>3</th>\n",
       "      <td>3</td>\n",
       "      <td>0</td>\n",
       "      <td>157</td>\n",
       "      <td>147</td>\n",
       "      <td>157</td>\n",
       "      <td>157</td>\n",
       "      <td>167</td>\n",
       "      <td>157</td>\n",
       "      <td>167</td>\n",
       "      <td>True</td>\n",
       "    </tr>\n",
       "    <tr>\n",
       "      <th>4</th>\n",
       "      <td>4</td>\n",
       "      <td>0</td>\n",
       "      <td>167</td>\n",
       "      <td>157</td>\n",
       "      <td>167</td>\n",
       "      <td>167</td>\n",
       "      <td>177</td>\n",
       "      <td>167</td>\n",
       "      <td>177</td>\n",
       "      <td>True</td>\n",
       "    </tr>\n",
       "    <tr>\n",
       "      <th>5</th>\n",
       "      <td>5</td>\n",
       "      <td>0</td>\n",
       "      <td>177</td>\n",
       "      <td>167</td>\n",
       "      <td>177</td>\n",
       "      <td>177</td>\n",
       "      <td>187</td>\n",
       "      <td>177</td>\n",
       "      <td>187</td>\n",
       "      <td>True</td>\n",
       "    </tr>\n",
       "    <tr>\n",
       "      <th>6</th>\n",
       "      <td>6</td>\n",
       "      <td>0</td>\n",
       "      <td>187</td>\n",
       "      <td>177</td>\n",
       "      <td>187</td>\n",
       "      <td>187</td>\n",
       "      <td>197</td>\n",
       "      <td>187</td>\n",
       "      <td>197</td>\n",
       "      <td>True</td>\n",
       "    </tr>\n",
       "    <tr>\n",
       "      <th>7</th>\n",
       "      <td>7</td>\n",
       "      <td>0</td>\n",
       "      <td>197</td>\n",
       "      <td>187</td>\n",
       "      <td>197</td>\n",
       "      <td>197</td>\n",
       "      <td>204</td>\n",
       "      <td>197</td>\n",
       "      <td>204</td>\n",
       "      <td>True</td>\n",
       "    </tr>\n",
       "  </tbody>\n",
       "</table>\n",
       "</div>"
      ],
      "text/plain": [
       "   fold  train_start  train_end  last_window_start  last_window_end  \\\n",
       "0     0            0        127                117              127   \n",
       "1     1            0        137                127              137   \n",
       "2     2            0        147                137              147   \n",
       "3     3            0        157                147              157   \n",
       "4     4            0        167                157              167   \n",
       "5     5            0        177                167              177   \n",
       "6     6            0        187                177              187   \n",
       "7     7            0        197                187              197   \n",
       "\n",
       "   test_start  test_end  test_start_with_gap  test_end_with_gap  \\\n",
       "0         127       137                  127                137   \n",
       "1         137       147                  137                147   \n",
       "2         147       157                  147                157   \n",
       "3         157       167                  157                167   \n",
       "4         167       177                  167                177   \n",
       "5         177       187                  177                187   \n",
       "6         187       197                  187                197   \n",
       "7         197       204                  197                204   \n",
       "\n",
       "   fit_forecaster  \n",
       "0            True  \n",
       "1            True  \n",
       "2            True  \n",
       "3            True  \n",
       "4            True  \n",
       "5            True  \n",
       "6            True  \n",
       "7            True  "
      ]
     },
     "execution_count": 4,
     "metadata": {},
     "output_type": "execute_result"
    }
   ],
   "source": [
    "# Create TimeSeriesFold\n",
    "# ==============================================================================\n",
    "cv = TimeSeriesFold(\n",
    "         steps                 = 10,\n",
    "         initial_train_size    = '2002-01-01 00:00:00',\n",
    "         window_size           = 10,\n",
    "         refit                 = True,\n",
    "         fixed_train_size      = False,\n",
    "         gap                   = 0,\n",
    "         allow_incomplete_fold = True,\n",
    "         verbose               = False\n",
    "     )\n",
    "\n",
    "cv.split(X=data, as_pandas=True)"
   ]
  },
  {
   "cell_type": "markdown",
   "id": "bc24dd4d",
   "metadata": {},
   "source": [
    "When used in combination with `backtesting_forecaster`, the `window_size` argument doesn't need to be specified. This is because `backtesting_forecaster` automatically sets this value based on the configuration of the forecaster. This ensures that the backtesting process is perfectly tailored to the needs of the forecaster."
   ]
  },
  {
   "attachments": {},
   "cell_type": "markdown",
   "id": "1a929f44",
   "metadata": {},
   "source": [
    "## Backtest\n",
    "\n",
    "An example of a backtesting with refit consists of the following steps:\n",
    "\n",
    "1. Train the model using an initial training set, the length of which is specified by `initial_train_size`.\n",
    "\n",
    "2. Once the model is trained, it is used to make predictions for the next 10 steps (`steps=10`) in the data. These predictions are saved for later evaluation.\n",
    "\n",
    "3. As `refit` is set to `True`, the size of the training set is increased by adding the lats 10 data points (the previously predicted 10 steps), while the next 10 steps are used as test data.\n",
    "\n",
    "4. After expanding the training set, the model is retrained using the updated training data and then used to predict the next 10 steps.\n",
    "\n",
    "5. Repeat steps 3 and 4 until the entire series has been tested.\n",
    "\n",
    "By following these steps, you can ensure that the model is evaluated on multiple sets of test data, thereby providing a more accurate assessment of its predictive power. "
   ]
  },
  {
   "cell_type": "code",
   "execution_count": 5,
   "id": "cb953a12",
   "metadata": {
    "ExecuteTime": {
     "end_time": "2022-03-04T18:35:24.488368Z",
     "start_time": "2022-03-04T18:35:22.066351Z"
    }
   },
   "outputs": [
    {
     "name": "stdout",
     "output_type": "stream",
     "text": [
      "Information of folds\n",
      "--------------------\n",
      "Number of observations used for initial training: 127\n",
      "Number of observations used for backtesting: 77\n",
      "    Number of folds: 8\n",
      "    Number skipped folds: 0 \n",
      "    Number of steps per fold: 10\n",
      "    Number of steps to exclude between last observed data (last window) and predictions (gap): 0\n",
      "    Last fold only includes 7 observations.\n",
      "\n",
      "Fold: 0\n",
      "    Training:   1991-07-01 00:00:00 -- 2002-01-01 00:00:00  (n=127)\n",
      "    Validation: 2002-02-01 00:00:00 -- 2002-11-01 00:00:00  (n=10)\n",
      "Fold: 1\n",
      "    Training:   1991-07-01 00:00:00 -- 2002-11-01 00:00:00  (n=137)\n",
      "    Validation: 2002-12-01 00:00:00 -- 2003-09-01 00:00:00  (n=10)\n",
      "Fold: 2\n",
      "    Training:   1991-07-01 00:00:00 -- 2003-09-01 00:00:00  (n=147)\n",
      "    Validation: 2003-10-01 00:00:00 -- 2004-07-01 00:00:00  (n=10)\n",
      "Fold: 3\n",
      "    Training:   1991-07-01 00:00:00 -- 2004-07-01 00:00:00  (n=157)\n",
      "    Validation: 2004-08-01 00:00:00 -- 2005-05-01 00:00:00  (n=10)\n",
      "Fold: 4\n",
      "    Training:   1991-07-01 00:00:00 -- 2005-05-01 00:00:00  (n=167)\n",
      "    Validation: 2005-06-01 00:00:00 -- 2006-03-01 00:00:00  (n=10)\n",
      "Fold: 5\n",
      "    Training:   1991-07-01 00:00:00 -- 2006-03-01 00:00:00  (n=177)\n",
      "    Validation: 2006-04-01 00:00:00 -- 2007-01-01 00:00:00  (n=10)\n",
      "Fold: 6\n",
      "    Training:   1991-07-01 00:00:00 -- 2007-01-01 00:00:00  (n=187)\n",
      "    Validation: 2007-02-01 00:00:00 -- 2007-11-01 00:00:00  (n=10)\n",
      "Fold: 7\n",
      "    Training:   1991-07-01 00:00:00 -- 2007-11-01 00:00:00  (n=197)\n",
      "    Validation: 2007-12-01 00:00:00 -- 2008-06-01 00:00:00  (n=7)\n",
      "\n"
     ]
    },
    {
     "data": {
      "application/vnd.jupyter.widget-view+json": {
       "model_id": "0e7d08f44d8342b3aa2b0b28c4090d90",
       "version_major": 2,
       "version_minor": 0
      },
      "text/plain": [
       "  0%|          | 0/8 [00:00<?, ?it/s]"
      ]
     },
     "metadata": {},
     "output_type": "display_data"
    }
   ],
   "source": [
    "# Backtesting forecaster\n",
    "# ==============================================================================\n",
    "forecaster = ForecasterRecursive(\n",
    "                 regressor       = LGBMRegressor(random_state=123, verbose=-1),\n",
    "                 lags            = 15,\n",
    "                 window_features = RollingFeatures(stats=['mean'], window_sizes=[10])\n",
    "             )\n",
    "\n",
    "cv = TimeSeriesFold(\n",
    "        steps                 = 10,\n",
    "        initial_train_size    = len(data.loc[:end_train]),\n",
    "        refit                 = True,\n",
    "        fixed_train_size      = False,\n",
    "        gap                   = 0,\n",
    "        allow_incomplete_fold = True\n",
    "     )\n",
    "\n",
    "metric, predictions = backtesting_forecaster(\n",
    "                          forecaster    = forecaster,\n",
    "                          y             = data['y'],\n",
    "                          cv            = cv,\n",
    "                          metric        = 'mean_squared_error',\n",
    "                          n_jobs        = 'auto',\n",
    "                          verbose       = True,\n",
    "                          show_progress = True\n",
    "                      )"
   ]
  },
  {
   "cell_type": "code",
   "execution_count": 6,
   "id": "4c48ffbb",
   "metadata": {},
   "outputs": [
    {
     "data": {
      "application/vnd.microsoft.datawrangler.viewer.v0+json": {
       "columns": [
        {
         "name": "index",
         "rawType": "int64",
         "type": "integer"
        },
        {
         "name": "mean_squared_error",
         "rawType": "float64",
         "type": "float"
        }
       ],
       "conversionMethod": "pd.DataFrame",
       "ref": "7182813d-2df1-45e3-83b2-d686d053faed",
       "rows": [
        [
         "0",
         "0.008131116429691955"
        ]
       ],
       "shape": {
        "columns": 1,
        "rows": 1
       }
      },
      "text/html": [
       "<div>\n",
       "<style scoped>\n",
       "    .dataframe tbody tr th:only-of-type {\n",
       "        vertical-align: middle;\n",
       "    }\n",
       "\n",
       "    .dataframe tbody tr th {\n",
       "        vertical-align: top;\n",
       "    }\n",
       "\n",
       "    .dataframe thead th {\n",
       "        text-align: right;\n",
       "    }\n",
       "</style>\n",
       "<table border=\"1\" class=\"dataframe\">\n",
       "  <thead>\n",
       "    <tr style=\"text-align: right;\">\n",
       "      <th></th>\n",
       "      <th>mean_squared_error</th>\n",
       "    </tr>\n",
       "  </thead>\n",
       "  <tbody>\n",
       "    <tr>\n",
       "      <th>0</th>\n",
       "      <td>0.008131</td>\n",
       "    </tr>\n",
       "  </tbody>\n",
       "</table>\n",
       "</div>"
      ],
      "text/plain": [
       "   mean_squared_error\n",
       "0            0.008131"
      ]
     },
     "metadata": {},
     "output_type": "display_data"
    },
    {
     "data": {
      "application/vnd.microsoft.datawrangler.viewer.v0+json": {
       "columns": [
        {
         "name": "index",
         "rawType": "datetime64[ns]",
         "type": "datetime"
        },
        {
         "name": "pred",
         "rawType": "float64",
         "type": "float"
        }
       ],
       "conversionMethod": "pd.DataFrame",
       "ref": "defbc69b-f3b1-42c4-95e0-cb87aeaffafe",
       "rows": [
        [
         "2002-02-01 00:00:00",
         "0.5700823362986753"
        ],
        [
         "2002-03-01 00:00:00",
         "0.7318834271414993"
        ],
        [
         "2002-04-01 00:00:00",
         "0.6979416052135579"
        ],
        [
         "2002-05-01 00:00:00",
         "0.7528743874673427"
        ]
       ],
       "shape": {
        "columns": 1,
        "rows": 4
       }
      },
      "text/html": [
       "<div>\n",
       "<style scoped>\n",
       "    .dataframe tbody tr th:only-of-type {\n",
       "        vertical-align: middle;\n",
       "    }\n",
       "\n",
       "    .dataframe tbody tr th {\n",
       "        vertical-align: top;\n",
       "    }\n",
       "\n",
       "    .dataframe thead th {\n",
       "        text-align: right;\n",
       "    }\n",
       "</style>\n",
       "<table border=\"1\" class=\"dataframe\">\n",
       "  <thead>\n",
       "    <tr style=\"text-align: right;\">\n",
       "      <th></th>\n",
       "      <th>pred</th>\n",
       "    </tr>\n",
       "  </thead>\n",
       "  <tbody>\n",
       "    <tr>\n",
       "      <th>2002-02-01</th>\n",
       "      <td>0.570082</td>\n",
       "    </tr>\n",
       "    <tr>\n",
       "      <th>2002-03-01</th>\n",
       "      <td>0.731883</td>\n",
       "    </tr>\n",
       "    <tr>\n",
       "      <th>2002-04-01</th>\n",
       "      <td>0.697942</td>\n",
       "    </tr>\n",
       "    <tr>\n",
       "      <th>2002-05-01</th>\n",
       "      <td>0.752874</td>\n",
       "    </tr>\n",
       "  </tbody>\n",
       "</table>\n",
       "</div>"
      ],
      "text/plain": [
       "                pred\n",
       "2002-02-01  0.570082\n",
       "2002-03-01  0.731883\n",
       "2002-04-01  0.697942\n",
       "2002-05-01  0.752874"
      ]
     },
     "execution_count": 6,
     "metadata": {},
     "output_type": "execute_result"
    }
   ],
   "source": [
    "# Backtest error and predictions\n",
    "# ==============================================================================\n",
    "display(metric)\n",
    "predictions.head(4)"
   ]
  },
  {
   "cell_type": "code",
   "execution_count": 7,
   "id": "fb022c82",
   "metadata": {
    "ExecuteTime": {
     "end_time": "2022-03-04T18:37:12.324865Z",
     "start_time": "2022-03-04T18:37:12.083436Z"
    }
   },
   "outputs": [
    {
     "data": {
      "image/png": "[encoded data removed]",
      "text/plain": [
       "<Figure size 600x300 with 1 Axes>"
      ]
     },
     "metadata": {},
     "output_type": "display_data"
    }
   ],
   "source": [
    "# Plot predictions\n",
    "# ==============================================================================\n",
    "fig, ax = plt.subplots(figsize=(6, 3))\n",
    "data.loc[end_train:, 'y'].plot(ax=ax)\n",
    "predictions.plot(ax=ax)\n",
    "ax.legend()\n",
    "plt.show();"
   ]
  },
  {
   "attachments": {},
   "cell_type": "markdown",
   "id": "c1e8d685",
   "metadata": {},
   "source": [
    "## Backtesting intermittent refit\n",
    "\n",
    "The same backtesting as above is repeated, but this time with `refit = 3`. The training of the model is done every 3 folds instead of every fold."
   ]
  },
  {
   "attachments": {},
   "cell_type": "markdown",
   "id": "d6385b66",
   "metadata": {},
   "source": [
    "<div class=\"admonition note\" name=\"html-admonition\" style=\"background: rgba(0,184,212,.1); padding-top: 0px; padding-bottom: 6px; border-radius: 8px; border-left: 8px solid #00b8d4; border-color: #00b8d4; padding-left: 10px; padding-right: 10px;\">\n",
    "\n",
    "<p class=\"title\">\n",
    "    <i style=\"font-size: 18px; color:#00b8d4;\"></i>\n",
    "    <b style=\"color: #00b8d4;\">&#9998 Note</b>\n",
    "</p>\n",
    "\n",
    "With an intermittent refit, the model is trained every `refit` * `steps` observations. In this case, 3 * 10 = 30 observations. This can be easily observed in the `verbose` logs.\n",
    "\n",
    "</div>"
   ]
  },
  {
   "cell_type": "code",
   "execution_count": 8,
   "id": "b4e7c479",
   "metadata": {},
   "outputs": [
    {
     "name": "stdout",
     "output_type": "stream",
     "text": [
      "Information of folds\n",
      "--------------------\n",
      "Number of observations used for initial training: 127\n",
      "Number of observations used for backtesting: 77\n",
      "    Number of folds: 8\n",
      "    Number skipped folds: 0 \n",
      "    Number of steps per fold: 10\n",
      "    Number of steps to exclude between last observed data (last window) and predictions (gap): 0\n",
      "    Last fold only includes 7 observations.\n",
      "\n",
      "Fold: 0\n",
      "    Training:   1991-07-01 00:00:00 -- 2002-01-01 00:00:00  (n=127)\n",
      "    Validation: 2002-02-01 00:00:00 -- 2002-11-01 00:00:00  (n=10)\n",
      "Fold: 1\n",
      "    Training:   No training in this fold\n",
      "    Validation: 2002-12-01 00:00:00 -- 2003-09-01 00:00:00  (n=10)\n",
      "Fold: 2\n",
      "    Training:   No training in this fold\n",
      "    Validation: 2003-10-01 00:00:00 -- 2004-07-01 00:00:00  (n=10)\n",
      "Fold: 3\n",
      "    Training:   1991-07-01 00:00:00 -- 2004-07-01 00:00:00  (n=157)\n",
      "    Validation: 2004-08-01 00:00:00 -- 2005-05-01 00:00:00  (n=10)\n",
      "Fold: 4\n",
      "    Training:   No training in this fold\n",
      "    Validation: 2005-06-01 00:00:00 -- 2006-03-01 00:00:00  (n=10)\n",
      "Fold: 5\n",
      "    Training:   No training in this fold\n",
      "    Validation: 2006-04-01 00:00:00 -- 2007-01-01 00:00:00  (n=10)\n",
      "Fold: 6\n",
      "    Training:   1991-07-01 00:00:00 -- 2007-01-01 00:00:00  (n=187)\n",
      "    Validation: 2007-02-01 00:00:00 -- 2007-11-01 00:00:00  (n=10)\n",
      "Fold: 7\n",
      "    Training:   No training in this fold\n",
      "    Validation: 2007-12-01 00:00:00 -- 2008-06-01 00:00:00  (n=7)\n",
      "\n"
     ]
    },
    {
     "data": {
      "application/vnd.jupyter.widget-view+json": {
       "model_id": "f274a3d57d28490fab852b78dbcfdbd0",
       "version_major": 2,
       "version_minor": 0
      },
      "text/plain": [
       "  0%|          | 0/8 [00:00<?, ?it/s]"
      ]
     },
     "metadata": {},
     "output_type": "display_data"
    }
   ],
   "source": [
    "# Backtesting with intermittent refit\n",
    "# ==============================================================================\n",
    "forecaster = ForecasterRecursive(\n",
    "                 regressor       = LGBMRegressor(random_state=123, verbose=-1),\n",
    "                 lags            = 15,\n",
    "                 window_features = RollingFeatures(stats=['mean'], window_sizes=[10])\n",
    "             )\n",
    "\n",
    "cv = TimeSeriesFold(\n",
    "         steps                 = 10,\n",
    "         initial_train_size    = len(data.loc[:end_train]),\n",
    "         refit                 = 3,\n",
    "         fixed_train_size      = False,\n",
    "         gap                   = 0,\n",
    "         allow_incomplete_fold = True\n",
    "     )\n",
    "\n",
    "metric, predictions = backtesting_forecaster(\n",
    "                          forecaster    = forecaster,\n",
    "                          y             = data['y'],\n",
    "                          cv            = cv,\n",
    "                          metric        = 'mean_squared_error',\n",
    "                          verbose       = True,\n",
    "                          show_progress = True\n",
    "                      )"
   ]
  },
  {
   "cell_type": "code",
   "execution_count": 9,
   "id": "e0b98098",
   "metadata": {},
   "outputs": [
    {
     "data": {
      "application/vnd.microsoft.datawrangler.viewer.v0+json": {
       "columns": [
        {
         "name": "index",
         "rawType": "int64",
         "type": "integer"
        },
        {
         "name": "mean_squared_error",
         "rawType": "float64",
         "type": "float"
        }
       ],
       "conversionMethod": "pd.DataFrame",
       "ref": "ad9f31d0-b97b-4886-b277-c10e931c7318",
       "rows": [
        [
         "0",
         "0.008630230996539619"
        ]
       ],
       "shape": {
        "columns": 1,
        "rows": 1
       }
      },
      "text/html": [
       "<div>\n",
       "<style scoped>\n",
       "    .dataframe tbody tr th:only-of-type {\n",
       "        vertical-align: middle;\n",
       "    }\n",
       "\n",
       "    .dataframe tbody tr th {\n",
       "        vertical-align: top;\n",
       "    }\n",
       "\n",
       "    .dataframe thead th {\n",
       "        text-align: right;\n",
       "    }\n",
       "</style>\n",
       "<table border=\"1\" class=\"dataframe\">\n",
       "  <thead>\n",
       "    <tr style=\"text-align: right;\">\n",
       "      <th></th>\n",
       "      <th>mean_squared_error</th>\n",
       "    </tr>\n",
       "  </thead>\n",
       "  <tbody>\n",
       "    <tr>\n",
       "      <th>0</th>\n",
       "      <td>0.00863</td>\n",
       "    </tr>\n",
       "  </tbody>\n",
       "</table>\n",
       "</div>"
      ],
      "text/plain": [
       "   mean_squared_error\n",
       "0             0.00863"
      ]
     },
     "metadata": {},
     "output_type": "display_data"
    },
    {
     "data": {
      "application/vnd.microsoft.datawrangler.viewer.v0+json": {
       "columns": [
        {
         "name": "index",
         "rawType": "datetime64[ns]",
         "type": "datetime"
        },
        {
         "name": "pred",
         "rawType": "float64",
         "type": "float"
        }
       ],
       "conversionMethod": "pd.DataFrame",
       "ref": "41963b74-f362-4339-b957-b95c56fd46bb",
       "rows": [
        [
         "2002-02-01 00:00:00",
         "0.5700823362986753"
        ],
        [
         "2002-03-01 00:00:00",
         "0.7318834271414993"
        ],
        [
         "2002-04-01 00:00:00",
         "0.6979416052135579"
        ],
        [
         "2002-05-01 00:00:00",
         "0.7528743874673427"
        ]
       ],
       "shape": {
        "columns": 1,
        "rows": 4
       }
      },
      "text/html": [
       "<div>\n",
       "<style scoped>\n",
       "    .dataframe tbody tr th:only-of-type {\n",
       "        vertical-align: middle;\n",
       "    }\n",
       "\n",
       "    .dataframe tbody tr th {\n",
       "        vertical-align: top;\n",
       "    }\n",
       "\n",
       "    .dataframe thead th {\n",
       "        text-align: right;\n",
       "    }\n",
       "</style>\n",
       "<table border=\"1\" class=\"dataframe\">\n",
       "  <thead>\n",
       "    <tr style=\"text-align: right;\">\n",
       "      <th></th>\n",
       "      <th>pred</th>\n",
       "    </tr>\n",
       "  </thead>\n",
       "  <tbody>\n",
       "    <tr>\n",
       "      <th>2002-02-01</th>\n",
       "      <td>0.570082</td>\n",
       "    </tr>\n",
       "    <tr>\n",
       "      <th>2002-03-01</th>\n",
       "      <td>0.731883</td>\n",
       "    </tr>\n",
       "    <tr>\n",
       "      <th>2002-04-01</th>\n",
       "      <td>0.697942</td>\n",
       "    </tr>\n",
       "    <tr>\n",
       "      <th>2002-05-01</th>\n",
       "      <td>0.752874</td>\n",
       "    </tr>\n",
       "  </tbody>\n",
       "</table>\n",
       "</div>"
      ],
      "text/plain": [
       "                pred\n",
       "2002-02-01  0.570082\n",
       "2002-03-01  0.731883\n",
       "2002-04-01  0.697942\n",
       "2002-05-01  0.752874"
      ]
     },
     "execution_count": 9,
     "metadata": {},
     "output_type": "execute_result"
    }
   ],
   "source": [
    "# Backtest error and predictions\n",
    "# ==============================================================================\n",
    "display(metric)\n",
    "predictions.head(4)"
   ]
  },
  {
   "attachments": {},
   "cell_type": "markdown",
   "id": "161622f5",
   "metadata": {},
   "source": [
    "## Backtesting with gap\n",
    "\n",
    "The gap size can be adjusted with the `gap` argument. In addition, the `allow_incomplete_fold` parameter allows the last fold to be excluded from the analysis if it doesn't have the same size as the required number of `steps`.\n",
    "\n",
    "These arguments can be used in conjunction with either refit set to `True` or `False`, depending on the needs and objectives of the use case."
   ]
  },
  {
   "attachments": {},
   "cell_type": "markdown",
   "id": "98522c3c",
   "metadata": {},
   "source": [
    "<div class=\"admonition note\" name=\"html-admonition\" style=\"background: rgba(0,184,212,.1); padding-top: 0px; padding-bottom: 6px; border-radius: 8px; border-left: 8px solid #00b8d4; border-color: #00b8d4; padding-left: 10px; padding-right: 10px;\">\n",
    "\n",
    "<p class=\"title\">\n",
    "    <i style=\"font-size: 18px; color:#00b8d4;\"></i>\n",
    "    <b style=\"color: #00b8d4;\">&#9998 Note</b>\n",
    "</p>\n",
    "\n",
    "In this example, although only the last 10 predictions (steps) are stored for model evaluation, the total number of predicted steps in each fold is 15 (steps + gap).\n",
    "\n",
    "</div>"
   ]
  },
  {
   "cell_type": "code",
   "execution_count": 10,
   "id": "4a3b351e",
   "metadata": {},
   "outputs": [
    {
     "name": "stdout",
     "output_type": "stream",
     "text": [
      "Information of folds\n",
      "--------------------\n",
      "Number of observations used for initial training: 127\n",
      "Number of observations used for backtesting: 77\n",
      "    Number of folds: 7\n",
      "    Number skipped folds: 0 \n",
      "    Number of steps per fold: 10\n",
      "    Number of steps to exclude between last observed data (last window) and predictions (gap): 5\n",
      "    Last fold has been excluded because it was incomplete.\n",
      "\n",
      "Fold: 0\n",
      "    Training:   1991-07-01 00:00:00 -- 2002-01-01 00:00:00  (n=127)\n",
      "    Validation: 2002-07-01 00:00:00 -- 2003-04-01 00:00:00  (n=10)\n",
      "Fold: 1\n",
      "    Training:   1991-07-01 00:00:00 -- 2002-11-01 00:00:00  (n=137)\n",
      "    Validation: 2003-05-01 00:00:00 -- 2004-02-01 00:00:00  (n=10)\n",
      "Fold: 2\n",
      "    Training:   1991-07-01 00:00:00 -- 2003-09-01 00:00:00  (n=147)\n",
      "    Validation: 2004-03-01 00:00:00 -- 2004-12-01 00:00:00  (n=10)\n",
      "Fold: 3\n",
      "    Training:   1991-07-01 00:00:00 -- 2004-07-01 00:00:00  (n=157)\n",
      "    Validation: 2005-01-01 00:00:00 -- 2005-10-01 00:00:00  (n=10)\n",
      "Fold: 4\n",
      "    Training:   1991-07-01 00:00:00 -- 2005-05-01 00:00:00  (n=167)\n",
      "    Validation: 2005-11-01 00:00:00 -- 2006-08-01 00:00:00  (n=10)\n",
      "Fold: 5\n",
      "    Training:   1991-07-01 00:00:00 -- 2006-03-01 00:00:00  (n=177)\n",
      "    Validation: 2006-09-01 00:00:00 -- 2007-06-01 00:00:00  (n=10)\n",
      "Fold: 6\n",
      "    Training:   1991-07-01 00:00:00 -- 2007-01-01 00:00:00  (n=187)\n",
      "    Validation: 2007-07-01 00:00:00 -- 2008-04-01 00:00:00  (n=10)\n",
      "\n"
     ]
    },
    {
     "data": {
      "application/vnd.jupyter.widget-view+json": {
       "model_id": "0c8892a45e6b484e8f6b09e65d4dad30",
       "version_major": 2,
       "version_minor": 0
      },
      "text/plain": [
       "  0%|          | 0/7 [00:00<?, ?it/s]"
      ]
     },
     "metadata": {},
     "output_type": "display_data"
    }
   ],
   "source": [
    "# Backtesting forecaster\n",
    "# ==============================================================================\n",
    "forecaster = ForecasterRecursive(\n",
    "                 regressor       = LGBMRegressor(random_state=123, verbose=-1),\n",
    "                 lags            = 15,\n",
    "                 window_features = RollingFeatures(stats=['mean'], window_sizes=[10])\n",
    "             )\n",
    "\n",
    "cv = TimeSeriesFold(\n",
    "         steps                 = 10,\n",
    "         initial_train_size    = len(data.loc[:end_train]),\n",
    "         refit                 = True,\n",
    "         fixed_train_size      = False,\n",
    "         gap                   = 5,\n",
    "         allow_incomplete_fold = False\n",
    "     )\n",
    "\n",
    "metric, predictions = backtesting_forecaster(\n",
    "                          forecaster    = forecaster,\n",
    "                          y             = data['y'],\n",
    "                          cv            = cv,\n",
    "                          metric        = 'mean_squared_error',\n",
    "                          verbose       = True,\n",
    "                          show_progress = True\n",
    "                      )"
   ]
  },
  {
   "cell_type": "code",
   "execution_count": 11,
   "id": "8ff6f6cf",
   "metadata": {},
   "outputs": [
    {
     "data": {
      "application/vnd.microsoft.datawrangler.viewer.v0+json": {
       "columns": [
        {
         "name": "index",
         "rawType": "int64",
         "type": "integer"
        },
        {
         "name": "mean_squared_error",
         "rawType": "float64",
         "type": "float"
        }
       ],
       "conversionMethod": "pd.DataFrame",
       "ref": "a097a6eb-a55a-4953-854a-c692f6083652",
       "rows": [
        [
         "0",
         "0.009746274586001285"
        ]
       ],
       "shape": {
        "columns": 1,
        "rows": 1
       }
      },
      "text/html": [
       "<div>\n",
       "<style scoped>\n",
       "    .dataframe tbody tr th:only-of-type {\n",
       "        vertical-align: middle;\n",
       "    }\n",
       "\n",
       "    .dataframe tbody tr th {\n",
       "        vertical-align: top;\n",
       "    }\n",
       "\n",
       "    .dataframe thead th {\n",
       "        text-align: right;\n",
       "    }\n",
       "</style>\n",
       "<table border=\"1\" class=\"dataframe\">\n",
       "  <thead>\n",
       "    <tr style=\"text-align: right;\">\n",
       "      <th></th>\n",
       "      <th>mean_squared_error</th>\n",
       "    </tr>\n",
       "  </thead>\n",
       "  <tbody>\n",
       "    <tr>\n",
       "      <th>0</th>\n",
       "      <td>0.009746</td>\n",
       "    </tr>\n",
       "  </tbody>\n",
       "</table>\n",
       "</div>"
      ],
      "text/plain": [
       "   mean_squared_error\n",
       "0            0.009746"
      ]
     },
     "metadata": {},
     "output_type": "display_data"
    },
    {
     "data": {
      "application/vnd.microsoft.datawrangler.viewer.v0+json": {
       "columns": [
        {
         "name": "index",
         "rawType": "datetime64[ns]",
         "type": "datetime"
        },
        {
         "name": "pred",
         "rawType": "float64",
         "type": "float"
        }
       ],
       "conversionMethod": "pd.DataFrame",
       "ref": "163a4c79-442c-4e00-93fe-0d7689c5347f",
       "rows": [
        [
         "2002-07-01 00:00:00",
         "0.8476882316734555"
        ],
        [
         "2002-08-01 00:00:00",
         "0.9076621656939348"
        ],
        [
         "2002-09-01 00:00:00",
         "0.9323601899634087"
        ],
        [
         "2002-10-01 00:00:00",
         "0.9880478238442785"
        ]
       ],
       "shape": {
        "columns": 1,
        "rows": 4
       }
      },
      "text/html": [
       "<div>\n",
       "<style scoped>\n",
       "    .dataframe tbody tr th:only-of-type {\n",
       "        vertical-align: middle;\n",
       "    }\n",
       "\n",
       "    .dataframe tbody tr th {\n",
       "        vertical-align: top;\n",
       "    }\n",
       "\n",
       "    .dataframe thead th {\n",
       "        text-align: right;\n",
       "    }\n",
       "</style>\n",
       "<table border=\"1\" class=\"dataframe\">\n",
       "  <thead>\n",
       "    <tr style=\"text-align: right;\">\n",
       "      <th></th>\n",
       "      <th>pred</th>\n",
       "    </tr>\n",
       "  </thead>\n",
       "  <tbody>\n",
       "    <tr>\n",
       "      <th>2002-07-01</th>\n",
       "      <td>0.847688</td>\n",
       "    </tr>\n",
       "    <tr>\n",
       "      <th>2002-08-01</th>\n",
       "      <td>0.907662</td>\n",
       "    </tr>\n",
       "    <tr>\n",
       "      <th>2002-09-01</th>\n",
       "      <td>0.932360</td>\n",
       "    </tr>\n",
       "    <tr>\n",
       "      <th>2002-10-01</th>\n",
       "      <td>0.988048</td>\n",
       "    </tr>\n",
       "  </tbody>\n",
       "</table>\n",
       "</div>"
      ],
      "text/plain": [
       "                pred\n",
       "2002-07-01  0.847688\n",
       "2002-08-01  0.907662\n",
       "2002-09-01  0.932360\n",
       "2002-10-01  0.988048"
      ]
     },
     "execution_count": 11,
     "metadata": {},
     "output_type": "execute_result"
    }
   ],
   "source": [
    "# Backtest error and predictions\n",
    "# ==============================================================================\n",
    "display(metric)\n",
    "predictions.head(4)"
   ]
  },
  {
   "cell_type": "markdown",
   "id": "3640770b",
   "metadata": {},
   "source": [
    "## Backtesting with skip folds\n",
    "\n",
    "+ If `skip_folds` is an integer, every 'skip_folds'-th is returned. For example, if `skip_folds = 3` and there are 10 folds, the returned folds will be [0, 3, 6, 9].\n",
    "\n",
    "+ If `skip_folds` is a list, the folds in the list are skipped. If `skip_folds = [1, 2, 3]` and there are 10 folds, the returned folds will be [0, 4, 5, 6, 7, 8, 9]."
   ]
  },
  {
   "cell_type": "code",
   "execution_count": 12,
   "id": "a64f0bf7",
   "metadata": {},
   "outputs": [
    {
     "name": "stdout",
     "output_type": "stream",
     "text": [
      "Information of folds\n",
      "--------------------\n",
      "Number of observations used for initial training: 127\n",
      "Number of observations used for backtesting: 77\n",
      "    Number of folds: 8\n",
      "    Number skipped folds: 4 [1, 3, 5, 7]\n",
      "    Number of steps per fold: 10\n",
      "    Number of steps to exclude between last observed data (last window) and predictions (gap): 0\n",
      "    Last fold only includes 7 observations.\n",
      "\n",
      "Fold: 0\n",
      "    Training:   1991-07-01 00:00:00 -- 2002-01-01 00:00:00  (n=127)\n",
      "    Validation: 2002-02-01 00:00:00 -- 2002-11-01 00:00:00  (n=10)\n",
      "Fold: 1\n",
      "    Fold skipped\n",
      "Fold: 2\n",
      "    Training:   1991-07-01 00:00:00 -- 2003-09-01 00:00:00  (n=147)\n",
      "    Validation: 2003-10-01 00:00:00 -- 2004-07-01 00:00:00  (n=10)\n",
      "Fold: 3\n",
      "    Fold skipped\n",
      "Fold: 4\n",
      "    Training:   1991-07-01 00:00:00 -- 2005-05-01 00:00:00  (n=167)\n",
      "    Validation: 2005-06-01 00:00:00 -- 2006-03-01 00:00:00  (n=10)\n",
      "Fold: 5\n",
      "    Fold skipped\n",
      "Fold: 6\n",
      "    Training:   1991-07-01 00:00:00 -- 2007-01-01 00:00:00  (n=187)\n",
      "    Validation: 2007-02-01 00:00:00 -- 2007-11-01 00:00:00  (n=10)\n",
      "Fold: 7\n",
      "    Fold skipped\n",
      "\n"
     ]
    },
    {
     "data": {
      "application/vnd.jupyter.widget-view+json": {
       "model_id": "57a103f6bdd247499b3a554ec73b86e1",
       "version_major": 2,
       "version_minor": 0
      },
      "text/plain": [
       "  0%|          | 0/4 [00:00<?, ?it/s]"
      ]
     },
     "metadata": {},
     "output_type": "display_data"
    }
   ],
   "source": [
    "# Backtesting forecaster with refit and skip folds\n",
    "# ==============================================================================\n",
    "forecaster = ForecasterRecursive(\n",
    "                 regressor       = LGBMRegressor(random_state=123, verbose=-1),\n",
    "                 lags            = 15,\n",
    "                 window_features = RollingFeatures(stats=['mean'], window_sizes=[10])\n",
    "             )\n",
    "\n",
    "cv = TimeSeriesFold(\n",
    "         steps                 = 10,\n",
    "         initial_train_size    = len(data.loc[:end_train]),\n",
    "         refit                 = True,\n",
    "         fixed_train_size      = False,\n",
    "         gap                   = 0,\n",
    "         skip_folds            = 2,\n",
    "         allow_incomplete_fold = True\n",
    "     )\n",
    "\n",
    "metric, predictions = backtesting_forecaster(\n",
    "                          forecaster    = forecaster,\n",
    "                          y             = data['y'],\n",
    "                          cv            = cv,\n",
    "                          metric        = 'mean_squared_error',\n",
    "                          n_jobs        = 'auto',\n",
    "                          verbose       = True,\n",
    "                          show_progress = True\n",
    "                      )"
   ]
  },
  {
   "cell_type": "code",
   "execution_count": 13,
   "id": "04377eb7",
   "metadata": {},
   "outputs": [
    {
     "data": {
      "application/vnd.microsoft.datawrangler.viewer.v0+json": {
       "columns": [
        {
         "name": "index",
         "rawType": "int64",
         "type": "integer"
        },
        {
         "name": "mean_squared_error",
         "rawType": "float64",
         "type": "float"
        }
       ],
       "conversionMethod": "pd.DataFrame",
       "ref": "04273ebc-de8f-4728-8828-55872bd68795",
       "rows": [
        [
         "0",
         "0.005369645600367243"
        ]
       ],
       "shape": {
        "columns": 1,
        "rows": 1
       }
      },
      "text/html": [
       "<div>\n",
       "<style scoped>\n",
       "    .dataframe tbody tr th:only-of-type {\n",
       "        vertical-align: middle;\n",
       "    }\n",
       "\n",
       "    .dataframe tbody tr th {\n",
       "        vertical-align: top;\n",
       "    }\n",
       "\n",
       "    .dataframe thead th {\n",
       "        text-align: right;\n",
       "    }\n",
       "</style>\n",
       "<table border=\"1\" class=\"dataframe\">\n",
       "  <thead>\n",
       "    <tr style=\"text-align: right;\">\n",
       "      <th></th>\n",
       "      <th>mean_squared_error</th>\n",
       "    </tr>\n",
       "  </thead>\n",
       "  <tbody>\n",
       "    <tr>\n",
       "      <th>0</th>\n",
       "      <td>0.00537</td>\n",
       "    </tr>\n",
       "  </tbody>\n",
       "</table>\n",
       "</div>"
      ],
      "text/plain": [
       "   mean_squared_error\n",
       "0             0.00537"
      ]
     },
     "metadata": {},
     "output_type": "display_data"
    },
    {
     "data": {
      "application/vnd.microsoft.datawrangler.viewer.v0+json": {
       "columns": [
        {
         "name": "index",
         "rawType": "datetime64[ns]",
         "type": "datetime"
        },
        {
         "name": "pred",
         "rawType": "float64",
         "type": "float"
        }
       ],
       "conversionMethod": "pd.DataFrame",
       "ref": "b6d584b9-9a63-413b-bc1c-8892c8ca34f8",
       "rows": [
        [
         "2002-02-01 00:00:00",
         "0.5700823362986753"
        ],
        [
         "2002-03-01 00:00:00",
         "0.7318834271414993"
        ],
        [
         "2002-04-01 00:00:00",
         "0.6979416052135579"
        ],
        [
         "2002-05-01 00:00:00",
         "0.7528743874673427"
        ]
       ],
       "shape": {
        "columns": 1,
        "rows": 4
       }
      },
      "text/html": [
       "<div>\n",
       "<style scoped>\n",
       "    .dataframe tbody tr th:only-of-type {\n",
       "        vertical-align: middle;\n",
       "    }\n",
       "\n",
       "    .dataframe tbody tr th {\n",
       "        vertical-align: top;\n",
       "    }\n",
       "\n",
       "    .dataframe thead th {\n",
       "        text-align: right;\n",
       "    }\n",
       "</style>\n",
       "<table border=\"1\" class=\"dataframe\">\n",
       "  <thead>\n",
       "    <tr style=\"text-align: right;\">\n",
       "      <th></th>\n",
       "      <th>pred</th>\n",
       "    </tr>\n",
       "  </thead>\n",
       "  <tbody>\n",
       "    <tr>\n",
       "      <th>2002-02-01</th>\n",
       "      <td>0.570082</td>\n",
       "    </tr>\n",
       "    <tr>\n",
       "      <th>2002-03-01</th>\n",
       "      <td>0.731883</td>\n",
       "    </tr>\n",
       "    <tr>\n",
       "      <th>2002-04-01</th>\n",
       "      <td>0.697942</td>\n",
       "    </tr>\n",
       "    <tr>\n",
       "      <th>2002-05-01</th>\n",
       "      <td>0.752874</td>\n",
       "    </tr>\n",
       "  </tbody>\n",
       "</table>\n",
       "</div>"
      ],
      "text/plain": [
       "                pred\n",
       "2002-02-01  0.570082\n",
       "2002-03-01  0.731883\n",
       "2002-04-01  0.697942\n",
       "2002-05-01  0.752874"
      ]
     },
     "execution_count": 13,
     "metadata": {},
     "output_type": "execute_result"
    }
   ],
   "source": [
    "# Backtest error and predictions\n",
    "# ==============================================================================\n",
    "display(metric)\n",
    "predictions.head(4)"
   ]
  },
  {
   "attachments": {},
   "cell_type": "markdown",
   "id": "a64e85b6",
   "metadata": {},
   "source": [
    "## Backtesting with prediction intervals\n",
    "\n",
    "Backtesting can be used not only to obtain point estimate predictions but also to obtain prediction intervals. Prediction intervals provide a range of values within which the actual values are expected to fall with a certain level of confidence. By estimating prediction intervals during backtesting, one can get a better understanding of the uncertainty associated with your model's predictions. This information can be used to evaluate the reliability of the model's predictions and to make more informed decisions.\n",
    "\n",
    "To learn more about probabilistic forecasting features available in skforecast, see [Probabilistic forecasting](../user_guides/probabilistic-forecasting-overview.html). \n",
    "\n",
    "The `interval` argument can be specified as:\n",
    "\n",
    "- If `list` or `tuple`: Sequence of percentiles to compute, each value must be between 0 and 100 inclusive. For example, a 95% confidence interval can be specified as `interval = [2.5, 97.5]` or multiple percentiles (e.g. 10, 50 and 90) as `interval = [10, 50, 90]`.\n",
    "\n",
    "- If `'bootstrapping'` (str): `n_boot` bootstrapping predictions will be generated.\n",
    "\n",
    "- If `scipy.stats distribution object`, the distribution parameters will be estimated for each prediction.\n",
    "\n",
    "- If `None`, no probabilistic predictions are estimated."
   ]
  },
  {
   "cell_type": "code",
   "execution_count": 14,
   "id": "773e4845",
   "metadata": {
    "ExecuteTime": {
     "end_time": "2022-03-04T18:37:20.175054Z",
     "start_time": "2022-03-04T18:37:14.748117Z"
    }
   },
   "outputs": [
    {
     "data": {
      "application/vnd.jupyter.widget-view+json": {
       "model_id": "676610f27bca47868e60751f23c5abb6",
       "version_major": 2,
       "version_minor": 0
      },
      "text/plain": [
       "  0%|          | 0/8 [00:00<?, ?it/s]"
      ]
     },
     "metadata": {},
     "output_type": "display_data"
    }
   ],
   "source": [
    "# Backtesting forecaster with prediction intervals\n",
    "# ==============================================================================\n",
    "forecaster = ForecasterRecursive(\n",
    "                 regressor       = Ridge(random_state=123),\n",
    "                 lags            = 15,\n",
    "                 window_features = RollingFeatures(stats=['mean'], window_sizes=[10])\n",
    "             )\n",
    "\n",
    "cv = TimeSeriesFold(\n",
    "         steps                 = 10,\n",
    "         initial_train_size    = len(data.loc[:end_train]),\n",
    "         refit                 = True,\n",
    "         fixed_train_size      = False,\n",
    "         gap                   = 0,\n",
    "         skip_folds            = None,\n",
    "         allow_incomplete_fold = True\n",
    "     )\n",
    "\n",
    "metric, predictions = backtesting_forecaster(\n",
    "                          forecaster              = forecaster,\n",
    "                          y                       = data['y'],\n",
    "                          cv                      = cv,\n",
    "                          metric                  = 'mean_squared_error',\n",
    "                          interval_method         = 'bootstrapping',\n",
    "                          interval                = [5, 95],\n",
    "                          n_boot                  = 150,\n",
    "                          use_in_sample_residuals = True,\n",
    "                          verbose                 = False,\n",
    "                          show_progress           = True\n",
    "                      )"
   ]
  },
  {
   "cell_type": "code",
   "execution_count": 15,
   "id": "9b032173",
   "metadata": {},
   "outputs": [
    {
     "data": {
      "application/vnd.microsoft.datawrangler.viewer.v0+json": {
       "columns": [
        {
         "name": "index",
         "rawType": "datetime64[ns]",
         "type": "datetime"
        },
        {
         "name": "pred",
         "rawType": "float64",
         "type": "float"
        },
        {
         "name": "lower_bound",
         "rawType": "float64",
         "type": "float"
        },
        {
         "name": "upper_bound",
         "rawType": "float64",
         "type": "float"
        }
       ],
       "conversionMethod": "pd.DataFrame",
       "ref": "c3c9f3d2-ad96-4b0c-84ae-17c7db94546d",
       "rows": [
        [
         "2002-02-01 00:00:00",
         "0.7040445376733016",
         "0.5175643562455795",
         "0.7986051197269456"
        ],
        [
         "2002-03-01 00:00:00",
         "0.6740503578164364",
         "0.5749137329567692",
         "0.7817930008991613"
        ],
        [
         "2002-04-01 00:00:00",
         "0.6988561986547595",
         "0.5224466549522561",
         "0.7922174373769221"
        ],
        [
         "2002-05-01 00:00:00",
         "0.703731650825497",
         "0.5327364967540137",
         "0.8060363974500466"
        ],
        [
         "2002-06-01 00:00:00",
         "0.7342215339265135",
         "0.5538790580337108",
         "0.8256532047970616"
        ]
       ],
       "shape": {
        "columns": 3,
        "rows": 5
       }
      },
      "text/html": [
       "<div>\n",
       "<style scoped>\n",
       "    .dataframe tbody tr th:only-of-type {\n",
       "        vertical-align: middle;\n",
       "    }\n",
       "\n",
       "    .dataframe tbody tr th {\n",
       "        vertical-align: top;\n",
       "    }\n",
       "\n",
       "    .dataframe thead th {\n",
       "        text-align: right;\n",
       "    }\n",
       "</style>\n",
       "<table border=\"1\" class=\"dataframe\">\n",
       "  <thead>\n",
       "    <tr style=\"text-align: right;\">\n",
       "      <th></th>\n",
       "      <th>pred</th>\n",
       "      <th>lower_bound</th>\n",
       "      <th>upper_bound</th>\n",
       "    </tr>\n",
       "  </thead>\n",
       "  <tbody>\n",
       "    <tr>\n",
       "      <th>2002-02-01</th>\n",
       "      <td>0.704045</td>\n",
       "      <td>0.517564</td>\n",
       "      <td>0.798605</td>\n",
       "    </tr>\n",
       "    <tr>\n",
       "      <th>2002-03-01</th>\n",
       "      <td>0.674050</td>\n",
       "      <td>0.574914</td>\n",
       "      <td>0.781793</td>\n",
       "    </tr>\n",
       "    <tr>\n",
       "      <th>2002-04-01</th>\n",
       "      <td>0.698856</td>\n",
       "      <td>0.522447</td>\n",
       "      <td>0.792217</td>\n",
       "    </tr>\n",
       "    <tr>\n",
       "      <th>2002-05-01</th>\n",
       "      <td>0.703732</td>\n",
       "      <td>0.532736</td>\n",
       "      <td>0.806036</td>\n",
       "    </tr>\n",
       "    <tr>\n",
       "      <th>2002-06-01</th>\n",
       "      <td>0.734222</td>\n",
       "      <td>0.553879</td>\n",
       "      <td>0.825653</td>\n",
       "    </tr>\n",
       "  </tbody>\n",
       "</table>\n",
       "</div>"
      ],
      "text/plain": [
       "                pred  lower_bound  upper_bound\n",
       "2002-02-01  0.704045     0.517564     0.798605\n",
       "2002-03-01  0.674050     0.574914     0.781793\n",
       "2002-04-01  0.698856     0.522447     0.792217\n",
       "2002-05-01  0.703732     0.532736     0.806036\n",
       "2002-06-01  0.734222     0.553879     0.825653"
      ]
     },
     "execution_count": 15,
     "metadata": {},
     "output_type": "execute_result"
    }
   ],
   "source": [
    "# Interval predictions\n",
    "# ==============================================================================\n",
    "predictions.head()"
   ]
  },
  {
   "cell_type": "code",
   "execution_count": 16,
   "id": "e127fd39",
   "metadata": {
    "ExecuteTime": {
     "end_time": "2022-03-04T18:37:33.887394Z",
     "start_time": "2022-03-04T18:37:33.623141Z"
    }
   },
   "outputs": [
    {
     "data": {
      "image/png": "[encoded data removed]",
      "text/plain": [
       "<Figure size 700x300 with 1 Axes>"
      ]
     },
     "metadata": {},
     "output_type": "display_data"
    }
   ],
   "source": [
    "# Plot prediction interval\n",
    "# ==============================================================================\n",
    "fig, ax = plt.subplots(figsize=(7, 3))\n",
    "plot_prediction_intervals(\n",
    "    predictions         = predictions,\n",
    "    y_true              = data['y'],\n",
    "    target_variable     = 'y',\n",
    "    title               = \"Prediction intervals\",\n",
    "    kwargs_fill_between = {'color': 'gray', 'alpha': 0.3, 'zorder': 1},\n",
    "    ax                  = ax\n",
    ")\n",
    "ax.legend(loc='upper left');"
   ]
  },
  {
   "attachments": {},
   "cell_type": "markdown",
   "id": "f5b827f0",
   "metadata": {},
   "source": [
    "## Backtesting with exogenous variables\n",
    "\n",
    "All the backtesting strategies discussed in this document can also be applied when incorporating [exogenous variables](../user_guides/exogenous-variables.html) in the forecasting model.\n",
    "\n",
    "Exogenous variables are additional independent variables that can impact the value of the target variable being forecasted. These variables can provide valuable information to the model and improve its forecasting accuracy."
   ]
  },
  {
   "cell_type": "code",
   "execution_count": 17,
   "id": "80118409",
   "metadata": {
    "ExecuteTime": {
     "end_time": "2022-03-04T18:39:28.763030Z",
     "start_time": "2022-03-04T18:39:28.259387Z"
    }
   },
   "outputs": [
    {
     "name": "stdout",
     "output_type": "stream",
     "text": [
      "h2o_exog\n",
      "--------\n",
      "Monthly expenditure ($AUD) on corticosteroid drugs that the Australian health\n",
      "system had between 1991 and 2008. Two additional variables (exog_1, exog_2) are\n",
      "simulated.\n",
      "Hyndman R (2023). fpp3: Data for Forecasting: Principles and Practice (3rd\n",
      "Edition). http://pkg.robjhyndman.com/fpp3package/,\n",
      "https://github.com/robjhyndman/fpp3package, http://OTexts.com/fpp3.\n",
      "Shape of the dataset: (195, 3)\n"
     ]
    }
   ],
   "source": [
    "# Download data\n",
    "# ==============================================================================\n",
    "data = fetch_dataset(name='h2o_exog', raw=False)\n",
    "data.index.name = 'datetime'"
   ]
  },
  {
   "cell_type": "code",
   "execution_count": 18,
   "id": "2e4b4f48",
   "metadata": {},
   "outputs": [
    {
     "name": "stdout",
     "output_type": "stream",
     "text": [
      "Train dates      : 1992-04-01 00:00:00 --- 2002-01-01 00:00:00  (n=118)\n",
      "Validation dates : 2002-02-01 00:00:00 --- 2008-06-01 00:00:00  (n=77)\n"
     ]
    },
    {
     "data": {
      "image/png": "[encoded data removed]",
      "text/plain": [
       "<Figure size 600x300 with 1 Axes>"
      ]
     },
     "metadata": {},
     "output_type": "display_data"
    }
   ],
   "source": [
    "# Train-validation dates\n",
    "# ==============================================================================\n",
    "end_train = '2002-01-01 23:59:00'\n",
    "\n",
    "print(\n",
    "    f\"Train dates      : {data.index.min()} --- {data.loc[:end_train].index.max()}\"\n",
    "    f\"  (n={len(data.loc[:end_train])})\"\n",
    ")\n",
    "print(\n",
    "    f\"Validation dates : {data.loc[end_train:].index.min()} --- {data.index.max()}\"\n",
    "    f\"  (n={len(data.loc[end_train:])})\"\n",
    ")\n",
    "\n",
    "# Plot\n",
    "# ==============================================================================\n",
    "fig, ax = plt.subplots(figsize=(6, 3))\n",
    "data.plot(ax=ax);"
   ]
  },
  {
   "cell_type": "code",
   "execution_count": 19,
   "id": "11d9d4d9",
   "metadata": {
    "ExecuteTime": {
     "end_time": "2022-03-04T18:39:31.902840Z",
     "start_time": "2022-03-04T18:39:29.415044Z"
    }
   },
   "outputs": [
    {
     "data": {
      "application/vnd.jupyter.widget-view+json": {
       "model_id": "e4d98a070aa74770875d73bb0a97b5b5",
       "version_major": 2,
       "version_minor": 0
      },
      "text/plain": [
       "  0%|          | 0/8 [00:00<?, ?it/s]"
      ]
     },
     "metadata": {},
     "output_type": "display_data"
    }
   ],
   "source": [
    "# Backtest forecaster exogenous variables\n",
    "# ==============================================================================\n",
    "forecaster = ForecasterRecursive(\n",
    "                 regressor       = LGBMRegressor(random_state=123, verbose=-1),\n",
    "                 lags            = 15,\n",
    "                 window_features = RollingFeatures(stats=['mean'], window_sizes=[10])\n",
    "             )\n",
    "\n",
    "cv = TimeSeriesFold(\n",
    "         steps                 = 10,\n",
    "         initial_train_size    = len(data.loc[:end_train]),\n",
    "         refit                 = True,\n",
    "         fixed_train_size      = False,\n",
    "         gap                   = 0,\n",
    "         skip_folds            = None,\n",
    "         allow_incomplete_fold = True\n",
    "     )\n",
    "\n",
    "metric, predictions = backtesting_forecaster(\n",
    "                          forecaster = forecaster,\n",
    "                          y          = data['y'],\n",
    "                          exog       = data[['exog_1', 'exog_2']],\n",
    "                          cv         = cv,\n",
    "                          metric     = 'mean_squared_error'\n",
    "                      )"
   ]
  },
  {
   "cell_type": "code",
   "execution_count": 20,
   "id": "583e78d3",
   "metadata": {
    "ExecuteTime": {
     "end_time": "2022-03-04T18:39:32.005082Z",
     "start_time": "2022-03-04T18:39:31.988073Z"
    }
   },
   "outputs": [
    {
     "name": "stdout",
     "output_type": "stream",
     "text": [
      "Backtest error with exogenous variables:\n"
     ]
    },
    {
     "data": {
      "application/vnd.microsoft.datawrangler.viewer.v0+json": {
       "columns": [
        {
         "name": "index",
         "rawType": "int64",
         "type": "integer"
        },
        {
         "name": "mean_squared_error",
         "rawType": "float64",
         "type": "float"
        }
       ],
       "conversionMethod": "pd.DataFrame",
       "ref": "dc682330-854d-470c-aa8d-e46ff6d93e35",
       "rows": [
        [
         "0",
         "0.007147062436592673"
        ]
       ],
       "shape": {
        "columns": 1,
        "rows": 1
       }
      },
      "text/html": [
       "<div>\n",
       "<style scoped>\n",
       "    .dataframe tbody tr th:only-of-type {\n",
       "        vertical-align: middle;\n",
       "    }\n",
       "\n",
       "    .dataframe tbody tr th {\n",
       "        vertical-align: top;\n",
       "    }\n",
       "\n",
       "    .dataframe thead th {\n",
       "        text-align: right;\n",
       "    }\n",
       "</style>\n",
       "<table border=\"1\" class=\"dataframe\">\n",
       "  <thead>\n",
       "    <tr style=\"text-align: right;\">\n",
       "      <th></th>\n",
       "      <th>mean_squared_error</th>\n",
       "    </tr>\n",
       "  </thead>\n",
       "  <tbody>\n",
       "    <tr>\n",
       "      <th>0</th>\n",
       "      <td>0.007147</td>\n",
       "    </tr>\n",
       "  </tbody>\n",
       "</table>\n",
       "</div>"
      ],
      "text/plain": [
       "   mean_squared_error\n",
       "0            0.007147"
      ]
     },
     "execution_count": 20,
     "metadata": {},
     "output_type": "execute_result"
    }
   ],
   "source": [
    "# Backtest error\n",
    "# ==============================================================================\n",
    "print(\"Backtest error with exogenous variables:\")\n",
    "metric"
   ]
  },
  {
   "cell_type": "code",
   "execution_count": 21,
   "id": "dca040ef",
   "metadata": {
    "ExecuteTime": {
     "end_time": "2022-03-04T18:39:33.339158Z",
     "start_time": "2022-03-04T18:39:33.029390Z"
    },
    "jupyter": {
     "source_hidden": true
    },
    "tags": []
   },
   "outputs": [
    {
     "data": {
      "image/png": "[encoded data removed]",
      "text/plain": [
       "<Figure size 600x300 with 1 Axes>"
      ]
     },
     "metadata": {},
     "output_type": "display_data"
    }
   ],
   "source": [
    "# Plot predictions\n",
    "# ==============================================================================\n",
    "fig, ax = plt.subplots(figsize=(6, 3))\n",
    "data.loc[end_train:].plot(ax=ax)\n",
    "predictions.plot(ax=ax)\n",
    "ax.legend(loc=\"upper left\")\n",
    "plt.show();"
   ]
  },
  {
   "attachments": {},
   "cell_type": "markdown",
   "id": "fe80d168",
   "metadata": {},
   "source": [
    "## Backtesting with custom metric\n",
    "\n",
    "In addition to the commonly used metrics such as mean_squared_error, mean_absolute_error, and mean_absolute_percentage_error, users have the flexibility to define their own custom metric function, provided that it includes the arguments `y_true` (the true values of the series) and `y_pred` (the predicted values), and returns a numeric value (either a `float` or an `int`).\n",
    "\n",
    "This customizability enables users to evaluate the model's predictive performance in a wide range of scenarios, such as considering only certain months, days, non holiday; or focusing only on the last step of the predicted horizon.\n",
    "\n",
    "To illustrate this, consider the following example: a 12-month horizon is forecasted, but the interest metric is calculated by considering only the last three months of each year. This is achieved by defining a custom metric function that takes into account only the relevant months, which is then passed as an argument to the backtesting function."
   ]
  },
  {
   "cell_type": "code",
   "execution_count": 22,
   "id": "57ebb4c4",
   "metadata": {},
   "outputs": [
    {
     "data": {
      "application/vnd.jupyter.widget-view+json": {
       "model_id": "db81450d52354fd68d26d093d66a8c7d",
       "version_major": 2,
       "version_minor": 0
      },
      "text/plain": [
       "  0%|          | 0/8 [00:00<?, ?it/s]"
      ]
     },
     "metadata": {},
     "output_type": "display_data"
    },
    {
     "data": {
      "application/vnd.microsoft.datawrangler.viewer.v0+json": {
       "columns": [
        {
         "name": "index",
         "rawType": "int64",
         "type": "integer"
        },
        {
         "name": "custom_metric",
         "rawType": "float64",
         "type": "float"
        }
       ],
       "conversionMethod": "pd.DataFrame",
       "ref": "1ccbc13d-d4da-42c0-99a1-2b83e4a881e1",
       "rows": [
        [
         "0",
         "0.007179496933184608"
        ]
       ],
       "shape": {
        "columns": 1,
        "rows": 1
       }
      },
      "text/html": [
       "<div>\n",
       "<style scoped>\n",
       "    .dataframe tbody tr th:only-of-type {\n",
       "        vertical-align: middle;\n",
       "    }\n",
       "\n",
       "    .dataframe tbody tr th {\n",
       "        vertical-align: top;\n",
       "    }\n",
       "\n",
       "    .dataframe thead th {\n",
       "        text-align: right;\n",
       "    }\n",
       "</style>\n",
       "<table border=\"1\" class=\"dataframe\">\n",
       "  <thead>\n",
       "    <tr style=\"text-align: right;\">\n",
       "      <th></th>\n",
       "      <th>custom_metric</th>\n",
       "    </tr>\n",
       "  </thead>\n",
       "  <tbody>\n",
       "    <tr>\n",
       "      <th>0</th>\n",
       "      <td>0.007179</td>\n",
       "    </tr>\n",
       "  </tbody>\n",
       "</table>\n",
       "</div>"
      ],
      "text/plain": [
       "   custom_metric\n",
       "0       0.007179"
      ]
     },
     "execution_count": 22,
     "metadata": {},
     "output_type": "execute_result"
    }
   ],
   "source": [
    "# Backtesting with custom metric\n",
    "# ==============================================================================\n",
    "def custom_metric(y_true, y_pred):\n",
    "    \"\"\"\n",
    "    Calculate the mean squared error using only the predicted values of the last\n",
    "    3 months of the year.\n",
    "    \"\"\"\n",
    "    mask = y_true.index.month.isin([10, 11, 12])\n",
    "    metric = mean_squared_error(y_true[mask], y_pred[mask])\n",
    "    \n",
    "    return metric\n",
    "\n",
    "\n",
    "cv = TimeSeriesFold(\n",
    "         steps                 = 10,\n",
    "         initial_train_size    = len(data.loc[:end_train]),\n",
    "         refit                 = True,\n",
    "         fixed_train_size      = False,\n",
    "         gap                   = 0,\n",
    "         skip_folds            = None,\n",
    "         allow_incomplete_fold = True\n",
    "     )\n",
    "\n",
    "metric, predictions = backtesting_forecaster(\n",
    "                          forecaster = forecaster,\n",
    "                          y          = data['y'],\n",
    "                          cv         = cv,\n",
    "                          metric     = custom_metric\n",
    "                      )\n",
    "\n",
    "metric"
   ]
  },
  {
   "attachments": {},
   "cell_type": "markdown",
   "id": "d4389573",
   "metadata": {},
   "source": [
    "## Backtesting with multiple metrics\n",
    "\n",
    "The `backtesting_forecaster` function provides a convenient way to estimate multiple metrics simultaneously by accepting a list of metrics as an input argument. This list can include any combination of built-in metrics, such as mean_squared_error, mean_absolute_error, and mean_absolute_percentage_error, as well as user-defined custom metrics.\n",
    "\n",
    "By specifying multiple metrics, users can obtain a more comprehensive evaluation of the model's predictive performance, which can help in selecting the best model for a particular task. Additionally, the ability to include custom metrics allows users to tailor the evaluation to specific use cases and domain-specific requirements."
   ]
  },
  {
   "cell_type": "code",
   "execution_count": 23,
   "id": "8587c187",
   "metadata": {},
   "outputs": [
    {
     "data": {
      "application/vnd.jupyter.widget-view+json": {
       "model_id": "981fd2ddc2d94c2985e26f533a38025b",
       "version_major": 2,
       "version_minor": 0
      },
      "text/plain": [
       "  0%|          | 0/8 [00:00<?, ?it/s]"
      ]
     },
     "metadata": {},
     "output_type": "display_data"
    },
    {
     "data": {
      "application/vnd.microsoft.datawrangler.viewer.v0+json": {
       "columns": [
        {
         "name": "index",
         "rawType": "int64",
         "type": "integer"
        },
        {
         "name": "mean_squared_error",
         "rawType": "float64",
         "type": "float"
        },
        {
         "name": "mean_absolute_error",
         "rawType": "float64",
         "type": "float"
        },
        {
         "name": "custom_metric",
         "rawType": "float64",
         "type": "float"
        }
       ],
       "conversionMethod": "pd.DataFrame",
       "ref": "19306673-6342-4601-8615-506d2dd06cdd",
       "rows": [
        [
         "0",
         "0.007041586868867558",
         "0.0679557204818882",
         "0.007179496933184608"
        ]
       ],
       "shape": {
        "columns": 3,
        "rows": 1
       }
      },
      "text/html": [
       "<div>\n",
       "<style scoped>\n",
       "    .dataframe tbody tr th:only-of-type {\n",
       "        vertical-align: middle;\n",
       "    }\n",
       "\n",
       "    .dataframe tbody tr th {\n",
       "        vertical-align: top;\n",
       "    }\n",
       "\n",
       "    .dataframe thead th {\n",
       "        text-align: right;\n",
       "    }\n",
       "</style>\n",
       "<table border=\"1\" class=\"dataframe\">\n",
       "  <thead>\n",
       "    <tr style=\"text-align: right;\">\n",
       "      <th></th>\n",
       "      <th>mean_squared_error</th>\n",
       "      <th>mean_absolute_error</th>\n",
       "      <th>custom_metric</th>\n",
       "    </tr>\n",
       "  </thead>\n",
       "  <tbody>\n",
       "    <tr>\n",
       "      <th>0</th>\n",
       "      <td>0.007042</td>\n",
       "      <td>0.067956</td>\n",
       "      <td>0.007179</td>\n",
       "    </tr>\n",
       "  </tbody>\n",
       "</table>\n",
       "</div>"
      ],
      "text/plain": [
       "   mean_squared_error  mean_absolute_error  custom_metric\n",
       "0            0.007042             0.067956       0.007179"
      ]
     },
     "execution_count": 23,
     "metadata": {},
     "output_type": "execute_result"
    }
   ],
   "source": [
    "# Backtesting with multiple metric\n",
    "# ==============================================================================\n",
    "multiple_metrics = ['mean_squared_error', 'mean_absolute_error', custom_metric]\n",
    "\n",
    "cv = TimeSeriesFold(\n",
    "         steps                 = 10,\n",
    "         initial_train_size    = len(data.loc[:end_train]),\n",
    "         refit                 = True,\n",
    "         fixed_train_size      = False,\n",
    "         gap                   = 0,\n",
    "         skip_folds            = None,\n",
    "         allow_incomplete_fold = True\n",
    "     )\n",
    "\n",
    "metrics, predictions = backtesting_forecaster(\n",
    "                           forecaster = forecaster,\n",
    "                           y          = data['y'],\n",
    "                           cv         = cv,\n",
    "                           metric     = multiple_metrics\n",
    "                       )\n",
    "\n",
    "metrics"
   ]
  },
  {
   "attachments": {},
   "cell_type": "markdown",
   "id": "e6ca1c34",
   "metadata": {},
   "source": [
    "## Backtesting on training data\n",
    "\n",
    "While the primary goal of building forecasting models is to predict future values, it is equally important to evaluate if the model is effectively learning from the training data. Analyzing predictions on the training data or exploring the prediction matrices is crucial for assessing model performance and understanding areas for optimization. This process can help identify issues like overfitting or underfitting, as well as provide deeper insights into the model’s decision-making process.\n",
    "\n",
    "To obtain predictions on the training data,the forecaster must first be fitted using the training dataset. Then, backtesting can be performed using  `backtesting_forecaster` and specifying the arguments `initial_train_size=None` and `refit=False`. This configuration enables backtesting on the same data that was used to train the model."
   ]
  },
  {
   "cell_type": "markdown",
   "id": "3093c7b6",
   "metadata": {},
   "source": [
    "<div class=\"admonition note\" name=\"html-admonition\" style=\"background: rgba(0,191,191,.1); padding-top: 0px; padding-bottom: 6px; border-radius: 8px; border-left: 8px solid #00bfa5; border-color: #00bfa5; padding-left: 10px; padding-right: 10px;\">\n",
    "\n",
    "<p class=\"title\">\n",
    "    <i style=\"font-size: 18px; color:#00bfa5;\"></i>\n",
    "    <b style=\"color: #00bfa5;\">&#128161 Tip</b>\n",
    "</p>\n",
    "\n",
    "To learn more about how to extract the training and prediction matrices, visit the following link: <a href=\"../user_guides/training-and-prediction-matrices.html\">How to Extract Training and Prediction Matrices</a>.\n",
    "\n",
    "</div>"
   ]
  },
  {
   "cell_type": "code",
   "execution_count": 24,
   "id": "5df3b1d1",
   "metadata": {},
   "outputs": [],
   "source": [
    "# Create and fit forecaster\n",
    "# ==============================================================================\n",
    "forecaster = ForecasterRecursive(\n",
    "                 regressor       = LGBMRegressor(random_state=123, verbose=-1),\n",
    "                 lags            = 15,\n",
    "                 window_features = RollingFeatures(stats=['mean'], window_sizes=[10])\n",
    "             )\n",
    "\n",
    "forecaster.fit(y=data['y'])"
   ]
  },
  {
   "cell_type": "code",
   "execution_count": 25,
   "id": "ae09965e",
   "metadata": {},
   "outputs": [
    {
     "data": {
      "application/vnd.jupyter.widget-view+json": {
       "model_id": "adebcb6362884db2b4c12cf3f7142620",
       "version_major": 2,
       "version_minor": 0
      },
      "text/plain": [
       "  0%|          | 0/180 [00:00<?, ?it/s]"
      ]
     },
     "metadata": {},
     "output_type": "display_data"
    },
    {
     "data": {
      "application/vnd.microsoft.datawrangler.viewer.v0+json": {
       "columns": [
        {
         "name": "index",
         "rawType": "int64",
         "type": "integer"
        },
        {
         "name": "mean_squared_error",
         "rawType": "float64",
         "type": "float"
        }
       ],
       "conversionMethod": "pd.DataFrame",
       "ref": "288a6add-7acf-4c2b-89a5-b93057d37a20",
       "rows": [
        [
         "0",
         "0.000708516435602063"
        ]
       ],
       "shape": {
        "columns": 1,
        "rows": 1
       }
      },
      "text/html": [
       "<div>\n",
       "<style scoped>\n",
       "    .dataframe tbody tr th:only-of-type {\n",
       "        vertical-align: middle;\n",
       "    }\n",
       "\n",
       "    .dataframe tbody tr th {\n",
       "        vertical-align: top;\n",
       "    }\n",
       "\n",
       "    .dataframe thead th {\n",
       "        text-align: right;\n",
       "    }\n",
       "</style>\n",
       "<table border=\"1\" class=\"dataframe\">\n",
       "  <thead>\n",
       "    <tr style=\"text-align: right;\">\n",
       "      <th></th>\n",
       "      <th>mean_squared_error</th>\n",
       "    </tr>\n",
       "  </thead>\n",
       "  <tbody>\n",
       "    <tr>\n",
       "      <th>0</th>\n",
       "      <td>0.000709</td>\n",
       "    </tr>\n",
       "  </tbody>\n",
       "</table>\n",
       "</div>"
      ],
      "text/plain": [
       "   mean_squared_error\n",
       "0            0.000709"
      ]
     },
     "execution_count": 25,
     "metadata": {},
     "output_type": "execute_result"
    }
   ],
   "source": [
    "# Backtesting on training data\n",
    "# ==============================================================================\n",
    "cv = TimeSeriesFold(\n",
    "         steps              = 1,\n",
    "         initial_train_size = None,\n",
    "         refit              = False\n",
    "     )\n",
    "\n",
    "metric, predictions_training = backtesting_forecaster(\n",
    "                                   forecaster = forecaster,\n",
    "                                   y          = data['y'],\n",
    "                                   cv         = cv,\n",
    "                                   metric     = 'mean_squared_error'\n",
    "                               )\n",
    "\n",
    "metric"
   ]
  },
  {
   "cell_type": "code",
   "execution_count": 26,
   "id": "8eba1580",
   "metadata": {},
   "outputs": [
    {
     "data": {
      "application/vnd.microsoft.datawrangler.viewer.v0+json": {
       "columns": [
        {
         "name": "index",
         "rawType": "datetime64[ns]",
         "type": "datetime"
        },
        {
         "name": "pred",
         "rawType": "float64",
         "type": "float"
        }
       ],
       "conversionMethod": "pd.DataFrame",
       "ref": "86fb2717-035a-4fbe-890f-47c1f5817339",
       "rows": [
        [
         "1993-07-01 00:00:00",
         "0.5251337456193521"
        ],
        [
         "1993-08-01 00:00:00",
         "0.5699338598176946"
        ],
        [
         "1993-09-01 00:00:00",
         "0.6016952546907831"
        ],
        [
         "1993-10-01 00:00:00",
         "0.6417499615681337"
        ]
       ],
       "shape": {
        "columns": 1,
        "rows": 4
       }
      },
      "text/html": [
       "<div>\n",
       "<style scoped>\n",
       "    .dataframe tbody tr th:only-of-type {\n",
       "        vertical-align: middle;\n",
       "    }\n",
       "\n",
       "    .dataframe tbody tr th {\n",
       "        vertical-align: top;\n",
       "    }\n",
       "\n",
       "    .dataframe thead th {\n",
       "        text-align: right;\n",
       "    }\n",
       "</style>\n",
       "<table border=\"1\" class=\"dataframe\">\n",
       "  <thead>\n",
       "    <tr style=\"text-align: right;\">\n",
       "      <th></th>\n",
       "      <th>pred</th>\n",
       "    </tr>\n",
       "  </thead>\n",
       "  <tbody>\n",
       "    <tr>\n",
       "      <th>1993-07-01</th>\n",
       "      <td>0.525134</td>\n",
       "    </tr>\n",
       "    <tr>\n",
       "      <th>1993-08-01</th>\n",
       "      <td>0.569934</td>\n",
       "    </tr>\n",
       "    <tr>\n",
       "      <th>1993-09-01</th>\n",
       "      <td>0.601695</td>\n",
       "    </tr>\n",
       "    <tr>\n",
       "      <th>1993-10-01</th>\n",
       "      <td>0.641750</td>\n",
       "    </tr>\n",
       "  </tbody>\n",
       "</table>\n",
       "</div>"
      ],
      "text/plain": [
       "                pred\n",
       "1993-07-01  0.525134\n",
       "1993-08-01  0.569934\n",
       "1993-09-01  0.601695\n",
       "1993-10-01  0.641750"
      ]
     },
     "execution_count": 26,
     "metadata": {},
     "output_type": "execute_result"
    }
   ],
   "source": [
    "# Training predictions\n",
    "# ==============================================================================\n",
    "predictions_training.head(4)"
   ]
  },
  {
   "attachments": {},
   "cell_type": "markdown",
   "id": "57fba30f",
   "metadata": {},
   "source": [
    "It is important to note that the first 15 observations are excluded from the predictions since they are required to generate the lags that serve as predictors in the model. "
   ]
  },
  {
   "cell_type": "code",
   "execution_count": 27,
   "id": "03ac3927",
   "metadata": {},
   "outputs": [
    {
     "data": {
      "image/png": "[encoded data removed]",
      "text/plain": [
       "<Figure size 600x300 with 1 Axes>"
      ]
     },
     "metadata": {},
     "output_type": "display_data"
    }
   ],
   "source": [
    "# Plot training predictions\n",
    "# ==============================================================================\n",
    "fig, ax = plt.subplots(figsize=(6, 3))\n",
    "data['y'].plot(ax=ax)\n",
    "predictions_training.plot(ax=ax)\n",
    "ax.set_title(\"Backtesting on training data\")\n",
    "ax.legend()\n",
    "plt.show();"
   ]
  }
 ],
 "metadata": {
  "kernelspec": {
   "display_name": "skforecast_15_p12",
   "language": "python",
   "name": "python3"
  },
  "language_info": {
   "codemirror_mode": {
    "name": "ipython",
    "version": 3
   },
   "file_extension": ".py",
   "mimetype": "text/x-python",
   "name": "python",
   "nbconvert_exporter": "python",
   "pygments_lexer": "ipython3",
   "version": "3.12.9"
  },
  "toc": {
   "base_numbering": 1,
   "nav_menu": {},
   "number_sections": true,
   "sideBar": true,
   "skip_h1_title": false,
   "title_cell": "Table of Contents",
   "title_sidebar": "Contents",
   "toc_cell": false,
   "toc_position": {
    "height": "calc(100% - 180px)",
    "left": "10px",
    "top": "150px",
    "width": "297.967px"
   },
   "toc_section_display": true,
   "toc_window_display": true
  },
  "varInspector": {
   "cols": {
    "lenName": 16,
    "lenType": 16,
    "lenVar": 40
   },
   "kernels_config": {
    "python": {
     "delete_cmd_postfix": "",
     "delete_cmd_prefix": "del ",
     "library": "var_list.py",
     "varRefreshCmd": "print(var_dic_list())"
    },
    "r": {
     "delete_cmd_postfix": ") ",
     "delete_cmd_prefix": "rm(",
     "library": "var_list.r",
     "varRefreshCmd": "cat(var_dic_list()) "
    }
   },
   "types_to_exclude": [
    "module",
    "function",
    "builtin_function_or_method",
    "instance",
    "_Feature"
   ],
   "window_display": false
  }
 },
 "nbformat": 4,
 "nbformat_minor": 5
}
