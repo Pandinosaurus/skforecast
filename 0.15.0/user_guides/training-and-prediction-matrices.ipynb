{
 "cells": [
  {
   "cell_type": "markdown",
   "metadata": {},
   "source": [
    "# How to Extract Training and Prediction Matrices\n",
    "\n",
    "While the primary goal of building forecasting models is to predict future values, it is equally important to evaluate if the model is effectively learning from the training data. Analyzing predictions on the training data or exploring the prediction matrices is crucial for assessing model performance and understanding areas for optimization. This process can help identify issues like overfitting or underfitting, as well as provide deeper insights into the model’s decision-making process.\n",
    "\n",
    "**Training matrices**\n",
    "\n",
    "Training matrices contain the input features used by the model during the training process. These matrices are essential for understanding how the model interprets patterns and relationships within the data. They typically include the lagged variables, window features and exogenous variables. By extracting and analyzing these matrices, you can ensure that the input data is correctly structured and aligned with the model’s requirements.\n",
    "\n",
    "\n",
    "**Prediction matrices**\n",
    "\n",
    "Prediction matrices are used to generate forecasts for future values. These matrices incorporate the features necessary for making predictions, such as recent observations (lags), window features and any exogenous variables. Understanding the structure of these matrices is important for debugging and for validating the model’s future predictions."
   ]
  },
  {
   "cell_type": "markdown",
   "metadata": {},
   "source": [
    "<div class=\"admonition note\" name=\"html-admonition\" style=\"background: rgba(255,145,0,.1); padding-top: 0px; padding-bottom: 6px; border-radius: 8px; border-left: 8px solid #ff9100; border-color: #ff9100; padding-left: 10px; padding-right: 10px\">\n",
    "\n",
    "<p class=\"title\">\n",
    "    <i style=\"font-size: 18px; color:#ff9100; border-color: #ff1744;\"></i>\n",
    "    <b style=\"color: #ff9100;\"> <span style=\"color: #ff9100;\">&#9888;</span> Warning</b>\n",
    "</p>\n",
    "\n",
    "If any <a href=\"../user_guides/sklearn-transformers-and-pipeline.html\">data transformations</a> and/or <a href=\"../user_guides/time-series-differentiation.html\">differentiation</a>, are applied, they will affect the output matrices. Consequently, the predictions generated in this transformed scale may require additional steps to revert back to the original data scale.\n",
    "\n",
    "</div>"
   ]
  },
  {
   "cell_type": "markdown",
   "metadata": {},
   "source": [
    "## Libraries and data"
   ]
  },
  {
   "cell_type": "code",
   "execution_count": 1,
   "metadata": {},
   "outputs": [],
   "source": [
    "# Libraries\n",
    "# ==============================================================================\n",
    "import pandas as pd\n",
    "import matplotlib.pyplot as plt\n",
    "from sklearn.preprocessing import StandardScaler\n",
    "from sklearn.linear_model import Ridge\n",
    "from lightgbm import LGBMRegressor\n",
    "from skforecast.datasets import fetch_dataset\n",
    "from skforecast.preprocessing import RollingFeatures\n",
    "from skforecast.recursive import ForecasterRecursive, ForecasterRecursiveMultiSeries\n",
    "from skforecast.direct import ForecasterDirect, ForecasterDirectMultiVariate\n",
    "from skforecast.plot import set_dark_theme"
   ]
  },
  {
   "cell_type": "code",
   "execution_count": 2,
   "metadata": {},
   "outputs": [
    {
     "name": "stdout",
     "output_type": "stream",
     "text": [
      "h2o\n",
      "---\n",
      "Monthly expenditure ($AUD) on corticosteroid drugs that the Australian health\n",
      "system had between 1991 and 2008.\n",
      "Hyndman R (2023). fpp3: Data for Forecasting: Principles and Practice(3rd\n",
      "Edition). http://pkg.robjhyndman.com/fpp3package/,https://github.com/robjhyndman\n",
      "/fpp3package, http://OTexts.com/fpp3.\n",
      "Shape of the dataset: (204, 2)\n",
      "\n",
      "items_sales\n",
      "-----------\n",
      "Simulated time series for the sales of 3 different items.\n",
      "Simulated data.\n",
      "Shape of the dataset: (1097, 3)\n",
      "\n",
      "air_quality_valencia_no_missing\n",
      "-------------------------------\n",
      "Hourly measures of several air chemical pollutant at Valencia city (Avd.\n",
      "Francia) from 2019-01-01 to 20213-12-31. Including the following variables:\n",
      "pm2.5 (µg/m³), CO (mg/m³), NO (µg/m³), NO2 (µg/m³), PM10 (µg/m³), NOx (µg/m³),\n",
      "O3 (µg/m³), Veloc. (m/s), Direc. (degrees), SO2 (µg/m³). Missing values have\n",
      "been imputed using linear interpolation.\n",
      "Red de Vigilancia y Control de la Contaminación Atmosférica, 46250047-València -\n",
      "Av. França, https://mediambient.gva.es/es/web/calidad-ambiental/datos-\n",
      "historicos.\n",
      "Shape of the dataset: (43824, 10)\n"
     ]
    }
   ],
   "source": [
    "# Download data single series\n",
    "# ==============================================================================\n",
    "data = fetch_dataset(\n",
    "    name=\"h2o\", kwargs_read_csv={\"names\": [\"y\", \"datetime\"], \"header\": 0}\n",
    ")\n",
    "print(\"\")\n",
    "\n",
    "data['datetime'] = pd.to_datetime(data['datetime'], format='%Y-%m-%d')\n",
    "data = data.set_index('datetime')\n",
    "data = data.asfreq('MS')\n",
    "data = data.sort_index()\n",
    "\n",
    "# Download data ForecasterRecursiveMultiSeries\n",
    "# ==============================================================================\n",
    "data_multiseries = fetch_dataset(name=\"items_sales\")\n",
    "print(\"\")\n",
    "\n",
    "# Download data ForecasterDirectMultiVariate\n",
    "# ==============================================================================\n",
    "data_multivariate = fetch_dataset(name=\"air_quality_valencia_no_missing\")"
   ]
  },
  {
   "cell_type": "markdown",
   "metadata": {},
   "source": [
    "## ForecasterRecursive"
   ]
  },
  {
   "cell_type": "code",
   "execution_count": 3,
   "metadata": {},
   "outputs": [
    {
     "data": {
      "application/vnd.microsoft.datawrangler.viewer.v0+json": {
       "columns": [
        {
         "name": "datetime",
         "rawType": "datetime64[ns]",
         "type": "datetime"
        },
        {
         "name": "y",
         "rawType": "float64",
         "type": "float"
        }
       ],
       "conversionMethod": "pd.DataFrame",
       "ref": "365b4217-c83e-4924-8da6-69d59b9147e2",
       "rows": [
        [
         "1991-07-01 00:00:00",
         "0.429795"
        ],
        [
         "1991-08-01 00:00:00",
         "0.400906"
        ],
        [
         "1991-09-01 00:00:00",
         "0.432159"
        ]
       ],
       "shape": {
        "columns": 1,
        "rows": 3
       }
      },
      "text/html": [
       "<div>\n",
       "<style scoped>\n",
       "    .dataframe tbody tr th:only-of-type {\n",
       "        vertical-align: middle;\n",
       "    }\n",
       "\n",
       "    .dataframe tbody tr th {\n",
       "        vertical-align: top;\n",
       "    }\n",
       "\n",
       "    .dataframe thead th {\n",
       "        text-align: right;\n",
       "    }\n",
       "</style>\n",
       "<table border=\"1\" class=\"dataframe\">\n",
       "  <thead>\n",
       "    <tr style=\"text-align: right;\">\n",
       "      <th></th>\n",
       "      <th>y</th>\n",
       "    </tr>\n",
       "    <tr>\n",
       "      <th>datetime</th>\n",
       "      <th></th>\n",
       "    </tr>\n",
       "  </thead>\n",
       "  <tbody>\n",
       "    <tr>\n",
       "      <th>1991-07-01</th>\n",
       "      <td>0.429795</td>\n",
       "    </tr>\n",
       "    <tr>\n",
       "      <th>1991-08-01</th>\n",
       "      <td>0.400906</td>\n",
       "    </tr>\n",
       "    <tr>\n",
       "      <th>1991-09-01</th>\n",
       "      <td>0.432159</td>\n",
       "    </tr>\n",
       "  </tbody>\n",
       "</table>\n",
       "</div>"
      ],
      "text/plain": [
       "                   y\n",
       "datetime            \n",
       "1991-07-01  0.429795\n",
       "1991-08-01  0.400906\n",
       "1991-09-01  0.432159"
      ]
     },
     "metadata": {},
     "output_type": "display_data"
    },
    {
     "data": {
      "image/png": "[encoded data removed]",
      "text/plain": [
       "<Figure size 600x300 with 1 Axes>"
      ]
     },
     "metadata": {},
     "output_type": "display_data"
    }
   ],
   "source": [
    "# Data\n",
    "# ==============================================================================\n",
    "display(data.head(3))\n",
    "\n",
    "# Plot\n",
    "# ==============================================================================\n",
    "set_dark_theme()\n",
    "fig, ax = plt.subplots(figsize=(6, 3))\n",
    "data['y'].plot(ax=ax)\n",
    "ax.legend()\n",
    "plt.show()"
   ]
  },
  {
   "cell_type": "code",
   "execution_count": 4,
   "metadata": {},
   "outputs": [
    {
     "data": {
      "text/html": [
       "\n",
       "    <style>\n",
       "        .container-9bfbc38e242042939f7ecbfe95a162fb {\n",
       "            font-family: 'Arial', sans-serif;\n",
       "            font-size: 0.9em;\n",
       "            color: #333333;\n",
       "            border: 1px solid #ddd;\n",
       "            background-color: #f0f8ff;\n",
       "            padding: 5px 15px;\n",
       "            border-radius: 8px;\n",
       "            max-width: 600px;\n",
       "            #margin: auto;\n",
       "        }\n",
       "        .container-9bfbc38e242042939f7ecbfe95a162fb h2 {\n",
       "            font-size: 1.5em;\n",
       "            color: #222222;\n",
       "            border-bottom: 2px solid #ddd;\n",
       "            padding-bottom: 5px;\n",
       "            margin-bottom: 15px;\n",
       "            margin-top: 5px;\n",
       "        }\n",
       "        .container-9bfbc38e242042939f7ecbfe95a162fb details {\n",
       "            margin: 10px 0;\n",
       "        }\n",
       "        .container-9bfbc38e242042939f7ecbfe95a162fb summary {\n",
       "            font-weight: bold;\n",
       "            font-size: 1.1em;\n",
       "            color: #000000;\n",
       "            cursor: pointer;\n",
       "            margin-bottom: 5px;\n",
       "            background-color: #b3dbfd;\n",
       "            padding: 5px;\n",
       "            border-radius: 5px;\n",
       "        }\n",
       "        .container-9bfbc38e242042939f7ecbfe95a162fb summary:hover {\n",
       "            color: #000000;\n",
       "            background-color: #e0e0e0;\n",
       "        }\n",
       "        .container-9bfbc38e242042939f7ecbfe95a162fb ul {\n",
       "            font-family: 'Courier New', monospace;\n",
       "            list-style-type: none;\n",
       "            padding-left: 20px;\n",
       "            margin: 10px 0;\n",
       "            line-height: normal;\n",
       "        }\n",
       "        .container-9bfbc38e242042939f7ecbfe95a162fb li {\n",
       "            margin: 5px 0;\n",
       "            font-family: 'Courier New', monospace;\n",
       "        }\n",
       "        .container-9bfbc38e242042939f7ecbfe95a162fb li strong {\n",
       "            font-weight: bold;\n",
       "            color: #444444;\n",
       "        }\n",
       "        .container-9bfbc38e242042939f7ecbfe95a162fb li::before {\n",
       "            content: \"- \";\n",
       "            color: #666666;\n",
       "        }\n",
       "        .container-9bfbc38e242042939f7ecbfe95a162fb a {\n",
       "            color: #001633;\n",
       "            text-decoration: none;\n",
       "        }\n",
       "        .container-9bfbc38e242042939f7ecbfe95a162fb a:hover {\n",
       "            color: #359ccb; \n",
       "        }\n",
       "    </style>\n",
       "    \n",
       "        <div class=\"container-9bfbc38e242042939f7ecbfe95a162fb\">\n",
       "            <h2>ForecasterRecursive</h2>\n",
       "            <details open>\n",
       "                <summary>General Information</summary>\n",
       "                <ul>\n",
       "                    <li><strong>Regressor:</strong> LGBMRegressor</li>\n",
       "                    <li><strong>Lags:</strong> [1 2 3 4 5]</li>\n",
       "                    <li><strong>Window features:</strong> ['roll_mean_5', 'roll_sum_5']</li>\n",
       "                    <li><strong>Window size:</strong> 5</li>\n",
       "                    <li><strong>Exogenous included:</strong> False</li>\n",
       "                    <li><strong>Weight function included:</strong> False</li>\n",
       "                    <li><strong>Differentiation order:</strong> None</li>\n",
       "                    <li><strong>Creation date:</strong> 2025-03-07 14:14:00</li>\n",
       "                    <li><strong>Last fit date:</strong> 2025-03-07 14:14:00</li>\n",
       "                    <li><strong>Skforecast version:</strong> 0.15.0</li>\n",
       "                    <li><strong>Python version:</strong> 3.12.9</li>\n",
       "                    <li><strong>Forecaster id:</strong> None</li>\n",
       "                </ul>\n",
       "            </details>\n",
       "            <details>\n",
       "                <summary>Exogenous Variables</summary>\n",
       "                <ul>\n",
       "                    None\n",
       "                </ul>\n",
       "            </details>\n",
       "            <details>\n",
       "                <summary>Data Transformations</summary>\n",
       "                <ul>\n",
       "                    <li><strong>Transformer for y:</strong> None</li>\n",
       "                    <li><strong>Transformer for exog:</strong> None</li>\n",
       "                </ul>\n",
       "            </details>\n",
       "            <details>\n",
       "                <summary>Training Information</summary>\n",
       "                <ul>\n",
       "                    <li><strong>Training range:</strong> [Timestamp('1991-07-01 00:00:00'), Timestamp('2008-06-01 00:00:00')]</li>\n",
       "                    <li><strong>Training index type:</strong> DatetimeIndex</li>\n",
       "                    <li><strong>Training index frequency:</strong> MS</li>\n",
       "                </ul>\n",
       "            </details>\n",
       "            <details>\n",
       "                <summary>Regressor Parameters</summary>\n",
       "                <ul>\n",
       "                    {'boosting_type': 'gbdt', 'class_weight': None, 'colsample_bytree': 1.0, 'importance_type': 'split', 'learning_rate': 0.1, 'max_depth': -1, 'min_child_samples': 20, 'min_child_weight': 0.001, 'min_split_gain': 0.0, 'n_estimators': 100, 'n_jobs': None, 'num_leaves': 31, 'objective': None, 'random_state': 123, 'reg_alpha': 0.0, 'reg_lambda': 0.0, 'subsample': 1.0, 'subsample_for_bin': 200000, 'subsample_freq': 0, 'verbose': -1}\n",
       "                </ul>\n",
       "            </details>\n",
       "            <details>\n",
       "                <summary>Fit Kwargs</summary>\n",
       "                <ul>\n",
       "                    {}\n",
       "                </ul>\n",
       "            </details>\n",
       "            <p>\n",
       "                <a href=\"https://skforecast.org/0.15.0/api/forecasterrecursive.html\">&#128712 <strong>API Reference</strong></a>\n",
       "                &nbsp;&nbsp;\n",
       "                <a href=\"https://skforecast.org/0.15.0/user_guides/autoregresive-forecaster.html\">&#128462 <strong>User Guide</strong></a>\n",
       "            </p>\n",
       "        </div>\n",
       "        "
      ],
      "text/plain": [
       "=================== \n",
       "ForecasterRecursive \n",
       "=================== \n",
       "Regressor: LGBMRegressor \n",
       "Lags: [1 2 3 4 5] \n",
       "Window features: ['roll_mean_5', 'roll_sum_5'] \n",
       "Window size: 5 \n",
       "Exogenous included: False \n",
       "Exogenous names: None \n",
       "Transformer for y: None \n",
       "Transformer for exog: None \n",
       "Weight function included: False \n",
       "Differentiation order: None \n",
       "Training range: [Timestamp('1991-07-01 00:00:00'), Timestamp('2008-06-01 00:00:00')] \n",
       "Training index type: DatetimeIndex \n",
       "Training index frequency: MS \n",
       "Regressor parameters: \n",
       "    {'boosting_type': 'gbdt', 'class_weight': None, 'colsample_bytree': 1.0,\n",
       "    'importance_type': 'split', 'learning_rate': 0.1, 'max_depth': -1,\n",
       "    'min_child_samples': 20, 'min_child_weight': 0.001, 'min_split_gain': 0.0,\n",
       "    'n_estimators': 100, 'n_jobs': None, 'num_leaves': 31, 'objective': None,\n",
       "    'random_state': 123, 'reg_alpha': 0.0, 'reg_lambda': 0.0, 'subsample': 1.0,\n",
       "    'subsample_for_bin': 200000, 'subsample_freq': 0, 'verbose': -1} \n",
       "fit_kwargs: {} \n",
       "Creation date: 2025-03-07 14:14:00 \n",
       "Last fit date: 2025-03-07 14:14:00 \n",
       "Skforecast version: 0.15.0 \n",
       "Python version: 3.12.9 \n",
       "Forecaster id: None "
      ]
     },
     "execution_count": 4,
     "metadata": {},
     "output_type": "execute_result"
    }
   ],
   "source": [
    "# Create and fit forecaster\n",
    "# ==============================================================================\n",
    "window_features = RollingFeatures(\n",
    "                      stats        = ['mean', 'sum'],\n",
    "                      window_sizes = [5, 5]\n",
    "                  )\n",
    "\n",
    "forecaster = ForecasterRecursive(\n",
    "                 regressor       = LGBMRegressor(random_state=123, verbose=-1),\n",
    "                 lags            = 5,\n",
    "                 window_features = window_features\n",
    "             )\n",
    "\n",
    "forecaster.fit(y=data['y'])\n",
    "forecaster"
   ]
  },
  {
   "cell_type": "code",
   "execution_count": 5,
   "metadata": {},
   "outputs": [],
   "source": [
    "# Create training matrices\n",
    "# ==============================================================================\n",
    "X_train, y_train = forecaster.create_train_X_y(y=data['y'])"
   ]
  },
  {
   "cell_type": "code",
   "execution_count": 6,
   "metadata": {},
   "outputs": [
    {
     "data": {
      "application/vnd.microsoft.datawrangler.viewer.v0+json": {
       "columns": [
        {
         "name": "datetime",
         "rawType": "datetime64[ns]",
         "type": "datetime"
        },
        {
         "name": "lag_1",
         "rawType": "float64",
         "type": "float"
        },
        {
         "name": "lag_2",
         "rawType": "float64",
         "type": "float"
        },
        {
         "name": "lag_3",
         "rawType": "float64",
         "type": "float"
        },
        {
         "name": "lag_4",
         "rawType": "float64",
         "type": "float"
        },
        {
         "name": "lag_5",
         "rawType": "float64",
         "type": "float"
        },
        {
         "name": "roll_mean_5",
         "rawType": "float64",
         "type": "float"
        },
        {
         "name": "roll_sum_5",
         "rawType": "float64",
         "type": "float"
        }
       ],
       "conversionMethod": "pd.DataFrame",
       "ref": "85ae1fee-f1d7-49c4-9c3e-9481f05fd370",
       "rows": [
        [
         "1991-12-01 00:00:00",
         "0.502369",
         "0.492543",
         "0.432159",
         "0.400906",
         "0.429795",
         "0.4515544",
         "2.257772"
        ],
        [
         "1992-01-01 00:00:00",
         "0.602652",
         "0.502369",
         "0.492543",
         "0.432159",
         "0.400906",
         "0.48612579999999994",
         "2.4306289999999997"
        ],
        [
         "1992-02-01 00:00:00",
         "0.660119",
         "0.602652",
         "0.502369",
         "0.492543",
         "0.432159",
         "0.5379684",
         "2.689842"
        ]
       ],
       "shape": {
        "columns": 7,
        "rows": 3
       }
      },
      "text/html": [
       "<div>\n",
       "<style scoped>\n",
       "    .dataframe tbody tr th:only-of-type {\n",
       "        vertical-align: middle;\n",
       "    }\n",
       "\n",
       "    .dataframe tbody tr th {\n",
       "        vertical-align: top;\n",
       "    }\n",
       "\n",
       "    .dataframe thead th {\n",
       "        text-align: right;\n",
       "    }\n",
       "</style>\n",
       "<table border=\"1\" class=\"dataframe\">\n",
       "  <thead>\n",
       "    <tr style=\"text-align: right;\">\n",
       "      <th></th>\n",
       "      <th>lag_1</th>\n",
       "      <th>lag_2</th>\n",
       "      <th>lag_3</th>\n",
       "      <th>lag_4</th>\n",
       "      <th>lag_5</th>\n",
       "      <th>roll_mean_5</th>\n",
       "      <th>roll_sum_5</th>\n",
       "    </tr>\n",
       "    <tr>\n",
       "      <th>datetime</th>\n",
       "      <th></th>\n",
       "      <th></th>\n",
       "      <th></th>\n",
       "      <th></th>\n",
       "      <th></th>\n",
       "      <th></th>\n",
       "      <th></th>\n",
       "    </tr>\n",
       "  </thead>\n",
       "  <tbody>\n",
       "    <tr>\n",
       "      <th>1991-12-01</th>\n",
       "      <td>0.502369</td>\n",
       "      <td>0.492543</td>\n",
       "      <td>0.432159</td>\n",
       "      <td>0.400906</td>\n",
       "      <td>0.429795</td>\n",
       "      <td>0.451554</td>\n",
       "      <td>2.257772</td>\n",
       "    </tr>\n",
       "    <tr>\n",
       "      <th>1992-01-01</th>\n",
       "      <td>0.602652</td>\n",
       "      <td>0.502369</td>\n",
       "      <td>0.492543</td>\n",
       "      <td>0.432159</td>\n",
       "      <td>0.400906</td>\n",
       "      <td>0.486126</td>\n",
       "      <td>2.430629</td>\n",
       "    </tr>\n",
       "    <tr>\n",
       "      <th>1992-02-01</th>\n",
       "      <td>0.660119</td>\n",
       "      <td>0.602652</td>\n",
       "      <td>0.502369</td>\n",
       "      <td>0.492543</td>\n",
       "      <td>0.432159</td>\n",
       "      <td>0.537968</td>\n",
       "      <td>2.689842</td>\n",
       "    </tr>\n",
       "  </tbody>\n",
       "</table>\n",
       "</div>"
      ],
      "text/plain": [
       "               lag_1     lag_2     lag_3     lag_4     lag_5  roll_mean_5  \\\n",
       "datetime                                                                    \n",
       "1991-12-01  0.502369  0.492543  0.432159  0.400906  0.429795     0.451554   \n",
       "1992-01-01  0.602652  0.502369  0.492543  0.432159  0.400906     0.486126   \n",
       "1992-02-01  0.660119  0.602652  0.502369  0.492543  0.432159     0.537968   \n",
       "\n",
       "            roll_sum_5  \n",
       "datetime                \n",
       "1991-12-01    2.257772  \n",
       "1992-01-01    2.430629  \n",
       "1992-02-01    2.689842  "
      ]
     },
     "execution_count": 6,
     "metadata": {},
     "output_type": "execute_result"
    }
   ],
   "source": [
    "# Predictors matrix\n",
    "# ==============================================================================\n",
    "X_train.head(3)"
   ]
  },
  {
   "cell_type": "code",
   "execution_count": 7,
   "metadata": {},
   "outputs": [
    {
     "data": {
      "text/plain": [
       "datetime\n",
       "1991-12-01    0.602652\n",
       "1992-01-01    0.660119\n",
       "1992-02-01    0.336220\n",
       "Freq: MS, Name: y, dtype: float64"
      ]
     },
     "execution_count": 7,
     "metadata": {},
     "output_type": "execute_result"
    }
   ],
   "source": [
    "# Target variable matrix\n",
    "# ==============================================================================\n",
    "y_train.head(3)"
   ]
  },
  {
   "cell_type": "markdown",
   "metadata": {},
   "source": [
    "We can obtain the training predictions using the `predict` method of the regressor stored inside the forecaster object. By examining the predictions on the training data, analysts can get a better understanding of how the model is performing and make adjustments as necessary."
   ]
  },
  {
   "cell_type": "code",
   "execution_count": 8,
   "metadata": {},
   "outputs": [
    {
     "data": {
      "text/plain": [
       "array([0.49322601, 0.6376049 , 0.58531495, 0.44962278])"
      ]
     },
     "execution_count": 8,
     "metadata": {},
     "output_type": "execute_result"
    }
   ],
   "source": [
    "# Training predictions using the internal regressor\n",
    "# ==============================================================================\n",
    "predictions_training = forecaster.regressor.predict(X_train)\n",
    "predictions_training[:4]"
   ]
  },
  {
   "cell_type": "markdown",
   "metadata": {},
   "source": [
    "Skforecast provides the `create_predict_X` method to generate the matrices that the forecaster is using to make predictions. This method can be used to gain insight into the specific data manipulations that occur during the prediction process."
   ]
  },
  {
   "cell_type": "code",
   "execution_count": 9,
   "metadata": {},
   "outputs": [
    {
     "data": {
      "application/vnd.microsoft.datawrangler.viewer.v0+json": {
       "columns": [
        {
         "name": "index",
         "rawType": "datetime64[ns]",
         "type": "datetime"
        },
        {
         "name": "lag_1",
         "rawType": "float64",
         "type": "float"
        },
        {
         "name": "lag_2",
         "rawType": "float64",
         "type": "float"
        },
        {
         "name": "lag_3",
         "rawType": "float64",
         "type": "float"
        },
        {
         "name": "lag_4",
         "rawType": "float64",
         "type": "float"
        },
        {
         "name": "lag_5",
         "rawType": "float64",
         "type": "float"
        },
        {
         "name": "roll_mean_5",
         "rawType": "float64",
         "type": "float"
        },
        {
         "name": "roll_sum_5",
         "rawType": "float64",
         "type": "float"
        }
       ],
       "conversionMethod": "pd.DataFrame",
       "ref": "31d49ca0-e74f-411b-90ec-659ad526dc50",
       "rows": [
        [
         "2008-07-01 00:00:00",
         "0.762137",
         "0.816255",
         "0.827887",
         "0.649435",
         "0.761822",
         "0.7635072",
         "3.817536"
        ],
        [
         "2008-08-01 00:00:00",
         "0.8653605155079609",
         "0.762137",
         "0.816255",
         "0.827887",
         "0.649435",
         "0.7842149031015921",
         "3.9210745155079607"
        ],
        [
         "2008-09-01 00:00:00",
         "0.878166636088328",
         "0.8653605155079609",
         "0.762137",
         "0.816255",
         "0.827887",
         "0.8299612303192578",
         "4.149806151596289"
        ],
        [
         "2008-10-01 00:00:00",
         "0.8067084537367436",
         "0.878166636088328",
         "0.8653605155079609",
         "0.762137",
         "0.816255",
         "0.8257255210666065",
         "4.128627605333032"
        ],
        [
         "2008-11-01 00:00:00",
         "0.8735971717636751",
         "0.8067084537367436",
         "0.878166636088328",
         "0.8653605155079609",
         "0.762137",
         "0.8371939554193416",
         "4.185969777096708"
        ]
       ],
       "shape": {
        "columns": 7,
        "rows": 5
       }
      },
      "text/html": [
       "<div>\n",
       "<style scoped>\n",
       "    .dataframe tbody tr th:only-of-type {\n",
       "        vertical-align: middle;\n",
       "    }\n",
       "\n",
       "    .dataframe tbody tr th {\n",
       "        vertical-align: top;\n",
       "    }\n",
       "\n",
       "    .dataframe thead th {\n",
       "        text-align: right;\n",
       "    }\n",
       "</style>\n",
       "<table border=\"1\" class=\"dataframe\">\n",
       "  <thead>\n",
       "    <tr style=\"text-align: right;\">\n",
       "      <th></th>\n",
       "      <th>lag_1</th>\n",
       "      <th>lag_2</th>\n",
       "      <th>lag_3</th>\n",
       "      <th>lag_4</th>\n",
       "      <th>lag_5</th>\n",
       "      <th>roll_mean_5</th>\n",
       "      <th>roll_sum_5</th>\n",
       "    </tr>\n",
       "  </thead>\n",
       "  <tbody>\n",
       "    <tr>\n",
       "      <th>2008-07-01</th>\n",
       "      <td>0.762137</td>\n",
       "      <td>0.816255</td>\n",
       "      <td>0.827887</td>\n",
       "      <td>0.649435</td>\n",
       "      <td>0.761822</td>\n",
       "      <td>0.763507</td>\n",
       "      <td>3.817536</td>\n",
       "    </tr>\n",
       "    <tr>\n",
       "      <th>2008-08-01</th>\n",
       "      <td>0.865361</td>\n",
       "      <td>0.762137</td>\n",
       "      <td>0.816255</td>\n",
       "      <td>0.827887</td>\n",
       "      <td>0.649435</td>\n",
       "      <td>0.784215</td>\n",
       "      <td>3.921075</td>\n",
       "    </tr>\n",
       "    <tr>\n",
       "      <th>2008-09-01</th>\n",
       "      <td>0.878167</td>\n",
       "      <td>0.865361</td>\n",
       "      <td>0.762137</td>\n",
       "      <td>0.816255</td>\n",
       "      <td>0.827887</td>\n",
       "      <td>0.829961</td>\n",
       "      <td>4.149806</td>\n",
       "    </tr>\n",
       "    <tr>\n",
       "      <th>2008-10-01</th>\n",
       "      <td>0.806708</td>\n",
       "      <td>0.878167</td>\n",
       "      <td>0.865361</td>\n",
       "      <td>0.762137</td>\n",
       "      <td>0.816255</td>\n",
       "      <td>0.825726</td>\n",
       "      <td>4.128628</td>\n",
       "    </tr>\n",
       "    <tr>\n",
       "      <th>2008-11-01</th>\n",
       "      <td>0.873597</td>\n",
       "      <td>0.806708</td>\n",
       "      <td>0.878167</td>\n",
       "      <td>0.865361</td>\n",
       "      <td>0.762137</td>\n",
       "      <td>0.837194</td>\n",
       "      <td>4.185970</td>\n",
       "    </tr>\n",
       "  </tbody>\n",
       "</table>\n",
       "</div>"
      ],
      "text/plain": [
       "               lag_1     lag_2     lag_3     lag_4     lag_5  roll_mean_5  \\\n",
       "2008-07-01  0.762137  0.816255  0.827887  0.649435  0.761822     0.763507   \n",
       "2008-08-01  0.865361  0.762137  0.816255  0.827887  0.649435     0.784215   \n",
       "2008-09-01  0.878167  0.865361  0.762137  0.816255  0.827887     0.829961   \n",
       "2008-10-01  0.806708  0.878167  0.865361  0.762137  0.816255     0.825726   \n",
       "2008-11-01  0.873597  0.806708  0.878167  0.865361  0.762137     0.837194   \n",
       "\n",
       "            roll_sum_5  \n",
       "2008-07-01    3.817536  \n",
       "2008-08-01    3.921075  \n",
       "2008-09-01    4.149806  \n",
       "2008-10-01    4.128628  \n",
       "2008-11-01    4.185970  "
      ]
     },
     "execution_count": 9,
     "metadata": {},
     "output_type": "execute_result"
    }
   ],
   "source": [
    "# Create input matrix for predict method\n",
    "# ==============================================================================\n",
    "X_predict = forecaster.create_predict_X(steps=5)\n",
    "X_predict"
   ]
  },
  {
   "cell_type": "code",
   "execution_count": 10,
   "metadata": {},
   "outputs": [
    {
     "data": {
      "text/plain": [
       "array([0.86536052, 0.87816664, 0.80670845, 0.87359717, 0.96601636])"
      ]
     },
     "execution_count": 10,
     "metadata": {},
     "output_type": "execute_result"
    }
   ],
   "source": [
    "# Predict using the internal regressor\n",
    "# ==============================================================================\n",
    "predictions = forecaster.regressor.predict(X_predict)\n",
    "predictions"
   ]
  },
  {
   "cell_type": "markdown",
   "metadata": {},
   "source": [
    "## ForecasterDirect"
   ]
  },
  {
   "cell_type": "code",
   "execution_count": 11,
   "metadata": {},
   "outputs": [],
   "source": [
    "# Create and fit forecaster\n",
    "# ==============================================================================\n",
    "window_features = RollingFeatures(\n",
    "                      stats        = ['mean', 'sum'],\n",
    "                      window_sizes = [5, 5]\n",
    "                  )\n",
    "\n",
    "forecaster = ForecasterDirect(\n",
    "                 regressor       = Ridge(random_state=123),\n",
    "                 steps           = 3,\n",
    "                 lags            = 5,\n",
    "                 window_features = window_features\n",
    "             )\n",
    "\n",
    "forecaster.fit(y=data['y'])"
   ]
  },
  {
   "cell_type": "markdown",
   "metadata": {},
   "source": [
    "Two steps are required to extract the training matrices. One to create the entire training matrix and a second to subset the data needed for each model (step)."
   ]
  },
  {
   "cell_type": "code",
   "execution_count": 12,
   "metadata": {},
   "outputs": [
    {
     "data": {
      "application/vnd.microsoft.datawrangler.viewer.v0+json": {
       "columns": [
        {
         "name": "datetime",
         "rawType": "datetime64[ns]",
         "type": "datetime"
        },
        {
         "name": "lag_1",
         "rawType": "float64",
         "type": "float"
        },
        {
         "name": "lag_2",
         "rawType": "float64",
         "type": "float"
        },
        {
         "name": "lag_3",
         "rawType": "float64",
         "type": "float"
        },
        {
         "name": "lag_4",
         "rawType": "float64",
         "type": "float"
        },
        {
         "name": "lag_5",
         "rawType": "float64",
         "type": "float"
        },
        {
         "name": "roll_mean_5",
         "rawType": "float64",
         "type": "float"
        },
        {
         "name": "roll_sum_5",
         "rawType": "float64",
         "type": "float"
        }
       ],
       "conversionMethod": "pd.DataFrame",
       "ref": "d6bbb339-e47b-4173-b1bf-0cf703b87327",
       "rows": [
        [
         "1991-12-01 00:00:00",
         "0.502369",
         "0.492543",
         "0.432159",
         "0.400906",
         "0.429795",
         "0.4515544",
         "2.257772"
        ],
        [
         "1992-01-01 00:00:00",
         "0.602652",
         "0.502369",
         "0.492543",
         "0.432159",
         "0.400906",
         "0.48612579999999994",
         "2.4306289999999997"
        ],
        [
         "1992-02-01 00:00:00",
         "0.660119",
         "0.602652",
         "0.502369",
         "0.492543",
         "0.432159",
         "0.5379684",
         "2.689842"
        ],
        [
         "1992-03-01 00:00:00",
         "0.33622",
         "0.660119",
         "0.602652",
         "0.502369",
         "0.492543",
         "0.5187806",
         "2.593903"
        ]
       ],
       "shape": {
        "columns": 7,
        "rows": 4
       }
      },
      "text/html": [
       "<div>\n",
       "<style scoped>\n",
       "    .dataframe tbody tr th:only-of-type {\n",
       "        vertical-align: middle;\n",
       "    }\n",
       "\n",
       "    .dataframe tbody tr th {\n",
       "        vertical-align: top;\n",
       "    }\n",
       "\n",
       "    .dataframe thead th {\n",
       "        text-align: right;\n",
       "    }\n",
       "</style>\n",
       "<table border=\"1\" class=\"dataframe\">\n",
       "  <thead>\n",
       "    <tr style=\"text-align: right;\">\n",
       "      <th></th>\n",
       "      <th>lag_1</th>\n",
       "      <th>lag_2</th>\n",
       "      <th>lag_3</th>\n",
       "      <th>lag_4</th>\n",
       "      <th>lag_5</th>\n",
       "      <th>roll_mean_5</th>\n",
       "      <th>roll_sum_5</th>\n",
       "    </tr>\n",
       "    <tr>\n",
       "      <th>datetime</th>\n",
       "      <th></th>\n",
       "      <th></th>\n",
       "      <th></th>\n",
       "      <th></th>\n",
       "      <th></th>\n",
       "      <th></th>\n",
       "      <th></th>\n",
       "    </tr>\n",
       "  </thead>\n",
       "  <tbody>\n",
       "    <tr>\n",
       "      <th>1991-12-01</th>\n",
       "      <td>0.502369</td>\n",
       "      <td>0.492543</td>\n",
       "      <td>0.432159</td>\n",
       "      <td>0.400906</td>\n",
       "      <td>0.429795</td>\n",
       "      <td>0.451554</td>\n",
       "      <td>2.257772</td>\n",
       "    </tr>\n",
       "    <tr>\n",
       "      <th>1992-01-01</th>\n",
       "      <td>0.602652</td>\n",
       "      <td>0.502369</td>\n",
       "      <td>0.492543</td>\n",
       "      <td>0.432159</td>\n",
       "      <td>0.400906</td>\n",
       "      <td>0.486126</td>\n",
       "      <td>2.430629</td>\n",
       "    </tr>\n",
       "    <tr>\n",
       "      <th>1992-02-01</th>\n",
       "      <td>0.660119</td>\n",
       "      <td>0.602652</td>\n",
       "      <td>0.502369</td>\n",
       "      <td>0.492543</td>\n",
       "      <td>0.432159</td>\n",
       "      <td>0.537968</td>\n",
       "      <td>2.689842</td>\n",
       "    </tr>\n",
       "    <tr>\n",
       "      <th>1992-03-01</th>\n",
       "      <td>0.336220</td>\n",
       "      <td>0.660119</td>\n",
       "      <td>0.602652</td>\n",
       "      <td>0.502369</td>\n",
       "      <td>0.492543</td>\n",
       "      <td>0.518781</td>\n",
       "      <td>2.593903</td>\n",
       "    </tr>\n",
       "  </tbody>\n",
       "</table>\n",
       "</div>"
      ],
      "text/plain": [
       "               lag_1     lag_2     lag_3     lag_4     lag_5  roll_mean_5  \\\n",
       "datetime                                                                    \n",
       "1991-12-01  0.502369  0.492543  0.432159  0.400906  0.429795     0.451554   \n",
       "1992-01-01  0.602652  0.502369  0.492543  0.432159  0.400906     0.486126   \n",
       "1992-02-01  0.660119  0.602652  0.502369  0.492543  0.432159     0.537968   \n",
       "1992-03-01  0.336220  0.660119  0.602652  0.502369  0.492543     0.518781   \n",
       "\n",
       "            roll_sum_5  \n",
       "datetime                \n",
       "1991-12-01    2.257772  \n",
       "1992-01-01    2.430629  \n",
       "1992-02-01    2.689842  \n",
       "1992-03-01    2.593903  "
      ]
     },
     "execution_count": 12,
     "metadata": {},
     "output_type": "execute_result"
    }
   ],
   "source": [
    "# Create the whole train matrix\n",
    "# ==============================================================================\n",
    "X_train, y_train = forecaster.create_train_X_y(y=data['y'])\n",
    "\n",
    "# Extract X and y for step 1\n",
    "X_train_1, y_train_1 = forecaster.filter_train_X_y_for_step(\n",
    "                           step          = 1,\n",
    "                           X_train       = X_train,\n",
    "                           y_train       = y_train,\n",
    "                           remove_suffix = False\n",
    "                       )\n",
    "\n",
    "X_train_1.head(4)"
   ]
  },
  {
   "cell_type": "code",
   "execution_count": 13,
   "metadata": {},
   "outputs": [
    {
     "data": {
      "text/plain": [
       "datetime\n",
       "1991-12-01    0.602652\n",
       "1992-01-01    0.660119\n",
       "1992-02-01    0.336220\n",
       "Freq: MS, Name: y_step_1, dtype: float64"
      ]
     },
     "execution_count": 13,
     "metadata": {},
     "output_type": "execute_result"
    }
   ],
   "source": [
    "# Target variable matrix for step 1\n",
    "# ==============================================================================\n",
    "y_train_1.head(3)"
   ]
  },
  {
   "cell_type": "code",
   "execution_count": 14,
   "metadata": {},
   "outputs": [
    {
     "data": {
      "text/plain": [
       "{1: Ridge(random_state=123),\n",
       " 2: Ridge(random_state=123),\n",
       " 3: Ridge(random_state=123)}"
      ]
     },
     "execution_count": 14,
     "metadata": {},
     "output_type": "execute_result"
    }
   ],
   "source": [
    "# Internal regressors {step: regressor}\n",
    "# ==============================================================================\n",
    "forecaster.regressors_"
   ]
  },
  {
   "cell_type": "code",
   "execution_count": 15,
   "metadata": {},
   "outputs": [
    {
     "data": {
      "text/plain": [
       "array([0.5960254 , 0.6592509 , 0.70209408, 0.50312286])"
      ]
     },
     "execution_count": 15,
     "metadata": {},
     "output_type": "execute_result"
    }
   ],
   "source": [
    "# Step 1 training predictions using the internal regressor\n",
    "# ==============================================================================\n",
    "predictions_training = forecaster.regressors_[1].predict(X_train_1)\n",
    "predictions_training[:4]"
   ]
  },
  {
   "cell_type": "code",
   "execution_count": 16,
   "metadata": {},
   "outputs": [
    {
     "data": {
      "application/vnd.microsoft.datawrangler.viewer.v0+json": {
       "columns": [
        {
         "name": "index",
         "rawType": "datetime64[ns]",
         "type": "datetime"
        },
        {
         "name": "lag_1",
         "rawType": "float64",
         "type": "float"
        },
        {
         "name": "lag_2",
         "rawType": "float64",
         "type": "float"
        },
        {
         "name": "lag_3",
         "rawType": "float64",
         "type": "float"
        },
        {
         "name": "lag_4",
         "rawType": "float64",
         "type": "float"
        },
        {
         "name": "lag_5",
         "rawType": "float64",
         "type": "float"
        },
        {
         "name": "roll_mean_5",
         "rawType": "float64",
         "type": "float"
        },
        {
         "name": "roll_sum_5",
         "rawType": "float64",
         "type": "float"
        }
       ],
       "conversionMethod": "pd.DataFrame",
       "ref": "e2ba797e-7af6-4720-a2ed-9b42168067bc",
       "rows": [
        [
         "2008-07-01 00:00:00",
         "0.762137",
         "0.816255",
         "0.827887",
         "0.649435",
         "0.761822",
         "0.7635072",
         "3.817536"
        ],
        [
         "2008-08-01 00:00:00",
         "0.762137",
         "0.816255",
         "0.827887",
         "0.649435",
         "0.761822",
         "0.7635072",
         "3.817536"
        ],
        [
         "2008-09-01 00:00:00",
         "0.762137",
         "0.816255",
         "0.827887",
         "0.649435",
         "0.761822",
         "0.7635072",
         "3.817536"
        ]
       ],
       "shape": {
        "columns": 7,
        "rows": 3
       }
      },
      "text/html": [
       "<div>\n",
       "<style scoped>\n",
       "    .dataframe tbody tr th:only-of-type {\n",
       "        vertical-align: middle;\n",
       "    }\n",
       "\n",
       "    .dataframe tbody tr th {\n",
       "        vertical-align: top;\n",
       "    }\n",
       "\n",
       "    .dataframe thead th {\n",
       "        text-align: right;\n",
       "    }\n",
       "</style>\n",
       "<table border=\"1\" class=\"dataframe\">\n",
       "  <thead>\n",
       "    <tr style=\"text-align: right;\">\n",
       "      <th></th>\n",
       "      <th>lag_1</th>\n",
       "      <th>lag_2</th>\n",
       "      <th>lag_3</th>\n",
       "      <th>lag_4</th>\n",
       "      <th>lag_5</th>\n",
       "      <th>roll_mean_5</th>\n",
       "      <th>roll_sum_5</th>\n",
       "    </tr>\n",
       "  </thead>\n",
       "  <tbody>\n",
       "    <tr>\n",
       "      <th>2008-07-01</th>\n",
       "      <td>0.762137</td>\n",
       "      <td>0.816255</td>\n",
       "      <td>0.827887</td>\n",
       "      <td>0.649435</td>\n",
       "      <td>0.761822</td>\n",
       "      <td>0.763507</td>\n",
       "      <td>3.817536</td>\n",
       "    </tr>\n",
       "    <tr>\n",
       "      <th>2008-08-01</th>\n",
       "      <td>0.762137</td>\n",
       "      <td>0.816255</td>\n",
       "      <td>0.827887</td>\n",
       "      <td>0.649435</td>\n",
       "      <td>0.761822</td>\n",
       "      <td>0.763507</td>\n",
       "      <td>3.817536</td>\n",
       "    </tr>\n",
       "    <tr>\n",
       "      <th>2008-09-01</th>\n",
       "      <td>0.762137</td>\n",
       "      <td>0.816255</td>\n",
       "      <td>0.827887</td>\n",
       "      <td>0.649435</td>\n",
       "      <td>0.761822</td>\n",
       "      <td>0.763507</td>\n",
       "      <td>3.817536</td>\n",
       "    </tr>\n",
       "  </tbody>\n",
       "</table>\n",
       "</div>"
      ],
      "text/plain": [
       "               lag_1     lag_2     lag_3     lag_4     lag_5  roll_mean_5  \\\n",
       "2008-07-01  0.762137  0.816255  0.827887  0.649435  0.761822     0.763507   \n",
       "2008-08-01  0.762137  0.816255  0.827887  0.649435  0.761822     0.763507   \n",
       "2008-09-01  0.762137  0.816255  0.827887  0.649435  0.761822     0.763507   \n",
       "\n",
       "            roll_sum_5  \n",
       "2008-07-01    3.817536  \n",
       "2008-08-01    3.817536  \n",
       "2008-09-01    3.817536  "
      ]
     },
     "execution_count": 16,
     "metadata": {},
     "output_type": "execute_result"
    }
   ],
   "source": [
    "# Create input matrix for predict method\n",
    "# ==============================================================================\n",
    "X_predict = forecaster.create_predict_X(steps=None)  # All steps\n",
    "X_predict"
   ]
  },
  {
   "cell_type": "code",
   "execution_count": 17,
   "metadata": {},
   "outputs": [
    {
     "data": {
      "text/plain": [
       "array([0.78198225, 0.78198225, 0.78198225])"
      ]
     },
     "execution_count": 17,
     "metadata": {},
     "output_type": "execute_result"
    }
   ],
   "source": [
    "# Step 1 predictions using the internal regressor\n",
    "# ==============================================================================\n",
    "predictions = forecaster.regressors_[1].predict(X_predict)\n",
    "predictions"
   ]
  },
  {
   "cell_type": "markdown",
   "metadata": {},
   "source": [
    "## Creating matrices when including transformations\n",
    "\n",
    "If any [data transformations](../user_guides/sklearn-transformers-and-pipeline.html) and/or [differentiation](../user_guides/time-series-differentiation.html), are applied, they will affect the output matrices. Consequently, the predictions generated in this transformed scale may require additional steps to revert back to the original data scale."
   ]
  },
  {
   "cell_type": "code",
   "execution_count": 18,
   "metadata": {},
   "outputs": [],
   "source": [
    "# Create and fit ForecasterRecursive\n",
    "# ==============================================================================\n",
    "window_features = RollingFeatures(\n",
    "                      stats        = ['mean', 'sum'],\n",
    "                      window_sizes = [5, 5]\n",
    "                  )\n",
    "\n",
    "forecaster = ForecasterRecursive(\n",
    "                 regressor       = LGBMRegressor(random_state=123, verbose=-1),\n",
    "                 lags            = 5,\n",
    "                 window_features = window_features,\n",
    "                 transformer_y   = StandardScaler(),\n",
    "                 differentiation = 1\n",
    "             )\n",
    "\n",
    "forecaster.fit(y=data['y'])"
   ]
  },
  {
   "cell_type": "code",
   "execution_count": 19,
   "metadata": {},
   "outputs": [
    {
     "data": {
      "text/plain": [
       "array([0.5547262 , 0.3597327 , 0.39960716, 0.42227145])"
      ]
     },
     "execution_count": 19,
     "metadata": {},
     "output_type": "execute_result"
    }
   ],
   "source": [
    "# Training predictions with transformations\n",
    "# ==============================================================================\n",
    "X_train_transformed, y_train_transformed = forecaster.create_train_X_y(y=data['y'])\n",
    "\n",
    "# Training predictions using the internal regressor\n",
    "predictions_transformed = forecaster.regressor.predict(X_train_transformed)\n",
    "\n",
    "# Revert differentiation (only if differentiation is not None)\n",
    "predictions_transformed = forecaster.differentiator.inverse_transform_training(predictions_transformed)\n",
    "\n",
    "# Revert transformation (only if transformer_y is not None)\n",
    "predictions_training = forecaster.transformer_y.inverse_transform(predictions_transformed.reshape(-1, 1))\n",
    "predictions_training.ravel()[:4]"
   ]
  },
  {
   "cell_type": "code",
   "execution_count": 20,
   "metadata": {},
   "outputs": [
    {
     "data": {
      "text/html": [
       "<pre style=\"white-space:pre;overflow-x:auto;line-height:normal;font-family:Menlo,'DejaVu Sans Mono',consolas,'Courier New',monospace\"><span style=\"color: #ffaf00; text-decoration-color: #ffaf00\">╭───────────────────────────── DataTransformationWarning ──────────────────────────────╮</span>\n",
       "<span style=\"color: #ffaf00; text-decoration-color: #ffaf00\">│</span> The output matrix is in the transformed scale due to the inclusion of                <span style=\"color: #ffaf00; text-decoration-color: #ffaf00\">│</span>\n",
       "<span style=\"color: #ffaf00; text-decoration-color: #ffaf00\">│</span> transformations or differentiation in the Forecaster. As a result, any predictions   <span style=\"color: #ffaf00; text-decoration-color: #ffaf00\">│</span>\n",
       "<span style=\"color: #ffaf00; text-decoration-color: #ffaf00\">│</span> generated using this matrix will also be in the transformed scale. Please refer to   <span style=\"color: #ffaf00; text-decoration-color: #ffaf00\">│</span>\n",
       "<span style=\"color: #ffaf00; text-decoration-color: #ffaf00\">│</span> the documentation for more details:                                                  <span style=\"color: #ffaf00; text-decoration-color: #ffaf00\">│</span>\n",
       "<span style=\"color: #ffaf00; text-decoration-color: #ffaf00\">│</span> https://skforecast.org/latest/user_guides/training-and-prediction-matrices.html      <span style=\"color: #ffaf00; text-decoration-color: #ffaf00\">│</span>\n",
       "<span style=\"color: #ffaf00; text-decoration-color: #ffaf00\">│</span>                                                                                      <span style=\"color: #ffaf00; text-decoration-color: #ffaf00\">│</span>\n",
       "<span style=\"color: #ffaf00; text-decoration-color: #ffaf00\">│</span> Category : DataTransformationWarning                                                 <span style=\"color: #ffaf00; text-decoration-color: #ffaf00\">│</span>\n",
       "<span style=\"color: #ffaf00; text-decoration-color: #ffaf00\">│</span> Location :                                                                           <span style=\"color: #ffaf00; text-decoration-color: #ffaf00\">│</span>\n",
       "<span style=\"color: #ffaf00; text-decoration-color: #ffaf00\">│</span> /home/ubuntu/anaconda3/envs/skforecast_15_py12/lib/python3.12/site-packages/skforeca <span style=\"color: #ffaf00; text-decoration-color: #ffaf00\">│</span>\n",
       "<span style=\"color: #ffaf00; text-decoration-color: #ffaf00\">│</span> st/recursive/_forecaster_recursive.py:1392                                           <span style=\"color: #ffaf00; text-decoration-color: #ffaf00\">│</span>\n",
       "<span style=\"color: #ffaf00; text-decoration-color: #ffaf00\">│</span> Suppress : warnings.simplefilter('ignore', category=DataTransformationWarning)       <span style=\"color: #ffaf00; text-decoration-color: #ffaf00\">│</span>\n",
       "<span style=\"color: #ffaf00; text-decoration-color: #ffaf00\">╰──────────────────────────────────────────────────────────────────────────────────────╯</span>\n",
       "</pre>\n"
      ],
      "text/plain": [
       "\u001b[38;5;214m╭─\u001b[0m\u001b[38;5;214m────────────────────────────\u001b[0m\u001b[38;5;214m DataTransformationWarning \u001b[0m\u001b[38;5;214m─────────────────────────────\u001b[0m\u001b[38;5;214m─╮\u001b[0m\n",
       "\u001b[38;5;214m│\u001b[0m The output matrix is in the transformed scale due to the inclusion of                \u001b[38;5;214m│\u001b[0m\n",
       "\u001b[38;5;214m│\u001b[0m transformations or differentiation in the Forecaster. As a result, any predictions   \u001b[38;5;214m│\u001b[0m\n",
       "\u001b[38;5;214m│\u001b[0m generated using this matrix will also be in the transformed scale. Please refer to   \u001b[38;5;214m│\u001b[0m\n",
       "\u001b[38;5;214m│\u001b[0m the documentation for more details:                                                  \u001b[38;5;214m│\u001b[0m\n",
       "\u001b[38;5;214m│\u001b[0m https://skforecast.org/latest/user_guides/training-and-prediction-matrices.html      \u001b[38;5;214m│\u001b[0m\n",
       "\u001b[38;5;214m│\u001b[0m                                                                                      \u001b[38;5;214m│\u001b[0m\n",
       "\u001b[38;5;214m│\u001b[0m Category : DataTransformationWarning                                                 \u001b[38;5;214m│\u001b[0m\n",
       "\u001b[38;5;214m│\u001b[0m Location :                                                                           \u001b[38;5;214m│\u001b[0m\n",
       "\u001b[38;5;214m│\u001b[0m /home/ubuntu/anaconda3/envs/skforecast_15_py12/lib/python3.12/site-packages/skforeca \u001b[38;5;214m│\u001b[0m\n",
       "\u001b[38;5;214m│\u001b[0m st/recursive/_forecaster_recursive.py:1392                                           \u001b[38;5;214m│\u001b[0m\n",
       "\u001b[38;5;214m│\u001b[0m Suppress : warnings.simplefilter('ignore', category=DataTransformationWarning)       \u001b[38;5;214m│\u001b[0m\n",
       "\u001b[38;5;214m╰──────────────────────────────────────────────────────────────────────────────────────╯\u001b[0m\n"
      ]
     },
     "metadata": {},
     "output_type": "display_data"
    },
    {
     "data": {
      "text/plain": [
       "array([0.88563047, 0.62235217, 0.54433454, 0.56906843])"
      ]
     },
     "execution_count": 20,
     "metadata": {},
     "output_type": "execute_result"
    }
   ],
   "source": [
    "# Predict using the internal regressor with transformation\n",
    "# ==============================================================================\n",
    "X_predict_transformed = forecaster.create_predict_X(steps=5)\n",
    "\n",
    "# Predict using the internal regressor\n",
    "predictions_transformed = forecaster.regressor.predict(X_predict_transformed)\n",
    "\n",
    "# Revert differentiation (only if differentiation is not None)\n",
    "predictions_transformed = forecaster.differentiator.inverse_transform_next_window(predictions_transformed)\n",
    "\n",
    "# Revert transformation (only if transformer_y is not None)\n",
    "predictions = forecaster.transformer_y.inverse_transform(predictions_transformed.reshape(-1, 1))\n",
    "predictions.ravel()[:4]"
   ]
  },
  {
   "cell_type": "markdown",
   "metadata": {},
   "source": [
    "As before, when using a <code>ForecasterDirect</code>, two steps are required to extract the training matrices. One to create the entire training matrix and a second to subset the data needed for each model (step)."
   ]
  },
  {
   "cell_type": "markdown",
   "metadata": {},
   "source": [
    "<div class=\"admonition note\" name=\"html-admonition\" style=\"background: rgba(255,145,0,.1); padding-top: 0px; padding-bottom: 6px; border-radius: 8px; border-left: 8px solid #ff9100; border-color: #ff9100; padding-left: 10px; padding-right: 10px\">\n",
    "\n",
    "<p class=\"title\">\n",
    "    <i style=\"font-size: 18px; color:#ff9100; border-color: #ff1744;\"></i>\n",
    "    <b style=\"color: #ff9100;\"> <span style=\"color: #ff9100;\">&#9888;</span> Warning</b>\n",
    "</p>\n",
    "\n",
    "If the <code>ForecasterDirect</code> includes <a href=\"../user_guides/time-series-differentiation.html\">differentiation</a>, the model in step 1 must be used if you want to reverse the differentiation of the training time series with the <code>inverse_transform_training</code> method.\n",
    "\n",
    "</div>"
   ]
  },
  {
   "cell_type": "code",
   "execution_count": 21,
   "metadata": {},
   "outputs": [],
   "source": [
    "# Create and fit ForecasterDirect\n",
    "# ==============================================================================\n",
    "window_features = RollingFeatures(\n",
    "                      stats        = ['mean', 'sum'],\n",
    "                      window_sizes = [5, 5]\n",
    "                  )\n",
    "\n",
    "forecaster = ForecasterDirect(\n",
    "                 regressor       = Ridge(random_state=123),\n",
    "                 steps           = 3,\n",
    "                 lags            = 5,\n",
    "                 window_features = window_features,\n",
    "                 transformer_y   = StandardScaler(),\n",
    "                 differentiation = 1\n",
    "             )\n",
    "\n",
    "forecaster.fit(y=data['y'])"
   ]
  },
  {
   "cell_type": "code",
   "execution_count": 22,
   "metadata": {},
   "outputs": [
    {
     "data": {
      "text/plain": [
       "array([0.58659215, 0.55767068, 0.58243553, 0.58782361])"
      ]
     },
     "execution_count": 22,
     "metadata": {},
     "output_type": "execute_result"
    }
   ],
   "source": [
    "# Training predictions with transformations\n",
    "# ==============================================================================\n",
    "X_train_transformed, y_train_transformed = forecaster.create_train_X_y(y=data['y'])\n",
    "\n",
    "# Extract X and y for step 1\n",
    "X_train_transformed_1, y_train_transformed_1 = forecaster.filter_train_X_y_for_step(\n",
    "                                                   step          = 1,\n",
    "                                                   X_train       = X_train_transformed,\n",
    "                                                   y_train       = y_train_transformed,\n",
    "                                                   remove_suffix = False\n",
    "                                               )\n",
    "\n",
    "# Training predictions using the internal regressor for step 1\n",
    "predictions_transformed = forecaster.regressors_[1].predict(X_train_transformed_1)\n",
    "\n",
    "# Revert differentiation (only if differentiation is not None)\n",
    "predictions_transformed = forecaster.differentiator.inverse_transform_training(predictions_transformed)\n",
    "\n",
    "# Revert transformation (only if transformer_y is not None)\n",
    "predictions_training = forecaster.transformer_y.inverse_transform(predictions_transformed.reshape(-1, 1))\n",
    "predictions_training.ravel()[:4]"
   ]
  },
  {
   "cell_type": "code",
   "execution_count": 23,
   "metadata": {},
   "outputs": [
    {
     "data": {
      "text/html": [
       "<pre style=\"white-space:pre;overflow-x:auto;line-height:normal;font-family:Menlo,'DejaVu Sans Mono',consolas,'Courier New',monospace\"><span style=\"color: #ffaf00; text-decoration-color: #ffaf00\">╭───────────────────────────── DataTransformationWarning ──────────────────────────────╮</span>\n",
       "<span style=\"color: #ffaf00; text-decoration-color: #ffaf00\">│</span> The output matrix is in the transformed scale due to the inclusion of                <span style=\"color: #ffaf00; text-decoration-color: #ffaf00\">│</span>\n",
       "<span style=\"color: #ffaf00; text-decoration-color: #ffaf00\">│</span> transformations or differentiation in the Forecaster. As a result, any predictions   <span style=\"color: #ffaf00; text-decoration-color: #ffaf00\">│</span>\n",
       "<span style=\"color: #ffaf00; text-decoration-color: #ffaf00\">│</span> generated using this matrix will also be in the transformed scale. Please refer to   <span style=\"color: #ffaf00; text-decoration-color: #ffaf00\">│</span>\n",
       "<span style=\"color: #ffaf00; text-decoration-color: #ffaf00\">│</span> the documentation for more details:                                                  <span style=\"color: #ffaf00; text-decoration-color: #ffaf00\">│</span>\n",
       "<span style=\"color: #ffaf00; text-decoration-color: #ffaf00\">│</span> https://skforecast.org/latest/user_guides/training-and-prediction-matrices.html      <span style=\"color: #ffaf00; text-decoration-color: #ffaf00\">│</span>\n",
       "<span style=\"color: #ffaf00; text-decoration-color: #ffaf00\">│</span>                                                                                      <span style=\"color: #ffaf00; text-decoration-color: #ffaf00\">│</span>\n",
       "<span style=\"color: #ffaf00; text-decoration-color: #ffaf00\">│</span> Category : DataTransformationWarning                                                 <span style=\"color: #ffaf00; text-decoration-color: #ffaf00\">│</span>\n",
       "<span style=\"color: #ffaf00; text-decoration-color: #ffaf00\">│</span> Location :                                                                           <span style=\"color: #ffaf00; text-decoration-color: #ffaf00\">│</span>\n",
       "<span style=\"color: #ffaf00; text-decoration-color: #ffaf00\">│</span> /home/ubuntu/anaconda3/envs/skforecast_15_py12/lib/python3.12/site-packages/skforeca <span style=\"color: #ffaf00; text-decoration-color: #ffaf00\">│</span>\n",
       "<span style=\"color: #ffaf00; text-decoration-color: #ffaf00\">│</span> st/direct/_forecaster_direct.py:1565                                                 <span style=\"color: #ffaf00; text-decoration-color: #ffaf00\">│</span>\n",
       "<span style=\"color: #ffaf00; text-decoration-color: #ffaf00\">│</span> Suppress : warnings.simplefilter('ignore', category=DataTransformationWarning)       <span style=\"color: #ffaf00; text-decoration-color: #ffaf00\">│</span>\n",
       "<span style=\"color: #ffaf00; text-decoration-color: #ffaf00\">╰──────────────────────────────────────────────────────────────────────────────────────╯</span>\n",
       "</pre>\n"
      ],
      "text/plain": [
       "\u001b[38;5;214m╭─\u001b[0m\u001b[38;5;214m────────────────────────────\u001b[0m\u001b[38;5;214m DataTransformationWarning \u001b[0m\u001b[38;5;214m─────────────────────────────\u001b[0m\u001b[38;5;214m─╮\u001b[0m\n",
       "\u001b[38;5;214m│\u001b[0m The output matrix is in the transformed scale due to the inclusion of                \u001b[38;5;214m│\u001b[0m\n",
       "\u001b[38;5;214m│\u001b[0m transformations or differentiation in the Forecaster. As a result, any predictions   \u001b[38;5;214m│\u001b[0m\n",
       "\u001b[38;5;214m│\u001b[0m generated using this matrix will also be in the transformed scale. Please refer to   \u001b[38;5;214m│\u001b[0m\n",
       "\u001b[38;5;214m│\u001b[0m the documentation for more details:                                                  \u001b[38;5;214m│\u001b[0m\n",
       "\u001b[38;5;214m│\u001b[0m https://skforecast.org/latest/user_guides/training-and-prediction-matrices.html      \u001b[38;5;214m│\u001b[0m\n",
       "\u001b[38;5;214m│\u001b[0m                                                                                      \u001b[38;5;214m│\u001b[0m\n",
       "\u001b[38;5;214m│\u001b[0m Category : DataTransformationWarning                                                 \u001b[38;5;214m│\u001b[0m\n",
       "\u001b[38;5;214m│\u001b[0m Location :                                                                           \u001b[38;5;214m│\u001b[0m\n",
       "\u001b[38;5;214m│\u001b[0m /home/ubuntu/anaconda3/envs/skforecast_15_py12/lib/python3.12/site-packages/skforeca \u001b[38;5;214m│\u001b[0m\n",
       "\u001b[38;5;214m│\u001b[0m st/direct/_forecaster_direct.py:1565                                                 \u001b[38;5;214m│\u001b[0m\n",
       "\u001b[38;5;214m│\u001b[0m Suppress : warnings.simplefilter('ignore', category=DataTransformationWarning)       \u001b[38;5;214m│\u001b[0m\n",
       "\u001b[38;5;214m╰──────────────────────────────────────────────────────────────────────────────────────╯\u001b[0m\n"
      ]
     },
     "metadata": {},
     "output_type": "display_data"
    },
    {
     "data": {
      "text/plain": [
       "array([0.85739057, 0.95264414, 1.04789772])"
      ]
     },
     "execution_count": 23,
     "metadata": {},
     "output_type": "execute_result"
    }
   ],
   "source": [
    "# Predict using the internal regressor with transformation\n",
    "# ==============================================================================\n",
    "X_predict_transformed = forecaster.create_predict_X(steps=None)  # All steps\n",
    "\n",
    "# Predict using the internal regressor for step 1\n",
    "predictions_transformed = forecaster.regressors_[1].predict(X_predict_transformed)\n",
    "\n",
    "# Revert differentiation (only if differentiation is not None)\n",
    "predictions_transformed = forecaster.differentiator.inverse_transform_next_window(predictions_transformed)\n",
    "\n",
    "# Revert transformation (only if transformer_y is not None)\n",
    "predictions = forecaster.transformer_y.inverse_transform(predictions_transformed.reshape(-1, 1))\n",
    "predictions.ravel()[:4]"
   ]
  },
  {
   "cell_type": "markdown",
   "metadata": {},
   "source": [
    "<div class=\"admonition note\" name=\"html-admonition\" style=\"background: rgba(0,191,191,.1); padding-top: 0px; padding-bottom: 6px; border-radius: 8px; border-left: 8px solid #00bfa5; border-color: #00bfa5; padding-left: 10px; padding-right: 10px;\">\n",
    "\n",
    "<p class=\"title\">\n",
    "    <i style=\"font-size: 18px; color:#00bfa5;\"></i>\n",
    "    <b style=\"color: #00bfa5;\">&#128161 Tip</b>\n",
    "</p>\n",
    "\n",
    "To reverse the <a href=\"../user_guides/sklearn-transformers-and-pipeline.html\">data transformation</a>, you can also use one of these skforecast functions: <a href=\"../api/utils.html#skforecast.utils.utils.transform_numpy\"><code>transform_numpy</code></a>, <a href=\"../api/utils.html#skforecast.utils.utils.transform_series\"><code>transform_series</code></a>, <a href=\"../api/utils.html#skforecast.utils.utils.transform_dataframe\"><code>transform_dataframe</code></a>.\n",
    "\n",
    "```python\n",
    "from skforecast.utils import transform_numpy\n",
    "\n",
    "predictions = transform_numpy(\n",
    "                  array             = predictions_transformed,\n",
    "                  transformer       = forecaster.transformer_y,\n",
    "                  fit               = False,\n",
    "                  inverse_transform = True\n",
    "              )\n",
    "```\n",
    "\n",
    "</div>"
   ]
  },
  {
   "cell_type": "markdown",
   "metadata": {},
   "source": [
    "## ForecasterRecursiveMultiSeries"
   ]
  },
  {
   "cell_type": "code",
   "execution_count": 24,
   "metadata": {},
   "outputs": [
    {
     "data": {
      "application/vnd.microsoft.datawrangler.viewer.v0+json": {
       "columns": [
        {
         "name": "date",
         "rawType": "datetime64[ns]",
         "type": "datetime"
        },
        {
         "name": "item_1",
         "rawType": "float64",
         "type": "float"
        },
        {
         "name": "item_2",
         "rawType": "float64",
         "type": "float"
        },
        {
         "name": "item_3",
         "rawType": "float64",
         "type": "float"
        }
       ],
       "conversionMethod": "pd.DataFrame",
       "ref": "f99ebf77-24f7-480c-a22f-2571248337ad",
       "rows": [
        [
         "2012-01-01 00:00:00",
         "8.2531745918",
         "21.047727272727272",
         "19.42973946376865"
        ],
        [
         "2012-01-02 00:00:00",
         "22.7778257304",
         "26.578125",
         "28.00986308040715"
        ],
        [
         "2012-01-03 00:00:00",
         "27.5490988882",
         "31.751041666666666",
         "32.0789220997037"
        ]
       ],
       "shape": {
        "columns": 3,
        "rows": 3
       }
      },
      "text/html": [
       "<div>\n",
       "<style scoped>\n",
       "    .dataframe tbody tr th:only-of-type {\n",
       "        vertical-align: middle;\n",
       "    }\n",
       "\n",
       "    .dataframe tbody tr th {\n",
       "        vertical-align: top;\n",
       "    }\n",
       "\n",
       "    .dataframe thead th {\n",
       "        text-align: right;\n",
       "    }\n",
       "</style>\n",
       "<table border=\"1\" class=\"dataframe\">\n",
       "  <thead>\n",
       "    <tr style=\"text-align: right;\">\n",
       "      <th></th>\n",
       "      <th>item_1</th>\n",
       "      <th>item_2</th>\n",
       "      <th>item_3</th>\n",
       "    </tr>\n",
       "    <tr>\n",
       "      <th>date</th>\n",
       "      <th></th>\n",
       "      <th></th>\n",
       "      <th></th>\n",
       "    </tr>\n",
       "  </thead>\n",
       "  <tbody>\n",
       "    <tr>\n",
       "      <th>2012-01-01</th>\n",
       "      <td>8.253175</td>\n",
       "      <td>21.047727</td>\n",
       "      <td>19.429739</td>\n",
       "    </tr>\n",
       "    <tr>\n",
       "      <th>2012-01-02</th>\n",
       "      <td>22.777826</td>\n",
       "      <td>26.578125</td>\n",
       "      <td>28.009863</td>\n",
       "    </tr>\n",
       "    <tr>\n",
       "      <th>2012-01-03</th>\n",
       "      <td>27.549099</td>\n",
       "      <td>31.751042</td>\n",
       "      <td>32.078922</td>\n",
       "    </tr>\n",
       "  </tbody>\n",
       "</table>\n",
       "</div>"
      ],
      "text/plain": [
       "               item_1     item_2     item_3\n",
       "date                                       \n",
       "2012-01-01   8.253175  21.047727  19.429739\n",
       "2012-01-02  22.777826  26.578125  28.009863\n",
       "2012-01-03  27.549099  31.751042  32.078922"
      ]
     },
     "metadata": {},
     "output_type": "display_data"
    },
    {
     "data": {
      "image/png": "[encoded data removed]",
      "text/plain": [
       "<Figure size 900x400 with 3 Axes>"
      ]
     },
     "metadata": {},
     "output_type": "display_data"
    }
   ],
   "source": [
    "# Data\n",
    "# ==============================================================================\n",
    "display(data_multiseries.head(3))\n",
    "\n",
    "# Plot\n",
    "# ==============================================================================\n",
    "fig, axes = plt.subplots(nrows=3, ncols=1, figsize=(9, 4), sharex=True)\n",
    "\n",
    "for i, col in enumerate(data_multiseries.columns):\n",
    "    data_multiseries[col].plot(ax=axes[i])\n",
    "    axes[i].set_xlabel('')\n",
    "    axes[i].set_ylabel('sales')\n",
    "    axes[i].set_title(col)\n",
    "\n",
    "fig.tight_layout()\n",
    "plt.show();"
   ]
  },
  {
   "cell_type": "code",
   "execution_count": 25,
   "metadata": {},
   "outputs": [
    {
     "data": {
      "text/html": [
       "\n",
       "    <style>\n",
       "        .container-f60b2c9941eb44caadde6aebe5e935a4 {\n",
       "            font-family: 'Arial', sans-serif;\n",
       "            font-size: 0.9em;\n",
       "            color: #333333;\n",
       "            border: 1px solid #ddd;\n",
       "            background-color: #f0f8ff;\n",
       "            padding: 5px 15px;\n",
       "            border-radius: 8px;\n",
       "            max-width: 600px;\n",
       "            #margin: auto;\n",
       "        }\n",
       "        .container-f60b2c9941eb44caadde6aebe5e935a4 h2 {\n",
       "            font-size: 1.5em;\n",
       "            color: #222222;\n",
       "            border-bottom: 2px solid #ddd;\n",
       "            padding-bottom: 5px;\n",
       "            margin-bottom: 15px;\n",
       "            margin-top: 5px;\n",
       "        }\n",
       "        .container-f60b2c9941eb44caadde6aebe5e935a4 details {\n",
       "            margin: 10px 0;\n",
       "        }\n",
       "        .container-f60b2c9941eb44caadde6aebe5e935a4 summary {\n",
       "            font-weight: bold;\n",
       "            font-size: 1.1em;\n",
       "            color: #000000;\n",
       "            cursor: pointer;\n",
       "            margin-bottom: 5px;\n",
       "            background-color: #b3dbfd;\n",
       "            padding: 5px;\n",
       "            border-radius: 5px;\n",
       "        }\n",
       "        .container-f60b2c9941eb44caadde6aebe5e935a4 summary:hover {\n",
       "            color: #000000;\n",
       "            background-color: #e0e0e0;\n",
       "        }\n",
       "        .container-f60b2c9941eb44caadde6aebe5e935a4 ul {\n",
       "            font-family: 'Courier New', monospace;\n",
       "            list-style-type: none;\n",
       "            padding-left: 20px;\n",
       "            margin: 10px 0;\n",
       "            line-height: normal;\n",
       "        }\n",
       "        .container-f60b2c9941eb44caadde6aebe5e935a4 li {\n",
       "            margin: 5px 0;\n",
       "            font-family: 'Courier New', monospace;\n",
       "        }\n",
       "        .container-f60b2c9941eb44caadde6aebe5e935a4 li strong {\n",
       "            font-weight: bold;\n",
       "            color: #444444;\n",
       "        }\n",
       "        .container-f60b2c9941eb44caadde6aebe5e935a4 li::before {\n",
       "            content: \"- \";\n",
       "            color: #666666;\n",
       "        }\n",
       "        .container-f60b2c9941eb44caadde6aebe5e935a4 a {\n",
       "            color: #001633;\n",
       "            text-decoration: none;\n",
       "        }\n",
       "        .container-f60b2c9941eb44caadde6aebe5e935a4 a:hover {\n",
       "            color: #359ccb; \n",
       "        }\n",
       "    </style>\n",
       "    \n",
       "        <div class=\"container-f60b2c9941eb44caadde6aebe5e935a4\">\n",
       "            <h2>ForecasterRecursiveMultiSeries</h2>\n",
       "            <details open>\n",
       "                <summary>General Information</summary>\n",
       "                <ul>\n",
       "                    <li><strong>Regressor:</strong> LGBMRegressor</li>\n",
       "                    <li><strong>Lags:</strong> [1 2 3 4 5]</li>\n",
       "                    <li><strong>Window features:</strong> ['roll_mean_5', 'roll_sum_5']</li>\n",
       "                    <li><strong>Window size:</strong> 5</li>\n",
       "                    <li><strong>Series encoding:</strong> ordinal</li>\n",
       "                    <li><strong>Exogenous included:</strong> False</li>\n",
       "                    <li><strong>Weight function included:</strong> False</li>\n",
       "                    <li><strong>Series weights:</strong> None</li>\n",
       "                    <li><strong>Differentiation order:</strong> None</li>\n",
       "                    <li><strong>Creation date:</strong> 2025-03-07 14:14:02</li>\n",
       "                    <li><strong>Last fit date:</strong> 2025-03-07 14:14:02</li>\n",
       "                    <li><strong>Skforecast version:</strong> 0.15.0</li>\n",
       "                    <li><strong>Python version:</strong> 3.12.9</li>\n",
       "                    <li><strong>Forecaster id:</strong> None</li>\n",
       "                </ul>\n",
       "            </details>\n",
       "            <details>\n",
       "                <summary>Exogenous Variables</summary>\n",
       "                <ul>\n",
       "                    None\n",
       "                </ul>\n",
       "            </details>\n",
       "            <details>\n",
       "                <summary>Data Transformations</summary>\n",
       "                <ul>\n",
       "                    <li><strong>Transformer for series:</strong> None</li>\n",
       "                    <li><strong>Transformer for exog:</strong> None</li>\n",
       "                </ul>\n",
       "            </details>\n",
       "            <details>\n",
       "                <summary>Training Information</summary>\n",
       "                <ul>\n",
       "                    <li><strong>Series names (levels):</strong> item_1, item_2, item_3</li>\n",
       "                    <li><strong>Training range:</strong> 'item_1': ['2012-01-01', '2015-01-01'], 'item_2': ['2012-01-01', '2015-01-01'], 'item_3': ['2012-01-01', '2015-01-01']</li>\n",
       "                    <li><strong>Training index type:</strong> DatetimeIndex</li>\n",
       "                    <li><strong>Training index frequency:</strong> D</li>\n",
       "                </ul>\n",
       "            </details>\n",
       "            <details>\n",
       "                <summary>Regressor Parameters</summary>\n",
       "                <ul>\n",
       "                    {'boosting_type': 'gbdt', 'class_weight': None, 'colsample_bytree': 1.0, 'importance_type': 'split', 'learning_rate': 0.1, 'max_depth': -1, 'min_child_samples': 20, 'min_child_weight': 0.001, 'min_split_gain': 0.0, 'n_estimators': 100, 'n_jobs': None, 'num_leaves': 31, 'objective': None, 'random_state': 123, 'reg_alpha': 0.0, 'reg_lambda': 0.0, 'subsample': 1.0, 'subsample_for_bin': 200000, 'subsample_freq': 0, 'verbose': -1}\n",
       "                </ul>\n",
       "            </details>\n",
       "            <details>\n",
       "                <summary>Fit Kwargs</summary>\n",
       "                <ul>\n",
       "                    {}\n",
       "                </ul>\n",
       "            </details>\n",
       "            <p>\n",
       "                <a href=\"https://skforecast.org/0.15.0/api/forecasterrecursivemultiseries.html\">&#128712 <strong>API Reference</strong></a>\n",
       "                &nbsp;&nbsp;\n",
       "                <a href=\"https://skforecast.org/0.15.0/user_guides/independent-multi-time-series-forecasting.html\">&#128462 <strong>User Guide</strong></a>\n",
       "            </p>\n",
       "        </div>\n",
       "        "
      ],
      "text/plain": [
       "============================== \n",
       "ForecasterRecursiveMultiSeries \n",
       "============================== \n",
       "Regressor: LGBMRegressor \n",
       "Lags: [1 2 3 4 5] \n",
       "Window features: ['roll_mean_5', 'roll_sum_5'] \n",
       "Window size: 5 \n",
       "Series encoding: ordinal \n",
       "Series names (levels): item_1, item_2, item_3 \n",
       "Exogenous included: False \n",
       "Exogenous names: None \n",
       "Transformer for series: None \n",
       "Transformer for exog: None \n",
       "Weight function included: False \n",
       "Series weights: None \n",
       "Differentiation order: None \n",
       "Training range: \n",
       "    'item_1': ['2012-01-01', '2015-01-01'], 'item_2': ['2012-01-01', '2015-01-01'],\n",
       "    'item_3': ['2012-01-01', '2015-01-01'] \n",
       "Training index type: DatetimeIndex \n",
       "Training index frequency: D \n",
       "Regressor parameters: \n",
       "    {'boosting_type': 'gbdt', 'class_weight': None, 'colsample_bytree': 1.0,\n",
       "    'importance_type': 'split', 'learning_rate': 0.1, 'max_depth': -1,\n",
       "    'min_child_samples': 20, 'min_child_weight': 0.001, 'min_split_gain': 0.0,\n",
       "    'n_estimators': 100, 'n_jobs': None, 'num_leaves': 31, 'objective': None,\n",
       "    'random_state': 123, 'reg_alpha': 0.0, 'reg_lambda': 0.0, 'subsample': 1.0,\n",
       "    'subsample_for_bin': 200000, 'subsample_freq': 0, 'verbose': -1} \n",
       "fit_kwargs: {} \n",
       "Creation date: 2025-03-07 14:14:02 \n",
       "Last fit date: 2025-03-07 14:14:02 \n",
       "Skforecast version: 0.15.0 \n",
       "Python version: 3.12.9 \n",
       "Forecaster id: None "
      ]
     },
     "execution_count": 25,
     "metadata": {},
     "output_type": "execute_result"
    }
   ],
   "source": [
    "# Create and fit forecaster\n",
    "# ==============================================================================\n",
    "window_features = RollingFeatures(\n",
    "                      stats        = ['mean', 'sum'],\n",
    "                      window_sizes = [5, 5]\n",
    "                  )\n",
    "\n",
    "forecaster = ForecasterRecursiveMultiSeries(\n",
    "                 regressor       = LGBMRegressor(random_state=123, verbose=-1),\n",
    "                 lags            = 5,\n",
    "                 window_features = window_features,\n",
    "                 encoding        = 'ordinal'\n",
    "             )\n",
    "\n",
    "forecaster.fit(series=data_multiseries)\n",
    "forecaster"
   ]
  },
  {
   "cell_type": "code",
   "execution_count": 26,
   "metadata": {},
   "outputs": [],
   "source": [
    "# Create training matrices\n",
    "# ==============================================================================\n",
    "X_train, y_train = forecaster.create_train_X_y(series=data_multiseries)"
   ]
  },
  {
   "cell_type": "markdown",
   "metadata": {},
   "source": [
    "Depending on the [series encoding](../user_guides/independent-multi-time-series-forecasting.html#series-encoding-in-multi-series) selected, the column(s) generated to identify the series to which the observations belong may be different. In this case, the column `_level_skforecast` is generated as `encoding = 'ordinal'`."
   ]
  },
  {
   "cell_type": "code",
   "execution_count": 27,
   "metadata": {},
   "outputs": [
    {
     "data": {
      "application/vnd.microsoft.datawrangler.viewer.v0+json": {
       "columns": [
        {
         "name": "date",
         "rawType": "datetime64[ns]",
         "type": "datetime"
        },
        {
         "name": "lag_1",
         "rawType": "float64",
         "type": "float"
        },
        {
         "name": "lag_2",
         "rawType": "float64",
         "type": "float"
        },
        {
         "name": "lag_3",
         "rawType": "float64",
         "type": "float"
        },
        {
         "name": "lag_4",
         "rawType": "float64",
         "type": "float"
        },
        {
         "name": "lag_5",
         "rawType": "float64",
         "type": "float"
        },
        {
         "name": "roll_mean_5",
         "rawType": "float64",
         "type": "float"
        },
        {
         "name": "roll_sum_5",
         "rawType": "float64",
         "type": "float"
        },
        {
         "name": "_level_skforecast",
         "rawType": "int64",
         "type": "integer"
        }
       ],
       "conversionMethod": "pd.DataFrame",
       "ref": "419b4241-ff34-480d-bdbd-41185f238418",
       "rows": [
        [
         "2012-01-06 00:00:00",
         "21.3792376946",
         "25.8955329422",
         "27.5490988882",
         "22.7778257304",
         "8.2531745918",
         "21.170973969440002",
         "105.8548698472",
         "0"
        ],
        [
         "2012-01-07 00:00:00",
         "21.106642655",
         "21.3792376946",
         "25.8955329422",
         "27.5490988882",
         "22.7778257304",
         "23.741667582079998",
         "118.70833791039999",
         "0"
        ],
        [
         "2012-01-08 00:00:00",
         "20.533871462",
         "21.106642655",
         "21.3792376946",
         "25.8955329422",
         "27.5490988882",
         "23.2928767284",
         "116.464383642",
         "0"
        ]
       ],
       "shape": {
        "columns": 8,
        "rows": 3
       }
      },
      "text/html": [
       "<div>\n",
       "<style scoped>\n",
       "    .dataframe tbody tr th:only-of-type {\n",
       "        vertical-align: middle;\n",
       "    }\n",
       "\n",
       "    .dataframe tbody tr th {\n",
       "        vertical-align: top;\n",
       "    }\n",
       "\n",
       "    .dataframe thead th {\n",
       "        text-align: right;\n",
       "    }\n",
       "</style>\n",
       "<table border=\"1\" class=\"dataframe\">\n",
       "  <thead>\n",
       "    <tr style=\"text-align: right;\">\n",
       "      <th></th>\n",
       "      <th>lag_1</th>\n",
       "      <th>lag_2</th>\n",
       "      <th>lag_3</th>\n",
       "      <th>lag_4</th>\n",
       "      <th>lag_5</th>\n",
       "      <th>roll_mean_5</th>\n",
       "      <th>roll_sum_5</th>\n",
       "      <th>_level_skforecast</th>\n",
       "    </tr>\n",
       "    <tr>\n",
       "      <th>date</th>\n",
       "      <th></th>\n",
       "      <th></th>\n",
       "      <th></th>\n",
       "      <th></th>\n",
       "      <th></th>\n",
       "      <th></th>\n",
       "      <th></th>\n",
       "      <th></th>\n",
       "    </tr>\n",
       "  </thead>\n",
       "  <tbody>\n",
       "    <tr>\n",
       "      <th>2012-01-06</th>\n",
       "      <td>21.379238</td>\n",
       "      <td>25.895533</td>\n",
       "      <td>27.549099</td>\n",
       "      <td>22.777826</td>\n",
       "      <td>8.253175</td>\n",
       "      <td>21.170974</td>\n",
       "      <td>105.854870</td>\n",
       "      <td>0</td>\n",
       "    </tr>\n",
       "    <tr>\n",
       "      <th>2012-01-07</th>\n",
       "      <td>21.106643</td>\n",
       "      <td>21.379238</td>\n",
       "      <td>25.895533</td>\n",
       "      <td>27.549099</td>\n",
       "      <td>22.777826</td>\n",
       "      <td>23.741668</td>\n",
       "      <td>118.708338</td>\n",
       "      <td>0</td>\n",
       "    </tr>\n",
       "    <tr>\n",
       "      <th>2012-01-08</th>\n",
       "      <td>20.533871</td>\n",
       "      <td>21.106643</td>\n",
       "      <td>21.379238</td>\n",
       "      <td>25.895533</td>\n",
       "      <td>27.549099</td>\n",
       "      <td>23.292877</td>\n",
       "      <td>116.464384</td>\n",
       "      <td>0</td>\n",
       "    </tr>\n",
       "  </tbody>\n",
       "</table>\n",
       "</div>"
      ],
      "text/plain": [
       "                lag_1      lag_2      lag_3      lag_4      lag_5  \\\n",
       "date                                                                \n",
       "2012-01-06  21.379238  25.895533  27.549099  22.777826   8.253175   \n",
       "2012-01-07  21.106643  21.379238  25.895533  27.549099  22.777826   \n",
       "2012-01-08  20.533871  21.106643  21.379238  25.895533  27.549099   \n",
       "\n",
       "            roll_mean_5  roll_sum_5  _level_skforecast  \n",
       "date                                                    \n",
       "2012-01-06    21.170974  105.854870                  0  \n",
       "2012-01-07    23.741668  118.708338                  0  \n",
       "2012-01-08    23.292877  116.464384                  0  "
      ]
     },
     "execution_count": 27,
     "metadata": {},
     "output_type": "execute_result"
    }
   ],
   "source": [
    "# Predictors matrix\n",
    "# ==============================================================================\n",
    "X_train.head(3)"
   ]
  },
  {
   "cell_type": "code",
   "execution_count": 28,
   "metadata": {},
   "outputs": [
    {
     "data": {
      "text/plain": [
       "date\n",
       "2012-01-06    21.106643\n",
       "2012-01-07    20.533871\n",
       "2012-01-08    20.069327\n",
       "Name: y, dtype: float64"
      ]
     },
     "execution_count": 28,
     "metadata": {},
     "output_type": "execute_result"
    }
   ],
   "source": [
    "# Target variable matrix\n",
    "# ==============================================================================\n",
    "y_train.head(3)"
   ]
  },
  {
   "cell_type": "markdown",
   "metadata": {},
   "source": [
    "We can obtain the training predictions using the `predict` method of the regressor stored inside the forecaster object. By examining the predictions on the training data, analysts can get a better understanding of how the model is performing and make adjustments as necessary."
   ]
  },
  {
   "cell_type": "code",
   "execution_count": 29,
   "metadata": {},
   "outputs": [
    {
     "data": {
      "text/plain": [
       "array([19.54628549, 22.29989602, 20.10135048, 20.97563208])"
      ]
     },
     "execution_count": 29,
     "metadata": {},
     "output_type": "execute_result"
    }
   ],
   "source": [
    "# Training predictions using the internal regressor\n",
    "# ==============================================================================\n",
    "predictions_training = forecaster.regressor.predict(X_train)\n",
    "predictions_training[:4]"
   ]
  },
  {
   "cell_type": "markdown",
   "metadata": {},
   "source": [
    "Skforecast provides the `create_predict_X` method to generate the matrices that the forecaster is using to make predictions. This method can be used to gain insight into the specific data manipulations that occur during the prediction process."
   ]
  },
  {
   "cell_type": "code",
   "execution_count": 30,
   "metadata": {},
   "outputs": [
    {
     "data": {
      "application/vnd.microsoft.datawrangler.viewer.v0+json": {
       "columns": [
        {
         "name": "index",
         "rawType": "datetime64[ns]",
         "type": "datetime"
        },
        {
         "name": "lag_1",
         "rawType": "float64",
         "type": "float"
        },
        {
         "name": "lag_2",
         "rawType": "float64",
         "type": "float"
        },
        {
         "name": "lag_3",
         "rawType": "float64",
         "type": "float"
        },
        {
         "name": "lag_4",
         "rawType": "float64",
         "type": "float"
        },
        {
         "name": "lag_5",
         "rawType": "float64",
         "type": "float"
        },
        {
         "name": "roll_mean_5",
         "rawType": "float64",
         "type": "float"
        },
        {
         "name": "roll_sum_5",
         "rawType": "float64",
         "type": "float"
        },
        {
         "name": "_level_skforecast",
         "rawType": "float64",
         "type": "float"
        }
       ],
       "conversionMethod": "pd.DataFrame",
       "ref": "9909cc20-478c-4318-81eb-4a9ea2cba9a4",
       "rows": [
        [
         "2015-01-02 00:00:00",
         "10.4963021342",
         "18.7212226846",
         "18.8570258296",
         "19.6116228892",
         "17.329232567200002",
         "17.003081220960002",
         "85.01540610480001",
         "0.0"
        ],
        [
         "2015-01-03 00:00:00",
         "13.61469595542389",
         "10.4963021342",
         "18.7212226846",
         "18.8570258296",
         "19.6116228892",
         "16.26017389860478",
         "81.3008694930239",
         "0.0"
        ],
        [
         "2015-01-04 00:00:00",
         "14.526243600129842",
         "13.61469595542389",
         "10.4963021342",
         "18.7212226846",
         "18.8570258296",
         "15.243098040790747",
         "76.21549020395373",
         "0.0"
        ],
        [
         "2015-01-05 00:00:00",
         "16.80203690904062",
         "14.526243600129842",
         "13.61469595542389",
         "10.4963021342",
         "18.7212226846",
         "14.83210025667887",
         "74.16050128339435",
         "0.0"
        ],
        [
         "2015-01-06 00:00:00",
         "13.888023187008736",
         "16.80203690904062",
         "14.526243600129842",
         "13.61469595542389",
         "10.4963021342",
         "13.86546035716062",
         "69.3273017858031",
         "0.0"
        ]
       ],
       "shape": {
        "columns": 8,
        "rows": 5
       }
      },
      "text/html": [
       "<div>\n",
       "<style scoped>\n",
       "    .dataframe tbody tr th:only-of-type {\n",
       "        vertical-align: middle;\n",
       "    }\n",
       "\n",
       "    .dataframe tbody tr th {\n",
       "        vertical-align: top;\n",
       "    }\n",
       "\n",
       "    .dataframe thead th {\n",
       "        text-align: right;\n",
       "    }\n",
       "</style>\n",
       "<table border=\"1\" class=\"dataframe\">\n",
       "  <thead>\n",
       "    <tr style=\"text-align: right;\">\n",
       "      <th></th>\n",
       "      <th>lag_1</th>\n",
       "      <th>lag_2</th>\n",
       "      <th>lag_3</th>\n",
       "      <th>lag_4</th>\n",
       "      <th>lag_5</th>\n",
       "      <th>roll_mean_5</th>\n",
       "      <th>roll_sum_5</th>\n",
       "      <th>_level_skforecast</th>\n",
       "    </tr>\n",
       "  </thead>\n",
       "  <tbody>\n",
       "    <tr>\n",
       "      <th>2015-01-02</th>\n",
       "      <td>10.496302</td>\n",
       "      <td>18.721223</td>\n",
       "      <td>18.857026</td>\n",
       "      <td>19.611623</td>\n",
       "      <td>17.329233</td>\n",
       "      <td>17.003081</td>\n",
       "      <td>85.015406</td>\n",
       "      <td>0.0</td>\n",
       "    </tr>\n",
       "    <tr>\n",
       "      <th>2015-01-03</th>\n",
       "      <td>13.614696</td>\n",
       "      <td>10.496302</td>\n",
       "      <td>18.721223</td>\n",
       "      <td>18.857026</td>\n",
       "      <td>19.611623</td>\n",
       "      <td>16.260174</td>\n",
       "      <td>81.300869</td>\n",
       "      <td>0.0</td>\n",
       "    </tr>\n",
       "    <tr>\n",
       "      <th>2015-01-04</th>\n",
       "      <td>14.526244</td>\n",
       "      <td>13.614696</td>\n",
       "      <td>10.496302</td>\n",
       "      <td>18.721223</td>\n",
       "      <td>18.857026</td>\n",
       "      <td>15.243098</td>\n",
       "      <td>76.215490</td>\n",
       "      <td>0.0</td>\n",
       "    </tr>\n",
       "    <tr>\n",
       "      <th>2015-01-05</th>\n",
       "      <td>16.802037</td>\n",
       "      <td>14.526244</td>\n",
       "      <td>13.614696</td>\n",
       "      <td>10.496302</td>\n",
       "      <td>18.721223</td>\n",
       "      <td>14.832100</td>\n",
       "      <td>74.160501</td>\n",
       "      <td>0.0</td>\n",
       "    </tr>\n",
       "    <tr>\n",
       "      <th>2015-01-06</th>\n",
       "      <td>13.888023</td>\n",
       "      <td>16.802037</td>\n",
       "      <td>14.526244</td>\n",
       "      <td>13.614696</td>\n",
       "      <td>10.496302</td>\n",
       "      <td>13.865460</td>\n",
       "      <td>69.327302</td>\n",
       "      <td>0.0</td>\n",
       "    </tr>\n",
       "  </tbody>\n",
       "</table>\n",
       "</div>"
      ],
      "text/plain": [
       "                lag_1      lag_2      lag_3      lag_4      lag_5  \\\n",
       "2015-01-02  10.496302  18.721223  18.857026  19.611623  17.329233   \n",
       "2015-01-03  13.614696  10.496302  18.721223  18.857026  19.611623   \n",
       "2015-01-04  14.526244  13.614696  10.496302  18.721223  18.857026   \n",
       "2015-01-05  16.802037  14.526244  13.614696  10.496302  18.721223   \n",
       "2015-01-06  13.888023  16.802037  14.526244  13.614696  10.496302   \n",
       "\n",
       "            roll_mean_5  roll_sum_5  _level_skforecast  \n",
       "2015-01-02    17.003081   85.015406                0.0  \n",
       "2015-01-03    16.260174   81.300869                0.0  \n",
       "2015-01-04    15.243098   76.215490                0.0  \n",
       "2015-01-05    14.832100   74.160501                0.0  \n",
       "2015-01-06    13.865460   69.327302                0.0  "
      ]
     },
     "execution_count": 30,
     "metadata": {},
     "output_type": "execute_result"
    }
   ],
   "source": [
    "# Create input matrix for predict method\n",
    "# ==============================================================================\n",
    "X_predict_dict = forecaster.create_predict_X(steps=5, levels=None)  # All levels\n",
    "\n",
    "# Check 'item_1' matrix\n",
    "X_predict_item_1 = X_predict_dict['item_1']\n",
    "X_predict_item_1.head()"
   ]
  },
  {
   "cell_type": "code",
   "execution_count": 31,
   "metadata": {},
   "outputs": [
    {
     "data": {
      "text/plain": [
       "array([13.61469596, 14.5262436 , 16.80203691, 13.88802319, 15.13547167])"
      ]
     },
     "execution_count": 31,
     "metadata": {},
     "output_type": "execute_result"
    }
   ],
   "source": [
    "# Predict 'item_1' using the internal regressor\n",
    "# ==============================================================================\n",
    "predictions_item_1 = forecaster.regressor.predict(X_predict_item_1)\n",
    "predictions_item_1"
   ]
  },
  {
   "cell_type": "markdown",
   "metadata": {},
   "source": [
    "## ForecasterDirectMultiVariate"
   ]
  },
  {
   "cell_type": "code",
   "execution_count": 32,
   "metadata": {},
   "outputs": [
    {
     "data": {
      "application/vnd.microsoft.datawrangler.viewer.v0+json": {
       "columns": [
        {
         "name": "datetime",
         "rawType": "datetime64[ns]",
         "type": "datetime"
        },
        {
         "name": "so2",
         "rawType": "float64",
         "type": "float"
        },
        {
         "name": "co",
         "rawType": "float64",
         "type": "float"
        },
        {
         "name": "no",
         "rawType": "float64",
         "type": "float"
        },
        {
         "name": "no2",
         "rawType": "float64",
         "type": "float"
        },
        {
         "name": "pm10",
         "rawType": "float64",
         "type": "float"
        },
        {
         "name": "nox",
         "rawType": "float64",
         "type": "float"
        },
        {
         "name": "o3",
         "rawType": "float64",
         "type": "float"
        },
        {
         "name": "veloc.",
         "rawType": "float64",
         "type": "float"
        },
        {
         "name": "direc.",
         "rawType": "float64",
         "type": "float"
        },
        {
         "name": "pm2.5",
         "rawType": "float64",
         "type": "float"
        }
       ],
       "conversionMethod": "pd.DataFrame",
       "ref": "1f30a408-88c0-4337-ad0d-8cf4b96124c3",
       "rows": [
        [
         "2019-01-01 00:00:00",
         "8.0",
         "0.2",
         "3.0",
         "36.0",
         "22.0",
         "40.0",
         "16.0",
         "0.5",
         "262.0",
         "19.0"
        ],
        [
         "2019-01-01 01:00:00",
         "8.0",
         "0.1",
         "2.0",
         "40.0",
         "32.0",
         "44.0",
         "6.0",
         "0.6",
         "248.0",
         "26.0"
        ],
        [
         "2019-01-01 02:00:00",
         "8.0",
         "0.1",
         "11.0",
         "42.0",
         "36.0",
         "58.0",
         "3.0",
         "0.3",
         "224.0",
         "31.0"
        ]
       ],
       "shape": {
        "columns": 10,
        "rows": 3
       }
      },
      "text/html": [
       "<div>\n",
       "<style scoped>\n",
       "    .dataframe tbody tr th:only-of-type {\n",
       "        vertical-align: middle;\n",
       "    }\n",
       "\n",
       "    .dataframe tbody tr th {\n",
       "        vertical-align: top;\n",
       "    }\n",
       "\n",
       "    .dataframe thead th {\n",
       "        text-align: right;\n",
       "    }\n",
       "</style>\n",
       "<table border=\"1\" class=\"dataframe\">\n",
       "  <thead>\n",
       "    <tr style=\"text-align: right;\">\n",
       "      <th></th>\n",
       "      <th>so2</th>\n",
       "      <th>co</th>\n",
       "      <th>no</th>\n",
       "      <th>no2</th>\n",
       "      <th>pm10</th>\n",
       "      <th>nox</th>\n",
       "      <th>o3</th>\n",
       "      <th>veloc.</th>\n",
       "      <th>direc.</th>\n",
       "      <th>pm2.5</th>\n",
       "    </tr>\n",
       "    <tr>\n",
       "      <th>datetime</th>\n",
       "      <th></th>\n",
       "      <th></th>\n",
       "      <th></th>\n",
       "      <th></th>\n",
       "      <th></th>\n",
       "      <th></th>\n",
       "      <th></th>\n",
       "      <th></th>\n",
       "      <th></th>\n",
       "      <th></th>\n",
       "    </tr>\n",
       "  </thead>\n",
       "  <tbody>\n",
       "    <tr>\n",
       "      <th>2019-01-01 00:00:00</th>\n",
       "      <td>8.0</td>\n",
       "      <td>0.2</td>\n",
       "      <td>3.0</td>\n",
       "      <td>36.0</td>\n",
       "      <td>22.0</td>\n",
       "      <td>40.0</td>\n",
       "      <td>16.0</td>\n",
       "      <td>0.5</td>\n",
       "      <td>262.0</td>\n",
       "      <td>19.0</td>\n",
       "    </tr>\n",
       "    <tr>\n",
       "      <th>2019-01-01 01:00:00</th>\n",
       "      <td>8.0</td>\n",
       "      <td>0.1</td>\n",
       "      <td>2.0</td>\n",
       "      <td>40.0</td>\n",
       "      <td>32.0</td>\n",
       "      <td>44.0</td>\n",
       "      <td>6.0</td>\n",
       "      <td>0.6</td>\n",
       "      <td>248.0</td>\n",
       "      <td>26.0</td>\n",
       "    </tr>\n",
       "    <tr>\n",
       "      <th>2019-01-01 02:00:00</th>\n",
       "      <td>8.0</td>\n",
       "      <td>0.1</td>\n",
       "      <td>11.0</td>\n",
       "      <td>42.0</td>\n",
       "      <td>36.0</td>\n",
       "      <td>58.0</td>\n",
       "      <td>3.0</td>\n",
       "      <td>0.3</td>\n",
       "      <td>224.0</td>\n",
       "      <td>31.0</td>\n",
       "    </tr>\n",
       "  </tbody>\n",
       "</table>\n",
       "</div>"
      ],
      "text/plain": [
       "                     so2   co    no   no2  pm10   nox    o3  veloc.  direc.  \\\n",
       "datetime                                                                      \n",
       "2019-01-01 00:00:00  8.0  0.2   3.0  36.0  22.0  40.0  16.0     0.5   262.0   \n",
       "2019-01-01 01:00:00  8.0  0.1   2.0  40.0  32.0  44.0   6.0     0.6   248.0   \n",
       "2019-01-01 02:00:00  8.0  0.1  11.0  42.0  36.0  58.0   3.0     0.3   224.0   \n",
       "\n",
       "                     pm2.5  \n",
       "datetime                    \n",
       "2019-01-01 00:00:00   19.0  \n",
       "2019-01-01 01:00:00   26.0  \n",
       "2019-01-01 02:00:00   31.0  "
      ]
     },
     "metadata": {},
     "output_type": "display_data"
    },
    {
     "data": {
      "image/png": "[encoded data removed]",
      "text/plain": [
       "<Figure size 900x400 with 3 Axes>"
      ]
     },
     "metadata": {},
     "output_type": "display_data"
    }
   ],
   "source": [
    "# Data\n",
    "# ==============================================================================\n",
    "display(data_multivariate.head(3))\n",
    "\n",
    "# Plot\n",
    "# ==============================================================================\n",
    "fig, axes = plt.subplots(nrows=3, ncols=1, figsize=(9, 4), sharex=True)\n",
    "\n",
    "for i, col in enumerate(data_multivariate.columns[:3]):\n",
    "    data_multivariate[col].plot(ax=axes[i])\n",
    "    axes[i].set_xlabel('')\n",
    "    axes[i].set_ylabel('sales')\n",
    "    axes[i].set_title(col)\n",
    "\n",
    "fig.tight_layout()\n",
    "plt.show();"
   ]
  },
  {
   "cell_type": "code",
   "execution_count": 33,
   "metadata": {},
   "outputs": [
    {
     "data": {
      "text/html": [
       "\n",
       "    <style>\n",
       "        .container-611fbc76766e455192345e1c12ff7e65 {\n",
       "            font-family: 'Arial', sans-serif;\n",
       "            font-size: 0.9em;\n",
       "            color: #333333;\n",
       "            border: 1px solid #ddd;\n",
       "            background-color: #f0f8ff;\n",
       "            padding: 5px 15px;\n",
       "            border-radius: 8px;\n",
       "            max-width: 600px;\n",
       "            #margin: auto;\n",
       "        }\n",
       "        .container-611fbc76766e455192345e1c12ff7e65 h2 {\n",
       "            font-size: 1.5em;\n",
       "            color: #222222;\n",
       "            border-bottom: 2px solid #ddd;\n",
       "            padding-bottom: 5px;\n",
       "            margin-bottom: 15px;\n",
       "            margin-top: 5px;\n",
       "        }\n",
       "        .container-611fbc76766e455192345e1c12ff7e65 details {\n",
       "            margin: 10px 0;\n",
       "        }\n",
       "        .container-611fbc76766e455192345e1c12ff7e65 summary {\n",
       "            font-weight: bold;\n",
       "            font-size: 1.1em;\n",
       "            color: #000000;\n",
       "            cursor: pointer;\n",
       "            margin-bottom: 5px;\n",
       "            background-color: #b3dbfd;\n",
       "            padding: 5px;\n",
       "            border-radius: 5px;\n",
       "        }\n",
       "        .container-611fbc76766e455192345e1c12ff7e65 summary:hover {\n",
       "            color: #000000;\n",
       "            background-color: #e0e0e0;\n",
       "        }\n",
       "        .container-611fbc76766e455192345e1c12ff7e65 ul {\n",
       "            font-family: 'Courier New', monospace;\n",
       "            list-style-type: none;\n",
       "            padding-left: 20px;\n",
       "            margin: 10px 0;\n",
       "            line-height: normal;\n",
       "        }\n",
       "        .container-611fbc76766e455192345e1c12ff7e65 li {\n",
       "            margin: 5px 0;\n",
       "            font-family: 'Courier New', monospace;\n",
       "        }\n",
       "        .container-611fbc76766e455192345e1c12ff7e65 li strong {\n",
       "            font-weight: bold;\n",
       "            color: #444444;\n",
       "        }\n",
       "        .container-611fbc76766e455192345e1c12ff7e65 li::before {\n",
       "            content: \"- \";\n",
       "            color: #666666;\n",
       "        }\n",
       "        .container-611fbc76766e455192345e1c12ff7e65 a {\n",
       "            color: #001633;\n",
       "            text-decoration: none;\n",
       "        }\n",
       "        .container-611fbc76766e455192345e1c12ff7e65 a:hover {\n",
       "            color: #359ccb; \n",
       "        }\n",
       "    </style>\n",
       "    \n",
       "        <div class=\"container-611fbc76766e455192345e1c12ff7e65\">\n",
       "            <h2>ForecasterDirectMultiVariate</h2>\n",
       "            <details open>\n",
       "                <summary>General Information</summary>\n",
       "                <ul>\n",
       "                    <li><strong>Regressor:</strong> Ridge</li>\n",
       "                    <li><strong>Target series (level):</strong> co</li>\n",
       "                    <li><strong>Lags:</strong> [1 2 3]</li>\n",
       "                    <li><strong>Window features:</strong> ['roll_mean_5', 'roll_sum_5']</li>\n",
       "                    <li><strong>Window size:</strong> 5</li>\n",
       "                    <li><strong>Maximum steps to predict:</strong> 3</li>\n",
       "                    <li><strong>Exogenous included:</strong> False</li>\n",
       "                    <li><strong>Weight function included:</strong> False</li>\n",
       "                    <li><strong>Differentiation order:</strong> None</li>\n",
       "                    <li><strong>Creation date:</strong> 2025-03-07 14:14:04</li>\n",
       "                    <li><strong>Last fit date:</strong> 2025-03-07 14:14:04</li>\n",
       "                    <li><strong>Skforecast version:</strong> 0.15.0</li>\n",
       "                    <li><strong>Python version:</strong> 3.12.9</li>\n",
       "                    <li><strong>Forecaster id:</strong> None</li>\n",
       "                </ul>\n",
       "            </details>\n",
       "            <details>\n",
       "                <summary>Exogenous Variables</summary>\n",
       "                <ul>\n",
       "                    None\n",
       "                </ul>\n",
       "            </details>\n",
       "            <details>\n",
       "                <summary>Data Transformations</summary>\n",
       "                <ul>\n",
       "                    <li><strong>Transformer for series:</strong> StandardScaler()</li>\n",
       "                    <li><strong>Transformer for exog:</strong> None</li>\n",
       "                </ul>\n",
       "            </details>\n",
       "            <details>\n",
       "                <summary>Training Information</summary>\n",
       "                <ul>\n",
       "                    <li><strong>Target series (level):</strong> co</li>\n",
       "                    <li><strong>Multivariate series:</strong> so2, co, no, no2, pm10, nox, o3, veloc., direc., pm2.5</li>\n",
       "                    <li><strong>Training range:</strong> [Timestamp('2019-01-01 00:00:00'), Timestamp('2023-12-31 23:00:00')]</li>\n",
       "                    <li><strong>Training index type:</strong> DatetimeIndex</li>\n",
       "                    <li><strong>Training index frequency:</strong> h</li>\n",
       "                </ul>\n",
       "            </details>\n",
       "            <details>\n",
       "                <summary>Regressor Parameters</summary>\n",
       "                <ul>\n",
       "                    {'alpha': 1.0, 'copy_X': True, 'fit_intercept': True, 'max_iter': None, 'positive': False, 'random_state': 123, 'solver': 'auto', 'tol': 0.0001}\n",
       "                </ul>\n",
       "            </details>\n",
       "            <details>\n",
       "                <summary>Fit Kwargs</summary>\n",
       "                <ul>\n",
       "                    {}\n",
       "                </ul>\n",
       "            </details>\n",
       "            <p>\n",
       "                <a href=\"https://skforecast.org/0.15.0/api/forecasterdirectmultivariate.html\">&#128712 <strong>API Reference</strong></a>\n",
       "                &nbsp;&nbsp;\n",
       "                <a href=\"https://skforecast.org/0.15.0/user_guides/dependent-multi-series-multivariate-forecasting.html\">&#128462 <strong>User Guide</strong></a>\n",
       "            </p>\n",
       "        </div>\n",
       "        "
      ],
      "text/plain": [
       "============================ \n",
       "ForecasterDirectMultiVariate \n",
       "============================ \n",
       "Regressor: Ridge \n",
       "Target series (level): co \n",
       "Lags: [1 2 3] \n",
       "Window features: ['roll_mean_5', 'roll_sum_5'] \n",
       "Window size: 5 \n",
       "Maximum steps to predict: 3 \n",
       "Multivariate series: so2, co, no, no2, pm10, nox, o3, veloc., direc., pm2.5 \n",
       "Exogenous included: False \n",
       "Exogenous names: None \n",
       "Transformer for series: StandardScaler() \n",
       "Transformer for exog: None \n",
       "Weight function included: False \n",
       "Differentiation order: None \n",
       "Training range: [Timestamp('2019-01-01 00:00:00'), Timestamp('2023-12-31 23:00:00')] \n",
       "Training index type: DatetimeIndex \n",
       "Training index frequency: h \n",
       "Regressor parameters: \n",
       "    {'alpha': 1.0, 'copy_X': True, 'fit_intercept': True, 'max_iter': None,\n",
       "    'positive': False, 'random_state': 123, 'solver': 'auto', 'tol': 0.0001} \n",
       "fit_kwargs: {} \n",
       "Creation date: 2025-03-07 14:14:04 \n",
       "Last fit date: 2025-03-07 14:14:04 \n",
       "Skforecast version: 0.15.0 \n",
       "Python version: 3.12.9 \n",
       "Forecaster id: None "
      ]
     },
     "execution_count": 33,
     "metadata": {},
     "output_type": "execute_result"
    }
   ],
   "source": [
    "# Create and fit forecaster\n",
    "# ==============================================================================\n",
    "window_features = RollingFeatures(\n",
    "                      stats        = ['mean', 'sum'],\n",
    "                      window_sizes = [5, 5]\n",
    "                  )\n",
    "\n",
    "forecaster = ForecasterDirectMultiVariate(\n",
    "                 regressor       = Ridge(random_state=123),\n",
    "                 level           = 'co',\n",
    "                 steps           = 3,\n",
    "                 lags            = 3,\n",
    "                 window_features = window_features\n",
    "             )\n",
    "\n",
    "forecaster.fit(series=data_multivariate)\n",
    "forecaster"
   ]
  },
  {
   "cell_type": "code",
   "execution_count": 34,
   "metadata": {},
   "outputs": [
    {
     "name": "stdout",
     "output_type": "stream",
     "text": [
      "Columns : ['so2_lag_1', 'so2_lag_2', 'so2_lag_3', 'so2_roll_mean_5', 'so2_roll_sum_5', 'co_lag_1', 'co_lag_2', 'co_lag_3', 'co_roll_mean_5', 'co_roll_sum_5', 'no_lag_1', 'no_lag_2', 'no_lag_3', 'no_roll_mean_5', 'no_roll_sum_5', 'no2_lag_1', 'no2_lag_2', 'no2_lag_3', 'no2_roll_mean_5', 'no2_roll_sum_5', 'pm10_lag_1', 'pm10_lag_2', 'pm10_lag_3', 'pm10_roll_mean_5', 'pm10_roll_sum_5', 'nox_lag_1', 'nox_lag_2', 'nox_lag_3', 'nox_roll_mean_5', 'nox_roll_sum_5', 'o3_lag_1', 'o3_lag_2', 'o3_lag_3', 'o3_roll_mean_5', 'o3_roll_sum_5', 'veloc._lag_1', 'veloc._lag_2', 'veloc._lag_3', 'veloc._roll_mean_5', 'veloc._roll_sum_5', 'direc._lag_1', 'direc._lag_2', 'direc._lag_3', 'direc._roll_mean_5', 'direc._roll_sum_5', 'pm2.5_lag_1', 'pm2.5_lag_2', 'pm2.5_lag_3', 'pm2.5_roll_mean_5', 'pm2.5_roll_sum_5']\n"
     ]
    },
    {
     "data": {
      "application/vnd.microsoft.datawrangler.viewer.v0+json": {
       "columns": [
        {
         "name": "datetime",
         "rawType": "datetime64[ns]",
         "type": "datetime"
        },
        {
         "name": "so2_lag_1",
         "rawType": "float64",
         "type": "float"
        },
        {
         "name": "so2_lag_2",
         "rawType": "float64",
         "type": "float"
        },
        {
         "name": "so2_lag_3",
         "rawType": "float64",
         "type": "float"
        },
        {
         "name": "so2_roll_mean_5",
         "rawType": "float64",
         "type": "float"
        },
        {
         "name": "so2_roll_sum_5",
         "rawType": "float64",
         "type": "float"
        },
        {
         "name": "co_lag_1",
         "rawType": "float64",
         "type": "float"
        },
        {
         "name": "co_lag_2",
         "rawType": "float64",
         "type": "float"
        },
        {
         "name": "co_lag_3",
         "rawType": "float64",
         "type": "float"
        },
        {
         "name": "co_roll_mean_5",
         "rawType": "float64",
         "type": "float"
        },
        {
         "name": "co_roll_sum_5",
         "rawType": "float64",
         "type": "float"
        },
        {
         "name": "no_lag_1",
         "rawType": "float64",
         "type": "float"
        },
        {
         "name": "no_lag_2",
         "rawType": "float64",
         "type": "float"
        },
        {
         "name": "no_lag_3",
         "rawType": "float64",
         "type": "float"
        },
        {
         "name": "no_roll_mean_5",
         "rawType": "float64",
         "type": "float"
        },
        {
         "name": "no_roll_sum_5",
         "rawType": "float64",
         "type": "float"
        },
        {
         "name": "no2_lag_1",
         "rawType": "float64",
         "type": "float"
        },
        {
         "name": "no2_lag_2",
         "rawType": "float64",
         "type": "float"
        },
        {
         "name": "no2_lag_3",
         "rawType": "float64",
         "type": "float"
        },
        {
         "name": "no2_roll_mean_5",
         "rawType": "float64",
         "type": "float"
        },
        {
         "name": "no2_roll_sum_5",
         "rawType": "float64",
         "type": "float"
        },
        {
         "name": "pm10_lag_1",
         "rawType": "float64",
         "type": "float"
        },
        {
         "name": "pm10_lag_2",
         "rawType": "float64",
         "type": "float"
        },
        {
         "name": "pm10_lag_3",
         "rawType": "float64",
         "type": "float"
        },
        {
         "name": "pm10_roll_mean_5",
         "rawType": "float64",
         "type": "float"
        },
        {
         "name": "pm10_roll_sum_5",
         "rawType": "float64",
         "type": "float"
        },
        {
         "name": "nox_lag_1",
         "rawType": "float64",
         "type": "float"
        },
        {
         "name": "nox_lag_2",
         "rawType": "float64",
         "type": "float"
        },
        {
         "name": "nox_lag_3",
         "rawType": "float64",
         "type": "float"
        },
        {
         "name": "nox_roll_mean_5",
         "rawType": "float64",
         "type": "float"
        },
        {
         "name": "nox_roll_sum_5",
         "rawType": "float64",
         "type": "float"
        },
        {
         "name": "o3_lag_1",
         "rawType": "float64",
         "type": "float"
        },
        {
         "name": "o3_lag_2",
         "rawType": "float64",
         "type": "float"
        },
        {
         "name": "o3_lag_3",
         "rawType": "float64",
         "type": "float"
        },
        {
         "name": "o3_roll_mean_5",
         "rawType": "float64",
         "type": "float"
        },
        {
         "name": "o3_roll_sum_5",
         "rawType": "float64",
         "type": "float"
        },
        {
         "name": "veloc._lag_1",
         "rawType": "float64",
         "type": "float"
        },
        {
         "name": "veloc._lag_2",
         "rawType": "float64",
         "type": "float"
        },
        {
         "name": "veloc._lag_3",
         "rawType": "float64",
         "type": "float"
        },
        {
         "name": "veloc._roll_mean_5",
         "rawType": "float64",
         "type": "float"
        },
        {
         "name": "veloc._roll_sum_5",
         "rawType": "float64",
         "type": "float"
        },
        {
         "name": "direc._lag_1",
         "rawType": "float64",
         "type": "float"
        },
        {
         "name": "direc._lag_2",
         "rawType": "float64",
         "type": "float"
        },
        {
         "name": "direc._lag_3",
         "rawType": "float64",
         "type": "float"
        },
        {
         "name": "direc._roll_mean_5",
         "rawType": "float64",
         "type": "float"
        },
        {
         "name": "direc._roll_sum_5",
         "rawType": "float64",
         "type": "float"
        },
        {
         "name": "pm2.5_lag_1",
         "rawType": "float64",
         "type": "float"
        },
        {
         "name": "pm2.5_lag_2",
         "rawType": "float64",
         "type": "float"
        },
        {
         "name": "pm2.5_lag_3",
         "rawType": "float64",
         "type": "float"
        },
        {
         "name": "pm2.5_roll_mean_5",
         "rawType": "float64",
         "type": "float"
        },
        {
         "name": "pm2.5_roll_sum_5",
         "rawType": "float64",
         "type": "float"
        }
       ],
       "conversionMethod": "pd.DataFrame",
       "ref": "3af128e2-5630-4e11-b80b-422e89c32904",
       "rows": [
        [
         "2019-01-01 05:00:00",
         "5.7776930715134025",
         "4.969880369390823",
         "3.354254965145665",
         "4.162067667268244",
         "20.810338336341218",
         "-0.447960633231673",
         "-0.447960633231673",
         "-0.447960633231673",
         "-0.12516823317009815",
         "-0.6258411658504908",
         "1.0169037974798851",
         "0.9286033545970381",
         "0.5754015830656499",
         "0.4341208744530947",
         "2.1706043722654735",
         "1.5621183129506422",
         "1.6960347293671607",
         "1.76299293757542",
         "1.6022932378755979",
         "8.01146618937799",
         "1.0757396755917563",
         "1.0164577806833979",
         "1.0757396755917563",
         "0.8504684749399942",
         "4.252342374699971",
         "1.4202016646671105",
         "1.4202016646671105",
         "1.2454924487013428",
         "1.0917483386514668",
         "5.458741693257334",
         "-1.8936712946103167",
         "-1.8936712946103167",
         "-1.8936712946103167",
         "-1.7740779234313073",
         "-8.870389617156537",
         "-0.7177296319415963",
         "-0.8320874812917383",
         "-0.7749085566166672",
         "-0.7177296319415962",
         "-3.588648159707981",
         "0.5382142552626911",
         "0.5285193458337278",
         "0.5672989835495807",
         "0.6739429872681761",
         "3.3697149363408805",
         "2.493130790516847",
         "2.493130790516847",
         "2.6132906574045056",
         "2.1566831632314027",
         "10.783415816157014"
        ],
        [
         "2019-01-01 06:00:00",
         "4.969880369390823",
         "5.7776930715134025",
         "4.969880369390823",
         "4.485192748117276",
         "22.42596374058638",
         "-0.447960633231673",
         "-0.447960633231673",
         "-0.447960633231673",
         "-0.447960633231673",
         "-2.239803166158365",
         "0.6637020259484969",
         "1.0169037974798851",
         "0.9286033545970381",
         "0.5930616716422193",
         "2.9653083582110966",
         "1.6290765211589013",
         "1.5621183129506422",
         "1.6960347293671607",
         "1.6558598044422053",
         "8.279299022211026",
         "0.5422026214165305",
         "1.0757396755917563",
         "1.0164577806833979",
         "0.9097503698483529",
         "4.548751849241764",
         "1.2105506055081892",
         "1.4202016646671105",
         "1.4202016646671105",
         "1.2105506055081892",
         "6.052753027540946",
         "-1.8936712946103167",
         "-1.8936712946103167",
         "-1.8936712946103167",
         "-1.8712475375142525",
         "-9.356237687571262",
         "-0.6033717825914542",
         "-0.7177296319415963",
         "-0.8320874812917383",
         "-0.706293847006582",
         "-3.5314692350329104",
         "0.6448582589812865",
         "0.5382142552626911",
         "0.5285193458337278",
         "0.6157735306943968",
         "3.078867653471984",
         "1.7721715891908947",
         "2.493130790516847",
         "2.493130790516847",
         "2.2768430301190614",
         "11.384215150595306"
        ],
        [
         "2019-01-01 07:00:00",
         "4.969880369390823",
         "4.969880369390823",
         "5.7776930715134025",
         "4.808317828966307",
         "24.041589144831534",
         "-0.447960633231673",
         "-0.447960633231673",
         "-0.447960633231673",
         "-0.447960633231673",
         "-2.239803166158365",
         "-0.21930240287997338",
         "0.6637020259484969",
         "1.0169037974798851",
         "0.5930616716422195",
         "2.965308358211097",
         "1.294285480117605",
         "1.6290765211589013",
         "1.5621183129506422",
         "1.5889015962339457",
         "7.944507981169728",
         "-0.05061632766705358",
         "0.5422026214165305",
         "1.0757396755917563",
         "0.7319046851232776",
         "3.6595234256163875",
         "0.5117137416451175",
         "1.2105506055081892",
         "1.4202016646671105",
         "1.161632025037774",
         "5.80816012518887",
         "-1.7068066521431144",
         "-1.8936712946103167",
         "-1.8936712946103167",
         "-1.8562983661168762",
         "-9.28149183058438",
         "-0.7749085566166672",
         "-0.6033717825914542",
         "-0.7177296319415963",
         "-0.7406012018116247",
         "-3.7030060090581234",
         "0.7515022626998817",
         "0.6448582589812865",
         "0.5382142552626911",
         "0.6060786212654335",
         "3.0303931063271676",
         "0.5705729203143078",
         "1.7721715891908947",
         "2.493130790516847",
         "1.9884593495886804",
         "9.942296747943402"
        ]
       ],
       "shape": {
        "columns": 50,
        "rows": 3
       }
      },
      "text/html": [
       "<div>\n",
       "<style scoped>\n",
       "    .dataframe tbody tr th:only-of-type {\n",
       "        vertical-align: middle;\n",
       "    }\n",
       "\n",
       "    .dataframe tbody tr th {\n",
       "        vertical-align: top;\n",
       "    }\n",
       "\n",
       "    .dataframe thead th {\n",
       "        text-align: right;\n",
       "    }\n",
       "</style>\n",
       "<table border=\"1\" class=\"dataframe\">\n",
       "  <thead>\n",
       "    <tr style=\"text-align: right;\">\n",
       "      <th></th>\n",
       "      <th>so2_lag_1</th>\n",
       "      <th>so2_lag_2</th>\n",
       "      <th>so2_lag_3</th>\n",
       "      <th>so2_roll_mean_5</th>\n",
       "      <th>so2_roll_sum_5</th>\n",
       "      <th>co_lag_1</th>\n",
       "      <th>co_lag_2</th>\n",
       "      <th>co_lag_3</th>\n",
       "      <th>co_roll_mean_5</th>\n",
       "      <th>co_roll_sum_5</th>\n",
       "      <th>...</th>\n",
       "      <th>direc._lag_1</th>\n",
       "      <th>direc._lag_2</th>\n",
       "      <th>direc._lag_3</th>\n",
       "      <th>direc._roll_mean_5</th>\n",
       "      <th>direc._roll_sum_5</th>\n",
       "      <th>pm2.5_lag_1</th>\n",
       "      <th>pm2.5_lag_2</th>\n",
       "      <th>pm2.5_lag_3</th>\n",
       "      <th>pm2.5_roll_mean_5</th>\n",
       "      <th>pm2.5_roll_sum_5</th>\n",
       "    </tr>\n",
       "    <tr>\n",
       "      <th>datetime</th>\n",
       "      <th></th>\n",
       "      <th></th>\n",
       "      <th></th>\n",
       "      <th></th>\n",
       "      <th></th>\n",
       "      <th></th>\n",
       "      <th></th>\n",
       "      <th></th>\n",
       "      <th></th>\n",
       "      <th></th>\n",
       "      <th></th>\n",
       "      <th></th>\n",
       "      <th></th>\n",
       "      <th></th>\n",
       "      <th></th>\n",
       "      <th></th>\n",
       "      <th></th>\n",
       "      <th></th>\n",
       "      <th></th>\n",
       "      <th></th>\n",
       "      <th></th>\n",
       "    </tr>\n",
       "  </thead>\n",
       "  <tbody>\n",
       "    <tr>\n",
       "      <th>2019-01-01 05:00:00</th>\n",
       "      <td>5.777693</td>\n",
       "      <td>4.969880</td>\n",
       "      <td>3.354255</td>\n",
       "      <td>4.162068</td>\n",
       "      <td>20.810338</td>\n",
       "      <td>-0.447961</td>\n",
       "      <td>-0.447961</td>\n",
       "      <td>-0.447961</td>\n",
       "      <td>-0.125168</td>\n",
       "      <td>-0.625841</td>\n",
       "      <td>...</td>\n",
       "      <td>0.538214</td>\n",
       "      <td>0.528519</td>\n",
       "      <td>0.567299</td>\n",
       "      <td>0.673943</td>\n",
       "      <td>3.369715</td>\n",
       "      <td>2.493131</td>\n",
       "      <td>2.493131</td>\n",
       "      <td>2.613291</td>\n",
       "      <td>2.156683</td>\n",
       "      <td>10.783416</td>\n",
       "    </tr>\n",
       "    <tr>\n",
       "      <th>2019-01-01 06:00:00</th>\n",
       "      <td>4.969880</td>\n",
       "      <td>5.777693</td>\n",
       "      <td>4.969880</td>\n",
       "      <td>4.485193</td>\n",
       "      <td>22.425964</td>\n",
       "      <td>-0.447961</td>\n",
       "      <td>-0.447961</td>\n",
       "      <td>-0.447961</td>\n",
       "      <td>-0.447961</td>\n",
       "      <td>-2.239803</td>\n",
       "      <td>...</td>\n",
       "      <td>0.644858</td>\n",
       "      <td>0.538214</td>\n",
       "      <td>0.528519</td>\n",
       "      <td>0.615774</td>\n",
       "      <td>3.078868</td>\n",
       "      <td>1.772172</td>\n",
       "      <td>2.493131</td>\n",
       "      <td>2.493131</td>\n",
       "      <td>2.276843</td>\n",
       "      <td>11.384215</td>\n",
       "    </tr>\n",
       "    <tr>\n",
       "      <th>2019-01-01 07:00:00</th>\n",
       "      <td>4.969880</td>\n",
       "      <td>4.969880</td>\n",
       "      <td>5.777693</td>\n",
       "      <td>4.808318</td>\n",
       "      <td>24.041589</td>\n",
       "      <td>-0.447961</td>\n",
       "      <td>-0.447961</td>\n",
       "      <td>-0.447961</td>\n",
       "      <td>-0.447961</td>\n",
       "      <td>-2.239803</td>\n",
       "      <td>...</td>\n",
       "      <td>0.751502</td>\n",
       "      <td>0.644858</td>\n",
       "      <td>0.538214</td>\n",
       "      <td>0.606079</td>\n",
       "      <td>3.030393</td>\n",
       "      <td>0.570573</td>\n",
       "      <td>1.772172</td>\n",
       "      <td>2.493131</td>\n",
       "      <td>1.988459</td>\n",
       "      <td>9.942297</td>\n",
       "    </tr>\n",
       "  </tbody>\n",
       "</table>\n",
       "<p>3 rows × 50 columns</p>\n",
       "</div>"
      ],
      "text/plain": [
       "                     so2_lag_1  so2_lag_2  so2_lag_3  so2_roll_mean_5  \\\n",
       "datetime                                                                \n",
       "2019-01-01 05:00:00   5.777693   4.969880   3.354255         4.162068   \n",
       "2019-01-01 06:00:00   4.969880   5.777693   4.969880         4.485193   \n",
       "2019-01-01 07:00:00   4.969880   4.969880   5.777693         4.808318   \n",
       "\n",
       "                     so2_roll_sum_5  co_lag_1  co_lag_2  co_lag_3  \\\n",
       "datetime                                                            \n",
       "2019-01-01 05:00:00       20.810338 -0.447961 -0.447961 -0.447961   \n",
       "2019-01-01 06:00:00       22.425964 -0.447961 -0.447961 -0.447961   \n",
       "2019-01-01 07:00:00       24.041589 -0.447961 -0.447961 -0.447961   \n",
       "\n",
       "                     co_roll_mean_5  co_roll_sum_5  ...  direc._lag_1  \\\n",
       "datetime                                            ...                 \n",
       "2019-01-01 05:00:00       -0.125168      -0.625841  ...      0.538214   \n",
       "2019-01-01 06:00:00       -0.447961      -2.239803  ...      0.644858   \n",
       "2019-01-01 07:00:00       -0.447961      -2.239803  ...      0.751502   \n",
       "\n",
       "                     direc._lag_2  direc._lag_3  direc._roll_mean_5  \\\n",
       "datetime                                                              \n",
       "2019-01-01 05:00:00      0.528519      0.567299            0.673943   \n",
       "2019-01-01 06:00:00      0.538214      0.528519            0.615774   \n",
       "2019-01-01 07:00:00      0.644858      0.538214            0.606079   \n",
       "\n",
       "                     direc._roll_sum_5  pm2.5_lag_1  pm2.5_lag_2  pm2.5_lag_3  \\\n",
       "datetime                                                                        \n",
       "2019-01-01 05:00:00           3.369715     2.493131     2.493131     2.613291   \n",
       "2019-01-01 06:00:00           3.078868     1.772172     2.493131     2.493131   \n",
       "2019-01-01 07:00:00           3.030393     0.570573     1.772172     2.493131   \n",
       "\n",
       "                     pm2.5_roll_mean_5  pm2.5_roll_sum_5  \n",
       "datetime                                                  \n",
       "2019-01-01 05:00:00           2.156683         10.783416  \n",
       "2019-01-01 06:00:00           2.276843         11.384215  \n",
       "2019-01-01 07:00:00           1.988459          9.942297  \n",
       "\n",
       "[3 rows x 50 columns]"
      ]
     },
     "execution_count": 34,
     "metadata": {},
     "output_type": "execute_result"
    }
   ],
   "source": [
    "# Create the whole train matrix\n",
    "# ==============================================================================\n",
    "X_train, y_train = forecaster.create_train_X_y(series=data_multivariate)\n",
    "\n",
    "# Extract X and y for step 1\n",
    "X_train_1, y_train_1 = forecaster.filter_train_X_y_for_step(\n",
    "                           step          = 1,\n",
    "                           X_train       = X_train,\n",
    "                           y_train       = y_train,\n",
    "                           remove_suffix = False\n",
    "                       )\n",
    "\n",
    "print(\"Columns :\", list(X_train_1.columns))\n",
    "X_train_1.head(3)"
   ]
  },
  {
   "cell_type": "code",
   "execution_count": 35,
   "metadata": {},
   "outputs": [
    {
     "data": {
      "text/plain": [
       "datetime\n",
       "2019-01-01 05:00:00   -0.447961\n",
       "2019-01-01 06:00:00   -0.447961\n",
       "2019-01-01 07:00:00   -0.447961\n",
       "Freq: h, Name: co_step_1, dtype: float64"
      ]
     },
     "execution_count": 35,
     "metadata": {},
     "output_type": "execute_result"
    }
   ],
   "source": [
    "# Target variable matrix for step 1\n",
    "# ==============================================================================\n",
    "y_train_1.head(3)"
   ]
  },
  {
   "cell_type": "code",
   "execution_count": 36,
   "metadata": {},
   "outputs": [
    {
     "data": {
      "text/plain": [
       "{1: Ridge(random_state=123),\n",
       " 2: Ridge(random_state=123),\n",
       " 3: Ridge(random_state=123)}"
      ]
     },
     "execution_count": 36,
     "metadata": {},
     "output_type": "execute_result"
    }
   ],
   "source": [
    "# Internal regressors {step: regressor}\n",
    "# ==============================================================================\n",
    "forecaster.regressors_"
   ]
  },
  {
   "cell_type": "code",
   "execution_count": 37,
   "metadata": {},
   "outputs": [
    {
     "data": {
      "text/plain": [
       "array([-0.33195755, -0.41491613, -0.42473316, -0.26854783])"
      ]
     },
     "execution_count": 37,
     "metadata": {},
     "output_type": "execute_result"
    }
   ],
   "source": [
    "# Step 1 training predictions using the internal regressor\n",
    "# ==============================================================================\n",
    "predictions_training = forecaster.regressors_[1].predict(X_train_1)\n",
    "predictions_training[:4]"
   ]
  },
  {
   "cell_type": "code",
   "execution_count": 38,
   "metadata": {},
   "outputs": [
    {
     "data": {
      "text/html": [
       "<pre style=\"white-space:pre;overflow-x:auto;line-height:normal;font-family:Menlo,'DejaVu Sans Mono',consolas,'Courier New',monospace\"><span style=\"color: #ffaf00; text-decoration-color: #ffaf00\">╭───────────────────────────── DataTransformationWarning ──────────────────────────────╮</span>\n",
       "<span style=\"color: #ffaf00; text-decoration-color: #ffaf00\">│</span> The output matrix is in the transformed scale due to the inclusion of                <span style=\"color: #ffaf00; text-decoration-color: #ffaf00\">│</span>\n",
       "<span style=\"color: #ffaf00; text-decoration-color: #ffaf00\">│</span> transformations or differentiation in the Forecaster. As a result, any predictions   <span style=\"color: #ffaf00; text-decoration-color: #ffaf00\">│</span>\n",
       "<span style=\"color: #ffaf00; text-decoration-color: #ffaf00\">│</span> generated using this matrix will also be in the transformed scale. Please refer to   <span style=\"color: #ffaf00; text-decoration-color: #ffaf00\">│</span>\n",
       "<span style=\"color: #ffaf00; text-decoration-color: #ffaf00\">│</span> the documentation for more details:                                                  <span style=\"color: #ffaf00; text-decoration-color: #ffaf00\">│</span>\n",
       "<span style=\"color: #ffaf00; text-decoration-color: #ffaf00\">│</span> https://skforecast.org/latest/user_guides/training-and-prediction-matrices.html      <span style=\"color: #ffaf00; text-decoration-color: #ffaf00\">│</span>\n",
       "<span style=\"color: #ffaf00; text-decoration-color: #ffaf00\">│</span>                                                                                      <span style=\"color: #ffaf00; text-decoration-color: #ffaf00\">│</span>\n",
       "<span style=\"color: #ffaf00; text-decoration-color: #ffaf00\">│</span> Category : DataTransformationWarning                                                 <span style=\"color: #ffaf00; text-decoration-color: #ffaf00\">│</span>\n",
       "<span style=\"color: #ffaf00; text-decoration-color: #ffaf00\">│</span> Location :                                                                           <span style=\"color: #ffaf00; text-decoration-color: #ffaf00\">│</span>\n",
       "<span style=\"color: #ffaf00; text-decoration-color: #ffaf00\">│</span> /home/ubuntu/anaconda3/envs/skforecast_15_py12/lib/python3.12/site-packages/skforeca <span style=\"color: #ffaf00; text-decoration-color: #ffaf00\">│</span>\n",
       "<span style=\"color: #ffaf00; text-decoration-color: #ffaf00\">│</span> st/direct/_forecaster_direct_multivariate.py:1908                                    <span style=\"color: #ffaf00; text-decoration-color: #ffaf00\">│</span>\n",
       "<span style=\"color: #ffaf00; text-decoration-color: #ffaf00\">│</span> Suppress : warnings.simplefilter('ignore', category=DataTransformationWarning)       <span style=\"color: #ffaf00; text-decoration-color: #ffaf00\">│</span>\n",
       "<span style=\"color: #ffaf00; text-decoration-color: #ffaf00\">╰──────────────────────────────────────────────────────────────────────────────────────╯</span>\n",
       "</pre>\n"
      ],
      "text/plain": [
       "\u001b[38;5;214m╭─\u001b[0m\u001b[38;5;214m────────────────────────────\u001b[0m\u001b[38;5;214m DataTransformationWarning \u001b[0m\u001b[38;5;214m─────────────────────────────\u001b[0m\u001b[38;5;214m─╮\u001b[0m\n",
       "\u001b[38;5;214m│\u001b[0m The output matrix is in the transformed scale due to the inclusion of                \u001b[38;5;214m│\u001b[0m\n",
       "\u001b[38;5;214m│\u001b[0m transformations or differentiation in the Forecaster. As a result, any predictions   \u001b[38;5;214m│\u001b[0m\n",
       "\u001b[38;5;214m│\u001b[0m generated using this matrix will also be in the transformed scale. Please refer to   \u001b[38;5;214m│\u001b[0m\n",
       "\u001b[38;5;214m│\u001b[0m the documentation for more details:                                                  \u001b[38;5;214m│\u001b[0m\n",
       "\u001b[38;5;214m│\u001b[0m https://skforecast.org/latest/user_guides/training-and-prediction-matrices.html      \u001b[38;5;214m│\u001b[0m\n",
       "\u001b[38;5;214m│\u001b[0m                                                                                      \u001b[38;5;214m│\u001b[0m\n",
       "\u001b[38;5;214m│\u001b[0m Category : DataTransformationWarning                                                 \u001b[38;5;214m│\u001b[0m\n",
       "\u001b[38;5;214m│\u001b[0m Location :                                                                           \u001b[38;5;214m│\u001b[0m\n",
       "\u001b[38;5;214m│\u001b[0m /home/ubuntu/anaconda3/envs/skforecast_15_py12/lib/python3.12/site-packages/skforeca \u001b[38;5;214m│\u001b[0m\n",
       "\u001b[38;5;214m│\u001b[0m st/direct/_forecaster_direct_multivariate.py:1908                                    \u001b[38;5;214m│\u001b[0m\n",
       "\u001b[38;5;214m│\u001b[0m Suppress : warnings.simplefilter('ignore', category=DataTransformationWarning)       \u001b[38;5;214m│\u001b[0m\n",
       "\u001b[38;5;214m╰──────────────────────────────────────────────────────────────────────────────────────╯\u001b[0m\n"
      ]
     },
     "metadata": {},
     "output_type": "display_data"
    },
    {
     "data": {
      "application/vnd.microsoft.datawrangler.viewer.v0+json": {
       "columns": [
        {
         "name": "index",
         "rawType": "datetime64[ns]",
         "type": "datetime"
        },
        {
         "name": "so2_lag_1",
         "rawType": "float64",
         "type": "float"
        },
        {
         "name": "so2_lag_2",
         "rawType": "float64",
         "type": "float"
        },
        {
         "name": "so2_lag_3",
         "rawType": "float64",
         "type": "float"
        },
        {
         "name": "so2_roll_mean_5",
         "rawType": "float64",
         "type": "float"
        },
        {
         "name": "so2_roll_sum_5",
         "rawType": "float64",
         "type": "float"
        },
        {
         "name": "co_lag_1",
         "rawType": "float64",
         "type": "float"
        },
        {
         "name": "co_lag_2",
         "rawType": "float64",
         "type": "float"
        },
        {
         "name": "co_lag_3",
         "rawType": "float64",
         "type": "float"
        },
        {
         "name": "co_roll_mean_5",
         "rawType": "float64",
         "type": "float"
        },
        {
         "name": "co_roll_sum_5",
         "rawType": "float64",
         "type": "float"
        },
        {
         "name": "no_lag_1",
         "rawType": "float64",
         "type": "float"
        },
        {
         "name": "no_lag_2",
         "rawType": "float64",
         "type": "float"
        },
        {
         "name": "no_lag_3",
         "rawType": "float64",
         "type": "float"
        },
        {
         "name": "no_roll_mean_5",
         "rawType": "float64",
         "type": "float"
        },
        {
         "name": "no_roll_sum_5",
         "rawType": "float64",
         "type": "float"
        },
        {
         "name": "no2_lag_1",
         "rawType": "float64",
         "type": "float"
        },
        {
         "name": "no2_lag_2",
         "rawType": "float64",
         "type": "float"
        },
        {
         "name": "no2_lag_3",
         "rawType": "float64",
         "type": "float"
        },
        {
         "name": "no2_roll_mean_5",
         "rawType": "float64",
         "type": "float"
        },
        {
         "name": "no2_roll_sum_5",
         "rawType": "float64",
         "type": "float"
        },
        {
         "name": "pm10_lag_1",
         "rawType": "float64",
         "type": "float"
        },
        {
         "name": "pm10_lag_2",
         "rawType": "float64",
         "type": "float"
        },
        {
         "name": "pm10_lag_3",
         "rawType": "float64",
         "type": "float"
        },
        {
         "name": "pm10_roll_mean_5",
         "rawType": "float64",
         "type": "float"
        },
        {
         "name": "pm10_roll_sum_5",
         "rawType": "float64",
         "type": "float"
        },
        {
         "name": "nox_lag_1",
         "rawType": "float64",
         "type": "float"
        },
        {
         "name": "nox_lag_2",
         "rawType": "float64",
         "type": "float"
        },
        {
         "name": "nox_lag_3",
         "rawType": "float64",
         "type": "float"
        },
        {
         "name": "nox_roll_mean_5",
         "rawType": "float64",
         "type": "float"
        },
        {
         "name": "nox_roll_sum_5",
         "rawType": "float64",
         "type": "float"
        },
        {
         "name": "o3_lag_1",
         "rawType": "float64",
         "type": "float"
        },
        {
         "name": "o3_lag_2",
         "rawType": "float64",
         "type": "float"
        },
        {
         "name": "o3_lag_3",
         "rawType": "float64",
         "type": "float"
        },
        {
         "name": "o3_roll_mean_5",
         "rawType": "float64",
         "type": "float"
        },
        {
         "name": "o3_roll_sum_5",
         "rawType": "float64",
         "type": "float"
        },
        {
         "name": "veloc._lag_1",
         "rawType": "float64",
         "type": "float"
        },
        {
         "name": "veloc._lag_2",
         "rawType": "float64",
         "type": "float"
        },
        {
         "name": "veloc._lag_3",
         "rawType": "float64",
         "type": "float"
        },
        {
         "name": "veloc._roll_mean_5",
         "rawType": "float64",
         "type": "float"
        },
        {
         "name": "veloc._roll_sum_5",
         "rawType": "float64",
         "type": "float"
        },
        {
         "name": "direc._lag_1",
         "rawType": "float64",
         "type": "float"
        },
        {
         "name": "direc._lag_2",
         "rawType": "float64",
         "type": "float"
        },
        {
         "name": "direc._lag_3",
         "rawType": "float64",
         "type": "float"
        },
        {
         "name": "direc._roll_mean_5",
         "rawType": "float64",
         "type": "float"
        },
        {
         "name": "direc._roll_sum_5",
         "rawType": "float64",
         "type": "float"
        },
        {
         "name": "pm2.5_lag_1",
         "rawType": "float64",
         "type": "float"
        },
        {
         "name": "pm2.5_lag_2",
         "rawType": "float64",
         "type": "float"
        },
        {
         "name": "pm2.5_lag_3",
         "rawType": "float64",
         "type": "float"
        },
        {
         "name": "pm2.5_roll_mean_5",
         "rawType": "float64",
         "type": "float"
        },
        {
         "name": "pm2.5_roll_sum_5",
         "rawType": "float64",
         "type": "float"
        }
       ],
       "conversionMethod": "pd.DataFrame",
       "ref": "106f0dee-b20a-4a8a-abdc-0bfc44138db8",
       "rows": [
        [
         "2024-01-01 00:00:00",
         "-0.684808545467231",
         "-0.684808545467231",
         "-0.684808545467231",
         "-0.684808545467231",
         "-3.424042727336155",
         "-0.447960633231673",
         "-0.447960633231673",
         "-0.447960633231673",
         "-0.447960633231673",
         "-2.239803166158365",
         "0.045598925768567715",
         "0.045598925768567715",
         "-0.042701517114279317",
         "0.06325901434513712",
         "0.3162950717256856",
         "-0.24575330867235912",
         "-0.17879510046409983",
         "-0.044878684047581226",
         "-0.018095400764277507",
         "-0.09047700382138754",
         "-0.7619990665673545",
         "-0.7619990665673545",
         "-0.7619990665673545",
         "-0.7027171716589962",
         "-3.513585858294981",
         "-0.08229759263849326",
         "-0.08229759263849326",
         "-0.012413906252186113",
         "0.022527936940967462",
         "0.11263968470483732",
         "0.049720987048587566",
         "0.1244668440354685",
         "0.049720987048587566",
         "-0.03997404133566955",
         "-0.19987020667834776",
         "-0.6605507072665252",
         "-0.3174771592160991",
         "-0.08876146051581506",
         "-0.2488624496060139",
         "-1.2443122480300695",
         "0.7902819004157347",
         "0.7805869909867714",
         "0.7902819004157347",
         "0.7708920815578082",
         "3.8544604077890408",
         "-0.631025748562279",
         "-0.5108658816746203",
         "-0.631025748562279",
         "-0.4868339082970886",
         "-2.434169541485443"
        ],
        [
         "2024-01-01 01:00:00",
         "-0.684808545467231",
         "-0.684808545467231",
         "-0.684808545467231",
         "-0.684808545467231",
         "-3.424042727336155",
         "-0.447960633231673",
         "-0.447960633231673",
         "-0.447960633231673",
         "-0.447960633231673",
         "-2.239803166158365",
         "0.045598925768567715",
         "0.045598925768567715",
         "-0.042701517114279317",
         "0.06325901434513712",
         "0.3162950717256856",
         "-0.24575330867235912",
         "-0.17879510046409983",
         "-0.044878684047581226",
         "-0.018095400764277507",
         "-0.09047700382138754",
         "-0.7619990665673545",
         "-0.7619990665673545",
         "-0.7619990665673545",
         "-0.7027171716589962",
         "-3.513585858294981",
         "-0.08229759263849326",
         "-0.08229759263849326",
         "-0.012413906252186113",
         "0.022527936940967462",
         "0.11263968470483732",
         "0.049720987048587566",
         "0.1244668440354685",
         "0.049720987048587566",
         "-0.03997404133566955",
         "-0.19987020667834776",
         "-0.6605507072665252",
         "-0.3174771592160991",
         "-0.08876146051581506",
         "-0.2488624496060139",
         "-1.2443122480300695",
         "0.7902819004157347",
         "0.7805869909867714",
         "0.7902819004157347",
         "0.7708920815578082",
         "3.8544604077890408",
         "-0.631025748562279",
         "-0.5108658816746203",
         "-0.631025748562279",
         "-0.4868339082970886",
         "-2.434169541485443"
        ],
        [
         "2024-01-01 02:00:00",
         "-0.684808545467231",
         "-0.684808545467231",
         "-0.684808545467231",
         "-0.684808545467231",
         "-3.424042727336155",
         "-0.447960633231673",
         "-0.447960633231673",
         "-0.447960633231673",
         "-0.447960633231673",
         "-2.239803166158365",
         "0.045598925768567715",
         "0.045598925768567715",
         "-0.042701517114279317",
         "0.06325901434513712",
         "0.3162950717256856",
         "-0.24575330867235912",
         "-0.17879510046409983",
         "-0.044878684047581226",
         "-0.018095400764277507",
         "-0.09047700382138754",
         "-0.7619990665673545",
         "-0.7619990665673545",
         "-0.7619990665673545",
         "-0.7027171716589962",
         "-3.513585858294981",
         "-0.08229759263849326",
         "-0.08229759263849326",
         "-0.012413906252186113",
         "0.022527936940967462",
         "0.11263968470483732",
         "0.049720987048587566",
         "0.1244668440354685",
         "0.049720987048587566",
         "-0.03997404133566955",
         "-0.19987020667834776",
         "-0.6605507072665252",
         "-0.3174771592160991",
         "-0.08876146051581506",
         "-0.2488624496060139",
         "-1.2443122480300695",
         "0.7902819004157347",
         "0.7805869909867714",
         "0.7902819004157347",
         "0.7708920815578082",
         "3.8544604077890408",
         "-0.631025748562279",
         "-0.5108658816746203",
         "-0.631025748562279",
         "-0.4868339082970886",
         "-2.434169541485443"
        ]
       ],
       "shape": {
        "columns": 50,
        "rows": 3
       }
      },
      "text/html": [
       "<div>\n",
       "<style scoped>\n",
       "    .dataframe tbody tr th:only-of-type {\n",
       "        vertical-align: middle;\n",
       "    }\n",
       "\n",
       "    .dataframe tbody tr th {\n",
       "        vertical-align: top;\n",
       "    }\n",
       "\n",
       "    .dataframe thead th {\n",
       "        text-align: right;\n",
       "    }\n",
       "</style>\n",
       "<table border=\"1\" class=\"dataframe\">\n",
       "  <thead>\n",
       "    <tr style=\"text-align: right;\">\n",
       "      <th></th>\n",
       "      <th>so2_lag_1</th>\n",
       "      <th>so2_lag_2</th>\n",
       "      <th>so2_lag_3</th>\n",
       "      <th>so2_roll_mean_5</th>\n",
       "      <th>so2_roll_sum_5</th>\n",
       "      <th>co_lag_1</th>\n",
       "      <th>co_lag_2</th>\n",
       "      <th>co_lag_3</th>\n",
       "      <th>co_roll_mean_5</th>\n",
       "      <th>co_roll_sum_5</th>\n",
       "      <th>...</th>\n",
       "      <th>direc._lag_1</th>\n",
       "      <th>direc._lag_2</th>\n",
       "      <th>direc._lag_3</th>\n",
       "      <th>direc._roll_mean_5</th>\n",
       "      <th>direc._roll_sum_5</th>\n",
       "      <th>pm2.5_lag_1</th>\n",
       "      <th>pm2.5_lag_2</th>\n",
       "      <th>pm2.5_lag_3</th>\n",
       "      <th>pm2.5_roll_mean_5</th>\n",
       "      <th>pm2.5_roll_sum_5</th>\n",
       "    </tr>\n",
       "  </thead>\n",
       "  <tbody>\n",
       "    <tr>\n",
       "      <th>2024-01-01 00:00:00</th>\n",
       "      <td>-0.684809</td>\n",
       "      <td>-0.684809</td>\n",
       "      <td>-0.684809</td>\n",
       "      <td>-0.684809</td>\n",
       "      <td>-3.424043</td>\n",
       "      <td>-0.447961</td>\n",
       "      <td>-0.447961</td>\n",
       "      <td>-0.447961</td>\n",
       "      <td>-0.447961</td>\n",
       "      <td>-2.239803</td>\n",
       "      <td>...</td>\n",
       "      <td>0.790282</td>\n",
       "      <td>0.780587</td>\n",
       "      <td>0.790282</td>\n",
       "      <td>0.770892</td>\n",
       "      <td>3.85446</td>\n",
       "      <td>-0.631026</td>\n",
       "      <td>-0.510866</td>\n",
       "      <td>-0.631026</td>\n",
       "      <td>-0.486834</td>\n",
       "      <td>-2.43417</td>\n",
       "    </tr>\n",
       "    <tr>\n",
       "      <th>2024-01-01 01:00:00</th>\n",
       "      <td>-0.684809</td>\n",
       "      <td>-0.684809</td>\n",
       "      <td>-0.684809</td>\n",
       "      <td>-0.684809</td>\n",
       "      <td>-3.424043</td>\n",
       "      <td>-0.447961</td>\n",
       "      <td>-0.447961</td>\n",
       "      <td>-0.447961</td>\n",
       "      <td>-0.447961</td>\n",
       "      <td>-2.239803</td>\n",
       "      <td>...</td>\n",
       "      <td>0.790282</td>\n",
       "      <td>0.780587</td>\n",
       "      <td>0.790282</td>\n",
       "      <td>0.770892</td>\n",
       "      <td>3.85446</td>\n",
       "      <td>-0.631026</td>\n",
       "      <td>-0.510866</td>\n",
       "      <td>-0.631026</td>\n",
       "      <td>-0.486834</td>\n",
       "      <td>-2.43417</td>\n",
       "    </tr>\n",
       "    <tr>\n",
       "      <th>2024-01-01 02:00:00</th>\n",
       "      <td>-0.684809</td>\n",
       "      <td>-0.684809</td>\n",
       "      <td>-0.684809</td>\n",
       "      <td>-0.684809</td>\n",
       "      <td>-3.424043</td>\n",
       "      <td>-0.447961</td>\n",
       "      <td>-0.447961</td>\n",
       "      <td>-0.447961</td>\n",
       "      <td>-0.447961</td>\n",
       "      <td>-2.239803</td>\n",
       "      <td>...</td>\n",
       "      <td>0.790282</td>\n",
       "      <td>0.780587</td>\n",
       "      <td>0.790282</td>\n",
       "      <td>0.770892</td>\n",
       "      <td>3.85446</td>\n",
       "      <td>-0.631026</td>\n",
       "      <td>-0.510866</td>\n",
       "      <td>-0.631026</td>\n",
       "      <td>-0.486834</td>\n",
       "      <td>-2.43417</td>\n",
       "    </tr>\n",
       "  </tbody>\n",
       "</table>\n",
       "<p>3 rows × 50 columns</p>\n",
       "</div>"
      ],
      "text/plain": [
       "                     so2_lag_1  so2_lag_2  so2_lag_3  so2_roll_mean_5  \\\n",
       "2024-01-01 00:00:00  -0.684809  -0.684809  -0.684809        -0.684809   \n",
       "2024-01-01 01:00:00  -0.684809  -0.684809  -0.684809        -0.684809   \n",
       "2024-01-01 02:00:00  -0.684809  -0.684809  -0.684809        -0.684809   \n",
       "\n",
       "                     so2_roll_sum_5  co_lag_1  co_lag_2  co_lag_3  \\\n",
       "2024-01-01 00:00:00       -3.424043 -0.447961 -0.447961 -0.447961   \n",
       "2024-01-01 01:00:00       -3.424043 -0.447961 -0.447961 -0.447961   \n",
       "2024-01-01 02:00:00       -3.424043 -0.447961 -0.447961 -0.447961   \n",
       "\n",
       "                     co_roll_mean_5  co_roll_sum_5  ...  direc._lag_1  \\\n",
       "2024-01-01 00:00:00       -0.447961      -2.239803  ...      0.790282   \n",
       "2024-01-01 01:00:00       -0.447961      -2.239803  ...      0.790282   \n",
       "2024-01-01 02:00:00       -0.447961      -2.239803  ...      0.790282   \n",
       "\n",
       "                     direc._lag_2  direc._lag_3  direc._roll_mean_5  \\\n",
       "2024-01-01 00:00:00      0.780587      0.790282            0.770892   \n",
       "2024-01-01 01:00:00      0.780587      0.790282            0.770892   \n",
       "2024-01-01 02:00:00      0.780587      0.790282            0.770892   \n",
       "\n",
       "                     direc._roll_sum_5  pm2.5_lag_1  pm2.5_lag_2  pm2.5_lag_3  \\\n",
       "2024-01-01 00:00:00            3.85446    -0.631026    -0.510866    -0.631026   \n",
       "2024-01-01 01:00:00            3.85446    -0.631026    -0.510866    -0.631026   \n",
       "2024-01-01 02:00:00            3.85446    -0.631026    -0.510866    -0.631026   \n",
       "\n",
       "                     pm2.5_roll_mean_5  pm2.5_roll_sum_5  \n",
       "2024-01-01 00:00:00          -0.486834          -2.43417  \n",
       "2024-01-01 01:00:00          -0.486834          -2.43417  \n",
       "2024-01-01 02:00:00          -0.486834          -2.43417  \n",
       "\n",
       "[3 rows x 50 columns]"
      ]
     },
     "execution_count": 38,
     "metadata": {},
     "output_type": "execute_result"
    }
   ],
   "source": [
    "# Create input matrix for predict method\n",
    "# ==============================================================================\n",
    "X_predict = forecaster.create_predict_X(steps=None)  # All steps\n",
    "X_predict"
   ]
  },
  {
   "cell_type": "code",
   "execution_count": 39,
   "metadata": {},
   "outputs": [
    {
     "data": {
      "text/plain": [
       "array([-0.37588817, -0.37588817, -0.37588817])"
      ]
     },
     "execution_count": 39,
     "metadata": {},
     "output_type": "execute_result"
    }
   ],
   "source": [
    "# Step 1 predictions using the internal regressor\n",
    "# ==============================================================================\n",
    "predictions = forecaster.regressors_[1].predict(X_predict)\n",
    "predictions"
   ]
  },
  {
   "cell_type": "markdown",
   "metadata": {},
   "source": [
    "## Creating matrices when including transformations multiple series\n",
    "\n",
    "If any [data transformations](../user_guides/sklearn-transformers-and-pipeline.html) and/or [differentiation](../user_guides/time-series-differentiation.html), are applied, they will affect the output matrices. Consequently, the predictions generated in this transformed scale may require additional steps to revert back to the original data scale."
   ]
  },
  {
   "cell_type": "code",
   "execution_count": 40,
   "metadata": {},
   "outputs": [],
   "source": [
    "# Create and fit forecaster ForecasterRecursiveMultiSeries\n",
    "# ==============================================================================\n",
    "window_features = RollingFeatures(\n",
    "                      stats        = ['mean', 'sum'],\n",
    "                      window_sizes = [5, 5]\n",
    "                  )\n",
    "\n",
    "forecaster = ForecasterRecursiveMultiSeries(\n",
    "                 regressor          = LGBMRegressor(random_state=123, verbose=-1),\n",
    "                 lags               = 5,\n",
    "                 window_features    = window_features,\n",
    "                 encoding           = 'ordinal',\n",
    "                 transformer_series = StandardScaler(),\n",
    "                 differentiation    = 1\n",
    "             )\n",
    "\n",
    "forecaster.fit(series=data_multiseries)"
   ]
  },
  {
   "cell_type": "code",
   "execution_count": 41,
   "metadata": {},
   "outputs": [
    {
     "name": "stdout",
     "output_type": "stream",
     "text": [
      "Ordinal encoding mapping (_level_skforecast) : {'item_1': 0, 'item_2': 1, 'item_3': 2}\n"
     ]
    },
    {
     "data": {
      "text/plain": [
       "array([19.03003376, 19.87765376, 20.27301849, 21.50016429])"
      ]
     },
     "execution_count": 41,
     "metadata": {},
     "output_type": "execute_result"
    }
   ],
   "source": [
    "# item_1 training predictions with transformations\n",
    "# ==============================================================================\n",
    "X_train_transformed, y_train_transformed = forecaster.create_train_X_y(series=data_multiseries)\n",
    "\n",
    "# Ordinal encoding mapping \n",
    "print(\"Ordinal encoding mapping (_level_skforecast) :\", forecaster.encoding_mapping_)\n",
    "\n",
    "# Select `item_1` rows\n",
    "X_train_item_1_transformed = X_train_transformed[\n",
    "    X_train_transformed['_level_skforecast'] == forecaster.encoding_mapping_['item_1']\n",
    "]\n",
    "\n",
    "# Training predictions using the internal regressor\n",
    "predictions_item_1_transformed = forecaster.regressor.predict(X_train_item_1_transformed)\n",
    "\n",
    "# Revert differentiation (only if differentiation is not None)\n",
    "predictions_item_1_transformed = forecaster.differentiator_['item_1'].inverse_transform_training(\n",
    "    predictions_item_1_transformed\n",
    ")\n",
    "\n",
    "# Revert transformation (only if transformer_series is not None)\n",
    "predictions_item_1_training = forecaster.transformer_series_['item_1'].inverse_transform(\n",
    "    predictions_item_1_transformed.reshape(-1, 1)\n",
    ")\n",
    "predictions_item_1_training.ravel()[:4]"
   ]
  },
  {
   "cell_type": "code",
   "execution_count": 42,
   "metadata": {},
   "outputs": [
    {
     "data": {
      "text/html": [
       "<pre style=\"white-space:pre;overflow-x:auto;line-height:normal;font-family:Menlo,'DejaVu Sans Mono',consolas,'Courier New',monospace\"><span style=\"color: #ffaf00; text-decoration-color: #ffaf00\">╭───────────────────────────── DataTransformationWarning ──────────────────────────────╮</span>\n",
       "<span style=\"color: #ffaf00; text-decoration-color: #ffaf00\">│</span> The output matrix is in the transformed scale due to the inclusion of                <span style=\"color: #ffaf00; text-decoration-color: #ffaf00\">│</span>\n",
       "<span style=\"color: #ffaf00; text-decoration-color: #ffaf00\">│</span> transformations or differentiation in the Forecaster. As a result, any predictions   <span style=\"color: #ffaf00; text-decoration-color: #ffaf00\">│</span>\n",
       "<span style=\"color: #ffaf00; text-decoration-color: #ffaf00\">│</span> generated using this matrix will also be in the transformed scale. Please refer to   <span style=\"color: #ffaf00; text-decoration-color: #ffaf00\">│</span>\n",
       "<span style=\"color: #ffaf00; text-decoration-color: #ffaf00\">│</span> the documentation for more details:                                                  <span style=\"color: #ffaf00; text-decoration-color: #ffaf00\">│</span>\n",
       "<span style=\"color: #ffaf00; text-decoration-color: #ffaf00\">│</span> https://skforecast.org/latest/user_guides/training-and-prediction-matrices.html      <span style=\"color: #ffaf00; text-decoration-color: #ffaf00\">│</span>\n",
       "<span style=\"color: #ffaf00; text-decoration-color: #ffaf00\">│</span>                                                                                      <span style=\"color: #ffaf00; text-decoration-color: #ffaf00\">│</span>\n",
       "<span style=\"color: #ffaf00; text-decoration-color: #ffaf00\">│</span> Category : DataTransformationWarning                                                 <span style=\"color: #ffaf00; text-decoration-color: #ffaf00\">│</span>\n",
       "<span style=\"color: #ffaf00; text-decoration-color: #ffaf00\">│</span> Location :                                                                           <span style=\"color: #ffaf00; text-decoration-color: #ffaf00\">│</span>\n",
       "<span style=\"color: #ffaf00; text-decoration-color: #ffaf00\">│</span> /home/ubuntu/anaconda3/envs/skforecast_15_py12/lib/python3.12/site-packages/skforeca <span style=\"color: #ffaf00; text-decoration-color: #ffaf00\">│</span>\n",
       "<span style=\"color: #ffaf00; text-decoration-color: #ffaf00\">│</span> st/recursive/_forecaster_recursive_multiseries.py:2361                               <span style=\"color: #ffaf00; text-decoration-color: #ffaf00\">│</span>\n",
       "<span style=\"color: #ffaf00; text-decoration-color: #ffaf00\">│</span> Suppress : warnings.simplefilter('ignore', category=DataTransformationWarning)       <span style=\"color: #ffaf00; text-decoration-color: #ffaf00\">│</span>\n",
       "<span style=\"color: #ffaf00; text-decoration-color: #ffaf00\">╰──────────────────────────────────────────────────────────────────────────────────────╯</span>\n",
       "</pre>\n"
      ],
      "text/plain": [
       "\u001b[38;5;214m╭─\u001b[0m\u001b[38;5;214m────────────────────────────\u001b[0m\u001b[38;5;214m DataTransformationWarning \u001b[0m\u001b[38;5;214m─────────────────────────────\u001b[0m\u001b[38;5;214m─╮\u001b[0m\n",
       "\u001b[38;5;214m│\u001b[0m The output matrix is in the transformed scale due to the inclusion of                \u001b[38;5;214m│\u001b[0m\n",
       "\u001b[38;5;214m│\u001b[0m transformations or differentiation in the Forecaster. As a result, any predictions   \u001b[38;5;214m│\u001b[0m\n",
       "\u001b[38;5;214m│\u001b[0m generated using this matrix will also be in the transformed scale. Please refer to   \u001b[38;5;214m│\u001b[0m\n",
       "\u001b[38;5;214m│\u001b[0m the documentation for more details:                                                  \u001b[38;5;214m│\u001b[0m\n",
       "\u001b[38;5;214m│\u001b[0m https://skforecast.org/latest/user_guides/training-and-prediction-matrices.html      \u001b[38;5;214m│\u001b[0m\n",
       "\u001b[38;5;214m│\u001b[0m                                                                                      \u001b[38;5;214m│\u001b[0m\n",
       "\u001b[38;5;214m│\u001b[0m Category : DataTransformationWarning                                                 \u001b[38;5;214m│\u001b[0m\n",
       "\u001b[38;5;214m│\u001b[0m Location :                                                                           \u001b[38;5;214m│\u001b[0m\n",
       "\u001b[38;5;214m│\u001b[0m /home/ubuntu/anaconda3/envs/skforecast_15_py12/lib/python3.12/site-packages/skforeca \u001b[38;5;214m│\u001b[0m\n",
       "\u001b[38;5;214m│\u001b[0m st/recursive/_forecaster_recursive_multiseries.py:2361                               \u001b[38;5;214m│\u001b[0m\n",
       "\u001b[38;5;214m│\u001b[0m Suppress : warnings.simplefilter('ignore', category=DataTransformationWarning)       \u001b[38;5;214m│\u001b[0m\n",
       "\u001b[38;5;214m╰──────────────────────────────────────────────────────────────────────────────────────╯\u001b[0m\n"
      ]
     },
     "metadata": {},
     "output_type": "display_data"
    },
    {
     "data": {
      "text/plain": [
       "array([11.9118058 , 13.90669023, 14.61048366, 14.68379556])"
      ]
     },
     "execution_count": 42,
     "metadata": {},
     "output_type": "execute_result"
    }
   ],
   "source": [
    "# Predict using the internal regressor with transformation\n",
    "# ==============================================================================\n",
    "X_predict_dict_transformed = forecaster.create_predict_X(steps=5, levels=None)  # All levels\n",
    "\n",
    "# Select 'item_1' matrix\n",
    "X_predict_item_1_transformed = X_predict_dict_transformed['item_1']\n",
    "\n",
    "# Predict 'item_1' using the internal regressor\n",
    "predictions_item_1_transformed = forecaster.regressor.predict(X_predict_item_1_transformed)\n",
    "\n",
    "# Revert differentiation (only if differentiation is not None)\n",
    "predictions_item_1_transformed = forecaster.differentiator_['item_1'].inverse_transform_next_window(\n",
    "    predictions_item_1_transformed\n",
    ")\n",
    "\n",
    "# Revert transformation (only if transformer_series is not None)\n",
    "predictions_item_1 = forecaster.transformer_series_['item_1'].inverse_transform(\n",
    "    predictions_item_1_transformed.reshape(-1, 1)\n",
    ")\n",
    "predictions_item_1.ravel()[:4]"
   ]
  },
  {
   "cell_type": "markdown",
   "metadata": {},
   "source": [
    "As before, when using a <code>ForecasterDirectMultiVariate</code>, two steps are required to extract the training matrices. One to create the entire training matrix and a second to subset the data needed for each model (step)."
   ]
  },
  {
   "cell_type": "markdown",
   "metadata": {},
   "source": [
    "<div class=\"admonition note\" name=\"html-admonition\" style=\"background: rgba(255,145,0,.1); padding-top: 0px; padding-bottom: 6px; border-radius: 8px; border-left: 8px solid #ff9100; border-color: #ff9100; padding-left: 10px; padding-right: 10px\">\n",
    "\n",
    "<p class=\"title\">\n",
    "    <i style=\"font-size: 18px; color:#ff9100; border-color: #ff1744;\"></i>\n",
    "    <b style=\"color: #ff9100;\"> <span style=\"color: #ff9100;\">&#9888;</span> Warning</b>\n",
    "</p>\n",
    "\n",
    "If the <code>ForecasterDirectMultiVariate</code> includes <a href=\"../user_guides/time-series-differentiation.html\">differentiation</a>, the model in step 1 must be used if you want to reverse the differentiation of the training time series with the <code>inverse_transform_training</code> method.\n",
    "\n",
    "</div>"
   ]
  },
  {
   "cell_type": "code",
   "execution_count": 43,
   "metadata": {},
   "outputs": [],
   "source": [
    "# Create and fit forecaster\n",
    "# ==============================================================================\n",
    "window_features = RollingFeatures(\n",
    "                      stats        = ['mean', 'sum'],\n",
    "                      window_sizes = [5, 5]\n",
    "                  )\n",
    "\n",
    "forecaster = ForecasterDirectMultiVariate(\n",
    "                 regressor          = Ridge(random_state=123),\n",
    "                 level              = 'co',\n",
    "                 steps              = 3,\n",
    "                 lags               = 3,\n",
    "                 window_features    = window_features,\n",
    "                 transformer_series = StandardScaler(),\n",
    "                 differentiation    = 1\n",
    "             )\n",
    "\n",
    "forecaster.fit(series=data_multivariate)"
   ]
  },
  {
   "cell_type": "code",
   "execution_count": 44,
   "metadata": {},
   "outputs": [
    {
     "data": {
      "text/plain": [
       "array([0.09856102, 0.09112238, 0.09364988, 0.09022939])"
      ]
     },
     "execution_count": 44,
     "metadata": {},
     "output_type": "execute_result"
    }
   ],
   "source": [
    "# Training predictions with transformations\n",
    "# ==============================================================================\n",
    "X_train_transformed, y_train_transformed = forecaster.create_train_X_y(series=data_multivariate)\n",
    "\n",
    "# Extract X and y for step 1\n",
    "X_train_transformed_1, y_train_transformed_1 = forecaster.filter_train_X_y_for_step(\n",
    "                                                   step          = 1,\n",
    "                                                   X_train       = X_train_transformed,\n",
    "                                                   y_train       = y_train_transformed,\n",
    "                                                   remove_suffix = False\n",
    "                                               )\n",
    "\n",
    "# Training predictions using the internal regressor for step 1\n",
    "predictions_transformed = forecaster.regressors_[1].predict(X_train_transformed_1)\n",
    "\n",
    "# Revert differentiation (only if differentiation is not None)\n",
    "predictions_transformed = forecaster.differentiator_['co'].inverse_transform_training(\n",
    "    predictions_transformed\n",
    ")\n",
    "\n",
    "# Revert transformation (only if transformer_series is not None)\n",
    "predictions_training = forecaster.transformer_series_['co'].inverse_transform(\n",
    "    predictions_transformed.reshape(-1, 1)\n",
    ")\n",
    "predictions_training.ravel()[:4]"
   ]
  },
  {
   "cell_type": "code",
   "execution_count": 45,
   "metadata": {},
   "outputs": [
    {
     "data": {
      "text/html": [
       "<pre style=\"white-space:pre;overflow-x:auto;line-height:normal;font-family:Menlo,'DejaVu Sans Mono',consolas,'Courier New',monospace\"><span style=\"color: #ffaf00; text-decoration-color: #ffaf00\">╭───────────────────────────── DataTransformationWarning ──────────────────────────────╮</span>\n",
       "<span style=\"color: #ffaf00; text-decoration-color: #ffaf00\">│</span> The output matrix is in the transformed scale due to the inclusion of                <span style=\"color: #ffaf00; text-decoration-color: #ffaf00\">│</span>\n",
       "<span style=\"color: #ffaf00; text-decoration-color: #ffaf00\">│</span> transformations or differentiation in the Forecaster. As a result, any predictions   <span style=\"color: #ffaf00; text-decoration-color: #ffaf00\">│</span>\n",
       "<span style=\"color: #ffaf00; text-decoration-color: #ffaf00\">│</span> generated using this matrix will also be in the transformed scale. Please refer to   <span style=\"color: #ffaf00; text-decoration-color: #ffaf00\">│</span>\n",
       "<span style=\"color: #ffaf00; text-decoration-color: #ffaf00\">│</span> the documentation for more details:                                                  <span style=\"color: #ffaf00; text-decoration-color: #ffaf00\">│</span>\n",
       "<span style=\"color: #ffaf00; text-decoration-color: #ffaf00\">│</span> https://skforecast.org/latest/user_guides/training-and-prediction-matrices.html      <span style=\"color: #ffaf00; text-decoration-color: #ffaf00\">│</span>\n",
       "<span style=\"color: #ffaf00; text-decoration-color: #ffaf00\">│</span>                                                                                      <span style=\"color: #ffaf00; text-decoration-color: #ffaf00\">│</span>\n",
       "<span style=\"color: #ffaf00; text-decoration-color: #ffaf00\">│</span> Category : DataTransformationWarning                                                 <span style=\"color: #ffaf00; text-decoration-color: #ffaf00\">│</span>\n",
       "<span style=\"color: #ffaf00; text-decoration-color: #ffaf00\">│</span> Location :                                                                           <span style=\"color: #ffaf00; text-decoration-color: #ffaf00\">│</span>\n",
       "<span style=\"color: #ffaf00; text-decoration-color: #ffaf00\">│</span> /home/ubuntu/anaconda3/envs/skforecast_15_py12/lib/python3.12/site-packages/skforeca <span style=\"color: #ffaf00; text-decoration-color: #ffaf00\">│</span>\n",
       "<span style=\"color: #ffaf00; text-decoration-color: #ffaf00\">│</span> st/direct/_forecaster_direct_multivariate.py:1908                                    <span style=\"color: #ffaf00; text-decoration-color: #ffaf00\">│</span>\n",
       "<span style=\"color: #ffaf00; text-decoration-color: #ffaf00\">│</span> Suppress : warnings.simplefilter('ignore', category=DataTransformationWarning)       <span style=\"color: #ffaf00; text-decoration-color: #ffaf00\">│</span>\n",
       "<span style=\"color: #ffaf00; text-decoration-color: #ffaf00\">╰──────────────────────────────────────────────────────────────────────────────────────╯</span>\n",
       "</pre>\n"
      ],
      "text/plain": [
       "\u001b[38;5;214m╭─\u001b[0m\u001b[38;5;214m────────────────────────────\u001b[0m\u001b[38;5;214m DataTransformationWarning \u001b[0m\u001b[38;5;214m─────────────────────────────\u001b[0m\u001b[38;5;214m─╮\u001b[0m\n",
       "\u001b[38;5;214m│\u001b[0m The output matrix is in the transformed scale due to the inclusion of                \u001b[38;5;214m│\u001b[0m\n",
       "\u001b[38;5;214m│\u001b[0m transformations or differentiation in the Forecaster. As a result, any predictions   \u001b[38;5;214m│\u001b[0m\n",
       "\u001b[38;5;214m│\u001b[0m generated using this matrix will also be in the transformed scale. Please refer to   \u001b[38;5;214m│\u001b[0m\n",
       "\u001b[38;5;214m│\u001b[0m the documentation for more details:                                                  \u001b[38;5;214m│\u001b[0m\n",
       "\u001b[38;5;214m│\u001b[0m https://skforecast.org/latest/user_guides/training-and-prediction-matrices.html      \u001b[38;5;214m│\u001b[0m\n",
       "\u001b[38;5;214m│\u001b[0m                                                                                      \u001b[38;5;214m│\u001b[0m\n",
       "\u001b[38;5;214m│\u001b[0m Category : DataTransformationWarning                                                 \u001b[38;5;214m│\u001b[0m\n",
       "\u001b[38;5;214m│\u001b[0m Location :                                                                           \u001b[38;5;214m│\u001b[0m\n",
       "\u001b[38;5;214m│\u001b[0m /home/ubuntu/anaconda3/envs/skforecast_15_py12/lib/python3.12/site-packages/skforeca \u001b[38;5;214m│\u001b[0m\n",
       "\u001b[38;5;214m│\u001b[0m st/direct/_forecaster_direct_multivariate.py:1908                                    \u001b[38;5;214m│\u001b[0m\n",
       "\u001b[38;5;214m│\u001b[0m Suppress : warnings.simplefilter('ignore', category=DataTransformationWarning)       \u001b[38;5;214m│\u001b[0m\n",
       "\u001b[38;5;214m╰──────────────────────────────────────────────────────────────────────────────────────╯\u001b[0m\n"
      ]
     },
     "metadata": {},
     "output_type": "display_data"
    },
    {
     "data": {
      "text/plain": [
       "array([0.1004134 , 0.10082681, 0.10124021])"
      ]
     },
     "execution_count": 45,
     "metadata": {},
     "output_type": "execute_result"
    }
   ],
   "source": [
    "# Predict using the internal regressor with transformation\n",
    "# ==============================================================================\n",
    "X_predict_transformed = forecaster.create_predict_X(steps=None)  # All steps\n",
    "\n",
    "# Predict using the internal regressor for step 1\n",
    "predictions_transformed = forecaster.regressors_[1].predict(X_predict_transformed)\n",
    "\n",
    "# Revert differentiation (only if differentiation is not None)\n",
    "predictions_transformed = forecaster.differentiator_['co'].inverse_transform_next_window(\n",
    "    predictions_transformed\n",
    ")\n",
    "\n",
    "# Revert transformation (only if transformer_y is not None)\n",
    "predictions = forecaster.transformer_series_['co'].inverse_transform(\n",
    "    predictions_transformed.reshape(-1, 1)\n",
    ")\n",
    "predictions.ravel()[:4]"
   ]
  },
  {
   "cell_type": "markdown",
   "metadata": {},
   "source": [
    "<div class=\"admonition note\" name=\"html-admonition\" style=\"background: rgba(0,191,191,.1); padding-top: 0px; padding-bottom: 6px; border-radius: 8px; border-left: 8px solid #00bfa5; border-color: #00bfa5; padding-left: 10px; padding-right: 10px;\">\n",
    "\n",
    "<p class=\"title\">\n",
    "    <i style=\"font-size: 18px; color:#00bfa5;\"></i>\n",
    "    <b style=\"color: #00bfa5;\">&#128161 Tip</b>\n",
    "</p>\n",
    "\n",
    "To reverse the <a href=\"../user_guides/sklearn-transformers-and-pipeline.html\">data transformation</a>, you can also use one of these skforecast functions: <a href=\"../api/utils.html#skforecast.utils.utils.transform_numpy\"><code>transform_numpy</code></a>, <a href=\"../api/utils.html#skforecast.utils.utils.transform_series\"><code>transform_series</code></a>, <a href=\"../api/utils.html#skforecast.utils.utils.transform_dataframe\"><code>transform_dataframe</code></a>.\n",
    "\n",
    "```python\n",
    "from skforecast.utils import transform_numpy\n",
    "\n",
    "predictions = transform_numpy(\n",
    "                  array             = predictions_transformed,\n",
    "                  transformer       = forecaster.transformer_series_['item_1'],\n",
    "                  fit               = False,\n",
    "                  inverse_transform = True\n",
    "              )\n",
    "```\n",
    "\n",
    "</div>"
   ]
  }
 ],
 "metadata": {
  "kernelspec": {
   "display_name": "skforecast_15_py12",
   "language": "python",
   "name": "python3"
  },
  "language_info": {
   "codemirror_mode": {
    "name": "ipython",
    "version": 3
   },
   "file_extension": ".py",
   "mimetype": "text/x-python",
   "name": "python",
   "nbconvert_exporter": "python",
   "pygments_lexer": "ipython3",
   "version": "3.12.9"
  }
 },
 "nbformat": 4,
 "nbformat_minor": 2
}
