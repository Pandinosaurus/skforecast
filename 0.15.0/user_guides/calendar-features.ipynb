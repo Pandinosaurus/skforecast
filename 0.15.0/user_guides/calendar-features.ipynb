{
 "cells": [
  {
   "attachments": {},
   "cell_type": "markdown",
   "id": "c5148957",
   "metadata": {},
   "source": [
    "# Calendar features"
   ]
  },
  {
   "attachments": {},
   "cell_type": "markdown",
   "id": "6da3874d",
   "metadata": {},
   "source": [
    "Calendar features serve as key elements in time series forecasting. These features decompose date and time into basic units such as year, month, day, weekday, etc., allowing models to identify recurring patterns, understand seasonal variations, and identify trends. Calendar features can be used as [exogenous variables](../user_guides/exogenous-variables.html) because they are known for the period for which predictions are being made (the forecast horizon).\n",
    "\n",
    "**Dates and time in Pandas**\n",
    "\n",
    "Pandas provides a comprehensive set of capabilities tailored for handling time series data in various domains. Using the NumPy `datetime64` and `timedelta64` data types, Pandas combines a wide range of functionality from various Python libraries while introducing a wealth of novel tools to effectively manipulate time series data. This includes:\n",
    "\n",
    "+ Easily parse date and time data from multiple sources and formats.\n",
    "\n",
    "+ Generate sequences of fixed-frequency dates and time spans.\n",
    "\n",
    "+ Streamline the manipulation and conversion of date-time information, including time zones.\n",
    "\n",
    "+ Facilitate the resampling or conversion of time series data to specific frequencies.\n",
    "\n",
    "For an in-depth exploration of Pandas' comprehensive time series and date capabilities, please refer to this [resource](https://pandas.pydata.org/docs/user_guide/timeseries.html)."
   ]
  },
  {
   "attachments": {},
   "cell_type": "markdown",
   "id": "15dfe9dc",
   "metadata": {},
   "source": [
    "## Libraries and data"
   ]
  },
  {
   "cell_type": "code",
   "execution_count": 1,
   "id": "2c4c16c7",
   "metadata": {},
   "outputs": [],
   "source": [
    "# Libraries\n",
    "# ==============================================================================\n",
    "import pandas as pd\n",
    "import matplotlib.pyplot as plt\n",
    "from skforecast.datasets import fetch_dataset\n",
    "from feature_engine.datetime import DatetimeFeatures\n",
    "from feature_engine.creation import CyclicalFeatures"
   ]
  },
  {
   "cell_type": "code",
   "execution_count": 2,
   "id": "cc5647b4",
   "metadata": {},
   "outputs": [
    {
     "name": "stdout",
     "output_type": "stream",
     "text": [
      "bike_sharing\n",
      "------------\n",
      "Hourly usage of the bike share system in the city of Washington D.C. during the\n",
      "years 2011 and 2012. In addition to the number of users per hour, information\n",
      "about weather conditions and holidays is available.\n",
      "Fanaee-T,Hadi. (2013). Bike Sharing Dataset. UCI Machine Learning Repository.\n",
      "https://doi.org/10.24432/C5W894.\n",
      "Shape of the dataset: (17544, 12)\n"
     ]
    },
    {
     "data": {
      "application/vnd.microsoft.datawrangler.viewer.v0+json": {
       "columns": [
        {
         "name": "index",
         "rawType": "int64",
         "type": "integer"
        },
        {
         "name": "date_time",
         "rawType": "object",
         "type": "string"
        },
        {
         "name": "users",
         "rawType": "float64",
         "type": "float"
        }
       ],
       "conversionMethod": "pd.DataFrame",
       "ref": "0b43d107-8141-4f0d-8a9a-99a0c9e5aa09",
       "rows": [
        [
         "0",
         "2011-01-01 00:00:00",
         "16.0"
        ],
        [
         "1",
         "2011-01-01 01:00:00",
         "40.0"
        ],
        [
         "2",
         "2011-01-01 02:00:00",
         "32.0"
        ],
        [
         "3",
         "2011-01-01 03:00:00",
         "13.0"
        ],
        [
         "4",
         "2011-01-01 04:00:00",
         "1.0"
        ]
       ],
       "shape": {
        "columns": 2,
        "rows": 5
       }
      },
      "text/html": [
       "<div>\n",
       "<style scoped>\n",
       "    .dataframe tbody tr th:only-of-type {\n",
       "        vertical-align: middle;\n",
       "    }\n",
       "\n",
       "    .dataframe tbody tr th {\n",
       "        vertical-align: top;\n",
       "    }\n",
       "\n",
       "    .dataframe thead th {\n",
       "        text-align: right;\n",
       "    }\n",
       "</style>\n",
       "<table border=\"1\" class=\"dataframe\">\n",
       "  <thead>\n",
       "    <tr style=\"text-align: right;\">\n",
       "      <th></th>\n",
       "      <th>date_time</th>\n",
       "      <th>users</th>\n",
       "    </tr>\n",
       "  </thead>\n",
       "  <tbody>\n",
       "    <tr>\n",
       "      <th>0</th>\n",
       "      <td>2011-01-01 00:00:00</td>\n",
       "      <td>16.0</td>\n",
       "    </tr>\n",
       "    <tr>\n",
       "      <th>1</th>\n",
       "      <td>2011-01-01 01:00:00</td>\n",
       "      <td>40.0</td>\n",
       "    </tr>\n",
       "    <tr>\n",
       "      <th>2</th>\n",
       "      <td>2011-01-01 02:00:00</td>\n",
       "      <td>32.0</td>\n",
       "    </tr>\n",
       "    <tr>\n",
       "      <th>3</th>\n",
       "      <td>2011-01-01 03:00:00</td>\n",
       "      <td>13.0</td>\n",
       "    </tr>\n",
       "    <tr>\n",
       "      <th>4</th>\n",
       "      <td>2011-01-01 04:00:00</td>\n",
       "      <td>1.0</td>\n",
       "    </tr>\n",
       "  </tbody>\n",
       "</table>\n",
       "</div>"
      ],
      "text/plain": [
       "             date_time  users\n",
       "0  2011-01-01 00:00:00   16.0\n",
       "1  2011-01-01 01:00:00   40.0\n",
       "2  2011-01-01 02:00:00   32.0\n",
       "3  2011-01-01 03:00:00   13.0\n",
       "4  2011-01-01 04:00:00    1.0"
      ]
     },
     "execution_count": 2,
     "metadata": {},
     "output_type": "execute_result"
    }
   ],
   "source": [
    "# Downloading data\n",
    "# ==============================================================================\n",
    "data = fetch_dataset(name=\"bike_sharing\", raw=True)\n",
    "data = data[['date_time', 'users']]\n",
    "data.head()"
   ]
  },
  {
   "attachments": {},
   "cell_type": "markdown",
   "id": "c879c7a7",
   "metadata": {},
   "source": [
    "## Extract calendar features"
   ]
  },
  {
   "cell_type": "markdown",
   "metadata": {},
   "source": [
    "To take advantage of the date-time functionality offered by Pandas, the column of interest must be stored as `datetime`. Although not required, it is recommended to set it as an index for further integration with skforecast."
   ]
  },
  {
   "cell_type": "code",
   "execution_count": 3,
   "metadata": {},
   "outputs": [
    {
     "data": {
      "application/vnd.microsoft.datawrangler.viewer.v0+json": {
       "columns": [
        {
         "name": "date_time",
         "rawType": "datetime64[ns]",
         "type": "datetime"
        },
        {
         "name": "users",
         "rawType": "float64",
         "type": "float"
        }
       ],
       "conversionMethod": "pd.DataFrame",
       "ref": "65015c8b-6e49-41ee-b8da-9e4d46b03459",
       "rows": [
        [
         "2011-01-01 00:00:00",
         "16.0"
        ],
        [
         "2011-01-01 01:00:00",
         "40.0"
        ],
        [
         "2011-01-01 02:00:00",
         "32.0"
        ],
        [
         "2011-01-01 03:00:00",
         "13.0"
        ],
        [
         "2011-01-01 04:00:00",
         "1.0"
        ]
       ],
       "shape": {
        "columns": 1,
        "rows": 5
       }
      },
      "text/html": [
       "<div>\n",
       "<style scoped>\n",
       "    .dataframe tbody tr th:only-of-type {\n",
       "        vertical-align: middle;\n",
       "    }\n",
       "\n",
       "    .dataframe tbody tr th {\n",
       "        vertical-align: top;\n",
       "    }\n",
       "\n",
       "    .dataframe thead th {\n",
       "        text-align: right;\n",
       "    }\n",
       "</style>\n",
       "<table border=\"1\" class=\"dataframe\">\n",
       "  <thead>\n",
       "    <tr style=\"text-align: right;\">\n",
       "      <th></th>\n",
       "      <th>users</th>\n",
       "    </tr>\n",
       "    <tr>\n",
       "      <th>date_time</th>\n",
       "      <th></th>\n",
       "    </tr>\n",
       "  </thead>\n",
       "  <tbody>\n",
       "    <tr>\n",
       "      <th>2011-01-01 00:00:00</th>\n",
       "      <td>16.0</td>\n",
       "    </tr>\n",
       "    <tr>\n",
       "      <th>2011-01-01 01:00:00</th>\n",
       "      <td>40.0</td>\n",
       "    </tr>\n",
       "    <tr>\n",
       "      <th>2011-01-01 02:00:00</th>\n",
       "      <td>32.0</td>\n",
       "    </tr>\n",
       "    <tr>\n",
       "      <th>2011-01-01 03:00:00</th>\n",
       "      <td>13.0</td>\n",
       "    </tr>\n",
       "    <tr>\n",
       "      <th>2011-01-01 04:00:00</th>\n",
       "      <td>1.0</td>\n",
       "    </tr>\n",
       "  </tbody>\n",
       "</table>\n",
       "</div>"
      ],
      "text/plain": [
       "                     users\n",
       "date_time                 \n",
       "2011-01-01 00:00:00   16.0\n",
       "2011-01-01 01:00:00   40.0\n",
       "2011-01-01 02:00:00   32.0\n",
       "2011-01-01 03:00:00   13.0\n",
       "2011-01-01 04:00:00    1.0"
      ]
     },
     "execution_count": 3,
     "metadata": {},
     "output_type": "execute_result"
    }
   ],
   "source": [
    "# Preprocess data\n",
    "# ==============================================================================\n",
    "data['date_time'] = pd.to_datetime(data['date_time'], format='%Y-%m-%d %H:%M:%S')\n",
    "data = data.set_index('date_time')\n",
    "data = data.asfreq('h')\n",
    "data = data.sort_index()\n",
    "data.head()"
   ]
  },
  {
   "attachments": {},
   "cell_type": "markdown",
   "id": "42b58b7c",
   "metadata": {},
   "source": [
    "Next, several features are created from the date and time information: year, month, day of the week, and hour."
   ]
  },
  {
   "cell_type": "code",
   "execution_count": 4,
   "metadata": {},
   "outputs": [
    {
     "data": {
      "application/vnd.microsoft.datawrangler.viewer.v0+json": {
       "columns": [
        {
         "name": "date_time",
         "rawType": "datetime64[ns]",
         "type": "datetime"
        },
        {
         "name": "users",
         "rawType": "float64",
         "type": "float"
        },
        {
         "name": "year",
         "rawType": "int32",
         "type": "integer"
        },
        {
         "name": "month",
         "rawType": "int32",
         "type": "integer"
        },
        {
         "name": "day_of_week",
         "rawType": "int32",
         "type": "integer"
        },
        {
         "name": "hour",
         "rawType": "int32",
         "type": "integer"
        }
       ],
       "conversionMethod": "pd.DataFrame",
       "ref": "268fb21a-3436-4681-86c6-e391bce751ae",
       "rows": [
        [
         "2011-01-01 00:00:00",
         "16.0",
         "2011",
         "1",
         "5",
         "0"
        ],
        [
         "2011-01-01 01:00:00",
         "40.0",
         "2011",
         "1",
         "5",
         "1"
        ],
        [
         "2011-01-01 02:00:00",
         "32.0",
         "2011",
         "1",
         "5",
         "2"
        ],
        [
         "2011-01-01 03:00:00",
         "13.0",
         "2011",
         "1",
         "5",
         "3"
        ],
        [
         "2011-01-01 04:00:00",
         "1.0",
         "2011",
         "1",
         "5",
         "4"
        ]
       ],
       "shape": {
        "columns": 5,
        "rows": 5
       }
      },
      "text/html": [
       "<div>\n",
       "<style scoped>\n",
       "    .dataframe tbody tr th:only-of-type {\n",
       "        vertical-align: middle;\n",
       "    }\n",
       "\n",
       "    .dataframe tbody tr th {\n",
       "        vertical-align: top;\n",
       "    }\n",
       "\n",
       "    .dataframe thead th {\n",
       "        text-align: right;\n",
       "    }\n",
       "</style>\n",
       "<table border=\"1\" class=\"dataframe\">\n",
       "  <thead>\n",
       "    <tr style=\"text-align: right;\">\n",
       "      <th></th>\n",
       "      <th>users</th>\n",
       "      <th>year</th>\n",
       "      <th>month</th>\n",
       "      <th>day_of_week</th>\n",
       "      <th>hour</th>\n",
       "    </tr>\n",
       "    <tr>\n",
       "      <th>date_time</th>\n",
       "      <th></th>\n",
       "      <th></th>\n",
       "      <th></th>\n",
       "      <th></th>\n",
       "      <th></th>\n",
       "    </tr>\n",
       "  </thead>\n",
       "  <tbody>\n",
       "    <tr>\n",
       "      <th>2011-01-01 00:00:00</th>\n",
       "      <td>16.0</td>\n",
       "      <td>2011</td>\n",
       "      <td>1</td>\n",
       "      <td>5</td>\n",
       "      <td>0</td>\n",
       "    </tr>\n",
       "    <tr>\n",
       "      <th>2011-01-01 01:00:00</th>\n",
       "      <td>40.0</td>\n",
       "      <td>2011</td>\n",
       "      <td>1</td>\n",
       "      <td>5</td>\n",
       "      <td>1</td>\n",
       "    </tr>\n",
       "    <tr>\n",
       "      <th>2011-01-01 02:00:00</th>\n",
       "      <td>32.0</td>\n",
       "      <td>2011</td>\n",
       "      <td>1</td>\n",
       "      <td>5</td>\n",
       "      <td>2</td>\n",
       "    </tr>\n",
       "    <tr>\n",
       "      <th>2011-01-01 03:00:00</th>\n",
       "      <td>13.0</td>\n",
       "      <td>2011</td>\n",
       "      <td>1</td>\n",
       "      <td>5</td>\n",
       "      <td>3</td>\n",
       "    </tr>\n",
       "    <tr>\n",
       "      <th>2011-01-01 04:00:00</th>\n",
       "      <td>1.0</td>\n",
       "      <td>2011</td>\n",
       "      <td>1</td>\n",
       "      <td>5</td>\n",
       "      <td>4</td>\n",
       "    </tr>\n",
       "  </tbody>\n",
       "</table>\n",
       "</div>"
      ],
      "text/plain": [
       "                     users  year  month  day_of_week  hour\n",
       "date_time                                                 \n",
       "2011-01-01 00:00:00   16.0  2011      1            5     0\n",
       "2011-01-01 01:00:00   40.0  2011      1            5     1\n",
       "2011-01-01 02:00:00   32.0  2011      1            5     2\n",
       "2011-01-01 03:00:00   13.0  2011      1            5     3\n",
       "2011-01-01 04:00:00    1.0  2011      1            5     4"
      ]
     },
     "execution_count": 4,
     "metadata": {},
     "output_type": "execute_result"
    }
   ],
   "source": [
    "# Create calendar features\n",
    "# ==============================================================================\n",
    "data['year'] = data.index.year\n",
    "data['month'] = data.index.month\n",
    "data['day_of_week'] = data.index.dayofweek\n",
    "data['hour'] = data.index.hour\n",
    "data.head()"
   ]
  },
  {
   "cell_type": "markdown",
   "metadata": {},
   "source": [
    "<div class=\"admonition note\" name=\"html-admonition\" style=\"background: rgba(0,191,191,.1); padding-top: 0px; padding-bottom: 6px; border-radius: 8px; border-left: 8px solid #00bfa5; border-color: #00bfa5; padding-left: 10px; padding-right: 10px;\">\n",
    "\n",
    "<p class=\"title\">\n",
    "    <i style=\"font-size: 18px; color:#00bfa5;\"></i>\n",
    "    <b style=\"color: #00bfa5;\">&#128161 Tip</b>\n",
    "</p>\n",
    "\n",
    "Numerous calendar-related features can be generated, including day of the year, week of the year, hour of the day, and others. An easy approach to automate their extraction is to use the <code>DatetimeFeatures</code> transformer within the **Feature-engine** Python library. This class integrates seamlessly into the scikit-learn pipeline, making it compatible with skforecast as well. For a deeper understanding and detailed information, please refer to <a href=\"https://feature-engine.trainindata.com/en/latest/user_guide/datetime/DatetimeFeatures.html#datetime-features\">DatetimeFeatures</a>.\n",
    "\n",
    "</div>"
   ]
  },
  {
   "cell_type": "code",
   "execution_count": 5,
   "metadata": {},
   "outputs": [
    {
     "data": {
      "application/vnd.microsoft.datawrangler.viewer.v0+json": {
       "columns": [
        {
         "name": "date_time",
         "rawType": "datetime64[ns]",
         "type": "datetime"
        },
        {
         "name": "users",
         "rawType": "float64",
         "type": "float"
        },
        {
         "name": "year",
         "rawType": "int32",
         "type": "integer"
        },
        {
         "name": "month",
         "rawType": "int32",
         "type": "integer"
        },
        {
         "name": "day_of_week",
         "rawType": "int32",
         "type": "integer"
        },
        {
         "name": "hour",
         "rawType": "int32",
         "type": "integer"
        },
        {
         "name": "week",
         "rawType": "int64",
         "type": "integer"
        }
       ],
       "conversionMethod": "pd.DataFrame",
       "ref": "6898b645-1a70-4cb6-9176-267723807b38",
       "rows": [
        [
         "2011-01-01 00:00:00",
         "16.0",
         "2011",
         "1",
         "5",
         "0",
         "52"
        ],
        [
         "2011-01-01 01:00:00",
         "40.0",
         "2011",
         "1",
         "5",
         "1",
         "52"
        ],
        [
         "2011-01-01 02:00:00",
         "32.0",
         "2011",
         "1",
         "5",
         "2",
         "52"
        ],
        [
         "2011-01-01 03:00:00",
         "13.0",
         "2011",
         "1",
         "5",
         "3",
         "52"
        ],
        [
         "2011-01-01 04:00:00",
         "1.0",
         "2011",
         "1",
         "5",
         "4",
         "52"
        ]
       ],
       "shape": {
        "columns": 6,
        "rows": 5
       }
      },
      "text/html": [
       "<div>\n",
       "<style scoped>\n",
       "    .dataframe tbody tr th:only-of-type {\n",
       "        vertical-align: middle;\n",
       "    }\n",
       "\n",
       "    .dataframe tbody tr th {\n",
       "        vertical-align: top;\n",
       "    }\n",
       "\n",
       "    .dataframe thead th {\n",
       "        text-align: right;\n",
       "    }\n",
       "</style>\n",
       "<table border=\"1\" class=\"dataframe\">\n",
       "  <thead>\n",
       "    <tr style=\"text-align: right;\">\n",
       "      <th></th>\n",
       "      <th>users</th>\n",
       "      <th>year</th>\n",
       "      <th>month</th>\n",
       "      <th>day_of_week</th>\n",
       "      <th>hour</th>\n",
       "      <th>week</th>\n",
       "    </tr>\n",
       "    <tr>\n",
       "      <th>date_time</th>\n",
       "      <th></th>\n",
       "      <th></th>\n",
       "      <th></th>\n",
       "      <th></th>\n",
       "      <th></th>\n",
       "      <th></th>\n",
       "    </tr>\n",
       "  </thead>\n",
       "  <tbody>\n",
       "    <tr>\n",
       "      <th>2011-01-01 00:00:00</th>\n",
       "      <td>16.0</td>\n",
       "      <td>2011</td>\n",
       "      <td>1</td>\n",
       "      <td>5</td>\n",
       "      <td>0</td>\n",
       "      <td>52</td>\n",
       "    </tr>\n",
       "    <tr>\n",
       "      <th>2011-01-01 01:00:00</th>\n",
       "      <td>40.0</td>\n",
       "      <td>2011</td>\n",
       "      <td>1</td>\n",
       "      <td>5</td>\n",
       "      <td>1</td>\n",
       "      <td>52</td>\n",
       "    </tr>\n",
       "    <tr>\n",
       "      <th>2011-01-01 02:00:00</th>\n",
       "      <td>32.0</td>\n",
       "      <td>2011</td>\n",
       "      <td>1</td>\n",
       "      <td>5</td>\n",
       "      <td>2</td>\n",
       "      <td>52</td>\n",
       "    </tr>\n",
       "    <tr>\n",
       "      <th>2011-01-01 03:00:00</th>\n",
       "      <td>13.0</td>\n",
       "      <td>2011</td>\n",
       "      <td>1</td>\n",
       "      <td>5</td>\n",
       "      <td>3</td>\n",
       "      <td>52</td>\n",
       "    </tr>\n",
       "    <tr>\n",
       "      <th>2011-01-01 04:00:00</th>\n",
       "      <td>1.0</td>\n",
       "      <td>2011</td>\n",
       "      <td>1</td>\n",
       "      <td>5</td>\n",
       "      <td>4</td>\n",
       "      <td>52</td>\n",
       "    </tr>\n",
       "  </tbody>\n",
       "</table>\n",
       "</div>"
      ],
      "text/plain": [
       "                     users  year  month  day_of_week  hour  week\n",
       "date_time                                                       \n",
       "2011-01-01 00:00:00   16.0  2011      1            5     0    52\n",
       "2011-01-01 01:00:00   40.0  2011      1            5     1    52\n",
       "2011-01-01 02:00:00   32.0  2011      1            5     2    52\n",
       "2011-01-01 03:00:00   13.0  2011      1            5     3    52\n",
       "2011-01-01 04:00:00    1.0  2011      1            5     4    52"
      ]
     },
     "execution_count": 5,
     "metadata": {},
     "output_type": "execute_result"
    }
   ],
   "source": [
    "# Create calendar features with Feature-engine\n",
    "# ==============================================================================\n",
    "features_to_extract = ['month', 'week', 'day_of_week', 'hour']\n",
    "calendar_transformer = DatetimeFeatures(\n",
    "                           variables           = 'index',\n",
    "                           features_to_extract = features_to_extract,\n",
    "                           drop_original       = True,\n",
    "                       )\n",
    "\n",
    "calendar_features = calendar_transformer.fit_transform(data)\n",
    "calendar_features.head()"
   ]
  },
  {
   "cell_type": "markdown",
   "metadata": {},
   "source": [
    "## Sunlight-Related Features"
   ]
  },
  {
   "cell_type": "markdown",
   "metadata": {},
   "source": [
    "Sunlight often plays a key role in time series patterns. For example, a household's hourly electricity consumption may correlate significantly with whether it's nighttime, as more electricity is typically used for lighting during those hours. Understanding and incorporating sunlight-related characteristics into analyses can provide valuable insights into consumption patterns and behavioral trends. In addition, factors such as sunrise/sunset times, seasonal changes affecting daylight, and their influence on different data sets can provide deeper context and help predict consumption fluctuations. There are several Python libraries available for extracting sunrise and sunset times. Two of the most commonly used are `pvlib` and `astral`."
   ]
  },
  {
   "cell_type": "code",
   "execution_count": 6,
   "id": "c66d6a4a",
   "metadata": {},
   "outputs": [
    {
     "data": {
      "application/vnd.microsoft.datawrangler.viewer.v0+json": {
       "columns": [
        {
         "name": "date_time",
         "rawType": "datetime64[ns]",
         "type": "datetime"
        },
        {
         "name": "sunrise_hour",
         "rawType": "int32",
         "type": "integer"
        },
        {
         "name": "sunset_hour",
         "rawType": "int32",
         "type": "integer"
        },
        {
         "name": "daylight_hours",
         "rawType": "int32",
         "type": "integer"
        }
       ],
       "conversionMethod": "pd.DataFrame",
       "ref": "7eeb297c-5b29-4b68-8c04-625542bcc342",
       "rows": [
        [
         "2012-12-31 19:00:00",
         "8",
         "16",
         "8"
        ],
        [
         "2012-12-31 20:00:00",
         "8",
         "16",
         "8"
        ],
        [
         "2012-12-31 21:00:00",
         "8",
         "16",
         "8"
        ],
        [
         "2012-12-31 22:00:00",
         "8",
         "16",
         "8"
        ],
        [
         "2012-12-31 23:00:00",
         "8",
         "16",
         "8"
        ]
       ],
       "shape": {
        "columns": 3,
        "rows": 5
       }
      },
      "text/html": [
       "<div>\n",
       "<style scoped>\n",
       "    .dataframe tbody tr th:only-of-type {\n",
       "        vertical-align: middle;\n",
       "    }\n",
       "\n",
       "    .dataframe tbody tr th {\n",
       "        vertical-align: top;\n",
       "    }\n",
       "\n",
       "    .dataframe thead th {\n",
       "        text-align: right;\n",
       "    }\n",
       "</style>\n",
       "<table border=\"1\" class=\"dataframe\">\n",
       "  <thead>\n",
       "    <tr style=\"text-align: right;\">\n",
       "      <th></th>\n",
       "      <th>sunrise_hour</th>\n",
       "      <th>sunset_hour</th>\n",
       "      <th>daylight_hours</th>\n",
       "    </tr>\n",
       "    <tr>\n",
       "      <th>date_time</th>\n",
       "      <th></th>\n",
       "      <th></th>\n",
       "      <th></th>\n",
       "    </tr>\n",
       "  </thead>\n",
       "  <tbody>\n",
       "    <tr>\n",
       "      <th>2012-12-31 19:00:00</th>\n",
       "      <td>8</td>\n",
       "      <td>16</td>\n",
       "      <td>8</td>\n",
       "    </tr>\n",
       "    <tr>\n",
       "      <th>2012-12-31 20:00:00</th>\n",
       "      <td>8</td>\n",
       "      <td>16</td>\n",
       "      <td>8</td>\n",
       "    </tr>\n",
       "    <tr>\n",
       "      <th>2012-12-31 21:00:00</th>\n",
       "      <td>8</td>\n",
       "      <td>16</td>\n",
       "      <td>8</td>\n",
       "    </tr>\n",
       "    <tr>\n",
       "      <th>2012-12-31 22:00:00</th>\n",
       "      <td>8</td>\n",
       "      <td>16</td>\n",
       "      <td>8</td>\n",
       "    </tr>\n",
       "    <tr>\n",
       "      <th>2012-12-31 23:00:00</th>\n",
       "      <td>8</td>\n",
       "      <td>16</td>\n",
       "      <td>8</td>\n",
       "    </tr>\n",
       "  </tbody>\n",
       "</table>\n",
       "</div>"
      ],
      "text/plain": [
       "                     sunrise_hour  sunset_hour  daylight_hours\n",
       "date_time                                                     \n",
       "2012-12-31 19:00:00             8           16               8\n",
       "2012-12-31 20:00:00             8           16               8\n",
       "2012-12-31 21:00:00             8           16               8\n",
       "2012-12-31 22:00:00             8           16               8\n",
       "2012-12-31 23:00:00             8           16               8"
      ]
     },
     "execution_count": 6,
     "metadata": {},
     "output_type": "execute_result"
    }
   ],
   "source": [
    "# Features based on the sunligth\n",
    "# ==============================================================================\n",
    "from astral.sun import sun\n",
    "from astral import LocationInfo\n",
    "\n",
    "location = LocationInfo(\"Washington, D.C.\", \"USA\")\n",
    "sunrise_hour = [sun(location.observer, date=date)['sunrise'] for date in data.index]\n",
    "sunset_hour = [sun(location.observer, date=date)['sunset'] for date in data.index]\n",
    "\n",
    "# Round to the nearest hour\n",
    "sunrise_hour = pd.Series(sunrise_hour, index=data.index).dt.round(\"h\").dt.hour\n",
    "sunset_hour = pd.Series(sunset_hour, index=data.index).dt.round(\"h\").dt.hour\n",
    "\n",
    "sun_light_features = pd.DataFrame({\n",
    "                         'sunrise_hour': sunrise_hour,\n",
    "                         'sunset_hour': sunset_hour}\n",
    "                     )\n",
    "sun_light_features['daylight_hours'] = sun_light_features['sunset_hour'] - sun_light_features['sunrise_hour']\n",
    "sun_light_features.tail()"
   ]
  },
  {
   "cell_type": "markdown",
   "metadata": {},
   "source": [
    "## Cyclical encoding"
   ]
  },
  {
   "cell_type": "markdown",
   "metadata": {},
   "source": [
    "Certain aspects of the calendar, such as hours of the day or days of the week, behave in cycles. For example, the hours of a day range from 0 to 23. If interpreted as a continuous variable, the hour of 23:00 would be 23 units away from the hour of 00:00. However, this is not true because 23:00 is only one hour away from 00:00. The same is true for the months of the year, since December is only one month away from January. Using techniques such as trigonometric functions - sine and cosine transformations - makes it possible to represent cyclic patterns and avoid inconsistencies in data representation. This technique is called cyclic coding and can significantly improve the predictive power of models."
   ]
  },
  {
   "cell_type": "code",
   "execution_count": 7,
   "metadata": {},
   "outputs": [
    {
     "data": {
      "application/vnd.microsoft.datawrangler.viewer.v0+json": {
       "columns": [
        {
         "name": "date_time",
         "rawType": "datetime64[ns]",
         "type": "datetime"
        },
        {
         "name": "users",
         "rawType": "float64",
         "type": "float"
        },
        {
         "name": "year",
         "rawType": "int32",
         "type": "integer"
        },
        {
         "name": "month_sin",
         "rawType": "float64",
         "type": "float"
        },
        {
         "name": "month_cos",
         "rawType": "float64",
         "type": "float"
        },
        {
         "name": "week_sin",
         "rawType": "float64",
         "type": "float"
        },
        {
         "name": "week_cos",
         "rawType": "float64",
         "type": "float"
        },
        {
         "name": "day_of_week_sin",
         "rawType": "float64",
         "type": "float"
        },
        {
         "name": "day_of_week_cos",
         "rawType": "float64",
         "type": "float"
        },
        {
         "name": "hour_sin",
         "rawType": "float64",
         "type": "float"
        },
        {
         "name": "hour_cos",
         "rawType": "float64",
         "type": "float"
        }
       ],
       "conversionMethod": "pd.DataFrame",
       "ref": "8e433822-4ade-458c-8b57-5c8f6002f9c6",
       "rows": [
        [
         "2011-01-01 00:00:00",
         "16.0",
         "2011",
         "0.49999999999999994",
         "0.8660254037844387",
         "-2.4492935982947064e-16",
         "1.0",
         "-0.9749279121818236",
         "-0.2225209339563146",
         "0.0",
         "1.0"
        ],
        [
         "2011-01-01 01:00:00",
         "40.0",
         "2011",
         "0.49999999999999994",
         "0.8660254037844387",
         "-2.4492935982947064e-16",
         "1.0",
         "-0.9749279121818236",
         "-0.2225209339563146",
         "0.25881904510252074",
         "0.9659258262890683"
        ],
        [
         "2011-01-01 02:00:00",
         "32.0",
         "2011",
         "0.49999999999999994",
         "0.8660254037844387",
         "-2.4492935982947064e-16",
         "1.0",
         "-0.9749279121818236",
         "-0.2225209339563146",
         "0.49999999999999994",
         "0.8660254037844387"
        ]
       ],
       "shape": {
        "columns": 10,
        "rows": 3
       }
      },
      "text/html": [
       "<div>\n",
       "<style scoped>\n",
       "    .dataframe tbody tr th:only-of-type {\n",
       "        vertical-align: middle;\n",
       "    }\n",
       "\n",
       "    .dataframe tbody tr th {\n",
       "        vertical-align: top;\n",
       "    }\n",
       "\n",
       "    .dataframe thead th {\n",
       "        text-align: right;\n",
       "    }\n",
       "</style>\n",
       "<table border=\"1\" class=\"dataframe\">\n",
       "  <thead>\n",
       "    <tr style=\"text-align: right;\">\n",
       "      <th></th>\n",
       "      <th>users</th>\n",
       "      <th>year</th>\n",
       "      <th>month_sin</th>\n",
       "      <th>month_cos</th>\n",
       "      <th>week_sin</th>\n",
       "      <th>week_cos</th>\n",
       "      <th>day_of_week_sin</th>\n",
       "      <th>day_of_week_cos</th>\n",
       "      <th>hour_sin</th>\n",
       "      <th>hour_cos</th>\n",
       "    </tr>\n",
       "    <tr>\n",
       "      <th>date_time</th>\n",
       "      <th></th>\n",
       "      <th></th>\n",
       "      <th></th>\n",
       "      <th></th>\n",
       "      <th></th>\n",
       "      <th></th>\n",
       "      <th></th>\n",
       "      <th></th>\n",
       "      <th></th>\n",
       "      <th></th>\n",
       "    </tr>\n",
       "  </thead>\n",
       "  <tbody>\n",
       "    <tr>\n",
       "      <th>2011-01-01 00:00:00</th>\n",
       "      <td>16.0</td>\n",
       "      <td>2011</td>\n",
       "      <td>0.5</td>\n",
       "      <td>0.866025</td>\n",
       "      <td>-2.449294e-16</td>\n",
       "      <td>1.0</td>\n",
       "      <td>-0.974928</td>\n",
       "      <td>-0.222521</td>\n",
       "      <td>0.000000</td>\n",
       "      <td>1.000000</td>\n",
       "    </tr>\n",
       "    <tr>\n",
       "      <th>2011-01-01 01:00:00</th>\n",
       "      <td>40.0</td>\n",
       "      <td>2011</td>\n",
       "      <td>0.5</td>\n",
       "      <td>0.866025</td>\n",
       "      <td>-2.449294e-16</td>\n",
       "      <td>1.0</td>\n",
       "      <td>-0.974928</td>\n",
       "      <td>-0.222521</td>\n",
       "      <td>0.258819</td>\n",
       "      <td>0.965926</td>\n",
       "    </tr>\n",
       "    <tr>\n",
       "      <th>2011-01-01 02:00:00</th>\n",
       "      <td>32.0</td>\n",
       "      <td>2011</td>\n",
       "      <td>0.5</td>\n",
       "      <td>0.866025</td>\n",
       "      <td>-2.449294e-16</td>\n",
       "      <td>1.0</td>\n",
       "      <td>-0.974928</td>\n",
       "      <td>-0.222521</td>\n",
       "      <td>0.500000</td>\n",
       "      <td>0.866025</td>\n",
       "    </tr>\n",
       "  </tbody>\n",
       "</table>\n",
       "</div>"
      ],
      "text/plain": [
       "                     users  year  month_sin  month_cos      week_sin  \\\n",
       "date_time                                                              \n",
       "2011-01-01 00:00:00   16.0  2011        0.5   0.866025 -2.449294e-16   \n",
       "2011-01-01 01:00:00   40.0  2011        0.5   0.866025 -2.449294e-16   \n",
       "2011-01-01 02:00:00   32.0  2011        0.5   0.866025 -2.449294e-16   \n",
       "\n",
       "                     week_cos  day_of_week_sin  day_of_week_cos  hour_sin  \\\n",
       "date_time                                                                   \n",
       "2011-01-01 00:00:00       1.0        -0.974928        -0.222521  0.000000   \n",
       "2011-01-01 01:00:00       1.0        -0.974928        -0.222521  0.258819   \n",
       "2011-01-01 02:00:00       1.0        -0.974928        -0.222521  0.500000   \n",
       "\n",
       "                     hour_cos  \n",
       "date_time                      \n",
       "2011-01-01 00:00:00  1.000000  \n",
       "2011-01-01 01:00:00  0.965926  \n",
       "2011-01-01 02:00:00  0.866025  "
      ]
     },
     "execution_count": 7,
     "metadata": {},
     "output_type": "execute_result"
    }
   ],
   "source": [
    "# Cyclical encoding\n",
    "# ==============================================================================\n",
    "features_to_encode = [\n",
    "    \"month\",\n",
    "    \"week\",\n",
    "    \"day_of_week\",\n",
    "    \"hour\",\n",
    "]\n",
    "max_values = {\n",
    "    \"month\": 12,\n",
    "    \"week\": 52,\n",
    "    \"day_of_week\": 7,\n",
    "    \"hour\": 24,\n",
    "}\n",
    "cyclical_encoder = CyclicalFeatures(\n",
    "    variables     = features_to_encode,\n",
    "    max_values    = max_values,\n",
    "    drop_original = True\n",
    ")\n",
    "\n",
    "cyclical_features = cyclical_encoder.fit_transform(calendar_features)\n",
    "cyclical_features.head(3)"
   ]
  },
  {
   "cell_type": "code",
   "execution_count": 8,
   "id": "bb6bf4d2",
   "metadata": {},
   "outputs": [
    {
     "data": {
      "image/png": "[encoded data removed]",
      "text/plain": [
       "<Figure size 350x300 with 2 Axes>"
      ]
     },
     "metadata": {},
     "output_type": "display_data"
    }
   ],
   "source": [
    "# Plot value of sin and cos for each day_of_week\n",
    "# ==============================================================================\n",
    "fig, ax = plt.subplots(figsize=(3.5, 3))\n",
    "sp = ax.scatter(\n",
    "         cyclical_features[\"day_of_week_sin\"],\n",
    "         cyclical_features[\"day_of_week_cos\"],\n",
    "         c    = calendar_features['day_of_week'],\n",
    "         cmap = 'viridis'\n",
    "     )\n",
    "ax.set(\n",
    "    xlabel=\"sin(day_of_week)\",\n",
    "    ylabel=\"cos(day_of_week)\",\n",
    ")\n",
    "_ = fig.colorbar(sp)\n",
    "plt.show();"
   ]
  },
  {
   "cell_type": "code",
   "execution_count": 9,
   "metadata": {},
   "outputs": [
    {
     "data": {
      "image/png": "[encoded data removed]",
      "text/plain": [
       "<Figure size 350x300 with 2 Axes>"
      ]
     },
     "metadata": {},
     "output_type": "display_data"
    }
   ],
   "source": [
    "# Plot value of sin and cos for each hour\n",
    "# ==============================================================================\n",
    "fig, ax = plt.subplots(figsize=(3.5, 3))\n",
    "sp = ax.scatter(\n",
    "         cyclical_features[\"hour_sin\"],\n",
    "         cyclical_features[\"hour_cos\"],\n",
    "         c    = calendar_features['hour'],\n",
    "         cmap = 'viridis'\n",
    "     )\n",
    "ax.set(\n",
    "    xlabel=\"sin(hour)\",\n",
    "    ylabel=\"cos(hour)\",\n",
    ")\n",
    "_ = fig.colorbar(sp)\n",
    "plt.show();"
   ]
  },
  {
   "cell_type": "markdown",
   "metadata": {},
   "source": [
    "<div class=\"admonition note\" name=\"html-admonition\" style=\"background: rgba(0,184,212,.1); padding-top: 0px; padding-bottom: 6px; border-radius: 8px; border-left: 8px solid #00b8d4; border-color: #00b8d4; padding-left: 10px; padding-right: 10px;\">\n",
    "\n",
    "<p class=\"title\">\n",
    "    <i style=\"font-size: 18px; color:#00b8d4;\"></i>\n",
    "    <b style=\"color: #00b8d4;\">&#9998 Note</b>\n",
    "</p>\n",
    "\n",
    "See <a href=\"../faq/cyclical-features-time-series.html\" target=\"_blank\">Cyclical features in time series forecasting</a> for a more detailed description of strategies for encoding cyclic features.\n",
    "\n",
    "</div>"
   ]
  }
 ],
 "metadata": {
  "kernelspec": {
   "display_name": "skforecast_15_p12",
   "language": "python",
   "name": "python3"
  },
  "language_info": {
   "codemirror_mode": {
    "name": "ipython",
    "version": 3
   },
   "file_extension": ".py",
   "mimetype": "text/x-python",
   "name": "python",
   "nbconvert_exporter": "python",
   "pygments_lexer": "ipython3",
   "version": "3.12.9"
  }
 },
 "nbformat": 4,
 "nbformat_minor": 5
}
