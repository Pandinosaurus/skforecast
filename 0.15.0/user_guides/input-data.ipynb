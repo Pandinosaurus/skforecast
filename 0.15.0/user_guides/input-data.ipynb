{
 "cells": [
  {
   "attachments": {},
   "cell_type": "markdown",
   "metadata": {},
   "source": [
    "# Input data "
   ]
  },
  {
   "attachments": {},
   "cell_type": "markdown",
   "metadata": {},
   "source": [
    "Skforecast only allows pandas series and dataframes as input (although numpy arrays are used internally for better performance). The type of pandas index is used to determine how the data is processed:\n",
    "\n",
    "+ If the index is not of type DatetimeIndex, a RangeIndex is created.\n",
    "\n",
    "+ If the index is of type DatetimeIndex but has no frequency, a RangeIndex is created.\n",
    "\n",
    "+ If the index is of type DatetimeIndex and has a frequency, it remains unchanged."
   ]
  },
  {
   "attachments": {},
   "cell_type": "markdown",
   "metadata": {},
   "source": [
    "<div class=\"admonition note\" name=\"html-admonition\" style=\"background: rgba(0,184,212,.1); padding-top: 0px; padding-bottom: 6px; border-radius: 8px; border-left: 8px solid #00b8d4; border-color: #00b8d4; padding-left: 10px; padding-right: 10px;\">\n",
    "\n",
    "<p class=\"title\">\n",
    "    <i style=\"font-size: 18px; color:#00b8d4;\"></i>\n",
    "    <b style=\"color: #00b8d4;\">&#9998 Note</b>\n",
    "</p>\n",
    "\n",
    "\n",
    "Although it is possible to use data without an associated date/time index, when using a pandas series with an associated frequency prediction results will have a more useful index.\n",
    "\n",
    "</div>"
   ]
  },
  {
   "attachments": {},
   "cell_type": "markdown",
   "metadata": {},
   "source": [
    "## Libraries and data"
   ]
  },
  {
   "cell_type": "code",
   "execution_count": 1,
   "metadata": {},
   "outputs": [],
   "source": [
    "# Libraries\n",
    "# ==============================================================================\n",
    "import pandas as pd\n",
    "from lightgbm import LGBMRegressor\n",
    "from skforecast.datasets import fetch_dataset\n",
    "from skforecast.recursive import ForecasterRecursive"
   ]
  },
  {
   "cell_type": "code",
   "execution_count": 2,
   "metadata": {},
   "outputs": [
    {
     "name": "stdout",
     "output_type": "stream",
     "text": [
      "h2o\n",
      "---\n",
      "Monthly expenditure ($AUD) on corticosteroid drugs that the Australian health\n",
      "system had between 1991 and 2008.\n",
      "Hyndman R (2023). fpp3: Data for Forecasting: Principles and Practice(3rd\n",
      "Edition). http://pkg.robjhyndman.com/fpp3package/,https://github.com/robjhyndman\n",
      "/fpp3package, http://OTexts.com/fpp3.\n",
      "Shape of the dataset: (204, 2)\n"
     ]
    },
    {
     "data": {
      "application/vnd.microsoft.datawrangler.viewer.v0+json": {
       "columns": [
        {
         "name": "date",
         "rawType": "datetime64[ns]",
         "type": "datetime"
        },
        {
         "name": "y",
         "rawType": "float64",
         "type": "float"
        }
       ],
       "conversionMethod": "pd.DataFrame",
       "ref": "8e545dc0-e275-4547-880f-b9809d92f927",
       "rows": [
        [
         "1991-07-01 00:00:00",
         "0.429795"
        ],
        [
         "1991-08-01 00:00:00",
         "0.400906"
        ],
        [
         "1991-09-01 00:00:00",
         "0.432159"
        ],
        [
         "1991-10-01 00:00:00",
         "0.492543"
        ],
        [
         "1991-11-01 00:00:00",
         "0.502369"
        ],
        [
         "1991-12-01 00:00:00",
         "0.602652"
        ],
        [
         "1992-01-01 00:00:00",
         "0.660119"
        ],
        [
         "1992-02-01 00:00:00",
         "0.33622"
        ],
        [
         "1992-03-01 00:00:00",
         "0.351348"
        ],
        [
         "1992-04-01 00:00:00",
         "0.379808"
        ],
        [
         "1992-05-01 00:00:00",
         "0.361801"
        ],
        [
         "1992-06-01 00:00:00",
         "0.410534"
        ],
        [
         "1992-07-01 00:00:00",
         "0.48338867"
        ],
        [
         "1992-08-01 00:00:00",
         "0.47546342"
        ],
        [
         "1992-09-01 00:00:00",
         "0.53476104"
        ],
        [
         "1992-10-01 00:00:00",
         "0.56860613"
        ],
        [
         "1992-11-01 00:00:00",
         "0.59522329"
        ],
        [
         "1992-12-01 00:00:00",
         "0.77125778"
        ],
        [
         "1993-01-01 00:00:00",
         "0.7515028"
        ],
        [
         "1993-02-01 00:00:00",
         "0.38755434"
        ],
        [
         "1993-03-01 00:00:00",
         "0.42728322"
        ],
        [
         "1993-04-01 00:00:00",
         "0.41389018"
        ],
        [
         "1993-05-01 00:00:00",
         "0.42885882"
        ],
        [
         "1993-06-01 00:00:00",
         "0.47012642"
        ],
        [
         "1993-07-01 00:00:00",
         "0.50920969"
        ],
        [
         "1993-08-01 00:00:00",
         "0.558443"
        ],
        [
         "1993-09-01 00:00:00",
         "0.60151406"
        ],
        [
         "1993-10-01 00:00:00",
         "0.6329471"
        ],
        [
         "1993-11-01 00:00:00",
         "0.69960539"
        ],
        [
         "1993-12-01 00:00:00",
         "0.96308051"
        ],
        [
         "1994-01-01 00:00:00",
         "0.81932534"
        ],
        [
         "1994-02-01 00:00:00",
         "0.4376698"
        ],
        [
         "1994-03-01 00:00:00",
         "0.50612127"
        ],
        [
         "1994-04-01 00:00:00",
         "0.47049117"
        ],
        [
         "1994-05-01 00:00:00",
         "0.51069626"
        ],
        [
         "1994-06-01 00:00:00",
         "0.54051379"
        ],
        [
         "1994-07-01 00:00:00",
         "0.55811892"
        ],
        [
         "1994-08-01 00:00:00",
         "0.67285206"
        ],
        [
         "1994-09-01 00:00:00",
         "0.68589738"
        ],
        [
         "1994-10-01 00:00:00",
         "0.68969198"
        ],
        [
         "1994-11-01 00:00:00",
         "0.74130358"
        ],
        [
         "1994-12-01 00:00:00",
         "0.81330763"
        ],
        [
         "1995-01-01 00:00:00",
         "0.80311257"
        ],
        [
         "1995-02-01 00:00:00",
         "0.47525824"
        ],
        [
         "1995-03-01 00:00:00",
         "0.5525723"
        ],
        [
         "1995-04-01 00:00:00",
         "0.52710782"
        ],
        [
         "1995-05-01 00:00:00",
         "0.56124982"
        ],
        [
         "1995-06-01 00:00:00",
         "0.58897764"
        ],
        [
         "1995-07-01 00:00:00",
         "0.62313362"
        ],
        [
         "1995-08-01 00:00:00",
         "0.74083723"
        ]
       ],
       "shape": {
        "columns": 1,
        "rows": 204
       }
      },
      "text/html": [
       "<div>\n",
       "<style scoped>\n",
       "    .dataframe tbody tr th:only-of-type {\n",
       "        vertical-align: middle;\n",
       "    }\n",
       "\n",
       "    .dataframe tbody tr th {\n",
       "        vertical-align: top;\n",
       "    }\n",
       "\n",
       "    .dataframe thead th {\n",
       "        text-align: right;\n",
       "    }\n",
       "</style>\n",
       "<table border=\"1\" class=\"dataframe\">\n",
       "  <thead>\n",
       "    <tr style=\"text-align: right;\">\n",
       "      <th></th>\n",
       "      <th>y</th>\n",
       "    </tr>\n",
       "    <tr>\n",
       "      <th>date</th>\n",
       "      <th></th>\n",
       "    </tr>\n",
       "  </thead>\n",
       "  <tbody>\n",
       "    <tr>\n",
       "      <th>1991-07-01</th>\n",
       "      <td>0.429795</td>\n",
       "    </tr>\n",
       "    <tr>\n",
       "      <th>1991-08-01</th>\n",
       "      <td>0.400906</td>\n",
       "    </tr>\n",
       "    <tr>\n",
       "      <th>1991-09-01</th>\n",
       "      <td>0.432159</td>\n",
       "    </tr>\n",
       "    <tr>\n",
       "      <th>1991-10-01</th>\n",
       "      <td>0.492543</td>\n",
       "    </tr>\n",
       "    <tr>\n",
       "      <th>1991-11-01</th>\n",
       "      <td>0.502369</td>\n",
       "    </tr>\n",
       "    <tr>\n",
       "      <th>...</th>\n",
       "      <td>...</td>\n",
       "    </tr>\n",
       "    <tr>\n",
       "      <th>2008-02-01</th>\n",
       "      <td>0.761822</td>\n",
       "    </tr>\n",
       "    <tr>\n",
       "      <th>2008-03-01</th>\n",
       "      <td>0.649435</td>\n",
       "    </tr>\n",
       "    <tr>\n",
       "      <th>2008-04-01</th>\n",
       "      <td>0.827887</td>\n",
       "    </tr>\n",
       "    <tr>\n",
       "      <th>2008-05-01</th>\n",
       "      <td>0.816255</td>\n",
       "    </tr>\n",
       "    <tr>\n",
       "      <th>2008-06-01</th>\n",
       "      <td>0.762137</td>\n",
       "    </tr>\n",
       "  </tbody>\n",
       "</table>\n",
       "<p>204 rows × 1 columns</p>\n",
       "</div>"
      ],
      "text/plain": [
       "                   y\n",
       "date                \n",
       "1991-07-01  0.429795\n",
       "1991-08-01  0.400906\n",
       "1991-09-01  0.432159\n",
       "1991-10-01  0.492543\n",
       "1991-11-01  0.502369\n",
       "...              ...\n",
       "2008-02-01  0.761822\n",
       "2008-03-01  0.649435\n",
       "2008-04-01  0.827887\n",
       "2008-05-01  0.816255\n",
       "2008-06-01  0.762137\n",
       "\n",
       "[204 rows x 1 columns]"
      ]
     },
     "execution_count": 2,
     "metadata": {},
     "output_type": "execute_result"
    }
   ],
   "source": [
    "# Download data\n",
    "# ==============================================================================\n",
    "data = fetch_dataset(\n",
    "    name=\"h2o\", raw=True, kwargs_read_csv={\"names\": [\"y\", \"date\"], \"header\": 0}\n",
    ")\n",
    "data[\"date\"] = pd.to_datetime(data[\"date\"], format=\"%Y-%m-%d\")\n",
    "data = data.set_index(\"date\")\n",
    "data = data.asfreq(\"MS\")\n",
    "data"
   ]
  },
  {
   "attachments": {},
   "cell_type": "markdown",
   "metadata": {},
   "source": [
    "## Train and predict using input with datetime and frequency index"
   ]
  },
  {
   "cell_type": "code",
   "execution_count": 3,
   "metadata": {},
   "outputs": [
    {
     "data": {
      "text/plain": [
       "2008-07-01    0.861239\n",
       "2008-08-01    0.871102\n",
       "2008-09-01    0.835840\n",
       "2008-10-01    0.938713\n",
       "2008-11-01    1.004192\n",
       "Freq: MS, Name: pred, dtype: float64"
      ]
     },
     "execution_count": 3,
     "metadata": {},
     "output_type": "execute_result"
    }
   ],
   "source": [
    "# Create and fit forecaster\n",
    "# ==============================================================================\n",
    "forecaster = ForecasterRecursive(\n",
    "                 regressor = LGBMRegressor(random_state=123, verbose=-1),\n",
    "                 lags      = 5\n",
    "             )\n",
    "\n",
    "forecaster.fit(y=data['y'])\n",
    "\n",
    "# Predictions\n",
    "# ==============================================================================\n",
    "forecaster.predict(steps=5)"
   ]
  },
  {
   "attachments": {},
   "cell_type": "markdown",
   "metadata": {},
   "source": [
    "## Train and predict using input without datetime index"
   ]
  },
  {
   "cell_type": "code",
   "execution_count": 4,
   "metadata": {},
   "outputs": [
    {
     "data": {
      "application/vnd.microsoft.datawrangler.viewer.v0+json": {
       "columns": [
        {
         "name": "index",
         "rawType": "int64",
         "type": "integer"
        },
        {
         "name": "y",
         "rawType": "float64",
         "type": "float"
        }
       ],
       "conversionMethod": "pd.DataFrame",
       "ref": "7239a870-3282-4061-821b-a0825517786f",
       "rows": [
        [
         "0",
         "0.429795"
        ],
        [
         "1",
         "0.400906"
        ],
        [
         "2",
         "0.432159"
        ],
        [
         "3",
         "0.492543"
        ],
        [
         "4",
         "0.502369"
        ],
        [
         "5",
         "0.602652"
        ],
        [
         "6",
         "0.660119"
        ],
        [
         "7",
         "0.33622"
        ],
        [
         "8",
         "0.351348"
        ],
        [
         "9",
         "0.379808"
        ],
        [
         "10",
         "0.361801"
        ],
        [
         "11",
         "0.410534"
        ],
        [
         "12",
         "0.48338867"
        ],
        [
         "13",
         "0.47546342"
        ],
        [
         "14",
         "0.53476104"
        ],
        [
         "15",
         "0.56860613"
        ],
        [
         "16",
         "0.59522329"
        ],
        [
         "17",
         "0.77125778"
        ],
        [
         "18",
         "0.7515028"
        ],
        [
         "19",
         "0.38755434"
        ],
        [
         "20",
         "0.42728322"
        ],
        [
         "21",
         "0.41389018"
        ],
        [
         "22",
         "0.42885882"
        ],
        [
         "23",
         "0.47012642"
        ],
        [
         "24",
         "0.50920969"
        ],
        [
         "25",
         "0.558443"
        ],
        [
         "26",
         "0.60151406"
        ],
        [
         "27",
         "0.6329471"
        ],
        [
         "28",
         "0.69960539"
        ],
        [
         "29",
         "0.96308051"
        ],
        [
         "30",
         "0.81932534"
        ],
        [
         "31",
         "0.4376698"
        ],
        [
         "32",
         "0.50612127"
        ],
        [
         "33",
         "0.47049117"
        ],
        [
         "34",
         "0.51069626"
        ],
        [
         "35",
         "0.54051379"
        ],
        [
         "36",
         "0.55811892"
        ],
        [
         "37",
         "0.67285206"
        ],
        [
         "38",
         "0.68589738"
        ],
        [
         "39",
         "0.68969198"
        ],
        [
         "40",
         "0.74130358"
        ],
        [
         "41",
         "0.81330763"
        ],
        [
         "42",
         "0.80311257"
        ],
        [
         "43",
         "0.47525824"
        ],
        [
         "44",
         "0.5525723"
        ],
        [
         "45",
         "0.52710782"
        ],
        [
         "46",
         "0.56124982"
        ],
        [
         "47",
         "0.58897764"
        ],
        [
         "48",
         "0.62313362"
        ],
        [
         "49",
         "0.74083723"
        ]
       ],
       "shape": {
        "columns": 1,
        "rows": 204
       }
      },
      "text/html": [
       "<div>\n",
       "<style scoped>\n",
       "    .dataframe tbody tr th:only-of-type {\n",
       "        vertical-align: middle;\n",
       "    }\n",
       "\n",
       "    .dataframe tbody tr th {\n",
       "        vertical-align: top;\n",
       "    }\n",
       "\n",
       "    .dataframe thead th {\n",
       "        text-align: right;\n",
       "    }\n",
       "</style>\n",
       "<table border=\"1\" class=\"dataframe\">\n",
       "  <thead>\n",
       "    <tr style=\"text-align: right;\">\n",
       "      <th></th>\n",
       "      <th>y</th>\n",
       "    </tr>\n",
       "  </thead>\n",
       "  <tbody>\n",
       "    <tr>\n",
       "      <th>0</th>\n",
       "      <td>0.429795</td>\n",
       "    </tr>\n",
       "    <tr>\n",
       "      <th>1</th>\n",
       "      <td>0.400906</td>\n",
       "    </tr>\n",
       "    <tr>\n",
       "      <th>2</th>\n",
       "      <td>0.432159</td>\n",
       "    </tr>\n",
       "    <tr>\n",
       "      <th>3</th>\n",
       "      <td>0.492543</td>\n",
       "    </tr>\n",
       "    <tr>\n",
       "      <th>4</th>\n",
       "      <td>0.502369</td>\n",
       "    </tr>\n",
       "    <tr>\n",
       "      <th>...</th>\n",
       "      <td>...</td>\n",
       "    </tr>\n",
       "    <tr>\n",
       "      <th>199</th>\n",
       "      <td>0.761822</td>\n",
       "    </tr>\n",
       "    <tr>\n",
       "      <th>200</th>\n",
       "      <td>0.649435</td>\n",
       "    </tr>\n",
       "    <tr>\n",
       "      <th>201</th>\n",
       "      <td>0.827887</td>\n",
       "    </tr>\n",
       "    <tr>\n",
       "      <th>202</th>\n",
       "      <td>0.816255</td>\n",
       "    </tr>\n",
       "    <tr>\n",
       "      <th>203</th>\n",
       "      <td>0.762137</td>\n",
       "    </tr>\n",
       "  </tbody>\n",
       "</table>\n",
       "<p>204 rows × 1 columns</p>\n",
       "</div>"
      ],
      "text/plain": [
       "            y\n",
       "0    0.429795\n",
       "1    0.400906\n",
       "2    0.432159\n",
       "3    0.492543\n",
       "4    0.502369\n",
       "..        ...\n",
       "199  0.761822\n",
       "200  0.649435\n",
       "201  0.827887\n",
       "202  0.816255\n",
       "203  0.762137\n",
       "\n",
       "[204 rows x 1 columns]"
      ]
     },
     "execution_count": 4,
     "metadata": {},
     "output_type": "execute_result"
    }
   ],
   "source": [
    "# Data without datetime index\n",
    "# ==============================================================================\n",
    "data = data.reset_index(drop=True)\n",
    "data"
   ]
  },
  {
   "cell_type": "code",
   "execution_count": 5,
   "metadata": {},
   "outputs": [
    {
     "data": {
      "text/plain": [
       "204    0.861239\n",
       "205    0.871102\n",
       "206    0.835840\n",
       "207    0.938713\n",
       "208    1.004192\n",
       "Name: pred, dtype: float64"
      ]
     },
     "execution_count": 5,
     "metadata": {},
     "output_type": "execute_result"
    }
   ],
   "source": [
    "# Fit - Predict\n",
    "# ==============================================================================\n",
    "forecaster.fit(y=data['y'])\n",
    "forecaster.predict(steps=5)"
   ]
  }
 ],
 "metadata": {
  "kernelspec": {
   "display_name": "skforecast_15_p12",
   "language": "python",
   "name": "python3"
  },
  "language_info": {
   "codemirror_mode": {
    "name": "ipython",
    "version": 3
   },
   "file_extension": ".py",
   "mimetype": "text/x-python",
   "name": "python",
   "nbconvert_exporter": "python",
   "pygments_lexer": "ipython3",
   "version": "3.12.9"
  },
  "toc": {
   "base_numbering": 1,
   "nav_menu": {},
   "number_sections": false,
   "sideBar": true,
   "skip_h1_title": true,
   "title_cell": "Tabla de contenidos",
   "title_sidebar": "Tabla de contenidos",
   "toc_cell": false,
   "toc_position": {
    "height": "calc(100% - 180px)",
    "left": "10px",
    "top": "150px",
    "width": "165px"
   },
   "toc_section_display": true,
   "toc_window_display": false
  },
  "varInspector": {
   "cols": {
    "lenName": 16,
    "lenType": 16,
    "lenVar": 40
   },
   "kernels_config": {
    "python": {
     "delete_cmd_postfix": "",
     "delete_cmd_prefix": "del ",
     "library": "var_list.py",
     "varRefreshCmd": "print(var_dic_list())"
    },
    "r": {
     "delete_cmd_postfix": ") ",
     "delete_cmd_prefix": "rm(",
     "library": "var_list.r",
     "varRefreshCmd": "cat(var_dic_list()) "
    }
   },
   "position": {
    "height": "144.391px",
    "left": "1478px",
    "right": "20px",
    "top": "126px",
    "width": "350px"
   },
   "types_to_exclude": [
    "module",
    "function",
    "builtin_function_or_method",
    "instance",
    "_Feature"
   ],
   "window_display": false
  }
 },
 "nbformat": 4,
 "nbformat_minor": 4
}
