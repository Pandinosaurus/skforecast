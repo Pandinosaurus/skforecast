{
 "cells": [
  {
   "cell_type": "code",
   "execution_count": 1,
   "metadata": {},
   "outputs": [
    {
     "name": "stdout",
     "output_type": "stream",
     "text": [
      "c:\\Users\\jaesc2\\GitHub\\skforecast\n"
     ]
    }
   ],
   "source": [
    "%load_ext autoreload\n",
    "%autoreload 2\n",
    "import sys\n",
    "from pathlib import Path\n",
    "path = str(Path.cwd().parent)\n",
    "print(path)\n",
    "sys.path.insert(1, path)\n",
    "\n",
    "import numpy as np\n",
    "import pandas as pd"
   ]
  },
  {
   "cell_type": "code",
   "execution_count": 19,
   "metadata": {},
   "outputs": [],
   "source": [
    "n = 1000000\n",
    "\n",
    "series = pd.Series(np.arange(n), index=pd.date_range(\"2023-01-01\", periods=n, freq=\"s\"))\n",
    "series.iloc[int(n/2)] = np.nan"
   ]
  },
  {
   "cell_type": "code",
   "execution_count": 20,
   "metadata": {},
   "outputs": [
    {
     "data": {
      "text/plain": [
       "np.False_"
      ]
     },
     "execution_count": 20,
     "metadata": {},
     "output_type": "execute_result"
    }
   ],
   "source": [
    "np.isnan(series).all()"
   ]
  },
  {
   "cell_type": "code",
   "execution_count": 21,
   "metadata": {},
   "outputs": [
    {
     "data": {
      "text/plain": [
       "np.False_"
      ]
     },
     "execution_count": 21,
     "metadata": {},
     "output_type": "execute_result"
    }
   ],
   "source": [
    "series.isna().to_numpy().all()"
   ]
  },
  {
   "cell_type": "code",
   "execution_count": 22,
   "metadata": {},
   "outputs": [
    {
     "name": "stdout",
     "output_type": "stream",
     "text": [
      "239 μs ± 3.69 μs per loop (mean ± std. dev. of 7 runs, 1,000 loops each)\n"
     ]
    }
   ],
   "source": [
    "%%timeit\n",
    "\n",
    "np.isnan(series).all()"
   ]
  },
  {
   "cell_type": "code",
   "execution_count": 23,
   "metadata": {},
   "outputs": [
    {
     "name": "stdout",
     "output_type": "stream",
     "text": [
      "214 μs ± 1.53 μs per loop (mean ± std. dev. of 7 runs, 1,000 loops each)\n"
     ]
    }
   ],
   "source": [
    "%%timeit\n",
    "\n",
    "series.isna().to_numpy().all()"
   ]
  },
  {
   "cell_type": "code",
   "execution_count": 27,
   "metadata": {},
   "outputs": [
    {
     "data": {
      "application/vnd.microsoft.datawrangler.viewer.v0+json": {
       "columns": [
        {
         "name": "index",
         "rawType": "datetime64[ns]",
         "type": "datetime"
        },
        {
         "name": "0",
         "rawType": "int64",
         "type": "integer"
        }
       ],
       "conversionMethod": "pd.DataFrame",
       "ref": "e75da979-069c-48a7-801f-b34bc2b16b29",
       "rows": [
        [
         "2023-01-01 00:00:00",
         "0"
        ],
        [
         "2023-01-01 00:00:01",
         "1"
        ],
        [
         "2023-01-01 00:00:02",
         "2"
        ],
        [
         "2023-01-01 00:00:03",
         "3"
        ],
        [
         "2023-01-01 00:00:04",
         "4"
        ],
        [
         "2023-01-01 00:00:05",
         "5"
        ],
        [
         "2023-01-01 00:00:06",
         "6"
        ],
        [
         "2023-01-01 00:00:07",
         "7"
        ],
        [
         "2023-01-01 00:00:08",
         "8"
        ],
        [
         "2023-01-01 00:00:09",
         "9"
        ],
        [
         "2023-01-01 00:00:10",
         "10"
        ],
        [
         "2023-01-01 00:00:11",
         "11"
        ],
        [
         "2023-01-01 00:00:12",
         "12"
        ],
        [
         "2023-01-01 00:00:13",
         "13"
        ],
        [
         "2023-01-01 00:00:14",
         "14"
        ],
        [
         "2023-01-01 00:00:15",
         "15"
        ],
        [
         "2023-01-01 00:00:16",
         "16"
        ],
        [
         "2023-01-01 00:00:17",
         "17"
        ],
        [
         "2023-01-01 00:00:18",
         "18"
        ],
        [
         "2023-01-01 00:00:19",
         "19"
        ],
        [
         "2023-01-01 00:00:20",
         "20"
        ],
        [
         "2023-01-01 00:00:21",
         "21"
        ],
        [
         "2023-01-01 00:00:22",
         "22"
        ],
        [
         "2023-01-01 00:00:23",
         "23"
        ],
        [
         "2023-01-01 00:00:24",
         "24"
        ],
        [
         "2023-01-01 00:00:25",
         "25"
        ],
        [
         "2023-01-01 00:00:26",
         "26"
        ],
        [
         "2023-01-01 00:00:27",
         "27"
        ],
        [
         "2023-01-01 00:00:28",
         "28"
        ],
        [
         "2023-01-01 00:00:29",
         "29"
        ],
        [
         "2023-01-01 00:00:30",
         "30"
        ],
        [
         "2023-01-01 00:00:31",
         "31"
        ],
        [
         "2023-01-01 00:00:32",
         "32"
        ],
        [
         "2023-01-01 00:00:33",
         "33"
        ],
        [
         "2023-01-01 00:00:34",
         "34"
        ],
        [
         "2023-01-01 00:00:35",
         "35"
        ],
        [
         "2023-01-01 00:00:36",
         "36"
        ],
        [
         "2023-01-01 00:00:37",
         "37"
        ],
        [
         "2023-01-01 00:00:38",
         "38"
        ],
        [
         "2023-01-01 00:00:39",
         "39"
        ],
        [
         "2023-01-01 00:00:40",
         "40"
        ],
        [
         "2023-01-01 00:00:41",
         "41"
        ],
        [
         "2023-01-01 00:00:42",
         "42"
        ],
        [
         "2023-01-01 00:00:43",
         "43"
        ],
        [
         "2023-01-01 00:00:44",
         "44"
        ],
        [
         "2023-01-01 00:00:45",
         "45"
        ],
        [
         "2023-01-01 00:00:46",
         "46"
        ],
        [
         "2023-01-01 00:00:47",
         "47"
        ],
        [
         "2023-01-01 00:00:48",
         "48"
        ],
        [
         "2023-01-01 00:00:49",
         "49"
        ]
       ],
       "shape": {
        "columns": 1,
        "rows": 1000000
       }
      },
      "text/html": [
       "<div>\n",
       "<style scoped>\n",
       "    .dataframe tbody tr th:only-of-type {\n",
       "        vertical-align: middle;\n",
       "    }\n",
       "\n",
       "    .dataframe tbody tr th {\n",
       "        vertical-align: top;\n",
       "    }\n",
       "\n",
       "    .dataframe thead th {\n",
       "        text-align: right;\n",
       "    }\n",
       "</style>\n",
       "<table border=\"1\" class=\"dataframe\">\n",
       "  <thead>\n",
       "    <tr style=\"text-align: right;\">\n",
       "      <th></th>\n",
       "      <th>0</th>\n",
       "    </tr>\n",
       "  </thead>\n",
       "  <tbody>\n",
       "    <tr>\n",
       "      <th>2023-01-01 00:00:00</th>\n",
       "      <td>0</td>\n",
       "    </tr>\n",
       "    <tr>\n",
       "      <th>2023-01-01 00:00:01</th>\n",
       "      <td>1</td>\n",
       "    </tr>\n",
       "    <tr>\n",
       "      <th>2023-01-01 00:00:02</th>\n",
       "      <td>2</td>\n",
       "    </tr>\n",
       "    <tr>\n",
       "      <th>2023-01-01 00:00:03</th>\n",
       "      <td>3</td>\n",
       "    </tr>\n",
       "    <tr>\n",
       "      <th>2023-01-01 00:00:04</th>\n",
       "      <td>4</td>\n",
       "    </tr>\n",
       "    <tr>\n",
       "      <th>...</th>\n",
       "      <td>...</td>\n",
       "    </tr>\n",
       "    <tr>\n",
       "      <th>2023-01-12 13:46:35</th>\n",
       "      <td>999995</td>\n",
       "    </tr>\n",
       "    <tr>\n",
       "      <th>2023-01-12 13:46:36</th>\n",
       "      <td>999996</td>\n",
       "    </tr>\n",
       "    <tr>\n",
       "      <th>2023-01-12 13:46:37</th>\n",
       "      <td>999997</td>\n",
       "    </tr>\n",
       "    <tr>\n",
       "      <th>2023-01-12 13:46:38</th>\n",
       "      <td>999998</td>\n",
       "    </tr>\n",
       "    <tr>\n",
       "      <th>2023-01-12 13:46:39</th>\n",
       "      <td>999999</td>\n",
       "    </tr>\n",
       "  </tbody>\n",
       "</table>\n",
       "<p>1000000 rows × 1 columns</p>\n",
       "</div>"
      ],
      "text/plain": [
       "                          0\n",
       "2023-01-01 00:00:00       0\n",
       "2023-01-01 00:00:01       1\n",
       "2023-01-01 00:00:02       2\n",
       "2023-01-01 00:00:03       3\n",
       "2023-01-01 00:00:04       4\n",
       "...                     ...\n",
       "2023-01-12 13:46:35  999995\n",
       "2023-01-12 13:46:36  999996\n",
       "2023-01-12 13:46:37  999997\n",
       "2023-01-12 13:46:38  999998\n",
       "2023-01-12 13:46:39  999999\n",
       "\n",
       "[1000000 rows x 1 columns]"
      ]
     },
     "execution_count": 27,
     "metadata": {},
     "output_type": "execute_result"
    }
   ],
   "source": [
    "n = 1000000\n",
    "n_cols = 1\n",
    "\n",
    "df = pd.DataFrame(\n",
    "    np.arange(n).reshape(-1, n_cols),\n",
    "    index=pd.date_range(\"2023-01-01\", periods=int(n/n_cols), freq=\"s\"),\n",
    ")\n",
    "df"
   ]
  },
  {
   "cell_type": "code",
   "execution_count": 30,
   "metadata": {},
   "outputs": [
    {
     "data": {
      "text/plain": [
       "2023-01-01 00:00:00         0\n",
       "2023-01-01 00:00:01         1\n",
       "2023-01-01 00:00:02         2\n",
       "2023-01-01 00:00:03         3\n",
       "2023-01-01 00:00:04         4\n",
       "                        ...  \n",
       "2023-01-12 13:46:35    999995\n",
       "2023-01-12 13:46:36    999996\n",
       "2023-01-12 13:46:37    999997\n",
       "2023-01-12 13:46:38    999998\n",
       "2023-01-12 13:46:39    999999\n",
       "Freq: s, Name: 0, Length: 1000000, dtype: int64"
      ]
     },
     "execution_count": 30,
     "metadata": {},
     "output_type": "execute_result"
    }
   ],
   "source": [
    "series = df.iloc[:, 0]\n",
    "series"
   ]
  },
  {
   "cell_type": "code",
   "execution_count": null,
   "metadata": {},
   "outputs": [],
   "source": [
    "import re\n",
    "import pytest\n",
    "import numpy as np\n",
    "import pandas as pd\n",
    "from skforecast.exceptions import MissingValuesWarning\n",
    "from skforecast.utils import check_preprocess_series\n",
    "from skforecast.utils import check_preprocess_exog_multiseries\n",
    "from skforecast.utils import align_series_and_exog_multiseries\n",
    "from skforecast.utils import align_series_and_exog_multiseries_new\n",
    "from skforecast.recursive.tests.tests_forecaster_recursive_multiseries.fixtures_forecaster_recursive_multiseries import series\n",
    "from skforecast.recursive.tests.tests_forecaster_recursive_multiseries.fixtures_forecaster_recursive_multiseries import series_2\n",
    "from skforecast.recursive.tests.tests_forecaster_recursive_multiseries.fixtures_forecaster_recursive_multiseries import series_as_dict\n",
    "from skforecast.recursive.tests.tests_forecaster_recursive_multiseries.fixtures_forecaster_recursive_multiseries import exog\n",
    "from skforecast.recursive.tests.tests_forecaster_recursive_multiseries.fixtures_forecaster_recursive_multiseries import exog_as_dict\n",
    "from skforecast.recursive.tests.tests_forecaster_recursive_multiseries.fixtures_forecaster_recursive_multiseries import exog_as_dict_datetime\n",
    "from skforecast.recursive.tests.tests_forecaster_recursive_multiseries.fixtures_forecaster_recursive_multiseries import exog_predict"
   ]
  },
  {
   "cell_type": "code",
   "execution_count": 41,
   "metadata": {},
   "outputs": [],
   "source": [
    "exog_dict = {\n",
    "    '1': exog.copy(),\n",
    "    '2': exog['exog_1'].copy()\n",
    "}\n",
    "\n",
    "input_series_is_dict = isinstance(series, dict)\n",
    "series_dict, series_indexes = check_preprocess_series(series=series)\n",
    "\n",
    "exog_dict, _ = check_preprocess_exog_multiseries(\n",
    "                    input_series_is_dict = input_series_is_dict,\n",
    "                    series_indexes       = series_indexes,\n",
    "                    series_names_in_     = ['1', '2'],\n",
    "                    exog                 = exog_dict,\n",
    "                    exog_dict            = {'1': None, '2': None}\n",
    "                )"
   ]
  },
  {
   "cell_type": "code",
   "execution_count": 45,
   "metadata": {},
   "outputs": [
    {
     "name": "stdout",
     "output_type": "stream",
     "text": [
      "Range of dates: 2010-01-01 00:00:00 - 2010-03-25 07:00:00\n",
      "Range of dates for prediction: 2010-03-25 08:00:00 - 2010-03-29 11:00:00\n"
     ]
    }
   ],
   "source": [
    "n_series = 600\n",
    "len_series = (2000, 5000)\n",
    "series_dict = {}\n",
    "rng = np.random.default_rng(321)\n",
    "for i in range(n_series):\n",
    "    #n = rng.integers(low=len_series[0], high=len_series[1])\n",
    "    n=2000\n",
    "    series_dict[f'series_{i}'] = pd.Series(\n",
    "        data = rng.normal(loc=20, scale=5, size=n),\n",
    "        index=pd.date_range(\n",
    "            start='2010-01-01',\n",
    "            periods=n,\n",
    "            freq='h'\n",
    "        ),\n",
    "        name=f'series_{i}'\n",
    "    )\n",
    "series_dataframe = pd.DataFrame(series_dict, index=series_dict['series_0'].index)\n",
    "\n",
    "exog_dict = {}\n",
    "rng = np.random.default_rng(321)\n",
    "for k in series_dict.keys():\n",
    "    exog = pd.DataFrame(\n",
    "            index=series_dict[k].index\n",
    "            )\n",
    "    exog['day_of_week'] = exog.index.dayofweek\n",
    "    exog['week_of_year'] = exog.index.isocalendar().week.astype(int)\n",
    "    exog['month'] = exog.index.month\n",
    "    exog_dict[k] = exog\n",
    "\n",
    "\n",
    "exog_dict_prediction = {}\n",
    "for k in series_dict.keys():\n",
    "    exog = pd.DataFrame(\n",
    "            index=pd.date_range(\n",
    "                start=series_dict[k].index.max() + pd.Timedelta(hours=1),\n",
    "                periods=100,\n",
    "                freq='h'\n",
    "            )\n",
    "            )\n",
    "    exog['day_of_week'] = exog.index.dayofweek\n",
    "    exog['week_of_year'] = exog.index.isocalendar().week.astype(int)\n",
    "    exog['month'] = exog.index.month\n",
    "    exog_dict_prediction[k] = exog   \n",
    "\n",
    "\n",
    "print(f\"Range of dates: \"\n",
    "    f\"{np.min([series_dict[k].index.min() for k in series_dict.keys()])} - \"\n",
    "    f\"{np.max([series_dict[k].index.max() for k in series_dict.keys()])}\"\n",
    ")\n",
    "\n",
    "print(f\"Range of dates for prediction: \"\n",
    "      f\"{np.min([exog_dict_prediction[k].index.min() for k in exog_dict_prediction.keys()])} - \"\n",
    "    f\"{np.max([exog_dict_prediction[k].index.max() for k in exog_dict_prediction.keys()])}\"\n",
    ")"
   ]
  },
  {
   "cell_type": "code",
   "execution_count": 48,
   "metadata": {},
   "outputs": [],
   "source": [
    "input_series_is_dict = isinstance(series_dict, dict)\n",
    "series_dict, series_indexes = check_preprocess_series(series=series_dict)\n",
    "series_names_in_ = list(series_dict.keys())\n",
    "\n",
    "exog_dict, _ = check_preprocess_exog_multiseries(\n",
    "                    input_series_is_dict = input_series_is_dict,\n",
    "                    series_indexes       = series_indexes,\n",
    "                    series_names_in_     = series_names_in_,\n",
    "                    exog                 = exog_dict,\n",
    "                    exog_dict            = {serie: None for serie in series_names_in_}\n",
    "                )"
   ]
  },
  {
   "cell_type": "code",
   "execution_count": 49,
   "metadata": {},
   "outputs": [
    {
     "name": "stdout",
     "output_type": "stream",
     "text": [
      "6.21 ms ± 81.2 μs per loop (mean ± std. dev. of 7 runs, 100 loops each)\n"
     ]
    }
   ],
   "source": [
    "%%timeit\n",
    "\n",
    "align_series_and_exog_multiseries(\n",
    "    series_dict          = series_dict,\n",
    "    input_series_is_dict = input_series_is_dict,\n",
    "    exog_dict            = exog_dict\n",
    ")"
   ]
  },
  {
   "cell_type": "code",
   "execution_count": 50,
   "metadata": {},
   "outputs": [
    {
     "name": "stdout",
     "output_type": "stream",
     "text": [
      "6.34 ms ± 118 μs per loop (mean ± std. dev. of 7 runs, 100 loops each)\n"
     ]
    }
   ],
   "source": [
    "%%timeit\n",
    "\n",
    "align_series_and_exog_multiseries_new(\n",
    "    series_dict          = series_dict,\n",
    "    input_series_is_dict = input_series_is_dict,\n",
    "    exog_dict            = exog_dict\n",
    ")"
   ]
  }
 ],
 "metadata": {
  "kernelspec": {
   "display_name": "skforecast_py11_2",
   "language": "python",
   "name": "python3"
  },
  "language_info": {
   "codemirror_mode": {
    "name": "ipython",
    "version": 3
   },
   "file_extension": ".py",
   "mimetype": "text/x-python",
   "name": "python",
   "nbconvert_exporter": "python",
   "pygments_lexer": "ipython3",
   "version": "3.11.10"
  },
  "orig_nbformat": 4
 },
 "nbformat": 4,
 "nbformat_minor": 2
}
