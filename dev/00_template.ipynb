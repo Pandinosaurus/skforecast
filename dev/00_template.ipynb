{
 "cells": [
  {
   "cell_type": "code",
   "execution_count": 1,
   "metadata": {},
   "outputs": [
    {
     "name": "stdout",
     "output_type": "stream",
     "text": [
      "c:\\Users\\jaesc2\\GitHub\\skforecast\n"
     ]
    }
   ],
   "source": [
    "%load_ext autoreload\n",
    "%autoreload 2\n",
    "import sys\n",
    "from pathlib import Path\n",
    "path = str(Path.cwd().parent)\n",
    "print(path)\n",
    "sys.path.insert(1, path)\n",
    "\n",
    "import numpy as np\n",
    "import pandas as pd"
   ]
  },
  {
   "cell_type": "code",
   "execution_count": 2,
   "metadata": {},
   "outputs": [
    {
     "name": "stderr",
     "output_type": "stream",
     "text": [
      "c:\\Users\\jaesc2\\Miniconda3\\envs\\skforecast_py13\\Lib\\site-packages\\tqdm\\auto.py:21: TqdmWarning: IProgress not found. Please update jupyter and ipywidgets. See https://ipywidgets.readthedocs.io/en/stable/user_install.html\n",
      "  from .autonotebook import tqdm as notebook_tqdm\n"
     ]
    }
   ],
   "source": [
    "import pytest\n",
    "import numpy as np\n",
    "import pandas as pd\n",
    "from scipy.stats import norm\n",
    "from sklearn.linear_model import LinearRegression\n",
    "from sklearn.metrics import mean_squared_error\n",
    "from skforecast.recursive import ForecasterRecursive\n",
    "from skforecast.direct import ForecasterDirect\n",
    "from skforecast.model_selection._validation import _backtesting_forecaster\n",
    "from skforecast.model_selection._split import TimeSeriesFold\n",
    "\n",
    "# Fixtures\n",
    "from skforecast.model_selection.tests.fixtures_model_selection import y\n",
    "from skforecast.model_selection.tests.fixtures_model_selection import exog\n",
    "from skforecast.model_selection.tests.fixtures_model_selection import out_sample_residuals"
   ]
  },
  {
   "cell_type": "code",
   "execution_count": 5,
   "metadata": {},
   "outputs": [
    {
     "name": "stdout",
     "output_type": "stream",
     "text": [
      "Information of folds\n",
      "--------------------\n",
      "Number of observations used for initial training: 38\n",
      "Number of observations used for backtesting: 12\n",
      "    Number of folds: 3\n",
      "    Number skipped folds: 0 \n",
      "    Number of steps per fold: 5\n",
      "    Number of steps to exclude between last observed data (last window) and predictions (gap): 0\n",
      "    Last fold only includes 2 observations.\n",
      "\n",
      "Fold: 0\n",
      "    Training:   0 -- 37  (n=38)\n",
      "    Validation: 38 -- 42  (n=5)\n",
      "Fold: 1\n",
      "    Training:   No training in this fold\n",
      "    Validation: 43 -- 47  (n=5)\n",
      "Fold: 2\n",
      "    Training:   No training in this fold\n",
      "    Validation: 48 -- 49  (n=2)\n",
      "\n"
     ]
    }
   ],
   "source": [
    "forecaster = ForecasterRecursive(\n",
    "        regressor=LinearRegression(), lags=3, binner_kwargs={'n_bins': 10}\n",
    ")\n",
    "n_backtest = 12\n",
    "y_train = y[:-n_backtest]\n",
    "cv = TimeSeriesFold(\n",
    "            steps                 = 5,\n",
    "            initial_train_size    = len(y_train),\n",
    "            window_size           = None,\n",
    "            differentiation       = None,\n",
    "            refit                 = False,\n",
    "            fixed_train_size      = True,\n",
    "            gap                   = 0,\n",
    "            skip_folds            = None,\n",
    "            allow_incomplete_fold = True,\n",
    "            return_all_indexes    = False,\n",
    "        )\n",
    "metric, backtest_predictions = _backtesting_forecaster(\n",
    "                                    forecaster              = forecaster,\n",
    "                                    y                       = y,\n",
    "                                    exog                    = exog,\n",
    "                                    cv                      = cv,\n",
    "                                    metric                  = 'mean_squared_error',\n",
    "                                    interval                = None,\n",
    "                                    interval_method         = 'conformal',\n",
    "                                    use_in_sample_residuals = True,\n",
    "                                    use_binned_residuals    = True,\n",
    "                                    random_state            = 123,\n",
    "                                    return_predictors=     True,\n",
    "                                    verbose                 = True,\n",
    "                                    show_progress           = False\n",
    "                                )"
   ]
  },
  {
   "cell_type": "code",
   "execution_count": 4,
   "metadata": {},
   "outputs": [
    {
     "data": {
      "text/html": [
       "<div>\n",
       "<style scoped>\n",
       "    .dataframe tbody tr th:only-of-type {\n",
       "        vertical-align: middle;\n",
       "    }\n",
       "\n",
       "    .dataframe tbody tr th {\n",
       "        vertical-align: top;\n",
       "    }\n",
       "\n",
       "    .dataframe thead th {\n",
       "        text-align: right;\n",
       "    }\n",
       "</style>\n",
       "<table border=\"1\" class=\"dataframe\">\n",
       "  <thead>\n",
       "    <tr style=\"text-align: right;\">\n",
       "      <th></th>\n",
       "      <th>pred</th>\n",
       "      <th>fold</th>\n",
       "      <th>lag_1</th>\n",
       "      <th>lag_2</th>\n",
       "      <th>lag_3</th>\n",
       "      <th>exog</th>\n",
       "    </tr>\n",
       "  </thead>\n",
       "  <tbody>\n",
       "    <tr>\n",
       "      <th>38</th>\n",
       "      <td>0.590596</td>\n",
       "      <td>0</td>\n",
       "      <td>0.893389</td>\n",
       "      <td>0.426351</td>\n",
       "      <td>0.312261</td>\n",
       "      <td>0.304768</td>\n",
       "    </tr>\n",
       "    <tr>\n",
       "      <th>39</th>\n",
       "      <td>0.472575</td>\n",
       "      <td>0</td>\n",
       "      <td>0.590596</td>\n",
       "      <td>0.893389</td>\n",
       "      <td>0.426351</td>\n",
       "      <td>0.398186</td>\n",
       "    </tr>\n",
       "    <tr>\n",
       "      <th>40</th>\n",
       "      <td>0.530241</td>\n",
       "      <td>0</td>\n",
       "      <td>0.472575</td>\n",
       "      <td>0.590596</td>\n",
       "      <td>0.893389</td>\n",
       "      <td>0.704959</td>\n",
       "    </tr>\n",
       "    <tr>\n",
       "      <th>41</th>\n",
       "      <td>0.461633</td>\n",
       "      <td>0</td>\n",
       "      <td>0.530241</td>\n",
       "      <td>0.472575</td>\n",
       "      <td>0.590596</td>\n",
       "      <td>0.995358</td>\n",
       "    </tr>\n",
       "    <tr>\n",
       "      <th>42</th>\n",
       "      <td>0.500351</td>\n",
       "      <td>0</td>\n",
       "      <td>0.461633</td>\n",
       "      <td>0.530241</td>\n",
       "      <td>0.472575</td>\n",
       "      <td>0.355915</td>\n",
       "    </tr>\n",
       "    <tr>\n",
       "      <th>43</th>\n",
       "      <td>0.491573</td>\n",
       "      <td>1</td>\n",
       "      <td>0.317285</td>\n",
       "      <td>0.115618</td>\n",
       "      <td>0.623953</td>\n",
       "      <td>0.762548</td>\n",
       "    </tr>\n",
       "    <tr>\n",
       "      <th>44</th>\n",
       "      <td>0.433273</td>\n",
       "      <td>1</td>\n",
       "      <td>0.491573</td>\n",
       "      <td>0.317285</td>\n",
       "      <td>0.115618</td>\n",
       "      <td>0.593177</td>\n",
       "    </tr>\n",
       "    <tr>\n",
       "      <th>45</th>\n",
       "      <td>0.424208</td>\n",
       "      <td>1</td>\n",
       "      <td>0.433273</td>\n",
       "      <td>0.491573</td>\n",
       "      <td>0.317285</td>\n",
       "      <td>0.691702</td>\n",
       "    </tr>\n",
       "    <tr>\n",
       "      <th>46</th>\n",
       "      <td>0.533894</td>\n",
       "      <td>1</td>\n",
       "      <td>0.424208</td>\n",
       "      <td>0.433273</td>\n",
       "      <td>0.491573</td>\n",
       "      <td>0.151127</td>\n",
       "    </tr>\n",
       "    <tr>\n",
       "      <th>47</th>\n",
       "      <td>0.516931</td>\n",
       "      <td>1</td>\n",
       "      <td>0.533894</td>\n",
       "      <td>0.424208</td>\n",
       "      <td>0.433273</td>\n",
       "      <td>0.398876</td>\n",
       "    </tr>\n",
       "    <tr>\n",
       "      <th>48</th>\n",
       "      <td>0.602079</td>\n",
       "      <td>2</td>\n",
       "      <td>0.985560</td>\n",
       "      <td>0.483034</td>\n",
       "      <td>0.250455</td>\n",
       "      <td>0.240856</td>\n",
       "    </tr>\n",
       "    <tr>\n",
       "      <th>49</th>\n",
       "      <td>0.482280</td>\n",
       "      <td>2</td>\n",
       "      <td>0.602079</td>\n",
       "      <td>0.985560</td>\n",
       "      <td>0.483034</td>\n",
       "      <td>0.343456</td>\n",
       "    </tr>\n",
       "  </tbody>\n",
       "</table>\n",
       "</div>"
      ],
      "text/plain": [
       "        pred  fold     lag_1     lag_2     lag_3      exog\n",
       "38  0.590596     0  0.893389  0.426351  0.312261  0.304768\n",
       "39  0.472575     0  0.590596  0.893389  0.426351  0.398186\n",
       "40  0.530241     0  0.472575  0.590596  0.893389  0.704959\n",
       "41  0.461633     0  0.530241  0.472575  0.590596  0.995358\n",
       "42  0.500351     0  0.461633  0.530241  0.472575  0.355915\n",
       "43  0.491573     1  0.317285  0.115618  0.623953  0.762548\n",
       "44  0.433273     1  0.491573  0.317285  0.115618  0.593177\n",
       "45  0.424208     1  0.433273  0.491573  0.317285  0.691702\n",
       "46  0.533894     1  0.424208  0.433273  0.491573  0.151127\n",
       "47  0.516931     1  0.533894  0.424208  0.433273  0.398876\n",
       "48  0.602079     2  0.985560  0.483034  0.250455  0.240856\n",
       "49  0.482280     2  0.602079  0.985560  0.483034  0.343456"
      ]
     },
     "execution_count": 4,
     "metadata": {},
     "output_type": "execute_result"
    }
   ],
   "source": [
    "backtest_predictions"
   ]
  },
  {
   "cell_type": "code",
   "execution_count": 6,
   "metadata": {},
   "outputs": [
    {
     "data": {
      "text/plain": [
       "0"
      ]
     },
     "execution_count": 6,
     "metadata": {},
     "output_type": "execute_result"
    }
   ],
   "source": [
    "5 // 10"
   ]
  },
  {
   "cell_type": "code",
   "execution_count": null,
   "metadata": {},
   "outputs": [],
   "source": []
  }
 ],
 "metadata": {
  "kernelspec": {
   "display_name": "skforecast_py12",
   "language": "python",
   "name": "python3"
  },
  "language_info": {
   "codemirror_mode": {
    "name": "ipython",
    "version": 3
   },
   "file_extension": ".py",
   "mimetype": "text/x-python",
   "name": "python",
   "nbconvert_exporter": "python",
   "pygments_lexer": "ipython3",
   "version": "3.12.9"
  },
  "orig_nbformat": 4
 },
 "nbformat": 4,
 "nbformat_minor": 2
}
