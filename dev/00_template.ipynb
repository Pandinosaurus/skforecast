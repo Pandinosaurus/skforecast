{
 "cells": [
  {
   "cell_type": "code",
   "execution_count": null,
   "metadata": {},
   "outputs": [
    {
     "name": "stdout",
     "output_type": "stream",
     "text": [
      "/home/ubuntu/varios/skforecast\n"
     ]
    }
   ],
   "source": [
    "%load_ext autoreload\n",
    "%autoreload 2\n",
    "import sys\n",
    "from pathlib import Path\n",
    "path = str(Path.cwd().parent)\n",
    "print(path)\n",
    "sys.path.insert(1, path)\n",
    "\n",
    "import numpy as np\n",
    "import pandas as pd"
   ]
  },
  {
   "cell_type": "code",
   "execution_count": 3,
   "metadata": {},
   "outputs": [],
   "source": [
    "import numpy as np\n",
    "import pandas as pd\n",
    "from sklearn.linear_model import LinearRegression\n",
    "from skforecast.recursive import ForecasterRecursiveMultiSeries\n",
    "from skforecast.preprocessing import RollingFeatures"
   ]
  },
  {
   "cell_type": "code",
   "execution_count": 4,
   "metadata": {},
   "outputs": [],
   "source": [
    "series = pd.DataFrame({'l1': pd.Series(np.arange(10)), \n",
    "                       'l2': pd.Series(np.arange(10))})"
   ]
  },
  {
   "cell_type": "code",
   "execution_count": 77,
   "metadata": {},
   "outputs": [
    {
     "name": "stderr",
     "output_type": "stream",
     "text": [
      "/home/ubuntu/varios/skforecast/skforecast/recursive/_forecaster_recursive_multiseries.py:468: UserWarning: When using a linear model, it is recommended to use a transformer_series to ensure all series are in the same scale. You can use, for example, a `StandardScaler` from sklearn.preprocessing.\n",
      "  warnings.warn(\n",
      "/home/ubuntu/varios/skforecast/skforecast/recursive/_forecaster_recursive_multiseries.py:3233: UnknownLevelWarning: As `encoding` is set to `None`, no distinction between levels is made. All residuals are stored in the '_unknown_level' key. \n",
      " You can suppress this warning using: warnings.simplefilter('ignore', category=UnknownLevelWarning)\n",
      "  warnings.warn(\n"
     ]
    },
    {
     "ename": "AssertionError",
     "evalue": "",
     "output_type": "error",
     "traceback": [
      "\u001b[0;31m---------------------------------------------------------------------------\u001b[0m",
      "\u001b[0;31mAssertionError\u001b[0m                            Traceback (most recent call last)",
      "Cell \u001b[0;32mIn[77], line 105\u001b[0m\n\u001b[1;32m    103\u001b[0m \u001b[38;5;28;01mfor\u001b[39;00m k \u001b[38;5;129;01min\u001b[39;00m expected_out_sample_by_bin\u001b[38;5;241m.\u001b[39mkeys():\n\u001b[1;32m    104\u001b[0m     \u001b[38;5;28;01mfor\u001b[39;00m \u001b[38;5;28mbin\u001b[39m \u001b[38;5;129;01min\u001b[39;00m expected_out_sample_by_bin[k]\u001b[38;5;241m.\u001b[39mkeys():\n\u001b[0;32m--> 105\u001b[0m         \u001b[38;5;28;01massert\u001b[39;00m np\u001b[38;5;241m.\u001b[39mallclose(\n\u001b[1;32m    106\u001b[0m             expected_out_sample_by_bin[k][\u001b[38;5;28mbin\u001b[39m],\n\u001b[1;32m    107\u001b[0m             forecaster\u001b[38;5;241m.\u001b[39mout_sample_residuals_by_bin_[k][\u001b[38;5;28mbin\u001b[39m],\n\u001b[1;32m    108\u001b[0m         )\n",
      "\u001b[0;31mAssertionError\u001b[0m: "
     ]
    }
   ],
   "source": [
    "encoding = None\n",
    "\n",
    "rng = np.random.default_rng(12345)\n",
    "series = pd.DataFrame({\"l1\": rng.normal(10, 3, 20), \"l2\": rng.normal(10, 3, 20)})\n",
    "forecaster = ForecasterRecursiveMultiSeries(\n",
    "    LinearRegression(), lags=3, encoding=encoding, binner_kwargs={\"n_bins\": 3}\n",
    ")\n",
    "forecaster.fit(series=series)\n",
    "y_true = {\"l1\": rng.normal(10, 3, 20), \"l2\": rng.normal(10, 3, 20)}\n",
    "y_pred = {\"l1\": rng.normal(10, 3, 20), \"l2\": rng.normal(10, 3, 20)}\n",
    "\n",
    "forecaster.set_out_sample_residuals(y_true=y_true, y_pred=y_pred)\n",
    "expected_out_sample = {\n",
    "    'l1': np.array(\n",
    "        [1.60962553,  1.71263736,  9.19708889, -2.73386424,  1.51464604,\n",
    "        -3.32699998,  3.5987987 ,  0.13608979, -2.06018676, -2.72988393,\n",
    "         1.63221968, -0.57130461, -1.08106429, -1.45886519,  0.91789988,\n",
    "        -2.19933831,  1.97853178, -2.56217282,  3.69683321, -4.86497532]),\n",
    "    'l2': np.array(\n",
    "            [0.51984518,  7.40971902, -0.77881843, -2.89834312, -4.09573881,\n",
    "            2.98823132,  2.43787115, -5.81851232,  1.34536138, -2.88085653,\n",
    "            -8.26701406, -8.9861346 ,  0.31671219, -0.83725661, -4.37490671,\n",
    "            -2.88874692,  0.50604084, -3.41273397, -2.71056093,  3.120254 ]),\n",
    "    '_unknown_level':  np.array(\n",
    "            [1.60962553,  1.71263736,  9.19708889, -2.73386424,  1.51464604,\n",
    "            -3.32699998,  3.5987987 ,  0.13608979, -2.06018676, -2.72988393,\n",
    "            1.63221968, -0.57130461, -1.08106429, -1.45886519,  0.91789988,\n",
    "            -2.19933831,  1.97853178, -2.56217282,  3.69683321, -4.86497532,\n",
    "            0.51984518,  7.40971902, -0.77881843, -2.89834312, -4.09573881,\n",
    "            2.98823132,  2.43787115, -5.81851232,  1.34536138, -2.88085653,\n",
    "            -8.26701406, -8.9861346 ,  0.31671219, -0.83725661, -4.37490671,\n",
    "            -2.88874692,  0.50604084, -3.41273397, -2.71056093,  3.120254])\n",
    "        }\n",
    "\n",
    "expected_out_sample_by_bin = {\n",
    "    \"l1\": {\n",
    "        0: np.array([\n",
    "            1.60962553, 1.71263736, 9.19708889, 1.51464604, 3.5987987,\n",
    "            1.63221968, -2.19933831, 1.97853178, -2.56217282, 3.69683321,\n",
    "        ]),\n",
    "        1: np.array([\n",
    "            -3.32699998,\n",
    "        ]),\n",
    "        2: np.array([\n",
    "            -2.73386424, 0.13608979, -2.06018676, -2.72988393, -0.57130461,\n",
    "            -1.08106429, -1.45886519, 0.91789988, -4.86497532,\n",
    "        ]),\n",
    "    },\n",
    "    \"l2\": {\n",
    "        0: np.array([\n",
    "            0.51984518, 7.40971902, -4.09573881, 2.98823132, -2.88085653,\n",
    "            3.120254,\n",
    "        ]),\n",
    "        1: np.array([\n",
    "            -0.77881843, 2.43787115, 0.31671219, -2.71056093,\n",
    "        ]),\n",
    "        2: np.array([\n",
    "            -2.89834312, -5.81851232, 1.34536138, -8.26701406, -8.9861346,\n",
    "            -0.83725661, -4.37490671, -2.88874692, 0.50604084, -3.41273397,\n",
    "        ]),\n",
    "    },\n",
    "    \"_unknown_level\": {\n",
    "        0: np.array([\n",
    "            1.60962553, 1.71263736, 9.19708889, 1.51464604, 3.5987987,\n",
    "            1.63221968, -2.19933831, 1.97853178, -2.56217282, 3.69683321,\n",
    "            0.51984518, 7.40971902, -4.09573881, 2.98823132, -2.88085653,\n",
    "            3.120254,\n",
    "        ]),\n",
    "        1: np.array([\n",
    "            -3.32699998, -0.77881843, 2.43787115, 0.31671219, -2.71056093,\n",
    "        ]),\n",
    "        2: np.array([\n",
    "            -2.73386424, 0.13608979, -2.06018676, -2.72988393, -0.57130461,\n",
    "            -1.08106429, -1.45886519, 0.91789988, -4.86497532, -2.89834312,\n",
    "            -5.81851232, 1.34536138, -8.26701406, -8.9861346, -0.83725661,\n",
    "            -4.37490671, -2.88874692, 0.50604084, -3.41273397,\n",
    "        ]),\n",
    "    },\n",
    "}\n",
    "\n",
    "if encoding is None:\n",
    "    expected_out_sample = {'_unknown_level': expected_out_sample['_unknown_level']}\n",
    "    expected_out_sample_by_bin = {\n",
    "        '_unknown_level': {\n",
    "            0: np.array([ 1.60962553,  1.71263736,  9.19708889,  1.51464604,  3.5987987 ,\n",
    "                    1.63221968, -2.19933831,  1.97853178, -2.56217282,  3.69683321,\n",
    "                    0.51984518,  7.40971902, -4.09573881,  2.98823132, -2.88085653,\n",
    "                    3.120254  ]),\n",
    "            1: np.array([-3.32699998, -0.77881843,  2.43787115,  0.31671219, -2.71056093]),\n",
    "            2: np.array([-2.73386424,  0.13608979, -2.06018676, -2.72988393, -0.57130461,\n",
    "                    -1.08106429, -1.45886519,  0.91789988, -4.86497532, -2.89834312,\n",
    "                    -5.81851232,  1.34536138, -8.26701406, -8.9861346 , -0.83725661,\n",
    "                    -4.37490671, -2.88874692,  0.50604084, -3.41273397])\n",
    "        }\n",
    "    }\n",
    "    \n",
    "assert expected_out_sample.keys() == forecaster.out_sample_residuals_.keys()\n",
    "assert all(\n",
    "    np.allclose(expected_out_sample[k], forecaster.out_sample_residuals_[k])\n",
    "    for k in expected_out_sample.keys()\n",
    ")\n",
    "\n",
    "for k in expected_out_sample_by_bin.keys():\n",
    "    for bin in expected_out_sample_by_bin[k].keys():\n",
    "        assert np.allclose(\n",
    "            expected_out_sample_by_bin[k][bin],\n",
    "            forecaster.out_sample_residuals_by_bin_[k][bin],\n",
    "        )"
   ]
  },
  {
   "cell_type": "code",
   "execution_count": 72,
   "metadata": {},
   "outputs": [
    {
     "data": {
      "text/plain": [
       "'_unknown_level'"
      ]
     },
     "execution_count": 72,
     "metadata": {},
     "output_type": "execute_result"
    }
   ],
   "source": [
    "k"
   ]
  },
  {
   "cell_type": "code",
   "execution_count": 74,
   "metadata": {},
   "outputs": [
    {
     "data": {
      "text/plain": [
       "{0: array([ 1.60962553,  1.71263736,  9.19708889,  1.51464604,  3.5987987 ,\n",
       "         1.97853178, -2.56217282,  3.69683321,  0.51984518,  7.40971902,\n",
       "        -0.77881843, -4.09573881,  2.98823132,  2.43787115, -2.88085653,\n",
       "         3.120254  ]),\n",
       " 1: array([-3.32699998,  1.63221968, -2.19933831,  0.31671219, -2.71056093]),\n",
       " 2: array([-2.73386424,  0.13608979, -2.06018676, -2.72988393, -0.57130461,\n",
       "        -1.08106429, -1.45886519,  0.91789988, -4.86497532, -2.89834312,\n",
       "        -5.81851232,  1.34536138, -8.26701406, -8.9861346 , -0.83725661,\n",
       "        -4.37490671, -2.88874692,  0.50604084, -3.41273397])}"
      ]
     },
     "execution_count": 74,
     "metadata": {},
     "output_type": "execute_result"
    }
   ],
   "source": [
    "forecaster.out_sample_residuals_by_bin_[k]"
   ]
  },
  {
   "cell_type": "code",
   "execution_count": 76,
   "metadata": {},
   "outputs": [
    {
     "data": {
      "text/plain": [
       "{'_unknown_level': {0: array([ 1.60962553,  1.71263736,  9.19708889,  1.51464604,  3.5987987 ,\n",
       "          1.63221968, -2.19933831,  1.97853178, -2.56217282,  3.69683321,\n",
       "          0.51984518,  7.40971902, -4.09573881,  2.98823132, -2.88085653,\n",
       "          3.120254  ]),\n",
       "  1: array([-3.32699998, -0.77881843,  2.43787115,  0.31671219, -2.71056093]),\n",
       "  2: array([-2.73386424,  0.13608979, -2.06018676, -2.72988393, -0.57130461,\n",
       "         -1.08106429, -1.45886519,  0.91789988, -4.86497532, -2.89834312,\n",
       "         -5.81851232,  1.34536138, -8.26701406, -8.9861346 , -0.83725661,\n",
       "         -4.37490671, -2.88874692,  0.50604084, -3.41273397])}}"
      ]
     },
     "execution_count": 76,
     "metadata": {},
     "output_type": "execute_result"
    }
   ],
   "source": [
    "expected_out_sample_by_bin"
   ]
  }
 ],
 "metadata": {
  "kernelspec": {
   "display_name": "skforecast_14_py12",
   "language": "python",
   "name": "python3"
  },
  "language_info": {
   "codemirror_mode": {
    "name": "ipython",
    "version": 3
   },
   "file_extension": ".py",
   "mimetype": "text/x-python",
   "name": "python",
   "nbconvert_exporter": "python",
   "pygments_lexer": "ipython3",
   "version": "3.12.5"
  },
  "orig_nbformat": 4
 },
 "nbformat": 4,
 "nbformat_minor": 2
}
