{
 "cells": [
  {
   "cell_type": "code",
   "execution_count": 1,
   "metadata": {},
   "outputs": [
    {
     "name": "stdout",
     "output_type": "stream",
     "text": [
      "c:\\Users\\jaesc2\\GitHub\\skforecast\n"
     ]
    }
   ],
   "source": [
    "%load_ext autoreload\n",
    "%autoreload 2\n",
    "import sys\n",
    "from pathlib import Path\n",
    "path = str(Path.cwd().parent)\n",
    "print(path)\n",
    "sys.path.insert(1, path)\n",
    "\n",
    "import numpy as np\n",
    "import pandas as pd"
   ]
  },
  {
   "cell_type": "code",
   "execution_count": 2,
   "metadata": {},
   "outputs": [],
   "source": [
    "# Create a df with 100 cols\n",
    "n_rows = 10000\n",
    "n_cols = 100\n",
    "\n",
    "df = pd.DataFrame(\n",
    "    np.random.randn(n_rows, n_cols), \n",
    "    columns=[f\"col_{i}\" for i in range(n_cols)],\n",
    "    index=pd.date_range(\"2023-01-01\", periods=n_rows, freq=\"h\")\n",
    ")"
   ]
  },
  {
   "cell_type": "code",
   "execution_count": 3,
   "metadata": {},
   "outputs": [
    {
     "data": {
      "application/vnd.microsoft.datawrangler.viewer.v0+json": {
       "columns": [
        {
         "name": "index",
         "rawType": "datetime64[ns]",
         "type": "datetime"
        },
        {
         "name": "col",
         "rawType": "object",
         "type": "string"
        },
        {
         "name": "value",
         "rawType": "float64",
         "type": "float"
        }
       ],
       "conversionMethod": "pd.DataFrame",
       "ref": "d6516ab2-1587-477f-a6f7-14afb4af9a1f",
       "rows": [
        [
         "2023-01-01 00:00:00",
         "col_0",
         "0.9239673575328922"
        ],
        [
         "2023-01-01 01:00:00",
         "col_0",
         "0.10179887486571872"
        ],
        [
         "2023-01-01 02:00:00",
         "col_0",
         "-1.0065040365482905"
        ],
        [
         "2023-01-01 03:00:00",
         "col_0",
         "-1.2356374358343547"
        ],
        [
         "2023-01-01 04:00:00",
         "col_0",
         "0.4684101690857612"
        ],
        [
         "2023-01-01 05:00:00",
         "col_0",
         "0.2912602322239865"
        ],
        [
         "2023-01-01 06:00:00",
         "col_0",
         "1.8590818797553554"
        ],
        [
         "2023-01-01 07:00:00",
         "col_0",
         "-0.6861252630452422"
        ],
        [
         "2023-01-01 08:00:00",
         "col_0",
         "-1.4397265743533347"
        ],
        [
         "2023-01-01 09:00:00",
         "col_0",
         "-0.8222584809346978"
        ],
        [
         "2023-01-01 10:00:00",
         "col_0",
         "-0.42896911222296985"
        ],
        [
         "2023-01-01 11:00:00",
         "col_0",
         "1.3272713728643075"
        ],
        [
         "2023-01-01 12:00:00",
         "col_0",
         "0.015467807887104933"
        ],
        [
         "2023-01-01 13:00:00",
         "col_0",
         "1.3877843912145658"
        ],
        [
         "2023-01-01 14:00:00",
         "col_0",
         "-1.4403545570035337"
        ],
        [
         "2023-01-01 15:00:00",
         "col_0",
         "-2.0223887928520443"
        ],
        [
         "2023-01-01 16:00:00",
         "col_0",
         "-0.6712987342707608"
        ],
        [
         "2023-01-01 17:00:00",
         "col_0",
         "-0.8346087386629906"
        ],
        [
         "2023-01-01 18:00:00",
         "col_0",
         "0.5188940166724518"
        ],
        [
         "2023-01-01 19:00:00",
         "col_0",
         "-0.32237177925329724"
        ],
        [
         "2023-01-01 20:00:00",
         "col_0",
         "0.4602354339549912"
        ],
        [
         "2023-01-01 21:00:00",
         "col_0",
         "-0.555376006615579"
        ],
        [
         "2023-01-01 22:00:00",
         "col_0",
         "0.7506389707973167"
        ],
        [
         "2023-01-01 23:00:00",
         "col_0",
         "-0.7904283836369922"
        ],
        [
         "2023-01-02 00:00:00",
         "col_0",
         "0.264759779731225"
        ],
        [
         "2023-01-02 01:00:00",
         "col_0",
         "-1.5122256398468703"
        ],
        [
         "2023-01-02 02:00:00",
         "col_0",
         "-0.82467390901175"
        ],
        [
         "2023-01-02 03:00:00",
         "col_0",
         "0.9086293471309641"
        ],
        [
         "2023-01-02 04:00:00",
         "col_0",
         "0.42931971779241895"
        ],
        [
         "2023-01-02 05:00:00",
         "col_0",
         "0.05346945298788575"
        ],
        [
         "2023-01-02 06:00:00",
         "col_0",
         "0.49833271896843306"
        ],
        [
         "2023-01-02 07:00:00",
         "col_0",
         "-0.2559467391773187"
        ],
        [
         "2023-01-02 08:00:00",
         "col_0",
         "1.4100386333408204"
        ],
        [
         "2023-01-02 09:00:00",
         "col_0",
         "-0.9926496713702337"
        ],
        [
         "2023-01-02 10:00:00",
         "col_0",
         "1.4056823345888567"
        ],
        [
         "2023-01-02 11:00:00",
         "col_0",
         "-0.3156034470847638"
        ],
        [
         "2023-01-02 12:00:00",
         "col_0",
         "-1.0521156426111935"
        ],
        [
         "2023-01-02 13:00:00",
         "col_0",
         "0.2748125271753716"
        ],
        [
         "2023-01-02 14:00:00",
         "col_0",
         "-0.03398752260540454"
        ],
        [
         "2023-01-02 15:00:00",
         "col_0",
         "-0.5952089866846503"
        ],
        [
         "2023-01-02 16:00:00",
         "col_0",
         "0.07857224386640543"
        ],
        [
         "2023-01-02 17:00:00",
         "col_0",
         "0.9937717984699772"
        ],
        [
         "2023-01-02 18:00:00",
         "col_0",
         "-0.6018195707803844"
        ],
        [
         "2023-01-02 19:00:00",
         "col_0",
         "-1.624528656722837"
        ],
        [
         "2023-01-02 20:00:00",
         "col_0",
         "0.2032464121070815"
        ],
        [
         "2023-01-02 21:00:00",
         "col_0",
         "1.0648139651122623"
        ],
        [
         "2023-01-02 22:00:00",
         "col_0",
         "-0.11107776413800449"
        ],
        [
         "2023-01-02 23:00:00",
         "col_0",
         "-0.32309469305326854"
        ],
        [
         "2023-01-03 00:00:00",
         "col_0",
         "-0.8062915641034851"
        ],
        [
         "2023-01-03 01:00:00",
         "col_0",
         "-2.264095497641939"
        ]
       ],
       "shape": {
        "columns": 2,
        "rows": 1000000
       }
      },
      "text/html": [
       "<div>\n",
       "<style scoped>\n",
       "    .dataframe tbody tr th:only-of-type {\n",
       "        vertical-align: middle;\n",
       "    }\n",
       "\n",
       "    .dataframe tbody tr th {\n",
       "        vertical-align: top;\n",
       "    }\n",
       "\n",
       "    .dataframe thead th {\n",
       "        text-align: right;\n",
       "    }\n",
       "</style>\n",
       "<table border=\"1\" class=\"dataframe\">\n",
       "  <thead>\n",
       "    <tr style=\"text-align: right;\">\n",
       "      <th></th>\n",
       "      <th>col</th>\n",
       "      <th>value</th>\n",
       "    </tr>\n",
       "  </thead>\n",
       "  <tbody>\n",
       "    <tr>\n",
       "      <th>2023-01-01 00:00:00</th>\n",
       "      <td>col_0</td>\n",
       "      <td>0.923967</td>\n",
       "    </tr>\n",
       "    <tr>\n",
       "      <th>2023-01-01 01:00:00</th>\n",
       "      <td>col_0</td>\n",
       "      <td>0.101799</td>\n",
       "    </tr>\n",
       "    <tr>\n",
       "      <th>2023-01-01 02:00:00</th>\n",
       "      <td>col_0</td>\n",
       "      <td>-1.006504</td>\n",
       "    </tr>\n",
       "    <tr>\n",
       "      <th>2023-01-01 03:00:00</th>\n",
       "      <td>col_0</td>\n",
       "      <td>-1.235637</td>\n",
       "    </tr>\n",
       "    <tr>\n",
       "      <th>2023-01-01 04:00:00</th>\n",
       "      <td>col_0</td>\n",
       "      <td>0.468410</td>\n",
       "    </tr>\n",
       "    <tr>\n",
       "      <th>...</th>\n",
       "      <td>...</td>\n",
       "      <td>...</td>\n",
       "    </tr>\n",
       "    <tr>\n",
       "      <th>2024-02-21 11:00:00</th>\n",
       "      <td>col_99</td>\n",
       "      <td>0.875016</td>\n",
       "    </tr>\n",
       "    <tr>\n",
       "      <th>2024-02-21 12:00:00</th>\n",
       "      <td>col_99</td>\n",
       "      <td>-0.022232</td>\n",
       "    </tr>\n",
       "    <tr>\n",
       "      <th>2024-02-21 13:00:00</th>\n",
       "      <td>col_99</td>\n",
       "      <td>-0.687094</td>\n",
       "    </tr>\n",
       "    <tr>\n",
       "      <th>2024-02-21 14:00:00</th>\n",
       "      <td>col_99</td>\n",
       "      <td>0.482631</td>\n",
       "    </tr>\n",
       "    <tr>\n",
       "      <th>2024-02-21 15:00:00</th>\n",
       "      <td>col_99</td>\n",
       "      <td>-1.120415</td>\n",
       "    </tr>\n",
       "  </tbody>\n",
       "</table>\n",
       "<p>1000000 rows × 2 columns</p>\n",
       "</div>"
      ],
      "text/plain": [
       "                        col     value\n",
       "2023-01-01 00:00:00   col_0  0.923967\n",
       "2023-01-01 01:00:00   col_0  0.101799\n",
       "2023-01-01 02:00:00   col_0 -1.006504\n",
       "2023-01-01 03:00:00   col_0 -1.235637\n",
       "2023-01-01 04:00:00   col_0  0.468410\n",
       "...                     ...       ...\n",
       "2024-02-21 11:00:00  col_99  0.875016\n",
       "2024-02-21 12:00:00  col_99 -0.022232\n",
       "2024-02-21 13:00:00  col_99 -0.687094\n",
       "2024-02-21 14:00:00  col_99  0.482631\n",
       "2024-02-21 15:00:00  col_99 -1.120415\n",
       "\n",
       "[1000000 rows x 2 columns]"
      ]
     },
     "execution_count": 3,
     "metadata": {},
     "output_type": "execute_result"
    }
   ],
   "source": [
    "# Convert df to long format\n",
    "df_long = df.melt(ignore_index=False, var_name=\"col\", value_name=\"value\")\n",
    "df_long"
   ]
  },
  {
   "cell_type": "code",
   "execution_count": 4,
   "metadata": {},
   "outputs": [
    {
     "data": {
      "text/plain": [
       "{'value'}"
      ]
     },
     "execution_count": 4,
     "metadata": {},
     "output_type": "execute_result"
    }
   ],
   "source": [
    "set(df_long.select_dtypes(include=float).columns)"
   ]
  },
  {
   "cell_type": "code",
   "execution_count": 5,
   "metadata": {},
   "outputs": [
    {
     "data": {
      "text/plain": [
       "{'value'}"
      ]
     },
     "execution_count": 5,
     "metadata": {},
     "output_type": "execute_result"
    }
   ],
   "source": [
    "{\n",
    "    col for col in df_long.columns \n",
    "    if pd.api.types.is_float_dtype(df_long[col])\n",
    "}"
   ]
  },
  {
   "cell_type": "code",
   "execution_count": 7,
   "metadata": {},
   "outputs": [],
   "source": [
    "from skforecast.preprocessing import exog_long_to_dict\n",
    "\n",
    "exog_series_1 = pd.DataFrame({\n",
    "        'exog_1': np.random.normal(0, 1, 10),\n",
    "        'exog_2': np.random.choice([\"A\", \"B\", \"C\"], 10),\n",
    "        'exog_3': np.random.randint(0, 10, 10),\n",
    "        'series': 'series_1',\n",
    "    }, index = pd.date_range(start='1-1-2000', periods=10, freq='D'))\n",
    "exog_series_2 = pd.DataFrame({\n",
    "    'exog_1': np.random.normal(0, 1, 10),\n",
    "    'exog_2': np.random.choice([\"A\", \"B\"], 10),\n",
    "    'exog_3': np.random.randint(0, 10, 10),\n",
    "    'series': 'series_2',\n",
    "}, index = pd.date_range(start='1-1-2000', periods=10, freq='D'))\n",
    "exog_long = (\n",
    "    pd.concat([exog_series_1, exog_series_2], axis=0)\n",
    "    .reset_index()\n",
    "    .rename(columns={\"index\": \"datetime\"})\n",
    ")\n",
    "exog_long = exog_long.loc[\n",
    "    [0, 1, 2, 3, 4, 6, 7, 8, 9, 10, 11, 12, 13, 14, 15, 16, 17, 18, 19], :\n",
    "].copy()\n",
    "exog_long[\"exog_2\"] = exog_long[\"exog_2\"].astype(\"category\")\n",
    "exog_long[\"series\"] = exog_long[\"series\"].astype(\"category\")\n",
    "exog_dict = exog_long_to_dict(\n",
    "    data=exog_long,\n",
    "    series_id=\"series\",\n",
    "    index=\"datetime\",\n",
    "    freq=\"D\",\n",
    "    consolidate_dtypes=True,\n",
    "    suppress_warnings=True,\n",
    ")"
   ]
  },
  {
   "cell_type": "code",
   "execution_count": 10,
   "metadata": {},
   "outputs": [
    {
     "data": {
      "application/vnd.microsoft.datawrangler.viewer.v0+json": {
       "columns": [
        {
         "name": "index",
         "rawType": "int64",
         "type": "integer"
        },
        {
         "name": "datetime",
         "rawType": "datetime64[ns]",
         "type": "datetime"
        },
        {
         "name": "exog_1",
         "rawType": "float64",
         "type": "float"
        },
        {
         "name": "exog_2",
         "rawType": "category",
         "type": "unknown"
        },
        {
         "name": "exog_3",
         "rawType": "int32",
         "type": "integer"
        },
        {
         "name": "series",
         "rawType": "category",
         "type": "unknown"
        }
       ],
       "conversionMethod": "pd.DataFrame",
       "ref": "bd5d12b2-b98e-49cc-8b83-6bd519cba42f",
       "rows": [
        [
         "0",
         "2000-01-01 00:00:00",
         "1.0824335158071665",
         "C",
         "2",
         "series_1"
        ],
        [
         "1",
         "2000-01-02 00:00:00",
         "0.07714312881422186",
         "B",
         "2",
         "series_1"
        ],
        [
         "2",
         "2000-01-03 00:00:00",
         "1.6043048556491846",
         "B",
         "1",
         "series_1"
        ],
        [
         "3",
         "2000-01-04 00:00:00",
         "-1.8112039743747628",
         "A",
         "3",
         "series_1"
        ],
        [
         "4",
         "2000-01-05 00:00:00",
         "0.12476254384793446",
         "A",
         "7",
         "series_1"
        ],
        [
         "6",
         "2000-01-07 00:00:00",
         "0.34264652556746994",
         "A",
         "7",
         "series_1"
        ],
        [
         "7",
         "2000-01-08 00:00:00",
         "-1.21127897183344",
         "A",
         "0",
         "series_1"
        ],
        [
         "8",
         "2000-01-09 00:00:00",
         "-0.744761149999197",
         "B",
         "5",
         "series_1"
        ],
        [
         "9",
         "2000-01-10 00:00:00",
         "1.0569539051851597",
         "C",
         "9",
         "series_1"
        ],
        [
         "10",
         "2000-01-01 00:00:00",
         "-0.16732463085155894",
         "A",
         "1",
         "series_2"
        ],
        [
         "11",
         "2000-01-02 00:00:00",
         "0.5364754693899145",
         "A",
         "9",
         "series_2"
        ],
        [
         "12",
         "2000-01-03 00:00:00",
         "-0.3462556676176528",
         "A",
         "4",
         "series_2"
        ],
        [
         "13",
         "2000-01-04 00:00:00",
         "0.4615101003140762",
         "B",
         "1",
         "series_2"
        ],
        [
         "14",
         "2000-01-05 00:00:00",
         "-0.006682381019381867",
         "B",
         "1",
         "series_2"
        ],
        [
         "15",
         "2000-01-06 00:00:00",
         "0.7571458805912484",
         "A",
         "6",
         "series_2"
        ],
        [
         "16",
         "2000-01-07 00:00:00",
         "-1.1525314545537015",
         "B",
         "8",
         "series_2"
        ],
        [
         "17",
         "2000-01-08 00:00:00",
         "-0.1510698175350717",
         "A",
         "8",
         "series_2"
        ],
        [
         "18",
         "2000-01-09 00:00:00",
         "0.018194297632894242",
         "B",
         "9",
         "series_2"
        ],
        [
         "19",
         "2000-01-10 00:00:00",
         "0.36238323808060485",
         "A",
         "3",
         "series_2"
        ]
       ],
       "shape": {
        "columns": 5,
        "rows": 19
       }
      },
      "text/html": [
       "<div>\n",
       "<style scoped>\n",
       "    .dataframe tbody tr th:only-of-type {\n",
       "        vertical-align: middle;\n",
       "    }\n",
       "\n",
       "    .dataframe tbody tr th {\n",
       "        vertical-align: top;\n",
       "    }\n",
       "\n",
       "    .dataframe thead th {\n",
       "        text-align: right;\n",
       "    }\n",
       "</style>\n",
       "<table border=\"1\" class=\"dataframe\">\n",
       "  <thead>\n",
       "    <tr style=\"text-align: right;\">\n",
       "      <th></th>\n",
       "      <th>datetime</th>\n",
       "      <th>exog_1</th>\n",
       "      <th>exog_2</th>\n",
       "      <th>exog_3</th>\n",
       "      <th>series</th>\n",
       "    </tr>\n",
       "  </thead>\n",
       "  <tbody>\n",
       "    <tr>\n",
       "      <th>0</th>\n",
       "      <td>2000-01-01</td>\n",
       "      <td>1.082434</td>\n",
       "      <td>C</td>\n",
       "      <td>2</td>\n",
       "      <td>series_1</td>\n",
       "    </tr>\n",
       "    <tr>\n",
       "      <th>1</th>\n",
       "      <td>2000-01-02</td>\n",
       "      <td>0.077143</td>\n",
       "      <td>B</td>\n",
       "      <td>2</td>\n",
       "      <td>series_1</td>\n",
       "    </tr>\n",
       "    <tr>\n",
       "      <th>2</th>\n",
       "      <td>2000-01-03</td>\n",
       "      <td>1.604305</td>\n",
       "      <td>B</td>\n",
       "      <td>1</td>\n",
       "      <td>series_1</td>\n",
       "    </tr>\n",
       "    <tr>\n",
       "      <th>3</th>\n",
       "      <td>2000-01-04</td>\n",
       "      <td>-1.811204</td>\n",
       "      <td>A</td>\n",
       "      <td>3</td>\n",
       "      <td>series_1</td>\n",
       "    </tr>\n",
       "    <tr>\n",
       "      <th>4</th>\n",
       "      <td>2000-01-05</td>\n",
       "      <td>0.124763</td>\n",
       "      <td>A</td>\n",
       "      <td>7</td>\n",
       "      <td>series_1</td>\n",
       "    </tr>\n",
       "    <tr>\n",
       "      <th>6</th>\n",
       "      <td>2000-01-07</td>\n",
       "      <td>0.342647</td>\n",
       "      <td>A</td>\n",
       "      <td>7</td>\n",
       "      <td>series_1</td>\n",
       "    </tr>\n",
       "    <tr>\n",
       "      <th>7</th>\n",
       "      <td>2000-01-08</td>\n",
       "      <td>-1.211279</td>\n",
       "      <td>A</td>\n",
       "      <td>0</td>\n",
       "      <td>series_1</td>\n",
       "    </tr>\n",
       "    <tr>\n",
       "      <th>8</th>\n",
       "      <td>2000-01-09</td>\n",
       "      <td>-0.744761</td>\n",
       "      <td>B</td>\n",
       "      <td>5</td>\n",
       "      <td>series_1</td>\n",
       "    </tr>\n",
       "    <tr>\n",
       "      <th>9</th>\n",
       "      <td>2000-01-10</td>\n",
       "      <td>1.056954</td>\n",
       "      <td>C</td>\n",
       "      <td>9</td>\n",
       "      <td>series_1</td>\n",
       "    </tr>\n",
       "    <tr>\n",
       "      <th>10</th>\n",
       "      <td>2000-01-01</td>\n",
       "      <td>-0.167325</td>\n",
       "      <td>A</td>\n",
       "      <td>1</td>\n",
       "      <td>series_2</td>\n",
       "    </tr>\n",
       "    <tr>\n",
       "      <th>11</th>\n",
       "      <td>2000-01-02</td>\n",
       "      <td>0.536475</td>\n",
       "      <td>A</td>\n",
       "      <td>9</td>\n",
       "      <td>series_2</td>\n",
       "    </tr>\n",
       "    <tr>\n",
       "      <th>12</th>\n",
       "      <td>2000-01-03</td>\n",
       "      <td>-0.346256</td>\n",
       "      <td>A</td>\n",
       "      <td>4</td>\n",
       "      <td>series_2</td>\n",
       "    </tr>\n",
       "    <tr>\n",
       "      <th>13</th>\n",
       "      <td>2000-01-04</td>\n",
       "      <td>0.461510</td>\n",
       "      <td>B</td>\n",
       "      <td>1</td>\n",
       "      <td>series_2</td>\n",
       "    </tr>\n",
       "    <tr>\n",
       "      <th>14</th>\n",
       "      <td>2000-01-05</td>\n",
       "      <td>-0.006682</td>\n",
       "      <td>B</td>\n",
       "      <td>1</td>\n",
       "      <td>series_2</td>\n",
       "    </tr>\n",
       "    <tr>\n",
       "      <th>15</th>\n",
       "      <td>2000-01-06</td>\n",
       "      <td>0.757146</td>\n",
       "      <td>A</td>\n",
       "      <td>6</td>\n",
       "      <td>series_2</td>\n",
       "    </tr>\n",
       "    <tr>\n",
       "      <th>16</th>\n",
       "      <td>2000-01-07</td>\n",
       "      <td>-1.152531</td>\n",
       "      <td>B</td>\n",
       "      <td>8</td>\n",
       "      <td>series_2</td>\n",
       "    </tr>\n",
       "    <tr>\n",
       "      <th>17</th>\n",
       "      <td>2000-01-08</td>\n",
       "      <td>-0.151070</td>\n",
       "      <td>A</td>\n",
       "      <td>8</td>\n",
       "      <td>series_2</td>\n",
       "    </tr>\n",
       "    <tr>\n",
       "      <th>18</th>\n",
       "      <td>2000-01-09</td>\n",
       "      <td>0.018194</td>\n",
       "      <td>B</td>\n",
       "      <td>9</td>\n",
       "      <td>series_2</td>\n",
       "    </tr>\n",
       "    <tr>\n",
       "      <th>19</th>\n",
       "      <td>2000-01-10</td>\n",
       "      <td>0.362383</td>\n",
       "      <td>A</td>\n",
       "      <td>3</td>\n",
       "      <td>series_2</td>\n",
       "    </tr>\n",
       "  </tbody>\n",
       "</table>\n",
       "</div>"
      ],
      "text/plain": [
       "     datetime    exog_1 exog_2  exog_3    series\n",
       "0  2000-01-01  1.082434      C       2  series_1\n",
       "1  2000-01-02  0.077143      B       2  series_1\n",
       "2  2000-01-03  1.604305      B       1  series_1\n",
       "3  2000-01-04 -1.811204      A       3  series_1\n",
       "4  2000-01-05  0.124763      A       7  series_1\n",
       "6  2000-01-07  0.342647      A       7  series_1\n",
       "7  2000-01-08 -1.211279      A       0  series_1\n",
       "8  2000-01-09 -0.744761      B       5  series_1\n",
       "9  2000-01-10  1.056954      C       9  series_1\n",
       "10 2000-01-01 -0.167325      A       1  series_2\n",
       "11 2000-01-02  0.536475      A       9  series_2\n",
       "12 2000-01-03 -0.346256      A       4  series_2\n",
       "13 2000-01-04  0.461510      B       1  series_2\n",
       "14 2000-01-05 -0.006682      B       1  series_2\n",
       "15 2000-01-06  0.757146      A       6  series_2\n",
       "16 2000-01-07 -1.152531      B       8  series_2\n",
       "17 2000-01-08 -0.151070      A       8  series_2\n",
       "18 2000-01-09  0.018194      B       9  series_2\n",
       "19 2000-01-10  0.362383      A       3  series_2"
      ]
     },
     "execution_count": 10,
     "metadata": {},
     "output_type": "execute_result"
    }
   ],
   "source": [
    "exog_long"
   ]
  },
  {
   "cell_type": "code",
   "execution_count": 9,
   "metadata": {},
   "outputs": [
    {
     "data": {
      "text/plain": [
       "exog_1     float64\n",
       "exog_2    category\n",
       "exog_3     float64\n",
       "dtype: object"
      ]
     },
     "execution_count": 9,
     "metadata": {},
     "output_type": "execute_result"
    }
   ],
   "source": [
    "exog_dict['series_1'].dtypes"
   ]
  },
  {
   "cell_type": "code",
   "execution_count": null,
   "metadata": {},
   "outputs": [],
   "source": []
  }
 ],
 "metadata": {
  "kernelspec": {
   "display_name": "skforecast_py11_2",
   "language": "python",
   "name": "python3"
  },
  "language_info": {
   "codemirror_mode": {
    "name": "ipython",
    "version": 3
   },
   "file_extension": ".py",
   "mimetype": "text/x-python",
   "name": "python",
   "nbconvert_exporter": "python",
   "pygments_lexer": "ipython3",
   "version": "3.11.10"
  },
  "orig_nbformat": 4
 },
 "nbformat": 4,
 "nbformat_minor": 2
}
