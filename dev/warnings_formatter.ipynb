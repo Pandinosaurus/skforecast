{
 "cells": [
  {
   "cell_type": "code",
   "execution_count": 1,
   "metadata": {},
   "outputs": [
    {
     "name": "stdout",
     "output_type": "stream",
     "text": [
      "/home/ubuntu/varios/skforecast\n"
     ]
    }
   ],
   "source": [
    "%load_ext autoreload\n",
    "%autoreload 2\n",
    "import sys\n",
    "from pathlib import Path\n",
    "path = str(Path.cwd().parent)\n",
    "print(path)\n",
    "sys.path.insert(1, path)"
   ]
  },
  {
   "cell_type": "code",
   "execution_count": 2,
   "metadata": {},
   "outputs": [],
   "source": [
    "import warnings\n",
    "from rich.console import Console\n",
    "from rich.panel import Panel\n",
    "from rich.text import Text\n",
    "\n",
    "# Initialize a console for rich output\n",
    "\n",
    "\n",
    "class MissingValuesWarning(UserWarning):\n",
    "    \"\"\"\n",
    "    Warning used to indicate that there are missing values in the data. This \n",
    "    warning occurs when the input data contains missing values, or the training\n",
    "    matrix generates missing values. Most machine learning models do not accept\n",
    "    missing values, so the Forecaster's `fit` and `predict` methods may fail.\n",
    "    \"\"\"\n",
    "    def __init__(self, message):\n",
    "        self.message = message\n",
    "\n",
    "    def __str__(self):\n",
    "        extra_message = (\n",
    "            \"\\nYou can suppress this warning using: \"\n",
    "            \"warnings.simplefilter('ignore', category=MissingValuesWarning)\"\n",
    "        )\n",
    "        return self.message + \" \" + extra_message\n",
    "    \n",
    "\n",
    "class OneStepAheadValidationWarning(UserWarning):\n",
    "    \"\"\"\n",
    "    Warning used to notify that the one-step-ahead validation is being used.\n",
    "    \"\"\"\n",
    "    def __init__(self, message):\n",
    "        self.message = message\n",
    "\n",
    "    def __str__(self):\n",
    "        extra_message = (\n",
    "            \"\\n You can suppress this warning using: \"\n",
    "            \"warnings.simplefilter('ignore', category=OneStepAheadValidationWarning)\"\n",
    "        )\n",
    "        return self.message + \" \" + extra_message\n",
    "    \n",
    "\n",
    "if not hasattr(warnings, \"_original_showwarning\"):\n",
    "    warnings._original_showwarning = warnings.showwarning\n",
    "\n",
    "def rich_warning_handler(message, category, filename, lineno, file=None, line=None):\n",
    "    \"\"\"\n",
    "    Custom handler for warnings that uses rich to display formatted panels.\n",
    "    \"\"\"\n",
    "    if isinstance(message, (MissingValuesWarning, OneStepAheadValidationWarning)):\n",
    "        console = Console()\n",
    "        panel = Panel(\n",
    "            Text(\n",
    "                f\"{message}\\n\\nCategory: {category.__name__}\\nLocation: {filename}:{lineno}\",\n",
    "                justify=\"left\",\n",
    "            ),\n",
    "            title=category.__name__,\n",
    "            title_align=\"center\",\n",
    "            border_style=\"color(214)\",\n",
    "            width=88,\n",
    "        )\n",
    "        console.print(panel)\n",
    "    else:\n",
    "        # Fallback to default Python warning formatting\n",
    "        warnings._original_showwarning(message, category, filename, lineno, file, line)\n",
    "\n",
    "warnings.showwarning = rich_warning_handler"
   ]
  },
  {
   "cell_type": "code",
   "execution_count": 3,
   "metadata": {},
   "outputs": [],
   "source": [
    "# warnings.simplefilter('ignore', category=OneStepAheadValidationWarning) "
   ]
  },
  {
   "cell_type": "code",
   "execution_count": 4,
   "metadata": {},
   "outputs": [
    {
     "data": {
      "text/html": [
       "<pre style=\"white-space:pre;overflow-x:auto;line-height:normal;font-family:Menlo,'DejaVu Sans Mono',consolas,'Courier New',monospace\"><span style=\"color: #ffaf00; text-decoration-color: #ffaf00\">╭─────────────────────────── OneStepAheadValidationWarning ────────────────────────────╮</span>\n",
       "<span style=\"color: #ffaf00; text-decoration-color: #ffaf00\">│</span> The input data contains missing values. Consider imputing them before proceeding.    <span style=\"color: #ffaf00; text-decoration-color: #ffaf00\">│</span>\n",
       "<span style=\"color: #ffaf00; text-decoration-color: #ffaf00\">│</span>  You can suppress this warning using: warnings.simplefilter('ignore',                <span style=\"color: #ffaf00; text-decoration-color: #ffaf00\">│</span>\n",
       "<span style=\"color: #ffaf00; text-decoration-color: #ffaf00\">│</span> category=OneStepAheadValidationWarning)                                              <span style=\"color: #ffaf00; text-decoration-color: #ffaf00\">│</span>\n",
       "<span style=\"color: #ffaf00; text-decoration-color: #ffaf00\">│</span>                                                                                      <span style=\"color: #ffaf00; text-decoration-color: #ffaf00\">│</span>\n",
       "<span style=\"color: #ffaf00; text-decoration-color: #ffaf00\">│</span> Category: OneStepAheadValidationWarning                                              <span style=\"color: #ffaf00; text-decoration-color: #ffaf00\">│</span>\n",
       "<span style=\"color: #ffaf00; text-decoration-color: #ffaf00\">│</span> Location: /tmp/ipykernel_6324/79207913.py:2                                          <span style=\"color: #ffaf00; text-decoration-color: #ffaf00\">│</span>\n",
       "<span style=\"color: #ffaf00; text-decoration-color: #ffaf00\">╰──────────────────────────────────────────────────────────────────────────────────────╯</span>\n",
       "</pre>\n"
      ],
      "text/plain": [
       "\u001b[38;5;214m╭─\u001b[0m\u001b[38;5;214m──────────────────────────\u001b[0m\u001b[38;5;214m OneStepAheadValidationWarning \u001b[0m\u001b[38;5;214m───────────────────────────\u001b[0m\u001b[38;5;214m─╮\u001b[0m\n",
       "\u001b[38;5;214m│\u001b[0m The input data contains missing values. Consider imputing them before proceeding.    \u001b[38;5;214m│\u001b[0m\n",
       "\u001b[38;5;214m│\u001b[0m  You can suppress this warning using: warnings.simplefilter('ignore',                \u001b[38;5;214m│\u001b[0m\n",
       "\u001b[38;5;214m│\u001b[0m category=OneStepAheadValidationWarning)                                              \u001b[38;5;214m│\u001b[0m\n",
       "\u001b[38;5;214m│\u001b[0m                                                                                      \u001b[38;5;214m│\u001b[0m\n",
       "\u001b[38;5;214m│\u001b[0m Category: OneStepAheadValidationWarning                                              \u001b[38;5;214m│\u001b[0m\n",
       "\u001b[38;5;214m│\u001b[0m Location: /tmp/ipykernel_6324/79207913.py:2                                          \u001b[38;5;214m│\u001b[0m\n",
       "\u001b[38;5;214m╰──────────────────────────────────────────────────────────────────────────────────────╯\u001b[0m\n"
      ]
     },
     "metadata": {},
     "output_type": "display_data"
    },
    {
     "name": "stderr",
     "output_type": "stream",
     "text": [
      "/tmp/ipykernel_6324/79207913.py:7: RuntimeWarning: The input data contains missing values. Consider imputing them before proceeding.\n",
      "  warnings.warn(\"The input data contains missing values. Consider imputing them before proceeding.\", category=RuntimeWarning)\n"
     ]
    }
   ],
   "source": [
    "# Example usage\n",
    "warnings.warn(\n",
    "        \"The input data contains missing values. Consider imputing them before proceeding.\",\n",
    "        OneStepAheadValidationWarning\n",
    "\n",
    ")\n",
    "warnings.warn(\"The input data contains missing values. Consider imputing them before proceeding.\", category=RuntimeWarning)\n"
   ]
  },
  {
   "cell_type": "code",
   "execution_count": 5,
   "metadata": {},
   "outputs": [
    {
     "ename": "AttributeError",
     "evalue": "'MissingValuesWarning' object has no attribute 'expandtabs'",
     "output_type": "error",
     "traceback": [
      "\u001b[0;31m---------------------------------------------------------------------------\u001b[0m",
      "\u001b[0;31mAttributeError\u001b[0m                            Traceback (most recent call last)",
      "Cell \u001b[0;32mIn[5], line 57\u001b[0m\n\u001b[1;32m     47\u001b[0m warnings\u001b[38;5;241m.\u001b[39mshowwarning \u001b[38;5;241m=\u001b[39m format_warning_handler\n\u001b[1;32m     52\u001b[0m \u001b[38;5;66;03m# Example of using the function\u001b[39;00m\n\u001b[1;32m     53\u001b[0m \u001b[38;5;66;03m# warning_message = \"This is a warning message that will be wrapped, justified, and placed inside a rectangle box with smooth rounded corners for better readability.\"\u001b[39;00m\n\u001b[1;32m     54\u001b[0m \u001b[38;5;66;03m# category = \"skfosssssngsss\"\u001b[39;00m\n\u001b[1;32m     55\u001b[0m \u001b[38;5;66;03m# print_warning_with_integrated_title(warning_message, category)\u001b[39;00m\n\u001b[0;32m---> 57\u001b[0m \u001b[43mwarnings\u001b[49m\u001b[38;5;241;43m.\u001b[39;49m\u001b[43mwarn\u001b[49m\u001b[43m(\u001b[49m\u001b[38;5;124;43m\"\u001b[39;49m\u001b[38;5;124;43mdsañlkngfmnñavfm`vadmko asioasdkigfmn aidsjgam`n aoidsjfadnmf aìdsìfIJS aiodjf\u001b[39;49m\u001b[38;5;124;43m\"\u001b[39;49m\u001b[43m,\u001b[49m\u001b[43m \u001b[49m\u001b[43mMissingValuesWarning\u001b[49m\u001b[43m)\u001b[49m\n",
      "File \u001b[0;32m~/anaconda3/envs/skforecast_14_py12/lib/python3.12/warnings.py:112\u001b[0m, in \u001b[0;36m_showwarnmsg\u001b[0;34m(msg)\u001b[0m\n\u001b[1;32m    108\u001b[0m         \u001b[38;5;28;01mif\u001b[39;00m \u001b[38;5;129;01mnot\u001b[39;00m \u001b[38;5;28mcallable\u001b[39m(sw):\n\u001b[1;32m    109\u001b[0m             \u001b[38;5;28;01mraise\u001b[39;00m \u001b[38;5;167;01mTypeError\u001b[39;00m(\u001b[38;5;124m\"\u001b[39m\u001b[38;5;124mwarnings.showwarning() must be set to a \u001b[39m\u001b[38;5;124m\"\u001b[39m\n\u001b[1;32m    110\u001b[0m                             \u001b[38;5;124m\"\u001b[39m\u001b[38;5;124mfunction or method\u001b[39m\u001b[38;5;124m\"\u001b[39m)\n\u001b[0;32m--> 112\u001b[0m         \u001b[43msw\u001b[49m\u001b[43m(\u001b[49m\u001b[43mmsg\u001b[49m\u001b[38;5;241;43m.\u001b[39;49m\u001b[43mmessage\u001b[49m\u001b[43m,\u001b[49m\u001b[43m \u001b[49m\u001b[43mmsg\u001b[49m\u001b[38;5;241;43m.\u001b[39;49m\u001b[43mcategory\u001b[49m\u001b[43m,\u001b[49m\u001b[43m \u001b[49m\u001b[43mmsg\u001b[49m\u001b[38;5;241;43m.\u001b[39;49m\u001b[43mfilename\u001b[49m\u001b[43m,\u001b[49m\u001b[43m \u001b[49m\u001b[43mmsg\u001b[49m\u001b[38;5;241;43m.\u001b[39;49m\u001b[43mlineno\u001b[49m\u001b[43m,\u001b[49m\n\u001b[1;32m    113\u001b[0m \u001b[43m           \u001b[49m\u001b[43mmsg\u001b[49m\u001b[38;5;241;43m.\u001b[39;49m\u001b[43mfile\u001b[49m\u001b[43m,\u001b[49m\u001b[43m \u001b[49m\u001b[43mmsg\u001b[49m\u001b[38;5;241;43m.\u001b[39;49m\u001b[43mline\u001b[49m\u001b[43m)\u001b[49m\n\u001b[1;32m    114\u001b[0m         \u001b[38;5;28;01mreturn\u001b[39;00m\n\u001b[1;32m    115\u001b[0m _showwarnmsg_impl(msg)\n",
      "Cell \u001b[0;32mIn[5], line 14\u001b[0m, in \u001b[0;36mformat_warning_handler\u001b[0;34m(message, category, filename, lineno, file, line)\u001b[0m\n\u001b[1;32m     12\u001b[0m output_text \u001b[38;5;241m=\u001b[39m [\u001b[38;5;124m\"\u001b[39m\u001b[38;5;130;01m\\n\u001b[39;00m\u001b[38;5;124m\"\u001b[39m]\n\u001b[1;32m     13\u001b[0m \u001b[38;5;66;03m# Justify the text, leaving space for the left and right borders\u001b[39;00m\n\u001b[0;32m---> 14\u001b[0m wrapped_message \u001b[38;5;241m=\u001b[39m \u001b[43mtextwrap\u001b[49m\u001b[38;5;241;43m.\u001b[39;49m\u001b[43mfill\u001b[49m\u001b[43m(\u001b[49m\u001b[43mmessage\u001b[49m\u001b[43m,\u001b[49m\u001b[43m \u001b[49m\u001b[43mwidth\u001b[49m\u001b[38;5;241;43m=\u001b[39;49m\u001b[43mwidth\u001b[49m\u001b[43m \u001b[49m\u001b[38;5;241;43m-\u001b[39;49m\u001b[43m \u001b[49m\u001b[38;5;241;43m2\u001b[39;49m\u001b[43m)\u001b[49m\n\u001b[1;32m     16\u001b[0m \u001b[38;5;66;03m# Adjust the width for the title and integrate it into the top border\u001b[39;00m\n\u001b[1;32m     17\u001b[0m title_length \u001b[38;5;241m=\u001b[39m \u001b[38;5;28mlen\u001b[39m(title)\n",
      "File \u001b[0;32m~/anaconda3/envs/skforecast_14_py12/lib/python3.12/textwrap.py:396\u001b[0m, in \u001b[0;36mfill\u001b[0;34m(text, width, **kwargs)\u001b[0m\n\u001b[1;32m    387\u001b[0m \u001b[38;5;250m\u001b[39m\u001b[38;5;124;03m\"\"\"Fill a single paragraph of text, returning a new string.\u001b[39;00m\n\u001b[1;32m    388\u001b[0m \n\u001b[1;32m    389\u001b[0m \u001b[38;5;124;03mReformat the single paragraph in 'text' to fit in lines of no more\u001b[39;00m\n\u001b[0;32m   (...)\u001b[0m\n\u001b[1;32m    393\u001b[0m \u001b[38;5;124;03mavailable keyword args to customize wrapping behaviour.\u001b[39;00m\n\u001b[1;32m    394\u001b[0m \u001b[38;5;124;03m\"\"\"\u001b[39;00m\n\u001b[1;32m    395\u001b[0m w \u001b[38;5;241m=\u001b[39m TextWrapper(width\u001b[38;5;241m=\u001b[39mwidth, \u001b[38;5;241m*\u001b[39m\u001b[38;5;241m*\u001b[39mkwargs)\n\u001b[0;32m--> 396\u001b[0m \u001b[38;5;28;01mreturn\u001b[39;00m \u001b[43mw\u001b[49m\u001b[38;5;241;43m.\u001b[39;49m\u001b[43mfill\u001b[49m\u001b[43m(\u001b[49m\u001b[43mtext\u001b[49m\u001b[43m)\u001b[49m\n",
      "File \u001b[0;32m~/anaconda3/envs/skforecast_14_py12/lib/python3.12/textwrap.py:368\u001b[0m, in \u001b[0;36mTextWrapper.fill\u001b[0;34m(self, text)\u001b[0m\n\u001b[1;32m    361\u001b[0m \u001b[38;5;28;01mdef\u001b[39;00m \u001b[38;5;21mfill\u001b[39m(\u001b[38;5;28mself\u001b[39m, text):\n\u001b[1;32m    362\u001b[0m \u001b[38;5;250m    \u001b[39m\u001b[38;5;124;03m\"\"\"fill(text : string) -> string\u001b[39;00m\n\u001b[1;32m    363\u001b[0m \n\u001b[1;32m    364\u001b[0m \u001b[38;5;124;03m    Reformat the single paragraph in 'text' to fit in lines of no\u001b[39;00m\n\u001b[1;32m    365\u001b[0m \u001b[38;5;124;03m    more than 'self.width' columns, and return a new string\u001b[39;00m\n\u001b[1;32m    366\u001b[0m \u001b[38;5;124;03m    containing the entire wrapped paragraph.\u001b[39;00m\n\u001b[1;32m    367\u001b[0m \u001b[38;5;124;03m    \"\"\"\u001b[39;00m\n\u001b[0;32m--> 368\u001b[0m     \u001b[38;5;28;01mreturn\u001b[39;00m \u001b[38;5;124m\"\u001b[39m\u001b[38;5;130;01m\\n\u001b[39;00m\u001b[38;5;124m\"\u001b[39m\u001b[38;5;241m.\u001b[39mjoin(\u001b[38;5;28;43mself\u001b[39;49m\u001b[38;5;241;43m.\u001b[39;49m\u001b[43mwrap\u001b[49m\u001b[43m(\u001b[49m\u001b[43mtext\u001b[49m\u001b[43m)\u001b[49m)\n",
      "File \u001b[0;32m~/anaconda3/envs/skforecast_14_py12/lib/python3.12/textwrap.py:356\u001b[0m, in \u001b[0;36mTextWrapper.wrap\u001b[0;34m(self, text)\u001b[0m\n\u001b[1;32m    347\u001b[0m \u001b[38;5;28;01mdef\u001b[39;00m \u001b[38;5;21mwrap\u001b[39m(\u001b[38;5;28mself\u001b[39m, text):\n\u001b[1;32m    348\u001b[0m \u001b[38;5;250m    \u001b[39m\u001b[38;5;124;03m\"\"\"wrap(text : string) -> [string]\u001b[39;00m\n\u001b[1;32m    349\u001b[0m \n\u001b[1;32m    350\u001b[0m \u001b[38;5;124;03m    Reformat the single paragraph in 'text' so it fits in lines of\u001b[39;00m\n\u001b[0;32m   (...)\u001b[0m\n\u001b[1;32m    354\u001b[0m \u001b[38;5;124;03m    converted to space.\u001b[39;00m\n\u001b[1;32m    355\u001b[0m \u001b[38;5;124;03m    \"\"\"\u001b[39;00m\n\u001b[0;32m--> 356\u001b[0m     chunks \u001b[38;5;241m=\u001b[39m \u001b[38;5;28;43mself\u001b[39;49m\u001b[38;5;241;43m.\u001b[39;49m\u001b[43m_split_chunks\u001b[49m\u001b[43m(\u001b[49m\u001b[43mtext\u001b[49m\u001b[43m)\u001b[49m\n\u001b[1;32m    357\u001b[0m     \u001b[38;5;28;01mif\u001b[39;00m \u001b[38;5;28mself\u001b[39m\u001b[38;5;241m.\u001b[39mfix_sentence_endings:\n\u001b[1;32m    358\u001b[0m         \u001b[38;5;28mself\u001b[39m\u001b[38;5;241m.\u001b[39m_fix_sentence_endings(chunks)\n",
      "File \u001b[0;32m~/anaconda3/envs/skforecast_14_py12/lib/python3.12/textwrap.py:342\u001b[0m, in \u001b[0;36mTextWrapper._split_chunks\u001b[0;34m(self, text)\u001b[0m\n\u001b[1;32m    341\u001b[0m \u001b[38;5;28;01mdef\u001b[39;00m \u001b[38;5;21m_split_chunks\u001b[39m(\u001b[38;5;28mself\u001b[39m, text):\n\u001b[0;32m--> 342\u001b[0m     text \u001b[38;5;241m=\u001b[39m \u001b[38;5;28;43mself\u001b[39;49m\u001b[38;5;241;43m.\u001b[39;49m\u001b[43m_munge_whitespace\u001b[49m\u001b[43m(\u001b[49m\u001b[43mtext\u001b[49m\u001b[43m)\u001b[49m\n\u001b[1;32m    343\u001b[0m     \u001b[38;5;28;01mreturn\u001b[39;00m \u001b[38;5;28mself\u001b[39m\u001b[38;5;241m.\u001b[39m_split(text)\n",
      "File \u001b[0;32m~/anaconda3/envs/skforecast_14_py12/lib/python3.12/textwrap.py:151\u001b[0m, in \u001b[0;36mTextWrapper._munge_whitespace\u001b[0;34m(self, text)\u001b[0m\n\u001b[1;32m    144\u001b[0m \u001b[38;5;250m\u001b[39m\u001b[38;5;124;03m\"\"\"_munge_whitespace(text : string) -> string\u001b[39;00m\n\u001b[1;32m    145\u001b[0m \n\u001b[1;32m    146\u001b[0m \u001b[38;5;124;03mMunge whitespace in text: expand tabs and convert all other\u001b[39;00m\n\u001b[1;32m    147\u001b[0m \u001b[38;5;124;03mwhitespace characters to spaces.  Eg. \" foo\\\\tbar\\\\n\\\\nbaz\"\u001b[39;00m\n\u001b[1;32m    148\u001b[0m \u001b[38;5;124;03mbecomes \" foo    bar  baz\".\u001b[39;00m\n\u001b[1;32m    149\u001b[0m \u001b[38;5;124;03m\"\"\"\u001b[39;00m\n\u001b[1;32m    150\u001b[0m \u001b[38;5;28;01mif\u001b[39;00m \u001b[38;5;28mself\u001b[39m\u001b[38;5;241m.\u001b[39mexpand_tabs:\n\u001b[0;32m--> 151\u001b[0m     text \u001b[38;5;241m=\u001b[39m \u001b[43mtext\u001b[49m\u001b[38;5;241;43m.\u001b[39;49m\u001b[43mexpandtabs\u001b[49m(\u001b[38;5;28mself\u001b[39m\u001b[38;5;241m.\u001b[39mtabsize)\n\u001b[1;32m    152\u001b[0m \u001b[38;5;28;01mif\u001b[39;00m \u001b[38;5;28mself\u001b[39m\u001b[38;5;241m.\u001b[39mreplace_whitespace:\n\u001b[1;32m    153\u001b[0m     text \u001b[38;5;241m=\u001b[39m text\u001b[38;5;241m.\u001b[39mtranslate(\u001b[38;5;28mself\u001b[39m\u001b[38;5;241m.\u001b[39municode_whitespace_trans)\n",
      "\u001b[0;31mAttributeError\u001b[0m: 'MissingValuesWarning' object has no attribute 'expandtabs'"
     ]
    }
   ],
   "source": [
    "import warnings\n",
    "import textwrap\n",
    "\n",
    "if not hasattr(warnings, \"_original_showwarning\"):\n",
    "    warnings._original_showwarning = warnings.showwarning\n",
    "\n",
    "def format_warning_handler(message, category, filename, lineno, file=None, line=None):\n",
    "\n",
    "    if isinstance(message, (MissingValuesWarning, OneStepAheadValidationWarning)):\n",
    "        width = 80\n",
    "        title = type(message).__name__\n",
    "        output_text = [\"\\n\"]\n",
    "        # Justify the text, leaving space for the left and right borders\n",
    "        wrapped_message = textwrap.fill(message, width=width - 2)\n",
    "\n",
    "        # Adjust the width for the title and integrate it into the top border\n",
    "        title_length = len(title)\n",
    "        if title_length < width - 2:\n",
    "            # Add padding for the title to center it within the top border\n",
    "            left_padding = (width - 2 - title_length) // 2\n",
    "            right_padding = width - title_length - left_padding\n",
    "\n",
    "        # Construct the top border with title integrated\n",
    "        title_top_border = f\"╭{'─' * left_padding} {title} {'─' * right_padding}╮\"\n",
    "\n",
    "        # Construct the bottom border\n",
    "        bottom_border = f\"╰{'─' * (width)}╯\"\n",
    "\n",
    "        # Print the top border\n",
    "        output_text.append(title_top_border)\n",
    "\n",
    "        # Print the wrapped text inside the box\n",
    "        for line in wrapped_message.split('\\n'):\n",
    "            output_text.append(f\"│ {line.ljust(width - 2)} │\")\n",
    "\n",
    "        # Print the bottom border\n",
    "        output_text.append(bottom_border)\n",
    "\n",
    "        output_text = \"\\n\".join(output_text)\n",
    "\n",
    "        print(output_text)\n",
    "\n",
    "    else:\n",
    "        warnings._original_showwarning(message, category, filename, lineno, file=None, line=None)\n",
    "\n",
    "\n",
    "warnings.showwarning = format_warning_handler\n",
    "\n",
    "\n",
    "\n",
    "\n",
    "# Example of using the function\n",
    "# warning_message = \"This is a warning message that will be wrapped, justified, and placed inside a rectangle box with smooth rounded corners for better readability.\"\n",
    "# category = \"skfosssssngsss\"\n",
    "# print_warning_with_integrated_title(warning_message, category)\n",
    "\n",
    "warnings.warn(\"dsañlkngfmnñavfm`vadmko asioasdkigfmn aidsjgam`n aoidsjfadnmf aìdsìfIJS aiodjf\", MissingValuesWarning)\n"
   ]
  },
  {
   "cell_type": "code",
   "execution_count": 5,
   "metadata": {},
   "outputs": [
    {
     "name": "stdout",
     "output_type": "stream",
     "text": [
      "╭────────────────────────────────────────────────────────────────────────────────╮\n",
      "│ This is a warning message that will be wrapped, justified, and placed inside a │\n",
      "│ rectangle box with smooth rounded corners for better readability.              │\n",
      "╰────────────────────────────────────────────────────────────────────────────────╯\n"
     ]
    }
   ],
   "source": [
    "import warnings\n",
    "import textwrap\n",
    "\n",
    "def print_warning_with_smooth_rounded_corners(message, width=80):\n",
    "    # Justify the text, but leave space for the left and right borders\n",
    "    wrapped_message = textwrap.fill(message, width=width - 2)\n",
    "\n",
    "    # Calculate the box dimensions with smooth rounded corners\n",
    "    top_border = f\"╭{'─' * (width)}╮\"\n",
    "    bottom_border = f\"╰{'─' * (width)}╯\"\n",
    "\n",
    "    # Print the top border with smooth rounded corners\n",
    "    print(top_border)\n",
    "\n",
    "    # Print the wrapped text inside the box, ensuring uniform borders\n",
    "    for line in wrapped_message.split('\\n'):\n",
    "        print(f\"│ {line.ljust(width - 2)} │\")  # Adjusted to leave space for the borders\n",
    "\n",
    "    # Print the bottom border with smooth rounded corners\n",
    "    print(bottom_border)\n",
    "\n",
    "# Example of using the function\n",
    "warning_message = \"This is a warning message that will be wrapped, justified, and placed inside a rectangle box with smooth rounded corners for better readability.\"\n",
    "print_warning_with_smooth_rounded_corners(warning_message)\n"
   ]
  }
 ],
 "metadata": {
  "kernelspec": {
   "display_name": "skforecast_14_py12",
   "language": "python",
   "name": "python3"
  },
  "language_info": {
   "codemirror_mode": {
    "name": "ipython",
    "version": 3
   },
   "file_extension": ".py",
   "mimetype": "text/x-python",
   "name": "python",
   "nbconvert_exporter": "python",
   "pygments_lexer": "ipython3",
   "version": "3.12.5"
  },
  "orig_nbformat": 4
 },
 "nbformat": 4,
 "nbformat_minor": 2
}
