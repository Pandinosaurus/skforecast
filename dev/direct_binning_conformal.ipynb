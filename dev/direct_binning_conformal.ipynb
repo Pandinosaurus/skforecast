{
 "cells": [
  {
   "cell_type": "code",
   "execution_count": 1,
   "metadata": {},
   "outputs": [
    {
     "name": "stdout",
     "output_type": "stream",
     "text": [
      "c:\\Users\\jaesc2\\GitHub\\skforecast\n"
     ]
    }
   ],
   "source": [
    "%load_ext autoreload\n",
    "%autoreload 2\n",
    "import sys\n",
    "from pathlib import Path\n",
    "path = str(Path.cwd().parent)\n",
    "print(path)\n",
    "sys.path.insert(1, path)"
   ]
  },
  {
   "cell_type": "code",
   "execution_count": 2,
   "metadata": {},
   "outputs": [],
   "source": [
    "import re\n",
    "import pytest\n",
    "import numpy as np\n",
    "import pandas as pd\n",
    "from sklearn.linear_model import LinearRegression\n",
    "from sklearn.compose import ColumnTransformer\n",
    "from sklearn.preprocessing import StandardScaler\n",
    "from sklearn.preprocessing import OneHotEncoder\n",
    "from skforecast.exceptions import ResidualsUsageWarning\n",
    "from skforecast.direct import ForecasterDirectMultiVariate\n",
    "\n",
    "# Fixtures\n",
    "# from skforecast.direct.tests.tests_forecaster_direct.fixtures_forecaster_direct import y\n",
    "# from skforecast.direct.tests.tests_forecaster_direct.fixtures_forecaster_direct import exog, exog_predict\n",
    "from skforecast.direct.tests.tests_forecaster_direct_multivariate.fixtures_forecaster_direct_multivariate import series\n",
    "from skforecast.direct.tests.tests_forecaster_direct_multivariate.fixtures_forecaster_direct_multivariate import exog, exog_predict\n",
    "\n",
    "\n",
    "transformer_exog = ColumnTransformer(\n",
    "                       [('scale', StandardScaler(), ['exog_1']),\n",
    "                        ('onehot', OneHotEncoder(), ['exog_2'])],\n",
    "                       remainder = 'passthrough',\n",
    "                       verbose_feature_names_out = False\n",
    "                   )"
   ]
  },
  {
   "cell_type": "code",
   "execution_count": 17,
   "metadata": {},
   "outputs": [],
   "source": [
    "forecaster = ForecasterDirectMultiVariate(\n",
    "                     regressor          = LinearRegression(),\n",
    "                     level              = 'l1',\n",
    "                     steps              = 3,\n",
    "                     lags               = 3,\n",
    "                     transformer_series = StandardScaler()\n",
    "                 )\n",
    "forecaster.fit(series=series)\n",
    "results = forecaster.predict_interval(\n",
    "    steps=3, method='conformal', interval=0.95, use_binned_residuals=True\n",
    ")"
   ]
  },
  {
   "cell_type": "code",
   "execution_count": 18,
   "metadata": {},
   "outputs": [
    {
     "data": {
      "text/html": [
       "<div>\n",
       "<style scoped>\n",
       "    .dataframe tbody tr th:only-of-type {\n",
       "        vertical-align: middle;\n",
       "    }\n",
       "\n",
       "    .dataframe tbody tr th {\n",
       "        vertical-align: top;\n",
       "    }\n",
       "\n",
       "    .dataframe thead th {\n",
       "        text-align: right;\n",
       "    }\n",
       "</style>\n",
       "<table border=\"1\" class=\"dataframe\">\n",
       "  <thead>\n",
       "    <tr style=\"text-align: right;\">\n",
       "      <th></th>\n",
       "      <th>level</th>\n",
       "      <th>pred</th>\n",
       "      <th>lower_bound</th>\n",
       "      <th>upper_bound</th>\n",
       "    </tr>\n",
       "  </thead>\n",
       "  <tbody>\n",
       "    <tr>\n",
       "      <th>50</th>\n",
       "      <td>l1</td>\n",
       "      <td>0.631143</td>\n",
       "      <td>0.176033</td>\n",
       "      <td>1.086252</td>\n",
       "    </tr>\n",
       "    <tr>\n",
       "      <th>51</th>\n",
       "      <td>l1</td>\n",
       "      <td>0.380042</td>\n",
       "      <td>0.128327</td>\n",
       "      <td>0.631757</td>\n",
       "    </tr>\n",
       "    <tr>\n",
       "      <th>52</th>\n",
       "      <td>l1</td>\n",
       "      <td>0.332560</td>\n",
       "      <td>0.080845</td>\n",
       "      <td>0.584275</td>\n",
       "    </tr>\n",
       "  </tbody>\n",
       "</table>\n",
       "</div>"
      ],
      "text/plain": [
       "   level      pred  lower_bound  upper_bound\n",
       "50    l1  0.631143     0.176033     1.086252\n",
       "51    l1  0.380042     0.128327     0.631757\n",
       "52    l1  0.332560     0.080845     0.584275"
      ]
     },
     "execution_count": 18,
     "metadata": {},
     "output_type": "execute_result"
    }
   ],
   "source": [
    "results"
   ]
  },
  {
   "cell_type": "code",
   "execution_count": 19,
   "metadata": {},
   "outputs": [
    {
     "data": {
      "text/plain": [
       "array([[0.63114259, 0.17603311, 1.08625208],\n",
       "       [0.3800417 , 0.12832655, 0.63175685],\n",
       "       [0.33255977, 0.08084462, 0.58427492]])"
      ]
     },
     "execution_count": 19,
     "metadata": {},
     "output_type": "execute_result"
    }
   ],
   "source": [
    "results[['pred', 'lower_bound', 'upper_bound']].to_numpy()"
   ]
  },
  {
   "cell_type": "code",
   "execution_count": 3,
   "metadata": {},
   "outputs": [],
   "source": [
    "import re\n",
    "import pytest\n",
    "import joblib\n",
    "import numpy as np\n",
    "import pandas as pd\n",
    "from pathlib import Path\n",
    "from lightgbm import LGBMRegressor\n",
    "from sklearn.linear_model import Ridge\n",
    "from sklearn.preprocessing import StandardScaler\n",
    "from sklearn.metrics import mean_absolute_error\n",
    "from scipy.stats import norm\n",
    "\n",
    "from skforecast.exceptions import IgnoredArgumentWarning\n",
    "from skforecast.recursive import ForecasterRecursive\n",
    "from skforecast.recursive import ForecasterRecursiveMultiSeries\n",
    "from skforecast.direct import ForecasterDirectMultiVariate\n",
    "from skforecast.model_selection import backtesting_forecaster_multiseries\n",
    "from skforecast.model_selection._split import TimeSeriesFold\n",
    "from skforecast.preprocessing import RollingFeatures\n",
    "\n",
    "# Fixtures\n",
    "from skforecast.model_selection.tests.fixtures_model_selection_multiseries import series"
   ]
  },
  {
   "cell_type": "code",
   "execution_count": 7,
   "metadata": {},
   "outputs": [
    {
     "data": {
      "application/vnd.jupyter.widget-view+json": {
       "model_id": "4a22a97bc84a4ae09dc6ca4fefecbc7b",
       "version_major": 2,
       "version_minor": 0
      },
      "text/plain": [
       "  0%|          | 0/4 [00:00<?, ?it/s]"
      ]
     },
     "metadata": {},
     "output_type": "display_data"
    }
   ],
   "source": [
    "forecaster = ForecasterDirectMultiVariate(\n",
    "                     regressor          = Ridge(random_state=123),\n",
    "                     level              = 'l1',\n",
    "                     lags               = 3,\n",
    "                     steps              = 5,\n",
    "                     transformer_series = None,\n",
    "                     binner_kwargs      = {'n_bins': 10}\n",
    "                 )\n",
    "    \n",
    "cv = TimeSeriesFold(\n",
    "            initial_train_size = len(series) - 20,\n",
    "            steps              = 5,\n",
    "            refit              = False\n",
    "        )\n",
    "\n",
    "metrics_levels, backtest_predictions = backtesting_forecaster_multiseries(\n",
    "                                            forecaster              = forecaster,\n",
    "                                            series                  = series,\n",
    "                                            cv                      = cv,\n",
    "                                            levels                  = 'l1',\n",
    "                                            metric                  = 'mean_absolute_error',\n",
    "                                            add_aggregated_metric   = False,\n",
    "                                            exog                    = series['l1'].rename('exog_1'),\n",
    "                                            interval                = 0.9,\n",
    "                                            interval_method         = 'conformal',\n",
    "                                            use_in_sample_residuals = True,\n",
    "                                            use_binned_residuals    = True,\n",
    "                                            random_state            = 123,\n",
    "                                            verbose                 = False\n",
    "                                        )"
   ]
  },
  {
   "cell_type": "code",
   "execution_count": 10,
   "metadata": {},
   "outputs": [
    {
     "data": {
      "text/plain": [
       "array([['l1', 0.11916192143057436]], dtype=object)"
      ]
     },
     "execution_count": 10,
     "metadata": {},
     "output_type": "execute_result"
    }
   ],
   "source": [
    "metrics_levels.to_numpy()"
   ]
  },
  {
   "cell_type": "code",
   "execution_count": 12,
   "metadata": {},
   "outputs": [
    {
     "data": {
      "text/plain": [
       "array([[0.36268205, 0.20433986, 0.52102424],\n",
       "       [0.51787041, 0.43620381, 0.599537  ],\n",
       "       [0.52472422, 0.42645324, 0.6229952 ],\n",
       "       [0.59903598, 0.46654146, 0.7315305 ],\n",
       "       [0.50738853, 0.42572194, 0.58905513],\n",
       "       [0.42622724, 0.3313424 , 0.52111209],\n",
       "       [0.47163992, 0.38997332, 0.55330651],\n",
       "       [0.70873165, 0.48281375, 0.93464954],\n",
       "       [0.71565768, 0.48973979, 0.94157557],\n",
       "       [0.49000773, 0.40834113, 0.57167433],\n",
       "       [0.61296286, 0.48046834, 0.74545738],\n",
       "       [0.4031027 , 0.30821786, 0.49798755],\n",
       "       [0.39728743, 0.30240258, 0.49217227],\n",
       "       [0.46010284, 0.37843624, 0.54176944],\n",
       "       [0.63022554, 0.49773102, 0.76272006],\n",
       "       [0.39528807, 0.30040323, 0.49017292],\n",
       "       [0.47347775, 0.39181115, 0.55514435],\n",
       "       [0.76236728, 0.53644939, 0.98828517],\n",
       "       [0.53407054, 0.43579957, 0.63234152],\n",
       "       [0.5014202 , 0.4197536 , 0.5830868 ]])"
      ]
     },
     "execution_count": 12,
     "metadata": {},
     "output_type": "execute_result"
    }
   ],
   "source": [
    "backtest_predictions[['pred', 'lower_bound', 'upper_bound']].to_numpy()"
   ]
  },
  {
   "cell_type": "code",
   "execution_count": null,
   "metadata": {},
   "outputs": [],
   "source": []
  }
 ],
 "metadata": {
  "kernelspec": {
   "display_name": "skforecast_py11_2",
   "language": "python",
   "name": "python3"
  },
  "language_info": {
   "codemirror_mode": {
    "name": "ipython",
    "version": 3
   },
   "file_extension": ".py",
   "mimetype": "text/x-python",
   "name": "python",
   "nbconvert_exporter": "python",
   "pygments_lexer": "ipython3",
   "version": "3.11.10"
  },
  "orig_nbformat": 4
 },
 "nbformat": 4,
 "nbformat_minor": 2
}
