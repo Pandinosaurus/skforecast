{
 "cells": [
  {
   "cell_type": "code",
   "execution_count": 1,
   "metadata": {},
   "outputs": [
    {
     "name": "stdout",
     "output_type": "stream",
     "text": [
      "c:\\Users\\jaesc2\\GitHub\\skforecast\n"
     ]
    }
   ],
   "source": [
    "%load_ext autoreload\n",
    "%autoreload 2\n",
    "import sys\n",
    "from pathlib import Path\n",
    "path = str(Path.cwd().parent)\n",
    "print(path)\n",
    "sys.path.insert(1, path)"
   ]
  },
  {
   "cell_type": "code",
   "execution_count": 2,
   "metadata": {},
   "outputs": [],
   "source": [
    "import pytest\n",
    "import numpy as np\n",
    "import pandas as pd\n",
    "from sklearn.preprocessing import StandardScaler\n",
    "from sklearn.linear_model import LinearRegression\n",
    "from skforecast.preprocessing import RollingFeatures\n",
    "from skforecast.recursive import ForecasterRecursive\n",
    "from skforecast.direct import ForecasterDirect\n",
    "\n",
    "# Fixtures\n",
    "from skforecast.direct.tests.tests_forecaster_direct.fixtures_forecaster_direct import y\n",
    "from skforecast.direct.tests.tests_forecaster_direct.fixtures_forecaster_direct import exog, exog_predict"
   ]
  },
  {
   "cell_type": "code",
   "execution_count": 88,
   "metadata": {},
   "outputs": [
    {
     "name": "stdout",
     "output_type": "stream",
     "text": [
      "8.0\n",
      "[-0.46599771 -0.13167749 -0.2400648   0.38610882 -0.46599771]\n",
      "4.0\n",
      "[-0.06597795 -0.06247223 -0.30764313  0.11784057 -0.30764313]\n",
      "2.0\n",
      "[-0.0450625  -0.04970559 -0.27109241 -0.2054548  -0.27109241]\n",
      "1.0\n",
      "[ 0.01079722  0.31667074  0.02045466 -0.03134715 -0.18923835]\n",
      "1.0\n",
      "[ 0.01079722  0.31667074  0.02045466 -0.03134715 -0.18923835]\n"
     ]
    },
    {
     "data": {
      "text/html": [
       "<div>\n",
       "<style scoped>\n",
       "    .dataframe tbody tr th:only-of-type {\n",
       "        vertical-align: middle;\n",
       "    }\n",
       "\n",
       "    .dataframe tbody tr th {\n",
       "        vertical-align: top;\n",
       "    }\n",
       "\n",
       "    .dataframe thead th {\n",
       "        text-align: right;\n",
       "    }\n",
       "</style>\n",
       "<table border=\"1\" class=\"dataframe\">\n",
       "  <thead>\n",
       "    <tr style=\"text-align: right;\">\n",
       "      <th></th>\n",
       "      <th>pred_boot_0</th>\n",
       "      <th>pred_boot_1</th>\n",
       "      <th>pred_boot_2</th>\n",
       "      <th>pred_boot_3</th>\n",
       "      <th>pred_boot_4</th>\n",
       "    </tr>\n",
       "  </thead>\n",
       "  <tbody>\n",
       "    <tr>\n",
       "      <th>50</th>\n",
       "      <td>0.087196</td>\n",
       "      <td>0.421516</td>\n",
       "      <td>0.313129</td>\n",
       "      <td>0.939302</td>\n",
       "      <td>0.087196</td>\n",
       "    </tr>\n",
       "    <tr>\n",
       "      <th>51</th>\n",
       "      <td>0.417073</td>\n",
       "      <td>0.420579</td>\n",
       "      <td>0.175408</td>\n",
       "      <td>0.600892</td>\n",
       "      <td>0.175408</td>\n",
       "    </tr>\n",
       "    <tr>\n",
       "      <th>52</th>\n",
       "      <td>0.404750</td>\n",
       "      <td>0.400107</td>\n",
       "      <td>0.178720</td>\n",
       "      <td>0.244358</td>\n",
       "      <td>0.178720</td>\n",
       "    </tr>\n",
       "    <tr>\n",
       "      <th>53</th>\n",
       "      <td>0.424213</td>\n",
       "      <td>0.730087</td>\n",
       "      <td>0.433870</td>\n",
       "      <td>0.382069</td>\n",
       "      <td>0.224177</td>\n",
       "    </tr>\n",
       "    <tr>\n",
       "      <th>54</th>\n",
       "      <td>0.430659</td>\n",
       "      <td>0.736532</td>\n",
       "      <td>0.440316</td>\n",
       "      <td>0.388514</td>\n",
       "      <td>0.230623</td>\n",
       "    </tr>\n",
       "  </tbody>\n",
       "</table>\n",
       "</div>"
      ],
      "text/plain": [
       "    pred_boot_0  pred_boot_1  pred_boot_2  pred_boot_3  pred_boot_4\n",
       "50     0.087196     0.421516     0.313129     0.939302     0.087196\n",
       "51     0.417073     0.420579     0.175408     0.600892     0.175408\n",
       "52     0.404750     0.400107     0.178720     0.244358     0.178720\n",
       "53     0.424213     0.730087     0.433870     0.382069     0.224177\n",
       "54     0.430659     0.736532     0.440316     0.388514     0.230623"
      ]
     },
     "execution_count": 88,
     "metadata": {},
     "output_type": "execute_result"
    }
   ],
   "source": [
    "forecaster = ForecasterDirect(\n",
    "                    regressor = LinearRegression(),\n",
    "                    steps     = 5,\n",
    "                    lags      = 5\n",
    "                )\n",
    "forecaster.fit(y=y)\n",
    "\n",
    "recommended_n_boot = 5\n",
    "forecaster.in_sample_residuals_by_bin_[1] = forecaster.in_sample_residuals_by_bin_[1][:recommended_n_boot]\n",
    "for k, v in forecaster.in_sample_residuals_by_bin_.items():\n",
    "    if k != 1:\n",
    "        forecaster.in_sample_residuals_by_bin_[k] = v[:recommended_n_boot - 1]\n",
    "    \n",
    "results = forecaster.predict_bootstrapping(\n",
    "    steps=5, n_boot=recommended_n_boot, use_in_sample_residuals=True, use_binned_residuals=True\n",
    ")\n",
    "results"
   ]
  },
  {
   "cell_type": "code",
   "execution_count": 87,
   "metadata": {},
   "outputs": [
    {
     "data": {
      "text/plain": [
       "{0: array([ 0.35398646, -0.01070607, -0.0121861 ,  0.06634067]),\n",
       " 1: array([ 0.01079722,  0.31667074,  0.02045466, -0.03134715, -0.18923835]),\n",
       " 2: array([-0.0450625 , -0.04970559, -0.27109241, -0.2054548 ]),\n",
       " 3: array([ 0.01474554, -0.12607334, -0.40848077,  0.1781821 ]),\n",
       " 4: array([-0.06597795, -0.06247223, -0.30764313,  0.11784057]),\n",
       " 5: array([ 0.47165077, -0.01760355, -0.39344615,  0.47603728]),\n",
       " 6: array([ 0.21672936,  0.00902857, -0.11833943,  0.20465353]),\n",
       " 7: array([-0.01111603, -0.29143333, -0.10171245, -0.05190446]),\n",
       " 8: array([-0.46599771, -0.13167749, -0.2400648 ,  0.38610882]),\n",
       " 9: array([ 0.06586613,  0.27294283,  0.13207642, -0.05288698])}"
      ]
     },
     "execution_count": 87,
     "metadata": {},
     "output_type": "execute_result"
    }
   ],
   "source": [
    "recommended_n_boot = 5\n",
    "in_sample_residuals_by_bin_ = forecaster.in_sample_residuals_by_bin_.copy()\n",
    "in_sample_residuals_by_bin_[1] = in_sample_residuals_by_bin_[1][:recommended_n_boot]\n",
    "for k, v in in_sample_residuals_by_bin_.items():\n",
    "    if k != 1:\n",
    "        in_sample_residuals_by_bin_[k] = v[:recommended_n_boot - 1]\n",
    "\n",
    "in_sample_residuals_by_bin_"
   ]
  },
  {
   "cell_type": "code",
   "execution_count": 85,
   "metadata": {},
   "outputs": [
    {
     "data": {
      "text/plain": [
       "array([[0.0871959 , 0.42151611, 0.31312881, 0.93930242, 0.0871959 ],\n",
       "       [0.41707327, 0.42057899, 0.17540809, 0.60089178, 0.17540809],\n",
       "       [0.40475029, 0.4001072 , 0.17872038, 0.24435799, 0.17872038],\n",
       "       [0.42421302, 0.73008654, 0.43387046, 0.38206866, 0.22417746],\n",
       "       [0.43065853, 0.73653206, 0.44031597, 0.38851417, 0.23062297]])"
      ]
     },
     "execution_count": 85,
     "metadata": {},
     "output_type": "execute_result"
    }
   ],
   "source": [
    "results.to_numpy()"
   ]
  },
  {
   "cell_type": "code",
   "execution_count": 11,
   "metadata": {},
   "outputs": [
    {
     "data": {
      "text/plain": [
       "{0.0: (77.11104390221573, 95.19313158258132),\n",
       " 1.0: (95.19313158258132, 107.10836783689707),\n",
       " 2.0: (107.10836783689707, 122.98049619443195)}"
      ]
     },
     "execution_count": 11,
     "metadata": {},
     "output_type": "execute_result"
    }
   ],
   "source": [
    "forecaster.binner_intervals_"
   ]
  },
  {
   "cell_type": "code",
   "execution_count": 4,
   "metadata": {},
   "outputs": [],
   "source": [
    "import re\n",
    "import pytest\n",
    "import numpy as np\n",
    "import pandas as pd\n",
    "from sklearn.exceptions import NotFittedError\n",
    "from sklearn.linear_model import LinearRegression\n",
    "from sklearn.preprocessing import StandardScaler\n",
    "from lightgbm import LGBMRegressor\n",
    "\n",
    "from skforecast.preprocessing import RollingFeatures\n",
    "from skforecast.preprocessing import TimeSeriesDifferentiator\n",
    "from skforecast.recursive import ForecasterRecursive\n",
    "from scipy.stats import norm\n",
    "from sklearn.compose import ColumnTransformer\n",
    "from sklearn.preprocessing import StandardScaler\n",
    "from sklearn.preprocessing import OneHotEncoder\n",
    "from sklearn.linear_model import LinearRegression\n",
    "from skforecast.model_selection import TimeSeriesFold, backtesting_forecaster\n",
    "\n",
    "# Fixtures\n",
    "from skforecast.recursive.tests.tests_forecaster_recursive.fixtures_forecaster_recursive import y\n",
    "from skforecast.recursive.tests.tests_forecaster_recursive.fixtures_forecaster_recursive import exog\n",
    "from skforecast.recursive.tests.tests_forecaster_recursive.fixtures_forecaster_recursive import exog_predict\n",
    "from skforecast.recursive.tests.tests_forecaster_recursive.fixtures_forecaster_recursive import data  # to test results when using differentiation\n"
   ]
  },
  {
   "cell_type": "code",
   "execution_count": 17,
   "metadata": {},
   "outputs": [],
   "source": [
    "forecaster = ForecasterDirect(\n",
    "        regressor=LinearRegression(), steps=5, lags=3, binner_kwargs={'n_bins': 10}\n",
    "    )\n",
    "forecaster = ForecasterRecursive(\n",
    "        regressor=LinearRegression(), lags=3, binner_kwargs={'n_bins': 10}\n",
    "    )\n",
    "n_backtest = 12\n",
    "y_train = y[:-n_backtest]\n",
    "cv = TimeSeriesFold(\n",
    "             steps              = 5,\n",
    "             initial_train_size = len(y_train),\n",
    "             refit              = True\n",
    "        )\n",
    "metric, backtest_predictions = backtesting_forecaster(\n",
    "                                    forecaster              = forecaster,\n",
    "                                    y                       = y,\n",
    "                                    exog                    = exog,\n",
    "                                    cv                      = cv,\n",
    "                                    metric                  = 'mean_squared_error',\n",
    "                                    interval                = 0.9,\n",
    "                                    interval_method         = 'conformal',\n",
    "                                    use_in_sample_residuals = True,\n",
    "                                    use_binned_residuals    = True,\n",
    "                                    random_state            = 123,\n",
    "                                    verbose                 = False,\n",
    "                                    show_progress           = False\n",
    "                                )"
   ]
  },
  {
   "cell_type": "code",
   "execution_count": 18,
   "metadata": {},
   "outputs": [
    {
     "data": {
      "text/plain": [
       "array([[0.064250191230055]])"
      ]
     },
     "execution_count": 18,
     "metadata": {},
     "output_type": "execute_result"
    }
   ],
   "source": [
    "# Increase number of decimals numpy\n",
    "np.set_printoptions(precision=15)\n",
    "metric.to_numpy()"
   ]
  },
  {
   "cell_type": "code",
   "execution_count": 19,
   "metadata": {},
   "outputs": [
    {
     "data": {
      "text/plain": [
       "array([[0.59059622, 0.2974502 , 0.88374223],\n",
       "       [0.47257504, 0.22356317, 0.72158691],\n",
       "       [0.53024098, 0.14339956, 0.91708239],\n",
       "       [0.46163343, 0.21262156, 0.7106453 ],\n",
       "       [0.50035119, 0.35604735, 0.64465502],\n",
       "       [0.41975558, 0.20182965, 0.63768151],\n",
       "       [0.4256614 , 0.03773832, 0.81358449],\n",
       "       [0.41176005, 0.19383413, 0.62968598],\n",
       "       [0.52357817, 0.43392621, 0.61323014],\n",
       "       [0.509974  , 0.42032204, 0.59962597],\n",
       "       [0.65354628, 0.29763244, 1.00946013],\n",
       "       [0.48210726, 0.17026625, 0.79394828]])"
      ]
     },
     "execution_count": 19,
     "metadata": {},
     "output_type": "execute_result"
    }
   ],
   "source": [
    "np.set_printoptions(precision=8)\n",
    "backtest_predictions.to_numpy()"
   ]
  },
  {
   "cell_type": "code",
   "execution_count": null,
   "metadata": {},
   "outputs": [],
   "source": []
  }
 ],
 "metadata": {
  "kernelspec": {
   "display_name": "skforecast_py11_2",
   "language": "python",
   "name": "python3"
  },
  "language_info": {
   "codemirror_mode": {
    "name": "ipython",
    "version": 3
   },
   "file_extension": ".py",
   "mimetype": "text/x-python",
   "name": "python",
   "nbconvert_exporter": "python",
   "pygments_lexer": "ipython3",
   "version": "3.11.10"
  },
  "orig_nbformat": 4
 },
 "nbformat": 4,
 "nbformat_minor": 2
}
