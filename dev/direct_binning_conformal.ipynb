{
 "cells": [
  {
   "cell_type": "code",
   "execution_count": 1,
   "metadata": {},
   "outputs": [
    {
     "name": "stdout",
     "output_type": "stream",
     "text": [
      "c:\\Users\\jaesc2\\GitHub\\skforecast\n"
     ]
    }
   ],
   "source": [
    "%load_ext autoreload\n",
    "%autoreload 2\n",
    "import sys\n",
    "from pathlib import Path\n",
    "path = str(Path.cwd().parent)\n",
    "print(path)\n",
    "sys.path.insert(1, path)"
   ]
  },
  {
   "cell_type": "code",
   "execution_count": 13,
   "metadata": {},
   "outputs": [],
   "source": [
    "import pytest\n",
    "import numpy as np\n",
    "import pandas as pd\n",
    "from sklearn.preprocessing import StandardScaler\n",
    "from sklearn.linear_model import LinearRegression\n",
    "from skforecast.preprocessing import RollingFeatures\n",
    "from skforecast.recursive import ForecasterRecursive\n",
    "from skforecast.direct import ForecasterDirect\n",
    "\n",
    "# Fixtures\n",
    "from skforecast.direct.tests.tests_forecaster_direct.fixtures_forecaster_direct import y\n",
    "from skforecast.direct.tests.tests_forecaster_direct.fixtures_forecaster_direct import exog"
   ]
  },
  {
   "cell_type": "code",
   "execution_count": 9,
   "metadata": {},
   "outputs": [],
   "source": [
    "forecaster = ForecasterDirect(\n",
    "        LinearRegression(), lags=3, steps=2, binner_kwargs={'n_bins': 3}\n",
    "    )\n",
    "\n",
    "rng = np.random.default_rng(123)\n",
    "y_pred = rng.normal(100, 15, 20)\n",
    "y_true = rng.normal(100, 10, 20)\n",
    "\n",
    "forecaster._binning_in_sample_residuals(\n",
    "    y_pred=y_pred,\n",
    "    y_true=y_true,\n",
    ")"
   ]
  },
  {
   "cell_type": "code",
   "execution_count": 10,
   "metadata": {},
   "outputs": [
    {
     "data": {
      "text/plain": [
       "{0: array([ -7.23789073,  13.79601419,  22.36597697,   4.88697987,\n",
       "         10.58663414, -11.65409374,  27.51615357]),\n",
       " 1: array([ 8.35845165,  8.67514021, -5.0751785 , -0.40101616, 14.61016061,\n",
       "        -7.98175116]),\n",
       " 2: array([ -3.90257497,  -6.25576705, -10.1163358 ,   2.61102291,\n",
       "         -5.62019863, -18.70551475, -14.38168435])}"
      ]
     },
     "execution_count": 10,
     "metadata": {},
     "output_type": "execute_result"
    }
   ],
   "source": [
    "forecaster.in_sample_residuals_by_bin_"
   ]
  },
  {
   "cell_type": "code",
   "execution_count": 11,
   "metadata": {},
   "outputs": [
    {
     "data": {
      "text/plain": [
       "{0.0: (77.11104390221573, 95.19313158258132),\n",
       " 1.0: (95.19313158258132, 107.10836783689707),\n",
       " 2.0: (107.10836783689707, 122.98049619443195)}"
      ]
     },
     "execution_count": 11,
     "metadata": {},
     "output_type": "execute_result"
    }
   ],
   "source": [
    "forecaster.binner_intervals_"
   ]
  },
  {
   "cell_type": "code",
   "execution_count": 30,
   "metadata": {},
   "outputs": [],
   "source": [
    "import re\n",
    "import pytest\n",
    "import numpy as np\n",
    "import pandas as pd\n",
    "from sklearn.exceptions import NotFittedError\n",
    "from sklearn.linear_model import LinearRegression\n",
    "from sklearn.preprocessing import StandardScaler\n",
    "from lightgbm import LGBMRegressor\n",
    "\n",
    "from skforecast.preprocessing import RollingFeatures\n",
    "from skforecast.preprocessing import TimeSeriesDifferentiator\n",
    "from skforecast.recursive import ForecasterRecursive\n",
    "from scipy.stats import norm\n",
    "\n",
    "# Fixtures\n",
    "from skforecast.recursive.tests.tests_forecaster_recursive.fixtures_forecaster_recursive import y\n",
    "from skforecast.recursive.tests.tests_forecaster_recursive.fixtures_forecaster_recursive import exog\n",
    "from skforecast.recursive.tests.tests_forecaster_recursive.fixtures_forecaster_recursive import exog_predict\n",
    "from skforecast.recursive.tests.tests_forecaster_recursive.fixtures_forecaster_recursive import data  # to test results when using differentiation\n"
   ]
  },
  {
   "cell_type": "code",
   "execution_count": 31,
   "metadata": {},
   "outputs": [
    {
     "data": {
      "text/plain": [
       "array([[0.25836446, 0.571056  , 0.71651764],\n",
       "       [0.10646288, 0.32036708, 0.64980398]])"
      ]
     },
     "execution_count": 31,
     "metadata": {},
     "output_type": "execute_result"
    }
   ],
   "source": [
    "forecaster = ForecasterRecursive(\n",
    "                     regressor        = LinearRegression(),\n",
    "                     lags             = 3,\n",
    "                     transformer_y    = StandardScaler(),\n",
    "                     transformer_exog = StandardScaler()\n",
    "                 )\n",
    "\n",
    "forecaster.fit(y=y, exog=exog)\n",
    "results = forecaster.predict_quantiles(\n",
    "                steps                   = 2,\n",
    "                exog                    = exog_predict,\n",
    "                quantiles               = [0.05, 0.55, 0.95],\n",
    "                n_boot                  = 4,\n",
    "                use_in_sample_residuals = True\n",
    "            )\n",
    "results.to_numpy()"
   ]
  },
  {
   "cell_type": "code",
   "execution_count": null,
   "metadata": {},
   "outputs": [],
   "source": []
  }
 ],
 "metadata": {
  "kernelspec": {
   "display_name": "skforecast_py11_2",
   "language": "python",
   "name": "python3"
  },
  "language_info": {
   "codemirror_mode": {
    "name": "ipython",
    "version": 3
   },
   "file_extension": ".py",
   "mimetype": "text/x-python",
   "name": "python",
   "nbconvert_exporter": "python",
   "pygments_lexer": "ipython3",
   "version": "3.11.10"
  },
  "orig_nbformat": 4
 },
 "nbformat": 4,
 "nbformat_minor": 2
}
