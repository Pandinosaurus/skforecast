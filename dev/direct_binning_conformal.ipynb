{
 "cells": [
  {
   "cell_type": "code",
   "execution_count": 1,
   "metadata": {},
   "outputs": [
    {
     "name": "stdout",
     "output_type": "stream",
     "text": [
      "c:\\Users\\jaesc2\\GitHub\\skforecast\n"
     ]
    }
   ],
   "source": [
    "%load_ext autoreload\n",
    "%autoreload 2\n",
    "import sys\n",
    "from pathlib import Path\n",
    "path = str(Path.cwd().parent)\n",
    "print(path)\n",
    "sys.path.insert(1, path)"
   ]
  },
  {
   "cell_type": "code",
   "execution_count": 2,
   "metadata": {},
   "outputs": [],
   "source": [
    "import re\n",
    "import pytest\n",
    "import numpy as np\n",
    "import pandas as pd\n",
    "from sklearn.linear_model import LinearRegression\n",
    "from sklearn.compose import ColumnTransformer\n",
    "from sklearn.preprocessing import StandardScaler\n",
    "from sklearn.preprocessing import OneHotEncoder\n",
    "from skforecast.exceptions import ResidualsUsageWarning\n",
    "from skforecast.direct import ForecasterDirect\n",
    "from skforecast.direct import ForecasterDirectMultiVariate\n",
    "\n",
    "# Fixtures\n",
    "from skforecast.direct.tests.tests_forecaster_direct.fixtures_forecaster_direct import y\n",
    "from skforecast.direct.tests.tests_forecaster_direct.fixtures_forecaster_direct import exog, exog_predict\n",
    "# from skforecast.direct.tests.tests_forecaster_direct_multivariate.fixtures_forecaster_direct_multivariate import series\n",
    "# from skforecast.direct.tests.tests_forecaster_direct_multivariate.fixtures_forecaster_direct_multivariate import exog, exog_predict\n",
    "\n",
    "\n",
    "transformer_exog = ColumnTransformer(\n",
    "                       [('scale', StandardScaler(), ['exog_1']),\n",
    "                        ('onehot', OneHotEncoder(), ['exog_2'])],\n",
    "                       remainder = 'passthrough',\n",
    "                       verbose_feature_names_out = False\n",
    "                   )"
   ]
  },
  {
   "cell_type": "code",
   "execution_count": 3,
   "metadata": {},
   "outputs": [
    {
     "data": {
      "text/plain": [
       "array([[ 0.51883519,  0.08813429,  0.94953609],\n",
       "       [ 0.4584716 ,  0.04326184,  0.87368136],\n",
       "       [ 0.39962743, -0.04758052,  0.84683537],\n",
       "       [ 0.40452904, -0.0426789 ,  0.85173698],\n",
       "       [ 0.41534557, -0.03186238,  0.86255351]])"
      ]
     },
     "execution_count": 3,
     "metadata": {},
     "output_type": "execute_result"
    }
   ],
   "source": [
    "forecaster = ForecasterDirect(LinearRegression(), steps=5, lags=3)\n",
    "forecaster.fit(y=y)\n",
    "results = forecaster._predict_interval_conformal(\n",
    "    steps=5, nominal_coverage=0.95, use_in_sample_residuals=True, use_binned_residuals=True\n",
    ")\n",
    "results.to_numpy()"
   ]
  },
  {
   "cell_type": "code",
   "execution_count": 4,
   "metadata": {},
   "outputs": [
    {
     "data": {
      "text/html": [
       "<div>\n",
       "<style scoped>\n",
       "    .dataframe tbody tr th:only-of-type {\n",
       "        vertical-align: middle;\n",
       "    }\n",
       "\n",
       "    .dataframe tbody tr th {\n",
       "        vertical-align: top;\n",
       "    }\n",
       "\n",
       "    .dataframe thead th {\n",
       "        text-align: right;\n",
       "    }\n",
       "</style>\n",
       "<table border=\"1\" class=\"dataframe\">\n",
       "  <thead>\n",
       "    <tr style=\"text-align: right;\">\n",
       "      <th></th>\n",
       "      <th>pred</th>\n",
       "      <th>lower_bound</th>\n",
       "      <th>upper_bound</th>\n",
       "    </tr>\n",
       "  </thead>\n",
       "  <tbody>\n",
       "    <tr>\n",
       "      <th>50</th>\n",
       "      <td>0.518835</td>\n",
       "      <td>0.088134</td>\n",
       "      <td>0.949536</td>\n",
       "    </tr>\n",
       "    <tr>\n",
       "      <th>51</th>\n",
       "      <td>0.458472</td>\n",
       "      <td>0.043262</td>\n",
       "      <td>0.873681</td>\n",
       "    </tr>\n",
       "    <tr>\n",
       "      <th>52</th>\n",
       "      <td>0.399627</td>\n",
       "      <td>-0.047581</td>\n",
       "      <td>0.846835</td>\n",
       "    </tr>\n",
       "    <tr>\n",
       "      <th>53</th>\n",
       "      <td>0.404529</td>\n",
       "      <td>-0.042679</td>\n",
       "      <td>0.851737</td>\n",
       "    </tr>\n",
       "    <tr>\n",
       "      <th>54</th>\n",
       "      <td>0.415346</td>\n",
       "      <td>-0.031862</td>\n",
       "      <td>0.862554</td>\n",
       "    </tr>\n",
       "  </tbody>\n",
       "</table>\n",
       "</div>"
      ],
      "text/plain": [
       "        pred  lower_bound  upper_bound\n",
       "50  0.518835     0.088134     0.949536\n",
       "51  0.458472     0.043262     0.873681\n",
       "52  0.399627    -0.047581     0.846835\n",
       "53  0.404529    -0.042679     0.851737\n",
       "54  0.415346    -0.031862     0.862554"
      ]
     },
     "execution_count": 4,
     "metadata": {},
     "output_type": "execute_result"
    }
   ],
   "source": [
    "results"
   ]
  },
  {
   "cell_type": "code",
   "execution_count": 5,
   "metadata": {},
   "outputs": [
    {
     "data": {
      "text/plain": [
       "array([[ 0.51883519,  0.08813429,  0.94953609],\n",
       "       [ 0.4584716 ,  0.04326184,  0.87368136],\n",
       "       [ 0.39962743, -0.04758052,  0.84683537],\n",
       "       [ 0.40452904, -0.0426789 ,  0.85173698],\n",
       "       [ 0.41534557, -0.03186238,  0.86255351]])"
      ]
     },
     "execution_count": 5,
     "metadata": {},
     "output_type": "execute_result"
    }
   ],
   "source": [
    "results[['pred', 'lower_bound', 'upper_bound']].to_numpy()"
   ]
  },
  {
   "cell_type": "code",
   "execution_count": 2,
   "metadata": {},
   "outputs": [],
   "source": [
    "import re\n",
    "import pytest\n",
    "import joblib\n",
    "import numpy as np\n",
    "import pandas as pd\n",
    "from pathlib import Path\n",
    "from lightgbm import LGBMRegressor\n",
    "from sklearn.linear_model import Ridge\n",
    "from sklearn.preprocessing import StandardScaler\n",
    "from sklearn.metrics import mean_absolute_error\n",
    "from scipy.stats import norm\n",
    "\n",
    "from skforecast.exceptions import IgnoredArgumentWarning\n",
    "from skforecast.recursive import ForecasterRecursive\n",
    "from skforecast.recursive import ForecasterRecursiveMultiSeries\n",
    "from skforecast.direct import ForecasterDirectMultiVariate\n",
    "from skforecast.model_selection import backtesting_forecaster_multiseries\n",
    "from skforecast.model_selection._split import TimeSeriesFold\n",
    "from skforecast.preprocessing import RollingFeatures\n",
    "\n",
    "# Fixtures\n",
    "from skforecast.model_selection.tests.fixtures_model_selection_multiseries import series"
   ]
  },
  {
   "cell_type": "code",
   "execution_count": 7,
   "metadata": {},
   "outputs": [
    {
     "data": {
      "application/vnd.jupyter.widget-view+json": {
       "model_id": "5df1d887109a4c2c9c93509b994aedd5",
       "version_major": 2,
       "version_minor": 0
      },
      "text/plain": [
       "  0%|          | 0/4 [00:00<?, ?it/s]"
      ]
     },
     "metadata": {},
     "output_type": "display_data"
    }
   ],
   "source": [
    "forecaster = ForecasterDirectMultiVariate(\n",
    "                     regressor          = Ridge(random_state=123),\n",
    "                     level              = 'l1',\n",
    "                     lags               = 3,\n",
    "                     steps              = 5,\n",
    "                     transformer_series = None,\n",
    "                     binner_kwargs      = {'n_bins': 10}\n",
    "                 )\n",
    "    \n",
    "cv = TimeSeriesFold(\n",
    "            initial_train_size = len(series) - 20,\n",
    "            steps              = 5,\n",
    "            refit              = False\n",
    "        )\n",
    "\n",
    "metrics_levels, backtest_predictions = backtesting_forecaster_multiseries(\n",
    "                                            forecaster              = forecaster,\n",
    "                                            series                  = series,\n",
    "                                            cv                      = cv,\n",
    "                                            levels                  = 'l1',\n",
    "                                            metric                  = 'mean_absolute_error',\n",
    "                                            add_aggregated_metric   = False,\n",
    "                                            exog                    = series['l1'].rename('exog_1'),\n",
    "                                            interval                = 0.9,\n",
    "                                            interval_method         = 'conformal',\n",
    "                                            use_in_sample_residuals = True,\n",
    "                                            use_binned_residuals    = True,\n",
    "                                            random_state            = 123,\n",
    "                                            verbose                 = False\n",
    "                                        )"
   ]
  },
  {
   "cell_type": "code",
   "execution_count": 8,
   "metadata": {},
   "outputs": [
    {
     "data": {
      "text/plain": [
       "array([['l1', 0.11916192143057436]], dtype=object)"
      ]
     },
     "execution_count": 8,
     "metadata": {},
     "output_type": "execute_result"
    }
   ],
   "source": [
    "metrics_levels.to_numpy()"
   ]
  },
  {
   "cell_type": "code",
   "execution_count": 9,
   "metadata": {},
   "outputs": [
    {
     "data": {
      "text/plain": [
       "array([[0.36268205, 0.20433986, 0.52102424],\n",
       "       [0.51787041, 0.43620381, 0.599537  ],\n",
       "       [0.52472422, 0.42645324, 0.6229952 ],\n",
       "       [0.59903598, 0.46654146, 0.7315305 ],\n",
       "       [0.50738853, 0.42572194, 0.58905513],\n",
       "       [0.42622724, 0.3313424 , 0.52111209],\n",
       "       [0.47163992, 0.38997332, 0.55330651],\n",
       "       [0.70873165, 0.48281375, 0.93464954],\n",
       "       [0.71565768, 0.48973979, 0.94157557],\n",
       "       [0.49000773, 0.40834113, 0.57167433],\n",
       "       [0.61296286, 0.48046834, 0.74545738],\n",
       "       [0.4031027 , 0.30821786, 0.49798755],\n",
       "       [0.39728743, 0.30240258, 0.49217227],\n",
       "       [0.46010284, 0.37843624, 0.54176944],\n",
       "       [0.63022554, 0.49773102, 0.76272006],\n",
       "       [0.39528807, 0.30040323, 0.49017292],\n",
       "       [0.47347775, 0.39181115, 0.55514435],\n",
       "       [0.76236728, 0.53644939, 0.98828517],\n",
       "       [0.53407054, 0.43579957, 0.63234152],\n",
       "       [0.5014202 , 0.4197536 , 0.5830868 ]])"
      ]
     },
     "execution_count": 9,
     "metadata": {},
     "output_type": "execute_result"
    }
   ],
   "source": [
    "backtest_predictions[['pred', 'lower_bound', 'upper_bound']].to_numpy()"
   ]
  },
  {
   "cell_type": "code",
   "execution_count": 4,
   "metadata": {},
   "outputs": [],
   "source": [
    "import numpy as np\n",
    "import pandas as pd\n",
    "from sklearn.compose import ColumnTransformer\n",
    "from sklearn.preprocessing import StandardScaler\n",
    "from sklearn.preprocessing import OneHotEncoder\n",
    "from sklearn.linear_model import LinearRegression\n",
    "from skforecast.recursive import ForecasterRecursiveMultiSeries\n",
    "\n",
    "# Fixtures\n",
    "from skforecast.recursive.tests.tests_forecaster_recursive_multiseries.fixtures_forecaster_recursive_multiseries import series, exog, exog_predict\n",
    "\n",
    "THIS_DIR = r\"C:\\Users\\jaesc2\\GitHub\\skforecast\\skforecast\\recursive\\tests\\tests_forecaster_recursive_multiseries\"\n",
    "series_dict = joblib.load(THIS_DIR + '/fixture_sample_multi_series.joblib')\n",
    "exog_dict = joblib.load(THIS_DIR + '/fixture_sample_multi_series_exog.joblib')\n",
    "end_train = \"2016-07-31 23:59:00\"\n",
    "series_dict_train = {k: v.loc[:end_train,] for k, v in series_dict.items()}\n",
    "exog_dict_train = {k: v.loc[:end_train,] for k, v in exog_dict.items()}\n",
    "series_dict_test = {k: v.loc[end_train:,] for k, v in series_dict.items()}\n",
    "exog_dict_test = {k: v.loc[end_train:,] for k, v in exog_dict.items()}\n",
    "series_2 = pd.DataFrame({\n",
    "    'l1': pd.Series(np.arange(10)),\n",
    "    'l2': pd.Series(np.arange(10))\n",
    "})\n"
   ]
  },
  {
   "cell_type": "code",
   "execution_count": 51,
   "metadata": {},
   "outputs": [],
   "source": [
    "forecaster = ForecasterRecursiveMultiSeries(\n",
    "                     regressor          = LGBMRegressor(\n",
    "                         n_estimators=30, random_state=123, verbose=-1, max_depth=4\n",
    "                     ),\n",
    "                     lags               = 14,\n",
    "                     encoding           = 'ordinal',\n",
    "                     dropna_from_series = False,\n",
    "                     transformer_series = StandardScaler(),\n",
    "                     transformer_exog   = StandardScaler()\n",
    "                 )\n",
    "forecaster.fit(\n",
    "    series=series_dict_train, exog=exog_dict_train, suppress_warnings=True\n",
    ")\n",
    "\n",
    "levels = ['id_1000', 'id_1001', 'id_1003', 'id_1004', 'id_1005']\n",
    "last_window = pd.DataFrame(\n",
    "    {k: v for k, v in forecaster.last_window_.items() if k in levels}\n",
    ")\n",
    "last_window['id_1005'] = last_window['id_1004'] * 0.9\n",
    "exog_dict_test_2 = exog_dict_test.copy()\n",
    "exog_dict_test_2['id_1005'] = exog_dict_test_2['id_1001']\n",
    "results = forecaster.predict_interval(\n",
    "        steps=5, levels=levels, exog=exog_dict_test_2, last_window=last_window,\n",
    "        suppress_warnings=True, n_boot=10, interval=[5, 95], use_binned_residuals=True\n",
    "    )"
   ]
  },
  {
   "cell_type": "code",
   "execution_count": 52,
   "metadata": {},
   "outputs": [
    {
     "data": {
      "text/html": [
       "<div>\n",
       "<style scoped>\n",
       "    .dataframe tbody tr th:only-of-type {\n",
       "        vertical-align: middle;\n",
       "    }\n",
       "\n",
       "    .dataframe tbody tr th {\n",
       "        vertical-align: top;\n",
       "    }\n",
       "\n",
       "    .dataframe thead th {\n",
       "        text-align: right;\n",
       "    }\n",
       "</style>\n",
       "<table border=\"1\" class=\"dataframe\">\n",
       "  <thead>\n",
       "    <tr style=\"text-align: right;\">\n",
       "      <th></th>\n",
       "      <th>level</th>\n",
       "      <th>pred</th>\n",
       "      <th>lower_bound</th>\n",
       "      <th>upper_bound</th>\n",
       "    </tr>\n",
       "  </thead>\n",
       "  <tbody>\n",
       "    <tr>\n",
       "      <th>2016-08-01</th>\n",
       "      <td>id_1000</td>\n",
       "      <td>1330.538536</td>\n",
       "      <td>1280.691397</td>\n",
       "      <td>1439.455380</td>\n",
       "    </tr>\n",
       "    <tr>\n",
       "      <th>2016-08-01</th>\n",
       "      <td>id_1001</td>\n",
       "      <td>2655.952531</td>\n",
       "      <td>2705.925594</td>\n",
       "      <td>2738.156981</td>\n",
       "    </tr>\n",
       "  </tbody>\n",
       "</table>\n",
       "</div>"
      ],
      "text/plain": [
       "              level         pred  lower_bound  upper_bound\n",
       "2016-08-01  id_1000  1330.538536  1280.691397  1439.455380\n",
       "2016-08-01  id_1001  2655.952531  2705.925594  2738.156981"
      ]
     },
     "execution_count": 52,
     "metadata": {},
     "output_type": "execute_result"
    }
   ],
   "source": [
    "results.head(2)"
   ]
  },
  {
   "cell_type": "code",
   "execution_count": 53,
   "metadata": {},
   "outputs": [
    {
     "data": {
      "text/plain": [
       "DatetimeIndex(['2016-08-01', '2016-08-01', '2016-08-01', '2016-08-01',\n",
       "               '2016-08-01', '2016-08-02', '2016-08-02', '2016-08-02',\n",
       "               '2016-08-02', '2016-08-02', '2016-08-03', '2016-08-03',\n",
       "               '2016-08-03', '2016-08-03', '2016-08-03', '2016-08-04',\n",
       "               '2016-08-04', '2016-08-04', '2016-08-04', '2016-08-04',\n",
       "               '2016-08-05', '2016-08-05', '2016-08-05', '2016-08-05',\n",
       "               '2016-08-05'],\n",
       "              dtype='datetime64[ns]', freq=None)"
      ]
     },
     "execution_count": 53,
     "metadata": {},
     "output_type": "execute_result"
    }
   ],
   "source": [
    "pd.Index(results.index)"
   ]
  },
  {
   "cell_type": "code",
   "execution_count": 54,
   "metadata": {},
   "outputs": [
    {
     "data": {
      "text/plain": [
       "{'level': ['id_1000',\n",
       "  'id_1001',\n",
       "  'id_1003',\n",
       "  'id_1004',\n",
       "  'id_1005',\n",
       "  'id_1000',\n",
       "  'id_1001',\n",
       "  'id_1003',\n",
       "  'id_1004',\n",
       "  'id_1005',\n",
       "  'id_1000',\n",
       "  'id_1001',\n",
       "  'id_1003',\n",
       "  'id_1004',\n",
       "  'id_1005',\n",
       "  'id_1000',\n",
       "  'id_1001',\n",
       "  'id_1003',\n",
       "  'id_1004',\n",
       "  'id_1005',\n",
       "  'id_1000',\n",
       "  'id_1001',\n",
       "  'id_1003',\n",
       "  'id_1004',\n",
       "  'id_1005'],\n",
       " 'pred': [1330.5385359512072,\n",
       "  2655.9525305801844,\n",
       "  2645.090876890802,\n",
       "  7897.5193849420975,\n",
       "  4890.228408881278,\n",
       "  1401.6308515684586,\n",
       "  2503.7524796063676,\n",
       "  2407.1752505407007,\n",
       "  8577.098408560274,\n",
       "  4756.810200061664,\n",
       "  1387.265728819639,\n",
       "  2446.2803866452205,\n",
       "  2314.0860223813092,\n",
       "  8619.983117285357,\n",
       "  4947.440527174498,\n",
       "  1310.8227594194243,\n",
       "  2389.3764241040913,\n",
       "  2245.0514974677576,\n",
       "  8373.803343371283,\n",
       "  4972.509186937418,\n",
       "  1279.3727451240927,\n",
       "  2185.0610428355444,\n",
       "  2197.452881661525,\n",
       "  8536.318209938987,\n",
       "  5213.761246797846],\n",
       " 'lower_bound': [1280.691397121706,\n",
       "  2705.9255940079975,\n",
       "  2351.2169926457227,\n",
       "  7456.30218140561,\n",
       "  4518.09207378455,\n",
       "  1338.5256579919173,\n",
       "  2658.8038574432203,\n",
       "  2010.1128086433266,\n",
       "  8286.016756370773,\n",
       "  4695.361794129111,\n",
       "  1324.4177375758195,\n",
       "  2750.3765780123113,\n",
       "  1767.304578121676,\n",
       "  8039.73491219328,\n",
       "  3859.7437041937233,\n",
       "  1299.5531237560697,\n",
       "  2600.229892806877,\n",
       "  1771.885509411404,\n",
       "  8229.019039149467,\n",
       "  3258.6866240603604,\n",
       "  1210.2559241669333,\n",
       "  2312.550433131647,\n",
       "  1682.340227568467,\n",
       "  8194.857096861739,\n",
       "  4927.714549206342],\n",
       " 'upper_bound': [1439.4553800244555,\n",
       "  2738.156981275605,\n",
       "  3741.8972784855855,\n",
       "  8241.938477634612,\n",
       "  6843.515887200728,\n",
       "  1549.4628248207773,\n",
       "  2935.3967892197093,\n",
       "  3175.981247149604,\n",
       "  9460.836936220336,\n",
       "  8273.075290042703,\n",
       "  1480.350727438289,\n",
       "  2983.6422355070913,\n",
       "  2579.8385939039645,\n",
       "  9155.923184853164,\n",
       "  6261.057395164305,\n",
       "  1475.6791491359868,\n",
       "  2876.822824583366,\n",
       "  2408.3597533104735,\n",
       "  9434.945472173118,\n",
       "  8060.945697475116,\n",
       "  1438.0084071244983,\n",
       "  2896.1999567914872,\n",
       "  2368.450760903573,\n",
       "  9517.69363475937,\n",
       "  9349.46495485382]}"
      ]
     },
     "execution_count": 54,
     "metadata": {},
     "output_type": "execute_result"
    }
   ],
   "source": [
    "results.to_dict(orient='list')"
   ]
  },
  {
   "cell_type": "code",
   "execution_count": 55,
   "metadata": {},
   "outputs": [
    {
     "data": {
      "application/vnd.jupyter.widget-view+json": {
       "model_id": "086aeb71a09c4c9588c21fbfeca6763e",
       "version_major": 2,
       "version_minor": 0
      },
      "text/plain": [
       "  0%|          | 0/7 [00:00<?, ?it/s]"
      ]
     },
     "metadata": {},
     "output_type": "display_data"
    }
   ],
   "source": [
    "forecaster = ForecasterRecursiveMultiSeries(\n",
    "        regressor=LGBMRegressor(\n",
    "            n_estimators=30, random_state=123, verbose=-1, max_depth=4\n",
    "        ),\n",
    "        lags=[1, 7, 14],\n",
    "        encoding='ordinal',\n",
    "        dropna_from_series=False,\n",
    "        transformer_series=None,\n",
    "        transformer_exog=StandardScaler(),\n",
    "    )\n",
    "\n",
    "cv = TimeSeriesFold(\n",
    "            initial_train_size = len(series_dict_train['id_1000']),\n",
    "            steps              = 24,\n",
    "            refit              = False\n",
    "        )\n",
    "\n",
    "metrics, predictions = backtesting_forecaster_multiseries(\n",
    "    forecaster           = forecaster,\n",
    "    series               = series_dict,\n",
    "    exog                 = exog_dict,\n",
    "    cv                   = cv,\n",
    "    metric               = ['mean_absolute_error', 'mean_absolute_scaled_error'],\n",
    "    interval             = 0.9,\n",
    "    interval_method      = \"conformal\",\n",
    "    use_binned_residuals = True,\n",
    "    n_jobs               = 'auto',\n",
    "    verbose              = False,\n",
    "    show_progress        = True,\n",
    "    suppress_warnings    = True\n",
    ")"
   ]
  },
  {
   "cell_type": "code",
   "execution_count": 57,
   "metadata": {},
   "outputs": [
    {
     "data": {
      "text/plain": [
       "{'levels': ['id_1000',\n",
       "  'id_1001',\n",
       "  'id_1002',\n",
       "  'id_1003',\n",
       "  'id_1004',\n",
       "  'average',\n",
       "  'weighted_average',\n",
       "  'pooling'],\n",
       " 'mean_absolute_error': [177.94640447766702,\n",
       "  1451.3480109896332,\n",
       "  nan,\n",
       "  277.78113362955673,\n",
       "  993.6769068120083,\n",
       "  725.1881139772163,\n",
       "  724.9604804988818,\n",
       "  724.960480498882],\n",
       " 'mean_absolute_scaled_error': [0.8178593233613526,\n",
       "  4.1364664709651064,\n",
       "  nan,\n",
       "  1.1323827428361022,\n",
       "  0.8271748048818786,\n",
       "  1.72847083551111,\n",
       "  2.0965105153721213,\n",
       "  1.760615501057647]}"
      ]
     },
     "execution_count": 57,
     "metadata": {},
     "output_type": "execute_result"
    }
   ],
   "source": [
    "metrics.to_dict(orient='list')"
   ]
  },
  {
   "cell_type": "code",
   "execution_count": 59,
   "metadata": {},
   "outputs": [
    {
     "data": {
      "text/plain": [
       "{'level': ['id_1000',\n",
       "  'id_1001',\n",
       "  'id_1003',\n",
       "  'id_1004',\n",
       "  'id_1000',\n",
       "  'id_1001',\n",
       "  'id_1003',\n",
       "  'id_1004',\n",
       "  'id_1000',\n",
       "  'id_1001'],\n",
       " 'pred': [1559.6918278739745,\n",
       "  2934.363291873329,\n",
       "  3392.6095502790795,\n",
       "  7097.054479229451,\n",
       "  1572.8044765344362,\n",
       "  3503.7475024125847,\n",
       "  3118.0493908325134,\n",
       "  8301.53364484904,\n",
       "  1537.6749468304602,\n",
       "  3354.2752034001587],\n",
       " 'lower_bound': [1336.857463880777,\n",
       "  2569.1917715600575,\n",
       "  2556.6487812039504,\n",
       "  5093.465893848657,\n",
       "  1349.9701125412387,\n",
       "  3138.575982099313,\n",
       "  2282.0886217573843,\n",
       "  7895.559245312443,\n",
       "  1314.8405828372627,\n",
       "  2989.103683086887],\n",
       " 'upper_bound': [1782.526191867172,\n",
       "  3299.534812186601,\n",
       "  4228.570319354209,\n",
       "  9100.643064610245,\n",
       "  1795.6388405276336,\n",
       "  3868.9190227258564,\n",
       "  3954.0101599076424,\n",
       "  8707.508044385637,\n",
       "  1760.5093108236576,\n",
       "  3719.4467237134304]}"
      ]
     },
     "execution_count": 59,
     "metadata": {},
     "output_type": "execute_result"
    }
   ],
   "source": [
    "predictions.head(10).to_dict(orient='list')"
   ]
  },
  {
   "cell_type": "code",
   "execution_count": null,
   "metadata": {},
   "outputs": [],
   "source": []
  }
 ],
 "metadata": {
  "kernelspec": {
   "display_name": "skforecast_py11_2",
   "language": "python",
   "name": "python3"
  },
  "language_info": {
   "codemirror_mode": {
    "name": "ipython",
    "version": 3
   },
   "file_extension": ".py",
   "mimetype": "text/x-python",
   "name": "python",
   "nbconvert_exporter": "python",
   "pygments_lexer": "ipython3",
   "version": "3.11.10"
  },
  "orig_nbformat": 4
 },
 "nbformat": 4,
 "nbformat_minor": 2
}
