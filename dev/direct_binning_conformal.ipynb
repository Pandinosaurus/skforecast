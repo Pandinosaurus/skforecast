{
 "cells": [
  {
   "cell_type": "code",
   "execution_count": 1,
   "metadata": {},
   "outputs": [
    {
     "name": "stdout",
     "output_type": "stream",
     "text": [
      "c:\\Users\\jaesc2\\GitHub\\skforecast\n"
     ]
    }
   ],
   "source": [
    "%load_ext autoreload\n",
    "%autoreload 2\n",
    "import sys\n",
    "from pathlib import Path\n",
    "path = str(Path.cwd().parent)\n",
    "print(path)\n",
    "sys.path.insert(1, path)"
   ]
  },
  {
   "cell_type": "code",
   "execution_count": 19,
   "metadata": {},
   "outputs": [],
   "source": [
    "import re\n",
    "import pytest\n",
    "import numpy as np\n",
    "import pandas as pd\n",
    "from sklearn.linear_model import LinearRegression\n",
    "from sklearn.compose import ColumnTransformer\n",
    "from sklearn.preprocessing import StandardScaler\n",
    "from sklearn.preprocessing import OneHotEncoder\n",
    "from skforecast.exceptions import ResidualsUsageWarning\n",
    "from skforecast.direct import ForecasterDirect\n",
    "from skforecast.direct import ForecasterDirectMultiVariate\n",
    "\n",
    "# Fixtures\n",
    "from skforecast.direct.tests.tests_forecaster_direct.fixtures_forecaster_direct import y\n",
    "from skforecast.direct.tests.tests_forecaster_direct.fixtures_forecaster_direct import exog, exog_predict\n",
    "# from skforecast.direct.tests.tests_forecaster_direct_multivariate.fixtures_forecaster_direct_multivariate import series\n",
    "# from skforecast.direct.tests.tests_forecaster_direct_multivariate.fixtures_forecaster_direct_multivariate import exog, exog_predict\n",
    "\n",
    "\n",
    "transformer_exog = ColumnTransformer(\n",
    "                       [('scale', StandardScaler(), ['exog_1']),\n",
    "                        ('onehot', OneHotEncoder(), ['exog_2'])],\n",
    "                       remainder = 'passthrough',\n",
    "                       verbose_feature_names_out = False\n",
    "                   )"
   ]
  },
  {
   "cell_type": "code",
   "execution_count": 8,
   "metadata": {},
   "outputs": [
    {
     "data": {
      "text/plain": [
       "array([[ 0.51883519,  0.08813429,  0.94953609],\n",
       "       [ 0.4584716 ,  0.04326184,  0.87368136],\n",
       "       [ 0.39962743, -0.04758052,  0.84683537],\n",
       "       [ 0.40452904, -0.0426789 ,  0.85173698],\n",
       "       [ 0.41534557, -0.03186238,  0.86255351]])"
      ]
     },
     "execution_count": 8,
     "metadata": {},
     "output_type": "execute_result"
    }
   ],
   "source": [
    "forecaster = ForecasterDirect(LinearRegression(), steps=5, lags=3)\n",
    "forecaster.fit(y=y)\n",
    "results = forecaster._predict_interval_conformal(\n",
    "    steps=5, nominal_coverage=0.95, use_in_sample_residuals=True, use_binned_residuals=True\n",
    ")\n",
    "results.to_numpy()"
   ]
  },
  {
   "cell_type": "code",
   "execution_count": 18,
   "metadata": {},
   "outputs": [
    {
     "data": {
      "text/html": [
       "<div>\n",
       "<style scoped>\n",
       "    .dataframe tbody tr th:only-of-type {\n",
       "        vertical-align: middle;\n",
       "    }\n",
       "\n",
       "    .dataframe tbody tr th {\n",
       "        vertical-align: top;\n",
       "    }\n",
       "\n",
       "    .dataframe thead th {\n",
       "        text-align: right;\n",
       "    }\n",
       "</style>\n",
       "<table border=\"1\" class=\"dataframe\">\n",
       "  <thead>\n",
       "    <tr style=\"text-align: right;\">\n",
       "      <th></th>\n",
       "      <th>level</th>\n",
       "      <th>pred</th>\n",
       "      <th>lower_bound</th>\n",
       "      <th>upper_bound</th>\n",
       "    </tr>\n",
       "  </thead>\n",
       "  <tbody>\n",
       "    <tr>\n",
       "      <th>50</th>\n",
       "      <td>l1</td>\n",
       "      <td>0.631143</td>\n",
       "      <td>0.176033</td>\n",
       "      <td>1.086252</td>\n",
       "    </tr>\n",
       "    <tr>\n",
       "      <th>51</th>\n",
       "      <td>l1</td>\n",
       "      <td>0.380042</td>\n",
       "      <td>0.128327</td>\n",
       "      <td>0.631757</td>\n",
       "    </tr>\n",
       "    <tr>\n",
       "      <th>52</th>\n",
       "      <td>l1</td>\n",
       "      <td>0.332560</td>\n",
       "      <td>0.080845</td>\n",
       "      <td>0.584275</td>\n",
       "    </tr>\n",
       "  </tbody>\n",
       "</table>\n",
       "</div>"
      ],
      "text/plain": [
       "   level      pred  lower_bound  upper_bound\n",
       "50    l1  0.631143     0.176033     1.086252\n",
       "51    l1  0.380042     0.128327     0.631757\n",
       "52    l1  0.332560     0.080845     0.584275"
      ]
     },
     "execution_count": 18,
     "metadata": {},
     "output_type": "execute_result"
    }
   ],
   "source": [
    "results"
   ]
  },
  {
   "cell_type": "code",
   "execution_count": 19,
   "metadata": {},
   "outputs": [
    {
     "data": {
      "text/plain": [
       "array([[0.63114259, 0.17603311, 1.08625208],\n",
       "       [0.3800417 , 0.12832655, 0.63175685],\n",
       "       [0.33255977, 0.08084462, 0.58427492]])"
      ]
     },
     "execution_count": 19,
     "metadata": {},
     "output_type": "execute_result"
    }
   ],
   "source": [
    "results[['pred', 'lower_bound', 'upper_bound']].to_numpy()"
   ]
  },
  {
   "cell_type": "code",
   "execution_count": 3,
   "metadata": {},
   "outputs": [],
   "source": [
    "import re\n",
    "import pytest\n",
    "import joblib\n",
    "import numpy as np\n",
    "import pandas as pd\n",
    "from pathlib import Path\n",
    "from lightgbm import LGBMRegressor\n",
    "from sklearn.linear_model import Ridge\n",
    "from sklearn.preprocessing import StandardScaler\n",
    "from sklearn.metrics import mean_absolute_error\n",
    "from scipy.stats import norm\n",
    "\n",
    "from skforecast.exceptions import IgnoredArgumentWarning\n",
    "from skforecast.recursive import ForecasterRecursive\n",
    "from skforecast.recursive import ForecasterRecursiveMultiSeries\n",
    "from skforecast.direct import ForecasterDirectMultiVariate\n",
    "from skforecast.model_selection import backtesting_forecaster_multiseries\n",
    "from skforecast.model_selection._split import TimeSeriesFold\n",
    "from skforecast.preprocessing import RollingFeatures\n",
    "\n",
    "# Fixtures\n",
    "from skforecast.model_selection.tests.fixtures_model_selection_multiseries import series"
   ]
  },
  {
   "cell_type": "code",
   "execution_count": 7,
   "metadata": {},
   "outputs": [
    {
     "data": {
      "application/vnd.jupyter.widget-view+json": {
       "model_id": "4a22a97bc84a4ae09dc6ca4fefecbc7b",
       "version_major": 2,
       "version_minor": 0
      },
      "text/plain": [
       "  0%|          | 0/4 [00:00<?, ?it/s]"
      ]
     },
     "metadata": {},
     "output_type": "display_data"
    }
   ],
   "source": [
    "forecaster = ForecasterDirectMultiVariate(\n",
    "                     regressor          = Ridge(random_state=123),\n",
    "                     level              = 'l1',\n",
    "                     lags               = 3,\n",
    "                     steps              = 5,\n",
    "                     transformer_series = None,\n",
    "                     binner_kwargs      = {'n_bins': 10}\n",
    "                 )\n",
    "    \n",
    "cv = TimeSeriesFold(\n",
    "            initial_train_size = len(series) - 20,\n",
    "            steps              = 5,\n",
    "            refit              = False\n",
    "        )\n",
    "\n",
    "metrics_levels, backtest_predictions = backtesting_forecaster_multiseries(\n",
    "                                            forecaster              = forecaster,\n",
    "                                            series                  = series,\n",
    "                                            cv                      = cv,\n",
    "                                            levels                  = 'l1',\n",
    "                                            metric                  = 'mean_absolute_error',\n",
    "                                            add_aggregated_metric   = False,\n",
    "                                            exog                    = series['l1'].rename('exog_1'),\n",
    "                                            interval                = 0.9,\n",
    "                                            interval_method         = 'conformal',\n",
    "                                            use_in_sample_residuals = True,\n",
    "                                            use_binned_residuals    = True,\n",
    "                                            random_state            = 123,\n",
    "                                            verbose                 = False\n",
    "                                        )"
   ]
  },
  {
   "cell_type": "code",
   "execution_count": 10,
   "metadata": {},
   "outputs": [
    {
     "data": {
      "text/plain": [
       "array([['l1', 0.11916192143057436]], dtype=object)"
      ]
     },
     "execution_count": 10,
     "metadata": {},
     "output_type": "execute_result"
    }
   ],
   "source": [
    "metrics_levels.to_numpy()"
   ]
  },
  {
   "cell_type": "code",
   "execution_count": 12,
   "metadata": {},
   "outputs": [
    {
     "data": {
      "text/plain": [
       "array([[0.36268205, 0.20433986, 0.52102424],\n",
       "       [0.51787041, 0.43620381, 0.599537  ],\n",
       "       [0.52472422, 0.42645324, 0.6229952 ],\n",
       "       [0.59903598, 0.46654146, 0.7315305 ],\n",
       "       [0.50738853, 0.42572194, 0.58905513],\n",
       "       [0.42622724, 0.3313424 , 0.52111209],\n",
       "       [0.47163992, 0.38997332, 0.55330651],\n",
       "       [0.70873165, 0.48281375, 0.93464954],\n",
       "       [0.71565768, 0.48973979, 0.94157557],\n",
       "       [0.49000773, 0.40834113, 0.57167433],\n",
       "       [0.61296286, 0.48046834, 0.74545738],\n",
       "       [0.4031027 , 0.30821786, 0.49798755],\n",
       "       [0.39728743, 0.30240258, 0.49217227],\n",
       "       [0.46010284, 0.37843624, 0.54176944],\n",
       "       [0.63022554, 0.49773102, 0.76272006],\n",
       "       [0.39528807, 0.30040323, 0.49017292],\n",
       "       [0.47347775, 0.39181115, 0.55514435],\n",
       "       [0.76236728, 0.53644939, 0.98828517],\n",
       "       [0.53407054, 0.43579957, 0.63234152],\n",
       "       [0.5014202 , 0.4197536 , 0.5830868 ]])"
      ]
     },
     "execution_count": 12,
     "metadata": {},
     "output_type": "execute_result"
    }
   ],
   "source": [
    "backtest_predictions[['pred', 'lower_bound', 'upper_bound']].to_numpy()"
   ]
  },
  {
   "cell_type": "code",
   "execution_count": 13,
   "metadata": {},
   "outputs": [
    {
     "data": {
      "text/plain": [
       "array([[[1, 1],\n",
       "        [2, 2],\n",
       "        [3, 3]],\n",
       "\n",
       "       [[3, 3],\n",
       "        [4, 4],\n",
       "        [5, 5]]])"
      ]
     },
     "execution_count": 13,
     "metadata": {},
     "output_type": "execute_result"
    }
   ],
   "source": [
    "import numpy as np\n",
    "\n",
    "# Array original 2x2\n",
    "array_2x2 = np.array([[1, 2, 3], [3, 4, 5]])\n",
    "\n",
    "# Crear un array 2x2x2 duplicando el original\n",
    "array_2x2x2 = np.stack([array_2x2, array_2x2], axis=2)\n",
    "array_2x2x2\n"
   ]
  },
  {
   "cell_type": "code",
   "execution_count": 10,
   "metadata": {},
   "outputs": [
    {
     "data": {
      "text/plain": [
       "array([[1, 2, 3],\n",
       "       [3, 4, 5]])"
      ]
     },
     "execution_count": 10,
     "metadata": {},
     "output_type": "execute_result"
    }
   ],
   "source": [
    "array_2x2x2[:,:,0]"
   ]
  },
  {
   "cell_type": "code",
   "execution_count": 11,
   "metadata": {},
   "outputs": [
    {
     "data": {
      "text/plain": [
       "array([[1, 2, 3],\n",
       "       [3, 4, 5]])"
      ]
     },
     "execution_count": 11,
     "metadata": {},
     "output_type": "execute_result"
    }
   ],
   "source": [
    "array_2x2x2[:,:,1]"
   ]
  },
  {
   "cell_type": "code",
   "execution_count": 50,
   "metadata": {},
   "outputs": [
    {
     "name": "stdout",
     "output_type": "stream",
     "text": [
      "[[  4.2  52.  620. ]\n",
      " [  4.2  52.  620. ]\n",
      " [  4.2  52.  620. ]\n",
      " [  4.2  52.  620. ]\n",
      " [  4.2  52.  620. ]]\n",
      "[[[  10.     5.8   14.2]\n",
      "  [  10.     5.8   14.2]\n",
      "  [  10.     5.8   14.2]\n",
      "  [  10.     5.8   14.2]\n",
      "  [  10.     5.8   14.2]]\n",
      "\n",
      " [[ 200.   148.   252. ]\n",
      "  [ 200.   148.   252. ]\n",
      "  [ 200.   148.   252. ]\n",
      "  [ 200.   148.   252. ]\n",
      "  [ 200.   148.   252. ]]\n",
      "\n",
      " [[3000.  2380.  3620. ]\n",
      "  [3000.  2380.  3620. ]\n",
      "  [3000.  2380.  3620. ]\n",
      "  [3000.  2380.  3620. ]\n",
      "  [3000.  2380.  3620. ]]]\n"
     ]
    }
   ],
   "source": [
    "levels = ['l1', 'l2', 'l3']\n",
    "steps = 5\n",
    "use_binned_residuals = False\n",
    "nominal_coverage = 0.8\n",
    "\n",
    "residuals = {\n",
    "    'l1': np.array([1, 2, 3, 4, 5]),\n",
    "    'l2': np.array([20, 30, 40, 50, 60]),\n",
    "    'l3': np.array([300, 400, 500, 600, 700])\n",
    "}\n",
    "predictions = np.array([\n",
    "    [10, 200, 3000],\n",
    "    [10, 200, 3000],\n",
    "    [10, 200, 3000],\n",
    "    [10, 200, 3000],\n",
    "    [10, 200, 3000]\n",
    "])\n",
    "\n",
    "n_levels = len(levels)\n",
    "correction_factor = np.full(\n",
    "    shape=(steps, n_levels), fill_value=np.nan, order='C', dtype=float\n",
    ")\n",
    "for i, level in enumerate(levels):\n",
    "    correction_factor[:, i] = np.quantile(\n",
    "        np.abs(residuals[level]), nominal_coverage\n",
    "    )\n",
    "\n",
    "print(correction_factor)\n",
    "\n",
    "lower_bound = predictions - correction_factor\n",
    "upper_bound = predictions + correction_factor\n",
    "\n",
    "predictions_stack = np.array([predictions, lower_bound, upper_bound]).swapaxes(0, 2)\n",
    "\n",
    "print(predictions_stack)"
   ]
  },
  {
   "cell_type": "code",
   "execution_count": 51,
   "metadata": {},
   "outputs": [
    {
     "name": "stdout",
     "output_type": "stream",
     "text": [
      "0 l1\n",
      "[[10.   5.8 14.2]\n",
      " [10.   5.8 14.2]\n",
      " [10.   5.8 14.2]\n",
      " [10.   5.8 14.2]\n",
      " [10.   5.8 14.2]]\n",
      "1 l2\n",
      "[[200. 148. 252.]\n",
      " [200. 148. 252.]\n",
      " [200. 148. 252.]\n",
      " [200. 148. 252.]\n",
      " [200. 148. 252.]]\n",
      "2 l3\n",
      "[[3000. 2380. 3620.]\n",
      " [3000. 2380. 3620.]\n",
      " [3000. 2380. 3620.]\n",
      " [3000. 2380. 3620.]\n",
      " [3000. 2380. 3620.]]\n"
     ]
    }
   ],
   "source": [
    "for i, level in enumerate(levels):\n",
    "    print(i, level)\n",
    "    print(predictions_stack[i, :, :])"
   ]
  },
  {
   "cell_type": "code",
   "execution_count": 25,
   "metadata": {},
   "outputs": [
    {
     "data": {
      "text/plain": [
       "array([[[  10. ,  200. , 3000. ],\n",
       "        [  10. ,  200. , 3000. ],\n",
       "        [  10. ,  200. , 3000. ],\n",
       "        [  10. ,  200. , 3000. ],\n",
       "        [  10. ,  200. , 3000. ]],\n",
       "\n",
       "       [[   5.8,  148. , 2380. ],\n",
       "        [   5.8,  148. , 2380. ],\n",
       "        [   5.8,  148. , 2380. ],\n",
       "        [   5.8,  148. , 2380. ],\n",
       "        [   5.8,  148. , 2380. ]],\n",
       "\n",
       "       [[  14.2,  252. , 3620. ],\n",
       "        [  14.2,  252. , 3620. ],\n",
       "        [  14.2,  252. , 3620. ],\n",
       "        [  14.2,  252. , 3620. ],\n",
       "        [  14.2,  252. , 3620. ]]])"
      ]
     },
     "execution_count": 25,
     "metadata": {},
     "output_type": "execute_result"
    }
   ],
   "source": [
    "predictions"
   ]
  },
  {
   "cell_type": "code",
   "execution_count": 24,
   "metadata": {},
   "outputs": [
    {
     "data": {
      "text/plain": [
       "array([[[  10. ,    5.8,   14.2],\n",
       "        [  10. ,    5.8,   14.2],\n",
       "        [  10. ,    5.8,   14.2],\n",
       "        [  10. ,    5.8,   14.2],\n",
       "        [  10. ,    5.8,   14.2]],\n",
       "\n",
       "       [[ 200. ,  148. ,  252. ],\n",
       "        [ 200. ,  148. ,  252. ],\n",
       "        [ 200. ,  148. ,  252. ],\n",
       "        [ 200. ,  148. ,  252. ],\n",
       "        [ 200. ,  148. ,  252. ]],\n",
       "\n",
       "       [[3000. , 2380. , 3620. ],\n",
       "        [3000. , 2380. , 3620. ],\n",
       "        [3000. , 2380. , 3620. ],\n",
       "        [3000. , 2380. , 3620. ],\n",
       "        [3000. , 2380. , 3620. ]]])"
      ]
     },
     "execution_count": 24,
     "metadata": {},
     "output_type": "execute_result"
    }
   ],
   "source": [
    "predictions.transpose()"
   ]
  },
  {
   "cell_type": "code",
   "execution_count": 28,
   "metadata": {},
   "outputs": [
    {
     "data": {
      "text/plain": [
       "array([[[  10. ,    5.8,   14.2],\n",
       "        [  10. ,    5.8,   14.2],\n",
       "        [  10. ,    5.8,   14.2],\n",
       "        [  10. ,    5.8,   14.2],\n",
       "        [  10. ,    5.8,   14.2]],\n",
       "\n",
       "       [[ 200. ,  148. ,  252. ],\n",
       "        [ 200. ,  148. ,  252. ],\n",
       "        [ 200. ,  148. ,  252. ],\n",
       "        [ 200. ,  148. ,  252. ],\n",
       "        [ 200. ,  148. ,  252. ]],\n",
       "\n",
       "       [[3000. , 2380. , 3620. ],\n",
       "        [3000. , 2380. , 3620. ],\n",
       "        [3000. , 2380. , 3620. ],\n",
       "        [3000. , 2380. , 3620. ],\n",
       "        [3000. , 2380. , 3620. ]]])"
      ]
     },
     "execution_count": 28,
     "metadata": {},
     "output_type": "execute_result"
    }
   ],
   "source": [
    "np.stack([predictions, lower_bound, upper_bound]).transpose()"
   ]
  },
  {
   "cell_type": "code",
   "execution_count": 41,
   "metadata": {},
   "outputs": [
    {
     "data": {
      "text/plain": [
       "array([[[  10. ,    5.8,   14.2],\n",
       "        [  10. ,    5.8,   14.2],\n",
       "        [  10. ,    5.8,   14.2],\n",
       "        [  10. ,    5.8,   14.2],\n",
       "        [  10. ,    5.8,   14.2]],\n",
       "\n",
       "       [[ 200. ,  148. ,  252. ],\n",
       "        [ 200. ,  148. ,  252. ],\n",
       "        [ 200. ,  148. ,  252. ],\n",
       "        [ 200. ,  148. ,  252. ],\n",
       "        [ 200. ,  148. ,  252. ]],\n",
       "\n",
       "       [[3000. , 2380. , 3620. ],\n",
       "        [3000. , 2380. , 3620. ],\n",
       "        [3000. , 2380. , 3620. ],\n",
       "        [3000. , 2380. , 3620. ],\n",
       "        [3000. , 2380. , 3620. ]]])"
      ]
     },
     "execution_count": 41,
     "metadata": {},
     "output_type": "execute_result"
    }
   ],
   "source": [
    "predictions_stack = np.array([predictions, lower_bound, upper_bound]).swapaxes(0, 2)\n",
    "predictions_stack"
   ]
  },
  {
   "cell_type": "code",
   "execution_count": 44,
   "metadata": {},
   "outputs": [
    {
     "name": "stdout",
     "output_type": "stream",
     "text": [
      "0 l1\n",
      "[[  10.     5.8   14.2]\n",
      " [ 200.   148.   252. ]\n",
      " [3000.  2380.  3620. ]]\n",
      "1 l2\n",
      "[[  10.     5.8   14.2]\n",
      " [ 200.   148.   252. ]\n",
      " [3000.  2380.  3620. ]]\n",
      "2 l3\n",
      "[[  10.     5.8   14.2]\n",
      " [ 200.   148.   252. ]\n",
      " [3000.  2380.  3620. ]]\n"
     ]
    }
   ],
   "source": [
    "for i, level in enumerate(levels):\n",
    "    print(i, level)\n",
    "    print(predictions_stack[:, i, :])"
   ]
  },
  {
   "cell_type": "code",
   "execution_count": 52,
   "metadata": {},
   "outputs": [
    {
     "data": {
      "text/plain": [
       "array([[[  10. ,    5.8,   14.2],\n",
       "        [  10. ,    5.8,   14.2],\n",
       "        [  10. ,    5.8,   14.2],\n",
       "        [  10. ,    5.8,   14.2],\n",
       "        [  10. ,    5.8,   14.2]],\n",
       "\n",
       "       [[ 200. ,  148. ,  252. ],\n",
       "        [ 200. ,  148. ,  252. ],\n",
       "        [ 200. ,  148. ,  252. ],\n",
       "        [ 200. ,  148. ,  252. ],\n",
       "        [ 200. ,  148. ,  252. ]],\n",
       "\n",
       "       [[3000. , 2380. , 3620. ],\n",
       "        [3000. , 2380. , 3620. ],\n",
       "        [3000. , 2380. , 3620. ],\n",
       "        [3000. , 2380. , 3620. ],\n",
       "        [3000. , 2380. , 3620. ]]])"
      ]
     },
     "execution_count": 52,
     "metadata": {},
     "output_type": "execute_result"
    }
   ],
   "source": [
    "predictions_stack"
   ]
  },
  {
   "cell_type": "code",
   "execution_count": 43,
   "metadata": {},
   "outputs": [
    {
     "data": {
      "text/plain": [
       "array([[  10. ,    5.8,   14.2],\n",
       "       [  10. ,    5.8,   14.2],\n",
       "       [  10. ,    5.8,   14.2],\n",
       "       [  10. ,    5.8,   14.2],\n",
       "       [  10. ,    5.8,   14.2],\n",
       "       [ 200. ,  148. ,  252. ],\n",
       "       [ 200. ,  148. ,  252. ],\n",
       "       [ 200. ,  148. ,  252. ],\n",
       "       [ 200. ,  148. ,  252. ],\n",
       "       [ 200. ,  148. ,  252. ],\n",
       "       [3000. , 2380. , 3620. ],\n",
       "       [3000. , 2380. , 3620. ],\n",
       "       [3000. , 2380. , 3620. ],\n",
       "       [3000. , 2380. , 3620. ],\n",
       "       [3000. , 2380. , 3620. ]])"
      ]
     },
     "execution_count": 43,
     "metadata": {},
     "output_type": "execute_result"
    }
   ],
   "source": [
    "predictions_stack.reshape(-1, 3)"
   ]
  },
  {
   "cell_type": "code",
   "execution_count": 54,
   "metadata": {},
   "outputs": [
    {
     "data": {
      "text/plain": [
       "array([[ 1, 10],\n",
       "       [ 2, 20],\n",
       "       [ 3, 30],\n",
       "       [ 4, 40],\n",
       "       [ 5, 50]])"
      ]
     },
     "execution_count": 54,
     "metadata": {},
     "output_type": "execute_result"
    }
   ],
   "source": [
    "d = {\n",
    "    'l1': np.arange(1, 6),\n",
    "    'l2': np.arange(10, 60, 10),\n",
    "}\n",
    "\n",
    "arr = np.array([d[level] for level in ['l1', 'l2']]).T\n",
    "arr"
   ]
  },
  {
   "cell_type": "code",
   "execution_count": 57,
   "metadata": {},
   "outputs": [
    {
     "data": {
      "text/plain": [
       "4.2"
      ]
     },
     "execution_count": 57,
     "metadata": {},
     "output_type": "execute_result"
    }
   ],
   "source": [
    "np.nanquantile(np.array([1, 2, 3, 4, 5, np.nan]), 0.8)"
   ]
  },
  {
   "cell_type": "code",
   "execution_count": 89,
   "metadata": {},
   "outputs": [
    {
     "data": {
      "text/html": [
       "<div>\n",
       "<style scoped>\n",
       "    .dataframe tbody tr th:only-of-type {\n",
       "        vertical-align: middle;\n",
       "    }\n",
       "\n",
       "    .dataframe tbody tr th {\n",
       "        vertical-align: top;\n",
       "    }\n",
       "\n",
       "    .dataframe thead th {\n",
       "        text-align: right;\n",
       "    }\n",
       "</style>\n",
       "<table border=\"1\" class=\"dataframe\">\n",
       "  <thead>\n",
       "    <tr style=\"text-align: right;\">\n",
       "      <th></th>\n",
       "      <th>col_0</th>\n",
       "      <th>col_1</th>\n",
       "      <th>col_2</th>\n",
       "      <th>col_3</th>\n",
       "      <th>col_4</th>\n",
       "      <th>col_5</th>\n",
       "      <th>col_6</th>\n",
       "      <th>col_7</th>\n",
       "      <th>col_8</th>\n",
       "      <th>col_9</th>\n",
       "      <th>...</th>\n",
       "      <th>col_40</th>\n",
       "      <th>col_41</th>\n",
       "      <th>col_42</th>\n",
       "      <th>col_43</th>\n",
       "      <th>col_44</th>\n",
       "      <th>col_45</th>\n",
       "      <th>col_46</th>\n",
       "      <th>col_47</th>\n",
       "      <th>col_48</th>\n",
       "      <th>col_49</th>\n",
       "    </tr>\n",
       "  </thead>\n",
       "  <tbody>\n",
       "    <tr>\n",
       "      <th>0</th>\n",
       "      <td>-1.085631</td>\n",
       "      <td>0.997345</td>\n",
       "      <td>0.282978</td>\n",
       "      <td>-1.506295</td>\n",
       "      <td>-0.578600</td>\n",
       "      <td>1.651437</td>\n",
       "      <td>-2.426679</td>\n",
       "      <td>-0.428913</td>\n",
       "      <td>1.265936</td>\n",
       "      <td>-0.866740</td>\n",
       "      <td>...</td>\n",
       "      <td>-0.805367</td>\n",
       "      <td>-1.727669</td>\n",
       "      <td>-0.390900</td>\n",
       "      <td>0.573806</td>\n",
       "      <td>0.338589</td>\n",
       "      <td>-0.011830</td>\n",
       "      <td>2.392365</td>\n",
       "      <td>0.412912</td>\n",
       "      <td>0.978736</td>\n",
       "      <td>2.238143</td>\n",
       "    </tr>\n",
       "    <tr>\n",
       "      <th>1</th>\n",
       "      <td>-1.294085</td>\n",
       "      <td>-1.038788</td>\n",
       "      <td>1.743712</td>\n",
       "      <td>-0.798063</td>\n",
       "      <td>0.029683</td>\n",
       "      <td>1.069316</td>\n",
       "      <td>0.890706</td>\n",
       "      <td>1.754886</td>\n",
       "      <td>1.495644</td>\n",
       "      <td>1.069393</td>\n",
       "      <td>...</td>\n",
       "      <td>1.150206</td>\n",
       "      <td>-1.267352</td>\n",
       "      <td>0.181035</td>\n",
       "      <td>1.177862</td>\n",
       "      <td>-0.335011</td>\n",
       "      <td>1.031114</td>\n",
       "      <td>-1.084568</td>\n",
       "      <td>-1.363472</td>\n",
       "      <td>0.379401</td>\n",
       "      <td>-0.379176</td>\n",
       "    </tr>\n",
       "    <tr>\n",
       "      <th>2</th>\n",
       "      <td>0.642055</td>\n",
       "      <td>-1.977888</td>\n",
       "      <td>0.712265</td>\n",
       "      <td>2.598304</td>\n",
       "      <td>-0.024626</td>\n",
       "      <td>0.034142</td>\n",
       "      <td>0.179549</td>\n",
       "      <td>-1.861976</td>\n",
       "      <td>0.426147</td>\n",
       "      <td>-1.605410</td>\n",
       "      <td>...</td>\n",
       "      <td>-0.823431</td>\n",
       "      <td>0.130215</td>\n",
       "      <td>1.267299</td>\n",
       "      <td>0.332765</td>\n",
       "      <td>0.556549</td>\n",
       "      <td>-0.212080</td>\n",
       "      <td>0.456271</td>\n",
       "      <td>1.544544</td>\n",
       "      <td>-0.239669</td>\n",
       "      <td>0.143308</td>\n",
       "    </tr>\n",
       "  </tbody>\n",
       "</table>\n",
       "<p>3 rows × 50 columns</p>\n",
       "</div>"
      ],
      "text/plain": [
       "      col_0     col_1     col_2     col_3     col_4     col_5     col_6  \\\n",
       "0 -1.085631  0.997345  0.282978 -1.506295 -0.578600  1.651437 -2.426679   \n",
       "1 -1.294085 -1.038788  1.743712 -0.798063  0.029683  1.069316  0.890706   \n",
       "2  0.642055 -1.977888  0.712265  2.598304 -0.024626  0.034142  0.179549   \n",
       "\n",
       "      col_7     col_8     col_9  ...    col_40    col_41    col_42    col_43  \\\n",
       "0 -0.428913  1.265936 -0.866740  ... -0.805367 -1.727669 -0.390900  0.573806   \n",
       "1  1.754886  1.495644  1.069393  ...  1.150206 -1.267352  0.181035  1.177862   \n",
       "2 -1.861976  0.426147 -1.605410  ... -0.823431  0.130215  1.267299  0.332765   \n",
       "\n",
       "     col_44    col_45    col_46    col_47    col_48    col_49  \n",
       "0  0.338589 -0.011830  2.392365  0.412912  0.978736  2.238143  \n",
       "1 -0.335011  1.031114 -1.084568 -1.363472  0.379401 -0.379176  \n",
       "2  0.556549 -0.212080  0.456271  1.544544 -0.239669  0.143308  \n",
       "\n",
       "[3 rows x 50 columns]"
      ]
     },
     "execution_count": 89,
     "metadata": {},
     "output_type": "execute_result"
    }
   ],
   "source": [
    "# Create a df with 50 cols and 1000 rows numericals\n",
    "n_cols = 50\n",
    "n_rows = 10000\n",
    "\n",
    "np.random.seed(123)\n",
    "df = pd.DataFrame(np.random.randn(n_rows, n_cols), columns=[f'col_{i}' for i in range(n_cols)])\n",
    "df.head(3)"
   ]
  },
  {
   "cell_type": "code",
   "execution_count": 90,
   "metadata": {},
   "outputs": [],
   "source": [
    "my_dict = df.to_dict(orient='list')"
   ]
  },
  {
   "cell_type": "code",
   "execution_count": 91,
   "metadata": {},
   "outputs": [
    {
     "data": {
      "text/plain": [
       "Index(['col_0', 'col_1', 'col_2', 'col_3', 'col_4', 'col_5', 'col_6', 'col_7',\n",
       "       'col_8', 'col_9', 'col_10', 'col_11', 'col_12', 'col_13', 'col_14',\n",
       "       'col_15', 'col_16', 'col_17', 'col_18', 'col_19', 'col_20', 'col_21',\n",
       "       'col_22', 'col_23', 'col_24', 'col_25', 'col_26', 'col_27', 'col_28',\n",
       "       'col_29', 'col_30', 'col_31', 'col_32', 'col_33', 'col_34', 'col_35',\n",
       "       'col_36', 'col_37', 'col_38', 'col_39', 'col_40', 'col_41', 'col_42',\n",
       "       'col_43', 'col_44', 'col_45', 'col_46', 'col_47', 'col_48', 'col_49'],\n",
       "      dtype='object')"
      ]
     },
     "execution_count": 91,
     "metadata": {},
     "output_type": "execute_result"
    }
   ],
   "source": [
    "levels = df.columns\n",
    "n_levels = len(levels)\n",
    "levels"
   ]
  },
  {
   "cell_type": "code",
   "execution_count": 92,
   "metadata": {},
   "outputs": [
    {
     "data": {
      "text/plain": [
       "dict_keys(['col_0', 'col_1', 'col_2', 'col_3', 'col_4', 'col_5', 'col_6', 'col_7', 'col_8', 'col_9', 'col_10', 'col_11', 'col_12', 'col_13', 'col_14', 'col_15', 'col_16', 'col_17', 'col_18', 'col_19', 'col_20', 'col_21', 'col_22', 'col_23', 'col_24', 'col_25', 'col_26', 'col_27', 'col_28', 'col_29', 'col_30', 'col_31', 'col_32', 'col_33', 'col_34', 'col_35', 'col_36', 'col_37', 'col_38', 'col_39', 'col_40', 'col_41', 'col_42', 'col_43', 'col_44', 'col_45', 'col_46', 'col_47', 'col_48', 'col_49'])"
      ]
     },
     "execution_count": 92,
     "metadata": {},
     "output_type": "execute_result"
    }
   ],
   "source": [
    "my_dict.keys()"
   ]
  },
  {
   "cell_type": "code",
   "execution_count": 93,
   "metadata": {},
   "outputs": [
    {
     "name": "stdout",
     "output_type": "stream",
     "text": [
      "20.2 ms ± 74.7 μs per loop (mean ± std. dev. of 7 runs, 100 loops each)\n"
     ]
    }
   ],
   "source": [
    "%%timeit\n",
    "\n",
    "for i, level in enumerate(levels):\n",
    "    np.quantile(\n",
    "        np.abs(my_dict[level]), nominal_coverage\n",
    "    )"
   ]
  },
  {
   "cell_type": "code",
   "execution_count": 94,
   "metadata": {},
   "outputs": [
    {
     "name": "stdout",
     "output_type": "stream",
     "text": [
      "20.6 ms ± 530 μs per loop (mean ± std. dev. of 7 runs, 10 loops each)\n"
     ]
    }
   ],
   "source": [
    "%%timeit\n",
    "\n",
    "correction_factor = np.full(\n",
    "    shape=(2, n_levels), fill_value=np.nan, order='C', dtype=float\n",
    ")\n",
    "for i, level in enumerate(levels):\n",
    "    correction_factor[:, i] = np.quantile(\n",
    "        np.abs(my_dict[level]), nominal_coverage\n",
    "    )"
   ]
  },
  {
   "cell_type": "code",
   "execution_count": 95,
   "metadata": {},
   "outputs": [
    {
     "name": "stdout",
     "output_type": "stream",
     "text": [
      "7.78 ms ± 154 μs per loop (mean ± std. dev. of 7 runs, 100 loops each)\n"
     ]
    }
   ],
   "source": [
    "%%timeit\n",
    "\n",
    "np.quantile(np.abs(df), nominal_coverage, axis=0)"
   ]
  },
  {
   "cell_type": "code",
   "execution_count": 20,
   "metadata": {},
   "outputs": [],
   "source": [
    "forecaster = ForecasterDirect(\n",
    "    LinearRegression(), steps=5, lags=3, differentiation=1\n",
    ")\n",
    "forecaster.fit(y=y)\n",
    "results = forecaster._predict_interval_conformal(\n",
    "    steps=5, nominal_coverage=0.95, use_in_sample_residuals=True\n",
    ")"
   ]
  },
  {
   "cell_type": "code",
   "execution_count": 21,
   "metadata": {},
   "outputs": [
    {
     "data": {
      "text/plain": [
       "array([[ 0.65659084,  0.17710854,  1.13607314],\n",
       "       [ 0.6496844 , -0.40541691,  1.7047857 ],\n",
       "       [ 0.61632235, -0.98830203,  2.22094673],\n",
       "       [ 0.59545137, -1.53828123,  2.72918398],\n",
       "       [ 0.64917089, -2.01927988,  3.31762167]])"
      ]
     },
     "execution_count": 21,
     "metadata": {},
     "output_type": "execute_result"
    }
   ],
   "source": [
    "results.to_numpy()"
   ]
  },
  {
   "cell_type": "code",
   "execution_count": null,
   "metadata": {},
   "outputs": [],
   "source": []
  }
 ],
 "metadata": {
  "kernelspec": {
   "display_name": "skforecast_py11_2",
   "language": "python",
   "name": "python3"
  },
  "language_info": {
   "codemirror_mode": {
    "name": "ipython",
    "version": 3
   },
   "file_extension": ".py",
   "mimetype": "text/x-python",
   "name": "python",
   "nbconvert_exporter": "python",
   "pygments_lexer": "ipython3",
   "version": "3.11.10"
  },
  "orig_nbformat": 4
 },
 "nbformat": 4,
 "nbformat_minor": 2
}
