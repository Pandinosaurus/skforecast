{
 "cells": [
  {
   "cell_type": "code",
   "execution_count": 1,
   "metadata": {},
   "outputs": [
    {
     "name": "stdout",
     "output_type": "stream",
     "text": [
      "c:\\Users\\jaesc2\\GitHub\\skforecast\n"
     ]
    }
   ],
   "source": [
    "%load_ext autoreload\n",
    "%autoreload 2\n",
    "import sys\n",
    "from pathlib import Path\n",
    "path = str(Path.cwd().parent)\n",
    "print(path)\n",
    "sys.path.insert(1, path)"
   ]
  },
  {
   "cell_type": "code",
   "execution_count": 7,
   "metadata": {},
   "outputs": [],
   "source": [
    "import pytest\n",
    "import numpy as np\n",
    "import pandas as pd\n",
    "from sklearn.preprocessing import StandardScaler\n",
    "from sklearn.linear_model import LinearRegression\n",
    "from skforecast.preprocessing import RollingFeatures\n",
    "from skforecast.recursive import ForecasterRecursive\n",
    "from skforecast.direct import ForecasterDirect\n",
    "from skforecast.direct import ForecasterDirectMultiVariate\n",
    "\n",
    "# Fixtures\n",
    "# from skforecast.direct.tests.tests_forecaster_direct.fixtures_forecaster_direct import y\n",
    "# from skforecast.direct.tests.tests_forecaster_direct.fixtures_forecaster_direct import exog, exog_predict\n",
    "from skforecast.direct.tests.tests_forecaster_direct_multivariate.fixtures_forecaster_direct_multivariate import series\n",
    "from skforecast.direct.tests.tests_forecaster_direct_multivariate.fixtures_forecaster_direct_multivariate import exog, exog_predict"
   ]
  },
  {
   "cell_type": "code",
   "execution_count": 13,
   "metadata": {},
   "outputs": [
    {
     "data": {
      "text/html": [
       "<div>\n",
       "<style scoped>\n",
       "    .dataframe tbody tr th:only-of-type {\n",
       "        vertical-align: middle;\n",
       "    }\n",
       "\n",
       "    .dataframe tbody tr th {\n",
       "        vertical-align: top;\n",
       "    }\n",
       "\n",
       "    .dataframe thead th {\n",
       "        text-align: right;\n",
       "    }\n",
       "</style>\n",
       "<table border=\"1\" class=\"dataframe\">\n",
       "  <thead>\n",
       "    <tr style=\"text-align: right;\">\n",
       "      <th></th>\n",
       "      <th>level</th>\n",
       "      <th>pred_boot_0</th>\n",
       "      <th>pred_boot_1</th>\n",
       "      <th>pred_boot_2</th>\n",
       "      <th>pred_boot_3</th>\n",
       "      <th>pred_boot_4</th>\n",
       "    </tr>\n",
       "  </thead>\n",
       "  <tbody>\n",
       "    <tr>\n",
       "      <th>50</th>\n",
       "      <td>l1</td>\n",
       "      <td>0.989501</td>\n",
       "      <td>0.684815</td>\n",
       "      <td>0.881146</td>\n",
       "      <td>0.755644</td>\n",
       "      <td>0.978991</td>\n",
       "    </tr>\n",
       "    <tr>\n",
       "      <th>51</th>\n",
       "      <td>l1</td>\n",
       "      <td>0.752124</td>\n",
       "      <td>0.452307</td>\n",
       "      <td>0.625725</td>\n",
       "      <td>0.414657</td>\n",
       "      <td>0.264310</td>\n",
       "    </tr>\n",
       "    <tr>\n",
       "      <th>52</th>\n",
       "      <td>l1</td>\n",
       "      <td>0.306092</td>\n",
       "      <td>0.409670</td>\n",
       "      <td>0.425193</td>\n",
       "      <td>0.419100</td>\n",
       "      <td>0.383594</td>\n",
       "    </tr>\n",
       "    <tr>\n",
       "      <th>53</th>\n",
       "      <td>l1</td>\n",
       "      <td>0.036610</td>\n",
       "      <td>0.745491</td>\n",
       "      <td>0.289779</td>\n",
       "      <td>0.467800</td>\n",
       "      <td>0.607408</td>\n",
       "    </tr>\n",
       "    <tr>\n",
       "      <th>54</th>\n",
       "      <td>l1</td>\n",
       "      <td>0.486608</td>\n",
       "      <td>0.399265</td>\n",
       "      <td>0.645374</td>\n",
       "      <td>0.364456</td>\n",
       "      <td>0.097450</td>\n",
       "    </tr>\n",
       "  </tbody>\n",
       "</table>\n",
       "</div>"
      ],
      "text/plain": [
       "   level  pred_boot_0  pred_boot_1  pred_boot_2  pred_boot_3  pred_boot_4\n",
       "50    l1     0.989501     0.684815     0.881146     0.755644     0.978991\n",
       "51    l1     0.752124     0.452307     0.625725     0.414657     0.264310\n",
       "52    l1     0.306092     0.409670     0.425193     0.419100     0.383594\n",
       "53    l1     0.036610     0.745491     0.289779     0.467800     0.607408\n",
       "54    l1     0.486608     0.399265     0.645374     0.364456     0.097450"
      ]
     },
     "execution_count": 13,
     "metadata": {},
     "output_type": "execute_result"
    }
   ],
   "source": [
    "forecaster = ForecasterDirectMultiVariate(\n",
    "                     regressor = LinearRegression(),\n",
    "                     level     = 'l1',\n",
    "                     steps     = 5,\n",
    "                     lags      = 5\n",
    "                 )\n",
    "forecaster.fit(series=series)\n",
    "\n",
    "recommended_n_boot = 5\n",
    "for k, v in forecaster.in_sample_residuals_by_bin_.items():\n",
    "    forecaster.in_sample_residuals_by_bin_[k] = v[:recommended_n_boot]\n",
    "    \n",
    "results = forecaster.predict_bootstrapping(\n",
    "    steps=5, n_boot=recommended_n_boot, use_in_sample_residuals=True, use_binned_residuals=True\n",
    ")\n",
    "results"
   ]
  },
  {
   "cell_type": "code",
   "execution_count": 14,
   "metadata": {},
   "outputs": [
    {
     "data": {
      "text/plain": [
       "array([[0.98950112, 0.68481511, 0.88114584, 0.7556436 , 0.97899051],\n",
       "       [0.75212361, 0.45230689, 0.62572451, 0.41465675, 0.26430958],\n",
       "       [0.30609163, 0.40967018, 0.42519328, 0.41910018, 0.38359395],\n",
       "       [0.03661046, 0.74549056, 0.28977873, 0.46779981, 0.60740805],\n",
       "       [0.48660788, 0.39926529, 0.64537401, 0.3644564 , 0.09744978]])"
      ]
     },
     "execution_count": 14,
     "metadata": {},
     "output_type": "execute_result"
    }
   ],
   "source": [
    "results.filter(regex='^pred_boo', axis=1).to_numpy()"
   ]
  },
  {
   "cell_type": "code",
   "execution_count": null,
   "metadata": {},
   "outputs": [],
   "source": []
  },
  {
   "cell_type": "code",
   "execution_count": null,
   "metadata": {},
   "outputs": [],
   "source": []
  }
 ],
 "metadata": {
  "kernelspec": {
   "display_name": "skforecast_py11_2",
   "language": "python",
   "name": "python3"
  },
  "language_info": {
   "codemirror_mode": {
    "name": "ipython",
    "version": 3
   },
   "file_extension": ".py",
   "mimetype": "text/x-python",
   "name": "python",
   "nbconvert_exporter": "python",
   "pygments_lexer": "ipython3",
   "version": "3.11.10"
  },
  "orig_nbformat": 4
 },
 "nbformat": 4,
 "nbformat_minor": 2
}
