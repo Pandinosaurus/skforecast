{
 "cells": [
  {
   "cell_type": "code",
   "execution_count": 3,
   "metadata": {},
   "outputs": [
    {
     "name": "stdout",
     "output_type": "stream",
     "text": [
      "/home/ubuntu/varios/skforecast\n"
     ]
    }
   ],
   "source": [
    "%load_ext autoreload\n",
    "%autoreload 2\n",
    "import sys\n",
    "from pathlib import Path\n",
    "path = str(Path.cwd().parent)\n",
    "print(path)\n",
    "sys.path.insert(1, path)"
   ]
  },
  {
   "cell_type": "code",
   "execution_count": 1,
   "metadata": {},
   "outputs": [
    {
     "data": {
      "application/vnd.jupyter.widget-view+json": {
       "model_id": "35be9b585a584c11b935b03d16222c2f",
       "version_major": 2,
       "version_minor": 0
      },
      "text/plain": [
       "Output()"
      ]
     },
     "metadata": {},
     "output_type": "display_data"
    },
    {
     "data": {
      "text/html": [
       "<pre style=\"white-space:pre;overflow-x:auto;line-height:normal;font-family:Menlo,'DejaVu Sans Mono',consolas,'Courier New',monospace\"></pre>\n"
      ],
      "text/plain": []
     },
     "metadata": {},
     "output_type": "display_data"
    }
   ],
   "source": [
    "from rich.progress import track\n",
    "from time import sleep\n",
    "\n",
    "folds = range(80)\n",
    "show_progress_bar = True\n",
    "\n",
    "if show_progress_bar:\n",
    "    folds = track(folds, description=\"Processing folds\")\n",
    "\n",
    "# Only wrap folds with track if show_progress_bar is True\n",
    "for fold in folds:\n",
    "    sleep(0.01)"
   ]
  },
  {
   "cell_type": "code",
   "execution_count": 2,
   "metadata": {},
   "outputs": [
    {
     "data": {
      "application/vnd.jupyter.widget-view+json": {
       "model_id": "f0a69bafa84446109455c7dbc9e39331",
       "version_major": 2,
       "version_minor": 0
      },
      "text/plain": [
       "Output()"
      ]
     },
     "metadata": {},
     "output_type": "display_data"
    },
    {
     "data": {
      "text/html": [
       "<pre style=\"white-space:pre;overflow-x:auto;line-height:normal;font-family:Menlo,'DejaVu Sans Mono',consolas,'Courier New',monospace\"></pre>\n"
      ],
      "text/plain": []
     },
     "metadata": {},
     "output_type": "display_data"
    }
   ],
   "source": [
    "from rich.progress import Progress\n",
    "from time import sleep\n",
    "\n",
    "folds_1 = range(10)\n",
    "folds_2 = range(80)\n",
    "show_progress_bar = True\n",
    "\n",
    "if show_progress_bar:\n",
    "    with Progress() as progress:\n",
    "        task1 = progress.add_task(\"Processing folds\", total=len(folds_1))\n",
    "        task2 = progress.add_task(\"Processing sub-folds\", total=len(folds_2))\n",
    "\n",
    "        for fold in folds_1:\n",
    "            progress.update(task1, advance=1)\n",
    "            sleep(0.01)\n",
    "            for fold_2 in folds_2:\n",
    "                progress.update(task2, advance=1)\n",
    "                sleep(0.01)\n",
    "            progress.reset(task2)\n",
    "else:\n",
    "    for fold in folds_1:\n",
    "        sleep(0.01)\n",
    "        for fold_2 in folds_2:\n",
    "            sleep(0.01)\n",
    "            pass"
   ]
  }
 ],
 "metadata": {
  "kernelspec": {
   "display_name": "skforecast_14_py12",
   "language": "python",
   "name": "python3"
  },
  "language_info": {
   "codemirror_mode": {
    "name": "ipython",
    "version": 3
   },
   "file_extension": ".py",
   "mimetype": "text/x-python",
   "name": "python",
   "nbconvert_exporter": "python",
   "pygments_lexer": "ipython3",
   "version": "3.12.5"
  },
  "orig_nbformat": 4
 },
 "nbformat": 4,
 "nbformat_minor": 2
}
