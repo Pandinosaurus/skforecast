{
 "cells": [
  {
   "cell_type": "code",
   "execution_count": 2,
   "metadata": {},
   "outputs": [
    {
     "name": "stdout",
     "output_type": "stream",
     "text": [
      "/home/ubuntu/varios/skforecast\n"
     ]
    }
   ],
   "source": [
    "%load_ext autoreload\n",
    "%autoreload 2\n",
    "import sys\n",
    "from pathlib import Path\n",
    "path = str(Path.cwd().parent)\n",
    "print(path)\n",
    "sys.path.insert(1, path)\n",
    "\n",
    "import numpy as np\n",
    "import pandas as pd"
   ]
  },
  {
   "cell_type": "code",
   "execution_count": 3,
   "metadata": {},
   "outputs": [],
   "source": [
    "import re\n",
    "import pytest\n",
    "import numpy as np\n",
    "import pandas as pd\n",
    "from sklearn.exceptions import NotFittedError\n",
    "from sklearn.compose import ColumnTransformer\n",
    "from sklearn.preprocessing import StandardScaler\n",
    "from sklearn.preprocessing import OneHotEncoder\n",
    "from sklearn.linear_model import LinearRegression\n",
    "from lightgbm import LGBMRegressor\n",
    "\n",
    "from skforecast.exceptions import IgnoredArgumentWarning\n",
    "from skforecast.exceptions import UnknownLevelWarning\n",
    "from skforecast.preprocessing import RollingFeatures\n",
    "from skforecast.recursive import ForecasterRecursiveMultiSeries\n",
    "\n",
    "# Fixtures\n",
    "from skforecast.recursive.tests.tests_forecaster_recursive_multiseries.fixtures_forecaster_recursive_multiseries import series\n",
    "from skforecast.recursive.tests.tests_forecaster_recursive_multiseries.fixtures_forecaster_recursive_multiseries import exog\n",
    "from skforecast.recursive.tests.tests_forecaster_recursive_multiseries.fixtures_forecaster_recursive_multiseries import exog_predict\n",
    "from skforecast.recursive.tests.tests_forecaster_recursive_multiseries.fixtures_forecaster_recursive_multiseries import expected_df_to_long_format\n",
    "\n",
    "transformer_exog = ColumnTransformer(\n",
    "                       [('scale', StandardScaler(), ['exog_1']),\n",
    "                        ('onehot', OneHotEncoder(), ['exog_2'])],\n",
    "                       remainder = 'passthrough',\n",
    "                       verbose_feature_names_out = False\n",
    "                   )"
   ]
  },
  {
   "cell_type": "code",
   "execution_count": null,
   "metadata": {},
   "outputs": [
    {
     "name": "stderr",
     "output_type": "stream",
     "text": [
      "/home/ubuntu/anaconda3/envs/skforecast_15_py12/lib/python3.12/site-packages/skforecast/recursive/_forecaster_recursive_multiseries.py:466: UserWarning: When using a linear model, it is recommended to use a transformer_series to ensure all series are in the same scale. You can use, for example, a `StandardScaler` from sklearn.preprocessing.\n",
      "  warnings.warn(\n",
      "/home/ubuntu/anaconda3/envs/skforecast_15_py12/lib/python3.12/site-packages/skforecast/recursive/_forecaster_recursive_multiseries.py:3421: ResidualsUsageWarning: The following bins of level 1 have no out of sample residuals: [1, 2, 3, 4, 5, 6, 7, 8, 9]. No predicted values fall in the interval [(0.4860383083538675, 0.49117976606553043), (0.49117976606553043, 0.49482608458191363), (0.49482608458191363, 0.5015610840405601), (0.5015610840405601, 0.5058495847552738), (0.5058495847552738, 0.5114892533375702), (0.5114892533375702, 0.5215509623906033), (0.5215509623906033, 0.5269873850040985), (0.5269873850040985, 0.5324886834159035), (0.5324886834159035, 0.5462600515552677)]. Empty bins will be filled with a random sample of residuals.\n",
      "You can suppress this warning using: warnings.simplefilter('ignore', category=ResidualsUsageWarning)\n",
      "  warnings.warn(\n"
     ]
    },
    {
     "ename": "ValueError",
     "evalue": "Residuals for level '2' are None. Check `forecaster.out_sample_residuals_by_bin_`.",
     "output_type": "error",
     "traceback": [
      "\u001b[0;31m---------------------------------------------------------------------------\u001b[0m",
      "\u001b[0;31mValueError\u001b[0m                                Traceback (most recent call last)",
      "Cell \u001b[0;32mIn[6], line 14\u001b[0m\n\u001b[1;32m      9\u001b[0m forecaster\u001b[38;5;241m.\u001b[39mset_out_sample_residuals(y_true\u001b[38;5;241m=\u001b[39my_true, y_pred\u001b[38;5;241m=\u001b[39my_pred)\n\u001b[1;32m     11\u001b[0m err_msg \u001b[38;5;241m=\u001b[39m re\u001b[38;5;241m.\u001b[39mescape(\n\u001b[1;32m     12\u001b[0m     \u001b[38;5;124m\"\u001b[39m\u001b[38;5;124mResiduals for level \u001b[39m\u001b[38;5;124m'\u001b[39m\u001b[38;5;124m2\u001b[39m\u001b[38;5;124m'\u001b[39m\u001b[38;5;124m are None. Check `forecaster.out_sample_residuals_`.\u001b[39m\u001b[38;5;124m\"\u001b[39m\n\u001b[1;32m     13\u001b[0m )\n\u001b[0;32m---> 14\u001b[0m \u001b[43mforecaster\u001b[49m\u001b[38;5;241;43m.\u001b[39;49m\u001b[43mpredict_bootstrapping\u001b[49m\u001b[43m(\u001b[49m\u001b[43msteps\u001b[49m\u001b[38;5;241;43m=\u001b[39;49m\u001b[38;5;241;43m3\u001b[39;49m\u001b[43m,\u001b[49m\u001b[43m \u001b[49m\u001b[43muse_in_sample_residuals\u001b[49m\u001b[38;5;241;43m=\u001b[39;49m\u001b[38;5;28;43;01mFalse\u001b[39;49;00m\u001b[43m,\u001b[49m\u001b[43m \u001b[49m\u001b[43muse_binned_residuals\u001b[49m\u001b[38;5;241;43m=\u001b[39;49m\u001b[38;5;28;43;01mTrue\u001b[39;49;00m\u001b[43m)\u001b[49m\n",
      "File \u001b[0;32m~/anaconda3/envs/skforecast_15_py12/lib/python3.12/site-packages/skforecast/recursive/_forecaster_recursive_multiseries.py:2520\u001b[0m, in \u001b[0;36mForecasterRecursiveMultiSeries.predict_bootstrapping\u001b[0;34m(self, steps, levels, last_window, exog, n_boot, use_in_sample_residuals, use_binned_residuals, random_state, suppress_warnings)\u001b[0m\n\u001b[1;32m   2457\u001b[0m \u001b[38;5;250m\u001b[39m\u001b[38;5;124;03m\"\"\"\u001b[39;00m\n\u001b[1;32m   2458\u001b[0m \u001b[38;5;124;03mGenerate multiple forecasting predictions using a bootstrapping process. \u001b[39;00m\n\u001b[1;32m   2459\u001b[0m \u001b[38;5;124;03mBy sampling from a collection of past observed errors (the residuals),\u001b[39;00m\n\u001b[0;32m   (...)\u001b[0m\n\u001b[1;32m   2510\u001b[0m \n\u001b[1;32m   2511\u001b[0m \u001b[38;5;124;03m\"\"\"\u001b[39;00m\n\u001b[1;32m   2513\u001b[0m set_skforecast_warnings(suppress_warnings, action\u001b[38;5;241m=\u001b[39m\u001b[38;5;124m'\u001b[39m\u001b[38;5;124mignore\u001b[39m\u001b[38;5;124m'\u001b[39m)\n\u001b[1;32m   2515\u001b[0m (\n\u001b[1;32m   2516\u001b[0m     last_window,\n\u001b[1;32m   2517\u001b[0m     exog_values_dict,\n\u001b[1;32m   2518\u001b[0m     levels,\n\u001b[1;32m   2519\u001b[0m     prediction_index\n\u001b[0;32m-> 2520\u001b[0m ) \u001b[38;5;241m=\u001b[39m \u001b[38;5;28;43mself\u001b[39;49m\u001b[38;5;241;43m.\u001b[39;49m\u001b[43m_create_predict_inputs\u001b[49m\u001b[43m(\u001b[49m\n\u001b[1;32m   2521\u001b[0m \u001b[43m        \u001b[49m\u001b[43msteps\u001b[49m\u001b[43m                   \u001b[49m\u001b[38;5;241;43m=\u001b[39;49m\u001b[43m \u001b[49m\u001b[43msteps\u001b[49m\u001b[43m,\u001b[49m\n\u001b[1;32m   2522\u001b[0m \u001b[43m        \u001b[49m\u001b[43mlevels\u001b[49m\u001b[43m                  \u001b[49m\u001b[38;5;241;43m=\u001b[39;49m\u001b[43m \u001b[49m\u001b[43mlevels\u001b[49m\u001b[43m,\u001b[49m\n\u001b[1;32m   2523\u001b[0m \u001b[43m        \u001b[49m\u001b[43mlast_window\u001b[49m\u001b[43m             \u001b[49m\u001b[38;5;241;43m=\u001b[39;49m\u001b[43m \u001b[49m\u001b[43mlast_window\u001b[49m\u001b[43m,\u001b[49m\n\u001b[1;32m   2524\u001b[0m \u001b[43m        \u001b[49m\u001b[43mexog\u001b[49m\u001b[43m                    \u001b[49m\u001b[38;5;241;43m=\u001b[39;49m\u001b[43m \u001b[49m\u001b[43mexog\u001b[49m\u001b[43m,\u001b[49m\n\u001b[1;32m   2525\u001b[0m \u001b[43m        \u001b[49m\u001b[43mpredict_probabilistic\u001b[49m\u001b[43m   \u001b[49m\u001b[38;5;241;43m=\u001b[39;49m\u001b[43m \u001b[49m\u001b[38;5;28;43;01mTrue\u001b[39;49;00m\u001b[43m,\u001b[49m\n\u001b[1;32m   2526\u001b[0m \u001b[43m        \u001b[49m\u001b[43muse_in_sample_residuals\u001b[49m\u001b[43m \u001b[49m\u001b[38;5;241;43m=\u001b[39;49m\u001b[43m \u001b[49m\u001b[43muse_in_sample_residuals\u001b[49m\u001b[43m,\u001b[49m\n\u001b[1;32m   2527\u001b[0m \u001b[43m        \u001b[49m\u001b[43muse_binned_residuals\u001b[49m\u001b[43m    \u001b[49m\u001b[38;5;241;43m=\u001b[39;49m\u001b[43m \u001b[49m\u001b[43muse_binned_residuals\u001b[49m\n\u001b[1;32m   2528\u001b[0m \u001b[43m    \u001b[49m\u001b[43m)\u001b[49m\n\u001b[1;32m   2530\u001b[0m \u001b[38;5;28;01mif\u001b[39;00m use_in_sample_residuals:\n\u001b[1;32m   2531\u001b[0m     residuals \u001b[38;5;241m=\u001b[39m \u001b[38;5;28mself\u001b[39m\u001b[38;5;241m.\u001b[39min_sample_residuals_\n",
      "File \u001b[0;32m~/anaconda3/envs/skforecast_15_py12/lib/python3.12/site-packages/skforecast/recursive/_forecaster_recursive_multiseries.py:1968\u001b[0m, in \u001b[0;36mForecasterRecursiveMultiSeries._create_predict_inputs\u001b[0;34m(self, steps, levels, last_window, exog, predict_probabilistic, use_in_sample_residuals, use_binned_residuals, check_inputs)\u001b[0m\n\u001b[1;32m   1949\u001b[0m     check_predict_input(\n\u001b[1;32m   1950\u001b[0m         forecaster_name  \u001b[38;5;241m=\u001b[39m \u001b[38;5;28mtype\u001b[39m(\u001b[38;5;28mself\u001b[39m)\u001b[38;5;241m.\u001b[39m\u001b[38;5;18m__name__\u001b[39m,\n\u001b[1;32m   1951\u001b[0m         steps            \u001b[38;5;241m=\u001b[39m steps,\n\u001b[0;32m   (...)\u001b[0m\n\u001b[1;32m   1964\u001b[0m         encoding         \u001b[38;5;241m=\u001b[39m \u001b[38;5;28mself\u001b[39m\u001b[38;5;241m.\u001b[39mencoding\n\u001b[1;32m   1965\u001b[0m     )\n\u001b[1;32m   1967\u001b[0m     \u001b[38;5;28;01mif\u001b[39;00m predict_probabilistic:\n\u001b[0;32m-> 1968\u001b[0m         \u001b[43mcheck_residuals_input\u001b[49m\u001b[43m(\u001b[49m\n\u001b[1;32m   1969\u001b[0m \u001b[43m            \u001b[49m\u001b[43mforecaster_name\u001b[49m\u001b[43m              \u001b[49m\u001b[38;5;241;43m=\u001b[39;49m\u001b[43m \u001b[49m\u001b[38;5;28;43mtype\u001b[39;49m\u001b[43m(\u001b[49m\u001b[38;5;28;43mself\u001b[39;49m\u001b[43m)\u001b[49m\u001b[38;5;241;43m.\u001b[39;49m\u001b[38;5;18;43m__name__\u001b[39;49m\u001b[43m,\u001b[49m\n\u001b[1;32m   1970\u001b[0m \u001b[43m            \u001b[49m\u001b[43muse_in_sample_residuals\u001b[49m\u001b[43m      \u001b[49m\u001b[38;5;241;43m=\u001b[39;49m\u001b[43m \u001b[49m\u001b[43muse_in_sample_residuals\u001b[49m\u001b[43m,\u001b[49m\n\u001b[1;32m   1971\u001b[0m \u001b[43m            \u001b[49m\u001b[43min_sample_residuals_\u001b[49m\u001b[43m         \u001b[49m\u001b[38;5;241;43m=\u001b[39;49m\u001b[43m \u001b[49m\u001b[38;5;28;43mself\u001b[39;49m\u001b[38;5;241;43m.\u001b[39;49m\u001b[43min_sample_residuals_\u001b[49m\u001b[43m,\u001b[49m\n\u001b[1;32m   1972\u001b[0m \u001b[43m            \u001b[49m\u001b[43mout_sample_residuals_\u001b[49m\u001b[43m        \u001b[49m\u001b[38;5;241;43m=\u001b[39;49m\u001b[43m \u001b[49m\u001b[38;5;28;43mself\u001b[39;49m\u001b[38;5;241;43m.\u001b[39;49m\u001b[43mout_sample_residuals_\u001b[49m\u001b[43m,\u001b[49m\n\u001b[1;32m   1973\u001b[0m \u001b[43m            \u001b[49m\u001b[43muse_binned_residuals\u001b[49m\u001b[43m         \u001b[49m\u001b[38;5;241;43m=\u001b[39;49m\u001b[43m \u001b[49m\u001b[43muse_binned_residuals\u001b[49m\u001b[43m,\u001b[49m\n\u001b[1;32m   1974\u001b[0m \u001b[43m            \u001b[49m\u001b[43min_sample_residuals_by_bin_\u001b[49m\u001b[43m  \u001b[49m\u001b[38;5;241;43m=\u001b[39;49m\u001b[43m \u001b[49m\u001b[38;5;28;43mself\u001b[39;49m\u001b[38;5;241;43m.\u001b[39;49m\u001b[43min_sample_residuals_by_bin_\u001b[49m\u001b[43m,\u001b[49m\n\u001b[1;32m   1975\u001b[0m \u001b[43m            \u001b[49m\u001b[43mout_sample_residuals_by_bin_\u001b[49m\u001b[43m \u001b[49m\u001b[38;5;241;43m=\u001b[39;49m\u001b[43m \u001b[49m\u001b[38;5;28;43mself\u001b[39;49m\u001b[38;5;241;43m.\u001b[39;49m\u001b[43mout_sample_residuals_by_bin_\u001b[49m\u001b[43m,\u001b[49m\n\u001b[1;32m   1976\u001b[0m \u001b[43m            \u001b[49m\u001b[43mlevels\u001b[49m\u001b[43m                       \u001b[49m\u001b[38;5;241;43m=\u001b[39;49m\u001b[43m \u001b[49m\u001b[43mlevels\u001b[49m\u001b[43m,\u001b[49m\n\u001b[1;32m   1977\u001b[0m \u001b[43m            \u001b[49m\u001b[43mencoding\u001b[49m\u001b[43m                     \u001b[49m\u001b[38;5;241;43m=\u001b[39;49m\u001b[43m \u001b[49m\u001b[38;5;28;43mself\u001b[39;49m\u001b[38;5;241;43m.\u001b[39;49m\u001b[43mencoding\u001b[49m\n\u001b[1;32m   1978\u001b[0m \u001b[43m        \u001b[49m\u001b[43m)\u001b[49m\n\u001b[1;32m   1980\u001b[0m last_window \u001b[38;5;241m=\u001b[39m last_window\u001b[38;5;241m.\u001b[39miloc[\n\u001b[1;32m   1981\u001b[0m     \u001b[38;5;241m-\u001b[39m\u001b[38;5;28mself\u001b[39m\u001b[38;5;241m.\u001b[39mwindow_size :, last_window\u001b[38;5;241m.\u001b[39mcolumns\u001b[38;5;241m.\u001b[39mget_indexer(levels)\n\u001b[1;32m   1982\u001b[0m ]\u001b[38;5;241m.\u001b[39mcopy()\n\u001b[1;32m   1983\u001b[0m _, last_window_index \u001b[38;5;241m=\u001b[39m preprocess_last_window(\n\u001b[1;32m   1984\u001b[0m                            last_window   \u001b[38;5;241m=\u001b[39m last_window,\n\u001b[1;32m   1985\u001b[0m                            return_values \u001b[38;5;241m=\u001b[39m \u001b[38;5;28;01mFalse\u001b[39;00m\n\u001b[1;32m   1986\u001b[0m                        )\n",
      "File \u001b[0;32m~/anaconda3/envs/skforecast_15_py12/lib/python3.12/site-packages/skforecast/utils/utils.py:1339\u001b[0m, in \u001b[0;36mcheck_residuals_input\u001b[0;34m(forecaster_name, use_in_sample_residuals, in_sample_residuals_, out_sample_residuals_, use_binned_residuals, in_sample_residuals_by_bin_, out_sample_residuals_by_bin_, steps, levels, encoding)\u001b[0m\n\u001b[1;32m   1337\u001b[0m \u001b[38;5;28;01mfor\u001b[39;00m level \u001b[38;5;129;01min\u001b[39;00m residuals\u001b[38;5;241m.\u001b[39mkeys():\n\u001b[1;32m   1338\u001b[0m     \u001b[38;5;28;01mif\u001b[39;00m residuals[level] \u001b[38;5;129;01mis\u001b[39;00m \u001b[38;5;28;01mNone\u001b[39;00m \u001b[38;5;129;01mor\u001b[39;00m \u001b[38;5;28mlen\u001b[39m(residuals[level]) \u001b[38;5;241m==\u001b[39m \u001b[38;5;241m0\u001b[39m:\n\u001b[0;32m-> 1339\u001b[0m         \u001b[38;5;28;01mraise\u001b[39;00m \u001b[38;5;167;01mValueError\u001b[39;00m(\n\u001b[1;32m   1340\u001b[0m             \u001b[38;5;124mf\u001b[39m\u001b[38;5;124m\"\u001b[39m\u001b[38;5;124mResiduals for level \u001b[39m\u001b[38;5;124m'\u001b[39m\u001b[38;5;132;01m{\u001b[39;00mlevel\u001b[38;5;132;01m}\u001b[39;00m\u001b[38;5;124m'\u001b[39m\u001b[38;5;124m are None. Check `forecaster.\u001b[39m\u001b[38;5;132;01m{\u001b[39;00mliteral\u001b[38;5;132;01m}\u001b[39;00m\u001b[38;5;124m`.\u001b[39m\u001b[38;5;124m\"\u001b[39m\n\u001b[1;32m   1341\u001b[0m         )\n",
      "\u001b[0;31mValueError\u001b[0m: Residuals for level '2' are None. Check `forecaster.out_sample_residuals_by_bin_`."
     ]
    }
   ],
   "source": [
    "forecaster = ForecasterRecursiveMultiSeries(\n",
    "    LinearRegression(),\n",
    "    lags=3,\n",
    "    transformer_series=None\n",
    ")\n",
    "forecaster.fit(series=series)\n",
    "y_true = {'1': np.array([1, 2, 3, 4, 5])}\n",
    "y_pred = {'1': np.array([0, 0, 0, 0, 0])}\n",
    "forecaster.set_out_sample_residuals(y_true=y_true, y_pred=y_pred)\n",
    "\n",
    "err_msg = re.escape(\n",
    "    \"Residuals for level '2' are None. Check `forecaster.out_sample_residuals_by_bin_`.\"\n",
    ")\n",
    "forecaster.predict_bootstrapping(steps=3, use_in_sample_residuals=False, use_binned_residuals=True)"
   ]
  },
  {
   "cell_type": "code",
   "execution_count": 11,
   "metadata": {},
   "outputs": [
    {
     "name": "stderr",
     "output_type": "stream",
     "text": [
      "/home/ubuntu/anaconda3/envs/skforecast_15_py12/lib/python3.12/site-packages/skforecast/recursive/_forecaster_recursive_multiseries.py:466: UserWarning: When using a linear model, it is recommended to use a transformer_series to ensure all series are in the same scale. You can use, for example, a `StandardScaler` from sklearn.preprocessing.\n",
      "  warnings.warn(\n"
     ]
    }
   ],
   "source": [
    "\"\"\"\n",
    "Test output of predict_bootstrapping when regressor is LinearRegression and\n",
    "1 step ahead is predicted with exog using in-sample residuals.\n",
    "\"\"\"\n",
    "forecaster = ForecasterRecursiveMultiSeries(LinearRegression(), lags=3,\n",
    "                                            transformer_series=None)\n",
    "forecaster.fit(series=series, exog=exog['exog_1'])\n",
    "results = forecaster.predict_bootstrapping(\n",
    "                steps                   = 1, \n",
    "                n_boot                  = 4, \n",
    "                exog                    = exog_predict['exog_1'], \n",
    "                use_in_sample_residuals = True,\n",
    "                use_binned_residuals    = True\n",
    "            )\n",
    "\n",
    "expected_1 = pd.DataFrame(\n",
    "                    data    = np.array([[0.38187547242082853, 0.4143065346074915, 0.4289575462130275, 0.38187547242082853]]),\n",
    "                    columns = [f\"pred_boot_{i}\" for i in range(4)],\n",
    "                    index   = pd.RangeIndex(start=50, stop=51)\n",
    "                )\n",
    "expected_2 = pd.DataFrame(\n",
    "                    data    = np.array([[0.6804435739774055, 0.07849209244403665, 0.6804435739774055, 0.07849209244403665]]),\n",
    "                    columns = [f\"pred_boot_{i}\" for i in range(4)],\n",
    "                    index   = pd.RangeIndex(start=50, stop=51)\n",
    "                )\n",
    "\n",
    "expected = {'1': expected_1, '2': expected_2}\n",
    "expected = expected_df_to_long_format(expected, method='bootstrapping')\n",
    "\n",
    "pd.testing.assert_frame_equal(results, expected)"
   ]
  },
  {
   "cell_type": "code",
   "execution_count": 10,
   "metadata": {},
   "outputs": [
    {
     "data": {
      "text/plain": [
       "array([['1', 0.38187547242082853, 0.4143065346074915, 0.4289575462130275,\n",
       "        0.38187547242082853],\n",
       "       ['2', 0.6804435739774055, 0.07849209244403665, 0.6804435739774055,\n",
       "        0.07849209244403665]], dtype=object)"
      ]
     },
     "execution_count": 10,
     "metadata": {},
     "output_type": "execute_result"
    }
   ],
   "source": [
    "results.to_numpy()"
   ]
  }
 ],
 "metadata": {
  "kernelspec": {
   "display_name": "skforecast_15_py12",
   "language": "python",
   "name": "python3"
  },
  "language_info": {
   "codemirror_mode": {
    "name": "ipython",
    "version": 3
   },
   "file_extension": ".py",
   "mimetype": "text/x-python",
   "name": "python",
   "nbconvert_exporter": "python",
   "pygments_lexer": "ipython3",
   "version": "3.12.9"
  },
  "orig_nbformat": 4
 },
 "nbformat": 4,
 "nbformat_minor": 2
}
