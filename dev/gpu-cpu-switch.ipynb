{
 "cells": [
  {
   "cell_type": "code",
   "execution_count": 1,
   "metadata": {},
   "outputs": [
    {
     "name": "stdout",
     "output_type": "stream",
     "text": [
      "/home/ximo/GitHub/skforecast\n"
     ]
    }
   ],
   "source": [
    "%load_ext autoreload\n",
    "%autoreload 2\n",
    "import sys\n",
    "from pathlib import Path\n",
    "path = str(Path.cwd().parent)\n",
    "print(path)\n",
    "sys.path.insert(1, path)\n",
    "\n",
    "import numpy as np\n",
    "import pandas as pd"
   ]
  },
  {
   "cell_type": "code",
   "execution_count": 2,
   "metadata": {},
   "outputs": [],
   "source": [
    "from lightgbm import LGBMRegressor\n",
    "from xgboost import XGBRegressor\n",
    "from catboost import CatBoostRegressor\n",
    "\n",
    "regressor = CatBoostRegressor()"
   ]
  },
  {
   "cell_type": "code",
   "execution_count": 3,
   "metadata": {},
   "outputs": [
    {
     "data": {
      "text/plain": [
       "'CatBoostRegressor'"
      ]
     },
     "execution_count": 3,
     "metadata": {},
     "output_type": "execute_result"
    }
   ],
   "source": [
    "type(regressor).__name__"
   ]
  },
  {
   "cell_type": "code",
   "execution_count": 4,
   "metadata": {},
   "outputs": [],
   "source": [
    "def set_cpu_gpu_device(regressor: object, device: str | None = 'cpu') -> str:\n",
    "    \"\"\"\n",
    "    Set the device for the regressor to either 'cpu', 'gpu', 'cuda', or None.\n",
    "    \n",
    "    Parameters\n",
    "    ----------\n",
    "    regressor : object\n",
    "        An estimator object from XGBoost, LightGBM, or CatBoost.\n",
    "    device : str, default 'cpu'\n",
    "        The device to set. Can be 'cpu', 'gpu', or None. If None, it will\n",
    "        use the current device of the regressor.\n",
    "        \n",
    "    Returns\n",
    "    -------\n",
    "    \n",
    "    original_device : str\n",
    "        The original device of the regressor before setting it to the new device.\n",
    "    \"\"\"\n",
    "\n",
    "    device_names = {\n",
    "        'XGBRegressor': 'device',\n",
    "        'LGBMRegressor': 'device',\n",
    "        'CatBoostRegressor': 'task_type',\n",
    "    }\n",
    "\n",
    "    device_values = {\n",
    "        'XGBRegressor': {'gpu': 'cuda', 'cpu': 'cpu', 'cuda': 'cuda'},\n",
    "        'LGBMRegressor': {'gpu': 'gpu', 'cpu': 'cpu'},\n",
    "        'CatBoostRegressor': {'gpu': 'GPU', 'cpu': 'CPU'},\n",
    "    }\n",
    "\n",
    "    if device not in ['gpu', 'cpu', 'cuda', None]:\n",
    "        raise ValueError(\"`device` must be 'gpu', 'cpu', 'cuda', or None.\")\n",
    "\n",
    "    regressor_type = type(regressor).__name__\n",
    "    if regressor_type not in device_names:\n",
    "        return None\n",
    "    \n",
    "    original_device = regressor.get_params()[device_names[regressor_type]].lower()\n",
    "    param = device_names[regressor_type]\n",
    "    value = device_values[regressor_type][device]\n",
    "    try:\n",
    "        regressor.set_params(**{param: value})\n",
    "        return original_device\n",
    "    except Exception as e:\n",
    "        return original_device"
   ]
  },
  {
   "cell_type": "code",
   "execution_count": 5,
   "metadata": {},
   "outputs": [
    {
     "name": "stdout",
     "output_type": "stream",
     "text": [
      "GPU\n",
      "CPU\n",
      "GPU\n"
     ]
    }
   ],
   "source": [
    "regressor = CatBoostRegressor(task_type='GPU')\n",
    "print(regressor.get_params()['task_type'])\n",
    "original_device = set_cpu_gpu_device(regressor, 'cpu')\n",
    "print(regressor.get_params()['task_type'])\n",
    "set_cpu_gpu_device(regressor, original_device)\n",
    "print(regressor.get_params()['task_type'])"
   ]
  },
  {
   "cell_type": "code",
   "execution_count": 6,
   "metadata": {},
   "outputs": [
    {
     "name": "stdout",
     "output_type": "stream",
     "text": [
      "cuda\n",
      "cpu\n",
      "cuda\n"
     ]
    }
   ],
   "source": [
    "regressor = XGBRegressor(device='cuda')\n",
    "print(regressor.get_params()['device'])\n",
    "original_device = set_cpu_gpu_device(regressor, 'cpu')\n",
    "print(regressor.get_params()['device'])\n",
    "set_cpu_gpu_device(regressor, original_device)\n",
    "print(regressor.get_params()['device'])"
   ]
  },
  {
   "cell_type": "code",
   "execution_count": 7,
   "metadata": {},
   "outputs": [
    {
     "name": "stdout",
     "output_type": "stream",
     "text": [
      "gpu\n",
      "cpu\n",
      "gpu\n"
     ]
    }
   ],
   "source": [
    "regressor = LGBMRegressor(device='gpu')\n",
    "print(regressor.get_params()['device'])\n",
    "set_cpu_gpu_device(regressor, 'cpu')\n",
    "print(regressor.get_params()['device'])\n",
    "set_cpu_gpu_device(regressor, 'gpu')\n",
    "print(regressor.get_params()['device'])"
   ]
  }
 ],
 "metadata": {
  "kernelspec": {
   "display_name": "skforecast_16_p12",
   "language": "python",
   "name": "python3"
  },
  "language_info": {
   "codemirror_mode": {
    "name": "ipython",
    "version": 3
   },
   "file_extension": ".py",
   "mimetype": "text/x-python",
   "name": "python",
   "nbconvert_exporter": "python",
   "pygments_lexer": "ipython3",
   "version": "3.12.9"
  },
  "orig_nbformat": 4
 },
 "nbformat": 4,
 "nbformat_minor": 2
}
