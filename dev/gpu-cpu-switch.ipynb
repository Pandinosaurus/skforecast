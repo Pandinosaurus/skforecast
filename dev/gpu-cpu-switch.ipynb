{
 "cells": [
  {
   "cell_type": "code",
   "execution_count": 2,
   "metadata": {},
   "outputs": [
    {
     "name": "stdout",
     "output_type": "stream",
     "text": [
      "/home/ximo/GitHub/skforecast\n"
     ]
    }
   ],
   "source": [
    "%load_ext autoreload\n",
    "%autoreload 2\n",
    "import sys\n",
    "from pathlib import Path\n",
    "path = str(Path.cwd().parent)\n",
    "print(path)\n",
    "sys.path.insert(1, path)\n",
    "\n",
    "import numpy as np\n",
    "import pandas as pd"
   ]
  },
  {
   "cell_type": "code",
   "execution_count": 3,
   "metadata": {},
   "outputs": [],
   "source": [
    "from lightgbm import LGBMRegressor\n",
    "from xgboost import XGBRegressor\n",
    "from catboost import CatBoostRegressor\n",
    "\n",
    "regressor = CatBoostRegressor()"
   ]
  },
  {
   "cell_type": "code",
   "execution_count": 4,
   "metadata": {},
   "outputs": [
    {
     "data": {
      "text/plain": [
       "'CatBoostRegressor'"
      ]
     },
     "execution_count": 4,
     "metadata": {},
     "output_type": "execute_result"
    }
   ],
   "source": [
    "type(regressor).__name__"
   ]
  },
  {
   "cell_type": "code",
   "execution_count": 13,
   "metadata": {},
   "outputs": [],
   "source": [
    "def set_cpu_gpu_device(\n",
    "    regressor: object, \n",
    "    device: str | None = 'cpu'\n",
    ") -> str:\n",
    "    \"\"\"\n",
    "    Set the device for the regressor to either 'cpu', 'gpu', 'cuda', or None.\n",
    "    \n",
    "    Parameters\n",
    "    ----------\n",
    "    regressor : object\n",
    "        An estimator object from XGBoost, LightGBM, or CatBoost.\n",
    "    device : str, default 'cpu'\n",
    "        The device to set. Can be 'cpu', 'gpu', or None. If None, it will\n",
    "        use the current device of the regressor.\n",
    "        \n",
    "    Returns\n",
    "    -------\n",
    "    original_device : str\n",
    "        The original device of the regressor before setting it to the new device.\n",
    "\n",
    "    \"\"\"\n",
    "\n",
    "    device_names = {\n",
    "        'XGBRegressor': 'device',\n",
    "        'LGBMRegressor': 'device',\n",
    "        'CatBoostRegressor': 'task_type',\n",
    "    }\n",
    "\n",
    "    device_values = {\n",
    "        'XGBRegressor': {'gpu': 'cuda', 'cpu': 'cpu', 'cuda': 'cuda'},\n",
    "        'LGBMRegressor': {'gpu': 'gpu', 'cpu': 'cpu', 'cuda': 'gpu'},\n",
    "        'CatBoostRegressor': {'gpu': 'GPU', 'cpu': 'CPU', 'cuda': 'GPU'},\n",
    "    }\n",
    "\n",
    "    if device not in ['gpu', 'cpu', 'cuda', None]:\n",
    "        raise ValueError(\"`device` must be 'gpu', 'cpu', 'cuda', or None.\")\n",
    "\n",
    "    regressor_name = type(regressor).__name__\n",
    "    if regressor_name not in device_names:\n",
    "        return None\n",
    "    \n",
    "    original_device = regressor.get_params()[device_names[regressor_name]].lower()\n",
    "\n",
    "    if device is None:\n",
    "        return original_device\n",
    "    \n",
    "    param_name = device_names[regressor_name]\n",
    "    new_device = device_values[regressor_name][device]\n",
    "\n",
    "    if original_device != new_device:\n",
    "        try:\n",
    "            regressor.set_params(**{param_name: new_device})\n",
    "        except Exception:\n",
    "            pass\n",
    "\n",
    "    return original_device"
   ]
  },
  {
   "cell_type": "code",
   "execution_count": 14,
   "metadata": {},
   "outputs": [],
   "source": [
    "import pytest\n",
    "from xgboost import XGBRegressor\n",
    "from lightgbm import LGBMRegressor\n",
    "from sklearn.linear_model import LinearRegression\n",
    "\n",
    "\n",
    "@pytest.mark.parametrize(\"regressor, initial_device, new_device, expected_new_device\", [\n",
    "    (XGBRegressor(), \"cpu\", \"gpu\", \"cuda\"),\n",
    "    (XGBRegressor(), \"cuda\", \"cpu\", \"cpu\"),\n",
    "    (LGBMRegressor(), \"gpu\", \"cpu\", \"cpu\"),\n",
    "    (LGBMRegressor(), \"cpu\", \"gpu\", \"gpu\"),\n",
    "\n",
    "])\n",
    "def test_set_cpu_gpu_device_changes_device(regressor, initial_device, new_device, expected_new_device):\n",
    "    regressor.set_params(**{'device': initial_device})\n",
    "    original = set_cpu_gpu_device(regressor, new_device)\n",
    "    assert original.lower() == initial_device.lower()\n",
    "    assert regressor.get_params()['device'] == expected_new_device\n",
    "\n",
    "def test_set_cpu_gpu_device_no_change_if_same():\n",
    "    regressor = XGBRegressor(device=\"cuda\")\n",
    "    _ = set_cpu_gpu_device(regressor, \"cuda\")\n",
    "    assert regressor.get_params()['device'] == \"cuda\"\n",
    "\n",
    "def test_set_cpu_gpu_device_invalid_device():\n",
    "    regressor = LGBMRegressor()\n",
    "    msg = \"device must be 'gpu', 'cpu', or None.\"\n",
    "    with pytest.raises(ValueError, match=msg):\n",
    "        set_cpu_gpu_device(regressor, \"tpu\")\n",
    "\n",
    "def test_set_cpu_gpu_device_unsupported_model_returns_none():\n",
    "    regressor = LinearRegression()\n",
    "    result = set_cpu_gpu_device(regressor, \"cpu\")\n",
    "    assert result is None\n",
    "\n",
    "def test_set_cpu_gpu_device_none_device_returns_current():\n",
    "    regressor = XGBRegressor(device=\"cuda\")\n",
    "    original = set_cpu_gpu_device(regressor, None)\n",
    "    assert original == \"cuda\"\n"
   ]
  },
  {
   "cell_type": "code",
   "execution_count": 15,
   "metadata": {},
   "outputs": [
    {
     "data": {
      "text/plain": [
       "'cuda'"
      ]
     },
     "execution_count": 15,
     "metadata": {},
     "output_type": "execute_result"
    }
   ],
   "source": [
    "regressor = XGBRegressor(device=\"cuda\")\n",
    "original = set_cpu_gpu_device(regressor, None)\n",
    "original"
   ]
  },
  {
   "cell_type": "code",
   "execution_count": 5,
   "metadata": {},
   "outputs": [
    {
     "name": "stdout",
     "output_type": "stream",
     "text": [
      "GPU\n",
      "CPU\n",
      "GPU\n"
     ]
    }
   ],
   "source": [
    "regressor = CatBoostRegressor(task_type='GPU')\n",
    "print(regressor.get_params()['task_type'])\n",
    "original_device = set_cpu_gpu_device(regressor, 'cpu')\n",
    "print(regressor.get_params()['task_type'])\n",
    "set_cpu_gpu_device(regressor, original_device)\n",
    "print(regressor.get_params()['task_type'])"
   ]
  },
  {
   "cell_type": "code",
   "execution_count": 6,
   "metadata": {},
   "outputs": [
    {
     "name": "stdout",
     "output_type": "stream",
     "text": [
      "cuda\n",
      "cpu\n",
      "cuda\n"
     ]
    }
   ],
   "source": [
    "regressor = XGBRegressor(device='cuda')\n",
    "print(regressor.get_params()['device'])\n",
    "original_device = set_cpu_gpu_device(regressor, 'cpu')\n",
    "print(regressor.get_params()['device'])\n",
    "set_cpu_gpu_device(regressor, original_device)\n",
    "print(regressor.get_params()['device'])"
   ]
  },
  {
   "cell_type": "code",
   "execution_count": 7,
   "metadata": {},
   "outputs": [
    {
     "name": "stdout",
     "output_type": "stream",
     "text": [
      "gpu\n",
      "cpu\n",
      "gpu\n"
     ]
    }
   ],
   "source": [
    "regressor = LGBMRegressor(device='gpu')\n",
    "print(regressor.get_params()['device'])\n",
    "set_cpu_gpu_device(regressor, 'cpu')\n",
    "print(regressor.get_params()['device'])\n",
    "set_cpu_gpu_device(regressor, 'gpu')\n",
    "print(regressor.get_params()['device'])"
   ]
  }
 ],
 "metadata": {
  "kernelspec": {
   "display_name": "skforecast_16_p12",
   "language": "python",
   "name": "python3"
  },
  "language_info": {
   "codemirror_mode": {
    "name": "ipython",
    "version": 3
   },
   "file_extension": ".py",
   "mimetype": "text/x-python",
   "name": "python",
   "nbconvert_exporter": "python",
   "pygments_lexer": "ipython3",
   "version": "3.12.9"
  },
  "orig_nbformat": 4
 },
 "nbformat": 4,
 "nbformat_minor": 2
}
