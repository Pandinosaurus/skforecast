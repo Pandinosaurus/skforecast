{
 "cells": [
  {
   "cell_type": "code",
   "execution_count": 14,
   "metadata": {},
   "outputs": [
    {
     "name": "stdout",
     "output_type": "stream",
     "text": [
      "The autoreload extension is already loaded. To reload it, use:\n",
      "  %reload_ext autoreload\n",
      "/home/ximo/GitHub/skforecast\n"
     ]
    }
   ],
   "source": [
    "%load_ext autoreload\n",
    "%autoreload 2\n",
    "import sys\n",
    "from pathlib import Path\n",
    "path = str(Path.cwd().parent)\n",
    "print(path)\n",
    "sys.path.insert(1, path)\n",
    "\n",
    "import numpy as np\n",
    "import pandas as pd"
   ]
  },
  {
   "cell_type": "code",
   "execution_count": 15,
   "metadata": {},
   "outputs": [],
   "source": [
    "import re\n",
    "import pytest\n",
    "import numpy as np\n",
    "import pandas as pd\n",
    "from skforecast.direct import ForecasterDirect\n",
    "from sklearn.linear_model import LinearRegression\n",
    "from sklearn.preprocessing import StandardScaler\n",
    "from scipy.stats import norm\n",
    "\n",
    "# Fixtures\n",
    "from skforecast.direct.tests.tests_forecaster_direct.fixtures_forecaster_direct import y\n",
    "from skforecast.direct.tests.tests_forecaster_direct.fixtures_forecaster_direct import exog\n",
    "from skforecast.direct.tests.tests_forecaster_direct.fixtures_forecaster_direct import exog_predict\n",
    "from sklearn.compose import ColumnTransformer\n",
    "from sklearn.preprocessing import StandardScaler\n",
    "from sklearn.preprocessing import OneHotEncoder\n",
    "from sklearn.linear_model import LinearRegression"
   ]
  },
  {
   "cell_type": "code",
   "execution_count": 17,
   "metadata": {},
   "outputs": [
    {
     "data": {
      "text/plain": [
       "array([[0.67523588, 0.29721203, 1.07760213],\n",
       "       [0.38024988, 0.00222603, 0.78098289]])"
      ]
     },
     "execution_count": 17,
     "metadata": {},
     "output_type": "execute_result"
    }
   ],
   "source": [
    "forecaster = ForecasterDirect(\n",
    "                    regressor        = LinearRegression(),\n",
    "                    steps            = 2,\n",
    "                    lags             = 3,\n",
    "                    transformer_y    = StandardScaler(),\n",
    "                    transformer_exog = StandardScaler(),\n",
    "                )\n",
    "forecaster.fit(y=y, exog=exog, store_in_sample_residuals=True)\n",
    "\n",
    "n_boot = 250\n",
    "results = forecaster.predict_interval(\n",
    "                    steps                   = 2,\n",
    "                    interval                = 0.9,\n",
    "                    exog                    = exog_predict,\n",
    "                    n_boot                  = n_boot,\n",
    "                    use_in_sample_residuals = True,\n",
    "                    use_binned_residuals    = False\n",
    "                )\n",
    "\n",
    "expected = pd.DataFrame(\n",
    "                data    = np.array([[6.75235879e-01, 3.09660082e-01, 1.07596889e+00],\n",
    "                                    [3.80249878e-01, 7.09041120e-04, 7.82616124e-01]]),\n",
    "                columns = ['pred', 'lower_bound', 'upper_bound'],\n",
    "                index   = pd.RangeIndex(start=50, stop=52)\n",
    "            )\n",
    "\n",
    "results.to_numpy()"
   ]
  }
 ],
 "metadata": {
  "kernelspec": {
   "display_name": "skforecast_16_p12",
   "language": "python",
   "name": "python3"
  },
  "language_info": {
   "codemirror_mode": {
    "name": "ipython",
    "version": 3
   },
   "file_extension": ".py",
   "mimetype": "text/x-python",
   "name": "python",
   "nbconvert_exporter": "python",
   "pygments_lexer": "ipython3",
   "version": "3.12.9"
  },
  "orig_nbformat": 4
 },
 "nbformat": 4,
 "nbformat_minor": 2
}
