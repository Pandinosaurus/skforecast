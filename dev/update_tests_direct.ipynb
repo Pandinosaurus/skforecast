{
 "cells": [
  {
   "cell_type": "code",
   "execution_count": 10,
   "metadata": {},
   "outputs": [
    {
     "name": "stdout",
     "output_type": "stream",
     "text": [
      "The autoreload extension is already loaded. To reload it, use:\n",
      "  %reload_ext autoreload\n",
      "/home/ximo/GitHub/skforecast\n"
     ]
    }
   ],
   "source": [
    "%load_ext autoreload\n",
    "%autoreload 2\n",
    "import sys\n",
    "from pathlib import Path\n",
    "path = str(Path.cwd().parent)\n",
    "print(path)\n",
    "sys.path.insert(1, path)\n",
    "\n",
    "import numpy as np\n",
    "import pandas as pd"
   ]
  },
  {
   "cell_type": "code",
   "execution_count": null,
   "metadata": {},
   "outputs": [],
   "source": [
    "import re\n",
    "import pytest\n",
    "import numpy as np\n",
    "import pandas as pd\n",
    "from skforecast.direct import ForecasterDirect\n",
    "from sklearn.linear_model import LinearRegression\n",
    "from sklearn.preprocessing import StandardScaler\n",
    "from scipy.stats import norm\n",
    "\n",
    "# Fixtures\n",
    "# from skforecast.direct.tests.tests_forecaster_direct.fixtures_forecaster_direct import y\n",
    "# from skforecast.direct.tests.tests_forecaster_direct.fixtures_forecaster_direct import exog\n",
    "# from skforecast.direct.tests.tests_forecaster_direct.fixtures_forecaster_direct import exog_predict\n",
    "from skforecast.direct.tests.tests_forecaster_direct_multivariate.fixtures_forecaster_direct_multivariate import series as series_fixtures\n",
    "from skforecast.direct.tests.tests_forecaster_direct_multivariate.fixtures_forecaster_direct_multivariate import exog\n",
    "from skforecast.direct.tests.tests_forecaster_direct_multivariate.fixtures_forecaster_direct_multivariate import series\n",
    "from skforecast.direct.tests.tests_forecaster_direct_multivariate.fixtures_forecaster_direct_multivariate import exog_predict\n",
    "series_2 = pd.DataFrame({'l1': np.arange(10), 'l2': np.arange(10, 20)})\n",
    "\n",
    "\n",
    "from sklearn.compose import ColumnTransformer\n",
    "from sklearn.preprocessing import StandardScaler\n",
    "from sklearn.preprocessing import OneHotEncoder\n",
    "from sklearn.linear_model import LinearRegression\n",
    "from sklearn.exceptions import NotFittedError"
   ]
  },
  {
   "cell_type": "code",
   "execution_count": 40,
   "metadata": {},
   "outputs": [],
   "source": [
    "\n",
    "import re\n",
    "import pytest\n",
    "import joblib\n",
    "import numpy as np\n",
    "import pandas as pd\n",
    "from pathlib import Path\n",
    "from lightgbm import LGBMRegressor\n",
    "from sklearn.linear_model import Ridge\n",
    "from sklearn.preprocessing import StandardScaler\n",
    "from sklearn.metrics import mean_absolute_error\n",
    "from scipy.stats import norm\n",
    "\n",
    "from skforecast.exceptions import IgnoredArgumentWarning\n",
    "from skforecast.recursive import ForecasterRecursive\n",
    "from skforecast.recursive import ForecasterRecursiveMultiSeries\n",
    "from skforecast.direct import ForecasterDirectMultiVariate\n",
    "from skforecast.model_selection import backtesting_forecaster_multiseries\n",
    "from skforecast.model_selection._split import TimeSeriesFold\n",
    "from skforecast.preprocessing import RollingFeatures"
   ]
  },
  {
   "cell_type": "code",
   "execution_count": 45,
   "metadata": {},
   "outputs": [],
   "source": [
    "from skforecast.model_selection.tests.fixtures_model_selection_multiseries import series\n",
    "from skforecast.model_selection.tests.fixtures_model_selection_multiseries import custom_metric\n",
    "from skforecast.recursive.tests.tests_forecaster_recursive_multiseries.fixtures_forecaster_recursive_multiseries import expected_df_to_long_format\n",
    "series_dict = joblib.load('/home/ximo/GitHub/skforecast/skforecast/model_selection/tests/fixture_sample_multi_series.joblib')\n",
    "exog_dict = joblib.load('/home/ximo/GitHub/skforecast/skforecast/model_selection/tests/fixture_sample_multi_series_exog.joblib')\n",
    "end_train = \"2016-07-31 23:59:00\"\n",
    "series_dict_train = {k: v.loc[:end_train,] for k, v in series_dict.items()}\n",
    "exog_dict_train = {k: v.loc[:end_train,] for k, v in exog_dict.items()}\n",
    "series_dict_test = {k: v.loc[end_train:,] for k, v in series_dict.items()}\n",
    "exog_dict_test = {k: v.loc[end_train:,] for k, v in exog_dict.items()}\n",
    "series_with_nans = series.copy()\n",
    "series_with_nans.iloc[:10, series_with_nans.columns.get_loc('l2')] = np.nan"
   ]
  },
  {
   "cell_type": "code",
   "execution_count": 67,
   "metadata": {},
   "outputs": [],
   "source": [
    "import pytest\n",
    "import numpy as np\n",
    "import pandas as pd\n",
    "from scipy.stats import norm\n",
    "from sklearn.linear_model import LinearRegression\n",
    "from sklearn.metrics import mean_squared_error\n",
    "from skforecast.recursive import ForecasterRecursive\n",
    "from skforecast.direct import ForecasterDirect\n",
    "from skforecast.model_selection._validation import _backtesting_forecaster\n",
    "from skforecast.model_selection._split import TimeSeriesFold\n",
    "\n",
    "# Fixtures\n",
    "from skforecast.model_selection.tests.fixtures_model_selection import y\n",
    "from skforecast.model_selection.tests.fixtures_model_selection import exog\n",
    "from skforecast.model_selection.tests.fixtures_model_selection import out_sample_residuals"
   ]
  },
  {
   "cell_type": "code",
   "execution_count": 74,
   "metadata": {},
   "outputs": [
    {
     "data": {
      "application/vnd.jupyter.widget-view+json": {
       "model_id": "4265bef36f2945dab9b98171f9c50584",
       "version_major": 2,
       "version_minor": 0
      },
      "text/plain": [
       "  0%|          | 0/10 [00:00<?, ?it/s]"
      ]
     },
     "metadata": {},
     "output_type": "display_data"
    },
    {
     "data": {
      "text/plain": [
       "array([[0.55616986, 0.20571296, 0.92594217],\n",
       "       [0.48751797, 0.12416328, 0.85598316],\n",
       "       [0.57764391, 0.22718701, 0.94741621],\n",
       "       [0.51298667, 0.14963198, 0.88145186],\n",
       "       [0.47430051, 0.1506004 , 0.8143182 ],\n",
       "       [0.49192271, 0.16822259, 0.8319404 ],\n",
       "       [0.52213783, 0.19843771, 0.86215552],\n",
       "       [0.54492575, 0.22122564, 0.88494344],\n",
       "       [0.52501537, 0.20809452, 0.89438955],\n",
       "       [0.4680474 , 0.1611217 , 0.78353678],\n",
       "       [0.51059498, 0.19367413, 0.87996916],\n",
       "       [0.53067132, 0.22374562, 0.84616071],\n",
       "       [0.4430938 , 0.09119872, 0.80766626],\n",
       "       [0.49911716, 0.14722208, 0.8776036 ],\n",
       "       [0.44546347, 0.09356839, 0.81003593],\n",
       "       [0.46530749, 0.11341241, 0.84379393],\n",
       "       [0.46901878, 0.10970301, 0.8566689 ],\n",
       "       [0.55371362, 0.21839276, 0.96008583],\n",
       "       [0.60759064, 0.24827486, 0.99524075],\n",
       "       [0.50415336, 0.16883251, 0.91052558]])"
      ]
     },
     "execution_count": 74,
     "metadata": {},
     "output_type": "execute_result"
    }
   ],
   "source": [
    "expected_metric = pd.DataFrame(\n",
    "    {'mean_squared_error': [0.06099110404144631], \n",
    "        'mean_absolute_scaled_error': [0.791393]}\n",
    ")\n",
    "expected_predictions = pd.DataFrame(\n",
    "    data = np.array([[0.55616986, 0.15288789, 0.89198752],\n",
    "                        [0.48751797, 0.14866438, 0.83169303],\n",
    "                        [0.57764391, 0.17436194, 0.91346157],\n",
    "                        [0.51298667, 0.17413308, 0.85716173],\n",
    "                        [0.47430051, 0.0796644 , 0.82587748],\n",
    "                        [0.49192271, 0.14609696, 0.95959395],\n",
    "                        [0.52213783, 0.12750172, 0.8737148 ],\n",
    "                        [0.54492575, 0.1991    , 1.012597  ],\n",
    "                        [0.52501537, 0.13641764, 0.86685356],\n",
    "                        [0.4680474 , 0.08515461, 0.81792677],\n",
    "                        [0.51059498, 0.12199725, 0.85243317],\n",
    "                        [0.53067132, 0.14777853, 0.88055069],\n",
    "                        [0.4430938 , 0.0509291 , 0.69854202],\n",
    "                        [0.49911716, 0.1231365 , 0.8711497 ],\n",
    "                        [0.44546347, 0.05329877, 0.70091169],\n",
    "                        [0.46530749, 0.08932683, 0.83734003],\n",
    "                        [0.46901878, 0.08173407, 0.82098555],\n",
    "                        [0.55371362, 0.14618224, 0.98199137],\n",
    "                        [0.60759064, 0.22030593, 0.9595574 ],\n",
    "                        [0.50415336, 0.09662198, 0.93243111]]),\n",
    "    columns = ['pred', 'lower_bound', 'upper_bound'],\n",
    "    index = pd.RangeIndex(start=30, stop=50, step=1)\n",
    ")\n",
    "\n",
    "forecaster = ForecasterDirect(\n",
    "                    regressor = Ridge(random_state=123), \n",
    "                    lags      = 3,\n",
    "                    steps     = 8\n",
    "                )\n",
    "\n",
    "n_backtest = 20\n",
    "y_train = y[:-n_backtest]\n",
    "cv = TimeSeriesFold(\n",
    "        steps                 = 2,\n",
    "        initial_train_size    = len(y_train),\n",
    "        window_size           = None,\n",
    "        differentiation       = None,\n",
    "        refit                 = 2,\n",
    "        fixed_train_size      = False,\n",
    "        gap                   = 0,\n",
    "        skip_folds            = None,\n",
    "        allow_incomplete_fold = True,\n",
    "        return_all_indexes    = False,\n",
    "    )\n",
    "metric, backtest_predictions = _backtesting_forecaster(\n",
    "                                    forecaster              = forecaster,\n",
    "                                    y                       = y,\n",
    "                                    exog                    = exog,\n",
    "                                    cv                      = cv,\n",
    "                                    metric                  = ['mean_squared_error', 'mean_absolute_scaled_error'],\n",
    "                                    interval                = [5, 95],\n",
    "                                    interval_method         = 'bootstrapping',\n",
    "                                    n_boot                  = 500,\n",
    "                                    random_state            = 123,\n",
    "                                    use_in_sample_residuals = True,\n",
    "                                    use_binned_residuals    = False,\n",
    "                                    verbose                 = False,\n",
    "                                    n_jobs                  = 1\n",
    "                                )\n",
    "backtest_predictions.to_numpy()"
   ]
  },
  {
   "cell_type": "code",
   "execution_count": null,
   "metadata": {},
   "outputs": [],
   "source": [
    "array([[0.55616986, 0.20571296, 0.92594217],\n",
    "       [0.48751797, 0.12416328, 0.85598316],\n",
    "       [0.57764391, 0.22718701, 0.94741621],\n",
    "       [0.51298667, 0.14963198, 0.88145186],\n",
    "       [0.47430051, 0.1506004 , 0.8143182 ],\n",
    "       [0.49192271, 0.16822259, 0.8319404 ],\n",
    "       [0.52213783, 0.19843771, 0.86215552],\n",
    "       [0.54492575, 0.22122564, 0.88494344],\n",
    "       [0.52501537, 0.20809452, 0.89438955],\n",
    "       [0.4680474 , 0.1611217 , 0.78353678],\n",
    "       [0.51059498, 0.19367413, 0.87996916],\n",
    "       [0.53067132, 0.22374562, 0.84616071],\n",
    "       [0.4430938 , 0.09119872, 0.80766626],\n",
    "       [0.49911716, 0.14722208, 0.8776036 ],\n",
    "       [0.44546347, 0.09356839, 0.81003593],\n",
    "       [0.46530749, 0.11341241, 0.84379393],\n",
    "       [0.46901878, 0.10970301, 0.8566689 ],\n",
    "       [0.55371362, 0.21839276, 0.96008583],\n",
    "       [0.60759064, 0.24827486, 0.99524075],\n",
    "       [0.50415336, 0.16883251, 0.91052558]])"
   ]
  }
 ],
 "metadata": {
  "kernelspec": {
   "display_name": "skforecast_16_p12",
   "language": "python",
   "name": "python3"
  },
  "language_info": {
   "codemirror_mode": {
    "name": "ipython",
    "version": 3
   },
   "file_extension": ".py",
   "mimetype": "text/x-python",
   "name": "python",
   "nbconvert_exporter": "python",
   "pygments_lexer": "ipython3",
   "version": "3.12.9"
  },
  "orig_nbformat": 4
 },
 "nbformat": 4,
 "nbformat_minor": 2
}
