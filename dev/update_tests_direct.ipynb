{
 "cells": [
  {
   "cell_type": "code",
   "execution_count": 10,
   "metadata": {},
   "outputs": [
    {
     "name": "stdout",
     "output_type": "stream",
     "text": [
      "The autoreload extension is already loaded. To reload it, use:\n",
      "  %reload_ext autoreload\n",
      "/home/ximo/GitHub/skforecast\n"
     ]
    }
   ],
   "source": [
    "%load_ext autoreload\n",
    "%autoreload 2\n",
    "import sys\n",
    "from pathlib import Path\n",
    "path = str(Path.cwd().parent)\n",
    "print(path)\n",
    "sys.path.insert(1, path)\n",
    "\n",
    "import numpy as np\n",
    "import pandas as pd"
   ]
  },
  {
   "cell_type": "code",
   "execution_count": 11,
   "metadata": {},
   "outputs": [],
   "source": [
    "import re\n",
    "import pytest\n",
    "import numpy as np\n",
    "import pandas as pd\n",
    "from skforecast.direct import ForecasterDirect\n",
    "from sklearn.linear_model import LinearRegression\n",
    "from sklearn.preprocessing import StandardScaler\n",
    "from scipy.stats import norm\n",
    "\n",
    "# Fixtures\n",
    "from skforecast.direct.tests.tests_forecaster_direct.fixtures_forecaster_direct import y\n",
    "from skforecast.direct.tests.tests_forecaster_direct.fixtures_forecaster_direct import exog\n",
    "from skforecast.direct.tests.tests_forecaster_direct.fixtures_forecaster_direct import exog_predict\n",
    "from sklearn.compose import ColumnTransformer\n",
    "from sklearn.preprocessing import StandardScaler\n",
    "from sklearn.preprocessing import OneHotEncoder\n",
    "from sklearn.linear_model import LinearRegression"
   ]
  },
  {
   "cell_type": "code",
   "execution_count": 12,
   "metadata": {},
   "outputs": [
    {
     "data": {
      "text/plain": [
       "array([[ 0.65659084,  0.11145843,  1.20172325],\n",
       "       [ 0.6496844 , -0.44058042,  1.73994922],\n",
       "       [ 0.61632235, -1.01907488,  2.25171958],\n",
       "       [ 0.59545137, -1.58507827,  2.77598101],\n",
       "       [ 0.64917089, -2.07649116,  3.37483294]])"
      ]
     },
     "execution_count": 12,
     "metadata": {},
     "output_type": "execute_result"
    }
   ],
   "source": [
    "forecaster = ForecasterDirect(\n",
    "    LinearRegression(), steps=5, lags=3, differentiation=1\n",
    ")\n",
    "forecaster.fit(y=y, store_in_sample_residuals=True)\n",
    "results = forecaster._predict_interval_conformal(\n",
    "    steps=5, nominal_coverage=0.95, use_in_sample_residuals=True, use_binned_residuals=False\n",
    ")\n",
    "\n",
    "expected = pd.DataFrame(\n",
    "                data    = np.array(\n",
    "                            [[0.65659084,  0.17710854,  1.13607314],\n",
    "                                [0.6496844 , -0.40541691,  1.7047857 ],\n",
    "                                [0.61632235, -0.98830203,  2.22094673],\n",
    "                                [0.59545137, -1.53828123,  2.72918398],\n",
    "                                [0.64917089, -2.01927988,  3.31762167]]\n",
    "                        ),\n",
    "                columns = ['pred', 'lower_bound', 'upper_bound'],\n",
    "                index   = pd.RangeIndex(start=50, stop=55, step=1)\n",
    "            )\n",
    "results.to_numpy()"
   ]
  },
  {
   "cell_type": "code",
   "execution_count": 38,
   "metadata": {},
   "outputs": [
    {
     "data": {
      "text/plain": [
       "{1: array(10.), 2: array(20.)}"
      ]
     },
     "execution_count": 38,
     "metadata": {},
     "output_type": "execute_result"
    }
   ],
   "source": [
    "forecaster = ForecasterDirect(LinearRegression(), steps=2, lags=3)\n",
    "forecaster.fit(y=pd.Series(np.arange(10)), store_in_sample_residuals=True)\n",
    "forecaster.in_sample_residuals_ = {\n",
    "    1: np.full_like(forecaster.in_sample_residuals_[1], fill_value=10),\n",
    "    2: np.full_like(forecaster.in_sample_residuals_[2], fill_value=20)\n",
    "}\n",
    "forecaster.in_sample_residuals_ "
   ]
  },
  {
   "cell_type": "code",
   "execution_count": 23,
   "metadata": {},
   "outputs": [
    {
     "ename": "AssertionError",
     "evalue": "DataFrame.iloc[:, 0] (column name=\"loc\") are different\n\nDataFrame.iloc[:, 0] (column name=\"loc\") values are different (100.0 %)\n[index]: [50, 51]\n[left]:  [0.54274594, 0.32046382]\n[right]: [0.735401729117992, 0.3290149298800433]\nAt positional index 0, first diff: 0.54274594 != 0.735401729117992",
     "output_type": "error",
     "traceback": [
      "\u001b[31m---------------------------------------------------------------------------\u001b[39m",
      "\u001b[31mAssertionError\u001b[39m                            Traceback (most recent call last)",
      "\u001b[36mCell\u001b[39m\u001b[36m \u001b[39m\u001b[32mIn[23]\u001b[39m\u001b[32m, line 34\u001b[39m\n\u001b[32m     25\u001b[39m     expected = pd.DataFrame(\n\u001b[32m     26\u001b[39m                    data    = np.array([[\u001b[32m0.54274594\u001b[39m, \u001b[32m0.20807726\u001b[39m],\n\u001b[32m     27\u001b[39m                                         [\u001b[32m0.32046382\u001b[39m, \u001b[32m0.13511556\u001b[39m]]),\n\u001b[32m     28\u001b[39m                    columns = [\u001b[33m'\u001b[39m\u001b[33mloc\u001b[39m\u001b[33m'\u001b[39m, \u001b[33m'\u001b[39m\u001b[33mscale\u001b[39m\u001b[33m'\u001b[39m],\n\u001b[32m     29\u001b[39m                    index   = pd.RangeIndex(start=\u001b[32m50\u001b[39m, stop=\u001b[32m52\u001b[39m)\n\u001b[32m     30\u001b[39m                )\n\u001b[32m     32\u001b[39m     pd.testing.assert_frame_equal(expected, results)\n\u001b[32m---> \u001b[39m\u001b[32m34\u001b[39m \u001b[43mtest_predict_dist_output_when_forecaster_is_LinearRegression_steps_is_2_in_sample_residuals_False_exog_and_transformer\u001b[49m\u001b[43m(\u001b[49m\u001b[43m)\u001b[49m\n",
      "\u001b[36mCell\u001b[39m\u001b[36m \u001b[39m\u001b[32mIn[23]\u001b[39m\u001b[32m, line 32\u001b[39m, in \u001b[36mtest_predict_dist_output_when_forecaster_is_LinearRegression_steps_is_2_in_sample_residuals_False_exog_and_transformer\u001b[39m\u001b[34m()\u001b[39m\n\u001b[32m     17\u001b[39m results = forecaster.predict_dist(\n\u001b[32m     18\u001b[39m               steps                   = \u001b[32m2\u001b[39m,\n\u001b[32m     19\u001b[39m               exog                    = exog_predict,\n\u001b[32m   (...)\u001b[39m\u001b[32m     23\u001b[39m               use_binned_residuals    = \u001b[38;5;28;01mFalse\u001b[39;00m\n\u001b[32m     24\u001b[39m           )\n\u001b[32m     25\u001b[39m expected = pd.DataFrame(\n\u001b[32m     26\u001b[39m                data    = np.array([[\u001b[32m0.54274594\u001b[39m, \u001b[32m0.20807726\u001b[39m],\n\u001b[32m     27\u001b[39m                                     [\u001b[32m0.32046382\u001b[39m, \u001b[32m0.13511556\u001b[39m]]),\n\u001b[32m     28\u001b[39m                columns = [\u001b[33m'\u001b[39m\u001b[33mloc\u001b[39m\u001b[33m'\u001b[39m, \u001b[33m'\u001b[39m\u001b[33mscale\u001b[39m\u001b[33m'\u001b[39m],\n\u001b[32m     29\u001b[39m                index   = pd.RangeIndex(start=\u001b[32m50\u001b[39m, stop=\u001b[32m52\u001b[39m)\n\u001b[32m     30\u001b[39m            )\n\u001b[32m---> \u001b[39m\u001b[32m32\u001b[39m \u001b[43mpd\u001b[49m\u001b[43m.\u001b[49m\u001b[43mtesting\u001b[49m\u001b[43m.\u001b[49m\u001b[43massert_frame_equal\u001b[49m\u001b[43m(\u001b[49m\u001b[43mexpected\u001b[49m\u001b[43m,\u001b[49m\u001b[43m \u001b[49m\u001b[43mresults\u001b[49m\u001b[43m)\u001b[49m\n",
      "    \u001b[31m[... skipping hidden 2 frame]\u001b[39m\n",
      "\u001b[36mFile \u001b[39m\u001b[32mtesting.pyx:55\u001b[39m, in \u001b[36mpandas._libs.testing.assert_almost_equal\u001b[39m\u001b[34m()\u001b[39m\n",
      "\u001b[36mFile \u001b[39m\u001b[32mtesting.pyx:173\u001b[39m, in \u001b[36mpandas._libs.testing.assert_almost_equal\u001b[39m\u001b[34m()\u001b[39m\n",
      "\u001b[36mFile \u001b[39m\u001b[32m~/miniconda3/envs/skforecast_16_p12/lib/python3.12/site-packages/pandas/_testing/asserters.py:614\u001b[39m, in \u001b[36mraise_assert_detail\u001b[39m\u001b[34m(obj, message, left, right, diff, first_diff, index_values)\u001b[39m\n\u001b[32m    611\u001b[39m \u001b[38;5;28;01mif\u001b[39;00m first_diff \u001b[38;5;129;01mis\u001b[39;00m \u001b[38;5;129;01mnot\u001b[39;00m \u001b[38;5;28;01mNone\u001b[39;00m:\n\u001b[32m    612\u001b[39m     msg += \u001b[33mf\u001b[39m\u001b[33m\"\u001b[39m\u001b[38;5;130;01m\\n\u001b[39;00m\u001b[38;5;132;01m{\u001b[39;00mfirst_diff\u001b[38;5;132;01m}\u001b[39;00m\u001b[33m\"\u001b[39m\n\u001b[32m--> \u001b[39m\u001b[32m614\u001b[39m \u001b[38;5;28;01mraise\u001b[39;00m \u001b[38;5;167;01mAssertionError\u001b[39;00m(msg)\n",
      "\u001b[31mAssertionError\u001b[39m: DataFrame.iloc[:, 0] (column name=\"loc\") are different\n\nDataFrame.iloc[:, 0] (column name=\"loc\") values are different (100.0 %)\n[index]: [50, 51]\n[left]:  [0.54274594, 0.32046382]\n[right]: [0.735401729117992, 0.3290149298800433]\nAt positional index 0, first diff: 0.54274594 != 0.735401729117992"
     ]
    }
   ],
   "source": [
    "def test_predict_dist_output_when_forecaster_is_LinearRegression_steps_is_2_in_sample_residuals_False_exog_and_transformer():\n",
    "    \"\"\"\n",
    "    Test output of predict_dist when regressor is LinearRegression,\n",
    "    2 steps are predicted, using out-sample residuals, exog is included and both\n",
    "    inputs are transformed.\n",
    "    \"\"\"\n",
    "    forecaster = ForecasterDirect(\n",
    "                     regressor        = LinearRegression(),\n",
    "                     steps            = 2,\n",
    "                     lags             = 3,\n",
    "                     transformer_y    = StandardScaler(),\n",
    "                     transformer_exog = StandardScaler(),\n",
    "                 )\n",
    "    \n",
    "    forecaster.fit(y=y, exog=exog, store_in_sample_residuals=True)\n",
    "    forecaster.out_sample_residuals_ = forecaster.in_sample_residuals_\n",
    "    results = forecaster.predict_dist(\n",
    "                  steps                   = 2,\n",
    "                  exog                    = exog_predict,\n",
    "                  distribution            = norm,\n",
    "                  n_boot                  = 4,\n",
    "                  use_in_sample_residuals = False,\n",
    "                  use_binned_residuals    = False\n",
    "              )\n",
    "    expected = pd.DataFrame(\n",
    "                   data    = np.array([[0.54274594, 0.20807726],\n",
    "                                        [0.32046382, 0.13511556]]),\n",
    "                   columns = ['loc', 'scale'],\n",
    "                   index   = pd.RangeIndex(start=50, stop=52)\n",
    "               )\n",
    "\n",
    "    pd.testing.assert_frame_equal(expected, results)\n",
    "\n",
    "test_predict_dist_output_when_forecaster_is_LinearRegression_steps_is_2_in_sample_residuals_False_exog_and_transformer()"
   ]
  }
 ],
 "metadata": {
  "kernelspec": {
   "display_name": "skforecast_16_p12",
   "language": "python",
   "name": "python3"
  },
  "language_info": {
   "codemirror_mode": {
    "name": "ipython",
    "version": 3
   },
   "file_extension": ".py",
   "mimetype": "text/x-python",
   "name": "python",
   "nbconvert_exporter": "python",
   "pygments_lexer": "ipython3",
   "version": "3.12.9"
  },
  "orig_nbformat": 4
 },
 "nbformat": 4,
 "nbformat_minor": 2
}
