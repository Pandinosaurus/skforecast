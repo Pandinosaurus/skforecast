{
 "cells": [
  {
   "cell_type": "code",
   "execution_count": null,
   "metadata": {},
   "outputs": [],
   "source": [
    "%load_ext autoreload\n",
    "%autoreload 2\n",
    "import sys\n",
    "from pathlib import Path\n",
    "path = str(Path.cwd().parent)\n",
    "print(path)\n",
    "sys.path.insert(1, path)\n",
    "\n",
    "import numpy as np\n",
    "import pandas as pd"
   ]
  },
  {
   "cell_type": "code",
   "execution_count": null,
   "metadata": {},
   "outputs": [],
   "source": [
    "from skforecast.recursive import ForecasterRecursive, ForecasterRecursiveMultiSeries\n",
    "from skforecast.model_selection import TimeSeriesFold, backtesting_forecaster_multiseries\n",
    "from lightgbm import LGBMRegressor\n",
    "%load_ext pyinstrument\n",
    "%load_ext line_profiler"
   ]
  },
  {
   "cell_type": "code",
   "execution_count": null,
   "metadata": {},
   "outputs": [],
   "source": [
    "n = 1_000\n",
    "n_series = 500\n",
    "series = pd.DataFrame(\n",
    "    np.random.normal(0, 1, n * n_series).reshape(n, n_series),\n",
    "    index=pd.date_range('2020-01-01', periods=n, freq='h'),\n",
    "    columns=[f'series_{i}' for i in range(n_series)]\n",
    ")"
   ]
  },
  {
   "cell_type": "code",
   "execution_count": null,
   "metadata": {},
   "outputs": [],
   "source": [
    "forecaster = ForecasterRecursiveMultiSeries(\n",
    "    regressor = LGBMRegressor(verbose=-1),\n",
    "    lags     = 48\n",
    ")\n",
    "\n",
    "forecaster.fit(series=series, store_in_sample_residuals=False)"
   ]
  },
  {
   "cell_type": "code",
   "execution_count": null,
   "metadata": {},
   "outputs": [],
   "source": [
    "cv = TimeSeriesFold(\n",
    "     initial_train_size=int(len(series) * 0.8),\n",
    "     steps = 24,\n",
    "     refit = False\n",
    ")"
   ]
  },
  {
   "cell_type": "code",
   "execution_count": null,
   "metadata": {},
   "outputs": [],
   "source": [
    "%%pyinstrument\n",
    "_ = backtesting_forecaster_multiseries(\n",
    "    forecaster    = forecaster,\n",
    "    series        = series,\n",
    "    cv            = cv,\n",
    "    metric        = \"mean_absolute_error\",\n",
    "    show_progress = False,\n",
    "    add_aggregated_metric = True\n",
    ")"
   ]
  },
  {
   "cell_type": "code",
   "execution_count": null,
   "metadata": {},
   "outputs": [],
   "source": [
    "# Profiling backtesting_forecaster_multiseries()\n",
    "# ==============================================================================\n",
    "from skforecast.model_selection._validation import _backtesting_forecaster_multiseries\n",
    "def funt_to_profile(forecaster, series, cv, metric, show_progress, add_aggregated_metric):\n",
    "    _backtesting_forecaster_multiseries(\n",
    "        forecaster    = forecaster,\n",
    "        series        = series,\n",
    "        cv            = cv,\n",
    "        metric        = metric,\n",
    "        show_progress = show_progress,\n",
    "        add_aggregated_metric = False\n",
    "    )\n",
    "\n",
    "%lprun -f _backtesting_forecaster_multiseries funt_to_profile(forecaster, series, cv, \"mean_absolute_error\", False, False)"
   ]
  },
  {
   "cell_type": "code",
   "execution_count": null,
   "metadata": {},
   "outputs": [],
   "source": [
    "# returns = {\n",
    "#         'series'                :series,\n",
    "#         'predictions'           :backtest_predictions[['level', 'pred']],\n",
    "#         'folds'                 :folds,\n",
    "#         'span_index'            :span_index,\n",
    "#         'window_size'           :forecaster.window_size,\n",
    "#         'metrics'               :metrics,\n",
    "#         'levels'                :levels,\n",
    "#         'add_aggregated_metric' :add_aggregated_metric\n",
    "#     }\n",
    "\n",
    "#     return returns\n",
    "\n",
    "\n",
    "from skforecast.model_selection._validation import _backtesting_forecaster_multiseries\n",
    "inputs_calculate_metrics = _backtesting_forecaster_multiseries(\n",
    "    forecaster    = forecaster,\n",
    "    series        = series,\n",
    "    cv            = cv,\n",
    "    metric        = [\"mean_absolute_error\"],\n",
    "    show_progress = False,\n",
    "    add_aggregated_metric = True\n",
    ")"
   ]
  },
  {
   "cell_type": "code",
   "execution_count": null,
   "metadata": {},
   "outputs": [],
   "source": [
    "# Profiling _create_train_X_y()\n",
    "# ==============================================================================\n",
    "from skforecast.model_selection._utils import _calculate_metrics_backtesting_multiseries\n",
    "def funt_to_profile(inputs_calculate_metrics):\n",
    "    _calculate_metrics_backtesting_multiseries(**inputs_calculate_metrics)\n",
    "\n",
    "%lprun -f _calculate_metrics_backtesting_multiseries funt_to_profile(inputs_calculate_metrics)"
   ]
  },
  {
   "cell_type": "code",
   "execution_count": null,
   "metadata": {},
   "outputs": [],
   "source": [
    "%%pyinstrument\n",
    "_ = _calculate_metrics_backtesting_multiseries(**inputs_calculate_metrics)"
   ]
  },
  {
   "cell_type": "code",
   "execution_count": null,
   "metadata": {},
   "outputs": [],
   "source": [
    "%%pyinstrument\n",
    "_ = backtesting_forecaster_multiseries(\n",
    "    forecaster           = forecaster,\n",
    "    series               = series,\n",
    "    cv                   = cv,\n",
    "    metric               = \"mean_absolute_error\",\n",
    "    interval             = [10, 90],\n",
    "    n_boot               = 10,\n",
    "    use_binned_residuals = True,\n",
    "    show_progress        = False\n",
    ")"
   ]
  },
  {
   "cell_type": "code",
   "execution_count": null,
   "metadata": {},
   "outputs": [],
   "source": [
    "# Create sample data\n",
    "dates = pd.date_range(start='2020-01-01', periods=10, freq='D')\n",
    "series = pd.DataFrame({\n",
    "    'level_1': np.random.rand(10),\n",
    "    'level_2': np.random.rand(10)\n",
    "}, index=dates)\n",
    "\n",
    "backtest_predictions = series.copy()\n",
    "backtest_predictions = backtest_predictions.melt(ignore_index=False, value_name='pred', var_name='level')\n",
    "backtest_predictions = (\n",
    "        backtest_predictions\n",
    "        .rename_axis('idx', axis=0)\n",
    "        .set_index('level', append=True)\n",
    "    )\n",
    "series.loc['2020-01-05':'2020-01-09', 'level_1'] = np.nan\n",
    "display(series)\n",
    "display(backtest_predictions)"
   ]
  },
  {
   "cell_type": "code",
   "execution_count": null,
   "metadata": {},
   "outputs": [],
   "source": [
    "backtest_levels = ['level_1', 'level_2']\n",
    "backtest_predictions_grouped = backtest_predictions.groupby('level', sort=False)\n",
    "for level, indices in backtest_predictions_grouped.groups.items():\n",
    "    if level in backtest_levels:\n",
    "        valid_index = series[level].dropna().index\n",
    "        print(valid_index)\n",
    "        valid_index = pd.MultiIndex.from_product([valid_index, [level]], names=['idx', 'level'])\n",
    "        print(valid_index)\n",
    "        no_valid_index = indices.difference(valid_index, sort=False)\n",
    "        print(no_valid_index)\n",
    "        backtest_predictions.loc[no_valid_index, 'pred'] = np.nan\n",
    "\n",
    "backtest_predictions = (\n",
    "        backtest_predictions\n",
    "        .reset_index('level')\n",
    "        .rename_axis(None, axis=0)\n",
    "    )\n",
    "\n",
    "backtest_predictions"
   ]
  },
  {
   "cell_type": "code",
   "execution_count": null,
   "metadata": {},
   "outputs": [],
   "source": [
    "# example of using sklearn metric mean_absolute_error\n",
    "from sklearn.metrics import mean_absolute_error\n",
    "import time\n",
    "\n",
    "y_true = pd.Series(np.random.normal(0, 1, 10_0000))\n",
    "y_pred = pd.Series(np.random.normal(0, 1, 10_0000))\n",
    "\n",
    "start = time.time()\n",
    "for i in range(500):\n",
    "    mean_absolute_error(y_true.to_numpy(), y_pred.to_numpy())\n",
    "print(time.time() - start)"
   ]
  },
  {
   "cell_type": "code",
   "execution_count": null,
   "metadata": {},
   "outputs": [],
   "source": [
    "from skforecast.metrics import add_y_train_argument\n",
    "\n",
    "custom_metric = add_y_train_argument(mean_absolute_error)\n",
    "\n",
    "start = time.time()\n",
    "for i in range(500):\n",
    "    mean_absolute_error(y_true, y_pred)\n",
    "print(time.time() - start)"
   ]
  },
  {
   "cell_type": "code",
   "execution_count": null,
   "metadata": {},
   "outputs": [],
   "source": [
    "data = {\n",
    "    'Category': ['A', 'B', 'A', 'B', 'A', 'C', 'C'],\n",
    "    'Value': [10, 20, 30, 40, 50, 60, 70]\n",
    "}\n",
    "\n",
    "df = pd.DataFrame(data)\n",
    "\n",
    "# Group by 'Category'\n",
    "grouped = df.groupby('Category', as_index=False)['Value']\n",
    "grouped.get_group('A')"
   ]
  }
 ],
 "metadata": {
  "kernelspec": {
   "display_name": "skforecast_15_py12",
   "language": "python",
   "name": "python3"
  },
  "language_info": {
   "codemirror_mode": {
    "name": "ipython",
    "version": 3
   },
   "file_extension": ".py",
   "mimetype": "text/x-python",
   "name": "python",
   "nbconvert_exporter": "python",
   "pygments_lexer": "ipython3",
   "version": "3.12.9"
  },
  "orig_nbformat": 4
 },
 "nbformat": 4,
 "nbformat_minor": 2
}
