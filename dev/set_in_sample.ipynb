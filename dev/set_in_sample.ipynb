{
 "cells": [
  {
   "cell_type": "code",
   "execution_count": 1,
   "metadata": {},
   "outputs": [
    {
     "name": "stdout",
     "output_type": "stream",
     "text": [
      "c:\\Users\\jaesc2\\GitHub\\skforecast\n"
     ]
    }
   ],
   "source": [
    "%load_ext autoreload\n",
    "%autoreload 2\n",
    "import sys\n",
    "from pathlib import Path\n",
    "path = str(Path.cwd().parent)\n",
    "print(path)\n",
    "sys.path.insert(1, path)\n",
    "\n",
    "import numpy as np\n",
    "import pandas as pd"
   ]
  },
  {
   "cell_type": "code",
   "execution_count": 3,
   "metadata": {},
   "outputs": [],
   "source": [
    "# Libraries\n",
    "# ==============================================================================\n",
    "import pandas as pd\n",
    "import matplotlib.pyplot as plt\n",
    "from lightgbm import LGBMRegressor\n",
    "from sklearn.metrics import mean_squared_error\n",
    "\n",
    "from skforecast.datasets import fetch_dataset\n",
    "from skforecast.preprocessing import RollingFeatures\n",
    "from skforecast.recursive import ForecasterRecursive, ForecasterRecursiveMultiSeries\n",
    "\n",
    "import pytest\n",
    "import numpy as np\n",
    "import pandas as pd\n",
    "from sklearn.linear_model import LinearRegression\n",
    "from sklearn.preprocessing import StandardScaler\n",
    "from skforecast.preprocessing import RollingFeatures"
   ]
  },
  {
   "cell_type": "code",
   "execution_count": 3,
   "metadata": {},
   "outputs": [
    {
     "name": "stdout",
     "output_type": "stream",
     "text": [
      "h2o\n",
      "---\n",
      "Monthly expenditure ($AUD) on corticosteroid drugs that the Australian health\n",
      "system had between 1991 and 2008.\n",
      "Hyndman R (2023). fpp3: Data for Forecasting: Principles and Practice(3rd\n",
      "Edition). http://pkg.robjhyndman.com/fpp3package/,https://github.com/robjhyndman\n",
      "/fpp3package, http://OTexts.com/fpp3.\n",
      "Shape of the dataset: (204, 2)\n"
     ]
    }
   ],
   "source": [
    "# Download data\n",
    "# ==============================================================================\n",
    "data = fetch_dataset(\n",
    "    name=\"h2o\", raw=True, kwargs_read_csv={\"names\": [\"y\", \"datetime\"], \"header\": 0}\n",
    ")\n",
    "\n",
    "# Data preprocessing\n",
    "# ==============================================================================\n",
    "data['datetime'] = pd.to_datetime(data['datetime'], format='%Y-%m-%d')\n",
    "data = data.set_index('datetime')\n",
    "data = data.asfreq('MS')\n",
    "data = data['y']\n",
    "data = data.sort_index()\n",
    "\n",
    "# Split train-test\n",
    "# ==============================================================================\n",
    "steps = 36\n",
    "data_train = data[:-steps]\n",
    "data_test  = data[-steps:]\n"
   ]
  },
  {
   "cell_type": "code",
   "execution_count": 5,
   "metadata": {},
   "outputs": [
    {
     "data": {
      "text/plain": [
       "DatetimeIndex(['1991-07-01', '2005-06-01'], dtype='datetime64[ns]', name='datetime', freq=None)"
      ]
     },
     "execution_count": 5,
     "metadata": {},
     "output_type": "execute_result"
    }
   ],
   "source": [
    "# Create and fit forecaster\n",
    "# ==============================================================================\n",
    "forecaster = ForecasterRecursive(\n",
    "                 regressor       = LGBMRegressor(random_state=123, verbose=-1),\n",
    "                 lags            = 15,\n",
    "                 window_features = RollingFeatures(stats=['mean'], window_sizes=10)\n",
    "             )\n",
    "\n",
    "forecaster.fit(y=data_train)\n",
    "forecaster.training_range_"
   ]
  },
  {
   "cell_type": "code",
   "execution_count": 24,
   "metadata": {},
   "outputs": [
    {
     "data": {
      "text/plain": [
       "['lag_1',\n",
       " 'lag_2',\n",
       " 'lag_3',\n",
       " 'lag_4',\n",
       " 'lag_5',\n",
       " 'lag_6',\n",
       " 'lag_7',\n",
       " 'lag_8',\n",
       " 'lag_9',\n",
       " 'lag_10',\n",
       " 'lag_11',\n",
       " 'lag_12',\n",
       " 'lag_13',\n",
       " 'lag_14',\n",
       " 'lag_15',\n",
       " 'roll_mean_10']"
      ]
     },
     "execution_count": 24,
     "metadata": {},
     "output_type": "execute_result"
    }
   ],
   "source": [
    "(\n",
    "X_train,\n",
    "y_train,\n",
    "_,\n",
    "_,\n",
    "_,\n",
    "X_train_features_names_out_,\n",
    "*_\n",
    ") = forecaster._create_train_X_y(y=data_train)\n",
    "\n",
    "X_train_features_names_out_"
   ]
  },
  {
   "cell_type": "code",
   "execution_count": 27,
   "metadata": {},
   "outputs": [
    {
     "data": {
      "text/plain": [
       "['lag_1',\n",
       " 'lag_2',\n",
       " 'lag_3',\n",
       " 'lag_4',\n",
       " 'lag_5',\n",
       " 'lag_6',\n",
       " 'lag_7',\n",
       " 'lag_8',\n",
       " 'lag_9',\n",
       " 'lag_10',\n",
       " 'lag_11',\n",
       " 'lag_12',\n",
       " 'lag_13',\n",
       " 'lag_14',\n",
       " 'lag_15',\n",
       " 'roll_mean_10']"
      ]
     },
     "execution_count": 27,
     "metadata": {},
     "output_type": "execute_result"
    }
   ],
   "source": [
    "(\n",
    "X_train,\n",
    "y_train,\n",
    "*_,\n",
    "a,\n",
    "_\n",
    ") = forecaster._create_train_X_y(y=data_train)\n",
    "\n",
    "X_train_features_names_out_"
   ]
  },
  {
   "cell_type": "code",
   "execution_count": 9,
   "metadata": {},
   "outputs": [],
   "source": [
    "from skforecast.utils import preprocess_y\n",
    "\n",
    "expected_training_range = forecaster.training_range_\n",
    "training_range = preprocess_y(y=data_train, return_values=False)[1][[0, -1]]\n",
    "\n",
    "if not expected_training_range.equals(training_range):\n",
    "    raise AssertionError"
   ]
  },
  {
   "cell_type": "code",
   "execution_count": 16,
   "metadata": {},
   "outputs": [
    {
     "data": {
      "text/plain": [
       "Timestamp('1991-07-01 00:00:00')"
      ]
     },
     "execution_count": 16,
     "metadata": {},
     "output_type": "execute_result"
    }
   ],
   "source": [
    "expected_training_range[0]"
   ]
  },
  {
   "cell_type": "code",
   "execution_count": 12,
   "metadata": {},
   "outputs": [
    {
     "data": {
      "text/plain": [
       "DatetimeIndex(['1991-07-01', '2005-06-01'], dtype='datetime64[ns]', name='datetime', freq=None)"
      ]
     },
     "execution_count": 12,
     "metadata": {},
     "output_type": "execute_result"
    }
   ],
   "source": [
    "preprocess_y(y=data_train, return_values=False)[1][[0, -1]]"
   ]
  },
  {
   "cell_type": "code",
   "execution_count": 21,
   "metadata": {},
   "outputs": [
    {
     "data": {
      "text/plain": [
       "array([[[1.00e+00, 1.00e-01, 1.10e+00],\n",
       "        [2.00e+00, 2.00e-01, 2.20e+00],\n",
       "        [3.00e+00, 3.00e-01, 3.30e+00]],\n",
       "\n",
       "       [[1.00e+01, 1.00e+00, 1.10e+01],\n",
       "        [2.00e+01, 2.00e+00, 2.20e+01],\n",
       "        [3.00e+01, 3.00e+00, 3.30e+01]],\n",
       "\n",
       "       [[1.00e+02, 1.00e+01, 1.01e+02],\n",
       "        [2.00e+02, 2.00e+01, 2.02e+02],\n",
       "        [3.00e+02, 3.00e+01, 3.03e+02]]])"
      ]
     },
     "execution_count": 21,
     "metadata": {},
     "output_type": "execute_result"
    }
   ],
   "source": [
    "predictions = np.array(\n",
    "    [[1, 10, 100],\n",
    "    [2, 20, 200],\n",
    "    [3, 30, 300]], dtype=float\n",
    ")\n",
    "\n",
    "lower_bound = np.array(\n",
    "    [[0.1, 1, 10],\n",
    "    [0.2, 2, 20],\n",
    "    [0.3, 3, 30]], dtype=float\n",
    ")\n",
    "\n",
    "upper_bound = np.array(\n",
    "    [[1.1, 11, 101],\n",
    "    [2.2, 22, 202],\n",
    "    [3.3, 33, 303]], dtype=float\n",
    ")\n",
    "\n",
    "predictions = np.array([predictions, lower_bound, upper_bound], dtype=float).swapaxes(0, 2)\n",
    "predictions"
   ]
  },
  {
   "cell_type": "code",
   "execution_count": 23,
   "metadata": {},
   "outputs": [
    {
     "name": "stdout",
     "output_type": "stream",
     "text": [
      "[[1.  0.1 1.1]\n",
      " [2.  0.2 2.2]\n",
      " [3.  0.3 3.3]]\n",
      "[[10.  1. 11.]\n",
      " [20.  2. 22.]\n",
      " [30.  3. 33.]]\n",
      "[[100.  10. 101.]\n",
      " [200.  20. 202.]\n",
      " [300.  30. 303.]]\n"
     ]
    }
   ],
   "source": [
    "for i in range(3):\n",
    "    print(predictions[i, :, :])"
   ]
  },
  {
   "cell_type": "code",
   "execution_count": 10,
   "metadata": {},
   "outputs": [
    {
     "data": {
      "text/html": [
       "<pre style=\"white-space:pre;overflow-x:auto;line-height:normal;font-family:Menlo,'DejaVu Sans Mono',consolas,'Courier New',monospace\"><span style=\"color: #ffaf00; text-decoration-color: #ffaf00\">╭───────────────────────────── DataTransformationWarning ──────────────────────────────╮</span>\n",
       "<span style=\"color: #ffaf00; text-decoration-color: #ffaf00\">│</span> When using a linear model, it is recommended to use a transformer_series to ensure   <span style=\"color: #ffaf00; text-decoration-color: #ffaf00\">│</span>\n",
       "<span style=\"color: #ffaf00; text-decoration-color: #ffaf00\">│</span> all series are in the same scale. You can use, for example, a `StandardScaler` from  <span style=\"color: #ffaf00; text-decoration-color: #ffaf00\">│</span>\n",
       "<span style=\"color: #ffaf00; text-decoration-color: #ffaf00\">│</span> sklearn.preprocessing.                                                               <span style=\"color: #ffaf00; text-decoration-color: #ffaf00\">│</span>\n",
       "<span style=\"color: #ffaf00; text-decoration-color: #ffaf00\">│</span>                                                                                      <span style=\"color: #ffaf00; text-decoration-color: #ffaf00\">│</span>\n",
       "<span style=\"color: #ffaf00; text-decoration-color: #ffaf00\">│</span> Category : DataTransformationWarning                                                 <span style=\"color: #ffaf00; text-decoration-color: #ffaf00\">│</span>\n",
       "<span style=\"color: #ffaf00; text-decoration-color: #ffaf00\">│</span> Location :                                                                           <span style=\"color: #ffaf00; text-decoration-color: #ffaf00\">│</span>\n",
       "<span style=\"color: #ffaf00; text-decoration-color: #ffaf00\">│</span> c:\\Users\\jaesc2\\GitHub\\skforecast\\skforecast\\recursive\\_forecaster_recursive_multise <span style=\"color: #ffaf00; text-decoration-color: #ffaf00\">│</span>\n",
       "<span style=\"color: #ffaf00; text-decoration-color: #ffaf00\">│</span> ries.py:471                                                                          <span style=\"color: #ffaf00; text-decoration-color: #ffaf00\">│</span>\n",
       "<span style=\"color: #ffaf00; text-decoration-color: #ffaf00\">│</span> Suppress : warnings.simplefilter('ignore', category=DataTransformationWarning)       <span style=\"color: #ffaf00; text-decoration-color: #ffaf00\">│</span>\n",
       "<span style=\"color: #ffaf00; text-decoration-color: #ffaf00\">╰──────────────────────────────────────────────────────────────────────────────────────╯</span>\n",
       "</pre>\n"
      ],
      "text/plain": [
       "\u001b[38;5;214m╭─\u001b[0m\u001b[38;5;214m────────────────────────────\u001b[0m\u001b[38;5;214m DataTransformationWarning \u001b[0m\u001b[38;5;214m─────────────────────────────\u001b[0m\u001b[38;5;214m─╮\u001b[0m\n",
       "\u001b[38;5;214m│\u001b[0m When using a linear model, it is recommended to use a transformer_series to ensure   \u001b[38;5;214m│\u001b[0m\n",
       "\u001b[38;5;214m│\u001b[0m all series are in the same scale. You can use, for example, a `StandardScaler` from  \u001b[38;5;214m│\u001b[0m\n",
       "\u001b[38;5;214m│\u001b[0m sklearn.preprocessing.                                                               \u001b[38;5;214m│\u001b[0m\n",
       "\u001b[38;5;214m│\u001b[0m                                                                                      \u001b[38;5;214m│\u001b[0m\n",
       "\u001b[38;5;214m│\u001b[0m Category : DataTransformationWarning                                                 \u001b[38;5;214m│\u001b[0m\n",
       "\u001b[38;5;214m│\u001b[0m Location :                                                                           \u001b[38;5;214m│\u001b[0m\n",
       "\u001b[38;5;214m│\u001b[0m c:\\Users\\jaesc2\\GitHub\\skforecast\\skforecast\\recursive\\_forecaster_recursive_multise \u001b[38;5;214m│\u001b[0m\n",
       "\u001b[38;5;214m│\u001b[0m ries.py:471                                                                          \u001b[38;5;214m│\u001b[0m\n",
       "\u001b[38;5;214m│\u001b[0m Suppress : warnings.simplefilter('ignore', category=DataTransformationWarning)       \u001b[38;5;214m│\u001b[0m\n",
       "\u001b[38;5;214m╰──────────────────────────────────────────────────────────────────────────────────────╯\u001b[0m\n"
      ]
     },
     "metadata": {},
     "output_type": "display_data"
    }
   ],
   "source": [
    "rng = np.random.default_rng(12345)\n",
    "series = pd.DataFrame(\n",
    "    {\"1\": rng.normal(10, 1, 15_000), \"2\": rng.normal(10, 1, 15_000)},\n",
    "    index=pd.date_range(start=\"2000-01-01\", periods=15_000, freq=\"h\"),\n",
    ")\n",
    "\n",
    "forecaster_1 = ForecasterRecursiveMultiSeries(\n",
    "    LinearRegression(), lags=3, encoding='ordinal', binner_kwargs={\"n_bins\": 3}\n",
    ")\n",
    "forecaster_1.fit(series=series, store_in_sample_residuals=True)"
   ]
  },
  {
   "cell_type": "code",
   "execution_count": 11,
   "metadata": {},
   "outputs": [
    {
     "data": {
      "text/plain": [
       "{'1': {0: (9.963096392366815, 10.005505419480953),\n",
       "  1: (10.005505419480953, 10.015571584118915),\n",
       "  2: (10.015571584118915, 10.058211712775805)},\n",
       " '2': {0: (9.940129952794797, 9.993475254986176),\n",
       "  1: (9.993475254986176, 10.003497948644386),\n",
       "  2: (10.003497948644386, 10.046188138170931)},\n",
       " '_unknown_level': {0: (9.940129952794797, 9.998756219121827),\n",
       "  1: (9.998756219121827, 10.010351414116016),\n",
       "  2: (10.010351414116016, 10.058211712775805)}}"
      ]
     },
     "execution_count": 11,
     "metadata": {},
     "output_type": "execute_result"
    }
   ],
   "source": [
    "forecaster_1.binner_intervals_"
   ]
  },
  {
   "cell_type": "code",
   "execution_count": 19,
   "metadata": {},
   "outputs": [
    {
     "data": {
      "text/html": [
       "<pre style=\"white-space:pre;overflow-x:auto;line-height:normal;font-family:Menlo,'DejaVu Sans Mono',consolas,'Courier New',monospace\"><span style=\"color: #ffaf00; text-decoration-color: #ffaf00\">╭───────────────────────────── DataTransformationWarning ──────────────────────────────╮</span>\n",
       "<span style=\"color: #ffaf00; text-decoration-color: #ffaf00\">│</span> When using a linear model, it is recommended to use a transformer_series to ensure   <span style=\"color: #ffaf00; text-decoration-color: #ffaf00\">│</span>\n",
       "<span style=\"color: #ffaf00; text-decoration-color: #ffaf00\">│</span> all series are in the same scale. You can use, for example, a `StandardScaler` from  <span style=\"color: #ffaf00; text-decoration-color: #ffaf00\">│</span>\n",
       "<span style=\"color: #ffaf00; text-decoration-color: #ffaf00\">│</span> sklearn.preprocessing.                                                               <span style=\"color: #ffaf00; text-decoration-color: #ffaf00\">│</span>\n",
       "<span style=\"color: #ffaf00; text-decoration-color: #ffaf00\">│</span>                                                                                      <span style=\"color: #ffaf00; text-decoration-color: #ffaf00\">│</span>\n",
       "<span style=\"color: #ffaf00; text-decoration-color: #ffaf00\">│</span> Category : DataTransformationWarning                                                 <span style=\"color: #ffaf00; text-decoration-color: #ffaf00\">│</span>\n",
       "<span style=\"color: #ffaf00; text-decoration-color: #ffaf00\">│</span> Location :                                                                           <span style=\"color: #ffaf00; text-decoration-color: #ffaf00\">│</span>\n",
       "<span style=\"color: #ffaf00; text-decoration-color: #ffaf00\">│</span> c:\\Users\\jaesc2\\GitHub\\skforecast\\skforecast\\recursive\\_forecaster_recursive_multise <span style=\"color: #ffaf00; text-decoration-color: #ffaf00\">│</span>\n",
       "<span style=\"color: #ffaf00; text-decoration-color: #ffaf00\">│</span> ries.py:471                                                                          <span style=\"color: #ffaf00; text-decoration-color: #ffaf00\">│</span>\n",
       "<span style=\"color: #ffaf00; text-decoration-color: #ffaf00\">│</span> Suppress : warnings.simplefilter('ignore', category=DataTransformationWarning)       <span style=\"color: #ffaf00; text-decoration-color: #ffaf00\">│</span>\n",
       "<span style=\"color: #ffaf00; text-decoration-color: #ffaf00\">╰──────────────────────────────────────────────────────────────────────────────────────╯</span>\n",
       "</pre>\n"
      ],
      "text/plain": [
       "\u001b[38;5;214m╭─\u001b[0m\u001b[38;5;214m────────────────────────────\u001b[0m\u001b[38;5;214m DataTransformationWarning \u001b[0m\u001b[38;5;214m─────────────────────────────\u001b[0m\u001b[38;5;214m─╮\u001b[0m\n",
       "\u001b[38;5;214m│\u001b[0m When using a linear model, it is recommended to use a transformer_series to ensure   \u001b[38;5;214m│\u001b[0m\n",
       "\u001b[38;5;214m│\u001b[0m all series are in the same scale. You can use, for example, a `StandardScaler` from  \u001b[38;5;214m│\u001b[0m\n",
       "\u001b[38;5;214m│\u001b[0m sklearn.preprocessing.                                                               \u001b[38;5;214m│\u001b[0m\n",
       "\u001b[38;5;214m│\u001b[0m                                                                                      \u001b[38;5;214m│\u001b[0m\n",
       "\u001b[38;5;214m│\u001b[0m Category : DataTransformationWarning                                                 \u001b[38;5;214m│\u001b[0m\n",
       "\u001b[38;5;214m│\u001b[0m Location :                                                                           \u001b[38;5;214m│\u001b[0m\n",
       "\u001b[38;5;214m│\u001b[0m c:\\Users\\jaesc2\\GitHub\\skforecast\\skforecast\\recursive\\_forecaster_recursive_multise \u001b[38;5;214m│\u001b[0m\n",
       "\u001b[38;5;214m│\u001b[0m ries.py:471                                                                          \u001b[38;5;214m│\u001b[0m\n",
       "\u001b[38;5;214m│\u001b[0m Suppress : warnings.simplefilter('ignore', category=DataTransformationWarning)       \u001b[38;5;214m│\u001b[0m\n",
       "\u001b[38;5;214m╰──────────────────────────────────────────────────────────────────────────────────────╯\u001b[0m\n"
      ]
     },
     "metadata": {},
     "output_type": "display_data"
    }
   ],
   "source": [
    "rng = np.random.default_rng(1894)\n",
    "series = pd.DataFrame({\"1\": rng.normal(10, 5, 20), \"2\": rng.normal(10, 5, 20)})\n",
    "\n",
    "rolling = RollingFeatures(stats=[\"ratio_min_max\", \"median\"], window_sizes=4)\n",
    "forecaster = ForecasterRecursiveMultiSeries(\n",
    "    LinearRegression(), lags=3, encoding=None, window_features=rolling, binner_kwargs={\"n_bins\": 3}\n",
    ")\n",
    "forecaster.fit(series=series, store_in_sample_residuals=True)"
   ]
  },
  {
   "cell_type": "code",
   "execution_count": 20,
   "metadata": {},
   "outputs": [
    {
     "data": {
      "text/plain": [
       "{'_unknown_level': array([-2.05820541, -5.47429818, -7.31524702, -4.29526858,  0.66810725,\n",
       "        -5.37727919,  1.94669051,  7.67911837, -0.63572989,  1.79063442,\n",
       "        -0.48881591,  0.44689235,  4.0759107 , -6.74143431,  2.16887587,\n",
       "         5.7738583 ,  1.76518089, -6.32949235, -1.56689305,  1.98201019,\n",
       "         3.56844034,  3.14094834,  7.85637887, -4.32241071,  3.27047182,\n",
       "        -2.01737457,  1.26390611,  6.83575019, -2.02500966, -1.25537261,\n",
       "        -2.00844951, -2.32189357])}"
      ]
     },
     "execution_count": 20,
     "metadata": {},
     "output_type": "execute_result"
    }
   ],
   "source": [
    "forecaster.in_sample_residuals_"
   ]
  },
  {
   "cell_type": "code",
   "execution_count": 21,
   "metadata": {},
   "outputs": [
    {
     "data": {
      "text/plain": [
       "{'_unknown_level': {0: (6.81635531697439, 9.303028105789933),\n",
       "  1: (9.303028105789933, 10.690051434777626),\n",
       "  2: (10.690051434777626, 12.789680311772173)}}"
      ]
     },
     "execution_count": 21,
     "metadata": {},
     "output_type": "execute_result"
    }
   ],
   "source": [
    "forecaster.binner_intervals_"
   ]
  },
  {
   "cell_type": "code",
   "execution_count": 22,
   "metadata": {},
   "outputs": [
    {
     "data": {
      "text/html": [
       "<pre style=\"white-space:pre;overflow-x:auto;line-height:normal;font-family:Menlo,'DejaVu Sans Mono',consolas,'Courier New',monospace\"><span style=\"color: #ffaf00; text-decoration-color: #ffaf00\">╭───────────────────────────── DataTransformationWarning ──────────────────────────────╮</span>\n",
       "<span style=\"color: #ffaf00; text-decoration-color: #ffaf00\">│</span> When using a linear model, it is recommended to use a transformer_series to ensure   <span style=\"color: #ffaf00; text-decoration-color: #ffaf00\">│</span>\n",
       "<span style=\"color: #ffaf00; text-decoration-color: #ffaf00\">│</span> all series are in the same scale. You can use, for example, a `StandardScaler` from  <span style=\"color: #ffaf00; text-decoration-color: #ffaf00\">│</span>\n",
       "<span style=\"color: #ffaf00; text-decoration-color: #ffaf00\">│</span> sklearn.preprocessing.                                                               <span style=\"color: #ffaf00; text-decoration-color: #ffaf00\">│</span>\n",
       "<span style=\"color: #ffaf00; text-decoration-color: #ffaf00\">│</span>                                                                                      <span style=\"color: #ffaf00; text-decoration-color: #ffaf00\">│</span>\n",
       "<span style=\"color: #ffaf00; text-decoration-color: #ffaf00\">│</span> Category : DataTransformationWarning                                                 <span style=\"color: #ffaf00; text-decoration-color: #ffaf00\">│</span>\n",
       "<span style=\"color: #ffaf00; text-decoration-color: #ffaf00\">│</span> Location :                                                                           <span style=\"color: #ffaf00; text-decoration-color: #ffaf00\">│</span>\n",
       "<span style=\"color: #ffaf00; text-decoration-color: #ffaf00\">│</span> c:\\Users\\jaesc2\\GitHub\\skforecast\\skforecast\\recursive\\_forecaster_recursive_multise <span style=\"color: #ffaf00; text-decoration-color: #ffaf00\">│</span>\n",
       "<span style=\"color: #ffaf00; text-decoration-color: #ffaf00\">│</span> ries.py:471                                                                          <span style=\"color: #ffaf00; text-decoration-color: #ffaf00\">│</span>\n",
       "<span style=\"color: #ffaf00; text-decoration-color: #ffaf00\">│</span> Suppress : warnings.simplefilter('ignore', category=DataTransformationWarning)       <span style=\"color: #ffaf00; text-decoration-color: #ffaf00\">│</span>\n",
       "<span style=\"color: #ffaf00; text-decoration-color: #ffaf00\">╰──────────────────────────────────────────────────────────────────────────────────────╯</span>\n",
       "</pre>\n"
      ],
      "text/plain": [
       "\u001b[38;5;214m╭─\u001b[0m\u001b[38;5;214m────────────────────────────\u001b[0m\u001b[38;5;214m DataTransformationWarning \u001b[0m\u001b[38;5;214m─────────────────────────────\u001b[0m\u001b[38;5;214m─╮\u001b[0m\n",
       "\u001b[38;5;214m│\u001b[0m When using a linear model, it is recommended to use a transformer_series to ensure   \u001b[38;5;214m│\u001b[0m\n",
       "\u001b[38;5;214m│\u001b[0m all series are in the same scale. You can use, for example, a `StandardScaler` from  \u001b[38;5;214m│\u001b[0m\n",
       "\u001b[38;5;214m│\u001b[0m sklearn.preprocessing.                                                               \u001b[38;5;214m│\u001b[0m\n",
       "\u001b[38;5;214m│\u001b[0m                                                                                      \u001b[38;5;214m│\u001b[0m\n",
       "\u001b[38;5;214m│\u001b[0m Category : DataTransformationWarning                                                 \u001b[38;5;214m│\u001b[0m\n",
       "\u001b[38;5;214m│\u001b[0m Location :                                                                           \u001b[38;5;214m│\u001b[0m\n",
       "\u001b[38;5;214m│\u001b[0m c:\\Users\\jaesc2\\GitHub\\skforecast\\skforecast\\recursive\\_forecaster_recursive_multise \u001b[38;5;214m│\u001b[0m\n",
       "\u001b[38;5;214m│\u001b[0m ries.py:471                                                                          \u001b[38;5;214m│\u001b[0m\n",
       "\u001b[38;5;214m│\u001b[0m Suppress : warnings.simplefilter('ignore', category=DataTransformationWarning)       \u001b[38;5;214m│\u001b[0m\n",
       "\u001b[38;5;214m╰──────────────────────────────────────────────────────────────────────────────────────╯\u001b[0m\n"
      ]
     },
     "metadata": {},
     "output_type": "display_data"
    }
   ],
   "source": [
    "rng = np.random.default_rng(1894)\n",
    "series = pd.DataFrame({\"1\": rng.normal(10, 5, 20), \"2\": rng.normal(10, 5, 20)})\n",
    "\n",
    "forecaster = ForecasterRecursiveMultiSeries(LinearRegression(), lags=3)\n",
    "forecaster._probabilistic_mode = False\n",
    "forecaster.fit(series=series, store_in_sample_residuals=False)"
   ]
  },
  {
   "cell_type": "code",
   "execution_count": 23,
   "metadata": {},
   "outputs": [
    {
     "data": {
      "text/plain": [
       "{'1': None, '2': None, '_unknown_level': None}"
      ]
     },
     "execution_count": 23,
     "metadata": {},
     "output_type": "execute_result"
    }
   ],
   "source": [
    "forecaster.in_sample_residuals_"
   ]
  },
  {
   "cell_type": "code",
   "execution_count": 24,
   "metadata": {},
   "outputs": [
    {
     "data": {
      "text/plain": [
       "{'1': None, '2': None, '_unknown_level': None}"
      ]
     },
     "execution_count": 24,
     "metadata": {},
     "output_type": "execute_result"
    }
   ],
   "source": [
    "forecaster.in_sample_residuals_by_bin_"
   ]
  },
  {
   "cell_type": "code",
   "execution_count": 25,
   "metadata": {},
   "outputs": [
    {
     "data": {
      "text/plain": [
       "{}"
      ]
     },
     "execution_count": 25,
     "metadata": {},
     "output_type": "execute_result"
    }
   ],
   "source": [
    "forecaster.binner_intervals_"
   ]
  },
  {
   "cell_type": "code",
   "execution_count": 26,
   "metadata": {},
   "outputs": [
    {
     "data": {
      "text/html": [
       "<pre style=\"white-space:pre;overflow-x:auto;line-height:normal;font-family:Menlo,'DejaVu Sans Mono',consolas,'Courier New',monospace\"><span style=\"color: #ffaf00; text-decoration-color: #ffaf00\">╭───────────────────────────── DataTransformationWarning ──────────────────────────────╮</span>\n",
       "<span style=\"color: #ffaf00; text-decoration-color: #ffaf00\">│</span> When using a linear model, it is recommended to use a transformer_series to ensure   <span style=\"color: #ffaf00; text-decoration-color: #ffaf00\">│</span>\n",
       "<span style=\"color: #ffaf00; text-decoration-color: #ffaf00\">│</span> all series are in the same scale. You can use, for example, a `StandardScaler` from  <span style=\"color: #ffaf00; text-decoration-color: #ffaf00\">│</span>\n",
       "<span style=\"color: #ffaf00; text-decoration-color: #ffaf00\">│</span> sklearn.preprocessing.                                                               <span style=\"color: #ffaf00; text-decoration-color: #ffaf00\">│</span>\n",
       "<span style=\"color: #ffaf00; text-decoration-color: #ffaf00\">│</span>                                                                                      <span style=\"color: #ffaf00; text-decoration-color: #ffaf00\">│</span>\n",
       "<span style=\"color: #ffaf00; text-decoration-color: #ffaf00\">│</span> Category : DataTransformationWarning                                                 <span style=\"color: #ffaf00; text-decoration-color: #ffaf00\">│</span>\n",
       "<span style=\"color: #ffaf00; text-decoration-color: #ffaf00\">│</span> Location :                                                                           <span style=\"color: #ffaf00; text-decoration-color: #ffaf00\">│</span>\n",
       "<span style=\"color: #ffaf00; text-decoration-color: #ffaf00\">│</span> c:\\Users\\jaesc2\\GitHub\\skforecast\\skforecast\\recursive\\_forecaster_recursive_multise <span style=\"color: #ffaf00; text-decoration-color: #ffaf00\">│</span>\n",
       "<span style=\"color: #ffaf00; text-decoration-color: #ffaf00\">│</span> ries.py:471                                                                          <span style=\"color: #ffaf00; text-decoration-color: #ffaf00\">│</span>\n",
       "<span style=\"color: #ffaf00; text-decoration-color: #ffaf00\">│</span> Suppress : warnings.simplefilter('ignore', category=DataTransformationWarning)       <span style=\"color: #ffaf00; text-decoration-color: #ffaf00\">│</span>\n",
       "<span style=\"color: #ffaf00; text-decoration-color: #ffaf00\">╰──────────────────────────────────────────────────────────────────────────────────────╯</span>\n",
       "</pre>\n"
      ],
      "text/plain": [
       "\u001b[38;5;214m╭─\u001b[0m\u001b[38;5;214m────────────────────────────\u001b[0m\u001b[38;5;214m DataTransformationWarning \u001b[0m\u001b[38;5;214m─────────────────────────────\u001b[0m\u001b[38;5;214m─╮\u001b[0m\n",
       "\u001b[38;5;214m│\u001b[0m When using a linear model, it is recommended to use a transformer_series to ensure   \u001b[38;5;214m│\u001b[0m\n",
       "\u001b[38;5;214m│\u001b[0m all series are in the same scale. You can use, for example, a `StandardScaler` from  \u001b[38;5;214m│\u001b[0m\n",
       "\u001b[38;5;214m│\u001b[0m sklearn.preprocessing.                                                               \u001b[38;5;214m│\u001b[0m\n",
       "\u001b[38;5;214m│\u001b[0m                                                                                      \u001b[38;5;214m│\u001b[0m\n",
       "\u001b[38;5;214m│\u001b[0m Category : DataTransformationWarning                                                 \u001b[38;5;214m│\u001b[0m\n",
       "\u001b[38;5;214m│\u001b[0m Location :                                                                           \u001b[38;5;214m│\u001b[0m\n",
       "\u001b[38;5;214m│\u001b[0m c:\\Users\\jaesc2\\GitHub\\skforecast\\skforecast\\recursive\\_forecaster_recursive_multise \u001b[38;5;214m│\u001b[0m\n",
       "\u001b[38;5;214m│\u001b[0m ries.py:471                                                                          \u001b[38;5;214m│\u001b[0m\n",
       "\u001b[38;5;214m│\u001b[0m Suppress : warnings.simplefilter('ignore', category=DataTransformationWarning)       \u001b[38;5;214m│\u001b[0m\n",
       "\u001b[38;5;214m╰──────────────────────────────────────────────────────────────────────────────────────╯\u001b[0m\n"
      ]
     },
     "metadata": {},
     "output_type": "display_data"
    }
   ],
   "source": [
    "forecaster = ForecasterRecursiveMultiSeries(\n",
    "        regressor=LinearRegression(), lags=5, binner_kwargs={\"n_bins\": 3}\n",
    "    )\n",
    "\n",
    "series = pd.DataFrame(\n",
    "    {\n",
    "        \"l1\": pd.Series(np.arange(10)),\n",
    "        \"l2\": pd.Series(np.arange(10)),\n",
    "        \"l3\": pd.Series(np.arange(10)),\n",
    "    }\n",
    ")\n",
    "series.index = pd.DatetimeIndex(\n",
    "    [\n",
    "        \"2022-01-04\",\n",
    "        \"2022-01-05\",\n",
    "        \"2022-01-06\",\n",
    "        \"2022-01-07\",\n",
    "        \"2022-01-08\",\n",
    "        \"2022-01-09\",\n",
    "        \"2022-01-10\",\n",
    "        \"2022-01-11\",\n",
    "        \"2022-01-12\",\n",
    "        \"2022-01-13\",\n",
    "    ],\n",
    "    dtype=\"datetime64[ns]\",\n",
    "    freq=\"D\",\n",
    ")\n",
    "forecaster.fit(series=series, store_in_sample_residuals=False)\n",
    "\n",
    "rng = np.random.default_rng(12345)\n",
    "y_pred = rng.normal(100, 15, 20)\n",
    "y_true = rng.normal(100, 10, 20)\n",
    "forecaster.in_sample_residuals_ = {\"level_1\": None}\n",
    "forecaster.in_sample_residuals_by_bin_ = {\"level_1\": {}}\n",
    "forecaster.binner_intervals_ = {\"level_1\": {}}\n",
    "\n",
    "forecaster._binning_in_sample_residuals(\n",
    "    level=\"level_1\",\n",
    "    y_pred=y_pred,\n",
    "    y_true=y_true,\n",
    ")"
   ]
  },
  {
   "cell_type": "code",
   "execution_count": 27,
   "metadata": {},
   "outputs": [
    {
     "data": {
      "text/plain": [
       "{'level_1': None}"
      ]
     },
     "execution_count": 27,
     "metadata": {},
     "output_type": "execute_result"
    }
   ],
   "source": [
    "forecaster.in_sample_residuals_"
   ]
  },
  {
   "cell_type": "code",
   "execution_count": 28,
   "metadata": {},
   "outputs": [
    {
     "data": {
      "text/plain": [
       "{'level_1': {}}"
      ]
     },
     "execution_count": 28,
     "metadata": {},
     "output_type": "execute_result"
    }
   ],
   "source": [
    "forecaster.in_sample_residuals_by_bin_"
   ]
  },
  {
   "cell_type": "code",
   "execution_count": 29,
   "metadata": {},
   "outputs": [
    {
     "data": {
      "text/plain": [
       "{'level_1': {0: (70.70705405481715, 90.25638761254116),\n",
       "  1: (90.25638761254116, 109.36821559391004),\n",
       "  2: (109.36821559391004, 135.2111448156828)}}"
      ]
     },
     "execution_count": 29,
     "metadata": {},
     "output_type": "execute_result"
    }
   ],
   "source": [
    "forecaster.binner_intervals_"
   ]
  },
  {
   "cell_type": "code",
   "execution_count": 37,
   "metadata": {},
   "outputs": [
    {
     "data": {
      "text/html": [
       "<pre style=\"white-space:pre;overflow-x:auto;line-height:normal;font-family:Menlo,'DejaVu Sans Mono',consolas,'Courier New',monospace\"><span style=\"color: #ffaf00; text-decoration-color: #ffaf00\">╭───────────────────────────── DataTransformationWarning ──────────────────────────────╮</span>\n",
       "<span style=\"color: #ffaf00; text-decoration-color: #ffaf00\">│</span> When using a linear model, it is recommended to use a transformer_series to ensure   <span style=\"color: #ffaf00; text-decoration-color: #ffaf00\">│</span>\n",
       "<span style=\"color: #ffaf00; text-decoration-color: #ffaf00\">│</span> all series are in the same scale. You can use, for example, a `StandardScaler` from  <span style=\"color: #ffaf00; text-decoration-color: #ffaf00\">│</span>\n",
       "<span style=\"color: #ffaf00; text-decoration-color: #ffaf00\">│</span> sklearn.preprocessing.                                                               <span style=\"color: #ffaf00; text-decoration-color: #ffaf00\">│</span>\n",
       "<span style=\"color: #ffaf00; text-decoration-color: #ffaf00\">│</span>                                                                                      <span style=\"color: #ffaf00; text-decoration-color: #ffaf00\">│</span>\n",
       "<span style=\"color: #ffaf00; text-decoration-color: #ffaf00\">│</span> Category : DataTransformationWarning                                                 <span style=\"color: #ffaf00; text-decoration-color: #ffaf00\">│</span>\n",
       "<span style=\"color: #ffaf00; text-decoration-color: #ffaf00\">│</span> Location :                                                                           <span style=\"color: #ffaf00; text-decoration-color: #ffaf00\">│</span>\n",
       "<span style=\"color: #ffaf00; text-decoration-color: #ffaf00\">│</span> c:\\Users\\jaesc2\\GitHub\\skforecast\\skforecast\\recursive\\_forecaster_recursive_multise <span style=\"color: #ffaf00; text-decoration-color: #ffaf00\">│</span>\n",
       "<span style=\"color: #ffaf00; text-decoration-color: #ffaf00\">│</span> ries.py:471                                                                          <span style=\"color: #ffaf00; text-decoration-color: #ffaf00\">│</span>\n",
       "<span style=\"color: #ffaf00; text-decoration-color: #ffaf00\">│</span> Suppress : warnings.simplefilter('ignore', category=DataTransformationWarning)       <span style=\"color: #ffaf00; text-decoration-color: #ffaf00\">│</span>\n",
       "<span style=\"color: #ffaf00; text-decoration-color: #ffaf00\">╰──────────────────────────────────────────────────────────────────────────────────────╯</span>\n",
       "</pre>\n"
      ],
      "text/plain": [
       "\u001b[38;5;214m╭─\u001b[0m\u001b[38;5;214m────────────────────────────\u001b[0m\u001b[38;5;214m DataTransformationWarning \u001b[0m\u001b[38;5;214m─────────────────────────────\u001b[0m\u001b[38;5;214m─╮\u001b[0m\n",
       "\u001b[38;5;214m│\u001b[0m When using a linear model, it is recommended to use a transformer_series to ensure   \u001b[38;5;214m│\u001b[0m\n",
       "\u001b[38;5;214m│\u001b[0m all series are in the same scale. You can use, for example, a `StandardScaler` from  \u001b[38;5;214m│\u001b[0m\n",
       "\u001b[38;5;214m│\u001b[0m sklearn.preprocessing.                                                               \u001b[38;5;214m│\u001b[0m\n",
       "\u001b[38;5;214m│\u001b[0m                                                                                      \u001b[38;5;214m│\u001b[0m\n",
       "\u001b[38;5;214m│\u001b[0m Category : DataTransformationWarning                                                 \u001b[38;5;214m│\u001b[0m\n",
       "\u001b[38;5;214m│\u001b[0m Location :                                                                           \u001b[38;5;214m│\u001b[0m\n",
       "\u001b[38;5;214m│\u001b[0m c:\\Users\\jaesc2\\GitHub\\skforecast\\skforecast\\recursive\\_forecaster_recursive_multise \u001b[38;5;214m│\u001b[0m\n",
       "\u001b[38;5;214m│\u001b[0m ries.py:471                                                                          \u001b[38;5;214m│\u001b[0m\n",
       "\u001b[38;5;214m│\u001b[0m Suppress : warnings.simplefilter('ignore', category=DataTransformationWarning)       \u001b[38;5;214m│\u001b[0m\n",
       "\u001b[38;5;214m╰──────────────────────────────────────────────────────────────────────────────────────╯\u001b[0m\n"
      ]
     },
     "metadata": {},
     "output_type": "display_data"
    },
    {
     "ename": "TypeError",
     "evalue": "'NoneType' object does not support item assignment",
     "output_type": "error",
     "traceback": [
      "\u001b[1;31m---------------------------------------------------------------------------\u001b[0m",
      "\u001b[1;31mTypeError\u001b[0m                                 Traceback (most recent call last)",
      "Cell \u001b[1;32mIn[37], line 38\u001b[0m\n\u001b[0;32m     35\u001b[0m y_true \u001b[38;5;241m=\u001b[39m rng\u001b[38;5;241m.\u001b[39mnormal(\u001b[38;5;241m100\u001b[39m, \u001b[38;5;241m10\u001b[39m, \u001b[38;5;241m20\u001b[39m)\n\u001b[0;32m     37\u001b[0m forecaster\u001b[38;5;241m.\u001b[39m_probabilistic_mode \u001b[38;5;241m=\u001b[39m \u001b[38;5;124m\"\u001b[39m\u001b[38;5;124mno_binned\u001b[39m\u001b[38;5;124m\"\u001b[39m\n\u001b[1;32m---> 38\u001b[0m \u001b[43mforecaster\u001b[49m\u001b[38;5;241;43m.\u001b[39;49m\u001b[43m_binning_in_sample_residuals\u001b[49m\u001b[43m(\u001b[49m\n\u001b[0;32m     39\u001b[0m \u001b[43m    \u001b[49m\u001b[43mlevel\u001b[49m\u001b[38;5;241;43m=\u001b[39;49m\u001b[38;5;124;43m\"\u001b[39;49m\u001b[38;5;124;43mlevel_1\u001b[39;49m\u001b[38;5;124;43m\"\u001b[39;49m\u001b[43m,\u001b[49m\n\u001b[0;32m     40\u001b[0m \u001b[43m    \u001b[49m\u001b[43my_pred\u001b[49m\u001b[38;5;241;43m=\u001b[39;49m\u001b[43my_pred\u001b[49m\u001b[43m,\u001b[49m\n\u001b[0;32m     41\u001b[0m \u001b[43m    \u001b[49m\u001b[43my_true\u001b[49m\u001b[38;5;241;43m=\u001b[39;49m\u001b[43my_true\u001b[49m\u001b[43m,\u001b[49m\n\u001b[0;32m     42\u001b[0m \u001b[43m        \u001b[49m\u001b[43mstore_in_sample_residuals\u001b[49m\u001b[38;5;241;43m=\u001b[39;49m\u001b[38;5;28;43;01mTrue\u001b[39;49;00m\n\u001b[0;32m     43\u001b[0m \u001b[43m)\u001b[49m\n",
      "File \u001b[1;32mc:\\Users\\jaesc2\\GitHub\\skforecast\\skforecast\\recursive\\_forecaster_recursive_multiseries.py:1881\u001b[0m, in \u001b[0;36mForecasterRecursiveMultiSeries._binning_in_sample_residuals\u001b[1;34m(self, level, y_true, y_pred, store_in_sample_residuals, random_state)\u001b[0m\n\u001b[0;32m   1877\u001b[0m \u001b[38;5;28;01mif\u001b[39;00m \u001b[38;5;28mlen\u001b[39m(residuals) \u001b[38;5;241m>\u001b[39m \u001b[38;5;241m10_000\u001b[39m:\n\u001b[0;32m   1878\u001b[0m     residuals \u001b[38;5;241m=\u001b[39m residuals[\n\u001b[0;32m   1879\u001b[0m         rng\u001b[38;5;241m.\u001b[39mintegers(low\u001b[38;5;241m=\u001b[39m\u001b[38;5;241m0\u001b[39m, high\u001b[38;5;241m=\u001b[39m\u001b[38;5;28mlen\u001b[39m(residuals), size\u001b[38;5;241m=\u001b[39m\u001b[38;5;241m10_000\u001b[39m)\n\u001b[0;32m   1880\u001b[0m     ]\n\u001b[1;32m-> 1881\u001b[0m \u001b[38;5;28;43mself\u001b[39;49m\u001b[38;5;241;43m.\u001b[39;49m\u001b[43min_sample_residuals_\u001b[49m\u001b[43m[\u001b[49m\u001b[43mlevel\u001b[49m\u001b[43m]\u001b[49m \u001b[38;5;241m=\u001b[39m residuals\n",
      "\u001b[1;31mTypeError\u001b[0m: 'NoneType' object does not support item assignment"
     ]
    }
   ],
   "source": [
    "forecaster = ForecasterRecursiveMultiSeries(\n",
    "        regressor=LinearRegression(), lags=5, binner_kwargs={\"n_bins\": 3}\n",
    "    )\n",
    "\n",
    "series = pd.DataFrame(\n",
    "    {\n",
    "        \"l1\": pd.Series(np.arange(10)),\n",
    "        \"l2\": pd.Series(np.arange(10)),\n",
    "        \"l3\": pd.Series(np.arange(10)),\n",
    "    }\n",
    ")\n",
    "series.index = pd.DatetimeIndex(\n",
    "    [\n",
    "        \"2022-01-04\",\n",
    "        \"2022-01-05\",\n",
    "        \"2022-01-06\",\n",
    "        \"2022-01-07\",\n",
    "        \"2022-01-08\",\n",
    "        \"2022-01-09\",\n",
    "        \"2022-01-10\",\n",
    "        \"2022-01-11\",\n",
    "        \"2022-01-12\",\n",
    "        \"2022-01-13\",\n",
    "    ],\n",
    "    dtype=\"datetime64[ns]\",\n",
    "    freq=\"D\",\n",
    ")\n",
    "forecaster.fit(series=series)\n",
    "forecaster.in_sample_residuals_ = None\n",
    "forecaster.in_sample_residuals_by_bin_ = None\n",
    "forecaster.binner_intervals_ = {}\n",
    "\n",
    "rng = np.random.default_rng(12345)\n",
    "y_pred = rng.normal(100, 15, 20)\n",
    "y_true = rng.normal(100, 10, 20)\n",
    "\n",
    "forecaster._probabilistic_mode = \"no_binned\"\n",
    "forecaster._binning_in_sample_residuals(\n",
    "    level=\"level_1\",\n",
    "    y_pred=y_pred,\n",
    "    y_true=y_true,\n",
    "        store_in_sample_residuals=True\n",
    ")"
   ]
  },
  {
   "cell_type": "code",
   "execution_count": 36,
   "metadata": {},
   "outputs": [],
   "source": [
    "forecaster.in_sample_residuals_"
   ]
  },
  {
   "cell_type": "code",
   "execution_count": null,
   "metadata": {},
   "outputs": [],
   "source": []
  }
 ],
 "metadata": {
  "kernelspec": {
   "display_name": "skforecast_py11_2",
   "language": "python",
   "name": "python3"
  },
  "language_info": {
   "codemirror_mode": {
    "name": "ipython",
    "version": 3
   },
   "file_extension": ".py",
   "mimetype": "text/x-python",
   "name": "python",
   "nbconvert_exporter": "python",
   "pygments_lexer": "ipython3",
   "version": "3.11.10"
  },
  "orig_nbformat": 4
 },
 "nbformat": 4,
 "nbformat_minor": 2
}
