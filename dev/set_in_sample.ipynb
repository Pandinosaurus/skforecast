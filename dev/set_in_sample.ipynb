{
 "cells": [
  {
   "cell_type": "code",
   "execution_count": 1,
   "metadata": {},
   "outputs": [
    {
     "name": "stdout",
     "output_type": "stream",
     "text": [
      "c:\\Users\\jaesc2\\GitHub\\skforecast\n"
     ]
    }
   ],
   "source": [
    "%load_ext autoreload\n",
    "%autoreload 2\n",
    "import sys\n",
    "from pathlib import Path\n",
    "path = str(Path.cwd().parent)\n",
    "print(path)\n",
    "sys.path.insert(1, path)\n",
    "\n",
    "import numpy as np\n",
    "import pandas as pd"
   ]
  },
  {
   "cell_type": "code",
   "execution_count": 2,
   "metadata": {},
   "outputs": [],
   "source": [
    "# Libraries\n",
    "# ==============================================================================\n",
    "import pandas as pd\n",
    "import matplotlib.pyplot as plt\n",
    "from lightgbm import LGBMRegressor\n",
    "from sklearn.metrics import mean_squared_error\n",
    "\n",
    "from skforecast.datasets import fetch_dataset\n",
    "from skforecast.preprocessing import RollingFeatures\n",
    "from skforecast.recursive import ForecasterRecursive, ForecasterRecursiveMultiSeries\n",
    "\n",
    "import pytest\n",
    "import numpy as np\n",
    "import pandas as pd\n",
    "from sklearn.linear_model import LinearRegression\n",
    "from sklearn.preprocessing import StandardScaler\n",
    "from skforecast.preprocessing import RollingFeatures"
   ]
  },
  {
   "cell_type": "code",
   "execution_count": 3,
   "metadata": {},
   "outputs": [
    {
     "name": "stdout",
     "output_type": "stream",
     "text": [
      "h2o\n",
      "---\n",
      "Monthly expenditure ($AUD) on corticosteroid drugs that the Australian health\n",
      "system had between 1991 and 2008.\n",
      "Hyndman R (2023). fpp3: Data for Forecasting: Principles and Practice(3rd\n",
      "Edition). http://pkg.robjhyndman.com/fpp3package/,https://github.com/robjhyndman\n",
      "/fpp3package, http://OTexts.com/fpp3.\n",
      "Shape of the dataset: (204, 2)\n"
     ]
    }
   ],
   "source": [
    "# Download data\n",
    "# ==============================================================================\n",
    "data = fetch_dataset(\n",
    "    name=\"h2o\", raw=True, kwargs_read_csv={\"names\": [\"y\", \"datetime\"], \"header\": 0}\n",
    ")\n",
    "\n",
    "# Data preprocessing\n",
    "# ==============================================================================\n",
    "data['datetime'] = pd.to_datetime(data['datetime'], format='%Y-%m-%d')\n",
    "data = data.set_index('datetime')\n",
    "data = data.asfreq('MS')\n",
    "data = data['y']\n",
    "data = data.sort_index()\n",
    "\n",
    "# Split train-test\n",
    "# ==============================================================================\n",
    "steps = 36\n",
    "data_train = data[:-steps]\n",
    "data_test  = data[-steps:]\n"
   ]
  },
  {
   "cell_type": "code",
   "execution_count": 5,
   "metadata": {},
   "outputs": [
    {
     "data": {
      "text/plain": [
       "DatetimeIndex(['1991-07-01', '2005-06-01'], dtype='datetime64[ns]', name='datetime', freq=None)"
      ]
     },
     "execution_count": 5,
     "metadata": {},
     "output_type": "execute_result"
    }
   ],
   "source": [
    "# Create and fit forecaster\n",
    "# ==============================================================================\n",
    "forecaster = ForecasterRecursive(\n",
    "                 regressor       = LGBMRegressor(random_state=123, verbose=-1),\n",
    "                 lags            = 15,\n",
    "                 window_features = RollingFeatures(stats=['mean'], window_sizes=10)\n",
    "             )\n",
    "\n",
    "forecaster.fit(y=data_train)\n",
    "forecaster.training_range_"
   ]
  },
  {
   "cell_type": "code",
   "execution_count": 24,
   "metadata": {},
   "outputs": [
    {
     "data": {
      "text/plain": [
       "['lag_1',\n",
       " 'lag_2',\n",
       " 'lag_3',\n",
       " 'lag_4',\n",
       " 'lag_5',\n",
       " 'lag_6',\n",
       " 'lag_7',\n",
       " 'lag_8',\n",
       " 'lag_9',\n",
       " 'lag_10',\n",
       " 'lag_11',\n",
       " 'lag_12',\n",
       " 'lag_13',\n",
       " 'lag_14',\n",
       " 'lag_15',\n",
       " 'roll_mean_10']"
      ]
     },
     "execution_count": 24,
     "metadata": {},
     "output_type": "execute_result"
    }
   ],
   "source": [
    "(\n",
    "X_train,\n",
    "y_train,\n",
    "_,\n",
    "_,\n",
    "_,\n",
    "X_train_features_names_out_,\n",
    "*_\n",
    ") = forecaster._create_train_X_y(y=data_train)\n",
    "\n",
    "X_train_features_names_out_"
   ]
  },
  {
   "cell_type": "code",
   "execution_count": 27,
   "metadata": {},
   "outputs": [
    {
     "data": {
      "text/plain": [
       "['lag_1',\n",
       " 'lag_2',\n",
       " 'lag_3',\n",
       " 'lag_4',\n",
       " 'lag_5',\n",
       " 'lag_6',\n",
       " 'lag_7',\n",
       " 'lag_8',\n",
       " 'lag_9',\n",
       " 'lag_10',\n",
       " 'lag_11',\n",
       " 'lag_12',\n",
       " 'lag_13',\n",
       " 'lag_14',\n",
       " 'lag_15',\n",
       " 'roll_mean_10']"
      ]
     },
     "execution_count": 27,
     "metadata": {},
     "output_type": "execute_result"
    }
   ],
   "source": [
    "(\n",
    "X_train,\n",
    "y_train,\n",
    "*_,\n",
    "a,\n",
    "_\n",
    ") = forecaster._create_train_X_y(y=data_train)\n",
    "\n",
    "X_train_features_names_out_"
   ]
  },
  {
   "cell_type": "code",
   "execution_count": 9,
   "metadata": {},
   "outputs": [],
   "source": [
    "from skforecast.utils import preprocess_y\n",
    "\n",
    "expected_training_range = forecaster.training_range_\n",
    "training_range = preprocess_y(y=data_train, return_values=False)[1][[0, -1]]\n",
    "\n",
    "if not expected_training_range.equals(training_range):\n",
    "    raise AssertionError"
   ]
  },
  {
   "cell_type": "code",
   "execution_count": 16,
   "metadata": {},
   "outputs": [
    {
     "data": {
      "text/plain": [
       "Timestamp('1991-07-01 00:00:00')"
      ]
     },
     "execution_count": 16,
     "metadata": {},
     "output_type": "execute_result"
    }
   ],
   "source": [
    "expected_training_range[0]"
   ]
  },
  {
   "cell_type": "code",
   "execution_count": 12,
   "metadata": {},
   "outputs": [
    {
     "data": {
      "text/plain": [
       "DatetimeIndex(['1991-07-01', '2005-06-01'], dtype='datetime64[ns]', name='datetime', freq=None)"
      ]
     },
     "execution_count": 12,
     "metadata": {},
     "output_type": "execute_result"
    }
   ],
   "source": [
    "preprocess_y(y=data_train, return_values=False)[1][[0, -1]]"
   ]
  },
  {
   "cell_type": "code",
   "execution_count": 21,
   "metadata": {},
   "outputs": [
    {
     "data": {
      "text/plain": [
       "array([[[1.00e+00, 1.00e-01, 1.10e+00],\n",
       "        [2.00e+00, 2.00e-01, 2.20e+00],\n",
       "        [3.00e+00, 3.00e-01, 3.30e+00]],\n",
       "\n",
       "       [[1.00e+01, 1.00e+00, 1.10e+01],\n",
       "        [2.00e+01, 2.00e+00, 2.20e+01],\n",
       "        [3.00e+01, 3.00e+00, 3.30e+01]],\n",
       "\n",
       "       [[1.00e+02, 1.00e+01, 1.01e+02],\n",
       "        [2.00e+02, 2.00e+01, 2.02e+02],\n",
       "        [3.00e+02, 3.00e+01, 3.03e+02]]])"
      ]
     },
     "execution_count": 21,
     "metadata": {},
     "output_type": "execute_result"
    }
   ],
   "source": [
    "predictions = np.array(\n",
    "    [[1, 10, 100],\n",
    "    [2, 20, 200],\n",
    "    [3, 30, 300]], dtype=float\n",
    ")\n",
    "\n",
    "lower_bound = np.array(\n",
    "    [[0.1, 1, 10],\n",
    "    [0.2, 2, 20],\n",
    "    [0.3, 3, 30]], dtype=float\n",
    ")\n",
    "\n",
    "upper_bound = np.array(\n",
    "    [[1.1, 11, 101],\n",
    "    [2.2, 22, 202],\n",
    "    [3.3, 33, 303]], dtype=float\n",
    ")\n",
    "\n",
    "predictions = np.array([predictions, lower_bound, upper_bound], dtype=float).swapaxes(0, 2)\n",
    "predictions"
   ]
  },
  {
   "cell_type": "code",
   "execution_count": 23,
   "metadata": {},
   "outputs": [
    {
     "name": "stdout",
     "output_type": "stream",
     "text": [
      "[[1.  0.1 1.1]\n",
      " [2.  0.2 2.2]\n",
      " [3.  0.3 3.3]]\n",
      "[[10.  1. 11.]\n",
      " [20.  2. 22.]\n",
      " [30.  3. 33.]]\n",
      "[[100.  10. 101.]\n",
      " [200.  20. 202.]\n",
      " [300.  30. 303.]]\n"
     ]
    }
   ],
   "source": [
    "for i in range(3):\n",
    "    print(predictions[i, :, :])"
   ]
  },
  {
   "cell_type": "code",
   "execution_count": 10,
   "metadata": {},
   "outputs": [
    {
     "data": {
      "text/html": [
       "<pre style=\"white-space:pre;overflow-x:auto;line-height:normal;font-family:Menlo,'DejaVu Sans Mono',consolas,'Courier New',monospace\"><span style=\"color: #ffaf00; text-decoration-color: #ffaf00\">╭───────────────────────────── DataTransformationWarning ──────────────────────────────╮</span>\n",
       "<span style=\"color: #ffaf00; text-decoration-color: #ffaf00\">│</span> When using a linear model, it is recommended to use a transformer_series to ensure   <span style=\"color: #ffaf00; text-decoration-color: #ffaf00\">│</span>\n",
       "<span style=\"color: #ffaf00; text-decoration-color: #ffaf00\">│</span> all series are in the same scale. You can use, for example, a `StandardScaler` from  <span style=\"color: #ffaf00; text-decoration-color: #ffaf00\">│</span>\n",
       "<span style=\"color: #ffaf00; text-decoration-color: #ffaf00\">│</span> sklearn.preprocessing.                                                               <span style=\"color: #ffaf00; text-decoration-color: #ffaf00\">│</span>\n",
       "<span style=\"color: #ffaf00; text-decoration-color: #ffaf00\">│</span>                                                                                      <span style=\"color: #ffaf00; text-decoration-color: #ffaf00\">│</span>\n",
       "<span style=\"color: #ffaf00; text-decoration-color: #ffaf00\">│</span> Category : DataTransformationWarning                                                 <span style=\"color: #ffaf00; text-decoration-color: #ffaf00\">│</span>\n",
       "<span style=\"color: #ffaf00; text-decoration-color: #ffaf00\">│</span> Location :                                                                           <span style=\"color: #ffaf00; text-decoration-color: #ffaf00\">│</span>\n",
       "<span style=\"color: #ffaf00; text-decoration-color: #ffaf00\">│</span> c:\\Users\\jaesc2\\GitHub\\skforecast\\skforecast\\recursive\\_forecaster_recursive_multise <span style=\"color: #ffaf00; text-decoration-color: #ffaf00\">│</span>\n",
       "<span style=\"color: #ffaf00; text-decoration-color: #ffaf00\">│</span> ries.py:471                                                                          <span style=\"color: #ffaf00; text-decoration-color: #ffaf00\">│</span>\n",
       "<span style=\"color: #ffaf00; text-decoration-color: #ffaf00\">│</span> Suppress : warnings.simplefilter('ignore', category=DataTransformationWarning)       <span style=\"color: #ffaf00; text-decoration-color: #ffaf00\">│</span>\n",
       "<span style=\"color: #ffaf00; text-decoration-color: #ffaf00\">╰──────────────────────────────────────────────────────────────────────────────────────╯</span>\n",
       "</pre>\n"
      ],
      "text/plain": [
       "\u001b[38;5;214m╭─\u001b[0m\u001b[38;5;214m────────────────────────────\u001b[0m\u001b[38;5;214m DataTransformationWarning \u001b[0m\u001b[38;5;214m─────────────────────────────\u001b[0m\u001b[38;5;214m─╮\u001b[0m\n",
       "\u001b[38;5;214m│\u001b[0m When using a linear model, it is recommended to use a transformer_series to ensure   \u001b[38;5;214m│\u001b[0m\n",
       "\u001b[38;5;214m│\u001b[0m all series are in the same scale. You can use, for example, a `StandardScaler` from  \u001b[38;5;214m│\u001b[0m\n",
       "\u001b[38;5;214m│\u001b[0m sklearn.preprocessing.                                                               \u001b[38;5;214m│\u001b[0m\n",
       "\u001b[38;5;214m│\u001b[0m                                                                                      \u001b[38;5;214m│\u001b[0m\n",
       "\u001b[38;5;214m│\u001b[0m Category : DataTransformationWarning                                                 \u001b[38;5;214m│\u001b[0m\n",
       "\u001b[38;5;214m│\u001b[0m Location :                                                                           \u001b[38;5;214m│\u001b[0m\n",
       "\u001b[38;5;214m│\u001b[0m c:\\Users\\jaesc2\\GitHub\\skforecast\\skforecast\\recursive\\_forecaster_recursive_multise \u001b[38;5;214m│\u001b[0m\n",
       "\u001b[38;5;214m│\u001b[0m ries.py:471                                                                          \u001b[38;5;214m│\u001b[0m\n",
       "\u001b[38;5;214m│\u001b[0m Suppress : warnings.simplefilter('ignore', category=DataTransformationWarning)       \u001b[38;5;214m│\u001b[0m\n",
       "\u001b[38;5;214m╰──────────────────────────────────────────────────────────────────────────────────────╯\u001b[0m\n"
      ]
     },
     "metadata": {},
     "output_type": "display_data"
    }
   ],
   "source": [
    "rng = np.random.default_rng(12345)\n",
    "series = pd.DataFrame(\n",
    "    {\"1\": rng.normal(10, 1, 15_000), \"2\": rng.normal(10, 1, 15_000)},\n",
    "    index=pd.date_range(start=\"2000-01-01\", periods=15_000, freq=\"h\"),\n",
    ")\n",
    "\n",
    "forecaster_1 = ForecasterRecursiveMultiSeries(\n",
    "    LinearRegression(), lags=3, encoding='ordinal', binner_kwargs={\"n_bins\": 3}\n",
    ")\n",
    "forecaster_1.fit(series=series, store_in_sample_residuals=True)"
   ]
  },
  {
   "cell_type": "code",
   "execution_count": 11,
   "metadata": {},
   "outputs": [
    {
     "data": {
      "text/plain": [
       "{'1': {0: (9.963096392366815, 10.005505419480953),\n",
       "  1: (10.005505419480953, 10.015571584118915),\n",
       "  2: (10.015571584118915, 10.058211712775805)},\n",
       " '2': {0: (9.940129952794797, 9.993475254986176),\n",
       "  1: (9.993475254986176, 10.003497948644386),\n",
       "  2: (10.003497948644386, 10.046188138170931)},\n",
       " '_unknown_level': {0: (9.940129952794797, 9.998756219121827),\n",
       "  1: (9.998756219121827, 10.010351414116016),\n",
       "  2: (10.010351414116016, 10.058211712775805)}}"
      ]
     },
     "execution_count": 11,
     "metadata": {},
     "output_type": "execute_result"
    }
   ],
   "source": [
    "forecaster_1.binner_intervals_"
   ]
  },
  {
   "cell_type": "code",
   "execution_count": 19,
   "metadata": {},
   "outputs": [
    {
     "data": {
      "text/html": [
       "<pre style=\"white-space:pre;overflow-x:auto;line-height:normal;font-family:Menlo,'DejaVu Sans Mono',consolas,'Courier New',monospace\"><span style=\"color: #ffaf00; text-decoration-color: #ffaf00\">╭───────────────────────────── DataTransformationWarning ──────────────────────────────╮</span>\n",
       "<span style=\"color: #ffaf00; text-decoration-color: #ffaf00\">│</span> When using a linear model, it is recommended to use a transformer_series to ensure   <span style=\"color: #ffaf00; text-decoration-color: #ffaf00\">│</span>\n",
       "<span style=\"color: #ffaf00; text-decoration-color: #ffaf00\">│</span> all series are in the same scale. You can use, for example, a `StandardScaler` from  <span style=\"color: #ffaf00; text-decoration-color: #ffaf00\">│</span>\n",
       "<span style=\"color: #ffaf00; text-decoration-color: #ffaf00\">│</span> sklearn.preprocessing.                                                               <span style=\"color: #ffaf00; text-decoration-color: #ffaf00\">│</span>\n",
       "<span style=\"color: #ffaf00; text-decoration-color: #ffaf00\">│</span>                                                                                      <span style=\"color: #ffaf00; text-decoration-color: #ffaf00\">│</span>\n",
       "<span style=\"color: #ffaf00; text-decoration-color: #ffaf00\">│</span> Category : DataTransformationWarning                                                 <span style=\"color: #ffaf00; text-decoration-color: #ffaf00\">│</span>\n",
       "<span style=\"color: #ffaf00; text-decoration-color: #ffaf00\">│</span> Location :                                                                           <span style=\"color: #ffaf00; text-decoration-color: #ffaf00\">│</span>\n",
       "<span style=\"color: #ffaf00; text-decoration-color: #ffaf00\">│</span> c:\\Users\\jaesc2\\GitHub\\skforecast\\skforecast\\recursive\\_forecaster_recursive_multise <span style=\"color: #ffaf00; text-decoration-color: #ffaf00\">│</span>\n",
       "<span style=\"color: #ffaf00; text-decoration-color: #ffaf00\">│</span> ries.py:471                                                                          <span style=\"color: #ffaf00; text-decoration-color: #ffaf00\">│</span>\n",
       "<span style=\"color: #ffaf00; text-decoration-color: #ffaf00\">│</span> Suppress : warnings.simplefilter('ignore', category=DataTransformationWarning)       <span style=\"color: #ffaf00; text-decoration-color: #ffaf00\">│</span>\n",
       "<span style=\"color: #ffaf00; text-decoration-color: #ffaf00\">╰──────────────────────────────────────────────────────────────────────────────────────╯</span>\n",
       "</pre>\n"
      ],
      "text/plain": [
       "\u001b[38;5;214m╭─\u001b[0m\u001b[38;5;214m────────────────────────────\u001b[0m\u001b[38;5;214m DataTransformationWarning \u001b[0m\u001b[38;5;214m─────────────────────────────\u001b[0m\u001b[38;5;214m─╮\u001b[0m\n",
       "\u001b[38;5;214m│\u001b[0m When using a linear model, it is recommended to use a transformer_series to ensure   \u001b[38;5;214m│\u001b[0m\n",
       "\u001b[38;5;214m│\u001b[0m all series are in the same scale. You can use, for example, a `StandardScaler` from  \u001b[38;5;214m│\u001b[0m\n",
       "\u001b[38;5;214m│\u001b[0m sklearn.preprocessing.                                                               \u001b[38;5;214m│\u001b[0m\n",
       "\u001b[38;5;214m│\u001b[0m                                                                                      \u001b[38;5;214m│\u001b[0m\n",
       "\u001b[38;5;214m│\u001b[0m Category : DataTransformationWarning                                                 \u001b[38;5;214m│\u001b[0m\n",
       "\u001b[38;5;214m│\u001b[0m Location :                                                                           \u001b[38;5;214m│\u001b[0m\n",
       "\u001b[38;5;214m│\u001b[0m c:\\Users\\jaesc2\\GitHub\\skforecast\\skforecast\\recursive\\_forecaster_recursive_multise \u001b[38;5;214m│\u001b[0m\n",
       "\u001b[38;5;214m│\u001b[0m ries.py:471                                                                          \u001b[38;5;214m│\u001b[0m\n",
       "\u001b[38;5;214m│\u001b[0m Suppress : warnings.simplefilter('ignore', category=DataTransformationWarning)       \u001b[38;5;214m│\u001b[0m\n",
       "\u001b[38;5;214m╰──────────────────────────────────────────────────────────────────────────────────────╯\u001b[0m\n"
      ]
     },
     "metadata": {},
     "output_type": "display_data"
    }
   ],
   "source": [
    "rng = np.random.default_rng(1894)\n",
    "series = pd.DataFrame({\"1\": rng.normal(10, 5, 20), \"2\": rng.normal(10, 5, 20)})\n",
    "\n",
    "rolling = RollingFeatures(stats=[\"ratio_min_max\", \"median\"], window_sizes=4)\n",
    "forecaster = ForecasterRecursiveMultiSeries(\n",
    "    LinearRegression(), lags=3, encoding=None, window_features=rolling, binner_kwargs={\"n_bins\": 3}\n",
    ")\n",
    "forecaster.fit(series=series, store_in_sample_residuals=True)"
   ]
  },
  {
   "cell_type": "code",
   "execution_count": 20,
   "metadata": {},
   "outputs": [
    {
     "data": {
      "text/plain": [
       "{'_unknown_level': array([-2.05820541, -5.47429818, -7.31524702, -4.29526858,  0.66810725,\n",
       "        -5.37727919,  1.94669051,  7.67911837, -0.63572989,  1.79063442,\n",
       "        -0.48881591,  0.44689235,  4.0759107 , -6.74143431,  2.16887587,\n",
       "         5.7738583 ,  1.76518089, -6.32949235, -1.56689305,  1.98201019,\n",
       "         3.56844034,  3.14094834,  7.85637887, -4.32241071,  3.27047182,\n",
       "        -2.01737457,  1.26390611,  6.83575019, -2.02500966, -1.25537261,\n",
       "        -2.00844951, -2.32189357])}"
      ]
     },
     "execution_count": 20,
     "metadata": {},
     "output_type": "execute_result"
    }
   ],
   "source": [
    "forecaster.in_sample_residuals_"
   ]
  },
  {
   "cell_type": "code",
   "execution_count": 21,
   "metadata": {},
   "outputs": [
    {
     "data": {
      "text/plain": [
       "{'_unknown_level': {0: (6.81635531697439, 9.303028105789933),\n",
       "  1: (9.303028105789933, 10.690051434777626),\n",
       "  2: (10.690051434777626, 12.789680311772173)}}"
      ]
     },
     "execution_count": 21,
     "metadata": {},
     "output_type": "execute_result"
    }
   ],
   "source": [
    "forecaster.binner_intervals_"
   ]
  },
  {
   "cell_type": "code",
   "execution_count": 22,
   "metadata": {},
   "outputs": [
    {
     "data": {
      "text/html": [
       "<pre style=\"white-space:pre;overflow-x:auto;line-height:normal;font-family:Menlo,'DejaVu Sans Mono',consolas,'Courier New',monospace\"><span style=\"color: #ffaf00; text-decoration-color: #ffaf00\">╭───────────────────────────── DataTransformationWarning ──────────────────────────────╮</span>\n",
       "<span style=\"color: #ffaf00; text-decoration-color: #ffaf00\">│</span> When using a linear model, it is recommended to use a transformer_series to ensure   <span style=\"color: #ffaf00; text-decoration-color: #ffaf00\">│</span>\n",
       "<span style=\"color: #ffaf00; text-decoration-color: #ffaf00\">│</span> all series are in the same scale. You can use, for example, a `StandardScaler` from  <span style=\"color: #ffaf00; text-decoration-color: #ffaf00\">│</span>\n",
       "<span style=\"color: #ffaf00; text-decoration-color: #ffaf00\">│</span> sklearn.preprocessing.                                                               <span style=\"color: #ffaf00; text-decoration-color: #ffaf00\">│</span>\n",
       "<span style=\"color: #ffaf00; text-decoration-color: #ffaf00\">│</span>                                                                                      <span style=\"color: #ffaf00; text-decoration-color: #ffaf00\">│</span>\n",
       "<span style=\"color: #ffaf00; text-decoration-color: #ffaf00\">│</span> Category : DataTransformationWarning                                                 <span style=\"color: #ffaf00; text-decoration-color: #ffaf00\">│</span>\n",
       "<span style=\"color: #ffaf00; text-decoration-color: #ffaf00\">│</span> Location :                                                                           <span style=\"color: #ffaf00; text-decoration-color: #ffaf00\">│</span>\n",
       "<span style=\"color: #ffaf00; text-decoration-color: #ffaf00\">│</span> c:\\Users\\jaesc2\\GitHub\\skforecast\\skforecast\\recursive\\_forecaster_recursive_multise <span style=\"color: #ffaf00; text-decoration-color: #ffaf00\">│</span>\n",
       "<span style=\"color: #ffaf00; text-decoration-color: #ffaf00\">│</span> ries.py:471                                                                          <span style=\"color: #ffaf00; text-decoration-color: #ffaf00\">│</span>\n",
       "<span style=\"color: #ffaf00; text-decoration-color: #ffaf00\">│</span> Suppress : warnings.simplefilter('ignore', category=DataTransformationWarning)       <span style=\"color: #ffaf00; text-decoration-color: #ffaf00\">│</span>\n",
       "<span style=\"color: #ffaf00; text-decoration-color: #ffaf00\">╰──────────────────────────────────────────────────────────────────────────────────────╯</span>\n",
       "</pre>\n"
      ],
      "text/plain": [
       "\u001b[38;5;214m╭─\u001b[0m\u001b[38;5;214m────────────────────────────\u001b[0m\u001b[38;5;214m DataTransformationWarning \u001b[0m\u001b[38;5;214m─────────────────────────────\u001b[0m\u001b[38;5;214m─╮\u001b[0m\n",
       "\u001b[38;5;214m│\u001b[0m When using a linear model, it is recommended to use a transformer_series to ensure   \u001b[38;5;214m│\u001b[0m\n",
       "\u001b[38;5;214m│\u001b[0m all series are in the same scale. You can use, for example, a `StandardScaler` from  \u001b[38;5;214m│\u001b[0m\n",
       "\u001b[38;5;214m│\u001b[0m sklearn.preprocessing.                                                               \u001b[38;5;214m│\u001b[0m\n",
       "\u001b[38;5;214m│\u001b[0m                                                                                      \u001b[38;5;214m│\u001b[0m\n",
       "\u001b[38;5;214m│\u001b[0m Category : DataTransformationWarning                                                 \u001b[38;5;214m│\u001b[0m\n",
       "\u001b[38;5;214m│\u001b[0m Location :                                                                           \u001b[38;5;214m│\u001b[0m\n",
       "\u001b[38;5;214m│\u001b[0m c:\\Users\\jaesc2\\GitHub\\skforecast\\skforecast\\recursive\\_forecaster_recursive_multise \u001b[38;5;214m│\u001b[0m\n",
       "\u001b[38;5;214m│\u001b[0m ries.py:471                                                                          \u001b[38;5;214m│\u001b[0m\n",
       "\u001b[38;5;214m│\u001b[0m Suppress : warnings.simplefilter('ignore', category=DataTransformationWarning)       \u001b[38;5;214m│\u001b[0m\n",
       "\u001b[38;5;214m╰──────────────────────────────────────────────────────────────────────────────────────╯\u001b[0m\n"
      ]
     },
     "metadata": {},
     "output_type": "display_data"
    }
   ],
   "source": [
    "rng = np.random.default_rng(1894)\n",
    "series = pd.DataFrame({\"1\": rng.normal(10, 5, 20), \"2\": rng.normal(10, 5, 20)})\n",
    "\n",
    "forecaster = ForecasterRecursiveMultiSeries(LinearRegression(), lags=3)\n",
    "forecaster._probabilistic_mode = False\n",
    "forecaster.fit(series=series, store_in_sample_residuals=False)"
   ]
  },
  {
   "cell_type": "code",
   "execution_count": 23,
   "metadata": {},
   "outputs": [
    {
     "data": {
      "text/plain": [
       "{'1': None, '2': None, '_unknown_level': None}"
      ]
     },
     "execution_count": 23,
     "metadata": {},
     "output_type": "execute_result"
    }
   ],
   "source": [
    "forecaster.in_sample_residuals_"
   ]
  },
  {
   "cell_type": "code",
   "execution_count": 24,
   "metadata": {},
   "outputs": [
    {
     "data": {
      "text/plain": [
       "{'1': None, '2': None, '_unknown_level': None}"
      ]
     },
     "execution_count": 24,
     "metadata": {},
     "output_type": "execute_result"
    }
   ],
   "source": [
    "forecaster.in_sample_residuals_by_bin_"
   ]
  },
  {
   "cell_type": "code",
   "execution_count": 25,
   "metadata": {},
   "outputs": [
    {
     "data": {
      "text/plain": [
       "{}"
      ]
     },
     "execution_count": 25,
     "metadata": {},
     "output_type": "execute_result"
    }
   ],
   "source": [
    "forecaster.binner_intervals_"
   ]
  },
  {
   "cell_type": "code",
   "execution_count": 26,
   "metadata": {},
   "outputs": [
    {
     "data": {
      "text/html": [
       "<pre style=\"white-space:pre;overflow-x:auto;line-height:normal;font-family:Menlo,'DejaVu Sans Mono',consolas,'Courier New',monospace\"><span style=\"color: #ffaf00; text-decoration-color: #ffaf00\">╭───────────────────────────── DataTransformationWarning ──────────────────────────────╮</span>\n",
       "<span style=\"color: #ffaf00; text-decoration-color: #ffaf00\">│</span> When using a linear model, it is recommended to use a transformer_series to ensure   <span style=\"color: #ffaf00; text-decoration-color: #ffaf00\">│</span>\n",
       "<span style=\"color: #ffaf00; text-decoration-color: #ffaf00\">│</span> all series are in the same scale. You can use, for example, a `StandardScaler` from  <span style=\"color: #ffaf00; text-decoration-color: #ffaf00\">│</span>\n",
       "<span style=\"color: #ffaf00; text-decoration-color: #ffaf00\">│</span> sklearn.preprocessing.                                                               <span style=\"color: #ffaf00; text-decoration-color: #ffaf00\">│</span>\n",
       "<span style=\"color: #ffaf00; text-decoration-color: #ffaf00\">│</span>                                                                                      <span style=\"color: #ffaf00; text-decoration-color: #ffaf00\">│</span>\n",
       "<span style=\"color: #ffaf00; text-decoration-color: #ffaf00\">│</span> Category : DataTransformationWarning                                                 <span style=\"color: #ffaf00; text-decoration-color: #ffaf00\">│</span>\n",
       "<span style=\"color: #ffaf00; text-decoration-color: #ffaf00\">│</span> Location :                                                                           <span style=\"color: #ffaf00; text-decoration-color: #ffaf00\">│</span>\n",
       "<span style=\"color: #ffaf00; text-decoration-color: #ffaf00\">│</span> c:\\Users\\jaesc2\\GitHub\\skforecast\\skforecast\\recursive\\_forecaster_recursive_multise <span style=\"color: #ffaf00; text-decoration-color: #ffaf00\">│</span>\n",
       "<span style=\"color: #ffaf00; text-decoration-color: #ffaf00\">│</span> ries.py:471                                                                          <span style=\"color: #ffaf00; text-decoration-color: #ffaf00\">│</span>\n",
       "<span style=\"color: #ffaf00; text-decoration-color: #ffaf00\">│</span> Suppress : warnings.simplefilter('ignore', category=DataTransformationWarning)       <span style=\"color: #ffaf00; text-decoration-color: #ffaf00\">│</span>\n",
       "<span style=\"color: #ffaf00; text-decoration-color: #ffaf00\">╰──────────────────────────────────────────────────────────────────────────────────────╯</span>\n",
       "</pre>\n"
      ],
      "text/plain": [
       "\u001b[38;5;214m╭─\u001b[0m\u001b[38;5;214m────────────────────────────\u001b[0m\u001b[38;5;214m DataTransformationWarning \u001b[0m\u001b[38;5;214m─────────────────────────────\u001b[0m\u001b[38;5;214m─╮\u001b[0m\n",
       "\u001b[38;5;214m│\u001b[0m When using a linear model, it is recommended to use a transformer_series to ensure   \u001b[38;5;214m│\u001b[0m\n",
       "\u001b[38;5;214m│\u001b[0m all series are in the same scale. You can use, for example, a `StandardScaler` from  \u001b[38;5;214m│\u001b[0m\n",
       "\u001b[38;5;214m│\u001b[0m sklearn.preprocessing.                                                               \u001b[38;5;214m│\u001b[0m\n",
       "\u001b[38;5;214m│\u001b[0m                                                                                      \u001b[38;5;214m│\u001b[0m\n",
       "\u001b[38;5;214m│\u001b[0m Category : DataTransformationWarning                                                 \u001b[38;5;214m│\u001b[0m\n",
       "\u001b[38;5;214m│\u001b[0m Location :                                                                           \u001b[38;5;214m│\u001b[0m\n",
       "\u001b[38;5;214m│\u001b[0m c:\\Users\\jaesc2\\GitHub\\skforecast\\skforecast\\recursive\\_forecaster_recursive_multise \u001b[38;5;214m│\u001b[0m\n",
       "\u001b[38;5;214m│\u001b[0m ries.py:471                                                                          \u001b[38;5;214m│\u001b[0m\n",
       "\u001b[38;5;214m│\u001b[0m Suppress : warnings.simplefilter('ignore', category=DataTransformationWarning)       \u001b[38;5;214m│\u001b[0m\n",
       "\u001b[38;5;214m╰──────────────────────────────────────────────────────────────────────────────────────╯\u001b[0m\n"
      ]
     },
     "metadata": {},
     "output_type": "display_data"
    }
   ],
   "source": [
    "forecaster = ForecasterRecursiveMultiSeries(\n",
    "        regressor=LinearRegression(), lags=5, binner_kwargs={\"n_bins\": 3}\n",
    "    )\n",
    "\n",
    "series = pd.DataFrame(\n",
    "    {\n",
    "        \"l1\": pd.Series(np.arange(10)),\n",
    "        \"l2\": pd.Series(np.arange(10)),\n",
    "        \"l3\": pd.Series(np.arange(10)),\n",
    "    }\n",
    ")\n",
    "series.index = pd.DatetimeIndex(\n",
    "    [\n",
    "        \"2022-01-04\",\n",
    "        \"2022-01-05\",\n",
    "        \"2022-01-06\",\n",
    "        \"2022-01-07\",\n",
    "        \"2022-01-08\",\n",
    "        \"2022-01-09\",\n",
    "        \"2022-01-10\",\n",
    "        \"2022-01-11\",\n",
    "        \"2022-01-12\",\n",
    "        \"2022-01-13\",\n",
    "    ],\n",
    "    dtype=\"datetime64[ns]\",\n",
    "    freq=\"D\",\n",
    ")\n",
    "forecaster.fit(series=series, store_in_sample_residuals=False)\n",
    "\n",
    "rng = np.random.default_rng(12345)\n",
    "y_pred = rng.normal(100, 15, 20)\n",
    "y_true = rng.normal(100, 10, 20)\n",
    "forecaster.in_sample_residuals_ = {\"level_1\": None}\n",
    "forecaster.in_sample_residuals_by_bin_ = {\"level_1\": {}}\n",
    "forecaster.binner_intervals_ = {\"level_1\": {}}\n",
    "\n",
    "forecaster._binning_in_sample_residuals(\n",
    "    level=\"level_1\",\n",
    "    y_pred=y_pred,\n",
    "    y_true=y_true,\n",
    ")"
   ]
  },
  {
   "cell_type": "code",
   "execution_count": 27,
   "metadata": {},
   "outputs": [
    {
     "data": {
      "text/plain": [
       "{'level_1': None}"
      ]
     },
     "execution_count": 27,
     "metadata": {},
     "output_type": "execute_result"
    }
   ],
   "source": [
    "forecaster.in_sample_residuals_"
   ]
  },
  {
   "cell_type": "code",
   "execution_count": 28,
   "metadata": {},
   "outputs": [
    {
     "data": {
      "text/plain": [
       "{'level_1': {}}"
      ]
     },
     "execution_count": 28,
     "metadata": {},
     "output_type": "execute_result"
    }
   ],
   "source": [
    "forecaster.in_sample_residuals_by_bin_"
   ]
  },
  {
   "cell_type": "code",
   "execution_count": 29,
   "metadata": {},
   "outputs": [
    {
     "data": {
      "text/plain": [
       "{'level_1': {0: (70.70705405481715, 90.25638761254116),\n",
       "  1: (90.25638761254116, 109.36821559391004),\n",
       "  2: (109.36821559391004, 135.2111448156828)}}"
      ]
     },
     "execution_count": 29,
     "metadata": {},
     "output_type": "execute_result"
    }
   ],
   "source": [
    "forecaster.binner_intervals_"
   ]
  },
  {
   "cell_type": "code",
   "execution_count": 37,
   "metadata": {},
   "outputs": [
    {
     "data": {
      "text/html": [
       "<pre style=\"white-space:pre;overflow-x:auto;line-height:normal;font-family:Menlo,'DejaVu Sans Mono',consolas,'Courier New',monospace\"><span style=\"color: #ffaf00; text-decoration-color: #ffaf00\">╭───────────────────────────── DataTransformationWarning ──────────────────────────────╮</span>\n",
       "<span style=\"color: #ffaf00; text-decoration-color: #ffaf00\">│</span> When using a linear model, it is recommended to use a transformer_series to ensure   <span style=\"color: #ffaf00; text-decoration-color: #ffaf00\">│</span>\n",
       "<span style=\"color: #ffaf00; text-decoration-color: #ffaf00\">│</span> all series are in the same scale. You can use, for example, a `StandardScaler` from  <span style=\"color: #ffaf00; text-decoration-color: #ffaf00\">│</span>\n",
       "<span style=\"color: #ffaf00; text-decoration-color: #ffaf00\">│</span> sklearn.preprocessing.                                                               <span style=\"color: #ffaf00; text-decoration-color: #ffaf00\">│</span>\n",
       "<span style=\"color: #ffaf00; text-decoration-color: #ffaf00\">│</span>                                                                                      <span style=\"color: #ffaf00; text-decoration-color: #ffaf00\">│</span>\n",
       "<span style=\"color: #ffaf00; text-decoration-color: #ffaf00\">│</span> Category : DataTransformationWarning                                                 <span style=\"color: #ffaf00; text-decoration-color: #ffaf00\">│</span>\n",
       "<span style=\"color: #ffaf00; text-decoration-color: #ffaf00\">│</span> Location :                                                                           <span style=\"color: #ffaf00; text-decoration-color: #ffaf00\">│</span>\n",
       "<span style=\"color: #ffaf00; text-decoration-color: #ffaf00\">│</span> c:\\Users\\jaesc2\\GitHub\\skforecast\\skforecast\\recursive\\_forecaster_recursive_multise <span style=\"color: #ffaf00; text-decoration-color: #ffaf00\">│</span>\n",
       "<span style=\"color: #ffaf00; text-decoration-color: #ffaf00\">│</span> ries.py:471                                                                          <span style=\"color: #ffaf00; text-decoration-color: #ffaf00\">│</span>\n",
       "<span style=\"color: #ffaf00; text-decoration-color: #ffaf00\">│</span> Suppress : warnings.simplefilter('ignore', category=DataTransformationWarning)       <span style=\"color: #ffaf00; text-decoration-color: #ffaf00\">│</span>\n",
       "<span style=\"color: #ffaf00; text-decoration-color: #ffaf00\">╰──────────────────────────────────────────────────────────────────────────────────────╯</span>\n",
       "</pre>\n"
      ],
      "text/plain": [
       "\u001b[38;5;214m╭─\u001b[0m\u001b[38;5;214m────────────────────────────\u001b[0m\u001b[38;5;214m DataTransformationWarning \u001b[0m\u001b[38;5;214m─────────────────────────────\u001b[0m\u001b[38;5;214m─╮\u001b[0m\n",
       "\u001b[38;5;214m│\u001b[0m When using a linear model, it is recommended to use a transformer_series to ensure   \u001b[38;5;214m│\u001b[0m\n",
       "\u001b[38;5;214m│\u001b[0m all series are in the same scale. You can use, for example, a `StandardScaler` from  \u001b[38;5;214m│\u001b[0m\n",
       "\u001b[38;5;214m│\u001b[0m sklearn.preprocessing.                                                               \u001b[38;5;214m│\u001b[0m\n",
       "\u001b[38;5;214m│\u001b[0m                                                                                      \u001b[38;5;214m│\u001b[0m\n",
       "\u001b[38;5;214m│\u001b[0m Category : DataTransformationWarning                                                 \u001b[38;5;214m│\u001b[0m\n",
       "\u001b[38;5;214m│\u001b[0m Location :                                                                           \u001b[38;5;214m│\u001b[0m\n",
       "\u001b[38;5;214m│\u001b[0m c:\\Users\\jaesc2\\GitHub\\skforecast\\skforecast\\recursive\\_forecaster_recursive_multise \u001b[38;5;214m│\u001b[0m\n",
       "\u001b[38;5;214m│\u001b[0m ries.py:471                                                                          \u001b[38;5;214m│\u001b[0m\n",
       "\u001b[38;5;214m│\u001b[0m Suppress : warnings.simplefilter('ignore', category=DataTransformationWarning)       \u001b[38;5;214m│\u001b[0m\n",
       "\u001b[38;5;214m╰──────────────────────────────────────────────────────────────────────────────────────╯\u001b[0m\n"
      ]
     },
     "metadata": {},
     "output_type": "display_data"
    },
    {
     "ename": "TypeError",
     "evalue": "'NoneType' object does not support item assignment",
     "output_type": "error",
     "traceback": [
      "\u001b[1;31m---------------------------------------------------------------------------\u001b[0m",
      "\u001b[1;31mTypeError\u001b[0m                                 Traceback (most recent call last)",
      "Cell \u001b[1;32mIn[37], line 38\u001b[0m\n\u001b[0;32m     35\u001b[0m y_true \u001b[38;5;241m=\u001b[39m rng\u001b[38;5;241m.\u001b[39mnormal(\u001b[38;5;241m100\u001b[39m, \u001b[38;5;241m10\u001b[39m, \u001b[38;5;241m20\u001b[39m)\n\u001b[0;32m     37\u001b[0m forecaster\u001b[38;5;241m.\u001b[39m_probabilistic_mode \u001b[38;5;241m=\u001b[39m \u001b[38;5;124m\"\u001b[39m\u001b[38;5;124mno_binned\u001b[39m\u001b[38;5;124m\"\u001b[39m\n\u001b[1;32m---> 38\u001b[0m \u001b[43mforecaster\u001b[49m\u001b[38;5;241;43m.\u001b[39;49m\u001b[43m_binning_in_sample_residuals\u001b[49m\u001b[43m(\u001b[49m\n\u001b[0;32m     39\u001b[0m \u001b[43m    \u001b[49m\u001b[43mlevel\u001b[49m\u001b[38;5;241;43m=\u001b[39;49m\u001b[38;5;124;43m\"\u001b[39;49m\u001b[38;5;124;43mlevel_1\u001b[39;49m\u001b[38;5;124;43m\"\u001b[39;49m\u001b[43m,\u001b[49m\n\u001b[0;32m     40\u001b[0m \u001b[43m    \u001b[49m\u001b[43my_pred\u001b[49m\u001b[38;5;241;43m=\u001b[39;49m\u001b[43my_pred\u001b[49m\u001b[43m,\u001b[49m\n\u001b[0;32m     41\u001b[0m \u001b[43m    \u001b[49m\u001b[43my_true\u001b[49m\u001b[38;5;241;43m=\u001b[39;49m\u001b[43my_true\u001b[49m\u001b[43m,\u001b[49m\n\u001b[0;32m     42\u001b[0m \u001b[43m        \u001b[49m\u001b[43mstore_in_sample_residuals\u001b[49m\u001b[38;5;241;43m=\u001b[39;49m\u001b[38;5;28;43;01mTrue\u001b[39;49;00m\n\u001b[0;32m     43\u001b[0m \u001b[43m)\u001b[49m\n",
      "File \u001b[1;32mc:\\Users\\jaesc2\\GitHub\\skforecast\\skforecast\\recursive\\_forecaster_recursive_multiseries.py:1881\u001b[0m, in \u001b[0;36mForecasterRecursiveMultiSeries._binning_in_sample_residuals\u001b[1;34m(self, level, y_true, y_pred, store_in_sample_residuals, random_state)\u001b[0m\n\u001b[0;32m   1877\u001b[0m \u001b[38;5;28;01mif\u001b[39;00m \u001b[38;5;28mlen\u001b[39m(residuals) \u001b[38;5;241m>\u001b[39m \u001b[38;5;241m10_000\u001b[39m:\n\u001b[0;32m   1878\u001b[0m     residuals \u001b[38;5;241m=\u001b[39m residuals[\n\u001b[0;32m   1879\u001b[0m         rng\u001b[38;5;241m.\u001b[39mintegers(low\u001b[38;5;241m=\u001b[39m\u001b[38;5;241m0\u001b[39m, high\u001b[38;5;241m=\u001b[39m\u001b[38;5;28mlen\u001b[39m(residuals), size\u001b[38;5;241m=\u001b[39m\u001b[38;5;241m10_000\u001b[39m)\n\u001b[0;32m   1880\u001b[0m     ]\n\u001b[1;32m-> 1881\u001b[0m \u001b[38;5;28;43mself\u001b[39;49m\u001b[38;5;241;43m.\u001b[39;49m\u001b[43min_sample_residuals_\u001b[49m\u001b[43m[\u001b[49m\u001b[43mlevel\u001b[49m\u001b[43m]\u001b[49m \u001b[38;5;241m=\u001b[39m residuals\n",
      "\u001b[1;31mTypeError\u001b[0m: 'NoneType' object does not support item assignment"
     ]
    }
   ],
   "source": [
    "forecaster = ForecasterRecursiveMultiSeries(\n",
    "        regressor=LinearRegression(), lags=5, binner_kwargs={\"n_bins\": 3}\n",
    "    )\n",
    "\n",
    "series = pd.DataFrame(\n",
    "    {\n",
    "        \"l1\": pd.Series(np.arange(10)),\n",
    "        \"l2\": pd.Series(np.arange(10)),\n",
    "        \"l3\": pd.Series(np.arange(10)),\n",
    "    }\n",
    ")\n",
    "series.index = pd.DatetimeIndex(\n",
    "    [\n",
    "        \"2022-01-04\",\n",
    "        \"2022-01-05\",\n",
    "        \"2022-01-06\",\n",
    "        \"2022-01-07\",\n",
    "        \"2022-01-08\",\n",
    "        \"2022-01-09\",\n",
    "        \"2022-01-10\",\n",
    "        \"2022-01-11\",\n",
    "        \"2022-01-12\",\n",
    "        \"2022-01-13\",\n",
    "    ],\n",
    "    dtype=\"datetime64[ns]\",\n",
    "    freq=\"D\",\n",
    ")\n",
    "forecaster.fit(series=series)\n",
    "forecaster.in_sample_residuals_ = None\n",
    "forecaster.in_sample_residuals_by_bin_ = None\n",
    "forecaster.binner_intervals_ = {}\n",
    "\n",
    "rng = np.random.default_rng(12345)\n",
    "y_pred = rng.normal(100, 15, 20)\n",
    "y_true = rng.normal(100, 10, 20)\n",
    "\n",
    "forecaster._probabilistic_mode = \"no_binned\"\n",
    "forecaster._binning_in_sample_residuals(\n",
    "    level=\"level_1\",\n",
    "    y_pred=y_pred,\n",
    "    y_true=y_true,\n",
    "        store_in_sample_residuals=True\n",
    ")"
   ]
  },
  {
   "cell_type": "code",
   "execution_count": 36,
   "metadata": {},
   "outputs": [],
   "source": [
    "forecaster.in_sample_residuals_"
   ]
  },
  {
   "cell_type": "code",
   "execution_count": 3,
   "metadata": {},
   "outputs": [],
   "source": [
    "import re\n",
    "import pytest\n",
    "import numpy as np\n",
    "import pandas as pd\n",
    "from sklearn.exceptions import NotFittedError\n",
    "from sklearn.linear_model import LinearRegression\n",
    "from skforecast.recursive import ForecasterRecursiveMultiSeries\n",
    "\n",
    "# Fixtures\n",
    "from skforecast.recursive.tests.tests_forecaster_recursive_multiseries.fixtures_forecaster_recursive_multiseries import series, exog"
   ]
  },
  {
   "cell_type": "code",
   "execution_count": 8,
   "metadata": {},
   "outputs": [
    {
     "data": {
      "text/html": [
       "<pre style=\"white-space:pre;overflow-x:auto;line-height:normal;font-family:Menlo,'DejaVu Sans Mono',consolas,'Courier New',monospace\"><span style=\"color: #ffaf00; text-decoration-color: #ffaf00\">╭───────────────────────────── DataTransformationWarning ──────────────────────────────╮</span>\n",
       "<span style=\"color: #ffaf00; text-decoration-color: #ffaf00\">│</span> When using a linear model, it is recommended to use a transformer_series to ensure   <span style=\"color: #ffaf00; text-decoration-color: #ffaf00\">│</span>\n",
       "<span style=\"color: #ffaf00; text-decoration-color: #ffaf00\">│</span> all series are in the same scale. You can use, for example, a `StandardScaler` from  <span style=\"color: #ffaf00; text-decoration-color: #ffaf00\">│</span>\n",
       "<span style=\"color: #ffaf00; text-decoration-color: #ffaf00\">│</span> sklearn.preprocessing.                                                               <span style=\"color: #ffaf00; text-decoration-color: #ffaf00\">│</span>\n",
       "<span style=\"color: #ffaf00; text-decoration-color: #ffaf00\">│</span>                                                                                      <span style=\"color: #ffaf00; text-decoration-color: #ffaf00\">│</span>\n",
       "<span style=\"color: #ffaf00; text-decoration-color: #ffaf00\">│</span> Category : DataTransformationWarning                                                 <span style=\"color: #ffaf00; text-decoration-color: #ffaf00\">│</span>\n",
       "<span style=\"color: #ffaf00; text-decoration-color: #ffaf00\">│</span> Location :                                                                           <span style=\"color: #ffaf00; text-decoration-color: #ffaf00\">│</span>\n",
       "<span style=\"color: #ffaf00; text-decoration-color: #ffaf00\">│</span> c:\\Users\\jaesc2\\GitHub\\skforecast\\skforecast\\recursive\\_forecaster_recursive_multise <span style=\"color: #ffaf00; text-decoration-color: #ffaf00\">│</span>\n",
       "<span style=\"color: #ffaf00; text-decoration-color: #ffaf00\">│</span> ries.py:471                                                                          <span style=\"color: #ffaf00; text-decoration-color: #ffaf00\">│</span>\n",
       "<span style=\"color: #ffaf00; text-decoration-color: #ffaf00\">│</span> Suppress : warnings.simplefilter('ignore', category=DataTransformationWarning)       <span style=\"color: #ffaf00; text-decoration-color: #ffaf00\">│</span>\n",
       "<span style=\"color: #ffaf00; text-decoration-color: #ffaf00\">╰──────────────────────────────────────────────────────────────────────────────────────╯</span>\n",
       "</pre>\n"
      ],
      "text/plain": [
       "\u001b[38;5;214m╭─\u001b[0m\u001b[38;5;214m────────────────────────────\u001b[0m\u001b[38;5;214m DataTransformationWarning \u001b[0m\u001b[38;5;214m─────────────────────────────\u001b[0m\u001b[38;5;214m─╮\u001b[0m\n",
       "\u001b[38;5;214m│\u001b[0m When using a linear model, it is recommended to use a transformer_series to ensure   \u001b[38;5;214m│\u001b[0m\n",
       "\u001b[38;5;214m│\u001b[0m all series are in the same scale. You can use, for example, a `StandardScaler` from  \u001b[38;5;214m│\u001b[0m\n",
       "\u001b[38;5;214m│\u001b[0m sklearn.preprocessing.                                                               \u001b[38;5;214m│\u001b[0m\n",
       "\u001b[38;5;214m│\u001b[0m                                                                                      \u001b[38;5;214m│\u001b[0m\n",
       "\u001b[38;5;214m│\u001b[0m Category : DataTransformationWarning                                                 \u001b[38;5;214m│\u001b[0m\n",
       "\u001b[38;5;214m│\u001b[0m Location :                                                                           \u001b[38;5;214m│\u001b[0m\n",
       "\u001b[38;5;214m│\u001b[0m c:\\Users\\jaesc2\\GitHub\\skforecast\\skforecast\\recursive\\_forecaster_recursive_multise \u001b[38;5;214m│\u001b[0m\n",
       "\u001b[38;5;214m│\u001b[0m ries.py:471                                                                          \u001b[38;5;214m│\u001b[0m\n",
       "\u001b[38;5;214m│\u001b[0m Suppress : warnings.simplefilter('ignore', category=DataTransformationWarning)       \u001b[38;5;214m│\u001b[0m\n",
       "\u001b[38;5;214m╰──────────────────────────────────────────────────────────────────────────────────────╯\u001b[0m\n"
      ]
     },
     "metadata": {},
     "output_type": "display_data"
    },
    {
     "ename": "IndexError",
     "evalue": "The index range for series '1' does not match the range used during training. Please ensure the index is aligned with the training data.\n    Expected : Index([0, 49], dtype='int64')\n    Received : Index([50, 99], dtype='int64')",
     "output_type": "error",
     "traceback": [
      "\u001b[1;31m---------------------------------------------------------------------------\u001b[0m",
      "\u001b[1;31mIndexError\u001b[0m                                Traceback (most recent call last)",
      "Cell \u001b[1;32mIn[8], line 8\u001b[0m\n\u001b[0;32m      6\u001b[0m exog\u001b[38;5;241m.\u001b[39mindex \u001b[38;5;241m=\u001b[39m pd\u001b[38;5;241m.\u001b[39mRangeIndex(start\u001b[38;5;241m=\u001b[39m\u001b[38;5;241m50\u001b[39m, stop\u001b[38;5;241m=\u001b[39m\u001b[38;5;241m100\u001b[39m)\n\u001b[0;32m      7\u001b[0m series_diff_index_range \u001b[38;5;241m=\u001b[39m series_diff_index[\u001b[38;5;124m'\u001b[39m\u001b[38;5;124m1\u001b[39m\u001b[38;5;124m'\u001b[39m]\u001b[38;5;241m.\u001b[39mindex[[\u001b[38;5;241m0\u001b[39m, \u001b[38;5;241m-\u001b[39m\u001b[38;5;241m1\u001b[39m]]\n\u001b[1;32m----> 8\u001b[0m \u001b[43mforecaster\u001b[49m\u001b[38;5;241;43m.\u001b[39;49m\u001b[43mset_in_sample_residuals\u001b[49m\u001b[43m(\u001b[49m\u001b[43mseries\u001b[49m\u001b[38;5;241;43m=\u001b[39;49m\u001b[43mseries_diff_index\u001b[49m\u001b[43m,\u001b[49m\u001b[43m \u001b[49m\u001b[43mexog\u001b[49m\u001b[38;5;241;43m=\u001b[39;49m\u001b[43mexog\u001b[49m\u001b[43m[\u001b[49m\u001b[38;5;124;43m'\u001b[39;49m\u001b[38;5;124;43mexog_1\u001b[39;49m\u001b[38;5;124;43m'\u001b[39;49m\u001b[43m]\u001b[49m\u001b[43m)\u001b[49m\n",
      "File \u001b[1;32mc:\\Users\\jaesc2\\GitHub\\skforecast\\skforecast\\recursive\\_forecaster_recursive_multiseries.py:3389\u001b[0m, in \u001b[0;36mForecasterRecursiveMultiSeries.set_in_sample_residuals\u001b[1;34m(self, series, exog, random_state)\u001b[0m\n\u001b[0;32m   3387\u001b[0m \u001b[38;5;28;01mfor\u001b[39;00m level \u001b[38;5;129;01min\u001b[39;00m \u001b[38;5;28mself\u001b[39m\u001b[38;5;241m.\u001b[39mtraining_range_\u001b[38;5;241m.\u001b[39mkeys():\n\u001b[0;32m   3388\u001b[0m     \u001b[38;5;28;01mif\u001b[39;00m \u001b[38;5;129;01mnot\u001b[39;00m series_index_range[level]\u001b[38;5;241m.\u001b[39mequals(\u001b[38;5;28mself\u001b[39m\u001b[38;5;241m.\u001b[39mtraining_range_[level]):\n\u001b[1;32m-> 3389\u001b[0m         \u001b[38;5;28;01mraise\u001b[39;00m \u001b[38;5;167;01mIndexError\u001b[39;00m(\n\u001b[0;32m   3390\u001b[0m             \u001b[38;5;124mf\u001b[39m\u001b[38;5;124m\"\u001b[39m\u001b[38;5;124mThe index range for series \u001b[39m\u001b[38;5;124m'\u001b[39m\u001b[38;5;132;01m{\u001b[39;00mlevel\u001b[38;5;132;01m}\u001b[39;00m\u001b[38;5;124m'\u001b[39m\u001b[38;5;124m does not match the range \u001b[39m\u001b[38;5;124m\"\u001b[39m\n\u001b[0;32m   3391\u001b[0m             \u001b[38;5;124mf\u001b[39m\u001b[38;5;124m\"\u001b[39m\u001b[38;5;124mused during training. Please ensure the index is aligned \u001b[39m\u001b[38;5;124m\"\u001b[39m\n\u001b[0;32m   3392\u001b[0m             \u001b[38;5;124mf\u001b[39m\u001b[38;5;124m\"\u001b[39m\u001b[38;5;124mwith the training data.\u001b[39m\u001b[38;5;130;01m\\n\u001b[39;00m\u001b[38;5;124m\"\u001b[39m\n\u001b[0;32m   3393\u001b[0m             \u001b[38;5;124mf\u001b[39m\u001b[38;5;124m\"\u001b[39m\u001b[38;5;124m    Expected : \u001b[39m\u001b[38;5;132;01m{\u001b[39;00m\u001b[38;5;28mself\u001b[39m\u001b[38;5;241m.\u001b[39mtraining_range_[level]\u001b[38;5;132;01m}\u001b[39;00m\u001b[38;5;130;01m\\n\u001b[39;00m\u001b[38;5;124m\"\u001b[39m\n\u001b[0;32m   3394\u001b[0m             \u001b[38;5;124mf\u001b[39m\u001b[38;5;124m\"\u001b[39m\u001b[38;5;124m    Received : \u001b[39m\u001b[38;5;132;01m{\u001b[39;00mseries_index_range[level]\u001b[38;5;132;01m}\u001b[39;00m\u001b[38;5;124m\"\u001b[39m\n\u001b[0;32m   3395\u001b[0m         )\n\u001b[0;32m   3397\u001b[0m X_train_regressor \u001b[38;5;241m=\u001b[39m (\n\u001b[0;32m   3398\u001b[0m     X_train\n\u001b[0;32m   3399\u001b[0m     \u001b[38;5;28;01mif\u001b[39;00m \u001b[38;5;28mself\u001b[39m\u001b[38;5;241m.\u001b[39mencoding \u001b[38;5;129;01mis\u001b[39;00m \u001b[38;5;129;01mnot\u001b[39;00m \u001b[38;5;28;01mNone\u001b[39;00m\n\u001b[0;32m   3400\u001b[0m     \u001b[38;5;28;01melse\u001b[39;00m X_train\u001b[38;5;241m.\u001b[39mdrop(columns\u001b[38;5;241m=\u001b[39m\u001b[38;5;124m\"\u001b[39m\u001b[38;5;124m_level_skforecast\u001b[39m\u001b[38;5;124m\"\u001b[39m)\n\u001b[0;32m   3401\u001b[0m )\n\u001b[0;32m   3402\u001b[0m X_train_features_names_out_ \u001b[38;5;241m=\u001b[39m X_train_regressor\u001b[38;5;241m.\u001b[39mcolumns\u001b[38;5;241m.\u001b[39mto_list()\n",
      "\u001b[1;31mIndexError\u001b[0m: The index range for series '1' does not match the range used during training. Please ensure the index is aligned with the training data.\n    Expected : Index([0, 49], dtype='int64')\n    Received : Index([50, 99], dtype='int64')"
     ]
    }
   ],
   "source": [
    "forecaster = ForecasterRecursiveMultiSeries(LinearRegression(), lags=3)\n",
    "forecaster.fit(series=series, exog=exog['exog_1'])\n",
    "\n",
    "series_diff_index = series.copy()\n",
    "series_diff_index.index = pd.RangeIndex(start=50, stop=100)\n",
    "exog.index = pd.RangeIndex(start=50, stop=100)\n",
    "series_diff_index_range = series_diff_index['1'].index[[0, -1]]\n",
    "forecaster.set_in_sample_residuals(series=series_diff_index, exog=exog['exog_1'])"
   ]
  },
  {
   "cell_type": "code",
   "execution_count": 6,
   "metadata": {},
   "outputs": [
    {
     "data": {
      "text/html": [
       "<div>\n",
       "<style scoped>\n",
       "    .dataframe tbody tr th:only-of-type {\n",
       "        vertical-align: middle;\n",
       "    }\n",
       "\n",
       "    .dataframe tbody tr th {\n",
       "        vertical-align: top;\n",
       "    }\n",
       "\n",
       "    .dataframe thead th {\n",
       "        text-align: right;\n",
       "    }\n",
       "</style>\n",
       "<table border=\"1\" class=\"dataframe\">\n",
       "  <thead>\n",
       "    <tr style=\"text-align: right;\">\n",
       "      <th></th>\n",
       "      <th>1</th>\n",
       "      <th>2</th>\n",
       "    </tr>\n",
       "  </thead>\n",
       "  <tbody>\n",
       "    <tr>\n",
       "      <th>0</th>\n",
       "      <td>0.696469</td>\n",
       "      <td>0.120629</td>\n",
       "    </tr>\n",
       "    <tr>\n",
       "      <th>1</th>\n",
       "      <td>0.286139</td>\n",
       "      <td>0.826341</td>\n",
       "    </tr>\n",
       "    <tr>\n",
       "      <th>2</th>\n",
       "      <td>0.226851</td>\n",
       "      <td>0.603060</td>\n",
       "    </tr>\n",
       "    <tr>\n",
       "      <th>3</th>\n",
       "      <td>0.551315</td>\n",
       "      <td>0.545068</td>\n",
       "    </tr>\n",
       "    <tr>\n",
       "      <th>4</th>\n",
       "      <td>0.719469</td>\n",
       "      <td>0.342764</td>\n",
       "    </tr>\n",
       "    <tr>\n",
       "      <th>5</th>\n",
       "      <td>0.423106</td>\n",
       "      <td>0.304121</td>\n",
       "    </tr>\n",
       "    <tr>\n",
       "      <th>6</th>\n",
       "      <td>0.980764</td>\n",
       "      <td>0.417022</td>\n",
       "    </tr>\n",
       "    <tr>\n",
       "      <th>7</th>\n",
       "      <td>0.684830</td>\n",
       "      <td>0.681301</td>\n",
       "    </tr>\n",
       "    <tr>\n",
       "      <th>8</th>\n",
       "      <td>0.480932</td>\n",
       "      <td>0.875457</td>\n",
       "    </tr>\n",
       "    <tr>\n",
       "      <th>9</th>\n",
       "      <td>0.392118</td>\n",
       "      <td>0.510422</td>\n",
       "    </tr>\n",
       "    <tr>\n",
       "      <th>10</th>\n",
       "      <td>0.343178</td>\n",
       "      <td>0.669314</td>\n",
       "    </tr>\n",
       "    <tr>\n",
       "      <th>11</th>\n",
       "      <td>0.729050</td>\n",
       "      <td>0.585937</td>\n",
       "    </tr>\n",
       "    <tr>\n",
       "      <th>12</th>\n",
       "      <td>0.438572</td>\n",
       "      <td>0.624903</td>\n",
       "    </tr>\n",
       "    <tr>\n",
       "      <th>13</th>\n",
       "      <td>0.059678</td>\n",
       "      <td>0.674689</td>\n",
       "    </tr>\n",
       "    <tr>\n",
       "      <th>14</th>\n",
       "      <td>0.398044</td>\n",
       "      <td>0.842342</td>\n",
       "    </tr>\n",
       "    <tr>\n",
       "      <th>15</th>\n",
       "      <td>0.737995</td>\n",
       "      <td>0.083195</td>\n",
       "    </tr>\n",
       "    <tr>\n",
       "      <th>16</th>\n",
       "      <td>0.182492</td>\n",
       "      <td>0.763683</td>\n",
       "    </tr>\n",
       "    <tr>\n",
       "      <th>17</th>\n",
       "      <td>0.175452</td>\n",
       "      <td>0.243666</td>\n",
       "    </tr>\n",
       "    <tr>\n",
       "      <th>18</th>\n",
       "      <td>0.531551</td>\n",
       "      <td>0.194223</td>\n",
       "    </tr>\n",
       "    <tr>\n",
       "      <th>19</th>\n",
       "      <td>0.531828</td>\n",
       "      <td>0.572457</td>\n",
       "    </tr>\n",
       "    <tr>\n",
       "      <th>20</th>\n",
       "      <td>0.634401</td>\n",
       "      <td>0.095713</td>\n",
       "    </tr>\n",
       "    <tr>\n",
       "      <th>21</th>\n",
       "      <td>0.849432</td>\n",
       "      <td>0.885327</td>\n",
       "    </tr>\n",
       "    <tr>\n",
       "      <th>22</th>\n",
       "      <td>0.724455</td>\n",
       "      <td>0.627249</td>\n",
       "    </tr>\n",
       "    <tr>\n",
       "      <th>23</th>\n",
       "      <td>0.611024</td>\n",
       "      <td>0.723416</td>\n",
       "    </tr>\n",
       "    <tr>\n",
       "      <th>24</th>\n",
       "      <td>0.722443</td>\n",
       "      <td>0.016129</td>\n",
       "    </tr>\n",
       "    <tr>\n",
       "      <th>25</th>\n",
       "      <td>0.322959</td>\n",
       "      <td>0.594432</td>\n",
       "    </tr>\n",
       "    <tr>\n",
       "      <th>26</th>\n",
       "      <td>0.361789</td>\n",
       "      <td>0.556785</td>\n",
       "    </tr>\n",
       "    <tr>\n",
       "      <th>27</th>\n",
       "      <td>0.228263</td>\n",
       "      <td>0.158960</td>\n",
       "    </tr>\n",
       "    <tr>\n",
       "      <th>28</th>\n",
       "      <td>0.293714</td>\n",
       "      <td>0.153071</td>\n",
       "    </tr>\n",
       "    <tr>\n",
       "      <th>29</th>\n",
       "      <td>0.630976</td>\n",
       "      <td>0.695530</td>\n",
       "    </tr>\n",
       "    <tr>\n",
       "      <th>30</th>\n",
       "      <td>0.092105</td>\n",
       "      <td>0.318766</td>\n",
       "    </tr>\n",
       "    <tr>\n",
       "      <th>31</th>\n",
       "      <td>0.433701</td>\n",
       "      <td>0.691970</td>\n",
       "    </tr>\n",
       "    <tr>\n",
       "      <th>32</th>\n",
       "      <td>0.430863</td>\n",
       "      <td>0.554383</td>\n",
       "    </tr>\n",
       "    <tr>\n",
       "      <th>33</th>\n",
       "      <td>0.493685</td>\n",
       "      <td>0.388951</td>\n",
       "    </tr>\n",
       "    <tr>\n",
       "      <th>34</th>\n",
       "      <td>0.425830</td>\n",
       "      <td>0.925132</td>\n",
       "    </tr>\n",
       "    <tr>\n",
       "      <th>35</th>\n",
       "      <td>0.312261</td>\n",
       "      <td>0.841670</td>\n",
       "    </tr>\n",
       "    <tr>\n",
       "      <th>36</th>\n",
       "      <td>0.426351</td>\n",
       "      <td>0.357398</td>\n",
       "    </tr>\n",
       "    <tr>\n",
       "      <th>37</th>\n",
       "      <td>0.893389</td>\n",
       "      <td>0.043591</td>\n",
       "    </tr>\n",
       "    <tr>\n",
       "      <th>38</th>\n",
       "      <td>0.944160</td>\n",
       "      <td>0.304768</td>\n",
       "    </tr>\n",
       "    <tr>\n",
       "      <th>39</th>\n",
       "      <td>0.501837</td>\n",
       "      <td>0.398186</td>\n",
       "    </tr>\n",
       "    <tr>\n",
       "      <th>40</th>\n",
       "      <td>0.623953</td>\n",
       "      <td>0.704959</td>\n",
       "    </tr>\n",
       "    <tr>\n",
       "      <th>41</th>\n",
       "      <td>0.115618</td>\n",
       "      <td>0.995358</td>\n",
       "    </tr>\n",
       "    <tr>\n",
       "      <th>42</th>\n",
       "      <td>0.317285</td>\n",
       "      <td>0.355915</td>\n",
       "    </tr>\n",
       "    <tr>\n",
       "      <th>43</th>\n",
       "      <td>0.414826</td>\n",
       "      <td>0.762548</td>\n",
       "    </tr>\n",
       "    <tr>\n",
       "      <th>44</th>\n",
       "      <td>0.866309</td>\n",
       "      <td>0.593177</td>\n",
       "    </tr>\n",
       "    <tr>\n",
       "      <th>45</th>\n",
       "      <td>0.250455</td>\n",
       "      <td>0.691702</td>\n",
       "    </tr>\n",
       "    <tr>\n",
       "      <th>46</th>\n",
       "      <td>0.483034</td>\n",
       "      <td>0.151127</td>\n",
       "    </tr>\n",
       "    <tr>\n",
       "      <th>47</th>\n",
       "      <td>0.985560</td>\n",
       "      <td>0.398876</td>\n",
       "    </tr>\n",
       "    <tr>\n",
       "      <th>48</th>\n",
       "      <td>0.519485</td>\n",
       "      <td>0.240856</td>\n",
       "    </tr>\n",
       "    <tr>\n",
       "      <th>49</th>\n",
       "      <td>0.612895</td>\n",
       "      <td>0.343456</td>\n",
       "    </tr>\n",
       "  </tbody>\n",
       "</table>\n",
       "</div>"
      ],
      "text/plain": [
       "           1         2\n",
       "0   0.696469  0.120629\n",
       "1   0.286139  0.826341\n",
       "2   0.226851  0.603060\n",
       "3   0.551315  0.545068\n",
       "4   0.719469  0.342764\n",
       "5   0.423106  0.304121\n",
       "6   0.980764  0.417022\n",
       "7   0.684830  0.681301\n",
       "8   0.480932  0.875457\n",
       "9   0.392118  0.510422\n",
       "10  0.343178  0.669314\n",
       "11  0.729050  0.585937\n",
       "12  0.438572  0.624903\n",
       "13  0.059678  0.674689\n",
       "14  0.398044  0.842342\n",
       "15  0.737995  0.083195\n",
       "16  0.182492  0.763683\n",
       "17  0.175452  0.243666\n",
       "18  0.531551  0.194223\n",
       "19  0.531828  0.572457\n",
       "20  0.634401  0.095713\n",
       "21  0.849432  0.885327\n",
       "22  0.724455  0.627249\n",
       "23  0.611024  0.723416\n",
       "24  0.722443  0.016129\n",
       "25  0.322959  0.594432\n",
       "26  0.361789  0.556785\n",
       "27  0.228263  0.158960\n",
       "28  0.293714  0.153071\n",
       "29  0.630976  0.695530\n",
       "30  0.092105  0.318766\n",
       "31  0.433701  0.691970\n",
       "32  0.430863  0.554383\n",
       "33  0.493685  0.388951\n",
       "34  0.425830  0.925132\n",
       "35  0.312261  0.841670\n",
       "36  0.426351  0.357398\n",
       "37  0.893389  0.043591\n",
       "38  0.944160  0.304768\n",
       "39  0.501837  0.398186\n",
       "40  0.623953  0.704959\n",
       "41  0.115618  0.995358\n",
       "42  0.317285  0.355915\n",
       "43  0.414826  0.762548\n",
       "44  0.866309  0.593177\n",
       "45  0.250455  0.691702\n",
       "46  0.483034  0.151127\n",
       "47  0.985560  0.398876\n",
       "48  0.519485  0.240856\n",
       "49  0.612895  0.343456"
      ]
     },
     "execution_count": 6,
     "metadata": {},
     "output_type": "execute_result"
    }
   ],
   "source": [
    "series_diff_index"
   ]
  },
  {
   "cell_type": "code",
   "execution_count": 31,
   "metadata": {},
   "outputs": [
    {
     "name": "stdout",
     "output_type": "stream",
     "text": [
      "El objeto sigue siendo el mismo.\n"
     ]
    }
   ],
   "source": [
    "from sklearn.preprocessing import StandardScaler\n",
    "\n",
    "# Crear un objeto StandardScaler\n",
    "scaler = StandardScaler()\n",
    "\n",
    "# Obtener la referencia de memoria antes de aplicar un método\n",
    "id_before = id(scaler)\n",
    "\n",
    "# Aplicar un método, por ejemplo fit()\n",
    "scaler.fit([[1, 2], [3, 4]])\n",
    "\n",
    "# Obtener la referencia de memoria después de aplicar el método\n",
    "id_after = id(scaler)\n",
    "\n",
    "# Comparar las referencias\n",
    "if id_before == id_after:\n",
    "    print(\"El objeto sigue siendo el mismo.\")\n",
    "else:\n",
    "    print(\"El objeto ha cambiado.\")\n"
   ]
  },
  {
   "cell_type": "code",
   "execution_count": 32,
   "metadata": {},
   "outputs": [
    {
     "data": {
      "text/plain": [
       "{'with_mean': True,\n",
       " 'with_std': True,\n",
       " 'copy': True,\n",
       " 'n_features_in_': 2,\n",
       " 'n_samples_seen_': 2,\n",
       " 'mean_': array([2., 3.]),\n",
       " 'var_': array([1., 1.]),\n",
       " 'scale_': array([1., 1.])}"
      ]
     },
     "execution_count": 32,
     "metadata": {},
     "output_type": "execute_result"
    }
   ],
   "source": [
    "scaler.__dict__"
   ]
  },
  {
   "cell_type": "code",
   "execution_count": null,
   "metadata": {},
   "outputs": [],
   "source": []
  }
 ],
 "metadata": {
  "kernelspec": {
   "display_name": "skforecast_py11_2",
   "language": "python",
   "name": "python3"
  },
  "language_info": {
   "codemirror_mode": {
    "name": "ipython",
    "version": 3
   },
   "file_extension": ".py",
   "mimetype": "text/x-python",
   "name": "python",
   "nbconvert_exporter": "python",
   "pygments_lexer": "ipython3",
   "version": "3.11.10"
  },
  "orig_nbformat": 4
 },
 "nbformat": 4,
 "nbformat_minor": 2
}
