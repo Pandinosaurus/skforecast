{
 "cells": [
  {
   "cell_type": "code",
   "execution_count": 1,
   "metadata": {},
   "outputs": [
    {
     "name": "stdout",
     "output_type": "stream",
     "text": [
      "c:\\Users\\jaesc2\\GitHub\\skforecast\n"
     ]
    }
   ],
   "source": [
    "%load_ext autoreload\n",
    "%autoreload 2\n",
    "import sys\n",
    "from pathlib import Path\n",
    "path = str(Path.cwd().parent)\n",
    "print(path)\n",
    "sys.path.insert(1, path)\n",
    "\n",
    "import numpy as np\n",
    "import pandas as pd"
   ]
  },
  {
   "cell_type": "code",
   "execution_count": 2,
   "metadata": {},
   "outputs": [],
   "source": [
    "# Libraries\n",
    "# ==============================================================================\n",
    "import pandas as pd\n",
    "import matplotlib.pyplot as plt\n",
    "from lightgbm import LGBMRegressor\n",
    "from sklearn.metrics import mean_squared_error\n",
    "\n",
    "from skforecast.datasets import fetch_dataset\n",
    "from skforecast.preprocessing import RollingFeatures\n",
    "from skforecast.recursive import ForecasterRecursive"
   ]
  },
  {
   "cell_type": "code",
   "execution_count": 3,
   "metadata": {},
   "outputs": [
    {
     "name": "stdout",
     "output_type": "stream",
     "text": [
      "h2o\n",
      "---\n",
      "Monthly expenditure ($AUD) on corticosteroid drugs that the Australian health\n",
      "system had between 1991 and 2008.\n",
      "Hyndman R (2023). fpp3: Data for Forecasting: Principles and Practice(3rd\n",
      "Edition). http://pkg.robjhyndman.com/fpp3package/,https://github.com/robjhyndman\n",
      "/fpp3package, http://OTexts.com/fpp3.\n",
      "Shape of the dataset: (204, 2)\n"
     ]
    }
   ],
   "source": [
    "# Download data\n",
    "# ==============================================================================\n",
    "data = fetch_dataset(\n",
    "    name=\"h2o\", raw=True, kwargs_read_csv={\"names\": [\"y\", \"datetime\"], \"header\": 0}\n",
    ")\n",
    "\n",
    "# Data preprocessing\n",
    "# ==============================================================================\n",
    "data['datetime'] = pd.to_datetime(data['datetime'], format='%Y-%m-%d')\n",
    "data = data.set_index('datetime')\n",
    "data = data.asfreq('MS')\n",
    "data = data['y']\n",
    "data = data.sort_index()\n",
    "\n",
    "# Split train-test\n",
    "# ==============================================================================\n",
    "steps = 36\n",
    "data_train = data[:-steps]\n",
    "data_test  = data[-steps:]\n"
   ]
  },
  {
   "cell_type": "code",
   "execution_count": 5,
   "metadata": {},
   "outputs": [
    {
     "data": {
      "text/plain": [
       "DatetimeIndex(['1991-07-01', '2005-06-01'], dtype='datetime64[ns]', name='datetime', freq=None)"
      ]
     },
     "execution_count": 5,
     "metadata": {},
     "output_type": "execute_result"
    }
   ],
   "source": [
    "# Create and fit forecaster\n",
    "# ==============================================================================\n",
    "forecaster = ForecasterRecursive(\n",
    "                 regressor       = LGBMRegressor(random_state=123, verbose=-1),\n",
    "                 lags            = 15,\n",
    "                 window_features = RollingFeatures(stats=['mean'], window_sizes=10)\n",
    "             )\n",
    "\n",
    "forecaster.fit(y=data_train)\n",
    "forecaster.training_range_"
   ]
  },
  {
   "cell_type": "code",
   "execution_count": 24,
   "metadata": {},
   "outputs": [
    {
     "data": {
      "text/plain": [
       "['lag_1',\n",
       " 'lag_2',\n",
       " 'lag_3',\n",
       " 'lag_4',\n",
       " 'lag_5',\n",
       " 'lag_6',\n",
       " 'lag_7',\n",
       " 'lag_8',\n",
       " 'lag_9',\n",
       " 'lag_10',\n",
       " 'lag_11',\n",
       " 'lag_12',\n",
       " 'lag_13',\n",
       " 'lag_14',\n",
       " 'lag_15',\n",
       " 'roll_mean_10']"
      ]
     },
     "execution_count": 24,
     "metadata": {},
     "output_type": "execute_result"
    }
   ],
   "source": [
    "(\n",
    "X_train,\n",
    "y_train,\n",
    "_,\n",
    "_,\n",
    "_,\n",
    "X_train_features_names_out_,\n",
    "*_\n",
    ") = forecaster._create_train_X_y(y=data_train)\n",
    "\n",
    "X_train_features_names_out_"
   ]
  },
  {
   "cell_type": "code",
   "execution_count": 27,
   "metadata": {},
   "outputs": [
    {
     "data": {
      "text/plain": [
       "['lag_1',\n",
       " 'lag_2',\n",
       " 'lag_3',\n",
       " 'lag_4',\n",
       " 'lag_5',\n",
       " 'lag_6',\n",
       " 'lag_7',\n",
       " 'lag_8',\n",
       " 'lag_9',\n",
       " 'lag_10',\n",
       " 'lag_11',\n",
       " 'lag_12',\n",
       " 'lag_13',\n",
       " 'lag_14',\n",
       " 'lag_15',\n",
       " 'roll_mean_10']"
      ]
     },
     "execution_count": 27,
     "metadata": {},
     "output_type": "execute_result"
    }
   ],
   "source": [
    "(\n",
    "X_train,\n",
    "y_train,\n",
    "*_,\n",
    "a,\n",
    "_\n",
    ") = forecaster._create_train_X_y(y=data_train)\n",
    "\n",
    "X_train_features_names_out_"
   ]
  },
  {
   "cell_type": "code",
   "execution_count": 9,
   "metadata": {},
   "outputs": [],
   "source": [
    "from skforecast.utils import preprocess_y\n",
    "\n",
    "expected_training_range = forecaster.training_range_\n",
    "training_range = preprocess_y(y=data_train, return_values=False)[1][[0, -1]]\n",
    "\n",
    "if not expected_training_range.equals(training_range):\n",
    "    raise AssertionError"
   ]
  },
  {
   "cell_type": "code",
   "execution_count": 16,
   "metadata": {},
   "outputs": [
    {
     "data": {
      "text/plain": [
       "Timestamp('1991-07-01 00:00:00')"
      ]
     },
     "execution_count": 16,
     "metadata": {},
     "output_type": "execute_result"
    }
   ],
   "source": [
    "expected_training_range[0]"
   ]
  },
  {
   "cell_type": "code",
   "execution_count": 12,
   "metadata": {},
   "outputs": [
    {
     "data": {
      "text/plain": [
       "DatetimeIndex(['1991-07-01', '2005-06-01'], dtype='datetime64[ns]', name='datetime', freq=None)"
      ]
     },
     "execution_count": 12,
     "metadata": {},
     "output_type": "execute_result"
    }
   ],
   "source": [
    "preprocess_y(y=data_train, return_values=False)[1][[0, -1]]"
   ]
  },
  {
   "cell_type": "code",
   "execution_count": 21,
   "metadata": {},
   "outputs": [
    {
     "data": {
      "text/plain": [
       "array([[[1.00e+00, 1.00e-01, 1.10e+00],\n",
       "        [2.00e+00, 2.00e-01, 2.20e+00],\n",
       "        [3.00e+00, 3.00e-01, 3.30e+00]],\n",
       "\n",
       "       [[1.00e+01, 1.00e+00, 1.10e+01],\n",
       "        [2.00e+01, 2.00e+00, 2.20e+01],\n",
       "        [3.00e+01, 3.00e+00, 3.30e+01]],\n",
       "\n",
       "       [[1.00e+02, 1.00e+01, 1.01e+02],\n",
       "        [2.00e+02, 2.00e+01, 2.02e+02],\n",
       "        [3.00e+02, 3.00e+01, 3.03e+02]]])"
      ]
     },
     "execution_count": 21,
     "metadata": {},
     "output_type": "execute_result"
    }
   ],
   "source": [
    "predictions = np.array(\n",
    "    [[1, 10, 100],\n",
    "    [2, 20, 200],\n",
    "    [3, 30, 300]], dtype=float\n",
    ")\n",
    "\n",
    "lower_bound = np.array(\n",
    "    [[0.1, 1, 10],\n",
    "    [0.2, 2, 20],\n",
    "    [0.3, 3, 30]], dtype=float\n",
    ")\n",
    "\n",
    "upper_bound = np.array(\n",
    "    [[1.1, 11, 101],\n",
    "    [2.2, 22, 202],\n",
    "    [3.3, 33, 303]], dtype=float\n",
    ")\n",
    "\n",
    "predictions = np.array([predictions, lower_bound, upper_bound], dtype=float).swapaxes(0, 2)\n",
    "predictions"
   ]
  },
  {
   "cell_type": "code",
   "execution_count": 23,
   "metadata": {},
   "outputs": [
    {
     "name": "stdout",
     "output_type": "stream",
     "text": [
      "[[1.  0.1 1.1]\n",
      " [2.  0.2 2.2]\n",
      " [3.  0.3 3.3]]\n",
      "[[10.  1. 11.]\n",
      " [20.  2. 22.]\n",
      " [30.  3. 33.]]\n",
      "[[100.  10. 101.]\n",
      " [200.  20. 202.]\n",
      " [300.  30. 303.]]\n"
     ]
    }
   ],
   "source": [
    "for i in range(3):\n",
    "    print(predictions[i, :, :])"
   ]
  },
  {
   "cell_type": "code",
   "execution_count": null,
   "metadata": {},
   "outputs": [],
   "source": []
  }
 ],
 "metadata": {
  "kernelspec": {
   "display_name": "skforecast_py11_2",
   "language": "python",
   "name": "python3"
  },
  "language_info": {
   "codemirror_mode": {
    "name": "ipython",
    "version": 3
   },
   "file_extension": ".py",
   "mimetype": "text/x-python",
   "name": "python",
   "nbconvert_exporter": "python",
   "pygments_lexer": "ipython3",
   "version": "3.11.10"
  },
  "orig_nbformat": 4
 },
 "nbformat": 4,
 "nbformat_minor": 2
}
