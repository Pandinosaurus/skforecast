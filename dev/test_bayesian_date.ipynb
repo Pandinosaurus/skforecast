{
 "cells": [
  {
   "cell_type": "code",
   "execution_count": 1,
   "metadata": {},
   "outputs": [
    {
     "name": "stdout",
     "output_type": "stream",
     "text": [
      "c:\\Users\\jaesc2\\GitHub\\skforecast\n"
     ]
    }
   ],
   "source": [
    "%load_ext autoreload\n",
    "%autoreload 2\n",
    "import sys\n",
    "from pathlib import Path\n",
    "path = str(Path.cwd().parent)\n",
    "print(path)\n",
    "sys.path.insert(1, path)\n",
    "\n",
    "import numpy as np\n",
    "import pandas as pd"
   ]
  },
  {
   "cell_type": "code",
   "execution_count": 12,
   "metadata": {},
   "outputs": [],
   "source": [
    "import re\n",
    "import pytest\n",
    "import joblib\n",
    "import warnings\n",
    "import numpy as np\n",
    "import pandas as pd\n",
    "from pathlib import Path\n",
    "from sklearn.preprocessing import StandardScaler\n",
    "from lightgbm import LGBMRegressor\n",
    "from sklearn.linear_model import Ridge\n",
    "from skforecast.exceptions import OneStepAheadValidationWarning\n",
    "from skforecast.recursive import ForecasterRecursiveMultiSeries\n",
    "from skforecast.direct import ForecasterDirectMultiVariate\n",
    "from skforecast.model_selection import bayesian_search_forecaster_multiseries, grid_search_forecaster_multiseries\n",
    "from skforecast.model_selection._split import TimeSeriesFold, OneStepAheadFold\n",
    "from skforecast.preprocessing import RollingFeatures\n",
    "from sklearn.metrics import mean_absolute_percentage_error\n",
    "from skforecast.metrics import mean_absolute_scaled_error"
   ]
  },
  {
   "cell_type": "code",
   "execution_count": 3,
   "metadata": {},
   "outputs": [],
   "source": [
    "series_item_sales = pd.read_parquet(r\"C:\\Users\\jaesc2\\GitHub\\skforecast\\skforecast\\model_selection\\tests\\fixture_multi_series_items_sales.parquet\")\n",
    "series_item_sales = series_item_sales.asfreq('D')\n",
    "exog_item_sales = pd.DataFrame({'day_of_week': series_item_sales.index.dayofweek}, index = series_item_sales.index)\n",
    "series_dict = joblib.load(r\"C:\\Users\\jaesc2\\GitHub\\skforecast\\skforecast\\model_selection\\tests\\fixture_sample_multi_series.joblib\")\n",
    "exog_dict = joblib.load(r\"C:\\Users\\jaesc2\\GitHub\\skforecast\\skforecast\\model_selection\\tests\\fixture_sample_multi_series_exog.joblib\")\n",
    "end_train = \"2016-07-31 23:59:00\"\n",
    "series_dict_train = {k: v.loc[:end_train,] for k, v in series_dict.items()}\n",
    "exog_dict_train = {k: v.loc[:end_train,] for k, v in exog_dict.items()}\n",
    "series_dict_test = {k: v.loc[end_train:,] for k, v in series_dict.items()}\n",
    "exog_dict_test = {k: v.loc[end_train:,] for k, v in exog_dict.items()}"
   ]
  },
  {
   "cell_type": "code",
   "execution_count": 14,
   "metadata": {},
   "outputs": [],
   "source": [
    "metrics = ['mean_absolute_error', mean_absolute_percentage_error, mean_absolute_scaled_error]\n",
    "forecaster = ForecasterRecursiveMultiSeries(\n",
    "            regressor          = LGBMRegressor(random_state=123, verbose=-1),\n",
    "            lags               = 3,\n",
    "            encoding           = 'ordinal',\n",
    "            transformer_series = StandardScaler(),\n",
    "            transformer_exog   = StandardScaler(),\n",
    "            weight_func        = None,\n",
    "            series_weights     = None,\n",
    "            differentiation    = None,\n",
    "            dropna_from_series = False,\n",
    "        )\n",
    "cv = OneStepAheadFold(\n",
    "        initial_train_size = \"2016-06-01 00:00:00\",\n",
    ")\n",
    "\n",
    "def search_space(trial):\n",
    "    search_space  = {\n",
    "        'alpha': trial.suggest_float('alpha', 1e-3, 1e3, log=True),\n",
    "        'lags': trial.suggest_categorical('lags', [3, 5]),\n",
    "    }\n",
    "\n",
    "    return search_space\n",
    "\n",
    "results, _ = bayesian_search_forecaster_multiseries(\n",
    "    forecaster         = forecaster,\n",
    "    series             = series_dict,\n",
    "    exog               = exog_dict,\n",
    "    cv                 = cv,\n",
    "    search_space       = search_space,\n",
    "    n_trials           = 5,\n",
    "    metric             = metrics,\n",
    "    aggregate_metric   = [\"average\", \"weighted_average\", \"pooling\"],\n",
    "    return_best        = False,\n",
    "    n_jobs             = 'auto',\n",
    "    verbose            = False,\n",
    "    show_progress      = False,\n",
    "    suppress_warnings = True,\n",
    ")"
   ]
  },
  {
   "cell_type": "code",
   "execution_count": 13,
   "metadata": {},
   "outputs": [
    {
     "name": "stdout",
     "output_type": "stream",
     "text": [
      "6 models compared for 5 level(s). Number of iterations: 6.\n"
     ]
    },
    {
     "data": {
      "application/vnd.jupyter.widget-view+json": {
       "model_id": "c4fbbae68be743be8d10f0f4ba5d180f",
       "version_major": 2,
       "version_minor": 0
      },
      "text/plain": [
       "lags grid:   0%|          | 0/2 [00:00<?, ?it/s]"
      ]
     },
     "metadata": {},
     "output_type": "display_data"
    },
    {
     "data": {
      "application/vnd.jupyter.widget-view+json": {
       "model_id": "9a5f21b6ac3c46beada2f0e96bfbe29a",
       "version_major": 2,
       "version_minor": 0
      },
      "text/plain": [
       "params grid:   0%|          | 0/3 [00:00<?, ?it/s]"
      ]
     },
     "metadata": {},
     "output_type": "display_data"
    },
    {
     "ename": "UFuncTypeError",
     "evalue": "ufunc 'subtract' did not contain a loop with signature matching types (dtype('<U19'), dtype('int64')) -> None",
     "output_type": "error",
     "traceback": [
      "\u001b[31m---------------------------------------------------------------------------\u001b[39m",
      "\u001b[31mUFuncTypeError\u001b[39m                            Traceback (most recent call last)",
      "\u001b[36mCell\u001b[39m\u001b[36m \u001b[39m\u001b[32mIn[13]\u001b[39m\u001b[32m, line 4\u001b[39m\n\u001b[32m      1\u001b[39m param_grid = {\u001b[33m'\u001b[39m\u001b[33malpha\u001b[39m\u001b[33m'\u001b[39m: [\u001b[32m0.01\u001b[39m, \u001b[32m0.1\u001b[39m, \u001b[32m1\u001b[39m]}\n\u001b[32m      2\u001b[39m lags_grid = [\u001b[32m2\u001b[39m, \u001b[32m4\u001b[39m]\n\u001b[32m----> \u001b[39m\u001b[32m4\u001b[39m results = \u001b[43mgrid_search_forecaster_multiseries\u001b[49m\u001b[43m(\u001b[49m\n\u001b[32m      5\u001b[39m \u001b[43m                  \u001b[49m\u001b[43mforecaster\u001b[49m\u001b[43m          \u001b[49m\u001b[43m=\u001b[49m\u001b[43m \u001b[49m\u001b[43mforecaster\u001b[49m\u001b[43m,\u001b[49m\n\u001b[32m      6\u001b[39m \u001b[43m                  \u001b[49m\u001b[43mseries\u001b[49m\u001b[43m              \u001b[49m\u001b[43m=\u001b[49m\u001b[43m \u001b[49m\u001b[43mseries_dict\u001b[49m\u001b[43m,\u001b[49m\n\u001b[32m      7\u001b[39m \u001b[43m                  \u001b[49m\u001b[43mparam_grid\u001b[49m\u001b[43m          \u001b[49m\u001b[43m=\u001b[49m\u001b[43m \u001b[49m\u001b[43mparam_grid\u001b[49m\u001b[43m,\u001b[49m\n\u001b[32m      8\u001b[39m \u001b[43m                  \u001b[49m\u001b[43mcv\u001b[49m\u001b[43m                  \u001b[49m\u001b[43m=\u001b[49m\u001b[43m \u001b[49m\u001b[43mcv\u001b[49m\u001b[43m,\u001b[49m\n\u001b[32m      9\u001b[39m \u001b[43m                  \u001b[49m\u001b[43mmetric\u001b[49m\u001b[43m              \u001b[49m\u001b[43m=\u001b[49m\u001b[43m \u001b[49m\u001b[33;43m'\u001b[39;49m\u001b[33;43mmean_absolute_error\u001b[39;49m\u001b[33;43m'\u001b[39;49m\u001b[43m,\u001b[49m\n\u001b[32m     10\u001b[39m \u001b[43m                  \u001b[49m\u001b[43maggregate_metric\u001b[49m\u001b[43m    \u001b[49m\u001b[43m=\u001b[49m\u001b[43m \u001b[49m\u001b[33;43m'\u001b[39;49m\u001b[33;43mweighted_average\u001b[39;49m\u001b[33;43m'\u001b[39;49m\u001b[43m,\u001b[49m\n\u001b[32m     11\u001b[39m \u001b[43m                  \u001b[49m\u001b[43mlevels\u001b[49m\u001b[43m              \u001b[49m\u001b[43m=\u001b[49m\u001b[43m \u001b[49m\u001b[38;5;28;43;01mNone\u001b[39;49;00m\u001b[43m,\u001b[49m\n\u001b[32m     12\u001b[39m \u001b[43m                  \u001b[49m\u001b[43mexog\u001b[49m\u001b[43m                \u001b[49m\u001b[43m=\u001b[49m\u001b[43m \u001b[49m\u001b[38;5;28;43;01mNone\u001b[39;49;00m\u001b[43m,\u001b[49m\n\u001b[32m     13\u001b[39m \u001b[43m                  \u001b[49m\u001b[43mlags_grid\u001b[49m\u001b[43m           \u001b[49m\u001b[43m=\u001b[49m\u001b[43m \u001b[49m\u001b[43mlags_grid\u001b[49m\u001b[43m,\u001b[49m\n\u001b[32m     14\u001b[39m \u001b[43m                  \u001b[49m\u001b[43mreturn_best\u001b[49m\u001b[43m         \u001b[49m\u001b[43m=\u001b[49m\u001b[43m \u001b[49m\u001b[38;5;28;43;01mFalse\u001b[39;49;00m\u001b[43m,\u001b[49m\n\u001b[32m     15\u001b[39m \u001b[43m                  \u001b[49m\u001b[43mverbose\u001b[49m\u001b[43m             \u001b[49m\u001b[43m=\u001b[49m\u001b[43m \u001b[49m\u001b[38;5;28;43;01mTrue\u001b[39;49;00m\n\u001b[32m     16\u001b[39m \u001b[43m              \u001b[49m\u001b[43m)\u001b[49m\n",
      "\u001b[36mFile \u001b[39m\u001b[32mc:\\Users\\jaesc2\\GitHub\\skforecast\\skforecast\\model_selection\\_search.py:1037\u001b[39m, in \u001b[36mgrid_search_forecaster_multiseries\u001b[39m\u001b[34m(forecaster, series, cv, param_grid, metric, aggregate_metric, levels, exog, lags_grid, return_best, n_jobs, verbose, show_progress, suppress_warnings, output_file)\u001b[39m\n\u001b[32m    955\u001b[39m \u001b[38;5;250m\u001b[39m\u001b[33;03m\"\"\"\u001b[39;00m\n\u001b[32m    956\u001b[39m \u001b[33;03mExhaustive search over specified parameter values for a Forecaster object.\u001b[39;00m\n\u001b[32m    957\u001b[39m \u001b[33;03mValidation is done using multi-series backtesting.\u001b[39;00m\n\u001b[32m   (...)\u001b[39m\u001b[32m   1032\u001b[39m \u001b[33;03m\u001b[39;00m\n\u001b[32m   1033\u001b[39m \u001b[33;03m\"\"\"\u001b[39;00m\n\u001b[32m   1035\u001b[39m param_grid = \u001b[38;5;28mlist\u001b[39m(ParameterGrid(param_grid))\n\u001b[32m-> \u001b[39m\u001b[32m1037\u001b[39m results = \u001b[43m_evaluate_grid_hyperparameters_multiseries\u001b[49m\u001b[43m(\u001b[49m\n\u001b[32m   1038\u001b[39m \u001b[43m              \u001b[49m\u001b[43mforecaster\u001b[49m\u001b[43m        \u001b[49m\u001b[43m=\u001b[49m\u001b[43m \u001b[49m\u001b[43mforecaster\u001b[49m\u001b[43m,\u001b[49m\n\u001b[32m   1039\u001b[39m \u001b[43m              \u001b[49m\u001b[43mseries\u001b[49m\u001b[43m            \u001b[49m\u001b[43m=\u001b[49m\u001b[43m \u001b[49m\u001b[43mseries\u001b[49m\u001b[43m,\u001b[49m\n\u001b[32m   1040\u001b[39m \u001b[43m              \u001b[49m\u001b[43mcv\u001b[49m\u001b[43m                \u001b[49m\u001b[43m=\u001b[49m\u001b[43m \u001b[49m\u001b[43mcv\u001b[49m\u001b[43m,\u001b[49m\n\u001b[32m   1041\u001b[39m \u001b[43m              \u001b[49m\u001b[43mparam_grid\u001b[49m\u001b[43m        \u001b[49m\u001b[43m=\u001b[49m\u001b[43m \u001b[49m\u001b[43mparam_grid\u001b[49m\u001b[43m,\u001b[49m\n\u001b[32m   1042\u001b[39m \u001b[43m              \u001b[49m\u001b[43mmetric\u001b[49m\u001b[43m            \u001b[49m\u001b[43m=\u001b[49m\u001b[43m \u001b[49m\u001b[43mmetric\u001b[49m\u001b[43m,\u001b[49m\n\u001b[32m   1043\u001b[39m \u001b[43m              \u001b[49m\u001b[43maggregate_metric\u001b[49m\u001b[43m  \u001b[49m\u001b[43m=\u001b[49m\u001b[43m \u001b[49m\u001b[43maggregate_metric\u001b[49m\u001b[43m,\u001b[49m\n\u001b[32m   1044\u001b[39m \u001b[43m              \u001b[49m\u001b[43mlevels\u001b[49m\u001b[43m            \u001b[49m\u001b[43m=\u001b[49m\u001b[43m \u001b[49m\u001b[43mlevels\u001b[49m\u001b[43m,\u001b[49m\n\u001b[32m   1045\u001b[39m \u001b[43m              \u001b[49m\u001b[43mexog\u001b[49m\u001b[43m              \u001b[49m\u001b[43m=\u001b[49m\u001b[43m \u001b[49m\u001b[43mexog\u001b[49m\u001b[43m,\u001b[49m\n\u001b[32m   1046\u001b[39m \u001b[43m              \u001b[49m\u001b[43mlags_grid\u001b[49m\u001b[43m         \u001b[49m\u001b[43m=\u001b[49m\u001b[43m \u001b[49m\u001b[43mlags_grid\u001b[49m\u001b[43m,\u001b[49m\n\u001b[32m   1047\u001b[39m \u001b[43m              \u001b[49m\u001b[43mn_jobs\u001b[49m\u001b[43m            \u001b[49m\u001b[43m=\u001b[49m\u001b[43m \u001b[49m\u001b[43mn_jobs\u001b[49m\u001b[43m,\u001b[49m\n\u001b[32m   1048\u001b[39m \u001b[43m              \u001b[49m\u001b[43mreturn_best\u001b[49m\u001b[43m       \u001b[49m\u001b[43m=\u001b[49m\u001b[43m \u001b[49m\u001b[43mreturn_best\u001b[49m\u001b[43m,\u001b[49m\n\u001b[32m   1049\u001b[39m \u001b[43m              \u001b[49m\u001b[43mverbose\u001b[49m\u001b[43m           \u001b[49m\u001b[43m=\u001b[49m\u001b[43m \u001b[49m\u001b[43mverbose\u001b[49m\u001b[43m,\u001b[49m\n\u001b[32m   1050\u001b[39m \u001b[43m              \u001b[49m\u001b[43mshow_progress\u001b[49m\u001b[43m     \u001b[49m\u001b[43m=\u001b[49m\u001b[43m \u001b[49m\u001b[43mshow_progress\u001b[49m\u001b[43m,\u001b[49m\n\u001b[32m   1051\u001b[39m \u001b[43m              \u001b[49m\u001b[43msuppress_warnings\u001b[49m\u001b[43m \u001b[49m\u001b[43m=\u001b[49m\u001b[43m \u001b[49m\u001b[43msuppress_warnings\u001b[49m\u001b[43m,\u001b[49m\n\u001b[32m   1052\u001b[39m \u001b[43m              \u001b[49m\u001b[43moutput_file\u001b[49m\u001b[43m       \u001b[49m\u001b[43m=\u001b[49m\u001b[43m \u001b[49m\u001b[43moutput_file\u001b[49m\n\u001b[32m   1053\u001b[39m \u001b[43m          \u001b[49m\u001b[43m)\u001b[49m\n\u001b[32m   1055\u001b[39m \u001b[38;5;28;01mreturn\u001b[39;00m results\n",
      "\u001b[36mFile \u001b[39m\u001b[32mc:\\Users\\jaesc2\\GitHub\\skforecast\\skforecast\\model_selection\\_search.py:1393\u001b[39m, in \u001b[36m_evaluate_grid_hyperparameters_multiseries\u001b[39m\u001b[34m(forecaster, series, cv, param_grid, metric, aggregate_metric, levels, exog, lags_grid, return_best, n_jobs, verbose, show_progress, suppress_warnings, output_file)\u001b[39m\n\u001b[32m   1382\u001b[39m     lags_k = lags_v\n\u001b[32m   1384\u001b[39m \u001b[38;5;28;01mif\u001b[39;00m cv_name == \u001b[33m'\u001b[39m\u001b[33mOneStepAheadFold\u001b[39m\u001b[33m'\u001b[39m:\n\u001b[32m   1386\u001b[39m     (\n\u001b[32m   1387\u001b[39m         X_train,\n\u001b[32m   1388\u001b[39m         y_train,\n\u001b[32m   1389\u001b[39m         X_test,\n\u001b[32m   1390\u001b[39m         y_test,\n\u001b[32m   1391\u001b[39m         X_train_encoding,\n\u001b[32m   1392\u001b[39m         X_test_encoding\n\u001b[32m-> \u001b[39m\u001b[32m1393\u001b[39m     ) = \u001b[43mforecaster\u001b[49m\u001b[43m.\u001b[49m\u001b[43m_train_test_split_one_step_ahead\u001b[49m\u001b[43m(\u001b[49m\n\u001b[32m   1394\u001b[39m \u001b[43m        \u001b[49m\u001b[43mseries\u001b[49m\u001b[43m=\u001b[49m\u001b[43mseries\u001b[49m\u001b[43m,\u001b[49m\u001b[43m \u001b[49m\u001b[43mexog\u001b[49m\u001b[43m=\u001b[49m\u001b[43mexog\u001b[49m\u001b[43m,\u001b[49m\u001b[43m \u001b[49m\u001b[43minitial_train_size\u001b[49m\u001b[43m=\u001b[49m\u001b[43mcv\u001b[49m\u001b[43m.\u001b[49m\u001b[43minitial_train_size\u001b[49m\n\u001b[32m   1395\u001b[39m \u001b[43m    \u001b[49m\u001b[43m)\u001b[49m\n\u001b[32m   1397\u001b[39m \u001b[38;5;28;01mfor\u001b[39;00m params \u001b[38;5;129;01min\u001b[39;00m param_grid:\n\u001b[32m   1399\u001b[39m     forecaster.set_params(params)\n",
      "\u001b[36mFile \u001b[39m\u001b[32mc:\\Users\\jaesc2\\GitHub\\skforecast\\skforecast\\recursive\\_forecaster_recursive_multiseries.py:1396\u001b[39m, in \u001b[36mForecasterRecursiveMultiSeries._train_test_split_one_step_ahead\u001b[39m\u001b[34m(self, series, initial_train_size, exog)\u001b[39m\n\u001b[32m   1391\u001b[39m \u001b[38;5;28;01melse\u001b[39;00m:\n\u001b[32m   1392\u001b[39m     span_index = series.index\n\u001b[32m   1394\u001b[39m fold = [\n\u001b[32m   1395\u001b[39m     [\u001b[32m0\u001b[39m, initial_train_size],\n\u001b[32m-> \u001b[39m\u001b[32m1396\u001b[39m     [\u001b[43minitial_train_size\u001b[49m\u001b[43m \u001b[49m\u001b[43m-\u001b[49m\u001b[43m \u001b[49m\u001b[38;5;28;43mself\u001b[39;49m\u001b[43m.\u001b[49m\u001b[43mwindow_size\u001b[49m, initial_train_size],\n\u001b[32m   1397\u001b[39m     [initial_train_size - \u001b[38;5;28mself\u001b[39m.window_size, \u001b[38;5;28mlen\u001b[39m(span_index)],\n\u001b[32m   1398\u001b[39m     [\u001b[32m0\u001b[39m, \u001b[32m0\u001b[39m],  \u001b[38;5;66;03m# Dummy value\u001b[39;00m\n\u001b[32m   1399\u001b[39m     \u001b[38;5;28;01mTrue\u001b[39;00m\n\u001b[32m   1400\u001b[39m ]\n\u001b[32m   1401\u001b[39m data_fold = _extract_data_folds_multiseries(\n\u001b[32m   1402\u001b[39m                 series             = series,\n\u001b[32m   1403\u001b[39m                 folds              = [fold],\n\u001b[32m   (...)\u001b[39m\u001b[32m   1408\u001b[39m                 externally_fitted  = \u001b[38;5;28;01mFalse\u001b[39;00m\n\u001b[32m   1409\u001b[39m             )\n\u001b[32m   1410\u001b[39m series_train, _, levels_last_window, exog_train, exog_test, _ = \u001b[38;5;28mnext\u001b[39m(data_fold)\n",
      "\u001b[31mUFuncTypeError\u001b[39m: ufunc 'subtract' did not contain a loop with signature matching types (dtype('<U19'), dtype('int64')) -> None"
     ]
    }
   ],
   "source": [
    "param_grid = {'alpha': [0.01, 0.1, 1]}\n",
    "lags_grid = [2, 4]\n",
    "\n",
    "results = grid_search_forecaster_multiseries(\n",
    "                  forecaster          = forecaster,\n",
    "                  series              = series_dict,\n",
    "                  param_grid          = param_grid,\n",
    "                  cv                  = cv,\n",
    "                  metric              = 'mean_absolute_error',\n",
    "                  aggregate_metric    = 'weighted_average',\n",
    "                  levels              = None,\n",
    "                  exog                = None,\n",
    "                  lags_grid           = lags_grid,\n",
    "                  return_best         = False,\n",
    "                  verbose             = True\n",
    "              )"
   ]
  },
  {
   "cell_type": "code",
   "execution_count": 19,
   "metadata": {},
   "outputs": [],
   "source": [
    "from skforecast.utils import date_to_index_position"
   ]
  },
  {
   "cell_type": "code",
   "execution_count": 28,
   "metadata": {},
   "outputs": [],
   "source": [
    "cv = OneStepAheadFold(\n",
    "        initial_train_size = \"2020-03-01 00:00:00\",\n",
    ")"
   ]
  },
  {
   "cell_type": "code",
   "execution_count": 29,
   "metadata": {},
   "outputs": [],
   "source": [
    "n = 1000000\n",
    "\n",
    "series = pd.Series(\n",
    "    np.random.rand(n),\n",
    "    index=pd.date_range(start='2020-01-01', periods=n, freq='h')\n",
    ")"
   ]
  },
  {
   "cell_type": "code",
   "execution_count": 30,
   "metadata": {},
   "outputs": [
    {
     "name": "stdout",
     "output_type": "stream",
     "text": [
      "171 ns ± 2.43 ns per loop (mean ± std. dev. of 7 runs, 10,000,000 loops each)\n"
     ]
    }
   ],
   "source": [
    "%%timeit\n",
    "\n",
    "cv._extract_index(series)"
   ]
  },
  {
   "cell_type": "code",
   "execution_count": 31,
   "metadata": {},
   "outputs": [],
   "source": [
    "idx = cv._extract_index(series)"
   ]
  },
  {
   "cell_type": "code",
   "execution_count": 32,
   "metadata": {},
   "outputs": [
    {
     "name": "stdout",
     "output_type": "stream",
     "text": [
      "326 μs ± 6.18 μs per loop (mean ± std. dev. of 7 runs, 1,000 loops each)\n"
     ]
    }
   ],
   "source": [
    "%%timeit\n",
    "\n",
    "initial_train_size = date_to_index_position(\n",
    "                                 index        = idx, \n",
    "                                 date_input   = cv.initial_train_size, \n",
    "                                 method       = 'validation',\n",
    "                                 date_literal = 'initial_train_size'\n",
    "                             )"
   ]
  },
  {
   "cell_type": "code",
   "execution_count": 33,
   "metadata": {},
   "outputs": [],
   "source": [
    "# Create a dict with 1000 pandas series\n",
    "series_dict = {\n",
    "    f'series_{i}': pd.Series(\n",
    "        np.random.rand(n),\n",
    "        index=pd.date_range(start='2020-01-01', periods=n, freq='h')\n",
    "    )\n",
    "    for i in range(1000)\n",
    "}"
   ]
  },
  {
   "cell_type": "code",
   "execution_count": 34,
   "metadata": {},
   "outputs": [
    {
     "name": "stdout",
     "output_type": "stream",
     "text": [
      "10.3 ms ± 108 μs per loop (mean ± std. dev. of 7 runs, 100 loops each)\n"
     ]
    }
   ],
   "source": [
    "%%timeit\n",
    "\n",
    "cv._extract_index(series_dict)"
   ]
  },
  {
   "cell_type": "code",
   "execution_count": 35,
   "metadata": {},
   "outputs": [],
   "source": [
    "idx = cv._extract_index(series_dict)"
   ]
  },
  {
   "cell_type": "code",
   "execution_count": 36,
   "metadata": {},
   "outputs": [
    {
     "name": "stdout",
     "output_type": "stream",
     "text": [
      "312 μs ± 5.2 μs per loop (mean ± std. dev. of 7 runs, 1,000 loops each)\n"
     ]
    }
   ],
   "source": [
    "%%timeit\n",
    "\n",
    "initial_train_size = date_to_index_position(\n",
    "                                 index        = idx, \n",
    "                                 date_input   = cv.initial_train_size, \n",
    "                                 method       = 'validation',\n",
    "                                 date_literal = 'initial_train_size'\n",
    "                             )"
   ]
  }
 ],
 "metadata": {
  "kernelspec": {
   "display_name": "skforecast_py11_2",
   "language": "python",
   "name": "python3"
  },
  "language_info": {
   "codemirror_mode": {
    "name": "ipython",
    "version": 3
   },
   "file_extension": ".py",
   "mimetype": "text/x-python",
   "name": "python",
   "nbconvert_exporter": "python",
   "pygments_lexer": "ipython3",
   "version": "3.11.10"
  },
  "orig_nbformat": 4
 },
 "nbformat": 4,
 "nbformat_minor": 2
}
