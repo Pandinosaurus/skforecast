{
 "cells": [
  {
   "cell_type": "code",
   "execution_count": 1,
   "metadata": {},
   "outputs": [
    {
     "name": "stdout",
     "output_type": "stream",
     "text": [
      "c:\\Users\\jaesc2\\GitHub\\skforecast\n"
     ]
    }
   ],
   "source": [
    "%load_ext autoreload\n",
    "%autoreload 2\n",
    "import sys\n",
    "from pathlib import Path\n",
    "path = str(Path.cwd().parent)\n",
    "print(path)\n",
    "sys.path.insert(1, path)\n",
    "\n",
    "import numpy as np\n",
    "import pandas as pd"
   ]
  },
  {
   "cell_type": "code",
   "execution_count": 2,
   "metadata": {},
   "outputs": [
    {
     "name": "stdout",
     "output_type": "stream",
     "text": [
      "id          int64\n",
      "type     category\n",
      "value     float64\n",
      "dtype: object\n",
      "id          int64\n",
      "type     category\n",
      "value     float64\n",
      "dtype: object\n",
      "{'A': 0, 'B': 1}\n",
      "{'A': 0, 'B': 1}\n"
     ]
    }
   ],
   "source": [
    "df1 = pd.DataFrame({\n",
    "    'id': [1, 2, 3],\n",
    "    'type': ['A', 'B', 'A'],\n",
    "    'value': [10.5, 20.3, 30.7]\n",
    "})\n",
    "df1['type'] = df1['type'].astype('category')\n",
    "\n",
    "df2 = pd.DataFrame({\n",
    "    'id': ['1', '2', '3'],             \n",
    "    'type': ['A', 'B', 'E'],           \n",
    "    'value': ['10.5', '20.3', '30.7']\n",
    "})\n",
    "\n",
    "\n",
    "dtypes_out_ = df1.dtypes.to_dict()\n",
    "df_2_aligned = df2.astype(dtypes_out_)\n",
    "\n",
    "print(df1.dtypes)\n",
    "print(df_2_aligned.dtypes)\n",
    "print({cat: code for code, cat in enumerate(df1['type'].cat.categories)})\n",
    "print({cat: code for code, cat in enumerate(df_2_aligned['type'].cat.categories)})"
   ]
  },
  {
   "cell_type": "code",
   "execution_count": 11,
   "metadata": {},
   "outputs": [
    {
     "data": {
      "application/vnd.microsoft.datawrangler.viewer.v0+json": {
       "columns": [
        {
         "name": "index",
         "rawType": "int64",
         "type": "integer"
        },
        {
         "name": "id",
         "rawType": "int64",
         "type": "integer"
        },
        {
         "name": "type",
         "rawType": "category",
         "type": "unknown"
        },
        {
         "name": "value",
         "rawType": "float64",
         "type": "float"
        }
       ],
       "ref": "da3998f6-c94c-4546-86b3-5427131ba746",
       "rows": [
        [
         "0",
         "1",
         "A",
         "10.5"
        ],
        [
         "1",
         "2",
         "B",
         "20.3"
        ],
        [
         "2",
         "3",
         null,
         "30.7"
        ]
       ],
       "shape": {
        "columns": 3,
        "rows": 3
       }
      },
      "text/html": [
       "<div>\n",
       "<style scoped>\n",
       "    .dataframe tbody tr th:only-of-type {\n",
       "        vertical-align: middle;\n",
       "    }\n",
       "\n",
       "    .dataframe tbody tr th {\n",
       "        vertical-align: top;\n",
       "    }\n",
       "\n",
       "    .dataframe thead th {\n",
       "        text-align: right;\n",
       "    }\n",
       "</style>\n",
       "<table border=\"1\" class=\"dataframe\">\n",
       "  <thead>\n",
       "    <tr style=\"text-align: right;\">\n",
       "      <th></th>\n",
       "      <th>id</th>\n",
       "      <th>type</th>\n",
       "      <th>value</th>\n",
       "    </tr>\n",
       "  </thead>\n",
       "  <tbody>\n",
       "    <tr>\n",
       "      <th>0</th>\n",
       "      <td>1</td>\n",
       "      <td>A</td>\n",
       "      <td>10.5</td>\n",
       "    </tr>\n",
       "    <tr>\n",
       "      <th>1</th>\n",
       "      <td>2</td>\n",
       "      <td>B</td>\n",
       "      <td>20.3</td>\n",
       "    </tr>\n",
       "    <tr>\n",
       "      <th>2</th>\n",
       "      <td>3</td>\n",
       "      <td>NaN</td>\n",
       "      <td>30.7</td>\n",
       "    </tr>\n",
       "  </tbody>\n",
       "</table>\n",
       "</div>"
      ],
      "text/plain": [
       "   id type  value\n",
       "0   1    A   10.5\n",
       "1   2    B   20.3\n",
       "2   3  NaN   30.7"
      ]
     },
     "execution_count": 11,
     "metadata": {},
     "output_type": "execute_result"
    }
   ],
   "source": [
    "df_2_aligned"
   ]
  },
  {
   "cell_type": "code",
   "execution_count": 12,
   "metadata": {},
   "outputs": [
    {
     "data": {
      "application/vnd.microsoft.datawrangler.viewer.v0+json": {
       "columns": [
        {
         "name": "index",
         "rawType": "int64",
         "type": "integer"
        },
        {
         "name": "id",
         "rawType": "object",
         "type": "string"
        },
        {
         "name": "type",
         "rawType": "object",
         "type": "string"
        },
        {
         "name": "value",
         "rawType": "object",
         "type": "string"
        }
       ],
       "ref": "7f9126ef-9d6b-4ba3-8773-c2cde0a47692",
       "rows": [
        [
         "0",
         "1",
         "A",
         "10.5"
        ],
        [
         "1",
         "2",
         "A",
         "20.3"
        ],
        [
         "2",
         "3",
         "A",
         "30.7"
        ]
       ],
       "shape": {
        "columns": 3,
        "rows": 3
       }
      },
      "text/html": [
       "<div>\n",
       "<style scoped>\n",
       "    .dataframe tbody tr th:only-of-type {\n",
       "        vertical-align: middle;\n",
       "    }\n",
       "\n",
       "    .dataframe tbody tr th {\n",
       "        vertical-align: top;\n",
       "    }\n",
       "\n",
       "    .dataframe thead th {\n",
       "        text-align: right;\n",
       "    }\n",
       "</style>\n",
       "<table border=\"1\" class=\"dataframe\">\n",
       "  <thead>\n",
       "    <tr style=\"text-align: right;\">\n",
       "      <th></th>\n",
       "      <th>id</th>\n",
       "      <th>type</th>\n",
       "      <th>value</th>\n",
       "    </tr>\n",
       "  </thead>\n",
       "  <tbody>\n",
       "    <tr>\n",
       "      <th>0</th>\n",
       "      <td>1</td>\n",
       "      <td>A</td>\n",
       "      <td>10.5</td>\n",
       "    </tr>\n",
       "    <tr>\n",
       "      <th>1</th>\n",
       "      <td>2</td>\n",
       "      <td>A</td>\n",
       "      <td>20.3</td>\n",
       "    </tr>\n",
       "    <tr>\n",
       "      <th>2</th>\n",
       "      <td>3</td>\n",
       "      <td>A</td>\n",
       "      <td>30.7</td>\n",
       "    </tr>\n",
       "  </tbody>\n",
       "</table>\n",
       "</div>"
      ],
      "text/plain": [
       "  id type value\n",
       "0  1    A  10.5\n",
       "1  2    A  20.3\n",
       "2  3    A  30.7"
      ]
     },
     "execution_count": 12,
     "metadata": {},
     "output_type": "execute_result"
    }
   ],
   "source": [
    "df2 = pd.DataFrame({\n",
    "    'id': ['1', '2', '3'],             \n",
    "    'type': ['A', 'A', 'A'],           \n",
    "    'value': ['10.5', '20.3', '30.7']\n",
    "})\n",
    "\n",
    "\n",
    "dtypes_out_ = df1.dtypes.to_dict()\n",
    "df_2_aligned = df2.astype(dtypes_out_)\n",
    "df2"
   ]
  },
  {
   "cell_type": "code",
   "execution_count": 13,
   "metadata": {},
   "outputs": [
    {
     "name": "stdout",
     "output_type": "stream",
     "text": [
      "{'A': 0, 'B': 1}\n"
     ]
    }
   ],
   "source": [
    "print({cat: code for code, cat in enumerate(df_2_aligned['type'].cat.categories)})"
   ]
  },
  {
   "cell_type": "code",
   "execution_count": 15,
   "metadata": {},
   "outputs": [
    {
     "data": {
      "text/plain": [
       "array([1., 0., 1.])"
      ]
     },
     "execution_count": 15,
     "metadata": {},
     "output_type": "execute_result"
    }
   ],
   "source": [
    "np.array([True, False, 1.0])"
   ]
  },
  {
   "cell_type": "code",
   "execution_count": 4,
   "metadata": {},
   "outputs": [],
   "source": [
    "df1 = pd.DataFrame({\n",
    "    'id': [1, 2, 3] * 10000,\n",
    "    'type': ['A', 'B', 'A'] * 10000,\n",
    "    'value': [10.5, 20.3, 30.7] * 10000\n",
    "})\n",
    "df1['type'] = df1['type'].astype('category')"
   ]
  },
  {
   "cell_type": "code",
   "execution_count": 5,
   "metadata": {},
   "outputs": [
    {
     "name": "stdout",
     "output_type": "stream",
     "text": [
      "35.5 μs ± 760 ns per loop (mean ± std. dev. of 7 runs, 10,000 loops each)\n"
     ]
    }
   ],
   "source": [
    "%%timeit\n",
    "\n",
    "df1.dtypes.to_dict()"
   ]
  },
  {
   "cell_type": "code",
   "execution_count": 6,
   "metadata": {},
   "outputs": [],
   "source": [
    "n_rows = 1000000\n",
    "n_cols = 50\n",
    "\n",
    "df1 = pd.DataFrame(np.random.rand(n_rows, n_cols), columns=[f'col_{i}' for i in range(n_cols)])\n",
    "\n",
    "# Cast 10 columns to 'category'\n",
    "for i in range(10):\n",
    "    df1[f'col_{i}'] = df1[f'col_{i}'].astype('category')\n"
   ]
  },
  {
   "cell_type": "code",
   "execution_count": 7,
   "metadata": {},
   "outputs": [
    {
     "name": "stdout",
     "output_type": "stream",
     "text": [
      "62.4 μs ± 811 ns per loop (mean ± std. dev. of 7 runs, 10,000 loops each)\n"
     ]
    }
   ],
   "source": [
    "%%timeit\n",
    "\n",
    "df1.dtypes.to_dict()"
   ]
  },
  {
   "cell_type": "code",
   "execution_count": 16,
   "metadata": {},
   "outputs": [],
   "source": [
    "exog_dtypes_out_ = df1.dtypes.to_dict()"
   ]
  },
  {
   "cell_type": "code",
   "execution_count": 18,
   "metadata": {},
   "outputs": [
    {
     "name": "stdout",
     "output_type": "stream",
     "text": [
      "31.7 μs ± 600 ns per loop (mean ± std. dev. of 7 runs, 10,000 loops each)\n"
     ]
    }
   ],
   "source": [
    "%%timeit\n",
    "\n",
    "any(\n",
    "not pd.api.types.is_numeric_dtype(dtype) or pd.api.types.is_bool_dtype(dtype) \n",
    "for dtype in set(exog_dtypes_out_)\n",
    ")"
   ]
  },
  {
   "cell_type": "code",
   "execution_count": 9,
   "metadata": {},
   "outputs": [],
   "source": [
    "import re\n",
    "import pytest\n",
    "import numpy as np\n",
    "import pandas as pd\n",
    "from sklearn.exceptions import NotFittedError\n",
    "from sklearn.compose import ColumnTransformer\n",
    "from sklearn.preprocessing import StandardScaler\n",
    "from sklearn.preprocessing import OneHotEncoder\n",
    "from sklearn.preprocessing import OrdinalEncoder\n",
    "from sklearn.preprocessing import FunctionTransformer\n",
    "from sklearn.compose import make_column_transformer, make_column_selector\n",
    "from sklearn.pipeline import make_pipeline\n",
    "from sklearn.linear_model import LinearRegression\n",
    "from sklearn.ensemble import HistGradientBoostingRegressor\n",
    "from lightgbm import LGBMRegressor\n",
    "\n",
    "from skforecast.utils import transform_numpy\n",
    "from skforecast.preprocessing import RollingFeatures\n",
    "from skforecast.recursive import ForecasterRecursive, ForecasterRecursiveMultiSeries\n",
    "\n",
    "# Fixtures\n",
    "from skforecast.recursive.tests.tests_forecaster_recursive.fixtures_forecaster_recursive import y as y_categorical\n",
    "from skforecast.recursive.tests.tests_forecaster_recursive.fixtures_forecaster_recursive import exog as exog_categorical\n",
    "from skforecast.recursive.tests.tests_forecaster_recursive.fixtures_forecaster_recursive import data  # to test results when using differentiation"
   ]
  },
  {
   "cell_type": "code",
   "execution_count": 20,
   "metadata": {},
   "outputs": [],
   "source": [
    "df_exog = pd.DataFrame(\n",
    "        {'exog_1': exog_categorical,\n",
    "         'exog_2': ['a', 'b', 'c', 'd', 'e'] * 10,\n",
    "         'exog_3': pd.Categorical(['F', 'G', 'H', 'I', 'J'] * 10)}\n",
    "    )\n",
    "    \n",
    "exog_predict = df_exog.copy()\n",
    "exog_predict.index = pd.RangeIndex(start=50, stop=100)\n",
    "\n",
    "pipeline_categorical = make_pipeline(\n",
    "                        OrdinalEncoder(\n",
    "                            dtype=int,\n",
    "                            handle_unknown=\"use_encoded_value\",\n",
    "                            unknown_value=-1,\n",
    "                            encoded_missing_value=-1\n",
    "                        ),\n",
    "                        FunctionTransformer(\n",
    "                            func=lambda x: x.astype('category'),\n",
    "                            feature_names_out= 'one-to-one'\n",
    "                        )\n",
    "                    )\n",
    "\n",
    "transformer_exog = make_column_transformer(\n",
    "                        (\n",
    "                            pipeline_categorical,\n",
    "                            make_column_selector(dtype_exclude=np.number)\n",
    "                        ),\n",
    "                        remainder=\"passthrough\",\n",
    "                        verbose_feature_names_out=False,\n",
    "                    ).set_output(transform=\"pandas\")\n",
    "\n",
    "forecaster = ForecasterRecursive(\n",
    "                    regressor        = LGBMRegressor(verbose=-1, random_state=123),\n",
    "                    lags             = 5,\n",
    "                    transformer_y    = None,\n",
    "                    transformer_exog = transformer_exog\n",
    "                )\n",
    "forecaster.fit(y=y_categorical, exog=df_exog)\n",
    "results = forecaster.create_predict_X(steps=10, exog=exog_predict)"
   ]
  },
  {
   "cell_type": "code",
   "execution_count": 21,
   "metadata": {},
   "outputs": [
    {
     "data": {
      "application/vnd.microsoft.datawrangler.viewer.v0+json": {
       "columns": [
        {
         "name": "index",
         "rawType": "int64",
         "type": "integer"
        },
        {
         "name": "lag_1",
         "rawType": "float64",
         "type": "float"
        },
        {
         "name": "lag_2",
         "rawType": "float64",
         "type": "float"
        },
        {
         "name": "lag_3",
         "rawType": "float64",
         "type": "float"
        },
        {
         "name": "lag_4",
         "rawType": "float64",
         "type": "float"
        },
        {
         "name": "lag_5",
         "rawType": "float64",
         "type": "float"
        },
        {
         "name": "exog_2",
         "rawType": "category",
         "type": "unknown"
        },
        {
         "name": "exog_3",
         "rawType": "category",
         "type": "unknown"
        },
        {
         "name": "exog_1",
         "rawType": "float64",
         "type": "float"
        }
       ],
       "ref": "24387412-9845-44b3-81d7-84998939edfc",
       "rows": [
        [
         "50",
         "0.61289453",
         "0.51948512",
         "0.98555979",
         "0.48303426",
         "0.25045537",
         "0",
         "0",
         "0.12062867"
        ],
        [
         "51",
         "0.5857032957120019",
         "0.61289453",
         "0.51948512",
         "0.98555979",
         "0.48303426",
         "1",
         "1",
         "0.8263408"
        ],
        [
         "52",
         "0.38945029588293395",
         "0.5857032957120019",
         "0.61289453",
         "0.51948512",
         "0.98555979",
         "2",
         "2",
         "0.60306013"
        ],
        [
         "53",
         "0.4505339894809509",
         "0.38945029588293395",
         "0.5857032957120019",
         "0.61289453",
         "0.51948512",
         "3",
         "3",
         "0.54506801"
        ],
        [
         "54",
         "0.4968655078044983",
         "0.4505339894809509",
         "0.38945029588293395",
         "0.5857032957120019",
         "0.61289453",
         "4",
         "4",
         "0.34276383"
        ],
        [
         "55",
         "0.45887491694211047",
         "0.4968655078044983",
         "0.4505339894809509",
         "0.38945029588293395",
         "0.5857032957120019",
         "0",
         "0",
         "0.30412079"
        ],
        [
         "56",
         "0.5148106825641113",
         "0.45887491694211047",
         "0.4968655078044983",
         "0.4505339894809509",
         "0.38945029588293395",
         "1",
         "1",
         "0.41702221"
        ],
        [
         "57",
         "0.5857032957120019",
         "0.5148106825641113",
         "0.45887491694211047",
         "0.4968655078044983",
         "0.4505339894809509",
         "2",
         "2",
         "0.68130077"
        ],
        [
         "58",
         "0.38945029588293395",
         "0.5857032957120019",
         "0.5148106825641113",
         "0.45887491694211047",
         "0.4968655078044983",
         "3",
         "3",
         "0.87545684"
        ],
        [
         "59",
         "0.4505339894809509",
         "0.38945029588293395",
         "0.5857032957120019",
         "0.5148106825641113",
         "0.45887491694211047",
         "4",
         "4",
         "0.51042234"
        ]
       ],
       "shape": {
        "columns": 8,
        "rows": 10
       }
      },
      "text/html": [
       "<div>\n",
       "<style scoped>\n",
       "    .dataframe tbody tr th:only-of-type {\n",
       "        vertical-align: middle;\n",
       "    }\n",
       "\n",
       "    .dataframe tbody tr th {\n",
       "        vertical-align: top;\n",
       "    }\n",
       "\n",
       "    .dataframe thead th {\n",
       "        text-align: right;\n",
       "    }\n",
       "</style>\n",
       "<table border=\"1\" class=\"dataframe\">\n",
       "  <thead>\n",
       "    <tr style=\"text-align: right;\">\n",
       "      <th></th>\n",
       "      <th>lag_1</th>\n",
       "      <th>lag_2</th>\n",
       "      <th>lag_3</th>\n",
       "      <th>lag_4</th>\n",
       "      <th>lag_5</th>\n",
       "      <th>exog_2</th>\n",
       "      <th>exog_3</th>\n",
       "      <th>exog_1</th>\n",
       "    </tr>\n",
       "  </thead>\n",
       "  <tbody>\n",
       "    <tr>\n",
       "      <th>50</th>\n",
       "      <td>0.612895</td>\n",
       "      <td>0.519485</td>\n",
       "      <td>0.985560</td>\n",
       "      <td>0.483034</td>\n",
       "      <td>0.250455</td>\n",
       "      <td>0</td>\n",
       "      <td>0</td>\n",
       "      <td>0.120629</td>\n",
       "    </tr>\n",
       "    <tr>\n",
       "      <th>51</th>\n",
       "      <td>0.585703</td>\n",
       "      <td>0.612895</td>\n",
       "      <td>0.519485</td>\n",
       "      <td>0.985560</td>\n",
       "      <td>0.483034</td>\n",
       "      <td>1</td>\n",
       "      <td>1</td>\n",
       "      <td>0.826341</td>\n",
       "    </tr>\n",
       "    <tr>\n",
       "      <th>52</th>\n",
       "      <td>0.389450</td>\n",
       "      <td>0.585703</td>\n",
       "      <td>0.612895</td>\n",
       "      <td>0.519485</td>\n",
       "      <td>0.985560</td>\n",
       "      <td>2</td>\n",
       "      <td>2</td>\n",
       "      <td>0.603060</td>\n",
       "    </tr>\n",
       "    <tr>\n",
       "      <th>53</th>\n",
       "      <td>0.450534</td>\n",
       "      <td>0.389450</td>\n",
       "      <td>0.585703</td>\n",
       "      <td>0.612895</td>\n",
       "      <td>0.519485</td>\n",
       "      <td>3</td>\n",
       "      <td>3</td>\n",
       "      <td>0.545068</td>\n",
       "    </tr>\n",
       "    <tr>\n",
       "      <th>54</th>\n",
       "      <td>0.496866</td>\n",
       "      <td>0.450534</td>\n",
       "      <td>0.389450</td>\n",
       "      <td>0.585703</td>\n",
       "      <td>0.612895</td>\n",
       "      <td>4</td>\n",
       "      <td>4</td>\n",
       "      <td>0.342764</td>\n",
       "    </tr>\n",
       "    <tr>\n",
       "      <th>55</th>\n",
       "      <td>0.458875</td>\n",
       "      <td>0.496866</td>\n",
       "      <td>0.450534</td>\n",
       "      <td>0.389450</td>\n",
       "      <td>0.585703</td>\n",
       "      <td>0</td>\n",
       "      <td>0</td>\n",
       "      <td>0.304121</td>\n",
       "    </tr>\n",
       "    <tr>\n",
       "      <th>56</th>\n",
       "      <td>0.514811</td>\n",
       "      <td>0.458875</td>\n",
       "      <td>0.496866</td>\n",
       "      <td>0.450534</td>\n",
       "      <td>0.389450</td>\n",
       "      <td>1</td>\n",
       "      <td>1</td>\n",
       "      <td>0.417022</td>\n",
       "    </tr>\n",
       "    <tr>\n",
       "      <th>57</th>\n",
       "      <td>0.585703</td>\n",
       "      <td>0.514811</td>\n",
       "      <td>0.458875</td>\n",
       "      <td>0.496866</td>\n",
       "      <td>0.450534</td>\n",
       "      <td>2</td>\n",
       "      <td>2</td>\n",
       "      <td>0.681301</td>\n",
       "    </tr>\n",
       "    <tr>\n",
       "      <th>58</th>\n",
       "      <td>0.389450</td>\n",
       "      <td>0.585703</td>\n",
       "      <td>0.514811</td>\n",
       "      <td>0.458875</td>\n",
       "      <td>0.496866</td>\n",
       "      <td>3</td>\n",
       "      <td>3</td>\n",
       "      <td>0.875457</td>\n",
       "    </tr>\n",
       "    <tr>\n",
       "      <th>59</th>\n",
       "      <td>0.450534</td>\n",
       "      <td>0.389450</td>\n",
       "      <td>0.585703</td>\n",
       "      <td>0.514811</td>\n",
       "      <td>0.458875</td>\n",
       "      <td>4</td>\n",
       "      <td>4</td>\n",
       "      <td>0.510422</td>\n",
       "    </tr>\n",
       "  </tbody>\n",
       "</table>\n",
       "</div>"
      ],
      "text/plain": [
       "       lag_1     lag_2     lag_3     lag_4     lag_5 exog_2 exog_3    exog_1\n",
       "50  0.612895  0.519485  0.985560  0.483034  0.250455      0      0  0.120629\n",
       "51  0.585703  0.612895  0.519485  0.985560  0.483034      1      1  0.826341\n",
       "52  0.389450  0.585703  0.612895  0.519485  0.985560      2      2  0.603060\n",
       "53  0.450534  0.389450  0.585703  0.612895  0.519485      3      3  0.545068\n",
       "54  0.496866  0.450534  0.389450  0.585703  0.612895      4      4  0.342764\n",
       "55  0.458875  0.496866  0.450534  0.389450  0.585703      0      0  0.304121\n",
       "56  0.514811  0.458875  0.496866  0.450534  0.389450      1      1  0.417022\n",
       "57  0.585703  0.514811  0.458875  0.496866  0.450534      2      2  0.681301\n",
       "58  0.389450  0.585703  0.514811  0.458875  0.496866      3      3  0.875457\n",
       "59  0.450534  0.389450  0.585703  0.514811  0.458875      4      4  0.510422"
      ]
     },
     "execution_count": 21,
     "metadata": {},
     "output_type": "execute_result"
    }
   ],
   "source": [
    "results"
   ]
  },
  {
   "cell_type": "code",
   "execution_count": 23,
   "metadata": {},
   "outputs": [
    {
     "data": {
      "text/plain": [
       "array([[0.61289453, 0.51948512, 0.98555979, 0.48303426, 0.25045537,\n",
       "        0.        , 0.        , 0.12062867],\n",
       "       [0.5857033 , 0.61289453, 0.51948512, 0.98555979, 0.48303426,\n",
       "        1.        , 1.        , 0.8263408 ],\n",
       "       [0.3894503 , 0.5857033 , 0.61289453, 0.51948512, 0.98555979,\n",
       "        2.        , 2.        , 0.60306013],\n",
       "       [0.45053399, 0.3894503 , 0.5857033 , 0.61289453, 0.51948512,\n",
       "        3.        , 3.        , 0.54506801],\n",
       "       [0.49686551, 0.45053399, 0.3894503 , 0.5857033 , 0.61289453,\n",
       "        4.        , 4.        , 0.34276383],\n",
       "       [0.45887492, 0.49686551, 0.45053399, 0.3894503 , 0.5857033 ,\n",
       "        0.        , 0.        , 0.30412079],\n",
       "       [0.51481068, 0.45887492, 0.49686551, 0.45053399, 0.3894503 ,\n",
       "        1.        , 1.        , 0.41702221],\n",
       "       [0.5857033 , 0.51481068, 0.45887492, 0.49686551, 0.45053399,\n",
       "        2.        , 2.        , 0.68130077],\n",
       "       [0.3894503 , 0.5857033 , 0.51481068, 0.45887492, 0.49686551,\n",
       "        3.        , 3.        , 0.87545684],\n",
       "       [0.45053399, 0.3894503 , 0.5857033 , 0.51481068, 0.45887492,\n",
       "        4.        , 4.        , 0.51042234]])"
      ]
     },
     "execution_count": 23,
     "metadata": {},
     "output_type": "execute_result"
    }
   ],
   "source": [
    "results.to_numpy()"
   ]
  },
  {
   "cell_type": "code",
   "execution_count": 22,
   "metadata": {},
   "outputs": [
    {
     "data": {
      "application/vnd.microsoft.datawrangler.viewer.v0+json": {
       "columns": [
        {
         "name": "index",
         "rawType": "object",
         "type": "string"
        },
        {
         "name": "0",
         "rawType": "object",
         "type": "unknown"
        }
       ],
       "ref": "fd31c671-e6bf-429f-ad95-fcbc65926c7d",
       "rows": [
        [
         "lag_1",
         "float64"
        ],
        [
         "lag_2",
         "float64"
        ],
        [
         "lag_3",
         "float64"
        ],
        [
         "lag_4",
         "float64"
        ],
        [
         "lag_5",
         "float64"
        ],
        [
         "exog_2",
         "category"
        ],
        [
         "exog_3",
         "category"
        ],
        [
         "exog_1",
         "float64"
        ]
       ],
       "shape": {
        "columns": 1,
        "rows": 8
       }
      },
      "text/plain": [
       "lag_1      float64\n",
       "lag_2      float64\n",
       "lag_3      float64\n",
       "lag_4      float64\n",
       "lag_5      float64\n",
       "exog_2    category\n",
       "exog_3    category\n",
       "exog_1     float64\n",
       "dtype: object"
      ]
     },
     "execution_count": 22,
     "metadata": {},
     "output_type": "execute_result"
    }
   ],
   "source": [
    "results.dtypes"
   ]
  },
  {
   "cell_type": "code",
   "execution_count": 13,
   "metadata": {},
   "outputs": [
    {
     "name": "stdout",
     "output_type": "stream",
     "text": [
      "id          int64\n",
      "type     category\n",
      "value     float64\n",
      "dtype: object\n",
      "id          int64\n",
      "type     category\n",
      "value     float64\n",
      "dtype: object\n",
      "{'A': 0, 'B': 1}\n",
      "{'A': 0, 'B': 1}\n"
     ]
    }
   ],
   "source": [
    "df1 = pd.DataFrame({\n",
    "    'id': [1, 2, 3],\n",
    "    'type': ['A', 'B', 'A'],\n",
    "    'value': [10.5, 20.3, 30.7]\n",
    "})\n",
    "df1['type'] = df1['type'].astype('category')\n",
    "\n",
    "df2 = pd.DataFrame({\n",
    "    'id': ['1', '2', '3'],             \n",
    "    'type': ['A', 'B', 'A'],           \n",
    "    'value': ['10.5', '20.3', '30.7']\n",
    "})\n",
    "df2['type'] = df2['type'].astype('category')\n",
    "\n",
    "print(df1.dtypes)\n",
    "print(df_2_aligned.dtypes)\n",
    "print({cat: code for code, cat in enumerate(df1['type'].cat.categories)})\n",
    "print({cat: code for code, cat in enumerate(df_2_aligned['type'].cat.categories)})"
   ]
  },
  {
   "cell_type": "code",
   "execution_count": 14,
   "metadata": {},
   "outputs": [
    {
     "data": {
      "application/vnd.microsoft.datawrangler.viewer.v0+json": {
       "columns": [
        {
         "name": "index",
         "rawType": "object",
         "type": "string"
        },
        {
         "name": "0",
         "rawType": "object",
         "type": "unknown"
        }
       ],
       "ref": "2ac0be08-a85d-49b4-96dc-bac669bdd742",
       "rows": [
        [
         "id",
         "int64"
        ],
        [
         "type",
         "category"
        ],
        [
         "value",
         "float64"
        ]
       ],
       "shape": {
        "columns": 1,
        "rows": 3
       }
      },
      "text/plain": [
       "id          int64\n",
       "type     category\n",
       "value     float64\n",
       "dtype: object"
      ]
     },
     "execution_count": 14,
     "metadata": {},
     "output_type": "execute_result"
    }
   ],
   "source": [
    "df1.dtypes"
   ]
  },
  {
   "cell_type": "code",
   "execution_count": 15,
   "metadata": {},
   "outputs": [
    {
     "data": {
      "application/vnd.microsoft.datawrangler.viewer.v0+json": {
       "columns": [
        {
         "name": "index",
         "rawType": "object",
         "type": "string"
        },
        {
         "name": "0",
         "rawType": "object",
         "type": "unknown"
        }
       ],
       "ref": "246883ab-caef-4a2c-98c3-455a945113b1",
       "rows": [
        [
         "id",
         "object"
        ],
        [
         "type",
         "category"
        ],
        [
         "value",
         "object"
        ]
       ],
       "shape": {
        "columns": 1,
        "rows": 3
       }
      },
      "text/plain": [
       "id         object\n",
       "type     category\n",
       "value      object\n",
       "dtype: object"
      ]
     },
     "execution_count": 15,
     "metadata": {},
     "output_type": "execute_result"
    }
   ],
   "source": [
    "pd.concat([df1, df2]).dtypes"
   ]
  },
  {
   "cell_type": "code",
   "execution_count": 8,
   "metadata": {},
   "outputs": [
    {
     "data": {
      "application/vnd.microsoft.datawrangler.viewer.v0+json": {
       "columns": [
        {
         "name": "index",
         "rawType": "object",
         "type": "string"
        },
        {
         "name": "0",
         "rawType": "object",
         "type": "unknown"
        }
       ],
       "ref": "1969b291-bcfc-41b4-ac60-7fd8a6667e62",
       "rows": [
        [
         "lag_1",
         "float64"
        ],
        [
         "lag_2",
         "float64"
        ],
        [
         "lag_3",
         "float64"
        ],
        [
         "lag_4",
         "float64"
        ],
        [
         "lag_5",
         "float64"
        ],
        [
         "l1",
         "int64"
        ],
        [
         "l2",
         "int64"
        ],
        [
         "exog",
         "category"
        ]
       ],
       "shape": {
        "columns": 1,
        "rows": 8
       }
      },
      "text/plain": [
       "lag_1     float64\n",
       "lag_2     float64\n",
       "lag_3     float64\n",
       "lag_4     float64\n",
       "lag_5     float64\n",
       "l1          int64\n",
       "l2          int64\n",
       "exog     category\n",
       "dtype: object"
      ]
     },
     "execution_count": 8,
     "metadata": {},
     "output_type": "execute_result"
    }
   ],
   "source": [
    "pd.DataFrame(\n",
    "        data = np.array([[4., 3., 2., 1., 0.],\n",
    "                            [5., 4., 3., 2., 1.],\n",
    "                            [6., 5., 4., 3., 2.],\n",
    "                            [7., 6., 5., 4., 3.],\n",
    "                            [8., 7., 6., 5., 4.],\n",
    "                            [4., 3., 2., 1., 0.],\n",
    "                            [5., 4., 3., 2., 1.],\n",
    "                            [6., 5., 4., 3., 2.],\n",
    "                            [7., 6., 5., 4., 3.],\n",
    "                            [8., 7., 6., 5., 4.]]),\n",
    "        index   = pd.Index([5, 6, 7, 8, 9, 5, 6, 7, 8, 9]),\n",
    "        columns = ['lag_1', 'lag_2', 'lag_3', 'lag_4', 'lag_5']\n",
    "    ).assign(\n",
    "        l1   = [1.] * 5 + [0.] * 5, \n",
    "        l2   = [0.] * 5 + [1.] * 5,\n",
    "        exog = pd.Categorical([5, 6, 7, 8, 9] * 2, categories=range(10))\n",
    "    ).astype({'l1': int, 'l2': int}).dtypes"
   ]
  },
  {
   "cell_type": "code",
   "execution_count": 10,
   "metadata": {},
   "outputs": [
    {
     "data": {
      "text/html": [
       "<pre style=\"white-space:pre;overflow-x:auto;line-height:normal;font-family:Menlo,'DejaVu Sans Mono',consolas,'Courier New',monospace\"><span style=\"color: #ffaf00; text-decoration-color: #ffaf00\">╭───────────────────────────── DataTransformationWarning ──────────────────────────────╮</span>\n",
       "<span style=\"color: #ffaf00; text-decoration-color: #ffaf00\">│</span> When using a linear model, it is recommended to use a transformer_series to ensure   <span style=\"color: #ffaf00; text-decoration-color: #ffaf00\">│</span>\n",
       "<span style=\"color: #ffaf00; text-decoration-color: #ffaf00\">│</span> all series are in the same scale. You can use, for example, a `StandardScaler` from  <span style=\"color: #ffaf00; text-decoration-color: #ffaf00\">│</span>\n",
       "<span style=\"color: #ffaf00; text-decoration-color: #ffaf00\">│</span> sklearn.preprocessing.                                                               <span style=\"color: #ffaf00; text-decoration-color: #ffaf00\">│</span>\n",
       "<span style=\"color: #ffaf00; text-decoration-color: #ffaf00\">│</span>                                                                                      <span style=\"color: #ffaf00; text-decoration-color: #ffaf00\">│</span>\n",
       "<span style=\"color: #ffaf00; text-decoration-color: #ffaf00\">│</span> Category : DataTransformationWarning                                                 <span style=\"color: #ffaf00; text-decoration-color: #ffaf00\">│</span>\n",
       "<span style=\"color: #ffaf00; text-decoration-color: #ffaf00\">│</span> Location :                                                                           <span style=\"color: #ffaf00; text-decoration-color: #ffaf00\">│</span>\n",
       "<span style=\"color: #ffaf00; text-decoration-color: #ffaf00\">│</span> c:\\Users\\jaesc2\\GitHub\\skforecast\\skforecast\\recursive\\_forecaster_recursive_multise <span style=\"color: #ffaf00; text-decoration-color: #ffaf00\">│</span>\n",
       "<span style=\"color: #ffaf00; text-decoration-color: #ffaf00\">│</span> ries.py:471                                                                          <span style=\"color: #ffaf00; text-decoration-color: #ffaf00\">│</span>\n",
       "<span style=\"color: #ffaf00; text-decoration-color: #ffaf00\">│</span> Suppress : warnings.simplefilter('ignore', category=DataTransformationWarning)       <span style=\"color: #ffaf00; text-decoration-color: #ffaf00\">│</span>\n",
       "<span style=\"color: #ffaf00; text-decoration-color: #ffaf00\">╰──────────────────────────────────────────────────────────────────────────────────────╯</span>\n",
       "</pre>\n"
      ],
      "text/plain": [
       "\u001b[38;5;214m╭─\u001b[0m\u001b[38;5;214m────────────────────────────\u001b[0m\u001b[38;5;214m DataTransformationWarning \u001b[0m\u001b[38;5;214m─────────────────────────────\u001b[0m\u001b[38;5;214m─╮\u001b[0m\n",
       "\u001b[38;5;214m│\u001b[0m When using a linear model, it is recommended to use a transformer_series to ensure   \u001b[38;5;214m│\u001b[0m\n",
       "\u001b[38;5;214m│\u001b[0m all series are in the same scale. You can use, for example, a `StandardScaler` from  \u001b[38;5;214m│\u001b[0m\n",
       "\u001b[38;5;214m│\u001b[0m sklearn.preprocessing.                                                               \u001b[38;5;214m│\u001b[0m\n",
       "\u001b[38;5;214m│\u001b[0m                                                                                      \u001b[38;5;214m│\u001b[0m\n",
       "\u001b[38;5;214m│\u001b[0m Category : DataTransformationWarning                                                 \u001b[38;5;214m│\u001b[0m\n",
       "\u001b[38;5;214m│\u001b[0m Location :                                                                           \u001b[38;5;214m│\u001b[0m\n",
       "\u001b[38;5;214m│\u001b[0m c:\\Users\\jaesc2\\GitHub\\skforecast\\skforecast\\recursive\\_forecaster_recursive_multise \u001b[38;5;214m│\u001b[0m\n",
       "\u001b[38;5;214m│\u001b[0m ries.py:471                                                                          \u001b[38;5;214m│\u001b[0m\n",
       "\u001b[38;5;214m│\u001b[0m Suppress : warnings.simplefilter('ignore', category=DataTransformationWarning)       \u001b[38;5;214m│\u001b[0m\n",
       "\u001b[38;5;214m╰──────────────────────────────────────────────────────────────────────────────────────╯\u001b[0m\n"
      ]
     },
     "metadata": {},
     "output_type": "display_data"
    }
   ],
   "source": [
    "series = pd.DataFrame({'l1': pd.Series(np.arange(10, dtype=float)), \n",
    "                           'l2': pd.Series(np.arange(10, dtype=float))})\n",
    "exog = pd.Series(range(10), name='exog', dtype='category')\n",
    "\n",
    "forecaster = ForecasterRecursiveMultiSeries(LinearRegression(), lags=5,\n",
    "                                            encoding='onehot',\n",
    "                                            transformer_series=None)\n",
    "results = forecaster._create_train_X_y(series=series, exog=exog,\n",
    "                                        store_last_window=False)   "
   ]
  },
  {
   "cell_type": "code",
   "execution_count": 12,
   "metadata": {},
   "outputs": [
    {
     "data": {
      "application/vnd.microsoft.datawrangler.viewer.v0+json": {
       "columns": [
        {
         "name": "index",
         "rawType": "object",
         "type": "string"
        },
        {
         "name": "0",
         "rawType": "object",
         "type": "unknown"
        }
       ],
       "ref": "1e59e290-f8f2-41c5-877a-1b68e14bdb11",
       "rows": [
        [
         "lag_1",
         "float64"
        ],
        [
         "lag_2",
         "float64"
        ],
        [
         "lag_3",
         "float64"
        ],
        [
         "lag_4",
         "float64"
        ],
        [
         "lag_5",
         "float64"
        ],
        [
         "l1",
         "int64"
        ],
        [
         "l2",
         "int64"
        ],
        [
         "exog",
         "category"
        ]
       ],
       "shape": {
        "columns": 1,
        "rows": 8
       }
      },
      "text/plain": [
       "lag_1     float64\n",
       "lag_2     float64\n",
       "lag_3     float64\n",
       "lag_4     float64\n",
       "lag_5     float64\n",
       "l1          int64\n",
       "l2          int64\n",
       "exog     category\n",
       "dtype: object"
      ]
     },
     "execution_count": 12,
     "metadata": {},
     "output_type": "execute_result"
    }
   ],
   "source": [
    "results[0].dtypes"
   ]
  },
  {
   "cell_type": "code",
   "execution_count": 17,
   "metadata": {},
   "outputs": [
    {
     "data": {
      "application/vnd.microsoft.datawrangler.viewer.v0+json": {
       "columns": [
        {
         "name": "index",
         "rawType": "object",
         "type": "string"
        },
        {
         "name": "0",
         "rawType": "object",
         "type": "unknown"
        }
       ],
       "ref": "6e13e0a9-2a94-43e1-a04a-6047cf4f4261",
       "rows": [
        [
         "lag_1",
         "float64"
        ],
        [
         "lag_2",
         "float64"
        ],
        [
         "lag_3",
         "float64"
        ],
        [
         "lag_4",
         "float64"
        ],
        [
         "lag_5",
         "float64"
        ]
       ],
       "shape": {
        "columns": 1,
        "rows": 5
       }
      },
      "text/plain": [
       "lag_1    float64\n",
       "lag_2    float64\n",
       "lag_3    float64\n",
       "lag_4    float64\n",
       "lag_5    float64\n",
       "dtype: object"
      ]
     },
     "execution_count": 17,
     "metadata": {},
     "output_type": "execute_result"
    }
   ],
   "source": [
    "X_train = pd.DataFrame(\n",
    "    data = np.array([[4., 3., 2., 1., 0.],\n",
    "                        [5., 4., 3., 2., 1.],\n",
    "                        [6., 5., 4., 3., 2.],\n",
    "                        [7., 6., 5., 4., 3.],\n",
    "                        [8., 7., 6., 5., 4.],\n",
    "                        [4., 3., 2., 1., 0.],\n",
    "                        [5., 4., 3., 2., 1.],\n",
    "                        [6., 5., 4., 3., 2.],\n",
    "                        [7., 6., 5., 4., 3.],\n",
    "                        [8., 7., 6., 5., 4.]]),\n",
    "    index   = pd.Index([5, 6, 7, 8, 9, 5, 6, 7, 8, 9]),\n",
    "    columns = ['lag_1', 'lag_2', 'lag_3', 'lag_4', 'lag_5']\n",
    ")\n",
    "X_train.dtypes"
   ]
  },
  {
   "cell_type": "code",
   "execution_count": 19,
   "metadata": {},
   "outputs": [
    {
     "data": {
      "application/vnd.microsoft.datawrangler.viewer.v0+json": {
       "columns": [
        {
         "name": "index",
         "rawType": "object",
         "type": "string"
        },
        {
         "name": "0",
         "rawType": "object",
         "type": "unknown"
        }
       ],
       "ref": "70623030-75ba-48dd-b821-a7da9fe1323c",
       "rows": [
        [
         "lag_1",
         "int64"
        ],
        [
         "lag_2",
         "float64"
        ],
        [
         "lag_3",
         "float64"
        ],
        [
         "lag_4",
         "float64"
        ],
        [
         "lag_5",
         "float64"
        ]
       ],
       "shape": {
        "columns": 1,
        "rows": 5
       }
      },
      "text/plain": [
       "lag_1      int64\n",
       "lag_2    float64\n",
       "lag_3    float64\n",
       "lag_4    float64\n",
       "lag_5    float64\n",
       "dtype: object"
      ]
     },
     "execution_count": 19,
     "metadata": {},
     "output_type": "execute_result"
    }
   ],
   "source": [
    "X_train.astype({'lag_1': int}).dtypes"
   ]
  },
  {
   "cell_type": "code",
   "execution_count": null,
   "metadata": {},
   "outputs": [],
   "source": []
  }
 ],
 "metadata": {
  "kernelspec": {
   "display_name": "skforecast_py11_2",
   "language": "python",
   "name": "python3"
  },
  "language_info": {
   "codemirror_mode": {
    "name": "ipython",
    "version": 3
   },
   "file_extension": ".py",
   "mimetype": "text/x-python",
   "name": "python",
   "nbconvert_exporter": "python",
   "pygments_lexer": "ipython3",
   "version": "3.11.10"
  },
  "orig_nbformat": 4
 },
 "nbformat": 4,
 "nbformat_minor": 2
}
