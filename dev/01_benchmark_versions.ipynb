{
 "cells": [
  {
   "cell_type": "markdown",
   "metadata": {},
   "source": [
    "# Benchmarking skforecast\n",
    "\n",
    "This notebook benchmarks the performance (velocity) of the `skforecast` in its different versions and keeps track of the results."
   ]
  },
  {
   "cell_type": "code",
   "execution_count": 1,
   "metadata": {},
   "outputs": [
    {
     "name": "stdout",
     "output_type": "stream",
     "text": [
      "/home/joaquin/Documents/GitHub/skforecast\n"
     ]
    }
   ],
   "source": [
    "%load_ext autoreload\n",
    "%autoreload 2\n",
    "import sys\n",
    "from pathlib import Path\n",
    "path = str(Path.cwd().parent)\n",
    "print(path)\n",
    "sys.path.insert(1, path)"
   ]
  },
  {
   "cell_type": "code",
   "execution_count": 2,
   "metadata": {},
   "outputs": [],
   "source": [
    "# !pip install --upgrade numpy < 2.0 && \\\n",
    "# pip install --upgrade pandas && \\\n",
    "# pip install --upgrade scikit-learn && \\\n",
    "# !pip install skforecast==0.14.0"
   ]
  },
  {
   "cell_type": "code",
   "execution_count": 3,
   "metadata": {},
   "outputs": [],
   "source": [
    "# !pip install skforecast==0.15.1\n",
    "# !pip install skforecast==0.14.0\n",
    "# !pip install skforecast==0.13.0"
   ]
  },
  {
   "cell_type": "code",
   "execution_count": 4,
   "metadata": {},
   "outputs": [],
   "source": [
    "# Libraries\n",
    "# ==============================================================================\n",
    "import timeit\n",
    "import time\n",
    "import platform\n",
    "import joblib\n",
    "import os\n",
    "import sys\n",
    "import warnings\n",
    "import hashlib\n",
    "import inspect\n",
    "import psutil\n",
    "import sklearn\n",
    "import numpy as np\n",
    "import pandas as pd\n",
    "import lightgbm\n",
    "import skforecast\n",
    "import plotly.express as px\n",
    "import plotly.graph_objects as go\n",
    "from packaging.version import parse as parse_version\n",
    "from plotly.express.colors import qualitative\n",
    "if skforecast.__version__ >= '0.14.0':\n",
    "    from skforecast.recursive import ForecasterRecursive, ForecasterRecursiveMultiSeries\n",
    "    from skforecast.direct import ForecasterDirect, ForecasterDirectMultiVariate\n",
    "else:\n",
    "    from skforecast.ForecasterAutoreg import ForecasterAutoreg\n",
    "    from skforecast.ForecasterAutoregMultiSeries import ForecasterAutoregMultiSeries\n",
    "    from skforecast.ForecasterAutoregDirect import ForecasterAutoregDirect\n",
    "    from skforecast.ForecasterAutoregMultiVariate import ForecasterAutoregMultiVariate\n",
    "from skforecast.utils import *\n",
    "from sklearn.preprocessing import StandardScaler\n",
    "from sklearn.linear_model import LinearRegression\n",
    "from lightgbm import LGBMRegressor"
   ]
  },
  {
   "cell_type": "code",
   "execution_count": 5,
   "metadata": {},
   "outputs": [
    {
     "name": "stdout",
     "output_type": "stream",
     "text": [
      "Python version: 3.12.9\n",
      "skforecast version: 0.16.0\n",
      "scikit-learn version: 1.6.1\n",
      "pandas version: 2.2.3\n",
      "numpy version: 2.2.5\n",
      "Computer network name: joaquin-HP-ProBook-440-G6\n",
      "Processor type: x86_64\n",
      "Platform type: Linux-6.11.0-21-generic-x86_64-with-glibc2.39\n",
      "Operating system: Linux\n",
      "Operating system release: 6.11.0-21-generic\n",
      "Operating system version: #21~24.04.1-Ubuntu SMP PREEMPT_DYNAMIC Mon Feb 24 16:52:15 UTC 2\n",
      "Number of physical cores: 4\n",
      "Number of logical cores: 8\n"
     ]
    }
   ],
   "source": [
    "print(f\"Python version: {platform.python_version()}\")\n",
    "print(f\"skforecast version: {skforecast.__version__}\")\n",
    "print(f\"scikit-learn version: {sklearn.__version__}\")\n",
    "print(f\"pandas version: {pd.__version__}\")\n",
    "print(f\"numpy version: {np.__version__}\")\n",
    "print(f\"Computer network name: {platform.node()}\")\n",
    "print(f\"Processor type: {platform.processor()}\")\n",
    "print(f\"Platform type: {platform.platform()}\")\n",
    "print(f\"Operating system: {platform.system()}\")\n",
    "print(f\"Operating system release: {platform.release()}\")\n",
    "print(f\"Operating system version: {platform.version()}\")\n",
    "print(f\"Number of physical cores: {psutil.cpu_count(logical=False)}\")\n",
    "print(f\"Number of logical cores: {psutil.cpu_count(logical=True)}\")"
   ]
  },
  {
   "cell_type": "code",
   "execution_count": 6,
   "metadata": {},
   "outputs": [],
   "source": [
    "# Becnchmarking functions\n",
    "# ==============================================================================\n",
    "class BenchmarkRunner:\n",
    "    def __init__(self, output_dir=\"benchmarks\", repeat=10):\n",
    "        self.output_dir = output_dir\n",
    "        self.repeat = repeat\n",
    "        os.makedirs(self.output_dir, exist_ok=True)\n",
    "\n",
    "    def get_system_info(self):\n",
    "        return {\n",
    "            'datetime': pd.Timestamp.now(),\n",
    "            'python_version': platform.python_version(),\n",
    "            'skforecast_version': skforecast.__version__,\n",
    "            'numpy_version': np.__version__,\n",
    "            'pandas_version': pd.__version__,\n",
    "            'sklearn_version': sklearn.__version__,\n",
    "            'lightgbm_version': lightgbm.__version__,\n",
    "            'platform': platform.platform(),\n",
    "            'processor': platform.processor(),\n",
    "            'cpu_count': psutil.cpu_count(logical=True),\n",
    "            'memory_gb': round(psutil.virtual_memory().total / 1e9, 2),\n",
    "        }\n",
    "\n",
    "    def hash_function_code(self, func):\n",
    "        src = inspect.getsource(func)\n",
    "        return hashlib.md5(src.encode()).hexdigest()\n",
    "\n",
    "    # def time_function_timeit(self, func, *args, **kwargs):\n",
    "    #     try:\n",
    "    #         timer = timeit.Timer(lambda: func(*args, **kwargs))\n",
    "    #         times = timer.repeat(repeat=self.repeat, number=1)\n",
    "    #         return {\n",
    "    #             'avg_time': np.mean(times),\n",
    "    #             'std_dev': np.std(times)\n",
    "    #         }\n",
    "    #     except Exception as e:\n",
    "    #         warnings.warn(f\"The function {func.__name__} raised an exception: {e}\")\n",
    "    #         return {\n",
    "    #             'avg_time': float('nan'),\n",
    "    #             'std_dev': float('nan')\n",
    "    #         }\n",
    "\n",
    "    def time_function(self, func, *args, **kwargs):\n",
    "        times = []\n",
    "        try:\n",
    "            for _ in range(self.repeat):\n",
    "                start = time.perf_counter()\n",
    "                func(*args, **kwargs)\n",
    "                end = time.perf_counter()\n",
    "                times.append(end - start)\n",
    "\n",
    "            return {\n",
    "                'avg_time': np.mean(times),\n",
    "                'std_dev': np.std(times),\n",
    "            }\n",
    "        except Exception as e:\n",
    "            warnings.warn(f\"The function {func.__name__} raised an exception: {e}\")\n",
    "            return {\n",
    "                'avg_time': np.nan,\n",
    "                'std_dev': np.nan\n",
    "            }\n",
    "\n",
    "    def benchmark(self, func, forecaster=None, allow_repeated_execution=True, *args, **kwargs):\n",
    "        forecaster_name = type(forecaster).__name__ if forecaster else np.nan\n",
    "        regressor_name = type(forecaster.regressor).__name__ if forecaster else np.nan\n",
    "        func_name = func.__name__\n",
    "        print(f\"Benchmarking function: {func_name} with skforecast version {skforecast.__version__}\")\n",
    "        hash_code = self.hash_function_code(func)\n",
    "        result_file = os.path.join(self.output_dir, \"benchmark.joblib\")\n",
    "\n",
    "        system_info = self.get_system_info()\n",
    "        timing = self.time_function(func, *args, **kwargs)\n",
    "\n",
    "        entry = {\n",
    "            'forecaster_name': forecaster_name,\n",
    "            'regressor_name': regressor_name,\n",
    "            'function_name': func_name,\n",
    "            'function_hash': hash_code,\n",
    "            'run_time_avg': timing['avg_time'],\n",
    "            'run_time_std_dev': timing['std_dev'],\n",
    "            **system_info\n",
    "        }\n",
    "\n",
    "        df_new = pd.DataFrame([entry])\n",
    "\n",
    "        if os.path.exists(result_file):\n",
    "            df_existing = joblib.load(result_file)\n",
    "\n",
    "            if not allow_repeated_execution:\n",
    "                cols_to_ignore = ['run_time_avg', 'run_time_std_dev', 'datetime']\n",
    "                mask = (\n",
    "                    df_existing.drop(columns = cols_to_ignore)\n",
    "                    .eq(df_new.drop(columns = cols_to_ignore).loc[0, :])\n",
    "                    .all(axis=1)\n",
    "                )\n",
    "\n",
    "                if mask.any():\n",
    "                    warnings.warn(\"This benchmark already exists with the same hash and system info. Skipping save.\")\n",
    "                    return df_existing\n",
    "\n",
    "            df_combined = pd.concat([df_existing, df_new], ignore_index=True)\n",
    "            joblib.dump(df_combined, result_file)\n",
    "            return df_combined\n",
    "        else:\n",
    "            joblib.dump(df_new, result_file)\n",
    "            return df_new\n",
    "\n",
    "def plot_benchmark_results(df, function_name):\n",
    "    \"\"\"\n",
    "    Plot benchmark results with jittered strip points and per-point standard deviation error bars,\n",
    "    with error bars matching point colors.\n",
    "    \"\"\"\n",
    "\n",
    "    np.random.seed(42164)\n",
    "    sorted_versions = sorted(df['skforecast_version'].unique(), key=parse_version)\n",
    "    df['skforecast_version'] = pd.Categorical(df['skforecast_version'], categories=sorted_versions, ordered=True)\n",
    "    df = df.sort_values(\"skforecast_version\")\n",
    "    version_to_num = {v: i for i, v in enumerate(sorted_versions)}\n",
    "    df['x_jittered'] = df['skforecast_version'].map(version_to_num).astype(float) + np.random.uniform(-0.05, 0.05, size=len(df))\n",
    "    version_colors = {v: qualitative.Plotly[i % len(qualitative.Plotly)] for i, v in enumerate(sorted_versions)}\n",
    "\n",
    "    fig = go.Figure()\n",
    "    for version in sorted_versions:\n",
    "        sub_df = df[df['skforecast_version'] == version]\n",
    "        fig.add_trace(\n",
    "            go.Scatter(\n",
    "                x=sub_df['x_jittered'],\n",
    "                y=sub_df['run_time_avg'],\n",
    "                mode='markers',\n",
    "                marker=dict(size=10, color=version_colors[version], opacity=0.7),\n",
    "                error_y=dict(\n",
    "                    type='data',\n",
    "                    array=sub_df['run_time_std_dev'],\n",
    "                    visible=True,\n",
    "                    color=version_colors[version],  # color matches marker\n",
    "                    thickness=1.5,\n",
    "                    width=5\n",
    "                ),\n",
    "                name=f'Run time - {version}',\n",
    "                hovertemplate=f\"Version: {version}<br>Runtime: %{{y:.2f}}s<extra></extra>\",\n",
    "                showlegend=True\n",
    "            )\n",
    "        )\n",
    "    medians = df.groupby('skforecast_version', observed=True)['run_time_avg'].median().reset_index()\n",
    "    medians['x_center'] = medians['skforecast_version'].map(version_to_num)\n",
    "    fig.add_trace(\n",
    "        go.Scatter(\n",
    "            x=medians['x_center'],\n",
    "            y=medians['run_time_avg'],\n",
    "            mode='lines+markers',\n",
    "            line=dict(color='black', width=2),\n",
    "            marker=dict(size=8, color='black'),\n",
    "            name='Median (per version)'\n",
    "        )\n",
    "    )\n",
    "    fig.update_layout(\n",
    "        title=f\"Execution time of {function_name}\",\n",
    "        xaxis=dict(\n",
    "            tickmode='array',\n",
    "            tickvals=list(version_to_num.values()),\n",
    "            ticktext=list(version_to_num.keys()),\n",
    "            title='skforecast version',\n",
    "            tickangle=-45\n",
    "        ),\n",
    "        yaxis_title='Execution time (seconds)',\n",
    "        showlegend=True\n",
    "    )\n",
    "\n",
    "    fig.show()\n",
    "\n"
   ]
  },
  {
   "cell_type": "markdown",
   "metadata": {},
   "source": [
    "# ForecasterRecursiveMultiSeries"
   ]
  },
  {
   "cell_type": "code",
   "execution_count": 7,
   "metadata": {},
   "outputs": [],
   "source": [
    "# Mock data for benchmarking\n",
    "# ==========================================================\n",
    "n_series = 600\n",
    "len_series = 2000\n",
    "series_dict = {}\n",
    "rng = np.random.default_rng(321)\n",
    "for i in range(n_series):\n",
    "    series_dict[f'series_{i}'] = pd.Series(\n",
    "        data = rng.normal(loc=20, scale=5, size=len_series),\n",
    "        index=pd.date_range(\n",
    "            start='2010-01-01',\n",
    "            periods=len_series,\n",
    "            freq='h'\n",
    "        ),\n",
    "        name=f'series_{i}'\n",
    "    )\n",
    "series_dataframe = pd.DataFrame(series_dict, index=series_dict['series_0'].index)\n",
    "\n",
    "exog_dict = {}\n",
    "rng = np.random.default_rng(321)\n",
    "for k in series_dict.keys():\n",
    "    exog = pd.DataFrame(\n",
    "            index=series_dict[k].index\n",
    "            )\n",
    "    exog['day_of_week'] = exog.index.dayofweek\n",
    "    exog['week_of_year'] = exog.index.isocalendar().week.astype(int)\n",
    "    exog['month'] = exog.index.month\n",
    "    exog_dict[k] = exog\n",
    "\n",
    "\n",
    "exog_dict_prediction = {}\n",
    "for k in series_dict.keys():\n",
    "    exog = pd.DataFrame(\n",
    "            index=pd.date_range(\n",
    "                start=series_dict[k].index.max() + pd.Timedelta(hours=1),\n",
    "                periods=100,\n",
    "                freq='h'\n",
    "            )\n",
    "            )\n",
    "    exog['day_of_week'] = exog.index.dayofweek\n",
    "    exog['week_of_year'] = exog.index.isocalendar().week.astype(int)\n",
    "    exog['month'] = exog.index.month\n",
    "    exog_dict_prediction[k] = exog"
   ]
  },
  {
   "cell_type": "code",
   "execution_count": 8,
   "metadata": {},
   "outputs": [
    {
     "name": "stdout",
     "output_type": "stream",
     "text": [
      "Benchmarking function: ForecasterRecursiveMultiSeries_fit_series_is_dict_exog_is_dict with skforecast version 0.16.0\n",
      "Benchmarking function: ForecasterRecursiveMultiSeries__create_train_X_y_series_is_dict_exog_is_dict with skforecast version 0.16.0\n",
      "Benchmarking function: ForecasterRecursiveMultiSeries_fit_series_is_dataframe_no_exog with skforecast version 0.16.0\n",
      "Benchmarking function: ForecasterRecursiveMultiSeries__create_train_X_y_series_is_dataframe_no_exog with skforecast version 0.16.0\n",
      "Benchmarking function: ForecasterRecursiveMultiSeries__create_train_X_y_single_series with skforecast version 0.16.0\n",
      "Benchmarking function: ForecasterRecursiveMultiSeries_predict_exog_is_dict with skforecast version 0.16.0\n",
      "Benchmarking function: ForecasterRecursiveMultiSeries__create_predict_inputs_exog_is_dict with skforecast version 0.16.0\n",
      "Benchmarking function: ForecasterRecursiveMultiSeries__check_predict_inputs with skforecast version 0.16.0\n"
     ]
    }
   ],
   "source": [
    "# Benchmarking speed ForecasterRecursiveMultiSeries\n",
    "# ==============================================================================\n",
    "regressor = LGBMRegressor(random_state=8520, verbose=-1)\n",
    "# regressor = LinearRegression()\n",
    "if skforecast.__version__ >= '0.14.0':\n",
    "    forecaster = ForecasterRecursiveMultiSeries(\n",
    "        regressor=regressor,\n",
    "        lags=50,\n",
    "        transformer_series=StandardScaler(),\n",
    "        transformer_exog=StandardScaler(),\n",
    "        encoding=\"ordinal\"\n",
    "    )\n",
    "else:\n",
    "     forecaster = ForecasterAutoregMultiSeries(\n",
    "        regressor=regressor,\n",
    "        lags=50,\n",
    "        transformer_series=StandardScaler(),\n",
    "        transformer_exog=StandardScaler(),\n",
    "        encoding=\"ordinal\"\n",
    "    )\n",
    "\n",
    "def ForecasterRecursiveMultiSeries_fit_series_is_dict_exog_is_dict():\n",
    "    forecaster.fit(series=series_dict, exog=exog_dict)\n",
    "\n",
    "def ForecasterRecursiveMultiSeries__create_train_X_y_series_is_dict_exog_is_dict():\n",
    "    forecaster._create_train_X_y(series=series_dict, exog=exog_dict)\n",
    "\n",
    "def ForecasterRecursiveMultiSeries_fit_series_is_dataframe_no_exog():\n",
    "    forecaster.fit(series=series_dataframe)\n",
    "\n",
    "def ForecasterRecursiveMultiSeries__create_train_X_y_series_is_dataframe_no_exog():\n",
    "    forecaster._create_train_X_y(series=series_dataframe)\n",
    "\n",
    "def ForecasterRecursiveMultiSeries__create_train_X_y_single_series():\n",
    "    _ = forecaster._create_train_X_y_single_series(\n",
    "            y = series_dict['series_0'],\n",
    "            exog = exog_dict['series_0'],\n",
    "            ignore_exog = False,\n",
    "        )\n",
    "\n",
    "def ForecasterRecursiveMultiSeries_predict_exog_is_dict():\n",
    "    forecaster.predict(steps=100, exog=exog_dict_prediction, suppress_warnings=True)\n",
    "\n",
    "def ForecasterRecursiveMultiSeries__create_predict_inputs_exog_is_dict():\n",
    "    _ = forecaster._create_predict_inputs(\n",
    "            steps         = 100,\n",
    "            exog         = exog_dict_prediction,\n",
    "            check_inputs = True\n",
    "        )\n",
    "\n",
    "def ForecasterRecursiveMultiSeries__check_predict_inputs():\n",
    "    check_predict_input(\n",
    "        forecaster_name  = type(forecaster).__name__,\n",
    "        steps            = 100,\n",
    "        is_fitted        = forecaster.is_fitted,\n",
    "        exog_in_         = forecaster.exog_in_,\n",
    "        index_type_      = forecaster.index_type_,\n",
    "        index_freq_      = forecaster.index_freq_,\n",
    "        window_size      = forecaster.window_size,\n",
    "        last_window      = pd.DataFrame(forecaster.last_window_),\n",
    "        exog             = exog_dict_prediction,\n",
    "        exog_type_in_    = forecaster.exog_type_in_,\n",
    "        exog_names_in_   = forecaster.exog_names_in_,\n",
    "        interval         = None,\n",
    "        levels           = forecaster.series_names_in_,\n",
    "        series_names_in_ = forecaster.series_names_in_,\n",
    "        encoding         = forecaster.encoding\n",
    "    )\n",
    "\n",
    "\n",
    "runner = BenchmarkRunner(repeat=5, output_dir=\"benchmarks\")\n",
    "_ = runner.benchmark(ForecasterRecursiveMultiSeries_fit_series_is_dict_exog_is_dict, forecaster= forecaster)\n",
    "_ = runner.benchmark(ForecasterRecursiveMultiSeries__create_train_X_y_series_is_dict_exog_is_dict, forecaster= forecaster)\n",
    "_ = runner.benchmark(ForecasterRecursiveMultiSeries_fit_series_is_dataframe_no_exog, forecaster= forecaster)\n",
    "_ = runner.benchmark(ForecasterRecursiveMultiSeries__create_train_X_y_series_is_dataframe_no_exog, forecaster= forecaster)\n",
    "forecaster.fit(series=series_dict, exog=exog_dict)\n",
    "_ = runner.benchmark(ForecasterRecursiveMultiSeries__create_train_X_y_single_series, forecaster= forecaster)\n",
    "_ = runner.benchmark(ForecasterRecursiveMultiSeries_predict_exog_is_dict, forecaster= forecaster)\n",
    "_ = runner.benchmark(ForecasterRecursiveMultiSeries__create_predict_inputs_exog_is_dict, forecaster= forecaster)\n",
    "_ = runner.benchmark(ForecasterRecursiveMultiSeries__check_predict_inputs, forecaster= forecaster)"
   ]
  },
  {
   "cell_type": "code",
   "execution_count": 9,
   "metadata": {},
   "outputs": [
    {
     "data": {
      "application/vnd.microsoft.datawrangler.viewer.v0+json": {
       "columns": [
        {
         "name": "index",
         "rawType": "int64",
         "type": "integer"
        },
        {
         "name": "forecaster_name",
         "rawType": "object",
         "type": "string"
        },
        {
         "name": "regressor_name",
         "rawType": "object",
         "type": "string"
        },
        {
         "name": "function_name",
         "rawType": "object",
         "type": "string"
        },
        {
         "name": "function_hash",
         "rawType": "object",
         "type": "string"
        },
        {
         "name": "run_time_avg",
         "rawType": "float64",
         "type": "float"
        },
        {
         "name": "run_time_std_dev",
         "rawType": "float64",
         "type": "float"
        },
        {
         "name": "datetime",
         "rawType": "datetime64[ns]",
         "type": "datetime"
        },
        {
         "name": "python_version",
         "rawType": "object",
         "type": "string"
        },
        {
         "name": "skforecast_version",
         "rawType": "object",
         "type": "string"
        },
        {
         "name": "numpy_version",
         "rawType": "object",
         "type": "string"
        },
        {
         "name": "pandas_version",
         "rawType": "object",
         "type": "string"
        },
        {
         "name": "sklearn_version",
         "rawType": "object",
         "type": "string"
        },
        {
         "name": "lightgbm_version",
         "rawType": "object",
         "type": "string"
        },
        {
         "name": "platform",
         "rawType": "object",
         "type": "string"
        },
        {
         "name": "processor",
         "rawType": "object",
         "type": "string"
        },
        {
         "name": "cpu_count",
         "rawType": "int64",
         "type": "integer"
        },
        {
         "name": "memory_gb",
         "rawType": "float64",
         "type": "float"
        }
       ],
       "conversionMethod": "pd.DataFrame",
       "ref": "b944980f-dce1-4551-acbf-757351aaa0f2",
       "rows": [
        [
         "0",
         "ForecasterRecursiveMultiSeries",
         "LGBMRegressor",
         "ForecasterRecursiveMultiSeries_fit_series_is_dict_exog_is_dict",
         "63b606a379874ae9f340ba4fe592d695",
         "12.293676907599728",
         "0.4299464580616479",
         "2025-04-23 15:03:26.238942",
         "3.12.9",
         "0.16.0",
         "2.2.5",
         "2.2.3",
         "1.6.1",
         "4.6.0",
         "Linux-6.11.0-21-generic-x86_64-with-glibc2.39",
         "x86_64",
         "8",
         "16.64"
        ],
        [
         "12",
         "ForecasterRecursiveMultiSeries",
         "LGBMRegressor",
         "ForecasterRecursiveMultiSeries_fit_series_is_dict_exog_is_dict",
         "63b606a379874ae9f340ba4fe592d695",
         "12.290554184400388",
         "0.7850762426670903",
         "2025-04-23 15:09:20.254703",
         "3.12.9",
         "0.15.1",
         "2.2.5",
         "2.2.3",
         "1.6.1",
         "4.6.0",
         "Linux-6.11.0-21-generic-x86_64-with-glibc2.39",
         "x86_64",
         "8",
         "16.64"
        ],
        [
         "24",
         "ForecasterRecursiveMultiSeries",
         "LGBMRegressor",
         "ForecasterRecursiveMultiSeries_fit_series_is_dict_exog_is_dict",
         "63b606a379874ae9f340ba4fe592d695",
         "11.181269412600159",
         "0.5775651531339552",
         "2025-04-23 15:13:23.496449",
         "3.12.9",
         "0.14.0",
         "2.2.5",
         "2.2.3",
         "1.6.1",
         "4.6.0",
         "Linux-6.11.0-21-generic-x86_64-with-glibc2.39",
         "x86_64",
         "8",
         "16.64"
        ],
        [
         "36",
         "ForecasterAutoregMultiSeries",
         "LGBMRegressor",
         "ForecasterRecursiveMultiSeries_fit_series_is_dict_exog_is_dict",
         "63b606a379874ae9f340ba4fe592d695",
         "12.332074893800382",
         "1.0017813265230584",
         "2025-04-23 15:25:24.855452",
         "3.12.9",
         "0.13.0",
         "2.2.5",
         "2.2.3",
         "1.6.1",
         "4.6.0",
         "Linux-6.11.0-21-generic-x86_64-with-glibc2.39",
         "x86_64",
         "8",
         "16.64"
        ],
        [
         "48",
         "ForecasterAutoregMultiSeries",
         "LGBMRegressor",
         "ForecasterRecursiveMultiSeries_fit_series_is_dict_exog_is_dict",
         "63b606a379874ae9f340ba4fe592d695",
         "12.542493203600316",
         "0.606812767217526",
         "2025-04-23 15:34:44.825479",
         "3.12.9",
         "0.13.0",
         "2.2.5",
         "2.2.3",
         "1.6.1",
         "4.6.0",
         "Linux-6.11.0-21-generic-x86_64-with-glibc2.39",
         "x86_64",
         "8",
         "16.64"
        ],
        [
         "68",
         "ForecasterRecursiveMultiSeries",
         "LGBMRegressor",
         "ForecasterRecursiveMultiSeries_fit_series_is_dict_exog_is_dict",
         "63b606a379874ae9f340ba4fe592d695",
         "10.987335508199612",
         "0.3966322141252035",
         "2025-04-23 15:54:09.384976",
         "3.12.9",
         "0.14.0",
         "2.2.5",
         "2.2.3",
         "1.6.1",
         "4.6.0",
         "Linux-6.11.0-21-generic-x86_64-with-glibc2.39",
         "x86_64",
         "8",
         "16.64"
        ],
        [
         "80",
         "ForecasterRecursiveMultiSeries",
         "LGBMRegressor",
         "ForecasterRecursiveMultiSeries_fit_series_is_dict_exog_is_dict",
         "63b606a379874ae9f340ba4fe592d695",
         "11.761211828599698",
         "0.3588705125506934",
         "2025-04-23 15:58:20.920219",
         "3.12.9",
         "0.15.1",
         "2.2.5",
         "2.2.3",
         "1.6.1",
         "4.6.0",
         "Linux-6.11.0-21-generic-x86_64-with-glibc2.39",
         "x86_64",
         "8",
         "16.64"
        ],
        [
         "92",
         "ForecasterRecursiveMultiSeries",
         "LGBMRegressor",
         "ForecasterRecursiveMultiSeries_fit_series_is_dict_exog_is_dict",
         "63b606a379874ae9f340ba4fe592d695",
         "11.800769748600578",
         "0.4028811480765749",
         "2025-04-23 16:02:51.964754",
         "3.12.9",
         "0.15.1",
         "2.2.5",
         "2.2.3",
         "1.6.1",
         "4.6.0",
         "Linux-6.11.0-21-generic-x86_64-with-glibc2.39",
         "x86_64",
         "8",
         "16.64"
        ],
        [
         "104",
         "ForecasterRecursiveMultiSeries",
         "LGBMRegressor",
         "ForecasterRecursiveMultiSeries_fit_series_is_dict_exog_is_dict",
         "63b606a379874ae9f340ba4fe592d695",
         "11.717140025999834",
         "0.23800300307952854",
         "2025-04-23 16:06:12.882601",
         "3.12.9",
         "0.16.0",
         "2.2.5",
         "2.2.3",
         "1.6.1",
         "4.6.0",
         "Linux-6.11.0-21-generic-x86_64-with-glibc2.39",
         "x86_64",
         "8",
         "16.64"
        ],
        [
         "116",
         "ForecasterRecursiveMultiSeries",
         "LGBMRegressor",
         "ForecasterRecursiveMultiSeries_fit_series_is_dict_exog_is_dict",
         "63b606a379874ae9f340ba4fe592d695",
         "11.314106579799773",
         "0.3975713020085224",
         "2025-04-23 16:09:47.625542",
         "3.12.9",
         "0.16.0",
         "2.2.5",
         "2.2.3",
         "1.6.1",
         "4.6.0",
         "Linux-6.11.0-21-generic-x86_64-with-glibc2.39",
         "x86_64",
         "8",
         "16.64"
        ]
       ],
       "shape": {
        "columns": 17,
        "rows": 10
       }
      },
      "text/html": [
       "<div>\n",
       "<style scoped>\n",
       "    .dataframe tbody tr th:only-of-type {\n",
       "        vertical-align: middle;\n",
       "    }\n",
       "\n",
       "    .dataframe tbody tr th {\n",
       "        vertical-align: top;\n",
       "    }\n",
       "\n",
       "    .dataframe thead th {\n",
       "        text-align: right;\n",
       "    }\n",
       "</style>\n",
       "<table border=\"1\" class=\"dataframe\">\n",
       "  <thead>\n",
       "    <tr style=\"text-align: right;\">\n",
       "      <th></th>\n",
       "      <th>forecaster_name</th>\n",
       "      <th>regressor_name</th>\n",
       "      <th>function_name</th>\n",
       "      <th>function_hash</th>\n",
       "      <th>run_time_avg</th>\n",
       "      <th>run_time_std_dev</th>\n",
       "      <th>datetime</th>\n",
       "      <th>python_version</th>\n",
       "      <th>skforecast_version</th>\n",
       "      <th>numpy_version</th>\n",
       "      <th>pandas_version</th>\n",
       "      <th>sklearn_version</th>\n",
       "      <th>lightgbm_version</th>\n",
       "      <th>platform</th>\n",
       "      <th>processor</th>\n",
       "      <th>cpu_count</th>\n",
       "      <th>memory_gb</th>\n",
       "    </tr>\n",
       "  </thead>\n",
       "  <tbody>\n",
       "    <tr>\n",
       "      <th>0</th>\n",
       "      <td>ForecasterRecursiveMultiSeries</td>\n",
       "      <td>LGBMRegressor</td>\n",
       "      <td>ForecasterRecursiveMultiSeries_fit_series_is_d...</td>\n",
       "      <td>63b606a379874ae9f340ba4fe592d695</td>\n",
       "      <td>12.293677</td>\n",
       "      <td>0.429946</td>\n",
       "      <td>2025-04-23 15:03:26.238942</td>\n",
       "      <td>3.12.9</td>\n",
       "      <td>0.16.0</td>\n",
       "      <td>2.2.5</td>\n",
       "      <td>2.2.3</td>\n",
       "      <td>1.6.1</td>\n",
       "      <td>4.6.0</td>\n",
       "      <td>Linux-6.11.0-21-generic-x86_64-with-glibc2.39</td>\n",
       "      <td>x86_64</td>\n",
       "      <td>8</td>\n",
       "      <td>16.64</td>\n",
       "    </tr>\n",
       "    <tr>\n",
       "      <th>12</th>\n",
       "      <td>ForecasterRecursiveMultiSeries</td>\n",
       "      <td>LGBMRegressor</td>\n",
       "      <td>ForecasterRecursiveMultiSeries_fit_series_is_d...</td>\n",
       "      <td>63b606a379874ae9f340ba4fe592d695</td>\n",
       "      <td>12.290554</td>\n",
       "      <td>0.785076</td>\n",
       "      <td>2025-04-23 15:09:20.254703</td>\n",
       "      <td>3.12.9</td>\n",
       "      <td>0.15.1</td>\n",
       "      <td>2.2.5</td>\n",
       "      <td>2.2.3</td>\n",
       "      <td>1.6.1</td>\n",
       "      <td>4.6.0</td>\n",
       "      <td>Linux-6.11.0-21-generic-x86_64-with-glibc2.39</td>\n",
       "      <td>x86_64</td>\n",
       "      <td>8</td>\n",
       "      <td>16.64</td>\n",
       "    </tr>\n",
       "    <tr>\n",
       "      <th>24</th>\n",
       "      <td>ForecasterRecursiveMultiSeries</td>\n",
       "      <td>LGBMRegressor</td>\n",
       "      <td>ForecasterRecursiveMultiSeries_fit_series_is_d...</td>\n",
       "      <td>63b606a379874ae9f340ba4fe592d695</td>\n",
       "      <td>11.181269</td>\n",
       "      <td>0.577565</td>\n",
       "      <td>2025-04-23 15:13:23.496449</td>\n",
       "      <td>3.12.9</td>\n",
       "      <td>0.14.0</td>\n",
       "      <td>2.2.5</td>\n",
       "      <td>2.2.3</td>\n",
       "      <td>1.6.1</td>\n",
       "      <td>4.6.0</td>\n",
       "      <td>Linux-6.11.0-21-generic-x86_64-with-glibc2.39</td>\n",
       "      <td>x86_64</td>\n",
       "      <td>8</td>\n",
       "      <td>16.64</td>\n",
       "    </tr>\n",
       "    <tr>\n",
       "      <th>36</th>\n",
       "      <td>ForecasterAutoregMultiSeries</td>\n",
       "      <td>LGBMRegressor</td>\n",
       "      <td>ForecasterRecursiveMultiSeries_fit_series_is_d...</td>\n",
       "      <td>63b606a379874ae9f340ba4fe592d695</td>\n",
       "      <td>12.332075</td>\n",
       "      <td>1.001781</td>\n",
       "      <td>2025-04-23 15:25:24.855452</td>\n",
       "      <td>3.12.9</td>\n",
       "      <td>0.13.0</td>\n",
       "      <td>2.2.5</td>\n",
       "      <td>2.2.3</td>\n",
       "      <td>1.6.1</td>\n",
       "      <td>4.6.0</td>\n",
       "      <td>Linux-6.11.0-21-generic-x86_64-with-glibc2.39</td>\n",
       "      <td>x86_64</td>\n",
       "      <td>8</td>\n",
       "      <td>16.64</td>\n",
       "    </tr>\n",
       "    <tr>\n",
       "      <th>48</th>\n",
       "      <td>ForecasterAutoregMultiSeries</td>\n",
       "      <td>LGBMRegressor</td>\n",
       "      <td>ForecasterRecursiveMultiSeries_fit_series_is_d...</td>\n",
       "      <td>63b606a379874ae9f340ba4fe592d695</td>\n",
       "      <td>12.542493</td>\n",
       "      <td>0.606813</td>\n",
       "      <td>2025-04-23 15:34:44.825479</td>\n",
       "      <td>3.12.9</td>\n",
       "      <td>0.13.0</td>\n",
       "      <td>2.2.5</td>\n",
       "      <td>2.2.3</td>\n",
       "      <td>1.6.1</td>\n",
       "      <td>4.6.0</td>\n",
       "      <td>Linux-6.11.0-21-generic-x86_64-with-glibc2.39</td>\n",
       "      <td>x86_64</td>\n",
       "      <td>8</td>\n",
       "      <td>16.64</td>\n",
       "    </tr>\n",
       "    <tr>\n",
       "      <th>68</th>\n",
       "      <td>ForecasterRecursiveMultiSeries</td>\n",
       "      <td>LGBMRegressor</td>\n",
       "      <td>ForecasterRecursiveMultiSeries_fit_series_is_d...</td>\n",
       "      <td>63b606a379874ae9f340ba4fe592d695</td>\n",
       "      <td>10.987336</td>\n",
       "      <td>0.396632</td>\n",
       "      <td>2025-04-23 15:54:09.384976</td>\n",
       "      <td>3.12.9</td>\n",
       "      <td>0.14.0</td>\n",
       "      <td>2.2.5</td>\n",
       "      <td>2.2.3</td>\n",
       "      <td>1.6.1</td>\n",
       "      <td>4.6.0</td>\n",
       "      <td>Linux-6.11.0-21-generic-x86_64-with-glibc2.39</td>\n",
       "      <td>x86_64</td>\n",
       "      <td>8</td>\n",
       "      <td>16.64</td>\n",
       "    </tr>\n",
       "    <tr>\n",
       "      <th>80</th>\n",
       "      <td>ForecasterRecursiveMultiSeries</td>\n",
       "      <td>LGBMRegressor</td>\n",
       "      <td>ForecasterRecursiveMultiSeries_fit_series_is_d...</td>\n",
       "      <td>63b606a379874ae9f340ba4fe592d695</td>\n",
       "      <td>11.761212</td>\n",
       "      <td>0.358871</td>\n",
       "      <td>2025-04-23 15:58:20.920219</td>\n",
       "      <td>3.12.9</td>\n",
       "      <td>0.15.1</td>\n",
       "      <td>2.2.5</td>\n",
       "      <td>2.2.3</td>\n",
       "      <td>1.6.1</td>\n",
       "      <td>4.6.0</td>\n",
       "      <td>Linux-6.11.0-21-generic-x86_64-with-glibc2.39</td>\n",
       "      <td>x86_64</td>\n",
       "      <td>8</td>\n",
       "      <td>16.64</td>\n",
       "    </tr>\n",
       "    <tr>\n",
       "      <th>92</th>\n",
       "      <td>ForecasterRecursiveMultiSeries</td>\n",
       "      <td>LGBMRegressor</td>\n",
       "      <td>ForecasterRecursiveMultiSeries_fit_series_is_d...</td>\n",
       "      <td>63b606a379874ae9f340ba4fe592d695</td>\n",
       "      <td>11.800770</td>\n",
       "      <td>0.402881</td>\n",
       "      <td>2025-04-23 16:02:51.964754</td>\n",
       "      <td>3.12.9</td>\n",
       "      <td>0.15.1</td>\n",
       "      <td>2.2.5</td>\n",
       "      <td>2.2.3</td>\n",
       "      <td>1.6.1</td>\n",
       "      <td>4.6.0</td>\n",
       "      <td>Linux-6.11.0-21-generic-x86_64-with-glibc2.39</td>\n",
       "      <td>x86_64</td>\n",
       "      <td>8</td>\n",
       "      <td>16.64</td>\n",
       "    </tr>\n",
       "    <tr>\n",
       "      <th>104</th>\n",
       "      <td>ForecasterRecursiveMultiSeries</td>\n",
       "      <td>LGBMRegressor</td>\n",
       "      <td>ForecasterRecursiveMultiSeries_fit_series_is_d...</td>\n",
       "      <td>63b606a379874ae9f340ba4fe592d695</td>\n",
       "      <td>11.717140</td>\n",
       "      <td>0.238003</td>\n",
       "      <td>2025-04-23 16:06:12.882601</td>\n",
       "      <td>3.12.9</td>\n",
       "      <td>0.16.0</td>\n",
       "      <td>2.2.5</td>\n",
       "      <td>2.2.3</td>\n",
       "      <td>1.6.1</td>\n",
       "      <td>4.6.0</td>\n",
       "      <td>Linux-6.11.0-21-generic-x86_64-with-glibc2.39</td>\n",
       "      <td>x86_64</td>\n",
       "      <td>8</td>\n",
       "      <td>16.64</td>\n",
       "    </tr>\n",
       "    <tr>\n",
       "      <th>116</th>\n",
       "      <td>ForecasterRecursiveMultiSeries</td>\n",
       "      <td>LGBMRegressor</td>\n",
       "      <td>ForecasterRecursiveMultiSeries_fit_series_is_d...</td>\n",
       "      <td>63b606a379874ae9f340ba4fe592d695</td>\n",
       "      <td>11.314107</td>\n",
       "      <td>0.397571</td>\n",
       "      <td>2025-04-23 16:09:47.625542</td>\n",
       "      <td>3.12.9</td>\n",
       "      <td>0.16.0</td>\n",
       "      <td>2.2.5</td>\n",
       "      <td>2.2.3</td>\n",
       "      <td>1.6.1</td>\n",
       "      <td>4.6.0</td>\n",
       "      <td>Linux-6.11.0-21-generic-x86_64-with-glibc2.39</td>\n",
       "      <td>x86_64</td>\n",
       "      <td>8</td>\n",
       "      <td>16.64</td>\n",
       "    </tr>\n",
       "  </tbody>\n",
       "</table>\n",
       "</div>"
      ],
      "text/plain": [
       "                    forecaster_name regressor_name  \\\n",
       "0    ForecasterRecursiveMultiSeries  LGBMRegressor   \n",
       "12   ForecasterRecursiveMultiSeries  LGBMRegressor   \n",
       "24   ForecasterRecursiveMultiSeries  LGBMRegressor   \n",
       "36     ForecasterAutoregMultiSeries  LGBMRegressor   \n",
       "48     ForecasterAutoregMultiSeries  LGBMRegressor   \n",
       "68   ForecasterRecursiveMultiSeries  LGBMRegressor   \n",
       "80   ForecasterRecursiveMultiSeries  LGBMRegressor   \n",
       "92   ForecasterRecursiveMultiSeries  LGBMRegressor   \n",
       "104  ForecasterRecursiveMultiSeries  LGBMRegressor   \n",
       "116  ForecasterRecursiveMultiSeries  LGBMRegressor   \n",
       "\n",
       "                                         function_name  \\\n",
       "0    ForecasterRecursiveMultiSeries_fit_series_is_d...   \n",
       "12   ForecasterRecursiveMultiSeries_fit_series_is_d...   \n",
       "24   ForecasterRecursiveMultiSeries_fit_series_is_d...   \n",
       "36   ForecasterRecursiveMultiSeries_fit_series_is_d...   \n",
       "48   ForecasterRecursiveMultiSeries_fit_series_is_d...   \n",
       "68   ForecasterRecursiveMultiSeries_fit_series_is_d...   \n",
       "80   ForecasterRecursiveMultiSeries_fit_series_is_d...   \n",
       "92   ForecasterRecursiveMultiSeries_fit_series_is_d...   \n",
       "104  ForecasterRecursiveMultiSeries_fit_series_is_d...   \n",
       "116  ForecasterRecursiveMultiSeries_fit_series_is_d...   \n",
       "\n",
       "                        function_hash  run_time_avg  run_time_std_dev  \\\n",
       "0    63b606a379874ae9f340ba4fe592d695     12.293677          0.429946   \n",
       "12   63b606a379874ae9f340ba4fe592d695     12.290554          0.785076   \n",
       "24   63b606a379874ae9f340ba4fe592d695     11.181269          0.577565   \n",
       "36   63b606a379874ae9f340ba4fe592d695     12.332075          1.001781   \n",
       "48   63b606a379874ae9f340ba4fe592d695     12.542493          0.606813   \n",
       "68   63b606a379874ae9f340ba4fe592d695     10.987336          0.396632   \n",
       "80   63b606a379874ae9f340ba4fe592d695     11.761212          0.358871   \n",
       "92   63b606a379874ae9f340ba4fe592d695     11.800770          0.402881   \n",
       "104  63b606a379874ae9f340ba4fe592d695     11.717140          0.238003   \n",
       "116  63b606a379874ae9f340ba4fe592d695     11.314107          0.397571   \n",
       "\n",
       "                      datetime python_version skforecast_version  \\\n",
       "0   2025-04-23 15:03:26.238942         3.12.9             0.16.0   \n",
       "12  2025-04-23 15:09:20.254703         3.12.9             0.15.1   \n",
       "24  2025-04-23 15:13:23.496449         3.12.9             0.14.0   \n",
       "36  2025-04-23 15:25:24.855452         3.12.9             0.13.0   \n",
       "48  2025-04-23 15:34:44.825479         3.12.9             0.13.0   \n",
       "68  2025-04-23 15:54:09.384976         3.12.9             0.14.0   \n",
       "80  2025-04-23 15:58:20.920219         3.12.9             0.15.1   \n",
       "92  2025-04-23 16:02:51.964754         3.12.9             0.15.1   \n",
       "104 2025-04-23 16:06:12.882601         3.12.9             0.16.0   \n",
       "116 2025-04-23 16:09:47.625542         3.12.9             0.16.0   \n",
       "\n",
       "    numpy_version pandas_version sklearn_version lightgbm_version  \\\n",
       "0           2.2.5          2.2.3           1.6.1            4.6.0   \n",
       "12          2.2.5          2.2.3           1.6.1            4.6.0   \n",
       "24          2.2.5          2.2.3           1.6.1            4.6.0   \n",
       "36          2.2.5          2.2.3           1.6.1            4.6.0   \n",
       "48          2.2.5          2.2.3           1.6.1            4.6.0   \n",
       "68          2.2.5          2.2.3           1.6.1            4.6.0   \n",
       "80          2.2.5          2.2.3           1.6.1            4.6.0   \n",
       "92          2.2.5          2.2.3           1.6.1            4.6.0   \n",
       "104         2.2.5          2.2.3           1.6.1            4.6.0   \n",
       "116         2.2.5          2.2.3           1.6.1            4.6.0   \n",
       "\n",
       "                                          platform processor  cpu_count  \\\n",
       "0    Linux-6.11.0-21-generic-x86_64-with-glibc2.39    x86_64          8   \n",
       "12   Linux-6.11.0-21-generic-x86_64-with-glibc2.39    x86_64          8   \n",
       "24   Linux-6.11.0-21-generic-x86_64-with-glibc2.39    x86_64          8   \n",
       "36   Linux-6.11.0-21-generic-x86_64-with-glibc2.39    x86_64          8   \n",
       "48   Linux-6.11.0-21-generic-x86_64-with-glibc2.39    x86_64          8   \n",
       "68   Linux-6.11.0-21-generic-x86_64-with-glibc2.39    x86_64          8   \n",
       "80   Linux-6.11.0-21-generic-x86_64-with-glibc2.39    x86_64          8   \n",
       "92   Linux-6.11.0-21-generic-x86_64-with-glibc2.39    x86_64          8   \n",
       "104  Linux-6.11.0-21-generic-x86_64-with-glibc2.39    x86_64          8   \n",
       "116  Linux-6.11.0-21-generic-x86_64-with-glibc2.39    x86_64          8   \n",
       "\n",
       "     memory_gb  \n",
       "0        16.64  \n",
       "12       16.64  \n",
       "24       16.64  \n",
       "36       16.64  \n",
       "48       16.64  \n",
       "68       16.64  \n",
       "80       16.64  \n",
       "92       16.64  \n",
       "104      16.64  \n",
       "116      16.64  "
      ]
     },
     "metadata": {},
     "output_type": "display_data"
    },
    {
     "data": {
      "application/vnd.plotly.v1+json": {
       "config": {
        "plotlyServerURL": "https://plot.ly"
       },
       "data": [
        {
         "error_y": {
          "array": {
           "bdata": "f48y20sH8D8707+bAmvjPw==",
           "dtype": "f8"
          },
          "color": "#636EFA",
          "thickness": 1.5,
          "type": "data",
          "visible": true,
          "width": 5
         },
         "hovertemplate": "Version: 0.13.0<br>Runtime: %{y:.2f}s<extra></extra>",
         "marker": {
          "color": "#636EFA",
          "opacity": 0.7,
          "size": 10
         },
         "mode": "markers",
         "name": "Run time - 0.13.0",
         "showlegend": true,
         "type": "scatter",
         "x": {
          "bdata": "fByzX9/Fir9AKClBT8iAPw==",
          "dtype": "f8"
         },
         "y": {
          "bdata": "AGRxuAWqKEAAiE+rwRUpQA==",
          "dtype": "f8"
         }
        },
        {
         "error_y": {
          "array": {
           "bdata": "UKCA6ml74j/lTA0VbGLZPw==",
           "dtype": "f8"
          },
          "color": "#EF553B",
          "thickness": 1.5,
          "type": "data",
          "visible": true,
          "width": 5
         },
         "hovertemplate": "Version: 0.14.0<br>Runtime: %{y:.2f}s<extra></extra>",
         "marker": {
          "color": "#EF553B",
          "opacity": 0.7,
          "size": 10
         },
         "mode": "markers",
         "name": "Run time - 0.14.0",
         "showlegend": true,
         "type": "scatter",
         "x": {
          "bdata": "WsufM0wh8D/sid4cvavwPw==",
          "dtype": "f8"
         },
         "y": {
          "bdata": "AMQtWM9cJkAzyysKhPklQA==",
          "dtype": "f8"
         }
        },
        {
         "error_y": {
          "array": {
           "bdata": "EuVjNlgf6T/n2rkGvPfWPxF8ygLOyNk/",
           "dtype": "f8"
          },
          "color": "#00CC96",
          "thickness": 1.5,
          "type": "data",
          "visible": true,
          "width": 5
         },
         "hovertemplate": "Version: 0.15.1<br>Runtime: %{y:.2f}s<extra></extra>",
         "marker": {
          "color": "#00CC96",
          "opacity": 0.7,
          "size": 10
         },
         "mode": "markers",
         "name": "Run time - 0.15.1",
         "showlegend": true,
         "type": "scatter",
         "x": {
          "bdata": "o+edyHNh/z9etUcwD5P/PzyVwAXWKwBA",
          "dtype": "f8"
         },
         "y": {
          "bdata": "Zm6fhMOUKEAAVIqOvYUnQDO7E37+mSdA",
          "dtype": "f8"
         }
        },
        {
         "error_y": {
          "array": {
           "bdata": "2PgZJj6E2z8+xknl4XbOP4Ia/ebOcdk/",
           "dtype": "f8"
          },
          "color": "#AB63FA",
          "thickness": 1.5,
          "type": "data",
          "visible": true,
          "width": 5
         },
         "hovertemplate": "Version: 0.16.0<br>Runtime: %{y:.2f}s<extra></extra>",
         "marker": {
          "color": "#AB63FA",
          "opacity": 0.7,
          "size": 10
         },
         "mode": "markers",
         "name": "Run time - 0.16.0",
         "showlegend": true,
         "type": "scatter",
         "x": {
          "bdata": "BPQEQSs7CEBa7SFg/PsHQN1xRrJWNAhA",
          "dtype": "f8"
         },
         "y": {
          "bdata": "ZnbT0VyWKEDNpDz6LG8nQJpl35PSoCZA",
          "dtype": "f8"
         }
        },
        {
         "line": {
          "color": "black",
          "width": 2
         },
         "marker": {
          "color": "black",
          "size": 8
         },
         "mode": "lines+markers",
         "name": "Median (per version)",
         "type": "scatter",
         "x": {
          "bdata": "AAECAw==",
          "dtype": "i1"
         },
         "y": {
          "bdata": "AHbgsePfKECaxyyxKSsmQDO7E37+mSdAzaQ8+ixvJ0A=",
          "dtype": "f8"
         }
        }
       ],
       "layout": {
        "showlegend": true,
        "template": {
         "data": {
          "bar": [
           {
            "error_x": {
             "color": "#2a3f5f"
            },
            "error_y": {
             "color": "#2a3f5f"
            },
            "marker": {
             "line": {
              "color": "#E5ECF6",
              "width": 0.5
             },
             "pattern": {
              "fillmode": "overlay",
              "size": 10,
              "solidity": 0.2
             }
            },
            "type": "bar"
           }
          ],
          "barpolar": [
           {
            "marker": {
             "line": {
              "color": "#E5ECF6",
              "width": 0.5
             },
             "pattern": {
              "fillmode": "overlay",
              "size": 10,
              "solidity": 0.2
             }
            },
            "type": "barpolar"
           }
          ],
          "carpet": [
           {
            "aaxis": {
             "endlinecolor": "#2a3f5f",
             "gridcolor": "white",
             "linecolor": "white",
             "minorgridcolor": "white",
             "startlinecolor": "#2a3f5f"
            },
            "baxis": {
             "endlinecolor": "#2a3f5f",
             "gridcolor": "white",
             "linecolor": "white",
             "minorgridcolor": "white",
             "startlinecolor": "#2a3f5f"
            },
            "type": "carpet"
           }
          ],
          "choropleth": [
           {
            "colorbar": {
             "outlinewidth": 0,
             "ticks": ""
            },
            "type": "choropleth"
           }
          ],
          "contour": [
           {
            "colorbar": {
             "outlinewidth": 0,
             "ticks": ""
            },
            "colorscale": [
             [
              0,
              "#0d0887"
             ],
             [
              0.1111111111111111,
              "#46039f"
             ],
             [
              0.2222222222222222,
              "#7201a8"
             ],
             [
              0.3333333333333333,
              "#9c179e"
             ],
             [
              0.4444444444444444,
              "#bd3786"
             ],
             [
              0.5555555555555556,
              "#d8576b"
             ],
             [
              0.6666666666666666,
              "#ed7953"
             ],
             [
              0.7777777777777778,
              "#fb9f3a"
             ],
             [
              0.8888888888888888,
              "#fdca26"
             ],
             [
              1,
              "#f0f921"
             ]
            ],
            "type": "contour"
           }
          ],
          "contourcarpet": [
           {
            "colorbar": {
             "outlinewidth": 0,
             "ticks": ""
            },
            "type": "contourcarpet"
           }
          ],
          "heatmap": [
           {
            "colorbar": {
             "outlinewidth": 0,
             "ticks": ""
            },
            "colorscale": [
             [
              0,
              "#0d0887"
             ],
             [
              0.1111111111111111,
              "#46039f"
             ],
             [
              0.2222222222222222,
              "#7201a8"
             ],
             [
              0.3333333333333333,
              "#9c179e"
             ],
             [
              0.4444444444444444,
              "#bd3786"
             ],
             [
              0.5555555555555556,
              "#d8576b"
             ],
             [
              0.6666666666666666,
              "#ed7953"
             ],
             [
              0.7777777777777778,
              "#fb9f3a"
             ],
             [
              0.8888888888888888,
              "#fdca26"
             ],
             [
              1,
              "#f0f921"
             ]
            ],
            "type": "heatmap"
           }
          ],
          "histogram": [
           {
            "marker": {
             "pattern": {
              "fillmode": "overlay",
              "size": 10,
              "solidity": 0.2
             }
            },
            "type": "histogram"
           }
          ],
          "histogram2d": [
           {
            "colorbar": {
             "outlinewidth": 0,
             "ticks": ""
            },
            "colorscale": [
             [
              0,
              "#0d0887"
             ],
             [
              0.1111111111111111,
              "#46039f"
             ],
             [
              0.2222222222222222,
              "#7201a8"
             ],
             [
              0.3333333333333333,
              "#9c179e"
             ],
             [
              0.4444444444444444,
              "#bd3786"
             ],
             [
              0.5555555555555556,
              "#d8576b"
             ],
             [
              0.6666666666666666,
              "#ed7953"
             ],
             [
              0.7777777777777778,
              "#fb9f3a"
             ],
             [
              0.8888888888888888,
              "#fdca26"
             ],
             [
              1,
              "#f0f921"
             ]
            ],
            "type": "histogram2d"
           }
          ],
          "histogram2dcontour": [
           {
            "colorbar": {
             "outlinewidth": 0,
             "ticks": ""
            },
            "colorscale": [
             [
              0,
              "#0d0887"
             ],
             [
              0.1111111111111111,
              "#46039f"
             ],
             [
              0.2222222222222222,
              "#7201a8"
             ],
             [
              0.3333333333333333,
              "#9c179e"
             ],
             [
              0.4444444444444444,
              "#bd3786"
             ],
             [
              0.5555555555555556,
              "#d8576b"
             ],
             [
              0.6666666666666666,
              "#ed7953"
             ],
             [
              0.7777777777777778,
              "#fb9f3a"
             ],
             [
              0.8888888888888888,
              "#fdca26"
             ],
             [
              1,
              "#f0f921"
             ]
            ],
            "type": "histogram2dcontour"
           }
          ],
          "mesh3d": [
           {
            "colorbar": {
             "outlinewidth": 0,
             "ticks": ""
            },
            "type": "mesh3d"
           }
          ],
          "parcoords": [
           {
            "line": {
             "colorbar": {
              "outlinewidth": 0,
              "ticks": ""
             }
            },
            "type": "parcoords"
           }
          ],
          "pie": [
           {
            "automargin": true,
            "type": "pie"
           }
          ],
          "scatter": [
           {
            "fillpattern": {
             "fillmode": "overlay",
             "size": 10,
             "solidity": 0.2
            },
            "type": "scatter"
           }
          ],
          "scatter3d": [
           {
            "line": {
             "colorbar": {
              "outlinewidth": 0,
              "ticks": ""
             }
            },
            "marker": {
             "colorbar": {
              "outlinewidth": 0,
              "ticks": ""
             }
            },
            "type": "scatter3d"
           }
          ],
          "scattercarpet": [
           {
            "marker": {
             "colorbar": {
              "outlinewidth": 0,
              "ticks": ""
             }
            },
            "type": "scattercarpet"
           }
          ],
          "scattergeo": [
           {
            "marker": {
             "colorbar": {
              "outlinewidth": 0,
              "ticks": ""
             }
            },
            "type": "scattergeo"
           }
          ],
          "scattergl": [
           {
            "marker": {
             "colorbar": {
              "outlinewidth": 0,
              "ticks": ""
             }
            },
            "type": "scattergl"
           }
          ],
          "scattermap": [
           {
            "marker": {
             "colorbar": {
              "outlinewidth": 0,
              "ticks": ""
             }
            },
            "type": "scattermap"
           }
          ],
          "scattermapbox": [
           {
            "marker": {
             "colorbar": {
              "outlinewidth": 0,
              "ticks": ""
             }
            },
            "type": "scattermapbox"
           }
          ],
          "scatterpolar": [
           {
            "marker": {
             "colorbar": {
              "outlinewidth": 0,
              "ticks": ""
             }
            },
            "type": "scatterpolar"
           }
          ],
          "scatterpolargl": [
           {
            "marker": {
             "colorbar": {
              "outlinewidth": 0,
              "ticks": ""
             }
            },
            "type": "scatterpolargl"
           }
          ],
          "scatterternary": [
           {
            "marker": {
             "colorbar": {
              "outlinewidth": 0,
              "ticks": ""
             }
            },
            "type": "scatterternary"
           }
          ],
          "surface": [
           {
            "colorbar": {
             "outlinewidth": 0,
             "ticks": ""
            },
            "colorscale": [
             [
              0,
              "#0d0887"
             ],
             [
              0.1111111111111111,
              "#46039f"
             ],
             [
              0.2222222222222222,
              "#7201a8"
             ],
             [
              0.3333333333333333,
              "#9c179e"
             ],
             [
              0.4444444444444444,
              "#bd3786"
             ],
             [
              0.5555555555555556,
              "#d8576b"
             ],
             [
              0.6666666666666666,
              "#ed7953"
             ],
             [
              0.7777777777777778,
              "#fb9f3a"
             ],
             [
              0.8888888888888888,
              "#fdca26"
             ],
             [
              1,
              "#f0f921"
             ]
            ],
            "type": "surface"
           }
          ],
          "table": [
           {
            "cells": {
             "fill": {
              "color": "#EBF0F8"
             },
             "line": {
              "color": "white"
             }
            },
            "header": {
             "fill": {
              "color": "#C8D4E3"
             },
             "line": {
              "color": "white"
             }
            },
            "type": "table"
           }
          ]
         },
         "layout": {
          "annotationdefaults": {
           "arrowcolor": "#2a3f5f",
           "arrowhead": 0,
           "arrowwidth": 1
          },
          "autotypenumbers": "strict",
          "coloraxis": {
           "colorbar": {
            "outlinewidth": 0,
            "ticks": ""
           }
          },
          "colorscale": {
           "diverging": [
            [
             0,
             "#8e0152"
            ],
            [
             0.1,
             "#c51b7d"
            ],
            [
             0.2,
             "#de77ae"
            ],
            [
             0.3,
             "#f1b6da"
            ],
            [
             0.4,
             "#fde0ef"
            ],
            [
             0.5,
             "#f7f7f7"
            ],
            [
             0.6,
             "#e6f5d0"
            ],
            [
             0.7,
             "#b8e186"
            ],
            [
             0.8,
             "#7fbc41"
            ],
            [
             0.9,
             "#4d9221"
            ],
            [
             1,
             "#276419"
            ]
           ],
           "sequential": [
            [
             0,
             "#0d0887"
            ],
            [
             0.1111111111111111,
             "#46039f"
            ],
            [
             0.2222222222222222,
             "#7201a8"
            ],
            [
             0.3333333333333333,
             "#9c179e"
            ],
            [
             0.4444444444444444,
             "#bd3786"
            ],
            [
             0.5555555555555556,
             "#d8576b"
            ],
            [
             0.6666666666666666,
             "#ed7953"
            ],
            [
             0.7777777777777778,
             "#fb9f3a"
            ],
            [
             0.8888888888888888,
             "#fdca26"
            ],
            [
             1,
             "#f0f921"
            ]
           ],
           "sequentialminus": [
            [
             0,
             "#0d0887"
            ],
            [
             0.1111111111111111,
             "#46039f"
            ],
            [
             0.2222222222222222,
             "#7201a8"
            ],
            [
             0.3333333333333333,
             "#9c179e"
            ],
            [
             0.4444444444444444,
             "#bd3786"
            ],
            [
             0.5555555555555556,
             "#d8576b"
            ],
            [
             0.6666666666666666,
             "#ed7953"
            ],
            [
             0.7777777777777778,
             "#fb9f3a"
            ],
            [
             0.8888888888888888,
             "#fdca26"
            ],
            [
             1,
             "#f0f921"
            ]
           ]
          },
          "colorway": [
           "#636efa",
           "#EF553B",
           "#00cc96",
           "#ab63fa",
           "#FFA15A",
           "#19d3f3",
           "#FF6692",
           "#B6E880",
           "#FF97FF",
           "#FECB52"
          ],
          "font": {
           "color": "#2a3f5f"
          },
          "geo": {
           "bgcolor": "white",
           "lakecolor": "white",
           "landcolor": "#E5ECF6",
           "showlakes": true,
           "showland": true,
           "subunitcolor": "white"
          },
          "hoverlabel": {
           "align": "left"
          },
          "hovermode": "closest",
          "mapbox": {
           "style": "light"
          },
          "paper_bgcolor": "white",
          "plot_bgcolor": "#E5ECF6",
          "polar": {
           "angularaxis": {
            "gridcolor": "white",
            "linecolor": "white",
            "ticks": ""
           },
           "bgcolor": "#E5ECF6",
           "radialaxis": {
            "gridcolor": "white",
            "linecolor": "white",
            "ticks": ""
           }
          },
          "scene": {
           "xaxis": {
            "backgroundcolor": "#E5ECF6",
            "gridcolor": "white",
            "gridwidth": 2,
            "linecolor": "white",
            "showbackground": true,
            "ticks": "",
            "zerolinecolor": "white"
           },
           "yaxis": {
            "backgroundcolor": "#E5ECF6",
            "gridcolor": "white",
            "gridwidth": 2,
            "linecolor": "white",
            "showbackground": true,
            "ticks": "",
            "zerolinecolor": "white"
           },
           "zaxis": {
            "backgroundcolor": "#E5ECF6",
            "gridcolor": "white",
            "gridwidth": 2,
            "linecolor": "white",
            "showbackground": true,
            "ticks": "",
            "zerolinecolor": "white"
           }
          },
          "shapedefaults": {
           "line": {
            "color": "#2a3f5f"
           }
          },
          "ternary": {
           "aaxis": {
            "gridcolor": "white",
            "linecolor": "white",
            "ticks": ""
           },
           "baxis": {
            "gridcolor": "white",
            "linecolor": "white",
            "ticks": ""
           },
           "bgcolor": "#E5ECF6",
           "caxis": {
            "gridcolor": "white",
            "linecolor": "white",
            "ticks": ""
           }
          },
          "title": {
           "x": 0.05
          },
          "xaxis": {
           "automargin": true,
           "gridcolor": "white",
           "linecolor": "white",
           "ticks": "",
           "title": {
            "standoff": 15
           },
           "zerolinecolor": "white",
           "zerolinewidth": 2
          },
          "yaxis": {
           "automargin": true,
           "gridcolor": "white",
           "linecolor": "white",
           "ticks": "",
           "title": {
            "standoff": 15
           },
           "zerolinecolor": "white",
           "zerolinewidth": 2
          }
         }
        },
        "title": {
         "text": "Execution time of ForecasterRecursiveMultiSeries_fit_series_is_dict_exog_is_dict"
        },
        "xaxis": {
         "tickangle": -45,
         "tickmode": "array",
         "ticktext": [
          "0.13.0",
          "0.14.0",
          "0.15.1",
          "0.16.0"
         ],
         "tickvals": [
          0,
          1,
          2,
          3
         ],
         "title": {
          "text": "skforecast version"
         }
        },
        "yaxis": {
         "title": {
          "text": "Execution time (seconds)"
         }
        }
       }
      }
     },
     "metadata": {},
     "output_type": "display_data"
    },
    {
     "data": {
      "application/vnd.microsoft.datawrangler.viewer.v0+json": {
       "columns": [
        {
         "name": "index",
         "rawType": "int64",
         "type": "integer"
        },
        {
         "name": "forecaster_name",
         "rawType": "object",
         "type": "string"
        },
        {
         "name": "regressor_name",
         "rawType": "object",
         "type": "string"
        },
        {
         "name": "function_name",
         "rawType": "object",
         "type": "string"
        },
        {
         "name": "function_hash",
         "rawType": "object",
         "type": "string"
        },
        {
         "name": "run_time_avg",
         "rawType": "float64",
         "type": "float"
        },
        {
         "name": "run_time_std_dev",
         "rawType": "float64",
         "type": "float"
        },
        {
         "name": "datetime",
         "rawType": "datetime64[ns]",
         "type": "datetime"
        },
        {
         "name": "python_version",
         "rawType": "object",
         "type": "string"
        },
        {
         "name": "skforecast_version",
         "rawType": "object",
         "type": "string"
        },
        {
         "name": "numpy_version",
         "rawType": "object",
         "type": "string"
        },
        {
         "name": "pandas_version",
         "rawType": "object",
         "type": "string"
        },
        {
         "name": "sklearn_version",
         "rawType": "object",
         "type": "string"
        },
        {
         "name": "lightgbm_version",
         "rawType": "object",
         "type": "string"
        },
        {
         "name": "platform",
         "rawType": "object",
         "type": "string"
        },
        {
         "name": "processor",
         "rawType": "object",
         "type": "string"
        },
        {
         "name": "cpu_count",
         "rawType": "int64",
         "type": "integer"
        },
        {
         "name": "memory_gb",
         "rawType": "float64",
         "type": "float"
        }
       ],
       "conversionMethod": "pd.DataFrame",
       "ref": "94081ff2-e05a-46dc-bcbb-cf71d6734c89",
       "rows": [
        [
         "1",
         "ForecasterRecursiveMultiSeries",
         "LGBMRegressor",
         "ForecasterRecursiveMultiSeries__create_train_X_y_series_is_dict_exog_is_dict",
         "583e7d25f58c2314c85ab6c385d879cc",
         "1.5946391678000509",
         "0.06103302779695143",
         "2025-04-23 15:04:27.710376",
         "3.12.9",
         "0.16.0",
         "2.2.5",
         "2.2.3",
         "1.6.1",
         "4.6.0",
         "Linux-6.11.0-21-generic-x86_64-with-glibc2.39",
         "x86_64",
         "8",
         "16.64"
        ],
        [
         "13",
         "ForecasterRecursiveMultiSeries",
         "LGBMRegressor",
         "ForecasterRecursiveMultiSeries__create_train_X_y_series_is_dict_exog_is_dict",
         "583e7d25f58c2314c85ab6c385d879cc",
         "1.7306566251998448",
         "0.036684070156538094",
         "2025-04-23 15:10:21.711978",
         "3.12.9",
         "0.15.1",
         "2.2.5",
         "2.2.3",
         "1.6.1",
         "4.6.0",
         "Linux-6.11.0-21-generic-x86_64-with-glibc2.39",
         "x86_64",
         "8",
         "16.64"
        ],
        [
         "25",
         "ForecasterRecursiveMultiSeries",
         "LGBMRegressor",
         "ForecasterRecursiveMultiSeries__create_train_X_y_series_is_dict_exog_is_dict",
         "583e7d25f58c2314c85ab6c385d879cc",
         "2.008426124399557",
         "0.02079403046185465",
         "2025-04-23 15:14:19.407835",
         "3.12.9",
         "0.14.0",
         "2.2.5",
         "2.2.3",
         "1.6.1",
         "4.6.0",
         "Linux-6.11.0-21-generic-x86_64-with-glibc2.39",
         "x86_64",
         "8",
         "16.64"
        ],
        [
         "37",
         "ForecasterAutoregMultiSeries",
         "LGBMRegressor",
         "ForecasterRecursiveMultiSeries__create_train_X_y_series_is_dict_exog_is_dict",
         "583e7d25f58c2314c85ab6c385d879cc",
         "2.6241741919999186",
         "0.09088644884957763",
         "2025-04-23 15:26:26.520388",
         "3.12.9",
         "0.13.0",
         "2.2.5",
         "2.2.3",
         "1.6.1",
         "4.6.0",
         "Linux-6.11.0-21-generic-x86_64-with-glibc2.39",
         "x86_64",
         "8",
         "16.64"
        ],
        [
         "49",
         "ForecasterAutoregMultiSeries",
         "LGBMRegressor",
         "ForecasterRecursiveMultiSeries__create_train_X_y_series_is_dict_exog_is_dict",
         "583e7d25f58c2314c85ab6c385d879cc",
         "2.6033221667999897",
         "0.04657701323581428",
         "2025-04-23 15:35:47.542332",
         "3.12.9",
         "0.13.0",
         "2.2.5",
         "2.2.3",
         "1.6.1",
         "4.6.0",
         "Linux-6.11.0-21-generic-x86_64-with-glibc2.39",
         "x86_64",
         "8",
         "16.64"
        ],
        [
         "69",
         "ForecasterRecursiveMultiSeries",
         "LGBMRegressor",
         "ForecasterRecursiveMultiSeries__create_train_X_y_series_is_dict_exog_is_dict",
         "583e7d25f58c2314c85ab6c385d879cc",
         "1.9982989898002415",
         "0.02094229999281321",
         "2025-04-23 15:55:04.326742",
         "3.12.9",
         "0.14.0",
         "2.2.5",
         "2.2.3",
         "1.6.1",
         "4.6.0",
         "Linux-6.11.0-21-generic-x86_64-with-glibc2.39",
         "x86_64",
         "8",
         "16.64"
        ],
        [
         "81",
         "ForecasterRecursiveMultiSeries",
         "LGBMRegressor",
         "ForecasterRecursiveMultiSeries__create_train_X_y_series_is_dict_exog_is_dict",
         "583e7d25f58c2314c85ab6c385d879cc",
         "1.7602192121994449",
         "0.02948646600599851",
         "2025-04-23 15:59:19.730993",
         "3.12.9",
         "0.15.1",
         "2.2.5",
         "2.2.3",
         "1.6.1",
         "4.6.0",
         "Linux-6.11.0-21-generic-x86_64-with-glibc2.39",
         "x86_64",
         "8",
         "16.64"
        ],
        [
         "93",
         "ForecasterRecursiveMultiSeries",
         "LGBMRegressor",
         "ForecasterRecursiveMultiSeries__create_train_X_y_series_is_dict_exog_is_dict",
         "583e7d25f58c2314c85ab6c385d879cc",
         "1.7084506073995727",
         "0.04963890895946428",
         "2025-04-23 16:03:50.974931",
         "3.12.9",
         "0.15.1",
         "2.2.5",
         "2.2.3",
         "1.6.1",
         "4.6.0",
         "Linux-6.11.0-21-generic-x86_64-with-glibc2.39",
         "x86_64",
         "8",
         "16.64"
        ],
        [
         "105",
         "ForecasterRecursiveMultiSeries",
         "LGBMRegressor",
         "ForecasterRecursiveMultiSeries__create_train_X_y_series_is_dict_exog_is_dict",
         "583e7d25f58c2314c85ab6c385d879cc",
         "1.5609714896003424",
         "0.05741692500895642",
         "2025-04-23 16:07:11.473435",
         "3.12.9",
         "0.16.0",
         "2.2.5",
         "2.2.3",
         "1.6.1",
         "4.6.0",
         "Linux-6.11.0-21-generic-x86_64-with-glibc2.39",
         "x86_64",
         "8",
         "16.64"
        ],
        [
         "117",
         "ForecasterRecursiveMultiSeries",
         "LGBMRegressor",
         "ForecasterRecursiveMultiSeries__create_train_X_y_series_is_dict_exog_is_dict",
         "583e7d25f58c2314c85ab6c385d879cc",
         "1.5341633274001651",
         "0.04095083141705994",
         "2025-04-23 16:10:44.200979",
         "3.12.9",
         "0.16.0",
         "2.2.5",
         "2.2.3",
         "1.6.1",
         "4.6.0",
         "Linux-6.11.0-21-generic-x86_64-with-glibc2.39",
         "x86_64",
         "8",
         "16.64"
        ]
       ],
       "shape": {
        "columns": 17,
        "rows": 10
       }
      },
      "text/html": [
       "<div>\n",
       "<style scoped>\n",
       "    .dataframe tbody tr th:only-of-type {\n",
       "        vertical-align: middle;\n",
       "    }\n",
       "\n",
       "    .dataframe tbody tr th {\n",
       "        vertical-align: top;\n",
       "    }\n",
       "\n",
       "    .dataframe thead th {\n",
       "        text-align: right;\n",
       "    }\n",
       "</style>\n",
       "<table border=\"1\" class=\"dataframe\">\n",
       "  <thead>\n",
       "    <tr style=\"text-align: right;\">\n",
       "      <th></th>\n",
       "      <th>forecaster_name</th>\n",
       "      <th>regressor_name</th>\n",
       "      <th>function_name</th>\n",
       "      <th>function_hash</th>\n",
       "      <th>run_time_avg</th>\n",
       "      <th>run_time_std_dev</th>\n",
       "      <th>datetime</th>\n",
       "      <th>python_version</th>\n",
       "      <th>skforecast_version</th>\n",
       "      <th>numpy_version</th>\n",
       "      <th>pandas_version</th>\n",
       "      <th>sklearn_version</th>\n",
       "      <th>lightgbm_version</th>\n",
       "      <th>platform</th>\n",
       "      <th>processor</th>\n",
       "      <th>cpu_count</th>\n",
       "      <th>memory_gb</th>\n",
       "    </tr>\n",
       "  </thead>\n",
       "  <tbody>\n",
       "    <tr>\n",
       "      <th>1</th>\n",
       "      <td>ForecasterRecursiveMultiSeries</td>\n",
       "      <td>LGBMRegressor</td>\n",
       "      <td>ForecasterRecursiveMultiSeries__create_train_X...</td>\n",
       "      <td>583e7d25f58c2314c85ab6c385d879cc</td>\n",
       "      <td>1.594639</td>\n",
       "      <td>0.061033</td>\n",
       "      <td>2025-04-23 15:04:27.710376</td>\n",
       "      <td>3.12.9</td>\n",
       "      <td>0.16.0</td>\n",
       "      <td>2.2.5</td>\n",
       "      <td>2.2.3</td>\n",
       "      <td>1.6.1</td>\n",
       "      <td>4.6.0</td>\n",
       "      <td>Linux-6.11.0-21-generic-x86_64-with-glibc2.39</td>\n",
       "      <td>x86_64</td>\n",
       "      <td>8</td>\n",
       "      <td>16.64</td>\n",
       "    </tr>\n",
       "    <tr>\n",
       "      <th>13</th>\n",
       "      <td>ForecasterRecursiveMultiSeries</td>\n",
       "      <td>LGBMRegressor</td>\n",
       "      <td>ForecasterRecursiveMultiSeries__create_train_X...</td>\n",
       "      <td>583e7d25f58c2314c85ab6c385d879cc</td>\n",
       "      <td>1.730657</td>\n",
       "      <td>0.036684</td>\n",
       "      <td>2025-04-23 15:10:21.711978</td>\n",
       "      <td>3.12.9</td>\n",
       "      <td>0.15.1</td>\n",
       "      <td>2.2.5</td>\n",
       "      <td>2.2.3</td>\n",
       "      <td>1.6.1</td>\n",
       "      <td>4.6.0</td>\n",
       "      <td>Linux-6.11.0-21-generic-x86_64-with-glibc2.39</td>\n",
       "      <td>x86_64</td>\n",
       "      <td>8</td>\n",
       "      <td>16.64</td>\n",
       "    </tr>\n",
       "    <tr>\n",
       "      <th>25</th>\n",
       "      <td>ForecasterRecursiveMultiSeries</td>\n",
       "      <td>LGBMRegressor</td>\n",
       "      <td>ForecasterRecursiveMultiSeries__create_train_X...</td>\n",
       "      <td>583e7d25f58c2314c85ab6c385d879cc</td>\n",
       "      <td>2.008426</td>\n",
       "      <td>0.020794</td>\n",
       "      <td>2025-04-23 15:14:19.407835</td>\n",
       "      <td>3.12.9</td>\n",
       "      <td>0.14.0</td>\n",
       "      <td>2.2.5</td>\n",
       "      <td>2.2.3</td>\n",
       "      <td>1.6.1</td>\n",
       "      <td>4.6.0</td>\n",
       "      <td>Linux-6.11.0-21-generic-x86_64-with-glibc2.39</td>\n",
       "      <td>x86_64</td>\n",
       "      <td>8</td>\n",
       "      <td>16.64</td>\n",
       "    </tr>\n",
       "    <tr>\n",
       "      <th>37</th>\n",
       "      <td>ForecasterAutoregMultiSeries</td>\n",
       "      <td>LGBMRegressor</td>\n",
       "      <td>ForecasterRecursiveMultiSeries__create_train_X...</td>\n",
       "      <td>583e7d25f58c2314c85ab6c385d879cc</td>\n",
       "      <td>2.624174</td>\n",
       "      <td>0.090886</td>\n",
       "      <td>2025-04-23 15:26:26.520388</td>\n",
       "      <td>3.12.9</td>\n",
       "      <td>0.13.0</td>\n",
       "      <td>2.2.5</td>\n",
       "      <td>2.2.3</td>\n",
       "      <td>1.6.1</td>\n",
       "      <td>4.6.0</td>\n",
       "      <td>Linux-6.11.0-21-generic-x86_64-with-glibc2.39</td>\n",
       "      <td>x86_64</td>\n",
       "      <td>8</td>\n",
       "      <td>16.64</td>\n",
       "    </tr>\n",
       "    <tr>\n",
       "      <th>49</th>\n",
       "      <td>ForecasterAutoregMultiSeries</td>\n",
       "      <td>LGBMRegressor</td>\n",
       "      <td>ForecasterRecursiveMultiSeries__create_train_X...</td>\n",
       "      <td>583e7d25f58c2314c85ab6c385d879cc</td>\n",
       "      <td>2.603322</td>\n",
       "      <td>0.046577</td>\n",
       "      <td>2025-04-23 15:35:47.542332</td>\n",
       "      <td>3.12.9</td>\n",
       "      <td>0.13.0</td>\n",
       "      <td>2.2.5</td>\n",
       "      <td>2.2.3</td>\n",
       "      <td>1.6.1</td>\n",
       "      <td>4.6.0</td>\n",
       "      <td>Linux-6.11.0-21-generic-x86_64-with-glibc2.39</td>\n",
       "      <td>x86_64</td>\n",
       "      <td>8</td>\n",
       "      <td>16.64</td>\n",
       "    </tr>\n",
       "    <tr>\n",
       "      <th>69</th>\n",
       "      <td>ForecasterRecursiveMultiSeries</td>\n",
       "      <td>LGBMRegressor</td>\n",
       "      <td>ForecasterRecursiveMultiSeries__create_train_X...</td>\n",
       "      <td>583e7d25f58c2314c85ab6c385d879cc</td>\n",
       "      <td>1.998299</td>\n",
       "      <td>0.020942</td>\n",
       "      <td>2025-04-23 15:55:04.326742</td>\n",
       "      <td>3.12.9</td>\n",
       "      <td>0.14.0</td>\n",
       "      <td>2.2.5</td>\n",
       "      <td>2.2.3</td>\n",
       "      <td>1.6.1</td>\n",
       "      <td>4.6.0</td>\n",
       "      <td>Linux-6.11.0-21-generic-x86_64-with-glibc2.39</td>\n",
       "      <td>x86_64</td>\n",
       "      <td>8</td>\n",
       "      <td>16.64</td>\n",
       "    </tr>\n",
       "    <tr>\n",
       "      <th>81</th>\n",
       "      <td>ForecasterRecursiveMultiSeries</td>\n",
       "      <td>LGBMRegressor</td>\n",
       "      <td>ForecasterRecursiveMultiSeries__create_train_X...</td>\n",
       "      <td>583e7d25f58c2314c85ab6c385d879cc</td>\n",
       "      <td>1.760219</td>\n",
       "      <td>0.029486</td>\n",
       "      <td>2025-04-23 15:59:19.730993</td>\n",
       "      <td>3.12.9</td>\n",
       "      <td>0.15.1</td>\n",
       "      <td>2.2.5</td>\n",
       "      <td>2.2.3</td>\n",
       "      <td>1.6.1</td>\n",
       "      <td>4.6.0</td>\n",
       "      <td>Linux-6.11.0-21-generic-x86_64-with-glibc2.39</td>\n",
       "      <td>x86_64</td>\n",
       "      <td>8</td>\n",
       "      <td>16.64</td>\n",
       "    </tr>\n",
       "    <tr>\n",
       "      <th>93</th>\n",
       "      <td>ForecasterRecursiveMultiSeries</td>\n",
       "      <td>LGBMRegressor</td>\n",
       "      <td>ForecasterRecursiveMultiSeries__create_train_X...</td>\n",
       "      <td>583e7d25f58c2314c85ab6c385d879cc</td>\n",
       "      <td>1.708451</td>\n",
       "      <td>0.049639</td>\n",
       "      <td>2025-04-23 16:03:50.974931</td>\n",
       "      <td>3.12.9</td>\n",
       "      <td>0.15.1</td>\n",
       "      <td>2.2.5</td>\n",
       "      <td>2.2.3</td>\n",
       "      <td>1.6.1</td>\n",
       "      <td>4.6.0</td>\n",
       "      <td>Linux-6.11.0-21-generic-x86_64-with-glibc2.39</td>\n",
       "      <td>x86_64</td>\n",
       "      <td>8</td>\n",
       "      <td>16.64</td>\n",
       "    </tr>\n",
       "    <tr>\n",
       "      <th>105</th>\n",
       "      <td>ForecasterRecursiveMultiSeries</td>\n",
       "      <td>LGBMRegressor</td>\n",
       "      <td>ForecasterRecursiveMultiSeries__create_train_X...</td>\n",
       "      <td>583e7d25f58c2314c85ab6c385d879cc</td>\n",
       "      <td>1.560971</td>\n",
       "      <td>0.057417</td>\n",
       "      <td>2025-04-23 16:07:11.473435</td>\n",
       "      <td>3.12.9</td>\n",
       "      <td>0.16.0</td>\n",
       "      <td>2.2.5</td>\n",
       "      <td>2.2.3</td>\n",
       "      <td>1.6.1</td>\n",
       "      <td>4.6.0</td>\n",
       "      <td>Linux-6.11.0-21-generic-x86_64-with-glibc2.39</td>\n",
       "      <td>x86_64</td>\n",
       "      <td>8</td>\n",
       "      <td>16.64</td>\n",
       "    </tr>\n",
       "    <tr>\n",
       "      <th>117</th>\n",
       "      <td>ForecasterRecursiveMultiSeries</td>\n",
       "      <td>LGBMRegressor</td>\n",
       "      <td>ForecasterRecursiveMultiSeries__create_train_X...</td>\n",
       "      <td>583e7d25f58c2314c85ab6c385d879cc</td>\n",
       "      <td>1.534163</td>\n",
       "      <td>0.040951</td>\n",
       "      <td>2025-04-23 16:10:44.200979</td>\n",
       "      <td>3.12.9</td>\n",
       "      <td>0.16.0</td>\n",
       "      <td>2.2.5</td>\n",
       "      <td>2.2.3</td>\n",
       "      <td>1.6.1</td>\n",
       "      <td>4.6.0</td>\n",
       "      <td>Linux-6.11.0-21-generic-x86_64-with-glibc2.39</td>\n",
       "      <td>x86_64</td>\n",
       "      <td>8</td>\n",
       "      <td>16.64</td>\n",
       "    </tr>\n",
       "  </tbody>\n",
       "</table>\n",
       "</div>"
      ],
      "text/plain": [
       "                    forecaster_name regressor_name  \\\n",
       "1    ForecasterRecursiveMultiSeries  LGBMRegressor   \n",
       "13   ForecasterRecursiveMultiSeries  LGBMRegressor   \n",
       "25   ForecasterRecursiveMultiSeries  LGBMRegressor   \n",
       "37     ForecasterAutoregMultiSeries  LGBMRegressor   \n",
       "49     ForecasterAutoregMultiSeries  LGBMRegressor   \n",
       "69   ForecasterRecursiveMultiSeries  LGBMRegressor   \n",
       "81   ForecasterRecursiveMultiSeries  LGBMRegressor   \n",
       "93   ForecasterRecursiveMultiSeries  LGBMRegressor   \n",
       "105  ForecasterRecursiveMultiSeries  LGBMRegressor   \n",
       "117  ForecasterRecursiveMultiSeries  LGBMRegressor   \n",
       "\n",
       "                                         function_name  \\\n",
       "1    ForecasterRecursiveMultiSeries__create_train_X...   \n",
       "13   ForecasterRecursiveMultiSeries__create_train_X...   \n",
       "25   ForecasterRecursiveMultiSeries__create_train_X...   \n",
       "37   ForecasterRecursiveMultiSeries__create_train_X...   \n",
       "49   ForecasterRecursiveMultiSeries__create_train_X...   \n",
       "69   ForecasterRecursiveMultiSeries__create_train_X...   \n",
       "81   ForecasterRecursiveMultiSeries__create_train_X...   \n",
       "93   ForecasterRecursiveMultiSeries__create_train_X...   \n",
       "105  ForecasterRecursiveMultiSeries__create_train_X...   \n",
       "117  ForecasterRecursiveMultiSeries__create_train_X...   \n",
       "\n",
       "                        function_hash  run_time_avg  run_time_std_dev  \\\n",
       "1    583e7d25f58c2314c85ab6c385d879cc      1.594639          0.061033   \n",
       "13   583e7d25f58c2314c85ab6c385d879cc      1.730657          0.036684   \n",
       "25   583e7d25f58c2314c85ab6c385d879cc      2.008426          0.020794   \n",
       "37   583e7d25f58c2314c85ab6c385d879cc      2.624174          0.090886   \n",
       "49   583e7d25f58c2314c85ab6c385d879cc      2.603322          0.046577   \n",
       "69   583e7d25f58c2314c85ab6c385d879cc      1.998299          0.020942   \n",
       "81   583e7d25f58c2314c85ab6c385d879cc      1.760219          0.029486   \n",
       "93   583e7d25f58c2314c85ab6c385d879cc      1.708451          0.049639   \n",
       "105  583e7d25f58c2314c85ab6c385d879cc      1.560971          0.057417   \n",
       "117  583e7d25f58c2314c85ab6c385d879cc      1.534163          0.040951   \n",
       "\n",
       "                      datetime python_version skforecast_version  \\\n",
       "1   2025-04-23 15:04:27.710376         3.12.9             0.16.0   \n",
       "13  2025-04-23 15:10:21.711978         3.12.9             0.15.1   \n",
       "25  2025-04-23 15:14:19.407835         3.12.9             0.14.0   \n",
       "37  2025-04-23 15:26:26.520388         3.12.9             0.13.0   \n",
       "49  2025-04-23 15:35:47.542332         3.12.9             0.13.0   \n",
       "69  2025-04-23 15:55:04.326742         3.12.9             0.14.0   \n",
       "81  2025-04-23 15:59:19.730993         3.12.9             0.15.1   \n",
       "93  2025-04-23 16:03:50.974931         3.12.9             0.15.1   \n",
       "105 2025-04-23 16:07:11.473435         3.12.9             0.16.0   \n",
       "117 2025-04-23 16:10:44.200979         3.12.9             0.16.0   \n",
       "\n",
       "    numpy_version pandas_version sklearn_version lightgbm_version  \\\n",
       "1           2.2.5          2.2.3           1.6.1            4.6.0   \n",
       "13          2.2.5          2.2.3           1.6.1            4.6.0   \n",
       "25          2.2.5          2.2.3           1.6.1            4.6.0   \n",
       "37          2.2.5          2.2.3           1.6.1            4.6.0   \n",
       "49          2.2.5          2.2.3           1.6.1            4.6.0   \n",
       "69          2.2.5          2.2.3           1.6.1            4.6.0   \n",
       "81          2.2.5          2.2.3           1.6.1            4.6.0   \n",
       "93          2.2.5          2.2.3           1.6.1            4.6.0   \n",
       "105         2.2.5          2.2.3           1.6.1            4.6.0   \n",
       "117         2.2.5          2.2.3           1.6.1            4.6.0   \n",
       "\n",
       "                                          platform processor  cpu_count  \\\n",
       "1    Linux-6.11.0-21-generic-x86_64-with-glibc2.39    x86_64          8   \n",
       "13   Linux-6.11.0-21-generic-x86_64-with-glibc2.39    x86_64          8   \n",
       "25   Linux-6.11.0-21-generic-x86_64-with-glibc2.39    x86_64          8   \n",
       "37   Linux-6.11.0-21-generic-x86_64-with-glibc2.39    x86_64          8   \n",
       "49   Linux-6.11.0-21-generic-x86_64-with-glibc2.39    x86_64          8   \n",
       "69   Linux-6.11.0-21-generic-x86_64-with-glibc2.39    x86_64          8   \n",
       "81   Linux-6.11.0-21-generic-x86_64-with-glibc2.39    x86_64          8   \n",
       "93   Linux-6.11.0-21-generic-x86_64-with-glibc2.39    x86_64          8   \n",
       "105  Linux-6.11.0-21-generic-x86_64-with-glibc2.39    x86_64          8   \n",
       "117  Linux-6.11.0-21-generic-x86_64-with-glibc2.39    x86_64          8   \n",
       "\n",
       "     memory_gb  \n",
       "1        16.64  \n",
       "13       16.64  \n",
       "25       16.64  \n",
       "37       16.64  \n",
       "49       16.64  \n",
       "69       16.64  \n",
       "81       16.64  \n",
       "93       16.64  \n",
       "105      16.64  \n",
       "117      16.64  "
      ]
     },
     "metadata": {},
     "output_type": "display_data"
    },
    {
     "data": {
      "application/vnd.plotly.v1+json": {
       "config": {
        "plotlyServerURL": "https://plot.ly"
       },
       "data": [
        {
         "error_y": {
          "array": {
           "bdata": "F2F1lVVEtz97tS858dinPw==",
           "dtype": "f8"
          },
          "color": "#636EFA",
          "thickness": 1.5,
          "type": "data",
          "visible": true,
          "width": 5
         },
         "hovertemplate": "Version: 0.13.0<br>Runtime: %{y:.2f}s<extra></extra>",
         "marker": {
          "color": "#636EFA",
          "opacity": 0.7,
          "size": 10
         },
         "mode": "markers",
         "name": "Run time - 0.13.0",
         "showlegend": true,
         "type": "scatter",
         "x": {
          "bdata": "fByzX9/Fir9AKClBT8iAPw==",
          "dtype": "f8"
         },
         "y": {
          "bdata": "zSztCU/+BEDN3HqSmtMEQA==",
          "dtype": "f8"
         }
        },
        {
         "error_y": {
          "array": {
           "bdata": "1owkwwdLlT+u4kn25XGVPw==",
           "dtype": "f8"
          },
          "color": "#EF553B",
          "thickness": 1.5,
          "type": "data",
          "visible": true,
          "width": 5
         },
         "hovertemplate": "Version: 0.14.0<br>Runtime: %{y:.2f}s<extra></extra>",
         "marker": {
          "color": "#EF553B",
          "opacity": 0.7,
          "size": 10
         },
         "mode": "markers",
         "name": "Run time - 0.14.0",
         "showlegend": true,
         "type": "scatter",
         "x": {
          "bdata": "WsufM0wh8D/sid4cvavwPw==",
          "dtype": "f8"
         },
         "y": {
          "bdata": "M9NFt0ERAEBmJo1cCPn/Pw==",
          "dtype": "f8"
         }
        },
        {
         "error_y": {
          "array": {
           "bdata": "Q4c2I0HIoj/sd648szGePyoXLmVFaqk/",
           "dtype": "f8"
          },
          "color": "#00CC96",
          "thickness": 1.5,
          "type": "data",
          "visible": true,
          "width": 5
         },
         "hovertemplate": "Version: 0.15.1<br>Runtime: %{y:.2f}s<extra></extra>",
         "marker": {
          "color": "#00CC96",
          "opacity": 0.7,
          "size": 10
         },
         "mode": "markers",
         "name": "Run time - 0.15.1",
         "showlegend": true,
         "type": "scatter",
         "x": {
          "bdata": "o+edyHNh/z9etUcwD5P/PzyVwAXWKwBA",
          "dtype": "f8"
         },
         "y": {
          "bdata": "zWxdAMWw+z8AAOOe2yn8P83M2U3QVfs/",
          "dtype": "f8"
         }
        },
        {
         "error_y": {
          "array": {
           "bdata": "cz+6lLg/rz/7+kxOwGWtP+VNXOOB96Q/",
           "dtype": "f8"
          },
          "color": "#AB63FA",
          "thickness": 1.5,
          "type": "data",
          "visible": true,
          "width": 5
         },
         "hovertemplate": "Version: 0.16.0<br>Runtime: %{y:.2f}s<extra></extra>",
         "marker": {
          "color": "#AB63FA",
          "opacity": 0.7,
          "size": 10
         },
         "mode": "markers",
         "name": "Run time - 0.16.0",
         "showlegend": true,
         "type": "scatter",
         "x": {
          "bdata": "BPQEQSs7CEBa7SFg/PsHQN1xRrJWNAhA",
          "dtype": "f8"
         },
         "y": {
          "bdata": "M/MpXKSD+T9mJp09vfn4PwCAXtjui/g/",
          "dtype": "f8"
         }
        },
        {
         "line": {
          "color": "black",
          "width": 2
         },
         "marker": {
          "color": "black",
          "size": 8
         },
         "mode": "lines+markers",
         "name": "Median (per version)",
         "type": "scatter",
         "x": {
          "bdata": "AAECAw==",
          "dtype": "i1"
         },
         "y": {
          "bdata": "zQQ0zvToBEAzM8by4gYAQM1sXQDFsPs/ZiadPb35+D8=",
          "dtype": "f8"
         }
        }
       ],
       "layout": {
        "showlegend": true,
        "template": {
         "data": {
          "bar": [
           {
            "error_x": {
             "color": "#2a3f5f"
            },
            "error_y": {
             "color": "#2a3f5f"
            },
            "marker": {
             "line": {
              "color": "#E5ECF6",
              "width": 0.5
             },
             "pattern": {
              "fillmode": "overlay",
              "size": 10,
              "solidity": 0.2
             }
            },
            "type": "bar"
           }
          ],
          "barpolar": [
           {
            "marker": {
             "line": {
              "color": "#E5ECF6",
              "width": 0.5
             },
             "pattern": {
              "fillmode": "overlay",
              "size": 10,
              "solidity": 0.2
             }
            },
            "type": "barpolar"
           }
          ],
          "carpet": [
           {
            "aaxis": {
             "endlinecolor": "#2a3f5f",
             "gridcolor": "white",
             "linecolor": "white",
             "minorgridcolor": "white",
             "startlinecolor": "#2a3f5f"
            },
            "baxis": {
             "endlinecolor": "#2a3f5f",
             "gridcolor": "white",
             "linecolor": "white",
             "minorgridcolor": "white",
             "startlinecolor": "#2a3f5f"
            },
            "type": "carpet"
           }
          ],
          "choropleth": [
           {
            "colorbar": {
             "outlinewidth": 0,
             "ticks": ""
            },
            "type": "choropleth"
           }
          ],
          "contour": [
           {
            "colorbar": {
             "outlinewidth": 0,
             "ticks": ""
            },
            "colorscale": [
             [
              0,
              "#0d0887"
             ],
             [
              0.1111111111111111,
              "#46039f"
             ],
             [
              0.2222222222222222,
              "#7201a8"
             ],
             [
              0.3333333333333333,
              "#9c179e"
             ],
             [
              0.4444444444444444,
              "#bd3786"
             ],
             [
              0.5555555555555556,
              "#d8576b"
             ],
             [
              0.6666666666666666,
              "#ed7953"
             ],
             [
              0.7777777777777778,
              "#fb9f3a"
             ],
             [
              0.8888888888888888,
              "#fdca26"
             ],
             [
              1,
              "#f0f921"
             ]
            ],
            "type": "contour"
           }
          ],
          "contourcarpet": [
           {
            "colorbar": {
             "outlinewidth": 0,
             "ticks": ""
            },
            "type": "contourcarpet"
           }
          ],
          "heatmap": [
           {
            "colorbar": {
             "outlinewidth": 0,
             "ticks": ""
            },
            "colorscale": [
             [
              0,
              "#0d0887"
             ],
             [
              0.1111111111111111,
              "#46039f"
             ],
             [
              0.2222222222222222,
              "#7201a8"
             ],
             [
              0.3333333333333333,
              "#9c179e"
             ],
             [
              0.4444444444444444,
              "#bd3786"
             ],
             [
              0.5555555555555556,
              "#d8576b"
             ],
             [
              0.6666666666666666,
              "#ed7953"
             ],
             [
              0.7777777777777778,
              "#fb9f3a"
             ],
             [
              0.8888888888888888,
              "#fdca26"
             ],
             [
              1,
              "#f0f921"
             ]
            ],
            "type": "heatmap"
           }
          ],
          "histogram": [
           {
            "marker": {
             "pattern": {
              "fillmode": "overlay",
              "size": 10,
              "solidity": 0.2
             }
            },
            "type": "histogram"
           }
          ],
          "histogram2d": [
           {
            "colorbar": {
             "outlinewidth": 0,
             "ticks": ""
            },
            "colorscale": [
             [
              0,
              "#0d0887"
             ],
             [
              0.1111111111111111,
              "#46039f"
             ],
             [
              0.2222222222222222,
              "#7201a8"
             ],
             [
              0.3333333333333333,
              "#9c179e"
             ],
             [
              0.4444444444444444,
              "#bd3786"
             ],
             [
              0.5555555555555556,
              "#d8576b"
             ],
             [
              0.6666666666666666,
              "#ed7953"
             ],
             [
              0.7777777777777778,
              "#fb9f3a"
             ],
             [
              0.8888888888888888,
              "#fdca26"
             ],
             [
              1,
              "#f0f921"
             ]
            ],
            "type": "histogram2d"
           }
          ],
          "histogram2dcontour": [
           {
            "colorbar": {
             "outlinewidth": 0,
             "ticks": ""
            },
            "colorscale": [
             [
              0,
              "#0d0887"
             ],
             [
              0.1111111111111111,
              "#46039f"
             ],
             [
              0.2222222222222222,
              "#7201a8"
             ],
             [
              0.3333333333333333,
              "#9c179e"
             ],
             [
              0.4444444444444444,
              "#bd3786"
             ],
             [
              0.5555555555555556,
              "#d8576b"
             ],
             [
              0.6666666666666666,
              "#ed7953"
             ],
             [
              0.7777777777777778,
              "#fb9f3a"
             ],
             [
              0.8888888888888888,
              "#fdca26"
             ],
             [
              1,
              "#f0f921"
             ]
            ],
            "type": "histogram2dcontour"
           }
          ],
          "mesh3d": [
           {
            "colorbar": {
             "outlinewidth": 0,
             "ticks": ""
            },
            "type": "mesh3d"
           }
          ],
          "parcoords": [
           {
            "line": {
             "colorbar": {
              "outlinewidth": 0,
              "ticks": ""
             }
            },
            "type": "parcoords"
           }
          ],
          "pie": [
           {
            "automargin": true,
            "type": "pie"
           }
          ],
          "scatter": [
           {
            "fillpattern": {
             "fillmode": "overlay",
             "size": 10,
             "solidity": 0.2
            },
            "type": "scatter"
           }
          ],
          "scatter3d": [
           {
            "line": {
             "colorbar": {
              "outlinewidth": 0,
              "ticks": ""
             }
            },
            "marker": {
             "colorbar": {
              "outlinewidth": 0,
              "ticks": ""
             }
            },
            "type": "scatter3d"
           }
          ],
          "scattercarpet": [
           {
            "marker": {
             "colorbar": {
              "outlinewidth": 0,
              "ticks": ""
             }
            },
            "type": "scattercarpet"
           }
          ],
          "scattergeo": [
           {
            "marker": {
             "colorbar": {
              "outlinewidth": 0,
              "ticks": ""
             }
            },
            "type": "scattergeo"
           }
          ],
          "scattergl": [
           {
            "marker": {
             "colorbar": {
              "outlinewidth": 0,
              "ticks": ""
             }
            },
            "type": "scattergl"
           }
          ],
          "scattermap": [
           {
            "marker": {
             "colorbar": {
              "outlinewidth": 0,
              "ticks": ""
             }
            },
            "type": "scattermap"
           }
          ],
          "scattermapbox": [
           {
            "marker": {
             "colorbar": {
              "outlinewidth": 0,
              "ticks": ""
             }
            },
            "type": "scattermapbox"
           }
          ],
          "scatterpolar": [
           {
            "marker": {
             "colorbar": {
              "outlinewidth": 0,
              "ticks": ""
             }
            },
            "type": "scatterpolar"
           }
          ],
          "scatterpolargl": [
           {
            "marker": {
             "colorbar": {
              "outlinewidth": 0,
              "ticks": ""
             }
            },
            "type": "scatterpolargl"
           }
          ],
          "scatterternary": [
           {
            "marker": {
             "colorbar": {
              "outlinewidth": 0,
              "ticks": ""
             }
            },
            "type": "scatterternary"
           }
          ],
          "surface": [
           {
            "colorbar": {
             "outlinewidth": 0,
             "ticks": ""
            },
            "colorscale": [
             [
              0,
              "#0d0887"
             ],
             [
              0.1111111111111111,
              "#46039f"
             ],
             [
              0.2222222222222222,
              "#7201a8"
             ],
             [
              0.3333333333333333,
              "#9c179e"
             ],
             [
              0.4444444444444444,
              "#bd3786"
             ],
             [
              0.5555555555555556,
              "#d8576b"
             ],
             [
              0.6666666666666666,
              "#ed7953"
             ],
             [
              0.7777777777777778,
              "#fb9f3a"
             ],
             [
              0.8888888888888888,
              "#fdca26"
             ],
             [
              1,
              "#f0f921"
             ]
            ],
            "type": "surface"
           }
          ],
          "table": [
           {
            "cells": {
             "fill": {
              "color": "#EBF0F8"
             },
             "line": {
              "color": "white"
             }
            },
            "header": {
             "fill": {
              "color": "#C8D4E3"
             },
             "line": {
              "color": "white"
             }
            },
            "type": "table"
           }
          ]
         },
         "layout": {
          "annotationdefaults": {
           "arrowcolor": "#2a3f5f",
           "arrowhead": 0,
           "arrowwidth": 1
          },
          "autotypenumbers": "strict",
          "coloraxis": {
           "colorbar": {
            "outlinewidth": 0,
            "ticks": ""
           }
          },
          "colorscale": {
           "diverging": [
            [
             0,
             "#8e0152"
            ],
            [
             0.1,
             "#c51b7d"
            ],
            [
             0.2,
             "#de77ae"
            ],
            [
             0.3,
             "#f1b6da"
            ],
            [
             0.4,
             "#fde0ef"
            ],
            [
             0.5,
             "#f7f7f7"
            ],
            [
             0.6,
             "#e6f5d0"
            ],
            [
             0.7,
             "#b8e186"
            ],
            [
             0.8,
             "#7fbc41"
            ],
            [
             0.9,
             "#4d9221"
            ],
            [
             1,
             "#276419"
            ]
           ],
           "sequential": [
            [
             0,
             "#0d0887"
            ],
            [
             0.1111111111111111,
             "#46039f"
            ],
            [
             0.2222222222222222,
             "#7201a8"
            ],
            [
             0.3333333333333333,
             "#9c179e"
            ],
            [
             0.4444444444444444,
             "#bd3786"
            ],
            [
             0.5555555555555556,
             "#d8576b"
            ],
            [
             0.6666666666666666,
             "#ed7953"
            ],
            [
             0.7777777777777778,
             "#fb9f3a"
            ],
            [
             0.8888888888888888,
             "#fdca26"
            ],
            [
             1,
             "#f0f921"
            ]
           ],
           "sequentialminus": [
            [
             0,
             "#0d0887"
            ],
            [
             0.1111111111111111,
             "#46039f"
            ],
            [
             0.2222222222222222,
             "#7201a8"
            ],
            [
             0.3333333333333333,
             "#9c179e"
            ],
            [
             0.4444444444444444,
             "#bd3786"
            ],
            [
             0.5555555555555556,
             "#d8576b"
            ],
            [
             0.6666666666666666,
             "#ed7953"
            ],
            [
             0.7777777777777778,
             "#fb9f3a"
            ],
            [
             0.8888888888888888,
             "#fdca26"
            ],
            [
             1,
             "#f0f921"
            ]
           ]
          },
          "colorway": [
           "#636efa",
           "#EF553B",
           "#00cc96",
           "#ab63fa",
           "#FFA15A",
           "#19d3f3",
           "#FF6692",
           "#B6E880",
           "#FF97FF",
           "#FECB52"
          ],
          "font": {
           "color": "#2a3f5f"
          },
          "geo": {
           "bgcolor": "white",
           "lakecolor": "white",
           "landcolor": "#E5ECF6",
           "showlakes": true,
           "showland": true,
           "subunitcolor": "white"
          },
          "hoverlabel": {
           "align": "left"
          },
          "hovermode": "closest",
          "mapbox": {
           "style": "light"
          },
          "paper_bgcolor": "white",
          "plot_bgcolor": "#E5ECF6",
          "polar": {
           "angularaxis": {
            "gridcolor": "white",
            "linecolor": "white",
            "ticks": ""
           },
           "bgcolor": "#E5ECF6",
           "radialaxis": {
            "gridcolor": "white",
            "linecolor": "white",
            "ticks": ""
           }
          },
          "scene": {
           "xaxis": {
            "backgroundcolor": "#E5ECF6",
            "gridcolor": "white",
            "gridwidth": 2,
            "linecolor": "white",
            "showbackground": true,
            "ticks": "",
            "zerolinecolor": "white"
           },
           "yaxis": {
            "backgroundcolor": "#E5ECF6",
            "gridcolor": "white",
            "gridwidth": 2,
            "linecolor": "white",
            "showbackground": true,
            "ticks": "",
            "zerolinecolor": "white"
           },
           "zaxis": {
            "backgroundcolor": "#E5ECF6",
            "gridcolor": "white",
            "gridwidth": 2,
            "linecolor": "white",
            "showbackground": true,
            "ticks": "",
            "zerolinecolor": "white"
           }
          },
          "shapedefaults": {
           "line": {
            "color": "#2a3f5f"
           }
          },
          "ternary": {
           "aaxis": {
            "gridcolor": "white",
            "linecolor": "white",
            "ticks": ""
           },
           "baxis": {
            "gridcolor": "white",
            "linecolor": "white",
            "ticks": ""
           },
           "bgcolor": "#E5ECF6",
           "caxis": {
            "gridcolor": "white",
            "linecolor": "white",
            "ticks": ""
           }
          },
          "title": {
           "x": 0.05
          },
          "xaxis": {
           "automargin": true,
           "gridcolor": "white",
           "linecolor": "white",
           "ticks": "",
           "title": {
            "standoff": 15
           },
           "zerolinecolor": "white",
           "zerolinewidth": 2
          },
          "yaxis": {
           "automargin": true,
           "gridcolor": "white",
           "linecolor": "white",
           "ticks": "",
           "title": {
            "standoff": 15
           },
           "zerolinecolor": "white",
           "zerolinewidth": 2
          }
         }
        },
        "title": {
         "text": "Execution time of ForecasterRecursiveMultiSeries__create_train_X_y_series_is_dict_exog_is_dict"
        },
        "xaxis": {
         "tickangle": -45,
         "tickmode": "array",
         "ticktext": [
          "0.13.0",
          "0.14.0",
          "0.15.1",
          "0.16.0"
         ],
         "tickvals": [
          0,
          1,
          2,
          3
         ],
         "title": {
          "text": "skforecast version"
         }
        },
        "yaxis": {
         "title": {
          "text": "Execution time (seconds)"
         }
        }
       }
      }
     },
     "metadata": {},
     "output_type": "display_data"
    },
    {
     "data": {
      "application/vnd.microsoft.datawrangler.viewer.v0+json": {
       "columns": [
        {
         "name": "index",
         "rawType": "int64",
         "type": "integer"
        },
        {
         "name": "forecaster_name",
         "rawType": "object",
         "type": "string"
        },
        {
         "name": "regressor_name",
         "rawType": "object",
         "type": "string"
        },
        {
         "name": "function_name",
         "rawType": "object",
         "type": "string"
        },
        {
         "name": "function_hash",
         "rawType": "object",
         "type": "string"
        },
        {
         "name": "run_time_avg",
         "rawType": "float64",
         "type": "float"
        },
        {
         "name": "run_time_std_dev",
         "rawType": "float64",
         "type": "float"
        },
        {
         "name": "datetime",
         "rawType": "datetime64[ns]",
         "type": "datetime"
        },
        {
         "name": "python_version",
         "rawType": "object",
         "type": "string"
        },
        {
         "name": "skforecast_version",
         "rawType": "object",
         "type": "string"
        },
        {
         "name": "numpy_version",
         "rawType": "object",
         "type": "string"
        },
        {
         "name": "pandas_version",
         "rawType": "object",
         "type": "string"
        },
        {
         "name": "sklearn_version",
         "rawType": "object",
         "type": "string"
        },
        {
         "name": "lightgbm_version",
         "rawType": "object",
         "type": "string"
        },
        {
         "name": "platform",
         "rawType": "object",
         "type": "string"
        },
        {
         "name": "processor",
         "rawType": "object",
         "type": "string"
        },
        {
         "name": "cpu_count",
         "rawType": "int64",
         "type": "integer"
        },
        {
         "name": "memory_gb",
         "rawType": "float64",
         "type": "float"
        }
       ],
       "conversionMethod": "pd.DataFrame",
       "ref": "aa693ab7-30d9-4a86-a723-6685eed77a17",
       "rows": [
        [
         "2",
         "ForecasterRecursiveMultiSeries",
         "LGBMRegressor",
         "ForecasterRecursiveMultiSeries_fit_series_is_dataframe_no_exog",
         "aa35b8ba0c0839021a95e5ba0786a67e",
         "11.580741844999284",
         "0.9174932438013217",
         "2025-04-23 15:04:35.688064",
         "3.12.9",
         "0.16.0",
         "2.2.5",
         "2.2.3",
         "1.6.1",
         "4.6.0",
         "Linux-6.11.0-21-generic-x86_64-with-glibc2.39",
         "x86_64",
         "8",
         "16.64"
        ],
        [
         "14",
         "ForecasterRecursiveMultiSeries",
         "LGBMRegressor",
         "ForecasterRecursiveMultiSeries_fit_series_is_dataframe_no_exog",
         "aa35b8ba0c0839021a95e5ba0786a67e",
         "10.828552564799612",
         "0.10774933746012451",
         "2025-04-23 15:10:30.369368",
         "3.12.9",
         "0.15.1",
         "2.2.5",
         "2.2.3",
         "1.6.1",
         "4.6.0",
         "Linux-6.11.0-21-generic-x86_64-with-glibc2.39",
         "x86_64",
         "8",
         "16.64"
        ],
        [
         "26",
         "ForecasterRecursiveMultiSeries",
         "LGBMRegressor",
         "ForecasterRecursiveMultiSeries_fit_series_is_dataframe_no_exog",
         "aa35b8ba0c0839021a95e5ba0786a67e",
         "10.099889255600647",
         "0.16031088063375187",
         "2025-04-23 15:14:29.454622",
         "3.12.9",
         "0.14.0",
         "2.2.5",
         "2.2.3",
         "1.6.1",
         "4.6.0",
         "Linux-6.11.0-21-generic-x86_64-with-glibc2.39",
         "x86_64",
         "8",
         "16.64"
        ],
        [
         "38",
         "ForecasterAutoregMultiSeries",
         "LGBMRegressor",
         "ForecasterRecursiveMultiSeries_fit_series_is_dataframe_no_exog",
         "aa35b8ba0c0839021a95e5ba0786a67e",
         "11.003429645200232",
         "0.22384510549927014",
         "2025-04-23 15:26:39.645552",
         "3.12.9",
         "0.13.0",
         "2.2.5",
         "2.2.3",
         "1.6.1",
         "4.6.0",
         "Linux-6.11.0-21-generic-x86_64-with-glibc2.39",
         "x86_64",
         "8",
         "16.64"
        ],
        [
         "50",
         "ForecasterAutoregMultiSeries",
         "LGBMRegressor",
         "ForecasterRecursiveMultiSeries_fit_series_is_dataframe_no_exog",
         "aa35b8ba0c0839021a95e5ba0786a67e",
         "11.890319442799955",
         "0.5210441566047335",
         "2025-04-23 15:36:00.563508",
         "3.12.9",
         "0.13.0",
         "2.2.5",
         "2.2.3",
         "1.6.1",
         "4.6.0",
         "Linux-6.11.0-21-generic-x86_64-with-glibc2.39",
         "x86_64",
         "8",
         "16.64"
        ],
        [
         "70",
         "ForecasterRecursiveMultiSeries",
         "LGBMRegressor",
         "ForecasterRecursiveMultiSeries_fit_series_is_dataframe_no_exog",
         "aa35b8ba0c0839021a95e5ba0786a67e",
         "10.926484530200105",
         "0.8125231695401454",
         "2025-04-23 15:55:14.322641",
         "3.12.9",
         "0.14.0",
         "2.2.5",
         "2.2.3",
         "1.6.1",
         "4.6.0",
         "Linux-6.11.0-21-generic-x86_64-with-glibc2.39",
         "x86_64",
         "8",
         "16.64"
        ],
        [
         "82",
         "ForecasterRecursiveMultiSeries",
         "LGBMRegressor",
         "ForecasterRecursiveMultiSeries_fit_series_is_dataframe_no_exog",
         "aa35b8ba0c0839021a95e5ba0786a67e",
         "11.199184329399941",
         "0.09696990954450073",
         "2025-04-23 15:59:28.536409",
         "3.12.9",
         "0.15.1",
         "2.2.5",
         "2.2.3",
         "1.6.1",
         "4.6.0",
         "Linux-6.11.0-21-generic-x86_64-with-glibc2.39",
         "x86_64",
         "8",
         "16.64"
        ],
        [
         "94",
         "ForecasterRecursiveMultiSeries",
         "LGBMRegressor",
         "ForecasterRecursiveMultiSeries_fit_series_is_dataframe_no_exog",
         "aa35b8ba0c0839021a95e5ba0786a67e",
         "11.031137460000172",
         "0.13409076762999553",
         "2025-04-23 16:03:59.522090",
         "3.12.9",
         "0.15.1",
         "2.2.5",
         "2.2.3",
         "1.6.1",
         "4.6.0",
         "Linux-6.11.0-21-generic-x86_64-with-glibc2.39",
         "x86_64",
         "8",
         "16.64"
        ],
        [
         "106",
         "ForecasterRecursiveMultiSeries",
         "LGBMRegressor",
         "ForecasterRecursiveMultiSeries_fit_series_is_dataframe_no_exog",
         "aa35b8ba0c0839021a95e5ba0786a67e",
         "11.330287806200795",
         "0.8955493309934619",
         "2025-04-23 16:07:19.282706",
         "3.12.9",
         "0.16.0",
         "2.2.5",
         "2.2.3",
         "1.6.1",
         "4.6.0",
         "Linux-6.11.0-21-generic-x86_64-with-glibc2.39",
         "x86_64",
         "8",
         "16.64"
        ],
        [
         "118",
         "ForecasterRecursiveMultiSeries",
         "LGBMRegressor",
         "ForecasterRecursiveMultiSeries_fit_series_is_dataframe_no_exog",
         "aa35b8ba0c0839021a95e5ba0786a67e",
         "10.856501733799814",
         "0.08118880086011718",
         "2025-04-23 16:10:51.876257",
         "3.12.9",
         "0.16.0",
         "2.2.5",
         "2.2.3",
         "1.6.1",
         "4.6.0",
         "Linux-6.11.0-21-generic-x86_64-with-glibc2.39",
         "x86_64",
         "8",
         "16.64"
        ]
       ],
       "shape": {
        "columns": 17,
        "rows": 10
       }
      },
      "text/html": [
       "<div>\n",
       "<style scoped>\n",
       "    .dataframe tbody tr th:only-of-type {\n",
       "        vertical-align: middle;\n",
       "    }\n",
       "\n",
       "    .dataframe tbody tr th {\n",
       "        vertical-align: top;\n",
       "    }\n",
       "\n",
       "    .dataframe thead th {\n",
       "        text-align: right;\n",
       "    }\n",
       "</style>\n",
       "<table border=\"1\" class=\"dataframe\">\n",
       "  <thead>\n",
       "    <tr style=\"text-align: right;\">\n",
       "      <th></th>\n",
       "      <th>forecaster_name</th>\n",
       "      <th>regressor_name</th>\n",
       "      <th>function_name</th>\n",
       "      <th>function_hash</th>\n",
       "      <th>run_time_avg</th>\n",
       "      <th>run_time_std_dev</th>\n",
       "      <th>datetime</th>\n",
       "      <th>python_version</th>\n",
       "      <th>skforecast_version</th>\n",
       "      <th>numpy_version</th>\n",
       "      <th>pandas_version</th>\n",
       "      <th>sklearn_version</th>\n",
       "      <th>lightgbm_version</th>\n",
       "      <th>platform</th>\n",
       "      <th>processor</th>\n",
       "      <th>cpu_count</th>\n",
       "      <th>memory_gb</th>\n",
       "    </tr>\n",
       "  </thead>\n",
       "  <tbody>\n",
       "    <tr>\n",
       "      <th>2</th>\n",
       "      <td>ForecasterRecursiveMultiSeries</td>\n",
       "      <td>LGBMRegressor</td>\n",
       "      <td>ForecasterRecursiveMultiSeries_fit_series_is_d...</td>\n",
       "      <td>aa35b8ba0c0839021a95e5ba0786a67e</td>\n",
       "      <td>11.580742</td>\n",
       "      <td>0.917493</td>\n",
       "      <td>2025-04-23 15:04:35.688064</td>\n",
       "      <td>3.12.9</td>\n",
       "      <td>0.16.0</td>\n",
       "      <td>2.2.5</td>\n",
       "      <td>2.2.3</td>\n",
       "      <td>1.6.1</td>\n",
       "      <td>4.6.0</td>\n",
       "      <td>Linux-6.11.0-21-generic-x86_64-with-glibc2.39</td>\n",
       "      <td>x86_64</td>\n",
       "      <td>8</td>\n",
       "      <td>16.64</td>\n",
       "    </tr>\n",
       "    <tr>\n",
       "      <th>14</th>\n",
       "      <td>ForecasterRecursiveMultiSeries</td>\n",
       "      <td>LGBMRegressor</td>\n",
       "      <td>ForecasterRecursiveMultiSeries_fit_series_is_d...</td>\n",
       "      <td>aa35b8ba0c0839021a95e5ba0786a67e</td>\n",
       "      <td>10.828553</td>\n",
       "      <td>0.107749</td>\n",
       "      <td>2025-04-23 15:10:30.369368</td>\n",
       "      <td>3.12.9</td>\n",
       "      <td>0.15.1</td>\n",
       "      <td>2.2.5</td>\n",
       "      <td>2.2.3</td>\n",
       "      <td>1.6.1</td>\n",
       "      <td>4.6.0</td>\n",
       "      <td>Linux-6.11.0-21-generic-x86_64-with-glibc2.39</td>\n",
       "      <td>x86_64</td>\n",
       "      <td>8</td>\n",
       "      <td>16.64</td>\n",
       "    </tr>\n",
       "    <tr>\n",
       "      <th>26</th>\n",
       "      <td>ForecasterRecursiveMultiSeries</td>\n",
       "      <td>LGBMRegressor</td>\n",
       "      <td>ForecasterRecursiveMultiSeries_fit_series_is_d...</td>\n",
       "      <td>aa35b8ba0c0839021a95e5ba0786a67e</td>\n",
       "      <td>10.099889</td>\n",
       "      <td>0.160311</td>\n",
       "      <td>2025-04-23 15:14:29.454622</td>\n",
       "      <td>3.12.9</td>\n",
       "      <td>0.14.0</td>\n",
       "      <td>2.2.5</td>\n",
       "      <td>2.2.3</td>\n",
       "      <td>1.6.1</td>\n",
       "      <td>4.6.0</td>\n",
       "      <td>Linux-6.11.0-21-generic-x86_64-with-glibc2.39</td>\n",
       "      <td>x86_64</td>\n",
       "      <td>8</td>\n",
       "      <td>16.64</td>\n",
       "    </tr>\n",
       "    <tr>\n",
       "      <th>38</th>\n",
       "      <td>ForecasterAutoregMultiSeries</td>\n",
       "      <td>LGBMRegressor</td>\n",
       "      <td>ForecasterRecursiveMultiSeries_fit_series_is_d...</td>\n",
       "      <td>aa35b8ba0c0839021a95e5ba0786a67e</td>\n",
       "      <td>11.003430</td>\n",
       "      <td>0.223845</td>\n",
       "      <td>2025-04-23 15:26:39.645552</td>\n",
       "      <td>3.12.9</td>\n",
       "      <td>0.13.0</td>\n",
       "      <td>2.2.5</td>\n",
       "      <td>2.2.3</td>\n",
       "      <td>1.6.1</td>\n",
       "      <td>4.6.0</td>\n",
       "      <td>Linux-6.11.0-21-generic-x86_64-with-glibc2.39</td>\n",
       "      <td>x86_64</td>\n",
       "      <td>8</td>\n",
       "      <td>16.64</td>\n",
       "    </tr>\n",
       "    <tr>\n",
       "      <th>50</th>\n",
       "      <td>ForecasterAutoregMultiSeries</td>\n",
       "      <td>LGBMRegressor</td>\n",
       "      <td>ForecasterRecursiveMultiSeries_fit_series_is_d...</td>\n",
       "      <td>aa35b8ba0c0839021a95e5ba0786a67e</td>\n",
       "      <td>11.890319</td>\n",
       "      <td>0.521044</td>\n",
       "      <td>2025-04-23 15:36:00.563508</td>\n",
       "      <td>3.12.9</td>\n",
       "      <td>0.13.0</td>\n",
       "      <td>2.2.5</td>\n",
       "      <td>2.2.3</td>\n",
       "      <td>1.6.1</td>\n",
       "      <td>4.6.0</td>\n",
       "      <td>Linux-6.11.0-21-generic-x86_64-with-glibc2.39</td>\n",
       "      <td>x86_64</td>\n",
       "      <td>8</td>\n",
       "      <td>16.64</td>\n",
       "    </tr>\n",
       "    <tr>\n",
       "      <th>70</th>\n",
       "      <td>ForecasterRecursiveMultiSeries</td>\n",
       "      <td>LGBMRegressor</td>\n",
       "      <td>ForecasterRecursiveMultiSeries_fit_series_is_d...</td>\n",
       "      <td>aa35b8ba0c0839021a95e5ba0786a67e</td>\n",
       "      <td>10.926485</td>\n",
       "      <td>0.812523</td>\n",
       "      <td>2025-04-23 15:55:14.322641</td>\n",
       "      <td>3.12.9</td>\n",
       "      <td>0.14.0</td>\n",
       "      <td>2.2.5</td>\n",
       "      <td>2.2.3</td>\n",
       "      <td>1.6.1</td>\n",
       "      <td>4.6.0</td>\n",
       "      <td>Linux-6.11.0-21-generic-x86_64-with-glibc2.39</td>\n",
       "      <td>x86_64</td>\n",
       "      <td>8</td>\n",
       "      <td>16.64</td>\n",
       "    </tr>\n",
       "    <tr>\n",
       "      <th>82</th>\n",
       "      <td>ForecasterRecursiveMultiSeries</td>\n",
       "      <td>LGBMRegressor</td>\n",
       "      <td>ForecasterRecursiveMultiSeries_fit_series_is_d...</td>\n",
       "      <td>aa35b8ba0c0839021a95e5ba0786a67e</td>\n",
       "      <td>11.199184</td>\n",
       "      <td>0.096970</td>\n",
       "      <td>2025-04-23 15:59:28.536409</td>\n",
       "      <td>3.12.9</td>\n",
       "      <td>0.15.1</td>\n",
       "      <td>2.2.5</td>\n",
       "      <td>2.2.3</td>\n",
       "      <td>1.6.1</td>\n",
       "      <td>4.6.0</td>\n",
       "      <td>Linux-6.11.0-21-generic-x86_64-with-glibc2.39</td>\n",
       "      <td>x86_64</td>\n",
       "      <td>8</td>\n",
       "      <td>16.64</td>\n",
       "    </tr>\n",
       "    <tr>\n",
       "      <th>94</th>\n",
       "      <td>ForecasterRecursiveMultiSeries</td>\n",
       "      <td>LGBMRegressor</td>\n",
       "      <td>ForecasterRecursiveMultiSeries_fit_series_is_d...</td>\n",
       "      <td>aa35b8ba0c0839021a95e5ba0786a67e</td>\n",
       "      <td>11.031137</td>\n",
       "      <td>0.134091</td>\n",
       "      <td>2025-04-23 16:03:59.522090</td>\n",
       "      <td>3.12.9</td>\n",
       "      <td>0.15.1</td>\n",
       "      <td>2.2.5</td>\n",
       "      <td>2.2.3</td>\n",
       "      <td>1.6.1</td>\n",
       "      <td>4.6.0</td>\n",
       "      <td>Linux-6.11.0-21-generic-x86_64-with-glibc2.39</td>\n",
       "      <td>x86_64</td>\n",
       "      <td>8</td>\n",
       "      <td>16.64</td>\n",
       "    </tr>\n",
       "    <tr>\n",
       "      <th>106</th>\n",
       "      <td>ForecasterRecursiveMultiSeries</td>\n",
       "      <td>LGBMRegressor</td>\n",
       "      <td>ForecasterRecursiveMultiSeries_fit_series_is_d...</td>\n",
       "      <td>aa35b8ba0c0839021a95e5ba0786a67e</td>\n",
       "      <td>11.330288</td>\n",
       "      <td>0.895549</td>\n",
       "      <td>2025-04-23 16:07:19.282706</td>\n",
       "      <td>3.12.9</td>\n",
       "      <td>0.16.0</td>\n",
       "      <td>2.2.5</td>\n",
       "      <td>2.2.3</td>\n",
       "      <td>1.6.1</td>\n",
       "      <td>4.6.0</td>\n",
       "      <td>Linux-6.11.0-21-generic-x86_64-with-glibc2.39</td>\n",
       "      <td>x86_64</td>\n",
       "      <td>8</td>\n",
       "      <td>16.64</td>\n",
       "    </tr>\n",
       "    <tr>\n",
       "      <th>118</th>\n",
       "      <td>ForecasterRecursiveMultiSeries</td>\n",
       "      <td>LGBMRegressor</td>\n",
       "      <td>ForecasterRecursiveMultiSeries_fit_series_is_d...</td>\n",
       "      <td>aa35b8ba0c0839021a95e5ba0786a67e</td>\n",
       "      <td>10.856502</td>\n",
       "      <td>0.081189</td>\n",
       "      <td>2025-04-23 16:10:51.876257</td>\n",
       "      <td>3.12.9</td>\n",
       "      <td>0.16.0</td>\n",
       "      <td>2.2.5</td>\n",
       "      <td>2.2.3</td>\n",
       "      <td>1.6.1</td>\n",
       "      <td>4.6.0</td>\n",
       "      <td>Linux-6.11.0-21-generic-x86_64-with-glibc2.39</td>\n",
       "      <td>x86_64</td>\n",
       "      <td>8</td>\n",
       "      <td>16.64</td>\n",
       "    </tr>\n",
       "  </tbody>\n",
       "</table>\n",
       "</div>"
      ],
      "text/plain": [
       "                    forecaster_name regressor_name  \\\n",
       "2    ForecasterRecursiveMultiSeries  LGBMRegressor   \n",
       "14   ForecasterRecursiveMultiSeries  LGBMRegressor   \n",
       "26   ForecasterRecursiveMultiSeries  LGBMRegressor   \n",
       "38     ForecasterAutoregMultiSeries  LGBMRegressor   \n",
       "50     ForecasterAutoregMultiSeries  LGBMRegressor   \n",
       "70   ForecasterRecursiveMultiSeries  LGBMRegressor   \n",
       "82   ForecasterRecursiveMultiSeries  LGBMRegressor   \n",
       "94   ForecasterRecursiveMultiSeries  LGBMRegressor   \n",
       "106  ForecasterRecursiveMultiSeries  LGBMRegressor   \n",
       "118  ForecasterRecursiveMultiSeries  LGBMRegressor   \n",
       "\n",
       "                                         function_name  \\\n",
       "2    ForecasterRecursiveMultiSeries_fit_series_is_d...   \n",
       "14   ForecasterRecursiveMultiSeries_fit_series_is_d...   \n",
       "26   ForecasterRecursiveMultiSeries_fit_series_is_d...   \n",
       "38   ForecasterRecursiveMultiSeries_fit_series_is_d...   \n",
       "50   ForecasterRecursiveMultiSeries_fit_series_is_d...   \n",
       "70   ForecasterRecursiveMultiSeries_fit_series_is_d...   \n",
       "82   ForecasterRecursiveMultiSeries_fit_series_is_d...   \n",
       "94   ForecasterRecursiveMultiSeries_fit_series_is_d...   \n",
       "106  ForecasterRecursiveMultiSeries_fit_series_is_d...   \n",
       "118  ForecasterRecursiveMultiSeries_fit_series_is_d...   \n",
       "\n",
       "                        function_hash  run_time_avg  run_time_std_dev  \\\n",
       "2    aa35b8ba0c0839021a95e5ba0786a67e     11.580742          0.917493   \n",
       "14   aa35b8ba0c0839021a95e5ba0786a67e     10.828553          0.107749   \n",
       "26   aa35b8ba0c0839021a95e5ba0786a67e     10.099889          0.160311   \n",
       "38   aa35b8ba0c0839021a95e5ba0786a67e     11.003430          0.223845   \n",
       "50   aa35b8ba0c0839021a95e5ba0786a67e     11.890319          0.521044   \n",
       "70   aa35b8ba0c0839021a95e5ba0786a67e     10.926485          0.812523   \n",
       "82   aa35b8ba0c0839021a95e5ba0786a67e     11.199184          0.096970   \n",
       "94   aa35b8ba0c0839021a95e5ba0786a67e     11.031137          0.134091   \n",
       "106  aa35b8ba0c0839021a95e5ba0786a67e     11.330288          0.895549   \n",
       "118  aa35b8ba0c0839021a95e5ba0786a67e     10.856502          0.081189   \n",
       "\n",
       "                      datetime python_version skforecast_version  \\\n",
       "2   2025-04-23 15:04:35.688064         3.12.9             0.16.0   \n",
       "14  2025-04-23 15:10:30.369368         3.12.9             0.15.1   \n",
       "26  2025-04-23 15:14:29.454622         3.12.9             0.14.0   \n",
       "38  2025-04-23 15:26:39.645552         3.12.9             0.13.0   \n",
       "50  2025-04-23 15:36:00.563508         3.12.9             0.13.0   \n",
       "70  2025-04-23 15:55:14.322641         3.12.9             0.14.0   \n",
       "82  2025-04-23 15:59:28.536409         3.12.9             0.15.1   \n",
       "94  2025-04-23 16:03:59.522090         3.12.9             0.15.1   \n",
       "106 2025-04-23 16:07:19.282706         3.12.9             0.16.0   \n",
       "118 2025-04-23 16:10:51.876257         3.12.9             0.16.0   \n",
       "\n",
       "    numpy_version pandas_version sklearn_version lightgbm_version  \\\n",
       "2           2.2.5          2.2.3           1.6.1            4.6.0   \n",
       "14          2.2.5          2.2.3           1.6.1            4.6.0   \n",
       "26          2.2.5          2.2.3           1.6.1            4.6.0   \n",
       "38          2.2.5          2.2.3           1.6.1            4.6.0   \n",
       "50          2.2.5          2.2.3           1.6.1            4.6.0   \n",
       "70          2.2.5          2.2.3           1.6.1            4.6.0   \n",
       "82          2.2.5          2.2.3           1.6.1            4.6.0   \n",
       "94          2.2.5          2.2.3           1.6.1            4.6.0   \n",
       "106         2.2.5          2.2.3           1.6.1            4.6.0   \n",
       "118         2.2.5          2.2.3           1.6.1            4.6.0   \n",
       "\n",
       "                                          platform processor  cpu_count  \\\n",
       "2    Linux-6.11.0-21-generic-x86_64-with-glibc2.39    x86_64          8   \n",
       "14   Linux-6.11.0-21-generic-x86_64-with-glibc2.39    x86_64          8   \n",
       "26   Linux-6.11.0-21-generic-x86_64-with-glibc2.39    x86_64          8   \n",
       "38   Linux-6.11.0-21-generic-x86_64-with-glibc2.39    x86_64          8   \n",
       "50   Linux-6.11.0-21-generic-x86_64-with-glibc2.39    x86_64          8   \n",
       "70   Linux-6.11.0-21-generic-x86_64-with-glibc2.39    x86_64          8   \n",
       "82   Linux-6.11.0-21-generic-x86_64-with-glibc2.39    x86_64          8   \n",
       "94   Linux-6.11.0-21-generic-x86_64-with-glibc2.39    x86_64          8   \n",
       "106  Linux-6.11.0-21-generic-x86_64-with-glibc2.39    x86_64          8   \n",
       "118  Linux-6.11.0-21-generic-x86_64-with-glibc2.39    x86_64          8   \n",
       "\n",
       "     memory_gb  \n",
       "2        16.64  \n",
       "14       16.64  \n",
       "26       16.64  \n",
       "38       16.64  \n",
       "50       16.64  \n",
       "70       16.64  \n",
       "82       16.64  \n",
       "94       16.64  \n",
       "106      16.64  \n",
       "118      16.64  "
      ]
     },
     "metadata": {},
     "output_type": "display_data"
    },
    {
     "data": {
      "application/vnd.plotly.v1+json": {
       "config": {
        "plotlyServerURL": "https://plot.ly"
       },
       "data": [
        {
         "error_y": {
          "array": {
           "bdata": "s5i+1/SmzD+YdIzLZKzgPw==",
           "dtype": "f8"
          },
          "color": "#636EFA",
          "thickness": 1.5,
          "type": "data",
          "visible": true,
          "width": 5
         },
         "hovertemplate": "Version: 0.13.0<br>Runtime: %{y:.2f}s<extra></extra>",
         "marker": {
          "color": "#636EFA",
          "opacity": 0.7,
          "size": 10
         },
         "mode": "markers",
         "name": "Run time - 0.13.0",
         "showlegend": true,
         "type": "scatter",
         "x": {
          "bdata": "fByzX9/Fir9AKClBT8iAPw==",
          "dtype": "f8"
         },
         "y": {
          "bdata": "mvHLh8EBJkAzozPz18cnQA==",
          "dtype": "f8"
         }
        },
        {
         "error_y": {
          "array": {
           "bdata": "COnBIhGFxD+aWQ2XMADqPw==",
           "dtype": "f8"
          },
          "color": "#EF553B",
          "thickness": 1.5,
          "type": "data",
          "visible": true,
          "width": 5
         },
         "hovertemplate": "Version: 0.14.0<br>Runtime: %{y:.2f}s<extra></extra>",
         "marker": {
          "color": "#EF553B",
          "opacity": 0.7,
          "size": 10
         },
         "mode": "markers",
         "name": "Run time - 0.14.0",
         "showlegend": true,
         "type": "scatter",
         "x": {
          "bdata": "WsufM0wh8D/sid4cvavwPw==",
          "dtype": "f8"
         },
         "y": {
          "bdata": "mg08ryQzJEAz6youXNolQA==",
          "dtype": "f8"
         }
        },
        {
         "error_y": {
          "array": {
           "bdata": "KZGO6HWVuz/DkDAeBdO4P31L1eLiKcE/",
           "dtype": "f8"
          },
          "color": "#00CC96",
          "thickness": 1.5,
          "type": "data",
          "visible": true,
          "width": 5
         },
         "hovertemplate": "Version: 0.15.1<br>Runtime: %{y:.2f}s<extra></extra>",
         "marker": {
          "color": "#00CC96",
          "opacity": 0.7,
          "size": 10
         },
         "mode": "markers",
         "name": "Run time - 0.15.1",
         "showlegend": true,
         "type": "scatter",
         "x": {
          "bdata": "o+edyHNh/z9etUcwD5P/PzyVwAXWKwBA",
          "dtype": "f8"
         },
         "y": {
          "bdata": "mqmxCjioJUAATAl9+2UmQDPDyD/xDyZA",
          "dtype": "f8"
         }
        },
        {
         "error_y": {
          "array": {
           "bdata": "KK+Nyhpc7T+IShISV6jsP5LjfgzKyLQ/",
           "dtype": "f8"
          },
          "color": "#AB63FA",
          "thickness": 1.5,
          "type": "data",
          "visible": true,
          "width": 5
         },
         "hovertemplate": "Version: 0.16.0<br>Runtime: %{y:.2f}s<extra></extra>",
         "marker": {
          "color": "#AB63FA",
          "opacity": 0.7,
          "size": 10
         },
         "mode": "markers",
         "name": "Run time - 0.16.0",
         "showlegend": true,
         "type": "scatter",
         "x": {
          "bdata": "BPQEQSs7CEBa7SFg/PsHQN1xRrJWNAhA",
          "dtype": "f8"
         },
         "y": {
          "bdata": "mmG//lYpJ0DNzLt7G6kmQGZGL2WHtiVA",
          "dtype": "f8"
         }
        },
        {
         "line": {
          "color": "black",
          "width": 2
         },
         "marker": {
          "color": "black",
          "size": 8
         },
         "mode": "lines+markers",
         "name": "Median (per version)",
         "type": "scatter",
         "x": {
          "bdata": "AAECAw==",
          "dtype": "i1"
         },
         "y": {
          "bdata": "Zsp/vczkJkBmfLNuwAYlQDPDyD/xDyZAzcy7exupJkA=",
          "dtype": "f8"
         }
        }
       ],
       "layout": {
        "showlegend": true,
        "template": {
         "data": {
          "bar": [
           {
            "error_x": {
             "color": "#2a3f5f"
            },
            "error_y": {
             "color": "#2a3f5f"
            },
            "marker": {
             "line": {
              "color": "#E5ECF6",
              "width": 0.5
             },
             "pattern": {
              "fillmode": "overlay",
              "size": 10,
              "solidity": 0.2
             }
            },
            "type": "bar"
           }
          ],
          "barpolar": [
           {
            "marker": {
             "line": {
              "color": "#E5ECF6",
              "width": 0.5
             },
             "pattern": {
              "fillmode": "overlay",
              "size": 10,
              "solidity": 0.2
             }
            },
            "type": "barpolar"
           }
          ],
          "carpet": [
           {
            "aaxis": {
             "endlinecolor": "#2a3f5f",
             "gridcolor": "white",
             "linecolor": "white",
             "minorgridcolor": "white",
             "startlinecolor": "#2a3f5f"
            },
            "baxis": {
             "endlinecolor": "#2a3f5f",
             "gridcolor": "white",
             "linecolor": "white",
             "minorgridcolor": "white",
             "startlinecolor": "#2a3f5f"
            },
            "type": "carpet"
           }
          ],
          "choropleth": [
           {
            "colorbar": {
             "outlinewidth": 0,
             "ticks": ""
            },
            "type": "choropleth"
           }
          ],
          "contour": [
           {
            "colorbar": {
             "outlinewidth": 0,
             "ticks": ""
            },
            "colorscale": [
             [
              0,
              "#0d0887"
             ],
             [
              0.1111111111111111,
              "#46039f"
             ],
             [
              0.2222222222222222,
              "#7201a8"
             ],
             [
              0.3333333333333333,
              "#9c179e"
             ],
             [
              0.4444444444444444,
              "#bd3786"
             ],
             [
              0.5555555555555556,
              "#d8576b"
             ],
             [
              0.6666666666666666,
              "#ed7953"
             ],
             [
              0.7777777777777778,
              "#fb9f3a"
             ],
             [
              0.8888888888888888,
              "#fdca26"
             ],
             [
              1,
              "#f0f921"
             ]
            ],
            "type": "contour"
           }
          ],
          "contourcarpet": [
           {
            "colorbar": {
             "outlinewidth": 0,
             "ticks": ""
            },
            "type": "contourcarpet"
           }
          ],
          "heatmap": [
           {
            "colorbar": {
             "outlinewidth": 0,
             "ticks": ""
            },
            "colorscale": [
             [
              0,
              "#0d0887"
             ],
             [
              0.1111111111111111,
              "#46039f"
             ],
             [
              0.2222222222222222,
              "#7201a8"
             ],
             [
              0.3333333333333333,
              "#9c179e"
             ],
             [
              0.4444444444444444,
              "#bd3786"
             ],
             [
              0.5555555555555556,
              "#d8576b"
             ],
             [
              0.6666666666666666,
              "#ed7953"
             ],
             [
              0.7777777777777778,
              "#fb9f3a"
             ],
             [
              0.8888888888888888,
              "#fdca26"
             ],
             [
              1,
              "#f0f921"
             ]
            ],
            "type": "heatmap"
           }
          ],
          "histogram": [
           {
            "marker": {
             "pattern": {
              "fillmode": "overlay",
              "size": 10,
              "solidity": 0.2
             }
            },
            "type": "histogram"
           }
          ],
          "histogram2d": [
           {
            "colorbar": {
             "outlinewidth": 0,
             "ticks": ""
            },
            "colorscale": [
             [
              0,
              "#0d0887"
             ],
             [
              0.1111111111111111,
              "#46039f"
             ],
             [
              0.2222222222222222,
              "#7201a8"
             ],
             [
              0.3333333333333333,
              "#9c179e"
             ],
             [
              0.4444444444444444,
              "#bd3786"
             ],
             [
              0.5555555555555556,
              "#d8576b"
             ],
             [
              0.6666666666666666,
              "#ed7953"
             ],
             [
              0.7777777777777778,
              "#fb9f3a"
             ],
             [
              0.8888888888888888,
              "#fdca26"
             ],
             [
              1,
              "#f0f921"
             ]
            ],
            "type": "histogram2d"
           }
          ],
          "histogram2dcontour": [
           {
            "colorbar": {
             "outlinewidth": 0,
             "ticks": ""
            },
            "colorscale": [
             [
              0,
              "#0d0887"
             ],
             [
              0.1111111111111111,
              "#46039f"
             ],
             [
              0.2222222222222222,
              "#7201a8"
             ],
             [
              0.3333333333333333,
              "#9c179e"
             ],
             [
              0.4444444444444444,
              "#bd3786"
             ],
             [
              0.5555555555555556,
              "#d8576b"
             ],
             [
              0.6666666666666666,
              "#ed7953"
             ],
             [
              0.7777777777777778,
              "#fb9f3a"
             ],
             [
              0.8888888888888888,
              "#fdca26"
             ],
             [
              1,
              "#f0f921"
             ]
            ],
            "type": "histogram2dcontour"
           }
          ],
          "mesh3d": [
           {
            "colorbar": {
             "outlinewidth": 0,
             "ticks": ""
            },
            "type": "mesh3d"
           }
          ],
          "parcoords": [
           {
            "line": {
             "colorbar": {
              "outlinewidth": 0,
              "ticks": ""
             }
            },
            "type": "parcoords"
           }
          ],
          "pie": [
           {
            "automargin": true,
            "type": "pie"
           }
          ],
          "scatter": [
           {
            "fillpattern": {
             "fillmode": "overlay",
             "size": 10,
             "solidity": 0.2
            },
            "type": "scatter"
           }
          ],
          "scatter3d": [
           {
            "line": {
             "colorbar": {
              "outlinewidth": 0,
              "ticks": ""
             }
            },
            "marker": {
             "colorbar": {
              "outlinewidth": 0,
              "ticks": ""
             }
            },
            "type": "scatter3d"
           }
          ],
          "scattercarpet": [
           {
            "marker": {
             "colorbar": {
              "outlinewidth": 0,
              "ticks": ""
             }
            },
            "type": "scattercarpet"
           }
          ],
          "scattergeo": [
           {
            "marker": {
             "colorbar": {
              "outlinewidth": 0,
              "ticks": ""
             }
            },
            "type": "scattergeo"
           }
          ],
          "scattergl": [
           {
            "marker": {
             "colorbar": {
              "outlinewidth": 0,
              "ticks": ""
             }
            },
            "type": "scattergl"
           }
          ],
          "scattermap": [
           {
            "marker": {
             "colorbar": {
              "outlinewidth": 0,
              "ticks": ""
             }
            },
            "type": "scattermap"
           }
          ],
          "scattermapbox": [
           {
            "marker": {
             "colorbar": {
              "outlinewidth": 0,
              "ticks": ""
             }
            },
            "type": "scattermapbox"
           }
          ],
          "scatterpolar": [
           {
            "marker": {
             "colorbar": {
              "outlinewidth": 0,
              "ticks": ""
             }
            },
            "type": "scatterpolar"
           }
          ],
          "scatterpolargl": [
           {
            "marker": {
             "colorbar": {
              "outlinewidth": 0,
              "ticks": ""
             }
            },
            "type": "scatterpolargl"
           }
          ],
          "scatterternary": [
           {
            "marker": {
             "colorbar": {
              "outlinewidth": 0,
              "ticks": ""
             }
            },
            "type": "scatterternary"
           }
          ],
          "surface": [
           {
            "colorbar": {
             "outlinewidth": 0,
             "ticks": ""
            },
            "colorscale": [
             [
              0,
              "#0d0887"
             ],
             [
              0.1111111111111111,
              "#46039f"
             ],
             [
              0.2222222222222222,
              "#7201a8"
             ],
             [
              0.3333333333333333,
              "#9c179e"
             ],
             [
              0.4444444444444444,
              "#bd3786"
             ],
             [
              0.5555555555555556,
              "#d8576b"
             ],
             [
              0.6666666666666666,
              "#ed7953"
             ],
             [
              0.7777777777777778,
              "#fb9f3a"
             ],
             [
              0.8888888888888888,
              "#fdca26"
             ],
             [
              1,
              "#f0f921"
             ]
            ],
            "type": "surface"
           }
          ],
          "table": [
           {
            "cells": {
             "fill": {
              "color": "#EBF0F8"
             },
             "line": {
              "color": "white"
             }
            },
            "header": {
             "fill": {
              "color": "#C8D4E3"
             },
             "line": {
              "color": "white"
             }
            },
            "type": "table"
           }
          ]
         },
         "layout": {
          "annotationdefaults": {
           "arrowcolor": "#2a3f5f",
           "arrowhead": 0,
           "arrowwidth": 1
          },
          "autotypenumbers": "strict",
          "coloraxis": {
           "colorbar": {
            "outlinewidth": 0,
            "ticks": ""
           }
          },
          "colorscale": {
           "diverging": [
            [
             0,
             "#8e0152"
            ],
            [
             0.1,
             "#c51b7d"
            ],
            [
             0.2,
             "#de77ae"
            ],
            [
             0.3,
             "#f1b6da"
            ],
            [
             0.4,
             "#fde0ef"
            ],
            [
             0.5,
             "#f7f7f7"
            ],
            [
             0.6,
             "#e6f5d0"
            ],
            [
             0.7,
             "#b8e186"
            ],
            [
             0.8,
             "#7fbc41"
            ],
            [
             0.9,
             "#4d9221"
            ],
            [
             1,
             "#276419"
            ]
           ],
           "sequential": [
            [
             0,
             "#0d0887"
            ],
            [
             0.1111111111111111,
             "#46039f"
            ],
            [
             0.2222222222222222,
             "#7201a8"
            ],
            [
             0.3333333333333333,
             "#9c179e"
            ],
            [
             0.4444444444444444,
             "#bd3786"
            ],
            [
             0.5555555555555556,
             "#d8576b"
            ],
            [
             0.6666666666666666,
             "#ed7953"
            ],
            [
             0.7777777777777778,
             "#fb9f3a"
            ],
            [
             0.8888888888888888,
             "#fdca26"
            ],
            [
             1,
             "#f0f921"
            ]
           ],
           "sequentialminus": [
            [
             0,
             "#0d0887"
            ],
            [
             0.1111111111111111,
             "#46039f"
            ],
            [
             0.2222222222222222,
             "#7201a8"
            ],
            [
             0.3333333333333333,
             "#9c179e"
            ],
            [
             0.4444444444444444,
             "#bd3786"
            ],
            [
             0.5555555555555556,
             "#d8576b"
            ],
            [
             0.6666666666666666,
             "#ed7953"
            ],
            [
             0.7777777777777778,
             "#fb9f3a"
            ],
            [
             0.8888888888888888,
             "#fdca26"
            ],
            [
             1,
             "#f0f921"
            ]
           ]
          },
          "colorway": [
           "#636efa",
           "#EF553B",
           "#00cc96",
           "#ab63fa",
           "#FFA15A",
           "#19d3f3",
           "#FF6692",
           "#B6E880",
           "#FF97FF",
           "#FECB52"
          ],
          "font": {
           "color": "#2a3f5f"
          },
          "geo": {
           "bgcolor": "white",
           "lakecolor": "white",
           "landcolor": "#E5ECF6",
           "showlakes": true,
           "showland": true,
           "subunitcolor": "white"
          },
          "hoverlabel": {
           "align": "left"
          },
          "hovermode": "closest",
          "mapbox": {
           "style": "light"
          },
          "paper_bgcolor": "white",
          "plot_bgcolor": "#E5ECF6",
          "polar": {
           "angularaxis": {
            "gridcolor": "white",
            "linecolor": "white",
            "ticks": ""
           },
           "bgcolor": "#E5ECF6",
           "radialaxis": {
            "gridcolor": "white",
            "linecolor": "white",
            "ticks": ""
           }
          },
          "scene": {
           "xaxis": {
            "backgroundcolor": "#E5ECF6",
            "gridcolor": "white",
            "gridwidth": 2,
            "linecolor": "white",
            "showbackground": true,
            "ticks": "",
            "zerolinecolor": "white"
           },
           "yaxis": {
            "backgroundcolor": "#E5ECF6",
            "gridcolor": "white",
            "gridwidth": 2,
            "linecolor": "white",
            "showbackground": true,
            "ticks": "",
            "zerolinecolor": "white"
           },
           "zaxis": {
            "backgroundcolor": "#E5ECF6",
            "gridcolor": "white",
            "gridwidth": 2,
            "linecolor": "white",
            "showbackground": true,
            "ticks": "",
            "zerolinecolor": "white"
           }
          },
          "shapedefaults": {
           "line": {
            "color": "#2a3f5f"
           }
          },
          "ternary": {
           "aaxis": {
            "gridcolor": "white",
            "linecolor": "white",
            "ticks": ""
           },
           "baxis": {
            "gridcolor": "white",
            "linecolor": "white",
            "ticks": ""
           },
           "bgcolor": "#E5ECF6",
           "caxis": {
            "gridcolor": "white",
            "linecolor": "white",
            "ticks": ""
           }
          },
          "title": {
           "x": 0.05
          },
          "xaxis": {
           "automargin": true,
           "gridcolor": "white",
           "linecolor": "white",
           "ticks": "",
           "title": {
            "standoff": 15
           },
           "zerolinecolor": "white",
           "zerolinewidth": 2
          },
          "yaxis": {
           "automargin": true,
           "gridcolor": "white",
           "linecolor": "white",
           "ticks": "",
           "title": {
            "standoff": 15
           },
           "zerolinecolor": "white",
           "zerolinewidth": 2
          }
         }
        },
        "title": {
         "text": "Execution time of ForecasterRecursiveMultiSeries_fit_series_is_dataframe_no_exog"
        },
        "xaxis": {
         "tickangle": -45,
         "tickmode": "array",
         "ticktext": [
          "0.13.0",
          "0.14.0",
          "0.15.1",
          "0.16.0"
         ],
         "tickvals": [
          0,
          1,
          2,
          3
         ],
         "title": {
          "text": "skforecast version"
         }
        },
        "yaxis": {
         "title": {
          "text": "Execution time (seconds)"
         }
        }
       }
      }
     },
     "metadata": {},
     "output_type": "display_data"
    },
    {
     "data": {
      "application/vnd.microsoft.datawrangler.viewer.v0+json": {
       "columns": [
        {
         "name": "index",
         "rawType": "int64",
         "type": "integer"
        },
        {
         "name": "forecaster_name",
         "rawType": "object",
         "type": "string"
        },
        {
         "name": "regressor_name",
         "rawType": "object",
         "type": "string"
        },
        {
         "name": "function_name",
         "rawType": "object",
         "type": "string"
        },
        {
         "name": "function_hash",
         "rawType": "object",
         "type": "string"
        },
        {
         "name": "run_time_avg",
         "rawType": "float64",
         "type": "float"
        },
        {
         "name": "run_time_std_dev",
         "rawType": "float64",
         "type": "float"
        },
        {
         "name": "datetime",
         "rawType": "datetime64[ns]",
         "type": "datetime"
        },
        {
         "name": "python_version",
         "rawType": "object",
         "type": "string"
        },
        {
         "name": "skforecast_version",
         "rawType": "object",
         "type": "string"
        },
        {
         "name": "numpy_version",
         "rawType": "object",
         "type": "string"
        },
        {
         "name": "pandas_version",
         "rawType": "object",
         "type": "string"
        },
        {
         "name": "sklearn_version",
         "rawType": "object",
         "type": "string"
        },
        {
         "name": "lightgbm_version",
         "rawType": "object",
         "type": "string"
        },
        {
         "name": "platform",
         "rawType": "object",
         "type": "string"
        },
        {
         "name": "processor",
         "rawType": "object",
         "type": "string"
        },
        {
         "name": "cpu_count",
         "rawType": "int64",
         "type": "integer"
        },
        {
         "name": "memory_gb",
         "rawType": "float64",
         "type": "float"
        }
       ],
       "conversionMethod": "pd.DataFrame",
       "ref": "340cce37-2b71-4aaa-97da-b45162d675a4",
       "rows": [
        [
         "3",
         "ForecasterRecursiveMultiSeries",
         "LGBMRegressor",
         "ForecasterRecursiveMultiSeries__create_train_X_y_series_is_dataframe_no_exog",
         "7b994fdfa33ce4a2084e303d3f49c934",
         "1.224587258599786",
         "0.05587293716700449",
         "2025-04-23 15:05:33.595536",
         "3.12.9",
         "0.16.0",
         "2.2.5",
         "2.2.3",
         "1.6.1",
         "4.6.0",
         "Linux-6.11.0-21-generic-x86_64-with-glibc2.39",
         "x86_64",
         "8",
         "16.64"
        ],
        [
         "15",
         "ForecasterRecursiveMultiSeries",
         "LGBMRegressor",
         "ForecasterRecursiveMultiSeries__create_train_X_y_series_is_dataframe_no_exog",
         "7b994fdfa33ce4a2084e303d3f49c934",
         "1.3752847158000805",
         "0.04080937138281831",
         "2025-04-23 15:11:24.516068",
         "3.12.9",
         "0.15.1",
         "2.2.5",
         "2.2.3",
         "1.6.1",
         "4.6.0",
         "Linux-6.11.0-21-generic-x86_64-with-glibc2.39",
         "x86_64",
         "8",
         "16.64"
        ],
        [
         "27",
         "ForecasterRecursiveMultiSeries",
         "LGBMRegressor",
         "ForecasterRecursiveMultiSeries__create_train_X_y_series_is_dataframe_no_exog",
         "7b994fdfa33ce4a2084e303d3f49c934",
         "1.5178149886000027",
         "0.06487078285726446",
         "2025-04-23 15:15:19.958170",
         "3.12.9",
         "0.14.0",
         "2.2.5",
         "2.2.3",
         "1.6.1",
         "4.6.0",
         "Linux-6.11.0-21-generic-x86_64-with-glibc2.39",
         "x86_64",
         "8",
         "16.64"
        ],
        [
         "39",
         "ForecasterAutoregMultiSeries",
         "LGBMRegressor",
         "ForecasterRecursiveMultiSeries__create_train_X_y_series_is_dataframe_no_exog",
         "7b994fdfa33ce4a2084e303d3f49c934",
         "2.004792998599805",
         "0.040390453202346376",
         "2025-04-23 15:27:34.667213",
         "3.12.9",
         "0.13.0",
         "2.2.5",
         "2.2.3",
         "1.6.1",
         "4.6.0",
         "Linux-6.11.0-21-generic-x86_64-with-glibc2.39",
         "x86_64",
         "8",
         "16.64"
        ],
        [
         "51",
         "ForecasterAutoregMultiSeries",
         "LGBMRegressor",
         "ForecasterRecursiveMultiSeries__create_train_X_y_series_is_dataframe_no_exog",
         "7b994fdfa33ce4a2084e303d3f49c934",
         "2.1468762618002075",
         "0.07092364681439763",
         "2025-04-23 15:37:00.019066",
         "3.12.9",
         "0.13.0",
         "2.2.5",
         "2.2.3",
         "1.6.1",
         "4.6.0",
         "Linux-6.11.0-21-generic-x86_64-with-glibc2.39",
         "x86_64",
         "8",
         "16.64"
        ],
        [
         "71",
         "ForecasterRecursiveMultiSeries",
         "LGBMRegressor",
         "ForecasterRecursiveMultiSeries__create_train_X_y_series_is_dataframe_no_exog",
         "7b994fdfa33ce4a2084e303d3f49c934",
         "1.5680713575999108",
         "0.11975023935877259",
         "2025-04-23 15:56:08.959300",
         "3.12.9",
         "0.14.0",
         "2.2.5",
         "2.2.3",
         "1.6.1",
         "4.6.0",
         "Linux-6.11.0-21-generic-x86_64-with-glibc2.39",
         "x86_64",
         "8",
         "16.64"
        ],
        [
         "83",
         "ForecasterRecursiveMultiSeries",
         "LGBMRegressor",
         "ForecasterRecursiveMultiSeries__create_train_X_y_series_is_dataframe_no_exog",
         "7b994fdfa33ce4a2084e303d3f49c934",
         "1.4110513256000559",
         "0.0552338022912185",
         "2025-04-23 16:00:24.536982",
         "3.12.9",
         "0.15.1",
         "2.2.5",
         "2.2.3",
         "1.6.1",
         "4.6.0",
         "Linux-6.11.0-21-generic-x86_64-with-glibc2.39",
         "x86_64",
         "8",
         "16.64"
        ],
        [
         "95",
         "ForecasterRecursiveMultiSeries",
         "LGBMRegressor",
         "ForecasterRecursiveMultiSeries__create_train_X_y_series_is_dataframe_no_exog",
         "7b994fdfa33ce4a2084e303d3f49c934",
         "1.3851723968000442",
         "0.04795218960991431",
         "2025-04-23 16:04:54.682880",
         "3.12.9",
         "0.15.1",
         "2.2.5",
         "2.2.3",
         "1.6.1",
         "4.6.0",
         "Linux-6.11.0-21-generic-x86_64-with-glibc2.39",
         "x86_64",
         "8",
         "16.64"
        ],
        [
         "107",
         "ForecasterRecursiveMultiSeries",
         "LGBMRegressor",
         "ForecasterRecursiveMultiSeries__create_train_X_y_series_is_dataframe_no_exog",
         "7b994fdfa33ce4a2084e303d3f49c934",
         "1.2708649014006368",
         "0.041491441753420046",
         "2025-04-23 16:08:15.939377",
         "3.12.9",
         "0.16.0",
         "2.2.5",
         "2.2.3",
         "1.6.1",
         "4.6.0",
         "Linux-6.11.0-21-generic-x86_64-with-glibc2.39",
         "x86_64",
         "8",
         "16.64"
        ],
        [
         "119",
         "ForecasterRecursiveMultiSeries",
         "LGBMRegressor",
         "ForecasterRecursiveMultiSeries__create_train_X_y_series_is_dataframe_no_exog",
         "7b994fdfa33ce4a2084e303d3f49c934",
         "1.2067093659999955",
         "0.044673697694996996",
         "2025-04-23 16:11:46.163407",
         "3.12.9",
         "0.16.0",
         "2.2.5",
         "2.2.3",
         "1.6.1",
         "4.6.0",
         "Linux-6.11.0-21-generic-x86_64-with-glibc2.39",
         "x86_64",
         "8",
         "16.64"
        ]
       ],
       "shape": {
        "columns": 17,
        "rows": 10
       }
      },
      "text/html": [
       "<div>\n",
       "<style scoped>\n",
       "    .dataframe tbody tr th:only-of-type {\n",
       "        vertical-align: middle;\n",
       "    }\n",
       "\n",
       "    .dataframe tbody tr th {\n",
       "        vertical-align: top;\n",
       "    }\n",
       "\n",
       "    .dataframe thead th {\n",
       "        text-align: right;\n",
       "    }\n",
       "</style>\n",
       "<table border=\"1\" class=\"dataframe\">\n",
       "  <thead>\n",
       "    <tr style=\"text-align: right;\">\n",
       "      <th></th>\n",
       "      <th>forecaster_name</th>\n",
       "      <th>regressor_name</th>\n",
       "      <th>function_name</th>\n",
       "      <th>function_hash</th>\n",
       "      <th>run_time_avg</th>\n",
       "      <th>run_time_std_dev</th>\n",
       "      <th>datetime</th>\n",
       "      <th>python_version</th>\n",
       "      <th>skforecast_version</th>\n",
       "      <th>numpy_version</th>\n",
       "      <th>pandas_version</th>\n",
       "      <th>sklearn_version</th>\n",
       "      <th>lightgbm_version</th>\n",
       "      <th>platform</th>\n",
       "      <th>processor</th>\n",
       "      <th>cpu_count</th>\n",
       "      <th>memory_gb</th>\n",
       "    </tr>\n",
       "  </thead>\n",
       "  <tbody>\n",
       "    <tr>\n",
       "      <th>3</th>\n",
       "      <td>ForecasterRecursiveMultiSeries</td>\n",
       "      <td>LGBMRegressor</td>\n",
       "      <td>ForecasterRecursiveMultiSeries__create_train_X...</td>\n",
       "      <td>7b994fdfa33ce4a2084e303d3f49c934</td>\n",
       "      <td>1.224587</td>\n",
       "      <td>0.055873</td>\n",
       "      <td>2025-04-23 15:05:33.595536</td>\n",
       "      <td>3.12.9</td>\n",
       "      <td>0.16.0</td>\n",
       "      <td>2.2.5</td>\n",
       "      <td>2.2.3</td>\n",
       "      <td>1.6.1</td>\n",
       "      <td>4.6.0</td>\n",
       "      <td>Linux-6.11.0-21-generic-x86_64-with-glibc2.39</td>\n",
       "      <td>x86_64</td>\n",
       "      <td>8</td>\n",
       "      <td>16.64</td>\n",
       "    </tr>\n",
       "    <tr>\n",
       "      <th>15</th>\n",
       "      <td>ForecasterRecursiveMultiSeries</td>\n",
       "      <td>LGBMRegressor</td>\n",
       "      <td>ForecasterRecursiveMultiSeries__create_train_X...</td>\n",
       "      <td>7b994fdfa33ce4a2084e303d3f49c934</td>\n",
       "      <td>1.375285</td>\n",
       "      <td>0.040809</td>\n",
       "      <td>2025-04-23 15:11:24.516068</td>\n",
       "      <td>3.12.9</td>\n",
       "      <td>0.15.1</td>\n",
       "      <td>2.2.5</td>\n",
       "      <td>2.2.3</td>\n",
       "      <td>1.6.1</td>\n",
       "      <td>4.6.0</td>\n",
       "      <td>Linux-6.11.0-21-generic-x86_64-with-glibc2.39</td>\n",
       "      <td>x86_64</td>\n",
       "      <td>8</td>\n",
       "      <td>16.64</td>\n",
       "    </tr>\n",
       "    <tr>\n",
       "      <th>27</th>\n",
       "      <td>ForecasterRecursiveMultiSeries</td>\n",
       "      <td>LGBMRegressor</td>\n",
       "      <td>ForecasterRecursiveMultiSeries__create_train_X...</td>\n",
       "      <td>7b994fdfa33ce4a2084e303d3f49c934</td>\n",
       "      <td>1.517815</td>\n",
       "      <td>0.064871</td>\n",
       "      <td>2025-04-23 15:15:19.958170</td>\n",
       "      <td>3.12.9</td>\n",
       "      <td>0.14.0</td>\n",
       "      <td>2.2.5</td>\n",
       "      <td>2.2.3</td>\n",
       "      <td>1.6.1</td>\n",
       "      <td>4.6.0</td>\n",
       "      <td>Linux-6.11.0-21-generic-x86_64-with-glibc2.39</td>\n",
       "      <td>x86_64</td>\n",
       "      <td>8</td>\n",
       "      <td>16.64</td>\n",
       "    </tr>\n",
       "    <tr>\n",
       "      <th>39</th>\n",
       "      <td>ForecasterAutoregMultiSeries</td>\n",
       "      <td>LGBMRegressor</td>\n",
       "      <td>ForecasterRecursiveMultiSeries__create_train_X...</td>\n",
       "      <td>7b994fdfa33ce4a2084e303d3f49c934</td>\n",
       "      <td>2.004793</td>\n",
       "      <td>0.040390</td>\n",
       "      <td>2025-04-23 15:27:34.667213</td>\n",
       "      <td>3.12.9</td>\n",
       "      <td>0.13.0</td>\n",
       "      <td>2.2.5</td>\n",
       "      <td>2.2.3</td>\n",
       "      <td>1.6.1</td>\n",
       "      <td>4.6.0</td>\n",
       "      <td>Linux-6.11.0-21-generic-x86_64-with-glibc2.39</td>\n",
       "      <td>x86_64</td>\n",
       "      <td>8</td>\n",
       "      <td>16.64</td>\n",
       "    </tr>\n",
       "    <tr>\n",
       "      <th>51</th>\n",
       "      <td>ForecasterAutoregMultiSeries</td>\n",
       "      <td>LGBMRegressor</td>\n",
       "      <td>ForecasterRecursiveMultiSeries__create_train_X...</td>\n",
       "      <td>7b994fdfa33ce4a2084e303d3f49c934</td>\n",
       "      <td>2.146876</td>\n",
       "      <td>0.070924</td>\n",
       "      <td>2025-04-23 15:37:00.019066</td>\n",
       "      <td>3.12.9</td>\n",
       "      <td>0.13.0</td>\n",
       "      <td>2.2.5</td>\n",
       "      <td>2.2.3</td>\n",
       "      <td>1.6.1</td>\n",
       "      <td>4.6.0</td>\n",
       "      <td>Linux-6.11.0-21-generic-x86_64-with-glibc2.39</td>\n",
       "      <td>x86_64</td>\n",
       "      <td>8</td>\n",
       "      <td>16.64</td>\n",
       "    </tr>\n",
       "    <tr>\n",
       "      <th>71</th>\n",
       "      <td>ForecasterRecursiveMultiSeries</td>\n",
       "      <td>LGBMRegressor</td>\n",
       "      <td>ForecasterRecursiveMultiSeries__create_train_X...</td>\n",
       "      <td>7b994fdfa33ce4a2084e303d3f49c934</td>\n",
       "      <td>1.568071</td>\n",
       "      <td>0.119750</td>\n",
       "      <td>2025-04-23 15:56:08.959300</td>\n",
       "      <td>3.12.9</td>\n",
       "      <td>0.14.0</td>\n",
       "      <td>2.2.5</td>\n",
       "      <td>2.2.3</td>\n",
       "      <td>1.6.1</td>\n",
       "      <td>4.6.0</td>\n",
       "      <td>Linux-6.11.0-21-generic-x86_64-with-glibc2.39</td>\n",
       "      <td>x86_64</td>\n",
       "      <td>8</td>\n",
       "      <td>16.64</td>\n",
       "    </tr>\n",
       "    <tr>\n",
       "      <th>83</th>\n",
       "      <td>ForecasterRecursiveMultiSeries</td>\n",
       "      <td>LGBMRegressor</td>\n",
       "      <td>ForecasterRecursiveMultiSeries__create_train_X...</td>\n",
       "      <td>7b994fdfa33ce4a2084e303d3f49c934</td>\n",
       "      <td>1.411051</td>\n",
       "      <td>0.055234</td>\n",
       "      <td>2025-04-23 16:00:24.536982</td>\n",
       "      <td>3.12.9</td>\n",
       "      <td>0.15.1</td>\n",
       "      <td>2.2.5</td>\n",
       "      <td>2.2.3</td>\n",
       "      <td>1.6.1</td>\n",
       "      <td>4.6.0</td>\n",
       "      <td>Linux-6.11.0-21-generic-x86_64-with-glibc2.39</td>\n",
       "      <td>x86_64</td>\n",
       "      <td>8</td>\n",
       "      <td>16.64</td>\n",
       "    </tr>\n",
       "    <tr>\n",
       "      <th>95</th>\n",
       "      <td>ForecasterRecursiveMultiSeries</td>\n",
       "      <td>LGBMRegressor</td>\n",
       "      <td>ForecasterRecursiveMultiSeries__create_train_X...</td>\n",
       "      <td>7b994fdfa33ce4a2084e303d3f49c934</td>\n",
       "      <td>1.385172</td>\n",
       "      <td>0.047952</td>\n",
       "      <td>2025-04-23 16:04:54.682880</td>\n",
       "      <td>3.12.9</td>\n",
       "      <td>0.15.1</td>\n",
       "      <td>2.2.5</td>\n",
       "      <td>2.2.3</td>\n",
       "      <td>1.6.1</td>\n",
       "      <td>4.6.0</td>\n",
       "      <td>Linux-6.11.0-21-generic-x86_64-with-glibc2.39</td>\n",
       "      <td>x86_64</td>\n",
       "      <td>8</td>\n",
       "      <td>16.64</td>\n",
       "    </tr>\n",
       "    <tr>\n",
       "      <th>107</th>\n",
       "      <td>ForecasterRecursiveMultiSeries</td>\n",
       "      <td>LGBMRegressor</td>\n",
       "      <td>ForecasterRecursiveMultiSeries__create_train_X...</td>\n",
       "      <td>7b994fdfa33ce4a2084e303d3f49c934</td>\n",
       "      <td>1.270865</td>\n",
       "      <td>0.041491</td>\n",
       "      <td>2025-04-23 16:08:15.939377</td>\n",
       "      <td>3.12.9</td>\n",
       "      <td>0.16.0</td>\n",
       "      <td>2.2.5</td>\n",
       "      <td>2.2.3</td>\n",
       "      <td>1.6.1</td>\n",
       "      <td>4.6.0</td>\n",
       "      <td>Linux-6.11.0-21-generic-x86_64-with-glibc2.39</td>\n",
       "      <td>x86_64</td>\n",
       "      <td>8</td>\n",
       "      <td>16.64</td>\n",
       "    </tr>\n",
       "    <tr>\n",
       "      <th>119</th>\n",
       "      <td>ForecasterRecursiveMultiSeries</td>\n",
       "      <td>LGBMRegressor</td>\n",
       "      <td>ForecasterRecursiveMultiSeries__create_train_X...</td>\n",
       "      <td>7b994fdfa33ce4a2084e303d3f49c934</td>\n",
       "      <td>1.206709</td>\n",
       "      <td>0.044674</td>\n",
       "      <td>2025-04-23 16:11:46.163407</td>\n",
       "      <td>3.12.9</td>\n",
       "      <td>0.16.0</td>\n",
       "      <td>2.2.5</td>\n",
       "      <td>2.2.3</td>\n",
       "      <td>1.6.1</td>\n",
       "      <td>4.6.0</td>\n",
       "      <td>Linux-6.11.0-21-generic-x86_64-with-glibc2.39</td>\n",
       "      <td>x86_64</td>\n",
       "      <td>8</td>\n",
       "      <td>16.64</td>\n",
       "    </tr>\n",
       "  </tbody>\n",
       "</table>\n",
       "</div>"
      ],
      "text/plain": [
       "                    forecaster_name regressor_name  \\\n",
       "3    ForecasterRecursiveMultiSeries  LGBMRegressor   \n",
       "15   ForecasterRecursiveMultiSeries  LGBMRegressor   \n",
       "27   ForecasterRecursiveMultiSeries  LGBMRegressor   \n",
       "39     ForecasterAutoregMultiSeries  LGBMRegressor   \n",
       "51     ForecasterAutoregMultiSeries  LGBMRegressor   \n",
       "71   ForecasterRecursiveMultiSeries  LGBMRegressor   \n",
       "83   ForecasterRecursiveMultiSeries  LGBMRegressor   \n",
       "95   ForecasterRecursiveMultiSeries  LGBMRegressor   \n",
       "107  ForecasterRecursiveMultiSeries  LGBMRegressor   \n",
       "119  ForecasterRecursiveMultiSeries  LGBMRegressor   \n",
       "\n",
       "                                         function_name  \\\n",
       "3    ForecasterRecursiveMultiSeries__create_train_X...   \n",
       "15   ForecasterRecursiveMultiSeries__create_train_X...   \n",
       "27   ForecasterRecursiveMultiSeries__create_train_X...   \n",
       "39   ForecasterRecursiveMultiSeries__create_train_X...   \n",
       "51   ForecasterRecursiveMultiSeries__create_train_X...   \n",
       "71   ForecasterRecursiveMultiSeries__create_train_X...   \n",
       "83   ForecasterRecursiveMultiSeries__create_train_X...   \n",
       "95   ForecasterRecursiveMultiSeries__create_train_X...   \n",
       "107  ForecasterRecursiveMultiSeries__create_train_X...   \n",
       "119  ForecasterRecursiveMultiSeries__create_train_X...   \n",
       "\n",
       "                        function_hash  run_time_avg  run_time_std_dev  \\\n",
       "3    7b994fdfa33ce4a2084e303d3f49c934      1.224587          0.055873   \n",
       "15   7b994fdfa33ce4a2084e303d3f49c934      1.375285          0.040809   \n",
       "27   7b994fdfa33ce4a2084e303d3f49c934      1.517815          0.064871   \n",
       "39   7b994fdfa33ce4a2084e303d3f49c934      2.004793          0.040390   \n",
       "51   7b994fdfa33ce4a2084e303d3f49c934      2.146876          0.070924   \n",
       "71   7b994fdfa33ce4a2084e303d3f49c934      1.568071          0.119750   \n",
       "83   7b994fdfa33ce4a2084e303d3f49c934      1.411051          0.055234   \n",
       "95   7b994fdfa33ce4a2084e303d3f49c934      1.385172          0.047952   \n",
       "107  7b994fdfa33ce4a2084e303d3f49c934      1.270865          0.041491   \n",
       "119  7b994fdfa33ce4a2084e303d3f49c934      1.206709          0.044674   \n",
       "\n",
       "                      datetime python_version skforecast_version  \\\n",
       "3   2025-04-23 15:05:33.595536         3.12.9             0.16.0   \n",
       "15  2025-04-23 15:11:24.516068         3.12.9             0.15.1   \n",
       "27  2025-04-23 15:15:19.958170         3.12.9             0.14.0   \n",
       "39  2025-04-23 15:27:34.667213         3.12.9             0.13.0   \n",
       "51  2025-04-23 15:37:00.019066         3.12.9             0.13.0   \n",
       "71  2025-04-23 15:56:08.959300         3.12.9             0.14.0   \n",
       "83  2025-04-23 16:00:24.536982         3.12.9             0.15.1   \n",
       "95  2025-04-23 16:04:54.682880         3.12.9             0.15.1   \n",
       "107 2025-04-23 16:08:15.939377         3.12.9             0.16.0   \n",
       "119 2025-04-23 16:11:46.163407         3.12.9             0.16.0   \n",
       "\n",
       "    numpy_version pandas_version sklearn_version lightgbm_version  \\\n",
       "3           2.2.5          2.2.3           1.6.1            4.6.0   \n",
       "15          2.2.5          2.2.3           1.6.1            4.6.0   \n",
       "27          2.2.5          2.2.3           1.6.1            4.6.0   \n",
       "39          2.2.5          2.2.3           1.6.1            4.6.0   \n",
       "51          2.2.5          2.2.3           1.6.1            4.6.0   \n",
       "71          2.2.5          2.2.3           1.6.1            4.6.0   \n",
       "83          2.2.5          2.2.3           1.6.1            4.6.0   \n",
       "95          2.2.5          2.2.3           1.6.1            4.6.0   \n",
       "107         2.2.5          2.2.3           1.6.1            4.6.0   \n",
       "119         2.2.5          2.2.3           1.6.1            4.6.0   \n",
       "\n",
       "                                          platform processor  cpu_count  \\\n",
       "3    Linux-6.11.0-21-generic-x86_64-with-glibc2.39    x86_64          8   \n",
       "15   Linux-6.11.0-21-generic-x86_64-with-glibc2.39    x86_64          8   \n",
       "27   Linux-6.11.0-21-generic-x86_64-with-glibc2.39    x86_64          8   \n",
       "39   Linux-6.11.0-21-generic-x86_64-with-glibc2.39    x86_64          8   \n",
       "51   Linux-6.11.0-21-generic-x86_64-with-glibc2.39    x86_64          8   \n",
       "71   Linux-6.11.0-21-generic-x86_64-with-glibc2.39    x86_64          8   \n",
       "83   Linux-6.11.0-21-generic-x86_64-with-glibc2.39    x86_64          8   \n",
       "95   Linux-6.11.0-21-generic-x86_64-with-glibc2.39    x86_64          8   \n",
       "107  Linux-6.11.0-21-generic-x86_64-with-glibc2.39    x86_64          8   \n",
       "119  Linux-6.11.0-21-generic-x86_64-with-glibc2.39    x86_64          8   \n",
       "\n",
       "     memory_gb  \n",
       "3        16.64  \n",
       "15       16.64  \n",
       "27       16.64  \n",
       "39       16.64  \n",
       "51       16.64  \n",
       "71       16.64  \n",
       "83       16.64  \n",
       "95       16.64  \n",
       "107      16.64  \n",
       "119      16.64  "
      ]
     },
     "metadata": {},
     "output_type": "display_data"
    },
    {
     "data": {
      "application/vnd.plotly.v1+json": {
       "config": {
        "plotlyServerURL": "https://plot.ly"
       },
       "data": [
        {
         "error_y": {
          "array": {
           "bdata": "kz4mtw6upD9dtZRXDSiyPw==",
           "dtype": "f8"
          },
          "color": "#636EFA",
          "thickness": 1.5,
          "type": "data",
          "visible": true,
          "width": 5
         },
         "hovertemplate": "Version: 0.13.0<br>Runtime: %{y:.2f}s<extra></extra>",
         "marker": {
          "color": "#636EFA",
          "opacity": 0.7,
          "size": 10
         },
         "mode": "markers",
         "name": "Run time - 0.13.0",
         "showlegend": true,
         "type": "scatter",
         "x": {
          "bdata": "fByzX9/Fir9AKClBT8iAPw==",
          "dtype": "f8"
         },
         "y": {
          "bdata": "M+Nh6dAJAEDN7Cd2zSwBQA==",
          "dtype": "f8"
         }
        },
        {
         "error_y": {
          "array": {
           "bdata": "iX7WIl+bsD//7buh86e+Pw==",
           "dtype": "f8"
          },
          "color": "#EF553B",
          "thickness": 1.5,
          "type": "data",
          "visible": true,
          "width": 5
         },
         "hovertemplate": "Version: 0.14.0<br>Runtime: %{y:.2f}s<extra></extra>",
         "marker": {
          "color": "#EF553B",
          "opacity": 0.7,
          "size": 10
         },
         "mode": "markers",
         "name": "Run time - 0.14.0",
         "showlegend": true,
         "type": "scatter",
         "x": {
          "bdata": "WsufM0wh8D/sid4cvavwPw==",
          "dtype": "f8"
         },
         "y": {
          "bdata": "ZqaWXvhI+D+a+er90Rb5Pw==",
          "dtype": "f8"
         }
        },
        {
         "error_y": {
          "array": {
           "bdata": "l0brRvfkpD9p8/LcmkesPy/XSnwwjag/",
           "dtype": "f8"
          },
          "color": "#00CC96",
          "thickness": 1.5,
          "type": "data",
          "visible": true,
          "width": 5
         },
         "hovertemplate": "Version: 0.15.1<br>Runtime: %{y:.2f}s<extra></extra>",
         "marker": {
          "color": "#00CC96",
          "opacity": 0.7,
          "size": 10
         },
         "mode": "markers",
         "name": "Run time - 0.15.1",
         "showlegend": true,
         "type": "scatter",
         "x": {
          "bdata": "o+edyHNh/z9etUcwD5P/PzyVwAXWKwBA",
          "dtype": "f8"
         },
         "y": {
          "bdata": "zczQiyoB9j8A4AaOqpP2PwBA+YeqKfY/",
          "dtype": "f8"
         }
        },
        {
         "error_y": {
          "array": {
           "bdata": "Ej26q2CbrD/lJsrCXT6lP1XMLo1436Y/",
           "dtype": "f8"
          },
          "color": "#AB63FA",
          "thickness": 1.5,
          "type": "data",
          "visible": true,
          "width": 5
         },
         "hovertemplate": "Version: 0.16.0<br>Runtime: %{y:.2f}s<extra></extra>",
         "marker": {
          "color": "#AB63FA",
          "opacity": 0.7,
          "size": 10
         },
         "mode": "markers",
         "name": "Run time - 0.16.0",
         "showlegend": true,
         "type": "scatter",
         "x": {
          "bdata": "BPQEQSs7CEBa7SFg/PsHQN1xRrJWNAhA",
          "dtype": "f8"
         },
         "y": {
          "bdata": "zYwsz+iX8z9mZlJvdlX0PzPz63quTvM/",
          "dtype": "f8"
         }
        },
        {
         "line": {
          "color": "black",
          "width": 2
         },
         "marker": {
          "color": "black",
          "size": 8
         },
         "mode": "lines+markers",
         "name": "Median (per version)",
         "type": "scatter",
         "x": {
          "bdata": "AAECAw==",
          "dtype": "i1"
         },
         "y": {
          "bdata": "AOjEL0+bAEAA0EAu5a/4PwBA+YeqKfY/zYwsz+iX8z8=",
          "dtype": "f8"
         }
        }
       ],
       "layout": {
        "showlegend": true,
        "template": {
         "data": {
          "bar": [
           {
            "error_x": {
             "color": "#2a3f5f"
            },
            "error_y": {
             "color": "#2a3f5f"
            },
            "marker": {
             "line": {
              "color": "#E5ECF6",
              "width": 0.5
             },
             "pattern": {
              "fillmode": "overlay",
              "size": 10,
              "solidity": 0.2
             }
            },
            "type": "bar"
           }
          ],
          "barpolar": [
           {
            "marker": {
             "line": {
              "color": "#E5ECF6",
              "width": 0.5
             },
             "pattern": {
              "fillmode": "overlay",
              "size": 10,
              "solidity": 0.2
             }
            },
            "type": "barpolar"
           }
          ],
          "carpet": [
           {
            "aaxis": {
             "endlinecolor": "#2a3f5f",
             "gridcolor": "white",
             "linecolor": "white",
             "minorgridcolor": "white",
             "startlinecolor": "#2a3f5f"
            },
            "baxis": {
             "endlinecolor": "#2a3f5f",
             "gridcolor": "white",
             "linecolor": "white",
             "minorgridcolor": "white",
             "startlinecolor": "#2a3f5f"
            },
            "type": "carpet"
           }
          ],
          "choropleth": [
           {
            "colorbar": {
             "outlinewidth": 0,
             "ticks": ""
            },
            "type": "choropleth"
           }
          ],
          "contour": [
           {
            "colorbar": {
             "outlinewidth": 0,
             "ticks": ""
            },
            "colorscale": [
             [
              0,
              "#0d0887"
             ],
             [
              0.1111111111111111,
              "#46039f"
             ],
             [
              0.2222222222222222,
              "#7201a8"
             ],
             [
              0.3333333333333333,
              "#9c179e"
             ],
             [
              0.4444444444444444,
              "#bd3786"
             ],
             [
              0.5555555555555556,
              "#d8576b"
             ],
             [
              0.6666666666666666,
              "#ed7953"
             ],
             [
              0.7777777777777778,
              "#fb9f3a"
             ],
             [
              0.8888888888888888,
              "#fdca26"
             ],
             [
              1,
              "#f0f921"
             ]
            ],
            "type": "contour"
           }
          ],
          "contourcarpet": [
           {
            "colorbar": {
             "outlinewidth": 0,
             "ticks": ""
            },
            "type": "contourcarpet"
           }
          ],
          "heatmap": [
           {
            "colorbar": {
             "outlinewidth": 0,
             "ticks": ""
            },
            "colorscale": [
             [
              0,
              "#0d0887"
             ],
             [
              0.1111111111111111,
              "#46039f"
             ],
             [
              0.2222222222222222,
              "#7201a8"
             ],
             [
              0.3333333333333333,
              "#9c179e"
             ],
             [
              0.4444444444444444,
              "#bd3786"
             ],
             [
              0.5555555555555556,
              "#d8576b"
             ],
             [
              0.6666666666666666,
              "#ed7953"
             ],
             [
              0.7777777777777778,
              "#fb9f3a"
             ],
             [
              0.8888888888888888,
              "#fdca26"
             ],
             [
              1,
              "#f0f921"
             ]
            ],
            "type": "heatmap"
           }
          ],
          "histogram": [
           {
            "marker": {
             "pattern": {
              "fillmode": "overlay",
              "size": 10,
              "solidity": 0.2
             }
            },
            "type": "histogram"
           }
          ],
          "histogram2d": [
           {
            "colorbar": {
             "outlinewidth": 0,
             "ticks": ""
            },
            "colorscale": [
             [
              0,
              "#0d0887"
             ],
             [
              0.1111111111111111,
              "#46039f"
             ],
             [
              0.2222222222222222,
              "#7201a8"
             ],
             [
              0.3333333333333333,
              "#9c179e"
             ],
             [
              0.4444444444444444,
              "#bd3786"
             ],
             [
              0.5555555555555556,
              "#d8576b"
             ],
             [
              0.6666666666666666,
              "#ed7953"
             ],
             [
              0.7777777777777778,
              "#fb9f3a"
             ],
             [
              0.8888888888888888,
              "#fdca26"
             ],
             [
              1,
              "#f0f921"
             ]
            ],
            "type": "histogram2d"
           }
          ],
          "histogram2dcontour": [
           {
            "colorbar": {
             "outlinewidth": 0,
             "ticks": ""
            },
            "colorscale": [
             [
              0,
              "#0d0887"
             ],
             [
              0.1111111111111111,
              "#46039f"
             ],
             [
              0.2222222222222222,
              "#7201a8"
             ],
             [
              0.3333333333333333,
              "#9c179e"
             ],
             [
              0.4444444444444444,
              "#bd3786"
             ],
             [
              0.5555555555555556,
              "#d8576b"
             ],
             [
              0.6666666666666666,
              "#ed7953"
             ],
             [
              0.7777777777777778,
              "#fb9f3a"
             ],
             [
              0.8888888888888888,
              "#fdca26"
             ],
             [
              1,
              "#f0f921"
             ]
            ],
            "type": "histogram2dcontour"
           }
          ],
          "mesh3d": [
           {
            "colorbar": {
             "outlinewidth": 0,
             "ticks": ""
            },
            "type": "mesh3d"
           }
          ],
          "parcoords": [
           {
            "line": {
             "colorbar": {
              "outlinewidth": 0,
              "ticks": ""
             }
            },
            "type": "parcoords"
           }
          ],
          "pie": [
           {
            "automargin": true,
            "type": "pie"
           }
          ],
          "scatter": [
           {
            "fillpattern": {
             "fillmode": "overlay",
             "size": 10,
             "solidity": 0.2
            },
            "type": "scatter"
           }
          ],
          "scatter3d": [
           {
            "line": {
             "colorbar": {
              "outlinewidth": 0,
              "ticks": ""
             }
            },
            "marker": {
             "colorbar": {
              "outlinewidth": 0,
              "ticks": ""
             }
            },
            "type": "scatter3d"
           }
          ],
          "scattercarpet": [
           {
            "marker": {
             "colorbar": {
              "outlinewidth": 0,
              "ticks": ""
             }
            },
            "type": "scattercarpet"
           }
          ],
          "scattergeo": [
           {
            "marker": {
             "colorbar": {
              "outlinewidth": 0,
              "ticks": ""
             }
            },
            "type": "scattergeo"
           }
          ],
          "scattergl": [
           {
            "marker": {
             "colorbar": {
              "outlinewidth": 0,
              "ticks": ""
             }
            },
            "type": "scattergl"
           }
          ],
          "scattermap": [
           {
            "marker": {
             "colorbar": {
              "outlinewidth": 0,
              "ticks": ""
             }
            },
            "type": "scattermap"
           }
          ],
          "scattermapbox": [
           {
            "marker": {
             "colorbar": {
              "outlinewidth": 0,
              "ticks": ""
             }
            },
            "type": "scattermapbox"
           }
          ],
          "scatterpolar": [
           {
            "marker": {
             "colorbar": {
              "outlinewidth": 0,
              "ticks": ""
             }
            },
            "type": "scatterpolar"
           }
          ],
          "scatterpolargl": [
           {
            "marker": {
             "colorbar": {
              "outlinewidth": 0,
              "ticks": ""
             }
            },
            "type": "scatterpolargl"
           }
          ],
          "scatterternary": [
           {
            "marker": {
             "colorbar": {
              "outlinewidth": 0,
              "ticks": ""
             }
            },
            "type": "scatterternary"
           }
          ],
          "surface": [
           {
            "colorbar": {
             "outlinewidth": 0,
             "ticks": ""
            },
            "colorscale": [
             [
              0,
              "#0d0887"
             ],
             [
              0.1111111111111111,
              "#46039f"
             ],
             [
              0.2222222222222222,
              "#7201a8"
             ],
             [
              0.3333333333333333,
              "#9c179e"
             ],
             [
              0.4444444444444444,
              "#bd3786"
             ],
             [
              0.5555555555555556,
              "#d8576b"
             ],
             [
              0.6666666666666666,
              "#ed7953"
             ],
             [
              0.7777777777777778,
              "#fb9f3a"
             ],
             [
              0.8888888888888888,
              "#fdca26"
             ],
             [
              1,
              "#f0f921"
             ]
            ],
            "type": "surface"
           }
          ],
          "table": [
           {
            "cells": {
             "fill": {
              "color": "#EBF0F8"
             },
             "line": {
              "color": "white"
             }
            },
            "header": {
             "fill": {
              "color": "#C8D4E3"
             },
             "line": {
              "color": "white"
             }
            },
            "type": "table"
           }
          ]
         },
         "layout": {
          "annotationdefaults": {
           "arrowcolor": "#2a3f5f",
           "arrowhead": 0,
           "arrowwidth": 1
          },
          "autotypenumbers": "strict",
          "coloraxis": {
           "colorbar": {
            "outlinewidth": 0,
            "ticks": ""
           }
          },
          "colorscale": {
           "diverging": [
            [
             0,
             "#8e0152"
            ],
            [
             0.1,
             "#c51b7d"
            ],
            [
             0.2,
             "#de77ae"
            ],
            [
             0.3,
             "#f1b6da"
            ],
            [
             0.4,
             "#fde0ef"
            ],
            [
             0.5,
             "#f7f7f7"
            ],
            [
             0.6,
             "#e6f5d0"
            ],
            [
             0.7,
             "#b8e186"
            ],
            [
             0.8,
             "#7fbc41"
            ],
            [
             0.9,
             "#4d9221"
            ],
            [
             1,
             "#276419"
            ]
           ],
           "sequential": [
            [
             0,
             "#0d0887"
            ],
            [
             0.1111111111111111,
             "#46039f"
            ],
            [
             0.2222222222222222,
             "#7201a8"
            ],
            [
             0.3333333333333333,
             "#9c179e"
            ],
            [
             0.4444444444444444,
             "#bd3786"
            ],
            [
             0.5555555555555556,
             "#d8576b"
            ],
            [
             0.6666666666666666,
             "#ed7953"
            ],
            [
             0.7777777777777778,
             "#fb9f3a"
            ],
            [
             0.8888888888888888,
             "#fdca26"
            ],
            [
             1,
             "#f0f921"
            ]
           ],
           "sequentialminus": [
            [
             0,
             "#0d0887"
            ],
            [
             0.1111111111111111,
             "#46039f"
            ],
            [
             0.2222222222222222,
             "#7201a8"
            ],
            [
             0.3333333333333333,
             "#9c179e"
            ],
            [
             0.4444444444444444,
             "#bd3786"
            ],
            [
             0.5555555555555556,
             "#d8576b"
            ],
            [
             0.6666666666666666,
             "#ed7953"
            ],
            [
             0.7777777777777778,
             "#fb9f3a"
            ],
            [
             0.8888888888888888,
             "#fdca26"
            ],
            [
             1,
             "#f0f921"
            ]
           ]
          },
          "colorway": [
           "#636efa",
           "#EF553B",
           "#00cc96",
           "#ab63fa",
           "#FFA15A",
           "#19d3f3",
           "#FF6692",
           "#B6E880",
           "#FF97FF",
           "#FECB52"
          ],
          "font": {
           "color": "#2a3f5f"
          },
          "geo": {
           "bgcolor": "white",
           "lakecolor": "white",
           "landcolor": "#E5ECF6",
           "showlakes": true,
           "showland": true,
           "subunitcolor": "white"
          },
          "hoverlabel": {
           "align": "left"
          },
          "hovermode": "closest",
          "mapbox": {
           "style": "light"
          },
          "paper_bgcolor": "white",
          "plot_bgcolor": "#E5ECF6",
          "polar": {
           "angularaxis": {
            "gridcolor": "white",
            "linecolor": "white",
            "ticks": ""
           },
           "bgcolor": "#E5ECF6",
           "radialaxis": {
            "gridcolor": "white",
            "linecolor": "white",
            "ticks": ""
           }
          },
          "scene": {
           "xaxis": {
            "backgroundcolor": "#E5ECF6",
            "gridcolor": "white",
            "gridwidth": 2,
            "linecolor": "white",
            "showbackground": true,
            "ticks": "",
            "zerolinecolor": "white"
           },
           "yaxis": {
            "backgroundcolor": "#E5ECF6",
            "gridcolor": "white",
            "gridwidth": 2,
            "linecolor": "white",
            "showbackground": true,
            "ticks": "",
            "zerolinecolor": "white"
           },
           "zaxis": {
            "backgroundcolor": "#E5ECF6",
            "gridcolor": "white",
            "gridwidth": 2,
            "linecolor": "white",
            "showbackground": true,
            "ticks": "",
            "zerolinecolor": "white"
           }
          },
          "shapedefaults": {
           "line": {
            "color": "#2a3f5f"
           }
          },
          "ternary": {
           "aaxis": {
            "gridcolor": "white",
            "linecolor": "white",
            "ticks": ""
           },
           "baxis": {
            "gridcolor": "white",
            "linecolor": "white",
            "ticks": ""
           },
           "bgcolor": "#E5ECF6",
           "caxis": {
            "gridcolor": "white",
            "linecolor": "white",
            "ticks": ""
           }
          },
          "title": {
           "x": 0.05
          },
          "xaxis": {
           "automargin": true,
           "gridcolor": "white",
           "linecolor": "white",
           "ticks": "",
           "title": {
            "standoff": 15
           },
           "zerolinecolor": "white",
           "zerolinewidth": 2
          },
          "yaxis": {
           "automargin": true,
           "gridcolor": "white",
           "linecolor": "white",
           "ticks": "",
           "title": {
            "standoff": 15
           },
           "zerolinecolor": "white",
           "zerolinewidth": 2
          }
         }
        },
        "title": {
         "text": "Execution time of ForecasterRecursiveMultiSeries__create_train_X_y_series_is_dataframe_no_exog"
        },
        "xaxis": {
         "tickangle": -45,
         "tickmode": "array",
         "ticktext": [
          "0.13.0",
          "0.14.0",
          "0.15.1",
          "0.16.0"
         ],
         "tickvals": [
          0,
          1,
          2,
          3
         ],
         "title": {
          "text": "skforecast version"
         }
        },
        "yaxis": {
         "title": {
          "text": "Execution time (seconds)"
         }
        }
       }
      }
     },
     "metadata": {},
     "output_type": "display_data"
    },
    {
     "data": {
      "application/vnd.microsoft.datawrangler.viewer.v0+json": {
       "columns": [
        {
         "name": "index",
         "rawType": "int64",
         "type": "integer"
        },
        {
         "name": "forecaster_name",
         "rawType": "object",
         "type": "string"
        },
        {
         "name": "regressor_name",
         "rawType": "object",
         "type": "string"
        },
        {
         "name": "function_name",
         "rawType": "object",
         "type": "string"
        },
        {
         "name": "function_hash",
         "rawType": "object",
         "type": "string"
        },
        {
         "name": "run_time_avg",
         "rawType": "float64",
         "type": "float"
        },
        {
         "name": "run_time_std_dev",
         "rawType": "float64",
         "type": "float"
        },
        {
         "name": "datetime",
         "rawType": "datetime64[ns]",
         "type": "datetime"
        },
        {
         "name": "python_version",
         "rawType": "object",
         "type": "string"
        },
        {
         "name": "skforecast_version",
         "rawType": "object",
         "type": "string"
        },
        {
         "name": "numpy_version",
         "rawType": "object",
         "type": "string"
        },
        {
         "name": "pandas_version",
         "rawType": "object",
         "type": "string"
        },
        {
         "name": "sklearn_version",
         "rawType": "object",
         "type": "string"
        },
        {
         "name": "lightgbm_version",
         "rawType": "object",
         "type": "string"
        },
        {
         "name": "platform",
         "rawType": "object",
         "type": "string"
        },
        {
         "name": "processor",
         "rawType": "object",
         "type": "string"
        },
        {
         "name": "cpu_count",
         "rawType": "int64",
         "type": "integer"
        },
        {
         "name": "memory_gb",
         "rawType": "float64",
         "type": "float"
        }
       ],
       "conversionMethod": "pd.DataFrame",
       "ref": "395ad31e-bf60-427f-a5b1-6638a146b67b",
       "rows": [
        [
         "4",
         "ForecasterRecursiveMultiSeries",
         "LGBMRegressor",
         "ForecasterRecursiveMultiSeries__create_train_X_y_single_series",
         "ea2ceb1c912245376ba4cea7595175be",
         "0.0013055405997874914",
         "0.0001718328209562836",
         "2025-04-23 15:05:51.677126",
         "3.12.9",
         "0.16.0",
         "2.2.5",
         "2.2.3",
         "1.6.1",
         "4.6.0",
         "Linux-6.11.0-21-generic-x86_64-with-glibc2.39",
         "x86_64",
         "8",
         "16.64"
        ],
        [
         "16",
         "ForecasterRecursiveMultiSeries",
         "LGBMRegressor",
         "ForecasterRecursiveMultiSeries__create_train_X_y_single_series",
         "ea2ceb1c912245376ba4cea7595175be",
         "0.0013703770000574877",
         "0.00022350204881122445",
         "2025-04-23 15:11:43.049817",
         "3.12.9",
         "0.15.1",
         "2.2.5",
         "2.2.3",
         "1.6.1",
         "4.6.0",
         "Linux-6.11.0-21-generic-x86_64-with-glibc2.39",
         "x86_64",
         "8",
         "16.64"
        ],
        [
         "28",
         "ForecasterRecursiveMultiSeries",
         "LGBMRegressor",
         "ForecasterRecursiveMultiSeries__create_train_X_y_single_series",
         "ea2ceb1c912245376ba4cea7595175be",
         "0.0016048196004703641",
         "0.0003591118943989178",
         "2025-04-23 15:15:38.790638",
         "3.12.9",
         "0.14.0",
         "2.2.5",
         "2.2.3",
         "1.6.1",
         "4.6.0",
         "Linux-6.11.0-21-generic-x86_64-with-glibc2.39",
         "x86_64",
         "8",
         "16.64"
        ],
        [
         "40",
         "ForecasterAutoregMultiSeries",
         "LGBMRegressor",
         "ForecasterRecursiveMultiSeries__create_train_X_y_single_series",
         "ea2ceb1c912245376ba4cea7595175be",
         "0.0016238054005953018",
         "0.00013893143384123558",
         "2025-04-23 15:27:57.642580",
         "3.12.9",
         "0.13.0",
         "2.2.5",
         "2.2.3",
         "1.6.1",
         "4.6.0",
         "Linux-6.11.0-21-generic-x86_64-with-glibc2.39",
         "x86_64",
         "8",
         "16.64"
        ],
        [
         "52",
         "ForecasterAutoregMultiSeries",
         "LGBMRegressor",
         "ForecasterRecursiveMultiSeries__create_train_X_y_single_series",
         "ea2ceb1c912245376ba4cea7595175be",
         "0.002253390599798877",
         "0.00030141880039183367",
         "2025-04-23 15:37:24.534882",
         "3.12.9",
         "0.13.0",
         "2.2.5",
         "2.2.3",
         "1.6.1",
         "4.6.0",
         "Linux-6.11.0-21-generic-x86_64-with-glibc2.39",
         "x86_64",
         "8",
         "16.64"
        ],
        [
         "72",
         "ForecasterRecursiveMultiSeries",
         "LGBMRegressor",
         "ForecasterRecursiveMultiSeries__create_train_X_y_single_series",
         "ea2ceb1c912245376ba4cea7595175be",
         "0.0037316641999495916",
         "0.00038312351549060905",
         "2025-04-23 15:56:31.510600",
         "3.12.9",
         "0.14.0",
         "2.2.5",
         "2.2.3",
         "1.6.1",
         "4.6.0",
         "Linux-6.11.0-21-generic-x86_64-with-glibc2.39",
         "x86_64",
         "8",
         "16.64"
        ],
        [
         "84",
         "ForecasterRecursiveMultiSeries",
         "LGBMRegressor",
         "ForecasterRecursiveMultiSeries__create_train_X_y_single_series",
         "ea2ceb1c912245376ba4cea7595175be",
         "0.0015143111995712388",
         "0.0002522029402729471",
         "2025-04-23 16:00:43.539847",
         "3.12.9",
         "0.15.1",
         "2.2.5",
         "2.2.3",
         "1.6.1",
         "4.6.0",
         "Linux-6.11.0-21-generic-x86_64-with-glibc2.39",
         "x86_64",
         "8",
         "16.64"
        ],
        [
         "96",
         "ForecasterRecursiveMultiSeries",
         "LGBMRegressor",
         "ForecasterRecursiveMultiSeries__create_train_X_y_single_series",
         "ea2ceb1c912245376ba4cea7595175be",
         "0.0015389447999041295",
         "0.0002704785499684506",
         "2025-04-23 16:05:13.551260",
         "3.12.9",
         "0.15.1",
         "2.2.5",
         "2.2.3",
         "1.6.1",
         "4.6.0",
         "Linux-6.11.0-21-generic-x86_64-with-glibc2.39",
         "x86_64",
         "8",
         "16.64"
        ],
        [
         "108",
         "ForecasterRecursiveMultiSeries",
         "LGBMRegressor",
         "ForecasterRecursiveMultiSeries__create_train_X_y_single_series",
         "ea2ceb1c912245376ba4cea7595175be",
         "0.001318833400364383",
         "0.00014939287984836995",
         "2025-04-23 16:08:35.307922",
         "3.12.9",
         "0.16.0",
         "2.2.5",
         "2.2.3",
         "1.6.1",
         "4.6.0",
         "Linux-6.11.0-21-generic-x86_64-with-glibc2.39",
         "x86_64",
         "8",
         "16.64"
        ],
        [
         "120",
         "ForecasterRecursiveMultiSeries",
         "LGBMRegressor",
         "ForecasterRecursiveMultiSeries__create_train_X_y_single_series",
         "ea2ceb1c912245376ba4cea7595175be",
         "0.001437214800171205",
         "0.00015525551856401142",
         "2025-04-23 16:12:03.939259",
         "3.12.9",
         "0.16.0",
         "2.2.5",
         "2.2.3",
         "1.6.1",
         "4.6.0",
         "Linux-6.11.0-21-generic-x86_64-with-glibc2.39",
         "x86_64",
         "8",
         "16.64"
        ]
       ],
       "shape": {
        "columns": 17,
        "rows": 10
       }
      },
      "text/html": [
       "<div>\n",
       "<style scoped>\n",
       "    .dataframe tbody tr th:only-of-type {\n",
       "        vertical-align: middle;\n",
       "    }\n",
       "\n",
       "    .dataframe tbody tr th {\n",
       "        vertical-align: top;\n",
       "    }\n",
       "\n",
       "    .dataframe thead th {\n",
       "        text-align: right;\n",
       "    }\n",
       "</style>\n",
       "<table border=\"1\" class=\"dataframe\">\n",
       "  <thead>\n",
       "    <tr style=\"text-align: right;\">\n",
       "      <th></th>\n",
       "      <th>forecaster_name</th>\n",
       "      <th>regressor_name</th>\n",
       "      <th>function_name</th>\n",
       "      <th>function_hash</th>\n",
       "      <th>run_time_avg</th>\n",
       "      <th>run_time_std_dev</th>\n",
       "      <th>datetime</th>\n",
       "      <th>python_version</th>\n",
       "      <th>skforecast_version</th>\n",
       "      <th>numpy_version</th>\n",
       "      <th>pandas_version</th>\n",
       "      <th>sklearn_version</th>\n",
       "      <th>lightgbm_version</th>\n",
       "      <th>platform</th>\n",
       "      <th>processor</th>\n",
       "      <th>cpu_count</th>\n",
       "      <th>memory_gb</th>\n",
       "    </tr>\n",
       "  </thead>\n",
       "  <tbody>\n",
       "    <tr>\n",
       "      <th>4</th>\n",
       "      <td>ForecasterRecursiveMultiSeries</td>\n",
       "      <td>LGBMRegressor</td>\n",
       "      <td>ForecasterRecursiveMultiSeries__create_train_X...</td>\n",
       "      <td>ea2ceb1c912245376ba4cea7595175be</td>\n",
       "      <td>0.001306</td>\n",
       "      <td>0.000172</td>\n",
       "      <td>2025-04-23 15:05:51.677126</td>\n",
       "      <td>3.12.9</td>\n",
       "      <td>0.16.0</td>\n",
       "      <td>2.2.5</td>\n",
       "      <td>2.2.3</td>\n",
       "      <td>1.6.1</td>\n",
       "      <td>4.6.0</td>\n",
       "      <td>Linux-6.11.0-21-generic-x86_64-with-glibc2.39</td>\n",
       "      <td>x86_64</td>\n",
       "      <td>8</td>\n",
       "      <td>16.64</td>\n",
       "    </tr>\n",
       "    <tr>\n",
       "      <th>16</th>\n",
       "      <td>ForecasterRecursiveMultiSeries</td>\n",
       "      <td>LGBMRegressor</td>\n",
       "      <td>ForecasterRecursiveMultiSeries__create_train_X...</td>\n",
       "      <td>ea2ceb1c912245376ba4cea7595175be</td>\n",
       "      <td>0.001370</td>\n",
       "      <td>0.000224</td>\n",
       "      <td>2025-04-23 15:11:43.049817</td>\n",
       "      <td>3.12.9</td>\n",
       "      <td>0.15.1</td>\n",
       "      <td>2.2.5</td>\n",
       "      <td>2.2.3</td>\n",
       "      <td>1.6.1</td>\n",
       "      <td>4.6.0</td>\n",
       "      <td>Linux-6.11.0-21-generic-x86_64-with-glibc2.39</td>\n",
       "      <td>x86_64</td>\n",
       "      <td>8</td>\n",
       "      <td>16.64</td>\n",
       "    </tr>\n",
       "    <tr>\n",
       "      <th>28</th>\n",
       "      <td>ForecasterRecursiveMultiSeries</td>\n",
       "      <td>LGBMRegressor</td>\n",
       "      <td>ForecasterRecursiveMultiSeries__create_train_X...</td>\n",
       "      <td>ea2ceb1c912245376ba4cea7595175be</td>\n",
       "      <td>0.001605</td>\n",
       "      <td>0.000359</td>\n",
       "      <td>2025-04-23 15:15:38.790638</td>\n",
       "      <td>3.12.9</td>\n",
       "      <td>0.14.0</td>\n",
       "      <td>2.2.5</td>\n",
       "      <td>2.2.3</td>\n",
       "      <td>1.6.1</td>\n",
       "      <td>4.6.0</td>\n",
       "      <td>Linux-6.11.0-21-generic-x86_64-with-glibc2.39</td>\n",
       "      <td>x86_64</td>\n",
       "      <td>8</td>\n",
       "      <td>16.64</td>\n",
       "    </tr>\n",
       "    <tr>\n",
       "      <th>40</th>\n",
       "      <td>ForecasterAutoregMultiSeries</td>\n",
       "      <td>LGBMRegressor</td>\n",
       "      <td>ForecasterRecursiveMultiSeries__create_train_X...</td>\n",
       "      <td>ea2ceb1c912245376ba4cea7595175be</td>\n",
       "      <td>0.001624</td>\n",
       "      <td>0.000139</td>\n",
       "      <td>2025-04-23 15:27:57.642580</td>\n",
       "      <td>3.12.9</td>\n",
       "      <td>0.13.0</td>\n",
       "      <td>2.2.5</td>\n",
       "      <td>2.2.3</td>\n",
       "      <td>1.6.1</td>\n",
       "      <td>4.6.0</td>\n",
       "      <td>Linux-6.11.0-21-generic-x86_64-with-glibc2.39</td>\n",
       "      <td>x86_64</td>\n",
       "      <td>8</td>\n",
       "      <td>16.64</td>\n",
       "    </tr>\n",
       "    <tr>\n",
       "      <th>52</th>\n",
       "      <td>ForecasterAutoregMultiSeries</td>\n",
       "      <td>LGBMRegressor</td>\n",
       "      <td>ForecasterRecursiveMultiSeries__create_train_X...</td>\n",
       "      <td>ea2ceb1c912245376ba4cea7595175be</td>\n",
       "      <td>0.002253</td>\n",
       "      <td>0.000301</td>\n",
       "      <td>2025-04-23 15:37:24.534882</td>\n",
       "      <td>3.12.9</td>\n",
       "      <td>0.13.0</td>\n",
       "      <td>2.2.5</td>\n",
       "      <td>2.2.3</td>\n",
       "      <td>1.6.1</td>\n",
       "      <td>4.6.0</td>\n",
       "      <td>Linux-6.11.0-21-generic-x86_64-with-glibc2.39</td>\n",
       "      <td>x86_64</td>\n",
       "      <td>8</td>\n",
       "      <td>16.64</td>\n",
       "    </tr>\n",
       "    <tr>\n",
       "      <th>72</th>\n",
       "      <td>ForecasterRecursiveMultiSeries</td>\n",
       "      <td>LGBMRegressor</td>\n",
       "      <td>ForecasterRecursiveMultiSeries__create_train_X...</td>\n",
       "      <td>ea2ceb1c912245376ba4cea7595175be</td>\n",
       "      <td>0.003732</td>\n",
       "      <td>0.000383</td>\n",
       "      <td>2025-04-23 15:56:31.510600</td>\n",
       "      <td>3.12.9</td>\n",
       "      <td>0.14.0</td>\n",
       "      <td>2.2.5</td>\n",
       "      <td>2.2.3</td>\n",
       "      <td>1.6.1</td>\n",
       "      <td>4.6.0</td>\n",
       "      <td>Linux-6.11.0-21-generic-x86_64-with-glibc2.39</td>\n",
       "      <td>x86_64</td>\n",
       "      <td>8</td>\n",
       "      <td>16.64</td>\n",
       "    </tr>\n",
       "    <tr>\n",
       "      <th>84</th>\n",
       "      <td>ForecasterRecursiveMultiSeries</td>\n",
       "      <td>LGBMRegressor</td>\n",
       "      <td>ForecasterRecursiveMultiSeries__create_train_X...</td>\n",
       "      <td>ea2ceb1c912245376ba4cea7595175be</td>\n",
       "      <td>0.001514</td>\n",
       "      <td>0.000252</td>\n",
       "      <td>2025-04-23 16:00:43.539847</td>\n",
       "      <td>3.12.9</td>\n",
       "      <td>0.15.1</td>\n",
       "      <td>2.2.5</td>\n",
       "      <td>2.2.3</td>\n",
       "      <td>1.6.1</td>\n",
       "      <td>4.6.0</td>\n",
       "      <td>Linux-6.11.0-21-generic-x86_64-with-glibc2.39</td>\n",
       "      <td>x86_64</td>\n",
       "      <td>8</td>\n",
       "      <td>16.64</td>\n",
       "    </tr>\n",
       "    <tr>\n",
       "      <th>96</th>\n",
       "      <td>ForecasterRecursiveMultiSeries</td>\n",
       "      <td>LGBMRegressor</td>\n",
       "      <td>ForecasterRecursiveMultiSeries__create_train_X...</td>\n",
       "      <td>ea2ceb1c912245376ba4cea7595175be</td>\n",
       "      <td>0.001539</td>\n",
       "      <td>0.000270</td>\n",
       "      <td>2025-04-23 16:05:13.551260</td>\n",
       "      <td>3.12.9</td>\n",
       "      <td>0.15.1</td>\n",
       "      <td>2.2.5</td>\n",
       "      <td>2.2.3</td>\n",
       "      <td>1.6.1</td>\n",
       "      <td>4.6.0</td>\n",
       "      <td>Linux-6.11.0-21-generic-x86_64-with-glibc2.39</td>\n",
       "      <td>x86_64</td>\n",
       "      <td>8</td>\n",
       "      <td>16.64</td>\n",
       "    </tr>\n",
       "    <tr>\n",
       "      <th>108</th>\n",
       "      <td>ForecasterRecursiveMultiSeries</td>\n",
       "      <td>LGBMRegressor</td>\n",
       "      <td>ForecasterRecursiveMultiSeries__create_train_X...</td>\n",
       "      <td>ea2ceb1c912245376ba4cea7595175be</td>\n",
       "      <td>0.001319</td>\n",
       "      <td>0.000149</td>\n",
       "      <td>2025-04-23 16:08:35.307922</td>\n",
       "      <td>3.12.9</td>\n",
       "      <td>0.16.0</td>\n",
       "      <td>2.2.5</td>\n",
       "      <td>2.2.3</td>\n",
       "      <td>1.6.1</td>\n",
       "      <td>4.6.0</td>\n",
       "      <td>Linux-6.11.0-21-generic-x86_64-with-glibc2.39</td>\n",
       "      <td>x86_64</td>\n",
       "      <td>8</td>\n",
       "      <td>16.64</td>\n",
       "    </tr>\n",
       "    <tr>\n",
       "      <th>120</th>\n",
       "      <td>ForecasterRecursiveMultiSeries</td>\n",
       "      <td>LGBMRegressor</td>\n",
       "      <td>ForecasterRecursiveMultiSeries__create_train_X...</td>\n",
       "      <td>ea2ceb1c912245376ba4cea7595175be</td>\n",
       "      <td>0.001437</td>\n",
       "      <td>0.000155</td>\n",
       "      <td>2025-04-23 16:12:03.939259</td>\n",
       "      <td>3.12.9</td>\n",
       "      <td>0.16.0</td>\n",
       "      <td>2.2.5</td>\n",
       "      <td>2.2.3</td>\n",
       "      <td>1.6.1</td>\n",
       "      <td>4.6.0</td>\n",
       "      <td>Linux-6.11.0-21-generic-x86_64-with-glibc2.39</td>\n",
       "      <td>x86_64</td>\n",
       "      <td>8</td>\n",
       "      <td>16.64</td>\n",
       "    </tr>\n",
       "  </tbody>\n",
       "</table>\n",
       "</div>"
      ],
      "text/plain": [
       "                    forecaster_name regressor_name  \\\n",
       "4    ForecasterRecursiveMultiSeries  LGBMRegressor   \n",
       "16   ForecasterRecursiveMultiSeries  LGBMRegressor   \n",
       "28   ForecasterRecursiveMultiSeries  LGBMRegressor   \n",
       "40     ForecasterAutoregMultiSeries  LGBMRegressor   \n",
       "52     ForecasterAutoregMultiSeries  LGBMRegressor   \n",
       "72   ForecasterRecursiveMultiSeries  LGBMRegressor   \n",
       "84   ForecasterRecursiveMultiSeries  LGBMRegressor   \n",
       "96   ForecasterRecursiveMultiSeries  LGBMRegressor   \n",
       "108  ForecasterRecursiveMultiSeries  LGBMRegressor   \n",
       "120  ForecasterRecursiveMultiSeries  LGBMRegressor   \n",
       "\n",
       "                                         function_name  \\\n",
       "4    ForecasterRecursiveMultiSeries__create_train_X...   \n",
       "16   ForecasterRecursiveMultiSeries__create_train_X...   \n",
       "28   ForecasterRecursiveMultiSeries__create_train_X...   \n",
       "40   ForecasterRecursiveMultiSeries__create_train_X...   \n",
       "52   ForecasterRecursiveMultiSeries__create_train_X...   \n",
       "72   ForecasterRecursiveMultiSeries__create_train_X...   \n",
       "84   ForecasterRecursiveMultiSeries__create_train_X...   \n",
       "96   ForecasterRecursiveMultiSeries__create_train_X...   \n",
       "108  ForecasterRecursiveMultiSeries__create_train_X...   \n",
       "120  ForecasterRecursiveMultiSeries__create_train_X...   \n",
       "\n",
       "                        function_hash  run_time_avg  run_time_std_dev  \\\n",
       "4    ea2ceb1c912245376ba4cea7595175be      0.001306          0.000172   \n",
       "16   ea2ceb1c912245376ba4cea7595175be      0.001370          0.000224   \n",
       "28   ea2ceb1c912245376ba4cea7595175be      0.001605          0.000359   \n",
       "40   ea2ceb1c912245376ba4cea7595175be      0.001624          0.000139   \n",
       "52   ea2ceb1c912245376ba4cea7595175be      0.002253          0.000301   \n",
       "72   ea2ceb1c912245376ba4cea7595175be      0.003732          0.000383   \n",
       "84   ea2ceb1c912245376ba4cea7595175be      0.001514          0.000252   \n",
       "96   ea2ceb1c912245376ba4cea7595175be      0.001539          0.000270   \n",
       "108  ea2ceb1c912245376ba4cea7595175be      0.001319          0.000149   \n",
       "120  ea2ceb1c912245376ba4cea7595175be      0.001437          0.000155   \n",
       "\n",
       "                      datetime python_version skforecast_version  \\\n",
       "4   2025-04-23 15:05:51.677126         3.12.9             0.16.0   \n",
       "16  2025-04-23 15:11:43.049817         3.12.9             0.15.1   \n",
       "28  2025-04-23 15:15:38.790638         3.12.9             0.14.0   \n",
       "40  2025-04-23 15:27:57.642580         3.12.9             0.13.0   \n",
       "52  2025-04-23 15:37:24.534882         3.12.9             0.13.0   \n",
       "72  2025-04-23 15:56:31.510600         3.12.9             0.14.0   \n",
       "84  2025-04-23 16:00:43.539847         3.12.9             0.15.1   \n",
       "96  2025-04-23 16:05:13.551260         3.12.9             0.15.1   \n",
       "108 2025-04-23 16:08:35.307922         3.12.9             0.16.0   \n",
       "120 2025-04-23 16:12:03.939259         3.12.9             0.16.0   \n",
       "\n",
       "    numpy_version pandas_version sklearn_version lightgbm_version  \\\n",
       "4           2.2.5          2.2.3           1.6.1            4.6.0   \n",
       "16          2.2.5          2.2.3           1.6.1            4.6.0   \n",
       "28          2.2.5          2.2.3           1.6.1            4.6.0   \n",
       "40          2.2.5          2.2.3           1.6.1            4.6.0   \n",
       "52          2.2.5          2.2.3           1.6.1            4.6.0   \n",
       "72          2.2.5          2.2.3           1.6.1            4.6.0   \n",
       "84          2.2.5          2.2.3           1.6.1            4.6.0   \n",
       "96          2.2.5          2.2.3           1.6.1            4.6.0   \n",
       "108         2.2.5          2.2.3           1.6.1            4.6.0   \n",
       "120         2.2.5          2.2.3           1.6.1            4.6.0   \n",
       "\n",
       "                                          platform processor  cpu_count  \\\n",
       "4    Linux-6.11.0-21-generic-x86_64-with-glibc2.39    x86_64          8   \n",
       "16   Linux-6.11.0-21-generic-x86_64-with-glibc2.39    x86_64          8   \n",
       "28   Linux-6.11.0-21-generic-x86_64-with-glibc2.39    x86_64          8   \n",
       "40   Linux-6.11.0-21-generic-x86_64-with-glibc2.39    x86_64          8   \n",
       "52   Linux-6.11.0-21-generic-x86_64-with-glibc2.39    x86_64          8   \n",
       "72   Linux-6.11.0-21-generic-x86_64-with-glibc2.39    x86_64          8   \n",
       "84   Linux-6.11.0-21-generic-x86_64-with-glibc2.39    x86_64          8   \n",
       "96   Linux-6.11.0-21-generic-x86_64-with-glibc2.39    x86_64          8   \n",
       "108  Linux-6.11.0-21-generic-x86_64-with-glibc2.39    x86_64          8   \n",
       "120  Linux-6.11.0-21-generic-x86_64-with-glibc2.39    x86_64          8   \n",
       "\n",
       "     memory_gb  \n",
       "4        16.64  \n",
       "16       16.64  \n",
       "28       16.64  \n",
       "40       16.64  \n",
       "52       16.64  \n",
       "72       16.64  \n",
       "84       16.64  \n",
       "96       16.64  \n",
       "108      16.64  \n",
       "120      16.64  "
      ]
     },
     "metadata": {},
     "output_type": "display_data"
    },
    {
     "data": {
      "application/vnd.plotly.v1+json": {
       "config": {
        "plotlyServerURL": "https://plot.ly"
       },
       "data": [
        {
         "error_y": {
          "array": {
           "bdata": "/q3x7cM1Ij/8cdzj98AzPw==",
           "dtype": "f8"
          },
          "color": "#636EFA",
          "thickness": 1.5,
          "type": "data",
          "visible": true,
          "width": 5
         },
         "hovertemplate": "Version: 0.13.0<br>Runtime: %{y:.2f}s<extra></extra>",
         "marker": {
          "color": "#636EFA",
          "opacity": 0.7,
          "size": 10
         },
         "mode": "markers",
         "name": "Run time - 0.13.0",
         "showlegend": true,
         "type": "scatter",
         "x": {
          "bdata": "fByzX9/Fir9AKClBT8iAPw==",
          "dtype": "f8"
         },
         "y": {
          "bdata": "zczMxbuaWj/NzMzds3ViPw==",
          "dtype": "f8"
         }
        },
        {
         "error_y": {
          "array": {
           "bdata": "d3SQ1+WINz8aBij4vhs5Pw==",
           "dtype": "f8"
          },
          "color": "#EF553B",
          "thickness": 1.5,
          "type": "data",
          "visible": true,
          "width": 5
         },
         "hovertemplate": "Version: 0.14.0<br>Runtime: %{y:.2f}s<extra></extra>",
         "marker": {
          "color": "#EF553B",
          "opacity": 0.7,
          "size": 10
         },
         "mode": "markers",
         "name": "Run time - 0.14.0",
         "showlegend": true,
         "type": "scatter",
         "x": {
          "bdata": "WsufM0wh8D/sid4cvavwPw==",
          "dtype": "f8"
         },
         "y": {
          "bdata": "zczM7BlLWj+amVn23ZFuPw==",
          "dtype": "f8"
         }
        },
        {
         "error_y": {
          "array": {
           "bdata": "u9j/+ntLLT/Pr2NhQ4cwPwUawYbguTE/",
           "dtype": "f8"
          },
          "color": "#00CC96",
          "thickness": 1.5,
          "type": "data",
          "visible": true,
          "width": 5
         },
         "hovertemplate": "Version: 0.15.1<br>Runtime: %{y:.2f}s<extra></extra>",
         "marker": {
          "color": "#00CC96",
          "opacity": 0.7,
          "size": 10
         },
         "mode": "markers",
         "name": "Run time - 0.15.1",
         "showlegend": true,
         "type": "scatter",
         "x": {
          "bdata": "o+edyHNh/z9etUcwD5P/PzyVwAXWKwBA",
          "dtype": "f8"
         },
         "y": {
          "bdata": "AACAGcdzVj8AAABFe89YPwAAgGXNNlk/",
          "dtype": "f8"
         }
        },
        {
         "error_y": {
          "array": {
           "bdata": "rpdZscCFJj+THQARy5QjPwoD4L+CWSQ/",
           "dtype": "f8"
          },
          "color": "#AB63FA",
          "thickness": 1.5,
          "type": "data",
          "visible": true,
          "width": 5
         },
         "hovertemplate": "Version: 0.16.0<br>Runtime: %{y:.2f}s<extra></extra>",
         "marker": {
          "color": "#AB63FA",
          "opacity": 0.7,
          "size": 10
         },
         "mode": "markers",
         "name": "Run time - 0.16.0",
         "showlegend": true,
         "type": "scatter",
         "x": {
          "bdata": "BPQEQSs7CEBa7SFg/PsHQN1xRrJWNAhA",
          "dtype": "f8"
         },
         "y": {
          "bdata": "AACAi9VjVT8zM7OUlptVP5qZGaQdjFc/",
          "dtype": "f8"
         }
        },
        {
         "line": {
          "color": "black",
          "width": 2
         },
         "marker": {
          "color": "black",
          "size": 8
         },
         "mode": "lines+markers",
         "name": "Median (per version)",
         "type": "scatter",
         "x": {
          "bdata": "AAECAw==",
          "dtype": "i1"
         },
         "y": {
          "bdata": "NDOzwBHDXz8AAGB2tdtlPwAAAEV7z1g/MzOzlJabVT8=",
          "dtype": "f8"
         }
        }
       ],
       "layout": {
        "showlegend": true,
        "template": {
         "data": {
          "bar": [
           {
            "error_x": {
             "color": "#2a3f5f"
            },
            "error_y": {
             "color": "#2a3f5f"
            },
            "marker": {
             "line": {
              "color": "#E5ECF6",
              "width": 0.5
             },
             "pattern": {
              "fillmode": "overlay",
              "size": 10,
              "solidity": 0.2
             }
            },
            "type": "bar"
           }
          ],
          "barpolar": [
           {
            "marker": {
             "line": {
              "color": "#E5ECF6",
              "width": 0.5
             },
             "pattern": {
              "fillmode": "overlay",
              "size": 10,
              "solidity": 0.2
             }
            },
            "type": "barpolar"
           }
          ],
          "carpet": [
           {
            "aaxis": {
             "endlinecolor": "#2a3f5f",
             "gridcolor": "white",
             "linecolor": "white",
             "minorgridcolor": "white",
             "startlinecolor": "#2a3f5f"
            },
            "baxis": {
             "endlinecolor": "#2a3f5f",
             "gridcolor": "white",
             "linecolor": "white",
             "minorgridcolor": "white",
             "startlinecolor": "#2a3f5f"
            },
            "type": "carpet"
           }
          ],
          "choropleth": [
           {
            "colorbar": {
             "outlinewidth": 0,
             "ticks": ""
            },
            "type": "choropleth"
           }
          ],
          "contour": [
           {
            "colorbar": {
             "outlinewidth": 0,
             "ticks": ""
            },
            "colorscale": [
             [
              0,
              "#0d0887"
             ],
             [
              0.1111111111111111,
              "#46039f"
             ],
             [
              0.2222222222222222,
              "#7201a8"
             ],
             [
              0.3333333333333333,
              "#9c179e"
             ],
             [
              0.4444444444444444,
              "#bd3786"
             ],
             [
              0.5555555555555556,
              "#d8576b"
             ],
             [
              0.6666666666666666,
              "#ed7953"
             ],
             [
              0.7777777777777778,
              "#fb9f3a"
             ],
             [
              0.8888888888888888,
              "#fdca26"
             ],
             [
              1,
              "#f0f921"
             ]
            ],
            "type": "contour"
           }
          ],
          "contourcarpet": [
           {
            "colorbar": {
             "outlinewidth": 0,
             "ticks": ""
            },
            "type": "contourcarpet"
           }
          ],
          "heatmap": [
           {
            "colorbar": {
             "outlinewidth": 0,
             "ticks": ""
            },
            "colorscale": [
             [
              0,
              "#0d0887"
             ],
             [
              0.1111111111111111,
              "#46039f"
             ],
             [
              0.2222222222222222,
              "#7201a8"
             ],
             [
              0.3333333333333333,
              "#9c179e"
             ],
             [
              0.4444444444444444,
              "#bd3786"
             ],
             [
              0.5555555555555556,
              "#d8576b"
             ],
             [
              0.6666666666666666,
              "#ed7953"
             ],
             [
              0.7777777777777778,
              "#fb9f3a"
             ],
             [
              0.8888888888888888,
              "#fdca26"
             ],
             [
              1,
              "#f0f921"
             ]
            ],
            "type": "heatmap"
           }
          ],
          "histogram": [
           {
            "marker": {
             "pattern": {
              "fillmode": "overlay",
              "size": 10,
              "solidity": 0.2
             }
            },
            "type": "histogram"
           }
          ],
          "histogram2d": [
           {
            "colorbar": {
             "outlinewidth": 0,
             "ticks": ""
            },
            "colorscale": [
             [
              0,
              "#0d0887"
             ],
             [
              0.1111111111111111,
              "#46039f"
             ],
             [
              0.2222222222222222,
              "#7201a8"
             ],
             [
              0.3333333333333333,
              "#9c179e"
             ],
             [
              0.4444444444444444,
              "#bd3786"
             ],
             [
              0.5555555555555556,
              "#d8576b"
             ],
             [
              0.6666666666666666,
              "#ed7953"
             ],
             [
              0.7777777777777778,
              "#fb9f3a"
             ],
             [
              0.8888888888888888,
              "#fdca26"
             ],
             [
              1,
              "#f0f921"
             ]
            ],
            "type": "histogram2d"
           }
          ],
          "histogram2dcontour": [
           {
            "colorbar": {
             "outlinewidth": 0,
             "ticks": ""
            },
            "colorscale": [
             [
              0,
              "#0d0887"
             ],
             [
              0.1111111111111111,
              "#46039f"
             ],
             [
              0.2222222222222222,
              "#7201a8"
             ],
             [
              0.3333333333333333,
              "#9c179e"
             ],
             [
              0.4444444444444444,
              "#bd3786"
             ],
             [
              0.5555555555555556,
              "#d8576b"
             ],
             [
              0.6666666666666666,
              "#ed7953"
             ],
             [
              0.7777777777777778,
              "#fb9f3a"
             ],
             [
              0.8888888888888888,
              "#fdca26"
             ],
             [
              1,
              "#f0f921"
             ]
            ],
            "type": "histogram2dcontour"
           }
          ],
          "mesh3d": [
           {
            "colorbar": {
             "outlinewidth": 0,
             "ticks": ""
            },
            "type": "mesh3d"
           }
          ],
          "parcoords": [
           {
            "line": {
             "colorbar": {
              "outlinewidth": 0,
              "ticks": ""
             }
            },
            "type": "parcoords"
           }
          ],
          "pie": [
           {
            "automargin": true,
            "type": "pie"
           }
          ],
          "scatter": [
           {
            "fillpattern": {
             "fillmode": "overlay",
             "size": 10,
             "solidity": 0.2
            },
            "type": "scatter"
           }
          ],
          "scatter3d": [
           {
            "line": {
             "colorbar": {
              "outlinewidth": 0,
              "ticks": ""
             }
            },
            "marker": {
             "colorbar": {
              "outlinewidth": 0,
              "ticks": ""
             }
            },
            "type": "scatter3d"
           }
          ],
          "scattercarpet": [
           {
            "marker": {
             "colorbar": {
              "outlinewidth": 0,
              "ticks": ""
             }
            },
            "type": "scattercarpet"
           }
          ],
          "scattergeo": [
           {
            "marker": {
             "colorbar": {
              "outlinewidth": 0,
              "ticks": ""
             }
            },
            "type": "scattergeo"
           }
          ],
          "scattergl": [
           {
            "marker": {
             "colorbar": {
              "outlinewidth": 0,
              "ticks": ""
             }
            },
            "type": "scattergl"
           }
          ],
          "scattermap": [
           {
            "marker": {
             "colorbar": {
              "outlinewidth": 0,
              "ticks": ""
             }
            },
            "type": "scattermap"
           }
          ],
          "scattermapbox": [
           {
            "marker": {
             "colorbar": {
              "outlinewidth": 0,
              "ticks": ""
             }
            },
            "type": "scattermapbox"
           }
          ],
          "scatterpolar": [
           {
            "marker": {
             "colorbar": {
              "outlinewidth": 0,
              "ticks": ""
             }
            },
            "type": "scatterpolar"
           }
          ],
          "scatterpolargl": [
           {
            "marker": {
             "colorbar": {
              "outlinewidth": 0,
              "ticks": ""
             }
            },
            "type": "scatterpolargl"
           }
          ],
          "scatterternary": [
           {
            "marker": {
             "colorbar": {
              "outlinewidth": 0,
              "ticks": ""
             }
            },
            "type": "scatterternary"
           }
          ],
          "surface": [
           {
            "colorbar": {
             "outlinewidth": 0,
             "ticks": ""
            },
            "colorscale": [
             [
              0,
              "#0d0887"
             ],
             [
              0.1111111111111111,
              "#46039f"
             ],
             [
              0.2222222222222222,
              "#7201a8"
             ],
             [
              0.3333333333333333,
              "#9c179e"
             ],
             [
              0.4444444444444444,
              "#bd3786"
             ],
             [
              0.5555555555555556,
              "#d8576b"
             ],
             [
              0.6666666666666666,
              "#ed7953"
             ],
             [
              0.7777777777777778,
              "#fb9f3a"
             ],
             [
              0.8888888888888888,
              "#fdca26"
             ],
             [
              1,
              "#f0f921"
             ]
            ],
            "type": "surface"
           }
          ],
          "table": [
           {
            "cells": {
             "fill": {
              "color": "#EBF0F8"
             },
             "line": {
              "color": "white"
             }
            },
            "header": {
             "fill": {
              "color": "#C8D4E3"
             },
             "line": {
              "color": "white"
             }
            },
            "type": "table"
           }
          ]
         },
         "layout": {
          "annotationdefaults": {
           "arrowcolor": "#2a3f5f",
           "arrowhead": 0,
           "arrowwidth": 1
          },
          "autotypenumbers": "strict",
          "coloraxis": {
           "colorbar": {
            "outlinewidth": 0,
            "ticks": ""
           }
          },
          "colorscale": {
           "diverging": [
            [
             0,
             "#8e0152"
            ],
            [
             0.1,
             "#c51b7d"
            ],
            [
             0.2,
             "#de77ae"
            ],
            [
             0.3,
             "#f1b6da"
            ],
            [
             0.4,
             "#fde0ef"
            ],
            [
             0.5,
             "#f7f7f7"
            ],
            [
             0.6,
             "#e6f5d0"
            ],
            [
             0.7,
             "#b8e186"
            ],
            [
             0.8,
             "#7fbc41"
            ],
            [
             0.9,
             "#4d9221"
            ],
            [
             1,
             "#276419"
            ]
           ],
           "sequential": [
            [
             0,
             "#0d0887"
            ],
            [
             0.1111111111111111,
             "#46039f"
            ],
            [
             0.2222222222222222,
             "#7201a8"
            ],
            [
             0.3333333333333333,
             "#9c179e"
            ],
            [
             0.4444444444444444,
             "#bd3786"
            ],
            [
             0.5555555555555556,
             "#d8576b"
            ],
            [
             0.6666666666666666,
             "#ed7953"
            ],
            [
             0.7777777777777778,
             "#fb9f3a"
            ],
            [
             0.8888888888888888,
             "#fdca26"
            ],
            [
             1,
             "#f0f921"
            ]
           ],
           "sequentialminus": [
            [
             0,
             "#0d0887"
            ],
            [
             0.1111111111111111,
             "#46039f"
            ],
            [
             0.2222222222222222,
             "#7201a8"
            ],
            [
             0.3333333333333333,
             "#9c179e"
            ],
            [
             0.4444444444444444,
             "#bd3786"
            ],
            [
             0.5555555555555556,
             "#d8576b"
            ],
            [
             0.6666666666666666,
             "#ed7953"
            ],
            [
             0.7777777777777778,
             "#fb9f3a"
            ],
            [
             0.8888888888888888,
             "#fdca26"
            ],
            [
             1,
             "#f0f921"
            ]
           ]
          },
          "colorway": [
           "#636efa",
           "#EF553B",
           "#00cc96",
           "#ab63fa",
           "#FFA15A",
           "#19d3f3",
           "#FF6692",
           "#B6E880",
           "#FF97FF",
           "#FECB52"
          ],
          "font": {
           "color": "#2a3f5f"
          },
          "geo": {
           "bgcolor": "white",
           "lakecolor": "white",
           "landcolor": "#E5ECF6",
           "showlakes": true,
           "showland": true,
           "subunitcolor": "white"
          },
          "hoverlabel": {
           "align": "left"
          },
          "hovermode": "closest",
          "mapbox": {
           "style": "light"
          },
          "paper_bgcolor": "white",
          "plot_bgcolor": "#E5ECF6",
          "polar": {
           "angularaxis": {
            "gridcolor": "white",
            "linecolor": "white",
            "ticks": ""
           },
           "bgcolor": "#E5ECF6",
           "radialaxis": {
            "gridcolor": "white",
            "linecolor": "white",
            "ticks": ""
           }
          },
          "scene": {
           "xaxis": {
            "backgroundcolor": "#E5ECF6",
            "gridcolor": "white",
            "gridwidth": 2,
            "linecolor": "white",
            "showbackground": true,
            "ticks": "",
            "zerolinecolor": "white"
           },
           "yaxis": {
            "backgroundcolor": "#E5ECF6",
            "gridcolor": "white",
            "gridwidth": 2,
            "linecolor": "white",
            "showbackground": true,
            "ticks": "",
            "zerolinecolor": "white"
           },
           "zaxis": {
            "backgroundcolor": "#E5ECF6",
            "gridcolor": "white",
            "gridwidth": 2,
            "linecolor": "white",
            "showbackground": true,
            "ticks": "",
            "zerolinecolor": "white"
           }
          },
          "shapedefaults": {
           "line": {
            "color": "#2a3f5f"
           }
          },
          "ternary": {
           "aaxis": {
            "gridcolor": "white",
            "linecolor": "white",
            "ticks": ""
           },
           "baxis": {
            "gridcolor": "white",
            "linecolor": "white",
            "ticks": ""
           },
           "bgcolor": "#E5ECF6",
           "caxis": {
            "gridcolor": "white",
            "linecolor": "white",
            "ticks": ""
           }
          },
          "title": {
           "x": 0.05
          },
          "xaxis": {
           "automargin": true,
           "gridcolor": "white",
           "linecolor": "white",
           "ticks": "",
           "title": {
            "standoff": 15
           },
           "zerolinecolor": "white",
           "zerolinewidth": 2
          },
          "yaxis": {
           "automargin": true,
           "gridcolor": "white",
           "linecolor": "white",
           "ticks": "",
           "title": {
            "standoff": 15
           },
           "zerolinecolor": "white",
           "zerolinewidth": 2
          }
         }
        },
        "title": {
         "text": "Execution time of ForecasterRecursiveMultiSeries__create_train_X_y_single_series"
        },
        "xaxis": {
         "tickangle": -45,
         "tickmode": "array",
         "ticktext": [
          "0.13.0",
          "0.14.0",
          "0.15.1",
          "0.16.0"
         ],
         "tickvals": [
          0,
          1,
          2,
          3
         ],
         "title": {
          "text": "skforecast version"
         }
        },
        "yaxis": {
         "title": {
          "text": "Execution time (seconds)"
         }
        }
       }
      }
     },
     "metadata": {},
     "output_type": "display_data"
    },
    {
     "data": {
      "application/vnd.microsoft.datawrangler.viewer.v0+json": {
       "columns": [
        {
         "name": "index",
         "rawType": "int64",
         "type": "integer"
        },
        {
         "name": "forecaster_name",
         "rawType": "object",
         "type": "string"
        },
        {
         "name": "regressor_name",
         "rawType": "object",
         "type": "string"
        },
        {
         "name": "function_name",
         "rawType": "object",
         "type": "string"
        },
        {
         "name": "function_hash",
         "rawType": "object",
         "type": "string"
        },
        {
         "name": "run_time_avg",
         "rawType": "float64",
         "type": "float"
        },
        {
         "name": "run_time_std_dev",
         "rawType": "float64",
         "type": "float"
        },
        {
         "name": "datetime",
         "rawType": "datetime64[ns]",
         "type": "datetime"
        },
        {
         "name": "python_version",
         "rawType": "object",
         "type": "string"
        },
        {
         "name": "skforecast_version",
         "rawType": "object",
         "type": "string"
        },
        {
         "name": "numpy_version",
         "rawType": "object",
         "type": "string"
        },
        {
         "name": "pandas_version",
         "rawType": "object",
         "type": "string"
        },
        {
         "name": "sklearn_version",
         "rawType": "object",
         "type": "string"
        },
        {
         "name": "lightgbm_version",
         "rawType": "object",
         "type": "string"
        },
        {
         "name": "platform",
         "rawType": "object",
         "type": "string"
        },
        {
         "name": "processor",
         "rawType": "object",
         "type": "string"
        },
        {
         "name": "cpu_count",
         "rawType": "int64",
         "type": "integer"
        },
        {
         "name": "memory_gb",
         "rawType": "float64",
         "type": "float"
        }
       ],
       "conversionMethod": "pd.DataFrame",
       "ref": "b96dfc7f-c118-4a5d-b77e-613bec2d99ef",
       "rows": [
        [
         "5",
         "ForecasterRecursiveMultiSeries",
         "LGBMRegressor",
         "ForecasterRecursiveMultiSeries_predict_exog_is_dict",
         "451898dccb92cc6f0a674d62eb66e4d8",
         "0.45147155259946886",
         "0.03823088059900139",
         "2025-04-23 15:05:51.687220",
         "3.12.9",
         "0.16.0",
         "2.2.5",
         "2.2.3",
         "1.6.1",
         "4.6.0",
         "Linux-6.11.0-21-generic-x86_64-with-glibc2.39",
         "x86_64",
         "8",
         "16.64"
        ],
        [
         "17",
         "ForecasterRecursiveMultiSeries",
         "LGBMRegressor",
         "ForecasterRecursiveMultiSeries_predict_exog_is_dict",
         "451898dccb92cc6f0a674d62eb66e4d8",
         "1.681694357000015",
         "0.03158724962516853",
         "2025-04-23 15:11:43.060889",
         "3.12.9",
         "0.15.1",
         "2.2.5",
         "2.2.3",
         "1.6.1",
         "4.6.0",
         "Linux-6.11.0-21-generic-x86_64-with-glibc2.39",
         "x86_64",
         "8",
         "16.64"
        ],
        [
         "29",
         "ForecasterRecursiveMultiSeries",
         "LGBMRegressor",
         "ForecasterRecursiveMultiSeries_predict_exog_is_dict",
         "451898dccb92cc6f0a674d62eb66e4d8",
         "1.6328316428000107",
         "0.007875372644256556",
         "2025-04-23 15:15:38.802105",
         "3.12.9",
         "0.14.0",
         "2.2.5",
         "2.2.3",
         "1.6.1",
         "4.6.0",
         "Linux-6.11.0-21-generic-x86_64-with-glibc2.39",
         "x86_64",
         "8",
         "16.64"
        ],
        [
         "41",
         "ForecasterAutoregMultiSeries",
         "LGBMRegressor",
         "ForecasterRecursiveMultiSeries_predict_exog_is_dict",
         "451898dccb92cc6f0a674d62eb66e4d8",
         "42.3546208886004",
         "1.2055196224852833",
         "2025-04-23 15:27:57.654222",
         "3.12.9",
         "0.13.0",
         "2.2.5",
         "2.2.3",
         "1.6.1",
         "4.6.0",
         "Linux-6.11.0-21-generic-x86_64-with-glibc2.39",
         "x86_64",
         "8",
         "16.64"
        ],
        [
         "53",
         "ForecasterAutoregMultiSeries",
         "LGBMRegressor",
         "ForecasterRecursiveMultiSeries_predict_exog_is_dict",
         "451898dccb92cc6f0a674d62eb66e4d8",
         "43.534917416800454",
         "2.2836476768211345",
         "2025-04-23 15:37:24.551023",
         "3.12.9",
         "0.13.0",
         "2.2.5",
         "2.2.3",
         "1.6.1",
         "4.6.0",
         "Linux-6.11.0-21-generic-x86_64-with-glibc2.39",
         "x86_64",
         "8",
         "16.64"
        ],
        [
         "73",
         "ForecasterRecursiveMultiSeries",
         "LGBMRegressor",
         "ForecasterRecursiveMultiSeries_predict_exog_is_dict",
         "451898dccb92cc6f0a674d62eb66e4d8",
         "1.796171426400906",
         "0.151445142573778",
         "2025-04-23 15:56:31.536580",
         "3.12.9",
         "0.14.0",
         "2.2.5",
         "2.2.3",
         "1.6.1",
         "4.6.0",
         "Linux-6.11.0-21-generic-x86_64-with-glibc2.39",
         "x86_64",
         "8",
         "16.64"
        ],
        [
         "85",
         "ForecasterRecursiveMultiSeries",
         "LGBMRegressor",
         "ForecasterRecursiveMultiSeries_predict_exog_is_dict",
         "451898dccb92cc6f0a674d62eb66e4d8",
         "1.7031429599999683",
         "0.009876501593795961",
         "2025-04-23 16:00:43.551471",
         "3.12.9",
         "0.15.1",
         "2.2.5",
         "2.2.3",
         "1.6.1",
         "4.6.0",
         "Linux-6.11.0-21-generic-x86_64-with-glibc2.39",
         "x86_64",
         "8",
         "16.64"
        ],
        [
         "97",
         "ForecasterRecursiveMultiSeries",
         "LGBMRegressor",
         "ForecasterRecursiveMultiSeries_predict_exog_is_dict",
         "451898dccb92cc6f0a674d62eb66e4d8",
         "1.6956521838004845",
         "0.02855581608624625",
         "2025-04-23 16:05:13.562818",
         "3.12.9",
         "0.15.1",
         "2.2.5",
         "2.2.3",
         "1.6.1",
         "4.6.0",
         "Linux-6.11.0-21-generic-x86_64-with-glibc2.39",
         "x86_64",
         "8",
         "16.64"
        ],
        [
         "109",
         "ForecasterRecursiveMultiSeries",
         "LGBMRegressor",
         "ForecasterRecursiveMultiSeries_predict_exog_is_dict",
         "451898dccb92cc6f0a674d62eb66e4d8",
         "0.4630448450003314",
         "0.041766957788499266",
         "2025-04-23 16:08:35.319060",
         "3.12.9",
         "0.16.0",
         "2.2.5",
         "2.2.3",
         "1.6.1",
         "4.6.0",
         "Linux-6.11.0-21-generic-x86_64-with-glibc2.39",
         "x86_64",
         "8",
         "16.64"
        ],
        [
         "121",
         "ForecasterRecursiveMultiSeries",
         "LGBMRegressor",
         "ForecasterRecursiveMultiSeries_predict_exog_is_dict",
         "451898dccb92cc6f0a674d62eb66e4d8",
         "0.46121814979997",
         "0.03881084220897723",
         "2025-04-23 16:12:03.950433",
         "3.12.9",
         "0.16.0",
         "2.2.5",
         "2.2.3",
         "1.6.1",
         "4.6.0",
         "Linux-6.11.0-21-generic-x86_64-with-glibc2.39",
         "x86_64",
         "8",
         "16.64"
        ]
       ],
       "shape": {
        "columns": 17,
        "rows": 10
       }
      },
      "text/html": [
       "<div>\n",
       "<style scoped>\n",
       "    .dataframe tbody tr th:only-of-type {\n",
       "        vertical-align: middle;\n",
       "    }\n",
       "\n",
       "    .dataframe tbody tr th {\n",
       "        vertical-align: top;\n",
       "    }\n",
       "\n",
       "    .dataframe thead th {\n",
       "        text-align: right;\n",
       "    }\n",
       "</style>\n",
       "<table border=\"1\" class=\"dataframe\">\n",
       "  <thead>\n",
       "    <tr style=\"text-align: right;\">\n",
       "      <th></th>\n",
       "      <th>forecaster_name</th>\n",
       "      <th>regressor_name</th>\n",
       "      <th>function_name</th>\n",
       "      <th>function_hash</th>\n",
       "      <th>run_time_avg</th>\n",
       "      <th>run_time_std_dev</th>\n",
       "      <th>datetime</th>\n",
       "      <th>python_version</th>\n",
       "      <th>skforecast_version</th>\n",
       "      <th>numpy_version</th>\n",
       "      <th>pandas_version</th>\n",
       "      <th>sklearn_version</th>\n",
       "      <th>lightgbm_version</th>\n",
       "      <th>platform</th>\n",
       "      <th>processor</th>\n",
       "      <th>cpu_count</th>\n",
       "      <th>memory_gb</th>\n",
       "    </tr>\n",
       "  </thead>\n",
       "  <tbody>\n",
       "    <tr>\n",
       "      <th>5</th>\n",
       "      <td>ForecasterRecursiveMultiSeries</td>\n",
       "      <td>LGBMRegressor</td>\n",
       "      <td>ForecasterRecursiveMultiSeries_predict_exog_is...</td>\n",
       "      <td>451898dccb92cc6f0a674d62eb66e4d8</td>\n",
       "      <td>0.451472</td>\n",
       "      <td>0.038231</td>\n",
       "      <td>2025-04-23 15:05:51.687220</td>\n",
       "      <td>3.12.9</td>\n",
       "      <td>0.16.0</td>\n",
       "      <td>2.2.5</td>\n",
       "      <td>2.2.3</td>\n",
       "      <td>1.6.1</td>\n",
       "      <td>4.6.0</td>\n",
       "      <td>Linux-6.11.0-21-generic-x86_64-with-glibc2.39</td>\n",
       "      <td>x86_64</td>\n",
       "      <td>8</td>\n",
       "      <td>16.64</td>\n",
       "    </tr>\n",
       "    <tr>\n",
       "      <th>17</th>\n",
       "      <td>ForecasterRecursiveMultiSeries</td>\n",
       "      <td>LGBMRegressor</td>\n",
       "      <td>ForecasterRecursiveMultiSeries_predict_exog_is...</td>\n",
       "      <td>451898dccb92cc6f0a674d62eb66e4d8</td>\n",
       "      <td>1.681694</td>\n",
       "      <td>0.031587</td>\n",
       "      <td>2025-04-23 15:11:43.060889</td>\n",
       "      <td>3.12.9</td>\n",
       "      <td>0.15.1</td>\n",
       "      <td>2.2.5</td>\n",
       "      <td>2.2.3</td>\n",
       "      <td>1.6.1</td>\n",
       "      <td>4.6.0</td>\n",
       "      <td>Linux-6.11.0-21-generic-x86_64-with-glibc2.39</td>\n",
       "      <td>x86_64</td>\n",
       "      <td>8</td>\n",
       "      <td>16.64</td>\n",
       "    </tr>\n",
       "    <tr>\n",
       "      <th>29</th>\n",
       "      <td>ForecasterRecursiveMultiSeries</td>\n",
       "      <td>LGBMRegressor</td>\n",
       "      <td>ForecasterRecursiveMultiSeries_predict_exog_is...</td>\n",
       "      <td>451898dccb92cc6f0a674d62eb66e4d8</td>\n",
       "      <td>1.632832</td>\n",
       "      <td>0.007875</td>\n",
       "      <td>2025-04-23 15:15:38.802105</td>\n",
       "      <td>3.12.9</td>\n",
       "      <td>0.14.0</td>\n",
       "      <td>2.2.5</td>\n",
       "      <td>2.2.3</td>\n",
       "      <td>1.6.1</td>\n",
       "      <td>4.6.0</td>\n",
       "      <td>Linux-6.11.0-21-generic-x86_64-with-glibc2.39</td>\n",
       "      <td>x86_64</td>\n",
       "      <td>8</td>\n",
       "      <td>16.64</td>\n",
       "    </tr>\n",
       "    <tr>\n",
       "      <th>41</th>\n",
       "      <td>ForecasterAutoregMultiSeries</td>\n",
       "      <td>LGBMRegressor</td>\n",
       "      <td>ForecasterRecursiveMultiSeries_predict_exog_is...</td>\n",
       "      <td>451898dccb92cc6f0a674d62eb66e4d8</td>\n",
       "      <td>42.354621</td>\n",
       "      <td>1.205520</td>\n",
       "      <td>2025-04-23 15:27:57.654222</td>\n",
       "      <td>3.12.9</td>\n",
       "      <td>0.13.0</td>\n",
       "      <td>2.2.5</td>\n",
       "      <td>2.2.3</td>\n",
       "      <td>1.6.1</td>\n",
       "      <td>4.6.0</td>\n",
       "      <td>Linux-6.11.0-21-generic-x86_64-with-glibc2.39</td>\n",
       "      <td>x86_64</td>\n",
       "      <td>8</td>\n",
       "      <td>16.64</td>\n",
       "    </tr>\n",
       "    <tr>\n",
       "      <th>53</th>\n",
       "      <td>ForecasterAutoregMultiSeries</td>\n",
       "      <td>LGBMRegressor</td>\n",
       "      <td>ForecasterRecursiveMultiSeries_predict_exog_is...</td>\n",
       "      <td>451898dccb92cc6f0a674d62eb66e4d8</td>\n",
       "      <td>43.534917</td>\n",
       "      <td>2.283648</td>\n",
       "      <td>2025-04-23 15:37:24.551023</td>\n",
       "      <td>3.12.9</td>\n",
       "      <td>0.13.0</td>\n",
       "      <td>2.2.5</td>\n",
       "      <td>2.2.3</td>\n",
       "      <td>1.6.1</td>\n",
       "      <td>4.6.0</td>\n",
       "      <td>Linux-6.11.0-21-generic-x86_64-with-glibc2.39</td>\n",
       "      <td>x86_64</td>\n",
       "      <td>8</td>\n",
       "      <td>16.64</td>\n",
       "    </tr>\n",
       "    <tr>\n",
       "      <th>73</th>\n",
       "      <td>ForecasterRecursiveMultiSeries</td>\n",
       "      <td>LGBMRegressor</td>\n",
       "      <td>ForecasterRecursiveMultiSeries_predict_exog_is...</td>\n",
       "      <td>451898dccb92cc6f0a674d62eb66e4d8</td>\n",
       "      <td>1.796171</td>\n",
       "      <td>0.151445</td>\n",
       "      <td>2025-04-23 15:56:31.536580</td>\n",
       "      <td>3.12.9</td>\n",
       "      <td>0.14.0</td>\n",
       "      <td>2.2.5</td>\n",
       "      <td>2.2.3</td>\n",
       "      <td>1.6.1</td>\n",
       "      <td>4.6.0</td>\n",
       "      <td>Linux-6.11.0-21-generic-x86_64-with-glibc2.39</td>\n",
       "      <td>x86_64</td>\n",
       "      <td>8</td>\n",
       "      <td>16.64</td>\n",
       "    </tr>\n",
       "    <tr>\n",
       "      <th>85</th>\n",
       "      <td>ForecasterRecursiveMultiSeries</td>\n",
       "      <td>LGBMRegressor</td>\n",
       "      <td>ForecasterRecursiveMultiSeries_predict_exog_is...</td>\n",
       "      <td>451898dccb92cc6f0a674d62eb66e4d8</td>\n",
       "      <td>1.703143</td>\n",
       "      <td>0.009877</td>\n",
       "      <td>2025-04-23 16:00:43.551471</td>\n",
       "      <td>3.12.9</td>\n",
       "      <td>0.15.1</td>\n",
       "      <td>2.2.5</td>\n",
       "      <td>2.2.3</td>\n",
       "      <td>1.6.1</td>\n",
       "      <td>4.6.0</td>\n",
       "      <td>Linux-6.11.0-21-generic-x86_64-with-glibc2.39</td>\n",
       "      <td>x86_64</td>\n",
       "      <td>8</td>\n",
       "      <td>16.64</td>\n",
       "    </tr>\n",
       "    <tr>\n",
       "      <th>97</th>\n",
       "      <td>ForecasterRecursiveMultiSeries</td>\n",
       "      <td>LGBMRegressor</td>\n",
       "      <td>ForecasterRecursiveMultiSeries_predict_exog_is...</td>\n",
       "      <td>451898dccb92cc6f0a674d62eb66e4d8</td>\n",
       "      <td>1.695652</td>\n",
       "      <td>0.028556</td>\n",
       "      <td>2025-04-23 16:05:13.562818</td>\n",
       "      <td>3.12.9</td>\n",
       "      <td>0.15.1</td>\n",
       "      <td>2.2.5</td>\n",
       "      <td>2.2.3</td>\n",
       "      <td>1.6.1</td>\n",
       "      <td>4.6.0</td>\n",
       "      <td>Linux-6.11.0-21-generic-x86_64-with-glibc2.39</td>\n",
       "      <td>x86_64</td>\n",
       "      <td>8</td>\n",
       "      <td>16.64</td>\n",
       "    </tr>\n",
       "    <tr>\n",
       "      <th>109</th>\n",
       "      <td>ForecasterRecursiveMultiSeries</td>\n",
       "      <td>LGBMRegressor</td>\n",
       "      <td>ForecasterRecursiveMultiSeries_predict_exog_is...</td>\n",
       "      <td>451898dccb92cc6f0a674d62eb66e4d8</td>\n",
       "      <td>0.463045</td>\n",
       "      <td>0.041767</td>\n",
       "      <td>2025-04-23 16:08:35.319060</td>\n",
       "      <td>3.12.9</td>\n",
       "      <td>0.16.0</td>\n",
       "      <td>2.2.5</td>\n",
       "      <td>2.2.3</td>\n",
       "      <td>1.6.1</td>\n",
       "      <td>4.6.0</td>\n",
       "      <td>Linux-6.11.0-21-generic-x86_64-with-glibc2.39</td>\n",
       "      <td>x86_64</td>\n",
       "      <td>8</td>\n",
       "      <td>16.64</td>\n",
       "    </tr>\n",
       "    <tr>\n",
       "      <th>121</th>\n",
       "      <td>ForecasterRecursiveMultiSeries</td>\n",
       "      <td>LGBMRegressor</td>\n",
       "      <td>ForecasterRecursiveMultiSeries_predict_exog_is...</td>\n",
       "      <td>451898dccb92cc6f0a674d62eb66e4d8</td>\n",
       "      <td>0.461218</td>\n",
       "      <td>0.038811</td>\n",
       "      <td>2025-04-23 16:12:03.950433</td>\n",
       "      <td>3.12.9</td>\n",
       "      <td>0.16.0</td>\n",
       "      <td>2.2.5</td>\n",
       "      <td>2.2.3</td>\n",
       "      <td>1.6.1</td>\n",
       "      <td>4.6.0</td>\n",
       "      <td>Linux-6.11.0-21-generic-x86_64-with-glibc2.39</td>\n",
       "      <td>x86_64</td>\n",
       "      <td>8</td>\n",
       "      <td>16.64</td>\n",
       "    </tr>\n",
       "  </tbody>\n",
       "</table>\n",
       "</div>"
      ],
      "text/plain": [
       "                    forecaster_name regressor_name  \\\n",
       "5    ForecasterRecursiveMultiSeries  LGBMRegressor   \n",
       "17   ForecasterRecursiveMultiSeries  LGBMRegressor   \n",
       "29   ForecasterRecursiveMultiSeries  LGBMRegressor   \n",
       "41     ForecasterAutoregMultiSeries  LGBMRegressor   \n",
       "53     ForecasterAutoregMultiSeries  LGBMRegressor   \n",
       "73   ForecasterRecursiveMultiSeries  LGBMRegressor   \n",
       "85   ForecasterRecursiveMultiSeries  LGBMRegressor   \n",
       "97   ForecasterRecursiveMultiSeries  LGBMRegressor   \n",
       "109  ForecasterRecursiveMultiSeries  LGBMRegressor   \n",
       "121  ForecasterRecursiveMultiSeries  LGBMRegressor   \n",
       "\n",
       "                                         function_name  \\\n",
       "5    ForecasterRecursiveMultiSeries_predict_exog_is...   \n",
       "17   ForecasterRecursiveMultiSeries_predict_exog_is...   \n",
       "29   ForecasterRecursiveMultiSeries_predict_exog_is...   \n",
       "41   ForecasterRecursiveMultiSeries_predict_exog_is...   \n",
       "53   ForecasterRecursiveMultiSeries_predict_exog_is...   \n",
       "73   ForecasterRecursiveMultiSeries_predict_exog_is...   \n",
       "85   ForecasterRecursiveMultiSeries_predict_exog_is...   \n",
       "97   ForecasterRecursiveMultiSeries_predict_exog_is...   \n",
       "109  ForecasterRecursiveMultiSeries_predict_exog_is...   \n",
       "121  ForecasterRecursiveMultiSeries_predict_exog_is...   \n",
       "\n",
       "                        function_hash  run_time_avg  run_time_std_dev  \\\n",
       "5    451898dccb92cc6f0a674d62eb66e4d8      0.451472          0.038231   \n",
       "17   451898dccb92cc6f0a674d62eb66e4d8      1.681694          0.031587   \n",
       "29   451898dccb92cc6f0a674d62eb66e4d8      1.632832          0.007875   \n",
       "41   451898dccb92cc6f0a674d62eb66e4d8     42.354621          1.205520   \n",
       "53   451898dccb92cc6f0a674d62eb66e4d8     43.534917          2.283648   \n",
       "73   451898dccb92cc6f0a674d62eb66e4d8      1.796171          0.151445   \n",
       "85   451898dccb92cc6f0a674d62eb66e4d8      1.703143          0.009877   \n",
       "97   451898dccb92cc6f0a674d62eb66e4d8      1.695652          0.028556   \n",
       "109  451898dccb92cc6f0a674d62eb66e4d8      0.463045          0.041767   \n",
       "121  451898dccb92cc6f0a674d62eb66e4d8      0.461218          0.038811   \n",
       "\n",
       "                      datetime python_version skforecast_version  \\\n",
       "5   2025-04-23 15:05:51.687220         3.12.9             0.16.0   \n",
       "17  2025-04-23 15:11:43.060889         3.12.9             0.15.1   \n",
       "29  2025-04-23 15:15:38.802105         3.12.9             0.14.0   \n",
       "41  2025-04-23 15:27:57.654222         3.12.9             0.13.0   \n",
       "53  2025-04-23 15:37:24.551023         3.12.9             0.13.0   \n",
       "73  2025-04-23 15:56:31.536580         3.12.9             0.14.0   \n",
       "85  2025-04-23 16:00:43.551471         3.12.9             0.15.1   \n",
       "97  2025-04-23 16:05:13.562818         3.12.9             0.15.1   \n",
       "109 2025-04-23 16:08:35.319060         3.12.9             0.16.0   \n",
       "121 2025-04-23 16:12:03.950433         3.12.9             0.16.0   \n",
       "\n",
       "    numpy_version pandas_version sklearn_version lightgbm_version  \\\n",
       "5           2.2.5          2.2.3           1.6.1            4.6.0   \n",
       "17          2.2.5          2.2.3           1.6.1            4.6.0   \n",
       "29          2.2.5          2.2.3           1.6.1            4.6.0   \n",
       "41          2.2.5          2.2.3           1.6.1            4.6.0   \n",
       "53          2.2.5          2.2.3           1.6.1            4.6.0   \n",
       "73          2.2.5          2.2.3           1.6.1            4.6.0   \n",
       "85          2.2.5          2.2.3           1.6.1            4.6.0   \n",
       "97          2.2.5          2.2.3           1.6.1            4.6.0   \n",
       "109         2.2.5          2.2.3           1.6.1            4.6.0   \n",
       "121         2.2.5          2.2.3           1.6.1            4.6.0   \n",
       "\n",
       "                                          platform processor  cpu_count  \\\n",
       "5    Linux-6.11.0-21-generic-x86_64-with-glibc2.39    x86_64          8   \n",
       "17   Linux-6.11.0-21-generic-x86_64-with-glibc2.39    x86_64          8   \n",
       "29   Linux-6.11.0-21-generic-x86_64-with-glibc2.39    x86_64          8   \n",
       "41   Linux-6.11.0-21-generic-x86_64-with-glibc2.39    x86_64          8   \n",
       "53   Linux-6.11.0-21-generic-x86_64-with-glibc2.39    x86_64          8   \n",
       "73   Linux-6.11.0-21-generic-x86_64-with-glibc2.39    x86_64          8   \n",
       "85   Linux-6.11.0-21-generic-x86_64-with-glibc2.39    x86_64          8   \n",
       "97   Linux-6.11.0-21-generic-x86_64-with-glibc2.39    x86_64          8   \n",
       "109  Linux-6.11.0-21-generic-x86_64-with-glibc2.39    x86_64          8   \n",
       "121  Linux-6.11.0-21-generic-x86_64-with-glibc2.39    x86_64          8   \n",
       "\n",
       "     memory_gb  \n",
       "5        16.64  \n",
       "17       16.64  \n",
       "29       16.64  \n",
       "41       16.64  \n",
       "53       16.64  \n",
       "73       16.64  \n",
       "85       16.64  \n",
       "97       16.64  \n",
       "109      16.64  \n",
       "121      16.64  "
      ]
     },
     "metadata": {},
     "output_type": "display_data"
    },
    {
     "data": {
      "application/vnd.plotly.v1+json": {
       "config": {
        "plotlyServerURL": "https://plot.ly"
       },
       "data": [
        {
         "error_y": {
          "array": {
           "bdata": "PyuU8c5J8z/kQ7wS6UQCQA==",
           "dtype": "f8"
          },
          "color": "#636EFA",
          "thickness": 1.5,
          "type": "data",
          "visible": true,
          "width": 5
         },
         "hovertemplate": "Version: 0.13.0<br>Runtime: %{y:.2f}s<extra></extra>",
         "marker": {
          "color": "#636EFA",
          "opacity": 0.7,
          "size": 10
         },
         "mode": "markers",
         "name": "Run time - 0.13.0",
         "showlegend": true,
         "type": "scatter",
         "x": {
          "bdata": "fByzX9/Fir9AKClBT8iAPw==",
          "dtype": "f8"
         },
         "y": {
          "bdata": "M4KfN2QtRUAAnIUseMRFQA==",
          "dtype": "f8"
         }
        },
        {
         "error_y": {
          "array": {
           "bdata": "0G6bn/YggD8SCD/vjWLDPw==",
           "dtype": "f8"
          },
          "color": "#EF553B",
          "thickness": 1.5,
          "type": "data",
          "visible": true,
          "width": 5
         },
         "hovertemplate": "Version: 0.14.0<br>Runtime: %{y:.2f}s<extra></extra>",
         "marker": {
          "color": "#EF553B",
          "opacity": 0.7,
          "size": 10
         },
         "mode": "markers",
         "name": "Run time - 0.14.0",
         "showlegend": true,
         "type": "scatter",
         "x": {
          "bdata": "WsufM0wh8D/sid4cvavwPw==",
          "dtype": "f8"
         },
         "y": {
          "bdata": "MzObEhQg+j/NbOY/Hr38Pw==",
          "dtype": "f8"
         }
        },
        {
         "error_y": {
          "array": {
           "bdata": "+6s4ODQsoD/NA8GaITqEP8LXzWC8PZ0/",
           "dtype": "f8"
          },
          "color": "#00CC96",
          "thickness": 1.5,
          "type": "data",
          "visible": true,
          "width": 5
         },
         "hovertemplate": "Version: 0.15.1<br>Runtime: %{y:.2f}s<extra></extra>",
         "marker": {
          "color": "#00CC96",
          "opacity": 0.7,
          "size": 10
         },
         "mode": "markers",
         "name": "Run time - 0.15.1",
         "showlegend": true,
         "type": "scatter",
         "x": {
          "bdata": "o+edyHNh/z9etUcwD5P/PzyVwAXWKwBA",
          "dtype": "f8"
         },
         "y": {
          "bdata": "zeySVzjo+j/NzBnVEkD7P2YGLS9kIfs/",
          "dtype": "f8"
         }
        },
        {
         "error_y": {
          "array": {
           "bdata": "k2+9e/+Soz+RkYKLemKlP58ZCcQD36M/",
           "dtype": "f8"
          },
          "color": "#AB63FA",
          "thickness": 1.5,
          "type": "data",
          "visible": true,
          "width": 5
         },
         "hovertemplate": "Version: 0.16.0<br>Runtime: %{y:.2f}s<extra></extra>",
         "marker": {
          "color": "#AB63FA",
          "opacity": 0.7,
          "size": 10
         },
         "mode": "markers",
         "name": "Run time - 0.16.0",
         "showlegend": true,
         "type": "scatter",
         "x": {
          "bdata": "BPQEQSs7CEBa7SFg/PsHQN1xRrJWNAhA",
          "dtype": "f8"
         },
         "y": {
          "bdata": "zUxf8Ojk3D9m5nbYhqLdP5qZbSGZhN0/",
          "dtype": "f8"
         }
        },
        {
         "line": {
          "color": "black",
          "width": 2
         },
         "marker": {
          "color": "black",
          "size": 8
         },
         "mode": "lines+markers",
         "name": "Median (per version)",
         "type": "scatter",
         "x": {
          "bdata": "AAECAw==",
          "dtype": "i1"
         },
         "y": {
          "bdata": "Go8SMu54RUAA0EApmW77P2YGLS9kIfs/mpltIZmE3T8=",
          "dtype": "f8"
         }
        }
       ],
       "layout": {
        "showlegend": true,
        "template": {
         "data": {
          "bar": [
           {
            "error_x": {
             "color": "#2a3f5f"
            },
            "error_y": {
             "color": "#2a3f5f"
            },
            "marker": {
             "line": {
              "color": "#E5ECF6",
              "width": 0.5
             },
             "pattern": {
              "fillmode": "overlay",
              "size": 10,
              "solidity": 0.2
             }
            },
            "type": "bar"
           }
          ],
          "barpolar": [
           {
            "marker": {
             "line": {
              "color": "#E5ECF6",
              "width": 0.5
             },
             "pattern": {
              "fillmode": "overlay",
              "size": 10,
              "solidity": 0.2
             }
            },
            "type": "barpolar"
           }
          ],
          "carpet": [
           {
            "aaxis": {
             "endlinecolor": "#2a3f5f",
             "gridcolor": "white",
             "linecolor": "white",
             "minorgridcolor": "white",
             "startlinecolor": "#2a3f5f"
            },
            "baxis": {
             "endlinecolor": "#2a3f5f",
             "gridcolor": "white",
             "linecolor": "white",
             "minorgridcolor": "white",
             "startlinecolor": "#2a3f5f"
            },
            "type": "carpet"
           }
          ],
          "choropleth": [
           {
            "colorbar": {
             "outlinewidth": 0,
             "ticks": ""
            },
            "type": "choropleth"
           }
          ],
          "contour": [
           {
            "colorbar": {
             "outlinewidth": 0,
             "ticks": ""
            },
            "colorscale": [
             [
              0,
              "#0d0887"
             ],
             [
              0.1111111111111111,
              "#46039f"
             ],
             [
              0.2222222222222222,
              "#7201a8"
             ],
             [
              0.3333333333333333,
              "#9c179e"
             ],
             [
              0.4444444444444444,
              "#bd3786"
             ],
             [
              0.5555555555555556,
              "#d8576b"
             ],
             [
              0.6666666666666666,
              "#ed7953"
             ],
             [
              0.7777777777777778,
              "#fb9f3a"
             ],
             [
              0.8888888888888888,
              "#fdca26"
             ],
             [
              1,
              "#f0f921"
             ]
            ],
            "type": "contour"
           }
          ],
          "contourcarpet": [
           {
            "colorbar": {
             "outlinewidth": 0,
             "ticks": ""
            },
            "type": "contourcarpet"
           }
          ],
          "heatmap": [
           {
            "colorbar": {
             "outlinewidth": 0,
             "ticks": ""
            },
            "colorscale": [
             [
              0,
              "#0d0887"
             ],
             [
              0.1111111111111111,
              "#46039f"
             ],
             [
              0.2222222222222222,
              "#7201a8"
             ],
             [
              0.3333333333333333,
              "#9c179e"
             ],
             [
              0.4444444444444444,
              "#bd3786"
             ],
             [
              0.5555555555555556,
              "#d8576b"
             ],
             [
              0.6666666666666666,
              "#ed7953"
             ],
             [
              0.7777777777777778,
              "#fb9f3a"
             ],
             [
              0.8888888888888888,
              "#fdca26"
             ],
             [
              1,
              "#f0f921"
             ]
            ],
            "type": "heatmap"
           }
          ],
          "histogram": [
           {
            "marker": {
             "pattern": {
              "fillmode": "overlay",
              "size": 10,
              "solidity": 0.2
             }
            },
            "type": "histogram"
           }
          ],
          "histogram2d": [
           {
            "colorbar": {
             "outlinewidth": 0,
             "ticks": ""
            },
            "colorscale": [
             [
              0,
              "#0d0887"
             ],
             [
              0.1111111111111111,
              "#46039f"
             ],
             [
              0.2222222222222222,
              "#7201a8"
             ],
             [
              0.3333333333333333,
              "#9c179e"
             ],
             [
              0.4444444444444444,
              "#bd3786"
             ],
             [
              0.5555555555555556,
              "#d8576b"
             ],
             [
              0.6666666666666666,
              "#ed7953"
             ],
             [
              0.7777777777777778,
              "#fb9f3a"
             ],
             [
              0.8888888888888888,
              "#fdca26"
             ],
             [
              1,
              "#f0f921"
             ]
            ],
            "type": "histogram2d"
           }
          ],
          "histogram2dcontour": [
           {
            "colorbar": {
             "outlinewidth": 0,
             "ticks": ""
            },
            "colorscale": [
             [
              0,
              "#0d0887"
             ],
             [
              0.1111111111111111,
              "#46039f"
             ],
             [
              0.2222222222222222,
              "#7201a8"
             ],
             [
              0.3333333333333333,
              "#9c179e"
             ],
             [
              0.4444444444444444,
              "#bd3786"
             ],
             [
              0.5555555555555556,
              "#d8576b"
             ],
             [
              0.6666666666666666,
              "#ed7953"
             ],
             [
              0.7777777777777778,
              "#fb9f3a"
             ],
             [
              0.8888888888888888,
              "#fdca26"
             ],
             [
              1,
              "#f0f921"
             ]
            ],
            "type": "histogram2dcontour"
           }
          ],
          "mesh3d": [
           {
            "colorbar": {
             "outlinewidth": 0,
             "ticks": ""
            },
            "type": "mesh3d"
           }
          ],
          "parcoords": [
           {
            "line": {
             "colorbar": {
              "outlinewidth": 0,
              "ticks": ""
             }
            },
            "type": "parcoords"
           }
          ],
          "pie": [
           {
            "automargin": true,
            "type": "pie"
           }
          ],
          "scatter": [
           {
            "fillpattern": {
             "fillmode": "overlay",
             "size": 10,
             "solidity": 0.2
            },
            "type": "scatter"
           }
          ],
          "scatter3d": [
           {
            "line": {
             "colorbar": {
              "outlinewidth": 0,
              "ticks": ""
             }
            },
            "marker": {
             "colorbar": {
              "outlinewidth": 0,
              "ticks": ""
             }
            },
            "type": "scatter3d"
           }
          ],
          "scattercarpet": [
           {
            "marker": {
             "colorbar": {
              "outlinewidth": 0,
              "ticks": ""
             }
            },
            "type": "scattercarpet"
           }
          ],
          "scattergeo": [
           {
            "marker": {
             "colorbar": {
              "outlinewidth": 0,
              "ticks": ""
             }
            },
            "type": "scattergeo"
           }
          ],
          "scattergl": [
           {
            "marker": {
             "colorbar": {
              "outlinewidth": 0,
              "ticks": ""
             }
            },
            "type": "scattergl"
           }
          ],
          "scattermap": [
           {
            "marker": {
             "colorbar": {
              "outlinewidth": 0,
              "ticks": ""
             }
            },
            "type": "scattermap"
           }
          ],
          "scattermapbox": [
           {
            "marker": {
             "colorbar": {
              "outlinewidth": 0,
              "ticks": ""
             }
            },
            "type": "scattermapbox"
           }
          ],
          "scatterpolar": [
           {
            "marker": {
             "colorbar": {
              "outlinewidth": 0,
              "ticks": ""
             }
            },
            "type": "scatterpolar"
           }
          ],
          "scatterpolargl": [
           {
            "marker": {
             "colorbar": {
              "outlinewidth": 0,
              "ticks": ""
             }
            },
            "type": "scatterpolargl"
           }
          ],
          "scatterternary": [
           {
            "marker": {
             "colorbar": {
              "outlinewidth": 0,
              "ticks": ""
             }
            },
            "type": "scatterternary"
           }
          ],
          "surface": [
           {
            "colorbar": {
             "outlinewidth": 0,
             "ticks": ""
            },
            "colorscale": [
             [
              0,
              "#0d0887"
             ],
             [
              0.1111111111111111,
              "#46039f"
             ],
             [
              0.2222222222222222,
              "#7201a8"
             ],
             [
              0.3333333333333333,
              "#9c179e"
             ],
             [
              0.4444444444444444,
              "#bd3786"
             ],
             [
              0.5555555555555556,
              "#d8576b"
             ],
             [
              0.6666666666666666,
              "#ed7953"
             ],
             [
              0.7777777777777778,
              "#fb9f3a"
             ],
             [
              0.8888888888888888,
              "#fdca26"
             ],
             [
              1,
              "#f0f921"
             ]
            ],
            "type": "surface"
           }
          ],
          "table": [
           {
            "cells": {
             "fill": {
              "color": "#EBF0F8"
             },
             "line": {
              "color": "white"
             }
            },
            "header": {
             "fill": {
              "color": "#C8D4E3"
             },
             "line": {
              "color": "white"
             }
            },
            "type": "table"
           }
          ]
         },
         "layout": {
          "annotationdefaults": {
           "arrowcolor": "#2a3f5f",
           "arrowhead": 0,
           "arrowwidth": 1
          },
          "autotypenumbers": "strict",
          "coloraxis": {
           "colorbar": {
            "outlinewidth": 0,
            "ticks": ""
           }
          },
          "colorscale": {
           "diverging": [
            [
             0,
             "#8e0152"
            ],
            [
             0.1,
             "#c51b7d"
            ],
            [
             0.2,
             "#de77ae"
            ],
            [
             0.3,
             "#f1b6da"
            ],
            [
             0.4,
             "#fde0ef"
            ],
            [
             0.5,
             "#f7f7f7"
            ],
            [
             0.6,
             "#e6f5d0"
            ],
            [
             0.7,
             "#b8e186"
            ],
            [
             0.8,
             "#7fbc41"
            ],
            [
             0.9,
             "#4d9221"
            ],
            [
             1,
             "#276419"
            ]
           ],
           "sequential": [
            [
             0,
             "#0d0887"
            ],
            [
             0.1111111111111111,
             "#46039f"
            ],
            [
             0.2222222222222222,
             "#7201a8"
            ],
            [
             0.3333333333333333,
             "#9c179e"
            ],
            [
             0.4444444444444444,
             "#bd3786"
            ],
            [
             0.5555555555555556,
             "#d8576b"
            ],
            [
             0.6666666666666666,
             "#ed7953"
            ],
            [
             0.7777777777777778,
             "#fb9f3a"
            ],
            [
             0.8888888888888888,
             "#fdca26"
            ],
            [
             1,
             "#f0f921"
            ]
           ],
           "sequentialminus": [
            [
             0,
             "#0d0887"
            ],
            [
             0.1111111111111111,
             "#46039f"
            ],
            [
             0.2222222222222222,
             "#7201a8"
            ],
            [
             0.3333333333333333,
             "#9c179e"
            ],
            [
             0.4444444444444444,
             "#bd3786"
            ],
            [
             0.5555555555555556,
             "#d8576b"
            ],
            [
             0.6666666666666666,
             "#ed7953"
            ],
            [
             0.7777777777777778,
             "#fb9f3a"
            ],
            [
             0.8888888888888888,
             "#fdca26"
            ],
            [
             1,
             "#f0f921"
            ]
           ]
          },
          "colorway": [
           "#636efa",
           "#EF553B",
           "#00cc96",
           "#ab63fa",
           "#FFA15A",
           "#19d3f3",
           "#FF6692",
           "#B6E880",
           "#FF97FF",
           "#FECB52"
          ],
          "font": {
           "color": "#2a3f5f"
          },
          "geo": {
           "bgcolor": "white",
           "lakecolor": "white",
           "landcolor": "#E5ECF6",
           "showlakes": true,
           "showland": true,
           "subunitcolor": "white"
          },
          "hoverlabel": {
           "align": "left"
          },
          "hovermode": "closest",
          "mapbox": {
           "style": "light"
          },
          "paper_bgcolor": "white",
          "plot_bgcolor": "#E5ECF6",
          "polar": {
           "angularaxis": {
            "gridcolor": "white",
            "linecolor": "white",
            "ticks": ""
           },
           "bgcolor": "#E5ECF6",
           "radialaxis": {
            "gridcolor": "white",
            "linecolor": "white",
            "ticks": ""
           }
          },
          "scene": {
           "xaxis": {
            "backgroundcolor": "#E5ECF6",
            "gridcolor": "white",
            "gridwidth": 2,
            "linecolor": "white",
            "showbackground": true,
            "ticks": "",
            "zerolinecolor": "white"
           },
           "yaxis": {
            "backgroundcolor": "#E5ECF6",
            "gridcolor": "white",
            "gridwidth": 2,
            "linecolor": "white",
            "showbackground": true,
            "ticks": "",
            "zerolinecolor": "white"
           },
           "zaxis": {
            "backgroundcolor": "#E5ECF6",
            "gridcolor": "white",
            "gridwidth": 2,
            "linecolor": "white",
            "showbackground": true,
            "ticks": "",
            "zerolinecolor": "white"
           }
          },
          "shapedefaults": {
           "line": {
            "color": "#2a3f5f"
           }
          },
          "ternary": {
           "aaxis": {
            "gridcolor": "white",
            "linecolor": "white",
            "ticks": ""
           },
           "baxis": {
            "gridcolor": "white",
            "linecolor": "white",
            "ticks": ""
           },
           "bgcolor": "#E5ECF6",
           "caxis": {
            "gridcolor": "white",
            "linecolor": "white",
            "ticks": ""
           }
          },
          "title": {
           "x": 0.05
          },
          "xaxis": {
           "automargin": true,
           "gridcolor": "white",
           "linecolor": "white",
           "ticks": "",
           "title": {
            "standoff": 15
           },
           "zerolinecolor": "white",
           "zerolinewidth": 2
          },
          "yaxis": {
           "automargin": true,
           "gridcolor": "white",
           "linecolor": "white",
           "ticks": "",
           "title": {
            "standoff": 15
           },
           "zerolinecolor": "white",
           "zerolinewidth": 2
          }
         }
        },
        "title": {
         "text": "Execution time of ForecasterRecursiveMultiSeries_predict_exog_is_dict"
        },
        "xaxis": {
         "tickangle": -45,
         "tickmode": "array",
         "ticktext": [
          "0.13.0",
          "0.14.0",
          "0.15.1",
          "0.16.0"
         ],
         "tickvals": [
          0,
          1,
          2,
          3
         ],
         "title": {
          "text": "skforecast version"
         }
        },
        "yaxis": {
         "title": {
          "text": "Execution time (seconds)"
         }
        }
       }
      }
     },
     "metadata": {},
     "output_type": "display_data"
    },
    {
     "data": {
      "application/vnd.microsoft.datawrangler.viewer.v0+json": {
       "columns": [
        {
         "name": "index",
         "rawType": "int64",
         "type": "integer"
        },
        {
         "name": "forecaster_name",
         "rawType": "object",
         "type": "string"
        },
        {
         "name": "regressor_name",
         "rawType": "object",
         "type": "string"
        },
        {
         "name": "function_name",
         "rawType": "object",
         "type": "string"
        },
        {
         "name": "function_hash",
         "rawType": "object",
         "type": "string"
        },
        {
         "name": "run_time_avg",
         "rawType": "float64",
         "type": "float"
        },
        {
         "name": "run_time_std_dev",
         "rawType": "float64",
         "type": "float"
        },
        {
         "name": "datetime",
         "rawType": "datetime64[ns]",
         "type": "datetime"
        },
        {
         "name": "python_version",
         "rawType": "object",
         "type": "string"
        },
        {
         "name": "skforecast_version",
         "rawType": "object",
         "type": "string"
        },
        {
         "name": "numpy_version",
         "rawType": "object",
         "type": "string"
        },
        {
         "name": "pandas_version",
         "rawType": "object",
         "type": "string"
        },
        {
         "name": "sklearn_version",
         "rawType": "object",
         "type": "string"
        },
        {
         "name": "lightgbm_version",
         "rawType": "object",
         "type": "string"
        },
        {
         "name": "platform",
         "rawType": "object",
         "type": "string"
        },
        {
         "name": "processor",
         "rawType": "object",
         "type": "string"
        },
        {
         "name": "cpu_count",
         "rawType": "int64",
         "type": "integer"
        },
        {
         "name": "memory_gb",
         "rawType": "float64",
         "type": "float"
        }
       ],
       "conversionMethod": "pd.DataFrame",
       "ref": "872374a7-a6c0-485b-96e6-d2fa7c6b78d3",
       "rows": [
        [
         "6",
         "ForecasterRecursiveMultiSeries",
         "LGBMRegressor",
         "ForecasterRecursiveMultiSeries__create_predict_inputs_exog_is_dict",
         "52b1c12811cade5921c24c58d5503d03",
         "0.294341627799804",
         "0.03278217664350058",
         "2025-04-23 15:05:53.948491",
         "3.12.9",
         "0.16.0",
         "2.2.5",
         "2.2.3",
         "1.6.1",
         "4.6.0",
         "Linux-6.11.0-21-generic-x86_64-with-glibc2.39",
         "x86_64",
         "8",
         "16.64"
        ],
        [
         "18",
         "ForecasterRecursiveMultiSeries",
         "LGBMRegressor",
         "ForecasterRecursiveMultiSeries__create_predict_inputs_exog_is_dict",
         "52b1c12811cade5921c24c58d5503d03",
         "1.5515443933993083",
         "0.0489450400962138",
         "2025-04-23 15:11:51.473073",
         "3.12.9",
         "0.15.1",
         "2.2.5",
         "2.2.3",
         "1.6.1",
         "4.6.0",
         "Linux-6.11.0-21-generic-x86_64-with-glibc2.39",
         "x86_64",
         "8",
         "16.64"
        ],
        [
         "30",
         "ForecasterRecursiveMultiSeries",
         "LGBMRegressor",
         "ForecasterRecursiveMultiSeries__create_predict_inputs_exog_is_dict",
         "52b1c12811cade5921c24c58d5503d03",
         "1.5085263796001527",
         "0.016043268579576088",
         "2025-04-23 15:15:46.970652",
         "3.12.9",
         "0.14.0",
         "2.2.5",
         "2.2.3",
         "1.6.1",
         "4.6.0",
         "Linux-6.11.0-21-generic-x86_64-with-glibc2.39",
         "x86_64",
         "8",
         "16.64"
        ],
        [
         "42",
         "ForecasterAutoregMultiSeries",
         "LGBMRegressor",
         "ForecasterRecursiveMultiSeries__create_predict_inputs_exog_is_dict",
         "52b1c12811cade5921c24c58d5503d03",
         null,
         null,
         "2025-04-23 15:31:29.431385",
         "3.12.9",
         "0.13.0",
         "2.2.5",
         "2.2.3",
         "1.6.1",
         "4.6.0",
         "Linux-6.11.0-21-generic-x86_64-with-glibc2.39",
         "x86_64",
         "8",
         "16.64"
        ],
        [
         "54",
         "ForecasterAutoregMultiSeries",
         "LGBMRegressor",
         "ForecasterRecursiveMultiSeries__create_predict_inputs_exog_is_dict",
         "52b1c12811cade5921c24c58d5503d03",
         null,
         null,
         "2025-04-23 15:41:02.231555",
         "3.12.9",
         "0.13.0",
         "2.2.5",
         "2.2.3",
         "1.6.1",
         "4.6.0",
         "Linux-6.11.0-21-generic-x86_64-with-glibc2.39",
         "x86_64",
         "8",
         "16.64"
        ],
        [
         "74",
         "ForecasterRecursiveMultiSeries",
         "LGBMRegressor",
         "ForecasterRecursiveMultiSeries__create_predict_inputs_exog_is_dict",
         "52b1c12811cade5921c24c58d5503d03",
         "1.5827636112000618",
         "0.09688128701446776",
         "2025-04-23 15:56:40.522196",
         "3.12.9",
         "0.14.0",
         "2.2.5",
         "2.2.3",
         "1.6.1",
         "4.6.0",
         "Linux-6.11.0-21-generic-x86_64-with-glibc2.39",
         "x86_64",
         "8",
         "16.64"
        ],
        [
         "86",
         "ForecasterRecursiveMultiSeries",
         "LGBMRegressor",
         "ForecasterRecursiveMultiSeries__create_predict_inputs_exog_is_dict",
         "52b1c12811cade5921c24c58d5503d03",
         "1.7050989196006412",
         "0.28197895788387556",
         "2025-04-23 16:00:52.071181",
         "3.12.9",
         "0.15.1",
         "2.2.5",
         "2.2.3",
         "1.6.1",
         "4.6.0",
         "Linux-6.11.0-21-generic-x86_64-with-glibc2.39",
         "x86_64",
         "8",
         "16.64"
        ],
        [
         "98",
         "ForecasterRecursiveMultiSeries",
         "LGBMRegressor",
         "ForecasterRecursiveMultiSeries__create_predict_inputs_exog_is_dict",
         "52b1c12811cade5921c24c58d5503d03",
         "1.5474014901999908",
         "0.029990153118770426",
         "2025-04-23 16:05:22.045873",
         "3.12.9",
         "0.15.1",
         "2.2.5",
         "2.2.3",
         "1.6.1",
         "4.6.0",
         "Linux-6.11.0-21-generic-x86_64-with-glibc2.39",
         "x86_64",
         "8",
         "16.64"
        ],
        [
         "110",
         "ForecasterRecursiveMultiSeries",
         "LGBMRegressor",
         "ForecasterRecursiveMultiSeries__create_predict_inputs_exog_is_dict",
         "52b1c12811cade5921c24c58d5503d03",
         "0.30023387479996017",
         "0.03495718474516525",
         "2025-04-23 16:08:37.638061",
         "3.12.9",
         "0.16.0",
         "2.2.5",
         "2.2.3",
         "1.6.1",
         "4.6.0",
         "Linux-6.11.0-21-generic-x86_64-with-glibc2.39",
         "x86_64",
         "8",
         "16.64"
        ],
        [
         "122",
         "ForecasterRecursiveMultiSeries",
         "LGBMRegressor",
         "ForecasterRecursiveMultiSeries__create_predict_inputs_exog_is_dict",
         "52b1c12811cade5921c24c58d5503d03",
         "0.30639572480031346",
         "0.03871638229510142",
         "2025-04-23 16:12:06.261105",
         "3.12.9",
         "0.16.0",
         "2.2.5",
         "2.2.3",
         "1.6.1",
         "4.6.0",
         "Linux-6.11.0-21-generic-x86_64-with-glibc2.39",
         "x86_64",
         "8",
         "16.64"
        ]
       ],
       "shape": {
        "columns": 17,
        "rows": 10
       }
      },
      "text/html": [
       "<div>\n",
       "<style scoped>\n",
       "    .dataframe tbody tr th:only-of-type {\n",
       "        vertical-align: middle;\n",
       "    }\n",
       "\n",
       "    .dataframe tbody tr th {\n",
       "        vertical-align: top;\n",
       "    }\n",
       "\n",
       "    .dataframe thead th {\n",
       "        text-align: right;\n",
       "    }\n",
       "</style>\n",
       "<table border=\"1\" class=\"dataframe\">\n",
       "  <thead>\n",
       "    <tr style=\"text-align: right;\">\n",
       "      <th></th>\n",
       "      <th>forecaster_name</th>\n",
       "      <th>regressor_name</th>\n",
       "      <th>function_name</th>\n",
       "      <th>function_hash</th>\n",
       "      <th>run_time_avg</th>\n",
       "      <th>run_time_std_dev</th>\n",
       "      <th>datetime</th>\n",
       "      <th>python_version</th>\n",
       "      <th>skforecast_version</th>\n",
       "      <th>numpy_version</th>\n",
       "      <th>pandas_version</th>\n",
       "      <th>sklearn_version</th>\n",
       "      <th>lightgbm_version</th>\n",
       "      <th>platform</th>\n",
       "      <th>processor</th>\n",
       "      <th>cpu_count</th>\n",
       "      <th>memory_gb</th>\n",
       "    </tr>\n",
       "  </thead>\n",
       "  <tbody>\n",
       "    <tr>\n",
       "      <th>6</th>\n",
       "      <td>ForecasterRecursiveMultiSeries</td>\n",
       "      <td>LGBMRegressor</td>\n",
       "      <td>ForecasterRecursiveMultiSeries__create_predict...</td>\n",
       "      <td>52b1c12811cade5921c24c58d5503d03</td>\n",
       "      <td>0.294342</td>\n",
       "      <td>0.032782</td>\n",
       "      <td>2025-04-23 15:05:53.948491</td>\n",
       "      <td>3.12.9</td>\n",
       "      <td>0.16.0</td>\n",
       "      <td>2.2.5</td>\n",
       "      <td>2.2.3</td>\n",
       "      <td>1.6.1</td>\n",
       "      <td>4.6.0</td>\n",
       "      <td>Linux-6.11.0-21-generic-x86_64-with-glibc2.39</td>\n",
       "      <td>x86_64</td>\n",
       "      <td>8</td>\n",
       "      <td>16.64</td>\n",
       "    </tr>\n",
       "    <tr>\n",
       "      <th>18</th>\n",
       "      <td>ForecasterRecursiveMultiSeries</td>\n",
       "      <td>LGBMRegressor</td>\n",
       "      <td>ForecasterRecursiveMultiSeries__create_predict...</td>\n",
       "      <td>52b1c12811cade5921c24c58d5503d03</td>\n",
       "      <td>1.551544</td>\n",
       "      <td>0.048945</td>\n",
       "      <td>2025-04-23 15:11:51.473073</td>\n",
       "      <td>3.12.9</td>\n",
       "      <td>0.15.1</td>\n",
       "      <td>2.2.5</td>\n",
       "      <td>2.2.3</td>\n",
       "      <td>1.6.1</td>\n",
       "      <td>4.6.0</td>\n",
       "      <td>Linux-6.11.0-21-generic-x86_64-with-glibc2.39</td>\n",
       "      <td>x86_64</td>\n",
       "      <td>8</td>\n",
       "      <td>16.64</td>\n",
       "    </tr>\n",
       "    <tr>\n",
       "      <th>30</th>\n",
       "      <td>ForecasterRecursiveMultiSeries</td>\n",
       "      <td>LGBMRegressor</td>\n",
       "      <td>ForecasterRecursiveMultiSeries__create_predict...</td>\n",
       "      <td>52b1c12811cade5921c24c58d5503d03</td>\n",
       "      <td>1.508526</td>\n",
       "      <td>0.016043</td>\n",
       "      <td>2025-04-23 15:15:46.970652</td>\n",
       "      <td>3.12.9</td>\n",
       "      <td>0.14.0</td>\n",
       "      <td>2.2.5</td>\n",
       "      <td>2.2.3</td>\n",
       "      <td>1.6.1</td>\n",
       "      <td>4.6.0</td>\n",
       "      <td>Linux-6.11.0-21-generic-x86_64-with-glibc2.39</td>\n",
       "      <td>x86_64</td>\n",
       "      <td>8</td>\n",
       "      <td>16.64</td>\n",
       "    </tr>\n",
       "    <tr>\n",
       "      <th>42</th>\n",
       "      <td>ForecasterAutoregMultiSeries</td>\n",
       "      <td>LGBMRegressor</td>\n",
       "      <td>ForecasterRecursiveMultiSeries__create_predict...</td>\n",
       "      <td>52b1c12811cade5921c24c58d5503d03</td>\n",
       "      <td>NaN</td>\n",
       "      <td>NaN</td>\n",
       "      <td>2025-04-23 15:31:29.431385</td>\n",
       "      <td>3.12.9</td>\n",
       "      <td>0.13.0</td>\n",
       "      <td>2.2.5</td>\n",
       "      <td>2.2.3</td>\n",
       "      <td>1.6.1</td>\n",
       "      <td>4.6.0</td>\n",
       "      <td>Linux-6.11.0-21-generic-x86_64-with-glibc2.39</td>\n",
       "      <td>x86_64</td>\n",
       "      <td>8</td>\n",
       "      <td>16.64</td>\n",
       "    </tr>\n",
       "    <tr>\n",
       "      <th>54</th>\n",
       "      <td>ForecasterAutoregMultiSeries</td>\n",
       "      <td>LGBMRegressor</td>\n",
       "      <td>ForecasterRecursiveMultiSeries__create_predict...</td>\n",
       "      <td>52b1c12811cade5921c24c58d5503d03</td>\n",
       "      <td>NaN</td>\n",
       "      <td>NaN</td>\n",
       "      <td>2025-04-23 15:41:02.231555</td>\n",
       "      <td>3.12.9</td>\n",
       "      <td>0.13.0</td>\n",
       "      <td>2.2.5</td>\n",
       "      <td>2.2.3</td>\n",
       "      <td>1.6.1</td>\n",
       "      <td>4.6.0</td>\n",
       "      <td>Linux-6.11.0-21-generic-x86_64-with-glibc2.39</td>\n",
       "      <td>x86_64</td>\n",
       "      <td>8</td>\n",
       "      <td>16.64</td>\n",
       "    </tr>\n",
       "    <tr>\n",
       "      <th>74</th>\n",
       "      <td>ForecasterRecursiveMultiSeries</td>\n",
       "      <td>LGBMRegressor</td>\n",
       "      <td>ForecasterRecursiveMultiSeries__create_predict...</td>\n",
       "      <td>52b1c12811cade5921c24c58d5503d03</td>\n",
       "      <td>1.582764</td>\n",
       "      <td>0.096881</td>\n",
       "      <td>2025-04-23 15:56:40.522196</td>\n",
       "      <td>3.12.9</td>\n",
       "      <td>0.14.0</td>\n",
       "      <td>2.2.5</td>\n",
       "      <td>2.2.3</td>\n",
       "      <td>1.6.1</td>\n",
       "      <td>4.6.0</td>\n",
       "      <td>Linux-6.11.0-21-generic-x86_64-with-glibc2.39</td>\n",
       "      <td>x86_64</td>\n",
       "      <td>8</td>\n",
       "      <td>16.64</td>\n",
       "    </tr>\n",
       "    <tr>\n",
       "      <th>86</th>\n",
       "      <td>ForecasterRecursiveMultiSeries</td>\n",
       "      <td>LGBMRegressor</td>\n",
       "      <td>ForecasterRecursiveMultiSeries__create_predict...</td>\n",
       "      <td>52b1c12811cade5921c24c58d5503d03</td>\n",
       "      <td>1.705099</td>\n",
       "      <td>0.281979</td>\n",
       "      <td>2025-04-23 16:00:52.071181</td>\n",
       "      <td>3.12.9</td>\n",
       "      <td>0.15.1</td>\n",
       "      <td>2.2.5</td>\n",
       "      <td>2.2.3</td>\n",
       "      <td>1.6.1</td>\n",
       "      <td>4.6.0</td>\n",
       "      <td>Linux-6.11.0-21-generic-x86_64-with-glibc2.39</td>\n",
       "      <td>x86_64</td>\n",
       "      <td>8</td>\n",
       "      <td>16.64</td>\n",
       "    </tr>\n",
       "    <tr>\n",
       "      <th>98</th>\n",
       "      <td>ForecasterRecursiveMultiSeries</td>\n",
       "      <td>LGBMRegressor</td>\n",
       "      <td>ForecasterRecursiveMultiSeries__create_predict...</td>\n",
       "      <td>52b1c12811cade5921c24c58d5503d03</td>\n",
       "      <td>1.547401</td>\n",
       "      <td>0.029990</td>\n",
       "      <td>2025-04-23 16:05:22.045873</td>\n",
       "      <td>3.12.9</td>\n",
       "      <td>0.15.1</td>\n",
       "      <td>2.2.5</td>\n",
       "      <td>2.2.3</td>\n",
       "      <td>1.6.1</td>\n",
       "      <td>4.6.0</td>\n",
       "      <td>Linux-6.11.0-21-generic-x86_64-with-glibc2.39</td>\n",
       "      <td>x86_64</td>\n",
       "      <td>8</td>\n",
       "      <td>16.64</td>\n",
       "    </tr>\n",
       "    <tr>\n",
       "      <th>110</th>\n",
       "      <td>ForecasterRecursiveMultiSeries</td>\n",
       "      <td>LGBMRegressor</td>\n",
       "      <td>ForecasterRecursiveMultiSeries__create_predict...</td>\n",
       "      <td>52b1c12811cade5921c24c58d5503d03</td>\n",
       "      <td>0.300234</td>\n",
       "      <td>0.034957</td>\n",
       "      <td>2025-04-23 16:08:37.638061</td>\n",
       "      <td>3.12.9</td>\n",
       "      <td>0.16.0</td>\n",
       "      <td>2.2.5</td>\n",
       "      <td>2.2.3</td>\n",
       "      <td>1.6.1</td>\n",
       "      <td>4.6.0</td>\n",
       "      <td>Linux-6.11.0-21-generic-x86_64-with-glibc2.39</td>\n",
       "      <td>x86_64</td>\n",
       "      <td>8</td>\n",
       "      <td>16.64</td>\n",
       "    </tr>\n",
       "    <tr>\n",
       "      <th>122</th>\n",
       "      <td>ForecasterRecursiveMultiSeries</td>\n",
       "      <td>LGBMRegressor</td>\n",
       "      <td>ForecasterRecursiveMultiSeries__create_predict...</td>\n",
       "      <td>52b1c12811cade5921c24c58d5503d03</td>\n",
       "      <td>0.306396</td>\n",
       "      <td>0.038716</td>\n",
       "      <td>2025-04-23 16:12:06.261105</td>\n",
       "      <td>3.12.9</td>\n",
       "      <td>0.16.0</td>\n",
       "      <td>2.2.5</td>\n",
       "      <td>2.2.3</td>\n",
       "      <td>1.6.1</td>\n",
       "      <td>4.6.0</td>\n",
       "      <td>Linux-6.11.0-21-generic-x86_64-with-glibc2.39</td>\n",
       "      <td>x86_64</td>\n",
       "      <td>8</td>\n",
       "      <td>16.64</td>\n",
       "    </tr>\n",
       "  </tbody>\n",
       "</table>\n",
       "</div>"
      ],
      "text/plain": [
       "                    forecaster_name regressor_name  \\\n",
       "6    ForecasterRecursiveMultiSeries  LGBMRegressor   \n",
       "18   ForecasterRecursiveMultiSeries  LGBMRegressor   \n",
       "30   ForecasterRecursiveMultiSeries  LGBMRegressor   \n",
       "42     ForecasterAutoregMultiSeries  LGBMRegressor   \n",
       "54     ForecasterAutoregMultiSeries  LGBMRegressor   \n",
       "74   ForecasterRecursiveMultiSeries  LGBMRegressor   \n",
       "86   ForecasterRecursiveMultiSeries  LGBMRegressor   \n",
       "98   ForecasterRecursiveMultiSeries  LGBMRegressor   \n",
       "110  ForecasterRecursiveMultiSeries  LGBMRegressor   \n",
       "122  ForecasterRecursiveMultiSeries  LGBMRegressor   \n",
       "\n",
       "                                         function_name  \\\n",
       "6    ForecasterRecursiveMultiSeries__create_predict...   \n",
       "18   ForecasterRecursiveMultiSeries__create_predict...   \n",
       "30   ForecasterRecursiveMultiSeries__create_predict...   \n",
       "42   ForecasterRecursiveMultiSeries__create_predict...   \n",
       "54   ForecasterRecursiveMultiSeries__create_predict...   \n",
       "74   ForecasterRecursiveMultiSeries__create_predict...   \n",
       "86   ForecasterRecursiveMultiSeries__create_predict...   \n",
       "98   ForecasterRecursiveMultiSeries__create_predict...   \n",
       "110  ForecasterRecursiveMultiSeries__create_predict...   \n",
       "122  ForecasterRecursiveMultiSeries__create_predict...   \n",
       "\n",
       "                        function_hash  run_time_avg  run_time_std_dev  \\\n",
       "6    52b1c12811cade5921c24c58d5503d03      0.294342          0.032782   \n",
       "18   52b1c12811cade5921c24c58d5503d03      1.551544          0.048945   \n",
       "30   52b1c12811cade5921c24c58d5503d03      1.508526          0.016043   \n",
       "42   52b1c12811cade5921c24c58d5503d03           NaN               NaN   \n",
       "54   52b1c12811cade5921c24c58d5503d03           NaN               NaN   \n",
       "74   52b1c12811cade5921c24c58d5503d03      1.582764          0.096881   \n",
       "86   52b1c12811cade5921c24c58d5503d03      1.705099          0.281979   \n",
       "98   52b1c12811cade5921c24c58d5503d03      1.547401          0.029990   \n",
       "110  52b1c12811cade5921c24c58d5503d03      0.300234          0.034957   \n",
       "122  52b1c12811cade5921c24c58d5503d03      0.306396          0.038716   \n",
       "\n",
       "                      datetime python_version skforecast_version  \\\n",
       "6   2025-04-23 15:05:53.948491         3.12.9             0.16.0   \n",
       "18  2025-04-23 15:11:51.473073         3.12.9             0.15.1   \n",
       "30  2025-04-23 15:15:46.970652         3.12.9             0.14.0   \n",
       "42  2025-04-23 15:31:29.431385         3.12.9             0.13.0   \n",
       "54  2025-04-23 15:41:02.231555         3.12.9             0.13.0   \n",
       "74  2025-04-23 15:56:40.522196         3.12.9             0.14.0   \n",
       "86  2025-04-23 16:00:52.071181         3.12.9             0.15.1   \n",
       "98  2025-04-23 16:05:22.045873         3.12.9             0.15.1   \n",
       "110 2025-04-23 16:08:37.638061         3.12.9             0.16.0   \n",
       "122 2025-04-23 16:12:06.261105         3.12.9             0.16.0   \n",
       "\n",
       "    numpy_version pandas_version sklearn_version lightgbm_version  \\\n",
       "6           2.2.5          2.2.3           1.6.1            4.6.0   \n",
       "18          2.2.5          2.2.3           1.6.1            4.6.0   \n",
       "30          2.2.5          2.2.3           1.6.1            4.6.0   \n",
       "42          2.2.5          2.2.3           1.6.1            4.6.0   \n",
       "54          2.2.5          2.2.3           1.6.1            4.6.0   \n",
       "74          2.2.5          2.2.3           1.6.1            4.6.0   \n",
       "86          2.2.5          2.2.3           1.6.1            4.6.0   \n",
       "98          2.2.5          2.2.3           1.6.1            4.6.0   \n",
       "110         2.2.5          2.2.3           1.6.1            4.6.0   \n",
       "122         2.2.5          2.2.3           1.6.1            4.6.0   \n",
       "\n",
       "                                          platform processor  cpu_count  \\\n",
       "6    Linux-6.11.0-21-generic-x86_64-with-glibc2.39    x86_64          8   \n",
       "18   Linux-6.11.0-21-generic-x86_64-with-glibc2.39    x86_64          8   \n",
       "30   Linux-6.11.0-21-generic-x86_64-with-glibc2.39    x86_64          8   \n",
       "42   Linux-6.11.0-21-generic-x86_64-with-glibc2.39    x86_64          8   \n",
       "54   Linux-6.11.0-21-generic-x86_64-with-glibc2.39    x86_64          8   \n",
       "74   Linux-6.11.0-21-generic-x86_64-with-glibc2.39    x86_64          8   \n",
       "86   Linux-6.11.0-21-generic-x86_64-with-glibc2.39    x86_64          8   \n",
       "98   Linux-6.11.0-21-generic-x86_64-with-glibc2.39    x86_64          8   \n",
       "110  Linux-6.11.0-21-generic-x86_64-with-glibc2.39    x86_64          8   \n",
       "122  Linux-6.11.0-21-generic-x86_64-with-glibc2.39    x86_64          8   \n",
       "\n",
       "     memory_gb  \n",
       "6        16.64  \n",
       "18       16.64  \n",
       "30       16.64  \n",
       "42       16.64  \n",
       "54       16.64  \n",
       "74       16.64  \n",
       "86       16.64  \n",
       "98       16.64  \n",
       "110      16.64  \n",
       "122      16.64  "
      ]
     },
     "metadata": {},
     "output_type": "display_data"
    },
    {
     "data": {
      "application/vnd.plotly.v1+json": {
       "config": {
        "plotlyServerURL": "https://plot.ly"
       },
       "data": [
        {
         "error_y": {
          "array": {
           "bdata": "AAAAAAAA+H8AAAAAAAD4fw==",
           "dtype": "f8"
          },
          "color": "#636EFA",
          "thickness": 1.5,
          "type": "data",
          "visible": true,
          "width": 5
         },
         "hovertemplate": "Version: 0.13.0<br>Runtime: %{y:.2f}s<extra></extra>",
         "marker": {
          "color": "#636EFA",
          "opacity": 0.7,
          "size": 10
         },
         "mode": "markers",
         "name": "Run time - 0.13.0",
         "showlegend": true,
         "type": "scatter",
         "x": {
          "bdata": "fByzX9/Fir9AKClBT8iAPw==",
          "dtype": "f8"
         },
         "y": {
          "bdata": "AAAAAAAA+H8AAAAAAAD4fw==",
          "dtype": "f8"
         }
        },
        {
         "error_y": {
          "array": {
           "bdata": "6ht7h6VtkD+xT1JHNs24Pw==",
           "dtype": "f8"
          },
          "color": "#EF553B",
          "thickness": 1.5,
          "type": "data",
          "visible": true,
          "width": 5
         },
         "hovertemplate": "Version: 0.14.0<br>Runtime: %{y:.2f}s<extra></extra>",
         "marker": {
          "color": "#EF553B",
          "opacity": 0.7,
          "size": 10
         },
         "mode": "markers",
         "name": "Run time - 0.14.0",
         "showlegend": true,
         "type": "scatter",
         "x": {
          "bdata": "WsufM0wh8D/sid4cvavwPw==",
          "dtype": "f8"
         },
         "y": {
          "bdata": "M5OYjuwi+D8zc7bv/1L5Pw==",
          "dtype": "f8"
         }
        },
        {
         "error_y": {
          "array": {
           "bdata": "z38HBVMPqT+7XpF48QvSP6d7Yxu9tZ4/",
           "dtype": "f8"
          },
          "color": "#00CC96",
          "thickness": 1.5,
          "type": "data",
          "visible": true,
          "width": 5
         },
         "hovertemplate": "Version: 0.15.1<br>Runtime: %{y:.2f}s<extra></extra>",
         "marker": {
          "color": "#00CC96",
          "opacity": 0.7,
          "size": 10
         },
         "mode": "markers",
         "name": "Run time - 0.15.1",
         "showlegend": true,
         "type": "scatter",
         "x": {
          "bdata": "o+edyHNh/z9etUcwD5P/PzyVwAXWKwBA",
          "dtype": "f8"
         },
         "y": {
          "bdata": "MxO/NiDT+D8zEwLOFUj7P80MoxAowvg/",
          "dtype": "f8"
         }
        },
        {
         "error_y": {
          "array": {
           "bdata": "4KsmUdPIoD/6Pnt66OWhPw7FjTei0qM/",
           "dtype": "f8"
          },
          "color": "#AB63FA",
          "thickness": 1.5,
          "type": "data",
          "visible": true,
          "width": 5
         },
         "hovertemplate": "Version: 0.16.0<br>Runtime: %{y:.2f}s<extra></extra>",
         "marker": {
          "color": "#AB63FA",
          "opacity": 0.7,
          "size": 10
         },
         "mode": "markers",
         "name": "Run time - 0.16.0",
         "showlegend": true,
         "type": "scatter",
         "x": {
          "bdata": "BPQEQSs7CEBa7SFg/PsHQN1xRrJWNAhA",
          "dtype": "f8"
         },
         "y": {
          "bdata": "mhlQRH7W0j8zs1okCDfTPzOzadD8m9M/",
          "dtype": "f8"
         }
        },
        {
         "line": {
          "color": "black",
          "width": 2
         },
         "marker": {
          "color": "black",
          "size": 8
         },
         "mode": "lines+markers",
         "name": "Median (per version)",
         "type": "scatter",
         "x": {
          "bdata": "AAECAw==",
          "dtype": "i1"
         },
         "y": {
          "bdata": "AAAAAAAA+H8zgyc/9rr4PzMTvzYg0/g/M7NaJAg30z8=",
          "dtype": "f8"
         }
        }
       ],
       "layout": {
        "showlegend": true,
        "template": {
         "data": {
          "bar": [
           {
            "error_x": {
             "color": "#2a3f5f"
            },
            "error_y": {
             "color": "#2a3f5f"
            },
            "marker": {
             "line": {
              "color": "#E5ECF6",
              "width": 0.5
             },
             "pattern": {
              "fillmode": "overlay",
              "size": 10,
              "solidity": 0.2
             }
            },
            "type": "bar"
           }
          ],
          "barpolar": [
           {
            "marker": {
             "line": {
              "color": "#E5ECF6",
              "width": 0.5
             },
             "pattern": {
              "fillmode": "overlay",
              "size": 10,
              "solidity": 0.2
             }
            },
            "type": "barpolar"
           }
          ],
          "carpet": [
           {
            "aaxis": {
             "endlinecolor": "#2a3f5f",
             "gridcolor": "white",
             "linecolor": "white",
             "minorgridcolor": "white",
             "startlinecolor": "#2a3f5f"
            },
            "baxis": {
             "endlinecolor": "#2a3f5f",
             "gridcolor": "white",
             "linecolor": "white",
             "minorgridcolor": "white",
             "startlinecolor": "#2a3f5f"
            },
            "type": "carpet"
           }
          ],
          "choropleth": [
           {
            "colorbar": {
             "outlinewidth": 0,
             "ticks": ""
            },
            "type": "choropleth"
           }
          ],
          "contour": [
           {
            "colorbar": {
             "outlinewidth": 0,
             "ticks": ""
            },
            "colorscale": [
             [
              0,
              "#0d0887"
             ],
             [
              0.1111111111111111,
              "#46039f"
             ],
             [
              0.2222222222222222,
              "#7201a8"
             ],
             [
              0.3333333333333333,
              "#9c179e"
             ],
             [
              0.4444444444444444,
              "#bd3786"
             ],
             [
              0.5555555555555556,
              "#d8576b"
             ],
             [
              0.6666666666666666,
              "#ed7953"
             ],
             [
              0.7777777777777778,
              "#fb9f3a"
             ],
             [
              0.8888888888888888,
              "#fdca26"
             ],
             [
              1,
              "#f0f921"
             ]
            ],
            "type": "contour"
           }
          ],
          "contourcarpet": [
           {
            "colorbar": {
             "outlinewidth": 0,
             "ticks": ""
            },
            "type": "contourcarpet"
           }
          ],
          "heatmap": [
           {
            "colorbar": {
             "outlinewidth": 0,
             "ticks": ""
            },
            "colorscale": [
             [
              0,
              "#0d0887"
             ],
             [
              0.1111111111111111,
              "#46039f"
             ],
             [
              0.2222222222222222,
              "#7201a8"
             ],
             [
              0.3333333333333333,
              "#9c179e"
             ],
             [
              0.4444444444444444,
              "#bd3786"
             ],
             [
              0.5555555555555556,
              "#d8576b"
             ],
             [
              0.6666666666666666,
              "#ed7953"
             ],
             [
              0.7777777777777778,
              "#fb9f3a"
             ],
             [
              0.8888888888888888,
              "#fdca26"
             ],
             [
              1,
              "#f0f921"
             ]
            ],
            "type": "heatmap"
           }
          ],
          "histogram": [
           {
            "marker": {
             "pattern": {
              "fillmode": "overlay",
              "size": 10,
              "solidity": 0.2
             }
            },
            "type": "histogram"
           }
          ],
          "histogram2d": [
           {
            "colorbar": {
             "outlinewidth": 0,
             "ticks": ""
            },
            "colorscale": [
             [
              0,
              "#0d0887"
             ],
             [
              0.1111111111111111,
              "#46039f"
             ],
             [
              0.2222222222222222,
              "#7201a8"
             ],
             [
              0.3333333333333333,
              "#9c179e"
             ],
             [
              0.4444444444444444,
              "#bd3786"
             ],
             [
              0.5555555555555556,
              "#d8576b"
             ],
             [
              0.6666666666666666,
              "#ed7953"
             ],
             [
              0.7777777777777778,
              "#fb9f3a"
             ],
             [
              0.8888888888888888,
              "#fdca26"
             ],
             [
              1,
              "#f0f921"
             ]
            ],
            "type": "histogram2d"
           }
          ],
          "histogram2dcontour": [
           {
            "colorbar": {
             "outlinewidth": 0,
             "ticks": ""
            },
            "colorscale": [
             [
              0,
              "#0d0887"
             ],
             [
              0.1111111111111111,
              "#46039f"
             ],
             [
              0.2222222222222222,
              "#7201a8"
             ],
             [
              0.3333333333333333,
              "#9c179e"
             ],
             [
              0.4444444444444444,
              "#bd3786"
             ],
             [
              0.5555555555555556,
              "#d8576b"
             ],
             [
              0.6666666666666666,
              "#ed7953"
             ],
             [
              0.7777777777777778,
              "#fb9f3a"
             ],
             [
              0.8888888888888888,
              "#fdca26"
             ],
             [
              1,
              "#f0f921"
             ]
            ],
            "type": "histogram2dcontour"
           }
          ],
          "mesh3d": [
           {
            "colorbar": {
             "outlinewidth": 0,
             "ticks": ""
            },
            "type": "mesh3d"
           }
          ],
          "parcoords": [
           {
            "line": {
             "colorbar": {
              "outlinewidth": 0,
              "ticks": ""
             }
            },
            "type": "parcoords"
           }
          ],
          "pie": [
           {
            "automargin": true,
            "type": "pie"
           }
          ],
          "scatter": [
           {
            "fillpattern": {
             "fillmode": "overlay",
             "size": 10,
             "solidity": 0.2
            },
            "type": "scatter"
           }
          ],
          "scatter3d": [
           {
            "line": {
             "colorbar": {
              "outlinewidth": 0,
              "ticks": ""
             }
            },
            "marker": {
             "colorbar": {
              "outlinewidth": 0,
              "ticks": ""
             }
            },
            "type": "scatter3d"
           }
          ],
          "scattercarpet": [
           {
            "marker": {
             "colorbar": {
              "outlinewidth": 0,
              "ticks": ""
             }
            },
            "type": "scattercarpet"
           }
          ],
          "scattergeo": [
           {
            "marker": {
             "colorbar": {
              "outlinewidth": 0,
              "ticks": ""
             }
            },
            "type": "scattergeo"
           }
          ],
          "scattergl": [
           {
            "marker": {
             "colorbar": {
              "outlinewidth": 0,
              "ticks": ""
             }
            },
            "type": "scattergl"
           }
          ],
          "scattermap": [
           {
            "marker": {
             "colorbar": {
              "outlinewidth": 0,
              "ticks": ""
             }
            },
            "type": "scattermap"
           }
          ],
          "scattermapbox": [
           {
            "marker": {
             "colorbar": {
              "outlinewidth": 0,
              "ticks": ""
             }
            },
            "type": "scattermapbox"
           }
          ],
          "scatterpolar": [
           {
            "marker": {
             "colorbar": {
              "outlinewidth": 0,
              "ticks": ""
             }
            },
            "type": "scatterpolar"
           }
          ],
          "scatterpolargl": [
           {
            "marker": {
             "colorbar": {
              "outlinewidth": 0,
              "ticks": ""
             }
            },
            "type": "scatterpolargl"
           }
          ],
          "scatterternary": [
           {
            "marker": {
             "colorbar": {
              "outlinewidth": 0,
              "ticks": ""
             }
            },
            "type": "scatterternary"
           }
          ],
          "surface": [
           {
            "colorbar": {
             "outlinewidth": 0,
             "ticks": ""
            },
            "colorscale": [
             [
              0,
              "#0d0887"
             ],
             [
              0.1111111111111111,
              "#46039f"
             ],
             [
              0.2222222222222222,
              "#7201a8"
             ],
             [
              0.3333333333333333,
              "#9c179e"
             ],
             [
              0.4444444444444444,
              "#bd3786"
             ],
             [
              0.5555555555555556,
              "#d8576b"
             ],
             [
              0.6666666666666666,
              "#ed7953"
             ],
             [
              0.7777777777777778,
              "#fb9f3a"
             ],
             [
              0.8888888888888888,
              "#fdca26"
             ],
             [
              1,
              "#f0f921"
             ]
            ],
            "type": "surface"
           }
          ],
          "table": [
           {
            "cells": {
             "fill": {
              "color": "#EBF0F8"
             },
             "line": {
              "color": "white"
             }
            },
            "header": {
             "fill": {
              "color": "#C8D4E3"
             },
             "line": {
              "color": "white"
             }
            },
            "type": "table"
           }
          ]
         },
         "layout": {
          "annotationdefaults": {
           "arrowcolor": "#2a3f5f",
           "arrowhead": 0,
           "arrowwidth": 1
          },
          "autotypenumbers": "strict",
          "coloraxis": {
           "colorbar": {
            "outlinewidth": 0,
            "ticks": ""
           }
          },
          "colorscale": {
           "diverging": [
            [
             0,
             "#8e0152"
            ],
            [
             0.1,
             "#c51b7d"
            ],
            [
             0.2,
             "#de77ae"
            ],
            [
             0.3,
             "#f1b6da"
            ],
            [
             0.4,
             "#fde0ef"
            ],
            [
             0.5,
             "#f7f7f7"
            ],
            [
             0.6,
             "#e6f5d0"
            ],
            [
             0.7,
             "#b8e186"
            ],
            [
             0.8,
             "#7fbc41"
            ],
            [
             0.9,
             "#4d9221"
            ],
            [
             1,
             "#276419"
            ]
           ],
           "sequential": [
            [
             0,
             "#0d0887"
            ],
            [
             0.1111111111111111,
             "#46039f"
            ],
            [
             0.2222222222222222,
             "#7201a8"
            ],
            [
             0.3333333333333333,
             "#9c179e"
            ],
            [
             0.4444444444444444,
             "#bd3786"
            ],
            [
             0.5555555555555556,
             "#d8576b"
            ],
            [
             0.6666666666666666,
             "#ed7953"
            ],
            [
             0.7777777777777778,
             "#fb9f3a"
            ],
            [
             0.8888888888888888,
             "#fdca26"
            ],
            [
             1,
             "#f0f921"
            ]
           ],
           "sequentialminus": [
            [
             0,
             "#0d0887"
            ],
            [
             0.1111111111111111,
             "#46039f"
            ],
            [
             0.2222222222222222,
             "#7201a8"
            ],
            [
             0.3333333333333333,
             "#9c179e"
            ],
            [
             0.4444444444444444,
             "#bd3786"
            ],
            [
             0.5555555555555556,
             "#d8576b"
            ],
            [
             0.6666666666666666,
             "#ed7953"
            ],
            [
             0.7777777777777778,
             "#fb9f3a"
            ],
            [
             0.8888888888888888,
             "#fdca26"
            ],
            [
             1,
             "#f0f921"
            ]
           ]
          },
          "colorway": [
           "#636efa",
           "#EF553B",
           "#00cc96",
           "#ab63fa",
           "#FFA15A",
           "#19d3f3",
           "#FF6692",
           "#B6E880",
           "#FF97FF",
           "#FECB52"
          ],
          "font": {
           "color": "#2a3f5f"
          },
          "geo": {
           "bgcolor": "white",
           "lakecolor": "white",
           "landcolor": "#E5ECF6",
           "showlakes": true,
           "showland": true,
           "subunitcolor": "white"
          },
          "hoverlabel": {
           "align": "left"
          },
          "hovermode": "closest",
          "mapbox": {
           "style": "light"
          },
          "paper_bgcolor": "white",
          "plot_bgcolor": "#E5ECF6",
          "polar": {
           "angularaxis": {
            "gridcolor": "white",
            "linecolor": "white",
            "ticks": ""
           },
           "bgcolor": "#E5ECF6",
           "radialaxis": {
            "gridcolor": "white",
            "linecolor": "white",
            "ticks": ""
           }
          },
          "scene": {
           "xaxis": {
            "backgroundcolor": "#E5ECF6",
            "gridcolor": "white",
            "gridwidth": 2,
            "linecolor": "white",
            "showbackground": true,
            "ticks": "",
            "zerolinecolor": "white"
           },
           "yaxis": {
            "backgroundcolor": "#E5ECF6",
            "gridcolor": "white",
            "gridwidth": 2,
            "linecolor": "white",
            "showbackground": true,
            "ticks": "",
            "zerolinecolor": "white"
           },
           "zaxis": {
            "backgroundcolor": "#E5ECF6",
            "gridcolor": "white",
            "gridwidth": 2,
            "linecolor": "white",
            "showbackground": true,
            "ticks": "",
            "zerolinecolor": "white"
           }
          },
          "shapedefaults": {
           "line": {
            "color": "#2a3f5f"
           }
          },
          "ternary": {
           "aaxis": {
            "gridcolor": "white",
            "linecolor": "white",
            "ticks": ""
           },
           "baxis": {
            "gridcolor": "white",
            "linecolor": "white",
            "ticks": ""
           },
           "bgcolor": "#E5ECF6",
           "caxis": {
            "gridcolor": "white",
            "linecolor": "white",
            "ticks": ""
           }
          },
          "title": {
           "x": 0.05
          },
          "xaxis": {
           "automargin": true,
           "gridcolor": "white",
           "linecolor": "white",
           "ticks": "",
           "title": {
            "standoff": 15
           },
           "zerolinecolor": "white",
           "zerolinewidth": 2
          },
          "yaxis": {
           "automargin": true,
           "gridcolor": "white",
           "linecolor": "white",
           "ticks": "",
           "title": {
            "standoff": 15
           },
           "zerolinecolor": "white",
           "zerolinewidth": 2
          }
         }
        },
        "title": {
         "text": "Execution time of ForecasterRecursiveMultiSeries__create_predict_inputs_exog_is_dict"
        },
        "xaxis": {
         "tickangle": -45,
         "tickmode": "array",
         "ticktext": [
          "0.13.0",
          "0.14.0",
          "0.15.1",
          "0.16.0"
         ],
         "tickvals": [
          0,
          1,
          2,
          3
         ],
         "title": {
          "text": "skforecast version"
         }
        },
        "yaxis": {
         "title": {
          "text": "Execution time (seconds)"
         }
        }
       }
      }
     },
     "metadata": {},
     "output_type": "display_data"
    },
    {
     "data": {
      "application/vnd.microsoft.datawrangler.viewer.v0+json": {
       "columns": [
        {
         "name": "index",
         "rawType": "int64",
         "type": "integer"
        },
        {
         "name": "forecaster_name",
         "rawType": "object",
         "type": "string"
        },
        {
         "name": "regressor_name",
         "rawType": "object",
         "type": "string"
        },
        {
         "name": "function_name",
         "rawType": "object",
         "type": "string"
        },
        {
         "name": "function_hash",
         "rawType": "object",
         "type": "string"
        },
        {
         "name": "run_time_avg",
         "rawType": "float64",
         "type": "float"
        },
        {
         "name": "run_time_std_dev",
         "rawType": "float64",
         "type": "float"
        },
        {
         "name": "datetime",
         "rawType": "datetime64[ns]",
         "type": "datetime"
        },
        {
         "name": "python_version",
         "rawType": "object",
         "type": "string"
        },
        {
         "name": "skforecast_version",
         "rawType": "object",
         "type": "string"
        },
        {
         "name": "numpy_version",
         "rawType": "object",
         "type": "string"
        },
        {
         "name": "pandas_version",
         "rawType": "object",
         "type": "string"
        },
        {
         "name": "sklearn_version",
         "rawType": "object",
         "type": "string"
        },
        {
         "name": "lightgbm_version",
         "rawType": "object",
         "type": "string"
        },
        {
         "name": "platform",
         "rawType": "object",
         "type": "string"
        },
        {
         "name": "processor",
         "rawType": "object",
         "type": "string"
        },
        {
         "name": "cpu_count",
         "rawType": "int64",
         "type": "integer"
        },
        {
         "name": "memory_gb",
         "rawType": "float64",
         "type": "float"
        }
       ],
       "conversionMethod": "pd.DataFrame",
       "ref": "dc621e5c-cea3-493c-905e-ad282743693c",
       "rows": [
        [
         "7",
         "ForecasterRecursiveMultiSeries",
         "LGBMRegressor",
         "ForecasterRecursiveMultiSeries__check_predict_inputs",
         "33fe67969d33981cb73558c1dc51eb82",
         "0.07525949259979825",
         "0.01146074942737528",
         "2025-04-23 15:05:55.423850",
         "3.12.9",
         "0.16.0",
         "2.2.5",
         "2.2.3",
         "1.6.1",
         "4.6.0",
         "Linux-6.11.0-21-generic-x86_64-with-glibc2.39",
         "x86_64",
         "8",
         "16.64"
        ],
        [
         "19",
         "ForecasterRecursiveMultiSeries",
         "LGBMRegressor",
         "ForecasterRecursiveMultiSeries__check_predict_inputs",
         "33fe67969d33981cb73558c1dc51eb82",
         "0.2854214671999216",
         "0.006975553480806837",
         "2025-04-23 15:11:59.234735",
         "3.12.9",
         "0.15.1",
         "2.2.5",
         "2.2.3",
         "1.6.1",
         "4.6.0",
         "Linux-6.11.0-21-generic-x86_64-with-glibc2.39",
         "x86_64",
         "8",
         "16.64"
        ],
        [
         "31",
         "ForecasterRecursiveMultiSeries",
         "LGBMRegressor",
         "ForecasterRecursiveMultiSeries__check_predict_inputs",
         "33fe67969d33981cb73558c1dc51eb82",
         "0.2920573258004879",
         "0.01775083122843596",
         "2025-04-23 15:15:54.517700",
         "3.12.9",
         "0.14.0",
         "2.2.5",
         "2.2.3",
         "1.6.1",
         "4.6.0",
         "Linux-6.11.0-21-generic-x86_64-with-glibc2.39",
         "x86_64",
         "8",
         "16.64"
        ],
        [
         "43",
         "ForecasterAutoregMultiSeries",
         "LGBMRegressor",
         "ForecasterRecursiveMultiSeries__check_predict_inputs",
         "33fe67969d33981cb73558c1dc51eb82",
         null,
         null,
         "2025-04-23 15:31:29.435634",
         "3.12.9",
         "0.13.0",
         "2.2.5",
         "2.2.3",
         "1.6.1",
         "4.6.0",
         "Linux-6.11.0-21-generic-x86_64-with-glibc2.39",
         "x86_64",
         "8",
         "16.64"
        ],
        [
         "55",
         "ForecasterAutoregMultiSeries",
         "LGBMRegressor",
         "ForecasterRecursiveMultiSeries__check_predict_inputs",
         "33fe67969d33981cb73558c1dc51eb82",
         null,
         null,
         "2025-04-23 15:41:02.236475",
         "3.12.9",
         "0.13.0",
         "2.2.5",
         "2.2.3",
         "1.6.1",
         "4.6.0",
         "Linux-6.11.0-21-generic-x86_64-with-glibc2.39",
         "x86_64",
         "8",
         "16.64"
        ],
        [
         "75",
         "ForecasterRecursiveMultiSeries",
         "LGBMRegressor",
         "ForecasterRecursiveMultiSeries__check_predict_inputs",
         "33fe67969d33981cb73558c1dc51eb82",
         "0.3202220286002557",
         "0.009128532248842533",
         "2025-04-23 15:56:48.439766",
         "3.12.9",
         "0.14.0",
         "2.2.5",
         "2.2.3",
         "1.6.1",
         "4.6.0",
         "Linux-6.11.0-21-generic-x86_64-with-glibc2.39",
         "x86_64",
         "8",
         "16.64"
        ],
        [
         "87",
         "ForecasterRecursiveMultiSeries",
         "LGBMRegressor",
         "ForecasterRecursiveMultiSeries__check_predict_inputs",
         "33fe67969d33981cb73558c1dc51eb82",
         "0.42247457839948765",
         "0.06922862902463336",
         "2025-04-23 16:01:00.604398",
         "3.12.9",
         "0.15.1",
         "2.2.5",
         "2.2.3",
         "1.6.1",
         "4.6.0",
         "Linux-6.11.0-21-generic-x86_64-with-glibc2.39",
         "x86_64",
         "8",
         "16.64"
        ],
        [
         "99",
         "ForecasterRecursiveMultiSeries",
         "LGBMRegressor",
         "ForecasterRecursiveMultiSeries__check_predict_inputs",
         "33fe67969d33981cb73558c1dc51eb82",
         "0.28809119639918207",
         "0.006006825654934848",
         "2025-04-23 16:05:29.787076",
         "3.12.9",
         "0.15.1",
         "2.2.5",
         "2.2.3",
         "1.6.1",
         "4.6.0",
         "Linux-6.11.0-21-generic-x86_64-with-glibc2.39",
         "x86_64",
         "8",
         "16.64"
        ],
        [
         "111",
         "ForecasterRecursiveMultiSeries",
         "LGBMRegressor",
         "ForecasterRecursiveMultiSeries__check_predict_inputs",
         "33fe67969d33981cb73558c1dc51eb82",
         "0.06820721039985074",
         "0.0007553701087683703",
         "2025-04-23 16:08:39.143474",
         "3.12.9",
         "0.16.0",
         "2.2.5",
         "2.2.3",
         "1.6.1",
         "4.6.0",
         "Linux-6.11.0-21-generic-x86_64-with-glibc2.39",
         "x86_64",
         "8",
         "16.64"
        ],
        [
         "123",
         "ForecasterRecursiveMultiSeries",
         "LGBMRegressor",
         "ForecasterRecursiveMultiSeries__check_predict_inputs",
         "33fe67969d33981cb73558c1dc51eb82",
         "0.07887087460003386",
         "0.014603916997661594",
         "2025-04-23 16:12:07.797771",
         "3.12.9",
         "0.16.0",
         "2.2.5",
         "2.2.3",
         "1.6.1",
         "4.6.0",
         "Linux-6.11.0-21-generic-x86_64-with-glibc2.39",
         "x86_64",
         "8",
         "16.64"
        ]
       ],
       "shape": {
        "columns": 17,
        "rows": 10
       }
      },
      "text/html": [
       "<div>\n",
       "<style scoped>\n",
       "    .dataframe tbody tr th:only-of-type {\n",
       "        vertical-align: middle;\n",
       "    }\n",
       "\n",
       "    .dataframe tbody tr th {\n",
       "        vertical-align: top;\n",
       "    }\n",
       "\n",
       "    .dataframe thead th {\n",
       "        text-align: right;\n",
       "    }\n",
       "</style>\n",
       "<table border=\"1\" class=\"dataframe\">\n",
       "  <thead>\n",
       "    <tr style=\"text-align: right;\">\n",
       "      <th></th>\n",
       "      <th>forecaster_name</th>\n",
       "      <th>regressor_name</th>\n",
       "      <th>function_name</th>\n",
       "      <th>function_hash</th>\n",
       "      <th>run_time_avg</th>\n",
       "      <th>run_time_std_dev</th>\n",
       "      <th>datetime</th>\n",
       "      <th>python_version</th>\n",
       "      <th>skforecast_version</th>\n",
       "      <th>numpy_version</th>\n",
       "      <th>pandas_version</th>\n",
       "      <th>sklearn_version</th>\n",
       "      <th>lightgbm_version</th>\n",
       "      <th>platform</th>\n",
       "      <th>processor</th>\n",
       "      <th>cpu_count</th>\n",
       "      <th>memory_gb</th>\n",
       "    </tr>\n",
       "  </thead>\n",
       "  <tbody>\n",
       "    <tr>\n",
       "      <th>7</th>\n",
       "      <td>ForecasterRecursiveMultiSeries</td>\n",
       "      <td>LGBMRegressor</td>\n",
       "      <td>ForecasterRecursiveMultiSeries__check_predict_...</td>\n",
       "      <td>33fe67969d33981cb73558c1dc51eb82</td>\n",
       "      <td>0.075259</td>\n",
       "      <td>0.011461</td>\n",
       "      <td>2025-04-23 15:05:55.423850</td>\n",
       "      <td>3.12.9</td>\n",
       "      <td>0.16.0</td>\n",
       "      <td>2.2.5</td>\n",
       "      <td>2.2.3</td>\n",
       "      <td>1.6.1</td>\n",
       "      <td>4.6.0</td>\n",
       "      <td>Linux-6.11.0-21-generic-x86_64-with-glibc2.39</td>\n",
       "      <td>x86_64</td>\n",
       "      <td>8</td>\n",
       "      <td>16.64</td>\n",
       "    </tr>\n",
       "    <tr>\n",
       "      <th>19</th>\n",
       "      <td>ForecasterRecursiveMultiSeries</td>\n",
       "      <td>LGBMRegressor</td>\n",
       "      <td>ForecasterRecursiveMultiSeries__check_predict_...</td>\n",
       "      <td>33fe67969d33981cb73558c1dc51eb82</td>\n",
       "      <td>0.285421</td>\n",
       "      <td>0.006976</td>\n",
       "      <td>2025-04-23 15:11:59.234735</td>\n",
       "      <td>3.12.9</td>\n",
       "      <td>0.15.1</td>\n",
       "      <td>2.2.5</td>\n",
       "      <td>2.2.3</td>\n",
       "      <td>1.6.1</td>\n",
       "      <td>4.6.0</td>\n",
       "      <td>Linux-6.11.0-21-generic-x86_64-with-glibc2.39</td>\n",
       "      <td>x86_64</td>\n",
       "      <td>8</td>\n",
       "      <td>16.64</td>\n",
       "    </tr>\n",
       "    <tr>\n",
       "      <th>31</th>\n",
       "      <td>ForecasterRecursiveMultiSeries</td>\n",
       "      <td>LGBMRegressor</td>\n",
       "      <td>ForecasterRecursiveMultiSeries__check_predict_...</td>\n",
       "      <td>33fe67969d33981cb73558c1dc51eb82</td>\n",
       "      <td>0.292057</td>\n",
       "      <td>0.017751</td>\n",
       "      <td>2025-04-23 15:15:54.517700</td>\n",
       "      <td>3.12.9</td>\n",
       "      <td>0.14.0</td>\n",
       "      <td>2.2.5</td>\n",
       "      <td>2.2.3</td>\n",
       "      <td>1.6.1</td>\n",
       "      <td>4.6.0</td>\n",
       "      <td>Linux-6.11.0-21-generic-x86_64-with-glibc2.39</td>\n",
       "      <td>x86_64</td>\n",
       "      <td>8</td>\n",
       "      <td>16.64</td>\n",
       "    </tr>\n",
       "    <tr>\n",
       "      <th>43</th>\n",
       "      <td>ForecasterAutoregMultiSeries</td>\n",
       "      <td>LGBMRegressor</td>\n",
       "      <td>ForecasterRecursiveMultiSeries__check_predict_...</td>\n",
       "      <td>33fe67969d33981cb73558c1dc51eb82</td>\n",
       "      <td>NaN</td>\n",
       "      <td>NaN</td>\n",
       "      <td>2025-04-23 15:31:29.435634</td>\n",
       "      <td>3.12.9</td>\n",
       "      <td>0.13.0</td>\n",
       "      <td>2.2.5</td>\n",
       "      <td>2.2.3</td>\n",
       "      <td>1.6.1</td>\n",
       "      <td>4.6.0</td>\n",
       "      <td>Linux-6.11.0-21-generic-x86_64-with-glibc2.39</td>\n",
       "      <td>x86_64</td>\n",
       "      <td>8</td>\n",
       "      <td>16.64</td>\n",
       "    </tr>\n",
       "    <tr>\n",
       "      <th>55</th>\n",
       "      <td>ForecasterAutoregMultiSeries</td>\n",
       "      <td>LGBMRegressor</td>\n",
       "      <td>ForecasterRecursiveMultiSeries__check_predict_...</td>\n",
       "      <td>33fe67969d33981cb73558c1dc51eb82</td>\n",
       "      <td>NaN</td>\n",
       "      <td>NaN</td>\n",
       "      <td>2025-04-23 15:41:02.236475</td>\n",
       "      <td>3.12.9</td>\n",
       "      <td>0.13.0</td>\n",
       "      <td>2.2.5</td>\n",
       "      <td>2.2.3</td>\n",
       "      <td>1.6.1</td>\n",
       "      <td>4.6.0</td>\n",
       "      <td>Linux-6.11.0-21-generic-x86_64-with-glibc2.39</td>\n",
       "      <td>x86_64</td>\n",
       "      <td>8</td>\n",
       "      <td>16.64</td>\n",
       "    </tr>\n",
       "    <tr>\n",
       "      <th>75</th>\n",
       "      <td>ForecasterRecursiveMultiSeries</td>\n",
       "      <td>LGBMRegressor</td>\n",
       "      <td>ForecasterRecursiveMultiSeries__check_predict_...</td>\n",
       "      <td>33fe67969d33981cb73558c1dc51eb82</td>\n",
       "      <td>0.320222</td>\n",
       "      <td>0.009129</td>\n",
       "      <td>2025-04-23 15:56:48.439766</td>\n",
       "      <td>3.12.9</td>\n",
       "      <td>0.14.0</td>\n",
       "      <td>2.2.5</td>\n",
       "      <td>2.2.3</td>\n",
       "      <td>1.6.1</td>\n",
       "      <td>4.6.0</td>\n",
       "      <td>Linux-6.11.0-21-generic-x86_64-with-glibc2.39</td>\n",
       "      <td>x86_64</td>\n",
       "      <td>8</td>\n",
       "      <td>16.64</td>\n",
       "    </tr>\n",
       "    <tr>\n",
       "      <th>87</th>\n",
       "      <td>ForecasterRecursiveMultiSeries</td>\n",
       "      <td>LGBMRegressor</td>\n",
       "      <td>ForecasterRecursiveMultiSeries__check_predict_...</td>\n",
       "      <td>33fe67969d33981cb73558c1dc51eb82</td>\n",
       "      <td>0.422475</td>\n",
       "      <td>0.069229</td>\n",
       "      <td>2025-04-23 16:01:00.604398</td>\n",
       "      <td>3.12.9</td>\n",
       "      <td>0.15.1</td>\n",
       "      <td>2.2.5</td>\n",
       "      <td>2.2.3</td>\n",
       "      <td>1.6.1</td>\n",
       "      <td>4.6.0</td>\n",
       "      <td>Linux-6.11.0-21-generic-x86_64-with-glibc2.39</td>\n",
       "      <td>x86_64</td>\n",
       "      <td>8</td>\n",
       "      <td>16.64</td>\n",
       "    </tr>\n",
       "    <tr>\n",
       "      <th>99</th>\n",
       "      <td>ForecasterRecursiveMultiSeries</td>\n",
       "      <td>LGBMRegressor</td>\n",
       "      <td>ForecasterRecursiveMultiSeries__check_predict_...</td>\n",
       "      <td>33fe67969d33981cb73558c1dc51eb82</td>\n",
       "      <td>0.288091</td>\n",
       "      <td>0.006007</td>\n",
       "      <td>2025-04-23 16:05:29.787076</td>\n",
       "      <td>3.12.9</td>\n",
       "      <td>0.15.1</td>\n",
       "      <td>2.2.5</td>\n",
       "      <td>2.2.3</td>\n",
       "      <td>1.6.1</td>\n",
       "      <td>4.6.0</td>\n",
       "      <td>Linux-6.11.0-21-generic-x86_64-with-glibc2.39</td>\n",
       "      <td>x86_64</td>\n",
       "      <td>8</td>\n",
       "      <td>16.64</td>\n",
       "    </tr>\n",
       "    <tr>\n",
       "      <th>111</th>\n",
       "      <td>ForecasterRecursiveMultiSeries</td>\n",
       "      <td>LGBMRegressor</td>\n",
       "      <td>ForecasterRecursiveMultiSeries__check_predict_...</td>\n",
       "      <td>33fe67969d33981cb73558c1dc51eb82</td>\n",
       "      <td>0.068207</td>\n",
       "      <td>0.000755</td>\n",
       "      <td>2025-04-23 16:08:39.143474</td>\n",
       "      <td>3.12.9</td>\n",
       "      <td>0.16.0</td>\n",
       "      <td>2.2.5</td>\n",
       "      <td>2.2.3</td>\n",
       "      <td>1.6.1</td>\n",
       "      <td>4.6.0</td>\n",
       "      <td>Linux-6.11.0-21-generic-x86_64-with-glibc2.39</td>\n",
       "      <td>x86_64</td>\n",
       "      <td>8</td>\n",
       "      <td>16.64</td>\n",
       "    </tr>\n",
       "    <tr>\n",
       "      <th>123</th>\n",
       "      <td>ForecasterRecursiveMultiSeries</td>\n",
       "      <td>LGBMRegressor</td>\n",
       "      <td>ForecasterRecursiveMultiSeries__check_predict_...</td>\n",
       "      <td>33fe67969d33981cb73558c1dc51eb82</td>\n",
       "      <td>0.078871</td>\n",
       "      <td>0.014604</td>\n",
       "      <td>2025-04-23 16:12:07.797771</td>\n",
       "      <td>3.12.9</td>\n",
       "      <td>0.16.0</td>\n",
       "      <td>2.2.5</td>\n",
       "      <td>2.2.3</td>\n",
       "      <td>1.6.1</td>\n",
       "      <td>4.6.0</td>\n",
       "      <td>Linux-6.11.0-21-generic-x86_64-with-glibc2.39</td>\n",
       "      <td>x86_64</td>\n",
       "      <td>8</td>\n",
       "      <td>16.64</td>\n",
       "    </tr>\n",
       "  </tbody>\n",
       "</table>\n",
       "</div>"
      ],
      "text/plain": [
       "                    forecaster_name regressor_name  \\\n",
       "7    ForecasterRecursiveMultiSeries  LGBMRegressor   \n",
       "19   ForecasterRecursiveMultiSeries  LGBMRegressor   \n",
       "31   ForecasterRecursiveMultiSeries  LGBMRegressor   \n",
       "43     ForecasterAutoregMultiSeries  LGBMRegressor   \n",
       "55     ForecasterAutoregMultiSeries  LGBMRegressor   \n",
       "75   ForecasterRecursiveMultiSeries  LGBMRegressor   \n",
       "87   ForecasterRecursiveMultiSeries  LGBMRegressor   \n",
       "99   ForecasterRecursiveMultiSeries  LGBMRegressor   \n",
       "111  ForecasterRecursiveMultiSeries  LGBMRegressor   \n",
       "123  ForecasterRecursiveMultiSeries  LGBMRegressor   \n",
       "\n",
       "                                         function_name  \\\n",
       "7    ForecasterRecursiveMultiSeries__check_predict_...   \n",
       "19   ForecasterRecursiveMultiSeries__check_predict_...   \n",
       "31   ForecasterRecursiveMultiSeries__check_predict_...   \n",
       "43   ForecasterRecursiveMultiSeries__check_predict_...   \n",
       "55   ForecasterRecursiveMultiSeries__check_predict_...   \n",
       "75   ForecasterRecursiveMultiSeries__check_predict_...   \n",
       "87   ForecasterRecursiveMultiSeries__check_predict_...   \n",
       "99   ForecasterRecursiveMultiSeries__check_predict_...   \n",
       "111  ForecasterRecursiveMultiSeries__check_predict_...   \n",
       "123  ForecasterRecursiveMultiSeries__check_predict_...   \n",
       "\n",
       "                        function_hash  run_time_avg  run_time_std_dev  \\\n",
       "7    33fe67969d33981cb73558c1dc51eb82      0.075259          0.011461   \n",
       "19   33fe67969d33981cb73558c1dc51eb82      0.285421          0.006976   \n",
       "31   33fe67969d33981cb73558c1dc51eb82      0.292057          0.017751   \n",
       "43   33fe67969d33981cb73558c1dc51eb82           NaN               NaN   \n",
       "55   33fe67969d33981cb73558c1dc51eb82           NaN               NaN   \n",
       "75   33fe67969d33981cb73558c1dc51eb82      0.320222          0.009129   \n",
       "87   33fe67969d33981cb73558c1dc51eb82      0.422475          0.069229   \n",
       "99   33fe67969d33981cb73558c1dc51eb82      0.288091          0.006007   \n",
       "111  33fe67969d33981cb73558c1dc51eb82      0.068207          0.000755   \n",
       "123  33fe67969d33981cb73558c1dc51eb82      0.078871          0.014604   \n",
       "\n",
       "                      datetime python_version skforecast_version  \\\n",
       "7   2025-04-23 15:05:55.423850         3.12.9             0.16.0   \n",
       "19  2025-04-23 15:11:59.234735         3.12.9             0.15.1   \n",
       "31  2025-04-23 15:15:54.517700         3.12.9             0.14.0   \n",
       "43  2025-04-23 15:31:29.435634         3.12.9             0.13.0   \n",
       "55  2025-04-23 15:41:02.236475         3.12.9             0.13.0   \n",
       "75  2025-04-23 15:56:48.439766         3.12.9             0.14.0   \n",
       "87  2025-04-23 16:01:00.604398         3.12.9             0.15.1   \n",
       "99  2025-04-23 16:05:29.787076         3.12.9             0.15.1   \n",
       "111 2025-04-23 16:08:39.143474         3.12.9             0.16.0   \n",
       "123 2025-04-23 16:12:07.797771         3.12.9             0.16.0   \n",
       "\n",
       "    numpy_version pandas_version sklearn_version lightgbm_version  \\\n",
       "7           2.2.5          2.2.3           1.6.1            4.6.0   \n",
       "19          2.2.5          2.2.3           1.6.1            4.6.0   \n",
       "31          2.2.5          2.2.3           1.6.1            4.6.0   \n",
       "43          2.2.5          2.2.3           1.6.1            4.6.0   \n",
       "55          2.2.5          2.2.3           1.6.1            4.6.0   \n",
       "75          2.2.5          2.2.3           1.6.1            4.6.0   \n",
       "87          2.2.5          2.2.3           1.6.1            4.6.0   \n",
       "99          2.2.5          2.2.3           1.6.1            4.6.0   \n",
       "111         2.2.5          2.2.3           1.6.1            4.6.0   \n",
       "123         2.2.5          2.2.3           1.6.1            4.6.0   \n",
       "\n",
       "                                          platform processor  cpu_count  \\\n",
       "7    Linux-6.11.0-21-generic-x86_64-with-glibc2.39    x86_64          8   \n",
       "19   Linux-6.11.0-21-generic-x86_64-with-glibc2.39    x86_64          8   \n",
       "31   Linux-6.11.0-21-generic-x86_64-with-glibc2.39    x86_64          8   \n",
       "43   Linux-6.11.0-21-generic-x86_64-with-glibc2.39    x86_64          8   \n",
       "55   Linux-6.11.0-21-generic-x86_64-with-glibc2.39    x86_64          8   \n",
       "75   Linux-6.11.0-21-generic-x86_64-with-glibc2.39    x86_64          8   \n",
       "87   Linux-6.11.0-21-generic-x86_64-with-glibc2.39    x86_64          8   \n",
       "99   Linux-6.11.0-21-generic-x86_64-with-glibc2.39    x86_64          8   \n",
       "111  Linux-6.11.0-21-generic-x86_64-with-glibc2.39    x86_64          8   \n",
       "123  Linux-6.11.0-21-generic-x86_64-with-glibc2.39    x86_64          8   \n",
       "\n",
       "     memory_gb  \n",
       "7        16.64  \n",
       "19       16.64  \n",
       "31       16.64  \n",
       "43       16.64  \n",
       "55       16.64  \n",
       "75       16.64  \n",
       "87       16.64  \n",
       "99       16.64  \n",
       "111      16.64  \n",
       "123      16.64  "
      ]
     },
     "metadata": {},
     "output_type": "display_data"
    },
    {
     "data": {
      "application/vnd.plotly.v1+json": {
       "config": {
        "plotlyServerURL": "https://plot.ly"
       },
       "data": [
        {
         "error_y": {
          "array": {
           "bdata": "AAAAAAAA+H8AAAAAAAD4fw==",
           "dtype": "f8"
          },
          "color": "#636EFA",
          "thickness": 1.5,
          "type": "data",
          "visible": true,
          "width": 5
         },
         "hovertemplate": "Version: 0.13.0<br>Runtime: %{y:.2f}s<extra></extra>",
         "marker": {
          "color": "#636EFA",
          "opacity": 0.7,
          "size": 10
         },
         "mode": "markers",
         "name": "Run time - 0.13.0",
         "showlegend": true,
         "type": "scatter",
         "x": {
          "bdata": "fByzX9/Fir9AKClBT8iAPw==",
          "dtype": "f8"
         },
         "y": {
          "bdata": "AAAAAAAA+H8AAAAAAAD4fw==",
          "dtype": "f8"
         }
        },
        {
         "error_y": {
          "array": {
           "bdata": "MGtpHkYtkj9lC8Hb+rGCPw==",
           "dtype": "f8"
          },
          "color": "#EF553B",
          "thickness": 1.5,
          "type": "data",
          "visible": true,
          "width": 5
         },
         "hovertemplate": "Version: 0.14.0<br>Runtime: %{y:.2f}s<extra></extra>",
         "marker": {
          "color": "#EF553B",
          "opacity": 0.7,
          "size": 10
         },
         "mode": "markers",
         "name": "Run time - 0.14.0",
         "showlegend": true,
         "type": "scatter",
         "x": {
          "bdata": "WsufM0wh8D/sid4cvavwPw==",
          "dtype": "f8"
         },
         "y": {
          "bdata": "M7O3NRGx0j8AABOJhH7UPw==",
          "dtype": "f8"
         }
        },
        {
         "error_y": {
          "array": {
           "bdata": "oyAl4WWSfD9Sk5up97ixPx782fucmng/",
           "dtype": "f8"
          },
          "color": "#00CC96",
          "thickness": 1.5,
          "type": "data",
          "visible": true,
          "width": 5
         },
         "hovertemplate": "Version: 0.15.1<br>Runtime: %{y:.2f}s<extra></extra>",
         "marker": {
          "color": "#00CC96",
          "opacity": 0.7,
          "size": 10
         },
         "mode": "markers",
         "name": "Run time - 0.15.1",
         "showlegend": true,
         "type": "scatter",
         "x": {
          "bdata": "o+edyHNh/z9etUcwD5P/PzyVwAXWKwBA",
          "dtype": "f8"
         },
         "y": {
          "bdata": "zczMZlhE0j8AgGfQ0gnbPzMzsw4WcNI/",
          "dtype": "f8"
         }
        },
        {
         "error_y": {
          "array": {
           "bdata": "+GjTv7t4hz9ZwO70gMBIPzQJMI+o6I0/",
           "dtype": "f8"
          },
          "color": "#AB63FA",
          "thickness": 1.5,
          "type": "data",
          "visible": true,
          "width": 5
         },
         "hovertemplate": "Version: 0.16.0<br>Runtime: %{y:.2f}s<extra></extra>",
         "marker": {
          "color": "#AB63FA",
          "opacity": 0.7,
          "size": 10
         },
         "mode": "markers",
         "name": "Run time - 0.16.0",
         "showlegend": true,
         "type": "scatter",
         "x": {
          "bdata": "BPQEQSs7CEBa7SFg/PsHQN1xRrJWNAhA",
          "dtype": "f8"
         },
         "y": {
          "bdata": "AABuwzREsz/NzAQaB3axP5qZA7PhMLQ/",
          "dtype": "f8"
         }
        },
        {
         "line": {
          "color": "black",
          "width": 2
         },
         "marker": {
          "color": "black",
          "size": 8
         },
         "mode": "lines+markers",
         "name": "Median (per version)",
         "type": "scatter",
         "x": {
          "bdata": "AAECAw==",
          "dtype": "i1"
         },
         "y": {
          "bdata": "AAAAAAAA+H+aWWXfypfTPzMzsw4WcNI/AABuwzREsz8=",
          "dtype": "f8"
         }
        }
       ],
       "layout": {
        "showlegend": true,
        "template": {
         "data": {
          "bar": [
           {
            "error_x": {
             "color": "#2a3f5f"
            },
            "error_y": {
             "color": "#2a3f5f"
            },
            "marker": {
             "line": {
              "color": "#E5ECF6",
              "width": 0.5
             },
             "pattern": {
              "fillmode": "overlay",
              "size": 10,
              "solidity": 0.2
             }
            },
            "type": "bar"
           }
          ],
          "barpolar": [
           {
            "marker": {
             "line": {
              "color": "#E5ECF6",
              "width": 0.5
             },
             "pattern": {
              "fillmode": "overlay",
              "size": 10,
              "solidity": 0.2
             }
            },
            "type": "barpolar"
           }
          ],
          "carpet": [
           {
            "aaxis": {
             "endlinecolor": "#2a3f5f",
             "gridcolor": "white",
             "linecolor": "white",
             "minorgridcolor": "white",
             "startlinecolor": "#2a3f5f"
            },
            "baxis": {
             "endlinecolor": "#2a3f5f",
             "gridcolor": "white",
             "linecolor": "white",
             "minorgridcolor": "white",
             "startlinecolor": "#2a3f5f"
            },
            "type": "carpet"
           }
          ],
          "choropleth": [
           {
            "colorbar": {
             "outlinewidth": 0,
             "ticks": ""
            },
            "type": "choropleth"
           }
          ],
          "contour": [
           {
            "colorbar": {
             "outlinewidth": 0,
             "ticks": ""
            },
            "colorscale": [
             [
              0,
              "#0d0887"
             ],
             [
              0.1111111111111111,
              "#46039f"
             ],
             [
              0.2222222222222222,
              "#7201a8"
             ],
             [
              0.3333333333333333,
              "#9c179e"
             ],
             [
              0.4444444444444444,
              "#bd3786"
             ],
             [
              0.5555555555555556,
              "#d8576b"
             ],
             [
              0.6666666666666666,
              "#ed7953"
             ],
             [
              0.7777777777777778,
              "#fb9f3a"
             ],
             [
              0.8888888888888888,
              "#fdca26"
             ],
             [
              1,
              "#f0f921"
             ]
            ],
            "type": "contour"
           }
          ],
          "contourcarpet": [
           {
            "colorbar": {
             "outlinewidth": 0,
             "ticks": ""
            },
            "type": "contourcarpet"
           }
          ],
          "heatmap": [
           {
            "colorbar": {
             "outlinewidth": 0,
             "ticks": ""
            },
            "colorscale": [
             [
              0,
              "#0d0887"
             ],
             [
              0.1111111111111111,
              "#46039f"
             ],
             [
              0.2222222222222222,
              "#7201a8"
             ],
             [
              0.3333333333333333,
              "#9c179e"
             ],
             [
              0.4444444444444444,
              "#bd3786"
             ],
             [
              0.5555555555555556,
              "#d8576b"
             ],
             [
              0.6666666666666666,
              "#ed7953"
             ],
             [
              0.7777777777777778,
              "#fb9f3a"
             ],
             [
              0.8888888888888888,
              "#fdca26"
             ],
             [
              1,
              "#f0f921"
             ]
            ],
            "type": "heatmap"
           }
          ],
          "histogram": [
           {
            "marker": {
             "pattern": {
              "fillmode": "overlay",
              "size": 10,
              "solidity": 0.2
             }
            },
            "type": "histogram"
           }
          ],
          "histogram2d": [
           {
            "colorbar": {
             "outlinewidth": 0,
             "ticks": ""
            },
            "colorscale": [
             [
              0,
              "#0d0887"
             ],
             [
              0.1111111111111111,
              "#46039f"
             ],
             [
              0.2222222222222222,
              "#7201a8"
             ],
             [
              0.3333333333333333,
              "#9c179e"
             ],
             [
              0.4444444444444444,
              "#bd3786"
             ],
             [
              0.5555555555555556,
              "#d8576b"
             ],
             [
              0.6666666666666666,
              "#ed7953"
             ],
             [
              0.7777777777777778,
              "#fb9f3a"
             ],
             [
              0.8888888888888888,
              "#fdca26"
             ],
             [
              1,
              "#f0f921"
             ]
            ],
            "type": "histogram2d"
           }
          ],
          "histogram2dcontour": [
           {
            "colorbar": {
             "outlinewidth": 0,
             "ticks": ""
            },
            "colorscale": [
             [
              0,
              "#0d0887"
             ],
             [
              0.1111111111111111,
              "#46039f"
             ],
             [
              0.2222222222222222,
              "#7201a8"
             ],
             [
              0.3333333333333333,
              "#9c179e"
             ],
             [
              0.4444444444444444,
              "#bd3786"
             ],
             [
              0.5555555555555556,
              "#d8576b"
             ],
             [
              0.6666666666666666,
              "#ed7953"
             ],
             [
              0.7777777777777778,
              "#fb9f3a"
             ],
             [
              0.8888888888888888,
              "#fdca26"
             ],
             [
              1,
              "#f0f921"
             ]
            ],
            "type": "histogram2dcontour"
           }
          ],
          "mesh3d": [
           {
            "colorbar": {
             "outlinewidth": 0,
             "ticks": ""
            },
            "type": "mesh3d"
           }
          ],
          "parcoords": [
           {
            "line": {
             "colorbar": {
              "outlinewidth": 0,
              "ticks": ""
             }
            },
            "type": "parcoords"
           }
          ],
          "pie": [
           {
            "automargin": true,
            "type": "pie"
           }
          ],
          "scatter": [
           {
            "fillpattern": {
             "fillmode": "overlay",
             "size": 10,
             "solidity": 0.2
            },
            "type": "scatter"
           }
          ],
          "scatter3d": [
           {
            "line": {
             "colorbar": {
              "outlinewidth": 0,
              "ticks": ""
             }
            },
            "marker": {
             "colorbar": {
              "outlinewidth": 0,
              "ticks": ""
             }
            },
            "type": "scatter3d"
           }
          ],
          "scattercarpet": [
           {
            "marker": {
             "colorbar": {
              "outlinewidth": 0,
              "ticks": ""
             }
            },
            "type": "scattercarpet"
           }
          ],
          "scattergeo": [
           {
            "marker": {
             "colorbar": {
              "outlinewidth": 0,
              "ticks": ""
             }
            },
            "type": "scattergeo"
           }
          ],
          "scattergl": [
           {
            "marker": {
             "colorbar": {
              "outlinewidth": 0,
              "ticks": ""
             }
            },
            "type": "scattergl"
           }
          ],
          "scattermap": [
           {
            "marker": {
             "colorbar": {
              "outlinewidth": 0,
              "ticks": ""
             }
            },
            "type": "scattermap"
           }
          ],
          "scattermapbox": [
           {
            "marker": {
             "colorbar": {
              "outlinewidth": 0,
              "ticks": ""
             }
            },
            "type": "scattermapbox"
           }
          ],
          "scatterpolar": [
           {
            "marker": {
             "colorbar": {
              "outlinewidth": 0,
              "ticks": ""
             }
            },
            "type": "scatterpolar"
           }
          ],
          "scatterpolargl": [
           {
            "marker": {
             "colorbar": {
              "outlinewidth": 0,
              "ticks": ""
             }
            },
            "type": "scatterpolargl"
           }
          ],
          "scatterternary": [
           {
            "marker": {
             "colorbar": {
              "outlinewidth": 0,
              "ticks": ""
             }
            },
            "type": "scatterternary"
           }
          ],
          "surface": [
           {
            "colorbar": {
             "outlinewidth": 0,
             "ticks": ""
            },
            "colorscale": [
             [
              0,
              "#0d0887"
             ],
             [
              0.1111111111111111,
              "#46039f"
             ],
             [
              0.2222222222222222,
              "#7201a8"
             ],
             [
              0.3333333333333333,
              "#9c179e"
             ],
             [
              0.4444444444444444,
              "#bd3786"
             ],
             [
              0.5555555555555556,
              "#d8576b"
             ],
             [
              0.6666666666666666,
              "#ed7953"
             ],
             [
              0.7777777777777778,
              "#fb9f3a"
             ],
             [
              0.8888888888888888,
              "#fdca26"
             ],
             [
              1,
              "#f0f921"
             ]
            ],
            "type": "surface"
           }
          ],
          "table": [
           {
            "cells": {
             "fill": {
              "color": "#EBF0F8"
             },
             "line": {
              "color": "white"
             }
            },
            "header": {
             "fill": {
              "color": "#C8D4E3"
             },
             "line": {
              "color": "white"
             }
            },
            "type": "table"
           }
          ]
         },
         "layout": {
          "annotationdefaults": {
           "arrowcolor": "#2a3f5f",
           "arrowhead": 0,
           "arrowwidth": 1
          },
          "autotypenumbers": "strict",
          "coloraxis": {
           "colorbar": {
            "outlinewidth": 0,
            "ticks": ""
           }
          },
          "colorscale": {
           "diverging": [
            [
             0,
             "#8e0152"
            ],
            [
             0.1,
             "#c51b7d"
            ],
            [
             0.2,
             "#de77ae"
            ],
            [
             0.3,
             "#f1b6da"
            ],
            [
             0.4,
             "#fde0ef"
            ],
            [
             0.5,
             "#f7f7f7"
            ],
            [
             0.6,
             "#e6f5d0"
            ],
            [
             0.7,
             "#b8e186"
            ],
            [
             0.8,
             "#7fbc41"
            ],
            [
             0.9,
             "#4d9221"
            ],
            [
             1,
             "#276419"
            ]
           ],
           "sequential": [
            [
             0,
             "#0d0887"
            ],
            [
             0.1111111111111111,
             "#46039f"
            ],
            [
             0.2222222222222222,
             "#7201a8"
            ],
            [
             0.3333333333333333,
             "#9c179e"
            ],
            [
             0.4444444444444444,
             "#bd3786"
            ],
            [
             0.5555555555555556,
             "#d8576b"
            ],
            [
             0.6666666666666666,
             "#ed7953"
            ],
            [
             0.7777777777777778,
             "#fb9f3a"
            ],
            [
             0.8888888888888888,
             "#fdca26"
            ],
            [
             1,
             "#f0f921"
            ]
           ],
           "sequentialminus": [
            [
             0,
             "#0d0887"
            ],
            [
             0.1111111111111111,
             "#46039f"
            ],
            [
             0.2222222222222222,
             "#7201a8"
            ],
            [
             0.3333333333333333,
             "#9c179e"
            ],
            [
             0.4444444444444444,
             "#bd3786"
            ],
            [
             0.5555555555555556,
             "#d8576b"
            ],
            [
             0.6666666666666666,
             "#ed7953"
            ],
            [
             0.7777777777777778,
             "#fb9f3a"
            ],
            [
             0.8888888888888888,
             "#fdca26"
            ],
            [
             1,
             "#f0f921"
            ]
           ]
          },
          "colorway": [
           "#636efa",
           "#EF553B",
           "#00cc96",
           "#ab63fa",
           "#FFA15A",
           "#19d3f3",
           "#FF6692",
           "#B6E880",
           "#FF97FF",
           "#FECB52"
          ],
          "font": {
           "color": "#2a3f5f"
          },
          "geo": {
           "bgcolor": "white",
           "lakecolor": "white",
           "landcolor": "#E5ECF6",
           "showlakes": true,
           "showland": true,
           "subunitcolor": "white"
          },
          "hoverlabel": {
           "align": "left"
          },
          "hovermode": "closest",
          "mapbox": {
           "style": "light"
          },
          "paper_bgcolor": "white",
          "plot_bgcolor": "#E5ECF6",
          "polar": {
           "angularaxis": {
            "gridcolor": "white",
            "linecolor": "white",
            "ticks": ""
           },
           "bgcolor": "#E5ECF6",
           "radialaxis": {
            "gridcolor": "white",
            "linecolor": "white",
            "ticks": ""
           }
          },
          "scene": {
           "xaxis": {
            "backgroundcolor": "#E5ECF6",
            "gridcolor": "white",
            "gridwidth": 2,
            "linecolor": "white",
            "showbackground": true,
            "ticks": "",
            "zerolinecolor": "white"
           },
           "yaxis": {
            "backgroundcolor": "#E5ECF6",
            "gridcolor": "white",
            "gridwidth": 2,
            "linecolor": "white",
            "showbackground": true,
            "ticks": "",
            "zerolinecolor": "white"
           },
           "zaxis": {
            "backgroundcolor": "#E5ECF6",
            "gridcolor": "white",
            "gridwidth": 2,
            "linecolor": "white",
            "showbackground": true,
            "ticks": "",
            "zerolinecolor": "white"
           }
          },
          "shapedefaults": {
           "line": {
            "color": "#2a3f5f"
           }
          },
          "ternary": {
           "aaxis": {
            "gridcolor": "white",
            "linecolor": "white",
            "ticks": ""
           },
           "baxis": {
            "gridcolor": "white",
            "linecolor": "white",
            "ticks": ""
           },
           "bgcolor": "#E5ECF6",
           "caxis": {
            "gridcolor": "white",
            "linecolor": "white",
            "ticks": ""
           }
          },
          "title": {
           "x": 0.05
          },
          "xaxis": {
           "automargin": true,
           "gridcolor": "white",
           "linecolor": "white",
           "ticks": "",
           "title": {
            "standoff": 15
           },
           "zerolinecolor": "white",
           "zerolinewidth": 2
          },
          "yaxis": {
           "automargin": true,
           "gridcolor": "white",
           "linecolor": "white",
           "ticks": "",
           "title": {
            "standoff": 15
           },
           "zerolinecolor": "white",
           "zerolinewidth": 2
          }
         }
        },
        "title": {
         "text": "Execution time of ForecasterRecursiveMultiSeries__check_predict_inputs"
        },
        "xaxis": {
         "tickangle": -45,
         "tickmode": "array",
         "ticktext": [
          "0.13.0",
          "0.14.0",
          "0.15.1",
          "0.16.0"
         ],
         "tickvals": [
          0,
          1,
          2,
          3
         ],
         "title": {
          "text": "skforecast version"
         }
        },
        "yaxis": {
         "title": {
          "text": "Execution time (seconds)"
         }
        }
       }
      }
     },
     "metadata": {},
     "output_type": "display_data"
    }
   ],
   "source": [
    "# Plot results\n",
    "# ==============================================================================\n",
    "results_benchmark_all = joblib.load(\"benchmarks/benchmark.joblib\")\n",
    "results_benchmark = results_benchmark_all.query(\"forecaster_name in ['ForecasterRecursiveMultiSeries', 'ForecasterAutoregMultiSeries']\").copy()\n",
    "results_benchmark = results_benchmark.query(\"regressor_name == 'LGBMRegressor'\").copy()\n",
    "for function_name in results_benchmark['function_name'].unique():\n",
    "    df = results_benchmark.query(f\"function_name == '{function_name}'\").copy()\n",
    "    display(df)\n",
    "    plot_benchmark_results(df, function_name)"
   ]
  },
  {
   "cell_type": "markdown",
   "metadata": {},
   "source": [
    "# ForecasterRecursive"
   ]
  },
  {
   "cell_type": "code",
   "execution_count": 10,
   "metadata": {},
   "outputs": [],
   "source": [
    "# Mock data for benchmarking\n",
    "# ==========================================================\n",
    "len_series = 2000\n",
    "rng = np.random.default_rng(321)\n",
    "y = pd.Series(\n",
    "        data = rng.normal(loc=20, scale=5, size=len_series),\n",
    "        index=pd.date_range(\n",
    "            start='2010-01-01',\n",
    "            periods=len_series,\n",
    "            freq='h'\n",
    "        ),\n",
    "        name='y'\n",
    "    )\n",
    "rng = np.random.default_rng(321)\n",
    "exog = pd.DataFrame(index=y.index)\n",
    "exog['day_of_week'] = exog.index.dayofweek\n",
    "exog['week_of_year'] = exog.index.isocalendar().week.astype(int)\n",
    "exog['month'] = exog.index.month\n",
    "exog_prediction = pd.DataFrame(\n",
    "                    index=pd.date_range(\n",
    "                        start=series_dict[k].index.max() + pd.Timedelta(hours=1),\n",
    "                        periods=100,\n",
    "                        freq='h'\n",
    "                    )\n",
    "                 ) \n",
    "exog_prediction['day_of_week'] = exog_prediction.index.dayofweek\n",
    "exog_prediction['week_of_year'] = exog_prediction.index.isocalendar().week.astype(int)\n",
    "exog_prediction['month'] = exog_prediction.index.month"
   ]
  },
  {
   "cell_type": "code",
   "execution_count": 11,
   "metadata": {},
   "outputs": [
    {
     "name": "stdout",
     "output_type": "stream",
     "text": [
      "Benchmarking function: ForecasterRecursive_fit with skforecast version 0.16.0\n",
      "Benchmarking function: ForecasterRecursive__create_train_X_y with skforecast version 0.16.0\n",
      "Benchmarking function: ForecasterRecursive_predict with skforecast version 0.16.0\n",
      "Benchmarking function: ForecasterRecursive__create_predict_inputs with skforecast version 0.16.0\n"
     ]
    }
   ],
   "source": [
    "# Benchmarking speed ForecasterRecursive\n",
    "# ==============================================================================\n",
    "if skforecast.__version__ >= '0.14.0':\n",
    "    forecaster = ForecasterRecursive(\n",
    "        regressor=regressor,\n",
    "        lags=50,\n",
    "        transformer_y=StandardScaler(),\n",
    "        transformer_exog=StandardScaler(),\n",
    "    )\n",
    "else:\n",
    "     forecaster = ForecasterAutoreg(\n",
    "        regressor=regressor,\n",
    "        lags=50,\n",
    "        transformer_y=StandardScaler(),\n",
    "        transformer_exog=StandardScaler(),\n",
    "    )\n",
    "\n",
    "def ForecasterRecursive_fit():\n",
    "    forecaster.fit(y=y, exog=exog)\n",
    "\n",
    "def ForecasterRecursive__create_train_X_y():\n",
    "    if skforecast.__version__ >= '0.14.0':\n",
    "        forecaster._create_train_X_y(y=y, exog=exog)\n",
    "    else:\n",
    "        forecaster.create_train_X_y(y=y, exog=exog)\n",
    "\n",
    "\n",
    "def ForecasterRecursive_predict():\n",
    "    forecaster.predict(steps=100, exog=exog_prediction)\n",
    "\n",
    "def ForecasterRecursive__create_predict_inputs():\n",
    "    _ = forecaster._create_predict_inputs(\n",
    "            steps        = 100,\n",
    "            exog         = exog_prediction,\n",
    "            check_inputs = True\n",
    "        )\n",
    "\n",
    "\n",
    "runner = BenchmarkRunner(repeat=10, output_dir=\"benchmarks\")\n",
    "_ = runner.benchmark(ForecasterRecursive_fit, forecaster= forecaster)\n",
    "_ = runner.benchmark(ForecasterRecursive__create_train_X_y, forecaster= forecaster)\n",
    "forecaster.fit(y=y, exog=exog)\n",
    "_ = runner.benchmark(ForecasterRecursive_predict, forecaster= forecaster)\n",
    "_ = runner.benchmark(ForecasterRecursive__create_predict_inputs, forecaster= forecaster)"
   ]
  },
  {
   "cell_type": "code",
   "execution_count": 12,
   "metadata": {},
   "outputs": [
    {
     "data": {
      "application/vnd.microsoft.datawrangler.viewer.v0+json": {
       "columns": [
        {
         "name": "index",
         "rawType": "int64",
         "type": "integer"
        },
        {
         "name": "forecaster_name",
         "rawType": "object",
         "type": "string"
        },
        {
         "name": "regressor_name",
         "rawType": "object",
         "type": "string"
        },
        {
         "name": "function_name",
         "rawType": "object",
         "type": "string"
        },
        {
         "name": "function_hash",
         "rawType": "object",
         "type": "string"
        },
        {
         "name": "run_time_avg",
         "rawType": "float64",
         "type": "float"
        },
        {
         "name": "run_time_std_dev",
         "rawType": "float64",
         "type": "float"
        },
        {
         "name": "datetime",
         "rawType": "datetime64[ns]",
         "type": "datetime"
        },
        {
         "name": "python_version",
         "rawType": "object",
         "type": "string"
        },
        {
         "name": "skforecast_version",
         "rawType": "object",
         "type": "string"
        },
        {
         "name": "numpy_version",
         "rawType": "object",
         "type": "string"
        },
        {
         "name": "pandas_version",
         "rawType": "object",
         "type": "string"
        },
        {
         "name": "sklearn_version",
         "rawType": "object",
         "type": "string"
        },
        {
         "name": "lightgbm_version",
         "rawType": "object",
         "type": "string"
        },
        {
         "name": "platform",
         "rawType": "object",
         "type": "string"
        },
        {
         "name": "processor",
         "rawType": "object",
         "type": "string"
        },
        {
         "name": "cpu_count",
         "rawType": "int64",
         "type": "integer"
        },
        {
         "name": "memory_gb",
         "rawType": "float64",
         "type": "float"
        }
       ],
       "conversionMethod": "pd.DataFrame",
       "ref": "a3eecdb9-4306-4b73-9cc3-2675d0784dab",
       "rows": [
        [
         "8",
         "ForecasterRecursive",
         "LGBMRegressor",
         "ForecasterRecursive_fit",
         "3a6496af8f14196a05b301212de078f0",
         "0.20004566459992928",
         "0.021582108257661926",
         "2025-04-23 15:05:56.608429",
         "3.12.9",
         "0.16.0",
         "2.2.5",
         "2.2.3",
         "1.6.1",
         "4.6.0",
         "Linux-6.11.0-21-generic-x86_64-with-glibc2.39",
         "x86_64",
         "8",
         "16.64"
        ],
        [
         "20",
         "ForecasterRecursive",
         "LGBMRegressor",
         "ForecasterRecursive_fit",
         "3a6496af8f14196a05b301212de078f0",
         "0.19168488579998666",
         "0.04610227278035775",
         "2025-04-23 15:12:01.602347",
         "3.12.9",
         "0.15.1",
         "2.2.5",
         "2.2.3",
         "1.6.1",
         "4.6.0",
         "Linux-6.11.0-21-generic-x86_64-with-glibc2.39",
         "x86_64",
         "8",
         "16.64"
        ],
        [
         "32",
         "ForecasterRecursive",
         "LGBMRegressor",
         "ForecasterRecursive_fit",
         "3a6496af8f14196a05b301212de078f0",
         "0.20117437220014836",
         "0.04040134970397583",
         "2025-04-23 15:15:57.129152",
         "3.12.9",
         "0.14.0",
         "2.2.5",
         "2.2.3",
         "1.6.1",
         "4.6.0",
         "Linux-6.11.0-21-generic-x86_64-with-glibc2.39",
         "x86_64",
         "8",
         "16.64"
        ],
        [
         "44",
         "ForecasterAutoreg",
         "LGBMRegressor",
         "ForecasterRecursive_fit",
         "3a6496af8f14196a05b301212de078f0",
         "0.2364300502003971",
         "0.03953391176633617",
         "2025-04-23 15:31:29.965594",
         "3.12.9",
         "0.13.0",
         "2.2.5",
         "2.2.3",
         "1.6.1",
         "4.6.0",
         "Linux-6.11.0-21-generic-x86_64-with-glibc2.39",
         "x86_64",
         "8",
         "16.64"
        ],
        [
         "56",
         "ForecasterAutoreg",
         "LGBMRegressor",
         "ForecasterRecursive_fit",
         "3a6496af8f14196a05b301212de078f0",
         "0.2554304649998812",
         "0.06043131100746301",
         "2025-04-23 15:41:03.640028",
         "3.12.9",
         "0.13.0",
         "2.2.5",
         "2.2.3",
         "1.6.1",
         "4.6.0",
         "Linux-6.11.0-21-generic-x86_64-with-glibc2.39",
         "x86_64",
         "8",
         "16.64"
        ],
        [
         "60",
         "ForecasterAutoreg",
         "LGBMRegressor",
         "ForecasterRecursive_fit",
         "3a6496af8f14196a05b301212de078f0",
         "0.21746507419975386",
         "0.029840878269690212",
         "2025-04-23 15:46:05.440298",
         "3.12.9",
         "0.13.0",
         "2.2.5",
         "2.2.3",
         "1.6.1",
         "4.6.0",
         "Linux-6.11.0-21-generic-x86_64-with-glibc2.39",
         "x86_64",
         "8",
         "16.64"
        ],
        [
         "64",
         "ForecasterAutoreg",
         "LGBMRegressor",
         "ForecasterRecursive_fit",
         "3a6496af8f14196a05b301212de078f0",
         "0.21094307320036024",
         "0.030715529927138455",
         "2025-04-23 15:46:38.741227",
         "3.12.9",
         "0.13.0",
         "2.2.5",
         "2.2.3",
         "1.6.1",
         "4.6.0",
         "Linux-6.11.0-21-generic-x86_64-with-glibc2.39",
         "x86_64",
         "8",
         "16.64"
        ],
        [
         "76",
         "ForecasterRecursive",
         "LGBMRegressor",
         "ForecasterRecursive_fit",
         "3a6496af8f14196a05b301212de078f0",
         "0.27542679399975895",
         "0.03465689110389255",
         "2025-04-23 15:56:50.851427",
         "3.12.9",
         "0.14.0",
         "2.2.5",
         "2.2.3",
         "1.6.1",
         "4.6.0",
         "Linux-6.11.0-21-generic-x86_64-with-glibc2.39",
         "x86_64",
         "8",
         "16.64"
        ],
        [
         "88",
         "ForecasterRecursive",
         "LGBMRegressor",
         "ForecasterRecursive_fit",
         "3a6496af8f14196a05b301212de078f0",
         "0.2741355438996834",
         "0.0746945644295196",
         "2025-04-23 16:01:03.371465",
         "3.12.9",
         "0.15.1",
         "2.2.5",
         "2.2.3",
         "1.6.1",
         "4.6.0",
         "Linux-6.11.0-21-generic-x86_64-with-glibc2.39",
         "x86_64",
         "8",
         "16.64"
        ],
        [
         "100",
         "ForecasterRecursive",
         "LGBMRegressor",
         "ForecasterRecursive_fit",
         "3a6496af8f14196a05b301212de078f0",
         "0.19310888220024935",
         "0.022946933467731908",
         "2025-04-23 16:05:31.689260",
         "3.12.9",
         "0.15.1",
         "2.2.5",
         "2.2.3",
         "1.6.1",
         "4.6.0",
         "Linux-6.11.0-21-generic-x86_64-with-glibc2.39",
         "x86_64",
         "8",
         "16.64"
        ],
        [
         "112",
         "ForecasterRecursive",
         "LGBMRegressor",
         "ForecasterRecursive_fit",
         "3a6496af8f14196a05b301212de078f0",
         "0.2650022007001098",
         "0.047268272927227496",
         "2025-04-23 16:08:40.132074",
         "3.12.9",
         "0.16.0",
         "2.2.5",
         "2.2.3",
         "1.6.1",
         "4.6.0",
         "Linux-6.11.0-21-generic-x86_64-with-glibc2.39",
         "x86_64",
         "8",
         "16.64"
        ],
        [
         "124",
         "ForecasterRecursive",
         "LGBMRegressor",
         "ForecasterRecursive_fit",
         "3a6496af8f14196a05b301212de078f0",
         "0.21674900990019524",
         "0.03693928850645679",
         "2025-04-23 16:12:08.671273",
         "3.12.9",
         "0.16.0",
         "2.2.5",
         "2.2.3",
         "1.6.1",
         "4.6.0",
         "Linux-6.11.0-21-generic-x86_64-with-glibc2.39",
         "x86_64",
         "8",
         "16.64"
        ]
       ],
       "shape": {
        "columns": 17,
        "rows": 12
       }
      },
      "text/html": [
       "<div>\n",
       "<style scoped>\n",
       "    .dataframe tbody tr th:only-of-type {\n",
       "        vertical-align: middle;\n",
       "    }\n",
       "\n",
       "    .dataframe tbody tr th {\n",
       "        vertical-align: top;\n",
       "    }\n",
       "\n",
       "    .dataframe thead th {\n",
       "        text-align: right;\n",
       "    }\n",
       "</style>\n",
       "<table border=\"1\" class=\"dataframe\">\n",
       "  <thead>\n",
       "    <tr style=\"text-align: right;\">\n",
       "      <th></th>\n",
       "      <th>forecaster_name</th>\n",
       "      <th>regressor_name</th>\n",
       "      <th>function_name</th>\n",
       "      <th>function_hash</th>\n",
       "      <th>run_time_avg</th>\n",
       "      <th>run_time_std_dev</th>\n",
       "      <th>datetime</th>\n",
       "      <th>python_version</th>\n",
       "      <th>skforecast_version</th>\n",
       "      <th>numpy_version</th>\n",
       "      <th>pandas_version</th>\n",
       "      <th>sklearn_version</th>\n",
       "      <th>lightgbm_version</th>\n",
       "      <th>platform</th>\n",
       "      <th>processor</th>\n",
       "      <th>cpu_count</th>\n",
       "      <th>memory_gb</th>\n",
       "    </tr>\n",
       "  </thead>\n",
       "  <tbody>\n",
       "    <tr>\n",
       "      <th>8</th>\n",
       "      <td>ForecasterRecursive</td>\n",
       "      <td>LGBMRegressor</td>\n",
       "      <td>ForecasterRecursive_fit</td>\n",
       "      <td>3a6496af8f14196a05b301212de078f0</td>\n",
       "      <td>0.200046</td>\n",
       "      <td>0.021582</td>\n",
       "      <td>2025-04-23 15:05:56.608429</td>\n",
       "      <td>3.12.9</td>\n",
       "      <td>0.16.0</td>\n",
       "      <td>2.2.5</td>\n",
       "      <td>2.2.3</td>\n",
       "      <td>1.6.1</td>\n",
       "      <td>4.6.0</td>\n",
       "      <td>Linux-6.11.0-21-generic-x86_64-with-glibc2.39</td>\n",
       "      <td>x86_64</td>\n",
       "      <td>8</td>\n",
       "      <td>16.64</td>\n",
       "    </tr>\n",
       "    <tr>\n",
       "      <th>20</th>\n",
       "      <td>ForecasterRecursive</td>\n",
       "      <td>LGBMRegressor</td>\n",
       "      <td>ForecasterRecursive_fit</td>\n",
       "      <td>3a6496af8f14196a05b301212de078f0</td>\n",
       "      <td>0.191685</td>\n",
       "      <td>0.046102</td>\n",
       "      <td>2025-04-23 15:12:01.602347</td>\n",
       "      <td>3.12.9</td>\n",
       "      <td>0.15.1</td>\n",
       "      <td>2.2.5</td>\n",
       "      <td>2.2.3</td>\n",
       "      <td>1.6.1</td>\n",
       "      <td>4.6.0</td>\n",
       "      <td>Linux-6.11.0-21-generic-x86_64-with-glibc2.39</td>\n",
       "      <td>x86_64</td>\n",
       "      <td>8</td>\n",
       "      <td>16.64</td>\n",
       "    </tr>\n",
       "    <tr>\n",
       "      <th>32</th>\n",
       "      <td>ForecasterRecursive</td>\n",
       "      <td>LGBMRegressor</td>\n",
       "      <td>ForecasterRecursive_fit</td>\n",
       "      <td>3a6496af8f14196a05b301212de078f0</td>\n",
       "      <td>0.201174</td>\n",
       "      <td>0.040401</td>\n",
       "      <td>2025-04-23 15:15:57.129152</td>\n",
       "      <td>3.12.9</td>\n",
       "      <td>0.14.0</td>\n",
       "      <td>2.2.5</td>\n",
       "      <td>2.2.3</td>\n",
       "      <td>1.6.1</td>\n",
       "      <td>4.6.0</td>\n",
       "      <td>Linux-6.11.0-21-generic-x86_64-with-glibc2.39</td>\n",
       "      <td>x86_64</td>\n",
       "      <td>8</td>\n",
       "      <td>16.64</td>\n",
       "    </tr>\n",
       "    <tr>\n",
       "      <th>44</th>\n",
       "      <td>ForecasterAutoreg</td>\n",
       "      <td>LGBMRegressor</td>\n",
       "      <td>ForecasterRecursive_fit</td>\n",
       "      <td>3a6496af8f14196a05b301212de078f0</td>\n",
       "      <td>0.236430</td>\n",
       "      <td>0.039534</td>\n",
       "      <td>2025-04-23 15:31:29.965594</td>\n",
       "      <td>3.12.9</td>\n",
       "      <td>0.13.0</td>\n",
       "      <td>2.2.5</td>\n",
       "      <td>2.2.3</td>\n",
       "      <td>1.6.1</td>\n",
       "      <td>4.6.0</td>\n",
       "      <td>Linux-6.11.0-21-generic-x86_64-with-glibc2.39</td>\n",
       "      <td>x86_64</td>\n",
       "      <td>8</td>\n",
       "      <td>16.64</td>\n",
       "    </tr>\n",
       "    <tr>\n",
       "      <th>56</th>\n",
       "      <td>ForecasterAutoreg</td>\n",
       "      <td>LGBMRegressor</td>\n",
       "      <td>ForecasterRecursive_fit</td>\n",
       "      <td>3a6496af8f14196a05b301212de078f0</td>\n",
       "      <td>0.255430</td>\n",
       "      <td>0.060431</td>\n",
       "      <td>2025-04-23 15:41:03.640028</td>\n",
       "      <td>3.12.9</td>\n",
       "      <td>0.13.0</td>\n",
       "      <td>2.2.5</td>\n",
       "      <td>2.2.3</td>\n",
       "      <td>1.6.1</td>\n",
       "      <td>4.6.0</td>\n",
       "      <td>Linux-6.11.0-21-generic-x86_64-with-glibc2.39</td>\n",
       "      <td>x86_64</td>\n",
       "      <td>8</td>\n",
       "      <td>16.64</td>\n",
       "    </tr>\n",
       "    <tr>\n",
       "      <th>60</th>\n",
       "      <td>ForecasterAutoreg</td>\n",
       "      <td>LGBMRegressor</td>\n",
       "      <td>ForecasterRecursive_fit</td>\n",
       "      <td>3a6496af8f14196a05b301212de078f0</td>\n",
       "      <td>0.217465</td>\n",
       "      <td>0.029841</td>\n",
       "      <td>2025-04-23 15:46:05.440298</td>\n",
       "      <td>3.12.9</td>\n",
       "      <td>0.13.0</td>\n",
       "      <td>2.2.5</td>\n",
       "      <td>2.2.3</td>\n",
       "      <td>1.6.1</td>\n",
       "      <td>4.6.0</td>\n",
       "      <td>Linux-6.11.0-21-generic-x86_64-with-glibc2.39</td>\n",
       "      <td>x86_64</td>\n",
       "      <td>8</td>\n",
       "      <td>16.64</td>\n",
       "    </tr>\n",
       "    <tr>\n",
       "      <th>64</th>\n",
       "      <td>ForecasterAutoreg</td>\n",
       "      <td>LGBMRegressor</td>\n",
       "      <td>ForecasterRecursive_fit</td>\n",
       "      <td>3a6496af8f14196a05b301212de078f0</td>\n",
       "      <td>0.210943</td>\n",
       "      <td>0.030716</td>\n",
       "      <td>2025-04-23 15:46:38.741227</td>\n",
       "      <td>3.12.9</td>\n",
       "      <td>0.13.0</td>\n",
       "      <td>2.2.5</td>\n",
       "      <td>2.2.3</td>\n",
       "      <td>1.6.1</td>\n",
       "      <td>4.6.0</td>\n",
       "      <td>Linux-6.11.0-21-generic-x86_64-with-glibc2.39</td>\n",
       "      <td>x86_64</td>\n",
       "      <td>8</td>\n",
       "      <td>16.64</td>\n",
       "    </tr>\n",
       "    <tr>\n",
       "      <th>76</th>\n",
       "      <td>ForecasterRecursive</td>\n",
       "      <td>LGBMRegressor</td>\n",
       "      <td>ForecasterRecursive_fit</td>\n",
       "      <td>3a6496af8f14196a05b301212de078f0</td>\n",
       "      <td>0.275427</td>\n",
       "      <td>0.034657</td>\n",
       "      <td>2025-04-23 15:56:50.851427</td>\n",
       "      <td>3.12.9</td>\n",
       "      <td>0.14.0</td>\n",
       "      <td>2.2.5</td>\n",
       "      <td>2.2.3</td>\n",
       "      <td>1.6.1</td>\n",
       "      <td>4.6.0</td>\n",
       "      <td>Linux-6.11.0-21-generic-x86_64-with-glibc2.39</td>\n",
       "      <td>x86_64</td>\n",
       "      <td>8</td>\n",
       "      <td>16.64</td>\n",
       "    </tr>\n",
       "    <tr>\n",
       "      <th>88</th>\n",
       "      <td>ForecasterRecursive</td>\n",
       "      <td>LGBMRegressor</td>\n",
       "      <td>ForecasterRecursive_fit</td>\n",
       "      <td>3a6496af8f14196a05b301212de078f0</td>\n",
       "      <td>0.274136</td>\n",
       "      <td>0.074695</td>\n",
       "      <td>2025-04-23 16:01:03.371465</td>\n",
       "      <td>3.12.9</td>\n",
       "      <td>0.15.1</td>\n",
       "      <td>2.2.5</td>\n",
       "      <td>2.2.3</td>\n",
       "      <td>1.6.1</td>\n",
       "      <td>4.6.0</td>\n",
       "      <td>Linux-6.11.0-21-generic-x86_64-with-glibc2.39</td>\n",
       "      <td>x86_64</td>\n",
       "      <td>8</td>\n",
       "      <td>16.64</td>\n",
       "    </tr>\n",
       "    <tr>\n",
       "      <th>100</th>\n",
       "      <td>ForecasterRecursive</td>\n",
       "      <td>LGBMRegressor</td>\n",
       "      <td>ForecasterRecursive_fit</td>\n",
       "      <td>3a6496af8f14196a05b301212de078f0</td>\n",
       "      <td>0.193109</td>\n",
       "      <td>0.022947</td>\n",
       "      <td>2025-04-23 16:05:31.689260</td>\n",
       "      <td>3.12.9</td>\n",
       "      <td>0.15.1</td>\n",
       "      <td>2.2.5</td>\n",
       "      <td>2.2.3</td>\n",
       "      <td>1.6.1</td>\n",
       "      <td>4.6.0</td>\n",
       "      <td>Linux-6.11.0-21-generic-x86_64-with-glibc2.39</td>\n",
       "      <td>x86_64</td>\n",
       "      <td>8</td>\n",
       "      <td>16.64</td>\n",
       "    </tr>\n",
       "    <tr>\n",
       "      <th>112</th>\n",
       "      <td>ForecasterRecursive</td>\n",
       "      <td>LGBMRegressor</td>\n",
       "      <td>ForecasterRecursive_fit</td>\n",
       "      <td>3a6496af8f14196a05b301212de078f0</td>\n",
       "      <td>0.265002</td>\n",
       "      <td>0.047268</td>\n",
       "      <td>2025-04-23 16:08:40.132074</td>\n",
       "      <td>3.12.9</td>\n",
       "      <td>0.16.0</td>\n",
       "      <td>2.2.5</td>\n",
       "      <td>2.2.3</td>\n",
       "      <td>1.6.1</td>\n",
       "      <td>4.6.0</td>\n",
       "      <td>Linux-6.11.0-21-generic-x86_64-with-glibc2.39</td>\n",
       "      <td>x86_64</td>\n",
       "      <td>8</td>\n",
       "      <td>16.64</td>\n",
       "    </tr>\n",
       "    <tr>\n",
       "      <th>124</th>\n",
       "      <td>ForecasterRecursive</td>\n",
       "      <td>LGBMRegressor</td>\n",
       "      <td>ForecasterRecursive_fit</td>\n",
       "      <td>3a6496af8f14196a05b301212de078f0</td>\n",
       "      <td>0.216749</td>\n",
       "      <td>0.036939</td>\n",
       "      <td>2025-04-23 16:12:08.671273</td>\n",
       "      <td>3.12.9</td>\n",
       "      <td>0.16.0</td>\n",
       "      <td>2.2.5</td>\n",
       "      <td>2.2.3</td>\n",
       "      <td>1.6.1</td>\n",
       "      <td>4.6.0</td>\n",
       "      <td>Linux-6.11.0-21-generic-x86_64-with-glibc2.39</td>\n",
       "      <td>x86_64</td>\n",
       "      <td>8</td>\n",
       "      <td>16.64</td>\n",
       "    </tr>\n",
       "  </tbody>\n",
       "</table>\n",
       "</div>"
      ],
      "text/plain": [
       "         forecaster_name regressor_name            function_name  \\\n",
       "8    ForecasterRecursive  LGBMRegressor  ForecasterRecursive_fit   \n",
       "20   ForecasterRecursive  LGBMRegressor  ForecasterRecursive_fit   \n",
       "32   ForecasterRecursive  LGBMRegressor  ForecasterRecursive_fit   \n",
       "44     ForecasterAutoreg  LGBMRegressor  ForecasterRecursive_fit   \n",
       "56     ForecasterAutoreg  LGBMRegressor  ForecasterRecursive_fit   \n",
       "60     ForecasterAutoreg  LGBMRegressor  ForecasterRecursive_fit   \n",
       "64     ForecasterAutoreg  LGBMRegressor  ForecasterRecursive_fit   \n",
       "76   ForecasterRecursive  LGBMRegressor  ForecasterRecursive_fit   \n",
       "88   ForecasterRecursive  LGBMRegressor  ForecasterRecursive_fit   \n",
       "100  ForecasterRecursive  LGBMRegressor  ForecasterRecursive_fit   \n",
       "112  ForecasterRecursive  LGBMRegressor  ForecasterRecursive_fit   \n",
       "124  ForecasterRecursive  LGBMRegressor  ForecasterRecursive_fit   \n",
       "\n",
       "                        function_hash  run_time_avg  run_time_std_dev  \\\n",
       "8    3a6496af8f14196a05b301212de078f0      0.200046          0.021582   \n",
       "20   3a6496af8f14196a05b301212de078f0      0.191685          0.046102   \n",
       "32   3a6496af8f14196a05b301212de078f0      0.201174          0.040401   \n",
       "44   3a6496af8f14196a05b301212de078f0      0.236430          0.039534   \n",
       "56   3a6496af8f14196a05b301212de078f0      0.255430          0.060431   \n",
       "60   3a6496af8f14196a05b301212de078f0      0.217465          0.029841   \n",
       "64   3a6496af8f14196a05b301212de078f0      0.210943          0.030716   \n",
       "76   3a6496af8f14196a05b301212de078f0      0.275427          0.034657   \n",
       "88   3a6496af8f14196a05b301212de078f0      0.274136          0.074695   \n",
       "100  3a6496af8f14196a05b301212de078f0      0.193109          0.022947   \n",
       "112  3a6496af8f14196a05b301212de078f0      0.265002          0.047268   \n",
       "124  3a6496af8f14196a05b301212de078f0      0.216749          0.036939   \n",
       "\n",
       "                      datetime python_version skforecast_version  \\\n",
       "8   2025-04-23 15:05:56.608429         3.12.9             0.16.0   \n",
       "20  2025-04-23 15:12:01.602347         3.12.9             0.15.1   \n",
       "32  2025-04-23 15:15:57.129152         3.12.9             0.14.0   \n",
       "44  2025-04-23 15:31:29.965594         3.12.9             0.13.0   \n",
       "56  2025-04-23 15:41:03.640028         3.12.9             0.13.0   \n",
       "60  2025-04-23 15:46:05.440298         3.12.9             0.13.0   \n",
       "64  2025-04-23 15:46:38.741227         3.12.9             0.13.0   \n",
       "76  2025-04-23 15:56:50.851427         3.12.9             0.14.0   \n",
       "88  2025-04-23 16:01:03.371465         3.12.9             0.15.1   \n",
       "100 2025-04-23 16:05:31.689260         3.12.9             0.15.1   \n",
       "112 2025-04-23 16:08:40.132074         3.12.9             0.16.0   \n",
       "124 2025-04-23 16:12:08.671273         3.12.9             0.16.0   \n",
       "\n",
       "    numpy_version pandas_version sklearn_version lightgbm_version  \\\n",
       "8           2.2.5          2.2.3           1.6.1            4.6.0   \n",
       "20          2.2.5          2.2.3           1.6.1            4.6.0   \n",
       "32          2.2.5          2.2.3           1.6.1            4.6.0   \n",
       "44          2.2.5          2.2.3           1.6.1            4.6.0   \n",
       "56          2.2.5          2.2.3           1.6.1            4.6.0   \n",
       "60          2.2.5          2.2.3           1.6.1            4.6.0   \n",
       "64          2.2.5          2.2.3           1.6.1            4.6.0   \n",
       "76          2.2.5          2.2.3           1.6.1            4.6.0   \n",
       "88          2.2.5          2.2.3           1.6.1            4.6.0   \n",
       "100         2.2.5          2.2.3           1.6.1            4.6.0   \n",
       "112         2.2.5          2.2.3           1.6.1            4.6.0   \n",
       "124         2.2.5          2.2.3           1.6.1            4.6.0   \n",
       "\n",
       "                                          platform processor  cpu_count  \\\n",
       "8    Linux-6.11.0-21-generic-x86_64-with-glibc2.39    x86_64          8   \n",
       "20   Linux-6.11.0-21-generic-x86_64-with-glibc2.39    x86_64          8   \n",
       "32   Linux-6.11.0-21-generic-x86_64-with-glibc2.39    x86_64          8   \n",
       "44   Linux-6.11.0-21-generic-x86_64-with-glibc2.39    x86_64          8   \n",
       "56   Linux-6.11.0-21-generic-x86_64-with-glibc2.39    x86_64          8   \n",
       "60   Linux-6.11.0-21-generic-x86_64-with-glibc2.39    x86_64          8   \n",
       "64   Linux-6.11.0-21-generic-x86_64-with-glibc2.39    x86_64          8   \n",
       "76   Linux-6.11.0-21-generic-x86_64-with-glibc2.39    x86_64          8   \n",
       "88   Linux-6.11.0-21-generic-x86_64-with-glibc2.39    x86_64          8   \n",
       "100  Linux-6.11.0-21-generic-x86_64-with-glibc2.39    x86_64          8   \n",
       "112  Linux-6.11.0-21-generic-x86_64-with-glibc2.39    x86_64          8   \n",
       "124  Linux-6.11.0-21-generic-x86_64-with-glibc2.39    x86_64          8   \n",
       "\n",
       "     memory_gb  \n",
       "8        16.64  \n",
       "20       16.64  \n",
       "32       16.64  \n",
       "44       16.64  \n",
       "56       16.64  \n",
       "60       16.64  \n",
       "64       16.64  \n",
       "76       16.64  \n",
       "88       16.64  \n",
       "100      16.64  \n",
       "112      16.64  \n",
       "124      16.64  "
      ]
     },
     "metadata": {},
     "output_type": "display_data"
    },
    {
     "data": {
      "application/vnd.plotly.v1+json": {
       "config": {
        "plotlyServerURL": "https://plot.ly"
       },
       "data": [
        {
         "error_y": {
          "array": {
           "bdata": "NR099Mk9pD8f6NxQ2vCuP0tKAnGbjp4/BMMQUuRznz8=",
           "dtype": "f8"
          },
          "color": "#636EFA",
          "thickness": 1.5,
          "type": "data",
          "visible": true,
          "width": 5
         },
         "hovertemplate": "Version: 0.13.0<br>Runtime: %{y:.2f}s<extra></extra>",
         "marker": {
          "color": "#636EFA",
          "opacity": 0.7,
          "size": 10
         },
         "mode": "markers",
         "name": "Run time - 0.13.0",
         "showlegend": true,
         "type": "scatter",
         "x": {
          "bdata": "fByzX9/Fir9AKClBT8iAPwyt5c8ZpoA/hj3Rm6N3pT8=",
          "dtype": "f8"
         },
         "y": {
          "bdata": "AICzAldDzj9m5mQF+VjQP2bm2kLl1cs/zUxbwC4Ayz8=",
          "dtype": "f8"
         }
        },
        {
         "error_y": {
          "array": {
           "bdata": "VbtiV3yvpD/Ll75LjL6hPw==",
           "dtype": "f8"
          },
          "color": "#EF553B",
          "thickness": 1.5,
          "type": "data",
          "visible": true,
          "width": 5
         },
         "hovertemplate": "Version: 0.14.0<br>Runtime: %{y:.2f}s<extra></extra>",
         "marker": {
          "color": "#EF553B",
          "opacity": 0.7,
          "size": 10
         },
         "mode": "markers",
         "name": "Run time - 0.14.0",
         "showlegend": true,
         "type": "scatter",
         "x": {
          "bdata": "R887kefC7j+9ao9gHibvPw==",
          "dtype": "f8"
         },
         "y": {
          "bdata": "zUyy8hTAyT8z8yq0l6DRPw==",
          "dtype": "f8"
         }
        },
        {
         "error_y": {
          "array": {
           "bdata": "BM+5k7eapz+g62nXLh+zPz9LJqNmf5c/",
           "dtype": "f8"
          },
          "color": "#00CC96",
          "thickness": 1.5,
          "type": "data",
          "visible": true,
          "width": 5
         },
         "hovertemplate": "Version: 0.15.1<br>Runtime: %{y:.2f}s<extra></extra>",
         "marker": {
          "color": "#00CC96",
          "opacity": 0.7,
          "size": 10
         },
         "mode": "markers",
         "name": "Run time - 0.15.1",
         "showlegend": true,
         "type": "scatter",
         "x": {
          "bdata": "PJXABdYrAEAE9ARBKzsAQLPaQ8D49/8/",
          "dtype": "f8"
         },
         "y": {
          "bdata": "AADTXSGJyD+aGe7Ob4vRPwAAz7bKt8g/",
          "dtype": "f8"
         }
        },
        {
         "error_y": {
          "array": {
           "bdata": "/eCUxJ4Zlj+VwLgMjDOoP0E+Jdi06aI/",
           "dtype": "f8"
          },
          "color": "#AB63FA",
          "thickness": 1.5,
          "type": "data",
          "visible": true,
          "width": 5
         },
         "hovertemplate": "Version: 0.16.0<br>Runtime: %{y:.2f}s<extra></extra>",
         "marker": {
          "color": "#AB63FA",
          "opacity": 0.7,
          "size": 10
         },
         "mode": "markers",
         "name": "Run time - 0.16.0",
         "showlegend": true,
         "type": "scatter",
         "x": {
          "bdata": "3XFGslY0CEC7OdZSiFAIQMBUjDglLQhA",
          "dtype": "f8"
         },
         "y": {
          "bdata": "ZuaUqRibyT8AAFjKy/XQP5oZe3puvss/",
          "dtype": "f8"
         }
        },
        {
         "line": {
          "color": "black",
          "width": 2
         },
         "marker": {
          "color": "black",
          "size": 8
         },
         "mode": "lines+markers",
         "name": "Median (per version)",
         "type": "scatter",
         "x": {
          "bdata": "AAECAw==",
          "dtype": "i1"
         },
         "y": {
          "bdata": "MzPHIp4MzT+aGYQtooDOPwAAz7bKt8g/mhl7em6+yz8=",
          "dtype": "f8"
         }
        }
       ],
       "layout": {
        "showlegend": true,
        "template": {
         "data": {
          "bar": [
           {
            "error_x": {
             "color": "#2a3f5f"
            },
            "error_y": {
             "color": "#2a3f5f"
            },
            "marker": {
             "line": {
              "color": "#E5ECF6",
              "width": 0.5
             },
             "pattern": {
              "fillmode": "overlay",
              "size": 10,
              "solidity": 0.2
             }
            },
            "type": "bar"
           }
          ],
          "barpolar": [
           {
            "marker": {
             "line": {
              "color": "#E5ECF6",
              "width": 0.5
             },
             "pattern": {
              "fillmode": "overlay",
              "size": 10,
              "solidity": 0.2
             }
            },
            "type": "barpolar"
           }
          ],
          "carpet": [
           {
            "aaxis": {
             "endlinecolor": "#2a3f5f",
             "gridcolor": "white",
             "linecolor": "white",
             "minorgridcolor": "white",
             "startlinecolor": "#2a3f5f"
            },
            "baxis": {
             "endlinecolor": "#2a3f5f",
             "gridcolor": "white",
             "linecolor": "white",
             "minorgridcolor": "white",
             "startlinecolor": "#2a3f5f"
            },
            "type": "carpet"
           }
          ],
          "choropleth": [
           {
            "colorbar": {
             "outlinewidth": 0,
             "ticks": ""
            },
            "type": "choropleth"
           }
          ],
          "contour": [
           {
            "colorbar": {
             "outlinewidth": 0,
             "ticks": ""
            },
            "colorscale": [
             [
              0,
              "#0d0887"
             ],
             [
              0.1111111111111111,
              "#46039f"
             ],
             [
              0.2222222222222222,
              "#7201a8"
             ],
             [
              0.3333333333333333,
              "#9c179e"
             ],
             [
              0.4444444444444444,
              "#bd3786"
             ],
             [
              0.5555555555555556,
              "#d8576b"
             ],
             [
              0.6666666666666666,
              "#ed7953"
             ],
             [
              0.7777777777777778,
              "#fb9f3a"
             ],
             [
              0.8888888888888888,
              "#fdca26"
             ],
             [
              1,
              "#f0f921"
             ]
            ],
            "type": "contour"
           }
          ],
          "contourcarpet": [
           {
            "colorbar": {
             "outlinewidth": 0,
             "ticks": ""
            },
            "type": "contourcarpet"
           }
          ],
          "heatmap": [
           {
            "colorbar": {
             "outlinewidth": 0,
             "ticks": ""
            },
            "colorscale": [
             [
              0,
              "#0d0887"
             ],
             [
              0.1111111111111111,
              "#46039f"
             ],
             [
              0.2222222222222222,
              "#7201a8"
             ],
             [
              0.3333333333333333,
              "#9c179e"
             ],
             [
              0.4444444444444444,
              "#bd3786"
             ],
             [
              0.5555555555555556,
              "#d8576b"
             ],
             [
              0.6666666666666666,
              "#ed7953"
             ],
             [
              0.7777777777777778,
              "#fb9f3a"
             ],
             [
              0.8888888888888888,
              "#fdca26"
             ],
             [
              1,
              "#f0f921"
             ]
            ],
            "type": "heatmap"
           }
          ],
          "histogram": [
           {
            "marker": {
             "pattern": {
              "fillmode": "overlay",
              "size": 10,
              "solidity": 0.2
             }
            },
            "type": "histogram"
           }
          ],
          "histogram2d": [
           {
            "colorbar": {
             "outlinewidth": 0,
             "ticks": ""
            },
            "colorscale": [
             [
              0,
              "#0d0887"
             ],
             [
              0.1111111111111111,
              "#46039f"
             ],
             [
              0.2222222222222222,
              "#7201a8"
             ],
             [
              0.3333333333333333,
              "#9c179e"
             ],
             [
              0.4444444444444444,
              "#bd3786"
             ],
             [
              0.5555555555555556,
              "#d8576b"
             ],
             [
              0.6666666666666666,
              "#ed7953"
             ],
             [
              0.7777777777777778,
              "#fb9f3a"
             ],
             [
              0.8888888888888888,
              "#fdca26"
             ],
             [
              1,
              "#f0f921"
             ]
            ],
            "type": "histogram2d"
           }
          ],
          "histogram2dcontour": [
           {
            "colorbar": {
             "outlinewidth": 0,
             "ticks": ""
            },
            "colorscale": [
             [
              0,
              "#0d0887"
             ],
             [
              0.1111111111111111,
              "#46039f"
             ],
             [
              0.2222222222222222,
              "#7201a8"
             ],
             [
              0.3333333333333333,
              "#9c179e"
             ],
             [
              0.4444444444444444,
              "#bd3786"
             ],
             [
              0.5555555555555556,
              "#d8576b"
             ],
             [
              0.6666666666666666,
              "#ed7953"
             ],
             [
              0.7777777777777778,
              "#fb9f3a"
             ],
             [
              0.8888888888888888,
              "#fdca26"
             ],
             [
              1,
              "#f0f921"
             ]
            ],
            "type": "histogram2dcontour"
           }
          ],
          "mesh3d": [
           {
            "colorbar": {
             "outlinewidth": 0,
             "ticks": ""
            },
            "type": "mesh3d"
           }
          ],
          "parcoords": [
           {
            "line": {
             "colorbar": {
              "outlinewidth": 0,
              "ticks": ""
             }
            },
            "type": "parcoords"
           }
          ],
          "pie": [
           {
            "automargin": true,
            "type": "pie"
           }
          ],
          "scatter": [
           {
            "fillpattern": {
             "fillmode": "overlay",
             "size": 10,
             "solidity": 0.2
            },
            "type": "scatter"
           }
          ],
          "scatter3d": [
           {
            "line": {
             "colorbar": {
              "outlinewidth": 0,
              "ticks": ""
             }
            },
            "marker": {
             "colorbar": {
              "outlinewidth": 0,
              "ticks": ""
             }
            },
            "type": "scatter3d"
           }
          ],
          "scattercarpet": [
           {
            "marker": {
             "colorbar": {
              "outlinewidth": 0,
              "ticks": ""
             }
            },
            "type": "scattercarpet"
           }
          ],
          "scattergeo": [
           {
            "marker": {
             "colorbar": {
              "outlinewidth": 0,
              "ticks": ""
             }
            },
            "type": "scattergeo"
           }
          ],
          "scattergl": [
           {
            "marker": {
             "colorbar": {
              "outlinewidth": 0,
              "ticks": ""
             }
            },
            "type": "scattergl"
           }
          ],
          "scattermap": [
           {
            "marker": {
             "colorbar": {
              "outlinewidth": 0,
              "ticks": ""
             }
            },
            "type": "scattermap"
           }
          ],
          "scattermapbox": [
           {
            "marker": {
             "colorbar": {
              "outlinewidth": 0,
              "ticks": ""
             }
            },
            "type": "scattermapbox"
           }
          ],
          "scatterpolar": [
           {
            "marker": {
             "colorbar": {
              "outlinewidth": 0,
              "ticks": ""
             }
            },
            "type": "scatterpolar"
           }
          ],
          "scatterpolargl": [
           {
            "marker": {
             "colorbar": {
              "outlinewidth": 0,
              "ticks": ""
             }
            },
            "type": "scatterpolargl"
           }
          ],
          "scatterternary": [
           {
            "marker": {
             "colorbar": {
              "outlinewidth": 0,
              "ticks": ""
             }
            },
            "type": "scatterternary"
           }
          ],
          "surface": [
           {
            "colorbar": {
             "outlinewidth": 0,
             "ticks": ""
            },
            "colorscale": [
             [
              0,
              "#0d0887"
             ],
             [
              0.1111111111111111,
              "#46039f"
             ],
             [
              0.2222222222222222,
              "#7201a8"
             ],
             [
              0.3333333333333333,
              "#9c179e"
             ],
             [
              0.4444444444444444,
              "#bd3786"
             ],
             [
              0.5555555555555556,
              "#d8576b"
             ],
             [
              0.6666666666666666,
              "#ed7953"
             ],
             [
              0.7777777777777778,
              "#fb9f3a"
             ],
             [
              0.8888888888888888,
              "#fdca26"
             ],
             [
              1,
              "#f0f921"
             ]
            ],
            "type": "surface"
           }
          ],
          "table": [
           {
            "cells": {
             "fill": {
              "color": "#EBF0F8"
             },
             "line": {
              "color": "white"
             }
            },
            "header": {
             "fill": {
              "color": "#C8D4E3"
             },
             "line": {
              "color": "white"
             }
            },
            "type": "table"
           }
          ]
         },
         "layout": {
          "annotationdefaults": {
           "arrowcolor": "#2a3f5f",
           "arrowhead": 0,
           "arrowwidth": 1
          },
          "autotypenumbers": "strict",
          "coloraxis": {
           "colorbar": {
            "outlinewidth": 0,
            "ticks": ""
           }
          },
          "colorscale": {
           "diverging": [
            [
             0,
             "#8e0152"
            ],
            [
             0.1,
             "#c51b7d"
            ],
            [
             0.2,
             "#de77ae"
            ],
            [
             0.3,
             "#f1b6da"
            ],
            [
             0.4,
             "#fde0ef"
            ],
            [
             0.5,
             "#f7f7f7"
            ],
            [
             0.6,
             "#e6f5d0"
            ],
            [
             0.7,
             "#b8e186"
            ],
            [
             0.8,
             "#7fbc41"
            ],
            [
             0.9,
             "#4d9221"
            ],
            [
             1,
             "#276419"
            ]
           ],
           "sequential": [
            [
             0,
             "#0d0887"
            ],
            [
             0.1111111111111111,
             "#46039f"
            ],
            [
             0.2222222222222222,
             "#7201a8"
            ],
            [
             0.3333333333333333,
             "#9c179e"
            ],
            [
             0.4444444444444444,
             "#bd3786"
            ],
            [
             0.5555555555555556,
             "#d8576b"
            ],
            [
             0.6666666666666666,
             "#ed7953"
            ],
            [
             0.7777777777777778,
             "#fb9f3a"
            ],
            [
             0.8888888888888888,
             "#fdca26"
            ],
            [
             1,
             "#f0f921"
            ]
           ],
           "sequentialminus": [
            [
             0,
             "#0d0887"
            ],
            [
             0.1111111111111111,
             "#46039f"
            ],
            [
             0.2222222222222222,
             "#7201a8"
            ],
            [
             0.3333333333333333,
             "#9c179e"
            ],
            [
             0.4444444444444444,
             "#bd3786"
            ],
            [
             0.5555555555555556,
             "#d8576b"
            ],
            [
             0.6666666666666666,
             "#ed7953"
            ],
            [
             0.7777777777777778,
             "#fb9f3a"
            ],
            [
             0.8888888888888888,
             "#fdca26"
            ],
            [
             1,
             "#f0f921"
            ]
           ]
          },
          "colorway": [
           "#636efa",
           "#EF553B",
           "#00cc96",
           "#ab63fa",
           "#FFA15A",
           "#19d3f3",
           "#FF6692",
           "#B6E880",
           "#FF97FF",
           "#FECB52"
          ],
          "font": {
           "color": "#2a3f5f"
          },
          "geo": {
           "bgcolor": "white",
           "lakecolor": "white",
           "landcolor": "#E5ECF6",
           "showlakes": true,
           "showland": true,
           "subunitcolor": "white"
          },
          "hoverlabel": {
           "align": "left"
          },
          "hovermode": "closest",
          "mapbox": {
           "style": "light"
          },
          "paper_bgcolor": "white",
          "plot_bgcolor": "#E5ECF6",
          "polar": {
           "angularaxis": {
            "gridcolor": "white",
            "linecolor": "white",
            "ticks": ""
           },
           "bgcolor": "#E5ECF6",
           "radialaxis": {
            "gridcolor": "white",
            "linecolor": "white",
            "ticks": ""
           }
          },
          "scene": {
           "xaxis": {
            "backgroundcolor": "#E5ECF6",
            "gridcolor": "white",
            "gridwidth": 2,
            "linecolor": "white",
            "showbackground": true,
            "ticks": "",
            "zerolinecolor": "white"
           },
           "yaxis": {
            "backgroundcolor": "#E5ECF6",
            "gridcolor": "white",
            "gridwidth": 2,
            "linecolor": "white",
            "showbackground": true,
            "ticks": "",
            "zerolinecolor": "white"
           },
           "zaxis": {
            "backgroundcolor": "#E5ECF6",
            "gridcolor": "white",
            "gridwidth": 2,
            "linecolor": "white",
            "showbackground": true,
            "ticks": "",
            "zerolinecolor": "white"
           }
          },
          "shapedefaults": {
           "line": {
            "color": "#2a3f5f"
           }
          },
          "ternary": {
           "aaxis": {
            "gridcolor": "white",
            "linecolor": "white",
            "ticks": ""
           },
           "baxis": {
            "gridcolor": "white",
            "linecolor": "white",
            "ticks": ""
           },
           "bgcolor": "#E5ECF6",
           "caxis": {
            "gridcolor": "white",
            "linecolor": "white",
            "ticks": ""
           }
          },
          "title": {
           "x": 0.05
          },
          "xaxis": {
           "automargin": true,
           "gridcolor": "white",
           "linecolor": "white",
           "ticks": "",
           "title": {
            "standoff": 15
           },
           "zerolinecolor": "white",
           "zerolinewidth": 2
          },
          "yaxis": {
           "automargin": true,
           "gridcolor": "white",
           "linecolor": "white",
           "ticks": "",
           "title": {
            "standoff": 15
           },
           "zerolinecolor": "white",
           "zerolinewidth": 2
          }
         }
        },
        "title": {
         "text": "Execution time of ForecasterRecursive_fit"
        },
        "xaxis": {
         "tickangle": -45,
         "tickmode": "array",
         "ticktext": [
          "0.13.0",
          "0.14.0",
          "0.15.1",
          "0.16.0"
         ],
         "tickvals": [
          0,
          1,
          2,
          3
         ],
         "title": {
          "text": "skforecast version"
         }
        },
        "yaxis": {
         "title": {
          "text": "Execution time (seconds)"
         }
        }
       }
      }
     },
     "metadata": {},
     "output_type": "display_data"
    },
    {
     "data": {
      "application/vnd.microsoft.datawrangler.viewer.v0+json": {
       "columns": [
        {
         "name": "index",
         "rawType": "int64",
         "type": "integer"
        },
        {
         "name": "forecaster_name",
         "rawType": "object",
         "type": "string"
        },
        {
         "name": "regressor_name",
         "rawType": "object",
         "type": "string"
        },
        {
         "name": "function_name",
         "rawType": "object",
         "type": "string"
        },
        {
         "name": "function_hash",
         "rawType": "object",
         "type": "string"
        },
        {
         "name": "run_time_avg",
         "rawType": "float64",
         "type": "float"
        },
        {
         "name": "run_time_std_dev",
         "rawType": "float64",
         "type": "float"
        },
        {
         "name": "datetime",
         "rawType": "datetime64[ns]",
         "type": "datetime"
        },
        {
         "name": "python_version",
         "rawType": "object",
         "type": "string"
        },
        {
         "name": "skforecast_version",
         "rawType": "object",
         "type": "string"
        },
        {
         "name": "numpy_version",
         "rawType": "object",
         "type": "string"
        },
        {
         "name": "pandas_version",
         "rawType": "object",
         "type": "string"
        },
        {
         "name": "sklearn_version",
         "rawType": "object",
         "type": "string"
        },
        {
         "name": "lightgbm_version",
         "rawType": "object",
         "type": "string"
        },
        {
         "name": "platform",
         "rawType": "object",
         "type": "string"
        },
        {
         "name": "processor",
         "rawType": "object",
         "type": "string"
        },
        {
         "name": "cpu_count",
         "rawType": "int64",
         "type": "integer"
        },
        {
         "name": "memory_gb",
         "rawType": "float64",
         "type": "float"
        }
       ],
       "conversionMethod": "pd.DataFrame",
       "ref": "9c1d6d3b-7fdb-45f5-abe0-ec3e10a95d81",
       "rows": [
        [
         "9",
         "ForecasterRecursive",
         "LGBMRegressor",
         "ForecasterRecursive__create_train_X_y",
         "287fbd1c4920496341a9d5f9b9a9aa2a",
         "0.0035816117000649684",
         "0.00033622735505389983",
         "2025-04-23 15:05:58.613440",
         "3.12.9",
         "0.16.0",
         "2.2.5",
         "2.2.3",
         "1.6.1",
         "4.6.0",
         "Linux-6.11.0-21-generic-x86_64-with-glibc2.39",
         "x86_64",
         "8",
         "16.64"
        ],
        [
         "21",
         "ForecasterRecursive",
         "LGBMRegressor",
         "ForecasterRecursive__create_train_X_y",
         "287fbd1c4920496341a9d5f9b9a9aa2a",
         "0.002785950200086518",
         "0.00023104771807877877",
         "2025-04-23 15:12:03.522895",
         "3.12.9",
         "0.15.1",
         "2.2.5",
         "2.2.3",
         "1.6.1",
         "4.6.0",
         "Linux-6.11.0-21-generic-x86_64-with-glibc2.39",
         "x86_64",
         "8",
         "16.64"
        ],
        [
         "33",
         "ForecasterRecursive",
         "LGBMRegressor",
         "ForecasterRecursive__create_train_X_y",
         "287fbd1c4920496341a9d5f9b9a9aa2a",
         "0.0036368141998536887",
         "0.0006849227695678314",
         "2025-04-23 15:15:59.144846",
         "3.12.9",
         "0.14.0",
         "2.2.5",
         "2.2.3",
         "1.6.1",
         "4.6.0",
         "Linux-6.11.0-21-generic-x86_64-with-glibc2.39",
         "x86_64",
         "8",
         "16.64"
        ],
        [
         "45",
         "ForecasterAutoreg",
         "LGBMRegressor",
         "ForecasterRecursive__create_train_X_y",
         "287fbd1c4920496341a9d5f9b9a9aa2a",
         null,
         null,
         "2025-04-23 15:31:32.335009",
         "3.12.9",
         "0.13.0",
         "2.2.5",
         "2.2.3",
         "1.6.1",
         "4.6.0",
         "Linux-6.11.0-21-generic-x86_64-with-glibc2.39",
         "x86_64",
         "8",
         "16.64"
        ],
        [
         "57",
         "ForecasterAutoreg",
         "LGBMRegressor",
         "ForecasterRecursive__create_train_X_y",
         "287fbd1c4920496341a9d5f9b9a9aa2a",
         null,
         null,
         "2025-04-23 15:41:06.200461",
         "3.12.9",
         "0.13.0",
         "2.2.5",
         "2.2.3",
         "1.6.1",
         "4.6.0",
         "Linux-6.11.0-21-generic-x86_64-with-glibc2.39",
         "x86_64",
         "8",
         "16.64"
        ],
        [
         "61",
         "ForecasterAutoreg",
         "LGBMRegressor",
         "ForecasterRecursive__create_train_X_y",
         "1302d78676d713cc5e64125ac23a65d2",
         null,
         null,
         "2025-04-23 15:46:07.619566",
         "3.12.9",
         "0.13.0",
         "2.2.5",
         "2.2.3",
         "1.6.1",
         "4.6.0",
         "Linux-6.11.0-21-generic-x86_64-with-glibc2.39",
         "x86_64",
         "8",
         "16.64"
        ],
        [
         "65",
         "ForecasterAutoreg",
         "LGBMRegressor",
         "ForecasterRecursive__create_train_X_y",
         "20bdfc9de1cb7a9e99e703c087d136d3",
         "0.003645197600053507",
         "0.0005826224449138704",
         "2025-04-23 15:46:40.854571",
         "3.12.9",
         "0.13.0",
         "2.2.5",
         "2.2.3",
         "1.6.1",
         "4.6.0",
         "Linux-6.11.0-21-generic-x86_64-with-glibc2.39",
         "x86_64",
         "8",
         "16.64"
        ],
        [
         "77",
         "ForecasterRecursive",
         "LGBMRegressor",
         "ForecasterRecursive__create_train_X_y",
         "20bdfc9de1cb7a9e99e703c087d136d3",
         "0.004177644599985797",
         "0.000579042542093389",
         "2025-04-23 15:56:53.610990",
         "3.12.9",
         "0.14.0",
         "2.2.5",
         "2.2.3",
         "1.6.1",
         "4.6.0",
         "Linux-6.11.0-21-generic-x86_64-with-glibc2.39",
         "x86_64",
         "8",
         "16.64"
        ],
        [
         "89",
         "ForecasterRecursive",
         "LGBMRegressor",
         "ForecasterRecursive__create_train_X_y",
         "20bdfc9de1cb7a9e99e703c087d136d3",
         "0.0036531218003801767",
         "0.0002766372895946584",
         "2025-04-23 16:01:06.118167",
         "3.12.9",
         "0.15.1",
         "2.2.5",
         "2.2.3",
         "1.6.1",
         "4.6.0",
         "Linux-6.11.0-21-generic-x86_64-with-glibc2.39",
         "x86_64",
         "8",
         "16.64"
        ],
        [
         "101",
         "ForecasterRecursive",
         "LGBMRegressor",
         "ForecasterRecursive__create_train_X_y",
         "20bdfc9de1cb7a9e99e703c087d136d3",
         "0.0027731404996302446",
         "0.00037881980121280657",
         "2025-04-23 16:05:33.624338",
         "3.12.9",
         "0.15.1",
         "2.2.5",
         "2.2.3",
         "1.6.1",
         "4.6.0",
         "Linux-6.11.0-21-generic-x86_64-with-glibc2.39",
         "x86_64",
         "8",
         "16.64"
        ],
        [
         "113",
         "ForecasterRecursive",
         "LGBMRegressor",
         "ForecasterRecursive__create_train_X_y",
         "20bdfc9de1cb7a9e99e703c087d136d3",
         "0.0037372773000242886",
         "0.00036863885624796794",
         "2025-04-23 16:08:42.788133",
         "3.12.9",
         "0.16.0",
         "2.2.5",
         "2.2.3",
         "1.6.1",
         "4.6.0",
         "Linux-6.11.0-21-generic-x86_64-with-glibc2.39",
         "x86_64",
         "8",
         "16.64"
        ],
        [
         "125",
         "ForecasterRecursive",
         "LGBMRegressor",
         "ForecasterRecursive__create_train_X_y",
         "20bdfc9de1cb7a9e99e703c087d136d3",
         "0.0036185756993290853",
         "0.0002544002586207825",
         "2025-04-23 16:12:10.844438",
         "3.12.9",
         "0.16.0",
         "2.2.5",
         "2.2.3",
         "1.6.1",
         "4.6.0",
         "Linux-6.11.0-21-generic-x86_64-with-glibc2.39",
         "x86_64",
         "8",
         "16.64"
        ]
       ],
       "shape": {
        "columns": 17,
        "rows": 12
       }
      },
      "text/html": [
       "<div>\n",
       "<style scoped>\n",
       "    .dataframe tbody tr th:only-of-type {\n",
       "        vertical-align: middle;\n",
       "    }\n",
       "\n",
       "    .dataframe tbody tr th {\n",
       "        vertical-align: top;\n",
       "    }\n",
       "\n",
       "    .dataframe thead th {\n",
       "        text-align: right;\n",
       "    }\n",
       "</style>\n",
       "<table border=\"1\" class=\"dataframe\">\n",
       "  <thead>\n",
       "    <tr style=\"text-align: right;\">\n",
       "      <th></th>\n",
       "      <th>forecaster_name</th>\n",
       "      <th>regressor_name</th>\n",
       "      <th>function_name</th>\n",
       "      <th>function_hash</th>\n",
       "      <th>run_time_avg</th>\n",
       "      <th>run_time_std_dev</th>\n",
       "      <th>datetime</th>\n",
       "      <th>python_version</th>\n",
       "      <th>skforecast_version</th>\n",
       "      <th>numpy_version</th>\n",
       "      <th>pandas_version</th>\n",
       "      <th>sklearn_version</th>\n",
       "      <th>lightgbm_version</th>\n",
       "      <th>platform</th>\n",
       "      <th>processor</th>\n",
       "      <th>cpu_count</th>\n",
       "      <th>memory_gb</th>\n",
       "    </tr>\n",
       "  </thead>\n",
       "  <tbody>\n",
       "    <tr>\n",
       "      <th>9</th>\n",
       "      <td>ForecasterRecursive</td>\n",
       "      <td>LGBMRegressor</td>\n",
       "      <td>ForecasterRecursive__create_train_X_y</td>\n",
       "      <td>287fbd1c4920496341a9d5f9b9a9aa2a</td>\n",
       "      <td>0.003582</td>\n",
       "      <td>0.000336</td>\n",
       "      <td>2025-04-23 15:05:58.613440</td>\n",
       "      <td>3.12.9</td>\n",
       "      <td>0.16.0</td>\n",
       "      <td>2.2.5</td>\n",
       "      <td>2.2.3</td>\n",
       "      <td>1.6.1</td>\n",
       "      <td>4.6.0</td>\n",
       "      <td>Linux-6.11.0-21-generic-x86_64-with-glibc2.39</td>\n",
       "      <td>x86_64</td>\n",
       "      <td>8</td>\n",
       "      <td>16.64</td>\n",
       "    </tr>\n",
       "    <tr>\n",
       "      <th>21</th>\n",
       "      <td>ForecasterRecursive</td>\n",
       "      <td>LGBMRegressor</td>\n",
       "      <td>ForecasterRecursive__create_train_X_y</td>\n",
       "      <td>287fbd1c4920496341a9d5f9b9a9aa2a</td>\n",
       "      <td>0.002786</td>\n",
       "      <td>0.000231</td>\n",
       "      <td>2025-04-23 15:12:03.522895</td>\n",
       "      <td>3.12.9</td>\n",
       "      <td>0.15.1</td>\n",
       "      <td>2.2.5</td>\n",
       "      <td>2.2.3</td>\n",
       "      <td>1.6.1</td>\n",
       "      <td>4.6.0</td>\n",
       "      <td>Linux-6.11.0-21-generic-x86_64-with-glibc2.39</td>\n",
       "      <td>x86_64</td>\n",
       "      <td>8</td>\n",
       "      <td>16.64</td>\n",
       "    </tr>\n",
       "    <tr>\n",
       "      <th>33</th>\n",
       "      <td>ForecasterRecursive</td>\n",
       "      <td>LGBMRegressor</td>\n",
       "      <td>ForecasterRecursive__create_train_X_y</td>\n",
       "      <td>287fbd1c4920496341a9d5f9b9a9aa2a</td>\n",
       "      <td>0.003637</td>\n",
       "      <td>0.000685</td>\n",
       "      <td>2025-04-23 15:15:59.144846</td>\n",
       "      <td>3.12.9</td>\n",
       "      <td>0.14.0</td>\n",
       "      <td>2.2.5</td>\n",
       "      <td>2.2.3</td>\n",
       "      <td>1.6.1</td>\n",
       "      <td>4.6.0</td>\n",
       "      <td>Linux-6.11.0-21-generic-x86_64-with-glibc2.39</td>\n",
       "      <td>x86_64</td>\n",
       "      <td>8</td>\n",
       "      <td>16.64</td>\n",
       "    </tr>\n",
       "    <tr>\n",
       "      <th>45</th>\n",
       "      <td>ForecasterAutoreg</td>\n",
       "      <td>LGBMRegressor</td>\n",
       "      <td>ForecasterRecursive__create_train_X_y</td>\n",
       "      <td>287fbd1c4920496341a9d5f9b9a9aa2a</td>\n",
       "      <td>NaN</td>\n",
       "      <td>NaN</td>\n",
       "      <td>2025-04-23 15:31:32.335009</td>\n",
       "      <td>3.12.9</td>\n",
       "      <td>0.13.0</td>\n",
       "      <td>2.2.5</td>\n",
       "      <td>2.2.3</td>\n",
       "      <td>1.6.1</td>\n",
       "      <td>4.6.0</td>\n",
       "      <td>Linux-6.11.0-21-generic-x86_64-with-glibc2.39</td>\n",
       "      <td>x86_64</td>\n",
       "      <td>8</td>\n",
       "      <td>16.64</td>\n",
       "    </tr>\n",
       "    <tr>\n",
       "      <th>57</th>\n",
       "      <td>ForecasterAutoreg</td>\n",
       "      <td>LGBMRegressor</td>\n",
       "      <td>ForecasterRecursive__create_train_X_y</td>\n",
       "      <td>287fbd1c4920496341a9d5f9b9a9aa2a</td>\n",
       "      <td>NaN</td>\n",
       "      <td>NaN</td>\n",
       "      <td>2025-04-23 15:41:06.200461</td>\n",
       "      <td>3.12.9</td>\n",
       "      <td>0.13.0</td>\n",
       "      <td>2.2.5</td>\n",
       "      <td>2.2.3</td>\n",
       "      <td>1.6.1</td>\n",
       "      <td>4.6.0</td>\n",
       "      <td>Linux-6.11.0-21-generic-x86_64-with-glibc2.39</td>\n",
       "      <td>x86_64</td>\n",
       "      <td>8</td>\n",
       "      <td>16.64</td>\n",
       "    </tr>\n",
       "    <tr>\n",
       "      <th>61</th>\n",
       "      <td>ForecasterAutoreg</td>\n",
       "      <td>LGBMRegressor</td>\n",
       "      <td>ForecasterRecursive__create_train_X_y</td>\n",
       "      <td>1302d78676d713cc5e64125ac23a65d2</td>\n",
       "      <td>NaN</td>\n",
       "      <td>NaN</td>\n",
       "      <td>2025-04-23 15:46:07.619566</td>\n",
       "      <td>3.12.9</td>\n",
       "      <td>0.13.0</td>\n",
       "      <td>2.2.5</td>\n",
       "      <td>2.2.3</td>\n",
       "      <td>1.6.1</td>\n",
       "      <td>4.6.0</td>\n",
       "      <td>Linux-6.11.0-21-generic-x86_64-with-glibc2.39</td>\n",
       "      <td>x86_64</td>\n",
       "      <td>8</td>\n",
       "      <td>16.64</td>\n",
       "    </tr>\n",
       "    <tr>\n",
       "      <th>65</th>\n",
       "      <td>ForecasterAutoreg</td>\n",
       "      <td>LGBMRegressor</td>\n",
       "      <td>ForecasterRecursive__create_train_X_y</td>\n",
       "      <td>20bdfc9de1cb7a9e99e703c087d136d3</td>\n",
       "      <td>0.003645</td>\n",
       "      <td>0.000583</td>\n",
       "      <td>2025-04-23 15:46:40.854571</td>\n",
       "      <td>3.12.9</td>\n",
       "      <td>0.13.0</td>\n",
       "      <td>2.2.5</td>\n",
       "      <td>2.2.3</td>\n",
       "      <td>1.6.1</td>\n",
       "      <td>4.6.0</td>\n",
       "      <td>Linux-6.11.0-21-generic-x86_64-with-glibc2.39</td>\n",
       "      <td>x86_64</td>\n",
       "      <td>8</td>\n",
       "      <td>16.64</td>\n",
       "    </tr>\n",
       "    <tr>\n",
       "      <th>77</th>\n",
       "      <td>ForecasterRecursive</td>\n",
       "      <td>LGBMRegressor</td>\n",
       "      <td>ForecasterRecursive__create_train_X_y</td>\n",
       "      <td>20bdfc9de1cb7a9e99e703c087d136d3</td>\n",
       "      <td>0.004178</td>\n",
       "      <td>0.000579</td>\n",
       "      <td>2025-04-23 15:56:53.610990</td>\n",
       "      <td>3.12.9</td>\n",
       "      <td>0.14.0</td>\n",
       "      <td>2.2.5</td>\n",
       "      <td>2.2.3</td>\n",
       "      <td>1.6.1</td>\n",
       "      <td>4.6.0</td>\n",
       "      <td>Linux-6.11.0-21-generic-x86_64-with-glibc2.39</td>\n",
       "      <td>x86_64</td>\n",
       "      <td>8</td>\n",
       "      <td>16.64</td>\n",
       "    </tr>\n",
       "    <tr>\n",
       "      <th>89</th>\n",
       "      <td>ForecasterRecursive</td>\n",
       "      <td>LGBMRegressor</td>\n",
       "      <td>ForecasterRecursive__create_train_X_y</td>\n",
       "      <td>20bdfc9de1cb7a9e99e703c087d136d3</td>\n",
       "      <td>0.003653</td>\n",
       "      <td>0.000277</td>\n",
       "      <td>2025-04-23 16:01:06.118167</td>\n",
       "      <td>3.12.9</td>\n",
       "      <td>0.15.1</td>\n",
       "      <td>2.2.5</td>\n",
       "      <td>2.2.3</td>\n",
       "      <td>1.6.1</td>\n",
       "      <td>4.6.0</td>\n",
       "      <td>Linux-6.11.0-21-generic-x86_64-with-glibc2.39</td>\n",
       "      <td>x86_64</td>\n",
       "      <td>8</td>\n",
       "      <td>16.64</td>\n",
       "    </tr>\n",
       "    <tr>\n",
       "      <th>101</th>\n",
       "      <td>ForecasterRecursive</td>\n",
       "      <td>LGBMRegressor</td>\n",
       "      <td>ForecasterRecursive__create_train_X_y</td>\n",
       "      <td>20bdfc9de1cb7a9e99e703c087d136d3</td>\n",
       "      <td>0.002773</td>\n",
       "      <td>0.000379</td>\n",
       "      <td>2025-04-23 16:05:33.624338</td>\n",
       "      <td>3.12.9</td>\n",
       "      <td>0.15.1</td>\n",
       "      <td>2.2.5</td>\n",
       "      <td>2.2.3</td>\n",
       "      <td>1.6.1</td>\n",
       "      <td>4.6.0</td>\n",
       "      <td>Linux-6.11.0-21-generic-x86_64-with-glibc2.39</td>\n",
       "      <td>x86_64</td>\n",
       "      <td>8</td>\n",
       "      <td>16.64</td>\n",
       "    </tr>\n",
       "    <tr>\n",
       "      <th>113</th>\n",
       "      <td>ForecasterRecursive</td>\n",
       "      <td>LGBMRegressor</td>\n",
       "      <td>ForecasterRecursive__create_train_X_y</td>\n",
       "      <td>20bdfc9de1cb7a9e99e703c087d136d3</td>\n",
       "      <td>0.003737</td>\n",
       "      <td>0.000369</td>\n",
       "      <td>2025-04-23 16:08:42.788133</td>\n",
       "      <td>3.12.9</td>\n",
       "      <td>0.16.0</td>\n",
       "      <td>2.2.5</td>\n",
       "      <td>2.2.3</td>\n",
       "      <td>1.6.1</td>\n",
       "      <td>4.6.0</td>\n",
       "      <td>Linux-6.11.0-21-generic-x86_64-with-glibc2.39</td>\n",
       "      <td>x86_64</td>\n",
       "      <td>8</td>\n",
       "      <td>16.64</td>\n",
       "    </tr>\n",
       "    <tr>\n",
       "      <th>125</th>\n",
       "      <td>ForecasterRecursive</td>\n",
       "      <td>LGBMRegressor</td>\n",
       "      <td>ForecasterRecursive__create_train_X_y</td>\n",
       "      <td>20bdfc9de1cb7a9e99e703c087d136d3</td>\n",
       "      <td>0.003619</td>\n",
       "      <td>0.000254</td>\n",
       "      <td>2025-04-23 16:12:10.844438</td>\n",
       "      <td>3.12.9</td>\n",
       "      <td>0.16.0</td>\n",
       "      <td>2.2.5</td>\n",
       "      <td>2.2.3</td>\n",
       "      <td>1.6.1</td>\n",
       "      <td>4.6.0</td>\n",
       "      <td>Linux-6.11.0-21-generic-x86_64-with-glibc2.39</td>\n",
       "      <td>x86_64</td>\n",
       "      <td>8</td>\n",
       "      <td>16.64</td>\n",
       "    </tr>\n",
       "  </tbody>\n",
       "</table>\n",
       "</div>"
      ],
      "text/plain": [
       "         forecaster_name regressor_name  \\\n",
       "9    ForecasterRecursive  LGBMRegressor   \n",
       "21   ForecasterRecursive  LGBMRegressor   \n",
       "33   ForecasterRecursive  LGBMRegressor   \n",
       "45     ForecasterAutoreg  LGBMRegressor   \n",
       "57     ForecasterAutoreg  LGBMRegressor   \n",
       "61     ForecasterAutoreg  LGBMRegressor   \n",
       "65     ForecasterAutoreg  LGBMRegressor   \n",
       "77   ForecasterRecursive  LGBMRegressor   \n",
       "89   ForecasterRecursive  LGBMRegressor   \n",
       "101  ForecasterRecursive  LGBMRegressor   \n",
       "113  ForecasterRecursive  LGBMRegressor   \n",
       "125  ForecasterRecursive  LGBMRegressor   \n",
       "\n",
       "                             function_name                     function_hash  \\\n",
       "9    ForecasterRecursive__create_train_X_y  287fbd1c4920496341a9d5f9b9a9aa2a   \n",
       "21   ForecasterRecursive__create_train_X_y  287fbd1c4920496341a9d5f9b9a9aa2a   \n",
       "33   ForecasterRecursive__create_train_X_y  287fbd1c4920496341a9d5f9b9a9aa2a   \n",
       "45   ForecasterRecursive__create_train_X_y  287fbd1c4920496341a9d5f9b9a9aa2a   \n",
       "57   ForecasterRecursive__create_train_X_y  287fbd1c4920496341a9d5f9b9a9aa2a   \n",
       "61   ForecasterRecursive__create_train_X_y  1302d78676d713cc5e64125ac23a65d2   \n",
       "65   ForecasterRecursive__create_train_X_y  20bdfc9de1cb7a9e99e703c087d136d3   \n",
       "77   ForecasterRecursive__create_train_X_y  20bdfc9de1cb7a9e99e703c087d136d3   \n",
       "89   ForecasterRecursive__create_train_X_y  20bdfc9de1cb7a9e99e703c087d136d3   \n",
       "101  ForecasterRecursive__create_train_X_y  20bdfc9de1cb7a9e99e703c087d136d3   \n",
       "113  ForecasterRecursive__create_train_X_y  20bdfc9de1cb7a9e99e703c087d136d3   \n",
       "125  ForecasterRecursive__create_train_X_y  20bdfc9de1cb7a9e99e703c087d136d3   \n",
       "\n",
       "     run_time_avg  run_time_std_dev                   datetime python_version  \\\n",
       "9        0.003582          0.000336 2025-04-23 15:05:58.613440         3.12.9   \n",
       "21       0.002786          0.000231 2025-04-23 15:12:03.522895         3.12.9   \n",
       "33       0.003637          0.000685 2025-04-23 15:15:59.144846         3.12.9   \n",
       "45            NaN               NaN 2025-04-23 15:31:32.335009         3.12.9   \n",
       "57            NaN               NaN 2025-04-23 15:41:06.200461         3.12.9   \n",
       "61            NaN               NaN 2025-04-23 15:46:07.619566         3.12.9   \n",
       "65       0.003645          0.000583 2025-04-23 15:46:40.854571         3.12.9   \n",
       "77       0.004178          0.000579 2025-04-23 15:56:53.610990         3.12.9   \n",
       "89       0.003653          0.000277 2025-04-23 16:01:06.118167         3.12.9   \n",
       "101      0.002773          0.000379 2025-04-23 16:05:33.624338         3.12.9   \n",
       "113      0.003737          0.000369 2025-04-23 16:08:42.788133         3.12.9   \n",
       "125      0.003619          0.000254 2025-04-23 16:12:10.844438         3.12.9   \n",
       "\n",
       "    skforecast_version numpy_version pandas_version sklearn_version  \\\n",
       "9               0.16.0         2.2.5          2.2.3           1.6.1   \n",
       "21              0.15.1         2.2.5          2.2.3           1.6.1   \n",
       "33              0.14.0         2.2.5          2.2.3           1.6.1   \n",
       "45              0.13.0         2.2.5          2.2.3           1.6.1   \n",
       "57              0.13.0         2.2.5          2.2.3           1.6.1   \n",
       "61              0.13.0         2.2.5          2.2.3           1.6.1   \n",
       "65              0.13.0         2.2.5          2.2.3           1.6.1   \n",
       "77              0.14.0         2.2.5          2.2.3           1.6.1   \n",
       "89              0.15.1         2.2.5          2.2.3           1.6.1   \n",
       "101             0.15.1         2.2.5          2.2.3           1.6.1   \n",
       "113             0.16.0         2.2.5          2.2.3           1.6.1   \n",
       "125             0.16.0         2.2.5          2.2.3           1.6.1   \n",
       "\n",
       "    lightgbm_version                                       platform processor  \\\n",
       "9              4.6.0  Linux-6.11.0-21-generic-x86_64-with-glibc2.39    x86_64   \n",
       "21             4.6.0  Linux-6.11.0-21-generic-x86_64-with-glibc2.39    x86_64   \n",
       "33             4.6.0  Linux-6.11.0-21-generic-x86_64-with-glibc2.39    x86_64   \n",
       "45             4.6.0  Linux-6.11.0-21-generic-x86_64-with-glibc2.39    x86_64   \n",
       "57             4.6.0  Linux-6.11.0-21-generic-x86_64-with-glibc2.39    x86_64   \n",
       "61             4.6.0  Linux-6.11.0-21-generic-x86_64-with-glibc2.39    x86_64   \n",
       "65             4.6.0  Linux-6.11.0-21-generic-x86_64-with-glibc2.39    x86_64   \n",
       "77             4.6.0  Linux-6.11.0-21-generic-x86_64-with-glibc2.39    x86_64   \n",
       "89             4.6.0  Linux-6.11.0-21-generic-x86_64-with-glibc2.39    x86_64   \n",
       "101            4.6.0  Linux-6.11.0-21-generic-x86_64-with-glibc2.39    x86_64   \n",
       "113            4.6.0  Linux-6.11.0-21-generic-x86_64-with-glibc2.39    x86_64   \n",
       "125            4.6.0  Linux-6.11.0-21-generic-x86_64-with-glibc2.39    x86_64   \n",
       "\n",
       "     cpu_count  memory_gb  \n",
       "9            8      16.64  \n",
       "21           8      16.64  \n",
       "33           8      16.64  \n",
       "45           8      16.64  \n",
       "57           8      16.64  \n",
       "61           8      16.64  \n",
       "65           8      16.64  \n",
       "77           8      16.64  \n",
       "89           8      16.64  \n",
       "101          8      16.64  \n",
       "113          8      16.64  \n",
       "125          8      16.64  "
      ]
     },
     "metadata": {},
     "output_type": "display_data"
    },
    {
     "data": {
      "application/vnd.plotly.v1+json": {
       "config": {
        "plotlyServerURL": "https://plot.ly"
       },
       "data": [
        {
         "error_y": {
          "array": {
           "bdata": "AAAAAAAA+H8AAAAAAAD4fwAAAAAAAPh/Wp5kLGQXQz8=",
           "dtype": "f8"
          },
          "color": "#636EFA",
          "thickness": 1.5,
          "type": "data",
          "visible": true,
          "width": 5
         },
         "hovertemplate": "Version: 0.13.0<br>Runtime: %{y:.2f}s<extra></extra>",
         "marker": {
          "color": "#636EFA",
          "opacity": 0.7,
          "size": 10
         },
         "mode": "markers",
         "name": "Run time - 0.13.0",
         "showlegend": true,
         "type": "scatter",
         "x": {
          "bdata": "fByzX9/Fir9AKClBT8iAPwyt5c8ZpoA/hj3Rm6N3pT8=",
          "dtype": "f8"
         },
         "y": {
          "bdata": "AAAAAAAA+H8AAAAAAAD4fwAAAAAAAPh/mplZj4jcbT8=",
          "dtype": "f8"
         }
        },
        {
         "error_y": {
          "array": {
           "bdata": "B1qicoxxRj+dGwFkXPlCPw==",
           "dtype": "f8"
          },
          "color": "#EF553B",
          "thickness": 1.5,
          "type": "data",
          "visible": true,
          "width": 5
         },
         "hovertemplate": "Version: 0.14.0<br>Runtime: %{y:.2f}s<extra></extra>",
         "marker": {
          "color": "#EF553B",
          "opacity": 0.7,
          "size": 10
         },
         "mode": "markers",
         "name": "Run time - 0.14.0",
         "showlegend": true,
         "type": "scatter",
         "x": {
          "bdata": "R887kefC7j+9ao9gHibvPw==",
          "dtype": "f8"
         },
         "y": {
          "bdata": "mpmZwfPKbT9mZubukxxxPw==",
          "dtype": "f8"
         }
        },
        {
         "error_y": {
          "array": {
           "bdata": "h4wyyaxILj+a9JUcNCEyP/roQ6iK0zg/",
           "dtype": "f8"
          },
          "color": "#00CC96",
          "thickness": 1.5,
          "type": "data",
          "visible": true,
          "width": 5
         },
         "hovertemplate": "Version: 0.15.1<br>Runtime: %{y:.2f}s<extra></extra>",
         "marker": {
          "color": "#00CC96",
          "opacity": 0.7,
          "size": 10
         },
         "mode": "markers",
         "name": "Run time - 0.15.1",
         "showlegend": true,
         "type": "scatter",
         "x": {
          "bdata": "PJXABdYrAEAE9ARBKzsAQLPaQ8D49/8/",
          "dtype": "f8"
         },
         "y": {
          "bdata": "zczsn4/SZj9mZibVJu1tP5qZGXiyt2Y/",
          "dtype": "f8"
         }
        },
        {
         "error_y": {
          "array": {
           "bdata": "LEh1fvUINj8mCuXUuyg4Pzl4dsogrDA/",
           "dtype": "f8"
          },
          "color": "#AB63FA",
          "thickness": 1.5,
          "type": "data",
          "visible": true,
          "width": 5
         },
         "hovertemplate": "Version: 0.16.0<br>Runtime: %{y:.2f}s<extra></extra>",
         "marker": {
          "color": "#AB63FA",
          "opacity": 0.7,
          "size": 10
         },
         "mode": "markers",
         "name": "Run time - 0.16.0",
         "showlegend": true,
         "type": "scatter",
         "x": {
          "bdata": "3XFGslY0CEC7OdZSiFAIQMBUjDglLQhA",
          "dtype": "f8"
         },
         "y": {
          "bdata": "zczMIy9XbT8zM/N4o51uP83MLAm0pG0/",
          "dtype": "f8"
         }
        },
        {
         "line": {
          "color": "black",
          "width": 2
         },
         "marker": {
          "color": "black",
          "size": 8
         },
         "mode": "lines+markers",
         "name": "Median (per version)",
         "type": "scatter",
         "x": {
          "bdata": "AAECAw==",
          "dtype": "i1"
         },
         "y": {
          "bdata": "mplZj4jcbT+amdnnBgFwP83M7J+P0mY/zcwsCbSkbT8=",
          "dtype": "f8"
         }
        }
       ],
       "layout": {
        "showlegend": true,
        "template": {
         "data": {
          "bar": [
           {
            "error_x": {
             "color": "#2a3f5f"
            },
            "error_y": {
             "color": "#2a3f5f"
            },
            "marker": {
             "line": {
              "color": "#E5ECF6",
              "width": 0.5
             },
             "pattern": {
              "fillmode": "overlay",
              "size": 10,
              "solidity": 0.2
             }
            },
            "type": "bar"
           }
          ],
          "barpolar": [
           {
            "marker": {
             "line": {
              "color": "#E5ECF6",
              "width": 0.5
             },
             "pattern": {
              "fillmode": "overlay",
              "size": 10,
              "solidity": 0.2
             }
            },
            "type": "barpolar"
           }
          ],
          "carpet": [
           {
            "aaxis": {
             "endlinecolor": "#2a3f5f",
             "gridcolor": "white",
             "linecolor": "white",
             "minorgridcolor": "white",
             "startlinecolor": "#2a3f5f"
            },
            "baxis": {
             "endlinecolor": "#2a3f5f",
             "gridcolor": "white",
             "linecolor": "white",
             "minorgridcolor": "white",
             "startlinecolor": "#2a3f5f"
            },
            "type": "carpet"
           }
          ],
          "choropleth": [
           {
            "colorbar": {
             "outlinewidth": 0,
             "ticks": ""
            },
            "type": "choropleth"
           }
          ],
          "contour": [
           {
            "colorbar": {
             "outlinewidth": 0,
             "ticks": ""
            },
            "colorscale": [
             [
              0,
              "#0d0887"
             ],
             [
              0.1111111111111111,
              "#46039f"
             ],
             [
              0.2222222222222222,
              "#7201a8"
             ],
             [
              0.3333333333333333,
              "#9c179e"
             ],
             [
              0.4444444444444444,
              "#bd3786"
             ],
             [
              0.5555555555555556,
              "#d8576b"
             ],
             [
              0.6666666666666666,
              "#ed7953"
             ],
             [
              0.7777777777777778,
              "#fb9f3a"
             ],
             [
              0.8888888888888888,
              "#fdca26"
             ],
             [
              1,
              "#f0f921"
             ]
            ],
            "type": "contour"
           }
          ],
          "contourcarpet": [
           {
            "colorbar": {
             "outlinewidth": 0,
             "ticks": ""
            },
            "type": "contourcarpet"
           }
          ],
          "heatmap": [
           {
            "colorbar": {
             "outlinewidth": 0,
             "ticks": ""
            },
            "colorscale": [
             [
              0,
              "#0d0887"
             ],
             [
              0.1111111111111111,
              "#46039f"
             ],
             [
              0.2222222222222222,
              "#7201a8"
             ],
             [
              0.3333333333333333,
              "#9c179e"
             ],
             [
              0.4444444444444444,
              "#bd3786"
             ],
             [
              0.5555555555555556,
              "#d8576b"
             ],
             [
              0.6666666666666666,
              "#ed7953"
             ],
             [
              0.7777777777777778,
              "#fb9f3a"
             ],
             [
              0.8888888888888888,
              "#fdca26"
             ],
             [
              1,
              "#f0f921"
             ]
            ],
            "type": "heatmap"
           }
          ],
          "histogram": [
           {
            "marker": {
             "pattern": {
              "fillmode": "overlay",
              "size": 10,
              "solidity": 0.2
             }
            },
            "type": "histogram"
           }
          ],
          "histogram2d": [
           {
            "colorbar": {
             "outlinewidth": 0,
             "ticks": ""
            },
            "colorscale": [
             [
              0,
              "#0d0887"
             ],
             [
              0.1111111111111111,
              "#46039f"
             ],
             [
              0.2222222222222222,
              "#7201a8"
             ],
             [
              0.3333333333333333,
              "#9c179e"
             ],
             [
              0.4444444444444444,
              "#bd3786"
             ],
             [
              0.5555555555555556,
              "#d8576b"
             ],
             [
              0.6666666666666666,
              "#ed7953"
             ],
             [
              0.7777777777777778,
              "#fb9f3a"
             ],
             [
              0.8888888888888888,
              "#fdca26"
             ],
             [
              1,
              "#f0f921"
             ]
            ],
            "type": "histogram2d"
           }
          ],
          "histogram2dcontour": [
           {
            "colorbar": {
             "outlinewidth": 0,
             "ticks": ""
            },
            "colorscale": [
             [
              0,
              "#0d0887"
             ],
             [
              0.1111111111111111,
              "#46039f"
             ],
             [
              0.2222222222222222,
              "#7201a8"
             ],
             [
              0.3333333333333333,
              "#9c179e"
             ],
             [
              0.4444444444444444,
              "#bd3786"
             ],
             [
              0.5555555555555556,
              "#d8576b"
             ],
             [
              0.6666666666666666,
              "#ed7953"
             ],
             [
              0.7777777777777778,
              "#fb9f3a"
             ],
             [
              0.8888888888888888,
              "#fdca26"
             ],
             [
              1,
              "#f0f921"
             ]
            ],
            "type": "histogram2dcontour"
           }
          ],
          "mesh3d": [
           {
            "colorbar": {
             "outlinewidth": 0,
             "ticks": ""
            },
            "type": "mesh3d"
           }
          ],
          "parcoords": [
           {
            "line": {
             "colorbar": {
              "outlinewidth": 0,
              "ticks": ""
             }
            },
            "type": "parcoords"
           }
          ],
          "pie": [
           {
            "automargin": true,
            "type": "pie"
           }
          ],
          "scatter": [
           {
            "fillpattern": {
             "fillmode": "overlay",
             "size": 10,
             "solidity": 0.2
            },
            "type": "scatter"
           }
          ],
          "scatter3d": [
           {
            "line": {
             "colorbar": {
              "outlinewidth": 0,
              "ticks": ""
             }
            },
            "marker": {
             "colorbar": {
              "outlinewidth": 0,
              "ticks": ""
             }
            },
            "type": "scatter3d"
           }
          ],
          "scattercarpet": [
           {
            "marker": {
             "colorbar": {
              "outlinewidth": 0,
              "ticks": ""
             }
            },
            "type": "scattercarpet"
           }
          ],
          "scattergeo": [
           {
            "marker": {
             "colorbar": {
              "outlinewidth": 0,
              "ticks": ""
             }
            },
            "type": "scattergeo"
           }
          ],
          "scattergl": [
           {
            "marker": {
             "colorbar": {
              "outlinewidth": 0,
              "ticks": ""
             }
            },
            "type": "scattergl"
           }
          ],
          "scattermap": [
           {
            "marker": {
             "colorbar": {
              "outlinewidth": 0,
              "ticks": ""
             }
            },
            "type": "scattermap"
           }
          ],
          "scattermapbox": [
           {
            "marker": {
             "colorbar": {
              "outlinewidth": 0,
              "ticks": ""
             }
            },
            "type": "scattermapbox"
           }
          ],
          "scatterpolar": [
           {
            "marker": {
             "colorbar": {
              "outlinewidth": 0,
              "ticks": ""
             }
            },
            "type": "scatterpolar"
           }
          ],
          "scatterpolargl": [
           {
            "marker": {
             "colorbar": {
              "outlinewidth": 0,
              "ticks": ""
             }
            },
            "type": "scatterpolargl"
           }
          ],
          "scatterternary": [
           {
            "marker": {
             "colorbar": {
              "outlinewidth": 0,
              "ticks": ""
             }
            },
            "type": "scatterternary"
           }
          ],
          "surface": [
           {
            "colorbar": {
             "outlinewidth": 0,
             "ticks": ""
            },
            "colorscale": [
             [
              0,
              "#0d0887"
             ],
             [
              0.1111111111111111,
              "#46039f"
             ],
             [
              0.2222222222222222,
              "#7201a8"
             ],
             [
              0.3333333333333333,
              "#9c179e"
             ],
             [
              0.4444444444444444,
              "#bd3786"
             ],
             [
              0.5555555555555556,
              "#d8576b"
             ],
             [
              0.6666666666666666,
              "#ed7953"
             ],
             [
              0.7777777777777778,
              "#fb9f3a"
             ],
             [
              0.8888888888888888,
              "#fdca26"
             ],
             [
              1,
              "#f0f921"
             ]
            ],
            "type": "surface"
           }
          ],
          "table": [
           {
            "cells": {
             "fill": {
              "color": "#EBF0F8"
             },
             "line": {
              "color": "white"
             }
            },
            "header": {
             "fill": {
              "color": "#C8D4E3"
             },
             "line": {
              "color": "white"
             }
            },
            "type": "table"
           }
          ]
         },
         "layout": {
          "annotationdefaults": {
           "arrowcolor": "#2a3f5f",
           "arrowhead": 0,
           "arrowwidth": 1
          },
          "autotypenumbers": "strict",
          "coloraxis": {
           "colorbar": {
            "outlinewidth": 0,
            "ticks": ""
           }
          },
          "colorscale": {
           "diverging": [
            [
             0,
             "#8e0152"
            ],
            [
             0.1,
             "#c51b7d"
            ],
            [
             0.2,
             "#de77ae"
            ],
            [
             0.3,
             "#f1b6da"
            ],
            [
             0.4,
             "#fde0ef"
            ],
            [
             0.5,
             "#f7f7f7"
            ],
            [
             0.6,
             "#e6f5d0"
            ],
            [
             0.7,
             "#b8e186"
            ],
            [
             0.8,
             "#7fbc41"
            ],
            [
             0.9,
             "#4d9221"
            ],
            [
             1,
             "#276419"
            ]
           ],
           "sequential": [
            [
             0,
             "#0d0887"
            ],
            [
             0.1111111111111111,
             "#46039f"
            ],
            [
             0.2222222222222222,
             "#7201a8"
            ],
            [
             0.3333333333333333,
             "#9c179e"
            ],
            [
             0.4444444444444444,
             "#bd3786"
            ],
            [
             0.5555555555555556,
             "#d8576b"
            ],
            [
             0.6666666666666666,
             "#ed7953"
            ],
            [
             0.7777777777777778,
             "#fb9f3a"
            ],
            [
             0.8888888888888888,
             "#fdca26"
            ],
            [
             1,
             "#f0f921"
            ]
           ],
           "sequentialminus": [
            [
             0,
             "#0d0887"
            ],
            [
             0.1111111111111111,
             "#46039f"
            ],
            [
             0.2222222222222222,
             "#7201a8"
            ],
            [
             0.3333333333333333,
             "#9c179e"
            ],
            [
             0.4444444444444444,
             "#bd3786"
            ],
            [
             0.5555555555555556,
             "#d8576b"
            ],
            [
             0.6666666666666666,
             "#ed7953"
            ],
            [
             0.7777777777777778,
             "#fb9f3a"
            ],
            [
             0.8888888888888888,
             "#fdca26"
            ],
            [
             1,
             "#f0f921"
            ]
           ]
          },
          "colorway": [
           "#636efa",
           "#EF553B",
           "#00cc96",
           "#ab63fa",
           "#FFA15A",
           "#19d3f3",
           "#FF6692",
           "#B6E880",
           "#FF97FF",
           "#FECB52"
          ],
          "font": {
           "color": "#2a3f5f"
          },
          "geo": {
           "bgcolor": "white",
           "lakecolor": "white",
           "landcolor": "#E5ECF6",
           "showlakes": true,
           "showland": true,
           "subunitcolor": "white"
          },
          "hoverlabel": {
           "align": "left"
          },
          "hovermode": "closest",
          "mapbox": {
           "style": "light"
          },
          "paper_bgcolor": "white",
          "plot_bgcolor": "#E5ECF6",
          "polar": {
           "angularaxis": {
            "gridcolor": "white",
            "linecolor": "white",
            "ticks": ""
           },
           "bgcolor": "#E5ECF6",
           "radialaxis": {
            "gridcolor": "white",
            "linecolor": "white",
            "ticks": ""
           }
          },
          "scene": {
           "xaxis": {
            "backgroundcolor": "#E5ECF6",
            "gridcolor": "white",
            "gridwidth": 2,
            "linecolor": "white",
            "showbackground": true,
            "ticks": "",
            "zerolinecolor": "white"
           },
           "yaxis": {
            "backgroundcolor": "#E5ECF6",
            "gridcolor": "white",
            "gridwidth": 2,
            "linecolor": "white",
            "showbackground": true,
            "ticks": "",
            "zerolinecolor": "white"
           },
           "zaxis": {
            "backgroundcolor": "#E5ECF6",
            "gridcolor": "white",
            "gridwidth": 2,
            "linecolor": "white",
            "showbackground": true,
            "ticks": "",
            "zerolinecolor": "white"
           }
          },
          "shapedefaults": {
           "line": {
            "color": "#2a3f5f"
           }
          },
          "ternary": {
           "aaxis": {
            "gridcolor": "white",
            "linecolor": "white",
            "ticks": ""
           },
           "baxis": {
            "gridcolor": "white",
            "linecolor": "white",
            "ticks": ""
           },
           "bgcolor": "#E5ECF6",
           "caxis": {
            "gridcolor": "white",
            "linecolor": "white",
            "ticks": ""
           }
          },
          "title": {
           "x": 0.05
          },
          "xaxis": {
           "automargin": true,
           "gridcolor": "white",
           "linecolor": "white",
           "ticks": "",
           "title": {
            "standoff": 15
           },
           "zerolinecolor": "white",
           "zerolinewidth": 2
          },
          "yaxis": {
           "automargin": true,
           "gridcolor": "white",
           "linecolor": "white",
           "ticks": "",
           "title": {
            "standoff": 15
           },
           "zerolinecolor": "white",
           "zerolinewidth": 2
          }
         }
        },
        "title": {
         "text": "Execution time of ForecasterRecursive__create_train_X_y"
        },
        "xaxis": {
         "tickangle": -45,
         "tickmode": "array",
         "ticktext": [
          "0.13.0",
          "0.14.0",
          "0.15.1",
          "0.16.0"
         ],
         "tickvals": [
          0,
          1,
          2,
          3
         ],
         "title": {
          "text": "skforecast version"
         }
        },
        "yaxis": {
         "title": {
          "text": "Execution time (seconds)"
         }
        }
       }
      }
     },
     "metadata": {},
     "output_type": "display_data"
    },
    {
     "data": {
      "application/vnd.microsoft.datawrangler.viewer.v0+json": {
       "columns": [
        {
         "name": "index",
         "rawType": "int64",
         "type": "integer"
        },
        {
         "name": "forecaster_name",
         "rawType": "object",
         "type": "string"
        },
        {
         "name": "regressor_name",
         "rawType": "object",
         "type": "string"
        },
        {
         "name": "function_name",
         "rawType": "object",
         "type": "string"
        },
        {
         "name": "function_hash",
         "rawType": "object",
         "type": "string"
        },
        {
         "name": "run_time_avg",
         "rawType": "float64",
         "type": "float"
        },
        {
         "name": "run_time_std_dev",
         "rawType": "float64",
         "type": "float"
        },
        {
         "name": "datetime",
         "rawType": "datetime64[ns]",
         "type": "datetime"
        },
        {
         "name": "python_version",
         "rawType": "object",
         "type": "string"
        },
        {
         "name": "skforecast_version",
         "rawType": "object",
         "type": "string"
        },
        {
         "name": "numpy_version",
         "rawType": "object",
         "type": "string"
        },
        {
         "name": "pandas_version",
         "rawType": "object",
         "type": "string"
        },
        {
         "name": "sklearn_version",
         "rawType": "object",
         "type": "string"
        },
        {
         "name": "lightgbm_version",
         "rawType": "object",
         "type": "string"
        },
        {
         "name": "platform",
         "rawType": "object",
         "type": "string"
        },
        {
         "name": "processor",
         "rawType": "object",
         "type": "string"
        },
        {
         "name": "cpu_count",
         "rawType": "int64",
         "type": "integer"
        },
        {
         "name": "memory_gb",
         "rawType": "float64",
         "type": "float"
        }
       ],
       "conversionMethod": "pd.DataFrame",
       "ref": "2d75c211-3918-4eb3-a45c-809d65752337",
       "rows": [
        [
         "10",
         "ForecasterRecursive",
         "LGBMRegressor",
         "ForecasterRecursive_predict",
         "4f8ae3116340ac90eb9e66eac42789de",
         "0.07513624210041599",
         "0.004202259069974478",
         "2025-04-23 15:05:58.891908",
         "3.12.9",
         "0.16.0",
         "2.2.5",
         "2.2.3",
         "1.6.1",
         "4.6.0",
         "Linux-6.11.0-21-generic-x86_64-with-glibc2.39",
         "x86_64",
         "8",
         "16.64"
        ],
        [
         "22",
         "ForecasterRecursive",
         "LGBMRegressor",
         "ForecasterRecursive_predict",
         "4f8ae3116340ac90eb9e66eac42789de",
         "0.058052727699941895",
         "0.0011193468405259332",
         "2025-04-23 15:12:03.760460",
         "3.12.9",
         "0.15.1",
         "2.2.5",
         "2.2.3",
         "1.6.1",
         "4.6.0",
         "Linux-6.11.0-21-generic-x86_64-with-glibc2.39",
         "x86_64",
         "8",
         "16.64"
        ],
        [
         "34",
         "ForecasterRecursive",
         "LGBMRegressor",
         "ForecasterRecursive_predict",
         "4f8ae3116340ac90eb9e66eac42789de",
         "0.08437705670021386",
         "0.019526727413270988",
         "2025-04-23 15:15:59.361690",
         "3.12.9",
         "0.14.0",
         "2.2.5",
         "2.2.3",
         "1.6.1",
         "4.6.0",
         "Linux-6.11.0-21-generic-x86_64-with-glibc2.39",
         "x86_64",
         "8",
         "16.64"
        ],
        [
         "46",
         "ForecasterAutoreg",
         "LGBMRegressor",
         "ForecasterRecursive_predict",
         "4f8ae3116340ac90eb9e66eac42789de",
         "0.07507486530012102",
         "0.003941938930363311",
         "2025-04-23 15:31:32.543497",
         "3.12.9",
         "0.13.0",
         "2.2.5",
         "2.2.3",
         "1.6.1",
         "4.6.0",
         "Linux-6.11.0-21-generic-x86_64-with-glibc2.39",
         "x86_64",
         "8",
         "16.64"
        ],
        [
         "58",
         "ForecasterAutoreg",
         "LGBMRegressor",
         "ForecasterRecursive_predict",
         "4f8ae3116340ac90eb9e66eac42789de",
         "0.08008301919981023",
         "0.004091988084839491",
         "2025-04-23 15:41:06.477888",
         "3.12.9",
         "0.13.0",
         "2.2.5",
         "2.2.3",
         "1.6.1",
         "4.6.0",
         "Linux-6.11.0-21-generic-x86_64-with-glibc2.39",
         "x86_64",
         "8",
         "16.64"
        ],
        [
         "62",
         "ForecasterAutoreg",
         "LGBMRegressor",
         "ForecasterRecursive_predict",
         "4f8ae3116340ac90eb9e66eac42789de",
         "0.0681095665999237",
         "0.005325810334541273",
         "2025-04-23 15:46:07.814583",
         "3.12.9",
         "0.13.0",
         "2.2.5",
         "2.2.3",
         "1.6.1",
         "4.6.0",
         "Linux-6.11.0-21-generic-x86_64-with-glibc2.39",
         "x86_64",
         "8",
         "16.64"
        ],
        [
         "66",
         "ForecasterAutoreg",
         "LGBMRegressor",
         "ForecasterRecursive_predict",
         "4f8ae3116340ac90eb9e66eac42789de",
         "0.06888195860010456",
         "0.004035633858485056",
         "2025-04-23 15:46:41.087891",
         "3.12.9",
         "0.13.0",
         "2.2.5",
         "2.2.3",
         "1.6.1",
         "4.6.0",
         "Linux-6.11.0-21-generic-x86_64-with-glibc2.39",
         "x86_64",
         "8",
         "16.64"
        ],
        [
         "78",
         "ForecasterRecursive",
         "LGBMRegressor",
         "ForecasterRecursive_predict",
         "4f8ae3116340ac90eb9e66eac42789de",
         "0.08936071180014551",
         "0.00609020884558872",
         "2025-04-23 15:56:53.918733",
         "3.12.9",
         "0.14.0",
         "2.2.5",
         "2.2.3",
         "1.6.1",
         "4.6.0",
         "Linux-6.11.0-21-generic-x86_64-with-glibc2.39",
         "x86_64",
         "8",
         "16.64"
        ],
        [
         "90",
         "ForecasterRecursive",
         "LGBMRegressor",
         "ForecasterRecursive_predict",
         "4f8ae3116340ac90eb9e66eac42789de",
         "0.07749494120016606",
         "0.007501770036742843",
         "2025-04-23 16:01:06.363095",
         "3.12.9",
         "0.15.1",
         "2.2.5",
         "2.2.3",
         "1.6.1",
         "4.6.0",
         "Linux-6.11.0-21-generic-x86_64-with-glibc2.39",
         "x86_64",
         "8",
         "16.64"
        ],
        [
         "102",
         "ForecasterRecursive",
         "LGBMRegressor",
         "ForecasterRecursive_predict",
         "4f8ae3116340ac90eb9e66eac42789de",
         "0.06134711189988593",
         "0.0023799922929652537",
         "2025-04-23 16:05:33.829933",
         "3.12.9",
         "0.15.1",
         "2.2.5",
         "2.2.3",
         "1.6.1",
         "4.6.0",
         "Linux-6.11.0-21-generic-x86_64-with-glibc2.39",
         "x86_64",
         "8",
         "16.64"
        ],
        [
         "114",
         "ForecasterRecursive",
         "LGBMRegressor",
         "ForecasterRecursive_predict",
         "4f8ae3116340ac90eb9e66eac42789de",
         "0.09983513329989364",
         "0.025445827061785248",
         "2025-04-23 16:08:43.060379",
         "3.12.9",
         "0.16.0",
         "2.2.5",
         "2.2.3",
         "1.6.1",
         "4.6.0",
         "Linux-6.11.0-21-generic-x86_64-with-glibc2.39",
         "x86_64",
         "8",
         "16.64"
        ],
        [
         "126",
         "ForecasterRecursive",
         "LGBMRegressor",
         "ForecasterRecursive_predict",
         "4f8ae3116340ac90eb9e66eac42789de",
         "0.07448274099988339",
         "0.0050891159745235556",
         "2025-04-23 16:12:11.093929",
         "3.12.9",
         "0.16.0",
         "2.2.5",
         "2.2.3",
         "1.6.1",
         "4.6.0",
         "Linux-6.11.0-21-generic-x86_64-with-glibc2.39",
         "x86_64",
         "8",
         "16.64"
        ]
       ],
       "shape": {
        "columns": 17,
        "rows": 12
       }
      },
      "text/html": [
       "<div>\n",
       "<style scoped>\n",
       "    .dataframe tbody tr th:only-of-type {\n",
       "        vertical-align: middle;\n",
       "    }\n",
       "\n",
       "    .dataframe tbody tr th {\n",
       "        vertical-align: top;\n",
       "    }\n",
       "\n",
       "    .dataframe thead th {\n",
       "        text-align: right;\n",
       "    }\n",
       "</style>\n",
       "<table border=\"1\" class=\"dataframe\">\n",
       "  <thead>\n",
       "    <tr style=\"text-align: right;\">\n",
       "      <th></th>\n",
       "      <th>forecaster_name</th>\n",
       "      <th>regressor_name</th>\n",
       "      <th>function_name</th>\n",
       "      <th>function_hash</th>\n",
       "      <th>run_time_avg</th>\n",
       "      <th>run_time_std_dev</th>\n",
       "      <th>datetime</th>\n",
       "      <th>python_version</th>\n",
       "      <th>skforecast_version</th>\n",
       "      <th>numpy_version</th>\n",
       "      <th>pandas_version</th>\n",
       "      <th>sklearn_version</th>\n",
       "      <th>lightgbm_version</th>\n",
       "      <th>platform</th>\n",
       "      <th>processor</th>\n",
       "      <th>cpu_count</th>\n",
       "      <th>memory_gb</th>\n",
       "    </tr>\n",
       "  </thead>\n",
       "  <tbody>\n",
       "    <tr>\n",
       "      <th>10</th>\n",
       "      <td>ForecasterRecursive</td>\n",
       "      <td>LGBMRegressor</td>\n",
       "      <td>ForecasterRecursive_predict</td>\n",
       "      <td>4f8ae3116340ac90eb9e66eac42789de</td>\n",
       "      <td>0.075136</td>\n",
       "      <td>0.004202</td>\n",
       "      <td>2025-04-23 15:05:58.891908</td>\n",
       "      <td>3.12.9</td>\n",
       "      <td>0.16.0</td>\n",
       "      <td>2.2.5</td>\n",
       "      <td>2.2.3</td>\n",
       "      <td>1.6.1</td>\n",
       "      <td>4.6.0</td>\n",
       "      <td>Linux-6.11.0-21-generic-x86_64-with-glibc2.39</td>\n",
       "      <td>x86_64</td>\n",
       "      <td>8</td>\n",
       "      <td>16.64</td>\n",
       "    </tr>\n",
       "    <tr>\n",
       "      <th>22</th>\n",
       "      <td>ForecasterRecursive</td>\n",
       "      <td>LGBMRegressor</td>\n",
       "      <td>ForecasterRecursive_predict</td>\n",
       "      <td>4f8ae3116340ac90eb9e66eac42789de</td>\n",
       "      <td>0.058053</td>\n",
       "      <td>0.001119</td>\n",
       "      <td>2025-04-23 15:12:03.760460</td>\n",
       "      <td>3.12.9</td>\n",
       "      <td>0.15.1</td>\n",
       "      <td>2.2.5</td>\n",
       "      <td>2.2.3</td>\n",
       "      <td>1.6.1</td>\n",
       "      <td>4.6.0</td>\n",
       "      <td>Linux-6.11.0-21-generic-x86_64-with-glibc2.39</td>\n",
       "      <td>x86_64</td>\n",
       "      <td>8</td>\n",
       "      <td>16.64</td>\n",
       "    </tr>\n",
       "    <tr>\n",
       "      <th>34</th>\n",
       "      <td>ForecasterRecursive</td>\n",
       "      <td>LGBMRegressor</td>\n",
       "      <td>ForecasterRecursive_predict</td>\n",
       "      <td>4f8ae3116340ac90eb9e66eac42789de</td>\n",
       "      <td>0.084377</td>\n",
       "      <td>0.019527</td>\n",
       "      <td>2025-04-23 15:15:59.361690</td>\n",
       "      <td>3.12.9</td>\n",
       "      <td>0.14.0</td>\n",
       "      <td>2.2.5</td>\n",
       "      <td>2.2.3</td>\n",
       "      <td>1.6.1</td>\n",
       "      <td>4.6.0</td>\n",
       "      <td>Linux-6.11.0-21-generic-x86_64-with-glibc2.39</td>\n",
       "      <td>x86_64</td>\n",
       "      <td>8</td>\n",
       "      <td>16.64</td>\n",
       "    </tr>\n",
       "    <tr>\n",
       "      <th>46</th>\n",
       "      <td>ForecasterAutoreg</td>\n",
       "      <td>LGBMRegressor</td>\n",
       "      <td>ForecasterRecursive_predict</td>\n",
       "      <td>4f8ae3116340ac90eb9e66eac42789de</td>\n",
       "      <td>0.075075</td>\n",
       "      <td>0.003942</td>\n",
       "      <td>2025-04-23 15:31:32.543497</td>\n",
       "      <td>3.12.9</td>\n",
       "      <td>0.13.0</td>\n",
       "      <td>2.2.5</td>\n",
       "      <td>2.2.3</td>\n",
       "      <td>1.6.1</td>\n",
       "      <td>4.6.0</td>\n",
       "      <td>Linux-6.11.0-21-generic-x86_64-with-glibc2.39</td>\n",
       "      <td>x86_64</td>\n",
       "      <td>8</td>\n",
       "      <td>16.64</td>\n",
       "    </tr>\n",
       "    <tr>\n",
       "      <th>58</th>\n",
       "      <td>ForecasterAutoreg</td>\n",
       "      <td>LGBMRegressor</td>\n",
       "      <td>ForecasterRecursive_predict</td>\n",
       "      <td>4f8ae3116340ac90eb9e66eac42789de</td>\n",
       "      <td>0.080083</td>\n",
       "      <td>0.004092</td>\n",
       "      <td>2025-04-23 15:41:06.477888</td>\n",
       "      <td>3.12.9</td>\n",
       "      <td>0.13.0</td>\n",
       "      <td>2.2.5</td>\n",
       "      <td>2.2.3</td>\n",
       "      <td>1.6.1</td>\n",
       "      <td>4.6.0</td>\n",
       "      <td>Linux-6.11.0-21-generic-x86_64-with-glibc2.39</td>\n",
       "      <td>x86_64</td>\n",
       "      <td>8</td>\n",
       "      <td>16.64</td>\n",
       "    </tr>\n",
       "    <tr>\n",
       "      <th>62</th>\n",
       "      <td>ForecasterAutoreg</td>\n",
       "      <td>LGBMRegressor</td>\n",
       "      <td>ForecasterRecursive_predict</td>\n",
       "      <td>4f8ae3116340ac90eb9e66eac42789de</td>\n",
       "      <td>0.068110</td>\n",
       "      <td>0.005326</td>\n",
       "      <td>2025-04-23 15:46:07.814583</td>\n",
       "      <td>3.12.9</td>\n",
       "      <td>0.13.0</td>\n",
       "      <td>2.2.5</td>\n",
       "      <td>2.2.3</td>\n",
       "      <td>1.6.1</td>\n",
       "      <td>4.6.0</td>\n",
       "      <td>Linux-6.11.0-21-generic-x86_64-with-glibc2.39</td>\n",
       "      <td>x86_64</td>\n",
       "      <td>8</td>\n",
       "      <td>16.64</td>\n",
       "    </tr>\n",
       "    <tr>\n",
       "      <th>66</th>\n",
       "      <td>ForecasterAutoreg</td>\n",
       "      <td>LGBMRegressor</td>\n",
       "      <td>ForecasterRecursive_predict</td>\n",
       "      <td>4f8ae3116340ac90eb9e66eac42789de</td>\n",
       "      <td>0.068882</td>\n",
       "      <td>0.004036</td>\n",
       "      <td>2025-04-23 15:46:41.087891</td>\n",
       "      <td>3.12.9</td>\n",
       "      <td>0.13.0</td>\n",
       "      <td>2.2.5</td>\n",
       "      <td>2.2.3</td>\n",
       "      <td>1.6.1</td>\n",
       "      <td>4.6.0</td>\n",
       "      <td>Linux-6.11.0-21-generic-x86_64-with-glibc2.39</td>\n",
       "      <td>x86_64</td>\n",
       "      <td>8</td>\n",
       "      <td>16.64</td>\n",
       "    </tr>\n",
       "    <tr>\n",
       "      <th>78</th>\n",
       "      <td>ForecasterRecursive</td>\n",
       "      <td>LGBMRegressor</td>\n",
       "      <td>ForecasterRecursive_predict</td>\n",
       "      <td>4f8ae3116340ac90eb9e66eac42789de</td>\n",
       "      <td>0.089361</td>\n",
       "      <td>0.006090</td>\n",
       "      <td>2025-04-23 15:56:53.918733</td>\n",
       "      <td>3.12.9</td>\n",
       "      <td>0.14.0</td>\n",
       "      <td>2.2.5</td>\n",
       "      <td>2.2.3</td>\n",
       "      <td>1.6.1</td>\n",
       "      <td>4.6.0</td>\n",
       "      <td>Linux-6.11.0-21-generic-x86_64-with-glibc2.39</td>\n",
       "      <td>x86_64</td>\n",
       "      <td>8</td>\n",
       "      <td>16.64</td>\n",
       "    </tr>\n",
       "    <tr>\n",
       "      <th>90</th>\n",
       "      <td>ForecasterRecursive</td>\n",
       "      <td>LGBMRegressor</td>\n",
       "      <td>ForecasterRecursive_predict</td>\n",
       "      <td>4f8ae3116340ac90eb9e66eac42789de</td>\n",
       "      <td>0.077495</td>\n",
       "      <td>0.007502</td>\n",
       "      <td>2025-04-23 16:01:06.363095</td>\n",
       "      <td>3.12.9</td>\n",
       "      <td>0.15.1</td>\n",
       "      <td>2.2.5</td>\n",
       "      <td>2.2.3</td>\n",
       "      <td>1.6.1</td>\n",
       "      <td>4.6.0</td>\n",
       "      <td>Linux-6.11.0-21-generic-x86_64-with-glibc2.39</td>\n",
       "      <td>x86_64</td>\n",
       "      <td>8</td>\n",
       "      <td>16.64</td>\n",
       "    </tr>\n",
       "    <tr>\n",
       "      <th>102</th>\n",
       "      <td>ForecasterRecursive</td>\n",
       "      <td>LGBMRegressor</td>\n",
       "      <td>ForecasterRecursive_predict</td>\n",
       "      <td>4f8ae3116340ac90eb9e66eac42789de</td>\n",
       "      <td>0.061347</td>\n",
       "      <td>0.002380</td>\n",
       "      <td>2025-04-23 16:05:33.829933</td>\n",
       "      <td>3.12.9</td>\n",
       "      <td>0.15.1</td>\n",
       "      <td>2.2.5</td>\n",
       "      <td>2.2.3</td>\n",
       "      <td>1.6.1</td>\n",
       "      <td>4.6.0</td>\n",
       "      <td>Linux-6.11.0-21-generic-x86_64-with-glibc2.39</td>\n",
       "      <td>x86_64</td>\n",
       "      <td>8</td>\n",
       "      <td>16.64</td>\n",
       "    </tr>\n",
       "    <tr>\n",
       "      <th>114</th>\n",
       "      <td>ForecasterRecursive</td>\n",
       "      <td>LGBMRegressor</td>\n",
       "      <td>ForecasterRecursive_predict</td>\n",
       "      <td>4f8ae3116340ac90eb9e66eac42789de</td>\n",
       "      <td>0.099835</td>\n",
       "      <td>0.025446</td>\n",
       "      <td>2025-04-23 16:08:43.060379</td>\n",
       "      <td>3.12.9</td>\n",
       "      <td>0.16.0</td>\n",
       "      <td>2.2.5</td>\n",
       "      <td>2.2.3</td>\n",
       "      <td>1.6.1</td>\n",
       "      <td>4.6.0</td>\n",
       "      <td>Linux-6.11.0-21-generic-x86_64-with-glibc2.39</td>\n",
       "      <td>x86_64</td>\n",
       "      <td>8</td>\n",
       "      <td>16.64</td>\n",
       "    </tr>\n",
       "    <tr>\n",
       "      <th>126</th>\n",
       "      <td>ForecasterRecursive</td>\n",
       "      <td>LGBMRegressor</td>\n",
       "      <td>ForecasterRecursive_predict</td>\n",
       "      <td>4f8ae3116340ac90eb9e66eac42789de</td>\n",
       "      <td>0.074483</td>\n",
       "      <td>0.005089</td>\n",
       "      <td>2025-04-23 16:12:11.093929</td>\n",
       "      <td>3.12.9</td>\n",
       "      <td>0.16.0</td>\n",
       "      <td>2.2.5</td>\n",
       "      <td>2.2.3</td>\n",
       "      <td>1.6.1</td>\n",
       "      <td>4.6.0</td>\n",
       "      <td>Linux-6.11.0-21-generic-x86_64-with-glibc2.39</td>\n",
       "      <td>x86_64</td>\n",
       "      <td>8</td>\n",
       "      <td>16.64</td>\n",
       "    </tr>\n",
       "  </tbody>\n",
       "</table>\n",
       "</div>"
      ],
      "text/plain": [
       "         forecaster_name regressor_name                function_name  \\\n",
       "10   ForecasterRecursive  LGBMRegressor  ForecasterRecursive_predict   \n",
       "22   ForecasterRecursive  LGBMRegressor  ForecasterRecursive_predict   \n",
       "34   ForecasterRecursive  LGBMRegressor  ForecasterRecursive_predict   \n",
       "46     ForecasterAutoreg  LGBMRegressor  ForecasterRecursive_predict   \n",
       "58     ForecasterAutoreg  LGBMRegressor  ForecasterRecursive_predict   \n",
       "62     ForecasterAutoreg  LGBMRegressor  ForecasterRecursive_predict   \n",
       "66     ForecasterAutoreg  LGBMRegressor  ForecasterRecursive_predict   \n",
       "78   ForecasterRecursive  LGBMRegressor  ForecasterRecursive_predict   \n",
       "90   ForecasterRecursive  LGBMRegressor  ForecasterRecursive_predict   \n",
       "102  ForecasterRecursive  LGBMRegressor  ForecasterRecursive_predict   \n",
       "114  ForecasterRecursive  LGBMRegressor  ForecasterRecursive_predict   \n",
       "126  ForecasterRecursive  LGBMRegressor  ForecasterRecursive_predict   \n",
       "\n",
       "                        function_hash  run_time_avg  run_time_std_dev  \\\n",
       "10   4f8ae3116340ac90eb9e66eac42789de      0.075136          0.004202   \n",
       "22   4f8ae3116340ac90eb9e66eac42789de      0.058053          0.001119   \n",
       "34   4f8ae3116340ac90eb9e66eac42789de      0.084377          0.019527   \n",
       "46   4f8ae3116340ac90eb9e66eac42789de      0.075075          0.003942   \n",
       "58   4f8ae3116340ac90eb9e66eac42789de      0.080083          0.004092   \n",
       "62   4f8ae3116340ac90eb9e66eac42789de      0.068110          0.005326   \n",
       "66   4f8ae3116340ac90eb9e66eac42789de      0.068882          0.004036   \n",
       "78   4f8ae3116340ac90eb9e66eac42789de      0.089361          0.006090   \n",
       "90   4f8ae3116340ac90eb9e66eac42789de      0.077495          0.007502   \n",
       "102  4f8ae3116340ac90eb9e66eac42789de      0.061347          0.002380   \n",
       "114  4f8ae3116340ac90eb9e66eac42789de      0.099835          0.025446   \n",
       "126  4f8ae3116340ac90eb9e66eac42789de      0.074483          0.005089   \n",
       "\n",
       "                      datetime python_version skforecast_version  \\\n",
       "10  2025-04-23 15:05:58.891908         3.12.9             0.16.0   \n",
       "22  2025-04-23 15:12:03.760460         3.12.9             0.15.1   \n",
       "34  2025-04-23 15:15:59.361690         3.12.9             0.14.0   \n",
       "46  2025-04-23 15:31:32.543497         3.12.9             0.13.0   \n",
       "58  2025-04-23 15:41:06.477888         3.12.9             0.13.0   \n",
       "62  2025-04-23 15:46:07.814583         3.12.9             0.13.0   \n",
       "66  2025-04-23 15:46:41.087891         3.12.9             0.13.0   \n",
       "78  2025-04-23 15:56:53.918733         3.12.9             0.14.0   \n",
       "90  2025-04-23 16:01:06.363095         3.12.9             0.15.1   \n",
       "102 2025-04-23 16:05:33.829933         3.12.9             0.15.1   \n",
       "114 2025-04-23 16:08:43.060379         3.12.9             0.16.0   \n",
       "126 2025-04-23 16:12:11.093929         3.12.9             0.16.0   \n",
       "\n",
       "    numpy_version pandas_version sklearn_version lightgbm_version  \\\n",
       "10          2.2.5          2.2.3           1.6.1            4.6.0   \n",
       "22          2.2.5          2.2.3           1.6.1            4.6.0   \n",
       "34          2.2.5          2.2.3           1.6.1            4.6.0   \n",
       "46          2.2.5          2.2.3           1.6.1            4.6.0   \n",
       "58          2.2.5          2.2.3           1.6.1            4.6.0   \n",
       "62          2.2.5          2.2.3           1.6.1            4.6.0   \n",
       "66          2.2.5          2.2.3           1.6.1            4.6.0   \n",
       "78          2.2.5          2.2.3           1.6.1            4.6.0   \n",
       "90          2.2.5          2.2.3           1.6.1            4.6.0   \n",
       "102         2.2.5          2.2.3           1.6.1            4.6.0   \n",
       "114         2.2.5          2.2.3           1.6.1            4.6.0   \n",
       "126         2.2.5          2.2.3           1.6.1            4.6.0   \n",
       "\n",
       "                                          platform processor  cpu_count  \\\n",
       "10   Linux-6.11.0-21-generic-x86_64-with-glibc2.39    x86_64          8   \n",
       "22   Linux-6.11.0-21-generic-x86_64-with-glibc2.39    x86_64          8   \n",
       "34   Linux-6.11.0-21-generic-x86_64-with-glibc2.39    x86_64          8   \n",
       "46   Linux-6.11.0-21-generic-x86_64-with-glibc2.39    x86_64          8   \n",
       "58   Linux-6.11.0-21-generic-x86_64-with-glibc2.39    x86_64          8   \n",
       "62   Linux-6.11.0-21-generic-x86_64-with-glibc2.39    x86_64          8   \n",
       "66   Linux-6.11.0-21-generic-x86_64-with-glibc2.39    x86_64          8   \n",
       "78   Linux-6.11.0-21-generic-x86_64-with-glibc2.39    x86_64          8   \n",
       "90   Linux-6.11.0-21-generic-x86_64-with-glibc2.39    x86_64          8   \n",
       "102  Linux-6.11.0-21-generic-x86_64-with-glibc2.39    x86_64          8   \n",
       "114  Linux-6.11.0-21-generic-x86_64-with-glibc2.39    x86_64          8   \n",
       "126  Linux-6.11.0-21-generic-x86_64-with-glibc2.39    x86_64          8   \n",
       "\n",
       "     memory_gb  \n",
       "10       16.64  \n",
       "22       16.64  \n",
       "34       16.64  \n",
       "46       16.64  \n",
       "58       16.64  \n",
       "62       16.64  \n",
       "66       16.64  \n",
       "78       16.64  \n",
       "90       16.64  \n",
       "102      16.64  \n",
       "114      16.64  \n",
       "126      16.64  "
      ]
     },
     "metadata": {},
     "output_type": "display_data"
    },
    {
     "data": {
      "application/vnd.plotly.v1+json": {
       "config": {
        "plotlyServerURL": "https://plot.ly"
       },
       "data": [
        {
         "error_y": {
          "array": {
           "bdata": "dq2eLGwlcD+kBwCwwsJwPwSGYlOE0HU/Dp0NN6uHcD8=",
           "dtype": "f8"
          },
          "color": "#636EFA",
          "thickness": 1.5,
          "type": "data",
          "visible": true,
          "width": 5
         },
         "hovertemplate": "Version: 0.13.0<br>Runtime: %{y:.2f}s<extra></extra>",
         "marker": {
          "color": "#636EFA",
          "opacity": 0.7,
          "size": 10
         },
         "mode": "markers",
         "name": "Run time - 0.13.0",
         "showlegend": true,
         "type": "scatter",
         "x": {
          "bdata": "fByzX9/Fir9AKClBT8iAPwyt5c8ZpoA/hj3Rm6N3pT8=",
          "dtype": "f8"
         },
         "y": {
          "bdata": "MzM3Oxs4sz+amW0cUoC0P2ZmF+mgb7E/zcx4fz+isT8=",
          "dtype": "f8"
         }
        },
        {
         "error_y": {
          "array": {
           "bdata": "HjeNftD+kz/c8RT9C/J4Pw==",
           "dtype": "f8"
          },
          "color": "#EF553B",
          "thickness": 1.5,
          "type": "data",
          "visible": true,
          "width": 5
         },
         "hovertemplate": "Version: 0.14.0<br>Runtime: %{y:.2f}s<extra></extra>",
         "marker": {
          "color": "#EF553B",
          "opacity": 0.7,
          "size": 10
         },
         "mode": "markers",
         "name": "Run time - 0.14.0",
         "showlegend": true,
         "type": "scatter",
         "x": {
          "bdata": "R887kefC7j+9ao9gHibvPw==",
          "dtype": "f8"
         },
         "y": {
          "bdata": "ZmYPG7yZtT+ambr2V+C2Pw==",
          "dtype": "f8"
         }
        },
        {
         "error_y": {
          "array": {
           "bdata": "vQurhOFWUj84zoQPLbp+P/A9BKI0f2M/",
           "dtype": "f8"
          },
          "color": "#00CC96",
          "thickness": 1.5,
          "type": "data",
          "visible": true,
          "width": 5
         },
         "hovertemplate": "Version: 0.15.1<br>Runtime: %{y:.2f}s<extra></extra>",
         "marker": {
          "color": "#00CC96",
          "opacity": 0.7,
          "size": 10
         },
         "mode": "markers",
         "name": "Run time - 0.15.1",
         "showlegend": true,
         "type": "scatter",
         "x": {
          "bdata": "PJXABdYrAEAE9ARBKzsAQLPaQ8D49/8/",
          "dtype": "f8"
         },
         "y": {
          "bdata": "ZmbUTRa5rT9mZg9etdazP83MoH7jaK8/",
          "dtype": "f8"
         }
        },
        {
         "error_y": {
          "array": {
           "bdata": "WdNlVGM2cT+IPTOMeA6aP4Zt0SpT2HQ/",
           "dtype": "f8"
          },
          "color": "#AB63FA",
          "thickness": 1.5,
          "type": "data",
          "visible": true,
          "width": 5
         },
         "hovertemplate": "Version: 0.16.0<br>Runtime: %{y:.2f}s<extra></extra>",
         "marker": {
          "color": "#AB63FA",
          "opacity": 0.7,
          "size": 10
         },
         "mode": "markers",
         "name": "Run time - 0.16.0",
         "showlegend": true,
         "type": "scatter",
         "x": {
          "bdata": "3XFGslY0CEC7OdZSiFAIQMBUjDglLQhA",
          "dtype": "f8"
         },
         "y": {
          "bdata": "zcyQ9iA8sz/NzIOYy465PwAAtghNEbM/",
          "dtype": "f8"
         }
        },
        {
         "line": {
          "color": "black",
          "width": 2
         },
         "marker": {
          "color": "black",
          "size": 8
         },
         "mode": "lines+markers",
         "name": "Median (per version)",
         "type": "scatter",
         "x": {
          "bdata": "AAECAw==",
          "dtype": "i1"
         },
         "y": {
          "bdata": "AABYXS1tsj8AAOUICj22P83MoH7jaK8/zcyQ9iA8sz8=",
          "dtype": "f8"
         }
        }
       ],
       "layout": {
        "showlegend": true,
        "template": {
         "data": {
          "bar": [
           {
            "error_x": {
             "color": "#2a3f5f"
            },
            "error_y": {
             "color": "#2a3f5f"
            },
            "marker": {
             "line": {
              "color": "#E5ECF6",
              "width": 0.5
             },
             "pattern": {
              "fillmode": "overlay",
              "size": 10,
              "solidity": 0.2
             }
            },
            "type": "bar"
           }
          ],
          "barpolar": [
           {
            "marker": {
             "line": {
              "color": "#E5ECF6",
              "width": 0.5
             },
             "pattern": {
              "fillmode": "overlay",
              "size": 10,
              "solidity": 0.2
             }
            },
            "type": "barpolar"
           }
          ],
          "carpet": [
           {
            "aaxis": {
             "endlinecolor": "#2a3f5f",
             "gridcolor": "white",
             "linecolor": "white",
             "minorgridcolor": "white",
             "startlinecolor": "#2a3f5f"
            },
            "baxis": {
             "endlinecolor": "#2a3f5f",
             "gridcolor": "white",
             "linecolor": "white",
             "minorgridcolor": "white",
             "startlinecolor": "#2a3f5f"
            },
            "type": "carpet"
           }
          ],
          "choropleth": [
           {
            "colorbar": {
             "outlinewidth": 0,
             "ticks": ""
            },
            "type": "choropleth"
           }
          ],
          "contour": [
           {
            "colorbar": {
             "outlinewidth": 0,
             "ticks": ""
            },
            "colorscale": [
             [
              0,
              "#0d0887"
             ],
             [
              0.1111111111111111,
              "#46039f"
             ],
             [
              0.2222222222222222,
              "#7201a8"
             ],
             [
              0.3333333333333333,
              "#9c179e"
             ],
             [
              0.4444444444444444,
              "#bd3786"
             ],
             [
              0.5555555555555556,
              "#d8576b"
             ],
             [
              0.6666666666666666,
              "#ed7953"
             ],
             [
              0.7777777777777778,
              "#fb9f3a"
             ],
             [
              0.8888888888888888,
              "#fdca26"
             ],
             [
              1,
              "#f0f921"
             ]
            ],
            "type": "contour"
           }
          ],
          "contourcarpet": [
           {
            "colorbar": {
             "outlinewidth": 0,
             "ticks": ""
            },
            "type": "contourcarpet"
           }
          ],
          "heatmap": [
           {
            "colorbar": {
             "outlinewidth": 0,
             "ticks": ""
            },
            "colorscale": [
             [
              0,
              "#0d0887"
             ],
             [
              0.1111111111111111,
              "#46039f"
             ],
             [
              0.2222222222222222,
              "#7201a8"
             ],
             [
              0.3333333333333333,
              "#9c179e"
             ],
             [
              0.4444444444444444,
              "#bd3786"
             ],
             [
              0.5555555555555556,
              "#d8576b"
             ],
             [
              0.6666666666666666,
              "#ed7953"
             ],
             [
              0.7777777777777778,
              "#fb9f3a"
             ],
             [
              0.8888888888888888,
              "#fdca26"
             ],
             [
              1,
              "#f0f921"
             ]
            ],
            "type": "heatmap"
           }
          ],
          "histogram": [
           {
            "marker": {
             "pattern": {
              "fillmode": "overlay",
              "size": 10,
              "solidity": 0.2
             }
            },
            "type": "histogram"
           }
          ],
          "histogram2d": [
           {
            "colorbar": {
             "outlinewidth": 0,
             "ticks": ""
            },
            "colorscale": [
             [
              0,
              "#0d0887"
             ],
             [
              0.1111111111111111,
              "#46039f"
             ],
             [
              0.2222222222222222,
              "#7201a8"
             ],
             [
              0.3333333333333333,
              "#9c179e"
             ],
             [
              0.4444444444444444,
              "#bd3786"
             ],
             [
              0.5555555555555556,
              "#d8576b"
             ],
             [
              0.6666666666666666,
              "#ed7953"
             ],
             [
              0.7777777777777778,
              "#fb9f3a"
             ],
             [
              0.8888888888888888,
              "#fdca26"
             ],
             [
              1,
              "#f0f921"
             ]
            ],
            "type": "histogram2d"
           }
          ],
          "histogram2dcontour": [
           {
            "colorbar": {
             "outlinewidth": 0,
             "ticks": ""
            },
            "colorscale": [
             [
              0,
              "#0d0887"
             ],
             [
              0.1111111111111111,
              "#46039f"
             ],
             [
              0.2222222222222222,
              "#7201a8"
             ],
             [
              0.3333333333333333,
              "#9c179e"
             ],
             [
              0.4444444444444444,
              "#bd3786"
             ],
             [
              0.5555555555555556,
              "#d8576b"
             ],
             [
              0.6666666666666666,
              "#ed7953"
             ],
             [
              0.7777777777777778,
              "#fb9f3a"
             ],
             [
              0.8888888888888888,
              "#fdca26"
             ],
             [
              1,
              "#f0f921"
             ]
            ],
            "type": "histogram2dcontour"
           }
          ],
          "mesh3d": [
           {
            "colorbar": {
             "outlinewidth": 0,
             "ticks": ""
            },
            "type": "mesh3d"
           }
          ],
          "parcoords": [
           {
            "line": {
             "colorbar": {
              "outlinewidth": 0,
              "ticks": ""
             }
            },
            "type": "parcoords"
           }
          ],
          "pie": [
           {
            "automargin": true,
            "type": "pie"
           }
          ],
          "scatter": [
           {
            "fillpattern": {
             "fillmode": "overlay",
             "size": 10,
             "solidity": 0.2
            },
            "type": "scatter"
           }
          ],
          "scatter3d": [
           {
            "line": {
             "colorbar": {
              "outlinewidth": 0,
              "ticks": ""
             }
            },
            "marker": {
             "colorbar": {
              "outlinewidth": 0,
              "ticks": ""
             }
            },
            "type": "scatter3d"
           }
          ],
          "scattercarpet": [
           {
            "marker": {
             "colorbar": {
              "outlinewidth": 0,
              "ticks": ""
             }
            },
            "type": "scattercarpet"
           }
          ],
          "scattergeo": [
           {
            "marker": {
             "colorbar": {
              "outlinewidth": 0,
              "ticks": ""
             }
            },
            "type": "scattergeo"
           }
          ],
          "scattergl": [
           {
            "marker": {
             "colorbar": {
              "outlinewidth": 0,
              "ticks": ""
             }
            },
            "type": "scattergl"
           }
          ],
          "scattermap": [
           {
            "marker": {
             "colorbar": {
              "outlinewidth": 0,
              "ticks": ""
             }
            },
            "type": "scattermap"
           }
          ],
          "scattermapbox": [
           {
            "marker": {
             "colorbar": {
              "outlinewidth": 0,
              "ticks": ""
             }
            },
            "type": "scattermapbox"
           }
          ],
          "scatterpolar": [
           {
            "marker": {
             "colorbar": {
              "outlinewidth": 0,
              "ticks": ""
             }
            },
            "type": "scatterpolar"
           }
          ],
          "scatterpolargl": [
           {
            "marker": {
             "colorbar": {
              "outlinewidth": 0,
              "ticks": ""
             }
            },
            "type": "scatterpolargl"
           }
          ],
          "scatterternary": [
           {
            "marker": {
             "colorbar": {
              "outlinewidth": 0,
              "ticks": ""
             }
            },
            "type": "scatterternary"
           }
          ],
          "surface": [
           {
            "colorbar": {
             "outlinewidth": 0,
             "ticks": ""
            },
            "colorscale": [
             [
              0,
              "#0d0887"
             ],
             [
              0.1111111111111111,
              "#46039f"
             ],
             [
              0.2222222222222222,
              "#7201a8"
             ],
             [
              0.3333333333333333,
              "#9c179e"
             ],
             [
              0.4444444444444444,
              "#bd3786"
             ],
             [
              0.5555555555555556,
              "#d8576b"
             ],
             [
              0.6666666666666666,
              "#ed7953"
             ],
             [
              0.7777777777777778,
              "#fb9f3a"
             ],
             [
              0.8888888888888888,
              "#fdca26"
             ],
             [
              1,
              "#f0f921"
             ]
            ],
            "type": "surface"
           }
          ],
          "table": [
           {
            "cells": {
             "fill": {
              "color": "#EBF0F8"
             },
             "line": {
              "color": "white"
             }
            },
            "header": {
             "fill": {
              "color": "#C8D4E3"
             },
             "line": {
              "color": "white"
             }
            },
            "type": "table"
           }
          ]
         },
         "layout": {
          "annotationdefaults": {
           "arrowcolor": "#2a3f5f",
           "arrowhead": 0,
           "arrowwidth": 1
          },
          "autotypenumbers": "strict",
          "coloraxis": {
           "colorbar": {
            "outlinewidth": 0,
            "ticks": ""
           }
          },
          "colorscale": {
           "diverging": [
            [
             0,
             "#8e0152"
            ],
            [
             0.1,
             "#c51b7d"
            ],
            [
             0.2,
             "#de77ae"
            ],
            [
             0.3,
             "#f1b6da"
            ],
            [
             0.4,
             "#fde0ef"
            ],
            [
             0.5,
             "#f7f7f7"
            ],
            [
             0.6,
             "#e6f5d0"
            ],
            [
             0.7,
             "#b8e186"
            ],
            [
             0.8,
             "#7fbc41"
            ],
            [
             0.9,
             "#4d9221"
            ],
            [
             1,
             "#276419"
            ]
           ],
           "sequential": [
            [
             0,
             "#0d0887"
            ],
            [
             0.1111111111111111,
             "#46039f"
            ],
            [
             0.2222222222222222,
             "#7201a8"
            ],
            [
             0.3333333333333333,
             "#9c179e"
            ],
            [
             0.4444444444444444,
             "#bd3786"
            ],
            [
             0.5555555555555556,
             "#d8576b"
            ],
            [
             0.6666666666666666,
             "#ed7953"
            ],
            [
             0.7777777777777778,
             "#fb9f3a"
            ],
            [
             0.8888888888888888,
             "#fdca26"
            ],
            [
             1,
             "#f0f921"
            ]
           ],
           "sequentialminus": [
            [
             0,
             "#0d0887"
            ],
            [
             0.1111111111111111,
             "#46039f"
            ],
            [
             0.2222222222222222,
             "#7201a8"
            ],
            [
             0.3333333333333333,
             "#9c179e"
            ],
            [
             0.4444444444444444,
             "#bd3786"
            ],
            [
             0.5555555555555556,
             "#d8576b"
            ],
            [
             0.6666666666666666,
             "#ed7953"
            ],
            [
             0.7777777777777778,
             "#fb9f3a"
            ],
            [
             0.8888888888888888,
             "#fdca26"
            ],
            [
             1,
             "#f0f921"
            ]
           ]
          },
          "colorway": [
           "#636efa",
           "#EF553B",
           "#00cc96",
           "#ab63fa",
           "#FFA15A",
           "#19d3f3",
           "#FF6692",
           "#B6E880",
           "#FF97FF",
           "#FECB52"
          ],
          "font": {
           "color": "#2a3f5f"
          },
          "geo": {
           "bgcolor": "white",
           "lakecolor": "white",
           "landcolor": "#E5ECF6",
           "showlakes": true,
           "showland": true,
           "subunitcolor": "white"
          },
          "hoverlabel": {
           "align": "left"
          },
          "hovermode": "closest",
          "mapbox": {
           "style": "light"
          },
          "paper_bgcolor": "white",
          "plot_bgcolor": "#E5ECF6",
          "polar": {
           "angularaxis": {
            "gridcolor": "white",
            "linecolor": "white",
            "ticks": ""
           },
           "bgcolor": "#E5ECF6",
           "radialaxis": {
            "gridcolor": "white",
            "linecolor": "white",
            "ticks": ""
           }
          },
          "scene": {
           "xaxis": {
            "backgroundcolor": "#E5ECF6",
            "gridcolor": "white",
            "gridwidth": 2,
            "linecolor": "white",
            "showbackground": true,
            "ticks": "",
            "zerolinecolor": "white"
           },
           "yaxis": {
            "backgroundcolor": "#E5ECF6",
            "gridcolor": "white",
            "gridwidth": 2,
            "linecolor": "white",
            "showbackground": true,
            "ticks": "",
            "zerolinecolor": "white"
           },
           "zaxis": {
            "backgroundcolor": "#E5ECF6",
            "gridcolor": "white",
            "gridwidth": 2,
            "linecolor": "white",
            "showbackground": true,
            "ticks": "",
            "zerolinecolor": "white"
           }
          },
          "shapedefaults": {
           "line": {
            "color": "#2a3f5f"
           }
          },
          "ternary": {
           "aaxis": {
            "gridcolor": "white",
            "linecolor": "white",
            "ticks": ""
           },
           "baxis": {
            "gridcolor": "white",
            "linecolor": "white",
            "ticks": ""
           },
           "bgcolor": "#E5ECF6",
           "caxis": {
            "gridcolor": "white",
            "linecolor": "white",
            "ticks": ""
           }
          },
          "title": {
           "x": 0.05
          },
          "xaxis": {
           "automargin": true,
           "gridcolor": "white",
           "linecolor": "white",
           "ticks": "",
           "title": {
            "standoff": 15
           },
           "zerolinecolor": "white",
           "zerolinewidth": 2
          },
          "yaxis": {
           "automargin": true,
           "gridcolor": "white",
           "linecolor": "white",
           "ticks": "",
           "title": {
            "standoff": 15
           },
           "zerolinecolor": "white",
           "zerolinewidth": 2
          }
         }
        },
        "title": {
         "text": "Execution time of ForecasterRecursive_predict"
        },
        "xaxis": {
         "tickangle": -45,
         "tickmode": "array",
         "ticktext": [
          "0.13.0",
          "0.14.0",
          "0.15.1",
          "0.16.0"
         ],
         "tickvals": [
          0,
          1,
          2,
          3
         ],
         "title": {
          "text": "skforecast version"
         }
        },
        "yaxis": {
         "title": {
          "text": "Execution time (seconds)"
         }
        }
       }
      }
     },
     "metadata": {},
     "output_type": "display_data"
    },
    {
     "data": {
      "application/vnd.microsoft.datawrangler.viewer.v0+json": {
       "columns": [
        {
         "name": "index",
         "rawType": "int64",
         "type": "integer"
        },
        {
         "name": "forecaster_name",
         "rawType": "object",
         "type": "string"
        },
        {
         "name": "regressor_name",
         "rawType": "object",
         "type": "string"
        },
        {
         "name": "function_name",
         "rawType": "object",
         "type": "string"
        },
        {
         "name": "function_hash",
         "rawType": "object",
         "type": "string"
        },
        {
         "name": "run_time_avg",
         "rawType": "float64",
         "type": "float"
        },
        {
         "name": "run_time_std_dev",
         "rawType": "float64",
         "type": "float"
        },
        {
         "name": "datetime",
         "rawType": "datetime64[ns]",
         "type": "datetime"
        },
        {
         "name": "python_version",
         "rawType": "object",
         "type": "string"
        },
        {
         "name": "skforecast_version",
         "rawType": "object",
         "type": "string"
        },
        {
         "name": "numpy_version",
         "rawType": "object",
         "type": "string"
        },
        {
         "name": "pandas_version",
         "rawType": "object",
         "type": "string"
        },
        {
         "name": "sklearn_version",
         "rawType": "object",
         "type": "string"
        },
        {
         "name": "lightgbm_version",
         "rawType": "object",
         "type": "string"
        },
        {
         "name": "platform",
         "rawType": "object",
         "type": "string"
        },
        {
         "name": "processor",
         "rawType": "object",
         "type": "string"
        },
        {
         "name": "cpu_count",
         "rawType": "int64",
         "type": "integer"
        },
        {
         "name": "memory_gb",
         "rawType": "float64",
         "type": "float"
        }
       ],
       "conversionMethod": "pd.DataFrame",
       "ref": "b7c990a1-c8ee-4e62-a1c6-bf05b64c46c7",
       "rows": [
        [
         "11",
         "ForecasterRecursive",
         "LGBMRegressor",
         "ForecasterRecursive__create_predict_inputs",
         "0f4a625e8b1bb7e3f0c5bb77a04cc2fb",
         "0.0025283952001700525",
         "0.00026581109635499106",
         "2025-04-23 15:05:59.648667",
         "3.12.9",
         "0.16.0",
         "2.2.5",
         "2.2.3",
         "1.6.1",
         "4.6.0",
         "Linux-6.11.0-21-generic-x86_64-with-glibc2.39",
         "x86_64",
         "8",
         "16.64"
        ],
        [
         "23",
         "ForecasterRecursive",
         "LGBMRegressor",
         "ForecasterRecursive__create_predict_inputs",
         "0f4a625e8b1bb7e3f0c5bb77a04cc2fb",
         "0.0026585139999951934",
         "0.00032181962176841745",
         "2025-04-23 15:12:04.344930",
         "3.12.9",
         "0.15.1",
         "2.2.5",
         "2.2.3",
         "1.6.1",
         "4.6.0",
         "Linux-6.11.0-21-generic-x86_64-with-glibc2.39",
         "x86_64",
         "8",
         "16.64"
        ],
        [
         "35",
         "ForecasterRecursive",
         "LGBMRegressor",
         "ForecasterRecursive__create_predict_inputs",
         "0f4a625e8b1bb7e3f0c5bb77a04cc2fb",
         "0.0036980938002670882",
         "0.000621930094133883",
         "2025-04-23 15:16:00.211718",
         "3.12.9",
         "0.14.0",
         "2.2.5",
         "2.2.3",
         "1.6.1",
         "4.6.0",
         "Linux-6.11.0-21-generic-x86_64-with-glibc2.39",
         "x86_64",
         "8",
         "16.64"
        ],
        [
         "47",
         "ForecasterAutoreg",
         "LGBMRegressor",
         "ForecasterRecursive__create_predict_inputs",
         "0f4a625e8b1bb7e3f0c5bb77a04cc2fb",
         null,
         null,
         "2025-04-23 15:31:33.298997",
         "3.12.9",
         "0.13.0",
         "2.2.5",
         "2.2.3",
         "1.6.1",
         "4.6.0",
         "Linux-6.11.0-21-generic-x86_64-with-glibc2.39",
         "x86_64",
         "8",
         "16.64"
        ],
        [
         "59",
         "ForecasterAutoreg",
         "LGBMRegressor",
         "ForecasterRecursive__create_predict_inputs",
         "0f4a625e8b1bb7e3f0c5bb77a04cc2fb",
         null,
         null,
         "2025-04-23 15:41:07.284418",
         "3.12.9",
         "0.13.0",
         "2.2.5",
         "2.2.3",
         "1.6.1",
         "4.6.0",
         "Linux-6.11.0-21-generic-x86_64-with-glibc2.39",
         "x86_64",
         "8",
         "16.64"
        ],
        [
         "63",
         "ForecasterAutoreg",
         "LGBMRegressor",
         "ForecasterRecursive__create_predict_inputs",
         "0f4a625e8b1bb7e3f0c5bb77a04cc2fb",
         null,
         null,
         "2025-04-23 15:46:08.499926",
         "3.12.9",
         "0.13.0",
         "2.2.5",
         "2.2.3",
         "1.6.1",
         "4.6.0",
         "Linux-6.11.0-21-generic-x86_64-with-glibc2.39",
         "x86_64",
         "8",
         "16.64"
        ],
        [
         "67",
         "ForecasterAutoreg",
         "LGBMRegressor",
         "ForecasterRecursive__create_predict_inputs",
         "0f4a625e8b1bb7e3f0c5bb77a04cc2fb",
         null,
         null,
         "2025-04-23 15:46:41.780575",
         "3.12.9",
         "0.13.0",
         "2.2.5",
         "2.2.3",
         "1.6.1",
         "4.6.0",
         "Linux-6.11.0-21-generic-x86_64-with-glibc2.39",
         "x86_64",
         "8",
         "16.64"
        ],
        [
         "79",
         "ForecasterRecursive",
         "LGBMRegressor",
         "ForecasterRecursive__create_predict_inputs",
         "0f4a625e8b1bb7e3f0c5bb77a04cc2fb",
         "0.0035295209001560577",
         "0.0003647426852177326",
         "2025-04-23 15:56:54.817583",
         "3.12.9",
         "0.14.0",
         "2.2.5",
         "2.2.3",
         "1.6.1",
         "4.6.0",
         "Linux-6.11.0-21-generic-x86_64-with-glibc2.39",
         "x86_64",
         "8",
         "16.64"
        ],
        [
         "91",
         "ForecasterRecursive",
         "LGBMRegressor",
         "ForecasterRecursive__create_predict_inputs",
         "0f4a625e8b1bb7e3f0c5bb77a04cc2fb",
         "0.0030039396000574926",
         "0.00030450846592907575",
         "2025-04-23 16:01:07.143048",
         "3.12.9",
         "0.15.1",
         "2.2.5",
         "2.2.3",
         "1.6.1",
         "4.6.0",
         "Linux-6.11.0-21-generic-x86_64-with-glibc2.39",
         "x86_64",
         "8",
         "16.64"
        ],
        [
         "103",
         "ForecasterRecursive",
         "LGBMRegressor",
         "ForecasterRecursive__create_predict_inputs",
         "0f4a625e8b1bb7e3f0c5bb77a04cc2fb",
         "0.0029601401000036278",
         "0.00034884758687908315",
         "2025-04-23 16:05:34.448297",
         "3.12.9",
         "0.15.1",
         "2.2.5",
         "2.2.3",
         "1.6.1",
         "4.6.0",
         "Linux-6.11.0-21-generic-x86_64-with-glibc2.39",
         "x86_64",
         "8",
         "16.64"
        ],
        [
         "115",
         "ForecasterRecursive",
         "LGBMRegressor",
         "ForecasterRecursive__create_predict_inputs",
         "0f4a625e8b1bb7e3f0c5bb77a04cc2fb",
         "0.002491978299985931",
         "0.0002859258146135561",
         "2025-04-23 16:08:44.063423",
         "3.12.9",
         "0.16.0",
         "2.2.5",
         "2.2.3",
         "1.6.1",
         "4.6.0",
         "Linux-6.11.0-21-generic-x86_64-with-glibc2.39",
         "x86_64",
         "8",
         "16.64"
        ],
        [
         "127",
         "ForecasterRecursive",
         "LGBMRegressor",
         "ForecasterRecursive__create_predict_inputs",
         "0f4a625e8b1bb7e3f0c5bb77a04cc2fb",
         "0.0024643170992931117",
         "0.00021370946702027258",
         "2025-04-23 16:12:11.844217",
         "3.12.9",
         "0.16.0",
         "2.2.5",
         "2.2.3",
         "1.6.1",
         "4.6.0",
         "Linux-6.11.0-21-generic-x86_64-with-glibc2.39",
         "x86_64",
         "8",
         "16.64"
        ]
       ],
       "shape": {
        "columns": 17,
        "rows": 12
       }
      },
      "text/html": [
       "<div>\n",
       "<style scoped>\n",
       "    .dataframe tbody tr th:only-of-type {\n",
       "        vertical-align: middle;\n",
       "    }\n",
       "\n",
       "    .dataframe tbody tr th {\n",
       "        vertical-align: top;\n",
       "    }\n",
       "\n",
       "    .dataframe thead th {\n",
       "        text-align: right;\n",
       "    }\n",
       "</style>\n",
       "<table border=\"1\" class=\"dataframe\">\n",
       "  <thead>\n",
       "    <tr style=\"text-align: right;\">\n",
       "      <th></th>\n",
       "      <th>forecaster_name</th>\n",
       "      <th>regressor_name</th>\n",
       "      <th>function_name</th>\n",
       "      <th>function_hash</th>\n",
       "      <th>run_time_avg</th>\n",
       "      <th>run_time_std_dev</th>\n",
       "      <th>datetime</th>\n",
       "      <th>python_version</th>\n",
       "      <th>skforecast_version</th>\n",
       "      <th>numpy_version</th>\n",
       "      <th>pandas_version</th>\n",
       "      <th>sklearn_version</th>\n",
       "      <th>lightgbm_version</th>\n",
       "      <th>platform</th>\n",
       "      <th>processor</th>\n",
       "      <th>cpu_count</th>\n",
       "      <th>memory_gb</th>\n",
       "    </tr>\n",
       "  </thead>\n",
       "  <tbody>\n",
       "    <tr>\n",
       "      <th>11</th>\n",
       "      <td>ForecasterRecursive</td>\n",
       "      <td>LGBMRegressor</td>\n",
       "      <td>ForecasterRecursive__create_predict_inputs</td>\n",
       "      <td>0f4a625e8b1bb7e3f0c5bb77a04cc2fb</td>\n",
       "      <td>0.002528</td>\n",
       "      <td>0.000266</td>\n",
       "      <td>2025-04-23 15:05:59.648667</td>\n",
       "      <td>3.12.9</td>\n",
       "      <td>0.16.0</td>\n",
       "      <td>2.2.5</td>\n",
       "      <td>2.2.3</td>\n",
       "      <td>1.6.1</td>\n",
       "      <td>4.6.0</td>\n",
       "      <td>Linux-6.11.0-21-generic-x86_64-with-glibc2.39</td>\n",
       "      <td>x86_64</td>\n",
       "      <td>8</td>\n",
       "      <td>16.64</td>\n",
       "    </tr>\n",
       "    <tr>\n",
       "      <th>23</th>\n",
       "      <td>ForecasterRecursive</td>\n",
       "      <td>LGBMRegressor</td>\n",
       "      <td>ForecasterRecursive__create_predict_inputs</td>\n",
       "      <td>0f4a625e8b1bb7e3f0c5bb77a04cc2fb</td>\n",
       "      <td>0.002659</td>\n",
       "      <td>0.000322</td>\n",
       "      <td>2025-04-23 15:12:04.344930</td>\n",
       "      <td>3.12.9</td>\n",
       "      <td>0.15.1</td>\n",
       "      <td>2.2.5</td>\n",
       "      <td>2.2.3</td>\n",
       "      <td>1.6.1</td>\n",
       "      <td>4.6.0</td>\n",
       "      <td>Linux-6.11.0-21-generic-x86_64-with-glibc2.39</td>\n",
       "      <td>x86_64</td>\n",
       "      <td>8</td>\n",
       "      <td>16.64</td>\n",
       "    </tr>\n",
       "    <tr>\n",
       "      <th>35</th>\n",
       "      <td>ForecasterRecursive</td>\n",
       "      <td>LGBMRegressor</td>\n",
       "      <td>ForecasterRecursive__create_predict_inputs</td>\n",
       "      <td>0f4a625e8b1bb7e3f0c5bb77a04cc2fb</td>\n",
       "      <td>0.003698</td>\n",
       "      <td>0.000622</td>\n",
       "      <td>2025-04-23 15:16:00.211718</td>\n",
       "      <td>3.12.9</td>\n",
       "      <td>0.14.0</td>\n",
       "      <td>2.2.5</td>\n",
       "      <td>2.2.3</td>\n",
       "      <td>1.6.1</td>\n",
       "      <td>4.6.0</td>\n",
       "      <td>Linux-6.11.0-21-generic-x86_64-with-glibc2.39</td>\n",
       "      <td>x86_64</td>\n",
       "      <td>8</td>\n",
       "      <td>16.64</td>\n",
       "    </tr>\n",
       "    <tr>\n",
       "      <th>47</th>\n",
       "      <td>ForecasterAutoreg</td>\n",
       "      <td>LGBMRegressor</td>\n",
       "      <td>ForecasterRecursive__create_predict_inputs</td>\n",
       "      <td>0f4a625e8b1bb7e3f0c5bb77a04cc2fb</td>\n",
       "      <td>NaN</td>\n",
       "      <td>NaN</td>\n",
       "      <td>2025-04-23 15:31:33.298997</td>\n",
       "      <td>3.12.9</td>\n",
       "      <td>0.13.0</td>\n",
       "      <td>2.2.5</td>\n",
       "      <td>2.2.3</td>\n",
       "      <td>1.6.1</td>\n",
       "      <td>4.6.0</td>\n",
       "      <td>Linux-6.11.0-21-generic-x86_64-with-glibc2.39</td>\n",
       "      <td>x86_64</td>\n",
       "      <td>8</td>\n",
       "      <td>16.64</td>\n",
       "    </tr>\n",
       "    <tr>\n",
       "      <th>59</th>\n",
       "      <td>ForecasterAutoreg</td>\n",
       "      <td>LGBMRegressor</td>\n",
       "      <td>ForecasterRecursive__create_predict_inputs</td>\n",
       "      <td>0f4a625e8b1bb7e3f0c5bb77a04cc2fb</td>\n",
       "      <td>NaN</td>\n",
       "      <td>NaN</td>\n",
       "      <td>2025-04-23 15:41:07.284418</td>\n",
       "      <td>3.12.9</td>\n",
       "      <td>0.13.0</td>\n",
       "      <td>2.2.5</td>\n",
       "      <td>2.2.3</td>\n",
       "      <td>1.6.1</td>\n",
       "      <td>4.6.0</td>\n",
       "      <td>Linux-6.11.0-21-generic-x86_64-with-glibc2.39</td>\n",
       "      <td>x86_64</td>\n",
       "      <td>8</td>\n",
       "      <td>16.64</td>\n",
       "    </tr>\n",
       "    <tr>\n",
       "      <th>63</th>\n",
       "      <td>ForecasterAutoreg</td>\n",
       "      <td>LGBMRegressor</td>\n",
       "      <td>ForecasterRecursive__create_predict_inputs</td>\n",
       "      <td>0f4a625e8b1bb7e3f0c5bb77a04cc2fb</td>\n",
       "      <td>NaN</td>\n",
       "      <td>NaN</td>\n",
       "      <td>2025-04-23 15:46:08.499926</td>\n",
       "      <td>3.12.9</td>\n",
       "      <td>0.13.0</td>\n",
       "      <td>2.2.5</td>\n",
       "      <td>2.2.3</td>\n",
       "      <td>1.6.1</td>\n",
       "      <td>4.6.0</td>\n",
       "      <td>Linux-6.11.0-21-generic-x86_64-with-glibc2.39</td>\n",
       "      <td>x86_64</td>\n",
       "      <td>8</td>\n",
       "      <td>16.64</td>\n",
       "    </tr>\n",
       "    <tr>\n",
       "      <th>67</th>\n",
       "      <td>ForecasterAutoreg</td>\n",
       "      <td>LGBMRegressor</td>\n",
       "      <td>ForecasterRecursive__create_predict_inputs</td>\n",
       "      <td>0f4a625e8b1bb7e3f0c5bb77a04cc2fb</td>\n",
       "      <td>NaN</td>\n",
       "      <td>NaN</td>\n",
       "      <td>2025-04-23 15:46:41.780575</td>\n",
       "      <td>3.12.9</td>\n",
       "      <td>0.13.0</td>\n",
       "      <td>2.2.5</td>\n",
       "      <td>2.2.3</td>\n",
       "      <td>1.6.1</td>\n",
       "      <td>4.6.0</td>\n",
       "      <td>Linux-6.11.0-21-generic-x86_64-with-glibc2.39</td>\n",
       "      <td>x86_64</td>\n",
       "      <td>8</td>\n",
       "      <td>16.64</td>\n",
       "    </tr>\n",
       "    <tr>\n",
       "      <th>79</th>\n",
       "      <td>ForecasterRecursive</td>\n",
       "      <td>LGBMRegressor</td>\n",
       "      <td>ForecasterRecursive__create_predict_inputs</td>\n",
       "      <td>0f4a625e8b1bb7e3f0c5bb77a04cc2fb</td>\n",
       "      <td>0.003530</td>\n",
       "      <td>0.000365</td>\n",
       "      <td>2025-04-23 15:56:54.817583</td>\n",
       "      <td>3.12.9</td>\n",
       "      <td>0.14.0</td>\n",
       "      <td>2.2.5</td>\n",
       "      <td>2.2.3</td>\n",
       "      <td>1.6.1</td>\n",
       "      <td>4.6.0</td>\n",
       "      <td>Linux-6.11.0-21-generic-x86_64-with-glibc2.39</td>\n",
       "      <td>x86_64</td>\n",
       "      <td>8</td>\n",
       "      <td>16.64</td>\n",
       "    </tr>\n",
       "    <tr>\n",
       "      <th>91</th>\n",
       "      <td>ForecasterRecursive</td>\n",
       "      <td>LGBMRegressor</td>\n",
       "      <td>ForecasterRecursive__create_predict_inputs</td>\n",
       "      <td>0f4a625e8b1bb7e3f0c5bb77a04cc2fb</td>\n",
       "      <td>0.003004</td>\n",
       "      <td>0.000305</td>\n",
       "      <td>2025-04-23 16:01:07.143048</td>\n",
       "      <td>3.12.9</td>\n",
       "      <td>0.15.1</td>\n",
       "      <td>2.2.5</td>\n",
       "      <td>2.2.3</td>\n",
       "      <td>1.6.1</td>\n",
       "      <td>4.6.0</td>\n",
       "      <td>Linux-6.11.0-21-generic-x86_64-with-glibc2.39</td>\n",
       "      <td>x86_64</td>\n",
       "      <td>8</td>\n",
       "      <td>16.64</td>\n",
       "    </tr>\n",
       "    <tr>\n",
       "      <th>103</th>\n",
       "      <td>ForecasterRecursive</td>\n",
       "      <td>LGBMRegressor</td>\n",
       "      <td>ForecasterRecursive__create_predict_inputs</td>\n",
       "      <td>0f4a625e8b1bb7e3f0c5bb77a04cc2fb</td>\n",
       "      <td>0.002960</td>\n",
       "      <td>0.000349</td>\n",
       "      <td>2025-04-23 16:05:34.448297</td>\n",
       "      <td>3.12.9</td>\n",
       "      <td>0.15.1</td>\n",
       "      <td>2.2.5</td>\n",
       "      <td>2.2.3</td>\n",
       "      <td>1.6.1</td>\n",
       "      <td>4.6.0</td>\n",
       "      <td>Linux-6.11.0-21-generic-x86_64-with-glibc2.39</td>\n",
       "      <td>x86_64</td>\n",
       "      <td>8</td>\n",
       "      <td>16.64</td>\n",
       "    </tr>\n",
       "    <tr>\n",
       "      <th>115</th>\n",
       "      <td>ForecasterRecursive</td>\n",
       "      <td>LGBMRegressor</td>\n",
       "      <td>ForecasterRecursive__create_predict_inputs</td>\n",
       "      <td>0f4a625e8b1bb7e3f0c5bb77a04cc2fb</td>\n",
       "      <td>0.002492</td>\n",
       "      <td>0.000286</td>\n",
       "      <td>2025-04-23 16:08:44.063423</td>\n",
       "      <td>3.12.9</td>\n",
       "      <td>0.16.0</td>\n",
       "      <td>2.2.5</td>\n",
       "      <td>2.2.3</td>\n",
       "      <td>1.6.1</td>\n",
       "      <td>4.6.0</td>\n",
       "      <td>Linux-6.11.0-21-generic-x86_64-with-glibc2.39</td>\n",
       "      <td>x86_64</td>\n",
       "      <td>8</td>\n",
       "      <td>16.64</td>\n",
       "    </tr>\n",
       "    <tr>\n",
       "      <th>127</th>\n",
       "      <td>ForecasterRecursive</td>\n",
       "      <td>LGBMRegressor</td>\n",
       "      <td>ForecasterRecursive__create_predict_inputs</td>\n",
       "      <td>0f4a625e8b1bb7e3f0c5bb77a04cc2fb</td>\n",
       "      <td>0.002464</td>\n",
       "      <td>0.000214</td>\n",
       "      <td>2025-04-23 16:12:11.844217</td>\n",
       "      <td>3.12.9</td>\n",
       "      <td>0.16.0</td>\n",
       "      <td>2.2.5</td>\n",
       "      <td>2.2.3</td>\n",
       "      <td>1.6.1</td>\n",
       "      <td>4.6.0</td>\n",
       "      <td>Linux-6.11.0-21-generic-x86_64-with-glibc2.39</td>\n",
       "      <td>x86_64</td>\n",
       "      <td>8</td>\n",
       "      <td>16.64</td>\n",
       "    </tr>\n",
       "  </tbody>\n",
       "</table>\n",
       "</div>"
      ],
      "text/plain": [
       "         forecaster_name regressor_name  \\\n",
       "11   ForecasterRecursive  LGBMRegressor   \n",
       "23   ForecasterRecursive  LGBMRegressor   \n",
       "35   ForecasterRecursive  LGBMRegressor   \n",
       "47     ForecasterAutoreg  LGBMRegressor   \n",
       "59     ForecasterAutoreg  LGBMRegressor   \n",
       "63     ForecasterAutoreg  LGBMRegressor   \n",
       "67     ForecasterAutoreg  LGBMRegressor   \n",
       "79   ForecasterRecursive  LGBMRegressor   \n",
       "91   ForecasterRecursive  LGBMRegressor   \n",
       "103  ForecasterRecursive  LGBMRegressor   \n",
       "115  ForecasterRecursive  LGBMRegressor   \n",
       "127  ForecasterRecursive  LGBMRegressor   \n",
       "\n",
       "                                  function_name  \\\n",
       "11   ForecasterRecursive__create_predict_inputs   \n",
       "23   ForecasterRecursive__create_predict_inputs   \n",
       "35   ForecasterRecursive__create_predict_inputs   \n",
       "47   ForecasterRecursive__create_predict_inputs   \n",
       "59   ForecasterRecursive__create_predict_inputs   \n",
       "63   ForecasterRecursive__create_predict_inputs   \n",
       "67   ForecasterRecursive__create_predict_inputs   \n",
       "79   ForecasterRecursive__create_predict_inputs   \n",
       "91   ForecasterRecursive__create_predict_inputs   \n",
       "103  ForecasterRecursive__create_predict_inputs   \n",
       "115  ForecasterRecursive__create_predict_inputs   \n",
       "127  ForecasterRecursive__create_predict_inputs   \n",
       "\n",
       "                        function_hash  run_time_avg  run_time_std_dev  \\\n",
       "11   0f4a625e8b1bb7e3f0c5bb77a04cc2fb      0.002528          0.000266   \n",
       "23   0f4a625e8b1bb7e3f0c5bb77a04cc2fb      0.002659          0.000322   \n",
       "35   0f4a625e8b1bb7e3f0c5bb77a04cc2fb      0.003698          0.000622   \n",
       "47   0f4a625e8b1bb7e3f0c5bb77a04cc2fb           NaN               NaN   \n",
       "59   0f4a625e8b1bb7e3f0c5bb77a04cc2fb           NaN               NaN   \n",
       "63   0f4a625e8b1bb7e3f0c5bb77a04cc2fb           NaN               NaN   \n",
       "67   0f4a625e8b1bb7e3f0c5bb77a04cc2fb           NaN               NaN   \n",
       "79   0f4a625e8b1bb7e3f0c5bb77a04cc2fb      0.003530          0.000365   \n",
       "91   0f4a625e8b1bb7e3f0c5bb77a04cc2fb      0.003004          0.000305   \n",
       "103  0f4a625e8b1bb7e3f0c5bb77a04cc2fb      0.002960          0.000349   \n",
       "115  0f4a625e8b1bb7e3f0c5bb77a04cc2fb      0.002492          0.000286   \n",
       "127  0f4a625e8b1bb7e3f0c5bb77a04cc2fb      0.002464          0.000214   \n",
       "\n",
       "                      datetime python_version skforecast_version  \\\n",
       "11  2025-04-23 15:05:59.648667         3.12.9             0.16.0   \n",
       "23  2025-04-23 15:12:04.344930         3.12.9             0.15.1   \n",
       "35  2025-04-23 15:16:00.211718         3.12.9             0.14.0   \n",
       "47  2025-04-23 15:31:33.298997         3.12.9             0.13.0   \n",
       "59  2025-04-23 15:41:07.284418         3.12.9             0.13.0   \n",
       "63  2025-04-23 15:46:08.499926         3.12.9             0.13.0   \n",
       "67  2025-04-23 15:46:41.780575         3.12.9             0.13.0   \n",
       "79  2025-04-23 15:56:54.817583         3.12.9             0.14.0   \n",
       "91  2025-04-23 16:01:07.143048         3.12.9             0.15.1   \n",
       "103 2025-04-23 16:05:34.448297         3.12.9             0.15.1   \n",
       "115 2025-04-23 16:08:44.063423         3.12.9             0.16.0   \n",
       "127 2025-04-23 16:12:11.844217         3.12.9             0.16.0   \n",
       "\n",
       "    numpy_version pandas_version sklearn_version lightgbm_version  \\\n",
       "11          2.2.5          2.2.3           1.6.1            4.6.0   \n",
       "23          2.2.5          2.2.3           1.6.1            4.6.0   \n",
       "35          2.2.5          2.2.3           1.6.1            4.6.0   \n",
       "47          2.2.5          2.2.3           1.6.1            4.6.0   \n",
       "59          2.2.5          2.2.3           1.6.1            4.6.0   \n",
       "63          2.2.5          2.2.3           1.6.1            4.6.0   \n",
       "67          2.2.5          2.2.3           1.6.1            4.6.0   \n",
       "79          2.2.5          2.2.3           1.6.1            4.6.0   \n",
       "91          2.2.5          2.2.3           1.6.1            4.6.0   \n",
       "103         2.2.5          2.2.3           1.6.1            4.6.0   \n",
       "115         2.2.5          2.2.3           1.6.1            4.6.0   \n",
       "127         2.2.5          2.2.3           1.6.1            4.6.0   \n",
       "\n",
       "                                          platform processor  cpu_count  \\\n",
       "11   Linux-6.11.0-21-generic-x86_64-with-glibc2.39    x86_64          8   \n",
       "23   Linux-6.11.0-21-generic-x86_64-with-glibc2.39    x86_64          8   \n",
       "35   Linux-6.11.0-21-generic-x86_64-with-glibc2.39    x86_64          8   \n",
       "47   Linux-6.11.0-21-generic-x86_64-with-glibc2.39    x86_64          8   \n",
       "59   Linux-6.11.0-21-generic-x86_64-with-glibc2.39    x86_64          8   \n",
       "63   Linux-6.11.0-21-generic-x86_64-with-glibc2.39    x86_64          8   \n",
       "67   Linux-6.11.0-21-generic-x86_64-with-glibc2.39    x86_64          8   \n",
       "79   Linux-6.11.0-21-generic-x86_64-with-glibc2.39    x86_64          8   \n",
       "91   Linux-6.11.0-21-generic-x86_64-with-glibc2.39    x86_64          8   \n",
       "103  Linux-6.11.0-21-generic-x86_64-with-glibc2.39    x86_64          8   \n",
       "115  Linux-6.11.0-21-generic-x86_64-with-glibc2.39    x86_64          8   \n",
       "127  Linux-6.11.0-21-generic-x86_64-with-glibc2.39    x86_64          8   \n",
       "\n",
       "     memory_gb  \n",
       "11       16.64  \n",
       "23       16.64  \n",
       "35       16.64  \n",
       "47       16.64  \n",
       "59       16.64  \n",
       "63       16.64  \n",
       "67       16.64  \n",
       "79       16.64  \n",
       "91       16.64  \n",
       "103      16.64  \n",
       "115      16.64  \n",
       "127      16.64  "
      ]
     },
     "metadata": {},
     "output_type": "display_data"
    },
    {
     "data": {
      "application/vnd.plotly.v1+json": {
       "config": {
        "plotlyServerURL": "https://plot.ly"
       },
       "data": [
        {
         "error_y": {
          "array": {
           "bdata": "AAAAAAAA+H8AAAAAAAD4fwAAAAAAAPh/AAAAAAAA+H8=",
           "dtype": "f8"
          },
          "color": "#636EFA",
          "thickness": 1.5,
          "type": "data",
          "visible": true,
          "width": 5
         },
         "hovertemplate": "Version: 0.13.0<br>Runtime: %{y:.2f}s<extra></extra>",
         "marker": {
          "color": "#636EFA",
          "opacity": 0.7,
          "size": 10
         },
         "mode": "markers",
         "name": "Run time - 0.13.0",
         "showlegend": true,
         "type": "scatter",
         "x": {
          "bdata": "fByzX9/Fir9AKClBT8iAPwyt5c8ZpoA/hj3Rm6N3pT8=",
          "dtype": "f8"
         },
         "y": {
          "bdata": "AAAAAAAA+H8AAAAAAAD4fwAAAAAAAPh/AAAAAAAA+H8=",
          "dtype": "f8"
         }
        },
        {
         "error_y": {
          "array": {
           "bdata": "0/4UtSBhRD8dC4vnXec3Pw==",
           "dtype": "f8"
          },
          "color": "#EF553B",
          "thickness": 1.5,
          "type": "data",
          "visible": true,
          "width": 5
         },
         "hovertemplate": "Version: 0.14.0<br>Runtime: %{y:.2f}s<extra></extra>",
         "marker": {
          "color": "#EF553B",
          "opacity": 0.7,
          "size": 10
         },
         "mode": "markers",
         "name": "Run time - 0.14.0",
         "showlegend": true,
         "type": "scatter",
         "x": {
          "bdata": "R887kefC7j+9ao9gHibvPw==",
          "dtype": "f8"
         },
         "y": {
          "bdata": "AADA/XZLbj9mZsYa8elsPw==",
          "dtype": "f8"
         }
        },
        {
         "error_y": {
          "array": {
           "bdata": "JEwuwDwXNT+NlQvnzfQzP8VbGPqw3DY/",
           "dtype": "f8"
          },
          "color": "#00CC96",
          "thickness": 1.5,
          "type": "data",
          "visible": true,
          "width": 5
         },
         "hovertemplate": "Version: 0.15.1<br>Runtime: %{y:.2f}s<extra></extra>",
         "marker": {
          "color": "#00CC96",
          "opacity": 0.7,
          "size": 10
         },
         "mode": "markers",
         "name": "Run time - 0.15.1",
         "showlegend": true,
         "type": "scatter",
         "x": {
          "bdata": "PJXABdYrAEAE9ARBKzsAQLPaQ8D49/8/",
          "dtype": "f8"
         },
         "y": {
          "bdata": "MzPz1U7HZT/NzOzKt5toP5qZeR3dP2g/",
          "dtype": "f8"
         }
        },
        {
         "error_y": {
          "array": {
           "bdata": "fvQ795FrMT94U9kFCr0yP4DB6FfmAiw/",
           "dtype": "f8"
          },
          "color": "#AB63FA",
          "thickness": 1.5,
          "type": "data",
          "visible": true,
          "width": 5
         },
         "hovertemplate": "Version: 0.16.0<br>Runtime: %{y:.2f}s<extra></extra>",
         "marker": {
          "color": "#AB63FA",
          "opacity": 0.7,
          "size": 10
         },
         "mode": "markers",
         "name": "Run time - 0.16.0",
         "showlegend": true,
         "type": "scatter",
         "x": {
          "bdata": "3XFGslY0CEC7OdZSiFAIQMBUjDglLQhA",
          "dtype": "f8"
         },
         "y": {
          "bdata": "ZmZG1m22ZD8AAKCpDmpkP2ZmJisMMGQ/",
          "dtype": "f8"
         }
        },
        {
         "line": {
          "color": "black",
          "width": 2
         },
         "marker": {
          "color": "black",
          "size": 8
         },
         "mode": "lines+markers",
         "name": "Median (per version)",
         "type": "scatter",
         "x": {
          "bdata": "AAECAw==",
          "dtype": "i1"
         },
         "y": {
          "bdata": "AAAAAAAA+H8zM0MMtJptP5qZeR3dP2g/AACgqQ5qZD8=",
          "dtype": "f8"
         }
        }
       ],
       "layout": {
        "showlegend": true,
        "template": {
         "data": {
          "bar": [
           {
            "error_x": {
             "color": "#2a3f5f"
            },
            "error_y": {
             "color": "#2a3f5f"
            },
            "marker": {
             "line": {
              "color": "#E5ECF6",
              "width": 0.5
             },
             "pattern": {
              "fillmode": "overlay",
              "size": 10,
              "solidity": 0.2
             }
            },
            "type": "bar"
           }
          ],
          "barpolar": [
           {
            "marker": {
             "line": {
              "color": "#E5ECF6",
              "width": 0.5
             },
             "pattern": {
              "fillmode": "overlay",
              "size": 10,
              "solidity": 0.2
             }
            },
            "type": "barpolar"
           }
          ],
          "carpet": [
           {
            "aaxis": {
             "endlinecolor": "#2a3f5f",
             "gridcolor": "white",
             "linecolor": "white",
             "minorgridcolor": "white",
             "startlinecolor": "#2a3f5f"
            },
            "baxis": {
             "endlinecolor": "#2a3f5f",
             "gridcolor": "white",
             "linecolor": "white",
             "minorgridcolor": "white",
             "startlinecolor": "#2a3f5f"
            },
            "type": "carpet"
           }
          ],
          "choropleth": [
           {
            "colorbar": {
             "outlinewidth": 0,
             "ticks": ""
            },
            "type": "choropleth"
           }
          ],
          "contour": [
           {
            "colorbar": {
             "outlinewidth": 0,
             "ticks": ""
            },
            "colorscale": [
             [
              0,
              "#0d0887"
             ],
             [
              0.1111111111111111,
              "#46039f"
             ],
             [
              0.2222222222222222,
              "#7201a8"
             ],
             [
              0.3333333333333333,
              "#9c179e"
             ],
             [
              0.4444444444444444,
              "#bd3786"
             ],
             [
              0.5555555555555556,
              "#d8576b"
             ],
             [
              0.6666666666666666,
              "#ed7953"
             ],
             [
              0.7777777777777778,
              "#fb9f3a"
             ],
             [
              0.8888888888888888,
              "#fdca26"
             ],
             [
              1,
              "#f0f921"
             ]
            ],
            "type": "contour"
           }
          ],
          "contourcarpet": [
           {
            "colorbar": {
             "outlinewidth": 0,
             "ticks": ""
            },
            "type": "contourcarpet"
           }
          ],
          "heatmap": [
           {
            "colorbar": {
             "outlinewidth": 0,
             "ticks": ""
            },
            "colorscale": [
             [
              0,
              "#0d0887"
             ],
             [
              0.1111111111111111,
              "#46039f"
             ],
             [
              0.2222222222222222,
              "#7201a8"
             ],
             [
              0.3333333333333333,
              "#9c179e"
             ],
             [
              0.4444444444444444,
              "#bd3786"
             ],
             [
              0.5555555555555556,
              "#d8576b"
             ],
             [
              0.6666666666666666,
              "#ed7953"
             ],
             [
              0.7777777777777778,
              "#fb9f3a"
             ],
             [
              0.8888888888888888,
              "#fdca26"
             ],
             [
              1,
              "#f0f921"
             ]
            ],
            "type": "heatmap"
           }
          ],
          "histogram": [
           {
            "marker": {
             "pattern": {
              "fillmode": "overlay",
              "size": 10,
              "solidity": 0.2
             }
            },
            "type": "histogram"
           }
          ],
          "histogram2d": [
           {
            "colorbar": {
             "outlinewidth": 0,
             "ticks": ""
            },
            "colorscale": [
             [
              0,
              "#0d0887"
             ],
             [
              0.1111111111111111,
              "#46039f"
             ],
             [
              0.2222222222222222,
              "#7201a8"
             ],
             [
              0.3333333333333333,
              "#9c179e"
             ],
             [
              0.4444444444444444,
              "#bd3786"
             ],
             [
              0.5555555555555556,
              "#d8576b"
             ],
             [
              0.6666666666666666,
              "#ed7953"
             ],
             [
              0.7777777777777778,
              "#fb9f3a"
             ],
             [
              0.8888888888888888,
              "#fdca26"
             ],
             [
              1,
              "#f0f921"
             ]
            ],
            "type": "histogram2d"
           }
          ],
          "histogram2dcontour": [
           {
            "colorbar": {
             "outlinewidth": 0,
             "ticks": ""
            },
            "colorscale": [
             [
              0,
              "#0d0887"
             ],
             [
              0.1111111111111111,
              "#46039f"
             ],
             [
              0.2222222222222222,
              "#7201a8"
             ],
             [
              0.3333333333333333,
              "#9c179e"
             ],
             [
              0.4444444444444444,
              "#bd3786"
             ],
             [
              0.5555555555555556,
              "#d8576b"
             ],
             [
              0.6666666666666666,
              "#ed7953"
             ],
             [
              0.7777777777777778,
              "#fb9f3a"
             ],
             [
              0.8888888888888888,
              "#fdca26"
             ],
             [
              1,
              "#f0f921"
             ]
            ],
            "type": "histogram2dcontour"
           }
          ],
          "mesh3d": [
           {
            "colorbar": {
             "outlinewidth": 0,
             "ticks": ""
            },
            "type": "mesh3d"
           }
          ],
          "parcoords": [
           {
            "line": {
             "colorbar": {
              "outlinewidth": 0,
              "ticks": ""
             }
            },
            "type": "parcoords"
           }
          ],
          "pie": [
           {
            "automargin": true,
            "type": "pie"
           }
          ],
          "scatter": [
           {
            "fillpattern": {
             "fillmode": "overlay",
             "size": 10,
             "solidity": 0.2
            },
            "type": "scatter"
           }
          ],
          "scatter3d": [
           {
            "line": {
             "colorbar": {
              "outlinewidth": 0,
              "ticks": ""
             }
            },
            "marker": {
             "colorbar": {
              "outlinewidth": 0,
              "ticks": ""
             }
            },
            "type": "scatter3d"
           }
          ],
          "scattercarpet": [
           {
            "marker": {
             "colorbar": {
              "outlinewidth": 0,
              "ticks": ""
             }
            },
            "type": "scattercarpet"
           }
          ],
          "scattergeo": [
           {
            "marker": {
             "colorbar": {
              "outlinewidth": 0,
              "ticks": ""
             }
            },
            "type": "scattergeo"
           }
          ],
          "scattergl": [
           {
            "marker": {
             "colorbar": {
              "outlinewidth": 0,
              "ticks": ""
             }
            },
            "type": "scattergl"
           }
          ],
          "scattermap": [
           {
            "marker": {
             "colorbar": {
              "outlinewidth": 0,
              "ticks": ""
             }
            },
            "type": "scattermap"
           }
          ],
          "scattermapbox": [
           {
            "marker": {
             "colorbar": {
              "outlinewidth": 0,
              "ticks": ""
             }
            },
            "type": "scattermapbox"
           }
          ],
          "scatterpolar": [
           {
            "marker": {
             "colorbar": {
              "outlinewidth": 0,
              "ticks": ""
             }
            },
            "type": "scatterpolar"
           }
          ],
          "scatterpolargl": [
           {
            "marker": {
             "colorbar": {
              "outlinewidth": 0,
              "ticks": ""
             }
            },
            "type": "scatterpolargl"
           }
          ],
          "scatterternary": [
           {
            "marker": {
             "colorbar": {
              "outlinewidth": 0,
              "ticks": ""
             }
            },
            "type": "scatterternary"
           }
          ],
          "surface": [
           {
            "colorbar": {
             "outlinewidth": 0,
             "ticks": ""
            },
            "colorscale": [
             [
              0,
              "#0d0887"
             ],
             [
              0.1111111111111111,
              "#46039f"
             ],
             [
              0.2222222222222222,
              "#7201a8"
             ],
             [
              0.3333333333333333,
              "#9c179e"
             ],
             [
              0.4444444444444444,
              "#bd3786"
             ],
             [
              0.5555555555555556,
              "#d8576b"
             ],
             [
              0.6666666666666666,
              "#ed7953"
             ],
             [
              0.7777777777777778,
              "#fb9f3a"
             ],
             [
              0.8888888888888888,
              "#fdca26"
             ],
             [
              1,
              "#f0f921"
             ]
            ],
            "type": "surface"
           }
          ],
          "table": [
           {
            "cells": {
             "fill": {
              "color": "#EBF0F8"
             },
             "line": {
              "color": "white"
             }
            },
            "header": {
             "fill": {
              "color": "#C8D4E3"
             },
             "line": {
              "color": "white"
             }
            },
            "type": "table"
           }
          ]
         },
         "layout": {
          "annotationdefaults": {
           "arrowcolor": "#2a3f5f",
           "arrowhead": 0,
           "arrowwidth": 1
          },
          "autotypenumbers": "strict",
          "coloraxis": {
           "colorbar": {
            "outlinewidth": 0,
            "ticks": ""
           }
          },
          "colorscale": {
           "diverging": [
            [
             0,
             "#8e0152"
            ],
            [
             0.1,
             "#c51b7d"
            ],
            [
             0.2,
             "#de77ae"
            ],
            [
             0.3,
             "#f1b6da"
            ],
            [
             0.4,
             "#fde0ef"
            ],
            [
             0.5,
             "#f7f7f7"
            ],
            [
             0.6,
             "#e6f5d0"
            ],
            [
             0.7,
             "#b8e186"
            ],
            [
             0.8,
             "#7fbc41"
            ],
            [
             0.9,
             "#4d9221"
            ],
            [
             1,
             "#276419"
            ]
           ],
           "sequential": [
            [
             0,
             "#0d0887"
            ],
            [
             0.1111111111111111,
             "#46039f"
            ],
            [
             0.2222222222222222,
             "#7201a8"
            ],
            [
             0.3333333333333333,
             "#9c179e"
            ],
            [
             0.4444444444444444,
             "#bd3786"
            ],
            [
             0.5555555555555556,
             "#d8576b"
            ],
            [
             0.6666666666666666,
             "#ed7953"
            ],
            [
             0.7777777777777778,
             "#fb9f3a"
            ],
            [
             0.8888888888888888,
             "#fdca26"
            ],
            [
             1,
             "#f0f921"
            ]
           ],
           "sequentialminus": [
            [
             0,
             "#0d0887"
            ],
            [
             0.1111111111111111,
             "#46039f"
            ],
            [
             0.2222222222222222,
             "#7201a8"
            ],
            [
             0.3333333333333333,
             "#9c179e"
            ],
            [
             0.4444444444444444,
             "#bd3786"
            ],
            [
             0.5555555555555556,
             "#d8576b"
            ],
            [
             0.6666666666666666,
             "#ed7953"
            ],
            [
             0.7777777777777778,
             "#fb9f3a"
            ],
            [
             0.8888888888888888,
             "#fdca26"
            ],
            [
             1,
             "#f0f921"
            ]
           ]
          },
          "colorway": [
           "#636efa",
           "#EF553B",
           "#00cc96",
           "#ab63fa",
           "#FFA15A",
           "#19d3f3",
           "#FF6692",
           "#B6E880",
           "#FF97FF",
           "#FECB52"
          ],
          "font": {
           "color": "#2a3f5f"
          },
          "geo": {
           "bgcolor": "white",
           "lakecolor": "white",
           "landcolor": "#E5ECF6",
           "showlakes": true,
           "showland": true,
           "subunitcolor": "white"
          },
          "hoverlabel": {
           "align": "left"
          },
          "hovermode": "closest",
          "mapbox": {
           "style": "light"
          },
          "paper_bgcolor": "white",
          "plot_bgcolor": "#E5ECF6",
          "polar": {
           "angularaxis": {
            "gridcolor": "white",
            "linecolor": "white",
            "ticks": ""
           },
           "bgcolor": "#E5ECF6",
           "radialaxis": {
            "gridcolor": "white",
            "linecolor": "white",
            "ticks": ""
           }
          },
          "scene": {
           "xaxis": {
            "backgroundcolor": "#E5ECF6",
            "gridcolor": "white",
            "gridwidth": 2,
            "linecolor": "white",
            "showbackground": true,
            "ticks": "",
            "zerolinecolor": "white"
           },
           "yaxis": {
            "backgroundcolor": "#E5ECF6",
            "gridcolor": "white",
            "gridwidth": 2,
            "linecolor": "white",
            "showbackground": true,
            "ticks": "",
            "zerolinecolor": "white"
           },
           "zaxis": {
            "backgroundcolor": "#E5ECF6",
            "gridcolor": "white",
            "gridwidth": 2,
            "linecolor": "white",
            "showbackground": true,
            "ticks": "",
            "zerolinecolor": "white"
           }
          },
          "shapedefaults": {
           "line": {
            "color": "#2a3f5f"
           }
          },
          "ternary": {
           "aaxis": {
            "gridcolor": "white",
            "linecolor": "white",
            "ticks": ""
           },
           "baxis": {
            "gridcolor": "white",
            "linecolor": "white",
            "ticks": ""
           },
           "bgcolor": "#E5ECF6",
           "caxis": {
            "gridcolor": "white",
            "linecolor": "white",
            "ticks": ""
           }
          },
          "title": {
           "x": 0.05
          },
          "xaxis": {
           "automargin": true,
           "gridcolor": "white",
           "linecolor": "white",
           "ticks": "",
           "title": {
            "standoff": 15
           },
           "zerolinecolor": "white",
           "zerolinewidth": 2
          },
          "yaxis": {
           "automargin": true,
           "gridcolor": "white",
           "linecolor": "white",
           "ticks": "",
           "title": {
            "standoff": 15
           },
           "zerolinecolor": "white",
           "zerolinewidth": 2
          }
         }
        },
        "title": {
         "text": "Execution time of ForecasterRecursive__create_predict_inputs"
        },
        "xaxis": {
         "tickangle": -45,
         "tickmode": "array",
         "ticktext": [
          "0.13.0",
          "0.14.0",
          "0.15.1",
          "0.16.0"
         ],
         "tickvals": [
          0,
          1,
          2,
          3
         ],
         "title": {
          "text": "skforecast version"
         }
        },
        "yaxis": {
         "title": {
          "text": "Execution time (seconds)"
         }
        }
       }
      }
     },
     "metadata": {},
     "output_type": "display_data"
    }
   ],
   "source": [
    "# Plot results\n",
    "# ==============================================================================\n",
    "results_benchmark_all = joblib.load(\"benchmarks/benchmark.joblib\")\n",
    "results_benchmark = results_benchmark_all.query(\"forecaster_name in ['ForecasterRecursive', 'ForecasterAutoreg']\").copy()\n",
    "results_benchmark = results_benchmark.query(\"regressor_name == 'LGBMRegressor'\").copy()\n",
    "for function_name in results_benchmark['function_name'].unique():\n",
    "    df = results_benchmark.query(f\"function_name == '{function_name}'\").copy()\n",
    "    display(df)\n",
    "    plot_benchmark_results(df, function_name)"
   ]
  }
 ],
 "metadata": {
  "kernelspec": {
   "display_name": "skforecast_16_py12",
   "language": "python",
   "name": "python3"
  },
  "language_info": {
   "codemirror_mode": {
    "name": "ipython",
    "version": 3
   },
   "file_extension": ".py",
   "mimetype": "text/x-python",
   "name": "python",
   "nbconvert_exporter": "python",
   "pygments_lexer": "ipython3",
   "version": "3.12.9"
  },
  "orig_nbformat": 4
 },
 "nbformat": 4,
 "nbformat_minor": 2
}
