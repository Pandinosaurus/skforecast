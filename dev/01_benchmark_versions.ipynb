{
 "cells": [
  {
   "cell_type": "markdown",
   "metadata": {},
   "source": [
    "# Benchmarking skforecast\n",
    "\n",
    "This notebook benchmarks the performance (velocity) of the `skforecast` in its different versions and keeps track of the results."
   ]
  },
  {
   "cell_type": "code",
   "execution_count": 1,
   "metadata": {},
   "outputs": [
    {
     "name": "stdout",
     "output_type": "stream",
     "text": [
      "/home/joaquin/Documents/GitHub/skforecast\n"
     ]
    }
   ],
   "source": [
    "%load_ext autoreload\n",
    "%autoreload 2\n",
    "import sys\n",
    "from pathlib import Path\n",
    "path = str(Path.cwd().parent)\n",
    "print(path)\n",
    "sys.path.insert(1, path)"
   ]
  },
  {
   "cell_type": "code",
   "execution_count": 2,
   "metadata": {},
   "outputs": [],
   "source": [
    "# !pip install --upgrade numpy < 2.0 && \\\n",
    "# pip install --upgrade pandas && \\\n",
    "# pip install --upgrade scikit-learn && \\\n",
    "# !pip install skforecast==0.14.0"
   ]
  },
  {
   "cell_type": "code",
   "execution_count": 3,
   "metadata": {},
   "outputs": [
    {
     "name": "stdout",
     "output_type": "stream",
     "text": [
      "Skforecast version:  0.16.0\n"
     ]
    }
   ],
   "source": [
    "# Libraries\n",
    "# ==============================================================================\n",
    "import timeit\n",
    "import time\n",
    "import platform\n",
    "import joblib\n",
    "import os\n",
    "import sys\n",
    "import warnings\n",
    "import hashlib\n",
    "import inspect\n",
    "import psutil\n",
    "import sklearn\n",
    "import numpy as np\n",
    "import pandas as pd\n",
    "import lightgbm\n",
    "import skforecast\n",
    "import plotly.express as px\n",
    "import plotly.graph_objects as go\n",
    "if skforecast.__version__ >= '0.14.0':\n",
    "    from skforecast.recursive import ForecasterRecursive, ForecasterRecursiveMultiSeries\n",
    "    from skforecast.direct import ForecasterDirect, ForecasterDirectMultiVariate\n",
    "else:\n",
    "    from skforecast.ForecasterAutoreg import ForecasterAutoreg\n",
    "    from skforecast.ForecasterAutoregMultiSeries import ForecasterAutoregMultiSeries\n",
    "    from skforecast.ForecasterAutoregDirect import ForecasterAutoregDirect\n",
    "    from skforecast.ForecasterAutoregMultiVariate import ForecasterAutoregMultiVariate\n",
    "from skforecast.utils import *\n",
    "from sklearn.preprocessing import StandardScaler\n",
    "from sklearn.linear_model import LinearRegression\n",
    "from lightgbm import LGBMRegressor\n",
    "print('Skforecast version: ', skforecast.__version__)"
   ]
  },
  {
   "cell_type": "code",
   "execution_count": 4,
   "metadata": {},
   "outputs": [],
   "source": [
    "# Becnchmarking functions\n",
    "# ==============================================================================\n",
    "class BenchmarkRunner:\n",
    "    def __init__(self, output_dir=\"benchmarks\", repeat=10):\n",
    "        self.output_dir = output_dir\n",
    "        self.repeat = repeat\n",
    "        os.makedirs(self.output_dir, exist_ok=True)\n",
    "\n",
    "    def get_system_info(self):\n",
    "        return {\n",
    "            'datetime': pd.Timestamp.now(),\n",
    "            'python_version': platform.python_version(),\n",
    "            'skforecast_version': skforecast.__version__,\n",
    "            'numpy_version': np.__version__,\n",
    "            'pandas_version': pd.__version__,\n",
    "            'sklearn_version': sklearn.__version__,\n",
    "            'lightgbm_version': lightgbm.__version__,\n",
    "            'platform': platform.platform(),\n",
    "            'processor': platform.processor(),\n",
    "            'cpu_count': psutil.cpu_count(logical=True),\n",
    "            'memory_gb': round(psutil.virtual_memory().total / 1e9, 2),\n",
    "        }\n",
    "\n",
    "    def hash_function_code(self, func):\n",
    "        src = inspect.getsource(func)\n",
    "        return hashlib.md5(src.encode()).hexdigest()\n",
    "\n",
    "    # def time_function(self, func, *args, **kwargs):\n",
    "    #     try:\n",
    "    #         timer = timeit.Timer(lambda: func(*args, **kwargs))\n",
    "    #         times = timer.repeat(repeat=self.repeat, number=1)\n",
    "    #         return {\n",
    "    #             'avg_time': np.mean(times),\n",
    "    #             'std_dev': np.std(times)\n",
    "    #         }\n",
    "    #     except Exception as e:\n",
    "    #         warnings.warn(f\"The function {func.__name__} raised an exception: {e}\")\n",
    "    #         return {\n",
    "    #             'avg_time': float('nan'),\n",
    "    #             'std_dev': float('nan')\n",
    "    #         }\n",
    "\n",
    "    def time_function(self, func, *args, **kwargs):\n",
    "        times = []\n",
    "        try:\n",
    "            for _ in range(self.repeat):\n",
    "                start = time.perf_counter()\n",
    "                func(*args, **kwargs)\n",
    "                end = time.perf_counter()\n",
    "                times.append(end - start)\n",
    "\n",
    "            return {\n",
    "                'avg_time': np.mean(times),\n",
    "                'std_dev': np.std(times),\n",
    "            }\n",
    "        except Exception as e:\n",
    "            warnings.warn(f\"The function {func.__name__} raised an exception: {e}\")\n",
    "            return {\n",
    "                'avg_time': np.nan,\n",
    "                'std_dev': np.nan\n",
    "            }\n",
    "\n",
    "    def benchmark(self, func, forecaster=None, allow_repeated_execution=True, *args, **kwargs):\n",
    "        forecaster_name = type(forecaster).__name__ if forecaster else np.nan\n",
    "        regressor_name = type(forecaster.regressor).__name__ if forecaster else np.nan\n",
    "        func_name = func.__name__\n",
    "        print(f\"Benchmarking function: {func_name}\")\n",
    "        hash_code = self.hash_function_code(func)\n",
    "        result_file = os.path.join(self.output_dir, \"benchmark.joblib\")\n",
    "\n",
    "        system_info = self.get_system_info()\n",
    "        timing = self.time_function(func, *args, **kwargs)\n",
    "\n",
    "        entry = {\n",
    "            'forecaster_name': forecaster_name,\n",
    "            'regressor_name': regressor_name,\n",
    "            'function_name': func_name,\n",
    "            'function_hash': hash_code,\n",
    "            'run_time_avg': timing['avg_time'],\n",
    "            'run_time_std_dev': timing['std_dev'],\n",
    "            **system_info\n",
    "        }\n",
    "\n",
    "        df_new = pd.DataFrame([entry])\n",
    "\n",
    "        if os.path.exists(result_file):\n",
    "            df_existing = joblib.load(result_file)\n",
    "\n",
    "            if not allow_repeated_execution:\n",
    "                cols_to_ignore = ['run_time_avg', 'run_time_std_dev', 'datetime']\n",
    "                mask = (\n",
    "                    df_existing.drop(columns = cols_to_ignore)\n",
    "                    .eq(df_new.drop(columns = cols_to_ignore).loc[0, :])\n",
    "                    .all(axis=1)\n",
    "                )\n",
    "\n",
    "                if mask.any():\n",
    "                    warnings.warn(\"This benchmark already exists with the same hash and system info. Skipping save.\")\n",
    "                    return df_existing\n",
    "\n",
    "            df_combined = pd.concat([df_existing, df_new], ignore_index=True)\n",
    "            joblib.dump(df_combined, result_file)\n",
    "            return df_combined\n",
    "        else:\n",
    "            joblib.dump(df_new, result_file)\n",
    "            return df_new\n",
    "        \n",
    "\n",
    "def plot_benchmark_results(df, function_name):\n",
    "    \"\"\"\n",
    "    Plot benchmark results for a given function.\n",
    "    \"\"\"\n",
    "    sorted_versions = sorted(df['skforecast_version'].unique(), key=lambda x: list(map(int, x.split('.'))))\n",
    "    df['skforecast_version'] = pd.Categorical(df['skforecast_version'], categories=sorted_versions, ordered=True)\n",
    "    df = df.sort_values(\"skforecast_version\")\n",
    "    medians = df.groupby('skforecast_version', observed=True)['run_time_avg'].median().reset_index()\n",
    "\n",
    "    fig = px.strip(\n",
    "        df,\n",
    "        x=\"skforecast_version\",\n",
    "        y=\"run_time_avg\",\n",
    "        color=\"skforecast_version\",\n",
    "        hover_data=df.columns,\n",
    "        stripmode='overlay',\n",
    "    )\n",
    "    fig.update_traces(jitter=True, marker=dict(size=10, opacity=0.7))\n",
    "\n",
    "    fig.add_trace(\n",
    "        go.Scatter(\n",
    "            x=medians['skforecast_version'],\n",
    "            y=medians['run_time_avg'],\n",
    "            mode='lines+markers',\n",
    "            line=dict(color='black', width=2),\n",
    "            marker=dict(size=8),\n",
    "            name='Median',\n",
    "            showlegend=True\n",
    "        )\n",
    "    )\n",
    "\n",
    "    fig.update_layout(\n",
    "        title=f\"Execution time of {function_name}\",\n",
    "        xaxis_title=\"skforecast version\",\n",
    "        yaxis_title=\"Execution time (seconds)\",\n",
    "        showlegend=True\n",
    "    )\n",
    "    fig.show()\n"
   ]
  },
  {
   "cell_type": "code",
   "execution_count": 5,
   "metadata": {},
   "outputs": [
    {
     "name": "stdout",
     "output_type": "stream",
     "text": [
      "Python version: 3.12.9\n",
      "scikit-learn version: 1.6.1\n",
      "skforecast version: 0.16.0\n",
      "pandas version: 2.2.3\n",
      "numpy version: 2.2.5\n",
      "psutil version: 5.9.0\n",
      "\n",
      "Computer network name: joaquin-HP-ProBook-440-G6\n",
      "Machine type: x86_64\n",
      "Processor type: x86_64\n",
      "Platform type: Linux-6.11.0-21-generic-x86_64-with-glibc2.39\n",
      "Operating system: Linux\n",
      "Operating system release: 6.11.0-21-generic\n",
      "Operating system version: #21~24.04.1-Ubuntu SMP PREEMPT_DYNAMIC Mon Feb 24 16:52:15 UTC 2\n",
      "Number of physical cores: 4\n",
      "Number of logical cores: 8\n"
     ]
    }
   ],
   "source": [
    "print(f\"Python version: {platform.python_version()}\")\n",
    "print(f\"scikit-learn version: {sklearn.__version__}\")\n",
    "print(f\"skforecast version: {skforecast.__version__}\")\n",
    "print(f\"pandas version: {pd.__version__}\")\n",
    "print(f\"numpy version: {np.__version__}\")\n",
    "print(f\"psutil version: {psutil.__version__}\")\n",
    "print(\"\")\n",
    "\n",
    "# Computer information\n",
    "# ==============================================================================\n",
    "print(f\"Computer network name: {platform.node()}\")\n",
    "print(f\"Machine type: {platform.machine()}\")\n",
    "print(f\"Processor type: {platform.processor()}\")\n",
    "print(f\"Platform type: {platform.platform()}\")\n",
    "print(f\"Operating system: {platform.system()}\")\n",
    "print(f\"Operating system release: {platform.release()}\")\n",
    "print(f\"Operating system version: {platform.version()}\")\n",
    "print(f\"Number of physical cores: {psutil.cpu_count(logical=False)}\")\n",
    "print(f\"Number of logical cores: {psutil.cpu_count(logical=True)}\")"
   ]
  },
  {
   "cell_type": "markdown",
   "metadata": {},
   "source": [
    "# ForecasterRecursiveMultiSeries"
   ]
  },
  {
   "cell_type": "code",
   "execution_count": null,
   "metadata": {},
   "outputs": [],
   "source": [
    "# Mock data for benchmarking\n",
    "# ==========================================================\n",
    "n_series = 600\n",
    "len_series = 2000\n",
    "series_dict = {}\n",
    "rng = np.random.default_rng(321)\n",
    "for i in range(n_series):\n",
    "    series_dict[f'series_{i}'] = pd.Series(\n",
    "        data = rng.normal(loc=20, scale=5, size=len_series),\n",
    "        index=pd.date_range(\n",
    "            start='2010-01-01',\n",
    "            periods=len_series,\n",
    "            freq='h'\n",
    "        ),\n",
    "        name=f'series_{i}'\n",
    "    )\n",
    "series_dataframe = pd.DataFrame(series_dict, index=series_dict['series_0'].index)\n",
    "\n",
    "exog_dict = {}\n",
    "rng = np.random.default_rng(321)\n",
    "for k in series_dict.keys():\n",
    "    exog = pd.DataFrame(\n",
    "            index=series_dict[k].index\n",
    "            )\n",
    "    exog['day_of_week'] = exog.index.dayofweek\n",
    "    exog['week_of_year'] = exog.index.isocalendar().week.astype(int)\n",
    "    exog['month'] = exog.index.month\n",
    "    exog_dict[k] = exog\n",
    "\n",
    "\n",
    "exog_dict_prediction = {}\n",
    "for k in series_dict.keys():\n",
    "    exog = pd.DataFrame(\n",
    "            index=pd.date_range(\n",
    "                start=series_dict[k].index.max() + pd.Timedelta(hours=1),\n",
    "                periods=100,\n",
    "                freq='h'\n",
    "            )\n",
    "            )\n",
    "    exog['day_of_week'] = exog.index.dayofweek\n",
    "    exog['week_of_year'] = exog.index.isocalendar().week.astype(int)\n",
    "    exog['month'] = exog.index.month\n",
    "    exog_dict_prediction[k] = exog"
   ]
  },
  {
   "cell_type": "code",
   "execution_count": 7,
   "metadata": {},
   "outputs": [
    {
     "name": "stdout",
     "output_type": "stream",
     "text": [
      "Benchmarking function: ForecasterRecursiveMultiSeries_fit_series_is_dict_exog_is_dict\n",
      "Benchmarking function: ForecasterRecursiveMultiSeries__create_train_X_y_series_is_dict_exog_is_dict\n",
      "Benchmarking function: ForecasterRecursiveMultiSeries_fit_series_is_dataframe_no_exog\n",
      "Benchmarking function: ForecasterRecursiveMultiSeries__create_train_X_y_series_is_dataframe_no_exog\n",
      "Benchmarking function: ForecasterRecursiveMultiSeries__create_train_X_y_single_series\n",
      "Benchmarking function: ForecasterRecursiveMultiSeries_predict_exog_is_dict\n",
      "Benchmarking function: ForecasterRecursiveMultiSeries__create_predict_inputs_exog_is_dict\n",
      "Benchmarking function: ForecasterRecursiveMultiSeries__check_predict_inputs\n"
     ]
    }
   ],
   "source": [
    "# Benchmarking speed ForecasterRecursiveMultiSeries\n",
    "# ==============================================================================\n",
    "regressor = LGBMRegressor(random_state=8520, verbose=-1)\n",
    "# regressor = LinearRegression()\n",
    "if skforecast.__version__ >= '0.14.0':\n",
    "    forecaster = ForecasterRecursiveMultiSeries(\n",
    "        regressor=regressor,\n",
    "        lags=50,\n",
    "        transformer_series=StandardScaler(),\n",
    "        transformer_exog=StandardScaler(),\n",
    "        encoding=\"ordinal\"\n",
    "    )\n",
    "else:\n",
    "     forecaster = ForecasterAutoregMultiSeries(\n",
    "        regressor=regressor,\n",
    "        lags=50,\n",
    "        transformer_series=StandardScaler(),\n",
    "        transformer_exog=StandardScaler(),\n",
    "        encoding=\"ordinal\"\n",
    "    )\n",
    "\n",
    "def ForecasterRecursiveMultiSeries_fit_series_is_dict_exog_is_dict():\n",
    "    forecaster.fit(series=series_dict, exog=exog_dict)\n",
    "\n",
    "def ForecasterRecursiveMultiSeries__create_train_X_y_series_is_dict_exog_is_dict():\n",
    "    forecaster._create_train_X_y(series=series_dict, exog=exog_dict)\n",
    "\n",
    "def ForecasterRecursiveMultiSeries_fit_series_is_dataframe_no_exog():\n",
    "    forecaster.fit(series=series_dataframe)\n",
    "\n",
    "def ForecasterRecursiveMultiSeries__create_train_X_y_series_is_dataframe_no_exog():\n",
    "    forecaster._create_train_X_y(series=series_dataframe)\n",
    "\n",
    "def ForecasterRecursiveMultiSeries__create_train_X_y_single_series():\n",
    "    _ = forecaster._create_train_X_y_single_series(\n",
    "            y = series_dict['series_0'],\n",
    "            exog = exog_dict['series_0'],\n",
    "            ignore_exog = False,\n",
    "        )\n",
    "\n",
    "def ForecasterRecursiveMultiSeries_predict_exog_is_dict():\n",
    "    forecaster.predict(steps=100, exog=exog_dict_prediction, suppress_warnings=True)\n",
    "\n",
    "def ForecasterRecursiveMultiSeries__create_predict_inputs_exog_is_dict():\n",
    "    _ = forecaster._create_predict_inputs(\n",
    "            steps         = 100,\n",
    "            exog         = exog_dict_prediction,\n",
    "            check_inputs = True\n",
    "        )\n",
    "\n",
    "def ForecasterRecursiveMultiSeries__check_predict_inputs():\n",
    "    check_predict_input(\n",
    "        forecaster_name  = type(forecaster).__name__,\n",
    "        steps            = 100,\n",
    "        is_fitted        = forecaster.is_fitted,\n",
    "        exog_in_         = forecaster.exog_in_,\n",
    "        index_type_      = forecaster.index_type_,\n",
    "        index_freq_      = forecaster.index_freq_,\n",
    "        window_size      = forecaster.window_size,\n",
    "        last_window      = pd.DataFrame(forecaster.last_window_),\n",
    "        exog             = exog_dict_prediction,\n",
    "        exog_type_in_    = forecaster.exog_type_in_,\n",
    "        exog_names_in_   = forecaster.exog_names_in_,\n",
    "        interval         = None,\n",
    "        levels           = forecaster.series_names_in_,\n",
    "        series_names_in_ = forecaster.series_names_in_,\n",
    "        encoding         = forecaster.encoding\n",
    "    )\n",
    "\n",
    "\n",
    "runner = BenchmarkRunner(repeat=5, output_dir=\"benchmarks\")\n",
    "_ = runner.benchmark(ForecasterRecursiveMultiSeries_fit_series_is_dict_exog_is_dict, forecaster= forecaster)\n",
    "_ = runner.benchmark(ForecasterRecursiveMultiSeries__create_train_X_y_series_is_dict_exog_is_dict, forecaster= forecaster)\n",
    "_ = runner.benchmark(ForecasterRecursiveMultiSeries_fit_series_is_dataframe_no_exog, forecaster= forecaster)\n",
    "_ = runner.benchmark(ForecasterRecursiveMultiSeries__create_train_X_y_series_is_dataframe_no_exog, forecaster= forecaster)\n",
    "forecaster.fit(series=series_dict, exog=exog_dict)\n",
    "_ = runner.benchmark(ForecasterRecursiveMultiSeries__create_train_X_y_single_series, forecaster= forecaster)\n",
    "_ = runner.benchmark(ForecasterRecursiveMultiSeries_predict_exog_is_dict, forecaster= forecaster)\n",
    "_ = runner.benchmark(ForecasterRecursiveMultiSeries__create_predict_inputs_exog_is_dict, forecaster= forecaster)\n",
    "_ = runner.benchmark(ForecasterRecursiveMultiSeries__check_predict_inputs, forecaster= forecaster)"
   ]
  },
  {
   "cell_type": "code",
   "execution_count": 11,
   "metadata": {},
   "outputs": [
    {
     "data": {
      "application/vnd.microsoft.datawrangler.viewer.v0+json": {
       "columns": [
        {
         "name": "index",
         "rawType": "int64",
         "type": "integer"
        },
        {
         "name": "forecaster_name",
         "rawType": "object",
         "type": "string"
        },
        {
         "name": "regressor_name",
         "rawType": "object",
         "type": "string"
        },
        {
         "name": "function_name",
         "rawType": "object",
         "type": "string"
        },
        {
         "name": "function_hash",
         "rawType": "object",
         "type": "string"
        },
        {
         "name": "run_time_avg",
         "rawType": "float64",
         "type": "float"
        },
        {
         "name": "run_time_std_dev",
         "rawType": "float64",
         "type": "float"
        },
        {
         "name": "datetime",
         "rawType": "datetime64[ns]",
         "type": "datetime"
        },
        {
         "name": "python_version",
         "rawType": "object",
         "type": "string"
        },
        {
         "name": "skforecast_version",
         "rawType": "object",
         "type": "string"
        },
        {
         "name": "numpy_version",
         "rawType": "object",
         "type": "string"
        },
        {
         "name": "pandas_version",
         "rawType": "object",
         "type": "string"
        },
        {
         "name": "sklearn_version",
         "rawType": "object",
         "type": "string"
        },
        {
         "name": "lightgbm_version",
         "rawType": "object",
         "type": "string"
        },
        {
         "name": "platform",
         "rawType": "object",
         "type": "string"
        },
        {
         "name": "processor",
         "rawType": "object",
         "type": "string"
        },
        {
         "name": "cpu_count",
         "rawType": "int64",
         "type": "integer"
        },
        {
         "name": "memory_gb",
         "rawType": "float64",
         "type": "float"
        }
       ],
       "conversionMethod": "pd.DataFrame",
       "ref": "40887064-3114-4c54-89c8-12598192e23b",
       "rows": [
        [
         "16",
         "ForecasterRecursiveMultiSeries",
         "LGBMRegressor",
         "ForecasterRecursiveMultiSeries_fit_series_is_dict_exog_is_dict",
         "63b606a379874ae9f340ba4fe592d695",
         "13.144153293999988",
         "0.7575859013239524",
         "2025-04-22 21:21:23.862947",
         "3.12.9",
         "0.14.0",
         "1.26.4",
         "2.2.3",
         "1.4.2",
         "4.6.0",
         "Linux-6.11.0-21-generic-x86_64-with-glibc2.39",
         "x86_64",
         "8",
         "16.64"
        ],
        [
         "36",
         "ForecasterRecursiveMultiSeries",
         "LGBMRegressor",
         "ForecasterRecursiveMultiSeries_fit_series_is_dict_exog_is_dict",
         "63b606a379874ae9f340ba4fe592d695",
         "12.617939033600123",
         "1.1553042251771855",
         "2025-04-22 21:28:08.104547",
         "3.12.9",
         "0.14.0",
         "1.26.4",
         "2.2.3",
         "1.4.2",
         "4.6.0",
         "Linux-6.11.0-21-generic-x86_64-with-glibc2.39",
         "x86_64",
         "8",
         "16.64"
        ],
        [
         "48",
         "ForecasterRecursiveMultiSeries",
         "LGBMRegressor",
         "ForecasterRecursiveMultiSeries_fit_series_is_dict_exog_is_dict",
         "63b606a379874ae9f340ba4fe592d695",
         "12.964886231399941",
         "1.38728154384461",
         "2025-04-22 21:32:16.760560",
         "3.12.9",
         "0.15.0",
         "1.26.4",
         "2.2.3",
         "1.4.2",
         "4.6.0",
         "Linux-6.11.0-21-generic-x86_64-with-glibc2.39",
         "x86_64",
         "8",
         "16.64"
        ],
        [
         "60",
         "ForecasterRecursiveMultiSeries",
         "LGBMRegressor",
         "ForecasterRecursiveMultiSeries_fit_series_is_dict_exog_is_dict",
         "63b606a379874ae9f340ba4fe592d695",
         "19.005444483400062",
         "1.6341586553886875",
         "2025-04-22 21:42:34.608069",
         "3.12.9",
         "0.15.0",
         "2.2.5",
         "2.2.3",
         "1.6.1",
         "4.6.0",
         "Linux-6.11.0-21-generic-x86_64-with-glibc2.39",
         "x86_64",
         "8",
         "16.64"
        ],
        [
         "72",
         "ForecasterRecursiveMultiSeries",
         "LGBMRegressor",
         "ForecasterRecursiveMultiSeries_fit_series_is_dict_exog_is_dict",
         "63b606a379874ae9f340ba4fe592d695",
         "20.060154774200235",
         "1.042921166198489",
         "2025-04-22 21:52:19.178605",
         "3.12.9",
         "0.16.0",
         "2.2.5",
         "2.2.3",
         "1.6.1",
         "4.6.0",
         "Linux-6.11.0-21-generic-x86_64-with-glibc2.39",
         "x86_64",
         "8",
         "16.64"
        ],
        [
         "84",
         "ForecasterRecursiveMultiSeries",
         "LGBMRegressor",
         "ForecasterRecursiveMultiSeries_fit_series_is_dict_exog_is_dict",
         "63b606a379874ae9f340ba4fe592d695",
         "19.36795048699987",
         "1.1903236870372396",
         "2025-04-22 22:07:07.919896",
         "3.12.9",
         "0.16.0",
         "1.26.4",
         "2.2.3",
         "1.6.1",
         "4.6.0",
         "Linux-6.11.0-21-generic-x86_64-with-glibc2.39",
         "x86_64",
         "8",
         "16.64"
        ],
        [
         "120",
         "ForecasterRecursiveMultiSeries",
         "LGBMRegressor",
         "ForecasterRecursiveMultiSeries_fit_series_is_dict_exog_is_dict",
         "63b606a379874ae9f340ba4fe592d695",
         "19.038448020399848",
         "1.077365445070151",
         "2025-04-22 22:41:42.671386",
         "3.12.9",
         "0.15.0",
         "1.26.4",
         "2.2.3",
         "1.4.2",
         "4.6.0",
         "Linux-6.11.0-21-generic-x86_64-with-glibc2.39",
         "x86_64",
         "8",
         "16.64"
        ],
        [
         "132",
         "ForecasterRecursiveMultiSeries",
         "LGBMRegressor",
         "ForecasterRecursiveMultiSeries_fit_series_is_dict_exog_is_dict",
         "63b606a379874ae9f340ba4fe592d695",
         "17.89022362199976",
         "0.6435822421762477",
         "2025-04-22 22:50:05.388907",
         "3.12.9",
         "0.16.0",
         "1.26.4",
         "2.2.3",
         "1.4.2",
         "4.6.0",
         "Linux-6.11.0-21-generic-x86_64-with-glibc2.39",
         "x86_64",
         "8",
         "16.64"
        ],
        [
         "168",
         "ForecasterRecursiveMultiSeries",
         "LGBMRegressor",
         "ForecasterRecursiveMultiSeries_fit_series_is_dict_exog_is_dict",
         "63b606a379874ae9f340ba4fe592d695",
         "17.788393598800003",
         "1.3966405843926168",
         "2025-04-23 09:53:36.637667",
         "3.12.9",
         "0.16.0",
         "1.26.4",
         "2.2.3",
         "1.4.2",
         "4.6.0",
         "Linux-6.11.0-21-generic-x86_64-with-glibc2.39",
         "x86_64",
         "8",
         "16.64"
        ],
        [
         "180",
         "ForecasterRecursiveMultiSeries",
         "LGBMRegressor",
         "ForecasterRecursiveMultiSeries_fit_series_is_dict_exog_is_dict",
         "63b606a379874ae9f340ba4fe592d695",
         "19.373056960999953",
         "0.9696501864644318",
         "2025-04-23 09:58:42.497417",
         "3.12.9",
         "0.16.0",
         "2.2.5",
         "2.2.3",
         "1.6.1",
         "4.6.0",
         "Linux-6.11.0-21-generic-x86_64-with-glibc2.39",
         "x86_64",
         "8",
         "16.64"
        ],
        [
         "192",
         "ForecasterRecursiveMultiSeries",
         "LGBMRegressor",
         "ForecasterRecursiveMultiSeries_fit_series_is_dict_exog_is_dict",
         "63b606a379874ae9f340ba4fe592d695",
         "19.180185628599975",
         "0.9334999409684012",
         "2025-04-23 10:21:42.372308",
         "3.12.9",
         "0.16.0",
         "2.2.5",
         "2.2.3",
         "1.6.1",
         "4.6.0",
         "Linux-6.11.0-21-generic-x86_64-with-glibc2.39",
         "x86_64",
         "8",
         "16.64"
        ],
        [
         "204",
         "ForecasterRecursiveMultiSeries",
         "LGBMRegressor",
         "ForecasterRecursiveMultiSeries_fit_series_is_dict_exog_is_dict",
         "63b606a379874ae9f340ba4fe592d695",
         "11.73841950959977",
         "0.882376884659548",
         "2025-04-23 13:36:16.748916",
         "3.12.9",
         "0.16.0",
         "2.2.5",
         "2.2.3",
         "1.6.1",
         "4.6.0",
         "Linux-6.11.0-21-generic-x86_64-with-glibc2.39",
         "x86_64",
         "8",
         "16.64"
        ],
        [
         "216",
         "ForecasterRecursiveMultiSeries",
         "LGBMRegressor",
         "ForecasterRecursiveMultiSeries_fit_series_is_dict_exog_is_dict",
         "63b606a379874ae9f340ba4fe592d695",
         "11.556549395000001",
         "0.5357376838088095",
         "2025-04-23 13:40:43.439504",
         "3.12.9",
         "0.16.0",
         "2.2.5",
         "2.2.3",
         "1.6.1",
         "4.6.0",
         "Linux-6.11.0-21-generic-x86_64-with-glibc2.39",
         "x86_64",
         "8",
         "16.64"
        ],
        [
         "228",
         "ForecasterRecursiveMultiSeries",
         "LGBMRegressor",
         "ForecasterRecursiveMultiSeries_fit_series_is_dict_exog_is_dict",
         "63b606a379874ae9f340ba4fe592d695",
         "13.659725998400063",
         "1.9244130142243276",
         "2025-04-23 13:44:24.913359",
         "3.12.9",
         "0.16.0",
         "2.2.5",
         "2.2.3",
         "1.6.1",
         "4.6.0",
         "Linux-6.11.0-21-generic-x86_64-with-glibc2.39",
         "x86_64",
         "8",
         "16.64"
        ]
       ],
       "shape": {
        "columns": 17,
        "rows": 14
       }
      },
      "text/html": [
       "<div>\n",
       "<style scoped>\n",
       "    .dataframe tbody tr th:only-of-type {\n",
       "        vertical-align: middle;\n",
       "    }\n",
       "\n",
       "    .dataframe tbody tr th {\n",
       "        vertical-align: top;\n",
       "    }\n",
       "\n",
       "    .dataframe thead th {\n",
       "        text-align: right;\n",
       "    }\n",
       "</style>\n",
       "<table border=\"1\" class=\"dataframe\">\n",
       "  <thead>\n",
       "    <tr style=\"text-align: right;\">\n",
       "      <th></th>\n",
       "      <th>forecaster_name</th>\n",
       "      <th>regressor_name</th>\n",
       "      <th>function_name</th>\n",
       "      <th>function_hash</th>\n",
       "      <th>run_time_avg</th>\n",
       "      <th>run_time_std_dev</th>\n",
       "      <th>datetime</th>\n",
       "      <th>python_version</th>\n",
       "      <th>skforecast_version</th>\n",
       "      <th>numpy_version</th>\n",
       "      <th>pandas_version</th>\n",
       "      <th>sklearn_version</th>\n",
       "      <th>lightgbm_version</th>\n",
       "      <th>platform</th>\n",
       "      <th>processor</th>\n",
       "      <th>cpu_count</th>\n",
       "      <th>memory_gb</th>\n",
       "    </tr>\n",
       "  </thead>\n",
       "  <tbody>\n",
       "    <tr>\n",
       "      <th>16</th>\n",
       "      <td>ForecasterRecursiveMultiSeries</td>\n",
       "      <td>LGBMRegressor</td>\n",
       "      <td>ForecasterRecursiveMultiSeries_fit_series_is_d...</td>\n",
       "      <td>63b606a379874ae9f340ba4fe592d695</td>\n",
       "      <td>13.144153</td>\n",
       "      <td>0.757586</td>\n",
       "      <td>2025-04-22 21:21:23.862947</td>\n",
       "      <td>3.12.9</td>\n",
       "      <td>0.14.0</td>\n",
       "      <td>1.26.4</td>\n",
       "      <td>2.2.3</td>\n",
       "      <td>1.4.2</td>\n",
       "      <td>4.6.0</td>\n",
       "      <td>Linux-6.11.0-21-generic-x86_64-with-glibc2.39</td>\n",
       "      <td>x86_64</td>\n",
       "      <td>8</td>\n",
       "      <td>16.64</td>\n",
       "    </tr>\n",
       "    <tr>\n",
       "      <th>36</th>\n",
       "      <td>ForecasterRecursiveMultiSeries</td>\n",
       "      <td>LGBMRegressor</td>\n",
       "      <td>ForecasterRecursiveMultiSeries_fit_series_is_d...</td>\n",
       "      <td>63b606a379874ae9f340ba4fe592d695</td>\n",
       "      <td>12.617939</td>\n",
       "      <td>1.155304</td>\n",
       "      <td>2025-04-22 21:28:08.104547</td>\n",
       "      <td>3.12.9</td>\n",
       "      <td>0.14.0</td>\n",
       "      <td>1.26.4</td>\n",
       "      <td>2.2.3</td>\n",
       "      <td>1.4.2</td>\n",
       "      <td>4.6.0</td>\n",
       "      <td>Linux-6.11.0-21-generic-x86_64-with-glibc2.39</td>\n",
       "      <td>x86_64</td>\n",
       "      <td>8</td>\n",
       "      <td>16.64</td>\n",
       "    </tr>\n",
       "    <tr>\n",
       "      <th>48</th>\n",
       "      <td>ForecasterRecursiveMultiSeries</td>\n",
       "      <td>LGBMRegressor</td>\n",
       "      <td>ForecasterRecursiveMultiSeries_fit_series_is_d...</td>\n",
       "      <td>63b606a379874ae9f340ba4fe592d695</td>\n",
       "      <td>12.964886</td>\n",
       "      <td>1.387282</td>\n",
       "      <td>2025-04-22 21:32:16.760560</td>\n",
       "      <td>3.12.9</td>\n",
       "      <td>0.15.0</td>\n",
       "      <td>1.26.4</td>\n",
       "      <td>2.2.3</td>\n",
       "      <td>1.4.2</td>\n",
       "      <td>4.6.0</td>\n",
       "      <td>Linux-6.11.0-21-generic-x86_64-with-glibc2.39</td>\n",
       "      <td>x86_64</td>\n",
       "      <td>8</td>\n",
       "      <td>16.64</td>\n",
       "    </tr>\n",
       "    <tr>\n",
       "      <th>60</th>\n",
       "      <td>ForecasterRecursiveMultiSeries</td>\n",
       "      <td>LGBMRegressor</td>\n",
       "      <td>ForecasterRecursiveMultiSeries_fit_series_is_d...</td>\n",
       "      <td>63b606a379874ae9f340ba4fe592d695</td>\n",
       "      <td>19.005444</td>\n",
       "      <td>1.634159</td>\n",
       "      <td>2025-04-22 21:42:34.608069</td>\n",
       "      <td>3.12.9</td>\n",
       "      <td>0.15.0</td>\n",
       "      <td>2.2.5</td>\n",
       "      <td>2.2.3</td>\n",
       "      <td>1.6.1</td>\n",
       "      <td>4.6.0</td>\n",
       "      <td>Linux-6.11.0-21-generic-x86_64-with-glibc2.39</td>\n",
       "      <td>x86_64</td>\n",
       "      <td>8</td>\n",
       "      <td>16.64</td>\n",
       "    </tr>\n",
       "    <tr>\n",
       "      <th>72</th>\n",
       "      <td>ForecasterRecursiveMultiSeries</td>\n",
       "      <td>LGBMRegressor</td>\n",
       "      <td>ForecasterRecursiveMultiSeries_fit_series_is_d...</td>\n",
       "      <td>63b606a379874ae9f340ba4fe592d695</td>\n",
       "      <td>20.060155</td>\n",
       "      <td>1.042921</td>\n",
       "      <td>2025-04-22 21:52:19.178605</td>\n",
       "      <td>3.12.9</td>\n",
       "      <td>0.16.0</td>\n",
       "      <td>2.2.5</td>\n",
       "      <td>2.2.3</td>\n",
       "      <td>1.6.1</td>\n",
       "      <td>4.6.0</td>\n",
       "      <td>Linux-6.11.0-21-generic-x86_64-with-glibc2.39</td>\n",
       "      <td>x86_64</td>\n",
       "      <td>8</td>\n",
       "      <td>16.64</td>\n",
       "    </tr>\n",
       "    <tr>\n",
       "      <th>84</th>\n",
       "      <td>ForecasterRecursiveMultiSeries</td>\n",
       "      <td>LGBMRegressor</td>\n",
       "      <td>ForecasterRecursiveMultiSeries_fit_series_is_d...</td>\n",
       "      <td>63b606a379874ae9f340ba4fe592d695</td>\n",
       "      <td>19.367950</td>\n",
       "      <td>1.190324</td>\n",
       "      <td>2025-04-22 22:07:07.919896</td>\n",
       "      <td>3.12.9</td>\n",
       "      <td>0.16.0</td>\n",
       "      <td>1.26.4</td>\n",
       "      <td>2.2.3</td>\n",
       "      <td>1.6.1</td>\n",
       "      <td>4.6.0</td>\n",
       "      <td>Linux-6.11.0-21-generic-x86_64-with-glibc2.39</td>\n",
       "      <td>x86_64</td>\n",
       "      <td>8</td>\n",
       "      <td>16.64</td>\n",
       "    </tr>\n",
       "    <tr>\n",
       "      <th>120</th>\n",
       "      <td>ForecasterRecursiveMultiSeries</td>\n",
       "      <td>LGBMRegressor</td>\n",
       "      <td>ForecasterRecursiveMultiSeries_fit_series_is_d...</td>\n",
       "      <td>63b606a379874ae9f340ba4fe592d695</td>\n",
       "      <td>19.038448</td>\n",
       "      <td>1.077365</td>\n",
       "      <td>2025-04-22 22:41:42.671386</td>\n",
       "      <td>3.12.9</td>\n",
       "      <td>0.15.0</td>\n",
       "      <td>1.26.4</td>\n",
       "      <td>2.2.3</td>\n",
       "      <td>1.4.2</td>\n",
       "      <td>4.6.0</td>\n",
       "      <td>Linux-6.11.0-21-generic-x86_64-with-glibc2.39</td>\n",
       "      <td>x86_64</td>\n",
       "      <td>8</td>\n",
       "      <td>16.64</td>\n",
       "    </tr>\n",
       "    <tr>\n",
       "      <th>132</th>\n",
       "      <td>ForecasterRecursiveMultiSeries</td>\n",
       "      <td>LGBMRegressor</td>\n",
       "      <td>ForecasterRecursiveMultiSeries_fit_series_is_d...</td>\n",
       "      <td>63b606a379874ae9f340ba4fe592d695</td>\n",
       "      <td>17.890224</td>\n",
       "      <td>0.643582</td>\n",
       "      <td>2025-04-22 22:50:05.388907</td>\n",
       "      <td>3.12.9</td>\n",
       "      <td>0.16.0</td>\n",
       "      <td>1.26.4</td>\n",
       "      <td>2.2.3</td>\n",
       "      <td>1.4.2</td>\n",
       "      <td>4.6.0</td>\n",
       "      <td>Linux-6.11.0-21-generic-x86_64-with-glibc2.39</td>\n",
       "      <td>x86_64</td>\n",
       "      <td>8</td>\n",
       "      <td>16.64</td>\n",
       "    </tr>\n",
       "    <tr>\n",
       "      <th>168</th>\n",
       "      <td>ForecasterRecursiveMultiSeries</td>\n",
       "      <td>LGBMRegressor</td>\n",
       "      <td>ForecasterRecursiveMultiSeries_fit_series_is_d...</td>\n",
       "      <td>63b606a379874ae9f340ba4fe592d695</td>\n",
       "      <td>17.788394</td>\n",
       "      <td>1.396641</td>\n",
       "      <td>2025-04-23 09:53:36.637667</td>\n",
       "      <td>3.12.9</td>\n",
       "      <td>0.16.0</td>\n",
       "      <td>1.26.4</td>\n",
       "      <td>2.2.3</td>\n",
       "      <td>1.4.2</td>\n",
       "      <td>4.6.0</td>\n",
       "      <td>Linux-6.11.0-21-generic-x86_64-with-glibc2.39</td>\n",
       "      <td>x86_64</td>\n",
       "      <td>8</td>\n",
       "      <td>16.64</td>\n",
       "    </tr>\n",
       "    <tr>\n",
       "      <th>180</th>\n",
       "      <td>ForecasterRecursiveMultiSeries</td>\n",
       "      <td>LGBMRegressor</td>\n",
       "      <td>ForecasterRecursiveMultiSeries_fit_series_is_d...</td>\n",
       "      <td>63b606a379874ae9f340ba4fe592d695</td>\n",
       "      <td>19.373057</td>\n",
       "      <td>0.969650</td>\n",
       "      <td>2025-04-23 09:58:42.497417</td>\n",
       "      <td>3.12.9</td>\n",
       "      <td>0.16.0</td>\n",
       "      <td>2.2.5</td>\n",
       "      <td>2.2.3</td>\n",
       "      <td>1.6.1</td>\n",
       "      <td>4.6.0</td>\n",
       "      <td>Linux-6.11.0-21-generic-x86_64-with-glibc2.39</td>\n",
       "      <td>x86_64</td>\n",
       "      <td>8</td>\n",
       "      <td>16.64</td>\n",
       "    </tr>\n",
       "    <tr>\n",
       "      <th>192</th>\n",
       "      <td>ForecasterRecursiveMultiSeries</td>\n",
       "      <td>LGBMRegressor</td>\n",
       "      <td>ForecasterRecursiveMultiSeries_fit_series_is_d...</td>\n",
       "      <td>63b606a379874ae9f340ba4fe592d695</td>\n",
       "      <td>19.180186</td>\n",
       "      <td>0.933500</td>\n",
       "      <td>2025-04-23 10:21:42.372308</td>\n",
       "      <td>3.12.9</td>\n",
       "      <td>0.16.0</td>\n",
       "      <td>2.2.5</td>\n",
       "      <td>2.2.3</td>\n",
       "      <td>1.6.1</td>\n",
       "      <td>4.6.0</td>\n",
       "      <td>Linux-6.11.0-21-generic-x86_64-with-glibc2.39</td>\n",
       "      <td>x86_64</td>\n",
       "      <td>8</td>\n",
       "      <td>16.64</td>\n",
       "    </tr>\n",
       "    <tr>\n",
       "      <th>204</th>\n",
       "      <td>ForecasterRecursiveMultiSeries</td>\n",
       "      <td>LGBMRegressor</td>\n",
       "      <td>ForecasterRecursiveMultiSeries_fit_series_is_d...</td>\n",
       "      <td>63b606a379874ae9f340ba4fe592d695</td>\n",
       "      <td>11.738420</td>\n",
       "      <td>0.882377</td>\n",
       "      <td>2025-04-23 13:36:16.748916</td>\n",
       "      <td>3.12.9</td>\n",
       "      <td>0.16.0</td>\n",
       "      <td>2.2.5</td>\n",
       "      <td>2.2.3</td>\n",
       "      <td>1.6.1</td>\n",
       "      <td>4.6.0</td>\n",
       "      <td>Linux-6.11.0-21-generic-x86_64-with-glibc2.39</td>\n",
       "      <td>x86_64</td>\n",
       "      <td>8</td>\n",
       "      <td>16.64</td>\n",
       "    </tr>\n",
       "    <tr>\n",
       "      <th>216</th>\n",
       "      <td>ForecasterRecursiveMultiSeries</td>\n",
       "      <td>LGBMRegressor</td>\n",
       "      <td>ForecasterRecursiveMultiSeries_fit_series_is_d...</td>\n",
       "      <td>63b606a379874ae9f340ba4fe592d695</td>\n",
       "      <td>11.556549</td>\n",
       "      <td>0.535738</td>\n",
       "      <td>2025-04-23 13:40:43.439504</td>\n",
       "      <td>3.12.9</td>\n",
       "      <td>0.16.0</td>\n",
       "      <td>2.2.5</td>\n",
       "      <td>2.2.3</td>\n",
       "      <td>1.6.1</td>\n",
       "      <td>4.6.0</td>\n",
       "      <td>Linux-6.11.0-21-generic-x86_64-with-glibc2.39</td>\n",
       "      <td>x86_64</td>\n",
       "      <td>8</td>\n",
       "      <td>16.64</td>\n",
       "    </tr>\n",
       "    <tr>\n",
       "      <th>228</th>\n",
       "      <td>ForecasterRecursiveMultiSeries</td>\n",
       "      <td>LGBMRegressor</td>\n",
       "      <td>ForecasterRecursiveMultiSeries_fit_series_is_d...</td>\n",
       "      <td>63b606a379874ae9f340ba4fe592d695</td>\n",
       "      <td>13.659726</td>\n",
       "      <td>1.924413</td>\n",
       "      <td>2025-04-23 13:44:24.913359</td>\n",
       "      <td>3.12.9</td>\n",
       "      <td>0.16.0</td>\n",
       "      <td>2.2.5</td>\n",
       "      <td>2.2.3</td>\n",
       "      <td>1.6.1</td>\n",
       "      <td>4.6.0</td>\n",
       "      <td>Linux-6.11.0-21-generic-x86_64-with-glibc2.39</td>\n",
       "      <td>x86_64</td>\n",
       "      <td>8</td>\n",
       "      <td>16.64</td>\n",
       "    </tr>\n",
       "  </tbody>\n",
       "</table>\n",
       "</div>"
      ],
      "text/plain": [
       "                    forecaster_name regressor_name  \\\n",
       "16   ForecasterRecursiveMultiSeries  LGBMRegressor   \n",
       "36   ForecasterRecursiveMultiSeries  LGBMRegressor   \n",
       "48   ForecasterRecursiveMultiSeries  LGBMRegressor   \n",
       "60   ForecasterRecursiveMultiSeries  LGBMRegressor   \n",
       "72   ForecasterRecursiveMultiSeries  LGBMRegressor   \n",
       "84   ForecasterRecursiveMultiSeries  LGBMRegressor   \n",
       "120  ForecasterRecursiveMultiSeries  LGBMRegressor   \n",
       "132  ForecasterRecursiveMultiSeries  LGBMRegressor   \n",
       "168  ForecasterRecursiveMultiSeries  LGBMRegressor   \n",
       "180  ForecasterRecursiveMultiSeries  LGBMRegressor   \n",
       "192  ForecasterRecursiveMultiSeries  LGBMRegressor   \n",
       "204  ForecasterRecursiveMultiSeries  LGBMRegressor   \n",
       "216  ForecasterRecursiveMultiSeries  LGBMRegressor   \n",
       "228  ForecasterRecursiveMultiSeries  LGBMRegressor   \n",
       "\n",
       "                                         function_name  \\\n",
       "16   ForecasterRecursiveMultiSeries_fit_series_is_d...   \n",
       "36   ForecasterRecursiveMultiSeries_fit_series_is_d...   \n",
       "48   ForecasterRecursiveMultiSeries_fit_series_is_d...   \n",
       "60   ForecasterRecursiveMultiSeries_fit_series_is_d...   \n",
       "72   ForecasterRecursiveMultiSeries_fit_series_is_d...   \n",
       "84   ForecasterRecursiveMultiSeries_fit_series_is_d...   \n",
       "120  ForecasterRecursiveMultiSeries_fit_series_is_d...   \n",
       "132  ForecasterRecursiveMultiSeries_fit_series_is_d...   \n",
       "168  ForecasterRecursiveMultiSeries_fit_series_is_d...   \n",
       "180  ForecasterRecursiveMultiSeries_fit_series_is_d...   \n",
       "192  ForecasterRecursiveMultiSeries_fit_series_is_d...   \n",
       "204  ForecasterRecursiveMultiSeries_fit_series_is_d...   \n",
       "216  ForecasterRecursiveMultiSeries_fit_series_is_d...   \n",
       "228  ForecasterRecursiveMultiSeries_fit_series_is_d...   \n",
       "\n",
       "                        function_hash  run_time_avg  run_time_std_dev  \\\n",
       "16   63b606a379874ae9f340ba4fe592d695     13.144153          0.757586   \n",
       "36   63b606a379874ae9f340ba4fe592d695     12.617939          1.155304   \n",
       "48   63b606a379874ae9f340ba4fe592d695     12.964886          1.387282   \n",
       "60   63b606a379874ae9f340ba4fe592d695     19.005444          1.634159   \n",
       "72   63b606a379874ae9f340ba4fe592d695     20.060155          1.042921   \n",
       "84   63b606a379874ae9f340ba4fe592d695     19.367950          1.190324   \n",
       "120  63b606a379874ae9f340ba4fe592d695     19.038448          1.077365   \n",
       "132  63b606a379874ae9f340ba4fe592d695     17.890224          0.643582   \n",
       "168  63b606a379874ae9f340ba4fe592d695     17.788394          1.396641   \n",
       "180  63b606a379874ae9f340ba4fe592d695     19.373057          0.969650   \n",
       "192  63b606a379874ae9f340ba4fe592d695     19.180186          0.933500   \n",
       "204  63b606a379874ae9f340ba4fe592d695     11.738420          0.882377   \n",
       "216  63b606a379874ae9f340ba4fe592d695     11.556549          0.535738   \n",
       "228  63b606a379874ae9f340ba4fe592d695     13.659726          1.924413   \n",
       "\n",
       "                      datetime python_version skforecast_version  \\\n",
       "16  2025-04-22 21:21:23.862947         3.12.9             0.14.0   \n",
       "36  2025-04-22 21:28:08.104547         3.12.9             0.14.0   \n",
       "48  2025-04-22 21:32:16.760560         3.12.9             0.15.0   \n",
       "60  2025-04-22 21:42:34.608069         3.12.9             0.15.0   \n",
       "72  2025-04-22 21:52:19.178605         3.12.9             0.16.0   \n",
       "84  2025-04-22 22:07:07.919896         3.12.9             0.16.0   \n",
       "120 2025-04-22 22:41:42.671386         3.12.9             0.15.0   \n",
       "132 2025-04-22 22:50:05.388907         3.12.9             0.16.0   \n",
       "168 2025-04-23 09:53:36.637667         3.12.9             0.16.0   \n",
       "180 2025-04-23 09:58:42.497417         3.12.9             0.16.0   \n",
       "192 2025-04-23 10:21:42.372308         3.12.9             0.16.0   \n",
       "204 2025-04-23 13:36:16.748916         3.12.9             0.16.0   \n",
       "216 2025-04-23 13:40:43.439504         3.12.9             0.16.0   \n",
       "228 2025-04-23 13:44:24.913359         3.12.9             0.16.0   \n",
       "\n",
       "    numpy_version pandas_version sklearn_version lightgbm_version  \\\n",
       "16         1.26.4          2.2.3           1.4.2            4.6.0   \n",
       "36         1.26.4          2.2.3           1.4.2            4.6.0   \n",
       "48         1.26.4          2.2.3           1.4.2            4.6.0   \n",
       "60          2.2.5          2.2.3           1.6.1            4.6.0   \n",
       "72          2.2.5          2.2.3           1.6.1            4.6.0   \n",
       "84         1.26.4          2.2.3           1.6.1            4.6.0   \n",
       "120        1.26.4          2.2.3           1.4.2            4.6.0   \n",
       "132        1.26.4          2.2.3           1.4.2            4.6.0   \n",
       "168        1.26.4          2.2.3           1.4.2            4.6.0   \n",
       "180         2.2.5          2.2.3           1.6.1            4.6.0   \n",
       "192         2.2.5          2.2.3           1.6.1            4.6.0   \n",
       "204         2.2.5          2.2.3           1.6.1            4.6.0   \n",
       "216         2.2.5          2.2.3           1.6.1            4.6.0   \n",
       "228         2.2.5          2.2.3           1.6.1            4.6.0   \n",
       "\n",
       "                                          platform processor  cpu_count  \\\n",
       "16   Linux-6.11.0-21-generic-x86_64-with-glibc2.39    x86_64          8   \n",
       "36   Linux-6.11.0-21-generic-x86_64-with-glibc2.39    x86_64          8   \n",
       "48   Linux-6.11.0-21-generic-x86_64-with-glibc2.39    x86_64          8   \n",
       "60   Linux-6.11.0-21-generic-x86_64-with-glibc2.39    x86_64          8   \n",
       "72   Linux-6.11.0-21-generic-x86_64-with-glibc2.39    x86_64          8   \n",
       "84   Linux-6.11.0-21-generic-x86_64-with-glibc2.39    x86_64          8   \n",
       "120  Linux-6.11.0-21-generic-x86_64-with-glibc2.39    x86_64          8   \n",
       "132  Linux-6.11.0-21-generic-x86_64-with-glibc2.39    x86_64          8   \n",
       "168  Linux-6.11.0-21-generic-x86_64-with-glibc2.39    x86_64          8   \n",
       "180  Linux-6.11.0-21-generic-x86_64-with-glibc2.39    x86_64          8   \n",
       "192  Linux-6.11.0-21-generic-x86_64-with-glibc2.39    x86_64          8   \n",
       "204  Linux-6.11.0-21-generic-x86_64-with-glibc2.39    x86_64          8   \n",
       "216  Linux-6.11.0-21-generic-x86_64-with-glibc2.39    x86_64          8   \n",
       "228  Linux-6.11.0-21-generic-x86_64-with-glibc2.39    x86_64          8   \n",
       "\n",
       "     memory_gb  \n",
       "16       16.64  \n",
       "36       16.64  \n",
       "48       16.64  \n",
       "60       16.64  \n",
       "72       16.64  \n",
       "84       16.64  \n",
       "120      16.64  \n",
       "132      16.64  \n",
       "168      16.64  \n",
       "180      16.64  \n",
       "192      16.64  \n",
       "204      16.64  \n",
       "216      16.64  \n",
       "228      16.64  "
      ]
     },
     "metadata": {},
     "output_type": "display_data"
    },
    {
     "data": {
      "application/vnd.plotly.v1+json": {
       "config": {
        "plotlyServerURL": "https://plot.ly"
       },
       "data": [
        {
         "alignmentgroup": "True",
         "boxpoints": "all",
         "customdata": [
          [
           "ForecasterRecursiveMultiSeries",
           "LGBMRegressor",
           "ForecasterRecursiveMultiSeries_fit_series_is_dict_exog_is_dict",
           "63b606a379874ae9f340ba4fe592d695",
           0.7575859013239524,
           "2025-04-22T21:21:23.862947",
           "3.12.9",
           "1.26.4",
           "2.2.3",
           "1.4.2",
           "4.6.0",
           "Linux-6.11.0-21-generic-x86_64-with-glibc2.39",
           "x86_64",
           8,
           16.64
          ],
          [
           "ForecasterRecursiveMultiSeries",
           "LGBMRegressor",
           "ForecasterRecursiveMultiSeries_fit_series_is_dict_exog_is_dict",
           "63b606a379874ae9f340ba4fe592d695",
           1.1553042251771855,
           "2025-04-22T21:28:08.104547",
           "3.12.9",
           "1.26.4",
           "2.2.3",
           "1.4.2",
           "4.6.0",
           "Linux-6.11.0-21-generic-x86_64-with-glibc2.39",
           "x86_64",
           8,
           16.64
          ]
         ],
         "fillcolor": "rgba(255,255,255,0)",
         "hoveron": "points",
         "hovertemplate": "skforecast_version=%{x}<br>run_time_avg=%{y}<br>forecaster_name=%{customdata[0]}<br>regressor_name=%{customdata[1]}<br>function_name=%{customdata[2]}<br>function_hash=%{customdata[3]}<br>run_time_std_dev=%{customdata[4]}<br>datetime=%{customdata[5]}<br>python_version=%{customdata[6]}<br>numpy_version=%{customdata[7]}<br>pandas_version=%{customdata[8]}<br>sklearn_version=%{customdata[9]}<br>lightgbm_version=%{customdata[10]}<br>platform=%{customdata[11]}<br>processor=%{customdata[12]}<br>cpu_count=%{customdata[13]}<br>memory_gb=%{customdata[14]}<extra></extra>",
         "jitter": true,
         "legendgroup": "0.14.0",
         "line": {
          "color": "rgba(255,255,255,0)"
         },
         "marker": {
          "color": "#636efa",
          "opacity": 0.7,
          "size": 10
         },
         "name": "0.14.0",
         "offsetgroup": "0.14.0",
         "orientation": "v",
         "pointpos": 0,
         "showlegend": true,
         "type": "box",
         "x": [
          "0.14.0",
          "0.14.0"
         ],
         "x0": " ",
         "xaxis": "x",
         "y": {
          "bdata": "Zq7mdc5JKkAAeEiBYjwpQA==",
          "dtype": "f8"
         },
         "y0": " ",
         "yaxis": "y"
        },
        {
         "alignmentgroup": "True",
         "boxpoints": "all",
         "customdata": [
          [
           "ForecasterRecursiveMultiSeries",
           "LGBMRegressor",
           "ForecasterRecursiveMultiSeries_fit_series_is_dict_exog_is_dict",
           "63b606a379874ae9f340ba4fe592d695",
           1.38728154384461,
           "2025-04-22T21:32:16.760560",
           "3.12.9",
           "1.26.4",
           "2.2.3",
           "1.4.2",
           "4.6.0",
           "Linux-6.11.0-21-generic-x86_64-with-glibc2.39",
           "x86_64",
           8,
           16.64
          ],
          [
           "ForecasterRecursiveMultiSeries",
           "LGBMRegressor",
           "ForecasterRecursiveMultiSeries_fit_series_is_dict_exog_is_dict",
           "63b606a379874ae9f340ba4fe592d695",
           1.6341586553886875,
           "2025-04-22T21:42:34.608069",
           "3.12.9",
           "2.2.5",
           "2.2.3",
           "1.6.1",
           "4.6.0",
           "Linux-6.11.0-21-generic-x86_64-with-glibc2.39",
           "x86_64",
           8,
           16.64
          ],
          [
           "ForecasterRecursiveMultiSeries",
           "LGBMRegressor",
           "ForecasterRecursiveMultiSeries_fit_series_is_dict_exog_is_dict",
           "63b606a379874ae9f340ba4fe592d695",
           1.077365445070151,
           "2025-04-22T22:41:42.671386",
           "3.12.9",
           "1.26.4",
           "2.2.3",
           "1.4.2",
           "4.6.0",
           "Linux-6.11.0-21-generic-x86_64-with-glibc2.39",
           "x86_64",
           8,
           16.64
          ]
         ],
         "fillcolor": "rgba(255,255,255,0)",
         "hoveron": "points",
         "hovertemplate": "skforecast_version=%{x}<br>run_time_avg=%{y}<br>forecaster_name=%{customdata[0]}<br>regressor_name=%{customdata[1]}<br>function_name=%{customdata[2]}<br>function_hash=%{customdata[3]}<br>run_time_std_dev=%{customdata[4]}<br>datetime=%{customdata[5]}<br>python_version=%{customdata[6]}<br>numpy_version=%{customdata[7]}<br>pandas_version=%{customdata[8]}<br>sklearn_version=%{customdata[9]}<br>lightgbm_version=%{customdata[10]}<br>platform=%{customdata[11]}<br>processor=%{customdata[12]}<br>cpu_count=%{customdata[13]}<br>memory_gb=%{customdata[14]}<extra></extra>",
         "jitter": true,
         "legendgroup": "0.15.0",
         "line": {
          "color": "rgba(255,255,255,0)"
         },
         "marker": {
          "color": "#EF553B",
          "opacity": 0.7,
          "size": 10
         },
         "name": "0.15.0",
         "offsetgroup": "0.15.0",
         "orientation": "v",
         "pointpos": 0,
         "showlegend": true,
         "type": "box",
         "x": [
          "0.15.0",
          "0.15.0",
          "0.15.0"
         ],
         "x0": " ",
         "xaxis": "x",
         "y": {
          "bdata": "ZnJwkQXuKUCaJUbPZAEzQJo2vrrXCTNA",
          "dtype": "f8"
         },
         "y0": " ",
         "yaxis": "y"
        },
        {
         "alignmentgroup": "True",
         "boxpoints": "all",
         "customdata": [
          [
           "ForecasterRecursiveMultiSeries",
           "LGBMRegressor",
           "ForecasterRecursiveMultiSeries_fit_series_is_dict_exog_is_dict",
           "63b606a379874ae9f340ba4fe592d695",
           1.042921166198489,
           "2025-04-22T21:52:19.178605",
           "3.12.9",
           "2.2.5",
           "2.2.3",
           "1.6.1",
           "4.6.0",
           "Linux-6.11.0-21-generic-x86_64-with-glibc2.39",
           "x86_64",
           8,
           16.64
          ],
          [
           "ForecasterRecursiveMultiSeries",
           "LGBMRegressor",
           "ForecasterRecursiveMultiSeries_fit_series_is_dict_exog_is_dict",
           "63b606a379874ae9f340ba4fe592d695",
           1.1903236870372396,
           "2025-04-22T22:07:07.919896",
           "3.12.9",
           "1.26.4",
           "2.2.3",
           "1.6.1",
           "4.6.0",
           "Linux-6.11.0-21-generic-x86_64-with-glibc2.39",
           "x86_64",
           8,
           16.64
          ],
          [
           "ForecasterRecursiveMultiSeries",
           "LGBMRegressor",
           "ForecasterRecursiveMultiSeries_fit_series_is_dict_exog_is_dict",
           "63b606a379874ae9f340ba4fe592d695",
           0.6435822421762477,
           "2025-04-22T22:50:05.388907",
           "3.12.9",
           "1.26.4",
           "2.2.3",
           "1.4.2",
           "4.6.0",
           "Linux-6.11.0-21-generic-x86_64-with-glibc2.39",
           "x86_64",
           8,
           16.64
          ],
          [
           "ForecasterRecursiveMultiSeries",
           "LGBMRegressor",
           "ForecasterRecursiveMultiSeries_fit_series_is_dict_exog_is_dict",
           "63b606a379874ae9f340ba4fe592d695",
           1.3966405843926168,
           "2025-04-23T09:53:36.637667",
           "3.12.9",
           "1.26.4",
           "2.2.3",
           "1.4.2",
           "4.6.0",
           "Linux-6.11.0-21-generic-x86_64-with-glibc2.39",
           "x86_64",
           8,
           16.64
          ],
          [
           "ForecasterRecursiveMultiSeries",
           "LGBMRegressor",
           "ForecasterRecursiveMultiSeries_fit_series_is_dict_exog_is_dict",
           "63b606a379874ae9f340ba4fe592d695",
           0.9696501864644318,
           "2025-04-23T09:58:42.497417",
           "3.12.9",
           "2.2.5",
           "2.2.3",
           "1.6.1",
           "4.6.0",
           "Linux-6.11.0-21-generic-x86_64-with-glibc2.39",
           "x86_64",
           8,
           16.64
          ],
          [
           "ForecasterRecursiveMultiSeries",
           "LGBMRegressor",
           "ForecasterRecursiveMultiSeries_fit_series_is_dict_exog_is_dict",
           "63b606a379874ae9f340ba4fe592d695",
           0.9334999409684012,
           "2025-04-23T10:21:42.372308",
           "3.12.9",
           "2.2.5",
           "2.2.3",
           "1.6.1",
           "4.6.0",
           "Linux-6.11.0-21-generic-x86_64-with-glibc2.39",
           "x86_64",
           8,
           16.64
          ],
          [
           "ForecasterRecursiveMultiSeries",
           "LGBMRegressor",
           "ForecasterRecursiveMultiSeries_fit_series_is_dict_exog_is_dict",
           "63b606a379874ae9f340ba4fe592d695",
           0.882376884659548,
           "2025-04-23T13:36:16.748916",
           "3.12.9",
           "2.2.5",
           "2.2.3",
           "1.6.1",
           "4.6.0",
           "Linux-6.11.0-21-generic-x86_64-with-glibc2.39",
           "x86_64",
           8,
           16.64
          ],
          [
           "ForecasterRecursiveMultiSeries",
           "LGBMRegressor",
           "ForecasterRecursiveMultiSeries_fit_series_is_dict_exog_is_dict",
           "63b606a379874ae9f340ba4fe592d695",
           0.5357376838088095,
           "2025-04-23T13:40:43.439504",
           "3.12.9",
           "2.2.5",
           "2.2.3",
           "1.6.1",
           "4.6.0",
           "Linux-6.11.0-21-generic-x86_64-with-glibc2.39",
           "x86_64",
           8,
           16.64
          ],
          [
           "ForecasterRecursiveMultiSeries",
           "LGBMRegressor",
           "ForecasterRecursiveMultiSeries_fit_series_is_dict_exog_is_dict",
           "63b606a379874ae9f340ba4fe592d695",
           1.9244130142243276,
           "2025-04-23T13:44:24.913359",
           "3.12.9",
           "2.2.5",
           "2.2.3",
           "1.6.1",
           "4.6.0",
           "Linux-6.11.0-21-generic-x86_64-with-glibc2.39",
           "x86_64",
           8,
           16.64
          ]
         ],
         "fillcolor": "rgba(255,255,255,0)",
         "hoveron": "points",
         "hovertemplate": "skforecast_version=%{x}<br>run_time_avg=%{y}<br>forecaster_name=%{customdata[0]}<br>regressor_name=%{customdata[1]}<br>function_name=%{customdata[2]}<br>function_hash=%{customdata[3]}<br>run_time_std_dev=%{customdata[4]}<br>datetime=%{customdata[5]}<br>python_version=%{customdata[6]}<br>numpy_version=%{customdata[7]}<br>pandas_version=%{customdata[8]}<br>sklearn_version=%{customdata[9]}<br>lightgbm_version=%{customdata[10]}<br>platform=%{customdata[11]}<br>processor=%{customdata[12]}<br>cpu_count=%{customdata[13]}<br>memory_gb=%{customdata[14]}<extra></extra>",
         "jitter": true,
         "legendgroup": "0.16.0",
         "line": {
          "color": "rgba(255,255,255,0)"
         },
         "marker": {
          "color": "#00cc96",
          "opacity": 0.7,
          "size": 10
         },
         "name": "0.16.0",
         "offsetgroup": "0.16.0",
         "orientation": "v",
         "pointpos": 0,
         "showlegend": true,
         "type": "box",
         "x": [
          "0.16.0",
          "0.16.0",
          "0.16.0",
          "0.16.0",
          "0.16.0",
          "0.16.0",
          "0.16.0",
          "0.16.0",
          "0.16.0"
         ],
         "x0": " ",
         "xaxis": "x",
         "y": {
          "bdata": "ZuOjTWYPNEAzNswAMl4zQJqd/rHl4zFAxTizKdTJMUA6CjepgF8zQM0LNqUgLjNAM+s4HxJ6J0BmRNQK9BwnQADmJpvHUStA",
          "dtype": "f8"
         },
         "y0": " ",
         "yaxis": "y"
        },
        {
         "line": {
          "color": "black",
          "width": 2
         },
         "marker": {
          "size": 8
         },
         "mode": "lines+markers",
         "name": "Median",
         "showlegend": true,
         "type": "scatter",
         "x": [
          "0.14.0",
          "0.15.0",
          "0.16.0"
         ],
         "y": {
          "bdata": "M5OXexjDKUCaJUbPZAEzQJqd/rHl4zFA",
          "dtype": "f8"
         }
        }
       ],
       "layout": {
        "boxmode": "overlay",
        "legend": {
         "title": {
          "text": "skforecast_version"
         },
         "tracegroupgap": 0
        },
        "margin": {
         "t": 60
        },
        "showlegend": true,
        "template": {
         "data": {
          "bar": [
           {
            "error_x": {
             "color": "#2a3f5f"
            },
            "error_y": {
             "color": "#2a3f5f"
            },
            "marker": {
             "line": {
              "color": "#E5ECF6",
              "width": 0.5
             },
             "pattern": {
              "fillmode": "overlay",
              "size": 10,
              "solidity": 0.2
             }
            },
            "type": "bar"
           }
          ],
          "barpolar": [
           {
            "marker": {
             "line": {
              "color": "#E5ECF6",
              "width": 0.5
             },
             "pattern": {
              "fillmode": "overlay",
              "size": 10,
              "solidity": 0.2
             }
            },
            "type": "barpolar"
           }
          ],
          "carpet": [
           {
            "aaxis": {
             "endlinecolor": "#2a3f5f",
             "gridcolor": "white",
             "linecolor": "white",
             "minorgridcolor": "white",
             "startlinecolor": "#2a3f5f"
            },
            "baxis": {
             "endlinecolor": "#2a3f5f",
             "gridcolor": "white",
             "linecolor": "white",
             "minorgridcolor": "white",
             "startlinecolor": "#2a3f5f"
            },
            "type": "carpet"
           }
          ],
          "choropleth": [
           {
            "colorbar": {
             "outlinewidth": 0,
             "ticks": ""
            },
            "type": "choropleth"
           }
          ],
          "contour": [
           {
            "colorbar": {
             "outlinewidth": 0,
             "ticks": ""
            },
            "colorscale": [
             [
              0,
              "#0d0887"
             ],
             [
              0.1111111111111111,
              "#46039f"
             ],
             [
              0.2222222222222222,
              "#7201a8"
             ],
             [
              0.3333333333333333,
              "#9c179e"
             ],
             [
              0.4444444444444444,
              "#bd3786"
             ],
             [
              0.5555555555555556,
              "#d8576b"
             ],
             [
              0.6666666666666666,
              "#ed7953"
             ],
             [
              0.7777777777777778,
              "#fb9f3a"
             ],
             [
              0.8888888888888888,
              "#fdca26"
             ],
             [
              1,
              "#f0f921"
             ]
            ],
            "type": "contour"
           }
          ],
          "contourcarpet": [
           {
            "colorbar": {
             "outlinewidth": 0,
             "ticks": ""
            },
            "type": "contourcarpet"
           }
          ],
          "heatmap": [
           {
            "colorbar": {
             "outlinewidth": 0,
             "ticks": ""
            },
            "colorscale": [
             [
              0,
              "#0d0887"
             ],
             [
              0.1111111111111111,
              "#46039f"
             ],
             [
              0.2222222222222222,
              "#7201a8"
             ],
             [
              0.3333333333333333,
              "#9c179e"
             ],
             [
              0.4444444444444444,
              "#bd3786"
             ],
             [
              0.5555555555555556,
              "#d8576b"
             ],
             [
              0.6666666666666666,
              "#ed7953"
             ],
             [
              0.7777777777777778,
              "#fb9f3a"
             ],
             [
              0.8888888888888888,
              "#fdca26"
             ],
             [
              1,
              "#f0f921"
             ]
            ],
            "type": "heatmap"
           }
          ],
          "histogram": [
           {
            "marker": {
             "pattern": {
              "fillmode": "overlay",
              "size": 10,
              "solidity": 0.2
             }
            },
            "type": "histogram"
           }
          ],
          "histogram2d": [
           {
            "colorbar": {
             "outlinewidth": 0,
             "ticks": ""
            },
            "colorscale": [
             [
              0,
              "#0d0887"
             ],
             [
              0.1111111111111111,
              "#46039f"
             ],
             [
              0.2222222222222222,
              "#7201a8"
             ],
             [
              0.3333333333333333,
              "#9c179e"
             ],
             [
              0.4444444444444444,
              "#bd3786"
             ],
             [
              0.5555555555555556,
              "#d8576b"
             ],
             [
              0.6666666666666666,
              "#ed7953"
             ],
             [
              0.7777777777777778,
              "#fb9f3a"
             ],
             [
              0.8888888888888888,
              "#fdca26"
             ],
             [
              1,
              "#f0f921"
             ]
            ],
            "type": "histogram2d"
           }
          ],
          "histogram2dcontour": [
           {
            "colorbar": {
             "outlinewidth": 0,
             "ticks": ""
            },
            "colorscale": [
             [
              0,
              "#0d0887"
             ],
             [
              0.1111111111111111,
              "#46039f"
             ],
             [
              0.2222222222222222,
              "#7201a8"
             ],
             [
              0.3333333333333333,
              "#9c179e"
             ],
             [
              0.4444444444444444,
              "#bd3786"
             ],
             [
              0.5555555555555556,
              "#d8576b"
             ],
             [
              0.6666666666666666,
              "#ed7953"
             ],
             [
              0.7777777777777778,
              "#fb9f3a"
             ],
             [
              0.8888888888888888,
              "#fdca26"
             ],
             [
              1,
              "#f0f921"
             ]
            ],
            "type": "histogram2dcontour"
           }
          ],
          "mesh3d": [
           {
            "colorbar": {
             "outlinewidth": 0,
             "ticks": ""
            },
            "type": "mesh3d"
           }
          ],
          "parcoords": [
           {
            "line": {
             "colorbar": {
              "outlinewidth": 0,
              "ticks": ""
             }
            },
            "type": "parcoords"
           }
          ],
          "pie": [
           {
            "automargin": true,
            "type": "pie"
           }
          ],
          "scatter": [
           {
            "fillpattern": {
             "fillmode": "overlay",
             "size": 10,
             "solidity": 0.2
            },
            "type": "scatter"
           }
          ],
          "scatter3d": [
           {
            "line": {
             "colorbar": {
              "outlinewidth": 0,
              "ticks": ""
             }
            },
            "marker": {
             "colorbar": {
              "outlinewidth": 0,
              "ticks": ""
             }
            },
            "type": "scatter3d"
           }
          ],
          "scattercarpet": [
           {
            "marker": {
             "colorbar": {
              "outlinewidth": 0,
              "ticks": ""
             }
            },
            "type": "scattercarpet"
           }
          ],
          "scattergeo": [
           {
            "marker": {
             "colorbar": {
              "outlinewidth": 0,
              "ticks": ""
             }
            },
            "type": "scattergeo"
           }
          ],
          "scattergl": [
           {
            "marker": {
             "colorbar": {
              "outlinewidth": 0,
              "ticks": ""
             }
            },
            "type": "scattergl"
           }
          ],
          "scattermap": [
           {
            "marker": {
             "colorbar": {
              "outlinewidth": 0,
              "ticks": ""
             }
            },
            "type": "scattermap"
           }
          ],
          "scattermapbox": [
           {
            "marker": {
             "colorbar": {
              "outlinewidth": 0,
              "ticks": ""
             }
            },
            "type": "scattermapbox"
           }
          ],
          "scatterpolar": [
           {
            "marker": {
             "colorbar": {
              "outlinewidth": 0,
              "ticks": ""
             }
            },
            "type": "scatterpolar"
           }
          ],
          "scatterpolargl": [
           {
            "marker": {
             "colorbar": {
              "outlinewidth": 0,
              "ticks": ""
             }
            },
            "type": "scatterpolargl"
           }
          ],
          "scatterternary": [
           {
            "marker": {
             "colorbar": {
              "outlinewidth": 0,
              "ticks": ""
             }
            },
            "type": "scatterternary"
           }
          ],
          "surface": [
           {
            "colorbar": {
             "outlinewidth": 0,
             "ticks": ""
            },
            "colorscale": [
             [
              0,
              "#0d0887"
             ],
             [
              0.1111111111111111,
              "#46039f"
             ],
             [
              0.2222222222222222,
              "#7201a8"
             ],
             [
              0.3333333333333333,
              "#9c179e"
             ],
             [
              0.4444444444444444,
              "#bd3786"
             ],
             [
              0.5555555555555556,
              "#d8576b"
             ],
             [
              0.6666666666666666,
              "#ed7953"
             ],
             [
              0.7777777777777778,
              "#fb9f3a"
             ],
             [
              0.8888888888888888,
              "#fdca26"
             ],
             [
              1,
              "#f0f921"
             ]
            ],
            "type": "surface"
           }
          ],
          "table": [
           {
            "cells": {
             "fill": {
              "color": "#EBF0F8"
             },
             "line": {
              "color": "white"
             }
            },
            "header": {
             "fill": {
              "color": "#C8D4E3"
             },
             "line": {
              "color": "white"
             }
            },
            "type": "table"
           }
          ]
         },
         "layout": {
          "annotationdefaults": {
           "arrowcolor": "#2a3f5f",
           "arrowhead": 0,
           "arrowwidth": 1
          },
          "autotypenumbers": "strict",
          "coloraxis": {
           "colorbar": {
            "outlinewidth": 0,
            "ticks": ""
           }
          },
          "colorscale": {
           "diverging": [
            [
             0,
             "#8e0152"
            ],
            [
             0.1,
             "#c51b7d"
            ],
            [
             0.2,
             "#de77ae"
            ],
            [
             0.3,
             "#f1b6da"
            ],
            [
             0.4,
             "#fde0ef"
            ],
            [
             0.5,
             "#f7f7f7"
            ],
            [
             0.6,
             "#e6f5d0"
            ],
            [
             0.7,
             "#b8e186"
            ],
            [
             0.8,
             "#7fbc41"
            ],
            [
             0.9,
             "#4d9221"
            ],
            [
             1,
             "#276419"
            ]
           ],
           "sequential": [
            [
             0,
             "#0d0887"
            ],
            [
             0.1111111111111111,
             "#46039f"
            ],
            [
             0.2222222222222222,
             "#7201a8"
            ],
            [
             0.3333333333333333,
             "#9c179e"
            ],
            [
             0.4444444444444444,
             "#bd3786"
            ],
            [
             0.5555555555555556,
             "#d8576b"
            ],
            [
             0.6666666666666666,
             "#ed7953"
            ],
            [
             0.7777777777777778,
             "#fb9f3a"
            ],
            [
             0.8888888888888888,
             "#fdca26"
            ],
            [
             1,
             "#f0f921"
            ]
           ],
           "sequentialminus": [
            [
             0,
             "#0d0887"
            ],
            [
             0.1111111111111111,
             "#46039f"
            ],
            [
             0.2222222222222222,
             "#7201a8"
            ],
            [
             0.3333333333333333,
             "#9c179e"
            ],
            [
             0.4444444444444444,
             "#bd3786"
            ],
            [
             0.5555555555555556,
             "#d8576b"
            ],
            [
             0.6666666666666666,
             "#ed7953"
            ],
            [
             0.7777777777777778,
             "#fb9f3a"
            ],
            [
             0.8888888888888888,
             "#fdca26"
            ],
            [
             1,
             "#f0f921"
            ]
           ]
          },
          "colorway": [
           "#636efa",
           "#EF553B",
           "#00cc96",
           "#ab63fa",
           "#FFA15A",
           "#19d3f3",
           "#FF6692",
           "#B6E880",
           "#FF97FF",
           "#FECB52"
          ],
          "font": {
           "color": "#2a3f5f"
          },
          "geo": {
           "bgcolor": "white",
           "lakecolor": "white",
           "landcolor": "#E5ECF6",
           "showlakes": true,
           "showland": true,
           "subunitcolor": "white"
          },
          "hoverlabel": {
           "align": "left"
          },
          "hovermode": "closest",
          "mapbox": {
           "style": "light"
          },
          "paper_bgcolor": "white",
          "plot_bgcolor": "#E5ECF6",
          "polar": {
           "angularaxis": {
            "gridcolor": "white",
            "linecolor": "white",
            "ticks": ""
           },
           "bgcolor": "#E5ECF6",
           "radialaxis": {
            "gridcolor": "white",
            "linecolor": "white",
            "ticks": ""
           }
          },
          "scene": {
           "xaxis": {
            "backgroundcolor": "#E5ECF6",
            "gridcolor": "white",
            "gridwidth": 2,
            "linecolor": "white",
            "showbackground": true,
            "ticks": "",
            "zerolinecolor": "white"
           },
           "yaxis": {
            "backgroundcolor": "#E5ECF6",
            "gridcolor": "white",
            "gridwidth": 2,
            "linecolor": "white",
            "showbackground": true,
            "ticks": "",
            "zerolinecolor": "white"
           },
           "zaxis": {
            "backgroundcolor": "#E5ECF6",
            "gridcolor": "white",
            "gridwidth": 2,
            "linecolor": "white",
            "showbackground": true,
            "ticks": "",
            "zerolinecolor": "white"
           }
          },
          "shapedefaults": {
           "line": {
            "color": "#2a3f5f"
           }
          },
          "ternary": {
           "aaxis": {
            "gridcolor": "white",
            "linecolor": "white",
            "ticks": ""
           },
           "baxis": {
            "gridcolor": "white",
            "linecolor": "white",
            "ticks": ""
           },
           "bgcolor": "#E5ECF6",
           "caxis": {
            "gridcolor": "white",
            "linecolor": "white",
            "ticks": ""
           }
          },
          "title": {
           "x": 0.05
          },
          "xaxis": {
           "automargin": true,
           "gridcolor": "white",
           "linecolor": "white",
           "ticks": "",
           "title": {
            "standoff": 15
           },
           "zerolinecolor": "white",
           "zerolinewidth": 2
          },
          "yaxis": {
           "automargin": true,
           "gridcolor": "white",
           "linecolor": "white",
           "ticks": "",
           "title": {
            "standoff": 15
           },
           "zerolinecolor": "white",
           "zerolinewidth": 2
          }
         }
        },
        "title": {
         "text": "Execution time of ForecasterRecursiveMultiSeries_fit_series_is_dict_exog_is_dict"
        },
        "xaxis": {
         "anchor": "y",
         "categoryarray": [
          "0.14.0",
          "0.15.0",
          "0.16.0"
         ],
         "categoryorder": "array",
         "domain": [
          0,
          1
         ],
         "title": {
          "text": "skforecast version"
         }
        },
        "yaxis": {
         "anchor": "x",
         "domain": [
          0,
          1
         ],
         "title": {
          "text": "Execution time (seconds)"
         }
        }
       }
      }
     },
     "metadata": {},
     "output_type": "display_data"
    },
    {
     "data": {
      "application/vnd.microsoft.datawrangler.viewer.v0+json": {
       "columns": [
        {
         "name": "index",
         "rawType": "int64",
         "type": "integer"
        },
        {
         "name": "forecaster_name",
         "rawType": "object",
         "type": "string"
        },
        {
         "name": "regressor_name",
         "rawType": "object",
         "type": "string"
        },
        {
         "name": "function_name",
         "rawType": "object",
         "type": "string"
        },
        {
         "name": "function_hash",
         "rawType": "object",
         "type": "string"
        },
        {
         "name": "run_time_avg",
         "rawType": "float64",
         "type": "float"
        },
        {
         "name": "run_time_std_dev",
         "rawType": "float64",
         "type": "float"
        },
        {
         "name": "datetime",
         "rawType": "datetime64[ns]",
         "type": "datetime"
        },
        {
         "name": "python_version",
         "rawType": "object",
         "type": "string"
        },
        {
         "name": "skforecast_version",
         "rawType": "object",
         "type": "string"
        },
        {
         "name": "numpy_version",
         "rawType": "object",
         "type": "string"
        },
        {
         "name": "pandas_version",
         "rawType": "object",
         "type": "string"
        },
        {
         "name": "sklearn_version",
         "rawType": "object",
         "type": "string"
        },
        {
         "name": "lightgbm_version",
         "rawType": "object",
         "type": "string"
        },
        {
         "name": "platform",
         "rawType": "object",
         "type": "string"
        },
        {
         "name": "processor",
         "rawType": "object",
         "type": "string"
        },
        {
         "name": "cpu_count",
         "rawType": "int64",
         "type": "integer"
        },
        {
         "name": "memory_gb",
         "rawType": "float64",
         "type": "float"
        }
       ],
       "conversionMethod": "pd.DataFrame",
       "ref": "200a0937-d764-40e8-9fef-cc14b5b6e135",
       "rows": [
        [
         "17",
         "ForecasterRecursiveMultiSeries",
         "LGBMRegressor",
         "ForecasterRecursiveMultiSeries__create_train_X_y_series_is_dict_exog_is_dict",
         "583e7d25f58c2314c85ab6c385d879cc",
         "2.0875672515999213",
         "0.3164489366624266",
         "2025-04-22 21:22:29.597457",
         "3.12.9",
         "0.14.0",
         "1.26.4",
         "2.2.3",
         "1.4.2",
         "4.6.0",
         "Linux-6.11.0-21-generic-x86_64-with-glibc2.39",
         "x86_64",
         "8",
         "16.64"
        ],
        [
         "37",
         "ForecasterRecursiveMultiSeries",
         "LGBMRegressor",
         "ForecasterRecursiveMultiSeries__create_train_X_y_series_is_dict_exog_is_dict",
         "583e7d25f58c2314c85ab6c385d879cc",
         "2.220367800799977",
         "0.18878623302124614",
         "2025-04-22 21:29:11.209381",
         "3.12.9",
         "0.14.0",
         "1.26.4",
         "2.2.3",
         "1.4.2",
         "4.6.0",
         "Linux-6.11.0-21-generic-x86_64-with-glibc2.39",
         "x86_64",
         "8",
         "16.64"
        ],
        [
         "49",
         "ForecasterRecursiveMultiSeries",
         "LGBMRegressor",
         "ForecasterRecursiveMultiSeries__create_train_X_y_series_is_dict_exog_is_dict",
         "583e7d25f58c2314c85ab6c385d879cc",
         "1.9528793529999349",
         "0.24718366329014166",
         "2025-04-22 21:33:21.603198",
         "3.12.9",
         "0.15.0",
         "1.26.4",
         "2.2.3",
         "1.4.2",
         "4.6.0",
         "Linux-6.11.0-21-generic-x86_64-with-glibc2.39",
         "x86_64",
         "8",
         "16.64"
        ],
        [
         "61",
         "ForecasterRecursiveMultiSeries",
         "LGBMRegressor",
         "ForecasterRecursiveMultiSeries__create_train_X_y_series_is_dict_exog_is_dict",
         "583e7d25f58c2314c85ab6c385d879cc",
         "2.1244503777998034",
         "0.10533603063395157",
         "2025-04-22 21:44:09.659069",
         "3.12.9",
         "0.15.0",
         "2.2.5",
         "2.2.3",
         "1.6.1",
         "4.6.0",
         "Linux-6.11.0-21-generic-x86_64-with-glibc2.39",
         "x86_64",
         "8",
         "16.64"
        ],
        [
         "73",
         "ForecasterRecursiveMultiSeries",
         "LGBMRegressor",
         "ForecasterRecursiveMultiSeries__create_train_X_y_series_is_dict_exog_is_dict",
         "583e7d25f58c2314c85ab6c385d879cc",
         "2.5377073264000503",
         "0.1533415036196596",
         "2025-04-22 21:53:59.503318",
         "3.12.9",
         "0.16.0",
         "2.2.5",
         "2.2.3",
         "1.6.1",
         "4.6.0",
         "Linux-6.11.0-21-generic-x86_64-with-glibc2.39",
         "x86_64",
         "8",
         "16.64"
        ],
        [
         "85",
         "ForecasterRecursiveMultiSeries",
         "LGBMRegressor",
         "ForecasterRecursiveMultiSeries__create_train_X_y_series_is_dict_exog_is_dict",
         "583e7d25f58c2314c85ab6c385d879cc",
         "2.3753451969998425",
         "0.5224896855466125",
         "2025-04-22 22:08:44.787750",
         "3.12.9",
         "0.16.0",
         "1.26.4",
         "2.2.3",
         "1.6.1",
         "4.6.0",
         "Linux-6.11.0-21-generic-x86_64-with-glibc2.39",
         "x86_64",
         "8",
         "16.64"
        ],
        [
         "121",
         "ForecasterRecursiveMultiSeries",
         "LGBMRegressor",
         "ForecasterRecursiveMultiSeries__create_train_X_y_series_is_dict_exog_is_dict",
         "583e7d25f58c2314c85ab6c385d879cc",
         "2.412997703399742",
         "0.0969772224200977",
         "2025-04-22 22:43:17.886174",
         "3.12.9",
         "0.15.0",
         "1.26.4",
         "2.2.3",
         "1.4.2",
         "4.6.0",
         "Linux-6.11.0-21-generic-x86_64-with-glibc2.39",
         "x86_64",
         "8",
         "16.64"
        ],
        [
         "133",
         "ForecasterRecursiveMultiSeries",
         "LGBMRegressor",
         "ForecasterRecursiveMultiSeries__create_train_X_y_series_is_dict_exog_is_dict",
         "583e7d25f58c2314c85ab6c385d879cc",
         "1.87404172020033",
         "0.07561371410171208",
         "2025-04-22 22:51:34.861877",
         "3.12.9",
         "0.16.0",
         "1.26.4",
         "2.2.3",
         "1.4.2",
         "4.6.0",
         "Linux-6.11.0-21-generic-x86_64-with-glibc2.39",
         "x86_64",
         "8",
         "16.64"
        ],
        [
         "169",
         "ForecasterRecursiveMultiSeries",
         "LGBMRegressor",
         "ForecasterRecursiveMultiSeries__create_train_X_y_series_is_dict_exog_is_dict",
         "583e7d25f58c2314c85ab6c385d879cc",
         "2.157353119200013",
         "0.1785549551448168",
         "2025-04-23 09:55:05.606436",
         "3.12.9",
         "0.16.0",
         "1.26.4",
         "2.2.3",
         "1.4.2",
         "4.6.0",
         "Linux-6.11.0-21-generic-x86_64-with-glibc2.39",
         "x86_64",
         "8",
         "16.64"
        ],
        [
         "181",
         "ForecasterRecursiveMultiSeries",
         "LGBMRegressor",
         "ForecasterRecursiveMultiSeries__create_train_X_y_series_is_dict_exog_is_dict",
         "583e7d25f58c2314c85ab6c385d879cc",
         "2.1353481080000165",
         "0.25593420103340153",
         "2025-04-23 10:00:19.393957",
         "3.12.9",
         "0.16.0",
         "2.2.5",
         "2.2.3",
         "1.6.1",
         "4.6.0",
         "Linux-6.11.0-21-generic-x86_64-with-glibc2.39",
         "x86_64",
         "8",
         "16.64"
        ],
        [
         "193",
         "ForecasterRecursiveMultiSeries",
         "LGBMRegressor",
         "ForecasterRecursiveMultiSeries__create_train_X_y_series_is_dict_exog_is_dict",
         "583e7d25f58c2314c85ab6c385d879cc",
         "2.5796120359999803",
         "0.15876981485593666",
         "2025-04-23 10:23:18.298192",
         "3.12.9",
         "0.16.0",
         "2.2.5",
         "2.2.3",
         "1.6.1",
         "4.6.0",
         "Linux-6.11.0-21-generic-x86_64-with-glibc2.39",
         "x86_64",
         "8",
         "16.64"
        ],
        [
         "205",
         "ForecasterRecursiveMultiSeries",
         "LGBMRegressor",
         "ForecasterRecursiveMultiSeries__create_train_X_y_series_is_dict_exog_is_dict",
         "583e7d25f58c2314c85ab6c385d879cc",
         "1.7937365058001888",
         "0.10448754555555738",
         "2025-04-23 13:37:15.457424",
         "3.12.9",
         "0.16.0",
         "2.2.5",
         "2.2.3",
         "1.6.1",
         "4.6.0",
         "Linux-6.11.0-21-generic-x86_64-with-glibc2.39",
         "x86_64",
         "8",
         "16.64"
        ],
        [
         "217",
         "ForecasterRecursiveMultiSeries",
         "LGBMRegressor",
         "ForecasterRecursiveMultiSeries__create_train_X_y_series_is_dict_exog_is_dict",
         "583e7d25f58c2314c85ab6c385d879cc",
         "1.710380786999849",
         "0.15285699627530308",
         "2025-04-23 13:41:41.242969",
         "3.12.9",
         "0.16.0",
         "2.2.5",
         "2.2.3",
         "1.6.1",
         "4.6.0",
         "Linux-6.11.0-21-generic-x86_64-with-glibc2.39",
         "x86_64",
         "8",
         "16.64"
        ],
        [
         "229",
         "ForecasterRecursiveMultiSeries",
         "LGBMRegressor",
         "ForecasterRecursiveMultiSeries__create_train_X_y_series_is_dict_exog_is_dict",
         "583e7d25f58c2314c85ab6c385d879cc",
         "1.7313103794002018",
         "0.07448800858952265",
         "2025-04-23 13:45:33.217057",
         "3.12.9",
         "0.16.0",
         "2.2.5",
         "2.2.3",
         "1.6.1",
         "4.6.0",
         "Linux-6.11.0-21-generic-x86_64-with-glibc2.39",
         "x86_64",
         "8",
         "16.64"
        ]
       ],
       "shape": {
        "columns": 17,
        "rows": 14
       }
      },
      "text/html": [
       "<div>\n",
       "<style scoped>\n",
       "    .dataframe tbody tr th:only-of-type {\n",
       "        vertical-align: middle;\n",
       "    }\n",
       "\n",
       "    .dataframe tbody tr th {\n",
       "        vertical-align: top;\n",
       "    }\n",
       "\n",
       "    .dataframe thead th {\n",
       "        text-align: right;\n",
       "    }\n",
       "</style>\n",
       "<table border=\"1\" class=\"dataframe\">\n",
       "  <thead>\n",
       "    <tr style=\"text-align: right;\">\n",
       "      <th></th>\n",
       "      <th>forecaster_name</th>\n",
       "      <th>regressor_name</th>\n",
       "      <th>function_name</th>\n",
       "      <th>function_hash</th>\n",
       "      <th>run_time_avg</th>\n",
       "      <th>run_time_std_dev</th>\n",
       "      <th>datetime</th>\n",
       "      <th>python_version</th>\n",
       "      <th>skforecast_version</th>\n",
       "      <th>numpy_version</th>\n",
       "      <th>pandas_version</th>\n",
       "      <th>sklearn_version</th>\n",
       "      <th>lightgbm_version</th>\n",
       "      <th>platform</th>\n",
       "      <th>processor</th>\n",
       "      <th>cpu_count</th>\n",
       "      <th>memory_gb</th>\n",
       "    </tr>\n",
       "  </thead>\n",
       "  <tbody>\n",
       "    <tr>\n",
       "      <th>17</th>\n",
       "      <td>ForecasterRecursiveMultiSeries</td>\n",
       "      <td>LGBMRegressor</td>\n",
       "      <td>ForecasterRecursiveMultiSeries__create_train_X...</td>\n",
       "      <td>583e7d25f58c2314c85ab6c385d879cc</td>\n",
       "      <td>2.087567</td>\n",
       "      <td>0.316449</td>\n",
       "      <td>2025-04-22 21:22:29.597457</td>\n",
       "      <td>3.12.9</td>\n",
       "      <td>0.14.0</td>\n",
       "      <td>1.26.4</td>\n",
       "      <td>2.2.3</td>\n",
       "      <td>1.4.2</td>\n",
       "      <td>4.6.0</td>\n",
       "      <td>Linux-6.11.0-21-generic-x86_64-with-glibc2.39</td>\n",
       "      <td>x86_64</td>\n",
       "      <td>8</td>\n",
       "      <td>16.64</td>\n",
       "    </tr>\n",
       "    <tr>\n",
       "      <th>37</th>\n",
       "      <td>ForecasterRecursiveMultiSeries</td>\n",
       "      <td>LGBMRegressor</td>\n",
       "      <td>ForecasterRecursiveMultiSeries__create_train_X...</td>\n",
       "      <td>583e7d25f58c2314c85ab6c385d879cc</td>\n",
       "      <td>2.220368</td>\n",
       "      <td>0.188786</td>\n",
       "      <td>2025-04-22 21:29:11.209381</td>\n",
       "      <td>3.12.9</td>\n",
       "      <td>0.14.0</td>\n",
       "      <td>1.26.4</td>\n",
       "      <td>2.2.3</td>\n",
       "      <td>1.4.2</td>\n",
       "      <td>4.6.0</td>\n",
       "      <td>Linux-6.11.0-21-generic-x86_64-with-glibc2.39</td>\n",
       "      <td>x86_64</td>\n",
       "      <td>8</td>\n",
       "      <td>16.64</td>\n",
       "    </tr>\n",
       "    <tr>\n",
       "      <th>49</th>\n",
       "      <td>ForecasterRecursiveMultiSeries</td>\n",
       "      <td>LGBMRegressor</td>\n",
       "      <td>ForecasterRecursiveMultiSeries__create_train_X...</td>\n",
       "      <td>583e7d25f58c2314c85ab6c385d879cc</td>\n",
       "      <td>1.952879</td>\n",
       "      <td>0.247184</td>\n",
       "      <td>2025-04-22 21:33:21.603198</td>\n",
       "      <td>3.12.9</td>\n",
       "      <td>0.15.0</td>\n",
       "      <td>1.26.4</td>\n",
       "      <td>2.2.3</td>\n",
       "      <td>1.4.2</td>\n",
       "      <td>4.6.0</td>\n",
       "      <td>Linux-6.11.0-21-generic-x86_64-with-glibc2.39</td>\n",
       "      <td>x86_64</td>\n",
       "      <td>8</td>\n",
       "      <td>16.64</td>\n",
       "    </tr>\n",
       "    <tr>\n",
       "      <th>61</th>\n",
       "      <td>ForecasterRecursiveMultiSeries</td>\n",
       "      <td>LGBMRegressor</td>\n",
       "      <td>ForecasterRecursiveMultiSeries__create_train_X...</td>\n",
       "      <td>583e7d25f58c2314c85ab6c385d879cc</td>\n",
       "      <td>2.124450</td>\n",
       "      <td>0.105336</td>\n",
       "      <td>2025-04-22 21:44:09.659069</td>\n",
       "      <td>3.12.9</td>\n",
       "      <td>0.15.0</td>\n",
       "      <td>2.2.5</td>\n",
       "      <td>2.2.3</td>\n",
       "      <td>1.6.1</td>\n",
       "      <td>4.6.0</td>\n",
       "      <td>Linux-6.11.0-21-generic-x86_64-with-glibc2.39</td>\n",
       "      <td>x86_64</td>\n",
       "      <td>8</td>\n",
       "      <td>16.64</td>\n",
       "    </tr>\n",
       "    <tr>\n",
       "      <th>73</th>\n",
       "      <td>ForecasterRecursiveMultiSeries</td>\n",
       "      <td>LGBMRegressor</td>\n",
       "      <td>ForecasterRecursiveMultiSeries__create_train_X...</td>\n",
       "      <td>583e7d25f58c2314c85ab6c385d879cc</td>\n",
       "      <td>2.537707</td>\n",
       "      <td>0.153342</td>\n",
       "      <td>2025-04-22 21:53:59.503318</td>\n",
       "      <td>3.12.9</td>\n",
       "      <td>0.16.0</td>\n",
       "      <td>2.2.5</td>\n",
       "      <td>2.2.3</td>\n",
       "      <td>1.6.1</td>\n",
       "      <td>4.6.0</td>\n",
       "      <td>Linux-6.11.0-21-generic-x86_64-with-glibc2.39</td>\n",
       "      <td>x86_64</td>\n",
       "      <td>8</td>\n",
       "      <td>16.64</td>\n",
       "    </tr>\n",
       "    <tr>\n",
       "      <th>85</th>\n",
       "      <td>ForecasterRecursiveMultiSeries</td>\n",
       "      <td>LGBMRegressor</td>\n",
       "      <td>ForecasterRecursiveMultiSeries__create_train_X...</td>\n",
       "      <td>583e7d25f58c2314c85ab6c385d879cc</td>\n",
       "      <td>2.375345</td>\n",
       "      <td>0.522490</td>\n",
       "      <td>2025-04-22 22:08:44.787750</td>\n",
       "      <td>3.12.9</td>\n",
       "      <td>0.16.0</td>\n",
       "      <td>1.26.4</td>\n",
       "      <td>2.2.3</td>\n",
       "      <td>1.6.1</td>\n",
       "      <td>4.6.0</td>\n",
       "      <td>Linux-6.11.0-21-generic-x86_64-with-glibc2.39</td>\n",
       "      <td>x86_64</td>\n",
       "      <td>8</td>\n",
       "      <td>16.64</td>\n",
       "    </tr>\n",
       "    <tr>\n",
       "      <th>121</th>\n",
       "      <td>ForecasterRecursiveMultiSeries</td>\n",
       "      <td>LGBMRegressor</td>\n",
       "      <td>ForecasterRecursiveMultiSeries__create_train_X...</td>\n",
       "      <td>583e7d25f58c2314c85ab6c385d879cc</td>\n",
       "      <td>2.412998</td>\n",
       "      <td>0.096977</td>\n",
       "      <td>2025-04-22 22:43:17.886174</td>\n",
       "      <td>3.12.9</td>\n",
       "      <td>0.15.0</td>\n",
       "      <td>1.26.4</td>\n",
       "      <td>2.2.3</td>\n",
       "      <td>1.4.2</td>\n",
       "      <td>4.6.0</td>\n",
       "      <td>Linux-6.11.0-21-generic-x86_64-with-glibc2.39</td>\n",
       "      <td>x86_64</td>\n",
       "      <td>8</td>\n",
       "      <td>16.64</td>\n",
       "    </tr>\n",
       "    <tr>\n",
       "      <th>133</th>\n",
       "      <td>ForecasterRecursiveMultiSeries</td>\n",
       "      <td>LGBMRegressor</td>\n",
       "      <td>ForecasterRecursiveMultiSeries__create_train_X...</td>\n",
       "      <td>583e7d25f58c2314c85ab6c385d879cc</td>\n",
       "      <td>1.874042</td>\n",
       "      <td>0.075614</td>\n",
       "      <td>2025-04-22 22:51:34.861877</td>\n",
       "      <td>3.12.9</td>\n",
       "      <td>0.16.0</td>\n",
       "      <td>1.26.4</td>\n",
       "      <td>2.2.3</td>\n",
       "      <td>1.4.2</td>\n",
       "      <td>4.6.0</td>\n",
       "      <td>Linux-6.11.0-21-generic-x86_64-with-glibc2.39</td>\n",
       "      <td>x86_64</td>\n",
       "      <td>8</td>\n",
       "      <td>16.64</td>\n",
       "    </tr>\n",
       "    <tr>\n",
       "      <th>169</th>\n",
       "      <td>ForecasterRecursiveMultiSeries</td>\n",
       "      <td>LGBMRegressor</td>\n",
       "      <td>ForecasterRecursiveMultiSeries__create_train_X...</td>\n",
       "      <td>583e7d25f58c2314c85ab6c385d879cc</td>\n",
       "      <td>2.157353</td>\n",
       "      <td>0.178555</td>\n",
       "      <td>2025-04-23 09:55:05.606436</td>\n",
       "      <td>3.12.9</td>\n",
       "      <td>0.16.0</td>\n",
       "      <td>1.26.4</td>\n",
       "      <td>2.2.3</td>\n",
       "      <td>1.4.2</td>\n",
       "      <td>4.6.0</td>\n",
       "      <td>Linux-6.11.0-21-generic-x86_64-with-glibc2.39</td>\n",
       "      <td>x86_64</td>\n",
       "      <td>8</td>\n",
       "      <td>16.64</td>\n",
       "    </tr>\n",
       "    <tr>\n",
       "      <th>181</th>\n",
       "      <td>ForecasterRecursiveMultiSeries</td>\n",
       "      <td>LGBMRegressor</td>\n",
       "      <td>ForecasterRecursiveMultiSeries__create_train_X...</td>\n",
       "      <td>583e7d25f58c2314c85ab6c385d879cc</td>\n",
       "      <td>2.135348</td>\n",
       "      <td>0.255934</td>\n",
       "      <td>2025-04-23 10:00:19.393957</td>\n",
       "      <td>3.12.9</td>\n",
       "      <td>0.16.0</td>\n",
       "      <td>2.2.5</td>\n",
       "      <td>2.2.3</td>\n",
       "      <td>1.6.1</td>\n",
       "      <td>4.6.0</td>\n",
       "      <td>Linux-6.11.0-21-generic-x86_64-with-glibc2.39</td>\n",
       "      <td>x86_64</td>\n",
       "      <td>8</td>\n",
       "      <td>16.64</td>\n",
       "    </tr>\n",
       "    <tr>\n",
       "      <th>193</th>\n",
       "      <td>ForecasterRecursiveMultiSeries</td>\n",
       "      <td>LGBMRegressor</td>\n",
       "      <td>ForecasterRecursiveMultiSeries__create_train_X...</td>\n",
       "      <td>583e7d25f58c2314c85ab6c385d879cc</td>\n",
       "      <td>2.579612</td>\n",
       "      <td>0.158770</td>\n",
       "      <td>2025-04-23 10:23:18.298192</td>\n",
       "      <td>3.12.9</td>\n",
       "      <td>0.16.0</td>\n",
       "      <td>2.2.5</td>\n",
       "      <td>2.2.3</td>\n",
       "      <td>1.6.1</td>\n",
       "      <td>4.6.0</td>\n",
       "      <td>Linux-6.11.0-21-generic-x86_64-with-glibc2.39</td>\n",
       "      <td>x86_64</td>\n",
       "      <td>8</td>\n",
       "      <td>16.64</td>\n",
       "    </tr>\n",
       "    <tr>\n",
       "      <th>205</th>\n",
       "      <td>ForecasterRecursiveMultiSeries</td>\n",
       "      <td>LGBMRegressor</td>\n",
       "      <td>ForecasterRecursiveMultiSeries__create_train_X...</td>\n",
       "      <td>583e7d25f58c2314c85ab6c385d879cc</td>\n",
       "      <td>1.793737</td>\n",
       "      <td>0.104488</td>\n",
       "      <td>2025-04-23 13:37:15.457424</td>\n",
       "      <td>3.12.9</td>\n",
       "      <td>0.16.0</td>\n",
       "      <td>2.2.5</td>\n",
       "      <td>2.2.3</td>\n",
       "      <td>1.6.1</td>\n",
       "      <td>4.6.0</td>\n",
       "      <td>Linux-6.11.0-21-generic-x86_64-with-glibc2.39</td>\n",
       "      <td>x86_64</td>\n",
       "      <td>8</td>\n",
       "      <td>16.64</td>\n",
       "    </tr>\n",
       "    <tr>\n",
       "      <th>217</th>\n",
       "      <td>ForecasterRecursiveMultiSeries</td>\n",
       "      <td>LGBMRegressor</td>\n",
       "      <td>ForecasterRecursiveMultiSeries__create_train_X...</td>\n",
       "      <td>583e7d25f58c2314c85ab6c385d879cc</td>\n",
       "      <td>1.710381</td>\n",
       "      <td>0.152857</td>\n",
       "      <td>2025-04-23 13:41:41.242969</td>\n",
       "      <td>3.12.9</td>\n",
       "      <td>0.16.0</td>\n",
       "      <td>2.2.5</td>\n",
       "      <td>2.2.3</td>\n",
       "      <td>1.6.1</td>\n",
       "      <td>4.6.0</td>\n",
       "      <td>Linux-6.11.0-21-generic-x86_64-with-glibc2.39</td>\n",
       "      <td>x86_64</td>\n",
       "      <td>8</td>\n",
       "      <td>16.64</td>\n",
       "    </tr>\n",
       "    <tr>\n",
       "      <th>229</th>\n",
       "      <td>ForecasterRecursiveMultiSeries</td>\n",
       "      <td>LGBMRegressor</td>\n",
       "      <td>ForecasterRecursiveMultiSeries__create_train_X...</td>\n",
       "      <td>583e7d25f58c2314c85ab6c385d879cc</td>\n",
       "      <td>1.731310</td>\n",
       "      <td>0.074488</td>\n",
       "      <td>2025-04-23 13:45:33.217057</td>\n",
       "      <td>3.12.9</td>\n",
       "      <td>0.16.0</td>\n",
       "      <td>2.2.5</td>\n",
       "      <td>2.2.3</td>\n",
       "      <td>1.6.1</td>\n",
       "      <td>4.6.0</td>\n",
       "      <td>Linux-6.11.0-21-generic-x86_64-with-glibc2.39</td>\n",
       "      <td>x86_64</td>\n",
       "      <td>8</td>\n",
       "      <td>16.64</td>\n",
       "    </tr>\n",
       "  </tbody>\n",
       "</table>\n",
       "</div>"
      ],
      "text/plain": [
       "                    forecaster_name regressor_name  \\\n",
       "17   ForecasterRecursiveMultiSeries  LGBMRegressor   \n",
       "37   ForecasterRecursiveMultiSeries  LGBMRegressor   \n",
       "49   ForecasterRecursiveMultiSeries  LGBMRegressor   \n",
       "61   ForecasterRecursiveMultiSeries  LGBMRegressor   \n",
       "73   ForecasterRecursiveMultiSeries  LGBMRegressor   \n",
       "85   ForecasterRecursiveMultiSeries  LGBMRegressor   \n",
       "121  ForecasterRecursiveMultiSeries  LGBMRegressor   \n",
       "133  ForecasterRecursiveMultiSeries  LGBMRegressor   \n",
       "169  ForecasterRecursiveMultiSeries  LGBMRegressor   \n",
       "181  ForecasterRecursiveMultiSeries  LGBMRegressor   \n",
       "193  ForecasterRecursiveMultiSeries  LGBMRegressor   \n",
       "205  ForecasterRecursiveMultiSeries  LGBMRegressor   \n",
       "217  ForecasterRecursiveMultiSeries  LGBMRegressor   \n",
       "229  ForecasterRecursiveMultiSeries  LGBMRegressor   \n",
       "\n",
       "                                         function_name  \\\n",
       "17   ForecasterRecursiveMultiSeries__create_train_X...   \n",
       "37   ForecasterRecursiveMultiSeries__create_train_X...   \n",
       "49   ForecasterRecursiveMultiSeries__create_train_X...   \n",
       "61   ForecasterRecursiveMultiSeries__create_train_X...   \n",
       "73   ForecasterRecursiveMultiSeries__create_train_X...   \n",
       "85   ForecasterRecursiveMultiSeries__create_train_X...   \n",
       "121  ForecasterRecursiveMultiSeries__create_train_X...   \n",
       "133  ForecasterRecursiveMultiSeries__create_train_X...   \n",
       "169  ForecasterRecursiveMultiSeries__create_train_X...   \n",
       "181  ForecasterRecursiveMultiSeries__create_train_X...   \n",
       "193  ForecasterRecursiveMultiSeries__create_train_X...   \n",
       "205  ForecasterRecursiveMultiSeries__create_train_X...   \n",
       "217  ForecasterRecursiveMultiSeries__create_train_X...   \n",
       "229  ForecasterRecursiveMultiSeries__create_train_X...   \n",
       "\n",
       "                        function_hash  run_time_avg  run_time_std_dev  \\\n",
       "17   583e7d25f58c2314c85ab6c385d879cc      2.087567          0.316449   \n",
       "37   583e7d25f58c2314c85ab6c385d879cc      2.220368          0.188786   \n",
       "49   583e7d25f58c2314c85ab6c385d879cc      1.952879          0.247184   \n",
       "61   583e7d25f58c2314c85ab6c385d879cc      2.124450          0.105336   \n",
       "73   583e7d25f58c2314c85ab6c385d879cc      2.537707          0.153342   \n",
       "85   583e7d25f58c2314c85ab6c385d879cc      2.375345          0.522490   \n",
       "121  583e7d25f58c2314c85ab6c385d879cc      2.412998          0.096977   \n",
       "133  583e7d25f58c2314c85ab6c385d879cc      1.874042          0.075614   \n",
       "169  583e7d25f58c2314c85ab6c385d879cc      2.157353          0.178555   \n",
       "181  583e7d25f58c2314c85ab6c385d879cc      2.135348          0.255934   \n",
       "193  583e7d25f58c2314c85ab6c385d879cc      2.579612          0.158770   \n",
       "205  583e7d25f58c2314c85ab6c385d879cc      1.793737          0.104488   \n",
       "217  583e7d25f58c2314c85ab6c385d879cc      1.710381          0.152857   \n",
       "229  583e7d25f58c2314c85ab6c385d879cc      1.731310          0.074488   \n",
       "\n",
       "                      datetime python_version skforecast_version  \\\n",
       "17  2025-04-22 21:22:29.597457         3.12.9             0.14.0   \n",
       "37  2025-04-22 21:29:11.209381         3.12.9             0.14.0   \n",
       "49  2025-04-22 21:33:21.603198         3.12.9             0.15.0   \n",
       "61  2025-04-22 21:44:09.659069         3.12.9             0.15.0   \n",
       "73  2025-04-22 21:53:59.503318         3.12.9             0.16.0   \n",
       "85  2025-04-22 22:08:44.787750         3.12.9             0.16.0   \n",
       "121 2025-04-22 22:43:17.886174         3.12.9             0.15.0   \n",
       "133 2025-04-22 22:51:34.861877         3.12.9             0.16.0   \n",
       "169 2025-04-23 09:55:05.606436         3.12.9             0.16.0   \n",
       "181 2025-04-23 10:00:19.393957         3.12.9             0.16.0   \n",
       "193 2025-04-23 10:23:18.298192         3.12.9             0.16.0   \n",
       "205 2025-04-23 13:37:15.457424         3.12.9             0.16.0   \n",
       "217 2025-04-23 13:41:41.242969         3.12.9             0.16.0   \n",
       "229 2025-04-23 13:45:33.217057         3.12.9             0.16.0   \n",
       "\n",
       "    numpy_version pandas_version sklearn_version lightgbm_version  \\\n",
       "17         1.26.4          2.2.3           1.4.2            4.6.0   \n",
       "37         1.26.4          2.2.3           1.4.2            4.6.0   \n",
       "49         1.26.4          2.2.3           1.4.2            4.6.0   \n",
       "61          2.2.5          2.2.3           1.6.1            4.6.0   \n",
       "73          2.2.5          2.2.3           1.6.1            4.6.0   \n",
       "85         1.26.4          2.2.3           1.6.1            4.6.0   \n",
       "121        1.26.4          2.2.3           1.4.2            4.6.0   \n",
       "133        1.26.4          2.2.3           1.4.2            4.6.0   \n",
       "169        1.26.4          2.2.3           1.4.2            4.6.0   \n",
       "181         2.2.5          2.2.3           1.6.1            4.6.0   \n",
       "193         2.2.5          2.2.3           1.6.1            4.6.0   \n",
       "205         2.2.5          2.2.3           1.6.1            4.6.0   \n",
       "217         2.2.5          2.2.3           1.6.1            4.6.0   \n",
       "229         2.2.5          2.2.3           1.6.1            4.6.0   \n",
       "\n",
       "                                          platform processor  cpu_count  \\\n",
       "17   Linux-6.11.0-21-generic-x86_64-with-glibc2.39    x86_64          8   \n",
       "37   Linux-6.11.0-21-generic-x86_64-with-glibc2.39    x86_64          8   \n",
       "49   Linux-6.11.0-21-generic-x86_64-with-glibc2.39    x86_64          8   \n",
       "61   Linux-6.11.0-21-generic-x86_64-with-glibc2.39    x86_64          8   \n",
       "73   Linux-6.11.0-21-generic-x86_64-with-glibc2.39    x86_64          8   \n",
       "85   Linux-6.11.0-21-generic-x86_64-with-glibc2.39    x86_64          8   \n",
       "121  Linux-6.11.0-21-generic-x86_64-with-glibc2.39    x86_64          8   \n",
       "133  Linux-6.11.0-21-generic-x86_64-with-glibc2.39    x86_64          8   \n",
       "169  Linux-6.11.0-21-generic-x86_64-with-glibc2.39    x86_64          8   \n",
       "181  Linux-6.11.0-21-generic-x86_64-with-glibc2.39    x86_64          8   \n",
       "193  Linux-6.11.0-21-generic-x86_64-with-glibc2.39    x86_64          8   \n",
       "205  Linux-6.11.0-21-generic-x86_64-with-glibc2.39    x86_64          8   \n",
       "217  Linux-6.11.0-21-generic-x86_64-with-glibc2.39    x86_64          8   \n",
       "229  Linux-6.11.0-21-generic-x86_64-with-glibc2.39    x86_64          8   \n",
       "\n",
       "     memory_gb  \n",
       "17       16.64  \n",
       "37       16.64  \n",
       "49       16.64  \n",
       "61       16.64  \n",
       "73       16.64  \n",
       "85       16.64  \n",
       "121      16.64  \n",
       "133      16.64  \n",
       "169      16.64  \n",
       "181      16.64  \n",
       "193      16.64  \n",
       "205      16.64  \n",
       "217      16.64  \n",
       "229      16.64  "
      ]
     },
     "metadata": {},
     "output_type": "display_data"
    },
    {
     "data": {
      "application/vnd.plotly.v1+json": {
       "config": {
        "plotlyServerURL": "https://plot.ly"
       },
       "data": [
        {
         "alignmentgroup": "True",
         "boxpoints": "all",
         "customdata": [
          [
           "ForecasterRecursiveMultiSeries",
           "LGBMRegressor",
           "ForecasterRecursiveMultiSeries__create_train_X_y_series_is_dict_exog_is_dict",
           "583e7d25f58c2314c85ab6c385d879cc",
           0.3164489366624266,
           "2025-04-22T21:22:29.597457",
           "3.12.9",
           "1.26.4",
           "2.2.3",
           "1.4.2",
           "4.6.0",
           "Linux-6.11.0-21-generic-x86_64-with-glibc2.39",
           "x86_64",
           8,
           16.64
          ],
          [
           "ForecasterRecursiveMultiSeries",
           "LGBMRegressor",
           "ForecasterRecursiveMultiSeries__create_train_X_y_series_is_dict_exog_is_dict",
           "583e7d25f58c2314c85ab6c385d879cc",
           0.18878623302124614,
           "2025-04-22T21:29:11.209381",
           "3.12.9",
           "1.26.4",
           "2.2.3",
           "1.4.2",
           "4.6.0",
           "Linux-6.11.0-21-generic-x86_64-with-glibc2.39",
           "x86_64",
           8,
           16.64
          ]
         ],
         "fillcolor": "rgba(255,255,255,0)",
         "hoveron": "points",
         "hovertemplate": "skforecast_version=%{x}<br>run_time_avg=%{y}<br>forecaster_name=%{customdata[0]}<br>regressor_name=%{customdata[1]}<br>function_name=%{customdata[2]}<br>function_hash=%{customdata[3]}<br>run_time_std_dev=%{customdata[4]}<br>datetime=%{customdata[5]}<br>python_version=%{customdata[6]}<br>numpy_version=%{customdata[7]}<br>pandas_version=%{customdata[8]}<br>sklearn_version=%{customdata[9]}<br>lightgbm_version=%{customdata[10]}<br>platform=%{customdata[11]}<br>processor=%{customdata[12]}<br>cpu_count=%{customdata[13]}<br>memory_gb=%{customdata[14]}<extra></extra>",
         "jitter": true,
         "legendgroup": "0.14.0",
         "line": {
          "color": "rgba(255,255,255,0)"
         },
         "marker": {
          "color": "#636efa",
          "opacity": 0.7,
          "size": 10
         },
         "name": "0.14.0",
         "offsetgroup": "0.14.0",
         "orientation": "v",
         "pointpos": 0,
         "showlegend": true,
         "type": "box",
         "x": [
          "0.14.0",
          "0.14.0"
         ],
         "x0": " ",
         "xaxis": "x",
         "y": {
          "bdata": "AJSOdVazAEAAOIwxUMMBQA==",
          "dtype": "f8"
         },
         "y0": " ",
         "yaxis": "y"
        },
        {
         "alignmentgroup": "True",
         "boxpoints": "all",
         "customdata": [
          [
           "ForecasterRecursiveMultiSeries",
           "LGBMRegressor",
           "ForecasterRecursiveMultiSeries__create_train_X_y_series_is_dict_exog_is_dict",
           "583e7d25f58c2314c85ab6c385d879cc",
           0.24718366329014166,
           "2025-04-22T21:33:21.603198",
           "3.12.9",
           "1.26.4",
           "2.2.3",
           "1.4.2",
           "4.6.0",
           "Linux-6.11.0-21-generic-x86_64-with-glibc2.39",
           "x86_64",
           8,
           16.64
          ],
          [
           "ForecasterRecursiveMultiSeries",
           "LGBMRegressor",
           "ForecasterRecursiveMultiSeries__create_train_X_y_series_is_dict_exog_is_dict",
           "583e7d25f58c2314c85ab6c385d879cc",
           0.10533603063395157,
           "2025-04-22T21:44:09.659069",
           "3.12.9",
           "2.2.5",
           "2.2.3",
           "1.6.1",
           "4.6.0",
           "Linux-6.11.0-21-generic-x86_64-with-glibc2.39",
           "x86_64",
           8,
           16.64
          ],
          [
           "ForecasterRecursiveMultiSeries",
           "LGBMRegressor",
           "ForecasterRecursiveMultiSeries__create_train_X_y_series_is_dict_exog_is_dict",
           "583e7d25f58c2314c85ab6c385d879cc",
           0.0969772224200977,
           "2025-04-22T22:43:17.886174",
           "3.12.9",
           "1.26.4",
           "2.2.3",
           "1.4.2",
           "4.6.0",
           "Linux-6.11.0-21-generic-x86_64-with-glibc2.39",
           "x86_64",
           8,
           16.64
          ]
         ],
         "fillcolor": "rgba(255,255,255,0)",
         "hoveron": "points",
         "hovertemplate": "skforecast_version=%{x}<br>run_time_avg=%{y}<br>forecaster_name=%{customdata[0]}<br>regressor_name=%{customdata[1]}<br>function_name=%{customdata[2]}<br>function_hash=%{customdata[3]}<br>run_time_std_dev=%{customdata[4]}<br>datetime=%{customdata[5]}<br>python_version=%{customdata[6]}<br>numpy_version=%{customdata[7]}<br>pandas_version=%{customdata[8]}<br>sklearn_version=%{customdata[9]}<br>lightgbm_version=%{customdata[10]}<br>platform=%{customdata[11]}<br>processor=%{customdata[12]}<br>cpu_count=%{customdata[13]}<br>memory_gb=%{customdata[14]}<extra></extra>",
         "jitter": true,
         "legendgroup": "0.15.0",
         "line": {
          "color": "rgba(255,255,255,0)"
         },
         "marker": {
          "color": "#EF553B",
          "opacity": 0.7,
          "size": 10
         },
         "name": "0.15.0",
         "offsetgroup": "0.15.0",
         "orientation": "v",
         "pointpos": 0,
         "showlegend": true,
         "type": "box",
         "x": [
          "0.15.0",
          "0.15.0",
          "0.15.0"
         ],
         "x0": " ",
         "xaxis": "x",
         "y": {
          "bdata": "mrGia/4+/z8AAPXW3/4AQGZma73RTQNA",
          "dtype": "f8"
         },
         "y0": " ",
         "yaxis": "y"
        },
        {
         "alignmentgroup": "True",
         "boxpoints": "all",
         "customdata": [
          [
           "ForecasterRecursiveMultiSeries",
           "LGBMRegressor",
           "ForecasterRecursiveMultiSeries__create_train_X_y_series_is_dict_exog_is_dict",
           "583e7d25f58c2314c85ab6c385d879cc",
           0.1533415036196596,
           "2025-04-22T21:53:59.503318",
           "3.12.9",
           "2.2.5",
           "2.2.3",
           "1.6.1",
           "4.6.0",
           "Linux-6.11.0-21-generic-x86_64-with-glibc2.39",
           "x86_64",
           8,
           16.64
          ],
          [
           "ForecasterRecursiveMultiSeries",
           "LGBMRegressor",
           "ForecasterRecursiveMultiSeries__create_train_X_y_series_is_dict_exog_is_dict",
           "583e7d25f58c2314c85ab6c385d879cc",
           0.5224896855466125,
           "2025-04-22T22:08:44.787750",
           "3.12.9",
           "1.26.4",
           "2.2.3",
           "1.6.1",
           "4.6.0",
           "Linux-6.11.0-21-generic-x86_64-with-glibc2.39",
           "x86_64",
           8,
           16.64
          ],
          [
           "ForecasterRecursiveMultiSeries",
           "LGBMRegressor",
           "ForecasterRecursiveMultiSeries__create_train_X_y_series_is_dict_exog_is_dict",
           "583e7d25f58c2314c85ab6c385d879cc",
           0.07561371410171208,
           "2025-04-22T22:51:34.861877",
           "3.12.9",
           "1.26.4",
           "2.2.3",
           "1.4.2",
           "4.6.0",
           "Linux-6.11.0-21-generic-x86_64-with-glibc2.39",
           "x86_64",
           8,
           16.64
          ],
          [
           "ForecasterRecursiveMultiSeries",
           "LGBMRegressor",
           "ForecasterRecursiveMultiSeries__create_train_X_y_series_is_dict_exog_is_dict",
           "583e7d25f58c2314c85ab6c385d879cc",
           0.1785549551448168,
           "2025-04-23T09:55:05.606436",
           "3.12.9",
           "1.26.4",
           "2.2.3",
           "1.4.2",
           "4.6.0",
           "Linux-6.11.0-21-generic-x86_64-with-glibc2.39",
           "x86_64",
           8,
           16.64
          ],
          [
           "ForecasterRecursiveMultiSeries",
           "LGBMRegressor",
           "ForecasterRecursiveMultiSeries__create_train_X_y_series_is_dict_exog_is_dict",
           "583e7d25f58c2314c85ab6c385d879cc",
           0.25593420103340153,
           "2025-04-23T10:00:19.393957",
           "3.12.9",
           "2.2.5",
           "2.2.3",
           "1.6.1",
           "4.6.0",
           "Linux-6.11.0-21-generic-x86_64-with-glibc2.39",
           "x86_64",
           8,
           16.64
          ],
          [
           "ForecasterRecursiveMultiSeries",
           "LGBMRegressor",
           "ForecasterRecursiveMultiSeries__create_train_X_y_series_is_dict_exog_is_dict",
           "583e7d25f58c2314c85ab6c385d879cc",
           0.15876981485593666,
           "2025-04-23T10:23:18.298192",
           "3.12.9",
           "2.2.5",
           "2.2.3",
           "1.6.1",
           "4.6.0",
           "Linux-6.11.0-21-generic-x86_64-with-glibc2.39",
           "x86_64",
           8,
           16.64
          ],
          [
           "ForecasterRecursiveMultiSeries",
           "LGBMRegressor",
           "ForecasterRecursiveMultiSeries__create_train_X_y_series_is_dict_exog_is_dict",
           "583e7d25f58c2314c85ab6c385d879cc",
           0.10448754555555738,
           "2025-04-23T13:37:15.457424",
           "3.12.9",
           "2.2.5",
           "2.2.3",
           "1.6.1",
           "4.6.0",
           "Linux-6.11.0-21-generic-x86_64-with-glibc2.39",
           "x86_64",
           8,
           16.64
          ],
          [
           "ForecasterRecursiveMultiSeries",
           "LGBMRegressor",
           "ForecasterRecursiveMultiSeries__create_train_X_y_series_is_dict_exog_is_dict",
           "583e7d25f58c2314c85ab6c385d879cc",
           0.15285699627530308,
           "2025-04-23T13:41:41.242969",
           "3.12.9",
           "2.2.5",
           "2.2.3",
           "1.6.1",
           "4.6.0",
           "Linux-6.11.0-21-generic-x86_64-with-glibc2.39",
           "x86_64",
           8,
           16.64
          ],
          [
           "ForecasterRecursiveMultiSeries",
           "LGBMRegressor",
           "ForecasterRecursiveMultiSeries__create_train_X_y_series_is_dict_exog_is_dict",
           "583e7d25f58c2314c85ab6c385d879cc",
           0.07448800858952265,
           "2025-04-23T13:45:33.217057",
           "3.12.9",
           "2.2.5",
           "2.2.3",
           "1.6.1",
           "4.6.0",
           "Linux-6.11.0-21-generic-x86_64-with-glibc2.39",
           "x86_64",
           8,
           16.64
          ]
         ],
         "fillcolor": "rgba(255,255,255,0)",
         "hoveron": "points",
         "hovertemplate": "skforecast_version=%{x}<br>run_time_avg=%{y}<br>forecaster_name=%{customdata[0]}<br>regressor_name=%{customdata[1]}<br>function_name=%{customdata[2]}<br>function_hash=%{customdata[3]}<br>run_time_std_dev=%{customdata[4]}<br>datetime=%{customdata[5]}<br>python_version=%{customdata[6]}<br>numpy_version=%{customdata[7]}<br>pandas_version=%{customdata[8]}<br>sklearn_version=%{customdata[9]}<br>lightgbm_version=%{customdata[10]}<br>platform=%{customdata[11]}<br>processor=%{customdata[12]}<br>cpu_count=%{customdata[13]}<br>memory_gb=%{customdata[14]}<extra></extra>",
         "jitter": true,
         "legendgroup": "0.16.0",
         "line": {
          "color": "rgba(255,255,255,0)"
         },
         "marker": {
          "color": "#00cc96",
          "opacity": 0.7,
          "size": 10
         },
         "name": "0.16.0",
         "offsetgroup": "0.16.0",
         "orientation": "v",
         "pointpos": 0,
         "showlegend": true,
         "type": "box",
         "x": [
          "0.16.0",
          "0.16.0",
          "0.16.0",
          "0.16.0",
          "0.16.0",
          "0.16.0",
          "0.16.0",
          "0.16.0",
          "0.16.0"
         ],
         "x0": " ",
         "xaxis": "x",
         "y": {
          "bdata": "mqmtfzlNBECamY77tAADQJqZuSsT/P0/5hknWkJCAUAAfItjMRUBQDPnl6ILowRAmtngDCWz/D8A8H0+uF37P838K4Nys/s/",
          "dtype": "f8"
         },
         "y0": " ",
         "yaxis": "y"
        },
        {
         "line": {
          "color": "black",
          "width": 2
         },
         "marker": {
          "size": 8
         },
         "mode": "lines+markers",
         "name": "Median",
         "showlegend": true,
         "type": "scatter",
         "x": [
          "0.14.0",
          "0.15.0",
          "0.16.0"
         ],
         "y": {
          "bdata": "AGaNU1M7AUAAAPXW3/4AQAB8i2MxFQFA",
          "dtype": "f8"
         }
        }
       ],
       "layout": {
        "boxmode": "overlay",
        "legend": {
         "title": {
          "text": "skforecast_version"
         },
         "tracegroupgap": 0
        },
        "margin": {
         "t": 60
        },
        "showlegend": true,
        "template": {
         "data": {
          "bar": [
           {
            "error_x": {
             "color": "#2a3f5f"
            },
            "error_y": {
             "color": "#2a3f5f"
            },
            "marker": {
             "line": {
              "color": "#E5ECF6",
              "width": 0.5
             },
             "pattern": {
              "fillmode": "overlay",
              "size": 10,
              "solidity": 0.2
             }
            },
            "type": "bar"
           }
          ],
          "barpolar": [
           {
            "marker": {
             "line": {
              "color": "#E5ECF6",
              "width": 0.5
             },
             "pattern": {
              "fillmode": "overlay",
              "size": 10,
              "solidity": 0.2
             }
            },
            "type": "barpolar"
           }
          ],
          "carpet": [
           {
            "aaxis": {
             "endlinecolor": "#2a3f5f",
             "gridcolor": "white",
             "linecolor": "white",
             "minorgridcolor": "white",
             "startlinecolor": "#2a3f5f"
            },
            "baxis": {
             "endlinecolor": "#2a3f5f",
             "gridcolor": "white",
             "linecolor": "white",
             "minorgridcolor": "white",
             "startlinecolor": "#2a3f5f"
            },
            "type": "carpet"
           }
          ],
          "choropleth": [
           {
            "colorbar": {
             "outlinewidth": 0,
             "ticks": ""
            },
            "type": "choropleth"
           }
          ],
          "contour": [
           {
            "colorbar": {
             "outlinewidth": 0,
             "ticks": ""
            },
            "colorscale": [
             [
              0,
              "#0d0887"
             ],
             [
              0.1111111111111111,
              "#46039f"
             ],
             [
              0.2222222222222222,
              "#7201a8"
             ],
             [
              0.3333333333333333,
              "#9c179e"
             ],
             [
              0.4444444444444444,
              "#bd3786"
             ],
             [
              0.5555555555555556,
              "#d8576b"
             ],
             [
              0.6666666666666666,
              "#ed7953"
             ],
             [
              0.7777777777777778,
              "#fb9f3a"
             ],
             [
              0.8888888888888888,
              "#fdca26"
             ],
             [
              1,
              "#f0f921"
             ]
            ],
            "type": "contour"
           }
          ],
          "contourcarpet": [
           {
            "colorbar": {
             "outlinewidth": 0,
             "ticks": ""
            },
            "type": "contourcarpet"
           }
          ],
          "heatmap": [
           {
            "colorbar": {
             "outlinewidth": 0,
             "ticks": ""
            },
            "colorscale": [
             [
              0,
              "#0d0887"
             ],
             [
              0.1111111111111111,
              "#46039f"
             ],
             [
              0.2222222222222222,
              "#7201a8"
             ],
             [
              0.3333333333333333,
              "#9c179e"
             ],
             [
              0.4444444444444444,
              "#bd3786"
             ],
             [
              0.5555555555555556,
              "#d8576b"
             ],
             [
              0.6666666666666666,
              "#ed7953"
             ],
             [
              0.7777777777777778,
              "#fb9f3a"
             ],
             [
              0.8888888888888888,
              "#fdca26"
             ],
             [
              1,
              "#f0f921"
             ]
            ],
            "type": "heatmap"
           }
          ],
          "histogram": [
           {
            "marker": {
             "pattern": {
              "fillmode": "overlay",
              "size": 10,
              "solidity": 0.2
             }
            },
            "type": "histogram"
           }
          ],
          "histogram2d": [
           {
            "colorbar": {
             "outlinewidth": 0,
             "ticks": ""
            },
            "colorscale": [
             [
              0,
              "#0d0887"
             ],
             [
              0.1111111111111111,
              "#46039f"
             ],
             [
              0.2222222222222222,
              "#7201a8"
             ],
             [
              0.3333333333333333,
              "#9c179e"
             ],
             [
              0.4444444444444444,
              "#bd3786"
             ],
             [
              0.5555555555555556,
              "#d8576b"
             ],
             [
              0.6666666666666666,
              "#ed7953"
             ],
             [
              0.7777777777777778,
              "#fb9f3a"
             ],
             [
              0.8888888888888888,
              "#fdca26"
             ],
             [
              1,
              "#f0f921"
             ]
            ],
            "type": "histogram2d"
           }
          ],
          "histogram2dcontour": [
           {
            "colorbar": {
             "outlinewidth": 0,
             "ticks": ""
            },
            "colorscale": [
             [
              0,
              "#0d0887"
             ],
             [
              0.1111111111111111,
              "#46039f"
             ],
             [
              0.2222222222222222,
              "#7201a8"
             ],
             [
              0.3333333333333333,
              "#9c179e"
             ],
             [
              0.4444444444444444,
              "#bd3786"
             ],
             [
              0.5555555555555556,
              "#d8576b"
             ],
             [
              0.6666666666666666,
              "#ed7953"
             ],
             [
              0.7777777777777778,
              "#fb9f3a"
             ],
             [
              0.8888888888888888,
              "#fdca26"
             ],
             [
              1,
              "#f0f921"
             ]
            ],
            "type": "histogram2dcontour"
           }
          ],
          "mesh3d": [
           {
            "colorbar": {
             "outlinewidth": 0,
             "ticks": ""
            },
            "type": "mesh3d"
           }
          ],
          "parcoords": [
           {
            "line": {
             "colorbar": {
              "outlinewidth": 0,
              "ticks": ""
             }
            },
            "type": "parcoords"
           }
          ],
          "pie": [
           {
            "automargin": true,
            "type": "pie"
           }
          ],
          "scatter": [
           {
            "fillpattern": {
             "fillmode": "overlay",
             "size": 10,
             "solidity": 0.2
            },
            "type": "scatter"
           }
          ],
          "scatter3d": [
           {
            "line": {
             "colorbar": {
              "outlinewidth": 0,
              "ticks": ""
             }
            },
            "marker": {
             "colorbar": {
              "outlinewidth": 0,
              "ticks": ""
             }
            },
            "type": "scatter3d"
           }
          ],
          "scattercarpet": [
           {
            "marker": {
             "colorbar": {
              "outlinewidth": 0,
              "ticks": ""
             }
            },
            "type": "scattercarpet"
           }
          ],
          "scattergeo": [
           {
            "marker": {
             "colorbar": {
              "outlinewidth": 0,
              "ticks": ""
             }
            },
            "type": "scattergeo"
           }
          ],
          "scattergl": [
           {
            "marker": {
             "colorbar": {
              "outlinewidth": 0,
              "ticks": ""
             }
            },
            "type": "scattergl"
           }
          ],
          "scattermap": [
           {
            "marker": {
             "colorbar": {
              "outlinewidth": 0,
              "ticks": ""
             }
            },
            "type": "scattermap"
           }
          ],
          "scattermapbox": [
           {
            "marker": {
             "colorbar": {
              "outlinewidth": 0,
              "ticks": ""
             }
            },
            "type": "scattermapbox"
           }
          ],
          "scatterpolar": [
           {
            "marker": {
             "colorbar": {
              "outlinewidth": 0,
              "ticks": ""
             }
            },
            "type": "scatterpolar"
           }
          ],
          "scatterpolargl": [
           {
            "marker": {
             "colorbar": {
              "outlinewidth": 0,
              "ticks": ""
             }
            },
            "type": "scatterpolargl"
           }
          ],
          "scatterternary": [
           {
            "marker": {
             "colorbar": {
              "outlinewidth": 0,
              "ticks": ""
             }
            },
            "type": "scatterternary"
           }
          ],
          "surface": [
           {
            "colorbar": {
             "outlinewidth": 0,
             "ticks": ""
            },
            "colorscale": [
             [
              0,
              "#0d0887"
             ],
             [
              0.1111111111111111,
              "#46039f"
             ],
             [
              0.2222222222222222,
              "#7201a8"
             ],
             [
              0.3333333333333333,
              "#9c179e"
             ],
             [
              0.4444444444444444,
              "#bd3786"
             ],
             [
              0.5555555555555556,
              "#d8576b"
             ],
             [
              0.6666666666666666,
              "#ed7953"
             ],
             [
              0.7777777777777778,
              "#fb9f3a"
             ],
             [
              0.8888888888888888,
              "#fdca26"
             ],
             [
              1,
              "#f0f921"
             ]
            ],
            "type": "surface"
           }
          ],
          "table": [
           {
            "cells": {
             "fill": {
              "color": "#EBF0F8"
             },
             "line": {
              "color": "white"
             }
            },
            "header": {
             "fill": {
              "color": "#C8D4E3"
             },
             "line": {
              "color": "white"
             }
            },
            "type": "table"
           }
          ]
         },
         "layout": {
          "annotationdefaults": {
           "arrowcolor": "#2a3f5f",
           "arrowhead": 0,
           "arrowwidth": 1
          },
          "autotypenumbers": "strict",
          "coloraxis": {
           "colorbar": {
            "outlinewidth": 0,
            "ticks": ""
           }
          },
          "colorscale": {
           "diverging": [
            [
             0,
             "#8e0152"
            ],
            [
             0.1,
             "#c51b7d"
            ],
            [
             0.2,
             "#de77ae"
            ],
            [
             0.3,
             "#f1b6da"
            ],
            [
             0.4,
             "#fde0ef"
            ],
            [
             0.5,
             "#f7f7f7"
            ],
            [
             0.6,
             "#e6f5d0"
            ],
            [
             0.7,
             "#b8e186"
            ],
            [
             0.8,
             "#7fbc41"
            ],
            [
             0.9,
             "#4d9221"
            ],
            [
             1,
             "#276419"
            ]
           ],
           "sequential": [
            [
             0,
             "#0d0887"
            ],
            [
             0.1111111111111111,
             "#46039f"
            ],
            [
             0.2222222222222222,
             "#7201a8"
            ],
            [
             0.3333333333333333,
             "#9c179e"
            ],
            [
             0.4444444444444444,
             "#bd3786"
            ],
            [
             0.5555555555555556,
             "#d8576b"
            ],
            [
             0.6666666666666666,
             "#ed7953"
            ],
            [
             0.7777777777777778,
             "#fb9f3a"
            ],
            [
             0.8888888888888888,
             "#fdca26"
            ],
            [
             1,
             "#f0f921"
            ]
           ],
           "sequentialminus": [
            [
             0,
             "#0d0887"
            ],
            [
             0.1111111111111111,
             "#46039f"
            ],
            [
             0.2222222222222222,
             "#7201a8"
            ],
            [
             0.3333333333333333,
             "#9c179e"
            ],
            [
             0.4444444444444444,
             "#bd3786"
            ],
            [
             0.5555555555555556,
             "#d8576b"
            ],
            [
             0.6666666666666666,
             "#ed7953"
            ],
            [
             0.7777777777777778,
             "#fb9f3a"
            ],
            [
             0.8888888888888888,
             "#fdca26"
            ],
            [
             1,
             "#f0f921"
            ]
           ]
          },
          "colorway": [
           "#636efa",
           "#EF553B",
           "#00cc96",
           "#ab63fa",
           "#FFA15A",
           "#19d3f3",
           "#FF6692",
           "#B6E880",
           "#FF97FF",
           "#FECB52"
          ],
          "font": {
           "color": "#2a3f5f"
          },
          "geo": {
           "bgcolor": "white",
           "lakecolor": "white",
           "landcolor": "#E5ECF6",
           "showlakes": true,
           "showland": true,
           "subunitcolor": "white"
          },
          "hoverlabel": {
           "align": "left"
          },
          "hovermode": "closest",
          "mapbox": {
           "style": "light"
          },
          "paper_bgcolor": "white",
          "plot_bgcolor": "#E5ECF6",
          "polar": {
           "angularaxis": {
            "gridcolor": "white",
            "linecolor": "white",
            "ticks": ""
           },
           "bgcolor": "#E5ECF6",
           "radialaxis": {
            "gridcolor": "white",
            "linecolor": "white",
            "ticks": ""
           }
          },
          "scene": {
           "xaxis": {
            "backgroundcolor": "#E5ECF6",
            "gridcolor": "white",
            "gridwidth": 2,
            "linecolor": "white",
            "showbackground": true,
            "ticks": "",
            "zerolinecolor": "white"
           },
           "yaxis": {
            "backgroundcolor": "#E5ECF6",
            "gridcolor": "white",
            "gridwidth": 2,
            "linecolor": "white",
            "showbackground": true,
            "ticks": "",
            "zerolinecolor": "white"
           },
           "zaxis": {
            "backgroundcolor": "#E5ECF6",
            "gridcolor": "white",
            "gridwidth": 2,
            "linecolor": "white",
            "showbackground": true,
            "ticks": "",
            "zerolinecolor": "white"
           }
          },
          "shapedefaults": {
           "line": {
            "color": "#2a3f5f"
           }
          },
          "ternary": {
           "aaxis": {
            "gridcolor": "white",
            "linecolor": "white",
            "ticks": ""
           },
           "baxis": {
            "gridcolor": "white",
            "linecolor": "white",
            "ticks": ""
           },
           "bgcolor": "#E5ECF6",
           "caxis": {
            "gridcolor": "white",
            "linecolor": "white",
            "ticks": ""
           }
          },
          "title": {
           "x": 0.05
          },
          "xaxis": {
           "automargin": true,
           "gridcolor": "white",
           "linecolor": "white",
           "ticks": "",
           "title": {
            "standoff": 15
           },
           "zerolinecolor": "white",
           "zerolinewidth": 2
          },
          "yaxis": {
           "automargin": true,
           "gridcolor": "white",
           "linecolor": "white",
           "ticks": "",
           "title": {
            "standoff": 15
           },
           "zerolinecolor": "white",
           "zerolinewidth": 2
          }
         }
        },
        "title": {
         "text": "Execution time of ForecasterRecursiveMultiSeries__create_train_X_y_series_is_dict_exog_is_dict"
        },
        "xaxis": {
         "anchor": "y",
         "categoryarray": [
          "0.14.0",
          "0.15.0",
          "0.16.0"
         ],
         "categoryorder": "array",
         "domain": [
          0,
          1
         ],
         "title": {
          "text": "skforecast version"
         }
        },
        "yaxis": {
         "anchor": "x",
         "domain": [
          0,
          1
         ],
         "title": {
          "text": "Execution time (seconds)"
         }
        }
       }
      }
     },
     "metadata": {},
     "output_type": "display_data"
    },
    {
     "data": {
      "application/vnd.microsoft.datawrangler.viewer.v0+json": {
       "columns": [
        {
         "name": "index",
         "rawType": "int64",
         "type": "integer"
        },
        {
         "name": "forecaster_name",
         "rawType": "object",
         "type": "string"
        },
        {
         "name": "regressor_name",
         "rawType": "object",
         "type": "string"
        },
        {
         "name": "function_name",
         "rawType": "object",
         "type": "string"
        },
        {
         "name": "function_hash",
         "rawType": "object",
         "type": "string"
        },
        {
         "name": "run_time_avg",
         "rawType": "float64",
         "type": "float"
        },
        {
         "name": "run_time_std_dev",
         "rawType": "float64",
         "type": "float"
        },
        {
         "name": "datetime",
         "rawType": "datetime64[ns]",
         "type": "datetime"
        },
        {
         "name": "python_version",
         "rawType": "object",
         "type": "string"
        },
        {
         "name": "skforecast_version",
         "rawType": "object",
         "type": "string"
        },
        {
         "name": "numpy_version",
         "rawType": "object",
         "type": "string"
        },
        {
         "name": "pandas_version",
         "rawType": "object",
         "type": "string"
        },
        {
         "name": "sklearn_version",
         "rawType": "object",
         "type": "string"
        },
        {
         "name": "lightgbm_version",
         "rawType": "object",
         "type": "string"
        },
        {
         "name": "platform",
         "rawType": "object",
         "type": "string"
        },
        {
         "name": "processor",
         "rawType": "object",
         "type": "string"
        },
        {
         "name": "cpu_count",
         "rawType": "int64",
         "type": "integer"
        },
        {
         "name": "memory_gb",
         "rawType": "float64",
         "type": "float"
        }
       ],
       "conversionMethod": "pd.DataFrame",
       "ref": "4a91dc17-8903-4525-a532-62deb6685a33",
       "rows": [
        [
         "18",
         "ForecasterRecursiveMultiSeries",
         "LGBMRegressor",
         "ForecasterRecursiveMultiSeries_fit_series_is_dataframe_no_exog",
         "aa35b8ba0c0839021a95e5ba0786a67e",
         "11.731446238199988",
         "0.45531220816978146",
         "2025-04-22 21:22:40.042906",
         "3.12.9",
         "0.14.0",
         "1.26.4",
         "2.2.3",
         "1.4.2",
         "4.6.0",
         "Linux-6.11.0-21-generic-x86_64-with-glibc2.39",
         "x86_64",
         "8",
         "16.64"
        ],
        [
         "38",
         "ForecasterRecursiveMultiSeries",
         "LGBMRegressor",
         "ForecasterRecursiveMultiSeries_fit_series_is_dataframe_no_exog",
         "aa35b8ba0c0839021a95e5ba0786a67e",
         "11.501287843800037",
         "0.5402885572310303",
         "2025-04-22 21:29:22.319034",
         "3.12.9",
         "0.14.0",
         "1.26.4",
         "2.2.3",
         "1.4.2",
         "4.6.0",
         "Linux-6.11.0-21-generic-x86_64-with-glibc2.39",
         "x86_64",
         "8",
         "16.64"
        ],
        [
         "50",
         "ForecasterRecursiveMultiSeries",
         "LGBMRegressor",
         "ForecasterRecursiveMultiSeries_fit_series_is_dataframe_no_exog",
         "aa35b8ba0c0839021a95e5ba0786a67e",
         "14.011422028199922",
         "2.125178491380861",
         "2025-04-22 21:33:31.377188",
         "3.12.9",
         "0.15.0",
         "1.26.4",
         "2.2.3",
         "1.4.2",
         "4.6.0",
         "Linux-6.11.0-21-generic-x86_64-with-glibc2.39",
         "x86_64",
         "8",
         "16.64"
        ],
        [
         "62",
         "ForecasterRecursiveMultiSeries",
         "LGBMRegressor",
         "ForecasterRecursiveMultiSeries_fit_series_is_dataframe_no_exog",
         "aa35b8ba0c0839021a95e5ba0786a67e",
         "16.032971956399887",
         "0.3173940381696902",
         "2025-04-22 21:44:20.300867",
         "3.12.9",
         "0.15.0",
         "2.2.5",
         "2.2.3",
         "1.6.1",
         "4.6.0",
         "Linux-6.11.0-21-generic-x86_64-with-glibc2.39",
         "x86_64",
         "8",
         "16.64"
        ],
        [
         "74",
         "ForecasterRecursiveMultiSeries",
         "LGBMRegressor",
         "ForecasterRecursiveMultiSeries_fit_series_is_dataframe_no_exog",
         "aa35b8ba0c0839021a95e5ba0786a67e",
         "17.77186752039979",
         "1.4861367260719964",
         "2025-04-22 21:54:12.212377",
         "3.12.9",
         "0.16.0",
         "2.2.5",
         "2.2.3",
         "1.6.1",
         "4.6.0",
         "Linux-6.11.0-21-generic-x86_64-with-glibc2.39",
         "x86_64",
         "8",
         "16.64"
        ],
        [
         "86",
         "ForecasterRecursiveMultiSeries",
         "LGBMRegressor",
         "ForecasterRecursiveMultiSeries_fit_series_is_dataframe_no_exog",
         "aa35b8ba0c0839021a95e5ba0786a67e",
         "17.188971126999785",
         "0.8879109291922426",
         "2025-04-22 22:08:56.684592",
         "3.12.9",
         "0.16.0",
         "1.26.4",
         "2.2.3",
         "1.6.1",
         "4.6.0",
         "Linux-6.11.0-21-generic-x86_64-with-glibc2.39",
         "x86_64",
         "8",
         "16.64"
        ],
        [
         "122",
         "ForecasterRecursiveMultiSeries",
         "LGBMRegressor",
         "ForecasterRecursiveMultiSeries_fit_series_is_dataframe_no_exog",
         "aa35b8ba0c0839021a95e5ba0786a67e",
         "17.778667295599735",
         "0.7838164032052162",
         "2025-04-22 22:43:29.961188",
         "3.12.9",
         "0.15.0",
         "1.26.4",
         "2.2.3",
         "1.4.2",
         "4.6.0",
         "Linux-6.11.0-21-generic-x86_64-with-glibc2.39",
         "x86_64",
         "8",
         "16.64"
        ],
        [
         "134",
         "ForecasterRecursiveMultiSeries",
         "LGBMRegressor",
         "ForecasterRecursiveMultiSeries_fit_series_is_dataframe_no_exog",
         "aa35b8ba0c0839021a95e5ba0786a67e",
         "15.77928939859994",
         "0.19679862843662219",
         "2025-04-22 22:51:44.249800",
         "3.12.9",
         "0.16.0",
         "1.26.4",
         "2.2.3",
         "1.4.2",
         "4.6.0",
         "Linux-6.11.0-21-generic-x86_64-with-glibc2.39",
         "x86_64",
         "8",
         "16.64"
        ],
        [
         "170",
         "ForecasterRecursiveMultiSeries",
         "LGBMRegressor",
         "ForecasterRecursiveMultiSeries_fit_series_is_dataframe_no_exog",
         "aa35b8ba0c0839021a95e5ba0786a67e",
         "18.138809650399992",
         "1.2407690235747295",
         "2025-04-23 09:55:16.417345",
         "3.12.9",
         "0.16.0",
         "1.26.4",
         "2.2.3",
         "1.4.2",
         "4.6.0",
         "Linux-6.11.0-21-generic-x86_64-with-glibc2.39",
         "x86_64",
         "8",
         "16.64"
        ],
        [
         "182",
         "ForecasterRecursiveMultiSeries",
         "LGBMRegressor",
         "ForecasterRecursiveMultiSeries_fit_series_is_dataframe_no_exog",
         "aa35b8ba0c0839021a95e5ba0786a67e",
         "17.138384436000003",
         "1.5105800571448897",
         "2025-04-23 10:00:30.081392",
         "3.12.9",
         "0.16.0",
         "2.2.5",
         "2.2.3",
         "1.6.1",
         "4.6.0",
         "Linux-6.11.0-21-generic-x86_64-with-glibc2.39",
         "x86_64",
         "8",
         "16.64"
        ],
        [
         "194",
         "ForecasterRecursiveMultiSeries",
         "LGBMRegressor",
         "ForecasterRecursiveMultiSeries_fit_series_is_dataframe_no_exog",
         "aa35b8ba0c0839021a95e5ba0786a67e",
         "19.69247940920004",
         "2.031699668645975",
         "2025-04-23 10:23:31.212701",
         "3.12.9",
         "0.16.0",
         "2.2.5",
         "2.2.3",
         "1.6.1",
         "4.6.0",
         "Linux-6.11.0-21-generic-x86_64-with-glibc2.39",
         "x86_64",
         "8",
         "16.64"
        ],
        [
         "206",
         "ForecasterRecursiveMultiSeries",
         "LGBMRegressor",
         "ForecasterRecursiveMultiSeries_fit_series_is_dataframe_no_exog",
         "aa35b8ba0c0839021a95e5ba0786a67e",
         "12.806239948000075",
         "1.557547751712841",
         "2025-04-23 13:37:24.445190",
         "3.12.9",
         "0.16.0",
         "2.2.5",
         "2.2.3",
         "1.6.1",
         "4.6.0",
         "Linux-6.11.0-21-generic-x86_64-with-glibc2.39",
         "x86_64",
         "8",
         "16.64"
        ],
        [
         "218",
         "ForecasterRecursiveMultiSeries",
         "LGBMRegressor",
         "ForecasterRecursiveMultiSeries_fit_series_is_dataframe_no_exog",
         "aa35b8ba0c0839021a95e5ba0786a67e",
         "12.46521611320004",
         "0.8539411977320687",
         "2025-04-23 13:41:49.804019",
         "3.12.9",
         "0.16.0",
         "2.2.5",
         "2.2.3",
         "1.6.1",
         "4.6.0",
         "Linux-6.11.0-21-generic-x86_64-with-glibc2.39",
         "x86_64",
         "8",
         "16.64"
        ],
        [
         "230",
         "ForecasterRecursiveMultiSeries",
         "LGBMRegressor",
         "ForecasterRecursiveMultiSeries_fit_series_is_dataframe_no_exog",
         "aa35b8ba0c0839021a95e5ba0786a67e",
         "13.695513148600003",
         "0.5826139257485371",
         "2025-04-23 13:45:41.878341",
         "3.12.9",
         "0.16.0",
         "2.2.5",
         "2.2.3",
         "1.6.1",
         "4.6.0",
         "Linux-6.11.0-21-generic-x86_64-with-glibc2.39",
         "x86_64",
         "8",
         "16.64"
        ]
       ],
       "shape": {
        "columns": 17,
        "rows": 14
       }
      },
      "text/html": [
       "<div>\n",
       "<style scoped>\n",
       "    .dataframe tbody tr th:only-of-type {\n",
       "        vertical-align: middle;\n",
       "    }\n",
       "\n",
       "    .dataframe tbody tr th {\n",
       "        vertical-align: top;\n",
       "    }\n",
       "\n",
       "    .dataframe thead th {\n",
       "        text-align: right;\n",
       "    }\n",
       "</style>\n",
       "<table border=\"1\" class=\"dataframe\">\n",
       "  <thead>\n",
       "    <tr style=\"text-align: right;\">\n",
       "      <th></th>\n",
       "      <th>forecaster_name</th>\n",
       "      <th>regressor_name</th>\n",
       "      <th>function_name</th>\n",
       "      <th>function_hash</th>\n",
       "      <th>run_time_avg</th>\n",
       "      <th>run_time_std_dev</th>\n",
       "      <th>datetime</th>\n",
       "      <th>python_version</th>\n",
       "      <th>skforecast_version</th>\n",
       "      <th>numpy_version</th>\n",
       "      <th>pandas_version</th>\n",
       "      <th>sklearn_version</th>\n",
       "      <th>lightgbm_version</th>\n",
       "      <th>platform</th>\n",
       "      <th>processor</th>\n",
       "      <th>cpu_count</th>\n",
       "      <th>memory_gb</th>\n",
       "    </tr>\n",
       "  </thead>\n",
       "  <tbody>\n",
       "    <tr>\n",
       "      <th>18</th>\n",
       "      <td>ForecasterRecursiveMultiSeries</td>\n",
       "      <td>LGBMRegressor</td>\n",
       "      <td>ForecasterRecursiveMultiSeries_fit_series_is_d...</td>\n",
       "      <td>aa35b8ba0c0839021a95e5ba0786a67e</td>\n",
       "      <td>11.731446</td>\n",
       "      <td>0.455312</td>\n",
       "      <td>2025-04-22 21:22:40.042906</td>\n",
       "      <td>3.12.9</td>\n",
       "      <td>0.14.0</td>\n",
       "      <td>1.26.4</td>\n",
       "      <td>2.2.3</td>\n",
       "      <td>1.4.2</td>\n",
       "      <td>4.6.0</td>\n",
       "      <td>Linux-6.11.0-21-generic-x86_64-with-glibc2.39</td>\n",
       "      <td>x86_64</td>\n",
       "      <td>8</td>\n",
       "      <td>16.64</td>\n",
       "    </tr>\n",
       "    <tr>\n",
       "      <th>38</th>\n",
       "      <td>ForecasterRecursiveMultiSeries</td>\n",
       "      <td>LGBMRegressor</td>\n",
       "      <td>ForecasterRecursiveMultiSeries_fit_series_is_d...</td>\n",
       "      <td>aa35b8ba0c0839021a95e5ba0786a67e</td>\n",
       "      <td>11.501288</td>\n",
       "      <td>0.540289</td>\n",
       "      <td>2025-04-22 21:29:22.319034</td>\n",
       "      <td>3.12.9</td>\n",
       "      <td>0.14.0</td>\n",
       "      <td>1.26.4</td>\n",
       "      <td>2.2.3</td>\n",
       "      <td>1.4.2</td>\n",
       "      <td>4.6.0</td>\n",
       "      <td>Linux-6.11.0-21-generic-x86_64-with-glibc2.39</td>\n",
       "      <td>x86_64</td>\n",
       "      <td>8</td>\n",
       "      <td>16.64</td>\n",
       "    </tr>\n",
       "    <tr>\n",
       "      <th>50</th>\n",
       "      <td>ForecasterRecursiveMultiSeries</td>\n",
       "      <td>LGBMRegressor</td>\n",
       "      <td>ForecasterRecursiveMultiSeries_fit_series_is_d...</td>\n",
       "      <td>aa35b8ba0c0839021a95e5ba0786a67e</td>\n",
       "      <td>14.011422</td>\n",
       "      <td>2.125178</td>\n",
       "      <td>2025-04-22 21:33:31.377188</td>\n",
       "      <td>3.12.9</td>\n",
       "      <td>0.15.0</td>\n",
       "      <td>1.26.4</td>\n",
       "      <td>2.2.3</td>\n",
       "      <td>1.4.2</td>\n",
       "      <td>4.6.0</td>\n",
       "      <td>Linux-6.11.0-21-generic-x86_64-with-glibc2.39</td>\n",
       "      <td>x86_64</td>\n",
       "      <td>8</td>\n",
       "      <td>16.64</td>\n",
       "    </tr>\n",
       "    <tr>\n",
       "      <th>62</th>\n",
       "      <td>ForecasterRecursiveMultiSeries</td>\n",
       "      <td>LGBMRegressor</td>\n",
       "      <td>ForecasterRecursiveMultiSeries_fit_series_is_d...</td>\n",
       "      <td>aa35b8ba0c0839021a95e5ba0786a67e</td>\n",
       "      <td>16.032972</td>\n",
       "      <td>0.317394</td>\n",
       "      <td>2025-04-22 21:44:20.300867</td>\n",
       "      <td>3.12.9</td>\n",
       "      <td>0.15.0</td>\n",
       "      <td>2.2.5</td>\n",
       "      <td>2.2.3</td>\n",
       "      <td>1.6.1</td>\n",
       "      <td>4.6.0</td>\n",
       "      <td>Linux-6.11.0-21-generic-x86_64-with-glibc2.39</td>\n",
       "      <td>x86_64</td>\n",
       "      <td>8</td>\n",
       "      <td>16.64</td>\n",
       "    </tr>\n",
       "    <tr>\n",
       "      <th>74</th>\n",
       "      <td>ForecasterRecursiveMultiSeries</td>\n",
       "      <td>LGBMRegressor</td>\n",
       "      <td>ForecasterRecursiveMultiSeries_fit_series_is_d...</td>\n",
       "      <td>aa35b8ba0c0839021a95e5ba0786a67e</td>\n",
       "      <td>17.771868</td>\n",
       "      <td>1.486137</td>\n",
       "      <td>2025-04-22 21:54:12.212377</td>\n",
       "      <td>3.12.9</td>\n",
       "      <td>0.16.0</td>\n",
       "      <td>2.2.5</td>\n",
       "      <td>2.2.3</td>\n",
       "      <td>1.6.1</td>\n",
       "      <td>4.6.0</td>\n",
       "      <td>Linux-6.11.0-21-generic-x86_64-with-glibc2.39</td>\n",
       "      <td>x86_64</td>\n",
       "      <td>8</td>\n",
       "      <td>16.64</td>\n",
       "    </tr>\n",
       "    <tr>\n",
       "      <th>86</th>\n",
       "      <td>ForecasterRecursiveMultiSeries</td>\n",
       "      <td>LGBMRegressor</td>\n",
       "      <td>ForecasterRecursiveMultiSeries_fit_series_is_d...</td>\n",
       "      <td>aa35b8ba0c0839021a95e5ba0786a67e</td>\n",
       "      <td>17.188971</td>\n",
       "      <td>0.887911</td>\n",
       "      <td>2025-04-22 22:08:56.684592</td>\n",
       "      <td>3.12.9</td>\n",
       "      <td>0.16.0</td>\n",
       "      <td>1.26.4</td>\n",
       "      <td>2.2.3</td>\n",
       "      <td>1.6.1</td>\n",
       "      <td>4.6.0</td>\n",
       "      <td>Linux-6.11.0-21-generic-x86_64-with-glibc2.39</td>\n",
       "      <td>x86_64</td>\n",
       "      <td>8</td>\n",
       "      <td>16.64</td>\n",
       "    </tr>\n",
       "    <tr>\n",
       "      <th>122</th>\n",
       "      <td>ForecasterRecursiveMultiSeries</td>\n",
       "      <td>LGBMRegressor</td>\n",
       "      <td>ForecasterRecursiveMultiSeries_fit_series_is_d...</td>\n",
       "      <td>aa35b8ba0c0839021a95e5ba0786a67e</td>\n",
       "      <td>17.778667</td>\n",
       "      <td>0.783816</td>\n",
       "      <td>2025-04-22 22:43:29.961188</td>\n",
       "      <td>3.12.9</td>\n",
       "      <td>0.15.0</td>\n",
       "      <td>1.26.4</td>\n",
       "      <td>2.2.3</td>\n",
       "      <td>1.4.2</td>\n",
       "      <td>4.6.0</td>\n",
       "      <td>Linux-6.11.0-21-generic-x86_64-with-glibc2.39</td>\n",
       "      <td>x86_64</td>\n",
       "      <td>8</td>\n",
       "      <td>16.64</td>\n",
       "    </tr>\n",
       "    <tr>\n",
       "      <th>134</th>\n",
       "      <td>ForecasterRecursiveMultiSeries</td>\n",
       "      <td>LGBMRegressor</td>\n",
       "      <td>ForecasterRecursiveMultiSeries_fit_series_is_d...</td>\n",
       "      <td>aa35b8ba0c0839021a95e5ba0786a67e</td>\n",
       "      <td>15.779289</td>\n",
       "      <td>0.196799</td>\n",
       "      <td>2025-04-22 22:51:44.249800</td>\n",
       "      <td>3.12.9</td>\n",
       "      <td>0.16.0</td>\n",
       "      <td>1.26.4</td>\n",
       "      <td>2.2.3</td>\n",
       "      <td>1.4.2</td>\n",
       "      <td>4.6.0</td>\n",
       "      <td>Linux-6.11.0-21-generic-x86_64-with-glibc2.39</td>\n",
       "      <td>x86_64</td>\n",
       "      <td>8</td>\n",
       "      <td>16.64</td>\n",
       "    </tr>\n",
       "    <tr>\n",
       "      <th>170</th>\n",
       "      <td>ForecasterRecursiveMultiSeries</td>\n",
       "      <td>LGBMRegressor</td>\n",
       "      <td>ForecasterRecursiveMultiSeries_fit_series_is_d...</td>\n",
       "      <td>aa35b8ba0c0839021a95e5ba0786a67e</td>\n",
       "      <td>18.138810</td>\n",
       "      <td>1.240769</td>\n",
       "      <td>2025-04-23 09:55:16.417345</td>\n",
       "      <td>3.12.9</td>\n",
       "      <td>0.16.0</td>\n",
       "      <td>1.26.4</td>\n",
       "      <td>2.2.3</td>\n",
       "      <td>1.4.2</td>\n",
       "      <td>4.6.0</td>\n",
       "      <td>Linux-6.11.0-21-generic-x86_64-with-glibc2.39</td>\n",
       "      <td>x86_64</td>\n",
       "      <td>8</td>\n",
       "      <td>16.64</td>\n",
       "    </tr>\n",
       "    <tr>\n",
       "      <th>182</th>\n",
       "      <td>ForecasterRecursiveMultiSeries</td>\n",
       "      <td>LGBMRegressor</td>\n",
       "      <td>ForecasterRecursiveMultiSeries_fit_series_is_d...</td>\n",
       "      <td>aa35b8ba0c0839021a95e5ba0786a67e</td>\n",
       "      <td>17.138384</td>\n",
       "      <td>1.510580</td>\n",
       "      <td>2025-04-23 10:00:30.081392</td>\n",
       "      <td>3.12.9</td>\n",
       "      <td>0.16.0</td>\n",
       "      <td>2.2.5</td>\n",
       "      <td>2.2.3</td>\n",
       "      <td>1.6.1</td>\n",
       "      <td>4.6.0</td>\n",
       "      <td>Linux-6.11.0-21-generic-x86_64-with-glibc2.39</td>\n",
       "      <td>x86_64</td>\n",
       "      <td>8</td>\n",
       "      <td>16.64</td>\n",
       "    </tr>\n",
       "    <tr>\n",
       "      <th>194</th>\n",
       "      <td>ForecasterRecursiveMultiSeries</td>\n",
       "      <td>LGBMRegressor</td>\n",
       "      <td>ForecasterRecursiveMultiSeries_fit_series_is_d...</td>\n",
       "      <td>aa35b8ba0c0839021a95e5ba0786a67e</td>\n",
       "      <td>19.692479</td>\n",
       "      <td>2.031700</td>\n",
       "      <td>2025-04-23 10:23:31.212701</td>\n",
       "      <td>3.12.9</td>\n",
       "      <td>0.16.0</td>\n",
       "      <td>2.2.5</td>\n",
       "      <td>2.2.3</td>\n",
       "      <td>1.6.1</td>\n",
       "      <td>4.6.0</td>\n",
       "      <td>Linux-6.11.0-21-generic-x86_64-with-glibc2.39</td>\n",
       "      <td>x86_64</td>\n",
       "      <td>8</td>\n",
       "      <td>16.64</td>\n",
       "    </tr>\n",
       "    <tr>\n",
       "      <th>206</th>\n",
       "      <td>ForecasterRecursiveMultiSeries</td>\n",
       "      <td>LGBMRegressor</td>\n",
       "      <td>ForecasterRecursiveMultiSeries_fit_series_is_d...</td>\n",
       "      <td>aa35b8ba0c0839021a95e5ba0786a67e</td>\n",
       "      <td>12.806240</td>\n",
       "      <td>1.557548</td>\n",
       "      <td>2025-04-23 13:37:24.445190</td>\n",
       "      <td>3.12.9</td>\n",
       "      <td>0.16.0</td>\n",
       "      <td>2.2.5</td>\n",
       "      <td>2.2.3</td>\n",
       "      <td>1.6.1</td>\n",
       "      <td>4.6.0</td>\n",
       "      <td>Linux-6.11.0-21-generic-x86_64-with-glibc2.39</td>\n",
       "      <td>x86_64</td>\n",
       "      <td>8</td>\n",
       "      <td>16.64</td>\n",
       "    </tr>\n",
       "    <tr>\n",
       "      <th>218</th>\n",
       "      <td>ForecasterRecursiveMultiSeries</td>\n",
       "      <td>LGBMRegressor</td>\n",
       "      <td>ForecasterRecursiveMultiSeries_fit_series_is_d...</td>\n",
       "      <td>aa35b8ba0c0839021a95e5ba0786a67e</td>\n",
       "      <td>12.465216</td>\n",
       "      <td>0.853941</td>\n",
       "      <td>2025-04-23 13:41:49.804019</td>\n",
       "      <td>3.12.9</td>\n",
       "      <td>0.16.0</td>\n",
       "      <td>2.2.5</td>\n",
       "      <td>2.2.3</td>\n",
       "      <td>1.6.1</td>\n",
       "      <td>4.6.0</td>\n",
       "      <td>Linux-6.11.0-21-generic-x86_64-with-glibc2.39</td>\n",
       "      <td>x86_64</td>\n",
       "      <td>8</td>\n",
       "      <td>16.64</td>\n",
       "    </tr>\n",
       "    <tr>\n",
       "      <th>230</th>\n",
       "      <td>ForecasterRecursiveMultiSeries</td>\n",
       "      <td>LGBMRegressor</td>\n",
       "      <td>ForecasterRecursiveMultiSeries_fit_series_is_d...</td>\n",
       "      <td>aa35b8ba0c0839021a95e5ba0786a67e</td>\n",
       "      <td>13.695513</td>\n",
       "      <td>0.582614</td>\n",
       "      <td>2025-04-23 13:45:41.878341</td>\n",
       "      <td>3.12.9</td>\n",
       "      <td>0.16.0</td>\n",
       "      <td>2.2.5</td>\n",
       "      <td>2.2.3</td>\n",
       "      <td>1.6.1</td>\n",
       "      <td>4.6.0</td>\n",
       "      <td>Linux-6.11.0-21-generic-x86_64-with-glibc2.39</td>\n",
       "      <td>x86_64</td>\n",
       "      <td>8</td>\n",
       "      <td>16.64</td>\n",
       "    </tr>\n",
       "  </tbody>\n",
       "</table>\n",
       "</div>"
      ],
      "text/plain": [
       "                    forecaster_name regressor_name  \\\n",
       "18   ForecasterRecursiveMultiSeries  LGBMRegressor   \n",
       "38   ForecasterRecursiveMultiSeries  LGBMRegressor   \n",
       "50   ForecasterRecursiveMultiSeries  LGBMRegressor   \n",
       "62   ForecasterRecursiveMultiSeries  LGBMRegressor   \n",
       "74   ForecasterRecursiveMultiSeries  LGBMRegressor   \n",
       "86   ForecasterRecursiveMultiSeries  LGBMRegressor   \n",
       "122  ForecasterRecursiveMultiSeries  LGBMRegressor   \n",
       "134  ForecasterRecursiveMultiSeries  LGBMRegressor   \n",
       "170  ForecasterRecursiveMultiSeries  LGBMRegressor   \n",
       "182  ForecasterRecursiveMultiSeries  LGBMRegressor   \n",
       "194  ForecasterRecursiveMultiSeries  LGBMRegressor   \n",
       "206  ForecasterRecursiveMultiSeries  LGBMRegressor   \n",
       "218  ForecasterRecursiveMultiSeries  LGBMRegressor   \n",
       "230  ForecasterRecursiveMultiSeries  LGBMRegressor   \n",
       "\n",
       "                                         function_name  \\\n",
       "18   ForecasterRecursiveMultiSeries_fit_series_is_d...   \n",
       "38   ForecasterRecursiveMultiSeries_fit_series_is_d...   \n",
       "50   ForecasterRecursiveMultiSeries_fit_series_is_d...   \n",
       "62   ForecasterRecursiveMultiSeries_fit_series_is_d...   \n",
       "74   ForecasterRecursiveMultiSeries_fit_series_is_d...   \n",
       "86   ForecasterRecursiveMultiSeries_fit_series_is_d...   \n",
       "122  ForecasterRecursiveMultiSeries_fit_series_is_d...   \n",
       "134  ForecasterRecursiveMultiSeries_fit_series_is_d...   \n",
       "170  ForecasterRecursiveMultiSeries_fit_series_is_d...   \n",
       "182  ForecasterRecursiveMultiSeries_fit_series_is_d...   \n",
       "194  ForecasterRecursiveMultiSeries_fit_series_is_d...   \n",
       "206  ForecasterRecursiveMultiSeries_fit_series_is_d...   \n",
       "218  ForecasterRecursiveMultiSeries_fit_series_is_d...   \n",
       "230  ForecasterRecursiveMultiSeries_fit_series_is_d...   \n",
       "\n",
       "                        function_hash  run_time_avg  run_time_std_dev  \\\n",
       "18   aa35b8ba0c0839021a95e5ba0786a67e     11.731446          0.455312   \n",
       "38   aa35b8ba0c0839021a95e5ba0786a67e     11.501288          0.540289   \n",
       "50   aa35b8ba0c0839021a95e5ba0786a67e     14.011422          2.125178   \n",
       "62   aa35b8ba0c0839021a95e5ba0786a67e     16.032972          0.317394   \n",
       "74   aa35b8ba0c0839021a95e5ba0786a67e     17.771868          1.486137   \n",
       "86   aa35b8ba0c0839021a95e5ba0786a67e     17.188971          0.887911   \n",
       "122  aa35b8ba0c0839021a95e5ba0786a67e     17.778667          0.783816   \n",
       "134  aa35b8ba0c0839021a95e5ba0786a67e     15.779289          0.196799   \n",
       "170  aa35b8ba0c0839021a95e5ba0786a67e     18.138810          1.240769   \n",
       "182  aa35b8ba0c0839021a95e5ba0786a67e     17.138384          1.510580   \n",
       "194  aa35b8ba0c0839021a95e5ba0786a67e     19.692479          2.031700   \n",
       "206  aa35b8ba0c0839021a95e5ba0786a67e     12.806240          1.557548   \n",
       "218  aa35b8ba0c0839021a95e5ba0786a67e     12.465216          0.853941   \n",
       "230  aa35b8ba0c0839021a95e5ba0786a67e     13.695513          0.582614   \n",
       "\n",
       "                      datetime python_version skforecast_version  \\\n",
       "18  2025-04-22 21:22:40.042906         3.12.9             0.14.0   \n",
       "38  2025-04-22 21:29:22.319034         3.12.9             0.14.0   \n",
       "50  2025-04-22 21:33:31.377188         3.12.9             0.15.0   \n",
       "62  2025-04-22 21:44:20.300867         3.12.9             0.15.0   \n",
       "74  2025-04-22 21:54:12.212377         3.12.9             0.16.0   \n",
       "86  2025-04-22 22:08:56.684592         3.12.9             0.16.0   \n",
       "122 2025-04-22 22:43:29.961188         3.12.9             0.15.0   \n",
       "134 2025-04-22 22:51:44.249800         3.12.9             0.16.0   \n",
       "170 2025-04-23 09:55:16.417345         3.12.9             0.16.0   \n",
       "182 2025-04-23 10:00:30.081392         3.12.9             0.16.0   \n",
       "194 2025-04-23 10:23:31.212701         3.12.9             0.16.0   \n",
       "206 2025-04-23 13:37:24.445190         3.12.9             0.16.0   \n",
       "218 2025-04-23 13:41:49.804019         3.12.9             0.16.0   \n",
       "230 2025-04-23 13:45:41.878341         3.12.9             0.16.0   \n",
       "\n",
       "    numpy_version pandas_version sklearn_version lightgbm_version  \\\n",
       "18         1.26.4          2.2.3           1.4.2            4.6.0   \n",
       "38         1.26.4          2.2.3           1.4.2            4.6.0   \n",
       "50         1.26.4          2.2.3           1.4.2            4.6.0   \n",
       "62          2.2.5          2.2.3           1.6.1            4.6.0   \n",
       "74          2.2.5          2.2.3           1.6.1            4.6.0   \n",
       "86         1.26.4          2.2.3           1.6.1            4.6.0   \n",
       "122        1.26.4          2.2.3           1.4.2            4.6.0   \n",
       "134        1.26.4          2.2.3           1.4.2            4.6.0   \n",
       "170        1.26.4          2.2.3           1.4.2            4.6.0   \n",
       "182         2.2.5          2.2.3           1.6.1            4.6.0   \n",
       "194         2.2.5          2.2.3           1.6.1            4.6.0   \n",
       "206         2.2.5          2.2.3           1.6.1            4.6.0   \n",
       "218         2.2.5          2.2.3           1.6.1            4.6.0   \n",
       "230         2.2.5          2.2.3           1.6.1            4.6.0   \n",
       "\n",
       "                                          platform processor  cpu_count  \\\n",
       "18   Linux-6.11.0-21-generic-x86_64-with-glibc2.39    x86_64          8   \n",
       "38   Linux-6.11.0-21-generic-x86_64-with-glibc2.39    x86_64          8   \n",
       "50   Linux-6.11.0-21-generic-x86_64-with-glibc2.39    x86_64          8   \n",
       "62   Linux-6.11.0-21-generic-x86_64-with-glibc2.39    x86_64          8   \n",
       "74   Linux-6.11.0-21-generic-x86_64-with-glibc2.39    x86_64          8   \n",
       "86   Linux-6.11.0-21-generic-x86_64-with-glibc2.39    x86_64          8   \n",
       "122  Linux-6.11.0-21-generic-x86_64-with-glibc2.39    x86_64          8   \n",
       "134  Linux-6.11.0-21-generic-x86_64-with-glibc2.39    x86_64          8   \n",
       "170  Linux-6.11.0-21-generic-x86_64-with-glibc2.39    x86_64          8   \n",
       "182  Linux-6.11.0-21-generic-x86_64-with-glibc2.39    x86_64          8   \n",
       "194  Linux-6.11.0-21-generic-x86_64-with-glibc2.39    x86_64          8   \n",
       "206  Linux-6.11.0-21-generic-x86_64-with-glibc2.39    x86_64          8   \n",
       "218  Linux-6.11.0-21-generic-x86_64-with-glibc2.39    x86_64          8   \n",
       "230  Linux-6.11.0-21-generic-x86_64-with-glibc2.39    x86_64          8   \n",
       "\n",
       "     memory_gb  \n",
       "18       16.64  \n",
       "38       16.64  \n",
       "50       16.64  \n",
       "62       16.64  \n",
       "74       16.64  \n",
       "86       16.64  \n",
       "122      16.64  \n",
       "134      16.64  \n",
       "170      16.64  \n",
       "182      16.64  \n",
       "194      16.64  \n",
       "206      16.64  \n",
       "218      16.64  \n",
       "230      16.64  "
      ]
     },
     "metadata": {},
     "output_type": "display_data"
    },
    {
     "data": {
      "application/vnd.plotly.v1+json": {
       "config": {
        "plotlyServerURL": "https://plot.ly"
       },
       "data": [
        {
         "alignmentgroup": "True",
         "boxpoints": "all",
         "customdata": [
          [
           "ForecasterRecursiveMultiSeries",
           "LGBMRegressor",
           "ForecasterRecursiveMultiSeries_fit_series_is_dataframe_no_exog",
           "aa35b8ba0c0839021a95e5ba0786a67e",
           0.45531220816978146,
           "2025-04-22T21:22:40.042906",
           "3.12.9",
           "1.26.4",
           "2.2.3",
           "1.4.2",
           "4.6.0",
           "Linux-6.11.0-21-generic-x86_64-with-glibc2.39",
           "x86_64",
           8,
           16.64
          ],
          [
           "ForecasterRecursiveMultiSeries",
           "LGBMRegressor",
           "ForecasterRecursiveMultiSeries_fit_series_is_dataframe_no_exog",
           "aa35b8ba0c0839021a95e5ba0786a67e",
           0.5402885572310303,
           "2025-04-22T21:29:22.319034",
           "3.12.9",
           "1.26.4",
           "2.2.3",
           "1.4.2",
           "4.6.0",
           "Linux-6.11.0-21-generic-x86_64-with-glibc2.39",
           "x86_64",
           8,
           16.64
          ]
         ],
         "fillcolor": "rgba(255,255,255,0)",
         "hoveron": "points",
         "hovertemplate": "skforecast_version=%{x}<br>run_time_avg=%{y}<br>forecaster_name=%{customdata[0]}<br>regressor_name=%{customdata[1]}<br>function_name=%{customdata[2]}<br>function_hash=%{customdata[3]}<br>run_time_std_dev=%{customdata[4]}<br>datetime=%{customdata[5]}<br>python_version=%{customdata[6]}<br>numpy_version=%{customdata[7]}<br>pandas_version=%{customdata[8]}<br>sklearn_version=%{customdata[9]}<br>lightgbm_version=%{customdata[10]}<br>platform=%{customdata[11]}<br>processor=%{customdata[12]}<br>cpu_count=%{customdata[13]}<br>memory_gb=%{customdata[14]}<extra></extra>",
         "jitter": true,
         "legendgroup": "0.14.0",
         "line": {
          "color": "rgba(255,255,255,0)"
         },
         "marker": {
          "color": "#636efa",
          "opacity": 0.7,
          "size": 10
         },
         "name": "0.14.0",
         "offsetgroup": "0.14.0",
         "orientation": "v",
         "pointpos": 0,
         "showlegend": true,
         "type": "box",
         "x": [
          "0.14.0",
          "0.14.0"
         ],
         "x0": " ",
         "xaxis": "x",
         "y": {
          "bdata": "zbMPH4B2J0DNAd7MqAAnQA==",
          "dtype": "f8"
         },
         "y0": " ",
         "yaxis": "y"
        },
        {
         "alignmentgroup": "True",
         "boxpoints": "all",
         "customdata": [
          [
           "ForecasterRecursiveMultiSeries",
           "LGBMRegressor",
           "ForecasterRecursiveMultiSeries_fit_series_is_dataframe_no_exog",
           "aa35b8ba0c0839021a95e5ba0786a67e",
           2.125178491380861,
           "2025-04-22T21:33:31.377188",
           "3.12.9",
           "1.26.4",
           "2.2.3",
           "1.4.2",
           "4.6.0",
           "Linux-6.11.0-21-generic-x86_64-with-glibc2.39",
           "x86_64",
           8,
           16.64
          ],
          [
           "ForecasterRecursiveMultiSeries",
           "LGBMRegressor",
           "ForecasterRecursiveMultiSeries_fit_series_is_dataframe_no_exog",
           "aa35b8ba0c0839021a95e5ba0786a67e",
           0.3173940381696902,
           "2025-04-22T21:44:20.300867",
           "3.12.9",
           "2.2.5",
           "2.2.3",
           "1.6.1",
           "4.6.0",
           "Linux-6.11.0-21-generic-x86_64-with-glibc2.39",
           "x86_64",
           8,
           16.64
          ],
          [
           "ForecasterRecursiveMultiSeries",
           "LGBMRegressor",
           "ForecasterRecursiveMultiSeries_fit_series_is_dataframe_no_exog",
           "aa35b8ba0c0839021a95e5ba0786a67e",
           0.7838164032052162,
           "2025-04-22T22:43:29.961188",
           "3.12.9",
           "1.26.4",
           "2.2.3",
           "1.4.2",
           "4.6.0",
           "Linux-6.11.0-21-generic-x86_64-with-glibc2.39",
           "x86_64",
           8,
           16.64
          ]
         ],
         "fillcolor": "rgba(255,255,255,0)",
         "hoveron": "points",
         "hovertemplate": "skforecast_version=%{x}<br>run_time_avg=%{y}<br>forecaster_name=%{customdata[0]}<br>regressor_name=%{customdata[1]}<br>function_name=%{customdata[2]}<br>function_hash=%{customdata[3]}<br>run_time_std_dev=%{customdata[4]}<br>datetime=%{customdata[5]}<br>python_version=%{customdata[6]}<br>numpy_version=%{customdata[7]}<br>pandas_version=%{customdata[8]}<br>sklearn_version=%{customdata[9]}<br>lightgbm_version=%{customdata[10]}<br>platform=%{customdata[11]}<br>processor=%{customdata[12]}<br>cpu_count=%{customdata[13]}<br>memory_gb=%{customdata[14]}<extra></extra>",
         "jitter": true,
         "legendgroup": "0.15.0",
         "line": {
          "color": "rgba(255,255,255,0)"
         },
         "marker": {
          "color": "#EF553B",
          "opacity": 0.7,
          "size": 10
         },
         "name": "0.15.0",
         "offsetgroup": "0.15.0",
         "orientation": "v",
         "pointpos": 0,
         "showlegend": true,
         "type": "box",
         "x": [
          "0.15.0",
          "0.15.0",
          "0.15.0"
         ],
         "x0": " ",
         "xaxis": "x",
         "y": {
          "bdata": "MyWrG9kFLEAzbKLZcAgwQM0Qab1WxzFA",
          "dtype": "f8"
         },
         "y0": " ",
         "yaxis": "y"
        },
        {
         "alignmentgroup": "True",
         "boxpoints": "all",
         "customdata": [
          [
           "ForecasterRecursiveMultiSeries",
           "LGBMRegressor",
           "ForecasterRecursiveMultiSeries_fit_series_is_dataframe_no_exog",
           "aa35b8ba0c0839021a95e5ba0786a67e",
           1.4861367260719964,
           "2025-04-22T21:54:12.212377",
           "3.12.9",
           "2.2.5",
           "2.2.3",
           "1.6.1",
           "4.6.0",
           "Linux-6.11.0-21-generic-x86_64-with-glibc2.39",
           "x86_64",
           8,
           16.64
          ],
          [
           "ForecasterRecursiveMultiSeries",
           "LGBMRegressor",
           "ForecasterRecursiveMultiSeries_fit_series_is_dataframe_no_exog",
           "aa35b8ba0c0839021a95e5ba0786a67e",
           0.8879109291922426,
           "2025-04-22T22:08:56.684592",
           "3.12.9",
           "1.26.4",
           "2.2.3",
           "1.6.1",
           "4.6.0",
           "Linux-6.11.0-21-generic-x86_64-with-glibc2.39",
           "x86_64",
           8,
           16.64
          ],
          [
           "ForecasterRecursiveMultiSeries",
           "LGBMRegressor",
           "ForecasterRecursiveMultiSeries_fit_series_is_dataframe_no_exog",
           "aa35b8ba0c0839021a95e5ba0786a67e",
           0.19679862843662219,
           "2025-04-22T22:51:44.249800",
           "3.12.9",
           "1.26.4",
           "2.2.3",
           "1.4.2",
           "4.6.0",
           "Linux-6.11.0-21-generic-x86_64-with-glibc2.39",
           "x86_64",
           8,
           16.64
          ],
          [
           "ForecasterRecursiveMultiSeries",
           "LGBMRegressor",
           "ForecasterRecursiveMultiSeries_fit_series_is_dataframe_no_exog",
           "aa35b8ba0c0839021a95e5ba0786a67e",
           1.2407690235747295,
           "2025-04-23T09:55:16.417345",
           "3.12.9",
           "1.26.4",
           "2.2.3",
           "1.4.2",
           "4.6.0",
           "Linux-6.11.0-21-generic-x86_64-with-glibc2.39",
           "x86_64",
           8,
           16.64
          ],
          [
           "ForecasterRecursiveMultiSeries",
           "LGBMRegressor",
           "ForecasterRecursiveMultiSeries_fit_series_is_dataframe_no_exog",
           "aa35b8ba0c0839021a95e5ba0786a67e",
           1.5105800571448897,
           "2025-04-23T10:00:30.081392",
           "3.12.9",
           "2.2.5",
           "2.2.3",
           "1.6.1",
           "4.6.0",
           "Linux-6.11.0-21-generic-x86_64-with-glibc2.39",
           "x86_64",
           8,
           16.64
          ],
          [
           "ForecasterRecursiveMultiSeries",
           "LGBMRegressor",
           "ForecasterRecursiveMultiSeries_fit_series_is_dataframe_no_exog",
           "aa35b8ba0c0839021a95e5ba0786a67e",
           2.031699668645975,
           "2025-04-23T10:23:31.212701",
           "3.12.9",
           "2.2.5",
           "2.2.3",
           "1.6.1",
           "4.6.0",
           "Linux-6.11.0-21-generic-x86_64-with-glibc2.39",
           "x86_64",
           8,
           16.64
          ],
          [
           "ForecasterRecursiveMultiSeries",
           "LGBMRegressor",
           "ForecasterRecursiveMultiSeries_fit_series_is_dataframe_no_exog",
           "aa35b8ba0c0839021a95e5ba0786a67e",
           1.557547751712841,
           "2025-04-23T13:37:24.445190",
           "3.12.9",
           "2.2.5",
           "2.2.3",
           "1.6.1",
           "4.6.0",
           "Linux-6.11.0-21-generic-x86_64-with-glibc2.39",
           "x86_64",
           8,
           16.64
          ],
          [
           "ForecasterRecursiveMultiSeries",
           "LGBMRegressor",
           "ForecasterRecursiveMultiSeries_fit_series_is_dataframe_no_exog",
           "aa35b8ba0c0839021a95e5ba0786a67e",
           0.8539411977320687,
           "2025-04-23T13:41:49.804019",
           "3.12.9",
           "2.2.5",
           "2.2.3",
           "1.6.1",
           "4.6.0",
           "Linux-6.11.0-21-generic-x86_64-with-glibc2.39",
           "x86_64",
           8,
           16.64
          ],
          [
           "ForecasterRecursiveMultiSeries",
           "LGBMRegressor",
           "ForecasterRecursiveMultiSeries_fit_series_is_dataframe_no_exog",
           "aa35b8ba0c0839021a95e5ba0786a67e",
           0.5826139257485371,
           "2025-04-23T13:45:41.878341",
           "3.12.9",
           "2.2.5",
           "2.2.3",
           "1.6.1",
           "4.6.0",
           "Linux-6.11.0-21-generic-x86_64-with-glibc2.39",
           "x86_64",
           8,
           16.64
          ]
         ],
         "fillcolor": "rgba(255,255,255,0)",
         "hoveron": "points",
         "hovertemplate": "skforecast_version=%{x}<br>run_time_avg=%{y}<br>forecaster_name=%{customdata[0]}<br>regressor_name=%{customdata[1]}<br>function_name=%{customdata[2]}<br>function_hash=%{customdata[3]}<br>run_time_std_dev=%{customdata[4]}<br>datetime=%{customdata[5]}<br>python_version=%{customdata[6]}<br>numpy_version=%{customdata[7]}<br>pandas_version=%{customdata[8]}<br>sklearn_version=%{customdata[9]}<br>lightgbm_version=%{customdata[10]}<br>platform=%{customdata[11]}<br>processor=%{customdata[12]}<br>cpu_count=%{customdata[13]}<br>memory_gb=%{customdata[14]}<extra></extra>",
         "jitter": true,
         "legendgroup": "0.16.0",
         "line": {
          "color": "rgba(255,255,255,0)"
         },
         "marker": {
          "color": "#00cc96",
          "opacity": 0.7,
          "size": 10
         },
         "name": "0.16.0",
         "offsetgroup": "0.16.0",
         "orientation": "v",
         "pointpos": 0,
         "showlegend": true,
         "type": "box",
         "x": [
          "0.16.0",
          "0.16.0",
          "0.16.0",
          "0.16.0",
          "0.16.0",
          "0.16.0",
          "0.16.0",
          "0.16.0",
          "0.16.0"
         ],
         "x0": " ",
         "xaxis": "x",
         "y": {
          "bdata": "M/YcHJnFMUAzWmppYDAxQGY2IgX/ji9AUNZ8B4kjMkA65ZIpbSMxQOaqn1RGsTNAM8eCe8ucKUBmiG/OMO4oQJpZpkwaZCtA",
          "dtype": "f8"
         },
         "y0": " ",
         "yaxis": "y"
        },
        {
         "line": {
          "color": "black",
          "width": 2
         },
         "marker": {
          "size": 8
         },
         "mode": "lines+markers",
         "name": "Median",
         "showlegend": true,
         "type": "scatter",
         "x": [
          "0.14.0",
          "0.15.0",
          "0.16.0"
         ],
         "y": {
          "bdata": "zdr2dZQ7J0AzbKLZcAgwQDrlkiltIzFA",
          "dtype": "f8"
         }
        }
       ],
       "layout": {
        "boxmode": "overlay",
        "legend": {
         "title": {
          "text": "skforecast_version"
         },
         "tracegroupgap": 0
        },
        "margin": {
         "t": 60
        },
        "showlegend": true,
        "template": {
         "data": {
          "bar": [
           {
            "error_x": {
             "color": "#2a3f5f"
            },
            "error_y": {
             "color": "#2a3f5f"
            },
            "marker": {
             "line": {
              "color": "#E5ECF6",
              "width": 0.5
             },
             "pattern": {
              "fillmode": "overlay",
              "size": 10,
              "solidity": 0.2
             }
            },
            "type": "bar"
           }
          ],
          "barpolar": [
           {
            "marker": {
             "line": {
              "color": "#E5ECF6",
              "width": 0.5
             },
             "pattern": {
              "fillmode": "overlay",
              "size": 10,
              "solidity": 0.2
             }
            },
            "type": "barpolar"
           }
          ],
          "carpet": [
           {
            "aaxis": {
             "endlinecolor": "#2a3f5f",
             "gridcolor": "white",
             "linecolor": "white",
             "minorgridcolor": "white",
             "startlinecolor": "#2a3f5f"
            },
            "baxis": {
             "endlinecolor": "#2a3f5f",
             "gridcolor": "white",
             "linecolor": "white",
             "minorgridcolor": "white",
             "startlinecolor": "#2a3f5f"
            },
            "type": "carpet"
           }
          ],
          "choropleth": [
           {
            "colorbar": {
             "outlinewidth": 0,
             "ticks": ""
            },
            "type": "choropleth"
           }
          ],
          "contour": [
           {
            "colorbar": {
             "outlinewidth": 0,
             "ticks": ""
            },
            "colorscale": [
             [
              0,
              "#0d0887"
             ],
             [
              0.1111111111111111,
              "#46039f"
             ],
             [
              0.2222222222222222,
              "#7201a8"
             ],
             [
              0.3333333333333333,
              "#9c179e"
             ],
             [
              0.4444444444444444,
              "#bd3786"
             ],
             [
              0.5555555555555556,
              "#d8576b"
             ],
             [
              0.6666666666666666,
              "#ed7953"
             ],
             [
              0.7777777777777778,
              "#fb9f3a"
             ],
             [
              0.8888888888888888,
              "#fdca26"
             ],
             [
              1,
              "#f0f921"
             ]
            ],
            "type": "contour"
           }
          ],
          "contourcarpet": [
           {
            "colorbar": {
             "outlinewidth": 0,
             "ticks": ""
            },
            "type": "contourcarpet"
           }
          ],
          "heatmap": [
           {
            "colorbar": {
             "outlinewidth": 0,
             "ticks": ""
            },
            "colorscale": [
             [
              0,
              "#0d0887"
             ],
             [
              0.1111111111111111,
              "#46039f"
             ],
             [
              0.2222222222222222,
              "#7201a8"
             ],
             [
              0.3333333333333333,
              "#9c179e"
             ],
             [
              0.4444444444444444,
              "#bd3786"
             ],
             [
              0.5555555555555556,
              "#d8576b"
             ],
             [
              0.6666666666666666,
              "#ed7953"
             ],
             [
              0.7777777777777778,
              "#fb9f3a"
             ],
             [
              0.8888888888888888,
              "#fdca26"
             ],
             [
              1,
              "#f0f921"
             ]
            ],
            "type": "heatmap"
           }
          ],
          "histogram": [
           {
            "marker": {
             "pattern": {
              "fillmode": "overlay",
              "size": 10,
              "solidity": 0.2
             }
            },
            "type": "histogram"
           }
          ],
          "histogram2d": [
           {
            "colorbar": {
             "outlinewidth": 0,
             "ticks": ""
            },
            "colorscale": [
             [
              0,
              "#0d0887"
             ],
             [
              0.1111111111111111,
              "#46039f"
             ],
             [
              0.2222222222222222,
              "#7201a8"
             ],
             [
              0.3333333333333333,
              "#9c179e"
             ],
             [
              0.4444444444444444,
              "#bd3786"
             ],
             [
              0.5555555555555556,
              "#d8576b"
             ],
             [
              0.6666666666666666,
              "#ed7953"
             ],
             [
              0.7777777777777778,
              "#fb9f3a"
             ],
             [
              0.8888888888888888,
              "#fdca26"
             ],
             [
              1,
              "#f0f921"
             ]
            ],
            "type": "histogram2d"
           }
          ],
          "histogram2dcontour": [
           {
            "colorbar": {
             "outlinewidth": 0,
             "ticks": ""
            },
            "colorscale": [
             [
              0,
              "#0d0887"
             ],
             [
              0.1111111111111111,
              "#46039f"
             ],
             [
              0.2222222222222222,
              "#7201a8"
             ],
             [
              0.3333333333333333,
              "#9c179e"
             ],
             [
              0.4444444444444444,
              "#bd3786"
             ],
             [
              0.5555555555555556,
              "#d8576b"
             ],
             [
              0.6666666666666666,
              "#ed7953"
             ],
             [
              0.7777777777777778,
              "#fb9f3a"
             ],
             [
              0.8888888888888888,
              "#fdca26"
             ],
             [
              1,
              "#f0f921"
             ]
            ],
            "type": "histogram2dcontour"
           }
          ],
          "mesh3d": [
           {
            "colorbar": {
             "outlinewidth": 0,
             "ticks": ""
            },
            "type": "mesh3d"
           }
          ],
          "parcoords": [
           {
            "line": {
             "colorbar": {
              "outlinewidth": 0,
              "ticks": ""
             }
            },
            "type": "parcoords"
           }
          ],
          "pie": [
           {
            "automargin": true,
            "type": "pie"
           }
          ],
          "scatter": [
           {
            "fillpattern": {
             "fillmode": "overlay",
             "size": 10,
             "solidity": 0.2
            },
            "type": "scatter"
           }
          ],
          "scatter3d": [
           {
            "line": {
             "colorbar": {
              "outlinewidth": 0,
              "ticks": ""
             }
            },
            "marker": {
             "colorbar": {
              "outlinewidth": 0,
              "ticks": ""
             }
            },
            "type": "scatter3d"
           }
          ],
          "scattercarpet": [
           {
            "marker": {
             "colorbar": {
              "outlinewidth": 0,
              "ticks": ""
             }
            },
            "type": "scattercarpet"
           }
          ],
          "scattergeo": [
           {
            "marker": {
             "colorbar": {
              "outlinewidth": 0,
              "ticks": ""
             }
            },
            "type": "scattergeo"
           }
          ],
          "scattergl": [
           {
            "marker": {
             "colorbar": {
              "outlinewidth": 0,
              "ticks": ""
             }
            },
            "type": "scattergl"
           }
          ],
          "scattermap": [
           {
            "marker": {
             "colorbar": {
              "outlinewidth": 0,
              "ticks": ""
             }
            },
            "type": "scattermap"
           }
          ],
          "scattermapbox": [
           {
            "marker": {
             "colorbar": {
              "outlinewidth": 0,
              "ticks": ""
             }
            },
            "type": "scattermapbox"
           }
          ],
          "scatterpolar": [
           {
            "marker": {
             "colorbar": {
              "outlinewidth": 0,
              "ticks": ""
             }
            },
            "type": "scatterpolar"
           }
          ],
          "scatterpolargl": [
           {
            "marker": {
             "colorbar": {
              "outlinewidth": 0,
              "ticks": ""
             }
            },
            "type": "scatterpolargl"
           }
          ],
          "scatterternary": [
           {
            "marker": {
             "colorbar": {
              "outlinewidth": 0,
              "ticks": ""
             }
            },
            "type": "scatterternary"
           }
          ],
          "surface": [
           {
            "colorbar": {
             "outlinewidth": 0,
             "ticks": ""
            },
            "colorscale": [
             [
              0,
              "#0d0887"
             ],
             [
              0.1111111111111111,
              "#46039f"
             ],
             [
              0.2222222222222222,
              "#7201a8"
             ],
             [
              0.3333333333333333,
              "#9c179e"
             ],
             [
              0.4444444444444444,
              "#bd3786"
             ],
             [
              0.5555555555555556,
              "#d8576b"
             ],
             [
              0.6666666666666666,
              "#ed7953"
             ],
             [
              0.7777777777777778,
              "#fb9f3a"
             ],
             [
              0.8888888888888888,
              "#fdca26"
             ],
             [
              1,
              "#f0f921"
             ]
            ],
            "type": "surface"
           }
          ],
          "table": [
           {
            "cells": {
             "fill": {
              "color": "#EBF0F8"
             },
             "line": {
              "color": "white"
             }
            },
            "header": {
             "fill": {
              "color": "#C8D4E3"
             },
             "line": {
              "color": "white"
             }
            },
            "type": "table"
           }
          ]
         },
         "layout": {
          "annotationdefaults": {
           "arrowcolor": "#2a3f5f",
           "arrowhead": 0,
           "arrowwidth": 1
          },
          "autotypenumbers": "strict",
          "coloraxis": {
           "colorbar": {
            "outlinewidth": 0,
            "ticks": ""
           }
          },
          "colorscale": {
           "diverging": [
            [
             0,
             "#8e0152"
            ],
            [
             0.1,
             "#c51b7d"
            ],
            [
             0.2,
             "#de77ae"
            ],
            [
             0.3,
             "#f1b6da"
            ],
            [
             0.4,
             "#fde0ef"
            ],
            [
             0.5,
             "#f7f7f7"
            ],
            [
             0.6,
             "#e6f5d0"
            ],
            [
             0.7,
             "#b8e186"
            ],
            [
             0.8,
             "#7fbc41"
            ],
            [
             0.9,
             "#4d9221"
            ],
            [
             1,
             "#276419"
            ]
           ],
           "sequential": [
            [
             0,
             "#0d0887"
            ],
            [
             0.1111111111111111,
             "#46039f"
            ],
            [
             0.2222222222222222,
             "#7201a8"
            ],
            [
             0.3333333333333333,
             "#9c179e"
            ],
            [
             0.4444444444444444,
             "#bd3786"
            ],
            [
             0.5555555555555556,
             "#d8576b"
            ],
            [
             0.6666666666666666,
             "#ed7953"
            ],
            [
             0.7777777777777778,
             "#fb9f3a"
            ],
            [
             0.8888888888888888,
             "#fdca26"
            ],
            [
             1,
             "#f0f921"
            ]
           ],
           "sequentialminus": [
            [
             0,
             "#0d0887"
            ],
            [
             0.1111111111111111,
             "#46039f"
            ],
            [
             0.2222222222222222,
             "#7201a8"
            ],
            [
             0.3333333333333333,
             "#9c179e"
            ],
            [
             0.4444444444444444,
             "#bd3786"
            ],
            [
             0.5555555555555556,
             "#d8576b"
            ],
            [
             0.6666666666666666,
             "#ed7953"
            ],
            [
             0.7777777777777778,
             "#fb9f3a"
            ],
            [
             0.8888888888888888,
             "#fdca26"
            ],
            [
             1,
             "#f0f921"
            ]
           ]
          },
          "colorway": [
           "#636efa",
           "#EF553B",
           "#00cc96",
           "#ab63fa",
           "#FFA15A",
           "#19d3f3",
           "#FF6692",
           "#B6E880",
           "#FF97FF",
           "#FECB52"
          ],
          "font": {
           "color": "#2a3f5f"
          },
          "geo": {
           "bgcolor": "white",
           "lakecolor": "white",
           "landcolor": "#E5ECF6",
           "showlakes": true,
           "showland": true,
           "subunitcolor": "white"
          },
          "hoverlabel": {
           "align": "left"
          },
          "hovermode": "closest",
          "mapbox": {
           "style": "light"
          },
          "paper_bgcolor": "white",
          "plot_bgcolor": "#E5ECF6",
          "polar": {
           "angularaxis": {
            "gridcolor": "white",
            "linecolor": "white",
            "ticks": ""
           },
           "bgcolor": "#E5ECF6",
           "radialaxis": {
            "gridcolor": "white",
            "linecolor": "white",
            "ticks": ""
           }
          },
          "scene": {
           "xaxis": {
            "backgroundcolor": "#E5ECF6",
            "gridcolor": "white",
            "gridwidth": 2,
            "linecolor": "white",
            "showbackground": true,
            "ticks": "",
            "zerolinecolor": "white"
           },
           "yaxis": {
            "backgroundcolor": "#E5ECF6",
            "gridcolor": "white",
            "gridwidth": 2,
            "linecolor": "white",
            "showbackground": true,
            "ticks": "",
            "zerolinecolor": "white"
           },
           "zaxis": {
            "backgroundcolor": "#E5ECF6",
            "gridcolor": "white",
            "gridwidth": 2,
            "linecolor": "white",
            "showbackground": true,
            "ticks": "",
            "zerolinecolor": "white"
           }
          },
          "shapedefaults": {
           "line": {
            "color": "#2a3f5f"
           }
          },
          "ternary": {
           "aaxis": {
            "gridcolor": "white",
            "linecolor": "white",
            "ticks": ""
           },
           "baxis": {
            "gridcolor": "white",
            "linecolor": "white",
            "ticks": ""
           },
           "bgcolor": "#E5ECF6",
           "caxis": {
            "gridcolor": "white",
            "linecolor": "white",
            "ticks": ""
           }
          },
          "title": {
           "x": 0.05
          },
          "xaxis": {
           "automargin": true,
           "gridcolor": "white",
           "linecolor": "white",
           "ticks": "",
           "title": {
            "standoff": 15
           },
           "zerolinecolor": "white",
           "zerolinewidth": 2
          },
          "yaxis": {
           "automargin": true,
           "gridcolor": "white",
           "linecolor": "white",
           "ticks": "",
           "title": {
            "standoff": 15
           },
           "zerolinecolor": "white",
           "zerolinewidth": 2
          }
         }
        },
        "title": {
         "text": "Execution time of ForecasterRecursiveMultiSeries_fit_series_is_dataframe_no_exog"
        },
        "xaxis": {
         "anchor": "y",
         "categoryarray": [
          "0.14.0",
          "0.15.0",
          "0.16.0"
         ],
         "categoryorder": "array",
         "domain": [
          0,
          1
         ],
         "title": {
          "text": "skforecast version"
         }
        },
        "yaxis": {
         "anchor": "x",
         "domain": [
          0,
          1
         ],
         "title": {
          "text": "Execution time (seconds)"
         }
        }
       }
      }
     },
     "metadata": {},
     "output_type": "display_data"
    },
    {
     "data": {
      "application/vnd.microsoft.datawrangler.viewer.v0+json": {
       "columns": [
        {
         "name": "index",
         "rawType": "int64",
         "type": "integer"
        },
        {
         "name": "forecaster_name",
         "rawType": "object",
         "type": "string"
        },
        {
         "name": "regressor_name",
         "rawType": "object",
         "type": "string"
        },
        {
         "name": "function_name",
         "rawType": "object",
         "type": "string"
        },
        {
         "name": "function_hash",
         "rawType": "object",
         "type": "string"
        },
        {
         "name": "run_time_avg",
         "rawType": "float64",
         "type": "float"
        },
        {
         "name": "run_time_std_dev",
         "rawType": "float64",
         "type": "float"
        },
        {
         "name": "datetime",
         "rawType": "datetime64[ns]",
         "type": "datetime"
        },
        {
         "name": "python_version",
         "rawType": "object",
         "type": "string"
        },
        {
         "name": "skforecast_version",
         "rawType": "object",
         "type": "string"
        },
        {
         "name": "numpy_version",
         "rawType": "object",
         "type": "string"
        },
        {
         "name": "pandas_version",
         "rawType": "object",
         "type": "string"
        },
        {
         "name": "sklearn_version",
         "rawType": "object",
         "type": "string"
        },
        {
         "name": "lightgbm_version",
         "rawType": "object",
         "type": "string"
        },
        {
         "name": "platform",
         "rawType": "object",
         "type": "string"
        },
        {
         "name": "processor",
         "rawType": "object",
         "type": "string"
        },
        {
         "name": "cpu_count",
         "rawType": "int64",
         "type": "integer"
        },
        {
         "name": "memory_gb",
         "rawType": "float64",
         "type": "float"
        }
       ],
       "conversionMethod": "pd.DataFrame",
       "ref": "bf4553ea-de48-4da4-8e36-eccc8316cd5e",
       "rows": [
        [
         "19",
         "ForecasterRecursiveMultiSeries",
         "LGBMRegressor",
         "ForecasterRecursiveMultiSeries__create_train_X_y_series_is_dataframe_no_exog",
         "7b994fdfa33ce4a2084e303d3f49c934",
         "1.6003170882000632",
         "0.08097839304216271",
         "2025-04-22 21:23:38.727510",
         "3.12.9",
         "0.14.0",
         "1.26.4",
         "2.2.3",
         "1.4.2",
         "4.6.0",
         "Linux-6.11.0-21-generic-x86_64-with-glibc2.39",
         "x86_64",
         "8",
         "16.64"
        ],
        [
         "39",
         "ForecasterRecursiveMultiSeries",
         "LGBMRegressor",
         "ForecasterRecursiveMultiSeries__create_train_X_y_series_is_dataframe_no_exog",
         "7b994fdfa33ce4a2084e303d3f49c934",
         "1.7866748376000943",
         "0.19624230066273224",
         "2025-04-22 21:30:19.848705",
         "3.12.9",
         "0.14.0",
         "1.26.4",
         "2.2.3",
         "1.4.2",
         "4.6.0",
         "Linux-6.11.0-21-generic-x86_64-with-glibc2.39",
         "x86_64",
         "8",
         "16.64"
        ],
        [
         "51",
         "ForecasterRecursiveMultiSeries",
         "LGBMRegressor",
         "ForecasterRecursiveMultiSeries__create_train_X_y_series_is_dataframe_no_exog",
         "7b994fdfa33ce4a2084e303d3f49c934",
         "1.88840058020005",
         "0.1057559888971241",
         "2025-04-22 21:34:41.475870",
         "3.12.9",
         "0.15.0",
         "1.26.4",
         "2.2.3",
         "1.4.2",
         "4.6.0",
         "Linux-6.11.0-21-generic-x86_64-with-glibc2.39",
         "x86_64",
         "8",
         "16.64"
        ],
        [
         "63",
         "ForecasterRecursiveMultiSeries",
         "LGBMRegressor",
         "ForecasterRecursiveMultiSeries__create_train_X_y_series_is_dataframe_no_exog",
         "7b994fdfa33ce4a2084e303d3f49c934",
         "1.7526817702002517",
         "0.053015083169741205",
         "2025-04-22 21:45:40.484984",
         "3.12.9",
         "0.15.0",
         "2.2.5",
         "2.2.3",
         "1.6.1",
         "4.6.0",
         "Linux-6.11.0-21-generic-x86_64-with-glibc2.39",
         "x86_64",
         "8",
         "16.64"
        ],
        [
         "75",
         "ForecasterRecursiveMultiSeries",
         "LGBMRegressor",
         "ForecasterRecursiveMultiSeries__create_train_X_y_series_is_dataframe_no_exog",
         "7b994fdfa33ce4a2084e303d3f49c934",
         "1.6090840886001387",
         "0.07354460962402724",
         "2025-04-22 21:55:41.098437",
         "3.12.9",
         "0.16.0",
         "2.2.5",
         "2.2.3",
         "1.6.1",
         "4.6.0",
         "Linux-6.11.0-21-generic-x86_64-with-glibc2.39",
         "x86_64",
         "8",
         "16.64"
        ],
        [
         "87",
         "ForecasterRecursiveMultiSeries",
         "LGBMRegressor",
         "ForecasterRecursiveMultiSeries__create_train_X_y_series_is_dataframe_no_exog",
         "7b994fdfa33ce4a2084e303d3f49c934",
         "1.7584317877999638",
         "0.22805738465016787",
         "2025-04-22 22:10:22.654278",
         "3.12.9",
         "0.16.0",
         "1.26.4",
         "2.2.3",
         "1.6.1",
         "4.6.0",
         "Linux-6.11.0-21-generic-x86_64-with-glibc2.39",
         "x86_64",
         "8",
         "16.64"
        ],
        [
         "123",
         "ForecasterRecursiveMultiSeries",
         "LGBMRegressor",
         "ForecasterRecursiveMultiSeries__create_train_X_y_series_is_dataframe_no_exog",
         "7b994fdfa33ce4a2084e303d3f49c934",
         "1.979897228199843",
         "0.09408600038119325",
         "2025-04-22 22:44:58.886345",
         "3.12.9",
         "0.15.0",
         "1.26.4",
         "2.2.3",
         "1.4.2",
         "4.6.0",
         "Linux-6.11.0-21-generic-x86_64-with-glibc2.39",
         "x86_64",
         "8",
         "16.64"
        ],
        [
         "135",
         "ForecasterRecursiveMultiSeries",
         "LGBMRegressor",
         "ForecasterRecursiveMultiSeries__create_train_X_y_series_is_dataframe_no_exog",
         "7b994fdfa33ce4a2084e303d3f49c934",
         "1.5202780317998985",
         "0.041948473174450655",
         "2025-04-22 22:53:03.168299",
         "3.12.9",
         "0.16.0",
         "1.26.4",
         "2.2.3",
         "1.4.2",
         "4.6.0",
         "Linux-6.11.0-21-generic-x86_64-with-glibc2.39",
         "x86_64",
         "8",
         "16.64"
        ],
        [
         "171",
         "ForecasterRecursiveMultiSeries",
         "LGBMRegressor",
         "ForecasterRecursiveMultiSeries__create_train_X_y_series_is_dataframe_no_exog",
         "7b994fdfa33ce4a2084e303d3f49c934",
         "1.9020760413999938",
         "0.18749440811257273",
         "2025-04-23 09:56:47.137352",
         "3.12.9",
         "0.16.0",
         "1.26.4",
         "2.2.3",
         "1.4.2",
         "4.6.0",
         "Linux-6.11.0-21-generic-x86_64-with-glibc2.39",
         "x86_64",
         "8",
         "16.64"
        ],
        [
         "183",
         "ForecasterRecursiveMultiSeries",
         "LGBMRegressor",
         "ForecasterRecursiveMultiSeries__create_train_X_y_series_is_dataframe_no_exog",
         "7b994fdfa33ce4a2084e303d3f49c934",
         "1.7642009346000123",
         "0.2820176376975396",
         "2025-04-23 10:01:55.801746",
         "3.12.9",
         "0.16.0",
         "2.2.5",
         "2.2.3",
         "1.6.1",
         "4.6.0",
         "Linux-6.11.0-21-generic-x86_64-with-glibc2.39",
         "x86_64",
         "8",
         "16.64"
        ],
        [
         "195",
         "ForecasterRecursiveMultiSeries",
         "LGBMRegressor",
         "ForecasterRecursiveMultiSeries__create_train_X_y_series_is_dataframe_no_exog",
         "7b994fdfa33ce4a2084e303d3f49c934",
         "2.068097351799861",
         "0.22569136426735736",
         "2025-04-23 10:25:09.727924",
         "3.12.9",
         "0.16.0",
         "2.2.5",
         "2.2.3",
         "1.6.1",
         "4.6.0",
         "Linux-6.11.0-21-generic-x86_64-with-glibc2.39",
         "x86_64",
         "8",
         "16.64"
        ],
        [
         "207",
         "ForecasterRecursiveMultiSeries",
         "LGBMRegressor",
         "ForecasterRecursiveMultiSeries__create_train_X_y_series_is_dataframe_no_exog",
         "7b994fdfa33ce4a2084e303d3f49c934",
         "1.2404055554001387",
         "0.02689685725668873",
         "2025-04-23 13:38:28.494331",
         "3.12.9",
         "0.16.0",
         "2.2.5",
         "2.2.3",
         "1.6.1",
         "4.6.0",
         "Linux-6.11.0-21-generic-x86_64-with-glibc2.39",
         "x86_64",
         "8",
         "16.64"
        ],
        [
         "219",
         "ForecasterRecursiveMultiSeries",
         "LGBMRegressor",
         "ForecasterRecursiveMultiSeries__create_train_X_y_series_is_dataframe_no_exog",
         "7b994fdfa33ce4a2084e303d3f49c934",
         "1.2008905233997211",
         "0.0845122827682092",
         "2025-04-23 13:42:52.156230",
         "3.12.9",
         "0.16.0",
         "2.2.5",
         "2.2.3",
         "1.6.1",
         "4.6.0",
         "Linux-6.11.0-21-generic-x86_64-with-glibc2.39",
         "x86_64",
         "8",
         "16.64"
        ],
        [
         "231",
         "ForecasterRecursiveMultiSeries",
         "LGBMRegressor",
         "ForecasterRecursiveMultiSeries__create_train_X_y_series_is_dataframe_no_exog",
         "7b994fdfa33ce4a2084e303d3f49c934",
         "1.370553001999906",
         "0.09365572500609225",
         "2025-04-23 13:46:50.360957",
         "3.12.9",
         "0.16.0",
         "2.2.5",
         "2.2.3",
         "1.6.1",
         "4.6.0",
         "Linux-6.11.0-21-generic-x86_64-with-glibc2.39",
         "x86_64",
         "8",
         "16.64"
        ]
       ],
       "shape": {
        "columns": 17,
        "rows": 14
       }
      },
      "text/html": [
       "<div>\n",
       "<style scoped>\n",
       "    .dataframe tbody tr th:only-of-type {\n",
       "        vertical-align: middle;\n",
       "    }\n",
       "\n",
       "    .dataframe tbody tr th {\n",
       "        vertical-align: top;\n",
       "    }\n",
       "\n",
       "    .dataframe thead th {\n",
       "        text-align: right;\n",
       "    }\n",
       "</style>\n",
       "<table border=\"1\" class=\"dataframe\">\n",
       "  <thead>\n",
       "    <tr style=\"text-align: right;\">\n",
       "      <th></th>\n",
       "      <th>forecaster_name</th>\n",
       "      <th>regressor_name</th>\n",
       "      <th>function_name</th>\n",
       "      <th>function_hash</th>\n",
       "      <th>run_time_avg</th>\n",
       "      <th>run_time_std_dev</th>\n",
       "      <th>datetime</th>\n",
       "      <th>python_version</th>\n",
       "      <th>skforecast_version</th>\n",
       "      <th>numpy_version</th>\n",
       "      <th>pandas_version</th>\n",
       "      <th>sklearn_version</th>\n",
       "      <th>lightgbm_version</th>\n",
       "      <th>platform</th>\n",
       "      <th>processor</th>\n",
       "      <th>cpu_count</th>\n",
       "      <th>memory_gb</th>\n",
       "    </tr>\n",
       "  </thead>\n",
       "  <tbody>\n",
       "    <tr>\n",
       "      <th>19</th>\n",
       "      <td>ForecasterRecursiveMultiSeries</td>\n",
       "      <td>LGBMRegressor</td>\n",
       "      <td>ForecasterRecursiveMultiSeries__create_train_X...</td>\n",
       "      <td>7b994fdfa33ce4a2084e303d3f49c934</td>\n",
       "      <td>1.600317</td>\n",
       "      <td>0.080978</td>\n",
       "      <td>2025-04-22 21:23:38.727510</td>\n",
       "      <td>3.12.9</td>\n",
       "      <td>0.14.0</td>\n",
       "      <td>1.26.4</td>\n",
       "      <td>2.2.3</td>\n",
       "      <td>1.4.2</td>\n",
       "      <td>4.6.0</td>\n",
       "      <td>Linux-6.11.0-21-generic-x86_64-with-glibc2.39</td>\n",
       "      <td>x86_64</td>\n",
       "      <td>8</td>\n",
       "      <td>16.64</td>\n",
       "    </tr>\n",
       "    <tr>\n",
       "      <th>39</th>\n",
       "      <td>ForecasterRecursiveMultiSeries</td>\n",
       "      <td>LGBMRegressor</td>\n",
       "      <td>ForecasterRecursiveMultiSeries__create_train_X...</td>\n",
       "      <td>7b994fdfa33ce4a2084e303d3f49c934</td>\n",
       "      <td>1.786675</td>\n",
       "      <td>0.196242</td>\n",
       "      <td>2025-04-22 21:30:19.848705</td>\n",
       "      <td>3.12.9</td>\n",
       "      <td>0.14.0</td>\n",
       "      <td>1.26.4</td>\n",
       "      <td>2.2.3</td>\n",
       "      <td>1.4.2</td>\n",
       "      <td>4.6.0</td>\n",
       "      <td>Linux-6.11.0-21-generic-x86_64-with-glibc2.39</td>\n",
       "      <td>x86_64</td>\n",
       "      <td>8</td>\n",
       "      <td>16.64</td>\n",
       "    </tr>\n",
       "    <tr>\n",
       "      <th>51</th>\n",
       "      <td>ForecasterRecursiveMultiSeries</td>\n",
       "      <td>LGBMRegressor</td>\n",
       "      <td>ForecasterRecursiveMultiSeries__create_train_X...</td>\n",
       "      <td>7b994fdfa33ce4a2084e303d3f49c934</td>\n",
       "      <td>1.888401</td>\n",
       "      <td>0.105756</td>\n",
       "      <td>2025-04-22 21:34:41.475870</td>\n",
       "      <td>3.12.9</td>\n",
       "      <td>0.15.0</td>\n",
       "      <td>1.26.4</td>\n",
       "      <td>2.2.3</td>\n",
       "      <td>1.4.2</td>\n",
       "      <td>4.6.0</td>\n",
       "      <td>Linux-6.11.0-21-generic-x86_64-with-glibc2.39</td>\n",
       "      <td>x86_64</td>\n",
       "      <td>8</td>\n",
       "      <td>16.64</td>\n",
       "    </tr>\n",
       "    <tr>\n",
       "      <th>63</th>\n",
       "      <td>ForecasterRecursiveMultiSeries</td>\n",
       "      <td>LGBMRegressor</td>\n",
       "      <td>ForecasterRecursiveMultiSeries__create_train_X...</td>\n",
       "      <td>7b994fdfa33ce4a2084e303d3f49c934</td>\n",
       "      <td>1.752682</td>\n",
       "      <td>0.053015</td>\n",
       "      <td>2025-04-22 21:45:40.484984</td>\n",
       "      <td>3.12.9</td>\n",
       "      <td>0.15.0</td>\n",
       "      <td>2.2.5</td>\n",
       "      <td>2.2.3</td>\n",
       "      <td>1.6.1</td>\n",
       "      <td>4.6.0</td>\n",
       "      <td>Linux-6.11.0-21-generic-x86_64-with-glibc2.39</td>\n",
       "      <td>x86_64</td>\n",
       "      <td>8</td>\n",
       "      <td>16.64</td>\n",
       "    </tr>\n",
       "    <tr>\n",
       "      <th>75</th>\n",
       "      <td>ForecasterRecursiveMultiSeries</td>\n",
       "      <td>LGBMRegressor</td>\n",
       "      <td>ForecasterRecursiveMultiSeries__create_train_X...</td>\n",
       "      <td>7b994fdfa33ce4a2084e303d3f49c934</td>\n",
       "      <td>1.609084</td>\n",
       "      <td>0.073545</td>\n",
       "      <td>2025-04-22 21:55:41.098437</td>\n",
       "      <td>3.12.9</td>\n",
       "      <td>0.16.0</td>\n",
       "      <td>2.2.5</td>\n",
       "      <td>2.2.3</td>\n",
       "      <td>1.6.1</td>\n",
       "      <td>4.6.0</td>\n",
       "      <td>Linux-6.11.0-21-generic-x86_64-with-glibc2.39</td>\n",
       "      <td>x86_64</td>\n",
       "      <td>8</td>\n",
       "      <td>16.64</td>\n",
       "    </tr>\n",
       "    <tr>\n",
       "      <th>87</th>\n",
       "      <td>ForecasterRecursiveMultiSeries</td>\n",
       "      <td>LGBMRegressor</td>\n",
       "      <td>ForecasterRecursiveMultiSeries__create_train_X...</td>\n",
       "      <td>7b994fdfa33ce4a2084e303d3f49c934</td>\n",
       "      <td>1.758432</td>\n",
       "      <td>0.228057</td>\n",
       "      <td>2025-04-22 22:10:22.654278</td>\n",
       "      <td>3.12.9</td>\n",
       "      <td>0.16.0</td>\n",
       "      <td>1.26.4</td>\n",
       "      <td>2.2.3</td>\n",
       "      <td>1.6.1</td>\n",
       "      <td>4.6.0</td>\n",
       "      <td>Linux-6.11.0-21-generic-x86_64-with-glibc2.39</td>\n",
       "      <td>x86_64</td>\n",
       "      <td>8</td>\n",
       "      <td>16.64</td>\n",
       "    </tr>\n",
       "    <tr>\n",
       "      <th>123</th>\n",
       "      <td>ForecasterRecursiveMultiSeries</td>\n",
       "      <td>LGBMRegressor</td>\n",
       "      <td>ForecasterRecursiveMultiSeries__create_train_X...</td>\n",
       "      <td>7b994fdfa33ce4a2084e303d3f49c934</td>\n",
       "      <td>1.979897</td>\n",
       "      <td>0.094086</td>\n",
       "      <td>2025-04-22 22:44:58.886345</td>\n",
       "      <td>3.12.9</td>\n",
       "      <td>0.15.0</td>\n",
       "      <td>1.26.4</td>\n",
       "      <td>2.2.3</td>\n",
       "      <td>1.4.2</td>\n",
       "      <td>4.6.0</td>\n",
       "      <td>Linux-6.11.0-21-generic-x86_64-with-glibc2.39</td>\n",
       "      <td>x86_64</td>\n",
       "      <td>8</td>\n",
       "      <td>16.64</td>\n",
       "    </tr>\n",
       "    <tr>\n",
       "      <th>135</th>\n",
       "      <td>ForecasterRecursiveMultiSeries</td>\n",
       "      <td>LGBMRegressor</td>\n",
       "      <td>ForecasterRecursiveMultiSeries__create_train_X...</td>\n",
       "      <td>7b994fdfa33ce4a2084e303d3f49c934</td>\n",
       "      <td>1.520278</td>\n",
       "      <td>0.041948</td>\n",
       "      <td>2025-04-22 22:53:03.168299</td>\n",
       "      <td>3.12.9</td>\n",
       "      <td>0.16.0</td>\n",
       "      <td>1.26.4</td>\n",
       "      <td>2.2.3</td>\n",
       "      <td>1.4.2</td>\n",
       "      <td>4.6.0</td>\n",
       "      <td>Linux-6.11.0-21-generic-x86_64-with-glibc2.39</td>\n",
       "      <td>x86_64</td>\n",
       "      <td>8</td>\n",
       "      <td>16.64</td>\n",
       "    </tr>\n",
       "    <tr>\n",
       "      <th>171</th>\n",
       "      <td>ForecasterRecursiveMultiSeries</td>\n",
       "      <td>LGBMRegressor</td>\n",
       "      <td>ForecasterRecursiveMultiSeries__create_train_X...</td>\n",
       "      <td>7b994fdfa33ce4a2084e303d3f49c934</td>\n",
       "      <td>1.902076</td>\n",
       "      <td>0.187494</td>\n",
       "      <td>2025-04-23 09:56:47.137352</td>\n",
       "      <td>3.12.9</td>\n",
       "      <td>0.16.0</td>\n",
       "      <td>1.26.4</td>\n",
       "      <td>2.2.3</td>\n",
       "      <td>1.4.2</td>\n",
       "      <td>4.6.0</td>\n",
       "      <td>Linux-6.11.0-21-generic-x86_64-with-glibc2.39</td>\n",
       "      <td>x86_64</td>\n",
       "      <td>8</td>\n",
       "      <td>16.64</td>\n",
       "    </tr>\n",
       "    <tr>\n",
       "      <th>183</th>\n",
       "      <td>ForecasterRecursiveMultiSeries</td>\n",
       "      <td>LGBMRegressor</td>\n",
       "      <td>ForecasterRecursiveMultiSeries__create_train_X...</td>\n",
       "      <td>7b994fdfa33ce4a2084e303d3f49c934</td>\n",
       "      <td>1.764201</td>\n",
       "      <td>0.282018</td>\n",
       "      <td>2025-04-23 10:01:55.801746</td>\n",
       "      <td>3.12.9</td>\n",
       "      <td>0.16.0</td>\n",
       "      <td>2.2.5</td>\n",
       "      <td>2.2.3</td>\n",
       "      <td>1.6.1</td>\n",
       "      <td>4.6.0</td>\n",
       "      <td>Linux-6.11.0-21-generic-x86_64-with-glibc2.39</td>\n",
       "      <td>x86_64</td>\n",
       "      <td>8</td>\n",
       "      <td>16.64</td>\n",
       "    </tr>\n",
       "    <tr>\n",
       "      <th>195</th>\n",
       "      <td>ForecasterRecursiveMultiSeries</td>\n",
       "      <td>LGBMRegressor</td>\n",
       "      <td>ForecasterRecursiveMultiSeries__create_train_X...</td>\n",
       "      <td>7b994fdfa33ce4a2084e303d3f49c934</td>\n",
       "      <td>2.068097</td>\n",
       "      <td>0.225691</td>\n",
       "      <td>2025-04-23 10:25:09.727924</td>\n",
       "      <td>3.12.9</td>\n",
       "      <td>0.16.0</td>\n",
       "      <td>2.2.5</td>\n",
       "      <td>2.2.3</td>\n",
       "      <td>1.6.1</td>\n",
       "      <td>4.6.0</td>\n",
       "      <td>Linux-6.11.0-21-generic-x86_64-with-glibc2.39</td>\n",
       "      <td>x86_64</td>\n",
       "      <td>8</td>\n",
       "      <td>16.64</td>\n",
       "    </tr>\n",
       "    <tr>\n",
       "      <th>207</th>\n",
       "      <td>ForecasterRecursiveMultiSeries</td>\n",
       "      <td>LGBMRegressor</td>\n",
       "      <td>ForecasterRecursiveMultiSeries__create_train_X...</td>\n",
       "      <td>7b994fdfa33ce4a2084e303d3f49c934</td>\n",
       "      <td>1.240406</td>\n",
       "      <td>0.026897</td>\n",
       "      <td>2025-04-23 13:38:28.494331</td>\n",
       "      <td>3.12.9</td>\n",
       "      <td>0.16.0</td>\n",
       "      <td>2.2.5</td>\n",
       "      <td>2.2.3</td>\n",
       "      <td>1.6.1</td>\n",
       "      <td>4.6.0</td>\n",
       "      <td>Linux-6.11.0-21-generic-x86_64-with-glibc2.39</td>\n",
       "      <td>x86_64</td>\n",
       "      <td>8</td>\n",
       "      <td>16.64</td>\n",
       "    </tr>\n",
       "    <tr>\n",
       "      <th>219</th>\n",
       "      <td>ForecasterRecursiveMultiSeries</td>\n",
       "      <td>LGBMRegressor</td>\n",
       "      <td>ForecasterRecursiveMultiSeries__create_train_X...</td>\n",
       "      <td>7b994fdfa33ce4a2084e303d3f49c934</td>\n",
       "      <td>1.200891</td>\n",
       "      <td>0.084512</td>\n",
       "      <td>2025-04-23 13:42:52.156230</td>\n",
       "      <td>3.12.9</td>\n",
       "      <td>0.16.0</td>\n",
       "      <td>2.2.5</td>\n",
       "      <td>2.2.3</td>\n",
       "      <td>1.6.1</td>\n",
       "      <td>4.6.0</td>\n",
       "      <td>Linux-6.11.0-21-generic-x86_64-with-glibc2.39</td>\n",
       "      <td>x86_64</td>\n",
       "      <td>8</td>\n",
       "      <td>16.64</td>\n",
       "    </tr>\n",
       "    <tr>\n",
       "      <th>231</th>\n",
       "      <td>ForecasterRecursiveMultiSeries</td>\n",
       "      <td>LGBMRegressor</td>\n",
       "      <td>ForecasterRecursiveMultiSeries__create_train_X...</td>\n",
       "      <td>7b994fdfa33ce4a2084e303d3f49c934</td>\n",
       "      <td>1.370553</td>\n",
       "      <td>0.093656</td>\n",
       "      <td>2025-04-23 13:46:50.360957</td>\n",
       "      <td>3.12.9</td>\n",
       "      <td>0.16.0</td>\n",
       "      <td>2.2.5</td>\n",
       "      <td>2.2.3</td>\n",
       "      <td>1.6.1</td>\n",
       "      <td>4.6.0</td>\n",
       "      <td>Linux-6.11.0-21-generic-x86_64-with-glibc2.39</td>\n",
       "      <td>x86_64</td>\n",
       "      <td>8</td>\n",
       "      <td>16.64</td>\n",
       "    </tr>\n",
       "  </tbody>\n",
       "</table>\n",
       "</div>"
      ],
      "text/plain": [
       "                    forecaster_name regressor_name  \\\n",
       "19   ForecasterRecursiveMultiSeries  LGBMRegressor   \n",
       "39   ForecasterRecursiveMultiSeries  LGBMRegressor   \n",
       "51   ForecasterRecursiveMultiSeries  LGBMRegressor   \n",
       "63   ForecasterRecursiveMultiSeries  LGBMRegressor   \n",
       "75   ForecasterRecursiveMultiSeries  LGBMRegressor   \n",
       "87   ForecasterRecursiveMultiSeries  LGBMRegressor   \n",
       "123  ForecasterRecursiveMultiSeries  LGBMRegressor   \n",
       "135  ForecasterRecursiveMultiSeries  LGBMRegressor   \n",
       "171  ForecasterRecursiveMultiSeries  LGBMRegressor   \n",
       "183  ForecasterRecursiveMultiSeries  LGBMRegressor   \n",
       "195  ForecasterRecursiveMultiSeries  LGBMRegressor   \n",
       "207  ForecasterRecursiveMultiSeries  LGBMRegressor   \n",
       "219  ForecasterRecursiveMultiSeries  LGBMRegressor   \n",
       "231  ForecasterRecursiveMultiSeries  LGBMRegressor   \n",
       "\n",
       "                                         function_name  \\\n",
       "19   ForecasterRecursiveMultiSeries__create_train_X...   \n",
       "39   ForecasterRecursiveMultiSeries__create_train_X...   \n",
       "51   ForecasterRecursiveMultiSeries__create_train_X...   \n",
       "63   ForecasterRecursiveMultiSeries__create_train_X...   \n",
       "75   ForecasterRecursiveMultiSeries__create_train_X...   \n",
       "87   ForecasterRecursiveMultiSeries__create_train_X...   \n",
       "123  ForecasterRecursiveMultiSeries__create_train_X...   \n",
       "135  ForecasterRecursiveMultiSeries__create_train_X...   \n",
       "171  ForecasterRecursiveMultiSeries__create_train_X...   \n",
       "183  ForecasterRecursiveMultiSeries__create_train_X...   \n",
       "195  ForecasterRecursiveMultiSeries__create_train_X...   \n",
       "207  ForecasterRecursiveMultiSeries__create_train_X...   \n",
       "219  ForecasterRecursiveMultiSeries__create_train_X...   \n",
       "231  ForecasterRecursiveMultiSeries__create_train_X...   \n",
       "\n",
       "                        function_hash  run_time_avg  run_time_std_dev  \\\n",
       "19   7b994fdfa33ce4a2084e303d3f49c934      1.600317          0.080978   \n",
       "39   7b994fdfa33ce4a2084e303d3f49c934      1.786675          0.196242   \n",
       "51   7b994fdfa33ce4a2084e303d3f49c934      1.888401          0.105756   \n",
       "63   7b994fdfa33ce4a2084e303d3f49c934      1.752682          0.053015   \n",
       "75   7b994fdfa33ce4a2084e303d3f49c934      1.609084          0.073545   \n",
       "87   7b994fdfa33ce4a2084e303d3f49c934      1.758432          0.228057   \n",
       "123  7b994fdfa33ce4a2084e303d3f49c934      1.979897          0.094086   \n",
       "135  7b994fdfa33ce4a2084e303d3f49c934      1.520278          0.041948   \n",
       "171  7b994fdfa33ce4a2084e303d3f49c934      1.902076          0.187494   \n",
       "183  7b994fdfa33ce4a2084e303d3f49c934      1.764201          0.282018   \n",
       "195  7b994fdfa33ce4a2084e303d3f49c934      2.068097          0.225691   \n",
       "207  7b994fdfa33ce4a2084e303d3f49c934      1.240406          0.026897   \n",
       "219  7b994fdfa33ce4a2084e303d3f49c934      1.200891          0.084512   \n",
       "231  7b994fdfa33ce4a2084e303d3f49c934      1.370553          0.093656   \n",
       "\n",
       "                      datetime python_version skforecast_version  \\\n",
       "19  2025-04-22 21:23:38.727510         3.12.9             0.14.0   \n",
       "39  2025-04-22 21:30:19.848705         3.12.9             0.14.0   \n",
       "51  2025-04-22 21:34:41.475870         3.12.9             0.15.0   \n",
       "63  2025-04-22 21:45:40.484984         3.12.9             0.15.0   \n",
       "75  2025-04-22 21:55:41.098437         3.12.9             0.16.0   \n",
       "87  2025-04-22 22:10:22.654278         3.12.9             0.16.0   \n",
       "123 2025-04-22 22:44:58.886345         3.12.9             0.15.0   \n",
       "135 2025-04-22 22:53:03.168299         3.12.9             0.16.0   \n",
       "171 2025-04-23 09:56:47.137352         3.12.9             0.16.0   \n",
       "183 2025-04-23 10:01:55.801746         3.12.9             0.16.0   \n",
       "195 2025-04-23 10:25:09.727924         3.12.9             0.16.0   \n",
       "207 2025-04-23 13:38:28.494331         3.12.9             0.16.0   \n",
       "219 2025-04-23 13:42:52.156230         3.12.9             0.16.0   \n",
       "231 2025-04-23 13:46:50.360957         3.12.9             0.16.0   \n",
       "\n",
       "    numpy_version pandas_version sklearn_version lightgbm_version  \\\n",
       "19         1.26.4          2.2.3           1.4.2            4.6.0   \n",
       "39         1.26.4          2.2.3           1.4.2            4.6.0   \n",
       "51         1.26.4          2.2.3           1.4.2            4.6.0   \n",
       "63          2.2.5          2.2.3           1.6.1            4.6.0   \n",
       "75          2.2.5          2.2.3           1.6.1            4.6.0   \n",
       "87         1.26.4          2.2.3           1.6.1            4.6.0   \n",
       "123        1.26.4          2.2.3           1.4.2            4.6.0   \n",
       "135        1.26.4          2.2.3           1.4.2            4.6.0   \n",
       "171        1.26.4          2.2.3           1.4.2            4.6.0   \n",
       "183         2.2.5          2.2.3           1.6.1            4.6.0   \n",
       "195         2.2.5          2.2.3           1.6.1            4.6.0   \n",
       "207         2.2.5          2.2.3           1.6.1            4.6.0   \n",
       "219         2.2.5          2.2.3           1.6.1            4.6.0   \n",
       "231         2.2.5          2.2.3           1.6.1            4.6.0   \n",
       "\n",
       "                                          platform processor  cpu_count  \\\n",
       "19   Linux-6.11.0-21-generic-x86_64-with-glibc2.39    x86_64          8   \n",
       "39   Linux-6.11.0-21-generic-x86_64-with-glibc2.39    x86_64          8   \n",
       "51   Linux-6.11.0-21-generic-x86_64-with-glibc2.39    x86_64          8   \n",
       "63   Linux-6.11.0-21-generic-x86_64-with-glibc2.39    x86_64          8   \n",
       "75   Linux-6.11.0-21-generic-x86_64-with-glibc2.39    x86_64          8   \n",
       "87   Linux-6.11.0-21-generic-x86_64-with-glibc2.39    x86_64          8   \n",
       "123  Linux-6.11.0-21-generic-x86_64-with-glibc2.39    x86_64          8   \n",
       "135  Linux-6.11.0-21-generic-x86_64-with-glibc2.39    x86_64          8   \n",
       "171  Linux-6.11.0-21-generic-x86_64-with-glibc2.39    x86_64          8   \n",
       "183  Linux-6.11.0-21-generic-x86_64-with-glibc2.39    x86_64          8   \n",
       "195  Linux-6.11.0-21-generic-x86_64-with-glibc2.39    x86_64          8   \n",
       "207  Linux-6.11.0-21-generic-x86_64-with-glibc2.39    x86_64          8   \n",
       "219  Linux-6.11.0-21-generic-x86_64-with-glibc2.39    x86_64          8   \n",
       "231  Linux-6.11.0-21-generic-x86_64-with-glibc2.39    x86_64          8   \n",
       "\n",
       "     memory_gb  \n",
       "19       16.64  \n",
       "39       16.64  \n",
       "51       16.64  \n",
       "63       16.64  \n",
       "75       16.64  \n",
       "87       16.64  \n",
       "123      16.64  \n",
       "135      16.64  \n",
       "171      16.64  \n",
       "183      16.64  \n",
       "195      16.64  \n",
       "207      16.64  \n",
       "219      16.64  \n",
       "231      16.64  "
      ]
     },
     "metadata": {},
     "output_type": "display_data"
    },
    {
     "data": {
      "application/vnd.plotly.v1+json": {
       "config": {
        "plotlyServerURL": "https://plot.ly"
       },
       "data": [
        {
         "alignmentgroup": "True",
         "boxpoints": "all",
         "customdata": [
          [
           "ForecasterRecursiveMultiSeries",
           "LGBMRegressor",
           "ForecasterRecursiveMultiSeries__create_train_X_y_series_is_dataframe_no_exog",
           "7b994fdfa33ce4a2084e303d3f49c934",
           0.08097839304216271,
           "2025-04-22T21:23:38.727510",
           "3.12.9",
           "1.26.4",
           "2.2.3",
           "1.4.2",
           "4.6.0",
           "Linux-6.11.0-21-generic-x86_64-with-glibc2.39",
           "x86_64",
           8,
           16.64
          ],
          [
           "ForecasterRecursiveMultiSeries",
           "LGBMRegressor",
           "ForecasterRecursiveMultiSeries__create_train_X_y_series_is_dataframe_no_exog",
           "7b994fdfa33ce4a2084e303d3f49c934",
           0.19624230066273224,
           "2025-04-22T21:30:19.848705",
           "3.12.9",
           "1.26.4",
           "2.2.3",
           "1.4.2",
           "4.6.0",
           "Linux-6.11.0-21-generic-x86_64-with-glibc2.39",
           "x86_64",
           8,
           16.64
          ]
         ],
         "fillcolor": "rgba(255,255,255,0)",
         "hoveron": "points",
         "hovertemplate": "skforecast_version=%{x}<br>run_time_avg=%{y}<br>forecaster_name=%{customdata[0]}<br>regressor_name=%{customdata[1]}<br>function_name=%{customdata[2]}<br>function_hash=%{customdata[3]}<br>run_time_std_dev=%{customdata[4]}<br>datetime=%{customdata[5]}<br>python_version=%{customdata[6]}<br>numpy_version=%{customdata[7]}<br>pandas_version=%{customdata[8]}<br>sklearn_version=%{customdata[9]}<br>lightgbm_version=%{customdata[10]}<br>platform=%{customdata[11]}<br>processor=%{customdata[12]}<br>cpu_count=%{customdata[13]}<br>memory_gb=%{customdata[14]}<extra></extra>",
         "jitter": true,
         "legendgroup": "0.14.0",
         "line": {
          "color": "rgba(255,255,255,0)"
         },
         "marker": {
          "color": "#636efa",
          "opacity": 0.7,
          "size": 10
         },
         "name": "0.14.0",
         "offsetgroup": "0.14.0",
         "orientation": "v",
         "pointpos": 0,
         "showlegend": true,
         "type": "box",
         "x": [
          "0.14.0",
          "0.14.0"
         ],
         "x0": " ",
         "xaxis": "x",
         "y": {
          "bdata": "mslQF+aa+T+aQcFaOJb8Pw==",
          "dtype": "f8"
         },
         "y0": " ",
         "yaxis": "y"
        },
        {
         "alignmentgroup": "True",
         "boxpoints": "all",
         "customdata": [
          [
           "ForecasterRecursiveMultiSeries",
           "LGBMRegressor",
           "ForecasterRecursiveMultiSeries__create_train_X_y_series_is_dataframe_no_exog",
           "7b994fdfa33ce4a2084e303d3f49c934",
           0.1057559888971241,
           "2025-04-22T21:34:41.475870",
           "3.12.9",
           "1.26.4",
           "2.2.3",
           "1.4.2",
           "4.6.0",
           "Linux-6.11.0-21-generic-x86_64-with-glibc2.39",
           "x86_64",
           8,
           16.64
          ],
          [
           "ForecasterRecursiveMultiSeries",
           "LGBMRegressor",
           "ForecasterRecursiveMultiSeries__create_train_X_y_series_is_dataframe_no_exog",
           "7b994fdfa33ce4a2084e303d3f49c934",
           0.053015083169741205,
           "2025-04-22T21:45:40.484984",
           "3.12.9",
           "2.2.5",
           "2.2.3",
           "1.6.1",
           "4.6.0",
           "Linux-6.11.0-21-generic-x86_64-with-glibc2.39",
           "x86_64",
           8,
           16.64
          ],
          [
           "ForecasterRecursiveMultiSeries",
           "LGBMRegressor",
           "ForecasterRecursiveMultiSeries__create_train_X_y_series_is_dataframe_no_exog",
           "7b994fdfa33ce4a2084e303d3f49c934",
           0.09408600038119325,
           "2025-04-22T22:44:58.886345",
           "3.12.9",
           "1.26.4",
           "2.2.3",
           "1.4.2",
           "4.6.0",
           "Linux-6.11.0-21-generic-x86_64-with-glibc2.39",
           "x86_64",
           8,
           16.64
          ]
         ],
         "fillcolor": "rgba(255,255,255,0)",
         "hoveron": "points",
         "hovertemplate": "skforecast_version=%{x}<br>run_time_avg=%{y}<br>forecaster_name=%{customdata[0]}<br>regressor_name=%{customdata[1]}<br>function_name=%{customdata[2]}<br>function_hash=%{customdata[3]}<br>run_time_std_dev=%{customdata[4]}<br>datetime=%{customdata[5]}<br>python_version=%{customdata[6]}<br>numpy_version=%{customdata[7]}<br>pandas_version=%{customdata[8]}<br>sklearn_version=%{customdata[9]}<br>lightgbm_version=%{customdata[10]}<br>platform=%{customdata[11]}<br>processor=%{customdata[12]}<br>cpu_count=%{customdata[13]}<br>memory_gb=%{customdata[14]}<extra></extra>",
         "jitter": true,
         "legendgroup": "0.15.0",
         "line": {
          "color": "rgba(255,255,255,0)"
         },
         "marker": {
          "color": "#EF553B",
          "opacity": 0.7,
          "size": 10
         },
         "name": "0.15.0",
         "offsetgroup": "0.15.0",
         "orientation": "v",
         "pointpos": 0,
         "showlegend": true,
         "type": "box",
         "x": [
          "0.15.0",
          "0.15.0",
          "0.15.0"
         ],
         "x0": " ",
         "xaxis": "x",
         "y": {
          "bdata": "Zk7bhuM2/j8z4zQK/Ar8PzPzSLeorf8/",
          "dtype": "f8"
         },
         "y0": " ",
         "yaxis": "y"
        },
        {
         "alignmentgroup": "True",
         "boxpoints": "all",
         "customdata": [
          [
           "ForecasterRecursiveMultiSeries",
           "LGBMRegressor",
           "ForecasterRecursiveMultiSeries__create_train_X_y_series_is_dataframe_no_exog",
           "7b994fdfa33ce4a2084e303d3f49c934",
           0.07354460962402724,
           "2025-04-22T21:55:41.098437",
           "3.12.9",
           "2.2.5",
           "2.2.3",
           "1.6.1",
           "4.6.0",
           "Linux-6.11.0-21-generic-x86_64-with-glibc2.39",
           "x86_64",
           8,
           16.64
          ],
          [
           "ForecasterRecursiveMultiSeries",
           "LGBMRegressor",
           "ForecasterRecursiveMultiSeries__create_train_X_y_series_is_dataframe_no_exog",
           "7b994fdfa33ce4a2084e303d3f49c934",
           0.22805738465016787,
           "2025-04-22T22:10:22.654278",
           "3.12.9",
           "1.26.4",
           "2.2.3",
           "1.6.1",
           "4.6.0",
           "Linux-6.11.0-21-generic-x86_64-with-glibc2.39",
           "x86_64",
           8,
           16.64
          ],
          [
           "ForecasterRecursiveMultiSeries",
           "LGBMRegressor",
           "ForecasterRecursiveMultiSeries__create_train_X_y_series_is_dataframe_no_exog",
           "7b994fdfa33ce4a2084e303d3f49c934",
           0.041948473174450655,
           "2025-04-22T22:53:03.168299",
           "3.12.9",
           "1.26.4",
           "2.2.3",
           "1.4.2",
           "4.6.0",
           "Linux-6.11.0-21-generic-x86_64-with-glibc2.39",
           "x86_64",
           8,
           16.64
          ],
          [
           "ForecasterRecursiveMultiSeries",
           "LGBMRegressor",
           "ForecasterRecursiveMultiSeries__create_train_X_y_series_is_dataframe_no_exog",
           "7b994fdfa33ce4a2084e303d3f49c934",
           0.18749440811257273,
           "2025-04-23T09:56:47.137352",
           "3.12.9",
           "1.26.4",
           "2.2.3",
           "1.4.2",
           "4.6.0",
           "Linux-6.11.0-21-generic-x86_64-with-glibc2.39",
           "x86_64",
           8,
           16.64
          ],
          [
           "ForecasterRecursiveMultiSeries",
           "LGBMRegressor",
           "ForecasterRecursiveMultiSeries__create_train_X_y_series_is_dataframe_no_exog",
           "7b994fdfa33ce4a2084e303d3f49c934",
           0.2820176376975396,
           "2025-04-23T10:01:55.801746",
           "3.12.9",
           "2.2.5",
           "2.2.3",
           "1.6.1",
           "4.6.0",
           "Linux-6.11.0-21-generic-x86_64-with-glibc2.39",
           "x86_64",
           8,
           16.64
          ],
          [
           "ForecasterRecursiveMultiSeries",
           "LGBMRegressor",
           "ForecasterRecursiveMultiSeries__create_train_X_y_series_is_dataframe_no_exog",
           "7b994fdfa33ce4a2084e303d3f49c934",
           0.22569136426735736,
           "2025-04-23T10:25:09.727924",
           "3.12.9",
           "2.2.5",
           "2.2.3",
           "1.6.1",
           "4.6.0",
           "Linux-6.11.0-21-generic-x86_64-with-glibc2.39",
           "x86_64",
           8,
           16.64
          ],
          [
           "ForecasterRecursiveMultiSeries",
           "LGBMRegressor",
           "ForecasterRecursiveMultiSeries__create_train_X_y_series_is_dataframe_no_exog",
           "7b994fdfa33ce4a2084e303d3f49c934",
           0.02689685725668873,
           "2025-04-23T13:38:28.494331",
           "3.12.9",
           "2.2.5",
           "2.2.3",
           "1.6.1",
           "4.6.0",
           "Linux-6.11.0-21-generic-x86_64-with-glibc2.39",
           "x86_64",
           8,
           16.64
          ],
          [
           "ForecasterRecursiveMultiSeries",
           "LGBMRegressor",
           "ForecasterRecursiveMultiSeries__create_train_X_y_series_is_dataframe_no_exog",
           "7b994fdfa33ce4a2084e303d3f49c934",
           0.0845122827682092,
           "2025-04-23T13:42:52.156230",
           "3.12.9",
           "2.2.5",
           "2.2.3",
           "1.6.1",
           "4.6.0",
           "Linux-6.11.0-21-generic-x86_64-with-glibc2.39",
           "x86_64",
           8,
           16.64
          ],
          [
           "ForecasterRecursiveMultiSeries",
           "LGBMRegressor",
           "ForecasterRecursiveMultiSeries__create_train_X_y_series_is_dataframe_no_exog",
           "7b994fdfa33ce4a2084e303d3f49c934",
           0.09365572500609225,
           "2025-04-23T13:46:50.360957",
           "3.12.9",
           "2.2.5",
           "2.2.3",
           "1.6.1",
           "4.6.0",
           "Linux-6.11.0-21-generic-x86_64-with-glibc2.39",
           "x86_64",
           8,
           16.64
          ]
         ],
         "fillcolor": "rgba(255,255,255,0)",
         "hoveron": "points",
         "hovertemplate": "skforecast_version=%{x}<br>run_time_avg=%{y}<br>forecaster_name=%{customdata[0]}<br>regressor_name=%{customdata[1]}<br>function_name=%{customdata[2]}<br>function_hash=%{customdata[3]}<br>run_time_std_dev=%{customdata[4]}<br>datetime=%{customdata[5]}<br>python_version=%{customdata[6]}<br>numpy_version=%{customdata[7]}<br>pandas_version=%{customdata[8]}<br>sklearn_version=%{customdata[9]}<br>lightgbm_version=%{customdata[10]}<br>platform=%{customdata[11]}<br>processor=%{customdata[12]}<br>cpu_count=%{customdata[13]}<br>memory_gb=%{customdata[14]}<extra></extra>",
         "jitter": true,
         "legendgroup": "0.16.0",
         "line": {
          "color": "rgba(255,255,255,0)"
         },
         "marker": {
          "color": "#00cc96",
          "opacity": 0.7,
          "size": 10
         },
         "name": "0.16.0",
         "offsetgroup": "0.16.0",
         "orientation": "v",
         "pointpos": 0,
         "showlegend": true,
         "type": "box",
         "x": [
          "0.16.0",
          "0.16.0",
          "0.16.0",
          "0.16.0",
          "0.16.0",
          "0.16.0",
          "0.16.0",
          "0.16.0",
          "0.16.0"
         ],
         "x0": " ",
         "xaxis": "x",
         "y": {
          "bdata": "M9MQ9c6++T8AkM1eiSL8P2aGtg4PU/g/ABeFSedu/j8A4FrCKjr8P5pl1592iwBAZobjfrPY8z8AQEH72DbzPzNjEPzI7fU/",
          "dtype": "f8"
         },
         "y0": " ",
         "yaxis": "y"
        },
        {
         "line": {
          "color": "black",
          "width": 2
         },
         "marker": {
          "size": 8
         },
         "mode": "lines+markers",
         "name": "Median",
         "showlegend": true,
         "type": "scatter",
         "x": [
          "0.14.0",
          "0.15.0",
          "0.16.0"
         ],
         "y": {
          "bdata": "mgUJOY8Y+z9mTtuG4zb+PzPTEPXOvvk/",
          "dtype": "f8"
         }
        }
       ],
       "layout": {
        "boxmode": "overlay",
        "legend": {
         "title": {
          "text": "skforecast_version"
         },
         "tracegroupgap": 0
        },
        "margin": {
         "t": 60
        },
        "showlegend": true,
        "template": {
         "data": {
          "bar": [
           {
            "error_x": {
             "color": "#2a3f5f"
            },
            "error_y": {
             "color": "#2a3f5f"
            },
            "marker": {
             "line": {
              "color": "#E5ECF6",
              "width": 0.5
             },
             "pattern": {
              "fillmode": "overlay",
              "size": 10,
              "solidity": 0.2
             }
            },
            "type": "bar"
           }
          ],
          "barpolar": [
           {
            "marker": {
             "line": {
              "color": "#E5ECF6",
              "width": 0.5
             },
             "pattern": {
              "fillmode": "overlay",
              "size": 10,
              "solidity": 0.2
             }
            },
            "type": "barpolar"
           }
          ],
          "carpet": [
           {
            "aaxis": {
             "endlinecolor": "#2a3f5f",
             "gridcolor": "white",
             "linecolor": "white",
             "minorgridcolor": "white",
             "startlinecolor": "#2a3f5f"
            },
            "baxis": {
             "endlinecolor": "#2a3f5f",
             "gridcolor": "white",
             "linecolor": "white",
             "minorgridcolor": "white",
             "startlinecolor": "#2a3f5f"
            },
            "type": "carpet"
           }
          ],
          "choropleth": [
           {
            "colorbar": {
             "outlinewidth": 0,
             "ticks": ""
            },
            "type": "choropleth"
           }
          ],
          "contour": [
           {
            "colorbar": {
             "outlinewidth": 0,
             "ticks": ""
            },
            "colorscale": [
             [
              0,
              "#0d0887"
             ],
             [
              0.1111111111111111,
              "#46039f"
             ],
             [
              0.2222222222222222,
              "#7201a8"
             ],
             [
              0.3333333333333333,
              "#9c179e"
             ],
             [
              0.4444444444444444,
              "#bd3786"
             ],
             [
              0.5555555555555556,
              "#d8576b"
             ],
             [
              0.6666666666666666,
              "#ed7953"
             ],
             [
              0.7777777777777778,
              "#fb9f3a"
             ],
             [
              0.8888888888888888,
              "#fdca26"
             ],
             [
              1,
              "#f0f921"
             ]
            ],
            "type": "contour"
           }
          ],
          "contourcarpet": [
           {
            "colorbar": {
             "outlinewidth": 0,
             "ticks": ""
            },
            "type": "contourcarpet"
           }
          ],
          "heatmap": [
           {
            "colorbar": {
             "outlinewidth": 0,
             "ticks": ""
            },
            "colorscale": [
             [
              0,
              "#0d0887"
             ],
             [
              0.1111111111111111,
              "#46039f"
             ],
             [
              0.2222222222222222,
              "#7201a8"
             ],
             [
              0.3333333333333333,
              "#9c179e"
             ],
             [
              0.4444444444444444,
              "#bd3786"
             ],
             [
              0.5555555555555556,
              "#d8576b"
             ],
             [
              0.6666666666666666,
              "#ed7953"
             ],
             [
              0.7777777777777778,
              "#fb9f3a"
             ],
             [
              0.8888888888888888,
              "#fdca26"
             ],
             [
              1,
              "#f0f921"
             ]
            ],
            "type": "heatmap"
           }
          ],
          "histogram": [
           {
            "marker": {
             "pattern": {
              "fillmode": "overlay",
              "size": 10,
              "solidity": 0.2
             }
            },
            "type": "histogram"
           }
          ],
          "histogram2d": [
           {
            "colorbar": {
             "outlinewidth": 0,
             "ticks": ""
            },
            "colorscale": [
             [
              0,
              "#0d0887"
             ],
             [
              0.1111111111111111,
              "#46039f"
             ],
             [
              0.2222222222222222,
              "#7201a8"
             ],
             [
              0.3333333333333333,
              "#9c179e"
             ],
             [
              0.4444444444444444,
              "#bd3786"
             ],
             [
              0.5555555555555556,
              "#d8576b"
             ],
             [
              0.6666666666666666,
              "#ed7953"
             ],
             [
              0.7777777777777778,
              "#fb9f3a"
             ],
             [
              0.8888888888888888,
              "#fdca26"
             ],
             [
              1,
              "#f0f921"
             ]
            ],
            "type": "histogram2d"
           }
          ],
          "histogram2dcontour": [
           {
            "colorbar": {
             "outlinewidth": 0,
             "ticks": ""
            },
            "colorscale": [
             [
              0,
              "#0d0887"
             ],
             [
              0.1111111111111111,
              "#46039f"
             ],
             [
              0.2222222222222222,
              "#7201a8"
             ],
             [
              0.3333333333333333,
              "#9c179e"
             ],
             [
              0.4444444444444444,
              "#bd3786"
             ],
             [
              0.5555555555555556,
              "#d8576b"
             ],
             [
              0.6666666666666666,
              "#ed7953"
             ],
             [
              0.7777777777777778,
              "#fb9f3a"
             ],
             [
              0.8888888888888888,
              "#fdca26"
             ],
             [
              1,
              "#f0f921"
             ]
            ],
            "type": "histogram2dcontour"
           }
          ],
          "mesh3d": [
           {
            "colorbar": {
             "outlinewidth": 0,
             "ticks": ""
            },
            "type": "mesh3d"
           }
          ],
          "parcoords": [
           {
            "line": {
             "colorbar": {
              "outlinewidth": 0,
              "ticks": ""
             }
            },
            "type": "parcoords"
           }
          ],
          "pie": [
           {
            "automargin": true,
            "type": "pie"
           }
          ],
          "scatter": [
           {
            "fillpattern": {
             "fillmode": "overlay",
             "size": 10,
             "solidity": 0.2
            },
            "type": "scatter"
           }
          ],
          "scatter3d": [
           {
            "line": {
             "colorbar": {
              "outlinewidth": 0,
              "ticks": ""
             }
            },
            "marker": {
             "colorbar": {
              "outlinewidth": 0,
              "ticks": ""
             }
            },
            "type": "scatter3d"
           }
          ],
          "scattercarpet": [
           {
            "marker": {
             "colorbar": {
              "outlinewidth": 0,
              "ticks": ""
             }
            },
            "type": "scattercarpet"
           }
          ],
          "scattergeo": [
           {
            "marker": {
             "colorbar": {
              "outlinewidth": 0,
              "ticks": ""
             }
            },
            "type": "scattergeo"
           }
          ],
          "scattergl": [
           {
            "marker": {
             "colorbar": {
              "outlinewidth": 0,
              "ticks": ""
             }
            },
            "type": "scattergl"
           }
          ],
          "scattermap": [
           {
            "marker": {
             "colorbar": {
              "outlinewidth": 0,
              "ticks": ""
             }
            },
            "type": "scattermap"
           }
          ],
          "scattermapbox": [
           {
            "marker": {
             "colorbar": {
              "outlinewidth": 0,
              "ticks": ""
             }
            },
            "type": "scattermapbox"
           }
          ],
          "scatterpolar": [
           {
            "marker": {
             "colorbar": {
              "outlinewidth": 0,
              "ticks": ""
             }
            },
            "type": "scatterpolar"
           }
          ],
          "scatterpolargl": [
           {
            "marker": {
             "colorbar": {
              "outlinewidth": 0,
              "ticks": ""
             }
            },
            "type": "scatterpolargl"
           }
          ],
          "scatterternary": [
           {
            "marker": {
             "colorbar": {
              "outlinewidth": 0,
              "ticks": ""
             }
            },
            "type": "scatterternary"
           }
          ],
          "surface": [
           {
            "colorbar": {
             "outlinewidth": 0,
             "ticks": ""
            },
            "colorscale": [
             [
              0,
              "#0d0887"
             ],
             [
              0.1111111111111111,
              "#46039f"
             ],
             [
              0.2222222222222222,
              "#7201a8"
             ],
             [
              0.3333333333333333,
              "#9c179e"
             ],
             [
              0.4444444444444444,
              "#bd3786"
             ],
             [
              0.5555555555555556,
              "#d8576b"
             ],
             [
              0.6666666666666666,
              "#ed7953"
             ],
             [
              0.7777777777777778,
              "#fb9f3a"
             ],
             [
              0.8888888888888888,
              "#fdca26"
             ],
             [
              1,
              "#f0f921"
             ]
            ],
            "type": "surface"
           }
          ],
          "table": [
           {
            "cells": {
             "fill": {
              "color": "#EBF0F8"
             },
             "line": {
              "color": "white"
             }
            },
            "header": {
             "fill": {
              "color": "#C8D4E3"
             },
             "line": {
              "color": "white"
             }
            },
            "type": "table"
           }
          ]
         },
         "layout": {
          "annotationdefaults": {
           "arrowcolor": "#2a3f5f",
           "arrowhead": 0,
           "arrowwidth": 1
          },
          "autotypenumbers": "strict",
          "coloraxis": {
           "colorbar": {
            "outlinewidth": 0,
            "ticks": ""
           }
          },
          "colorscale": {
           "diverging": [
            [
             0,
             "#8e0152"
            ],
            [
             0.1,
             "#c51b7d"
            ],
            [
             0.2,
             "#de77ae"
            ],
            [
             0.3,
             "#f1b6da"
            ],
            [
             0.4,
             "#fde0ef"
            ],
            [
             0.5,
             "#f7f7f7"
            ],
            [
             0.6,
             "#e6f5d0"
            ],
            [
             0.7,
             "#b8e186"
            ],
            [
             0.8,
             "#7fbc41"
            ],
            [
             0.9,
             "#4d9221"
            ],
            [
             1,
             "#276419"
            ]
           ],
           "sequential": [
            [
             0,
             "#0d0887"
            ],
            [
             0.1111111111111111,
             "#46039f"
            ],
            [
             0.2222222222222222,
             "#7201a8"
            ],
            [
             0.3333333333333333,
             "#9c179e"
            ],
            [
             0.4444444444444444,
             "#bd3786"
            ],
            [
             0.5555555555555556,
             "#d8576b"
            ],
            [
             0.6666666666666666,
             "#ed7953"
            ],
            [
             0.7777777777777778,
             "#fb9f3a"
            ],
            [
             0.8888888888888888,
             "#fdca26"
            ],
            [
             1,
             "#f0f921"
            ]
           ],
           "sequentialminus": [
            [
             0,
             "#0d0887"
            ],
            [
             0.1111111111111111,
             "#46039f"
            ],
            [
             0.2222222222222222,
             "#7201a8"
            ],
            [
             0.3333333333333333,
             "#9c179e"
            ],
            [
             0.4444444444444444,
             "#bd3786"
            ],
            [
             0.5555555555555556,
             "#d8576b"
            ],
            [
             0.6666666666666666,
             "#ed7953"
            ],
            [
             0.7777777777777778,
             "#fb9f3a"
            ],
            [
             0.8888888888888888,
             "#fdca26"
            ],
            [
             1,
             "#f0f921"
            ]
           ]
          },
          "colorway": [
           "#636efa",
           "#EF553B",
           "#00cc96",
           "#ab63fa",
           "#FFA15A",
           "#19d3f3",
           "#FF6692",
           "#B6E880",
           "#FF97FF",
           "#FECB52"
          ],
          "font": {
           "color": "#2a3f5f"
          },
          "geo": {
           "bgcolor": "white",
           "lakecolor": "white",
           "landcolor": "#E5ECF6",
           "showlakes": true,
           "showland": true,
           "subunitcolor": "white"
          },
          "hoverlabel": {
           "align": "left"
          },
          "hovermode": "closest",
          "mapbox": {
           "style": "light"
          },
          "paper_bgcolor": "white",
          "plot_bgcolor": "#E5ECF6",
          "polar": {
           "angularaxis": {
            "gridcolor": "white",
            "linecolor": "white",
            "ticks": ""
           },
           "bgcolor": "#E5ECF6",
           "radialaxis": {
            "gridcolor": "white",
            "linecolor": "white",
            "ticks": ""
           }
          },
          "scene": {
           "xaxis": {
            "backgroundcolor": "#E5ECF6",
            "gridcolor": "white",
            "gridwidth": 2,
            "linecolor": "white",
            "showbackground": true,
            "ticks": "",
            "zerolinecolor": "white"
           },
           "yaxis": {
            "backgroundcolor": "#E5ECF6",
            "gridcolor": "white",
            "gridwidth": 2,
            "linecolor": "white",
            "showbackground": true,
            "ticks": "",
            "zerolinecolor": "white"
           },
           "zaxis": {
            "backgroundcolor": "#E5ECF6",
            "gridcolor": "white",
            "gridwidth": 2,
            "linecolor": "white",
            "showbackground": true,
            "ticks": "",
            "zerolinecolor": "white"
           }
          },
          "shapedefaults": {
           "line": {
            "color": "#2a3f5f"
           }
          },
          "ternary": {
           "aaxis": {
            "gridcolor": "white",
            "linecolor": "white",
            "ticks": ""
           },
           "baxis": {
            "gridcolor": "white",
            "linecolor": "white",
            "ticks": ""
           },
           "bgcolor": "#E5ECF6",
           "caxis": {
            "gridcolor": "white",
            "linecolor": "white",
            "ticks": ""
           }
          },
          "title": {
           "x": 0.05
          },
          "xaxis": {
           "automargin": true,
           "gridcolor": "white",
           "linecolor": "white",
           "ticks": "",
           "title": {
            "standoff": 15
           },
           "zerolinecolor": "white",
           "zerolinewidth": 2
          },
          "yaxis": {
           "automargin": true,
           "gridcolor": "white",
           "linecolor": "white",
           "ticks": "",
           "title": {
            "standoff": 15
           },
           "zerolinecolor": "white",
           "zerolinewidth": 2
          }
         }
        },
        "title": {
         "text": "Execution time of ForecasterRecursiveMultiSeries__create_train_X_y_series_is_dataframe_no_exog"
        },
        "xaxis": {
         "anchor": "y",
         "categoryarray": [
          "0.14.0",
          "0.15.0",
          "0.16.0"
         ],
         "categoryorder": "array",
         "domain": [
          0,
          1
         ],
         "title": {
          "text": "skforecast version"
         }
        },
        "yaxis": {
         "anchor": "x",
         "domain": [
          0,
          1
         ],
         "title": {
          "text": "Execution time (seconds)"
         }
        }
       }
      }
     },
     "metadata": {},
     "output_type": "display_data"
    },
    {
     "data": {
      "application/vnd.microsoft.datawrangler.viewer.v0+json": {
       "columns": [
        {
         "name": "index",
         "rawType": "int64",
         "type": "integer"
        },
        {
         "name": "forecaster_name",
         "rawType": "object",
         "type": "string"
        },
        {
         "name": "regressor_name",
         "rawType": "object",
         "type": "string"
        },
        {
         "name": "function_name",
         "rawType": "object",
         "type": "string"
        },
        {
         "name": "function_hash",
         "rawType": "object",
         "type": "string"
        },
        {
         "name": "run_time_avg",
         "rawType": "float64",
         "type": "float"
        },
        {
         "name": "run_time_std_dev",
         "rawType": "float64",
         "type": "float"
        },
        {
         "name": "datetime",
         "rawType": "datetime64[ns]",
         "type": "datetime"
        },
        {
         "name": "python_version",
         "rawType": "object",
         "type": "string"
        },
        {
         "name": "skforecast_version",
         "rawType": "object",
         "type": "string"
        },
        {
         "name": "numpy_version",
         "rawType": "object",
         "type": "string"
        },
        {
         "name": "pandas_version",
         "rawType": "object",
         "type": "string"
        },
        {
         "name": "sklearn_version",
         "rawType": "object",
         "type": "string"
        },
        {
         "name": "lightgbm_version",
         "rawType": "object",
         "type": "string"
        },
        {
         "name": "platform",
         "rawType": "object",
         "type": "string"
        },
        {
         "name": "processor",
         "rawType": "object",
         "type": "string"
        },
        {
         "name": "cpu_count",
         "rawType": "int64",
         "type": "integer"
        },
        {
         "name": "memory_gb",
         "rawType": "float64",
         "type": "float"
        }
       ],
       "conversionMethod": "pd.DataFrame",
       "ref": "acf501a6-d509-4cad-96a3-daf71d2f9c48",
       "rows": [
        [
         "20",
         "ForecasterRecursiveMultiSeries",
         "LGBMRegressor",
         "ForecasterRecursiveMultiSeries__create_train_X_y_single_series",
         "ea2ceb1c912245376ba4cea7595175be",
         "0.001374237799882394",
         "0.00014991595462467174",
         "2025-04-22 21:23:59.663629",
         "3.12.9",
         "0.14.0",
         "1.26.4",
         "2.2.3",
         "1.4.2",
         "4.6.0",
         "Linux-6.11.0-21-generic-x86_64-with-glibc2.39",
         "x86_64",
         "8",
         "16.64"
        ],
        [
         "40",
         "ForecasterRecursiveMultiSeries",
         "LGBMRegressor",
         "ForecasterRecursiveMultiSeries__create_train_X_y_single_series",
         "ea2ceb1c912245376ba4cea7595175be",
         "0.0015734201999293874",
         "0.00040456115629917364",
         "2025-04-22 21:30:43.778419",
         "3.12.9",
         "0.14.0",
         "1.26.4",
         "2.2.3",
         "1.4.2",
         "4.6.0",
         "Linux-6.11.0-21-generic-x86_64-with-glibc2.39",
         "x86_64",
         "8",
         "16.64"
        ],
        [
         "52",
         "ForecasterRecursiveMultiSeries",
         "LGBMRegressor",
         "ForecasterRecursiveMultiSeries__create_train_X_y_single_series",
         "ea2ceb1c912245376ba4cea7595175be",
         "0.0027087475998996526",
         "0.0004073836969268155",
         "2025-04-22 21:35:09.717123",
         "3.12.9",
         "0.15.0",
         "1.26.4",
         "2.2.3",
         "1.4.2",
         "4.6.0",
         "Linux-6.11.0-21-generic-x86_64-with-glibc2.39",
         "x86_64",
         "8",
         "16.64"
        ],
        [
         "64",
         "ForecasterRecursiveMultiSeries",
         "LGBMRegressor",
         "ForecasterRecursiveMultiSeries__create_train_X_y_single_series",
         "ea2ceb1c912245376ba4cea7595175be",
         "0.0016526009998415248",
         "0.00024753725052533776",
         "2025-04-22 21:46:06.719447",
         "3.12.9",
         "0.15.0",
         "2.2.5",
         "2.2.3",
         "1.6.1",
         "4.6.0",
         "Linux-6.11.0-21-generic-x86_64-with-glibc2.39",
         "x86_64",
         "8",
         "16.64"
        ],
        [
         "76",
         "ForecasterRecursiveMultiSeries",
         "LGBMRegressor",
         "ForecasterRecursiveMultiSeries__create_train_X_y_single_series",
         "ea2ceb1c912245376ba4cea7595175be",
         "0.00175332939998043",
         "0.00036681044952331947",
         "2025-04-22 21:56:06.626060",
         "3.12.9",
         "0.16.0",
         "2.2.5",
         "2.2.3",
         "1.6.1",
         "4.6.0",
         "Linux-6.11.0-21-generic-x86_64-with-glibc2.39",
         "x86_64",
         "8",
         "16.64"
        ],
        [
         "88",
         "ForecasterRecursiveMultiSeries",
         "LGBMRegressor",
         "ForecasterRecursiveMultiSeries__create_train_X_y_single_series",
         "ea2ceb1c912245376ba4cea7595175be",
         "0.0022119269999166134",
         "0.000880971091061238",
         "2025-04-22 22:10:48.384325",
         "3.12.9",
         "0.16.0",
         "1.26.4",
         "2.2.3",
         "1.6.1",
         "4.6.0",
         "Linux-6.11.0-21-generic-x86_64-with-glibc2.39",
         "x86_64",
         "8",
         "16.64"
        ],
        [
         "124",
         "ForecasterRecursiveMultiSeries",
         "LGBMRegressor",
         "ForecasterRecursiveMultiSeries__create_train_X_y_single_series",
         "ea2ceb1c912245376ba4cea7595175be",
         "0.0020376452001073632",
         "0.0005184155696863509",
         "2025-04-22 22:45:29.196743",
         "3.12.9",
         "0.15.0",
         "1.26.4",
         "2.2.3",
         "1.4.2",
         "4.6.0",
         "Linux-6.11.0-21-generic-x86_64-with-glibc2.39",
         "x86_64",
         "8",
         "16.64"
        ],
        [
         "136",
         "ForecasterRecursiveMultiSeries",
         "LGBMRegressor",
         "ForecasterRecursiveMultiSeries__create_train_X_y_single_series",
         "ea2ceb1c912245376ba4cea7595175be",
         "0.0018340459999308222",
         "0.00040949326298658436",
         "2025-04-22 22:53:28.229034",
         "3.12.9",
         "0.16.0",
         "1.26.4",
         "2.2.3",
         "1.4.2",
         "4.6.0",
         "Linux-6.11.0-21-generic-x86_64-with-glibc2.39",
         "x86_64",
         "8",
         "16.64"
        ],
        [
         "172",
         "ForecasterRecursiveMultiSeries",
         "LGBMRegressor",
         "ForecasterRecursiveMultiSeries__create_train_X_y_single_series",
         "ea2ceb1c912245376ba4cea7595175be",
         "0.0023250216000178627",
         "0.0008618887231799554",
         "2025-04-23 09:57:15.377890",
         "3.12.9",
         "0.16.0",
         "1.26.4",
         "2.2.3",
         "1.4.2",
         "4.6.0",
         "Linux-6.11.0-21-generic-x86_64-with-glibc2.39",
         "x86_64",
         "8",
         "16.64"
        ],
        [
         "184",
         "ForecasterRecursiveMultiSeries",
         "LGBMRegressor",
         "ForecasterRecursiveMultiSeries__create_train_X_y_single_series",
         "ea2ceb1c912245376ba4cea7595175be",
         "0.0022707624000531724",
         "0.00035929370872767817",
         "2025-04-23 10:02:25.079514",
         "3.12.9",
         "0.16.0",
         "2.2.5",
         "2.2.3",
         "1.6.1",
         "4.6.0",
         "Linux-6.11.0-21-generic-x86_64-with-glibc2.39",
         "x86_64",
         "8",
         "16.64"
        ],
        [
         "196",
         "ForecasterRecursiveMultiSeries",
         "LGBMRegressor",
         "ForecasterRecursiveMultiSeries__create_train_X_y_single_series",
         "ea2ceb1c912245376ba4cea7595175be",
         "0.0019101180000689055",
         "0.0005361737111845733",
         "2025-04-23 10:25:37.347542",
         "3.12.9",
         "0.16.0",
         "2.2.5",
         "2.2.3",
         "1.6.1",
         "4.6.0",
         "Linux-6.11.0-21-generic-x86_64-with-glibc2.39",
         "x86_64",
         "8",
         "16.64"
        ],
        [
         "208",
         "ForecasterRecursiveMultiSeries",
         "LGBMRegressor",
         "ForecasterRecursiveMultiSeries__create_train_X_y_single_series",
         "ea2ceb1c912245376ba4cea7595175be",
         "0.0014723110001796159",
         "0.00020436362135823943",
         "2025-04-23 13:38:47.401274",
         "3.12.9",
         "0.16.0",
         "2.2.5",
         "2.2.3",
         "1.6.1",
         "4.6.0",
         "Linux-6.11.0-21-generic-x86_64-with-glibc2.39",
         "x86_64",
         "8",
         "16.64"
        ],
        [
         "220",
         "ForecasterRecursiveMultiSeries",
         "LGBMRegressor",
         "ForecasterRecursiveMultiSeries__create_train_X_y_single_series",
         "ea2ceb1c912245376ba4cea7595175be",
         "0.0013218623998909607",
         "0.00017513577108537424",
         "2025-04-23 13:43:09.856542",
         "3.12.9",
         "0.16.0",
         "2.2.5",
         "2.2.3",
         "1.6.1",
         "4.6.0",
         "Linux-6.11.0-21-generic-x86_64-with-glibc2.39",
         "x86_64",
         "8",
         "16.64"
        ],
        [
         "232",
         "ForecasterRecursiveMultiSeries",
         "LGBMRegressor",
         "ForecasterRecursiveMultiSeries__create_train_X_y_single_series",
         "ea2ceb1c912245376ba4cea7595175be",
         "0.001507870600107708",
         "0.0003408723934243494",
         "2025-04-23 13:47:12.875448",
         "3.12.9",
         "0.16.0",
         "2.2.5",
         "2.2.3",
         "1.6.1",
         "4.6.0",
         "Linux-6.11.0-21-generic-x86_64-with-glibc2.39",
         "x86_64",
         "8",
         "16.64"
        ]
       ],
       "shape": {
        "columns": 17,
        "rows": 14
       }
      },
      "text/html": [
       "<div>\n",
       "<style scoped>\n",
       "    .dataframe tbody tr th:only-of-type {\n",
       "        vertical-align: middle;\n",
       "    }\n",
       "\n",
       "    .dataframe tbody tr th {\n",
       "        vertical-align: top;\n",
       "    }\n",
       "\n",
       "    .dataframe thead th {\n",
       "        text-align: right;\n",
       "    }\n",
       "</style>\n",
       "<table border=\"1\" class=\"dataframe\">\n",
       "  <thead>\n",
       "    <tr style=\"text-align: right;\">\n",
       "      <th></th>\n",
       "      <th>forecaster_name</th>\n",
       "      <th>regressor_name</th>\n",
       "      <th>function_name</th>\n",
       "      <th>function_hash</th>\n",
       "      <th>run_time_avg</th>\n",
       "      <th>run_time_std_dev</th>\n",
       "      <th>datetime</th>\n",
       "      <th>python_version</th>\n",
       "      <th>skforecast_version</th>\n",
       "      <th>numpy_version</th>\n",
       "      <th>pandas_version</th>\n",
       "      <th>sklearn_version</th>\n",
       "      <th>lightgbm_version</th>\n",
       "      <th>platform</th>\n",
       "      <th>processor</th>\n",
       "      <th>cpu_count</th>\n",
       "      <th>memory_gb</th>\n",
       "    </tr>\n",
       "  </thead>\n",
       "  <tbody>\n",
       "    <tr>\n",
       "      <th>20</th>\n",
       "      <td>ForecasterRecursiveMultiSeries</td>\n",
       "      <td>LGBMRegressor</td>\n",
       "      <td>ForecasterRecursiveMultiSeries__create_train_X...</td>\n",
       "      <td>ea2ceb1c912245376ba4cea7595175be</td>\n",
       "      <td>0.001374</td>\n",
       "      <td>0.000150</td>\n",
       "      <td>2025-04-22 21:23:59.663629</td>\n",
       "      <td>3.12.9</td>\n",
       "      <td>0.14.0</td>\n",
       "      <td>1.26.4</td>\n",
       "      <td>2.2.3</td>\n",
       "      <td>1.4.2</td>\n",
       "      <td>4.6.0</td>\n",
       "      <td>Linux-6.11.0-21-generic-x86_64-with-glibc2.39</td>\n",
       "      <td>x86_64</td>\n",
       "      <td>8</td>\n",
       "      <td>16.64</td>\n",
       "    </tr>\n",
       "    <tr>\n",
       "      <th>40</th>\n",
       "      <td>ForecasterRecursiveMultiSeries</td>\n",
       "      <td>LGBMRegressor</td>\n",
       "      <td>ForecasterRecursiveMultiSeries__create_train_X...</td>\n",
       "      <td>ea2ceb1c912245376ba4cea7595175be</td>\n",
       "      <td>0.001573</td>\n",
       "      <td>0.000405</td>\n",
       "      <td>2025-04-22 21:30:43.778419</td>\n",
       "      <td>3.12.9</td>\n",
       "      <td>0.14.0</td>\n",
       "      <td>1.26.4</td>\n",
       "      <td>2.2.3</td>\n",
       "      <td>1.4.2</td>\n",
       "      <td>4.6.0</td>\n",
       "      <td>Linux-6.11.0-21-generic-x86_64-with-glibc2.39</td>\n",
       "      <td>x86_64</td>\n",
       "      <td>8</td>\n",
       "      <td>16.64</td>\n",
       "    </tr>\n",
       "    <tr>\n",
       "      <th>52</th>\n",
       "      <td>ForecasterRecursiveMultiSeries</td>\n",
       "      <td>LGBMRegressor</td>\n",
       "      <td>ForecasterRecursiveMultiSeries__create_train_X...</td>\n",
       "      <td>ea2ceb1c912245376ba4cea7595175be</td>\n",
       "      <td>0.002709</td>\n",
       "      <td>0.000407</td>\n",
       "      <td>2025-04-22 21:35:09.717123</td>\n",
       "      <td>3.12.9</td>\n",
       "      <td>0.15.0</td>\n",
       "      <td>1.26.4</td>\n",
       "      <td>2.2.3</td>\n",
       "      <td>1.4.2</td>\n",
       "      <td>4.6.0</td>\n",
       "      <td>Linux-6.11.0-21-generic-x86_64-with-glibc2.39</td>\n",
       "      <td>x86_64</td>\n",
       "      <td>8</td>\n",
       "      <td>16.64</td>\n",
       "    </tr>\n",
       "    <tr>\n",
       "      <th>64</th>\n",
       "      <td>ForecasterRecursiveMultiSeries</td>\n",
       "      <td>LGBMRegressor</td>\n",
       "      <td>ForecasterRecursiveMultiSeries__create_train_X...</td>\n",
       "      <td>ea2ceb1c912245376ba4cea7595175be</td>\n",
       "      <td>0.001653</td>\n",
       "      <td>0.000248</td>\n",
       "      <td>2025-04-22 21:46:06.719447</td>\n",
       "      <td>3.12.9</td>\n",
       "      <td>0.15.0</td>\n",
       "      <td>2.2.5</td>\n",
       "      <td>2.2.3</td>\n",
       "      <td>1.6.1</td>\n",
       "      <td>4.6.0</td>\n",
       "      <td>Linux-6.11.0-21-generic-x86_64-with-glibc2.39</td>\n",
       "      <td>x86_64</td>\n",
       "      <td>8</td>\n",
       "      <td>16.64</td>\n",
       "    </tr>\n",
       "    <tr>\n",
       "      <th>76</th>\n",
       "      <td>ForecasterRecursiveMultiSeries</td>\n",
       "      <td>LGBMRegressor</td>\n",
       "      <td>ForecasterRecursiveMultiSeries__create_train_X...</td>\n",
       "      <td>ea2ceb1c912245376ba4cea7595175be</td>\n",
       "      <td>0.001753</td>\n",
       "      <td>0.000367</td>\n",
       "      <td>2025-04-22 21:56:06.626060</td>\n",
       "      <td>3.12.9</td>\n",
       "      <td>0.16.0</td>\n",
       "      <td>2.2.5</td>\n",
       "      <td>2.2.3</td>\n",
       "      <td>1.6.1</td>\n",
       "      <td>4.6.0</td>\n",
       "      <td>Linux-6.11.0-21-generic-x86_64-with-glibc2.39</td>\n",
       "      <td>x86_64</td>\n",
       "      <td>8</td>\n",
       "      <td>16.64</td>\n",
       "    </tr>\n",
       "    <tr>\n",
       "      <th>88</th>\n",
       "      <td>ForecasterRecursiveMultiSeries</td>\n",
       "      <td>LGBMRegressor</td>\n",
       "      <td>ForecasterRecursiveMultiSeries__create_train_X...</td>\n",
       "      <td>ea2ceb1c912245376ba4cea7595175be</td>\n",
       "      <td>0.002212</td>\n",
       "      <td>0.000881</td>\n",
       "      <td>2025-04-22 22:10:48.384325</td>\n",
       "      <td>3.12.9</td>\n",
       "      <td>0.16.0</td>\n",
       "      <td>1.26.4</td>\n",
       "      <td>2.2.3</td>\n",
       "      <td>1.6.1</td>\n",
       "      <td>4.6.0</td>\n",
       "      <td>Linux-6.11.0-21-generic-x86_64-with-glibc2.39</td>\n",
       "      <td>x86_64</td>\n",
       "      <td>8</td>\n",
       "      <td>16.64</td>\n",
       "    </tr>\n",
       "    <tr>\n",
       "      <th>124</th>\n",
       "      <td>ForecasterRecursiveMultiSeries</td>\n",
       "      <td>LGBMRegressor</td>\n",
       "      <td>ForecasterRecursiveMultiSeries__create_train_X...</td>\n",
       "      <td>ea2ceb1c912245376ba4cea7595175be</td>\n",
       "      <td>0.002038</td>\n",
       "      <td>0.000518</td>\n",
       "      <td>2025-04-22 22:45:29.196743</td>\n",
       "      <td>3.12.9</td>\n",
       "      <td>0.15.0</td>\n",
       "      <td>1.26.4</td>\n",
       "      <td>2.2.3</td>\n",
       "      <td>1.4.2</td>\n",
       "      <td>4.6.0</td>\n",
       "      <td>Linux-6.11.0-21-generic-x86_64-with-glibc2.39</td>\n",
       "      <td>x86_64</td>\n",
       "      <td>8</td>\n",
       "      <td>16.64</td>\n",
       "    </tr>\n",
       "    <tr>\n",
       "      <th>136</th>\n",
       "      <td>ForecasterRecursiveMultiSeries</td>\n",
       "      <td>LGBMRegressor</td>\n",
       "      <td>ForecasterRecursiveMultiSeries__create_train_X...</td>\n",
       "      <td>ea2ceb1c912245376ba4cea7595175be</td>\n",
       "      <td>0.001834</td>\n",
       "      <td>0.000409</td>\n",
       "      <td>2025-04-22 22:53:28.229034</td>\n",
       "      <td>3.12.9</td>\n",
       "      <td>0.16.0</td>\n",
       "      <td>1.26.4</td>\n",
       "      <td>2.2.3</td>\n",
       "      <td>1.4.2</td>\n",
       "      <td>4.6.0</td>\n",
       "      <td>Linux-6.11.0-21-generic-x86_64-with-glibc2.39</td>\n",
       "      <td>x86_64</td>\n",
       "      <td>8</td>\n",
       "      <td>16.64</td>\n",
       "    </tr>\n",
       "    <tr>\n",
       "      <th>172</th>\n",
       "      <td>ForecasterRecursiveMultiSeries</td>\n",
       "      <td>LGBMRegressor</td>\n",
       "      <td>ForecasterRecursiveMultiSeries__create_train_X...</td>\n",
       "      <td>ea2ceb1c912245376ba4cea7595175be</td>\n",
       "      <td>0.002325</td>\n",
       "      <td>0.000862</td>\n",
       "      <td>2025-04-23 09:57:15.377890</td>\n",
       "      <td>3.12.9</td>\n",
       "      <td>0.16.0</td>\n",
       "      <td>1.26.4</td>\n",
       "      <td>2.2.3</td>\n",
       "      <td>1.4.2</td>\n",
       "      <td>4.6.0</td>\n",
       "      <td>Linux-6.11.0-21-generic-x86_64-with-glibc2.39</td>\n",
       "      <td>x86_64</td>\n",
       "      <td>8</td>\n",
       "      <td>16.64</td>\n",
       "    </tr>\n",
       "    <tr>\n",
       "      <th>184</th>\n",
       "      <td>ForecasterRecursiveMultiSeries</td>\n",
       "      <td>LGBMRegressor</td>\n",
       "      <td>ForecasterRecursiveMultiSeries__create_train_X...</td>\n",
       "      <td>ea2ceb1c912245376ba4cea7595175be</td>\n",
       "      <td>0.002271</td>\n",
       "      <td>0.000359</td>\n",
       "      <td>2025-04-23 10:02:25.079514</td>\n",
       "      <td>3.12.9</td>\n",
       "      <td>0.16.0</td>\n",
       "      <td>2.2.5</td>\n",
       "      <td>2.2.3</td>\n",
       "      <td>1.6.1</td>\n",
       "      <td>4.6.0</td>\n",
       "      <td>Linux-6.11.0-21-generic-x86_64-with-glibc2.39</td>\n",
       "      <td>x86_64</td>\n",
       "      <td>8</td>\n",
       "      <td>16.64</td>\n",
       "    </tr>\n",
       "    <tr>\n",
       "      <th>196</th>\n",
       "      <td>ForecasterRecursiveMultiSeries</td>\n",
       "      <td>LGBMRegressor</td>\n",
       "      <td>ForecasterRecursiveMultiSeries__create_train_X...</td>\n",
       "      <td>ea2ceb1c912245376ba4cea7595175be</td>\n",
       "      <td>0.001910</td>\n",
       "      <td>0.000536</td>\n",
       "      <td>2025-04-23 10:25:37.347542</td>\n",
       "      <td>3.12.9</td>\n",
       "      <td>0.16.0</td>\n",
       "      <td>2.2.5</td>\n",
       "      <td>2.2.3</td>\n",
       "      <td>1.6.1</td>\n",
       "      <td>4.6.0</td>\n",
       "      <td>Linux-6.11.0-21-generic-x86_64-with-glibc2.39</td>\n",
       "      <td>x86_64</td>\n",
       "      <td>8</td>\n",
       "      <td>16.64</td>\n",
       "    </tr>\n",
       "    <tr>\n",
       "      <th>208</th>\n",
       "      <td>ForecasterRecursiveMultiSeries</td>\n",
       "      <td>LGBMRegressor</td>\n",
       "      <td>ForecasterRecursiveMultiSeries__create_train_X...</td>\n",
       "      <td>ea2ceb1c912245376ba4cea7595175be</td>\n",
       "      <td>0.001472</td>\n",
       "      <td>0.000204</td>\n",
       "      <td>2025-04-23 13:38:47.401274</td>\n",
       "      <td>3.12.9</td>\n",
       "      <td>0.16.0</td>\n",
       "      <td>2.2.5</td>\n",
       "      <td>2.2.3</td>\n",
       "      <td>1.6.1</td>\n",
       "      <td>4.6.0</td>\n",
       "      <td>Linux-6.11.0-21-generic-x86_64-with-glibc2.39</td>\n",
       "      <td>x86_64</td>\n",
       "      <td>8</td>\n",
       "      <td>16.64</td>\n",
       "    </tr>\n",
       "    <tr>\n",
       "      <th>220</th>\n",
       "      <td>ForecasterRecursiveMultiSeries</td>\n",
       "      <td>LGBMRegressor</td>\n",
       "      <td>ForecasterRecursiveMultiSeries__create_train_X...</td>\n",
       "      <td>ea2ceb1c912245376ba4cea7595175be</td>\n",
       "      <td>0.001322</td>\n",
       "      <td>0.000175</td>\n",
       "      <td>2025-04-23 13:43:09.856542</td>\n",
       "      <td>3.12.9</td>\n",
       "      <td>0.16.0</td>\n",
       "      <td>2.2.5</td>\n",
       "      <td>2.2.3</td>\n",
       "      <td>1.6.1</td>\n",
       "      <td>4.6.0</td>\n",
       "      <td>Linux-6.11.0-21-generic-x86_64-with-glibc2.39</td>\n",
       "      <td>x86_64</td>\n",
       "      <td>8</td>\n",
       "      <td>16.64</td>\n",
       "    </tr>\n",
       "    <tr>\n",
       "      <th>232</th>\n",
       "      <td>ForecasterRecursiveMultiSeries</td>\n",
       "      <td>LGBMRegressor</td>\n",
       "      <td>ForecasterRecursiveMultiSeries__create_train_X...</td>\n",
       "      <td>ea2ceb1c912245376ba4cea7595175be</td>\n",
       "      <td>0.001508</td>\n",
       "      <td>0.000341</td>\n",
       "      <td>2025-04-23 13:47:12.875448</td>\n",
       "      <td>3.12.9</td>\n",
       "      <td>0.16.0</td>\n",
       "      <td>2.2.5</td>\n",
       "      <td>2.2.3</td>\n",
       "      <td>1.6.1</td>\n",
       "      <td>4.6.0</td>\n",
       "      <td>Linux-6.11.0-21-generic-x86_64-with-glibc2.39</td>\n",
       "      <td>x86_64</td>\n",
       "      <td>8</td>\n",
       "      <td>16.64</td>\n",
       "    </tr>\n",
       "  </tbody>\n",
       "</table>\n",
       "</div>"
      ],
      "text/plain": [
       "                    forecaster_name regressor_name  \\\n",
       "20   ForecasterRecursiveMultiSeries  LGBMRegressor   \n",
       "40   ForecasterRecursiveMultiSeries  LGBMRegressor   \n",
       "52   ForecasterRecursiveMultiSeries  LGBMRegressor   \n",
       "64   ForecasterRecursiveMultiSeries  LGBMRegressor   \n",
       "76   ForecasterRecursiveMultiSeries  LGBMRegressor   \n",
       "88   ForecasterRecursiveMultiSeries  LGBMRegressor   \n",
       "124  ForecasterRecursiveMultiSeries  LGBMRegressor   \n",
       "136  ForecasterRecursiveMultiSeries  LGBMRegressor   \n",
       "172  ForecasterRecursiveMultiSeries  LGBMRegressor   \n",
       "184  ForecasterRecursiveMultiSeries  LGBMRegressor   \n",
       "196  ForecasterRecursiveMultiSeries  LGBMRegressor   \n",
       "208  ForecasterRecursiveMultiSeries  LGBMRegressor   \n",
       "220  ForecasterRecursiveMultiSeries  LGBMRegressor   \n",
       "232  ForecasterRecursiveMultiSeries  LGBMRegressor   \n",
       "\n",
       "                                         function_name  \\\n",
       "20   ForecasterRecursiveMultiSeries__create_train_X...   \n",
       "40   ForecasterRecursiveMultiSeries__create_train_X...   \n",
       "52   ForecasterRecursiveMultiSeries__create_train_X...   \n",
       "64   ForecasterRecursiveMultiSeries__create_train_X...   \n",
       "76   ForecasterRecursiveMultiSeries__create_train_X...   \n",
       "88   ForecasterRecursiveMultiSeries__create_train_X...   \n",
       "124  ForecasterRecursiveMultiSeries__create_train_X...   \n",
       "136  ForecasterRecursiveMultiSeries__create_train_X...   \n",
       "172  ForecasterRecursiveMultiSeries__create_train_X...   \n",
       "184  ForecasterRecursiveMultiSeries__create_train_X...   \n",
       "196  ForecasterRecursiveMultiSeries__create_train_X...   \n",
       "208  ForecasterRecursiveMultiSeries__create_train_X...   \n",
       "220  ForecasterRecursiveMultiSeries__create_train_X...   \n",
       "232  ForecasterRecursiveMultiSeries__create_train_X...   \n",
       "\n",
       "                        function_hash  run_time_avg  run_time_std_dev  \\\n",
       "20   ea2ceb1c912245376ba4cea7595175be      0.001374          0.000150   \n",
       "40   ea2ceb1c912245376ba4cea7595175be      0.001573          0.000405   \n",
       "52   ea2ceb1c912245376ba4cea7595175be      0.002709          0.000407   \n",
       "64   ea2ceb1c912245376ba4cea7595175be      0.001653          0.000248   \n",
       "76   ea2ceb1c912245376ba4cea7595175be      0.001753          0.000367   \n",
       "88   ea2ceb1c912245376ba4cea7595175be      0.002212          0.000881   \n",
       "124  ea2ceb1c912245376ba4cea7595175be      0.002038          0.000518   \n",
       "136  ea2ceb1c912245376ba4cea7595175be      0.001834          0.000409   \n",
       "172  ea2ceb1c912245376ba4cea7595175be      0.002325          0.000862   \n",
       "184  ea2ceb1c912245376ba4cea7595175be      0.002271          0.000359   \n",
       "196  ea2ceb1c912245376ba4cea7595175be      0.001910          0.000536   \n",
       "208  ea2ceb1c912245376ba4cea7595175be      0.001472          0.000204   \n",
       "220  ea2ceb1c912245376ba4cea7595175be      0.001322          0.000175   \n",
       "232  ea2ceb1c912245376ba4cea7595175be      0.001508          0.000341   \n",
       "\n",
       "                      datetime python_version skforecast_version  \\\n",
       "20  2025-04-22 21:23:59.663629         3.12.9             0.14.0   \n",
       "40  2025-04-22 21:30:43.778419         3.12.9             0.14.0   \n",
       "52  2025-04-22 21:35:09.717123         3.12.9             0.15.0   \n",
       "64  2025-04-22 21:46:06.719447         3.12.9             0.15.0   \n",
       "76  2025-04-22 21:56:06.626060         3.12.9             0.16.0   \n",
       "88  2025-04-22 22:10:48.384325         3.12.9             0.16.0   \n",
       "124 2025-04-22 22:45:29.196743         3.12.9             0.15.0   \n",
       "136 2025-04-22 22:53:28.229034         3.12.9             0.16.0   \n",
       "172 2025-04-23 09:57:15.377890         3.12.9             0.16.0   \n",
       "184 2025-04-23 10:02:25.079514         3.12.9             0.16.0   \n",
       "196 2025-04-23 10:25:37.347542         3.12.9             0.16.0   \n",
       "208 2025-04-23 13:38:47.401274         3.12.9             0.16.0   \n",
       "220 2025-04-23 13:43:09.856542         3.12.9             0.16.0   \n",
       "232 2025-04-23 13:47:12.875448         3.12.9             0.16.0   \n",
       "\n",
       "    numpy_version pandas_version sklearn_version lightgbm_version  \\\n",
       "20         1.26.4          2.2.3           1.4.2            4.6.0   \n",
       "40         1.26.4          2.2.3           1.4.2            4.6.0   \n",
       "52         1.26.4          2.2.3           1.4.2            4.6.0   \n",
       "64          2.2.5          2.2.3           1.6.1            4.6.0   \n",
       "76          2.2.5          2.2.3           1.6.1            4.6.0   \n",
       "88         1.26.4          2.2.3           1.6.1            4.6.0   \n",
       "124        1.26.4          2.2.3           1.4.2            4.6.0   \n",
       "136        1.26.4          2.2.3           1.4.2            4.6.0   \n",
       "172        1.26.4          2.2.3           1.4.2            4.6.0   \n",
       "184         2.2.5          2.2.3           1.6.1            4.6.0   \n",
       "196         2.2.5          2.2.3           1.6.1            4.6.0   \n",
       "208         2.2.5          2.2.3           1.6.1            4.6.0   \n",
       "220         2.2.5          2.2.3           1.6.1            4.6.0   \n",
       "232         2.2.5          2.2.3           1.6.1            4.6.0   \n",
       "\n",
       "                                          platform processor  cpu_count  \\\n",
       "20   Linux-6.11.0-21-generic-x86_64-with-glibc2.39    x86_64          8   \n",
       "40   Linux-6.11.0-21-generic-x86_64-with-glibc2.39    x86_64          8   \n",
       "52   Linux-6.11.0-21-generic-x86_64-with-glibc2.39    x86_64          8   \n",
       "64   Linux-6.11.0-21-generic-x86_64-with-glibc2.39    x86_64          8   \n",
       "76   Linux-6.11.0-21-generic-x86_64-with-glibc2.39    x86_64          8   \n",
       "88   Linux-6.11.0-21-generic-x86_64-with-glibc2.39    x86_64          8   \n",
       "124  Linux-6.11.0-21-generic-x86_64-with-glibc2.39    x86_64          8   \n",
       "136  Linux-6.11.0-21-generic-x86_64-with-glibc2.39    x86_64          8   \n",
       "172  Linux-6.11.0-21-generic-x86_64-with-glibc2.39    x86_64          8   \n",
       "184  Linux-6.11.0-21-generic-x86_64-with-glibc2.39    x86_64          8   \n",
       "196  Linux-6.11.0-21-generic-x86_64-with-glibc2.39    x86_64          8   \n",
       "208  Linux-6.11.0-21-generic-x86_64-with-glibc2.39    x86_64          8   \n",
       "220  Linux-6.11.0-21-generic-x86_64-with-glibc2.39    x86_64          8   \n",
       "232  Linux-6.11.0-21-generic-x86_64-with-glibc2.39    x86_64          8   \n",
       "\n",
       "     memory_gb  \n",
       "20       16.64  \n",
       "40       16.64  \n",
       "52       16.64  \n",
       "64       16.64  \n",
       "76       16.64  \n",
       "88       16.64  \n",
       "124      16.64  \n",
       "136      16.64  \n",
       "172      16.64  \n",
       "184      16.64  \n",
       "196      16.64  \n",
       "208      16.64  \n",
       "220      16.64  \n",
       "232      16.64  "
      ]
     },
     "metadata": {},
     "output_type": "display_data"
    },
    {
     "data": {
      "application/vnd.plotly.v1+json": {
       "config": {
        "plotlyServerURL": "https://plot.ly"
       },
       "data": [
        {
         "alignmentgroup": "True",
         "boxpoints": "all",
         "customdata": [
          [
           "ForecasterRecursiveMultiSeries",
           "LGBMRegressor",
           "ForecasterRecursiveMultiSeries__create_train_X_y_single_series",
           "ea2ceb1c912245376ba4cea7595175be",
           0.00014991595462467174,
           "2025-04-22T21:23:59.663629",
           "3.12.9",
           "1.26.4",
           "2.2.3",
           "1.4.2",
           "4.6.0",
           "Linux-6.11.0-21-generic-x86_64-with-glibc2.39",
           "x86_64",
           8,
           16.64
          ],
          [
           "ForecasterRecursiveMultiSeries",
           "LGBMRegressor",
           "ForecasterRecursiveMultiSeries__create_train_X_y_single_series",
           "ea2ceb1c912245376ba4cea7595175be",
           0.00040456115629917364,
           "2025-04-22T21:30:43.778419",
           "3.12.9",
           "1.26.4",
           "2.2.3",
           "1.4.2",
           "4.6.0",
           "Linux-6.11.0-21-generic-x86_64-with-glibc2.39",
           "x86_64",
           8,
           16.64
          ]
         ],
         "fillcolor": "rgba(255,255,255,0)",
         "hoveron": "points",
         "hovertemplate": "skforecast_version=%{x}<br>run_time_avg=%{y}<br>forecaster_name=%{customdata[0]}<br>regressor_name=%{customdata[1]}<br>function_name=%{customdata[2]}<br>function_hash=%{customdata[3]}<br>run_time_std_dev=%{customdata[4]}<br>datetime=%{customdata[5]}<br>python_version=%{customdata[6]}<br>numpy_version=%{customdata[7]}<br>pandas_version=%{customdata[8]}<br>sklearn_version=%{customdata[9]}<br>lightgbm_version=%{customdata[10]}<br>platform=%{customdata[11]}<br>processor=%{customdata[12]}<br>cpu_count=%{customdata[13]}<br>memory_gb=%{customdata[14]}<extra></extra>",
         "jitter": true,
         "legendgroup": "0.14.0",
         "line": {
          "color": "rgba(255,255,255,0)"
         },
         "marker": {
          "color": "#636efa",
          "opacity": 0.7,
          "size": 10
         },
         "name": "0.14.0",
         "offsetgroup": "0.14.0",
         "orientation": "v",
         "pointpos": 0,
         "showlegend": true,
         "type": "box",
         "x": [
          "0.14.0",
          "0.14.0"
         ],
         "x0": " ",
         "xaxis": "x",
         "y": {
          "bdata": "MzMTmviDVj/NzEwTZ8dZPw==",
          "dtype": "f8"
         },
         "y0": " ",
         "yaxis": "y"
        },
        {
         "alignmentgroup": "True",
         "boxpoints": "all",
         "customdata": [
          [
           "ForecasterRecursiveMultiSeries",
           "LGBMRegressor",
           "ForecasterRecursiveMultiSeries__create_train_X_y_single_series",
           "ea2ceb1c912245376ba4cea7595175be",
           0.0004073836969268155,
           "2025-04-22T21:35:09.717123",
           "3.12.9",
           "1.26.4",
           "2.2.3",
           "1.4.2",
           "4.6.0",
           "Linux-6.11.0-21-generic-x86_64-with-glibc2.39",
           "x86_64",
           8,
           16.64
          ],
          [
           "ForecasterRecursiveMultiSeries",
           "LGBMRegressor",
           "ForecasterRecursiveMultiSeries__create_train_X_y_single_series",
           "ea2ceb1c912245376ba4cea7595175be",
           0.00024753725052533776,
           "2025-04-22T21:46:06.719447",
           "3.12.9",
           "2.2.5",
           "2.2.3",
           "1.6.1",
           "4.6.0",
           "Linux-6.11.0-21-generic-x86_64-with-glibc2.39",
           "x86_64",
           8,
           16.64
          ],
          [
           "ForecasterRecursiveMultiSeries",
           "LGBMRegressor",
           "ForecasterRecursiveMultiSeries__create_train_X_y_single_series",
           "ea2ceb1c912245376ba4cea7595175be",
           0.0005184155696863509,
           "2025-04-22T22:45:29.196743",
           "3.12.9",
           "1.26.4",
           "2.2.3",
           "1.4.2",
           "4.6.0",
           "Linux-6.11.0-21-generic-x86_64-with-glibc2.39",
           "x86_64",
           8,
           16.64
          ]
         ],
         "fillcolor": "rgba(255,255,255,0)",
         "hoveron": "points",
         "hovertemplate": "skforecast_version=%{x}<br>run_time_avg=%{y}<br>forecaster_name=%{customdata[0]}<br>regressor_name=%{customdata[1]}<br>function_name=%{customdata[2]}<br>function_hash=%{customdata[3]}<br>run_time_std_dev=%{customdata[4]}<br>datetime=%{customdata[5]}<br>python_version=%{customdata[6]}<br>numpy_version=%{customdata[7]}<br>pandas_version=%{customdata[8]}<br>sklearn_version=%{customdata[9]}<br>lightgbm_version=%{customdata[10]}<br>platform=%{customdata[11]}<br>processor=%{customdata[12]}<br>cpu_count=%{customdata[13]}<br>memory_gb=%{customdata[14]}<extra></extra>",
         "jitter": true,
         "legendgroup": "0.15.0",
         "line": {
          "color": "rgba(255,255,255,0)"
         },
         "marker": {
          "color": "#EF553B",
          "opacity": 0.7,
          "size": 10
         },
         "name": "0.15.0",
         "offsetgroup": "0.15.0",
         "orientation": "v",
         "pointpos": 0,
         "showlegend": true,
         "type": "box",
         "x": [
          "0.15.0",
          "0.15.0",
          "0.15.0"
         ],
         "x0": " ",
         "xaxis": "x",
         "y": {
          "bdata": "mplZy6cwZj+amdnPghNbP5qZ2W9AsWA/",
          "dtype": "f8"
         },
         "y0": " ",
         "yaxis": "y"
        },
        {
         "alignmentgroup": "True",
         "boxpoints": "all",
         "customdata": [
          [
           "ForecasterRecursiveMultiSeries",
           "LGBMRegressor",
           "ForecasterRecursiveMultiSeries__create_train_X_y_single_series",
           "ea2ceb1c912245376ba4cea7595175be",
           0.00036681044952331947,
           "2025-04-22T21:56:06.626060",
           "3.12.9",
           "2.2.5",
           "2.2.3",
           "1.6.1",
           "4.6.0",
           "Linux-6.11.0-21-generic-x86_64-with-glibc2.39",
           "x86_64",
           8,
           16.64
          ],
          [
           "ForecasterRecursiveMultiSeries",
           "LGBMRegressor",
           "ForecasterRecursiveMultiSeries__create_train_X_y_single_series",
           "ea2ceb1c912245376ba4cea7595175be",
           0.000880971091061238,
           "2025-04-22T22:10:48.384325",
           "3.12.9",
           "1.26.4",
           "2.2.3",
           "1.6.1",
           "4.6.0",
           "Linux-6.11.0-21-generic-x86_64-with-glibc2.39",
           "x86_64",
           8,
           16.64
          ],
          [
           "ForecasterRecursiveMultiSeries",
           "LGBMRegressor",
           "ForecasterRecursiveMultiSeries__create_train_X_y_single_series",
           "ea2ceb1c912245376ba4cea7595175be",
           0.00040949326298658436,
           "2025-04-22T22:53:28.229034",
           "3.12.9",
           "1.26.4",
           "2.2.3",
           "1.4.2",
           "4.6.0",
           "Linux-6.11.0-21-generic-x86_64-with-glibc2.39",
           "x86_64",
           8,
           16.64
          ],
          [
           "ForecasterRecursiveMultiSeries",
           "LGBMRegressor",
           "ForecasterRecursiveMultiSeries__create_train_X_y_single_series",
           "ea2ceb1c912245376ba4cea7595175be",
           0.0008618887231799554,
           "2025-04-23T09:57:15.377890",
           "3.12.9",
           "1.26.4",
           "2.2.3",
           "1.4.2",
           "4.6.0",
           "Linux-6.11.0-21-generic-x86_64-with-glibc2.39",
           "x86_64",
           8,
           16.64
          ],
          [
           "ForecasterRecursiveMultiSeries",
           "LGBMRegressor",
           "ForecasterRecursiveMultiSeries__create_train_X_y_single_series",
           "ea2ceb1c912245376ba4cea7595175be",
           0.00035929370872767817,
           "2025-04-23T10:02:25.079514",
           "3.12.9",
           "2.2.5",
           "2.2.3",
           "1.6.1",
           "4.6.0",
           "Linux-6.11.0-21-generic-x86_64-with-glibc2.39",
           "x86_64",
           8,
           16.64
          ],
          [
           "ForecasterRecursiveMultiSeries",
           "LGBMRegressor",
           "ForecasterRecursiveMultiSeries__create_train_X_y_single_series",
           "ea2ceb1c912245376ba4cea7595175be",
           0.0005361737111845733,
           "2025-04-23T10:25:37.347542",
           "3.12.9",
           "2.2.5",
           "2.2.3",
           "1.6.1",
           "4.6.0",
           "Linux-6.11.0-21-generic-x86_64-with-glibc2.39",
           "x86_64",
           8,
           16.64
          ],
          [
           "ForecasterRecursiveMultiSeries",
           "LGBMRegressor",
           "ForecasterRecursiveMultiSeries__create_train_X_y_single_series",
           "ea2ceb1c912245376ba4cea7595175be",
           0.00020436362135823943,
           "2025-04-23T13:38:47.401274",
           "3.12.9",
           "2.2.5",
           "2.2.3",
           "1.6.1",
           "4.6.0",
           "Linux-6.11.0-21-generic-x86_64-with-glibc2.39",
           "x86_64",
           8,
           16.64
          ],
          [
           "ForecasterRecursiveMultiSeries",
           "LGBMRegressor",
           "ForecasterRecursiveMultiSeries__create_train_X_y_single_series",
           "ea2ceb1c912245376ba4cea7595175be",
           0.00017513577108537424,
           "2025-04-23T13:43:09.856542",
           "3.12.9",
           "2.2.5",
           "2.2.3",
           "1.6.1",
           "4.6.0",
           "Linux-6.11.0-21-generic-x86_64-with-glibc2.39",
           "x86_64",
           8,
           16.64
          ],
          [
           "ForecasterRecursiveMultiSeries",
           "LGBMRegressor",
           "ForecasterRecursiveMultiSeries__create_train_X_y_single_series",
           "ea2ceb1c912245376ba4cea7595175be",
           0.0003408723934243494,
           "2025-04-23T13:47:12.875448",
           "3.12.9",
           "2.2.5",
           "2.2.3",
           "1.6.1",
           "4.6.0",
           "Linux-6.11.0-21-generic-x86_64-with-glibc2.39",
           "x86_64",
           8,
           16.64
          ]
         ],
         "fillcolor": "rgba(255,255,255,0)",
         "hoveron": "points",
         "hovertemplate": "skforecast_version=%{x}<br>run_time_avg=%{y}<br>forecaster_name=%{customdata[0]}<br>regressor_name=%{customdata[1]}<br>function_name=%{customdata[2]}<br>function_hash=%{customdata[3]}<br>run_time_std_dev=%{customdata[4]}<br>datetime=%{customdata[5]}<br>python_version=%{customdata[6]}<br>numpy_version=%{customdata[7]}<br>pandas_version=%{customdata[8]}<br>sklearn_version=%{customdata[9]}<br>lightgbm_version=%{customdata[10]}<br>platform=%{customdata[11]}<br>processor=%{customdata[12]}<br>cpu_count=%{customdata[13]}<br>memory_gb=%{customdata[14]}<extra></extra>",
         "jitter": true,
         "legendgroup": "0.16.0",
         "line": {
          "color": "rgba(255,255,255,0)"
         },
         "marker": {
          "color": "#00cc96",
          "opacity": 0.7,
          "size": 10
         },
         "name": "0.16.0",
         "offsetgroup": "0.16.0",
         "orientation": "v",
         "pointpos": 0,
         "showlegend": true,
         "type": "box",
         "x": [
          "0.16.0",
          "0.16.0",
          "0.16.0",
          "0.16.0",
          "0.16.0",
          "0.16.0",
          "0.16.0",
          "0.16.0",
          "0.16.0"
         ],
         "x0": " ",
         "xaxis": "x",
         "y": {
          "bdata": "ZmamG/+5XD9mZgZEvx5iPzMzs+WLDF4/mpmBd+wLYz/NzNhHIppiPwAA4JWdS18/mpkZ5lEfWD8AAMDxSqhVPwAAgLp3tFg/",
          "dtype": "f8"
         },
         "y0": " ",
         "yaxis": "y"
        },
        {
         "line": {
          "color": "black",
          "width": 2
         },
         "marker": {
          "size": 8
         },
         "mode": "lines+markers",
         "name": "Median",
         "showlegend": true,
         "type": "scatter",
         "x": [
          "0.14.0",
          "0.15.0",
          "0.16.0"
         ],
         "y": {
          "bdata": "AACw1q8lWD+amdlvQLFgPzMzs+WLDF4/",
          "dtype": "f8"
         }
        }
       ],
       "layout": {
        "boxmode": "overlay",
        "legend": {
         "title": {
          "text": "skforecast_version"
         },
         "tracegroupgap": 0
        },
        "margin": {
         "t": 60
        },
        "showlegend": true,
        "template": {
         "data": {
          "bar": [
           {
            "error_x": {
             "color": "#2a3f5f"
            },
            "error_y": {
             "color": "#2a3f5f"
            },
            "marker": {
             "line": {
              "color": "#E5ECF6",
              "width": 0.5
             },
             "pattern": {
              "fillmode": "overlay",
              "size": 10,
              "solidity": 0.2
             }
            },
            "type": "bar"
           }
          ],
          "barpolar": [
           {
            "marker": {
             "line": {
              "color": "#E5ECF6",
              "width": 0.5
             },
             "pattern": {
              "fillmode": "overlay",
              "size": 10,
              "solidity": 0.2
             }
            },
            "type": "barpolar"
           }
          ],
          "carpet": [
           {
            "aaxis": {
             "endlinecolor": "#2a3f5f",
             "gridcolor": "white",
             "linecolor": "white",
             "minorgridcolor": "white",
             "startlinecolor": "#2a3f5f"
            },
            "baxis": {
             "endlinecolor": "#2a3f5f",
             "gridcolor": "white",
             "linecolor": "white",
             "minorgridcolor": "white",
             "startlinecolor": "#2a3f5f"
            },
            "type": "carpet"
           }
          ],
          "choropleth": [
           {
            "colorbar": {
             "outlinewidth": 0,
             "ticks": ""
            },
            "type": "choropleth"
           }
          ],
          "contour": [
           {
            "colorbar": {
             "outlinewidth": 0,
             "ticks": ""
            },
            "colorscale": [
             [
              0,
              "#0d0887"
             ],
             [
              0.1111111111111111,
              "#46039f"
             ],
             [
              0.2222222222222222,
              "#7201a8"
             ],
             [
              0.3333333333333333,
              "#9c179e"
             ],
             [
              0.4444444444444444,
              "#bd3786"
             ],
             [
              0.5555555555555556,
              "#d8576b"
             ],
             [
              0.6666666666666666,
              "#ed7953"
             ],
             [
              0.7777777777777778,
              "#fb9f3a"
             ],
             [
              0.8888888888888888,
              "#fdca26"
             ],
             [
              1,
              "#f0f921"
             ]
            ],
            "type": "contour"
           }
          ],
          "contourcarpet": [
           {
            "colorbar": {
             "outlinewidth": 0,
             "ticks": ""
            },
            "type": "contourcarpet"
           }
          ],
          "heatmap": [
           {
            "colorbar": {
             "outlinewidth": 0,
             "ticks": ""
            },
            "colorscale": [
             [
              0,
              "#0d0887"
             ],
             [
              0.1111111111111111,
              "#46039f"
             ],
             [
              0.2222222222222222,
              "#7201a8"
             ],
             [
              0.3333333333333333,
              "#9c179e"
             ],
             [
              0.4444444444444444,
              "#bd3786"
             ],
             [
              0.5555555555555556,
              "#d8576b"
             ],
             [
              0.6666666666666666,
              "#ed7953"
             ],
             [
              0.7777777777777778,
              "#fb9f3a"
             ],
             [
              0.8888888888888888,
              "#fdca26"
             ],
             [
              1,
              "#f0f921"
             ]
            ],
            "type": "heatmap"
           }
          ],
          "histogram": [
           {
            "marker": {
             "pattern": {
              "fillmode": "overlay",
              "size": 10,
              "solidity": 0.2
             }
            },
            "type": "histogram"
           }
          ],
          "histogram2d": [
           {
            "colorbar": {
             "outlinewidth": 0,
             "ticks": ""
            },
            "colorscale": [
             [
              0,
              "#0d0887"
             ],
             [
              0.1111111111111111,
              "#46039f"
             ],
             [
              0.2222222222222222,
              "#7201a8"
             ],
             [
              0.3333333333333333,
              "#9c179e"
             ],
             [
              0.4444444444444444,
              "#bd3786"
             ],
             [
              0.5555555555555556,
              "#d8576b"
             ],
             [
              0.6666666666666666,
              "#ed7953"
             ],
             [
              0.7777777777777778,
              "#fb9f3a"
             ],
             [
              0.8888888888888888,
              "#fdca26"
             ],
             [
              1,
              "#f0f921"
             ]
            ],
            "type": "histogram2d"
           }
          ],
          "histogram2dcontour": [
           {
            "colorbar": {
             "outlinewidth": 0,
             "ticks": ""
            },
            "colorscale": [
             [
              0,
              "#0d0887"
             ],
             [
              0.1111111111111111,
              "#46039f"
             ],
             [
              0.2222222222222222,
              "#7201a8"
             ],
             [
              0.3333333333333333,
              "#9c179e"
             ],
             [
              0.4444444444444444,
              "#bd3786"
             ],
             [
              0.5555555555555556,
              "#d8576b"
             ],
             [
              0.6666666666666666,
              "#ed7953"
             ],
             [
              0.7777777777777778,
              "#fb9f3a"
             ],
             [
              0.8888888888888888,
              "#fdca26"
             ],
             [
              1,
              "#f0f921"
             ]
            ],
            "type": "histogram2dcontour"
           }
          ],
          "mesh3d": [
           {
            "colorbar": {
             "outlinewidth": 0,
             "ticks": ""
            },
            "type": "mesh3d"
           }
          ],
          "parcoords": [
           {
            "line": {
             "colorbar": {
              "outlinewidth": 0,
              "ticks": ""
             }
            },
            "type": "parcoords"
           }
          ],
          "pie": [
           {
            "automargin": true,
            "type": "pie"
           }
          ],
          "scatter": [
           {
            "fillpattern": {
             "fillmode": "overlay",
             "size": 10,
             "solidity": 0.2
            },
            "type": "scatter"
           }
          ],
          "scatter3d": [
           {
            "line": {
             "colorbar": {
              "outlinewidth": 0,
              "ticks": ""
             }
            },
            "marker": {
             "colorbar": {
              "outlinewidth": 0,
              "ticks": ""
             }
            },
            "type": "scatter3d"
           }
          ],
          "scattercarpet": [
           {
            "marker": {
             "colorbar": {
              "outlinewidth": 0,
              "ticks": ""
             }
            },
            "type": "scattercarpet"
           }
          ],
          "scattergeo": [
           {
            "marker": {
             "colorbar": {
              "outlinewidth": 0,
              "ticks": ""
             }
            },
            "type": "scattergeo"
           }
          ],
          "scattergl": [
           {
            "marker": {
             "colorbar": {
              "outlinewidth": 0,
              "ticks": ""
             }
            },
            "type": "scattergl"
           }
          ],
          "scattermap": [
           {
            "marker": {
             "colorbar": {
              "outlinewidth": 0,
              "ticks": ""
             }
            },
            "type": "scattermap"
           }
          ],
          "scattermapbox": [
           {
            "marker": {
             "colorbar": {
              "outlinewidth": 0,
              "ticks": ""
             }
            },
            "type": "scattermapbox"
           }
          ],
          "scatterpolar": [
           {
            "marker": {
             "colorbar": {
              "outlinewidth": 0,
              "ticks": ""
             }
            },
            "type": "scatterpolar"
           }
          ],
          "scatterpolargl": [
           {
            "marker": {
             "colorbar": {
              "outlinewidth": 0,
              "ticks": ""
             }
            },
            "type": "scatterpolargl"
           }
          ],
          "scatterternary": [
           {
            "marker": {
             "colorbar": {
              "outlinewidth": 0,
              "ticks": ""
             }
            },
            "type": "scatterternary"
           }
          ],
          "surface": [
           {
            "colorbar": {
             "outlinewidth": 0,
             "ticks": ""
            },
            "colorscale": [
             [
              0,
              "#0d0887"
             ],
             [
              0.1111111111111111,
              "#46039f"
             ],
             [
              0.2222222222222222,
              "#7201a8"
             ],
             [
              0.3333333333333333,
              "#9c179e"
             ],
             [
              0.4444444444444444,
              "#bd3786"
             ],
             [
              0.5555555555555556,
              "#d8576b"
             ],
             [
              0.6666666666666666,
              "#ed7953"
             ],
             [
              0.7777777777777778,
              "#fb9f3a"
             ],
             [
              0.8888888888888888,
              "#fdca26"
             ],
             [
              1,
              "#f0f921"
             ]
            ],
            "type": "surface"
           }
          ],
          "table": [
           {
            "cells": {
             "fill": {
              "color": "#EBF0F8"
             },
             "line": {
              "color": "white"
             }
            },
            "header": {
             "fill": {
              "color": "#C8D4E3"
             },
             "line": {
              "color": "white"
             }
            },
            "type": "table"
           }
          ]
         },
         "layout": {
          "annotationdefaults": {
           "arrowcolor": "#2a3f5f",
           "arrowhead": 0,
           "arrowwidth": 1
          },
          "autotypenumbers": "strict",
          "coloraxis": {
           "colorbar": {
            "outlinewidth": 0,
            "ticks": ""
           }
          },
          "colorscale": {
           "diverging": [
            [
             0,
             "#8e0152"
            ],
            [
             0.1,
             "#c51b7d"
            ],
            [
             0.2,
             "#de77ae"
            ],
            [
             0.3,
             "#f1b6da"
            ],
            [
             0.4,
             "#fde0ef"
            ],
            [
             0.5,
             "#f7f7f7"
            ],
            [
             0.6,
             "#e6f5d0"
            ],
            [
             0.7,
             "#b8e186"
            ],
            [
             0.8,
             "#7fbc41"
            ],
            [
             0.9,
             "#4d9221"
            ],
            [
             1,
             "#276419"
            ]
           ],
           "sequential": [
            [
             0,
             "#0d0887"
            ],
            [
             0.1111111111111111,
             "#46039f"
            ],
            [
             0.2222222222222222,
             "#7201a8"
            ],
            [
             0.3333333333333333,
             "#9c179e"
            ],
            [
             0.4444444444444444,
             "#bd3786"
            ],
            [
             0.5555555555555556,
             "#d8576b"
            ],
            [
             0.6666666666666666,
             "#ed7953"
            ],
            [
             0.7777777777777778,
             "#fb9f3a"
            ],
            [
             0.8888888888888888,
             "#fdca26"
            ],
            [
             1,
             "#f0f921"
            ]
           ],
           "sequentialminus": [
            [
             0,
             "#0d0887"
            ],
            [
             0.1111111111111111,
             "#46039f"
            ],
            [
             0.2222222222222222,
             "#7201a8"
            ],
            [
             0.3333333333333333,
             "#9c179e"
            ],
            [
             0.4444444444444444,
             "#bd3786"
            ],
            [
             0.5555555555555556,
             "#d8576b"
            ],
            [
             0.6666666666666666,
             "#ed7953"
            ],
            [
             0.7777777777777778,
             "#fb9f3a"
            ],
            [
             0.8888888888888888,
             "#fdca26"
            ],
            [
             1,
             "#f0f921"
            ]
           ]
          },
          "colorway": [
           "#636efa",
           "#EF553B",
           "#00cc96",
           "#ab63fa",
           "#FFA15A",
           "#19d3f3",
           "#FF6692",
           "#B6E880",
           "#FF97FF",
           "#FECB52"
          ],
          "font": {
           "color": "#2a3f5f"
          },
          "geo": {
           "bgcolor": "white",
           "lakecolor": "white",
           "landcolor": "#E5ECF6",
           "showlakes": true,
           "showland": true,
           "subunitcolor": "white"
          },
          "hoverlabel": {
           "align": "left"
          },
          "hovermode": "closest",
          "mapbox": {
           "style": "light"
          },
          "paper_bgcolor": "white",
          "plot_bgcolor": "#E5ECF6",
          "polar": {
           "angularaxis": {
            "gridcolor": "white",
            "linecolor": "white",
            "ticks": ""
           },
           "bgcolor": "#E5ECF6",
           "radialaxis": {
            "gridcolor": "white",
            "linecolor": "white",
            "ticks": ""
           }
          },
          "scene": {
           "xaxis": {
            "backgroundcolor": "#E5ECF6",
            "gridcolor": "white",
            "gridwidth": 2,
            "linecolor": "white",
            "showbackground": true,
            "ticks": "",
            "zerolinecolor": "white"
           },
           "yaxis": {
            "backgroundcolor": "#E5ECF6",
            "gridcolor": "white",
            "gridwidth": 2,
            "linecolor": "white",
            "showbackground": true,
            "ticks": "",
            "zerolinecolor": "white"
           },
           "zaxis": {
            "backgroundcolor": "#E5ECF6",
            "gridcolor": "white",
            "gridwidth": 2,
            "linecolor": "white",
            "showbackground": true,
            "ticks": "",
            "zerolinecolor": "white"
           }
          },
          "shapedefaults": {
           "line": {
            "color": "#2a3f5f"
           }
          },
          "ternary": {
           "aaxis": {
            "gridcolor": "white",
            "linecolor": "white",
            "ticks": ""
           },
           "baxis": {
            "gridcolor": "white",
            "linecolor": "white",
            "ticks": ""
           },
           "bgcolor": "#E5ECF6",
           "caxis": {
            "gridcolor": "white",
            "linecolor": "white",
            "ticks": ""
           }
          },
          "title": {
           "x": 0.05
          },
          "xaxis": {
           "automargin": true,
           "gridcolor": "white",
           "linecolor": "white",
           "ticks": "",
           "title": {
            "standoff": 15
           },
           "zerolinecolor": "white",
           "zerolinewidth": 2
          },
          "yaxis": {
           "automargin": true,
           "gridcolor": "white",
           "linecolor": "white",
           "ticks": "",
           "title": {
            "standoff": 15
           },
           "zerolinecolor": "white",
           "zerolinewidth": 2
          }
         }
        },
        "title": {
         "text": "Execution time of ForecasterRecursiveMultiSeries__create_train_X_y_single_series"
        },
        "xaxis": {
         "anchor": "y",
         "categoryarray": [
          "0.14.0",
          "0.15.0",
          "0.16.0"
         ],
         "categoryorder": "array",
         "domain": [
          0,
          1
         ],
         "title": {
          "text": "skforecast version"
         }
        },
        "yaxis": {
         "anchor": "x",
         "domain": [
          0,
          1
         ],
         "title": {
          "text": "Execution time (seconds)"
         }
        }
       }
      }
     },
     "metadata": {},
     "output_type": "display_data"
    },
    {
     "data": {
      "application/vnd.microsoft.datawrangler.viewer.v0+json": {
       "columns": [
        {
         "name": "index",
         "rawType": "int64",
         "type": "integer"
        },
        {
         "name": "forecaster_name",
         "rawType": "object",
         "type": "string"
        },
        {
         "name": "regressor_name",
         "rawType": "object",
         "type": "string"
        },
        {
         "name": "function_name",
         "rawType": "object",
         "type": "string"
        },
        {
         "name": "function_hash",
         "rawType": "object",
         "type": "string"
        },
        {
         "name": "run_time_avg",
         "rawType": "float64",
         "type": "float"
        },
        {
         "name": "run_time_std_dev",
         "rawType": "float64",
         "type": "float"
        },
        {
         "name": "datetime",
         "rawType": "datetime64[ns]",
         "type": "datetime"
        },
        {
         "name": "python_version",
         "rawType": "object",
         "type": "string"
        },
        {
         "name": "skforecast_version",
         "rawType": "object",
         "type": "string"
        },
        {
         "name": "numpy_version",
         "rawType": "object",
         "type": "string"
        },
        {
         "name": "pandas_version",
         "rawType": "object",
         "type": "string"
        },
        {
         "name": "sklearn_version",
         "rawType": "object",
         "type": "string"
        },
        {
         "name": "lightgbm_version",
         "rawType": "object",
         "type": "string"
        },
        {
         "name": "platform",
         "rawType": "object",
         "type": "string"
        },
        {
         "name": "processor",
         "rawType": "object",
         "type": "string"
        },
        {
         "name": "cpu_count",
         "rawType": "int64",
         "type": "integer"
        },
        {
         "name": "memory_gb",
         "rawType": "float64",
         "type": "float"
        }
       ],
       "conversionMethod": "pd.DataFrame",
       "ref": "2e480f73-79de-41bf-843c-35c2b112304e",
       "rows": [
        [
         "21",
         "ForecasterRecursiveMultiSeries",
         "LGBMRegressor",
         "ForecasterRecursiveMultiSeries_predict_exog_is_dict",
         "451898dccb92cc6f0a674d62eb66e4d8",
         "1.726757622399964",
         "0.04581636614850499",
         "2025-04-22 21:23:59.674122",
         "3.12.9",
         "0.14.0",
         "1.26.4",
         "2.2.3",
         "1.4.2",
         "4.6.0",
         "Linux-6.11.0-21-generic-x86_64-with-glibc2.39",
         "x86_64",
         "8",
         "16.64"
        ],
        [
         "41",
         "ForecasterRecursiveMultiSeries",
         "LGBMRegressor",
         "ForecasterRecursiveMultiSeries_predict_exog_is_dict",
         "451898dccb92cc6f0a674d62eb66e4d8",
         "1.8017884053999296",
         "0.19909095332808882",
         "2025-04-22 21:30:43.790260",
         "3.12.9",
         "0.14.0",
         "1.26.4",
         "2.2.3",
         "1.4.2",
         "4.6.0",
         "Linux-6.11.0-21-generic-x86_64-with-glibc2.39",
         "x86_64",
         "8",
         "16.64"
        ],
        [
         "53",
         "ForecasterRecursiveMultiSeries",
         "LGBMRegressor",
         "ForecasterRecursiveMultiSeries_predict_exog_is_dict",
         "451898dccb92cc6f0a674d62eb66e4d8",
         "2.4789470164001615",
         "0.11089799465734283",
         "2025-04-22 21:35:09.738397",
         "3.12.9",
         "0.15.0",
         "1.26.4",
         "2.2.3",
         "1.4.2",
         "4.6.0",
         "Linux-6.11.0-21-generic-x86_64-with-glibc2.39",
         "x86_64",
         "8",
         "16.64"
        ],
        [
         "65",
         "ForecasterRecursiveMultiSeries",
         "LGBMRegressor",
         "ForecasterRecursiveMultiSeries_predict_exog_is_dict",
         "451898dccb92cc6f0a674d62eb66e4d8",
         "2.4549630917998",
         "0.16443375305577174",
         "2025-04-22 21:46:06.733806",
         "3.12.9",
         "0.15.0",
         "2.2.5",
         "2.2.3",
         "1.6.1",
         "4.6.0",
         "Linux-6.11.0-21-generic-x86_64-with-glibc2.39",
         "x86_64",
         "8",
         "16.64"
        ],
        [
         "77",
         "ForecasterRecursiveMultiSeries",
         "LGBMRegressor",
         "ForecasterRecursiveMultiSeries_predict_exog_is_dict",
         "451898dccb92cc6f0a674d62eb66e4d8",
         "0.7242522754000674",
         "0.0445398912878694",
         "2025-04-22 21:56:06.640060",
         "3.12.9",
         "0.16.0",
         "2.2.5",
         "2.2.3",
         "1.6.1",
         "4.6.0",
         "Linux-6.11.0-21-generic-x86_64-with-glibc2.39",
         "x86_64",
         "8",
         "16.64"
        ],
        [
         "89",
         "ForecasterRecursiveMultiSeries",
         "LGBMRegressor",
         "ForecasterRecursiveMultiSeries_predict_exog_is_dict",
         "451898dccb92cc6f0a674d62eb66e4d8",
         "0.6904644722000739",
         "0.06790947321137154",
         "2025-04-22 22:10:48.401687",
         "3.12.9",
         "0.16.0",
         "1.26.4",
         "2.2.3",
         "1.6.1",
         "4.6.0",
         "Linux-6.11.0-21-generic-x86_64-with-glibc2.39",
         "x86_64",
         "8",
         "16.64"
        ],
        [
         "125",
         "ForecasterRecursiveMultiSeries",
         "LGBMRegressor",
         "ForecasterRecursiveMultiSeries_predict_exog_is_dict",
         "451898dccb92cc6f0a674d62eb66e4d8",
         "2.9955822931995497",
         "0.4039740046292716",
         "2025-04-22 22:45:29.213280",
         "3.12.9",
         "0.15.0",
         "1.26.4",
         "2.2.3",
         "1.4.2",
         "4.6.0",
         "Linux-6.11.0-21-generic-x86_64-with-glibc2.39",
         "x86_64",
         "8",
         "16.64"
        ],
        [
         "137",
         "ForecasterRecursiveMultiSeries",
         "LGBMRegressor",
         "ForecasterRecursiveMultiSeries_predict_exog_is_dict",
         "451898dccb92cc6f0a674d62eb66e4d8",
         "0.6084912667996832",
         "0.018188606261582394",
         "2025-04-22 22:53:28.243796",
         "3.12.9",
         "0.16.0",
         "1.26.4",
         "2.2.3",
         "1.4.2",
         "4.6.0",
         "Linux-6.11.0-21-generic-x86_64-with-glibc2.39",
         "x86_64",
         "8",
         "16.64"
        ],
        [
         "173",
         "ForecasterRecursiveMultiSeries",
         "LGBMRegressor",
         "ForecasterRecursiveMultiSeries_predict_exog_is_dict",
         "451898dccb92cc6f0a674d62eb66e4d8",
         "0.6668802920000075",
         "0.0549860608307397",
         "2025-04-23 09:57:15.397602",
         "3.12.9",
         "0.16.0",
         "1.26.4",
         "2.2.3",
         "1.4.2",
         "4.6.0",
         "Linux-6.11.0-21-generic-x86_64-with-glibc2.39",
         "x86_64",
         "8",
         "16.64"
        ],
        [
         "185",
         "ForecasterRecursiveMultiSeries",
         "LGBMRegressor",
         "ForecasterRecursiveMultiSeries_predict_exog_is_dict",
         "451898dccb92cc6f0a674d62eb66e4d8",
         "0.7123413874000107",
         "0.02030656877753832",
         "2025-04-23 10:02:25.097923",
         "3.12.9",
         "0.16.0",
         "2.2.5",
         "2.2.3",
         "1.6.1",
         "4.6.0",
         "Linux-6.11.0-21-generic-x86_64-with-glibc2.39",
         "x86_64",
         "8",
         "16.64"
        ],
        [
         "197",
         "ForecasterRecursiveMultiSeries",
         "LGBMRegressor",
         "ForecasterRecursiveMultiSeries_predict_exog_is_dict",
         "451898dccb92cc6f0a674d62eb66e4d8",
         "0.7042586378000124",
         "0.047135767551593426",
         "2025-04-23 10:25:37.367475",
         "3.12.9",
         "0.16.0",
         "2.2.5",
         "2.2.3",
         "1.6.1",
         "4.6.0",
         "Linux-6.11.0-21-generic-x86_64-with-glibc2.39",
         "x86_64",
         "8",
         "16.64"
        ],
        [
         "209",
         "ForecasterRecursiveMultiSeries",
         "LGBMRegressor",
         "ForecasterRecursiveMultiSeries_predict_exog_is_dict",
         "451898dccb92cc6f0a674d62eb66e4d8",
         "0.4586232999999993",
         "0.022312863722117434",
         "2025-04-23 13:38:47.414841",
         "3.12.9",
         "0.16.0",
         "2.2.5",
         "2.2.3",
         "1.6.1",
         "4.6.0",
         "Linux-6.11.0-21-generic-x86_64-with-glibc2.39",
         "x86_64",
         "8",
         "16.64"
        ],
        [
         "221",
         "ForecasterRecursiveMultiSeries",
         "LGBMRegressor",
         "ForecasterRecursiveMultiSeries_predict_exog_is_dict",
         "451898dccb92cc6f0a674d62eb66e4d8",
         "0.4234527964003064",
         "0.012602731992967431",
         "2025-04-23 13:43:09.867763",
         "3.12.9",
         "0.16.0",
         "2.2.5",
         "2.2.3",
         "1.6.1",
         "4.6.0",
         "Linux-6.11.0-21-generic-x86_64-with-glibc2.39",
         "x86_64",
         "8",
         "16.64"
        ],
        [
         "233",
         "ForecasterRecursiveMultiSeries",
         "LGBMRegressor",
         "ForecasterRecursiveMultiSeries_predict_exog_is_dict",
         "451898dccb92cc6f0a674d62eb66e4d8",
         "0.5146540273999562",
         "0.10791125802905892",
         "2025-04-23 13:47:12.887375",
         "3.12.9",
         "0.16.0",
         "2.2.5",
         "2.2.3",
         "1.6.1",
         "4.6.0",
         "Linux-6.11.0-21-generic-x86_64-with-glibc2.39",
         "x86_64",
         "8",
         "16.64"
        ]
       ],
       "shape": {
        "columns": 17,
        "rows": 14
       }
      },
      "text/html": [
       "<div>\n",
       "<style scoped>\n",
       "    .dataframe tbody tr th:only-of-type {\n",
       "        vertical-align: middle;\n",
       "    }\n",
       "\n",
       "    .dataframe tbody tr th {\n",
       "        vertical-align: top;\n",
       "    }\n",
       "\n",
       "    .dataframe thead th {\n",
       "        text-align: right;\n",
       "    }\n",
       "</style>\n",
       "<table border=\"1\" class=\"dataframe\">\n",
       "  <thead>\n",
       "    <tr style=\"text-align: right;\">\n",
       "      <th></th>\n",
       "      <th>forecaster_name</th>\n",
       "      <th>regressor_name</th>\n",
       "      <th>function_name</th>\n",
       "      <th>function_hash</th>\n",
       "      <th>run_time_avg</th>\n",
       "      <th>run_time_std_dev</th>\n",
       "      <th>datetime</th>\n",
       "      <th>python_version</th>\n",
       "      <th>skforecast_version</th>\n",
       "      <th>numpy_version</th>\n",
       "      <th>pandas_version</th>\n",
       "      <th>sklearn_version</th>\n",
       "      <th>lightgbm_version</th>\n",
       "      <th>platform</th>\n",
       "      <th>processor</th>\n",
       "      <th>cpu_count</th>\n",
       "      <th>memory_gb</th>\n",
       "    </tr>\n",
       "  </thead>\n",
       "  <tbody>\n",
       "    <tr>\n",
       "      <th>21</th>\n",
       "      <td>ForecasterRecursiveMultiSeries</td>\n",
       "      <td>LGBMRegressor</td>\n",
       "      <td>ForecasterRecursiveMultiSeries_predict_exog_is...</td>\n",
       "      <td>451898dccb92cc6f0a674d62eb66e4d8</td>\n",
       "      <td>1.726758</td>\n",
       "      <td>0.045816</td>\n",
       "      <td>2025-04-22 21:23:59.674122</td>\n",
       "      <td>3.12.9</td>\n",
       "      <td>0.14.0</td>\n",
       "      <td>1.26.4</td>\n",
       "      <td>2.2.3</td>\n",
       "      <td>1.4.2</td>\n",
       "      <td>4.6.0</td>\n",
       "      <td>Linux-6.11.0-21-generic-x86_64-with-glibc2.39</td>\n",
       "      <td>x86_64</td>\n",
       "      <td>8</td>\n",
       "      <td>16.64</td>\n",
       "    </tr>\n",
       "    <tr>\n",
       "      <th>41</th>\n",
       "      <td>ForecasterRecursiveMultiSeries</td>\n",
       "      <td>LGBMRegressor</td>\n",
       "      <td>ForecasterRecursiveMultiSeries_predict_exog_is...</td>\n",
       "      <td>451898dccb92cc6f0a674d62eb66e4d8</td>\n",
       "      <td>1.801788</td>\n",
       "      <td>0.199091</td>\n",
       "      <td>2025-04-22 21:30:43.790260</td>\n",
       "      <td>3.12.9</td>\n",
       "      <td>0.14.0</td>\n",
       "      <td>1.26.4</td>\n",
       "      <td>2.2.3</td>\n",
       "      <td>1.4.2</td>\n",
       "      <td>4.6.0</td>\n",
       "      <td>Linux-6.11.0-21-generic-x86_64-with-glibc2.39</td>\n",
       "      <td>x86_64</td>\n",
       "      <td>8</td>\n",
       "      <td>16.64</td>\n",
       "    </tr>\n",
       "    <tr>\n",
       "      <th>53</th>\n",
       "      <td>ForecasterRecursiveMultiSeries</td>\n",
       "      <td>LGBMRegressor</td>\n",
       "      <td>ForecasterRecursiveMultiSeries_predict_exog_is...</td>\n",
       "      <td>451898dccb92cc6f0a674d62eb66e4d8</td>\n",
       "      <td>2.478947</td>\n",
       "      <td>0.110898</td>\n",
       "      <td>2025-04-22 21:35:09.738397</td>\n",
       "      <td>3.12.9</td>\n",
       "      <td>0.15.0</td>\n",
       "      <td>1.26.4</td>\n",
       "      <td>2.2.3</td>\n",
       "      <td>1.4.2</td>\n",
       "      <td>4.6.0</td>\n",
       "      <td>Linux-6.11.0-21-generic-x86_64-with-glibc2.39</td>\n",
       "      <td>x86_64</td>\n",
       "      <td>8</td>\n",
       "      <td>16.64</td>\n",
       "    </tr>\n",
       "    <tr>\n",
       "      <th>65</th>\n",
       "      <td>ForecasterRecursiveMultiSeries</td>\n",
       "      <td>LGBMRegressor</td>\n",
       "      <td>ForecasterRecursiveMultiSeries_predict_exog_is...</td>\n",
       "      <td>451898dccb92cc6f0a674d62eb66e4d8</td>\n",
       "      <td>2.454963</td>\n",
       "      <td>0.164434</td>\n",
       "      <td>2025-04-22 21:46:06.733806</td>\n",
       "      <td>3.12.9</td>\n",
       "      <td>0.15.0</td>\n",
       "      <td>2.2.5</td>\n",
       "      <td>2.2.3</td>\n",
       "      <td>1.6.1</td>\n",
       "      <td>4.6.0</td>\n",
       "      <td>Linux-6.11.0-21-generic-x86_64-with-glibc2.39</td>\n",
       "      <td>x86_64</td>\n",
       "      <td>8</td>\n",
       "      <td>16.64</td>\n",
       "    </tr>\n",
       "    <tr>\n",
       "      <th>77</th>\n",
       "      <td>ForecasterRecursiveMultiSeries</td>\n",
       "      <td>LGBMRegressor</td>\n",
       "      <td>ForecasterRecursiveMultiSeries_predict_exog_is...</td>\n",
       "      <td>451898dccb92cc6f0a674d62eb66e4d8</td>\n",
       "      <td>0.724252</td>\n",
       "      <td>0.044540</td>\n",
       "      <td>2025-04-22 21:56:06.640060</td>\n",
       "      <td>3.12.9</td>\n",
       "      <td>0.16.0</td>\n",
       "      <td>2.2.5</td>\n",
       "      <td>2.2.3</td>\n",
       "      <td>1.6.1</td>\n",
       "      <td>4.6.0</td>\n",
       "      <td>Linux-6.11.0-21-generic-x86_64-with-glibc2.39</td>\n",
       "      <td>x86_64</td>\n",
       "      <td>8</td>\n",
       "      <td>16.64</td>\n",
       "    </tr>\n",
       "    <tr>\n",
       "      <th>89</th>\n",
       "      <td>ForecasterRecursiveMultiSeries</td>\n",
       "      <td>LGBMRegressor</td>\n",
       "      <td>ForecasterRecursiveMultiSeries_predict_exog_is...</td>\n",
       "      <td>451898dccb92cc6f0a674d62eb66e4d8</td>\n",
       "      <td>0.690464</td>\n",
       "      <td>0.067909</td>\n",
       "      <td>2025-04-22 22:10:48.401687</td>\n",
       "      <td>3.12.9</td>\n",
       "      <td>0.16.0</td>\n",
       "      <td>1.26.4</td>\n",
       "      <td>2.2.3</td>\n",
       "      <td>1.6.1</td>\n",
       "      <td>4.6.0</td>\n",
       "      <td>Linux-6.11.0-21-generic-x86_64-with-glibc2.39</td>\n",
       "      <td>x86_64</td>\n",
       "      <td>8</td>\n",
       "      <td>16.64</td>\n",
       "    </tr>\n",
       "    <tr>\n",
       "      <th>125</th>\n",
       "      <td>ForecasterRecursiveMultiSeries</td>\n",
       "      <td>LGBMRegressor</td>\n",
       "      <td>ForecasterRecursiveMultiSeries_predict_exog_is...</td>\n",
       "      <td>451898dccb92cc6f0a674d62eb66e4d8</td>\n",
       "      <td>2.995582</td>\n",
       "      <td>0.403974</td>\n",
       "      <td>2025-04-22 22:45:29.213280</td>\n",
       "      <td>3.12.9</td>\n",
       "      <td>0.15.0</td>\n",
       "      <td>1.26.4</td>\n",
       "      <td>2.2.3</td>\n",
       "      <td>1.4.2</td>\n",
       "      <td>4.6.0</td>\n",
       "      <td>Linux-6.11.0-21-generic-x86_64-with-glibc2.39</td>\n",
       "      <td>x86_64</td>\n",
       "      <td>8</td>\n",
       "      <td>16.64</td>\n",
       "    </tr>\n",
       "    <tr>\n",
       "      <th>137</th>\n",
       "      <td>ForecasterRecursiveMultiSeries</td>\n",
       "      <td>LGBMRegressor</td>\n",
       "      <td>ForecasterRecursiveMultiSeries_predict_exog_is...</td>\n",
       "      <td>451898dccb92cc6f0a674d62eb66e4d8</td>\n",
       "      <td>0.608491</td>\n",
       "      <td>0.018189</td>\n",
       "      <td>2025-04-22 22:53:28.243796</td>\n",
       "      <td>3.12.9</td>\n",
       "      <td>0.16.0</td>\n",
       "      <td>1.26.4</td>\n",
       "      <td>2.2.3</td>\n",
       "      <td>1.4.2</td>\n",
       "      <td>4.6.0</td>\n",
       "      <td>Linux-6.11.0-21-generic-x86_64-with-glibc2.39</td>\n",
       "      <td>x86_64</td>\n",
       "      <td>8</td>\n",
       "      <td>16.64</td>\n",
       "    </tr>\n",
       "    <tr>\n",
       "      <th>173</th>\n",
       "      <td>ForecasterRecursiveMultiSeries</td>\n",
       "      <td>LGBMRegressor</td>\n",
       "      <td>ForecasterRecursiveMultiSeries_predict_exog_is...</td>\n",
       "      <td>451898dccb92cc6f0a674d62eb66e4d8</td>\n",
       "      <td>0.666880</td>\n",
       "      <td>0.054986</td>\n",
       "      <td>2025-04-23 09:57:15.397602</td>\n",
       "      <td>3.12.9</td>\n",
       "      <td>0.16.0</td>\n",
       "      <td>1.26.4</td>\n",
       "      <td>2.2.3</td>\n",
       "      <td>1.4.2</td>\n",
       "      <td>4.6.0</td>\n",
       "      <td>Linux-6.11.0-21-generic-x86_64-with-glibc2.39</td>\n",
       "      <td>x86_64</td>\n",
       "      <td>8</td>\n",
       "      <td>16.64</td>\n",
       "    </tr>\n",
       "    <tr>\n",
       "      <th>185</th>\n",
       "      <td>ForecasterRecursiveMultiSeries</td>\n",
       "      <td>LGBMRegressor</td>\n",
       "      <td>ForecasterRecursiveMultiSeries_predict_exog_is...</td>\n",
       "      <td>451898dccb92cc6f0a674d62eb66e4d8</td>\n",
       "      <td>0.712341</td>\n",
       "      <td>0.020307</td>\n",
       "      <td>2025-04-23 10:02:25.097923</td>\n",
       "      <td>3.12.9</td>\n",
       "      <td>0.16.0</td>\n",
       "      <td>2.2.5</td>\n",
       "      <td>2.2.3</td>\n",
       "      <td>1.6.1</td>\n",
       "      <td>4.6.0</td>\n",
       "      <td>Linux-6.11.0-21-generic-x86_64-with-glibc2.39</td>\n",
       "      <td>x86_64</td>\n",
       "      <td>8</td>\n",
       "      <td>16.64</td>\n",
       "    </tr>\n",
       "    <tr>\n",
       "      <th>197</th>\n",
       "      <td>ForecasterRecursiveMultiSeries</td>\n",
       "      <td>LGBMRegressor</td>\n",
       "      <td>ForecasterRecursiveMultiSeries_predict_exog_is...</td>\n",
       "      <td>451898dccb92cc6f0a674d62eb66e4d8</td>\n",
       "      <td>0.704259</td>\n",
       "      <td>0.047136</td>\n",
       "      <td>2025-04-23 10:25:37.367475</td>\n",
       "      <td>3.12.9</td>\n",
       "      <td>0.16.0</td>\n",
       "      <td>2.2.5</td>\n",
       "      <td>2.2.3</td>\n",
       "      <td>1.6.1</td>\n",
       "      <td>4.6.0</td>\n",
       "      <td>Linux-6.11.0-21-generic-x86_64-with-glibc2.39</td>\n",
       "      <td>x86_64</td>\n",
       "      <td>8</td>\n",
       "      <td>16.64</td>\n",
       "    </tr>\n",
       "    <tr>\n",
       "      <th>209</th>\n",
       "      <td>ForecasterRecursiveMultiSeries</td>\n",
       "      <td>LGBMRegressor</td>\n",
       "      <td>ForecasterRecursiveMultiSeries_predict_exog_is...</td>\n",
       "      <td>451898dccb92cc6f0a674d62eb66e4d8</td>\n",
       "      <td>0.458623</td>\n",
       "      <td>0.022313</td>\n",
       "      <td>2025-04-23 13:38:47.414841</td>\n",
       "      <td>3.12.9</td>\n",
       "      <td>0.16.0</td>\n",
       "      <td>2.2.5</td>\n",
       "      <td>2.2.3</td>\n",
       "      <td>1.6.1</td>\n",
       "      <td>4.6.0</td>\n",
       "      <td>Linux-6.11.0-21-generic-x86_64-with-glibc2.39</td>\n",
       "      <td>x86_64</td>\n",
       "      <td>8</td>\n",
       "      <td>16.64</td>\n",
       "    </tr>\n",
       "    <tr>\n",
       "      <th>221</th>\n",
       "      <td>ForecasterRecursiveMultiSeries</td>\n",
       "      <td>LGBMRegressor</td>\n",
       "      <td>ForecasterRecursiveMultiSeries_predict_exog_is...</td>\n",
       "      <td>451898dccb92cc6f0a674d62eb66e4d8</td>\n",
       "      <td>0.423453</td>\n",
       "      <td>0.012603</td>\n",
       "      <td>2025-04-23 13:43:09.867763</td>\n",
       "      <td>3.12.9</td>\n",
       "      <td>0.16.0</td>\n",
       "      <td>2.2.5</td>\n",
       "      <td>2.2.3</td>\n",
       "      <td>1.6.1</td>\n",
       "      <td>4.6.0</td>\n",
       "      <td>Linux-6.11.0-21-generic-x86_64-with-glibc2.39</td>\n",
       "      <td>x86_64</td>\n",
       "      <td>8</td>\n",
       "      <td>16.64</td>\n",
       "    </tr>\n",
       "    <tr>\n",
       "      <th>233</th>\n",
       "      <td>ForecasterRecursiveMultiSeries</td>\n",
       "      <td>LGBMRegressor</td>\n",
       "      <td>ForecasterRecursiveMultiSeries_predict_exog_is...</td>\n",
       "      <td>451898dccb92cc6f0a674d62eb66e4d8</td>\n",
       "      <td>0.514654</td>\n",
       "      <td>0.107911</td>\n",
       "      <td>2025-04-23 13:47:12.887375</td>\n",
       "      <td>3.12.9</td>\n",
       "      <td>0.16.0</td>\n",
       "      <td>2.2.5</td>\n",
       "      <td>2.2.3</td>\n",
       "      <td>1.6.1</td>\n",
       "      <td>4.6.0</td>\n",
       "      <td>Linux-6.11.0-21-generic-x86_64-with-glibc2.39</td>\n",
       "      <td>x86_64</td>\n",
       "      <td>8</td>\n",
       "      <td>16.64</td>\n",
       "    </tr>\n",
       "  </tbody>\n",
       "</table>\n",
       "</div>"
      ],
      "text/plain": [
       "                    forecaster_name regressor_name  \\\n",
       "21   ForecasterRecursiveMultiSeries  LGBMRegressor   \n",
       "41   ForecasterRecursiveMultiSeries  LGBMRegressor   \n",
       "53   ForecasterRecursiveMultiSeries  LGBMRegressor   \n",
       "65   ForecasterRecursiveMultiSeries  LGBMRegressor   \n",
       "77   ForecasterRecursiveMultiSeries  LGBMRegressor   \n",
       "89   ForecasterRecursiveMultiSeries  LGBMRegressor   \n",
       "125  ForecasterRecursiveMultiSeries  LGBMRegressor   \n",
       "137  ForecasterRecursiveMultiSeries  LGBMRegressor   \n",
       "173  ForecasterRecursiveMultiSeries  LGBMRegressor   \n",
       "185  ForecasterRecursiveMultiSeries  LGBMRegressor   \n",
       "197  ForecasterRecursiveMultiSeries  LGBMRegressor   \n",
       "209  ForecasterRecursiveMultiSeries  LGBMRegressor   \n",
       "221  ForecasterRecursiveMultiSeries  LGBMRegressor   \n",
       "233  ForecasterRecursiveMultiSeries  LGBMRegressor   \n",
       "\n",
       "                                         function_name  \\\n",
       "21   ForecasterRecursiveMultiSeries_predict_exog_is...   \n",
       "41   ForecasterRecursiveMultiSeries_predict_exog_is...   \n",
       "53   ForecasterRecursiveMultiSeries_predict_exog_is...   \n",
       "65   ForecasterRecursiveMultiSeries_predict_exog_is...   \n",
       "77   ForecasterRecursiveMultiSeries_predict_exog_is...   \n",
       "89   ForecasterRecursiveMultiSeries_predict_exog_is...   \n",
       "125  ForecasterRecursiveMultiSeries_predict_exog_is...   \n",
       "137  ForecasterRecursiveMultiSeries_predict_exog_is...   \n",
       "173  ForecasterRecursiveMultiSeries_predict_exog_is...   \n",
       "185  ForecasterRecursiveMultiSeries_predict_exog_is...   \n",
       "197  ForecasterRecursiveMultiSeries_predict_exog_is...   \n",
       "209  ForecasterRecursiveMultiSeries_predict_exog_is...   \n",
       "221  ForecasterRecursiveMultiSeries_predict_exog_is...   \n",
       "233  ForecasterRecursiveMultiSeries_predict_exog_is...   \n",
       "\n",
       "                        function_hash  run_time_avg  run_time_std_dev  \\\n",
       "21   451898dccb92cc6f0a674d62eb66e4d8      1.726758          0.045816   \n",
       "41   451898dccb92cc6f0a674d62eb66e4d8      1.801788          0.199091   \n",
       "53   451898dccb92cc6f0a674d62eb66e4d8      2.478947          0.110898   \n",
       "65   451898dccb92cc6f0a674d62eb66e4d8      2.454963          0.164434   \n",
       "77   451898dccb92cc6f0a674d62eb66e4d8      0.724252          0.044540   \n",
       "89   451898dccb92cc6f0a674d62eb66e4d8      0.690464          0.067909   \n",
       "125  451898dccb92cc6f0a674d62eb66e4d8      2.995582          0.403974   \n",
       "137  451898dccb92cc6f0a674d62eb66e4d8      0.608491          0.018189   \n",
       "173  451898dccb92cc6f0a674d62eb66e4d8      0.666880          0.054986   \n",
       "185  451898dccb92cc6f0a674d62eb66e4d8      0.712341          0.020307   \n",
       "197  451898dccb92cc6f0a674d62eb66e4d8      0.704259          0.047136   \n",
       "209  451898dccb92cc6f0a674d62eb66e4d8      0.458623          0.022313   \n",
       "221  451898dccb92cc6f0a674d62eb66e4d8      0.423453          0.012603   \n",
       "233  451898dccb92cc6f0a674d62eb66e4d8      0.514654          0.107911   \n",
       "\n",
       "                      datetime python_version skforecast_version  \\\n",
       "21  2025-04-22 21:23:59.674122         3.12.9             0.14.0   \n",
       "41  2025-04-22 21:30:43.790260         3.12.9             0.14.0   \n",
       "53  2025-04-22 21:35:09.738397         3.12.9             0.15.0   \n",
       "65  2025-04-22 21:46:06.733806         3.12.9             0.15.0   \n",
       "77  2025-04-22 21:56:06.640060         3.12.9             0.16.0   \n",
       "89  2025-04-22 22:10:48.401687         3.12.9             0.16.0   \n",
       "125 2025-04-22 22:45:29.213280         3.12.9             0.15.0   \n",
       "137 2025-04-22 22:53:28.243796         3.12.9             0.16.0   \n",
       "173 2025-04-23 09:57:15.397602         3.12.9             0.16.0   \n",
       "185 2025-04-23 10:02:25.097923         3.12.9             0.16.0   \n",
       "197 2025-04-23 10:25:37.367475         3.12.9             0.16.0   \n",
       "209 2025-04-23 13:38:47.414841         3.12.9             0.16.0   \n",
       "221 2025-04-23 13:43:09.867763         3.12.9             0.16.0   \n",
       "233 2025-04-23 13:47:12.887375         3.12.9             0.16.0   \n",
       "\n",
       "    numpy_version pandas_version sklearn_version lightgbm_version  \\\n",
       "21         1.26.4          2.2.3           1.4.2            4.6.0   \n",
       "41         1.26.4          2.2.3           1.4.2            4.6.0   \n",
       "53         1.26.4          2.2.3           1.4.2            4.6.0   \n",
       "65          2.2.5          2.2.3           1.6.1            4.6.0   \n",
       "77          2.2.5          2.2.3           1.6.1            4.6.0   \n",
       "89         1.26.4          2.2.3           1.6.1            4.6.0   \n",
       "125        1.26.4          2.2.3           1.4.2            4.6.0   \n",
       "137        1.26.4          2.2.3           1.4.2            4.6.0   \n",
       "173        1.26.4          2.2.3           1.4.2            4.6.0   \n",
       "185         2.2.5          2.2.3           1.6.1            4.6.0   \n",
       "197         2.2.5          2.2.3           1.6.1            4.6.0   \n",
       "209         2.2.5          2.2.3           1.6.1            4.6.0   \n",
       "221         2.2.5          2.2.3           1.6.1            4.6.0   \n",
       "233         2.2.5          2.2.3           1.6.1            4.6.0   \n",
       "\n",
       "                                          platform processor  cpu_count  \\\n",
       "21   Linux-6.11.0-21-generic-x86_64-with-glibc2.39    x86_64          8   \n",
       "41   Linux-6.11.0-21-generic-x86_64-with-glibc2.39    x86_64          8   \n",
       "53   Linux-6.11.0-21-generic-x86_64-with-glibc2.39    x86_64          8   \n",
       "65   Linux-6.11.0-21-generic-x86_64-with-glibc2.39    x86_64          8   \n",
       "77   Linux-6.11.0-21-generic-x86_64-with-glibc2.39    x86_64          8   \n",
       "89   Linux-6.11.0-21-generic-x86_64-with-glibc2.39    x86_64          8   \n",
       "125  Linux-6.11.0-21-generic-x86_64-with-glibc2.39    x86_64          8   \n",
       "137  Linux-6.11.0-21-generic-x86_64-with-glibc2.39    x86_64          8   \n",
       "173  Linux-6.11.0-21-generic-x86_64-with-glibc2.39    x86_64          8   \n",
       "185  Linux-6.11.0-21-generic-x86_64-with-glibc2.39    x86_64          8   \n",
       "197  Linux-6.11.0-21-generic-x86_64-with-glibc2.39    x86_64          8   \n",
       "209  Linux-6.11.0-21-generic-x86_64-with-glibc2.39    x86_64          8   \n",
       "221  Linux-6.11.0-21-generic-x86_64-with-glibc2.39    x86_64          8   \n",
       "233  Linux-6.11.0-21-generic-x86_64-with-glibc2.39    x86_64          8   \n",
       "\n",
       "     memory_gb  \n",
       "21       16.64  \n",
       "41       16.64  \n",
       "53       16.64  \n",
       "65       16.64  \n",
       "77       16.64  \n",
       "89       16.64  \n",
       "125      16.64  \n",
       "137      16.64  \n",
       "173      16.64  \n",
       "185      16.64  \n",
       "197      16.64  \n",
       "209      16.64  \n",
       "221      16.64  \n",
       "233      16.64  "
      ]
     },
     "metadata": {},
     "output_type": "display_data"
    },
    {
     "data": {
      "application/vnd.plotly.v1+json": {
       "config": {
        "plotlyServerURL": "https://plot.ly"
       },
       "data": [
        {
         "alignmentgroup": "True",
         "boxpoints": "all",
         "customdata": [
          [
           "ForecasterRecursiveMultiSeries",
           "LGBMRegressor",
           "ForecasterRecursiveMultiSeries_predict_exog_is_dict",
           "451898dccb92cc6f0a674d62eb66e4d8",
           0.04581636614850499,
           "2025-04-22T21:23:59.674122",
           "3.12.9",
           "1.26.4",
           "2.2.3",
           "1.4.2",
           "4.6.0",
           "Linux-6.11.0-21-generic-x86_64-with-glibc2.39",
           "x86_64",
           8,
           16.64
          ],
          [
           "ForecasterRecursiveMultiSeries",
           "LGBMRegressor",
           "ForecasterRecursiveMultiSeries_predict_exog_is_dict",
           "451898dccb92cc6f0a674d62eb66e4d8",
           0.19909095332808882,
           "2025-04-22T21:30:43.790260",
           "3.12.9",
           "1.26.4",
           "2.2.3",
           "1.4.2",
           "4.6.0",
           "Linux-6.11.0-21-generic-x86_64-with-glibc2.39",
           "x86_64",
           8,
           16.64
          ]
         ],
         "fillcolor": "rgba(255,255,255,0)",
         "hoveron": "points",
         "hovertemplate": "skforecast_version=%{x}<br>run_time_avg=%{y}<br>forecaster_name=%{customdata[0]}<br>regressor_name=%{customdata[1]}<br>function_name=%{customdata[2]}<br>function_hash=%{customdata[3]}<br>run_time_std_dev=%{customdata[4]}<br>datetime=%{customdata[5]}<br>python_version=%{customdata[6]}<br>numpy_version=%{customdata[7]}<br>pandas_version=%{customdata[8]}<br>sklearn_version=%{customdata[9]}<br>lightgbm_version=%{customdata[10]}<br>platform=%{customdata[11]}<br>processor=%{customdata[12]}<br>cpu_count=%{customdata[13]}<br>memory_gb=%{customdata[14]}<extra></extra>",
         "jitter": true,
         "legendgroup": "0.14.0",
         "line": {
          "color": "rgba(255,255,255,0)"
         },
         "marker": {
          "color": "#636efa",
          "opacity": 0.7,
          "size": 10
         },
         "name": "0.14.0",
         "offsetgroup": "0.14.0",
         "orientation": "v",
         "pointpos": 0,
         "showlegend": true,
         "type": "box",
         "x": [
          "0.14.0",
          "0.14.0"
         ],
         "x0": " ",
         "xaxis": "x",
         "y": {
          "bdata": "mjnFmcyg+z8zEzgUINT8Pw==",
          "dtype": "f8"
         },
         "y0": " ",
         "yaxis": "y"
        },
        {
         "alignmentgroup": "True",
         "boxpoints": "all",
         "customdata": [
          [
           "ForecasterRecursiveMultiSeries",
           "LGBMRegressor",
           "ForecasterRecursiveMultiSeries_predict_exog_is_dict",
           "451898dccb92cc6f0a674d62eb66e4d8",
           0.11089799465734283,
           "2025-04-22T21:35:09.738397",
           "3.12.9",
           "1.26.4",
           "2.2.3",
           "1.4.2",
           "4.6.0",
           "Linux-6.11.0-21-generic-x86_64-with-glibc2.39",
           "x86_64",
           8,
           16.64
          ],
          [
           "ForecasterRecursiveMultiSeries",
           "LGBMRegressor",
           "ForecasterRecursiveMultiSeries_predict_exog_is_dict",
           "451898dccb92cc6f0a674d62eb66e4d8",
           0.16443375305577174,
           "2025-04-22T21:46:06.733806",
           "3.12.9",
           "2.2.5",
           "2.2.3",
           "1.6.1",
           "4.6.0",
           "Linux-6.11.0-21-generic-x86_64-with-glibc2.39",
           "x86_64",
           8,
           16.64
          ],
          [
           "ForecasterRecursiveMultiSeries",
           "LGBMRegressor",
           "ForecasterRecursiveMultiSeries_predict_exog_is_dict",
           "451898dccb92cc6f0a674d62eb66e4d8",
           0.4039740046292716,
           "2025-04-22T22:45:29.213280",
           "3.12.9",
           "1.26.4",
           "2.2.3",
           "1.4.2",
           "4.6.0",
           "Linux-6.11.0-21-generic-x86_64-with-glibc2.39",
           "x86_64",
           8,
           16.64
          ]
         ],
         "fillcolor": "rgba(255,255,255,0)",
         "hoveron": "points",
         "hovertemplate": "skforecast_version=%{x}<br>run_time_avg=%{y}<br>forecaster_name=%{customdata[0]}<br>regressor_name=%{customdata[1]}<br>function_name=%{customdata[2]}<br>function_hash=%{customdata[3]}<br>run_time_std_dev=%{customdata[4]}<br>datetime=%{customdata[5]}<br>python_version=%{customdata[6]}<br>numpy_version=%{customdata[7]}<br>pandas_version=%{customdata[8]}<br>sklearn_version=%{customdata[9]}<br>lightgbm_version=%{customdata[10]}<br>platform=%{customdata[11]}<br>processor=%{customdata[12]}<br>cpu_count=%{customdata[13]}<br>memory_gb=%{customdata[14]}<extra></extra>",
         "jitter": true,
         "legendgroup": "0.15.0",
         "line": {
          "color": "rgba(255,255,255,0)"
         },
         "marker": {
          "color": "#EF553B",
          "opacity": 0.7,
          "size": 10
         },
         "name": "0.15.0",
         "offsetgroup": "0.15.0",
         "orientation": "v",
         "pointpos": 0,
         "showlegend": true,
         "type": "box",
         "x": [
          "0.15.0",
          "0.15.0",
          "0.15.0"
         ],
         "x0": " ",
         "xaxis": "x",
         "y": {
          "bdata": "zaRfLOLUA0BmVoGww6MDQGYmbtnz9gdA",
          "dtype": "f8"
         },
         "y0": " ",
         "yaxis": "y"
        },
        {
         "alignmentgroup": "True",
         "boxpoints": "all",
         "customdata": [
          [
           "ForecasterRecursiveMultiSeries",
           "LGBMRegressor",
           "ForecasterRecursiveMultiSeries_predict_exog_is_dict",
           "451898dccb92cc6f0a674d62eb66e4d8",
           0.0445398912878694,
           "2025-04-22T21:56:06.640060",
           "3.12.9",
           "2.2.5",
           "2.2.3",
           "1.6.1",
           "4.6.0",
           "Linux-6.11.0-21-generic-x86_64-with-glibc2.39",
           "x86_64",
           8,
           16.64
          ],
          [
           "ForecasterRecursiveMultiSeries",
           "LGBMRegressor",
           "ForecasterRecursiveMultiSeries_predict_exog_is_dict",
           "451898dccb92cc6f0a674d62eb66e4d8",
           0.06790947321137154,
           "2025-04-22T22:10:48.401687",
           "3.12.9",
           "1.26.4",
           "2.2.3",
           "1.6.1",
           "4.6.0",
           "Linux-6.11.0-21-generic-x86_64-with-glibc2.39",
           "x86_64",
           8,
           16.64
          ],
          [
           "ForecasterRecursiveMultiSeries",
           "LGBMRegressor",
           "ForecasterRecursiveMultiSeries_predict_exog_is_dict",
           "451898dccb92cc6f0a674d62eb66e4d8",
           0.018188606261582394,
           "2025-04-22T22:53:28.243796",
           "3.12.9",
           "1.26.4",
           "2.2.3",
           "1.4.2",
           "4.6.0",
           "Linux-6.11.0-21-generic-x86_64-with-glibc2.39",
           "x86_64",
           8,
           16.64
          ],
          [
           "ForecasterRecursiveMultiSeries",
           "LGBMRegressor",
           "ForecasterRecursiveMultiSeries_predict_exog_is_dict",
           "451898dccb92cc6f0a674d62eb66e4d8",
           0.0549860608307397,
           "2025-04-23T09:57:15.397602",
           "3.12.9",
           "1.26.4",
           "2.2.3",
           "1.4.2",
           "4.6.0",
           "Linux-6.11.0-21-generic-x86_64-with-glibc2.39",
           "x86_64",
           8,
           16.64
          ],
          [
           "ForecasterRecursiveMultiSeries",
           "LGBMRegressor",
           "ForecasterRecursiveMultiSeries_predict_exog_is_dict",
           "451898dccb92cc6f0a674d62eb66e4d8",
           0.02030656877753832,
           "2025-04-23T10:02:25.097923",
           "3.12.9",
           "2.2.5",
           "2.2.3",
           "1.6.1",
           "4.6.0",
           "Linux-6.11.0-21-generic-x86_64-with-glibc2.39",
           "x86_64",
           8,
           16.64
          ],
          [
           "ForecasterRecursiveMultiSeries",
           "LGBMRegressor",
           "ForecasterRecursiveMultiSeries_predict_exog_is_dict",
           "451898dccb92cc6f0a674d62eb66e4d8",
           0.047135767551593426,
           "2025-04-23T10:25:37.367475",
           "3.12.9",
           "2.2.5",
           "2.2.3",
           "1.6.1",
           "4.6.0",
           "Linux-6.11.0-21-generic-x86_64-with-glibc2.39",
           "x86_64",
           8,
           16.64
          ],
          [
           "ForecasterRecursiveMultiSeries",
           "LGBMRegressor",
           "ForecasterRecursiveMultiSeries_predict_exog_is_dict",
           "451898dccb92cc6f0a674d62eb66e4d8",
           0.022312863722117434,
           "2025-04-23T13:38:47.414841",
           "3.12.9",
           "2.2.5",
           "2.2.3",
           "1.6.1",
           "4.6.0",
           "Linux-6.11.0-21-generic-x86_64-with-glibc2.39",
           "x86_64",
           8,
           16.64
          ],
          [
           "ForecasterRecursiveMultiSeries",
           "LGBMRegressor",
           "ForecasterRecursiveMultiSeries_predict_exog_is_dict",
           "451898dccb92cc6f0a674d62eb66e4d8",
           0.012602731992967431,
           "2025-04-23T13:43:09.867763",
           "3.12.9",
           "2.2.5",
           "2.2.3",
           "1.6.1",
           "4.6.0",
           "Linux-6.11.0-21-generic-x86_64-with-glibc2.39",
           "x86_64",
           8,
           16.64
          ],
          [
           "ForecasterRecursiveMultiSeries",
           "LGBMRegressor",
           "ForecasterRecursiveMultiSeries_predict_exog_is_dict",
           "451898dccb92cc6f0a674d62eb66e4d8",
           0.10791125802905892,
           "2025-04-23T13:47:12.887375",
           "3.12.9",
           "2.2.5",
           "2.2.3",
           "1.6.1",
           "4.6.0",
           "Linux-6.11.0-21-generic-x86_64-with-glibc2.39",
           "x86_64",
           8,
           16.64
          ]
         ],
         "fillcolor": "rgba(255,255,255,0)",
         "hoveron": "points",
         "hovertemplate": "skforecast_version=%{x}<br>run_time_avg=%{y}<br>forecaster_name=%{customdata[0]}<br>regressor_name=%{customdata[1]}<br>function_name=%{customdata[2]}<br>function_hash=%{customdata[3]}<br>run_time_std_dev=%{customdata[4]}<br>datetime=%{customdata[5]}<br>python_version=%{customdata[6]}<br>numpy_version=%{customdata[7]}<br>pandas_version=%{customdata[8]}<br>sklearn_version=%{customdata[9]}<br>lightgbm_version=%{customdata[10]}<br>platform=%{customdata[11]}<br>processor=%{customdata[12]}<br>cpu_count=%{customdata[13]}<br>memory_gb=%{customdata[14]}<extra></extra>",
         "jitter": true,
         "legendgroup": "0.16.0",
         "line": {
          "color": "rgba(255,255,255,0)"
         },
         "marker": {
          "color": "#00cc96",
          "opacity": 0.7,
          "size": 10
         },
         "name": "0.16.0",
         "offsetgroup": "0.16.0",
         "orientation": "v",
         "pointpos": 0,
         "showlegend": true,
         "type": "box",
         "x": [
          "0.16.0",
          "0.16.0",
          "0.16.0",
          "0.16.0",
          "0.16.0",
          "0.16.0",
          "0.16.0",
          "0.16.0",
          "0.16.0"
         ],
         "x0": " ",
         "xaxis": "x",
         "y": {
          "bdata": "M7OcGxMt5z9mxuTySBjmP83MWa3CeOM/M5WPVhVX5T/NDE8qgMvmP5rZKGlJieY/AMCrihVa3T+aGfzB2RnbPwAADrkLeOA/",
          "dtype": "f8"
         },
         "y0": " ",
         "yaxis": "y"
        },
        {
         "line": {
          "color": "black",
          "width": 2
         },
         "marker": {
          "size": 8
         },
         "mode": "lines+markers",
         "name": "Median",
         "showlegend": true,
         "type": "scatter",
         "x": [
          "0.14.0",
          "0.15.0",
          "0.16.0"
         ],
         "y": {
          "bdata": "Zqb+VnY6/D/NpF8s4tQDQDOVj1YVV+U/",
          "dtype": "f8"
         }
        }
       ],
       "layout": {
        "boxmode": "overlay",
        "legend": {
         "title": {
          "text": "skforecast_version"
         },
         "tracegroupgap": 0
        },
        "margin": {
         "t": 60
        },
        "showlegend": true,
        "template": {
         "data": {
          "bar": [
           {
            "error_x": {
             "color": "#2a3f5f"
            },
            "error_y": {
             "color": "#2a3f5f"
            },
            "marker": {
             "line": {
              "color": "#E5ECF6",
              "width": 0.5
             },
             "pattern": {
              "fillmode": "overlay",
              "size": 10,
              "solidity": 0.2
             }
            },
            "type": "bar"
           }
          ],
          "barpolar": [
           {
            "marker": {
             "line": {
              "color": "#E5ECF6",
              "width": 0.5
             },
             "pattern": {
              "fillmode": "overlay",
              "size": 10,
              "solidity": 0.2
             }
            },
            "type": "barpolar"
           }
          ],
          "carpet": [
           {
            "aaxis": {
             "endlinecolor": "#2a3f5f",
             "gridcolor": "white",
             "linecolor": "white",
             "minorgridcolor": "white",
             "startlinecolor": "#2a3f5f"
            },
            "baxis": {
             "endlinecolor": "#2a3f5f",
             "gridcolor": "white",
             "linecolor": "white",
             "minorgridcolor": "white",
             "startlinecolor": "#2a3f5f"
            },
            "type": "carpet"
           }
          ],
          "choropleth": [
           {
            "colorbar": {
             "outlinewidth": 0,
             "ticks": ""
            },
            "type": "choropleth"
           }
          ],
          "contour": [
           {
            "colorbar": {
             "outlinewidth": 0,
             "ticks": ""
            },
            "colorscale": [
             [
              0,
              "#0d0887"
             ],
             [
              0.1111111111111111,
              "#46039f"
             ],
             [
              0.2222222222222222,
              "#7201a8"
             ],
             [
              0.3333333333333333,
              "#9c179e"
             ],
             [
              0.4444444444444444,
              "#bd3786"
             ],
             [
              0.5555555555555556,
              "#d8576b"
             ],
             [
              0.6666666666666666,
              "#ed7953"
             ],
             [
              0.7777777777777778,
              "#fb9f3a"
             ],
             [
              0.8888888888888888,
              "#fdca26"
             ],
             [
              1,
              "#f0f921"
             ]
            ],
            "type": "contour"
           }
          ],
          "contourcarpet": [
           {
            "colorbar": {
             "outlinewidth": 0,
             "ticks": ""
            },
            "type": "contourcarpet"
           }
          ],
          "heatmap": [
           {
            "colorbar": {
             "outlinewidth": 0,
             "ticks": ""
            },
            "colorscale": [
             [
              0,
              "#0d0887"
             ],
             [
              0.1111111111111111,
              "#46039f"
             ],
             [
              0.2222222222222222,
              "#7201a8"
             ],
             [
              0.3333333333333333,
              "#9c179e"
             ],
             [
              0.4444444444444444,
              "#bd3786"
             ],
             [
              0.5555555555555556,
              "#d8576b"
             ],
             [
              0.6666666666666666,
              "#ed7953"
             ],
             [
              0.7777777777777778,
              "#fb9f3a"
             ],
             [
              0.8888888888888888,
              "#fdca26"
             ],
             [
              1,
              "#f0f921"
             ]
            ],
            "type": "heatmap"
           }
          ],
          "histogram": [
           {
            "marker": {
             "pattern": {
              "fillmode": "overlay",
              "size": 10,
              "solidity": 0.2
             }
            },
            "type": "histogram"
           }
          ],
          "histogram2d": [
           {
            "colorbar": {
             "outlinewidth": 0,
             "ticks": ""
            },
            "colorscale": [
             [
              0,
              "#0d0887"
             ],
             [
              0.1111111111111111,
              "#46039f"
             ],
             [
              0.2222222222222222,
              "#7201a8"
             ],
             [
              0.3333333333333333,
              "#9c179e"
             ],
             [
              0.4444444444444444,
              "#bd3786"
             ],
             [
              0.5555555555555556,
              "#d8576b"
             ],
             [
              0.6666666666666666,
              "#ed7953"
             ],
             [
              0.7777777777777778,
              "#fb9f3a"
             ],
             [
              0.8888888888888888,
              "#fdca26"
             ],
             [
              1,
              "#f0f921"
             ]
            ],
            "type": "histogram2d"
           }
          ],
          "histogram2dcontour": [
           {
            "colorbar": {
             "outlinewidth": 0,
             "ticks": ""
            },
            "colorscale": [
             [
              0,
              "#0d0887"
             ],
             [
              0.1111111111111111,
              "#46039f"
             ],
             [
              0.2222222222222222,
              "#7201a8"
             ],
             [
              0.3333333333333333,
              "#9c179e"
             ],
             [
              0.4444444444444444,
              "#bd3786"
             ],
             [
              0.5555555555555556,
              "#d8576b"
             ],
             [
              0.6666666666666666,
              "#ed7953"
             ],
             [
              0.7777777777777778,
              "#fb9f3a"
             ],
             [
              0.8888888888888888,
              "#fdca26"
             ],
             [
              1,
              "#f0f921"
             ]
            ],
            "type": "histogram2dcontour"
           }
          ],
          "mesh3d": [
           {
            "colorbar": {
             "outlinewidth": 0,
             "ticks": ""
            },
            "type": "mesh3d"
           }
          ],
          "parcoords": [
           {
            "line": {
             "colorbar": {
              "outlinewidth": 0,
              "ticks": ""
             }
            },
            "type": "parcoords"
           }
          ],
          "pie": [
           {
            "automargin": true,
            "type": "pie"
           }
          ],
          "scatter": [
           {
            "fillpattern": {
             "fillmode": "overlay",
             "size": 10,
             "solidity": 0.2
            },
            "type": "scatter"
           }
          ],
          "scatter3d": [
           {
            "line": {
             "colorbar": {
              "outlinewidth": 0,
              "ticks": ""
             }
            },
            "marker": {
             "colorbar": {
              "outlinewidth": 0,
              "ticks": ""
             }
            },
            "type": "scatter3d"
           }
          ],
          "scattercarpet": [
           {
            "marker": {
             "colorbar": {
              "outlinewidth": 0,
              "ticks": ""
             }
            },
            "type": "scattercarpet"
           }
          ],
          "scattergeo": [
           {
            "marker": {
             "colorbar": {
              "outlinewidth": 0,
              "ticks": ""
             }
            },
            "type": "scattergeo"
           }
          ],
          "scattergl": [
           {
            "marker": {
             "colorbar": {
              "outlinewidth": 0,
              "ticks": ""
             }
            },
            "type": "scattergl"
           }
          ],
          "scattermap": [
           {
            "marker": {
             "colorbar": {
              "outlinewidth": 0,
              "ticks": ""
             }
            },
            "type": "scattermap"
           }
          ],
          "scattermapbox": [
           {
            "marker": {
             "colorbar": {
              "outlinewidth": 0,
              "ticks": ""
             }
            },
            "type": "scattermapbox"
           }
          ],
          "scatterpolar": [
           {
            "marker": {
             "colorbar": {
              "outlinewidth": 0,
              "ticks": ""
             }
            },
            "type": "scatterpolar"
           }
          ],
          "scatterpolargl": [
           {
            "marker": {
             "colorbar": {
              "outlinewidth": 0,
              "ticks": ""
             }
            },
            "type": "scatterpolargl"
           }
          ],
          "scatterternary": [
           {
            "marker": {
             "colorbar": {
              "outlinewidth": 0,
              "ticks": ""
             }
            },
            "type": "scatterternary"
           }
          ],
          "surface": [
           {
            "colorbar": {
             "outlinewidth": 0,
             "ticks": ""
            },
            "colorscale": [
             [
              0,
              "#0d0887"
             ],
             [
              0.1111111111111111,
              "#46039f"
             ],
             [
              0.2222222222222222,
              "#7201a8"
             ],
             [
              0.3333333333333333,
              "#9c179e"
             ],
             [
              0.4444444444444444,
              "#bd3786"
             ],
             [
              0.5555555555555556,
              "#d8576b"
             ],
             [
              0.6666666666666666,
              "#ed7953"
             ],
             [
              0.7777777777777778,
              "#fb9f3a"
             ],
             [
              0.8888888888888888,
              "#fdca26"
             ],
             [
              1,
              "#f0f921"
             ]
            ],
            "type": "surface"
           }
          ],
          "table": [
           {
            "cells": {
             "fill": {
              "color": "#EBF0F8"
             },
             "line": {
              "color": "white"
             }
            },
            "header": {
             "fill": {
              "color": "#C8D4E3"
             },
             "line": {
              "color": "white"
             }
            },
            "type": "table"
           }
          ]
         },
         "layout": {
          "annotationdefaults": {
           "arrowcolor": "#2a3f5f",
           "arrowhead": 0,
           "arrowwidth": 1
          },
          "autotypenumbers": "strict",
          "coloraxis": {
           "colorbar": {
            "outlinewidth": 0,
            "ticks": ""
           }
          },
          "colorscale": {
           "diverging": [
            [
             0,
             "#8e0152"
            ],
            [
             0.1,
             "#c51b7d"
            ],
            [
             0.2,
             "#de77ae"
            ],
            [
             0.3,
             "#f1b6da"
            ],
            [
             0.4,
             "#fde0ef"
            ],
            [
             0.5,
             "#f7f7f7"
            ],
            [
             0.6,
             "#e6f5d0"
            ],
            [
             0.7,
             "#b8e186"
            ],
            [
             0.8,
             "#7fbc41"
            ],
            [
             0.9,
             "#4d9221"
            ],
            [
             1,
             "#276419"
            ]
           ],
           "sequential": [
            [
             0,
             "#0d0887"
            ],
            [
             0.1111111111111111,
             "#46039f"
            ],
            [
             0.2222222222222222,
             "#7201a8"
            ],
            [
             0.3333333333333333,
             "#9c179e"
            ],
            [
             0.4444444444444444,
             "#bd3786"
            ],
            [
             0.5555555555555556,
             "#d8576b"
            ],
            [
             0.6666666666666666,
             "#ed7953"
            ],
            [
             0.7777777777777778,
             "#fb9f3a"
            ],
            [
             0.8888888888888888,
             "#fdca26"
            ],
            [
             1,
             "#f0f921"
            ]
           ],
           "sequentialminus": [
            [
             0,
             "#0d0887"
            ],
            [
             0.1111111111111111,
             "#46039f"
            ],
            [
             0.2222222222222222,
             "#7201a8"
            ],
            [
             0.3333333333333333,
             "#9c179e"
            ],
            [
             0.4444444444444444,
             "#bd3786"
            ],
            [
             0.5555555555555556,
             "#d8576b"
            ],
            [
             0.6666666666666666,
             "#ed7953"
            ],
            [
             0.7777777777777778,
             "#fb9f3a"
            ],
            [
             0.8888888888888888,
             "#fdca26"
            ],
            [
             1,
             "#f0f921"
            ]
           ]
          },
          "colorway": [
           "#636efa",
           "#EF553B",
           "#00cc96",
           "#ab63fa",
           "#FFA15A",
           "#19d3f3",
           "#FF6692",
           "#B6E880",
           "#FF97FF",
           "#FECB52"
          ],
          "font": {
           "color": "#2a3f5f"
          },
          "geo": {
           "bgcolor": "white",
           "lakecolor": "white",
           "landcolor": "#E5ECF6",
           "showlakes": true,
           "showland": true,
           "subunitcolor": "white"
          },
          "hoverlabel": {
           "align": "left"
          },
          "hovermode": "closest",
          "mapbox": {
           "style": "light"
          },
          "paper_bgcolor": "white",
          "plot_bgcolor": "#E5ECF6",
          "polar": {
           "angularaxis": {
            "gridcolor": "white",
            "linecolor": "white",
            "ticks": ""
           },
           "bgcolor": "#E5ECF6",
           "radialaxis": {
            "gridcolor": "white",
            "linecolor": "white",
            "ticks": ""
           }
          },
          "scene": {
           "xaxis": {
            "backgroundcolor": "#E5ECF6",
            "gridcolor": "white",
            "gridwidth": 2,
            "linecolor": "white",
            "showbackground": true,
            "ticks": "",
            "zerolinecolor": "white"
           },
           "yaxis": {
            "backgroundcolor": "#E5ECF6",
            "gridcolor": "white",
            "gridwidth": 2,
            "linecolor": "white",
            "showbackground": true,
            "ticks": "",
            "zerolinecolor": "white"
           },
           "zaxis": {
            "backgroundcolor": "#E5ECF6",
            "gridcolor": "white",
            "gridwidth": 2,
            "linecolor": "white",
            "showbackground": true,
            "ticks": "",
            "zerolinecolor": "white"
           }
          },
          "shapedefaults": {
           "line": {
            "color": "#2a3f5f"
           }
          },
          "ternary": {
           "aaxis": {
            "gridcolor": "white",
            "linecolor": "white",
            "ticks": ""
           },
           "baxis": {
            "gridcolor": "white",
            "linecolor": "white",
            "ticks": ""
           },
           "bgcolor": "#E5ECF6",
           "caxis": {
            "gridcolor": "white",
            "linecolor": "white",
            "ticks": ""
           }
          },
          "title": {
           "x": 0.05
          },
          "xaxis": {
           "automargin": true,
           "gridcolor": "white",
           "linecolor": "white",
           "ticks": "",
           "title": {
            "standoff": 15
           },
           "zerolinecolor": "white",
           "zerolinewidth": 2
          },
          "yaxis": {
           "automargin": true,
           "gridcolor": "white",
           "linecolor": "white",
           "ticks": "",
           "title": {
            "standoff": 15
           },
           "zerolinecolor": "white",
           "zerolinewidth": 2
          }
         }
        },
        "title": {
         "text": "Execution time of ForecasterRecursiveMultiSeries_predict_exog_is_dict"
        },
        "xaxis": {
         "anchor": "y",
         "categoryarray": [
          "0.14.0",
          "0.15.0",
          "0.16.0"
         ],
         "categoryorder": "array",
         "domain": [
          0,
          1
         ],
         "title": {
          "text": "skforecast version"
         }
        },
        "yaxis": {
         "anchor": "x",
         "domain": [
          0,
          1
         ],
         "title": {
          "text": "Execution time (seconds)"
         }
        }
       }
      }
     },
     "metadata": {},
     "output_type": "display_data"
    },
    {
     "data": {
      "application/vnd.microsoft.datawrangler.viewer.v0+json": {
       "columns": [
        {
         "name": "index",
         "rawType": "int64",
         "type": "integer"
        },
        {
         "name": "forecaster_name",
         "rawType": "object",
         "type": "string"
        },
        {
         "name": "regressor_name",
         "rawType": "object",
         "type": "string"
        },
        {
         "name": "function_name",
         "rawType": "object",
         "type": "string"
        },
        {
         "name": "function_hash",
         "rawType": "object",
         "type": "string"
        },
        {
         "name": "run_time_avg",
         "rawType": "float64",
         "type": "float"
        },
        {
         "name": "run_time_std_dev",
         "rawType": "float64",
         "type": "float"
        },
        {
         "name": "datetime",
         "rawType": "datetime64[ns]",
         "type": "datetime"
        },
        {
         "name": "python_version",
         "rawType": "object",
         "type": "string"
        },
        {
         "name": "skforecast_version",
         "rawType": "object",
         "type": "string"
        },
        {
         "name": "numpy_version",
         "rawType": "object",
         "type": "string"
        },
        {
         "name": "pandas_version",
         "rawType": "object",
         "type": "string"
        },
        {
         "name": "sklearn_version",
         "rawType": "object",
         "type": "string"
        },
        {
         "name": "lightgbm_version",
         "rawType": "object",
         "type": "string"
        },
        {
         "name": "platform",
         "rawType": "object",
         "type": "string"
        },
        {
         "name": "processor",
         "rawType": "object",
         "type": "string"
        },
        {
         "name": "cpu_count",
         "rawType": "int64",
         "type": "integer"
        },
        {
         "name": "memory_gb",
         "rawType": "float64",
         "type": "float"
        }
       ],
       "conversionMethod": "pd.DataFrame",
       "ref": "51845c48-5472-4699-a26a-b8c22288f03a",
       "rows": [
        [
         "22",
         "ForecasterRecursiveMultiSeries",
         "LGBMRegressor",
         "ForecasterRecursiveMultiSeries__create_predict_inputs_exog_is_dict",
         "52b1c12811cade5921c24c58d5503d03",
         "1.8201113594000162",
         "0.13437081109973",
         "2025-04-22 21:24:08.314669",
         "3.12.9",
         "0.14.0",
         "1.26.4",
         "2.2.3",
         "1.4.2",
         "4.6.0",
         "Linux-6.11.0-21-generic-x86_64-with-glibc2.39",
         "x86_64",
         "8",
         "16.64"
        ],
        [
         "42",
         "ForecasterRecursiveMultiSeries",
         "LGBMRegressor",
         "ForecasterRecursiveMultiSeries__create_predict_inputs_exog_is_dict",
         "52b1c12811cade5921c24c58d5503d03",
         "1.7290334586001337",
         "0.16018017266156734",
         "2025-04-22 21:30:52.806205",
         "3.12.9",
         "0.14.0",
         "1.26.4",
         "2.2.3",
         "1.4.2",
         "4.6.0",
         "Linux-6.11.0-21-generic-x86_64-with-glibc2.39",
         "x86_64",
         "8",
         "16.64"
        ],
        [
         "54",
         "ForecasterRecursiveMultiSeries",
         "LGBMRegressor",
         "ForecasterRecursiveMultiSeries__create_predict_inputs_exog_is_dict",
         "52b1c12811cade5921c24c58d5503d03",
         "2.2969309693997273",
         "0.11085238501597489",
         "2025-04-22 21:35:22.142101",
         "3.12.9",
         "0.15.0",
         "1.26.4",
         "2.2.3",
         "1.4.2",
         "4.6.0",
         "Linux-6.11.0-21-generic-x86_64-with-glibc2.39",
         "x86_64",
         "8",
         "16.64"
        ],
        [
         "66",
         "ForecasterRecursiveMultiSeries",
         "LGBMRegressor",
         "ForecasterRecursiveMultiSeries__create_predict_inputs_exog_is_dict",
         "52b1c12811cade5921c24c58d5503d03",
         "2.097463099199922",
         "0.1078054172549375",
         "2025-04-22 21:46:19.017155",
         "3.12.9",
         "0.15.0",
         "2.2.5",
         "2.2.3",
         "1.6.1",
         "4.6.0",
         "Linux-6.11.0-21-generic-x86_64-with-glibc2.39",
         "x86_64",
         "8",
         "16.64"
        ],
        [
         "78",
         "ForecasterRecursiveMultiSeries",
         "LGBMRegressor",
         "ForecasterRecursiveMultiSeries__create_predict_inputs_exog_is_dict",
         "52b1c12811cade5921c24c58d5503d03",
         "0.3806484222004656",
         "0.023189332929970382",
         "2025-04-22 21:56:10.270907",
         "3.12.9",
         "0.16.0",
         "2.2.5",
         "2.2.3",
         "1.6.1",
         "4.6.0",
         "Linux-6.11.0-21-generic-x86_64-with-glibc2.39",
         "x86_64",
         "8",
         "16.64"
        ],
        [
         "90",
         "ForecasterRecursiveMultiSeries",
         "LGBMRegressor",
         "ForecasterRecursiveMultiSeries__create_predict_inputs_exog_is_dict",
         "52b1c12811cade5921c24c58d5503d03",
         "0.45466866560000196",
         "0.07156363900815163",
         "2025-04-22 22:10:51.864724",
         "3.12.9",
         "0.16.0",
         "1.26.4",
         "2.2.3",
         "1.6.1",
         "4.6.0",
         "Linux-6.11.0-21-generic-x86_64-with-glibc2.39",
         "x86_64",
         "8",
         "16.64"
        ],
        [
         "126",
         "ForecasterRecursiveMultiSeries",
         "LGBMRegressor",
         "ForecasterRecursiveMultiSeries__create_predict_inputs_exog_is_dict",
         "52b1c12811cade5921c24c58d5503d03",
         "2.4504241896000165",
         "0.19469227808784106",
         "2025-04-22 22:45:44.206531",
         "3.12.9",
         "0.15.0",
         "1.26.4",
         "2.2.3",
         "1.4.2",
         "4.6.0",
         "Linux-6.11.0-21-generic-x86_64-with-glibc2.39",
         "x86_64",
         "8",
         "16.64"
        ],
        [
         "138",
         "ForecasterRecursiveMultiSeries",
         "LGBMRegressor",
         "ForecasterRecursiveMultiSeries__create_predict_inputs_exog_is_dict",
         "52b1c12811cade5921c24c58d5503d03",
         "0.36155692060019645",
         "0.01800958810051553",
         "2025-04-22 22:53:31.295536",
         "3.12.9",
         "0.16.0",
         "1.26.4",
         "2.2.3",
         "1.4.2",
         "4.6.0",
         "Linux-6.11.0-21-generic-x86_64-with-glibc2.39",
         "x86_64",
         "8",
         "16.64"
        ],
        [
         "174",
         "ForecasterRecursiveMultiSeries",
         "LGBMRegressor",
         "ForecasterRecursiveMultiSeries__create_predict_inputs_exog_is_dict",
         "52b1c12811cade5921c24c58d5503d03",
         "0.5439326262000008",
         "0.1629401187447434",
         "2025-04-23 09:57:18.742364",
         "3.12.9",
         "0.16.0",
         "1.26.4",
         "2.2.3",
         "1.4.2",
         "4.6.0",
         "Linux-6.11.0-21-generic-x86_64-with-glibc2.39",
         "x86_64",
         "8",
         "16.64"
        ],
        [
         "186",
         "ForecasterRecursiveMultiSeries",
         "LGBMRegressor",
         "ForecasterRecursiveMultiSeries__create_predict_inputs_exog_is_dict",
         "52b1c12811cade5921c24c58d5503d03",
         "0.37612534600000347",
         "0.05079115290126635",
         "2025-04-23 10:02:28.673536",
         "3.12.9",
         "0.16.0",
         "2.2.5",
         "2.2.3",
         "1.6.1",
         "4.6.0",
         "Linux-6.11.0-21-generic-x86_64-with-glibc2.39",
         "x86_64",
         "8",
         "16.64"
        ],
        [
         "198",
         "ForecasterRecursiveMultiSeries",
         "LGBMRegressor",
         "ForecasterRecursiveMultiSeries__create_predict_inputs_exog_is_dict",
         "52b1c12811cade5921c24c58d5503d03",
         "0.4346976436000659",
         "0.07241806635794569",
         "2025-04-23 10:25:40.897659",
         "3.12.9",
         "0.16.0",
         "2.2.5",
         "2.2.3",
         "1.6.1",
         "4.6.0",
         "Linux-6.11.0-21-generic-x86_64-with-glibc2.39",
         "x86_64",
         "8",
         "16.64"
        ],
        [
         "210",
         "ForecasterRecursiveMultiSeries",
         "LGBMRegressor",
         "ForecasterRecursiveMultiSeries__create_predict_inputs_exog_is_dict",
         "52b1c12811cade5921c24c58d5503d03",
         "0.2958909043998574",
         "0.02136993812865651",
         "2025-04-23 13:38:49.715470",
         "3.12.9",
         "0.16.0",
         "2.2.5",
         "2.2.3",
         "1.6.1",
         "4.6.0",
         "Linux-6.11.0-21-generic-x86_64-with-glibc2.39",
         "x86_64",
         "8",
         "16.64"
        ],
        [
         "222",
         "ForecasterRecursiveMultiSeries",
         "LGBMRegressor",
         "ForecasterRecursiveMultiSeries__create_predict_inputs_exog_is_dict",
         "52b1c12811cade5921c24c58d5503d03",
         "0.31314659280014895",
         "0.03859333775839432",
         "2025-04-23 13:43:11.992236",
         "3.12.9",
         "0.16.0",
         "2.2.5",
         "2.2.3",
         "1.6.1",
         "4.6.0",
         "Linux-6.11.0-21-generic-x86_64-with-glibc2.39",
         "x86_64",
         "8",
         "16.64"
        ],
        [
         "234",
         "ForecasterRecursiveMultiSeries",
         "LGBMRegressor",
         "ForecasterRecursiveMultiSeries__create_predict_inputs_exog_is_dict",
         "52b1c12811cade5921c24c58d5503d03",
         "0.31317090239990647",
         "0.03317996925101288",
         "2025-04-23 13:47:15.465602",
         "3.12.9",
         "0.16.0",
         "2.2.5",
         "2.2.3",
         "1.6.1",
         "4.6.0",
         "Linux-6.11.0-21-generic-x86_64-with-glibc2.39",
         "x86_64",
         "8",
         "16.64"
        ]
       ],
       "shape": {
        "columns": 17,
        "rows": 14
       }
      },
      "text/html": [
       "<div>\n",
       "<style scoped>\n",
       "    .dataframe tbody tr th:only-of-type {\n",
       "        vertical-align: middle;\n",
       "    }\n",
       "\n",
       "    .dataframe tbody tr th {\n",
       "        vertical-align: top;\n",
       "    }\n",
       "\n",
       "    .dataframe thead th {\n",
       "        text-align: right;\n",
       "    }\n",
       "</style>\n",
       "<table border=\"1\" class=\"dataframe\">\n",
       "  <thead>\n",
       "    <tr style=\"text-align: right;\">\n",
       "      <th></th>\n",
       "      <th>forecaster_name</th>\n",
       "      <th>regressor_name</th>\n",
       "      <th>function_name</th>\n",
       "      <th>function_hash</th>\n",
       "      <th>run_time_avg</th>\n",
       "      <th>run_time_std_dev</th>\n",
       "      <th>datetime</th>\n",
       "      <th>python_version</th>\n",
       "      <th>skforecast_version</th>\n",
       "      <th>numpy_version</th>\n",
       "      <th>pandas_version</th>\n",
       "      <th>sklearn_version</th>\n",
       "      <th>lightgbm_version</th>\n",
       "      <th>platform</th>\n",
       "      <th>processor</th>\n",
       "      <th>cpu_count</th>\n",
       "      <th>memory_gb</th>\n",
       "    </tr>\n",
       "  </thead>\n",
       "  <tbody>\n",
       "    <tr>\n",
       "      <th>22</th>\n",
       "      <td>ForecasterRecursiveMultiSeries</td>\n",
       "      <td>LGBMRegressor</td>\n",
       "      <td>ForecasterRecursiveMultiSeries__create_predict...</td>\n",
       "      <td>52b1c12811cade5921c24c58d5503d03</td>\n",
       "      <td>1.820111</td>\n",
       "      <td>0.134371</td>\n",
       "      <td>2025-04-22 21:24:08.314669</td>\n",
       "      <td>3.12.9</td>\n",
       "      <td>0.14.0</td>\n",
       "      <td>1.26.4</td>\n",
       "      <td>2.2.3</td>\n",
       "      <td>1.4.2</td>\n",
       "      <td>4.6.0</td>\n",
       "      <td>Linux-6.11.0-21-generic-x86_64-with-glibc2.39</td>\n",
       "      <td>x86_64</td>\n",
       "      <td>8</td>\n",
       "      <td>16.64</td>\n",
       "    </tr>\n",
       "    <tr>\n",
       "      <th>42</th>\n",
       "      <td>ForecasterRecursiveMultiSeries</td>\n",
       "      <td>LGBMRegressor</td>\n",
       "      <td>ForecasterRecursiveMultiSeries__create_predict...</td>\n",
       "      <td>52b1c12811cade5921c24c58d5503d03</td>\n",
       "      <td>1.729033</td>\n",
       "      <td>0.160180</td>\n",
       "      <td>2025-04-22 21:30:52.806205</td>\n",
       "      <td>3.12.9</td>\n",
       "      <td>0.14.0</td>\n",
       "      <td>1.26.4</td>\n",
       "      <td>2.2.3</td>\n",
       "      <td>1.4.2</td>\n",
       "      <td>4.6.0</td>\n",
       "      <td>Linux-6.11.0-21-generic-x86_64-with-glibc2.39</td>\n",
       "      <td>x86_64</td>\n",
       "      <td>8</td>\n",
       "      <td>16.64</td>\n",
       "    </tr>\n",
       "    <tr>\n",
       "      <th>54</th>\n",
       "      <td>ForecasterRecursiveMultiSeries</td>\n",
       "      <td>LGBMRegressor</td>\n",
       "      <td>ForecasterRecursiveMultiSeries__create_predict...</td>\n",
       "      <td>52b1c12811cade5921c24c58d5503d03</td>\n",
       "      <td>2.296931</td>\n",
       "      <td>0.110852</td>\n",
       "      <td>2025-04-22 21:35:22.142101</td>\n",
       "      <td>3.12.9</td>\n",
       "      <td>0.15.0</td>\n",
       "      <td>1.26.4</td>\n",
       "      <td>2.2.3</td>\n",
       "      <td>1.4.2</td>\n",
       "      <td>4.6.0</td>\n",
       "      <td>Linux-6.11.0-21-generic-x86_64-with-glibc2.39</td>\n",
       "      <td>x86_64</td>\n",
       "      <td>8</td>\n",
       "      <td>16.64</td>\n",
       "    </tr>\n",
       "    <tr>\n",
       "      <th>66</th>\n",
       "      <td>ForecasterRecursiveMultiSeries</td>\n",
       "      <td>LGBMRegressor</td>\n",
       "      <td>ForecasterRecursiveMultiSeries__create_predict...</td>\n",
       "      <td>52b1c12811cade5921c24c58d5503d03</td>\n",
       "      <td>2.097463</td>\n",
       "      <td>0.107805</td>\n",
       "      <td>2025-04-22 21:46:19.017155</td>\n",
       "      <td>3.12.9</td>\n",
       "      <td>0.15.0</td>\n",
       "      <td>2.2.5</td>\n",
       "      <td>2.2.3</td>\n",
       "      <td>1.6.1</td>\n",
       "      <td>4.6.0</td>\n",
       "      <td>Linux-6.11.0-21-generic-x86_64-with-glibc2.39</td>\n",
       "      <td>x86_64</td>\n",
       "      <td>8</td>\n",
       "      <td>16.64</td>\n",
       "    </tr>\n",
       "    <tr>\n",
       "      <th>78</th>\n",
       "      <td>ForecasterRecursiveMultiSeries</td>\n",
       "      <td>LGBMRegressor</td>\n",
       "      <td>ForecasterRecursiveMultiSeries__create_predict...</td>\n",
       "      <td>52b1c12811cade5921c24c58d5503d03</td>\n",
       "      <td>0.380648</td>\n",
       "      <td>0.023189</td>\n",
       "      <td>2025-04-22 21:56:10.270907</td>\n",
       "      <td>3.12.9</td>\n",
       "      <td>0.16.0</td>\n",
       "      <td>2.2.5</td>\n",
       "      <td>2.2.3</td>\n",
       "      <td>1.6.1</td>\n",
       "      <td>4.6.0</td>\n",
       "      <td>Linux-6.11.0-21-generic-x86_64-with-glibc2.39</td>\n",
       "      <td>x86_64</td>\n",
       "      <td>8</td>\n",
       "      <td>16.64</td>\n",
       "    </tr>\n",
       "    <tr>\n",
       "      <th>90</th>\n",
       "      <td>ForecasterRecursiveMultiSeries</td>\n",
       "      <td>LGBMRegressor</td>\n",
       "      <td>ForecasterRecursiveMultiSeries__create_predict...</td>\n",
       "      <td>52b1c12811cade5921c24c58d5503d03</td>\n",
       "      <td>0.454669</td>\n",
       "      <td>0.071564</td>\n",
       "      <td>2025-04-22 22:10:51.864724</td>\n",
       "      <td>3.12.9</td>\n",
       "      <td>0.16.0</td>\n",
       "      <td>1.26.4</td>\n",
       "      <td>2.2.3</td>\n",
       "      <td>1.6.1</td>\n",
       "      <td>4.6.0</td>\n",
       "      <td>Linux-6.11.0-21-generic-x86_64-with-glibc2.39</td>\n",
       "      <td>x86_64</td>\n",
       "      <td>8</td>\n",
       "      <td>16.64</td>\n",
       "    </tr>\n",
       "    <tr>\n",
       "      <th>126</th>\n",
       "      <td>ForecasterRecursiveMultiSeries</td>\n",
       "      <td>LGBMRegressor</td>\n",
       "      <td>ForecasterRecursiveMultiSeries__create_predict...</td>\n",
       "      <td>52b1c12811cade5921c24c58d5503d03</td>\n",
       "      <td>2.450424</td>\n",
       "      <td>0.194692</td>\n",
       "      <td>2025-04-22 22:45:44.206531</td>\n",
       "      <td>3.12.9</td>\n",
       "      <td>0.15.0</td>\n",
       "      <td>1.26.4</td>\n",
       "      <td>2.2.3</td>\n",
       "      <td>1.4.2</td>\n",
       "      <td>4.6.0</td>\n",
       "      <td>Linux-6.11.0-21-generic-x86_64-with-glibc2.39</td>\n",
       "      <td>x86_64</td>\n",
       "      <td>8</td>\n",
       "      <td>16.64</td>\n",
       "    </tr>\n",
       "    <tr>\n",
       "      <th>138</th>\n",
       "      <td>ForecasterRecursiveMultiSeries</td>\n",
       "      <td>LGBMRegressor</td>\n",
       "      <td>ForecasterRecursiveMultiSeries__create_predict...</td>\n",
       "      <td>52b1c12811cade5921c24c58d5503d03</td>\n",
       "      <td>0.361557</td>\n",
       "      <td>0.018010</td>\n",
       "      <td>2025-04-22 22:53:31.295536</td>\n",
       "      <td>3.12.9</td>\n",
       "      <td>0.16.0</td>\n",
       "      <td>1.26.4</td>\n",
       "      <td>2.2.3</td>\n",
       "      <td>1.4.2</td>\n",
       "      <td>4.6.0</td>\n",
       "      <td>Linux-6.11.0-21-generic-x86_64-with-glibc2.39</td>\n",
       "      <td>x86_64</td>\n",
       "      <td>8</td>\n",
       "      <td>16.64</td>\n",
       "    </tr>\n",
       "    <tr>\n",
       "      <th>174</th>\n",
       "      <td>ForecasterRecursiveMultiSeries</td>\n",
       "      <td>LGBMRegressor</td>\n",
       "      <td>ForecasterRecursiveMultiSeries__create_predict...</td>\n",
       "      <td>52b1c12811cade5921c24c58d5503d03</td>\n",
       "      <td>0.543933</td>\n",
       "      <td>0.162940</td>\n",
       "      <td>2025-04-23 09:57:18.742364</td>\n",
       "      <td>3.12.9</td>\n",
       "      <td>0.16.0</td>\n",
       "      <td>1.26.4</td>\n",
       "      <td>2.2.3</td>\n",
       "      <td>1.4.2</td>\n",
       "      <td>4.6.0</td>\n",
       "      <td>Linux-6.11.0-21-generic-x86_64-with-glibc2.39</td>\n",
       "      <td>x86_64</td>\n",
       "      <td>8</td>\n",
       "      <td>16.64</td>\n",
       "    </tr>\n",
       "    <tr>\n",
       "      <th>186</th>\n",
       "      <td>ForecasterRecursiveMultiSeries</td>\n",
       "      <td>LGBMRegressor</td>\n",
       "      <td>ForecasterRecursiveMultiSeries__create_predict...</td>\n",
       "      <td>52b1c12811cade5921c24c58d5503d03</td>\n",
       "      <td>0.376125</td>\n",
       "      <td>0.050791</td>\n",
       "      <td>2025-04-23 10:02:28.673536</td>\n",
       "      <td>3.12.9</td>\n",
       "      <td>0.16.0</td>\n",
       "      <td>2.2.5</td>\n",
       "      <td>2.2.3</td>\n",
       "      <td>1.6.1</td>\n",
       "      <td>4.6.0</td>\n",
       "      <td>Linux-6.11.0-21-generic-x86_64-with-glibc2.39</td>\n",
       "      <td>x86_64</td>\n",
       "      <td>8</td>\n",
       "      <td>16.64</td>\n",
       "    </tr>\n",
       "    <tr>\n",
       "      <th>198</th>\n",
       "      <td>ForecasterRecursiveMultiSeries</td>\n",
       "      <td>LGBMRegressor</td>\n",
       "      <td>ForecasterRecursiveMultiSeries__create_predict...</td>\n",
       "      <td>52b1c12811cade5921c24c58d5503d03</td>\n",
       "      <td>0.434698</td>\n",
       "      <td>0.072418</td>\n",
       "      <td>2025-04-23 10:25:40.897659</td>\n",
       "      <td>3.12.9</td>\n",
       "      <td>0.16.0</td>\n",
       "      <td>2.2.5</td>\n",
       "      <td>2.2.3</td>\n",
       "      <td>1.6.1</td>\n",
       "      <td>4.6.0</td>\n",
       "      <td>Linux-6.11.0-21-generic-x86_64-with-glibc2.39</td>\n",
       "      <td>x86_64</td>\n",
       "      <td>8</td>\n",
       "      <td>16.64</td>\n",
       "    </tr>\n",
       "    <tr>\n",
       "      <th>210</th>\n",
       "      <td>ForecasterRecursiveMultiSeries</td>\n",
       "      <td>LGBMRegressor</td>\n",
       "      <td>ForecasterRecursiveMultiSeries__create_predict...</td>\n",
       "      <td>52b1c12811cade5921c24c58d5503d03</td>\n",
       "      <td>0.295891</td>\n",
       "      <td>0.021370</td>\n",
       "      <td>2025-04-23 13:38:49.715470</td>\n",
       "      <td>3.12.9</td>\n",
       "      <td>0.16.0</td>\n",
       "      <td>2.2.5</td>\n",
       "      <td>2.2.3</td>\n",
       "      <td>1.6.1</td>\n",
       "      <td>4.6.0</td>\n",
       "      <td>Linux-6.11.0-21-generic-x86_64-with-glibc2.39</td>\n",
       "      <td>x86_64</td>\n",
       "      <td>8</td>\n",
       "      <td>16.64</td>\n",
       "    </tr>\n",
       "    <tr>\n",
       "      <th>222</th>\n",
       "      <td>ForecasterRecursiveMultiSeries</td>\n",
       "      <td>LGBMRegressor</td>\n",
       "      <td>ForecasterRecursiveMultiSeries__create_predict...</td>\n",
       "      <td>52b1c12811cade5921c24c58d5503d03</td>\n",
       "      <td>0.313147</td>\n",
       "      <td>0.038593</td>\n",
       "      <td>2025-04-23 13:43:11.992236</td>\n",
       "      <td>3.12.9</td>\n",
       "      <td>0.16.0</td>\n",
       "      <td>2.2.5</td>\n",
       "      <td>2.2.3</td>\n",
       "      <td>1.6.1</td>\n",
       "      <td>4.6.0</td>\n",
       "      <td>Linux-6.11.0-21-generic-x86_64-with-glibc2.39</td>\n",
       "      <td>x86_64</td>\n",
       "      <td>8</td>\n",
       "      <td>16.64</td>\n",
       "    </tr>\n",
       "    <tr>\n",
       "      <th>234</th>\n",
       "      <td>ForecasterRecursiveMultiSeries</td>\n",
       "      <td>LGBMRegressor</td>\n",
       "      <td>ForecasterRecursiveMultiSeries__create_predict...</td>\n",
       "      <td>52b1c12811cade5921c24c58d5503d03</td>\n",
       "      <td>0.313171</td>\n",
       "      <td>0.033180</td>\n",
       "      <td>2025-04-23 13:47:15.465602</td>\n",
       "      <td>3.12.9</td>\n",
       "      <td>0.16.0</td>\n",
       "      <td>2.2.5</td>\n",
       "      <td>2.2.3</td>\n",
       "      <td>1.6.1</td>\n",
       "      <td>4.6.0</td>\n",
       "      <td>Linux-6.11.0-21-generic-x86_64-with-glibc2.39</td>\n",
       "      <td>x86_64</td>\n",
       "      <td>8</td>\n",
       "      <td>16.64</td>\n",
       "    </tr>\n",
       "  </tbody>\n",
       "</table>\n",
       "</div>"
      ],
      "text/plain": [
       "                    forecaster_name regressor_name  \\\n",
       "22   ForecasterRecursiveMultiSeries  LGBMRegressor   \n",
       "42   ForecasterRecursiveMultiSeries  LGBMRegressor   \n",
       "54   ForecasterRecursiveMultiSeries  LGBMRegressor   \n",
       "66   ForecasterRecursiveMultiSeries  LGBMRegressor   \n",
       "78   ForecasterRecursiveMultiSeries  LGBMRegressor   \n",
       "90   ForecasterRecursiveMultiSeries  LGBMRegressor   \n",
       "126  ForecasterRecursiveMultiSeries  LGBMRegressor   \n",
       "138  ForecasterRecursiveMultiSeries  LGBMRegressor   \n",
       "174  ForecasterRecursiveMultiSeries  LGBMRegressor   \n",
       "186  ForecasterRecursiveMultiSeries  LGBMRegressor   \n",
       "198  ForecasterRecursiveMultiSeries  LGBMRegressor   \n",
       "210  ForecasterRecursiveMultiSeries  LGBMRegressor   \n",
       "222  ForecasterRecursiveMultiSeries  LGBMRegressor   \n",
       "234  ForecasterRecursiveMultiSeries  LGBMRegressor   \n",
       "\n",
       "                                         function_name  \\\n",
       "22   ForecasterRecursiveMultiSeries__create_predict...   \n",
       "42   ForecasterRecursiveMultiSeries__create_predict...   \n",
       "54   ForecasterRecursiveMultiSeries__create_predict...   \n",
       "66   ForecasterRecursiveMultiSeries__create_predict...   \n",
       "78   ForecasterRecursiveMultiSeries__create_predict...   \n",
       "90   ForecasterRecursiveMultiSeries__create_predict...   \n",
       "126  ForecasterRecursiveMultiSeries__create_predict...   \n",
       "138  ForecasterRecursiveMultiSeries__create_predict...   \n",
       "174  ForecasterRecursiveMultiSeries__create_predict...   \n",
       "186  ForecasterRecursiveMultiSeries__create_predict...   \n",
       "198  ForecasterRecursiveMultiSeries__create_predict...   \n",
       "210  ForecasterRecursiveMultiSeries__create_predict...   \n",
       "222  ForecasterRecursiveMultiSeries__create_predict...   \n",
       "234  ForecasterRecursiveMultiSeries__create_predict...   \n",
       "\n",
       "                        function_hash  run_time_avg  run_time_std_dev  \\\n",
       "22   52b1c12811cade5921c24c58d5503d03      1.820111          0.134371   \n",
       "42   52b1c12811cade5921c24c58d5503d03      1.729033          0.160180   \n",
       "54   52b1c12811cade5921c24c58d5503d03      2.296931          0.110852   \n",
       "66   52b1c12811cade5921c24c58d5503d03      2.097463          0.107805   \n",
       "78   52b1c12811cade5921c24c58d5503d03      0.380648          0.023189   \n",
       "90   52b1c12811cade5921c24c58d5503d03      0.454669          0.071564   \n",
       "126  52b1c12811cade5921c24c58d5503d03      2.450424          0.194692   \n",
       "138  52b1c12811cade5921c24c58d5503d03      0.361557          0.018010   \n",
       "174  52b1c12811cade5921c24c58d5503d03      0.543933          0.162940   \n",
       "186  52b1c12811cade5921c24c58d5503d03      0.376125          0.050791   \n",
       "198  52b1c12811cade5921c24c58d5503d03      0.434698          0.072418   \n",
       "210  52b1c12811cade5921c24c58d5503d03      0.295891          0.021370   \n",
       "222  52b1c12811cade5921c24c58d5503d03      0.313147          0.038593   \n",
       "234  52b1c12811cade5921c24c58d5503d03      0.313171          0.033180   \n",
       "\n",
       "                      datetime python_version skforecast_version  \\\n",
       "22  2025-04-22 21:24:08.314669         3.12.9             0.14.0   \n",
       "42  2025-04-22 21:30:52.806205         3.12.9             0.14.0   \n",
       "54  2025-04-22 21:35:22.142101         3.12.9             0.15.0   \n",
       "66  2025-04-22 21:46:19.017155         3.12.9             0.15.0   \n",
       "78  2025-04-22 21:56:10.270907         3.12.9             0.16.0   \n",
       "90  2025-04-22 22:10:51.864724         3.12.9             0.16.0   \n",
       "126 2025-04-22 22:45:44.206531         3.12.9             0.15.0   \n",
       "138 2025-04-22 22:53:31.295536         3.12.9             0.16.0   \n",
       "174 2025-04-23 09:57:18.742364         3.12.9             0.16.0   \n",
       "186 2025-04-23 10:02:28.673536         3.12.9             0.16.0   \n",
       "198 2025-04-23 10:25:40.897659         3.12.9             0.16.0   \n",
       "210 2025-04-23 13:38:49.715470         3.12.9             0.16.0   \n",
       "222 2025-04-23 13:43:11.992236         3.12.9             0.16.0   \n",
       "234 2025-04-23 13:47:15.465602         3.12.9             0.16.0   \n",
       "\n",
       "    numpy_version pandas_version sklearn_version lightgbm_version  \\\n",
       "22         1.26.4          2.2.3           1.4.2            4.6.0   \n",
       "42         1.26.4          2.2.3           1.4.2            4.6.0   \n",
       "54         1.26.4          2.2.3           1.4.2            4.6.0   \n",
       "66          2.2.5          2.2.3           1.6.1            4.6.0   \n",
       "78          2.2.5          2.2.3           1.6.1            4.6.0   \n",
       "90         1.26.4          2.2.3           1.6.1            4.6.0   \n",
       "126        1.26.4          2.2.3           1.4.2            4.6.0   \n",
       "138        1.26.4          2.2.3           1.4.2            4.6.0   \n",
       "174        1.26.4          2.2.3           1.4.2            4.6.0   \n",
       "186         2.2.5          2.2.3           1.6.1            4.6.0   \n",
       "198         2.2.5          2.2.3           1.6.1            4.6.0   \n",
       "210         2.2.5          2.2.3           1.6.1            4.6.0   \n",
       "222         2.2.5          2.2.3           1.6.1            4.6.0   \n",
       "234         2.2.5          2.2.3           1.6.1            4.6.0   \n",
       "\n",
       "                                          platform processor  cpu_count  \\\n",
       "22   Linux-6.11.0-21-generic-x86_64-with-glibc2.39    x86_64          8   \n",
       "42   Linux-6.11.0-21-generic-x86_64-with-glibc2.39    x86_64          8   \n",
       "54   Linux-6.11.0-21-generic-x86_64-with-glibc2.39    x86_64          8   \n",
       "66   Linux-6.11.0-21-generic-x86_64-with-glibc2.39    x86_64          8   \n",
       "78   Linux-6.11.0-21-generic-x86_64-with-glibc2.39    x86_64          8   \n",
       "90   Linux-6.11.0-21-generic-x86_64-with-glibc2.39    x86_64          8   \n",
       "126  Linux-6.11.0-21-generic-x86_64-with-glibc2.39    x86_64          8   \n",
       "138  Linux-6.11.0-21-generic-x86_64-with-glibc2.39    x86_64          8   \n",
       "174  Linux-6.11.0-21-generic-x86_64-with-glibc2.39    x86_64          8   \n",
       "186  Linux-6.11.0-21-generic-x86_64-with-glibc2.39    x86_64          8   \n",
       "198  Linux-6.11.0-21-generic-x86_64-with-glibc2.39    x86_64          8   \n",
       "210  Linux-6.11.0-21-generic-x86_64-with-glibc2.39    x86_64          8   \n",
       "222  Linux-6.11.0-21-generic-x86_64-with-glibc2.39    x86_64          8   \n",
       "234  Linux-6.11.0-21-generic-x86_64-with-glibc2.39    x86_64          8   \n",
       "\n",
       "     memory_gb  \n",
       "22       16.64  \n",
       "42       16.64  \n",
       "54       16.64  \n",
       "66       16.64  \n",
       "78       16.64  \n",
       "90       16.64  \n",
       "126      16.64  \n",
       "138      16.64  \n",
       "174      16.64  \n",
       "186      16.64  \n",
       "198      16.64  \n",
       "210      16.64  \n",
       "222      16.64  \n",
       "234      16.64  "
      ]
     },
     "metadata": {},
     "output_type": "display_data"
    },
    {
     "data": {
      "application/vnd.plotly.v1+json": {
       "config": {
        "plotlyServerURL": "https://plot.ly"
       },
       "data": [
        {
         "alignmentgroup": "True",
         "boxpoints": "all",
         "customdata": [
          [
           "ForecasterRecursiveMultiSeries",
           "LGBMRegressor",
           "ForecasterRecursiveMultiSeries__create_predict_inputs_exog_is_dict",
           "52b1c12811cade5921c24c58d5503d03",
           0.13437081109973,
           "2025-04-22T21:24:08.314669",
           "3.12.9",
           "1.26.4",
           "2.2.3",
           "1.4.2",
           "4.6.0",
           "Linux-6.11.0-21-generic-x86_64-with-glibc2.39",
           "x86_64",
           8,
           16.64
          ],
          [
           "ForecasterRecursiveMultiSeries",
           "LGBMRegressor",
           "ForecasterRecursiveMultiSeries__create_predict_inputs_exog_is_dict",
           "52b1c12811cade5921c24c58d5503d03",
           0.16018017266156734,
           "2025-04-22T21:30:52.806205",
           "3.12.9",
           "1.26.4",
           "2.2.3",
           "1.4.2",
           "4.6.0",
           "Linux-6.11.0-21-generic-x86_64-with-glibc2.39",
           "x86_64",
           8,
           16.64
          ]
         ],
         "fillcolor": "rgba(255,255,255,0)",
         "hoveron": "points",
         "hovertemplate": "skforecast_version=%{x}<br>run_time_avg=%{y}<br>forecaster_name=%{customdata[0]}<br>regressor_name=%{customdata[1]}<br>function_name=%{customdata[2]}<br>function_hash=%{customdata[3]}<br>run_time_std_dev=%{customdata[4]}<br>datetime=%{customdata[5]}<br>python_version=%{customdata[6]}<br>numpy_version=%{customdata[7]}<br>pandas_version=%{customdata[8]}<br>sklearn_version=%{customdata[9]}<br>lightgbm_version=%{customdata[10]}<br>platform=%{customdata[11]}<br>processor=%{customdata[12]}<br>cpu_count=%{customdata[13]}<br>memory_gb=%{customdata[14]}<extra></extra>",
         "jitter": true,
         "legendgroup": "0.14.0",
         "line": {
          "color": "rgba(255,255,255,0)"
         },
         "marker": {
          "color": "#636efa",
          "opacity": 0.7,
          "size": 10
         },
         "name": "0.14.0",
         "offsetgroup": "0.14.0",
         "orientation": "v",
         "pointpos": 0,
         "showlegend": true,
         "type": "box",
         "x": [
          "0.14.0",
          "0.14.0"
         ],
         "x0": " ",
         "xaxis": "x",
         "y": {
          "bdata": "ADi7Fi0f/T+aCeb8Hqr7Pw==",
          "dtype": "f8"
         },
         "y0": " ",
         "yaxis": "y"
        },
        {
         "alignmentgroup": "True",
         "boxpoints": "all",
         "customdata": [
          [
           "ForecasterRecursiveMultiSeries",
           "LGBMRegressor",
           "ForecasterRecursiveMultiSeries__create_predict_inputs_exog_is_dict",
           "52b1c12811cade5921c24c58d5503d03",
           0.11085238501597489,
           "2025-04-22T21:35:22.142101",
           "3.12.9",
           "1.26.4",
           "2.2.3",
           "1.4.2",
           "4.6.0",
           "Linux-6.11.0-21-generic-x86_64-with-glibc2.39",
           "x86_64",
           8,
           16.64
          ],
          [
           "ForecasterRecursiveMultiSeries",
           "LGBMRegressor",
           "ForecasterRecursiveMultiSeries__create_predict_inputs_exog_is_dict",
           "52b1c12811cade5921c24c58d5503d03",
           0.1078054172549375,
           "2025-04-22T21:46:19.017155",
           "3.12.9",
           "2.2.5",
           "2.2.3",
           "1.6.1",
           "4.6.0",
           "Linux-6.11.0-21-generic-x86_64-with-glibc2.39",
           "x86_64",
           8,
           16.64
          ],
          [
           "ForecasterRecursiveMultiSeries",
           "LGBMRegressor",
           "ForecasterRecursiveMultiSeries__create_predict_inputs_exog_is_dict",
           "52b1c12811cade5921c24c58d5503d03",
           0.19469227808784106,
           "2025-04-22T22:45:44.206531",
           "3.12.9",
           "1.26.4",
           "2.2.3",
           "1.4.2",
           "4.6.0",
           "Linux-6.11.0-21-generic-x86_64-with-glibc2.39",
           "x86_64",
           8,
           16.64
          ]
         ],
         "fillcolor": "rgba(255,255,255,0)",
         "hoveron": "points",
         "hovertemplate": "skforecast_version=%{x}<br>run_time_avg=%{y}<br>forecaster_name=%{customdata[0]}<br>regressor_name=%{customdata[1]}<br>function_name=%{customdata[2]}<br>function_hash=%{customdata[3]}<br>run_time_std_dev=%{customdata[4]}<br>datetime=%{customdata[5]}<br>python_version=%{customdata[6]}<br>numpy_version=%{customdata[7]}<br>pandas_version=%{customdata[8]}<br>sklearn_version=%{customdata[9]}<br>lightgbm_version=%{customdata[10]}<br>platform=%{customdata[11]}<br>processor=%{customdata[12]}<br>cpu_count=%{customdata[13]}<br>memory_gb=%{customdata[14]}<extra></extra>",
         "jitter": true,
         "legendgroup": "0.15.0",
         "line": {
          "color": "rgba(255,255,255,0)"
         },
         "marker": {
          "color": "#EF553B",
          "opacity": 0.7,
          "size": 10
         },
         "name": "0.15.0",
         "offsetgroup": "0.15.0",
         "orientation": "v",
         "pointpos": 0,
         "showlegend": true,
         "type": "box",
         "x": [
          "0.15.0",
          "0.15.0",
          "0.15.0"
         ],
         "x0": " ",
         "xaxis": "x",
         "y": {
          "bdata": "Zu4VWB1gAkAzC727mscAQGZGXf93mgNA",
          "dtype": "f8"
         },
         "y0": " ",
         "yaxis": "y"
        },
        {
         "alignmentgroup": "True",
         "boxpoints": "all",
         "customdata": [
          [
           "ForecasterRecursiveMultiSeries",
           "LGBMRegressor",
           "ForecasterRecursiveMultiSeries__create_predict_inputs_exog_is_dict",
           "52b1c12811cade5921c24c58d5503d03",
           0.023189332929970382,
           "2025-04-22T21:56:10.270907",
           "3.12.9",
           "2.2.5",
           "2.2.3",
           "1.6.1",
           "4.6.0",
           "Linux-6.11.0-21-generic-x86_64-with-glibc2.39",
           "x86_64",
           8,
           16.64
          ],
          [
           "ForecasterRecursiveMultiSeries",
           "LGBMRegressor",
           "ForecasterRecursiveMultiSeries__create_predict_inputs_exog_is_dict",
           "52b1c12811cade5921c24c58d5503d03",
           0.07156363900815163,
           "2025-04-22T22:10:51.864724",
           "3.12.9",
           "1.26.4",
           "2.2.3",
           "1.6.1",
           "4.6.0",
           "Linux-6.11.0-21-generic-x86_64-with-glibc2.39",
           "x86_64",
           8,
           16.64
          ],
          [
           "ForecasterRecursiveMultiSeries",
           "LGBMRegressor",
           "ForecasterRecursiveMultiSeries__create_predict_inputs_exog_is_dict",
           "52b1c12811cade5921c24c58d5503d03",
           0.01800958810051553,
           "2025-04-22T22:53:31.295536",
           "3.12.9",
           "1.26.4",
           "2.2.3",
           "1.4.2",
           "4.6.0",
           "Linux-6.11.0-21-generic-x86_64-with-glibc2.39",
           "x86_64",
           8,
           16.64
          ],
          [
           "ForecasterRecursiveMultiSeries",
           "LGBMRegressor",
           "ForecasterRecursiveMultiSeries__create_predict_inputs_exog_is_dict",
           "52b1c12811cade5921c24c58d5503d03",
           0.1629401187447434,
           "2025-04-23T09:57:18.742364",
           "3.12.9",
           "1.26.4",
           "2.2.3",
           "1.4.2",
           "4.6.0",
           "Linux-6.11.0-21-generic-x86_64-with-glibc2.39",
           "x86_64",
           8,
           16.64
          ],
          [
           "ForecasterRecursiveMultiSeries",
           "LGBMRegressor",
           "ForecasterRecursiveMultiSeries__create_predict_inputs_exog_is_dict",
           "52b1c12811cade5921c24c58d5503d03",
           0.05079115290126635,
           "2025-04-23T10:02:28.673536",
           "3.12.9",
           "2.2.5",
           "2.2.3",
           "1.6.1",
           "4.6.0",
           "Linux-6.11.0-21-generic-x86_64-with-glibc2.39",
           "x86_64",
           8,
           16.64
          ],
          [
           "ForecasterRecursiveMultiSeries",
           "LGBMRegressor",
           "ForecasterRecursiveMultiSeries__create_predict_inputs_exog_is_dict",
           "52b1c12811cade5921c24c58d5503d03",
           0.07241806635794569,
           "2025-04-23T10:25:40.897659",
           "3.12.9",
           "2.2.5",
           "2.2.3",
           "1.6.1",
           "4.6.0",
           "Linux-6.11.0-21-generic-x86_64-with-glibc2.39",
           "x86_64",
           8,
           16.64
          ],
          [
           "ForecasterRecursiveMultiSeries",
           "LGBMRegressor",
           "ForecasterRecursiveMultiSeries__create_predict_inputs_exog_is_dict",
           "52b1c12811cade5921c24c58d5503d03",
           0.02136993812865651,
           "2025-04-23T13:38:49.715470",
           "3.12.9",
           "2.2.5",
           "2.2.3",
           "1.6.1",
           "4.6.0",
           "Linux-6.11.0-21-generic-x86_64-with-glibc2.39",
           "x86_64",
           8,
           16.64
          ],
          [
           "ForecasterRecursiveMultiSeries",
           "LGBMRegressor",
           "ForecasterRecursiveMultiSeries__create_predict_inputs_exog_is_dict",
           "52b1c12811cade5921c24c58d5503d03",
           0.03859333775839432,
           "2025-04-23T13:43:11.992236",
           "3.12.9",
           "2.2.5",
           "2.2.3",
           "1.6.1",
           "4.6.0",
           "Linux-6.11.0-21-generic-x86_64-with-glibc2.39",
           "x86_64",
           8,
           16.64
          ],
          [
           "ForecasterRecursiveMultiSeries",
           "LGBMRegressor",
           "ForecasterRecursiveMultiSeries__create_predict_inputs_exog_is_dict",
           "52b1c12811cade5921c24c58d5503d03",
           0.03317996925101288,
           "2025-04-23T13:47:15.465602",
           "3.12.9",
           "2.2.5",
           "2.2.3",
           "1.6.1",
           "4.6.0",
           "Linux-6.11.0-21-generic-x86_64-with-glibc2.39",
           "x86_64",
           8,
           16.64
          ]
         ],
         "fillcolor": "rgba(255,255,255,0)",
         "hoveron": "points",
         "hovertemplate": "skforecast_version=%{x}<br>run_time_avg=%{y}<br>forecaster_name=%{customdata[0]}<br>regressor_name=%{customdata[1]}<br>function_name=%{customdata[2]}<br>function_hash=%{customdata[3]}<br>run_time_std_dev=%{customdata[4]}<br>datetime=%{customdata[5]}<br>python_version=%{customdata[6]}<br>numpy_version=%{customdata[7]}<br>pandas_version=%{customdata[8]}<br>sklearn_version=%{customdata[9]}<br>lightgbm_version=%{customdata[10]}<br>platform=%{customdata[11]}<br>processor=%{customdata[12]}<br>cpu_count=%{customdata[13]}<br>memory_gb=%{customdata[14]}<extra></extra>",
         "jitter": true,
         "legendgroup": "0.16.0",
         "line": {
          "color": "rgba(255,255,255,0)"
         },
         "marker": {
          "color": "#00cc96",
          "opacity": 0.7,
          "size": 10
         },
         "name": "0.16.0",
         "offsetgroup": "0.16.0",
         "orientation": "v",
         "pointpos": 0,
         "showlegend": true,
         "type": "box",
         "x": [
          "0.16.0",
          "0.16.0",
          "0.16.0",
          "0.16.0",
          "0.16.0",
          "0.16.0",
          "0.16.0",
          "0.16.0",
          "0.16.0"
         ],
         "x0": " ",
         "xaxis": "x",
         "y": {
          "bdata": "AAAoM4tc2D9mJlGaShndPzOzZ6O/I9c/ZjQYZeVn4T+aERELcBLYP2ZGuhAW0ts/MzNlZ+Dv0j/NjLsBmArUPzNz9/f9CtQ/",
          "dtype": "f8"
         },
         "y0": " ",
         "yaxis": "y"
        },
        {
         "line": {
          "color": "black",
          "width": 2
         },
         "marker": {
          "size": 8
         },
         "mode": "lines+markers",
         "name": "Median",
         "showlegend": true,
         "type": "scatter",
         "x": [
          "0.14.0",
          "0.15.0",
          "0.16.0"
         ],
         "y": {
          "bdata": "zaDQCaZk/D9m7hVYHWACQJoREQtwEtg/",
          "dtype": "f8"
         }
        }
       ],
       "layout": {
        "boxmode": "overlay",
        "legend": {
         "title": {
          "text": "skforecast_version"
         },
         "tracegroupgap": 0
        },
        "margin": {
         "t": 60
        },
        "showlegend": true,
        "template": {
         "data": {
          "bar": [
           {
            "error_x": {
             "color": "#2a3f5f"
            },
            "error_y": {
             "color": "#2a3f5f"
            },
            "marker": {
             "line": {
              "color": "#E5ECF6",
              "width": 0.5
             },
             "pattern": {
              "fillmode": "overlay",
              "size": 10,
              "solidity": 0.2
             }
            },
            "type": "bar"
           }
          ],
          "barpolar": [
           {
            "marker": {
             "line": {
              "color": "#E5ECF6",
              "width": 0.5
             },
             "pattern": {
              "fillmode": "overlay",
              "size": 10,
              "solidity": 0.2
             }
            },
            "type": "barpolar"
           }
          ],
          "carpet": [
           {
            "aaxis": {
             "endlinecolor": "#2a3f5f",
             "gridcolor": "white",
             "linecolor": "white",
             "minorgridcolor": "white",
             "startlinecolor": "#2a3f5f"
            },
            "baxis": {
             "endlinecolor": "#2a3f5f",
             "gridcolor": "white",
             "linecolor": "white",
             "minorgridcolor": "white",
             "startlinecolor": "#2a3f5f"
            },
            "type": "carpet"
           }
          ],
          "choropleth": [
           {
            "colorbar": {
             "outlinewidth": 0,
             "ticks": ""
            },
            "type": "choropleth"
           }
          ],
          "contour": [
           {
            "colorbar": {
             "outlinewidth": 0,
             "ticks": ""
            },
            "colorscale": [
             [
              0,
              "#0d0887"
             ],
             [
              0.1111111111111111,
              "#46039f"
             ],
             [
              0.2222222222222222,
              "#7201a8"
             ],
             [
              0.3333333333333333,
              "#9c179e"
             ],
             [
              0.4444444444444444,
              "#bd3786"
             ],
             [
              0.5555555555555556,
              "#d8576b"
             ],
             [
              0.6666666666666666,
              "#ed7953"
             ],
             [
              0.7777777777777778,
              "#fb9f3a"
             ],
             [
              0.8888888888888888,
              "#fdca26"
             ],
             [
              1,
              "#f0f921"
             ]
            ],
            "type": "contour"
           }
          ],
          "contourcarpet": [
           {
            "colorbar": {
             "outlinewidth": 0,
             "ticks": ""
            },
            "type": "contourcarpet"
           }
          ],
          "heatmap": [
           {
            "colorbar": {
             "outlinewidth": 0,
             "ticks": ""
            },
            "colorscale": [
             [
              0,
              "#0d0887"
             ],
             [
              0.1111111111111111,
              "#46039f"
             ],
             [
              0.2222222222222222,
              "#7201a8"
             ],
             [
              0.3333333333333333,
              "#9c179e"
             ],
             [
              0.4444444444444444,
              "#bd3786"
             ],
             [
              0.5555555555555556,
              "#d8576b"
             ],
             [
              0.6666666666666666,
              "#ed7953"
             ],
             [
              0.7777777777777778,
              "#fb9f3a"
             ],
             [
              0.8888888888888888,
              "#fdca26"
             ],
             [
              1,
              "#f0f921"
             ]
            ],
            "type": "heatmap"
           }
          ],
          "histogram": [
           {
            "marker": {
             "pattern": {
              "fillmode": "overlay",
              "size": 10,
              "solidity": 0.2
             }
            },
            "type": "histogram"
           }
          ],
          "histogram2d": [
           {
            "colorbar": {
             "outlinewidth": 0,
             "ticks": ""
            },
            "colorscale": [
             [
              0,
              "#0d0887"
             ],
             [
              0.1111111111111111,
              "#46039f"
             ],
             [
              0.2222222222222222,
              "#7201a8"
             ],
             [
              0.3333333333333333,
              "#9c179e"
             ],
             [
              0.4444444444444444,
              "#bd3786"
             ],
             [
              0.5555555555555556,
              "#d8576b"
             ],
             [
              0.6666666666666666,
              "#ed7953"
             ],
             [
              0.7777777777777778,
              "#fb9f3a"
             ],
             [
              0.8888888888888888,
              "#fdca26"
             ],
             [
              1,
              "#f0f921"
             ]
            ],
            "type": "histogram2d"
           }
          ],
          "histogram2dcontour": [
           {
            "colorbar": {
             "outlinewidth": 0,
             "ticks": ""
            },
            "colorscale": [
             [
              0,
              "#0d0887"
             ],
             [
              0.1111111111111111,
              "#46039f"
             ],
             [
              0.2222222222222222,
              "#7201a8"
             ],
             [
              0.3333333333333333,
              "#9c179e"
             ],
             [
              0.4444444444444444,
              "#bd3786"
             ],
             [
              0.5555555555555556,
              "#d8576b"
             ],
             [
              0.6666666666666666,
              "#ed7953"
             ],
             [
              0.7777777777777778,
              "#fb9f3a"
             ],
             [
              0.8888888888888888,
              "#fdca26"
             ],
             [
              1,
              "#f0f921"
             ]
            ],
            "type": "histogram2dcontour"
           }
          ],
          "mesh3d": [
           {
            "colorbar": {
             "outlinewidth": 0,
             "ticks": ""
            },
            "type": "mesh3d"
           }
          ],
          "parcoords": [
           {
            "line": {
             "colorbar": {
              "outlinewidth": 0,
              "ticks": ""
             }
            },
            "type": "parcoords"
           }
          ],
          "pie": [
           {
            "automargin": true,
            "type": "pie"
           }
          ],
          "scatter": [
           {
            "fillpattern": {
             "fillmode": "overlay",
             "size": 10,
             "solidity": 0.2
            },
            "type": "scatter"
           }
          ],
          "scatter3d": [
           {
            "line": {
             "colorbar": {
              "outlinewidth": 0,
              "ticks": ""
             }
            },
            "marker": {
             "colorbar": {
              "outlinewidth": 0,
              "ticks": ""
             }
            },
            "type": "scatter3d"
           }
          ],
          "scattercarpet": [
           {
            "marker": {
             "colorbar": {
              "outlinewidth": 0,
              "ticks": ""
             }
            },
            "type": "scattercarpet"
           }
          ],
          "scattergeo": [
           {
            "marker": {
             "colorbar": {
              "outlinewidth": 0,
              "ticks": ""
             }
            },
            "type": "scattergeo"
           }
          ],
          "scattergl": [
           {
            "marker": {
             "colorbar": {
              "outlinewidth": 0,
              "ticks": ""
             }
            },
            "type": "scattergl"
           }
          ],
          "scattermap": [
           {
            "marker": {
             "colorbar": {
              "outlinewidth": 0,
              "ticks": ""
             }
            },
            "type": "scattermap"
           }
          ],
          "scattermapbox": [
           {
            "marker": {
             "colorbar": {
              "outlinewidth": 0,
              "ticks": ""
             }
            },
            "type": "scattermapbox"
           }
          ],
          "scatterpolar": [
           {
            "marker": {
             "colorbar": {
              "outlinewidth": 0,
              "ticks": ""
             }
            },
            "type": "scatterpolar"
           }
          ],
          "scatterpolargl": [
           {
            "marker": {
             "colorbar": {
              "outlinewidth": 0,
              "ticks": ""
             }
            },
            "type": "scatterpolargl"
           }
          ],
          "scatterternary": [
           {
            "marker": {
             "colorbar": {
              "outlinewidth": 0,
              "ticks": ""
             }
            },
            "type": "scatterternary"
           }
          ],
          "surface": [
           {
            "colorbar": {
             "outlinewidth": 0,
             "ticks": ""
            },
            "colorscale": [
             [
              0,
              "#0d0887"
             ],
             [
              0.1111111111111111,
              "#46039f"
             ],
             [
              0.2222222222222222,
              "#7201a8"
             ],
             [
              0.3333333333333333,
              "#9c179e"
             ],
             [
              0.4444444444444444,
              "#bd3786"
             ],
             [
              0.5555555555555556,
              "#d8576b"
             ],
             [
              0.6666666666666666,
              "#ed7953"
             ],
             [
              0.7777777777777778,
              "#fb9f3a"
             ],
             [
              0.8888888888888888,
              "#fdca26"
             ],
             [
              1,
              "#f0f921"
             ]
            ],
            "type": "surface"
           }
          ],
          "table": [
           {
            "cells": {
             "fill": {
              "color": "#EBF0F8"
             },
             "line": {
              "color": "white"
             }
            },
            "header": {
             "fill": {
              "color": "#C8D4E3"
             },
             "line": {
              "color": "white"
             }
            },
            "type": "table"
           }
          ]
         },
         "layout": {
          "annotationdefaults": {
           "arrowcolor": "#2a3f5f",
           "arrowhead": 0,
           "arrowwidth": 1
          },
          "autotypenumbers": "strict",
          "coloraxis": {
           "colorbar": {
            "outlinewidth": 0,
            "ticks": ""
           }
          },
          "colorscale": {
           "diverging": [
            [
             0,
             "#8e0152"
            ],
            [
             0.1,
             "#c51b7d"
            ],
            [
             0.2,
             "#de77ae"
            ],
            [
             0.3,
             "#f1b6da"
            ],
            [
             0.4,
             "#fde0ef"
            ],
            [
             0.5,
             "#f7f7f7"
            ],
            [
             0.6,
             "#e6f5d0"
            ],
            [
             0.7,
             "#b8e186"
            ],
            [
             0.8,
             "#7fbc41"
            ],
            [
             0.9,
             "#4d9221"
            ],
            [
             1,
             "#276419"
            ]
           ],
           "sequential": [
            [
             0,
             "#0d0887"
            ],
            [
             0.1111111111111111,
             "#46039f"
            ],
            [
             0.2222222222222222,
             "#7201a8"
            ],
            [
             0.3333333333333333,
             "#9c179e"
            ],
            [
             0.4444444444444444,
             "#bd3786"
            ],
            [
             0.5555555555555556,
             "#d8576b"
            ],
            [
             0.6666666666666666,
             "#ed7953"
            ],
            [
             0.7777777777777778,
             "#fb9f3a"
            ],
            [
             0.8888888888888888,
             "#fdca26"
            ],
            [
             1,
             "#f0f921"
            ]
           ],
           "sequentialminus": [
            [
             0,
             "#0d0887"
            ],
            [
             0.1111111111111111,
             "#46039f"
            ],
            [
             0.2222222222222222,
             "#7201a8"
            ],
            [
             0.3333333333333333,
             "#9c179e"
            ],
            [
             0.4444444444444444,
             "#bd3786"
            ],
            [
             0.5555555555555556,
             "#d8576b"
            ],
            [
             0.6666666666666666,
             "#ed7953"
            ],
            [
             0.7777777777777778,
             "#fb9f3a"
            ],
            [
             0.8888888888888888,
             "#fdca26"
            ],
            [
             1,
             "#f0f921"
            ]
           ]
          },
          "colorway": [
           "#636efa",
           "#EF553B",
           "#00cc96",
           "#ab63fa",
           "#FFA15A",
           "#19d3f3",
           "#FF6692",
           "#B6E880",
           "#FF97FF",
           "#FECB52"
          ],
          "font": {
           "color": "#2a3f5f"
          },
          "geo": {
           "bgcolor": "white",
           "lakecolor": "white",
           "landcolor": "#E5ECF6",
           "showlakes": true,
           "showland": true,
           "subunitcolor": "white"
          },
          "hoverlabel": {
           "align": "left"
          },
          "hovermode": "closest",
          "mapbox": {
           "style": "light"
          },
          "paper_bgcolor": "white",
          "plot_bgcolor": "#E5ECF6",
          "polar": {
           "angularaxis": {
            "gridcolor": "white",
            "linecolor": "white",
            "ticks": ""
           },
           "bgcolor": "#E5ECF6",
           "radialaxis": {
            "gridcolor": "white",
            "linecolor": "white",
            "ticks": ""
           }
          },
          "scene": {
           "xaxis": {
            "backgroundcolor": "#E5ECF6",
            "gridcolor": "white",
            "gridwidth": 2,
            "linecolor": "white",
            "showbackground": true,
            "ticks": "",
            "zerolinecolor": "white"
           },
           "yaxis": {
            "backgroundcolor": "#E5ECF6",
            "gridcolor": "white",
            "gridwidth": 2,
            "linecolor": "white",
            "showbackground": true,
            "ticks": "",
            "zerolinecolor": "white"
           },
           "zaxis": {
            "backgroundcolor": "#E5ECF6",
            "gridcolor": "white",
            "gridwidth": 2,
            "linecolor": "white",
            "showbackground": true,
            "ticks": "",
            "zerolinecolor": "white"
           }
          },
          "shapedefaults": {
           "line": {
            "color": "#2a3f5f"
           }
          },
          "ternary": {
           "aaxis": {
            "gridcolor": "white",
            "linecolor": "white",
            "ticks": ""
           },
           "baxis": {
            "gridcolor": "white",
            "linecolor": "white",
            "ticks": ""
           },
           "bgcolor": "#E5ECF6",
           "caxis": {
            "gridcolor": "white",
            "linecolor": "white",
            "ticks": ""
           }
          },
          "title": {
           "x": 0.05
          },
          "xaxis": {
           "automargin": true,
           "gridcolor": "white",
           "linecolor": "white",
           "ticks": "",
           "title": {
            "standoff": 15
           },
           "zerolinecolor": "white",
           "zerolinewidth": 2
          },
          "yaxis": {
           "automargin": true,
           "gridcolor": "white",
           "linecolor": "white",
           "ticks": "",
           "title": {
            "standoff": 15
           },
           "zerolinecolor": "white",
           "zerolinewidth": 2
          }
         }
        },
        "title": {
         "text": "Execution time of ForecasterRecursiveMultiSeries__create_predict_inputs_exog_is_dict"
        },
        "xaxis": {
         "anchor": "y",
         "categoryarray": [
          "0.14.0",
          "0.15.0",
          "0.16.0"
         ],
         "categoryorder": "array",
         "domain": [
          0,
          1
         ],
         "title": {
          "text": "skforecast version"
         }
        },
        "yaxis": {
         "anchor": "x",
         "domain": [
          0,
          1
         ],
         "title": {
          "text": "Execution time (seconds)"
         }
        }
       }
      }
     },
     "metadata": {},
     "output_type": "display_data"
    },
    {
     "data": {
      "application/vnd.microsoft.datawrangler.viewer.v0+json": {
       "columns": [
        {
         "name": "index",
         "rawType": "int64",
         "type": "integer"
        },
        {
         "name": "forecaster_name",
         "rawType": "object",
         "type": "string"
        },
        {
         "name": "regressor_name",
         "rawType": "object",
         "type": "string"
        },
        {
         "name": "function_name",
         "rawType": "object",
         "type": "string"
        },
        {
         "name": "function_hash",
         "rawType": "object",
         "type": "string"
        },
        {
         "name": "run_time_avg",
         "rawType": "float64",
         "type": "float"
        },
        {
         "name": "run_time_std_dev",
         "rawType": "float64",
         "type": "float"
        },
        {
         "name": "datetime",
         "rawType": "datetime64[ns]",
         "type": "datetime"
        },
        {
         "name": "python_version",
         "rawType": "object",
         "type": "string"
        },
        {
         "name": "skforecast_version",
         "rawType": "object",
         "type": "string"
        },
        {
         "name": "numpy_version",
         "rawType": "object",
         "type": "string"
        },
        {
         "name": "pandas_version",
         "rawType": "object",
         "type": "string"
        },
        {
         "name": "sklearn_version",
         "rawType": "object",
         "type": "string"
        },
        {
         "name": "lightgbm_version",
         "rawType": "object",
         "type": "string"
        },
        {
         "name": "platform",
         "rawType": "object",
         "type": "string"
        },
        {
         "name": "processor",
         "rawType": "object",
         "type": "string"
        },
        {
         "name": "cpu_count",
         "rawType": "int64",
         "type": "integer"
        },
        {
         "name": "memory_gb",
         "rawType": "float64",
         "type": "float"
        }
       ],
       "conversionMethod": "pd.DataFrame",
       "ref": "4e68ae25-458c-476c-aef7-1e293650bbcd",
       "rows": [
        [
         "23",
         "ForecasterRecursiveMultiSeries",
         "LGBMRegressor",
         "ForecasterRecursiveMultiSeries__check_predict_inputs",
         "33fe67969d33981cb73558c1dc51eb82",
         "0.31095381899995117",
         "0.02198111227691725",
         "2025-04-22 21:24:17.424537",
         "3.12.9",
         "0.14.0",
         "1.26.4",
         "2.2.3",
         "1.4.2",
         "4.6.0",
         "Linux-6.11.0-21-generic-x86_64-with-glibc2.39",
         "x86_64",
         "8",
         "16.64"
        ],
        [
         "43",
         "ForecasterRecursiveMultiSeries",
         "LGBMRegressor",
         "ForecasterRecursiveMultiSeries__check_predict_inputs",
         "33fe67969d33981cb73558c1dc51eb82",
         "0.30187304619994393",
         "0.006419052613641788",
         "2025-04-22 21:31:01.460036",
         "3.12.9",
         "0.14.0",
         "1.26.4",
         "2.2.3",
         "1.4.2",
         "4.6.0",
         "Linux-6.11.0-21-generic-x86_64-with-glibc2.39",
         "x86_64",
         "8",
         "16.64"
        ],
        [
         "55",
         "ForecasterRecursiveMultiSeries",
         "LGBMRegressor",
         "ForecasterRecursiveMultiSeries__check_predict_inputs",
         "33fe67969d33981cb73558c1dc51eb82",
         "0.4924359092003215",
         "0.05390321764397032",
         "2025-04-22 21:35:33.639610",
         "3.12.9",
         "0.15.0",
         "1.26.4",
         "2.2.3",
         "1.4.2",
         "4.6.0",
         "Linux-6.11.0-21-generic-x86_64-with-glibc2.39",
         "x86_64",
         "8",
         "16.64"
        ],
        [
         "67",
         "ForecasterRecursiveMultiSeries",
         "LGBMRegressor",
         "ForecasterRecursiveMultiSeries__check_predict_inputs",
         "33fe67969d33981cb73558c1dc51eb82",
         "0.40878162699973475",
         "0.034458316026804346",
         "2025-04-22 21:46:29.513457",
         "3.12.9",
         "0.15.0",
         "2.2.5",
         "2.2.3",
         "1.6.1",
         "4.6.0",
         "Linux-6.11.0-21-generic-x86_64-with-glibc2.39",
         "x86_64",
         "8",
         "16.64"
        ],
        [
         "79",
         "ForecasterRecursiveMultiSeries",
         "LGBMRegressor",
         "ForecasterRecursiveMultiSeries__check_predict_inputs",
         "33fe67969d33981cb73558c1dc51eb82",
         "0.11320127720009623",
         "0.03537004768032105",
         "2025-04-22 21:56:12.182762",
         "3.12.9",
         "0.16.0",
         "2.2.5",
         "2.2.3",
         "1.6.1",
         "4.6.0",
         "Linux-6.11.0-21-generic-x86_64-with-glibc2.39",
         "x86_64",
         "8",
         "16.64"
        ],
        [
         "91",
         "ForecasterRecursiveMultiSeries",
         "LGBMRegressor",
         "ForecasterRecursiveMultiSeries__check_predict_inputs",
         "33fe67969d33981cb73558c1dc51eb82",
         "0.09160097079966363",
         "0.0046780056627866475",
         "2025-04-22 22:10:54.144804",
         "3.12.9",
         "0.16.0",
         "1.26.4",
         "2.2.3",
         "1.6.1",
         "4.6.0",
         "Linux-6.11.0-21-generic-x86_64-with-glibc2.39",
         "x86_64",
         "8",
         "16.64"
        ],
        [
         "127",
         "ForecasterRecursiveMultiSeries",
         "LGBMRegressor",
         "ForecasterRecursiveMultiSeries__check_predict_inputs",
         "33fe67969d33981cb73558c1dc51eb82",
         "0.483162676399661",
         "0.07207718990039422",
         "2025-04-22 22:45:56.469701",
         "3.12.9",
         "0.15.0",
         "1.26.4",
         "2.2.3",
         "1.4.2",
         "4.6.0",
         "Linux-6.11.0-21-generic-x86_64-with-glibc2.39",
         "x86_64",
         "8",
         "16.64"
        ],
        [
         "139",
         "ForecasterRecursiveMultiSeries",
         "LGBMRegressor",
         "ForecasterRecursiveMultiSeries__check_predict_inputs",
         "33fe67969d33981cb73558c1dc51eb82",
         "0.11615983000046981",
         "0.034849407441169065",
         "2025-04-22 22:53:33.114403",
         "3.12.9",
         "0.16.0",
         "1.26.4",
         "2.2.3",
         "1.4.2",
         "4.6.0",
         "Linux-6.11.0-21-generic-x86_64-with-glibc2.39",
         "x86_64",
         "8",
         "16.64"
        ],
        [
         "175",
         "ForecasterRecursiveMultiSeries",
         "LGBMRegressor",
         "ForecasterRecursiveMultiSeries__check_predict_inputs",
         "33fe67969d33981cb73558c1dc51eb82",
         "0.3559238300000061",
         "0.02506350601732586",
         "2025-04-23 09:57:21.483055",
         "3.12.9",
         "0.16.0",
         "1.26.4",
         "2.2.3",
         "1.4.2",
         "4.6.0",
         "Linux-6.11.0-21-generic-x86_64-with-glibc2.39",
         "x86_64",
         "8",
         "16.64"
        ],
        [
         "187",
         "ForecasterRecursiveMultiSeries",
         "LGBMRegressor",
         "ForecasterRecursiveMultiSeries__check_predict_inputs",
         "33fe67969d33981cb73558c1dc51eb82",
         "0.13456314299996847",
         "0.0465286319167223",
         "2025-04-23 10:02:30.563676",
         "3.12.9",
         "0.16.0",
         "2.2.5",
         "2.2.3",
         "1.6.1",
         "4.6.0",
         "Linux-6.11.0-21-generic-x86_64-with-glibc2.39",
         "x86_64",
         "8",
         "16.64"
        ],
        [
         "199",
         "ForecasterRecursiveMultiSeries",
         "LGBMRegressor",
         "ForecasterRecursiveMultiSeries__check_predict_inputs",
         "33fe67969d33981cb73558c1dc51eb82",
         "0.11905695300001753",
         "0.010733416978201751",
         "2025-04-23 10:25:43.090844",
         "3.12.9",
         "0.16.0",
         "2.2.5",
         "2.2.3",
         "1.6.1",
         "4.6.0",
         "Linux-6.11.0-21-generic-x86_64-with-glibc2.39",
         "x86_64",
         "8",
         "16.64"
        ],
        [
         "211",
         "ForecasterRecursiveMultiSeries",
         "LGBMRegressor",
         "ForecasterRecursiveMultiSeries__check_predict_inputs",
         "33fe67969d33981cb73558c1dc51eb82",
         "0.07797758919987245",
         "0.007829460920929931",
         "2025-04-23 13:38:51.202146",
         "3.12.9",
         "0.16.0",
         "2.2.5",
         "2.2.3",
         "1.6.1",
         "4.6.0",
         "Linux-6.11.0-21-generic-x86_64-with-glibc2.39",
         "x86_64",
         "8",
         "16.64"
        ],
        [
         "223",
         "ForecasterRecursiveMultiSeries",
         "LGBMRegressor",
         "ForecasterRecursiveMultiSeries__check_predict_inputs",
         "33fe67969d33981cb73558c1dc51eb82",
         "0.08012739259993396",
         "0.012515228665435234",
         "2025-04-23 13:43:13.566257",
         "3.12.9",
         "0.16.0",
         "2.2.5",
         "2.2.3",
         "1.6.1",
         "4.6.0",
         "Linux-6.11.0-21-generic-x86_64-with-glibc2.39",
         "x86_64",
         "8",
         "16.64"
        ],
        [
         "235",
         "ForecasterRecursiveMultiSeries",
         "LGBMRegressor",
         "ForecasterRecursiveMultiSeries__check_predict_inputs",
         "33fe67969d33981cb73558c1dc51eb82",
         "0.07139791719964705",
         "0.0015611220685025546",
         "2025-04-23 13:47:17.036722",
         "3.12.9",
         "0.16.0",
         "2.2.5",
         "2.2.3",
         "1.6.1",
         "4.6.0",
         "Linux-6.11.0-21-generic-x86_64-with-glibc2.39",
         "x86_64",
         "8",
         "16.64"
        ]
       ],
       "shape": {
        "columns": 17,
        "rows": 14
       }
      },
      "text/html": [
       "<div>\n",
       "<style scoped>\n",
       "    .dataframe tbody tr th:only-of-type {\n",
       "        vertical-align: middle;\n",
       "    }\n",
       "\n",
       "    .dataframe tbody tr th {\n",
       "        vertical-align: top;\n",
       "    }\n",
       "\n",
       "    .dataframe thead th {\n",
       "        text-align: right;\n",
       "    }\n",
       "</style>\n",
       "<table border=\"1\" class=\"dataframe\">\n",
       "  <thead>\n",
       "    <tr style=\"text-align: right;\">\n",
       "      <th></th>\n",
       "      <th>forecaster_name</th>\n",
       "      <th>regressor_name</th>\n",
       "      <th>function_name</th>\n",
       "      <th>function_hash</th>\n",
       "      <th>run_time_avg</th>\n",
       "      <th>run_time_std_dev</th>\n",
       "      <th>datetime</th>\n",
       "      <th>python_version</th>\n",
       "      <th>skforecast_version</th>\n",
       "      <th>numpy_version</th>\n",
       "      <th>pandas_version</th>\n",
       "      <th>sklearn_version</th>\n",
       "      <th>lightgbm_version</th>\n",
       "      <th>platform</th>\n",
       "      <th>processor</th>\n",
       "      <th>cpu_count</th>\n",
       "      <th>memory_gb</th>\n",
       "    </tr>\n",
       "  </thead>\n",
       "  <tbody>\n",
       "    <tr>\n",
       "      <th>23</th>\n",
       "      <td>ForecasterRecursiveMultiSeries</td>\n",
       "      <td>LGBMRegressor</td>\n",
       "      <td>ForecasterRecursiveMultiSeries__check_predict_...</td>\n",
       "      <td>33fe67969d33981cb73558c1dc51eb82</td>\n",
       "      <td>0.310954</td>\n",
       "      <td>0.021981</td>\n",
       "      <td>2025-04-22 21:24:17.424537</td>\n",
       "      <td>3.12.9</td>\n",
       "      <td>0.14.0</td>\n",
       "      <td>1.26.4</td>\n",
       "      <td>2.2.3</td>\n",
       "      <td>1.4.2</td>\n",
       "      <td>4.6.0</td>\n",
       "      <td>Linux-6.11.0-21-generic-x86_64-with-glibc2.39</td>\n",
       "      <td>x86_64</td>\n",
       "      <td>8</td>\n",
       "      <td>16.64</td>\n",
       "    </tr>\n",
       "    <tr>\n",
       "      <th>43</th>\n",
       "      <td>ForecasterRecursiveMultiSeries</td>\n",
       "      <td>LGBMRegressor</td>\n",
       "      <td>ForecasterRecursiveMultiSeries__check_predict_...</td>\n",
       "      <td>33fe67969d33981cb73558c1dc51eb82</td>\n",
       "      <td>0.301873</td>\n",
       "      <td>0.006419</td>\n",
       "      <td>2025-04-22 21:31:01.460036</td>\n",
       "      <td>3.12.9</td>\n",
       "      <td>0.14.0</td>\n",
       "      <td>1.26.4</td>\n",
       "      <td>2.2.3</td>\n",
       "      <td>1.4.2</td>\n",
       "      <td>4.6.0</td>\n",
       "      <td>Linux-6.11.0-21-generic-x86_64-with-glibc2.39</td>\n",
       "      <td>x86_64</td>\n",
       "      <td>8</td>\n",
       "      <td>16.64</td>\n",
       "    </tr>\n",
       "    <tr>\n",
       "      <th>55</th>\n",
       "      <td>ForecasterRecursiveMultiSeries</td>\n",
       "      <td>LGBMRegressor</td>\n",
       "      <td>ForecasterRecursiveMultiSeries__check_predict_...</td>\n",
       "      <td>33fe67969d33981cb73558c1dc51eb82</td>\n",
       "      <td>0.492436</td>\n",
       "      <td>0.053903</td>\n",
       "      <td>2025-04-22 21:35:33.639610</td>\n",
       "      <td>3.12.9</td>\n",
       "      <td>0.15.0</td>\n",
       "      <td>1.26.4</td>\n",
       "      <td>2.2.3</td>\n",
       "      <td>1.4.2</td>\n",
       "      <td>4.6.0</td>\n",
       "      <td>Linux-6.11.0-21-generic-x86_64-with-glibc2.39</td>\n",
       "      <td>x86_64</td>\n",
       "      <td>8</td>\n",
       "      <td>16.64</td>\n",
       "    </tr>\n",
       "    <tr>\n",
       "      <th>67</th>\n",
       "      <td>ForecasterRecursiveMultiSeries</td>\n",
       "      <td>LGBMRegressor</td>\n",
       "      <td>ForecasterRecursiveMultiSeries__check_predict_...</td>\n",
       "      <td>33fe67969d33981cb73558c1dc51eb82</td>\n",
       "      <td>0.408782</td>\n",
       "      <td>0.034458</td>\n",
       "      <td>2025-04-22 21:46:29.513457</td>\n",
       "      <td>3.12.9</td>\n",
       "      <td>0.15.0</td>\n",
       "      <td>2.2.5</td>\n",
       "      <td>2.2.3</td>\n",
       "      <td>1.6.1</td>\n",
       "      <td>4.6.0</td>\n",
       "      <td>Linux-6.11.0-21-generic-x86_64-with-glibc2.39</td>\n",
       "      <td>x86_64</td>\n",
       "      <td>8</td>\n",
       "      <td>16.64</td>\n",
       "    </tr>\n",
       "    <tr>\n",
       "      <th>79</th>\n",
       "      <td>ForecasterRecursiveMultiSeries</td>\n",
       "      <td>LGBMRegressor</td>\n",
       "      <td>ForecasterRecursiveMultiSeries__check_predict_...</td>\n",
       "      <td>33fe67969d33981cb73558c1dc51eb82</td>\n",
       "      <td>0.113201</td>\n",
       "      <td>0.035370</td>\n",
       "      <td>2025-04-22 21:56:12.182762</td>\n",
       "      <td>3.12.9</td>\n",
       "      <td>0.16.0</td>\n",
       "      <td>2.2.5</td>\n",
       "      <td>2.2.3</td>\n",
       "      <td>1.6.1</td>\n",
       "      <td>4.6.0</td>\n",
       "      <td>Linux-6.11.0-21-generic-x86_64-with-glibc2.39</td>\n",
       "      <td>x86_64</td>\n",
       "      <td>8</td>\n",
       "      <td>16.64</td>\n",
       "    </tr>\n",
       "    <tr>\n",
       "      <th>91</th>\n",
       "      <td>ForecasterRecursiveMultiSeries</td>\n",
       "      <td>LGBMRegressor</td>\n",
       "      <td>ForecasterRecursiveMultiSeries__check_predict_...</td>\n",
       "      <td>33fe67969d33981cb73558c1dc51eb82</td>\n",
       "      <td>0.091601</td>\n",
       "      <td>0.004678</td>\n",
       "      <td>2025-04-22 22:10:54.144804</td>\n",
       "      <td>3.12.9</td>\n",
       "      <td>0.16.0</td>\n",
       "      <td>1.26.4</td>\n",
       "      <td>2.2.3</td>\n",
       "      <td>1.6.1</td>\n",
       "      <td>4.6.0</td>\n",
       "      <td>Linux-6.11.0-21-generic-x86_64-with-glibc2.39</td>\n",
       "      <td>x86_64</td>\n",
       "      <td>8</td>\n",
       "      <td>16.64</td>\n",
       "    </tr>\n",
       "    <tr>\n",
       "      <th>127</th>\n",
       "      <td>ForecasterRecursiveMultiSeries</td>\n",
       "      <td>LGBMRegressor</td>\n",
       "      <td>ForecasterRecursiveMultiSeries__check_predict_...</td>\n",
       "      <td>33fe67969d33981cb73558c1dc51eb82</td>\n",
       "      <td>0.483163</td>\n",
       "      <td>0.072077</td>\n",
       "      <td>2025-04-22 22:45:56.469701</td>\n",
       "      <td>3.12.9</td>\n",
       "      <td>0.15.0</td>\n",
       "      <td>1.26.4</td>\n",
       "      <td>2.2.3</td>\n",
       "      <td>1.4.2</td>\n",
       "      <td>4.6.0</td>\n",
       "      <td>Linux-6.11.0-21-generic-x86_64-with-glibc2.39</td>\n",
       "      <td>x86_64</td>\n",
       "      <td>8</td>\n",
       "      <td>16.64</td>\n",
       "    </tr>\n",
       "    <tr>\n",
       "      <th>139</th>\n",
       "      <td>ForecasterRecursiveMultiSeries</td>\n",
       "      <td>LGBMRegressor</td>\n",
       "      <td>ForecasterRecursiveMultiSeries__check_predict_...</td>\n",
       "      <td>33fe67969d33981cb73558c1dc51eb82</td>\n",
       "      <td>0.116160</td>\n",
       "      <td>0.034849</td>\n",
       "      <td>2025-04-22 22:53:33.114403</td>\n",
       "      <td>3.12.9</td>\n",
       "      <td>0.16.0</td>\n",
       "      <td>1.26.4</td>\n",
       "      <td>2.2.3</td>\n",
       "      <td>1.4.2</td>\n",
       "      <td>4.6.0</td>\n",
       "      <td>Linux-6.11.0-21-generic-x86_64-with-glibc2.39</td>\n",
       "      <td>x86_64</td>\n",
       "      <td>8</td>\n",
       "      <td>16.64</td>\n",
       "    </tr>\n",
       "    <tr>\n",
       "      <th>175</th>\n",
       "      <td>ForecasterRecursiveMultiSeries</td>\n",
       "      <td>LGBMRegressor</td>\n",
       "      <td>ForecasterRecursiveMultiSeries__check_predict_...</td>\n",
       "      <td>33fe67969d33981cb73558c1dc51eb82</td>\n",
       "      <td>0.355924</td>\n",
       "      <td>0.025064</td>\n",
       "      <td>2025-04-23 09:57:21.483055</td>\n",
       "      <td>3.12.9</td>\n",
       "      <td>0.16.0</td>\n",
       "      <td>1.26.4</td>\n",
       "      <td>2.2.3</td>\n",
       "      <td>1.4.2</td>\n",
       "      <td>4.6.0</td>\n",
       "      <td>Linux-6.11.0-21-generic-x86_64-with-glibc2.39</td>\n",
       "      <td>x86_64</td>\n",
       "      <td>8</td>\n",
       "      <td>16.64</td>\n",
       "    </tr>\n",
       "    <tr>\n",
       "      <th>187</th>\n",
       "      <td>ForecasterRecursiveMultiSeries</td>\n",
       "      <td>LGBMRegressor</td>\n",
       "      <td>ForecasterRecursiveMultiSeries__check_predict_...</td>\n",
       "      <td>33fe67969d33981cb73558c1dc51eb82</td>\n",
       "      <td>0.134563</td>\n",
       "      <td>0.046529</td>\n",
       "      <td>2025-04-23 10:02:30.563676</td>\n",
       "      <td>3.12.9</td>\n",
       "      <td>0.16.0</td>\n",
       "      <td>2.2.5</td>\n",
       "      <td>2.2.3</td>\n",
       "      <td>1.6.1</td>\n",
       "      <td>4.6.0</td>\n",
       "      <td>Linux-6.11.0-21-generic-x86_64-with-glibc2.39</td>\n",
       "      <td>x86_64</td>\n",
       "      <td>8</td>\n",
       "      <td>16.64</td>\n",
       "    </tr>\n",
       "    <tr>\n",
       "      <th>199</th>\n",
       "      <td>ForecasterRecursiveMultiSeries</td>\n",
       "      <td>LGBMRegressor</td>\n",
       "      <td>ForecasterRecursiveMultiSeries__check_predict_...</td>\n",
       "      <td>33fe67969d33981cb73558c1dc51eb82</td>\n",
       "      <td>0.119057</td>\n",
       "      <td>0.010733</td>\n",
       "      <td>2025-04-23 10:25:43.090844</td>\n",
       "      <td>3.12.9</td>\n",
       "      <td>0.16.0</td>\n",
       "      <td>2.2.5</td>\n",
       "      <td>2.2.3</td>\n",
       "      <td>1.6.1</td>\n",
       "      <td>4.6.0</td>\n",
       "      <td>Linux-6.11.0-21-generic-x86_64-with-glibc2.39</td>\n",
       "      <td>x86_64</td>\n",
       "      <td>8</td>\n",
       "      <td>16.64</td>\n",
       "    </tr>\n",
       "    <tr>\n",
       "      <th>211</th>\n",
       "      <td>ForecasterRecursiveMultiSeries</td>\n",
       "      <td>LGBMRegressor</td>\n",
       "      <td>ForecasterRecursiveMultiSeries__check_predict_...</td>\n",
       "      <td>33fe67969d33981cb73558c1dc51eb82</td>\n",
       "      <td>0.077978</td>\n",
       "      <td>0.007829</td>\n",
       "      <td>2025-04-23 13:38:51.202146</td>\n",
       "      <td>3.12.9</td>\n",
       "      <td>0.16.0</td>\n",
       "      <td>2.2.5</td>\n",
       "      <td>2.2.3</td>\n",
       "      <td>1.6.1</td>\n",
       "      <td>4.6.0</td>\n",
       "      <td>Linux-6.11.0-21-generic-x86_64-with-glibc2.39</td>\n",
       "      <td>x86_64</td>\n",
       "      <td>8</td>\n",
       "      <td>16.64</td>\n",
       "    </tr>\n",
       "    <tr>\n",
       "      <th>223</th>\n",
       "      <td>ForecasterRecursiveMultiSeries</td>\n",
       "      <td>LGBMRegressor</td>\n",
       "      <td>ForecasterRecursiveMultiSeries__check_predict_...</td>\n",
       "      <td>33fe67969d33981cb73558c1dc51eb82</td>\n",
       "      <td>0.080127</td>\n",
       "      <td>0.012515</td>\n",
       "      <td>2025-04-23 13:43:13.566257</td>\n",
       "      <td>3.12.9</td>\n",
       "      <td>0.16.0</td>\n",
       "      <td>2.2.5</td>\n",
       "      <td>2.2.3</td>\n",
       "      <td>1.6.1</td>\n",
       "      <td>4.6.0</td>\n",
       "      <td>Linux-6.11.0-21-generic-x86_64-with-glibc2.39</td>\n",
       "      <td>x86_64</td>\n",
       "      <td>8</td>\n",
       "      <td>16.64</td>\n",
       "    </tr>\n",
       "    <tr>\n",
       "      <th>235</th>\n",
       "      <td>ForecasterRecursiveMultiSeries</td>\n",
       "      <td>LGBMRegressor</td>\n",
       "      <td>ForecasterRecursiveMultiSeries__check_predict_...</td>\n",
       "      <td>33fe67969d33981cb73558c1dc51eb82</td>\n",
       "      <td>0.071398</td>\n",
       "      <td>0.001561</td>\n",
       "      <td>2025-04-23 13:47:17.036722</td>\n",
       "      <td>3.12.9</td>\n",
       "      <td>0.16.0</td>\n",
       "      <td>2.2.5</td>\n",
       "      <td>2.2.3</td>\n",
       "      <td>1.6.1</td>\n",
       "      <td>4.6.0</td>\n",
       "      <td>Linux-6.11.0-21-generic-x86_64-with-glibc2.39</td>\n",
       "      <td>x86_64</td>\n",
       "      <td>8</td>\n",
       "      <td>16.64</td>\n",
       "    </tr>\n",
       "  </tbody>\n",
       "</table>\n",
       "</div>"
      ],
      "text/plain": [
       "                    forecaster_name regressor_name  \\\n",
       "23   ForecasterRecursiveMultiSeries  LGBMRegressor   \n",
       "43   ForecasterRecursiveMultiSeries  LGBMRegressor   \n",
       "55   ForecasterRecursiveMultiSeries  LGBMRegressor   \n",
       "67   ForecasterRecursiveMultiSeries  LGBMRegressor   \n",
       "79   ForecasterRecursiveMultiSeries  LGBMRegressor   \n",
       "91   ForecasterRecursiveMultiSeries  LGBMRegressor   \n",
       "127  ForecasterRecursiveMultiSeries  LGBMRegressor   \n",
       "139  ForecasterRecursiveMultiSeries  LGBMRegressor   \n",
       "175  ForecasterRecursiveMultiSeries  LGBMRegressor   \n",
       "187  ForecasterRecursiveMultiSeries  LGBMRegressor   \n",
       "199  ForecasterRecursiveMultiSeries  LGBMRegressor   \n",
       "211  ForecasterRecursiveMultiSeries  LGBMRegressor   \n",
       "223  ForecasterRecursiveMultiSeries  LGBMRegressor   \n",
       "235  ForecasterRecursiveMultiSeries  LGBMRegressor   \n",
       "\n",
       "                                         function_name  \\\n",
       "23   ForecasterRecursiveMultiSeries__check_predict_...   \n",
       "43   ForecasterRecursiveMultiSeries__check_predict_...   \n",
       "55   ForecasterRecursiveMultiSeries__check_predict_...   \n",
       "67   ForecasterRecursiveMultiSeries__check_predict_...   \n",
       "79   ForecasterRecursiveMultiSeries__check_predict_...   \n",
       "91   ForecasterRecursiveMultiSeries__check_predict_...   \n",
       "127  ForecasterRecursiveMultiSeries__check_predict_...   \n",
       "139  ForecasterRecursiveMultiSeries__check_predict_...   \n",
       "175  ForecasterRecursiveMultiSeries__check_predict_...   \n",
       "187  ForecasterRecursiveMultiSeries__check_predict_...   \n",
       "199  ForecasterRecursiveMultiSeries__check_predict_...   \n",
       "211  ForecasterRecursiveMultiSeries__check_predict_...   \n",
       "223  ForecasterRecursiveMultiSeries__check_predict_...   \n",
       "235  ForecasterRecursiveMultiSeries__check_predict_...   \n",
       "\n",
       "                        function_hash  run_time_avg  run_time_std_dev  \\\n",
       "23   33fe67969d33981cb73558c1dc51eb82      0.310954          0.021981   \n",
       "43   33fe67969d33981cb73558c1dc51eb82      0.301873          0.006419   \n",
       "55   33fe67969d33981cb73558c1dc51eb82      0.492436          0.053903   \n",
       "67   33fe67969d33981cb73558c1dc51eb82      0.408782          0.034458   \n",
       "79   33fe67969d33981cb73558c1dc51eb82      0.113201          0.035370   \n",
       "91   33fe67969d33981cb73558c1dc51eb82      0.091601          0.004678   \n",
       "127  33fe67969d33981cb73558c1dc51eb82      0.483163          0.072077   \n",
       "139  33fe67969d33981cb73558c1dc51eb82      0.116160          0.034849   \n",
       "175  33fe67969d33981cb73558c1dc51eb82      0.355924          0.025064   \n",
       "187  33fe67969d33981cb73558c1dc51eb82      0.134563          0.046529   \n",
       "199  33fe67969d33981cb73558c1dc51eb82      0.119057          0.010733   \n",
       "211  33fe67969d33981cb73558c1dc51eb82      0.077978          0.007829   \n",
       "223  33fe67969d33981cb73558c1dc51eb82      0.080127          0.012515   \n",
       "235  33fe67969d33981cb73558c1dc51eb82      0.071398          0.001561   \n",
       "\n",
       "                      datetime python_version skforecast_version  \\\n",
       "23  2025-04-22 21:24:17.424537         3.12.9             0.14.0   \n",
       "43  2025-04-22 21:31:01.460036         3.12.9             0.14.0   \n",
       "55  2025-04-22 21:35:33.639610         3.12.9             0.15.0   \n",
       "67  2025-04-22 21:46:29.513457         3.12.9             0.15.0   \n",
       "79  2025-04-22 21:56:12.182762         3.12.9             0.16.0   \n",
       "91  2025-04-22 22:10:54.144804         3.12.9             0.16.0   \n",
       "127 2025-04-22 22:45:56.469701         3.12.9             0.15.0   \n",
       "139 2025-04-22 22:53:33.114403         3.12.9             0.16.0   \n",
       "175 2025-04-23 09:57:21.483055         3.12.9             0.16.0   \n",
       "187 2025-04-23 10:02:30.563676         3.12.9             0.16.0   \n",
       "199 2025-04-23 10:25:43.090844         3.12.9             0.16.0   \n",
       "211 2025-04-23 13:38:51.202146         3.12.9             0.16.0   \n",
       "223 2025-04-23 13:43:13.566257         3.12.9             0.16.0   \n",
       "235 2025-04-23 13:47:17.036722         3.12.9             0.16.0   \n",
       "\n",
       "    numpy_version pandas_version sklearn_version lightgbm_version  \\\n",
       "23         1.26.4          2.2.3           1.4.2            4.6.0   \n",
       "43         1.26.4          2.2.3           1.4.2            4.6.0   \n",
       "55         1.26.4          2.2.3           1.4.2            4.6.0   \n",
       "67          2.2.5          2.2.3           1.6.1            4.6.0   \n",
       "79          2.2.5          2.2.3           1.6.1            4.6.0   \n",
       "91         1.26.4          2.2.3           1.6.1            4.6.0   \n",
       "127        1.26.4          2.2.3           1.4.2            4.6.0   \n",
       "139        1.26.4          2.2.3           1.4.2            4.6.0   \n",
       "175        1.26.4          2.2.3           1.4.2            4.6.0   \n",
       "187         2.2.5          2.2.3           1.6.1            4.6.0   \n",
       "199         2.2.5          2.2.3           1.6.1            4.6.0   \n",
       "211         2.2.5          2.2.3           1.6.1            4.6.0   \n",
       "223         2.2.5          2.2.3           1.6.1            4.6.0   \n",
       "235         2.2.5          2.2.3           1.6.1            4.6.0   \n",
       "\n",
       "                                          platform processor  cpu_count  \\\n",
       "23   Linux-6.11.0-21-generic-x86_64-with-glibc2.39    x86_64          8   \n",
       "43   Linux-6.11.0-21-generic-x86_64-with-glibc2.39    x86_64          8   \n",
       "55   Linux-6.11.0-21-generic-x86_64-with-glibc2.39    x86_64          8   \n",
       "67   Linux-6.11.0-21-generic-x86_64-with-glibc2.39    x86_64          8   \n",
       "79   Linux-6.11.0-21-generic-x86_64-with-glibc2.39    x86_64          8   \n",
       "91   Linux-6.11.0-21-generic-x86_64-with-glibc2.39    x86_64          8   \n",
       "127  Linux-6.11.0-21-generic-x86_64-with-glibc2.39    x86_64          8   \n",
       "139  Linux-6.11.0-21-generic-x86_64-with-glibc2.39    x86_64          8   \n",
       "175  Linux-6.11.0-21-generic-x86_64-with-glibc2.39    x86_64          8   \n",
       "187  Linux-6.11.0-21-generic-x86_64-with-glibc2.39    x86_64          8   \n",
       "199  Linux-6.11.0-21-generic-x86_64-with-glibc2.39    x86_64          8   \n",
       "211  Linux-6.11.0-21-generic-x86_64-with-glibc2.39    x86_64          8   \n",
       "223  Linux-6.11.0-21-generic-x86_64-with-glibc2.39    x86_64          8   \n",
       "235  Linux-6.11.0-21-generic-x86_64-with-glibc2.39    x86_64          8   \n",
       "\n",
       "     memory_gb  \n",
       "23       16.64  \n",
       "43       16.64  \n",
       "55       16.64  \n",
       "67       16.64  \n",
       "79       16.64  \n",
       "91       16.64  \n",
       "127      16.64  \n",
       "139      16.64  \n",
       "175      16.64  \n",
       "187      16.64  \n",
       "199      16.64  \n",
       "211      16.64  \n",
       "223      16.64  \n",
       "235      16.64  "
      ]
     },
     "metadata": {},
     "output_type": "display_data"
    },
    {
     "data": {
      "application/vnd.plotly.v1+json": {
       "config": {
        "plotlyServerURL": "https://plot.ly"
       },
       "data": [
        {
         "alignmentgroup": "True",
         "boxpoints": "all",
         "customdata": [
          [
           "ForecasterRecursiveMultiSeries",
           "LGBMRegressor",
           "ForecasterRecursiveMultiSeries__check_predict_inputs",
           "33fe67969d33981cb73558c1dc51eb82",
           0.02198111227691725,
           "2025-04-22T21:24:17.424537",
           "3.12.9",
           "1.26.4",
           "2.2.3",
           "1.4.2",
           "4.6.0",
           "Linux-6.11.0-21-generic-x86_64-with-glibc2.39",
           "x86_64",
           8,
           16.64
          ],
          [
           "ForecasterRecursiveMultiSeries",
           "LGBMRegressor",
           "ForecasterRecursiveMultiSeries__check_predict_inputs",
           "33fe67969d33981cb73558c1dc51eb82",
           0.006419052613641788,
           "2025-04-22T21:31:01.460036",
           "3.12.9",
           "1.26.4",
           "2.2.3",
           "1.4.2",
           "4.6.0",
           "Linux-6.11.0-21-generic-x86_64-with-glibc2.39",
           "x86_64",
           8,
           16.64
          ]
         ],
         "fillcolor": "rgba(255,255,255,0)",
         "hoveron": "points",
         "hovertemplate": "skforecast_version=%{x}<br>run_time_avg=%{y}<br>forecaster_name=%{customdata[0]}<br>regressor_name=%{customdata[1]}<br>function_name=%{customdata[2]}<br>function_hash=%{customdata[3]}<br>run_time_std_dev=%{customdata[4]}<br>datetime=%{customdata[5]}<br>python_version=%{customdata[6]}<br>numpy_version=%{customdata[7]}<br>pandas_version=%{customdata[8]}<br>sklearn_version=%{customdata[9]}<br>lightgbm_version=%{customdata[10]}<br>platform=%{customdata[11]}<br>processor=%{customdata[12]}<br>cpu_count=%{customdata[13]}<br>memory_gb=%{customdata[14]}<extra></extra>",
         "jitter": true,
         "legendgroup": "0.14.0",
         "line": {
          "color": "rgba(255,255,255,0)"
         },
         "marker": {
          "color": "#636efa",
          "opacity": 0.7,
          "size": 10
         },
         "name": "0.14.0",
         "offsetgroup": "0.14.0",
         "orientation": "v",
         "pointpos": 0,
         "showlegend": true,
         "type": "box",
         "x": [
          "0.14.0",
          "0.14.0"
         ],
         "x0": " ",
         "xaxis": "x",
         "y": {
          "bdata": "M/PK2Krm0z8AQD5T41HTPw==",
          "dtype": "f8"
         },
         "y0": " ",
         "yaxis": "y"
        },
        {
         "alignmentgroup": "True",
         "boxpoints": "all",
         "customdata": [
          [
           "ForecasterRecursiveMultiSeries",
           "LGBMRegressor",
           "ForecasterRecursiveMultiSeries__check_predict_inputs",
           "33fe67969d33981cb73558c1dc51eb82",
           0.05390321764397032,
           "2025-04-22T21:35:33.639610",
           "3.12.9",
           "1.26.4",
           "2.2.3",
           "1.4.2",
           "4.6.0",
           "Linux-6.11.0-21-generic-x86_64-with-glibc2.39",
           "x86_64",
           8,
           16.64
          ],
          [
           "ForecasterRecursiveMultiSeries",
           "LGBMRegressor",
           "ForecasterRecursiveMultiSeries__check_predict_inputs",
           "33fe67969d33981cb73558c1dc51eb82",
           0.034458316026804346,
           "2025-04-22T21:46:29.513457",
           "3.12.9",
           "2.2.5",
           "2.2.3",
           "1.6.1",
           "4.6.0",
           "Linux-6.11.0-21-generic-x86_64-with-glibc2.39",
           "x86_64",
           8,
           16.64
          ],
          [
           "ForecasterRecursiveMultiSeries",
           "LGBMRegressor",
           "ForecasterRecursiveMultiSeries__check_predict_inputs",
           "33fe67969d33981cb73558c1dc51eb82",
           0.07207718990039422,
           "2025-04-22T22:45:56.469701",
           "3.12.9",
           "1.26.4",
           "2.2.3",
           "1.4.2",
           "4.6.0",
           "Linux-6.11.0-21-generic-x86_64-with-glibc2.39",
           "x86_64",
           8,
           16.64
          ]
         ],
         "fillcolor": "rgba(255,255,255,0)",
         "hoveron": "points",
         "hovertemplate": "skforecast_version=%{x}<br>run_time_avg=%{y}<br>forecaster_name=%{customdata[0]}<br>regressor_name=%{customdata[1]}<br>function_name=%{customdata[2]}<br>function_hash=%{customdata[3]}<br>run_time_std_dev=%{customdata[4]}<br>datetime=%{customdata[5]}<br>python_version=%{customdata[6]}<br>numpy_version=%{customdata[7]}<br>pandas_version=%{customdata[8]}<br>sklearn_version=%{customdata[9]}<br>lightgbm_version=%{customdata[10]}<br>platform=%{customdata[11]}<br>processor=%{customdata[12]}<br>cpu_count=%{customdata[13]}<br>memory_gb=%{customdata[14]}<extra></extra>",
         "jitter": true,
         "legendgroup": "0.15.0",
         "line": {
          "color": "rgba(255,255,255,0)"
         },
         "marker": {
          "color": "#EF553B",
          "opacity": 0.7,
          "size": 10
         },
         "name": "0.15.0",
         "offsetgroup": "0.15.0",
         "orientation": "v",
         "pointpos": 0,
         "showlegend": true,
         "type": "box",
         "x": [
          "0.15.0",
          "0.15.0",
          "0.15.0"
         ],
         "x0": " ",
         "xaxis": "x",
         "y": {
          "bdata": "zQxZ5xGE3z+a2cppeinaPzMzciUj7N4/",
          "dtype": "f8"
         },
         "y0": " ",
         "yaxis": "y"
        },
        {
         "alignmentgroup": "True",
         "boxpoints": "all",
         "customdata": [
          [
           "ForecasterRecursiveMultiSeries",
           "LGBMRegressor",
           "ForecasterRecursiveMultiSeries__check_predict_inputs",
           "33fe67969d33981cb73558c1dc51eb82",
           0.03537004768032105,
           "2025-04-22T21:56:12.182762",
           "3.12.9",
           "2.2.5",
           "2.2.3",
           "1.6.1",
           "4.6.0",
           "Linux-6.11.0-21-generic-x86_64-with-glibc2.39",
           "x86_64",
           8,
           16.64
          ],
          [
           "ForecasterRecursiveMultiSeries",
           "LGBMRegressor",
           "ForecasterRecursiveMultiSeries__check_predict_inputs",
           "33fe67969d33981cb73558c1dc51eb82",
           0.0046780056627866475,
           "2025-04-22T22:10:54.144804",
           "3.12.9",
           "1.26.4",
           "2.2.3",
           "1.6.1",
           "4.6.0",
           "Linux-6.11.0-21-generic-x86_64-with-glibc2.39",
           "x86_64",
           8,
           16.64
          ],
          [
           "ForecasterRecursiveMultiSeries",
           "LGBMRegressor",
           "ForecasterRecursiveMultiSeries__check_predict_inputs",
           "33fe67969d33981cb73558c1dc51eb82",
           0.034849407441169065,
           "2025-04-22T22:53:33.114403",
           "3.12.9",
           "1.26.4",
           "2.2.3",
           "1.4.2",
           "4.6.0",
           "Linux-6.11.0-21-generic-x86_64-with-glibc2.39",
           "x86_64",
           8,
           16.64
          ],
          [
           "ForecasterRecursiveMultiSeries",
           "LGBMRegressor",
           "ForecasterRecursiveMultiSeries__check_predict_inputs",
           "33fe67969d33981cb73558c1dc51eb82",
           0.02506350601732586,
           "2025-04-23T09:57:21.483055",
           "3.12.9",
           "1.26.4",
           "2.2.3",
           "1.4.2",
           "4.6.0",
           "Linux-6.11.0-21-generic-x86_64-with-glibc2.39",
           "x86_64",
           8,
           16.64
          ],
          [
           "ForecasterRecursiveMultiSeries",
           "LGBMRegressor",
           "ForecasterRecursiveMultiSeries__check_predict_inputs",
           "33fe67969d33981cb73558c1dc51eb82",
           0.0465286319167223,
           "2025-04-23T10:02:30.563676",
           "3.12.9",
           "2.2.5",
           "2.2.3",
           "1.6.1",
           "4.6.0",
           "Linux-6.11.0-21-generic-x86_64-with-glibc2.39",
           "x86_64",
           8,
           16.64
          ],
          [
           "ForecasterRecursiveMultiSeries",
           "LGBMRegressor",
           "ForecasterRecursiveMultiSeries__check_predict_inputs",
           "33fe67969d33981cb73558c1dc51eb82",
           0.010733416978201751,
           "2025-04-23T10:25:43.090844",
           "3.12.9",
           "2.2.5",
           "2.2.3",
           "1.6.1",
           "4.6.0",
           "Linux-6.11.0-21-generic-x86_64-with-glibc2.39",
           "x86_64",
           8,
           16.64
          ],
          [
           "ForecasterRecursiveMultiSeries",
           "LGBMRegressor",
           "ForecasterRecursiveMultiSeries__check_predict_inputs",
           "33fe67969d33981cb73558c1dc51eb82",
           0.007829460920929931,
           "2025-04-23T13:38:51.202146",
           "3.12.9",
           "2.2.5",
           "2.2.3",
           "1.6.1",
           "4.6.0",
           "Linux-6.11.0-21-generic-x86_64-with-glibc2.39",
           "x86_64",
           8,
           16.64
          ],
          [
           "ForecasterRecursiveMultiSeries",
           "LGBMRegressor",
           "ForecasterRecursiveMultiSeries__check_predict_inputs",
           "33fe67969d33981cb73558c1dc51eb82",
           0.012515228665435234,
           "2025-04-23T13:43:13.566257",
           "3.12.9",
           "2.2.5",
           "2.2.3",
           "1.6.1",
           "4.6.0",
           "Linux-6.11.0-21-generic-x86_64-with-glibc2.39",
           "x86_64",
           8,
           16.64
          ],
          [
           "ForecasterRecursiveMultiSeries",
           "LGBMRegressor",
           "ForecasterRecursiveMultiSeries__check_predict_inputs",
           "33fe67969d33981cb73558c1dc51eb82",
           0.0015611220685025546,
           "2025-04-23T13:47:17.036722",
           "3.12.9",
           "2.2.5",
           "2.2.3",
           "1.6.1",
           "4.6.0",
           "Linux-6.11.0-21-generic-x86_64-with-glibc2.39",
           "x86_64",
           8,
           16.64
          ]
         ],
         "fillcolor": "rgba(255,255,255,0)",
         "hoveron": "points",
         "hovertemplate": "skforecast_version=%{x}<br>run_time_avg=%{y}<br>forecaster_name=%{customdata[0]}<br>regressor_name=%{customdata[1]}<br>function_name=%{customdata[2]}<br>function_hash=%{customdata[3]}<br>run_time_std_dev=%{customdata[4]}<br>datetime=%{customdata[5]}<br>python_version=%{customdata[6]}<br>numpy_version=%{customdata[7]}<br>pandas_version=%{customdata[8]}<br>sklearn_version=%{customdata[9]}<br>lightgbm_version=%{customdata[10]}<br>platform=%{customdata[11]}<br>processor=%{customdata[12]}<br>cpu_count=%{customdata[13]}<br>memory_gb=%{customdata[14]}<extra></extra>",
         "jitter": true,
         "legendgroup": "0.16.0",
         "line": {
          "color": "rgba(255,255,255,0)"
         },
         "marker": {
          "color": "#00cc96",
          "opacity": 0.7,
          "size": 10
         },
         "name": "0.16.0",
         "offsetgroup": "0.16.0",
         "orientation": "v",
         "pointpos": 0,
         "showlegend": true,
         "type": "box",
         "x": [
          "0.16.0",
          "0.16.0",
          "0.16.0",
          "0.16.0",
          "0.16.0",
          "0.16.0",
          "0.16.0",
          "0.16.0",
          "0.16.0"
         ],
         "x0": " ",
         "xaxis": "x",
         "y": {
          "bdata": "mplwR8L6vD/NzN1FKXO3PwAA9o6mvL0/zeRtvnTH1j9mRjd1XTnBP5oZfzeEer4/MzNv21b2sz8AALuSOoO0PwAAYEciR7I/",
          "dtype": "f8"
         },
         "y0": " ",
         "yaxis": "y"
        },
        {
         "line": {
          "color": "black",
          "width": 2
         },
         "marker": {
          "size": 8
         },
         "mode": "lines+markers",
         "name": "Median",
         "showlegend": true,
         "type": "scatter",
         "x": [
          "0.14.0",
          "0.15.0",
          "0.16.0"
         ],
         "y": {
          "bdata": "mpkEFkec0z8zM3IlI+zeP5qZcEfC+rw/",
          "dtype": "f8"
         }
        }
       ],
       "layout": {
        "boxmode": "overlay",
        "legend": {
         "title": {
          "text": "skforecast_version"
         },
         "tracegroupgap": 0
        },
        "margin": {
         "t": 60
        },
        "showlegend": true,
        "template": {
         "data": {
          "bar": [
           {
            "error_x": {
             "color": "#2a3f5f"
            },
            "error_y": {
             "color": "#2a3f5f"
            },
            "marker": {
             "line": {
              "color": "#E5ECF6",
              "width": 0.5
             },
             "pattern": {
              "fillmode": "overlay",
              "size": 10,
              "solidity": 0.2
             }
            },
            "type": "bar"
           }
          ],
          "barpolar": [
           {
            "marker": {
             "line": {
              "color": "#E5ECF6",
              "width": 0.5
             },
             "pattern": {
              "fillmode": "overlay",
              "size": 10,
              "solidity": 0.2
             }
            },
            "type": "barpolar"
           }
          ],
          "carpet": [
           {
            "aaxis": {
             "endlinecolor": "#2a3f5f",
             "gridcolor": "white",
             "linecolor": "white",
             "minorgridcolor": "white",
             "startlinecolor": "#2a3f5f"
            },
            "baxis": {
             "endlinecolor": "#2a3f5f",
             "gridcolor": "white",
             "linecolor": "white",
             "minorgridcolor": "white",
             "startlinecolor": "#2a3f5f"
            },
            "type": "carpet"
           }
          ],
          "choropleth": [
           {
            "colorbar": {
             "outlinewidth": 0,
             "ticks": ""
            },
            "type": "choropleth"
           }
          ],
          "contour": [
           {
            "colorbar": {
             "outlinewidth": 0,
             "ticks": ""
            },
            "colorscale": [
             [
              0,
              "#0d0887"
             ],
             [
              0.1111111111111111,
              "#46039f"
             ],
             [
              0.2222222222222222,
              "#7201a8"
             ],
             [
              0.3333333333333333,
              "#9c179e"
             ],
             [
              0.4444444444444444,
              "#bd3786"
             ],
             [
              0.5555555555555556,
              "#d8576b"
             ],
             [
              0.6666666666666666,
              "#ed7953"
             ],
             [
              0.7777777777777778,
              "#fb9f3a"
             ],
             [
              0.8888888888888888,
              "#fdca26"
             ],
             [
              1,
              "#f0f921"
             ]
            ],
            "type": "contour"
           }
          ],
          "contourcarpet": [
           {
            "colorbar": {
             "outlinewidth": 0,
             "ticks": ""
            },
            "type": "contourcarpet"
           }
          ],
          "heatmap": [
           {
            "colorbar": {
             "outlinewidth": 0,
             "ticks": ""
            },
            "colorscale": [
             [
              0,
              "#0d0887"
             ],
             [
              0.1111111111111111,
              "#46039f"
             ],
             [
              0.2222222222222222,
              "#7201a8"
             ],
             [
              0.3333333333333333,
              "#9c179e"
             ],
             [
              0.4444444444444444,
              "#bd3786"
             ],
             [
              0.5555555555555556,
              "#d8576b"
             ],
             [
              0.6666666666666666,
              "#ed7953"
             ],
             [
              0.7777777777777778,
              "#fb9f3a"
             ],
             [
              0.8888888888888888,
              "#fdca26"
             ],
             [
              1,
              "#f0f921"
             ]
            ],
            "type": "heatmap"
           }
          ],
          "histogram": [
           {
            "marker": {
             "pattern": {
              "fillmode": "overlay",
              "size": 10,
              "solidity": 0.2
             }
            },
            "type": "histogram"
           }
          ],
          "histogram2d": [
           {
            "colorbar": {
             "outlinewidth": 0,
             "ticks": ""
            },
            "colorscale": [
             [
              0,
              "#0d0887"
             ],
             [
              0.1111111111111111,
              "#46039f"
             ],
             [
              0.2222222222222222,
              "#7201a8"
             ],
             [
              0.3333333333333333,
              "#9c179e"
             ],
             [
              0.4444444444444444,
              "#bd3786"
             ],
             [
              0.5555555555555556,
              "#d8576b"
             ],
             [
              0.6666666666666666,
              "#ed7953"
             ],
             [
              0.7777777777777778,
              "#fb9f3a"
             ],
             [
              0.8888888888888888,
              "#fdca26"
             ],
             [
              1,
              "#f0f921"
             ]
            ],
            "type": "histogram2d"
           }
          ],
          "histogram2dcontour": [
           {
            "colorbar": {
             "outlinewidth": 0,
             "ticks": ""
            },
            "colorscale": [
             [
              0,
              "#0d0887"
             ],
             [
              0.1111111111111111,
              "#46039f"
             ],
             [
              0.2222222222222222,
              "#7201a8"
             ],
             [
              0.3333333333333333,
              "#9c179e"
             ],
             [
              0.4444444444444444,
              "#bd3786"
             ],
             [
              0.5555555555555556,
              "#d8576b"
             ],
             [
              0.6666666666666666,
              "#ed7953"
             ],
             [
              0.7777777777777778,
              "#fb9f3a"
             ],
             [
              0.8888888888888888,
              "#fdca26"
             ],
             [
              1,
              "#f0f921"
             ]
            ],
            "type": "histogram2dcontour"
           }
          ],
          "mesh3d": [
           {
            "colorbar": {
             "outlinewidth": 0,
             "ticks": ""
            },
            "type": "mesh3d"
           }
          ],
          "parcoords": [
           {
            "line": {
             "colorbar": {
              "outlinewidth": 0,
              "ticks": ""
             }
            },
            "type": "parcoords"
           }
          ],
          "pie": [
           {
            "automargin": true,
            "type": "pie"
           }
          ],
          "scatter": [
           {
            "fillpattern": {
             "fillmode": "overlay",
             "size": 10,
             "solidity": 0.2
            },
            "type": "scatter"
           }
          ],
          "scatter3d": [
           {
            "line": {
             "colorbar": {
              "outlinewidth": 0,
              "ticks": ""
             }
            },
            "marker": {
             "colorbar": {
              "outlinewidth": 0,
              "ticks": ""
             }
            },
            "type": "scatter3d"
           }
          ],
          "scattercarpet": [
           {
            "marker": {
             "colorbar": {
              "outlinewidth": 0,
              "ticks": ""
             }
            },
            "type": "scattercarpet"
           }
          ],
          "scattergeo": [
           {
            "marker": {
             "colorbar": {
              "outlinewidth": 0,
              "ticks": ""
             }
            },
            "type": "scattergeo"
           }
          ],
          "scattergl": [
           {
            "marker": {
             "colorbar": {
              "outlinewidth": 0,
              "ticks": ""
             }
            },
            "type": "scattergl"
           }
          ],
          "scattermap": [
           {
            "marker": {
             "colorbar": {
              "outlinewidth": 0,
              "ticks": ""
             }
            },
            "type": "scattermap"
           }
          ],
          "scattermapbox": [
           {
            "marker": {
             "colorbar": {
              "outlinewidth": 0,
              "ticks": ""
             }
            },
            "type": "scattermapbox"
           }
          ],
          "scatterpolar": [
           {
            "marker": {
             "colorbar": {
              "outlinewidth": 0,
              "ticks": ""
             }
            },
            "type": "scatterpolar"
           }
          ],
          "scatterpolargl": [
           {
            "marker": {
             "colorbar": {
              "outlinewidth": 0,
              "ticks": ""
             }
            },
            "type": "scatterpolargl"
           }
          ],
          "scatterternary": [
           {
            "marker": {
             "colorbar": {
              "outlinewidth": 0,
              "ticks": ""
             }
            },
            "type": "scatterternary"
           }
          ],
          "surface": [
           {
            "colorbar": {
             "outlinewidth": 0,
             "ticks": ""
            },
            "colorscale": [
             [
              0,
              "#0d0887"
             ],
             [
              0.1111111111111111,
              "#46039f"
             ],
             [
              0.2222222222222222,
              "#7201a8"
             ],
             [
              0.3333333333333333,
              "#9c179e"
             ],
             [
              0.4444444444444444,
              "#bd3786"
             ],
             [
              0.5555555555555556,
              "#d8576b"
             ],
             [
              0.6666666666666666,
              "#ed7953"
             ],
             [
              0.7777777777777778,
              "#fb9f3a"
             ],
             [
              0.8888888888888888,
              "#fdca26"
             ],
             [
              1,
              "#f0f921"
             ]
            ],
            "type": "surface"
           }
          ],
          "table": [
           {
            "cells": {
             "fill": {
              "color": "#EBF0F8"
             },
             "line": {
              "color": "white"
             }
            },
            "header": {
             "fill": {
              "color": "#C8D4E3"
             },
             "line": {
              "color": "white"
             }
            },
            "type": "table"
           }
          ]
         },
         "layout": {
          "annotationdefaults": {
           "arrowcolor": "#2a3f5f",
           "arrowhead": 0,
           "arrowwidth": 1
          },
          "autotypenumbers": "strict",
          "coloraxis": {
           "colorbar": {
            "outlinewidth": 0,
            "ticks": ""
           }
          },
          "colorscale": {
           "diverging": [
            [
             0,
             "#8e0152"
            ],
            [
             0.1,
             "#c51b7d"
            ],
            [
             0.2,
             "#de77ae"
            ],
            [
             0.3,
             "#f1b6da"
            ],
            [
             0.4,
             "#fde0ef"
            ],
            [
             0.5,
             "#f7f7f7"
            ],
            [
             0.6,
             "#e6f5d0"
            ],
            [
             0.7,
             "#b8e186"
            ],
            [
             0.8,
             "#7fbc41"
            ],
            [
             0.9,
             "#4d9221"
            ],
            [
             1,
             "#276419"
            ]
           ],
           "sequential": [
            [
             0,
             "#0d0887"
            ],
            [
             0.1111111111111111,
             "#46039f"
            ],
            [
             0.2222222222222222,
             "#7201a8"
            ],
            [
             0.3333333333333333,
             "#9c179e"
            ],
            [
             0.4444444444444444,
             "#bd3786"
            ],
            [
             0.5555555555555556,
             "#d8576b"
            ],
            [
             0.6666666666666666,
             "#ed7953"
            ],
            [
             0.7777777777777778,
             "#fb9f3a"
            ],
            [
             0.8888888888888888,
             "#fdca26"
            ],
            [
             1,
             "#f0f921"
            ]
           ],
           "sequentialminus": [
            [
             0,
             "#0d0887"
            ],
            [
             0.1111111111111111,
             "#46039f"
            ],
            [
             0.2222222222222222,
             "#7201a8"
            ],
            [
             0.3333333333333333,
             "#9c179e"
            ],
            [
             0.4444444444444444,
             "#bd3786"
            ],
            [
             0.5555555555555556,
             "#d8576b"
            ],
            [
             0.6666666666666666,
             "#ed7953"
            ],
            [
             0.7777777777777778,
             "#fb9f3a"
            ],
            [
             0.8888888888888888,
             "#fdca26"
            ],
            [
             1,
             "#f0f921"
            ]
           ]
          },
          "colorway": [
           "#636efa",
           "#EF553B",
           "#00cc96",
           "#ab63fa",
           "#FFA15A",
           "#19d3f3",
           "#FF6692",
           "#B6E880",
           "#FF97FF",
           "#FECB52"
          ],
          "font": {
           "color": "#2a3f5f"
          },
          "geo": {
           "bgcolor": "white",
           "lakecolor": "white",
           "landcolor": "#E5ECF6",
           "showlakes": true,
           "showland": true,
           "subunitcolor": "white"
          },
          "hoverlabel": {
           "align": "left"
          },
          "hovermode": "closest",
          "mapbox": {
           "style": "light"
          },
          "paper_bgcolor": "white",
          "plot_bgcolor": "#E5ECF6",
          "polar": {
           "angularaxis": {
            "gridcolor": "white",
            "linecolor": "white",
            "ticks": ""
           },
           "bgcolor": "#E5ECF6",
           "radialaxis": {
            "gridcolor": "white",
            "linecolor": "white",
            "ticks": ""
           }
          },
          "scene": {
           "xaxis": {
            "backgroundcolor": "#E5ECF6",
            "gridcolor": "white",
            "gridwidth": 2,
            "linecolor": "white",
            "showbackground": true,
            "ticks": "",
            "zerolinecolor": "white"
           },
           "yaxis": {
            "backgroundcolor": "#E5ECF6",
            "gridcolor": "white",
            "gridwidth": 2,
            "linecolor": "white",
            "showbackground": true,
            "ticks": "",
            "zerolinecolor": "white"
           },
           "zaxis": {
            "backgroundcolor": "#E5ECF6",
            "gridcolor": "white",
            "gridwidth": 2,
            "linecolor": "white",
            "showbackground": true,
            "ticks": "",
            "zerolinecolor": "white"
           }
          },
          "shapedefaults": {
           "line": {
            "color": "#2a3f5f"
           }
          },
          "ternary": {
           "aaxis": {
            "gridcolor": "white",
            "linecolor": "white",
            "ticks": ""
           },
           "baxis": {
            "gridcolor": "white",
            "linecolor": "white",
            "ticks": ""
           },
           "bgcolor": "#E5ECF6",
           "caxis": {
            "gridcolor": "white",
            "linecolor": "white",
            "ticks": ""
           }
          },
          "title": {
           "x": 0.05
          },
          "xaxis": {
           "automargin": true,
           "gridcolor": "white",
           "linecolor": "white",
           "ticks": "",
           "title": {
            "standoff": 15
           },
           "zerolinecolor": "white",
           "zerolinewidth": 2
          },
          "yaxis": {
           "automargin": true,
           "gridcolor": "white",
           "linecolor": "white",
           "ticks": "",
           "title": {
            "standoff": 15
           },
           "zerolinecolor": "white",
           "zerolinewidth": 2
          }
         }
        },
        "title": {
         "text": "Execution time of ForecasterRecursiveMultiSeries__check_predict_inputs"
        },
        "xaxis": {
         "anchor": "y",
         "categoryarray": [
          "0.14.0",
          "0.15.0",
          "0.16.0"
         ],
         "categoryorder": "array",
         "domain": [
          0,
          1
         ],
         "title": {
          "text": "skforecast version"
         }
        },
        "yaxis": {
         "anchor": "x",
         "domain": [
          0,
          1
         ],
         "title": {
          "text": "Execution time (seconds)"
         }
        }
       }
      }
     },
     "metadata": {},
     "output_type": "display_data"
    }
   ],
   "source": [
    "# Plot results\n",
    "# ==============================================================================\n",
    "results_benchmark = joblib.load(\"benchmarks/benchmark.joblib\")\n",
    "results_benchmark = results_benchmark.query(\"forecaster_name == 'ForecasterRecursiveMultiSeries'\").copy()\n",
    "results_benchmark = results_benchmark.query(\"regressor_name == 'LGBMRegressor'\").copy()\n",
    "for function_name in results_benchmark['function_name'].unique():\n",
    "    df = results_benchmark.query(f\"function_name == '{function_name}'\").copy()\n",
    "    display(df)\n",
    "    plot_benchmark_results(df, function_name)"
   ]
  },
  {
   "cell_type": "markdown",
   "metadata": {},
   "source": [
    "# ForecasterRecursive"
   ]
  },
  {
   "cell_type": "code",
   "execution_count": null,
   "metadata": {},
   "outputs": [],
   "source": [
    "# Mock data for benchmarking\n",
    "# ==========================================================\n",
    "len_series = 2000\n",
    "rng = np.random.default_rng(321)\n",
    "y = pd.Series(\n",
    "        data = rng.normal(loc=20, scale=5, size=len_series),\n",
    "        index=pd.date_range(\n",
    "            start='2010-01-01',\n",
    "            periods=len_series,\n",
    "            freq='h'\n",
    "        ),\n",
    "        name='y'\n",
    "    )\n",
    "rng = np.random.default_rng(321)\n",
    "exog = pd.DataFrame(index=y.index)\n",
    "exog['day_of_week'] = exog.index.dayofweek\n",
    "exog['week_of_year'] = exog.index.isocalendar().week.astype(int)\n",
    "exog['month'] = exog.index.month\n",
    "exog_prediction = pd.DataFrame(\n",
    "                    index=pd.date_range(\n",
    "                        start=series_dict[k].index.max() + pd.Timedelta(hours=1),\n",
    "                        periods=100,\n",
    "                        freq='h'\n",
    "                    )\n",
    "                 ) \n",
    "exog_prediction['day_of_week'] = exog_prediction.index.dayofweek\n",
    "exog_prediction['week_of_year'] = exog_prediction.index.isocalendar().week.astype(int)\n",
    "exog_prediction['month'] = exog_prediction.index.month"
   ]
  },
  {
   "cell_type": "code",
   "execution_count": 8,
   "metadata": {},
   "outputs": [
    {
     "name": "stdout",
     "output_type": "stream",
     "text": [
      "Benchmarking function: ForecasterRecursive_fit\n",
      "Benchmarking function: ForecasterRecursive__create_train_X_y\n",
      "Benchmarking function: ForecasterRecursive_predict\n",
      "Benchmarking function: ForecasterRecursive__create_predict_inputs\n"
     ]
    }
   ],
   "source": [
    "# Benchmarking speed ForecasterRecursive\n",
    "# ==============================================================================\n",
    "if skforecast.__version__ >= '0.14.0':\n",
    "    forecaster = ForecasterRecursive(\n",
    "        regressor=regressor,\n",
    "        lags=50,\n",
    "        transformer_y=StandardScaler(),\n",
    "        transformer_exog=StandardScaler(),\n",
    "    )\n",
    "else:\n",
    "     forecaster = ForecasterAutoreg(\n",
    "        regressor=regressor,\n",
    "        lags=50,\n",
    "        transformer_y=StandardScaler(),\n",
    "        transformer_exog=StandardScaler(),\n",
    "    )\n",
    "\n",
    "def ForecasterRecursive_fit():\n",
    "    forecaster.fit(y=y, exog=exog)\n",
    "\n",
    "def ForecasterRecursive__create_train_X_y():\n",
    "    forecaster._create_train_X_y(y=y, exog=exog)\n",
    "\n",
    "\n",
    "def ForecasterRecursive_predict():\n",
    "    forecaster.predict(steps=100, exog=exog_prediction)\n",
    "\n",
    "def ForecasterRecursive__create_predict_inputs():\n",
    "    _ = forecaster._create_predict_inputs(\n",
    "            steps        = 100,\n",
    "            exog         = exog_prediction,\n",
    "            check_inputs = True\n",
    "        )\n",
    "\n",
    "\n",
    "runner = BenchmarkRunner(repeat=10, output_dir=\"benchmarks\")\n",
    "_ = runner.benchmark(ForecasterRecursive_fit, forecaster= forecaster)\n",
    "_ = runner.benchmark(ForecasterRecursive__create_train_X_y, forecaster= forecaster)\n",
    "forecaster.fit(y=y, exog=exog)\n",
    "_ = runner.benchmark(ForecasterRecursive_predict, forecaster= forecaster)\n",
    "_ = runner.benchmark(ForecasterRecursive__create_predict_inputs, forecaster= forecaster)"
   ]
  },
  {
   "cell_type": "code",
   "execution_count": 10,
   "metadata": {},
   "outputs": [
    {
     "data": {
      "application/vnd.microsoft.datawrangler.viewer.v0+json": {
       "columns": [
        {
         "name": "index",
         "rawType": "int64",
         "type": "integer"
        },
        {
         "name": "forecaster_name",
         "rawType": "object",
         "type": "string"
        },
        {
         "name": "regressor_name",
         "rawType": "object",
         "type": "string"
        },
        {
         "name": "function_name",
         "rawType": "object",
         "type": "string"
        },
        {
         "name": "function_hash",
         "rawType": "object",
         "type": "string"
        },
        {
         "name": "run_time_avg",
         "rawType": "float64",
         "type": "float"
        },
        {
         "name": "run_time_std_dev",
         "rawType": "float64",
         "type": "float"
        },
        {
         "name": "datetime",
         "rawType": "datetime64[ns]",
         "type": "datetime"
        },
        {
         "name": "python_version",
         "rawType": "object",
         "type": "string"
        },
        {
         "name": "skforecast_version",
         "rawType": "object",
         "type": "string"
        },
        {
         "name": "numpy_version",
         "rawType": "object",
         "type": "string"
        },
        {
         "name": "pandas_version",
         "rawType": "object",
         "type": "string"
        },
        {
         "name": "sklearn_version",
         "rawType": "object",
         "type": "string"
        },
        {
         "name": "lightgbm_version",
         "rawType": "object",
         "type": "string"
        },
        {
         "name": "platform",
         "rawType": "object",
         "type": "string"
        },
        {
         "name": "processor",
         "rawType": "object",
         "type": "string"
        },
        {
         "name": "cpu_count",
         "rawType": "int64",
         "type": "integer"
        },
        {
         "name": "memory_gb",
         "rawType": "float64",
         "type": "float"
        }
       ],
       "conversionMethod": "pd.DataFrame",
       "ref": "34aec579-2d8a-48c0-880e-f4167de8c100",
       "rows": [
        [
         "24",
         "ForecasterRecursive",
         "LGBMRegressor",
         "ForecasterRecursive_fit",
         "3a6496af8f14196a05b301212de078f0",
         null,
         null,
         "2025-04-22 21:26:09.447315",
         "3.12.9",
         "0.14.0",
         "1.26.4",
         "2.2.3",
         "1.4.2",
         "4.6.0",
         "Linux-6.11.0-21-generic-x86_64-with-glibc2.39",
         "x86_64",
         "8",
         "16.64"
        ],
        [
         "26",
         "ForecasterRecursive",
         "LGBMRegressor",
         "ForecasterRecursive_fit",
         "3a6496af8f14196a05b301212de078f0",
         null,
         null,
         "2025-04-22 21:26:24.723814",
         "3.12.9",
         "0.14.0",
         "1.26.4",
         "2.2.3",
         "1.4.2",
         "4.6.0",
         "Linux-6.11.0-21-generic-x86_64-with-glibc2.39",
         "x86_64",
         "8",
         "16.64"
        ],
        [
         "28",
         "ForecasterRecursive",
         "LGBMRegressor",
         "ForecasterRecursive_fit",
         "3a6496af8f14196a05b301212de078f0",
         "0.22670950239999002",
         "0.04029782549449651",
         "2025-04-22 21:26:53.296630",
         "3.12.9",
         "0.14.0",
         "1.26.4",
         "2.2.3",
         "1.4.2",
         "4.6.0",
         "Linux-6.11.0-21-generic-x86_64-with-glibc2.39",
         "x86_64",
         "8",
         "16.64"
        ],
        [
         "32",
         "ForecasterRecursive",
         "LGBMRegressor",
         "ForecasterRecursive_fit",
         "3a6496af8f14196a05b301212de078f0",
         "0.1906544615999337",
         "0.02119325775742154",
         "2025-04-22 21:27:04.433706",
         "3.12.9",
         "0.14.0",
         "1.26.4",
         "2.2.3",
         "1.4.2",
         "4.6.0",
         "Linux-6.11.0-21-generic-x86_64-with-glibc2.39",
         "x86_64",
         "8",
         "16.64"
        ],
        [
         "44",
         "ForecasterRecursive",
         "LGBMRegressor",
         "ForecasterRecursive_fit",
         "3a6496af8f14196a05b301212de078f0",
         "0.23820462369990308",
         "0.03876458709447134",
         "2025-04-22 21:31:03.124401",
         "3.12.9",
         "0.14.0",
         "1.26.4",
         "2.2.3",
         "1.4.2",
         "4.6.0",
         "Linux-6.11.0-21-generic-x86_64-with-glibc2.39",
         "x86_64",
         "8",
         "16.64"
        ],
        [
         "56",
         "ForecasterRecursive",
         "LGBMRegressor",
         "ForecasterRecursive_fit",
         "3a6496af8f14196a05b301212de078f0",
         "0.3755999097002132",
         "0.03639140403037674",
         "2025-04-22 21:35:36.132403",
         "3.12.9",
         "0.15.0",
         "1.26.4",
         "2.2.3",
         "1.4.2",
         "4.6.0",
         "Linux-6.11.0-21-generic-x86_64-with-glibc2.39",
         "x86_64",
         "8",
         "16.64"
        ],
        [
         "68",
         "ForecasterRecursive",
         "LGBMRegressor",
         "ForecasterRecursive_fit",
         "3a6496af8f14196a05b301212de078f0",
         "0.3496373640999991",
         "0.038892451491481066",
         "2025-04-22 21:46:31.592093",
         "3.12.9",
         "0.15.0",
         "2.2.5",
         "2.2.3",
         "1.6.1",
         "4.6.0",
         "Linux-6.11.0-21-generic-x86_64-with-glibc2.39",
         "x86_64",
         "8",
         "16.64"
        ],
        [
         "80",
         "ForecasterRecursive",
         "LGBMRegressor",
         "ForecasterRecursive_fit",
         "3a6496af8f14196a05b301212de078f0",
         "0.3832117301998551",
         "0.04231162748961806",
         "2025-04-22 21:56:12.830849",
         "3.12.9",
         "0.16.0",
         "2.2.5",
         "2.2.3",
         "1.6.1",
         "4.6.0",
         "Linux-6.11.0-21-generic-x86_64-with-glibc2.39",
         "x86_64",
         "8",
         "16.64"
        ],
        [
         "92",
         "ForecasterRecursive",
         "LGBMRegressor",
         "ForecasterRecursive_fit",
         "3a6496af8f14196a05b301212de078f0",
         "0.3638760160997663",
         "0.01950982332116261",
         "2025-04-22 22:10:54.681237",
         "3.12.9",
         "0.16.0",
         "1.26.4",
         "2.2.3",
         "1.6.1",
         "4.6.0",
         "Linux-6.11.0-21-generic-x86_64-with-glibc2.39",
         "x86_64",
         "8",
         "16.64"
        ],
        [
         "128",
         "ForecasterRecursive",
         "LGBMRegressor",
         "ForecasterRecursive_fit",
         "3a6496af8f14196a05b301212de078f0",
         "0.39215260769979066",
         "0.048450487297683954",
         "2025-04-22 22:45:58.919912",
         "3.12.9",
         "0.15.0",
         "1.26.4",
         "2.2.3",
         "1.4.2",
         "4.6.0",
         "Linux-6.11.0-21-generic-x86_64-with-glibc2.39",
         "x86_64",
         "8",
         "16.64"
        ],
        [
         "140",
         "ForecasterRecursive",
         "LGBMRegressor",
         "ForecasterRecursive_fit",
         "3a6496af8f14196a05b301212de078f0",
         "0.3655603555000198",
         "0.03397432597456995",
         "2025-04-22 22:53:33.772807",
         "3.12.9",
         "0.16.0",
         "1.26.4",
         "2.2.3",
         "1.4.2",
         "4.6.0",
         "Linux-6.11.0-21-generic-x86_64-with-glibc2.39",
         "x86_64",
         "8",
         "16.64"
        ],
        [
         "176",
         "ForecasterRecursive",
         "LGBMRegressor",
         "ForecasterRecursive_fit",
         "3a6496af8f14196a05b301212de078f0",
         "0.6505586837999943",
         "0.1501236664333207",
         "2025-04-23 09:57:23.821035",
         "3.12.9",
         "0.16.0",
         "1.26.4",
         "2.2.3",
         "1.4.2",
         "4.6.0",
         "Linux-6.11.0-21-generic-x86_64-with-glibc2.39",
         "x86_64",
         "8",
         "16.64"
        ],
        [
         "188",
         "ForecasterRecursive",
         "LGBMRegressor",
         "ForecasterRecursive_fit",
         "3a6496af8f14196a05b301212de078f0",
         "0.5110142609999798",
         "0.07821475587908577",
         "2025-04-23 10:02:31.335418",
         "3.12.9",
         "0.16.0",
         "2.2.5",
         "2.2.3",
         "1.6.1",
         "4.6.0",
         "Linux-6.11.0-21-generic-x86_64-with-glibc2.39",
         "x86_64",
         "8",
         "16.64"
        ],
        [
         "200",
         "ForecasterRecursive",
         "LGBMRegressor",
         "ForecasterRecursive_fit",
         "3a6496af8f14196a05b301212de078f0",
         "0.41020071390003066",
         "0.054093929474685123",
         "2025-04-23 10:25:43.813064",
         "3.12.9",
         "0.16.0",
         "2.2.5",
         "2.2.3",
         "1.6.1",
         "4.6.0",
         "Linux-6.11.0-21-generic-x86_64-with-glibc2.39",
         "x86_64",
         "8",
         "16.64"
        ],
        [
         "212",
         "ForecasterRecursive",
         "LGBMRegressor",
         "ForecasterRecursive_fit",
         "3a6496af8f14196a05b301212de078f0",
         "0.24020515420015726",
         "0.027696779254176",
         "2025-04-23 13:38:51.643950",
         "3.12.9",
         "0.16.0",
         "2.2.5",
         "2.2.3",
         "1.6.1",
         "4.6.0",
         "Linux-6.11.0-21-generic-x86_64-with-glibc2.39",
         "x86_64",
         "8",
         "16.64"
        ],
        [
         "224",
         "ForecasterRecursive",
         "LGBMRegressor",
         "ForecasterRecursive_fit",
         "3a6496af8f14196a05b301212de078f0",
         "0.231701472199984",
         "0.02862490299349627",
         "2025-04-23 13:43:14.152878",
         "3.12.9",
         "0.16.0",
         "2.2.5",
         "2.2.3",
         "1.6.1",
         "4.6.0",
         "Linux-6.11.0-21-generic-x86_64-with-glibc2.39",
         "x86_64",
         "8",
         "16.64"
        ],
        [
         "236",
         "ForecasterRecursive",
         "LGBMRegressor",
         "ForecasterRecursive_fit",
         "3a6496af8f14196a05b301212de078f0",
         "0.27547720649999974",
         "0.03623384001871796",
         "2025-04-23 13:47:17.434263",
         "3.12.9",
         "0.16.0",
         "2.2.5",
         "2.2.3",
         "1.6.1",
         "4.6.0",
         "Linux-6.11.0-21-generic-x86_64-with-glibc2.39",
         "x86_64",
         "8",
         "16.64"
        ]
       ],
       "shape": {
        "columns": 17,
        "rows": 17
       }
      },
      "text/html": [
       "<div>\n",
       "<style scoped>\n",
       "    .dataframe tbody tr th:only-of-type {\n",
       "        vertical-align: middle;\n",
       "    }\n",
       "\n",
       "    .dataframe tbody tr th {\n",
       "        vertical-align: top;\n",
       "    }\n",
       "\n",
       "    .dataframe thead th {\n",
       "        text-align: right;\n",
       "    }\n",
       "</style>\n",
       "<table border=\"1\" class=\"dataframe\">\n",
       "  <thead>\n",
       "    <tr style=\"text-align: right;\">\n",
       "      <th></th>\n",
       "      <th>forecaster_name</th>\n",
       "      <th>regressor_name</th>\n",
       "      <th>function_name</th>\n",
       "      <th>function_hash</th>\n",
       "      <th>run_time_avg</th>\n",
       "      <th>run_time_std_dev</th>\n",
       "      <th>datetime</th>\n",
       "      <th>python_version</th>\n",
       "      <th>skforecast_version</th>\n",
       "      <th>numpy_version</th>\n",
       "      <th>pandas_version</th>\n",
       "      <th>sklearn_version</th>\n",
       "      <th>lightgbm_version</th>\n",
       "      <th>platform</th>\n",
       "      <th>processor</th>\n",
       "      <th>cpu_count</th>\n",
       "      <th>memory_gb</th>\n",
       "    </tr>\n",
       "  </thead>\n",
       "  <tbody>\n",
       "    <tr>\n",
       "      <th>24</th>\n",
       "      <td>ForecasterRecursive</td>\n",
       "      <td>LGBMRegressor</td>\n",
       "      <td>ForecasterRecursive_fit</td>\n",
       "      <td>3a6496af8f14196a05b301212de078f0</td>\n",
       "      <td>NaN</td>\n",
       "      <td>NaN</td>\n",
       "      <td>2025-04-22 21:26:09.447315</td>\n",
       "      <td>3.12.9</td>\n",
       "      <td>0.14.0</td>\n",
       "      <td>1.26.4</td>\n",
       "      <td>2.2.3</td>\n",
       "      <td>1.4.2</td>\n",
       "      <td>4.6.0</td>\n",
       "      <td>Linux-6.11.0-21-generic-x86_64-with-glibc2.39</td>\n",
       "      <td>x86_64</td>\n",
       "      <td>8</td>\n",
       "      <td>16.64</td>\n",
       "    </tr>\n",
       "    <tr>\n",
       "      <th>26</th>\n",
       "      <td>ForecasterRecursive</td>\n",
       "      <td>LGBMRegressor</td>\n",
       "      <td>ForecasterRecursive_fit</td>\n",
       "      <td>3a6496af8f14196a05b301212de078f0</td>\n",
       "      <td>NaN</td>\n",
       "      <td>NaN</td>\n",
       "      <td>2025-04-22 21:26:24.723814</td>\n",
       "      <td>3.12.9</td>\n",
       "      <td>0.14.0</td>\n",
       "      <td>1.26.4</td>\n",
       "      <td>2.2.3</td>\n",
       "      <td>1.4.2</td>\n",
       "      <td>4.6.0</td>\n",
       "      <td>Linux-6.11.0-21-generic-x86_64-with-glibc2.39</td>\n",
       "      <td>x86_64</td>\n",
       "      <td>8</td>\n",
       "      <td>16.64</td>\n",
       "    </tr>\n",
       "    <tr>\n",
       "      <th>28</th>\n",
       "      <td>ForecasterRecursive</td>\n",
       "      <td>LGBMRegressor</td>\n",
       "      <td>ForecasterRecursive_fit</td>\n",
       "      <td>3a6496af8f14196a05b301212de078f0</td>\n",
       "      <td>0.226710</td>\n",
       "      <td>0.040298</td>\n",
       "      <td>2025-04-22 21:26:53.296630</td>\n",
       "      <td>3.12.9</td>\n",
       "      <td>0.14.0</td>\n",
       "      <td>1.26.4</td>\n",
       "      <td>2.2.3</td>\n",
       "      <td>1.4.2</td>\n",
       "      <td>4.6.0</td>\n",
       "      <td>Linux-6.11.0-21-generic-x86_64-with-glibc2.39</td>\n",
       "      <td>x86_64</td>\n",
       "      <td>8</td>\n",
       "      <td>16.64</td>\n",
       "    </tr>\n",
       "    <tr>\n",
       "      <th>32</th>\n",
       "      <td>ForecasterRecursive</td>\n",
       "      <td>LGBMRegressor</td>\n",
       "      <td>ForecasterRecursive_fit</td>\n",
       "      <td>3a6496af8f14196a05b301212de078f0</td>\n",
       "      <td>0.190654</td>\n",
       "      <td>0.021193</td>\n",
       "      <td>2025-04-22 21:27:04.433706</td>\n",
       "      <td>3.12.9</td>\n",
       "      <td>0.14.0</td>\n",
       "      <td>1.26.4</td>\n",
       "      <td>2.2.3</td>\n",
       "      <td>1.4.2</td>\n",
       "      <td>4.6.0</td>\n",
       "      <td>Linux-6.11.0-21-generic-x86_64-with-glibc2.39</td>\n",
       "      <td>x86_64</td>\n",
       "      <td>8</td>\n",
       "      <td>16.64</td>\n",
       "    </tr>\n",
       "    <tr>\n",
       "      <th>44</th>\n",
       "      <td>ForecasterRecursive</td>\n",
       "      <td>LGBMRegressor</td>\n",
       "      <td>ForecasterRecursive_fit</td>\n",
       "      <td>3a6496af8f14196a05b301212de078f0</td>\n",
       "      <td>0.238205</td>\n",
       "      <td>0.038765</td>\n",
       "      <td>2025-04-22 21:31:03.124401</td>\n",
       "      <td>3.12.9</td>\n",
       "      <td>0.14.0</td>\n",
       "      <td>1.26.4</td>\n",
       "      <td>2.2.3</td>\n",
       "      <td>1.4.2</td>\n",
       "      <td>4.6.0</td>\n",
       "      <td>Linux-6.11.0-21-generic-x86_64-with-glibc2.39</td>\n",
       "      <td>x86_64</td>\n",
       "      <td>8</td>\n",
       "      <td>16.64</td>\n",
       "    </tr>\n",
       "    <tr>\n",
       "      <th>56</th>\n",
       "      <td>ForecasterRecursive</td>\n",
       "      <td>LGBMRegressor</td>\n",
       "      <td>ForecasterRecursive_fit</td>\n",
       "      <td>3a6496af8f14196a05b301212de078f0</td>\n",
       "      <td>0.375600</td>\n",
       "      <td>0.036391</td>\n",
       "      <td>2025-04-22 21:35:36.132403</td>\n",
       "      <td>3.12.9</td>\n",
       "      <td>0.15.0</td>\n",
       "      <td>1.26.4</td>\n",
       "      <td>2.2.3</td>\n",
       "      <td>1.4.2</td>\n",
       "      <td>4.6.0</td>\n",
       "      <td>Linux-6.11.0-21-generic-x86_64-with-glibc2.39</td>\n",
       "      <td>x86_64</td>\n",
       "      <td>8</td>\n",
       "      <td>16.64</td>\n",
       "    </tr>\n",
       "    <tr>\n",
       "      <th>68</th>\n",
       "      <td>ForecasterRecursive</td>\n",
       "      <td>LGBMRegressor</td>\n",
       "      <td>ForecasterRecursive_fit</td>\n",
       "      <td>3a6496af8f14196a05b301212de078f0</td>\n",
       "      <td>0.349637</td>\n",
       "      <td>0.038892</td>\n",
       "      <td>2025-04-22 21:46:31.592093</td>\n",
       "      <td>3.12.9</td>\n",
       "      <td>0.15.0</td>\n",
       "      <td>2.2.5</td>\n",
       "      <td>2.2.3</td>\n",
       "      <td>1.6.1</td>\n",
       "      <td>4.6.0</td>\n",
       "      <td>Linux-6.11.0-21-generic-x86_64-with-glibc2.39</td>\n",
       "      <td>x86_64</td>\n",
       "      <td>8</td>\n",
       "      <td>16.64</td>\n",
       "    </tr>\n",
       "    <tr>\n",
       "      <th>80</th>\n",
       "      <td>ForecasterRecursive</td>\n",
       "      <td>LGBMRegressor</td>\n",
       "      <td>ForecasterRecursive_fit</td>\n",
       "      <td>3a6496af8f14196a05b301212de078f0</td>\n",
       "      <td>0.383212</td>\n",
       "      <td>0.042312</td>\n",
       "      <td>2025-04-22 21:56:12.830849</td>\n",
       "      <td>3.12.9</td>\n",
       "      <td>0.16.0</td>\n",
       "      <td>2.2.5</td>\n",
       "      <td>2.2.3</td>\n",
       "      <td>1.6.1</td>\n",
       "      <td>4.6.0</td>\n",
       "      <td>Linux-6.11.0-21-generic-x86_64-with-glibc2.39</td>\n",
       "      <td>x86_64</td>\n",
       "      <td>8</td>\n",
       "      <td>16.64</td>\n",
       "    </tr>\n",
       "    <tr>\n",
       "      <th>92</th>\n",
       "      <td>ForecasterRecursive</td>\n",
       "      <td>LGBMRegressor</td>\n",
       "      <td>ForecasterRecursive_fit</td>\n",
       "      <td>3a6496af8f14196a05b301212de078f0</td>\n",
       "      <td>0.363876</td>\n",
       "      <td>0.019510</td>\n",
       "      <td>2025-04-22 22:10:54.681237</td>\n",
       "      <td>3.12.9</td>\n",
       "      <td>0.16.0</td>\n",
       "      <td>1.26.4</td>\n",
       "      <td>2.2.3</td>\n",
       "      <td>1.6.1</td>\n",
       "      <td>4.6.0</td>\n",
       "      <td>Linux-6.11.0-21-generic-x86_64-with-glibc2.39</td>\n",
       "      <td>x86_64</td>\n",
       "      <td>8</td>\n",
       "      <td>16.64</td>\n",
       "    </tr>\n",
       "    <tr>\n",
       "      <th>128</th>\n",
       "      <td>ForecasterRecursive</td>\n",
       "      <td>LGBMRegressor</td>\n",
       "      <td>ForecasterRecursive_fit</td>\n",
       "      <td>3a6496af8f14196a05b301212de078f0</td>\n",
       "      <td>0.392153</td>\n",
       "      <td>0.048450</td>\n",
       "      <td>2025-04-22 22:45:58.919912</td>\n",
       "      <td>3.12.9</td>\n",
       "      <td>0.15.0</td>\n",
       "      <td>1.26.4</td>\n",
       "      <td>2.2.3</td>\n",
       "      <td>1.4.2</td>\n",
       "      <td>4.6.0</td>\n",
       "      <td>Linux-6.11.0-21-generic-x86_64-with-glibc2.39</td>\n",
       "      <td>x86_64</td>\n",
       "      <td>8</td>\n",
       "      <td>16.64</td>\n",
       "    </tr>\n",
       "    <tr>\n",
       "      <th>140</th>\n",
       "      <td>ForecasterRecursive</td>\n",
       "      <td>LGBMRegressor</td>\n",
       "      <td>ForecasterRecursive_fit</td>\n",
       "      <td>3a6496af8f14196a05b301212de078f0</td>\n",
       "      <td>0.365560</td>\n",
       "      <td>0.033974</td>\n",
       "      <td>2025-04-22 22:53:33.772807</td>\n",
       "      <td>3.12.9</td>\n",
       "      <td>0.16.0</td>\n",
       "      <td>1.26.4</td>\n",
       "      <td>2.2.3</td>\n",
       "      <td>1.4.2</td>\n",
       "      <td>4.6.0</td>\n",
       "      <td>Linux-6.11.0-21-generic-x86_64-with-glibc2.39</td>\n",
       "      <td>x86_64</td>\n",
       "      <td>8</td>\n",
       "      <td>16.64</td>\n",
       "    </tr>\n",
       "    <tr>\n",
       "      <th>176</th>\n",
       "      <td>ForecasterRecursive</td>\n",
       "      <td>LGBMRegressor</td>\n",
       "      <td>ForecasterRecursive_fit</td>\n",
       "      <td>3a6496af8f14196a05b301212de078f0</td>\n",
       "      <td>0.650559</td>\n",
       "      <td>0.150124</td>\n",
       "      <td>2025-04-23 09:57:23.821035</td>\n",
       "      <td>3.12.9</td>\n",
       "      <td>0.16.0</td>\n",
       "      <td>1.26.4</td>\n",
       "      <td>2.2.3</td>\n",
       "      <td>1.4.2</td>\n",
       "      <td>4.6.0</td>\n",
       "      <td>Linux-6.11.0-21-generic-x86_64-with-glibc2.39</td>\n",
       "      <td>x86_64</td>\n",
       "      <td>8</td>\n",
       "      <td>16.64</td>\n",
       "    </tr>\n",
       "    <tr>\n",
       "      <th>188</th>\n",
       "      <td>ForecasterRecursive</td>\n",
       "      <td>LGBMRegressor</td>\n",
       "      <td>ForecasterRecursive_fit</td>\n",
       "      <td>3a6496af8f14196a05b301212de078f0</td>\n",
       "      <td>0.511014</td>\n",
       "      <td>0.078215</td>\n",
       "      <td>2025-04-23 10:02:31.335418</td>\n",
       "      <td>3.12.9</td>\n",
       "      <td>0.16.0</td>\n",
       "      <td>2.2.5</td>\n",
       "      <td>2.2.3</td>\n",
       "      <td>1.6.1</td>\n",
       "      <td>4.6.0</td>\n",
       "      <td>Linux-6.11.0-21-generic-x86_64-with-glibc2.39</td>\n",
       "      <td>x86_64</td>\n",
       "      <td>8</td>\n",
       "      <td>16.64</td>\n",
       "    </tr>\n",
       "    <tr>\n",
       "      <th>200</th>\n",
       "      <td>ForecasterRecursive</td>\n",
       "      <td>LGBMRegressor</td>\n",
       "      <td>ForecasterRecursive_fit</td>\n",
       "      <td>3a6496af8f14196a05b301212de078f0</td>\n",
       "      <td>0.410201</td>\n",
       "      <td>0.054094</td>\n",
       "      <td>2025-04-23 10:25:43.813064</td>\n",
       "      <td>3.12.9</td>\n",
       "      <td>0.16.0</td>\n",
       "      <td>2.2.5</td>\n",
       "      <td>2.2.3</td>\n",
       "      <td>1.6.1</td>\n",
       "      <td>4.6.0</td>\n",
       "      <td>Linux-6.11.0-21-generic-x86_64-with-glibc2.39</td>\n",
       "      <td>x86_64</td>\n",
       "      <td>8</td>\n",
       "      <td>16.64</td>\n",
       "    </tr>\n",
       "    <tr>\n",
       "      <th>212</th>\n",
       "      <td>ForecasterRecursive</td>\n",
       "      <td>LGBMRegressor</td>\n",
       "      <td>ForecasterRecursive_fit</td>\n",
       "      <td>3a6496af8f14196a05b301212de078f0</td>\n",
       "      <td>0.240205</td>\n",
       "      <td>0.027697</td>\n",
       "      <td>2025-04-23 13:38:51.643950</td>\n",
       "      <td>3.12.9</td>\n",
       "      <td>0.16.0</td>\n",
       "      <td>2.2.5</td>\n",
       "      <td>2.2.3</td>\n",
       "      <td>1.6.1</td>\n",
       "      <td>4.6.0</td>\n",
       "      <td>Linux-6.11.0-21-generic-x86_64-with-glibc2.39</td>\n",
       "      <td>x86_64</td>\n",
       "      <td>8</td>\n",
       "      <td>16.64</td>\n",
       "    </tr>\n",
       "    <tr>\n",
       "      <th>224</th>\n",
       "      <td>ForecasterRecursive</td>\n",
       "      <td>LGBMRegressor</td>\n",
       "      <td>ForecasterRecursive_fit</td>\n",
       "      <td>3a6496af8f14196a05b301212de078f0</td>\n",
       "      <td>0.231701</td>\n",
       "      <td>0.028625</td>\n",
       "      <td>2025-04-23 13:43:14.152878</td>\n",
       "      <td>3.12.9</td>\n",
       "      <td>0.16.0</td>\n",
       "      <td>2.2.5</td>\n",
       "      <td>2.2.3</td>\n",
       "      <td>1.6.1</td>\n",
       "      <td>4.6.0</td>\n",
       "      <td>Linux-6.11.0-21-generic-x86_64-with-glibc2.39</td>\n",
       "      <td>x86_64</td>\n",
       "      <td>8</td>\n",
       "      <td>16.64</td>\n",
       "    </tr>\n",
       "    <tr>\n",
       "      <th>236</th>\n",
       "      <td>ForecasterRecursive</td>\n",
       "      <td>LGBMRegressor</td>\n",
       "      <td>ForecasterRecursive_fit</td>\n",
       "      <td>3a6496af8f14196a05b301212de078f0</td>\n",
       "      <td>0.275477</td>\n",
       "      <td>0.036234</td>\n",
       "      <td>2025-04-23 13:47:17.434263</td>\n",
       "      <td>3.12.9</td>\n",
       "      <td>0.16.0</td>\n",
       "      <td>2.2.5</td>\n",
       "      <td>2.2.3</td>\n",
       "      <td>1.6.1</td>\n",
       "      <td>4.6.0</td>\n",
       "      <td>Linux-6.11.0-21-generic-x86_64-with-glibc2.39</td>\n",
       "      <td>x86_64</td>\n",
       "      <td>8</td>\n",
       "      <td>16.64</td>\n",
       "    </tr>\n",
       "  </tbody>\n",
       "</table>\n",
       "</div>"
      ],
      "text/plain": [
       "         forecaster_name regressor_name            function_name  \\\n",
       "24   ForecasterRecursive  LGBMRegressor  ForecasterRecursive_fit   \n",
       "26   ForecasterRecursive  LGBMRegressor  ForecasterRecursive_fit   \n",
       "28   ForecasterRecursive  LGBMRegressor  ForecasterRecursive_fit   \n",
       "32   ForecasterRecursive  LGBMRegressor  ForecasterRecursive_fit   \n",
       "44   ForecasterRecursive  LGBMRegressor  ForecasterRecursive_fit   \n",
       "56   ForecasterRecursive  LGBMRegressor  ForecasterRecursive_fit   \n",
       "68   ForecasterRecursive  LGBMRegressor  ForecasterRecursive_fit   \n",
       "80   ForecasterRecursive  LGBMRegressor  ForecasterRecursive_fit   \n",
       "92   ForecasterRecursive  LGBMRegressor  ForecasterRecursive_fit   \n",
       "128  ForecasterRecursive  LGBMRegressor  ForecasterRecursive_fit   \n",
       "140  ForecasterRecursive  LGBMRegressor  ForecasterRecursive_fit   \n",
       "176  ForecasterRecursive  LGBMRegressor  ForecasterRecursive_fit   \n",
       "188  ForecasterRecursive  LGBMRegressor  ForecasterRecursive_fit   \n",
       "200  ForecasterRecursive  LGBMRegressor  ForecasterRecursive_fit   \n",
       "212  ForecasterRecursive  LGBMRegressor  ForecasterRecursive_fit   \n",
       "224  ForecasterRecursive  LGBMRegressor  ForecasterRecursive_fit   \n",
       "236  ForecasterRecursive  LGBMRegressor  ForecasterRecursive_fit   \n",
       "\n",
       "                        function_hash  run_time_avg  run_time_std_dev  \\\n",
       "24   3a6496af8f14196a05b301212de078f0           NaN               NaN   \n",
       "26   3a6496af8f14196a05b301212de078f0           NaN               NaN   \n",
       "28   3a6496af8f14196a05b301212de078f0      0.226710          0.040298   \n",
       "32   3a6496af8f14196a05b301212de078f0      0.190654          0.021193   \n",
       "44   3a6496af8f14196a05b301212de078f0      0.238205          0.038765   \n",
       "56   3a6496af8f14196a05b301212de078f0      0.375600          0.036391   \n",
       "68   3a6496af8f14196a05b301212de078f0      0.349637          0.038892   \n",
       "80   3a6496af8f14196a05b301212de078f0      0.383212          0.042312   \n",
       "92   3a6496af8f14196a05b301212de078f0      0.363876          0.019510   \n",
       "128  3a6496af8f14196a05b301212de078f0      0.392153          0.048450   \n",
       "140  3a6496af8f14196a05b301212de078f0      0.365560          0.033974   \n",
       "176  3a6496af8f14196a05b301212de078f0      0.650559          0.150124   \n",
       "188  3a6496af8f14196a05b301212de078f0      0.511014          0.078215   \n",
       "200  3a6496af8f14196a05b301212de078f0      0.410201          0.054094   \n",
       "212  3a6496af8f14196a05b301212de078f0      0.240205          0.027697   \n",
       "224  3a6496af8f14196a05b301212de078f0      0.231701          0.028625   \n",
       "236  3a6496af8f14196a05b301212de078f0      0.275477          0.036234   \n",
       "\n",
       "                      datetime python_version skforecast_version  \\\n",
       "24  2025-04-22 21:26:09.447315         3.12.9             0.14.0   \n",
       "26  2025-04-22 21:26:24.723814         3.12.9             0.14.0   \n",
       "28  2025-04-22 21:26:53.296630         3.12.9             0.14.0   \n",
       "32  2025-04-22 21:27:04.433706         3.12.9             0.14.0   \n",
       "44  2025-04-22 21:31:03.124401         3.12.9             0.14.0   \n",
       "56  2025-04-22 21:35:36.132403         3.12.9             0.15.0   \n",
       "68  2025-04-22 21:46:31.592093         3.12.9             0.15.0   \n",
       "80  2025-04-22 21:56:12.830849         3.12.9             0.16.0   \n",
       "92  2025-04-22 22:10:54.681237         3.12.9             0.16.0   \n",
       "128 2025-04-22 22:45:58.919912         3.12.9             0.15.0   \n",
       "140 2025-04-22 22:53:33.772807         3.12.9             0.16.0   \n",
       "176 2025-04-23 09:57:23.821035         3.12.9             0.16.0   \n",
       "188 2025-04-23 10:02:31.335418         3.12.9             0.16.0   \n",
       "200 2025-04-23 10:25:43.813064         3.12.9             0.16.0   \n",
       "212 2025-04-23 13:38:51.643950         3.12.9             0.16.0   \n",
       "224 2025-04-23 13:43:14.152878         3.12.9             0.16.0   \n",
       "236 2025-04-23 13:47:17.434263         3.12.9             0.16.0   \n",
       "\n",
       "    numpy_version pandas_version sklearn_version lightgbm_version  \\\n",
       "24         1.26.4          2.2.3           1.4.2            4.6.0   \n",
       "26         1.26.4          2.2.3           1.4.2            4.6.0   \n",
       "28         1.26.4          2.2.3           1.4.2            4.6.0   \n",
       "32         1.26.4          2.2.3           1.4.2            4.6.0   \n",
       "44         1.26.4          2.2.3           1.4.2            4.6.0   \n",
       "56         1.26.4          2.2.3           1.4.2            4.6.0   \n",
       "68          2.2.5          2.2.3           1.6.1            4.6.0   \n",
       "80          2.2.5          2.2.3           1.6.1            4.6.0   \n",
       "92         1.26.4          2.2.3           1.6.1            4.6.0   \n",
       "128        1.26.4          2.2.3           1.4.2            4.6.0   \n",
       "140        1.26.4          2.2.3           1.4.2            4.6.0   \n",
       "176        1.26.4          2.2.3           1.4.2            4.6.0   \n",
       "188         2.2.5          2.2.3           1.6.1            4.6.0   \n",
       "200         2.2.5          2.2.3           1.6.1            4.6.0   \n",
       "212         2.2.5          2.2.3           1.6.1            4.6.0   \n",
       "224         2.2.5          2.2.3           1.6.1            4.6.0   \n",
       "236         2.2.5          2.2.3           1.6.1            4.6.0   \n",
       "\n",
       "                                          platform processor  cpu_count  \\\n",
       "24   Linux-6.11.0-21-generic-x86_64-with-glibc2.39    x86_64          8   \n",
       "26   Linux-6.11.0-21-generic-x86_64-with-glibc2.39    x86_64          8   \n",
       "28   Linux-6.11.0-21-generic-x86_64-with-glibc2.39    x86_64          8   \n",
       "32   Linux-6.11.0-21-generic-x86_64-with-glibc2.39    x86_64          8   \n",
       "44   Linux-6.11.0-21-generic-x86_64-with-glibc2.39    x86_64          8   \n",
       "56   Linux-6.11.0-21-generic-x86_64-with-glibc2.39    x86_64          8   \n",
       "68   Linux-6.11.0-21-generic-x86_64-with-glibc2.39    x86_64          8   \n",
       "80   Linux-6.11.0-21-generic-x86_64-with-glibc2.39    x86_64          8   \n",
       "92   Linux-6.11.0-21-generic-x86_64-with-glibc2.39    x86_64          8   \n",
       "128  Linux-6.11.0-21-generic-x86_64-with-glibc2.39    x86_64          8   \n",
       "140  Linux-6.11.0-21-generic-x86_64-with-glibc2.39    x86_64          8   \n",
       "176  Linux-6.11.0-21-generic-x86_64-with-glibc2.39    x86_64          8   \n",
       "188  Linux-6.11.0-21-generic-x86_64-with-glibc2.39    x86_64          8   \n",
       "200  Linux-6.11.0-21-generic-x86_64-with-glibc2.39    x86_64          8   \n",
       "212  Linux-6.11.0-21-generic-x86_64-with-glibc2.39    x86_64          8   \n",
       "224  Linux-6.11.0-21-generic-x86_64-with-glibc2.39    x86_64          8   \n",
       "236  Linux-6.11.0-21-generic-x86_64-with-glibc2.39    x86_64          8   \n",
       "\n",
       "     memory_gb  \n",
       "24       16.64  \n",
       "26       16.64  \n",
       "28       16.64  \n",
       "32       16.64  \n",
       "44       16.64  \n",
       "56       16.64  \n",
       "68       16.64  \n",
       "80       16.64  \n",
       "92       16.64  \n",
       "128      16.64  \n",
       "140      16.64  \n",
       "176      16.64  \n",
       "188      16.64  \n",
       "200      16.64  \n",
       "212      16.64  \n",
       "224      16.64  \n",
       "236      16.64  "
      ]
     },
     "metadata": {},
     "output_type": "display_data"
    },
    {
     "data": {
      "application/vnd.plotly.v1+json": {
       "config": {
        "plotlyServerURL": "https://plot.ly"
       },
       "data": [
        {
         "alignmentgroup": "True",
         "boxpoints": "all",
         "customdata": [
          [
           "ForecasterRecursive",
           "LGBMRegressor",
           "ForecasterRecursive_fit",
           "3a6496af8f14196a05b301212de078f0",
           null,
           "2025-04-22T21:26:09.447315",
           "3.12.9",
           "1.26.4",
           "2.2.3",
           "1.4.2",
           "4.6.0",
           "Linux-6.11.0-21-generic-x86_64-with-glibc2.39",
           "x86_64",
           8,
           16.64
          ],
          [
           "ForecasterRecursive",
           "LGBMRegressor",
           "ForecasterRecursive_fit",
           "3a6496af8f14196a05b301212de078f0",
           null,
           "2025-04-22T21:26:24.723814",
           "3.12.9",
           "1.26.4",
           "2.2.3",
           "1.4.2",
           "4.6.0",
           "Linux-6.11.0-21-generic-x86_64-with-glibc2.39",
           "x86_64",
           8,
           16.64
          ],
          [
           "ForecasterRecursive",
           "LGBMRegressor",
           "ForecasterRecursive_fit",
           "3a6496af8f14196a05b301212de078f0",
           0.04029782549449651,
           "2025-04-22T21:26:53.296630",
           "3.12.9",
           "1.26.4",
           "2.2.3",
           "1.4.2",
           "4.6.0",
           "Linux-6.11.0-21-generic-x86_64-with-glibc2.39",
           "x86_64",
           8,
           16.64
          ],
          [
           "ForecasterRecursive",
           "LGBMRegressor",
           "ForecasterRecursive_fit",
           "3a6496af8f14196a05b301212de078f0",
           0.02119325775742154,
           "2025-04-22T21:27:04.433706",
           "3.12.9",
           "1.26.4",
           "2.2.3",
           "1.4.2",
           "4.6.0",
           "Linux-6.11.0-21-generic-x86_64-with-glibc2.39",
           "x86_64",
           8,
           16.64
          ],
          [
           "ForecasterRecursive",
           "LGBMRegressor",
           "ForecasterRecursive_fit",
           "3a6496af8f14196a05b301212de078f0",
           0.03876458709447134,
           "2025-04-22T21:31:03.124401",
           "3.12.9",
           "1.26.4",
           "2.2.3",
           "1.4.2",
           "4.6.0",
           "Linux-6.11.0-21-generic-x86_64-with-glibc2.39",
           "x86_64",
           8,
           16.64
          ]
         ],
         "fillcolor": "rgba(255,255,255,0)",
         "hoveron": "points",
         "hovertemplate": "skforecast_version=%{x}<br>run_time_avg=%{y}<br>forecaster_name=%{customdata[0]}<br>regressor_name=%{customdata[1]}<br>function_name=%{customdata[2]}<br>function_hash=%{customdata[3]}<br>run_time_std_dev=%{customdata[4]}<br>datetime=%{customdata[5]}<br>python_version=%{customdata[6]}<br>numpy_version=%{customdata[7]}<br>pandas_version=%{customdata[8]}<br>sklearn_version=%{customdata[9]}<br>lightgbm_version=%{customdata[10]}<br>platform=%{customdata[11]}<br>processor=%{customdata[12]}<br>cpu_count=%{customdata[13]}<br>memory_gb=%{customdata[14]}<extra></extra>",
         "jitter": true,
         "legendgroup": "0.14.0",
         "line": {
          "color": "rgba(255,255,255,0)"
         },
         "marker": {
          "color": "#636efa",
          "opacity": 0.7,
          "size": 10
         },
         "name": "0.14.0",
         "offsetgroup": "0.14.0",
         "orientation": "v",
         "pointpos": 0,
         "showlegend": true,
         "type": "box",
         "x": [
          "0.14.0",
          "0.14.0",
          "0.14.0",
          "0.14.0",
          "0.14.0"
         ],
         "x0": " ",
         "xaxis": "x",
         "y": {
          "bdata": "AAAAAAAA+H8AAAAAAAD4f80MQCXRBM0/AEC0il1nyD9mBkY2fX3OPw==",
          "dtype": "f8"
         },
         "y0": " ",
         "yaxis": "y"
        },
        {
         "alignmentgroup": "True",
         "boxpoints": "all",
         "customdata": [
          [
           "ForecasterRecursive",
           "LGBMRegressor",
           "ForecasterRecursive_fit",
           "3a6496af8f14196a05b301212de078f0",
           0.03639140403037674,
           "2025-04-22T21:35:36.132403",
           "3.12.9",
           "1.26.4",
           "2.2.3",
           "1.4.2",
           "4.6.0",
           "Linux-6.11.0-21-generic-x86_64-with-glibc2.39",
           "x86_64",
           8,
           16.64
          ],
          [
           "ForecasterRecursive",
           "LGBMRegressor",
           "ForecasterRecursive_fit",
           "3a6496af8f14196a05b301212de078f0",
           0.038892451491481066,
           "2025-04-22T21:46:31.592093",
           "3.12.9",
           "2.2.5",
           "2.2.3",
           "1.6.1",
           "4.6.0",
           "Linux-6.11.0-21-generic-x86_64-with-glibc2.39",
           "x86_64",
           8,
           16.64
          ],
          [
           "ForecasterRecursive",
           "LGBMRegressor",
           "ForecasterRecursive_fit",
           "3a6496af8f14196a05b301212de078f0",
           0.048450487297683954,
           "2025-04-22T22:45:58.919912",
           "3.12.9",
           "1.26.4",
           "2.2.3",
           "1.4.2",
           "4.6.0",
           "Linux-6.11.0-21-generic-x86_64-with-glibc2.39",
           "x86_64",
           8,
           16.64
          ]
         ],
         "fillcolor": "rgba(255,255,255,0)",
         "hoveron": "points",
         "hovertemplate": "skforecast_version=%{x}<br>run_time_avg=%{y}<br>forecaster_name=%{customdata[0]}<br>regressor_name=%{customdata[1]}<br>function_name=%{customdata[2]}<br>function_hash=%{customdata[3]}<br>run_time_std_dev=%{customdata[4]}<br>datetime=%{customdata[5]}<br>python_version=%{customdata[6]}<br>numpy_version=%{customdata[7]}<br>pandas_version=%{customdata[8]}<br>sklearn_version=%{customdata[9]}<br>lightgbm_version=%{customdata[10]}<br>platform=%{customdata[11]}<br>processor=%{customdata[12]}<br>cpu_count=%{customdata[13]}<br>memory_gb=%{customdata[14]}<extra></extra>",
         "jitter": true,
         "legendgroup": "0.15.0",
         "line": {
          "color": "rgba(255,255,255,0)"
         },
         "marker": {
          "color": "#EF553B",
          "opacity": 0.7,
          "size": 10
         },
         "name": "0.15.0",
         "offsetgroup": "0.15.0",
         "orientation": "v",
         "pointpos": 0,
         "showlegend": true,
         "type": "box",
         "x": [
          "0.15.0",
          "0.15.0",
          "0.15.0"
         ],
         "x0": " ",
         "xaxis": "x",
         "y": {
          "bdata": "AMAiNNQJ2D+aORFldWDWP2YmR0AHGdk/",
          "dtype": "f8"
         },
         "y0": " ",
         "yaxis": "y"
        },
        {
         "alignmentgroup": "True",
         "boxpoints": "all",
         "customdata": [
          [
           "ForecasterRecursive",
           "LGBMRegressor",
           "ForecasterRecursive_fit",
           "3a6496af8f14196a05b301212de078f0",
           0.027696779254176,
           "2025-04-23T13:38:51.643950",
           "3.12.9",
           "2.2.5",
           "2.2.3",
           "1.6.1",
           "4.6.0",
           "Linux-6.11.0-21-generic-x86_64-with-glibc2.39",
           "x86_64",
           8,
           16.64
          ],
          [
           "ForecasterRecursive",
           "LGBMRegressor",
           "ForecasterRecursive_fit",
           "3a6496af8f14196a05b301212de078f0",
           0.054093929474685123,
           "2025-04-23T10:25:43.813064",
           "3.12.9",
           "2.2.5",
           "2.2.3",
           "1.6.1",
           "4.6.0",
           "Linux-6.11.0-21-generic-x86_64-with-glibc2.39",
           "x86_64",
           8,
           16.64
          ],
          [
           "ForecasterRecursive",
           "LGBMRegressor",
           "ForecasterRecursive_fit",
           "3a6496af8f14196a05b301212de078f0",
           0.07821475587908577,
           "2025-04-23T10:02:31.335418",
           "3.12.9",
           "2.2.5",
           "2.2.3",
           "1.6.1",
           "4.6.0",
           "Linux-6.11.0-21-generic-x86_64-with-glibc2.39",
           "x86_64",
           8,
           16.64
          ],
          [
           "ForecasterRecursive",
           "LGBMRegressor",
           "ForecasterRecursive_fit",
           "3a6496af8f14196a05b301212de078f0",
           0.01950982332116261,
           "2025-04-22T22:10:54.681237",
           "3.12.9",
           "1.26.4",
           "2.2.3",
           "1.6.1",
           "4.6.0",
           "Linux-6.11.0-21-generic-x86_64-with-glibc2.39",
           "x86_64",
           8,
           16.64
          ],
          [
           "ForecasterRecursive",
           "LGBMRegressor",
           "ForecasterRecursive_fit",
           "3a6496af8f14196a05b301212de078f0",
           0.03397432597456995,
           "2025-04-22T22:53:33.772807",
           "3.12.9",
           "1.26.4",
           "2.2.3",
           "1.4.2",
           "4.6.0",
           "Linux-6.11.0-21-generic-x86_64-with-glibc2.39",
           "x86_64",
           8,
           16.64
          ],
          [
           "ForecasterRecursive",
           "LGBMRegressor",
           "ForecasterRecursive_fit",
           "3a6496af8f14196a05b301212de078f0",
           0.02862490299349627,
           "2025-04-23T13:43:14.152878",
           "3.12.9",
           "2.2.5",
           "2.2.3",
           "1.6.1",
           "4.6.0",
           "Linux-6.11.0-21-generic-x86_64-with-glibc2.39",
           "x86_64",
           8,
           16.64
          ],
          [
           "ForecasterRecursive",
           "LGBMRegressor",
           "ForecasterRecursive_fit",
           "3a6496af8f14196a05b301212de078f0",
           0.04231162748961806,
           "2025-04-22T21:56:12.830849",
           "3.12.9",
           "2.2.5",
           "2.2.3",
           "1.6.1",
           "4.6.0",
           "Linux-6.11.0-21-generic-x86_64-with-glibc2.39",
           "x86_64",
           8,
           16.64
          ],
          [
           "ForecasterRecursive",
           "LGBMRegressor",
           "ForecasterRecursive_fit",
           "3a6496af8f14196a05b301212de078f0",
           0.1501236664333207,
           "2025-04-23T09:57:23.821035",
           "3.12.9",
           "1.26.4",
           "2.2.3",
           "1.4.2",
           "4.6.0",
           "Linux-6.11.0-21-generic-x86_64-with-glibc2.39",
           "x86_64",
           8,
           16.64
          ],
          [
           "ForecasterRecursive",
           "LGBMRegressor",
           "ForecasterRecursive_fit",
           "3a6496af8f14196a05b301212de078f0",
           0.03623384001871796,
           "2025-04-23T13:47:17.434263",
           "3.12.9",
           "2.2.5",
           "2.2.3",
           "1.6.1",
           "4.6.0",
           "Linux-6.11.0-21-generic-x86_64-with-glibc2.39",
           "x86_64",
           8,
           16.64
          ]
         ],
         "fillcolor": "rgba(255,255,255,0)",
         "hoveron": "points",
         "hovertemplate": "skforecast_version=%{x}<br>run_time_avg=%{y}<br>forecaster_name=%{customdata[0]}<br>regressor_name=%{customdata[1]}<br>function_name=%{customdata[2]}<br>function_hash=%{customdata[3]}<br>run_time_std_dev=%{customdata[4]}<br>datetime=%{customdata[5]}<br>python_version=%{customdata[6]}<br>numpy_version=%{customdata[7]}<br>pandas_version=%{customdata[8]}<br>sklearn_version=%{customdata[9]}<br>lightgbm_version=%{customdata[10]}<br>platform=%{customdata[11]}<br>processor=%{customdata[12]}<br>cpu_count=%{customdata[13]}<br>memory_gb=%{customdata[14]}<extra></extra>",
         "jitter": true,
         "legendgroup": "0.16.0",
         "line": {
          "color": "rgba(255,255,255,0)"
         },
         "marker": {
          "color": "#00cc96",
          "opacity": 0.7,
          "size": 10
         },
         "name": "0.16.0",
         "offsetgroup": "0.16.0",
         "orientation": "v",
         "pointpos": 0,
         "showlegend": true,
         "type": "box",
         "x": [
          "0.16.0",
          "0.16.0",
          "0.16.0",
          "0.16.0",
          "0.16.0",
          "0.16.0",
          "0.16.0",
          "0.16.0",
          "0.16.0"
         ],
         "x0": " ",
         "xaxis": "x",
         "y": {
          "bdata": "ZmbP4Aq/zj9mxr9+ukDaP80aWZQ6WuA/AKA8ob5J1z/NjOVCV2XXP5pZxNJkqM0/mrkpfoqG2D/Nl+FxYNHkPwCALSZrodE/",
          "dtype": "f8"
         },
         "y0": " ",
         "yaxis": "y"
        },
        {
         "line": {
          "color": "black",
          "width": 2
         },
         "marker": {
          "size": 8
         },
         "mode": "lines+markers",
         "name": "Median",
         "showlegend": true,
         "type": "scatter",
         "x": [
          "0.14.0",
          "0.15.0",
          "0.16.0"
         ],
         "y": {
          "bdata": "zQxAJdEEzT8AwCI01AnYP82M5UJXZdc/",
          "dtype": "f8"
         }
        }
       ],
       "layout": {
        "boxmode": "overlay",
        "legend": {
         "title": {
          "text": "skforecast_version"
         },
         "tracegroupgap": 0
        },
        "margin": {
         "t": 60
        },
        "showlegend": true,
        "template": {
         "data": {
          "bar": [
           {
            "error_x": {
             "color": "#2a3f5f"
            },
            "error_y": {
             "color": "#2a3f5f"
            },
            "marker": {
             "line": {
              "color": "#E5ECF6",
              "width": 0.5
             },
             "pattern": {
              "fillmode": "overlay",
              "size": 10,
              "solidity": 0.2
             }
            },
            "type": "bar"
           }
          ],
          "barpolar": [
           {
            "marker": {
             "line": {
              "color": "#E5ECF6",
              "width": 0.5
             },
             "pattern": {
              "fillmode": "overlay",
              "size": 10,
              "solidity": 0.2
             }
            },
            "type": "barpolar"
           }
          ],
          "carpet": [
           {
            "aaxis": {
             "endlinecolor": "#2a3f5f",
             "gridcolor": "white",
             "linecolor": "white",
             "minorgridcolor": "white",
             "startlinecolor": "#2a3f5f"
            },
            "baxis": {
             "endlinecolor": "#2a3f5f",
             "gridcolor": "white",
             "linecolor": "white",
             "minorgridcolor": "white",
             "startlinecolor": "#2a3f5f"
            },
            "type": "carpet"
           }
          ],
          "choropleth": [
           {
            "colorbar": {
             "outlinewidth": 0,
             "ticks": ""
            },
            "type": "choropleth"
           }
          ],
          "contour": [
           {
            "colorbar": {
             "outlinewidth": 0,
             "ticks": ""
            },
            "colorscale": [
             [
              0,
              "#0d0887"
             ],
             [
              0.1111111111111111,
              "#46039f"
             ],
             [
              0.2222222222222222,
              "#7201a8"
             ],
             [
              0.3333333333333333,
              "#9c179e"
             ],
             [
              0.4444444444444444,
              "#bd3786"
             ],
             [
              0.5555555555555556,
              "#d8576b"
             ],
             [
              0.6666666666666666,
              "#ed7953"
             ],
             [
              0.7777777777777778,
              "#fb9f3a"
             ],
             [
              0.8888888888888888,
              "#fdca26"
             ],
             [
              1,
              "#f0f921"
             ]
            ],
            "type": "contour"
           }
          ],
          "contourcarpet": [
           {
            "colorbar": {
             "outlinewidth": 0,
             "ticks": ""
            },
            "type": "contourcarpet"
           }
          ],
          "heatmap": [
           {
            "colorbar": {
             "outlinewidth": 0,
             "ticks": ""
            },
            "colorscale": [
             [
              0,
              "#0d0887"
             ],
             [
              0.1111111111111111,
              "#46039f"
             ],
             [
              0.2222222222222222,
              "#7201a8"
             ],
             [
              0.3333333333333333,
              "#9c179e"
             ],
             [
              0.4444444444444444,
              "#bd3786"
             ],
             [
              0.5555555555555556,
              "#d8576b"
             ],
             [
              0.6666666666666666,
              "#ed7953"
             ],
             [
              0.7777777777777778,
              "#fb9f3a"
             ],
             [
              0.8888888888888888,
              "#fdca26"
             ],
             [
              1,
              "#f0f921"
             ]
            ],
            "type": "heatmap"
           }
          ],
          "histogram": [
           {
            "marker": {
             "pattern": {
              "fillmode": "overlay",
              "size": 10,
              "solidity": 0.2
             }
            },
            "type": "histogram"
           }
          ],
          "histogram2d": [
           {
            "colorbar": {
             "outlinewidth": 0,
             "ticks": ""
            },
            "colorscale": [
             [
              0,
              "#0d0887"
             ],
             [
              0.1111111111111111,
              "#46039f"
             ],
             [
              0.2222222222222222,
              "#7201a8"
             ],
             [
              0.3333333333333333,
              "#9c179e"
             ],
             [
              0.4444444444444444,
              "#bd3786"
             ],
             [
              0.5555555555555556,
              "#d8576b"
             ],
             [
              0.6666666666666666,
              "#ed7953"
             ],
             [
              0.7777777777777778,
              "#fb9f3a"
             ],
             [
              0.8888888888888888,
              "#fdca26"
             ],
             [
              1,
              "#f0f921"
             ]
            ],
            "type": "histogram2d"
           }
          ],
          "histogram2dcontour": [
           {
            "colorbar": {
             "outlinewidth": 0,
             "ticks": ""
            },
            "colorscale": [
             [
              0,
              "#0d0887"
             ],
             [
              0.1111111111111111,
              "#46039f"
             ],
             [
              0.2222222222222222,
              "#7201a8"
             ],
             [
              0.3333333333333333,
              "#9c179e"
             ],
             [
              0.4444444444444444,
              "#bd3786"
             ],
             [
              0.5555555555555556,
              "#d8576b"
             ],
             [
              0.6666666666666666,
              "#ed7953"
             ],
             [
              0.7777777777777778,
              "#fb9f3a"
             ],
             [
              0.8888888888888888,
              "#fdca26"
             ],
             [
              1,
              "#f0f921"
             ]
            ],
            "type": "histogram2dcontour"
           }
          ],
          "mesh3d": [
           {
            "colorbar": {
             "outlinewidth": 0,
             "ticks": ""
            },
            "type": "mesh3d"
           }
          ],
          "parcoords": [
           {
            "line": {
             "colorbar": {
              "outlinewidth": 0,
              "ticks": ""
             }
            },
            "type": "parcoords"
           }
          ],
          "pie": [
           {
            "automargin": true,
            "type": "pie"
           }
          ],
          "scatter": [
           {
            "fillpattern": {
             "fillmode": "overlay",
             "size": 10,
             "solidity": 0.2
            },
            "type": "scatter"
           }
          ],
          "scatter3d": [
           {
            "line": {
             "colorbar": {
              "outlinewidth": 0,
              "ticks": ""
             }
            },
            "marker": {
             "colorbar": {
              "outlinewidth": 0,
              "ticks": ""
             }
            },
            "type": "scatter3d"
           }
          ],
          "scattercarpet": [
           {
            "marker": {
             "colorbar": {
              "outlinewidth": 0,
              "ticks": ""
             }
            },
            "type": "scattercarpet"
           }
          ],
          "scattergeo": [
           {
            "marker": {
             "colorbar": {
              "outlinewidth": 0,
              "ticks": ""
             }
            },
            "type": "scattergeo"
           }
          ],
          "scattergl": [
           {
            "marker": {
             "colorbar": {
              "outlinewidth": 0,
              "ticks": ""
             }
            },
            "type": "scattergl"
           }
          ],
          "scattermap": [
           {
            "marker": {
             "colorbar": {
              "outlinewidth": 0,
              "ticks": ""
             }
            },
            "type": "scattermap"
           }
          ],
          "scattermapbox": [
           {
            "marker": {
             "colorbar": {
              "outlinewidth": 0,
              "ticks": ""
             }
            },
            "type": "scattermapbox"
           }
          ],
          "scatterpolar": [
           {
            "marker": {
             "colorbar": {
              "outlinewidth": 0,
              "ticks": ""
             }
            },
            "type": "scatterpolar"
           }
          ],
          "scatterpolargl": [
           {
            "marker": {
             "colorbar": {
              "outlinewidth": 0,
              "ticks": ""
             }
            },
            "type": "scatterpolargl"
           }
          ],
          "scatterternary": [
           {
            "marker": {
             "colorbar": {
              "outlinewidth": 0,
              "ticks": ""
             }
            },
            "type": "scatterternary"
           }
          ],
          "surface": [
           {
            "colorbar": {
             "outlinewidth": 0,
             "ticks": ""
            },
            "colorscale": [
             [
              0,
              "#0d0887"
             ],
             [
              0.1111111111111111,
              "#46039f"
             ],
             [
              0.2222222222222222,
              "#7201a8"
             ],
             [
              0.3333333333333333,
              "#9c179e"
             ],
             [
              0.4444444444444444,
              "#bd3786"
             ],
             [
              0.5555555555555556,
              "#d8576b"
             ],
             [
              0.6666666666666666,
              "#ed7953"
             ],
             [
              0.7777777777777778,
              "#fb9f3a"
             ],
             [
              0.8888888888888888,
              "#fdca26"
             ],
             [
              1,
              "#f0f921"
             ]
            ],
            "type": "surface"
           }
          ],
          "table": [
           {
            "cells": {
             "fill": {
              "color": "#EBF0F8"
             },
             "line": {
              "color": "white"
             }
            },
            "header": {
             "fill": {
              "color": "#C8D4E3"
             },
             "line": {
              "color": "white"
             }
            },
            "type": "table"
           }
          ]
         },
         "layout": {
          "annotationdefaults": {
           "arrowcolor": "#2a3f5f",
           "arrowhead": 0,
           "arrowwidth": 1
          },
          "autotypenumbers": "strict",
          "coloraxis": {
           "colorbar": {
            "outlinewidth": 0,
            "ticks": ""
           }
          },
          "colorscale": {
           "diverging": [
            [
             0,
             "#8e0152"
            ],
            [
             0.1,
             "#c51b7d"
            ],
            [
             0.2,
             "#de77ae"
            ],
            [
             0.3,
             "#f1b6da"
            ],
            [
             0.4,
             "#fde0ef"
            ],
            [
             0.5,
             "#f7f7f7"
            ],
            [
             0.6,
             "#e6f5d0"
            ],
            [
             0.7,
             "#b8e186"
            ],
            [
             0.8,
             "#7fbc41"
            ],
            [
             0.9,
             "#4d9221"
            ],
            [
             1,
             "#276419"
            ]
           ],
           "sequential": [
            [
             0,
             "#0d0887"
            ],
            [
             0.1111111111111111,
             "#46039f"
            ],
            [
             0.2222222222222222,
             "#7201a8"
            ],
            [
             0.3333333333333333,
             "#9c179e"
            ],
            [
             0.4444444444444444,
             "#bd3786"
            ],
            [
             0.5555555555555556,
             "#d8576b"
            ],
            [
             0.6666666666666666,
             "#ed7953"
            ],
            [
             0.7777777777777778,
             "#fb9f3a"
            ],
            [
             0.8888888888888888,
             "#fdca26"
            ],
            [
             1,
             "#f0f921"
            ]
           ],
           "sequentialminus": [
            [
             0,
             "#0d0887"
            ],
            [
             0.1111111111111111,
             "#46039f"
            ],
            [
             0.2222222222222222,
             "#7201a8"
            ],
            [
             0.3333333333333333,
             "#9c179e"
            ],
            [
             0.4444444444444444,
             "#bd3786"
            ],
            [
             0.5555555555555556,
             "#d8576b"
            ],
            [
             0.6666666666666666,
             "#ed7953"
            ],
            [
             0.7777777777777778,
             "#fb9f3a"
            ],
            [
             0.8888888888888888,
             "#fdca26"
            ],
            [
             1,
             "#f0f921"
            ]
           ]
          },
          "colorway": [
           "#636efa",
           "#EF553B",
           "#00cc96",
           "#ab63fa",
           "#FFA15A",
           "#19d3f3",
           "#FF6692",
           "#B6E880",
           "#FF97FF",
           "#FECB52"
          ],
          "font": {
           "color": "#2a3f5f"
          },
          "geo": {
           "bgcolor": "white",
           "lakecolor": "white",
           "landcolor": "#E5ECF6",
           "showlakes": true,
           "showland": true,
           "subunitcolor": "white"
          },
          "hoverlabel": {
           "align": "left"
          },
          "hovermode": "closest",
          "mapbox": {
           "style": "light"
          },
          "paper_bgcolor": "white",
          "plot_bgcolor": "#E5ECF6",
          "polar": {
           "angularaxis": {
            "gridcolor": "white",
            "linecolor": "white",
            "ticks": ""
           },
           "bgcolor": "#E5ECF6",
           "radialaxis": {
            "gridcolor": "white",
            "linecolor": "white",
            "ticks": ""
           }
          },
          "scene": {
           "xaxis": {
            "backgroundcolor": "#E5ECF6",
            "gridcolor": "white",
            "gridwidth": 2,
            "linecolor": "white",
            "showbackground": true,
            "ticks": "",
            "zerolinecolor": "white"
           },
           "yaxis": {
            "backgroundcolor": "#E5ECF6",
            "gridcolor": "white",
            "gridwidth": 2,
            "linecolor": "white",
            "showbackground": true,
            "ticks": "",
            "zerolinecolor": "white"
           },
           "zaxis": {
            "backgroundcolor": "#E5ECF6",
            "gridcolor": "white",
            "gridwidth": 2,
            "linecolor": "white",
            "showbackground": true,
            "ticks": "",
            "zerolinecolor": "white"
           }
          },
          "shapedefaults": {
           "line": {
            "color": "#2a3f5f"
           }
          },
          "ternary": {
           "aaxis": {
            "gridcolor": "white",
            "linecolor": "white",
            "ticks": ""
           },
           "baxis": {
            "gridcolor": "white",
            "linecolor": "white",
            "ticks": ""
           },
           "bgcolor": "#E5ECF6",
           "caxis": {
            "gridcolor": "white",
            "linecolor": "white",
            "ticks": ""
           }
          },
          "title": {
           "x": 0.05
          },
          "xaxis": {
           "automargin": true,
           "gridcolor": "white",
           "linecolor": "white",
           "ticks": "",
           "title": {
            "standoff": 15
           },
           "zerolinecolor": "white",
           "zerolinewidth": 2
          },
          "yaxis": {
           "automargin": true,
           "gridcolor": "white",
           "linecolor": "white",
           "ticks": "",
           "title": {
            "standoff": 15
           },
           "zerolinecolor": "white",
           "zerolinewidth": 2
          }
         }
        },
        "title": {
         "text": "Execution time of ForecasterRecursive_fit"
        },
        "xaxis": {
         "anchor": "y",
         "categoryarray": [
          "0.14.0",
          "0.15.0",
          "0.16.0"
         ],
         "categoryorder": "array",
         "domain": [
          0,
          1
         ],
         "title": {
          "text": "skforecast version"
         }
        },
        "yaxis": {
         "anchor": "x",
         "domain": [
          0,
          1
         ],
         "title": {
          "text": "Execution time (seconds)"
         }
        }
       }
      }
     },
     "metadata": {},
     "output_type": "display_data"
    },
    {
     "data": {
      "application/vnd.microsoft.datawrangler.viewer.v0+json": {
       "columns": [
        {
         "name": "index",
         "rawType": "int64",
         "type": "integer"
        },
        {
         "name": "forecaster_name",
         "rawType": "object",
         "type": "string"
        },
        {
         "name": "regressor_name",
         "rawType": "object",
         "type": "string"
        },
        {
         "name": "function_name",
         "rawType": "object",
         "type": "string"
        },
        {
         "name": "function_hash",
         "rawType": "object",
         "type": "string"
        },
        {
         "name": "run_time_avg",
         "rawType": "float64",
         "type": "float"
        },
        {
         "name": "run_time_std_dev",
         "rawType": "float64",
         "type": "float"
        },
        {
         "name": "datetime",
         "rawType": "datetime64[ns]",
         "type": "datetime"
        },
        {
         "name": "python_version",
         "rawType": "object",
         "type": "string"
        },
        {
         "name": "skforecast_version",
         "rawType": "object",
         "type": "string"
        },
        {
         "name": "numpy_version",
         "rawType": "object",
         "type": "string"
        },
        {
         "name": "pandas_version",
         "rawType": "object",
         "type": "string"
        },
        {
         "name": "sklearn_version",
         "rawType": "object",
         "type": "string"
        },
        {
         "name": "lightgbm_version",
         "rawType": "object",
         "type": "string"
        },
        {
         "name": "platform",
         "rawType": "object",
         "type": "string"
        },
        {
         "name": "processor",
         "rawType": "object",
         "type": "string"
        },
        {
         "name": "cpu_count",
         "rawType": "int64",
         "type": "integer"
        },
        {
         "name": "memory_gb",
         "rawType": "float64",
         "type": "float"
        }
       ],
       "conversionMethod": "pd.DataFrame",
       "ref": "8ce6b742-847f-48cc-a6c7-703ffe656400",
       "rows": [
        [
         "25",
         "ForecasterRecursive",
         "LGBMRegressor",
         "ForecasterRecursive__create_train_X_y",
         "287fbd1c4920496341a9d5f9b9a9aa2a",
         null,
         null,
         "2025-04-22 21:26:09.456096",
         "3.12.9",
         "0.14.0",
         "1.26.4",
         "2.2.3",
         "1.4.2",
         "4.6.0",
         "Linux-6.11.0-21-generic-x86_64-with-glibc2.39",
         "x86_64",
         "8",
         "16.64"
        ],
        [
         "27",
         "ForecasterRecursive",
         "LGBMRegressor",
         "ForecasterRecursive__create_train_X_y",
         "287fbd1c4920496341a9d5f9b9a9aa2a",
         null,
         null,
         "2025-04-22 21:26:24.729070",
         "3.12.9",
         "0.14.0",
         "1.26.4",
         "2.2.3",
         "1.4.2",
         "4.6.0",
         "Linux-6.11.0-21-generic-x86_64-with-glibc2.39",
         "x86_64",
         "8",
         "16.64"
        ],
        [
         "29",
         "ForecasterRecursive",
         "LGBMRegressor",
         "ForecasterRecursive__create_train_X_y",
         "287fbd1c4920496341a9d5f9b9a9aa2a",
         "0.0027693660001204988",
         "0.0002948461436100899",
         "2025-04-22 21:26:54.435579",
         "3.12.9",
         "0.14.0",
         "1.26.4",
         "2.2.3",
         "1.4.2",
         "4.6.0",
         "Linux-6.11.0-21-generic-x86_64-with-glibc2.39",
         "x86_64",
         "8",
         "16.64"
        ],
        [
         "33",
         "ForecasterRecursive",
         "LGBMRegressor",
         "ForecasterRecursive__create_train_X_y",
         "287fbd1c4920496341a9d5f9b9a9aa2a",
         "0.002705069799958437",
         "0.00014245970472750603",
         "2025-04-22 21:27:05.390762",
         "3.12.9",
         "0.14.0",
         "1.26.4",
         "2.2.3",
         "1.4.2",
         "4.6.0",
         "Linux-6.11.0-21-generic-x86_64-with-glibc2.39",
         "x86_64",
         "8",
         "16.64"
        ],
        [
         "45",
         "ForecasterRecursive",
         "LGBMRegressor",
         "ForecasterRecursive__create_train_X_y",
         "287fbd1c4920496341a9d5f9b9a9aa2a",
         "0.003999497999984669",
         "0.000601753208569619",
         "2025-04-22 21:31:05.512059",
         "3.12.9",
         "0.14.0",
         "1.26.4",
         "2.2.3",
         "1.4.2",
         "4.6.0",
         "Linux-6.11.0-21-generic-x86_64-with-glibc2.39",
         "x86_64",
         "8",
         "16.64"
        ],
        [
         "57",
         "ForecasterRecursive",
         "LGBMRegressor",
         "ForecasterRecursive__create_train_X_y",
         "287fbd1c4920496341a9d5f9b9a9aa2a",
         "0.0058493789001659025",
         "0.0008399680806365836",
         "2025-04-22 21:35:39.897474",
         "3.12.9",
         "0.15.0",
         "1.26.4",
         "2.2.3",
         "1.4.2",
         "4.6.0",
         "Linux-6.11.0-21-generic-x86_64-with-glibc2.39",
         "x86_64",
         "8",
         "16.64"
        ],
        [
         "69",
         "ForecasterRecursive",
         "LGBMRegressor",
         "ForecasterRecursive__create_train_X_y",
         "287fbd1c4920496341a9d5f9b9a9aa2a",
         "0.0051311931997588545",
         "0.0006893804992806374",
         "2025-04-22 21:46:35.096647",
         "3.12.9",
         "0.15.0",
         "2.2.5",
         "2.2.3",
         "1.6.1",
         "4.6.0",
         "Linux-6.11.0-21-generic-x86_64-with-glibc2.39",
         "x86_64",
         "8",
         "16.64"
        ],
        [
         "81",
         "ForecasterRecursive",
         "LGBMRegressor",
         "ForecasterRecursive__create_train_X_y",
         "287fbd1c4920496341a9d5f9b9a9aa2a",
         "0.004212790700057667",
         "0.0013932518143216649",
         "2025-04-22 21:56:16.672542",
         "3.12.9",
         "0.16.0",
         "2.2.5",
         "2.2.3",
         "1.6.1",
         "4.6.0",
         "Linux-6.11.0-21-generic-x86_64-with-glibc2.39",
         "x86_64",
         "8",
         "16.64"
        ],
        [
         "93",
         "ForecasterRecursive",
         "LGBMRegressor",
         "ForecasterRecursive__create_train_X_y",
         "287fbd1c4920496341a9d5f9b9a9aa2a",
         "0.00544458759995905",
         "0.000558665172431099",
         "2025-04-22 22:10:58.328841",
         "3.12.9",
         "0.16.0",
         "1.26.4",
         "2.2.3",
         "1.6.1",
         "4.6.0",
         "Linux-6.11.0-21-generic-x86_64-with-glibc2.39",
         "x86_64",
         "8",
         "16.64"
        ],
        [
         "129",
         "ForecasterRecursive",
         "LGBMRegressor",
         "ForecasterRecursive__create_train_X_y",
         "287fbd1c4920496341a9d5f9b9a9aa2a",
         "0.006033850999847346",
         "0.0017323162416013412",
         "2025-04-22 22:46:02.856538",
         "3.12.9",
         "0.15.0",
         "1.26.4",
         "2.2.3",
         "1.4.2",
         "4.6.0",
         "Linux-6.11.0-21-generic-x86_64-with-glibc2.39",
         "x86_64",
         "8",
         "16.64"
        ],
        [
         "141",
         "ForecasterRecursive",
         "LGBMRegressor",
         "ForecasterRecursive__create_train_X_y",
         "287fbd1c4920496341a9d5f9b9a9aa2a",
         "0.004029553400141594",
         "0.0010686662557239759",
         "2025-04-22 22:53:37.437481",
         "3.12.9",
         "0.16.0",
         "1.26.4",
         "2.2.3",
         "1.4.2",
         "4.6.0",
         "Linux-6.11.0-21-generic-x86_64-with-glibc2.39",
         "x86_64",
         "8",
         "16.64"
        ],
        [
         "177",
         "ForecasterRecursive",
         "LGBMRegressor",
         "ForecasterRecursive__create_train_X_y",
         "287fbd1c4920496341a9d5f9b9a9aa2a",
         "0.00902750900000342",
         "0.0017888425552549387",
         "2025-04-23 09:57:30.342790",
         "3.12.9",
         "0.16.0",
         "1.26.4",
         "2.2.3",
         "1.4.2",
         "4.6.0",
         "Linux-6.11.0-21-generic-x86_64-with-glibc2.39",
         "x86_64",
         "8",
         "16.64"
        ],
        [
         "189",
         "ForecasterRecursive",
         "LGBMRegressor",
         "ForecasterRecursive__create_train_X_y",
         "287fbd1c4920496341a9d5f9b9a9aa2a",
         "0.006952126999988195",
         "0.0017644376009935026",
         "2025-04-23 10:02:36.459602",
         "3.12.9",
         "0.16.0",
         "2.2.5",
         "2.2.3",
         "1.6.1",
         "4.6.0",
         "Linux-6.11.0-21-generic-x86_64-with-glibc2.39",
         "x86_64",
         "8",
         "16.64"
        ],
        [
         "201",
         "ForecasterRecursive",
         "LGBMRegressor",
         "ForecasterRecursive__create_train_X_y",
         "287fbd1c4920496341a9d5f9b9a9aa2a",
         "0.004330656499996621",
         "0.001167049545257741",
         "2025-04-23 10:25:47.924809",
         "3.12.9",
         "0.16.0",
         "2.2.5",
         "2.2.3",
         "1.6.1",
         "4.6.0",
         "Linux-6.11.0-21-generic-x86_64-with-glibc2.39",
         "x86_64",
         "8",
         "16.64"
        ],
        [
         "213",
         "ForecasterRecursive",
         "LGBMRegressor",
         "ForecasterRecursive__create_train_X_y",
         "287fbd1c4920496341a9d5f9b9a9aa2a",
         "0.004329901099845301",
         "0.0005514738033405303",
         "2025-04-23 13:38:54.054080",
         "3.12.9",
         "0.16.0",
         "2.2.5",
         "2.2.3",
         "1.6.1",
         "4.6.0",
         "Linux-6.11.0-21-generic-x86_64-with-glibc2.39",
         "x86_64",
         "8",
         "16.64"
        ],
        [
         "225",
         "ForecasterRecursive",
         "LGBMRegressor",
         "ForecasterRecursive__create_train_X_y",
         "287fbd1c4920496341a9d5f9b9a9aa2a",
         "0.0037797576001139532",
         "0.000299661546630767",
         "2025-04-23 13:43:16.476060",
         "3.12.9",
         "0.16.0",
         "2.2.5",
         "2.2.3",
         "1.6.1",
         "4.6.0",
         "Linux-6.11.0-21-generic-x86_64-with-glibc2.39",
         "x86_64",
         "8",
         "16.64"
        ],
        [
         "237",
         "ForecasterRecursive",
         "LGBMRegressor",
         "ForecasterRecursive__create_train_X_y",
         "287fbd1c4920496341a9d5f9b9a9aa2a",
         "0.004271164199963096",
         "0.00044157817257507454",
         "2025-04-23 13:47:20.197102",
         "3.12.9",
         "0.16.0",
         "2.2.5",
         "2.2.3",
         "1.6.1",
         "4.6.0",
         "Linux-6.11.0-21-generic-x86_64-with-glibc2.39",
         "x86_64",
         "8",
         "16.64"
        ]
       ],
       "shape": {
        "columns": 17,
        "rows": 17
       }
      },
      "text/html": [
       "<div>\n",
       "<style scoped>\n",
       "    .dataframe tbody tr th:only-of-type {\n",
       "        vertical-align: middle;\n",
       "    }\n",
       "\n",
       "    .dataframe tbody tr th {\n",
       "        vertical-align: top;\n",
       "    }\n",
       "\n",
       "    .dataframe thead th {\n",
       "        text-align: right;\n",
       "    }\n",
       "</style>\n",
       "<table border=\"1\" class=\"dataframe\">\n",
       "  <thead>\n",
       "    <tr style=\"text-align: right;\">\n",
       "      <th></th>\n",
       "      <th>forecaster_name</th>\n",
       "      <th>regressor_name</th>\n",
       "      <th>function_name</th>\n",
       "      <th>function_hash</th>\n",
       "      <th>run_time_avg</th>\n",
       "      <th>run_time_std_dev</th>\n",
       "      <th>datetime</th>\n",
       "      <th>python_version</th>\n",
       "      <th>skforecast_version</th>\n",
       "      <th>numpy_version</th>\n",
       "      <th>pandas_version</th>\n",
       "      <th>sklearn_version</th>\n",
       "      <th>lightgbm_version</th>\n",
       "      <th>platform</th>\n",
       "      <th>processor</th>\n",
       "      <th>cpu_count</th>\n",
       "      <th>memory_gb</th>\n",
       "    </tr>\n",
       "  </thead>\n",
       "  <tbody>\n",
       "    <tr>\n",
       "      <th>25</th>\n",
       "      <td>ForecasterRecursive</td>\n",
       "      <td>LGBMRegressor</td>\n",
       "      <td>ForecasterRecursive__create_train_X_y</td>\n",
       "      <td>287fbd1c4920496341a9d5f9b9a9aa2a</td>\n",
       "      <td>NaN</td>\n",
       "      <td>NaN</td>\n",
       "      <td>2025-04-22 21:26:09.456096</td>\n",
       "      <td>3.12.9</td>\n",
       "      <td>0.14.0</td>\n",
       "      <td>1.26.4</td>\n",
       "      <td>2.2.3</td>\n",
       "      <td>1.4.2</td>\n",
       "      <td>4.6.0</td>\n",
       "      <td>Linux-6.11.0-21-generic-x86_64-with-glibc2.39</td>\n",
       "      <td>x86_64</td>\n",
       "      <td>8</td>\n",
       "      <td>16.64</td>\n",
       "    </tr>\n",
       "    <tr>\n",
       "      <th>27</th>\n",
       "      <td>ForecasterRecursive</td>\n",
       "      <td>LGBMRegressor</td>\n",
       "      <td>ForecasterRecursive__create_train_X_y</td>\n",
       "      <td>287fbd1c4920496341a9d5f9b9a9aa2a</td>\n",
       "      <td>NaN</td>\n",
       "      <td>NaN</td>\n",
       "      <td>2025-04-22 21:26:24.729070</td>\n",
       "      <td>3.12.9</td>\n",
       "      <td>0.14.0</td>\n",
       "      <td>1.26.4</td>\n",
       "      <td>2.2.3</td>\n",
       "      <td>1.4.2</td>\n",
       "      <td>4.6.0</td>\n",
       "      <td>Linux-6.11.0-21-generic-x86_64-with-glibc2.39</td>\n",
       "      <td>x86_64</td>\n",
       "      <td>8</td>\n",
       "      <td>16.64</td>\n",
       "    </tr>\n",
       "    <tr>\n",
       "      <th>29</th>\n",
       "      <td>ForecasterRecursive</td>\n",
       "      <td>LGBMRegressor</td>\n",
       "      <td>ForecasterRecursive__create_train_X_y</td>\n",
       "      <td>287fbd1c4920496341a9d5f9b9a9aa2a</td>\n",
       "      <td>0.002769</td>\n",
       "      <td>0.000295</td>\n",
       "      <td>2025-04-22 21:26:54.435579</td>\n",
       "      <td>3.12.9</td>\n",
       "      <td>0.14.0</td>\n",
       "      <td>1.26.4</td>\n",
       "      <td>2.2.3</td>\n",
       "      <td>1.4.2</td>\n",
       "      <td>4.6.0</td>\n",
       "      <td>Linux-6.11.0-21-generic-x86_64-with-glibc2.39</td>\n",
       "      <td>x86_64</td>\n",
       "      <td>8</td>\n",
       "      <td>16.64</td>\n",
       "    </tr>\n",
       "    <tr>\n",
       "      <th>33</th>\n",
       "      <td>ForecasterRecursive</td>\n",
       "      <td>LGBMRegressor</td>\n",
       "      <td>ForecasterRecursive__create_train_X_y</td>\n",
       "      <td>287fbd1c4920496341a9d5f9b9a9aa2a</td>\n",
       "      <td>0.002705</td>\n",
       "      <td>0.000142</td>\n",
       "      <td>2025-04-22 21:27:05.390762</td>\n",
       "      <td>3.12.9</td>\n",
       "      <td>0.14.0</td>\n",
       "      <td>1.26.4</td>\n",
       "      <td>2.2.3</td>\n",
       "      <td>1.4.2</td>\n",
       "      <td>4.6.0</td>\n",
       "      <td>Linux-6.11.0-21-generic-x86_64-with-glibc2.39</td>\n",
       "      <td>x86_64</td>\n",
       "      <td>8</td>\n",
       "      <td>16.64</td>\n",
       "    </tr>\n",
       "    <tr>\n",
       "      <th>45</th>\n",
       "      <td>ForecasterRecursive</td>\n",
       "      <td>LGBMRegressor</td>\n",
       "      <td>ForecasterRecursive__create_train_X_y</td>\n",
       "      <td>287fbd1c4920496341a9d5f9b9a9aa2a</td>\n",
       "      <td>0.003999</td>\n",
       "      <td>0.000602</td>\n",
       "      <td>2025-04-22 21:31:05.512059</td>\n",
       "      <td>3.12.9</td>\n",
       "      <td>0.14.0</td>\n",
       "      <td>1.26.4</td>\n",
       "      <td>2.2.3</td>\n",
       "      <td>1.4.2</td>\n",
       "      <td>4.6.0</td>\n",
       "      <td>Linux-6.11.0-21-generic-x86_64-with-glibc2.39</td>\n",
       "      <td>x86_64</td>\n",
       "      <td>8</td>\n",
       "      <td>16.64</td>\n",
       "    </tr>\n",
       "    <tr>\n",
       "      <th>57</th>\n",
       "      <td>ForecasterRecursive</td>\n",
       "      <td>LGBMRegressor</td>\n",
       "      <td>ForecasterRecursive__create_train_X_y</td>\n",
       "      <td>287fbd1c4920496341a9d5f9b9a9aa2a</td>\n",
       "      <td>0.005849</td>\n",
       "      <td>0.000840</td>\n",
       "      <td>2025-04-22 21:35:39.897474</td>\n",
       "      <td>3.12.9</td>\n",
       "      <td>0.15.0</td>\n",
       "      <td>1.26.4</td>\n",
       "      <td>2.2.3</td>\n",
       "      <td>1.4.2</td>\n",
       "      <td>4.6.0</td>\n",
       "      <td>Linux-6.11.0-21-generic-x86_64-with-glibc2.39</td>\n",
       "      <td>x86_64</td>\n",
       "      <td>8</td>\n",
       "      <td>16.64</td>\n",
       "    </tr>\n",
       "    <tr>\n",
       "      <th>69</th>\n",
       "      <td>ForecasterRecursive</td>\n",
       "      <td>LGBMRegressor</td>\n",
       "      <td>ForecasterRecursive__create_train_X_y</td>\n",
       "      <td>287fbd1c4920496341a9d5f9b9a9aa2a</td>\n",
       "      <td>0.005131</td>\n",
       "      <td>0.000689</td>\n",
       "      <td>2025-04-22 21:46:35.096647</td>\n",
       "      <td>3.12.9</td>\n",
       "      <td>0.15.0</td>\n",
       "      <td>2.2.5</td>\n",
       "      <td>2.2.3</td>\n",
       "      <td>1.6.1</td>\n",
       "      <td>4.6.0</td>\n",
       "      <td>Linux-6.11.0-21-generic-x86_64-with-glibc2.39</td>\n",
       "      <td>x86_64</td>\n",
       "      <td>8</td>\n",
       "      <td>16.64</td>\n",
       "    </tr>\n",
       "    <tr>\n",
       "      <th>81</th>\n",
       "      <td>ForecasterRecursive</td>\n",
       "      <td>LGBMRegressor</td>\n",
       "      <td>ForecasterRecursive__create_train_X_y</td>\n",
       "      <td>287fbd1c4920496341a9d5f9b9a9aa2a</td>\n",
       "      <td>0.004213</td>\n",
       "      <td>0.001393</td>\n",
       "      <td>2025-04-22 21:56:16.672542</td>\n",
       "      <td>3.12.9</td>\n",
       "      <td>0.16.0</td>\n",
       "      <td>2.2.5</td>\n",
       "      <td>2.2.3</td>\n",
       "      <td>1.6.1</td>\n",
       "      <td>4.6.0</td>\n",
       "      <td>Linux-6.11.0-21-generic-x86_64-with-glibc2.39</td>\n",
       "      <td>x86_64</td>\n",
       "      <td>8</td>\n",
       "      <td>16.64</td>\n",
       "    </tr>\n",
       "    <tr>\n",
       "      <th>93</th>\n",
       "      <td>ForecasterRecursive</td>\n",
       "      <td>LGBMRegressor</td>\n",
       "      <td>ForecasterRecursive__create_train_X_y</td>\n",
       "      <td>287fbd1c4920496341a9d5f9b9a9aa2a</td>\n",
       "      <td>0.005445</td>\n",
       "      <td>0.000559</td>\n",
       "      <td>2025-04-22 22:10:58.328841</td>\n",
       "      <td>3.12.9</td>\n",
       "      <td>0.16.0</td>\n",
       "      <td>1.26.4</td>\n",
       "      <td>2.2.3</td>\n",
       "      <td>1.6.1</td>\n",
       "      <td>4.6.0</td>\n",
       "      <td>Linux-6.11.0-21-generic-x86_64-with-glibc2.39</td>\n",
       "      <td>x86_64</td>\n",
       "      <td>8</td>\n",
       "      <td>16.64</td>\n",
       "    </tr>\n",
       "    <tr>\n",
       "      <th>129</th>\n",
       "      <td>ForecasterRecursive</td>\n",
       "      <td>LGBMRegressor</td>\n",
       "      <td>ForecasterRecursive__create_train_X_y</td>\n",
       "      <td>287fbd1c4920496341a9d5f9b9a9aa2a</td>\n",
       "      <td>0.006034</td>\n",
       "      <td>0.001732</td>\n",
       "      <td>2025-04-22 22:46:02.856538</td>\n",
       "      <td>3.12.9</td>\n",
       "      <td>0.15.0</td>\n",
       "      <td>1.26.4</td>\n",
       "      <td>2.2.3</td>\n",
       "      <td>1.4.2</td>\n",
       "      <td>4.6.0</td>\n",
       "      <td>Linux-6.11.0-21-generic-x86_64-with-glibc2.39</td>\n",
       "      <td>x86_64</td>\n",
       "      <td>8</td>\n",
       "      <td>16.64</td>\n",
       "    </tr>\n",
       "    <tr>\n",
       "      <th>141</th>\n",
       "      <td>ForecasterRecursive</td>\n",
       "      <td>LGBMRegressor</td>\n",
       "      <td>ForecasterRecursive__create_train_X_y</td>\n",
       "      <td>287fbd1c4920496341a9d5f9b9a9aa2a</td>\n",
       "      <td>0.004030</td>\n",
       "      <td>0.001069</td>\n",
       "      <td>2025-04-22 22:53:37.437481</td>\n",
       "      <td>3.12.9</td>\n",
       "      <td>0.16.0</td>\n",
       "      <td>1.26.4</td>\n",
       "      <td>2.2.3</td>\n",
       "      <td>1.4.2</td>\n",
       "      <td>4.6.0</td>\n",
       "      <td>Linux-6.11.0-21-generic-x86_64-with-glibc2.39</td>\n",
       "      <td>x86_64</td>\n",
       "      <td>8</td>\n",
       "      <td>16.64</td>\n",
       "    </tr>\n",
       "    <tr>\n",
       "      <th>177</th>\n",
       "      <td>ForecasterRecursive</td>\n",
       "      <td>LGBMRegressor</td>\n",
       "      <td>ForecasterRecursive__create_train_X_y</td>\n",
       "      <td>287fbd1c4920496341a9d5f9b9a9aa2a</td>\n",
       "      <td>0.009028</td>\n",
       "      <td>0.001789</td>\n",
       "      <td>2025-04-23 09:57:30.342790</td>\n",
       "      <td>3.12.9</td>\n",
       "      <td>0.16.0</td>\n",
       "      <td>1.26.4</td>\n",
       "      <td>2.2.3</td>\n",
       "      <td>1.4.2</td>\n",
       "      <td>4.6.0</td>\n",
       "      <td>Linux-6.11.0-21-generic-x86_64-with-glibc2.39</td>\n",
       "      <td>x86_64</td>\n",
       "      <td>8</td>\n",
       "      <td>16.64</td>\n",
       "    </tr>\n",
       "    <tr>\n",
       "      <th>189</th>\n",
       "      <td>ForecasterRecursive</td>\n",
       "      <td>LGBMRegressor</td>\n",
       "      <td>ForecasterRecursive__create_train_X_y</td>\n",
       "      <td>287fbd1c4920496341a9d5f9b9a9aa2a</td>\n",
       "      <td>0.006952</td>\n",
       "      <td>0.001764</td>\n",
       "      <td>2025-04-23 10:02:36.459602</td>\n",
       "      <td>3.12.9</td>\n",
       "      <td>0.16.0</td>\n",
       "      <td>2.2.5</td>\n",
       "      <td>2.2.3</td>\n",
       "      <td>1.6.1</td>\n",
       "      <td>4.6.0</td>\n",
       "      <td>Linux-6.11.0-21-generic-x86_64-with-glibc2.39</td>\n",
       "      <td>x86_64</td>\n",
       "      <td>8</td>\n",
       "      <td>16.64</td>\n",
       "    </tr>\n",
       "    <tr>\n",
       "      <th>201</th>\n",
       "      <td>ForecasterRecursive</td>\n",
       "      <td>LGBMRegressor</td>\n",
       "      <td>ForecasterRecursive__create_train_X_y</td>\n",
       "      <td>287fbd1c4920496341a9d5f9b9a9aa2a</td>\n",
       "      <td>0.004331</td>\n",
       "      <td>0.001167</td>\n",
       "      <td>2025-04-23 10:25:47.924809</td>\n",
       "      <td>3.12.9</td>\n",
       "      <td>0.16.0</td>\n",
       "      <td>2.2.5</td>\n",
       "      <td>2.2.3</td>\n",
       "      <td>1.6.1</td>\n",
       "      <td>4.6.0</td>\n",
       "      <td>Linux-6.11.0-21-generic-x86_64-with-glibc2.39</td>\n",
       "      <td>x86_64</td>\n",
       "      <td>8</td>\n",
       "      <td>16.64</td>\n",
       "    </tr>\n",
       "    <tr>\n",
       "      <th>213</th>\n",
       "      <td>ForecasterRecursive</td>\n",
       "      <td>LGBMRegressor</td>\n",
       "      <td>ForecasterRecursive__create_train_X_y</td>\n",
       "      <td>287fbd1c4920496341a9d5f9b9a9aa2a</td>\n",
       "      <td>0.004330</td>\n",
       "      <td>0.000551</td>\n",
       "      <td>2025-04-23 13:38:54.054080</td>\n",
       "      <td>3.12.9</td>\n",
       "      <td>0.16.0</td>\n",
       "      <td>2.2.5</td>\n",
       "      <td>2.2.3</td>\n",
       "      <td>1.6.1</td>\n",
       "      <td>4.6.0</td>\n",
       "      <td>Linux-6.11.0-21-generic-x86_64-with-glibc2.39</td>\n",
       "      <td>x86_64</td>\n",
       "      <td>8</td>\n",
       "      <td>16.64</td>\n",
       "    </tr>\n",
       "    <tr>\n",
       "      <th>225</th>\n",
       "      <td>ForecasterRecursive</td>\n",
       "      <td>LGBMRegressor</td>\n",
       "      <td>ForecasterRecursive__create_train_X_y</td>\n",
       "      <td>287fbd1c4920496341a9d5f9b9a9aa2a</td>\n",
       "      <td>0.003780</td>\n",
       "      <td>0.000300</td>\n",
       "      <td>2025-04-23 13:43:16.476060</td>\n",
       "      <td>3.12.9</td>\n",
       "      <td>0.16.0</td>\n",
       "      <td>2.2.5</td>\n",
       "      <td>2.2.3</td>\n",
       "      <td>1.6.1</td>\n",
       "      <td>4.6.0</td>\n",
       "      <td>Linux-6.11.0-21-generic-x86_64-with-glibc2.39</td>\n",
       "      <td>x86_64</td>\n",
       "      <td>8</td>\n",
       "      <td>16.64</td>\n",
       "    </tr>\n",
       "    <tr>\n",
       "      <th>237</th>\n",
       "      <td>ForecasterRecursive</td>\n",
       "      <td>LGBMRegressor</td>\n",
       "      <td>ForecasterRecursive__create_train_X_y</td>\n",
       "      <td>287fbd1c4920496341a9d5f9b9a9aa2a</td>\n",
       "      <td>0.004271</td>\n",
       "      <td>0.000442</td>\n",
       "      <td>2025-04-23 13:47:20.197102</td>\n",
       "      <td>3.12.9</td>\n",
       "      <td>0.16.0</td>\n",
       "      <td>2.2.5</td>\n",
       "      <td>2.2.3</td>\n",
       "      <td>1.6.1</td>\n",
       "      <td>4.6.0</td>\n",
       "      <td>Linux-6.11.0-21-generic-x86_64-with-glibc2.39</td>\n",
       "      <td>x86_64</td>\n",
       "      <td>8</td>\n",
       "      <td>16.64</td>\n",
       "    </tr>\n",
       "  </tbody>\n",
       "</table>\n",
       "</div>"
      ],
      "text/plain": [
       "         forecaster_name regressor_name  \\\n",
       "25   ForecasterRecursive  LGBMRegressor   \n",
       "27   ForecasterRecursive  LGBMRegressor   \n",
       "29   ForecasterRecursive  LGBMRegressor   \n",
       "33   ForecasterRecursive  LGBMRegressor   \n",
       "45   ForecasterRecursive  LGBMRegressor   \n",
       "57   ForecasterRecursive  LGBMRegressor   \n",
       "69   ForecasterRecursive  LGBMRegressor   \n",
       "81   ForecasterRecursive  LGBMRegressor   \n",
       "93   ForecasterRecursive  LGBMRegressor   \n",
       "129  ForecasterRecursive  LGBMRegressor   \n",
       "141  ForecasterRecursive  LGBMRegressor   \n",
       "177  ForecasterRecursive  LGBMRegressor   \n",
       "189  ForecasterRecursive  LGBMRegressor   \n",
       "201  ForecasterRecursive  LGBMRegressor   \n",
       "213  ForecasterRecursive  LGBMRegressor   \n",
       "225  ForecasterRecursive  LGBMRegressor   \n",
       "237  ForecasterRecursive  LGBMRegressor   \n",
       "\n",
       "                             function_name                     function_hash  \\\n",
       "25   ForecasterRecursive__create_train_X_y  287fbd1c4920496341a9d5f9b9a9aa2a   \n",
       "27   ForecasterRecursive__create_train_X_y  287fbd1c4920496341a9d5f9b9a9aa2a   \n",
       "29   ForecasterRecursive__create_train_X_y  287fbd1c4920496341a9d5f9b9a9aa2a   \n",
       "33   ForecasterRecursive__create_train_X_y  287fbd1c4920496341a9d5f9b9a9aa2a   \n",
       "45   ForecasterRecursive__create_train_X_y  287fbd1c4920496341a9d5f9b9a9aa2a   \n",
       "57   ForecasterRecursive__create_train_X_y  287fbd1c4920496341a9d5f9b9a9aa2a   \n",
       "69   ForecasterRecursive__create_train_X_y  287fbd1c4920496341a9d5f9b9a9aa2a   \n",
       "81   ForecasterRecursive__create_train_X_y  287fbd1c4920496341a9d5f9b9a9aa2a   \n",
       "93   ForecasterRecursive__create_train_X_y  287fbd1c4920496341a9d5f9b9a9aa2a   \n",
       "129  ForecasterRecursive__create_train_X_y  287fbd1c4920496341a9d5f9b9a9aa2a   \n",
       "141  ForecasterRecursive__create_train_X_y  287fbd1c4920496341a9d5f9b9a9aa2a   \n",
       "177  ForecasterRecursive__create_train_X_y  287fbd1c4920496341a9d5f9b9a9aa2a   \n",
       "189  ForecasterRecursive__create_train_X_y  287fbd1c4920496341a9d5f9b9a9aa2a   \n",
       "201  ForecasterRecursive__create_train_X_y  287fbd1c4920496341a9d5f9b9a9aa2a   \n",
       "213  ForecasterRecursive__create_train_X_y  287fbd1c4920496341a9d5f9b9a9aa2a   \n",
       "225  ForecasterRecursive__create_train_X_y  287fbd1c4920496341a9d5f9b9a9aa2a   \n",
       "237  ForecasterRecursive__create_train_X_y  287fbd1c4920496341a9d5f9b9a9aa2a   \n",
       "\n",
       "     run_time_avg  run_time_std_dev                   datetime python_version  \\\n",
       "25            NaN               NaN 2025-04-22 21:26:09.456096         3.12.9   \n",
       "27            NaN               NaN 2025-04-22 21:26:24.729070         3.12.9   \n",
       "29       0.002769          0.000295 2025-04-22 21:26:54.435579         3.12.9   \n",
       "33       0.002705          0.000142 2025-04-22 21:27:05.390762         3.12.9   \n",
       "45       0.003999          0.000602 2025-04-22 21:31:05.512059         3.12.9   \n",
       "57       0.005849          0.000840 2025-04-22 21:35:39.897474         3.12.9   \n",
       "69       0.005131          0.000689 2025-04-22 21:46:35.096647         3.12.9   \n",
       "81       0.004213          0.001393 2025-04-22 21:56:16.672542         3.12.9   \n",
       "93       0.005445          0.000559 2025-04-22 22:10:58.328841         3.12.9   \n",
       "129      0.006034          0.001732 2025-04-22 22:46:02.856538         3.12.9   \n",
       "141      0.004030          0.001069 2025-04-22 22:53:37.437481         3.12.9   \n",
       "177      0.009028          0.001789 2025-04-23 09:57:30.342790         3.12.9   \n",
       "189      0.006952          0.001764 2025-04-23 10:02:36.459602         3.12.9   \n",
       "201      0.004331          0.001167 2025-04-23 10:25:47.924809         3.12.9   \n",
       "213      0.004330          0.000551 2025-04-23 13:38:54.054080         3.12.9   \n",
       "225      0.003780          0.000300 2025-04-23 13:43:16.476060         3.12.9   \n",
       "237      0.004271          0.000442 2025-04-23 13:47:20.197102         3.12.9   \n",
       "\n",
       "    skforecast_version numpy_version pandas_version sklearn_version  \\\n",
       "25              0.14.0        1.26.4          2.2.3           1.4.2   \n",
       "27              0.14.0        1.26.4          2.2.3           1.4.2   \n",
       "29              0.14.0        1.26.4          2.2.3           1.4.2   \n",
       "33              0.14.0        1.26.4          2.2.3           1.4.2   \n",
       "45              0.14.0        1.26.4          2.2.3           1.4.2   \n",
       "57              0.15.0        1.26.4          2.2.3           1.4.2   \n",
       "69              0.15.0         2.2.5          2.2.3           1.6.1   \n",
       "81              0.16.0         2.2.5          2.2.3           1.6.1   \n",
       "93              0.16.0        1.26.4          2.2.3           1.6.1   \n",
       "129             0.15.0        1.26.4          2.2.3           1.4.2   \n",
       "141             0.16.0        1.26.4          2.2.3           1.4.2   \n",
       "177             0.16.0        1.26.4          2.2.3           1.4.2   \n",
       "189             0.16.0         2.2.5          2.2.3           1.6.1   \n",
       "201             0.16.0         2.2.5          2.2.3           1.6.1   \n",
       "213             0.16.0         2.2.5          2.2.3           1.6.1   \n",
       "225             0.16.0         2.2.5          2.2.3           1.6.1   \n",
       "237             0.16.0         2.2.5          2.2.3           1.6.1   \n",
       "\n",
       "    lightgbm_version                                       platform processor  \\\n",
       "25             4.6.0  Linux-6.11.0-21-generic-x86_64-with-glibc2.39    x86_64   \n",
       "27             4.6.0  Linux-6.11.0-21-generic-x86_64-with-glibc2.39    x86_64   \n",
       "29             4.6.0  Linux-6.11.0-21-generic-x86_64-with-glibc2.39    x86_64   \n",
       "33             4.6.0  Linux-6.11.0-21-generic-x86_64-with-glibc2.39    x86_64   \n",
       "45             4.6.0  Linux-6.11.0-21-generic-x86_64-with-glibc2.39    x86_64   \n",
       "57             4.6.0  Linux-6.11.0-21-generic-x86_64-with-glibc2.39    x86_64   \n",
       "69             4.6.0  Linux-6.11.0-21-generic-x86_64-with-glibc2.39    x86_64   \n",
       "81             4.6.0  Linux-6.11.0-21-generic-x86_64-with-glibc2.39    x86_64   \n",
       "93             4.6.0  Linux-6.11.0-21-generic-x86_64-with-glibc2.39    x86_64   \n",
       "129            4.6.0  Linux-6.11.0-21-generic-x86_64-with-glibc2.39    x86_64   \n",
       "141            4.6.0  Linux-6.11.0-21-generic-x86_64-with-glibc2.39    x86_64   \n",
       "177            4.6.0  Linux-6.11.0-21-generic-x86_64-with-glibc2.39    x86_64   \n",
       "189            4.6.0  Linux-6.11.0-21-generic-x86_64-with-glibc2.39    x86_64   \n",
       "201            4.6.0  Linux-6.11.0-21-generic-x86_64-with-glibc2.39    x86_64   \n",
       "213            4.6.0  Linux-6.11.0-21-generic-x86_64-with-glibc2.39    x86_64   \n",
       "225            4.6.0  Linux-6.11.0-21-generic-x86_64-with-glibc2.39    x86_64   \n",
       "237            4.6.0  Linux-6.11.0-21-generic-x86_64-with-glibc2.39    x86_64   \n",
       "\n",
       "     cpu_count  memory_gb  \n",
       "25           8      16.64  \n",
       "27           8      16.64  \n",
       "29           8      16.64  \n",
       "33           8      16.64  \n",
       "45           8      16.64  \n",
       "57           8      16.64  \n",
       "69           8      16.64  \n",
       "81           8      16.64  \n",
       "93           8      16.64  \n",
       "129          8      16.64  \n",
       "141          8      16.64  \n",
       "177          8      16.64  \n",
       "189          8      16.64  \n",
       "201          8      16.64  \n",
       "213          8      16.64  \n",
       "225          8      16.64  \n",
       "237          8      16.64  "
      ]
     },
     "metadata": {},
     "output_type": "display_data"
    },
    {
     "data": {
      "application/vnd.plotly.v1+json": {
       "config": {
        "plotlyServerURL": "https://plot.ly"
       },
       "data": [
        {
         "alignmentgroup": "True",
         "boxpoints": "all",
         "customdata": [
          [
           "ForecasterRecursive",
           "LGBMRegressor",
           "ForecasterRecursive__create_train_X_y",
           "287fbd1c4920496341a9d5f9b9a9aa2a",
           null,
           "2025-04-22T21:26:09.456096",
           "3.12.9",
           "1.26.4",
           "2.2.3",
           "1.4.2",
           "4.6.0",
           "Linux-6.11.0-21-generic-x86_64-with-glibc2.39",
           "x86_64",
           8,
           16.64
          ],
          [
           "ForecasterRecursive",
           "LGBMRegressor",
           "ForecasterRecursive__create_train_X_y",
           "287fbd1c4920496341a9d5f9b9a9aa2a",
           null,
           "2025-04-22T21:26:24.729070",
           "3.12.9",
           "1.26.4",
           "2.2.3",
           "1.4.2",
           "4.6.0",
           "Linux-6.11.0-21-generic-x86_64-with-glibc2.39",
           "x86_64",
           8,
           16.64
          ],
          [
           "ForecasterRecursive",
           "LGBMRegressor",
           "ForecasterRecursive__create_train_X_y",
           "287fbd1c4920496341a9d5f9b9a9aa2a",
           0.0002948461436100899,
           "2025-04-22T21:26:54.435579",
           "3.12.9",
           "1.26.4",
           "2.2.3",
           "1.4.2",
           "4.6.0",
           "Linux-6.11.0-21-generic-x86_64-with-glibc2.39",
           "x86_64",
           8,
           16.64
          ],
          [
           "ForecasterRecursive",
           "LGBMRegressor",
           "ForecasterRecursive__create_train_X_y",
           "287fbd1c4920496341a9d5f9b9a9aa2a",
           0.00014245970472750603,
           "2025-04-22T21:27:05.390762",
           "3.12.9",
           "1.26.4",
           "2.2.3",
           "1.4.2",
           "4.6.0",
           "Linux-6.11.0-21-generic-x86_64-with-glibc2.39",
           "x86_64",
           8,
           16.64
          ],
          [
           "ForecasterRecursive",
           "LGBMRegressor",
           "ForecasterRecursive__create_train_X_y",
           "287fbd1c4920496341a9d5f9b9a9aa2a",
           0.000601753208569619,
           "2025-04-22T21:31:05.512059",
           "3.12.9",
           "1.26.4",
           "2.2.3",
           "1.4.2",
           "4.6.0",
           "Linux-6.11.0-21-generic-x86_64-with-glibc2.39",
           "x86_64",
           8,
           16.64
          ]
         ],
         "fillcolor": "rgba(255,255,255,0)",
         "hoveron": "points",
         "hovertemplate": "skforecast_version=%{x}<br>run_time_avg=%{y}<br>forecaster_name=%{customdata[0]}<br>regressor_name=%{customdata[1]}<br>function_name=%{customdata[2]}<br>function_hash=%{customdata[3]}<br>run_time_std_dev=%{customdata[4]}<br>datetime=%{customdata[5]}<br>python_version=%{customdata[6]}<br>numpy_version=%{customdata[7]}<br>pandas_version=%{customdata[8]}<br>sklearn_version=%{customdata[9]}<br>lightgbm_version=%{customdata[10]}<br>platform=%{customdata[11]}<br>processor=%{customdata[12]}<br>cpu_count=%{customdata[13]}<br>memory_gb=%{customdata[14]}<extra></extra>",
         "jitter": true,
         "legendgroup": "0.14.0",
         "line": {
          "color": "rgba(255,255,255,0)"
         },
         "marker": {
          "color": "#636efa",
          "opacity": 0.7,
          "size": 10
         },
         "name": "0.14.0",
         "offsetgroup": "0.14.0",
         "orientation": "v",
         "pointpos": 0,
         "showlegend": true,
         "type": "box",
         "x": [
          "0.14.0",
          "0.14.0",
          "0.14.0",
          "0.14.0",
          "0.14.0"
         ],
         "x0": " ",
         "xaxis": "x",
         "y": {
          "bdata": "AAAAAAAA+H8AAAAAAAD4f2Zm1gzIr2Y/AABgSvEoZj8AAMQRx2FwPw==",
          "dtype": "f8"
         },
         "y0": " ",
         "yaxis": "y"
        },
        {
         "alignmentgroup": "True",
         "boxpoints": "all",
         "customdata": [
          [
           "ForecasterRecursive",
           "LGBMRegressor",
           "ForecasterRecursive__create_train_X_y",
           "287fbd1c4920496341a9d5f9b9a9aa2a",
           0.0008399680806365836,
           "2025-04-22T21:35:39.897474",
           "3.12.9",
           "1.26.4",
           "2.2.3",
           "1.4.2",
           "4.6.0",
           "Linux-6.11.0-21-generic-x86_64-with-glibc2.39",
           "x86_64",
           8,
           16.64
          ],
          [
           "ForecasterRecursive",
           "LGBMRegressor",
           "ForecasterRecursive__create_train_X_y",
           "287fbd1c4920496341a9d5f9b9a9aa2a",
           0.0006893804992806374,
           "2025-04-22T21:46:35.096647",
           "3.12.9",
           "2.2.5",
           "2.2.3",
           "1.6.1",
           "4.6.0",
           "Linux-6.11.0-21-generic-x86_64-with-glibc2.39",
           "x86_64",
           8,
           16.64
          ],
          [
           "ForecasterRecursive",
           "LGBMRegressor",
           "ForecasterRecursive__create_train_X_y",
           "287fbd1c4920496341a9d5f9b9a9aa2a",
           0.0017323162416013412,
           "2025-04-22T22:46:02.856538",
           "3.12.9",
           "1.26.4",
           "2.2.3",
           "1.4.2",
           "4.6.0",
           "Linux-6.11.0-21-generic-x86_64-with-glibc2.39",
           "x86_64",
           8,
           16.64
          ]
         ],
         "fillcolor": "rgba(255,255,255,0)",
         "hoveron": "points",
         "hovertemplate": "skforecast_version=%{x}<br>run_time_avg=%{y}<br>forecaster_name=%{customdata[0]}<br>regressor_name=%{customdata[1]}<br>function_name=%{customdata[2]}<br>function_hash=%{customdata[3]}<br>run_time_std_dev=%{customdata[4]}<br>datetime=%{customdata[5]}<br>python_version=%{customdata[6]}<br>numpy_version=%{customdata[7]}<br>pandas_version=%{customdata[8]}<br>sklearn_version=%{customdata[9]}<br>lightgbm_version=%{customdata[10]}<br>platform=%{customdata[11]}<br>processor=%{customdata[12]}<br>cpu_count=%{customdata[13]}<br>memory_gb=%{customdata[14]}<extra></extra>",
         "jitter": true,
         "legendgroup": "0.15.0",
         "line": {
          "color": "rgba(255,255,255,0)"
         },
         "marker": {
          "color": "#EF553B",
          "opacity": 0.7,
          "size": 10
         },
         "name": "0.15.0",
         "offsetgroup": "0.15.0",
         "orientation": "v",
         "pointpos": 0,
         "showlegend": true,
         "type": "box",
         "x": [
          "0.15.0",
          "0.15.0",
          "0.15.0"
         ],
         "x0": " ",
         "xaxis": "x",
         "y": {
          "bdata": "AABAsYT1dz8AALgvcgR1P5qZaYvztng/",
          "dtype": "f8"
         },
         "y0": " ",
         "yaxis": "y"
        },
        {
         "alignmentgroup": "True",
         "boxpoints": "all",
         "customdata": [
          [
           "ForecasterRecursive",
           "LGBMRegressor",
           "ForecasterRecursive__create_train_X_y",
           "287fbd1c4920496341a9d5f9b9a9aa2a",
           0.0005514738033405303,
           "2025-04-23T13:38:54.054080",
           "3.12.9",
           "2.2.5",
           "2.2.3",
           "1.6.1",
           "4.6.0",
           "Linux-6.11.0-21-generic-x86_64-with-glibc2.39",
           "x86_64",
           8,
           16.64
          ],
          [
           "ForecasterRecursive",
           "LGBMRegressor",
           "ForecasterRecursive__create_train_X_y",
           "287fbd1c4920496341a9d5f9b9a9aa2a",
           0.001167049545257741,
           "2025-04-23T10:25:47.924809",
           "3.12.9",
           "2.2.5",
           "2.2.3",
           "1.6.1",
           "4.6.0",
           "Linux-6.11.0-21-generic-x86_64-with-glibc2.39",
           "x86_64",
           8,
           16.64
          ],
          [
           "ForecasterRecursive",
           "LGBMRegressor",
           "ForecasterRecursive__create_train_X_y",
           "287fbd1c4920496341a9d5f9b9a9aa2a",
           0.0017644376009935026,
           "2025-04-23T10:02:36.459602",
           "3.12.9",
           "2.2.5",
           "2.2.3",
           "1.6.1",
           "4.6.0",
           "Linux-6.11.0-21-generic-x86_64-with-glibc2.39",
           "x86_64",
           8,
           16.64
          ],
          [
           "ForecasterRecursive",
           "LGBMRegressor",
           "ForecasterRecursive__create_train_X_y",
           "287fbd1c4920496341a9d5f9b9a9aa2a",
           0.000558665172431099,
           "2025-04-22T22:10:58.328841",
           "3.12.9",
           "1.26.4",
           "2.2.3",
           "1.6.1",
           "4.6.0",
           "Linux-6.11.0-21-generic-x86_64-with-glibc2.39",
           "x86_64",
           8,
           16.64
          ],
          [
           "ForecasterRecursive",
           "LGBMRegressor",
           "ForecasterRecursive__create_train_X_y",
           "287fbd1c4920496341a9d5f9b9a9aa2a",
           0.0010686662557239759,
           "2025-04-22T22:53:37.437481",
           "3.12.9",
           "1.26.4",
           "2.2.3",
           "1.4.2",
           "4.6.0",
           "Linux-6.11.0-21-generic-x86_64-with-glibc2.39",
           "x86_64",
           8,
           16.64
          ],
          [
           "ForecasterRecursive",
           "LGBMRegressor",
           "ForecasterRecursive__create_train_X_y",
           "287fbd1c4920496341a9d5f9b9a9aa2a",
           0.000299661546630767,
           "2025-04-23T13:43:16.476060",
           "3.12.9",
           "2.2.5",
           "2.2.3",
           "1.6.1",
           "4.6.0",
           "Linux-6.11.0-21-generic-x86_64-with-glibc2.39",
           "x86_64",
           8,
           16.64
          ],
          [
           "ForecasterRecursive",
           "LGBMRegressor",
           "ForecasterRecursive__create_train_X_y",
           "287fbd1c4920496341a9d5f9b9a9aa2a",
           0.0013932518143216649,
           "2025-04-22T21:56:16.672542",
           "3.12.9",
           "2.2.5",
           "2.2.3",
           "1.6.1",
           "4.6.0",
           "Linux-6.11.0-21-generic-x86_64-with-glibc2.39",
           "x86_64",
           8,
           16.64
          ],
          [
           "ForecasterRecursive",
           "LGBMRegressor",
           "ForecasterRecursive__create_train_X_y",
           "287fbd1c4920496341a9d5f9b9a9aa2a",
           0.0017888425552549387,
           "2025-04-23T09:57:30.342790",
           "3.12.9",
           "1.26.4",
           "2.2.3",
           "1.4.2",
           "4.6.0",
           "Linux-6.11.0-21-generic-x86_64-with-glibc2.39",
           "x86_64",
           8,
           16.64
          ],
          [
           "ForecasterRecursive",
           "LGBMRegressor",
           "ForecasterRecursive__create_train_X_y",
           "287fbd1c4920496341a9d5f9b9a9aa2a",
           0.00044157817257507454,
           "2025-04-23T13:47:20.197102",
           "3.12.9",
           "2.2.5",
           "2.2.3",
           "1.6.1",
           "4.6.0",
           "Linux-6.11.0-21-generic-x86_64-with-glibc2.39",
           "x86_64",
           8,
           16.64
          ]
         ],
         "fillcolor": "rgba(255,255,255,0)",
         "hoveron": "points",
         "hovertemplate": "skforecast_version=%{x}<br>run_time_avg=%{y}<br>forecaster_name=%{customdata[0]}<br>regressor_name=%{customdata[1]}<br>function_name=%{customdata[2]}<br>function_hash=%{customdata[3]}<br>run_time_std_dev=%{customdata[4]}<br>datetime=%{customdata[5]}<br>python_version=%{customdata[6]}<br>numpy_version=%{customdata[7]}<br>pandas_version=%{customdata[8]}<br>sklearn_version=%{customdata[9]}<br>lightgbm_version=%{customdata[10]}<br>platform=%{customdata[11]}<br>processor=%{customdata[12]}<br>cpu_count=%{customdata[13]}<br>memory_gb=%{customdata[14]}<extra></extra>",
         "jitter": true,
         "legendgroup": "0.16.0",
         "line": {
          "color": "rgba(255,255,255,0)"
         },
         "marker": {
          "color": "#00cc96",
          "opacity": 0.7,
          "size": 10
         },
         "name": "0.16.0",
         "offsetgroup": "0.16.0",
         "orientation": "v",
         "pointpos": 0,
         "showlegend": true,
         "type": "box",
         "x": [
          "0.16.0",
          "0.16.0",
          "0.16.0",
          "0.16.0",
          "0.16.0",
          "0.16.0",
          "0.16.0",
          "0.16.0",
          "0.16.0"
         ],
         "x0": " ",
         "xaxis": "x",
         "y": {
          "bdata": "Zmbm+Tq8cT9mZprABb1xPzMzpGHVeXw/mpnpWhBNdj8zMyMBS4FwPwAA8Oi59m4/mpmBZG5BcT+a2Vq/A32CPwAA4OijfnE/",
          "dtype": "f8"
         },
         "y0": " ",
         "yaxis": "y"
        },
        {
         "line": {
          "color": "black",
          "width": 2
         },
         "marker": {
          "size": 8
         },
         "mode": "lines+markers",
         "name": "Median",
         "showlegend": true,
         "type": "scatter",
         "x": [
          "0.14.0",
          "0.15.0",
          "0.16.0"
         ],
         "y": {
          "bdata": "ZmbWDMivZj8AAECxhPV3P2Zm5vk6vHE/",
          "dtype": "f8"
         }
        }
       ],
       "layout": {
        "boxmode": "overlay",
        "legend": {
         "title": {
          "text": "skforecast_version"
         },
         "tracegroupgap": 0
        },
        "margin": {
         "t": 60
        },
        "showlegend": true,
        "template": {
         "data": {
          "bar": [
           {
            "error_x": {
             "color": "#2a3f5f"
            },
            "error_y": {
             "color": "#2a3f5f"
            },
            "marker": {
             "line": {
              "color": "#E5ECF6",
              "width": 0.5
             },
             "pattern": {
              "fillmode": "overlay",
              "size": 10,
              "solidity": 0.2
             }
            },
            "type": "bar"
           }
          ],
          "barpolar": [
           {
            "marker": {
             "line": {
              "color": "#E5ECF6",
              "width": 0.5
             },
             "pattern": {
              "fillmode": "overlay",
              "size": 10,
              "solidity": 0.2
             }
            },
            "type": "barpolar"
           }
          ],
          "carpet": [
           {
            "aaxis": {
             "endlinecolor": "#2a3f5f",
             "gridcolor": "white",
             "linecolor": "white",
             "minorgridcolor": "white",
             "startlinecolor": "#2a3f5f"
            },
            "baxis": {
             "endlinecolor": "#2a3f5f",
             "gridcolor": "white",
             "linecolor": "white",
             "minorgridcolor": "white",
             "startlinecolor": "#2a3f5f"
            },
            "type": "carpet"
           }
          ],
          "choropleth": [
           {
            "colorbar": {
             "outlinewidth": 0,
             "ticks": ""
            },
            "type": "choropleth"
           }
          ],
          "contour": [
           {
            "colorbar": {
             "outlinewidth": 0,
             "ticks": ""
            },
            "colorscale": [
             [
              0,
              "#0d0887"
             ],
             [
              0.1111111111111111,
              "#46039f"
             ],
             [
              0.2222222222222222,
              "#7201a8"
             ],
             [
              0.3333333333333333,
              "#9c179e"
             ],
             [
              0.4444444444444444,
              "#bd3786"
             ],
             [
              0.5555555555555556,
              "#d8576b"
             ],
             [
              0.6666666666666666,
              "#ed7953"
             ],
             [
              0.7777777777777778,
              "#fb9f3a"
             ],
             [
              0.8888888888888888,
              "#fdca26"
             ],
             [
              1,
              "#f0f921"
             ]
            ],
            "type": "contour"
           }
          ],
          "contourcarpet": [
           {
            "colorbar": {
             "outlinewidth": 0,
             "ticks": ""
            },
            "type": "contourcarpet"
           }
          ],
          "heatmap": [
           {
            "colorbar": {
             "outlinewidth": 0,
             "ticks": ""
            },
            "colorscale": [
             [
              0,
              "#0d0887"
             ],
             [
              0.1111111111111111,
              "#46039f"
             ],
             [
              0.2222222222222222,
              "#7201a8"
             ],
             [
              0.3333333333333333,
              "#9c179e"
             ],
             [
              0.4444444444444444,
              "#bd3786"
             ],
             [
              0.5555555555555556,
              "#d8576b"
             ],
             [
              0.6666666666666666,
              "#ed7953"
             ],
             [
              0.7777777777777778,
              "#fb9f3a"
             ],
             [
              0.8888888888888888,
              "#fdca26"
             ],
             [
              1,
              "#f0f921"
             ]
            ],
            "type": "heatmap"
           }
          ],
          "histogram": [
           {
            "marker": {
             "pattern": {
              "fillmode": "overlay",
              "size": 10,
              "solidity": 0.2
             }
            },
            "type": "histogram"
           }
          ],
          "histogram2d": [
           {
            "colorbar": {
             "outlinewidth": 0,
             "ticks": ""
            },
            "colorscale": [
             [
              0,
              "#0d0887"
             ],
             [
              0.1111111111111111,
              "#46039f"
             ],
             [
              0.2222222222222222,
              "#7201a8"
             ],
             [
              0.3333333333333333,
              "#9c179e"
             ],
             [
              0.4444444444444444,
              "#bd3786"
             ],
             [
              0.5555555555555556,
              "#d8576b"
             ],
             [
              0.6666666666666666,
              "#ed7953"
             ],
             [
              0.7777777777777778,
              "#fb9f3a"
             ],
             [
              0.8888888888888888,
              "#fdca26"
             ],
             [
              1,
              "#f0f921"
             ]
            ],
            "type": "histogram2d"
           }
          ],
          "histogram2dcontour": [
           {
            "colorbar": {
             "outlinewidth": 0,
             "ticks": ""
            },
            "colorscale": [
             [
              0,
              "#0d0887"
             ],
             [
              0.1111111111111111,
              "#46039f"
             ],
             [
              0.2222222222222222,
              "#7201a8"
             ],
             [
              0.3333333333333333,
              "#9c179e"
             ],
             [
              0.4444444444444444,
              "#bd3786"
             ],
             [
              0.5555555555555556,
              "#d8576b"
             ],
             [
              0.6666666666666666,
              "#ed7953"
             ],
             [
              0.7777777777777778,
              "#fb9f3a"
             ],
             [
              0.8888888888888888,
              "#fdca26"
             ],
             [
              1,
              "#f0f921"
             ]
            ],
            "type": "histogram2dcontour"
           }
          ],
          "mesh3d": [
           {
            "colorbar": {
             "outlinewidth": 0,
             "ticks": ""
            },
            "type": "mesh3d"
           }
          ],
          "parcoords": [
           {
            "line": {
             "colorbar": {
              "outlinewidth": 0,
              "ticks": ""
             }
            },
            "type": "parcoords"
           }
          ],
          "pie": [
           {
            "automargin": true,
            "type": "pie"
           }
          ],
          "scatter": [
           {
            "fillpattern": {
             "fillmode": "overlay",
             "size": 10,
             "solidity": 0.2
            },
            "type": "scatter"
           }
          ],
          "scatter3d": [
           {
            "line": {
             "colorbar": {
              "outlinewidth": 0,
              "ticks": ""
             }
            },
            "marker": {
             "colorbar": {
              "outlinewidth": 0,
              "ticks": ""
             }
            },
            "type": "scatter3d"
           }
          ],
          "scattercarpet": [
           {
            "marker": {
             "colorbar": {
              "outlinewidth": 0,
              "ticks": ""
             }
            },
            "type": "scattercarpet"
           }
          ],
          "scattergeo": [
           {
            "marker": {
             "colorbar": {
              "outlinewidth": 0,
              "ticks": ""
             }
            },
            "type": "scattergeo"
           }
          ],
          "scattergl": [
           {
            "marker": {
             "colorbar": {
              "outlinewidth": 0,
              "ticks": ""
             }
            },
            "type": "scattergl"
           }
          ],
          "scattermap": [
           {
            "marker": {
             "colorbar": {
              "outlinewidth": 0,
              "ticks": ""
             }
            },
            "type": "scattermap"
           }
          ],
          "scattermapbox": [
           {
            "marker": {
             "colorbar": {
              "outlinewidth": 0,
              "ticks": ""
             }
            },
            "type": "scattermapbox"
           }
          ],
          "scatterpolar": [
           {
            "marker": {
             "colorbar": {
              "outlinewidth": 0,
              "ticks": ""
             }
            },
            "type": "scatterpolar"
           }
          ],
          "scatterpolargl": [
           {
            "marker": {
             "colorbar": {
              "outlinewidth": 0,
              "ticks": ""
             }
            },
            "type": "scatterpolargl"
           }
          ],
          "scatterternary": [
           {
            "marker": {
             "colorbar": {
              "outlinewidth": 0,
              "ticks": ""
             }
            },
            "type": "scatterternary"
           }
          ],
          "surface": [
           {
            "colorbar": {
             "outlinewidth": 0,
             "ticks": ""
            },
            "colorscale": [
             [
              0,
              "#0d0887"
             ],
             [
              0.1111111111111111,
              "#46039f"
             ],
             [
              0.2222222222222222,
              "#7201a8"
             ],
             [
              0.3333333333333333,
              "#9c179e"
             ],
             [
              0.4444444444444444,
              "#bd3786"
             ],
             [
              0.5555555555555556,
              "#d8576b"
             ],
             [
              0.6666666666666666,
              "#ed7953"
             ],
             [
              0.7777777777777778,
              "#fb9f3a"
             ],
             [
              0.8888888888888888,
              "#fdca26"
             ],
             [
              1,
              "#f0f921"
             ]
            ],
            "type": "surface"
           }
          ],
          "table": [
           {
            "cells": {
             "fill": {
              "color": "#EBF0F8"
             },
             "line": {
              "color": "white"
             }
            },
            "header": {
             "fill": {
              "color": "#C8D4E3"
             },
             "line": {
              "color": "white"
             }
            },
            "type": "table"
           }
          ]
         },
         "layout": {
          "annotationdefaults": {
           "arrowcolor": "#2a3f5f",
           "arrowhead": 0,
           "arrowwidth": 1
          },
          "autotypenumbers": "strict",
          "coloraxis": {
           "colorbar": {
            "outlinewidth": 0,
            "ticks": ""
           }
          },
          "colorscale": {
           "diverging": [
            [
             0,
             "#8e0152"
            ],
            [
             0.1,
             "#c51b7d"
            ],
            [
             0.2,
             "#de77ae"
            ],
            [
             0.3,
             "#f1b6da"
            ],
            [
             0.4,
             "#fde0ef"
            ],
            [
             0.5,
             "#f7f7f7"
            ],
            [
             0.6,
             "#e6f5d0"
            ],
            [
             0.7,
             "#b8e186"
            ],
            [
             0.8,
             "#7fbc41"
            ],
            [
             0.9,
             "#4d9221"
            ],
            [
             1,
             "#276419"
            ]
           ],
           "sequential": [
            [
             0,
             "#0d0887"
            ],
            [
             0.1111111111111111,
             "#46039f"
            ],
            [
             0.2222222222222222,
             "#7201a8"
            ],
            [
             0.3333333333333333,
             "#9c179e"
            ],
            [
             0.4444444444444444,
             "#bd3786"
            ],
            [
             0.5555555555555556,
             "#d8576b"
            ],
            [
             0.6666666666666666,
             "#ed7953"
            ],
            [
             0.7777777777777778,
             "#fb9f3a"
            ],
            [
             0.8888888888888888,
             "#fdca26"
            ],
            [
             1,
             "#f0f921"
            ]
           ],
           "sequentialminus": [
            [
             0,
             "#0d0887"
            ],
            [
             0.1111111111111111,
             "#46039f"
            ],
            [
             0.2222222222222222,
             "#7201a8"
            ],
            [
             0.3333333333333333,
             "#9c179e"
            ],
            [
             0.4444444444444444,
             "#bd3786"
            ],
            [
             0.5555555555555556,
             "#d8576b"
            ],
            [
             0.6666666666666666,
             "#ed7953"
            ],
            [
             0.7777777777777778,
             "#fb9f3a"
            ],
            [
             0.8888888888888888,
             "#fdca26"
            ],
            [
             1,
             "#f0f921"
            ]
           ]
          },
          "colorway": [
           "#636efa",
           "#EF553B",
           "#00cc96",
           "#ab63fa",
           "#FFA15A",
           "#19d3f3",
           "#FF6692",
           "#B6E880",
           "#FF97FF",
           "#FECB52"
          ],
          "font": {
           "color": "#2a3f5f"
          },
          "geo": {
           "bgcolor": "white",
           "lakecolor": "white",
           "landcolor": "#E5ECF6",
           "showlakes": true,
           "showland": true,
           "subunitcolor": "white"
          },
          "hoverlabel": {
           "align": "left"
          },
          "hovermode": "closest",
          "mapbox": {
           "style": "light"
          },
          "paper_bgcolor": "white",
          "plot_bgcolor": "#E5ECF6",
          "polar": {
           "angularaxis": {
            "gridcolor": "white",
            "linecolor": "white",
            "ticks": ""
           },
           "bgcolor": "#E5ECF6",
           "radialaxis": {
            "gridcolor": "white",
            "linecolor": "white",
            "ticks": ""
           }
          },
          "scene": {
           "xaxis": {
            "backgroundcolor": "#E5ECF6",
            "gridcolor": "white",
            "gridwidth": 2,
            "linecolor": "white",
            "showbackground": true,
            "ticks": "",
            "zerolinecolor": "white"
           },
           "yaxis": {
            "backgroundcolor": "#E5ECF6",
            "gridcolor": "white",
            "gridwidth": 2,
            "linecolor": "white",
            "showbackground": true,
            "ticks": "",
            "zerolinecolor": "white"
           },
           "zaxis": {
            "backgroundcolor": "#E5ECF6",
            "gridcolor": "white",
            "gridwidth": 2,
            "linecolor": "white",
            "showbackground": true,
            "ticks": "",
            "zerolinecolor": "white"
           }
          },
          "shapedefaults": {
           "line": {
            "color": "#2a3f5f"
           }
          },
          "ternary": {
           "aaxis": {
            "gridcolor": "white",
            "linecolor": "white",
            "ticks": ""
           },
           "baxis": {
            "gridcolor": "white",
            "linecolor": "white",
            "ticks": ""
           },
           "bgcolor": "#E5ECF6",
           "caxis": {
            "gridcolor": "white",
            "linecolor": "white",
            "ticks": ""
           }
          },
          "title": {
           "x": 0.05
          },
          "xaxis": {
           "automargin": true,
           "gridcolor": "white",
           "linecolor": "white",
           "ticks": "",
           "title": {
            "standoff": 15
           },
           "zerolinecolor": "white",
           "zerolinewidth": 2
          },
          "yaxis": {
           "automargin": true,
           "gridcolor": "white",
           "linecolor": "white",
           "ticks": "",
           "title": {
            "standoff": 15
           },
           "zerolinecolor": "white",
           "zerolinewidth": 2
          }
         }
        },
        "title": {
         "text": "Execution time of ForecasterRecursive__create_train_X_y"
        },
        "xaxis": {
         "anchor": "y",
         "categoryarray": [
          "0.14.0",
          "0.15.0",
          "0.16.0"
         ],
         "categoryorder": "array",
         "domain": [
          0,
          1
         ],
         "title": {
          "text": "skforecast version"
         }
        },
        "yaxis": {
         "anchor": "x",
         "domain": [
          0,
          1
         ],
         "title": {
          "text": "Execution time (seconds)"
         }
        }
       }
      }
     },
     "metadata": {},
     "output_type": "display_data"
    },
    {
     "data": {
      "application/vnd.microsoft.datawrangler.viewer.v0+json": {
       "columns": [
        {
         "name": "index",
         "rawType": "int64",
         "type": "integer"
        },
        {
         "name": "forecaster_name",
         "rawType": "object",
         "type": "string"
        },
        {
         "name": "regressor_name",
         "rawType": "object",
         "type": "string"
        },
        {
         "name": "function_name",
         "rawType": "object",
         "type": "string"
        },
        {
         "name": "function_hash",
         "rawType": "object",
         "type": "string"
        },
        {
         "name": "run_time_avg",
         "rawType": "float64",
         "type": "float"
        },
        {
         "name": "run_time_std_dev",
         "rawType": "float64",
         "type": "float"
        },
        {
         "name": "datetime",
         "rawType": "datetime64[ns]",
         "type": "datetime"
        },
        {
         "name": "python_version",
         "rawType": "object",
         "type": "string"
        },
        {
         "name": "skforecast_version",
         "rawType": "object",
         "type": "string"
        },
        {
         "name": "numpy_version",
         "rawType": "object",
         "type": "string"
        },
        {
         "name": "pandas_version",
         "rawType": "object",
         "type": "string"
        },
        {
         "name": "sklearn_version",
         "rawType": "object",
         "type": "string"
        },
        {
         "name": "lightgbm_version",
         "rawType": "object",
         "type": "string"
        },
        {
         "name": "platform",
         "rawType": "object",
         "type": "string"
        },
        {
         "name": "processor",
         "rawType": "object",
         "type": "string"
        },
        {
         "name": "cpu_count",
         "rawType": "int64",
         "type": "integer"
        },
        {
         "name": "memory_gb",
         "rawType": "float64",
         "type": "float"
        }
       ],
       "conversionMethod": "pd.DataFrame",
       "ref": "348b60e2-c222-4a46-9f56-914f198488c1",
       "rows": [
        [
         "30",
         "ForecasterRecursive",
         "LGBMRegressor",
         "ForecasterRecursive_predict",
         "99297f20a640837258e82490d71f7b0e",
         null,
         null,
         "2025-04-22 21:26:54.634434",
         "3.12.9",
         "0.14.0",
         "1.26.4",
         "2.2.3",
         "1.4.2",
         "4.6.0",
         "Linux-6.11.0-21-generic-x86_64-with-glibc2.39",
         "x86_64",
         "8",
         "16.64"
        ],
        [
         "34",
         "ForecasterRecursive",
         "LGBMRegressor",
         "ForecasterRecursive_predict",
         "4f8ae3116340ac90eb9e66eac42789de",
         "0.06302378599993971",
         "0.017257045262775488",
         "2025-04-22 21:27:05.582838",
         "3.12.9",
         "0.14.0",
         "1.26.4",
         "2.2.3",
         "1.4.2",
         "4.6.0",
         "Linux-6.11.0-21-generic-x86_64-with-glibc2.39",
         "x86_64",
         "8",
         "16.64"
        ],
        [
         "46",
         "ForecasterRecursive",
         "LGBMRegressor",
         "ForecasterRecursive_predict",
         "4f8ae3116340ac90eb9e66eac42789de",
         "0.0692673124000521",
         "0.006338137223124398",
         "2025-04-22 21:31:05.776671",
         "3.12.9",
         "0.14.0",
         "1.26.4",
         "2.2.3",
         "1.4.2",
         "4.6.0",
         "Linux-6.11.0-21-generic-x86_64-with-glibc2.39",
         "x86_64",
         "8",
         "16.64"
        ],
        [
         "58",
         "ForecasterRecursive",
         "LGBMRegressor",
         "ForecasterRecursive_predict",
         "4f8ae3116340ac90eb9e66eac42789de",
         "0.10826653120002447",
         "0.002876559169517922",
         "2025-04-22 21:35:40.348862",
         "3.12.9",
         "0.15.0",
         "1.26.4",
         "2.2.3",
         "1.4.2",
         "4.6.0",
         "Linux-6.11.0-21-generic-x86_64-with-glibc2.39",
         "x86_64",
         "8",
         "16.64"
        ],
        [
         "70",
         "ForecasterRecursive",
         "LGBMRegressor",
         "ForecasterRecursive_predict",
         "4f8ae3116340ac90eb9e66eac42789de",
         "0.1360293936002563",
         "0.009254422748895057",
         "2025-04-22 21:46:35.685379",
         "3.12.9",
         "0.15.0",
         "2.2.5",
         "2.2.3",
         "1.6.1",
         "4.6.0",
         "Linux-6.11.0-21-generic-x86_64-with-glibc2.39",
         "x86_64",
         "8",
         "16.64"
        ],
        [
         "82",
         "ForecasterRecursive",
         "LGBMRegressor",
         "ForecasterRecursive_predict",
         "4f8ae3116340ac90eb9e66eac42789de",
         "0.13823197739993703",
         "0.022104186274092396",
         "2025-04-22 21:56:17.128241",
         "3.12.9",
         "0.16.0",
         "2.2.5",
         "2.2.3",
         "1.6.1",
         "4.6.0",
         "Linux-6.11.0-21-generic-x86_64-with-glibc2.39",
         "x86_64",
         "8",
         "16.64"
        ],
        [
         "94",
         "ForecasterRecursive",
         "LGBMRegressor",
         "ForecasterRecursive_predict",
         "4f8ae3116340ac90eb9e66eac42789de",
         "0.12150309910002761",
         "0.00415655142423245",
         "2025-04-22 22:10:58.751548",
         "3.12.9",
         "0.16.0",
         "1.26.4",
         "2.2.3",
         "1.6.1",
         "4.6.0",
         "Linux-6.11.0-21-generic-x86_64-with-glibc2.39",
         "x86_64",
         "8",
         "16.64"
        ],
        [
         "130",
         "ForecasterRecursive",
         "LGBMRegressor",
         "ForecasterRecursive_predict",
         "4f8ae3116340ac90eb9e66eac42789de",
         "0.10744829840023158",
         "0.00818481924196299",
         "2025-04-22 22:46:03.358586",
         "3.12.9",
         "0.15.0",
         "1.26.4",
         "2.2.3",
         "1.4.2",
         "4.6.0",
         "Linux-6.11.0-21-generic-x86_64-with-glibc2.39",
         "x86_64",
         "8",
         "16.64"
        ],
        [
         "142",
         "ForecasterRecursive",
         "LGBMRegressor",
         "ForecasterRecursive_predict",
         "4f8ae3116340ac90eb9e66eac42789de",
         "0.10024811080020299",
         "0.0015856404294839295",
         "2025-04-22 22:53:37.813899",
         "3.12.9",
         "0.16.0",
         "1.26.4",
         "2.2.3",
         "1.4.2",
         "4.6.0",
         "Linux-6.11.0-21-generic-x86_64-with-glibc2.39",
         "x86_64",
         "8",
         "16.64"
        ],
        [
         "178",
         "ForecasterRecursive",
         "LGBMRegressor",
         "ForecasterRecursive_predict",
         "4f8ae3116340ac90eb9e66eac42789de",
         "0.1682599158999892",
         "0.014947193000032699",
         "2025-04-23 09:57:30.973435",
         "3.12.9",
         "0.16.0",
         "1.26.4",
         "2.2.3",
         "1.4.2",
         "4.6.0",
         "Linux-6.11.0-21-generic-x86_64-with-glibc2.39",
         "x86_64",
         "8",
         "16.64"
        ],
        [
         "190",
         "ForecasterRecursive",
         "LGBMRegressor",
         "ForecasterRecursive_predict",
         "4f8ae3116340ac90eb9e66eac42789de",
         "0.13799724519999473",
         "0.010880317601788578",
         "2025-04-23 10:02:37.037951",
         "3.12.9",
         "0.16.0",
         "2.2.5",
         "2.2.3",
         "1.6.1",
         "4.6.0",
         "Linux-6.11.0-21-generic-x86_64-with-glibc2.39",
         "x86_64",
         "8",
         "16.64"
        ],
        [
         "202",
         "ForecasterRecursive",
         "LGBMRegressor",
         "ForecasterRecursive_predict",
         "4f8ae3116340ac90eb9e66eac42789de",
         "0.1619480384999406",
         "0.04098254662090657",
         "2025-04-23 10:25:48.357055",
         "3.12.9",
         "0.16.0",
         "2.2.5",
         "2.2.3",
         "1.6.1",
         "4.6.0",
         "Linux-6.11.0-21-generic-x86_64-with-glibc2.39",
         "x86_64",
         "8",
         "16.64"
        ],
        [
         "214",
         "ForecasterRecursive",
         "LGBMRegressor",
         "ForecasterRecursive_predict",
         "4f8ae3116340ac90eb9e66eac42789de",
         "0.08908564230014235",
         "0.009581073208563627",
         "2025-04-23 13:38:54.346107",
         "3.12.9",
         "0.16.0",
         "2.2.5",
         "2.2.3",
         "1.6.1",
         "4.6.0",
         "Linux-6.11.0-21-generic-x86_64-with-glibc2.39",
         "x86_64",
         "8",
         "16.64"
        ],
        [
         "226",
         "ForecasterRecursive",
         "LGBMRegressor",
         "ForecasterRecursive_predict",
         "4f8ae3116340ac90eb9e66eac42789de",
         "0.09560323069990773",
         "0.02835259247978944",
         "2025-04-23 13:43:16.730232",
         "3.12.9",
         "0.16.0",
         "2.2.5",
         "2.2.3",
         "1.6.1",
         "4.6.0",
         "Linux-6.11.0-21-generic-x86_64-with-glibc2.39",
         "x86_64",
         "8",
         "16.64"
        ],
        [
         "238",
         "ForecasterRecursive",
         "LGBMRegressor",
         "ForecasterRecursive_predict",
         "4f8ae3116340ac90eb9e66eac42789de",
         "0.09822309689998292",
         "0.017412384800701657",
         "2025-04-23 13:47:20.596802",
         "3.12.9",
         "0.16.0",
         "2.2.5",
         "2.2.3",
         "1.6.1",
         "4.6.0",
         "Linux-6.11.0-21-generic-x86_64-with-glibc2.39",
         "x86_64",
         "8",
         "16.64"
        ]
       ],
       "shape": {
        "columns": 17,
        "rows": 15
       }
      },
      "text/html": [
       "<div>\n",
       "<style scoped>\n",
       "    .dataframe tbody tr th:only-of-type {\n",
       "        vertical-align: middle;\n",
       "    }\n",
       "\n",
       "    .dataframe tbody tr th {\n",
       "        vertical-align: top;\n",
       "    }\n",
       "\n",
       "    .dataframe thead th {\n",
       "        text-align: right;\n",
       "    }\n",
       "</style>\n",
       "<table border=\"1\" class=\"dataframe\">\n",
       "  <thead>\n",
       "    <tr style=\"text-align: right;\">\n",
       "      <th></th>\n",
       "      <th>forecaster_name</th>\n",
       "      <th>regressor_name</th>\n",
       "      <th>function_name</th>\n",
       "      <th>function_hash</th>\n",
       "      <th>run_time_avg</th>\n",
       "      <th>run_time_std_dev</th>\n",
       "      <th>datetime</th>\n",
       "      <th>python_version</th>\n",
       "      <th>skforecast_version</th>\n",
       "      <th>numpy_version</th>\n",
       "      <th>pandas_version</th>\n",
       "      <th>sklearn_version</th>\n",
       "      <th>lightgbm_version</th>\n",
       "      <th>platform</th>\n",
       "      <th>processor</th>\n",
       "      <th>cpu_count</th>\n",
       "      <th>memory_gb</th>\n",
       "    </tr>\n",
       "  </thead>\n",
       "  <tbody>\n",
       "    <tr>\n",
       "      <th>30</th>\n",
       "      <td>ForecasterRecursive</td>\n",
       "      <td>LGBMRegressor</td>\n",
       "      <td>ForecasterRecursive_predict</td>\n",
       "      <td>99297f20a640837258e82490d71f7b0e</td>\n",
       "      <td>NaN</td>\n",
       "      <td>NaN</td>\n",
       "      <td>2025-04-22 21:26:54.634434</td>\n",
       "      <td>3.12.9</td>\n",
       "      <td>0.14.0</td>\n",
       "      <td>1.26.4</td>\n",
       "      <td>2.2.3</td>\n",
       "      <td>1.4.2</td>\n",
       "      <td>4.6.0</td>\n",
       "      <td>Linux-6.11.0-21-generic-x86_64-with-glibc2.39</td>\n",
       "      <td>x86_64</td>\n",
       "      <td>8</td>\n",
       "      <td>16.64</td>\n",
       "    </tr>\n",
       "    <tr>\n",
       "      <th>34</th>\n",
       "      <td>ForecasterRecursive</td>\n",
       "      <td>LGBMRegressor</td>\n",
       "      <td>ForecasterRecursive_predict</td>\n",
       "      <td>4f8ae3116340ac90eb9e66eac42789de</td>\n",
       "      <td>0.063024</td>\n",
       "      <td>0.017257</td>\n",
       "      <td>2025-04-22 21:27:05.582838</td>\n",
       "      <td>3.12.9</td>\n",
       "      <td>0.14.0</td>\n",
       "      <td>1.26.4</td>\n",
       "      <td>2.2.3</td>\n",
       "      <td>1.4.2</td>\n",
       "      <td>4.6.0</td>\n",
       "      <td>Linux-6.11.0-21-generic-x86_64-with-glibc2.39</td>\n",
       "      <td>x86_64</td>\n",
       "      <td>8</td>\n",
       "      <td>16.64</td>\n",
       "    </tr>\n",
       "    <tr>\n",
       "      <th>46</th>\n",
       "      <td>ForecasterRecursive</td>\n",
       "      <td>LGBMRegressor</td>\n",
       "      <td>ForecasterRecursive_predict</td>\n",
       "      <td>4f8ae3116340ac90eb9e66eac42789de</td>\n",
       "      <td>0.069267</td>\n",
       "      <td>0.006338</td>\n",
       "      <td>2025-04-22 21:31:05.776671</td>\n",
       "      <td>3.12.9</td>\n",
       "      <td>0.14.0</td>\n",
       "      <td>1.26.4</td>\n",
       "      <td>2.2.3</td>\n",
       "      <td>1.4.2</td>\n",
       "      <td>4.6.0</td>\n",
       "      <td>Linux-6.11.0-21-generic-x86_64-with-glibc2.39</td>\n",
       "      <td>x86_64</td>\n",
       "      <td>8</td>\n",
       "      <td>16.64</td>\n",
       "    </tr>\n",
       "    <tr>\n",
       "      <th>58</th>\n",
       "      <td>ForecasterRecursive</td>\n",
       "      <td>LGBMRegressor</td>\n",
       "      <td>ForecasterRecursive_predict</td>\n",
       "      <td>4f8ae3116340ac90eb9e66eac42789de</td>\n",
       "      <td>0.108267</td>\n",
       "      <td>0.002877</td>\n",
       "      <td>2025-04-22 21:35:40.348862</td>\n",
       "      <td>3.12.9</td>\n",
       "      <td>0.15.0</td>\n",
       "      <td>1.26.4</td>\n",
       "      <td>2.2.3</td>\n",
       "      <td>1.4.2</td>\n",
       "      <td>4.6.0</td>\n",
       "      <td>Linux-6.11.0-21-generic-x86_64-with-glibc2.39</td>\n",
       "      <td>x86_64</td>\n",
       "      <td>8</td>\n",
       "      <td>16.64</td>\n",
       "    </tr>\n",
       "    <tr>\n",
       "      <th>70</th>\n",
       "      <td>ForecasterRecursive</td>\n",
       "      <td>LGBMRegressor</td>\n",
       "      <td>ForecasterRecursive_predict</td>\n",
       "      <td>4f8ae3116340ac90eb9e66eac42789de</td>\n",
       "      <td>0.136029</td>\n",
       "      <td>0.009254</td>\n",
       "      <td>2025-04-22 21:46:35.685379</td>\n",
       "      <td>3.12.9</td>\n",
       "      <td>0.15.0</td>\n",
       "      <td>2.2.5</td>\n",
       "      <td>2.2.3</td>\n",
       "      <td>1.6.1</td>\n",
       "      <td>4.6.0</td>\n",
       "      <td>Linux-6.11.0-21-generic-x86_64-with-glibc2.39</td>\n",
       "      <td>x86_64</td>\n",
       "      <td>8</td>\n",
       "      <td>16.64</td>\n",
       "    </tr>\n",
       "    <tr>\n",
       "      <th>82</th>\n",
       "      <td>ForecasterRecursive</td>\n",
       "      <td>LGBMRegressor</td>\n",
       "      <td>ForecasterRecursive_predict</td>\n",
       "      <td>4f8ae3116340ac90eb9e66eac42789de</td>\n",
       "      <td>0.138232</td>\n",
       "      <td>0.022104</td>\n",
       "      <td>2025-04-22 21:56:17.128241</td>\n",
       "      <td>3.12.9</td>\n",
       "      <td>0.16.0</td>\n",
       "      <td>2.2.5</td>\n",
       "      <td>2.2.3</td>\n",
       "      <td>1.6.1</td>\n",
       "      <td>4.6.0</td>\n",
       "      <td>Linux-6.11.0-21-generic-x86_64-with-glibc2.39</td>\n",
       "      <td>x86_64</td>\n",
       "      <td>8</td>\n",
       "      <td>16.64</td>\n",
       "    </tr>\n",
       "    <tr>\n",
       "      <th>94</th>\n",
       "      <td>ForecasterRecursive</td>\n",
       "      <td>LGBMRegressor</td>\n",
       "      <td>ForecasterRecursive_predict</td>\n",
       "      <td>4f8ae3116340ac90eb9e66eac42789de</td>\n",
       "      <td>0.121503</td>\n",
       "      <td>0.004157</td>\n",
       "      <td>2025-04-22 22:10:58.751548</td>\n",
       "      <td>3.12.9</td>\n",
       "      <td>0.16.0</td>\n",
       "      <td>1.26.4</td>\n",
       "      <td>2.2.3</td>\n",
       "      <td>1.6.1</td>\n",
       "      <td>4.6.0</td>\n",
       "      <td>Linux-6.11.0-21-generic-x86_64-with-glibc2.39</td>\n",
       "      <td>x86_64</td>\n",
       "      <td>8</td>\n",
       "      <td>16.64</td>\n",
       "    </tr>\n",
       "    <tr>\n",
       "      <th>130</th>\n",
       "      <td>ForecasterRecursive</td>\n",
       "      <td>LGBMRegressor</td>\n",
       "      <td>ForecasterRecursive_predict</td>\n",
       "      <td>4f8ae3116340ac90eb9e66eac42789de</td>\n",
       "      <td>0.107448</td>\n",
       "      <td>0.008185</td>\n",
       "      <td>2025-04-22 22:46:03.358586</td>\n",
       "      <td>3.12.9</td>\n",
       "      <td>0.15.0</td>\n",
       "      <td>1.26.4</td>\n",
       "      <td>2.2.3</td>\n",
       "      <td>1.4.2</td>\n",
       "      <td>4.6.0</td>\n",
       "      <td>Linux-6.11.0-21-generic-x86_64-with-glibc2.39</td>\n",
       "      <td>x86_64</td>\n",
       "      <td>8</td>\n",
       "      <td>16.64</td>\n",
       "    </tr>\n",
       "    <tr>\n",
       "      <th>142</th>\n",
       "      <td>ForecasterRecursive</td>\n",
       "      <td>LGBMRegressor</td>\n",
       "      <td>ForecasterRecursive_predict</td>\n",
       "      <td>4f8ae3116340ac90eb9e66eac42789de</td>\n",
       "      <td>0.100248</td>\n",
       "      <td>0.001586</td>\n",
       "      <td>2025-04-22 22:53:37.813899</td>\n",
       "      <td>3.12.9</td>\n",
       "      <td>0.16.0</td>\n",
       "      <td>1.26.4</td>\n",
       "      <td>2.2.3</td>\n",
       "      <td>1.4.2</td>\n",
       "      <td>4.6.0</td>\n",
       "      <td>Linux-6.11.0-21-generic-x86_64-with-glibc2.39</td>\n",
       "      <td>x86_64</td>\n",
       "      <td>8</td>\n",
       "      <td>16.64</td>\n",
       "    </tr>\n",
       "    <tr>\n",
       "      <th>178</th>\n",
       "      <td>ForecasterRecursive</td>\n",
       "      <td>LGBMRegressor</td>\n",
       "      <td>ForecasterRecursive_predict</td>\n",
       "      <td>4f8ae3116340ac90eb9e66eac42789de</td>\n",
       "      <td>0.168260</td>\n",
       "      <td>0.014947</td>\n",
       "      <td>2025-04-23 09:57:30.973435</td>\n",
       "      <td>3.12.9</td>\n",
       "      <td>0.16.0</td>\n",
       "      <td>1.26.4</td>\n",
       "      <td>2.2.3</td>\n",
       "      <td>1.4.2</td>\n",
       "      <td>4.6.0</td>\n",
       "      <td>Linux-6.11.0-21-generic-x86_64-with-glibc2.39</td>\n",
       "      <td>x86_64</td>\n",
       "      <td>8</td>\n",
       "      <td>16.64</td>\n",
       "    </tr>\n",
       "    <tr>\n",
       "      <th>190</th>\n",
       "      <td>ForecasterRecursive</td>\n",
       "      <td>LGBMRegressor</td>\n",
       "      <td>ForecasterRecursive_predict</td>\n",
       "      <td>4f8ae3116340ac90eb9e66eac42789de</td>\n",
       "      <td>0.137997</td>\n",
       "      <td>0.010880</td>\n",
       "      <td>2025-04-23 10:02:37.037951</td>\n",
       "      <td>3.12.9</td>\n",
       "      <td>0.16.0</td>\n",
       "      <td>2.2.5</td>\n",
       "      <td>2.2.3</td>\n",
       "      <td>1.6.1</td>\n",
       "      <td>4.6.0</td>\n",
       "      <td>Linux-6.11.0-21-generic-x86_64-with-glibc2.39</td>\n",
       "      <td>x86_64</td>\n",
       "      <td>8</td>\n",
       "      <td>16.64</td>\n",
       "    </tr>\n",
       "    <tr>\n",
       "      <th>202</th>\n",
       "      <td>ForecasterRecursive</td>\n",
       "      <td>LGBMRegressor</td>\n",
       "      <td>ForecasterRecursive_predict</td>\n",
       "      <td>4f8ae3116340ac90eb9e66eac42789de</td>\n",
       "      <td>0.161948</td>\n",
       "      <td>0.040983</td>\n",
       "      <td>2025-04-23 10:25:48.357055</td>\n",
       "      <td>3.12.9</td>\n",
       "      <td>0.16.0</td>\n",
       "      <td>2.2.5</td>\n",
       "      <td>2.2.3</td>\n",
       "      <td>1.6.1</td>\n",
       "      <td>4.6.0</td>\n",
       "      <td>Linux-6.11.0-21-generic-x86_64-with-glibc2.39</td>\n",
       "      <td>x86_64</td>\n",
       "      <td>8</td>\n",
       "      <td>16.64</td>\n",
       "    </tr>\n",
       "    <tr>\n",
       "      <th>214</th>\n",
       "      <td>ForecasterRecursive</td>\n",
       "      <td>LGBMRegressor</td>\n",
       "      <td>ForecasterRecursive_predict</td>\n",
       "      <td>4f8ae3116340ac90eb9e66eac42789de</td>\n",
       "      <td>0.089086</td>\n",
       "      <td>0.009581</td>\n",
       "      <td>2025-04-23 13:38:54.346107</td>\n",
       "      <td>3.12.9</td>\n",
       "      <td>0.16.0</td>\n",
       "      <td>2.2.5</td>\n",
       "      <td>2.2.3</td>\n",
       "      <td>1.6.1</td>\n",
       "      <td>4.6.0</td>\n",
       "      <td>Linux-6.11.0-21-generic-x86_64-with-glibc2.39</td>\n",
       "      <td>x86_64</td>\n",
       "      <td>8</td>\n",
       "      <td>16.64</td>\n",
       "    </tr>\n",
       "    <tr>\n",
       "      <th>226</th>\n",
       "      <td>ForecasterRecursive</td>\n",
       "      <td>LGBMRegressor</td>\n",
       "      <td>ForecasterRecursive_predict</td>\n",
       "      <td>4f8ae3116340ac90eb9e66eac42789de</td>\n",
       "      <td>0.095603</td>\n",
       "      <td>0.028353</td>\n",
       "      <td>2025-04-23 13:43:16.730232</td>\n",
       "      <td>3.12.9</td>\n",
       "      <td>0.16.0</td>\n",
       "      <td>2.2.5</td>\n",
       "      <td>2.2.3</td>\n",
       "      <td>1.6.1</td>\n",
       "      <td>4.6.0</td>\n",
       "      <td>Linux-6.11.0-21-generic-x86_64-with-glibc2.39</td>\n",
       "      <td>x86_64</td>\n",
       "      <td>8</td>\n",
       "      <td>16.64</td>\n",
       "    </tr>\n",
       "    <tr>\n",
       "      <th>238</th>\n",
       "      <td>ForecasterRecursive</td>\n",
       "      <td>LGBMRegressor</td>\n",
       "      <td>ForecasterRecursive_predict</td>\n",
       "      <td>4f8ae3116340ac90eb9e66eac42789de</td>\n",
       "      <td>0.098223</td>\n",
       "      <td>0.017412</td>\n",
       "      <td>2025-04-23 13:47:20.596802</td>\n",
       "      <td>3.12.9</td>\n",
       "      <td>0.16.0</td>\n",
       "      <td>2.2.5</td>\n",
       "      <td>2.2.3</td>\n",
       "      <td>1.6.1</td>\n",
       "      <td>4.6.0</td>\n",
       "      <td>Linux-6.11.0-21-generic-x86_64-with-glibc2.39</td>\n",
       "      <td>x86_64</td>\n",
       "      <td>8</td>\n",
       "      <td>16.64</td>\n",
       "    </tr>\n",
       "  </tbody>\n",
       "</table>\n",
       "</div>"
      ],
      "text/plain": [
       "         forecaster_name regressor_name                function_name  \\\n",
       "30   ForecasterRecursive  LGBMRegressor  ForecasterRecursive_predict   \n",
       "34   ForecasterRecursive  LGBMRegressor  ForecasterRecursive_predict   \n",
       "46   ForecasterRecursive  LGBMRegressor  ForecasterRecursive_predict   \n",
       "58   ForecasterRecursive  LGBMRegressor  ForecasterRecursive_predict   \n",
       "70   ForecasterRecursive  LGBMRegressor  ForecasterRecursive_predict   \n",
       "82   ForecasterRecursive  LGBMRegressor  ForecasterRecursive_predict   \n",
       "94   ForecasterRecursive  LGBMRegressor  ForecasterRecursive_predict   \n",
       "130  ForecasterRecursive  LGBMRegressor  ForecasterRecursive_predict   \n",
       "142  ForecasterRecursive  LGBMRegressor  ForecasterRecursive_predict   \n",
       "178  ForecasterRecursive  LGBMRegressor  ForecasterRecursive_predict   \n",
       "190  ForecasterRecursive  LGBMRegressor  ForecasterRecursive_predict   \n",
       "202  ForecasterRecursive  LGBMRegressor  ForecasterRecursive_predict   \n",
       "214  ForecasterRecursive  LGBMRegressor  ForecasterRecursive_predict   \n",
       "226  ForecasterRecursive  LGBMRegressor  ForecasterRecursive_predict   \n",
       "238  ForecasterRecursive  LGBMRegressor  ForecasterRecursive_predict   \n",
       "\n",
       "                        function_hash  run_time_avg  run_time_std_dev  \\\n",
       "30   99297f20a640837258e82490d71f7b0e           NaN               NaN   \n",
       "34   4f8ae3116340ac90eb9e66eac42789de      0.063024          0.017257   \n",
       "46   4f8ae3116340ac90eb9e66eac42789de      0.069267          0.006338   \n",
       "58   4f8ae3116340ac90eb9e66eac42789de      0.108267          0.002877   \n",
       "70   4f8ae3116340ac90eb9e66eac42789de      0.136029          0.009254   \n",
       "82   4f8ae3116340ac90eb9e66eac42789de      0.138232          0.022104   \n",
       "94   4f8ae3116340ac90eb9e66eac42789de      0.121503          0.004157   \n",
       "130  4f8ae3116340ac90eb9e66eac42789de      0.107448          0.008185   \n",
       "142  4f8ae3116340ac90eb9e66eac42789de      0.100248          0.001586   \n",
       "178  4f8ae3116340ac90eb9e66eac42789de      0.168260          0.014947   \n",
       "190  4f8ae3116340ac90eb9e66eac42789de      0.137997          0.010880   \n",
       "202  4f8ae3116340ac90eb9e66eac42789de      0.161948          0.040983   \n",
       "214  4f8ae3116340ac90eb9e66eac42789de      0.089086          0.009581   \n",
       "226  4f8ae3116340ac90eb9e66eac42789de      0.095603          0.028353   \n",
       "238  4f8ae3116340ac90eb9e66eac42789de      0.098223          0.017412   \n",
       "\n",
       "                      datetime python_version skforecast_version  \\\n",
       "30  2025-04-22 21:26:54.634434         3.12.9             0.14.0   \n",
       "34  2025-04-22 21:27:05.582838         3.12.9             0.14.0   \n",
       "46  2025-04-22 21:31:05.776671         3.12.9             0.14.0   \n",
       "58  2025-04-22 21:35:40.348862         3.12.9             0.15.0   \n",
       "70  2025-04-22 21:46:35.685379         3.12.9             0.15.0   \n",
       "82  2025-04-22 21:56:17.128241         3.12.9             0.16.0   \n",
       "94  2025-04-22 22:10:58.751548         3.12.9             0.16.0   \n",
       "130 2025-04-22 22:46:03.358586         3.12.9             0.15.0   \n",
       "142 2025-04-22 22:53:37.813899         3.12.9             0.16.0   \n",
       "178 2025-04-23 09:57:30.973435         3.12.9             0.16.0   \n",
       "190 2025-04-23 10:02:37.037951         3.12.9             0.16.0   \n",
       "202 2025-04-23 10:25:48.357055         3.12.9             0.16.0   \n",
       "214 2025-04-23 13:38:54.346107         3.12.9             0.16.0   \n",
       "226 2025-04-23 13:43:16.730232         3.12.9             0.16.0   \n",
       "238 2025-04-23 13:47:20.596802         3.12.9             0.16.0   \n",
       "\n",
       "    numpy_version pandas_version sklearn_version lightgbm_version  \\\n",
       "30         1.26.4          2.2.3           1.4.2            4.6.0   \n",
       "34         1.26.4          2.2.3           1.4.2            4.6.0   \n",
       "46         1.26.4          2.2.3           1.4.2            4.6.0   \n",
       "58         1.26.4          2.2.3           1.4.2            4.6.0   \n",
       "70          2.2.5          2.2.3           1.6.1            4.6.0   \n",
       "82          2.2.5          2.2.3           1.6.1            4.6.0   \n",
       "94         1.26.4          2.2.3           1.6.1            4.6.0   \n",
       "130        1.26.4          2.2.3           1.4.2            4.6.0   \n",
       "142        1.26.4          2.2.3           1.4.2            4.6.0   \n",
       "178        1.26.4          2.2.3           1.4.2            4.6.0   \n",
       "190         2.2.5          2.2.3           1.6.1            4.6.0   \n",
       "202         2.2.5          2.2.3           1.6.1            4.6.0   \n",
       "214         2.2.5          2.2.3           1.6.1            4.6.0   \n",
       "226         2.2.5          2.2.3           1.6.1            4.6.0   \n",
       "238         2.2.5          2.2.3           1.6.1            4.6.0   \n",
       "\n",
       "                                          platform processor  cpu_count  \\\n",
       "30   Linux-6.11.0-21-generic-x86_64-with-glibc2.39    x86_64          8   \n",
       "34   Linux-6.11.0-21-generic-x86_64-with-glibc2.39    x86_64          8   \n",
       "46   Linux-6.11.0-21-generic-x86_64-with-glibc2.39    x86_64          8   \n",
       "58   Linux-6.11.0-21-generic-x86_64-with-glibc2.39    x86_64          8   \n",
       "70   Linux-6.11.0-21-generic-x86_64-with-glibc2.39    x86_64          8   \n",
       "82   Linux-6.11.0-21-generic-x86_64-with-glibc2.39    x86_64          8   \n",
       "94   Linux-6.11.0-21-generic-x86_64-with-glibc2.39    x86_64          8   \n",
       "130  Linux-6.11.0-21-generic-x86_64-with-glibc2.39    x86_64          8   \n",
       "142  Linux-6.11.0-21-generic-x86_64-with-glibc2.39    x86_64          8   \n",
       "178  Linux-6.11.0-21-generic-x86_64-with-glibc2.39    x86_64          8   \n",
       "190  Linux-6.11.0-21-generic-x86_64-with-glibc2.39    x86_64          8   \n",
       "202  Linux-6.11.0-21-generic-x86_64-with-glibc2.39    x86_64          8   \n",
       "214  Linux-6.11.0-21-generic-x86_64-with-glibc2.39    x86_64          8   \n",
       "226  Linux-6.11.0-21-generic-x86_64-with-glibc2.39    x86_64          8   \n",
       "238  Linux-6.11.0-21-generic-x86_64-with-glibc2.39    x86_64          8   \n",
       "\n",
       "     memory_gb  \n",
       "30       16.64  \n",
       "34       16.64  \n",
       "46       16.64  \n",
       "58       16.64  \n",
       "70       16.64  \n",
       "82       16.64  \n",
       "94       16.64  \n",
       "130      16.64  \n",
       "142      16.64  \n",
       "178      16.64  \n",
       "190      16.64  \n",
       "202      16.64  \n",
       "214      16.64  \n",
       "226      16.64  \n",
       "238      16.64  "
      ]
     },
     "metadata": {},
     "output_type": "display_data"
    },
    {
     "data": {
      "application/vnd.plotly.v1+json": {
       "config": {
        "plotlyServerURL": "https://plot.ly"
       },
       "data": [
        {
         "alignmentgroup": "True",
         "boxpoints": "all",
         "customdata": [
          [
           "ForecasterRecursive",
           "LGBMRegressor",
           "ForecasterRecursive_predict",
           "99297f20a640837258e82490d71f7b0e",
           null,
           "2025-04-22T21:26:54.634434",
           "3.12.9",
           "1.26.4",
           "2.2.3",
           "1.4.2",
           "4.6.0",
           "Linux-6.11.0-21-generic-x86_64-with-glibc2.39",
           "x86_64",
           8,
           16.64
          ],
          [
           "ForecasterRecursive",
           "LGBMRegressor",
           "ForecasterRecursive_predict",
           "4f8ae3116340ac90eb9e66eac42789de",
           0.017257045262775488,
           "2025-04-22T21:27:05.582838",
           "3.12.9",
           "1.26.4",
           "2.2.3",
           "1.4.2",
           "4.6.0",
           "Linux-6.11.0-21-generic-x86_64-with-glibc2.39",
           "x86_64",
           8,
           16.64
          ],
          [
           "ForecasterRecursive",
           "LGBMRegressor",
           "ForecasterRecursive_predict",
           "4f8ae3116340ac90eb9e66eac42789de",
           0.006338137223124398,
           "2025-04-22T21:31:05.776671",
           "3.12.9",
           "1.26.4",
           "2.2.3",
           "1.4.2",
           "4.6.0",
           "Linux-6.11.0-21-generic-x86_64-with-glibc2.39",
           "x86_64",
           8,
           16.64
          ]
         ],
         "fillcolor": "rgba(255,255,255,0)",
         "hoveron": "points",
         "hovertemplate": "skforecast_version=%{x}<br>run_time_avg=%{y}<br>forecaster_name=%{customdata[0]}<br>regressor_name=%{customdata[1]}<br>function_name=%{customdata[2]}<br>function_hash=%{customdata[3]}<br>run_time_std_dev=%{customdata[4]}<br>datetime=%{customdata[5]}<br>python_version=%{customdata[6]}<br>numpy_version=%{customdata[7]}<br>pandas_version=%{customdata[8]}<br>sklearn_version=%{customdata[9]}<br>lightgbm_version=%{customdata[10]}<br>platform=%{customdata[11]}<br>processor=%{customdata[12]}<br>cpu_count=%{customdata[13]}<br>memory_gb=%{customdata[14]}<extra></extra>",
         "jitter": true,
         "legendgroup": "0.14.0",
         "line": {
          "color": "rgba(255,255,255,0)"
         },
         "marker": {
          "color": "#636efa",
          "opacity": 0.7,
          "size": 10
         },
         "name": "0.14.0",
         "offsetgroup": "0.14.0",
         "orientation": "v",
         "pointpos": 0,
         "showlegend": true,
         "type": "box",
         "x": [
          "0.14.0",
          "0.14.0",
          "0.14.0"
         ],
         "x0": " ",
         "xaxis": "x",
         "y": {
          "bdata": "AAAAAAAA+H9mZr2rUyKwP2amcKmAu7E/",
          "dtype": "f8"
         },
         "y0": " ",
         "yaxis": "y"
        },
        {
         "alignmentgroup": "True",
         "boxpoints": "all",
         "customdata": [
          [
           "ForecasterRecursive",
           "LGBMRegressor",
           "ForecasterRecursive_predict",
           "4f8ae3116340ac90eb9e66eac42789de",
           0.002876559169517922,
           "2025-04-22T21:35:40.348862",
           "3.12.9",
           "1.26.4",
           "2.2.3",
           "1.4.2",
           "4.6.0",
           "Linux-6.11.0-21-generic-x86_64-with-glibc2.39",
           "x86_64",
           8,
           16.64
          ],
          [
           "ForecasterRecursive",
           "LGBMRegressor",
           "ForecasterRecursive_predict",
           "4f8ae3116340ac90eb9e66eac42789de",
           0.009254422748895057,
           "2025-04-22T21:46:35.685379",
           "3.12.9",
           "2.2.5",
           "2.2.3",
           "1.6.1",
           "4.6.0",
           "Linux-6.11.0-21-generic-x86_64-with-glibc2.39",
           "x86_64",
           8,
           16.64
          ],
          [
           "ForecasterRecursive",
           "LGBMRegressor",
           "ForecasterRecursive_predict",
           "4f8ae3116340ac90eb9e66eac42789de",
           0.00818481924196299,
           "2025-04-22T22:46:03.358586",
           "3.12.9",
           "1.26.4",
           "2.2.3",
           "1.4.2",
           "4.6.0",
           "Linux-6.11.0-21-generic-x86_64-with-glibc2.39",
           "x86_64",
           8,
           16.64
          ]
         ],
         "fillcolor": "rgba(255,255,255,0)",
         "hoveron": "points",
         "hovertemplate": "skforecast_version=%{x}<br>run_time_avg=%{y}<br>forecaster_name=%{customdata[0]}<br>regressor_name=%{customdata[1]}<br>function_name=%{customdata[2]}<br>function_hash=%{customdata[3]}<br>run_time_std_dev=%{customdata[4]}<br>datetime=%{customdata[5]}<br>python_version=%{customdata[6]}<br>numpy_version=%{customdata[7]}<br>pandas_version=%{customdata[8]}<br>sklearn_version=%{customdata[9]}<br>lightgbm_version=%{customdata[10]}<br>platform=%{customdata[11]}<br>processor=%{customdata[12]}<br>cpu_count=%{customdata[13]}<br>memory_gb=%{customdata[14]}<extra></extra>",
         "jitter": true,
         "legendgroup": "0.15.0",
         "line": {
          "color": "rgba(255,255,255,0)"
         },
         "marker": {
          "color": "#EF553B",
          "opacity": 0.7,
          "size": 10
         },
         "name": "0.15.0",
         "offsetgroup": "0.15.0",
         "orientation": "v",
         "pointpos": 0,
         "showlegend": true,
         "type": "box",
         "x": [
          "0.15.0",
          "0.15.0",
          "0.15.0"
         ],
         "x0": " ",
         "xaxis": "x",
         "y": {
          "bdata": "ZmbB+lq3uz9mZmdCaWnBP83Mo0+7gbs/",
          "dtype": "f8"
         },
         "y0": " ",
         "yaxis": "y"
        },
        {
         "alignmentgroup": "True",
         "boxpoints": "all",
         "customdata": [
          [
           "ForecasterRecursive",
           "LGBMRegressor",
           "ForecasterRecursive_predict",
           "4f8ae3116340ac90eb9e66eac42789de",
           0.022104186274092396,
           "2025-04-22T21:56:17.128241",
           "3.12.9",
           "2.2.5",
           "2.2.3",
           "1.6.1",
           "4.6.0",
           "Linux-6.11.0-21-generic-x86_64-with-glibc2.39",
           "x86_64",
           8,
           16.64
          ],
          [
           "ForecasterRecursive",
           "LGBMRegressor",
           "ForecasterRecursive_predict",
           "4f8ae3116340ac90eb9e66eac42789de",
           0.00415655142423245,
           "2025-04-22T22:10:58.751548",
           "3.12.9",
           "1.26.4",
           "2.2.3",
           "1.6.1",
           "4.6.0",
           "Linux-6.11.0-21-generic-x86_64-with-glibc2.39",
           "x86_64",
           8,
           16.64
          ],
          [
           "ForecasterRecursive",
           "LGBMRegressor",
           "ForecasterRecursive_predict",
           "4f8ae3116340ac90eb9e66eac42789de",
           0.0015856404294839295,
           "2025-04-22T22:53:37.813899",
           "3.12.9",
           "1.26.4",
           "2.2.3",
           "1.4.2",
           "4.6.0",
           "Linux-6.11.0-21-generic-x86_64-with-glibc2.39",
           "x86_64",
           8,
           16.64
          ],
          [
           "ForecasterRecursive",
           "LGBMRegressor",
           "ForecasterRecursive_predict",
           "4f8ae3116340ac90eb9e66eac42789de",
           0.014947193000032699,
           "2025-04-23T09:57:30.973435",
           "3.12.9",
           "1.26.4",
           "2.2.3",
           "1.4.2",
           "4.6.0",
           "Linux-6.11.0-21-generic-x86_64-with-glibc2.39",
           "x86_64",
           8,
           16.64
          ],
          [
           "ForecasterRecursive",
           "LGBMRegressor",
           "ForecasterRecursive_predict",
           "4f8ae3116340ac90eb9e66eac42789de",
           0.010880317601788578,
           "2025-04-23T10:02:37.037951",
           "3.12.9",
           "2.2.5",
           "2.2.3",
           "1.6.1",
           "4.6.0",
           "Linux-6.11.0-21-generic-x86_64-with-glibc2.39",
           "x86_64",
           8,
           16.64
          ],
          [
           "ForecasterRecursive",
           "LGBMRegressor",
           "ForecasterRecursive_predict",
           "4f8ae3116340ac90eb9e66eac42789de",
           0.04098254662090657,
           "2025-04-23T10:25:48.357055",
           "3.12.9",
           "2.2.5",
           "2.2.3",
           "1.6.1",
           "4.6.0",
           "Linux-6.11.0-21-generic-x86_64-with-glibc2.39",
           "x86_64",
           8,
           16.64
          ],
          [
           "ForecasterRecursive",
           "LGBMRegressor",
           "ForecasterRecursive_predict",
           "4f8ae3116340ac90eb9e66eac42789de",
           0.009581073208563627,
           "2025-04-23T13:38:54.346107",
           "3.12.9",
           "2.2.5",
           "2.2.3",
           "1.6.1",
           "4.6.0",
           "Linux-6.11.0-21-generic-x86_64-with-glibc2.39",
           "x86_64",
           8,
           16.64
          ],
          [
           "ForecasterRecursive",
           "LGBMRegressor",
           "ForecasterRecursive_predict",
           "4f8ae3116340ac90eb9e66eac42789de",
           0.02835259247978944,
           "2025-04-23T13:43:16.730232",
           "3.12.9",
           "2.2.5",
           "2.2.3",
           "1.6.1",
           "4.6.0",
           "Linux-6.11.0-21-generic-x86_64-with-glibc2.39",
           "x86_64",
           8,
           16.64
          ],
          [
           "ForecasterRecursive",
           "LGBMRegressor",
           "ForecasterRecursive_predict",
           "4f8ae3116340ac90eb9e66eac42789de",
           0.017412384800701657,
           "2025-04-23T13:47:20.596802",
           "3.12.9",
           "2.2.5",
           "2.2.3",
           "1.6.1",
           "4.6.0",
           "Linux-6.11.0-21-generic-x86_64-with-glibc2.39",
           "x86_64",
           8,
           16.64
          ]
         ],
         "fillcolor": "rgba(255,255,255,0)",
         "hoveron": "points",
         "hovertemplate": "skforecast_version=%{x}<br>run_time_avg=%{y}<br>forecaster_name=%{customdata[0]}<br>regressor_name=%{customdata[1]}<br>function_name=%{customdata[2]}<br>function_hash=%{customdata[3]}<br>run_time_std_dev=%{customdata[4]}<br>datetime=%{customdata[5]}<br>python_version=%{customdata[6]}<br>numpy_version=%{customdata[7]}<br>pandas_version=%{customdata[8]}<br>sklearn_version=%{customdata[9]}<br>lightgbm_version=%{customdata[10]}<br>platform=%{customdata[11]}<br>processor=%{customdata[12]}<br>cpu_count=%{customdata[13]}<br>memory_gb=%{customdata[14]}<extra></extra>",
         "jitter": true,
         "legendgroup": "0.16.0",
         "line": {
          "color": "rgba(255,255,255,0)"
         },
         "marker": {
          "color": "#00cc96",
          "opacity": 0.7,
          "size": 10
         },
         "name": "0.16.0",
         "offsetgroup": "0.16.0",
         "orientation": "v",
         "pointpos": 0,
         "showlegend": true,
         "type": "box",
         "x": [
          "0.16.0",
          "0.16.0",
          "0.16.0",
          "0.16.0",
          "0.16.0",
          "0.16.0",
          "0.16.0",
          "0.16.0",
          "0.16.0"
         ],
         "x0": " ",
         "xaxis": "x",
         "y": {
          "bdata": "mtkY35WxwT/NTP+80xq/P2ZmXzXcqbk/M1MCeoqJxT+aOYnL5KnBP5oZgZy2usQ/ZuY4EFHOtj8AgD8NdHm4PzOz5RwmJbk/",
          "dtype": "f8"
         },
         "y0": " ",
         "yaxis": "y"
        },
        {
         "line": {
          "color": "black",
          "width": 2
         },
         "marker": {
          "size": 8
         },
         "mode": "lines+markers",
         "name": "Median",
         "showlegend": true,
         "type": "scatter",
         "x": [
          "0.14.0",
          "0.15.0",
          "0.16.0"
         ],
         "y": {
          "bdata": "ZgaXKurusD9mZsH6Wre7P81M/7zTGr8/",
          "dtype": "f8"
         }
        }
       ],
       "layout": {
        "boxmode": "overlay",
        "legend": {
         "title": {
          "text": "skforecast_version"
         },
         "tracegroupgap": 0
        },
        "margin": {
         "t": 60
        },
        "showlegend": true,
        "template": {
         "data": {
          "bar": [
           {
            "error_x": {
             "color": "#2a3f5f"
            },
            "error_y": {
             "color": "#2a3f5f"
            },
            "marker": {
             "line": {
              "color": "#E5ECF6",
              "width": 0.5
             },
             "pattern": {
              "fillmode": "overlay",
              "size": 10,
              "solidity": 0.2
             }
            },
            "type": "bar"
           }
          ],
          "barpolar": [
           {
            "marker": {
             "line": {
              "color": "#E5ECF6",
              "width": 0.5
             },
             "pattern": {
              "fillmode": "overlay",
              "size": 10,
              "solidity": 0.2
             }
            },
            "type": "barpolar"
           }
          ],
          "carpet": [
           {
            "aaxis": {
             "endlinecolor": "#2a3f5f",
             "gridcolor": "white",
             "linecolor": "white",
             "minorgridcolor": "white",
             "startlinecolor": "#2a3f5f"
            },
            "baxis": {
             "endlinecolor": "#2a3f5f",
             "gridcolor": "white",
             "linecolor": "white",
             "minorgridcolor": "white",
             "startlinecolor": "#2a3f5f"
            },
            "type": "carpet"
           }
          ],
          "choropleth": [
           {
            "colorbar": {
             "outlinewidth": 0,
             "ticks": ""
            },
            "type": "choropleth"
           }
          ],
          "contour": [
           {
            "colorbar": {
             "outlinewidth": 0,
             "ticks": ""
            },
            "colorscale": [
             [
              0,
              "#0d0887"
             ],
             [
              0.1111111111111111,
              "#46039f"
             ],
             [
              0.2222222222222222,
              "#7201a8"
             ],
             [
              0.3333333333333333,
              "#9c179e"
             ],
             [
              0.4444444444444444,
              "#bd3786"
             ],
             [
              0.5555555555555556,
              "#d8576b"
             ],
             [
              0.6666666666666666,
              "#ed7953"
             ],
             [
              0.7777777777777778,
              "#fb9f3a"
             ],
             [
              0.8888888888888888,
              "#fdca26"
             ],
             [
              1,
              "#f0f921"
             ]
            ],
            "type": "contour"
           }
          ],
          "contourcarpet": [
           {
            "colorbar": {
             "outlinewidth": 0,
             "ticks": ""
            },
            "type": "contourcarpet"
           }
          ],
          "heatmap": [
           {
            "colorbar": {
             "outlinewidth": 0,
             "ticks": ""
            },
            "colorscale": [
             [
              0,
              "#0d0887"
             ],
             [
              0.1111111111111111,
              "#46039f"
             ],
             [
              0.2222222222222222,
              "#7201a8"
             ],
             [
              0.3333333333333333,
              "#9c179e"
             ],
             [
              0.4444444444444444,
              "#bd3786"
             ],
             [
              0.5555555555555556,
              "#d8576b"
             ],
             [
              0.6666666666666666,
              "#ed7953"
             ],
             [
              0.7777777777777778,
              "#fb9f3a"
             ],
             [
              0.8888888888888888,
              "#fdca26"
             ],
             [
              1,
              "#f0f921"
             ]
            ],
            "type": "heatmap"
           }
          ],
          "histogram": [
           {
            "marker": {
             "pattern": {
              "fillmode": "overlay",
              "size": 10,
              "solidity": 0.2
             }
            },
            "type": "histogram"
           }
          ],
          "histogram2d": [
           {
            "colorbar": {
             "outlinewidth": 0,
             "ticks": ""
            },
            "colorscale": [
             [
              0,
              "#0d0887"
             ],
             [
              0.1111111111111111,
              "#46039f"
             ],
             [
              0.2222222222222222,
              "#7201a8"
             ],
             [
              0.3333333333333333,
              "#9c179e"
             ],
             [
              0.4444444444444444,
              "#bd3786"
             ],
             [
              0.5555555555555556,
              "#d8576b"
             ],
             [
              0.6666666666666666,
              "#ed7953"
             ],
             [
              0.7777777777777778,
              "#fb9f3a"
             ],
             [
              0.8888888888888888,
              "#fdca26"
             ],
             [
              1,
              "#f0f921"
             ]
            ],
            "type": "histogram2d"
           }
          ],
          "histogram2dcontour": [
           {
            "colorbar": {
             "outlinewidth": 0,
             "ticks": ""
            },
            "colorscale": [
             [
              0,
              "#0d0887"
             ],
             [
              0.1111111111111111,
              "#46039f"
             ],
             [
              0.2222222222222222,
              "#7201a8"
             ],
             [
              0.3333333333333333,
              "#9c179e"
             ],
             [
              0.4444444444444444,
              "#bd3786"
             ],
             [
              0.5555555555555556,
              "#d8576b"
             ],
             [
              0.6666666666666666,
              "#ed7953"
             ],
             [
              0.7777777777777778,
              "#fb9f3a"
             ],
             [
              0.8888888888888888,
              "#fdca26"
             ],
             [
              1,
              "#f0f921"
             ]
            ],
            "type": "histogram2dcontour"
           }
          ],
          "mesh3d": [
           {
            "colorbar": {
             "outlinewidth": 0,
             "ticks": ""
            },
            "type": "mesh3d"
           }
          ],
          "parcoords": [
           {
            "line": {
             "colorbar": {
              "outlinewidth": 0,
              "ticks": ""
             }
            },
            "type": "parcoords"
           }
          ],
          "pie": [
           {
            "automargin": true,
            "type": "pie"
           }
          ],
          "scatter": [
           {
            "fillpattern": {
             "fillmode": "overlay",
             "size": 10,
             "solidity": 0.2
            },
            "type": "scatter"
           }
          ],
          "scatter3d": [
           {
            "line": {
             "colorbar": {
              "outlinewidth": 0,
              "ticks": ""
             }
            },
            "marker": {
             "colorbar": {
              "outlinewidth": 0,
              "ticks": ""
             }
            },
            "type": "scatter3d"
           }
          ],
          "scattercarpet": [
           {
            "marker": {
             "colorbar": {
              "outlinewidth": 0,
              "ticks": ""
             }
            },
            "type": "scattercarpet"
           }
          ],
          "scattergeo": [
           {
            "marker": {
             "colorbar": {
              "outlinewidth": 0,
              "ticks": ""
             }
            },
            "type": "scattergeo"
           }
          ],
          "scattergl": [
           {
            "marker": {
             "colorbar": {
              "outlinewidth": 0,
              "ticks": ""
             }
            },
            "type": "scattergl"
           }
          ],
          "scattermap": [
           {
            "marker": {
             "colorbar": {
              "outlinewidth": 0,
              "ticks": ""
             }
            },
            "type": "scattermap"
           }
          ],
          "scattermapbox": [
           {
            "marker": {
             "colorbar": {
              "outlinewidth": 0,
              "ticks": ""
             }
            },
            "type": "scattermapbox"
           }
          ],
          "scatterpolar": [
           {
            "marker": {
             "colorbar": {
              "outlinewidth": 0,
              "ticks": ""
             }
            },
            "type": "scatterpolar"
           }
          ],
          "scatterpolargl": [
           {
            "marker": {
             "colorbar": {
              "outlinewidth": 0,
              "ticks": ""
             }
            },
            "type": "scatterpolargl"
           }
          ],
          "scatterternary": [
           {
            "marker": {
             "colorbar": {
              "outlinewidth": 0,
              "ticks": ""
             }
            },
            "type": "scatterternary"
           }
          ],
          "surface": [
           {
            "colorbar": {
             "outlinewidth": 0,
             "ticks": ""
            },
            "colorscale": [
             [
              0,
              "#0d0887"
             ],
             [
              0.1111111111111111,
              "#46039f"
             ],
             [
              0.2222222222222222,
              "#7201a8"
             ],
             [
              0.3333333333333333,
              "#9c179e"
             ],
             [
              0.4444444444444444,
              "#bd3786"
             ],
             [
              0.5555555555555556,
              "#d8576b"
             ],
             [
              0.6666666666666666,
              "#ed7953"
             ],
             [
              0.7777777777777778,
              "#fb9f3a"
             ],
             [
              0.8888888888888888,
              "#fdca26"
             ],
             [
              1,
              "#f0f921"
             ]
            ],
            "type": "surface"
           }
          ],
          "table": [
           {
            "cells": {
             "fill": {
              "color": "#EBF0F8"
             },
             "line": {
              "color": "white"
             }
            },
            "header": {
             "fill": {
              "color": "#C8D4E3"
             },
             "line": {
              "color": "white"
             }
            },
            "type": "table"
           }
          ]
         },
         "layout": {
          "annotationdefaults": {
           "arrowcolor": "#2a3f5f",
           "arrowhead": 0,
           "arrowwidth": 1
          },
          "autotypenumbers": "strict",
          "coloraxis": {
           "colorbar": {
            "outlinewidth": 0,
            "ticks": ""
           }
          },
          "colorscale": {
           "diverging": [
            [
             0,
             "#8e0152"
            ],
            [
             0.1,
             "#c51b7d"
            ],
            [
             0.2,
             "#de77ae"
            ],
            [
             0.3,
             "#f1b6da"
            ],
            [
             0.4,
             "#fde0ef"
            ],
            [
             0.5,
             "#f7f7f7"
            ],
            [
             0.6,
             "#e6f5d0"
            ],
            [
             0.7,
             "#b8e186"
            ],
            [
             0.8,
             "#7fbc41"
            ],
            [
             0.9,
             "#4d9221"
            ],
            [
             1,
             "#276419"
            ]
           ],
           "sequential": [
            [
             0,
             "#0d0887"
            ],
            [
             0.1111111111111111,
             "#46039f"
            ],
            [
             0.2222222222222222,
             "#7201a8"
            ],
            [
             0.3333333333333333,
             "#9c179e"
            ],
            [
             0.4444444444444444,
             "#bd3786"
            ],
            [
             0.5555555555555556,
             "#d8576b"
            ],
            [
             0.6666666666666666,
             "#ed7953"
            ],
            [
             0.7777777777777778,
             "#fb9f3a"
            ],
            [
             0.8888888888888888,
             "#fdca26"
            ],
            [
             1,
             "#f0f921"
            ]
           ],
           "sequentialminus": [
            [
             0,
             "#0d0887"
            ],
            [
             0.1111111111111111,
             "#46039f"
            ],
            [
             0.2222222222222222,
             "#7201a8"
            ],
            [
             0.3333333333333333,
             "#9c179e"
            ],
            [
             0.4444444444444444,
             "#bd3786"
            ],
            [
             0.5555555555555556,
             "#d8576b"
            ],
            [
             0.6666666666666666,
             "#ed7953"
            ],
            [
             0.7777777777777778,
             "#fb9f3a"
            ],
            [
             0.8888888888888888,
             "#fdca26"
            ],
            [
             1,
             "#f0f921"
            ]
           ]
          },
          "colorway": [
           "#636efa",
           "#EF553B",
           "#00cc96",
           "#ab63fa",
           "#FFA15A",
           "#19d3f3",
           "#FF6692",
           "#B6E880",
           "#FF97FF",
           "#FECB52"
          ],
          "font": {
           "color": "#2a3f5f"
          },
          "geo": {
           "bgcolor": "white",
           "lakecolor": "white",
           "landcolor": "#E5ECF6",
           "showlakes": true,
           "showland": true,
           "subunitcolor": "white"
          },
          "hoverlabel": {
           "align": "left"
          },
          "hovermode": "closest",
          "mapbox": {
           "style": "light"
          },
          "paper_bgcolor": "white",
          "plot_bgcolor": "#E5ECF6",
          "polar": {
           "angularaxis": {
            "gridcolor": "white",
            "linecolor": "white",
            "ticks": ""
           },
           "bgcolor": "#E5ECF6",
           "radialaxis": {
            "gridcolor": "white",
            "linecolor": "white",
            "ticks": ""
           }
          },
          "scene": {
           "xaxis": {
            "backgroundcolor": "#E5ECF6",
            "gridcolor": "white",
            "gridwidth": 2,
            "linecolor": "white",
            "showbackground": true,
            "ticks": "",
            "zerolinecolor": "white"
           },
           "yaxis": {
            "backgroundcolor": "#E5ECF6",
            "gridcolor": "white",
            "gridwidth": 2,
            "linecolor": "white",
            "showbackground": true,
            "ticks": "",
            "zerolinecolor": "white"
           },
           "zaxis": {
            "backgroundcolor": "#E5ECF6",
            "gridcolor": "white",
            "gridwidth": 2,
            "linecolor": "white",
            "showbackground": true,
            "ticks": "",
            "zerolinecolor": "white"
           }
          },
          "shapedefaults": {
           "line": {
            "color": "#2a3f5f"
           }
          },
          "ternary": {
           "aaxis": {
            "gridcolor": "white",
            "linecolor": "white",
            "ticks": ""
           },
           "baxis": {
            "gridcolor": "white",
            "linecolor": "white",
            "ticks": ""
           },
           "bgcolor": "#E5ECF6",
           "caxis": {
            "gridcolor": "white",
            "linecolor": "white",
            "ticks": ""
           }
          },
          "title": {
           "x": 0.05
          },
          "xaxis": {
           "automargin": true,
           "gridcolor": "white",
           "linecolor": "white",
           "ticks": "",
           "title": {
            "standoff": 15
           },
           "zerolinecolor": "white",
           "zerolinewidth": 2
          },
          "yaxis": {
           "automargin": true,
           "gridcolor": "white",
           "linecolor": "white",
           "ticks": "",
           "title": {
            "standoff": 15
           },
           "zerolinecolor": "white",
           "zerolinewidth": 2
          }
         }
        },
        "title": {
         "text": "Execution time of ForecasterRecursive_predict"
        },
        "xaxis": {
         "anchor": "y",
         "categoryarray": [
          "0.14.0",
          "0.15.0",
          "0.16.0"
         ],
         "categoryorder": "array",
         "domain": [
          0,
          1
         ],
         "title": {
          "text": "skforecast version"
         }
        },
        "yaxis": {
         "anchor": "x",
         "domain": [
          0,
          1
         ],
         "title": {
          "text": "Execution time (seconds)"
         }
        }
       }
      }
     },
     "metadata": {},
     "output_type": "display_data"
    },
    {
     "data": {
      "application/vnd.microsoft.datawrangler.viewer.v0+json": {
       "columns": [
        {
         "name": "index",
         "rawType": "int64",
         "type": "integer"
        },
        {
         "name": "forecaster_name",
         "rawType": "object",
         "type": "string"
        },
        {
         "name": "regressor_name",
         "rawType": "object",
         "type": "string"
        },
        {
         "name": "function_name",
         "rawType": "object",
         "type": "string"
        },
        {
         "name": "function_hash",
         "rawType": "object",
         "type": "string"
        },
        {
         "name": "run_time_avg",
         "rawType": "float64",
         "type": "float"
        },
        {
         "name": "run_time_std_dev",
         "rawType": "float64",
         "type": "float"
        },
        {
         "name": "datetime",
         "rawType": "datetime64[ns]",
         "type": "datetime"
        },
        {
         "name": "python_version",
         "rawType": "object",
         "type": "string"
        },
        {
         "name": "skforecast_version",
         "rawType": "object",
         "type": "string"
        },
        {
         "name": "numpy_version",
         "rawType": "object",
         "type": "string"
        },
        {
         "name": "pandas_version",
         "rawType": "object",
         "type": "string"
        },
        {
         "name": "sklearn_version",
         "rawType": "object",
         "type": "string"
        },
        {
         "name": "lightgbm_version",
         "rawType": "object",
         "type": "string"
        },
        {
         "name": "platform",
         "rawType": "object",
         "type": "string"
        },
        {
         "name": "processor",
         "rawType": "object",
         "type": "string"
        },
        {
         "name": "cpu_count",
         "rawType": "int64",
         "type": "integer"
        },
        {
         "name": "memory_gb",
         "rawType": "float64",
         "type": "float"
        }
       ],
       "conversionMethod": "pd.DataFrame",
       "ref": "76e2de8c-49d5-47c8-96bb-e1ada2684931",
       "rows": [
        [
         "31",
         "ForecasterRecursive",
         "LGBMRegressor",
         "ForecasterRecursive__create_predict_inputs",
         "4a58c7a370a6467cc0ba5eda400fa239",
         "0.005099448800046957",
         "0.00015467867635162932",
         "2025-04-22 21:26:54.641780",
         "3.12.9",
         "0.14.0",
         "1.26.4",
         "2.2.3",
         "1.4.2",
         "4.6.0",
         "Linux-6.11.0-21-generic-x86_64-with-glibc2.39",
         "x86_64",
         "8",
         "16.64"
        ],
        [
         "35",
         "ForecasterRecursive",
         "LGBMRegressor",
         "ForecasterRecursive__create_predict_inputs",
         "4a58c7a370a6467cc0ba5eda400fa239",
         "0.0027466473999083973",
         "0.00036554762816456195",
         "2025-04-22 21:27:05.902025",
         "3.12.9",
         "0.14.0",
         "1.26.4",
         "2.2.3",
         "1.4.2",
         "4.6.0",
         "Linux-6.11.0-21-generic-x86_64-with-glibc2.39",
         "x86_64",
         "8",
         "16.64"
        ],
        [
         "47",
         "ForecasterRecursive",
         "LGBMRegressor",
         "ForecasterRecursive__create_predict_inputs",
         "4a58c7a370a6467cc0ba5eda400fa239",
         "0.003219702600108576",
         "0.00027980956855150465",
         "2025-04-22 21:31:06.476643",
         "3.12.9",
         "0.14.0",
         "1.26.4",
         "2.2.3",
         "1.4.2",
         "4.6.0",
         "Linux-6.11.0-21-generic-x86_64-with-glibc2.39",
         "x86_64",
         "8",
         "16.64"
        ],
        [
         "59",
         "ForecasterRecursive",
         "LGBMRegressor",
         "ForecasterRecursive__create_predict_inputs",
         "4a58c7a370a6467cc0ba5eda400fa239",
         "0.004582573099924048",
         "0.000858736743294575",
         "2025-04-22 21:35:41.442892",
         "3.12.9",
         "0.15.0",
         "1.26.4",
         "2.2.3",
         "1.4.2",
         "4.6.0",
         "Linux-6.11.0-21-generic-x86_64-with-glibc2.39",
         "x86_64",
         "8",
         "16.64"
        ],
        [
         "71",
         "ForecasterRecursive",
         "LGBMRegressor",
         "ForecasterRecursive__create_predict_inputs",
         "4a58c7a370a6467cc0ba5eda400fa239",
         "0.004995746699933079",
         "0.0005830124691068192",
         "2025-04-22 21:46:37.057769",
         "3.12.9",
         "0.15.0",
         "2.2.5",
         "2.2.3",
         "1.6.1",
         "4.6.0",
         "Linux-6.11.0-21-generic-x86_64-with-glibc2.39",
         "x86_64",
         "8",
         "16.64"
        ],
        [
         "83",
         "ForecasterRecursive",
         "LGBMRegressor",
         "ForecasterRecursive__create_predict_inputs",
         "0f4a625e8b1bb7e3f0c5bb77a04cc2fb",
         "0.00888311739990968",
         "0.003857125616908375",
         "2025-04-22 21:56:18.525001",
         "3.12.9",
         "0.16.0",
         "2.2.5",
         "2.2.3",
         "1.6.1",
         "4.6.0",
         "Linux-6.11.0-21-generic-x86_64-with-glibc2.39",
         "x86_64",
         "8",
         "16.64"
        ],
        [
         "95",
         "ForecasterRecursive",
         "LGBMRegressor",
         "ForecasterRecursive__create_predict_inputs",
         "0f4a625e8b1bb7e3f0c5bb77a04cc2fb",
         "0.0044671742999526035",
         "0.0011288932558789733",
         "2025-04-22 22:10:59.978681",
         "3.12.9",
         "0.16.0",
         "1.26.4",
         "2.2.3",
         "1.6.1",
         "4.6.0",
         "Linux-6.11.0-21-generic-x86_64-with-glibc2.39",
         "x86_64",
         "8",
         "16.64"
        ],
        [
         "131",
         "ForecasterRecursive",
         "LGBMRegressor",
         "ForecasterRecursive__create_predict_inputs",
         "0f4a625e8b1bb7e3f0c5bb77a04cc2fb",
         "0.00490960629977053",
         "0.0009123363953931547",
         "2025-04-22 22:46:04.445545",
         "3.12.9",
         "0.15.0",
         "1.26.4",
         "2.2.3",
         "1.4.2",
         "4.6.0",
         "Linux-6.11.0-21-generic-x86_64-with-glibc2.39",
         "x86_64",
         "8",
         "16.64"
        ],
        [
         "143",
         "ForecasterRecursive",
         "LGBMRegressor",
         "ForecasterRecursive__create_predict_inputs",
         "0f4a625e8b1bb7e3f0c5bb77a04cc2fb",
         "0.003969195999889053",
         "0.0006713638978457846",
         "2025-04-22 22:53:38.827744",
         "3.12.9",
         "0.16.0",
         "1.26.4",
         "2.2.3",
         "1.4.2",
         "4.6.0",
         "Linux-6.11.0-21-generic-x86_64-with-glibc2.39",
         "x86_64",
         "8",
         "16.64"
        ],
        [
         "179",
         "ForecasterRecursive",
         "LGBMRegressor",
         "ForecasterRecursive__create_predict_inputs",
         "0f4a625e8b1bb7e3f0c5bb77a04cc2fb",
         "0.005266562299993893",
         "0.0010237894128750727",
         "2025-04-23 09:57:32.673644",
         "3.12.9",
         "0.16.0",
         "1.26.4",
         "2.2.3",
         "1.4.2",
         "4.6.0",
         "Linux-6.11.0-21-generic-x86_64-with-glibc2.39",
         "x86_64",
         "8",
         "16.64"
        ],
        [
         "191",
         "ForecasterRecursive",
         "LGBMRegressor",
         "ForecasterRecursive__create_predict_inputs",
         "0f4a625e8b1bb7e3f0c5bb77a04cc2fb",
         "0.004054848400028277",
         "0.0010504795519842257",
         "2025-04-23 10:02:38.428848",
         "3.12.9",
         "0.16.0",
         "2.2.5",
         "2.2.3",
         "1.6.1",
         "4.6.0",
         "Linux-6.11.0-21-generic-x86_64-with-glibc2.39",
         "x86_64",
         "8",
         "16.64"
        ],
        [
         "203",
         "ForecasterRecursive",
         "LGBMRegressor",
         "ForecasterRecursive__create_predict_inputs",
         "0f4a625e8b1bb7e3f0c5bb77a04cc2fb",
         "0.0034598116000779553",
         "0.00108598409420283",
         "2025-04-23 10:25:49.987546",
         "3.12.9",
         "0.16.0",
         "2.2.5",
         "2.2.3",
         "1.6.1",
         "4.6.0",
         "Linux-6.11.0-21-generic-x86_64-with-glibc2.39",
         "x86_64",
         "8",
         "16.64"
        ],
        [
         "215",
         "ForecasterRecursive",
         "LGBMRegressor",
         "ForecasterRecursive__create_predict_inputs",
         "0f4a625e8b1bb7e3f0c5bb77a04cc2fb",
         "0.0027651210000840367",
         "0.00023242568522361976",
         "2025-04-23 13:38:55.244003",
         "3.12.9",
         "0.16.0",
         "2.2.5",
         "2.2.3",
         "1.6.1",
         "4.6.0",
         "Linux-6.11.0-21-generic-x86_64-with-glibc2.39",
         "x86_64",
         "8",
         "16.64"
        ],
        [
         "227",
         "ForecasterRecursive",
         "LGBMRegressor",
         "ForecasterRecursive__create_predict_inputs",
         "0f4a625e8b1bb7e3f0c5bb77a04cc2fb",
         "0.004011767199881433",
         "0.0009771779647962634",
         "2025-04-23 13:43:17.696049",
         "3.12.9",
         "0.16.0",
         "2.2.5",
         "2.2.3",
         "1.6.1",
         "4.6.0",
         "Linux-6.11.0-21-generic-x86_64-with-glibc2.39",
         "x86_64",
         "8",
         "16.64"
        ],
        [
         "239",
         "ForecasterRecursive",
         "LGBMRegressor",
         "ForecasterRecursive__create_predict_inputs",
         "0f4a625e8b1bb7e3f0c5bb77a04cc2fb",
         "0.0030365904998689076",
         "0.0005172520867538996",
         "2025-04-23 13:47:21.585258",
         "3.12.9",
         "0.16.0",
         "2.2.5",
         "2.2.3",
         "1.6.1",
         "4.6.0",
         "Linux-6.11.0-21-generic-x86_64-with-glibc2.39",
         "x86_64",
         "8",
         "16.64"
        ]
       ],
       "shape": {
        "columns": 17,
        "rows": 15
       }
      },
      "text/html": [
       "<div>\n",
       "<style scoped>\n",
       "    .dataframe tbody tr th:only-of-type {\n",
       "        vertical-align: middle;\n",
       "    }\n",
       "\n",
       "    .dataframe tbody tr th {\n",
       "        vertical-align: top;\n",
       "    }\n",
       "\n",
       "    .dataframe thead th {\n",
       "        text-align: right;\n",
       "    }\n",
       "</style>\n",
       "<table border=\"1\" class=\"dataframe\">\n",
       "  <thead>\n",
       "    <tr style=\"text-align: right;\">\n",
       "      <th></th>\n",
       "      <th>forecaster_name</th>\n",
       "      <th>regressor_name</th>\n",
       "      <th>function_name</th>\n",
       "      <th>function_hash</th>\n",
       "      <th>run_time_avg</th>\n",
       "      <th>run_time_std_dev</th>\n",
       "      <th>datetime</th>\n",
       "      <th>python_version</th>\n",
       "      <th>skforecast_version</th>\n",
       "      <th>numpy_version</th>\n",
       "      <th>pandas_version</th>\n",
       "      <th>sklearn_version</th>\n",
       "      <th>lightgbm_version</th>\n",
       "      <th>platform</th>\n",
       "      <th>processor</th>\n",
       "      <th>cpu_count</th>\n",
       "      <th>memory_gb</th>\n",
       "    </tr>\n",
       "  </thead>\n",
       "  <tbody>\n",
       "    <tr>\n",
       "      <th>31</th>\n",
       "      <td>ForecasterRecursive</td>\n",
       "      <td>LGBMRegressor</td>\n",
       "      <td>ForecasterRecursive__create_predict_inputs</td>\n",
       "      <td>4a58c7a370a6467cc0ba5eda400fa239</td>\n",
       "      <td>0.005099</td>\n",
       "      <td>0.000155</td>\n",
       "      <td>2025-04-22 21:26:54.641780</td>\n",
       "      <td>3.12.9</td>\n",
       "      <td>0.14.0</td>\n",
       "      <td>1.26.4</td>\n",
       "      <td>2.2.3</td>\n",
       "      <td>1.4.2</td>\n",
       "      <td>4.6.0</td>\n",
       "      <td>Linux-6.11.0-21-generic-x86_64-with-glibc2.39</td>\n",
       "      <td>x86_64</td>\n",
       "      <td>8</td>\n",
       "      <td>16.64</td>\n",
       "    </tr>\n",
       "    <tr>\n",
       "      <th>35</th>\n",
       "      <td>ForecasterRecursive</td>\n",
       "      <td>LGBMRegressor</td>\n",
       "      <td>ForecasterRecursive__create_predict_inputs</td>\n",
       "      <td>4a58c7a370a6467cc0ba5eda400fa239</td>\n",
       "      <td>0.002747</td>\n",
       "      <td>0.000366</td>\n",
       "      <td>2025-04-22 21:27:05.902025</td>\n",
       "      <td>3.12.9</td>\n",
       "      <td>0.14.0</td>\n",
       "      <td>1.26.4</td>\n",
       "      <td>2.2.3</td>\n",
       "      <td>1.4.2</td>\n",
       "      <td>4.6.0</td>\n",
       "      <td>Linux-6.11.0-21-generic-x86_64-with-glibc2.39</td>\n",
       "      <td>x86_64</td>\n",
       "      <td>8</td>\n",
       "      <td>16.64</td>\n",
       "    </tr>\n",
       "    <tr>\n",
       "      <th>47</th>\n",
       "      <td>ForecasterRecursive</td>\n",
       "      <td>LGBMRegressor</td>\n",
       "      <td>ForecasterRecursive__create_predict_inputs</td>\n",
       "      <td>4a58c7a370a6467cc0ba5eda400fa239</td>\n",
       "      <td>0.003220</td>\n",
       "      <td>0.000280</td>\n",
       "      <td>2025-04-22 21:31:06.476643</td>\n",
       "      <td>3.12.9</td>\n",
       "      <td>0.14.0</td>\n",
       "      <td>1.26.4</td>\n",
       "      <td>2.2.3</td>\n",
       "      <td>1.4.2</td>\n",
       "      <td>4.6.0</td>\n",
       "      <td>Linux-6.11.0-21-generic-x86_64-with-glibc2.39</td>\n",
       "      <td>x86_64</td>\n",
       "      <td>8</td>\n",
       "      <td>16.64</td>\n",
       "    </tr>\n",
       "    <tr>\n",
       "      <th>59</th>\n",
       "      <td>ForecasterRecursive</td>\n",
       "      <td>LGBMRegressor</td>\n",
       "      <td>ForecasterRecursive__create_predict_inputs</td>\n",
       "      <td>4a58c7a370a6467cc0ba5eda400fa239</td>\n",
       "      <td>0.004583</td>\n",
       "      <td>0.000859</td>\n",
       "      <td>2025-04-22 21:35:41.442892</td>\n",
       "      <td>3.12.9</td>\n",
       "      <td>0.15.0</td>\n",
       "      <td>1.26.4</td>\n",
       "      <td>2.2.3</td>\n",
       "      <td>1.4.2</td>\n",
       "      <td>4.6.0</td>\n",
       "      <td>Linux-6.11.0-21-generic-x86_64-with-glibc2.39</td>\n",
       "      <td>x86_64</td>\n",
       "      <td>8</td>\n",
       "      <td>16.64</td>\n",
       "    </tr>\n",
       "    <tr>\n",
       "      <th>71</th>\n",
       "      <td>ForecasterRecursive</td>\n",
       "      <td>LGBMRegressor</td>\n",
       "      <td>ForecasterRecursive__create_predict_inputs</td>\n",
       "      <td>4a58c7a370a6467cc0ba5eda400fa239</td>\n",
       "      <td>0.004996</td>\n",
       "      <td>0.000583</td>\n",
       "      <td>2025-04-22 21:46:37.057769</td>\n",
       "      <td>3.12.9</td>\n",
       "      <td>0.15.0</td>\n",
       "      <td>2.2.5</td>\n",
       "      <td>2.2.3</td>\n",
       "      <td>1.6.1</td>\n",
       "      <td>4.6.0</td>\n",
       "      <td>Linux-6.11.0-21-generic-x86_64-with-glibc2.39</td>\n",
       "      <td>x86_64</td>\n",
       "      <td>8</td>\n",
       "      <td>16.64</td>\n",
       "    </tr>\n",
       "    <tr>\n",
       "      <th>83</th>\n",
       "      <td>ForecasterRecursive</td>\n",
       "      <td>LGBMRegressor</td>\n",
       "      <td>ForecasterRecursive__create_predict_inputs</td>\n",
       "      <td>0f4a625e8b1bb7e3f0c5bb77a04cc2fb</td>\n",
       "      <td>0.008883</td>\n",
       "      <td>0.003857</td>\n",
       "      <td>2025-04-22 21:56:18.525001</td>\n",
       "      <td>3.12.9</td>\n",
       "      <td>0.16.0</td>\n",
       "      <td>2.2.5</td>\n",
       "      <td>2.2.3</td>\n",
       "      <td>1.6.1</td>\n",
       "      <td>4.6.0</td>\n",
       "      <td>Linux-6.11.0-21-generic-x86_64-with-glibc2.39</td>\n",
       "      <td>x86_64</td>\n",
       "      <td>8</td>\n",
       "      <td>16.64</td>\n",
       "    </tr>\n",
       "    <tr>\n",
       "      <th>95</th>\n",
       "      <td>ForecasterRecursive</td>\n",
       "      <td>LGBMRegressor</td>\n",
       "      <td>ForecasterRecursive__create_predict_inputs</td>\n",
       "      <td>0f4a625e8b1bb7e3f0c5bb77a04cc2fb</td>\n",
       "      <td>0.004467</td>\n",
       "      <td>0.001129</td>\n",
       "      <td>2025-04-22 22:10:59.978681</td>\n",
       "      <td>3.12.9</td>\n",
       "      <td>0.16.0</td>\n",
       "      <td>1.26.4</td>\n",
       "      <td>2.2.3</td>\n",
       "      <td>1.6.1</td>\n",
       "      <td>4.6.0</td>\n",
       "      <td>Linux-6.11.0-21-generic-x86_64-with-glibc2.39</td>\n",
       "      <td>x86_64</td>\n",
       "      <td>8</td>\n",
       "      <td>16.64</td>\n",
       "    </tr>\n",
       "    <tr>\n",
       "      <th>131</th>\n",
       "      <td>ForecasterRecursive</td>\n",
       "      <td>LGBMRegressor</td>\n",
       "      <td>ForecasterRecursive__create_predict_inputs</td>\n",
       "      <td>0f4a625e8b1bb7e3f0c5bb77a04cc2fb</td>\n",
       "      <td>0.004910</td>\n",
       "      <td>0.000912</td>\n",
       "      <td>2025-04-22 22:46:04.445545</td>\n",
       "      <td>3.12.9</td>\n",
       "      <td>0.15.0</td>\n",
       "      <td>1.26.4</td>\n",
       "      <td>2.2.3</td>\n",
       "      <td>1.4.2</td>\n",
       "      <td>4.6.0</td>\n",
       "      <td>Linux-6.11.0-21-generic-x86_64-with-glibc2.39</td>\n",
       "      <td>x86_64</td>\n",
       "      <td>8</td>\n",
       "      <td>16.64</td>\n",
       "    </tr>\n",
       "    <tr>\n",
       "      <th>143</th>\n",
       "      <td>ForecasterRecursive</td>\n",
       "      <td>LGBMRegressor</td>\n",
       "      <td>ForecasterRecursive__create_predict_inputs</td>\n",
       "      <td>0f4a625e8b1bb7e3f0c5bb77a04cc2fb</td>\n",
       "      <td>0.003969</td>\n",
       "      <td>0.000671</td>\n",
       "      <td>2025-04-22 22:53:38.827744</td>\n",
       "      <td>3.12.9</td>\n",
       "      <td>0.16.0</td>\n",
       "      <td>1.26.4</td>\n",
       "      <td>2.2.3</td>\n",
       "      <td>1.4.2</td>\n",
       "      <td>4.6.0</td>\n",
       "      <td>Linux-6.11.0-21-generic-x86_64-with-glibc2.39</td>\n",
       "      <td>x86_64</td>\n",
       "      <td>8</td>\n",
       "      <td>16.64</td>\n",
       "    </tr>\n",
       "    <tr>\n",
       "      <th>179</th>\n",
       "      <td>ForecasterRecursive</td>\n",
       "      <td>LGBMRegressor</td>\n",
       "      <td>ForecasterRecursive__create_predict_inputs</td>\n",
       "      <td>0f4a625e8b1bb7e3f0c5bb77a04cc2fb</td>\n",
       "      <td>0.005267</td>\n",
       "      <td>0.001024</td>\n",
       "      <td>2025-04-23 09:57:32.673644</td>\n",
       "      <td>3.12.9</td>\n",
       "      <td>0.16.0</td>\n",
       "      <td>1.26.4</td>\n",
       "      <td>2.2.3</td>\n",
       "      <td>1.4.2</td>\n",
       "      <td>4.6.0</td>\n",
       "      <td>Linux-6.11.0-21-generic-x86_64-with-glibc2.39</td>\n",
       "      <td>x86_64</td>\n",
       "      <td>8</td>\n",
       "      <td>16.64</td>\n",
       "    </tr>\n",
       "    <tr>\n",
       "      <th>191</th>\n",
       "      <td>ForecasterRecursive</td>\n",
       "      <td>LGBMRegressor</td>\n",
       "      <td>ForecasterRecursive__create_predict_inputs</td>\n",
       "      <td>0f4a625e8b1bb7e3f0c5bb77a04cc2fb</td>\n",
       "      <td>0.004055</td>\n",
       "      <td>0.001050</td>\n",
       "      <td>2025-04-23 10:02:38.428848</td>\n",
       "      <td>3.12.9</td>\n",
       "      <td>0.16.0</td>\n",
       "      <td>2.2.5</td>\n",
       "      <td>2.2.3</td>\n",
       "      <td>1.6.1</td>\n",
       "      <td>4.6.0</td>\n",
       "      <td>Linux-6.11.0-21-generic-x86_64-with-glibc2.39</td>\n",
       "      <td>x86_64</td>\n",
       "      <td>8</td>\n",
       "      <td>16.64</td>\n",
       "    </tr>\n",
       "    <tr>\n",
       "      <th>203</th>\n",
       "      <td>ForecasterRecursive</td>\n",
       "      <td>LGBMRegressor</td>\n",
       "      <td>ForecasterRecursive__create_predict_inputs</td>\n",
       "      <td>0f4a625e8b1bb7e3f0c5bb77a04cc2fb</td>\n",
       "      <td>0.003460</td>\n",
       "      <td>0.001086</td>\n",
       "      <td>2025-04-23 10:25:49.987546</td>\n",
       "      <td>3.12.9</td>\n",
       "      <td>0.16.0</td>\n",
       "      <td>2.2.5</td>\n",
       "      <td>2.2.3</td>\n",
       "      <td>1.6.1</td>\n",
       "      <td>4.6.0</td>\n",
       "      <td>Linux-6.11.0-21-generic-x86_64-with-glibc2.39</td>\n",
       "      <td>x86_64</td>\n",
       "      <td>8</td>\n",
       "      <td>16.64</td>\n",
       "    </tr>\n",
       "    <tr>\n",
       "      <th>215</th>\n",
       "      <td>ForecasterRecursive</td>\n",
       "      <td>LGBMRegressor</td>\n",
       "      <td>ForecasterRecursive__create_predict_inputs</td>\n",
       "      <td>0f4a625e8b1bb7e3f0c5bb77a04cc2fb</td>\n",
       "      <td>0.002765</td>\n",
       "      <td>0.000232</td>\n",
       "      <td>2025-04-23 13:38:55.244003</td>\n",
       "      <td>3.12.9</td>\n",
       "      <td>0.16.0</td>\n",
       "      <td>2.2.5</td>\n",
       "      <td>2.2.3</td>\n",
       "      <td>1.6.1</td>\n",
       "      <td>4.6.0</td>\n",
       "      <td>Linux-6.11.0-21-generic-x86_64-with-glibc2.39</td>\n",
       "      <td>x86_64</td>\n",
       "      <td>8</td>\n",
       "      <td>16.64</td>\n",
       "    </tr>\n",
       "    <tr>\n",
       "      <th>227</th>\n",
       "      <td>ForecasterRecursive</td>\n",
       "      <td>LGBMRegressor</td>\n",
       "      <td>ForecasterRecursive__create_predict_inputs</td>\n",
       "      <td>0f4a625e8b1bb7e3f0c5bb77a04cc2fb</td>\n",
       "      <td>0.004012</td>\n",
       "      <td>0.000977</td>\n",
       "      <td>2025-04-23 13:43:17.696049</td>\n",
       "      <td>3.12.9</td>\n",
       "      <td>0.16.0</td>\n",
       "      <td>2.2.5</td>\n",
       "      <td>2.2.3</td>\n",
       "      <td>1.6.1</td>\n",
       "      <td>4.6.0</td>\n",
       "      <td>Linux-6.11.0-21-generic-x86_64-with-glibc2.39</td>\n",
       "      <td>x86_64</td>\n",
       "      <td>8</td>\n",
       "      <td>16.64</td>\n",
       "    </tr>\n",
       "    <tr>\n",
       "      <th>239</th>\n",
       "      <td>ForecasterRecursive</td>\n",
       "      <td>LGBMRegressor</td>\n",
       "      <td>ForecasterRecursive__create_predict_inputs</td>\n",
       "      <td>0f4a625e8b1bb7e3f0c5bb77a04cc2fb</td>\n",
       "      <td>0.003037</td>\n",
       "      <td>0.000517</td>\n",
       "      <td>2025-04-23 13:47:21.585258</td>\n",
       "      <td>3.12.9</td>\n",
       "      <td>0.16.0</td>\n",
       "      <td>2.2.5</td>\n",
       "      <td>2.2.3</td>\n",
       "      <td>1.6.1</td>\n",
       "      <td>4.6.0</td>\n",
       "      <td>Linux-6.11.0-21-generic-x86_64-with-glibc2.39</td>\n",
       "      <td>x86_64</td>\n",
       "      <td>8</td>\n",
       "      <td>16.64</td>\n",
       "    </tr>\n",
       "  </tbody>\n",
       "</table>\n",
       "</div>"
      ],
      "text/plain": [
       "         forecaster_name regressor_name  \\\n",
       "31   ForecasterRecursive  LGBMRegressor   \n",
       "35   ForecasterRecursive  LGBMRegressor   \n",
       "47   ForecasterRecursive  LGBMRegressor   \n",
       "59   ForecasterRecursive  LGBMRegressor   \n",
       "71   ForecasterRecursive  LGBMRegressor   \n",
       "83   ForecasterRecursive  LGBMRegressor   \n",
       "95   ForecasterRecursive  LGBMRegressor   \n",
       "131  ForecasterRecursive  LGBMRegressor   \n",
       "143  ForecasterRecursive  LGBMRegressor   \n",
       "179  ForecasterRecursive  LGBMRegressor   \n",
       "191  ForecasterRecursive  LGBMRegressor   \n",
       "203  ForecasterRecursive  LGBMRegressor   \n",
       "215  ForecasterRecursive  LGBMRegressor   \n",
       "227  ForecasterRecursive  LGBMRegressor   \n",
       "239  ForecasterRecursive  LGBMRegressor   \n",
       "\n",
       "                                  function_name  \\\n",
       "31   ForecasterRecursive__create_predict_inputs   \n",
       "35   ForecasterRecursive__create_predict_inputs   \n",
       "47   ForecasterRecursive__create_predict_inputs   \n",
       "59   ForecasterRecursive__create_predict_inputs   \n",
       "71   ForecasterRecursive__create_predict_inputs   \n",
       "83   ForecasterRecursive__create_predict_inputs   \n",
       "95   ForecasterRecursive__create_predict_inputs   \n",
       "131  ForecasterRecursive__create_predict_inputs   \n",
       "143  ForecasterRecursive__create_predict_inputs   \n",
       "179  ForecasterRecursive__create_predict_inputs   \n",
       "191  ForecasterRecursive__create_predict_inputs   \n",
       "203  ForecasterRecursive__create_predict_inputs   \n",
       "215  ForecasterRecursive__create_predict_inputs   \n",
       "227  ForecasterRecursive__create_predict_inputs   \n",
       "239  ForecasterRecursive__create_predict_inputs   \n",
       "\n",
       "                        function_hash  run_time_avg  run_time_std_dev  \\\n",
       "31   4a58c7a370a6467cc0ba5eda400fa239      0.005099          0.000155   \n",
       "35   4a58c7a370a6467cc0ba5eda400fa239      0.002747          0.000366   \n",
       "47   4a58c7a370a6467cc0ba5eda400fa239      0.003220          0.000280   \n",
       "59   4a58c7a370a6467cc0ba5eda400fa239      0.004583          0.000859   \n",
       "71   4a58c7a370a6467cc0ba5eda400fa239      0.004996          0.000583   \n",
       "83   0f4a625e8b1bb7e3f0c5bb77a04cc2fb      0.008883          0.003857   \n",
       "95   0f4a625e8b1bb7e3f0c5bb77a04cc2fb      0.004467          0.001129   \n",
       "131  0f4a625e8b1bb7e3f0c5bb77a04cc2fb      0.004910          0.000912   \n",
       "143  0f4a625e8b1bb7e3f0c5bb77a04cc2fb      0.003969          0.000671   \n",
       "179  0f4a625e8b1bb7e3f0c5bb77a04cc2fb      0.005267          0.001024   \n",
       "191  0f4a625e8b1bb7e3f0c5bb77a04cc2fb      0.004055          0.001050   \n",
       "203  0f4a625e8b1bb7e3f0c5bb77a04cc2fb      0.003460          0.001086   \n",
       "215  0f4a625e8b1bb7e3f0c5bb77a04cc2fb      0.002765          0.000232   \n",
       "227  0f4a625e8b1bb7e3f0c5bb77a04cc2fb      0.004012          0.000977   \n",
       "239  0f4a625e8b1bb7e3f0c5bb77a04cc2fb      0.003037          0.000517   \n",
       "\n",
       "                      datetime python_version skforecast_version  \\\n",
       "31  2025-04-22 21:26:54.641780         3.12.9             0.14.0   \n",
       "35  2025-04-22 21:27:05.902025         3.12.9             0.14.0   \n",
       "47  2025-04-22 21:31:06.476643         3.12.9             0.14.0   \n",
       "59  2025-04-22 21:35:41.442892         3.12.9             0.15.0   \n",
       "71  2025-04-22 21:46:37.057769         3.12.9             0.15.0   \n",
       "83  2025-04-22 21:56:18.525001         3.12.9             0.16.0   \n",
       "95  2025-04-22 22:10:59.978681         3.12.9             0.16.0   \n",
       "131 2025-04-22 22:46:04.445545         3.12.9             0.15.0   \n",
       "143 2025-04-22 22:53:38.827744         3.12.9             0.16.0   \n",
       "179 2025-04-23 09:57:32.673644         3.12.9             0.16.0   \n",
       "191 2025-04-23 10:02:38.428848         3.12.9             0.16.0   \n",
       "203 2025-04-23 10:25:49.987546         3.12.9             0.16.0   \n",
       "215 2025-04-23 13:38:55.244003         3.12.9             0.16.0   \n",
       "227 2025-04-23 13:43:17.696049         3.12.9             0.16.0   \n",
       "239 2025-04-23 13:47:21.585258         3.12.9             0.16.0   \n",
       "\n",
       "    numpy_version pandas_version sklearn_version lightgbm_version  \\\n",
       "31         1.26.4          2.2.3           1.4.2            4.6.0   \n",
       "35         1.26.4          2.2.3           1.4.2            4.6.0   \n",
       "47         1.26.4          2.2.3           1.4.2            4.6.0   \n",
       "59         1.26.4          2.2.3           1.4.2            4.6.0   \n",
       "71          2.2.5          2.2.3           1.6.1            4.6.0   \n",
       "83          2.2.5          2.2.3           1.6.1            4.6.0   \n",
       "95         1.26.4          2.2.3           1.6.1            4.6.0   \n",
       "131        1.26.4          2.2.3           1.4.2            4.6.0   \n",
       "143        1.26.4          2.2.3           1.4.2            4.6.0   \n",
       "179        1.26.4          2.2.3           1.4.2            4.6.0   \n",
       "191         2.2.5          2.2.3           1.6.1            4.6.0   \n",
       "203         2.2.5          2.2.3           1.6.1            4.6.0   \n",
       "215         2.2.5          2.2.3           1.6.1            4.6.0   \n",
       "227         2.2.5          2.2.3           1.6.1            4.6.0   \n",
       "239         2.2.5          2.2.3           1.6.1            4.6.0   \n",
       "\n",
       "                                          platform processor  cpu_count  \\\n",
       "31   Linux-6.11.0-21-generic-x86_64-with-glibc2.39    x86_64          8   \n",
       "35   Linux-6.11.0-21-generic-x86_64-with-glibc2.39    x86_64          8   \n",
       "47   Linux-6.11.0-21-generic-x86_64-with-glibc2.39    x86_64          8   \n",
       "59   Linux-6.11.0-21-generic-x86_64-with-glibc2.39    x86_64          8   \n",
       "71   Linux-6.11.0-21-generic-x86_64-with-glibc2.39    x86_64          8   \n",
       "83   Linux-6.11.0-21-generic-x86_64-with-glibc2.39    x86_64          8   \n",
       "95   Linux-6.11.0-21-generic-x86_64-with-glibc2.39    x86_64          8   \n",
       "131  Linux-6.11.0-21-generic-x86_64-with-glibc2.39    x86_64          8   \n",
       "143  Linux-6.11.0-21-generic-x86_64-with-glibc2.39    x86_64          8   \n",
       "179  Linux-6.11.0-21-generic-x86_64-with-glibc2.39    x86_64          8   \n",
       "191  Linux-6.11.0-21-generic-x86_64-with-glibc2.39    x86_64          8   \n",
       "203  Linux-6.11.0-21-generic-x86_64-with-glibc2.39    x86_64          8   \n",
       "215  Linux-6.11.0-21-generic-x86_64-with-glibc2.39    x86_64          8   \n",
       "227  Linux-6.11.0-21-generic-x86_64-with-glibc2.39    x86_64          8   \n",
       "239  Linux-6.11.0-21-generic-x86_64-with-glibc2.39    x86_64          8   \n",
       "\n",
       "     memory_gb  \n",
       "31       16.64  \n",
       "35       16.64  \n",
       "47       16.64  \n",
       "59       16.64  \n",
       "71       16.64  \n",
       "83       16.64  \n",
       "95       16.64  \n",
       "131      16.64  \n",
       "143      16.64  \n",
       "179      16.64  \n",
       "191      16.64  \n",
       "203      16.64  \n",
       "215      16.64  \n",
       "227      16.64  \n",
       "239      16.64  "
      ]
     },
     "metadata": {},
     "output_type": "display_data"
    },
    {
     "data": {
      "application/vnd.plotly.v1+json": {
       "config": {
        "plotlyServerURL": "https://plot.ly"
       },
       "data": [
        {
         "alignmentgroup": "True",
         "boxpoints": "all",
         "customdata": [
          [
           "ForecasterRecursive",
           "LGBMRegressor",
           "ForecasterRecursive__create_predict_inputs",
           "4a58c7a370a6467cc0ba5eda400fa239",
           0.00015467867635162932,
           "2025-04-22T21:26:54.641780",
           "3.12.9",
           "1.26.4",
           "2.2.3",
           "1.4.2",
           "4.6.0",
           "Linux-6.11.0-21-generic-x86_64-with-glibc2.39",
           "x86_64",
           8,
           16.64
          ],
          [
           "ForecasterRecursive",
           "LGBMRegressor",
           "ForecasterRecursive__create_predict_inputs",
           "4a58c7a370a6467cc0ba5eda400fa239",
           0.00036554762816456195,
           "2025-04-22T21:27:05.902025",
           "3.12.9",
           "1.26.4",
           "2.2.3",
           "1.4.2",
           "4.6.0",
           "Linux-6.11.0-21-generic-x86_64-with-glibc2.39",
           "x86_64",
           8,
           16.64
          ],
          [
           "ForecasterRecursive",
           "LGBMRegressor",
           "ForecasterRecursive__create_predict_inputs",
           "4a58c7a370a6467cc0ba5eda400fa239",
           0.00027980956855150465,
           "2025-04-22T21:31:06.476643",
           "3.12.9",
           "1.26.4",
           "2.2.3",
           "1.4.2",
           "4.6.0",
           "Linux-6.11.0-21-generic-x86_64-with-glibc2.39",
           "x86_64",
           8,
           16.64
          ]
         ],
         "fillcolor": "rgba(255,255,255,0)",
         "hoveron": "points",
         "hovertemplate": "skforecast_version=%{x}<br>run_time_avg=%{y}<br>forecaster_name=%{customdata[0]}<br>regressor_name=%{customdata[1]}<br>function_name=%{customdata[2]}<br>function_hash=%{customdata[3]}<br>run_time_std_dev=%{customdata[4]}<br>datetime=%{customdata[5]}<br>python_version=%{customdata[6]}<br>numpy_version=%{customdata[7]}<br>pandas_version=%{customdata[8]}<br>sklearn_version=%{customdata[9]}<br>lightgbm_version=%{customdata[10]}<br>platform=%{customdata[11]}<br>processor=%{customdata[12]}<br>cpu_count=%{customdata[13]}<br>memory_gb=%{customdata[14]}<extra></extra>",
         "jitter": true,
         "legendgroup": "0.14.0",
         "line": {
          "color": "rgba(255,255,255,0)"
         },
         "marker": {
          "color": "#636efa",
          "opacity": 0.7,
          "size": 10
         },
         "name": "0.14.0",
         "offsetgroup": "0.14.0",
         "orientation": "v",
         "pointpos": 0,
         "showlegend": true,
         "type": "box",
         "x": [
          "0.14.0",
          "0.14.0",
          "0.14.0"
         ],
         "x0": " ",
         "xaxis": "x",
         "y": {
          "bdata": "ZmYu3SjjdD8zMzMYI4BmP5qZ2as0YGo/",
          "dtype": "f8"
         },
         "y0": " ",
         "yaxis": "y"
        },
        {
         "alignmentgroup": "True",
         "boxpoints": "all",
         "customdata": [
          [
           "ForecasterRecursive",
           "LGBMRegressor",
           "ForecasterRecursive__create_predict_inputs",
           "4a58c7a370a6467cc0ba5eda400fa239",
           0.000858736743294575,
           "2025-04-22T21:35:41.442892",
           "3.12.9",
           "1.26.4",
           "2.2.3",
           "1.4.2",
           "4.6.0",
           "Linux-6.11.0-21-generic-x86_64-with-glibc2.39",
           "x86_64",
           8,
           16.64
          ],
          [
           "ForecasterRecursive",
           "LGBMRegressor",
           "ForecasterRecursive__create_predict_inputs",
           "4a58c7a370a6467cc0ba5eda400fa239",
           0.0005830124691068192,
           "2025-04-22T21:46:37.057769",
           "3.12.9",
           "2.2.5",
           "2.2.3",
           "1.6.1",
           "4.6.0",
           "Linux-6.11.0-21-generic-x86_64-with-glibc2.39",
           "x86_64",
           8,
           16.64
          ],
          [
           "ForecasterRecursive",
           "LGBMRegressor",
           "ForecasterRecursive__create_predict_inputs",
           "0f4a625e8b1bb7e3f0c5bb77a04cc2fb",
           0.0009123363953931547,
           "2025-04-22T22:46:04.445545",
           "3.12.9",
           "1.26.4",
           "2.2.3",
           "1.4.2",
           "4.6.0",
           "Linux-6.11.0-21-generic-x86_64-with-glibc2.39",
           "x86_64",
           8,
           16.64
          ]
         ],
         "fillcolor": "rgba(255,255,255,0)",
         "hoveron": "points",
         "hovertemplate": "skforecast_version=%{x}<br>run_time_avg=%{y}<br>forecaster_name=%{customdata[0]}<br>regressor_name=%{customdata[1]}<br>function_name=%{customdata[2]}<br>function_hash=%{customdata[3]}<br>run_time_std_dev=%{customdata[4]}<br>datetime=%{customdata[5]}<br>python_version=%{customdata[6]}<br>numpy_version=%{customdata[7]}<br>pandas_version=%{customdata[8]}<br>sklearn_version=%{customdata[9]}<br>lightgbm_version=%{customdata[10]}<br>platform=%{customdata[11]}<br>processor=%{customdata[12]}<br>cpu_count=%{customdata[13]}<br>memory_gb=%{customdata[14]}<extra></extra>",
         "jitter": true,
         "legendgroup": "0.15.0",
         "line": {
          "color": "rgba(255,255,255,0)"
         },
         "marker": {
          "color": "#EF553B",
          "opacity": 0.7,
          "size": 10
         },
         "name": "0.15.0",
         "offsetgroup": "0.15.0",
         "orientation": "v",
         "pointpos": 0,
         "showlegend": true,
         "type": "box",
         "x": [
          "0.15.0",
          "0.15.0",
          "0.15.0"
         ],
         "x0": " ",
         "xaxis": "x",
         "y": {
          "bdata": "AACIGS3Fcj8AACCLa3Z0P2Zm5mcYHHQ/",
          "dtype": "f8"
         },
         "y0": " ",
         "yaxis": "y"
        },
        {
         "alignmentgroup": "True",
         "boxpoints": "all",
         "customdata": [
          [
           "ForecasterRecursive",
           "LGBMRegressor",
           "ForecasterRecursive__create_predict_inputs",
           "0f4a625e8b1bb7e3f0c5bb77a04cc2fb",
           0.003857125616908375,
           "2025-04-22T21:56:18.525001",
           "3.12.9",
           "2.2.5",
           "2.2.3",
           "1.6.1",
           "4.6.0",
           "Linux-6.11.0-21-generic-x86_64-with-glibc2.39",
           "x86_64",
           8,
           16.64
          ],
          [
           "ForecasterRecursive",
           "LGBMRegressor",
           "ForecasterRecursive__create_predict_inputs",
           "0f4a625e8b1bb7e3f0c5bb77a04cc2fb",
           0.0011288932558789733,
           "2025-04-22T22:10:59.978681",
           "3.12.9",
           "1.26.4",
           "2.2.3",
           "1.6.1",
           "4.6.0",
           "Linux-6.11.0-21-generic-x86_64-with-glibc2.39",
           "x86_64",
           8,
           16.64
          ],
          [
           "ForecasterRecursive",
           "LGBMRegressor",
           "ForecasterRecursive__create_predict_inputs",
           "0f4a625e8b1bb7e3f0c5bb77a04cc2fb",
           0.0006713638978457846,
           "2025-04-22T22:53:38.827744",
           "3.12.9",
           "1.26.4",
           "2.2.3",
           "1.4.2",
           "4.6.0",
           "Linux-6.11.0-21-generic-x86_64-with-glibc2.39",
           "x86_64",
           8,
           16.64
          ],
          [
           "ForecasterRecursive",
           "LGBMRegressor",
           "ForecasterRecursive__create_predict_inputs",
           "0f4a625e8b1bb7e3f0c5bb77a04cc2fb",
           0.0010237894128750727,
           "2025-04-23T09:57:32.673644",
           "3.12.9",
           "1.26.4",
           "2.2.3",
           "1.4.2",
           "4.6.0",
           "Linux-6.11.0-21-generic-x86_64-with-glibc2.39",
           "x86_64",
           8,
           16.64
          ],
          [
           "ForecasterRecursive",
           "LGBMRegressor",
           "ForecasterRecursive__create_predict_inputs",
           "0f4a625e8b1bb7e3f0c5bb77a04cc2fb",
           0.0010504795519842257,
           "2025-04-23T10:02:38.428848",
           "3.12.9",
           "2.2.5",
           "2.2.3",
           "1.6.1",
           "4.6.0",
           "Linux-6.11.0-21-generic-x86_64-with-glibc2.39",
           "x86_64",
           8,
           16.64
          ],
          [
           "ForecasterRecursive",
           "LGBMRegressor",
           "ForecasterRecursive__create_predict_inputs",
           "0f4a625e8b1bb7e3f0c5bb77a04cc2fb",
           0.00108598409420283,
           "2025-04-23T10:25:49.987546",
           "3.12.9",
           "2.2.5",
           "2.2.3",
           "1.6.1",
           "4.6.0",
           "Linux-6.11.0-21-generic-x86_64-with-glibc2.39",
           "x86_64",
           8,
           16.64
          ],
          [
           "ForecasterRecursive",
           "LGBMRegressor",
           "ForecasterRecursive__create_predict_inputs",
           "0f4a625e8b1bb7e3f0c5bb77a04cc2fb",
           0.00023242568522361976,
           "2025-04-23T13:38:55.244003",
           "3.12.9",
           "2.2.5",
           "2.2.3",
           "1.6.1",
           "4.6.0",
           "Linux-6.11.0-21-generic-x86_64-with-glibc2.39",
           "x86_64",
           8,
           16.64
          ],
          [
           "ForecasterRecursive",
           "LGBMRegressor",
           "ForecasterRecursive__create_predict_inputs",
           "0f4a625e8b1bb7e3f0c5bb77a04cc2fb",
           0.0009771779647962634,
           "2025-04-23T13:43:17.696049",
           "3.12.9",
           "2.2.5",
           "2.2.3",
           "1.6.1",
           "4.6.0",
           "Linux-6.11.0-21-generic-x86_64-with-glibc2.39",
           "x86_64",
           8,
           16.64
          ],
          [
           "ForecasterRecursive",
           "LGBMRegressor",
           "ForecasterRecursive__create_predict_inputs",
           "0f4a625e8b1bb7e3f0c5bb77a04cc2fb",
           0.0005172520867538996,
           "2025-04-23T13:47:21.585258",
           "3.12.9",
           "2.2.5",
           "2.2.3",
           "1.6.1",
           "4.6.0",
           "Linux-6.11.0-21-generic-x86_64-with-glibc2.39",
           "x86_64",
           8,
           16.64
          ]
         ],
         "fillcolor": "rgba(255,255,255,0)",
         "hoveron": "points",
         "hovertemplate": "skforecast_version=%{x}<br>run_time_avg=%{y}<br>forecaster_name=%{customdata[0]}<br>regressor_name=%{customdata[1]}<br>function_name=%{customdata[2]}<br>function_hash=%{customdata[3]}<br>run_time_std_dev=%{customdata[4]}<br>datetime=%{customdata[5]}<br>python_version=%{customdata[6]}<br>numpy_version=%{customdata[7]}<br>pandas_version=%{customdata[8]}<br>sklearn_version=%{customdata[9]}<br>lightgbm_version=%{customdata[10]}<br>platform=%{customdata[11]}<br>processor=%{customdata[12]}<br>cpu_count=%{customdata[13]}<br>memory_gb=%{customdata[14]}<extra></extra>",
         "jitter": true,
         "legendgroup": "0.16.0",
         "line": {
          "color": "rgba(255,255,255,0)"
         },
         "marker": {
          "color": "#00cc96",
          "opacity": 0.7,
          "size": 10
         },
         "name": "0.16.0",
         "offsetgroup": "0.16.0",
         "orientation": "v",
         "pointpos": 0,
         "showlegend": true,
         "type": "box",
         "x": [
          "0.16.0",
          "0.16.0",
          "0.16.0",
          "0.16.0",
          "0.16.0",
          "0.16.0",
          "0.16.0",
          "0.16.0",
          "0.16.0"
         ],
         "x0": " ",
         "xaxis": "x",
         "y": {
          "bdata": "zczA1U8xgj+amWH4K0xyP83MLPAAQnA/AAB0DWSSdT8zM0sU0ZtwP2ZmhjXAV2w/mpl5COGmZj8zM8OOpG5wP83MbBwx4Gg/",
          "dtype": "f8"
         },
         "y0": " ",
         "yaxis": "y"
        },
        {
         "line": {
          "color": "black",
          "width": 2
         },
         "marker": {
          "size": 8
         },
         "mode": "lines+markers",
         "name": "Median",
         "showlegend": true,
         "type": "scatter",
         "x": [
          "0.14.0",
          "0.15.0",
          "0.16.0"
         ],
         "y": {
          "bdata": "mpnZqzRgaj9mZuZnGBx0PzMzw46kbnA/",
          "dtype": "f8"
         }
        }
       ],
       "layout": {
        "boxmode": "overlay",
        "legend": {
         "title": {
          "text": "skforecast_version"
         },
         "tracegroupgap": 0
        },
        "margin": {
         "t": 60
        },
        "showlegend": true,
        "template": {
         "data": {
          "bar": [
           {
            "error_x": {
             "color": "#2a3f5f"
            },
            "error_y": {
             "color": "#2a3f5f"
            },
            "marker": {
             "line": {
              "color": "#E5ECF6",
              "width": 0.5
             },
             "pattern": {
              "fillmode": "overlay",
              "size": 10,
              "solidity": 0.2
             }
            },
            "type": "bar"
           }
          ],
          "barpolar": [
           {
            "marker": {
             "line": {
              "color": "#E5ECF6",
              "width": 0.5
             },
             "pattern": {
              "fillmode": "overlay",
              "size": 10,
              "solidity": 0.2
             }
            },
            "type": "barpolar"
           }
          ],
          "carpet": [
           {
            "aaxis": {
             "endlinecolor": "#2a3f5f",
             "gridcolor": "white",
             "linecolor": "white",
             "minorgridcolor": "white",
             "startlinecolor": "#2a3f5f"
            },
            "baxis": {
             "endlinecolor": "#2a3f5f",
             "gridcolor": "white",
             "linecolor": "white",
             "minorgridcolor": "white",
             "startlinecolor": "#2a3f5f"
            },
            "type": "carpet"
           }
          ],
          "choropleth": [
           {
            "colorbar": {
             "outlinewidth": 0,
             "ticks": ""
            },
            "type": "choropleth"
           }
          ],
          "contour": [
           {
            "colorbar": {
             "outlinewidth": 0,
             "ticks": ""
            },
            "colorscale": [
             [
              0,
              "#0d0887"
             ],
             [
              0.1111111111111111,
              "#46039f"
             ],
             [
              0.2222222222222222,
              "#7201a8"
             ],
             [
              0.3333333333333333,
              "#9c179e"
             ],
             [
              0.4444444444444444,
              "#bd3786"
             ],
             [
              0.5555555555555556,
              "#d8576b"
             ],
             [
              0.6666666666666666,
              "#ed7953"
             ],
             [
              0.7777777777777778,
              "#fb9f3a"
             ],
             [
              0.8888888888888888,
              "#fdca26"
             ],
             [
              1,
              "#f0f921"
             ]
            ],
            "type": "contour"
           }
          ],
          "contourcarpet": [
           {
            "colorbar": {
             "outlinewidth": 0,
             "ticks": ""
            },
            "type": "contourcarpet"
           }
          ],
          "heatmap": [
           {
            "colorbar": {
             "outlinewidth": 0,
             "ticks": ""
            },
            "colorscale": [
             [
              0,
              "#0d0887"
             ],
             [
              0.1111111111111111,
              "#46039f"
             ],
             [
              0.2222222222222222,
              "#7201a8"
             ],
             [
              0.3333333333333333,
              "#9c179e"
             ],
             [
              0.4444444444444444,
              "#bd3786"
             ],
             [
              0.5555555555555556,
              "#d8576b"
             ],
             [
              0.6666666666666666,
              "#ed7953"
             ],
             [
              0.7777777777777778,
              "#fb9f3a"
             ],
             [
              0.8888888888888888,
              "#fdca26"
             ],
             [
              1,
              "#f0f921"
             ]
            ],
            "type": "heatmap"
           }
          ],
          "histogram": [
           {
            "marker": {
             "pattern": {
              "fillmode": "overlay",
              "size": 10,
              "solidity": 0.2
             }
            },
            "type": "histogram"
           }
          ],
          "histogram2d": [
           {
            "colorbar": {
             "outlinewidth": 0,
             "ticks": ""
            },
            "colorscale": [
             [
              0,
              "#0d0887"
             ],
             [
              0.1111111111111111,
              "#46039f"
             ],
             [
              0.2222222222222222,
              "#7201a8"
             ],
             [
              0.3333333333333333,
              "#9c179e"
             ],
             [
              0.4444444444444444,
              "#bd3786"
             ],
             [
              0.5555555555555556,
              "#d8576b"
             ],
             [
              0.6666666666666666,
              "#ed7953"
             ],
             [
              0.7777777777777778,
              "#fb9f3a"
             ],
             [
              0.8888888888888888,
              "#fdca26"
             ],
             [
              1,
              "#f0f921"
             ]
            ],
            "type": "histogram2d"
           }
          ],
          "histogram2dcontour": [
           {
            "colorbar": {
             "outlinewidth": 0,
             "ticks": ""
            },
            "colorscale": [
             [
              0,
              "#0d0887"
             ],
             [
              0.1111111111111111,
              "#46039f"
             ],
             [
              0.2222222222222222,
              "#7201a8"
             ],
             [
              0.3333333333333333,
              "#9c179e"
             ],
             [
              0.4444444444444444,
              "#bd3786"
             ],
             [
              0.5555555555555556,
              "#d8576b"
             ],
             [
              0.6666666666666666,
              "#ed7953"
             ],
             [
              0.7777777777777778,
              "#fb9f3a"
             ],
             [
              0.8888888888888888,
              "#fdca26"
             ],
             [
              1,
              "#f0f921"
             ]
            ],
            "type": "histogram2dcontour"
           }
          ],
          "mesh3d": [
           {
            "colorbar": {
             "outlinewidth": 0,
             "ticks": ""
            },
            "type": "mesh3d"
           }
          ],
          "parcoords": [
           {
            "line": {
             "colorbar": {
              "outlinewidth": 0,
              "ticks": ""
             }
            },
            "type": "parcoords"
           }
          ],
          "pie": [
           {
            "automargin": true,
            "type": "pie"
           }
          ],
          "scatter": [
           {
            "fillpattern": {
             "fillmode": "overlay",
             "size": 10,
             "solidity": 0.2
            },
            "type": "scatter"
           }
          ],
          "scatter3d": [
           {
            "line": {
             "colorbar": {
              "outlinewidth": 0,
              "ticks": ""
             }
            },
            "marker": {
             "colorbar": {
              "outlinewidth": 0,
              "ticks": ""
             }
            },
            "type": "scatter3d"
           }
          ],
          "scattercarpet": [
           {
            "marker": {
             "colorbar": {
              "outlinewidth": 0,
              "ticks": ""
             }
            },
            "type": "scattercarpet"
           }
          ],
          "scattergeo": [
           {
            "marker": {
             "colorbar": {
              "outlinewidth": 0,
              "ticks": ""
             }
            },
            "type": "scattergeo"
           }
          ],
          "scattergl": [
           {
            "marker": {
             "colorbar": {
              "outlinewidth": 0,
              "ticks": ""
             }
            },
            "type": "scattergl"
           }
          ],
          "scattermap": [
           {
            "marker": {
             "colorbar": {
              "outlinewidth": 0,
              "ticks": ""
             }
            },
            "type": "scattermap"
           }
          ],
          "scattermapbox": [
           {
            "marker": {
             "colorbar": {
              "outlinewidth": 0,
              "ticks": ""
             }
            },
            "type": "scattermapbox"
           }
          ],
          "scatterpolar": [
           {
            "marker": {
             "colorbar": {
              "outlinewidth": 0,
              "ticks": ""
             }
            },
            "type": "scatterpolar"
           }
          ],
          "scatterpolargl": [
           {
            "marker": {
             "colorbar": {
              "outlinewidth": 0,
              "ticks": ""
             }
            },
            "type": "scatterpolargl"
           }
          ],
          "scatterternary": [
           {
            "marker": {
             "colorbar": {
              "outlinewidth": 0,
              "ticks": ""
             }
            },
            "type": "scatterternary"
           }
          ],
          "surface": [
           {
            "colorbar": {
             "outlinewidth": 0,
             "ticks": ""
            },
            "colorscale": [
             [
              0,
              "#0d0887"
             ],
             [
              0.1111111111111111,
              "#46039f"
             ],
             [
              0.2222222222222222,
              "#7201a8"
             ],
             [
              0.3333333333333333,
              "#9c179e"
             ],
             [
              0.4444444444444444,
              "#bd3786"
             ],
             [
              0.5555555555555556,
              "#d8576b"
             ],
             [
              0.6666666666666666,
              "#ed7953"
             ],
             [
              0.7777777777777778,
              "#fb9f3a"
             ],
             [
              0.8888888888888888,
              "#fdca26"
             ],
             [
              1,
              "#f0f921"
             ]
            ],
            "type": "surface"
           }
          ],
          "table": [
           {
            "cells": {
             "fill": {
              "color": "#EBF0F8"
             },
             "line": {
              "color": "white"
             }
            },
            "header": {
             "fill": {
              "color": "#C8D4E3"
             },
             "line": {
              "color": "white"
             }
            },
            "type": "table"
           }
          ]
         },
         "layout": {
          "annotationdefaults": {
           "arrowcolor": "#2a3f5f",
           "arrowhead": 0,
           "arrowwidth": 1
          },
          "autotypenumbers": "strict",
          "coloraxis": {
           "colorbar": {
            "outlinewidth": 0,
            "ticks": ""
           }
          },
          "colorscale": {
           "diverging": [
            [
             0,
             "#8e0152"
            ],
            [
             0.1,
             "#c51b7d"
            ],
            [
             0.2,
             "#de77ae"
            ],
            [
             0.3,
             "#f1b6da"
            ],
            [
             0.4,
             "#fde0ef"
            ],
            [
             0.5,
             "#f7f7f7"
            ],
            [
             0.6,
             "#e6f5d0"
            ],
            [
             0.7,
             "#b8e186"
            ],
            [
             0.8,
             "#7fbc41"
            ],
            [
             0.9,
             "#4d9221"
            ],
            [
             1,
             "#276419"
            ]
           ],
           "sequential": [
            [
             0,
             "#0d0887"
            ],
            [
             0.1111111111111111,
             "#46039f"
            ],
            [
             0.2222222222222222,
             "#7201a8"
            ],
            [
             0.3333333333333333,
             "#9c179e"
            ],
            [
             0.4444444444444444,
             "#bd3786"
            ],
            [
             0.5555555555555556,
             "#d8576b"
            ],
            [
             0.6666666666666666,
             "#ed7953"
            ],
            [
             0.7777777777777778,
             "#fb9f3a"
            ],
            [
             0.8888888888888888,
             "#fdca26"
            ],
            [
             1,
             "#f0f921"
            ]
           ],
           "sequentialminus": [
            [
             0,
             "#0d0887"
            ],
            [
             0.1111111111111111,
             "#46039f"
            ],
            [
             0.2222222222222222,
             "#7201a8"
            ],
            [
             0.3333333333333333,
             "#9c179e"
            ],
            [
             0.4444444444444444,
             "#bd3786"
            ],
            [
             0.5555555555555556,
             "#d8576b"
            ],
            [
             0.6666666666666666,
             "#ed7953"
            ],
            [
             0.7777777777777778,
             "#fb9f3a"
            ],
            [
             0.8888888888888888,
             "#fdca26"
            ],
            [
             1,
             "#f0f921"
            ]
           ]
          },
          "colorway": [
           "#636efa",
           "#EF553B",
           "#00cc96",
           "#ab63fa",
           "#FFA15A",
           "#19d3f3",
           "#FF6692",
           "#B6E880",
           "#FF97FF",
           "#FECB52"
          ],
          "font": {
           "color": "#2a3f5f"
          },
          "geo": {
           "bgcolor": "white",
           "lakecolor": "white",
           "landcolor": "#E5ECF6",
           "showlakes": true,
           "showland": true,
           "subunitcolor": "white"
          },
          "hoverlabel": {
           "align": "left"
          },
          "hovermode": "closest",
          "mapbox": {
           "style": "light"
          },
          "paper_bgcolor": "white",
          "plot_bgcolor": "#E5ECF6",
          "polar": {
           "angularaxis": {
            "gridcolor": "white",
            "linecolor": "white",
            "ticks": ""
           },
           "bgcolor": "#E5ECF6",
           "radialaxis": {
            "gridcolor": "white",
            "linecolor": "white",
            "ticks": ""
           }
          },
          "scene": {
           "xaxis": {
            "backgroundcolor": "#E5ECF6",
            "gridcolor": "white",
            "gridwidth": 2,
            "linecolor": "white",
            "showbackground": true,
            "ticks": "",
            "zerolinecolor": "white"
           },
           "yaxis": {
            "backgroundcolor": "#E5ECF6",
            "gridcolor": "white",
            "gridwidth": 2,
            "linecolor": "white",
            "showbackground": true,
            "ticks": "",
            "zerolinecolor": "white"
           },
           "zaxis": {
            "backgroundcolor": "#E5ECF6",
            "gridcolor": "white",
            "gridwidth": 2,
            "linecolor": "white",
            "showbackground": true,
            "ticks": "",
            "zerolinecolor": "white"
           }
          },
          "shapedefaults": {
           "line": {
            "color": "#2a3f5f"
           }
          },
          "ternary": {
           "aaxis": {
            "gridcolor": "white",
            "linecolor": "white",
            "ticks": ""
           },
           "baxis": {
            "gridcolor": "white",
            "linecolor": "white",
            "ticks": ""
           },
           "bgcolor": "#E5ECF6",
           "caxis": {
            "gridcolor": "white",
            "linecolor": "white",
            "ticks": ""
           }
          },
          "title": {
           "x": 0.05
          },
          "xaxis": {
           "automargin": true,
           "gridcolor": "white",
           "linecolor": "white",
           "ticks": "",
           "title": {
            "standoff": 15
           },
           "zerolinecolor": "white",
           "zerolinewidth": 2
          },
          "yaxis": {
           "automargin": true,
           "gridcolor": "white",
           "linecolor": "white",
           "ticks": "",
           "title": {
            "standoff": 15
           },
           "zerolinecolor": "white",
           "zerolinewidth": 2
          }
         }
        },
        "title": {
         "text": "Execution time of ForecasterRecursive__create_predict_inputs"
        },
        "xaxis": {
         "anchor": "y",
         "categoryarray": [
          "0.14.0",
          "0.15.0",
          "0.16.0"
         ],
         "categoryorder": "array",
         "domain": [
          0,
          1
         ],
         "title": {
          "text": "skforecast version"
         }
        },
        "yaxis": {
         "anchor": "x",
         "domain": [
          0,
          1
         ],
         "title": {
          "text": "Execution time (seconds)"
         }
        }
       }
      }
     },
     "metadata": {},
     "output_type": "display_data"
    }
   ],
   "source": [
    "# Plot results\n",
    "# ==============================================================================\n",
    "results_benchmark = joblib.load(\"benchmarks/benchmark.joblib\")\n",
    "results_benchmark = results_benchmark.query(\"forecaster_name == 'ForecasterRecursive'\").copy()\n",
    "results_benchmark = results_benchmark.query(\"regressor_name == 'LGBMRegressor'\").copy()\n",
    "for function_name in results_benchmark['function_name'].unique():\n",
    "    df = results_benchmark.query(f\"function_name == '{function_name}'\").copy()\n",
    "    display(df)\n",
    "    plot_benchmark_results(df, function_name)"
   ]
  }
 ],
 "metadata": {
  "kernelspec": {
   "display_name": "skforecast_16_py12",
   "language": "python",
   "name": "python3"
  },
  "language_info": {
   "codemirror_mode": {
    "name": "ipython",
    "version": 3
   },
   "file_extension": ".py",
   "mimetype": "text/x-python",
   "name": "python",
   "nbconvert_exporter": "python",
   "pygments_lexer": "ipython3",
   "version": "3.12.9"
  },
  "orig_nbformat": 4
 },
 "nbformat": 4,
 "nbformat_minor": 2
}
