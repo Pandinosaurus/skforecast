{
 "cells": [
  {
   "cell_type": "markdown",
   "metadata": {},
   "source": [
    "# Benchmarking skforecast\n",
    "\n",
    "This notebook benchmarks the performance (velocity) of the `skforecast` in its different versions and keeps track of the results."
   ]
  },
  {
   "cell_type": "code",
   "execution_count": 1,
   "metadata": {},
   "outputs": [],
   "source": [
    "# %load_ext autoreload\n",
    "# %autoreload 2\n",
    "# import sys\n",
    "# from pathlib import Path\n",
    "# path = str(Path.cwd().parent)\n",
    "# print(path)\n",
    "# sys.path.insert(1, path)"
   ]
  },
  {
   "cell_type": "code",
   "execution_count": null,
   "metadata": {},
   "outputs": [
    {
     "name": "stdout",
     "output_type": "stream",
     "text": [
      "Collecting skforecast==0.15.0\n",
      "  Using cached skforecast-0.15.0-py3-none-any.whl.metadata (18 kB)\n",
      "Requirement already satisfied: numpy>=1.24 in /home/joaquin/miniconda3/envs/skforecast_16_py12/lib/python3.12/site-packages (from skforecast==0.15.0) (1.26.4)\n",
      "Requirement already satisfied: pandas>=1.5 in /home/joaquin/miniconda3/envs/skforecast_16_py12/lib/python3.12/site-packages (from skforecast==0.15.0) (2.2.3)\n",
      "Requirement already satisfied: tqdm>=4.57 in /home/joaquin/miniconda3/envs/skforecast_16_py12/lib/python3.12/site-packages (from skforecast==0.15.0) (4.66.6)\n",
      "Requirement already satisfied: scikit-learn>=1.2 in /home/joaquin/miniconda3/envs/skforecast_16_py12/lib/python3.12/site-packages (from skforecast==0.15.0) (1.4.2)\n",
      "Requirement already satisfied: optuna>=2.10 in /home/joaquin/miniconda3/envs/skforecast_16_py12/lib/python3.12/site-packages (from skforecast==0.15.0) (3.6.2)\n",
      "Requirement already satisfied: joblib>=1.1 in /home/joaquin/miniconda3/envs/skforecast_16_py12/lib/python3.12/site-packages (from skforecast==0.15.0) (1.4.2)\n",
      "Requirement already satisfied: numba>=0.59 in /home/joaquin/miniconda3/envs/skforecast_16_py12/lib/python3.12/site-packages (from skforecast==0.15.0) (0.61.2)\n",
      "Requirement already satisfied: rich>=13.9 in /home/joaquin/miniconda3/envs/skforecast_16_py12/lib/python3.12/site-packages (from skforecast==0.15.0) (14.0.0)\n",
      "Requirement already satisfied: llvmlite<0.45,>=0.44.0dev0 in /home/joaquin/miniconda3/envs/skforecast_16_py12/lib/python3.12/site-packages (from numba>=0.59->skforecast==0.15.0) (0.44.0)\n",
      "Requirement already satisfied: alembic>=1.5.0 in /home/joaquin/miniconda3/envs/skforecast_16_py12/lib/python3.12/site-packages (from optuna>=2.10->skforecast==0.15.0) (1.15.2)\n",
      "Requirement already satisfied: colorlog in /home/joaquin/miniconda3/envs/skforecast_16_py12/lib/python3.12/site-packages (from optuna>=2.10->skforecast==0.15.0) (6.9.0)\n",
      "Requirement already satisfied: packaging>=20.0 in /home/joaquin/miniconda3/envs/skforecast_16_py12/lib/python3.12/site-packages (from optuna>=2.10->skforecast==0.15.0) (24.2)\n",
      "Requirement already satisfied: sqlalchemy>=1.3.0 in /home/joaquin/miniconda3/envs/skforecast_16_py12/lib/python3.12/site-packages (from optuna>=2.10->skforecast==0.15.0) (2.0.40)\n",
      "Requirement already satisfied: PyYAML in /home/joaquin/miniconda3/envs/skforecast_16_py12/lib/python3.12/site-packages (from optuna>=2.10->skforecast==0.15.0) (6.0.2)\n",
      "Requirement already satisfied: python-dateutil>=2.8.2 in /home/joaquin/miniconda3/envs/skforecast_16_py12/lib/python3.12/site-packages (from pandas>=1.5->skforecast==0.15.0) (2.9.0.post0)\n",
      "Requirement already satisfied: pytz>=2020.1 in /home/joaquin/miniconda3/envs/skforecast_16_py12/lib/python3.12/site-packages (from pandas>=1.5->skforecast==0.15.0) (2025.2)\n",
      "Requirement already satisfied: tzdata>=2022.7 in /home/joaquin/miniconda3/envs/skforecast_16_py12/lib/python3.12/site-packages (from pandas>=1.5->skforecast==0.15.0) (2025.2)\n",
      "Requirement already satisfied: markdown-it-py>=2.2.0 in /home/joaquin/miniconda3/envs/skforecast_16_py12/lib/python3.12/site-packages (from rich>=13.9->skforecast==0.15.0) (3.0.0)\n",
      "Requirement already satisfied: pygments<3.0.0,>=2.13.0 in /home/joaquin/miniconda3/envs/skforecast_16_py12/lib/python3.12/site-packages (from rich>=13.9->skforecast==0.15.0) (2.19.1)\n",
      "Requirement already satisfied: scipy>=1.6.0 in /home/joaquin/miniconda3/envs/skforecast_16_py12/lib/python3.12/site-packages (from scikit-learn>=1.2->skforecast==0.15.0) (1.15.2)\n",
      "Requirement already satisfied: threadpoolctl>=2.0.0 in /home/joaquin/miniconda3/envs/skforecast_16_py12/lib/python3.12/site-packages (from scikit-learn>=1.2->skforecast==0.15.0) (3.6.0)\n",
      "Requirement already satisfied: Mako in /home/joaquin/miniconda3/envs/skforecast_16_py12/lib/python3.12/site-packages (from alembic>=1.5.0->optuna>=2.10->skforecast==0.15.0) (1.3.10)\n",
      "Requirement already satisfied: typing-extensions>=4.12 in /home/joaquin/miniconda3/envs/skforecast_16_py12/lib/python3.12/site-packages (from alembic>=1.5.0->optuna>=2.10->skforecast==0.15.0) (4.13.2)\n",
      "Requirement already satisfied: mdurl~=0.1 in /home/joaquin/miniconda3/envs/skforecast_16_py12/lib/python3.12/site-packages (from markdown-it-py>=2.2.0->rich>=13.9->skforecast==0.15.0) (0.1.2)\n",
      "Requirement already satisfied: six>=1.5 in /home/joaquin/miniconda3/envs/skforecast_16_py12/lib/python3.12/site-packages (from python-dateutil>=2.8.2->pandas>=1.5->skforecast==0.15.0) (1.17.0)\n",
      "Requirement already satisfied: greenlet>=1 in /home/joaquin/miniconda3/envs/skforecast_16_py12/lib/python3.12/site-packages (from sqlalchemy>=1.3.0->optuna>=2.10->skforecast==0.15.0) (3.2.0)\n",
      "Requirement already satisfied: MarkupSafe>=0.9.2 in /home/joaquin/miniconda3/envs/skforecast_16_py12/lib/python3.12/site-packages (from Mako->alembic>=1.5.0->optuna>=2.10->skforecast==0.15.0) (3.0.2)\n",
      "Using cached skforecast-0.15.0-py3-none-any.whl (818 kB)\n",
      "Installing collected packages: skforecast\n",
      "  Attempting uninstall: skforecast\n",
      "    Found existing installation: skforecast 0.12.0\n",
      "    Uninstalling skforecast-0.12.0:\n",
      "      Successfully uninstalled skforecast-0.12.0\n",
      "Successfully installed skforecast-0.15.0\n"
     ]
    }
   ],
   "source": [
    "# !pip install --upgrade numpy < 2.0 && \\\n",
    "# pip install --upgrade pandas && \\\n",
    "# pip install --upgrade scikit-learn && \\\n",
    "# !pip install skforecast==0.15.0"
   ]
  },
  {
   "cell_type": "code",
   "execution_count": 3,
   "metadata": {},
   "outputs": [
    {
     "name": "stdout",
     "output_type": "stream",
     "text": [
      "Skforecast version:  0.12.0\n"
     ]
    }
   ],
   "source": [
    "# Libraries\n",
    "# ==============================================================================\n",
    "import timeit\n",
    "import platform\n",
    "import joblib\n",
    "import os\n",
    "import sys\n",
    "import warnings\n",
    "import hashlib\n",
    "import inspect\n",
    "import psutil\n",
    "import sklearn\n",
    "import numpy as np\n",
    "import pandas as pd\n",
    "import lightgbm\n",
    "import skforecast\n",
    "import plotly.express as px\n",
    "import plotly.graph_objects as go\n",
    "if skforecast.__version__ >= '0.14.0':\n",
    "    from skforecast.recursive import ForecasterRecursive, ForecasterRecursiveMultiSeries\n",
    "    from skforecast.direct import ForecasterDirect, ForecasterDirectMultiVariate\n",
    "else:\n",
    "    from skforecast.ForecasterAutoreg import ForecasterAutoreg\n",
    "    from skforecast.ForecasterAutoregMultiSeries import ForecasterAutoregMultiSeries\n",
    "    from skforecast.ForecasterAutoregDirect import ForecasterAutoregDirect\n",
    "    from skforecast.ForecasterAutoregMultiVariate import ForecasterAutoregMultiVariate\n",
    "from skforecast.utils import *\n",
    "from sklearn.preprocessing import StandardScaler\n",
    "from lightgbm import LGBMRegressor\n",
    "print('Skforecast version: ', skforecast.__version__)"
   ]
  },
  {
   "cell_type": "code",
   "execution_count": 4,
   "metadata": {},
   "outputs": [],
   "source": [
    "# Becnchmarking functions\n",
    "# ==============================================================================\n",
    "class BenchmarkRunner:\n",
    "    def __init__(self, output_dir=\"benchmarks\", repeat=10):\n",
    "        self.output_dir = output_dir\n",
    "        self.repeat = repeat\n",
    "        os.makedirs(self.output_dir, exist_ok=True)\n",
    "\n",
    "    def get_system_info(self):\n",
    "        return {\n",
    "            'datetime': pd.Timestamp.now(),\n",
    "            'python_version': platform.python_version(),\n",
    "            'skforecast_version': skforecast.__version__,\n",
    "            'numpy_version': np.__version__,\n",
    "            'pandas_version': pd.__version__,\n",
    "            'sklearn_version': sklearn.__version__,\n",
    "            'lightgbm_version': lightgbm.__version__,\n",
    "            'platform': platform.platform(),\n",
    "            'processor': platform.processor(),\n",
    "            'cpu_count': psutil.cpu_count(logical=True),\n",
    "            'memory_gb': round(psutil.virtual_memory().total / 1e9, 2),\n",
    "        }\n",
    "\n",
    "    def hash_function_code(self, func):\n",
    "        src = inspect.getsource(func)\n",
    "        return hashlib.md5(src.encode()).hexdigest()\n",
    "\n",
    "    def time_function(self, func, *args, **kwargs):\n",
    "        try:\n",
    "            times = timeit.repeat(\n",
    "                stmt=lambda: func(*args, **kwargs),\n",
    "                repeat=self.repeat,\n",
    "                number=1\n",
    "            )\n",
    "            return {\n",
    "                'avg_time': np.mean(times),\n",
    "                'std_dev': np.std(times)\n",
    "            }\n",
    "        except Exception as e:\n",
    "            warnings.warn(f\"The function {func.__name__} raised an exception: {e}\")\n",
    "            return {\n",
    "                'avg_time': float('nan'),\n",
    "                'std_dev': float('nan')\n",
    "            }\n",
    "\n",
    "    def benchmark(self, func, forecaster=None, allow_repeated_execution=True, *args, **kwargs):\n",
    "        forecaster_name = type(forecaster).__name__ if forecaster else np.nan\n",
    "        func_name = func.__name__\n",
    "        print(f\"Benchmarking function: {func_name}\")\n",
    "        hash_code = self.hash_function_code(func)\n",
    "        result_file = os.path.join(self.output_dir, \"benchmark.joblib\")\n",
    "\n",
    "        system_info = self.get_system_info()\n",
    "        timing = self.time_function(func, *args, **kwargs)\n",
    "\n",
    "        entry = {\n",
    "            'forecaster_name': forecaster_name,\n",
    "            'function_name': func_name,\n",
    "            'function_hash': hash_code,\n",
    "            'run_time_avg': timing['avg_time'],\n",
    "            'run_time_std_dev': timing['std_dev'],\n",
    "            **system_info\n",
    "        }\n",
    "\n",
    "        df_new = pd.DataFrame([entry])\n",
    "\n",
    "        if os.path.exists(result_file):\n",
    "            df_existing = joblib.load(result_file)\n",
    "\n",
    "            if not allow_repeated_execution:\n",
    "                cols_to_ignore = ['run_time_avg', 'run_time_std_dev', 'datetime']\n",
    "                mask = (\n",
    "                    df_existing.drop(columns = cols_to_ignore)\n",
    "                    .eq(df_new.drop(columns = cols_to_ignore).loc[0, :])\n",
    "                    .all(axis=1)\n",
    "                )\n",
    "\n",
    "                if mask.any():\n",
    "                    warnings.warn(\"This benchmark already exists with the same hash and system info. Skipping save.\")\n",
    "                    return df_existing\n",
    "\n",
    "            df_combined = pd.concat([df_existing, df_new], ignore_index=True)\n",
    "            joblib.dump(df_combined, result_file)\n",
    "            return df_combined\n",
    "        else:\n",
    "            joblib.dump(df_new, result_file)\n",
    "            return df_new\n",
    "        \n",
    "\n",
    "def plot_benchmark_results(df, function_name):\n",
    "    \"\"\"\n",
    "    Plot benchmark results for a given function.\n",
    "    \"\"\"\n",
    "    sorted_versions = sorted(df['skforecast_version'].unique(), key=lambda x: list(map(int, x.split('.'))))\n",
    "    df['skforecast_version'] = pd.Categorical(df['skforecast_version'], categories=sorted_versions, ordered=True)\n",
    "    df = df.sort_values(\"skforecast_version\")\n",
    "    medians = df.groupby('skforecast_version', observed=True)['run_time_avg'].median().reset_index()\n",
    "\n",
    "    fig = px.strip(\n",
    "        df,\n",
    "        x=\"skforecast_version\",\n",
    "        y=\"run_time_avg\",\n",
    "        color=\"skforecast_version\",\n",
    "        hover_data=df.columns,\n",
    "        stripmode='overlay',\n",
    "    )\n",
    "    fig.update_traces(jitter=True, marker=dict(size=10, opacity=0.7))\n",
    "\n",
    "    fig.add_trace(\n",
    "        go.Scatter(\n",
    "            x=medians['skforecast_version'],\n",
    "            y=medians['run_time_avg'],\n",
    "            mode='lines+markers',\n",
    "            line=dict(color='black', width=2),\n",
    "            marker=dict(size=8),\n",
    "            name='Median',\n",
    "            showlegend=True\n",
    "        )\n",
    "    )\n",
    "\n",
    "    fig.update_layout(\n",
    "        title=f\"Execution time of {function_name}\",\n",
    "        xaxis_title=\"skforecast version\",\n",
    "        yaxis_title=\"Execution time (seconds)\",\n",
    "        showlegend=True\n",
    "    )\n",
    "    fig.show()\n"
   ]
  },
  {
   "cell_type": "code",
   "execution_count": 5,
   "metadata": {},
   "outputs": [
    {
     "name": "stdout",
     "output_type": "stream",
     "text": [
      "Python version: 3.12.9\n",
      "scikit-learn version: 1.4.2\n",
      "skforecast version: 0.12.0\n",
      "pandas version: 2.2.3\n",
      "numpy version: 1.26.4\n",
      "psutil version: 5.9.0\n",
      "\n",
      "Computer network name: joaquin-HP-ProBook-440-G6\n",
      "Machine type: x86_64\n",
      "Processor type: x86_64\n",
      "Platform type: Linux-6.11.0-21-generic-x86_64-with-glibc2.39\n",
      "Operating system: Linux\n",
      "Operating system release: 6.11.0-21-generic\n",
      "Operating system version: #21~24.04.1-Ubuntu SMP PREEMPT_DYNAMIC Mon Feb 24 16:52:15 UTC 2\n",
      "Number of physical cores: 4\n",
      "Number of logical cores: 8\n"
     ]
    }
   ],
   "source": [
    "print(f\"Python version: {platform.python_version()}\")\n",
    "print(f\"scikit-learn version: {sklearn.__version__}\")\n",
    "print(f\"skforecast version: {skforecast.__version__}\")\n",
    "print(f\"pandas version: {pd.__version__}\")\n",
    "print(f\"numpy version: {np.__version__}\")\n",
    "print(f\"psutil version: {psutil.__version__}\")\n",
    "print(\"\")\n",
    "\n",
    "# Computer information\n",
    "# ==============================================================================\n",
    "print(f\"Computer network name: {platform.node()}\")\n",
    "print(f\"Machine type: {platform.machine()}\")\n",
    "print(f\"Processor type: {platform.processor()}\")\n",
    "print(f\"Platform type: {platform.platform()}\")\n",
    "print(f\"Operating system: {platform.system()}\")\n",
    "print(f\"Operating system release: {platform.release()}\")\n",
    "print(f\"Operating system version: {platform.version()}\")\n",
    "print(f\"Number of physical cores: {psutil.cpu_count(logical=False)}\")\n",
    "print(f\"Number of logical cores: {psutil.cpu_count(logical=True)}\")"
   ]
  },
  {
   "cell_type": "code",
   "execution_count": 6,
   "metadata": {},
   "outputs": [],
   "source": [
    "# Mock data for benchmarking\n",
    "# ==========================================================\n",
    "n_series = 600\n",
    "len_series = 2000\n",
    "series_dict = {}\n",
    "rng = np.random.default_rng(321)\n",
    "for i in range(n_series):\n",
    "    series_dict[f'series_{i}'] = pd.Series(\n",
    "        data = rng.normal(loc=20, scale=5, size=len_series),\n",
    "        index=pd.date_range(\n",
    "            start='2010-01-01',\n",
    "            periods=len_series,\n",
    "            freq='h'\n",
    "        ),\n",
    "        name=f'series_{i}'\n",
    "    )\n",
    "series_dataframe = pd.DataFrame(series_dict, index=series_dict['series_0'].index)\n",
    "\n",
    "exog_dict = {}\n",
    "rng = np.random.default_rng(321)\n",
    "for k in series_dict.keys():\n",
    "    exog = pd.DataFrame(\n",
    "            index=series_dict[k].index\n",
    "            )\n",
    "    exog['day_of_week'] = exog.index.dayofweek\n",
    "    exog['week_of_year'] = exog.index.isocalendar().week.astype(int)\n",
    "    exog['month'] = exog.index.month\n",
    "    exog_dict[k] = exog\n",
    "\n",
    "\n",
    "exog_dict_prediction = {}\n",
    "for k in series_dict.keys():\n",
    "    exog = pd.DataFrame(\n",
    "            index=pd.date_range(\n",
    "                start=series_dict[k].index.max() + pd.Timedelta(hours=1),\n",
    "                periods=100,\n",
    "                freq='h'\n",
    "            )\n",
    "            )\n",
    "    exog['day_of_week'] = exog.index.dayofweek\n",
    "    exog['week_of_year'] = exog.index.isocalendar().week.astype(int)\n",
    "    exog['month'] = exog.index.month\n",
    "    exog_dict_prediction[k] = exog\n",
    "\n",
    "\n",
    "y = series_dataframe.iloc[:, 0]\n",
    "exog = exog_dict['series_0']\n",
    "exog_prediction = exog_dict_prediction['series_0']"
   ]
  },
  {
   "cell_type": "code",
   "execution_count": 7,
   "metadata": {},
   "outputs": [
    {
     "name": "stdout",
     "output_type": "stream",
     "text": [
      "Benchmarking function: ForecasterRecursiveMultiSeries_fit_series_is_dict_exog_is_dict\n",
      "Benchmarking function: ForecasterRecursiveMultiSeries__create_train_X_y_series_is_dict_exog_is_dict\n",
      "Benchmarking function: ForecasterRecursiveMultiSeries_fit_series_is_dataframe_no_exog\n",
      "Benchmarking function: ForecasterRecursiveMultiSeries__create_train_X_y_series_is_dataframe_no_exog\n",
      "Benchmarking function: ForecasterRecursiveMultiSeries__create_train_X_y_single_series\n",
      "Benchmarking function: ForecasterRecursiveMultiSeries_predict_exog_is_dict\n",
      "Benchmarking function: ForecasterRecursiveMultiSeries__create_predict_inputs_exog_is_dict\n",
      "Benchmarking function: ForecasterRecursiveMultiSeries__check_predict_inputs\n"
     ]
    },
    {
     "name": "stderr",
     "output_type": "stream",
     "text": [
      "/tmp/ipykernel_10319/3939246040.py:40: UserWarning: The function ForecasterRecursiveMultiSeries__create_predict_inputs_exog_is_dict raised an exception: 'ForecasterAutoregMultiSeries' object has no attribute '_create_predict_inputs'\n",
      "  warnings.warn(f\"The function {func.__name__} raised an exception: {e}\")\n",
      "/tmp/ipykernel_10319/3939246040.py:40: UserWarning: The function ForecasterRecursiveMultiSeries__check_predict_inputs raised an exception: 'ForecasterAutoregMultiSeries' object has no attribute 'is_fitted'\n",
      "  warnings.warn(f\"The function {func.__name__} raised an exception: {e}\")\n"
     ]
    }
   ],
   "source": [
    "# Benchmarking speed ForecasterRecursiveMultiSeries\n",
    "# ==============================================================================\n",
    "if skforecast.__version__ >= '0.14.0':\n",
    "    forecaster = ForecasterRecursiveMultiSeries(\n",
    "        regressor=LGBMRegressor(random_state=8520, verbose=-1),\n",
    "        lags=50,\n",
    "        transformer_series=StandardScaler(),\n",
    "        transformer_exog=StandardScaler(),\n",
    "        encoding=\"ordinal\"\n",
    "    )\n",
    "else:\n",
    "     forecaster = ForecasterAutoregMultiSeries(\n",
    "        regressor=LGBMRegressor(random_state=8520, verbose=-1),\n",
    "        lags=50,\n",
    "        transformer_series=StandardScaler(),\n",
    "        transformer_exog=StandardScaler(),\n",
    "        encoding=\"ordinal\"\n",
    "    )\n",
    "\n",
    "def ForecasterRecursiveMultiSeries_fit_series_is_dict_exog_is_dict():\n",
    "    forecaster.fit(series=series_dict, exog=exog_dict)\n",
    "\n",
    "def ForecasterRecursiveMultiSeries__create_train_X_y_series_is_dict_exog_is_dict():\n",
    "    forecaster._create_train_X_y(series=series_dict, exog=exog_dict)\n",
    "\n",
    "def ForecasterRecursiveMultiSeries_fit_series_is_dataframe_no_exog():\n",
    "    forecaster.fit(series=series_dataframe)\n",
    "\n",
    "def ForecasterRecursiveMultiSeries__create_train_X_y_series_is_dataframe_no_exog():\n",
    "    forecaster._create_train_X_y(series=series_dataframe)\n",
    "\n",
    "def ForecasterRecursiveMultiSeries__create_train_X_y_single_series():\n",
    "    _ = forecaster._create_train_X_y_single_series(\n",
    "            y = series_dict['series_0'],\n",
    "            exog = exog_dict['series_0'],\n",
    "            ignore_exog = False,\n",
    "        )\n",
    "\n",
    "def ForecasterRecursiveMultiSeries_predict_exog_is_dict():\n",
    "    forecaster.predict(steps=100, exog=exog_dict_prediction, suppress_warnings=True)\n",
    "\n",
    "def ForecasterRecursiveMultiSeries__create_predict_inputs_exog_is_dict():\n",
    "    _ = forecaster._create_predict_inputs(\n",
    "            steps         = 100,\n",
    "            exog         = exog_dict_prediction,\n",
    "            check_inputs = True\n",
    "        )\n",
    "\n",
    "def ForecasterRecursiveMultiSeries__check_predict_inputs():\n",
    "    check_predict_input(\n",
    "        forecaster_name  = type(forecaster).__name__,\n",
    "        steps            = 100,\n",
    "        is_fitted        = forecaster.is_fitted,\n",
    "        exog_in_         = forecaster.exog_in_,\n",
    "        index_type_      = forecaster.index_type_,\n",
    "        index_freq_      = forecaster.index_freq_,\n",
    "        window_size      = forecaster.window_size,\n",
    "        last_window      = pd.DataFrame(forecaster.last_window_),\n",
    "        exog             = exog_dict_prediction,\n",
    "        exog_type_in_    = forecaster.exog_type_in_,\n",
    "        exog_names_in_   = forecaster.exog_names_in_,\n",
    "        interval         = None,\n",
    "        levels           = forecaster.series_names_in_,\n",
    "        series_names_in_ = forecaster.series_names_in_,\n",
    "        encoding         = forecaster.encoding\n",
    "    )\n",
    "\n",
    "\n",
    "runner = BenchmarkRunner(repeat=5, output_dir=\"benchmarks\")\n",
    "_ = runner.benchmark(ForecasterRecursiveMultiSeries_fit_series_is_dict_exog_is_dict, forecaster= forecaster)\n",
    "_ = runner.benchmark(ForecasterRecursiveMultiSeries__create_train_X_y_series_is_dict_exog_is_dict, forecaster= forecaster)\n",
    "_ = runner.benchmark(ForecasterRecursiveMultiSeries_fit_series_is_dataframe_no_exog, forecaster= forecaster)\n",
    "_ = runner.benchmark(ForecasterRecursiveMultiSeries__create_train_X_y_series_is_dataframe_no_exog, forecaster= forecaster)\n",
    "forecaster.fit(series=series_dict, exog=exog_dict)\n",
    "_ = runner.benchmark(ForecasterRecursiveMultiSeries__create_train_X_y_single_series, forecaster= forecaster)\n",
    "_ = runner.benchmark(ForecasterRecursiveMultiSeries_predict_exog_is_dict, forecaster= forecaster)\n",
    "_ = runner.benchmark(ForecasterRecursiveMultiSeries__create_predict_inputs_exog_is_dict, forecaster= forecaster)\n",
    "_ = runner.benchmark(ForecasterRecursiveMultiSeries__check_predict_inputs, forecaster= forecaster)"
   ]
  },
  {
   "cell_type": "code",
   "execution_count": 8,
   "metadata": {},
   "outputs": [
    {
     "name": "stdout",
     "output_type": "stream",
     "text": [
      "Benchmarking function: ForecasterRecursive_fit\n",
      "Benchmarking function: ForecasterRecursive__create_train_X_y\n"
     ]
    },
    {
     "name": "stderr",
     "output_type": "stream",
     "text": [
      "/tmp/ipykernel_10319/3939246040.py:40: UserWarning: The function ForecasterRecursive__create_train_X_y raised an exception: 'ForecasterAutoreg' object has no attribute '_create_train_X_y'\n",
      "  warnings.warn(f\"The function {func.__name__} raised an exception: {e}\")\n"
     ]
    },
    {
     "name": "stdout",
     "output_type": "stream",
     "text": [
      "Benchmarking function: ForecasterRecursive_predict\n",
      "Benchmarking function: ForecasterRecursive__create_predict_inputs\n"
     ]
    },
    {
     "name": "stderr",
     "output_type": "stream",
     "text": [
      "/tmp/ipykernel_10319/3939246040.py:40: UserWarning: The function ForecasterRecursive__create_predict_inputs raised an exception: 'ForecasterAutoreg' object has no attribute '_create_predict_inputs'\n",
      "  warnings.warn(f\"The function {func.__name__} raised an exception: {e}\")\n"
     ]
    }
   ],
   "source": [
    "# Benchmarking speed ForecasterRecursive\n",
    "# ==============================================================================\n",
    "if skforecast.__version__ >= '0.14.0':\n",
    "    forecaster = ForecasterRecursive(\n",
    "        regressor=LGBMRegressor(random_state=8520, verbose=-1),\n",
    "        lags=50,\n",
    "        transformer_y=StandardScaler(),\n",
    "        transformer_exog=StandardScaler(),\n",
    "    )\n",
    "else:\n",
    "     forecaster = ForecasterAutoreg(\n",
    "        regressor=LGBMRegressor(random_state=8520, verbose=-1),\n",
    "        lags=50,\n",
    "        transformer_y=StandardScaler(),\n",
    "        transformer_exog=StandardScaler(),\n",
    "    )\n",
    "\n",
    "def ForecasterRecursive_fit():\n",
    "    forecaster.fit(y=y, exog=exog)\n",
    "\n",
    "def ForecasterRecursive__create_train_X_y():\n",
    "    forecaster._create_train_X_y(y=y, exog=exog)\n",
    "\n",
    "\n",
    "def ForecasterRecursive_predict():\n",
    "    forecaster.predict(steps=100, exog=exog_prediction)\n",
    "\n",
    "def ForecasterRecursive__create_predict_inputs():\n",
    "    _ = forecaster._create_predict_inputs(\n",
    "            steps        = 100,\n",
    "            exog         = exog_prediction,\n",
    "            check_inputs = True\n",
    "        )\n",
    "\n",
    "\n",
    "runner = BenchmarkRunner(repeat=10, output_dir=\"benchmarks\")\n",
    "_ = runner.benchmark(ForecasterRecursive_fit, forecaster= forecaster)\n",
    "_ = runner.benchmark(ForecasterRecursive__create_train_X_y, forecaster= forecaster)\n",
    "forecaster.fit(y=y, exog=exog)\n",
    "_ = runner.benchmark(ForecasterRecursive_predict, forecaster= forecaster)\n",
    "_ = runner.benchmark(ForecasterRecursive__create_predict_inputs, forecaster= forecaster)"
   ]
  },
  {
   "cell_type": "code",
   "execution_count": 9,
   "metadata": {},
   "outputs": [
    {
     "data": {
      "application/vnd.microsoft.datawrangler.viewer.v0+json": {
       "columns": [
        {
         "name": "index",
         "rawType": "int64",
         "type": "integer"
        },
        {
         "name": "forecaster_name",
         "rawType": "object",
         "type": "string"
        },
        {
         "name": "function_name",
         "rawType": "object",
         "type": "string"
        },
        {
         "name": "function_hash",
         "rawType": "object",
         "type": "string"
        },
        {
         "name": "run_time_avg",
         "rawType": "float64",
         "type": "float"
        },
        {
         "name": "run_time_std_dev",
         "rawType": "float64",
         "type": "float"
        },
        {
         "name": "datetime",
         "rawType": "datetime64[ns]",
         "type": "datetime"
        },
        {
         "name": "python_version",
         "rawType": "object",
         "type": "string"
        },
        {
         "name": "skforecast_version",
         "rawType": "object",
         "type": "string"
        },
        {
         "name": "numpy_version",
         "rawType": "object",
         "type": "string"
        },
        {
         "name": "pandas_version",
         "rawType": "object",
         "type": "string"
        },
        {
         "name": "sklearn_version",
         "rawType": "object",
         "type": "string"
        },
        {
         "name": "lightgbm_version",
         "rawType": "object",
         "type": "string"
        },
        {
         "name": "platform",
         "rawType": "object",
         "type": "string"
        },
        {
         "name": "processor",
         "rawType": "object",
         "type": "string"
        },
        {
         "name": "cpu_count",
         "rawType": "int64",
         "type": "integer"
        },
        {
         "name": "memory_gb",
         "rawType": "float64",
         "type": "float"
        }
       ],
       "conversionMethod": "pd.DataFrame",
       "ref": "4922650a-4483-4356-8026-ec095c6f3bde",
       "rows": [
        [
         "0",
         "ForecasterAutoregMultiSeries",
         "ForecasterRecursiveMultiSeries_fit_series_is_dict_exog_is_dict",
         "63b606a379874ae9f340ba4fe592d695",
         "12.968510586999946",
         "1.1136493561536902",
         "2025-04-22 21:04:37.867990",
         "3.12.9",
         "0.13.0",
         "1.26.4",
         "2.2.3",
         "1.4.2",
         "4.6.0",
         "Linux-6.11.0-21-generic-x86_64-with-glibc2.39",
         "x86_64",
         "8",
         "16.64"
        ],
        [
         "8",
         "ForecasterAutoregMultiSeries",
         "ForecasterRecursiveMultiSeries_fit_series_is_dict_exog_is_dict",
         "63b606a379874ae9f340ba4fe592d695",
         "13.234818567600087",
         "0.38737343967217586",
         "2025-04-22 21:14:41.240757",
         "3.12.9",
         "0.13.0",
         "1.26.4",
         "2.2.3",
         "1.4.2",
         "4.6.0",
         "Linux-6.11.0-21-generic-x86_64-with-glibc2.39",
         "x86_64",
         "8",
         "16.64"
        ],
        [
         "16",
         "ForecasterRecursiveMultiSeries",
         "ForecasterRecursiveMultiSeries_fit_series_is_dict_exog_is_dict",
         "63b606a379874ae9f340ba4fe592d695",
         "13.144153293999988",
         "0.7575859013239524",
         "2025-04-22 21:21:23.862947",
         "3.12.9",
         "0.14.0",
         "1.26.4",
         "2.2.3",
         "1.4.2",
         "4.6.0",
         "Linux-6.11.0-21-generic-x86_64-with-glibc2.39",
         "x86_64",
         "8",
         "16.64"
        ],
        [
         "36",
         "ForecasterRecursiveMultiSeries",
         "ForecasterRecursiveMultiSeries_fit_series_is_dict_exog_is_dict",
         "63b606a379874ae9f340ba4fe592d695",
         "12.617939033600123",
         "1.1553042251771855",
         "2025-04-22 21:28:08.104547",
         "3.12.9",
         "0.14.0",
         "1.26.4",
         "2.2.3",
         "1.4.2",
         "4.6.0",
         "Linux-6.11.0-21-generic-x86_64-with-glibc2.39",
         "x86_64",
         "8",
         "16.64"
        ],
        [
         "48",
         "ForecasterRecursiveMultiSeries",
         "ForecasterRecursiveMultiSeries_fit_series_is_dict_exog_is_dict",
         "63b606a379874ae9f340ba4fe592d695",
         "12.964886231399941",
         "1.38728154384461",
         "2025-04-22 21:32:16.760560",
         "3.12.9",
         "0.15.0",
         "1.26.4",
         "2.2.3",
         "1.4.2",
         "4.6.0",
         "Linux-6.11.0-21-generic-x86_64-with-glibc2.39",
         "x86_64",
         "8",
         "16.64"
        ],
        [
         "60",
         "ForecasterRecursiveMultiSeries",
         "ForecasterRecursiveMultiSeries_fit_series_is_dict_exog_is_dict",
         "63b606a379874ae9f340ba4fe592d695",
         "19.005444483400062",
         "1.6341586553886875",
         "2025-04-22 21:42:34.608069",
         "3.12.9",
         "0.15.0",
         "2.2.5",
         "2.2.3",
         "1.6.1",
         "4.6.0",
         "Linux-6.11.0-21-generic-x86_64-with-glibc2.39",
         "x86_64",
         "8",
         "16.64"
        ],
        [
         "72",
         "ForecasterRecursiveMultiSeries",
         "ForecasterRecursiveMultiSeries_fit_series_is_dict_exog_is_dict",
         "63b606a379874ae9f340ba4fe592d695",
         "20.060154774200235",
         "1.042921166198489",
         "2025-04-22 21:52:19.178605",
         "3.12.9",
         "0.16.0",
         "2.2.5",
         "2.2.3",
         "1.6.1",
         "4.6.0",
         "Linux-6.11.0-21-generic-x86_64-with-glibc2.39",
         "x86_64",
         "8",
         "16.64"
        ],
        [
         "84",
         "ForecasterRecursiveMultiSeries",
         "ForecasterRecursiveMultiSeries_fit_series_is_dict_exog_is_dict",
         "63b606a379874ae9f340ba4fe592d695",
         "19.36795048699987",
         "1.1903236870372396",
         "2025-04-22 22:07:07.919896",
         "3.12.9",
         "0.16.0",
         "1.26.4",
         "2.2.3",
         "1.6.1",
         "4.6.0",
         "Linux-6.11.0-21-generic-x86_64-with-glibc2.39",
         "x86_64",
         "8",
         "16.64"
        ],
        [
         "96",
         "ForecasterAutoregMultiSeries",
         "ForecasterRecursiveMultiSeries_fit_series_is_dict_exog_is_dict",
         "63b606a379874ae9f340ba4fe592d695",
         "21.481535614600034",
         "0.15222440587439812",
         "2025-04-22 22:14:32.024910",
         "3.12.9",
         "0.12.0",
         "1.26.4",
         "2.2.3",
         "1.4.2",
         "4.6.0",
         "Linux-6.11.0-21-generic-x86_64-with-glibc2.39",
         "x86_64",
         "8",
         "16.64"
        ],
        [
         "108",
         "ForecasterAutoregMultiSeries",
         "ForecasterRecursiveMultiSeries_fit_series_is_dict_exog_is_dict",
         "63b606a379874ae9f340ba4fe592d695",
         "23.090625569199982",
         "0.2993625862085406",
         "2025-04-22 22:27:09.215163",
         "3.12.9",
         "0.12.0",
         "1.26.4",
         "2.2.3",
         "1.4.2",
         "4.6.0",
         "Linux-6.11.0-21-generic-x86_64-with-glibc2.39",
         "x86_64",
         "8",
         "16.64"
        ]
       ],
       "shape": {
        "columns": 16,
        "rows": 10
       }
      },
      "text/html": [
       "<div>\n",
       "<style scoped>\n",
       "    .dataframe tbody tr th:only-of-type {\n",
       "        vertical-align: middle;\n",
       "    }\n",
       "\n",
       "    .dataframe tbody tr th {\n",
       "        vertical-align: top;\n",
       "    }\n",
       "\n",
       "    .dataframe thead th {\n",
       "        text-align: right;\n",
       "    }\n",
       "</style>\n",
       "<table border=\"1\" class=\"dataframe\">\n",
       "  <thead>\n",
       "    <tr style=\"text-align: right;\">\n",
       "      <th></th>\n",
       "      <th>forecaster_name</th>\n",
       "      <th>function_name</th>\n",
       "      <th>function_hash</th>\n",
       "      <th>run_time_avg</th>\n",
       "      <th>run_time_std_dev</th>\n",
       "      <th>datetime</th>\n",
       "      <th>python_version</th>\n",
       "      <th>skforecast_version</th>\n",
       "      <th>numpy_version</th>\n",
       "      <th>pandas_version</th>\n",
       "      <th>sklearn_version</th>\n",
       "      <th>lightgbm_version</th>\n",
       "      <th>platform</th>\n",
       "      <th>processor</th>\n",
       "      <th>cpu_count</th>\n",
       "      <th>memory_gb</th>\n",
       "    </tr>\n",
       "  </thead>\n",
       "  <tbody>\n",
       "    <tr>\n",
       "      <th>0</th>\n",
       "      <td>ForecasterAutoregMultiSeries</td>\n",
       "      <td>ForecasterRecursiveMultiSeries_fit_series_is_d...</td>\n",
       "      <td>63b606a379874ae9f340ba4fe592d695</td>\n",
       "      <td>12.968511</td>\n",
       "      <td>1.113649</td>\n",
       "      <td>2025-04-22 21:04:37.867990</td>\n",
       "      <td>3.12.9</td>\n",
       "      <td>0.13.0</td>\n",
       "      <td>1.26.4</td>\n",
       "      <td>2.2.3</td>\n",
       "      <td>1.4.2</td>\n",
       "      <td>4.6.0</td>\n",
       "      <td>Linux-6.11.0-21-generic-x86_64-with-glibc2.39</td>\n",
       "      <td>x86_64</td>\n",
       "      <td>8</td>\n",
       "      <td>16.64</td>\n",
       "    </tr>\n",
       "    <tr>\n",
       "      <th>8</th>\n",
       "      <td>ForecasterAutoregMultiSeries</td>\n",
       "      <td>ForecasterRecursiveMultiSeries_fit_series_is_d...</td>\n",
       "      <td>63b606a379874ae9f340ba4fe592d695</td>\n",
       "      <td>13.234819</td>\n",
       "      <td>0.387373</td>\n",
       "      <td>2025-04-22 21:14:41.240757</td>\n",
       "      <td>3.12.9</td>\n",
       "      <td>0.13.0</td>\n",
       "      <td>1.26.4</td>\n",
       "      <td>2.2.3</td>\n",
       "      <td>1.4.2</td>\n",
       "      <td>4.6.0</td>\n",
       "      <td>Linux-6.11.0-21-generic-x86_64-with-glibc2.39</td>\n",
       "      <td>x86_64</td>\n",
       "      <td>8</td>\n",
       "      <td>16.64</td>\n",
       "    </tr>\n",
       "    <tr>\n",
       "      <th>16</th>\n",
       "      <td>ForecasterRecursiveMultiSeries</td>\n",
       "      <td>ForecasterRecursiveMultiSeries_fit_series_is_d...</td>\n",
       "      <td>63b606a379874ae9f340ba4fe592d695</td>\n",
       "      <td>13.144153</td>\n",
       "      <td>0.757586</td>\n",
       "      <td>2025-04-22 21:21:23.862947</td>\n",
       "      <td>3.12.9</td>\n",
       "      <td>0.14.0</td>\n",
       "      <td>1.26.4</td>\n",
       "      <td>2.2.3</td>\n",
       "      <td>1.4.2</td>\n",
       "      <td>4.6.0</td>\n",
       "      <td>Linux-6.11.0-21-generic-x86_64-with-glibc2.39</td>\n",
       "      <td>x86_64</td>\n",
       "      <td>8</td>\n",
       "      <td>16.64</td>\n",
       "    </tr>\n",
       "    <tr>\n",
       "      <th>36</th>\n",
       "      <td>ForecasterRecursiveMultiSeries</td>\n",
       "      <td>ForecasterRecursiveMultiSeries_fit_series_is_d...</td>\n",
       "      <td>63b606a379874ae9f340ba4fe592d695</td>\n",
       "      <td>12.617939</td>\n",
       "      <td>1.155304</td>\n",
       "      <td>2025-04-22 21:28:08.104547</td>\n",
       "      <td>3.12.9</td>\n",
       "      <td>0.14.0</td>\n",
       "      <td>1.26.4</td>\n",
       "      <td>2.2.3</td>\n",
       "      <td>1.4.2</td>\n",
       "      <td>4.6.0</td>\n",
       "      <td>Linux-6.11.0-21-generic-x86_64-with-glibc2.39</td>\n",
       "      <td>x86_64</td>\n",
       "      <td>8</td>\n",
       "      <td>16.64</td>\n",
       "    </tr>\n",
       "    <tr>\n",
       "      <th>48</th>\n",
       "      <td>ForecasterRecursiveMultiSeries</td>\n",
       "      <td>ForecasterRecursiveMultiSeries_fit_series_is_d...</td>\n",
       "      <td>63b606a379874ae9f340ba4fe592d695</td>\n",
       "      <td>12.964886</td>\n",
       "      <td>1.387282</td>\n",
       "      <td>2025-04-22 21:32:16.760560</td>\n",
       "      <td>3.12.9</td>\n",
       "      <td>0.15.0</td>\n",
       "      <td>1.26.4</td>\n",
       "      <td>2.2.3</td>\n",
       "      <td>1.4.2</td>\n",
       "      <td>4.6.0</td>\n",
       "      <td>Linux-6.11.0-21-generic-x86_64-with-glibc2.39</td>\n",
       "      <td>x86_64</td>\n",
       "      <td>8</td>\n",
       "      <td>16.64</td>\n",
       "    </tr>\n",
       "    <tr>\n",
       "      <th>60</th>\n",
       "      <td>ForecasterRecursiveMultiSeries</td>\n",
       "      <td>ForecasterRecursiveMultiSeries_fit_series_is_d...</td>\n",
       "      <td>63b606a379874ae9f340ba4fe592d695</td>\n",
       "      <td>19.005444</td>\n",
       "      <td>1.634159</td>\n",
       "      <td>2025-04-22 21:42:34.608069</td>\n",
       "      <td>3.12.9</td>\n",
       "      <td>0.15.0</td>\n",
       "      <td>2.2.5</td>\n",
       "      <td>2.2.3</td>\n",
       "      <td>1.6.1</td>\n",
       "      <td>4.6.0</td>\n",
       "      <td>Linux-6.11.0-21-generic-x86_64-with-glibc2.39</td>\n",
       "      <td>x86_64</td>\n",
       "      <td>8</td>\n",
       "      <td>16.64</td>\n",
       "    </tr>\n",
       "    <tr>\n",
       "      <th>72</th>\n",
       "      <td>ForecasterRecursiveMultiSeries</td>\n",
       "      <td>ForecasterRecursiveMultiSeries_fit_series_is_d...</td>\n",
       "      <td>63b606a379874ae9f340ba4fe592d695</td>\n",
       "      <td>20.060155</td>\n",
       "      <td>1.042921</td>\n",
       "      <td>2025-04-22 21:52:19.178605</td>\n",
       "      <td>3.12.9</td>\n",
       "      <td>0.16.0</td>\n",
       "      <td>2.2.5</td>\n",
       "      <td>2.2.3</td>\n",
       "      <td>1.6.1</td>\n",
       "      <td>4.6.0</td>\n",
       "      <td>Linux-6.11.0-21-generic-x86_64-with-glibc2.39</td>\n",
       "      <td>x86_64</td>\n",
       "      <td>8</td>\n",
       "      <td>16.64</td>\n",
       "    </tr>\n",
       "    <tr>\n",
       "      <th>84</th>\n",
       "      <td>ForecasterRecursiveMultiSeries</td>\n",
       "      <td>ForecasterRecursiveMultiSeries_fit_series_is_d...</td>\n",
       "      <td>63b606a379874ae9f340ba4fe592d695</td>\n",
       "      <td>19.367950</td>\n",
       "      <td>1.190324</td>\n",
       "      <td>2025-04-22 22:07:07.919896</td>\n",
       "      <td>3.12.9</td>\n",
       "      <td>0.16.0</td>\n",
       "      <td>1.26.4</td>\n",
       "      <td>2.2.3</td>\n",
       "      <td>1.6.1</td>\n",
       "      <td>4.6.0</td>\n",
       "      <td>Linux-6.11.0-21-generic-x86_64-with-glibc2.39</td>\n",
       "      <td>x86_64</td>\n",
       "      <td>8</td>\n",
       "      <td>16.64</td>\n",
       "    </tr>\n",
       "    <tr>\n",
       "      <th>96</th>\n",
       "      <td>ForecasterAutoregMultiSeries</td>\n",
       "      <td>ForecasterRecursiveMultiSeries_fit_series_is_d...</td>\n",
       "      <td>63b606a379874ae9f340ba4fe592d695</td>\n",
       "      <td>21.481536</td>\n",
       "      <td>0.152224</td>\n",
       "      <td>2025-04-22 22:14:32.024910</td>\n",
       "      <td>3.12.9</td>\n",
       "      <td>0.12.0</td>\n",
       "      <td>1.26.4</td>\n",
       "      <td>2.2.3</td>\n",
       "      <td>1.4.2</td>\n",
       "      <td>4.6.0</td>\n",
       "      <td>Linux-6.11.0-21-generic-x86_64-with-glibc2.39</td>\n",
       "      <td>x86_64</td>\n",
       "      <td>8</td>\n",
       "      <td>16.64</td>\n",
       "    </tr>\n",
       "    <tr>\n",
       "      <th>108</th>\n",
       "      <td>ForecasterAutoregMultiSeries</td>\n",
       "      <td>ForecasterRecursiveMultiSeries_fit_series_is_d...</td>\n",
       "      <td>63b606a379874ae9f340ba4fe592d695</td>\n",
       "      <td>23.090626</td>\n",
       "      <td>0.299363</td>\n",
       "      <td>2025-04-22 22:27:09.215163</td>\n",
       "      <td>3.12.9</td>\n",
       "      <td>0.12.0</td>\n",
       "      <td>1.26.4</td>\n",
       "      <td>2.2.3</td>\n",
       "      <td>1.4.2</td>\n",
       "      <td>4.6.0</td>\n",
       "      <td>Linux-6.11.0-21-generic-x86_64-with-glibc2.39</td>\n",
       "      <td>x86_64</td>\n",
       "      <td>8</td>\n",
       "      <td>16.64</td>\n",
       "    </tr>\n",
       "  </tbody>\n",
       "</table>\n",
       "</div>"
      ],
      "text/plain": [
       "                    forecaster_name  \\\n",
       "0      ForecasterAutoregMultiSeries   \n",
       "8      ForecasterAutoregMultiSeries   \n",
       "16   ForecasterRecursiveMultiSeries   \n",
       "36   ForecasterRecursiveMultiSeries   \n",
       "48   ForecasterRecursiveMultiSeries   \n",
       "60   ForecasterRecursiveMultiSeries   \n",
       "72   ForecasterRecursiveMultiSeries   \n",
       "84   ForecasterRecursiveMultiSeries   \n",
       "96     ForecasterAutoregMultiSeries   \n",
       "108    ForecasterAutoregMultiSeries   \n",
       "\n",
       "                                         function_name  \\\n",
       "0    ForecasterRecursiveMultiSeries_fit_series_is_d...   \n",
       "8    ForecasterRecursiveMultiSeries_fit_series_is_d...   \n",
       "16   ForecasterRecursiveMultiSeries_fit_series_is_d...   \n",
       "36   ForecasterRecursiveMultiSeries_fit_series_is_d...   \n",
       "48   ForecasterRecursiveMultiSeries_fit_series_is_d...   \n",
       "60   ForecasterRecursiveMultiSeries_fit_series_is_d...   \n",
       "72   ForecasterRecursiveMultiSeries_fit_series_is_d...   \n",
       "84   ForecasterRecursiveMultiSeries_fit_series_is_d...   \n",
       "96   ForecasterRecursiveMultiSeries_fit_series_is_d...   \n",
       "108  ForecasterRecursiveMultiSeries_fit_series_is_d...   \n",
       "\n",
       "                        function_hash  run_time_avg  run_time_std_dev  \\\n",
       "0    63b606a379874ae9f340ba4fe592d695     12.968511          1.113649   \n",
       "8    63b606a379874ae9f340ba4fe592d695     13.234819          0.387373   \n",
       "16   63b606a379874ae9f340ba4fe592d695     13.144153          0.757586   \n",
       "36   63b606a379874ae9f340ba4fe592d695     12.617939          1.155304   \n",
       "48   63b606a379874ae9f340ba4fe592d695     12.964886          1.387282   \n",
       "60   63b606a379874ae9f340ba4fe592d695     19.005444          1.634159   \n",
       "72   63b606a379874ae9f340ba4fe592d695     20.060155          1.042921   \n",
       "84   63b606a379874ae9f340ba4fe592d695     19.367950          1.190324   \n",
       "96   63b606a379874ae9f340ba4fe592d695     21.481536          0.152224   \n",
       "108  63b606a379874ae9f340ba4fe592d695     23.090626          0.299363   \n",
       "\n",
       "                      datetime python_version skforecast_version  \\\n",
       "0   2025-04-22 21:04:37.867990         3.12.9             0.13.0   \n",
       "8   2025-04-22 21:14:41.240757         3.12.9             0.13.0   \n",
       "16  2025-04-22 21:21:23.862947         3.12.9             0.14.0   \n",
       "36  2025-04-22 21:28:08.104547         3.12.9             0.14.0   \n",
       "48  2025-04-22 21:32:16.760560         3.12.9             0.15.0   \n",
       "60  2025-04-22 21:42:34.608069         3.12.9             0.15.0   \n",
       "72  2025-04-22 21:52:19.178605         3.12.9             0.16.0   \n",
       "84  2025-04-22 22:07:07.919896         3.12.9             0.16.0   \n",
       "96  2025-04-22 22:14:32.024910         3.12.9             0.12.0   \n",
       "108 2025-04-22 22:27:09.215163         3.12.9             0.12.0   \n",
       "\n",
       "    numpy_version pandas_version sklearn_version lightgbm_version  \\\n",
       "0          1.26.4          2.2.3           1.4.2            4.6.0   \n",
       "8          1.26.4          2.2.3           1.4.2            4.6.0   \n",
       "16         1.26.4          2.2.3           1.4.2            4.6.0   \n",
       "36         1.26.4          2.2.3           1.4.2            4.6.0   \n",
       "48         1.26.4          2.2.3           1.4.2            4.6.0   \n",
       "60          2.2.5          2.2.3           1.6.1            4.6.0   \n",
       "72          2.2.5          2.2.3           1.6.1            4.6.0   \n",
       "84         1.26.4          2.2.3           1.6.1            4.6.0   \n",
       "96         1.26.4          2.2.3           1.4.2            4.6.0   \n",
       "108        1.26.4          2.2.3           1.4.2            4.6.0   \n",
       "\n",
       "                                          platform processor  cpu_count  \\\n",
       "0    Linux-6.11.0-21-generic-x86_64-with-glibc2.39    x86_64          8   \n",
       "8    Linux-6.11.0-21-generic-x86_64-with-glibc2.39    x86_64          8   \n",
       "16   Linux-6.11.0-21-generic-x86_64-with-glibc2.39    x86_64          8   \n",
       "36   Linux-6.11.0-21-generic-x86_64-with-glibc2.39    x86_64          8   \n",
       "48   Linux-6.11.0-21-generic-x86_64-with-glibc2.39    x86_64          8   \n",
       "60   Linux-6.11.0-21-generic-x86_64-with-glibc2.39    x86_64          8   \n",
       "72   Linux-6.11.0-21-generic-x86_64-with-glibc2.39    x86_64          8   \n",
       "84   Linux-6.11.0-21-generic-x86_64-with-glibc2.39    x86_64          8   \n",
       "96   Linux-6.11.0-21-generic-x86_64-with-glibc2.39    x86_64          8   \n",
       "108  Linux-6.11.0-21-generic-x86_64-with-glibc2.39    x86_64          8   \n",
       "\n",
       "     memory_gb  \n",
       "0        16.64  \n",
       "8        16.64  \n",
       "16       16.64  \n",
       "36       16.64  \n",
       "48       16.64  \n",
       "60       16.64  \n",
       "72       16.64  \n",
       "84       16.64  \n",
       "96       16.64  \n",
       "108      16.64  "
      ]
     },
     "metadata": {},
     "output_type": "display_data"
    },
    {
     "data": {
      "application/vnd.plotly.v1+json": {
       "config": {
        "plotlyServerURL": "https://plot.ly"
       },
       "data": [
        {
         "alignmentgroup": "True",
         "boxpoints": "all",
         "customdata": [
          [
           "ForecasterAutoregMultiSeries",
           "ForecasterRecursiveMultiSeries_fit_series_is_dict_exog_is_dict",
           "63b606a379874ae9f340ba4fe592d695",
           0.15222440587439812,
           "2025-04-22T22:14:32.024910",
           "3.12.9",
           "1.26.4",
           "2.2.3",
           "1.4.2",
           "4.6.0",
           "Linux-6.11.0-21-generic-x86_64-with-glibc2.39",
           "x86_64",
           8,
           16.64
          ],
          [
           "ForecasterAutoregMultiSeries",
           "ForecasterRecursiveMultiSeries_fit_series_is_dict_exog_is_dict",
           "63b606a379874ae9f340ba4fe592d695",
           0.2993625862085406,
           "2025-04-22T22:27:09.215163",
           "3.12.9",
           "1.26.4",
           "2.2.3",
           "1.4.2",
           "4.6.0",
           "Linux-6.11.0-21-generic-x86_64-with-glibc2.39",
           "x86_64",
           8,
           16.64
          ]
         ],
         "fillcolor": "rgba(255,255,255,0)",
         "hoveron": "points",
         "hovertemplate": "skforecast_version=%{x}<br>run_time_avg=%{y}<br>forecaster_name=%{customdata[0]}<br>function_name=%{customdata[1]}<br>function_hash=%{customdata[2]}<br>run_time_std_dev=%{customdata[3]}<br>datetime=%{customdata[4]}<br>python_version=%{customdata[5]}<br>numpy_version=%{customdata[6]}<br>pandas_version=%{customdata[7]}<br>sklearn_version=%{customdata[8]}<br>lightgbm_version=%{customdata[9]}<br>platform=%{customdata[10]}<br>processor=%{customdata[11]}<br>cpu_count=%{customdata[12]}<br>memory_gb=%{customdata[13]}<extra></extra>",
         "jitter": true,
         "legendgroup": "0.12.0",
         "line": {
          "color": "rgba(255,255,255,0)"
         },
         "marker": {
          "color": "#636efa",
          "opacity": 0.7,
          "size": 10
         },
         "name": "0.12.0",
         "offsetgroup": "0.12.0",
         "orientation": "v",
         "pointpos": 0,
         "showlegend": true,
         "type": "box",
         "x": [
          "0.12.0",
          "0.12.0"
         ],
         "x0": " ",
         "xaxis": "x",
         "y": {
          "bdata": "AJEE60V7NUAz5b88Mxc3QA==",
          "dtype": "f8"
         },
         "y0": " ",
         "yaxis": "y"
        },
        {
         "alignmentgroup": "True",
         "boxpoints": "all",
         "customdata": [
          [
           "ForecasterAutoregMultiSeries",
           "ForecasterRecursiveMultiSeries_fit_series_is_dict_exog_is_dict",
           "63b606a379874ae9f340ba4fe592d695",
           1.1136493561536902,
           "2025-04-22T21:04:37.867990",
           "3.12.9",
           "1.26.4",
           "2.2.3",
           "1.4.2",
           "4.6.0",
           "Linux-6.11.0-21-generic-x86_64-with-glibc2.39",
           "x86_64",
           8,
           16.64
          ],
          [
           "ForecasterAutoregMultiSeries",
           "ForecasterRecursiveMultiSeries_fit_series_is_dict_exog_is_dict",
           "63b606a379874ae9f340ba4fe592d695",
           0.38737343967217586,
           "2025-04-22T21:14:41.240757",
           "3.12.9",
           "1.26.4",
           "2.2.3",
           "1.4.2",
           "4.6.0",
           "Linux-6.11.0-21-generic-x86_64-with-glibc2.39",
           "x86_64",
           8,
           16.64
          ]
         ],
         "fillcolor": "rgba(255,255,255,0)",
         "hoveron": "points",
         "hovertemplate": "skforecast_version=%{x}<br>run_time_avg=%{y}<br>forecaster_name=%{customdata[0]}<br>function_name=%{customdata[1]}<br>function_hash=%{customdata[2]}<br>run_time_std_dev=%{customdata[3]}<br>datetime=%{customdata[4]}<br>python_version=%{customdata[5]}<br>numpy_version=%{customdata[6]}<br>pandas_version=%{customdata[7]}<br>sklearn_version=%{customdata[8]}<br>lightgbm_version=%{customdata[9]}<br>platform=%{customdata[10]}<br>processor=%{customdata[11]}<br>cpu_count=%{customdata[12]}<br>memory_gb=%{customdata[13]}<extra></extra>",
         "jitter": true,
         "legendgroup": "0.13.0",
         "line": {
          "color": "rgba(255,255,255,0)"
         },
         "marker": {
          "color": "#EF553B",
          "opacity": 0.7,
          "size": 10
         },
         "name": "0.13.0",
         "offsetgroup": "0.13.0",
         "orientation": "v",
         "pointpos": 0,
         "showlegend": true,
         "type": "box",
         "x": [
          "0.13.0",
          "0.13.0"
         ],
         "x0": " ",
         "xaxis": "x",
         "y": {
          "bdata": "M/2hnuDvKUAArKgjOngqQA==",
          "dtype": "f8"
         },
         "y0": " ",
         "yaxis": "y"
        },
        {
         "alignmentgroup": "True",
         "boxpoints": "all",
         "customdata": [
          [
           "ForecasterRecursiveMultiSeries",
           "ForecasterRecursiveMultiSeries_fit_series_is_dict_exog_is_dict",
           "63b606a379874ae9f340ba4fe592d695",
           0.7575859013239524,
           "2025-04-22T21:21:23.862947",
           "3.12.9",
           "1.26.4",
           "2.2.3",
           "1.4.2",
           "4.6.0",
           "Linux-6.11.0-21-generic-x86_64-with-glibc2.39",
           "x86_64",
           8,
           16.64
          ],
          [
           "ForecasterRecursiveMultiSeries",
           "ForecasterRecursiveMultiSeries_fit_series_is_dict_exog_is_dict",
           "63b606a379874ae9f340ba4fe592d695",
           1.1553042251771855,
           "2025-04-22T21:28:08.104547",
           "3.12.9",
           "1.26.4",
           "2.2.3",
           "1.4.2",
           "4.6.0",
           "Linux-6.11.0-21-generic-x86_64-with-glibc2.39",
           "x86_64",
           8,
           16.64
          ]
         ],
         "fillcolor": "rgba(255,255,255,0)",
         "hoveron": "points",
         "hovertemplate": "skforecast_version=%{x}<br>run_time_avg=%{y}<br>forecaster_name=%{customdata[0]}<br>function_name=%{customdata[1]}<br>function_hash=%{customdata[2]}<br>run_time_std_dev=%{customdata[3]}<br>datetime=%{customdata[4]}<br>python_version=%{customdata[5]}<br>numpy_version=%{customdata[6]}<br>pandas_version=%{customdata[7]}<br>sklearn_version=%{customdata[8]}<br>lightgbm_version=%{customdata[9]}<br>platform=%{customdata[10]}<br>processor=%{customdata[11]}<br>cpu_count=%{customdata[12]}<br>memory_gb=%{customdata[13]}<extra></extra>",
         "jitter": true,
         "legendgroup": "0.14.0",
         "line": {
          "color": "rgba(255,255,255,0)"
         },
         "marker": {
          "color": "#00cc96",
          "opacity": 0.7,
          "size": 10
         },
         "name": "0.14.0",
         "offsetgroup": "0.14.0",
         "orientation": "v",
         "pointpos": 0,
         "showlegend": true,
         "type": "box",
         "x": [
          "0.14.0",
          "0.14.0"
         ],
         "x0": " ",
         "xaxis": "x",
         "y": {
          "bdata": "Zq7mdc5JKkAAeEiBYjwpQA==",
          "dtype": "f8"
         },
         "y0": " ",
         "yaxis": "y"
        },
        {
         "alignmentgroup": "True",
         "boxpoints": "all",
         "customdata": [
          [
           "ForecasterRecursiveMultiSeries",
           "ForecasterRecursiveMultiSeries_fit_series_is_dict_exog_is_dict",
           "63b606a379874ae9f340ba4fe592d695",
           1.38728154384461,
           "2025-04-22T21:32:16.760560",
           "3.12.9",
           "1.26.4",
           "2.2.3",
           "1.4.2",
           "4.6.0",
           "Linux-6.11.0-21-generic-x86_64-with-glibc2.39",
           "x86_64",
           8,
           16.64
          ],
          [
           "ForecasterRecursiveMultiSeries",
           "ForecasterRecursiveMultiSeries_fit_series_is_dict_exog_is_dict",
           "63b606a379874ae9f340ba4fe592d695",
           1.6341586553886875,
           "2025-04-22T21:42:34.608069",
           "3.12.9",
           "2.2.5",
           "2.2.3",
           "1.6.1",
           "4.6.0",
           "Linux-6.11.0-21-generic-x86_64-with-glibc2.39",
           "x86_64",
           8,
           16.64
          ]
         ],
         "fillcolor": "rgba(255,255,255,0)",
         "hoveron": "points",
         "hovertemplate": "skforecast_version=%{x}<br>run_time_avg=%{y}<br>forecaster_name=%{customdata[0]}<br>function_name=%{customdata[1]}<br>function_hash=%{customdata[2]}<br>run_time_std_dev=%{customdata[3]}<br>datetime=%{customdata[4]}<br>python_version=%{customdata[5]}<br>numpy_version=%{customdata[6]}<br>pandas_version=%{customdata[7]}<br>sklearn_version=%{customdata[8]}<br>lightgbm_version=%{customdata[9]}<br>platform=%{customdata[10]}<br>processor=%{customdata[11]}<br>cpu_count=%{customdata[12]}<br>memory_gb=%{customdata[13]}<extra></extra>",
         "jitter": true,
         "legendgroup": "0.15.0",
         "line": {
          "color": "rgba(255,255,255,0)"
         },
         "marker": {
          "color": "#ab63fa",
          "opacity": 0.7,
          "size": 10
         },
         "name": "0.15.0",
         "offsetgroup": "0.15.0",
         "orientation": "v",
         "pointpos": 0,
         "showlegend": true,
         "type": "box",
         "x": [
          "0.15.0",
          "0.15.0"
         ],
         "x0": " ",
         "xaxis": "x",
         "y": {
          "bdata": "ZnJwkQXuKUCaJUbPZAEzQA==",
          "dtype": "f8"
         },
         "y0": " ",
         "yaxis": "y"
        },
        {
         "alignmentgroup": "True",
         "boxpoints": "all",
         "customdata": [
          [
           "ForecasterRecursiveMultiSeries",
           "ForecasterRecursiveMultiSeries_fit_series_is_dict_exog_is_dict",
           "63b606a379874ae9f340ba4fe592d695",
           1.042921166198489,
           "2025-04-22T21:52:19.178605",
           "3.12.9",
           "2.2.5",
           "2.2.3",
           "1.6.1",
           "4.6.0",
           "Linux-6.11.0-21-generic-x86_64-with-glibc2.39",
           "x86_64",
           8,
           16.64
          ],
          [
           "ForecasterRecursiveMultiSeries",
           "ForecasterRecursiveMultiSeries_fit_series_is_dict_exog_is_dict",
           "63b606a379874ae9f340ba4fe592d695",
           1.1903236870372396,
           "2025-04-22T22:07:07.919896",
           "3.12.9",
           "1.26.4",
           "2.2.3",
           "1.6.1",
           "4.6.0",
           "Linux-6.11.0-21-generic-x86_64-with-glibc2.39",
           "x86_64",
           8,
           16.64
          ]
         ],
         "fillcolor": "rgba(255,255,255,0)",
         "hoveron": "points",
         "hovertemplate": "skforecast_version=%{x}<br>run_time_avg=%{y}<br>forecaster_name=%{customdata[0]}<br>function_name=%{customdata[1]}<br>function_hash=%{customdata[2]}<br>run_time_std_dev=%{customdata[3]}<br>datetime=%{customdata[4]}<br>python_version=%{customdata[5]}<br>numpy_version=%{customdata[6]}<br>pandas_version=%{customdata[7]}<br>sklearn_version=%{customdata[8]}<br>lightgbm_version=%{customdata[9]}<br>platform=%{customdata[10]}<br>processor=%{customdata[11]}<br>cpu_count=%{customdata[12]}<br>memory_gb=%{customdata[13]}<extra></extra>",
         "jitter": true,
         "legendgroup": "0.16.0",
         "line": {
          "color": "rgba(255,255,255,0)"
         },
         "marker": {
          "color": "#FFA15A",
          "opacity": 0.7,
          "size": 10
         },
         "name": "0.16.0",
         "offsetgroup": "0.16.0",
         "orientation": "v",
         "pointpos": 0,
         "showlegend": true,
         "type": "box",
         "x": [
          "0.16.0",
          "0.16.0"
         ],
         "x0": " ",
         "xaxis": "x",
         "y": {
          "bdata": "ZuOjTWYPNEAzNswAMl4zQA==",
          "dtype": "f8"
         },
         "y0": " ",
         "yaxis": "y"
        },
        {
         "line": {
          "color": "black",
          "width": 2
         },
         "marker": {
          "size": 8
         },
         "mode": "lines+markers",
         "name": "Median",
         "showlegend": true,
         "type": "scatter",
         "x": [
          "0.12.0",
          "0.13.0",
          "0.14.0",
          "0.15.0",
          "0.16.0"
         ],
         "y": {
          "bdata": "GjvikzxJNkCaVCVhDTQqQDOTl3sYwylAzV7+l2f4L0DMDDgnzLYzQA==",
          "dtype": "f8"
         }
        }
       ],
       "layout": {
        "boxmode": "overlay",
        "legend": {
         "title": {
          "text": "skforecast_version"
         },
         "tracegroupgap": 0
        },
        "margin": {
         "t": 60
        },
        "showlegend": true,
        "template": {
         "data": {
          "bar": [
           {
            "error_x": {
             "color": "#2a3f5f"
            },
            "error_y": {
             "color": "#2a3f5f"
            },
            "marker": {
             "line": {
              "color": "#E5ECF6",
              "width": 0.5
             },
             "pattern": {
              "fillmode": "overlay",
              "size": 10,
              "solidity": 0.2
             }
            },
            "type": "bar"
           }
          ],
          "barpolar": [
           {
            "marker": {
             "line": {
              "color": "#E5ECF6",
              "width": 0.5
             },
             "pattern": {
              "fillmode": "overlay",
              "size": 10,
              "solidity": 0.2
             }
            },
            "type": "barpolar"
           }
          ],
          "carpet": [
           {
            "aaxis": {
             "endlinecolor": "#2a3f5f",
             "gridcolor": "white",
             "linecolor": "white",
             "minorgridcolor": "white",
             "startlinecolor": "#2a3f5f"
            },
            "baxis": {
             "endlinecolor": "#2a3f5f",
             "gridcolor": "white",
             "linecolor": "white",
             "minorgridcolor": "white",
             "startlinecolor": "#2a3f5f"
            },
            "type": "carpet"
           }
          ],
          "choropleth": [
           {
            "colorbar": {
             "outlinewidth": 0,
             "ticks": ""
            },
            "type": "choropleth"
           }
          ],
          "contour": [
           {
            "colorbar": {
             "outlinewidth": 0,
             "ticks": ""
            },
            "colorscale": [
             [
              0,
              "#0d0887"
             ],
             [
              0.1111111111111111,
              "#46039f"
             ],
             [
              0.2222222222222222,
              "#7201a8"
             ],
             [
              0.3333333333333333,
              "#9c179e"
             ],
             [
              0.4444444444444444,
              "#bd3786"
             ],
             [
              0.5555555555555556,
              "#d8576b"
             ],
             [
              0.6666666666666666,
              "#ed7953"
             ],
             [
              0.7777777777777778,
              "#fb9f3a"
             ],
             [
              0.8888888888888888,
              "#fdca26"
             ],
             [
              1,
              "#f0f921"
             ]
            ],
            "type": "contour"
           }
          ],
          "contourcarpet": [
           {
            "colorbar": {
             "outlinewidth": 0,
             "ticks": ""
            },
            "type": "contourcarpet"
           }
          ],
          "heatmap": [
           {
            "colorbar": {
             "outlinewidth": 0,
             "ticks": ""
            },
            "colorscale": [
             [
              0,
              "#0d0887"
             ],
             [
              0.1111111111111111,
              "#46039f"
             ],
             [
              0.2222222222222222,
              "#7201a8"
             ],
             [
              0.3333333333333333,
              "#9c179e"
             ],
             [
              0.4444444444444444,
              "#bd3786"
             ],
             [
              0.5555555555555556,
              "#d8576b"
             ],
             [
              0.6666666666666666,
              "#ed7953"
             ],
             [
              0.7777777777777778,
              "#fb9f3a"
             ],
             [
              0.8888888888888888,
              "#fdca26"
             ],
             [
              1,
              "#f0f921"
             ]
            ],
            "type": "heatmap"
           }
          ],
          "histogram": [
           {
            "marker": {
             "pattern": {
              "fillmode": "overlay",
              "size": 10,
              "solidity": 0.2
             }
            },
            "type": "histogram"
           }
          ],
          "histogram2d": [
           {
            "colorbar": {
             "outlinewidth": 0,
             "ticks": ""
            },
            "colorscale": [
             [
              0,
              "#0d0887"
             ],
             [
              0.1111111111111111,
              "#46039f"
             ],
             [
              0.2222222222222222,
              "#7201a8"
             ],
             [
              0.3333333333333333,
              "#9c179e"
             ],
             [
              0.4444444444444444,
              "#bd3786"
             ],
             [
              0.5555555555555556,
              "#d8576b"
             ],
             [
              0.6666666666666666,
              "#ed7953"
             ],
             [
              0.7777777777777778,
              "#fb9f3a"
             ],
             [
              0.8888888888888888,
              "#fdca26"
             ],
             [
              1,
              "#f0f921"
             ]
            ],
            "type": "histogram2d"
           }
          ],
          "histogram2dcontour": [
           {
            "colorbar": {
             "outlinewidth": 0,
             "ticks": ""
            },
            "colorscale": [
             [
              0,
              "#0d0887"
             ],
             [
              0.1111111111111111,
              "#46039f"
             ],
             [
              0.2222222222222222,
              "#7201a8"
             ],
             [
              0.3333333333333333,
              "#9c179e"
             ],
             [
              0.4444444444444444,
              "#bd3786"
             ],
             [
              0.5555555555555556,
              "#d8576b"
             ],
             [
              0.6666666666666666,
              "#ed7953"
             ],
             [
              0.7777777777777778,
              "#fb9f3a"
             ],
             [
              0.8888888888888888,
              "#fdca26"
             ],
             [
              1,
              "#f0f921"
             ]
            ],
            "type": "histogram2dcontour"
           }
          ],
          "mesh3d": [
           {
            "colorbar": {
             "outlinewidth": 0,
             "ticks": ""
            },
            "type": "mesh3d"
           }
          ],
          "parcoords": [
           {
            "line": {
             "colorbar": {
              "outlinewidth": 0,
              "ticks": ""
             }
            },
            "type": "parcoords"
           }
          ],
          "pie": [
           {
            "automargin": true,
            "type": "pie"
           }
          ],
          "scatter": [
           {
            "fillpattern": {
             "fillmode": "overlay",
             "size": 10,
             "solidity": 0.2
            },
            "type": "scatter"
           }
          ],
          "scatter3d": [
           {
            "line": {
             "colorbar": {
              "outlinewidth": 0,
              "ticks": ""
             }
            },
            "marker": {
             "colorbar": {
              "outlinewidth": 0,
              "ticks": ""
             }
            },
            "type": "scatter3d"
           }
          ],
          "scattercarpet": [
           {
            "marker": {
             "colorbar": {
              "outlinewidth": 0,
              "ticks": ""
             }
            },
            "type": "scattercarpet"
           }
          ],
          "scattergeo": [
           {
            "marker": {
             "colorbar": {
              "outlinewidth": 0,
              "ticks": ""
             }
            },
            "type": "scattergeo"
           }
          ],
          "scattergl": [
           {
            "marker": {
             "colorbar": {
              "outlinewidth": 0,
              "ticks": ""
             }
            },
            "type": "scattergl"
           }
          ],
          "scattermap": [
           {
            "marker": {
             "colorbar": {
              "outlinewidth": 0,
              "ticks": ""
             }
            },
            "type": "scattermap"
           }
          ],
          "scattermapbox": [
           {
            "marker": {
             "colorbar": {
              "outlinewidth": 0,
              "ticks": ""
             }
            },
            "type": "scattermapbox"
           }
          ],
          "scatterpolar": [
           {
            "marker": {
             "colorbar": {
              "outlinewidth": 0,
              "ticks": ""
             }
            },
            "type": "scatterpolar"
           }
          ],
          "scatterpolargl": [
           {
            "marker": {
             "colorbar": {
              "outlinewidth": 0,
              "ticks": ""
             }
            },
            "type": "scatterpolargl"
           }
          ],
          "scatterternary": [
           {
            "marker": {
             "colorbar": {
              "outlinewidth": 0,
              "ticks": ""
             }
            },
            "type": "scatterternary"
           }
          ],
          "surface": [
           {
            "colorbar": {
             "outlinewidth": 0,
             "ticks": ""
            },
            "colorscale": [
             [
              0,
              "#0d0887"
             ],
             [
              0.1111111111111111,
              "#46039f"
             ],
             [
              0.2222222222222222,
              "#7201a8"
             ],
             [
              0.3333333333333333,
              "#9c179e"
             ],
             [
              0.4444444444444444,
              "#bd3786"
             ],
             [
              0.5555555555555556,
              "#d8576b"
             ],
             [
              0.6666666666666666,
              "#ed7953"
             ],
             [
              0.7777777777777778,
              "#fb9f3a"
             ],
             [
              0.8888888888888888,
              "#fdca26"
             ],
             [
              1,
              "#f0f921"
             ]
            ],
            "type": "surface"
           }
          ],
          "table": [
           {
            "cells": {
             "fill": {
              "color": "#EBF0F8"
             },
             "line": {
              "color": "white"
             }
            },
            "header": {
             "fill": {
              "color": "#C8D4E3"
             },
             "line": {
              "color": "white"
             }
            },
            "type": "table"
           }
          ]
         },
         "layout": {
          "annotationdefaults": {
           "arrowcolor": "#2a3f5f",
           "arrowhead": 0,
           "arrowwidth": 1
          },
          "autotypenumbers": "strict",
          "coloraxis": {
           "colorbar": {
            "outlinewidth": 0,
            "ticks": ""
           }
          },
          "colorscale": {
           "diverging": [
            [
             0,
             "#8e0152"
            ],
            [
             0.1,
             "#c51b7d"
            ],
            [
             0.2,
             "#de77ae"
            ],
            [
             0.3,
             "#f1b6da"
            ],
            [
             0.4,
             "#fde0ef"
            ],
            [
             0.5,
             "#f7f7f7"
            ],
            [
             0.6,
             "#e6f5d0"
            ],
            [
             0.7,
             "#b8e186"
            ],
            [
             0.8,
             "#7fbc41"
            ],
            [
             0.9,
             "#4d9221"
            ],
            [
             1,
             "#276419"
            ]
           ],
           "sequential": [
            [
             0,
             "#0d0887"
            ],
            [
             0.1111111111111111,
             "#46039f"
            ],
            [
             0.2222222222222222,
             "#7201a8"
            ],
            [
             0.3333333333333333,
             "#9c179e"
            ],
            [
             0.4444444444444444,
             "#bd3786"
            ],
            [
             0.5555555555555556,
             "#d8576b"
            ],
            [
             0.6666666666666666,
             "#ed7953"
            ],
            [
             0.7777777777777778,
             "#fb9f3a"
            ],
            [
             0.8888888888888888,
             "#fdca26"
            ],
            [
             1,
             "#f0f921"
            ]
           ],
           "sequentialminus": [
            [
             0,
             "#0d0887"
            ],
            [
             0.1111111111111111,
             "#46039f"
            ],
            [
             0.2222222222222222,
             "#7201a8"
            ],
            [
             0.3333333333333333,
             "#9c179e"
            ],
            [
             0.4444444444444444,
             "#bd3786"
            ],
            [
             0.5555555555555556,
             "#d8576b"
            ],
            [
             0.6666666666666666,
             "#ed7953"
            ],
            [
             0.7777777777777778,
             "#fb9f3a"
            ],
            [
             0.8888888888888888,
             "#fdca26"
            ],
            [
             1,
             "#f0f921"
            ]
           ]
          },
          "colorway": [
           "#636efa",
           "#EF553B",
           "#00cc96",
           "#ab63fa",
           "#FFA15A",
           "#19d3f3",
           "#FF6692",
           "#B6E880",
           "#FF97FF",
           "#FECB52"
          ],
          "font": {
           "color": "#2a3f5f"
          },
          "geo": {
           "bgcolor": "white",
           "lakecolor": "white",
           "landcolor": "#E5ECF6",
           "showlakes": true,
           "showland": true,
           "subunitcolor": "white"
          },
          "hoverlabel": {
           "align": "left"
          },
          "hovermode": "closest",
          "mapbox": {
           "style": "light"
          },
          "paper_bgcolor": "white",
          "plot_bgcolor": "#E5ECF6",
          "polar": {
           "angularaxis": {
            "gridcolor": "white",
            "linecolor": "white",
            "ticks": ""
           },
           "bgcolor": "#E5ECF6",
           "radialaxis": {
            "gridcolor": "white",
            "linecolor": "white",
            "ticks": ""
           }
          },
          "scene": {
           "xaxis": {
            "backgroundcolor": "#E5ECF6",
            "gridcolor": "white",
            "gridwidth": 2,
            "linecolor": "white",
            "showbackground": true,
            "ticks": "",
            "zerolinecolor": "white"
           },
           "yaxis": {
            "backgroundcolor": "#E5ECF6",
            "gridcolor": "white",
            "gridwidth": 2,
            "linecolor": "white",
            "showbackground": true,
            "ticks": "",
            "zerolinecolor": "white"
           },
           "zaxis": {
            "backgroundcolor": "#E5ECF6",
            "gridcolor": "white",
            "gridwidth": 2,
            "linecolor": "white",
            "showbackground": true,
            "ticks": "",
            "zerolinecolor": "white"
           }
          },
          "shapedefaults": {
           "line": {
            "color": "#2a3f5f"
           }
          },
          "ternary": {
           "aaxis": {
            "gridcolor": "white",
            "linecolor": "white",
            "ticks": ""
           },
           "baxis": {
            "gridcolor": "white",
            "linecolor": "white",
            "ticks": ""
           },
           "bgcolor": "#E5ECF6",
           "caxis": {
            "gridcolor": "white",
            "linecolor": "white",
            "ticks": ""
           }
          },
          "title": {
           "x": 0.05
          },
          "xaxis": {
           "automargin": true,
           "gridcolor": "white",
           "linecolor": "white",
           "ticks": "",
           "title": {
            "standoff": 15
           },
           "zerolinecolor": "white",
           "zerolinewidth": 2
          },
          "yaxis": {
           "automargin": true,
           "gridcolor": "white",
           "linecolor": "white",
           "ticks": "",
           "title": {
            "standoff": 15
           },
           "zerolinecolor": "white",
           "zerolinewidth": 2
          }
         }
        },
        "title": {
         "text": "Execution time of ForecasterRecursiveMultiSeries_fit_series_is_dict_exog_is_dict"
        },
        "xaxis": {
         "anchor": "y",
         "categoryarray": [
          "0.12.0",
          "0.13.0",
          "0.14.0",
          "0.15.0",
          "0.16.0"
         ],
         "categoryorder": "array",
         "domain": [
          0,
          1
         ],
         "title": {
          "text": "skforecast version"
         }
        },
        "yaxis": {
         "anchor": "x",
         "domain": [
          0,
          1
         ],
         "title": {
          "text": "Execution time (seconds)"
         }
        }
       }
      }
     },
     "metadata": {},
     "output_type": "display_data"
    },
    {
     "data": {
      "application/vnd.microsoft.datawrangler.viewer.v0+json": {
       "columns": [
        {
         "name": "index",
         "rawType": "int64",
         "type": "integer"
        },
        {
         "name": "forecaster_name",
         "rawType": "object",
         "type": "string"
        },
        {
         "name": "function_name",
         "rawType": "object",
         "type": "string"
        },
        {
         "name": "function_hash",
         "rawType": "object",
         "type": "string"
        },
        {
         "name": "run_time_avg",
         "rawType": "float64",
         "type": "float"
        },
        {
         "name": "run_time_std_dev",
         "rawType": "float64",
         "type": "float"
        },
        {
         "name": "datetime",
         "rawType": "datetime64[ns]",
         "type": "datetime"
        },
        {
         "name": "python_version",
         "rawType": "object",
         "type": "string"
        },
        {
         "name": "skforecast_version",
         "rawType": "object",
         "type": "string"
        },
        {
         "name": "numpy_version",
         "rawType": "object",
         "type": "string"
        },
        {
         "name": "pandas_version",
         "rawType": "object",
         "type": "string"
        },
        {
         "name": "sklearn_version",
         "rawType": "object",
         "type": "string"
        },
        {
         "name": "lightgbm_version",
         "rawType": "object",
         "type": "string"
        },
        {
         "name": "platform",
         "rawType": "object",
         "type": "string"
        },
        {
         "name": "processor",
         "rawType": "object",
         "type": "string"
        },
        {
         "name": "cpu_count",
         "rawType": "int64",
         "type": "integer"
        },
        {
         "name": "memory_gb",
         "rawType": "float64",
         "type": "float"
        }
       ],
       "conversionMethod": "pd.DataFrame",
       "ref": "71718c01-9fa1-462a-aaa9-f68b6db5c75a",
       "rows": [
        [
         "1",
         "ForecasterAutoregMultiSeries",
         "ForecasterRecursiveMultiSeries__create_train_X_y_series_is_dict_exog_is_dict",
         "583e7d25f58c2314c85ab6c385d879cc",
         "2.598569404600039",
         "0.23806968570449347",
         "2025-04-22 21:05:42.723067",
         "3.12.9",
         "0.13.0",
         "1.26.4",
         "2.2.3",
         "1.4.2",
         "4.6.0",
         "Linux-6.11.0-21-generic-x86_64-with-glibc2.39",
         "x86_64",
         "8",
         "16.64"
        ],
        [
         "9",
         "ForecasterAutoregMultiSeries",
         "ForecasterRecursiveMultiSeries__create_train_X_y_series_is_dict_exog_is_dict",
         "583e7d25f58c2314c85ab6c385d879cc",
         "2.4740702586001135",
         "0.018925826127995996",
         "2025-04-22 21:15:47.429211",
         "3.12.9",
         "0.13.0",
         "1.26.4",
         "2.2.3",
         "1.4.2",
         "4.6.0",
         "Linux-6.11.0-21-generic-x86_64-with-glibc2.39",
         "x86_64",
         "8",
         "16.64"
        ],
        [
         "17",
         "ForecasterRecursiveMultiSeries",
         "ForecasterRecursiveMultiSeries__create_train_X_y_series_is_dict_exog_is_dict",
         "583e7d25f58c2314c85ab6c385d879cc",
         "2.0875672515999213",
         "0.3164489366624266",
         "2025-04-22 21:22:29.597457",
         "3.12.9",
         "0.14.0",
         "1.26.4",
         "2.2.3",
         "1.4.2",
         "4.6.0",
         "Linux-6.11.0-21-generic-x86_64-with-glibc2.39",
         "x86_64",
         "8",
         "16.64"
        ],
        [
         "37",
         "ForecasterRecursiveMultiSeries",
         "ForecasterRecursiveMultiSeries__create_train_X_y_series_is_dict_exog_is_dict",
         "583e7d25f58c2314c85ab6c385d879cc",
         "2.220367800799977",
         "0.18878623302124614",
         "2025-04-22 21:29:11.209381",
         "3.12.9",
         "0.14.0",
         "1.26.4",
         "2.2.3",
         "1.4.2",
         "4.6.0",
         "Linux-6.11.0-21-generic-x86_64-with-glibc2.39",
         "x86_64",
         "8",
         "16.64"
        ],
        [
         "49",
         "ForecasterRecursiveMultiSeries",
         "ForecasterRecursiveMultiSeries__create_train_X_y_series_is_dict_exog_is_dict",
         "583e7d25f58c2314c85ab6c385d879cc",
         "1.9528793529999349",
         "0.24718366329014166",
         "2025-04-22 21:33:21.603198",
         "3.12.9",
         "0.15.0",
         "1.26.4",
         "2.2.3",
         "1.4.2",
         "4.6.0",
         "Linux-6.11.0-21-generic-x86_64-with-glibc2.39",
         "x86_64",
         "8",
         "16.64"
        ],
        [
         "61",
         "ForecasterRecursiveMultiSeries",
         "ForecasterRecursiveMultiSeries__create_train_X_y_series_is_dict_exog_is_dict",
         "583e7d25f58c2314c85ab6c385d879cc",
         "2.1244503777998034",
         "0.10533603063395157",
         "2025-04-22 21:44:09.659069",
         "3.12.9",
         "0.15.0",
         "2.2.5",
         "2.2.3",
         "1.6.1",
         "4.6.0",
         "Linux-6.11.0-21-generic-x86_64-with-glibc2.39",
         "x86_64",
         "8",
         "16.64"
        ],
        [
         "73",
         "ForecasterRecursiveMultiSeries",
         "ForecasterRecursiveMultiSeries__create_train_X_y_series_is_dict_exog_is_dict",
         "583e7d25f58c2314c85ab6c385d879cc",
         "2.5377073264000503",
         "0.1533415036196596",
         "2025-04-22 21:53:59.503318",
         "3.12.9",
         "0.16.0",
         "2.2.5",
         "2.2.3",
         "1.6.1",
         "4.6.0",
         "Linux-6.11.0-21-generic-x86_64-with-glibc2.39",
         "x86_64",
         "8",
         "16.64"
        ],
        [
         "85",
         "ForecasterRecursiveMultiSeries",
         "ForecasterRecursiveMultiSeries__create_train_X_y_series_is_dict_exog_is_dict",
         "583e7d25f58c2314c85ab6c385d879cc",
         "2.3753451969998425",
         "0.5224896855466125",
         "2025-04-22 22:08:44.787750",
         "3.12.9",
         "0.16.0",
         "1.26.4",
         "2.2.3",
         "1.6.1",
         "4.6.0",
         "Linux-6.11.0-21-generic-x86_64-with-glibc2.39",
         "x86_64",
         "8",
         "16.64"
        ],
        [
         "97",
         "ForecasterAutoregMultiSeries",
         "ForecasterRecursiveMultiSeries__create_train_X_y_series_is_dict_exog_is_dict",
         "583e7d25f58c2314c85ab6c385d879cc",
         "7.477400459600176",
         "0.6338570582991276",
         "2025-04-22 22:16:19.453070",
         "3.12.9",
         "0.12.0",
         "1.26.4",
         "2.2.3",
         "1.4.2",
         "4.6.0",
         "Linux-6.11.0-21-generic-x86_64-with-glibc2.39",
         "x86_64",
         "8",
         "16.64"
        ],
        [
         "109",
         "ForecasterAutoregMultiSeries",
         "ForecasterRecursiveMultiSeries__create_train_X_y_series_is_dict_exog_is_dict",
         "583e7d25f58c2314c85ab6c385d879cc",
         "8.712554267999986",
         "0.5002933317416347",
         "2025-04-22 22:29:04.689963",
         "3.12.9",
         "0.12.0",
         "1.26.4",
         "2.2.3",
         "1.4.2",
         "4.6.0",
         "Linux-6.11.0-21-generic-x86_64-with-glibc2.39",
         "x86_64",
         "8",
         "16.64"
        ]
       ],
       "shape": {
        "columns": 16,
        "rows": 10
       }
      },
      "text/html": [
       "<div>\n",
       "<style scoped>\n",
       "    .dataframe tbody tr th:only-of-type {\n",
       "        vertical-align: middle;\n",
       "    }\n",
       "\n",
       "    .dataframe tbody tr th {\n",
       "        vertical-align: top;\n",
       "    }\n",
       "\n",
       "    .dataframe thead th {\n",
       "        text-align: right;\n",
       "    }\n",
       "</style>\n",
       "<table border=\"1\" class=\"dataframe\">\n",
       "  <thead>\n",
       "    <tr style=\"text-align: right;\">\n",
       "      <th></th>\n",
       "      <th>forecaster_name</th>\n",
       "      <th>function_name</th>\n",
       "      <th>function_hash</th>\n",
       "      <th>run_time_avg</th>\n",
       "      <th>run_time_std_dev</th>\n",
       "      <th>datetime</th>\n",
       "      <th>python_version</th>\n",
       "      <th>skforecast_version</th>\n",
       "      <th>numpy_version</th>\n",
       "      <th>pandas_version</th>\n",
       "      <th>sklearn_version</th>\n",
       "      <th>lightgbm_version</th>\n",
       "      <th>platform</th>\n",
       "      <th>processor</th>\n",
       "      <th>cpu_count</th>\n",
       "      <th>memory_gb</th>\n",
       "    </tr>\n",
       "  </thead>\n",
       "  <tbody>\n",
       "    <tr>\n",
       "      <th>1</th>\n",
       "      <td>ForecasterAutoregMultiSeries</td>\n",
       "      <td>ForecasterRecursiveMultiSeries__create_train_X...</td>\n",
       "      <td>583e7d25f58c2314c85ab6c385d879cc</td>\n",
       "      <td>2.598569</td>\n",
       "      <td>0.238070</td>\n",
       "      <td>2025-04-22 21:05:42.723067</td>\n",
       "      <td>3.12.9</td>\n",
       "      <td>0.13.0</td>\n",
       "      <td>1.26.4</td>\n",
       "      <td>2.2.3</td>\n",
       "      <td>1.4.2</td>\n",
       "      <td>4.6.0</td>\n",
       "      <td>Linux-6.11.0-21-generic-x86_64-with-glibc2.39</td>\n",
       "      <td>x86_64</td>\n",
       "      <td>8</td>\n",
       "      <td>16.64</td>\n",
       "    </tr>\n",
       "    <tr>\n",
       "      <th>9</th>\n",
       "      <td>ForecasterAutoregMultiSeries</td>\n",
       "      <td>ForecasterRecursiveMultiSeries__create_train_X...</td>\n",
       "      <td>583e7d25f58c2314c85ab6c385d879cc</td>\n",
       "      <td>2.474070</td>\n",
       "      <td>0.018926</td>\n",
       "      <td>2025-04-22 21:15:47.429211</td>\n",
       "      <td>3.12.9</td>\n",
       "      <td>0.13.0</td>\n",
       "      <td>1.26.4</td>\n",
       "      <td>2.2.3</td>\n",
       "      <td>1.4.2</td>\n",
       "      <td>4.6.0</td>\n",
       "      <td>Linux-6.11.0-21-generic-x86_64-with-glibc2.39</td>\n",
       "      <td>x86_64</td>\n",
       "      <td>8</td>\n",
       "      <td>16.64</td>\n",
       "    </tr>\n",
       "    <tr>\n",
       "      <th>17</th>\n",
       "      <td>ForecasterRecursiveMultiSeries</td>\n",
       "      <td>ForecasterRecursiveMultiSeries__create_train_X...</td>\n",
       "      <td>583e7d25f58c2314c85ab6c385d879cc</td>\n",
       "      <td>2.087567</td>\n",
       "      <td>0.316449</td>\n",
       "      <td>2025-04-22 21:22:29.597457</td>\n",
       "      <td>3.12.9</td>\n",
       "      <td>0.14.0</td>\n",
       "      <td>1.26.4</td>\n",
       "      <td>2.2.3</td>\n",
       "      <td>1.4.2</td>\n",
       "      <td>4.6.0</td>\n",
       "      <td>Linux-6.11.0-21-generic-x86_64-with-glibc2.39</td>\n",
       "      <td>x86_64</td>\n",
       "      <td>8</td>\n",
       "      <td>16.64</td>\n",
       "    </tr>\n",
       "    <tr>\n",
       "      <th>37</th>\n",
       "      <td>ForecasterRecursiveMultiSeries</td>\n",
       "      <td>ForecasterRecursiveMultiSeries__create_train_X...</td>\n",
       "      <td>583e7d25f58c2314c85ab6c385d879cc</td>\n",
       "      <td>2.220368</td>\n",
       "      <td>0.188786</td>\n",
       "      <td>2025-04-22 21:29:11.209381</td>\n",
       "      <td>3.12.9</td>\n",
       "      <td>0.14.0</td>\n",
       "      <td>1.26.4</td>\n",
       "      <td>2.2.3</td>\n",
       "      <td>1.4.2</td>\n",
       "      <td>4.6.0</td>\n",
       "      <td>Linux-6.11.0-21-generic-x86_64-with-glibc2.39</td>\n",
       "      <td>x86_64</td>\n",
       "      <td>8</td>\n",
       "      <td>16.64</td>\n",
       "    </tr>\n",
       "    <tr>\n",
       "      <th>49</th>\n",
       "      <td>ForecasterRecursiveMultiSeries</td>\n",
       "      <td>ForecasterRecursiveMultiSeries__create_train_X...</td>\n",
       "      <td>583e7d25f58c2314c85ab6c385d879cc</td>\n",
       "      <td>1.952879</td>\n",
       "      <td>0.247184</td>\n",
       "      <td>2025-04-22 21:33:21.603198</td>\n",
       "      <td>3.12.9</td>\n",
       "      <td>0.15.0</td>\n",
       "      <td>1.26.4</td>\n",
       "      <td>2.2.3</td>\n",
       "      <td>1.4.2</td>\n",
       "      <td>4.6.0</td>\n",
       "      <td>Linux-6.11.0-21-generic-x86_64-with-glibc2.39</td>\n",
       "      <td>x86_64</td>\n",
       "      <td>8</td>\n",
       "      <td>16.64</td>\n",
       "    </tr>\n",
       "    <tr>\n",
       "      <th>61</th>\n",
       "      <td>ForecasterRecursiveMultiSeries</td>\n",
       "      <td>ForecasterRecursiveMultiSeries__create_train_X...</td>\n",
       "      <td>583e7d25f58c2314c85ab6c385d879cc</td>\n",
       "      <td>2.124450</td>\n",
       "      <td>0.105336</td>\n",
       "      <td>2025-04-22 21:44:09.659069</td>\n",
       "      <td>3.12.9</td>\n",
       "      <td>0.15.0</td>\n",
       "      <td>2.2.5</td>\n",
       "      <td>2.2.3</td>\n",
       "      <td>1.6.1</td>\n",
       "      <td>4.6.0</td>\n",
       "      <td>Linux-6.11.0-21-generic-x86_64-with-glibc2.39</td>\n",
       "      <td>x86_64</td>\n",
       "      <td>8</td>\n",
       "      <td>16.64</td>\n",
       "    </tr>\n",
       "    <tr>\n",
       "      <th>73</th>\n",
       "      <td>ForecasterRecursiveMultiSeries</td>\n",
       "      <td>ForecasterRecursiveMultiSeries__create_train_X...</td>\n",
       "      <td>583e7d25f58c2314c85ab6c385d879cc</td>\n",
       "      <td>2.537707</td>\n",
       "      <td>0.153342</td>\n",
       "      <td>2025-04-22 21:53:59.503318</td>\n",
       "      <td>3.12.9</td>\n",
       "      <td>0.16.0</td>\n",
       "      <td>2.2.5</td>\n",
       "      <td>2.2.3</td>\n",
       "      <td>1.6.1</td>\n",
       "      <td>4.6.0</td>\n",
       "      <td>Linux-6.11.0-21-generic-x86_64-with-glibc2.39</td>\n",
       "      <td>x86_64</td>\n",
       "      <td>8</td>\n",
       "      <td>16.64</td>\n",
       "    </tr>\n",
       "    <tr>\n",
       "      <th>85</th>\n",
       "      <td>ForecasterRecursiveMultiSeries</td>\n",
       "      <td>ForecasterRecursiveMultiSeries__create_train_X...</td>\n",
       "      <td>583e7d25f58c2314c85ab6c385d879cc</td>\n",
       "      <td>2.375345</td>\n",
       "      <td>0.522490</td>\n",
       "      <td>2025-04-22 22:08:44.787750</td>\n",
       "      <td>3.12.9</td>\n",
       "      <td>0.16.0</td>\n",
       "      <td>1.26.4</td>\n",
       "      <td>2.2.3</td>\n",
       "      <td>1.6.1</td>\n",
       "      <td>4.6.0</td>\n",
       "      <td>Linux-6.11.0-21-generic-x86_64-with-glibc2.39</td>\n",
       "      <td>x86_64</td>\n",
       "      <td>8</td>\n",
       "      <td>16.64</td>\n",
       "    </tr>\n",
       "    <tr>\n",
       "      <th>97</th>\n",
       "      <td>ForecasterAutoregMultiSeries</td>\n",
       "      <td>ForecasterRecursiveMultiSeries__create_train_X...</td>\n",
       "      <td>583e7d25f58c2314c85ab6c385d879cc</td>\n",
       "      <td>7.477400</td>\n",
       "      <td>0.633857</td>\n",
       "      <td>2025-04-22 22:16:19.453070</td>\n",
       "      <td>3.12.9</td>\n",
       "      <td>0.12.0</td>\n",
       "      <td>1.26.4</td>\n",
       "      <td>2.2.3</td>\n",
       "      <td>1.4.2</td>\n",
       "      <td>4.6.0</td>\n",
       "      <td>Linux-6.11.0-21-generic-x86_64-with-glibc2.39</td>\n",
       "      <td>x86_64</td>\n",
       "      <td>8</td>\n",
       "      <td>16.64</td>\n",
       "    </tr>\n",
       "    <tr>\n",
       "      <th>109</th>\n",
       "      <td>ForecasterAutoregMultiSeries</td>\n",
       "      <td>ForecasterRecursiveMultiSeries__create_train_X...</td>\n",
       "      <td>583e7d25f58c2314c85ab6c385d879cc</td>\n",
       "      <td>8.712554</td>\n",
       "      <td>0.500293</td>\n",
       "      <td>2025-04-22 22:29:04.689963</td>\n",
       "      <td>3.12.9</td>\n",
       "      <td>0.12.0</td>\n",
       "      <td>1.26.4</td>\n",
       "      <td>2.2.3</td>\n",
       "      <td>1.4.2</td>\n",
       "      <td>4.6.0</td>\n",
       "      <td>Linux-6.11.0-21-generic-x86_64-with-glibc2.39</td>\n",
       "      <td>x86_64</td>\n",
       "      <td>8</td>\n",
       "      <td>16.64</td>\n",
       "    </tr>\n",
       "  </tbody>\n",
       "</table>\n",
       "</div>"
      ],
      "text/plain": [
       "                    forecaster_name  \\\n",
       "1      ForecasterAutoregMultiSeries   \n",
       "9      ForecasterAutoregMultiSeries   \n",
       "17   ForecasterRecursiveMultiSeries   \n",
       "37   ForecasterRecursiveMultiSeries   \n",
       "49   ForecasterRecursiveMultiSeries   \n",
       "61   ForecasterRecursiveMultiSeries   \n",
       "73   ForecasterRecursiveMultiSeries   \n",
       "85   ForecasterRecursiveMultiSeries   \n",
       "97     ForecasterAutoregMultiSeries   \n",
       "109    ForecasterAutoregMultiSeries   \n",
       "\n",
       "                                         function_name  \\\n",
       "1    ForecasterRecursiveMultiSeries__create_train_X...   \n",
       "9    ForecasterRecursiveMultiSeries__create_train_X...   \n",
       "17   ForecasterRecursiveMultiSeries__create_train_X...   \n",
       "37   ForecasterRecursiveMultiSeries__create_train_X...   \n",
       "49   ForecasterRecursiveMultiSeries__create_train_X...   \n",
       "61   ForecasterRecursiveMultiSeries__create_train_X...   \n",
       "73   ForecasterRecursiveMultiSeries__create_train_X...   \n",
       "85   ForecasterRecursiveMultiSeries__create_train_X...   \n",
       "97   ForecasterRecursiveMultiSeries__create_train_X...   \n",
       "109  ForecasterRecursiveMultiSeries__create_train_X...   \n",
       "\n",
       "                        function_hash  run_time_avg  run_time_std_dev  \\\n",
       "1    583e7d25f58c2314c85ab6c385d879cc      2.598569          0.238070   \n",
       "9    583e7d25f58c2314c85ab6c385d879cc      2.474070          0.018926   \n",
       "17   583e7d25f58c2314c85ab6c385d879cc      2.087567          0.316449   \n",
       "37   583e7d25f58c2314c85ab6c385d879cc      2.220368          0.188786   \n",
       "49   583e7d25f58c2314c85ab6c385d879cc      1.952879          0.247184   \n",
       "61   583e7d25f58c2314c85ab6c385d879cc      2.124450          0.105336   \n",
       "73   583e7d25f58c2314c85ab6c385d879cc      2.537707          0.153342   \n",
       "85   583e7d25f58c2314c85ab6c385d879cc      2.375345          0.522490   \n",
       "97   583e7d25f58c2314c85ab6c385d879cc      7.477400          0.633857   \n",
       "109  583e7d25f58c2314c85ab6c385d879cc      8.712554          0.500293   \n",
       "\n",
       "                      datetime python_version skforecast_version  \\\n",
       "1   2025-04-22 21:05:42.723067         3.12.9             0.13.0   \n",
       "9   2025-04-22 21:15:47.429211         3.12.9             0.13.0   \n",
       "17  2025-04-22 21:22:29.597457         3.12.9             0.14.0   \n",
       "37  2025-04-22 21:29:11.209381         3.12.9             0.14.0   \n",
       "49  2025-04-22 21:33:21.603198         3.12.9             0.15.0   \n",
       "61  2025-04-22 21:44:09.659069         3.12.9             0.15.0   \n",
       "73  2025-04-22 21:53:59.503318         3.12.9             0.16.0   \n",
       "85  2025-04-22 22:08:44.787750         3.12.9             0.16.0   \n",
       "97  2025-04-22 22:16:19.453070         3.12.9             0.12.0   \n",
       "109 2025-04-22 22:29:04.689963         3.12.9             0.12.0   \n",
       "\n",
       "    numpy_version pandas_version sklearn_version lightgbm_version  \\\n",
       "1          1.26.4          2.2.3           1.4.2            4.6.0   \n",
       "9          1.26.4          2.2.3           1.4.2            4.6.0   \n",
       "17         1.26.4          2.2.3           1.4.2            4.6.0   \n",
       "37         1.26.4          2.2.3           1.4.2            4.6.0   \n",
       "49         1.26.4          2.2.3           1.4.2            4.6.0   \n",
       "61          2.2.5          2.2.3           1.6.1            4.6.0   \n",
       "73          2.2.5          2.2.3           1.6.1            4.6.0   \n",
       "85         1.26.4          2.2.3           1.6.1            4.6.0   \n",
       "97         1.26.4          2.2.3           1.4.2            4.6.0   \n",
       "109        1.26.4          2.2.3           1.4.2            4.6.0   \n",
       "\n",
       "                                          platform processor  cpu_count  \\\n",
       "1    Linux-6.11.0-21-generic-x86_64-with-glibc2.39    x86_64          8   \n",
       "9    Linux-6.11.0-21-generic-x86_64-with-glibc2.39    x86_64          8   \n",
       "17   Linux-6.11.0-21-generic-x86_64-with-glibc2.39    x86_64          8   \n",
       "37   Linux-6.11.0-21-generic-x86_64-with-glibc2.39    x86_64          8   \n",
       "49   Linux-6.11.0-21-generic-x86_64-with-glibc2.39    x86_64          8   \n",
       "61   Linux-6.11.0-21-generic-x86_64-with-glibc2.39    x86_64          8   \n",
       "73   Linux-6.11.0-21-generic-x86_64-with-glibc2.39    x86_64          8   \n",
       "85   Linux-6.11.0-21-generic-x86_64-with-glibc2.39    x86_64          8   \n",
       "97   Linux-6.11.0-21-generic-x86_64-with-glibc2.39    x86_64          8   \n",
       "109  Linux-6.11.0-21-generic-x86_64-with-glibc2.39    x86_64          8   \n",
       "\n",
       "     memory_gb  \n",
       "1        16.64  \n",
       "9        16.64  \n",
       "17       16.64  \n",
       "37       16.64  \n",
       "49       16.64  \n",
       "61       16.64  \n",
       "73       16.64  \n",
       "85       16.64  \n",
       "97       16.64  \n",
       "109      16.64  "
      ]
     },
     "metadata": {},
     "output_type": "display_data"
    },
    {
     "data": {
      "application/vnd.plotly.v1+json": {
       "config": {
        "plotlyServerURL": "https://plot.ly"
       },
       "data": [
        {
         "alignmentgroup": "True",
         "boxpoints": "all",
         "customdata": [
          [
           "ForecasterAutoregMultiSeries",
           "ForecasterRecursiveMultiSeries__create_train_X_y_series_is_dict_exog_is_dict",
           "583e7d25f58c2314c85ab6c385d879cc",
           0.6338570582991276,
           "2025-04-22T22:16:19.453070",
           "3.12.9",
           "1.26.4",
           "2.2.3",
           "1.4.2",
           "4.6.0",
           "Linux-6.11.0-21-generic-x86_64-with-glibc2.39",
           "x86_64",
           8,
           16.64
          ],
          [
           "ForecasterAutoregMultiSeries",
           "ForecasterRecursiveMultiSeries__create_train_X_y_series_is_dict_exog_is_dict",
           "583e7d25f58c2314c85ab6c385d879cc",
           0.5002933317416347,
           "2025-04-22T22:29:04.689963",
           "3.12.9",
           "1.26.4",
           "2.2.3",
           "1.4.2",
           "4.6.0",
           "Linux-6.11.0-21-generic-x86_64-with-glibc2.39",
           "x86_64",
           8,
           16.64
          ]
         ],
         "fillcolor": "rgba(255,255,255,0)",
         "hoveron": "points",
         "hovertemplate": "skforecast_version=%{x}<br>run_time_avg=%{y}<br>forecaster_name=%{customdata[0]}<br>function_name=%{customdata[1]}<br>function_hash=%{customdata[2]}<br>run_time_std_dev=%{customdata[3]}<br>datetime=%{customdata[4]}<br>python_version=%{customdata[5]}<br>numpy_version=%{customdata[6]}<br>pandas_version=%{customdata[7]}<br>sklearn_version=%{customdata[8]}<br>lightgbm_version=%{customdata[9]}<br>platform=%{customdata[10]}<br>processor=%{customdata[11]}<br>cpu_count=%{customdata[12]}<br>memory_gb=%{customdata[13]}<extra></extra>",
         "jitter": true,
         "legendgroup": "0.12.0",
         "line": {
          "color": "rgba(255,255,255,0)"
         },
         "marker": {
          "color": "#636efa",
          "opacity": 0.7,
          "size": 10
         },
         "name": "0.12.0",
         "offsetgroup": "0.12.0",
         "orientation": "v",
         "pointpos": 0,
         "showlegend": true,
         "type": "box",
         "x": [
          "0.12.0",
          "0.12.0"
         ],
         "x0": " ",
         "xaxis": "x",
         "y": {
          "bdata": "AFCEqtvoHUDNXrvp02whQA==",
          "dtype": "f8"
         },
         "y0": " ",
         "yaxis": "y"
        },
        {
         "alignmentgroup": "True",
         "boxpoints": "all",
         "customdata": [
          [
           "ForecasterAutoregMultiSeries",
           "ForecasterRecursiveMultiSeries__create_train_X_y_series_is_dict_exog_is_dict",
           "583e7d25f58c2314c85ab6c385d879cc",
           0.23806968570449347,
           "2025-04-22T21:05:42.723067",
           "3.12.9",
           "1.26.4",
           "2.2.3",
           "1.4.2",
           "4.6.0",
           "Linux-6.11.0-21-generic-x86_64-with-glibc2.39",
           "x86_64",
           8,
           16.64
          ],
          [
           "ForecasterAutoregMultiSeries",
           "ForecasterRecursiveMultiSeries__create_train_X_y_series_is_dict_exog_is_dict",
           "583e7d25f58c2314c85ab6c385d879cc",
           0.018925826127995996,
           "2025-04-22T21:15:47.429211",
           "3.12.9",
           "1.26.4",
           "2.2.3",
           "1.4.2",
           "4.6.0",
           "Linux-6.11.0-21-generic-x86_64-with-glibc2.39",
           "x86_64",
           8,
           16.64
          ]
         ],
         "fillcolor": "rgba(255,255,255,0)",
         "hoveron": "points",
         "hovertemplate": "skforecast_version=%{x}<br>run_time_avg=%{y}<br>forecaster_name=%{customdata[0]}<br>function_name=%{customdata[1]}<br>function_hash=%{customdata[2]}<br>run_time_std_dev=%{customdata[3]}<br>datetime=%{customdata[4]}<br>python_version=%{customdata[5]}<br>numpy_version=%{customdata[6]}<br>pandas_version=%{customdata[7]}<br>sklearn_version=%{customdata[8]}<br>lightgbm_version=%{customdata[9]}<br>platform=%{customdata[10]}<br>processor=%{customdata[11]}<br>cpu_count=%{customdata[12]}<br>memory_gb=%{customdata[13]}<extra></extra>",
         "jitter": true,
         "legendgroup": "0.13.0",
         "line": {
          "color": "rgba(255,255,255,0)"
         },
         "marker": {
          "color": "#EF553B",
          "opacity": 0.7,
          "size": 10
         },
         "name": "0.13.0",
         "offsetgroup": "0.13.0",
         "orientation": "v",
         "pointpos": 0,
         "showlegend": true,
         "type": "box",
         "x": [
          "0.13.0",
          "0.13.0"
         ],
         "x0": " ",
         "xaxis": "x",
         "y": {
          "bdata": "miWJwd7JBEDNjAVZ5coDQA==",
          "dtype": "f8"
         },
         "y0": " ",
         "yaxis": "y"
        },
        {
         "alignmentgroup": "True",
         "boxpoints": "all",
         "customdata": [
          [
           "ForecasterRecursiveMultiSeries",
           "ForecasterRecursiveMultiSeries__create_train_X_y_series_is_dict_exog_is_dict",
           "583e7d25f58c2314c85ab6c385d879cc",
           0.3164489366624266,
           "2025-04-22T21:22:29.597457",
           "3.12.9",
           "1.26.4",
           "2.2.3",
           "1.4.2",
           "4.6.0",
           "Linux-6.11.0-21-generic-x86_64-with-glibc2.39",
           "x86_64",
           8,
           16.64
          ],
          [
           "ForecasterRecursiveMultiSeries",
           "ForecasterRecursiveMultiSeries__create_train_X_y_series_is_dict_exog_is_dict",
           "583e7d25f58c2314c85ab6c385d879cc",
           0.18878623302124614,
           "2025-04-22T21:29:11.209381",
           "3.12.9",
           "1.26.4",
           "2.2.3",
           "1.4.2",
           "4.6.0",
           "Linux-6.11.0-21-generic-x86_64-with-glibc2.39",
           "x86_64",
           8,
           16.64
          ]
         ],
         "fillcolor": "rgba(255,255,255,0)",
         "hoveron": "points",
         "hovertemplate": "skforecast_version=%{x}<br>run_time_avg=%{y}<br>forecaster_name=%{customdata[0]}<br>function_name=%{customdata[1]}<br>function_hash=%{customdata[2]}<br>run_time_std_dev=%{customdata[3]}<br>datetime=%{customdata[4]}<br>python_version=%{customdata[5]}<br>numpy_version=%{customdata[6]}<br>pandas_version=%{customdata[7]}<br>sklearn_version=%{customdata[8]}<br>lightgbm_version=%{customdata[9]}<br>platform=%{customdata[10]}<br>processor=%{customdata[11]}<br>cpu_count=%{customdata[12]}<br>memory_gb=%{customdata[13]}<extra></extra>",
         "jitter": true,
         "legendgroup": "0.14.0",
         "line": {
          "color": "rgba(255,255,255,0)"
         },
         "marker": {
          "color": "#00cc96",
          "opacity": 0.7,
          "size": 10
         },
         "name": "0.14.0",
         "offsetgroup": "0.14.0",
         "orientation": "v",
         "pointpos": 0,
         "showlegend": true,
         "type": "box",
         "x": [
          "0.14.0",
          "0.14.0"
         ],
         "x0": " ",
         "xaxis": "x",
         "y": {
          "bdata": "AJSOdVazAEAAOIwxUMMBQA==",
          "dtype": "f8"
         },
         "y0": " ",
         "yaxis": "y"
        },
        {
         "alignmentgroup": "True",
         "boxpoints": "all",
         "customdata": [
          [
           "ForecasterRecursiveMultiSeries",
           "ForecasterRecursiveMultiSeries__create_train_X_y_series_is_dict_exog_is_dict",
           "583e7d25f58c2314c85ab6c385d879cc",
           0.24718366329014166,
           "2025-04-22T21:33:21.603198",
           "3.12.9",
           "1.26.4",
           "2.2.3",
           "1.4.2",
           "4.6.0",
           "Linux-6.11.0-21-generic-x86_64-with-glibc2.39",
           "x86_64",
           8,
           16.64
          ],
          [
           "ForecasterRecursiveMultiSeries",
           "ForecasterRecursiveMultiSeries__create_train_X_y_series_is_dict_exog_is_dict",
           "583e7d25f58c2314c85ab6c385d879cc",
           0.10533603063395157,
           "2025-04-22T21:44:09.659069",
           "3.12.9",
           "2.2.5",
           "2.2.3",
           "1.6.1",
           "4.6.0",
           "Linux-6.11.0-21-generic-x86_64-with-glibc2.39",
           "x86_64",
           8,
           16.64
          ]
         ],
         "fillcolor": "rgba(255,255,255,0)",
         "hoveron": "points",
         "hovertemplate": "skforecast_version=%{x}<br>run_time_avg=%{y}<br>forecaster_name=%{customdata[0]}<br>function_name=%{customdata[1]}<br>function_hash=%{customdata[2]}<br>run_time_std_dev=%{customdata[3]}<br>datetime=%{customdata[4]}<br>python_version=%{customdata[5]}<br>numpy_version=%{customdata[6]}<br>pandas_version=%{customdata[7]}<br>sklearn_version=%{customdata[8]}<br>lightgbm_version=%{customdata[9]}<br>platform=%{customdata[10]}<br>processor=%{customdata[11]}<br>cpu_count=%{customdata[12]}<br>memory_gb=%{customdata[13]}<extra></extra>",
         "jitter": true,
         "legendgroup": "0.15.0",
         "line": {
          "color": "rgba(255,255,255,0)"
         },
         "marker": {
          "color": "#ab63fa",
          "opacity": 0.7,
          "size": 10
         },
         "name": "0.15.0",
         "offsetgroup": "0.15.0",
         "orientation": "v",
         "pointpos": 0,
         "showlegend": true,
         "type": "box",
         "x": [
          "0.15.0",
          "0.15.0"
         ],
         "x0": " ",
         "xaxis": "x",
         "y": {
          "bdata": "mrGia/4+/z8AAPXW3/4AQA==",
          "dtype": "f8"
         },
         "y0": " ",
         "yaxis": "y"
        },
        {
         "alignmentgroup": "True",
         "boxpoints": "all",
         "customdata": [
          [
           "ForecasterRecursiveMultiSeries",
           "ForecasterRecursiveMultiSeries__create_train_X_y_series_is_dict_exog_is_dict",
           "583e7d25f58c2314c85ab6c385d879cc",
           0.1533415036196596,
           "2025-04-22T21:53:59.503318",
           "3.12.9",
           "2.2.5",
           "2.2.3",
           "1.6.1",
           "4.6.0",
           "Linux-6.11.0-21-generic-x86_64-with-glibc2.39",
           "x86_64",
           8,
           16.64
          ],
          [
           "ForecasterRecursiveMultiSeries",
           "ForecasterRecursiveMultiSeries__create_train_X_y_series_is_dict_exog_is_dict",
           "583e7d25f58c2314c85ab6c385d879cc",
           0.5224896855466125,
           "2025-04-22T22:08:44.787750",
           "3.12.9",
           "1.26.4",
           "2.2.3",
           "1.6.1",
           "4.6.0",
           "Linux-6.11.0-21-generic-x86_64-with-glibc2.39",
           "x86_64",
           8,
           16.64
          ]
         ],
         "fillcolor": "rgba(255,255,255,0)",
         "hoveron": "points",
         "hovertemplate": "skforecast_version=%{x}<br>run_time_avg=%{y}<br>forecaster_name=%{customdata[0]}<br>function_name=%{customdata[1]}<br>function_hash=%{customdata[2]}<br>run_time_std_dev=%{customdata[3]}<br>datetime=%{customdata[4]}<br>python_version=%{customdata[5]}<br>numpy_version=%{customdata[6]}<br>pandas_version=%{customdata[7]}<br>sklearn_version=%{customdata[8]}<br>lightgbm_version=%{customdata[9]}<br>platform=%{customdata[10]}<br>processor=%{customdata[11]}<br>cpu_count=%{customdata[12]}<br>memory_gb=%{customdata[13]}<extra></extra>",
         "jitter": true,
         "legendgroup": "0.16.0",
         "line": {
          "color": "rgba(255,255,255,0)"
         },
         "marker": {
          "color": "#FFA15A",
          "opacity": 0.7,
          "size": 10
         },
         "name": "0.16.0",
         "offsetgroup": "0.16.0",
         "orientation": "v",
         "pointpos": 0,
         "showlegend": true,
         "type": "box",
         "x": [
          "0.16.0",
          "0.16.0"
         ],
         "x0": " ",
         "xaxis": "x",
         "y": {
          "bdata": "mqmtfzlNBECamY77tAADQA==",
          "dtype": "f8"
         },
         "y0": " ",
         "yaxis": "y"
        },
        {
         "line": {
          "color": "black",
          "width": 2
         },
         "marker": {
          "size": 8
         },
         "mode": "lines+markers",
         "name": "Median",
         "showlegend": true,
         "type": "scatter",
         "x": [
          "0.12.0",
          "0.13.0",
          "0.14.0",
          "0.15.0",
          "0.16.0"
         ],
         "y": {
          "bdata": "ZsN+36AwIEA0WUcNYkoEQABmjVNTOwFAZixjhi9PAECaIZ4996YDQA==",
          "dtype": "f8"
         }
        }
       ],
       "layout": {
        "boxmode": "overlay",
        "legend": {
         "title": {
          "text": "skforecast_version"
         },
         "tracegroupgap": 0
        },
        "margin": {
         "t": 60
        },
        "showlegend": true,
        "template": {
         "data": {
          "bar": [
           {
            "error_x": {
             "color": "#2a3f5f"
            },
            "error_y": {
             "color": "#2a3f5f"
            },
            "marker": {
             "line": {
              "color": "#E5ECF6",
              "width": 0.5
             },
             "pattern": {
              "fillmode": "overlay",
              "size": 10,
              "solidity": 0.2
             }
            },
            "type": "bar"
           }
          ],
          "barpolar": [
           {
            "marker": {
             "line": {
              "color": "#E5ECF6",
              "width": 0.5
             },
             "pattern": {
              "fillmode": "overlay",
              "size": 10,
              "solidity": 0.2
             }
            },
            "type": "barpolar"
           }
          ],
          "carpet": [
           {
            "aaxis": {
             "endlinecolor": "#2a3f5f",
             "gridcolor": "white",
             "linecolor": "white",
             "minorgridcolor": "white",
             "startlinecolor": "#2a3f5f"
            },
            "baxis": {
             "endlinecolor": "#2a3f5f",
             "gridcolor": "white",
             "linecolor": "white",
             "minorgridcolor": "white",
             "startlinecolor": "#2a3f5f"
            },
            "type": "carpet"
           }
          ],
          "choropleth": [
           {
            "colorbar": {
             "outlinewidth": 0,
             "ticks": ""
            },
            "type": "choropleth"
           }
          ],
          "contour": [
           {
            "colorbar": {
             "outlinewidth": 0,
             "ticks": ""
            },
            "colorscale": [
             [
              0,
              "#0d0887"
             ],
             [
              0.1111111111111111,
              "#46039f"
             ],
             [
              0.2222222222222222,
              "#7201a8"
             ],
             [
              0.3333333333333333,
              "#9c179e"
             ],
             [
              0.4444444444444444,
              "#bd3786"
             ],
             [
              0.5555555555555556,
              "#d8576b"
             ],
             [
              0.6666666666666666,
              "#ed7953"
             ],
             [
              0.7777777777777778,
              "#fb9f3a"
             ],
             [
              0.8888888888888888,
              "#fdca26"
             ],
             [
              1,
              "#f0f921"
             ]
            ],
            "type": "contour"
           }
          ],
          "contourcarpet": [
           {
            "colorbar": {
             "outlinewidth": 0,
             "ticks": ""
            },
            "type": "contourcarpet"
           }
          ],
          "heatmap": [
           {
            "colorbar": {
             "outlinewidth": 0,
             "ticks": ""
            },
            "colorscale": [
             [
              0,
              "#0d0887"
             ],
             [
              0.1111111111111111,
              "#46039f"
             ],
             [
              0.2222222222222222,
              "#7201a8"
             ],
             [
              0.3333333333333333,
              "#9c179e"
             ],
             [
              0.4444444444444444,
              "#bd3786"
             ],
             [
              0.5555555555555556,
              "#d8576b"
             ],
             [
              0.6666666666666666,
              "#ed7953"
             ],
             [
              0.7777777777777778,
              "#fb9f3a"
             ],
             [
              0.8888888888888888,
              "#fdca26"
             ],
             [
              1,
              "#f0f921"
             ]
            ],
            "type": "heatmap"
           }
          ],
          "histogram": [
           {
            "marker": {
             "pattern": {
              "fillmode": "overlay",
              "size": 10,
              "solidity": 0.2
             }
            },
            "type": "histogram"
           }
          ],
          "histogram2d": [
           {
            "colorbar": {
             "outlinewidth": 0,
             "ticks": ""
            },
            "colorscale": [
             [
              0,
              "#0d0887"
             ],
             [
              0.1111111111111111,
              "#46039f"
             ],
             [
              0.2222222222222222,
              "#7201a8"
             ],
             [
              0.3333333333333333,
              "#9c179e"
             ],
             [
              0.4444444444444444,
              "#bd3786"
             ],
             [
              0.5555555555555556,
              "#d8576b"
             ],
             [
              0.6666666666666666,
              "#ed7953"
             ],
             [
              0.7777777777777778,
              "#fb9f3a"
             ],
             [
              0.8888888888888888,
              "#fdca26"
             ],
             [
              1,
              "#f0f921"
             ]
            ],
            "type": "histogram2d"
           }
          ],
          "histogram2dcontour": [
           {
            "colorbar": {
             "outlinewidth": 0,
             "ticks": ""
            },
            "colorscale": [
             [
              0,
              "#0d0887"
             ],
             [
              0.1111111111111111,
              "#46039f"
             ],
             [
              0.2222222222222222,
              "#7201a8"
             ],
             [
              0.3333333333333333,
              "#9c179e"
             ],
             [
              0.4444444444444444,
              "#bd3786"
             ],
             [
              0.5555555555555556,
              "#d8576b"
             ],
             [
              0.6666666666666666,
              "#ed7953"
             ],
             [
              0.7777777777777778,
              "#fb9f3a"
             ],
             [
              0.8888888888888888,
              "#fdca26"
             ],
             [
              1,
              "#f0f921"
             ]
            ],
            "type": "histogram2dcontour"
           }
          ],
          "mesh3d": [
           {
            "colorbar": {
             "outlinewidth": 0,
             "ticks": ""
            },
            "type": "mesh3d"
           }
          ],
          "parcoords": [
           {
            "line": {
             "colorbar": {
              "outlinewidth": 0,
              "ticks": ""
             }
            },
            "type": "parcoords"
           }
          ],
          "pie": [
           {
            "automargin": true,
            "type": "pie"
           }
          ],
          "scatter": [
           {
            "fillpattern": {
             "fillmode": "overlay",
             "size": 10,
             "solidity": 0.2
            },
            "type": "scatter"
           }
          ],
          "scatter3d": [
           {
            "line": {
             "colorbar": {
              "outlinewidth": 0,
              "ticks": ""
             }
            },
            "marker": {
             "colorbar": {
              "outlinewidth": 0,
              "ticks": ""
             }
            },
            "type": "scatter3d"
           }
          ],
          "scattercarpet": [
           {
            "marker": {
             "colorbar": {
              "outlinewidth": 0,
              "ticks": ""
             }
            },
            "type": "scattercarpet"
           }
          ],
          "scattergeo": [
           {
            "marker": {
             "colorbar": {
              "outlinewidth": 0,
              "ticks": ""
             }
            },
            "type": "scattergeo"
           }
          ],
          "scattergl": [
           {
            "marker": {
             "colorbar": {
              "outlinewidth": 0,
              "ticks": ""
             }
            },
            "type": "scattergl"
           }
          ],
          "scattermap": [
           {
            "marker": {
             "colorbar": {
              "outlinewidth": 0,
              "ticks": ""
             }
            },
            "type": "scattermap"
           }
          ],
          "scattermapbox": [
           {
            "marker": {
             "colorbar": {
              "outlinewidth": 0,
              "ticks": ""
             }
            },
            "type": "scattermapbox"
           }
          ],
          "scatterpolar": [
           {
            "marker": {
             "colorbar": {
              "outlinewidth": 0,
              "ticks": ""
             }
            },
            "type": "scatterpolar"
           }
          ],
          "scatterpolargl": [
           {
            "marker": {
             "colorbar": {
              "outlinewidth": 0,
              "ticks": ""
             }
            },
            "type": "scatterpolargl"
           }
          ],
          "scatterternary": [
           {
            "marker": {
             "colorbar": {
              "outlinewidth": 0,
              "ticks": ""
             }
            },
            "type": "scatterternary"
           }
          ],
          "surface": [
           {
            "colorbar": {
             "outlinewidth": 0,
             "ticks": ""
            },
            "colorscale": [
             [
              0,
              "#0d0887"
             ],
             [
              0.1111111111111111,
              "#46039f"
             ],
             [
              0.2222222222222222,
              "#7201a8"
             ],
             [
              0.3333333333333333,
              "#9c179e"
             ],
             [
              0.4444444444444444,
              "#bd3786"
             ],
             [
              0.5555555555555556,
              "#d8576b"
             ],
             [
              0.6666666666666666,
              "#ed7953"
             ],
             [
              0.7777777777777778,
              "#fb9f3a"
             ],
             [
              0.8888888888888888,
              "#fdca26"
             ],
             [
              1,
              "#f0f921"
             ]
            ],
            "type": "surface"
           }
          ],
          "table": [
           {
            "cells": {
             "fill": {
              "color": "#EBF0F8"
             },
             "line": {
              "color": "white"
             }
            },
            "header": {
             "fill": {
              "color": "#C8D4E3"
             },
             "line": {
              "color": "white"
             }
            },
            "type": "table"
           }
          ]
         },
         "layout": {
          "annotationdefaults": {
           "arrowcolor": "#2a3f5f",
           "arrowhead": 0,
           "arrowwidth": 1
          },
          "autotypenumbers": "strict",
          "coloraxis": {
           "colorbar": {
            "outlinewidth": 0,
            "ticks": ""
           }
          },
          "colorscale": {
           "diverging": [
            [
             0,
             "#8e0152"
            ],
            [
             0.1,
             "#c51b7d"
            ],
            [
             0.2,
             "#de77ae"
            ],
            [
             0.3,
             "#f1b6da"
            ],
            [
             0.4,
             "#fde0ef"
            ],
            [
             0.5,
             "#f7f7f7"
            ],
            [
             0.6,
             "#e6f5d0"
            ],
            [
             0.7,
             "#b8e186"
            ],
            [
             0.8,
             "#7fbc41"
            ],
            [
             0.9,
             "#4d9221"
            ],
            [
             1,
             "#276419"
            ]
           ],
           "sequential": [
            [
             0,
             "#0d0887"
            ],
            [
             0.1111111111111111,
             "#46039f"
            ],
            [
             0.2222222222222222,
             "#7201a8"
            ],
            [
             0.3333333333333333,
             "#9c179e"
            ],
            [
             0.4444444444444444,
             "#bd3786"
            ],
            [
             0.5555555555555556,
             "#d8576b"
            ],
            [
             0.6666666666666666,
             "#ed7953"
            ],
            [
             0.7777777777777778,
             "#fb9f3a"
            ],
            [
             0.8888888888888888,
             "#fdca26"
            ],
            [
             1,
             "#f0f921"
            ]
           ],
           "sequentialminus": [
            [
             0,
             "#0d0887"
            ],
            [
             0.1111111111111111,
             "#46039f"
            ],
            [
             0.2222222222222222,
             "#7201a8"
            ],
            [
             0.3333333333333333,
             "#9c179e"
            ],
            [
             0.4444444444444444,
             "#bd3786"
            ],
            [
             0.5555555555555556,
             "#d8576b"
            ],
            [
             0.6666666666666666,
             "#ed7953"
            ],
            [
             0.7777777777777778,
             "#fb9f3a"
            ],
            [
             0.8888888888888888,
             "#fdca26"
            ],
            [
             1,
             "#f0f921"
            ]
           ]
          },
          "colorway": [
           "#636efa",
           "#EF553B",
           "#00cc96",
           "#ab63fa",
           "#FFA15A",
           "#19d3f3",
           "#FF6692",
           "#B6E880",
           "#FF97FF",
           "#FECB52"
          ],
          "font": {
           "color": "#2a3f5f"
          },
          "geo": {
           "bgcolor": "white",
           "lakecolor": "white",
           "landcolor": "#E5ECF6",
           "showlakes": true,
           "showland": true,
           "subunitcolor": "white"
          },
          "hoverlabel": {
           "align": "left"
          },
          "hovermode": "closest",
          "mapbox": {
           "style": "light"
          },
          "paper_bgcolor": "white",
          "plot_bgcolor": "#E5ECF6",
          "polar": {
           "angularaxis": {
            "gridcolor": "white",
            "linecolor": "white",
            "ticks": ""
           },
           "bgcolor": "#E5ECF6",
           "radialaxis": {
            "gridcolor": "white",
            "linecolor": "white",
            "ticks": ""
           }
          },
          "scene": {
           "xaxis": {
            "backgroundcolor": "#E5ECF6",
            "gridcolor": "white",
            "gridwidth": 2,
            "linecolor": "white",
            "showbackground": true,
            "ticks": "",
            "zerolinecolor": "white"
           },
           "yaxis": {
            "backgroundcolor": "#E5ECF6",
            "gridcolor": "white",
            "gridwidth": 2,
            "linecolor": "white",
            "showbackground": true,
            "ticks": "",
            "zerolinecolor": "white"
           },
           "zaxis": {
            "backgroundcolor": "#E5ECF6",
            "gridcolor": "white",
            "gridwidth": 2,
            "linecolor": "white",
            "showbackground": true,
            "ticks": "",
            "zerolinecolor": "white"
           }
          },
          "shapedefaults": {
           "line": {
            "color": "#2a3f5f"
           }
          },
          "ternary": {
           "aaxis": {
            "gridcolor": "white",
            "linecolor": "white",
            "ticks": ""
           },
           "baxis": {
            "gridcolor": "white",
            "linecolor": "white",
            "ticks": ""
           },
           "bgcolor": "#E5ECF6",
           "caxis": {
            "gridcolor": "white",
            "linecolor": "white",
            "ticks": ""
           }
          },
          "title": {
           "x": 0.05
          },
          "xaxis": {
           "automargin": true,
           "gridcolor": "white",
           "linecolor": "white",
           "ticks": "",
           "title": {
            "standoff": 15
           },
           "zerolinecolor": "white",
           "zerolinewidth": 2
          },
          "yaxis": {
           "automargin": true,
           "gridcolor": "white",
           "linecolor": "white",
           "ticks": "",
           "title": {
            "standoff": 15
           },
           "zerolinecolor": "white",
           "zerolinewidth": 2
          }
         }
        },
        "title": {
         "text": "Execution time of ForecasterRecursiveMultiSeries__create_train_X_y_series_is_dict_exog_is_dict"
        },
        "xaxis": {
         "anchor": "y",
         "categoryarray": [
          "0.12.0",
          "0.13.0",
          "0.14.0",
          "0.15.0",
          "0.16.0"
         ],
         "categoryorder": "array",
         "domain": [
          0,
          1
         ],
         "title": {
          "text": "skforecast version"
         }
        },
        "yaxis": {
         "anchor": "x",
         "domain": [
          0,
          1
         ],
         "title": {
          "text": "Execution time (seconds)"
         }
        }
       }
      }
     },
     "metadata": {},
     "output_type": "display_data"
    },
    {
     "data": {
      "application/vnd.microsoft.datawrangler.viewer.v0+json": {
       "columns": [
        {
         "name": "index",
         "rawType": "int64",
         "type": "integer"
        },
        {
         "name": "forecaster_name",
         "rawType": "object",
         "type": "string"
        },
        {
         "name": "function_name",
         "rawType": "object",
         "type": "string"
        },
        {
         "name": "function_hash",
         "rawType": "object",
         "type": "string"
        },
        {
         "name": "run_time_avg",
         "rawType": "float64",
         "type": "float"
        },
        {
         "name": "run_time_std_dev",
         "rawType": "float64",
         "type": "float"
        },
        {
         "name": "datetime",
         "rawType": "datetime64[ns]",
         "type": "datetime"
        },
        {
         "name": "python_version",
         "rawType": "object",
         "type": "string"
        },
        {
         "name": "skforecast_version",
         "rawType": "object",
         "type": "string"
        },
        {
         "name": "numpy_version",
         "rawType": "object",
         "type": "string"
        },
        {
         "name": "pandas_version",
         "rawType": "object",
         "type": "string"
        },
        {
         "name": "sklearn_version",
         "rawType": "object",
         "type": "string"
        },
        {
         "name": "lightgbm_version",
         "rawType": "object",
         "type": "string"
        },
        {
         "name": "platform",
         "rawType": "object",
         "type": "string"
        },
        {
         "name": "processor",
         "rawType": "object",
         "type": "string"
        },
        {
         "name": "cpu_count",
         "rawType": "int64",
         "type": "integer"
        },
        {
         "name": "memory_gb",
         "rawType": "float64",
         "type": "float"
        }
       ],
       "conversionMethod": "pd.DataFrame",
       "ref": "cc53865f-50a1-4797-a12a-1cb00a0e08c1",
       "rows": [
        [
         "2",
         "ForecasterAutoregMultiSeries",
         "ForecasterRecursiveMultiSeries_fit_series_is_dataframe_no_exog",
         "aa35b8ba0c0839021a95e5ba0786a67e",
         "12.333013310200021",
         "0.37135143612335997",
         "2025-04-22 21:05:55.730647",
         "3.12.9",
         "0.13.0",
         "1.26.4",
         "2.2.3",
         "1.4.2",
         "4.6.0",
         "Linux-6.11.0-21-generic-x86_64-with-glibc2.39",
         "x86_64",
         "8",
         "16.64"
        ],
        [
         "10",
         "ForecasterAutoregMultiSeries",
         "ForecasterRecursiveMultiSeries_fit_series_is_dataframe_no_exog",
         "aa35b8ba0c0839021a95e5ba0786a67e",
         "11.97779428720005",
         "1.0866717182193526",
         "2025-04-22 21:15:59.815615",
         "3.12.9",
         "0.13.0",
         "1.26.4",
         "2.2.3",
         "1.4.2",
         "4.6.0",
         "Linux-6.11.0-21-generic-x86_64-with-glibc2.39",
         "x86_64",
         "8",
         "16.64"
        ],
        [
         "18",
         "ForecasterRecursiveMultiSeries",
         "ForecasterRecursiveMultiSeries_fit_series_is_dataframe_no_exog",
         "aa35b8ba0c0839021a95e5ba0786a67e",
         "11.731446238199988",
         "0.45531220816978146",
         "2025-04-22 21:22:40.042906",
         "3.12.9",
         "0.14.0",
         "1.26.4",
         "2.2.3",
         "1.4.2",
         "4.6.0",
         "Linux-6.11.0-21-generic-x86_64-with-glibc2.39",
         "x86_64",
         "8",
         "16.64"
        ],
        [
         "38",
         "ForecasterRecursiveMultiSeries",
         "ForecasterRecursiveMultiSeries_fit_series_is_dataframe_no_exog",
         "aa35b8ba0c0839021a95e5ba0786a67e",
         "11.501287843800037",
         "0.5402885572310303",
         "2025-04-22 21:29:22.319034",
         "3.12.9",
         "0.14.0",
         "1.26.4",
         "2.2.3",
         "1.4.2",
         "4.6.0",
         "Linux-6.11.0-21-generic-x86_64-with-glibc2.39",
         "x86_64",
         "8",
         "16.64"
        ],
        [
         "50",
         "ForecasterRecursiveMultiSeries",
         "ForecasterRecursiveMultiSeries_fit_series_is_dataframe_no_exog",
         "aa35b8ba0c0839021a95e5ba0786a67e",
         "14.011422028199922",
         "2.125178491380861",
         "2025-04-22 21:33:31.377188",
         "3.12.9",
         "0.15.0",
         "1.26.4",
         "2.2.3",
         "1.4.2",
         "4.6.0",
         "Linux-6.11.0-21-generic-x86_64-with-glibc2.39",
         "x86_64",
         "8",
         "16.64"
        ],
        [
         "62",
         "ForecasterRecursiveMultiSeries",
         "ForecasterRecursiveMultiSeries_fit_series_is_dataframe_no_exog",
         "aa35b8ba0c0839021a95e5ba0786a67e",
         "16.032971956399887",
         "0.3173940381696902",
         "2025-04-22 21:44:20.300867",
         "3.12.9",
         "0.15.0",
         "2.2.5",
         "2.2.3",
         "1.6.1",
         "4.6.0",
         "Linux-6.11.0-21-generic-x86_64-with-glibc2.39",
         "x86_64",
         "8",
         "16.64"
        ],
        [
         "74",
         "ForecasterRecursiveMultiSeries",
         "ForecasterRecursiveMultiSeries_fit_series_is_dataframe_no_exog",
         "aa35b8ba0c0839021a95e5ba0786a67e",
         "17.77186752039979",
         "1.4861367260719964",
         "2025-04-22 21:54:12.212377",
         "3.12.9",
         "0.16.0",
         "2.2.5",
         "2.2.3",
         "1.6.1",
         "4.6.0",
         "Linux-6.11.0-21-generic-x86_64-with-glibc2.39",
         "x86_64",
         "8",
         "16.64"
        ],
        [
         "86",
         "ForecasterRecursiveMultiSeries",
         "ForecasterRecursiveMultiSeries_fit_series_is_dataframe_no_exog",
         "aa35b8ba0c0839021a95e5ba0786a67e",
         "17.188971126999785",
         "0.8879109291922426",
         "2025-04-22 22:08:56.684592",
         "3.12.9",
         "0.16.0",
         "1.26.4",
         "2.2.3",
         "1.6.1",
         "4.6.0",
         "Linux-6.11.0-21-generic-x86_64-with-glibc2.39",
         "x86_64",
         "8",
         "16.64"
        ],
        [
         "98",
         "ForecasterAutoregMultiSeries",
         "ForecasterRecursiveMultiSeries_fit_series_is_dataframe_no_exog",
         "aa35b8ba0c0839021a95e5ba0786a67e",
         "22.992780238999877",
         "1.1786630867760004",
         "2025-04-22 22:16:56.850439",
         "3.12.9",
         "0.12.0",
         "1.26.4",
         "2.2.3",
         "1.4.2",
         "4.6.0",
         "Linux-6.11.0-21-generic-x86_64-with-glibc2.39",
         "x86_64",
         "8",
         "16.64"
        ],
        [
         "110",
         "ForecasterAutoregMultiSeries",
         "ForecasterRecursiveMultiSeries_fit_series_is_dataframe_no_exog",
         "aa35b8ba0c0839021a95e5ba0786a67e",
         "22.92376246640015",
         "1.0686373546691226",
         "2025-04-22 22:29:48.274586",
         "3.12.9",
         "0.12.0",
         "1.26.4",
         "2.2.3",
         "1.4.2",
         "4.6.0",
         "Linux-6.11.0-21-generic-x86_64-with-glibc2.39",
         "x86_64",
         "8",
         "16.64"
        ]
       ],
       "shape": {
        "columns": 16,
        "rows": 10
       }
      },
      "text/html": [
       "<div>\n",
       "<style scoped>\n",
       "    .dataframe tbody tr th:only-of-type {\n",
       "        vertical-align: middle;\n",
       "    }\n",
       "\n",
       "    .dataframe tbody tr th {\n",
       "        vertical-align: top;\n",
       "    }\n",
       "\n",
       "    .dataframe thead th {\n",
       "        text-align: right;\n",
       "    }\n",
       "</style>\n",
       "<table border=\"1\" class=\"dataframe\">\n",
       "  <thead>\n",
       "    <tr style=\"text-align: right;\">\n",
       "      <th></th>\n",
       "      <th>forecaster_name</th>\n",
       "      <th>function_name</th>\n",
       "      <th>function_hash</th>\n",
       "      <th>run_time_avg</th>\n",
       "      <th>run_time_std_dev</th>\n",
       "      <th>datetime</th>\n",
       "      <th>python_version</th>\n",
       "      <th>skforecast_version</th>\n",
       "      <th>numpy_version</th>\n",
       "      <th>pandas_version</th>\n",
       "      <th>sklearn_version</th>\n",
       "      <th>lightgbm_version</th>\n",
       "      <th>platform</th>\n",
       "      <th>processor</th>\n",
       "      <th>cpu_count</th>\n",
       "      <th>memory_gb</th>\n",
       "    </tr>\n",
       "  </thead>\n",
       "  <tbody>\n",
       "    <tr>\n",
       "      <th>2</th>\n",
       "      <td>ForecasterAutoregMultiSeries</td>\n",
       "      <td>ForecasterRecursiveMultiSeries_fit_series_is_d...</td>\n",
       "      <td>aa35b8ba0c0839021a95e5ba0786a67e</td>\n",
       "      <td>12.333013</td>\n",
       "      <td>0.371351</td>\n",
       "      <td>2025-04-22 21:05:55.730647</td>\n",
       "      <td>3.12.9</td>\n",
       "      <td>0.13.0</td>\n",
       "      <td>1.26.4</td>\n",
       "      <td>2.2.3</td>\n",
       "      <td>1.4.2</td>\n",
       "      <td>4.6.0</td>\n",
       "      <td>Linux-6.11.0-21-generic-x86_64-with-glibc2.39</td>\n",
       "      <td>x86_64</td>\n",
       "      <td>8</td>\n",
       "      <td>16.64</td>\n",
       "    </tr>\n",
       "    <tr>\n",
       "      <th>10</th>\n",
       "      <td>ForecasterAutoregMultiSeries</td>\n",
       "      <td>ForecasterRecursiveMultiSeries_fit_series_is_d...</td>\n",
       "      <td>aa35b8ba0c0839021a95e5ba0786a67e</td>\n",
       "      <td>11.977794</td>\n",
       "      <td>1.086672</td>\n",
       "      <td>2025-04-22 21:15:59.815615</td>\n",
       "      <td>3.12.9</td>\n",
       "      <td>0.13.0</td>\n",
       "      <td>1.26.4</td>\n",
       "      <td>2.2.3</td>\n",
       "      <td>1.4.2</td>\n",
       "      <td>4.6.0</td>\n",
       "      <td>Linux-6.11.0-21-generic-x86_64-with-glibc2.39</td>\n",
       "      <td>x86_64</td>\n",
       "      <td>8</td>\n",
       "      <td>16.64</td>\n",
       "    </tr>\n",
       "    <tr>\n",
       "      <th>18</th>\n",
       "      <td>ForecasterRecursiveMultiSeries</td>\n",
       "      <td>ForecasterRecursiveMultiSeries_fit_series_is_d...</td>\n",
       "      <td>aa35b8ba0c0839021a95e5ba0786a67e</td>\n",
       "      <td>11.731446</td>\n",
       "      <td>0.455312</td>\n",
       "      <td>2025-04-22 21:22:40.042906</td>\n",
       "      <td>3.12.9</td>\n",
       "      <td>0.14.0</td>\n",
       "      <td>1.26.4</td>\n",
       "      <td>2.2.3</td>\n",
       "      <td>1.4.2</td>\n",
       "      <td>4.6.0</td>\n",
       "      <td>Linux-6.11.0-21-generic-x86_64-with-glibc2.39</td>\n",
       "      <td>x86_64</td>\n",
       "      <td>8</td>\n",
       "      <td>16.64</td>\n",
       "    </tr>\n",
       "    <tr>\n",
       "      <th>38</th>\n",
       "      <td>ForecasterRecursiveMultiSeries</td>\n",
       "      <td>ForecasterRecursiveMultiSeries_fit_series_is_d...</td>\n",
       "      <td>aa35b8ba0c0839021a95e5ba0786a67e</td>\n",
       "      <td>11.501288</td>\n",
       "      <td>0.540289</td>\n",
       "      <td>2025-04-22 21:29:22.319034</td>\n",
       "      <td>3.12.9</td>\n",
       "      <td>0.14.0</td>\n",
       "      <td>1.26.4</td>\n",
       "      <td>2.2.3</td>\n",
       "      <td>1.4.2</td>\n",
       "      <td>4.6.0</td>\n",
       "      <td>Linux-6.11.0-21-generic-x86_64-with-glibc2.39</td>\n",
       "      <td>x86_64</td>\n",
       "      <td>8</td>\n",
       "      <td>16.64</td>\n",
       "    </tr>\n",
       "    <tr>\n",
       "      <th>50</th>\n",
       "      <td>ForecasterRecursiveMultiSeries</td>\n",
       "      <td>ForecasterRecursiveMultiSeries_fit_series_is_d...</td>\n",
       "      <td>aa35b8ba0c0839021a95e5ba0786a67e</td>\n",
       "      <td>14.011422</td>\n",
       "      <td>2.125178</td>\n",
       "      <td>2025-04-22 21:33:31.377188</td>\n",
       "      <td>3.12.9</td>\n",
       "      <td>0.15.0</td>\n",
       "      <td>1.26.4</td>\n",
       "      <td>2.2.3</td>\n",
       "      <td>1.4.2</td>\n",
       "      <td>4.6.0</td>\n",
       "      <td>Linux-6.11.0-21-generic-x86_64-with-glibc2.39</td>\n",
       "      <td>x86_64</td>\n",
       "      <td>8</td>\n",
       "      <td>16.64</td>\n",
       "    </tr>\n",
       "    <tr>\n",
       "      <th>62</th>\n",
       "      <td>ForecasterRecursiveMultiSeries</td>\n",
       "      <td>ForecasterRecursiveMultiSeries_fit_series_is_d...</td>\n",
       "      <td>aa35b8ba0c0839021a95e5ba0786a67e</td>\n",
       "      <td>16.032972</td>\n",
       "      <td>0.317394</td>\n",
       "      <td>2025-04-22 21:44:20.300867</td>\n",
       "      <td>3.12.9</td>\n",
       "      <td>0.15.0</td>\n",
       "      <td>2.2.5</td>\n",
       "      <td>2.2.3</td>\n",
       "      <td>1.6.1</td>\n",
       "      <td>4.6.0</td>\n",
       "      <td>Linux-6.11.0-21-generic-x86_64-with-glibc2.39</td>\n",
       "      <td>x86_64</td>\n",
       "      <td>8</td>\n",
       "      <td>16.64</td>\n",
       "    </tr>\n",
       "    <tr>\n",
       "      <th>74</th>\n",
       "      <td>ForecasterRecursiveMultiSeries</td>\n",
       "      <td>ForecasterRecursiveMultiSeries_fit_series_is_d...</td>\n",
       "      <td>aa35b8ba0c0839021a95e5ba0786a67e</td>\n",
       "      <td>17.771868</td>\n",
       "      <td>1.486137</td>\n",
       "      <td>2025-04-22 21:54:12.212377</td>\n",
       "      <td>3.12.9</td>\n",
       "      <td>0.16.0</td>\n",
       "      <td>2.2.5</td>\n",
       "      <td>2.2.3</td>\n",
       "      <td>1.6.1</td>\n",
       "      <td>4.6.0</td>\n",
       "      <td>Linux-6.11.0-21-generic-x86_64-with-glibc2.39</td>\n",
       "      <td>x86_64</td>\n",
       "      <td>8</td>\n",
       "      <td>16.64</td>\n",
       "    </tr>\n",
       "    <tr>\n",
       "      <th>86</th>\n",
       "      <td>ForecasterRecursiveMultiSeries</td>\n",
       "      <td>ForecasterRecursiveMultiSeries_fit_series_is_d...</td>\n",
       "      <td>aa35b8ba0c0839021a95e5ba0786a67e</td>\n",
       "      <td>17.188971</td>\n",
       "      <td>0.887911</td>\n",
       "      <td>2025-04-22 22:08:56.684592</td>\n",
       "      <td>3.12.9</td>\n",
       "      <td>0.16.0</td>\n",
       "      <td>1.26.4</td>\n",
       "      <td>2.2.3</td>\n",
       "      <td>1.6.1</td>\n",
       "      <td>4.6.0</td>\n",
       "      <td>Linux-6.11.0-21-generic-x86_64-with-glibc2.39</td>\n",
       "      <td>x86_64</td>\n",
       "      <td>8</td>\n",
       "      <td>16.64</td>\n",
       "    </tr>\n",
       "    <tr>\n",
       "      <th>98</th>\n",
       "      <td>ForecasterAutoregMultiSeries</td>\n",
       "      <td>ForecasterRecursiveMultiSeries_fit_series_is_d...</td>\n",
       "      <td>aa35b8ba0c0839021a95e5ba0786a67e</td>\n",
       "      <td>22.992780</td>\n",
       "      <td>1.178663</td>\n",
       "      <td>2025-04-22 22:16:56.850439</td>\n",
       "      <td>3.12.9</td>\n",
       "      <td>0.12.0</td>\n",
       "      <td>1.26.4</td>\n",
       "      <td>2.2.3</td>\n",
       "      <td>1.4.2</td>\n",
       "      <td>4.6.0</td>\n",
       "      <td>Linux-6.11.0-21-generic-x86_64-with-glibc2.39</td>\n",
       "      <td>x86_64</td>\n",
       "      <td>8</td>\n",
       "      <td>16.64</td>\n",
       "    </tr>\n",
       "    <tr>\n",
       "      <th>110</th>\n",
       "      <td>ForecasterAutoregMultiSeries</td>\n",
       "      <td>ForecasterRecursiveMultiSeries_fit_series_is_d...</td>\n",
       "      <td>aa35b8ba0c0839021a95e5ba0786a67e</td>\n",
       "      <td>22.923762</td>\n",
       "      <td>1.068637</td>\n",
       "      <td>2025-04-22 22:29:48.274586</td>\n",
       "      <td>3.12.9</td>\n",
       "      <td>0.12.0</td>\n",
       "      <td>1.26.4</td>\n",
       "      <td>2.2.3</td>\n",
       "      <td>1.4.2</td>\n",
       "      <td>4.6.0</td>\n",
       "      <td>Linux-6.11.0-21-generic-x86_64-with-glibc2.39</td>\n",
       "      <td>x86_64</td>\n",
       "      <td>8</td>\n",
       "      <td>16.64</td>\n",
       "    </tr>\n",
       "  </tbody>\n",
       "</table>\n",
       "</div>"
      ],
      "text/plain": [
       "                    forecaster_name  \\\n",
       "2      ForecasterAutoregMultiSeries   \n",
       "10     ForecasterAutoregMultiSeries   \n",
       "18   ForecasterRecursiveMultiSeries   \n",
       "38   ForecasterRecursiveMultiSeries   \n",
       "50   ForecasterRecursiveMultiSeries   \n",
       "62   ForecasterRecursiveMultiSeries   \n",
       "74   ForecasterRecursiveMultiSeries   \n",
       "86   ForecasterRecursiveMultiSeries   \n",
       "98     ForecasterAutoregMultiSeries   \n",
       "110    ForecasterAutoregMultiSeries   \n",
       "\n",
       "                                         function_name  \\\n",
       "2    ForecasterRecursiveMultiSeries_fit_series_is_d...   \n",
       "10   ForecasterRecursiveMultiSeries_fit_series_is_d...   \n",
       "18   ForecasterRecursiveMultiSeries_fit_series_is_d...   \n",
       "38   ForecasterRecursiveMultiSeries_fit_series_is_d...   \n",
       "50   ForecasterRecursiveMultiSeries_fit_series_is_d...   \n",
       "62   ForecasterRecursiveMultiSeries_fit_series_is_d...   \n",
       "74   ForecasterRecursiveMultiSeries_fit_series_is_d...   \n",
       "86   ForecasterRecursiveMultiSeries_fit_series_is_d...   \n",
       "98   ForecasterRecursiveMultiSeries_fit_series_is_d...   \n",
       "110  ForecasterRecursiveMultiSeries_fit_series_is_d...   \n",
       "\n",
       "                        function_hash  run_time_avg  run_time_std_dev  \\\n",
       "2    aa35b8ba0c0839021a95e5ba0786a67e     12.333013          0.371351   \n",
       "10   aa35b8ba0c0839021a95e5ba0786a67e     11.977794          1.086672   \n",
       "18   aa35b8ba0c0839021a95e5ba0786a67e     11.731446          0.455312   \n",
       "38   aa35b8ba0c0839021a95e5ba0786a67e     11.501288          0.540289   \n",
       "50   aa35b8ba0c0839021a95e5ba0786a67e     14.011422          2.125178   \n",
       "62   aa35b8ba0c0839021a95e5ba0786a67e     16.032972          0.317394   \n",
       "74   aa35b8ba0c0839021a95e5ba0786a67e     17.771868          1.486137   \n",
       "86   aa35b8ba0c0839021a95e5ba0786a67e     17.188971          0.887911   \n",
       "98   aa35b8ba0c0839021a95e5ba0786a67e     22.992780          1.178663   \n",
       "110  aa35b8ba0c0839021a95e5ba0786a67e     22.923762          1.068637   \n",
       "\n",
       "                      datetime python_version skforecast_version  \\\n",
       "2   2025-04-22 21:05:55.730647         3.12.9             0.13.0   \n",
       "10  2025-04-22 21:15:59.815615         3.12.9             0.13.0   \n",
       "18  2025-04-22 21:22:40.042906         3.12.9             0.14.0   \n",
       "38  2025-04-22 21:29:22.319034         3.12.9             0.14.0   \n",
       "50  2025-04-22 21:33:31.377188         3.12.9             0.15.0   \n",
       "62  2025-04-22 21:44:20.300867         3.12.9             0.15.0   \n",
       "74  2025-04-22 21:54:12.212377         3.12.9             0.16.0   \n",
       "86  2025-04-22 22:08:56.684592         3.12.9             0.16.0   \n",
       "98  2025-04-22 22:16:56.850439         3.12.9             0.12.0   \n",
       "110 2025-04-22 22:29:48.274586         3.12.9             0.12.0   \n",
       "\n",
       "    numpy_version pandas_version sklearn_version lightgbm_version  \\\n",
       "2          1.26.4          2.2.3           1.4.2            4.6.0   \n",
       "10         1.26.4          2.2.3           1.4.2            4.6.0   \n",
       "18         1.26.4          2.2.3           1.4.2            4.6.0   \n",
       "38         1.26.4          2.2.3           1.4.2            4.6.0   \n",
       "50         1.26.4          2.2.3           1.4.2            4.6.0   \n",
       "62          2.2.5          2.2.3           1.6.1            4.6.0   \n",
       "74          2.2.5          2.2.3           1.6.1            4.6.0   \n",
       "86         1.26.4          2.2.3           1.6.1            4.6.0   \n",
       "98         1.26.4          2.2.3           1.4.2            4.6.0   \n",
       "110        1.26.4          2.2.3           1.4.2            4.6.0   \n",
       "\n",
       "                                          platform processor  cpu_count  \\\n",
       "2    Linux-6.11.0-21-generic-x86_64-with-glibc2.39    x86_64          8   \n",
       "10   Linux-6.11.0-21-generic-x86_64-with-glibc2.39    x86_64          8   \n",
       "18   Linux-6.11.0-21-generic-x86_64-with-glibc2.39    x86_64          8   \n",
       "38   Linux-6.11.0-21-generic-x86_64-with-glibc2.39    x86_64          8   \n",
       "50   Linux-6.11.0-21-generic-x86_64-with-glibc2.39    x86_64          8   \n",
       "62   Linux-6.11.0-21-generic-x86_64-with-glibc2.39    x86_64          8   \n",
       "74   Linux-6.11.0-21-generic-x86_64-with-glibc2.39    x86_64          8   \n",
       "86   Linux-6.11.0-21-generic-x86_64-with-glibc2.39    x86_64          8   \n",
       "98   Linux-6.11.0-21-generic-x86_64-with-glibc2.39    x86_64          8   \n",
       "110  Linux-6.11.0-21-generic-x86_64-with-glibc2.39    x86_64          8   \n",
       "\n",
       "     memory_gb  \n",
       "2        16.64  \n",
       "10       16.64  \n",
       "18       16.64  \n",
       "38       16.64  \n",
       "50       16.64  \n",
       "62       16.64  \n",
       "74       16.64  \n",
       "86       16.64  \n",
       "98       16.64  \n",
       "110      16.64  "
      ]
     },
     "metadata": {},
     "output_type": "display_data"
    },
    {
     "data": {
      "application/vnd.plotly.v1+json": {
       "config": {
        "plotlyServerURL": "https://plot.ly"
       },
       "data": [
        {
         "alignmentgroup": "True",
         "boxpoints": "all",
         "customdata": [
          [
           "ForecasterAutoregMultiSeries",
           "ForecasterRecursiveMultiSeries_fit_series_is_dataframe_no_exog",
           "aa35b8ba0c0839021a95e5ba0786a67e",
           1.1786630867760004,
           "2025-04-22T22:16:56.850439",
           "3.12.9",
           "1.26.4",
           "2.2.3",
           "1.4.2",
           "4.6.0",
           "Linux-6.11.0-21-generic-x86_64-with-glibc2.39",
           "x86_64",
           8,
           16.64
          ],
          [
           "ForecasterAutoregMultiSeries",
           "ForecasterRecursiveMultiSeries_fit_series_is_dataframe_no_exog",
           "aa35b8ba0c0839021a95e5ba0786a67e",
           1.0686373546691226,
           "2025-04-22T22:29:48.274586",
           "3.12.9",
           "1.26.4",
           "2.2.3",
           "1.4.2",
           "4.6.0",
           "Linux-6.11.0-21-generic-x86_64-with-glibc2.39",
           "x86_64",
           8,
           16.64
          ]
         ],
         "fillcolor": "rgba(255,255,255,0)",
         "hoveron": "points",
         "hovertemplate": "skforecast_version=%{x}<br>run_time_avg=%{y}<br>forecaster_name=%{customdata[0]}<br>function_name=%{customdata[1]}<br>function_hash=%{customdata[2]}<br>run_time_std_dev=%{customdata[3]}<br>datetime=%{customdata[4]}<br>python_version=%{customdata[5]}<br>numpy_version=%{customdata[6]}<br>pandas_version=%{customdata[7]}<br>sklearn_version=%{customdata[8]}<br>lightgbm_version=%{customdata[9]}<br>platform=%{customdata[10]}<br>processor=%{customdata[11]}<br>cpu_count=%{customdata[12]}<br>memory_gb=%{customdata[13]}<extra></extra>",
         "jitter": true,
         "legendgroup": "0.12.0",
         "line": {
          "color": "rgba(255,255,255,0)"
         },
         "marker": {
          "color": "#636efa",
          "opacity": 0.7,
          "size": 10
         },
         "name": "0.12.0",
         "offsetgroup": "0.12.0",
         "orientation": "v",
         "pointpos": 0,
         "showlegend": true,
         "type": "box",
         "x": [
          "0.12.0",
          "0.12.0"
         ],
         "x0": " ",
         "xaxis": "x",
         "y": {
          "bdata": "mp6C2Cb+NkAAdm6ye+w2QA==",
          "dtype": "f8"
         },
         "y0": " ",
         "yaxis": "y"
        },
        {
         "alignmentgroup": "True",
         "boxpoints": "all",
         "customdata": [
          [
           "ForecasterAutoregMultiSeries",
           "ForecasterRecursiveMultiSeries_fit_series_is_dataframe_no_exog",
           "aa35b8ba0c0839021a95e5ba0786a67e",
           0.37135143612335997,
           "2025-04-22T21:05:55.730647",
           "3.12.9",
           "1.26.4",
           "2.2.3",
           "1.4.2",
           "4.6.0",
           "Linux-6.11.0-21-generic-x86_64-with-glibc2.39",
           "x86_64",
           8,
           16.64
          ],
          [
           "ForecasterAutoregMultiSeries",
           "ForecasterRecursiveMultiSeries_fit_series_is_dataframe_no_exog",
           "aa35b8ba0c0839021a95e5ba0786a67e",
           1.0866717182193526,
           "2025-04-22T21:15:59.815615",
           "3.12.9",
           "1.26.4",
           "2.2.3",
           "1.4.2",
           "4.6.0",
           "Linux-6.11.0-21-generic-x86_64-with-glibc2.39",
           "x86_64",
           8,
           16.64
          ]
         ],
         "fillcolor": "rgba(255,255,255,0)",
         "hoveron": "points",
         "hovertemplate": "skforecast_version=%{x}<br>run_time_avg=%{y}<br>forecaster_name=%{customdata[0]}<br>function_name=%{customdata[1]}<br>function_hash=%{customdata[2]}<br>run_time_std_dev=%{customdata[3]}<br>datetime=%{customdata[4]}<br>python_version=%{customdata[5]}<br>numpy_version=%{customdata[6]}<br>pandas_version=%{customdata[7]}<br>sklearn_version=%{customdata[8]}<br>lightgbm_version=%{customdata[9]}<br>platform=%{customdata[10]}<br>processor=%{customdata[11]}<br>cpu_count=%{customdata[12]}<br>memory_gb=%{customdata[13]}<extra></extra>",
         "jitter": true,
         "legendgroup": "0.13.0",
         "line": {
          "color": "rgba(255,255,255,0)"
         },
         "marker": {
          "color": "#EF553B",
          "opacity": 0.7,
          "size": 10
         },
         "name": "0.13.0",
         "offsetgroup": "0.13.0",
         "orientation": "v",
         "pointpos": 0,
         "showlegend": true,
         "type": "box",
         "x": [
          "0.13.0",
          "0.13.0"
         ],
         "x0": " ",
         "xaxis": "x",
         "y": {
          "bdata": "M+J4uICqKEDNeutzofQnQA==",
          "dtype": "f8"
         },
         "y0": " ",
         "yaxis": "y"
        },
        {
         "alignmentgroup": "True",
         "boxpoints": "all",
         "customdata": [
          [
           "ForecasterRecursiveMultiSeries",
           "ForecasterRecursiveMultiSeries_fit_series_is_dataframe_no_exog",
           "aa35b8ba0c0839021a95e5ba0786a67e",
           0.45531220816978146,
           "2025-04-22T21:22:40.042906",
           "3.12.9",
           "1.26.4",
           "2.2.3",
           "1.4.2",
           "4.6.0",
           "Linux-6.11.0-21-generic-x86_64-with-glibc2.39",
           "x86_64",
           8,
           16.64
          ],
          [
           "ForecasterRecursiveMultiSeries",
           "ForecasterRecursiveMultiSeries_fit_series_is_dataframe_no_exog",
           "aa35b8ba0c0839021a95e5ba0786a67e",
           0.5402885572310303,
           "2025-04-22T21:29:22.319034",
           "3.12.9",
           "1.26.4",
           "2.2.3",
           "1.4.2",
           "4.6.0",
           "Linux-6.11.0-21-generic-x86_64-with-glibc2.39",
           "x86_64",
           8,
           16.64
          ]
         ],
         "fillcolor": "rgba(255,255,255,0)",
         "hoveron": "points",
         "hovertemplate": "skforecast_version=%{x}<br>run_time_avg=%{y}<br>forecaster_name=%{customdata[0]}<br>function_name=%{customdata[1]}<br>function_hash=%{customdata[2]}<br>run_time_std_dev=%{customdata[3]}<br>datetime=%{customdata[4]}<br>python_version=%{customdata[5]}<br>numpy_version=%{customdata[6]}<br>pandas_version=%{customdata[7]}<br>sklearn_version=%{customdata[8]}<br>lightgbm_version=%{customdata[9]}<br>platform=%{customdata[10]}<br>processor=%{customdata[11]}<br>cpu_count=%{customdata[12]}<br>memory_gb=%{customdata[13]}<extra></extra>",
         "jitter": true,
         "legendgroup": "0.14.0",
         "line": {
          "color": "rgba(255,255,255,0)"
         },
         "marker": {
          "color": "#00cc96",
          "opacity": 0.7,
          "size": 10
         },
         "name": "0.14.0",
         "offsetgroup": "0.14.0",
         "orientation": "v",
         "pointpos": 0,
         "showlegend": true,
         "type": "box",
         "x": [
          "0.14.0",
          "0.14.0"
         ],
         "x0": " ",
         "xaxis": "x",
         "y": {
          "bdata": "zbMPH4B2J0DNAd7MqAAnQA==",
          "dtype": "f8"
         },
         "y0": " ",
         "yaxis": "y"
        },
        {
         "alignmentgroup": "True",
         "boxpoints": "all",
         "customdata": [
          [
           "ForecasterRecursiveMultiSeries",
           "ForecasterRecursiveMultiSeries_fit_series_is_dataframe_no_exog",
           "aa35b8ba0c0839021a95e5ba0786a67e",
           2.125178491380861,
           "2025-04-22T21:33:31.377188",
           "3.12.9",
           "1.26.4",
           "2.2.3",
           "1.4.2",
           "4.6.0",
           "Linux-6.11.0-21-generic-x86_64-with-glibc2.39",
           "x86_64",
           8,
           16.64
          ],
          [
           "ForecasterRecursiveMultiSeries",
           "ForecasterRecursiveMultiSeries_fit_series_is_dataframe_no_exog",
           "aa35b8ba0c0839021a95e5ba0786a67e",
           0.3173940381696902,
           "2025-04-22T21:44:20.300867",
           "3.12.9",
           "2.2.5",
           "2.2.3",
           "1.6.1",
           "4.6.0",
           "Linux-6.11.0-21-generic-x86_64-with-glibc2.39",
           "x86_64",
           8,
           16.64
          ]
         ],
         "fillcolor": "rgba(255,255,255,0)",
         "hoveron": "points",
         "hovertemplate": "skforecast_version=%{x}<br>run_time_avg=%{y}<br>forecaster_name=%{customdata[0]}<br>function_name=%{customdata[1]}<br>function_hash=%{customdata[2]}<br>run_time_std_dev=%{customdata[3]}<br>datetime=%{customdata[4]}<br>python_version=%{customdata[5]}<br>numpy_version=%{customdata[6]}<br>pandas_version=%{customdata[7]}<br>sklearn_version=%{customdata[8]}<br>lightgbm_version=%{customdata[9]}<br>platform=%{customdata[10]}<br>processor=%{customdata[11]}<br>cpu_count=%{customdata[12]}<br>memory_gb=%{customdata[13]}<extra></extra>",
         "jitter": true,
         "legendgroup": "0.15.0",
         "line": {
          "color": "rgba(255,255,255,0)"
         },
         "marker": {
          "color": "#ab63fa",
          "opacity": 0.7,
          "size": 10
         },
         "name": "0.15.0",
         "offsetgroup": "0.15.0",
         "orientation": "v",
         "pointpos": 0,
         "showlegend": true,
         "type": "box",
         "x": [
          "0.15.0",
          "0.15.0"
         ],
         "x0": " ",
         "xaxis": "x",
         "y": {
          "bdata": "MyWrG9kFLEAzbKLZcAgwQA==",
          "dtype": "f8"
         },
         "y0": " ",
         "yaxis": "y"
        },
        {
         "alignmentgroup": "True",
         "boxpoints": "all",
         "customdata": [
          [
           "ForecasterRecursiveMultiSeries",
           "ForecasterRecursiveMultiSeries_fit_series_is_dataframe_no_exog",
           "aa35b8ba0c0839021a95e5ba0786a67e",
           1.4861367260719964,
           "2025-04-22T21:54:12.212377",
           "3.12.9",
           "2.2.5",
           "2.2.3",
           "1.6.1",
           "4.6.0",
           "Linux-6.11.0-21-generic-x86_64-with-glibc2.39",
           "x86_64",
           8,
           16.64
          ],
          [
           "ForecasterRecursiveMultiSeries",
           "ForecasterRecursiveMultiSeries_fit_series_is_dataframe_no_exog",
           "aa35b8ba0c0839021a95e5ba0786a67e",
           0.8879109291922426,
           "2025-04-22T22:08:56.684592",
           "3.12.9",
           "1.26.4",
           "2.2.3",
           "1.6.1",
           "4.6.0",
           "Linux-6.11.0-21-generic-x86_64-with-glibc2.39",
           "x86_64",
           8,
           16.64
          ]
         ],
         "fillcolor": "rgba(255,255,255,0)",
         "hoveron": "points",
         "hovertemplate": "skforecast_version=%{x}<br>run_time_avg=%{y}<br>forecaster_name=%{customdata[0]}<br>function_name=%{customdata[1]}<br>function_hash=%{customdata[2]}<br>run_time_std_dev=%{customdata[3]}<br>datetime=%{customdata[4]}<br>python_version=%{customdata[5]}<br>numpy_version=%{customdata[6]}<br>pandas_version=%{customdata[7]}<br>sklearn_version=%{customdata[8]}<br>lightgbm_version=%{customdata[9]}<br>platform=%{customdata[10]}<br>processor=%{customdata[11]}<br>cpu_count=%{customdata[12]}<br>memory_gb=%{customdata[13]}<extra></extra>",
         "jitter": true,
         "legendgroup": "0.16.0",
         "line": {
          "color": "rgba(255,255,255,0)"
         },
         "marker": {
          "color": "#FFA15A",
          "opacity": 0.7,
          "size": 10
         },
         "name": "0.16.0",
         "offsetgroup": "0.16.0",
         "orientation": "v",
         "pointpos": 0,
         "showlegend": true,
         "type": "box",
         "x": [
          "0.16.0",
          "0.16.0"
         ],
         "x0": " ",
         "xaxis": "x",
         "y": {
          "bdata": "M/YcHJnFMUAzWmppYDAxQA==",
          "dtype": "f8"
         },
         "y0": " ",
         "yaxis": "y"
        },
        {
         "line": {
          "color": "black",
          "width": 2
         },
         "marker": {
          "size": 8
         },
         "mode": "lines+markers",
         "name": "Median",
         "showlegend": true,
         "type": "scatter",
         "x": [
          "0.12.0",
          "0.13.0",
          "0.14.0",
          "0.15.0",
          "0.16.0"
         ],
         "y": {
          "bdata": "TYp4RVH1NkCALjIWkU8oQM3a9nWUOydAzP53Z10LLkAzqMPC/HoxQA==",
          "dtype": "f8"
         }
        }
       ],
       "layout": {
        "boxmode": "overlay",
        "legend": {
         "title": {
          "text": "skforecast_version"
         },
         "tracegroupgap": 0
        },
        "margin": {
         "t": 60
        },
        "showlegend": true,
        "template": {
         "data": {
          "bar": [
           {
            "error_x": {
             "color": "#2a3f5f"
            },
            "error_y": {
             "color": "#2a3f5f"
            },
            "marker": {
             "line": {
              "color": "#E5ECF6",
              "width": 0.5
             },
             "pattern": {
              "fillmode": "overlay",
              "size": 10,
              "solidity": 0.2
             }
            },
            "type": "bar"
           }
          ],
          "barpolar": [
           {
            "marker": {
             "line": {
              "color": "#E5ECF6",
              "width": 0.5
             },
             "pattern": {
              "fillmode": "overlay",
              "size": 10,
              "solidity": 0.2
             }
            },
            "type": "barpolar"
           }
          ],
          "carpet": [
           {
            "aaxis": {
             "endlinecolor": "#2a3f5f",
             "gridcolor": "white",
             "linecolor": "white",
             "minorgridcolor": "white",
             "startlinecolor": "#2a3f5f"
            },
            "baxis": {
             "endlinecolor": "#2a3f5f",
             "gridcolor": "white",
             "linecolor": "white",
             "minorgridcolor": "white",
             "startlinecolor": "#2a3f5f"
            },
            "type": "carpet"
           }
          ],
          "choropleth": [
           {
            "colorbar": {
             "outlinewidth": 0,
             "ticks": ""
            },
            "type": "choropleth"
           }
          ],
          "contour": [
           {
            "colorbar": {
             "outlinewidth": 0,
             "ticks": ""
            },
            "colorscale": [
             [
              0,
              "#0d0887"
             ],
             [
              0.1111111111111111,
              "#46039f"
             ],
             [
              0.2222222222222222,
              "#7201a8"
             ],
             [
              0.3333333333333333,
              "#9c179e"
             ],
             [
              0.4444444444444444,
              "#bd3786"
             ],
             [
              0.5555555555555556,
              "#d8576b"
             ],
             [
              0.6666666666666666,
              "#ed7953"
             ],
             [
              0.7777777777777778,
              "#fb9f3a"
             ],
             [
              0.8888888888888888,
              "#fdca26"
             ],
             [
              1,
              "#f0f921"
             ]
            ],
            "type": "contour"
           }
          ],
          "contourcarpet": [
           {
            "colorbar": {
             "outlinewidth": 0,
             "ticks": ""
            },
            "type": "contourcarpet"
           }
          ],
          "heatmap": [
           {
            "colorbar": {
             "outlinewidth": 0,
             "ticks": ""
            },
            "colorscale": [
             [
              0,
              "#0d0887"
             ],
             [
              0.1111111111111111,
              "#46039f"
             ],
             [
              0.2222222222222222,
              "#7201a8"
             ],
             [
              0.3333333333333333,
              "#9c179e"
             ],
             [
              0.4444444444444444,
              "#bd3786"
             ],
             [
              0.5555555555555556,
              "#d8576b"
             ],
             [
              0.6666666666666666,
              "#ed7953"
             ],
             [
              0.7777777777777778,
              "#fb9f3a"
             ],
             [
              0.8888888888888888,
              "#fdca26"
             ],
             [
              1,
              "#f0f921"
             ]
            ],
            "type": "heatmap"
           }
          ],
          "histogram": [
           {
            "marker": {
             "pattern": {
              "fillmode": "overlay",
              "size": 10,
              "solidity": 0.2
             }
            },
            "type": "histogram"
           }
          ],
          "histogram2d": [
           {
            "colorbar": {
             "outlinewidth": 0,
             "ticks": ""
            },
            "colorscale": [
             [
              0,
              "#0d0887"
             ],
             [
              0.1111111111111111,
              "#46039f"
             ],
             [
              0.2222222222222222,
              "#7201a8"
             ],
             [
              0.3333333333333333,
              "#9c179e"
             ],
             [
              0.4444444444444444,
              "#bd3786"
             ],
             [
              0.5555555555555556,
              "#d8576b"
             ],
             [
              0.6666666666666666,
              "#ed7953"
             ],
             [
              0.7777777777777778,
              "#fb9f3a"
             ],
             [
              0.8888888888888888,
              "#fdca26"
             ],
             [
              1,
              "#f0f921"
             ]
            ],
            "type": "histogram2d"
           }
          ],
          "histogram2dcontour": [
           {
            "colorbar": {
             "outlinewidth": 0,
             "ticks": ""
            },
            "colorscale": [
             [
              0,
              "#0d0887"
             ],
             [
              0.1111111111111111,
              "#46039f"
             ],
             [
              0.2222222222222222,
              "#7201a8"
             ],
             [
              0.3333333333333333,
              "#9c179e"
             ],
             [
              0.4444444444444444,
              "#bd3786"
             ],
             [
              0.5555555555555556,
              "#d8576b"
             ],
             [
              0.6666666666666666,
              "#ed7953"
             ],
             [
              0.7777777777777778,
              "#fb9f3a"
             ],
             [
              0.8888888888888888,
              "#fdca26"
             ],
             [
              1,
              "#f0f921"
             ]
            ],
            "type": "histogram2dcontour"
           }
          ],
          "mesh3d": [
           {
            "colorbar": {
             "outlinewidth": 0,
             "ticks": ""
            },
            "type": "mesh3d"
           }
          ],
          "parcoords": [
           {
            "line": {
             "colorbar": {
              "outlinewidth": 0,
              "ticks": ""
             }
            },
            "type": "parcoords"
           }
          ],
          "pie": [
           {
            "automargin": true,
            "type": "pie"
           }
          ],
          "scatter": [
           {
            "fillpattern": {
             "fillmode": "overlay",
             "size": 10,
             "solidity": 0.2
            },
            "type": "scatter"
           }
          ],
          "scatter3d": [
           {
            "line": {
             "colorbar": {
              "outlinewidth": 0,
              "ticks": ""
             }
            },
            "marker": {
             "colorbar": {
              "outlinewidth": 0,
              "ticks": ""
             }
            },
            "type": "scatter3d"
           }
          ],
          "scattercarpet": [
           {
            "marker": {
             "colorbar": {
              "outlinewidth": 0,
              "ticks": ""
             }
            },
            "type": "scattercarpet"
           }
          ],
          "scattergeo": [
           {
            "marker": {
             "colorbar": {
              "outlinewidth": 0,
              "ticks": ""
             }
            },
            "type": "scattergeo"
           }
          ],
          "scattergl": [
           {
            "marker": {
             "colorbar": {
              "outlinewidth": 0,
              "ticks": ""
             }
            },
            "type": "scattergl"
           }
          ],
          "scattermap": [
           {
            "marker": {
             "colorbar": {
              "outlinewidth": 0,
              "ticks": ""
             }
            },
            "type": "scattermap"
           }
          ],
          "scattermapbox": [
           {
            "marker": {
             "colorbar": {
              "outlinewidth": 0,
              "ticks": ""
             }
            },
            "type": "scattermapbox"
           }
          ],
          "scatterpolar": [
           {
            "marker": {
             "colorbar": {
              "outlinewidth": 0,
              "ticks": ""
             }
            },
            "type": "scatterpolar"
           }
          ],
          "scatterpolargl": [
           {
            "marker": {
             "colorbar": {
              "outlinewidth": 0,
              "ticks": ""
             }
            },
            "type": "scatterpolargl"
           }
          ],
          "scatterternary": [
           {
            "marker": {
             "colorbar": {
              "outlinewidth": 0,
              "ticks": ""
             }
            },
            "type": "scatterternary"
           }
          ],
          "surface": [
           {
            "colorbar": {
             "outlinewidth": 0,
             "ticks": ""
            },
            "colorscale": [
             [
              0,
              "#0d0887"
             ],
             [
              0.1111111111111111,
              "#46039f"
             ],
             [
              0.2222222222222222,
              "#7201a8"
             ],
             [
              0.3333333333333333,
              "#9c179e"
             ],
             [
              0.4444444444444444,
              "#bd3786"
             ],
             [
              0.5555555555555556,
              "#d8576b"
             ],
             [
              0.6666666666666666,
              "#ed7953"
             ],
             [
              0.7777777777777778,
              "#fb9f3a"
             ],
             [
              0.8888888888888888,
              "#fdca26"
             ],
             [
              1,
              "#f0f921"
             ]
            ],
            "type": "surface"
           }
          ],
          "table": [
           {
            "cells": {
             "fill": {
              "color": "#EBF0F8"
             },
             "line": {
              "color": "white"
             }
            },
            "header": {
             "fill": {
              "color": "#C8D4E3"
             },
             "line": {
              "color": "white"
             }
            },
            "type": "table"
           }
          ]
         },
         "layout": {
          "annotationdefaults": {
           "arrowcolor": "#2a3f5f",
           "arrowhead": 0,
           "arrowwidth": 1
          },
          "autotypenumbers": "strict",
          "coloraxis": {
           "colorbar": {
            "outlinewidth": 0,
            "ticks": ""
           }
          },
          "colorscale": {
           "diverging": [
            [
             0,
             "#8e0152"
            ],
            [
             0.1,
             "#c51b7d"
            ],
            [
             0.2,
             "#de77ae"
            ],
            [
             0.3,
             "#f1b6da"
            ],
            [
             0.4,
             "#fde0ef"
            ],
            [
             0.5,
             "#f7f7f7"
            ],
            [
             0.6,
             "#e6f5d0"
            ],
            [
             0.7,
             "#b8e186"
            ],
            [
             0.8,
             "#7fbc41"
            ],
            [
             0.9,
             "#4d9221"
            ],
            [
             1,
             "#276419"
            ]
           ],
           "sequential": [
            [
             0,
             "#0d0887"
            ],
            [
             0.1111111111111111,
             "#46039f"
            ],
            [
             0.2222222222222222,
             "#7201a8"
            ],
            [
             0.3333333333333333,
             "#9c179e"
            ],
            [
             0.4444444444444444,
             "#bd3786"
            ],
            [
             0.5555555555555556,
             "#d8576b"
            ],
            [
             0.6666666666666666,
             "#ed7953"
            ],
            [
             0.7777777777777778,
             "#fb9f3a"
            ],
            [
             0.8888888888888888,
             "#fdca26"
            ],
            [
             1,
             "#f0f921"
            ]
           ],
           "sequentialminus": [
            [
             0,
             "#0d0887"
            ],
            [
             0.1111111111111111,
             "#46039f"
            ],
            [
             0.2222222222222222,
             "#7201a8"
            ],
            [
             0.3333333333333333,
             "#9c179e"
            ],
            [
             0.4444444444444444,
             "#bd3786"
            ],
            [
             0.5555555555555556,
             "#d8576b"
            ],
            [
             0.6666666666666666,
             "#ed7953"
            ],
            [
             0.7777777777777778,
             "#fb9f3a"
            ],
            [
             0.8888888888888888,
             "#fdca26"
            ],
            [
             1,
             "#f0f921"
            ]
           ]
          },
          "colorway": [
           "#636efa",
           "#EF553B",
           "#00cc96",
           "#ab63fa",
           "#FFA15A",
           "#19d3f3",
           "#FF6692",
           "#B6E880",
           "#FF97FF",
           "#FECB52"
          ],
          "font": {
           "color": "#2a3f5f"
          },
          "geo": {
           "bgcolor": "white",
           "lakecolor": "white",
           "landcolor": "#E5ECF6",
           "showlakes": true,
           "showland": true,
           "subunitcolor": "white"
          },
          "hoverlabel": {
           "align": "left"
          },
          "hovermode": "closest",
          "mapbox": {
           "style": "light"
          },
          "paper_bgcolor": "white",
          "plot_bgcolor": "#E5ECF6",
          "polar": {
           "angularaxis": {
            "gridcolor": "white",
            "linecolor": "white",
            "ticks": ""
           },
           "bgcolor": "#E5ECF6",
           "radialaxis": {
            "gridcolor": "white",
            "linecolor": "white",
            "ticks": ""
           }
          },
          "scene": {
           "xaxis": {
            "backgroundcolor": "#E5ECF6",
            "gridcolor": "white",
            "gridwidth": 2,
            "linecolor": "white",
            "showbackground": true,
            "ticks": "",
            "zerolinecolor": "white"
           },
           "yaxis": {
            "backgroundcolor": "#E5ECF6",
            "gridcolor": "white",
            "gridwidth": 2,
            "linecolor": "white",
            "showbackground": true,
            "ticks": "",
            "zerolinecolor": "white"
           },
           "zaxis": {
            "backgroundcolor": "#E5ECF6",
            "gridcolor": "white",
            "gridwidth": 2,
            "linecolor": "white",
            "showbackground": true,
            "ticks": "",
            "zerolinecolor": "white"
           }
          },
          "shapedefaults": {
           "line": {
            "color": "#2a3f5f"
           }
          },
          "ternary": {
           "aaxis": {
            "gridcolor": "white",
            "linecolor": "white",
            "ticks": ""
           },
           "baxis": {
            "gridcolor": "white",
            "linecolor": "white",
            "ticks": ""
           },
           "bgcolor": "#E5ECF6",
           "caxis": {
            "gridcolor": "white",
            "linecolor": "white",
            "ticks": ""
           }
          },
          "title": {
           "x": 0.05
          },
          "xaxis": {
           "automargin": true,
           "gridcolor": "white",
           "linecolor": "white",
           "ticks": "",
           "title": {
            "standoff": 15
           },
           "zerolinecolor": "white",
           "zerolinewidth": 2
          },
          "yaxis": {
           "automargin": true,
           "gridcolor": "white",
           "linecolor": "white",
           "ticks": "",
           "title": {
            "standoff": 15
           },
           "zerolinecolor": "white",
           "zerolinewidth": 2
          }
         }
        },
        "title": {
         "text": "Execution time of ForecasterRecursiveMultiSeries_fit_series_is_dataframe_no_exog"
        },
        "xaxis": {
         "anchor": "y",
         "categoryarray": [
          "0.12.0",
          "0.13.0",
          "0.14.0",
          "0.15.0",
          "0.16.0"
         ],
         "categoryorder": "array",
         "domain": [
          0,
          1
         ],
         "title": {
          "text": "skforecast version"
         }
        },
        "yaxis": {
         "anchor": "x",
         "domain": [
          0,
          1
         ],
         "title": {
          "text": "Execution time (seconds)"
         }
        }
       }
      }
     },
     "metadata": {},
     "output_type": "display_data"
    },
    {
     "data": {
      "application/vnd.microsoft.datawrangler.viewer.v0+json": {
       "columns": [
        {
         "name": "index",
         "rawType": "int64",
         "type": "integer"
        },
        {
         "name": "forecaster_name",
         "rawType": "object",
         "type": "string"
        },
        {
         "name": "function_name",
         "rawType": "object",
         "type": "string"
        },
        {
         "name": "function_hash",
         "rawType": "object",
         "type": "string"
        },
        {
         "name": "run_time_avg",
         "rawType": "float64",
         "type": "float"
        },
        {
         "name": "run_time_std_dev",
         "rawType": "float64",
         "type": "float"
        },
        {
         "name": "datetime",
         "rawType": "datetime64[ns]",
         "type": "datetime"
        },
        {
         "name": "python_version",
         "rawType": "object",
         "type": "string"
        },
        {
         "name": "skforecast_version",
         "rawType": "object",
         "type": "string"
        },
        {
         "name": "numpy_version",
         "rawType": "object",
         "type": "string"
        },
        {
         "name": "pandas_version",
         "rawType": "object",
         "type": "string"
        },
        {
         "name": "sklearn_version",
         "rawType": "object",
         "type": "string"
        },
        {
         "name": "lightgbm_version",
         "rawType": "object",
         "type": "string"
        },
        {
         "name": "platform",
         "rawType": "object",
         "type": "string"
        },
        {
         "name": "processor",
         "rawType": "object",
         "type": "string"
        },
        {
         "name": "cpu_count",
         "rawType": "int64",
         "type": "integer"
        },
        {
         "name": "memory_gb",
         "rawType": "float64",
         "type": "float"
        }
       ],
       "conversionMethod": "pd.DataFrame",
       "ref": "c1aa81d1-f34e-4fa2-a757-b9a2937d407f",
       "rows": [
        [
         "3",
         "ForecasterAutoregMultiSeries",
         "ForecasterRecursiveMultiSeries__create_train_X_y_series_is_dataframe_no_exog",
         "7b994fdfa33ce4a2084e303d3f49c934",
         "2.0818388721998415",
         "0.08667579200045576",
         "2025-04-22 21:06:57.411280",
         "3.12.9",
         "0.13.0",
         "1.26.4",
         "2.2.3",
         "1.4.2",
         "4.6.0",
         "Linux-6.11.0-21-generic-x86_64-with-glibc2.39",
         "x86_64",
         "8",
         "16.64"
        ],
        [
         "11",
         "ForecasterAutoregMultiSeries",
         "ForecasterRecursiveMultiSeries__create_train_X_y_series_is_dataframe_no_exog",
         "7b994fdfa33ce4a2084e303d3f49c934",
         "1.9722316759999559",
         "0.021857421219835534",
         "2025-04-22 21:16:59.719496",
         "3.12.9",
         "0.13.0",
         "1.26.4",
         "2.2.3",
         "1.4.2",
         "4.6.0",
         "Linux-6.11.0-21-generic-x86_64-with-glibc2.39",
         "x86_64",
         "8",
         "16.64"
        ],
        [
         "19",
         "ForecasterRecursiveMultiSeries",
         "ForecasterRecursiveMultiSeries__create_train_X_y_series_is_dataframe_no_exog",
         "7b994fdfa33ce4a2084e303d3f49c934",
         "1.6003170882000632",
         "0.08097839304216271",
         "2025-04-22 21:23:38.727510",
         "3.12.9",
         "0.14.0",
         "1.26.4",
         "2.2.3",
         "1.4.2",
         "4.6.0",
         "Linux-6.11.0-21-generic-x86_64-with-glibc2.39",
         "x86_64",
         "8",
         "16.64"
        ],
        [
         "39",
         "ForecasterRecursiveMultiSeries",
         "ForecasterRecursiveMultiSeries__create_train_X_y_series_is_dataframe_no_exog",
         "7b994fdfa33ce4a2084e303d3f49c934",
         "1.7866748376000943",
         "0.19624230066273224",
         "2025-04-22 21:30:19.848705",
         "3.12.9",
         "0.14.0",
         "1.26.4",
         "2.2.3",
         "1.4.2",
         "4.6.0",
         "Linux-6.11.0-21-generic-x86_64-with-glibc2.39",
         "x86_64",
         "8",
         "16.64"
        ],
        [
         "51",
         "ForecasterRecursiveMultiSeries",
         "ForecasterRecursiveMultiSeries__create_train_X_y_series_is_dataframe_no_exog",
         "7b994fdfa33ce4a2084e303d3f49c934",
         "1.88840058020005",
         "0.1057559888971241",
         "2025-04-22 21:34:41.475870",
         "3.12.9",
         "0.15.0",
         "1.26.4",
         "2.2.3",
         "1.4.2",
         "4.6.0",
         "Linux-6.11.0-21-generic-x86_64-with-glibc2.39",
         "x86_64",
         "8",
         "16.64"
        ],
        [
         "63",
         "ForecasterRecursiveMultiSeries",
         "ForecasterRecursiveMultiSeries__create_train_X_y_series_is_dataframe_no_exog",
         "7b994fdfa33ce4a2084e303d3f49c934",
         "1.7526817702002517",
         "0.053015083169741205",
         "2025-04-22 21:45:40.484984",
         "3.12.9",
         "0.15.0",
         "2.2.5",
         "2.2.3",
         "1.6.1",
         "4.6.0",
         "Linux-6.11.0-21-generic-x86_64-with-glibc2.39",
         "x86_64",
         "8",
         "16.64"
        ],
        [
         "75",
         "ForecasterRecursiveMultiSeries",
         "ForecasterRecursiveMultiSeries__create_train_X_y_series_is_dataframe_no_exog",
         "7b994fdfa33ce4a2084e303d3f49c934",
         "1.6090840886001387",
         "0.07354460962402724",
         "2025-04-22 21:55:41.098437",
         "3.12.9",
         "0.16.0",
         "2.2.5",
         "2.2.3",
         "1.6.1",
         "4.6.0",
         "Linux-6.11.0-21-generic-x86_64-with-glibc2.39",
         "x86_64",
         "8",
         "16.64"
        ],
        [
         "87",
         "ForecasterRecursiveMultiSeries",
         "ForecasterRecursiveMultiSeries__create_train_X_y_series_is_dataframe_no_exog",
         "7b994fdfa33ce4a2084e303d3f49c934",
         "1.7584317877999638",
         "0.22805738465016787",
         "2025-04-22 22:10:22.654278",
         "3.12.9",
         "0.16.0",
         "1.26.4",
         "2.2.3",
         "1.6.1",
         "4.6.0",
         "Linux-6.11.0-21-generic-x86_64-with-glibc2.39",
         "x86_64",
         "8",
         "16.64"
        ],
        [
         "99",
         "ForecasterAutoregMultiSeries",
         "ForecasterRecursiveMultiSeries__create_train_X_y_series_is_dataframe_no_exog",
         "7b994fdfa33ce4a2084e303d3f49c934",
         "8.187021722400095",
         "0.14938146987864923",
         "2025-04-22 22:18:51.833921",
         "3.12.9",
         "0.12.0",
         "1.26.4",
         "2.2.3",
         "1.4.2",
         "4.6.0",
         "Linux-6.11.0-21-generic-x86_64-with-glibc2.39",
         "x86_64",
         "8",
         "16.64"
        ],
        [
         "111",
         "ForecasterAutoregMultiSeries",
         "ForecasterRecursiveMultiSeries__create_train_X_y_series_is_dataframe_no_exog",
         "7b994fdfa33ce4a2084e303d3f49c934",
         "12.308321520600112",
         "0.6322437588907851",
         "2025-04-22 22:31:42.914133",
         "3.12.9",
         "0.12.0",
         "1.26.4",
         "2.2.3",
         "1.4.2",
         "4.6.0",
         "Linux-6.11.0-21-generic-x86_64-with-glibc2.39",
         "x86_64",
         "8",
         "16.64"
        ]
       ],
       "shape": {
        "columns": 16,
        "rows": 10
       }
      },
      "text/html": [
       "<div>\n",
       "<style scoped>\n",
       "    .dataframe tbody tr th:only-of-type {\n",
       "        vertical-align: middle;\n",
       "    }\n",
       "\n",
       "    .dataframe tbody tr th {\n",
       "        vertical-align: top;\n",
       "    }\n",
       "\n",
       "    .dataframe thead th {\n",
       "        text-align: right;\n",
       "    }\n",
       "</style>\n",
       "<table border=\"1\" class=\"dataframe\">\n",
       "  <thead>\n",
       "    <tr style=\"text-align: right;\">\n",
       "      <th></th>\n",
       "      <th>forecaster_name</th>\n",
       "      <th>function_name</th>\n",
       "      <th>function_hash</th>\n",
       "      <th>run_time_avg</th>\n",
       "      <th>run_time_std_dev</th>\n",
       "      <th>datetime</th>\n",
       "      <th>python_version</th>\n",
       "      <th>skforecast_version</th>\n",
       "      <th>numpy_version</th>\n",
       "      <th>pandas_version</th>\n",
       "      <th>sklearn_version</th>\n",
       "      <th>lightgbm_version</th>\n",
       "      <th>platform</th>\n",
       "      <th>processor</th>\n",
       "      <th>cpu_count</th>\n",
       "      <th>memory_gb</th>\n",
       "    </tr>\n",
       "  </thead>\n",
       "  <tbody>\n",
       "    <tr>\n",
       "      <th>3</th>\n",
       "      <td>ForecasterAutoregMultiSeries</td>\n",
       "      <td>ForecasterRecursiveMultiSeries__create_train_X...</td>\n",
       "      <td>7b994fdfa33ce4a2084e303d3f49c934</td>\n",
       "      <td>2.081839</td>\n",
       "      <td>0.086676</td>\n",
       "      <td>2025-04-22 21:06:57.411280</td>\n",
       "      <td>3.12.9</td>\n",
       "      <td>0.13.0</td>\n",
       "      <td>1.26.4</td>\n",
       "      <td>2.2.3</td>\n",
       "      <td>1.4.2</td>\n",
       "      <td>4.6.0</td>\n",
       "      <td>Linux-6.11.0-21-generic-x86_64-with-glibc2.39</td>\n",
       "      <td>x86_64</td>\n",
       "      <td>8</td>\n",
       "      <td>16.64</td>\n",
       "    </tr>\n",
       "    <tr>\n",
       "      <th>11</th>\n",
       "      <td>ForecasterAutoregMultiSeries</td>\n",
       "      <td>ForecasterRecursiveMultiSeries__create_train_X...</td>\n",
       "      <td>7b994fdfa33ce4a2084e303d3f49c934</td>\n",
       "      <td>1.972232</td>\n",
       "      <td>0.021857</td>\n",
       "      <td>2025-04-22 21:16:59.719496</td>\n",
       "      <td>3.12.9</td>\n",
       "      <td>0.13.0</td>\n",
       "      <td>1.26.4</td>\n",
       "      <td>2.2.3</td>\n",
       "      <td>1.4.2</td>\n",
       "      <td>4.6.0</td>\n",
       "      <td>Linux-6.11.0-21-generic-x86_64-with-glibc2.39</td>\n",
       "      <td>x86_64</td>\n",
       "      <td>8</td>\n",
       "      <td>16.64</td>\n",
       "    </tr>\n",
       "    <tr>\n",
       "      <th>19</th>\n",
       "      <td>ForecasterRecursiveMultiSeries</td>\n",
       "      <td>ForecasterRecursiveMultiSeries__create_train_X...</td>\n",
       "      <td>7b994fdfa33ce4a2084e303d3f49c934</td>\n",
       "      <td>1.600317</td>\n",
       "      <td>0.080978</td>\n",
       "      <td>2025-04-22 21:23:38.727510</td>\n",
       "      <td>3.12.9</td>\n",
       "      <td>0.14.0</td>\n",
       "      <td>1.26.4</td>\n",
       "      <td>2.2.3</td>\n",
       "      <td>1.4.2</td>\n",
       "      <td>4.6.0</td>\n",
       "      <td>Linux-6.11.0-21-generic-x86_64-with-glibc2.39</td>\n",
       "      <td>x86_64</td>\n",
       "      <td>8</td>\n",
       "      <td>16.64</td>\n",
       "    </tr>\n",
       "    <tr>\n",
       "      <th>39</th>\n",
       "      <td>ForecasterRecursiveMultiSeries</td>\n",
       "      <td>ForecasterRecursiveMultiSeries__create_train_X...</td>\n",
       "      <td>7b994fdfa33ce4a2084e303d3f49c934</td>\n",
       "      <td>1.786675</td>\n",
       "      <td>0.196242</td>\n",
       "      <td>2025-04-22 21:30:19.848705</td>\n",
       "      <td>3.12.9</td>\n",
       "      <td>0.14.0</td>\n",
       "      <td>1.26.4</td>\n",
       "      <td>2.2.3</td>\n",
       "      <td>1.4.2</td>\n",
       "      <td>4.6.0</td>\n",
       "      <td>Linux-6.11.0-21-generic-x86_64-with-glibc2.39</td>\n",
       "      <td>x86_64</td>\n",
       "      <td>8</td>\n",
       "      <td>16.64</td>\n",
       "    </tr>\n",
       "    <tr>\n",
       "      <th>51</th>\n",
       "      <td>ForecasterRecursiveMultiSeries</td>\n",
       "      <td>ForecasterRecursiveMultiSeries__create_train_X...</td>\n",
       "      <td>7b994fdfa33ce4a2084e303d3f49c934</td>\n",
       "      <td>1.888401</td>\n",
       "      <td>0.105756</td>\n",
       "      <td>2025-04-22 21:34:41.475870</td>\n",
       "      <td>3.12.9</td>\n",
       "      <td>0.15.0</td>\n",
       "      <td>1.26.4</td>\n",
       "      <td>2.2.3</td>\n",
       "      <td>1.4.2</td>\n",
       "      <td>4.6.0</td>\n",
       "      <td>Linux-6.11.0-21-generic-x86_64-with-glibc2.39</td>\n",
       "      <td>x86_64</td>\n",
       "      <td>8</td>\n",
       "      <td>16.64</td>\n",
       "    </tr>\n",
       "    <tr>\n",
       "      <th>63</th>\n",
       "      <td>ForecasterRecursiveMultiSeries</td>\n",
       "      <td>ForecasterRecursiveMultiSeries__create_train_X...</td>\n",
       "      <td>7b994fdfa33ce4a2084e303d3f49c934</td>\n",
       "      <td>1.752682</td>\n",
       "      <td>0.053015</td>\n",
       "      <td>2025-04-22 21:45:40.484984</td>\n",
       "      <td>3.12.9</td>\n",
       "      <td>0.15.0</td>\n",
       "      <td>2.2.5</td>\n",
       "      <td>2.2.3</td>\n",
       "      <td>1.6.1</td>\n",
       "      <td>4.6.0</td>\n",
       "      <td>Linux-6.11.0-21-generic-x86_64-with-glibc2.39</td>\n",
       "      <td>x86_64</td>\n",
       "      <td>8</td>\n",
       "      <td>16.64</td>\n",
       "    </tr>\n",
       "    <tr>\n",
       "      <th>75</th>\n",
       "      <td>ForecasterRecursiveMultiSeries</td>\n",
       "      <td>ForecasterRecursiveMultiSeries__create_train_X...</td>\n",
       "      <td>7b994fdfa33ce4a2084e303d3f49c934</td>\n",
       "      <td>1.609084</td>\n",
       "      <td>0.073545</td>\n",
       "      <td>2025-04-22 21:55:41.098437</td>\n",
       "      <td>3.12.9</td>\n",
       "      <td>0.16.0</td>\n",
       "      <td>2.2.5</td>\n",
       "      <td>2.2.3</td>\n",
       "      <td>1.6.1</td>\n",
       "      <td>4.6.0</td>\n",
       "      <td>Linux-6.11.0-21-generic-x86_64-with-glibc2.39</td>\n",
       "      <td>x86_64</td>\n",
       "      <td>8</td>\n",
       "      <td>16.64</td>\n",
       "    </tr>\n",
       "    <tr>\n",
       "      <th>87</th>\n",
       "      <td>ForecasterRecursiveMultiSeries</td>\n",
       "      <td>ForecasterRecursiveMultiSeries__create_train_X...</td>\n",
       "      <td>7b994fdfa33ce4a2084e303d3f49c934</td>\n",
       "      <td>1.758432</td>\n",
       "      <td>0.228057</td>\n",
       "      <td>2025-04-22 22:10:22.654278</td>\n",
       "      <td>3.12.9</td>\n",
       "      <td>0.16.0</td>\n",
       "      <td>1.26.4</td>\n",
       "      <td>2.2.3</td>\n",
       "      <td>1.6.1</td>\n",
       "      <td>4.6.0</td>\n",
       "      <td>Linux-6.11.0-21-generic-x86_64-with-glibc2.39</td>\n",
       "      <td>x86_64</td>\n",
       "      <td>8</td>\n",
       "      <td>16.64</td>\n",
       "    </tr>\n",
       "    <tr>\n",
       "      <th>99</th>\n",
       "      <td>ForecasterAutoregMultiSeries</td>\n",
       "      <td>ForecasterRecursiveMultiSeries__create_train_X...</td>\n",
       "      <td>7b994fdfa33ce4a2084e303d3f49c934</td>\n",
       "      <td>8.187022</td>\n",
       "      <td>0.149381</td>\n",
       "      <td>2025-04-22 22:18:51.833921</td>\n",
       "      <td>3.12.9</td>\n",
       "      <td>0.12.0</td>\n",
       "      <td>1.26.4</td>\n",
       "      <td>2.2.3</td>\n",
       "      <td>1.4.2</td>\n",
       "      <td>4.6.0</td>\n",
       "      <td>Linux-6.11.0-21-generic-x86_64-with-glibc2.39</td>\n",
       "      <td>x86_64</td>\n",
       "      <td>8</td>\n",
       "      <td>16.64</td>\n",
       "    </tr>\n",
       "    <tr>\n",
       "      <th>111</th>\n",
       "      <td>ForecasterAutoregMultiSeries</td>\n",
       "      <td>ForecasterRecursiveMultiSeries__create_train_X...</td>\n",
       "      <td>7b994fdfa33ce4a2084e303d3f49c934</td>\n",
       "      <td>12.308322</td>\n",
       "      <td>0.632244</td>\n",
       "      <td>2025-04-22 22:31:42.914133</td>\n",
       "      <td>3.12.9</td>\n",
       "      <td>0.12.0</td>\n",
       "      <td>1.26.4</td>\n",
       "      <td>2.2.3</td>\n",
       "      <td>1.4.2</td>\n",
       "      <td>4.6.0</td>\n",
       "      <td>Linux-6.11.0-21-generic-x86_64-with-glibc2.39</td>\n",
       "      <td>x86_64</td>\n",
       "      <td>8</td>\n",
       "      <td>16.64</td>\n",
       "    </tr>\n",
       "  </tbody>\n",
       "</table>\n",
       "</div>"
      ],
      "text/plain": [
       "                    forecaster_name  \\\n",
       "3      ForecasterAutoregMultiSeries   \n",
       "11     ForecasterAutoregMultiSeries   \n",
       "19   ForecasterRecursiveMultiSeries   \n",
       "39   ForecasterRecursiveMultiSeries   \n",
       "51   ForecasterRecursiveMultiSeries   \n",
       "63   ForecasterRecursiveMultiSeries   \n",
       "75   ForecasterRecursiveMultiSeries   \n",
       "87   ForecasterRecursiveMultiSeries   \n",
       "99     ForecasterAutoregMultiSeries   \n",
       "111    ForecasterAutoregMultiSeries   \n",
       "\n",
       "                                         function_name  \\\n",
       "3    ForecasterRecursiveMultiSeries__create_train_X...   \n",
       "11   ForecasterRecursiveMultiSeries__create_train_X...   \n",
       "19   ForecasterRecursiveMultiSeries__create_train_X...   \n",
       "39   ForecasterRecursiveMultiSeries__create_train_X...   \n",
       "51   ForecasterRecursiveMultiSeries__create_train_X...   \n",
       "63   ForecasterRecursiveMultiSeries__create_train_X...   \n",
       "75   ForecasterRecursiveMultiSeries__create_train_X...   \n",
       "87   ForecasterRecursiveMultiSeries__create_train_X...   \n",
       "99   ForecasterRecursiveMultiSeries__create_train_X...   \n",
       "111  ForecasterRecursiveMultiSeries__create_train_X...   \n",
       "\n",
       "                        function_hash  run_time_avg  run_time_std_dev  \\\n",
       "3    7b994fdfa33ce4a2084e303d3f49c934      2.081839          0.086676   \n",
       "11   7b994fdfa33ce4a2084e303d3f49c934      1.972232          0.021857   \n",
       "19   7b994fdfa33ce4a2084e303d3f49c934      1.600317          0.080978   \n",
       "39   7b994fdfa33ce4a2084e303d3f49c934      1.786675          0.196242   \n",
       "51   7b994fdfa33ce4a2084e303d3f49c934      1.888401          0.105756   \n",
       "63   7b994fdfa33ce4a2084e303d3f49c934      1.752682          0.053015   \n",
       "75   7b994fdfa33ce4a2084e303d3f49c934      1.609084          0.073545   \n",
       "87   7b994fdfa33ce4a2084e303d3f49c934      1.758432          0.228057   \n",
       "99   7b994fdfa33ce4a2084e303d3f49c934      8.187022          0.149381   \n",
       "111  7b994fdfa33ce4a2084e303d3f49c934     12.308322          0.632244   \n",
       "\n",
       "                      datetime python_version skforecast_version  \\\n",
       "3   2025-04-22 21:06:57.411280         3.12.9             0.13.0   \n",
       "11  2025-04-22 21:16:59.719496         3.12.9             0.13.0   \n",
       "19  2025-04-22 21:23:38.727510         3.12.9             0.14.0   \n",
       "39  2025-04-22 21:30:19.848705         3.12.9             0.14.0   \n",
       "51  2025-04-22 21:34:41.475870         3.12.9             0.15.0   \n",
       "63  2025-04-22 21:45:40.484984         3.12.9             0.15.0   \n",
       "75  2025-04-22 21:55:41.098437         3.12.9             0.16.0   \n",
       "87  2025-04-22 22:10:22.654278         3.12.9             0.16.0   \n",
       "99  2025-04-22 22:18:51.833921         3.12.9             0.12.0   \n",
       "111 2025-04-22 22:31:42.914133         3.12.9             0.12.0   \n",
       "\n",
       "    numpy_version pandas_version sklearn_version lightgbm_version  \\\n",
       "3          1.26.4          2.2.3           1.4.2            4.6.0   \n",
       "11         1.26.4          2.2.3           1.4.2            4.6.0   \n",
       "19         1.26.4          2.2.3           1.4.2            4.6.0   \n",
       "39         1.26.4          2.2.3           1.4.2            4.6.0   \n",
       "51         1.26.4          2.2.3           1.4.2            4.6.0   \n",
       "63          2.2.5          2.2.3           1.6.1            4.6.0   \n",
       "75          2.2.5          2.2.3           1.6.1            4.6.0   \n",
       "87         1.26.4          2.2.3           1.6.1            4.6.0   \n",
       "99         1.26.4          2.2.3           1.4.2            4.6.0   \n",
       "111        1.26.4          2.2.3           1.4.2            4.6.0   \n",
       "\n",
       "                                          platform processor  cpu_count  \\\n",
       "3    Linux-6.11.0-21-generic-x86_64-with-glibc2.39    x86_64          8   \n",
       "11   Linux-6.11.0-21-generic-x86_64-with-glibc2.39    x86_64          8   \n",
       "19   Linux-6.11.0-21-generic-x86_64-with-glibc2.39    x86_64          8   \n",
       "39   Linux-6.11.0-21-generic-x86_64-with-glibc2.39    x86_64          8   \n",
       "51   Linux-6.11.0-21-generic-x86_64-with-glibc2.39    x86_64          8   \n",
       "63   Linux-6.11.0-21-generic-x86_64-with-glibc2.39    x86_64          8   \n",
       "75   Linux-6.11.0-21-generic-x86_64-with-glibc2.39    x86_64          8   \n",
       "87   Linux-6.11.0-21-generic-x86_64-with-glibc2.39    x86_64          8   \n",
       "99   Linux-6.11.0-21-generic-x86_64-with-glibc2.39    x86_64          8   \n",
       "111  Linux-6.11.0-21-generic-x86_64-with-glibc2.39    x86_64          8   \n",
       "\n",
       "     memory_gb  \n",
       "3        16.64  \n",
       "11       16.64  \n",
       "19       16.64  \n",
       "39       16.64  \n",
       "51       16.64  \n",
       "63       16.64  \n",
       "75       16.64  \n",
       "87       16.64  \n",
       "99       16.64  \n",
       "111      16.64  "
      ]
     },
     "metadata": {},
     "output_type": "display_data"
    },
    {
     "data": {
      "application/vnd.plotly.v1+json": {
       "config": {
        "plotlyServerURL": "https://plot.ly"
       },
       "data": [
        {
         "alignmentgroup": "True",
         "boxpoints": "all",
         "customdata": [
          [
           "ForecasterAutoregMultiSeries",
           "ForecasterRecursiveMultiSeries__create_train_X_y_series_is_dataframe_no_exog",
           "7b994fdfa33ce4a2084e303d3f49c934",
           0.14938146987864923,
           "2025-04-22T22:18:51.833921",
           "3.12.9",
           "1.26.4",
           "2.2.3",
           "1.4.2",
           "4.6.0",
           "Linux-6.11.0-21-generic-x86_64-with-glibc2.39",
           "x86_64",
           8,
           16.64
          ],
          [
           "ForecasterAutoregMultiSeries",
           "ForecasterRecursiveMultiSeries__create_train_X_y_series_is_dataframe_no_exog",
           "7b994fdfa33ce4a2084e303d3f49c934",
           0.6322437588907851,
           "2025-04-22T22:31:42.914133",
           "3.12.9",
           "1.26.4",
           "2.2.3",
           "1.4.2",
           "4.6.0",
           "Linux-6.11.0-21-generic-x86_64-with-glibc2.39",
           "x86_64",
           8,
           16.64
          ]
         ],
         "fillcolor": "rgba(255,255,255,0)",
         "hoveron": "points",
         "hovertemplate": "skforecast_version=%{x}<br>run_time_avg=%{y}<br>forecaster_name=%{customdata[0]}<br>function_name=%{customdata[1]}<br>function_hash=%{customdata[2]}<br>run_time_std_dev=%{customdata[3]}<br>datetime=%{customdata[4]}<br>python_version=%{customdata[5]}<br>numpy_version=%{customdata[6]}<br>pandas_version=%{customdata[7]}<br>sklearn_version=%{customdata[8]}<br>lightgbm_version=%{customdata[9]}<br>platform=%{customdata[10]}<br>processor=%{customdata[11]}<br>cpu_count=%{customdata[12]}<br>memory_gb=%{customdata[13]}<extra></extra>",
         "jitter": true,
         "legendgroup": "0.12.0",
         "line": {
          "color": "rgba(255,255,255,0)"
         },
         "marker": {
          "color": "#636efa",
          "opacity": 0.7,
          "size": 10
         },
         "name": "0.12.0",
         "offsetgroup": "0.12.0",
         "orientation": "v",
         "pointpos": 0,
         "showlegend": true,
         "type": "box",
         "x": [
          "0.12.0",
          "0.12.0"
         ],
         "x0": " ",
         "xaxis": "x",
         "y": {
          "bdata": "M7OqT8FfIEDNQn9R3J0oQA==",
          "dtype": "f8"
         },
         "y0": " ",
         "yaxis": "y"
        },
        {
         "alignmentgroup": "True",
         "boxpoints": "all",
         "customdata": [
          [
           "ForecasterAutoregMultiSeries",
           "ForecasterRecursiveMultiSeries__create_train_X_y_series_is_dataframe_no_exog",
           "7b994fdfa33ce4a2084e303d3f49c934",
           0.08667579200045576,
           "2025-04-22T21:06:57.411280",
           "3.12.9",
           "1.26.4",
           "2.2.3",
           "1.4.2",
           "4.6.0",
           "Linux-6.11.0-21-generic-x86_64-with-glibc2.39",
           "x86_64",
           8,
           16.64
          ],
          [
           "ForecasterAutoregMultiSeries",
           "ForecasterRecursiveMultiSeries__create_train_X_y_series_is_dataframe_no_exog",
           "7b994fdfa33ce4a2084e303d3f49c934",
           0.021857421219835534,
           "2025-04-22T21:16:59.719496",
           "3.12.9",
           "1.26.4",
           "2.2.3",
           "1.4.2",
           "4.6.0",
           "Linux-6.11.0-21-generic-x86_64-with-glibc2.39",
           "x86_64",
           8,
           16.64
          ]
         ],
         "fillcolor": "rgba(255,255,255,0)",
         "hoveron": "points",
         "hovertemplate": "skforecast_version=%{x}<br>run_time_avg=%{y}<br>forecaster_name=%{customdata[0]}<br>function_name=%{customdata[1]}<br>function_hash=%{customdata[2]}<br>run_time_std_dev=%{customdata[3]}<br>datetime=%{customdata[4]}<br>python_version=%{customdata[5]}<br>numpy_version=%{customdata[6]}<br>pandas_version=%{customdata[7]}<br>sklearn_version=%{customdata[8]}<br>lightgbm_version=%{customdata[9]}<br>platform=%{customdata[10]}<br>processor=%{customdata[11]}<br>cpu_count=%{customdata[12]}<br>memory_gb=%{customdata[13]}<extra></extra>",
         "jitter": true,
         "legendgroup": "0.13.0",
         "line": {
          "color": "rgba(255,255,255,0)"
         },
         "marker": {
          "color": "#EF553B",
          "opacity": 0.7,
          "size": 10
         },
         "name": "0.13.0",
         "offsetgroup": "0.13.0",
         "orientation": "v",
         "pointpos": 0,
         "showlegend": true,
         "type": "box",
         "x": [
          "0.13.0",
          "0.13.0"
         ],
         "x0": " ",
         "xaxis": "x",
         "y": {
          "bdata": "Zh59I5unAECa4UjNQo7/Pw==",
          "dtype": "f8"
         },
         "y0": " ",
         "yaxis": "y"
        },
        {
         "alignmentgroup": "True",
         "boxpoints": "all",
         "customdata": [
          [
           "ForecasterRecursiveMultiSeries",
           "ForecasterRecursiveMultiSeries__create_train_X_y_series_is_dataframe_no_exog",
           "7b994fdfa33ce4a2084e303d3f49c934",
           0.08097839304216271,
           "2025-04-22T21:23:38.727510",
           "3.12.9",
           "1.26.4",
           "2.2.3",
           "1.4.2",
           "4.6.0",
           "Linux-6.11.0-21-generic-x86_64-with-glibc2.39",
           "x86_64",
           8,
           16.64
          ],
          [
           "ForecasterRecursiveMultiSeries",
           "ForecasterRecursiveMultiSeries__create_train_X_y_series_is_dataframe_no_exog",
           "7b994fdfa33ce4a2084e303d3f49c934",
           0.19624230066273224,
           "2025-04-22T21:30:19.848705",
           "3.12.9",
           "1.26.4",
           "2.2.3",
           "1.4.2",
           "4.6.0",
           "Linux-6.11.0-21-generic-x86_64-with-glibc2.39",
           "x86_64",
           8,
           16.64
          ]
         ],
         "fillcolor": "rgba(255,255,255,0)",
         "hoveron": "points",
         "hovertemplate": "skforecast_version=%{x}<br>run_time_avg=%{y}<br>forecaster_name=%{customdata[0]}<br>function_name=%{customdata[1]}<br>function_hash=%{customdata[2]}<br>run_time_std_dev=%{customdata[3]}<br>datetime=%{customdata[4]}<br>python_version=%{customdata[5]}<br>numpy_version=%{customdata[6]}<br>pandas_version=%{customdata[7]}<br>sklearn_version=%{customdata[8]}<br>lightgbm_version=%{customdata[9]}<br>platform=%{customdata[10]}<br>processor=%{customdata[11]}<br>cpu_count=%{customdata[12]}<br>memory_gb=%{customdata[13]}<extra></extra>",
         "jitter": true,
         "legendgroup": "0.14.0",
         "line": {
          "color": "rgba(255,255,255,0)"
         },
         "marker": {
          "color": "#00cc96",
          "opacity": 0.7,
          "size": 10
         },
         "name": "0.14.0",
         "offsetgroup": "0.14.0",
         "orientation": "v",
         "pointpos": 0,
         "showlegend": true,
         "type": "box",
         "x": [
          "0.14.0",
          "0.14.0"
         ],
         "x0": " ",
         "xaxis": "x",
         "y": {
          "bdata": "mslQF+aa+T+aQcFaOJb8Pw==",
          "dtype": "f8"
         },
         "y0": " ",
         "yaxis": "y"
        },
        {
         "alignmentgroup": "True",
         "boxpoints": "all",
         "customdata": [
          [
           "ForecasterRecursiveMultiSeries",
           "ForecasterRecursiveMultiSeries__create_train_X_y_series_is_dataframe_no_exog",
           "7b994fdfa33ce4a2084e303d3f49c934",
           0.1057559888971241,
           "2025-04-22T21:34:41.475870",
           "3.12.9",
           "1.26.4",
           "2.2.3",
           "1.4.2",
           "4.6.0",
           "Linux-6.11.0-21-generic-x86_64-with-glibc2.39",
           "x86_64",
           8,
           16.64
          ],
          [
           "ForecasterRecursiveMultiSeries",
           "ForecasterRecursiveMultiSeries__create_train_X_y_series_is_dataframe_no_exog",
           "7b994fdfa33ce4a2084e303d3f49c934",
           0.053015083169741205,
           "2025-04-22T21:45:40.484984",
           "3.12.9",
           "2.2.5",
           "2.2.3",
           "1.6.1",
           "4.6.0",
           "Linux-6.11.0-21-generic-x86_64-with-glibc2.39",
           "x86_64",
           8,
           16.64
          ]
         ],
         "fillcolor": "rgba(255,255,255,0)",
         "hoveron": "points",
         "hovertemplate": "skforecast_version=%{x}<br>run_time_avg=%{y}<br>forecaster_name=%{customdata[0]}<br>function_name=%{customdata[1]}<br>function_hash=%{customdata[2]}<br>run_time_std_dev=%{customdata[3]}<br>datetime=%{customdata[4]}<br>python_version=%{customdata[5]}<br>numpy_version=%{customdata[6]}<br>pandas_version=%{customdata[7]}<br>sklearn_version=%{customdata[8]}<br>lightgbm_version=%{customdata[9]}<br>platform=%{customdata[10]}<br>processor=%{customdata[11]}<br>cpu_count=%{customdata[12]}<br>memory_gb=%{customdata[13]}<extra></extra>",
         "jitter": true,
         "legendgroup": "0.15.0",
         "line": {
          "color": "rgba(255,255,255,0)"
         },
         "marker": {
          "color": "#ab63fa",
          "opacity": 0.7,
          "size": 10
         },
         "name": "0.15.0",
         "offsetgroup": "0.15.0",
         "orientation": "v",
         "pointpos": 0,
         "showlegend": true,
         "type": "box",
         "x": [
          "0.15.0",
          "0.15.0"
         ],
         "x0": " ",
         "xaxis": "x",
         "y": {
          "bdata": "Zk7bhuM2/j8z4zQK/Ar8Pw==",
          "dtype": "f8"
         },
         "y0": " ",
         "yaxis": "y"
        },
        {
         "alignmentgroup": "True",
         "boxpoints": "all",
         "customdata": [
          [
           "ForecasterRecursiveMultiSeries",
           "ForecasterRecursiveMultiSeries__create_train_X_y_series_is_dataframe_no_exog",
           "7b994fdfa33ce4a2084e303d3f49c934",
           0.07354460962402724,
           "2025-04-22T21:55:41.098437",
           "3.12.9",
           "2.2.5",
           "2.2.3",
           "1.6.1",
           "4.6.0",
           "Linux-6.11.0-21-generic-x86_64-with-glibc2.39",
           "x86_64",
           8,
           16.64
          ],
          [
           "ForecasterRecursiveMultiSeries",
           "ForecasterRecursiveMultiSeries__create_train_X_y_series_is_dataframe_no_exog",
           "7b994fdfa33ce4a2084e303d3f49c934",
           0.22805738465016787,
           "2025-04-22T22:10:22.654278",
           "3.12.9",
           "1.26.4",
           "2.2.3",
           "1.6.1",
           "4.6.0",
           "Linux-6.11.0-21-generic-x86_64-with-glibc2.39",
           "x86_64",
           8,
           16.64
          ]
         ],
         "fillcolor": "rgba(255,255,255,0)",
         "hoveron": "points",
         "hovertemplate": "skforecast_version=%{x}<br>run_time_avg=%{y}<br>forecaster_name=%{customdata[0]}<br>function_name=%{customdata[1]}<br>function_hash=%{customdata[2]}<br>run_time_std_dev=%{customdata[3]}<br>datetime=%{customdata[4]}<br>python_version=%{customdata[5]}<br>numpy_version=%{customdata[6]}<br>pandas_version=%{customdata[7]}<br>sklearn_version=%{customdata[8]}<br>lightgbm_version=%{customdata[9]}<br>platform=%{customdata[10]}<br>processor=%{customdata[11]}<br>cpu_count=%{customdata[12]}<br>memory_gb=%{customdata[13]}<extra></extra>",
         "jitter": true,
         "legendgroup": "0.16.0",
         "line": {
          "color": "rgba(255,255,255,0)"
         },
         "marker": {
          "color": "#FFA15A",
          "opacity": 0.7,
          "size": 10
         },
         "name": "0.16.0",
         "offsetgroup": "0.16.0",
         "orientation": "v",
         "pointpos": 0,
         "showlegend": true,
         "type": "box",
         "x": [
          "0.16.0",
          "0.16.0"
         ],
         "x0": " ",
         "xaxis": "x",
         "y": {
          "bdata": "M9MQ9c6++T8AkM1eiSL8Pw==",
          "dtype": "f8"
         },
         "y0": " ",
         "yaxis": "y"
        },
        {
         "line": {
          "color": "black",
          "width": 2
         },
         "marker": {
          "size": 8
         },
         "mode": "lines+markers",
         "name": "Median",
         "showlegend": true,
         "type": "scatter",
         "x": [
          "0.12.0",
          "0.13.0",
          "0.14.0",
          "0.15.0",
          "0.16.0"
         ],
         "y": {
          "bdata": "APuU0M5+JECaxxBFXjcAQJoFCTmPGPs/zBiIyO8g/T+aMe8prPD6Pw==",
          "dtype": "f8"
         }
        }
       ],
       "layout": {
        "boxmode": "overlay",
        "legend": {
         "title": {
          "text": "skforecast_version"
         },
         "tracegroupgap": 0
        },
        "margin": {
         "t": 60
        },
        "showlegend": true,
        "template": {
         "data": {
          "bar": [
           {
            "error_x": {
             "color": "#2a3f5f"
            },
            "error_y": {
             "color": "#2a3f5f"
            },
            "marker": {
             "line": {
              "color": "#E5ECF6",
              "width": 0.5
             },
             "pattern": {
              "fillmode": "overlay",
              "size": 10,
              "solidity": 0.2
             }
            },
            "type": "bar"
           }
          ],
          "barpolar": [
           {
            "marker": {
             "line": {
              "color": "#E5ECF6",
              "width": 0.5
             },
             "pattern": {
              "fillmode": "overlay",
              "size": 10,
              "solidity": 0.2
             }
            },
            "type": "barpolar"
           }
          ],
          "carpet": [
           {
            "aaxis": {
             "endlinecolor": "#2a3f5f",
             "gridcolor": "white",
             "linecolor": "white",
             "minorgridcolor": "white",
             "startlinecolor": "#2a3f5f"
            },
            "baxis": {
             "endlinecolor": "#2a3f5f",
             "gridcolor": "white",
             "linecolor": "white",
             "minorgridcolor": "white",
             "startlinecolor": "#2a3f5f"
            },
            "type": "carpet"
           }
          ],
          "choropleth": [
           {
            "colorbar": {
             "outlinewidth": 0,
             "ticks": ""
            },
            "type": "choropleth"
           }
          ],
          "contour": [
           {
            "colorbar": {
             "outlinewidth": 0,
             "ticks": ""
            },
            "colorscale": [
             [
              0,
              "#0d0887"
             ],
             [
              0.1111111111111111,
              "#46039f"
             ],
             [
              0.2222222222222222,
              "#7201a8"
             ],
             [
              0.3333333333333333,
              "#9c179e"
             ],
             [
              0.4444444444444444,
              "#bd3786"
             ],
             [
              0.5555555555555556,
              "#d8576b"
             ],
             [
              0.6666666666666666,
              "#ed7953"
             ],
             [
              0.7777777777777778,
              "#fb9f3a"
             ],
             [
              0.8888888888888888,
              "#fdca26"
             ],
             [
              1,
              "#f0f921"
             ]
            ],
            "type": "contour"
           }
          ],
          "contourcarpet": [
           {
            "colorbar": {
             "outlinewidth": 0,
             "ticks": ""
            },
            "type": "contourcarpet"
           }
          ],
          "heatmap": [
           {
            "colorbar": {
             "outlinewidth": 0,
             "ticks": ""
            },
            "colorscale": [
             [
              0,
              "#0d0887"
             ],
             [
              0.1111111111111111,
              "#46039f"
             ],
             [
              0.2222222222222222,
              "#7201a8"
             ],
             [
              0.3333333333333333,
              "#9c179e"
             ],
             [
              0.4444444444444444,
              "#bd3786"
             ],
             [
              0.5555555555555556,
              "#d8576b"
             ],
             [
              0.6666666666666666,
              "#ed7953"
             ],
             [
              0.7777777777777778,
              "#fb9f3a"
             ],
             [
              0.8888888888888888,
              "#fdca26"
             ],
             [
              1,
              "#f0f921"
             ]
            ],
            "type": "heatmap"
           }
          ],
          "histogram": [
           {
            "marker": {
             "pattern": {
              "fillmode": "overlay",
              "size": 10,
              "solidity": 0.2
             }
            },
            "type": "histogram"
           }
          ],
          "histogram2d": [
           {
            "colorbar": {
             "outlinewidth": 0,
             "ticks": ""
            },
            "colorscale": [
             [
              0,
              "#0d0887"
             ],
             [
              0.1111111111111111,
              "#46039f"
             ],
             [
              0.2222222222222222,
              "#7201a8"
             ],
             [
              0.3333333333333333,
              "#9c179e"
             ],
             [
              0.4444444444444444,
              "#bd3786"
             ],
             [
              0.5555555555555556,
              "#d8576b"
             ],
             [
              0.6666666666666666,
              "#ed7953"
             ],
             [
              0.7777777777777778,
              "#fb9f3a"
             ],
             [
              0.8888888888888888,
              "#fdca26"
             ],
             [
              1,
              "#f0f921"
             ]
            ],
            "type": "histogram2d"
           }
          ],
          "histogram2dcontour": [
           {
            "colorbar": {
             "outlinewidth": 0,
             "ticks": ""
            },
            "colorscale": [
             [
              0,
              "#0d0887"
             ],
             [
              0.1111111111111111,
              "#46039f"
             ],
             [
              0.2222222222222222,
              "#7201a8"
             ],
             [
              0.3333333333333333,
              "#9c179e"
             ],
             [
              0.4444444444444444,
              "#bd3786"
             ],
             [
              0.5555555555555556,
              "#d8576b"
             ],
             [
              0.6666666666666666,
              "#ed7953"
             ],
             [
              0.7777777777777778,
              "#fb9f3a"
             ],
             [
              0.8888888888888888,
              "#fdca26"
             ],
             [
              1,
              "#f0f921"
             ]
            ],
            "type": "histogram2dcontour"
           }
          ],
          "mesh3d": [
           {
            "colorbar": {
             "outlinewidth": 0,
             "ticks": ""
            },
            "type": "mesh3d"
           }
          ],
          "parcoords": [
           {
            "line": {
             "colorbar": {
              "outlinewidth": 0,
              "ticks": ""
             }
            },
            "type": "parcoords"
           }
          ],
          "pie": [
           {
            "automargin": true,
            "type": "pie"
           }
          ],
          "scatter": [
           {
            "fillpattern": {
             "fillmode": "overlay",
             "size": 10,
             "solidity": 0.2
            },
            "type": "scatter"
           }
          ],
          "scatter3d": [
           {
            "line": {
             "colorbar": {
              "outlinewidth": 0,
              "ticks": ""
             }
            },
            "marker": {
             "colorbar": {
              "outlinewidth": 0,
              "ticks": ""
             }
            },
            "type": "scatter3d"
           }
          ],
          "scattercarpet": [
           {
            "marker": {
             "colorbar": {
              "outlinewidth": 0,
              "ticks": ""
             }
            },
            "type": "scattercarpet"
           }
          ],
          "scattergeo": [
           {
            "marker": {
             "colorbar": {
              "outlinewidth": 0,
              "ticks": ""
             }
            },
            "type": "scattergeo"
           }
          ],
          "scattergl": [
           {
            "marker": {
             "colorbar": {
              "outlinewidth": 0,
              "ticks": ""
             }
            },
            "type": "scattergl"
           }
          ],
          "scattermap": [
           {
            "marker": {
             "colorbar": {
              "outlinewidth": 0,
              "ticks": ""
             }
            },
            "type": "scattermap"
           }
          ],
          "scattermapbox": [
           {
            "marker": {
             "colorbar": {
              "outlinewidth": 0,
              "ticks": ""
             }
            },
            "type": "scattermapbox"
           }
          ],
          "scatterpolar": [
           {
            "marker": {
             "colorbar": {
              "outlinewidth": 0,
              "ticks": ""
             }
            },
            "type": "scatterpolar"
           }
          ],
          "scatterpolargl": [
           {
            "marker": {
             "colorbar": {
              "outlinewidth": 0,
              "ticks": ""
             }
            },
            "type": "scatterpolargl"
           }
          ],
          "scatterternary": [
           {
            "marker": {
             "colorbar": {
              "outlinewidth": 0,
              "ticks": ""
             }
            },
            "type": "scatterternary"
           }
          ],
          "surface": [
           {
            "colorbar": {
             "outlinewidth": 0,
             "ticks": ""
            },
            "colorscale": [
             [
              0,
              "#0d0887"
             ],
             [
              0.1111111111111111,
              "#46039f"
             ],
             [
              0.2222222222222222,
              "#7201a8"
             ],
             [
              0.3333333333333333,
              "#9c179e"
             ],
             [
              0.4444444444444444,
              "#bd3786"
             ],
             [
              0.5555555555555556,
              "#d8576b"
             ],
             [
              0.6666666666666666,
              "#ed7953"
             ],
             [
              0.7777777777777778,
              "#fb9f3a"
             ],
             [
              0.8888888888888888,
              "#fdca26"
             ],
             [
              1,
              "#f0f921"
             ]
            ],
            "type": "surface"
           }
          ],
          "table": [
           {
            "cells": {
             "fill": {
              "color": "#EBF0F8"
             },
             "line": {
              "color": "white"
             }
            },
            "header": {
             "fill": {
              "color": "#C8D4E3"
             },
             "line": {
              "color": "white"
             }
            },
            "type": "table"
           }
          ]
         },
         "layout": {
          "annotationdefaults": {
           "arrowcolor": "#2a3f5f",
           "arrowhead": 0,
           "arrowwidth": 1
          },
          "autotypenumbers": "strict",
          "coloraxis": {
           "colorbar": {
            "outlinewidth": 0,
            "ticks": ""
           }
          },
          "colorscale": {
           "diverging": [
            [
             0,
             "#8e0152"
            ],
            [
             0.1,
             "#c51b7d"
            ],
            [
             0.2,
             "#de77ae"
            ],
            [
             0.3,
             "#f1b6da"
            ],
            [
             0.4,
             "#fde0ef"
            ],
            [
             0.5,
             "#f7f7f7"
            ],
            [
             0.6,
             "#e6f5d0"
            ],
            [
             0.7,
             "#b8e186"
            ],
            [
             0.8,
             "#7fbc41"
            ],
            [
             0.9,
             "#4d9221"
            ],
            [
             1,
             "#276419"
            ]
           ],
           "sequential": [
            [
             0,
             "#0d0887"
            ],
            [
             0.1111111111111111,
             "#46039f"
            ],
            [
             0.2222222222222222,
             "#7201a8"
            ],
            [
             0.3333333333333333,
             "#9c179e"
            ],
            [
             0.4444444444444444,
             "#bd3786"
            ],
            [
             0.5555555555555556,
             "#d8576b"
            ],
            [
             0.6666666666666666,
             "#ed7953"
            ],
            [
             0.7777777777777778,
             "#fb9f3a"
            ],
            [
             0.8888888888888888,
             "#fdca26"
            ],
            [
             1,
             "#f0f921"
            ]
           ],
           "sequentialminus": [
            [
             0,
             "#0d0887"
            ],
            [
             0.1111111111111111,
             "#46039f"
            ],
            [
             0.2222222222222222,
             "#7201a8"
            ],
            [
             0.3333333333333333,
             "#9c179e"
            ],
            [
             0.4444444444444444,
             "#bd3786"
            ],
            [
             0.5555555555555556,
             "#d8576b"
            ],
            [
             0.6666666666666666,
             "#ed7953"
            ],
            [
             0.7777777777777778,
             "#fb9f3a"
            ],
            [
             0.8888888888888888,
             "#fdca26"
            ],
            [
             1,
             "#f0f921"
            ]
           ]
          },
          "colorway": [
           "#636efa",
           "#EF553B",
           "#00cc96",
           "#ab63fa",
           "#FFA15A",
           "#19d3f3",
           "#FF6692",
           "#B6E880",
           "#FF97FF",
           "#FECB52"
          ],
          "font": {
           "color": "#2a3f5f"
          },
          "geo": {
           "bgcolor": "white",
           "lakecolor": "white",
           "landcolor": "#E5ECF6",
           "showlakes": true,
           "showland": true,
           "subunitcolor": "white"
          },
          "hoverlabel": {
           "align": "left"
          },
          "hovermode": "closest",
          "mapbox": {
           "style": "light"
          },
          "paper_bgcolor": "white",
          "plot_bgcolor": "#E5ECF6",
          "polar": {
           "angularaxis": {
            "gridcolor": "white",
            "linecolor": "white",
            "ticks": ""
           },
           "bgcolor": "#E5ECF6",
           "radialaxis": {
            "gridcolor": "white",
            "linecolor": "white",
            "ticks": ""
           }
          },
          "scene": {
           "xaxis": {
            "backgroundcolor": "#E5ECF6",
            "gridcolor": "white",
            "gridwidth": 2,
            "linecolor": "white",
            "showbackground": true,
            "ticks": "",
            "zerolinecolor": "white"
           },
           "yaxis": {
            "backgroundcolor": "#E5ECF6",
            "gridcolor": "white",
            "gridwidth": 2,
            "linecolor": "white",
            "showbackground": true,
            "ticks": "",
            "zerolinecolor": "white"
           },
           "zaxis": {
            "backgroundcolor": "#E5ECF6",
            "gridcolor": "white",
            "gridwidth": 2,
            "linecolor": "white",
            "showbackground": true,
            "ticks": "",
            "zerolinecolor": "white"
           }
          },
          "shapedefaults": {
           "line": {
            "color": "#2a3f5f"
           }
          },
          "ternary": {
           "aaxis": {
            "gridcolor": "white",
            "linecolor": "white",
            "ticks": ""
           },
           "baxis": {
            "gridcolor": "white",
            "linecolor": "white",
            "ticks": ""
           },
           "bgcolor": "#E5ECF6",
           "caxis": {
            "gridcolor": "white",
            "linecolor": "white",
            "ticks": ""
           }
          },
          "title": {
           "x": 0.05
          },
          "xaxis": {
           "automargin": true,
           "gridcolor": "white",
           "linecolor": "white",
           "ticks": "",
           "title": {
            "standoff": 15
           },
           "zerolinecolor": "white",
           "zerolinewidth": 2
          },
          "yaxis": {
           "automargin": true,
           "gridcolor": "white",
           "linecolor": "white",
           "ticks": "",
           "title": {
            "standoff": 15
           },
           "zerolinecolor": "white",
           "zerolinewidth": 2
          }
         }
        },
        "title": {
         "text": "Execution time of ForecasterRecursiveMultiSeries__create_train_X_y_series_is_dataframe_no_exog"
        },
        "xaxis": {
         "anchor": "y",
         "categoryarray": [
          "0.12.0",
          "0.13.0",
          "0.14.0",
          "0.15.0",
          "0.16.0"
         ],
         "categoryorder": "array",
         "domain": [
          0,
          1
         ],
         "title": {
          "text": "skforecast version"
         }
        },
        "yaxis": {
         "anchor": "x",
         "domain": [
          0,
          1
         ],
         "title": {
          "text": "Execution time (seconds)"
         }
        }
       }
      }
     },
     "metadata": {},
     "output_type": "display_data"
    },
    {
     "data": {
      "application/vnd.microsoft.datawrangler.viewer.v0+json": {
       "columns": [
        {
         "name": "index",
         "rawType": "int64",
         "type": "integer"
        },
        {
         "name": "forecaster_name",
         "rawType": "object",
         "type": "string"
        },
        {
         "name": "function_name",
         "rawType": "object",
         "type": "string"
        },
        {
         "name": "function_hash",
         "rawType": "object",
         "type": "string"
        },
        {
         "name": "run_time_avg",
         "rawType": "float64",
         "type": "float"
        },
        {
         "name": "run_time_std_dev",
         "rawType": "float64",
         "type": "float"
        },
        {
         "name": "datetime",
         "rawType": "datetime64[ns]",
         "type": "datetime"
        },
        {
         "name": "python_version",
         "rawType": "object",
         "type": "string"
        },
        {
         "name": "skforecast_version",
         "rawType": "object",
         "type": "string"
        },
        {
         "name": "numpy_version",
         "rawType": "object",
         "type": "string"
        },
        {
         "name": "pandas_version",
         "rawType": "object",
         "type": "string"
        },
        {
         "name": "sklearn_version",
         "rawType": "object",
         "type": "string"
        },
        {
         "name": "lightgbm_version",
         "rawType": "object",
         "type": "string"
        },
        {
         "name": "platform",
         "rawType": "object",
         "type": "string"
        },
        {
         "name": "processor",
         "rawType": "object",
         "type": "string"
        },
        {
         "name": "cpu_count",
         "rawType": "int64",
         "type": "integer"
        },
        {
         "name": "memory_gb",
         "rawType": "float64",
         "type": "float"
        }
       ],
       "conversionMethod": "pd.DataFrame",
       "ref": "13d4abb0-a21b-4a22-a8fc-a869232d618c",
       "rows": [
        [
         "4",
         "ForecasterAutoregMultiSeries",
         "ForecasterRecursiveMultiSeries__create_train_X_y_single_series",
         "ea2ceb1c912245376ba4cea7595175be",
         "0.002274112199938827",
         "0.00034947187789079306",
         "2025-04-22 21:07:20.374465",
         "3.12.9",
         "0.13.0",
         "1.26.4",
         "2.2.3",
         "1.4.2",
         "4.6.0",
         "Linux-6.11.0-21-generic-x86_64-with-glibc2.39",
         "x86_64",
         "8",
         "16.64"
        ],
        [
         "12",
         "ForecasterAutoregMultiSeries",
         "ForecasterRecursiveMultiSeries__create_train_X_y_single_series",
         "ea2ceb1c912245376ba4cea7595175be",
         "0.0017024060000039754",
         "0.000231237973811772",
         "2025-04-22 21:17:21.574102",
         "3.12.9",
         "0.13.0",
         "1.26.4",
         "2.2.3",
         "1.4.2",
         "4.6.0",
         "Linux-6.11.0-21-generic-x86_64-with-glibc2.39",
         "x86_64",
         "8",
         "16.64"
        ],
        [
         "20",
         "ForecasterRecursiveMultiSeries",
         "ForecasterRecursiveMultiSeries__create_train_X_y_single_series",
         "ea2ceb1c912245376ba4cea7595175be",
         "0.001374237799882394",
         "0.00014991595462467174",
         "2025-04-22 21:23:59.663629",
         "3.12.9",
         "0.14.0",
         "1.26.4",
         "2.2.3",
         "1.4.2",
         "4.6.0",
         "Linux-6.11.0-21-generic-x86_64-with-glibc2.39",
         "x86_64",
         "8",
         "16.64"
        ],
        [
         "40",
         "ForecasterRecursiveMultiSeries",
         "ForecasterRecursiveMultiSeries__create_train_X_y_single_series",
         "ea2ceb1c912245376ba4cea7595175be",
         "0.0015734201999293874",
         "0.00040456115629917364",
         "2025-04-22 21:30:43.778419",
         "3.12.9",
         "0.14.0",
         "1.26.4",
         "2.2.3",
         "1.4.2",
         "4.6.0",
         "Linux-6.11.0-21-generic-x86_64-with-glibc2.39",
         "x86_64",
         "8",
         "16.64"
        ],
        [
         "52",
         "ForecasterRecursiveMultiSeries",
         "ForecasterRecursiveMultiSeries__create_train_X_y_single_series",
         "ea2ceb1c912245376ba4cea7595175be",
         "0.0027087475998996526",
         "0.0004073836969268155",
         "2025-04-22 21:35:09.717123",
         "3.12.9",
         "0.15.0",
         "1.26.4",
         "2.2.3",
         "1.4.2",
         "4.6.0",
         "Linux-6.11.0-21-generic-x86_64-with-glibc2.39",
         "x86_64",
         "8",
         "16.64"
        ],
        [
         "64",
         "ForecasterRecursiveMultiSeries",
         "ForecasterRecursiveMultiSeries__create_train_X_y_single_series",
         "ea2ceb1c912245376ba4cea7595175be",
         "0.0016526009998415248",
         "0.00024753725052533776",
         "2025-04-22 21:46:06.719447",
         "3.12.9",
         "0.15.0",
         "2.2.5",
         "2.2.3",
         "1.6.1",
         "4.6.0",
         "Linux-6.11.0-21-generic-x86_64-with-glibc2.39",
         "x86_64",
         "8",
         "16.64"
        ],
        [
         "76",
         "ForecasterRecursiveMultiSeries",
         "ForecasterRecursiveMultiSeries__create_train_X_y_single_series",
         "ea2ceb1c912245376ba4cea7595175be",
         "0.00175332939998043",
         "0.00036681044952331947",
         "2025-04-22 21:56:06.626060",
         "3.12.9",
         "0.16.0",
         "2.2.5",
         "2.2.3",
         "1.6.1",
         "4.6.0",
         "Linux-6.11.0-21-generic-x86_64-with-glibc2.39",
         "x86_64",
         "8",
         "16.64"
        ],
        [
         "88",
         "ForecasterRecursiveMultiSeries",
         "ForecasterRecursiveMultiSeries__create_train_X_y_single_series",
         "ea2ceb1c912245376ba4cea7595175be",
         "0.0022119269999166134",
         "0.000880971091061238",
         "2025-04-22 22:10:48.384325",
         "3.12.9",
         "0.16.0",
         "1.26.4",
         "2.2.3",
         "1.6.1",
         "4.6.0",
         "Linux-6.11.0-21-generic-x86_64-with-glibc2.39",
         "x86_64",
         "8",
         "16.64"
        ],
        [
         "100",
         "ForecasterAutoregMultiSeries",
         "ForecasterRecursiveMultiSeries__create_train_X_y_single_series",
         "ea2ceb1c912245376ba4cea7595175be",
         "0.0038699299997460913",
         "0.0008477682975382179",
         "2025-04-22 22:20:03.002982",
         "3.12.9",
         "0.12.0",
         "1.26.4",
         "2.2.3",
         "1.4.2",
         "4.6.0",
         "Linux-6.11.0-21-generic-x86_64-with-glibc2.39",
         "x86_64",
         "8",
         "16.64"
        ],
        [
         "112",
         "ForecasterAutoregMultiSeries",
         "ForecasterRecursiveMultiSeries__create_train_X_y_single_series",
         "ea2ceb1c912245376ba4cea7595175be",
         "0.004169447400272475",
         "0.0013408919305094484",
         "2025-04-22 22:33:21.110357",
         "3.12.9",
         "0.12.0",
         "1.26.4",
         "2.2.3",
         "1.4.2",
         "4.6.0",
         "Linux-6.11.0-21-generic-x86_64-with-glibc2.39",
         "x86_64",
         "8",
         "16.64"
        ]
       ],
       "shape": {
        "columns": 16,
        "rows": 10
       }
      },
      "text/html": [
       "<div>\n",
       "<style scoped>\n",
       "    .dataframe tbody tr th:only-of-type {\n",
       "        vertical-align: middle;\n",
       "    }\n",
       "\n",
       "    .dataframe tbody tr th {\n",
       "        vertical-align: top;\n",
       "    }\n",
       "\n",
       "    .dataframe thead th {\n",
       "        text-align: right;\n",
       "    }\n",
       "</style>\n",
       "<table border=\"1\" class=\"dataframe\">\n",
       "  <thead>\n",
       "    <tr style=\"text-align: right;\">\n",
       "      <th></th>\n",
       "      <th>forecaster_name</th>\n",
       "      <th>function_name</th>\n",
       "      <th>function_hash</th>\n",
       "      <th>run_time_avg</th>\n",
       "      <th>run_time_std_dev</th>\n",
       "      <th>datetime</th>\n",
       "      <th>python_version</th>\n",
       "      <th>skforecast_version</th>\n",
       "      <th>numpy_version</th>\n",
       "      <th>pandas_version</th>\n",
       "      <th>sklearn_version</th>\n",
       "      <th>lightgbm_version</th>\n",
       "      <th>platform</th>\n",
       "      <th>processor</th>\n",
       "      <th>cpu_count</th>\n",
       "      <th>memory_gb</th>\n",
       "    </tr>\n",
       "  </thead>\n",
       "  <tbody>\n",
       "    <tr>\n",
       "      <th>4</th>\n",
       "      <td>ForecasterAutoregMultiSeries</td>\n",
       "      <td>ForecasterRecursiveMultiSeries__create_train_X...</td>\n",
       "      <td>ea2ceb1c912245376ba4cea7595175be</td>\n",
       "      <td>0.002274</td>\n",
       "      <td>0.000349</td>\n",
       "      <td>2025-04-22 21:07:20.374465</td>\n",
       "      <td>3.12.9</td>\n",
       "      <td>0.13.0</td>\n",
       "      <td>1.26.4</td>\n",
       "      <td>2.2.3</td>\n",
       "      <td>1.4.2</td>\n",
       "      <td>4.6.0</td>\n",
       "      <td>Linux-6.11.0-21-generic-x86_64-with-glibc2.39</td>\n",
       "      <td>x86_64</td>\n",
       "      <td>8</td>\n",
       "      <td>16.64</td>\n",
       "    </tr>\n",
       "    <tr>\n",
       "      <th>12</th>\n",
       "      <td>ForecasterAutoregMultiSeries</td>\n",
       "      <td>ForecasterRecursiveMultiSeries__create_train_X...</td>\n",
       "      <td>ea2ceb1c912245376ba4cea7595175be</td>\n",
       "      <td>0.001702</td>\n",
       "      <td>0.000231</td>\n",
       "      <td>2025-04-22 21:17:21.574102</td>\n",
       "      <td>3.12.9</td>\n",
       "      <td>0.13.0</td>\n",
       "      <td>1.26.4</td>\n",
       "      <td>2.2.3</td>\n",
       "      <td>1.4.2</td>\n",
       "      <td>4.6.0</td>\n",
       "      <td>Linux-6.11.0-21-generic-x86_64-with-glibc2.39</td>\n",
       "      <td>x86_64</td>\n",
       "      <td>8</td>\n",
       "      <td>16.64</td>\n",
       "    </tr>\n",
       "    <tr>\n",
       "      <th>20</th>\n",
       "      <td>ForecasterRecursiveMultiSeries</td>\n",
       "      <td>ForecasterRecursiveMultiSeries__create_train_X...</td>\n",
       "      <td>ea2ceb1c912245376ba4cea7595175be</td>\n",
       "      <td>0.001374</td>\n",
       "      <td>0.000150</td>\n",
       "      <td>2025-04-22 21:23:59.663629</td>\n",
       "      <td>3.12.9</td>\n",
       "      <td>0.14.0</td>\n",
       "      <td>1.26.4</td>\n",
       "      <td>2.2.3</td>\n",
       "      <td>1.4.2</td>\n",
       "      <td>4.6.0</td>\n",
       "      <td>Linux-6.11.0-21-generic-x86_64-with-glibc2.39</td>\n",
       "      <td>x86_64</td>\n",
       "      <td>8</td>\n",
       "      <td>16.64</td>\n",
       "    </tr>\n",
       "    <tr>\n",
       "      <th>40</th>\n",
       "      <td>ForecasterRecursiveMultiSeries</td>\n",
       "      <td>ForecasterRecursiveMultiSeries__create_train_X...</td>\n",
       "      <td>ea2ceb1c912245376ba4cea7595175be</td>\n",
       "      <td>0.001573</td>\n",
       "      <td>0.000405</td>\n",
       "      <td>2025-04-22 21:30:43.778419</td>\n",
       "      <td>3.12.9</td>\n",
       "      <td>0.14.0</td>\n",
       "      <td>1.26.4</td>\n",
       "      <td>2.2.3</td>\n",
       "      <td>1.4.2</td>\n",
       "      <td>4.6.0</td>\n",
       "      <td>Linux-6.11.0-21-generic-x86_64-with-glibc2.39</td>\n",
       "      <td>x86_64</td>\n",
       "      <td>8</td>\n",
       "      <td>16.64</td>\n",
       "    </tr>\n",
       "    <tr>\n",
       "      <th>52</th>\n",
       "      <td>ForecasterRecursiveMultiSeries</td>\n",
       "      <td>ForecasterRecursiveMultiSeries__create_train_X...</td>\n",
       "      <td>ea2ceb1c912245376ba4cea7595175be</td>\n",
       "      <td>0.002709</td>\n",
       "      <td>0.000407</td>\n",
       "      <td>2025-04-22 21:35:09.717123</td>\n",
       "      <td>3.12.9</td>\n",
       "      <td>0.15.0</td>\n",
       "      <td>1.26.4</td>\n",
       "      <td>2.2.3</td>\n",
       "      <td>1.4.2</td>\n",
       "      <td>4.6.0</td>\n",
       "      <td>Linux-6.11.0-21-generic-x86_64-with-glibc2.39</td>\n",
       "      <td>x86_64</td>\n",
       "      <td>8</td>\n",
       "      <td>16.64</td>\n",
       "    </tr>\n",
       "    <tr>\n",
       "      <th>64</th>\n",
       "      <td>ForecasterRecursiveMultiSeries</td>\n",
       "      <td>ForecasterRecursiveMultiSeries__create_train_X...</td>\n",
       "      <td>ea2ceb1c912245376ba4cea7595175be</td>\n",
       "      <td>0.001653</td>\n",
       "      <td>0.000248</td>\n",
       "      <td>2025-04-22 21:46:06.719447</td>\n",
       "      <td>3.12.9</td>\n",
       "      <td>0.15.0</td>\n",
       "      <td>2.2.5</td>\n",
       "      <td>2.2.3</td>\n",
       "      <td>1.6.1</td>\n",
       "      <td>4.6.0</td>\n",
       "      <td>Linux-6.11.0-21-generic-x86_64-with-glibc2.39</td>\n",
       "      <td>x86_64</td>\n",
       "      <td>8</td>\n",
       "      <td>16.64</td>\n",
       "    </tr>\n",
       "    <tr>\n",
       "      <th>76</th>\n",
       "      <td>ForecasterRecursiveMultiSeries</td>\n",
       "      <td>ForecasterRecursiveMultiSeries__create_train_X...</td>\n",
       "      <td>ea2ceb1c912245376ba4cea7595175be</td>\n",
       "      <td>0.001753</td>\n",
       "      <td>0.000367</td>\n",
       "      <td>2025-04-22 21:56:06.626060</td>\n",
       "      <td>3.12.9</td>\n",
       "      <td>0.16.0</td>\n",
       "      <td>2.2.5</td>\n",
       "      <td>2.2.3</td>\n",
       "      <td>1.6.1</td>\n",
       "      <td>4.6.0</td>\n",
       "      <td>Linux-6.11.0-21-generic-x86_64-with-glibc2.39</td>\n",
       "      <td>x86_64</td>\n",
       "      <td>8</td>\n",
       "      <td>16.64</td>\n",
       "    </tr>\n",
       "    <tr>\n",
       "      <th>88</th>\n",
       "      <td>ForecasterRecursiveMultiSeries</td>\n",
       "      <td>ForecasterRecursiveMultiSeries__create_train_X...</td>\n",
       "      <td>ea2ceb1c912245376ba4cea7595175be</td>\n",
       "      <td>0.002212</td>\n",
       "      <td>0.000881</td>\n",
       "      <td>2025-04-22 22:10:48.384325</td>\n",
       "      <td>3.12.9</td>\n",
       "      <td>0.16.0</td>\n",
       "      <td>1.26.4</td>\n",
       "      <td>2.2.3</td>\n",
       "      <td>1.6.1</td>\n",
       "      <td>4.6.0</td>\n",
       "      <td>Linux-6.11.0-21-generic-x86_64-with-glibc2.39</td>\n",
       "      <td>x86_64</td>\n",
       "      <td>8</td>\n",
       "      <td>16.64</td>\n",
       "    </tr>\n",
       "    <tr>\n",
       "      <th>100</th>\n",
       "      <td>ForecasterAutoregMultiSeries</td>\n",
       "      <td>ForecasterRecursiveMultiSeries__create_train_X...</td>\n",
       "      <td>ea2ceb1c912245376ba4cea7595175be</td>\n",
       "      <td>0.003870</td>\n",
       "      <td>0.000848</td>\n",
       "      <td>2025-04-22 22:20:03.002982</td>\n",
       "      <td>3.12.9</td>\n",
       "      <td>0.12.0</td>\n",
       "      <td>1.26.4</td>\n",
       "      <td>2.2.3</td>\n",
       "      <td>1.4.2</td>\n",
       "      <td>4.6.0</td>\n",
       "      <td>Linux-6.11.0-21-generic-x86_64-with-glibc2.39</td>\n",
       "      <td>x86_64</td>\n",
       "      <td>8</td>\n",
       "      <td>16.64</td>\n",
       "    </tr>\n",
       "    <tr>\n",
       "      <th>112</th>\n",
       "      <td>ForecasterAutoregMultiSeries</td>\n",
       "      <td>ForecasterRecursiveMultiSeries__create_train_X...</td>\n",
       "      <td>ea2ceb1c912245376ba4cea7595175be</td>\n",
       "      <td>0.004169</td>\n",
       "      <td>0.001341</td>\n",
       "      <td>2025-04-22 22:33:21.110357</td>\n",
       "      <td>3.12.9</td>\n",
       "      <td>0.12.0</td>\n",
       "      <td>1.26.4</td>\n",
       "      <td>2.2.3</td>\n",
       "      <td>1.4.2</td>\n",
       "      <td>4.6.0</td>\n",
       "      <td>Linux-6.11.0-21-generic-x86_64-with-glibc2.39</td>\n",
       "      <td>x86_64</td>\n",
       "      <td>8</td>\n",
       "      <td>16.64</td>\n",
       "    </tr>\n",
       "  </tbody>\n",
       "</table>\n",
       "</div>"
      ],
      "text/plain": [
       "                    forecaster_name  \\\n",
       "4      ForecasterAutoregMultiSeries   \n",
       "12     ForecasterAutoregMultiSeries   \n",
       "20   ForecasterRecursiveMultiSeries   \n",
       "40   ForecasterRecursiveMultiSeries   \n",
       "52   ForecasterRecursiveMultiSeries   \n",
       "64   ForecasterRecursiveMultiSeries   \n",
       "76   ForecasterRecursiveMultiSeries   \n",
       "88   ForecasterRecursiveMultiSeries   \n",
       "100    ForecasterAutoregMultiSeries   \n",
       "112    ForecasterAutoregMultiSeries   \n",
       "\n",
       "                                         function_name  \\\n",
       "4    ForecasterRecursiveMultiSeries__create_train_X...   \n",
       "12   ForecasterRecursiveMultiSeries__create_train_X...   \n",
       "20   ForecasterRecursiveMultiSeries__create_train_X...   \n",
       "40   ForecasterRecursiveMultiSeries__create_train_X...   \n",
       "52   ForecasterRecursiveMultiSeries__create_train_X...   \n",
       "64   ForecasterRecursiveMultiSeries__create_train_X...   \n",
       "76   ForecasterRecursiveMultiSeries__create_train_X...   \n",
       "88   ForecasterRecursiveMultiSeries__create_train_X...   \n",
       "100  ForecasterRecursiveMultiSeries__create_train_X...   \n",
       "112  ForecasterRecursiveMultiSeries__create_train_X...   \n",
       "\n",
       "                        function_hash  run_time_avg  run_time_std_dev  \\\n",
       "4    ea2ceb1c912245376ba4cea7595175be      0.002274          0.000349   \n",
       "12   ea2ceb1c912245376ba4cea7595175be      0.001702          0.000231   \n",
       "20   ea2ceb1c912245376ba4cea7595175be      0.001374          0.000150   \n",
       "40   ea2ceb1c912245376ba4cea7595175be      0.001573          0.000405   \n",
       "52   ea2ceb1c912245376ba4cea7595175be      0.002709          0.000407   \n",
       "64   ea2ceb1c912245376ba4cea7595175be      0.001653          0.000248   \n",
       "76   ea2ceb1c912245376ba4cea7595175be      0.001753          0.000367   \n",
       "88   ea2ceb1c912245376ba4cea7595175be      0.002212          0.000881   \n",
       "100  ea2ceb1c912245376ba4cea7595175be      0.003870          0.000848   \n",
       "112  ea2ceb1c912245376ba4cea7595175be      0.004169          0.001341   \n",
       "\n",
       "                      datetime python_version skforecast_version  \\\n",
       "4   2025-04-22 21:07:20.374465         3.12.9             0.13.0   \n",
       "12  2025-04-22 21:17:21.574102         3.12.9             0.13.0   \n",
       "20  2025-04-22 21:23:59.663629         3.12.9             0.14.0   \n",
       "40  2025-04-22 21:30:43.778419         3.12.9             0.14.0   \n",
       "52  2025-04-22 21:35:09.717123         3.12.9             0.15.0   \n",
       "64  2025-04-22 21:46:06.719447         3.12.9             0.15.0   \n",
       "76  2025-04-22 21:56:06.626060         3.12.9             0.16.0   \n",
       "88  2025-04-22 22:10:48.384325         3.12.9             0.16.0   \n",
       "100 2025-04-22 22:20:03.002982         3.12.9             0.12.0   \n",
       "112 2025-04-22 22:33:21.110357         3.12.9             0.12.0   \n",
       "\n",
       "    numpy_version pandas_version sklearn_version lightgbm_version  \\\n",
       "4          1.26.4          2.2.3           1.4.2            4.6.0   \n",
       "12         1.26.4          2.2.3           1.4.2            4.6.0   \n",
       "20         1.26.4          2.2.3           1.4.2            4.6.0   \n",
       "40         1.26.4          2.2.3           1.4.2            4.6.0   \n",
       "52         1.26.4          2.2.3           1.4.2            4.6.0   \n",
       "64          2.2.5          2.2.3           1.6.1            4.6.0   \n",
       "76          2.2.5          2.2.3           1.6.1            4.6.0   \n",
       "88         1.26.4          2.2.3           1.6.1            4.6.0   \n",
       "100        1.26.4          2.2.3           1.4.2            4.6.0   \n",
       "112        1.26.4          2.2.3           1.4.2            4.6.0   \n",
       "\n",
       "                                          platform processor  cpu_count  \\\n",
       "4    Linux-6.11.0-21-generic-x86_64-with-glibc2.39    x86_64          8   \n",
       "12   Linux-6.11.0-21-generic-x86_64-with-glibc2.39    x86_64          8   \n",
       "20   Linux-6.11.0-21-generic-x86_64-with-glibc2.39    x86_64          8   \n",
       "40   Linux-6.11.0-21-generic-x86_64-with-glibc2.39    x86_64          8   \n",
       "52   Linux-6.11.0-21-generic-x86_64-with-glibc2.39    x86_64          8   \n",
       "64   Linux-6.11.0-21-generic-x86_64-with-glibc2.39    x86_64          8   \n",
       "76   Linux-6.11.0-21-generic-x86_64-with-glibc2.39    x86_64          8   \n",
       "88   Linux-6.11.0-21-generic-x86_64-with-glibc2.39    x86_64          8   \n",
       "100  Linux-6.11.0-21-generic-x86_64-with-glibc2.39    x86_64          8   \n",
       "112  Linux-6.11.0-21-generic-x86_64-with-glibc2.39    x86_64          8   \n",
       "\n",
       "     memory_gb  \n",
       "4        16.64  \n",
       "12       16.64  \n",
       "20       16.64  \n",
       "40       16.64  \n",
       "52       16.64  \n",
       "64       16.64  \n",
       "76       16.64  \n",
       "88       16.64  \n",
       "100      16.64  \n",
       "112      16.64  "
      ]
     },
     "metadata": {},
     "output_type": "display_data"
    },
    {
     "data": {
      "application/vnd.plotly.v1+json": {
       "config": {
        "plotlyServerURL": "https://plot.ly"
       },
       "data": [
        {
         "alignmentgroup": "True",
         "boxpoints": "all",
         "customdata": [
          [
           "ForecasterAutoregMultiSeries",
           "ForecasterRecursiveMultiSeries__create_train_X_y_single_series",
           "ea2ceb1c912245376ba4cea7595175be",
           0.0008477682975382179,
           "2025-04-22T22:20:03.002982",
           "3.12.9",
           "1.26.4",
           "2.2.3",
           "1.4.2",
           "4.6.0",
           "Linux-6.11.0-21-generic-x86_64-with-glibc2.39",
           "x86_64",
           8,
           16.64
          ],
          [
           "ForecasterAutoregMultiSeries",
           "ForecasterRecursiveMultiSeries__create_train_X_y_single_series",
           "ea2ceb1c912245376ba4cea7595175be",
           0.0013408919305094484,
           "2025-04-22T22:33:21.110357",
           "3.12.9",
           "1.26.4",
           "2.2.3",
           "1.4.2",
           "4.6.0",
           "Linux-6.11.0-21-generic-x86_64-with-glibc2.39",
           "x86_64",
           8,
           16.64
          ]
         ],
         "fillcolor": "rgba(255,255,255,0)",
         "hoveron": "points",
         "hovertemplate": "skforecast_version=%{x}<br>run_time_avg=%{y}<br>forecaster_name=%{customdata[0]}<br>function_name=%{customdata[1]}<br>function_hash=%{customdata[2]}<br>run_time_std_dev=%{customdata[3]}<br>datetime=%{customdata[4]}<br>python_version=%{customdata[5]}<br>numpy_version=%{customdata[6]}<br>pandas_version=%{customdata[7]}<br>sklearn_version=%{customdata[8]}<br>lightgbm_version=%{customdata[9]}<br>platform=%{customdata[10]}<br>processor=%{customdata[11]}<br>cpu_count=%{customdata[12]}<br>memory_gb=%{customdata[13]}<extra></extra>",
         "jitter": true,
         "legendgroup": "0.12.0",
         "line": {
          "color": "rgba(255,255,255,0)"
         },
         "marker": {
          "color": "#636efa",
          "opacity": 0.7,
          "size": 10
         },
         "name": "0.12.0",
         "offsetgroup": "0.12.0",
         "orientation": "v",
         "pointpos": 0,
         "showlegend": true,
         "type": "box",
         "x": [
          "0.12.0",
          "0.12.0"
         ],
         "x0": " ",
         "xaxis": "x",
         "y": {
          "bdata": "zcws2dSzbz8AAKCD+xNxPw==",
          "dtype": "f8"
         },
         "y0": " ",
         "yaxis": "y"
        },
        {
         "alignmentgroup": "True",
         "boxpoints": "all",
         "customdata": [
          [
           "ForecasterAutoregMultiSeries",
           "ForecasterRecursiveMultiSeries__create_train_X_y_single_series",
           "ea2ceb1c912245376ba4cea7595175be",
           0.00034947187789079306,
           "2025-04-22T21:07:20.374465",
           "3.12.9",
           "1.26.4",
           "2.2.3",
           "1.4.2",
           "4.6.0",
           "Linux-6.11.0-21-generic-x86_64-with-glibc2.39",
           "x86_64",
           8,
           16.64
          ],
          [
           "ForecasterAutoregMultiSeries",
           "ForecasterRecursiveMultiSeries__create_train_X_y_single_series",
           "ea2ceb1c912245376ba4cea7595175be",
           0.000231237973811772,
           "2025-04-22T21:17:21.574102",
           "3.12.9",
           "1.26.4",
           "2.2.3",
           "1.4.2",
           "4.6.0",
           "Linux-6.11.0-21-generic-x86_64-with-glibc2.39",
           "x86_64",
           8,
           16.64
          ]
         ],
         "fillcolor": "rgba(255,255,255,0)",
         "hoveron": "points",
         "hovertemplate": "skforecast_version=%{x}<br>run_time_avg=%{y}<br>forecaster_name=%{customdata[0]}<br>function_name=%{customdata[1]}<br>function_hash=%{customdata[2]}<br>run_time_std_dev=%{customdata[3]}<br>datetime=%{customdata[4]}<br>python_version=%{customdata[5]}<br>numpy_version=%{customdata[6]}<br>pandas_version=%{customdata[7]}<br>sklearn_version=%{customdata[8]}<br>lightgbm_version=%{customdata[9]}<br>platform=%{customdata[10]}<br>processor=%{customdata[11]}<br>cpu_count=%{customdata[12]}<br>memory_gb=%{customdata[13]}<extra></extra>",
         "jitter": true,
         "legendgroup": "0.13.0",
         "line": {
          "color": "rgba(255,255,255,0)"
         },
         "marker": {
          "color": "#EF553B",
          "opacity": 0.7,
          "size": 10
         },
         "name": "0.13.0",
         "offsetgroup": "0.13.0",
         "orientation": "v",
         "pointpos": 0,
         "showlegend": true,
         "type": "box",
         "x": [
          "0.13.0",
          "0.13.0"
         ],
         "x0": " ",
         "xaxis": "x",
         "y": {
          "bdata": "ZmbWsCihYj/NzAyGaORbPw==",
          "dtype": "f8"
         },
         "y0": " ",
         "yaxis": "y"
        },
        {
         "alignmentgroup": "True",
         "boxpoints": "all",
         "customdata": [
          [
           "ForecasterRecursiveMultiSeries",
           "ForecasterRecursiveMultiSeries__create_train_X_y_single_series",
           "ea2ceb1c912245376ba4cea7595175be",
           0.00014991595462467174,
           "2025-04-22T21:23:59.663629",
           "3.12.9",
           "1.26.4",
           "2.2.3",
           "1.4.2",
           "4.6.0",
           "Linux-6.11.0-21-generic-x86_64-with-glibc2.39",
           "x86_64",
           8,
           16.64
          ],
          [
           "ForecasterRecursiveMultiSeries",
           "ForecasterRecursiveMultiSeries__create_train_X_y_single_series",
           "ea2ceb1c912245376ba4cea7595175be",
           0.00040456115629917364,
           "2025-04-22T21:30:43.778419",
           "3.12.9",
           "1.26.4",
           "2.2.3",
           "1.4.2",
           "4.6.0",
           "Linux-6.11.0-21-generic-x86_64-with-glibc2.39",
           "x86_64",
           8,
           16.64
          ]
         ],
         "fillcolor": "rgba(255,255,255,0)",
         "hoveron": "points",
         "hovertemplate": "skforecast_version=%{x}<br>run_time_avg=%{y}<br>forecaster_name=%{customdata[0]}<br>function_name=%{customdata[1]}<br>function_hash=%{customdata[2]}<br>run_time_std_dev=%{customdata[3]}<br>datetime=%{customdata[4]}<br>python_version=%{customdata[5]}<br>numpy_version=%{customdata[6]}<br>pandas_version=%{customdata[7]}<br>sklearn_version=%{customdata[8]}<br>lightgbm_version=%{customdata[9]}<br>platform=%{customdata[10]}<br>processor=%{customdata[11]}<br>cpu_count=%{customdata[12]}<br>memory_gb=%{customdata[13]}<extra></extra>",
         "jitter": true,
         "legendgroup": "0.14.0",
         "line": {
          "color": "rgba(255,255,255,0)"
         },
         "marker": {
          "color": "#00cc96",
          "opacity": 0.7,
          "size": 10
         },
         "name": "0.14.0",
         "offsetgroup": "0.14.0",
         "orientation": "v",
         "pointpos": 0,
         "showlegend": true,
         "type": "box",
         "x": [
          "0.14.0",
          "0.14.0"
         ],
         "x0": " ",
         "xaxis": "x",
         "y": {
          "bdata": "MzMTmviDVj/NzEwTZ8dZPw==",
          "dtype": "f8"
         },
         "y0": " ",
         "yaxis": "y"
        },
        {
         "alignmentgroup": "True",
         "boxpoints": "all",
         "customdata": [
          [
           "ForecasterRecursiveMultiSeries",
           "ForecasterRecursiveMultiSeries__create_train_X_y_single_series",
           "ea2ceb1c912245376ba4cea7595175be",
           0.0004073836969268155,
           "2025-04-22T21:35:09.717123",
           "3.12.9",
           "1.26.4",
           "2.2.3",
           "1.4.2",
           "4.6.0",
           "Linux-6.11.0-21-generic-x86_64-with-glibc2.39",
           "x86_64",
           8,
           16.64
          ],
          [
           "ForecasterRecursiveMultiSeries",
           "ForecasterRecursiveMultiSeries__create_train_X_y_single_series",
           "ea2ceb1c912245376ba4cea7595175be",
           0.00024753725052533776,
           "2025-04-22T21:46:06.719447",
           "3.12.9",
           "2.2.5",
           "2.2.3",
           "1.6.1",
           "4.6.0",
           "Linux-6.11.0-21-generic-x86_64-with-glibc2.39",
           "x86_64",
           8,
           16.64
          ]
         ],
         "fillcolor": "rgba(255,255,255,0)",
         "hoveron": "points",
         "hovertemplate": "skforecast_version=%{x}<br>run_time_avg=%{y}<br>forecaster_name=%{customdata[0]}<br>function_name=%{customdata[1]}<br>function_hash=%{customdata[2]}<br>run_time_std_dev=%{customdata[3]}<br>datetime=%{customdata[4]}<br>python_version=%{customdata[5]}<br>numpy_version=%{customdata[6]}<br>pandas_version=%{customdata[7]}<br>sklearn_version=%{customdata[8]}<br>lightgbm_version=%{customdata[9]}<br>platform=%{customdata[10]}<br>processor=%{customdata[11]}<br>cpu_count=%{customdata[12]}<br>memory_gb=%{customdata[13]}<extra></extra>",
         "jitter": true,
         "legendgroup": "0.15.0",
         "line": {
          "color": "rgba(255,255,255,0)"
         },
         "marker": {
          "color": "#ab63fa",
          "opacity": 0.7,
          "size": 10
         },
         "name": "0.15.0",
         "offsetgroup": "0.15.0",
         "orientation": "v",
         "pointpos": 0,
         "showlegend": true,
         "type": "box",
         "x": [
          "0.15.0",
          "0.15.0"
         ],
         "x0": " ",
         "xaxis": "x",
         "y": {
          "bdata": "mplZy6cwZj+amdnPghNbPw==",
          "dtype": "f8"
         },
         "y0": " ",
         "yaxis": "y"
        },
        {
         "alignmentgroup": "True",
         "boxpoints": "all",
         "customdata": [
          [
           "ForecasterRecursiveMultiSeries",
           "ForecasterRecursiveMultiSeries__create_train_X_y_single_series",
           "ea2ceb1c912245376ba4cea7595175be",
           0.00036681044952331947,
           "2025-04-22T21:56:06.626060",
           "3.12.9",
           "2.2.5",
           "2.2.3",
           "1.6.1",
           "4.6.0",
           "Linux-6.11.0-21-generic-x86_64-with-glibc2.39",
           "x86_64",
           8,
           16.64
          ],
          [
           "ForecasterRecursiveMultiSeries",
           "ForecasterRecursiveMultiSeries__create_train_X_y_single_series",
           "ea2ceb1c912245376ba4cea7595175be",
           0.000880971091061238,
           "2025-04-22T22:10:48.384325",
           "3.12.9",
           "1.26.4",
           "2.2.3",
           "1.6.1",
           "4.6.0",
           "Linux-6.11.0-21-generic-x86_64-with-glibc2.39",
           "x86_64",
           8,
           16.64
          ]
         ],
         "fillcolor": "rgba(255,255,255,0)",
         "hoveron": "points",
         "hovertemplate": "skforecast_version=%{x}<br>run_time_avg=%{y}<br>forecaster_name=%{customdata[0]}<br>function_name=%{customdata[1]}<br>function_hash=%{customdata[2]}<br>run_time_std_dev=%{customdata[3]}<br>datetime=%{customdata[4]}<br>python_version=%{customdata[5]}<br>numpy_version=%{customdata[6]}<br>pandas_version=%{customdata[7]}<br>sklearn_version=%{customdata[8]}<br>lightgbm_version=%{customdata[9]}<br>platform=%{customdata[10]}<br>processor=%{customdata[11]}<br>cpu_count=%{customdata[12]}<br>memory_gb=%{customdata[13]}<extra></extra>",
         "jitter": true,
         "legendgroup": "0.16.0",
         "line": {
          "color": "rgba(255,255,255,0)"
         },
         "marker": {
          "color": "#FFA15A",
          "opacity": 0.7,
          "size": 10
         },
         "name": "0.16.0",
         "offsetgroup": "0.16.0",
         "orientation": "v",
         "pointpos": 0,
         "showlegend": true,
         "type": "box",
         "x": [
          "0.16.0",
          "0.16.0"
         ],
         "x0": " ",
         "xaxis": "x",
         "y": {
          "bdata": "ZmamG/+5XD9mZgZEvx5iPw==",
          "dtype": "f8"
         },
         "y0": " ",
         "yaxis": "y"
        },
        {
         "line": {
          "color": "black",
          "width": 2
         },
         "marker": {
          "size": 8
         },
         "mode": "lines+markers",
         "name": "Median",
         "showlegend": true,
         "type": "scatter",
         "x": [
          "0.12.0",
          "0.13.0",
          "0.14.0",
          "0.15.0",
          "0.16.0"
         ],
         "y": {
          "bdata": "MzMb+PJ2cD9mZu55rklgPwAAsNavJVg/NDOjmTTdYT/MzOxo3z1gPw==",
          "dtype": "f8"
         }
        }
       ],
       "layout": {
        "boxmode": "overlay",
        "legend": {
         "title": {
          "text": "skforecast_version"
         },
         "tracegroupgap": 0
        },
        "margin": {
         "t": 60
        },
        "showlegend": true,
        "template": {
         "data": {
          "bar": [
           {
            "error_x": {
             "color": "#2a3f5f"
            },
            "error_y": {
             "color": "#2a3f5f"
            },
            "marker": {
             "line": {
              "color": "#E5ECF6",
              "width": 0.5
             },
             "pattern": {
              "fillmode": "overlay",
              "size": 10,
              "solidity": 0.2
             }
            },
            "type": "bar"
           }
          ],
          "barpolar": [
           {
            "marker": {
             "line": {
              "color": "#E5ECF6",
              "width": 0.5
             },
             "pattern": {
              "fillmode": "overlay",
              "size": 10,
              "solidity": 0.2
             }
            },
            "type": "barpolar"
           }
          ],
          "carpet": [
           {
            "aaxis": {
             "endlinecolor": "#2a3f5f",
             "gridcolor": "white",
             "linecolor": "white",
             "minorgridcolor": "white",
             "startlinecolor": "#2a3f5f"
            },
            "baxis": {
             "endlinecolor": "#2a3f5f",
             "gridcolor": "white",
             "linecolor": "white",
             "minorgridcolor": "white",
             "startlinecolor": "#2a3f5f"
            },
            "type": "carpet"
           }
          ],
          "choropleth": [
           {
            "colorbar": {
             "outlinewidth": 0,
             "ticks": ""
            },
            "type": "choropleth"
           }
          ],
          "contour": [
           {
            "colorbar": {
             "outlinewidth": 0,
             "ticks": ""
            },
            "colorscale": [
             [
              0,
              "#0d0887"
             ],
             [
              0.1111111111111111,
              "#46039f"
             ],
             [
              0.2222222222222222,
              "#7201a8"
             ],
             [
              0.3333333333333333,
              "#9c179e"
             ],
             [
              0.4444444444444444,
              "#bd3786"
             ],
             [
              0.5555555555555556,
              "#d8576b"
             ],
             [
              0.6666666666666666,
              "#ed7953"
             ],
             [
              0.7777777777777778,
              "#fb9f3a"
             ],
             [
              0.8888888888888888,
              "#fdca26"
             ],
             [
              1,
              "#f0f921"
             ]
            ],
            "type": "contour"
           }
          ],
          "contourcarpet": [
           {
            "colorbar": {
             "outlinewidth": 0,
             "ticks": ""
            },
            "type": "contourcarpet"
           }
          ],
          "heatmap": [
           {
            "colorbar": {
             "outlinewidth": 0,
             "ticks": ""
            },
            "colorscale": [
             [
              0,
              "#0d0887"
             ],
             [
              0.1111111111111111,
              "#46039f"
             ],
             [
              0.2222222222222222,
              "#7201a8"
             ],
             [
              0.3333333333333333,
              "#9c179e"
             ],
             [
              0.4444444444444444,
              "#bd3786"
             ],
             [
              0.5555555555555556,
              "#d8576b"
             ],
             [
              0.6666666666666666,
              "#ed7953"
             ],
             [
              0.7777777777777778,
              "#fb9f3a"
             ],
             [
              0.8888888888888888,
              "#fdca26"
             ],
             [
              1,
              "#f0f921"
             ]
            ],
            "type": "heatmap"
           }
          ],
          "histogram": [
           {
            "marker": {
             "pattern": {
              "fillmode": "overlay",
              "size": 10,
              "solidity": 0.2
             }
            },
            "type": "histogram"
           }
          ],
          "histogram2d": [
           {
            "colorbar": {
             "outlinewidth": 0,
             "ticks": ""
            },
            "colorscale": [
             [
              0,
              "#0d0887"
             ],
             [
              0.1111111111111111,
              "#46039f"
             ],
             [
              0.2222222222222222,
              "#7201a8"
             ],
             [
              0.3333333333333333,
              "#9c179e"
             ],
             [
              0.4444444444444444,
              "#bd3786"
             ],
             [
              0.5555555555555556,
              "#d8576b"
             ],
             [
              0.6666666666666666,
              "#ed7953"
             ],
             [
              0.7777777777777778,
              "#fb9f3a"
             ],
             [
              0.8888888888888888,
              "#fdca26"
             ],
             [
              1,
              "#f0f921"
             ]
            ],
            "type": "histogram2d"
           }
          ],
          "histogram2dcontour": [
           {
            "colorbar": {
             "outlinewidth": 0,
             "ticks": ""
            },
            "colorscale": [
             [
              0,
              "#0d0887"
             ],
             [
              0.1111111111111111,
              "#46039f"
             ],
             [
              0.2222222222222222,
              "#7201a8"
             ],
             [
              0.3333333333333333,
              "#9c179e"
             ],
             [
              0.4444444444444444,
              "#bd3786"
             ],
             [
              0.5555555555555556,
              "#d8576b"
             ],
             [
              0.6666666666666666,
              "#ed7953"
             ],
             [
              0.7777777777777778,
              "#fb9f3a"
             ],
             [
              0.8888888888888888,
              "#fdca26"
             ],
             [
              1,
              "#f0f921"
             ]
            ],
            "type": "histogram2dcontour"
           }
          ],
          "mesh3d": [
           {
            "colorbar": {
             "outlinewidth": 0,
             "ticks": ""
            },
            "type": "mesh3d"
           }
          ],
          "parcoords": [
           {
            "line": {
             "colorbar": {
              "outlinewidth": 0,
              "ticks": ""
             }
            },
            "type": "parcoords"
           }
          ],
          "pie": [
           {
            "automargin": true,
            "type": "pie"
           }
          ],
          "scatter": [
           {
            "fillpattern": {
             "fillmode": "overlay",
             "size": 10,
             "solidity": 0.2
            },
            "type": "scatter"
           }
          ],
          "scatter3d": [
           {
            "line": {
             "colorbar": {
              "outlinewidth": 0,
              "ticks": ""
             }
            },
            "marker": {
             "colorbar": {
              "outlinewidth": 0,
              "ticks": ""
             }
            },
            "type": "scatter3d"
           }
          ],
          "scattercarpet": [
           {
            "marker": {
             "colorbar": {
              "outlinewidth": 0,
              "ticks": ""
             }
            },
            "type": "scattercarpet"
           }
          ],
          "scattergeo": [
           {
            "marker": {
             "colorbar": {
              "outlinewidth": 0,
              "ticks": ""
             }
            },
            "type": "scattergeo"
           }
          ],
          "scattergl": [
           {
            "marker": {
             "colorbar": {
              "outlinewidth": 0,
              "ticks": ""
             }
            },
            "type": "scattergl"
           }
          ],
          "scattermap": [
           {
            "marker": {
             "colorbar": {
              "outlinewidth": 0,
              "ticks": ""
             }
            },
            "type": "scattermap"
           }
          ],
          "scattermapbox": [
           {
            "marker": {
             "colorbar": {
              "outlinewidth": 0,
              "ticks": ""
             }
            },
            "type": "scattermapbox"
           }
          ],
          "scatterpolar": [
           {
            "marker": {
             "colorbar": {
              "outlinewidth": 0,
              "ticks": ""
             }
            },
            "type": "scatterpolar"
           }
          ],
          "scatterpolargl": [
           {
            "marker": {
             "colorbar": {
              "outlinewidth": 0,
              "ticks": ""
             }
            },
            "type": "scatterpolargl"
           }
          ],
          "scatterternary": [
           {
            "marker": {
             "colorbar": {
              "outlinewidth": 0,
              "ticks": ""
             }
            },
            "type": "scatterternary"
           }
          ],
          "surface": [
           {
            "colorbar": {
             "outlinewidth": 0,
             "ticks": ""
            },
            "colorscale": [
             [
              0,
              "#0d0887"
             ],
             [
              0.1111111111111111,
              "#46039f"
             ],
             [
              0.2222222222222222,
              "#7201a8"
             ],
             [
              0.3333333333333333,
              "#9c179e"
             ],
             [
              0.4444444444444444,
              "#bd3786"
             ],
             [
              0.5555555555555556,
              "#d8576b"
             ],
             [
              0.6666666666666666,
              "#ed7953"
             ],
             [
              0.7777777777777778,
              "#fb9f3a"
             ],
             [
              0.8888888888888888,
              "#fdca26"
             ],
             [
              1,
              "#f0f921"
             ]
            ],
            "type": "surface"
           }
          ],
          "table": [
           {
            "cells": {
             "fill": {
              "color": "#EBF0F8"
             },
             "line": {
              "color": "white"
             }
            },
            "header": {
             "fill": {
              "color": "#C8D4E3"
             },
             "line": {
              "color": "white"
             }
            },
            "type": "table"
           }
          ]
         },
         "layout": {
          "annotationdefaults": {
           "arrowcolor": "#2a3f5f",
           "arrowhead": 0,
           "arrowwidth": 1
          },
          "autotypenumbers": "strict",
          "coloraxis": {
           "colorbar": {
            "outlinewidth": 0,
            "ticks": ""
           }
          },
          "colorscale": {
           "diverging": [
            [
             0,
             "#8e0152"
            ],
            [
             0.1,
             "#c51b7d"
            ],
            [
             0.2,
             "#de77ae"
            ],
            [
             0.3,
             "#f1b6da"
            ],
            [
             0.4,
             "#fde0ef"
            ],
            [
             0.5,
             "#f7f7f7"
            ],
            [
             0.6,
             "#e6f5d0"
            ],
            [
             0.7,
             "#b8e186"
            ],
            [
             0.8,
             "#7fbc41"
            ],
            [
             0.9,
             "#4d9221"
            ],
            [
             1,
             "#276419"
            ]
           ],
           "sequential": [
            [
             0,
             "#0d0887"
            ],
            [
             0.1111111111111111,
             "#46039f"
            ],
            [
             0.2222222222222222,
             "#7201a8"
            ],
            [
             0.3333333333333333,
             "#9c179e"
            ],
            [
             0.4444444444444444,
             "#bd3786"
            ],
            [
             0.5555555555555556,
             "#d8576b"
            ],
            [
             0.6666666666666666,
             "#ed7953"
            ],
            [
             0.7777777777777778,
             "#fb9f3a"
            ],
            [
             0.8888888888888888,
             "#fdca26"
            ],
            [
             1,
             "#f0f921"
            ]
           ],
           "sequentialminus": [
            [
             0,
             "#0d0887"
            ],
            [
             0.1111111111111111,
             "#46039f"
            ],
            [
             0.2222222222222222,
             "#7201a8"
            ],
            [
             0.3333333333333333,
             "#9c179e"
            ],
            [
             0.4444444444444444,
             "#bd3786"
            ],
            [
             0.5555555555555556,
             "#d8576b"
            ],
            [
             0.6666666666666666,
             "#ed7953"
            ],
            [
             0.7777777777777778,
             "#fb9f3a"
            ],
            [
             0.8888888888888888,
             "#fdca26"
            ],
            [
             1,
             "#f0f921"
            ]
           ]
          },
          "colorway": [
           "#636efa",
           "#EF553B",
           "#00cc96",
           "#ab63fa",
           "#FFA15A",
           "#19d3f3",
           "#FF6692",
           "#B6E880",
           "#FF97FF",
           "#FECB52"
          ],
          "font": {
           "color": "#2a3f5f"
          },
          "geo": {
           "bgcolor": "white",
           "lakecolor": "white",
           "landcolor": "#E5ECF6",
           "showlakes": true,
           "showland": true,
           "subunitcolor": "white"
          },
          "hoverlabel": {
           "align": "left"
          },
          "hovermode": "closest",
          "mapbox": {
           "style": "light"
          },
          "paper_bgcolor": "white",
          "plot_bgcolor": "#E5ECF6",
          "polar": {
           "angularaxis": {
            "gridcolor": "white",
            "linecolor": "white",
            "ticks": ""
           },
           "bgcolor": "#E5ECF6",
           "radialaxis": {
            "gridcolor": "white",
            "linecolor": "white",
            "ticks": ""
           }
          },
          "scene": {
           "xaxis": {
            "backgroundcolor": "#E5ECF6",
            "gridcolor": "white",
            "gridwidth": 2,
            "linecolor": "white",
            "showbackground": true,
            "ticks": "",
            "zerolinecolor": "white"
           },
           "yaxis": {
            "backgroundcolor": "#E5ECF6",
            "gridcolor": "white",
            "gridwidth": 2,
            "linecolor": "white",
            "showbackground": true,
            "ticks": "",
            "zerolinecolor": "white"
           },
           "zaxis": {
            "backgroundcolor": "#E5ECF6",
            "gridcolor": "white",
            "gridwidth": 2,
            "linecolor": "white",
            "showbackground": true,
            "ticks": "",
            "zerolinecolor": "white"
           }
          },
          "shapedefaults": {
           "line": {
            "color": "#2a3f5f"
           }
          },
          "ternary": {
           "aaxis": {
            "gridcolor": "white",
            "linecolor": "white",
            "ticks": ""
           },
           "baxis": {
            "gridcolor": "white",
            "linecolor": "white",
            "ticks": ""
           },
           "bgcolor": "#E5ECF6",
           "caxis": {
            "gridcolor": "white",
            "linecolor": "white",
            "ticks": ""
           }
          },
          "title": {
           "x": 0.05
          },
          "xaxis": {
           "automargin": true,
           "gridcolor": "white",
           "linecolor": "white",
           "ticks": "",
           "title": {
            "standoff": 15
           },
           "zerolinecolor": "white",
           "zerolinewidth": 2
          },
          "yaxis": {
           "automargin": true,
           "gridcolor": "white",
           "linecolor": "white",
           "ticks": "",
           "title": {
            "standoff": 15
           },
           "zerolinecolor": "white",
           "zerolinewidth": 2
          }
         }
        },
        "title": {
         "text": "Execution time of ForecasterRecursiveMultiSeries__create_train_X_y_single_series"
        },
        "xaxis": {
         "anchor": "y",
         "categoryarray": [
          "0.12.0",
          "0.13.0",
          "0.14.0",
          "0.15.0",
          "0.16.0"
         ],
         "categoryorder": "array",
         "domain": [
          0,
          1
         ],
         "title": {
          "text": "skforecast version"
         }
        },
        "yaxis": {
         "anchor": "x",
         "domain": [
          0,
          1
         ],
         "title": {
          "text": "Execution time (seconds)"
         }
        }
       }
      }
     },
     "metadata": {},
     "output_type": "display_data"
    },
    {
     "data": {
      "application/vnd.microsoft.datawrangler.viewer.v0+json": {
       "columns": [
        {
         "name": "index",
         "rawType": "int64",
         "type": "integer"
        },
        {
         "name": "forecaster_name",
         "rawType": "object",
         "type": "string"
        },
        {
         "name": "function_name",
         "rawType": "object",
         "type": "string"
        },
        {
         "name": "function_hash",
         "rawType": "object",
         "type": "string"
        },
        {
         "name": "run_time_avg",
         "rawType": "float64",
         "type": "float"
        },
        {
         "name": "run_time_std_dev",
         "rawType": "float64",
         "type": "float"
        },
        {
         "name": "datetime",
         "rawType": "datetime64[ns]",
         "type": "datetime"
        },
        {
         "name": "python_version",
         "rawType": "object",
         "type": "string"
        },
        {
         "name": "skforecast_version",
         "rawType": "object",
         "type": "string"
        },
        {
         "name": "numpy_version",
         "rawType": "object",
         "type": "string"
        },
        {
         "name": "pandas_version",
         "rawType": "object",
         "type": "string"
        },
        {
         "name": "sklearn_version",
         "rawType": "object",
         "type": "string"
        },
        {
         "name": "lightgbm_version",
         "rawType": "object",
         "type": "string"
        },
        {
         "name": "platform",
         "rawType": "object",
         "type": "string"
        },
        {
         "name": "processor",
         "rawType": "object",
         "type": "string"
        },
        {
         "name": "cpu_count",
         "rawType": "int64",
         "type": "integer"
        },
        {
         "name": "memory_gb",
         "rawType": "float64",
         "type": "float"
        }
       ],
       "conversionMethod": "pd.DataFrame",
       "ref": "3687be9c-974b-466d-9613-1538510b993c",
       "rows": [
        [
         "5",
         "ForecasterAutoregMultiSeries",
         "ForecasterRecursiveMultiSeries_predict_exog_is_dict",
         "451898dccb92cc6f0a674d62eb66e4d8",
         "35.87170815119998",
         "0.9451444074171284",
         "2025-04-22 21:07:20.390976",
         "3.12.9",
         "0.13.0",
         "1.26.4",
         "2.2.3",
         "1.4.2",
         "4.6.0",
         "Linux-6.11.0-21-generic-x86_64-with-glibc2.39",
         "x86_64",
         "8",
         "16.64"
        ],
        [
         "13",
         "ForecasterAutoregMultiSeries",
         "ForecasterRecursiveMultiSeries_predict_exog_is_dict",
         "451898dccb92cc6f0a674d62eb66e4d8",
         "37.07452532640009",
         "1.3269263329694576",
         "2025-04-22 21:17:21.586494",
         "3.12.9",
         "0.13.0",
         "1.26.4",
         "2.2.3",
         "1.4.2",
         "4.6.0",
         "Linux-6.11.0-21-generic-x86_64-with-glibc2.39",
         "x86_64",
         "8",
         "16.64"
        ],
        [
         "21",
         "ForecasterRecursiveMultiSeries",
         "ForecasterRecursiveMultiSeries_predict_exog_is_dict",
         "451898dccb92cc6f0a674d62eb66e4d8",
         "1.726757622399964",
         "0.04581636614850499",
         "2025-04-22 21:23:59.674122",
         "3.12.9",
         "0.14.0",
         "1.26.4",
         "2.2.3",
         "1.4.2",
         "4.6.0",
         "Linux-6.11.0-21-generic-x86_64-with-glibc2.39",
         "x86_64",
         "8",
         "16.64"
        ],
        [
         "41",
         "ForecasterRecursiveMultiSeries",
         "ForecasterRecursiveMultiSeries_predict_exog_is_dict",
         "451898dccb92cc6f0a674d62eb66e4d8",
         "1.8017884053999296",
         "0.19909095332808882",
         "2025-04-22 21:30:43.790260",
         "3.12.9",
         "0.14.0",
         "1.26.4",
         "2.2.3",
         "1.4.2",
         "4.6.0",
         "Linux-6.11.0-21-generic-x86_64-with-glibc2.39",
         "x86_64",
         "8",
         "16.64"
        ],
        [
         "53",
         "ForecasterRecursiveMultiSeries",
         "ForecasterRecursiveMultiSeries_predict_exog_is_dict",
         "451898dccb92cc6f0a674d62eb66e4d8",
         "2.4789470164001615",
         "0.11089799465734283",
         "2025-04-22 21:35:09.738397",
         "3.12.9",
         "0.15.0",
         "1.26.4",
         "2.2.3",
         "1.4.2",
         "4.6.0",
         "Linux-6.11.0-21-generic-x86_64-with-glibc2.39",
         "x86_64",
         "8",
         "16.64"
        ],
        [
         "65",
         "ForecasterRecursiveMultiSeries",
         "ForecasterRecursiveMultiSeries_predict_exog_is_dict",
         "451898dccb92cc6f0a674d62eb66e4d8",
         "2.4549630917998",
         "0.16443375305577174",
         "2025-04-22 21:46:06.733806",
         "3.12.9",
         "0.15.0",
         "2.2.5",
         "2.2.3",
         "1.6.1",
         "4.6.0",
         "Linux-6.11.0-21-generic-x86_64-with-glibc2.39",
         "x86_64",
         "8",
         "16.64"
        ],
        [
         "77",
         "ForecasterRecursiveMultiSeries",
         "ForecasterRecursiveMultiSeries_predict_exog_is_dict",
         "451898dccb92cc6f0a674d62eb66e4d8",
         "0.7242522754000674",
         "0.0445398912878694",
         "2025-04-22 21:56:06.640060",
         "3.12.9",
         "0.16.0",
         "2.2.5",
         "2.2.3",
         "1.6.1",
         "4.6.0",
         "Linux-6.11.0-21-generic-x86_64-with-glibc2.39",
         "x86_64",
         "8",
         "16.64"
        ],
        [
         "89",
         "ForecasterRecursiveMultiSeries",
         "ForecasterRecursiveMultiSeries_predict_exog_is_dict",
         "451898dccb92cc6f0a674d62eb66e4d8",
         "0.6904644722000739",
         "0.06790947321137154",
         "2025-04-22 22:10:48.401687",
         "3.12.9",
         "0.16.0",
         "1.26.4",
         "2.2.3",
         "1.6.1",
         "4.6.0",
         "Linux-6.11.0-21-generic-x86_64-with-glibc2.39",
         "x86_64",
         "8",
         "16.64"
        ],
        [
         "101",
         "ForecasterAutoregMultiSeries",
         "ForecasterRecursiveMultiSeries_predict_exog_is_dict",
         "451898dccb92cc6f0a674d62eb66e4d8",
         "68.55982902459982",
         "2.853703333302013",
         "2025-04-22 22:20:03.036264",
         "3.12.9",
         "0.12.0",
         "1.26.4",
         "2.2.3",
         "1.4.2",
         "4.6.0",
         "Linux-6.11.0-21-generic-x86_64-with-glibc2.39",
         "x86_64",
         "8",
         "16.64"
        ],
        [
         "113",
         "ForecasterAutoregMultiSeries",
         "ForecasterRecursiveMultiSeries_predict_exog_is_dict",
         "451898dccb92cc6f0a674d62eb66e4d8",
         "75.92491859299989",
         "8.835650592265246",
         "2025-04-22 22:33:21.138349",
         "3.12.9",
         "0.12.0",
         "1.26.4",
         "2.2.3",
         "1.4.2",
         "4.6.0",
         "Linux-6.11.0-21-generic-x86_64-with-glibc2.39",
         "x86_64",
         "8",
         "16.64"
        ]
       ],
       "shape": {
        "columns": 16,
        "rows": 10
       }
      },
      "text/html": [
       "<div>\n",
       "<style scoped>\n",
       "    .dataframe tbody tr th:only-of-type {\n",
       "        vertical-align: middle;\n",
       "    }\n",
       "\n",
       "    .dataframe tbody tr th {\n",
       "        vertical-align: top;\n",
       "    }\n",
       "\n",
       "    .dataframe thead th {\n",
       "        text-align: right;\n",
       "    }\n",
       "</style>\n",
       "<table border=\"1\" class=\"dataframe\">\n",
       "  <thead>\n",
       "    <tr style=\"text-align: right;\">\n",
       "      <th></th>\n",
       "      <th>forecaster_name</th>\n",
       "      <th>function_name</th>\n",
       "      <th>function_hash</th>\n",
       "      <th>run_time_avg</th>\n",
       "      <th>run_time_std_dev</th>\n",
       "      <th>datetime</th>\n",
       "      <th>python_version</th>\n",
       "      <th>skforecast_version</th>\n",
       "      <th>numpy_version</th>\n",
       "      <th>pandas_version</th>\n",
       "      <th>sklearn_version</th>\n",
       "      <th>lightgbm_version</th>\n",
       "      <th>platform</th>\n",
       "      <th>processor</th>\n",
       "      <th>cpu_count</th>\n",
       "      <th>memory_gb</th>\n",
       "    </tr>\n",
       "  </thead>\n",
       "  <tbody>\n",
       "    <tr>\n",
       "      <th>5</th>\n",
       "      <td>ForecasterAutoregMultiSeries</td>\n",
       "      <td>ForecasterRecursiveMultiSeries_predict_exog_is...</td>\n",
       "      <td>451898dccb92cc6f0a674d62eb66e4d8</td>\n",
       "      <td>35.871708</td>\n",
       "      <td>0.945144</td>\n",
       "      <td>2025-04-22 21:07:20.390976</td>\n",
       "      <td>3.12.9</td>\n",
       "      <td>0.13.0</td>\n",
       "      <td>1.26.4</td>\n",
       "      <td>2.2.3</td>\n",
       "      <td>1.4.2</td>\n",
       "      <td>4.6.0</td>\n",
       "      <td>Linux-6.11.0-21-generic-x86_64-with-glibc2.39</td>\n",
       "      <td>x86_64</td>\n",
       "      <td>8</td>\n",
       "      <td>16.64</td>\n",
       "    </tr>\n",
       "    <tr>\n",
       "      <th>13</th>\n",
       "      <td>ForecasterAutoregMultiSeries</td>\n",
       "      <td>ForecasterRecursiveMultiSeries_predict_exog_is...</td>\n",
       "      <td>451898dccb92cc6f0a674d62eb66e4d8</td>\n",
       "      <td>37.074525</td>\n",
       "      <td>1.326926</td>\n",
       "      <td>2025-04-22 21:17:21.586494</td>\n",
       "      <td>3.12.9</td>\n",
       "      <td>0.13.0</td>\n",
       "      <td>1.26.4</td>\n",
       "      <td>2.2.3</td>\n",
       "      <td>1.4.2</td>\n",
       "      <td>4.6.0</td>\n",
       "      <td>Linux-6.11.0-21-generic-x86_64-with-glibc2.39</td>\n",
       "      <td>x86_64</td>\n",
       "      <td>8</td>\n",
       "      <td>16.64</td>\n",
       "    </tr>\n",
       "    <tr>\n",
       "      <th>21</th>\n",
       "      <td>ForecasterRecursiveMultiSeries</td>\n",
       "      <td>ForecasterRecursiveMultiSeries_predict_exog_is...</td>\n",
       "      <td>451898dccb92cc6f0a674d62eb66e4d8</td>\n",
       "      <td>1.726758</td>\n",
       "      <td>0.045816</td>\n",
       "      <td>2025-04-22 21:23:59.674122</td>\n",
       "      <td>3.12.9</td>\n",
       "      <td>0.14.0</td>\n",
       "      <td>1.26.4</td>\n",
       "      <td>2.2.3</td>\n",
       "      <td>1.4.2</td>\n",
       "      <td>4.6.0</td>\n",
       "      <td>Linux-6.11.0-21-generic-x86_64-with-glibc2.39</td>\n",
       "      <td>x86_64</td>\n",
       "      <td>8</td>\n",
       "      <td>16.64</td>\n",
       "    </tr>\n",
       "    <tr>\n",
       "      <th>41</th>\n",
       "      <td>ForecasterRecursiveMultiSeries</td>\n",
       "      <td>ForecasterRecursiveMultiSeries_predict_exog_is...</td>\n",
       "      <td>451898dccb92cc6f0a674d62eb66e4d8</td>\n",
       "      <td>1.801788</td>\n",
       "      <td>0.199091</td>\n",
       "      <td>2025-04-22 21:30:43.790260</td>\n",
       "      <td>3.12.9</td>\n",
       "      <td>0.14.0</td>\n",
       "      <td>1.26.4</td>\n",
       "      <td>2.2.3</td>\n",
       "      <td>1.4.2</td>\n",
       "      <td>4.6.0</td>\n",
       "      <td>Linux-6.11.0-21-generic-x86_64-with-glibc2.39</td>\n",
       "      <td>x86_64</td>\n",
       "      <td>8</td>\n",
       "      <td>16.64</td>\n",
       "    </tr>\n",
       "    <tr>\n",
       "      <th>53</th>\n",
       "      <td>ForecasterRecursiveMultiSeries</td>\n",
       "      <td>ForecasterRecursiveMultiSeries_predict_exog_is...</td>\n",
       "      <td>451898dccb92cc6f0a674d62eb66e4d8</td>\n",
       "      <td>2.478947</td>\n",
       "      <td>0.110898</td>\n",
       "      <td>2025-04-22 21:35:09.738397</td>\n",
       "      <td>3.12.9</td>\n",
       "      <td>0.15.0</td>\n",
       "      <td>1.26.4</td>\n",
       "      <td>2.2.3</td>\n",
       "      <td>1.4.2</td>\n",
       "      <td>4.6.0</td>\n",
       "      <td>Linux-6.11.0-21-generic-x86_64-with-glibc2.39</td>\n",
       "      <td>x86_64</td>\n",
       "      <td>8</td>\n",
       "      <td>16.64</td>\n",
       "    </tr>\n",
       "    <tr>\n",
       "      <th>65</th>\n",
       "      <td>ForecasterRecursiveMultiSeries</td>\n",
       "      <td>ForecasterRecursiveMultiSeries_predict_exog_is...</td>\n",
       "      <td>451898dccb92cc6f0a674d62eb66e4d8</td>\n",
       "      <td>2.454963</td>\n",
       "      <td>0.164434</td>\n",
       "      <td>2025-04-22 21:46:06.733806</td>\n",
       "      <td>3.12.9</td>\n",
       "      <td>0.15.0</td>\n",
       "      <td>2.2.5</td>\n",
       "      <td>2.2.3</td>\n",
       "      <td>1.6.1</td>\n",
       "      <td>4.6.0</td>\n",
       "      <td>Linux-6.11.0-21-generic-x86_64-with-glibc2.39</td>\n",
       "      <td>x86_64</td>\n",
       "      <td>8</td>\n",
       "      <td>16.64</td>\n",
       "    </tr>\n",
       "    <tr>\n",
       "      <th>77</th>\n",
       "      <td>ForecasterRecursiveMultiSeries</td>\n",
       "      <td>ForecasterRecursiveMultiSeries_predict_exog_is...</td>\n",
       "      <td>451898dccb92cc6f0a674d62eb66e4d8</td>\n",
       "      <td>0.724252</td>\n",
       "      <td>0.044540</td>\n",
       "      <td>2025-04-22 21:56:06.640060</td>\n",
       "      <td>3.12.9</td>\n",
       "      <td>0.16.0</td>\n",
       "      <td>2.2.5</td>\n",
       "      <td>2.2.3</td>\n",
       "      <td>1.6.1</td>\n",
       "      <td>4.6.0</td>\n",
       "      <td>Linux-6.11.0-21-generic-x86_64-with-glibc2.39</td>\n",
       "      <td>x86_64</td>\n",
       "      <td>8</td>\n",
       "      <td>16.64</td>\n",
       "    </tr>\n",
       "    <tr>\n",
       "      <th>89</th>\n",
       "      <td>ForecasterRecursiveMultiSeries</td>\n",
       "      <td>ForecasterRecursiveMultiSeries_predict_exog_is...</td>\n",
       "      <td>451898dccb92cc6f0a674d62eb66e4d8</td>\n",
       "      <td>0.690464</td>\n",
       "      <td>0.067909</td>\n",
       "      <td>2025-04-22 22:10:48.401687</td>\n",
       "      <td>3.12.9</td>\n",
       "      <td>0.16.0</td>\n",
       "      <td>1.26.4</td>\n",
       "      <td>2.2.3</td>\n",
       "      <td>1.6.1</td>\n",
       "      <td>4.6.0</td>\n",
       "      <td>Linux-6.11.0-21-generic-x86_64-with-glibc2.39</td>\n",
       "      <td>x86_64</td>\n",
       "      <td>8</td>\n",
       "      <td>16.64</td>\n",
       "    </tr>\n",
       "    <tr>\n",
       "      <th>101</th>\n",
       "      <td>ForecasterAutoregMultiSeries</td>\n",
       "      <td>ForecasterRecursiveMultiSeries_predict_exog_is...</td>\n",
       "      <td>451898dccb92cc6f0a674d62eb66e4d8</td>\n",
       "      <td>68.559829</td>\n",
       "      <td>2.853703</td>\n",
       "      <td>2025-04-22 22:20:03.036264</td>\n",
       "      <td>3.12.9</td>\n",
       "      <td>0.12.0</td>\n",
       "      <td>1.26.4</td>\n",
       "      <td>2.2.3</td>\n",
       "      <td>1.4.2</td>\n",
       "      <td>4.6.0</td>\n",
       "      <td>Linux-6.11.0-21-generic-x86_64-with-glibc2.39</td>\n",
       "      <td>x86_64</td>\n",
       "      <td>8</td>\n",
       "      <td>16.64</td>\n",
       "    </tr>\n",
       "    <tr>\n",
       "      <th>113</th>\n",
       "      <td>ForecasterAutoregMultiSeries</td>\n",
       "      <td>ForecasterRecursiveMultiSeries_predict_exog_is...</td>\n",
       "      <td>451898dccb92cc6f0a674d62eb66e4d8</td>\n",
       "      <td>75.924919</td>\n",
       "      <td>8.835651</td>\n",
       "      <td>2025-04-22 22:33:21.138349</td>\n",
       "      <td>3.12.9</td>\n",
       "      <td>0.12.0</td>\n",
       "      <td>1.26.4</td>\n",
       "      <td>2.2.3</td>\n",
       "      <td>1.4.2</td>\n",
       "      <td>4.6.0</td>\n",
       "      <td>Linux-6.11.0-21-generic-x86_64-with-glibc2.39</td>\n",
       "      <td>x86_64</td>\n",
       "      <td>8</td>\n",
       "      <td>16.64</td>\n",
       "    </tr>\n",
       "  </tbody>\n",
       "</table>\n",
       "</div>"
      ],
      "text/plain": [
       "                    forecaster_name  \\\n",
       "5      ForecasterAutoregMultiSeries   \n",
       "13     ForecasterAutoregMultiSeries   \n",
       "21   ForecasterRecursiveMultiSeries   \n",
       "41   ForecasterRecursiveMultiSeries   \n",
       "53   ForecasterRecursiveMultiSeries   \n",
       "65   ForecasterRecursiveMultiSeries   \n",
       "77   ForecasterRecursiveMultiSeries   \n",
       "89   ForecasterRecursiveMultiSeries   \n",
       "101    ForecasterAutoregMultiSeries   \n",
       "113    ForecasterAutoregMultiSeries   \n",
       "\n",
       "                                         function_name  \\\n",
       "5    ForecasterRecursiveMultiSeries_predict_exog_is...   \n",
       "13   ForecasterRecursiveMultiSeries_predict_exog_is...   \n",
       "21   ForecasterRecursiveMultiSeries_predict_exog_is...   \n",
       "41   ForecasterRecursiveMultiSeries_predict_exog_is...   \n",
       "53   ForecasterRecursiveMultiSeries_predict_exog_is...   \n",
       "65   ForecasterRecursiveMultiSeries_predict_exog_is...   \n",
       "77   ForecasterRecursiveMultiSeries_predict_exog_is...   \n",
       "89   ForecasterRecursiveMultiSeries_predict_exog_is...   \n",
       "101  ForecasterRecursiveMultiSeries_predict_exog_is...   \n",
       "113  ForecasterRecursiveMultiSeries_predict_exog_is...   \n",
       "\n",
       "                        function_hash  run_time_avg  run_time_std_dev  \\\n",
       "5    451898dccb92cc6f0a674d62eb66e4d8     35.871708          0.945144   \n",
       "13   451898dccb92cc6f0a674d62eb66e4d8     37.074525          1.326926   \n",
       "21   451898dccb92cc6f0a674d62eb66e4d8      1.726758          0.045816   \n",
       "41   451898dccb92cc6f0a674d62eb66e4d8      1.801788          0.199091   \n",
       "53   451898dccb92cc6f0a674d62eb66e4d8      2.478947          0.110898   \n",
       "65   451898dccb92cc6f0a674d62eb66e4d8      2.454963          0.164434   \n",
       "77   451898dccb92cc6f0a674d62eb66e4d8      0.724252          0.044540   \n",
       "89   451898dccb92cc6f0a674d62eb66e4d8      0.690464          0.067909   \n",
       "101  451898dccb92cc6f0a674d62eb66e4d8     68.559829          2.853703   \n",
       "113  451898dccb92cc6f0a674d62eb66e4d8     75.924919          8.835651   \n",
       "\n",
       "                      datetime python_version skforecast_version  \\\n",
       "5   2025-04-22 21:07:20.390976         3.12.9             0.13.0   \n",
       "13  2025-04-22 21:17:21.586494         3.12.9             0.13.0   \n",
       "21  2025-04-22 21:23:59.674122         3.12.9             0.14.0   \n",
       "41  2025-04-22 21:30:43.790260         3.12.9             0.14.0   \n",
       "53  2025-04-22 21:35:09.738397         3.12.9             0.15.0   \n",
       "65  2025-04-22 21:46:06.733806         3.12.9             0.15.0   \n",
       "77  2025-04-22 21:56:06.640060         3.12.9             0.16.0   \n",
       "89  2025-04-22 22:10:48.401687         3.12.9             0.16.0   \n",
       "101 2025-04-22 22:20:03.036264         3.12.9             0.12.0   \n",
       "113 2025-04-22 22:33:21.138349         3.12.9             0.12.0   \n",
       "\n",
       "    numpy_version pandas_version sklearn_version lightgbm_version  \\\n",
       "5          1.26.4          2.2.3           1.4.2            4.6.0   \n",
       "13         1.26.4          2.2.3           1.4.2            4.6.0   \n",
       "21         1.26.4          2.2.3           1.4.2            4.6.0   \n",
       "41         1.26.4          2.2.3           1.4.2            4.6.0   \n",
       "53         1.26.4          2.2.3           1.4.2            4.6.0   \n",
       "65          2.2.5          2.2.3           1.6.1            4.6.0   \n",
       "77          2.2.5          2.2.3           1.6.1            4.6.0   \n",
       "89         1.26.4          2.2.3           1.6.1            4.6.0   \n",
       "101        1.26.4          2.2.3           1.4.2            4.6.0   \n",
       "113        1.26.4          2.2.3           1.4.2            4.6.0   \n",
       "\n",
       "                                          platform processor  cpu_count  \\\n",
       "5    Linux-6.11.0-21-generic-x86_64-with-glibc2.39    x86_64          8   \n",
       "13   Linux-6.11.0-21-generic-x86_64-with-glibc2.39    x86_64          8   \n",
       "21   Linux-6.11.0-21-generic-x86_64-with-glibc2.39    x86_64          8   \n",
       "41   Linux-6.11.0-21-generic-x86_64-with-glibc2.39    x86_64          8   \n",
       "53   Linux-6.11.0-21-generic-x86_64-with-glibc2.39    x86_64          8   \n",
       "65   Linux-6.11.0-21-generic-x86_64-with-glibc2.39    x86_64          8   \n",
       "77   Linux-6.11.0-21-generic-x86_64-with-glibc2.39    x86_64          8   \n",
       "89   Linux-6.11.0-21-generic-x86_64-with-glibc2.39    x86_64          8   \n",
       "101  Linux-6.11.0-21-generic-x86_64-with-glibc2.39    x86_64          8   \n",
       "113  Linux-6.11.0-21-generic-x86_64-with-glibc2.39    x86_64          8   \n",
       "\n",
       "     memory_gb  \n",
       "5        16.64  \n",
       "13       16.64  \n",
       "21       16.64  \n",
       "41       16.64  \n",
       "53       16.64  \n",
       "65       16.64  \n",
       "77       16.64  \n",
       "89       16.64  \n",
       "101      16.64  \n",
       "113      16.64  "
      ]
     },
     "metadata": {},
     "output_type": "display_data"
    },
    {
     "data": {
      "application/vnd.plotly.v1+json": {
       "config": {
        "plotlyServerURL": "https://plot.ly"
       },
       "data": [
        {
         "alignmentgroup": "True",
         "boxpoints": "all",
         "customdata": [
          [
           "ForecasterAutoregMultiSeries",
           "ForecasterRecursiveMultiSeries_predict_exog_is_dict",
           "451898dccb92cc6f0a674d62eb66e4d8",
           2.853703333302013,
           "2025-04-22T22:20:03.036264",
           "3.12.9",
           "1.26.4",
           "2.2.3",
           "1.4.2",
           "4.6.0",
           "Linux-6.11.0-21-generic-x86_64-with-glibc2.39",
           "x86_64",
           8,
           16.64
          ],
          [
           "ForecasterAutoregMultiSeries",
           "ForecasterRecursiveMultiSeries_predict_exog_is_dict",
           "451898dccb92cc6f0a674d62eb66e4d8",
           8.835650592265246,
           "2025-04-22T22:33:21.138349",
           "3.12.9",
           "1.26.4",
           "2.2.3",
           "1.4.2",
           "4.6.0",
           "Linux-6.11.0-21-generic-x86_64-with-glibc2.39",
           "x86_64",
           8,
           16.64
          ]
         ],
         "fillcolor": "rgba(255,255,255,0)",
         "hoveron": "points",
         "hovertemplate": "skforecast_version=%{x}<br>run_time_avg=%{y}<br>forecaster_name=%{customdata[0]}<br>function_name=%{customdata[1]}<br>function_hash=%{customdata[2]}<br>run_time_std_dev=%{customdata[3]}<br>datetime=%{customdata[4]}<br>python_version=%{customdata[5]}<br>numpy_version=%{customdata[6]}<br>pandas_version=%{customdata[7]}<br>sklearn_version=%{customdata[8]}<br>lightgbm_version=%{customdata[9]}<br>platform=%{customdata[10]}<br>processor=%{customdata[11]}<br>cpu_count=%{customdata[12]}<br>memory_gb=%{customdata[13]}<extra></extra>",
         "jitter": true,
         "legendgroup": "0.12.0",
         "line": {
          "color": "rgba(255,255,255,0)"
         },
         "marker": {
          "color": "#636efa",
          "opacity": 0.7,
          "size": 10
         },
         "name": "0.12.0",
         "offsetgroup": "0.12.0",
         "orientation": "v",
         "pointpos": 0,
         "showlegend": true,
         "type": "box",
         "x": [
          "0.12.0",
          "0.12.0"
         ],
         "x0": " ",
         "xaxis": "x",
         "y": {
          "bdata": "gAAePdQjUUBmGcHdMftSQA==",
          "dtype": "f8"
         },
         "y0": " ",
         "yaxis": "y"
        },
        {
         "alignmentgroup": "True",
         "boxpoints": "all",
         "customdata": [
          [
           "ForecasterAutoregMultiSeries",
           "ForecasterRecursiveMultiSeries_predict_exog_is_dict",
           "451898dccb92cc6f0a674d62eb66e4d8",
           0.9451444074171284,
           "2025-04-22T21:07:20.390976",
           "3.12.9",
           "1.26.4",
           "2.2.3",
           "1.4.2",
           "4.6.0",
           "Linux-6.11.0-21-generic-x86_64-with-glibc2.39",
           "x86_64",
           8,
           16.64
          ],
          [
           "ForecasterAutoregMultiSeries",
           "ForecasterRecursiveMultiSeries_predict_exog_is_dict",
           "451898dccb92cc6f0a674d62eb66e4d8",
           1.3269263329694576,
           "2025-04-22T21:17:21.586494",
           "3.12.9",
           "1.26.4",
           "2.2.3",
           "1.4.2",
           "4.6.0",
           "Linux-6.11.0-21-generic-x86_64-with-glibc2.39",
           "x86_64",
           8,
           16.64
          ]
         ],
         "fillcolor": "rgba(255,255,255,0)",
         "hoveron": "points",
         "hovertemplate": "skforecast_version=%{x}<br>run_time_avg=%{y}<br>forecaster_name=%{customdata[0]}<br>function_name=%{customdata[1]}<br>function_hash=%{customdata[2]}<br>run_time_std_dev=%{customdata[3]}<br>datetime=%{customdata[4]}<br>python_version=%{customdata[5]}<br>numpy_version=%{customdata[6]}<br>pandas_version=%{customdata[7]}<br>sklearn_version=%{customdata[8]}<br>lightgbm_version=%{customdata[9]}<br>platform=%{customdata[10]}<br>processor=%{customdata[11]}<br>cpu_count=%{customdata[12]}<br>memory_gb=%{customdata[13]}<extra></extra>",
         "jitter": true,
         "legendgroup": "0.13.0",
         "line": {
          "color": "rgba(255,255,255,0)"
         },
         "marker": {
          "color": "#EF553B",
          "opacity": 0.7,
          "size": 10
         },
         "name": "0.13.0",
         "offsetgroup": "0.13.0",
         "orientation": "v",
         "pointpos": 0,
         "showlegend": true,
         "type": "box",
         "x": [
          "0.13.0",
          "0.13.0"
         ],
         "x0": " ",
         "xaxis": "x",
         "y": {
          "bdata": "wIf4IZTvQUBazr8LiolCQA==",
          "dtype": "f8"
         },
         "y0": " ",
         "yaxis": "y"
        },
        {
         "alignmentgroup": "True",
         "boxpoints": "all",
         "customdata": [
          [
           "ForecasterRecursiveMultiSeries",
           "ForecasterRecursiveMultiSeries_predict_exog_is_dict",
           "451898dccb92cc6f0a674d62eb66e4d8",
           0.04581636614850499,
           "2025-04-22T21:23:59.674122",
           "3.12.9",
           "1.26.4",
           "2.2.3",
           "1.4.2",
           "4.6.0",
           "Linux-6.11.0-21-generic-x86_64-with-glibc2.39",
           "x86_64",
           8,
           16.64
          ],
          [
           "ForecasterRecursiveMultiSeries",
           "ForecasterRecursiveMultiSeries_predict_exog_is_dict",
           "451898dccb92cc6f0a674d62eb66e4d8",
           0.19909095332808882,
           "2025-04-22T21:30:43.790260",
           "3.12.9",
           "1.26.4",
           "2.2.3",
           "1.4.2",
           "4.6.0",
           "Linux-6.11.0-21-generic-x86_64-with-glibc2.39",
           "x86_64",
           8,
           16.64
          ]
         ],
         "fillcolor": "rgba(255,255,255,0)",
         "hoveron": "points",
         "hovertemplate": "skforecast_version=%{x}<br>run_time_avg=%{y}<br>forecaster_name=%{customdata[0]}<br>function_name=%{customdata[1]}<br>function_hash=%{customdata[2]}<br>run_time_std_dev=%{customdata[3]}<br>datetime=%{customdata[4]}<br>python_version=%{customdata[5]}<br>numpy_version=%{customdata[6]}<br>pandas_version=%{customdata[7]}<br>sklearn_version=%{customdata[8]}<br>lightgbm_version=%{customdata[9]}<br>platform=%{customdata[10]}<br>processor=%{customdata[11]}<br>cpu_count=%{customdata[12]}<br>memory_gb=%{customdata[13]}<extra></extra>",
         "jitter": true,
         "legendgroup": "0.14.0",
         "line": {
          "color": "rgba(255,255,255,0)"
         },
         "marker": {
          "color": "#00cc96",
          "opacity": 0.7,
          "size": 10
         },
         "name": "0.14.0",
         "offsetgroup": "0.14.0",
         "orientation": "v",
         "pointpos": 0,
         "showlegend": true,
         "type": "box",
         "x": [
          "0.14.0",
          "0.14.0"
         ],
         "x0": " ",
         "xaxis": "x",
         "y": {
          "bdata": "mjnFmcyg+z8zEzgUINT8Pw==",
          "dtype": "f8"
         },
         "y0": " ",
         "yaxis": "y"
        },
        {
         "alignmentgroup": "True",
         "boxpoints": "all",
         "customdata": [
          [
           "ForecasterRecursiveMultiSeries",
           "ForecasterRecursiveMultiSeries_predict_exog_is_dict",
           "451898dccb92cc6f0a674d62eb66e4d8",
           0.11089799465734283,
           "2025-04-22T21:35:09.738397",
           "3.12.9",
           "1.26.4",
           "2.2.3",
           "1.4.2",
           "4.6.0",
           "Linux-6.11.0-21-generic-x86_64-with-glibc2.39",
           "x86_64",
           8,
           16.64
          ],
          [
           "ForecasterRecursiveMultiSeries",
           "ForecasterRecursiveMultiSeries_predict_exog_is_dict",
           "451898dccb92cc6f0a674d62eb66e4d8",
           0.16443375305577174,
           "2025-04-22T21:46:06.733806",
           "3.12.9",
           "2.2.5",
           "2.2.3",
           "1.6.1",
           "4.6.0",
           "Linux-6.11.0-21-generic-x86_64-with-glibc2.39",
           "x86_64",
           8,
           16.64
          ]
         ],
         "fillcolor": "rgba(255,255,255,0)",
         "hoveron": "points",
         "hovertemplate": "skforecast_version=%{x}<br>run_time_avg=%{y}<br>forecaster_name=%{customdata[0]}<br>function_name=%{customdata[1]}<br>function_hash=%{customdata[2]}<br>run_time_std_dev=%{customdata[3]}<br>datetime=%{customdata[4]}<br>python_version=%{customdata[5]}<br>numpy_version=%{customdata[6]}<br>pandas_version=%{customdata[7]}<br>sklearn_version=%{customdata[8]}<br>lightgbm_version=%{customdata[9]}<br>platform=%{customdata[10]}<br>processor=%{customdata[11]}<br>cpu_count=%{customdata[12]}<br>memory_gb=%{customdata[13]}<extra></extra>",
         "jitter": true,
         "legendgroup": "0.15.0",
         "line": {
          "color": "rgba(255,255,255,0)"
         },
         "marker": {
          "color": "#ab63fa",
          "opacity": 0.7,
          "size": 10
         },
         "name": "0.15.0",
         "offsetgroup": "0.15.0",
         "orientation": "v",
         "pointpos": 0,
         "showlegend": true,
         "type": "box",
         "x": [
          "0.15.0",
          "0.15.0"
         ],
         "x0": " ",
         "xaxis": "x",
         "y": {
          "bdata": "zaRfLOLUA0BmVoGww6MDQA==",
          "dtype": "f8"
         },
         "y0": " ",
         "yaxis": "y"
        },
        {
         "alignmentgroup": "True",
         "boxpoints": "all",
         "customdata": [
          [
           "ForecasterRecursiveMultiSeries",
           "ForecasterRecursiveMultiSeries_predict_exog_is_dict",
           "451898dccb92cc6f0a674d62eb66e4d8",
           0.0445398912878694,
           "2025-04-22T21:56:06.640060",
           "3.12.9",
           "2.2.5",
           "2.2.3",
           "1.6.1",
           "4.6.0",
           "Linux-6.11.0-21-generic-x86_64-with-glibc2.39",
           "x86_64",
           8,
           16.64
          ],
          [
           "ForecasterRecursiveMultiSeries",
           "ForecasterRecursiveMultiSeries_predict_exog_is_dict",
           "451898dccb92cc6f0a674d62eb66e4d8",
           0.06790947321137154,
           "2025-04-22T22:10:48.401687",
           "3.12.9",
           "1.26.4",
           "2.2.3",
           "1.6.1",
           "4.6.0",
           "Linux-6.11.0-21-generic-x86_64-with-glibc2.39",
           "x86_64",
           8,
           16.64
          ]
         ],
         "fillcolor": "rgba(255,255,255,0)",
         "hoveron": "points",
         "hovertemplate": "skforecast_version=%{x}<br>run_time_avg=%{y}<br>forecaster_name=%{customdata[0]}<br>function_name=%{customdata[1]}<br>function_hash=%{customdata[2]}<br>run_time_std_dev=%{customdata[3]}<br>datetime=%{customdata[4]}<br>python_version=%{customdata[5]}<br>numpy_version=%{customdata[6]}<br>pandas_version=%{customdata[7]}<br>sklearn_version=%{customdata[8]}<br>lightgbm_version=%{customdata[9]}<br>platform=%{customdata[10]}<br>processor=%{customdata[11]}<br>cpu_count=%{customdata[12]}<br>memory_gb=%{customdata[13]}<extra></extra>",
         "jitter": true,
         "legendgroup": "0.16.0",
         "line": {
          "color": "rgba(255,255,255,0)"
         },
         "marker": {
          "color": "#FFA15A",
          "opacity": 0.7,
          "size": 10
         },
         "name": "0.16.0",
         "offsetgroup": "0.16.0",
         "orientation": "v",
         "pointpos": 0,
         "showlegend": true,
         "type": "box",
         "x": [
          "0.16.0",
          "0.16.0"
         ],
         "x0": " ",
         "xaxis": "x",
         "y": {
          "bdata": "M7OcGxMt5z9mxuTySBjmPw==",
          "dtype": "f8"
         },
         "y0": " ",
         "yaxis": "y"
        },
        {
         "line": {
          "color": "black",
          "width": 2
         },
         "marker": {
          "size": 8
         },
         "mode": "lines+markers",
         "name": "Median",
         "showlegend": true,
         "type": "scatter",
         "x": [
          "0.12.0",
          "0.13.0",
          "0.14.0",
          "0.15.0",
          "0.16.0"
         ],
         "y": {
          "bdata": "84xvDYMPUkANK9wWjzxCQGam/lZ2Ovw/mn1w7lK8A0DMvEAHrqLmPw==",
          "dtype": "f8"
         }
        }
       ],
       "layout": {
        "boxmode": "overlay",
        "legend": {
         "title": {
          "text": "skforecast_version"
         },
         "tracegroupgap": 0
        },
        "margin": {
         "t": 60
        },
        "showlegend": true,
        "template": {
         "data": {
          "bar": [
           {
            "error_x": {
             "color": "#2a3f5f"
            },
            "error_y": {
             "color": "#2a3f5f"
            },
            "marker": {
             "line": {
              "color": "#E5ECF6",
              "width": 0.5
             },
             "pattern": {
              "fillmode": "overlay",
              "size": 10,
              "solidity": 0.2
             }
            },
            "type": "bar"
           }
          ],
          "barpolar": [
           {
            "marker": {
             "line": {
              "color": "#E5ECF6",
              "width": 0.5
             },
             "pattern": {
              "fillmode": "overlay",
              "size": 10,
              "solidity": 0.2
             }
            },
            "type": "barpolar"
           }
          ],
          "carpet": [
           {
            "aaxis": {
             "endlinecolor": "#2a3f5f",
             "gridcolor": "white",
             "linecolor": "white",
             "minorgridcolor": "white",
             "startlinecolor": "#2a3f5f"
            },
            "baxis": {
             "endlinecolor": "#2a3f5f",
             "gridcolor": "white",
             "linecolor": "white",
             "minorgridcolor": "white",
             "startlinecolor": "#2a3f5f"
            },
            "type": "carpet"
           }
          ],
          "choropleth": [
           {
            "colorbar": {
             "outlinewidth": 0,
             "ticks": ""
            },
            "type": "choropleth"
           }
          ],
          "contour": [
           {
            "colorbar": {
             "outlinewidth": 0,
             "ticks": ""
            },
            "colorscale": [
             [
              0,
              "#0d0887"
             ],
             [
              0.1111111111111111,
              "#46039f"
             ],
             [
              0.2222222222222222,
              "#7201a8"
             ],
             [
              0.3333333333333333,
              "#9c179e"
             ],
             [
              0.4444444444444444,
              "#bd3786"
             ],
             [
              0.5555555555555556,
              "#d8576b"
             ],
             [
              0.6666666666666666,
              "#ed7953"
             ],
             [
              0.7777777777777778,
              "#fb9f3a"
             ],
             [
              0.8888888888888888,
              "#fdca26"
             ],
             [
              1,
              "#f0f921"
             ]
            ],
            "type": "contour"
           }
          ],
          "contourcarpet": [
           {
            "colorbar": {
             "outlinewidth": 0,
             "ticks": ""
            },
            "type": "contourcarpet"
           }
          ],
          "heatmap": [
           {
            "colorbar": {
             "outlinewidth": 0,
             "ticks": ""
            },
            "colorscale": [
             [
              0,
              "#0d0887"
             ],
             [
              0.1111111111111111,
              "#46039f"
             ],
             [
              0.2222222222222222,
              "#7201a8"
             ],
             [
              0.3333333333333333,
              "#9c179e"
             ],
             [
              0.4444444444444444,
              "#bd3786"
             ],
             [
              0.5555555555555556,
              "#d8576b"
             ],
             [
              0.6666666666666666,
              "#ed7953"
             ],
             [
              0.7777777777777778,
              "#fb9f3a"
             ],
             [
              0.8888888888888888,
              "#fdca26"
             ],
             [
              1,
              "#f0f921"
             ]
            ],
            "type": "heatmap"
           }
          ],
          "histogram": [
           {
            "marker": {
             "pattern": {
              "fillmode": "overlay",
              "size": 10,
              "solidity": 0.2
             }
            },
            "type": "histogram"
           }
          ],
          "histogram2d": [
           {
            "colorbar": {
             "outlinewidth": 0,
             "ticks": ""
            },
            "colorscale": [
             [
              0,
              "#0d0887"
             ],
             [
              0.1111111111111111,
              "#46039f"
             ],
             [
              0.2222222222222222,
              "#7201a8"
             ],
             [
              0.3333333333333333,
              "#9c179e"
             ],
             [
              0.4444444444444444,
              "#bd3786"
             ],
             [
              0.5555555555555556,
              "#d8576b"
             ],
             [
              0.6666666666666666,
              "#ed7953"
             ],
             [
              0.7777777777777778,
              "#fb9f3a"
             ],
             [
              0.8888888888888888,
              "#fdca26"
             ],
             [
              1,
              "#f0f921"
             ]
            ],
            "type": "histogram2d"
           }
          ],
          "histogram2dcontour": [
           {
            "colorbar": {
             "outlinewidth": 0,
             "ticks": ""
            },
            "colorscale": [
             [
              0,
              "#0d0887"
             ],
             [
              0.1111111111111111,
              "#46039f"
             ],
             [
              0.2222222222222222,
              "#7201a8"
             ],
             [
              0.3333333333333333,
              "#9c179e"
             ],
             [
              0.4444444444444444,
              "#bd3786"
             ],
             [
              0.5555555555555556,
              "#d8576b"
             ],
             [
              0.6666666666666666,
              "#ed7953"
             ],
             [
              0.7777777777777778,
              "#fb9f3a"
             ],
             [
              0.8888888888888888,
              "#fdca26"
             ],
             [
              1,
              "#f0f921"
             ]
            ],
            "type": "histogram2dcontour"
           }
          ],
          "mesh3d": [
           {
            "colorbar": {
             "outlinewidth": 0,
             "ticks": ""
            },
            "type": "mesh3d"
           }
          ],
          "parcoords": [
           {
            "line": {
             "colorbar": {
              "outlinewidth": 0,
              "ticks": ""
             }
            },
            "type": "parcoords"
           }
          ],
          "pie": [
           {
            "automargin": true,
            "type": "pie"
           }
          ],
          "scatter": [
           {
            "fillpattern": {
             "fillmode": "overlay",
             "size": 10,
             "solidity": 0.2
            },
            "type": "scatter"
           }
          ],
          "scatter3d": [
           {
            "line": {
             "colorbar": {
              "outlinewidth": 0,
              "ticks": ""
             }
            },
            "marker": {
             "colorbar": {
              "outlinewidth": 0,
              "ticks": ""
             }
            },
            "type": "scatter3d"
           }
          ],
          "scattercarpet": [
           {
            "marker": {
             "colorbar": {
              "outlinewidth": 0,
              "ticks": ""
             }
            },
            "type": "scattercarpet"
           }
          ],
          "scattergeo": [
           {
            "marker": {
             "colorbar": {
              "outlinewidth": 0,
              "ticks": ""
             }
            },
            "type": "scattergeo"
           }
          ],
          "scattergl": [
           {
            "marker": {
             "colorbar": {
              "outlinewidth": 0,
              "ticks": ""
             }
            },
            "type": "scattergl"
           }
          ],
          "scattermap": [
           {
            "marker": {
             "colorbar": {
              "outlinewidth": 0,
              "ticks": ""
             }
            },
            "type": "scattermap"
           }
          ],
          "scattermapbox": [
           {
            "marker": {
             "colorbar": {
              "outlinewidth": 0,
              "ticks": ""
             }
            },
            "type": "scattermapbox"
           }
          ],
          "scatterpolar": [
           {
            "marker": {
             "colorbar": {
              "outlinewidth": 0,
              "ticks": ""
             }
            },
            "type": "scatterpolar"
           }
          ],
          "scatterpolargl": [
           {
            "marker": {
             "colorbar": {
              "outlinewidth": 0,
              "ticks": ""
             }
            },
            "type": "scatterpolargl"
           }
          ],
          "scatterternary": [
           {
            "marker": {
             "colorbar": {
              "outlinewidth": 0,
              "ticks": ""
             }
            },
            "type": "scatterternary"
           }
          ],
          "surface": [
           {
            "colorbar": {
             "outlinewidth": 0,
             "ticks": ""
            },
            "colorscale": [
             [
              0,
              "#0d0887"
             ],
             [
              0.1111111111111111,
              "#46039f"
             ],
             [
              0.2222222222222222,
              "#7201a8"
             ],
             [
              0.3333333333333333,
              "#9c179e"
             ],
             [
              0.4444444444444444,
              "#bd3786"
             ],
             [
              0.5555555555555556,
              "#d8576b"
             ],
             [
              0.6666666666666666,
              "#ed7953"
             ],
             [
              0.7777777777777778,
              "#fb9f3a"
             ],
             [
              0.8888888888888888,
              "#fdca26"
             ],
             [
              1,
              "#f0f921"
             ]
            ],
            "type": "surface"
           }
          ],
          "table": [
           {
            "cells": {
             "fill": {
              "color": "#EBF0F8"
             },
             "line": {
              "color": "white"
             }
            },
            "header": {
             "fill": {
              "color": "#C8D4E3"
             },
             "line": {
              "color": "white"
             }
            },
            "type": "table"
           }
          ]
         },
         "layout": {
          "annotationdefaults": {
           "arrowcolor": "#2a3f5f",
           "arrowhead": 0,
           "arrowwidth": 1
          },
          "autotypenumbers": "strict",
          "coloraxis": {
           "colorbar": {
            "outlinewidth": 0,
            "ticks": ""
           }
          },
          "colorscale": {
           "diverging": [
            [
             0,
             "#8e0152"
            ],
            [
             0.1,
             "#c51b7d"
            ],
            [
             0.2,
             "#de77ae"
            ],
            [
             0.3,
             "#f1b6da"
            ],
            [
             0.4,
             "#fde0ef"
            ],
            [
             0.5,
             "#f7f7f7"
            ],
            [
             0.6,
             "#e6f5d0"
            ],
            [
             0.7,
             "#b8e186"
            ],
            [
             0.8,
             "#7fbc41"
            ],
            [
             0.9,
             "#4d9221"
            ],
            [
             1,
             "#276419"
            ]
           ],
           "sequential": [
            [
             0,
             "#0d0887"
            ],
            [
             0.1111111111111111,
             "#46039f"
            ],
            [
             0.2222222222222222,
             "#7201a8"
            ],
            [
             0.3333333333333333,
             "#9c179e"
            ],
            [
             0.4444444444444444,
             "#bd3786"
            ],
            [
             0.5555555555555556,
             "#d8576b"
            ],
            [
             0.6666666666666666,
             "#ed7953"
            ],
            [
             0.7777777777777778,
             "#fb9f3a"
            ],
            [
             0.8888888888888888,
             "#fdca26"
            ],
            [
             1,
             "#f0f921"
            ]
           ],
           "sequentialminus": [
            [
             0,
             "#0d0887"
            ],
            [
             0.1111111111111111,
             "#46039f"
            ],
            [
             0.2222222222222222,
             "#7201a8"
            ],
            [
             0.3333333333333333,
             "#9c179e"
            ],
            [
             0.4444444444444444,
             "#bd3786"
            ],
            [
             0.5555555555555556,
             "#d8576b"
            ],
            [
             0.6666666666666666,
             "#ed7953"
            ],
            [
             0.7777777777777778,
             "#fb9f3a"
            ],
            [
             0.8888888888888888,
             "#fdca26"
            ],
            [
             1,
             "#f0f921"
            ]
           ]
          },
          "colorway": [
           "#636efa",
           "#EF553B",
           "#00cc96",
           "#ab63fa",
           "#FFA15A",
           "#19d3f3",
           "#FF6692",
           "#B6E880",
           "#FF97FF",
           "#FECB52"
          ],
          "font": {
           "color": "#2a3f5f"
          },
          "geo": {
           "bgcolor": "white",
           "lakecolor": "white",
           "landcolor": "#E5ECF6",
           "showlakes": true,
           "showland": true,
           "subunitcolor": "white"
          },
          "hoverlabel": {
           "align": "left"
          },
          "hovermode": "closest",
          "mapbox": {
           "style": "light"
          },
          "paper_bgcolor": "white",
          "plot_bgcolor": "#E5ECF6",
          "polar": {
           "angularaxis": {
            "gridcolor": "white",
            "linecolor": "white",
            "ticks": ""
           },
           "bgcolor": "#E5ECF6",
           "radialaxis": {
            "gridcolor": "white",
            "linecolor": "white",
            "ticks": ""
           }
          },
          "scene": {
           "xaxis": {
            "backgroundcolor": "#E5ECF6",
            "gridcolor": "white",
            "gridwidth": 2,
            "linecolor": "white",
            "showbackground": true,
            "ticks": "",
            "zerolinecolor": "white"
           },
           "yaxis": {
            "backgroundcolor": "#E5ECF6",
            "gridcolor": "white",
            "gridwidth": 2,
            "linecolor": "white",
            "showbackground": true,
            "ticks": "",
            "zerolinecolor": "white"
           },
           "zaxis": {
            "backgroundcolor": "#E5ECF6",
            "gridcolor": "white",
            "gridwidth": 2,
            "linecolor": "white",
            "showbackground": true,
            "ticks": "",
            "zerolinecolor": "white"
           }
          },
          "shapedefaults": {
           "line": {
            "color": "#2a3f5f"
           }
          },
          "ternary": {
           "aaxis": {
            "gridcolor": "white",
            "linecolor": "white",
            "ticks": ""
           },
           "baxis": {
            "gridcolor": "white",
            "linecolor": "white",
            "ticks": ""
           },
           "bgcolor": "#E5ECF6",
           "caxis": {
            "gridcolor": "white",
            "linecolor": "white",
            "ticks": ""
           }
          },
          "title": {
           "x": 0.05
          },
          "xaxis": {
           "automargin": true,
           "gridcolor": "white",
           "linecolor": "white",
           "ticks": "",
           "title": {
            "standoff": 15
           },
           "zerolinecolor": "white",
           "zerolinewidth": 2
          },
          "yaxis": {
           "automargin": true,
           "gridcolor": "white",
           "linecolor": "white",
           "ticks": "",
           "title": {
            "standoff": 15
           },
           "zerolinecolor": "white",
           "zerolinewidth": 2
          }
         }
        },
        "title": {
         "text": "Execution time of ForecasterRecursiveMultiSeries_predict_exog_is_dict"
        },
        "xaxis": {
         "anchor": "y",
         "categoryarray": [
          "0.12.0",
          "0.13.0",
          "0.14.0",
          "0.15.0",
          "0.16.0"
         ],
         "categoryorder": "array",
         "domain": [
          0,
          1
         ],
         "title": {
          "text": "skforecast version"
         }
        },
        "yaxis": {
         "anchor": "x",
         "domain": [
          0,
          1
         ],
         "title": {
          "text": "Execution time (seconds)"
         }
        }
       }
      }
     },
     "metadata": {},
     "output_type": "display_data"
    },
    {
     "data": {
      "application/vnd.microsoft.datawrangler.viewer.v0+json": {
       "columns": [
        {
         "name": "index",
         "rawType": "int64",
         "type": "integer"
        },
        {
         "name": "forecaster_name",
         "rawType": "object",
         "type": "string"
        },
        {
         "name": "function_name",
         "rawType": "object",
         "type": "string"
        },
        {
         "name": "function_hash",
         "rawType": "object",
         "type": "string"
        },
        {
         "name": "run_time_avg",
         "rawType": "float64",
         "type": "float"
        },
        {
         "name": "run_time_std_dev",
         "rawType": "float64",
         "type": "float"
        },
        {
         "name": "datetime",
         "rawType": "datetime64[ns]",
         "type": "datetime"
        },
        {
         "name": "python_version",
         "rawType": "object",
         "type": "string"
        },
        {
         "name": "skforecast_version",
         "rawType": "object",
         "type": "string"
        },
        {
         "name": "numpy_version",
         "rawType": "object",
         "type": "string"
        },
        {
         "name": "pandas_version",
         "rawType": "object",
         "type": "string"
        },
        {
         "name": "sklearn_version",
         "rawType": "object",
         "type": "string"
        },
        {
         "name": "lightgbm_version",
         "rawType": "object",
         "type": "string"
        },
        {
         "name": "platform",
         "rawType": "object",
         "type": "string"
        },
        {
         "name": "processor",
         "rawType": "object",
         "type": "string"
        },
        {
         "name": "cpu_count",
         "rawType": "int64",
         "type": "integer"
        },
        {
         "name": "memory_gb",
         "rawType": "float64",
         "type": "float"
        }
       ],
       "conversionMethod": "pd.DataFrame",
       "ref": "1513e2ff-f4d4-457d-9018-0294afb36566",
       "rows": [
        [
         "6",
         "ForecasterAutoregMultiSeries",
         "ForecasterRecursiveMultiSeries__create_predict_inputs_exog_is_dict",
         "52b1c12811cade5921c24c58d5503d03",
         null,
         null,
         "2025-04-22 21:10:20.071957",
         "3.12.9",
         "0.13.0",
         "1.26.4",
         "2.2.3",
         "1.4.2",
         "4.6.0",
         "Linux-6.11.0-21-generic-x86_64-with-glibc2.39",
         "x86_64",
         "8",
         "16.64"
        ],
        [
         "14",
         "ForecasterAutoregMultiSeries",
         "ForecasterRecursiveMultiSeries__create_predict_inputs_exog_is_dict",
         "52b1c12811cade5921c24c58d5503d03",
         null,
         null,
         "2025-04-22 21:20:27.279851",
         "3.12.9",
         "0.13.0",
         "1.26.4",
         "2.2.3",
         "1.4.2",
         "4.6.0",
         "Linux-6.11.0-21-generic-x86_64-with-glibc2.39",
         "x86_64",
         "8",
         "16.64"
        ],
        [
         "22",
         "ForecasterRecursiveMultiSeries",
         "ForecasterRecursiveMultiSeries__create_predict_inputs_exog_is_dict",
         "52b1c12811cade5921c24c58d5503d03",
         "1.8201113594000162",
         "0.13437081109973",
         "2025-04-22 21:24:08.314669",
         "3.12.9",
         "0.14.0",
         "1.26.4",
         "2.2.3",
         "1.4.2",
         "4.6.0",
         "Linux-6.11.0-21-generic-x86_64-with-glibc2.39",
         "x86_64",
         "8",
         "16.64"
        ],
        [
         "42",
         "ForecasterRecursiveMultiSeries",
         "ForecasterRecursiveMultiSeries__create_predict_inputs_exog_is_dict",
         "52b1c12811cade5921c24c58d5503d03",
         "1.7290334586001337",
         "0.16018017266156734",
         "2025-04-22 21:30:52.806205",
         "3.12.9",
         "0.14.0",
         "1.26.4",
         "2.2.3",
         "1.4.2",
         "4.6.0",
         "Linux-6.11.0-21-generic-x86_64-with-glibc2.39",
         "x86_64",
         "8",
         "16.64"
        ],
        [
         "54",
         "ForecasterRecursiveMultiSeries",
         "ForecasterRecursiveMultiSeries__create_predict_inputs_exog_is_dict",
         "52b1c12811cade5921c24c58d5503d03",
         "2.2969309693997273",
         "0.11085238501597489",
         "2025-04-22 21:35:22.142101",
         "3.12.9",
         "0.15.0",
         "1.26.4",
         "2.2.3",
         "1.4.2",
         "4.6.0",
         "Linux-6.11.0-21-generic-x86_64-with-glibc2.39",
         "x86_64",
         "8",
         "16.64"
        ],
        [
         "66",
         "ForecasterRecursiveMultiSeries",
         "ForecasterRecursiveMultiSeries__create_predict_inputs_exog_is_dict",
         "52b1c12811cade5921c24c58d5503d03",
         "2.097463099199922",
         "0.1078054172549375",
         "2025-04-22 21:46:19.017155",
         "3.12.9",
         "0.15.0",
         "2.2.5",
         "2.2.3",
         "1.6.1",
         "4.6.0",
         "Linux-6.11.0-21-generic-x86_64-with-glibc2.39",
         "x86_64",
         "8",
         "16.64"
        ],
        [
         "78",
         "ForecasterRecursiveMultiSeries",
         "ForecasterRecursiveMultiSeries__create_predict_inputs_exog_is_dict",
         "52b1c12811cade5921c24c58d5503d03",
         "0.3806484222004656",
         "0.023189332929970382",
         "2025-04-22 21:56:10.270907",
         "3.12.9",
         "0.16.0",
         "2.2.5",
         "2.2.3",
         "1.6.1",
         "4.6.0",
         "Linux-6.11.0-21-generic-x86_64-with-glibc2.39",
         "x86_64",
         "8",
         "16.64"
        ],
        [
         "90",
         "ForecasterRecursiveMultiSeries",
         "ForecasterRecursiveMultiSeries__create_predict_inputs_exog_is_dict",
         "52b1c12811cade5921c24c58d5503d03",
         "0.45466866560000196",
         "0.07156363900815163",
         "2025-04-22 22:10:51.864724",
         "3.12.9",
         "0.16.0",
         "1.26.4",
         "2.2.3",
         "1.6.1",
         "4.6.0",
         "Linux-6.11.0-21-generic-x86_64-with-glibc2.39",
         "x86_64",
         "8",
         "16.64"
        ],
        [
         "102",
         "ForecasterAutoregMultiSeries",
         "ForecasterRecursiveMultiSeries__create_predict_inputs_exog_is_dict",
         "52b1c12811cade5921c24c58d5503d03",
         null,
         null,
         "2025-04-22 22:25:46.204294",
         "3.12.9",
         "0.12.0",
         "1.26.4",
         "2.2.3",
         "1.4.2",
         "4.6.0",
         "Linux-6.11.0-21-generic-x86_64-with-glibc2.39",
         "x86_64",
         "8",
         "16.64"
        ],
        [
         "114",
         "ForecasterAutoregMultiSeries",
         "ForecasterRecursiveMultiSeries__create_predict_inputs_exog_is_dict",
         "52b1c12811cade5921c24c58d5503d03",
         null,
         null,
         "2025-04-22 22:39:41.319306",
         "3.12.9",
         "0.12.0",
         "1.26.4",
         "2.2.3",
         "1.4.2",
         "4.6.0",
         "Linux-6.11.0-21-generic-x86_64-with-glibc2.39",
         "x86_64",
         "8",
         "16.64"
        ]
       ],
       "shape": {
        "columns": 16,
        "rows": 10
       }
      },
      "text/html": [
       "<div>\n",
       "<style scoped>\n",
       "    .dataframe tbody tr th:only-of-type {\n",
       "        vertical-align: middle;\n",
       "    }\n",
       "\n",
       "    .dataframe tbody tr th {\n",
       "        vertical-align: top;\n",
       "    }\n",
       "\n",
       "    .dataframe thead th {\n",
       "        text-align: right;\n",
       "    }\n",
       "</style>\n",
       "<table border=\"1\" class=\"dataframe\">\n",
       "  <thead>\n",
       "    <tr style=\"text-align: right;\">\n",
       "      <th></th>\n",
       "      <th>forecaster_name</th>\n",
       "      <th>function_name</th>\n",
       "      <th>function_hash</th>\n",
       "      <th>run_time_avg</th>\n",
       "      <th>run_time_std_dev</th>\n",
       "      <th>datetime</th>\n",
       "      <th>python_version</th>\n",
       "      <th>skforecast_version</th>\n",
       "      <th>numpy_version</th>\n",
       "      <th>pandas_version</th>\n",
       "      <th>sklearn_version</th>\n",
       "      <th>lightgbm_version</th>\n",
       "      <th>platform</th>\n",
       "      <th>processor</th>\n",
       "      <th>cpu_count</th>\n",
       "      <th>memory_gb</th>\n",
       "    </tr>\n",
       "  </thead>\n",
       "  <tbody>\n",
       "    <tr>\n",
       "      <th>6</th>\n",
       "      <td>ForecasterAutoregMultiSeries</td>\n",
       "      <td>ForecasterRecursiveMultiSeries__create_predict...</td>\n",
       "      <td>52b1c12811cade5921c24c58d5503d03</td>\n",
       "      <td>NaN</td>\n",
       "      <td>NaN</td>\n",
       "      <td>2025-04-22 21:10:20.071957</td>\n",
       "      <td>3.12.9</td>\n",
       "      <td>0.13.0</td>\n",
       "      <td>1.26.4</td>\n",
       "      <td>2.2.3</td>\n",
       "      <td>1.4.2</td>\n",
       "      <td>4.6.0</td>\n",
       "      <td>Linux-6.11.0-21-generic-x86_64-with-glibc2.39</td>\n",
       "      <td>x86_64</td>\n",
       "      <td>8</td>\n",
       "      <td>16.64</td>\n",
       "    </tr>\n",
       "    <tr>\n",
       "      <th>14</th>\n",
       "      <td>ForecasterAutoregMultiSeries</td>\n",
       "      <td>ForecasterRecursiveMultiSeries__create_predict...</td>\n",
       "      <td>52b1c12811cade5921c24c58d5503d03</td>\n",
       "      <td>NaN</td>\n",
       "      <td>NaN</td>\n",
       "      <td>2025-04-22 21:20:27.279851</td>\n",
       "      <td>3.12.9</td>\n",
       "      <td>0.13.0</td>\n",
       "      <td>1.26.4</td>\n",
       "      <td>2.2.3</td>\n",
       "      <td>1.4.2</td>\n",
       "      <td>4.6.0</td>\n",
       "      <td>Linux-6.11.0-21-generic-x86_64-with-glibc2.39</td>\n",
       "      <td>x86_64</td>\n",
       "      <td>8</td>\n",
       "      <td>16.64</td>\n",
       "    </tr>\n",
       "    <tr>\n",
       "      <th>22</th>\n",
       "      <td>ForecasterRecursiveMultiSeries</td>\n",
       "      <td>ForecasterRecursiveMultiSeries__create_predict...</td>\n",
       "      <td>52b1c12811cade5921c24c58d5503d03</td>\n",
       "      <td>1.820111</td>\n",
       "      <td>0.134371</td>\n",
       "      <td>2025-04-22 21:24:08.314669</td>\n",
       "      <td>3.12.9</td>\n",
       "      <td>0.14.0</td>\n",
       "      <td>1.26.4</td>\n",
       "      <td>2.2.3</td>\n",
       "      <td>1.4.2</td>\n",
       "      <td>4.6.0</td>\n",
       "      <td>Linux-6.11.0-21-generic-x86_64-with-glibc2.39</td>\n",
       "      <td>x86_64</td>\n",
       "      <td>8</td>\n",
       "      <td>16.64</td>\n",
       "    </tr>\n",
       "    <tr>\n",
       "      <th>42</th>\n",
       "      <td>ForecasterRecursiveMultiSeries</td>\n",
       "      <td>ForecasterRecursiveMultiSeries__create_predict...</td>\n",
       "      <td>52b1c12811cade5921c24c58d5503d03</td>\n",
       "      <td>1.729033</td>\n",
       "      <td>0.160180</td>\n",
       "      <td>2025-04-22 21:30:52.806205</td>\n",
       "      <td>3.12.9</td>\n",
       "      <td>0.14.0</td>\n",
       "      <td>1.26.4</td>\n",
       "      <td>2.2.3</td>\n",
       "      <td>1.4.2</td>\n",
       "      <td>4.6.0</td>\n",
       "      <td>Linux-6.11.0-21-generic-x86_64-with-glibc2.39</td>\n",
       "      <td>x86_64</td>\n",
       "      <td>8</td>\n",
       "      <td>16.64</td>\n",
       "    </tr>\n",
       "    <tr>\n",
       "      <th>54</th>\n",
       "      <td>ForecasterRecursiveMultiSeries</td>\n",
       "      <td>ForecasterRecursiveMultiSeries__create_predict...</td>\n",
       "      <td>52b1c12811cade5921c24c58d5503d03</td>\n",
       "      <td>2.296931</td>\n",
       "      <td>0.110852</td>\n",
       "      <td>2025-04-22 21:35:22.142101</td>\n",
       "      <td>3.12.9</td>\n",
       "      <td>0.15.0</td>\n",
       "      <td>1.26.4</td>\n",
       "      <td>2.2.3</td>\n",
       "      <td>1.4.2</td>\n",
       "      <td>4.6.0</td>\n",
       "      <td>Linux-6.11.0-21-generic-x86_64-with-glibc2.39</td>\n",
       "      <td>x86_64</td>\n",
       "      <td>8</td>\n",
       "      <td>16.64</td>\n",
       "    </tr>\n",
       "    <tr>\n",
       "      <th>66</th>\n",
       "      <td>ForecasterRecursiveMultiSeries</td>\n",
       "      <td>ForecasterRecursiveMultiSeries__create_predict...</td>\n",
       "      <td>52b1c12811cade5921c24c58d5503d03</td>\n",
       "      <td>2.097463</td>\n",
       "      <td>0.107805</td>\n",
       "      <td>2025-04-22 21:46:19.017155</td>\n",
       "      <td>3.12.9</td>\n",
       "      <td>0.15.0</td>\n",
       "      <td>2.2.5</td>\n",
       "      <td>2.2.3</td>\n",
       "      <td>1.6.1</td>\n",
       "      <td>4.6.0</td>\n",
       "      <td>Linux-6.11.0-21-generic-x86_64-with-glibc2.39</td>\n",
       "      <td>x86_64</td>\n",
       "      <td>8</td>\n",
       "      <td>16.64</td>\n",
       "    </tr>\n",
       "    <tr>\n",
       "      <th>78</th>\n",
       "      <td>ForecasterRecursiveMultiSeries</td>\n",
       "      <td>ForecasterRecursiveMultiSeries__create_predict...</td>\n",
       "      <td>52b1c12811cade5921c24c58d5503d03</td>\n",
       "      <td>0.380648</td>\n",
       "      <td>0.023189</td>\n",
       "      <td>2025-04-22 21:56:10.270907</td>\n",
       "      <td>3.12.9</td>\n",
       "      <td>0.16.0</td>\n",
       "      <td>2.2.5</td>\n",
       "      <td>2.2.3</td>\n",
       "      <td>1.6.1</td>\n",
       "      <td>4.6.0</td>\n",
       "      <td>Linux-6.11.0-21-generic-x86_64-with-glibc2.39</td>\n",
       "      <td>x86_64</td>\n",
       "      <td>8</td>\n",
       "      <td>16.64</td>\n",
       "    </tr>\n",
       "    <tr>\n",
       "      <th>90</th>\n",
       "      <td>ForecasterRecursiveMultiSeries</td>\n",
       "      <td>ForecasterRecursiveMultiSeries__create_predict...</td>\n",
       "      <td>52b1c12811cade5921c24c58d5503d03</td>\n",
       "      <td>0.454669</td>\n",
       "      <td>0.071564</td>\n",
       "      <td>2025-04-22 22:10:51.864724</td>\n",
       "      <td>3.12.9</td>\n",
       "      <td>0.16.0</td>\n",
       "      <td>1.26.4</td>\n",
       "      <td>2.2.3</td>\n",
       "      <td>1.6.1</td>\n",
       "      <td>4.6.0</td>\n",
       "      <td>Linux-6.11.0-21-generic-x86_64-with-glibc2.39</td>\n",
       "      <td>x86_64</td>\n",
       "      <td>8</td>\n",
       "      <td>16.64</td>\n",
       "    </tr>\n",
       "    <tr>\n",
       "      <th>102</th>\n",
       "      <td>ForecasterAutoregMultiSeries</td>\n",
       "      <td>ForecasterRecursiveMultiSeries__create_predict...</td>\n",
       "      <td>52b1c12811cade5921c24c58d5503d03</td>\n",
       "      <td>NaN</td>\n",
       "      <td>NaN</td>\n",
       "      <td>2025-04-22 22:25:46.204294</td>\n",
       "      <td>3.12.9</td>\n",
       "      <td>0.12.0</td>\n",
       "      <td>1.26.4</td>\n",
       "      <td>2.2.3</td>\n",
       "      <td>1.4.2</td>\n",
       "      <td>4.6.0</td>\n",
       "      <td>Linux-6.11.0-21-generic-x86_64-with-glibc2.39</td>\n",
       "      <td>x86_64</td>\n",
       "      <td>8</td>\n",
       "      <td>16.64</td>\n",
       "    </tr>\n",
       "    <tr>\n",
       "      <th>114</th>\n",
       "      <td>ForecasterAutoregMultiSeries</td>\n",
       "      <td>ForecasterRecursiveMultiSeries__create_predict...</td>\n",
       "      <td>52b1c12811cade5921c24c58d5503d03</td>\n",
       "      <td>NaN</td>\n",
       "      <td>NaN</td>\n",
       "      <td>2025-04-22 22:39:41.319306</td>\n",
       "      <td>3.12.9</td>\n",
       "      <td>0.12.0</td>\n",
       "      <td>1.26.4</td>\n",
       "      <td>2.2.3</td>\n",
       "      <td>1.4.2</td>\n",
       "      <td>4.6.0</td>\n",
       "      <td>Linux-6.11.0-21-generic-x86_64-with-glibc2.39</td>\n",
       "      <td>x86_64</td>\n",
       "      <td>8</td>\n",
       "      <td>16.64</td>\n",
       "    </tr>\n",
       "  </tbody>\n",
       "</table>\n",
       "</div>"
      ],
      "text/plain": [
       "                    forecaster_name  \\\n",
       "6      ForecasterAutoregMultiSeries   \n",
       "14     ForecasterAutoregMultiSeries   \n",
       "22   ForecasterRecursiveMultiSeries   \n",
       "42   ForecasterRecursiveMultiSeries   \n",
       "54   ForecasterRecursiveMultiSeries   \n",
       "66   ForecasterRecursiveMultiSeries   \n",
       "78   ForecasterRecursiveMultiSeries   \n",
       "90   ForecasterRecursiveMultiSeries   \n",
       "102    ForecasterAutoregMultiSeries   \n",
       "114    ForecasterAutoregMultiSeries   \n",
       "\n",
       "                                         function_name  \\\n",
       "6    ForecasterRecursiveMultiSeries__create_predict...   \n",
       "14   ForecasterRecursiveMultiSeries__create_predict...   \n",
       "22   ForecasterRecursiveMultiSeries__create_predict...   \n",
       "42   ForecasterRecursiveMultiSeries__create_predict...   \n",
       "54   ForecasterRecursiveMultiSeries__create_predict...   \n",
       "66   ForecasterRecursiveMultiSeries__create_predict...   \n",
       "78   ForecasterRecursiveMultiSeries__create_predict...   \n",
       "90   ForecasterRecursiveMultiSeries__create_predict...   \n",
       "102  ForecasterRecursiveMultiSeries__create_predict...   \n",
       "114  ForecasterRecursiveMultiSeries__create_predict...   \n",
       "\n",
       "                        function_hash  run_time_avg  run_time_std_dev  \\\n",
       "6    52b1c12811cade5921c24c58d5503d03           NaN               NaN   \n",
       "14   52b1c12811cade5921c24c58d5503d03           NaN               NaN   \n",
       "22   52b1c12811cade5921c24c58d5503d03      1.820111          0.134371   \n",
       "42   52b1c12811cade5921c24c58d5503d03      1.729033          0.160180   \n",
       "54   52b1c12811cade5921c24c58d5503d03      2.296931          0.110852   \n",
       "66   52b1c12811cade5921c24c58d5503d03      2.097463          0.107805   \n",
       "78   52b1c12811cade5921c24c58d5503d03      0.380648          0.023189   \n",
       "90   52b1c12811cade5921c24c58d5503d03      0.454669          0.071564   \n",
       "102  52b1c12811cade5921c24c58d5503d03           NaN               NaN   \n",
       "114  52b1c12811cade5921c24c58d5503d03           NaN               NaN   \n",
       "\n",
       "                      datetime python_version skforecast_version  \\\n",
       "6   2025-04-22 21:10:20.071957         3.12.9             0.13.0   \n",
       "14  2025-04-22 21:20:27.279851         3.12.9             0.13.0   \n",
       "22  2025-04-22 21:24:08.314669         3.12.9             0.14.0   \n",
       "42  2025-04-22 21:30:52.806205         3.12.9             0.14.0   \n",
       "54  2025-04-22 21:35:22.142101         3.12.9             0.15.0   \n",
       "66  2025-04-22 21:46:19.017155         3.12.9             0.15.0   \n",
       "78  2025-04-22 21:56:10.270907         3.12.9             0.16.0   \n",
       "90  2025-04-22 22:10:51.864724         3.12.9             0.16.0   \n",
       "102 2025-04-22 22:25:46.204294         3.12.9             0.12.0   \n",
       "114 2025-04-22 22:39:41.319306         3.12.9             0.12.0   \n",
       "\n",
       "    numpy_version pandas_version sklearn_version lightgbm_version  \\\n",
       "6          1.26.4          2.2.3           1.4.2            4.6.0   \n",
       "14         1.26.4          2.2.3           1.4.2            4.6.0   \n",
       "22         1.26.4          2.2.3           1.4.2            4.6.0   \n",
       "42         1.26.4          2.2.3           1.4.2            4.6.0   \n",
       "54         1.26.4          2.2.3           1.4.2            4.6.0   \n",
       "66          2.2.5          2.2.3           1.6.1            4.6.0   \n",
       "78          2.2.5          2.2.3           1.6.1            4.6.0   \n",
       "90         1.26.4          2.2.3           1.6.1            4.6.0   \n",
       "102        1.26.4          2.2.3           1.4.2            4.6.0   \n",
       "114        1.26.4          2.2.3           1.4.2            4.6.0   \n",
       "\n",
       "                                          platform processor  cpu_count  \\\n",
       "6    Linux-6.11.0-21-generic-x86_64-with-glibc2.39    x86_64          8   \n",
       "14   Linux-6.11.0-21-generic-x86_64-with-glibc2.39    x86_64          8   \n",
       "22   Linux-6.11.0-21-generic-x86_64-with-glibc2.39    x86_64          8   \n",
       "42   Linux-6.11.0-21-generic-x86_64-with-glibc2.39    x86_64          8   \n",
       "54   Linux-6.11.0-21-generic-x86_64-with-glibc2.39    x86_64          8   \n",
       "66   Linux-6.11.0-21-generic-x86_64-with-glibc2.39    x86_64          8   \n",
       "78   Linux-6.11.0-21-generic-x86_64-with-glibc2.39    x86_64          8   \n",
       "90   Linux-6.11.0-21-generic-x86_64-with-glibc2.39    x86_64          8   \n",
       "102  Linux-6.11.0-21-generic-x86_64-with-glibc2.39    x86_64          8   \n",
       "114  Linux-6.11.0-21-generic-x86_64-with-glibc2.39    x86_64          8   \n",
       "\n",
       "     memory_gb  \n",
       "6        16.64  \n",
       "14       16.64  \n",
       "22       16.64  \n",
       "42       16.64  \n",
       "54       16.64  \n",
       "66       16.64  \n",
       "78       16.64  \n",
       "90       16.64  \n",
       "102      16.64  \n",
       "114      16.64  "
      ]
     },
     "metadata": {},
     "output_type": "display_data"
    },
    {
     "data": {
      "application/vnd.plotly.v1+json": {
       "config": {
        "plotlyServerURL": "https://plot.ly"
       },
       "data": [
        {
         "alignmentgroup": "True",
         "boxpoints": "all",
         "customdata": [
          [
           "ForecasterAutoregMultiSeries",
           "ForecasterRecursiveMultiSeries__create_predict_inputs_exog_is_dict",
           "52b1c12811cade5921c24c58d5503d03",
           null,
           "2025-04-22T22:25:46.204294",
           "3.12.9",
           "1.26.4",
           "2.2.3",
           "1.4.2",
           "4.6.0",
           "Linux-6.11.0-21-generic-x86_64-with-glibc2.39",
           "x86_64",
           8,
           16.64
          ],
          [
           "ForecasterAutoregMultiSeries",
           "ForecasterRecursiveMultiSeries__create_predict_inputs_exog_is_dict",
           "52b1c12811cade5921c24c58d5503d03",
           null,
           "2025-04-22T22:39:41.319306",
           "3.12.9",
           "1.26.4",
           "2.2.3",
           "1.4.2",
           "4.6.0",
           "Linux-6.11.0-21-generic-x86_64-with-glibc2.39",
           "x86_64",
           8,
           16.64
          ]
         ],
         "fillcolor": "rgba(255,255,255,0)",
         "hoveron": "points",
         "hovertemplate": "skforecast_version=%{x}<br>run_time_avg=%{y}<br>forecaster_name=%{customdata[0]}<br>function_name=%{customdata[1]}<br>function_hash=%{customdata[2]}<br>run_time_std_dev=%{customdata[3]}<br>datetime=%{customdata[4]}<br>python_version=%{customdata[5]}<br>numpy_version=%{customdata[6]}<br>pandas_version=%{customdata[7]}<br>sklearn_version=%{customdata[8]}<br>lightgbm_version=%{customdata[9]}<br>platform=%{customdata[10]}<br>processor=%{customdata[11]}<br>cpu_count=%{customdata[12]}<br>memory_gb=%{customdata[13]}<extra></extra>",
         "jitter": true,
         "legendgroup": "0.12.0",
         "line": {
          "color": "rgba(255,255,255,0)"
         },
         "marker": {
          "color": "#636efa",
          "opacity": 0.7,
          "size": 10
         },
         "name": "0.12.0",
         "offsetgroup": "0.12.0",
         "orientation": "v",
         "pointpos": 0,
         "showlegend": true,
         "type": "box",
         "x": [
          "0.12.0",
          "0.12.0"
         ],
         "x0": " ",
         "xaxis": "x",
         "y": {
          "bdata": "AAAAAAAA+H8AAAAAAAD4fw==",
          "dtype": "f8"
         },
         "y0": " ",
         "yaxis": "y"
        },
        {
         "alignmentgroup": "True",
         "boxpoints": "all",
         "customdata": [
          [
           "ForecasterAutoregMultiSeries",
           "ForecasterRecursiveMultiSeries__create_predict_inputs_exog_is_dict",
           "52b1c12811cade5921c24c58d5503d03",
           null,
           "2025-04-22T21:10:20.071957",
           "3.12.9",
           "1.26.4",
           "2.2.3",
           "1.4.2",
           "4.6.0",
           "Linux-6.11.0-21-generic-x86_64-with-glibc2.39",
           "x86_64",
           8,
           16.64
          ],
          [
           "ForecasterAutoregMultiSeries",
           "ForecasterRecursiveMultiSeries__create_predict_inputs_exog_is_dict",
           "52b1c12811cade5921c24c58d5503d03",
           null,
           "2025-04-22T21:20:27.279851",
           "3.12.9",
           "1.26.4",
           "2.2.3",
           "1.4.2",
           "4.6.0",
           "Linux-6.11.0-21-generic-x86_64-with-glibc2.39",
           "x86_64",
           8,
           16.64
          ]
         ],
         "fillcolor": "rgba(255,255,255,0)",
         "hoveron": "points",
         "hovertemplate": "skforecast_version=%{x}<br>run_time_avg=%{y}<br>forecaster_name=%{customdata[0]}<br>function_name=%{customdata[1]}<br>function_hash=%{customdata[2]}<br>run_time_std_dev=%{customdata[3]}<br>datetime=%{customdata[4]}<br>python_version=%{customdata[5]}<br>numpy_version=%{customdata[6]}<br>pandas_version=%{customdata[7]}<br>sklearn_version=%{customdata[8]}<br>lightgbm_version=%{customdata[9]}<br>platform=%{customdata[10]}<br>processor=%{customdata[11]}<br>cpu_count=%{customdata[12]}<br>memory_gb=%{customdata[13]}<extra></extra>",
         "jitter": true,
         "legendgroup": "0.13.0",
         "line": {
          "color": "rgba(255,255,255,0)"
         },
         "marker": {
          "color": "#EF553B",
          "opacity": 0.7,
          "size": 10
         },
         "name": "0.13.0",
         "offsetgroup": "0.13.0",
         "orientation": "v",
         "pointpos": 0,
         "showlegend": true,
         "type": "box",
         "x": [
          "0.13.0",
          "0.13.0"
         ],
         "x0": " ",
         "xaxis": "x",
         "y": {
          "bdata": "AAAAAAAA+H8AAAAAAAD4fw==",
          "dtype": "f8"
         },
         "y0": " ",
         "yaxis": "y"
        },
        {
         "alignmentgroup": "True",
         "boxpoints": "all",
         "customdata": [
          [
           "ForecasterRecursiveMultiSeries",
           "ForecasterRecursiveMultiSeries__create_predict_inputs_exog_is_dict",
           "52b1c12811cade5921c24c58d5503d03",
           0.13437081109973,
           "2025-04-22T21:24:08.314669",
           "3.12.9",
           "1.26.4",
           "2.2.3",
           "1.4.2",
           "4.6.0",
           "Linux-6.11.0-21-generic-x86_64-with-glibc2.39",
           "x86_64",
           8,
           16.64
          ],
          [
           "ForecasterRecursiveMultiSeries",
           "ForecasterRecursiveMultiSeries__create_predict_inputs_exog_is_dict",
           "52b1c12811cade5921c24c58d5503d03",
           0.16018017266156734,
           "2025-04-22T21:30:52.806205",
           "3.12.9",
           "1.26.4",
           "2.2.3",
           "1.4.2",
           "4.6.0",
           "Linux-6.11.0-21-generic-x86_64-with-glibc2.39",
           "x86_64",
           8,
           16.64
          ]
         ],
         "fillcolor": "rgba(255,255,255,0)",
         "hoveron": "points",
         "hovertemplate": "skforecast_version=%{x}<br>run_time_avg=%{y}<br>forecaster_name=%{customdata[0]}<br>function_name=%{customdata[1]}<br>function_hash=%{customdata[2]}<br>run_time_std_dev=%{customdata[3]}<br>datetime=%{customdata[4]}<br>python_version=%{customdata[5]}<br>numpy_version=%{customdata[6]}<br>pandas_version=%{customdata[7]}<br>sklearn_version=%{customdata[8]}<br>lightgbm_version=%{customdata[9]}<br>platform=%{customdata[10]}<br>processor=%{customdata[11]}<br>cpu_count=%{customdata[12]}<br>memory_gb=%{customdata[13]}<extra></extra>",
         "jitter": true,
         "legendgroup": "0.14.0",
         "line": {
          "color": "rgba(255,255,255,0)"
         },
         "marker": {
          "color": "#00cc96",
          "opacity": 0.7,
          "size": 10
         },
         "name": "0.14.0",
         "offsetgroup": "0.14.0",
         "orientation": "v",
         "pointpos": 0,
         "showlegend": true,
         "type": "box",
         "x": [
          "0.14.0",
          "0.14.0"
         ],
         "x0": " ",
         "xaxis": "x",
         "y": {
          "bdata": "ADi7Fi0f/T+aCeb8Hqr7Pw==",
          "dtype": "f8"
         },
         "y0": " ",
         "yaxis": "y"
        },
        {
         "alignmentgroup": "True",
         "boxpoints": "all",
         "customdata": [
          [
           "ForecasterRecursiveMultiSeries",
           "ForecasterRecursiveMultiSeries__create_predict_inputs_exog_is_dict",
           "52b1c12811cade5921c24c58d5503d03",
           0.11085238501597489,
           "2025-04-22T21:35:22.142101",
           "3.12.9",
           "1.26.4",
           "2.2.3",
           "1.4.2",
           "4.6.0",
           "Linux-6.11.0-21-generic-x86_64-with-glibc2.39",
           "x86_64",
           8,
           16.64
          ],
          [
           "ForecasterRecursiveMultiSeries",
           "ForecasterRecursiveMultiSeries__create_predict_inputs_exog_is_dict",
           "52b1c12811cade5921c24c58d5503d03",
           0.1078054172549375,
           "2025-04-22T21:46:19.017155",
           "3.12.9",
           "2.2.5",
           "2.2.3",
           "1.6.1",
           "4.6.0",
           "Linux-6.11.0-21-generic-x86_64-with-glibc2.39",
           "x86_64",
           8,
           16.64
          ]
         ],
         "fillcolor": "rgba(255,255,255,0)",
         "hoveron": "points",
         "hovertemplate": "skforecast_version=%{x}<br>run_time_avg=%{y}<br>forecaster_name=%{customdata[0]}<br>function_name=%{customdata[1]}<br>function_hash=%{customdata[2]}<br>run_time_std_dev=%{customdata[3]}<br>datetime=%{customdata[4]}<br>python_version=%{customdata[5]}<br>numpy_version=%{customdata[6]}<br>pandas_version=%{customdata[7]}<br>sklearn_version=%{customdata[8]}<br>lightgbm_version=%{customdata[9]}<br>platform=%{customdata[10]}<br>processor=%{customdata[11]}<br>cpu_count=%{customdata[12]}<br>memory_gb=%{customdata[13]}<extra></extra>",
         "jitter": true,
         "legendgroup": "0.15.0",
         "line": {
          "color": "rgba(255,255,255,0)"
         },
         "marker": {
          "color": "#ab63fa",
          "opacity": 0.7,
          "size": 10
         },
         "name": "0.15.0",
         "offsetgroup": "0.15.0",
         "orientation": "v",
         "pointpos": 0,
         "showlegend": true,
         "type": "box",
         "x": [
          "0.15.0",
          "0.15.0"
         ],
         "x0": " ",
         "xaxis": "x",
         "y": {
          "bdata": "Zu4VWB1gAkAzC727mscAQA==",
          "dtype": "f8"
         },
         "y0": " ",
         "yaxis": "y"
        },
        {
         "alignmentgroup": "True",
         "boxpoints": "all",
         "customdata": [
          [
           "ForecasterRecursiveMultiSeries",
           "ForecasterRecursiveMultiSeries__create_predict_inputs_exog_is_dict",
           "52b1c12811cade5921c24c58d5503d03",
           0.023189332929970382,
           "2025-04-22T21:56:10.270907",
           "3.12.9",
           "2.2.5",
           "2.2.3",
           "1.6.1",
           "4.6.0",
           "Linux-6.11.0-21-generic-x86_64-with-glibc2.39",
           "x86_64",
           8,
           16.64
          ],
          [
           "ForecasterRecursiveMultiSeries",
           "ForecasterRecursiveMultiSeries__create_predict_inputs_exog_is_dict",
           "52b1c12811cade5921c24c58d5503d03",
           0.07156363900815163,
           "2025-04-22T22:10:51.864724",
           "3.12.9",
           "1.26.4",
           "2.2.3",
           "1.6.1",
           "4.6.0",
           "Linux-6.11.0-21-generic-x86_64-with-glibc2.39",
           "x86_64",
           8,
           16.64
          ]
         ],
         "fillcolor": "rgba(255,255,255,0)",
         "hoveron": "points",
         "hovertemplate": "skforecast_version=%{x}<br>run_time_avg=%{y}<br>forecaster_name=%{customdata[0]}<br>function_name=%{customdata[1]}<br>function_hash=%{customdata[2]}<br>run_time_std_dev=%{customdata[3]}<br>datetime=%{customdata[4]}<br>python_version=%{customdata[5]}<br>numpy_version=%{customdata[6]}<br>pandas_version=%{customdata[7]}<br>sklearn_version=%{customdata[8]}<br>lightgbm_version=%{customdata[9]}<br>platform=%{customdata[10]}<br>processor=%{customdata[11]}<br>cpu_count=%{customdata[12]}<br>memory_gb=%{customdata[13]}<extra></extra>",
         "jitter": true,
         "legendgroup": "0.16.0",
         "line": {
          "color": "rgba(255,255,255,0)"
         },
         "marker": {
          "color": "#FFA15A",
          "opacity": 0.7,
          "size": 10
         },
         "name": "0.16.0",
         "offsetgroup": "0.16.0",
         "orientation": "v",
         "pointpos": 0,
         "showlegend": true,
         "type": "box",
         "x": [
          "0.16.0",
          "0.16.0"
         ],
         "x0": " ",
         "xaxis": "x",
         "y": {
          "bdata": "AAAoM4tc2D9mJlGaShndPw==",
          "dtype": "f8"
         },
         "y0": " ",
         "yaxis": "y"
        },
        {
         "line": {
          "color": "black",
          "width": 2
         },
         "marker": {
          "size": 8
         },
         "mode": "lines+markers",
         "name": "Median",
         "showlegend": true,
         "type": "scatter",
         "x": [
          "0.12.0",
          "0.13.0",
          "0.14.0",
          "0.15.0",
          "0.16.0"
         ],
         "y": {
          "bdata": "AAAAAAAA+H8AAAAAAAD4f82g0AmmZPw/zHzpCdyTAUAzk7zm6rraPw==",
          "dtype": "f8"
         }
        }
       ],
       "layout": {
        "boxmode": "overlay",
        "legend": {
         "title": {
          "text": "skforecast_version"
         },
         "tracegroupgap": 0
        },
        "margin": {
         "t": 60
        },
        "showlegend": true,
        "template": {
         "data": {
          "bar": [
           {
            "error_x": {
             "color": "#2a3f5f"
            },
            "error_y": {
             "color": "#2a3f5f"
            },
            "marker": {
             "line": {
              "color": "#E5ECF6",
              "width": 0.5
             },
             "pattern": {
              "fillmode": "overlay",
              "size": 10,
              "solidity": 0.2
             }
            },
            "type": "bar"
           }
          ],
          "barpolar": [
           {
            "marker": {
             "line": {
              "color": "#E5ECF6",
              "width": 0.5
             },
             "pattern": {
              "fillmode": "overlay",
              "size": 10,
              "solidity": 0.2
             }
            },
            "type": "barpolar"
           }
          ],
          "carpet": [
           {
            "aaxis": {
             "endlinecolor": "#2a3f5f",
             "gridcolor": "white",
             "linecolor": "white",
             "minorgridcolor": "white",
             "startlinecolor": "#2a3f5f"
            },
            "baxis": {
             "endlinecolor": "#2a3f5f",
             "gridcolor": "white",
             "linecolor": "white",
             "minorgridcolor": "white",
             "startlinecolor": "#2a3f5f"
            },
            "type": "carpet"
           }
          ],
          "choropleth": [
           {
            "colorbar": {
             "outlinewidth": 0,
             "ticks": ""
            },
            "type": "choropleth"
           }
          ],
          "contour": [
           {
            "colorbar": {
             "outlinewidth": 0,
             "ticks": ""
            },
            "colorscale": [
             [
              0,
              "#0d0887"
             ],
             [
              0.1111111111111111,
              "#46039f"
             ],
             [
              0.2222222222222222,
              "#7201a8"
             ],
             [
              0.3333333333333333,
              "#9c179e"
             ],
             [
              0.4444444444444444,
              "#bd3786"
             ],
             [
              0.5555555555555556,
              "#d8576b"
             ],
             [
              0.6666666666666666,
              "#ed7953"
             ],
             [
              0.7777777777777778,
              "#fb9f3a"
             ],
             [
              0.8888888888888888,
              "#fdca26"
             ],
             [
              1,
              "#f0f921"
             ]
            ],
            "type": "contour"
           }
          ],
          "contourcarpet": [
           {
            "colorbar": {
             "outlinewidth": 0,
             "ticks": ""
            },
            "type": "contourcarpet"
           }
          ],
          "heatmap": [
           {
            "colorbar": {
             "outlinewidth": 0,
             "ticks": ""
            },
            "colorscale": [
             [
              0,
              "#0d0887"
             ],
             [
              0.1111111111111111,
              "#46039f"
             ],
             [
              0.2222222222222222,
              "#7201a8"
             ],
             [
              0.3333333333333333,
              "#9c179e"
             ],
             [
              0.4444444444444444,
              "#bd3786"
             ],
             [
              0.5555555555555556,
              "#d8576b"
             ],
             [
              0.6666666666666666,
              "#ed7953"
             ],
             [
              0.7777777777777778,
              "#fb9f3a"
             ],
             [
              0.8888888888888888,
              "#fdca26"
             ],
             [
              1,
              "#f0f921"
             ]
            ],
            "type": "heatmap"
           }
          ],
          "histogram": [
           {
            "marker": {
             "pattern": {
              "fillmode": "overlay",
              "size": 10,
              "solidity": 0.2
             }
            },
            "type": "histogram"
           }
          ],
          "histogram2d": [
           {
            "colorbar": {
             "outlinewidth": 0,
             "ticks": ""
            },
            "colorscale": [
             [
              0,
              "#0d0887"
             ],
             [
              0.1111111111111111,
              "#46039f"
             ],
             [
              0.2222222222222222,
              "#7201a8"
             ],
             [
              0.3333333333333333,
              "#9c179e"
             ],
             [
              0.4444444444444444,
              "#bd3786"
             ],
             [
              0.5555555555555556,
              "#d8576b"
             ],
             [
              0.6666666666666666,
              "#ed7953"
             ],
             [
              0.7777777777777778,
              "#fb9f3a"
             ],
             [
              0.8888888888888888,
              "#fdca26"
             ],
             [
              1,
              "#f0f921"
             ]
            ],
            "type": "histogram2d"
           }
          ],
          "histogram2dcontour": [
           {
            "colorbar": {
             "outlinewidth": 0,
             "ticks": ""
            },
            "colorscale": [
             [
              0,
              "#0d0887"
             ],
             [
              0.1111111111111111,
              "#46039f"
             ],
             [
              0.2222222222222222,
              "#7201a8"
             ],
             [
              0.3333333333333333,
              "#9c179e"
             ],
             [
              0.4444444444444444,
              "#bd3786"
             ],
             [
              0.5555555555555556,
              "#d8576b"
             ],
             [
              0.6666666666666666,
              "#ed7953"
             ],
             [
              0.7777777777777778,
              "#fb9f3a"
             ],
             [
              0.8888888888888888,
              "#fdca26"
             ],
             [
              1,
              "#f0f921"
             ]
            ],
            "type": "histogram2dcontour"
           }
          ],
          "mesh3d": [
           {
            "colorbar": {
             "outlinewidth": 0,
             "ticks": ""
            },
            "type": "mesh3d"
           }
          ],
          "parcoords": [
           {
            "line": {
             "colorbar": {
              "outlinewidth": 0,
              "ticks": ""
             }
            },
            "type": "parcoords"
           }
          ],
          "pie": [
           {
            "automargin": true,
            "type": "pie"
           }
          ],
          "scatter": [
           {
            "fillpattern": {
             "fillmode": "overlay",
             "size": 10,
             "solidity": 0.2
            },
            "type": "scatter"
           }
          ],
          "scatter3d": [
           {
            "line": {
             "colorbar": {
              "outlinewidth": 0,
              "ticks": ""
             }
            },
            "marker": {
             "colorbar": {
              "outlinewidth": 0,
              "ticks": ""
             }
            },
            "type": "scatter3d"
           }
          ],
          "scattercarpet": [
           {
            "marker": {
             "colorbar": {
              "outlinewidth": 0,
              "ticks": ""
             }
            },
            "type": "scattercarpet"
           }
          ],
          "scattergeo": [
           {
            "marker": {
             "colorbar": {
              "outlinewidth": 0,
              "ticks": ""
             }
            },
            "type": "scattergeo"
           }
          ],
          "scattergl": [
           {
            "marker": {
             "colorbar": {
              "outlinewidth": 0,
              "ticks": ""
             }
            },
            "type": "scattergl"
           }
          ],
          "scattermap": [
           {
            "marker": {
             "colorbar": {
              "outlinewidth": 0,
              "ticks": ""
             }
            },
            "type": "scattermap"
           }
          ],
          "scattermapbox": [
           {
            "marker": {
             "colorbar": {
              "outlinewidth": 0,
              "ticks": ""
             }
            },
            "type": "scattermapbox"
           }
          ],
          "scatterpolar": [
           {
            "marker": {
             "colorbar": {
              "outlinewidth": 0,
              "ticks": ""
             }
            },
            "type": "scatterpolar"
           }
          ],
          "scatterpolargl": [
           {
            "marker": {
             "colorbar": {
              "outlinewidth": 0,
              "ticks": ""
             }
            },
            "type": "scatterpolargl"
           }
          ],
          "scatterternary": [
           {
            "marker": {
             "colorbar": {
              "outlinewidth": 0,
              "ticks": ""
             }
            },
            "type": "scatterternary"
           }
          ],
          "surface": [
           {
            "colorbar": {
             "outlinewidth": 0,
             "ticks": ""
            },
            "colorscale": [
             [
              0,
              "#0d0887"
             ],
             [
              0.1111111111111111,
              "#46039f"
             ],
             [
              0.2222222222222222,
              "#7201a8"
             ],
             [
              0.3333333333333333,
              "#9c179e"
             ],
             [
              0.4444444444444444,
              "#bd3786"
             ],
             [
              0.5555555555555556,
              "#d8576b"
             ],
             [
              0.6666666666666666,
              "#ed7953"
             ],
             [
              0.7777777777777778,
              "#fb9f3a"
             ],
             [
              0.8888888888888888,
              "#fdca26"
             ],
             [
              1,
              "#f0f921"
             ]
            ],
            "type": "surface"
           }
          ],
          "table": [
           {
            "cells": {
             "fill": {
              "color": "#EBF0F8"
             },
             "line": {
              "color": "white"
             }
            },
            "header": {
             "fill": {
              "color": "#C8D4E3"
             },
             "line": {
              "color": "white"
             }
            },
            "type": "table"
           }
          ]
         },
         "layout": {
          "annotationdefaults": {
           "arrowcolor": "#2a3f5f",
           "arrowhead": 0,
           "arrowwidth": 1
          },
          "autotypenumbers": "strict",
          "coloraxis": {
           "colorbar": {
            "outlinewidth": 0,
            "ticks": ""
           }
          },
          "colorscale": {
           "diverging": [
            [
             0,
             "#8e0152"
            ],
            [
             0.1,
             "#c51b7d"
            ],
            [
             0.2,
             "#de77ae"
            ],
            [
             0.3,
             "#f1b6da"
            ],
            [
             0.4,
             "#fde0ef"
            ],
            [
             0.5,
             "#f7f7f7"
            ],
            [
             0.6,
             "#e6f5d0"
            ],
            [
             0.7,
             "#b8e186"
            ],
            [
             0.8,
             "#7fbc41"
            ],
            [
             0.9,
             "#4d9221"
            ],
            [
             1,
             "#276419"
            ]
           ],
           "sequential": [
            [
             0,
             "#0d0887"
            ],
            [
             0.1111111111111111,
             "#46039f"
            ],
            [
             0.2222222222222222,
             "#7201a8"
            ],
            [
             0.3333333333333333,
             "#9c179e"
            ],
            [
             0.4444444444444444,
             "#bd3786"
            ],
            [
             0.5555555555555556,
             "#d8576b"
            ],
            [
             0.6666666666666666,
             "#ed7953"
            ],
            [
             0.7777777777777778,
             "#fb9f3a"
            ],
            [
             0.8888888888888888,
             "#fdca26"
            ],
            [
             1,
             "#f0f921"
            ]
           ],
           "sequentialminus": [
            [
             0,
             "#0d0887"
            ],
            [
             0.1111111111111111,
             "#46039f"
            ],
            [
             0.2222222222222222,
             "#7201a8"
            ],
            [
             0.3333333333333333,
             "#9c179e"
            ],
            [
             0.4444444444444444,
             "#bd3786"
            ],
            [
             0.5555555555555556,
             "#d8576b"
            ],
            [
             0.6666666666666666,
             "#ed7953"
            ],
            [
             0.7777777777777778,
             "#fb9f3a"
            ],
            [
             0.8888888888888888,
             "#fdca26"
            ],
            [
             1,
             "#f0f921"
            ]
           ]
          },
          "colorway": [
           "#636efa",
           "#EF553B",
           "#00cc96",
           "#ab63fa",
           "#FFA15A",
           "#19d3f3",
           "#FF6692",
           "#B6E880",
           "#FF97FF",
           "#FECB52"
          ],
          "font": {
           "color": "#2a3f5f"
          },
          "geo": {
           "bgcolor": "white",
           "lakecolor": "white",
           "landcolor": "#E5ECF6",
           "showlakes": true,
           "showland": true,
           "subunitcolor": "white"
          },
          "hoverlabel": {
           "align": "left"
          },
          "hovermode": "closest",
          "mapbox": {
           "style": "light"
          },
          "paper_bgcolor": "white",
          "plot_bgcolor": "#E5ECF6",
          "polar": {
           "angularaxis": {
            "gridcolor": "white",
            "linecolor": "white",
            "ticks": ""
           },
           "bgcolor": "#E5ECF6",
           "radialaxis": {
            "gridcolor": "white",
            "linecolor": "white",
            "ticks": ""
           }
          },
          "scene": {
           "xaxis": {
            "backgroundcolor": "#E5ECF6",
            "gridcolor": "white",
            "gridwidth": 2,
            "linecolor": "white",
            "showbackground": true,
            "ticks": "",
            "zerolinecolor": "white"
           },
           "yaxis": {
            "backgroundcolor": "#E5ECF6",
            "gridcolor": "white",
            "gridwidth": 2,
            "linecolor": "white",
            "showbackground": true,
            "ticks": "",
            "zerolinecolor": "white"
           },
           "zaxis": {
            "backgroundcolor": "#E5ECF6",
            "gridcolor": "white",
            "gridwidth": 2,
            "linecolor": "white",
            "showbackground": true,
            "ticks": "",
            "zerolinecolor": "white"
           }
          },
          "shapedefaults": {
           "line": {
            "color": "#2a3f5f"
           }
          },
          "ternary": {
           "aaxis": {
            "gridcolor": "white",
            "linecolor": "white",
            "ticks": ""
           },
           "baxis": {
            "gridcolor": "white",
            "linecolor": "white",
            "ticks": ""
           },
           "bgcolor": "#E5ECF6",
           "caxis": {
            "gridcolor": "white",
            "linecolor": "white",
            "ticks": ""
           }
          },
          "title": {
           "x": 0.05
          },
          "xaxis": {
           "automargin": true,
           "gridcolor": "white",
           "linecolor": "white",
           "ticks": "",
           "title": {
            "standoff": 15
           },
           "zerolinecolor": "white",
           "zerolinewidth": 2
          },
          "yaxis": {
           "automargin": true,
           "gridcolor": "white",
           "linecolor": "white",
           "ticks": "",
           "title": {
            "standoff": 15
           },
           "zerolinecolor": "white",
           "zerolinewidth": 2
          }
         }
        },
        "title": {
         "text": "Execution time of ForecasterRecursiveMultiSeries__create_predict_inputs_exog_is_dict"
        },
        "xaxis": {
         "anchor": "y",
         "categoryarray": [
          "0.12.0",
          "0.13.0",
          "0.14.0",
          "0.15.0",
          "0.16.0"
         ],
         "categoryorder": "array",
         "domain": [
          0,
          1
         ],
         "title": {
          "text": "skforecast version"
         }
        },
        "yaxis": {
         "anchor": "x",
         "domain": [
          0,
          1
         ],
         "title": {
          "text": "Execution time (seconds)"
         }
        }
       }
      }
     },
     "metadata": {},
     "output_type": "display_data"
    },
    {
     "data": {
      "application/vnd.microsoft.datawrangler.viewer.v0+json": {
       "columns": [
        {
         "name": "index",
         "rawType": "int64",
         "type": "integer"
        },
        {
         "name": "forecaster_name",
         "rawType": "object",
         "type": "string"
        },
        {
         "name": "function_name",
         "rawType": "object",
         "type": "string"
        },
        {
         "name": "function_hash",
         "rawType": "object",
         "type": "string"
        },
        {
         "name": "run_time_avg",
         "rawType": "float64",
         "type": "float"
        },
        {
         "name": "run_time_std_dev",
         "rawType": "float64",
         "type": "float"
        },
        {
         "name": "datetime",
         "rawType": "datetime64[ns]",
         "type": "datetime"
        },
        {
         "name": "python_version",
         "rawType": "object",
         "type": "string"
        },
        {
         "name": "skforecast_version",
         "rawType": "object",
         "type": "string"
        },
        {
         "name": "numpy_version",
         "rawType": "object",
         "type": "string"
        },
        {
         "name": "pandas_version",
         "rawType": "object",
         "type": "string"
        },
        {
         "name": "sklearn_version",
         "rawType": "object",
         "type": "string"
        },
        {
         "name": "lightgbm_version",
         "rawType": "object",
         "type": "string"
        },
        {
         "name": "platform",
         "rawType": "object",
         "type": "string"
        },
        {
         "name": "processor",
         "rawType": "object",
         "type": "string"
        },
        {
         "name": "cpu_count",
         "rawType": "int64",
         "type": "integer"
        },
        {
         "name": "memory_gb",
         "rawType": "float64",
         "type": "float"
        }
       ],
       "conversionMethod": "pd.DataFrame",
       "ref": "900a5626-00ce-45c6-a38b-c05e32a39be7",
       "rows": [
        [
         "7",
         "ForecasterAutoregMultiSeries",
         "ForecasterRecursiveMultiSeries__check_predict_inputs",
         "33fe67969d33981cb73558c1dc51eb82",
         null,
         null,
         "2025-04-22 21:10:20.076595",
         "3.12.9",
         "0.13.0",
         "1.26.4",
         "2.2.3",
         "1.4.2",
         "4.6.0",
         "Linux-6.11.0-21-generic-x86_64-with-glibc2.39",
         "x86_64",
         "8",
         "16.64"
        ],
        [
         "15",
         "ForecasterAutoregMultiSeries",
         "ForecasterRecursiveMultiSeries__check_predict_inputs",
         "33fe67969d33981cb73558c1dc51eb82",
         null,
         null,
         "2025-04-22 21:20:27.285297",
         "3.12.9",
         "0.13.0",
         "1.26.4",
         "2.2.3",
         "1.4.2",
         "4.6.0",
         "Linux-6.11.0-21-generic-x86_64-with-glibc2.39",
         "x86_64",
         "8",
         "16.64"
        ],
        [
         "23",
         "ForecasterRecursiveMultiSeries",
         "ForecasterRecursiveMultiSeries__check_predict_inputs",
         "33fe67969d33981cb73558c1dc51eb82",
         "0.31095381899995117",
         "0.02198111227691725",
         "2025-04-22 21:24:17.424537",
         "3.12.9",
         "0.14.0",
         "1.26.4",
         "2.2.3",
         "1.4.2",
         "4.6.0",
         "Linux-6.11.0-21-generic-x86_64-with-glibc2.39",
         "x86_64",
         "8",
         "16.64"
        ],
        [
         "43",
         "ForecasterRecursiveMultiSeries",
         "ForecasterRecursiveMultiSeries__check_predict_inputs",
         "33fe67969d33981cb73558c1dc51eb82",
         "0.30187304619994393",
         "0.006419052613641788",
         "2025-04-22 21:31:01.460036",
         "3.12.9",
         "0.14.0",
         "1.26.4",
         "2.2.3",
         "1.4.2",
         "4.6.0",
         "Linux-6.11.0-21-generic-x86_64-with-glibc2.39",
         "x86_64",
         "8",
         "16.64"
        ],
        [
         "55",
         "ForecasterRecursiveMultiSeries",
         "ForecasterRecursiveMultiSeries__check_predict_inputs",
         "33fe67969d33981cb73558c1dc51eb82",
         "0.4924359092003215",
         "0.05390321764397032",
         "2025-04-22 21:35:33.639610",
         "3.12.9",
         "0.15.0",
         "1.26.4",
         "2.2.3",
         "1.4.2",
         "4.6.0",
         "Linux-6.11.0-21-generic-x86_64-with-glibc2.39",
         "x86_64",
         "8",
         "16.64"
        ],
        [
         "67",
         "ForecasterRecursiveMultiSeries",
         "ForecasterRecursiveMultiSeries__check_predict_inputs",
         "33fe67969d33981cb73558c1dc51eb82",
         "0.40878162699973475",
         "0.034458316026804346",
         "2025-04-22 21:46:29.513457",
         "3.12.9",
         "0.15.0",
         "2.2.5",
         "2.2.3",
         "1.6.1",
         "4.6.0",
         "Linux-6.11.0-21-generic-x86_64-with-glibc2.39",
         "x86_64",
         "8",
         "16.64"
        ],
        [
         "79",
         "ForecasterRecursiveMultiSeries",
         "ForecasterRecursiveMultiSeries__check_predict_inputs",
         "33fe67969d33981cb73558c1dc51eb82",
         "0.11320127720009623",
         "0.03537004768032105",
         "2025-04-22 21:56:12.182762",
         "3.12.9",
         "0.16.0",
         "2.2.5",
         "2.2.3",
         "1.6.1",
         "4.6.0",
         "Linux-6.11.0-21-generic-x86_64-with-glibc2.39",
         "x86_64",
         "8",
         "16.64"
        ],
        [
         "91",
         "ForecasterRecursiveMultiSeries",
         "ForecasterRecursiveMultiSeries__check_predict_inputs",
         "33fe67969d33981cb73558c1dc51eb82",
         "0.09160097079966363",
         "0.0046780056627866475",
         "2025-04-22 22:10:54.144804",
         "3.12.9",
         "0.16.0",
         "1.26.4",
         "2.2.3",
         "1.6.1",
         "4.6.0",
         "Linux-6.11.0-21-generic-x86_64-with-glibc2.39",
         "x86_64",
         "8",
         "16.64"
        ],
        [
         "103",
         "ForecasterAutoregMultiSeries",
         "ForecasterRecursiveMultiSeries__check_predict_inputs",
         "33fe67969d33981cb73558c1dc51eb82",
         null,
         null,
         "2025-04-22 22:25:46.211729",
         "3.12.9",
         "0.12.0",
         "1.26.4",
         "2.2.3",
         "1.4.2",
         "4.6.0",
         "Linux-6.11.0-21-generic-x86_64-with-glibc2.39",
         "x86_64",
         "8",
         "16.64"
        ],
        [
         "115",
         "ForecasterAutoregMultiSeries",
         "ForecasterRecursiveMultiSeries__check_predict_inputs",
         "33fe67969d33981cb73558c1dc51eb82",
         null,
         null,
         "2025-04-22 22:39:41.326390",
         "3.12.9",
         "0.12.0",
         "1.26.4",
         "2.2.3",
         "1.4.2",
         "4.6.0",
         "Linux-6.11.0-21-generic-x86_64-with-glibc2.39",
         "x86_64",
         "8",
         "16.64"
        ]
       ],
       "shape": {
        "columns": 16,
        "rows": 10
       }
      },
      "text/html": [
       "<div>\n",
       "<style scoped>\n",
       "    .dataframe tbody tr th:only-of-type {\n",
       "        vertical-align: middle;\n",
       "    }\n",
       "\n",
       "    .dataframe tbody tr th {\n",
       "        vertical-align: top;\n",
       "    }\n",
       "\n",
       "    .dataframe thead th {\n",
       "        text-align: right;\n",
       "    }\n",
       "</style>\n",
       "<table border=\"1\" class=\"dataframe\">\n",
       "  <thead>\n",
       "    <tr style=\"text-align: right;\">\n",
       "      <th></th>\n",
       "      <th>forecaster_name</th>\n",
       "      <th>function_name</th>\n",
       "      <th>function_hash</th>\n",
       "      <th>run_time_avg</th>\n",
       "      <th>run_time_std_dev</th>\n",
       "      <th>datetime</th>\n",
       "      <th>python_version</th>\n",
       "      <th>skforecast_version</th>\n",
       "      <th>numpy_version</th>\n",
       "      <th>pandas_version</th>\n",
       "      <th>sklearn_version</th>\n",
       "      <th>lightgbm_version</th>\n",
       "      <th>platform</th>\n",
       "      <th>processor</th>\n",
       "      <th>cpu_count</th>\n",
       "      <th>memory_gb</th>\n",
       "    </tr>\n",
       "  </thead>\n",
       "  <tbody>\n",
       "    <tr>\n",
       "      <th>7</th>\n",
       "      <td>ForecasterAutoregMultiSeries</td>\n",
       "      <td>ForecasterRecursiveMultiSeries__check_predict_...</td>\n",
       "      <td>33fe67969d33981cb73558c1dc51eb82</td>\n",
       "      <td>NaN</td>\n",
       "      <td>NaN</td>\n",
       "      <td>2025-04-22 21:10:20.076595</td>\n",
       "      <td>3.12.9</td>\n",
       "      <td>0.13.0</td>\n",
       "      <td>1.26.4</td>\n",
       "      <td>2.2.3</td>\n",
       "      <td>1.4.2</td>\n",
       "      <td>4.6.0</td>\n",
       "      <td>Linux-6.11.0-21-generic-x86_64-with-glibc2.39</td>\n",
       "      <td>x86_64</td>\n",
       "      <td>8</td>\n",
       "      <td>16.64</td>\n",
       "    </tr>\n",
       "    <tr>\n",
       "      <th>15</th>\n",
       "      <td>ForecasterAutoregMultiSeries</td>\n",
       "      <td>ForecasterRecursiveMultiSeries__check_predict_...</td>\n",
       "      <td>33fe67969d33981cb73558c1dc51eb82</td>\n",
       "      <td>NaN</td>\n",
       "      <td>NaN</td>\n",
       "      <td>2025-04-22 21:20:27.285297</td>\n",
       "      <td>3.12.9</td>\n",
       "      <td>0.13.0</td>\n",
       "      <td>1.26.4</td>\n",
       "      <td>2.2.3</td>\n",
       "      <td>1.4.2</td>\n",
       "      <td>4.6.0</td>\n",
       "      <td>Linux-6.11.0-21-generic-x86_64-with-glibc2.39</td>\n",
       "      <td>x86_64</td>\n",
       "      <td>8</td>\n",
       "      <td>16.64</td>\n",
       "    </tr>\n",
       "    <tr>\n",
       "      <th>23</th>\n",
       "      <td>ForecasterRecursiveMultiSeries</td>\n",
       "      <td>ForecasterRecursiveMultiSeries__check_predict_...</td>\n",
       "      <td>33fe67969d33981cb73558c1dc51eb82</td>\n",
       "      <td>0.310954</td>\n",
       "      <td>0.021981</td>\n",
       "      <td>2025-04-22 21:24:17.424537</td>\n",
       "      <td>3.12.9</td>\n",
       "      <td>0.14.0</td>\n",
       "      <td>1.26.4</td>\n",
       "      <td>2.2.3</td>\n",
       "      <td>1.4.2</td>\n",
       "      <td>4.6.0</td>\n",
       "      <td>Linux-6.11.0-21-generic-x86_64-with-glibc2.39</td>\n",
       "      <td>x86_64</td>\n",
       "      <td>8</td>\n",
       "      <td>16.64</td>\n",
       "    </tr>\n",
       "    <tr>\n",
       "      <th>43</th>\n",
       "      <td>ForecasterRecursiveMultiSeries</td>\n",
       "      <td>ForecasterRecursiveMultiSeries__check_predict_...</td>\n",
       "      <td>33fe67969d33981cb73558c1dc51eb82</td>\n",
       "      <td>0.301873</td>\n",
       "      <td>0.006419</td>\n",
       "      <td>2025-04-22 21:31:01.460036</td>\n",
       "      <td>3.12.9</td>\n",
       "      <td>0.14.0</td>\n",
       "      <td>1.26.4</td>\n",
       "      <td>2.2.3</td>\n",
       "      <td>1.4.2</td>\n",
       "      <td>4.6.0</td>\n",
       "      <td>Linux-6.11.0-21-generic-x86_64-with-glibc2.39</td>\n",
       "      <td>x86_64</td>\n",
       "      <td>8</td>\n",
       "      <td>16.64</td>\n",
       "    </tr>\n",
       "    <tr>\n",
       "      <th>55</th>\n",
       "      <td>ForecasterRecursiveMultiSeries</td>\n",
       "      <td>ForecasterRecursiveMultiSeries__check_predict_...</td>\n",
       "      <td>33fe67969d33981cb73558c1dc51eb82</td>\n",
       "      <td>0.492436</td>\n",
       "      <td>0.053903</td>\n",
       "      <td>2025-04-22 21:35:33.639610</td>\n",
       "      <td>3.12.9</td>\n",
       "      <td>0.15.0</td>\n",
       "      <td>1.26.4</td>\n",
       "      <td>2.2.3</td>\n",
       "      <td>1.4.2</td>\n",
       "      <td>4.6.0</td>\n",
       "      <td>Linux-6.11.0-21-generic-x86_64-with-glibc2.39</td>\n",
       "      <td>x86_64</td>\n",
       "      <td>8</td>\n",
       "      <td>16.64</td>\n",
       "    </tr>\n",
       "    <tr>\n",
       "      <th>67</th>\n",
       "      <td>ForecasterRecursiveMultiSeries</td>\n",
       "      <td>ForecasterRecursiveMultiSeries__check_predict_...</td>\n",
       "      <td>33fe67969d33981cb73558c1dc51eb82</td>\n",
       "      <td>0.408782</td>\n",
       "      <td>0.034458</td>\n",
       "      <td>2025-04-22 21:46:29.513457</td>\n",
       "      <td>3.12.9</td>\n",
       "      <td>0.15.0</td>\n",
       "      <td>2.2.5</td>\n",
       "      <td>2.2.3</td>\n",
       "      <td>1.6.1</td>\n",
       "      <td>4.6.0</td>\n",
       "      <td>Linux-6.11.0-21-generic-x86_64-with-glibc2.39</td>\n",
       "      <td>x86_64</td>\n",
       "      <td>8</td>\n",
       "      <td>16.64</td>\n",
       "    </tr>\n",
       "    <tr>\n",
       "      <th>79</th>\n",
       "      <td>ForecasterRecursiveMultiSeries</td>\n",
       "      <td>ForecasterRecursiveMultiSeries__check_predict_...</td>\n",
       "      <td>33fe67969d33981cb73558c1dc51eb82</td>\n",
       "      <td>0.113201</td>\n",
       "      <td>0.035370</td>\n",
       "      <td>2025-04-22 21:56:12.182762</td>\n",
       "      <td>3.12.9</td>\n",
       "      <td>0.16.0</td>\n",
       "      <td>2.2.5</td>\n",
       "      <td>2.2.3</td>\n",
       "      <td>1.6.1</td>\n",
       "      <td>4.6.0</td>\n",
       "      <td>Linux-6.11.0-21-generic-x86_64-with-glibc2.39</td>\n",
       "      <td>x86_64</td>\n",
       "      <td>8</td>\n",
       "      <td>16.64</td>\n",
       "    </tr>\n",
       "    <tr>\n",
       "      <th>91</th>\n",
       "      <td>ForecasterRecursiveMultiSeries</td>\n",
       "      <td>ForecasterRecursiveMultiSeries__check_predict_...</td>\n",
       "      <td>33fe67969d33981cb73558c1dc51eb82</td>\n",
       "      <td>0.091601</td>\n",
       "      <td>0.004678</td>\n",
       "      <td>2025-04-22 22:10:54.144804</td>\n",
       "      <td>3.12.9</td>\n",
       "      <td>0.16.0</td>\n",
       "      <td>1.26.4</td>\n",
       "      <td>2.2.3</td>\n",
       "      <td>1.6.1</td>\n",
       "      <td>4.6.0</td>\n",
       "      <td>Linux-6.11.0-21-generic-x86_64-with-glibc2.39</td>\n",
       "      <td>x86_64</td>\n",
       "      <td>8</td>\n",
       "      <td>16.64</td>\n",
       "    </tr>\n",
       "    <tr>\n",
       "      <th>103</th>\n",
       "      <td>ForecasterAutoregMultiSeries</td>\n",
       "      <td>ForecasterRecursiveMultiSeries__check_predict_...</td>\n",
       "      <td>33fe67969d33981cb73558c1dc51eb82</td>\n",
       "      <td>NaN</td>\n",
       "      <td>NaN</td>\n",
       "      <td>2025-04-22 22:25:46.211729</td>\n",
       "      <td>3.12.9</td>\n",
       "      <td>0.12.0</td>\n",
       "      <td>1.26.4</td>\n",
       "      <td>2.2.3</td>\n",
       "      <td>1.4.2</td>\n",
       "      <td>4.6.0</td>\n",
       "      <td>Linux-6.11.0-21-generic-x86_64-with-glibc2.39</td>\n",
       "      <td>x86_64</td>\n",
       "      <td>8</td>\n",
       "      <td>16.64</td>\n",
       "    </tr>\n",
       "    <tr>\n",
       "      <th>115</th>\n",
       "      <td>ForecasterAutoregMultiSeries</td>\n",
       "      <td>ForecasterRecursiveMultiSeries__check_predict_...</td>\n",
       "      <td>33fe67969d33981cb73558c1dc51eb82</td>\n",
       "      <td>NaN</td>\n",
       "      <td>NaN</td>\n",
       "      <td>2025-04-22 22:39:41.326390</td>\n",
       "      <td>3.12.9</td>\n",
       "      <td>0.12.0</td>\n",
       "      <td>1.26.4</td>\n",
       "      <td>2.2.3</td>\n",
       "      <td>1.4.2</td>\n",
       "      <td>4.6.0</td>\n",
       "      <td>Linux-6.11.0-21-generic-x86_64-with-glibc2.39</td>\n",
       "      <td>x86_64</td>\n",
       "      <td>8</td>\n",
       "      <td>16.64</td>\n",
       "    </tr>\n",
       "  </tbody>\n",
       "</table>\n",
       "</div>"
      ],
      "text/plain": [
       "                    forecaster_name  \\\n",
       "7      ForecasterAutoregMultiSeries   \n",
       "15     ForecasterAutoregMultiSeries   \n",
       "23   ForecasterRecursiveMultiSeries   \n",
       "43   ForecasterRecursiveMultiSeries   \n",
       "55   ForecasterRecursiveMultiSeries   \n",
       "67   ForecasterRecursiveMultiSeries   \n",
       "79   ForecasterRecursiveMultiSeries   \n",
       "91   ForecasterRecursiveMultiSeries   \n",
       "103    ForecasterAutoregMultiSeries   \n",
       "115    ForecasterAutoregMultiSeries   \n",
       "\n",
       "                                         function_name  \\\n",
       "7    ForecasterRecursiveMultiSeries__check_predict_...   \n",
       "15   ForecasterRecursiveMultiSeries__check_predict_...   \n",
       "23   ForecasterRecursiveMultiSeries__check_predict_...   \n",
       "43   ForecasterRecursiveMultiSeries__check_predict_...   \n",
       "55   ForecasterRecursiveMultiSeries__check_predict_...   \n",
       "67   ForecasterRecursiveMultiSeries__check_predict_...   \n",
       "79   ForecasterRecursiveMultiSeries__check_predict_...   \n",
       "91   ForecasterRecursiveMultiSeries__check_predict_...   \n",
       "103  ForecasterRecursiveMultiSeries__check_predict_...   \n",
       "115  ForecasterRecursiveMultiSeries__check_predict_...   \n",
       "\n",
       "                        function_hash  run_time_avg  run_time_std_dev  \\\n",
       "7    33fe67969d33981cb73558c1dc51eb82           NaN               NaN   \n",
       "15   33fe67969d33981cb73558c1dc51eb82           NaN               NaN   \n",
       "23   33fe67969d33981cb73558c1dc51eb82      0.310954          0.021981   \n",
       "43   33fe67969d33981cb73558c1dc51eb82      0.301873          0.006419   \n",
       "55   33fe67969d33981cb73558c1dc51eb82      0.492436          0.053903   \n",
       "67   33fe67969d33981cb73558c1dc51eb82      0.408782          0.034458   \n",
       "79   33fe67969d33981cb73558c1dc51eb82      0.113201          0.035370   \n",
       "91   33fe67969d33981cb73558c1dc51eb82      0.091601          0.004678   \n",
       "103  33fe67969d33981cb73558c1dc51eb82           NaN               NaN   \n",
       "115  33fe67969d33981cb73558c1dc51eb82           NaN               NaN   \n",
       "\n",
       "                      datetime python_version skforecast_version  \\\n",
       "7   2025-04-22 21:10:20.076595         3.12.9             0.13.0   \n",
       "15  2025-04-22 21:20:27.285297         3.12.9             0.13.0   \n",
       "23  2025-04-22 21:24:17.424537         3.12.9             0.14.0   \n",
       "43  2025-04-22 21:31:01.460036         3.12.9             0.14.0   \n",
       "55  2025-04-22 21:35:33.639610         3.12.9             0.15.0   \n",
       "67  2025-04-22 21:46:29.513457         3.12.9             0.15.0   \n",
       "79  2025-04-22 21:56:12.182762         3.12.9             0.16.0   \n",
       "91  2025-04-22 22:10:54.144804         3.12.9             0.16.0   \n",
       "103 2025-04-22 22:25:46.211729         3.12.9             0.12.0   \n",
       "115 2025-04-22 22:39:41.326390         3.12.9             0.12.0   \n",
       "\n",
       "    numpy_version pandas_version sklearn_version lightgbm_version  \\\n",
       "7          1.26.4          2.2.3           1.4.2            4.6.0   \n",
       "15         1.26.4          2.2.3           1.4.2            4.6.0   \n",
       "23         1.26.4          2.2.3           1.4.2            4.6.0   \n",
       "43         1.26.4          2.2.3           1.4.2            4.6.0   \n",
       "55         1.26.4          2.2.3           1.4.2            4.6.0   \n",
       "67          2.2.5          2.2.3           1.6.1            4.6.0   \n",
       "79          2.2.5          2.2.3           1.6.1            4.6.0   \n",
       "91         1.26.4          2.2.3           1.6.1            4.6.0   \n",
       "103        1.26.4          2.2.3           1.4.2            4.6.0   \n",
       "115        1.26.4          2.2.3           1.4.2            4.6.0   \n",
       "\n",
       "                                          platform processor  cpu_count  \\\n",
       "7    Linux-6.11.0-21-generic-x86_64-with-glibc2.39    x86_64          8   \n",
       "15   Linux-6.11.0-21-generic-x86_64-with-glibc2.39    x86_64          8   \n",
       "23   Linux-6.11.0-21-generic-x86_64-with-glibc2.39    x86_64          8   \n",
       "43   Linux-6.11.0-21-generic-x86_64-with-glibc2.39    x86_64          8   \n",
       "55   Linux-6.11.0-21-generic-x86_64-with-glibc2.39    x86_64          8   \n",
       "67   Linux-6.11.0-21-generic-x86_64-with-glibc2.39    x86_64          8   \n",
       "79   Linux-6.11.0-21-generic-x86_64-with-glibc2.39    x86_64          8   \n",
       "91   Linux-6.11.0-21-generic-x86_64-with-glibc2.39    x86_64          8   \n",
       "103  Linux-6.11.0-21-generic-x86_64-with-glibc2.39    x86_64          8   \n",
       "115  Linux-6.11.0-21-generic-x86_64-with-glibc2.39    x86_64          8   \n",
       "\n",
       "     memory_gb  \n",
       "7        16.64  \n",
       "15       16.64  \n",
       "23       16.64  \n",
       "43       16.64  \n",
       "55       16.64  \n",
       "67       16.64  \n",
       "79       16.64  \n",
       "91       16.64  \n",
       "103      16.64  \n",
       "115      16.64  "
      ]
     },
     "metadata": {},
     "output_type": "display_data"
    },
    {
     "data": {
      "application/vnd.plotly.v1+json": {
       "config": {
        "plotlyServerURL": "https://plot.ly"
       },
       "data": [
        {
         "alignmentgroup": "True",
         "boxpoints": "all",
         "customdata": [
          [
           "ForecasterAutoregMultiSeries",
           "ForecasterRecursiveMultiSeries__check_predict_inputs",
           "33fe67969d33981cb73558c1dc51eb82",
           null,
           "2025-04-22T22:25:46.211729",
           "3.12.9",
           "1.26.4",
           "2.2.3",
           "1.4.2",
           "4.6.0",
           "Linux-6.11.0-21-generic-x86_64-with-glibc2.39",
           "x86_64",
           8,
           16.64
          ],
          [
           "ForecasterAutoregMultiSeries",
           "ForecasterRecursiveMultiSeries__check_predict_inputs",
           "33fe67969d33981cb73558c1dc51eb82",
           null,
           "2025-04-22T22:39:41.326390",
           "3.12.9",
           "1.26.4",
           "2.2.3",
           "1.4.2",
           "4.6.0",
           "Linux-6.11.0-21-generic-x86_64-with-glibc2.39",
           "x86_64",
           8,
           16.64
          ]
         ],
         "fillcolor": "rgba(255,255,255,0)",
         "hoveron": "points",
         "hovertemplate": "skforecast_version=%{x}<br>run_time_avg=%{y}<br>forecaster_name=%{customdata[0]}<br>function_name=%{customdata[1]}<br>function_hash=%{customdata[2]}<br>run_time_std_dev=%{customdata[3]}<br>datetime=%{customdata[4]}<br>python_version=%{customdata[5]}<br>numpy_version=%{customdata[6]}<br>pandas_version=%{customdata[7]}<br>sklearn_version=%{customdata[8]}<br>lightgbm_version=%{customdata[9]}<br>platform=%{customdata[10]}<br>processor=%{customdata[11]}<br>cpu_count=%{customdata[12]}<br>memory_gb=%{customdata[13]}<extra></extra>",
         "jitter": true,
         "legendgroup": "0.12.0",
         "line": {
          "color": "rgba(255,255,255,0)"
         },
         "marker": {
          "color": "#636efa",
          "opacity": 0.7,
          "size": 10
         },
         "name": "0.12.0",
         "offsetgroup": "0.12.0",
         "orientation": "v",
         "pointpos": 0,
         "showlegend": true,
         "type": "box",
         "x": [
          "0.12.0",
          "0.12.0"
         ],
         "x0": " ",
         "xaxis": "x",
         "y": {
          "bdata": "AAAAAAAA+H8AAAAAAAD4fw==",
          "dtype": "f8"
         },
         "y0": " ",
         "yaxis": "y"
        },
        {
         "alignmentgroup": "True",
         "boxpoints": "all",
         "customdata": [
          [
           "ForecasterAutoregMultiSeries",
           "ForecasterRecursiveMultiSeries__check_predict_inputs",
           "33fe67969d33981cb73558c1dc51eb82",
           null,
           "2025-04-22T21:10:20.076595",
           "3.12.9",
           "1.26.4",
           "2.2.3",
           "1.4.2",
           "4.6.0",
           "Linux-6.11.0-21-generic-x86_64-with-glibc2.39",
           "x86_64",
           8,
           16.64
          ],
          [
           "ForecasterAutoregMultiSeries",
           "ForecasterRecursiveMultiSeries__check_predict_inputs",
           "33fe67969d33981cb73558c1dc51eb82",
           null,
           "2025-04-22T21:20:27.285297",
           "3.12.9",
           "1.26.4",
           "2.2.3",
           "1.4.2",
           "4.6.0",
           "Linux-6.11.0-21-generic-x86_64-with-glibc2.39",
           "x86_64",
           8,
           16.64
          ]
         ],
         "fillcolor": "rgba(255,255,255,0)",
         "hoveron": "points",
         "hovertemplate": "skforecast_version=%{x}<br>run_time_avg=%{y}<br>forecaster_name=%{customdata[0]}<br>function_name=%{customdata[1]}<br>function_hash=%{customdata[2]}<br>run_time_std_dev=%{customdata[3]}<br>datetime=%{customdata[4]}<br>python_version=%{customdata[5]}<br>numpy_version=%{customdata[6]}<br>pandas_version=%{customdata[7]}<br>sklearn_version=%{customdata[8]}<br>lightgbm_version=%{customdata[9]}<br>platform=%{customdata[10]}<br>processor=%{customdata[11]}<br>cpu_count=%{customdata[12]}<br>memory_gb=%{customdata[13]}<extra></extra>",
         "jitter": true,
         "legendgroup": "0.13.0",
         "line": {
          "color": "rgba(255,255,255,0)"
         },
         "marker": {
          "color": "#EF553B",
          "opacity": 0.7,
          "size": 10
         },
         "name": "0.13.0",
         "offsetgroup": "0.13.0",
         "orientation": "v",
         "pointpos": 0,
         "showlegend": true,
         "type": "box",
         "x": [
          "0.13.0",
          "0.13.0"
         ],
         "x0": " ",
         "xaxis": "x",
         "y": {
          "bdata": "AAAAAAAA+H8AAAAAAAD4fw==",
          "dtype": "f8"
         },
         "y0": " ",
         "yaxis": "y"
        },
        {
         "alignmentgroup": "True",
         "boxpoints": "all",
         "customdata": [
          [
           "ForecasterRecursiveMultiSeries",
           "ForecasterRecursiveMultiSeries__check_predict_inputs",
           "33fe67969d33981cb73558c1dc51eb82",
           0.02198111227691725,
           "2025-04-22T21:24:17.424537",
           "3.12.9",
           "1.26.4",
           "2.2.3",
           "1.4.2",
           "4.6.0",
           "Linux-6.11.0-21-generic-x86_64-with-glibc2.39",
           "x86_64",
           8,
           16.64
          ],
          [
           "ForecasterRecursiveMultiSeries",
           "ForecasterRecursiveMultiSeries__check_predict_inputs",
           "33fe67969d33981cb73558c1dc51eb82",
           0.006419052613641788,
           "2025-04-22T21:31:01.460036",
           "3.12.9",
           "1.26.4",
           "2.2.3",
           "1.4.2",
           "4.6.0",
           "Linux-6.11.0-21-generic-x86_64-with-glibc2.39",
           "x86_64",
           8,
           16.64
          ]
         ],
         "fillcolor": "rgba(255,255,255,0)",
         "hoveron": "points",
         "hovertemplate": "skforecast_version=%{x}<br>run_time_avg=%{y}<br>forecaster_name=%{customdata[0]}<br>function_name=%{customdata[1]}<br>function_hash=%{customdata[2]}<br>run_time_std_dev=%{customdata[3]}<br>datetime=%{customdata[4]}<br>python_version=%{customdata[5]}<br>numpy_version=%{customdata[6]}<br>pandas_version=%{customdata[7]}<br>sklearn_version=%{customdata[8]}<br>lightgbm_version=%{customdata[9]}<br>platform=%{customdata[10]}<br>processor=%{customdata[11]}<br>cpu_count=%{customdata[12]}<br>memory_gb=%{customdata[13]}<extra></extra>",
         "jitter": true,
         "legendgroup": "0.14.0",
         "line": {
          "color": "rgba(255,255,255,0)"
         },
         "marker": {
          "color": "#00cc96",
          "opacity": 0.7,
          "size": 10
         },
         "name": "0.14.0",
         "offsetgroup": "0.14.0",
         "orientation": "v",
         "pointpos": 0,
         "showlegend": true,
         "type": "box",
         "x": [
          "0.14.0",
          "0.14.0"
         ],
         "x0": " ",
         "xaxis": "x",
         "y": {
          "bdata": "M/PK2Krm0z8AQD5T41HTPw==",
          "dtype": "f8"
         },
         "y0": " ",
         "yaxis": "y"
        },
        {
         "alignmentgroup": "True",
         "boxpoints": "all",
         "customdata": [
          [
           "ForecasterRecursiveMultiSeries",
           "ForecasterRecursiveMultiSeries__check_predict_inputs",
           "33fe67969d33981cb73558c1dc51eb82",
           0.05390321764397032,
           "2025-04-22T21:35:33.639610",
           "3.12.9",
           "1.26.4",
           "2.2.3",
           "1.4.2",
           "4.6.0",
           "Linux-6.11.0-21-generic-x86_64-with-glibc2.39",
           "x86_64",
           8,
           16.64
          ],
          [
           "ForecasterRecursiveMultiSeries",
           "ForecasterRecursiveMultiSeries__check_predict_inputs",
           "33fe67969d33981cb73558c1dc51eb82",
           0.034458316026804346,
           "2025-04-22T21:46:29.513457",
           "3.12.9",
           "2.2.5",
           "2.2.3",
           "1.6.1",
           "4.6.0",
           "Linux-6.11.0-21-generic-x86_64-with-glibc2.39",
           "x86_64",
           8,
           16.64
          ]
         ],
         "fillcolor": "rgba(255,255,255,0)",
         "hoveron": "points",
         "hovertemplate": "skforecast_version=%{x}<br>run_time_avg=%{y}<br>forecaster_name=%{customdata[0]}<br>function_name=%{customdata[1]}<br>function_hash=%{customdata[2]}<br>run_time_std_dev=%{customdata[3]}<br>datetime=%{customdata[4]}<br>python_version=%{customdata[5]}<br>numpy_version=%{customdata[6]}<br>pandas_version=%{customdata[7]}<br>sklearn_version=%{customdata[8]}<br>lightgbm_version=%{customdata[9]}<br>platform=%{customdata[10]}<br>processor=%{customdata[11]}<br>cpu_count=%{customdata[12]}<br>memory_gb=%{customdata[13]}<extra></extra>",
         "jitter": true,
         "legendgroup": "0.15.0",
         "line": {
          "color": "rgba(255,255,255,0)"
         },
         "marker": {
          "color": "#ab63fa",
          "opacity": 0.7,
          "size": 10
         },
         "name": "0.15.0",
         "offsetgroup": "0.15.0",
         "orientation": "v",
         "pointpos": 0,
         "showlegend": true,
         "type": "box",
         "x": [
          "0.15.0",
          "0.15.0"
         ],
         "x0": " ",
         "xaxis": "x",
         "y": {
          "bdata": "zQxZ5xGE3z+a2cppeinaPw==",
          "dtype": "f8"
         },
         "y0": " ",
         "yaxis": "y"
        },
        {
         "alignmentgroup": "True",
         "boxpoints": "all",
         "customdata": [
          [
           "ForecasterRecursiveMultiSeries",
           "ForecasterRecursiveMultiSeries__check_predict_inputs",
           "33fe67969d33981cb73558c1dc51eb82",
           0.03537004768032105,
           "2025-04-22T21:56:12.182762",
           "3.12.9",
           "2.2.5",
           "2.2.3",
           "1.6.1",
           "4.6.0",
           "Linux-6.11.0-21-generic-x86_64-with-glibc2.39",
           "x86_64",
           8,
           16.64
          ],
          [
           "ForecasterRecursiveMultiSeries",
           "ForecasterRecursiveMultiSeries__check_predict_inputs",
           "33fe67969d33981cb73558c1dc51eb82",
           0.0046780056627866475,
           "2025-04-22T22:10:54.144804",
           "3.12.9",
           "1.26.4",
           "2.2.3",
           "1.6.1",
           "4.6.0",
           "Linux-6.11.0-21-generic-x86_64-with-glibc2.39",
           "x86_64",
           8,
           16.64
          ]
         ],
         "fillcolor": "rgba(255,255,255,0)",
         "hoveron": "points",
         "hovertemplate": "skforecast_version=%{x}<br>run_time_avg=%{y}<br>forecaster_name=%{customdata[0]}<br>function_name=%{customdata[1]}<br>function_hash=%{customdata[2]}<br>run_time_std_dev=%{customdata[3]}<br>datetime=%{customdata[4]}<br>python_version=%{customdata[5]}<br>numpy_version=%{customdata[6]}<br>pandas_version=%{customdata[7]}<br>sklearn_version=%{customdata[8]}<br>lightgbm_version=%{customdata[9]}<br>platform=%{customdata[10]}<br>processor=%{customdata[11]}<br>cpu_count=%{customdata[12]}<br>memory_gb=%{customdata[13]}<extra></extra>",
         "jitter": true,
         "legendgroup": "0.16.0",
         "line": {
          "color": "rgba(255,255,255,0)"
         },
         "marker": {
          "color": "#FFA15A",
          "opacity": 0.7,
          "size": 10
         },
         "name": "0.16.0",
         "offsetgroup": "0.16.0",
         "orientation": "v",
         "pointpos": 0,
         "showlegend": true,
         "type": "box",
         "x": [
          "0.16.0",
          "0.16.0"
         ],
         "x0": " ",
         "xaxis": "x",
         "y": {
          "bdata": "mplwR8L6vD/NzN1FKXO3Pw==",
          "dtype": "f8"
         },
         "y0": " ",
         "yaxis": "y"
        },
        {
         "line": {
          "color": "black",
          "width": 2
         },
         "marker": {
          "size": 8
         },
         "mode": "lines+markers",
         "name": "Median",
         "showlegend": true,
         "type": "scatter",
         "x": [
          "0.12.0",
          "0.13.0",
          "0.14.0",
          "0.15.0",
          "0.16.0"
         ],
         "y": {
          "bdata": "AAAAAAAA+H8AAAAAAAD4f5qZBBZHnNM/NPORKMbW3D80M6fG9Ta6Pw==",
          "dtype": "f8"
         }
        }
       ],
       "layout": {
        "boxmode": "overlay",
        "legend": {
         "title": {
          "text": "skforecast_version"
         },
         "tracegroupgap": 0
        },
        "margin": {
         "t": 60
        },
        "showlegend": true,
        "template": {
         "data": {
          "bar": [
           {
            "error_x": {
             "color": "#2a3f5f"
            },
            "error_y": {
             "color": "#2a3f5f"
            },
            "marker": {
             "line": {
              "color": "#E5ECF6",
              "width": 0.5
             },
             "pattern": {
              "fillmode": "overlay",
              "size": 10,
              "solidity": 0.2
             }
            },
            "type": "bar"
           }
          ],
          "barpolar": [
           {
            "marker": {
             "line": {
              "color": "#E5ECF6",
              "width": 0.5
             },
             "pattern": {
              "fillmode": "overlay",
              "size": 10,
              "solidity": 0.2
             }
            },
            "type": "barpolar"
           }
          ],
          "carpet": [
           {
            "aaxis": {
             "endlinecolor": "#2a3f5f",
             "gridcolor": "white",
             "linecolor": "white",
             "minorgridcolor": "white",
             "startlinecolor": "#2a3f5f"
            },
            "baxis": {
             "endlinecolor": "#2a3f5f",
             "gridcolor": "white",
             "linecolor": "white",
             "minorgridcolor": "white",
             "startlinecolor": "#2a3f5f"
            },
            "type": "carpet"
           }
          ],
          "choropleth": [
           {
            "colorbar": {
             "outlinewidth": 0,
             "ticks": ""
            },
            "type": "choropleth"
           }
          ],
          "contour": [
           {
            "colorbar": {
             "outlinewidth": 0,
             "ticks": ""
            },
            "colorscale": [
             [
              0,
              "#0d0887"
             ],
             [
              0.1111111111111111,
              "#46039f"
             ],
             [
              0.2222222222222222,
              "#7201a8"
             ],
             [
              0.3333333333333333,
              "#9c179e"
             ],
             [
              0.4444444444444444,
              "#bd3786"
             ],
             [
              0.5555555555555556,
              "#d8576b"
             ],
             [
              0.6666666666666666,
              "#ed7953"
             ],
             [
              0.7777777777777778,
              "#fb9f3a"
             ],
             [
              0.8888888888888888,
              "#fdca26"
             ],
             [
              1,
              "#f0f921"
             ]
            ],
            "type": "contour"
           }
          ],
          "contourcarpet": [
           {
            "colorbar": {
             "outlinewidth": 0,
             "ticks": ""
            },
            "type": "contourcarpet"
           }
          ],
          "heatmap": [
           {
            "colorbar": {
             "outlinewidth": 0,
             "ticks": ""
            },
            "colorscale": [
             [
              0,
              "#0d0887"
             ],
             [
              0.1111111111111111,
              "#46039f"
             ],
             [
              0.2222222222222222,
              "#7201a8"
             ],
             [
              0.3333333333333333,
              "#9c179e"
             ],
             [
              0.4444444444444444,
              "#bd3786"
             ],
             [
              0.5555555555555556,
              "#d8576b"
             ],
             [
              0.6666666666666666,
              "#ed7953"
             ],
             [
              0.7777777777777778,
              "#fb9f3a"
             ],
             [
              0.8888888888888888,
              "#fdca26"
             ],
             [
              1,
              "#f0f921"
             ]
            ],
            "type": "heatmap"
           }
          ],
          "histogram": [
           {
            "marker": {
             "pattern": {
              "fillmode": "overlay",
              "size": 10,
              "solidity": 0.2
             }
            },
            "type": "histogram"
           }
          ],
          "histogram2d": [
           {
            "colorbar": {
             "outlinewidth": 0,
             "ticks": ""
            },
            "colorscale": [
             [
              0,
              "#0d0887"
             ],
             [
              0.1111111111111111,
              "#46039f"
             ],
             [
              0.2222222222222222,
              "#7201a8"
             ],
             [
              0.3333333333333333,
              "#9c179e"
             ],
             [
              0.4444444444444444,
              "#bd3786"
             ],
             [
              0.5555555555555556,
              "#d8576b"
             ],
             [
              0.6666666666666666,
              "#ed7953"
             ],
             [
              0.7777777777777778,
              "#fb9f3a"
             ],
             [
              0.8888888888888888,
              "#fdca26"
             ],
             [
              1,
              "#f0f921"
             ]
            ],
            "type": "histogram2d"
           }
          ],
          "histogram2dcontour": [
           {
            "colorbar": {
             "outlinewidth": 0,
             "ticks": ""
            },
            "colorscale": [
             [
              0,
              "#0d0887"
             ],
             [
              0.1111111111111111,
              "#46039f"
             ],
             [
              0.2222222222222222,
              "#7201a8"
             ],
             [
              0.3333333333333333,
              "#9c179e"
             ],
             [
              0.4444444444444444,
              "#bd3786"
             ],
             [
              0.5555555555555556,
              "#d8576b"
             ],
             [
              0.6666666666666666,
              "#ed7953"
             ],
             [
              0.7777777777777778,
              "#fb9f3a"
             ],
             [
              0.8888888888888888,
              "#fdca26"
             ],
             [
              1,
              "#f0f921"
             ]
            ],
            "type": "histogram2dcontour"
           }
          ],
          "mesh3d": [
           {
            "colorbar": {
             "outlinewidth": 0,
             "ticks": ""
            },
            "type": "mesh3d"
           }
          ],
          "parcoords": [
           {
            "line": {
             "colorbar": {
              "outlinewidth": 0,
              "ticks": ""
             }
            },
            "type": "parcoords"
           }
          ],
          "pie": [
           {
            "automargin": true,
            "type": "pie"
           }
          ],
          "scatter": [
           {
            "fillpattern": {
             "fillmode": "overlay",
             "size": 10,
             "solidity": 0.2
            },
            "type": "scatter"
           }
          ],
          "scatter3d": [
           {
            "line": {
             "colorbar": {
              "outlinewidth": 0,
              "ticks": ""
             }
            },
            "marker": {
             "colorbar": {
              "outlinewidth": 0,
              "ticks": ""
             }
            },
            "type": "scatter3d"
           }
          ],
          "scattercarpet": [
           {
            "marker": {
             "colorbar": {
              "outlinewidth": 0,
              "ticks": ""
             }
            },
            "type": "scattercarpet"
           }
          ],
          "scattergeo": [
           {
            "marker": {
             "colorbar": {
              "outlinewidth": 0,
              "ticks": ""
             }
            },
            "type": "scattergeo"
           }
          ],
          "scattergl": [
           {
            "marker": {
             "colorbar": {
              "outlinewidth": 0,
              "ticks": ""
             }
            },
            "type": "scattergl"
           }
          ],
          "scattermap": [
           {
            "marker": {
             "colorbar": {
              "outlinewidth": 0,
              "ticks": ""
             }
            },
            "type": "scattermap"
           }
          ],
          "scattermapbox": [
           {
            "marker": {
             "colorbar": {
              "outlinewidth": 0,
              "ticks": ""
             }
            },
            "type": "scattermapbox"
           }
          ],
          "scatterpolar": [
           {
            "marker": {
             "colorbar": {
              "outlinewidth": 0,
              "ticks": ""
             }
            },
            "type": "scatterpolar"
           }
          ],
          "scatterpolargl": [
           {
            "marker": {
             "colorbar": {
              "outlinewidth": 0,
              "ticks": ""
             }
            },
            "type": "scatterpolargl"
           }
          ],
          "scatterternary": [
           {
            "marker": {
             "colorbar": {
              "outlinewidth": 0,
              "ticks": ""
             }
            },
            "type": "scatterternary"
           }
          ],
          "surface": [
           {
            "colorbar": {
             "outlinewidth": 0,
             "ticks": ""
            },
            "colorscale": [
             [
              0,
              "#0d0887"
             ],
             [
              0.1111111111111111,
              "#46039f"
             ],
             [
              0.2222222222222222,
              "#7201a8"
             ],
             [
              0.3333333333333333,
              "#9c179e"
             ],
             [
              0.4444444444444444,
              "#bd3786"
             ],
             [
              0.5555555555555556,
              "#d8576b"
             ],
             [
              0.6666666666666666,
              "#ed7953"
             ],
             [
              0.7777777777777778,
              "#fb9f3a"
             ],
             [
              0.8888888888888888,
              "#fdca26"
             ],
             [
              1,
              "#f0f921"
             ]
            ],
            "type": "surface"
           }
          ],
          "table": [
           {
            "cells": {
             "fill": {
              "color": "#EBF0F8"
             },
             "line": {
              "color": "white"
             }
            },
            "header": {
             "fill": {
              "color": "#C8D4E3"
             },
             "line": {
              "color": "white"
             }
            },
            "type": "table"
           }
          ]
         },
         "layout": {
          "annotationdefaults": {
           "arrowcolor": "#2a3f5f",
           "arrowhead": 0,
           "arrowwidth": 1
          },
          "autotypenumbers": "strict",
          "coloraxis": {
           "colorbar": {
            "outlinewidth": 0,
            "ticks": ""
           }
          },
          "colorscale": {
           "diverging": [
            [
             0,
             "#8e0152"
            ],
            [
             0.1,
             "#c51b7d"
            ],
            [
             0.2,
             "#de77ae"
            ],
            [
             0.3,
             "#f1b6da"
            ],
            [
             0.4,
             "#fde0ef"
            ],
            [
             0.5,
             "#f7f7f7"
            ],
            [
             0.6,
             "#e6f5d0"
            ],
            [
             0.7,
             "#b8e186"
            ],
            [
             0.8,
             "#7fbc41"
            ],
            [
             0.9,
             "#4d9221"
            ],
            [
             1,
             "#276419"
            ]
           ],
           "sequential": [
            [
             0,
             "#0d0887"
            ],
            [
             0.1111111111111111,
             "#46039f"
            ],
            [
             0.2222222222222222,
             "#7201a8"
            ],
            [
             0.3333333333333333,
             "#9c179e"
            ],
            [
             0.4444444444444444,
             "#bd3786"
            ],
            [
             0.5555555555555556,
             "#d8576b"
            ],
            [
             0.6666666666666666,
             "#ed7953"
            ],
            [
             0.7777777777777778,
             "#fb9f3a"
            ],
            [
             0.8888888888888888,
             "#fdca26"
            ],
            [
             1,
             "#f0f921"
            ]
           ],
           "sequentialminus": [
            [
             0,
             "#0d0887"
            ],
            [
             0.1111111111111111,
             "#46039f"
            ],
            [
             0.2222222222222222,
             "#7201a8"
            ],
            [
             0.3333333333333333,
             "#9c179e"
            ],
            [
             0.4444444444444444,
             "#bd3786"
            ],
            [
             0.5555555555555556,
             "#d8576b"
            ],
            [
             0.6666666666666666,
             "#ed7953"
            ],
            [
             0.7777777777777778,
             "#fb9f3a"
            ],
            [
             0.8888888888888888,
             "#fdca26"
            ],
            [
             1,
             "#f0f921"
            ]
           ]
          },
          "colorway": [
           "#636efa",
           "#EF553B",
           "#00cc96",
           "#ab63fa",
           "#FFA15A",
           "#19d3f3",
           "#FF6692",
           "#B6E880",
           "#FF97FF",
           "#FECB52"
          ],
          "font": {
           "color": "#2a3f5f"
          },
          "geo": {
           "bgcolor": "white",
           "lakecolor": "white",
           "landcolor": "#E5ECF6",
           "showlakes": true,
           "showland": true,
           "subunitcolor": "white"
          },
          "hoverlabel": {
           "align": "left"
          },
          "hovermode": "closest",
          "mapbox": {
           "style": "light"
          },
          "paper_bgcolor": "white",
          "plot_bgcolor": "#E5ECF6",
          "polar": {
           "angularaxis": {
            "gridcolor": "white",
            "linecolor": "white",
            "ticks": ""
           },
           "bgcolor": "#E5ECF6",
           "radialaxis": {
            "gridcolor": "white",
            "linecolor": "white",
            "ticks": ""
           }
          },
          "scene": {
           "xaxis": {
            "backgroundcolor": "#E5ECF6",
            "gridcolor": "white",
            "gridwidth": 2,
            "linecolor": "white",
            "showbackground": true,
            "ticks": "",
            "zerolinecolor": "white"
           },
           "yaxis": {
            "backgroundcolor": "#E5ECF6",
            "gridcolor": "white",
            "gridwidth": 2,
            "linecolor": "white",
            "showbackground": true,
            "ticks": "",
            "zerolinecolor": "white"
           },
           "zaxis": {
            "backgroundcolor": "#E5ECF6",
            "gridcolor": "white",
            "gridwidth": 2,
            "linecolor": "white",
            "showbackground": true,
            "ticks": "",
            "zerolinecolor": "white"
           }
          },
          "shapedefaults": {
           "line": {
            "color": "#2a3f5f"
           }
          },
          "ternary": {
           "aaxis": {
            "gridcolor": "white",
            "linecolor": "white",
            "ticks": ""
           },
           "baxis": {
            "gridcolor": "white",
            "linecolor": "white",
            "ticks": ""
           },
           "bgcolor": "#E5ECF6",
           "caxis": {
            "gridcolor": "white",
            "linecolor": "white",
            "ticks": ""
           }
          },
          "title": {
           "x": 0.05
          },
          "xaxis": {
           "automargin": true,
           "gridcolor": "white",
           "linecolor": "white",
           "ticks": "",
           "title": {
            "standoff": 15
           },
           "zerolinecolor": "white",
           "zerolinewidth": 2
          },
          "yaxis": {
           "automargin": true,
           "gridcolor": "white",
           "linecolor": "white",
           "ticks": "",
           "title": {
            "standoff": 15
           },
           "zerolinecolor": "white",
           "zerolinewidth": 2
          }
         }
        },
        "title": {
         "text": "Execution time of ForecasterRecursiveMultiSeries__check_predict_inputs"
        },
        "xaxis": {
         "anchor": "y",
         "categoryarray": [
          "0.12.0",
          "0.13.0",
          "0.14.0",
          "0.15.0",
          "0.16.0"
         ],
         "categoryorder": "array",
         "domain": [
          0,
          1
         ],
         "title": {
          "text": "skforecast version"
         }
        },
        "yaxis": {
         "anchor": "x",
         "domain": [
          0,
          1
         ],
         "title": {
          "text": "Execution time (seconds)"
         }
        }
       }
      }
     },
     "metadata": {},
     "output_type": "display_data"
    },
    {
     "data": {
      "application/vnd.microsoft.datawrangler.viewer.v0+json": {
       "columns": [
        {
         "name": "index",
         "rawType": "int64",
         "type": "integer"
        },
        {
         "name": "forecaster_name",
         "rawType": "object",
         "type": "string"
        },
        {
         "name": "function_name",
         "rawType": "object",
         "type": "string"
        },
        {
         "name": "function_hash",
         "rawType": "object",
         "type": "string"
        },
        {
         "name": "run_time_avg",
         "rawType": "float64",
         "type": "float"
        },
        {
         "name": "run_time_std_dev",
         "rawType": "float64",
         "type": "float"
        },
        {
         "name": "datetime",
         "rawType": "datetime64[ns]",
         "type": "datetime"
        },
        {
         "name": "python_version",
         "rawType": "object",
         "type": "string"
        },
        {
         "name": "skforecast_version",
         "rawType": "object",
         "type": "string"
        },
        {
         "name": "numpy_version",
         "rawType": "object",
         "type": "string"
        },
        {
         "name": "pandas_version",
         "rawType": "object",
         "type": "string"
        },
        {
         "name": "sklearn_version",
         "rawType": "object",
         "type": "string"
        },
        {
         "name": "lightgbm_version",
         "rawType": "object",
         "type": "string"
        },
        {
         "name": "platform",
         "rawType": "object",
         "type": "string"
        },
        {
         "name": "processor",
         "rawType": "object",
         "type": "string"
        },
        {
         "name": "cpu_count",
         "rawType": "int64",
         "type": "integer"
        },
        {
         "name": "memory_gb",
         "rawType": "float64",
         "type": "float"
        }
       ],
       "conversionMethod": "pd.DataFrame",
       "ref": "7515b40f-11d9-40fe-851f-19571859f1c6",
       "rows": [
        [
         "24",
         "ForecasterRecursive",
         "ForecasterRecursive_fit",
         "3a6496af8f14196a05b301212de078f0",
         null,
         null,
         "2025-04-22 21:26:09.447315",
         "3.12.9",
         "0.14.0",
         "1.26.4",
         "2.2.3",
         "1.4.2",
         "4.6.0",
         "Linux-6.11.0-21-generic-x86_64-with-glibc2.39",
         "x86_64",
         "8",
         "16.64"
        ],
        [
         "26",
         "ForecasterRecursive",
         "ForecasterRecursive_fit",
         "3a6496af8f14196a05b301212de078f0",
         null,
         null,
         "2025-04-22 21:26:24.723814",
         "3.12.9",
         "0.14.0",
         "1.26.4",
         "2.2.3",
         "1.4.2",
         "4.6.0",
         "Linux-6.11.0-21-generic-x86_64-with-glibc2.39",
         "x86_64",
         "8",
         "16.64"
        ],
        [
         "28",
         "ForecasterRecursive",
         "ForecasterRecursive_fit",
         "3a6496af8f14196a05b301212de078f0",
         "0.22670950239999002",
         "0.04029782549449651",
         "2025-04-22 21:26:53.296630",
         "3.12.9",
         "0.14.0",
         "1.26.4",
         "2.2.3",
         "1.4.2",
         "4.6.0",
         "Linux-6.11.0-21-generic-x86_64-with-glibc2.39",
         "x86_64",
         "8",
         "16.64"
        ],
        [
         "32",
         "ForecasterRecursive",
         "ForecasterRecursive_fit",
         "3a6496af8f14196a05b301212de078f0",
         "0.1906544615999337",
         "0.02119325775742154",
         "2025-04-22 21:27:04.433706",
         "3.12.9",
         "0.14.0",
         "1.26.4",
         "2.2.3",
         "1.4.2",
         "4.6.0",
         "Linux-6.11.0-21-generic-x86_64-with-glibc2.39",
         "x86_64",
         "8",
         "16.64"
        ],
        [
         "44",
         "ForecasterRecursive",
         "ForecasterRecursive_fit",
         "3a6496af8f14196a05b301212de078f0",
         "0.23820462369990308",
         "0.03876458709447134",
         "2025-04-22 21:31:03.124401",
         "3.12.9",
         "0.14.0",
         "1.26.4",
         "2.2.3",
         "1.4.2",
         "4.6.0",
         "Linux-6.11.0-21-generic-x86_64-with-glibc2.39",
         "x86_64",
         "8",
         "16.64"
        ],
        [
         "56",
         "ForecasterRecursive",
         "ForecasterRecursive_fit",
         "3a6496af8f14196a05b301212de078f0",
         "0.3755999097002132",
         "0.03639140403037674",
         "2025-04-22 21:35:36.132403",
         "3.12.9",
         "0.15.0",
         "1.26.4",
         "2.2.3",
         "1.4.2",
         "4.6.0",
         "Linux-6.11.0-21-generic-x86_64-with-glibc2.39",
         "x86_64",
         "8",
         "16.64"
        ],
        [
         "68",
         "ForecasterRecursive",
         "ForecasterRecursive_fit",
         "3a6496af8f14196a05b301212de078f0",
         "0.3496373640999991",
         "0.038892451491481066",
         "2025-04-22 21:46:31.592093",
         "3.12.9",
         "0.15.0",
         "2.2.5",
         "2.2.3",
         "1.6.1",
         "4.6.0",
         "Linux-6.11.0-21-generic-x86_64-with-glibc2.39",
         "x86_64",
         "8",
         "16.64"
        ],
        [
         "80",
         "ForecasterRecursive",
         "ForecasterRecursive_fit",
         "3a6496af8f14196a05b301212de078f0",
         "0.3832117301998551",
         "0.04231162748961806",
         "2025-04-22 21:56:12.830849",
         "3.12.9",
         "0.16.0",
         "2.2.5",
         "2.2.3",
         "1.6.1",
         "4.6.0",
         "Linux-6.11.0-21-generic-x86_64-with-glibc2.39",
         "x86_64",
         "8",
         "16.64"
        ],
        [
         "92",
         "ForecasterRecursive",
         "ForecasterRecursive_fit",
         "3a6496af8f14196a05b301212de078f0",
         "0.3638760160997663",
         "0.01950982332116261",
         "2025-04-22 22:10:54.681237",
         "3.12.9",
         "0.16.0",
         "1.26.4",
         "2.2.3",
         "1.6.1",
         "4.6.0",
         "Linux-6.11.0-21-generic-x86_64-with-glibc2.39",
         "x86_64",
         "8",
         "16.64"
        ],
        [
         "104",
         "ForecasterAutoreg",
         "ForecasterRecursive_fit",
         "3a6496af8f14196a05b301212de078f0",
         "0.4198000065999622",
         "0.06601819438215104",
         "2025-04-22 22:25:46.246215",
         "3.12.9",
         "0.12.0",
         "1.26.4",
         "2.2.3",
         "1.4.2",
         "4.6.0",
         "Linux-6.11.0-21-generic-x86_64-with-glibc2.39",
         "x86_64",
         "8",
         "16.64"
        ],
        [
         "116",
         "ForecasterAutoreg",
         "ForecasterRecursive_fit",
         "3a6496af8f14196a05b301212de078f0",
         "0.4265306808000787",
         "0.06028799866538878",
         "2025-04-22 22:39:41.361656",
         "3.12.9",
         "0.12.0",
         "1.26.4",
         "2.2.3",
         "1.4.2",
         "4.6.0",
         "Linux-6.11.0-21-generic-x86_64-with-glibc2.39",
         "x86_64",
         "8",
         "16.64"
        ]
       ],
       "shape": {
        "columns": 16,
        "rows": 11
       }
      },
      "text/html": [
       "<div>\n",
       "<style scoped>\n",
       "    .dataframe tbody tr th:only-of-type {\n",
       "        vertical-align: middle;\n",
       "    }\n",
       "\n",
       "    .dataframe tbody tr th {\n",
       "        vertical-align: top;\n",
       "    }\n",
       "\n",
       "    .dataframe thead th {\n",
       "        text-align: right;\n",
       "    }\n",
       "</style>\n",
       "<table border=\"1\" class=\"dataframe\">\n",
       "  <thead>\n",
       "    <tr style=\"text-align: right;\">\n",
       "      <th></th>\n",
       "      <th>forecaster_name</th>\n",
       "      <th>function_name</th>\n",
       "      <th>function_hash</th>\n",
       "      <th>run_time_avg</th>\n",
       "      <th>run_time_std_dev</th>\n",
       "      <th>datetime</th>\n",
       "      <th>python_version</th>\n",
       "      <th>skforecast_version</th>\n",
       "      <th>numpy_version</th>\n",
       "      <th>pandas_version</th>\n",
       "      <th>sklearn_version</th>\n",
       "      <th>lightgbm_version</th>\n",
       "      <th>platform</th>\n",
       "      <th>processor</th>\n",
       "      <th>cpu_count</th>\n",
       "      <th>memory_gb</th>\n",
       "    </tr>\n",
       "  </thead>\n",
       "  <tbody>\n",
       "    <tr>\n",
       "      <th>24</th>\n",
       "      <td>ForecasterRecursive</td>\n",
       "      <td>ForecasterRecursive_fit</td>\n",
       "      <td>3a6496af8f14196a05b301212de078f0</td>\n",
       "      <td>NaN</td>\n",
       "      <td>NaN</td>\n",
       "      <td>2025-04-22 21:26:09.447315</td>\n",
       "      <td>3.12.9</td>\n",
       "      <td>0.14.0</td>\n",
       "      <td>1.26.4</td>\n",
       "      <td>2.2.3</td>\n",
       "      <td>1.4.2</td>\n",
       "      <td>4.6.0</td>\n",
       "      <td>Linux-6.11.0-21-generic-x86_64-with-glibc2.39</td>\n",
       "      <td>x86_64</td>\n",
       "      <td>8</td>\n",
       "      <td>16.64</td>\n",
       "    </tr>\n",
       "    <tr>\n",
       "      <th>26</th>\n",
       "      <td>ForecasterRecursive</td>\n",
       "      <td>ForecasterRecursive_fit</td>\n",
       "      <td>3a6496af8f14196a05b301212de078f0</td>\n",
       "      <td>NaN</td>\n",
       "      <td>NaN</td>\n",
       "      <td>2025-04-22 21:26:24.723814</td>\n",
       "      <td>3.12.9</td>\n",
       "      <td>0.14.0</td>\n",
       "      <td>1.26.4</td>\n",
       "      <td>2.2.3</td>\n",
       "      <td>1.4.2</td>\n",
       "      <td>4.6.0</td>\n",
       "      <td>Linux-6.11.0-21-generic-x86_64-with-glibc2.39</td>\n",
       "      <td>x86_64</td>\n",
       "      <td>8</td>\n",
       "      <td>16.64</td>\n",
       "    </tr>\n",
       "    <tr>\n",
       "      <th>28</th>\n",
       "      <td>ForecasterRecursive</td>\n",
       "      <td>ForecasterRecursive_fit</td>\n",
       "      <td>3a6496af8f14196a05b301212de078f0</td>\n",
       "      <td>0.226710</td>\n",
       "      <td>0.040298</td>\n",
       "      <td>2025-04-22 21:26:53.296630</td>\n",
       "      <td>3.12.9</td>\n",
       "      <td>0.14.0</td>\n",
       "      <td>1.26.4</td>\n",
       "      <td>2.2.3</td>\n",
       "      <td>1.4.2</td>\n",
       "      <td>4.6.0</td>\n",
       "      <td>Linux-6.11.0-21-generic-x86_64-with-glibc2.39</td>\n",
       "      <td>x86_64</td>\n",
       "      <td>8</td>\n",
       "      <td>16.64</td>\n",
       "    </tr>\n",
       "    <tr>\n",
       "      <th>32</th>\n",
       "      <td>ForecasterRecursive</td>\n",
       "      <td>ForecasterRecursive_fit</td>\n",
       "      <td>3a6496af8f14196a05b301212de078f0</td>\n",
       "      <td>0.190654</td>\n",
       "      <td>0.021193</td>\n",
       "      <td>2025-04-22 21:27:04.433706</td>\n",
       "      <td>3.12.9</td>\n",
       "      <td>0.14.0</td>\n",
       "      <td>1.26.4</td>\n",
       "      <td>2.2.3</td>\n",
       "      <td>1.4.2</td>\n",
       "      <td>4.6.0</td>\n",
       "      <td>Linux-6.11.0-21-generic-x86_64-with-glibc2.39</td>\n",
       "      <td>x86_64</td>\n",
       "      <td>8</td>\n",
       "      <td>16.64</td>\n",
       "    </tr>\n",
       "    <tr>\n",
       "      <th>44</th>\n",
       "      <td>ForecasterRecursive</td>\n",
       "      <td>ForecasterRecursive_fit</td>\n",
       "      <td>3a6496af8f14196a05b301212de078f0</td>\n",
       "      <td>0.238205</td>\n",
       "      <td>0.038765</td>\n",
       "      <td>2025-04-22 21:31:03.124401</td>\n",
       "      <td>3.12.9</td>\n",
       "      <td>0.14.0</td>\n",
       "      <td>1.26.4</td>\n",
       "      <td>2.2.3</td>\n",
       "      <td>1.4.2</td>\n",
       "      <td>4.6.0</td>\n",
       "      <td>Linux-6.11.0-21-generic-x86_64-with-glibc2.39</td>\n",
       "      <td>x86_64</td>\n",
       "      <td>8</td>\n",
       "      <td>16.64</td>\n",
       "    </tr>\n",
       "    <tr>\n",
       "      <th>56</th>\n",
       "      <td>ForecasterRecursive</td>\n",
       "      <td>ForecasterRecursive_fit</td>\n",
       "      <td>3a6496af8f14196a05b301212de078f0</td>\n",
       "      <td>0.375600</td>\n",
       "      <td>0.036391</td>\n",
       "      <td>2025-04-22 21:35:36.132403</td>\n",
       "      <td>3.12.9</td>\n",
       "      <td>0.15.0</td>\n",
       "      <td>1.26.4</td>\n",
       "      <td>2.2.3</td>\n",
       "      <td>1.4.2</td>\n",
       "      <td>4.6.0</td>\n",
       "      <td>Linux-6.11.0-21-generic-x86_64-with-glibc2.39</td>\n",
       "      <td>x86_64</td>\n",
       "      <td>8</td>\n",
       "      <td>16.64</td>\n",
       "    </tr>\n",
       "    <tr>\n",
       "      <th>68</th>\n",
       "      <td>ForecasterRecursive</td>\n",
       "      <td>ForecasterRecursive_fit</td>\n",
       "      <td>3a6496af8f14196a05b301212de078f0</td>\n",
       "      <td>0.349637</td>\n",
       "      <td>0.038892</td>\n",
       "      <td>2025-04-22 21:46:31.592093</td>\n",
       "      <td>3.12.9</td>\n",
       "      <td>0.15.0</td>\n",
       "      <td>2.2.5</td>\n",
       "      <td>2.2.3</td>\n",
       "      <td>1.6.1</td>\n",
       "      <td>4.6.0</td>\n",
       "      <td>Linux-6.11.0-21-generic-x86_64-with-glibc2.39</td>\n",
       "      <td>x86_64</td>\n",
       "      <td>8</td>\n",
       "      <td>16.64</td>\n",
       "    </tr>\n",
       "    <tr>\n",
       "      <th>80</th>\n",
       "      <td>ForecasterRecursive</td>\n",
       "      <td>ForecasterRecursive_fit</td>\n",
       "      <td>3a6496af8f14196a05b301212de078f0</td>\n",
       "      <td>0.383212</td>\n",
       "      <td>0.042312</td>\n",
       "      <td>2025-04-22 21:56:12.830849</td>\n",
       "      <td>3.12.9</td>\n",
       "      <td>0.16.0</td>\n",
       "      <td>2.2.5</td>\n",
       "      <td>2.2.3</td>\n",
       "      <td>1.6.1</td>\n",
       "      <td>4.6.0</td>\n",
       "      <td>Linux-6.11.0-21-generic-x86_64-with-glibc2.39</td>\n",
       "      <td>x86_64</td>\n",
       "      <td>8</td>\n",
       "      <td>16.64</td>\n",
       "    </tr>\n",
       "    <tr>\n",
       "      <th>92</th>\n",
       "      <td>ForecasterRecursive</td>\n",
       "      <td>ForecasterRecursive_fit</td>\n",
       "      <td>3a6496af8f14196a05b301212de078f0</td>\n",
       "      <td>0.363876</td>\n",
       "      <td>0.019510</td>\n",
       "      <td>2025-04-22 22:10:54.681237</td>\n",
       "      <td>3.12.9</td>\n",
       "      <td>0.16.0</td>\n",
       "      <td>1.26.4</td>\n",
       "      <td>2.2.3</td>\n",
       "      <td>1.6.1</td>\n",
       "      <td>4.6.0</td>\n",
       "      <td>Linux-6.11.0-21-generic-x86_64-with-glibc2.39</td>\n",
       "      <td>x86_64</td>\n",
       "      <td>8</td>\n",
       "      <td>16.64</td>\n",
       "    </tr>\n",
       "    <tr>\n",
       "      <th>104</th>\n",
       "      <td>ForecasterAutoreg</td>\n",
       "      <td>ForecasterRecursive_fit</td>\n",
       "      <td>3a6496af8f14196a05b301212de078f0</td>\n",
       "      <td>0.419800</td>\n",
       "      <td>0.066018</td>\n",
       "      <td>2025-04-22 22:25:46.246215</td>\n",
       "      <td>3.12.9</td>\n",
       "      <td>0.12.0</td>\n",
       "      <td>1.26.4</td>\n",
       "      <td>2.2.3</td>\n",
       "      <td>1.4.2</td>\n",
       "      <td>4.6.0</td>\n",
       "      <td>Linux-6.11.0-21-generic-x86_64-with-glibc2.39</td>\n",
       "      <td>x86_64</td>\n",
       "      <td>8</td>\n",
       "      <td>16.64</td>\n",
       "    </tr>\n",
       "    <tr>\n",
       "      <th>116</th>\n",
       "      <td>ForecasterAutoreg</td>\n",
       "      <td>ForecasterRecursive_fit</td>\n",
       "      <td>3a6496af8f14196a05b301212de078f0</td>\n",
       "      <td>0.426531</td>\n",
       "      <td>0.060288</td>\n",
       "      <td>2025-04-22 22:39:41.361656</td>\n",
       "      <td>3.12.9</td>\n",
       "      <td>0.12.0</td>\n",
       "      <td>1.26.4</td>\n",
       "      <td>2.2.3</td>\n",
       "      <td>1.4.2</td>\n",
       "      <td>4.6.0</td>\n",
       "      <td>Linux-6.11.0-21-generic-x86_64-with-glibc2.39</td>\n",
       "      <td>x86_64</td>\n",
       "      <td>8</td>\n",
       "      <td>16.64</td>\n",
       "    </tr>\n",
       "  </tbody>\n",
       "</table>\n",
       "</div>"
      ],
      "text/plain": [
       "         forecaster_name            function_name  \\\n",
       "24   ForecasterRecursive  ForecasterRecursive_fit   \n",
       "26   ForecasterRecursive  ForecasterRecursive_fit   \n",
       "28   ForecasterRecursive  ForecasterRecursive_fit   \n",
       "32   ForecasterRecursive  ForecasterRecursive_fit   \n",
       "44   ForecasterRecursive  ForecasterRecursive_fit   \n",
       "56   ForecasterRecursive  ForecasterRecursive_fit   \n",
       "68   ForecasterRecursive  ForecasterRecursive_fit   \n",
       "80   ForecasterRecursive  ForecasterRecursive_fit   \n",
       "92   ForecasterRecursive  ForecasterRecursive_fit   \n",
       "104    ForecasterAutoreg  ForecasterRecursive_fit   \n",
       "116    ForecasterAutoreg  ForecasterRecursive_fit   \n",
       "\n",
       "                        function_hash  run_time_avg  run_time_std_dev  \\\n",
       "24   3a6496af8f14196a05b301212de078f0           NaN               NaN   \n",
       "26   3a6496af8f14196a05b301212de078f0           NaN               NaN   \n",
       "28   3a6496af8f14196a05b301212de078f0      0.226710          0.040298   \n",
       "32   3a6496af8f14196a05b301212de078f0      0.190654          0.021193   \n",
       "44   3a6496af8f14196a05b301212de078f0      0.238205          0.038765   \n",
       "56   3a6496af8f14196a05b301212de078f0      0.375600          0.036391   \n",
       "68   3a6496af8f14196a05b301212de078f0      0.349637          0.038892   \n",
       "80   3a6496af8f14196a05b301212de078f0      0.383212          0.042312   \n",
       "92   3a6496af8f14196a05b301212de078f0      0.363876          0.019510   \n",
       "104  3a6496af8f14196a05b301212de078f0      0.419800          0.066018   \n",
       "116  3a6496af8f14196a05b301212de078f0      0.426531          0.060288   \n",
       "\n",
       "                      datetime python_version skforecast_version  \\\n",
       "24  2025-04-22 21:26:09.447315         3.12.9             0.14.0   \n",
       "26  2025-04-22 21:26:24.723814         3.12.9             0.14.0   \n",
       "28  2025-04-22 21:26:53.296630         3.12.9             0.14.0   \n",
       "32  2025-04-22 21:27:04.433706         3.12.9             0.14.0   \n",
       "44  2025-04-22 21:31:03.124401         3.12.9             0.14.0   \n",
       "56  2025-04-22 21:35:36.132403         3.12.9             0.15.0   \n",
       "68  2025-04-22 21:46:31.592093         3.12.9             0.15.0   \n",
       "80  2025-04-22 21:56:12.830849         3.12.9             0.16.0   \n",
       "92  2025-04-22 22:10:54.681237         3.12.9             0.16.0   \n",
       "104 2025-04-22 22:25:46.246215         3.12.9             0.12.0   \n",
       "116 2025-04-22 22:39:41.361656         3.12.9             0.12.0   \n",
       "\n",
       "    numpy_version pandas_version sklearn_version lightgbm_version  \\\n",
       "24         1.26.4          2.2.3           1.4.2            4.6.0   \n",
       "26         1.26.4          2.2.3           1.4.2            4.6.0   \n",
       "28         1.26.4          2.2.3           1.4.2            4.6.0   \n",
       "32         1.26.4          2.2.3           1.4.2            4.6.0   \n",
       "44         1.26.4          2.2.3           1.4.2            4.6.0   \n",
       "56         1.26.4          2.2.3           1.4.2            4.6.0   \n",
       "68          2.2.5          2.2.3           1.6.1            4.6.0   \n",
       "80          2.2.5          2.2.3           1.6.1            4.6.0   \n",
       "92         1.26.4          2.2.3           1.6.1            4.6.0   \n",
       "104        1.26.4          2.2.3           1.4.2            4.6.0   \n",
       "116        1.26.4          2.2.3           1.4.2            4.6.0   \n",
       "\n",
       "                                          platform processor  cpu_count  \\\n",
       "24   Linux-6.11.0-21-generic-x86_64-with-glibc2.39    x86_64          8   \n",
       "26   Linux-6.11.0-21-generic-x86_64-with-glibc2.39    x86_64          8   \n",
       "28   Linux-6.11.0-21-generic-x86_64-with-glibc2.39    x86_64          8   \n",
       "32   Linux-6.11.0-21-generic-x86_64-with-glibc2.39    x86_64          8   \n",
       "44   Linux-6.11.0-21-generic-x86_64-with-glibc2.39    x86_64          8   \n",
       "56   Linux-6.11.0-21-generic-x86_64-with-glibc2.39    x86_64          8   \n",
       "68   Linux-6.11.0-21-generic-x86_64-with-glibc2.39    x86_64          8   \n",
       "80   Linux-6.11.0-21-generic-x86_64-with-glibc2.39    x86_64          8   \n",
       "92   Linux-6.11.0-21-generic-x86_64-with-glibc2.39    x86_64          8   \n",
       "104  Linux-6.11.0-21-generic-x86_64-with-glibc2.39    x86_64          8   \n",
       "116  Linux-6.11.0-21-generic-x86_64-with-glibc2.39    x86_64          8   \n",
       "\n",
       "     memory_gb  \n",
       "24       16.64  \n",
       "26       16.64  \n",
       "28       16.64  \n",
       "32       16.64  \n",
       "44       16.64  \n",
       "56       16.64  \n",
       "68       16.64  \n",
       "80       16.64  \n",
       "92       16.64  \n",
       "104      16.64  \n",
       "116      16.64  "
      ]
     },
     "metadata": {},
     "output_type": "display_data"
    },
    {
     "data": {
      "application/vnd.plotly.v1+json": {
       "config": {
        "plotlyServerURL": "https://plot.ly"
       },
       "data": [
        {
         "alignmentgroup": "True",
         "boxpoints": "all",
         "customdata": [
          [
           "ForecasterAutoreg",
           "ForecasterRecursive_fit",
           "3a6496af8f14196a05b301212de078f0",
           0.06601819438215104,
           "2025-04-22T22:25:46.246215",
           "3.12.9",
           "1.26.4",
           "2.2.3",
           "1.4.2",
           "4.6.0",
           "Linux-6.11.0-21-generic-x86_64-with-glibc2.39",
           "x86_64",
           8,
           16.64
          ],
          [
           "ForecasterAutoreg",
           "ForecasterRecursive_fit",
           "3a6496af8f14196a05b301212de078f0",
           0.06028799866538878,
           "2025-04-22T22:39:41.361656",
           "3.12.9",
           "1.26.4",
           "2.2.3",
           "1.4.2",
           "4.6.0",
           "Linux-6.11.0-21-generic-x86_64-with-glibc2.39",
           "x86_64",
           8,
           16.64
          ]
         ],
         "fillcolor": "rgba(255,255,255,0)",
         "hoveron": "points",
         "hovertemplate": "skforecast_version=%{x}<br>run_time_avg=%{y}<br>forecaster_name=%{customdata[0]}<br>function_name=%{customdata[1]}<br>function_hash=%{customdata[2]}<br>run_time_std_dev=%{customdata[3]}<br>datetime=%{customdata[4]}<br>python_version=%{customdata[5]}<br>numpy_version=%{customdata[6]}<br>pandas_version=%{customdata[7]}<br>sklearn_version=%{customdata[8]}<br>lightgbm_version=%{customdata[9]}<br>platform=%{customdata[10]}<br>processor=%{customdata[11]}<br>cpu_count=%{customdata[12]}<br>memory_gb=%{customdata[13]}<extra></extra>",
         "jitter": true,
         "legendgroup": "0.12.0",
         "line": {
          "color": "rgba(255,255,255,0)"
         },
         "marker": {
          "color": "#636efa",
          "opacity": 0.7,
          "size": 10
         },
         "name": "0.12.0",
         "offsetgroup": "0.12.0",
         "orientation": "v",
         "pointpos": 0,
         "showlegend": true,
         "type": "box",
         "x": [
          "0.12.0",
          "0.12.0"
         ],
         "x0": " ",
         "xaxis": "x",
         "y": {
          "bdata": "ZkbN2ADe2j+auTFXR0zbPw==",
          "dtype": "f8"
         },
         "y0": " ",
         "yaxis": "y"
        },
        {
         "alignmentgroup": "True",
         "boxpoints": "all",
         "customdata": [
          [
           "ForecasterRecursive",
           "ForecasterRecursive_fit",
           "3a6496af8f14196a05b301212de078f0",
           null,
           "2025-04-22T21:26:09.447315",
           "3.12.9",
           "1.26.4",
           "2.2.3",
           "1.4.2",
           "4.6.0",
           "Linux-6.11.0-21-generic-x86_64-with-glibc2.39",
           "x86_64",
           8,
           16.64
          ],
          [
           "ForecasterRecursive",
           "ForecasterRecursive_fit",
           "3a6496af8f14196a05b301212de078f0",
           null,
           "2025-04-22T21:26:24.723814",
           "3.12.9",
           "1.26.4",
           "2.2.3",
           "1.4.2",
           "4.6.0",
           "Linux-6.11.0-21-generic-x86_64-with-glibc2.39",
           "x86_64",
           8,
           16.64
          ],
          [
           "ForecasterRecursive",
           "ForecasterRecursive_fit",
           "3a6496af8f14196a05b301212de078f0",
           0.04029782549449651,
           "2025-04-22T21:26:53.296630",
           "3.12.9",
           "1.26.4",
           "2.2.3",
           "1.4.2",
           "4.6.0",
           "Linux-6.11.0-21-generic-x86_64-with-glibc2.39",
           "x86_64",
           8,
           16.64
          ],
          [
           "ForecasterRecursive",
           "ForecasterRecursive_fit",
           "3a6496af8f14196a05b301212de078f0",
           0.02119325775742154,
           "2025-04-22T21:27:04.433706",
           "3.12.9",
           "1.26.4",
           "2.2.3",
           "1.4.2",
           "4.6.0",
           "Linux-6.11.0-21-generic-x86_64-with-glibc2.39",
           "x86_64",
           8,
           16.64
          ],
          [
           "ForecasterRecursive",
           "ForecasterRecursive_fit",
           "3a6496af8f14196a05b301212de078f0",
           0.03876458709447134,
           "2025-04-22T21:31:03.124401",
           "3.12.9",
           "1.26.4",
           "2.2.3",
           "1.4.2",
           "4.6.0",
           "Linux-6.11.0-21-generic-x86_64-with-glibc2.39",
           "x86_64",
           8,
           16.64
          ]
         ],
         "fillcolor": "rgba(255,255,255,0)",
         "hoveron": "points",
         "hovertemplate": "skforecast_version=%{x}<br>run_time_avg=%{y}<br>forecaster_name=%{customdata[0]}<br>function_name=%{customdata[1]}<br>function_hash=%{customdata[2]}<br>run_time_std_dev=%{customdata[3]}<br>datetime=%{customdata[4]}<br>python_version=%{customdata[5]}<br>numpy_version=%{customdata[6]}<br>pandas_version=%{customdata[7]}<br>sklearn_version=%{customdata[8]}<br>lightgbm_version=%{customdata[9]}<br>platform=%{customdata[10]}<br>processor=%{customdata[11]}<br>cpu_count=%{customdata[12]}<br>memory_gb=%{customdata[13]}<extra></extra>",
         "jitter": true,
         "legendgroup": "0.14.0",
         "line": {
          "color": "rgba(255,255,255,0)"
         },
         "marker": {
          "color": "#EF553B",
          "opacity": 0.7,
          "size": 10
         },
         "name": "0.14.0",
         "offsetgroup": "0.14.0",
         "orientation": "v",
         "pointpos": 0,
         "showlegend": true,
         "type": "box",
         "x": [
          "0.14.0",
          "0.14.0",
          "0.14.0",
          "0.14.0",
          "0.14.0"
         ],
         "x0": " ",
         "xaxis": "x",
         "y": {
          "bdata": "AAAAAAAA+H8AAAAAAAD4f80MQCXRBM0/AEC0il1nyD9mBkY2fX3OPw==",
          "dtype": "f8"
         },
         "y0": " ",
         "yaxis": "y"
        },
        {
         "alignmentgroup": "True",
         "boxpoints": "all",
         "customdata": [
          [
           "ForecasterRecursive",
           "ForecasterRecursive_fit",
           "3a6496af8f14196a05b301212de078f0",
           0.03639140403037674,
           "2025-04-22T21:35:36.132403",
           "3.12.9",
           "1.26.4",
           "2.2.3",
           "1.4.2",
           "4.6.0",
           "Linux-6.11.0-21-generic-x86_64-with-glibc2.39",
           "x86_64",
           8,
           16.64
          ],
          [
           "ForecasterRecursive",
           "ForecasterRecursive_fit",
           "3a6496af8f14196a05b301212de078f0",
           0.038892451491481066,
           "2025-04-22T21:46:31.592093",
           "3.12.9",
           "2.2.5",
           "2.2.3",
           "1.6.1",
           "4.6.0",
           "Linux-6.11.0-21-generic-x86_64-with-glibc2.39",
           "x86_64",
           8,
           16.64
          ]
         ],
         "fillcolor": "rgba(255,255,255,0)",
         "hoveron": "points",
         "hovertemplate": "skforecast_version=%{x}<br>run_time_avg=%{y}<br>forecaster_name=%{customdata[0]}<br>function_name=%{customdata[1]}<br>function_hash=%{customdata[2]}<br>run_time_std_dev=%{customdata[3]}<br>datetime=%{customdata[4]}<br>python_version=%{customdata[5]}<br>numpy_version=%{customdata[6]}<br>pandas_version=%{customdata[7]}<br>sklearn_version=%{customdata[8]}<br>lightgbm_version=%{customdata[9]}<br>platform=%{customdata[10]}<br>processor=%{customdata[11]}<br>cpu_count=%{customdata[12]}<br>memory_gb=%{customdata[13]}<extra></extra>",
         "jitter": true,
         "legendgroup": "0.15.0",
         "line": {
          "color": "rgba(255,255,255,0)"
         },
         "marker": {
          "color": "#00cc96",
          "opacity": 0.7,
          "size": 10
         },
         "name": "0.15.0",
         "offsetgroup": "0.15.0",
         "orientation": "v",
         "pointpos": 0,
         "showlegend": true,
         "type": "box",
         "x": [
          "0.15.0",
          "0.15.0"
         ],
         "x0": " ",
         "xaxis": "x",
         "y": {
          "bdata": "AMAiNNQJ2D+aORFldWDWPw==",
          "dtype": "f8"
         },
         "y0": " ",
         "yaxis": "y"
        },
        {
         "alignmentgroup": "True",
         "boxpoints": "all",
         "customdata": [
          [
           "ForecasterRecursive",
           "ForecasterRecursive_fit",
           "3a6496af8f14196a05b301212de078f0",
           0.04231162748961806,
           "2025-04-22T21:56:12.830849",
           "3.12.9",
           "2.2.5",
           "2.2.3",
           "1.6.1",
           "4.6.0",
           "Linux-6.11.0-21-generic-x86_64-with-glibc2.39",
           "x86_64",
           8,
           16.64
          ],
          [
           "ForecasterRecursive",
           "ForecasterRecursive_fit",
           "3a6496af8f14196a05b301212de078f0",
           0.01950982332116261,
           "2025-04-22T22:10:54.681237",
           "3.12.9",
           "1.26.4",
           "2.2.3",
           "1.6.1",
           "4.6.0",
           "Linux-6.11.0-21-generic-x86_64-with-glibc2.39",
           "x86_64",
           8,
           16.64
          ]
         ],
         "fillcolor": "rgba(255,255,255,0)",
         "hoveron": "points",
         "hovertemplate": "skforecast_version=%{x}<br>run_time_avg=%{y}<br>forecaster_name=%{customdata[0]}<br>function_name=%{customdata[1]}<br>function_hash=%{customdata[2]}<br>run_time_std_dev=%{customdata[3]}<br>datetime=%{customdata[4]}<br>python_version=%{customdata[5]}<br>numpy_version=%{customdata[6]}<br>pandas_version=%{customdata[7]}<br>sklearn_version=%{customdata[8]}<br>lightgbm_version=%{customdata[9]}<br>platform=%{customdata[10]}<br>processor=%{customdata[11]}<br>cpu_count=%{customdata[12]}<br>memory_gb=%{customdata[13]}<extra></extra>",
         "jitter": true,
         "legendgroup": "0.16.0",
         "line": {
          "color": "rgba(255,255,255,0)"
         },
         "marker": {
          "color": "#ab63fa",
          "opacity": 0.7,
          "size": 10
         },
         "name": "0.16.0",
         "offsetgroup": "0.16.0",
         "orientation": "v",
         "pointpos": 0,
         "showlegend": true,
         "type": "box",
         "x": [
          "0.16.0",
          "0.16.0"
         ],
         "x0": " ",
         "xaxis": "x",
         "y": {
          "bdata": "mrkpfoqG2D8AoDyhvknXPw==",
          "dtype": "f8"
         },
         "y0": " ",
         "yaxis": "y"
        },
        {
         "line": {
          "color": "black",
          "width": 2
         },
         "marker": {
          "size": 8
         },
         "mode": "lines+markers",
         "name": "Median",
         "showlegend": true,
         "type": "scatter",
         "x": [
          "0.12.0",
          "0.14.0",
          "0.15.0",
          "0.16.0"
         ],
         "y": {
          "bdata": "AID/FyQV2z/NDEAl0QTNP838mcwkNdc/zSyzjyTo1z8=",
          "dtype": "f8"
         }
        }
       ],
       "layout": {
        "boxmode": "overlay",
        "legend": {
         "title": {
          "text": "skforecast_version"
         },
         "tracegroupgap": 0
        },
        "margin": {
         "t": 60
        },
        "showlegend": true,
        "template": {
         "data": {
          "bar": [
           {
            "error_x": {
             "color": "#2a3f5f"
            },
            "error_y": {
             "color": "#2a3f5f"
            },
            "marker": {
             "line": {
              "color": "#E5ECF6",
              "width": 0.5
             },
             "pattern": {
              "fillmode": "overlay",
              "size": 10,
              "solidity": 0.2
             }
            },
            "type": "bar"
           }
          ],
          "barpolar": [
           {
            "marker": {
             "line": {
              "color": "#E5ECF6",
              "width": 0.5
             },
             "pattern": {
              "fillmode": "overlay",
              "size": 10,
              "solidity": 0.2
             }
            },
            "type": "barpolar"
           }
          ],
          "carpet": [
           {
            "aaxis": {
             "endlinecolor": "#2a3f5f",
             "gridcolor": "white",
             "linecolor": "white",
             "minorgridcolor": "white",
             "startlinecolor": "#2a3f5f"
            },
            "baxis": {
             "endlinecolor": "#2a3f5f",
             "gridcolor": "white",
             "linecolor": "white",
             "minorgridcolor": "white",
             "startlinecolor": "#2a3f5f"
            },
            "type": "carpet"
           }
          ],
          "choropleth": [
           {
            "colorbar": {
             "outlinewidth": 0,
             "ticks": ""
            },
            "type": "choropleth"
           }
          ],
          "contour": [
           {
            "colorbar": {
             "outlinewidth": 0,
             "ticks": ""
            },
            "colorscale": [
             [
              0,
              "#0d0887"
             ],
             [
              0.1111111111111111,
              "#46039f"
             ],
             [
              0.2222222222222222,
              "#7201a8"
             ],
             [
              0.3333333333333333,
              "#9c179e"
             ],
             [
              0.4444444444444444,
              "#bd3786"
             ],
             [
              0.5555555555555556,
              "#d8576b"
             ],
             [
              0.6666666666666666,
              "#ed7953"
             ],
             [
              0.7777777777777778,
              "#fb9f3a"
             ],
             [
              0.8888888888888888,
              "#fdca26"
             ],
             [
              1,
              "#f0f921"
             ]
            ],
            "type": "contour"
           }
          ],
          "contourcarpet": [
           {
            "colorbar": {
             "outlinewidth": 0,
             "ticks": ""
            },
            "type": "contourcarpet"
           }
          ],
          "heatmap": [
           {
            "colorbar": {
             "outlinewidth": 0,
             "ticks": ""
            },
            "colorscale": [
             [
              0,
              "#0d0887"
             ],
             [
              0.1111111111111111,
              "#46039f"
             ],
             [
              0.2222222222222222,
              "#7201a8"
             ],
             [
              0.3333333333333333,
              "#9c179e"
             ],
             [
              0.4444444444444444,
              "#bd3786"
             ],
             [
              0.5555555555555556,
              "#d8576b"
             ],
             [
              0.6666666666666666,
              "#ed7953"
             ],
             [
              0.7777777777777778,
              "#fb9f3a"
             ],
             [
              0.8888888888888888,
              "#fdca26"
             ],
             [
              1,
              "#f0f921"
             ]
            ],
            "type": "heatmap"
           }
          ],
          "histogram": [
           {
            "marker": {
             "pattern": {
              "fillmode": "overlay",
              "size": 10,
              "solidity": 0.2
             }
            },
            "type": "histogram"
           }
          ],
          "histogram2d": [
           {
            "colorbar": {
             "outlinewidth": 0,
             "ticks": ""
            },
            "colorscale": [
             [
              0,
              "#0d0887"
             ],
             [
              0.1111111111111111,
              "#46039f"
             ],
             [
              0.2222222222222222,
              "#7201a8"
             ],
             [
              0.3333333333333333,
              "#9c179e"
             ],
             [
              0.4444444444444444,
              "#bd3786"
             ],
             [
              0.5555555555555556,
              "#d8576b"
             ],
             [
              0.6666666666666666,
              "#ed7953"
             ],
             [
              0.7777777777777778,
              "#fb9f3a"
             ],
             [
              0.8888888888888888,
              "#fdca26"
             ],
             [
              1,
              "#f0f921"
             ]
            ],
            "type": "histogram2d"
           }
          ],
          "histogram2dcontour": [
           {
            "colorbar": {
             "outlinewidth": 0,
             "ticks": ""
            },
            "colorscale": [
             [
              0,
              "#0d0887"
             ],
             [
              0.1111111111111111,
              "#46039f"
             ],
             [
              0.2222222222222222,
              "#7201a8"
             ],
             [
              0.3333333333333333,
              "#9c179e"
             ],
             [
              0.4444444444444444,
              "#bd3786"
             ],
             [
              0.5555555555555556,
              "#d8576b"
             ],
             [
              0.6666666666666666,
              "#ed7953"
             ],
             [
              0.7777777777777778,
              "#fb9f3a"
             ],
             [
              0.8888888888888888,
              "#fdca26"
             ],
             [
              1,
              "#f0f921"
             ]
            ],
            "type": "histogram2dcontour"
           }
          ],
          "mesh3d": [
           {
            "colorbar": {
             "outlinewidth": 0,
             "ticks": ""
            },
            "type": "mesh3d"
           }
          ],
          "parcoords": [
           {
            "line": {
             "colorbar": {
              "outlinewidth": 0,
              "ticks": ""
             }
            },
            "type": "parcoords"
           }
          ],
          "pie": [
           {
            "automargin": true,
            "type": "pie"
           }
          ],
          "scatter": [
           {
            "fillpattern": {
             "fillmode": "overlay",
             "size": 10,
             "solidity": 0.2
            },
            "type": "scatter"
           }
          ],
          "scatter3d": [
           {
            "line": {
             "colorbar": {
              "outlinewidth": 0,
              "ticks": ""
             }
            },
            "marker": {
             "colorbar": {
              "outlinewidth": 0,
              "ticks": ""
             }
            },
            "type": "scatter3d"
           }
          ],
          "scattercarpet": [
           {
            "marker": {
             "colorbar": {
              "outlinewidth": 0,
              "ticks": ""
             }
            },
            "type": "scattercarpet"
           }
          ],
          "scattergeo": [
           {
            "marker": {
             "colorbar": {
              "outlinewidth": 0,
              "ticks": ""
             }
            },
            "type": "scattergeo"
           }
          ],
          "scattergl": [
           {
            "marker": {
             "colorbar": {
              "outlinewidth": 0,
              "ticks": ""
             }
            },
            "type": "scattergl"
           }
          ],
          "scattermap": [
           {
            "marker": {
             "colorbar": {
              "outlinewidth": 0,
              "ticks": ""
             }
            },
            "type": "scattermap"
           }
          ],
          "scattermapbox": [
           {
            "marker": {
             "colorbar": {
              "outlinewidth": 0,
              "ticks": ""
             }
            },
            "type": "scattermapbox"
           }
          ],
          "scatterpolar": [
           {
            "marker": {
             "colorbar": {
              "outlinewidth": 0,
              "ticks": ""
             }
            },
            "type": "scatterpolar"
           }
          ],
          "scatterpolargl": [
           {
            "marker": {
             "colorbar": {
              "outlinewidth": 0,
              "ticks": ""
             }
            },
            "type": "scatterpolargl"
           }
          ],
          "scatterternary": [
           {
            "marker": {
             "colorbar": {
              "outlinewidth": 0,
              "ticks": ""
             }
            },
            "type": "scatterternary"
           }
          ],
          "surface": [
           {
            "colorbar": {
             "outlinewidth": 0,
             "ticks": ""
            },
            "colorscale": [
             [
              0,
              "#0d0887"
             ],
             [
              0.1111111111111111,
              "#46039f"
             ],
             [
              0.2222222222222222,
              "#7201a8"
             ],
             [
              0.3333333333333333,
              "#9c179e"
             ],
             [
              0.4444444444444444,
              "#bd3786"
             ],
             [
              0.5555555555555556,
              "#d8576b"
             ],
             [
              0.6666666666666666,
              "#ed7953"
             ],
             [
              0.7777777777777778,
              "#fb9f3a"
             ],
             [
              0.8888888888888888,
              "#fdca26"
             ],
             [
              1,
              "#f0f921"
             ]
            ],
            "type": "surface"
           }
          ],
          "table": [
           {
            "cells": {
             "fill": {
              "color": "#EBF0F8"
             },
             "line": {
              "color": "white"
             }
            },
            "header": {
             "fill": {
              "color": "#C8D4E3"
             },
             "line": {
              "color": "white"
             }
            },
            "type": "table"
           }
          ]
         },
         "layout": {
          "annotationdefaults": {
           "arrowcolor": "#2a3f5f",
           "arrowhead": 0,
           "arrowwidth": 1
          },
          "autotypenumbers": "strict",
          "coloraxis": {
           "colorbar": {
            "outlinewidth": 0,
            "ticks": ""
           }
          },
          "colorscale": {
           "diverging": [
            [
             0,
             "#8e0152"
            ],
            [
             0.1,
             "#c51b7d"
            ],
            [
             0.2,
             "#de77ae"
            ],
            [
             0.3,
             "#f1b6da"
            ],
            [
             0.4,
             "#fde0ef"
            ],
            [
             0.5,
             "#f7f7f7"
            ],
            [
             0.6,
             "#e6f5d0"
            ],
            [
             0.7,
             "#b8e186"
            ],
            [
             0.8,
             "#7fbc41"
            ],
            [
             0.9,
             "#4d9221"
            ],
            [
             1,
             "#276419"
            ]
           ],
           "sequential": [
            [
             0,
             "#0d0887"
            ],
            [
             0.1111111111111111,
             "#46039f"
            ],
            [
             0.2222222222222222,
             "#7201a8"
            ],
            [
             0.3333333333333333,
             "#9c179e"
            ],
            [
             0.4444444444444444,
             "#bd3786"
            ],
            [
             0.5555555555555556,
             "#d8576b"
            ],
            [
             0.6666666666666666,
             "#ed7953"
            ],
            [
             0.7777777777777778,
             "#fb9f3a"
            ],
            [
             0.8888888888888888,
             "#fdca26"
            ],
            [
             1,
             "#f0f921"
            ]
           ],
           "sequentialminus": [
            [
             0,
             "#0d0887"
            ],
            [
             0.1111111111111111,
             "#46039f"
            ],
            [
             0.2222222222222222,
             "#7201a8"
            ],
            [
             0.3333333333333333,
             "#9c179e"
            ],
            [
             0.4444444444444444,
             "#bd3786"
            ],
            [
             0.5555555555555556,
             "#d8576b"
            ],
            [
             0.6666666666666666,
             "#ed7953"
            ],
            [
             0.7777777777777778,
             "#fb9f3a"
            ],
            [
             0.8888888888888888,
             "#fdca26"
            ],
            [
             1,
             "#f0f921"
            ]
           ]
          },
          "colorway": [
           "#636efa",
           "#EF553B",
           "#00cc96",
           "#ab63fa",
           "#FFA15A",
           "#19d3f3",
           "#FF6692",
           "#B6E880",
           "#FF97FF",
           "#FECB52"
          ],
          "font": {
           "color": "#2a3f5f"
          },
          "geo": {
           "bgcolor": "white",
           "lakecolor": "white",
           "landcolor": "#E5ECF6",
           "showlakes": true,
           "showland": true,
           "subunitcolor": "white"
          },
          "hoverlabel": {
           "align": "left"
          },
          "hovermode": "closest",
          "mapbox": {
           "style": "light"
          },
          "paper_bgcolor": "white",
          "plot_bgcolor": "#E5ECF6",
          "polar": {
           "angularaxis": {
            "gridcolor": "white",
            "linecolor": "white",
            "ticks": ""
           },
           "bgcolor": "#E5ECF6",
           "radialaxis": {
            "gridcolor": "white",
            "linecolor": "white",
            "ticks": ""
           }
          },
          "scene": {
           "xaxis": {
            "backgroundcolor": "#E5ECF6",
            "gridcolor": "white",
            "gridwidth": 2,
            "linecolor": "white",
            "showbackground": true,
            "ticks": "",
            "zerolinecolor": "white"
           },
           "yaxis": {
            "backgroundcolor": "#E5ECF6",
            "gridcolor": "white",
            "gridwidth": 2,
            "linecolor": "white",
            "showbackground": true,
            "ticks": "",
            "zerolinecolor": "white"
           },
           "zaxis": {
            "backgroundcolor": "#E5ECF6",
            "gridcolor": "white",
            "gridwidth": 2,
            "linecolor": "white",
            "showbackground": true,
            "ticks": "",
            "zerolinecolor": "white"
           }
          },
          "shapedefaults": {
           "line": {
            "color": "#2a3f5f"
           }
          },
          "ternary": {
           "aaxis": {
            "gridcolor": "white",
            "linecolor": "white",
            "ticks": ""
           },
           "baxis": {
            "gridcolor": "white",
            "linecolor": "white",
            "ticks": ""
           },
           "bgcolor": "#E5ECF6",
           "caxis": {
            "gridcolor": "white",
            "linecolor": "white",
            "ticks": ""
           }
          },
          "title": {
           "x": 0.05
          },
          "xaxis": {
           "automargin": true,
           "gridcolor": "white",
           "linecolor": "white",
           "ticks": "",
           "title": {
            "standoff": 15
           },
           "zerolinecolor": "white",
           "zerolinewidth": 2
          },
          "yaxis": {
           "automargin": true,
           "gridcolor": "white",
           "linecolor": "white",
           "ticks": "",
           "title": {
            "standoff": 15
           },
           "zerolinecolor": "white",
           "zerolinewidth": 2
          }
         }
        },
        "title": {
         "text": "Execution time of ForecasterRecursive_fit"
        },
        "xaxis": {
         "anchor": "y",
         "categoryarray": [
          "0.12.0",
          "0.14.0",
          "0.15.0",
          "0.16.0"
         ],
         "categoryorder": "array",
         "domain": [
          0,
          1
         ],
         "title": {
          "text": "skforecast version"
         }
        },
        "yaxis": {
         "anchor": "x",
         "domain": [
          0,
          1
         ],
         "title": {
          "text": "Execution time (seconds)"
         }
        }
       }
      }
     },
     "metadata": {},
     "output_type": "display_data"
    },
    {
     "data": {
      "application/vnd.microsoft.datawrangler.viewer.v0+json": {
       "columns": [
        {
         "name": "index",
         "rawType": "int64",
         "type": "integer"
        },
        {
         "name": "forecaster_name",
         "rawType": "object",
         "type": "string"
        },
        {
         "name": "function_name",
         "rawType": "object",
         "type": "string"
        },
        {
         "name": "function_hash",
         "rawType": "object",
         "type": "string"
        },
        {
         "name": "run_time_avg",
         "rawType": "float64",
         "type": "float"
        },
        {
         "name": "run_time_std_dev",
         "rawType": "float64",
         "type": "float"
        },
        {
         "name": "datetime",
         "rawType": "datetime64[ns]",
         "type": "datetime"
        },
        {
         "name": "python_version",
         "rawType": "object",
         "type": "string"
        },
        {
         "name": "skforecast_version",
         "rawType": "object",
         "type": "string"
        },
        {
         "name": "numpy_version",
         "rawType": "object",
         "type": "string"
        },
        {
         "name": "pandas_version",
         "rawType": "object",
         "type": "string"
        },
        {
         "name": "sklearn_version",
         "rawType": "object",
         "type": "string"
        },
        {
         "name": "lightgbm_version",
         "rawType": "object",
         "type": "string"
        },
        {
         "name": "platform",
         "rawType": "object",
         "type": "string"
        },
        {
         "name": "processor",
         "rawType": "object",
         "type": "string"
        },
        {
         "name": "cpu_count",
         "rawType": "int64",
         "type": "integer"
        },
        {
         "name": "memory_gb",
         "rawType": "float64",
         "type": "float"
        }
       ],
       "conversionMethod": "pd.DataFrame",
       "ref": "b5d09234-0a02-45fc-a3ab-aa2bb6c67e0b",
       "rows": [
        [
         "25",
         "ForecasterRecursive",
         "ForecasterRecursive__create_train_X_y",
         "287fbd1c4920496341a9d5f9b9a9aa2a",
         null,
         null,
         "2025-04-22 21:26:09.456096",
         "3.12.9",
         "0.14.0",
         "1.26.4",
         "2.2.3",
         "1.4.2",
         "4.6.0",
         "Linux-6.11.0-21-generic-x86_64-with-glibc2.39",
         "x86_64",
         "8",
         "16.64"
        ],
        [
         "27",
         "ForecasterRecursive",
         "ForecasterRecursive__create_train_X_y",
         "287fbd1c4920496341a9d5f9b9a9aa2a",
         null,
         null,
         "2025-04-22 21:26:24.729070",
         "3.12.9",
         "0.14.0",
         "1.26.4",
         "2.2.3",
         "1.4.2",
         "4.6.0",
         "Linux-6.11.0-21-generic-x86_64-with-glibc2.39",
         "x86_64",
         "8",
         "16.64"
        ],
        [
         "29",
         "ForecasterRecursive",
         "ForecasterRecursive__create_train_X_y",
         "287fbd1c4920496341a9d5f9b9a9aa2a",
         "0.0027693660001204988",
         "0.0002948461436100899",
         "2025-04-22 21:26:54.435579",
         "3.12.9",
         "0.14.0",
         "1.26.4",
         "2.2.3",
         "1.4.2",
         "4.6.0",
         "Linux-6.11.0-21-generic-x86_64-with-glibc2.39",
         "x86_64",
         "8",
         "16.64"
        ],
        [
         "33",
         "ForecasterRecursive",
         "ForecasterRecursive__create_train_X_y",
         "287fbd1c4920496341a9d5f9b9a9aa2a",
         "0.002705069799958437",
         "0.00014245970472750603",
         "2025-04-22 21:27:05.390762",
         "3.12.9",
         "0.14.0",
         "1.26.4",
         "2.2.3",
         "1.4.2",
         "4.6.0",
         "Linux-6.11.0-21-generic-x86_64-with-glibc2.39",
         "x86_64",
         "8",
         "16.64"
        ],
        [
         "45",
         "ForecasterRecursive",
         "ForecasterRecursive__create_train_X_y",
         "287fbd1c4920496341a9d5f9b9a9aa2a",
         "0.003999497999984669",
         "0.000601753208569619",
         "2025-04-22 21:31:05.512059",
         "3.12.9",
         "0.14.0",
         "1.26.4",
         "2.2.3",
         "1.4.2",
         "4.6.0",
         "Linux-6.11.0-21-generic-x86_64-with-glibc2.39",
         "x86_64",
         "8",
         "16.64"
        ],
        [
         "57",
         "ForecasterRecursive",
         "ForecasterRecursive__create_train_X_y",
         "287fbd1c4920496341a9d5f9b9a9aa2a",
         "0.0058493789001659025",
         "0.0008399680806365836",
         "2025-04-22 21:35:39.897474",
         "3.12.9",
         "0.15.0",
         "1.26.4",
         "2.2.3",
         "1.4.2",
         "4.6.0",
         "Linux-6.11.0-21-generic-x86_64-with-glibc2.39",
         "x86_64",
         "8",
         "16.64"
        ],
        [
         "69",
         "ForecasterRecursive",
         "ForecasterRecursive__create_train_X_y",
         "287fbd1c4920496341a9d5f9b9a9aa2a",
         "0.0051311931997588545",
         "0.0006893804992806374",
         "2025-04-22 21:46:35.096647",
         "3.12.9",
         "0.15.0",
         "2.2.5",
         "2.2.3",
         "1.6.1",
         "4.6.0",
         "Linux-6.11.0-21-generic-x86_64-with-glibc2.39",
         "x86_64",
         "8",
         "16.64"
        ],
        [
         "81",
         "ForecasterRecursive",
         "ForecasterRecursive__create_train_X_y",
         "287fbd1c4920496341a9d5f9b9a9aa2a",
         "0.004212790700057667",
         "0.0013932518143216649",
         "2025-04-22 21:56:16.672542",
         "3.12.9",
         "0.16.0",
         "2.2.5",
         "2.2.3",
         "1.6.1",
         "4.6.0",
         "Linux-6.11.0-21-generic-x86_64-with-glibc2.39",
         "x86_64",
         "8",
         "16.64"
        ],
        [
         "93",
         "ForecasterRecursive",
         "ForecasterRecursive__create_train_X_y",
         "287fbd1c4920496341a9d5f9b9a9aa2a",
         "0.00544458759995905",
         "0.000558665172431099",
         "2025-04-22 22:10:58.328841",
         "3.12.9",
         "0.16.0",
         "1.26.4",
         "2.2.3",
         "1.6.1",
         "4.6.0",
         "Linux-6.11.0-21-generic-x86_64-with-glibc2.39",
         "x86_64",
         "8",
         "16.64"
        ],
        [
         "105",
         "ForecasterAutoreg",
         "ForecasterRecursive__create_train_X_y",
         "287fbd1c4920496341a9d5f9b9a9aa2a",
         null,
         null,
         "2025-04-22 22:25:50.454382",
         "3.12.9",
         "0.12.0",
         "1.26.4",
         "2.2.3",
         "1.4.2",
         "4.6.0",
         "Linux-6.11.0-21-generic-x86_64-with-glibc2.39",
         "x86_64",
         "8",
         "16.64"
        ],
        [
         "117",
         "ForecasterAutoreg",
         "ForecasterRecursive__create_train_X_y",
         "287fbd1c4920496341a9d5f9b9a9aa2a",
         null,
         null,
         "2025-04-22 22:39:45.636360",
         "3.12.9",
         "0.12.0",
         "1.26.4",
         "2.2.3",
         "1.4.2",
         "4.6.0",
         "Linux-6.11.0-21-generic-x86_64-with-glibc2.39",
         "x86_64",
         "8",
         "16.64"
        ]
       ],
       "shape": {
        "columns": 16,
        "rows": 11
       }
      },
      "text/html": [
       "<div>\n",
       "<style scoped>\n",
       "    .dataframe tbody tr th:only-of-type {\n",
       "        vertical-align: middle;\n",
       "    }\n",
       "\n",
       "    .dataframe tbody tr th {\n",
       "        vertical-align: top;\n",
       "    }\n",
       "\n",
       "    .dataframe thead th {\n",
       "        text-align: right;\n",
       "    }\n",
       "</style>\n",
       "<table border=\"1\" class=\"dataframe\">\n",
       "  <thead>\n",
       "    <tr style=\"text-align: right;\">\n",
       "      <th></th>\n",
       "      <th>forecaster_name</th>\n",
       "      <th>function_name</th>\n",
       "      <th>function_hash</th>\n",
       "      <th>run_time_avg</th>\n",
       "      <th>run_time_std_dev</th>\n",
       "      <th>datetime</th>\n",
       "      <th>python_version</th>\n",
       "      <th>skforecast_version</th>\n",
       "      <th>numpy_version</th>\n",
       "      <th>pandas_version</th>\n",
       "      <th>sklearn_version</th>\n",
       "      <th>lightgbm_version</th>\n",
       "      <th>platform</th>\n",
       "      <th>processor</th>\n",
       "      <th>cpu_count</th>\n",
       "      <th>memory_gb</th>\n",
       "    </tr>\n",
       "  </thead>\n",
       "  <tbody>\n",
       "    <tr>\n",
       "      <th>25</th>\n",
       "      <td>ForecasterRecursive</td>\n",
       "      <td>ForecasterRecursive__create_train_X_y</td>\n",
       "      <td>287fbd1c4920496341a9d5f9b9a9aa2a</td>\n",
       "      <td>NaN</td>\n",
       "      <td>NaN</td>\n",
       "      <td>2025-04-22 21:26:09.456096</td>\n",
       "      <td>3.12.9</td>\n",
       "      <td>0.14.0</td>\n",
       "      <td>1.26.4</td>\n",
       "      <td>2.2.3</td>\n",
       "      <td>1.4.2</td>\n",
       "      <td>4.6.0</td>\n",
       "      <td>Linux-6.11.0-21-generic-x86_64-with-glibc2.39</td>\n",
       "      <td>x86_64</td>\n",
       "      <td>8</td>\n",
       "      <td>16.64</td>\n",
       "    </tr>\n",
       "    <tr>\n",
       "      <th>27</th>\n",
       "      <td>ForecasterRecursive</td>\n",
       "      <td>ForecasterRecursive__create_train_X_y</td>\n",
       "      <td>287fbd1c4920496341a9d5f9b9a9aa2a</td>\n",
       "      <td>NaN</td>\n",
       "      <td>NaN</td>\n",
       "      <td>2025-04-22 21:26:24.729070</td>\n",
       "      <td>3.12.9</td>\n",
       "      <td>0.14.0</td>\n",
       "      <td>1.26.4</td>\n",
       "      <td>2.2.3</td>\n",
       "      <td>1.4.2</td>\n",
       "      <td>4.6.0</td>\n",
       "      <td>Linux-6.11.0-21-generic-x86_64-with-glibc2.39</td>\n",
       "      <td>x86_64</td>\n",
       "      <td>8</td>\n",
       "      <td>16.64</td>\n",
       "    </tr>\n",
       "    <tr>\n",
       "      <th>29</th>\n",
       "      <td>ForecasterRecursive</td>\n",
       "      <td>ForecasterRecursive__create_train_X_y</td>\n",
       "      <td>287fbd1c4920496341a9d5f9b9a9aa2a</td>\n",
       "      <td>0.002769</td>\n",
       "      <td>0.000295</td>\n",
       "      <td>2025-04-22 21:26:54.435579</td>\n",
       "      <td>3.12.9</td>\n",
       "      <td>0.14.0</td>\n",
       "      <td>1.26.4</td>\n",
       "      <td>2.2.3</td>\n",
       "      <td>1.4.2</td>\n",
       "      <td>4.6.0</td>\n",
       "      <td>Linux-6.11.0-21-generic-x86_64-with-glibc2.39</td>\n",
       "      <td>x86_64</td>\n",
       "      <td>8</td>\n",
       "      <td>16.64</td>\n",
       "    </tr>\n",
       "    <tr>\n",
       "      <th>33</th>\n",
       "      <td>ForecasterRecursive</td>\n",
       "      <td>ForecasterRecursive__create_train_X_y</td>\n",
       "      <td>287fbd1c4920496341a9d5f9b9a9aa2a</td>\n",
       "      <td>0.002705</td>\n",
       "      <td>0.000142</td>\n",
       "      <td>2025-04-22 21:27:05.390762</td>\n",
       "      <td>3.12.9</td>\n",
       "      <td>0.14.0</td>\n",
       "      <td>1.26.4</td>\n",
       "      <td>2.2.3</td>\n",
       "      <td>1.4.2</td>\n",
       "      <td>4.6.0</td>\n",
       "      <td>Linux-6.11.0-21-generic-x86_64-with-glibc2.39</td>\n",
       "      <td>x86_64</td>\n",
       "      <td>8</td>\n",
       "      <td>16.64</td>\n",
       "    </tr>\n",
       "    <tr>\n",
       "      <th>45</th>\n",
       "      <td>ForecasterRecursive</td>\n",
       "      <td>ForecasterRecursive__create_train_X_y</td>\n",
       "      <td>287fbd1c4920496341a9d5f9b9a9aa2a</td>\n",
       "      <td>0.003999</td>\n",
       "      <td>0.000602</td>\n",
       "      <td>2025-04-22 21:31:05.512059</td>\n",
       "      <td>3.12.9</td>\n",
       "      <td>0.14.0</td>\n",
       "      <td>1.26.4</td>\n",
       "      <td>2.2.3</td>\n",
       "      <td>1.4.2</td>\n",
       "      <td>4.6.0</td>\n",
       "      <td>Linux-6.11.0-21-generic-x86_64-with-glibc2.39</td>\n",
       "      <td>x86_64</td>\n",
       "      <td>8</td>\n",
       "      <td>16.64</td>\n",
       "    </tr>\n",
       "    <tr>\n",
       "      <th>57</th>\n",
       "      <td>ForecasterRecursive</td>\n",
       "      <td>ForecasterRecursive__create_train_X_y</td>\n",
       "      <td>287fbd1c4920496341a9d5f9b9a9aa2a</td>\n",
       "      <td>0.005849</td>\n",
       "      <td>0.000840</td>\n",
       "      <td>2025-04-22 21:35:39.897474</td>\n",
       "      <td>3.12.9</td>\n",
       "      <td>0.15.0</td>\n",
       "      <td>1.26.4</td>\n",
       "      <td>2.2.3</td>\n",
       "      <td>1.4.2</td>\n",
       "      <td>4.6.0</td>\n",
       "      <td>Linux-6.11.0-21-generic-x86_64-with-glibc2.39</td>\n",
       "      <td>x86_64</td>\n",
       "      <td>8</td>\n",
       "      <td>16.64</td>\n",
       "    </tr>\n",
       "    <tr>\n",
       "      <th>69</th>\n",
       "      <td>ForecasterRecursive</td>\n",
       "      <td>ForecasterRecursive__create_train_X_y</td>\n",
       "      <td>287fbd1c4920496341a9d5f9b9a9aa2a</td>\n",
       "      <td>0.005131</td>\n",
       "      <td>0.000689</td>\n",
       "      <td>2025-04-22 21:46:35.096647</td>\n",
       "      <td>3.12.9</td>\n",
       "      <td>0.15.0</td>\n",
       "      <td>2.2.5</td>\n",
       "      <td>2.2.3</td>\n",
       "      <td>1.6.1</td>\n",
       "      <td>4.6.0</td>\n",
       "      <td>Linux-6.11.0-21-generic-x86_64-with-glibc2.39</td>\n",
       "      <td>x86_64</td>\n",
       "      <td>8</td>\n",
       "      <td>16.64</td>\n",
       "    </tr>\n",
       "    <tr>\n",
       "      <th>81</th>\n",
       "      <td>ForecasterRecursive</td>\n",
       "      <td>ForecasterRecursive__create_train_X_y</td>\n",
       "      <td>287fbd1c4920496341a9d5f9b9a9aa2a</td>\n",
       "      <td>0.004213</td>\n",
       "      <td>0.001393</td>\n",
       "      <td>2025-04-22 21:56:16.672542</td>\n",
       "      <td>3.12.9</td>\n",
       "      <td>0.16.0</td>\n",
       "      <td>2.2.5</td>\n",
       "      <td>2.2.3</td>\n",
       "      <td>1.6.1</td>\n",
       "      <td>4.6.0</td>\n",
       "      <td>Linux-6.11.0-21-generic-x86_64-with-glibc2.39</td>\n",
       "      <td>x86_64</td>\n",
       "      <td>8</td>\n",
       "      <td>16.64</td>\n",
       "    </tr>\n",
       "    <tr>\n",
       "      <th>93</th>\n",
       "      <td>ForecasterRecursive</td>\n",
       "      <td>ForecasterRecursive__create_train_X_y</td>\n",
       "      <td>287fbd1c4920496341a9d5f9b9a9aa2a</td>\n",
       "      <td>0.005445</td>\n",
       "      <td>0.000559</td>\n",
       "      <td>2025-04-22 22:10:58.328841</td>\n",
       "      <td>3.12.9</td>\n",
       "      <td>0.16.0</td>\n",
       "      <td>1.26.4</td>\n",
       "      <td>2.2.3</td>\n",
       "      <td>1.6.1</td>\n",
       "      <td>4.6.0</td>\n",
       "      <td>Linux-6.11.0-21-generic-x86_64-with-glibc2.39</td>\n",
       "      <td>x86_64</td>\n",
       "      <td>8</td>\n",
       "      <td>16.64</td>\n",
       "    </tr>\n",
       "    <tr>\n",
       "      <th>105</th>\n",
       "      <td>ForecasterAutoreg</td>\n",
       "      <td>ForecasterRecursive__create_train_X_y</td>\n",
       "      <td>287fbd1c4920496341a9d5f9b9a9aa2a</td>\n",
       "      <td>NaN</td>\n",
       "      <td>NaN</td>\n",
       "      <td>2025-04-22 22:25:50.454382</td>\n",
       "      <td>3.12.9</td>\n",
       "      <td>0.12.0</td>\n",
       "      <td>1.26.4</td>\n",
       "      <td>2.2.3</td>\n",
       "      <td>1.4.2</td>\n",
       "      <td>4.6.0</td>\n",
       "      <td>Linux-6.11.0-21-generic-x86_64-with-glibc2.39</td>\n",
       "      <td>x86_64</td>\n",
       "      <td>8</td>\n",
       "      <td>16.64</td>\n",
       "    </tr>\n",
       "    <tr>\n",
       "      <th>117</th>\n",
       "      <td>ForecasterAutoreg</td>\n",
       "      <td>ForecasterRecursive__create_train_X_y</td>\n",
       "      <td>287fbd1c4920496341a9d5f9b9a9aa2a</td>\n",
       "      <td>NaN</td>\n",
       "      <td>NaN</td>\n",
       "      <td>2025-04-22 22:39:45.636360</td>\n",
       "      <td>3.12.9</td>\n",
       "      <td>0.12.0</td>\n",
       "      <td>1.26.4</td>\n",
       "      <td>2.2.3</td>\n",
       "      <td>1.4.2</td>\n",
       "      <td>4.6.0</td>\n",
       "      <td>Linux-6.11.0-21-generic-x86_64-with-glibc2.39</td>\n",
       "      <td>x86_64</td>\n",
       "      <td>8</td>\n",
       "      <td>16.64</td>\n",
       "    </tr>\n",
       "  </tbody>\n",
       "</table>\n",
       "</div>"
      ],
      "text/plain": [
       "         forecaster_name                          function_name  \\\n",
       "25   ForecasterRecursive  ForecasterRecursive__create_train_X_y   \n",
       "27   ForecasterRecursive  ForecasterRecursive__create_train_X_y   \n",
       "29   ForecasterRecursive  ForecasterRecursive__create_train_X_y   \n",
       "33   ForecasterRecursive  ForecasterRecursive__create_train_X_y   \n",
       "45   ForecasterRecursive  ForecasterRecursive__create_train_X_y   \n",
       "57   ForecasterRecursive  ForecasterRecursive__create_train_X_y   \n",
       "69   ForecasterRecursive  ForecasterRecursive__create_train_X_y   \n",
       "81   ForecasterRecursive  ForecasterRecursive__create_train_X_y   \n",
       "93   ForecasterRecursive  ForecasterRecursive__create_train_X_y   \n",
       "105    ForecasterAutoreg  ForecasterRecursive__create_train_X_y   \n",
       "117    ForecasterAutoreg  ForecasterRecursive__create_train_X_y   \n",
       "\n",
       "                        function_hash  run_time_avg  run_time_std_dev  \\\n",
       "25   287fbd1c4920496341a9d5f9b9a9aa2a           NaN               NaN   \n",
       "27   287fbd1c4920496341a9d5f9b9a9aa2a           NaN               NaN   \n",
       "29   287fbd1c4920496341a9d5f9b9a9aa2a      0.002769          0.000295   \n",
       "33   287fbd1c4920496341a9d5f9b9a9aa2a      0.002705          0.000142   \n",
       "45   287fbd1c4920496341a9d5f9b9a9aa2a      0.003999          0.000602   \n",
       "57   287fbd1c4920496341a9d5f9b9a9aa2a      0.005849          0.000840   \n",
       "69   287fbd1c4920496341a9d5f9b9a9aa2a      0.005131          0.000689   \n",
       "81   287fbd1c4920496341a9d5f9b9a9aa2a      0.004213          0.001393   \n",
       "93   287fbd1c4920496341a9d5f9b9a9aa2a      0.005445          0.000559   \n",
       "105  287fbd1c4920496341a9d5f9b9a9aa2a           NaN               NaN   \n",
       "117  287fbd1c4920496341a9d5f9b9a9aa2a           NaN               NaN   \n",
       "\n",
       "                      datetime python_version skforecast_version  \\\n",
       "25  2025-04-22 21:26:09.456096         3.12.9             0.14.0   \n",
       "27  2025-04-22 21:26:24.729070         3.12.9             0.14.0   \n",
       "29  2025-04-22 21:26:54.435579         3.12.9             0.14.0   \n",
       "33  2025-04-22 21:27:05.390762         3.12.9             0.14.0   \n",
       "45  2025-04-22 21:31:05.512059         3.12.9             0.14.0   \n",
       "57  2025-04-22 21:35:39.897474         3.12.9             0.15.0   \n",
       "69  2025-04-22 21:46:35.096647         3.12.9             0.15.0   \n",
       "81  2025-04-22 21:56:16.672542         3.12.9             0.16.0   \n",
       "93  2025-04-22 22:10:58.328841         3.12.9             0.16.0   \n",
       "105 2025-04-22 22:25:50.454382         3.12.9             0.12.0   \n",
       "117 2025-04-22 22:39:45.636360         3.12.9             0.12.0   \n",
       "\n",
       "    numpy_version pandas_version sklearn_version lightgbm_version  \\\n",
       "25         1.26.4          2.2.3           1.4.2            4.6.0   \n",
       "27         1.26.4          2.2.3           1.4.2            4.6.0   \n",
       "29         1.26.4          2.2.3           1.4.2            4.6.0   \n",
       "33         1.26.4          2.2.3           1.4.2            4.6.0   \n",
       "45         1.26.4          2.2.3           1.4.2            4.6.0   \n",
       "57         1.26.4          2.2.3           1.4.2            4.6.0   \n",
       "69          2.2.5          2.2.3           1.6.1            4.6.0   \n",
       "81          2.2.5          2.2.3           1.6.1            4.6.0   \n",
       "93         1.26.4          2.2.3           1.6.1            4.6.0   \n",
       "105        1.26.4          2.2.3           1.4.2            4.6.0   \n",
       "117        1.26.4          2.2.3           1.4.2            4.6.0   \n",
       "\n",
       "                                          platform processor  cpu_count  \\\n",
       "25   Linux-6.11.0-21-generic-x86_64-with-glibc2.39    x86_64          8   \n",
       "27   Linux-6.11.0-21-generic-x86_64-with-glibc2.39    x86_64          8   \n",
       "29   Linux-6.11.0-21-generic-x86_64-with-glibc2.39    x86_64          8   \n",
       "33   Linux-6.11.0-21-generic-x86_64-with-glibc2.39    x86_64          8   \n",
       "45   Linux-6.11.0-21-generic-x86_64-with-glibc2.39    x86_64          8   \n",
       "57   Linux-6.11.0-21-generic-x86_64-with-glibc2.39    x86_64          8   \n",
       "69   Linux-6.11.0-21-generic-x86_64-with-glibc2.39    x86_64          8   \n",
       "81   Linux-6.11.0-21-generic-x86_64-with-glibc2.39    x86_64          8   \n",
       "93   Linux-6.11.0-21-generic-x86_64-with-glibc2.39    x86_64          8   \n",
       "105  Linux-6.11.0-21-generic-x86_64-with-glibc2.39    x86_64          8   \n",
       "117  Linux-6.11.0-21-generic-x86_64-with-glibc2.39    x86_64          8   \n",
       "\n",
       "     memory_gb  \n",
       "25       16.64  \n",
       "27       16.64  \n",
       "29       16.64  \n",
       "33       16.64  \n",
       "45       16.64  \n",
       "57       16.64  \n",
       "69       16.64  \n",
       "81       16.64  \n",
       "93       16.64  \n",
       "105      16.64  \n",
       "117      16.64  "
      ]
     },
     "metadata": {},
     "output_type": "display_data"
    },
    {
     "data": {
      "application/vnd.plotly.v1+json": {
       "config": {
        "plotlyServerURL": "https://plot.ly"
       },
       "data": [
        {
         "alignmentgroup": "True",
         "boxpoints": "all",
         "customdata": [
          [
           "ForecasterAutoreg",
           "ForecasterRecursive__create_train_X_y",
           "287fbd1c4920496341a9d5f9b9a9aa2a",
           null,
           "2025-04-22T22:25:50.454382",
           "3.12.9",
           "1.26.4",
           "2.2.3",
           "1.4.2",
           "4.6.0",
           "Linux-6.11.0-21-generic-x86_64-with-glibc2.39",
           "x86_64",
           8,
           16.64
          ],
          [
           "ForecasterAutoreg",
           "ForecasterRecursive__create_train_X_y",
           "287fbd1c4920496341a9d5f9b9a9aa2a",
           null,
           "2025-04-22T22:39:45.636360",
           "3.12.9",
           "1.26.4",
           "2.2.3",
           "1.4.2",
           "4.6.0",
           "Linux-6.11.0-21-generic-x86_64-with-glibc2.39",
           "x86_64",
           8,
           16.64
          ]
         ],
         "fillcolor": "rgba(255,255,255,0)",
         "hoveron": "points",
         "hovertemplate": "skforecast_version=%{x}<br>run_time_avg=%{y}<br>forecaster_name=%{customdata[0]}<br>function_name=%{customdata[1]}<br>function_hash=%{customdata[2]}<br>run_time_std_dev=%{customdata[3]}<br>datetime=%{customdata[4]}<br>python_version=%{customdata[5]}<br>numpy_version=%{customdata[6]}<br>pandas_version=%{customdata[7]}<br>sklearn_version=%{customdata[8]}<br>lightgbm_version=%{customdata[9]}<br>platform=%{customdata[10]}<br>processor=%{customdata[11]}<br>cpu_count=%{customdata[12]}<br>memory_gb=%{customdata[13]}<extra></extra>",
         "jitter": true,
         "legendgroup": "0.12.0",
         "line": {
          "color": "rgba(255,255,255,0)"
         },
         "marker": {
          "color": "#636efa",
          "opacity": 0.7,
          "size": 10
         },
         "name": "0.12.0",
         "offsetgroup": "0.12.0",
         "orientation": "v",
         "pointpos": 0,
         "showlegend": true,
         "type": "box",
         "x": [
          "0.12.0",
          "0.12.0"
         ],
         "x0": " ",
         "xaxis": "x",
         "y": {
          "bdata": "AAAAAAAA+H8AAAAAAAD4fw==",
          "dtype": "f8"
         },
         "y0": " ",
         "yaxis": "y"
        },
        {
         "alignmentgroup": "True",
         "boxpoints": "all",
         "customdata": [
          [
           "ForecasterRecursive",
           "ForecasterRecursive__create_train_X_y",
           "287fbd1c4920496341a9d5f9b9a9aa2a",
           null,
           "2025-04-22T21:26:09.456096",
           "3.12.9",
           "1.26.4",
           "2.2.3",
           "1.4.2",
           "4.6.0",
           "Linux-6.11.0-21-generic-x86_64-with-glibc2.39",
           "x86_64",
           8,
           16.64
          ],
          [
           "ForecasterRecursive",
           "ForecasterRecursive__create_train_X_y",
           "287fbd1c4920496341a9d5f9b9a9aa2a",
           null,
           "2025-04-22T21:26:24.729070",
           "3.12.9",
           "1.26.4",
           "2.2.3",
           "1.4.2",
           "4.6.0",
           "Linux-6.11.0-21-generic-x86_64-with-glibc2.39",
           "x86_64",
           8,
           16.64
          ],
          [
           "ForecasterRecursive",
           "ForecasterRecursive__create_train_X_y",
           "287fbd1c4920496341a9d5f9b9a9aa2a",
           0.0002948461436100899,
           "2025-04-22T21:26:54.435579",
           "3.12.9",
           "1.26.4",
           "2.2.3",
           "1.4.2",
           "4.6.0",
           "Linux-6.11.0-21-generic-x86_64-with-glibc2.39",
           "x86_64",
           8,
           16.64
          ],
          [
           "ForecasterRecursive",
           "ForecasterRecursive__create_train_X_y",
           "287fbd1c4920496341a9d5f9b9a9aa2a",
           0.00014245970472750603,
           "2025-04-22T21:27:05.390762",
           "3.12.9",
           "1.26.4",
           "2.2.3",
           "1.4.2",
           "4.6.0",
           "Linux-6.11.0-21-generic-x86_64-with-glibc2.39",
           "x86_64",
           8,
           16.64
          ],
          [
           "ForecasterRecursive",
           "ForecasterRecursive__create_train_X_y",
           "287fbd1c4920496341a9d5f9b9a9aa2a",
           0.000601753208569619,
           "2025-04-22T21:31:05.512059",
           "3.12.9",
           "1.26.4",
           "2.2.3",
           "1.4.2",
           "4.6.0",
           "Linux-6.11.0-21-generic-x86_64-with-glibc2.39",
           "x86_64",
           8,
           16.64
          ]
         ],
         "fillcolor": "rgba(255,255,255,0)",
         "hoveron": "points",
         "hovertemplate": "skforecast_version=%{x}<br>run_time_avg=%{y}<br>forecaster_name=%{customdata[0]}<br>function_name=%{customdata[1]}<br>function_hash=%{customdata[2]}<br>run_time_std_dev=%{customdata[3]}<br>datetime=%{customdata[4]}<br>python_version=%{customdata[5]}<br>numpy_version=%{customdata[6]}<br>pandas_version=%{customdata[7]}<br>sklearn_version=%{customdata[8]}<br>lightgbm_version=%{customdata[9]}<br>platform=%{customdata[10]}<br>processor=%{customdata[11]}<br>cpu_count=%{customdata[12]}<br>memory_gb=%{customdata[13]}<extra></extra>",
         "jitter": true,
         "legendgroup": "0.14.0",
         "line": {
          "color": "rgba(255,255,255,0)"
         },
         "marker": {
          "color": "#EF553B",
          "opacity": 0.7,
          "size": 10
         },
         "name": "0.14.0",
         "offsetgroup": "0.14.0",
         "orientation": "v",
         "pointpos": 0,
         "showlegend": true,
         "type": "box",
         "x": [
          "0.14.0",
          "0.14.0",
          "0.14.0",
          "0.14.0",
          "0.14.0"
         ],
         "x0": " ",
         "xaxis": "x",
         "y": {
          "bdata": "AAAAAAAA+H8AAAAAAAD4f2Zm1gzIr2Y/AABgSvEoZj8AAMQRx2FwPw==",
          "dtype": "f8"
         },
         "y0": " ",
         "yaxis": "y"
        },
        {
         "alignmentgroup": "True",
         "boxpoints": "all",
         "customdata": [
          [
           "ForecasterRecursive",
           "ForecasterRecursive__create_train_X_y",
           "287fbd1c4920496341a9d5f9b9a9aa2a",
           0.0008399680806365836,
           "2025-04-22T21:35:39.897474",
           "3.12.9",
           "1.26.4",
           "2.2.3",
           "1.4.2",
           "4.6.0",
           "Linux-6.11.0-21-generic-x86_64-with-glibc2.39",
           "x86_64",
           8,
           16.64
          ],
          [
           "ForecasterRecursive",
           "ForecasterRecursive__create_train_X_y",
           "287fbd1c4920496341a9d5f9b9a9aa2a",
           0.0006893804992806374,
           "2025-04-22T21:46:35.096647",
           "3.12.9",
           "2.2.5",
           "2.2.3",
           "1.6.1",
           "4.6.0",
           "Linux-6.11.0-21-generic-x86_64-with-glibc2.39",
           "x86_64",
           8,
           16.64
          ]
         ],
         "fillcolor": "rgba(255,255,255,0)",
         "hoveron": "points",
         "hovertemplate": "skforecast_version=%{x}<br>run_time_avg=%{y}<br>forecaster_name=%{customdata[0]}<br>function_name=%{customdata[1]}<br>function_hash=%{customdata[2]}<br>run_time_std_dev=%{customdata[3]}<br>datetime=%{customdata[4]}<br>python_version=%{customdata[5]}<br>numpy_version=%{customdata[6]}<br>pandas_version=%{customdata[7]}<br>sklearn_version=%{customdata[8]}<br>lightgbm_version=%{customdata[9]}<br>platform=%{customdata[10]}<br>processor=%{customdata[11]}<br>cpu_count=%{customdata[12]}<br>memory_gb=%{customdata[13]}<extra></extra>",
         "jitter": true,
         "legendgroup": "0.15.0",
         "line": {
          "color": "rgba(255,255,255,0)"
         },
         "marker": {
          "color": "#00cc96",
          "opacity": 0.7,
          "size": 10
         },
         "name": "0.15.0",
         "offsetgroup": "0.15.0",
         "orientation": "v",
         "pointpos": 0,
         "showlegend": true,
         "type": "box",
         "x": [
          "0.15.0",
          "0.15.0"
         ],
         "x0": " ",
         "xaxis": "x",
         "y": {
          "bdata": "AABAsYT1dz8AALgvcgR1Pw==",
          "dtype": "f8"
         },
         "y0": " ",
         "yaxis": "y"
        },
        {
         "alignmentgroup": "True",
         "boxpoints": "all",
         "customdata": [
          [
           "ForecasterRecursive",
           "ForecasterRecursive__create_train_X_y",
           "287fbd1c4920496341a9d5f9b9a9aa2a",
           0.0013932518143216649,
           "2025-04-22T21:56:16.672542",
           "3.12.9",
           "2.2.5",
           "2.2.3",
           "1.6.1",
           "4.6.0",
           "Linux-6.11.0-21-generic-x86_64-with-glibc2.39",
           "x86_64",
           8,
           16.64
          ],
          [
           "ForecasterRecursive",
           "ForecasterRecursive__create_train_X_y",
           "287fbd1c4920496341a9d5f9b9a9aa2a",
           0.000558665172431099,
           "2025-04-22T22:10:58.328841",
           "3.12.9",
           "1.26.4",
           "2.2.3",
           "1.6.1",
           "4.6.0",
           "Linux-6.11.0-21-generic-x86_64-with-glibc2.39",
           "x86_64",
           8,
           16.64
          ]
         ],
         "fillcolor": "rgba(255,255,255,0)",
         "hoveron": "points",
         "hovertemplate": "skforecast_version=%{x}<br>run_time_avg=%{y}<br>forecaster_name=%{customdata[0]}<br>function_name=%{customdata[1]}<br>function_hash=%{customdata[2]}<br>run_time_std_dev=%{customdata[3]}<br>datetime=%{customdata[4]}<br>python_version=%{customdata[5]}<br>numpy_version=%{customdata[6]}<br>pandas_version=%{customdata[7]}<br>sklearn_version=%{customdata[8]}<br>lightgbm_version=%{customdata[9]}<br>platform=%{customdata[10]}<br>processor=%{customdata[11]}<br>cpu_count=%{customdata[12]}<br>memory_gb=%{customdata[13]}<extra></extra>",
         "jitter": true,
         "legendgroup": "0.16.0",
         "line": {
          "color": "rgba(255,255,255,0)"
         },
         "marker": {
          "color": "#ab63fa",
          "opacity": 0.7,
          "size": 10
         },
         "name": "0.16.0",
         "offsetgroup": "0.16.0",
         "orientation": "v",
         "pointpos": 0,
         "showlegend": true,
         "type": "box",
         "x": [
          "0.16.0",
          "0.16.0"
         ],
         "x0": " ",
         "xaxis": "x",
         "y": {
          "bdata": "mpmBZG5BcT+amelaEE12Pw==",
          "dtype": "f8"
         },
         "y0": " ",
         "yaxis": "y"
        },
        {
         "line": {
          "color": "black",
          "width": 2
         },
         "marker": {
          "size": 8
         },
         "mode": "lines+markers",
         "name": "Median",
         "showlegend": true,
         "type": "scatter",
         "x": [
          "0.12.0",
          "0.14.0",
          "0.15.0",
          "0.16.0"
         ],
         "y": {
          "bdata": "AAAAAAAA+H9mZtYMyK9mPwAAfHD7fHY/mpm1Xz/Hcz8=",
          "dtype": "f8"
         }
        }
       ],
       "layout": {
        "boxmode": "overlay",
        "legend": {
         "title": {
          "text": "skforecast_version"
         },
         "tracegroupgap": 0
        },
        "margin": {
         "t": 60
        },
        "showlegend": true,
        "template": {
         "data": {
          "bar": [
           {
            "error_x": {
             "color": "#2a3f5f"
            },
            "error_y": {
             "color": "#2a3f5f"
            },
            "marker": {
             "line": {
              "color": "#E5ECF6",
              "width": 0.5
             },
             "pattern": {
              "fillmode": "overlay",
              "size": 10,
              "solidity": 0.2
             }
            },
            "type": "bar"
           }
          ],
          "barpolar": [
           {
            "marker": {
             "line": {
              "color": "#E5ECF6",
              "width": 0.5
             },
             "pattern": {
              "fillmode": "overlay",
              "size": 10,
              "solidity": 0.2
             }
            },
            "type": "barpolar"
           }
          ],
          "carpet": [
           {
            "aaxis": {
             "endlinecolor": "#2a3f5f",
             "gridcolor": "white",
             "linecolor": "white",
             "minorgridcolor": "white",
             "startlinecolor": "#2a3f5f"
            },
            "baxis": {
             "endlinecolor": "#2a3f5f",
             "gridcolor": "white",
             "linecolor": "white",
             "minorgridcolor": "white",
             "startlinecolor": "#2a3f5f"
            },
            "type": "carpet"
           }
          ],
          "choropleth": [
           {
            "colorbar": {
             "outlinewidth": 0,
             "ticks": ""
            },
            "type": "choropleth"
           }
          ],
          "contour": [
           {
            "colorbar": {
             "outlinewidth": 0,
             "ticks": ""
            },
            "colorscale": [
             [
              0,
              "#0d0887"
             ],
             [
              0.1111111111111111,
              "#46039f"
             ],
             [
              0.2222222222222222,
              "#7201a8"
             ],
             [
              0.3333333333333333,
              "#9c179e"
             ],
             [
              0.4444444444444444,
              "#bd3786"
             ],
             [
              0.5555555555555556,
              "#d8576b"
             ],
             [
              0.6666666666666666,
              "#ed7953"
             ],
             [
              0.7777777777777778,
              "#fb9f3a"
             ],
             [
              0.8888888888888888,
              "#fdca26"
             ],
             [
              1,
              "#f0f921"
             ]
            ],
            "type": "contour"
           }
          ],
          "contourcarpet": [
           {
            "colorbar": {
             "outlinewidth": 0,
             "ticks": ""
            },
            "type": "contourcarpet"
           }
          ],
          "heatmap": [
           {
            "colorbar": {
             "outlinewidth": 0,
             "ticks": ""
            },
            "colorscale": [
             [
              0,
              "#0d0887"
             ],
             [
              0.1111111111111111,
              "#46039f"
             ],
             [
              0.2222222222222222,
              "#7201a8"
             ],
             [
              0.3333333333333333,
              "#9c179e"
             ],
             [
              0.4444444444444444,
              "#bd3786"
             ],
             [
              0.5555555555555556,
              "#d8576b"
             ],
             [
              0.6666666666666666,
              "#ed7953"
             ],
             [
              0.7777777777777778,
              "#fb9f3a"
             ],
             [
              0.8888888888888888,
              "#fdca26"
             ],
             [
              1,
              "#f0f921"
             ]
            ],
            "type": "heatmap"
           }
          ],
          "histogram": [
           {
            "marker": {
             "pattern": {
              "fillmode": "overlay",
              "size": 10,
              "solidity": 0.2
             }
            },
            "type": "histogram"
           }
          ],
          "histogram2d": [
           {
            "colorbar": {
             "outlinewidth": 0,
             "ticks": ""
            },
            "colorscale": [
             [
              0,
              "#0d0887"
             ],
             [
              0.1111111111111111,
              "#46039f"
             ],
             [
              0.2222222222222222,
              "#7201a8"
             ],
             [
              0.3333333333333333,
              "#9c179e"
             ],
             [
              0.4444444444444444,
              "#bd3786"
             ],
             [
              0.5555555555555556,
              "#d8576b"
             ],
             [
              0.6666666666666666,
              "#ed7953"
             ],
             [
              0.7777777777777778,
              "#fb9f3a"
             ],
             [
              0.8888888888888888,
              "#fdca26"
             ],
             [
              1,
              "#f0f921"
             ]
            ],
            "type": "histogram2d"
           }
          ],
          "histogram2dcontour": [
           {
            "colorbar": {
             "outlinewidth": 0,
             "ticks": ""
            },
            "colorscale": [
             [
              0,
              "#0d0887"
             ],
             [
              0.1111111111111111,
              "#46039f"
             ],
             [
              0.2222222222222222,
              "#7201a8"
             ],
             [
              0.3333333333333333,
              "#9c179e"
             ],
             [
              0.4444444444444444,
              "#bd3786"
             ],
             [
              0.5555555555555556,
              "#d8576b"
             ],
             [
              0.6666666666666666,
              "#ed7953"
             ],
             [
              0.7777777777777778,
              "#fb9f3a"
             ],
             [
              0.8888888888888888,
              "#fdca26"
             ],
             [
              1,
              "#f0f921"
             ]
            ],
            "type": "histogram2dcontour"
           }
          ],
          "mesh3d": [
           {
            "colorbar": {
             "outlinewidth": 0,
             "ticks": ""
            },
            "type": "mesh3d"
           }
          ],
          "parcoords": [
           {
            "line": {
             "colorbar": {
              "outlinewidth": 0,
              "ticks": ""
             }
            },
            "type": "parcoords"
           }
          ],
          "pie": [
           {
            "automargin": true,
            "type": "pie"
           }
          ],
          "scatter": [
           {
            "fillpattern": {
             "fillmode": "overlay",
             "size": 10,
             "solidity": 0.2
            },
            "type": "scatter"
           }
          ],
          "scatter3d": [
           {
            "line": {
             "colorbar": {
              "outlinewidth": 0,
              "ticks": ""
             }
            },
            "marker": {
             "colorbar": {
              "outlinewidth": 0,
              "ticks": ""
             }
            },
            "type": "scatter3d"
           }
          ],
          "scattercarpet": [
           {
            "marker": {
             "colorbar": {
              "outlinewidth": 0,
              "ticks": ""
             }
            },
            "type": "scattercarpet"
           }
          ],
          "scattergeo": [
           {
            "marker": {
             "colorbar": {
              "outlinewidth": 0,
              "ticks": ""
             }
            },
            "type": "scattergeo"
           }
          ],
          "scattergl": [
           {
            "marker": {
             "colorbar": {
              "outlinewidth": 0,
              "ticks": ""
             }
            },
            "type": "scattergl"
           }
          ],
          "scattermap": [
           {
            "marker": {
             "colorbar": {
              "outlinewidth": 0,
              "ticks": ""
             }
            },
            "type": "scattermap"
           }
          ],
          "scattermapbox": [
           {
            "marker": {
             "colorbar": {
              "outlinewidth": 0,
              "ticks": ""
             }
            },
            "type": "scattermapbox"
           }
          ],
          "scatterpolar": [
           {
            "marker": {
             "colorbar": {
              "outlinewidth": 0,
              "ticks": ""
             }
            },
            "type": "scatterpolar"
           }
          ],
          "scatterpolargl": [
           {
            "marker": {
             "colorbar": {
              "outlinewidth": 0,
              "ticks": ""
             }
            },
            "type": "scatterpolargl"
           }
          ],
          "scatterternary": [
           {
            "marker": {
             "colorbar": {
              "outlinewidth": 0,
              "ticks": ""
             }
            },
            "type": "scatterternary"
           }
          ],
          "surface": [
           {
            "colorbar": {
             "outlinewidth": 0,
             "ticks": ""
            },
            "colorscale": [
             [
              0,
              "#0d0887"
             ],
             [
              0.1111111111111111,
              "#46039f"
             ],
             [
              0.2222222222222222,
              "#7201a8"
             ],
             [
              0.3333333333333333,
              "#9c179e"
             ],
             [
              0.4444444444444444,
              "#bd3786"
             ],
             [
              0.5555555555555556,
              "#d8576b"
             ],
             [
              0.6666666666666666,
              "#ed7953"
             ],
             [
              0.7777777777777778,
              "#fb9f3a"
             ],
             [
              0.8888888888888888,
              "#fdca26"
             ],
             [
              1,
              "#f0f921"
             ]
            ],
            "type": "surface"
           }
          ],
          "table": [
           {
            "cells": {
             "fill": {
              "color": "#EBF0F8"
             },
             "line": {
              "color": "white"
             }
            },
            "header": {
             "fill": {
              "color": "#C8D4E3"
             },
             "line": {
              "color": "white"
             }
            },
            "type": "table"
           }
          ]
         },
         "layout": {
          "annotationdefaults": {
           "arrowcolor": "#2a3f5f",
           "arrowhead": 0,
           "arrowwidth": 1
          },
          "autotypenumbers": "strict",
          "coloraxis": {
           "colorbar": {
            "outlinewidth": 0,
            "ticks": ""
           }
          },
          "colorscale": {
           "diverging": [
            [
             0,
             "#8e0152"
            ],
            [
             0.1,
             "#c51b7d"
            ],
            [
             0.2,
             "#de77ae"
            ],
            [
             0.3,
             "#f1b6da"
            ],
            [
             0.4,
             "#fde0ef"
            ],
            [
             0.5,
             "#f7f7f7"
            ],
            [
             0.6,
             "#e6f5d0"
            ],
            [
             0.7,
             "#b8e186"
            ],
            [
             0.8,
             "#7fbc41"
            ],
            [
             0.9,
             "#4d9221"
            ],
            [
             1,
             "#276419"
            ]
           ],
           "sequential": [
            [
             0,
             "#0d0887"
            ],
            [
             0.1111111111111111,
             "#46039f"
            ],
            [
             0.2222222222222222,
             "#7201a8"
            ],
            [
             0.3333333333333333,
             "#9c179e"
            ],
            [
             0.4444444444444444,
             "#bd3786"
            ],
            [
             0.5555555555555556,
             "#d8576b"
            ],
            [
             0.6666666666666666,
             "#ed7953"
            ],
            [
             0.7777777777777778,
             "#fb9f3a"
            ],
            [
             0.8888888888888888,
             "#fdca26"
            ],
            [
             1,
             "#f0f921"
            ]
           ],
           "sequentialminus": [
            [
             0,
             "#0d0887"
            ],
            [
             0.1111111111111111,
             "#46039f"
            ],
            [
             0.2222222222222222,
             "#7201a8"
            ],
            [
             0.3333333333333333,
             "#9c179e"
            ],
            [
             0.4444444444444444,
             "#bd3786"
            ],
            [
             0.5555555555555556,
             "#d8576b"
            ],
            [
             0.6666666666666666,
             "#ed7953"
            ],
            [
             0.7777777777777778,
             "#fb9f3a"
            ],
            [
             0.8888888888888888,
             "#fdca26"
            ],
            [
             1,
             "#f0f921"
            ]
           ]
          },
          "colorway": [
           "#636efa",
           "#EF553B",
           "#00cc96",
           "#ab63fa",
           "#FFA15A",
           "#19d3f3",
           "#FF6692",
           "#B6E880",
           "#FF97FF",
           "#FECB52"
          ],
          "font": {
           "color": "#2a3f5f"
          },
          "geo": {
           "bgcolor": "white",
           "lakecolor": "white",
           "landcolor": "#E5ECF6",
           "showlakes": true,
           "showland": true,
           "subunitcolor": "white"
          },
          "hoverlabel": {
           "align": "left"
          },
          "hovermode": "closest",
          "mapbox": {
           "style": "light"
          },
          "paper_bgcolor": "white",
          "plot_bgcolor": "#E5ECF6",
          "polar": {
           "angularaxis": {
            "gridcolor": "white",
            "linecolor": "white",
            "ticks": ""
           },
           "bgcolor": "#E5ECF6",
           "radialaxis": {
            "gridcolor": "white",
            "linecolor": "white",
            "ticks": ""
           }
          },
          "scene": {
           "xaxis": {
            "backgroundcolor": "#E5ECF6",
            "gridcolor": "white",
            "gridwidth": 2,
            "linecolor": "white",
            "showbackground": true,
            "ticks": "",
            "zerolinecolor": "white"
           },
           "yaxis": {
            "backgroundcolor": "#E5ECF6",
            "gridcolor": "white",
            "gridwidth": 2,
            "linecolor": "white",
            "showbackground": true,
            "ticks": "",
            "zerolinecolor": "white"
           },
           "zaxis": {
            "backgroundcolor": "#E5ECF6",
            "gridcolor": "white",
            "gridwidth": 2,
            "linecolor": "white",
            "showbackground": true,
            "ticks": "",
            "zerolinecolor": "white"
           }
          },
          "shapedefaults": {
           "line": {
            "color": "#2a3f5f"
           }
          },
          "ternary": {
           "aaxis": {
            "gridcolor": "white",
            "linecolor": "white",
            "ticks": ""
           },
           "baxis": {
            "gridcolor": "white",
            "linecolor": "white",
            "ticks": ""
           },
           "bgcolor": "#E5ECF6",
           "caxis": {
            "gridcolor": "white",
            "linecolor": "white",
            "ticks": ""
           }
          },
          "title": {
           "x": 0.05
          },
          "xaxis": {
           "automargin": true,
           "gridcolor": "white",
           "linecolor": "white",
           "ticks": "",
           "title": {
            "standoff": 15
           },
           "zerolinecolor": "white",
           "zerolinewidth": 2
          },
          "yaxis": {
           "automargin": true,
           "gridcolor": "white",
           "linecolor": "white",
           "ticks": "",
           "title": {
            "standoff": 15
           },
           "zerolinecolor": "white",
           "zerolinewidth": 2
          }
         }
        },
        "title": {
         "text": "Execution time of ForecasterRecursive__create_train_X_y"
        },
        "xaxis": {
         "anchor": "y",
         "categoryarray": [
          "0.12.0",
          "0.14.0",
          "0.15.0",
          "0.16.0"
         ],
         "categoryorder": "array",
         "domain": [
          0,
          1
         ],
         "title": {
          "text": "skforecast version"
         }
        },
        "yaxis": {
         "anchor": "x",
         "domain": [
          0,
          1
         ],
         "title": {
          "text": "Execution time (seconds)"
         }
        }
       }
      }
     },
     "metadata": {},
     "output_type": "display_data"
    },
    {
     "data": {
      "application/vnd.microsoft.datawrangler.viewer.v0+json": {
       "columns": [
        {
         "name": "index",
         "rawType": "int64",
         "type": "integer"
        },
        {
         "name": "forecaster_name",
         "rawType": "object",
         "type": "string"
        },
        {
         "name": "function_name",
         "rawType": "object",
         "type": "string"
        },
        {
         "name": "function_hash",
         "rawType": "object",
         "type": "string"
        },
        {
         "name": "run_time_avg",
         "rawType": "float64",
         "type": "float"
        },
        {
         "name": "run_time_std_dev",
         "rawType": "float64",
         "type": "float"
        },
        {
         "name": "datetime",
         "rawType": "datetime64[ns]",
         "type": "datetime"
        },
        {
         "name": "python_version",
         "rawType": "object",
         "type": "string"
        },
        {
         "name": "skforecast_version",
         "rawType": "object",
         "type": "string"
        },
        {
         "name": "numpy_version",
         "rawType": "object",
         "type": "string"
        },
        {
         "name": "pandas_version",
         "rawType": "object",
         "type": "string"
        },
        {
         "name": "sklearn_version",
         "rawType": "object",
         "type": "string"
        },
        {
         "name": "lightgbm_version",
         "rawType": "object",
         "type": "string"
        },
        {
         "name": "platform",
         "rawType": "object",
         "type": "string"
        },
        {
         "name": "processor",
         "rawType": "object",
         "type": "string"
        },
        {
         "name": "cpu_count",
         "rawType": "int64",
         "type": "integer"
        },
        {
         "name": "memory_gb",
         "rawType": "float64",
         "type": "float"
        }
       ],
       "conversionMethod": "pd.DataFrame",
       "ref": "ac16b97b-00e3-47cd-8fca-37a07be3684b",
       "rows": [
        [
         "30",
         "ForecasterRecursive",
         "ForecasterRecursive_predict",
         "99297f20a640837258e82490d71f7b0e",
         null,
         null,
         "2025-04-22 21:26:54.634434",
         "3.12.9",
         "0.14.0",
         "1.26.4",
         "2.2.3",
         "1.4.2",
         "4.6.0",
         "Linux-6.11.0-21-generic-x86_64-with-glibc2.39",
         "x86_64",
         "8",
         "16.64"
        ],
        [
         "34",
         "ForecasterRecursive",
         "ForecasterRecursive_predict",
         "4f8ae3116340ac90eb9e66eac42789de",
         "0.06302378599993971",
         "0.017257045262775488",
         "2025-04-22 21:27:05.582838",
         "3.12.9",
         "0.14.0",
         "1.26.4",
         "2.2.3",
         "1.4.2",
         "4.6.0",
         "Linux-6.11.0-21-generic-x86_64-with-glibc2.39",
         "x86_64",
         "8",
         "16.64"
        ],
        [
         "46",
         "ForecasterRecursive",
         "ForecasterRecursive_predict",
         "4f8ae3116340ac90eb9e66eac42789de",
         "0.0692673124000521",
         "0.006338137223124398",
         "2025-04-22 21:31:05.776671",
         "3.12.9",
         "0.14.0",
         "1.26.4",
         "2.2.3",
         "1.4.2",
         "4.6.0",
         "Linux-6.11.0-21-generic-x86_64-with-glibc2.39",
         "x86_64",
         "8",
         "16.64"
        ],
        [
         "58",
         "ForecasterRecursive",
         "ForecasterRecursive_predict",
         "4f8ae3116340ac90eb9e66eac42789de",
         "0.10826653120002447",
         "0.002876559169517922",
         "2025-04-22 21:35:40.348862",
         "3.12.9",
         "0.15.0",
         "1.26.4",
         "2.2.3",
         "1.4.2",
         "4.6.0",
         "Linux-6.11.0-21-generic-x86_64-with-glibc2.39",
         "x86_64",
         "8",
         "16.64"
        ],
        [
         "70",
         "ForecasterRecursive",
         "ForecasterRecursive_predict",
         "4f8ae3116340ac90eb9e66eac42789de",
         "0.1360293936002563",
         "0.009254422748895057",
         "2025-04-22 21:46:35.685379",
         "3.12.9",
         "0.15.0",
         "2.2.5",
         "2.2.3",
         "1.6.1",
         "4.6.0",
         "Linux-6.11.0-21-generic-x86_64-with-glibc2.39",
         "x86_64",
         "8",
         "16.64"
        ],
        [
         "82",
         "ForecasterRecursive",
         "ForecasterRecursive_predict",
         "4f8ae3116340ac90eb9e66eac42789de",
         "0.13823197739993703",
         "0.022104186274092396",
         "2025-04-22 21:56:17.128241",
         "3.12.9",
         "0.16.0",
         "2.2.5",
         "2.2.3",
         "1.6.1",
         "4.6.0",
         "Linux-6.11.0-21-generic-x86_64-with-glibc2.39",
         "x86_64",
         "8",
         "16.64"
        ],
        [
         "94",
         "ForecasterRecursive",
         "ForecasterRecursive_predict",
         "4f8ae3116340ac90eb9e66eac42789de",
         "0.12150309910002761",
         "0.00415655142423245",
         "2025-04-22 22:10:58.751548",
         "3.12.9",
         "0.16.0",
         "1.26.4",
         "2.2.3",
         "1.6.1",
         "4.6.0",
         "Linux-6.11.0-21-generic-x86_64-with-glibc2.39",
         "x86_64",
         "8",
         "16.64"
        ],
        [
         "106",
         "ForecasterAutoreg",
         "ForecasterRecursive_predict",
         "4f8ae3116340ac90eb9e66eac42789de",
         "0.11414117909998822",
         "0.006402118896808547",
         "2025-04-22 22:25:50.878613",
         "3.12.9",
         "0.12.0",
         "1.26.4",
         "2.2.3",
         "1.4.2",
         "4.6.0",
         "Linux-6.11.0-21-generic-x86_64-with-glibc2.39",
         "x86_64",
         "8",
         "16.64"
        ],
        [
         "118",
         "ForecasterAutoreg",
         "ForecasterRecursive_predict",
         "4f8ae3116340ac90eb9e66eac42789de",
         "0.11604529629994431",
         "0.006200238557372286",
         "2025-04-22 22:39:46.036247",
         "3.12.9",
         "0.12.0",
         "1.26.4",
         "2.2.3",
         "1.4.2",
         "4.6.0",
         "Linux-6.11.0-21-generic-x86_64-with-glibc2.39",
         "x86_64",
         "8",
         "16.64"
        ]
       ],
       "shape": {
        "columns": 16,
        "rows": 9
       }
      },
      "text/html": [
       "<div>\n",
       "<style scoped>\n",
       "    .dataframe tbody tr th:only-of-type {\n",
       "        vertical-align: middle;\n",
       "    }\n",
       "\n",
       "    .dataframe tbody tr th {\n",
       "        vertical-align: top;\n",
       "    }\n",
       "\n",
       "    .dataframe thead th {\n",
       "        text-align: right;\n",
       "    }\n",
       "</style>\n",
       "<table border=\"1\" class=\"dataframe\">\n",
       "  <thead>\n",
       "    <tr style=\"text-align: right;\">\n",
       "      <th></th>\n",
       "      <th>forecaster_name</th>\n",
       "      <th>function_name</th>\n",
       "      <th>function_hash</th>\n",
       "      <th>run_time_avg</th>\n",
       "      <th>run_time_std_dev</th>\n",
       "      <th>datetime</th>\n",
       "      <th>python_version</th>\n",
       "      <th>skforecast_version</th>\n",
       "      <th>numpy_version</th>\n",
       "      <th>pandas_version</th>\n",
       "      <th>sklearn_version</th>\n",
       "      <th>lightgbm_version</th>\n",
       "      <th>platform</th>\n",
       "      <th>processor</th>\n",
       "      <th>cpu_count</th>\n",
       "      <th>memory_gb</th>\n",
       "    </tr>\n",
       "  </thead>\n",
       "  <tbody>\n",
       "    <tr>\n",
       "      <th>30</th>\n",
       "      <td>ForecasterRecursive</td>\n",
       "      <td>ForecasterRecursive_predict</td>\n",
       "      <td>99297f20a640837258e82490d71f7b0e</td>\n",
       "      <td>NaN</td>\n",
       "      <td>NaN</td>\n",
       "      <td>2025-04-22 21:26:54.634434</td>\n",
       "      <td>3.12.9</td>\n",
       "      <td>0.14.0</td>\n",
       "      <td>1.26.4</td>\n",
       "      <td>2.2.3</td>\n",
       "      <td>1.4.2</td>\n",
       "      <td>4.6.0</td>\n",
       "      <td>Linux-6.11.0-21-generic-x86_64-with-glibc2.39</td>\n",
       "      <td>x86_64</td>\n",
       "      <td>8</td>\n",
       "      <td>16.64</td>\n",
       "    </tr>\n",
       "    <tr>\n",
       "      <th>34</th>\n",
       "      <td>ForecasterRecursive</td>\n",
       "      <td>ForecasterRecursive_predict</td>\n",
       "      <td>4f8ae3116340ac90eb9e66eac42789de</td>\n",
       "      <td>0.063024</td>\n",
       "      <td>0.017257</td>\n",
       "      <td>2025-04-22 21:27:05.582838</td>\n",
       "      <td>3.12.9</td>\n",
       "      <td>0.14.0</td>\n",
       "      <td>1.26.4</td>\n",
       "      <td>2.2.3</td>\n",
       "      <td>1.4.2</td>\n",
       "      <td>4.6.0</td>\n",
       "      <td>Linux-6.11.0-21-generic-x86_64-with-glibc2.39</td>\n",
       "      <td>x86_64</td>\n",
       "      <td>8</td>\n",
       "      <td>16.64</td>\n",
       "    </tr>\n",
       "    <tr>\n",
       "      <th>46</th>\n",
       "      <td>ForecasterRecursive</td>\n",
       "      <td>ForecasterRecursive_predict</td>\n",
       "      <td>4f8ae3116340ac90eb9e66eac42789de</td>\n",
       "      <td>0.069267</td>\n",
       "      <td>0.006338</td>\n",
       "      <td>2025-04-22 21:31:05.776671</td>\n",
       "      <td>3.12.9</td>\n",
       "      <td>0.14.0</td>\n",
       "      <td>1.26.4</td>\n",
       "      <td>2.2.3</td>\n",
       "      <td>1.4.2</td>\n",
       "      <td>4.6.0</td>\n",
       "      <td>Linux-6.11.0-21-generic-x86_64-with-glibc2.39</td>\n",
       "      <td>x86_64</td>\n",
       "      <td>8</td>\n",
       "      <td>16.64</td>\n",
       "    </tr>\n",
       "    <tr>\n",
       "      <th>58</th>\n",
       "      <td>ForecasterRecursive</td>\n",
       "      <td>ForecasterRecursive_predict</td>\n",
       "      <td>4f8ae3116340ac90eb9e66eac42789de</td>\n",
       "      <td>0.108267</td>\n",
       "      <td>0.002877</td>\n",
       "      <td>2025-04-22 21:35:40.348862</td>\n",
       "      <td>3.12.9</td>\n",
       "      <td>0.15.0</td>\n",
       "      <td>1.26.4</td>\n",
       "      <td>2.2.3</td>\n",
       "      <td>1.4.2</td>\n",
       "      <td>4.6.0</td>\n",
       "      <td>Linux-6.11.0-21-generic-x86_64-with-glibc2.39</td>\n",
       "      <td>x86_64</td>\n",
       "      <td>8</td>\n",
       "      <td>16.64</td>\n",
       "    </tr>\n",
       "    <tr>\n",
       "      <th>70</th>\n",
       "      <td>ForecasterRecursive</td>\n",
       "      <td>ForecasterRecursive_predict</td>\n",
       "      <td>4f8ae3116340ac90eb9e66eac42789de</td>\n",
       "      <td>0.136029</td>\n",
       "      <td>0.009254</td>\n",
       "      <td>2025-04-22 21:46:35.685379</td>\n",
       "      <td>3.12.9</td>\n",
       "      <td>0.15.0</td>\n",
       "      <td>2.2.5</td>\n",
       "      <td>2.2.3</td>\n",
       "      <td>1.6.1</td>\n",
       "      <td>4.6.0</td>\n",
       "      <td>Linux-6.11.0-21-generic-x86_64-with-glibc2.39</td>\n",
       "      <td>x86_64</td>\n",
       "      <td>8</td>\n",
       "      <td>16.64</td>\n",
       "    </tr>\n",
       "    <tr>\n",
       "      <th>82</th>\n",
       "      <td>ForecasterRecursive</td>\n",
       "      <td>ForecasterRecursive_predict</td>\n",
       "      <td>4f8ae3116340ac90eb9e66eac42789de</td>\n",
       "      <td>0.138232</td>\n",
       "      <td>0.022104</td>\n",
       "      <td>2025-04-22 21:56:17.128241</td>\n",
       "      <td>3.12.9</td>\n",
       "      <td>0.16.0</td>\n",
       "      <td>2.2.5</td>\n",
       "      <td>2.2.3</td>\n",
       "      <td>1.6.1</td>\n",
       "      <td>4.6.0</td>\n",
       "      <td>Linux-6.11.0-21-generic-x86_64-with-glibc2.39</td>\n",
       "      <td>x86_64</td>\n",
       "      <td>8</td>\n",
       "      <td>16.64</td>\n",
       "    </tr>\n",
       "    <tr>\n",
       "      <th>94</th>\n",
       "      <td>ForecasterRecursive</td>\n",
       "      <td>ForecasterRecursive_predict</td>\n",
       "      <td>4f8ae3116340ac90eb9e66eac42789de</td>\n",
       "      <td>0.121503</td>\n",
       "      <td>0.004157</td>\n",
       "      <td>2025-04-22 22:10:58.751548</td>\n",
       "      <td>3.12.9</td>\n",
       "      <td>0.16.0</td>\n",
       "      <td>1.26.4</td>\n",
       "      <td>2.2.3</td>\n",
       "      <td>1.6.1</td>\n",
       "      <td>4.6.0</td>\n",
       "      <td>Linux-6.11.0-21-generic-x86_64-with-glibc2.39</td>\n",
       "      <td>x86_64</td>\n",
       "      <td>8</td>\n",
       "      <td>16.64</td>\n",
       "    </tr>\n",
       "    <tr>\n",
       "      <th>106</th>\n",
       "      <td>ForecasterAutoreg</td>\n",
       "      <td>ForecasterRecursive_predict</td>\n",
       "      <td>4f8ae3116340ac90eb9e66eac42789de</td>\n",
       "      <td>0.114141</td>\n",
       "      <td>0.006402</td>\n",
       "      <td>2025-04-22 22:25:50.878613</td>\n",
       "      <td>3.12.9</td>\n",
       "      <td>0.12.0</td>\n",
       "      <td>1.26.4</td>\n",
       "      <td>2.2.3</td>\n",
       "      <td>1.4.2</td>\n",
       "      <td>4.6.0</td>\n",
       "      <td>Linux-6.11.0-21-generic-x86_64-with-glibc2.39</td>\n",
       "      <td>x86_64</td>\n",
       "      <td>8</td>\n",
       "      <td>16.64</td>\n",
       "    </tr>\n",
       "    <tr>\n",
       "      <th>118</th>\n",
       "      <td>ForecasterAutoreg</td>\n",
       "      <td>ForecasterRecursive_predict</td>\n",
       "      <td>4f8ae3116340ac90eb9e66eac42789de</td>\n",
       "      <td>0.116045</td>\n",
       "      <td>0.006200</td>\n",
       "      <td>2025-04-22 22:39:46.036247</td>\n",
       "      <td>3.12.9</td>\n",
       "      <td>0.12.0</td>\n",
       "      <td>1.26.4</td>\n",
       "      <td>2.2.3</td>\n",
       "      <td>1.4.2</td>\n",
       "      <td>4.6.0</td>\n",
       "      <td>Linux-6.11.0-21-generic-x86_64-with-glibc2.39</td>\n",
       "      <td>x86_64</td>\n",
       "      <td>8</td>\n",
       "      <td>16.64</td>\n",
       "    </tr>\n",
       "  </tbody>\n",
       "</table>\n",
       "</div>"
      ],
      "text/plain": [
       "         forecaster_name                function_name  \\\n",
       "30   ForecasterRecursive  ForecasterRecursive_predict   \n",
       "34   ForecasterRecursive  ForecasterRecursive_predict   \n",
       "46   ForecasterRecursive  ForecasterRecursive_predict   \n",
       "58   ForecasterRecursive  ForecasterRecursive_predict   \n",
       "70   ForecasterRecursive  ForecasterRecursive_predict   \n",
       "82   ForecasterRecursive  ForecasterRecursive_predict   \n",
       "94   ForecasterRecursive  ForecasterRecursive_predict   \n",
       "106    ForecasterAutoreg  ForecasterRecursive_predict   \n",
       "118    ForecasterAutoreg  ForecasterRecursive_predict   \n",
       "\n",
       "                        function_hash  run_time_avg  run_time_std_dev  \\\n",
       "30   99297f20a640837258e82490d71f7b0e           NaN               NaN   \n",
       "34   4f8ae3116340ac90eb9e66eac42789de      0.063024          0.017257   \n",
       "46   4f8ae3116340ac90eb9e66eac42789de      0.069267          0.006338   \n",
       "58   4f8ae3116340ac90eb9e66eac42789de      0.108267          0.002877   \n",
       "70   4f8ae3116340ac90eb9e66eac42789de      0.136029          0.009254   \n",
       "82   4f8ae3116340ac90eb9e66eac42789de      0.138232          0.022104   \n",
       "94   4f8ae3116340ac90eb9e66eac42789de      0.121503          0.004157   \n",
       "106  4f8ae3116340ac90eb9e66eac42789de      0.114141          0.006402   \n",
       "118  4f8ae3116340ac90eb9e66eac42789de      0.116045          0.006200   \n",
       "\n",
       "                      datetime python_version skforecast_version  \\\n",
       "30  2025-04-22 21:26:54.634434         3.12.9             0.14.0   \n",
       "34  2025-04-22 21:27:05.582838         3.12.9             0.14.0   \n",
       "46  2025-04-22 21:31:05.776671         3.12.9             0.14.0   \n",
       "58  2025-04-22 21:35:40.348862         3.12.9             0.15.0   \n",
       "70  2025-04-22 21:46:35.685379         3.12.9             0.15.0   \n",
       "82  2025-04-22 21:56:17.128241         3.12.9             0.16.0   \n",
       "94  2025-04-22 22:10:58.751548         3.12.9             0.16.0   \n",
       "106 2025-04-22 22:25:50.878613         3.12.9             0.12.0   \n",
       "118 2025-04-22 22:39:46.036247         3.12.9             0.12.0   \n",
       "\n",
       "    numpy_version pandas_version sklearn_version lightgbm_version  \\\n",
       "30         1.26.4          2.2.3           1.4.2            4.6.0   \n",
       "34         1.26.4          2.2.3           1.4.2            4.6.0   \n",
       "46         1.26.4          2.2.3           1.4.2            4.6.0   \n",
       "58         1.26.4          2.2.3           1.4.2            4.6.0   \n",
       "70          2.2.5          2.2.3           1.6.1            4.6.0   \n",
       "82          2.2.5          2.2.3           1.6.1            4.6.0   \n",
       "94         1.26.4          2.2.3           1.6.1            4.6.0   \n",
       "106        1.26.4          2.2.3           1.4.2            4.6.0   \n",
       "118        1.26.4          2.2.3           1.4.2            4.6.0   \n",
       "\n",
       "                                          platform processor  cpu_count  \\\n",
       "30   Linux-6.11.0-21-generic-x86_64-with-glibc2.39    x86_64          8   \n",
       "34   Linux-6.11.0-21-generic-x86_64-with-glibc2.39    x86_64          8   \n",
       "46   Linux-6.11.0-21-generic-x86_64-with-glibc2.39    x86_64          8   \n",
       "58   Linux-6.11.0-21-generic-x86_64-with-glibc2.39    x86_64          8   \n",
       "70   Linux-6.11.0-21-generic-x86_64-with-glibc2.39    x86_64          8   \n",
       "82   Linux-6.11.0-21-generic-x86_64-with-glibc2.39    x86_64          8   \n",
       "94   Linux-6.11.0-21-generic-x86_64-with-glibc2.39    x86_64          8   \n",
       "106  Linux-6.11.0-21-generic-x86_64-with-glibc2.39    x86_64          8   \n",
       "118  Linux-6.11.0-21-generic-x86_64-with-glibc2.39    x86_64          8   \n",
       "\n",
       "     memory_gb  \n",
       "30       16.64  \n",
       "34       16.64  \n",
       "46       16.64  \n",
       "58       16.64  \n",
       "70       16.64  \n",
       "82       16.64  \n",
       "94       16.64  \n",
       "106      16.64  \n",
       "118      16.64  "
      ]
     },
     "metadata": {},
     "output_type": "display_data"
    },
    {
     "data": {
      "application/vnd.plotly.v1+json": {
       "config": {
        "plotlyServerURL": "https://plot.ly"
       },
       "data": [
        {
         "alignmentgroup": "True",
         "boxpoints": "all",
         "customdata": [
          [
           "ForecasterAutoreg",
           "ForecasterRecursive_predict",
           "4f8ae3116340ac90eb9e66eac42789de",
           0.006402118896808547,
           "2025-04-22T22:25:50.878613",
           "3.12.9",
           "1.26.4",
           "2.2.3",
           "1.4.2",
           "4.6.0",
           "Linux-6.11.0-21-generic-x86_64-with-glibc2.39",
           "x86_64",
           8,
           16.64
          ],
          [
           "ForecasterAutoreg",
           "ForecasterRecursive_predict",
           "4f8ae3116340ac90eb9e66eac42789de",
           0.006200238557372286,
           "2025-04-22T22:39:46.036247",
           "3.12.9",
           "1.26.4",
           "2.2.3",
           "1.4.2",
           "4.6.0",
           "Linux-6.11.0-21-generic-x86_64-with-glibc2.39",
           "x86_64",
           8,
           16.64
          ]
         ],
         "fillcolor": "rgba(255,255,255,0)",
         "hoveron": "points",
         "hovertemplate": "skforecast_version=%{x}<br>run_time_avg=%{y}<br>forecaster_name=%{customdata[0]}<br>function_name=%{customdata[1]}<br>function_hash=%{customdata[2]}<br>run_time_std_dev=%{customdata[3]}<br>datetime=%{customdata[4]}<br>python_version=%{customdata[5]}<br>numpy_version=%{customdata[6]}<br>pandas_version=%{customdata[7]}<br>sklearn_version=%{customdata[8]}<br>lightgbm_version=%{customdata[9]}<br>platform=%{customdata[10]}<br>processor=%{customdata[11]}<br>cpu_count=%{customdata[12]}<br>memory_gb=%{customdata[13]}<extra></extra>",
         "jitter": true,
         "legendgroup": "0.12.0",
         "line": {
          "color": "rgba(255,255,255,0)"
         },
         "marker": {
          "color": "#636efa",
          "opacity": 0.7,
          "size": 10
         },
         "name": "0.12.0",
         "offsetgroup": "0.12.0",
         "orientation": "v",
         "pointpos": 0,
         "showlegend": true,
         "type": "box",
         "x": [
          "0.12.0",
          "0.12.0"
         ],
         "x0": " ",
         "xaxis": "x",
         "y": {
          "bdata": "AIBcN1s4vT8AgHYAJbW9Pw==",
          "dtype": "f8"
         },
         "y0": " ",
         "yaxis": "y"
        },
        {
         "alignmentgroup": "True",
         "boxpoints": "all",
         "customdata": [
          [
           "ForecasterRecursive",
           "ForecasterRecursive_predict",
           "99297f20a640837258e82490d71f7b0e",
           null,
           "2025-04-22T21:26:54.634434",
           "3.12.9",
           "1.26.4",
           "2.2.3",
           "1.4.2",
           "4.6.0",
           "Linux-6.11.0-21-generic-x86_64-with-glibc2.39",
           "x86_64",
           8,
           16.64
          ],
          [
           "ForecasterRecursive",
           "ForecasterRecursive_predict",
           "4f8ae3116340ac90eb9e66eac42789de",
           0.017257045262775488,
           "2025-04-22T21:27:05.582838",
           "3.12.9",
           "1.26.4",
           "2.2.3",
           "1.4.2",
           "4.6.0",
           "Linux-6.11.0-21-generic-x86_64-with-glibc2.39",
           "x86_64",
           8,
           16.64
          ],
          [
           "ForecasterRecursive",
           "ForecasterRecursive_predict",
           "4f8ae3116340ac90eb9e66eac42789de",
           0.006338137223124398,
           "2025-04-22T21:31:05.776671",
           "3.12.9",
           "1.26.4",
           "2.2.3",
           "1.4.2",
           "4.6.0",
           "Linux-6.11.0-21-generic-x86_64-with-glibc2.39",
           "x86_64",
           8,
           16.64
          ]
         ],
         "fillcolor": "rgba(255,255,255,0)",
         "hoveron": "points",
         "hovertemplate": "skforecast_version=%{x}<br>run_time_avg=%{y}<br>forecaster_name=%{customdata[0]}<br>function_name=%{customdata[1]}<br>function_hash=%{customdata[2]}<br>run_time_std_dev=%{customdata[3]}<br>datetime=%{customdata[4]}<br>python_version=%{customdata[5]}<br>numpy_version=%{customdata[6]}<br>pandas_version=%{customdata[7]}<br>sklearn_version=%{customdata[8]}<br>lightgbm_version=%{customdata[9]}<br>platform=%{customdata[10]}<br>processor=%{customdata[11]}<br>cpu_count=%{customdata[12]}<br>memory_gb=%{customdata[13]}<extra></extra>",
         "jitter": true,
         "legendgroup": "0.14.0",
         "line": {
          "color": "rgba(255,255,255,0)"
         },
         "marker": {
          "color": "#EF553B",
          "opacity": 0.7,
          "size": 10
         },
         "name": "0.14.0",
         "offsetgroup": "0.14.0",
         "orientation": "v",
         "pointpos": 0,
         "showlegend": true,
         "type": "box",
         "x": [
          "0.14.0",
          "0.14.0",
          "0.14.0"
         ],
         "x0": " ",
         "xaxis": "x",
         "y": {
          "bdata": "AAAAAAAA+H9mZr2rUyKwP2amcKmAu7E/",
          "dtype": "f8"
         },
         "y0": " ",
         "yaxis": "y"
        },
        {
         "alignmentgroup": "True",
         "boxpoints": "all",
         "customdata": [
          [
           "ForecasterRecursive",
           "ForecasterRecursive_predict",
           "4f8ae3116340ac90eb9e66eac42789de",
           0.002876559169517922,
           "2025-04-22T21:35:40.348862",
           "3.12.9",
           "1.26.4",
           "2.2.3",
           "1.4.2",
           "4.6.0",
           "Linux-6.11.0-21-generic-x86_64-with-glibc2.39",
           "x86_64",
           8,
           16.64
          ],
          [
           "ForecasterRecursive",
           "ForecasterRecursive_predict",
           "4f8ae3116340ac90eb9e66eac42789de",
           0.009254422748895057,
           "2025-04-22T21:46:35.685379",
           "3.12.9",
           "2.2.5",
           "2.2.3",
           "1.6.1",
           "4.6.0",
           "Linux-6.11.0-21-generic-x86_64-with-glibc2.39",
           "x86_64",
           8,
           16.64
          ]
         ],
         "fillcolor": "rgba(255,255,255,0)",
         "hoveron": "points",
         "hovertemplate": "skforecast_version=%{x}<br>run_time_avg=%{y}<br>forecaster_name=%{customdata[0]}<br>function_name=%{customdata[1]}<br>function_hash=%{customdata[2]}<br>run_time_std_dev=%{customdata[3]}<br>datetime=%{customdata[4]}<br>python_version=%{customdata[5]}<br>numpy_version=%{customdata[6]}<br>pandas_version=%{customdata[7]}<br>sklearn_version=%{customdata[8]}<br>lightgbm_version=%{customdata[9]}<br>platform=%{customdata[10]}<br>processor=%{customdata[11]}<br>cpu_count=%{customdata[12]}<br>memory_gb=%{customdata[13]}<extra></extra>",
         "jitter": true,
         "legendgroup": "0.15.0",
         "line": {
          "color": "rgba(255,255,255,0)"
         },
         "marker": {
          "color": "#00cc96",
          "opacity": 0.7,
          "size": 10
         },
         "name": "0.15.0",
         "offsetgroup": "0.15.0",
         "orientation": "v",
         "pointpos": 0,
         "showlegend": true,
         "type": "box",
         "x": [
          "0.15.0",
          "0.15.0"
         ],
         "x0": " ",
         "xaxis": "x",
         "y": {
          "bdata": "ZmbB+lq3uz9mZmdCaWnBPw==",
          "dtype": "f8"
         },
         "y0": " ",
         "yaxis": "y"
        },
        {
         "alignmentgroup": "True",
         "boxpoints": "all",
         "customdata": [
          [
           "ForecasterRecursive",
           "ForecasterRecursive_predict",
           "4f8ae3116340ac90eb9e66eac42789de",
           0.022104186274092396,
           "2025-04-22T21:56:17.128241",
           "3.12.9",
           "2.2.5",
           "2.2.3",
           "1.6.1",
           "4.6.0",
           "Linux-6.11.0-21-generic-x86_64-with-glibc2.39",
           "x86_64",
           8,
           16.64
          ],
          [
           "ForecasterRecursive",
           "ForecasterRecursive_predict",
           "4f8ae3116340ac90eb9e66eac42789de",
           0.00415655142423245,
           "2025-04-22T22:10:58.751548",
           "3.12.9",
           "1.26.4",
           "2.2.3",
           "1.6.1",
           "4.6.0",
           "Linux-6.11.0-21-generic-x86_64-with-glibc2.39",
           "x86_64",
           8,
           16.64
          ]
         ],
         "fillcolor": "rgba(255,255,255,0)",
         "hoveron": "points",
         "hovertemplate": "skforecast_version=%{x}<br>run_time_avg=%{y}<br>forecaster_name=%{customdata[0]}<br>function_name=%{customdata[1]}<br>function_hash=%{customdata[2]}<br>run_time_std_dev=%{customdata[3]}<br>datetime=%{customdata[4]}<br>python_version=%{customdata[5]}<br>numpy_version=%{customdata[6]}<br>pandas_version=%{customdata[7]}<br>sklearn_version=%{customdata[8]}<br>lightgbm_version=%{customdata[9]}<br>platform=%{customdata[10]}<br>processor=%{customdata[11]}<br>cpu_count=%{customdata[12]}<br>memory_gb=%{customdata[13]}<extra></extra>",
         "jitter": true,
         "legendgroup": "0.16.0",
         "line": {
          "color": "rgba(255,255,255,0)"
         },
         "marker": {
          "color": "#ab63fa",
          "opacity": 0.7,
          "size": 10
         },
         "name": "0.16.0",
         "offsetgroup": "0.16.0",
         "orientation": "v",
         "pointpos": 0,
         "showlegend": true,
         "type": "box",
         "x": [
          "0.16.0",
          "0.16.0"
         ],
         "x0": " ",
         "xaxis": "x",
         "y": {
          "bdata": "mtkY35WxwT/NTP+80xq/Pw==",
          "dtype": "f8"
         },
         "y0": " ",
         "yaxis": "y"
        },
        {
         "line": {
          "color": "black",
          "width": 2
         },
         "marker": {
          "size": 8
         },
         "mode": "lines+markers",
         "name": "Median",
         "showlegend": true,
         "type": "scatter",
         "x": [
          "0.12.0",
          "0.14.0",
          "0.15.0",
          "0.16.0"
         ],
         "y": {
          "bdata": "AIDpG8B2vT9mBpcq6u6wP5kZyL8WRb8/AEDM3n+fwD8=",
          "dtype": "f8"
         }
        }
       ],
       "layout": {
        "boxmode": "overlay",
        "legend": {
         "title": {
          "text": "skforecast_version"
         },
         "tracegroupgap": 0
        },
        "margin": {
         "t": 60
        },
        "showlegend": true,
        "template": {
         "data": {
          "bar": [
           {
            "error_x": {
             "color": "#2a3f5f"
            },
            "error_y": {
             "color": "#2a3f5f"
            },
            "marker": {
             "line": {
              "color": "#E5ECF6",
              "width": 0.5
             },
             "pattern": {
              "fillmode": "overlay",
              "size": 10,
              "solidity": 0.2
             }
            },
            "type": "bar"
           }
          ],
          "barpolar": [
           {
            "marker": {
             "line": {
              "color": "#E5ECF6",
              "width": 0.5
             },
             "pattern": {
              "fillmode": "overlay",
              "size": 10,
              "solidity": 0.2
             }
            },
            "type": "barpolar"
           }
          ],
          "carpet": [
           {
            "aaxis": {
             "endlinecolor": "#2a3f5f",
             "gridcolor": "white",
             "linecolor": "white",
             "minorgridcolor": "white",
             "startlinecolor": "#2a3f5f"
            },
            "baxis": {
             "endlinecolor": "#2a3f5f",
             "gridcolor": "white",
             "linecolor": "white",
             "minorgridcolor": "white",
             "startlinecolor": "#2a3f5f"
            },
            "type": "carpet"
           }
          ],
          "choropleth": [
           {
            "colorbar": {
             "outlinewidth": 0,
             "ticks": ""
            },
            "type": "choropleth"
           }
          ],
          "contour": [
           {
            "colorbar": {
             "outlinewidth": 0,
             "ticks": ""
            },
            "colorscale": [
             [
              0,
              "#0d0887"
             ],
             [
              0.1111111111111111,
              "#46039f"
             ],
             [
              0.2222222222222222,
              "#7201a8"
             ],
             [
              0.3333333333333333,
              "#9c179e"
             ],
             [
              0.4444444444444444,
              "#bd3786"
             ],
             [
              0.5555555555555556,
              "#d8576b"
             ],
             [
              0.6666666666666666,
              "#ed7953"
             ],
             [
              0.7777777777777778,
              "#fb9f3a"
             ],
             [
              0.8888888888888888,
              "#fdca26"
             ],
             [
              1,
              "#f0f921"
             ]
            ],
            "type": "contour"
           }
          ],
          "contourcarpet": [
           {
            "colorbar": {
             "outlinewidth": 0,
             "ticks": ""
            },
            "type": "contourcarpet"
           }
          ],
          "heatmap": [
           {
            "colorbar": {
             "outlinewidth": 0,
             "ticks": ""
            },
            "colorscale": [
             [
              0,
              "#0d0887"
             ],
             [
              0.1111111111111111,
              "#46039f"
             ],
             [
              0.2222222222222222,
              "#7201a8"
             ],
             [
              0.3333333333333333,
              "#9c179e"
             ],
             [
              0.4444444444444444,
              "#bd3786"
             ],
             [
              0.5555555555555556,
              "#d8576b"
             ],
             [
              0.6666666666666666,
              "#ed7953"
             ],
             [
              0.7777777777777778,
              "#fb9f3a"
             ],
             [
              0.8888888888888888,
              "#fdca26"
             ],
             [
              1,
              "#f0f921"
             ]
            ],
            "type": "heatmap"
           }
          ],
          "histogram": [
           {
            "marker": {
             "pattern": {
              "fillmode": "overlay",
              "size": 10,
              "solidity": 0.2
             }
            },
            "type": "histogram"
           }
          ],
          "histogram2d": [
           {
            "colorbar": {
             "outlinewidth": 0,
             "ticks": ""
            },
            "colorscale": [
             [
              0,
              "#0d0887"
             ],
             [
              0.1111111111111111,
              "#46039f"
             ],
             [
              0.2222222222222222,
              "#7201a8"
             ],
             [
              0.3333333333333333,
              "#9c179e"
             ],
             [
              0.4444444444444444,
              "#bd3786"
             ],
             [
              0.5555555555555556,
              "#d8576b"
             ],
             [
              0.6666666666666666,
              "#ed7953"
             ],
             [
              0.7777777777777778,
              "#fb9f3a"
             ],
             [
              0.8888888888888888,
              "#fdca26"
             ],
             [
              1,
              "#f0f921"
             ]
            ],
            "type": "histogram2d"
           }
          ],
          "histogram2dcontour": [
           {
            "colorbar": {
             "outlinewidth": 0,
             "ticks": ""
            },
            "colorscale": [
             [
              0,
              "#0d0887"
             ],
             [
              0.1111111111111111,
              "#46039f"
             ],
             [
              0.2222222222222222,
              "#7201a8"
             ],
             [
              0.3333333333333333,
              "#9c179e"
             ],
             [
              0.4444444444444444,
              "#bd3786"
             ],
             [
              0.5555555555555556,
              "#d8576b"
             ],
             [
              0.6666666666666666,
              "#ed7953"
             ],
             [
              0.7777777777777778,
              "#fb9f3a"
             ],
             [
              0.8888888888888888,
              "#fdca26"
             ],
             [
              1,
              "#f0f921"
             ]
            ],
            "type": "histogram2dcontour"
           }
          ],
          "mesh3d": [
           {
            "colorbar": {
             "outlinewidth": 0,
             "ticks": ""
            },
            "type": "mesh3d"
           }
          ],
          "parcoords": [
           {
            "line": {
             "colorbar": {
              "outlinewidth": 0,
              "ticks": ""
             }
            },
            "type": "parcoords"
           }
          ],
          "pie": [
           {
            "automargin": true,
            "type": "pie"
           }
          ],
          "scatter": [
           {
            "fillpattern": {
             "fillmode": "overlay",
             "size": 10,
             "solidity": 0.2
            },
            "type": "scatter"
           }
          ],
          "scatter3d": [
           {
            "line": {
             "colorbar": {
              "outlinewidth": 0,
              "ticks": ""
             }
            },
            "marker": {
             "colorbar": {
              "outlinewidth": 0,
              "ticks": ""
             }
            },
            "type": "scatter3d"
           }
          ],
          "scattercarpet": [
           {
            "marker": {
             "colorbar": {
              "outlinewidth": 0,
              "ticks": ""
             }
            },
            "type": "scattercarpet"
           }
          ],
          "scattergeo": [
           {
            "marker": {
             "colorbar": {
              "outlinewidth": 0,
              "ticks": ""
             }
            },
            "type": "scattergeo"
           }
          ],
          "scattergl": [
           {
            "marker": {
             "colorbar": {
              "outlinewidth": 0,
              "ticks": ""
             }
            },
            "type": "scattergl"
           }
          ],
          "scattermap": [
           {
            "marker": {
             "colorbar": {
              "outlinewidth": 0,
              "ticks": ""
             }
            },
            "type": "scattermap"
           }
          ],
          "scattermapbox": [
           {
            "marker": {
             "colorbar": {
              "outlinewidth": 0,
              "ticks": ""
             }
            },
            "type": "scattermapbox"
           }
          ],
          "scatterpolar": [
           {
            "marker": {
             "colorbar": {
              "outlinewidth": 0,
              "ticks": ""
             }
            },
            "type": "scatterpolar"
           }
          ],
          "scatterpolargl": [
           {
            "marker": {
             "colorbar": {
              "outlinewidth": 0,
              "ticks": ""
             }
            },
            "type": "scatterpolargl"
           }
          ],
          "scatterternary": [
           {
            "marker": {
             "colorbar": {
              "outlinewidth": 0,
              "ticks": ""
             }
            },
            "type": "scatterternary"
           }
          ],
          "surface": [
           {
            "colorbar": {
             "outlinewidth": 0,
             "ticks": ""
            },
            "colorscale": [
             [
              0,
              "#0d0887"
             ],
             [
              0.1111111111111111,
              "#46039f"
             ],
             [
              0.2222222222222222,
              "#7201a8"
             ],
             [
              0.3333333333333333,
              "#9c179e"
             ],
             [
              0.4444444444444444,
              "#bd3786"
             ],
             [
              0.5555555555555556,
              "#d8576b"
             ],
             [
              0.6666666666666666,
              "#ed7953"
             ],
             [
              0.7777777777777778,
              "#fb9f3a"
             ],
             [
              0.8888888888888888,
              "#fdca26"
             ],
             [
              1,
              "#f0f921"
             ]
            ],
            "type": "surface"
           }
          ],
          "table": [
           {
            "cells": {
             "fill": {
              "color": "#EBF0F8"
             },
             "line": {
              "color": "white"
             }
            },
            "header": {
             "fill": {
              "color": "#C8D4E3"
             },
             "line": {
              "color": "white"
             }
            },
            "type": "table"
           }
          ]
         },
         "layout": {
          "annotationdefaults": {
           "arrowcolor": "#2a3f5f",
           "arrowhead": 0,
           "arrowwidth": 1
          },
          "autotypenumbers": "strict",
          "coloraxis": {
           "colorbar": {
            "outlinewidth": 0,
            "ticks": ""
           }
          },
          "colorscale": {
           "diverging": [
            [
             0,
             "#8e0152"
            ],
            [
             0.1,
             "#c51b7d"
            ],
            [
             0.2,
             "#de77ae"
            ],
            [
             0.3,
             "#f1b6da"
            ],
            [
             0.4,
             "#fde0ef"
            ],
            [
             0.5,
             "#f7f7f7"
            ],
            [
             0.6,
             "#e6f5d0"
            ],
            [
             0.7,
             "#b8e186"
            ],
            [
             0.8,
             "#7fbc41"
            ],
            [
             0.9,
             "#4d9221"
            ],
            [
             1,
             "#276419"
            ]
           ],
           "sequential": [
            [
             0,
             "#0d0887"
            ],
            [
             0.1111111111111111,
             "#46039f"
            ],
            [
             0.2222222222222222,
             "#7201a8"
            ],
            [
             0.3333333333333333,
             "#9c179e"
            ],
            [
             0.4444444444444444,
             "#bd3786"
            ],
            [
             0.5555555555555556,
             "#d8576b"
            ],
            [
             0.6666666666666666,
             "#ed7953"
            ],
            [
             0.7777777777777778,
             "#fb9f3a"
            ],
            [
             0.8888888888888888,
             "#fdca26"
            ],
            [
             1,
             "#f0f921"
            ]
           ],
           "sequentialminus": [
            [
             0,
             "#0d0887"
            ],
            [
             0.1111111111111111,
             "#46039f"
            ],
            [
             0.2222222222222222,
             "#7201a8"
            ],
            [
             0.3333333333333333,
             "#9c179e"
            ],
            [
             0.4444444444444444,
             "#bd3786"
            ],
            [
             0.5555555555555556,
             "#d8576b"
            ],
            [
             0.6666666666666666,
             "#ed7953"
            ],
            [
             0.7777777777777778,
             "#fb9f3a"
            ],
            [
             0.8888888888888888,
             "#fdca26"
            ],
            [
             1,
             "#f0f921"
            ]
           ]
          },
          "colorway": [
           "#636efa",
           "#EF553B",
           "#00cc96",
           "#ab63fa",
           "#FFA15A",
           "#19d3f3",
           "#FF6692",
           "#B6E880",
           "#FF97FF",
           "#FECB52"
          ],
          "font": {
           "color": "#2a3f5f"
          },
          "geo": {
           "bgcolor": "white",
           "lakecolor": "white",
           "landcolor": "#E5ECF6",
           "showlakes": true,
           "showland": true,
           "subunitcolor": "white"
          },
          "hoverlabel": {
           "align": "left"
          },
          "hovermode": "closest",
          "mapbox": {
           "style": "light"
          },
          "paper_bgcolor": "white",
          "plot_bgcolor": "#E5ECF6",
          "polar": {
           "angularaxis": {
            "gridcolor": "white",
            "linecolor": "white",
            "ticks": ""
           },
           "bgcolor": "#E5ECF6",
           "radialaxis": {
            "gridcolor": "white",
            "linecolor": "white",
            "ticks": ""
           }
          },
          "scene": {
           "xaxis": {
            "backgroundcolor": "#E5ECF6",
            "gridcolor": "white",
            "gridwidth": 2,
            "linecolor": "white",
            "showbackground": true,
            "ticks": "",
            "zerolinecolor": "white"
           },
           "yaxis": {
            "backgroundcolor": "#E5ECF6",
            "gridcolor": "white",
            "gridwidth": 2,
            "linecolor": "white",
            "showbackground": true,
            "ticks": "",
            "zerolinecolor": "white"
           },
           "zaxis": {
            "backgroundcolor": "#E5ECF6",
            "gridcolor": "white",
            "gridwidth": 2,
            "linecolor": "white",
            "showbackground": true,
            "ticks": "",
            "zerolinecolor": "white"
           }
          },
          "shapedefaults": {
           "line": {
            "color": "#2a3f5f"
           }
          },
          "ternary": {
           "aaxis": {
            "gridcolor": "white",
            "linecolor": "white",
            "ticks": ""
           },
           "baxis": {
            "gridcolor": "white",
            "linecolor": "white",
            "ticks": ""
           },
           "bgcolor": "#E5ECF6",
           "caxis": {
            "gridcolor": "white",
            "linecolor": "white",
            "ticks": ""
           }
          },
          "title": {
           "x": 0.05
          },
          "xaxis": {
           "automargin": true,
           "gridcolor": "white",
           "linecolor": "white",
           "ticks": "",
           "title": {
            "standoff": 15
           },
           "zerolinecolor": "white",
           "zerolinewidth": 2
          },
          "yaxis": {
           "automargin": true,
           "gridcolor": "white",
           "linecolor": "white",
           "ticks": "",
           "title": {
            "standoff": 15
           },
           "zerolinecolor": "white",
           "zerolinewidth": 2
          }
         }
        },
        "title": {
         "text": "Execution time of ForecasterRecursive_predict"
        },
        "xaxis": {
         "anchor": "y",
         "categoryarray": [
          "0.12.0",
          "0.14.0",
          "0.15.0",
          "0.16.0"
         ],
         "categoryorder": "array",
         "domain": [
          0,
          1
         ],
         "title": {
          "text": "skforecast version"
         }
        },
        "yaxis": {
         "anchor": "x",
         "domain": [
          0,
          1
         ],
         "title": {
          "text": "Execution time (seconds)"
         }
        }
       }
      }
     },
     "metadata": {},
     "output_type": "display_data"
    },
    {
     "data": {
      "application/vnd.microsoft.datawrangler.viewer.v0+json": {
       "columns": [
        {
         "name": "index",
         "rawType": "int64",
         "type": "integer"
        },
        {
         "name": "forecaster_name",
         "rawType": "object",
         "type": "string"
        },
        {
         "name": "function_name",
         "rawType": "object",
         "type": "string"
        },
        {
         "name": "function_hash",
         "rawType": "object",
         "type": "string"
        },
        {
         "name": "run_time_avg",
         "rawType": "float64",
         "type": "float"
        },
        {
         "name": "run_time_std_dev",
         "rawType": "float64",
         "type": "float"
        },
        {
         "name": "datetime",
         "rawType": "datetime64[ns]",
         "type": "datetime"
        },
        {
         "name": "python_version",
         "rawType": "object",
         "type": "string"
        },
        {
         "name": "skforecast_version",
         "rawType": "object",
         "type": "string"
        },
        {
         "name": "numpy_version",
         "rawType": "object",
         "type": "string"
        },
        {
         "name": "pandas_version",
         "rawType": "object",
         "type": "string"
        },
        {
         "name": "sklearn_version",
         "rawType": "object",
         "type": "string"
        },
        {
         "name": "lightgbm_version",
         "rawType": "object",
         "type": "string"
        },
        {
         "name": "platform",
         "rawType": "object",
         "type": "string"
        },
        {
         "name": "processor",
         "rawType": "object",
         "type": "string"
        },
        {
         "name": "cpu_count",
         "rawType": "int64",
         "type": "integer"
        },
        {
         "name": "memory_gb",
         "rawType": "float64",
         "type": "float"
        }
       ],
       "conversionMethod": "pd.DataFrame",
       "ref": "639f878c-8a8e-4193-9d39-aacdc4bce8cd",
       "rows": [
        [
         "31",
         "ForecasterRecursive",
         "ForecasterRecursive__create_predict_inputs",
         "4a58c7a370a6467cc0ba5eda400fa239",
         "0.005099448800046957",
         "0.00015467867635162932",
         "2025-04-22 21:26:54.641780",
         "3.12.9",
         "0.14.0",
         "1.26.4",
         "2.2.3",
         "1.4.2",
         "4.6.0",
         "Linux-6.11.0-21-generic-x86_64-with-glibc2.39",
         "x86_64",
         "8",
         "16.64"
        ],
        [
         "35",
         "ForecasterRecursive",
         "ForecasterRecursive__create_predict_inputs",
         "4a58c7a370a6467cc0ba5eda400fa239",
         "0.0027466473999083973",
         "0.00036554762816456195",
         "2025-04-22 21:27:05.902025",
         "3.12.9",
         "0.14.0",
         "1.26.4",
         "2.2.3",
         "1.4.2",
         "4.6.0",
         "Linux-6.11.0-21-generic-x86_64-with-glibc2.39",
         "x86_64",
         "8",
         "16.64"
        ],
        [
         "47",
         "ForecasterRecursive",
         "ForecasterRecursive__create_predict_inputs",
         "4a58c7a370a6467cc0ba5eda400fa239",
         "0.003219702600108576",
         "0.00027980956855150465",
         "2025-04-22 21:31:06.476643",
         "3.12.9",
         "0.14.0",
         "1.26.4",
         "2.2.3",
         "1.4.2",
         "4.6.0",
         "Linux-6.11.0-21-generic-x86_64-with-glibc2.39",
         "x86_64",
         "8",
         "16.64"
        ],
        [
         "59",
         "ForecasterRecursive",
         "ForecasterRecursive__create_predict_inputs",
         "4a58c7a370a6467cc0ba5eda400fa239",
         "0.004582573099924048",
         "0.000858736743294575",
         "2025-04-22 21:35:41.442892",
         "3.12.9",
         "0.15.0",
         "1.26.4",
         "2.2.3",
         "1.4.2",
         "4.6.0",
         "Linux-6.11.0-21-generic-x86_64-with-glibc2.39",
         "x86_64",
         "8",
         "16.64"
        ],
        [
         "71",
         "ForecasterRecursive",
         "ForecasterRecursive__create_predict_inputs",
         "4a58c7a370a6467cc0ba5eda400fa239",
         "0.004995746699933079",
         "0.0005830124691068192",
         "2025-04-22 21:46:37.057769",
         "3.12.9",
         "0.15.0",
         "2.2.5",
         "2.2.3",
         "1.6.1",
         "4.6.0",
         "Linux-6.11.0-21-generic-x86_64-with-glibc2.39",
         "x86_64",
         "8",
         "16.64"
        ],
        [
         "83",
         "ForecasterRecursive",
         "ForecasterRecursive__create_predict_inputs",
         "0f4a625e8b1bb7e3f0c5bb77a04cc2fb",
         "0.00888311739990968",
         "0.003857125616908375",
         "2025-04-22 21:56:18.525001",
         "3.12.9",
         "0.16.0",
         "2.2.5",
         "2.2.3",
         "1.6.1",
         "4.6.0",
         "Linux-6.11.0-21-generic-x86_64-with-glibc2.39",
         "x86_64",
         "8",
         "16.64"
        ],
        [
         "95",
         "ForecasterRecursive",
         "ForecasterRecursive__create_predict_inputs",
         "0f4a625e8b1bb7e3f0c5bb77a04cc2fb",
         "0.0044671742999526035",
         "0.0011288932558789733",
         "2025-04-22 22:10:59.978681",
         "3.12.9",
         "0.16.0",
         "1.26.4",
         "2.2.3",
         "1.6.1",
         "4.6.0",
         "Linux-6.11.0-21-generic-x86_64-with-glibc2.39",
         "x86_64",
         "8",
         "16.64"
        ],
        [
         "107",
         "ForecasterAutoreg",
         "ForecasterRecursive__create_predict_inputs",
         "0f4a625e8b1bb7e3f0c5bb77a04cc2fb",
         null,
         null,
         "2025-04-22 22:25:52.032757",
         "3.12.9",
         "0.12.0",
         "1.26.4",
         "2.2.3",
         "1.4.2",
         "4.6.0",
         "Linux-6.11.0-21-generic-x86_64-with-glibc2.39",
         "x86_64",
         "8",
         "16.64"
        ],
        [
         "119",
         "ForecasterAutoreg",
         "ForecasterRecursive__create_predict_inputs",
         "0f4a625e8b1bb7e3f0c5bb77a04cc2fb",
         null,
         null,
         "2025-04-22 22:39:47.207318",
         "3.12.9",
         "0.12.0",
         "1.26.4",
         "2.2.3",
         "1.4.2",
         "4.6.0",
         "Linux-6.11.0-21-generic-x86_64-with-glibc2.39",
         "x86_64",
         "8",
         "16.64"
        ]
       ],
       "shape": {
        "columns": 16,
        "rows": 9
       }
      },
      "text/html": [
       "<div>\n",
       "<style scoped>\n",
       "    .dataframe tbody tr th:only-of-type {\n",
       "        vertical-align: middle;\n",
       "    }\n",
       "\n",
       "    .dataframe tbody tr th {\n",
       "        vertical-align: top;\n",
       "    }\n",
       "\n",
       "    .dataframe thead th {\n",
       "        text-align: right;\n",
       "    }\n",
       "</style>\n",
       "<table border=\"1\" class=\"dataframe\">\n",
       "  <thead>\n",
       "    <tr style=\"text-align: right;\">\n",
       "      <th></th>\n",
       "      <th>forecaster_name</th>\n",
       "      <th>function_name</th>\n",
       "      <th>function_hash</th>\n",
       "      <th>run_time_avg</th>\n",
       "      <th>run_time_std_dev</th>\n",
       "      <th>datetime</th>\n",
       "      <th>python_version</th>\n",
       "      <th>skforecast_version</th>\n",
       "      <th>numpy_version</th>\n",
       "      <th>pandas_version</th>\n",
       "      <th>sklearn_version</th>\n",
       "      <th>lightgbm_version</th>\n",
       "      <th>platform</th>\n",
       "      <th>processor</th>\n",
       "      <th>cpu_count</th>\n",
       "      <th>memory_gb</th>\n",
       "    </tr>\n",
       "  </thead>\n",
       "  <tbody>\n",
       "    <tr>\n",
       "      <th>31</th>\n",
       "      <td>ForecasterRecursive</td>\n",
       "      <td>ForecasterRecursive__create_predict_inputs</td>\n",
       "      <td>4a58c7a370a6467cc0ba5eda400fa239</td>\n",
       "      <td>0.005099</td>\n",
       "      <td>0.000155</td>\n",
       "      <td>2025-04-22 21:26:54.641780</td>\n",
       "      <td>3.12.9</td>\n",
       "      <td>0.14.0</td>\n",
       "      <td>1.26.4</td>\n",
       "      <td>2.2.3</td>\n",
       "      <td>1.4.2</td>\n",
       "      <td>4.6.0</td>\n",
       "      <td>Linux-6.11.0-21-generic-x86_64-with-glibc2.39</td>\n",
       "      <td>x86_64</td>\n",
       "      <td>8</td>\n",
       "      <td>16.64</td>\n",
       "    </tr>\n",
       "    <tr>\n",
       "      <th>35</th>\n",
       "      <td>ForecasterRecursive</td>\n",
       "      <td>ForecasterRecursive__create_predict_inputs</td>\n",
       "      <td>4a58c7a370a6467cc0ba5eda400fa239</td>\n",
       "      <td>0.002747</td>\n",
       "      <td>0.000366</td>\n",
       "      <td>2025-04-22 21:27:05.902025</td>\n",
       "      <td>3.12.9</td>\n",
       "      <td>0.14.0</td>\n",
       "      <td>1.26.4</td>\n",
       "      <td>2.2.3</td>\n",
       "      <td>1.4.2</td>\n",
       "      <td>4.6.0</td>\n",
       "      <td>Linux-6.11.0-21-generic-x86_64-with-glibc2.39</td>\n",
       "      <td>x86_64</td>\n",
       "      <td>8</td>\n",
       "      <td>16.64</td>\n",
       "    </tr>\n",
       "    <tr>\n",
       "      <th>47</th>\n",
       "      <td>ForecasterRecursive</td>\n",
       "      <td>ForecasterRecursive__create_predict_inputs</td>\n",
       "      <td>4a58c7a370a6467cc0ba5eda400fa239</td>\n",
       "      <td>0.003220</td>\n",
       "      <td>0.000280</td>\n",
       "      <td>2025-04-22 21:31:06.476643</td>\n",
       "      <td>3.12.9</td>\n",
       "      <td>0.14.0</td>\n",
       "      <td>1.26.4</td>\n",
       "      <td>2.2.3</td>\n",
       "      <td>1.4.2</td>\n",
       "      <td>4.6.0</td>\n",
       "      <td>Linux-6.11.0-21-generic-x86_64-with-glibc2.39</td>\n",
       "      <td>x86_64</td>\n",
       "      <td>8</td>\n",
       "      <td>16.64</td>\n",
       "    </tr>\n",
       "    <tr>\n",
       "      <th>59</th>\n",
       "      <td>ForecasterRecursive</td>\n",
       "      <td>ForecasterRecursive__create_predict_inputs</td>\n",
       "      <td>4a58c7a370a6467cc0ba5eda400fa239</td>\n",
       "      <td>0.004583</td>\n",
       "      <td>0.000859</td>\n",
       "      <td>2025-04-22 21:35:41.442892</td>\n",
       "      <td>3.12.9</td>\n",
       "      <td>0.15.0</td>\n",
       "      <td>1.26.4</td>\n",
       "      <td>2.2.3</td>\n",
       "      <td>1.4.2</td>\n",
       "      <td>4.6.0</td>\n",
       "      <td>Linux-6.11.0-21-generic-x86_64-with-glibc2.39</td>\n",
       "      <td>x86_64</td>\n",
       "      <td>8</td>\n",
       "      <td>16.64</td>\n",
       "    </tr>\n",
       "    <tr>\n",
       "      <th>71</th>\n",
       "      <td>ForecasterRecursive</td>\n",
       "      <td>ForecasterRecursive__create_predict_inputs</td>\n",
       "      <td>4a58c7a370a6467cc0ba5eda400fa239</td>\n",
       "      <td>0.004996</td>\n",
       "      <td>0.000583</td>\n",
       "      <td>2025-04-22 21:46:37.057769</td>\n",
       "      <td>3.12.9</td>\n",
       "      <td>0.15.0</td>\n",
       "      <td>2.2.5</td>\n",
       "      <td>2.2.3</td>\n",
       "      <td>1.6.1</td>\n",
       "      <td>4.6.0</td>\n",
       "      <td>Linux-6.11.0-21-generic-x86_64-with-glibc2.39</td>\n",
       "      <td>x86_64</td>\n",
       "      <td>8</td>\n",
       "      <td>16.64</td>\n",
       "    </tr>\n",
       "    <tr>\n",
       "      <th>83</th>\n",
       "      <td>ForecasterRecursive</td>\n",
       "      <td>ForecasterRecursive__create_predict_inputs</td>\n",
       "      <td>0f4a625e8b1bb7e3f0c5bb77a04cc2fb</td>\n",
       "      <td>0.008883</td>\n",
       "      <td>0.003857</td>\n",
       "      <td>2025-04-22 21:56:18.525001</td>\n",
       "      <td>3.12.9</td>\n",
       "      <td>0.16.0</td>\n",
       "      <td>2.2.5</td>\n",
       "      <td>2.2.3</td>\n",
       "      <td>1.6.1</td>\n",
       "      <td>4.6.0</td>\n",
       "      <td>Linux-6.11.0-21-generic-x86_64-with-glibc2.39</td>\n",
       "      <td>x86_64</td>\n",
       "      <td>8</td>\n",
       "      <td>16.64</td>\n",
       "    </tr>\n",
       "    <tr>\n",
       "      <th>95</th>\n",
       "      <td>ForecasterRecursive</td>\n",
       "      <td>ForecasterRecursive__create_predict_inputs</td>\n",
       "      <td>0f4a625e8b1bb7e3f0c5bb77a04cc2fb</td>\n",
       "      <td>0.004467</td>\n",
       "      <td>0.001129</td>\n",
       "      <td>2025-04-22 22:10:59.978681</td>\n",
       "      <td>3.12.9</td>\n",
       "      <td>0.16.0</td>\n",
       "      <td>1.26.4</td>\n",
       "      <td>2.2.3</td>\n",
       "      <td>1.6.1</td>\n",
       "      <td>4.6.0</td>\n",
       "      <td>Linux-6.11.0-21-generic-x86_64-with-glibc2.39</td>\n",
       "      <td>x86_64</td>\n",
       "      <td>8</td>\n",
       "      <td>16.64</td>\n",
       "    </tr>\n",
       "    <tr>\n",
       "      <th>107</th>\n",
       "      <td>ForecasterAutoreg</td>\n",
       "      <td>ForecasterRecursive__create_predict_inputs</td>\n",
       "      <td>0f4a625e8b1bb7e3f0c5bb77a04cc2fb</td>\n",
       "      <td>NaN</td>\n",
       "      <td>NaN</td>\n",
       "      <td>2025-04-22 22:25:52.032757</td>\n",
       "      <td>3.12.9</td>\n",
       "      <td>0.12.0</td>\n",
       "      <td>1.26.4</td>\n",
       "      <td>2.2.3</td>\n",
       "      <td>1.4.2</td>\n",
       "      <td>4.6.0</td>\n",
       "      <td>Linux-6.11.0-21-generic-x86_64-with-glibc2.39</td>\n",
       "      <td>x86_64</td>\n",
       "      <td>8</td>\n",
       "      <td>16.64</td>\n",
       "    </tr>\n",
       "    <tr>\n",
       "      <th>119</th>\n",
       "      <td>ForecasterAutoreg</td>\n",
       "      <td>ForecasterRecursive__create_predict_inputs</td>\n",
       "      <td>0f4a625e8b1bb7e3f0c5bb77a04cc2fb</td>\n",
       "      <td>NaN</td>\n",
       "      <td>NaN</td>\n",
       "      <td>2025-04-22 22:39:47.207318</td>\n",
       "      <td>3.12.9</td>\n",
       "      <td>0.12.0</td>\n",
       "      <td>1.26.4</td>\n",
       "      <td>2.2.3</td>\n",
       "      <td>1.4.2</td>\n",
       "      <td>4.6.0</td>\n",
       "      <td>Linux-6.11.0-21-generic-x86_64-with-glibc2.39</td>\n",
       "      <td>x86_64</td>\n",
       "      <td>8</td>\n",
       "      <td>16.64</td>\n",
       "    </tr>\n",
       "  </tbody>\n",
       "</table>\n",
       "</div>"
      ],
      "text/plain": [
       "         forecaster_name                               function_name  \\\n",
       "31   ForecasterRecursive  ForecasterRecursive__create_predict_inputs   \n",
       "35   ForecasterRecursive  ForecasterRecursive__create_predict_inputs   \n",
       "47   ForecasterRecursive  ForecasterRecursive__create_predict_inputs   \n",
       "59   ForecasterRecursive  ForecasterRecursive__create_predict_inputs   \n",
       "71   ForecasterRecursive  ForecasterRecursive__create_predict_inputs   \n",
       "83   ForecasterRecursive  ForecasterRecursive__create_predict_inputs   \n",
       "95   ForecasterRecursive  ForecasterRecursive__create_predict_inputs   \n",
       "107    ForecasterAutoreg  ForecasterRecursive__create_predict_inputs   \n",
       "119    ForecasterAutoreg  ForecasterRecursive__create_predict_inputs   \n",
       "\n",
       "                        function_hash  run_time_avg  run_time_std_dev  \\\n",
       "31   4a58c7a370a6467cc0ba5eda400fa239      0.005099          0.000155   \n",
       "35   4a58c7a370a6467cc0ba5eda400fa239      0.002747          0.000366   \n",
       "47   4a58c7a370a6467cc0ba5eda400fa239      0.003220          0.000280   \n",
       "59   4a58c7a370a6467cc0ba5eda400fa239      0.004583          0.000859   \n",
       "71   4a58c7a370a6467cc0ba5eda400fa239      0.004996          0.000583   \n",
       "83   0f4a625e8b1bb7e3f0c5bb77a04cc2fb      0.008883          0.003857   \n",
       "95   0f4a625e8b1bb7e3f0c5bb77a04cc2fb      0.004467          0.001129   \n",
       "107  0f4a625e8b1bb7e3f0c5bb77a04cc2fb           NaN               NaN   \n",
       "119  0f4a625e8b1bb7e3f0c5bb77a04cc2fb           NaN               NaN   \n",
       "\n",
       "                      datetime python_version skforecast_version  \\\n",
       "31  2025-04-22 21:26:54.641780         3.12.9             0.14.0   \n",
       "35  2025-04-22 21:27:05.902025         3.12.9             0.14.0   \n",
       "47  2025-04-22 21:31:06.476643         3.12.9             0.14.0   \n",
       "59  2025-04-22 21:35:41.442892         3.12.9             0.15.0   \n",
       "71  2025-04-22 21:46:37.057769         3.12.9             0.15.0   \n",
       "83  2025-04-22 21:56:18.525001         3.12.9             0.16.0   \n",
       "95  2025-04-22 22:10:59.978681         3.12.9             0.16.0   \n",
       "107 2025-04-22 22:25:52.032757         3.12.9             0.12.0   \n",
       "119 2025-04-22 22:39:47.207318         3.12.9             0.12.0   \n",
       "\n",
       "    numpy_version pandas_version sklearn_version lightgbm_version  \\\n",
       "31         1.26.4          2.2.3           1.4.2            4.6.0   \n",
       "35         1.26.4          2.2.3           1.4.2            4.6.0   \n",
       "47         1.26.4          2.2.3           1.4.2            4.6.0   \n",
       "59         1.26.4          2.2.3           1.4.2            4.6.0   \n",
       "71          2.2.5          2.2.3           1.6.1            4.6.0   \n",
       "83          2.2.5          2.2.3           1.6.1            4.6.0   \n",
       "95         1.26.4          2.2.3           1.6.1            4.6.0   \n",
       "107        1.26.4          2.2.3           1.4.2            4.6.0   \n",
       "119        1.26.4          2.2.3           1.4.2            4.6.0   \n",
       "\n",
       "                                          platform processor  cpu_count  \\\n",
       "31   Linux-6.11.0-21-generic-x86_64-with-glibc2.39    x86_64          8   \n",
       "35   Linux-6.11.0-21-generic-x86_64-with-glibc2.39    x86_64          8   \n",
       "47   Linux-6.11.0-21-generic-x86_64-with-glibc2.39    x86_64          8   \n",
       "59   Linux-6.11.0-21-generic-x86_64-with-glibc2.39    x86_64          8   \n",
       "71   Linux-6.11.0-21-generic-x86_64-with-glibc2.39    x86_64          8   \n",
       "83   Linux-6.11.0-21-generic-x86_64-with-glibc2.39    x86_64          8   \n",
       "95   Linux-6.11.0-21-generic-x86_64-with-glibc2.39    x86_64          8   \n",
       "107  Linux-6.11.0-21-generic-x86_64-with-glibc2.39    x86_64          8   \n",
       "119  Linux-6.11.0-21-generic-x86_64-with-glibc2.39    x86_64          8   \n",
       "\n",
       "     memory_gb  \n",
       "31       16.64  \n",
       "35       16.64  \n",
       "47       16.64  \n",
       "59       16.64  \n",
       "71       16.64  \n",
       "83       16.64  \n",
       "95       16.64  \n",
       "107      16.64  \n",
       "119      16.64  "
      ]
     },
     "metadata": {},
     "output_type": "display_data"
    },
    {
     "data": {
      "application/vnd.plotly.v1+json": {
       "config": {
        "plotlyServerURL": "https://plot.ly"
       },
       "data": [
        {
         "alignmentgroup": "True",
         "boxpoints": "all",
         "customdata": [
          [
           "ForecasterAutoreg",
           "ForecasterRecursive__create_predict_inputs",
           "0f4a625e8b1bb7e3f0c5bb77a04cc2fb",
           null,
           "2025-04-22T22:25:52.032757",
           "3.12.9",
           "1.26.4",
           "2.2.3",
           "1.4.2",
           "4.6.0",
           "Linux-6.11.0-21-generic-x86_64-with-glibc2.39",
           "x86_64",
           8,
           16.64
          ],
          [
           "ForecasterAutoreg",
           "ForecasterRecursive__create_predict_inputs",
           "0f4a625e8b1bb7e3f0c5bb77a04cc2fb",
           null,
           "2025-04-22T22:39:47.207318",
           "3.12.9",
           "1.26.4",
           "2.2.3",
           "1.4.2",
           "4.6.0",
           "Linux-6.11.0-21-generic-x86_64-with-glibc2.39",
           "x86_64",
           8,
           16.64
          ]
         ],
         "fillcolor": "rgba(255,255,255,0)",
         "hoveron": "points",
         "hovertemplate": "skforecast_version=%{x}<br>run_time_avg=%{y}<br>forecaster_name=%{customdata[0]}<br>function_name=%{customdata[1]}<br>function_hash=%{customdata[2]}<br>run_time_std_dev=%{customdata[3]}<br>datetime=%{customdata[4]}<br>python_version=%{customdata[5]}<br>numpy_version=%{customdata[6]}<br>pandas_version=%{customdata[7]}<br>sklearn_version=%{customdata[8]}<br>lightgbm_version=%{customdata[9]}<br>platform=%{customdata[10]}<br>processor=%{customdata[11]}<br>cpu_count=%{customdata[12]}<br>memory_gb=%{customdata[13]}<extra></extra>",
         "jitter": true,
         "legendgroup": "0.12.0",
         "line": {
          "color": "rgba(255,255,255,0)"
         },
         "marker": {
          "color": "#636efa",
          "opacity": 0.7,
          "size": 10
         },
         "name": "0.12.0",
         "offsetgroup": "0.12.0",
         "orientation": "v",
         "pointpos": 0,
         "showlegend": true,
         "type": "box",
         "x": [
          "0.12.0",
          "0.12.0"
         ],
         "x0": " ",
         "xaxis": "x",
         "y": {
          "bdata": "AAAAAAAA+H8AAAAAAAD4fw==",
          "dtype": "f8"
         },
         "y0": " ",
         "yaxis": "y"
        },
        {
         "alignmentgroup": "True",
         "boxpoints": "all",
         "customdata": [
          [
           "ForecasterRecursive",
           "ForecasterRecursive__create_predict_inputs",
           "4a58c7a370a6467cc0ba5eda400fa239",
           0.00015467867635162932,
           "2025-04-22T21:26:54.641780",
           "3.12.9",
           "1.26.4",
           "2.2.3",
           "1.4.2",
           "4.6.0",
           "Linux-6.11.0-21-generic-x86_64-with-glibc2.39",
           "x86_64",
           8,
           16.64
          ],
          [
           "ForecasterRecursive",
           "ForecasterRecursive__create_predict_inputs",
           "4a58c7a370a6467cc0ba5eda400fa239",
           0.00036554762816456195,
           "2025-04-22T21:27:05.902025",
           "3.12.9",
           "1.26.4",
           "2.2.3",
           "1.4.2",
           "4.6.0",
           "Linux-6.11.0-21-generic-x86_64-with-glibc2.39",
           "x86_64",
           8,
           16.64
          ],
          [
           "ForecasterRecursive",
           "ForecasterRecursive__create_predict_inputs",
           "4a58c7a370a6467cc0ba5eda400fa239",
           0.00027980956855150465,
           "2025-04-22T21:31:06.476643",
           "3.12.9",
           "1.26.4",
           "2.2.3",
           "1.4.2",
           "4.6.0",
           "Linux-6.11.0-21-generic-x86_64-with-glibc2.39",
           "x86_64",
           8,
           16.64
          ]
         ],
         "fillcolor": "rgba(255,255,255,0)",
         "hoveron": "points",
         "hovertemplate": "skforecast_version=%{x}<br>run_time_avg=%{y}<br>forecaster_name=%{customdata[0]}<br>function_name=%{customdata[1]}<br>function_hash=%{customdata[2]}<br>run_time_std_dev=%{customdata[3]}<br>datetime=%{customdata[4]}<br>python_version=%{customdata[5]}<br>numpy_version=%{customdata[6]}<br>pandas_version=%{customdata[7]}<br>sklearn_version=%{customdata[8]}<br>lightgbm_version=%{customdata[9]}<br>platform=%{customdata[10]}<br>processor=%{customdata[11]}<br>cpu_count=%{customdata[12]}<br>memory_gb=%{customdata[13]}<extra></extra>",
         "jitter": true,
         "legendgroup": "0.14.0",
         "line": {
          "color": "rgba(255,255,255,0)"
         },
         "marker": {
          "color": "#EF553B",
          "opacity": 0.7,
          "size": 10
         },
         "name": "0.14.0",
         "offsetgroup": "0.14.0",
         "orientation": "v",
         "pointpos": 0,
         "showlegend": true,
         "type": "box",
         "x": [
          "0.14.0",
          "0.14.0",
          "0.14.0"
         ],
         "x0": " ",
         "xaxis": "x",
         "y": {
          "bdata": "ZmYu3SjjdD8zMzMYI4BmP5qZ2as0YGo/",
          "dtype": "f8"
         },
         "y0": " ",
         "yaxis": "y"
        },
        {
         "alignmentgroup": "True",
         "boxpoints": "all",
         "customdata": [
          [
           "ForecasterRecursive",
           "ForecasterRecursive__create_predict_inputs",
           "4a58c7a370a6467cc0ba5eda400fa239",
           0.000858736743294575,
           "2025-04-22T21:35:41.442892",
           "3.12.9",
           "1.26.4",
           "2.2.3",
           "1.4.2",
           "4.6.0",
           "Linux-6.11.0-21-generic-x86_64-with-glibc2.39",
           "x86_64",
           8,
           16.64
          ],
          [
           "ForecasterRecursive",
           "ForecasterRecursive__create_predict_inputs",
           "4a58c7a370a6467cc0ba5eda400fa239",
           0.0005830124691068192,
           "2025-04-22T21:46:37.057769",
           "3.12.9",
           "2.2.5",
           "2.2.3",
           "1.6.1",
           "4.6.0",
           "Linux-6.11.0-21-generic-x86_64-with-glibc2.39",
           "x86_64",
           8,
           16.64
          ]
         ],
         "fillcolor": "rgba(255,255,255,0)",
         "hoveron": "points",
         "hovertemplate": "skforecast_version=%{x}<br>run_time_avg=%{y}<br>forecaster_name=%{customdata[0]}<br>function_name=%{customdata[1]}<br>function_hash=%{customdata[2]}<br>run_time_std_dev=%{customdata[3]}<br>datetime=%{customdata[4]}<br>python_version=%{customdata[5]}<br>numpy_version=%{customdata[6]}<br>pandas_version=%{customdata[7]}<br>sklearn_version=%{customdata[8]}<br>lightgbm_version=%{customdata[9]}<br>platform=%{customdata[10]}<br>processor=%{customdata[11]}<br>cpu_count=%{customdata[12]}<br>memory_gb=%{customdata[13]}<extra></extra>",
         "jitter": true,
         "legendgroup": "0.15.0",
         "line": {
          "color": "rgba(255,255,255,0)"
         },
         "marker": {
          "color": "#00cc96",
          "opacity": 0.7,
          "size": 10
         },
         "name": "0.15.0",
         "offsetgroup": "0.15.0",
         "orientation": "v",
         "pointpos": 0,
         "showlegend": true,
         "type": "box",
         "x": [
          "0.15.0",
          "0.15.0"
         ],
         "x0": " ",
         "xaxis": "x",
         "y": {
          "bdata": "AACIGS3Fcj8AACCLa3Z0Pw==",
          "dtype": "f8"
         },
         "y0": " ",
         "yaxis": "y"
        },
        {
         "alignmentgroup": "True",
         "boxpoints": "all",
         "customdata": [
          [
           "ForecasterRecursive",
           "ForecasterRecursive__create_predict_inputs",
           "0f4a625e8b1bb7e3f0c5bb77a04cc2fb",
           0.003857125616908375,
           "2025-04-22T21:56:18.525001",
           "3.12.9",
           "2.2.5",
           "2.2.3",
           "1.6.1",
           "4.6.0",
           "Linux-6.11.0-21-generic-x86_64-with-glibc2.39",
           "x86_64",
           8,
           16.64
          ],
          [
           "ForecasterRecursive",
           "ForecasterRecursive__create_predict_inputs",
           "0f4a625e8b1bb7e3f0c5bb77a04cc2fb",
           0.0011288932558789733,
           "2025-04-22T22:10:59.978681",
           "3.12.9",
           "1.26.4",
           "2.2.3",
           "1.6.1",
           "4.6.0",
           "Linux-6.11.0-21-generic-x86_64-with-glibc2.39",
           "x86_64",
           8,
           16.64
          ]
         ],
         "fillcolor": "rgba(255,255,255,0)",
         "hoveron": "points",
         "hovertemplate": "skforecast_version=%{x}<br>run_time_avg=%{y}<br>forecaster_name=%{customdata[0]}<br>function_name=%{customdata[1]}<br>function_hash=%{customdata[2]}<br>run_time_std_dev=%{customdata[3]}<br>datetime=%{customdata[4]}<br>python_version=%{customdata[5]}<br>numpy_version=%{customdata[6]}<br>pandas_version=%{customdata[7]}<br>sklearn_version=%{customdata[8]}<br>lightgbm_version=%{customdata[9]}<br>platform=%{customdata[10]}<br>processor=%{customdata[11]}<br>cpu_count=%{customdata[12]}<br>memory_gb=%{customdata[13]}<extra></extra>",
         "jitter": true,
         "legendgroup": "0.16.0",
         "line": {
          "color": "rgba(255,255,255,0)"
         },
         "marker": {
          "color": "#ab63fa",
          "opacity": 0.7,
          "size": 10
         },
         "name": "0.16.0",
         "offsetgroup": "0.16.0",
         "orientation": "v",
         "pointpos": 0,
         "showlegend": true,
         "type": "box",
         "x": [
          "0.16.0",
          "0.16.0"
         ],
         "x0": " ",
         "xaxis": "x",
         "y": {
          "bdata": "zczA1U8xgj+amWH4K0xyPw==",
          "dtype": "f8"
         },
         "y0": " ",
         "yaxis": "y"
        },
        {
         "line": {
          "color": "black",
          "width": 2
         },
         "marker": {
          "size": 8
         },
         "mode": "lines+markers",
         "name": "Median",
         "showlegend": true,
         "type": "scatter",
         "x": [
          "0.12.0",
          "0.14.0",
          "0.15.0",
          "0.16.0"
         ],
         "y": {
          "bdata": "AAAAAAAA+H+amdmrNGBqPwAAVFLMnXM/mpnx0WVXez8=",
          "dtype": "f8"
         }
        }
       ],
       "layout": {
        "boxmode": "overlay",
        "legend": {
         "title": {
          "text": "skforecast_version"
         },
         "tracegroupgap": 0
        },
        "margin": {
         "t": 60
        },
        "showlegend": true,
        "template": {
         "data": {
          "bar": [
           {
            "error_x": {
             "color": "#2a3f5f"
            },
            "error_y": {
             "color": "#2a3f5f"
            },
            "marker": {
             "line": {
              "color": "#E5ECF6",
              "width": 0.5
             },
             "pattern": {
              "fillmode": "overlay",
              "size": 10,
              "solidity": 0.2
             }
            },
            "type": "bar"
           }
          ],
          "barpolar": [
           {
            "marker": {
             "line": {
              "color": "#E5ECF6",
              "width": 0.5
             },
             "pattern": {
              "fillmode": "overlay",
              "size": 10,
              "solidity": 0.2
             }
            },
            "type": "barpolar"
           }
          ],
          "carpet": [
           {
            "aaxis": {
             "endlinecolor": "#2a3f5f",
             "gridcolor": "white",
             "linecolor": "white",
             "minorgridcolor": "white",
             "startlinecolor": "#2a3f5f"
            },
            "baxis": {
             "endlinecolor": "#2a3f5f",
             "gridcolor": "white",
             "linecolor": "white",
             "minorgridcolor": "white",
             "startlinecolor": "#2a3f5f"
            },
            "type": "carpet"
           }
          ],
          "choropleth": [
           {
            "colorbar": {
             "outlinewidth": 0,
             "ticks": ""
            },
            "type": "choropleth"
           }
          ],
          "contour": [
           {
            "colorbar": {
             "outlinewidth": 0,
             "ticks": ""
            },
            "colorscale": [
             [
              0,
              "#0d0887"
             ],
             [
              0.1111111111111111,
              "#46039f"
             ],
             [
              0.2222222222222222,
              "#7201a8"
             ],
             [
              0.3333333333333333,
              "#9c179e"
             ],
             [
              0.4444444444444444,
              "#bd3786"
             ],
             [
              0.5555555555555556,
              "#d8576b"
             ],
             [
              0.6666666666666666,
              "#ed7953"
             ],
             [
              0.7777777777777778,
              "#fb9f3a"
             ],
             [
              0.8888888888888888,
              "#fdca26"
             ],
             [
              1,
              "#f0f921"
             ]
            ],
            "type": "contour"
           }
          ],
          "contourcarpet": [
           {
            "colorbar": {
             "outlinewidth": 0,
             "ticks": ""
            },
            "type": "contourcarpet"
           }
          ],
          "heatmap": [
           {
            "colorbar": {
             "outlinewidth": 0,
             "ticks": ""
            },
            "colorscale": [
             [
              0,
              "#0d0887"
             ],
             [
              0.1111111111111111,
              "#46039f"
             ],
             [
              0.2222222222222222,
              "#7201a8"
             ],
             [
              0.3333333333333333,
              "#9c179e"
             ],
             [
              0.4444444444444444,
              "#bd3786"
             ],
             [
              0.5555555555555556,
              "#d8576b"
             ],
             [
              0.6666666666666666,
              "#ed7953"
             ],
             [
              0.7777777777777778,
              "#fb9f3a"
             ],
             [
              0.8888888888888888,
              "#fdca26"
             ],
             [
              1,
              "#f0f921"
             ]
            ],
            "type": "heatmap"
           }
          ],
          "histogram": [
           {
            "marker": {
             "pattern": {
              "fillmode": "overlay",
              "size": 10,
              "solidity": 0.2
             }
            },
            "type": "histogram"
           }
          ],
          "histogram2d": [
           {
            "colorbar": {
             "outlinewidth": 0,
             "ticks": ""
            },
            "colorscale": [
             [
              0,
              "#0d0887"
             ],
             [
              0.1111111111111111,
              "#46039f"
             ],
             [
              0.2222222222222222,
              "#7201a8"
             ],
             [
              0.3333333333333333,
              "#9c179e"
             ],
             [
              0.4444444444444444,
              "#bd3786"
             ],
             [
              0.5555555555555556,
              "#d8576b"
             ],
             [
              0.6666666666666666,
              "#ed7953"
             ],
             [
              0.7777777777777778,
              "#fb9f3a"
             ],
             [
              0.8888888888888888,
              "#fdca26"
             ],
             [
              1,
              "#f0f921"
             ]
            ],
            "type": "histogram2d"
           }
          ],
          "histogram2dcontour": [
           {
            "colorbar": {
             "outlinewidth": 0,
             "ticks": ""
            },
            "colorscale": [
             [
              0,
              "#0d0887"
             ],
             [
              0.1111111111111111,
              "#46039f"
             ],
             [
              0.2222222222222222,
              "#7201a8"
             ],
             [
              0.3333333333333333,
              "#9c179e"
             ],
             [
              0.4444444444444444,
              "#bd3786"
             ],
             [
              0.5555555555555556,
              "#d8576b"
             ],
             [
              0.6666666666666666,
              "#ed7953"
             ],
             [
              0.7777777777777778,
              "#fb9f3a"
             ],
             [
              0.8888888888888888,
              "#fdca26"
             ],
             [
              1,
              "#f0f921"
             ]
            ],
            "type": "histogram2dcontour"
           }
          ],
          "mesh3d": [
           {
            "colorbar": {
             "outlinewidth": 0,
             "ticks": ""
            },
            "type": "mesh3d"
           }
          ],
          "parcoords": [
           {
            "line": {
             "colorbar": {
              "outlinewidth": 0,
              "ticks": ""
             }
            },
            "type": "parcoords"
           }
          ],
          "pie": [
           {
            "automargin": true,
            "type": "pie"
           }
          ],
          "scatter": [
           {
            "fillpattern": {
             "fillmode": "overlay",
             "size": 10,
             "solidity": 0.2
            },
            "type": "scatter"
           }
          ],
          "scatter3d": [
           {
            "line": {
             "colorbar": {
              "outlinewidth": 0,
              "ticks": ""
             }
            },
            "marker": {
             "colorbar": {
              "outlinewidth": 0,
              "ticks": ""
             }
            },
            "type": "scatter3d"
           }
          ],
          "scattercarpet": [
           {
            "marker": {
             "colorbar": {
              "outlinewidth": 0,
              "ticks": ""
             }
            },
            "type": "scattercarpet"
           }
          ],
          "scattergeo": [
           {
            "marker": {
             "colorbar": {
              "outlinewidth": 0,
              "ticks": ""
             }
            },
            "type": "scattergeo"
           }
          ],
          "scattergl": [
           {
            "marker": {
             "colorbar": {
              "outlinewidth": 0,
              "ticks": ""
             }
            },
            "type": "scattergl"
           }
          ],
          "scattermap": [
           {
            "marker": {
             "colorbar": {
              "outlinewidth": 0,
              "ticks": ""
             }
            },
            "type": "scattermap"
           }
          ],
          "scattermapbox": [
           {
            "marker": {
             "colorbar": {
              "outlinewidth": 0,
              "ticks": ""
             }
            },
            "type": "scattermapbox"
           }
          ],
          "scatterpolar": [
           {
            "marker": {
             "colorbar": {
              "outlinewidth": 0,
              "ticks": ""
             }
            },
            "type": "scatterpolar"
           }
          ],
          "scatterpolargl": [
           {
            "marker": {
             "colorbar": {
              "outlinewidth": 0,
              "ticks": ""
             }
            },
            "type": "scatterpolargl"
           }
          ],
          "scatterternary": [
           {
            "marker": {
             "colorbar": {
              "outlinewidth": 0,
              "ticks": ""
             }
            },
            "type": "scatterternary"
           }
          ],
          "surface": [
           {
            "colorbar": {
             "outlinewidth": 0,
             "ticks": ""
            },
            "colorscale": [
             [
              0,
              "#0d0887"
             ],
             [
              0.1111111111111111,
              "#46039f"
             ],
             [
              0.2222222222222222,
              "#7201a8"
             ],
             [
              0.3333333333333333,
              "#9c179e"
             ],
             [
              0.4444444444444444,
              "#bd3786"
             ],
             [
              0.5555555555555556,
              "#d8576b"
             ],
             [
              0.6666666666666666,
              "#ed7953"
             ],
             [
              0.7777777777777778,
              "#fb9f3a"
             ],
             [
              0.8888888888888888,
              "#fdca26"
             ],
             [
              1,
              "#f0f921"
             ]
            ],
            "type": "surface"
           }
          ],
          "table": [
           {
            "cells": {
             "fill": {
              "color": "#EBF0F8"
             },
             "line": {
              "color": "white"
             }
            },
            "header": {
             "fill": {
              "color": "#C8D4E3"
             },
             "line": {
              "color": "white"
             }
            },
            "type": "table"
           }
          ]
         },
         "layout": {
          "annotationdefaults": {
           "arrowcolor": "#2a3f5f",
           "arrowhead": 0,
           "arrowwidth": 1
          },
          "autotypenumbers": "strict",
          "coloraxis": {
           "colorbar": {
            "outlinewidth": 0,
            "ticks": ""
           }
          },
          "colorscale": {
           "diverging": [
            [
             0,
             "#8e0152"
            ],
            [
             0.1,
             "#c51b7d"
            ],
            [
             0.2,
             "#de77ae"
            ],
            [
             0.3,
             "#f1b6da"
            ],
            [
             0.4,
             "#fde0ef"
            ],
            [
             0.5,
             "#f7f7f7"
            ],
            [
             0.6,
             "#e6f5d0"
            ],
            [
             0.7,
             "#b8e186"
            ],
            [
             0.8,
             "#7fbc41"
            ],
            [
             0.9,
             "#4d9221"
            ],
            [
             1,
             "#276419"
            ]
           ],
           "sequential": [
            [
             0,
             "#0d0887"
            ],
            [
             0.1111111111111111,
             "#46039f"
            ],
            [
             0.2222222222222222,
             "#7201a8"
            ],
            [
             0.3333333333333333,
             "#9c179e"
            ],
            [
             0.4444444444444444,
             "#bd3786"
            ],
            [
             0.5555555555555556,
             "#d8576b"
            ],
            [
             0.6666666666666666,
             "#ed7953"
            ],
            [
             0.7777777777777778,
             "#fb9f3a"
            ],
            [
             0.8888888888888888,
             "#fdca26"
            ],
            [
             1,
             "#f0f921"
            ]
           ],
           "sequentialminus": [
            [
             0,
             "#0d0887"
            ],
            [
             0.1111111111111111,
             "#46039f"
            ],
            [
             0.2222222222222222,
             "#7201a8"
            ],
            [
             0.3333333333333333,
             "#9c179e"
            ],
            [
             0.4444444444444444,
             "#bd3786"
            ],
            [
             0.5555555555555556,
             "#d8576b"
            ],
            [
             0.6666666666666666,
             "#ed7953"
            ],
            [
             0.7777777777777778,
             "#fb9f3a"
            ],
            [
             0.8888888888888888,
             "#fdca26"
            ],
            [
             1,
             "#f0f921"
            ]
           ]
          },
          "colorway": [
           "#636efa",
           "#EF553B",
           "#00cc96",
           "#ab63fa",
           "#FFA15A",
           "#19d3f3",
           "#FF6692",
           "#B6E880",
           "#FF97FF",
           "#FECB52"
          ],
          "font": {
           "color": "#2a3f5f"
          },
          "geo": {
           "bgcolor": "white",
           "lakecolor": "white",
           "landcolor": "#E5ECF6",
           "showlakes": true,
           "showland": true,
           "subunitcolor": "white"
          },
          "hoverlabel": {
           "align": "left"
          },
          "hovermode": "closest",
          "mapbox": {
           "style": "light"
          },
          "paper_bgcolor": "white",
          "plot_bgcolor": "#E5ECF6",
          "polar": {
           "angularaxis": {
            "gridcolor": "white",
            "linecolor": "white",
            "ticks": ""
           },
           "bgcolor": "#E5ECF6",
           "radialaxis": {
            "gridcolor": "white",
            "linecolor": "white",
            "ticks": ""
           }
          },
          "scene": {
           "xaxis": {
            "backgroundcolor": "#E5ECF6",
            "gridcolor": "white",
            "gridwidth": 2,
            "linecolor": "white",
            "showbackground": true,
            "ticks": "",
            "zerolinecolor": "white"
           },
           "yaxis": {
            "backgroundcolor": "#E5ECF6",
            "gridcolor": "white",
            "gridwidth": 2,
            "linecolor": "white",
            "showbackground": true,
            "ticks": "",
            "zerolinecolor": "white"
           },
           "zaxis": {
            "backgroundcolor": "#E5ECF6",
            "gridcolor": "white",
            "gridwidth": 2,
            "linecolor": "white",
            "showbackground": true,
            "ticks": "",
            "zerolinecolor": "white"
           }
          },
          "shapedefaults": {
           "line": {
            "color": "#2a3f5f"
           }
          },
          "ternary": {
           "aaxis": {
            "gridcolor": "white",
            "linecolor": "white",
            "ticks": ""
           },
           "baxis": {
            "gridcolor": "white",
            "linecolor": "white",
            "ticks": ""
           },
           "bgcolor": "#E5ECF6",
           "caxis": {
            "gridcolor": "white",
            "linecolor": "white",
            "ticks": ""
           }
          },
          "title": {
           "x": 0.05
          },
          "xaxis": {
           "automargin": true,
           "gridcolor": "white",
           "linecolor": "white",
           "ticks": "",
           "title": {
            "standoff": 15
           },
           "zerolinecolor": "white",
           "zerolinewidth": 2
          },
          "yaxis": {
           "automargin": true,
           "gridcolor": "white",
           "linecolor": "white",
           "ticks": "",
           "title": {
            "standoff": 15
           },
           "zerolinecolor": "white",
           "zerolinewidth": 2
          }
         }
        },
        "title": {
         "text": "Execution time of ForecasterRecursive__create_predict_inputs"
        },
        "xaxis": {
         "anchor": "y",
         "categoryarray": [
          "0.12.0",
          "0.14.0",
          "0.15.0",
          "0.16.0"
         ],
         "categoryorder": "array",
         "domain": [
          0,
          1
         ],
         "title": {
          "text": "skforecast version"
         }
        },
        "yaxis": {
         "anchor": "x",
         "domain": [
          0,
          1
         ],
         "title": {
          "text": "Execution time (seconds)"
         }
        }
       }
      }
     },
     "metadata": {},
     "output_type": "display_data"
    }
   ],
   "source": [
    "# Plot results\n",
    "# ==============================================================================\n",
    "results_benchmark = joblib.load(\"benchmarks/benchmark.joblib\")\n",
    "for function_name in results_benchmark['function_name'].unique():\n",
    "    df = results_benchmark.query(f\"function_name == '{function_name}'\").copy()\n",
    "    display(df)\n",
    "    plot_benchmark_results(df, function_name)"
   ]
  }
 ],
 "metadata": {
  "kernelspec": {
   "display_name": "skforecast_16_py12",
   "language": "python",
   "name": "python3"
  },
  "language_info": {
   "codemirror_mode": {
    "name": "ipython",
    "version": 3
   },
   "file_extension": ".py",
   "mimetype": "text/x-python",
   "name": "python",
   "nbconvert_exporter": "python",
   "pygments_lexer": "ipython3",
   "version": "3.12.9"
  },
  "orig_nbformat": 4
 },
 "nbformat": 4,
 "nbformat_minor": 2
}
