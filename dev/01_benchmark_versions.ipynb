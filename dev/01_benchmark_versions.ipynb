{
 "cells": [
  {
   "cell_type": "code",
   "execution_count": 1,
   "metadata": {},
   "outputs": [
    {
     "name": "stdout",
     "output_type": "stream",
     "text": [
      "/home/joaquin/Documents/GitHub/skforecast\n"
     ]
    }
   ],
   "source": [
    "%load_ext autoreload\n",
    "%autoreload 2\n",
    "import sys\n",
    "from pathlib import Path\n",
    "path = str(Path.cwd().parent)\n",
    "print(path)\n",
    "sys.path.insert(1, path)"
   ]
  },
  {
   "cell_type": "code",
   "execution_count": null,
   "metadata": {},
   "outputs": [
    {
     "name": "stdout",
     "output_type": "stream",
     "text": [
      "Collecting skforecast==0.15.0\n",
      "  Using cached skforecast-0.15.0-py3-none-any.whl.metadata (18 kB)\n",
      "Requirement already satisfied: numpy>=1.24 in /home/joaquin/miniconda3/envs/skforecast_16_py12/lib/python3.12/site-packages (from skforecast==0.15.0) (1.26.4)\n",
      "Requirement already satisfied: pandas>=1.5 in /home/joaquin/miniconda3/envs/skforecast_16_py12/lib/python3.12/site-packages (from skforecast==0.15.0) (2.2.3)\n",
      "Requirement already satisfied: tqdm>=4.57 in /home/joaquin/miniconda3/envs/skforecast_16_py12/lib/python3.12/site-packages (from skforecast==0.15.0) (4.66.6)\n",
      "Requirement already satisfied: scikit-learn>=1.2 in /home/joaquin/miniconda3/envs/skforecast_16_py12/lib/python3.12/site-packages (from skforecast==0.15.0) (1.4.2)\n",
      "Requirement already satisfied: optuna>=2.10 in /home/joaquin/miniconda3/envs/skforecast_16_py12/lib/python3.12/site-packages (from skforecast==0.15.0) (3.6.2)\n",
      "Requirement already satisfied: joblib>=1.1 in /home/joaquin/miniconda3/envs/skforecast_16_py12/lib/python3.12/site-packages (from skforecast==0.15.0) (1.4.2)\n",
      "Requirement already satisfied: numba>=0.59 in /home/joaquin/miniconda3/envs/skforecast_16_py12/lib/python3.12/site-packages (from skforecast==0.15.0) (0.61.2)\n",
      "Requirement already satisfied: rich>=13.9 in /home/joaquin/miniconda3/envs/skforecast_16_py12/lib/python3.12/site-packages (from skforecast==0.15.0) (14.0.0)\n",
      "Requirement already satisfied: llvmlite<0.45,>=0.44.0dev0 in /home/joaquin/miniconda3/envs/skforecast_16_py12/lib/python3.12/site-packages (from numba>=0.59->skforecast==0.15.0) (0.44.0)\n",
      "Requirement already satisfied: alembic>=1.5.0 in /home/joaquin/miniconda3/envs/skforecast_16_py12/lib/python3.12/site-packages (from optuna>=2.10->skforecast==0.15.0) (1.15.2)\n",
      "Requirement already satisfied: colorlog in /home/joaquin/miniconda3/envs/skforecast_16_py12/lib/python3.12/site-packages (from optuna>=2.10->skforecast==0.15.0) (6.9.0)\n",
      "Requirement already satisfied: packaging>=20.0 in /home/joaquin/miniconda3/envs/skforecast_16_py12/lib/python3.12/site-packages (from optuna>=2.10->skforecast==0.15.0) (24.2)\n",
      "Requirement already satisfied: sqlalchemy>=1.3.0 in /home/joaquin/miniconda3/envs/skforecast_16_py12/lib/python3.12/site-packages (from optuna>=2.10->skforecast==0.15.0) (2.0.40)\n",
      "Requirement already satisfied: PyYAML in /home/joaquin/miniconda3/envs/skforecast_16_py12/lib/python3.12/site-packages (from optuna>=2.10->skforecast==0.15.0) (6.0.2)\n",
      "Requirement already satisfied: python-dateutil>=2.8.2 in /home/joaquin/miniconda3/envs/skforecast_16_py12/lib/python3.12/site-packages (from pandas>=1.5->skforecast==0.15.0) (2.9.0.post0)\n",
      "Requirement already satisfied: pytz>=2020.1 in /home/joaquin/miniconda3/envs/skforecast_16_py12/lib/python3.12/site-packages (from pandas>=1.5->skforecast==0.15.0) (2025.2)\n",
      "Requirement already satisfied: tzdata>=2022.7 in /home/joaquin/miniconda3/envs/skforecast_16_py12/lib/python3.12/site-packages (from pandas>=1.5->skforecast==0.15.0) (2025.2)\n",
      "Requirement already satisfied: markdown-it-py>=2.2.0 in /home/joaquin/miniconda3/envs/skforecast_16_py12/lib/python3.12/site-packages (from rich>=13.9->skforecast==0.15.0) (3.0.0)\n",
      "Requirement already satisfied: pygments<3.0.0,>=2.13.0 in /home/joaquin/miniconda3/envs/skforecast_16_py12/lib/python3.12/site-packages (from rich>=13.9->skforecast==0.15.0) (2.19.1)\n",
      "Requirement already satisfied: scipy>=1.6.0 in /home/joaquin/miniconda3/envs/skforecast_16_py12/lib/python3.12/site-packages (from scikit-learn>=1.2->skforecast==0.15.0) (1.15.2)\n",
      "Requirement already satisfied: threadpoolctl>=2.0.0 in /home/joaquin/miniconda3/envs/skforecast_16_py12/lib/python3.12/site-packages (from scikit-learn>=1.2->skforecast==0.15.0) (3.6.0)\n",
      "Requirement already satisfied: Mako in /home/joaquin/miniconda3/envs/skforecast_16_py12/lib/python3.12/site-packages (from alembic>=1.5.0->optuna>=2.10->skforecast==0.15.0) (1.3.10)\n",
      "Requirement already satisfied: typing-extensions>=4.12 in /home/joaquin/miniconda3/envs/skforecast_16_py12/lib/python3.12/site-packages (from alembic>=1.5.0->optuna>=2.10->skforecast==0.15.0) (4.13.2)\n",
      "Requirement already satisfied: mdurl~=0.1 in /home/joaquin/miniconda3/envs/skforecast_16_py12/lib/python3.12/site-packages (from markdown-it-py>=2.2.0->rich>=13.9->skforecast==0.15.0) (0.1.2)\n",
      "Requirement already satisfied: six>=1.5 in /home/joaquin/miniconda3/envs/skforecast_16_py12/lib/python3.12/site-packages (from python-dateutil>=2.8.2->pandas>=1.5->skforecast==0.15.0) (1.17.0)\n",
      "Requirement already satisfied: greenlet>=1 in /home/joaquin/miniconda3/envs/skforecast_16_py12/lib/python3.12/site-packages (from sqlalchemy>=1.3.0->optuna>=2.10->skforecast==0.15.0) (3.2.0)\n",
      "Requirement already satisfied: MarkupSafe>=0.9.2 in /home/joaquin/miniconda3/envs/skforecast_16_py12/lib/python3.12/site-packages (from Mako->alembic>=1.5.0->optuna>=2.10->skforecast==0.15.0) (3.0.2)\n",
      "Using cached skforecast-0.15.0-py3-none-any.whl (818 kB)\n",
      "Installing collected packages: skforecast\n",
      "  Attempting uninstall: skforecast\n",
      "    Found existing installation: skforecast 0.14.0\n",
      "    Uninstalling skforecast-0.14.0:\n",
      "      Successfully uninstalled skforecast-0.14.0\n",
      "Successfully installed skforecast-0.15.0\n"
     ]
    }
   ],
   "source": [
    "#!pip install skforecast==0.15.0"
   ]
  },
  {
   "cell_type": "code",
   "execution_count": 1,
   "metadata": {},
   "outputs": [
    {
     "name": "stdout",
     "output_type": "stream",
     "text": [
      "Skforecast version:  0.15.0\n"
     ]
    }
   ],
   "source": [
    "# Libraries\n",
    "# ==============================================================================\n",
    "import timeit\n",
    "import platform\n",
    "import joblib\n",
    "import os\n",
    "import sys\n",
    "import warnings\n",
    "import hashlib\n",
    "import inspect\n",
    "import psutil\n",
    "import sklearn\n",
    "import numpy as np\n",
    "import pandas as pd\n",
    "import lightgbm\n",
    "import skforecast\n",
    "import plotly.express as px\n",
    "import plotly.graph_objects as go\n",
    "if skforecast.__version__ >= '0.14.0':\n",
    "    from skforecast.recursive import ForecasterRecursive, ForecasterRecursiveMultiSeries\n",
    "    from skforecast.direct import ForecasterDirect, ForecasterDirectMultiVariate\n",
    "else:\n",
    "    from skforecast.ForecasterAutoreg import ForecasterAutoreg\n",
    "    from skforecast.ForecasterAutoregMultiSeries import ForecasterAutoregMultiSeries\n",
    "    from skforecast.ForecasterAutoregDirect import ForecasterAutoregDirect\n",
    "    from skforecast.ForecasterAutoregMultiVariate import ForecasterAutoregMultiVariate\n",
    "from skforecast.utils import *\n",
    "from sklearn.preprocessing import StandardScaler\n",
    "from lightgbm import LGBMRegressor\n",
    "print('Skforecast version: ', skforecast.__version__)"
   ]
  },
  {
   "cell_type": "code",
   "execution_count": 2,
   "metadata": {},
   "outputs": [],
   "source": [
    "# Becnchmarking functions\n",
    "# ==============================================================================\n",
    "class BenchmarkRunner:\n",
    "    def __init__(self, output_dir=\"benchmarks\", repeat=10):\n",
    "        self.output_dir = output_dir\n",
    "        self.repeat = repeat\n",
    "        os.makedirs(self.output_dir, exist_ok=True)\n",
    "\n",
    "    def get_system_info(self):\n",
    "        return {\n",
    "            'datetime': pd.Timestamp.now(),\n",
    "            'python_version': platform.python_version(),\n",
    "            'skforecast_version': skforecast.__version__,\n",
    "            'numpy_version': np.__version__,\n",
    "            'pandas_version': pd.__version__,\n",
    "            'sklearn_version': sklearn.__version__,\n",
    "            'lightgbm_version': lightgbm.__version__,\n",
    "            'platform': platform.platform(),\n",
    "            'processor': platform.processor(),\n",
    "            'cpu_count': psutil.cpu_count(logical=True),\n",
    "            'memory_gb': round(psutil.virtual_memory().total / 1e9, 2),\n",
    "        }\n",
    "\n",
    "    def hash_function_code(self, func):\n",
    "        src = inspect.getsource(func)\n",
    "        return hashlib.md5(src.encode()).hexdigest()\n",
    "\n",
    "    def time_function(self, func, *args, **kwargs):\n",
    "        try:\n",
    "            times = timeit.repeat(\n",
    "                stmt=lambda: func(*args, **kwargs),\n",
    "                repeat=self.repeat,\n",
    "                number=1\n",
    "            )\n",
    "            return {\n",
    "                'avg_time': np.mean(times),\n",
    "                'std_dev': np.std(times)\n",
    "            }\n",
    "        except Exception as e:\n",
    "            warnings.warn(f\"The function {func.__name__} raised an exception: {e}\")\n",
    "            return {\n",
    "                'avg_time': float('nan'),\n",
    "                'std_dev': float('nan')\n",
    "            }\n",
    "\n",
    "    def benchmark(self, func, forecaster=None, *args, **kwargs):\n",
    "        forecaster_name = type(forecaster).__name__ if forecaster else np.nan\n",
    "        func_name = func.__name__\n",
    "        print(f\"Benchmarking function: {func_name}\")\n",
    "        hash_code = self.hash_function_code(func)\n",
    "        result_file = os.path.join(self.output_dir, f\"{func_name}_benchmark.joblib\")\n",
    "\n",
    "        system_info = self.get_system_info()\n",
    "        timing = self.time_function(func, *args, **kwargs)\n",
    "\n",
    "        entry = {\n",
    "            'forecaster_name': forecaster_name,\n",
    "            'function_name': func_name,\n",
    "            'function_hash': hash_code,\n",
    "            'run_time_avg': timing['avg_time'],\n",
    "            'run_time_std_dev': timing['std_dev'],\n",
    "            **system_info\n",
    "        }\n",
    "\n",
    "        df_new = pd.DataFrame([entry])\n",
    "\n",
    "        if os.path.exists(result_file):\n",
    "            df_existing = joblib.load(result_file)\n",
    "\n",
    "            cols_to_ignore = ['run_time_avg', 'run_time_std_dev', 'datetime']\n",
    "            mask = (\n",
    "                df_existing.drop(columns = cols_to_ignore)\n",
    "                .eq(df_new.drop(columns = cols_to_ignore).loc[0, :])\n",
    "                .all(axis=1)\n",
    "            )\n",
    "\n",
    "            if mask.any():\n",
    "                warnings.warn(\"This benchmark already exists with the same hash and system info. Skipping save.\")\n",
    "                return df_existing\n",
    "\n",
    "            df_combined = pd.concat([df_existing, df_new], ignore_index=True)\n",
    "            joblib.dump(df_combined, result_file)\n",
    "            return df_combined\n",
    "        else:\n",
    "            joblib.dump(df_new, result_file)\n",
    "            return df_new\n",
    "        \n",
    "\n",
    "def plot_benchmark_results(df, function_name):\n",
    "    \"\"\"\n",
    "    Plot benchmark results for a given function.\n",
    "    \"\"\"\n",
    "    sorted_versions = sorted(df['skforecast_version'].unique(), key=lambda x: list(map(int, x.split('.'))))\n",
    "    df['skforecast_version'] = pd.Categorical(df['skforecast_version'], categories=sorted_versions, ordered=True)\n",
    "    df = df.sort_values(\"skforecast_version\")\n",
    "    medians = df.groupby('skforecast_version', observed=True)['run_time_avg'].median().reset_index()\n",
    "\n",
    "    fig = px.strip(\n",
    "        df,\n",
    "        x=\"skforecast_version\",\n",
    "        y=\"run_time_avg\",\n",
    "        color=\"skforecast_version\",\n",
    "        hover_data=df.columns,\n",
    "        stripmode='overlay',\n",
    "    )\n",
    "    fig.update_traces(jitter=True, marker=dict(size=10, opacity=0.7))\n",
    "\n",
    "    fig.add_trace(\n",
    "        go.Scatter(\n",
    "            x=medians['skforecast_version'],\n",
    "            y=medians['run_time_avg'],\n",
    "            mode='lines+markers',\n",
    "            line=dict(color='black', width=2),\n",
    "            marker=dict(size=8),\n",
    "            name='Median',\n",
    "            showlegend=True\n",
    "        )\n",
    "    )\n",
    "\n",
    "    fig.update_layout(\n",
    "        title=f\"Execution time of {function_name}\",\n",
    "        xaxis_title=\"skforecast version\",\n",
    "        yaxis_title=\"Execution time (seconds)\",\n",
    "        showlegend=True\n",
    "    )\n",
    "    fig.show()\n"
   ]
  },
  {
   "cell_type": "code",
   "execution_count": 3,
   "metadata": {},
   "outputs": [
    {
     "name": "stdout",
     "output_type": "stream",
     "text": [
      "Python version: 3.12.9\n",
      "scikit-learn version: 1.4.2\n",
      "skforecast version: 0.15.0\n",
      "pandas version: 2.2.3\n",
      "numpy version: 1.26.4\n",
      "psutil version: 5.9.0\n",
      "\n",
      "Computer network name: joaquin-HP-ProBook-440-G6\n",
      "Machine type: x86_64\n",
      "Processor type: x86_64\n",
      "Platform type: Linux-6.11.0-21-generic-x86_64-with-glibc2.39\n",
      "Operating system: Linux\n",
      "Operating system release: 6.11.0-21-generic\n",
      "Operating system version: #21~24.04.1-Ubuntu SMP PREEMPT_DYNAMIC Mon Feb 24 16:52:15 UTC 2\n",
      "Number of physical cores: 4\n",
      "Number of logical cores: 8\n"
     ]
    }
   ],
   "source": [
    "print(f\"Python version: {platform.python_version()}\")\n",
    "print(f\"scikit-learn version: {sklearn.__version__}\")\n",
    "print(f\"skforecast version: {skforecast.__version__}\")\n",
    "print(f\"pandas version: {pd.__version__}\")\n",
    "print(f\"numpy version: {np.__version__}\")\n",
    "print(f\"psutil version: {psutil.__version__}\")\n",
    "print(\"\")\n",
    "\n",
    "# Computer information\n",
    "# ==============================================================================\n",
    "print(f\"Computer network name: {platform.node()}\")\n",
    "print(f\"Machine type: {platform.machine()}\")\n",
    "print(f\"Processor type: {platform.processor()}\")\n",
    "print(f\"Platform type: {platform.platform()}\")\n",
    "print(f\"Operating system: {platform.system()}\")\n",
    "print(f\"Operating system release: {platform.release()}\")\n",
    "print(f\"Operating system version: {platform.version()}\")\n",
    "print(f\"Number of physical cores: {psutil.cpu_count(logical=False)}\")\n",
    "print(f\"Number of logical cores: {psutil.cpu_count(logical=True)}\")"
   ]
  },
  {
   "cell_type": "code",
   "execution_count": 4,
   "metadata": {},
   "outputs": [
    {
     "name": "stdout",
     "output_type": "stream",
     "text": [
      "Range of dates: 2010-01-01 00:00:00 - 2010-03-25 07:00:00\n",
      "Range of dates for prediction: 2010-03-25 08:00:00 - 2010-03-29 11:00:00\n"
     ]
    }
   ],
   "source": [
    "# Mock data for benchmarking\n",
    "# ==========================================================\n",
    "n_series = 600\n",
    "len_series = 2000\n",
    "series_dict = {}\n",
    "rng = np.random.default_rng(321)\n",
    "for i in range(n_series):\n",
    "    series_dict[f'series_{i}'] = pd.Series(\n",
    "        data = rng.normal(loc=20, scale=5, size=len_series),\n",
    "        index=pd.date_range(\n",
    "            start='2010-01-01',\n",
    "            periods=len_series,\n",
    "            freq='h'\n",
    "        ),\n",
    "        name=f'series_{i}'\n",
    "    )\n",
    "\n",
    "exog_dict = {}\n",
    "rng = np.random.default_rng(321)\n",
    "for k in series_dict.keys():\n",
    "    exog = pd.DataFrame(\n",
    "            index=series_dict[k].index\n",
    "            )\n",
    "    exog['day_of_week'] = exog.index.dayofweek\n",
    "    exog['week_of_year'] = exog.index.isocalendar().week.astype(int)\n",
    "    exog['month'] = exog.index.month\n",
    "    exog_dict[k] = exog\n",
    "\n",
    "\n",
    "exog_dict_prediction = {}\n",
    "for k in series_dict.keys():\n",
    "    exog = pd.DataFrame(\n",
    "            index=pd.date_range(\n",
    "                start=series_dict[k].index.max() + pd.Timedelta(hours=1),\n",
    "                periods=100,\n",
    "                freq='h'\n",
    "            )\n",
    "            )\n",
    "    exog['day_of_week'] = exog.index.dayofweek\n",
    "    exog['week_of_year'] = exog.index.isocalendar().week.astype(int)\n",
    "    exog['month'] = exog.index.month\n",
    "    exog_dict_prediction[k] = exog   \n",
    "\n",
    "\n",
    "print(f\"Range of dates: \"\n",
    "    f\"{np.min([series_dict[k].index.min() for k in series_dict.keys()])} - \"\n",
    "    f\"{np.max([series_dict[k].index.max() for k in series_dict.keys()])}\"\n",
    ")\n",
    "\n",
    "print(f\"Range of dates for prediction: \"\n",
    "      f\"{np.min([exog_dict_prediction[k].index.min() for k in exog_dict_prediction.keys()])} - \"\n",
    "    f\"{np.max([exog_dict_prediction[k].index.max() for k in exog_dict_prediction.keys()])}\"\n",
    ")"
   ]
  },
  {
   "cell_type": "code",
   "execution_count": 5,
   "metadata": {},
   "outputs": [],
   "source": [
    "# Benchmarking speed ForecasterRecursiveMultiSeries methods\n",
    "# ==============================================================================\n",
    "if skforecast.__version__ >= '0.14.0':\n",
    "    forecaster = ForecasterRecursiveMultiSeries(\n",
    "        regressor=LGBMRegressor(random_state=8520, verbose=-1),\n",
    "        lags=50,\n",
    "        transformer_series=StandardScaler(),\n",
    "        transformer_exog=StandardScaler(),\n",
    "        encoding=\"ordinal\"\n",
    "    )\n",
    "else:\n",
    "     forecaster = ForecasterAutoregMultiSeries(\n",
    "        regressor=LGBMRegressor(random_state=8520, verbose=-1),\n",
    "        lags=50,\n",
    "        transformer_series=StandardScaler(),\n",
    "        transformer_exog=StandardScaler(),\n",
    "        encoding=\"ordinal\"\n",
    "    )\n",
    "\n",
    "def ForecasterRecursiveMultiSeries_fit():\n",
    "    forecaster.fit(series=series_dict, exog=exog_dict)\n",
    "\n",
    "def ForecasterRecursiveMultiSeries__create_train_X_y():\n",
    "    forecaster._create_train_X_y(series=series_dict, exog=exog_dict)\n",
    "\n",
    "def ForecasterRecursiveMultiSeries__create_train_X_y_single_series():\n",
    "    _ = forecaster._create_train_X_y_single_series(\n",
    "            y = series_dict['series_0'],\n",
    "            exog = exog_dict['series_0'],\n",
    "            ignore_exog = False,\n",
    "        )\n",
    "\n",
    "def ForecasterRecursiveMultiSeries_predict():\n",
    "    forecaster.predict(steps=100, exog=exog_dict_prediction, suppress_warnings=True)\n",
    "\n",
    "def ForecasterRecursiveMultiSeries__create_predict_inputs():\n",
    "    _ = forecaster._create_predict_inputs(\n",
    "            steps         = 100,\n",
    "            exog         = exog_dict_prediction,\n",
    "            check_inputs = True\n",
    "        )\n",
    "\n",
    "def ForecasterRecursiveMultiSeries__check_predict_inputs():\n",
    "    check_predict_input(\n",
    "        forecaster_name  = type(forecaster).__name__,\n",
    "        steps            = 100,\n",
    "        is_fitted        = forecaster.is_fitted,\n",
    "        exog_in_         = forecaster.exog_in_,\n",
    "        index_type_      = forecaster.index_type_,\n",
    "        index_freq_      = forecaster.index_freq_,\n",
    "        window_size      = forecaster.window_size,\n",
    "        last_window      = pd.DataFrame(forecaster.last_window_),\n",
    "        exog             = exog_dict_prediction,\n",
    "        exog_type_in_    = forecaster.exog_type_in_,\n",
    "        exog_names_in_   = forecaster.exog_names_in_,\n",
    "        interval         = None,\n",
    "        levels           = forecaster.series_names_in_,\n",
    "        series_names_in_ = forecaster.series_names_in_,\n",
    "        encoding         = forecaster.encoding\n",
    "    )"
   ]
  },
  {
   "cell_type": "code",
   "execution_count": 6,
   "metadata": {},
   "outputs": [
    {
     "name": "stdout",
     "output_type": "stream",
     "text": [
      "Benchmarking function: ForecasterRecursiveMultiSeries_fit\n",
      "Benchmarking function: ForecasterRecursiveMultiSeries__create_train_X_y\n",
      "Benchmarking function: ForecasterRecursiveMultiSeries__create_train_X_y_single_series\n",
      "Benchmarking function: ForecasterRecursiveMultiSeries_predict\n",
      "Benchmarking function: ForecasterRecursiveMultiSeries__create_predict_inputs\n",
      "Benchmarking function: ForecasterRecursiveMultiSeries__check_predict_inputs\n"
     ]
    }
   ],
   "source": [
    "runner = BenchmarkRunner(repeat=5, output_dir=\"benchmarks\")\n",
    "_ = runner.benchmark(ForecasterRecursiveMultiSeries_fit, forecaster= forecaster)\n",
    "_ = runner.benchmark(ForecasterRecursiveMultiSeries__create_train_X_y, forecaster= forecaster)\n",
    "forecaster.fit(series=series_dict, exog=exog_dict)\n",
    "_ = runner.benchmark(ForecasterRecursiveMultiSeries__create_train_X_y_single_series, forecaster= forecaster)\n",
    "_ = runner.benchmark(ForecasterRecursiveMultiSeries_predict, forecaster= forecaster)\n",
    "_ = runner.benchmark(ForecasterRecursiveMultiSeries__create_predict_inputs, forecaster= forecaster)\n",
    "_ = runner.benchmark(ForecasterRecursiveMultiSeries__check_predict_inputs, forecaster= forecaster)"
   ]
  },
  {
   "cell_type": "code",
   "execution_count": 7,
   "metadata": {},
   "outputs": [],
   "source": [
    "results_fit = joblib.load(\"benchmarks/ForecasterRecursiveMultiSeries_fit_benchmark.joblib\")\n",
    "results_create_train_X_y = joblib.load(\"benchmarks/ForecasterRecursiveMultiSeries__create_train_X_y_benchmark.joblib\")\n",
    "results_create_train_X_y_single_series = joblib.load(\"benchmarks/ForecasterRecursiveMultiSeries__create_train_X_y_single_series_benchmark.joblib\")\n",
    "results_predict = joblib.load(\"benchmarks/ForecasterRecursiveMultiSeries_predict_benchmark.joblib\")"
   ]
  },
  {
   "cell_type": "code",
   "execution_count": 8,
   "metadata": {},
   "outputs": [
    {
     "data": {
      "application/vnd.plotly.v1+json": {
       "config": {
        "plotlyServerURL": "https://plot.ly"
       },
       "data": [
        {
         "alignmentgroup": "True",
         "boxpoints": "all",
         "customdata": [
          [
           "ForecasterAutoregMultiSeries",
           "ForecasterRecursiveMultiSeries_fit",
           "9116025f6245102cf34def186c7b92d4",
           2.865486888637077,
           "2025-04-22T10:26:44.758159",
           "3.12.9",
           "1.26.4",
           "2.2.3",
           "1.4.2",
           "4.6.0",
           "Linux-6.11.0-21-generic-x86_64-with-glibc2.39",
           "x86_64",
           8,
           8.2
          ]
         ],
         "fillcolor": "rgba(255,255,255,0)",
         "hoveron": "points",
         "hovertemplate": "skforecast_version=%{x}<br>run_time_avg=%{y}<br>forecaster_name=%{customdata[0]}<br>function_name=%{customdata[1]}<br>function_hash=%{customdata[2]}<br>run_time_std_dev=%{customdata[3]}<br>datetime=%{customdata[4]}<br>python_version=%{customdata[5]}<br>numpy_version=%{customdata[6]}<br>pandas_version=%{customdata[7]}<br>sklearn_version=%{customdata[8]}<br>lightgbm_version=%{customdata[9]}<br>platform=%{customdata[10]}<br>processor=%{customdata[11]}<br>cpu_count=%{customdata[12]}<br>memory_gb=%{customdata[13]}<extra></extra>",
         "jitter": true,
         "legendgroup": "0.12.0",
         "line": {
          "color": "rgba(255,255,255,0)"
         },
         "marker": {
          "color": "#636efa",
          "opacity": 0.7,
          "size": 10
         },
         "name": "0.12.0",
         "offsetgroup": "0.12.0",
         "orientation": "v",
         "pointpos": 0,
         "showlegend": true,
         "type": "box",
         "x": [
          "0.12.0"
         ],
         "x0": " ",
         "xaxis": "x",
         "y": {
          "bdata": "za6GMZHeOUA=",
          "dtype": "f8"
         },
         "y0": " ",
         "yaxis": "y"
        },
        {
         "alignmentgroup": "True",
         "boxpoints": "all",
         "customdata": [
          [
           "ForecasterAutoregMultiSeries",
           "ForecasterRecursiveMultiSeries_fit",
           "9116025f6245102cf34def186c7b92d4",
           1.3226428189697765,
           "2025-04-22T10:35:07.479424",
           "3.12.9",
           "1.26.4",
           "2.2.3",
           "1.4.2",
           "4.6.0",
           "Linux-6.11.0-21-generic-x86_64-with-glibc2.39",
           "x86_64",
           8,
           8.2
          ]
         ],
         "fillcolor": "rgba(255,255,255,0)",
         "hoveron": "points",
         "hovertemplate": "skforecast_version=%{x}<br>run_time_avg=%{y}<br>forecaster_name=%{customdata[0]}<br>function_name=%{customdata[1]}<br>function_hash=%{customdata[2]}<br>run_time_std_dev=%{customdata[3]}<br>datetime=%{customdata[4]}<br>python_version=%{customdata[5]}<br>numpy_version=%{customdata[6]}<br>pandas_version=%{customdata[7]}<br>sklearn_version=%{customdata[8]}<br>lightgbm_version=%{customdata[9]}<br>platform=%{customdata[10]}<br>processor=%{customdata[11]}<br>cpu_count=%{customdata[12]}<br>memory_gb=%{customdata[13]}<extra></extra>",
         "jitter": true,
         "legendgroup": "0.13.0",
         "line": {
          "color": "rgba(255,255,255,0)"
         },
         "marker": {
          "color": "#EF553B",
          "opacity": 0.7,
          "size": 10
         },
         "name": "0.13.0",
         "offsetgroup": "0.13.0",
         "orientation": "v",
         "pointpos": 0,
         "showlegend": true,
         "type": "box",
         "x": [
          "0.13.0"
         ],
         "x0": " ",
         "xaxis": "x",
         "y": {
          "bdata": "M4DCkg83M0A=",
          "dtype": "f8"
         },
         "y0": " ",
         "yaxis": "y"
        },
        {
         "alignmentgroup": "True",
         "boxpoints": "all",
         "customdata": [
          [
           "ForecasterRecursiveMultiSeries",
           "ForecasterRecursiveMultiSeries_fit",
           "9116025f6245102cf34def186c7b92d4",
           0.3530786473898901,
           "2025-04-22T10:47:27.132210",
           "3.12.9",
           "1.26.4",
           "2.2.3",
           "1.4.2",
           "4.6.0",
           "Linux-6.11.0-21-generic-x86_64-with-glibc2.39",
           "x86_64",
           8,
           8.2
          ]
         ],
         "fillcolor": "rgba(255,255,255,0)",
         "hoveron": "points",
         "hovertemplate": "skforecast_version=%{x}<br>run_time_avg=%{y}<br>forecaster_name=%{customdata[0]}<br>function_name=%{customdata[1]}<br>function_hash=%{customdata[2]}<br>run_time_std_dev=%{customdata[3]}<br>datetime=%{customdata[4]}<br>python_version=%{customdata[5]}<br>numpy_version=%{customdata[6]}<br>pandas_version=%{customdata[7]}<br>sklearn_version=%{customdata[8]}<br>lightgbm_version=%{customdata[9]}<br>platform=%{customdata[10]}<br>processor=%{customdata[11]}<br>cpu_count=%{customdata[12]}<br>memory_gb=%{customdata[13]}<extra></extra>",
         "jitter": true,
         "legendgroup": "0.14.0",
         "line": {
          "color": "rgba(255,255,255,0)"
         },
         "marker": {
          "color": "#00cc96",
          "opacity": 0.7,
          "size": 10
         },
         "name": "0.14.0",
         "offsetgroup": "0.14.0",
         "orientation": "v",
         "pointpos": 0,
         "showlegend": true,
         "type": "box",
         "x": [
          "0.14.0"
         ],
         "x0": " ",
         "xaxis": "x",
         "y": {
          "bdata": "AMw9NNWqQEA=",
          "dtype": "f8"
         },
         "y0": " ",
         "yaxis": "y"
        },
        {
         "alignmentgroup": "True",
         "boxpoints": "all",
         "customdata": [
          [
           "ForecasterRecursiveMultiSeries",
           "ForecasterRecursiveMultiSeries_fit",
           "9116025f6245102cf34def186c7b92d4",
           2.3754239869328564,
           "2025-04-22T11:02:21.542317",
           "3.12.9",
           "1.26.4",
           "2.2.3",
           "1.4.2",
           "4.6.0",
           "Linux-6.11.0-21-generic-x86_64-with-glibc2.39",
           "x86_64",
           8,
           8.2
          ]
         ],
         "fillcolor": "rgba(255,255,255,0)",
         "hoveron": "points",
         "hovertemplate": "skforecast_version=%{x}<br>run_time_avg=%{y}<br>forecaster_name=%{customdata[0]}<br>function_name=%{customdata[1]}<br>function_hash=%{customdata[2]}<br>run_time_std_dev=%{customdata[3]}<br>datetime=%{customdata[4]}<br>python_version=%{customdata[5]}<br>numpy_version=%{customdata[6]}<br>pandas_version=%{customdata[7]}<br>sklearn_version=%{customdata[8]}<br>lightgbm_version=%{customdata[9]}<br>platform=%{customdata[10]}<br>processor=%{customdata[11]}<br>cpu_count=%{customdata[12]}<br>memory_gb=%{customdata[13]}<extra></extra>",
         "jitter": true,
         "legendgroup": "0.15.0",
         "line": {
          "color": "rgba(255,255,255,0)"
         },
         "marker": {
          "color": "#ab63fa",
          "opacity": 0.7,
          "size": 10
         },
         "name": "0.15.0",
         "offsetgroup": "0.15.0",
         "orientation": "v",
         "pointpos": 0,
         "showlegend": true,
         "type": "box",
         "x": [
          "0.15.0"
         ],
         "x0": " ",
         "xaxis": "x",
         "y": {
          "bdata": "Zu1yyMiXQUA=",
          "dtype": "f8"
         },
         "y0": " ",
         "yaxis": "y"
        },
        {
         "line": {
          "color": "black",
          "width": 2
         },
         "marker": {
          "size": 8
         },
         "mode": "lines+markers",
         "name": "Median",
         "showlegend": true,
         "type": "scatter",
         "x": [
          "0.12.0",
          "0.13.0",
          "0.14.0",
          "0.15.0"
         ],
         "y": {
          "bdata": "za6GMZHeOUAzgMKSDzczQADMPTTVqkBAZu1yyMiXQUA=",
          "dtype": "f8"
         }
        }
       ],
       "layout": {
        "boxmode": "overlay",
        "legend": {
         "title": {
          "text": "skforecast_version"
         },
         "tracegroupgap": 0
        },
        "margin": {
         "t": 60
        },
        "showlegend": true,
        "template": {
         "data": {
          "bar": [
           {
            "error_x": {
             "color": "#2a3f5f"
            },
            "error_y": {
             "color": "#2a3f5f"
            },
            "marker": {
             "line": {
              "color": "#E5ECF6",
              "width": 0.5
             },
             "pattern": {
              "fillmode": "overlay",
              "size": 10,
              "solidity": 0.2
             }
            },
            "type": "bar"
           }
          ],
          "barpolar": [
           {
            "marker": {
             "line": {
              "color": "#E5ECF6",
              "width": 0.5
             },
             "pattern": {
              "fillmode": "overlay",
              "size": 10,
              "solidity": 0.2
             }
            },
            "type": "barpolar"
           }
          ],
          "carpet": [
           {
            "aaxis": {
             "endlinecolor": "#2a3f5f",
             "gridcolor": "white",
             "linecolor": "white",
             "minorgridcolor": "white",
             "startlinecolor": "#2a3f5f"
            },
            "baxis": {
             "endlinecolor": "#2a3f5f",
             "gridcolor": "white",
             "linecolor": "white",
             "minorgridcolor": "white",
             "startlinecolor": "#2a3f5f"
            },
            "type": "carpet"
           }
          ],
          "choropleth": [
           {
            "colorbar": {
             "outlinewidth": 0,
             "ticks": ""
            },
            "type": "choropleth"
           }
          ],
          "contour": [
           {
            "colorbar": {
             "outlinewidth": 0,
             "ticks": ""
            },
            "colorscale": [
             [
              0,
              "#0d0887"
             ],
             [
              0.1111111111111111,
              "#46039f"
             ],
             [
              0.2222222222222222,
              "#7201a8"
             ],
             [
              0.3333333333333333,
              "#9c179e"
             ],
             [
              0.4444444444444444,
              "#bd3786"
             ],
             [
              0.5555555555555556,
              "#d8576b"
             ],
             [
              0.6666666666666666,
              "#ed7953"
             ],
             [
              0.7777777777777778,
              "#fb9f3a"
             ],
             [
              0.8888888888888888,
              "#fdca26"
             ],
             [
              1,
              "#f0f921"
             ]
            ],
            "type": "contour"
           }
          ],
          "contourcarpet": [
           {
            "colorbar": {
             "outlinewidth": 0,
             "ticks": ""
            },
            "type": "contourcarpet"
           }
          ],
          "heatmap": [
           {
            "colorbar": {
             "outlinewidth": 0,
             "ticks": ""
            },
            "colorscale": [
             [
              0,
              "#0d0887"
             ],
             [
              0.1111111111111111,
              "#46039f"
             ],
             [
              0.2222222222222222,
              "#7201a8"
             ],
             [
              0.3333333333333333,
              "#9c179e"
             ],
             [
              0.4444444444444444,
              "#bd3786"
             ],
             [
              0.5555555555555556,
              "#d8576b"
             ],
             [
              0.6666666666666666,
              "#ed7953"
             ],
             [
              0.7777777777777778,
              "#fb9f3a"
             ],
             [
              0.8888888888888888,
              "#fdca26"
             ],
             [
              1,
              "#f0f921"
             ]
            ],
            "type": "heatmap"
           }
          ],
          "histogram": [
           {
            "marker": {
             "pattern": {
              "fillmode": "overlay",
              "size": 10,
              "solidity": 0.2
             }
            },
            "type": "histogram"
           }
          ],
          "histogram2d": [
           {
            "colorbar": {
             "outlinewidth": 0,
             "ticks": ""
            },
            "colorscale": [
             [
              0,
              "#0d0887"
             ],
             [
              0.1111111111111111,
              "#46039f"
             ],
             [
              0.2222222222222222,
              "#7201a8"
             ],
             [
              0.3333333333333333,
              "#9c179e"
             ],
             [
              0.4444444444444444,
              "#bd3786"
             ],
             [
              0.5555555555555556,
              "#d8576b"
             ],
             [
              0.6666666666666666,
              "#ed7953"
             ],
             [
              0.7777777777777778,
              "#fb9f3a"
             ],
             [
              0.8888888888888888,
              "#fdca26"
             ],
             [
              1,
              "#f0f921"
             ]
            ],
            "type": "histogram2d"
           }
          ],
          "histogram2dcontour": [
           {
            "colorbar": {
             "outlinewidth": 0,
             "ticks": ""
            },
            "colorscale": [
             [
              0,
              "#0d0887"
             ],
             [
              0.1111111111111111,
              "#46039f"
             ],
             [
              0.2222222222222222,
              "#7201a8"
             ],
             [
              0.3333333333333333,
              "#9c179e"
             ],
             [
              0.4444444444444444,
              "#bd3786"
             ],
             [
              0.5555555555555556,
              "#d8576b"
             ],
             [
              0.6666666666666666,
              "#ed7953"
             ],
             [
              0.7777777777777778,
              "#fb9f3a"
             ],
             [
              0.8888888888888888,
              "#fdca26"
             ],
             [
              1,
              "#f0f921"
             ]
            ],
            "type": "histogram2dcontour"
           }
          ],
          "mesh3d": [
           {
            "colorbar": {
             "outlinewidth": 0,
             "ticks": ""
            },
            "type": "mesh3d"
           }
          ],
          "parcoords": [
           {
            "line": {
             "colorbar": {
              "outlinewidth": 0,
              "ticks": ""
             }
            },
            "type": "parcoords"
           }
          ],
          "pie": [
           {
            "automargin": true,
            "type": "pie"
           }
          ],
          "scatter": [
           {
            "fillpattern": {
             "fillmode": "overlay",
             "size": 10,
             "solidity": 0.2
            },
            "type": "scatter"
           }
          ],
          "scatter3d": [
           {
            "line": {
             "colorbar": {
              "outlinewidth": 0,
              "ticks": ""
             }
            },
            "marker": {
             "colorbar": {
              "outlinewidth": 0,
              "ticks": ""
             }
            },
            "type": "scatter3d"
           }
          ],
          "scattercarpet": [
           {
            "marker": {
             "colorbar": {
              "outlinewidth": 0,
              "ticks": ""
             }
            },
            "type": "scattercarpet"
           }
          ],
          "scattergeo": [
           {
            "marker": {
             "colorbar": {
              "outlinewidth": 0,
              "ticks": ""
             }
            },
            "type": "scattergeo"
           }
          ],
          "scattergl": [
           {
            "marker": {
             "colorbar": {
              "outlinewidth": 0,
              "ticks": ""
             }
            },
            "type": "scattergl"
           }
          ],
          "scattermap": [
           {
            "marker": {
             "colorbar": {
              "outlinewidth": 0,
              "ticks": ""
             }
            },
            "type": "scattermap"
           }
          ],
          "scattermapbox": [
           {
            "marker": {
             "colorbar": {
              "outlinewidth": 0,
              "ticks": ""
             }
            },
            "type": "scattermapbox"
           }
          ],
          "scatterpolar": [
           {
            "marker": {
             "colorbar": {
              "outlinewidth": 0,
              "ticks": ""
             }
            },
            "type": "scatterpolar"
           }
          ],
          "scatterpolargl": [
           {
            "marker": {
             "colorbar": {
              "outlinewidth": 0,
              "ticks": ""
             }
            },
            "type": "scatterpolargl"
           }
          ],
          "scatterternary": [
           {
            "marker": {
             "colorbar": {
              "outlinewidth": 0,
              "ticks": ""
             }
            },
            "type": "scatterternary"
           }
          ],
          "surface": [
           {
            "colorbar": {
             "outlinewidth": 0,
             "ticks": ""
            },
            "colorscale": [
             [
              0,
              "#0d0887"
             ],
             [
              0.1111111111111111,
              "#46039f"
             ],
             [
              0.2222222222222222,
              "#7201a8"
             ],
             [
              0.3333333333333333,
              "#9c179e"
             ],
             [
              0.4444444444444444,
              "#bd3786"
             ],
             [
              0.5555555555555556,
              "#d8576b"
             ],
             [
              0.6666666666666666,
              "#ed7953"
             ],
             [
              0.7777777777777778,
              "#fb9f3a"
             ],
             [
              0.8888888888888888,
              "#fdca26"
             ],
             [
              1,
              "#f0f921"
             ]
            ],
            "type": "surface"
           }
          ],
          "table": [
           {
            "cells": {
             "fill": {
              "color": "#EBF0F8"
             },
             "line": {
              "color": "white"
             }
            },
            "header": {
             "fill": {
              "color": "#C8D4E3"
             },
             "line": {
              "color": "white"
             }
            },
            "type": "table"
           }
          ]
         },
         "layout": {
          "annotationdefaults": {
           "arrowcolor": "#2a3f5f",
           "arrowhead": 0,
           "arrowwidth": 1
          },
          "autotypenumbers": "strict",
          "coloraxis": {
           "colorbar": {
            "outlinewidth": 0,
            "ticks": ""
           }
          },
          "colorscale": {
           "diverging": [
            [
             0,
             "#8e0152"
            ],
            [
             0.1,
             "#c51b7d"
            ],
            [
             0.2,
             "#de77ae"
            ],
            [
             0.3,
             "#f1b6da"
            ],
            [
             0.4,
             "#fde0ef"
            ],
            [
             0.5,
             "#f7f7f7"
            ],
            [
             0.6,
             "#e6f5d0"
            ],
            [
             0.7,
             "#b8e186"
            ],
            [
             0.8,
             "#7fbc41"
            ],
            [
             0.9,
             "#4d9221"
            ],
            [
             1,
             "#276419"
            ]
           ],
           "sequential": [
            [
             0,
             "#0d0887"
            ],
            [
             0.1111111111111111,
             "#46039f"
            ],
            [
             0.2222222222222222,
             "#7201a8"
            ],
            [
             0.3333333333333333,
             "#9c179e"
            ],
            [
             0.4444444444444444,
             "#bd3786"
            ],
            [
             0.5555555555555556,
             "#d8576b"
            ],
            [
             0.6666666666666666,
             "#ed7953"
            ],
            [
             0.7777777777777778,
             "#fb9f3a"
            ],
            [
             0.8888888888888888,
             "#fdca26"
            ],
            [
             1,
             "#f0f921"
            ]
           ],
           "sequentialminus": [
            [
             0,
             "#0d0887"
            ],
            [
             0.1111111111111111,
             "#46039f"
            ],
            [
             0.2222222222222222,
             "#7201a8"
            ],
            [
             0.3333333333333333,
             "#9c179e"
            ],
            [
             0.4444444444444444,
             "#bd3786"
            ],
            [
             0.5555555555555556,
             "#d8576b"
            ],
            [
             0.6666666666666666,
             "#ed7953"
            ],
            [
             0.7777777777777778,
             "#fb9f3a"
            ],
            [
             0.8888888888888888,
             "#fdca26"
            ],
            [
             1,
             "#f0f921"
            ]
           ]
          },
          "colorway": [
           "#636efa",
           "#EF553B",
           "#00cc96",
           "#ab63fa",
           "#FFA15A",
           "#19d3f3",
           "#FF6692",
           "#B6E880",
           "#FF97FF",
           "#FECB52"
          ],
          "font": {
           "color": "#2a3f5f"
          },
          "geo": {
           "bgcolor": "white",
           "lakecolor": "white",
           "landcolor": "#E5ECF6",
           "showlakes": true,
           "showland": true,
           "subunitcolor": "white"
          },
          "hoverlabel": {
           "align": "left"
          },
          "hovermode": "closest",
          "mapbox": {
           "style": "light"
          },
          "paper_bgcolor": "white",
          "plot_bgcolor": "#E5ECF6",
          "polar": {
           "angularaxis": {
            "gridcolor": "white",
            "linecolor": "white",
            "ticks": ""
           },
           "bgcolor": "#E5ECF6",
           "radialaxis": {
            "gridcolor": "white",
            "linecolor": "white",
            "ticks": ""
           }
          },
          "scene": {
           "xaxis": {
            "backgroundcolor": "#E5ECF6",
            "gridcolor": "white",
            "gridwidth": 2,
            "linecolor": "white",
            "showbackground": true,
            "ticks": "",
            "zerolinecolor": "white"
           },
           "yaxis": {
            "backgroundcolor": "#E5ECF6",
            "gridcolor": "white",
            "gridwidth": 2,
            "linecolor": "white",
            "showbackground": true,
            "ticks": "",
            "zerolinecolor": "white"
           },
           "zaxis": {
            "backgroundcolor": "#E5ECF6",
            "gridcolor": "white",
            "gridwidth": 2,
            "linecolor": "white",
            "showbackground": true,
            "ticks": "",
            "zerolinecolor": "white"
           }
          },
          "shapedefaults": {
           "line": {
            "color": "#2a3f5f"
           }
          },
          "ternary": {
           "aaxis": {
            "gridcolor": "white",
            "linecolor": "white",
            "ticks": ""
           },
           "baxis": {
            "gridcolor": "white",
            "linecolor": "white",
            "ticks": ""
           },
           "bgcolor": "#E5ECF6",
           "caxis": {
            "gridcolor": "white",
            "linecolor": "white",
            "ticks": ""
           }
          },
          "title": {
           "x": 0.05
          },
          "xaxis": {
           "automargin": true,
           "gridcolor": "white",
           "linecolor": "white",
           "ticks": "",
           "title": {
            "standoff": 15
           },
           "zerolinecolor": "white",
           "zerolinewidth": 2
          },
          "yaxis": {
           "automargin": true,
           "gridcolor": "white",
           "linecolor": "white",
           "ticks": "",
           "title": {
            "standoff": 15
           },
           "zerolinecolor": "white",
           "zerolinewidth": 2
          }
         }
        },
        "title": {
         "text": "Execution time of ForecasterRecursiveMultiSeries_fit"
        },
        "xaxis": {
         "anchor": "y",
         "categoryarray": [
          "0.12.0",
          "0.13.0",
          "0.14.0",
          "0.15.0"
         ],
         "categoryorder": "array",
         "domain": [
          0,
          1
         ],
         "title": {
          "text": "skforecast version"
         }
        },
        "yaxis": {
         "anchor": "x",
         "domain": [
          0,
          1
         ],
         "title": {
          "text": "Execution time (seconds)"
         }
        }
       }
      }
     },
     "metadata": {},
     "output_type": "display_data"
    },
    {
     "data": {
      "application/vnd.plotly.v1+json": {
       "config": {
        "plotlyServerURL": "https://plot.ly"
       },
       "data": [
        {
         "alignmentgroup": "True",
         "boxpoints": "all",
         "customdata": [
          [
           "ForecasterAutoregMultiSeries",
           "ForecasterRecursiveMultiSeries__create_train_X_y",
           "4a8c36acbc091440dc5b56ca74b607b2",
           0.5601369752483675,
           "2025-04-22T10:28:54.121233",
           "3.12.9",
           "1.26.4",
           "2.2.3",
           "1.4.2",
           "4.6.0",
           "Linux-6.11.0-21-generic-x86_64-with-glibc2.39",
           "x86_64",
           8,
           8.2
          ]
         ],
         "fillcolor": "rgba(255,255,255,0)",
         "hoveron": "points",
         "hovertemplate": "skforecast_version=%{x}<br>run_time_avg=%{y}<br>forecaster_name=%{customdata[0]}<br>function_name=%{customdata[1]}<br>function_hash=%{customdata[2]}<br>run_time_std_dev=%{customdata[3]}<br>datetime=%{customdata[4]}<br>python_version=%{customdata[5]}<br>numpy_version=%{customdata[6]}<br>pandas_version=%{customdata[7]}<br>sklearn_version=%{customdata[8]}<br>lightgbm_version=%{customdata[9]}<br>platform=%{customdata[10]}<br>processor=%{customdata[11]}<br>cpu_count=%{customdata[12]}<br>memory_gb=%{customdata[13]}<extra></extra>",
         "jitter": true,
         "legendgroup": "0.12.0",
         "line": {
          "color": "rgba(255,255,255,0)"
         },
         "marker": {
          "color": "#636efa",
          "opacity": 0.7,
          "size": 10
         },
         "name": "0.12.0",
         "offsetgroup": "0.12.0",
         "orientation": "v",
         "pointpos": 0,
         "showlegend": true,
         "type": "box",
         "x": [
          "0.12.0"
         ],
         "x0": " ",
         "xaxis": "x",
         "y": {
          "bdata": "AMSQvaOYH0A=",
          "dtype": "f8"
         },
         "y0": " ",
         "yaxis": "y"
        },
        {
         "alignmentgroup": "True",
         "boxpoints": "all",
         "customdata": [
          [
           "ForecasterAutoregMultiSeries",
           "ForecasterRecursiveMultiSeries__create_train_X_y",
           "4a8c36acbc091440dc5b56ca74b607b2",
           0.1971027476084037,
           "2025-04-22T10:36:43.582534",
           "3.12.9",
           "1.26.4",
           "2.2.3",
           "1.4.2",
           "4.6.0",
           "Linux-6.11.0-21-generic-x86_64-with-glibc2.39",
           "x86_64",
           8,
           8.2
          ]
         ],
         "fillcolor": "rgba(255,255,255,0)",
         "hoveron": "points",
         "hovertemplate": "skforecast_version=%{x}<br>run_time_avg=%{y}<br>forecaster_name=%{customdata[0]}<br>function_name=%{customdata[1]}<br>function_hash=%{customdata[2]}<br>run_time_std_dev=%{customdata[3]}<br>datetime=%{customdata[4]}<br>python_version=%{customdata[5]}<br>numpy_version=%{customdata[6]}<br>pandas_version=%{customdata[7]}<br>sklearn_version=%{customdata[8]}<br>lightgbm_version=%{customdata[9]}<br>platform=%{customdata[10]}<br>processor=%{customdata[11]}<br>cpu_count=%{customdata[12]}<br>memory_gb=%{customdata[13]}<extra></extra>",
         "jitter": true,
         "legendgroup": "0.13.0",
         "line": {
          "color": "rgba(255,255,255,0)"
         },
         "marker": {
          "color": "#EF553B",
          "opacity": 0.7,
          "size": 10
         },
         "name": "0.13.0",
         "offsetgroup": "0.13.0",
         "orientation": "v",
         "pointpos": 0,
         "showlegend": true,
         "type": "box",
         "x": [
          "0.13.0"
         ],
         "x0": " ",
         "xaxis": "x",
         "y": {
          "bdata": "muEyfZWpCUA=",
          "dtype": "f8"
         },
         "y0": " ",
         "yaxis": "y"
        },
        {
         "alignmentgroup": "True",
         "boxpoints": "all",
         "customdata": [
          [
           "ForecasterRecursiveMultiSeries",
           "ForecasterRecursiveMultiSeries__create_train_X_y",
           "4a8c36acbc091440dc5b56ca74b607b2",
           0.21704530823910645,
           "2025-04-22T10:50:13.865410",
           "3.12.9",
           "1.26.4",
           "2.2.3",
           "1.4.2",
           "4.6.0",
           "Linux-6.11.0-21-generic-x86_64-with-glibc2.39",
           "x86_64",
           8,
           8.2
          ]
         ],
         "fillcolor": "rgba(255,255,255,0)",
         "hoveron": "points",
         "hovertemplate": "skforecast_version=%{x}<br>run_time_avg=%{y}<br>forecaster_name=%{customdata[0]}<br>function_name=%{customdata[1]}<br>function_hash=%{customdata[2]}<br>run_time_std_dev=%{customdata[3]}<br>datetime=%{customdata[4]}<br>python_version=%{customdata[5]}<br>numpy_version=%{customdata[6]}<br>pandas_version=%{customdata[7]}<br>sklearn_version=%{customdata[8]}<br>lightgbm_version=%{customdata[9]}<br>platform=%{customdata[10]}<br>processor=%{customdata[11]}<br>cpu_count=%{customdata[12]}<br>memory_gb=%{customdata[13]}<extra></extra>",
         "jitter": true,
         "legendgroup": "0.14.0",
         "line": {
          "color": "rgba(255,255,255,0)"
         },
         "marker": {
          "color": "#00cc96",
          "opacity": 0.7,
          "size": 10
         },
         "name": "0.14.0",
         "offsetgroup": "0.14.0",
         "orientation": "v",
         "pointpos": 0,
         "showlegend": true,
         "type": "box",
         "x": [
          "0.14.0"
         ],
         "x0": " ",
         "xaxis": "x",
         "y": {
          "bdata": "ZobstBznGUA=",
          "dtype": "f8"
         },
         "y0": " ",
         "yaxis": "y"
        },
        {
         "alignmentgroup": "True",
         "boxpoints": "all",
         "customdata": [
          [
           "ForecasterRecursiveMultiSeries",
           "ForecasterRecursiveMultiSeries__create_train_X_y",
           "4a8c36acbc091440dc5b56ca74b607b2",
           0.1054407402927486,
           "2025-04-22T11:05:17.548659",
           "3.12.9",
           "1.26.4",
           "2.2.3",
           "1.4.2",
           "4.6.0",
           "Linux-6.11.0-21-generic-x86_64-with-glibc2.39",
           "x86_64",
           8,
           8.2
          ]
         ],
         "fillcolor": "rgba(255,255,255,0)",
         "hoveron": "points",
         "hovertemplate": "skforecast_version=%{x}<br>run_time_avg=%{y}<br>forecaster_name=%{customdata[0]}<br>function_name=%{customdata[1]}<br>function_hash=%{customdata[2]}<br>run_time_std_dev=%{customdata[3]}<br>datetime=%{customdata[4]}<br>python_version=%{customdata[5]}<br>numpy_version=%{customdata[6]}<br>pandas_version=%{customdata[7]}<br>sklearn_version=%{customdata[8]}<br>lightgbm_version=%{customdata[9]}<br>platform=%{customdata[10]}<br>processor=%{customdata[11]}<br>cpu_count=%{customdata[12]}<br>memory_gb=%{customdata[13]}<extra></extra>",
         "jitter": true,
         "legendgroup": "0.15.0",
         "line": {
          "color": "rgba(255,255,255,0)"
         },
         "marker": {
          "color": "#ab63fa",
          "opacity": 0.7,
          "size": 10
         },
         "name": "0.15.0",
         "offsetgroup": "0.15.0",
         "orientation": "v",
         "pointpos": 0,
         "showlegend": true,
         "type": "box",
         "x": [
          "0.15.0"
         ],
         "x0": " ",
         "xaxis": "x",
         "y": {
          "bdata": "mkFn/SZZGEA=",
          "dtype": "f8"
         },
         "y0": " ",
         "yaxis": "y"
        },
        {
         "line": {
          "color": "black",
          "width": 2
         },
         "marker": {
          "size": 8
         },
         "mode": "lines+markers",
         "name": "Median",
         "showlegend": true,
         "type": "scatter",
         "x": [
          "0.12.0",
          "0.13.0",
          "0.14.0",
          "0.15.0"
         ],
         "y": {
          "bdata": "AMSQvaOYH0Ca4TJ9lakJQGaG7LQc5xlAmkFn/SZZGEA=",
          "dtype": "f8"
         }
        }
       ],
       "layout": {
        "boxmode": "overlay",
        "legend": {
         "title": {
          "text": "skforecast_version"
         },
         "tracegroupgap": 0
        },
        "margin": {
         "t": 60
        },
        "showlegend": true,
        "template": {
         "data": {
          "bar": [
           {
            "error_x": {
             "color": "#2a3f5f"
            },
            "error_y": {
             "color": "#2a3f5f"
            },
            "marker": {
             "line": {
              "color": "#E5ECF6",
              "width": 0.5
             },
             "pattern": {
              "fillmode": "overlay",
              "size": 10,
              "solidity": 0.2
             }
            },
            "type": "bar"
           }
          ],
          "barpolar": [
           {
            "marker": {
             "line": {
              "color": "#E5ECF6",
              "width": 0.5
             },
             "pattern": {
              "fillmode": "overlay",
              "size": 10,
              "solidity": 0.2
             }
            },
            "type": "barpolar"
           }
          ],
          "carpet": [
           {
            "aaxis": {
             "endlinecolor": "#2a3f5f",
             "gridcolor": "white",
             "linecolor": "white",
             "minorgridcolor": "white",
             "startlinecolor": "#2a3f5f"
            },
            "baxis": {
             "endlinecolor": "#2a3f5f",
             "gridcolor": "white",
             "linecolor": "white",
             "minorgridcolor": "white",
             "startlinecolor": "#2a3f5f"
            },
            "type": "carpet"
           }
          ],
          "choropleth": [
           {
            "colorbar": {
             "outlinewidth": 0,
             "ticks": ""
            },
            "type": "choropleth"
           }
          ],
          "contour": [
           {
            "colorbar": {
             "outlinewidth": 0,
             "ticks": ""
            },
            "colorscale": [
             [
              0,
              "#0d0887"
             ],
             [
              0.1111111111111111,
              "#46039f"
             ],
             [
              0.2222222222222222,
              "#7201a8"
             ],
             [
              0.3333333333333333,
              "#9c179e"
             ],
             [
              0.4444444444444444,
              "#bd3786"
             ],
             [
              0.5555555555555556,
              "#d8576b"
             ],
             [
              0.6666666666666666,
              "#ed7953"
             ],
             [
              0.7777777777777778,
              "#fb9f3a"
             ],
             [
              0.8888888888888888,
              "#fdca26"
             ],
             [
              1,
              "#f0f921"
             ]
            ],
            "type": "contour"
           }
          ],
          "contourcarpet": [
           {
            "colorbar": {
             "outlinewidth": 0,
             "ticks": ""
            },
            "type": "contourcarpet"
           }
          ],
          "heatmap": [
           {
            "colorbar": {
             "outlinewidth": 0,
             "ticks": ""
            },
            "colorscale": [
             [
              0,
              "#0d0887"
             ],
             [
              0.1111111111111111,
              "#46039f"
             ],
             [
              0.2222222222222222,
              "#7201a8"
             ],
             [
              0.3333333333333333,
              "#9c179e"
             ],
             [
              0.4444444444444444,
              "#bd3786"
             ],
             [
              0.5555555555555556,
              "#d8576b"
             ],
             [
              0.6666666666666666,
              "#ed7953"
             ],
             [
              0.7777777777777778,
              "#fb9f3a"
             ],
             [
              0.8888888888888888,
              "#fdca26"
             ],
             [
              1,
              "#f0f921"
             ]
            ],
            "type": "heatmap"
           }
          ],
          "histogram": [
           {
            "marker": {
             "pattern": {
              "fillmode": "overlay",
              "size": 10,
              "solidity": 0.2
             }
            },
            "type": "histogram"
           }
          ],
          "histogram2d": [
           {
            "colorbar": {
             "outlinewidth": 0,
             "ticks": ""
            },
            "colorscale": [
             [
              0,
              "#0d0887"
             ],
             [
              0.1111111111111111,
              "#46039f"
             ],
             [
              0.2222222222222222,
              "#7201a8"
             ],
             [
              0.3333333333333333,
              "#9c179e"
             ],
             [
              0.4444444444444444,
              "#bd3786"
             ],
             [
              0.5555555555555556,
              "#d8576b"
             ],
             [
              0.6666666666666666,
              "#ed7953"
             ],
             [
              0.7777777777777778,
              "#fb9f3a"
             ],
             [
              0.8888888888888888,
              "#fdca26"
             ],
             [
              1,
              "#f0f921"
             ]
            ],
            "type": "histogram2d"
           }
          ],
          "histogram2dcontour": [
           {
            "colorbar": {
             "outlinewidth": 0,
             "ticks": ""
            },
            "colorscale": [
             [
              0,
              "#0d0887"
             ],
             [
              0.1111111111111111,
              "#46039f"
             ],
             [
              0.2222222222222222,
              "#7201a8"
             ],
             [
              0.3333333333333333,
              "#9c179e"
             ],
             [
              0.4444444444444444,
              "#bd3786"
             ],
             [
              0.5555555555555556,
              "#d8576b"
             ],
             [
              0.6666666666666666,
              "#ed7953"
             ],
             [
              0.7777777777777778,
              "#fb9f3a"
             ],
             [
              0.8888888888888888,
              "#fdca26"
             ],
             [
              1,
              "#f0f921"
             ]
            ],
            "type": "histogram2dcontour"
           }
          ],
          "mesh3d": [
           {
            "colorbar": {
             "outlinewidth": 0,
             "ticks": ""
            },
            "type": "mesh3d"
           }
          ],
          "parcoords": [
           {
            "line": {
             "colorbar": {
              "outlinewidth": 0,
              "ticks": ""
             }
            },
            "type": "parcoords"
           }
          ],
          "pie": [
           {
            "automargin": true,
            "type": "pie"
           }
          ],
          "scatter": [
           {
            "fillpattern": {
             "fillmode": "overlay",
             "size": 10,
             "solidity": 0.2
            },
            "type": "scatter"
           }
          ],
          "scatter3d": [
           {
            "line": {
             "colorbar": {
              "outlinewidth": 0,
              "ticks": ""
             }
            },
            "marker": {
             "colorbar": {
              "outlinewidth": 0,
              "ticks": ""
             }
            },
            "type": "scatter3d"
           }
          ],
          "scattercarpet": [
           {
            "marker": {
             "colorbar": {
              "outlinewidth": 0,
              "ticks": ""
             }
            },
            "type": "scattercarpet"
           }
          ],
          "scattergeo": [
           {
            "marker": {
             "colorbar": {
              "outlinewidth": 0,
              "ticks": ""
             }
            },
            "type": "scattergeo"
           }
          ],
          "scattergl": [
           {
            "marker": {
             "colorbar": {
              "outlinewidth": 0,
              "ticks": ""
             }
            },
            "type": "scattergl"
           }
          ],
          "scattermap": [
           {
            "marker": {
             "colorbar": {
              "outlinewidth": 0,
              "ticks": ""
             }
            },
            "type": "scattermap"
           }
          ],
          "scattermapbox": [
           {
            "marker": {
             "colorbar": {
              "outlinewidth": 0,
              "ticks": ""
             }
            },
            "type": "scattermapbox"
           }
          ],
          "scatterpolar": [
           {
            "marker": {
             "colorbar": {
              "outlinewidth": 0,
              "ticks": ""
             }
            },
            "type": "scatterpolar"
           }
          ],
          "scatterpolargl": [
           {
            "marker": {
             "colorbar": {
              "outlinewidth": 0,
              "ticks": ""
             }
            },
            "type": "scatterpolargl"
           }
          ],
          "scatterternary": [
           {
            "marker": {
             "colorbar": {
              "outlinewidth": 0,
              "ticks": ""
             }
            },
            "type": "scatterternary"
           }
          ],
          "surface": [
           {
            "colorbar": {
             "outlinewidth": 0,
             "ticks": ""
            },
            "colorscale": [
             [
              0,
              "#0d0887"
             ],
             [
              0.1111111111111111,
              "#46039f"
             ],
             [
              0.2222222222222222,
              "#7201a8"
             ],
             [
              0.3333333333333333,
              "#9c179e"
             ],
             [
              0.4444444444444444,
              "#bd3786"
             ],
             [
              0.5555555555555556,
              "#d8576b"
             ],
             [
              0.6666666666666666,
              "#ed7953"
             ],
             [
              0.7777777777777778,
              "#fb9f3a"
             ],
             [
              0.8888888888888888,
              "#fdca26"
             ],
             [
              1,
              "#f0f921"
             ]
            ],
            "type": "surface"
           }
          ],
          "table": [
           {
            "cells": {
             "fill": {
              "color": "#EBF0F8"
             },
             "line": {
              "color": "white"
             }
            },
            "header": {
             "fill": {
              "color": "#C8D4E3"
             },
             "line": {
              "color": "white"
             }
            },
            "type": "table"
           }
          ]
         },
         "layout": {
          "annotationdefaults": {
           "arrowcolor": "#2a3f5f",
           "arrowhead": 0,
           "arrowwidth": 1
          },
          "autotypenumbers": "strict",
          "coloraxis": {
           "colorbar": {
            "outlinewidth": 0,
            "ticks": ""
           }
          },
          "colorscale": {
           "diverging": [
            [
             0,
             "#8e0152"
            ],
            [
             0.1,
             "#c51b7d"
            ],
            [
             0.2,
             "#de77ae"
            ],
            [
             0.3,
             "#f1b6da"
            ],
            [
             0.4,
             "#fde0ef"
            ],
            [
             0.5,
             "#f7f7f7"
            ],
            [
             0.6,
             "#e6f5d0"
            ],
            [
             0.7,
             "#b8e186"
            ],
            [
             0.8,
             "#7fbc41"
            ],
            [
             0.9,
             "#4d9221"
            ],
            [
             1,
             "#276419"
            ]
           ],
           "sequential": [
            [
             0,
             "#0d0887"
            ],
            [
             0.1111111111111111,
             "#46039f"
            ],
            [
             0.2222222222222222,
             "#7201a8"
            ],
            [
             0.3333333333333333,
             "#9c179e"
            ],
            [
             0.4444444444444444,
             "#bd3786"
            ],
            [
             0.5555555555555556,
             "#d8576b"
            ],
            [
             0.6666666666666666,
             "#ed7953"
            ],
            [
             0.7777777777777778,
             "#fb9f3a"
            ],
            [
             0.8888888888888888,
             "#fdca26"
            ],
            [
             1,
             "#f0f921"
            ]
           ],
           "sequentialminus": [
            [
             0,
             "#0d0887"
            ],
            [
             0.1111111111111111,
             "#46039f"
            ],
            [
             0.2222222222222222,
             "#7201a8"
            ],
            [
             0.3333333333333333,
             "#9c179e"
            ],
            [
             0.4444444444444444,
             "#bd3786"
            ],
            [
             0.5555555555555556,
             "#d8576b"
            ],
            [
             0.6666666666666666,
             "#ed7953"
            ],
            [
             0.7777777777777778,
             "#fb9f3a"
            ],
            [
             0.8888888888888888,
             "#fdca26"
            ],
            [
             1,
             "#f0f921"
            ]
           ]
          },
          "colorway": [
           "#636efa",
           "#EF553B",
           "#00cc96",
           "#ab63fa",
           "#FFA15A",
           "#19d3f3",
           "#FF6692",
           "#B6E880",
           "#FF97FF",
           "#FECB52"
          ],
          "font": {
           "color": "#2a3f5f"
          },
          "geo": {
           "bgcolor": "white",
           "lakecolor": "white",
           "landcolor": "#E5ECF6",
           "showlakes": true,
           "showland": true,
           "subunitcolor": "white"
          },
          "hoverlabel": {
           "align": "left"
          },
          "hovermode": "closest",
          "mapbox": {
           "style": "light"
          },
          "paper_bgcolor": "white",
          "plot_bgcolor": "#E5ECF6",
          "polar": {
           "angularaxis": {
            "gridcolor": "white",
            "linecolor": "white",
            "ticks": ""
           },
           "bgcolor": "#E5ECF6",
           "radialaxis": {
            "gridcolor": "white",
            "linecolor": "white",
            "ticks": ""
           }
          },
          "scene": {
           "xaxis": {
            "backgroundcolor": "#E5ECF6",
            "gridcolor": "white",
            "gridwidth": 2,
            "linecolor": "white",
            "showbackground": true,
            "ticks": "",
            "zerolinecolor": "white"
           },
           "yaxis": {
            "backgroundcolor": "#E5ECF6",
            "gridcolor": "white",
            "gridwidth": 2,
            "linecolor": "white",
            "showbackground": true,
            "ticks": "",
            "zerolinecolor": "white"
           },
           "zaxis": {
            "backgroundcolor": "#E5ECF6",
            "gridcolor": "white",
            "gridwidth": 2,
            "linecolor": "white",
            "showbackground": true,
            "ticks": "",
            "zerolinecolor": "white"
           }
          },
          "shapedefaults": {
           "line": {
            "color": "#2a3f5f"
           }
          },
          "ternary": {
           "aaxis": {
            "gridcolor": "white",
            "linecolor": "white",
            "ticks": ""
           },
           "baxis": {
            "gridcolor": "white",
            "linecolor": "white",
            "ticks": ""
           },
           "bgcolor": "#E5ECF6",
           "caxis": {
            "gridcolor": "white",
            "linecolor": "white",
            "ticks": ""
           }
          },
          "title": {
           "x": 0.05
          },
          "xaxis": {
           "automargin": true,
           "gridcolor": "white",
           "linecolor": "white",
           "ticks": "",
           "title": {
            "standoff": 15
           },
           "zerolinecolor": "white",
           "zerolinewidth": 2
          },
          "yaxis": {
           "automargin": true,
           "gridcolor": "white",
           "linecolor": "white",
           "ticks": "",
           "title": {
            "standoff": 15
           },
           "zerolinecolor": "white",
           "zerolinewidth": 2
          }
         }
        },
        "title": {
         "text": "Execution time of ForecasterRecursiveMultiSeries__create_train_X_y"
        },
        "xaxis": {
         "anchor": "y",
         "categoryarray": [
          "0.12.0",
          "0.13.0",
          "0.14.0",
          "0.15.0"
         ],
         "categoryorder": "array",
         "domain": [
          0,
          1
         ],
         "title": {
          "text": "skforecast version"
         }
        },
        "yaxis": {
         "anchor": "x",
         "domain": [
          0,
          1
         ],
         "title": {
          "text": "Execution time (seconds)"
         }
        }
       }
      }
     },
     "metadata": {},
     "output_type": "display_data"
    },
    {
     "data": {
      "application/vnd.plotly.v1+json": {
       "config": {
        "plotlyServerURL": "https://plot.ly"
       },
       "data": [
        {
         "alignmentgroup": "True",
         "boxpoints": "all",
         "customdata": [
          [
           "ForecasterAutoregMultiSeries",
           "ForecasterRecursiveMultiSeries__create_train_X_y_single_series",
           "ea2ceb1c912245376ba4cea7595175be",
           0.0002526049640771094,
           "2025-04-22T10:29:58.468421",
           "3.12.9",
           "1.26.4",
           "2.2.3",
           "1.4.2",
           "4.6.0",
           "Linux-6.11.0-21-generic-x86_64-with-glibc2.39",
           "x86_64",
           8,
           8.2
          ]
         ],
         "fillcolor": "rgba(255,255,255,0)",
         "hoveron": "points",
         "hovertemplate": "skforecast_version=%{x}<br>run_time_avg=%{y}<br>forecaster_name=%{customdata[0]}<br>function_name=%{customdata[1]}<br>function_hash=%{customdata[2]}<br>run_time_std_dev=%{customdata[3]}<br>datetime=%{customdata[4]}<br>python_version=%{customdata[5]}<br>numpy_version=%{customdata[6]}<br>pandas_version=%{customdata[7]}<br>sklearn_version=%{customdata[8]}<br>lightgbm_version=%{customdata[9]}<br>platform=%{customdata[10]}<br>processor=%{customdata[11]}<br>cpu_count=%{customdata[12]}<br>memory_gb=%{customdata[13]}<extra></extra>",
         "jitter": true,
         "legendgroup": "0.12.0",
         "line": {
          "color": "rgba(255,255,255,0)"
         },
         "marker": {
          "color": "#636efa",
          "opacity": 0.7,
          "size": 10
         },
         "name": "0.12.0",
         "offsetgroup": "0.12.0",
         "orientation": "v",
         "pointpos": 0,
         "showlegend": true,
         "type": "box",
         "x": [
          "0.12.0"
         ],
         "x0": " ",
         "xaxis": "x",
         "y": {
          "bdata": "AADAqezLWz8=",
          "dtype": "f8"
         },
         "y0": " ",
         "yaxis": "y"
        },
        {
         "alignmentgroup": "True",
         "boxpoints": "all",
         "customdata": [
          [
           "ForecasterAutoregMultiSeries",
           "ForecasterRecursiveMultiSeries__create_train_X_y_single_series",
           "ea2ceb1c912245376ba4cea7595175be",
           0.0005398255914689194,
           "2025-04-22T10:37:15.238493",
           "3.12.9",
           "1.26.4",
           "2.2.3",
           "1.4.2",
           "4.6.0",
           "Linux-6.11.0-21-generic-x86_64-with-glibc2.39",
           "x86_64",
           8,
           8.2
          ]
         ],
         "fillcolor": "rgba(255,255,255,0)",
         "hoveron": "points",
         "hovertemplate": "skforecast_version=%{x}<br>run_time_avg=%{y}<br>forecaster_name=%{customdata[0]}<br>function_name=%{customdata[1]}<br>function_hash=%{customdata[2]}<br>run_time_std_dev=%{customdata[3]}<br>datetime=%{customdata[4]}<br>python_version=%{customdata[5]}<br>numpy_version=%{customdata[6]}<br>pandas_version=%{customdata[7]}<br>sklearn_version=%{customdata[8]}<br>lightgbm_version=%{customdata[9]}<br>platform=%{customdata[10]}<br>processor=%{customdata[11]}<br>cpu_count=%{customdata[12]}<br>memory_gb=%{customdata[13]}<extra></extra>",
         "jitter": true,
         "legendgroup": "0.13.0",
         "line": {
          "color": "rgba(255,255,255,0)"
         },
         "marker": {
          "color": "#EF553B",
          "opacity": 0.7,
          "size": 10
         },
         "name": "0.13.0",
         "offsetgroup": "0.13.0",
         "orientation": "v",
         "pointpos": 0,
         "showlegend": true,
         "type": "box",
         "x": [
          "0.13.0"
         ],
         "x0": " ",
         "xaxis": "x",
         "y": {
          "bdata": "MzNzVwrcZT8=",
          "dtype": "f8"
         },
         "y0": " ",
         "yaxis": "y"
        },
        {
         "alignmentgroup": "True",
         "boxpoints": "all",
         "customdata": [
          [
           "ForecasterRecursiveMultiSeries",
           "ForecasterRecursiveMultiSeries__create_train_X_y_single_series",
           "ea2ceb1c912245376ba4cea7595175be",
           0.0016718296478192153,
           "2025-04-22T10:51:19.558290",
           "3.12.9",
           "1.26.4",
           "2.2.3",
           "1.4.2",
           "4.6.0",
           "Linux-6.11.0-21-generic-x86_64-with-glibc2.39",
           "x86_64",
           8,
           8.2
          ]
         ],
         "fillcolor": "rgba(255,255,255,0)",
         "hoveron": "points",
         "hovertemplate": "skforecast_version=%{x}<br>run_time_avg=%{y}<br>forecaster_name=%{customdata[0]}<br>function_name=%{customdata[1]}<br>function_hash=%{customdata[2]}<br>run_time_std_dev=%{customdata[3]}<br>datetime=%{customdata[4]}<br>python_version=%{customdata[5]}<br>numpy_version=%{customdata[6]}<br>pandas_version=%{customdata[7]}<br>sklearn_version=%{customdata[8]}<br>lightgbm_version=%{customdata[9]}<br>platform=%{customdata[10]}<br>processor=%{customdata[11]}<br>cpu_count=%{customdata[12]}<br>memory_gb=%{customdata[13]}<extra></extra>",
         "jitter": true,
         "legendgroup": "0.14.0",
         "line": {
          "color": "rgba(255,255,255,0)"
         },
         "marker": {
          "color": "#00cc96",
          "opacity": 0.7,
          "size": 10
         },
         "name": "0.14.0",
         "offsetgroup": "0.14.0",
         "orientation": "v",
         "pointpos": 0,
         "showlegend": true,
         "type": "box",
         "x": [
          "0.14.0"
         ],
         "x0": " ",
         "xaxis": "x",
         "y": {
          "bdata": "mplpVzY3cz8=",
          "dtype": "f8"
         },
         "y0": " ",
         "yaxis": "y"
        },
        {
         "alignmentgroup": "True",
         "boxpoints": "all",
         "customdata": [
          [
           "ForecasterRecursiveMultiSeries",
           "ForecasterRecursiveMultiSeries__create_train_X_y_single_series",
           "ea2ceb1c912245376ba4cea7595175be",
           0.0003104980075562252,
           "2025-04-22T11:06:22.141770",
           "3.12.9",
           "1.26.4",
           "2.2.3",
           "1.4.2",
           "4.6.0",
           "Linux-6.11.0-21-generic-x86_64-with-glibc2.39",
           "x86_64",
           8,
           8.2
          ]
         ],
         "fillcolor": "rgba(255,255,255,0)",
         "hoveron": "points",
         "hovertemplate": "skforecast_version=%{x}<br>run_time_avg=%{y}<br>forecaster_name=%{customdata[0]}<br>function_name=%{customdata[1]}<br>function_hash=%{customdata[2]}<br>run_time_std_dev=%{customdata[3]}<br>datetime=%{customdata[4]}<br>python_version=%{customdata[5]}<br>numpy_version=%{customdata[6]}<br>pandas_version=%{customdata[7]}<br>sklearn_version=%{customdata[8]}<br>lightgbm_version=%{customdata[9]}<br>platform=%{customdata[10]}<br>processor=%{customdata[11]}<br>cpu_count=%{customdata[12]}<br>memory_gb=%{customdata[13]}<extra></extra>",
         "jitter": true,
         "legendgroup": "0.15.0",
         "line": {
          "color": "rgba(255,255,255,0)"
         },
         "marker": {
          "color": "#ab63fa",
          "opacity": 0.7,
          "size": 10
         },
         "name": "0.15.0",
         "offsetgroup": "0.15.0",
         "orientation": "v",
         "pointpos": 0,
         "showlegend": true,
         "type": "box",
         "x": [
          "0.15.0"
         ],
         "x0": " ",
         "xaxis": "x",
         "y": {
          "bdata": "mplZgpHLYj8=",
          "dtype": "f8"
         },
         "y0": " ",
         "yaxis": "y"
        },
        {
         "line": {
          "color": "black",
          "width": 2
         },
         "marker": {
          "size": 8
         },
         "mode": "lines+markers",
         "name": "Median",
         "showlegend": true,
         "type": "scatter",
         "x": [
          "0.12.0",
          "0.13.0",
          "0.14.0",
          "0.15.0"
         ],
         "y": {
          "bdata": "AADAqezLWz8zM3NXCtxlP5qZaVc2N3M/mplZgpHLYj8=",
          "dtype": "f8"
         }
        }
       ],
       "layout": {
        "boxmode": "overlay",
        "legend": {
         "title": {
          "text": "skforecast_version"
         },
         "tracegroupgap": 0
        },
        "margin": {
         "t": 60
        },
        "showlegend": true,
        "template": {
         "data": {
          "bar": [
           {
            "error_x": {
             "color": "#2a3f5f"
            },
            "error_y": {
             "color": "#2a3f5f"
            },
            "marker": {
             "line": {
              "color": "#E5ECF6",
              "width": 0.5
             },
             "pattern": {
              "fillmode": "overlay",
              "size": 10,
              "solidity": 0.2
             }
            },
            "type": "bar"
           }
          ],
          "barpolar": [
           {
            "marker": {
             "line": {
              "color": "#E5ECF6",
              "width": 0.5
             },
             "pattern": {
              "fillmode": "overlay",
              "size": 10,
              "solidity": 0.2
             }
            },
            "type": "barpolar"
           }
          ],
          "carpet": [
           {
            "aaxis": {
             "endlinecolor": "#2a3f5f",
             "gridcolor": "white",
             "linecolor": "white",
             "minorgridcolor": "white",
             "startlinecolor": "#2a3f5f"
            },
            "baxis": {
             "endlinecolor": "#2a3f5f",
             "gridcolor": "white",
             "linecolor": "white",
             "minorgridcolor": "white",
             "startlinecolor": "#2a3f5f"
            },
            "type": "carpet"
           }
          ],
          "choropleth": [
           {
            "colorbar": {
             "outlinewidth": 0,
             "ticks": ""
            },
            "type": "choropleth"
           }
          ],
          "contour": [
           {
            "colorbar": {
             "outlinewidth": 0,
             "ticks": ""
            },
            "colorscale": [
             [
              0,
              "#0d0887"
             ],
             [
              0.1111111111111111,
              "#46039f"
             ],
             [
              0.2222222222222222,
              "#7201a8"
             ],
             [
              0.3333333333333333,
              "#9c179e"
             ],
             [
              0.4444444444444444,
              "#bd3786"
             ],
             [
              0.5555555555555556,
              "#d8576b"
             ],
             [
              0.6666666666666666,
              "#ed7953"
             ],
             [
              0.7777777777777778,
              "#fb9f3a"
             ],
             [
              0.8888888888888888,
              "#fdca26"
             ],
             [
              1,
              "#f0f921"
             ]
            ],
            "type": "contour"
           }
          ],
          "contourcarpet": [
           {
            "colorbar": {
             "outlinewidth": 0,
             "ticks": ""
            },
            "type": "contourcarpet"
           }
          ],
          "heatmap": [
           {
            "colorbar": {
             "outlinewidth": 0,
             "ticks": ""
            },
            "colorscale": [
             [
              0,
              "#0d0887"
             ],
             [
              0.1111111111111111,
              "#46039f"
             ],
             [
              0.2222222222222222,
              "#7201a8"
             ],
             [
              0.3333333333333333,
              "#9c179e"
             ],
             [
              0.4444444444444444,
              "#bd3786"
             ],
             [
              0.5555555555555556,
              "#d8576b"
             ],
             [
              0.6666666666666666,
              "#ed7953"
             ],
             [
              0.7777777777777778,
              "#fb9f3a"
             ],
             [
              0.8888888888888888,
              "#fdca26"
             ],
             [
              1,
              "#f0f921"
             ]
            ],
            "type": "heatmap"
           }
          ],
          "histogram": [
           {
            "marker": {
             "pattern": {
              "fillmode": "overlay",
              "size": 10,
              "solidity": 0.2
             }
            },
            "type": "histogram"
           }
          ],
          "histogram2d": [
           {
            "colorbar": {
             "outlinewidth": 0,
             "ticks": ""
            },
            "colorscale": [
             [
              0,
              "#0d0887"
             ],
             [
              0.1111111111111111,
              "#46039f"
             ],
             [
              0.2222222222222222,
              "#7201a8"
             ],
             [
              0.3333333333333333,
              "#9c179e"
             ],
             [
              0.4444444444444444,
              "#bd3786"
             ],
             [
              0.5555555555555556,
              "#d8576b"
             ],
             [
              0.6666666666666666,
              "#ed7953"
             ],
             [
              0.7777777777777778,
              "#fb9f3a"
             ],
             [
              0.8888888888888888,
              "#fdca26"
             ],
             [
              1,
              "#f0f921"
             ]
            ],
            "type": "histogram2d"
           }
          ],
          "histogram2dcontour": [
           {
            "colorbar": {
             "outlinewidth": 0,
             "ticks": ""
            },
            "colorscale": [
             [
              0,
              "#0d0887"
             ],
             [
              0.1111111111111111,
              "#46039f"
             ],
             [
              0.2222222222222222,
              "#7201a8"
             ],
             [
              0.3333333333333333,
              "#9c179e"
             ],
             [
              0.4444444444444444,
              "#bd3786"
             ],
             [
              0.5555555555555556,
              "#d8576b"
             ],
             [
              0.6666666666666666,
              "#ed7953"
             ],
             [
              0.7777777777777778,
              "#fb9f3a"
             ],
             [
              0.8888888888888888,
              "#fdca26"
             ],
             [
              1,
              "#f0f921"
             ]
            ],
            "type": "histogram2dcontour"
           }
          ],
          "mesh3d": [
           {
            "colorbar": {
             "outlinewidth": 0,
             "ticks": ""
            },
            "type": "mesh3d"
           }
          ],
          "parcoords": [
           {
            "line": {
             "colorbar": {
              "outlinewidth": 0,
              "ticks": ""
             }
            },
            "type": "parcoords"
           }
          ],
          "pie": [
           {
            "automargin": true,
            "type": "pie"
           }
          ],
          "scatter": [
           {
            "fillpattern": {
             "fillmode": "overlay",
             "size": 10,
             "solidity": 0.2
            },
            "type": "scatter"
           }
          ],
          "scatter3d": [
           {
            "line": {
             "colorbar": {
              "outlinewidth": 0,
              "ticks": ""
             }
            },
            "marker": {
             "colorbar": {
              "outlinewidth": 0,
              "ticks": ""
             }
            },
            "type": "scatter3d"
           }
          ],
          "scattercarpet": [
           {
            "marker": {
             "colorbar": {
              "outlinewidth": 0,
              "ticks": ""
             }
            },
            "type": "scattercarpet"
           }
          ],
          "scattergeo": [
           {
            "marker": {
             "colorbar": {
              "outlinewidth": 0,
              "ticks": ""
             }
            },
            "type": "scattergeo"
           }
          ],
          "scattergl": [
           {
            "marker": {
             "colorbar": {
              "outlinewidth": 0,
              "ticks": ""
             }
            },
            "type": "scattergl"
           }
          ],
          "scattermap": [
           {
            "marker": {
             "colorbar": {
              "outlinewidth": 0,
              "ticks": ""
             }
            },
            "type": "scattermap"
           }
          ],
          "scattermapbox": [
           {
            "marker": {
             "colorbar": {
              "outlinewidth": 0,
              "ticks": ""
             }
            },
            "type": "scattermapbox"
           }
          ],
          "scatterpolar": [
           {
            "marker": {
             "colorbar": {
              "outlinewidth": 0,
              "ticks": ""
             }
            },
            "type": "scatterpolar"
           }
          ],
          "scatterpolargl": [
           {
            "marker": {
             "colorbar": {
              "outlinewidth": 0,
              "ticks": ""
             }
            },
            "type": "scatterpolargl"
           }
          ],
          "scatterternary": [
           {
            "marker": {
             "colorbar": {
              "outlinewidth": 0,
              "ticks": ""
             }
            },
            "type": "scatterternary"
           }
          ],
          "surface": [
           {
            "colorbar": {
             "outlinewidth": 0,
             "ticks": ""
            },
            "colorscale": [
             [
              0,
              "#0d0887"
             ],
             [
              0.1111111111111111,
              "#46039f"
             ],
             [
              0.2222222222222222,
              "#7201a8"
             ],
             [
              0.3333333333333333,
              "#9c179e"
             ],
             [
              0.4444444444444444,
              "#bd3786"
             ],
             [
              0.5555555555555556,
              "#d8576b"
             ],
             [
              0.6666666666666666,
              "#ed7953"
             ],
             [
              0.7777777777777778,
              "#fb9f3a"
             ],
             [
              0.8888888888888888,
              "#fdca26"
             ],
             [
              1,
              "#f0f921"
             ]
            ],
            "type": "surface"
           }
          ],
          "table": [
           {
            "cells": {
             "fill": {
              "color": "#EBF0F8"
             },
             "line": {
              "color": "white"
             }
            },
            "header": {
             "fill": {
              "color": "#C8D4E3"
             },
             "line": {
              "color": "white"
             }
            },
            "type": "table"
           }
          ]
         },
         "layout": {
          "annotationdefaults": {
           "arrowcolor": "#2a3f5f",
           "arrowhead": 0,
           "arrowwidth": 1
          },
          "autotypenumbers": "strict",
          "coloraxis": {
           "colorbar": {
            "outlinewidth": 0,
            "ticks": ""
           }
          },
          "colorscale": {
           "diverging": [
            [
             0,
             "#8e0152"
            ],
            [
             0.1,
             "#c51b7d"
            ],
            [
             0.2,
             "#de77ae"
            ],
            [
             0.3,
             "#f1b6da"
            ],
            [
             0.4,
             "#fde0ef"
            ],
            [
             0.5,
             "#f7f7f7"
            ],
            [
             0.6,
             "#e6f5d0"
            ],
            [
             0.7,
             "#b8e186"
            ],
            [
             0.8,
             "#7fbc41"
            ],
            [
             0.9,
             "#4d9221"
            ],
            [
             1,
             "#276419"
            ]
           ],
           "sequential": [
            [
             0,
             "#0d0887"
            ],
            [
             0.1111111111111111,
             "#46039f"
            ],
            [
             0.2222222222222222,
             "#7201a8"
            ],
            [
             0.3333333333333333,
             "#9c179e"
            ],
            [
             0.4444444444444444,
             "#bd3786"
            ],
            [
             0.5555555555555556,
             "#d8576b"
            ],
            [
             0.6666666666666666,
             "#ed7953"
            ],
            [
             0.7777777777777778,
             "#fb9f3a"
            ],
            [
             0.8888888888888888,
             "#fdca26"
            ],
            [
             1,
             "#f0f921"
            ]
           ],
           "sequentialminus": [
            [
             0,
             "#0d0887"
            ],
            [
             0.1111111111111111,
             "#46039f"
            ],
            [
             0.2222222222222222,
             "#7201a8"
            ],
            [
             0.3333333333333333,
             "#9c179e"
            ],
            [
             0.4444444444444444,
             "#bd3786"
            ],
            [
             0.5555555555555556,
             "#d8576b"
            ],
            [
             0.6666666666666666,
             "#ed7953"
            ],
            [
             0.7777777777777778,
             "#fb9f3a"
            ],
            [
             0.8888888888888888,
             "#fdca26"
            ],
            [
             1,
             "#f0f921"
            ]
           ]
          },
          "colorway": [
           "#636efa",
           "#EF553B",
           "#00cc96",
           "#ab63fa",
           "#FFA15A",
           "#19d3f3",
           "#FF6692",
           "#B6E880",
           "#FF97FF",
           "#FECB52"
          ],
          "font": {
           "color": "#2a3f5f"
          },
          "geo": {
           "bgcolor": "white",
           "lakecolor": "white",
           "landcolor": "#E5ECF6",
           "showlakes": true,
           "showland": true,
           "subunitcolor": "white"
          },
          "hoverlabel": {
           "align": "left"
          },
          "hovermode": "closest",
          "mapbox": {
           "style": "light"
          },
          "paper_bgcolor": "white",
          "plot_bgcolor": "#E5ECF6",
          "polar": {
           "angularaxis": {
            "gridcolor": "white",
            "linecolor": "white",
            "ticks": ""
           },
           "bgcolor": "#E5ECF6",
           "radialaxis": {
            "gridcolor": "white",
            "linecolor": "white",
            "ticks": ""
           }
          },
          "scene": {
           "xaxis": {
            "backgroundcolor": "#E5ECF6",
            "gridcolor": "white",
            "gridwidth": 2,
            "linecolor": "white",
            "showbackground": true,
            "ticks": "",
            "zerolinecolor": "white"
           },
           "yaxis": {
            "backgroundcolor": "#E5ECF6",
            "gridcolor": "white",
            "gridwidth": 2,
            "linecolor": "white",
            "showbackground": true,
            "ticks": "",
            "zerolinecolor": "white"
           },
           "zaxis": {
            "backgroundcolor": "#E5ECF6",
            "gridcolor": "white",
            "gridwidth": 2,
            "linecolor": "white",
            "showbackground": true,
            "ticks": "",
            "zerolinecolor": "white"
           }
          },
          "shapedefaults": {
           "line": {
            "color": "#2a3f5f"
           }
          },
          "ternary": {
           "aaxis": {
            "gridcolor": "white",
            "linecolor": "white",
            "ticks": ""
           },
           "baxis": {
            "gridcolor": "white",
            "linecolor": "white",
            "ticks": ""
           },
           "bgcolor": "#E5ECF6",
           "caxis": {
            "gridcolor": "white",
            "linecolor": "white",
            "ticks": ""
           }
          },
          "title": {
           "x": 0.05
          },
          "xaxis": {
           "automargin": true,
           "gridcolor": "white",
           "linecolor": "white",
           "ticks": "",
           "title": {
            "standoff": 15
           },
           "zerolinecolor": "white",
           "zerolinewidth": 2
          },
          "yaxis": {
           "automargin": true,
           "gridcolor": "white",
           "linecolor": "white",
           "ticks": "",
           "title": {
            "standoff": 15
           },
           "zerolinecolor": "white",
           "zerolinewidth": 2
          }
         }
        },
        "title": {
         "text": "Execution time of ForecasterRecursiveMultiSeries__create_train_X_y_single_series"
        },
        "xaxis": {
         "anchor": "y",
         "categoryarray": [
          "0.12.0",
          "0.13.0",
          "0.14.0",
          "0.15.0"
         ],
         "categoryorder": "array",
         "domain": [
          0,
          1
         ],
         "title": {
          "text": "skforecast version"
         }
        },
        "yaxis": {
         "anchor": "x",
         "domain": [
          0,
          1
         ],
         "title": {
          "text": "Execution time (seconds)"
         }
        }
       }
      }
     },
     "metadata": {},
     "output_type": "display_data"
    },
    {
     "data": {
      "application/vnd.plotly.v1+json": {
       "config": {
        "plotlyServerURL": "https://plot.ly"
       },
       "data": [
        {
         "alignmentgroup": "True",
         "boxpoints": "all",
         "customdata": [
          [
           "ForecasterAutoregMultiSeries",
           "ForecasterRecursiveMultiSeries_predict",
           "f59b97fdb1f270ff43c67882602cec70",
           2.5636885117403923,
           "2025-04-22T10:29:58.479559",
           "3.12.9",
           "1.26.4",
           "2.2.3",
           "1.4.2",
           "4.6.0",
           "Linux-6.11.0-21-generic-x86_64-with-glibc2.39",
           "x86_64",
           8,
           8.2
          ]
         ],
         "fillcolor": "rgba(255,255,255,0)",
         "hoveron": "points",
         "hovertemplate": "skforecast_version=%{x}<br>run_time_avg=%{y}<br>forecaster_name=%{customdata[0]}<br>function_name=%{customdata[1]}<br>function_hash=%{customdata[2]}<br>run_time_std_dev=%{customdata[3]}<br>datetime=%{customdata[4]}<br>python_version=%{customdata[5]}<br>numpy_version=%{customdata[6]}<br>pandas_version=%{customdata[7]}<br>sklearn_version=%{customdata[8]}<br>lightgbm_version=%{customdata[9]}<br>platform=%{customdata[10]}<br>processor=%{customdata[11]}<br>cpu_count=%{customdata[12]}<br>memory_gb=%{customdata[13]}<extra></extra>",
         "jitter": true,
         "legendgroup": "0.12.0",
         "line": {
          "color": "rgba(255,255,255,0)"
         },
         "marker": {
          "color": "#636efa",
          "opacity": 0.7,
          "size": 10
         },
         "name": "0.12.0",
         "offsetgroup": "0.12.0",
         "orientation": "v",
         "pointpos": 0,
         "showlegend": true,
         "type": "box",
         "x": [
          "0.12.0"
         ],
         "x0": " ",
         "xaxis": "x",
         "y": {
          "bdata": "5oZB55VqRkA=",
          "dtype": "f8"
         },
         "y0": " ",
         "yaxis": "y"
        },
        {
         "alignmentgroup": "True",
         "boxpoints": "all",
         "customdata": [
          [
           "ForecasterAutoregMultiSeries",
           "ForecasterRecursiveMultiSeries_predict",
           "f59b97fdb1f270ff43c67882602cec70",
           27.38416468059802,
           "2025-04-22T10:37:15.257509",
           "3.12.9",
           "1.26.4",
           "2.2.3",
           "1.4.2",
           "4.6.0",
           "Linux-6.11.0-21-generic-x86_64-with-glibc2.39",
           "x86_64",
           8,
           8.2
          ]
         ],
         "fillcolor": "rgba(255,255,255,0)",
         "hoveron": "points",
         "hovertemplate": "skforecast_version=%{x}<br>run_time_avg=%{y}<br>forecaster_name=%{customdata[0]}<br>function_name=%{customdata[1]}<br>function_hash=%{customdata[2]}<br>run_time_std_dev=%{customdata[3]}<br>datetime=%{customdata[4]}<br>python_version=%{customdata[5]}<br>numpy_version=%{customdata[6]}<br>pandas_version=%{customdata[7]}<br>sklearn_version=%{customdata[8]}<br>lightgbm_version=%{customdata[9]}<br>platform=%{customdata[10]}<br>processor=%{customdata[11]}<br>cpu_count=%{customdata[12]}<br>memory_gb=%{customdata[13]}<extra></extra>",
         "jitter": true,
         "legendgroup": "0.13.0",
         "line": {
          "color": "rgba(255,255,255,0)"
         },
         "marker": {
          "color": "#EF553B",
          "opacity": 0.7,
          "size": 10
         },
         "name": "0.13.0",
         "offsetgroup": "0.13.0",
         "orientation": "v",
         "pointpos": 0,
         "showlegend": true,
         "type": "box",
         "x": [
          "0.13.0"
         ],
         "x0": " ",
         "xaxis": "x",
         "y": {
          "bdata": "WthNZimtWEA=",
          "dtype": "f8"
         },
         "y0": " ",
         "yaxis": "y"
        },
        {
         "alignmentgroup": "True",
         "boxpoints": "all",
         "customdata": [
          [
           "ForecasterRecursiveMultiSeries",
           "ForecasterRecursiveMultiSeries_predict",
           "f59b97fdb1f270ff43c67882602cec70",
           0.31558670698950503,
           "2025-04-22T10:51:19.589190",
           "3.12.9",
           "1.26.4",
           "2.2.3",
           "1.4.2",
           "4.6.0",
           "Linux-6.11.0-21-generic-x86_64-with-glibc2.39",
           "x86_64",
           8,
           8.2
          ]
         ],
         "fillcolor": "rgba(255,255,255,0)",
         "hoveron": "points",
         "hovertemplate": "skforecast_version=%{x}<br>run_time_avg=%{y}<br>forecaster_name=%{customdata[0]}<br>function_name=%{customdata[1]}<br>function_hash=%{customdata[2]}<br>run_time_std_dev=%{customdata[3]}<br>datetime=%{customdata[4]}<br>python_version=%{customdata[5]}<br>numpy_version=%{customdata[6]}<br>pandas_version=%{customdata[7]}<br>sklearn_version=%{customdata[8]}<br>lightgbm_version=%{customdata[9]}<br>platform=%{customdata[10]}<br>processor=%{customdata[11]}<br>cpu_count=%{customdata[12]}<br>memory_gb=%{customdata[13]}<extra></extra>",
         "jitter": true,
         "legendgroup": "0.14.0",
         "line": {
          "color": "rgba(255,255,255,0)"
         },
         "marker": {
          "color": "#00cc96",
          "opacity": 0.7,
          "size": 10
         },
         "name": "0.14.0",
         "offsetgroup": "0.14.0",
         "orientation": "v",
         "pointpos": 0,
         "showlegend": true,
         "type": "box",
         "x": [
          "0.14.0"
         ],
         "x0": " ",
         "xaxis": "x",
         "y": {
          "bdata": "muWAEFFWEUA=",
          "dtype": "f8"
         },
         "y0": " ",
         "yaxis": "y"
        },
        {
         "alignmentgroup": "True",
         "boxpoints": "all",
         "customdata": [
          [
           "ForecasterRecursiveMultiSeries",
           "ForecasterRecursiveMultiSeries_predict",
           "f59b97fdb1f270ff43c67882602cec70",
           0.9436094941010694,
           "2025-04-22T11:06:22.161343",
           "3.12.9",
           "1.26.4",
           "2.2.3",
           "1.4.2",
           "4.6.0",
           "Linux-6.11.0-21-generic-x86_64-with-glibc2.39",
           "x86_64",
           8,
           8.2
          ]
         ],
         "fillcolor": "rgba(255,255,255,0)",
         "hoveron": "points",
         "hovertemplate": "skforecast_version=%{x}<br>run_time_avg=%{y}<br>forecaster_name=%{customdata[0]}<br>function_name=%{customdata[1]}<br>function_hash=%{customdata[2]}<br>run_time_std_dev=%{customdata[3]}<br>datetime=%{customdata[4]}<br>python_version=%{customdata[5]}<br>numpy_version=%{customdata[6]}<br>pandas_version=%{customdata[7]}<br>sklearn_version=%{customdata[8]}<br>lightgbm_version=%{customdata[9]}<br>platform=%{customdata[10]}<br>processor=%{customdata[11]}<br>cpu_count=%{customdata[12]}<br>memory_gb=%{customdata[13]}<extra></extra>",
         "jitter": true,
         "legendgroup": "0.15.0",
         "line": {
          "color": "rgba(255,255,255,0)"
         },
         "marker": {
          "color": "#ab63fa",
          "opacity": 0.7,
          "size": 10
         },
         "name": "0.15.0",
         "offsetgroup": "0.15.0",
         "orientation": "v",
         "pointpos": 0,
         "showlegend": true,
         "type": "box",
         "x": [
          "0.15.0"
         ],
         "x0": " ",
         "xaxis": "x",
         "y": {
          "bdata": "mi1XYWlPEUA=",
          "dtype": "f8"
         },
         "y0": " ",
         "yaxis": "y"
        },
        {
         "line": {
          "color": "black",
          "width": 2
         },
         "marker": {
          "size": 8
         },
         "mode": "lines+markers",
         "name": "Median",
         "showlegend": true,
         "type": "scatter",
         "x": [
          "0.12.0",
          "0.13.0",
          "0.14.0",
          "0.15.0"
         ],
         "y": {
          "bdata": "5oZB55VqRkBa2E1mKa1YQJrlgBBRVhFAmi1XYWlPEUA=",
          "dtype": "f8"
         }
        }
       ],
       "layout": {
        "boxmode": "overlay",
        "legend": {
         "title": {
          "text": "skforecast_version"
         },
         "tracegroupgap": 0
        },
        "margin": {
         "t": 60
        },
        "showlegend": true,
        "template": {
         "data": {
          "bar": [
           {
            "error_x": {
             "color": "#2a3f5f"
            },
            "error_y": {
             "color": "#2a3f5f"
            },
            "marker": {
             "line": {
              "color": "#E5ECF6",
              "width": 0.5
             },
             "pattern": {
              "fillmode": "overlay",
              "size": 10,
              "solidity": 0.2
             }
            },
            "type": "bar"
           }
          ],
          "barpolar": [
           {
            "marker": {
             "line": {
              "color": "#E5ECF6",
              "width": 0.5
             },
             "pattern": {
              "fillmode": "overlay",
              "size": 10,
              "solidity": 0.2
             }
            },
            "type": "barpolar"
           }
          ],
          "carpet": [
           {
            "aaxis": {
             "endlinecolor": "#2a3f5f",
             "gridcolor": "white",
             "linecolor": "white",
             "minorgridcolor": "white",
             "startlinecolor": "#2a3f5f"
            },
            "baxis": {
             "endlinecolor": "#2a3f5f",
             "gridcolor": "white",
             "linecolor": "white",
             "minorgridcolor": "white",
             "startlinecolor": "#2a3f5f"
            },
            "type": "carpet"
           }
          ],
          "choropleth": [
           {
            "colorbar": {
             "outlinewidth": 0,
             "ticks": ""
            },
            "type": "choropleth"
           }
          ],
          "contour": [
           {
            "colorbar": {
             "outlinewidth": 0,
             "ticks": ""
            },
            "colorscale": [
             [
              0,
              "#0d0887"
             ],
             [
              0.1111111111111111,
              "#46039f"
             ],
             [
              0.2222222222222222,
              "#7201a8"
             ],
             [
              0.3333333333333333,
              "#9c179e"
             ],
             [
              0.4444444444444444,
              "#bd3786"
             ],
             [
              0.5555555555555556,
              "#d8576b"
             ],
             [
              0.6666666666666666,
              "#ed7953"
             ],
             [
              0.7777777777777778,
              "#fb9f3a"
             ],
             [
              0.8888888888888888,
              "#fdca26"
             ],
             [
              1,
              "#f0f921"
             ]
            ],
            "type": "contour"
           }
          ],
          "contourcarpet": [
           {
            "colorbar": {
             "outlinewidth": 0,
             "ticks": ""
            },
            "type": "contourcarpet"
           }
          ],
          "heatmap": [
           {
            "colorbar": {
             "outlinewidth": 0,
             "ticks": ""
            },
            "colorscale": [
             [
              0,
              "#0d0887"
             ],
             [
              0.1111111111111111,
              "#46039f"
             ],
             [
              0.2222222222222222,
              "#7201a8"
             ],
             [
              0.3333333333333333,
              "#9c179e"
             ],
             [
              0.4444444444444444,
              "#bd3786"
             ],
             [
              0.5555555555555556,
              "#d8576b"
             ],
             [
              0.6666666666666666,
              "#ed7953"
             ],
             [
              0.7777777777777778,
              "#fb9f3a"
             ],
             [
              0.8888888888888888,
              "#fdca26"
             ],
             [
              1,
              "#f0f921"
             ]
            ],
            "type": "heatmap"
           }
          ],
          "histogram": [
           {
            "marker": {
             "pattern": {
              "fillmode": "overlay",
              "size": 10,
              "solidity": 0.2
             }
            },
            "type": "histogram"
           }
          ],
          "histogram2d": [
           {
            "colorbar": {
             "outlinewidth": 0,
             "ticks": ""
            },
            "colorscale": [
             [
              0,
              "#0d0887"
             ],
             [
              0.1111111111111111,
              "#46039f"
             ],
             [
              0.2222222222222222,
              "#7201a8"
             ],
             [
              0.3333333333333333,
              "#9c179e"
             ],
             [
              0.4444444444444444,
              "#bd3786"
             ],
             [
              0.5555555555555556,
              "#d8576b"
             ],
             [
              0.6666666666666666,
              "#ed7953"
             ],
             [
              0.7777777777777778,
              "#fb9f3a"
             ],
             [
              0.8888888888888888,
              "#fdca26"
             ],
             [
              1,
              "#f0f921"
             ]
            ],
            "type": "histogram2d"
           }
          ],
          "histogram2dcontour": [
           {
            "colorbar": {
             "outlinewidth": 0,
             "ticks": ""
            },
            "colorscale": [
             [
              0,
              "#0d0887"
             ],
             [
              0.1111111111111111,
              "#46039f"
             ],
             [
              0.2222222222222222,
              "#7201a8"
             ],
             [
              0.3333333333333333,
              "#9c179e"
             ],
             [
              0.4444444444444444,
              "#bd3786"
             ],
             [
              0.5555555555555556,
              "#d8576b"
             ],
             [
              0.6666666666666666,
              "#ed7953"
             ],
             [
              0.7777777777777778,
              "#fb9f3a"
             ],
             [
              0.8888888888888888,
              "#fdca26"
             ],
             [
              1,
              "#f0f921"
             ]
            ],
            "type": "histogram2dcontour"
           }
          ],
          "mesh3d": [
           {
            "colorbar": {
             "outlinewidth": 0,
             "ticks": ""
            },
            "type": "mesh3d"
           }
          ],
          "parcoords": [
           {
            "line": {
             "colorbar": {
              "outlinewidth": 0,
              "ticks": ""
             }
            },
            "type": "parcoords"
           }
          ],
          "pie": [
           {
            "automargin": true,
            "type": "pie"
           }
          ],
          "scatter": [
           {
            "fillpattern": {
             "fillmode": "overlay",
             "size": 10,
             "solidity": 0.2
            },
            "type": "scatter"
           }
          ],
          "scatter3d": [
           {
            "line": {
             "colorbar": {
              "outlinewidth": 0,
              "ticks": ""
             }
            },
            "marker": {
             "colorbar": {
              "outlinewidth": 0,
              "ticks": ""
             }
            },
            "type": "scatter3d"
           }
          ],
          "scattercarpet": [
           {
            "marker": {
             "colorbar": {
              "outlinewidth": 0,
              "ticks": ""
             }
            },
            "type": "scattercarpet"
           }
          ],
          "scattergeo": [
           {
            "marker": {
             "colorbar": {
              "outlinewidth": 0,
              "ticks": ""
             }
            },
            "type": "scattergeo"
           }
          ],
          "scattergl": [
           {
            "marker": {
             "colorbar": {
              "outlinewidth": 0,
              "ticks": ""
             }
            },
            "type": "scattergl"
           }
          ],
          "scattermap": [
           {
            "marker": {
             "colorbar": {
              "outlinewidth": 0,
              "ticks": ""
             }
            },
            "type": "scattermap"
           }
          ],
          "scattermapbox": [
           {
            "marker": {
             "colorbar": {
              "outlinewidth": 0,
              "ticks": ""
             }
            },
            "type": "scattermapbox"
           }
          ],
          "scatterpolar": [
           {
            "marker": {
             "colorbar": {
              "outlinewidth": 0,
              "ticks": ""
             }
            },
            "type": "scatterpolar"
           }
          ],
          "scatterpolargl": [
           {
            "marker": {
             "colorbar": {
              "outlinewidth": 0,
              "ticks": ""
             }
            },
            "type": "scatterpolargl"
           }
          ],
          "scatterternary": [
           {
            "marker": {
             "colorbar": {
              "outlinewidth": 0,
              "ticks": ""
             }
            },
            "type": "scatterternary"
           }
          ],
          "surface": [
           {
            "colorbar": {
             "outlinewidth": 0,
             "ticks": ""
            },
            "colorscale": [
             [
              0,
              "#0d0887"
             ],
             [
              0.1111111111111111,
              "#46039f"
             ],
             [
              0.2222222222222222,
              "#7201a8"
             ],
             [
              0.3333333333333333,
              "#9c179e"
             ],
             [
              0.4444444444444444,
              "#bd3786"
             ],
             [
              0.5555555555555556,
              "#d8576b"
             ],
             [
              0.6666666666666666,
              "#ed7953"
             ],
             [
              0.7777777777777778,
              "#fb9f3a"
             ],
             [
              0.8888888888888888,
              "#fdca26"
             ],
             [
              1,
              "#f0f921"
             ]
            ],
            "type": "surface"
           }
          ],
          "table": [
           {
            "cells": {
             "fill": {
              "color": "#EBF0F8"
             },
             "line": {
              "color": "white"
             }
            },
            "header": {
             "fill": {
              "color": "#C8D4E3"
             },
             "line": {
              "color": "white"
             }
            },
            "type": "table"
           }
          ]
         },
         "layout": {
          "annotationdefaults": {
           "arrowcolor": "#2a3f5f",
           "arrowhead": 0,
           "arrowwidth": 1
          },
          "autotypenumbers": "strict",
          "coloraxis": {
           "colorbar": {
            "outlinewidth": 0,
            "ticks": ""
           }
          },
          "colorscale": {
           "diverging": [
            [
             0,
             "#8e0152"
            ],
            [
             0.1,
             "#c51b7d"
            ],
            [
             0.2,
             "#de77ae"
            ],
            [
             0.3,
             "#f1b6da"
            ],
            [
             0.4,
             "#fde0ef"
            ],
            [
             0.5,
             "#f7f7f7"
            ],
            [
             0.6,
             "#e6f5d0"
            ],
            [
             0.7,
             "#b8e186"
            ],
            [
             0.8,
             "#7fbc41"
            ],
            [
             0.9,
             "#4d9221"
            ],
            [
             1,
             "#276419"
            ]
           ],
           "sequential": [
            [
             0,
             "#0d0887"
            ],
            [
             0.1111111111111111,
             "#46039f"
            ],
            [
             0.2222222222222222,
             "#7201a8"
            ],
            [
             0.3333333333333333,
             "#9c179e"
            ],
            [
             0.4444444444444444,
             "#bd3786"
            ],
            [
             0.5555555555555556,
             "#d8576b"
            ],
            [
             0.6666666666666666,
             "#ed7953"
            ],
            [
             0.7777777777777778,
             "#fb9f3a"
            ],
            [
             0.8888888888888888,
             "#fdca26"
            ],
            [
             1,
             "#f0f921"
            ]
           ],
           "sequentialminus": [
            [
             0,
             "#0d0887"
            ],
            [
             0.1111111111111111,
             "#46039f"
            ],
            [
             0.2222222222222222,
             "#7201a8"
            ],
            [
             0.3333333333333333,
             "#9c179e"
            ],
            [
             0.4444444444444444,
             "#bd3786"
            ],
            [
             0.5555555555555556,
             "#d8576b"
            ],
            [
             0.6666666666666666,
             "#ed7953"
            ],
            [
             0.7777777777777778,
             "#fb9f3a"
            ],
            [
             0.8888888888888888,
             "#fdca26"
            ],
            [
             1,
             "#f0f921"
            ]
           ]
          },
          "colorway": [
           "#636efa",
           "#EF553B",
           "#00cc96",
           "#ab63fa",
           "#FFA15A",
           "#19d3f3",
           "#FF6692",
           "#B6E880",
           "#FF97FF",
           "#FECB52"
          ],
          "font": {
           "color": "#2a3f5f"
          },
          "geo": {
           "bgcolor": "white",
           "lakecolor": "white",
           "landcolor": "#E5ECF6",
           "showlakes": true,
           "showland": true,
           "subunitcolor": "white"
          },
          "hoverlabel": {
           "align": "left"
          },
          "hovermode": "closest",
          "mapbox": {
           "style": "light"
          },
          "paper_bgcolor": "white",
          "plot_bgcolor": "#E5ECF6",
          "polar": {
           "angularaxis": {
            "gridcolor": "white",
            "linecolor": "white",
            "ticks": ""
           },
           "bgcolor": "#E5ECF6",
           "radialaxis": {
            "gridcolor": "white",
            "linecolor": "white",
            "ticks": ""
           }
          },
          "scene": {
           "xaxis": {
            "backgroundcolor": "#E5ECF6",
            "gridcolor": "white",
            "gridwidth": 2,
            "linecolor": "white",
            "showbackground": true,
            "ticks": "",
            "zerolinecolor": "white"
           },
           "yaxis": {
            "backgroundcolor": "#E5ECF6",
            "gridcolor": "white",
            "gridwidth": 2,
            "linecolor": "white",
            "showbackground": true,
            "ticks": "",
            "zerolinecolor": "white"
           },
           "zaxis": {
            "backgroundcolor": "#E5ECF6",
            "gridcolor": "white",
            "gridwidth": 2,
            "linecolor": "white",
            "showbackground": true,
            "ticks": "",
            "zerolinecolor": "white"
           }
          },
          "shapedefaults": {
           "line": {
            "color": "#2a3f5f"
           }
          },
          "ternary": {
           "aaxis": {
            "gridcolor": "white",
            "linecolor": "white",
            "ticks": ""
           },
           "baxis": {
            "gridcolor": "white",
            "linecolor": "white",
            "ticks": ""
           },
           "bgcolor": "#E5ECF6",
           "caxis": {
            "gridcolor": "white",
            "linecolor": "white",
            "ticks": ""
           }
          },
          "title": {
           "x": 0.05
          },
          "xaxis": {
           "automargin": true,
           "gridcolor": "white",
           "linecolor": "white",
           "ticks": "",
           "title": {
            "standoff": 15
           },
           "zerolinecolor": "white",
           "zerolinewidth": 2
          },
          "yaxis": {
           "automargin": true,
           "gridcolor": "white",
           "linecolor": "white",
           "ticks": "",
           "title": {
            "standoff": 15
           },
           "zerolinecolor": "white",
           "zerolinewidth": 2
          }
         }
        },
        "title": {
         "text": "Execution time of ForecasterRecursiveMultiSeries_predict"
        },
        "xaxis": {
         "anchor": "y",
         "categoryarray": [
          "0.12.0",
          "0.13.0",
          "0.14.0",
          "0.15.0"
         ],
         "categoryorder": "array",
         "domain": [
          0,
          1
         ],
         "title": {
          "text": "skforecast version"
         }
        },
        "yaxis": {
         "anchor": "x",
         "domain": [
          0,
          1
         ],
         "title": {
          "text": "Execution time (seconds)"
         }
        }
       }
      }
     },
     "metadata": {},
     "output_type": "display_data"
    }
   ],
   "source": [
    "# Plot results\n",
    "# ==============================================================================\n",
    "all_results = [\n",
    "    results_fit,\n",
    "    results_create_train_X_y,\n",
    "    results_create_train_X_y_single_series,\n",
    "    results_predict\n",
    "]\n",
    "\n",
    "for df in all_results:\n",
    "    function_name = df['function_name'].values[0]\n",
    "    plot_benchmark_results(df, function_name)"
   ]
  },
  {
   "cell_type": "code",
   "execution_count": null,
   "metadata": {},
   "outputs": [],
   "source": []
  }
 ],
 "metadata": {
  "kernelspec": {
   "display_name": "skforecast_16_py12",
   "language": "python",
   "name": "python3"
  },
  "language_info": {
   "codemirror_mode": {
    "name": "ipython",
    "version": 3
   },
   "file_extension": ".py",
   "mimetype": "text/x-python",
   "name": "python",
   "nbconvert_exporter": "python",
   "pygments_lexer": "ipython3",
   "version": "3.12.9"
  },
  "orig_nbformat": 4
 },
 "nbformat": 4,
 "nbformat_minor": 2
}
