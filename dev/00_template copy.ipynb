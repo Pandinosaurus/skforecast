{
 "cells": [
  {
   "cell_type": "code",
   "execution_count": 2,
   "metadata": {},
   "outputs": [
    {
     "name": "stdout",
     "output_type": "stream",
     "text": [
      "/home/ubuntu/varios/skforecast\n"
     ]
    }
   ],
   "source": [
    "%load_ext autoreload\n",
    "%autoreload 2\n",
    "import sys\n",
    "from pathlib import Path\n",
    "path = str(Path.cwd().parent)\n",
    "print(path)\n",
    "sys.path.insert(1, path)\n",
    "\n",
    "import numpy as np\n",
    "import pandas as pd"
   ]
  },
  {
   "cell_type": "code",
   "execution_count": 12,
   "metadata": {},
   "outputs": [],
   "source": [
    "# Unit test bayesian_search_forecaster_multiseries\n",
    "# ==============================================================================\n",
    "import re\n",
    "import pytest\n",
    "import joblib\n",
    "import numpy as np\n",
    "import pandas as pd\n",
    "from pathlib import Path\n",
    "from lightgbm import LGBMRegressor\n",
    "from sklearn.linear_model import Ridge\n",
    "from sklearn.preprocessing import StandardScaler\n",
    "from sklearn.metrics import mean_absolute_error\n",
    "from scipy.stats import norm\n",
    "\n",
    "from skforecast.exceptions import IgnoredArgumentWarning\n",
    "from skforecast.recursive import ForecasterRecursive\n",
    "from skforecast.recursive import ForecasterRecursiveMultiSeries\n",
    "from skforecast.direct import ForecasterDirectMultiVariate\n",
    "from skforecast.model_selection import backtesting_forecaster_multiseries\n",
    "from skforecast.model_selection._split import TimeSeriesFold\n",
    "from skforecast.preprocessing import RollingFeatures\n",
    "\n",
    "# Fixtures\n",
    "from skforecast.model_selection.tests.fixtures_model_selection_multiseries import series\n",
    "\n",
    "\n",
    "from skforecast.model_selection.tests.fixtures_model_selection_multiseries import series\n",
    "from skforecast.model_selection.tests.fixtures_model_selection_multiseries import custom_metric\n",
    "from skforecast.recursive.tests.tests_forecaster_recursive_multiseries.fixtures_forecaster_recursive_multiseries import expected_df_to_long_format\n",
    "THIS_DIR = Path('/home/ubuntu/varios/skforecast/skforecast/model_selection/tests')\n",
    "series_item_sales = pd.read_parquet(THIS_DIR/'fixture_multi_series_items_sales.parquet')\n",
    "series_item_sales = series_item_sales.asfreq('D')\n",
    "exog_item_sales = pd.DataFrame({'day_of_week': series_item_sales.index.dayofweek}, index = series_item_sales.index)\n",
    "series_dict = joblib.load(THIS_DIR/'fixture_sample_multi_series.joblib')\n",
    "exog_dict = joblib.load(THIS_DIR/'fixture_sample_multi_series_exog.joblib')\n",
    "end_train = \"2016-07-31 23:59:00\"\n",
    "series_dict_train = {k: v.loc[:end_train,] for k, v in series_dict.items()}\n",
    "exog_dict_train = {k: v.loc[:end_train,] for k, v in exog_dict.items()}\n",
    "series_dict_test = {k: v.loc[end_train:,] for k, v in series_dict.items()}\n",
    "exog_dict_test = {k: v.loc[end_train:,] for k, v in exog_dict.items()}"
   ]
  },
  {
   "cell_type": "code",
   "execution_count": 20,
   "metadata": {},
   "outputs": [
    {
     "name": "stdout",
     "output_type": "stream",
     "text": [
      "Information of folds\n",
      "--------------------\n",
      "Number of observations used for initial training: 212\n",
      "    First 1 observation/s in training sets are used for differentiation\n",
      "Number of observations used for backtesting: 153\n",
      "    Number of folds: 7\n",
      "    Number skipped folds: 0 \n",
      "    Number of steps per fold: 24\n",
      "    Number of steps to exclude between last observed data (last window) and predictions (gap): 0\n",
      "    Last fold only includes 9 observations.\n",
      "\n",
      "Fold: 0\n",
      "    Training:   2016-01-02 00:00:00 -- 2016-07-31 00:00:00  (n=212)\n",
      "    Validation: 2016-08-01 00:00:00 -- 2016-08-24 00:00:00  (n=24)\n",
      "Fold: 1\n",
      "    Training:   No training in this fold\n",
      "    Validation: 2016-08-25 00:00:00 -- 2016-09-17 00:00:00  (n=24)\n",
      "Fold: 2\n",
      "    Training:   No training in this fold\n",
      "    Validation: 2016-09-18 00:00:00 -- 2016-10-11 00:00:00  (n=24)\n",
      "Fold: 3\n",
      "    Training:   No training in this fold\n",
      "    Validation: 2016-10-12 00:00:00 -- 2016-11-04 00:00:00  (n=24)\n",
      "Fold: 4\n",
      "    Training:   No training in this fold\n",
      "    Validation: 2016-11-05 00:00:00 -- 2016-11-28 00:00:00  (n=24)\n",
      "Fold: 5\n",
      "    Training:   No training in this fold\n",
      "    Validation: 2016-11-29 00:00:00 -- 2016-12-22 00:00:00  (n=24)\n",
      "Fold: 6\n",
      "    Training:   No training in this fold\n",
      "    Validation: 2016-12-23 00:00:00 -- 2016-12-31 00:00:00  (n=9)\n",
      "\n"
     ]
    },
    {
     "data": {
      "application/vnd.jupyter.widget-view+json": {
       "model_id": "88c898f08695431eb9a42b65b67ddac4",
       "version_major": 2,
       "version_minor": 0
      },
      "text/plain": [
       "  0%|          | 0/7 [00:00<?, ?it/s]"
      ]
     },
     "metadata": {},
     "output_type": "display_data"
    },
    {
     "ename": "AssertionError",
     "evalue": "DataFrame.iloc[:, 2] (column name=\"mean_absolute_scaled_error\") are different\n\nDataFrame.iloc[:, 2] (column name=\"mean_absolute_scaled_error\") values are different (50.0 %)\n[index]: [0, 1, 2, 3, 4, 5, 6, 7]\n[left]:  [1.0835376623490711, 3.1671656660510625, nan, 5.4872216266448595, 0.8435215951118011, 2.645361637539198, 2.555504352930781, 1.9838266411338281]\n[right]: [1.08353766, 3.16716567, nan, 5.4865466, 0.8435216, 2.64519288, 2.55539804, 1.98180886]\nAt positional index 3, first diff: 5.4872216266448595 != 5.4865466",
     "output_type": "error",
     "traceback": [
      "\u001b[0;31m---------------------------------------------------------------------------\u001b[0m",
      "\u001b[0;31mAssertionError\u001b[0m                            Traceback (most recent call last)",
      "Cell \u001b[0;32mIn[20], line 67\u001b[0m\n\u001b[1;32m     50\u001b[0m expected_predictions \u001b[38;5;241m=\u001b[39m pd\u001b[38;5;241m.\u001b[39mDataFrame(\n\u001b[1;32m     51\u001b[0m     data\u001b[38;5;241m=\u001b[39mnp\u001b[38;5;241m.\u001b[39marray([\n\u001b[1;32m     52\u001b[0m         [\u001b[38;5;241m1351.44874045\u001b[39m, \u001b[38;5;241m3267.13419659\u001b[39m, \u001b[38;5;241m3843.06135374\u001b[39m, \u001b[38;5;241m7220.15909652\u001b[39m],\n\u001b[0;32m   (...)\u001b[0m\n\u001b[1;32m     63\u001b[0m     columns\u001b[38;5;241m=\u001b[39m[\u001b[38;5;124m'\u001b[39m\u001b[38;5;124mid_1000\u001b[39m\u001b[38;5;124m'\u001b[39m, \u001b[38;5;124m'\u001b[39m\u001b[38;5;124mid_1001\u001b[39m\u001b[38;5;124m'\u001b[39m, \u001b[38;5;124m'\u001b[39m\u001b[38;5;124mid_1003\u001b[39m\u001b[38;5;124m'\u001b[39m, \u001b[38;5;124m'\u001b[39m\u001b[38;5;124mid_1004\u001b[39m\u001b[38;5;124m'\u001b[39m]\n\u001b[1;32m     64\u001b[0m )\n\u001b[1;32m     65\u001b[0m expected_predictions \u001b[38;5;241m=\u001b[39m expected_df_to_long_format(expected_predictions)\n\u001b[0;32m---> 67\u001b[0m \u001b[43mpd\u001b[49m\u001b[38;5;241;43m.\u001b[39;49m\u001b[43mtesting\u001b[49m\u001b[38;5;241;43m.\u001b[39;49m\u001b[43massert_frame_equal\u001b[49m\u001b[43m(\u001b[49m\u001b[43mmetrics\u001b[49m\u001b[43m,\u001b[49m\u001b[43m \u001b[49m\u001b[43mexpected_metrics\u001b[49m\u001b[43m)\u001b[49m\n\u001b[1;32m     68\u001b[0m pd\u001b[38;5;241m.\u001b[39mtesting\u001b[38;5;241m.\u001b[39massert_frame_equal(predictions\u001b[38;5;241m.\u001b[39mhead(\u001b[38;5;241m40\u001b[39m), expected_predictions)\n",
      "    \u001b[0;31m[... skipping hidden 2 frame]\u001b[0m\n",
      "File \u001b[0;32mtesting.pyx:55\u001b[0m, in \u001b[0;36mpandas._libs.testing.assert_almost_equal\u001b[0;34m()\u001b[0m\n",
      "File \u001b[0;32mtesting.pyx:173\u001b[0m, in \u001b[0;36mpandas._libs.testing.assert_almost_equal\u001b[0;34m()\u001b[0m\n",
      "File \u001b[0;32m~/anaconda3/envs/skforecast_15_py12/lib/python3.12/site-packages/pandas/_testing/asserters.py:614\u001b[0m, in \u001b[0;36mraise_assert_detail\u001b[0;34m(obj, message, left, right, diff, first_diff, index_values)\u001b[0m\n\u001b[1;32m    611\u001b[0m \u001b[38;5;28;01mif\u001b[39;00m first_diff \u001b[38;5;129;01mis\u001b[39;00m \u001b[38;5;129;01mnot\u001b[39;00m \u001b[38;5;28;01mNone\u001b[39;00m:\n\u001b[1;32m    612\u001b[0m     msg \u001b[38;5;241m+\u001b[39m\u001b[38;5;241m=\u001b[39m \u001b[38;5;124mf\u001b[39m\u001b[38;5;124m\"\u001b[39m\u001b[38;5;130;01m\\n\u001b[39;00m\u001b[38;5;132;01m{\u001b[39;00mfirst_diff\u001b[38;5;132;01m}\u001b[39;00m\u001b[38;5;124m\"\u001b[39m\n\u001b[0;32m--> 614\u001b[0m \u001b[38;5;28;01mraise\u001b[39;00m \u001b[38;5;167;01mAssertionError\u001b[39;00m(msg)\n",
      "\u001b[0;31mAssertionError\u001b[0m: DataFrame.iloc[:, 2] (column name=\"mean_absolute_scaled_error\") are different\n\nDataFrame.iloc[:, 2] (column name=\"mean_absolute_scaled_error\") values are different (50.0 %)\n[index]: [0, 1, 2, 3, 4, 5, 6, 7]\n[left]:  [1.0835376623490711, 3.1671656660510625, nan, 5.4872216266448595, 0.8435215951118011, 2.645361637539198, 2.555504352930781, 1.9838266411338281]\n[right]: [1.08353766, 3.16716567, nan, 5.4865466, 0.8435216, 2.64519288, 2.55539804, 1.98180886]\nAt positional index 3, first diff: 5.4872216266448595 != 5.4865466"
     ]
    }
   ],
   "source": [
    "forecaster = ForecasterRecursiveMultiSeries(\n",
    "    regressor=LGBMRegressor(\n",
    "        n_estimators=30, random_state=123, verbose=-1, max_depth=4\n",
    "    ),\n",
    "    lags=[1, 7, 14],\n",
    "    encoding=None,\n",
    "    differentiation=1,\n",
    "    dropna_from_series=False,\n",
    "    transformer_series=None,\n",
    "    transformer_exog=StandardScaler(),\n",
    ")\n",
    "\n",
    "cv = TimeSeriesFold(\n",
    "            initial_train_size = len(series_dict_train['id_1000']),\n",
    "            steps              = 24,\n",
    "            refit              = False,\n",
    "            fixed_train_size   = True,\n",
    "            gap                = 0,\n",
    "            differentiation    = forecaster.differentiation_max\n",
    "        )\n",
    "\n",
    "metrics, predictions = backtesting_forecaster_multiseries(\n",
    "    forecaster        = forecaster,\n",
    "    series            = series_dict,\n",
    "    exog              = exog_dict,\n",
    "    cv                = cv,\n",
    "    metric            = ['mean_absolute_error', 'mean_absolute_scaled_error'],\n",
    "    n_jobs            = 'auto',\n",
    "    verbose           = True,\n",
    "    show_progress     = True,\n",
    "    suppress_warnings = True\n",
    ")\n",
    "\n",
    "expected_metrics = pd.DataFrame(\n",
    "    data={\n",
    "        'levels': [\n",
    "            'id_1000', 'id_1001', 'id_1002', 'id_1003', 'id_1004',\n",
    "            'average', 'weighted_average', 'pooling'\n",
    "        ],\n",
    "        'mean_absolute_error': [\n",
    "            234.51032919, 1145.83513569, np.nan, 1342.06986733,\n",
    "            1025.76779699, 937.0457823, 818.85514869, 818.85514869\n",
    "        ],\n",
    "        'mean_absolute_scaled_error': [\n",
    "            1.08353766, 3.16716567, np.nan, 5.4865466 ,\n",
    "            0.8435216 , 2.64519288, 2.55539804, 1.98180886\n",
    "        ]\n",
    "    }\n",
    ")\n",
    "expected_predictions = pd.DataFrame(\n",
    "    data=np.array([\n",
    "        [1351.44874045, 3267.13419659, 3843.06135374, 7220.15909652],\n",
    "        [1411.73786344, 3537.21728977, 3823.777024  , 7541.54119992],\n",
    "        [1367.56233886, 3595.37617537, 3861.96220571, 7599.93110962],\n",
    "        [1349.98221742, 3730.36025071, 3900.14738742, 7997.86353537],\n",
    "        [1330.33321825, 3752.7395927 , 3850.39111741, 7923.44398373],\n",
    "        [1045.2013386 , 2652.15007539, 4227.38385608, 6651.39787084],\n",
    "        [ 801.6084919 , 2059.57604816,        np.nan, 5625.61804572],\n",
    "        [1473.95692547, 3159.99921219,        np.nan, 6740.53028097],\n",
    "        [1596.51499989, 3449.40467366,        np.nan, 7172.21235605],\n",
    "        [1572.31317919, 3507.56355926,        np.nan, 7506.35124681]]),\n",
    "    index=pd.date_range('2016-08-01', periods=10, freq='D'),\n",
    "    columns=['id_1000', 'id_1001', 'id_1003', 'id_1004']\n",
    ")\n",
    "expected_predictions = expected_df_to_long_format(expected_predictions)\n",
    "\n",
    "pd.testing.assert_frame_equal(metrics, expected_metrics)\n",
    "pd.testing.assert_frame_equal(predictions.head(40), expected_predictions)"
   ]
  },
  {
   "cell_type": "code",
   "execution_count": 21,
   "metadata": {},
   "outputs": [
    {
     "data": {
      "application/vnd.microsoft.datawrangler.viewer.v0+json": {
       "columns": [
        {
         "name": "index",
         "rawType": "int64",
         "type": "integer"
        },
        {
         "name": "levels",
         "rawType": "object",
         "type": "string"
        },
        {
         "name": "mean_absolute_error",
         "rawType": "float64",
         "type": "float"
        },
        {
         "name": "mean_absolute_scaled_error",
         "rawType": "float64",
         "type": "float"
        }
       ],
       "conversionMethod": "pd.DataFrame",
       "ref": "d2a29773-9a24-465f-9b4a-275f0512607b",
       "rows": [
        [
         "0",
         "id_1000",
         "234.51032918536168",
         "1.0835376623490711"
        ],
        [
         "1",
         "id_1001",
         "1145.835135690357",
         "3.1671656660510625"
        ],
        [
         "2",
         "id_1002",
         null,
         null
        ],
        [
         "3",
         "id_1003",
         "1342.0698673255865",
         "5.4872216266448595"
        ],
        [
         "4",
         "id_1004",
         "1025.7677969852912",
         "0.8435215951118011"
        ],
        [
         "5",
         "average",
         "937.0457822966491",
         "2.645361637539198"
        ],
        [
         "6",
         "weighted_average",
         "818.8551486851023",
         "2.555504352930781"
        ],
        [
         "7",
         "pooling",
         "818.8551486851023",
         "1.9838266411338281"
        ]
       ],
       "shape": {
        "columns": 3,
        "rows": 8
       }
      },
      "text/html": [
       "<div>\n",
       "<style scoped>\n",
       "    .dataframe tbody tr th:only-of-type {\n",
       "        vertical-align: middle;\n",
       "    }\n",
       "\n",
       "    .dataframe tbody tr th {\n",
       "        vertical-align: top;\n",
       "    }\n",
       "\n",
       "    .dataframe thead th {\n",
       "        text-align: right;\n",
       "    }\n",
       "</style>\n",
       "<table border=\"1\" class=\"dataframe\">\n",
       "  <thead>\n",
       "    <tr style=\"text-align: right;\">\n",
       "      <th></th>\n",
       "      <th>levels</th>\n",
       "      <th>mean_absolute_error</th>\n",
       "      <th>mean_absolute_scaled_error</th>\n",
       "    </tr>\n",
       "  </thead>\n",
       "  <tbody>\n",
       "    <tr>\n",
       "      <th>0</th>\n",
       "      <td>id_1000</td>\n",
       "      <td>234.510329</td>\n",
       "      <td>1.083538</td>\n",
       "    </tr>\n",
       "    <tr>\n",
       "      <th>1</th>\n",
       "      <td>id_1001</td>\n",
       "      <td>1145.835136</td>\n",
       "      <td>3.167166</td>\n",
       "    </tr>\n",
       "    <tr>\n",
       "      <th>2</th>\n",
       "      <td>id_1002</td>\n",
       "      <td>NaN</td>\n",
       "      <td>NaN</td>\n",
       "    </tr>\n",
       "    <tr>\n",
       "      <th>3</th>\n",
       "      <td>id_1003</td>\n",
       "      <td>1342.069867</td>\n",
       "      <td>5.487222</td>\n",
       "    </tr>\n",
       "    <tr>\n",
       "      <th>4</th>\n",
       "      <td>id_1004</td>\n",
       "      <td>1025.767797</td>\n",
       "      <td>0.843522</td>\n",
       "    </tr>\n",
       "    <tr>\n",
       "      <th>5</th>\n",
       "      <td>average</td>\n",
       "      <td>937.045782</td>\n",
       "      <td>2.645362</td>\n",
       "    </tr>\n",
       "    <tr>\n",
       "      <th>6</th>\n",
       "      <td>weighted_average</td>\n",
       "      <td>818.855149</td>\n",
       "      <td>2.555504</td>\n",
       "    </tr>\n",
       "    <tr>\n",
       "      <th>7</th>\n",
       "      <td>pooling</td>\n",
       "      <td>818.855149</td>\n",
       "      <td>1.983827</td>\n",
       "    </tr>\n",
       "  </tbody>\n",
       "</table>\n",
       "</div>"
      ],
      "text/plain": [
       "             levels  mean_absolute_error  mean_absolute_scaled_error\n",
       "0           id_1000           234.510329                    1.083538\n",
       "1           id_1001          1145.835136                    3.167166\n",
       "2           id_1002                  NaN                         NaN\n",
       "3           id_1003          1342.069867                    5.487222\n",
       "4           id_1004          1025.767797                    0.843522\n",
       "5           average           937.045782                    2.645362\n",
       "6  weighted_average           818.855149                    2.555504\n",
       "7           pooling           818.855149                    1.983827"
      ]
     },
     "execution_count": 21,
     "metadata": {},
     "output_type": "execute_result"
    }
   ],
   "source": [
    "metrics"
   ]
  },
  {
   "cell_type": "code",
   "execution_count": 22,
   "metadata": {},
   "outputs": [
    {
     "data": {
      "application/vnd.microsoft.datawrangler.viewer.v0+json": {
       "columns": [
        {
         "name": "index",
         "rawType": "int64",
         "type": "integer"
        },
        {
         "name": "levels",
         "rawType": "object",
         "type": "string"
        },
        {
         "name": "mean_absolute_error",
         "rawType": "float64",
         "type": "float"
        },
        {
         "name": "mean_absolute_scaled_error",
         "rawType": "float64",
         "type": "float"
        }
       ],
       "conversionMethod": "pd.DataFrame",
       "ref": "2322b62d-82f6-4432-826d-5e556e21397c",
       "rows": [
        [
         "0",
         "id_1000",
         "234.51032919",
         "1.08353766"
        ],
        [
         "1",
         "id_1001",
         "1145.83513569",
         "3.16716567"
        ],
        [
         "2",
         "id_1002",
         null,
         null
        ],
        [
         "3",
         "id_1003",
         "1342.06986733",
         "5.4865466"
        ],
        [
         "4",
         "id_1004",
         "1025.76779699",
         "0.8435216"
        ],
        [
         "5",
         "average",
         "937.0457823",
         "2.64519288"
        ],
        [
         "6",
         "weighted_average",
         "818.85514869",
         "2.55539804"
        ],
        [
         "7",
         "pooling",
         "818.85514869",
         "1.98180886"
        ]
       ],
       "shape": {
        "columns": 3,
        "rows": 8
       }
      },
      "text/html": [
       "<div>\n",
       "<style scoped>\n",
       "    .dataframe tbody tr th:only-of-type {\n",
       "        vertical-align: middle;\n",
       "    }\n",
       "\n",
       "    .dataframe tbody tr th {\n",
       "        vertical-align: top;\n",
       "    }\n",
       "\n",
       "    .dataframe thead th {\n",
       "        text-align: right;\n",
       "    }\n",
       "</style>\n",
       "<table border=\"1\" class=\"dataframe\">\n",
       "  <thead>\n",
       "    <tr style=\"text-align: right;\">\n",
       "      <th></th>\n",
       "      <th>levels</th>\n",
       "      <th>mean_absolute_error</th>\n",
       "      <th>mean_absolute_scaled_error</th>\n",
       "    </tr>\n",
       "  </thead>\n",
       "  <tbody>\n",
       "    <tr>\n",
       "      <th>0</th>\n",
       "      <td>id_1000</td>\n",
       "      <td>234.510329</td>\n",
       "      <td>1.083538</td>\n",
       "    </tr>\n",
       "    <tr>\n",
       "      <th>1</th>\n",
       "      <td>id_1001</td>\n",
       "      <td>1145.835136</td>\n",
       "      <td>3.167166</td>\n",
       "    </tr>\n",
       "    <tr>\n",
       "      <th>2</th>\n",
       "      <td>id_1002</td>\n",
       "      <td>NaN</td>\n",
       "      <td>NaN</td>\n",
       "    </tr>\n",
       "    <tr>\n",
       "      <th>3</th>\n",
       "      <td>id_1003</td>\n",
       "      <td>1342.069867</td>\n",
       "      <td>5.486547</td>\n",
       "    </tr>\n",
       "    <tr>\n",
       "      <th>4</th>\n",
       "      <td>id_1004</td>\n",
       "      <td>1025.767797</td>\n",
       "      <td>0.843522</td>\n",
       "    </tr>\n",
       "    <tr>\n",
       "      <th>5</th>\n",
       "      <td>average</td>\n",
       "      <td>937.045782</td>\n",
       "      <td>2.645193</td>\n",
       "    </tr>\n",
       "    <tr>\n",
       "      <th>6</th>\n",
       "      <td>weighted_average</td>\n",
       "      <td>818.855149</td>\n",
       "      <td>2.555398</td>\n",
       "    </tr>\n",
       "    <tr>\n",
       "      <th>7</th>\n",
       "      <td>pooling</td>\n",
       "      <td>818.855149</td>\n",
       "      <td>1.981809</td>\n",
       "    </tr>\n",
       "  </tbody>\n",
       "</table>\n",
       "</div>"
      ],
      "text/plain": [
       "             levels  mean_absolute_error  mean_absolute_scaled_error\n",
       "0           id_1000           234.510329                    1.083538\n",
       "1           id_1001          1145.835136                    3.167166\n",
       "2           id_1002                  NaN                         NaN\n",
       "3           id_1003          1342.069867                    5.486547\n",
       "4           id_1004          1025.767797                    0.843522\n",
       "5           average           937.045782                    2.645193\n",
       "6  weighted_average           818.855149                    2.555398\n",
       "7           pooling           818.855149                    1.981809"
      ]
     },
     "execution_count": 22,
     "metadata": {},
     "output_type": "execute_result"
    }
   ],
   "source": [
    "expected_metrics"
   ]
  }
 ],
 "metadata": {
  "kernelspec": {
   "display_name": "skforecast_15_py12",
   "language": "python",
   "name": "python3"
  },
  "language_info": {
   "codemirror_mode": {
    "name": "ipython",
    "version": 3
   },
   "file_extension": ".py",
   "mimetype": "text/x-python",
   "name": "python",
   "nbconvert_exporter": "python",
   "pygments_lexer": "ipython3",
   "version": "3.12.9"
  },
  "orig_nbformat": 4
 },
 "nbformat": 4,
 "nbformat_minor": 2
}
