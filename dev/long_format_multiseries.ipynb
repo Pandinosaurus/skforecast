{
 "cells": [
  {
   "attachments": {},
   "cell_type": "markdown",
   "metadata": {},
   "source": [
    "# Profiling main skforecast classes and methods"
   ]
  },
  {
   "cell_type": "code",
   "execution_count": 140,
   "metadata": {},
   "outputs": [
    {
     "name": "stdout",
     "output_type": "stream",
     "text": [
      "The autoreload extension is already loaded. To reload it, use:\n",
      "  %reload_ext autoreload\n"
     ]
    },
    {
     "data": {
      "text/plain": [
       "'/home/ubuntu/varios/skforecast'"
      ]
     },
     "execution_count": 140,
     "metadata": {},
     "output_type": "execute_result"
    }
   ],
   "source": [
    "%load_ext autoreload\n",
    "%autoreload 2\n",
    "import sys\n",
    "from pathlib import Path\n",
    "sys.path.insert(1, str(Path.cwd().parent))\n",
    "str(Path.cwd().parent)"
   ]
  },
  {
   "cell_type": "code",
   "execution_count": 141,
   "metadata": {},
   "outputs": [
    {
     "name": "stdout",
     "output_type": "stream",
     "text": [
      "The pyinstrument extension is already loaded. To reload it, use:\n",
      "  %reload_ext pyinstrument\n",
      "The line_profiler extension is already loaded. To reload it, use:\n",
      "  %reload_ext line_profiler\n"
     ]
    }
   ],
   "source": [
    "import platform\n",
    "import psutil\n",
    "import skforecast\n",
    "import pandas as pd\n",
    "import numpy as np\n",
    "import scipy\n",
    "import sklearn\n",
    "import numpy as np\n",
    "import pandas as pd\n",
    "from sklearn.linear_model import Ridge\n",
    "from sklearn.preprocessing import StandardScaler\n",
    "from lightgbm import LGBMRegressor\n",
    "from skforecast.recursive import ForecasterRecursiveMultiSeries\n",
    "from skforecast.model_selection import grid_search_forecaster_multiseries\n",
    "from skforecast.utils.utils import align_series_and_exog_multiseries\n",
    "from sklearn.preprocessing import OrdinalEncoder\n",
    "from sklearn.compose import make_column_transformer\n",
    "from skforecast.preprocessing import series_long_to_dict\n",
    "from skforecast.preprocessing import exog_long_to_dict\n",
    "from skforecast.datasets import fetch_dataset\n",
    "\n",
    "%load_ext pyinstrument\n",
    "%load_ext line_profiler"
   ]
  },
  {
   "cell_type": "code",
   "execution_count": 142,
   "metadata": {},
   "outputs": [
    {
     "name": "stdout",
     "output_type": "stream",
     "text": [
      "None\n"
     ]
    },
    {
     "data": {
      "application/vnd.microsoft.datawrangler.viewer.v0+json": {
       "columns": [
        {
         "name": "datetime",
         "rawType": "datetime64[ns]",
         "type": "datetime"
        },
        {
         "name": "series",
         "rawType": "object",
         "type": "string"
        },
        {
         "name": "value",
         "rawType": "int64",
         "type": "integer"
        }
       ],
       "conversionMethod": "pd.DataFrame",
       "ref": "8d83c17a-c0c6-4eb6-8da7-b05aea1fd685",
       "rows": [
        [
         "2000-01-01 00:00:00",
         "series_1",
         "1"
        ],
        [
         "2000-01-02 00:00:00",
         "series_1",
         "2"
        ],
        [
         "2000-01-03 00:00:00",
         "series_1",
         "3"
        ],
        [
         "2000-01-04 00:00:00",
         "series_1",
         "4"
        ],
        [
         "2000-01-05 00:00:00",
         "series_1",
         "5"
        ],
        [
         "2000-01-06 00:00:00",
         "series_1",
         "6"
        ],
        [
         "2000-01-07 00:00:00",
         "series_1",
         "7"
        ],
        [
         "2000-01-08 00:00:00",
         "series_1",
         "8"
        ],
        [
         "2000-01-09 00:00:00",
         "series_1",
         "9"
        ],
        [
         "2000-01-10 00:00:00",
         "series_1",
         "10"
        ],
        [
         "2000-01-01 00:00:00",
         "series_2",
         "20"
        ],
        [
         "2000-01-02 00:00:00",
         "series_2",
         "30"
        ],
        [
         "2000-01-03 00:00:00",
         "series_2",
         "40"
        ],
        [
         "2000-01-04 00:00:00",
         "series_2",
         "50"
        ],
        [
         "2000-01-05 00:00:00",
         "series_2",
         "60"
        ],
        [
         "2000-01-06 00:00:00",
         "series_2",
         "70"
        ],
        [
         "2000-01-07 00:00:00",
         "series_2",
         "80"
        ],
        [
         "2000-01-08 00:00:00",
         "series_2",
         "90"
        ],
        [
         "2000-01-09 00:00:00",
         "series_2",
         "100"
        ],
        [
         "2000-01-10 00:00:00",
         "series_2",
         "110"
        ]
       ],
       "shape": {
        "columns": 2,
        "rows": 20
       }
      },
      "text/html": [
       "<div>\n",
       "<style scoped>\n",
       "    .dataframe tbody tr th:only-of-type {\n",
       "        vertical-align: middle;\n",
       "    }\n",
       "\n",
       "    .dataframe tbody tr th {\n",
       "        vertical-align: top;\n",
       "    }\n",
       "\n",
       "    .dataframe thead th {\n",
       "        text-align: right;\n",
       "    }\n",
       "</style>\n",
       "<table border=\"1\" class=\"dataframe\">\n",
       "  <thead>\n",
       "    <tr style=\"text-align: right;\">\n",
       "      <th></th>\n",
       "      <th>series</th>\n",
       "      <th>value</th>\n",
       "    </tr>\n",
       "    <tr>\n",
       "      <th>datetime</th>\n",
       "      <th></th>\n",
       "      <th></th>\n",
       "    </tr>\n",
       "  </thead>\n",
       "  <tbody>\n",
       "    <tr>\n",
       "      <th>2000-01-01</th>\n",
       "      <td>series_1</td>\n",
       "      <td>1</td>\n",
       "    </tr>\n",
       "    <tr>\n",
       "      <th>2000-01-02</th>\n",
       "      <td>series_1</td>\n",
       "      <td>2</td>\n",
       "    </tr>\n",
       "    <tr>\n",
       "      <th>2000-01-03</th>\n",
       "      <td>series_1</td>\n",
       "      <td>3</td>\n",
       "    </tr>\n",
       "    <tr>\n",
       "      <th>2000-01-04</th>\n",
       "      <td>series_1</td>\n",
       "      <td>4</td>\n",
       "    </tr>\n",
       "    <tr>\n",
       "      <th>2000-01-05</th>\n",
       "      <td>series_1</td>\n",
       "      <td>5</td>\n",
       "    </tr>\n",
       "    <tr>\n",
       "      <th>2000-01-06</th>\n",
       "      <td>series_1</td>\n",
       "      <td>6</td>\n",
       "    </tr>\n",
       "    <tr>\n",
       "      <th>2000-01-07</th>\n",
       "      <td>series_1</td>\n",
       "      <td>7</td>\n",
       "    </tr>\n",
       "    <tr>\n",
       "      <th>2000-01-08</th>\n",
       "      <td>series_1</td>\n",
       "      <td>8</td>\n",
       "    </tr>\n",
       "    <tr>\n",
       "      <th>2000-01-09</th>\n",
       "      <td>series_1</td>\n",
       "      <td>9</td>\n",
       "    </tr>\n",
       "    <tr>\n",
       "      <th>2000-01-10</th>\n",
       "      <td>series_1</td>\n",
       "      <td>10</td>\n",
       "    </tr>\n",
       "    <tr>\n",
       "      <th>2000-01-01</th>\n",
       "      <td>series_2</td>\n",
       "      <td>20</td>\n",
       "    </tr>\n",
       "    <tr>\n",
       "      <th>2000-01-02</th>\n",
       "      <td>series_2</td>\n",
       "      <td>30</td>\n",
       "    </tr>\n",
       "    <tr>\n",
       "      <th>2000-01-03</th>\n",
       "      <td>series_2</td>\n",
       "      <td>40</td>\n",
       "    </tr>\n",
       "    <tr>\n",
       "      <th>2000-01-04</th>\n",
       "      <td>series_2</td>\n",
       "      <td>50</td>\n",
       "    </tr>\n",
       "    <tr>\n",
       "      <th>2000-01-05</th>\n",
       "      <td>series_2</td>\n",
       "      <td>60</td>\n",
       "    </tr>\n",
       "    <tr>\n",
       "      <th>2000-01-06</th>\n",
       "      <td>series_2</td>\n",
       "      <td>70</td>\n",
       "    </tr>\n",
       "    <tr>\n",
       "      <th>2000-01-07</th>\n",
       "      <td>series_2</td>\n",
       "      <td>80</td>\n",
       "    </tr>\n",
       "    <tr>\n",
       "      <th>2000-01-08</th>\n",
       "      <td>series_2</td>\n",
       "      <td>90</td>\n",
       "    </tr>\n",
       "    <tr>\n",
       "      <th>2000-01-09</th>\n",
       "      <td>series_2</td>\n",
       "      <td>100</td>\n",
       "    </tr>\n",
       "    <tr>\n",
       "      <th>2000-01-10</th>\n",
       "      <td>series_2</td>\n",
       "      <td>110</td>\n",
       "    </tr>\n",
       "  </tbody>\n",
       "</table>\n",
       "</div>"
      ],
      "text/plain": [
       "              series  value\n",
       "datetime                   \n",
       "2000-01-01  series_1      1\n",
       "2000-01-02  series_1      2\n",
       "2000-01-03  series_1      3\n",
       "2000-01-04  series_1      4\n",
       "2000-01-05  series_1      5\n",
       "2000-01-06  series_1      6\n",
       "2000-01-07  series_1      7\n",
       "2000-01-08  series_1      8\n",
       "2000-01-09  series_1      9\n",
       "2000-01-10  series_1     10\n",
       "2000-01-01  series_2     20\n",
       "2000-01-02  series_2     30\n",
       "2000-01-03  series_2     40\n",
       "2000-01-04  series_2     50\n",
       "2000-01-05  series_2     60\n",
       "2000-01-06  series_2     70\n",
       "2000-01-07  series_2     80\n",
       "2000-01-08  series_2     90\n",
       "2000-01-09  series_2    100\n",
       "2000-01-10  series_2    110"
      ]
     },
     "execution_count": 142,
     "metadata": {},
     "output_type": "execute_result"
    }
   ],
   "source": [
    "series_1 = pd.Series([1, 2, 3, 4, 5, 6, 7, 8, 9, 10], index=pd.date_range(start='2000-01-01', periods=10, freq='D'), name='series_1')\n",
    "series_2 = pd.Series([20, 30, 40, 50, 60, 70, 80, 90, 100, 110], index=pd.date_range(start='2000-01-01', periods=10, freq='D'), name='series_2')\n",
    "series = pd.concat([series_1, series_2], axis=1).melt(var_name='series', value_name='value', ignore_index=False)\n",
    "series = series.rename_axis('datetime')\n",
    "print(series.index.freq)\n",
    "series"
   ]
  },
  {
   "cell_type": "code",
   "execution_count": null,
   "metadata": {},
   "outputs": [
    {
     "data": {
      "application/vnd.microsoft.datawrangler.viewer.v0+json": {
       "columns": [
        {
         "name": "('series', 'datetime')",
         "rawType": "object",
         "type": "unknown"
        },
        {
         "name": "value",
         "rawType": "int64",
         "type": "integer"
        }
       ],
       "conversionMethod": "pd.DataFrame",
       "ref": "3613bfa1-246b-4745-9575-a86873a5ddf6",
       "rows": [
        [
         "('series_1', Timestamp('2000-01-01 00:00:00'))",
         "1"
        ],
        [
         "('series_1', Timestamp('2000-01-02 00:00:00'))",
         "2"
        ],
        [
         "('series_1', Timestamp('2000-01-03 00:00:00'))",
         "3"
        ],
        [
         "('series_1', Timestamp('2000-01-04 00:00:00'))",
         "4"
        ],
        [
         "('series_1', Timestamp('2000-01-05 00:00:00'))",
         "5"
        ],
        [
         "('series_1', Timestamp('2000-01-06 00:00:00'))",
         "6"
        ],
        [
         "('series_1', Timestamp('2000-01-07 00:00:00'))",
         "7"
        ],
        [
         "('series_1', Timestamp('2000-01-08 00:00:00'))",
         "8"
        ],
        [
         "('series_1', Timestamp('2000-01-09 00:00:00'))",
         "9"
        ],
        [
         "('series_1', Timestamp('2000-01-10 00:00:00'))",
         "10"
        ],
        [
         "('series_2', Timestamp('2000-01-01 00:00:00'))",
         "20"
        ],
        [
         "('series_2', Timestamp('2000-01-02 00:00:00'))",
         "30"
        ],
        [
         "('series_2', Timestamp('2000-01-03 00:00:00'))",
         "40"
        ],
        [
         "('series_2', Timestamp('2000-01-04 00:00:00'))",
         "50"
        ],
        [
         "('series_2', Timestamp('2000-01-05 00:00:00'))",
         "60"
        ],
        [
         "('series_2', Timestamp('2000-01-06 00:00:00'))",
         "70"
        ],
        [
         "('series_2', Timestamp('2000-01-07 00:00:00'))",
         "80"
        ],
        [
         "('series_2', Timestamp('2000-01-08 00:00:00'))",
         "90"
        ],
        [
         "('series_2', Timestamp('2000-01-09 00:00:00'))",
         "100"
        ],
        [
         "('series_2', Timestamp('2000-01-10 00:00:00'))",
         "110"
        ]
       ],
       "shape": {
        "columns": 1,
        "rows": 20
       }
      },
      "text/html": [
       "<div>\n",
       "<style scoped>\n",
       "    .dataframe tbody tr th:only-of-type {\n",
       "        vertical-align: middle;\n",
       "    }\n",
       "\n",
       "    .dataframe tbody tr th {\n",
       "        vertical-align: top;\n",
       "    }\n",
       "\n",
       "    .dataframe thead th {\n",
       "        text-align: right;\n",
       "    }\n",
       "</style>\n",
       "<table border=\"1\" class=\"dataframe\">\n",
       "  <thead>\n",
       "    <tr style=\"text-align: right;\">\n",
       "      <th></th>\n",
       "      <th></th>\n",
       "      <th>value</th>\n",
       "    </tr>\n",
       "    <tr>\n",
       "      <th>series</th>\n",
       "      <th>datetime</th>\n",
       "      <th></th>\n",
       "    </tr>\n",
       "  </thead>\n",
       "  <tbody>\n",
       "    <tr>\n",
       "      <th rowspan=\"10\" valign=\"top\">series_1</th>\n",
       "      <th>2000-01-01</th>\n",
       "      <td>1</td>\n",
       "    </tr>\n",
       "    <tr>\n",
       "      <th>2000-01-02</th>\n",
       "      <td>2</td>\n",
       "    </tr>\n",
       "    <tr>\n",
       "      <th>2000-01-03</th>\n",
       "      <td>3</td>\n",
       "    </tr>\n",
       "    <tr>\n",
       "      <th>2000-01-04</th>\n",
       "      <td>4</td>\n",
       "    </tr>\n",
       "    <tr>\n",
       "      <th>2000-01-05</th>\n",
       "      <td>5</td>\n",
       "    </tr>\n",
       "    <tr>\n",
       "      <th>2000-01-06</th>\n",
       "      <td>6</td>\n",
       "    </tr>\n",
       "    <tr>\n",
       "      <th>2000-01-07</th>\n",
       "      <td>7</td>\n",
       "    </tr>\n",
       "    <tr>\n",
       "      <th>2000-01-08</th>\n",
       "      <td>8</td>\n",
       "    </tr>\n",
       "    <tr>\n",
       "      <th>2000-01-09</th>\n",
       "      <td>9</td>\n",
       "    </tr>\n",
       "    <tr>\n",
       "      <th>2000-01-10</th>\n",
       "      <td>10</td>\n",
       "    </tr>\n",
       "    <tr>\n",
       "      <th rowspan=\"10\" valign=\"top\">series_2</th>\n",
       "      <th>2000-01-01</th>\n",
       "      <td>20</td>\n",
       "    </tr>\n",
       "    <tr>\n",
       "      <th>2000-01-02</th>\n",
       "      <td>30</td>\n",
       "    </tr>\n",
       "    <tr>\n",
       "      <th>2000-01-03</th>\n",
       "      <td>40</td>\n",
       "    </tr>\n",
       "    <tr>\n",
       "      <th>2000-01-04</th>\n",
       "      <td>50</td>\n",
       "    </tr>\n",
       "    <tr>\n",
       "      <th>2000-01-05</th>\n",
       "      <td>60</td>\n",
       "    </tr>\n",
       "    <tr>\n",
       "      <th>2000-01-06</th>\n",
       "      <td>70</td>\n",
       "    </tr>\n",
       "    <tr>\n",
       "      <th>2000-01-07</th>\n",
       "      <td>80</td>\n",
       "    </tr>\n",
       "    <tr>\n",
       "      <th>2000-01-08</th>\n",
       "      <td>90</td>\n",
       "    </tr>\n",
       "    <tr>\n",
       "      <th>2000-01-09</th>\n",
       "      <td>100</td>\n",
       "    </tr>\n",
       "    <tr>\n",
       "      <th>2000-01-10</th>\n",
       "      <td>110</td>\n",
       "    </tr>\n",
       "  </tbody>\n",
       "</table>\n",
       "</div>"
      ],
      "text/plain": [
       "                     value\n",
       "series   datetime         \n",
       "series_1 2000-01-01      1\n",
       "         2000-01-02      2\n",
       "         2000-01-03      3\n",
       "         2000-01-04      4\n",
       "         2000-01-05      5\n",
       "         2000-01-06      6\n",
       "         2000-01-07      7\n",
       "         2000-01-08      8\n",
       "         2000-01-09      9\n",
       "         2000-01-10     10\n",
       "series_2 2000-01-01     20\n",
       "         2000-01-02     30\n",
       "         2000-01-03     40\n",
       "         2000-01-04     50\n",
       "         2000-01-05     60\n",
       "         2000-01-06     70\n",
       "         2000-01-07     80\n",
       "         2000-01-08     90\n",
       "         2000-01-09    100\n",
       "         2000-01-10    110"
      ]
     },
     "execution_count": 143,
     "metadata": {},
     "output_type": "execute_result"
    }
   ],
   "source": [
    "series = series.groupby('series').apply(lambda x: x.asfreq('D'), include_groups=False)\n",
    "series"
   ]
  },
  {
   "cell_type": "code",
   "execution_count": 144,
   "metadata": {},
   "outputs": [
    {
     "data": {
      "text/plain": [
       "DatetimeIndex(['2000-01-01', '2000-01-02', '2000-01-03', '2000-01-04',\n",
       "               '2000-01-05', '2000-01-06', '2000-01-07', '2000-01-08',\n",
       "               '2000-01-09', '2000-01-10'],\n",
       "              dtype='datetime64[ns]', name='datetime', freq='D')"
      ]
     },
     "execution_count": 144,
     "metadata": {},
     "output_type": "execute_result"
    }
   ],
   "source": [
    "series.loc['series_1'].index"
   ]
  },
  {
   "cell_type": "code",
   "execution_count": 154,
   "metadata": {},
   "outputs": [
    {
     "data": {
      "application/vnd.microsoft.datawrangler.viewer.v0+json": {
       "columns": [
        {
         "name": "datetime",
         "rawType": "datetime64[ns]",
         "type": "datetime"
        },
        {
         "name": "series",
         "rawType": "object",
         "type": "string"
        },
        {
         "name": "value",
         "rawType": "int64",
         "type": "integer"
        }
       ],
       "conversionMethod": "pd.DataFrame",
       "ref": "d9f47708-2bee-4be0-83f8-ca18730fc67f",
       "rows": [
        [
         "2000-01-01 00:00:00",
         "series_1",
         "1"
        ],
        [
         "2000-01-03 00:00:00",
         "series_1",
         "3"
        ],
        [
         "2000-01-04 00:00:00",
         "series_1",
         "4"
        ],
        [
         "2000-01-05 00:00:00",
         "series_1",
         "5"
        ],
        [
         "2000-01-06 00:00:00",
         "series_1",
         "6"
        ],
        [
         "2000-01-07 00:00:00",
         "series_1",
         "7"
        ],
        [
         "2000-01-08 00:00:00",
         "series_1",
         "8"
        ],
        [
         "2000-01-09 00:00:00",
         "series_1",
         "9"
        ],
        [
         "2000-01-10 00:00:00",
         "series_1",
         "10"
        ],
        [
         "2000-01-01 00:00:00",
         "series_2",
         "20"
        ],
        [
         "2000-01-03 00:00:00",
         "series_2",
         "40"
        ],
        [
         "2000-01-04 00:00:00",
         "series_2",
         "50"
        ],
        [
         "2000-01-05 00:00:00",
         "series_2",
         "60"
        ],
        [
         "2000-01-06 00:00:00",
         "series_2",
         "70"
        ],
        [
         "2000-01-07 00:00:00",
         "series_2",
         "80"
        ],
        [
         "2000-01-08 00:00:00",
         "series_2",
         "90"
        ],
        [
         "2000-01-09 00:00:00",
         "series_2",
         "100"
        ],
        [
         "2000-01-10 00:00:00",
         "series_2",
         "110"
        ]
       ],
       "shape": {
        "columns": 2,
        "rows": 18
       }
      },
      "text/html": [
       "<div>\n",
       "<style scoped>\n",
       "    .dataframe tbody tr th:only-of-type {\n",
       "        vertical-align: middle;\n",
       "    }\n",
       "\n",
       "    .dataframe tbody tr th {\n",
       "        vertical-align: top;\n",
       "    }\n",
       "\n",
       "    .dataframe thead th {\n",
       "        text-align: right;\n",
       "    }\n",
       "</style>\n",
       "<table border=\"1\" class=\"dataframe\">\n",
       "  <thead>\n",
       "    <tr style=\"text-align: right;\">\n",
       "      <th></th>\n",
       "      <th>series</th>\n",
       "      <th>value</th>\n",
       "    </tr>\n",
       "    <tr>\n",
       "      <th>datetime</th>\n",
       "      <th></th>\n",
       "      <th></th>\n",
       "    </tr>\n",
       "  </thead>\n",
       "  <tbody>\n",
       "    <tr>\n",
       "      <th>2000-01-01</th>\n",
       "      <td>series_1</td>\n",
       "      <td>1</td>\n",
       "    </tr>\n",
       "    <tr>\n",
       "      <th>2000-01-03</th>\n",
       "      <td>series_1</td>\n",
       "      <td>3</td>\n",
       "    </tr>\n",
       "    <tr>\n",
       "      <th>2000-01-04</th>\n",
       "      <td>series_1</td>\n",
       "      <td>4</td>\n",
       "    </tr>\n",
       "    <tr>\n",
       "      <th>2000-01-05</th>\n",
       "      <td>series_1</td>\n",
       "      <td>5</td>\n",
       "    </tr>\n",
       "    <tr>\n",
       "      <th>2000-01-06</th>\n",
       "      <td>series_1</td>\n",
       "      <td>6</td>\n",
       "    </tr>\n",
       "    <tr>\n",
       "      <th>2000-01-07</th>\n",
       "      <td>series_1</td>\n",
       "      <td>7</td>\n",
       "    </tr>\n",
       "    <tr>\n",
       "      <th>2000-01-08</th>\n",
       "      <td>series_1</td>\n",
       "      <td>8</td>\n",
       "    </tr>\n",
       "    <tr>\n",
       "      <th>2000-01-09</th>\n",
       "      <td>series_1</td>\n",
       "      <td>9</td>\n",
       "    </tr>\n",
       "    <tr>\n",
       "      <th>2000-01-10</th>\n",
       "      <td>series_1</td>\n",
       "      <td>10</td>\n",
       "    </tr>\n",
       "    <tr>\n",
       "      <th>2000-01-01</th>\n",
       "      <td>series_2</td>\n",
       "      <td>20</td>\n",
       "    </tr>\n",
       "    <tr>\n",
       "      <th>2000-01-03</th>\n",
       "      <td>series_2</td>\n",
       "      <td>40</td>\n",
       "    </tr>\n",
       "    <tr>\n",
       "      <th>2000-01-04</th>\n",
       "      <td>series_2</td>\n",
       "      <td>50</td>\n",
       "    </tr>\n",
       "    <tr>\n",
       "      <th>2000-01-05</th>\n",
       "      <td>series_2</td>\n",
       "      <td>60</td>\n",
       "    </tr>\n",
       "    <tr>\n",
       "      <th>2000-01-06</th>\n",
       "      <td>series_2</td>\n",
       "      <td>70</td>\n",
       "    </tr>\n",
       "    <tr>\n",
       "      <th>2000-01-07</th>\n",
       "      <td>series_2</td>\n",
       "      <td>80</td>\n",
       "    </tr>\n",
       "    <tr>\n",
       "      <th>2000-01-08</th>\n",
       "      <td>series_2</td>\n",
       "      <td>90</td>\n",
       "    </tr>\n",
       "    <tr>\n",
       "      <th>2000-01-09</th>\n",
       "      <td>series_2</td>\n",
       "      <td>100</td>\n",
       "    </tr>\n",
       "    <tr>\n",
       "      <th>2000-01-10</th>\n",
       "      <td>series_2</td>\n",
       "      <td>110</td>\n",
       "    </tr>\n",
       "  </tbody>\n",
       "</table>\n",
       "</div>"
      ],
      "text/plain": [
       "              series  value\n",
       "datetime                   \n",
       "2000-01-01  series_1      1\n",
       "2000-01-03  series_1      3\n",
       "2000-01-04  series_1      4\n",
       "2000-01-05  series_1      5\n",
       "2000-01-06  series_1      6\n",
       "2000-01-07  series_1      7\n",
       "2000-01-08  series_1      8\n",
       "2000-01-09  series_1      9\n",
       "2000-01-10  series_1     10\n",
       "2000-01-01  series_2     20\n",
       "2000-01-03  series_2     40\n",
       "2000-01-04  series_2     50\n",
       "2000-01-05  series_2     60\n",
       "2000-01-06  series_2     70\n",
       "2000-01-07  series_2     80\n",
       "2000-01-08  series_2     90\n",
       "2000-01-09  series_2    100\n",
       "2000-01-10  series_2    110"
      ]
     },
     "execution_count": 154,
     "metadata": {},
     "output_type": "execute_result"
    }
   ],
   "source": [
    "series_1 = pd.Series([1, 2, 3, 4, 5, 6, 7, 8, 9, 10], index=pd.date_range(start='2000-01-01', periods=10, freq='D'), name='series_1')\n",
    "series_2 = pd.Series([20, 30, 40, 50, 60, 70, 80, 90, 100, 110], index=pd.date_range(start='2000-01-01', periods=10, freq='D'), name='series_2')\n",
    "series = pd.concat([series_1, series_2], axis=1).melt(var_name='series', value_name='value', ignore_index=False)\n",
    "series = series.rename_axis('datetime')\n",
    "row_to_drop = '2000-01-02'\n",
    "series_dropped = series.loc[series.index != row_to_drop]\n",
    "series_dropped"
   ]
  },
  {
   "cell_type": "code",
   "execution_count": 155,
   "metadata": {},
   "outputs": [
    {
     "data": {
      "application/vnd.microsoft.datawrangler.viewer.v0+json": {
       "columns": [
        {
         "name": "('series', 'datetime')",
         "rawType": "object",
         "type": "unknown"
        },
        {
         "name": "value",
         "rawType": "float64",
         "type": "float"
        }
       ],
       "conversionMethod": "pd.DataFrame",
       "ref": "d96c4f4d-21ae-4549-ad2d-6fbb0a2e7ef6",
       "rows": [
        [
         "('series_1', Timestamp('2000-01-01 00:00:00'))",
         "1.0"
        ],
        [
         "('series_1', Timestamp('2000-01-02 00:00:00'))",
         null
        ],
        [
         "('series_1', Timestamp('2000-01-03 00:00:00'))",
         "3.0"
        ],
        [
         "('series_1', Timestamp('2000-01-04 00:00:00'))",
         "4.0"
        ],
        [
         "('series_1', Timestamp('2000-01-05 00:00:00'))",
         "5.0"
        ],
        [
         "('series_1', Timestamp('2000-01-06 00:00:00'))",
         "6.0"
        ],
        [
         "('series_1', Timestamp('2000-01-07 00:00:00'))",
         "7.0"
        ],
        [
         "('series_1', Timestamp('2000-01-08 00:00:00'))",
         "8.0"
        ],
        [
         "('series_1', Timestamp('2000-01-09 00:00:00'))",
         "9.0"
        ],
        [
         "('series_1', Timestamp('2000-01-10 00:00:00'))",
         "10.0"
        ],
        [
         "('series_2', Timestamp('2000-01-01 00:00:00'))",
         "20.0"
        ],
        [
         "('series_2', Timestamp('2000-01-02 00:00:00'))",
         null
        ],
        [
         "('series_2', Timestamp('2000-01-03 00:00:00'))",
         "40.0"
        ],
        [
         "('series_2', Timestamp('2000-01-04 00:00:00'))",
         "50.0"
        ],
        [
         "('series_2', Timestamp('2000-01-05 00:00:00'))",
         "60.0"
        ],
        [
         "('series_2', Timestamp('2000-01-06 00:00:00'))",
         "70.0"
        ],
        [
         "('series_2', Timestamp('2000-01-07 00:00:00'))",
         "80.0"
        ],
        [
         "('series_2', Timestamp('2000-01-08 00:00:00'))",
         "90.0"
        ],
        [
         "('series_2', Timestamp('2000-01-09 00:00:00'))",
         "100.0"
        ],
        [
         "('series_2', Timestamp('2000-01-10 00:00:00'))",
         "110.0"
        ]
       ],
       "shape": {
        "columns": 1,
        "rows": 20
       }
      },
      "text/html": [
       "<div>\n",
       "<style scoped>\n",
       "    .dataframe tbody tr th:only-of-type {\n",
       "        vertical-align: middle;\n",
       "    }\n",
       "\n",
       "    .dataframe tbody tr th {\n",
       "        vertical-align: top;\n",
       "    }\n",
       "\n",
       "    .dataframe thead th {\n",
       "        text-align: right;\n",
       "    }\n",
       "</style>\n",
       "<table border=\"1\" class=\"dataframe\">\n",
       "  <thead>\n",
       "    <tr style=\"text-align: right;\">\n",
       "      <th></th>\n",
       "      <th></th>\n",
       "      <th>value</th>\n",
       "    </tr>\n",
       "    <tr>\n",
       "      <th>series</th>\n",
       "      <th>datetime</th>\n",
       "      <th></th>\n",
       "    </tr>\n",
       "  </thead>\n",
       "  <tbody>\n",
       "    <tr>\n",
       "      <th rowspan=\"10\" valign=\"top\">series_1</th>\n",
       "      <th>2000-01-01</th>\n",
       "      <td>1.0</td>\n",
       "    </tr>\n",
       "    <tr>\n",
       "      <th>2000-01-02</th>\n",
       "      <td>NaN</td>\n",
       "    </tr>\n",
       "    <tr>\n",
       "      <th>2000-01-03</th>\n",
       "      <td>3.0</td>\n",
       "    </tr>\n",
       "    <tr>\n",
       "      <th>2000-01-04</th>\n",
       "      <td>4.0</td>\n",
       "    </tr>\n",
       "    <tr>\n",
       "      <th>2000-01-05</th>\n",
       "      <td>5.0</td>\n",
       "    </tr>\n",
       "    <tr>\n",
       "      <th>2000-01-06</th>\n",
       "      <td>6.0</td>\n",
       "    </tr>\n",
       "    <tr>\n",
       "      <th>2000-01-07</th>\n",
       "      <td>7.0</td>\n",
       "    </tr>\n",
       "    <tr>\n",
       "      <th>2000-01-08</th>\n",
       "      <td>8.0</td>\n",
       "    </tr>\n",
       "    <tr>\n",
       "      <th>2000-01-09</th>\n",
       "      <td>9.0</td>\n",
       "    </tr>\n",
       "    <tr>\n",
       "      <th>2000-01-10</th>\n",
       "      <td>10.0</td>\n",
       "    </tr>\n",
       "    <tr>\n",
       "      <th rowspan=\"10\" valign=\"top\">series_2</th>\n",
       "      <th>2000-01-01</th>\n",
       "      <td>20.0</td>\n",
       "    </tr>\n",
       "    <tr>\n",
       "      <th>2000-01-02</th>\n",
       "      <td>NaN</td>\n",
       "    </tr>\n",
       "    <tr>\n",
       "      <th>2000-01-03</th>\n",
       "      <td>40.0</td>\n",
       "    </tr>\n",
       "    <tr>\n",
       "      <th>2000-01-04</th>\n",
       "      <td>50.0</td>\n",
       "    </tr>\n",
       "    <tr>\n",
       "      <th>2000-01-05</th>\n",
       "      <td>60.0</td>\n",
       "    </tr>\n",
       "    <tr>\n",
       "      <th>2000-01-06</th>\n",
       "      <td>70.0</td>\n",
       "    </tr>\n",
       "    <tr>\n",
       "      <th>2000-01-07</th>\n",
       "      <td>80.0</td>\n",
       "    </tr>\n",
       "    <tr>\n",
       "      <th>2000-01-08</th>\n",
       "      <td>90.0</td>\n",
       "    </tr>\n",
       "    <tr>\n",
       "      <th>2000-01-09</th>\n",
       "      <td>100.0</td>\n",
       "    </tr>\n",
       "    <tr>\n",
       "      <th>2000-01-10</th>\n",
       "      <td>110.0</td>\n",
       "    </tr>\n",
       "  </tbody>\n",
       "</table>\n",
       "</div>"
      ],
      "text/plain": [
       "                     value\n",
       "series   datetime         \n",
       "series_1 2000-01-01    1.0\n",
       "         2000-01-02    NaN\n",
       "         2000-01-03    3.0\n",
       "         2000-01-04    4.0\n",
       "         2000-01-05    5.0\n",
       "         2000-01-06    6.0\n",
       "         2000-01-07    7.0\n",
       "         2000-01-08    8.0\n",
       "         2000-01-09    9.0\n",
       "         2000-01-10   10.0\n",
       "series_2 2000-01-01   20.0\n",
       "         2000-01-02    NaN\n",
       "         2000-01-03   40.0\n",
       "         2000-01-04   50.0\n",
       "         2000-01-05   60.0\n",
       "         2000-01-06   70.0\n",
       "         2000-01-07   80.0\n",
       "         2000-01-08   90.0\n",
       "         2000-01-09  100.0\n",
       "         2000-01-10  110.0"
      ]
     },
     "execution_count": 155,
     "metadata": {},
     "output_type": "execute_result"
    }
   ],
   "source": [
    "series_dropped = series_dropped.groupby('series').apply(lambda x: x.asfreq('D'), include_groups=False)\n",
    "series_dropped"
   ]
  },
  {
   "cell_type": "code",
   "execution_count": 162,
   "metadata": {},
   "outputs": [
    {
     "data": {
      "application/vnd.microsoft.datawrangler.viewer.v0+json": {
       "columns": [
        {
         "name": "('series', 'datetime')",
         "rawType": "object",
         "type": "unknown"
        },
        {
         "name": "value",
         "rawType": "int64",
         "type": "integer"
        },
        {
         "name": "exog_1",
         "rawType": "float64",
         "type": "float"
        },
        {
         "name": "exog_2",
         "rawType": "float64",
         "type": "float"
        }
       ],
       "conversionMethod": "pd.DataFrame",
       "ref": "9145b87b-1afa-4bd3-a16f-4db85d9e829e",
       "rows": [
        [
         "('series_1', Timestamp('2000-01-01 00:00:00'))",
         "1",
         "1.0",
         "10.0"
        ],
        [
         "('series_1', Timestamp('2000-01-02 00:00:00'))",
         "2",
         "2.0",
         "20.0"
        ],
        [
         "('series_1', Timestamp('2000-01-03 00:00:00'))",
         "3",
         "3.0",
         "30.0"
        ],
        [
         "('series_1', Timestamp('2000-01-04 00:00:00'))",
         "4",
         "4.0",
         "40.0"
        ],
        [
         "('series_1', Timestamp('2000-01-05 00:00:00'))",
         "5",
         "5.0",
         "50.0"
        ],
        [
         "('series_1', Timestamp('2000-01-06 00:00:00'))",
         "6",
         "6.0",
         "60.0"
        ],
        [
         "('series_1', Timestamp('2000-01-07 00:00:00'))",
         "7",
         "7.0",
         "70.0"
        ],
        [
         "('series_1', Timestamp('2000-01-08 00:00:00'))",
         "8",
         "8.0",
         "80.0"
        ],
        [
         "('series_1', Timestamp('2000-01-09 00:00:00'))",
         "9",
         null,
         null
        ],
        [
         "('series_1', Timestamp('2000-01-10 00:00:00'))",
         "10",
         null,
         null
        ],
        [
         "('series_2', Timestamp('2000-01-01 00:00:00'))",
         "20",
         "1.0",
         "10.0"
        ],
        [
         "('series_2', Timestamp('2000-01-02 00:00:00'))",
         "30",
         "2.0",
         "20.0"
        ],
        [
         "('series_2', Timestamp('2000-01-03 00:00:00'))",
         "40",
         "3.0",
         "30.0"
        ],
        [
         "('series_2', Timestamp('2000-01-04 00:00:00'))",
         "50",
         "4.0",
         "40.0"
        ],
        [
         "('series_2', Timestamp('2000-01-05 00:00:00'))",
         "60",
         "5.0",
         "50.0"
        ],
        [
         "('series_2', Timestamp('2000-01-06 00:00:00'))",
         "70",
         "6.0",
         "60.0"
        ],
        [
         "('series_2', Timestamp('2000-01-07 00:00:00'))",
         "80",
         "7.0",
         "70.0"
        ],
        [
         "('series_2', Timestamp('2000-01-08 00:00:00'))",
         "90",
         "8.0",
         "80.0"
        ],
        [
         "('series_2', Timestamp('2000-01-09 00:00:00'))",
         "100",
         null,
         null
        ],
        [
         "('series_2', Timestamp('2000-01-10 00:00:00'))",
         "110",
         null,
         null
        ]
       ],
       "shape": {
        "columns": 3,
        "rows": 20
       }
      },
      "text/html": [
       "<div>\n",
       "<style scoped>\n",
       "    .dataframe tbody tr th:only-of-type {\n",
       "        vertical-align: middle;\n",
       "    }\n",
       "\n",
       "    .dataframe tbody tr th {\n",
       "        vertical-align: top;\n",
       "    }\n",
       "\n",
       "    .dataframe thead th {\n",
       "        text-align: right;\n",
       "    }\n",
       "</style>\n",
       "<table border=\"1\" class=\"dataframe\">\n",
       "  <thead>\n",
       "    <tr style=\"text-align: right;\">\n",
       "      <th></th>\n",
       "      <th></th>\n",
       "      <th>value</th>\n",
       "      <th>exog_1</th>\n",
       "      <th>exog_2</th>\n",
       "    </tr>\n",
       "    <tr>\n",
       "      <th>series</th>\n",
       "      <th>datetime</th>\n",
       "      <th></th>\n",
       "      <th></th>\n",
       "      <th></th>\n",
       "    </tr>\n",
       "  </thead>\n",
       "  <tbody>\n",
       "    <tr>\n",
       "      <th rowspan=\"10\" valign=\"top\">series_1</th>\n",
       "      <th>2000-01-01</th>\n",
       "      <td>1</td>\n",
       "      <td>1.0</td>\n",
       "      <td>10.0</td>\n",
       "    </tr>\n",
       "    <tr>\n",
       "      <th>2000-01-02</th>\n",
       "      <td>2</td>\n",
       "      <td>2.0</td>\n",
       "      <td>20.0</td>\n",
       "    </tr>\n",
       "    <tr>\n",
       "      <th>2000-01-03</th>\n",
       "      <td>3</td>\n",
       "      <td>3.0</td>\n",
       "      <td>30.0</td>\n",
       "    </tr>\n",
       "    <tr>\n",
       "      <th>2000-01-04</th>\n",
       "      <td>4</td>\n",
       "      <td>4.0</td>\n",
       "      <td>40.0</td>\n",
       "    </tr>\n",
       "    <tr>\n",
       "      <th>2000-01-05</th>\n",
       "      <td>5</td>\n",
       "      <td>5.0</td>\n",
       "      <td>50.0</td>\n",
       "    </tr>\n",
       "    <tr>\n",
       "      <th>2000-01-06</th>\n",
       "      <td>6</td>\n",
       "      <td>6.0</td>\n",
       "      <td>60.0</td>\n",
       "    </tr>\n",
       "    <tr>\n",
       "      <th>2000-01-07</th>\n",
       "      <td>7</td>\n",
       "      <td>7.0</td>\n",
       "      <td>70.0</td>\n",
       "    </tr>\n",
       "    <tr>\n",
       "      <th>2000-01-08</th>\n",
       "      <td>8</td>\n",
       "      <td>8.0</td>\n",
       "      <td>80.0</td>\n",
       "    </tr>\n",
       "    <tr>\n",
       "      <th>2000-01-09</th>\n",
       "      <td>9</td>\n",
       "      <td>NaN</td>\n",
       "      <td>NaN</td>\n",
       "    </tr>\n",
       "    <tr>\n",
       "      <th>2000-01-10</th>\n",
       "      <td>10</td>\n",
       "      <td>NaN</td>\n",
       "      <td>NaN</td>\n",
       "    </tr>\n",
       "    <tr>\n",
       "      <th rowspan=\"10\" valign=\"top\">series_2</th>\n",
       "      <th>2000-01-01</th>\n",
       "      <td>20</td>\n",
       "      <td>1.0</td>\n",
       "      <td>10.0</td>\n",
       "    </tr>\n",
       "    <tr>\n",
       "      <th>2000-01-02</th>\n",
       "      <td>30</td>\n",
       "      <td>2.0</td>\n",
       "      <td>20.0</td>\n",
       "    </tr>\n",
       "    <tr>\n",
       "      <th>2000-01-03</th>\n",
       "      <td>40</td>\n",
       "      <td>3.0</td>\n",
       "      <td>30.0</td>\n",
       "    </tr>\n",
       "    <tr>\n",
       "      <th>2000-01-04</th>\n",
       "      <td>50</td>\n",
       "      <td>4.0</td>\n",
       "      <td>40.0</td>\n",
       "    </tr>\n",
       "    <tr>\n",
       "      <th>2000-01-05</th>\n",
       "      <td>60</td>\n",
       "      <td>5.0</td>\n",
       "      <td>50.0</td>\n",
       "    </tr>\n",
       "    <tr>\n",
       "      <th>2000-01-06</th>\n",
       "      <td>70</td>\n",
       "      <td>6.0</td>\n",
       "      <td>60.0</td>\n",
       "    </tr>\n",
       "    <tr>\n",
       "      <th>2000-01-07</th>\n",
       "      <td>80</td>\n",
       "      <td>7.0</td>\n",
       "      <td>70.0</td>\n",
       "    </tr>\n",
       "    <tr>\n",
       "      <th>2000-01-08</th>\n",
       "      <td>90</td>\n",
       "      <td>8.0</td>\n",
       "      <td>80.0</td>\n",
       "    </tr>\n",
       "    <tr>\n",
       "      <th>2000-01-09</th>\n",
       "      <td>100</td>\n",
       "      <td>NaN</td>\n",
       "      <td>NaN</td>\n",
       "    </tr>\n",
       "    <tr>\n",
       "      <th>2000-01-10</th>\n",
       "      <td>110</td>\n",
       "      <td>NaN</td>\n",
       "      <td>NaN</td>\n",
       "    </tr>\n",
       "  </tbody>\n",
       "</table>\n",
       "</div>"
      ],
      "text/plain": [
       "                     value  exog_1  exog_2\n",
       "series   datetime                         \n",
       "series_1 2000-01-01      1     1.0    10.0\n",
       "         2000-01-02      2     2.0    20.0\n",
       "         2000-01-03      3     3.0    30.0\n",
       "         2000-01-04      4     4.0    40.0\n",
       "         2000-01-05      5     5.0    50.0\n",
       "         2000-01-06      6     6.0    60.0\n",
       "         2000-01-07      7     7.0    70.0\n",
       "         2000-01-08      8     8.0    80.0\n",
       "         2000-01-09      9     NaN     NaN\n",
       "         2000-01-10     10     NaN     NaN\n",
       "series_2 2000-01-01     20     1.0    10.0\n",
       "         2000-01-02     30     2.0    20.0\n",
       "         2000-01-03     40     3.0    30.0\n",
       "         2000-01-04     50     4.0    40.0\n",
       "         2000-01-05     60     5.0    50.0\n",
       "         2000-01-06     70     6.0    60.0\n",
       "         2000-01-07     80     7.0    70.0\n",
       "         2000-01-08     90     8.0    80.0\n",
       "         2000-01-09    100     NaN     NaN\n",
       "         2000-01-10    110     NaN     NaN"
      ]
     },
     "execution_count": 162,
     "metadata": {},
     "output_type": "execute_result"
    }
   ],
   "source": [
    "series_1 = pd.Series([1, 2, 3, 4, 5, 6, 7, 8, 9, 10], index=pd.date_range(start='2000-01-01', periods=10, freq='D'), name='series_1')\n",
    "series_2 = pd.Series([20, 30, 40, 50, 60, 70, 80, 90, 100, 110], index=pd.date_range(start='2000-01-01', periods=10, freq='D'), name='series_2')\n",
    "series = pd.concat([series_1, series_2], axis=1).melt(var_name='series', value_name='value', ignore_index=False)\n",
    "series = series.rename_axis('datetime')\n",
    "series = series.groupby('series').apply(lambda x: x.asfreq('D'), include_groups=False)\n",
    "series\n",
    "\n",
    "exog = pd.DataFrame({\n",
    "    'exog_1': [1, 2, 3, 4, 5, 6, 7, 8],\n",
    "    'exog_2': [10, 20, 30, 40, 50, 60, 70, 80]\n",
    "}, index=pd.date_range(start='2000-01-01', periods=8, freq='D'))\n",
    "exog = exog.rename_axis('datetime')\n",
    "\n",
    "# merge series and exog\n",
    "series_exog = pd.merge(series, exog, left_index=True, right_index=True, how='left')\n",
    "series_exog"
   ]
  }
 ],
 "metadata": {
  "kernelspec": {
   "display_name": "skforecast_15_py12",
   "language": "python",
   "name": "python3"
  },
  "language_info": {
   "codemirror_mode": {
    "name": "ipython",
    "version": 3
   },
   "file_extension": ".py",
   "mimetype": "text/x-python",
   "name": "python",
   "nbconvert_exporter": "python",
   "pygments_lexer": "ipython3",
   "version": "3.12.9"
  },
  "orig_nbformat": 4
 },
 "nbformat": 4,
 "nbformat_minor": 2
}
