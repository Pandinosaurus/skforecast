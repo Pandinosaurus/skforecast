{
 "cells": [
  {
   "cell_type": "code",
   "execution_count": 1,
   "metadata": {},
   "outputs": [
    {
     "name": "stdout",
     "output_type": "stream",
     "text": [
      "c:\\Users\\jaesc2\\GitHub\\skforecast\n"
     ]
    }
   ],
   "source": [
    "%load_ext autoreload\n",
    "%autoreload 2\n",
    "import sys\n",
    "from pathlib import Path\n",
    "path = str(Path.cwd().parent)\n",
    "print(path)\n",
    "sys.path.insert(1, path)\n",
    "\n",
    "import numpy as np\n",
    "import pandas as pd"
   ]
  },
  {
   "cell_type": "code",
   "execution_count": 13,
   "metadata": {},
   "outputs": [
    {
     "data": {
      "text/html": [
       "<pre style=\"white-space:pre;overflow-x:auto;line-height:normal;font-family:Menlo,'DejaVu Sans Mono',consolas,'Courier New',monospace\"><span style=\"font-weight: bold\">Model: \"functional_1\"</span>\n",
       "</pre>\n"
      ],
      "text/plain": [
       "\u001b[1mModel: \"functional_1\"\u001b[0m\n"
      ]
     },
     "metadata": {},
     "output_type": "display_data"
    },
    {
     "data": {
      "text/html": [
       "<pre style=\"white-space:pre;overflow-x:auto;line-height:normal;font-family:Menlo,'DejaVu Sans Mono',consolas,'Courier New',monospace\">┏━━━━━━━━━━━━━━━━━━━━━┳━━━━━━━━━━━━━━━━━━━┳━━━━━━━━━━━━┳━━━━━━━━━━━━━━━━━━━┓\n",
       "┃<span style=\"font-weight: bold\"> Layer (type)        </span>┃<span style=\"font-weight: bold\"> Output Shape      </span>┃<span style=\"font-weight: bold\">    Param # </span>┃<span style=\"font-weight: bold\"> Connected to      </span>┃\n",
       "┡━━━━━━━━━━━━━━━━━━━━━╇━━━━━━━━━━━━━━━━━━━╇━━━━━━━━━━━━╇━━━━━━━━━━━━━━━━━━━┩\n",
       "│ input_layer_2       │ (<span style=\"color: #00d7ff; text-decoration-color: #00d7ff\">None</span>, <span style=\"color: #00af00; text-decoration-color: #00af00\">4</span>, <span style=\"color: #00af00; text-decoration-color: #00af00\">3</span>)      │          <span style=\"color: #00af00; text-decoration-color: #00af00\">0</span> │ -                 │\n",
       "│ (<span style=\"color: #0087ff; text-decoration-color: #0087ff\">InputLayer</span>)        │                   │            │                   │\n",
       "├─────────────────────┼───────────────────┼────────────┼───────────────────┤\n",
       "│ lstm_1 (<span style=\"color: #0087ff; text-decoration-color: #0087ff\">LSTM</span>)       │ (<span style=\"color: #00d7ff; text-decoration-color: #00d7ff\">None</span>, <span style=\"color: #00af00; text-decoration-color: #00af00\">100</span>)       │     <span style=\"color: #00af00; text-decoration-color: #00af00\">41,600</span> │ input_layer_2[<span style=\"color: #00af00; text-decoration-color: #00af00\">0</span>]… │\n",
       "├─────────────────────┼───────────────────┼────────────┼───────────────────┤\n",
       "│ flatten_1 (<span style=\"color: #0087ff; text-decoration-color: #0087ff\">Flatten</span>) │ (<span style=\"color: #00d7ff; text-decoration-color: #00d7ff\">None</span>, <span style=\"color: #00af00; text-decoration-color: #00af00\">100</span>)       │          <span style=\"color: #00af00; text-decoration-color: #00af00\">0</span> │ lstm_1[<span style=\"color: #00af00; text-decoration-color: #00af00\">0</span>][<span style=\"color: #00af00; text-decoration-color: #00af00\">0</span>]      │\n",
       "├─────────────────────┼───────────────────┼────────────┼───────────────────┤\n",
       "│ input_layer_3       │ (<span style=\"color: #00d7ff; text-decoration-color: #00d7ff\">None</span>, <span style=\"color: #00af00; text-decoration-color: #00af00\">3</span>)         │          <span style=\"color: #00af00; text-decoration-color: #00af00\">0</span> │ -                 │\n",
       "│ (<span style=\"color: #0087ff; text-decoration-color: #0087ff\">InputLayer</span>)        │                   │            │                   │\n",
       "├─────────────────────┼───────────────────┼────────────┼───────────────────┤\n",
       "│ concatenate_1       │ (<span style=\"color: #00d7ff; text-decoration-color: #00d7ff\">None</span>, <span style=\"color: #00af00; text-decoration-color: #00af00\">103</span>)       │          <span style=\"color: #00af00; text-decoration-color: #00af00\">0</span> │ flatten_1[<span style=\"color: #00af00; text-decoration-color: #00af00\">0</span>][<span style=\"color: #00af00; text-decoration-color: #00af00\">0</span>],  │\n",
       "│ (<span style=\"color: #0087ff; text-decoration-color: #0087ff\">Concatenate</span>)       │                   │            │ input_layer_3[<span style=\"color: #00af00; text-decoration-color: #00af00\">0</span>]… │\n",
       "├─────────────────────┼───────────────────┼────────────┼───────────────────┤\n",
       "│ dense_3 (<span style=\"color: #0087ff; text-decoration-color: #0087ff\">Dense</span>)     │ (<span style=\"color: #00d7ff; text-decoration-color: #00d7ff\">None</span>, <span style=\"color: #00af00; text-decoration-color: #00af00\">128</span>)       │     <span style=\"color: #00af00; text-decoration-color: #00af00\">13,312</span> │ concatenate_1[<span style=\"color: #00af00; text-decoration-color: #00af00\">0</span>]… │\n",
       "├─────────────────────┼───────────────────┼────────────┼───────────────────┤\n",
       "│ dense_4 (<span style=\"color: #0087ff; text-decoration-color: #0087ff\">Dense</span>)     │ (<span style=\"color: #00d7ff; text-decoration-color: #00d7ff\">None</span>, <span style=\"color: #00af00; text-decoration-color: #00af00\">64</span>)        │      <span style=\"color: #00af00; text-decoration-color: #00af00\">8,256</span> │ dense_3[<span style=\"color: #00af00; text-decoration-color: #00af00\">0</span>][<span style=\"color: #00af00; text-decoration-color: #00af00\">0</span>]     │\n",
       "├─────────────────────┼───────────────────┼────────────┼───────────────────┤\n",
       "│ dense_5 (<span style=\"color: #0087ff; text-decoration-color: #0087ff\">Dense</span>)     │ (<span style=\"color: #00d7ff; text-decoration-color: #00d7ff\">None</span>, <span style=\"color: #00af00; text-decoration-color: #00af00\">10</span>)        │        <span style=\"color: #00af00; text-decoration-color: #00af00\">650</span> │ dense_4[<span style=\"color: #00af00; text-decoration-color: #00af00\">0</span>][<span style=\"color: #00af00; text-decoration-color: #00af00\">0</span>]     │\n",
       "├─────────────────────┼───────────────────┼────────────┼───────────────────┤\n",
       "│ reshape_1 (<span style=\"color: #0087ff; text-decoration-color: #0087ff\">Reshape</span>) │ (<span style=\"color: #00d7ff; text-decoration-color: #00d7ff\">None</span>, <span style=\"color: #00af00; text-decoration-color: #00af00\">5</span>, <span style=\"color: #00af00; text-decoration-color: #00af00\">2</span>)      │          <span style=\"color: #00af00; text-decoration-color: #00af00\">0</span> │ dense_5[<span style=\"color: #00af00; text-decoration-color: #00af00\">0</span>][<span style=\"color: #00af00; text-decoration-color: #00af00\">0</span>]     │\n",
       "└─────────────────────┴───────────────────┴────────────┴───────────────────┘\n",
       "</pre>\n"
      ],
      "text/plain": [
       "┏━━━━━━━━━━━━━━━━━━━━━┳━━━━━━━━━━━━━━━━━━━┳━━━━━━━━━━━━┳━━━━━━━━━━━━━━━━━━━┓\n",
       "┃\u001b[1m \u001b[0m\u001b[1mLayer (type)       \u001b[0m\u001b[1m \u001b[0m┃\u001b[1m \u001b[0m\u001b[1mOutput Shape     \u001b[0m\u001b[1m \u001b[0m┃\u001b[1m \u001b[0m\u001b[1m   Param #\u001b[0m\u001b[1m \u001b[0m┃\u001b[1m \u001b[0m\u001b[1mConnected to     \u001b[0m\u001b[1m \u001b[0m┃\n",
       "┡━━━━━━━━━━━━━━━━━━━━━╇━━━━━━━━━━━━━━━━━━━╇━━━━━━━━━━━━╇━━━━━━━━━━━━━━━━━━━┩\n",
       "│ input_layer_2       │ (\u001b[38;5;45mNone\u001b[0m, \u001b[38;5;34m4\u001b[0m, \u001b[38;5;34m3\u001b[0m)      │          \u001b[38;5;34m0\u001b[0m │ -                 │\n",
       "│ (\u001b[38;5;33mInputLayer\u001b[0m)        │                   │            │                   │\n",
       "├─────────────────────┼───────────────────┼────────────┼───────────────────┤\n",
       "│ lstm_1 (\u001b[38;5;33mLSTM\u001b[0m)       │ (\u001b[38;5;45mNone\u001b[0m, \u001b[38;5;34m100\u001b[0m)       │     \u001b[38;5;34m41,600\u001b[0m │ input_layer_2[\u001b[38;5;34m0\u001b[0m]… │\n",
       "├─────────────────────┼───────────────────┼────────────┼───────────────────┤\n",
       "│ flatten_1 (\u001b[38;5;33mFlatten\u001b[0m) │ (\u001b[38;5;45mNone\u001b[0m, \u001b[38;5;34m100\u001b[0m)       │          \u001b[38;5;34m0\u001b[0m │ lstm_1[\u001b[38;5;34m0\u001b[0m][\u001b[38;5;34m0\u001b[0m]      │\n",
       "├─────────────────────┼───────────────────┼────────────┼───────────────────┤\n",
       "│ input_layer_3       │ (\u001b[38;5;45mNone\u001b[0m, \u001b[38;5;34m3\u001b[0m)         │          \u001b[38;5;34m0\u001b[0m │ -                 │\n",
       "│ (\u001b[38;5;33mInputLayer\u001b[0m)        │                   │            │                   │\n",
       "├─────────────────────┼───────────────────┼────────────┼───────────────────┤\n",
       "│ concatenate_1       │ (\u001b[38;5;45mNone\u001b[0m, \u001b[38;5;34m103\u001b[0m)       │          \u001b[38;5;34m0\u001b[0m │ flatten_1[\u001b[38;5;34m0\u001b[0m][\u001b[38;5;34m0\u001b[0m],  │\n",
       "│ (\u001b[38;5;33mConcatenate\u001b[0m)       │                   │            │ input_layer_3[\u001b[38;5;34m0\u001b[0m]… │\n",
       "├─────────────────────┼───────────────────┼────────────┼───────────────────┤\n",
       "│ dense_3 (\u001b[38;5;33mDense\u001b[0m)     │ (\u001b[38;5;45mNone\u001b[0m, \u001b[38;5;34m128\u001b[0m)       │     \u001b[38;5;34m13,312\u001b[0m │ concatenate_1[\u001b[38;5;34m0\u001b[0m]… │\n",
       "├─────────────────────┼───────────────────┼────────────┼───────────────────┤\n",
       "│ dense_4 (\u001b[38;5;33mDense\u001b[0m)     │ (\u001b[38;5;45mNone\u001b[0m, \u001b[38;5;34m64\u001b[0m)        │      \u001b[38;5;34m8,256\u001b[0m │ dense_3[\u001b[38;5;34m0\u001b[0m][\u001b[38;5;34m0\u001b[0m]     │\n",
       "├─────────────────────┼───────────────────┼────────────┼───────────────────┤\n",
       "│ dense_5 (\u001b[38;5;33mDense\u001b[0m)     │ (\u001b[38;5;45mNone\u001b[0m, \u001b[38;5;34m10\u001b[0m)        │        \u001b[38;5;34m650\u001b[0m │ dense_4[\u001b[38;5;34m0\u001b[0m][\u001b[38;5;34m0\u001b[0m]     │\n",
       "├─────────────────────┼───────────────────┼────────────┼───────────────────┤\n",
       "│ reshape_1 (\u001b[38;5;33mReshape\u001b[0m) │ (\u001b[38;5;45mNone\u001b[0m, \u001b[38;5;34m5\u001b[0m, \u001b[38;5;34m2\u001b[0m)      │          \u001b[38;5;34m0\u001b[0m │ dense_5[\u001b[38;5;34m0\u001b[0m][\u001b[38;5;34m0\u001b[0m]     │\n",
       "└─────────────────────┴───────────────────┴────────────┴───────────────────┘\n"
      ]
     },
     "metadata": {},
     "output_type": "display_data"
    },
    {
     "data": {
      "text/html": [
       "<pre style=\"white-space:pre;overflow-x:auto;line-height:normal;font-family:Menlo,'DejaVu Sans Mono',consolas,'Courier New',monospace\"><span style=\"font-weight: bold\"> Total params: </span><span style=\"color: #00af00; text-decoration-color: #00af00\">63,818</span> (249.29 KB)\n",
       "</pre>\n"
      ],
      "text/plain": [
       "\u001b[1m Total params: \u001b[0m\u001b[38;5;34m63,818\u001b[0m (249.29 KB)\n"
      ]
     },
     "metadata": {},
     "output_type": "display_data"
    },
    {
     "data": {
      "text/html": [
       "<pre style=\"white-space:pre;overflow-x:auto;line-height:normal;font-family:Menlo,'DejaVu Sans Mono',consolas,'Courier New',monospace\"><span style=\"font-weight: bold\"> Trainable params: </span><span style=\"color: #00af00; text-decoration-color: #00af00\">63,818</span> (249.29 KB)\n",
       "</pre>\n"
      ],
      "text/plain": [
       "\u001b[1m Trainable params: \u001b[0m\u001b[38;5;34m63,818\u001b[0m (249.29 KB)\n"
      ]
     },
     "metadata": {},
     "output_type": "display_data"
    },
    {
     "data": {
      "text/html": [
       "<pre style=\"white-space:pre;overflow-x:auto;line-height:normal;font-family:Menlo,'DejaVu Sans Mono',consolas,'Courier New',monospace\"><span style=\"font-weight: bold\"> Non-trainable params: </span><span style=\"color: #00af00; text-decoration-color: #00af00\">0</span> (0.00 B)\n",
       "</pre>\n"
      ],
      "text/plain": [
       "\u001b[1m Non-trainable params: \u001b[0m\u001b[38;5;34m0\u001b[0m (0.00 B)\n"
      ]
     },
     "metadata": {},
     "output_type": "display_data"
    }
   ],
   "source": [
    "import keras\n",
    "import numpy as np\n",
    "import pandas as pd\n",
    "\n",
    "from skforecast.deep_learning import ForecasterRnn\n",
    "from skforecast.deep_learning.utils import create_and_compile_model, create_and_compile_model_exog\n",
    "\n",
    "# set backend torch\n",
    "import os\n",
    "os.environ[\"KERAS_BACKEND\"] = \"torch\"\n",
    "\n",
    "series = pd.DataFrame(\n",
    "    {\n",
    "        \"1\": pd.Series(np.arange(50.)),\n",
    "        \"2\": pd.Series(np.arange(50., 100.)),\n",
    "        \"3\": pd.Series(np.arange(100., 150.)),\n",
    "    }\n",
    ")\n",
    "\n",
    "exog = pd.DataFrame(\n",
    "    {\n",
    "        \"exog_1\": pd.Series(np.arange(50.)),\n",
    "        \"exog_2\": pd.Series(np.arange(50., 100.)),\n",
    "        \"exog_3\": pd.Series(np.arange(100., 150.)),\n",
    "    }\n",
    ")\n",
    "\n",
    "exog_predict = pd.DataFrame(\n",
    "    {\n",
    "        \"exog_1\": pd.Series(np.arange(50., 60)),\n",
    "        \"exog_2\": pd.Series(np.arange(100., 110.)),\n",
    "        \"exog_3\": pd.Series(np.arange(150., 160.)),\n",
    "    },\n",
    "    index=pd.RangeIndex(start=50, stop=60, step=1)\n",
    ")\n",
    "\n",
    "\n",
    "lags = 4\n",
    "steps = 5\n",
    "levels = [\"1\", \"2\"]\n",
    "activation = \"relu\"\n",
    "optimizer = keras.optimizers.Adam(learning_rate=0.01)\n",
    "loss = keras.losses.MeanSquaredError()\n",
    "recurrent_units = 100\n",
    "dense_units = [128, 64]\n",
    "\n",
    "\n",
    "# model = create_and_compile_model(\n",
    "#     series=series,\n",
    "#     lags=lags,\n",
    "#     steps=steps,\n",
    "#     levels=levels,\n",
    "#     recurrent_units=recurrent_units,\n",
    "#     dense_units=dense_units,\n",
    "#     activation=activation,\n",
    "#     optimizer=optimizer,\n",
    "#     loss=loss,\n",
    "# )\n",
    "\n",
    "model = create_and_compile_model_exog(\n",
    "    series=series,\n",
    "    lags=lags,\n",
    "    steps=steps,\n",
    "    levels=levels,\n",
    "    exog=exog,\n",
    "    recurrent_units=recurrent_units,\n",
    "    dense_units=dense_units,\n",
    "    activation=activation,\n",
    "    optimizer=optimizer,\n",
    "    loss=loss,\n",
    ")\n",
    "model.summary()"
   ]
  },
  {
   "cell_type": "code",
   "execution_count": 14,
   "metadata": {},
   "outputs": [
    {
     "name": "stderr",
     "output_type": "stream",
     "text": [
      "c:\\Users\\jaesc2\\Miniconda3\\envs\\skforecast_py11_2\\Lib\\site-packages\\keras\\src\\saving\\saving_lib.py:719: UserWarning: Skipping variable loading for optimizer 'adam', because it has 20 variables whereas the saved optimizer has 2 variables. \n",
      "  saveable.load_own_variables(weights_store.get(inner_path))\n"
     ]
    }
   ],
   "source": [
    "forecaster = ForecasterRnn(model, levels, lags=lags)"
   ]
  },
  {
   "cell_type": "code",
   "execution_count": 15,
   "metadata": {},
   "outputs": [
    {
     "name": "stderr",
     "output_type": "stream",
     "text": [
      "c:\\Users\\jaesc2\\Miniconda3\\envs\\skforecast_py11_2\\Lib\\site-packages\\keras\\src\\models\\functional.py:225: UserWarning: The structure of `inputs` doesn't match the expected structure: ['input_layer_2', 'input_layer_3']. Received: the structure of inputs=('*', '*')\n",
      "  warnings.warn(\n"
     ]
    },
    {
     "name": "stdout",
     "output_type": "stream",
     "text": [
      "\u001b[1m2/2\u001b[0m \u001b[32m━━━━━━━━━━━━━━━━━━━━\u001b[0m\u001b[37m\u001b[0m \u001b[1m2s\u001b[0m 10ms/step - loss: 0.3123\n"
     ]
    },
    {
     "name": "stderr",
     "output_type": "stream",
     "text": [
      "c:\\Users\\jaesc2\\Miniconda3\\envs\\skforecast_py11_2\\Lib\\site-packages\\keras\\src\\models\\functional.py:225: UserWarning: The structure of `inputs` doesn't match the expected structure: ['input_layer_2', 'input_layer_3']. Received: the structure of inputs=('*', '*')\n",
      "  warnings.warn(\n"
     ]
    }
   ],
   "source": [
    "forecaster.fit(\n",
    "    series=series, exog=exog, store_in_sample_residuals=True\n",
    ")"
   ]
  },
  {
   "cell_type": "code",
   "execution_count": 16,
   "metadata": {},
   "outputs": [
    {
     "name": "stdout",
     "output_type": "stream",
     "text": [
      "3.6.0\n",
      "tensorflow\n"
     ]
    }
   ],
   "source": [
    "import keras\n",
    "\n",
    "print(keras.__version__)\n",
    "print(keras.backend.backend())"
   ]
  },
  {
   "cell_type": "code",
   "execution_count": 17,
   "metadata": {},
   "outputs": [
    {
     "data": {
      "text/plain": [
       "(42, 4, 3)"
      ]
     },
     "execution_count": 17,
     "metadata": {},
     "output_type": "execute_result"
    }
   ],
   "source": [
    "_ = forecaster.create_train_X_y(series)\n",
    "_[0].shape"
   ]
  },
  {
   "cell_type": "code",
   "execution_count": 18,
   "metadata": {},
   "outputs": [
    {
     "data": {
      "text/plain": [
       "array([[-2.22314281e-02, -5.04292456e-02],\n",
       "       [-1.28548702e-02, -4.66091444e-02],\n",
       "       [-3.63974395e-03, -4.22462982e-02],\n",
       "       [ 5.81763046e-03, -3.90866016e-02],\n",
       "       [ 1.48060206e-02, -3.57131776e-02],\n",
       "       [ 2.25592535e-02, -3.32082677e-02],\n",
       "       [ 2.97136088e-02, -3.05801402e-02],\n",
       "       [ 3.68845341e-02, -2.80100825e-02],\n",
       "       [ 4.38576614e-02, -2.54078532e-02],\n",
       "       [ 5.06460740e-02, -2.27991866e-02],\n",
       "       [ 5.74173800e-02, -2.02286669e-02],\n",
       "       [ 6.41956001e-02, -1.76781148e-02],\n",
       "       [ 7.11251862e-02, -1.52867668e-02],\n",
       "       [ 7.83910021e-02, -1.30097404e-02],\n",
       "       [ 8.56444501e-02, -1.07622779e-02],\n",
       "       [ 9.28966166e-02, -8.56226074e-03],\n",
       "       [ 1.00123093e-01, -6.38703911e-03],\n",
       "       [ 1.07333000e-01, -4.23601695e-03],\n",
       "       [ 1.14492750e-01, -2.13196326e-03],\n",
       "       [ 1.21629730e-01, -6.80831014e-05],\n",
       "       [ 1.28744061e-01,  1.97284927e-03],\n",
       "       [ 1.35840927e-01,  3.98958216e-03],\n",
       "       [ 1.42717316e-01,  5.94069033e-03],\n",
       "       [ 1.49539346e-01,  7.85913516e-03],\n",
       "       [ 1.56341766e-01,  9.75338050e-03],\n",
       "       [ 1.63127019e-01,  1.16225919e-02],\n",
       "       [ 1.69894004e-01,  1.34684383e-02],\n",
       "       [ 1.76643196e-01,  1.52905620e-02],\n",
       "       [ 1.83374031e-01,  1.70850888e-02],\n",
       "       [ 1.90085613e-01,  1.88511245e-02],\n",
       "       [ 1.96779820e-01,  2.05919475e-02],\n",
       "       [ 2.03455193e-01,  2.23076173e-02],\n",
       "       [ 2.10111134e-01,  2.39984320e-02],\n",
       "       [ 2.16744247e-01,  2.56651068e-02],\n",
       "       [ 2.23360193e-01,  2.73062112e-02],\n",
       "       [ 2.29960225e-01,  2.89209704e-02],\n",
       "       [ 2.36544283e-01,  3.05092651e-02],\n",
       "       [ 2.43112307e-01,  3.20713338e-02],\n",
       "       [ 2.49664179e-01,  3.36068783e-02],\n",
       "       [ 2.56199242e-01,  3.51173294e-02],\n",
       "       [ 2.62717139e-01,  3.66025080e-02],\n",
       "       [ 2.69219062e-01,  3.80608646e-02]])"
      ]
     },
     "execution_count": 18,
     "metadata": {},
     "output_type": "execute_result"
    }
   ],
   "source": [
    "forecaster.in_sample_residuals_[1]"
   ]
  },
  {
   "cell_type": "code",
   "execution_count": 19,
   "metadata": {},
   "outputs": [
    {
     "data": {
      "text/plain": [
       "array([[-0.13833536,  0.0371483 ],\n",
       "       [-0.14441836,  0.05066295],\n",
       "       [-0.15144756,  0.06424513],\n",
       "       [-0.15945001,  0.07783952],\n",
       "       [-0.16647619,  0.09219622]])"
      ]
     },
     "execution_count": 19,
     "metadata": {},
     "output_type": "execute_result"
    }
   ],
   "source": [
    "forecaster.in_sample_residuals_[2][:5, :]"
   ]
  },
  {
   "cell_type": "code",
   "execution_count": 20,
   "metadata": {},
   "outputs": [
    {
     "data": {
      "text/plain": [
       "['1', '2', '3']"
      ]
     },
     "execution_count": 20,
     "metadata": {},
     "output_type": "execute_result"
    }
   ],
   "source": [
    "forecaster.series_names_in_"
   ]
  },
  {
   "cell_type": "code",
   "execution_count": 21,
   "metadata": {},
   "outputs": [
    {
     "data": {
      "text/plain": [
       "['1', '2']"
      ]
     },
     "execution_count": 21,
     "metadata": {},
     "output_type": "execute_result"
    }
   ],
   "source": [
    "forecaster.levels"
   ]
  },
  {
   "cell_type": "code",
   "execution_count": 22,
   "metadata": {},
   "outputs": [
    {
     "data": {
      "text/html": [
       "<div>\n",
       "<style scoped>\n",
       "    .dataframe tbody tr th:only-of-type {\n",
       "        vertical-align: middle;\n",
       "    }\n",
       "\n",
       "    .dataframe tbody tr th {\n",
       "        vertical-align: top;\n",
       "    }\n",
       "\n",
       "    .dataframe thead th {\n",
       "        text-align: right;\n",
       "    }\n",
       "</style>\n",
       "<table border=\"1\" class=\"dataframe\">\n",
       "  <thead>\n",
       "    <tr style=\"text-align: right;\">\n",
       "      <th></th>\n",
       "      <th>1</th>\n",
       "      <th>2</th>\n",
       "      <th>3</th>\n",
       "    </tr>\n",
       "  </thead>\n",
       "  <tbody>\n",
       "    <tr>\n",
       "      <th>46</th>\n",
       "      <td>46.0</td>\n",
       "      <td>96.0</td>\n",
       "      <td>146.0</td>\n",
       "    </tr>\n",
       "    <tr>\n",
       "      <th>47</th>\n",
       "      <td>47.0</td>\n",
       "      <td>97.0</td>\n",
       "      <td>147.0</td>\n",
       "    </tr>\n",
       "    <tr>\n",
       "      <th>48</th>\n",
       "      <td>48.0</td>\n",
       "      <td>98.0</td>\n",
       "      <td>148.0</td>\n",
       "    </tr>\n",
       "    <tr>\n",
       "      <th>49</th>\n",
       "      <td>49.0</td>\n",
       "      <td>99.0</td>\n",
       "      <td>149.0</td>\n",
       "    </tr>\n",
       "  </tbody>\n",
       "</table>\n",
       "</div>"
      ],
      "text/plain": [
       "       1     2      3\n",
       "46  46.0  96.0  146.0\n",
       "47  47.0  97.0  147.0\n",
       "48  48.0  98.0  148.0\n",
       "49  49.0  99.0  149.0"
      ]
     },
     "execution_count": 22,
     "metadata": {},
     "output_type": "execute_result"
    }
   ],
   "source": [
    "forecaster.last_window_"
   ]
  },
  {
   "cell_type": "code",
   "execution_count": 23,
   "metadata": {},
   "outputs": [
    {
     "data": {
      "text/html": [
       "<pre style=\"white-space:pre;overflow-x:auto;line-height:normal;font-family:Menlo,'DejaVu Sans Mono',consolas,'Courier New',monospace\"><span style=\"color: #ffaf00; text-decoration-color: #ffaf00\">╭──────────────────────────────── MissingValuesWarning ────────────────────────────────╮</span>\n",
       "<span style=\"color: #ffaf00; text-decoration-color: #ffaf00\">│</span> `exog` has missing values. Most of machine learning models do not allow missing      <span style=\"color: #ffaf00; text-decoration-color: #ffaf00\">│</span>\n",
       "<span style=\"color: #ffaf00; text-decoration-color: #ffaf00\">│</span> values. Prediction method may fail.                                                  <span style=\"color: #ffaf00; text-decoration-color: #ffaf00\">│</span>\n",
       "<span style=\"color: #ffaf00; text-decoration-color: #ffaf00\">│</span>                                                                                      <span style=\"color: #ffaf00; text-decoration-color: #ffaf00\">│</span>\n",
       "<span style=\"color: #ffaf00; text-decoration-color: #ffaf00\">│</span> Category : MissingValuesWarning                                                      <span style=\"color: #ffaf00; text-decoration-color: #ffaf00\">│</span>\n",
       "<span style=\"color: #ffaf00; text-decoration-color: #ffaf00\">│</span> Location : c:\\Users\\jaesc2\\GitHub\\skforecast\\skforecast\\utils\\utils.py:1046          <span style=\"color: #ffaf00; text-decoration-color: #ffaf00\">│</span>\n",
       "<span style=\"color: #ffaf00; text-decoration-color: #ffaf00\">│</span> Suppress : warnings.simplefilter('ignore', category=MissingValuesWarning)            <span style=\"color: #ffaf00; text-decoration-color: #ffaf00\">│</span>\n",
       "<span style=\"color: #ffaf00; text-decoration-color: #ffaf00\">╰──────────────────────────────────────────────────────────────────────────────────────╯</span>\n",
       "</pre>\n"
      ],
      "text/plain": [
       "\u001b[38;5;214m╭─\u001b[0m\u001b[38;5;214m───────────────────────────────\u001b[0m\u001b[38;5;214m MissingValuesWarning \u001b[0m\u001b[38;5;214m───────────────────────────────\u001b[0m\u001b[38;5;214m─╮\u001b[0m\n",
       "\u001b[38;5;214m│\u001b[0m `exog` has missing values. Most of machine learning models do not allow missing      \u001b[38;5;214m│\u001b[0m\n",
       "\u001b[38;5;214m│\u001b[0m values. Prediction method may fail.                                                  \u001b[38;5;214m│\u001b[0m\n",
       "\u001b[38;5;214m│\u001b[0m                                                                                      \u001b[38;5;214m│\u001b[0m\n",
       "\u001b[38;5;214m│\u001b[0m Category : MissingValuesWarning                                                      \u001b[38;5;214m│\u001b[0m\n",
       "\u001b[38;5;214m│\u001b[0m Location : c:\\Users\\jaesc2\\GitHub\\skforecast\\skforecast\\utils\\utils.py:1046          \u001b[38;5;214m│\u001b[0m\n",
       "\u001b[38;5;214m│\u001b[0m Suppress : warnings.simplefilter('ignore', category=MissingValuesWarning)            \u001b[38;5;214m│\u001b[0m\n",
       "\u001b[38;5;214m╰──────────────────────────────────────────────────────────────────────────────────────╯\u001b[0m\n"
      ]
     },
     "metadata": {},
     "output_type": "display_data"
    },
    {
     "data": {
      "text/html": [
       "<pre style=\"white-space:pre;overflow-x:auto;line-height:normal;font-family:Menlo,'DejaVu Sans Mono',consolas,'Courier New',monospace\"><span style=\"color: #ffaf00; text-decoration-color: #ffaf00\">╭──────────────────────────────── MissingValuesWarning ────────────────────────────────╮</span>\n",
       "<span style=\"color: #ffaf00; text-decoration-color: #ffaf00\">│</span> `exog` has missing values. Most machine learning models do not allow missing values. <span style=\"color: #ffaf00; text-decoration-color: #ffaf00\">│</span>\n",
       "<span style=\"color: #ffaf00; text-decoration-color: #ffaf00\">│</span> Fitting the forecaster may fail.                                                     <span style=\"color: #ffaf00; text-decoration-color: #ffaf00\">│</span>\n",
       "<span style=\"color: #ffaf00; text-decoration-color: #ffaf00\">│</span>                                                                                      <span style=\"color: #ffaf00; text-decoration-color: #ffaf00\">│</span>\n",
       "<span style=\"color: #ffaf00; text-decoration-color: #ffaf00\">│</span> Category : MissingValuesWarning                                                      <span style=\"color: #ffaf00; text-decoration-color: #ffaf00\">│</span>\n",
       "<span style=\"color: #ffaf00; text-decoration-color: #ffaf00\">│</span> Location : c:\\Users\\jaesc2\\GitHub\\skforecast\\skforecast\\utils\\utils.py:568           <span style=\"color: #ffaf00; text-decoration-color: #ffaf00\">│</span>\n",
       "<span style=\"color: #ffaf00; text-decoration-color: #ffaf00\">│</span> Suppress : warnings.simplefilter('ignore', category=MissingValuesWarning)            <span style=\"color: #ffaf00; text-decoration-color: #ffaf00\">│</span>\n",
       "<span style=\"color: #ffaf00; text-decoration-color: #ffaf00\">╰──────────────────────────────────────────────────────────────────────────────────────╯</span>\n",
       "</pre>\n"
      ],
      "text/plain": [
       "\u001b[38;5;214m╭─\u001b[0m\u001b[38;5;214m───────────────────────────────\u001b[0m\u001b[38;5;214m MissingValuesWarning \u001b[0m\u001b[38;5;214m───────────────────────────────\u001b[0m\u001b[38;5;214m─╮\u001b[0m\n",
       "\u001b[38;5;214m│\u001b[0m `exog` has missing values. Most machine learning models do not allow missing values. \u001b[38;5;214m│\u001b[0m\n",
       "\u001b[38;5;214m│\u001b[0m Fitting the forecaster may fail.                                                     \u001b[38;5;214m│\u001b[0m\n",
       "\u001b[38;5;214m│\u001b[0m                                                                                      \u001b[38;5;214m│\u001b[0m\n",
       "\u001b[38;5;214m│\u001b[0m Category : MissingValuesWarning                                                      \u001b[38;5;214m│\u001b[0m\n",
       "\u001b[38;5;214m│\u001b[0m Location : c:\\Users\\jaesc2\\GitHub\\skforecast\\skforecast\\utils\\utils.py:568           \u001b[38;5;214m│\u001b[0m\n",
       "\u001b[38;5;214m│\u001b[0m Suppress : warnings.simplefilter('ignore', category=MissingValuesWarning)            \u001b[38;5;214m│\u001b[0m\n",
       "\u001b[38;5;214m╰──────────────────────────────────────────────────────────────────────────────────────╯\u001b[0m\n"
      ]
     },
     "metadata": {},
     "output_type": "display_data"
    },
    {
     "ename": "TypeError",
     "evalue": "slice indices must be integers or None or have an __index__ method",
     "output_type": "error",
     "traceback": [
      "\u001b[31m---------------------------------------------------------------------------\u001b[39m",
      "\u001b[31mTypeError\u001b[39m                                 Traceback (most recent call last)",
      "\u001b[36mCell\u001b[39m\u001b[36m \u001b[39m\u001b[32mIn[23]\u001b[39m\u001b[32m, line 1\u001b[39m\n\u001b[32m----> \u001b[39m\u001b[32m1\u001b[39m inputs = \u001b[43mforecaster\u001b[49m\u001b[43m.\u001b[49m\u001b[43m_create_predict_inputs\u001b[49m\u001b[43m(\u001b[49m\n\u001b[32m      2\u001b[39m \u001b[43m    \u001b[49m\u001b[43msteps\u001b[49m\u001b[43m=\u001b[49m\u001b[32;43m3\u001b[39;49m\u001b[43m,\u001b[49m\u001b[43m \u001b[49m\u001b[43mlevels\u001b[49m\u001b[43m=\u001b[49m\u001b[43m[\u001b[49m\u001b[33;43m'\u001b[39;49m\u001b[33;43m1\u001b[39;49m\u001b[33;43m'\u001b[39;49m\u001b[43m,\u001b[49m\u001b[43m \u001b[49m\u001b[33;43m'\u001b[39;49m\u001b[33;43m2\u001b[39;49m\u001b[33;43m'\u001b[39;49m\u001b[43m]\u001b[49m\u001b[43m,\u001b[49m\u001b[43m \u001b[49m\u001b[43mexog\u001b[49m\u001b[43m=\u001b[49m\u001b[43mexog_predict\u001b[49m\n\u001b[32m      3\u001b[39m \u001b[43m)\u001b[49m\n\u001b[32m      4\u001b[39m inputs\n",
      "\u001b[36mFile \u001b[39m\u001b[32mc:\\Users\\jaesc2\\GitHub\\skforecast\\skforecast\\deep_learning\\_forecaster_rnn.py:971\u001b[39m, in \u001b[36mForecasterRnn._create_predict_inputs\u001b[39m\u001b[34m(self, steps, levels, last_window, exog, predict_probabilistic, use_in_sample_residuals, check_inputs)\u001b[39m\n\u001b[32m    963\u001b[39m     exog = transform_dataframe(\n\u001b[32m    964\u001b[39m                df                = exog,\n\u001b[32m    965\u001b[39m                transformer       = \u001b[38;5;28mself\u001b[39m.transformer_exog,\n\u001b[32m    966\u001b[39m                fit               = \u001b[38;5;28;01mFalse\u001b[39;00m,\n\u001b[32m    967\u001b[39m                inverse_transform = \u001b[38;5;28;01mFalse\u001b[39;00m\n\u001b[32m    968\u001b[39m            )\n\u001b[32m    969\u001b[39m     check_exog_dtypes(exog=exog)\n\u001b[32m--> \u001b[39m\u001b[32m971\u001b[39m     X = [X, \u001b[43mexog\u001b[49m\u001b[43m.\u001b[49m\u001b[43mto_numpy\u001b[49m\u001b[43m(\u001b[49m\u001b[43m)\u001b[49m\u001b[43m[\u001b[49m\u001b[43m:\u001b[49m\u001b[43msteps\u001b[49m\u001b[43m]\u001b[49m]\n\u001b[32m    972\u001b[39m     X_col_names = X_col_names + exog.columns.to_list()\n\u001b[32m    974\u001b[39m \u001b[38;5;28;01mreturn\u001b[39;00m X, X_col_names, steps, levels, prediction_index\n",
      "\u001b[31mTypeError\u001b[39m: slice indices must be integers or None or have an __index__ method"
     ]
    }
   ],
   "source": [
    "inputs = forecaster._create_predict_inputs(\n",
    "    steps=3, levels=['1', '2'], exog=exog_predict\n",
    ")\n",
    "inputs"
   ]
  },
  {
   "cell_type": "code",
   "execution_count": 36,
   "metadata": {},
   "outputs": [
    {
     "data": {
      "text/html": [
       "<div>\n",
       "<style scoped>\n",
       "    .dataframe tbody tr th:only-of-type {\n",
       "        vertical-align: middle;\n",
       "    }\n",
       "\n",
       "    .dataframe tbody tr th {\n",
       "        vertical-align: top;\n",
       "    }\n",
       "\n",
       "    .dataframe thead th {\n",
       "        text-align: right;\n",
       "    }\n",
       "</style>\n",
       "<table border=\"1\" class=\"dataframe\">\n",
       "  <thead>\n",
       "    <tr style=\"text-align: right;\">\n",
       "      <th></th>\n",
       "      <th>level</th>\n",
       "      <th>pred</th>\n",
       "    </tr>\n",
       "  </thead>\n",
       "  <tbody>\n",
       "    <tr>\n",
       "      <th>10</th>\n",
       "      <td>1</td>\n",
       "      <td>0.512350</td>\n",
       "    </tr>\n",
       "    <tr>\n",
       "      <th>10</th>\n",
       "      <td>2</td>\n",
       "      <td>50.650616</td>\n",
       "    </tr>\n",
       "    <tr>\n",
       "      <th>11</th>\n",
       "      <td>1</td>\n",
       "      <td>0.694859</td>\n",
       "    </tr>\n",
       "    <tr>\n",
       "      <th>11</th>\n",
       "      <td>2</td>\n",
       "      <td>50.684875</td>\n",
       "    </tr>\n",
       "  </tbody>\n",
       "</table>\n",
       "</div>"
      ],
      "text/plain": [
       "   level       pred\n",
       "10     1   0.512350\n",
       "10     2  50.650616\n",
       "11     1   0.694859\n",
       "11     2  50.684875"
      ]
     },
     "execution_count": 36,
     "metadata": {},
     "output_type": "execute_result"
    }
   ],
   "source": [
    "predictions = forecaster.predict(steps=2, levels=['1', \"2\"])\n",
    "predictions"
   ]
  },
  {
   "cell_type": "code",
   "execution_count": 34,
   "metadata": {},
   "outputs": [
    {
     "data": {
      "text/plain": [
       "array([[[0.        , 0.        , 0.        ],\n",
       "        [0.11111111, 0.11111111, 0.11111111],\n",
       "        [0.22222222, 0.22222222, 0.22222222]],\n",
       "\n",
       "       [[0.11111111, 0.11111111, 0.11111111],\n",
       "        [0.22222222, 0.22222222, 0.22222222],\n",
       "        [0.33333333, 0.33333333, 0.33333333]],\n",
       "\n",
       "       [[0.22222222, 0.22222222, 0.22222222],\n",
       "        [0.33333333, 0.33333333, 0.33333333],\n",
       "        [0.44444444, 0.44444444, 0.44444444]],\n",
       "\n",
       "       [[0.33333333, 0.33333333, 0.33333333],\n",
       "        [0.44444444, 0.44444444, 0.44444444],\n",
       "        [0.55555556, 0.55555556, 0.55555556]],\n",
       "\n",
       "       [[0.44444444, 0.44444444, 0.44444444],\n",
       "        [0.55555556, 0.55555556, 0.55555556],\n",
       "        [0.66666667, 0.66666667, 0.66666667]],\n",
       "\n",
       "       [[0.55555556, 0.55555556, 0.55555556],\n",
       "        [0.66666667, 0.66666667, 0.66666667],\n",
       "        [0.77777778, 0.77777778, 0.77777778]]])"
      ]
     },
     "execution_count": 34,
     "metadata": {},
     "output_type": "execute_result"
    }
   ],
   "source": [
    "_[0]"
   ]
  },
  {
   "cell_type": "code",
   "execution_count": null,
   "metadata": {},
   "outputs": [
    {
     "data": {
      "text/plain": [
       "array([[[0.02714103, 0.03129969],\n",
       "        [0.03067968, 0.02870654]],\n",
       "\n",
       "       [[0.03108143, 0.03507841],\n",
       "        [0.03619017, 0.03491943]],\n",
       "\n",
       "       [[0.03488293, 0.03987598],\n",
       "        [0.04253578, 0.04175308]],\n",
       "\n",
       "       [[0.03886062, 0.04558587],\n",
       "        [0.04964645, 0.04881068]],\n",
       "\n",
       "       [[0.04309836, 0.05186733],\n",
       "        [0.056449  , 0.05565476]],\n",
       "\n",
       "       [[0.04744031, 0.05885262],\n",
       "        [0.06324376, 0.06249271]]], dtype=float32)"
      ]
     },
     "execution_count": 33,
     "metadata": {},
     "output_type": "execute_result"
    }
   ],
   "source": [
    "steps = 2\n",
    "levels = 2\n",
    "\n",
    "_ = forecaster.create_train_X_y(series)\n",
    "forecaster.regressor.predict(x=_[0], verbose=0)"
   ]
  },
  {
   "cell_type": "code",
   "execution_count": null,
   "metadata": {},
   "outputs": [],
   "source": [
    "_ = forecaster.create_train_X_y(series)\n",
    "forecaster.regressor.predict(x=_[0], verbose=0)"
   ]
  },
  {
   "cell_type": "code",
   "execution_count": 125,
   "metadata": {},
   "outputs": [
    {
     "data": {
      "text/html": [
       "<div>\n",
       "<style scoped>\n",
       "    .dataframe tbody tr th:only-of-type {\n",
       "        vertical-align: middle;\n",
       "    }\n",
       "\n",
       "    .dataframe tbody tr th {\n",
       "        vertical-align: top;\n",
       "    }\n",
       "\n",
       "    .dataframe thead th {\n",
       "        text-align: right;\n",
       "    }\n",
       "</style>\n",
       "<table border=\"1\" class=\"dataframe\">\n",
       "  <thead>\n",
       "    <tr style=\"text-align: right;\">\n",
       "      <th></th>\n",
       "      <th>level</th>\n",
       "      <th>pred</th>\n",
       "    </tr>\n",
       "  </thead>\n",
       "  <tbody>\n",
       "    <tr>\n",
       "      <th>50</th>\n",
       "      <td>1</td>\n",
       "      <td>7.713717</td>\n",
       "    </tr>\n",
       "    <tr>\n",
       "      <th>50</th>\n",
       "      <td>2</td>\n",
       "      <td>61.483234</td>\n",
       "    </tr>\n",
       "    <tr>\n",
       "      <th>51</th>\n",
       "      <td>1</td>\n",
       "      <td>25.941444</td>\n",
       "    </tr>\n",
       "    <tr>\n",
       "      <th>51</th>\n",
       "      <td>2</td>\n",
       "      <td>55.504932</td>\n",
       "    </tr>\n",
       "    <tr>\n",
       "      <th>52</th>\n",
       "      <td>1</td>\n",
       "      <td>31.411823</td>\n",
       "    </tr>\n",
       "    <tr>\n",
       "      <th>52</th>\n",
       "      <td>2</td>\n",
       "      <td>82.724594</td>\n",
       "    </tr>\n",
       "  </tbody>\n",
       "</table>\n",
       "</div>"
      ],
      "text/plain": [
       "   level       pred\n",
       "50     1   7.713717\n",
       "50     2  61.483234\n",
       "51     1  25.941444\n",
       "51     2  55.504932\n",
       "52     1  31.411823\n",
       "52     2  82.724594"
      ]
     },
     "execution_count": 125,
     "metadata": {},
     "output_type": "execute_result"
    }
   ],
   "source": [
    "predictions = forecaster.predict(steps=3, levels=None)\n",
    "predictions"
   ]
  },
  {
   "cell_type": "code",
   "execution_count": 9,
   "metadata": {},
   "outputs": [
    {
     "name": "stdout",
     "output_type": "stream",
     "text": [
      "[[0.55023268 0.45024333]\n",
      " [0.58160202 0.35509963]\n",
      " [0.41151223 0.49386649]]\n"
     ]
    },
    {
     "data": {
      "text/html": [
       "<div>\n",
       "<style scoped>\n",
       "    .dataframe tbody tr th:only-of-type {\n",
       "        vertical-align: middle;\n",
       "    }\n",
       "\n",
       "    .dataframe tbody tr th {\n",
       "        vertical-align: top;\n",
       "    }\n",
       "\n",
       "    .dataframe thead th {\n",
       "        text-align: right;\n",
       "    }\n",
       "</style>\n",
       "<table border=\"1\" class=\"dataframe\">\n",
       "  <thead>\n",
       "    <tr style=\"text-align: right;\">\n",
       "      <th></th>\n",
       "      <th>level</th>\n",
       "      <th>pred</th>\n",
       "      <th>lower_bound</th>\n",
       "      <th>upper_bound</th>\n",
       "    </tr>\n",
       "  </thead>\n",
       "  <tbody>\n",
       "    <tr>\n",
       "      <th>50</th>\n",
       "      <td>1</td>\n",
       "      <td>18.687877</td>\n",
       "      <td>-8.273525</td>\n",
       "      <td>45.649278</td>\n",
       "    </tr>\n",
       "    <tr>\n",
       "      <th>50</th>\n",
       "      <td>2</td>\n",
       "      <td>74.351726</td>\n",
       "      <td>52.289802</td>\n",
       "      <td>96.413649</td>\n",
       "    </tr>\n",
       "    <tr>\n",
       "      <th>51</th>\n",
       "      <td>1</td>\n",
       "      <td>18.113966</td>\n",
       "      <td>-10.384533</td>\n",
       "      <td>46.612465</td>\n",
       "    </tr>\n",
       "    <tr>\n",
       "      <th>51</th>\n",
       "      <td>2</td>\n",
       "      <td>80.556508</td>\n",
       "      <td>63.156627</td>\n",
       "      <td>97.956390</td>\n",
       "    </tr>\n",
       "    <tr>\n",
       "      <th>52</th>\n",
       "      <td>1</td>\n",
       "      <td>28.626856</td>\n",
       "      <td>8.462757</td>\n",
       "      <td>48.790955</td>\n",
       "    </tr>\n",
       "    <tr>\n",
       "      <th>52</th>\n",
       "      <td>2</td>\n",
       "      <td>74.064660</td>\n",
       "      <td>49.865202</td>\n",
       "      <td>98.264118</td>\n",
       "    </tr>\n",
       "  </tbody>\n",
       "</table>\n",
       "</div>"
      ],
      "text/plain": [
       "   level       pred  lower_bound  upper_bound\n",
       "50     1  18.687877    -8.273525    45.649278\n",
       "50     2  74.351726    52.289802    96.413649\n",
       "51     1  18.113966   -10.384533    46.612465\n",
       "51     2  80.556508    63.156627    97.956390\n",
       "52     1  28.626856     8.462757    48.790955\n",
       "52     2  74.064660    49.865202    98.264118"
      ]
     },
     "execution_count": 9,
     "metadata": {},
     "output_type": "execute_result"
    }
   ],
   "source": [
    "predictions = forecaster._predict_interval_conformal(steps=3, levels=None)\n",
    "predictions"
   ]
  },
  {
   "cell_type": "code",
   "execution_count": 140,
   "metadata": {},
   "outputs": [
    {
     "data": {
      "text/html": [
       "<div>\n",
       "<style scoped>\n",
       "    .dataframe tbody tr th:only-of-type {\n",
       "        vertical-align: middle;\n",
       "    }\n",
       "\n",
       "    .dataframe tbody tr th {\n",
       "        vertical-align: top;\n",
       "    }\n",
       "\n",
       "    .dataframe thead th {\n",
       "        text-align: right;\n",
       "    }\n",
       "</style>\n",
       "<table border=\"1\" class=\"dataframe\">\n",
       "  <thead>\n",
       "    <tr style=\"text-align: right;\">\n",
       "      <th></th>\n",
       "      <th>level</th>\n",
       "      <th>pred</th>\n",
       "      <th>lower_bound</th>\n",
       "      <th>upper_bound</th>\n",
       "    </tr>\n",
       "  </thead>\n",
       "  <tbody>\n",
       "    <tr>\n",
       "      <th>50</th>\n",
       "      <td>1</td>\n",
       "      <td>7.713717</td>\n",
       "      <td>-29.086494</td>\n",
       "      <td>44.513928</td>\n",
       "    </tr>\n",
       "    <tr>\n",
       "      <th>51</th>\n",
       "      <td>1</td>\n",
       "      <td>25.941444</td>\n",
       "      <td>4.372634</td>\n",
       "      <td>47.510253</td>\n",
       "    </tr>\n",
       "    <tr>\n",
       "      <th>52</th>\n",
       "      <td>1</td>\n",
       "      <td>31.411823</td>\n",
       "      <td>13.783603</td>\n",
       "      <td>49.040043</td>\n",
       "    </tr>\n",
       "  </tbody>\n",
       "</table>\n",
       "</div>"
      ],
      "text/plain": [
       "   level       pred  lower_bound  upper_bound\n",
       "50     1   7.713717   -29.086494    44.513928\n",
       "51     1  25.941444     4.372634    47.510253\n",
       "52     1  31.411823    13.783603    49.040043"
      ]
     },
     "execution_count": 140,
     "metadata": {},
     "output_type": "execute_result"
    }
   ],
   "source": [
    "predictions = forecaster._predict_interval_conformal(steps=3, levels=['1'])\n",
    "predictions"
   ]
  },
  {
   "cell_type": "code",
   "execution_count": 144,
   "metadata": {},
   "outputs": [
    {
     "data": {
      "text/plain": [
       "np.float64(0.8132576974450934)"
      ]
     },
     "execution_count": 144,
     "metadata": {},
     "output_type": "execute_result"
    }
   ],
   "source": [
    "np.quantile(\n",
    "    np.abs(forecaster.in_sample_residuals_[2][:, 1]), 0.95\n",
    ")"
   ]
  },
  {
   "cell_type": "code",
   "execution_count": null,
   "metadata": {},
   "outputs": [
    {
     "data": {
      "text/plain": [
       "{1: array([[ 0.00300063, -0.02063499],\n",
       "        [ 0.02164905, -0.00324193],\n",
       "        [ 0.04019636,  0.01412207],\n",
       "        [ 0.05871693,  0.03156052],\n",
       "        [ 0.07703444,  0.04902489],\n",
       "        [ 0.09533564,  0.06641259],\n",
       "        [ 0.11370614,  0.0837122 ],\n",
       "        [ 0.13206353,  0.10091294],\n",
       "        [ 0.15043704,  0.11811714],\n",
       "        [ 0.1688066 ,  0.1353427 ],\n",
       "        [ 0.1871703 ,  0.15255236],\n",
       "        [ 0.20552565,  0.16975107],\n",
       "        [ 0.2238739 ,  0.18696467],\n",
       "        [ 0.2422113 ,  0.20416079],\n",
       "        [ 0.26053225,  0.22133179],\n",
       "        [ 0.2789068 ,  0.23851671],\n",
       "        [ 0.29727427,  0.2556899 ],\n",
       "        [ 0.31563729,  0.27285653],\n",
       "        [ 0.33399589,  0.29001659],\n",
       "        [ 0.35235008,  0.30717007],\n",
       "        [ 0.37069992,  0.32431521],\n",
       "        [ 0.38904568,  0.34144994],\n",
       "        [ 0.40738741,  0.3585762 ],\n",
       "        [ 0.42566772,  0.37572525],\n",
       "        [ 0.44391787,  0.39288245],\n",
       "        [ 0.46216279,  0.41003336],\n",
       "        [ 0.48040247,  0.42717802],\n",
       "        [ 0.49863687,  0.4443164 ],\n",
       "        [ 0.51686604,  0.46144852],\n",
       "        [ 0.53508995,  0.47857433],\n",
       "        [ 0.55330852,  0.49569387],\n",
       "        [ 0.57152185,  0.51280709],\n",
       "        [ 0.58972985,  0.52991393],\n",
       "        [ 0.60793252,  0.54701447],\n",
       "        [ 0.62612994,  0.56410867],\n",
       "        [ 0.64434486,  0.58120545],\n",
       "        [ 0.66259322,  0.59831101],\n",
       "        [ 0.68083643,  0.61541031],\n",
       "        [ 0.69907453,  0.63250343],\n",
       "        [ 0.71730754,  0.64959013],\n",
       "        [ 0.73553543,  0.66667052],\n",
       "        [ 0.75375813,  0.68374474],\n",
       "        [ 0.77197561,  0.7008126 ],\n",
       "        [ 0.79018804,  0.71787401]]),\n",
       " 2: array([[-0.06084292,  0.04033032],\n",
       "        [-0.0471699 ,  0.05946064],\n",
       "        [-0.03366387,  0.07856351],\n",
       "        [-0.02041619,  0.09760109],\n",
       "        [-0.0071351 ,  0.11638139],\n",
       "        [ 0.00610772,  0.13518553],\n",
       "        [ 0.01891352,  0.15413715],\n",
       "        [ 0.03152035,  0.17316596],\n",
       "        [ 0.0440439 ,  0.19216473],\n",
       "        [ 0.05648179,  0.21113154],\n",
       "        [ 0.06888451,  0.2300982 ],\n",
       "        [ 0.08125591,  0.24908594],\n",
       "        [ 0.09362853,  0.26809624],\n",
       "        [ 0.10599469,  0.28710833],\n",
       "        [ 0.11836165,  0.30612717],\n",
       "        [ 0.13069484,  0.32509655],\n",
       "        [ 0.14299767,  0.34405039],\n",
       "        [ 0.15527758,  0.36299968],\n",
       "        [ 0.16753445,  0.38194439],\n",
       "        [ 0.17976834,  0.40088449],\n",
       "        [ 0.19198298,  0.41981878],\n",
       "        [ 0.20418305,  0.43874571],\n",
       "        [ 0.21635918,  0.45766898],\n",
       "        [ 0.22846198,  0.4766032 ],\n",
       "        [ 0.24052027,  0.4955385 ],\n",
       "        [ 0.25255461,  0.51446938],\n",
       "        [ 0.26456504,  0.53339577],\n",
       "        [ 0.27655143,  0.55231762],\n",
       "        [ 0.28851403,  0.57123498],\n",
       "        [ 0.30045249,  0.59014787],\n",
       "        [ 0.31236691,  0.60905619],\n",
       "        [ 0.32425724,  0.62796004],\n",
       "        [ 0.33612349,  0.64685933],\n",
       "        [ 0.3479656 ,  0.66575408],\n",
       "        [ 0.35978357,  0.68464429],\n",
       "        [ 0.3715831 ,  0.70349096],\n",
       "        [ 0.38336805,  0.72226658],\n",
       "        [ 0.3951288 ,  0.74103734],\n",
       "        [ 0.40686532,  0.75980304],\n",
       "        [ 0.41857758,  0.77856372],\n",
       "        [ 0.43026568,  0.79731956],\n",
       "        [ 0.44192933,  0.81607031],\n",
       "        [ 0.45356861,  0.83481617],\n",
       "        [ 0.46518366,  0.85355706]]),\n",
       " 3: array([[-0.07019686, -0.07110032],\n",
       "        [-0.0583463 , -0.05960629],\n",
       "        [-0.04678801, -0.0484404 ],\n",
       "        [-0.03540028, -0.03759022],\n",
       "        [-0.0240241 , -0.02676436],\n",
       "        [-0.01271484, -0.01595979],\n",
       "        [-0.00163828, -0.00534306],\n",
       "        [ 0.00930521,  0.00514135],\n",
       "        [ 0.02020905,  0.01558999],\n",
       "        [ 0.03105544,  0.02596791],\n",
       "        [ 0.04188293,  0.03632235],\n",
       "        [ 0.05264039,  0.04661155],\n",
       "        [ 0.06333323,  0.0568528 ],\n",
       "        [ 0.07399559,  0.06706351],\n",
       "        [ 0.08462391,  0.07724125],\n",
       "        [ 0.0951729 ,  0.08732177],\n",
       "        [ 0.10567712,  0.0973469 ],\n",
       "        [ 0.11615438,  0.10734404],\n",
       "        [ 0.12660466,  0.11731334],\n",
       "        [ 0.13702794,  0.12725451],\n",
       "        [ 0.14742479,  0.13717151],\n",
       "        [ 0.1577961 ,  0.14706905],\n",
       "        [ 0.16813781,  0.15693548],\n",
       "        [ 0.17851675,  0.16672677],\n",
       "        [ 0.18889929,  0.1764719 ],\n",
       "        [ 0.19925528,  0.1861881 ],\n",
       "        [ 0.20958451,  0.19587523],\n",
       "        [ 0.21988712,  0.20553334],\n",
       "        [ 0.23016306,  0.2151623 ],\n",
       "        [ 0.24041218,  0.22476211],\n",
       "        [ 0.25063447,  0.23433272],\n",
       "        [ 0.26082986,  0.24387401],\n",
       "        [ 0.27099833,  0.25338596],\n",
       "        [ 0.28113986,  0.26286854],\n",
       "        [ 0.2912543 ,  0.27232172],\n",
       "        [ 0.301339  ,  0.28177074],\n",
       "        [ 0.31139193,  0.29123358],\n",
       "        [ 0.32141756,  0.30066692],\n",
       "        [ 0.33141601,  0.31007099],\n",
       "        [ 0.34138698,  0.31944556],\n",
       "        [ 0.35133078,  0.32879069],\n",
       "        [ 0.36124703,  0.33810619],\n",
       "        [ 0.37113605,  0.34739206],\n",
       "        [ 0.38099747,  0.35664844]]),\n",
       " 4: array([[-0.09150013,  0.01606068],\n",
       "        [-0.08135756,  0.0316528 ],\n",
       "        [-0.07150954,  0.04717238],\n",
       "        [-0.06198986,  0.06259919],\n",
       "        [-0.05292376,  0.0781068 ],\n",
       "        [-0.04390944,  0.09355457],\n",
       "        [-0.03512207,  0.10866514],\n",
       "        [-0.0265004 ,  0.12364333],\n",
       "        [-0.01796753,  0.13857787],\n",
       "        [-0.00954697,  0.153465  ],\n",
       "        [-0.00116211,  0.16832123],\n",
       "        [ 0.0071571 ,  0.18307848],\n",
       "        [ 0.01544675,  0.19772222],\n",
       "        [ 0.02370936,  0.21236095],\n",
       "        [ 0.03194542,  0.22699879],\n",
       "        [ 0.04012042,  0.24163907],\n",
       "        [ 0.04823545,  0.25626571],\n",
       "        [ 0.05631839,  0.27087568],\n",
       "        [ 0.06436899,  0.28546887],\n",
       "        [ 0.07238734,  0.30004529],\n",
       "        [ 0.08037366,  0.31460239],\n",
       "        [ 0.08832851,  0.32913696],\n",
       "        [ 0.09624738,  0.34365222],\n",
       "        [ 0.1041619 ,  0.35823472],\n",
       "        [ 0.11205959,  0.37284001],\n",
       "        [ 0.11992509,  0.38742945],\n",
       "        [ 0.1277581 ,  0.40200297],\n",
       "        [ 0.13555857,  0.41656058],\n",
       "        [ 0.14332667,  0.43110228],\n",
       "        [ 0.15106223,  0.445628  ],\n",
       "        [ 0.15876525,  0.46013784],\n",
       "        [ 0.16643548,  0.47463155],\n",
       "        [ 0.17407299,  0.48910923],\n",
       "        [ 0.18167796,  0.50357088],\n",
       "        [ 0.1892499 ,  0.51801646],\n",
       "        [ 0.19679038,  0.53244666],\n",
       "        [ 0.2042998 ,  0.54686212],\n",
       "        [ 0.21177608,  0.56126142],\n",
       "        [ 0.21921958,  0.57564444],\n",
       "        [ 0.22662987,  0.59001135],\n",
       "        [ 0.23400727,  0.60436204],\n",
       "        [ 0.24135135,  0.61869649],\n",
       "        [ 0.24866228,  0.63301476],\n",
       "        [ 0.2559399 ,  0.64731669]])}"
      ]
     },
     "execution_count": 131,
     "metadata": {},
     "output_type": "execute_result"
    }
   ],
   "source": [
    "forecaster.in_sample_residuals_[1]"
   ]
  },
  {
   "cell_type": "code",
   "execution_count": null,
   "metadata": {},
   "outputs": [],
   "source": []
  }
 ],
 "metadata": {
  "kernelspec": {
   "display_name": "skforecast_py11_2",
   "language": "python",
   "name": "python3"
  },
  "language_info": {
   "codemirror_mode": {
    "name": "ipython",
    "version": 3
   },
   "file_extension": ".py",
   "mimetype": "text/x-python",
   "name": "python",
   "nbconvert_exporter": "python",
   "pygments_lexer": "ipython3",
   "version": "3.11.10"
  }
 },
 "nbformat": 4,
 "nbformat_minor": 2
}
