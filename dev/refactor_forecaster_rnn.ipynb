{
 "cells": [
  {
   "cell_type": "code",
   "execution_count": 22,
   "metadata": {},
   "outputs": [
    {
     "name": "stdout",
     "output_type": "stream",
     "text": [
      "The autoreload extension is already loaded. To reload it, use:\n",
      "  %reload_ext autoreload\n",
      "c:\\Users\\jaesc2\\GitHub\\skforecast\n"
     ]
    }
   ],
   "source": [
    "%load_ext autoreload\n",
    "%autoreload 2\n",
    "import sys\n",
    "from pathlib import Path\n",
    "path = str(Path.cwd().parent)\n",
    "print(path)\n",
    "sys.path.insert(1, path)\n",
    "\n",
    "import numpy as np\n",
    "import pandas as pd"
   ]
  },
  {
   "cell_type": "code",
   "execution_count": 37,
   "metadata": {},
   "outputs": [
    {
     "name": "stdout",
     "output_type": "stream",
     "text": [
      "keras version: 3.6.0\n",
      "Using backend: tensorflow\n",
      "tensorflow version: 2.18.0\n"
     ]
    },
    {
     "ename": "TypeError",
     "evalue": "object of type 'int' has no len()",
     "output_type": "error",
     "traceback": [
      "\u001b[31m---------------------------------------------------------------------------\u001b[39m",
      "\u001b[31mTypeError\u001b[39m                                 Traceback (most recent call last)",
      "\u001b[36mCell\u001b[39m\u001b[36m \u001b[39m\u001b[32mIn[37]\u001b[39m\u001b[32m, line 46\u001b[39m\n\u001b[32m     31\u001b[39m dense_units = [\u001b[32m128\u001b[39m, \u001b[32m64\u001b[39m]\n\u001b[32m     34\u001b[39m model = create_and_compile_model(\n\u001b[32m     35\u001b[39m     series=series,\n\u001b[32m     36\u001b[39m     lags=lags,\n\u001b[32m   (...)\u001b[39m\u001b[32m     43\u001b[39m     loss=loss,\n\u001b[32m     44\u001b[39m )\n\u001b[32m---> \u001b[39m\u001b[32m46\u001b[39m model = \u001b[43mcreate_and_compile_model_exog\u001b[49m\u001b[43m(\u001b[49m\n\u001b[32m     47\u001b[39m \u001b[43m    \u001b[49m\u001b[43mseries\u001b[49m\u001b[43m=\u001b[49m\u001b[43mseries\u001b[49m\u001b[43m,\u001b[49m\n\u001b[32m     48\u001b[39m \u001b[43m    \u001b[49m\u001b[43mlags\u001b[49m\u001b[43m=\u001b[49m\u001b[43mlags\u001b[49m\u001b[43m,\u001b[49m\n\u001b[32m     49\u001b[39m \u001b[43m    \u001b[49m\u001b[43msteps\u001b[49m\u001b[43m=\u001b[49m\u001b[43msteps\u001b[49m\u001b[43m,\u001b[49m\n\u001b[32m     50\u001b[39m \u001b[43m    \u001b[49m\u001b[43mlevels\u001b[49m\u001b[43m=\u001b[49m\u001b[43mlevels\u001b[49m\u001b[43m,\u001b[49m\n\u001b[32m     51\u001b[39m \u001b[43m    \u001b[49m\u001b[43mexog\u001b[49m\u001b[43m=\u001b[49m\u001b[43mexog\u001b[49m\u001b[43m,\u001b[49m\n\u001b[32m     52\u001b[39m \u001b[43m    \u001b[49m\u001b[43mrecurrent_units\u001b[49m\u001b[43m=\u001b[49m\u001b[43mrecurrent_units\u001b[49m\u001b[43m,\u001b[49m\n\u001b[32m     53\u001b[39m \u001b[43m    \u001b[49m\u001b[43mdense_units\u001b[49m\u001b[43m=\u001b[49m\u001b[43mdense_units\u001b[49m\u001b[43m,\u001b[49m\n\u001b[32m     54\u001b[39m \u001b[43m    \u001b[49m\u001b[43mactivation\u001b[49m\u001b[43m=\u001b[49m\u001b[43mactivation\u001b[49m\u001b[43m,\u001b[49m\n\u001b[32m     55\u001b[39m \u001b[43m    \u001b[49m\u001b[43moptimizer\u001b[49m\u001b[43m=\u001b[49m\u001b[43moptimizer\u001b[49m\u001b[43m,\u001b[49m\n\u001b[32m     56\u001b[39m \u001b[43m    \u001b[49m\u001b[43mloss\u001b[49m\u001b[43m=\u001b[49m\u001b[43mloss\u001b[49m\u001b[43m,\u001b[49m\n\u001b[32m     57\u001b[39m \u001b[43m)\u001b[49m\n",
      "\u001b[36mFile \u001b[39m\u001b[32mc:\\Users\\jaesc2\\GitHub\\skforecast\\skforecast\\deep_learning\\utils.py:363\u001b[39m, in \u001b[36mcreate_and_compile_model_exog\u001b[39m\u001b[34m(series, lags, steps, levels, exog, recurrent_layer, recurrent_units, dense_units, activation, optimizer, loss, compile_kwargs)\u001b[39m\n\u001b[32m    359\u001b[39m x = series_input\n\u001b[32m    360\u001b[39m \u001b[38;5;28;01mfor\u001b[39;00m i, units \u001b[38;5;129;01min\u001b[39;00m \u001b[38;5;28menumerate\u001b[39m(\n\u001b[32m    361\u001b[39m     recurrent_units \u001b[38;5;28;01mif\u001b[39;00m \u001b[38;5;28misinstance\u001b[39m(recurrent_units, \u001b[38;5;28mlist\u001b[39m) \u001b[38;5;28;01melse\u001b[39;00m [recurrent_units]\n\u001b[32m    362\u001b[39m ):\n\u001b[32m--> \u001b[39m\u001b[32m363\u001b[39m     return_sequences = i < \u001b[38;5;28;43mlen\u001b[39;49m\u001b[43m(\u001b[49m\u001b[43mrecurrent_units\u001b[49m\u001b[43m)\u001b[49m - \u001b[32m1\u001b[39m\n\u001b[32m    364\u001b[39m     \u001b[38;5;28;01mif\u001b[39;00m recurrent_layer == \u001b[33m\"\u001b[39m\u001b[33mLSTM\u001b[39m\u001b[33m\"\u001b[39m:\n\u001b[32m    365\u001b[39m         x = LSTM(\n\u001b[32m    366\u001b[39m             units,\n\u001b[32m    367\u001b[39m             activation=(\n\u001b[32m   (...)\u001b[39m\u001b[32m    372\u001b[39m             return_sequences=return_sequences,\n\u001b[32m    373\u001b[39m         )(x)\n",
      "\u001b[31mTypeError\u001b[39m: object of type 'int' has no len()"
     ]
    }
   ],
   "source": [
    "import keras\n",
    "import numpy as np\n",
    "import pandas as pd\n",
    "\n",
    "from skforecast.deep_learning import ForecasterRnn\n",
    "from skforecast.deep_learning.utils import create_and_compile_model, create_and_compile_model_exog\n",
    "\n",
    "series = pd.DataFrame(\n",
    "    {\n",
    "        \"1\": pd.Series(np.arange(10.)),\n",
    "        \"2\": pd.Series(np.arange(50., 60.)),\n",
    "        \"3\": pd.Series(np.arange(100., 110.)),\n",
    "    }\n",
    ")\n",
    "\n",
    "exog = pd.DataFrame(\n",
    "    {\n",
    "        \"exog_1\": pd.Series(np.arange(50.)),\n",
    "        \"exog_2\": pd.Series(np.arange(50., 100.)),\n",
    "        \"exog_3\": pd.Series(np.arange(100., 150.)),\n",
    "    }\n",
    ")\n",
    "\n",
    "lags = 3\n",
    "steps = 2\n",
    "levels = [\"1\", \"2\"]\n",
    "activation = \"relu\"\n",
    "optimizer = keras.optimizers.Adam(learning_rate=0.01)\n",
    "loss = keras.losses.MeanSquaredError()\n",
    "recurrent_units = 100\n",
    "dense_units = [128, 64]\n",
    "\n",
    "\n",
    "model = create_and_compile_model(\n",
    "    series=series,\n",
    "    lags=lags,\n",
    "    steps=steps,\n",
    "    levels=levels,\n",
    "    recurrent_units=recurrent_units,\n",
    "    dense_units=dense_units,\n",
    "    activation=activation,\n",
    "    optimizer=optimizer,\n",
    "    loss=loss,\n",
    ")\n",
    "\n",
    "model = create_and_compile_model_exog(\n",
    "    series=series,\n",
    "    lags=lags,\n",
    "    steps=steps,\n",
    "    levels=levels,\n",
    "    exog=exog,\n",
    "    recurrent_units=recurrent_units,\n",
    "    dense_units=dense_units,\n",
    "    activation=activation,\n",
    "    optimizer=optimizer,\n",
    "    loss=loss,\n",
    ")"
   ]
  },
  {
   "cell_type": "code",
   "execution_count": 31,
   "metadata": {},
   "outputs": [
    {
     "name": "stderr",
     "output_type": "stream",
     "text": [
      "c:\\Users\\jaesc2\\Miniconda3\\envs\\skforecast_py11_2\\Lib\\site-packages\\keras\\src\\saving\\saving_lib.py:719: UserWarning: Skipping variable loading for optimizer 'adam', because it has 20 variables whereas the saved optimizer has 2 variables. \n",
      "  saveable.load_own_variables(weights_store.get(inner_path))\n"
     ]
    }
   ],
   "source": [
    "forecaster = ForecasterRnn(model, levels, lags=lags)"
   ]
  },
  {
   "cell_type": "code",
   "execution_count": 32,
   "metadata": {},
   "outputs": [
    {
     "name": "stdout",
     "output_type": "stream",
     "text": [
      "\u001b[1m1/1\u001b[0m \u001b[32m━━━━━━━━━━━━━━━━━━━━\u001b[0m\u001b[37m\u001b[0m \u001b[1m1s\u001b[0m 726ms/step - loss: 0.4868\n"
     ]
    }
   ],
   "source": [
    "forecaster.fit(series)"
   ]
  },
  {
   "cell_type": "code",
   "execution_count": 18,
   "metadata": {},
   "outputs": [
    {
     "data": {
      "text/plain": [
       "(44, 3, 3)"
      ]
     },
     "execution_count": 18,
     "metadata": {},
     "output_type": "execute_result"
    }
   ],
   "source": [
    "_ = forecaster.create_train_X_y(series)\n",
    "_[0].shape"
   ]
  },
  {
   "cell_type": "code",
   "execution_count": 35,
   "metadata": {},
   "outputs": [
    {
     "data": {
      "text/plain": [
       "array([[0.30619231, 0.30203365],\n",
       "       [0.41336301, 0.40936604],\n",
       "       [0.52067263, 0.51567958],\n",
       "       [0.62780604, 0.62108079],\n",
       "       [0.73467941, 0.72591045],\n",
       "       [0.84144858, 0.83003627]])"
      ]
     },
     "execution_count": 35,
     "metadata": {},
     "output_type": "execute_result"
    }
   ],
   "source": [
    "forecaster.in_sample_residuals_[1]"
   ]
  },
  {
   "cell_type": "code",
   "execution_count": 16,
   "metadata": {},
   "outputs": [
    {
     "data": {
      "text/plain": [
       "array([[-0.03076794, -0.08773223],\n",
       "       [-0.01476122, -0.07540671],\n",
       "       [ 0.00093351, -0.06347512],\n",
       "       [ 0.0164708 , -0.05176229],\n",
       "       [ 0.03186672, -0.04018809]])"
      ]
     },
     "execution_count": 16,
     "metadata": {},
     "output_type": "execute_result"
    }
   ],
   "source": [
    "forecaster.in_sample_residuals_[2][:5, :]"
   ]
  },
  {
   "cell_type": "code",
   "execution_count": 5,
   "metadata": {},
   "outputs": [
    {
     "data": {
      "text/plain": [
       "['1', '2', '3']"
      ]
     },
     "execution_count": 5,
     "metadata": {},
     "output_type": "execute_result"
    }
   ],
   "source": [
    "forecaster.series_names_in_"
   ]
  },
  {
   "cell_type": "code",
   "execution_count": 6,
   "metadata": {},
   "outputs": [
    {
     "data": {
      "text/plain": [
       "['1', '2']"
      ]
     },
     "execution_count": 6,
     "metadata": {},
     "output_type": "execute_result"
    }
   ],
   "source": [
    "forecaster.levels"
   ]
  },
  {
   "cell_type": "code",
   "execution_count": 7,
   "metadata": {},
   "outputs": [
    {
     "data": {
      "text/html": [
       "<div>\n",
       "<style scoped>\n",
       "    .dataframe tbody tr th:only-of-type {\n",
       "        vertical-align: middle;\n",
       "    }\n",
       "\n",
       "    .dataframe tbody tr th {\n",
       "        vertical-align: top;\n",
       "    }\n",
       "\n",
       "    .dataframe thead th {\n",
       "        text-align: right;\n",
       "    }\n",
       "</style>\n",
       "<table border=\"1\" class=\"dataframe\">\n",
       "  <thead>\n",
       "    <tr style=\"text-align: right;\">\n",
       "      <th></th>\n",
       "      <th>1</th>\n",
       "      <th>2</th>\n",
       "      <th>3</th>\n",
       "    </tr>\n",
       "  </thead>\n",
       "  <tbody>\n",
       "    <tr>\n",
       "      <th>47</th>\n",
       "      <td>47.0</td>\n",
       "      <td>97.0</td>\n",
       "      <td>147.0</td>\n",
       "    </tr>\n",
       "    <tr>\n",
       "      <th>48</th>\n",
       "      <td>48.0</td>\n",
       "      <td>98.0</td>\n",
       "      <td>148.0</td>\n",
       "    </tr>\n",
       "    <tr>\n",
       "      <th>49</th>\n",
       "      <td>49.0</td>\n",
       "      <td>99.0</td>\n",
       "      <td>149.0</td>\n",
       "    </tr>\n",
       "  </tbody>\n",
       "</table>\n",
       "</div>"
      ],
      "text/plain": [
       "       1     2      3\n",
       "47  47.0  97.0  147.0\n",
       "48  48.0  98.0  148.0\n",
       "49  49.0  99.0  149.0"
      ]
     },
     "execution_count": 7,
     "metadata": {},
     "output_type": "execute_result"
    }
   ],
   "source": [
    "forecaster.last_window_"
   ]
  },
  {
   "cell_type": "code",
   "execution_count": 8,
   "metadata": {},
   "outputs": [
    {
     "data": {
      "text/plain": [
       "(array([[[0.95918367, 0.95918367, 0.95918367],\n",
       "         [0.97959184, 0.97959184, 0.97959184],\n",
       "         [1.        , 1.        , 1.        ]]]),\n",
       " [],\n",
       " [1, 2, 3],\n",
       " ['1', '2'],\n",
       " Index([50, 51, 52], dtype='int64'))"
      ]
     },
     "execution_count": 8,
     "metadata": {},
     "output_type": "execute_result"
    }
   ],
   "source": [
    "inputs = forecaster._create_predict_inputs(steps=3, levels=['1', '2'])\n",
    "inputs"
   ]
  },
  {
   "cell_type": "code",
   "execution_count": 36,
   "metadata": {},
   "outputs": [
    {
     "data": {
      "text/html": [
       "<div>\n",
       "<style scoped>\n",
       "    .dataframe tbody tr th:only-of-type {\n",
       "        vertical-align: middle;\n",
       "    }\n",
       "\n",
       "    .dataframe tbody tr th {\n",
       "        vertical-align: top;\n",
       "    }\n",
       "\n",
       "    .dataframe thead th {\n",
       "        text-align: right;\n",
       "    }\n",
       "</style>\n",
       "<table border=\"1\" class=\"dataframe\">\n",
       "  <thead>\n",
       "    <tr style=\"text-align: right;\">\n",
       "      <th></th>\n",
       "      <th>level</th>\n",
       "      <th>pred</th>\n",
       "    </tr>\n",
       "  </thead>\n",
       "  <tbody>\n",
       "    <tr>\n",
       "      <th>10</th>\n",
       "      <td>1</td>\n",
       "      <td>0.512350</td>\n",
       "    </tr>\n",
       "    <tr>\n",
       "      <th>10</th>\n",
       "      <td>2</td>\n",
       "      <td>50.650616</td>\n",
       "    </tr>\n",
       "    <tr>\n",
       "      <th>11</th>\n",
       "      <td>1</td>\n",
       "      <td>0.694859</td>\n",
       "    </tr>\n",
       "    <tr>\n",
       "      <th>11</th>\n",
       "      <td>2</td>\n",
       "      <td>50.684875</td>\n",
       "    </tr>\n",
       "  </tbody>\n",
       "</table>\n",
       "</div>"
      ],
      "text/plain": [
       "   level       pred\n",
       "10     1   0.512350\n",
       "10     2  50.650616\n",
       "11     1   0.694859\n",
       "11     2  50.684875"
      ]
     },
     "execution_count": 36,
     "metadata": {},
     "output_type": "execute_result"
    }
   ],
   "source": [
    "predictions = forecaster.predict(steps=2, levels=['1', \"2\"])\n",
    "predictions"
   ]
  },
  {
   "cell_type": "code",
   "execution_count": 34,
   "metadata": {},
   "outputs": [
    {
     "data": {
      "text/plain": [
       "array([[[0.        , 0.        , 0.        ],\n",
       "        [0.11111111, 0.11111111, 0.11111111],\n",
       "        [0.22222222, 0.22222222, 0.22222222]],\n",
       "\n",
       "       [[0.11111111, 0.11111111, 0.11111111],\n",
       "        [0.22222222, 0.22222222, 0.22222222],\n",
       "        [0.33333333, 0.33333333, 0.33333333]],\n",
       "\n",
       "       [[0.22222222, 0.22222222, 0.22222222],\n",
       "        [0.33333333, 0.33333333, 0.33333333],\n",
       "        [0.44444444, 0.44444444, 0.44444444]],\n",
       "\n",
       "       [[0.33333333, 0.33333333, 0.33333333],\n",
       "        [0.44444444, 0.44444444, 0.44444444],\n",
       "        [0.55555556, 0.55555556, 0.55555556]],\n",
       "\n",
       "       [[0.44444444, 0.44444444, 0.44444444],\n",
       "        [0.55555556, 0.55555556, 0.55555556],\n",
       "        [0.66666667, 0.66666667, 0.66666667]],\n",
       "\n",
       "       [[0.55555556, 0.55555556, 0.55555556],\n",
       "        [0.66666667, 0.66666667, 0.66666667],\n",
       "        [0.77777778, 0.77777778, 0.77777778]]])"
      ]
     },
     "execution_count": 34,
     "metadata": {},
     "output_type": "execute_result"
    }
   ],
   "source": [
    "_[0]"
   ]
  },
  {
   "cell_type": "code",
   "execution_count": null,
   "metadata": {},
   "outputs": [
    {
     "data": {
      "text/plain": [
       "array([[[0.02714103, 0.03129969],\n",
       "        [0.03067968, 0.02870654]],\n",
       "\n",
       "       [[0.03108143, 0.03507841],\n",
       "        [0.03619017, 0.03491943]],\n",
       "\n",
       "       [[0.03488293, 0.03987598],\n",
       "        [0.04253578, 0.04175308]],\n",
       "\n",
       "       [[0.03886062, 0.04558587],\n",
       "        [0.04964645, 0.04881068]],\n",
       "\n",
       "       [[0.04309836, 0.05186733],\n",
       "        [0.056449  , 0.05565476]],\n",
       "\n",
       "       [[0.04744031, 0.05885262],\n",
       "        [0.06324376, 0.06249271]]], dtype=float32)"
      ]
     },
     "execution_count": 33,
     "metadata": {},
     "output_type": "execute_result"
    }
   ],
   "source": [
    "steps = 2\n",
    "levels = 2\n",
    "\n",
    "_ = forecaster.create_train_X_y(series)\n",
    "forecaster.regressor.predict(x=_[0], verbose=0)"
   ]
  },
  {
   "cell_type": "code",
   "execution_count": null,
   "metadata": {},
   "outputs": [],
   "source": [
    "_ = forecaster.create_train_X_y(series)\n",
    "forecaster.regressor.predict(x=_[0], verbose=0)"
   ]
  },
  {
   "cell_type": "code",
   "execution_count": 125,
   "metadata": {},
   "outputs": [
    {
     "data": {
      "text/html": [
       "<div>\n",
       "<style scoped>\n",
       "    .dataframe tbody tr th:only-of-type {\n",
       "        vertical-align: middle;\n",
       "    }\n",
       "\n",
       "    .dataframe tbody tr th {\n",
       "        vertical-align: top;\n",
       "    }\n",
       "\n",
       "    .dataframe thead th {\n",
       "        text-align: right;\n",
       "    }\n",
       "</style>\n",
       "<table border=\"1\" class=\"dataframe\">\n",
       "  <thead>\n",
       "    <tr style=\"text-align: right;\">\n",
       "      <th></th>\n",
       "      <th>level</th>\n",
       "      <th>pred</th>\n",
       "    </tr>\n",
       "  </thead>\n",
       "  <tbody>\n",
       "    <tr>\n",
       "      <th>50</th>\n",
       "      <td>1</td>\n",
       "      <td>7.713717</td>\n",
       "    </tr>\n",
       "    <tr>\n",
       "      <th>50</th>\n",
       "      <td>2</td>\n",
       "      <td>61.483234</td>\n",
       "    </tr>\n",
       "    <tr>\n",
       "      <th>51</th>\n",
       "      <td>1</td>\n",
       "      <td>25.941444</td>\n",
       "    </tr>\n",
       "    <tr>\n",
       "      <th>51</th>\n",
       "      <td>2</td>\n",
       "      <td>55.504932</td>\n",
       "    </tr>\n",
       "    <tr>\n",
       "      <th>52</th>\n",
       "      <td>1</td>\n",
       "      <td>31.411823</td>\n",
       "    </tr>\n",
       "    <tr>\n",
       "      <th>52</th>\n",
       "      <td>2</td>\n",
       "      <td>82.724594</td>\n",
       "    </tr>\n",
       "  </tbody>\n",
       "</table>\n",
       "</div>"
      ],
      "text/plain": [
       "   level       pred\n",
       "50     1   7.713717\n",
       "50     2  61.483234\n",
       "51     1  25.941444\n",
       "51     2  55.504932\n",
       "52     1  31.411823\n",
       "52     2  82.724594"
      ]
     },
     "execution_count": 125,
     "metadata": {},
     "output_type": "execute_result"
    }
   ],
   "source": [
    "predictions = forecaster.predict(steps=3, levels=None)\n",
    "predictions"
   ]
  },
  {
   "cell_type": "code",
   "execution_count": 9,
   "metadata": {},
   "outputs": [
    {
     "name": "stdout",
     "output_type": "stream",
     "text": [
      "[[0.55023268 0.45024333]\n",
      " [0.58160202 0.35509963]\n",
      " [0.41151223 0.49386649]]\n"
     ]
    },
    {
     "data": {
      "text/html": [
       "<div>\n",
       "<style scoped>\n",
       "    .dataframe tbody tr th:only-of-type {\n",
       "        vertical-align: middle;\n",
       "    }\n",
       "\n",
       "    .dataframe tbody tr th {\n",
       "        vertical-align: top;\n",
       "    }\n",
       "\n",
       "    .dataframe thead th {\n",
       "        text-align: right;\n",
       "    }\n",
       "</style>\n",
       "<table border=\"1\" class=\"dataframe\">\n",
       "  <thead>\n",
       "    <tr style=\"text-align: right;\">\n",
       "      <th></th>\n",
       "      <th>level</th>\n",
       "      <th>pred</th>\n",
       "      <th>lower_bound</th>\n",
       "      <th>upper_bound</th>\n",
       "    </tr>\n",
       "  </thead>\n",
       "  <tbody>\n",
       "    <tr>\n",
       "      <th>50</th>\n",
       "      <td>1</td>\n",
       "      <td>18.687877</td>\n",
       "      <td>-8.273525</td>\n",
       "      <td>45.649278</td>\n",
       "    </tr>\n",
       "    <tr>\n",
       "      <th>50</th>\n",
       "      <td>2</td>\n",
       "      <td>74.351726</td>\n",
       "      <td>52.289802</td>\n",
       "      <td>96.413649</td>\n",
       "    </tr>\n",
       "    <tr>\n",
       "      <th>51</th>\n",
       "      <td>1</td>\n",
       "      <td>18.113966</td>\n",
       "      <td>-10.384533</td>\n",
       "      <td>46.612465</td>\n",
       "    </tr>\n",
       "    <tr>\n",
       "      <th>51</th>\n",
       "      <td>2</td>\n",
       "      <td>80.556508</td>\n",
       "      <td>63.156627</td>\n",
       "      <td>97.956390</td>\n",
       "    </tr>\n",
       "    <tr>\n",
       "      <th>52</th>\n",
       "      <td>1</td>\n",
       "      <td>28.626856</td>\n",
       "      <td>8.462757</td>\n",
       "      <td>48.790955</td>\n",
       "    </tr>\n",
       "    <tr>\n",
       "      <th>52</th>\n",
       "      <td>2</td>\n",
       "      <td>74.064660</td>\n",
       "      <td>49.865202</td>\n",
       "      <td>98.264118</td>\n",
       "    </tr>\n",
       "  </tbody>\n",
       "</table>\n",
       "</div>"
      ],
      "text/plain": [
       "   level       pred  lower_bound  upper_bound\n",
       "50     1  18.687877    -8.273525    45.649278\n",
       "50     2  74.351726    52.289802    96.413649\n",
       "51     1  18.113966   -10.384533    46.612465\n",
       "51     2  80.556508    63.156627    97.956390\n",
       "52     1  28.626856     8.462757    48.790955\n",
       "52     2  74.064660    49.865202    98.264118"
      ]
     },
     "execution_count": 9,
     "metadata": {},
     "output_type": "execute_result"
    }
   ],
   "source": [
    "predictions = forecaster._predict_interval_conformal(steps=3, levels=None)\n",
    "predictions"
   ]
  },
  {
   "cell_type": "code",
   "execution_count": 140,
   "metadata": {},
   "outputs": [
    {
     "data": {
      "text/html": [
       "<div>\n",
       "<style scoped>\n",
       "    .dataframe tbody tr th:only-of-type {\n",
       "        vertical-align: middle;\n",
       "    }\n",
       "\n",
       "    .dataframe tbody tr th {\n",
       "        vertical-align: top;\n",
       "    }\n",
       "\n",
       "    .dataframe thead th {\n",
       "        text-align: right;\n",
       "    }\n",
       "</style>\n",
       "<table border=\"1\" class=\"dataframe\">\n",
       "  <thead>\n",
       "    <tr style=\"text-align: right;\">\n",
       "      <th></th>\n",
       "      <th>level</th>\n",
       "      <th>pred</th>\n",
       "      <th>lower_bound</th>\n",
       "      <th>upper_bound</th>\n",
       "    </tr>\n",
       "  </thead>\n",
       "  <tbody>\n",
       "    <tr>\n",
       "      <th>50</th>\n",
       "      <td>1</td>\n",
       "      <td>7.713717</td>\n",
       "      <td>-29.086494</td>\n",
       "      <td>44.513928</td>\n",
       "    </tr>\n",
       "    <tr>\n",
       "      <th>51</th>\n",
       "      <td>1</td>\n",
       "      <td>25.941444</td>\n",
       "      <td>4.372634</td>\n",
       "      <td>47.510253</td>\n",
       "    </tr>\n",
       "    <tr>\n",
       "      <th>52</th>\n",
       "      <td>1</td>\n",
       "      <td>31.411823</td>\n",
       "      <td>13.783603</td>\n",
       "      <td>49.040043</td>\n",
       "    </tr>\n",
       "  </tbody>\n",
       "</table>\n",
       "</div>"
      ],
      "text/plain": [
       "   level       pred  lower_bound  upper_bound\n",
       "50     1   7.713717   -29.086494    44.513928\n",
       "51     1  25.941444     4.372634    47.510253\n",
       "52     1  31.411823    13.783603    49.040043"
      ]
     },
     "execution_count": 140,
     "metadata": {},
     "output_type": "execute_result"
    }
   ],
   "source": [
    "predictions = forecaster._predict_interval_conformal(steps=3, levels=['1'])\n",
    "predictions"
   ]
  },
  {
   "cell_type": "code",
   "execution_count": 144,
   "metadata": {},
   "outputs": [
    {
     "data": {
      "text/plain": [
       "np.float64(0.8132576974450934)"
      ]
     },
     "execution_count": 144,
     "metadata": {},
     "output_type": "execute_result"
    }
   ],
   "source": [
    "np.quantile(\n",
    "    np.abs(forecaster.in_sample_residuals_[2][:, 1]), 0.95\n",
    ")"
   ]
  },
  {
   "cell_type": "code",
   "execution_count": null,
   "metadata": {},
   "outputs": [
    {
     "data": {
      "text/plain": [
       "{1: array([[ 0.00300063, -0.02063499],\n",
       "        [ 0.02164905, -0.00324193],\n",
       "        [ 0.04019636,  0.01412207],\n",
       "        [ 0.05871693,  0.03156052],\n",
       "        [ 0.07703444,  0.04902489],\n",
       "        [ 0.09533564,  0.06641259],\n",
       "        [ 0.11370614,  0.0837122 ],\n",
       "        [ 0.13206353,  0.10091294],\n",
       "        [ 0.15043704,  0.11811714],\n",
       "        [ 0.1688066 ,  0.1353427 ],\n",
       "        [ 0.1871703 ,  0.15255236],\n",
       "        [ 0.20552565,  0.16975107],\n",
       "        [ 0.2238739 ,  0.18696467],\n",
       "        [ 0.2422113 ,  0.20416079],\n",
       "        [ 0.26053225,  0.22133179],\n",
       "        [ 0.2789068 ,  0.23851671],\n",
       "        [ 0.29727427,  0.2556899 ],\n",
       "        [ 0.31563729,  0.27285653],\n",
       "        [ 0.33399589,  0.29001659],\n",
       "        [ 0.35235008,  0.30717007],\n",
       "        [ 0.37069992,  0.32431521],\n",
       "        [ 0.38904568,  0.34144994],\n",
       "        [ 0.40738741,  0.3585762 ],\n",
       "        [ 0.42566772,  0.37572525],\n",
       "        [ 0.44391787,  0.39288245],\n",
       "        [ 0.46216279,  0.41003336],\n",
       "        [ 0.48040247,  0.42717802],\n",
       "        [ 0.49863687,  0.4443164 ],\n",
       "        [ 0.51686604,  0.46144852],\n",
       "        [ 0.53508995,  0.47857433],\n",
       "        [ 0.55330852,  0.49569387],\n",
       "        [ 0.57152185,  0.51280709],\n",
       "        [ 0.58972985,  0.52991393],\n",
       "        [ 0.60793252,  0.54701447],\n",
       "        [ 0.62612994,  0.56410867],\n",
       "        [ 0.64434486,  0.58120545],\n",
       "        [ 0.66259322,  0.59831101],\n",
       "        [ 0.68083643,  0.61541031],\n",
       "        [ 0.69907453,  0.63250343],\n",
       "        [ 0.71730754,  0.64959013],\n",
       "        [ 0.73553543,  0.66667052],\n",
       "        [ 0.75375813,  0.68374474],\n",
       "        [ 0.77197561,  0.7008126 ],\n",
       "        [ 0.79018804,  0.71787401]]),\n",
       " 2: array([[-0.06084292,  0.04033032],\n",
       "        [-0.0471699 ,  0.05946064],\n",
       "        [-0.03366387,  0.07856351],\n",
       "        [-0.02041619,  0.09760109],\n",
       "        [-0.0071351 ,  0.11638139],\n",
       "        [ 0.00610772,  0.13518553],\n",
       "        [ 0.01891352,  0.15413715],\n",
       "        [ 0.03152035,  0.17316596],\n",
       "        [ 0.0440439 ,  0.19216473],\n",
       "        [ 0.05648179,  0.21113154],\n",
       "        [ 0.06888451,  0.2300982 ],\n",
       "        [ 0.08125591,  0.24908594],\n",
       "        [ 0.09362853,  0.26809624],\n",
       "        [ 0.10599469,  0.28710833],\n",
       "        [ 0.11836165,  0.30612717],\n",
       "        [ 0.13069484,  0.32509655],\n",
       "        [ 0.14299767,  0.34405039],\n",
       "        [ 0.15527758,  0.36299968],\n",
       "        [ 0.16753445,  0.38194439],\n",
       "        [ 0.17976834,  0.40088449],\n",
       "        [ 0.19198298,  0.41981878],\n",
       "        [ 0.20418305,  0.43874571],\n",
       "        [ 0.21635918,  0.45766898],\n",
       "        [ 0.22846198,  0.4766032 ],\n",
       "        [ 0.24052027,  0.4955385 ],\n",
       "        [ 0.25255461,  0.51446938],\n",
       "        [ 0.26456504,  0.53339577],\n",
       "        [ 0.27655143,  0.55231762],\n",
       "        [ 0.28851403,  0.57123498],\n",
       "        [ 0.30045249,  0.59014787],\n",
       "        [ 0.31236691,  0.60905619],\n",
       "        [ 0.32425724,  0.62796004],\n",
       "        [ 0.33612349,  0.64685933],\n",
       "        [ 0.3479656 ,  0.66575408],\n",
       "        [ 0.35978357,  0.68464429],\n",
       "        [ 0.3715831 ,  0.70349096],\n",
       "        [ 0.38336805,  0.72226658],\n",
       "        [ 0.3951288 ,  0.74103734],\n",
       "        [ 0.40686532,  0.75980304],\n",
       "        [ 0.41857758,  0.77856372],\n",
       "        [ 0.43026568,  0.79731956],\n",
       "        [ 0.44192933,  0.81607031],\n",
       "        [ 0.45356861,  0.83481617],\n",
       "        [ 0.46518366,  0.85355706]]),\n",
       " 3: array([[-0.07019686, -0.07110032],\n",
       "        [-0.0583463 , -0.05960629],\n",
       "        [-0.04678801, -0.0484404 ],\n",
       "        [-0.03540028, -0.03759022],\n",
       "        [-0.0240241 , -0.02676436],\n",
       "        [-0.01271484, -0.01595979],\n",
       "        [-0.00163828, -0.00534306],\n",
       "        [ 0.00930521,  0.00514135],\n",
       "        [ 0.02020905,  0.01558999],\n",
       "        [ 0.03105544,  0.02596791],\n",
       "        [ 0.04188293,  0.03632235],\n",
       "        [ 0.05264039,  0.04661155],\n",
       "        [ 0.06333323,  0.0568528 ],\n",
       "        [ 0.07399559,  0.06706351],\n",
       "        [ 0.08462391,  0.07724125],\n",
       "        [ 0.0951729 ,  0.08732177],\n",
       "        [ 0.10567712,  0.0973469 ],\n",
       "        [ 0.11615438,  0.10734404],\n",
       "        [ 0.12660466,  0.11731334],\n",
       "        [ 0.13702794,  0.12725451],\n",
       "        [ 0.14742479,  0.13717151],\n",
       "        [ 0.1577961 ,  0.14706905],\n",
       "        [ 0.16813781,  0.15693548],\n",
       "        [ 0.17851675,  0.16672677],\n",
       "        [ 0.18889929,  0.1764719 ],\n",
       "        [ 0.19925528,  0.1861881 ],\n",
       "        [ 0.20958451,  0.19587523],\n",
       "        [ 0.21988712,  0.20553334],\n",
       "        [ 0.23016306,  0.2151623 ],\n",
       "        [ 0.24041218,  0.22476211],\n",
       "        [ 0.25063447,  0.23433272],\n",
       "        [ 0.26082986,  0.24387401],\n",
       "        [ 0.27099833,  0.25338596],\n",
       "        [ 0.28113986,  0.26286854],\n",
       "        [ 0.2912543 ,  0.27232172],\n",
       "        [ 0.301339  ,  0.28177074],\n",
       "        [ 0.31139193,  0.29123358],\n",
       "        [ 0.32141756,  0.30066692],\n",
       "        [ 0.33141601,  0.31007099],\n",
       "        [ 0.34138698,  0.31944556],\n",
       "        [ 0.35133078,  0.32879069],\n",
       "        [ 0.36124703,  0.33810619],\n",
       "        [ 0.37113605,  0.34739206],\n",
       "        [ 0.38099747,  0.35664844]]),\n",
       " 4: array([[-0.09150013,  0.01606068],\n",
       "        [-0.08135756,  0.0316528 ],\n",
       "        [-0.07150954,  0.04717238],\n",
       "        [-0.06198986,  0.06259919],\n",
       "        [-0.05292376,  0.0781068 ],\n",
       "        [-0.04390944,  0.09355457],\n",
       "        [-0.03512207,  0.10866514],\n",
       "        [-0.0265004 ,  0.12364333],\n",
       "        [-0.01796753,  0.13857787],\n",
       "        [-0.00954697,  0.153465  ],\n",
       "        [-0.00116211,  0.16832123],\n",
       "        [ 0.0071571 ,  0.18307848],\n",
       "        [ 0.01544675,  0.19772222],\n",
       "        [ 0.02370936,  0.21236095],\n",
       "        [ 0.03194542,  0.22699879],\n",
       "        [ 0.04012042,  0.24163907],\n",
       "        [ 0.04823545,  0.25626571],\n",
       "        [ 0.05631839,  0.27087568],\n",
       "        [ 0.06436899,  0.28546887],\n",
       "        [ 0.07238734,  0.30004529],\n",
       "        [ 0.08037366,  0.31460239],\n",
       "        [ 0.08832851,  0.32913696],\n",
       "        [ 0.09624738,  0.34365222],\n",
       "        [ 0.1041619 ,  0.35823472],\n",
       "        [ 0.11205959,  0.37284001],\n",
       "        [ 0.11992509,  0.38742945],\n",
       "        [ 0.1277581 ,  0.40200297],\n",
       "        [ 0.13555857,  0.41656058],\n",
       "        [ 0.14332667,  0.43110228],\n",
       "        [ 0.15106223,  0.445628  ],\n",
       "        [ 0.15876525,  0.46013784],\n",
       "        [ 0.16643548,  0.47463155],\n",
       "        [ 0.17407299,  0.48910923],\n",
       "        [ 0.18167796,  0.50357088],\n",
       "        [ 0.1892499 ,  0.51801646],\n",
       "        [ 0.19679038,  0.53244666],\n",
       "        [ 0.2042998 ,  0.54686212],\n",
       "        [ 0.21177608,  0.56126142],\n",
       "        [ 0.21921958,  0.57564444],\n",
       "        [ 0.22662987,  0.59001135],\n",
       "        [ 0.23400727,  0.60436204],\n",
       "        [ 0.24135135,  0.61869649],\n",
       "        [ 0.24866228,  0.63301476],\n",
       "        [ 0.2559399 ,  0.64731669]])}"
      ]
     },
     "execution_count": 131,
     "metadata": {},
     "output_type": "execute_result"
    }
   ],
   "source": [
    "forecaster.in_sample_residuals_[1]"
   ]
  },
  {
   "cell_type": "code",
   "execution_count": null,
   "metadata": {},
   "outputs": [],
   "source": []
  }
 ],
 "metadata": {
  "kernelspec": {
   "display_name": "skforecast_py11_2",
   "language": "python",
   "name": "python3"
  },
  "language_info": {
   "codemirror_mode": {
    "name": "ipython",
    "version": 3
   },
   "file_extension": ".py",
   "mimetype": "text/x-python",
   "name": "python",
   "nbconvert_exporter": "python",
   "pygments_lexer": "ipython3",
   "version": "3.11.10"
  }
 },
 "nbformat": 4,
 "nbformat_minor": 2
}
