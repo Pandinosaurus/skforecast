{
 "cells": [
  {
   "cell_type": "markdown",
   "metadata": {},
   "source": [
    "# Benchmarking skforecast\n",
    "\n",
    "This notebook benchmarks the performance (velocity) of the `skforecast` in its different versions and keeps track of the results."
   ]
  },
  {
   "cell_type": "markdown",
   "metadata": {},
   "source": [
    "**Notes**\n",
    "\n",
    "+ In version `0.15.0` the binning of residuals was introduced in multi-series forecasters. This explains the increase in the time taken to fit the model."
   ]
  },
  {
   "cell_type": "code",
   "execution_count": 8,
   "metadata": {},
   "outputs": [
    {
     "name": "stdout",
     "output_type": "stream",
     "text": [
      "The autoreload extension is already loaded. To reload it, use:\n",
      "  %reload_ext autoreload\n",
      "/home/joaquin/Documents/GitHub/skforecast\n"
     ]
    }
   ],
   "source": [
    "%load_ext autoreload\n",
    "%autoreload 2\n",
    "import sys\n",
    "from pathlib import Path\n",
    "path = str(Path.cwd().parent)\n",
    "print(path)\n",
    "sys.path.insert(1, path)"
   ]
  },
  {
   "cell_type": "code",
   "execution_count": 9,
   "metadata": {},
   "outputs": [],
   "source": [
    "# !pip install --upgrade numpy < 2.0 && \\\n",
    "# pip install --upgrade pandas && \\\n",
    "# pip install --upgrade scikit-learn"
   ]
  },
  {
   "cell_type": "code",
   "execution_count": 10,
   "metadata": {},
   "outputs": [],
   "source": [
    "# !pip install skforecast==0.15.1\n",
    "# !pip install skforecast==0.14.0\n",
    "# !pip install skforecast==0.13.0"
   ]
  },
  {
   "cell_type": "code",
   "execution_count": 11,
   "metadata": {},
   "outputs": [],
   "source": [
    "# Libraries\n",
    "# ==============================================================================\n",
    "from benchmarking import BenchmarkRunner, plot_benchmark_results\n",
    "import skforecast\n",
    "import platform\n",
    "import psutil\n",
    "import plotly.express as px\n",
    "if skforecast.__version__ >= '0.14.0':\n",
    "    from skforecast.recursive import ForecasterRecursive, ForecasterRecursiveMultiSeries\n",
    "    from skforecast.direct import ForecasterDirect, ForecasterDirectMultiVariate\n",
    "    from skforecast.model_selection import TimeSeriesFold, backtesting_forecaster, backtesting_forecaster_multiseries\n",
    "else:\n",
    "    from skforecast.ForecasterAutoreg import ForecasterAutoreg\n",
    "    from skforecast.ForecasterAutoregMultiSeries import ForecasterAutoregMultiSeries\n",
    "    from skforecast.ForecasterAutoregDirect import ForecasterAutoregDirect\n",
    "    from skforecast.ForecasterAutoregMultiVariate import ForecasterAutoregMultiVariate\n",
    "    from skforecast.model_selection import backtesting_forecaster, backtesting_forecaster_multiseries\n",
    "from skforecast.utils import *\n",
    "from sklearn.preprocessing import StandardScaler\n",
    "from sklearn.linear_model import LinearRegression\n",
    "from lightgbm import LGBMRegressor"
   ]
  },
  {
   "cell_type": "code",
   "execution_count": 12,
   "metadata": {},
   "outputs": [
    {
     "name": "stdout",
     "output_type": "stream",
     "text": [
      "Python version: 3.12.9\n",
      "skforecast version: 0.16.0\n",
      "scikit-learn version: 1.6.1\n",
      "pandas version: 2.2.3\n",
      "numpy version: 2.2.5\n",
      "Computer network name: joaquin-HP-ProBook-440-G6\n",
      "Processor type: x86_64\n",
      "Platform type: Linux-6.11.0-21-generic-x86_64-with-glibc2.39\n",
      "Operating system: Linux\n",
      "Operating system release: 6.11.0-21-generic\n",
      "Operating system version: #21~24.04.1-Ubuntu SMP PREEMPT_DYNAMIC Mon Feb 24 16:52:15 UTC 2\n",
      "Number of physical cores: 4\n",
      "Number of logical cores: 8\n"
     ]
    }
   ],
   "source": [
    "print(f\"Python version: {platform.python_version()}\")\n",
    "print(f\"skforecast version: {skforecast.__version__}\")\n",
    "print(f\"scikit-learn version: {sklearn.__version__}\")\n",
    "print(f\"pandas version: {pd.__version__}\")\n",
    "print(f\"numpy version: {np.__version__}\")\n",
    "print(f\"Computer network name: {platform.node()}\")\n",
    "print(f\"Processor type: {platform.processor()}\")\n",
    "print(f\"Platform type: {platform.platform()}\")\n",
    "print(f\"Operating system: {platform.system()}\")\n",
    "print(f\"Operating system release: {platform.release()}\")\n",
    "print(f\"Operating system version: {platform.version()}\")\n",
    "print(f\"Number of physical cores: {psutil.cpu_count(logical=False)}\")\n",
    "print(f\"Number of logical cores: {psutil.cpu_count(logical=True)}\")"
   ]
  },
  {
   "cell_type": "markdown",
   "metadata": {},
   "source": [
    "# ForecasterRecursiveMultiSeries"
   ]
  },
  {
   "cell_type": "code",
   "execution_count": 13,
   "metadata": {},
   "outputs": [],
   "source": [
    "# Mock data for benchmarking\n",
    "# ==========================================================\n",
    "n_series = 600\n",
    "len_series = 2000\n",
    "series_dict = {}\n",
    "rng = np.random.default_rng(321)\n",
    "for i in range(n_series):\n",
    "    series_dict[f'series_{i}'] = pd.Series(\n",
    "        data = rng.normal(loc=20, scale=5, size=len_series),\n",
    "        index=pd.date_range(\n",
    "            start='2010-01-01',\n",
    "            periods=len_series,\n",
    "            freq='h'\n",
    "        ),\n",
    "        name=f'series_{i}'\n",
    "    )\n",
    "series_dataframe = pd.DataFrame(series_dict, index=series_dict['series_0'].index)\n",
    "\n",
    "exog_dict = {}\n",
    "rng = np.random.default_rng(321)\n",
    "for k in series_dict.keys():\n",
    "    exog = pd.DataFrame(\n",
    "            index=series_dict[k].index\n",
    "            )\n",
    "    exog['day_of_week'] = exog.index.dayofweek\n",
    "    exog['week_of_year'] = exog.index.isocalendar().week.astype(int)\n",
    "    exog['month'] = exog.index.month\n",
    "    exog_dict[k] = exog\n",
    "\n",
    "\n",
    "exog_dict_prediction = {}\n",
    "for k in series_dict.keys():\n",
    "    exog = pd.DataFrame(\n",
    "            index=pd.date_range(\n",
    "                start=series_dict[k].index.max() + pd.Timedelta(hours=1),\n",
    "                periods=100,\n",
    "                freq='h'\n",
    "            )\n",
    "            )\n",
    "    exog['day_of_week'] = exog.index.dayofweek\n",
    "    exog['week_of_year'] = exog.index.isocalendar().week.astype(int)\n",
    "    exog['month'] = exog.index.month\n",
    "    exog_dict_prediction[k] = exog"
   ]
  },
  {
   "cell_type": "code",
   "execution_count": null,
   "metadata": {},
   "outputs": [],
   "source": [
    "# Benchmarking speed ForecasterRecursiveMultiSeries\n",
    "# ==============================================================================\n",
    "regressor = LGBMRegressor(random_state=8520, verbose=-1)\n",
    "# regressor = LinearRegression()\n",
    "if skforecast.__version__ >= '0.14.0':\n",
    "    forecaster = ForecasterRecursiveMultiSeries(\n",
    "        regressor=regressor,\n",
    "        lags=50,\n",
    "        transformer_series=StandardScaler(),\n",
    "        transformer_exog=StandardScaler(),\n",
    "        encoding=\"ordinal\"\n",
    "    )\n",
    "else:\n",
    "     forecaster = ForecasterAutoregMultiSeries(\n",
    "        regressor=regressor,\n",
    "        lags=50,\n",
    "        transformer_series=StandardScaler(),\n",
    "        transformer_exog=StandardScaler(),\n",
    "        encoding=\"ordinal\"\n",
    "    )\n",
    "\n",
    "def ForecasterRecursiveMultiSeries_fit_series_is_dict_exog_is_dict():\n",
    "    forecaster.fit(series=series_dict, exog=exog_dict)\n",
    "\n",
    "def ForecasterRecursiveMultiSeries__create_train_X_y_series_is_dict_exog_is_dict():\n",
    "    forecaster._create_train_X_y(series=series_dict, exog=exog_dict)\n",
    "\n",
    "def ForecasterRecursiveMultiSeries_fit_series_is_dataframe_no_exog():\n",
    "    forecaster.fit(series=series_dataframe)\n",
    "\n",
    "def ForecasterRecursiveMultiSeries__create_train_X_y_series_is_dataframe_no_exog():\n",
    "    forecaster._create_train_X_y(series=series_dataframe)\n",
    "\n",
    "def ForecasterRecursiveMultiSeries__create_train_X_y_single_series():\n",
    "    _ = forecaster._create_train_X_y_single_series(\n",
    "            y = series_dict['series_0'],\n",
    "            exog = exog_dict['series_0'],\n",
    "            ignore_exog = False,\n",
    "        )\n",
    "\n",
    "def ForecasterRecursiveMultiSeries_predict_exog_is_dict():\n",
    "    forecaster.predict(steps=100, exog=exog_dict_prediction, suppress_warnings=True)\n",
    "\n",
    "def ForecasterRecursiveMultiSeries__create_predict_inputs_exog_is_dict():\n",
    "    _ = forecaster._create_predict_inputs(\n",
    "            steps         = 100,\n",
    "            exog         = exog_dict_prediction,\n",
    "            check_inputs = True\n",
    "        )\n",
    "\n",
    "def ForecasterRecursiveMultiSeries__check_predict_inputs():\n",
    "    check_predict_input(\n",
    "        forecaster_name  = type(forecaster).__name__,\n",
    "        steps            = 100,\n",
    "        is_fitted        = forecaster.is_fitted,\n",
    "        exog_in_         = forecaster.exog_in_,\n",
    "        index_type_      = forecaster.index_type_,\n",
    "        index_freq_      = forecaster.index_freq_,\n",
    "        window_size      = forecaster.window_size,\n",
    "        last_window      = pd.DataFrame(forecaster.last_window_),\n",
    "        exog             = exog_dict_prediction,\n",
    "        exog_type_in_    = forecaster.exog_type_in_,\n",
    "        exog_names_in_   = forecaster.exog_names_in_,\n",
    "        interval         = None,\n",
    "        levels           = forecaster.series_names_in_,\n",
    "        series_names_in_ = forecaster.series_names_in_,\n",
    "        encoding         = forecaster.encoding\n",
    "    )\n",
    "\n",
    "def ForecasterRecursiveMultiSeries_backtesting_series_is_dict_exog_is_dict():\n",
    "    if skforecast.__version__ >= '0.14.0':\n",
    "        cv = TimeSeriesFold(\n",
    "                initial_train_size=1200,\n",
    "                fixed_train_size=True,\n",
    "                steps=50,\n",
    "            )\n",
    "        _ = backtesting_forecaster_multiseries(\n",
    "                forecaster=forecaster,\n",
    "                series=series_dict,\n",
    "                exog=exog_dict,\n",
    "                cv=cv,\n",
    "                metric='mean_squared_error',\n",
    "                show_progress=False\n",
    "            )\n",
    "    else:\n",
    "        _ = backtesting_forecaster_multiseries(\n",
    "                forecaster=forecaster,\n",
    "                series=series_dict,\n",
    "                exog=exog_dict,\n",
    "                initial_train_size=1200,\n",
    "                fixed_train_size=True,\n",
    "                steps=50,\n",
    "                metric='mean_squared_error',\n",
    "                show_progress=False\n",
    "            )\n",
    "        \n",
    "def ForecasterRecursiveMultiSeries_backtesting_series_is_dataframe_no_exog():\n",
    "    if skforecast.__version__ >= '0.14.0':\n",
    "        cv = TimeSeriesFold(\n",
    "                initial_train_size=1200,\n",
    "                fixed_train_size=True,\n",
    "                steps=50,\n",
    "            )\n",
    "        _ = backtesting_forecaster_multiseries(\n",
    "                forecaster=forecaster,\n",
    "                series=series_dataframe,\n",
    "                cv=cv,\n",
    "                metric='mean_squared_error',\n",
    "                show_progress=False\n",
    "            )\n",
    "    else:\n",
    "        _ = backtesting_forecaster_multiseries(\n",
    "                forecaster=forecaster,\n",
    "                series=series_dataframe,\n",
    "                initial_train_size=1200,\n",
    "                fixed_train_size=True,\n",
    "                steps=50,\n",
    "                metric='mean_squared_error',\n",
    "                show_progress=False\n",
    "            )\n",
    "\n",
    "\n",
    "runner = BenchmarkRunner(repeat=5, output_dir=\"./\")\n",
    "_ = runner.benchmark(ForecasterRecursiveMultiSeries_fit_series_is_dict_exog_is_dict, forecaster= forecaster)\n",
    "_ = runner.benchmark(ForecasterRecursiveMultiSeries__create_train_X_y_series_is_dict_exog_is_dict, forecaster= forecaster)\n",
    "_ = runner.benchmark(ForecasterRecursiveMultiSeries_fit_series_is_dataframe_no_exog, forecaster= forecaster)\n",
    "_ = runner.benchmark(ForecasterRecursiveMultiSeries__create_train_X_y_series_is_dataframe_no_exog, forecaster= forecaster)\n",
    "runner = BenchmarkRunner(repeat=10, output_dir=\"./\")\n",
    "forecaster.fit(series=series_dict, exog=exog_dict)\n",
    "_ = runner.benchmark(ForecasterRecursiveMultiSeries__create_train_X_y_single_series, forecaster= forecaster)\n",
    "_ = runner.benchmark(ForecasterRecursiveMultiSeries_predict_exog_is_dict, forecaster= forecaster)\n",
    "_ = runner.benchmark(ForecasterRecursiveMultiSeries__create_predict_inputs_exog_is_dict, forecaster= forecaster)\n",
    "_ = runner.benchmark(ForecasterRecursiveMultiSeries__check_predict_inputs, forecaster= forecaster)\n",
    "runner = BenchmarkRunner(repeat=5, output_dir=\"./\")\n",
    "_ = runner.benchmark(ForecasterRecursiveMultiSeries_backtesting_series_is_dict_exog_is_dict, forecaster= forecaster)\n",
    "_ = runner.benchmark(ForecasterRecursiveMultiSeries_backtesting_series_is_dataframe_no_exog, forecaster= forecaster)"
   ]
  },
  {
   "cell_type": "code",
   "execution_count": 17,
   "metadata": {},
   "outputs": [
    {
     "data": {
      "application/vnd.microsoft.datawrangler.viewer.v0+json": {
       "columns": [
        {
         "name": "index",
         "rawType": "int64",
         "type": "integer"
        },
        {
         "name": "forecaster_name",
         "rawType": "object",
         "type": "string"
        },
        {
         "name": "regressor_name",
         "rawType": "object",
         "type": "string"
        },
        {
         "name": "function_name",
         "rawType": "object",
         "type": "string"
        },
        {
         "name": "function_hash",
         "rawType": "object",
         "type": "string"
        },
        {
         "name": "run_time_avg",
         "rawType": "float64",
         "type": "float"
        },
        {
         "name": "run_time_std_dev",
         "rawType": "float64",
         "type": "float"
        },
        {
         "name": "datetime",
         "rawType": "datetime64[ns]",
         "type": "datetime"
        },
        {
         "name": "python_version",
         "rawType": "object",
         "type": "string"
        },
        {
         "name": "skforecast_version",
         "rawType": "object",
         "type": "string"
        },
        {
         "name": "numpy_version",
         "rawType": "object",
         "type": "string"
        },
        {
         "name": "pandas_version",
         "rawType": "object",
         "type": "string"
        },
        {
         "name": "sklearn_version",
         "rawType": "object",
         "type": "string"
        },
        {
         "name": "lightgbm_version",
         "rawType": "object",
         "type": "string"
        },
        {
         "name": "platform",
         "rawType": "object",
         "type": "string"
        },
        {
         "name": "processor",
         "rawType": "object",
         "type": "string"
        },
        {
         "name": "cpu_count",
         "rawType": "int64",
         "type": "integer"
        },
        {
         "name": "memory_gb",
         "rawType": "float64",
         "type": "float"
        }
       ],
       "conversionMethod": "pd.DataFrame",
       "ref": "4bf2c968-898d-47aa-9006-d0565bc19aec",
       "rows": [
        [
         "0",
         "ForecasterRecursiveMultiSeries",
         "LGBMRegressor",
         "ForecasterRecursiveMultiSeries_fit_series_is_dict_exog_is_dict",
         "63b606a379874ae9f340ba4fe592d695",
         "12.293676907599728",
         "0.4299464580616479",
         "2025-04-23 15:03:26.238942",
         "3.12.9",
         "0.16.0",
         "2.2.5",
         "2.2.3",
         "1.6.1",
         "4.6.0",
         "Linux-6.11.0-21-generic-x86_64-with-glibc2.39",
         "x86_64",
         "8",
         "16.64"
        ],
        [
         "12",
         "ForecasterRecursiveMultiSeries",
         "LGBMRegressor",
         "ForecasterRecursiveMultiSeries_fit_series_is_dict_exog_is_dict",
         "63b606a379874ae9f340ba4fe592d695",
         "12.290554184400388",
         "0.7850762426670903",
         "2025-04-23 15:09:20.254703",
         "3.12.9",
         "0.15.1",
         "2.2.5",
         "2.2.3",
         "1.6.1",
         "4.6.0",
         "Linux-6.11.0-21-generic-x86_64-with-glibc2.39",
         "x86_64",
         "8",
         "16.64"
        ],
        [
         "24",
         "ForecasterRecursiveMultiSeries",
         "LGBMRegressor",
         "ForecasterRecursiveMultiSeries_fit_series_is_dict_exog_is_dict",
         "63b606a379874ae9f340ba4fe592d695",
         "11.181269412600159",
         "0.5775651531339552",
         "2025-04-23 15:13:23.496449",
         "3.12.9",
         "0.14.0",
         "2.2.5",
         "2.2.3",
         "1.6.1",
         "4.6.0",
         "Linux-6.11.0-21-generic-x86_64-with-glibc2.39",
         "x86_64",
         "8",
         "16.64"
        ],
        [
         "36",
         "ForecasterAutoregMultiSeries",
         "LGBMRegressor",
         "ForecasterRecursiveMultiSeries_fit_series_is_dict_exog_is_dict",
         "63b606a379874ae9f340ba4fe592d695",
         "12.332074893800382",
         "1.0017813265230584",
         "2025-04-23 15:25:24.855452",
         "3.12.9",
         "0.13.0",
         "2.2.5",
         "2.2.3",
         "1.6.1",
         "4.6.0",
         "Linux-6.11.0-21-generic-x86_64-with-glibc2.39",
         "x86_64",
         "8",
         "16.64"
        ],
        [
         "48",
         "ForecasterAutoregMultiSeries",
         "LGBMRegressor",
         "ForecasterRecursiveMultiSeries_fit_series_is_dict_exog_is_dict",
         "63b606a379874ae9f340ba4fe592d695",
         "12.542493203600316",
         "0.606812767217526",
         "2025-04-23 15:34:44.825479",
         "3.12.9",
         "0.13.0",
         "2.2.5",
         "2.2.3",
         "1.6.1",
         "4.6.0",
         "Linux-6.11.0-21-generic-x86_64-with-glibc2.39",
         "x86_64",
         "8",
         "16.64"
        ],
        [
         "68",
         "ForecasterRecursiveMultiSeries",
         "LGBMRegressor",
         "ForecasterRecursiveMultiSeries_fit_series_is_dict_exog_is_dict",
         "63b606a379874ae9f340ba4fe592d695",
         "10.987335508199612",
         "0.3966322141252035",
         "2025-04-23 15:54:09.384976",
         "3.12.9",
         "0.14.0",
         "2.2.5",
         "2.2.3",
         "1.6.1",
         "4.6.0",
         "Linux-6.11.0-21-generic-x86_64-with-glibc2.39",
         "x86_64",
         "8",
         "16.64"
        ],
        [
         "80",
         "ForecasterRecursiveMultiSeries",
         "LGBMRegressor",
         "ForecasterRecursiveMultiSeries_fit_series_is_dict_exog_is_dict",
         "63b606a379874ae9f340ba4fe592d695",
         "11.761211828599698",
         "0.3588705125506934",
         "2025-04-23 15:58:20.920219",
         "3.12.9",
         "0.15.1",
         "2.2.5",
         "2.2.3",
         "1.6.1",
         "4.6.0",
         "Linux-6.11.0-21-generic-x86_64-with-glibc2.39",
         "x86_64",
         "8",
         "16.64"
        ],
        [
         "92",
         "ForecasterRecursiveMultiSeries",
         "LGBMRegressor",
         "ForecasterRecursiveMultiSeries_fit_series_is_dict_exog_is_dict",
         "63b606a379874ae9f340ba4fe592d695",
         "11.800769748600578",
         "0.4028811480765749",
         "2025-04-23 16:02:51.964754",
         "3.12.9",
         "0.15.1",
         "2.2.5",
         "2.2.3",
         "1.6.1",
         "4.6.0",
         "Linux-6.11.0-21-generic-x86_64-with-glibc2.39",
         "x86_64",
         "8",
         "16.64"
        ],
        [
         "104",
         "ForecasterRecursiveMultiSeries",
         "LGBMRegressor",
         "ForecasterRecursiveMultiSeries_fit_series_is_dict_exog_is_dict",
         "63b606a379874ae9f340ba4fe592d695",
         "11.717140025999834",
         "0.23800300307952854",
         "2025-04-23 16:06:12.882601",
         "3.12.9",
         "0.16.0",
         "2.2.5",
         "2.2.3",
         "1.6.1",
         "4.6.0",
         "Linux-6.11.0-21-generic-x86_64-with-glibc2.39",
         "x86_64",
         "8",
         "16.64"
        ],
        [
         "116",
         "ForecasterRecursiveMultiSeries",
         "LGBMRegressor",
         "ForecasterRecursiveMultiSeries_fit_series_is_dict_exog_is_dict",
         "63b606a379874ae9f340ba4fe592d695",
         "11.314106579799773",
         "0.3975713020085224",
         "2025-04-23 16:09:47.625542",
         "3.12.9",
         "0.16.0",
         "2.2.5",
         "2.2.3",
         "1.6.1",
         "4.6.0",
         "Linux-6.11.0-21-generic-x86_64-with-glibc2.39",
         "x86_64",
         "8",
         "16.64"
        ],
        [
         "135",
         "ForecasterRecursiveMultiSeries",
         "LGBMRegressor",
         "ForecasterRecursiveMultiSeries_fit_series_is_dict_exog_is_dict",
         "63b606a379874ae9f340ba4fe592d695",
         "13.482402704000197",
         "1.0864616358231147",
         "2025-04-23 20:10:32.022664",
         "3.12.9",
         "0.16.0",
         "2.2.5",
         "2.2.3",
         "1.6.1",
         "4.6.0",
         "Linux-6.11.0-21-generic-x86_64-with-glibc2.39",
         "x86_64",
         "8",
         "16.64"
        ],
        [
         "148",
         "ForecasterRecursiveMultiSeries",
         "LGBMRegressor",
         "ForecasterRecursiveMultiSeries_fit_series_is_dict_exog_is_dict",
         "63b606a379874ae9f340ba4fe592d695",
         "12.65091672319977",
         "1.0808751659897826",
         "2025-04-23 20:16:08.414338",
         "3.12.9",
         "0.15.1",
         "2.2.5",
         "2.2.3",
         "1.6.1",
         "4.6.0",
         "Linux-6.11.0-21-generic-x86_64-with-glibc2.39",
         "x86_64",
         "8",
         "16.64"
        ],
        [
         "161",
         "ForecasterRecursiveMultiSeries",
         "LGBMRegressor",
         "ForecasterRecursiveMultiSeries_fit_series_is_dict_exog_is_dict",
         "63b606a379874ae9f340ba4fe592d695",
         "12.44983174099907",
         "0.6397672600664224",
         "2025-04-23 21:57:12.603493",
         "3.12.9",
         "0.15.1",
         "2.2.5",
         "2.2.3",
         "1.6.1",
         "4.6.0",
         "Linux-6.11.0-21-generic-x86_64-with-glibc2.39",
         "x86_64",
         "8",
         "16.64"
        ],
        [
         "174",
         "ForecasterRecursiveMultiSeries",
         "LGBMRegressor",
         "ForecasterRecursiveMultiSeries_fit_series_is_dict_exog_is_dict",
         "63b606a379874ae9f340ba4fe592d695",
         "13.398142746600206",
         "0.5423952089995667",
         "2025-04-23 22:10:14.555069",
         "3.12.9",
         "0.14.0",
         "2.2.5",
         "2.2.3",
         "1.6.1",
         "4.6.0",
         "Linux-6.11.0-21-generic-x86_64-with-glibc2.39",
         "x86_64",
         "8",
         "16.64"
        ],
        [
         "187",
         "ForecasterRecursiveMultiSeries",
         "LGBMRegressor",
         "ForecasterRecursiveMultiSeries_fit_series_is_dict_exog_is_dict",
         "63b606a379874ae9f340ba4fe592d695",
         "11.392517131000204",
         "0.29435103227178505",
         "2025-04-23 22:44:55.521977",
         "3.12.9",
         "0.14.0",
         "2.2.5",
         "2.2.3",
         "1.6.1",
         "4.6.0",
         "Linux-6.11.0-21-generic-x86_64-with-glibc2.39",
         "x86_64",
         "8",
         "16.64"
        ],
        [
         "201",
         "ForecasterRecursiveMultiSeries",
         "LGBMRegressor",
         "ForecasterRecursiveMultiSeries_fit_series_is_dict_exog_is_dict",
         "63b606a379874ae9f340ba4fe592d695",
         "12.83376236480035",
         "0.5166944518532278",
         "2025-04-23 22:53:29.202705",
         "3.12.9",
         "0.16.0",
         "2.2.5",
         "2.2.3",
         "1.6.1",
         "4.6.0",
         "Linux-6.11.0-21-generic-x86_64-with-glibc2.39",
         "x86_64",
         "8",
         "16.64"
        ]
       ],
       "shape": {
        "columns": 17,
        "rows": 16
       }
      },
      "text/html": [
       "<div>\n",
       "<style scoped>\n",
       "    .dataframe tbody tr th:only-of-type {\n",
       "        vertical-align: middle;\n",
       "    }\n",
       "\n",
       "    .dataframe tbody tr th {\n",
       "        vertical-align: top;\n",
       "    }\n",
       "\n",
       "    .dataframe thead th {\n",
       "        text-align: right;\n",
       "    }\n",
       "</style>\n",
       "<table border=\"1\" class=\"dataframe\">\n",
       "  <thead>\n",
       "    <tr style=\"text-align: right;\">\n",
       "      <th></th>\n",
       "      <th>forecaster_name</th>\n",
       "      <th>regressor_name</th>\n",
       "      <th>function_name</th>\n",
       "      <th>function_hash</th>\n",
       "      <th>run_time_avg</th>\n",
       "      <th>run_time_std_dev</th>\n",
       "      <th>datetime</th>\n",
       "      <th>python_version</th>\n",
       "      <th>skforecast_version</th>\n",
       "      <th>numpy_version</th>\n",
       "      <th>pandas_version</th>\n",
       "      <th>sklearn_version</th>\n",
       "      <th>lightgbm_version</th>\n",
       "      <th>platform</th>\n",
       "      <th>processor</th>\n",
       "      <th>cpu_count</th>\n",
       "      <th>memory_gb</th>\n",
       "    </tr>\n",
       "  </thead>\n",
       "  <tbody>\n",
       "    <tr>\n",
       "      <th>0</th>\n",
       "      <td>ForecasterRecursiveMultiSeries</td>\n",
       "      <td>LGBMRegressor</td>\n",
       "      <td>ForecasterRecursiveMultiSeries_fit_series_is_d...</td>\n",
       "      <td>63b606a379874ae9f340ba4fe592d695</td>\n",
       "      <td>12.293677</td>\n",
       "      <td>0.429946</td>\n",
       "      <td>2025-04-23 15:03:26.238942</td>\n",
       "      <td>3.12.9</td>\n",
       "      <td>0.16.0</td>\n",
       "      <td>2.2.5</td>\n",
       "      <td>2.2.3</td>\n",
       "      <td>1.6.1</td>\n",
       "      <td>4.6.0</td>\n",
       "      <td>Linux-6.11.0-21-generic-x86_64-with-glibc2.39</td>\n",
       "      <td>x86_64</td>\n",
       "      <td>8</td>\n",
       "      <td>16.64</td>\n",
       "    </tr>\n",
       "    <tr>\n",
       "      <th>12</th>\n",
       "      <td>ForecasterRecursiveMultiSeries</td>\n",
       "      <td>LGBMRegressor</td>\n",
       "      <td>ForecasterRecursiveMultiSeries_fit_series_is_d...</td>\n",
       "      <td>63b606a379874ae9f340ba4fe592d695</td>\n",
       "      <td>12.290554</td>\n",
       "      <td>0.785076</td>\n",
       "      <td>2025-04-23 15:09:20.254703</td>\n",
       "      <td>3.12.9</td>\n",
       "      <td>0.15.1</td>\n",
       "      <td>2.2.5</td>\n",
       "      <td>2.2.3</td>\n",
       "      <td>1.6.1</td>\n",
       "      <td>4.6.0</td>\n",
       "      <td>Linux-6.11.0-21-generic-x86_64-with-glibc2.39</td>\n",
       "      <td>x86_64</td>\n",
       "      <td>8</td>\n",
       "      <td>16.64</td>\n",
       "    </tr>\n",
       "    <tr>\n",
       "      <th>24</th>\n",
       "      <td>ForecasterRecursiveMultiSeries</td>\n",
       "      <td>LGBMRegressor</td>\n",
       "      <td>ForecasterRecursiveMultiSeries_fit_series_is_d...</td>\n",
       "      <td>63b606a379874ae9f340ba4fe592d695</td>\n",
       "      <td>11.181269</td>\n",
       "      <td>0.577565</td>\n",
       "      <td>2025-04-23 15:13:23.496449</td>\n",
       "      <td>3.12.9</td>\n",
       "      <td>0.14.0</td>\n",
       "      <td>2.2.5</td>\n",
       "      <td>2.2.3</td>\n",
       "      <td>1.6.1</td>\n",
       "      <td>4.6.0</td>\n",
       "      <td>Linux-6.11.0-21-generic-x86_64-with-glibc2.39</td>\n",
       "      <td>x86_64</td>\n",
       "      <td>8</td>\n",
       "      <td>16.64</td>\n",
       "    </tr>\n",
       "    <tr>\n",
       "      <th>36</th>\n",
       "      <td>ForecasterAutoregMultiSeries</td>\n",
       "      <td>LGBMRegressor</td>\n",
       "      <td>ForecasterRecursiveMultiSeries_fit_series_is_d...</td>\n",
       "      <td>63b606a379874ae9f340ba4fe592d695</td>\n",
       "      <td>12.332075</td>\n",
       "      <td>1.001781</td>\n",
       "      <td>2025-04-23 15:25:24.855452</td>\n",
       "      <td>3.12.9</td>\n",
       "      <td>0.13.0</td>\n",
       "      <td>2.2.5</td>\n",
       "      <td>2.2.3</td>\n",
       "      <td>1.6.1</td>\n",
       "      <td>4.6.0</td>\n",
       "      <td>Linux-6.11.0-21-generic-x86_64-with-glibc2.39</td>\n",
       "      <td>x86_64</td>\n",
       "      <td>8</td>\n",
       "      <td>16.64</td>\n",
       "    </tr>\n",
       "    <tr>\n",
       "      <th>48</th>\n",
       "      <td>ForecasterAutoregMultiSeries</td>\n",
       "      <td>LGBMRegressor</td>\n",
       "      <td>ForecasterRecursiveMultiSeries_fit_series_is_d...</td>\n",
       "      <td>63b606a379874ae9f340ba4fe592d695</td>\n",
       "      <td>12.542493</td>\n",
       "      <td>0.606813</td>\n",
       "      <td>2025-04-23 15:34:44.825479</td>\n",
       "      <td>3.12.9</td>\n",
       "      <td>0.13.0</td>\n",
       "      <td>2.2.5</td>\n",
       "      <td>2.2.3</td>\n",
       "      <td>1.6.1</td>\n",
       "      <td>4.6.0</td>\n",
       "      <td>Linux-6.11.0-21-generic-x86_64-with-glibc2.39</td>\n",
       "      <td>x86_64</td>\n",
       "      <td>8</td>\n",
       "      <td>16.64</td>\n",
       "    </tr>\n",
       "    <tr>\n",
       "      <th>68</th>\n",
       "      <td>ForecasterRecursiveMultiSeries</td>\n",
       "      <td>LGBMRegressor</td>\n",
       "      <td>ForecasterRecursiveMultiSeries_fit_series_is_d...</td>\n",
       "      <td>63b606a379874ae9f340ba4fe592d695</td>\n",
       "      <td>10.987336</td>\n",
       "      <td>0.396632</td>\n",
       "      <td>2025-04-23 15:54:09.384976</td>\n",
       "      <td>3.12.9</td>\n",
       "      <td>0.14.0</td>\n",
       "      <td>2.2.5</td>\n",
       "      <td>2.2.3</td>\n",
       "      <td>1.6.1</td>\n",
       "      <td>4.6.0</td>\n",
       "      <td>Linux-6.11.0-21-generic-x86_64-with-glibc2.39</td>\n",
       "      <td>x86_64</td>\n",
       "      <td>8</td>\n",
       "      <td>16.64</td>\n",
       "    </tr>\n",
       "    <tr>\n",
       "      <th>80</th>\n",
       "      <td>ForecasterRecursiveMultiSeries</td>\n",
       "      <td>LGBMRegressor</td>\n",
       "      <td>ForecasterRecursiveMultiSeries_fit_series_is_d...</td>\n",
       "      <td>63b606a379874ae9f340ba4fe592d695</td>\n",
       "      <td>11.761212</td>\n",
       "      <td>0.358871</td>\n",
       "      <td>2025-04-23 15:58:20.920219</td>\n",
       "      <td>3.12.9</td>\n",
       "      <td>0.15.1</td>\n",
       "      <td>2.2.5</td>\n",
       "      <td>2.2.3</td>\n",
       "      <td>1.6.1</td>\n",
       "      <td>4.6.0</td>\n",
       "      <td>Linux-6.11.0-21-generic-x86_64-with-glibc2.39</td>\n",
       "      <td>x86_64</td>\n",
       "      <td>8</td>\n",
       "      <td>16.64</td>\n",
       "    </tr>\n",
       "    <tr>\n",
       "      <th>92</th>\n",
       "      <td>ForecasterRecursiveMultiSeries</td>\n",
       "      <td>LGBMRegressor</td>\n",
       "      <td>ForecasterRecursiveMultiSeries_fit_series_is_d...</td>\n",
       "      <td>63b606a379874ae9f340ba4fe592d695</td>\n",
       "      <td>11.800770</td>\n",
       "      <td>0.402881</td>\n",
       "      <td>2025-04-23 16:02:51.964754</td>\n",
       "      <td>3.12.9</td>\n",
       "      <td>0.15.1</td>\n",
       "      <td>2.2.5</td>\n",
       "      <td>2.2.3</td>\n",
       "      <td>1.6.1</td>\n",
       "      <td>4.6.0</td>\n",
       "      <td>Linux-6.11.0-21-generic-x86_64-with-glibc2.39</td>\n",
       "      <td>x86_64</td>\n",
       "      <td>8</td>\n",
       "      <td>16.64</td>\n",
       "    </tr>\n",
       "    <tr>\n",
       "      <th>104</th>\n",
       "      <td>ForecasterRecursiveMultiSeries</td>\n",
       "      <td>LGBMRegressor</td>\n",
       "      <td>ForecasterRecursiveMultiSeries_fit_series_is_d...</td>\n",
       "      <td>63b606a379874ae9f340ba4fe592d695</td>\n",
       "      <td>11.717140</td>\n",
       "      <td>0.238003</td>\n",
       "      <td>2025-04-23 16:06:12.882601</td>\n",
       "      <td>3.12.9</td>\n",
       "      <td>0.16.0</td>\n",
       "      <td>2.2.5</td>\n",
       "      <td>2.2.3</td>\n",
       "      <td>1.6.1</td>\n",
       "      <td>4.6.0</td>\n",
       "      <td>Linux-6.11.0-21-generic-x86_64-with-glibc2.39</td>\n",
       "      <td>x86_64</td>\n",
       "      <td>8</td>\n",
       "      <td>16.64</td>\n",
       "    </tr>\n",
       "    <tr>\n",
       "      <th>116</th>\n",
       "      <td>ForecasterRecursiveMultiSeries</td>\n",
       "      <td>LGBMRegressor</td>\n",
       "      <td>ForecasterRecursiveMultiSeries_fit_series_is_d...</td>\n",
       "      <td>63b606a379874ae9f340ba4fe592d695</td>\n",
       "      <td>11.314107</td>\n",
       "      <td>0.397571</td>\n",
       "      <td>2025-04-23 16:09:47.625542</td>\n",
       "      <td>3.12.9</td>\n",
       "      <td>0.16.0</td>\n",
       "      <td>2.2.5</td>\n",
       "      <td>2.2.3</td>\n",
       "      <td>1.6.1</td>\n",
       "      <td>4.6.0</td>\n",
       "      <td>Linux-6.11.0-21-generic-x86_64-with-glibc2.39</td>\n",
       "      <td>x86_64</td>\n",
       "      <td>8</td>\n",
       "      <td>16.64</td>\n",
       "    </tr>\n",
       "    <tr>\n",
       "      <th>135</th>\n",
       "      <td>ForecasterRecursiveMultiSeries</td>\n",
       "      <td>LGBMRegressor</td>\n",
       "      <td>ForecasterRecursiveMultiSeries_fit_series_is_d...</td>\n",
       "      <td>63b606a379874ae9f340ba4fe592d695</td>\n",
       "      <td>13.482403</td>\n",
       "      <td>1.086462</td>\n",
       "      <td>2025-04-23 20:10:32.022664</td>\n",
       "      <td>3.12.9</td>\n",
       "      <td>0.16.0</td>\n",
       "      <td>2.2.5</td>\n",
       "      <td>2.2.3</td>\n",
       "      <td>1.6.1</td>\n",
       "      <td>4.6.0</td>\n",
       "      <td>Linux-6.11.0-21-generic-x86_64-with-glibc2.39</td>\n",
       "      <td>x86_64</td>\n",
       "      <td>8</td>\n",
       "      <td>16.64</td>\n",
       "    </tr>\n",
       "    <tr>\n",
       "      <th>148</th>\n",
       "      <td>ForecasterRecursiveMultiSeries</td>\n",
       "      <td>LGBMRegressor</td>\n",
       "      <td>ForecasterRecursiveMultiSeries_fit_series_is_d...</td>\n",
       "      <td>63b606a379874ae9f340ba4fe592d695</td>\n",
       "      <td>12.650917</td>\n",
       "      <td>1.080875</td>\n",
       "      <td>2025-04-23 20:16:08.414338</td>\n",
       "      <td>3.12.9</td>\n",
       "      <td>0.15.1</td>\n",
       "      <td>2.2.5</td>\n",
       "      <td>2.2.3</td>\n",
       "      <td>1.6.1</td>\n",
       "      <td>4.6.0</td>\n",
       "      <td>Linux-6.11.0-21-generic-x86_64-with-glibc2.39</td>\n",
       "      <td>x86_64</td>\n",
       "      <td>8</td>\n",
       "      <td>16.64</td>\n",
       "    </tr>\n",
       "    <tr>\n",
       "      <th>161</th>\n",
       "      <td>ForecasterRecursiveMultiSeries</td>\n",
       "      <td>LGBMRegressor</td>\n",
       "      <td>ForecasterRecursiveMultiSeries_fit_series_is_d...</td>\n",
       "      <td>63b606a379874ae9f340ba4fe592d695</td>\n",
       "      <td>12.449832</td>\n",
       "      <td>0.639767</td>\n",
       "      <td>2025-04-23 21:57:12.603493</td>\n",
       "      <td>3.12.9</td>\n",
       "      <td>0.15.1</td>\n",
       "      <td>2.2.5</td>\n",
       "      <td>2.2.3</td>\n",
       "      <td>1.6.1</td>\n",
       "      <td>4.6.0</td>\n",
       "      <td>Linux-6.11.0-21-generic-x86_64-with-glibc2.39</td>\n",
       "      <td>x86_64</td>\n",
       "      <td>8</td>\n",
       "      <td>16.64</td>\n",
       "    </tr>\n",
       "    <tr>\n",
       "      <th>174</th>\n",
       "      <td>ForecasterRecursiveMultiSeries</td>\n",
       "      <td>LGBMRegressor</td>\n",
       "      <td>ForecasterRecursiveMultiSeries_fit_series_is_d...</td>\n",
       "      <td>63b606a379874ae9f340ba4fe592d695</td>\n",
       "      <td>13.398143</td>\n",
       "      <td>0.542395</td>\n",
       "      <td>2025-04-23 22:10:14.555069</td>\n",
       "      <td>3.12.9</td>\n",
       "      <td>0.14.0</td>\n",
       "      <td>2.2.5</td>\n",
       "      <td>2.2.3</td>\n",
       "      <td>1.6.1</td>\n",
       "      <td>4.6.0</td>\n",
       "      <td>Linux-6.11.0-21-generic-x86_64-with-glibc2.39</td>\n",
       "      <td>x86_64</td>\n",
       "      <td>8</td>\n",
       "      <td>16.64</td>\n",
       "    </tr>\n",
       "    <tr>\n",
       "      <th>187</th>\n",
       "      <td>ForecasterRecursiveMultiSeries</td>\n",
       "      <td>LGBMRegressor</td>\n",
       "      <td>ForecasterRecursiveMultiSeries_fit_series_is_d...</td>\n",
       "      <td>63b606a379874ae9f340ba4fe592d695</td>\n",
       "      <td>11.392517</td>\n",
       "      <td>0.294351</td>\n",
       "      <td>2025-04-23 22:44:55.521977</td>\n",
       "      <td>3.12.9</td>\n",
       "      <td>0.14.0</td>\n",
       "      <td>2.2.5</td>\n",
       "      <td>2.2.3</td>\n",
       "      <td>1.6.1</td>\n",
       "      <td>4.6.0</td>\n",
       "      <td>Linux-6.11.0-21-generic-x86_64-with-glibc2.39</td>\n",
       "      <td>x86_64</td>\n",
       "      <td>8</td>\n",
       "      <td>16.64</td>\n",
       "    </tr>\n",
       "    <tr>\n",
       "      <th>201</th>\n",
       "      <td>ForecasterRecursiveMultiSeries</td>\n",
       "      <td>LGBMRegressor</td>\n",
       "      <td>ForecasterRecursiveMultiSeries_fit_series_is_d...</td>\n",
       "      <td>63b606a379874ae9f340ba4fe592d695</td>\n",
       "      <td>12.833762</td>\n",
       "      <td>0.516694</td>\n",
       "      <td>2025-04-23 22:53:29.202705</td>\n",
       "      <td>3.12.9</td>\n",
       "      <td>0.16.0</td>\n",
       "      <td>2.2.5</td>\n",
       "      <td>2.2.3</td>\n",
       "      <td>1.6.1</td>\n",
       "      <td>4.6.0</td>\n",
       "      <td>Linux-6.11.0-21-generic-x86_64-with-glibc2.39</td>\n",
       "      <td>x86_64</td>\n",
       "      <td>8</td>\n",
       "      <td>16.64</td>\n",
       "    </tr>\n",
       "  </tbody>\n",
       "</table>\n",
       "</div>"
      ],
      "text/plain": [
       "                    forecaster_name regressor_name  \\\n",
       "0    ForecasterRecursiveMultiSeries  LGBMRegressor   \n",
       "12   ForecasterRecursiveMultiSeries  LGBMRegressor   \n",
       "24   ForecasterRecursiveMultiSeries  LGBMRegressor   \n",
       "36     ForecasterAutoregMultiSeries  LGBMRegressor   \n",
       "48     ForecasterAutoregMultiSeries  LGBMRegressor   \n",
       "68   ForecasterRecursiveMultiSeries  LGBMRegressor   \n",
       "80   ForecasterRecursiveMultiSeries  LGBMRegressor   \n",
       "92   ForecasterRecursiveMultiSeries  LGBMRegressor   \n",
       "104  ForecasterRecursiveMultiSeries  LGBMRegressor   \n",
       "116  ForecasterRecursiveMultiSeries  LGBMRegressor   \n",
       "135  ForecasterRecursiveMultiSeries  LGBMRegressor   \n",
       "148  ForecasterRecursiveMultiSeries  LGBMRegressor   \n",
       "161  ForecasterRecursiveMultiSeries  LGBMRegressor   \n",
       "174  ForecasterRecursiveMultiSeries  LGBMRegressor   \n",
       "187  ForecasterRecursiveMultiSeries  LGBMRegressor   \n",
       "201  ForecasterRecursiveMultiSeries  LGBMRegressor   \n",
       "\n",
       "                                         function_name  \\\n",
       "0    ForecasterRecursiveMultiSeries_fit_series_is_d...   \n",
       "12   ForecasterRecursiveMultiSeries_fit_series_is_d...   \n",
       "24   ForecasterRecursiveMultiSeries_fit_series_is_d...   \n",
       "36   ForecasterRecursiveMultiSeries_fit_series_is_d...   \n",
       "48   ForecasterRecursiveMultiSeries_fit_series_is_d...   \n",
       "68   ForecasterRecursiveMultiSeries_fit_series_is_d...   \n",
       "80   ForecasterRecursiveMultiSeries_fit_series_is_d...   \n",
       "92   ForecasterRecursiveMultiSeries_fit_series_is_d...   \n",
       "104  ForecasterRecursiveMultiSeries_fit_series_is_d...   \n",
       "116  ForecasterRecursiveMultiSeries_fit_series_is_d...   \n",
       "135  ForecasterRecursiveMultiSeries_fit_series_is_d...   \n",
       "148  ForecasterRecursiveMultiSeries_fit_series_is_d...   \n",
       "161  ForecasterRecursiveMultiSeries_fit_series_is_d...   \n",
       "174  ForecasterRecursiveMultiSeries_fit_series_is_d...   \n",
       "187  ForecasterRecursiveMultiSeries_fit_series_is_d...   \n",
       "201  ForecasterRecursiveMultiSeries_fit_series_is_d...   \n",
       "\n",
       "                        function_hash  run_time_avg  run_time_std_dev  \\\n",
       "0    63b606a379874ae9f340ba4fe592d695     12.293677          0.429946   \n",
       "12   63b606a379874ae9f340ba4fe592d695     12.290554          0.785076   \n",
       "24   63b606a379874ae9f340ba4fe592d695     11.181269          0.577565   \n",
       "36   63b606a379874ae9f340ba4fe592d695     12.332075          1.001781   \n",
       "48   63b606a379874ae9f340ba4fe592d695     12.542493          0.606813   \n",
       "68   63b606a379874ae9f340ba4fe592d695     10.987336          0.396632   \n",
       "80   63b606a379874ae9f340ba4fe592d695     11.761212          0.358871   \n",
       "92   63b606a379874ae9f340ba4fe592d695     11.800770          0.402881   \n",
       "104  63b606a379874ae9f340ba4fe592d695     11.717140          0.238003   \n",
       "116  63b606a379874ae9f340ba4fe592d695     11.314107          0.397571   \n",
       "135  63b606a379874ae9f340ba4fe592d695     13.482403          1.086462   \n",
       "148  63b606a379874ae9f340ba4fe592d695     12.650917          1.080875   \n",
       "161  63b606a379874ae9f340ba4fe592d695     12.449832          0.639767   \n",
       "174  63b606a379874ae9f340ba4fe592d695     13.398143          0.542395   \n",
       "187  63b606a379874ae9f340ba4fe592d695     11.392517          0.294351   \n",
       "201  63b606a379874ae9f340ba4fe592d695     12.833762          0.516694   \n",
       "\n",
       "                      datetime python_version skforecast_version  \\\n",
       "0   2025-04-23 15:03:26.238942         3.12.9             0.16.0   \n",
       "12  2025-04-23 15:09:20.254703         3.12.9             0.15.1   \n",
       "24  2025-04-23 15:13:23.496449         3.12.9             0.14.0   \n",
       "36  2025-04-23 15:25:24.855452         3.12.9             0.13.0   \n",
       "48  2025-04-23 15:34:44.825479         3.12.9             0.13.0   \n",
       "68  2025-04-23 15:54:09.384976         3.12.9             0.14.0   \n",
       "80  2025-04-23 15:58:20.920219         3.12.9             0.15.1   \n",
       "92  2025-04-23 16:02:51.964754         3.12.9             0.15.1   \n",
       "104 2025-04-23 16:06:12.882601         3.12.9             0.16.0   \n",
       "116 2025-04-23 16:09:47.625542         3.12.9             0.16.0   \n",
       "135 2025-04-23 20:10:32.022664         3.12.9             0.16.0   \n",
       "148 2025-04-23 20:16:08.414338         3.12.9             0.15.1   \n",
       "161 2025-04-23 21:57:12.603493         3.12.9             0.15.1   \n",
       "174 2025-04-23 22:10:14.555069         3.12.9             0.14.0   \n",
       "187 2025-04-23 22:44:55.521977         3.12.9             0.14.0   \n",
       "201 2025-04-23 22:53:29.202705         3.12.9             0.16.0   \n",
       "\n",
       "    numpy_version pandas_version sklearn_version lightgbm_version  \\\n",
       "0           2.2.5          2.2.3           1.6.1            4.6.0   \n",
       "12          2.2.5          2.2.3           1.6.1            4.6.0   \n",
       "24          2.2.5          2.2.3           1.6.1            4.6.0   \n",
       "36          2.2.5          2.2.3           1.6.1            4.6.0   \n",
       "48          2.2.5          2.2.3           1.6.1            4.6.0   \n",
       "68          2.2.5          2.2.3           1.6.1            4.6.0   \n",
       "80          2.2.5          2.2.3           1.6.1            4.6.0   \n",
       "92          2.2.5          2.2.3           1.6.1            4.6.0   \n",
       "104         2.2.5          2.2.3           1.6.1            4.6.0   \n",
       "116         2.2.5          2.2.3           1.6.1            4.6.0   \n",
       "135         2.2.5          2.2.3           1.6.1            4.6.0   \n",
       "148         2.2.5          2.2.3           1.6.1            4.6.0   \n",
       "161         2.2.5          2.2.3           1.6.1            4.6.0   \n",
       "174         2.2.5          2.2.3           1.6.1            4.6.0   \n",
       "187         2.2.5          2.2.3           1.6.1            4.6.0   \n",
       "201         2.2.5          2.2.3           1.6.1            4.6.0   \n",
       "\n",
       "                                          platform processor  cpu_count  \\\n",
       "0    Linux-6.11.0-21-generic-x86_64-with-glibc2.39    x86_64          8   \n",
       "12   Linux-6.11.0-21-generic-x86_64-with-glibc2.39    x86_64          8   \n",
       "24   Linux-6.11.0-21-generic-x86_64-with-glibc2.39    x86_64          8   \n",
       "36   Linux-6.11.0-21-generic-x86_64-with-glibc2.39    x86_64          8   \n",
       "48   Linux-6.11.0-21-generic-x86_64-with-glibc2.39    x86_64          8   \n",
       "68   Linux-6.11.0-21-generic-x86_64-with-glibc2.39    x86_64          8   \n",
       "80   Linux-6.11.0-21-generic-x86_64-with-glibc2.39    x86_64          8   \n",
       "92   Linux-6.11.0-21-generic-x86_64-with-glibc2.39    x86_64          8   \n",
       "104  Linux-6.11.0-21-generic-x86_64-with-glibc2.39    x86_64          8   \n",
       "116  Linux-6.11.0-21-generic-x86_64-with-glibc2.39    x86_64          8   \n",
       "135  Linux-6.11.0-21-generic-x86_64-with-glibc2.39    x86_64          8   \n",
       "148  Linux-6.11.0-21-generic-x86_64-with-glibc2.39    x86_64          8   \n",
       "161  Linux-6.11.0-21-generic-x86_64-with-glibc2.39    x86_64          8   \n",
       "174  Linux-6.11.0-21-generic-x86_64-with-glibc2.39    x86_64          8   \n",
       "187  Linux-6.11.0-21-generic-x86_64-with-glibc2.39    x86_64          8   \n",
       "201  Linux-6.11.0-21-generic-x86_64-with-glibc2.39    x86_64          8   \n",
       "\n",
       "     memory_gb  \n",
       "0        16.64  \n",
       "12       16.64  \n",
       "24       16.64  \n",
       "36       16.64  \n",
       "48       16.64  \n",
       "68       16.64  \n",
       "80       16.64  \n",
       "92       16.64  \n",
       "104      16.64  \n",
       "116      16.64  \n",
       "135      16.64  \n",
       "148      16.64  \n",
       "161      16.64  \n",
       "174      16.64  \n",
       "187      16.64  \n",
       "201      16.64  "
      ]
     },
     "metadata": {},
     "output_type": "display_data"
    },
    {
     "data": {
      "application/vnd.plotly.v1+json": {
       "config": {
        "plotlyServerURL": "https://plot.ly"
       },
       "data": [
        {
         "error_y": {
          "array": {
           "bdata": "f48y20sH8D8707+bAmvjPw==",
           "dtype": "f8"
          },
          "color": "#636EFA",
          "thickness": 1.5,
          "type": "data",
          "visible": true,
          "width": 5
         },
         "hovertemplate": "%{text}<extra></extra>",
         "marker": {
          "color": "#636EFA",
          "opacity": 0.7,
          "size": 10
         },
         "mode": "markers",
         "name": "Run time - 0.13.0",
         "showlegend": true,
         "text": [
          "Forecaster: ForecasterAutoregMultiSeries<br>Regressor: LGBMRegressor<br>Function: ForecasterRecursiveMultiSeries_fit_series_is_dict_exog_is_dict<br>Function_hash: 63b606a379874ae9f340ba4fe592d695<br>Datetime: 2025-04-23 15:25:24.855452<br>Python version: 3.12.9<br>skforecast version: 0.13.0<br>numpy version: 2.2.5<br>pandas version: 2.2.3<br>sklearn version: 1.6.1<br>lightgbm version: 4.6.0<br>Platform: Linux-6.11.0-21-generic-x86_64-with-glibc2.39<br>Processor: x86_64<br>CPU count: 8<br>Memory (GB): 16.64<br>",
          "Forecaster: ForecasterAutoregMultiSeries<br>Regressor: LGBMRegressor<br>Function: ForecasterRecursiveMultiSeries_fit_series_is_dict_exog_is_dict<br>Function_hash: 63b606a379874ae9f340ba4fe592d695<br>Datetime: 2025-04-23 15:34:44.825479<br>Python version: 3.12.9<br>skforecast version: 0.13.0<br>numpy version: 2.2.5<br>pandas version: 2.2.3<br>sklearn version: 1.6.1<br>lightgbm version: 4.6.0<br>Platform: Linux-6.11.0-21-generic-x86_64-with-glibc2.39<br>Processor: x86_64<br>CPU count: 8<br>Memory (GB): 16.64<br>"
         ],
         "type": "scatter",
         "x": {
          "bdata": "fByzX9/Fir9AKClBT8iAPw==",
          "dtype": "f8"
         },
         "y": {
          "bdata": "AGRxuAWqKEAAiE+rwRUpQA==",
          "dtype": "f8"
         }
        },
        {
         "error_y": {
          "array": {
           "bdata": "UKCA6ml74j/lTA0VbGLZP44ghTJNW+E/kKxJtqXW0j8=",
           "dtype": "f8"
          },
          "color": "#EF553B",
          "thickness": 1.5,
          "type": "data",
          "visible": true,
          "width": 5
         },
         "hovertemplate": "%{text}<extra></extra>",
         "marker": {
          "color": "#EF553B",
          "opacity": 0.7,
          "size": 10
         },
         "mode": "markers",
         "name": "Run time - 0.14.0",
         "showlegend": true,
         "text": [
          "Forecaster: ForecasterRecursiveMultiSeries<br>Regressor: LGBMRegressor<br>Function: ForecasterRecursiveMultiSeries_fit_series_is_dict_exog_is_dict<br>Function_hash: 63b606a379874ae9f340ba4fe592d695<br>Datetime: 2025-04-23 15:13:23.496449<br>Python version: 3.12.9<br>skforecast version: 0.14.0<br>numpy version: 2.2.5<br>pandas version: 2.2.3<br>sklearn version: 1.6.1<br>lightgbm version: 4.6.0<br>Platform: Linux-6.11.0-21-generic-x86_64-with-glibc2.39<br>Processor: x86_64<br>CPU count: 8<br>Memory (GB): 16.64<br>",
          "Forecaster: ForecasterRecursiveMultiSeries<br>Regressor: LGBMRegressor<br>Function: ForecasterRecursiveMultiSeries_fit_series_is_dict_exog_is_dict<br>Function_hash: 63b606a379874ae9f340ba4fe592d695<br>Datetime: 2025-04-23 15:54:09.384976<br>Python version: 3.12.9<br>skforecast version: 0.14.0<br>numpy version: 2.2.5<br>pandas version: 2.2.3<br>sklearn version: 1.6.1<br>lightgbm version: 4.6.0<br>Platform: Linux-6.11.0-21-generic-x86_64-with-glibc2.39<br>Processor: x86_64<br>CPU count: 8<br>Memory (GB): 16.64<br>",
          "Forecaster: ForecasterRecursiveMultiSeries<br>Regressor: LGBMRegressor<br>Function: ForecasterRecursiveMultiSeries_fit_series_is_dict_exog_is_dict<br>Function_hash: 63b606a379874ae9f340ba4fe592d695<br>Datetime: 2025-04-23 22:10:14.555069<br>Python version: 3.12.9<br>skforecast version: 0.14.0<br>numpy version: 2.2.5<br>pandas version: 2.2.3<br>sklearn version: 1.6.1<br>lightgbm version: 4.6.0<br>Platform: Linux-6.11.0-21-generic-x86_64-with-glibc2.39<br>Processor: x86_64<br>CPU count: 8<br>Memory (GB): 16.64<br>",
          "Forecaster: ForecasterRecursiveMultiSeries<br>Regressor: LGBMRegressor<br>Function: ForecasterRecursiveMultiSeries_fit_series_is_dict_exog_is_dict<br>Function_hash: 63b606a379874ae9f340ba4fe592d695<br>Datetime: 2025-04-23 22:44:55.521977<br>Python version: 3.12.9<br>skforecast version: 0.14.0<br>numpy version: 2.2.5<br>pandas version: 2.2.3<br>sklearn version: 1.6.1<br>lightgbm version: 4.6.0<br>Platform: Linux-6.11.0-21-generic-x86_64-with-glibc2.39<br>Processor: x86_64<br>CPU count: 8<br>Memory (GB): 16.64<br>"
         ],
         "type": "scatter",
         "x": {
          "bdata": "WsufM0wh8D/sid4cvavwP0fPO5Hnwu4/vWqPYB4m7z8=",
          "dtype": "f8"
         },
         "y": {
          "bdata": "AMQtWM9cJkAzyysKhPklQDOTt13ZyypAAIhhAfjIJkA=",
          "dtype": "f8"
         }
        },
        {
         "error_y": {
          "array": {
           "bdata": "EuVjNlgf6T/n2rkGvPfWPxF8ygLOyNk/SMEPwkNL8T+OLWEw+XjkPw==",
           "dtype": "f8"
          },
          "color": "#00CC96",
          "thickness": 1.5,
          "type": "data",
          "visible": true,
          "width": 5
         },
         "hovertemplate": "%{text}<extra></extra>",
         "marker": {
          "color": "#00CC96",
          "opacity": 0.7,
          "size": 10
         },
         "mode": "markers",
         "name": "Run time - 0.15.1",
         "showlegend": true,
         "text": [
          "Forecaster: ForecasterRecursiveMultiSeries<br>Regressor: LGBMRegressor<br>Function: ForecasterRecursiveMultiSeries_fit_series_is_dict_exog_is_dict<br>Function_hash: 63b606a379874ae9f340ba4fe592d695<br>Datetime: 2025-04-23 15:09:20.254703<br>Python version: 3.12.9<br>skforecast version: 0.15.1<br>numpy version: 2.2.5<br>pandas version: 2.2.3<br>sklearn version: 1.6.1<br>lightgbm version: 4.6.0<br>Platform: Linux-6.11.0-21-generic-x86_64-with-glibc2.39<br>Processor: x86_64<br>CPU count: 8<br>Memory (GB): 16.64<br>",
          "Forecaster: ForecasterRecursiveMultiSeries<br>Regressor: LGBMRegressor<br>Function: ForecasterRecursiveMultiSeries_fit_series_is_dict_exog_is_dict<br>Function_hash: 63b606a379874ae9f340ba4fe592d695<br>Datetime: 2025-04-23 15:58:20.920219<br>Python version: 3.12.9<br>skforecast version: 0.15.1<br>numpy version: 2.2.5<br>pandas version: 2.2.3<br>sklearn version: 1.6.1<br>lightgbm version: 4.6.0<br>Platform: Linux-6.11.0-21-generic-x86_64-with-glibc2.39<br>Processor: x86_64<br>CPU count: 8<br>Memory (GB): 16.64<br>",
          "Forecaster: ForecasterRecursiveMultiSeries<br>Regressor: LGBMRegressor<br>Function: ForecasterRecursiveMultiSeries_fit_series_is_dict_exog_is_dict<br>Function_hash: 63b606a379874ae9f340ba4fe592d695<br>Datetime: 2025-04-23 16:02:51.964754<br>Python version: 3.12.9<br>skforecast version: 0.15.1<br>numpy version: 2.2.5<br>pandas version: 2.2.3<br>sklearn version: 1.6.1<br>lightgbm version: 4.6.0<br>Platform: Linux-6.11.0-21-generic-x86_64-with-glibc2.39<br>Processor: x86_64<br>CPU count: 8<br>Memory (GB): 16.64<br>",
          "Forecaster: ForecasterRecursiveMultiSeries<br>Regressor: LGBMRegressor<br>Function: ForecasterRecursiveMultiSeries_fit_series_is_dict_exog_is_dict<br>Function_hash: 63b606a379874ae9f340ba4fe592d695<br>Datetime: 2025-04-23 20:16:08.414338<br>Python version: 3.12.9<br>skforecast version: 0.15.1<br>numpy version: 2.2.5<br>pandas version: 2.2.3<br>sklearn version: 1.6.1<br>lightgbm version: 4.6.0<br>Platform: Linux-6.11.0-21-generic-x86_64-with-glibc2.39<br>Processor: x86_64<br>CPU count: 8<br>Memory (GB): 16.64<br>",
          "Forecaster: ForecasterRecursiveMultiSeries<br>Regressor: LGBMRegressor<br>Function: ForecasterRecursiveMultiSeries_fit_series_is_dict_exog_is_dict<br>Function_hash: 63b606a379874ae9f340ba4fe592d695<br>Datetime: 2025-04-23 21:57:12.603493<br>Python version: 3.12.9<br>skforecast version: 0.15.1<br>numpy version: 2.2.5<br>pandas version: 2.2.3<br>sklearn version: 1.6.1<br>lightgbm version: 4.6.0<br>Platform: Linux-6.11.0-21-generic-x86_64-with-glibc2.39<br>Processor: x86_64<br>CPU count: 8<br>Memory (GB): 16.64<br>"
         ],
         "type": "scatter",
         "x": {
          "bdata": "PJXABdYrAEAE9ARBKzsAQLPaQ8D49/8/3XFGslY0AEC7OdZSiFAAQA==",
          "dtype": "f8"
         },
         "y": {
          "bdata": "Zm6fhMOUKEAAVIqOvYUnQDO7E37+mSdAACDt9ERNKUBmlpBYUOYoQA==",
          "dtype": "f8"
         }
        },
        {
         "error_y": {
          "array": {
           "bdata": "2PgZJj6E2z8+xknl4XbOP4Ia/ebOcdk/x4CjmCVi8T8Pf5fNwojgPw==",
           "dtype": "f8"
          },
          "color": "#AB63FA",
          "thickness": 1.5,
          "type": "data",
          "visible": true,
          "width": 5
         },
         "hovertemplate": "%{text}<extra></extra>",
         "marker": {
          "color": "#AB63FA",
          "opacity": 0.7,
          "size": 10
         },
         "mode": "markers",
         "name": "Run time - 0.16.0",
         "showlegend": true,
         "text": [
          "Forecaster: ForecasterRecursiveMultiSeries<br>Regressor: LGBMRegressor<br>Function: ForecasterRecursiveMultiSeries_fit_series_is_dict_exog_is_dict<br>Function_hash: 63b606a379874ae9f340ba4fe592d695<br>Datetime: 2025-04-23 15:03:26.238942<br>Python version: 3.12.9<br>skforecast version: 0.16.0<br>numpy version: 2.2.5<br>pandas version: 2.2.3<br>sklearn version: 1.6.1<br>lightgbm version: 4.6.0<br>Platform: Linux-6.11.0-21-generic-x86_64-with-glibc2.39<br>Processor: x86_64<br>CPU count: 8<br>Memory (GB): 16.64<br>",
          "Forecaster: ForecasterRecursiveMultiSeries<br>Regressor: LGBMRegressor<br>Function: ForecasterRecursiveMultiSeries_fit_series_is_dict_exog_is_dict<br>Function_hash: 63b606a379874ae9f340ba4fe592d695<br>Datetime: 2025-04-23 16:06:12.882601<br>Python version: 3.12.9<br>skforecast version: 0.16.0<br>numpy version: 2.2.5<br>pandas version: 2.2.3<br>sklearn version: 1.6.1<br>lightgbm version: 4.6.0<br>Platform: Linux-6.11.0-21-generic-x86_64-with-glibc2.39<br>Processor: x86_64<br>CPU count: 8<br>Memory (GB): 16.64<br>",
          "Forecaster: ForecasterRecursiveMultiSeries<br>Regressor: LGBMRegressor<br>Function: ForecasterRecursiveMultiSeries_fit_series_is_dict_exog_is_dict<br>Function_hash: 63b606a379874ae9f340ba4fe592d695<br>Datetime: 2025-04-23 16:09:47.625542<br>Python version: 3.12.9<br>skforecast version: 0.16.0<br>numpy version: 2.2.5<br>pandas version: 2.2.3<br>sklearn version: 1.6.1<br>lightgbm version: 4.6.0<br>Platform: Linux-6.11.0-21-generic-x86_64-with-glibc2.39<br>Processor: x86_64<br>CPU count: 8<br>Memory (GB): 16.64<br>",
          "Forecaster: ForecasterRecursiveMultiSeries<br>Regressor: LGBMRegressor<br>Function: ForecasterRecursiveMultiSeries_fit_series_is_dict_exog_is_dict<br>Function_hash: 63b606a379874ae9f340ba4fe592d695<br>Datetime: 2025-04-23 20:10:32.022664<br>Python version: 3.12.9<br>skforecast version: 0.16.0<br>numpy version: 2.2.5<br>pandas version: 2.2.3<br>sklearn version: 1.6.1<br>lightgbm version: 4.6.0<br>Platform: Linux-6.11.0-21-generic-x86_64-with-glibc2.39<br>Processor: x86_64<br>CPU count: 8<br>Memory (GB): 16.64<br>",
          "Forecaster: ForecasterRecursiveMultiSeries<br>Regressor: LGBMRegressor<br>Function: ForecasterRecursiveMultiSeries_fit_series_is_dict_exog_is_dict<br>Function_hash: 63b606a379874ae9f340ba4fe592d695<br>Datetime: 2025-04-23 22:53:29.202705<br>Python version: 3.12.9<br>skforecast version: 0.16.0<br>numpy version: 2.2.5<br>pandas version: 2.2.3<br>sklearn version: 1.6.1<br>lightgbm version: 4.6.0<br>Platform: Linux-6.11.0-21-generic-x86_64-with-glibc2.39<br>Processor: x86_64<br>CPU count: 8<br>Memory (GB): 16.64<br>"
         ],
         "type": "scatter",
         "x": {
          "bdata": "wFSMOCUtCED06Y867kEIQDttXEnoOghAKuMOOLRDCEBC7DYQsQgIQA==",
          "dtype": "f8"
         },
         "y": {
          "bdata": "ZnbT0VyWKEDNpDz6LG8nQJpl35PSoCZAml26fP32KkAA6JLm4qopQA==",
          "dtype": "f8"
         }
        },
        {
         "line": {
          "color": "black",
          "width": 2
         },
         "marker": {
          "color": "black",
          "size": 8
         },
         "mode": "lines+markers",
         "name": "Median (per version)",
         "type": "scatter",
         "x": {
          "bdata": "AAECAw==",
          "dtype": "i1"
         },
         "y": {
          "bdata": "AHbgsePfKEAApses45ImQGZun4TDlChAZnbT0VyWKEA=",
          "dtype": "f8"
         }
        }
       ],
       "layout": {
        "showlegend": true,
        "template": {
         "data": {
          "bar": [
           {
            "error_x": {
             "color": "#2a3f5f"
            },
            "error_y": {
             "color": "#2a3f5f"
            },
            "marker": {
             "line": {
              "color": "#E5ECF6",
              "width": 0.5
             },
             "pattern": {
              "fillmode": "overlay",
              "size": 10,
              "solidity": 0.2
             }
            },
            "type": "bar"
           }
          ],
          "barpolar": [
           {
            "marker": {
             "line": {
              "color": "#E5ECF6",
              "width": 0.5
             },
             "pattern": {
              "fillmode": "overlay",
              "size": 10,
              "solidity": 0.2
             }
            },
            "type": "barpolar"
           }
          ],
          "carpet": [
           {
            "aaxis": {
             "endlinecolor": "#2a3f5f",
             "gridcolor": "white",
             "linecolor": "white",
             "minorgridcolor": "white",
             "startlinecolor": "#2a3f5f"
            },
            "baxis": {
             "endlinecolor": "#2a3f5f",
             "gridcolor": "white",
             "linecolor": "white",
             "minorgridcolor": "white",
             "startlinecolor": "#2a3f5f"
            },
            "type": "carpet"
           }
          ],
          "choropleth": [
           {
            "colorbar": {
             "outlinewidth": 0,
             "ticks": ""
            },
            "type": "choropleth"
           }
          ],
          "contour": [
           {
            "colorbar": {
             "outlinewidth": 0,
             "ticks": ""
            },
            "colorscale": [
             [
              0,
              "#0d0887"
             ],
             [
              0.1111111111111111,
              "#46039f"
             ],
             [
              0.2222222222222222,
              "#7201a8"
             ],
             [
              0.3333333333333333,
              "#9c179e"
             ],
             [
              0.4444444444444444,
              "#bd3786"
             ],
             [
              0.5555555555555556,
              "#d8576b"
             ],
             [
              0.6666666666666666,
              "#ed7953"
             ],
             [
              0.7777777777777778,
              "#fb9f3a"
             ],
             [
              0.8888888888888888,
              "#fdca26"
             ],
             [
              1,
              "#f0f921"
             ]
            ],
            "type": "contour"
           }
          ],
          "contourcarpet": [
           {
            "colorbar": {
             "outlinewidth": 0,
             "ticks": ""
            },
            "type": "contourcarpet"
           }
          ],
          "heatmap": [
           {
            "colorbar": {
             "outlinewidth": 0,
             "ticks": ""
            },
            "colorscale": [
             [
              0,
              "#0d0887"
             ],
             [
              0.1111111111111111,
              "#46039f"
             ],
             [
              0.2222222222222222,
              "#7201a8"
             ],
             [
              0.3333333333333333,
              "#9c179e"
             ],
             [
              0.4444444444444444,
              "#bd3786"
             ],
             [
              0.5555555555555556,
              "#d8576b"
             ],
             [
              0.6666666666666666,
              "#ed7953"
             ],
             [
              0.7777777777777778,
              "#fb9f3a"
             ],
             [
              0.8888888888888888,
              "#fdca26"
             ],
             [
              1,
              "#f0f921"
             ]
            ],
            "type": "heatmap"
           }
          ],
          "histogram": [
           {
            "marker": {
             "pattern": {
              "fillmode": "overlay",
              "size": 10,
              "solidity": 0.2
             }
            },
            "type": "histogram"
           }
          ],
          "histogram2d": [
           {
            "colorbar": {
             "outlinewidth": 0,
             "ticks": ""
            },
            "colorscale": [
             [
              0,
              "#0d0887"
             ],
             [
              0.1111111111111111,
              "#46039f"
             ],
             [
              0.2222222222222222,
              "#7201a8"
             ],
             [
              0.3333333333333333,
              "#9c179e"
             ],
             [
              0.4444444444444444,
              "#bd3786"
             ],
             [
              0.5555555555555556,
              "#d8576b"
             ],
             [
              0.6666666666666666,
              "#ed7953"
             ],
             [
              0.7777777777777778,
              "#fb9f3a"
             ],
             [
              0.8888888888888888,
              "#fdca26"
             ],
             [
              1,
              "#f0f921"
             ]
            ],
            "type": "histogram2d"
           }
          ],
          "histogram2dcontour": [
           {
            "colorbar": {
             "outlinewidth": 0,
             "ticks": ""
            },
            "colorscale": [
             [
              0,
              "#0d0887"
             ],
             [
              0.1111111111111111,
              "#46039f"
             ],
             [
              0.2222222222222222,
              "#7201a8"
             ],
             [
              0.3333333333333333,
              "#9c179e"
             ],
             [
              0.4444444444444444,
              "#bd3786"
             ],
             [
              0.5555555555555556,
              "#d8576b"
             ],
             [
              0.6666666666666666,
              "#ed7953"
             ],
             [
              0.7777777777777778,
              "#fb9f3a"
             ],
             [
              0.8888888888888888,
              "#fdca26"
             ],
             [
              1,
              "#f0f921"
             ]
            ],
            "type": "histogram2dcontour"
           }
          ],
          "mesh3d": [
           {
            "colorbar": {
             "outlinewidth": 0,
             "ticks": ""
            },
            "type": "mesh3d"
           }
          ],
          "parcoords": [
           {
            "line": {
             "colorbar": {
              "outlinewidth": 0,
              "ticks": ""
             }
            },
            "type": "parcoords"
           }
          ],
          "pie": [
           {
            "automargin": true,
            "type": "pie"
           }
          ],
          "scatter": [
           {
            "fillpattern": {
             "fillmode": "overlay",
             "size": 10,
             "solidity": 0.2
            },
            "type": "scatter"
           }
          ],
          "scatter3d": [
           {
            "line": {
             "colorbar": {
              "outlinewidth": 0,
              "ticks": ""
             }
            },
            "marker": {
             "colorbar": {
              "outlinewidth": 0,
              "ticks": ""
             }
            },
            "type": "scatter3d"
           }
          ],
          "scattercarpet": [
           {
            "marker": {
             "colorbar": {
              "outlinewidth": 0,
              "ticks": ""
             }
            },
            "type": "scattercarpet"
           }
          ],
          "scattergeo": [
           {
            "marker": {
             "colorbar": {
              "outlinewidth": 0,
              "ticks": ""
             }
            },
            "type": "scattergeo"
           }
          ],
          "scattergl": [
           {
            "marker": {
             "colorbar": {
              "outlinewidth": 0,
              "ticks": ""
             }
            },
            "type": "scattergl"
           }
          ],
          "scattermap": [
           {
            "marker": {
             "colorbar": {
              "outlinewidth": 0,
              "ticks": ""
             }
            },
            "type": "scattermap"
           }
          ],
          "scattermapbox": [
           {
            "marker": {
             "colorbar": {
              "outlinewidth": 0,
              "ticks": ""
             }
            },
            "type": "scattermapbox"
           }
          ],
          "scatterpolar": [
           {
            "marker": {
             "colorbar": {
              "outlinewidth": 0,
              "ticks": ""
             }
            },
            "type": "scatterpolar"
           }
          ],
          "scatterpolargl": [
           {
            "marker": {
             "colorbar": {
              "outlinewidth": 0,
              "ticks": ""
             }
            },
            "type": "scatterpolargl"
           }
          ],
          "scatterternary": [
           {
            "marker": {
             "colorbar": {
              "outlinewidth": 0,
              "ticks": ""
             }
            },
            "type": "scatterternary"
           }
          ],
          "surface": [
           {
            "colorbar": {
             "outlinewidth": 0,
             "ticks": ""
            },
            "colorscale": [
             [
              0,
              "#0d0887"
             ],
             [
              0.1111111111111111,
              "#46039f"
             ],
             [
              0.2222222222222222,
              "#7201a8"
             ],
             [
              0.3333333333333333,
              "#9c179e"
             ],
             [
              0.4444444444444444,
              "#bd3786"
             ],
             [
              0.5555555555555556,
              "#d8576b"
             ],
             [
              0.6666666666666666,
              "#ed7953"
             ],
             [
              0.7777777777777778,
              "#fb9f3a"
             ],
             [
              0.8888888888888888,
              "#fdca26"
             ],
             [
              1,
              "#f0f921"
             ]
            ],
            "type": "surface"
           }
          ],
          "table": [
           {
            "cells": {
             "fill": {
              "color": "#EBF0F8"
             },
             "line": {
              "color": "white"
             }
            },
            "header": {
             "fill": {
              "color": "#C8D4E3"
             },
             "line": {
              "color": "white"
             }
            },
            "type": "table"
           }
          ]
         },
         "layout": {
          "annotationdefaults": {
           "arrowcolor": "#2a3f5f",
           "arrowhead": 0,
           "arrowwidth": 1
          },
          "autotypenumbers": "strict",
          "coloraxis": {
           "colorbar": {
            "outlinewidth": 0,
            "ticks": ""
           }
          },
          "colorscale": {
           "diverging": [
            [
             0,
             "#8e0152"
            ],
            [
             0.1,
             "#c51b7d"
            ],
            [
             0.2,
             "#de77ae"
            ],
            [
             0.3,
             "#f1b6da"
            ],
            [
             0.4,
             "#fde0ef"
            ],
            [
             0.5,
             "#f7f7f7"
            ],
            [
             0.6,
             "#e6f5d0"
            ],
            [
             0.7,
             "#b8e186"
            ],
            [
             0.8,
             "#7fbc41"
            ],
            [
             0.9,
             "#4d9221"
            ],
            [
             1,
             "#276419"
            ]
           ],
           "sequential": [
            [
             0,
             "#0d0887"
            ],
            [
             0.1111111111111111,
             "#46039f"
            ],
            [
             0.2222222222222222,
             "#7201a8"
            ],
            [
             0.3333333333333333,
             "#9c179e"
            ],
            [
             0.4444444444444444,
             "#bd3786"
            ],
            [
             0.5555555555555556,
             "#d8576b"
            ],
            [
             0.6666666666666666,
             "#ed7953"
            ],
            [
             0.7777777777777778,
             "#fb9f3a"
            ],
            [
             0.8888888888888888,
             "#fdca26"
            ],
            [
             1,
             "#f0f921"
            ]
           ],
           "sequentialminus": [
            [
             0,
             "#0d0887"
            ],
            [
             0.1111111111111111,
             "#46039f"
            ],
            [
             0.2222222222222222,
             "#7201a8"
            ],
            [
             0.3333333333333333,
             "#9c179e"
            ],
            [
             0.4444444444444444,
             "#bd3786"
            ],
            [
             0.5555555555555556,
             "#d8576b"
            ],
            [
             0.6666666666666666,
             "#ed7953"
            ],
            [
             0.7777777777777778,
             "#fb9f3a"
            ],
            [
             0.8888888888888888,
             "#fdca26"
            ],
            [
             1,
             "#f0f921"
            ]
           ]
          },
          "colorway": [
           "#636efa",
           "#EF553B",
           "#00cc96",
           "#ab63fa",
           "#FFA15A",
           "#19d3f3",
           "#FF6692",
           "#B6E880",
           "#FF97FF",
           "#FECB52"
          ],
          "font": {
           "color": "#2a3f5f"
          },
          "geo": {
           "bgcolor": "white",
           "lakecolor": "white",
           "landcolor": "#E5ECF6",
           "showlakes": true,
           "showland": true,
           "subunitcolor": "white"
          },
          "hoverlabel": {
           "align": "left"
          },
          "hovermode": "closest",
          "mapbox": {
           "style": "light"
          },
          "paper_bgcolor": "white",
          "plot_bgcolor": "#E5ECF6",
          "polar": {
           "angularaxis": {
            "gridcolor": "white",
            "linecolor": "white",
            "ticks": ""
           },
           "bgcolor": "#E5ECF6",
           "radialaxis": {
            "gridcolor": "white",
            "linecolor": "white",
            "ticks": ""
           }
          },
          "scene": {
           "xaxis": {
            "backgroundcolor": "#E5ECF6",
            "gridcolor": "white",
            "gridwidth": 2,
            "linecolor": "white",
            "showbackground": true,
            "ticks": "",
            "zerolinecolor": "white"
           },
           "yaxis": {
            "backgroundcolor": "#E5ECF6",
            "gridcolor": "white",
            "gridwidth": 2,
            "linecolor": "white",
            "showbackground": true,
            "ticks": "",
            "zerolinecolor": "white"
           },
           "zaxis": {
            "backgroundcolor": "#E5ECF6",
            "gridcolor": "white",
            "gridwidth": 2,
            "linecolor": "white",
            "showbackground": true,
            "ticks": "",
            "zerolinecolor": "white"
           }
          },
          "shapedefaults": {
           "line": {
            "color": "#2a3f5f"
           }
          },
          "ternary": {
           "aaxis": {
            "gridcolor": "white",
            "linecolor": "white",
            "ticks": ""
           },
           "baxis": {
            "gridcolor": "white",
            "linecolor": "white",
            "ticks": ""
           },
           "bgcolor": "#E5ECF6",
           "caxis": {
            "gridcolor": "white",
            "linecolor": "white",
            "ticks": ""
           }
          },
          "title": {
           "x": 0.05
          },
          "xaxis": {
           "automargin": true,
           "gridcolor": "white",
           "linecolor": "white",
           "ticks": "",
           "title": {
            "standoff": 15
           },
           "zerolinecolor": "white",
           "zerolinewidth": 2
          },
          "yaxis": {
           "automargin": true,
           "gridcolor": "white",
           "linecolor": "white",
           "ticks": "",
           "title": {
            "standoff": 15
           },
           "zerolinecolor": "white",
           "zerolinewidth": 2
          }
         }
        },
        "title": {
         "text": "Execution time of ForecasterRecursiveMultiSeries_fit_series_is_dict_exog_is_dict"
        },
        "xaxis": {
         "tickangle": -45,
         "tickmode": "array",
         "ticktext": [
          "0.13.0",
          "0.14.0",
          "0.15.1",
          "0.16.0"
         ],
         "tickvals": [
          0,
          1,
          2,
          3
         ],
         "title": {
          "text": "skforecast version"
         }
        },
        "yaxis": {
         "title": {
          "text": "Execution time (seconds)"
         }
        }
       }
      }
     },
     "metadata": {},
     "output_type": "display_data"
    },
    {
     "data": {
      "application/vnd.microsoft.datawrangler.viewer.v0+json": {
       "columns": [
        {
         "name": "index",
         "rawType": "int64",
         "type": "integer"
        },
        {
         "name": "forecaster_name",
         "rawType": "object",
         "type": "string"
        },
        {
         "name": "regressor_name",
         "rawType": "object",
         "type": "string"
        },
        {
         "name": "function_name",
         "rawType": "object",
         "type": "string"
        },
        {
         "name": "function_hash",
         "rawType": "object",
         "type": "string"
        },
        {
         "name": "run_time_avg",
         "rawType": "float64",
         "type": "float"
        },
        {
         "name": "run_time_std_dev",
         "rawType": "float64",
         "type": "float"
        },
        {
         "name": "datetime",
         "rawType": "datetime64[ns]",
         "type": "datetime"
        },
        {
         "name": "python_version",
         "rawType": "object",
         "type": "string"
        },
        {
         "name": "skforecast_version",
         "rawType": "object",
         "type": "string"
        },
        {
         "name": "numpy_version",
         "rawType": "object",
         "type": "string"
        },
        {
         "name": "pandas_version",
         "rawType": "object",
         "type": "string"
        },
        {
         "name": "sklearn_version",
         "rawType": "object",
         "type": "string"
        },
        {
         "name": "lightgbm_version",
         "rawType": "object",
         "type": "string"
        },
        {
         "name": "platform",
         "rawType": "object",
         "type": "string"
        },
        {
         "name": "processor",
         "rawType": "object",
         "type": "string"
        },
        {
         "name": "cpu_count",
         "rawType": "int64",
         "type": "integer"
        },
        {
         "name": "memory_gb",
         "rawType": "float64",
         "type": "float"
        }
       ],
       "conversionMethod": "pd.DataFrame",
       "ref": "f6032ddb-1446-4e54-bd42-dee146bfc321",
       "rows": [
        [
         "1",
         "ForecasterRecursiveMultiSeries",
         "LGBMRegressor",
         "ForecasterRecursiveMultiSeries__create_train_X_y_series_is_dict_exog_is_dict",
         "583e7d25f58c2314c85ab6c385d879cc",
         "1.5946391678000509",
         "0.06103302779695143",
         "2025-04-23 15:04:27.710376",
         "3.12.9",
         "0.16.0",
         "2.2.5",
         "2.2.3",
         "1.6.1",
         "4.6.0",
         "Linux-6.11.0-21-generic-x86_64-with-glibc2.39",
         "x86_64",
         "8",
         "16.64"
        ],
        [
         "13",
         "ForecasterRecursiveMultiSeries",
         "LGBMRegressor",
         "ForecasterRecursiveMultiSeries__create_train_X_y_series_is_dict_exog_is_dict",
         "583e7d25f58c2314c85ab6c385d879cc",
         "1.7306566251998448",
         "0.036684070156538094",
         "2025-04-23 15:10:21.711978",
         "3.12.9",
         "0.15.1",
         "2.2.5",
         "2.2.3",
         "1.6.1",
         "4.6.0",
         "Linux-6.11.0-21-generic-x86_64-with-glibc2.39",
         "x86_64",
         "8",
         "16.64"
        ],
        [
         "25",
         "ForecasterRecursiveMultiSeries",
         "LGBMRegressor",
         "ForecasterRecursiveMultiSeries__create_train_X_y_series_is_dict_exog_is_dict",
         "583e7d25f58c2314c85ab6c385d879cc",
         "2.008426124399557",
         "0.02079403046185465",
         "2025-04-23 15:14:19.407835",
         "3.12.9",
         "0.14.0",
         "2.2.5",
         "2.2.3",
         "1.6.1",
         "4.6.0",
         "Linux-6.11.0-21-generic-x86_64-with-glibc2.39",
         "x86_64",
         "8",
         "16.64"
        ],
        [
         "37",
         "ForecasterAutoregMultiSeries",
         "LGBMRegressor",
         "ForecasterRecursiveMultiSeries__create_train_X_y_series_is_dict_exog_is_dict",
         "583e7d25f58c2314c85ab6c385d879cc",
         "2.6241741919999186",
         "0.09088644884957763",
         "2025-04-23 15:26:26.520388",
         "3.12.9",
         "0.13.0",
         "2.2.5",
         "2.2.3",
         "1.6.1",
         "4.6.0",
         "Linux-6.11.0-21-generic-x86_64-with-glibc2.39",
         "x86_64",
         "8",
         "16.64"
        ],
        [
         "49",
         "ForecasterAutoregMultiSeries",
         "LGBMRegressor",
         "ForecasterRecursiveMultiSeries__create_train_X_y_series_is_dict_exog_is_dict",
         "583e7d25f58c2314c85ab6c385d879cc",
         "2.6033221667999897",
         "0.04657701323581428",
         "2025-04-23 15:35:47.542332",
         "3.12.9",
         "0.13.0",
         "2.2.5",
         "2.2.3",
         "1.6.1",
         "4.6.0",
         "Linux-6.11.0-21-generic-x86_64-with-glibc2.39",
         "x86_64",
         "8",
         "16.64"
        ],
        [
         "69",
         "ForecasterRecursiveMultiSeries",
         "LGBMRegressor",
         "ForecasterRecursiveMultiSeries__create_train_X_y_series_is_dict_exog_is_dict",
         "583e7d25f58c2314c85ab6c385d879cc",
         "1.9982989898002415",
         "0.02094229999281321",
         "2025-04-23 15:55:04.326742",
         "3.12.9",
         "0.14.0",
         "2.2.5",
         "2.2.3",
         "1.6.1",
         "4.6.0",
         "Linux-6.11.0-21-generic-x86_64-with-glibc2.39",
         "x86_64",
         "8",
         "16.64"
        ],
        [
         "81",
         "ForecasterRecursiveMultiSeries",
         "LGBMRegressor",
         "ForecasterRecursiveMultiSeries__create_train_X_y_series_is_dict_exog_is_dict",
         "583e7d25f58c2314c85ab6c385d879cc",
         "1.7602192121994449",
         "0.02948646600599851",
         "2025-04-23 15:59:19.730993",
         "3.12.9",
         "0.15.1",
         "2.2.5",
         "2.2.3",
         "1.6.1",
         "4.6.0",
         "Linux-6.11.0-21-generic-x86_64-with-glibc2.39",
         "x86_64",
         "8",
         "16.64"
        ],
        [
         "93",
         "ForecasterRecursiveMultiSeries",
         "LGBMRegressor",
         "ForecasterRecursiveMultiSeries__create_train_X_y_series_is_dict_exog_is_dict",
         "583e7d25f58c2314c85ab6c385d879cc",
         "1.7084506073995727",
         "0.04963890895946428",
         "2025-04-23 16:03:50.974931",
         "3.12.9",
         "0.15.1",
         "2.2.5",
         "2.2.3",
         "1.6.1",
         "4.6.0",
         "Linux-6.11.0-21-generic-x86_64-with-glibc2.39",
         "x86_64",
         "8",
         "16.64"
        ],
        [
         "105",
         "ForecasterRecursiveMultiSeries",
         "LGBMRegressor",
         "ForecasterRecursiveMultiSeries__create_train_X_y_series_is_dict_exog_is_dict",
         "583e7d25f58c2314c85ab6c385d879cc",
         "1.5609714896003424",
         "0.05741692500895642",
         "2025-04-23 16:07:11.473435",
         "3.12.9",
         "0.16.0",
         "2.2.5",
         "2.2.3",
         "1.6.1",
         "4.6.0",
         "Linux-6.11.0-21-generic-x86_64-with-glibc2.39",
         "x86_64",
         "8",
         "16.64"
        ],
        [
         "117",
         "ForecasterRecursiveMultiSeries",
         "LGBMRegressor",
         "ForecasterRecursiveMultiSeries__create_train_X_y_series_is_dict_exog_is_dict",
         "583e7d25f58c2314c85ab6c385d879cc",
         "1.5341633274001651",
         "0.04095083141705994",
         "2025-04-23 16:10:44.200979",
         "3.12.9",
         "0.16.0",
         "2.2.5",
         "2.2.3",
         "1.6.1",
         "4.6.0",
         "Linux-6.11.0-21-generic-x86_64-with-glibc2.39",
         "x86_64",
         "8",
         "16.64"
        ],
        [
         "136",
         "ForecasterRecursiveMultiSeries",
         "LGBMRegressor",
         "ForecasterRecursiveMultiSeries__create_train_X_y_series_is_dict_exog_is_dict",
         "583e7d25f58c2314c85ab6c385d879cc",
         "1.8116754294002022",
         "0.13114868888123823",
         "2025-04-23 20:11:39.440528",
         "3.12.9",
         "0.16.0",
         "2.2.5",
         "2.2.3",
         "1.6.1",
         "4.6.0",
         "Linux-6.11.0-21-generic-x86_64-with-glibc2.39",
         "x86_64",
         "8",
         "16.64"
        ],
        [
         "149",
         "ForecasterRecursiveMultiSeries",
         "LGBMRegressor",
         "ForecasterRecursiveMultiSeries__create_train_X_y_series_is_dict_exog_is_dict",
         "583e7d25f58c2314c85ab6c385d879cc",
         "1.7781436206001673",
         "0.05662151038741987",
         "2025-04-23 20:17:11.673544",
         "3.12.9",
         "0.15.1",
         "2.2.5",
         "2.2.3",
         "1.6.1",
         "4.6.0",
         "Linux-6.11.0-21-generic-x86_64-with-glibc2.39",
         "x86_64",
         "8",
         "16.64"
        ],
        [
         "162",
         "ForecasterRecursiveMultiSeries",
         "LGBMRegressor",
         "ForecasterRecursiveMultiSeries__create_train_X_y_series_is_dict_exog_is_dict",
         "583e7d25f58c2314c85ab6c385d879cc",
         "1.6784152136002377",
         "0.03609718504783293",
         "2025-04-23 21:58:14.858324",
         "3.12.9",
         "0.15.1",
         "2.2.5",
         "2.2.3",
         "1.6.1",
         "4.6.0",
         "Linux-6.11.0-21-generic-x86_64-with-glibc2.39",
         "x86_64",
         "8",
         "16.64"
        ],
        [
         "175",
         "ForecasterRecursiveMultiSeries",
         "LGBMRegressor",
         "ForecasterRecursiveMultiSeries__create_train_X_y_series_is_dict_exog_is_dict",
         "583e7d25f58c2314c85ab6c385d879cc",
         "2.3506892417994094",
         "0.14601959721972246",
         "2025-04-23 22:11:21.550881",
         "3.12.9",
         "0.14.0",
         "2.2.5",
         "2.2.3",
         "1.6.1",
         "4.6.0",
         "Linux-6.11.0-21-generic-x86_64-with-glibc2.39",
         "x86_64",
         "8",
         "16.64"
        ],
        [
         "188",
         "ForecasterRecursiveMultiSeries",
         "LGBMRegressor",
         "ForecasterRecursiveMultiSeries__create_train_X_y_series_is_dict_exog_is_dict",
         "583e7d25f58c2314c85ab6c385d879cc",
         "2.0067394696008707",
         "0.027936857531872753",
         "2025-04-23 22:45:52.489951",
         "3.12.9",
         "0.14.0",
         "2.2.5",
         "2.2.3",
         "1.6.1",
         "4.6.0",
         "Linux-6.11.0-21-generic-x86_64-with-glibc2.39",
         "x86_64",
         "8",
         "16.64"
        ],
        [
         "202",
         "ForecasterRecursiveMultiSeries",
         "LGBMRegressor",
         "ForecasterRecursiveMultiSeries__create_train_X_y_series_is_dict_exog_is_dict",
         "583e7d25f58c2314c85ab6c385d879cc",
         "1.6079512718009936",
         "0.07383929867563604",
         "2025-04-23 22:54:33.378292",
         "3.12.9",
         "0.16.0",
         "2.2.5",
         "2.2.3",
         "1.6.1",
         "4.6.0",
         "Linux-6.11.0-21-generic-x86_64-with-glibc2.39",
         "x86_64",
         "8",
         "16.64"
        ]
       ],
       "shape": {
        "columns": 17,
        "rows": 16
       }
      },
      "text/html": [
       "<div>\n",
       "<style scoped>\n",
       "    .dataframe tbody tr th:only-of-type {\n",
       "        vertical-align: middle;\n",
       "    }\n",
       "\n",
       "    .dataframe tbody tr th {\n",
       "        vertical-align: top;\n",
       "    }\n",
       "\n",
       "    .dataframe thead th {\n",
       "        text-align: right;\n",
       "    }\n",
       "</style>\n",
       "<table border=\"1\" class=\"dataframe\">\n",
       "  <thead>\n",
       "    <tr style=\"text-align: right;\">\n",
       "      <th></th>\n",
       "      <th>forecaster_name</th>\n",
       "      <th>regressor_name</th>\n",
       "      <th>function_name</th>\n",
       "      <th>function_hash</th>\n",
       "      <th>run_time_avg</th>\n",
       "      <th>run_time_std_dev</th>\n",
       "      <th>datetime</th>\n",
       "      <th>python_version</th>\n",
       "      <th>skforecast_version</th>\n",
       "      <th>numpy_version</th>\n",
       "      <th>pandas_version</th>\n",
       "      <th>sklearn_version</th>\n",
       "      <th>lightgbm_version</th>\n",
       "      <th>platform</th>\n",
       "      <th>processor</th>\n",
       "      <th>cpu_count</th>\n",
       "      <th>memory_gb</th>\n",
       "    </tr>\n",
       "  </thead>\n",
       "  <tbody>\n",
       "    <tr>\n",
       "      <th>1</th>\n",
       "      <td>ForecasterRecursiveMultiSeries</td>\n",
       "      <td>LGBMRegressor</td>\n",
       "      <td>ForecasterRecursiveMultiSeries__create_train_X...</td>\n",
       "      <td>583e7d25f58c2314c85ab6c385d879cc</td>\n",
       "      <td>1.594639</td>\n",
       "      <td>0.061033</td>\n",
       "      <td>2025-04-23 15:04:27.710376</td>\n",
       "      <td>3.12.9</td>\n",
       "      <td>0.16.0</td>\n",
       "      <td>2.2.5</td>\n",
       "      <td>2.2.3</td>\n",
       "      <td>1.6.1</td>\n",
       "      <td>4.6.0</td>\n",
       "      <td>Linux-6.11.0-21-generic-x86_64-with-glibc2.39</td>\n",
       "      <td>x86_64</td>\n",
       "      <td>8</td>\n",
       "      <td>16.64</td>\n",
       "    </tr>\n",
       "    <tr>\n",
       "      <th>13</th>\n",
       "      <td>ForecasterRecursiveMultiSeries</td>\n",
       "      <td>LGBMRegressor</td>\n",
       "      <td>ForecasterRecursiveMultiSeries__create_train_X...</td>\n",
       "      <td>583e7d25f58c2314c85ab6c385d879cc</td>\n",
       "      <td>1.730657</td>\n",
       "      <td>0.036684</td>\n",
       "      <td>2025-04-23 15:10:21.711978</td>\n",
       "      <td>3.12.9</td>\n",
       "      <td>0.15.1</td>\n",
       "      <td>2.2.5</td>\n",
       "      <td>2.2.3</td>\n",
       "      <td>1.6.1</td>\n",
       "      <td>4.6.0</td>\n",
       "      <td>Linux-6.11.0-21-generic-x86_64-with-glibc2.39</td>\n",
       "      <td>x86_64</td>\n",
       "      <td>8</td>\n",
       "      <td>16.64</td>\n",
       "    </tr>\n",
       "    <tr>\n",
       "      <th>25</th>\n",
       "      <td>ForecasterRecursiveMultiSeries</td>\n",
       "      <td>LGBMRegressor</td>\n",
       "      <td>ForecasterRecursiveMultiSeries__create_train_X...</td>\n",
       "      <td>583e7d25f58c2314c85ab6c385d879cc</td>\n",
       "      <td>2.008426</td>\n",
       "      <td>0.020794</td>\n",
       "      <td>2025-04-23 15:14:19.407835</td>\n",
       "      <td>3.12.9</td>\n",
       "      <td>0.14.0</td>\n",
       "      <td>2.2.5</td>\n",
       "      <td>2.2.3</td>\n",
       "      <td>1.6.1</td>\n",
       "      <td>4.6.0</td>\n",
       "      <td>Linux-6.11.0-21-generic-x86_64-with-glibc2.39</td>\n",
       "      <td>x86_64</td>\n",
       "      <td>8</td>\n",
       "      <td>16.64</td>\n",
       "    </tr>\n",
       "    <tr>\n",
       "      <th>37</th>\n",
       "      <td>ForecasterAutoregMultiSeries</td>\n",
       "      <td>LGBMRegressor</td>\n",
       "      <td>ForecasterRecursiveMultiSeries__create_train_X...</td>\n",
       "      <td>583e7d25f58c2314c85ab6c385d879cc</td>\n",
       "      <td>2.624174</td>\n",
       "      <td>0.090886</td>\n",
       "      <td>2025-04-23 15:26:26.520388</td>\n",
       "      <td>3.12.9</td>\n",
       "      <td>0.13.0</td>\n",
       "      <td>2.2.5</td>\n",
       "      <td>2.2.3</td>\n",
       "      <td>1.6.1</td>\n",
       "      <td>4.6.0</td>\n",
       "      <td>Linux-6.11.0-21-generic-x86_64-with-glibc2.39</td>\n",
       "      <td>x86_64</td>\n",
       "      <td>8</td>\n",
       "      <td>16.64</td>\n",
       "    </tr>\n",
       "    <tr>\n",
       "      <th>49</th>\n",
       "      <td>ForecasterAutoregMultiSeries</td>\n",
       "      <td>LGBMRegressor</td>\n",
       "      <td>ForecasterRecursiveMultiSeries__create_train_X...</td>\n",
       "      <td>583e7d25f58c2314c85ab6c385d879cc</td>\n",
       "      <td>2.603322</td>\n",
       "      <td>0.046577</td>\n",
       "      <td>2025-04-23 15:35:47.542332</td>\n",
       "      <td>3.12.9</td>\n",
       "      <td>0.13.0</td>\n",
       "      <td>2.2.5</td>\n",
       "      <td>2.2.3</td>\n",
       "      <td>1.6.1</td>\n",
       "      <td>4.6.0</td>\n",
       "      <td>Linux-6.11.0-21-generic-x86_64-with-glibc2.39</td>\n",
       "      <td>x86_64</td>\n",
       "      <td>8</td>\n",
       "      <td>16.64</td>\n",
       "    </tr>\n",
       "    <tr>\n",
       "      <th>69</th>\n",
       "      <td>ForecasterRecursiveMultiSeries</td>\n",
       "      <td>LGBMRegressor</td>\n",
       "      <td>ForecasterRecursiveMultiSeries__create_train_X...</td>\n",
       "      <td>583e7d25f58c2314c85ab6c385d879cc</td>\n",
       "      <td>1.998299</td>\n",
       "      <td>0.020942</td>\n",
       "      <td>2025-04-23 15:55:04.326742</td>\n",
       "      <td>3.12.9</td>\n",
       "      <td>0.14.0</td>\n",
       "      <td>2.2.5</td>\n",
       "      <td>2.2.3</td>\n",
       "      <td>1.6.1</td>\n",
       "      <td>4.6.0</td>\n",
       "      <td>Linux-6.11.0-21-generic-x86_64-with-glibc2.39</td>\n",
       "      <td>x86_64</td>\n",
       "      <td>8</td>\n",
       "      <td>16.64</td>\n",
       "    </tr>\n",
       "    <tr>\n",
       "      <th>81</th>\n",
       "      <td>ForecasterRecursiveMultiSeries</td>\n",
       "      <td>LGBMRegressor</td>\n",
       "      <td>ForecasterRecursiveMultiSeries__create_train_X...</td>\n",
       "      <td>583e7d25f58c2314c85ab6c385d879cc</td>\n",
       "      <td>1.760219</td>\n",
       "      <td>0.029486</td>\n",
       "      <td>2025-04-23 15:59:19.730993</td>\n",
       "      <td>3.12.9</td>\n",
       "      <td>0.15.1</td>\n",
       "      <td>2.2.5</td>\n",
       "      <td>2.2.3</td>\n",
       "      <td>1.6.1</td>\n",
       "      <td>4.6.0</td>\n",
       "      <td>Linux-6.11.0-21-generic-x86_64-with-glibc2.39</td>\n",
       "      <td>x86_64</td>\n",
       "      <td>8</td>\n",
       "      <td>16.64</td>\n",
       "    </tr>\n",
       "    <tr>\n",
       "      <th>93</th>\n",
       "      <td>ForecasterRecursiveMultiSeries</td>\n",
       "      <td>LGBMRegressor</td>\n",
       "      <td>ForecasterRecursiveMultiSeries__create_train_X...</td>\n",
       "      <td>583e7d25f58c2314c85ab6c385d879cc</td>\n",
       "      <td>1.708451</td>\n",
       "      <td>0.049639</td>\n",
       "      <td>2025-04-23 16:03:50.974931</td>\n",
       "      <td>3.12.9</td>\n",
       "      <td>0.15.1</td>\n",
       "      <td>2.2.5</td>\n",
       "      <td>2.2.3</td>\n",
       "      <td>1.6.1</td>\n",
       "      <td>4.6.0</td>\n",
       "      <td>Linux-6.11.0-21-generic-x86_64-with-glibc2.39</td>\n",
       "      <td>x86_64</td>\n",
       "      <td>8</td>\n",
       "      <td>16.64</td>\n",
       "    </tr>\n",
       "    <tr>\n",
       "      <th>105</th>\n",
       "      <td>ForecasterRecursiveMultiSeries</td>\n",
       "      <td>LGBMRegressor</td>\n",
       "      <td>ForecasterRecursiveMultiSeries__create_train_X...</td>\n",
       "      <td>583e7d25f58c2314c85ab6c385d879cc</td>\n",
       "      <td>1.560971</td>\n",
       "      <td>0.057417</td>\n",
       "      <td>2025-04-23 16:07:11.473435</td>\n",
       "      <td>3.12.9</td>\n",
       "      <td>0.16.0</td>\n",
       "      <td>2.2.5</td>\n",
       "      <td>2.2.3</td>\n",
       "      <td>1.6.1</td>\n",
       "      <td>4.6.0</td>\n",
       "      <td>Linux-6.11.0-21-generic-x86_64-with-glibc2.39</td>\n",
       "      <td>x86_64</td>\n",
       "      <td>8</td>\n",
       "      <td>16.64</td>\n",
       "    </tr>\n",
       "    <tr>\n",
       "      <th>117</th>\n",
       "      <td>ForecasterRecursiveMultiSeries</td>\n",
       "      <td>LGBMRegressor</td>\n",
       "      <td>ForecasterRecursiveMultiSeries__create_train_X...</td>\n",
       "      <td>583e7d25f58c2314c85ab6c385d879cc</td>\n",
       "      <td>1.534163</td>\n",
       "      <td>0.040951</td>\n",
       "      <td>2025-04-23 16:10:44.200979</td>\n",
       "      <td>3.12.9</td>\n",
       "      <td>0.16.0</td>\n",
       "      <td>2.2.5</td>\n",
       "      <td>2.2.3</td>\n",
       "      <td>1.6.1</td>\n",
       "      <td>4.6.0</td>\n",
       "      <td>Linux-6.11.0-21-generic-x86_64-with-glibc2.39</td>\n",
       "      <td>x86_64</td>\n",
       "      <td>8</td>\n",
       "      <td>16.64</td>\n",
       "    </tr>\n",
       "    <tr>\n",
       "      <th>136</th>\n",
       "      <td>ForecasterRecursiveMultiSeries</td>\n",
       "      <td>LGBMRegressor</td>\n",
       "      <td>ForecasterRecursiveMultiSeries__create_train_X...</td>\n",
       "      <td>583e7d25f58c2314c85ab6c385d879cc</td>\n",
       "      <td>1.811675</td>\n",
       "      <td>0.131149</td>\n",
       "      <td>2025-04-23 20:11:39.440528</td>\n",
       "      <td>3.12.9</td>\n",
       "      <td>0.16.0</td>\n",
       "      <td>2.2.5</td>\n",
       "      <td>2.2.3</td>\n",
       "      <td>1.6.1</td>\n",
       "      <td>4.6.0</td>\n",
       "      <td>Linux-6.11.0-21-generic-x86_64-with-glibc2.39</td>\n",
       "      <td>x86_64</td>\n",
       "      <td>8</td>\n",
       "      <td>16.64</td>\n",
       "    </tr>\n",
       "    <tr>\n",
       "      <th>149</th>\n",
       "      <td>ForecasterRecursiveMultiSeries</td>\n",
       "      <td>LGBMRegressor</td>\n",
       "      <td>ForecasterRecursiveMultiSeries__create_train_X...</td>\n",
       "      <td>583e7d25f58c2314c85ab6c385d879cc</td>\n",
       "      <td>1.778144</td>\n",
       "      <td>0.056622</td>\n",
       "      <td>2025-04-23 20:17:11.673544</td>\n",
       "      <td>3.12.9</td>\n",
       "      <td>0.15.1</td>\n",
       "      <td>2.2.5</td>\n",
       "      <td>2.2.3</td>\n",
       "      <td>1.6.1</td>\n",
       "      <td>4.6.0</td>\n",
       "      <td>Linux-6.11.0-21-generic-x86_64-with-glibc2.39</td>\n",
       "      <td>x86_64</td>\n",
       "      <td>8</td>\n",
       "      <td>16.64</td>\n",
       "    </tr>\n",
       "    <tr>\n",
       "      <th>162</th>\n",
       "      <td>ForecasterRecursiveMultiSeries</td>\n",
       "      <td>LGBMRegressor</td>\n",
       "      <td>ForecasterRecursiveMultiSeries__create_train_X...</td>\n",
       "      <td>583e7d25f58c2314c85ab6c385d879cc</td>\n",
       "      <td>1.678415</td>\n",
       "      <td>0.036097</td>\n",
       "      <td>2025-04-23 21:58:14.858324</td>\n",
       "      <td>3.12.9</td>\n",
       "      <td>0.15.1</td>\n",
       "      <td>2.2.5</td>\n",
       "      <td>2.2.3</td>\n",
       "      <td>1.6.1</td>\n",
       "      <td>4.6.0</td>\n",
       "      <td>Linux-6.11.0-21-generic-x86_64-with-glibc2.39</td>\n",
       "      <td>x86_64</td>\n",
       "      <td>8</td>\n",
       "      <td>16.64</td>\n",
       "    </tr>\n",
       "    <tr>\n",
       "      <th>175</th>\n",
       "      <td>ForecasterRecursiveMultiSeries</td>\n",
       "      <td>LGBMRegressor</td>\n",
       "      <td>ForecasterRecursiveMultiSeries__create_train_X...</td>\n",
       "      <td>583e7d25f58c2314c85ab6c385d879cc</td>\n",
       "      <td>2.350689</td>\n",
       "      <td>0.146020</td>\n",
       "      <td>2025-04-23 22:11:21.550881</td>\n",
       "      <td>3.12.9</td>\n",
       "      <td>0.14.0</td>\n",
       "      <td>2.2.5</td>\n",
       "      <td>2.2.3</td>\n",
       "      <td>1.6.1</td>\n",
       "      <td>4.6.0</td>\n",
       "      <td>Linux-6.11.0-21-generic-x86_64-with-glibc2.39</td>\n",
       "      <td>x86_64</td>\n",
       "      <td>8</td>\n",
       "      <td>16.64</td>\n",
       "    </tr>\n",
       "    <tr>\n",
       "      <th>188</th>\n",
       "      <td>ForecasterRecursiveMultiSeries</td>\n",
       "      <td>LGBMRegressor</td>\n",
       "      <td>ForecasterRecursiveMultiSeries__create_train_X...</td>\n",
       "      <td>583e7d25f58c2314c85ab6c385d879cc</td>\n",
       "      <td>2.006739</td>\n",
       "      <td>0.027937</td>\n",
       "      <td>2025-04-23 22:45:52.489951</td>\n",
       "      <td>3.12.9</td>\n",
       "      <td>0.14.0</td>\n",
       "      <td>2.2.5</td>\n",
       "      <td>2.2.3</td>\n",
       "      <td>1.6.1</td>\n",
       "      <td>4.6.0</td>\n",
       "      <td>Linux-6.11.0-21-generic-x86_64-with-glibc2.39</td>\n",
       "      <td>x86_64</td>\n",
       "      <td>8</td>\n",
       "      <td>16.64</td>\n",
       "    </tr>\n",
       "    <tr>\n",
       "      <th>202</th>\n",
       "      <td>ForecasterRecursiveMultiSeries</td>\n",
       "      <td>LGBMRegressor</td>\n",
       "      <td>ForecasterRecursiveMultiSeries__create_train_X...</td>\n",
       "      <td>583e7d25f58c2314c85ab6c385d879cc</td>\n",
       "      <td>1.607951</td>\n",
       "      <td>0.073839</td>\n",
       "      <td>2025-04-23 22:54:33.378292</td>\n",
       "      <td>3.12.9</td>\n",
       "      <td>0.16.0</td>\n",
       "      <td>2.2.5</td>\n",
       "      <td>2.2.3</td>\n",
       "      <td>1.6.1</td>\n",
       "      <td>4.6.0</td>\n",
       "      <td>Linux-6.11.0-21-generic-x86_64-with-glibc2.39</td>\n",
       "      <td>x86_64</td>\n",
       "      <td>8</td>\n",
       "      <td>16.64</td>\n",
       "    </tr>\n",
       "  </tbody>\n",
       "</table>\n",
       "</div>"
      ],
      "text/plain": [
       "                    forecaster_name regressor_name  \\\n",
       "1    ForecasterRecursiveMultiSeries  LGBMRegressor   \n",
       "13   ForecasterRecursiveMultiSeries  LGBMRegressor   \n",
       "25   ForecasterRecursiveMultiSeries  LGBMRegressor   \n",
       "37     ForecasterAutoregMultiSeries  LGBMRegressor   \n",
       "49     ForecasterAutoregMultiSeries  LGBMRegressor   \n",
       "69   ForecasterRecursiveMultiSeries  LGBMRegressor   \n",
       "81   ForecasterRecursiveMultiSeries  LGBMRegressor   \n",
       "93   ForecasterRecursiveMultiSeries  LGBMRegressor   \n",
       "105  ForecasterRecursiveMultiSeries  LGBMRegressor   \n",
       "117  ForecasterRecursiveMultiSeries  LGBMRegressor   \n",
       "136  ForecasterRecursiveMultiSeries  LGBMRegressor   \n",
       "149  ForecasterRecursiveMultiSeries  LGBMRegressor   \n",
       "162  ForecasterRecursiveMultiSeries  LGBMRegressor   \n",
       "175  ForecasterRecursiveMultiSeries  LGBMRegressor   \n",
       "188  ForecasterRecursiveMultiSeries  LGBMRegressor   \n",
       "202  ForecasterRecursiveMultiSeries  LGBMRegressor   \n",
       "\n",
       "                                         function_name  \\\n",
       "1    ForecasterRecursiveMultiSeries__create_train_X...   \n",
       "13   ForecasterRecursiveMultiSeries__create_train_X...   \n",
       "25   ForecasterRecursiveMultiSeries__create_train_X...   \n",
       "37   ForecasterRecursiveMultiSeries__create_train_X...   \n",
       "49   ForecasterRecursiveMultiSeries__create_train_X...   \n",
       "69   ForecasterRecursiveMultiSeries__create_train_X...   \n",
       "81   ForecasterRecursiveMultiSeries__create_train_X...   \n",
       "93   ForecasterRecursiveMultiSeries__create_train_X...   \n",
       "105  ForecasterRecursiveMultiSeries__create_train_X...   \n",
       "117  ForecasterRecursiveMultiSeries__create_train_X...   \n",
       "136  ForecasterRecursiveMultiSeries__create_train_X...   \n",
       "149  ForecasterRecursiveMultiSeries__create_train_X...   \n",
       "162  ForecasterRecursiveMultiSeries__create_train_X...   \n",
       "175  ForecasterRecursiveMultiSeries__create_train_X...   \n",
       "188  ForecasterRecursiveMultiSeries__create_train_X...   \n",
       "202  ForecasterRecursiveMultiSeries__create_train_X...   \n",
       "\n",
       "                        function_hash  run_time_avg  run_time_std_dev  \\\n",
       "1    583e7d25f58c2314c85ab6c385d879cc      1.594639          0.061033   \n",
       "13   583e7d25f58c2314c85ab6c385d879cc      1.730657          0.036684   \n",
       "25   583e7d25f58c2314c85ab6c385d879cc      2.008426          0.020794   \n",
       "37   583e7d25f58c2314c85ab6c385d879cc      2.624174          0.090886   \n",
       "49   583e7d25f58c2314c85ab6c385d879cc      2.603322          0.046577   \n",
       "69   583e7d25f58c2314c85ab6c385d879cc      1.998299          0.020942   \n",
       "81   583e7d25f58c2314c85ab6c385d879cc      1.760219          0.029486   \n",
       "93   583e7d25f58c2314c85ab6c385d879cc      1.708451          0.049639   \n",
       "105  583e7d25f58c2314c85ab6c385d879cc      1.560971          0.057417   \n",
       "117  583e7d25f58c2314c85ab6c385d879cc      1.534163          0.040951   \n",
       "136  583e7d25f58c2314c85ab6c385d879cc      1.811675          0.131149   \n",
       "149  583e7d25f58c2314c85ab6c385d879cc      1.778144          0.056622   \n",
       "162  583e7d25f58c2314c85ab6c385d879cc      1.678415          0.036097   \n",
       "175  583e7d25f58c2314c85ab6c385d879cc      2.350689          0.146020   \n",
       "188  583e7d25f58c2314c85ab6c385d879cc      2.006739          0.027937   \n",
       "202  583e7d25f58c2314c85ab6c385d879cc      1.607951          0.073839   \n",
       "\n",
       "                      datetime python_version skforecast_version  \\\n",
       "1   2025-04-23 15:04:27.710376         3.12.9             0.16.0   \n",
       "13  2025-04-23 15:10:21.711978         3.12.9             0.15.1   \n",
       "25  2025-04-23 15:14:19.407835         3.12.9             0.14.0   \n",
       "37  2025-04-23 15:26:26.520388         3.12.9             0.13.0   \n",
       "49  2025-04-23 15:35:47.542332         3.12.9             0.13.0   \n",
       "69  2025-04-23 15:55:04.326742         3.12.9             0.14.0   \n",
       "81  2025-04-23 15:59:19.730993         3.12.9             0.15.1   \n",
       "93  2025-04-23 16:03:50.974931         3.12.9             0.15.1   \n",
       "105 2025-04-23 16:07:11.473435         3.12.9             0.16.0   \n",
       "117 2025-04-23 16:10:44.200979         3.12.9             0.16.0   \n",
       "136 2025-04-23 20:11:39.440528         3.12.9             0.16.0   \n",
       "149 2025-04-23 20:17:11.673544         3.12.9             0.15.1   \n",
       "162 2025-04-23 21:58:14.858324         3.12.9             0.15.1   \n",
       "175 2025-04-23 22:11:21.550881         3.12.9             0.14.0   \n",
       "188 2025-04-23 22:45:52.489951         3.12.9             0.14.0   \n",
       "202 2025-04-23 22:54:33.378292         3.12.9             0.16.0   \n",
       "\n",
       "    numpy_version pandas_version sklearn_version lightgbm_version  \\\n",
       "1           2.2.5          2.2.3           1.6.1            4.6.0   \n",
       "13          2.2.5          2.2.3           1.6.1            4.6.0   \n",
       "25          2.2.5          2.2.3           1.6.1            4.6.0   \n",
       "37          2.2.5          2.2.3           1.6.1            4.6.0   \n",
       "49          2.2.5          2.2.3           1.6.1            4.6.0   \n",
       "69          2.2.5          2.2.3           1.6.1            4.6.0   \n",
       "81          2.2.5          2.2.3           1.6.1            4.6.0   \n",
       "93          2.2.5          2.2.3           1.6.1            4.6.0   \n",
       "105         2.2.5          2.2.3           1.6.1            4.6.0   \n",
       "117         2.2.5          2.2.3           1.6.1            4.6.0   \n",
       "136         2.2.5          2.2.3           1.6.1            4.6.0   \n",
       "149         2.2.5          2.2.3           1.6.1            4.6.0   \n",
       "162         2.2.5          2.2.3           1.6.1            4.6.0   \n",
       "175         2.2.5          2.2.3           1.6.1            4.6.0   \n",
       "188         2.2.5          2.2.3           1.6.1            4.6.0   \n",
       "202         2.2.5          2.2.3           1.6.1            4.6.0   \n",
       "\n",
       "                                          platform processor  cpu_count  \\\n",
       "1    Linux-6.11.0-21-generic-x86_64-with-glibc2.39    x86_64          8   \n",
       "13   Linux-6.11.0-21-generic-x86_64-with-glibc2.39    x86_64          8   \n",
       "25   Linux-6.11.0-21-generic-x86_64-with-glibc2.39    x86_64          8   \n",
       "37   Linux-6.11.0-21-generic-x86_64-with-glibc2.39    x86_64          8   \n",
       "49   Linux-6.11.0-21-generic-x86_64-with-glibc2.39    x86_64          8   \n",
       "69   Linux-6.11.0-21-generic-x86_64-with-glibc2.39    x86_64          8   \n",
       "81   Linux-6.11.0-21-generic-x86_64-with-glibc2.39    x86_64          8   \n",
       "93   Linux-6.11.0-21-generic-x86_64-with-glibc2.39    x86_64          8   \n",
       "105  Linux-6.11.0-21-generic-x86_64-with-glibc2.39    x86_64          8   \n",
       "117  Linux-6.11.0-21-generic-x86_64-with-glibc2.39    x86_64          8   \n",
       "136  Linux-6.11.0-21-generic-x86_64-with-glibc2.39    x86_64          8   \n",
       "149  Linux-6.11.0-21-generic-x86_64-with-glibc2.39    x86_64          8   \n",
       "162  Linux-6.11.0-21-generic-x86_64-with-glibc2.39    x86_64          8   \n",
       "175  Linux-6.11.0-21-generic-x86_64-with-glibc2.39    x86_64          8   \n",
       "188  Linux-6.11.0-21-generic-x86_64-with-glibc2.39    x86_64          8   \n",
       "202  Linux-6.11.0-21-generic-x86_64-with-glibc2.39    x86_64          8   \n",
       "\n",
       "     memory_gb  \n",
       "1        16.64  \n",
       "13       16.64  \n",
       "25       16.64  \n",
       "37       16.64  \n",
       "49       16.64  \n",
       "69       16.64  \n",
       "81       16.64  \n",
       "93       16.64  \n",
       "105      16.64  \n",
       "117      16.64  \n",
       "136      16.64  \n",
       "149      16.64  \n",
       "162      16.64  \n",
       "175      16.64  \n",
       "188      16.64  \n",
       "202      16.64  "
      ]
     },
     "metadata": {},
     "output_type": "display_data"
    },
    {
     "data": {
      "application/vnd.plotly.v1+json": {
       "config": {
        "plotlyServerURL": "https://plot.ly"
       },
       "data": [
        {
         "error_y": {
          "array": {
           "bdata": "F2F1lVVEtz97tS858dinPw==",
           "dtype": "f8"
          },
          "color": "#636EFA",
          "thickness": 1.5,
          "type": "data",
          "visible": true,
          "width": 5
         },
         "hovertemplate": "%{text}<extra></extra>",
         "marker": {
          "color": "#636EFA",
          "opacity": 0.7,
          "size": 10
         },
         "mode": "markers",
         "name": "Run time - 0.13.0",
         "showlegend": true,
         "text": [
          "Forecaster: ForecasterAutoregMultiSeries<br>Regressor: LGBMRegressor<br>Function: ForecasterRecursiveMultiSeries__create_train_X_y_series_is_dict_exog_is_dict<br>Function_hash: 583e7d25f58c2314c85ab6c385d879cc<br>Datetime: 2025-04-23 15:26:26.520388<br>Python version: 3.12.9<br>skforecast version: 0.13.0<br>numpy version: 2.2.5<br>pandas version: 2.2.3<br>sklearn version: 1.6.1<br>lightgbm version: 4.6.0<br>Platform: Linux-6.11.0-21-generic-x86_64-with-glibc2.39<br>Processor: x86_64<br>CPU count: 8<br>Memory (GB): 16.64<br>",
          "Forecaster: ForecasterAutoregMultiSeries<br>Regressor: LGBMRegressor<br>Function: ForecasterRecursiveMultiSeries__create_train_X_y_series_is_dict_exog_is_dict<br>Function_hash: 583e7d25f58c2314c85ab6c385d879cc<br>Datetime: 2025-04-23 15:35:47.542332<br>Python version: 3.12.9<br>skforecast version: 0.13.0<br>numpy version: 2.2.5<br>pandas version: 2.2.3<br>sklearn version: 1.6.1<br>lightgbm version: 4.6.0<br>Platform: Linux-6.11.0-21-generic-x86_64-with-glibc2.39<br>Processor: x86_64<br>CPU count: 8<br>Memory (GB): 16.64<br>"
         ],
         "type": "scatter",
         "x": {
          "bdata": "fByzX9/Fir9AKClBT8iAPw==",
          "dtype": "f8"
         },
         "y": {
          "bdata": "zSztCU/+BEDN3HqSmtMEQA==",
          "dtype": "f8"
         }
        },
        {
         "error_y": {
          "array": {
           "bdata": "1owkwwdLlT+u4kn25XGVP2AgUSnFsMI/MUPPxXqbnD8=",
           "dtype": "f8"
          },
          "color": "#EF553B",
          "thickness": 1.5,
          "type": "data",
          "visible": true,
          "width": 5
         },
         "hovertemplate": "%{text}<extra></extra>",
         "marker": {
          "color": "#EF553B",
          "opacity": 0.7,
          "size": 10
         },
         "mode": "markers",
         "name": "Run time - 0.14.0",
         "showlegend": true,
         "text": [
          "Forecaster: ForecasterRecursiveMultiSeries<br>Regressor: LGBMRegressor<br>Function: ForecasterRecursiveMultiSeries__create_train_X_y_series_is_dict_exog_is_dict<br>Function_hash: 583e7d25f58c2314c85ab6c385d879cc<br>Datetime: 2025-04-23 15:14:19.407835<br>Python version: 3.12.9<br>skforecast version: 0.14.0<br>numpy version: 2.2.5<br>pandas version: 2.2.3<br>sklearn version: 1.6.1<br>lightgbm version: 4.6.0<br>Platform: Linux-6.11.0-21-generic-x86_64-with-glibc2.39<br>Processor: x86_64<br>CPU count: 8<br>Memory (GB): 16.64<br>",
          "Forecaster: ForecasterRecursiveMultiSeries<br>Regressor: LGBMRegressor<br>Function: ForecasterRecursiveMultiSeries__create_train_X_y_series_is_dict_exog_is_dict<br>Function_hash: 583e7d25f58c2314c85ab6c385d879cc<br>Datetime: 2025-04-23 15:55:04.326742<br>Python version: 3.12.9<br>skforecast version: 0.14.0<br>numpy version: 2.2.5<br>pandas version: 2.2.3<br>sklearn version: 1.6.1<br>lightgbm version: 4.6.0<br>Platform: Linux-6.11.0-21-generic-x86_64-with-glibc2.39<br>Processor: x86_64<br>CPU count: 8<br>Memory (GB): 16.64<br>",
          "Forecaster: ForecasterRecursiveMultiSeries<br>Regressor: LGBMRegressor<br>Function: ForecasterRecursiveMultiSeries__create_train_X_y_series_is_dict_exog_is_dict<br>Function_hash: 583e7d25f58c2314c85ab6c385d879cc<br>Datetime: 2025-04-23 22:11:21.550881<br>Python version: 3.12.9<br>skforecast version: 0.14.0<br>numpy version: 2.2.5<br>pandas version: 2.2.3<br>sklearn version: 1.6.1<br>lightgbm version: 4.6.0<br>Platform: Linux-6.11.0-21-generic-x86_64-with-glibc2.39<br>Processor: x86_64<br>CPU count: 8<br>Memory (GB): 16.64<br>",
          "Forecaster: ForecasterRecursiveMultiSeries<br>Regressor: LGBMRegressor<br>Function: ForecasterRecursiveMultiSeries__create_train_X_y_series_is_dict_exog_is_dict<br>Function_hash: 583e7d25f58c2314c85ab6c385d879cc<br>Datetime: 2025-04-23 22:45:52.489951<br>Python version: 3.12.9<br>skforecast version: 0.14.0<br>numpy version: 2.2.5<br>pandas version: 2.2.3<br>sklearn version: 1.6.1<br>lightgbm version: 4.6.0<br>Platform: Linux-6.11.0-21-generic-x86_64-with-glibc2.39<br>Processor: x86_64<br>CPU count: 8<br>Memory (GB): 16.64<br>"
         ],
         "type": "scatter",
         "x": {
          "bdata": "WsufM0wh8D/sid4cvavwP0fPO5Hnwu4/vWqPYB4m7z8=",
          "dtype": "f8"
         },
         "y": {
          "bdata": "M9NFt0ERAEBmJo1cCPn/PzOzRCk2zgJAmjlMbM0NAEA=",
          "dtype": "f8"
         }
        },
        {
         "error_y": {
          "array": {
           "bdata": "Q4c2I0HIoj/sd648szGePyoXLmVFaqk/WWq6nn79rD8HJoSKVHuiPw==",
           "dtype": "f8"
          },
          "color": "#00CC96",
          "thickness": 1.5,
          "type": "data",
          "visible": true,
          "width": 5
         },
         "hovertemplate": "%{text}<extra></extra>",
         "marker": {
          "color": "#00CC96",
          "opacity": 0.7,
          "size": 10
         },
         "mode": "markers",
         "name": "Run time - 0.15.1",
         "showlegend": true,
         "text": [
          "Forecaster: ForecasterRecursiveMultiSeries<br>Regressor: LGBMRegressor<br>Function: ForecasterRecursiveMultiSeries__create_train_X_y_series_is_dict_exog_is_dict<br>Function_hash: 583e7d25f58c2314c85ab6c385d879cc<br>Datetime: 2025-04-23 15:10:21.711978<br>Python version: 3.12.9<br>skforecast version: 0.15.1<br>numpy version: 2.2.5<br>pandas version: 2.2.3<br>sklearn version: 1.6.1<br>lightgbm version: 4.6.0<br>Platform: Linux-6.11.0-21-generic-x86_64-with-glibc2.39<br>Processor: x86_64<br>CPU count: 8<br>Memory (GB): 16.64<br>",
          "Forecaster: ForecasterRecursiveMultiSeries<br>Regressor: LGBMRegressor<br>Function: ForecasterRecursiveMultiSeries__create_train_X_y_series_is_dict_exog_is_dict<br>Function_hash: 583e7d25f58c2314c85ab6c385d879cc<br>Datetime: 2025-04-23 15:59:19.730993<br>Python version: 3.12.9<br>skforecast version: 0.15.1<br>numpy version: 2.2.5<br>pandas version: 2.2.3<br>sklearn version: 1.6.1<br>lightgbm version: 4.6.0<br>Platform: Linux-6.11.0-21-generic-x86_64-with-glibc2.39<br>Processor: x86_64<br>CPU count: 8<br>Memory (GB): 16.64<br>",
          "Forecaster: ForecasterRecursiveMultiSeries<br>Regressor: LGBMRegressor<br>Function: ForecasterRecursiveMultiSeries__create_train_X_y_series_is_dict_exog_is_dict<br>Function_hash: 583e7d25f58c2314c85ab6c385d879cc<br>Datetime: 2025-04-23 16:03:50.974931<br>Python version: 3.12.9<br>skforecast version: 0.15.1<br>numpy version: 2.2.5<br>pandas version: 2.2.3<br>sklearn version: 1.6.1<br>lightgbm version: 4.6.0<br>Platform: Linux-6.11.0-21-generic-x86_64-with-glibc2.39<br>Processor: x86_64<br>CPU count: 8<br>Memory (GB): 16.64<br>",
          "Forecaster: ForecasterRecursiveMultiSeries<br>Regressor: LGBMRegressor<br>Function: ForecasterRecursiveMultiSeries__create_train_X_y_series_is_dict_exog_is_dict<br>Function_hash: 583e7d25f58c2314c85ab6c385d879cc<br>Datetime: 2025-04-23 20:17:11.673544<br>Python version: 3.12.9<br>skforecast version: 0.15.1<br>numpy version: 2.2.5<br>pandas version: 2.2.3<br>sklearn version: 1.6.1<br>lightgbm version: 4.6.0<br>Platform: Linux-6.11.0-21-generic-x86_64-with-glibc2.39<br>Processor: x86_64<br>CPU count: 8<br>Memory (GB): 16.64<br>",
          "Forecaster: ForecasterRecursiveMultiSeries<br>Regressor: LGBMRegressor<br>Function: ForecasterRecursiveMultiSeries__create_train_X_y_series_is_dict_exog_is_dict<br>Function_hash: 583e7d25f58c2314c85ab6c385d879cc<br>Datetime: 2025-04-23 21:58:14.858324<br>Python version: 3.12.9<br>skforecast version: 0.15.1<br>numpy version: 2.2.5<br>pandas version: 2.2.3<br>sklearn version: 1.6.1<br>lightgbm version: 4.6.0<br>Platform: Linux-6.11.0-21-generic-x86_64-with-glibc2.39<br>Processor: x86_64<br>CPU count: 8<br>Memory (GB): 16.64<br>"
         ],
         "type": "scatter",
         "x": {
          "bdata": "PJXABdYrAEAE9ARBKzsAQLPaQ8D49/8/3XFGslY0AEC7OdZSiFAAQA==",
          "dtype": "f8"
         },
         "y": {
          "bdata": "zWxdAMWw+z8AAOOe2yn8P83M2U3QVfs/mhmhuUZz/D+aWTjpydr6Pw==",
          "dtype": "f8"
         }
        },
        {
         "error_y": {
          "array": {
           "bdata": "cz+6lLg/rz/7+kxOwGWtP+VNXOOB96Q/zT/U8HrJwD/Ur/jcIeeyPw==",
           "dtype": "f8"
          },
          "color": "#AB63FA",
          "thickness": 1.5,
          "type": "data",
          "visible": true,
          "width": 5
         },
         "hovertemplate": "%{text}<extra></extra>",
         "marker": {
          "color": "#AB63FA",
          "opacity": 0.7,
          "size": 10
         },
         "mode": "markers",
         "name": "Run time - 0.16.0",
         "showlegend": true,
         "text": [
          "Forecaster: ForecasterRecursiveMultiSeries<br>Regressor: LGBMRegressor<br>Function: ForecasterRecursiveMultiSeries__create_train_X_y_series_is_dict_exog_is_dict<br>Function_hash: 583e7d25f58c2314c85ab6c385d879cc<br>Datetime: 2025-04-23 15:04:27.710376<br>Python version: 3.12.9<br>skforecast version: 0.16.0<br>numpy version: 2.2.5<br>pandas version: 2.2.3<br>sklearn version: 1.6.1<br>lightgbm version: 4.6.0<br>Platform: Linux-6.11.0-21-generic-x86_64-with-glibc2.39<br>Processor: x86_64<br>CPU count: 8<br>Memory (GB): 16.64<br>",
          "Forecaster: ForecasterRecursiveMultiSeries<br>Regressor: LGBMRegressor<br>Function: ForecasterRecursiveMultiSeries__create_train_X_y_series_is_dict_exog_is_dict<br>Function_hash: 583e7d25f58c2314c85ab6c385d879cc<br>Datetime: 2025-04-23 16:07:11.473435<br>Python version: 3.12.9<br>skforecast version: 0.16.0<br>numpy version: 2.2.5<br>pandas version: 2.2.3<br>sklearn version: 1.6.1<br>lightgbm version: 4.6.0<br>Platform: Linux-6.11.0-21-generic-x86_64-with-glibc2.39<br>Processor: x86_64<br>CPU count: 8<br>Memory (GB): 16.64<br>",
          "Forecaster: ForecasterRecursiveMultiSeries<br>Regressor: LGBMRegressor<br>Function: ForecasterRecursiveMultiSeries__create_train_X_y_series_is_dict_exog_is_dict<br>Function_hash: 583e7d25f58c2314c85ab6c385d879cc<br>Datetime: 2025-04-23 16:10:44.200979<br>Python version: 3.12.9<br>skforecast version: 0.16.0<br>numpy version: 2.2.5<br>pandas version: 2.2.3<br>sklearn version: 1.6.1<br>lightgbm version: 4.6.0<br>Platform: Linux-6.11.0-21-generic-x86_64-with-glibc2.39<br>Processor: x86_64<br>CPU count: 8<br>Memory (GB): 16.64<br>",
          "Forecaster: ForecasterRecursiveMultiSeries<br>Regressor: LGBMRegressor<br>Function: ForecasterRecursiveMultiSeries__create_train_X_y_series_is_dict_exog_is_dict<br>Function_hash: 583e7d25f58c2314c85ab6c385d879cc<br>Datetime: 2025-04-23 20:11:39.440528<br>Python version: 3.12.9<br>skforecast version: 0.16.0<br>numpy version: 2.2.5<br>pandas version: 2.2.3<br>sklearn version: 1.6.1<br>lightgbm version: 4.6.0<br>Platform: Linux-6.11.0-21-generic-x86_64-with-glibc2.39<br>Processor: x86_64<br>CPU count: 8<br>Memory (GB): 16.64<br>",
          "Forecaster: ForecasterRecursiveMultiSeries<br>Regressor: LGBMRegressor<br>Function: ForecasterRecursiveMultiSeries__create_train_X_y_series_is_dict_exog_is_dict<br>Function_hash: 583e7d25f58c2314c85ab6c385d879cc<br>Datetime: 2025-04-23 22:54:33.378292<br>Python version: 3.12.9<br>skforecast version: 0.16.0<br>numpy version: 2.2.5<br>pandas version: 2.2.3<br>sklearn version: 1.6.1<br>lightgbm version: 4.6.0<br>Platform: Linux-6.11.0-21-generic-x86_64-with-glibc2.39<br>Processor: x86_64<br>CPU count: 8<br>Memory (GB): 16.64<br>"
         ],
         "type": "scatter",
         "x": {
          "bdata": "wFSMOCUtCED06Y867kEIQDttXEnoOghAKuMOOLRDCEBC7DYQsQgIQA==",
          "dtype": "f8"
         },
         "y": {
          "bdata": "M/MpXKSD+T9mJp09vfn4PwCAXtjui/g/mtkDYJ/8/D9mJt8cK7r5Pw==",
          "dtype": "f8"
         }
        },
        {
         "line": {
          "color": "black",
          "width": 2
         },
         "marker": {
          "color": "black",
          "size": 8
         },
         "mode": "lines+markers",
         "name": "Median (per version)",
         "type": "scatter",
         "x": {
          "bdata": "AAECAw==",
          "dtype": "i1"
         },
         "y": {
          "bdata": "zQQ0zvToBEBmBsmRhw8AQM1sXQDFsPs/M/MpXKSD+T8=",
          "dtype": "f8"
         }
        }
       ],
       "layout": {
        "showlegend": true,
        "template": {
         "data": {
          "bar": [
           {
            "error_x": {
             "color": "#2a3f5f"
            },
            "error_y": {
             "color": "#2a3f5f"
            },
            "marker": {
             "line": {
              "color": "#E5ECF6",
              "width": 0.5
             },
             "pattern": {
              "fillmode": "overlay",
              "size": 10,
              "solidity": 0.2
             }
            },
            "type": "bar"
           }
          ],
          "barpolar": [
           {
            "marker": {
             "line": {
              "color": "#E5ECF6",
              "width": 0.5
             },
             "pattern": {
              "fillmode": "overlay",
              "size": 10,
              "solidity": 0.2
             }
            },
            "type": "barpolar"
           }
          ],
          "carpet": [
           {
            "aaxis": {
             "endlinecolor": "#2a3f5f",
             "gridcolor": "white",
             "linecolor": "white",
             "minorgridcolor": "white",
             "startlinecolor": "#2a3f5f"
            },
            "baxis": {
             "endlinecolor": "#2a3f5f",
             "gridcolor": "white",
             "linecolor": "white",
             "minorgridcolor": "white",
             "startlinecolor": "#2a3f5f"
            },
            "type": "carpet"
           }
          ],
          "choropleth": [
           {
            "colorbar": {
             "outlinewidth": 0,
             "ticks": ""
            },
            "type": "choropleth"
           }
          ],
          "contour": [
           {
            "colorbar": {
             "outlinewidth": 0,
             "ticks": ""
            },
            "colorscale": [
             [
              0,
              "#0d0887"
             ],
             [
              0.1111111111111111,
              "#46039f"
             ],
             [
              0.2222222222222222,
              "#7201a8"
             ],
             [
              0.3333333333333333,
              "#9c179e"
             ],
             [
              0.4444444444444444,
              "#bd3786"
             ],
             [
              0.5555555555555556,
              "#d8576b"
             ],
             [
              0.6666666666666666,
              "#ed7953"
             ],
             [
              0.7777777777777778,
              "#fb9f3a"
             ],
             [
              0.8888888888888888,
              "#fdca26"
             ],
             [
              1,
              "#f0f921"
             ]
            ],
            "type": "contour"
           }
          ],
          "contourcarpet": [
           {
            "colorbar": {
             "outlinewidth": 0,
             "ticks": ""
            },
            "type": "contourcarpet"
           }
          ],
          "heatmap": [
           {
            "colorbar": {
             "outlinewidth": 0,
             "ticks": ""
            },
            "colorscale": [
             [
              0,
              "#0d0887"
             ],
             [
              0.1111111111111111,
              "#46039f"
             ],
             [
              0.2222222222222222,
              "#7201a8"
             ],
             [
              0.3333333333333333,
              "#9c179e"
             ],
             [
              0.4444444444444444,
              "#bd3786"
             ],
             [
              0.5555555555555556,
              "#d8576b"
             ],
             [
              0.6666666666666666,
              "#ed7953"
             ],
             [
              0.7777777777777778,
              "#fb9f3a"
             ],
             [
              0.8888888888888888,
              "#fdca26"
             ],
             [
              1,
              "#f0f921"
             ]
            ],
            "type": "heatmap"
           }
          ],
          "histogram": [
           {
            "marker": {
             "pattern": {
              "fillmode": "overlay",
              "size": 10,
              "solidity": 0.2
             }
            },
            "type": "histogram"
           }
          ],
          "histogram2d": [
           {
            "colorbar": {
             "outlinewidth": 0,
             "ticks": ""
            },
            "colorscale": [
             [
              0,
              "#0d0887"
             ],
             [
              0.1111111111111111,
              "#46039f"
             ],
             [
              0.2222222222222222,
              "#7201a8"
             ],
             [
              0.3333333333333333,
              "#9c179e"
             ],
             [
              0.4444444444444444,
              "#bd3786"
             ],
             [
              0.5555555555555556,
              "#d8576b"
             ],
             [
              0.6666666666666666,
              "#ed7953"
             ],
             [
              0.7777777777777778,
              "#fb9f3a"
             ],
             [
              0.8888888888888888,
              "#fdca26"
             ],
             [
              1,
              "#f0f921"
             ]
            ],
            "type": "histogram2d"
           }
          ],
          "histogram2dcontour": [
           {
            "colorbar": {
             "outlinewidth": 0,
             "ticks": ""
            },
            "colorscale": [
             [
              0,
              "#0d0887"
             ],
             [
              0.1111111111111111,
              "#46039f"
             ],
             [
              0.2222222222222222,
              "#7201a8"
             ],
             [
              0.3333333333333333,
              "#9c179e"
             ],
             [
              0.4444444444444444,
              "#bd3786"
             ],
             [
              0.5555555555555556,
              "#d8576b"
             ],
             [
              0.6666666666666666,
              "#ed7953"
             ],
             [
              0.7777777777777778,
              "#fb9f3a"
             ],
             [
              0.8888888888888888,
              "#fdca26"
             ],
             [
              1,
              "#f0f921"
             ]
            ],
            "type": "histogram2dcontour"
           }
          ],
          "mesh3d": [
           {
            "colorbar": {
             "outlinewidth": 0,
             "ticks": ""
            },
            "type": "mesh3d"
           }
          ],
          "parcoords": [
           {
            "line": {
             "colorbar": {
              "outlinewidth": 0,
              "ticks": ""
             }
            },
            "type": "parcoords"
           }
          ],
          "pie": [
           {
            "automargin": true,
            "type": "pie"
           }
          ],
          "scatter": [
           {
            "fillpattern": {
             "fillmode": "overlay",
             "size": 10,
             "solidity": 0.2
            },
            "type": "scatter"
           }
          ],
          "scatter3d": [
           {
            "line": {
             "colorbar": {
              "outlinewidth": 0,
              "ticks": ""
             }
            },
            "marker": {
             "colorbar": {
              "outlinewidth": 0,
              "ticks": ""
             }
            },
            "type": "scatter3d"
           }
          ],
          "scattercarpet": [
           {
            "marker": {
             "colorbar": {
              "outlinewidth": 0,
              "ticks": ""
             }
            },
            "type": "scattercarpet"
           }
          ],
          "scattergeo": [
           {
            "marker": {
             "colorbar": {
              "outlinewidth": 0,
              "ticks": ""
             }
            },
            "type": "scattergeo"
           }
          ],
          "scattergl": [
           {
            "marker": {
             "colorbar": {
              "outlinewidth": 0,
              "ticks": ""
             }
            },
            "type": "scattergl"
           }
          ],
          "scattermap": [
           {
            "marker": {
             "colorbar": {
              "outlinewidth": 0,
              "ticks": ""
             }
            },
            "type": "scattermap"
           }
          ],
          "scattermapbox": [
           {
            "marker": {
             "colorbar": {
              "outlinewidth": 0,
              "ticks": ""
             }
            },
            "type": "scattermapbox"
           }
          ],
          "scatterpolar": [
           {
            "marker": {
             "colorbar": {
              "outlinewidth": 0,
              "ticks": ""
             }
            },
            "type": "scatterpolar"
           }
          ],
          "scatterpolargl": [
           {
            "marker": {
             "colorbar": {
              "outlinewidth": 0,
              "ticks": ""
             }
            },
            "type": "scatterpolargl"
           }
          ],
          "scatterternary": [
           {
            "marker": {
             "colorbar": {
              "outlinewidth": 0,
              "ticks": ""
             }
            },
            "type": "scatterternary"
           }
          ],
          "surface": [
           {
            "colorbar": {
             "outlinewidth": 0,
             "ticks": ""
            },
            "colorscale": [
             [
              0,
              "#0d0887"
             ],
             [
              0.1111111111111111,
              "#46039f"
             ],
             [
              0.2222222222222222,
              "#7201a8"
             ],
             [
              0.3333333333333333,
              "#9c179e"
             ],
             [
              0.4444444444444444,
              "#bd3786"
             ],
             [
              0.5555555555555556,
              "#d8576b"
             ],
             [
              0.6666666666666666,
              "#ed7953"
             ],
             [
              0.7777777777777778,
              "#fb9f3a"
             ],
             [
              0.8888888888888888,
              "#fdca26"
             ],
             [
              1,
              "#f0f921"
             ]
            ],
            "type": "surface"
           }
          ],
          "table": [
           {
            "cells": {
             "fill": {
              "color": "#EBF0F8"
             },
             "line": {
              "color": "white"
             }
            },
            "header": {
             "fill": {
              "color": "#C8D4E3"
             },
             "line": {
              "color": "white"
             }
            },
            "type": "table"
           }
          ]
         },
         "layout": {
          "annotationdefaults": {
           "arrowcolor": "#2a3f5f",
           "arrowhead": 0,
           "arrowwidth": 1
          },
          "autotypenumbers": "strict",
          "coloraxis": {
           "colorbar": {
            "outlinewidth": 0,
            "ticks": ""
           }
          },
          "colorscale": {
           "diverging": [
            [
             0,
             "#8e0152"
            ],
            [
             0.1,
             "#c51b7d"
            ],
            [
             0.2,
             "#de77ae"
            ],
            [
             0.3,
             "#f1b6da"
            ],
            [
             0.4,
             "#fde0ef"
            ],
            [
             0.5,
             "#f7f7f7"
            ],
            [
             0.6,
             "#e6f5d0"
            ],
            [
             0.7,
             "#b8e186"
            ],
            [
             0.8,
             "#7fbc41"
            ],
            [
             0.9,
             "#4d9221"
            ],
            [
             1,
             "#276419"
            ]
           ],
           "sequential": [
            [
             0,
             "#0d0887"
            ],
            [
             0.1111111111111111,
             "#46039f"
            ],
            [
             0.2222222222222222,
             "#7201a8"
            ],
            [
             0.3333333333333333,
             "#9c179e"
            ],
            [
             0.4444444444444444,
             "#bd3786"
            ],
            [
             0.5555555555555556,
             "#d8576b"
            ],
            [
             0.6666666666666666,
             "#ed7953"
            ],
            [
             0.7777777777777778,
             "#fb9f3a"
            ],
            [
             0.8888888888888888,
             "#fdca26"
            ],
            [
             1,
             "#f0f921"
            ]
           ],
           "sequentialminus": [
            [
             0,
             "#0d0887"
            ],
            [
             0.1111111111111111,
             "#46039f"
            ],
            [
             0.2222222222222222,
             "#7201a8"
            ],
            [
             0.3333333333333333,
             "#9c179e"
            ],
            [
             0.4444444444444444,
             "#bd3786"
            ],
            [
             0.5555555555555556,
             "#d8576b"
            ],
            [
             0.6666666666666666,
             "#ed7953"
            ],
            [
             0.7777777777777778,
             "#fb9f3a"
            ],
            [
             0.8888888888888888,
             "#fdca26"
            ],
            [
             1,
             "#f0f921"
            ]
           ]
          },
          "colorway": [
           "#636efa",
           "#EF553B",
           "#00cc96",
           "#ab63fa",
           "#FFA15A",
           "#19d3f3",
           "#FF6692",
           "#B6E880",
           "#FF97FF",
           "#FECB52"
          ],
          "font": {
           "color": "#2a3f5f"
          },
          "geo": {
           "bgcolor": "white",
           "lakecolor": "white",
           "landcolor": "#E5ECF6",
           "showlakes": true,
           "showland": true,
           "subunitcolor": "white"
          },
          "hoverlabel": {
           "align": "left"
          },
          "hovermode": "closest",
          "mapbox": {
           "style": "light"
          },
          "paper_bgcolor": "white",
          "plot_bgcolor": "#E5ECF6",
          "polar": {
           "angularaxis": {
            "gridcolor": "white",
            "linecolor": "white",
            "ticks": ""
           },
           "bgcolor": "#E5ECF6",
           "radialaxis": {
            "gridcolor": "white",
            "linecolor": "white",
            "ticks": ""
           }
          },
          "scene": {
           "xaxis": {
            "backgroundcolor": "#E5ECF6",
            "gridcolor": "white",
            "gridwidth": 2,
            "linecolor": "white",
            "showbackground": true,
            "ticks": "",
            "zerolinecolor": "white"
           },
           "yaxis": {
            "backgroundcolor": "#E5ECF6",
            "gridcolor": "white",
            "gridwidth": 2,
            "linecolor": "white",
            "showbackground": true,
            "ticks": "",
            "zerolinecolor": "white"
           },
           "zaxis": {
            "backgroundcolor": "#E5ECF6",
            "gridcolor": "white",
            "gridwidth": 2,
            "linecolor": "white",
            "showbackground": true,
            "ticks": "",
            "zerolinecolor": "white"
           }
          },
          "shapedefaults": {
           "line": {
            "color": "#2a3f5f"
           }
          },
          "ternary": {
           "aaxis": {
            "gridcolor": "white",
            "linecolor": "white",
            "ticks": ""
           },
           "baxis": {
            "gridcolor": "white",
            "linecolor": "white",
            "ticks": ""
           },
           "bgcolor": "#E5ECF6",
           "caxis": {
            "gridcolor": "white",
            "linecolor": "white",
            "ticks": ""
           }
          },
          "title": {
           "x": 0.05
          },
          "xaxis": {
           "automargin": true,
           "gridcolor": "white",
           "linecolor": "white",
           "ticks": "",
           "title": {
            "standoff": 15
           },
           "zerolinecolor": "white",
           "zerolinewidth": 2
          },
          "yaxis": {
           "automargin": true,
           "gridcolor": "white",
           "linecolor": "white",
           "ticks": "",
           "title": {
            "standoff": 15
           },
           "zerolinecolor": "white",
           "zerolinewidth": 2
          }
         }
        },
        "title": {
         "text": "Execution time of ForecasterRecursiveMultiSeries__create_train_X_y_series_is_dict_exog_is_dict"
        },
        "xaxis": {
         "tickangle": -45,
         "tickmode": "array",
         "ticktext": [
          "0.13.0",
          "0.14.0",
          "0.15.1",
          "0.16.0"
         ],
         "tickvals": [
          0,
          1,
          2,
          3
         ],
         "title": {
          "text": "skforecast version"
         }
        },
        "yaxis": {
         "title": {
          "text": "Execution time (seconds)"
         }
        }
       }
      }
     },
     "metadata": {},
     "output_type": "display_data"
    },
    {
     "data": {
      "application/vnd.microsoft.datawrangler.viewer.v0+json": {
       "columns": [
        {
         "name": "index",
         "rawType": "int64",
         "type": "integer"
        },
        {
         "name": "forecaster_name",
         "rawType": "object",
         "type": "string"
        },
        {
         "name": "regressor_name",
         "rawType": "object",
         "type": "string"
        },
        {
         "name": "function_name",
         "rawType": "object",
         "type": "string"
        },
        {
         "name": "function_hash",
         "rawType": "object",
         "type": "string"
        },
        {
         "name": "run_time_avg",
         "rawType": "float64",
         "type": "float"
        },
        {
         "name": "run_time_std_dev",
         "rawType": "float64",
         "type": "float"
        },
        {
         "name": "datetime",
         "rawType": "datetime64[ns]",
         "type": "datetime"
        },
        {
         "name": "python_version",
         "rawType": "object",
         "type": "string"
        },
        {
         "name": "skforecast_version",
         "rawType": "object",
         "type": "string"
        },
        {
         "name": "numpy_version",
         "rawType": "object",
         "type": "string"
        },
        {
         "name": "pandas_version",
         "rawType": "object",
         "type": "string"
        },
        {
         "name": "sklearn_version",
         "rawType": "object",
         "type": "string"
        },
        {
         "name": "lightgbm_version",
         "rawType": "object",
         "type": "string"
        },
        {
         "name": "platform",
         "rawType": "object",
         "type": "string"
        },
        {
         "name": "processor",
         "rawType": "object",
         "type": "string"
        },
        {
         "name": "cpu_count",
         "rawType": "int64",
         "type": "integer"
        },
        {
         "name": "memory_gb",
         "rawType": "float64",
         "type": "float"
        }
       ],
       "conversionMethod": "pd.DataFrame",
       "ref": "54442499-d8bc-4de0-aeaa-aa01d2fc3a9b",
       "rows": [
        [
         "2",
         "ForecasterRecursiveMultiSeries",
         "LGBMRegressor",
         "ForecasterRecursiveMultiSeries_fit_series_is_dataframe_no_exog",
         "aa35b8ba0c0839021a95e5ba0786a67e",
         "11.580741844999284",
         "0.9174932438013217",
         "2025-04-23 15:04:35.688064",
         "3.12.9",
         "0.16.0",
         "2.2.5",
         "2.2.3",
         "1.6.1",
         "4.6.0",
         "Linux-6.11.0-21-generic-x86_64-with-glibc2.39",
         "x86_64",
         "8",
         "16.64"
        ],
        [
         "14",
         "ForecasterRecursiveMultiSeries",
         "LGBMRegressor",
         "ForecasterRecursiveMultiSeries_fit_series_is_dataframe_no_exog",
         "aa35b8ba0c0839021a95e5ba0786a67e",
         "10.828552564799612",
         "0.10774933746012451",
         "2025-04-23 15:10:30.369368",
         "3.12.9",
         "0.15.1",
         "2.2.5",
         "2.2.3",
         "1.6.1",
         "4.6.0",
         "Linux-6.11.0-21-generic-x86_64-with-glibc2.39",
         "x86_64",
         "8",
         "16.64"
        ],
        [
         "26",
         "ForecasterRecursiveMultiSeries",
         "LGBMRegressor",
         "ForecasterRecursiveMultiSeries_fit_series_is_dataframe_no_exog",
         "aa35b8ba0c0839021a95e5ba0786a67e",
         "10.099889255600647",
         "0.16031088063375187",
         "2025-04-23 15:14:29.454622",
         "3.12.9",
         "0.14.0",
         "2.2.5",
         "2.2.3",
         "1.6.1",
         "4.6.0",
         "Linux-6.11.0-21-generic-x86_64-with-glibc2.39",
         "x86_64",
         "8",
         "16.64"
        ],
        [
         "38",
         "ForecasterAutoregMultiSeries",
         "LGBMRegressor",
         "ForecasterRecursiveMultiSeries_fit_series_is_dataframe_no_exog",
         "aa35b8ba0c0839021a95e5ba0786a67e",
         "11.003429645200232",
         "0.22384510549927014",
         "2025-04-23 15:26:39.645552",
         "3.12.9",
         "0.13.0",
         "2.2.5",
         "2.2.3",
         "1.6.1",
         "4.6.0",
         "Linux-6.11.0-21-generic-x86_64-with-glibc2.39",
         "x86_64",
         "8",
         "16.64"
        ],
        [
         "50",
         "ForecasterAutoregMultiSeries",
         "LGBMRegressor",
         "ForecasterRecursiveMultiSeries_fit_series_is_dataframe_no_exog",
         "aa35b8ba0c0839021a95e5ba0786a67e",
         "11.890319442799955",
         "0.5210441566047335",
         "2025-04-23 15:36:00.563508",
         "3.12.9",
         "0.13.0",
         "2.2.5",
         "2.2.3",
         "1.6.1",
         "4.6.0",
         "Linux-6.11.0-21-generic-x86_64-with-glibc2.39",
         "x86_64",
         "8",
         "16.64"
        ],
        [
         "70",
         "ForecasterRecursiveMultiSeries",
         "LGBMRegressor",
         "ForecasterRecursiveMultiSeries_fit_series_is_dataframe_no_exog",
         "aa35b8ba0c0839021a95e5ba0786a67e",
         "10.926484530200105",
         "0.8125231695401454",
         "2025-04-23 15:55:14.322641",
         "3.12.9",
         "0.14.0",
         "2.2.5",
         "2.2.3",
         "1.6.1",
         "4.6.0",
         "Linux-6.11.0-21-generic-x86_64-with-glibc2.39",
         "x86_64",
         "8",
         "16.64"
        ],
        [
         "82",
         "ForecasterRecursiveMultiSeries",
         "LGBMRegressor",
         "ForecasterRecursiveMultiSeries_fit_series_is_dataframe_no_exog",
         "aa35b8ba0c0839021a95e5ba0786a67e",
         "11.199184329399941",
         "0.09696990954450073",
         "2025-04-23 15:59:28.536409",
         "3.12.9",
         "0.15.1",
         "2.2.5",
         "2.2.3",
         "1.6.1",
         "4.6.0",
         "Linux-6.11.0-21-generic-x86_64-with-glibc2.39",
         "x86_64",
         "8",
         "16.64"
        ],
        [
         "94",
         "ForecasterRecursiveMultiSeries",
         "LGBMRegressor",
         "ForecasterRecursiveMultiSeries_fit_series_is_dataframe_no_exog",
         "aa35b8ba0c0839021a95e5ba0786a67e",
         "11.031137460000172",
         "0.13409076762999553",
         "2025-04-23 16:03:59.522090",
         "3.12.9",
         "0.15.1",
         "2.2.5",
         "2.2.3",
         "1.6.1",
         "4.6.0",
         "Linux-6.11.0-21-generic-x86_64-with-glibc2.39",
         "x86_64",
         "8",
         "16.64"
        ],
        [
         "106",
         "ForecasterRecursiveMultiSeries",
         "LGBMRegressor",
         "ForecasterRecursiveMultiSeries_fit_series_is_dataframe_no_exog",
         "aa35b8ba0c0839021a95e5ba0786a67e",
         "11.330287806200795",
         "0.8955493309934619",
         "2025-04-23 16:07:19.282706",
         "3.12.9",
         "0.16.0",
         "2.2.5",
         "2.2.3",
         "1.6.1",
         "4.6.0",
         "Linux-6.11.0-21-generic-x86_64-with-glibc2.39",
         "x86_64",
         "8",
         "16.64"
        ],
        [
         "118",
         "ForecasterRecursiveMultiSeries",
         "LGBMRegressor",
         "ForecasterRecursiveMultiSeries_fit_series_is_dataframe_no_exog",
         "aa35b8ba0c0839021a95e5ba0786a67e",
         "10.856501733799814",
         "0.08118880086011718",
         "2025-04-23 16:10:51.876257",
         "3.12.9",
         "0.16.0",
         "2.2.5",
         "2.2.3",
         "1.6.1",
         "4.6.0",
         "Linux-6.11.0-21-generic-x86_64-with-glibc2.39",
         "x86_64",
         "8",
         "16.64"
        ],
        [
         "137",
         "ForecasterRecursiveMultiSeries",
         "LGBMRegressor",
         "ForecasterRecursiveMultiSeries_fit_series_is_dataframe_no_exog",
         "aa35b8ba0c0839021a95e5ba0786a67e",
         "12.59558155380073",
         "0.7648682492725979",
         "2025-04-23 20:11:48.503217",
         "3.12.9",
         "0.16.0",
         "2.2.5",
         "2.2.3",
         "1.6.1",
         "4.6.0",
         "Linux-6.11.0-21-generic-x86_64-with-glibc2.39",
         "x86_64",
         "8",
         "16.64"
        ],
        [
         "150",
         "ForecasterRecursiveMultiSeries",
         "LGBMRegressor",
         "ForecasterRecursiveMultiSeries_fit_series_is_dataframe_no_exog",
         "aa35b8ba0c0839021a95e5ba0786a67e",
         "13.922732953800004",
         "1.839201687899489",
         "2025-04-23 20:17:20.571857",
         "3.12.9",
         "0.15.1",
         "2.2.5",
         "2.2.3",
         "1.6.1",
         "4.6.0",
         "Linux-6.11.0-21-generic-x86_64-with-glibc2.39",
         "x86_64",
         "8",
         "16.64"
        ],
        [
         "163",
         "ForecasterRecursiveMultiSeries",
         "LGBMRegressor",
         "ForecasterRecursiveMultiSeries_fit_series_is_dataframe_no_exog",
         "aa35b8ba0c0839021a95e5ba0786a67e",
         "12.949121467799705",
         "1.4215640315994797",
         "2025-04-23 21:58:23.255455",
         "3.12.9",
         "0.15.1",
         "2.2.5",
         "2.2.3",
         "1.6.1",
         "4.6.0",
         "Linux-6.11.0-21-generic-x86_64-with-glibc2.39",
         "x86_64",
         "8",
         "16.64"
        ],
        [
         "176",
         "ForecasterRecursiveMultiSeries",
         "LGBMRegressor",
         "ForecasterRecursiveMultiSeries_fit_series_is_dataframe_no_exog",
         "aa35b8ba0c0839021a95e5ba0786a67e",
         "12.067933031199209",
         "0.7348807802769872",
         "2025-04-23 22:11:33.311522",
         "3.12.9",
         "0.14.0",
         "2.2.5",
         "2.2.3",
         "1.6.1",
         "4.6.0",
         "Linux-6.11.0-21-generic-x86_64-with-glibc2.39",
         "x86_64",
         "8",
         "16.64"
        ],
        [
         "189",
         "ForecasterRecursiveMultiSeries",
         "LGBMRegressor",
         "ForecasterRecursiveMultiSeries_fit_series_is_dataframe_no_exog",
         "aa35b8ba0c0839021a95e5ba0786a67e",
         "10.102643879800599",
         "0.15446542860864293",
         "2025-04-23 22:46:02.528281",
         "3.12.9",
         "0.14.0",
         "2.2.5",
         "2.2.3",
         "1.6.1",
         "4.6.0",
         "Linux-6.11.0-21-generic-x86_64-with-glibc2.39",
         "x86_64",
         "8",
         "16.64"
        ],
        [
         "203",
         "ForecasterRecursiveMultiSeries",
         "LGBMRegressor",
         "ForecasterRecursiveMultiSeries_fit_series_is_dataframe_no_exog",
         "aa35b8ba0c0839021a95e5ba0786a67e",
         "11.636991115200363",
         "0.09387915905130537",
         "2025-04-23 22:54:41.422457",
         "3.12.9",
         "0.16.0",
         "2.2.5",
         "2.2.3",
         "1.6.1",
         "4.6.0",
         "Linux-6.11.0-21-generic-x86_64-with-glibc2.39",
         "x86_64",
         "8",
         "16.64"
        ]
       ],
       "shape": {
        "columns": 17,
        "rows": 16
       }
      },
      "text/html": [
       "<div>\n",
       "<style scoped>\n",
       "    .dataframe tbody tr th:only-of-type {\n",
       "        vertical-align: middle;\n",
       "    }\n",
       "\n",
       "    .dataframe tbody tr th {\n",
       "        vertical-align: top;\n",
       "    }\n",
       "\n",
       "    .dataframe thead th {\n",
       "        text-align: right;\n",
       "    }\n",
       "</style>\n",
       "<table border=\"1\" class=\"dataframe\">\n",
       "  <thead>\n",
       "    <tr style=\"text-align: right;\">\n",
       "      <th></th>\n",
       "      <th>forecaster_name</th>\n",
       "      <th>regressor_name</th>\n",
       "      <th>function_name</th>\n",
       "      <th>function_hash</th>\n",
       "      <th>run_time_avg</th>\n",
       "      <th>run_time_std_dev</th>\n",
       "      <th>datetime</th>\n",
       "      <th>python_version</th>\n",
       "      <th>skforecast_version</th>\n",
       "      <th>numpy_version</th>\n",
       "      <th>pandas_version</th>\n",
       "      <th>sklearn_version</th>\n",
       "      <th>lightgbm_version</th>\n",
       "      <th>platform</th>\n",
       "      <th>processor</th>\n",
       "      <th>cpu_count</th>\n",
       "      <th>memory_gb</th>\n",
       "    </tr>\n",
       "  </thead>\n",
       "  <tbody>\n",
       "    <tr>\n",
       "      <th>2</th>\n",
       "      <td>ForecasterRecursiveMultiSeries</td>\n",
       "      <td>LGBMRegressor</td>\n",
       "      <td>ForecasterRecursiveMultiSeries_fit_series_is_d...</td>\n",
       "      <td>aa35b8ba0c0839021a95e5ba0786a67e</td>\n",
       "      <td>11.580742</td>\n",
       "      <td>0.917493</td>\n",
       "      <td>2025-04-23 15:04:35.688064</td>\n",
       "      <td>3.12.9</td>\n",
       "      <td>0.16.0</td>\n",
       "      <td>2.2.5</td>\n",
       "      <td>2.2.3</td>\n",
       "      <td>1.6.1</td>\n",
       "      <td>4.6.0</td>\n",
       "      <td>Linux-6.11.0-21-generic-x86_64-with-glibc2.39</td>\n",
       "      <td>x86_64</td>\n",
       "      <td>8</td>\n",
       "      <td>16.64</td>\n",
       "    </tr>\n",
       "    <tr>\n",
       "      <th>14</th>\n",
       "      <td>ForecasterRecursiveMultiSeries</td>\n",
       "      <td>LGBMRegressor</td>\n",
       "      <td>ForecasterRecursiveMultiSeries_fit_series_is_d...</td>\n",
       "      <td>aa35b8ba0c0839021a95e5ba0786a67e</td>\n",
       "      <td>10.828553</td>\n",
       "      <td>0.107749</td>\n",
       "      <td>2025-04-23 15:10:30.369368</td>\n",
       "      <td>3.12.9</td>\n",
       "      <td>0.15.1</td>\n",
       "      <td>2.2.5</td>\n",
       "      <td>2.2.3</td>\n",
       "      <td>1.6.1</td>\n",
       "      <td>4.6.0</td>\n",
       "      <td>Linux-6.11.0-21-generic-x86_64-with-glibc2.39</td>\n",
       "      <td>x86_64</td>\n",
       "      <td>8</td>\n",
       "      <td>16.64</td>\n",
       "    </tr>\n",
       "    <tr>\n",
       "      <th>26</th>\n",
       "      <td>ForecasterRecursiveMultiSeries</td>\n",
       "      <td>LGBMRegressor</td>\n",
       "      <td>ForecasterRecursiveMultiSeries_fit_series_is_d...</td>\n",
       "      <td>aa35b8ba0c0839021a95e5ba0786a67e</td>\n",
       "      <td>10.099889</td>\n",
       "      <td>0.160311</td>\n",
       "      <td>2025-04-23 15:14:29.454622</td>\n",
       "      <td>3.12.9</td>\n",
       "      <td>0.14.0</td>\n",
       "      <td>2.2.5</td>\n",
       "      <td>2.2.3</td>\n",
       "      <td>1.6.1</td>\n",
       "      <td>4.6.0</td>\n",
       "      <td>Linux-6.11.0-21-generic-x86_64-with-glibc2.39</td>\n",
       "      <td>x86_64</td>\n",
       "      <td>8</td>\n",
       "      <td>16.64</td>\n",
       "    </tr>\n",
       "    <tr>\n",
       "      <th>38</th>\n",
       "      <td>ForecasterAutoregMultiSeries</td>\n",
       "      <td>LGBMRegressor</td>\n",
       "      <td>ForecasterRecursiveMultiSeries_fit_series_is_d...</td>\n",
       "      <td>aa35b8ba0c0839021a95e5ba0786a67e</td>\n",
       "      <td>11.003430</td>\n",
       "      <td>0.223845</td>\n",
       "      <td>2025-04-23 15:26:39.645552</td>\n",
       "      <td>3.12.9</td>\n",
       "      <td>0.13.0</td>\n",
       "      <td>2.2.5</td>\n",
       "      <td>2.2.3</td>\n",
       "      <td>1.6.1</td>\n",
       "      <td>4.6.0</td>\n",
       "      <td>Linux-6.11.0-21-generic-x86_64-with-glibc2.39</td>\n",
       "      <td>x86_64</td>\n",
       "      <td>8</td>\n",
       "      <td>16.64</td>\n",
       "    </tr>\n",
       "    <tr>\n",
       "      <th>50</th>\n",
       "      <td>ForecasterAutoregMultiSeries</td>\n",
       "      <td>LGBMRegressor</td>\n",
       "      <td>ForecasterRecursiveMultiSeries_fit_series_is_d...</td>\n",
       "      <td>aa35b8ba0c0839021a95e5ba0786a67e</td>\n",
       "      <td>11.890319</td>\n",
       "      <td>0.521044</td>\n",
       "      <td>2025-04-23 15:36:00.563508</td>\n",
       "      <td>3.12.9</td>\n",
       "      <td>0.13.0</td>\n",
       "      <td>2.2.5</td>\n",
       "      <td>2.2.3</td>\n",
       "      <td>1.6.1</td>\n",
       "      <td>4.6.0</td>\n",
       "      <td>Linux-6.11.0-21-generic-x86_64-with-glibc2.39</td>\n",
       "      <td>x86_64</td>\n",
       "      <td>8</td>\n",
       "      <td>16.64</td>\n",
       "    </tr>\n",
       "    <tr>\n",
       "      <th>70</th>\n",
       "      <td>ForecasterRecursiveMultiSeries</td>\n",
       "      <td>LGBMRegressor</td>\n",
       "      <td>ForecasterRecursiveMultiSeries_fit_series_is_d...</td>\n",
       "      <td>aa35b8ba0c0839021a95e5ba0786a67e</td>\n",
       "      <td>10.926485</td>\n",
       "      <td>0.812523</td>\n",
       "      <td>2025-04-23 15:55:14.322641</td>\n",
       "      <td>3.12.9</td>\n",
       "      <td>0.14.0</td>\n",
       "      <td>2.2.5</td>\n",
       "      <td>2.2.3</td>\n",
       "      <td>1.6.1</td>\n",
       "      <td>4.6.0</td>\n",
       "      <td>Linux-6.11.0-21-generic-x86_64-with-glibc2.39</td>\n",
       "      <td>x86_64</td>\n",
       "      <td>8</td>\n",
       "      <td>16.64</td>\n",
       "    </tr>\n",
       "    <tr>\n",
       "      <th>82</th>\n",
       "      <td>ForecasterRecursiveMultiSeries</td>\n",
       "      <td>LGBMRegressor</td>\n",
       "      <td>ForecasterRecursiveMultiSeries_fit_series_is_d...</td>\n",
       "      <td>aa35b8ba0c0839021a95e5ba0786a67e</td>\n",
       "      <td>11.199184</td>\n",
       "      <td>0.096970</td>\n",
       "      <td>2025-04-23 15:59:28.536409</td>\n",
       "      <td>3.12.9</td>\n",
       "      <td>0.15.1</td>\n",
       "      <td>2.2.5</td>\n",
       "      <td>2.2.3</td>\n",
       "      <td>1.6.1</td>\n",
       "      <td>4.6.0</td>\n",
       "      <td>Linux-6.11.0-21-generic-x86_64-with-glibc2.39</td>\n",
       "      <td>x86_64</td>\n",
       "      <td>8</td>\n",
       "      <td>16.64</td>\n",
       "    </tr>\n",
       "    <tr>\n",
       "      <th>94</th>\n",
       "      <td>ForecasterRecursiveMultiSeries</td>\n",
       "      <td>LGBMRegressor</td>\n",
       "      <td>ForecasterRecursiveMultiSeries_fit_series_is_d...</td>\n",
       "      <td>aa35b8ba0c0839021a95e5ba0786a67e</td>\n",
       "      <td>11.031137</td>\n",
       "      <td>0.134091</td>\n",
       "      <td>2025-04-23 16:03:59.522090</td>\n",
       "      <td>3.12.9</td>\n",
       "      <td>0.15.1</td>\n",
       "      <td>2.2.5</td>\n",
       "      <td>2.2.3</td>\n",
       "      <td>1.6.1</td>\n",
       "      <td>4.6.0</td>\n",
       "      <td>Linux-6.11.0-21-generic-x86_64-with-glibc2.39</td>\n",
       "      <td>x86_64</td>\n",
       "      <td>8</td>\n",
       "      <td>16.64</td>\n",
       "    </tr>\n",
       "    <tr>\n",
       "      <th>106</th>\n",
       "      <td>ForecasterRecursiveMultiSeries</td>\n",
       "      <td>LGBMRegressor</td>\n",
       "      <td>ForecasterRecursiveMultiSeries_fit_series_is_d...</td>\n",
       "      <td>aa35b8ba0c0839021a95e5ba0786a67e</td>\n",
       "      <td>11.330288</td>\n",
       "      <td>0.895549</td>\n",
       "      <td>2025-04-23 16:07:19.282706</td>\n",
       "      <td>3.12.9</td>\n",
       "      <td>0.16.0</td>\n",
       "      <td>2.2.5</td>\n",
       "      <td>2.2.3</td>\n",
       "      <td>1.6.1</td>\n",
       "      <td>4.6.0</td>\n",
       "      <td>Linux-6.11.0-21-generic-x86_64-with-glibc2.39</td>\n",
       "      <td>x86_64</td>\n",
       "      <td>8</td>\n",
       "      <td>16.64</td>\n",
       "    </tr>\n",
       "    <tr>\n",
       "      <th>118</th>\n",
       "      <td>ForecasterRecursiveMultiSeries</td>\n",
       "      <td>LGBMRegressor</td>\n",
       "      <td>ForecasterRecursiveMultiSeries_fit_series_is_d...</td>\n",
       "      <td>aa35b8ba0c0839021a95e5ba0786a67e</td>\n",
       "      <td>10.856502</td>\n",
       "      <td>0.081189</td>\n",
       "      <td>2025-04-23 16:10:51.876257</td>\n",
       "      <td>3.12.9</td>\n",
       "      <td>0.16.0</td>\n",
       "      <td>2.2.5</td>\n",
       "      <td>2.2.3</td>\n",
       "      <td>1.6.1</td>\n",
       "      <td>4.6.0</td>\n",
       "      <td>Linux-6.11.0-21-generic-x86_64-with-glibc2.39</td>\n",
       "      <td>x86_64</td>\n",
       "      <td>8</td>\n",
       "      <td>16.64</td>\n",
       "    </tr>\n",
       "    <tr>\n",
       "      <th>137</th>\n",
       "      <td>ForecasterRecursiveMultiSeries</td>\n",
       "      <td>LGBMRegressor</td>\n",
       "      <td>ForecasterRecursiveMultiSeries_fit_series_is_d...</td>\n",
       "      <td>aa35b8ba0c0839021a95e5ba0786a67e</td>\n",
       "      <td>12.595582</td>\n",
       "      <td>0.764868</td>\n",
       "      <td>2025-04-23 20:11:48.503217</td>\n",
       "      <td>3.12.9</td>\n",
       "      <td>0.16.0</td>\n",
       "      <td>2.2.5</td>\n",
       "      <td>2.2.3</td>\n",
       "      <td>1.6.1</td>\n",
       "      <td>4.6.0</td>\n",
       "      <td>Linux-6.11.0-21-generic-x86_64-with-glibc2.39</td>\n",
       "      <td>x86_64</td>\n",
       "      <td>8</td>\n",
       "      <td>16.64</td>\n",
       "    </tr>\n",
       "    <tr>\n",
       "      <th>150</th>\n",
       "      <td>ForecasterRecursiveMultiSeries</td>\n",
       "      <td>LGBMRegressor</td>\n",
       "      <td>ForecasterRecursiveMultiSeries_fit_series_is_d...</td>\n",
       "      <td>aa35b8ba0c0839021a95e5ba0786a67e</td>\n",
       "      <td>13.922733</td>\n",
       "      <td>1.839202</td>\n",
       "      <td>2025-04-23 20:17:20.571857</td>\n",
       "      <td>3.12.9</td>\n",
       "      <td>0.15.1</td>\n",
       "      <td>2.2.5</td>\n",
       "      <td>2.2.3</td>\n",
       "      <td>1.6.1</td>\n",
       "      <td>4.6.0</td>\n",
       "      <td>Linux-6.11.0-21-generic-x86_64-with-glibc2.39</td>\n",
       "      <td>x86_64</td>\n",
       "      <td>8</td>\n",
       "      <td>16.64</td>\n",
       "    </tr>\n",
       "    <tr>\n",
       "      <th>163</th>\n",
       "      <td>ForecasterRecursiveMultiSeries</td>\n",
       "      <td>LGBMRegressor</td>\n",
       "      <td>ForecasterRecursiveMultiSeries_fit_series_is_d...</td>\n",
       "      <td>aa35b8ba0c0839021a95e5ba0786a67e</td>\n",
       "      <td>12.949121</td>\n",
       "      <td>1.421564</td>\n",
       "      <td>2025-04-23 21:58:23.255455</td>\n",
       "      <td>3.12.9</td>\n",
       "      <td>0.15.1</td>\n",
       "      <td>2.2.5</td>\n",
       "      <td>2.2.3</td>\n",
       "      <td>1.6.1</td>\n",
       "      <td>4.6.0</td>\n",
       "      <td>Linux-6.11.0-21-generic-x86_64-with-glibc2.39</td>\n",
       "      <td>x86_64</td>\n",
       "      <td>8</td>\n",
       "      <td>16.64</td>\n",
       "    </tr>\n",
       "    <tr>\n",
       "      <th>176</th>\n",
       "      <td>ForecasterRecursiveMultiSeries</td>\n",
       "      <td>LGBMRegressor</td>\n",
       "      <td>ForecasterRecursiveMultiSeries_fit_series_is_d...</td>\n",
       "      <td>aa35b8ba0c0839021a95e5ba0786a67e</td>\n",
       "      <td>12.067933</td>\n",
       "      <td>0.734881</td>\n",
       "      <td>2025-04-23 22:11:33.311522</td>\n",
       "      <td>3.12.9</td>\n",
       "      <td>0.14.0</td>\n",
       "      <td>2.2.5</td>\n",
       "      <td>2.2.3</td>\n",
       "      <td>1.6.1</td>\n",
       "      <td>4.6.0</td>\n",
       "      <td>Linux-6.11.0-21-generic-x86_64-with-glibc2.39</td>\n",
       "      <td>x86_64</td>\n",
       "      <td>8</td>\n",
       "      <td>16.64</td>\n",
       "    </tr>\n",
       "    <tr>\n",
       "      <th>189</th>\n",
       "      <td>ForecasterRecursiveMultiSeries</td>\n",
       "      <td>LGBMRegressor</td>\n",
       "      <td>ForecasterRecursiveMultiSeries_fit_series_is_d...</td>\n",
       "      <td>aa35b8ba0c0839021a95e5ba0786a67e</td>\n",
       "      <td>10.102644</td>\n",
       "      <td>0.154465</td>\n",
       "      <td>2025-04-23 22:46:02.528281</td>\n",
       "      <td>3.12.9</td>\n",
       "      <td>0.14.0</td>\n",
       "      <td>2.2.5</td>\n",
       "      <td>2.2.3</td>\n",
       "      <td>1.6.1</td>\n",
       "      <td>4.6.0</td>\n",
       "      <td>Linux-6.11.0-21-generic-x86_64-with-glibc2.39</td>\n",
       "      <td>x86_64</td>\n",
       "      <td>8</td>\n",
       "      <td>16.64</td>\n",
       "    </tr>\n",
       "    <tr>\n",
       "      <th>203</th>\n",
       "      <td>ForecasterRecursiveMultiSeries</td>\n",
       "      <td>LGBMRegressor</td>\n",
       "      <td>ForecasterRecursiveMultiSeries_fit_series_is_d...</td>\n",
       "      <td>aa35b8ba0c0839021a95e5ba0786a67e</td>\n",
       "      <td>11.636991</td>\n",
       "      <td>0.093879</td>\n",
       "      <td>2025-04-23 22:54:41.422457</td>\n",
       "      <td>3.12.9</td>\n",
       "      <td>0.16.0</td>\n",
       "      <td>2.2.5</td>\n",
       "      <td>2.2.3</td>\n",
       "      <td>1.6.1</td>\n",
       "      <td>4.6.0</td>\n",
       "      <td>Linux-6.11.0-21-generic-x86_64-with-glibc2.39</td>\n",
       "      <td>x86_64</td>\n",
       "      <td>8</td>\n",
       "      <td>16.64</td>\n",
       "    </tr>\n",
       "  </tbody>\n",
       "</table>\n",
       "</div>"
      ],
      "text/plain": [
       "                    forecaster_name regressor_name  \\\n",
       "2    ForecasterRecursiveMultiSeries  LGBMRegressor   \n",
       "14   ForecasterRecursiveMultiSeries  LGBMRegressor   \n",
       "26   ForecasterRecursiveMultiSeries  LGBMRegressor   \n",
       "38     ForecasterAutoregMultiSeries  LGBMRegressor   \n",
       "50     ForecasterAutoregMultiSeries  LGBMRegressor   \n",
       "70   ForecasterRecursiveMultiSeries  LGBMRegressor   \n",
       "82   ForecasterRecursiveMultiSeries  LGBMRegressor   \n",
       "94   ForecasterRecursiveMultiSeries  LGBMRegressor   \n",
       "106  ForecasterRecursiveMultiSeries  LGBMRegressor   \n",
       "118  ForecasterRecursiveMultiSeries  LGBMRegressor   \n",
       "137  ForecasterRecursiveMultiSeries  LGBMRegressor   \n",
       "150  ForecasterRecursiveMultiSeries  LGBMRegressor   \n",
       "163  ForecasterRecursiveMultiSeries  LGBMRegressor   \n",
       "176  ForecasterRecursiveMultiSeries  LGBMRegressor   \n",
       "189  ForecasterRecursiveMultiSeries  LGBMRegressor   \n",
       "203  ForecasterRecursiveMultiSeries  LGBMRegressor   \n",
       "\n",
       "                                         function_name  \\\n",
       "2    ForecasterRecursiveMultiSeries_fit_series_is_d...   \n",
       "14   ForecasterRecursiveMultiSeries_fit_series_is_d...   \n",
       "26   ForecasterRecursiveMultiSeries_fit_series_is_d...   \n",
       "38   ForecasterRecursiveMultiSeries_fit_series_is_d...   \n",
       "50   ForecasterRecursiveMultiSeries_fit_series_is_d...   \n",
       "70   ForecasterRecursiveMultiSeries_fit_series_is_d...   \n",
       "82   ForecasterRecursiveMultiSeries_fit_series_is_d...   \n",
       "94   ForecasterRecursiveMultiSeries_fit_series_is_d...   \n",
       "106  ForecasterRecursiveMultiSeries_fit_series_is_d...   \n",
       "118  ForecasterRecursiveMultiSeries_fit_series_is_d...   \n",
       "137  ForecasterRecursiveMultiSeries_fit_series_is_d...   \n",
       "150  ForecasterRecursiveMultiSeries_fit_series_is_d...   \n",
       "163  ForecasterRecursiveMultiSeries_fit_series_is_d...   \n",
       "176  ForecasterRecursiveMultiSeries_fit_series_is_d...   \n",
       "189  ForecasterRecursiveMultiSeries_fit_series_is_d...   \n",
       "203  ForecasterRecursiveMultiSeries_fit_series_is_d...   \n",
       "\n",
       "                        function_hash  run_time_avg  run_time_std_dev  \\\n",
       "2    aa35b8ba0c0839021a95e5ba0786a67e     11.580742          0.917493   \n",
       "14   aa35b8ba0c0839021a95e5ba0786a67e     10.828553          0.107749   \n",
       "26   aa35b8ba0c0839021a95e5ba0786a67e     10.099889          0.160311   \n",
       "38   aa35b8ba0c0839021a95e5ba0786a67e     11.003430          0.223845   \n",
       "50   aa35b8ba0c0839021a95e5ba0786a67e     11.890319          0.521044   \n",
       "70   aa35b8ba0c0839021a95e5ba0786a67e     10.926485          0.812523   \n",
       "82   aa35b8ba0c0839021a95e5ba0786a67e     11.199184          0.096970   \n",
       "94   aa35b8ba0c0839021a95e5ba0786a67e     11.031137          0.134091   \n",
       "106  aa35b8ba0c0839021a95e5ba0786a67e     11.330288          0.895549   \n",
       "118  aa35b8ba0c0839021a95e5ba0786a67e     10.856502          0.081189   \n",
       "137  aa35b8ba0c0839021a95e5ba0786a67e     12.595582          0.764868   \n",
       "150  aa35b8ba0c0839021a95e5ba0786a67e     13.922733          1.839202   \n",
       "163  aa35b8ba0c0839021a95e5ba0786a67e     12.949121          1.421564   \n",
       "176  aa35b8ba0c0839021a95e5ba0786a67e     12.067933          0.734881   \n",
       "189  aa35b8ba0c0839021a95e5ba0786a67e     10.102644          0.154465   \n",
       "203  aa35b8ba0c0839021a95e5ba0786a67e     11.636991          0.093879   \n",
       "\n",
       "                      datetime python_version skforecast_version  \\\n",
       "2   2025-04-23 15:04:35.688064         3.12.9             0.16.0   \n",
       "14  2025-04-23 15:10:30.369368         3.12.9             0.15.1   \n",
       "26  2025-04-23 15:14:29.454622         3.12.9             0.14.0   \n",
       "38  2025-04-23 15:26:39.645552         3.12.9             0.13.0   \n",
       "50  2025-04-23 15:36:00.563508         3.12.9             0.13.0   \n",
       "70  2025-04-23 15:55:14.322641         3.12.9             0.14.0   \n",
       "82  2025-04-23 15:59:28.536409         3.12.9             0.15.1   \n",
       "94  2025-04-23 16:03:59.522090         3.12.9             0.15.1   \n",
       "106 2025-04-23 16:07:19.282706         3.12.9             0.16.0   \n",
       "118 2025-04-23 16:10:51.876257         3.12.9             0.16.0   \n",
       "137 2025-04-23 20:11:48.503217         3.12.9             0.16.0   \n",
       "150 2025-04-23 20:17:20.571857         3.12.9             0.15.1   \n",
       "163 2025-04-23 21:58:23.255455         3.12.9             0.15.1   \n",
       "176 2025-04-23 22:11:33.311522         3.12.9             0.14.0   \n",
       "189 2025-04-23 22:46:02.528281         3.12.9             0.14.0   \n",
       "203 2025-04-23 22:54:41.422457         3.12.9             0.16.0   \n",
       "\n",
       "    numpy_version pandas_version sklearn_version lightgbm_version  \\\n",
       "2           2.2.5          2.2.3           1.6.1            4.6.0   \n",
       "14          2.2.5          2.2.3           1.6.1            4.6.0   \n",
       "26          2.2.5          2.2.3           1.6.1            4.6.0   \n",
       "38          2.2.5          2.2.3           1.6.1            4.6.0   \n",
       "50          2.2.5          2.2.3           1.6.1            4.6.0   \n",
       "70          2.2.5          2.2.3           1.6.1            4.6.0   \n",
       "82          2.2.5          2.2.3           1.6.1            4.6.0   \n",
       "94          2.2.5          2.2.3           1.6.1            4.6.0   \n",
       "106         2.2.5          2.2.3           1.6.1            4.6.0   \n",
       "118         2.2.5          2.2.3           1.6.1            4.6.0   \n",
       "137         2.2.5          2.2.3           1.6.1            4.6.0   \n",
       "150         2.2.5          2.2.3           1.6.1            4.6.0   \n",
       "163         2.2.5          2.2.3           1.6.1            4.6.0   \n",
       "176         2.2.5          2.2.3           1.6.1            4.6.0   \n",
       "189         2.2.5          2.2.3           1.6.1            4.6.0   \n",
       "203         2.2.5          2.2.3           1.6.1            4.6.0   \n",
       "\n",
       "                                          platform processor  cpu_count  \\\n",
       "2    Linux-6.11.0-21-generic-x86_64-with-glibc2.39    x86_64          8   \n",
       "14   Linux-6.11.0-21-generic-x86_64-with-glibc2.39    x86_64          8   \n",
       "26   Linux-6.11.0-21-generic-x86_64-with-glibc2.39    x86_64          8   \n",
       "38   Linux-6.11.0-21-generic-x86_64-with-glibc2.39    x86_64          8   \n",
       "50   Linux-6.11.0-21-generic-x86_64-with-glibc2.39    x86_64          8   \n",
       "70   Linux-6.11.0-21-generic-x86_64-with-glibc2.39    x86_64          8   \n",
       "82   Linux-6.11.0-21-generic-x86_64-with-glibc2.39    x86_64          8   \n",
       "94   Linux-6.11.0-21-generic-x86_64-with-glibc2.39    x86_64          8   \n",
       "106  Linux-6.11.0-21-generic-x86_64-with-glibc2.39    x86_64          8   \n",
       "118  Linux-6.11.0-21-generic-x86_64-with-glibc2.39    x86_64          8   \n",
       "137  Linux-6.11.0-21-generic-x86_64-with-glibc2.39    x86_64          8   \n",
       "150  Linux-6.11.0-21-generic-x86_64-with-glibc2.39    x86_64          8   \n",
       "163  Linux-6.11.0-21-generic-x86_64-with-glibc2.39    x86_64          8   \n",
       "176  Linux-6.11.0-21-generic-x86_64-with-glibc2.39    x86_64          8   \n",
       "189  Linux-6.11.0-21-generic-x86_64-with-glibc2.39    x86_64          8   \n",
       "203  Linux-6.11.0-21-generic-x86_64-with-glibc2.39    x86_64          8   \n",
       "\n",
       "     memory_gb  \n",
       "2        16.64  \n",
       "14       16.64  \n",
       "26       16.64  \n",
       "38       16.64  \n",
       "50       16.64  \n",
       "70       16.64  \n",
       "82       16.64  \n",
       "94       16.64  \n",
       "106      16.64  \n",
       "118      16.64  \n",
       "137      16.64  \n",
       "150      16.64  \n",
       "163      16.64  \n",
       "176      16.64  \n",
       "189      16.64  \n",
       "203      16.64  "
      ]
     },
     "metadata": {},
     "output_type": "display_data"
    },
    {
     "data": {
      "application/vnd.plotly.v1+json": {
       "config": {
        "plotlyServerURL": "https://plot.ly"
       },
       "data": [
        {
         "error_y": {
          "array": {
           "bdata": "s5i+1/SmzD+YdIzLZKzgPw==",
           "dtype": "f8"
          },
          "color": "#636EFA",
          "thickness": 1.5,
          "type": "data",
          "visible": true,
          "width": 5
         },
         "hovertemplate": "%{text}<extra></extra>",
         "marker": {
          "color": "#636EFA",
          "opacity": 0.7,
          "size": 10
         },
         "mode": "markers",
         "name": "Run time - 0.13.0",
         "showlegend": true,
         "text": [
          "Forecaster: ForecasterAutoregMultiSeries<br>Regressor: LGBMRegressor<br>Function: ForecasterRecursiveMultiSeries_fit_series_is_dataframe_no_exog<br>Function_hash: aa35b8ba0c0839021a95e5ba0786a67e<br>Datetime: 2025-04-23 15:26:39.645552<br>Python version: 3.12.9<br>skforecast version: 0.13.0<br>numpy version: 2.2.5<br>pandas version: 2.2.3<br>sklearn version: 1.6.1<br>lightgbm version: 4.6.0<br>Platform: Linux-6.11.0-21-generic-x86_64-with-glibc2.39<br>Processor: x86_64<br>CPU count: 8<br>Memory (GB): 16.64<br>",
          "Forecaster: ForecasterAutoregMultiSeries<br>Regressor: LGBMRegressor<br>Function: ForecasterRecursiveMultiSeries_fit_series_is_dataframe_no_exog<br>Function_hash: aa35b8ba0c0839021a95e5ba0786a67e<br>Datetime: 2025-04-23 15:36:00.563508<br>Python version: 3.12.9<br>skforecast version: 0.13.0<br>numpy version: 2.2.5<br>pandas version: 2.2.3<br>sklearn version: 1.6.1<br>lightgbm version: 4.6.0<br>Platform: Linux-6.11.0-21-generic-x86_64-with-glibc2.39<br>Processor: x86_64<br>CPU count: 8<br>Memory (GB): 16.64<br>"
         ],
         "type": "scatter",
         "x": {
          "bdata": "fByzX9/Fir9AKClBT8iAPw==",
          "dtype": "f8"
         },
         "y": {
          "bdata": "mvHLh8EBJkAzozPz18cnQA==",
          "dtype": "f8"
         }
        },
        {
         "error_y": {
          "array": {
           "bdata": "COnBIhGFxD+aWQ2XMADqP7b0t7IkhOc/ok0e7oXFwz8=",
           "dtype": "f8"
          },
          "color": "#EF553B",
          "thickness": 1.5,
          "type": "data",
          "visible": true,
          "width": 5
         },
         "hovertemplate": "%{text}<extra></extra>",
         "marker": {
          "color": "#EF553B",
          "opacity": 0.7,
          "size": 10
         },
         "mode": "markers",
         "name": "Run time - 0.14.0",
         "showlegend": true,
         "text": [
          "Forecaster: ForecasterRecursiveMultiSeries<br>Regressor: LGBMRegressor<br>Function: ForecasterRecursiveMultiSeries_fit_series_is_dataframe_no_exog<br>Function_hash: aa35b8ba0c0839021a95e5ba0786a67e<br>Datetime: 2025-04-23 15:14:29.454622<br>Python version: 3.12.9<br>skforecast version: 0.14.0<br>numpy version: 2.2.5<br>pandas version: 2.2.3<br>sklearn version: 1.6.1<br>lightgbm version: 4.6.0<br>Platform: Linux-6.11.0-21-generic-x86_64-with-glibc2.39<br>Processor: x86_64<br>CPU count: 8<br>Memory (GB): 16.64<br>",
          "Forecaster: ForecasterRecursiveMultiSeries<br>Regressor: LGBMRegressor<br>Function: ForecasterRecursiveMultiSeries_fit_series_is_dataframe_no_exog<br>Function_hash: aa35b8ba0c0839021a95e5ba0786a67e<br>Datetime: 2025-04-23 15:55:14.322641<br>Python version: 3.12.9<br>skforecast version: 0.14.0<br>numpy version: 2.2.5<br>pandas version: 2.2.3<br>sklearn version: 1.6.1<br>lightgbm version: 4.6.0<br>Platform: Linux-6.11.0-21-generic-x86_64-with-glibc2.39<br>Processor: x86_64<br>CPU count: 8<br>Memory (GB): 16.64<br>",
          "Forecaster: ForecasterRecursiveMultiSeries<br>Regressor: LGBMRegressor<br>Function: ForecasterRecursiveMultiSeries_fit_series_is_dataframe_no_exog<br>Function_hash: aa35b8ba0c0839021a95e5ba0786a67e<br>Datetime: 2025-04-23 22:11:33.311522<br>Python version: 3.12.9<br>skforecast version: 0.14.0<br>numpy version: 2.2.5<br>pandas version: 2.2.3<br>sklearn version: 1.6.1<br>lightgbm version: 4.6.0<br>Platform: Linux-6.11.0-21-generic-x86_64-with-glibc2.39<br>Processor: x86_64<br>CPU count: 8<br>Memory (GB): 16.64<br>",
          "Forecaster: ForecasterRecursiveMultiSeries<br>Regressor: LGBMRegressor<br>Function: ForecasterRecursiveMultiSeries_fit_series_is_dataframe_no_exog<br>Function_hash: aa35b8ba0c0839021a95e5ba0786a67e<br>Datetime: 2025-04-23 22:46:02.528281<br>Python version: 3.12.9<br>skforecast version: 0.14.0<br>numpy version: 2.2.5<br>pandas version: 2.2.3<br>sklearn version: 1.6.1<br>lightgbm version: 4.6.0<br>Platform: Linux-6.11.0-21-generic-x86_64-with-glibc2.39<br>Processor: x86_64<br>CPU count: 8<br>Memory (GB): 16.64<br>"
         ],
         "type": "scatter",
         "x": {
          "bdata": "WsufM0wh8D/sid4cvavwP0fPO5Hnwu4/vWqPYB4m7z8=",
          "dtype": "f8"
         },
         "y": {
          "bdata": "mg08ryQzJEAz6youXNolQDOjRh7IIihAmsEVvY00JEA=",
          "dtype": "f8"
         }
        },
        {
         "error_y": {
          "array": {
           "bdata": "KZGO6HWVuz/DkDAeBdO4P31L1eLiKcE/vmvEv15t/T8dPA7tub72Pw==",
           "dtype": "f8"
          },
          "color": "#00CC96",
          "thickness": 1.5,
          "type": "data",
          "visible": true,
          "width": 5
         },
         "hovertemplate": "%{text}<extra></extra>",
         "marker": {
          "color": "#00CC96",
          "opacity": 0.7,
          "size": 10
         },
         "mode": "markers",
         "name": "Run time - 0.15.1",
         "showlegend": true,
         "text": [
          "Forecaster: ForecasterRecursiveMultiSeries<br>Regressor: LGBMRegressor<br>Function: ForecasterRecursiveMultiSeries_fit_series_is_dataframe_no_exog<br>Function_hash: aa35b8ba0c0839021a95e5ba0786a67e<br>Datetime: 2025-04-23 15:10:30.369368<br>Python version: 3.12.9<br>skforecast version: 0.15.1<br>numpy version: 2.2.5<br>pandas version: 2.2.3<br>sklearn version: 1.6.1<br>lightgbm version: 4.6.0<br>Platform: Linux-6.11.0-21-generic-x86_64-with-glibc2.39<br>Processor: x86_64<br>CPU count: 8<br>Memory (GB): 16.64<br>",
          "Forecaster: ForecasterRecursiveMultiSeries<br>Regressor: LGBMRegressor<br>Function: ForecasterRecursiveMultiSeries_fit_series_is_dataframe_no_exog<br>Function_hash: aa35b8ba0c0839021a95e5ba0786a67e<br>Datetime: 2025-04-23 15:59:28.536409<br>Python version: 3.12.9<br>skforecast version: 0.15.1<br>numpy version: 2.2.5<br>pandas version: 2.2.3<br>sklearn version: 1.6.1<br>lightgbm version: 4.6.0<br>Platform: Linux-6.11.0-21-generic-x86_64-with-glibc2.39<br>Processor: x86_64<br>CPU count: 8<br>Memory (GB): 16.64<br>",
          "Forecaster: ForecasterRecursiveMultiSeries<br>Regressor: LGBMRegressor<br>Function: ForecasterRecursiveMultiSeries_fit_series_is_dataframe_no_exog<br>Function_hash: aa35b8ba0c0839021a95e5ba0786a67e<br>Datetime: 2025-04-23 16:03:59.522090<br>Python version: 3.12.9<br>skforecast version: 0.15.1<br>numpy version: 2.2.5<br>pandas version: 2.2.3<br>sklearn version: 1.6.1<br>lightgbm version: 4.6.0<br>Platform: Linux-6.11.0-21-generic-x86_64-with-glibc2.39<br>Processor: x86_64<br>CPU count: 8<br>Memory (GB): 16.64<br>",
          "Forecaster: ForecasterRecursiveMultiSeries<br>Regressor: LGBMRegressor<br>Function: ForecasterRecursiveMultiSeries_fit_series_is_dataframe_no_exog<br>Function_hash: aa35b8ba0c0839021a95e5ba0786a67e<br>Datetime: 2025-04-23 20:17:20.571857<br>Python version: 3.12.9<br>skforecast version: 0.15.1<br>numpy version: 2.2.5<br>pandas version: 2.2.3<br>sklearn version: 1.6.1<br>lightgbm version: 4.6.0<br>Platform: Linux-6.11.0-21-generic-x86_64-with-glibc2.39<br>Processor: x86_64<br>CPU count: 8<br>Memory (GB): 16.64<br>",
          "Forecaster: ForecasterRecursiveMultiSeries<br>Regressor: LGBMRegressor<br>Function: ForecasterRecursiveMultiSeries_fit_series_is_dataframe_no_exog<br>Function_hash: aa35b8ba0c0839021a95e5ba0786a67e<br>Datetime: 2025-04-23 21:58:23.255455<br>Python version: 3.12.9<br>skforecast version: 0.15.1<br>numpy version: 2.2.5<br>pandas version: 2.2.3<br>sklearn version: 1.6.1<br>lightgbm version: 4.6.0<br>Platform: Linux-6.11.0-21-generic-x86_64-with-glibc2.39<br>Processor: x86_64<br>CPU count: 8<br>Memory (GB): 16.64<br>"
         ],
         "type": "scatter",
         "x": {
          "bdata": "PJXABdYrAEAE9ARBKzsAQLPaQ8D49/8/3XFGslY0AEC7OdZSiFAAQA==",
          "dtype": "f8"
         },
         "y": {
          "bdata": "mqmxCjioJUAATAl9+2UmQDPDyD/xDyZAZgYndHDYK0AzQ8A/8+UpQA==",
          "dtype": "f8"
         }
        },
        {
         "error_y": {
          "array": {
           "bdata": "KK+Nyhpc7T+IShISV6jsP5LjfgzKyLQ/l/yL+sx56D8mvubtdgi4Pw==",
           "dtype": "f8"
          },
          "color": "#AB63FA",
          "thickness": 1.5,
          "type": "data",
          "visible": true,
          "width": 5
         },
         "hovertemplate": "%{text}<extra></extra>",
         "marker": {
          "color": "#AB63FA",
          "opacity": 0.7,
          "size": 10
         },
         "mode": "markers",
         "name": "Run time - 0.16.0",
         "showlegend": true,
         "text": [
          "Forecaster: ForecasterRecursiveMultiSeries<br>Regressor: LGBMRegressor<br>Function: ForecasterRecursiveMultiSeries_fit_series_is_dataframe_no_exog<br>Function_hash: aa35b8ba0c0839021a95e5ba0786a67e<br>Datetime: 2025-04-23 15:04:35.688064<br>Python version: 3.12.9<br>skforecast version: 0.16.0<br>numpy version: 2.2.5<br>pandas version: 2.2.3<br>sklearn version: 1.6.1<br>lightgbm version: 4.6.0<br>Platform: Linux-6.11.0-21-generic-x86_64-with-glibc2.39<br>Processor: x86_64<br>CPU count: 8<br>Memory (GB): 16.64<br>",
          "Forecaster: ForecasterRecursiveMultiSeries<br>Regressor: LGBMRegressor<br>Function: ForecasterRecursiveMultiSeries_fit_series_is_dataframe_no_exog<br>Function_hash: aa35b8ba0c0839021a95e5ba0786a67e<br>Datetime: 2025-04-23 16:07:19.282706<br>Python version: 3.12.9<br>skforecast version: 0.16.0<br>numpy version: 2.2.5<br>pandas version: 2.2.3<br>sklearn version: 1.6.1<br>lightgbm version: 4.6.0<br>Platform: Linux-6.11.0-21-generic-x86_64-with-glibc2.39<br>Processor: x86_64<br>CPU count: 8<br>Memory (GB): 16.64<br>",
          "Forecaster: ForecasterRecursiveMultiSeries<br>Regressor: LGBMRegressor<br>Function: ForecasterRecursiveMultiSeries_fit_series_is_dataframe_no_exog<br>Function_hash: aa35b8ba0c0839021a95e5ba0786a67e<br>Datetime: 2025-04-23 16:10:51.876257<br>Python version: 3.12.9<br>skforecast version: 0.16.0<br>numpy version: 2.2.5<br>pandas version: 2.2.3<br>sklearn version: 1.6.1<br>lightgbm version: 4.6.0<br>Platform: Linux-6.11.0-21-generic-x86_64-with-glibc2.39<br>Processor: x86_64<br>CPU count: 8<br>Memory (GB): 16.64<br>",
          "Forecaster: ForecasterRecursiveMultiSeries<br>Regressor: LGBMRegressor<br>Function: ForecasterRecursiveMultiSeries_fit_series_is_dataframe_no_exog<br>Function_hash: aa35b8ba0c0839021a95e5ba0786a67e<br>Datetime: 2025-04-23 20:11:48.503217<br>Python version: 3.12.9<br>skforecast version: 0.16.0<br>numpy version: 2.2.5<br>pandas version: 2.2.3<br>sklearn version: 1.6.1<br>lightgbm version: 4.6.0<br>Platform: Linux-6.11.0-21-generic-x86_64-with-glibc2.39<br>Processor: x86_64<br>CPU count: 8<br>Memory (GB): 16.64<br>",
          "Forecaster: ForecasterRecursiveMultiSeries<br>Regressor: LGBMRegressor<br>Function: ForecasterRecursiveMultiSeries_fit_series_is_dataframe_no_exog<br>Function_hash: aa35b8ba0c0839021a95e5ba0786a67e<br>Datetime: 2025-04-23 22:54:41.422457<br>Python version: 3.12.9<br>skforecast version: 0.16.0<br>numpy version: 2.2.5<br>pandas version: 2.2.3<br>sklearn version: 1.6.1<br>lightgbm version: 4.6.0<br>Platform: Linux-6.11.0-21-generic-x86_64-with-glibc2.39<br>Processor: x86_64<br>CPU count: 8<br>Memory (GB): 16.64<br>"
         ],
         "type": "scatter",
         "x": {
          "bdata": "wFSMOCUtCED06Y867kEIQDttXEnoOghAKuMOOLRDCEBC7DYQsQgIQA==",
          "dtype": "f8"
         },
         "y": {
          "bdata": "mmG//lYpJ0DNzLt7G6kmQGZGL2WHtiVAmlm/EPAwKUCaQQ+zI0YnQA==",
          "dtype": "f8"
         }
        },
        {
         "line": {
          "color": "black",
          "width": 2
         },
         "marker": {
          "color": "black",
          "size": 8
         },
         "mode": "lines+markers",
         "name": "Median (per version)",
         "type": "scatter",
         "x": {
          "bdata": "AAECAw==",
          "dtype": "i1"
         },
         "y": {
          "bdata": "Zsp/vczkJkBmVqD1dAclQABMCX37ZSZAmmG//lYpJ0A=",
          "dtype": "f8"
         }
        }
       ],
       "layout": {
        "showlegend": true,
        "template": {
         "data": {
          "bar": [
           {
            "error_x": {
             "color": "#2a3f5f"
            },
            "error_y": {
             "color": "#2a3f5f"
            },
            "marker": {
             "line": {
              "color": "#E5ECF6",
              "width": 0.5
             },
             "pattern": {
              "fillmode": "overlay",
              "size": 10,
              "solidity": 0.2
             }
            },
            "type": "bar"
           }
          ],
          "barpolar": [
           {
            "marker": {
             "line": {
              "color": "#E5ECF6",
              "width": 0.5
             },
             "pattern": {
              "fillmode": "overlay",
              "size": 10,
              "solidity": 0.2
             }
            },
            "type": "barpolar"
           }
          ],
          "carpet": [
           {
            "aaxis": {
             "endlinecolor": "#2a3f5f",
             "gridcolor": "white",
             "linecolor": "white",
             "minorgridcolor": "white",
             "startlinecolor": "#2a3f5f"
            },
            "baxis": {
             "endlinecolor": "#2a3f5f",
             "gridcolor": "white",
             "linecolor": "white",
             "minorgridcolor": "white",
             "startlinecolor": "#2a3f5f"
            },
            "type": "carpet"
           }
          ],
          "choropleth": [
           {
            "colorbar": {
             "outlinewidth": 0,
             "ticks": ""
            },
            "type": "choropleth"
           }
          ],
          "contour": [
           {
            "colorbar": {
             "outlinewidth": 0,
             "ticks": ""
            },
            "colorscale": [
             [
              0,
              "#0d0887"
             ],
             [
              0.1111111111111111,
              "#46039f"
             ],
             [
              0.2222222222222222,
              "#7201a8"
             ],
             [
              0.3333333333333333,
              "#9c179e"
             ],
             [
              0.4444444444444444,
              "#bd3786"
             ],
             [
              0.5555555555555556,
              "#d8576b"
             ],
             [
              0.6666666666666666,
              "#ed7953"
             ],
             [
              0.7777777777777778,
              "#fb9f3a"
             ],
             [
              0.8888888888888888,
              "#fdca26"
             ],
             [
              1,
              "#f0f921"
             ]
            ],
            "type": "contour"
           }
          ],
          "contourcarpet": [
           {
            "colorbar": {
             "outlinewidth": 0,
             "ticks": ""
            },
            "type": "contourcarpet"
           }
          ],
          "heatmap": [
           {
            "colorbar": {
             "outlinewidth": 0,
             "ticks": ""
            },
            "colorscale": [
             [
              0,
              "#0d0887"
             ],
             [
              0.1111111111111111,
              "#46039f"
             ],
             [
              0.2222222222222222,
              "#7201a8"
             ],
             [
              0.3333333333333333,
              "#9c179e"
             ],
             [
              0.4444444444444444,
              "#bd3786"
             ],
             [
              0.5555555555555556,
              "#d8576b"
             ],
             [
              0.6666666666666666,
              "#ed7953"
             ],
             [
              0.7777777777777778,
              "#fb9f3a"
             ],
             [
              0.8888888888888888,
              "#fdca26"
             ],
             [
              1,
              "#f0f921"
             ]
            ],
            "type": "heatmap"
           }
          ],
          "histogram": [
           {
            "marker": {
             "pattern": {
              "fillmode": "overlay",
              "size": 10,
              "solidity": 0.2
             }
            },
            "type": "histogram"
           }
          ],
          "histogram2d": [
           {
            "colorbar": {
             "outlinewidth": 0,
             "ticks": ""
            },
            "colorscale": [
             [
              0,
              "#0d0887"
             ],
             [
              0.1111111111111111,
              "#46039f"
             ],
             [
              0.2222222222222222,
              "#7201a8"
             ],
             [
              0.3333333333333333,
              "#9c179e"
             ],
             [
              0.4444444444444444,
              "#bd3786"
             ],
             [
              0.5555555555555556,
              "#d8576b"
             ],
             [
              0.6666666666666666,
              "#ed7953"
             ],
             [
              0.7777777777777778,
              "#fb9f3a"
             ],
             [
              0.8888888888888888,
              "#fdca26"
             ],
             [
              1,
              "#f0f921"
             ]
            ],
            "type": "histogram2d"
           }
          ],
          "histogram2dcontour": [
           {
            "colorbar": {
             "outlinewidth": 0,
             "ticks": ""
            },
            "colorscale": [
             [
              0,
              "#0d0887"
             ],
             [
              0.1111111111111111,
              "#46039f"
             ],
             [
              0.2222222222222222,
              "#7201a8"
             ],
             [
              0.3333333333333333,
              "#9c179e"
             ],
             [
              0.4444444444444444,
              "#bd3786"
             ],
             [
              0.5555555555555556,
              "#d8576b"
             ],
             [
              0.6666666666666666,
              "#ed7953"
             ],
             [
              0.7777777777777778,
              "#fb9f3a"
             ],
             [
              0.8888888888888888,
              "#fdca26"
             ],
             [
              1,
              "#f0f921"
             ]
            ],
            "type": "histogram2dcontour"
           }
          ],
          "mesh3d": [
           {
            "colorbar": {
             "outlinewidth": 0,
             "ticks": ""
            },
            "type": "mesh3d"
           }
          ],
          "parcoords": [
           {
            "line": {
             "colorbar": {
              "outlinewidth": 0,
              "ticks": ""
             }
            },
            "type": "parcoords"
           }
          ],
          "pie": [
           {
            "automargin": true,
            "type": "pie"
           }
          ],
          "scatter": [
           {
            "fillpattern": {
             "fillmode": "overlay",
             "size": 10,
             "solidity": 0.2
            },
            "type": "scatter"
           }
          ],
          "scatter3d": [
           {
            "line": {
             "colorbar": {
              "outlinewidth": 0,
              "ticks": ""
             }
            },
            "marker": {
             "colorbar": {
              "outlinewidth": 0,
              "ticks": ""
             }
            },
            "type": "scatter3d"
           }
          ],
          "scattercarpet": [
           {
            "marker": {
             "colorbar": {
              "outlinewidth": 0,
              "ticks": ""
             }
            },
            "type": "scattercarpet"
           }
          ],
          "scattergeo": [
           {
            "marker": {
             "colorbar": {
              "outlinewidth": 0,
              "ticks": ""
             }
            },
            "type": "scattergeo"
           }
          ],
          "scattergl": [
           {
            "marker": {
             "colorbar": {
              "outlinewidth": 0,
              "ticks": ""
             }
            },
            "type": "scattergl"
           }
          ],
          "scattermap": [
           {
            "marker": {
             "colorbar": {
              "outlinewidth": 0,
              "ticks": ""
             }
            },
            "type": "scattermap"
           }
          ],
          "scattermapbox": [
           {
            "marker": {
             "colorbar": {
              "outlinewidth": 0,
              "ticks": ""
             }
            },
            "type": "scattermapbox"
           }
          ],
          "scatterpolar": [
           {
            "marker": {
             "colorbar": {
              "outlinewidth": 0,
              "ticks": ""
             }
            },
            "type": "scatterpolar"
           }
          ],
          "scatterpolargl": [
           {
            "marker": {
             "colorbar": {
              "outlinewidth": 0,
              "ticks": ""
             }
            },
            "type": "scatterpolargl"
           }
          ],
          "scatterternary": [
           {
            "marker": {
             "colorbar": {
              "outlinewidth": 0,
              "ticks": ""
             }
            },
            "type": "scatterternary"
           }
          ],
          "surface": [
           {
            "colorbar": {
             "outlinewidth": 0,
             "ticks": ""
            },
            "colorscale": [
             [
              0,
              "#0d0887"
             ],
             [
              0.1111111111111111,
              "#46039f"
             ],
             [
              0.2222222222222222,
              "#7201a8"
             ],
             [
              0.3333333333333333,
              "#9c179e"
             ],
             [
              0.4444444444444444,
              "#bd3786"
             ],
             [
              0.5555555555555556,
              "#d8576b"
             ],
             [
              0.6666666666666666,
              "#ed7953"
             ],
             [
              0.7777777777777778,
              "#fb9f3a"
             ],
             [
              0.8888888888888888,
              "#fdca26"
             ],
             [
              1,
              "#f0f921"
             ]
            ],
            "type": "surface"
           }
          ],
          "table": [
           {
            "cells": {
             "fill": {
              "color": "#EBF0F8"
             },
             "line": {
              "color": "white"
             }
            },
            "header": {
             "fill": {
              "color": "#C8D4E3"
             },
             "line": {
              "color": "white"
             }
            },
            "type": "table"
           }
          ]
         },
         "layout": {
          "annotationdefaults": {
           "arrowcolor": "#2a3f5f",
           "arrowhead": 0,
           "arrowwidth": 1
          },
          "autotypenumbers": "strict",
          "coloraxis": {
           "colorbar": {
            "outlinewidth": 0,
            "ticks": ""
           }
          },
          "colorscale": {
           "diverging": [
            [
             0,
             "#8e0152"
            ],
            [
             0.1,
             "#c51b7d"
            ],
            [
             0.2,
             "#de77ae"
            ],
            [
             0.3,
             "#f1b6da"
            ],
            [
             0.4,
             "#fde0ef"
            ],
            [
             0.5,
             "#f7f7f7"
            ],
            [
             0.6,
             "#e6f5d0"
            ],
            [
             0.7,
             "#b8e186"
            ],
            [
             0.8,
             "#7fbc41"
            ],
            [
             0.9,
             "#4d9221"
            ],
            [
             1,
             "#276419"
            ]
           ],
           "sequential": [
            [
             0,
             "#0d0887"
            ],
            [
             0.1111111111111111,
             "#46039f"
            ],
            [
             0.2222222222222222,
             "#7201a8"
            ],
            [
             0.3333333333333333,
             "#9c179e"
            ],
            [
             0.4444444444444444,
             "#bd3786"
            ],
            [
             0.5555555555555556,
             "#d8576b"
            ],
            [
             0.6666666666666666,
             "#ed7953"
            ],
            [
             0.7777777777777778,
             "#fb9f3a"
            ],
            [
             0.8888888888888888,
             "#fdca26"
            ],
            [
             1,
             "#f0f921"
            ]
           ],
           "sequentialminus": [
            [
             0,
             "#0d0887"
            ],
            [
             0.1111111111111111,
             "#46039f"
            ],
            [
             0.2222222222222222,
             "#7201a8"
            ],
            [
             0.3333333333333333,
             "#9c179e"
            ],
            [
             0.4444444444444444,
             "#bd3786"
            ],
            [
             0.5555555555555556,
             "#d8576b"
            ],
            [
             0.6666666666666666,
             "#ed7953"
            ],
            [
             0.7777777777777778,
             "#fb9f3a"
            ],
            [
             0.8888888888888888,
             "#fdca26"
            ],
            [
             1,
             "#f0f921"
            ]
           ]
          },
          "colorway": [
           "#636efa",
           "#EF553B",
           "#00cc96",
           "#ab63fa",
           "#FFA15A",
           "#19d3f3",
           "#FF6692",
           "#B6E880",
           "#FF97FF",
           "#FECB52"
          ],
          "font": {
           "color": "#2a3f5f"
          },
          "geo": {
           "bgcolor": "white",
           "lakecolor": "white",
           "landcolor": "#E5ECF6",
           "showlakes": true,
           "showland": true,
           "subunitcolor": "white"
          },
          "hoverlabel": {
           "align": "left"
          },
          "hovermode": "closest",
          "mapbox": {
           "style": "light"
          },
          "paper_bgcolor": "white",
          "plot_bgcolor": "#E5ECF6",
          "polar": {
           "angularaxis": {
            "gridcolor": "white",
            "linecolor": "white",
            "ticks": ""
           },
           "bgcolor": "#E5ECF6",
           "radialaxis": {
            "gridcolor": "white",
            "linecolor": "white",
            "ticks": ""
           }
          },
          "scene": {
           "xaxis": {
            "backgroundcolor": "#E5ECF6",
            "gridcolor": "white",
            "gridwidth": 2,
            "linecolor": "white",
            "showbackground": true,
            "ticks": "",
            "zerolinecolor": "white"
           },
           "yaxis": {
            "backgroundcolor": "#E5ECF6",
            "gridcolor": "white",
            "gridwidth": 2,
            "linecolor": "white",
            "showbackground": true,
            "ticks": "",
            "zerolinecolor": "white"
           },
           "zaxis": {
            "backgroundcolor": "#E5ECF6",
            "gridcolor": "white",
            "gridwidth": 2,
            "linecolor": "white",
            "showbackground": true,
            "ticks": "",
            "zerolinecolor": "white"
           }
          },
          "shapedefaults": {
           "line": {
            "color": "#2a3f5f"
           }
          },
          "ternary": {
           "aaxis": {
            "gridcolor": "white",
            "linecolor": "white",
            "ticks": ""
           },
           "baxis": {
            "gridcolor": "white",
            "linecolor": "white",
            "ticks": ""
           },
           "bgcolor": "#E5ECF6",
           "caxis": {
            "gridcolor": "white",
            "linecolor": "white",
            "ticks": ""
           }
          },
          "title": {
           "x": 0.05
          },
          "xaxis": {
           "automargin": true,
           "gridcolor": "white",
           "linecolor": "white",
           "ticks": "",
           "title": {
            "standoff": 15
           },
           "zerolinecolor": "white",
           "zerolinewidth": 2
          },
          "yaxis": {
           "automargin": true,
           "gridcolor": "white",
           "linecolor": "white",
           "ticks": "",
           "title": {
            "standoff": 15
           },
           "zerolinecolor": "white",
           "zerolinewidth": 2
          }
         }
        },
        "title": {
         "text": "Execution time of ForecasterRecursiveMultiSeries_fit_series_is_dataframe_no_exog"
        },
        "xaxis": {
         "tickangle": -45,
         "tickmode": "array",
         "ticktext": [
          "0.13.0",
          "0.14.0",
          "0.15.1",
          "0.16.0"
         ],
         "tickvals": [
          0,
          1,
          2,
          3
         ],
         "title": {
          "text": "skforecast version"
         }
        },
        "yaxis": {
         "title": {
          "text": "Execution time (seconds)"
         }
        }
       }
      }
     },
     "metadata": {},
     "output_type": "display_data"
    },
    {
     "data": {
      "application/vnd.microsoft.datawrangler.viewer.v0+json": {
       "columns": [
        {
         "name": "index",
         "rawType": "int64",
         "type": "integer"
        },
        {
         "name": "forecaster_name",
         "rawType": "object",
         "type": "string"
        },
        {
         "name": "regressor_name",
         "rawType": "object",
         "type": "string"
        },
        {
         "name": "function_name",
         "rawType": "object",
         "type": "string"
        },
        {
         "name": "function_hash",
         "rawType": "object",
         "type": "string"
        },
        {
         "name": "run_time_avg",
         "rawType": "float64",
         "type": "float"
        },
        {
         "name": "run_time_std_dev",
         "rawType": "float64",
         "type": "float"
        },
        {
         "name": "datetime",
         "rawType": "datetime64[ns]",
         "type": "datetime"
        },
        {
         "name": "python_version",
         "rawType": "object",
         "type": "string"
        },
        {
         "name": "skforecast_version",
         "rawType": "object",
         "type": "string"
        },
        {
         "name": "numpy_version",
         "rawType": "object",
         "type": "string"
        },
        {
         "name": "pandas_version",
         "rawType": "object",
         "type": "string"
        },
        {
         "name": "sklearn_version",
         "rawType": "object",
         "type": "string"
        },
        {
         "name": "lightgbm_version",
         "rawType": "object",
         "type": "string"
        },
        {
         "name": "platform",
         "rawType": "object",
         "type": "string"
        },
        {
         "name": "processor",
         "rawType": "object",
         "type": "string"
        },
        {
         "name": "cpu_count",
         "rawType": "int64",
         "type": "integer"
        },
        {
         "name": "memory_gb",
         "rawType": "float64",
         "type": "float"
        }
       ],
       "conversionMethod": "pd.DataFrame",
       "ref": "4028b9fb-680b-4de8-be21-a79e10545069",
       "rows": [
        [
         "3",
         "ForecasterRecursiveMultiSeries",
         "LGBMRegressor",
         "ForecasterRecursiveMultiSeries__create_train_X_y_series_is_dataframe_no_exog",
         "7b994fdfa33ce4a2084e303d3f49c934",
         "1.224587258599786",
         "0.05587293716700449",
         "2025-04-23 15:05:33.595536",
         "3.12.9",
         "0.16.0",
         "2.2.5",
         "2.2.3",
         "1.6.1",
         "4.6.0",
         "Linux-6.11.0-21-generic-x86_64-with-glibc2.39",
         "x86_64",
         "8",
         "16.64"
        ],
        [
         "15",
         "ForecasterRecursiveMultiSeries",
         "LGBMRegressor",
         "ForecasterRecursiveMultiSeries__create_train_X_y_series_is_dataframe_no_exog",
         "7b994fdfa33ce4a2084e303d3f49c934",
         "1.3752847158000805",
         "0.04080937138281831",
         "2025-04-23 15:11:24.516068",
         "3.12.9",
         "0.15.1",
         "2.2.5",
         "2.2.3",
         "1.6.1",
         "4.6.0",
         "Linux-6.11.0-21-generic-x86_64-with-glibc2.39",
         "x86_64",
         "8",
         "16.64"
        ],
        [
         "27",
         "ForecasterRecursiveMultiSeries",
         "LGBMRegressor",
         "ForecasterRecursiveMultiSeries__create_train_X_y_series_is_dataframe_no_exog",
         "7b994fdfa33ce4a2084e303d3f49c934",
         "1.5178149886000027",
         "0.06487078285726446",
         "2025-04-23 15:15:19.958170",
         "3.12.9",
         "0.14.0",
         "2.2.5",
         "2.2.3",
         "1.6.1",
         "4.6.0",
         "Linux-6.11.0-21-generic-x86_64-with-glibc2.39",
         "x86_64",
         "8",
         "16.64"
        ],
        [
         "39",
         "ForecasterAutoregMultiSeries",
         "LGBMRegressor",
         "ForecasterRecursiveMultiSeries__create_train_X_y_series_is_dataframe_no_exog",
         "7b994fdfa33ce4a2084e303d3f49c934",
         "2.004792998599805",
         "0.040390453202346376",
         "2025-04-23 15:27:34.667213",
         "3.12.9",
         "0.13.0",
         "2.2.5",
         "2.2.3",
         "1.6.1",
         "4.6.0",
         "Linux-6.11.0-21-generic-x86_64-with-glibc2.39",
         "x86_64",
         "8",
         "16.64"
        ],
        [
         "51",
         "ForecasterAutoregMultiSeries",
         "LGBMRegressor",
         "ForecasterRecursiveMultiSeries__create_train_X_y_series_is_dataframe_no_exog",
         "7b994fdfa33ce4a2084e303d3f49c934",
         "2.1468762618002075",
         "0.07092364681439763",
         "2025-04-23 15:37:00.019066",
         "3.12.9",
         "0.13.0",
         "2.2.5",
         "2.2.3",
         "1.6.1",
         "4.6.0",
         "Linux-6.11.0-21-generic-x86_64-with-glibc2.39",
         "x86_64",
         "8",
         "16.64"
        ],
        [
         "71",
         "ForecasterRecursiveMultiSeries",
         "LGBMRegressor",
         "ForecasterRecursiveMultiSeries__create_train_X_y_series_is_dataframe_no_exog",
         "7b994fdfa33ce4a2084e303d3f49c934",
         "1.5680713575999108",
         "0.11975023935877259",
         "2025-04-23 15:56:08.959300",
         "3.12.9",
         "0.14.0",
         "2.2.5",
         "2.2.3",
         "1.6.1",
         "4.6.0",
         "Linux-6.11.0-21-generic-x86_64-with-glibc2.39",
         "x86_64",
         "8",
         "16.64"
        ],
        [
         "83",
         "ForecasterRecursiveMultiSeries",
         "LGBMRegressor",
         "ForecasterRecursiveMultiSeries__create_train_X_y_series_is_dataframe_no_exog",
         "7b994fdfa33ce4a2084e303d3f49c934",
         "1.4110513256000559",
         "0.0552338022912185",
         "2025-04-23 16:00:24.536982",
         "3.12.9",
         "0.15.1",
         "2.2.5",
         "2.2.3",
         "1.6.1",
         "4.6.0",
         "Linux-6.11.0-21-generic-x86_64-with-glibc2.39",
         "x86_64",
         "8",
         "16.64"
        ],
        [
         "95",
         "ForecasterRecursiveMultiSeries",
         "LGBMRegressor",
         "ForecasterRecursiveMultiSeries__create_train_X_y_series_is_dataframe_no_exog",
         "7b994fdfa33ce4a2084e303d3f49c934",
         "1.3851723968000442",
         "0.04795218960991431",
         "2025-04-23 16:04:54.682880",
         "3.12.9",
         "0.15.1",
         "2.2.5",
         "2.2.3",
         "1.6.1",
         "4.6.0",
         "Linux-6.11.0-21-generic-x86_64-with-glibc2.39",
         "x86_64",
         "8",
         "16.64"
        ],
        [
         "107",
         "ForecasterRecursiveMultiSeries",
         "LGBMRegressor",
         "ForecasterRecursiveMultiSeries__create_train_X_y_series_is_dataframe_no_exog",
         "7b994fdfa33ce4a2084e303d3f49c934",
         "1.2708649014006368",
         "0.041491441753420046",
         "2025-04-23 16:08:15.939377",
         "3.12.9",
         "0.16.0",
         "2.2.5",
         "2.2.3",
         "1.6.1",
         "4.6.0",
         "Linux-6.11.0-21-generic-x86_64-with-glibc2.39",
         "x86_64",
         "8",
         "16.64"
        ],
        [
         "119",
         "ForecasterRecursiveMultiSeries",
         "LGBMRegressor",
         "ForecasterRecursiveMultiSeries__create_train_X_y_series_is_dataframe_no_exog",
         "7b994fdfa33ce4a2084e303d3f49c934",
         "1.2067093659999955",
         "0.044673697694996996",
         "2025-04-23 16:11:46.163407",
         "3.12.9",
         "0.16.0",
         "2.2.5",
         "2.2.3",
         "1.6.1",
         "4.6.0",
         "Linux-6.11.0-21-generic-x86_64-with-glibc2.39",
         "x86_64",
         "8",
         "16.64"
        ],
        [
         "138",
         "ForecasterRecursiveMultiSeries",
         "LGBMRegressor",
         "ForecasterRecursiveMultiSeries__create_train_X_y_series_is_dataframe_no_exog",
         "7b994fdfa33ce4a2084e303d3f49c934",
         "1.197850343400205",
         "0.055166203872682014",
         "2025-04-23 20:12:51.486074",
         "3.12.9",
         "0.16.0",
         "2.2.5",
         "2.2.3",
         "1.6.1",
         "4.6.0",
         "Linux-6.11.0-21-generic-x86_64-with-glibc2.39",
         "x86_64",
         "8",
         "16.64"
        ],
        [
         "151",
         "ForecasterRecursiveMultiSeries",
         "LGBMRegressor",
         "ForecasterRecursiveMultiSeries__create_train_X_y_series_is_dataframe_no_exog",
         "7b994fdfa33ce4a2084e303d3f49c934",
         "1.4069180706002953",
         "0.04480369807744373",
         "2025-04-23 20:18:30.189994",
         "3.12.9",
         "0.15.1",
         "2.2.5",
         "2.2.3",
         "1.6.1",
         "4.6.0",
         "Linux-6.11.0-21-generic-x86_64-with-glibc2.39",
         "x86_64",
         "8",
         "16.64"
        ],
        [
         "164",
         "ForecasterRecursiveMultiSeries",
         "LGBMRegressor",
         "ForecasterRecursiveMultiSeries__create_train_X_y_series_is_dataframe_no_exog",
         "7b994fdfa33ce4a2084e303d3f49c934",
         "1.52154206539999",
         "0.18620197070931732",
         "2025-04-23 21:59:28.005422",
         "3.12.9",
         "0.15.1",
         "2.2.5",
         "2.2.3",
         "1.6.1",
         "4.6.0",
         "Linux-6.11.0-21-generic-x86_64-with-glibc2.39",
         "x86_64",
         "8",
         "16.64"
        ],
        [
         "177",
         "ForecasterRecursiveMultiSeries",
         "LGBMRegressor",
         "ForecasterRecursiveMultiSeries__create_train_X_y_series_is_dataframe_no_exog",
         "7b994fdfa33ce4a2084e303d3f49c934",
         "1.7446413105986722",
         "0.15812507321578034",
         "2025-04-23 22:12:33.655628",
         "3.12.9",
         "0.14.0",
         "2.2.5",
         "2.2.3",
         "1.6.1",
         "4.6.0",
         "Linux-6.11.0-21-generic-x86_64-with-glibc2.39",
         "x86_64",
         "8",
         "16.64"
        ],
        [
         "190",
         "ForecasterRecursiveMultiSeries",
         "LGBMRegressor",
         "ForecasterRecursiveMultiSeries__create_train_X_y_series_is_dataframe_no_exog",
         "7b994fdfa33ce4a2084e303d3f49c934",
         "1.5092083322007965",
         "0.0366391915304037",
         "2025-04-23 22:46:53.046523",
         "3.12.9",
         "0.14.0",
         "2.2.5",
         "2.2.3",
         "1.6.1",
         "4.6.0",
         "Linux-6.11.0-21-generic-x86_64-with-glibc2.39",
         "x86_64",
         "8",
         "16.64"
        ],
        [
         "204",
         "ForecasterRecursiveMultiSeries",
         "LGBMRegressor",
         "ForecasterRecursiveMultiSeries__create_train_X_y_series_is_dataframe_no_exog",
         "7b994fdfa33ce4a2084e303d3f49c934",
         "1.2554045479992055",
         "0.04951178324026535",
         "2025-04-23 22:55:39.612327",
         "3.12.9",
         "0.16.0",
         "2.2.5",
         "2.2.3",
         "1.6.1",
         "4.6.0",
         "Linux-6.11.0-21-generic-x86_64-with-glibc2.39",
         "x86_64",
         "8",
         "16.64"
        ]
       ],
       "shape": {
        "columns": 17,
        "rows": 16
       }
      },
      "text/html": [
       "<div>\n",
       "<style scoped>\n",
       "    .dataframe tbody tr th:only-of-type {\n",
       "        vertical-align: middle;\n",
       "    }\n",
       "\n",
       "    .dataframe tbody tr th {\n",
       "        vertical-align: top;\n",
       "    }\n",
       "\n",
       "    .dataframe thead th {\n",
       "        text-align: right;\n",
       "    }\n",
       "</style>\n",
       "<table border=\"1\" class=\"dataframe\">\n",
       "  <thead>\n",
       "    <tr style=\"text-align: right;\">\n",
       "      <th></th>\n",
       "      <th>forecaster_name</th>\n",
       "      <th>regressor_name</th>\n",
       "      <th>function_name</th>\n",
       "      <th>function_hash</th>\n",
       "      <th>run_time_avg</th>\n",
       "      <th>run_time_std_dev</th>\n",
       "      <th>datetime</th>\n",
       "      <th>python_version</th>\n",
       "      <th>skforecast_version</th>\n",
       "      <th>numpy_version</th>\n",
       "      <th>pandas_version</th>\n",
       "      <th>sklearn_version</th>\n",
       "      <th>lightgbm_version</th>\n",
       "      <th>platform</th>\n",
       "      <th>processor</th>\n",
       "      <th>cpu_count</th>\n",
       "      <th>memory_gb</th>\n",
       "    </tr>\n",
       "  </thead>\n",
       "  <tbody>\n",
       "    <tr>\n",
       "      <th>3</th>\n",
       "      <td>ForecasterRecursiveMultiSeries</td>\n",
       "      <td>LGBMRegressor</td>\n",
       "      <td>ForecasterRecursiveMultiSeries__create_train_X...</td>\n",
       "      <td>7b994fdfa33ce4a2084e303d3f49c934</td>\n",
       "      <td>1.224587</td>\n",
       "      <td>0.055873</td>\n",
       "      <td>2025-04-23 15:05:33.595536</td>\n",
       "      <td>3.12.9</td>\n",
       "      <td>0.16.0</td>\n",
       "      <td>2.2.5</td>\n",
       "      <td>2.2.3</td>\n",
       "      <td>1.6.1</td>\n",
       "      <td>4.6.0</td>\n",
       "      <td>Linux-6.11.0-21-generic-x86_64-with-glibc2.39</td>\n",
       "      <td>x86_64</td>\n",
       "      <td>8</td>\n",
       "      <td>16.64</td>\n",
       "    </tr>\n",
       "    <tr>\n",
       "      <th>15</th>\n",
       "      <td>ForecasterRecursiveMultiSeries</td>\n",
       "      <td>LGBMRegressor</td>\n",
       "      <td>ForecasterRecursiveMultiSeries__create_train_X...</td>\n",
       "      <td>7b994fdfa33ce4a2084e303d3f49c934</td>\n",
       "      <td>1.375285</td>\n",
       "      <td>0.040809</td>\n",
       "      <td>2025-04-23 15:11:24.516068</td>\n",
       "      <td>3.12.9</td>\n",
       "      <td>0.15.1</td>\n",
       "      <td>2.2.5</td>\n",
       "      <td>2.2.3</td>\n",
       "      <td>1.6.1</td>\n",
       "      <td>4.6.0</td>\n",
       "      <td>Linux-6.11.0-21-generic-x86_64-with-glibc2.39</td>\n",
       "      <td>x86_64</td>\n",
       "      <td>8</td>\n",
       "      <td>16.64</td>\n",
       "    </tr>\n",
       "    <tr>\n",
       "      <th>27</th>\n",
       "      <td>ForecasterRecursiveMultiSeries</td>\n",
       "      <td>LGBMRegressor</td>\n",
       "      <td>ForecasterRecursiveMultiSeries__create_train_X...</td>\n",
       "      <td>7b994fdfa33ce4a2084e303d3f49c934</td>\n",
       "      <td>1.517815</td>\n",
       "      <td>0.064871</td>\n",
       "      <td>2025-04-23 15:15:19.958170</td>\n",
       "      <td>3.12.9</td>\n",
       "      <td>0.14.0</td>\n",
       "      <td>2.2.5</td>\n",
       "      <td>2.2.3</td>\n",
       "      <td>1.6.1</td>\n",
       "      <td>4.6.0</td>\n",
       "      <td>Linux-6.11.0-21-generic-x86_64-with-glibc2.39</td>\n",
       "      <td>x86_64</td>\n",
       "      <td>8</td>\n",
       "      <td>16.64</td>\n",
       "    </tr>\n",
       "    <tr>\n",
       "      <th>39</th>\n",
       "      <td>ForecasterAutoregMultiSeries</td>\n",
       "      <td>LGBMRegressor</td>\n",
       "      <td>ForecasterRecursiveMultiSeries__create_train_X...</td>\n",
       "      <td>7b994fdfa33ce4a2084e303d3f49c934</td>\n",
       "      <td>2.004793</td>\n",
       "      <td>0.040390</td>\n",
       "      <td>2025-04-23 15:27:34.667213</td>\n",
       "      <td>3.12.9</td>\n",
       "      <td>0.13.0</td>\n",
       "      <td>2.2.5</td>\n",
       "      <td>2.2.3</td>\n",
       "      <td>1.6.1</td>\n",
       "      <td>4.6.0</td>\n",
       "      <td>Linux-6.11.0-21-generic-x86_64-with-glibc2.39</td>\n",
       "      <td>x86_64</td>\n",
       "      <td>8</td>\n",
       "      <td>16.64</td>\n",
       "    </tr>\n",
       "    <tr>\n",
       "      <th>51</th>\n",
       "      <td>ForecasterAutoregMultiSeries</td>\n",
       "      <td>LGBMRegressor</td>\n",
       "      <td>ForecasterRecursiveMultiSeries__create_train_X...</td>\n",
       "      <td>7b994fdfa33ce4a2084e303d3f49c934</td>\n",
       "      <td>2.146876</td>\n",
       "      <td>0.070924</td>\n",
       "      <td>2025-04-23 15:37:00.019066</td>\n",
       "      <td>3.12.9</td>\n",
       "      <td>0.13.0</td>\n",
       "      <td>2.2.5</td>\n",
       "      <td>2.2.3</td>\n",
       "      <td>1.6.1</td>\n",
       "      <td>4.6.0</td>\n",
       "      <td>Linux-6.11.0-21-generic-x86_64-with-glibc2.39</td>\n",
       "      <td>x86_64</td>\n",
       "      <td>8</td>\n",
       "      <td>16.64</td>\n",
       "    </tr>\n",
       "    <tr>\n",
       "      <th>71</th>\n",
       "      <td>ForecasterRecursiveMultiSeries</td>\n",
       "      <td>LGBMRegressor</td>\n",
       "      <td>ForecasterRecursiveMultiSeries__create_train_X...</td>\n",
       "      <td>7b994fdfa33ce4a2084e303d3f49c934</td>\n",
       "      <td>1.568071</td>\n",
       "      <td>0.119750</td>\n",
       "      <td>2025-04-23 15:56:08.959300</td>\n",
       "      <td>3.12.9</td>\n",
       "      <td>0.14.0</td>\n",
       "      <td>2.2.5</td>\n",
       "      <td>2.2.3</td>\n",
       "      <td>1.6.1</td>\n",
       "      <td>4.6.0</td>\n",
       "      <td>Linux-6.11.0-21-generic-x86_64-with-glibc2.39</td>\n",
       "      <td>x86_64</td>\n",
       "      <td>8</td>\n",
       "      <td>16.64</td>\n",
       "    </tr>\n",
       "    <tr>\n",
       "      <th>83</th>\n",
       "      <td>ForecasterRecursiveMultiSeries</td>\n",
       "      <td>LGBMRegressor</td>\n",
       "      <td>ForecasterRecursiveMultiSeries__create_train_X...</td>\n",
       "      <td>7b994fdfa33ce4a2084e303d3f49c934</td>\n",
       "      <td>1.411051</td>\n",
       "      <td>0.055234</td>\n",
       "      <td>2025-04-23 16:00:24.536982</td>\n",
       "      <td>3.12.9</td>\n",
       "      <td>0.15.1</td>\n",
       "      <td>2.2.5</td>\n",
       "      <td>2.2.3</td>\n",
       "      <td>1.6.1</td>\n",
       "      <td>4.6.0</td>\n",
       "      <td>Linux-6.11.0-21-generic-x86_64-with-glibc2.39</td>\n",
       "      <td>x86_64</td>\n",
       "      <td>8</td>\n",
       "      <td>16.64</td>\n",
       "    </tr>\n",
       "    <tr>\n",
       "      <th>95</th>\n",
       "      <td>ForecasterRecursiveMultiSeries</td>\n",
       "      <td>LGBMRegressor</td>\n",
       "      <td>ForecasterRecursiveMultiSeries__create_train_X...</td>\n",
       "      <td>7b994fdfa33ce4a2084e303d3f49c934</td>\n",
       "      <td>1.385172</td>\n",
       "      <td>0.047952</td>\n",
       "      <td>2025-04-23 16:04:54.682880</td>\n",
       "      <td>3.12.9</td>\n",
       "      <td>0.15.1</td>\n",
       "      <td>2.2.5</td>\n",
       "      <td>2.2.3</td>\n",
       "      <td>1.6.1</td>\n",
       "      <td>4.6.0</td>\n",
       "      <td>Linux-6.11.0-21-generic-x86_64-with-glibc2.39</td>\n",
       "      <td>x86_64</td>\n",
       "      <td>8</td>\n",
       "      <td>16.64</td>\n",
       "    </tr>\n",
       "    <tr>\n",
       "      <th>107</th>\n",
       "      <td>ForecasterRecursiveMultiSeries</td>\n",
       "      <td>LGBMRegressor</td>\n",
       "      <td>ForecasterRecursiveMultiSeries__create_train_X...</td>\n",
       "      <td>7b994fdfa33ce4a2084e303d3f49c934</td>\n",
       "      <td>1.270865</td>\n",
       "      <td>0.041491</td>\n",
       "      <td>2025-04-23 16:08:15.939377</td>\n",
       "      <td>3.12.9</td>\n",
       "      <td>0.16.0</td>\n",
       "      <td>2.2.5</td>\n",
       "      <td>2.2.3</td>\n",
       "      <td>1.6.1</td>\n",
       "      <td>4.6.0</td>\n",
       "      <td>Linux-6.11.0-21-generic-x86_64-with-glibc2.39</td>\n",
       "      <td>x86_64</td>\n",
       "      <td>8</td>\n",
       "      <td>16.64</td>\n",
       "    </tr>\n",
       "    <tr>\n",
       "      <th>119</th>\n",
       "      <td>ForecasterRecursiveMultiSeries</td>\n",
       "      <td>LGBMRegressor</td>\n",
       "      <td>ForecasterRecursiveMultiSeries__create_train_X...</td>\n",
       "      <td>7b994fdfa33ce4a2084e303d3f49c934</td>\n",
       "      <td>1.206709</td>\n",
       "      <td>0.044674</td>\n",
       "      <td>2025-04-23 16:11:46.163407</td>\n",
       "      <td>3.12.9</td>\n",
       "      <td>0.16.0</td>\n",
       "      <td>2.2.5</td>\n",
       "      <td>2.2.3</td>\n",
       "      <td>1.6.1</td>\n",
       "      <td>4.6.0</td>\n",
       "      <td>Linux-6.11.0-21-generic-x86_64-with-glibc2.39</td>\n",
       "      <td>x86_64</td>\n",
       "      <td>8</td>\n",
       "      <td>16.64</td>\n",
       "    </tr>\n",
       "    <tr>\n",
       "      <th>138</th>\n",
       "      <td>ForecasterRecursiveMultiSeries</td>\n",
       "      <td>LGBMRegressor</td>\n",
       "      <td>ForecasterRecursiveMultiSeries__create_train_X...</td>\n",
       "      <td>7b994fdfa33ce4a2084e303d3f49c934</td>\n",
       "      <td>1.197850</td>\n",
       "      <td>0.055166</td>\n",
       "      <td>2025-04-23 20:12:51.486074</td>\n",
       "      <td>3.12.9</td>\n",
       "      <td>0.16.0</td>\n",
       "      <td>2.2.5</td>\n",
       "      <td>2.2.3</td>\n",
       "      <td>1.6.1</td>\n",
       "      <td>4.6.0</td>\n",
       "      <td>Linux-6.11.0-21-generic-x86_64-with-glibc2.39</td>\n",
       "      <td>x86_64</td>\n",
       "      <td>8</td>\n",
       "      <td>16.64</td>\n",
       "    </tr>\n",
       "    <tr>\n",
       "      <th>151</th>\n",
       "      <td>ForecasterRecursiveMultiSeries</td>\n",
       "      <td>LGBMRegressor</td>\n",
       "      <td>ForecasterRecursiveMultiSeries__create_train_X...</td>\n",
       "      <td>7b994fdfa33ce4a2084e303d3f49c934</td>\n",
       "      <td>1.406918</td>\n",
       "      <td>0.044804</td>\n",
       "      <td>2025-04-23 20:18:30.189994</td>\n",
       "      <td>3.12.9</td>\n",
       "      <td>0.15.1</td>\n",
       "      <td>2.2.5</td>\n",
       "      <td>2.2.3</td>\n",
       "      <td>1.6.1</td>\n",
       "      <td>4.6.0</td>\n",
       "      <td>Linux-6.11.0-21-generic-x86_64-with-glibc2.39</td>\n",
       "      <td>x86_64</td>\n",
       "      <td>8</td>\n",
       "      <td>16.64</td>\n",
       "    </tr>\n",
       "    <tr>\n",
       "      <th>164</th>\n",
       "      <td>ForecasterRecursiveMultiSeries</td>\n",
       "      <td>LGBMRegressor</td>\n",
       "      <td>ForecasterRecursiveMultiSeries__create_train_X...</td>\n",
       "      <td>7b994fdfa33ce4a2084e303d3f49c934</td>\n",
       "      <td>1.521542</td>\n",
       "      <td>0.186202</td>\n",
       "      <td>2025-04-23 21:59:28.005422</td>\n",
       "      <td>3.12.9</td>\n",
       "      <td>0.15.1</td>\n",
       "      <td>2.2.5</td>\n",
       "      <td>2.2.3</td>\n",
       "      <td>1.6.1</td>\n",
       "      <td>4.6.0</td>\n",
       "      <td>Linux-6.11.0-21-generic-x86_64-with-glibc2.39</td>\n",
       "      <td>x86_64</td>\n",
       "      <td>8</td>\n",
       "      <td>16.64</td>\n",
       "    </tr>\n",
       "    <tr>\n",
       "      <th>177</th>\n",
       "      <td>ForecasterRecursiveMultiSeries</td>\n",
       "      <td>LGBMRegressor</td>\n",
       "      <td>ForecasterRecursiveMultiSeries__create_train_X...</td>\n",
       "      <td>7b994fdfa33ce4a2084e303d3f49c934</td>\n",
       "      <td>1.744641</td>\n",
       "      <td>0.158125</td>\n",
       "      <td>2025-04-23 22:12:33.655628</td>\n",
       "      <td>3.12.9</td>\n",
       "      <td>0.14.0</td>\n",
       "      <td>2.2.5</td>\n",
       "      <td>2.2.3</td>\n",
       "      <td>1.6.1</td>\n",
       "      <td>4.6.0</td>\n",
       "      <td>Linux-6.11.0-21-generic-x86_64-with-glibc2.39</td>\n",
       "      <td>x86_64</td>\n",
       "      <td>8</td>\n",
       "      <td>16.64</td>\n",
       "    </tr>\n",
       "    <tr>\n",
       "      <th>190</th>\n",
       "      <td>ForecasterRecursiveMultiSeries</td>\n",
       "      <td>LGBMRegressor</td>\n",
       "      <td>ForecasterRecursiveMultiSeries__create_train_X...</td>\n",
       "      <td>7b994fdfa33ce4a2084e303d3f49c934</td>\n",
       "      <td>1.509208</td>\n",
       "      <td>0.036639</td>\n",
       "      <td>2025-04-23 22:46:53.046523</td>\n",
       "      <td>3.12.9</td>\n",
       "      <td>0.14.0</td>\n",
       "      <td>2.2.5</td>\n",
       "      <td>2.2.3</td>\n",
       "      <td>1.6.1</td>\n",
       "      <td>4.6.0</td>\n",
       "      <td>Linux-6.11.0-21-generic-x86_64-with-glibc2.39</td>\n",
       "      <td>x86_64</td>\n",
       "      <td>8</td>\n",
       "      <td>16.64</td>\n",
       "    </tr>\n",
       "    <tr>\n",
       "      <th>204</th>\n",
       "      <td>ForecasterRecursiveMultiSeries</td>\n",
       "      <td>LGBMRegressor</td>\n",
       "      <td>ForecasterRecursiveMultiSeries__create_train_X...</td>\n",
       "      <td>7b994fdfa33ce4a2084e303d3f49c934</td>\n",
       "      <td>1.255405</td>\n",
       "      <td>0.049512</td>\n",
       "      <td>2025-04-23 22:55:39.612327</td>\n",
       "      <td>3.12.9</td>\n",
       "      <td>0.16.0</td>\n",
       "      <td>2.2.5</td>\n",
       "      <td>2.2.3</td>\n",
       "      <td>1.6.1</td>\n",
       "      <td>4.6.0</td>\n",
       "      <td>Linux-6.11.0-21-generic-x86_64-with-glibc2.39</td>\n",
       "      <td>x86_64</td>\n",
       "      <td>8</td>\n",
       "      <td>16.64</td>\n",
       "    </tr>\n",
       "  </tbody>\n",
       "</table>\n",
       "</div>"
      ],
      "text/plain": [
       "                    forecaster_name regressor_name  \\\n",
       "3    ForecasterRecursiveMultiSeries  LGBMRegressor   \n",
       "15   ForecasterRecursiveMultiSeries  LGBMRegressor   \n",
       "27   ForecasterRecursiveMultiSeries  LGBMRegressor   \n",
       "39     ForecasterAutoregMultiSeries  LGBMRegressor   \n",
       "51     ForecasterAutoregMultiSeries  LGBMRegressor   \n",
       "71   ForecasterRecursiveMultiSeries  LGBMRegressor   \n",
       "83   ForecasterRecursiveMultiSeries  LGBMRegressor   \n",
       "95   ForecasterRecursiveMultiSeries  LGBMRegressor   \n",
       "107  ForecasterRecursiveMultiSeries  LGBMRegressor   \n",
       "119  ForecasterRecursiveMultiSeries  LGBMRegressor   \n",
       "138  ForecasterRecursiveMultiSeries  LGBMRegressor   \n",
       "151  ForecasterRecursiveMultiSeries  LGBMRegressor   \n",
       "164  ForecasterRecursiveMultiSeries  LGBMRegressor   \n",
       "177  ForecasterRecursiveMultiSeries  LGBMRegressor   \n",
       "190  ForecasterRecursiveMultiSeries  LGBMRegressor   \n",
       "204  ForecasterRecursiveMultiSeries  LGBMRegressor   \n",
       "\n",
       "                                         function_name  \\\n",
       "3    ForecasterRecursiveMultiSeries__create_train_X...   \n",
       "15   ForecasterRecursiveMultiSeries__create_train_X...   \n",
       "27   ForecasterRecursiveMultiSeries__create_train_X...   \n",
       "39   ForecasterRecursiveMultiSeries__create_train_X...   \n",
       "51   ForecasterRecursiveMultiSeries__create_train_X...   \n",
       "71   ForecasterRecursiveMultiSeries__create_train_X...   \n",
       "83   ForecasterRecursiveMultiSeries__create_train_X...   \n",
       "95   ForecasterRecursiveMultiSeries__create_train_X...   \n",
       "107  ForecasterRecursiveMultiSeries__create_train_X...   \n",
       "119  ForecasterRecursiveMultiSeries__create_train_X...   \n",
       "138  ForecasterRecursiveMultiSeries__create_train_X...   \n",
       "151  ForecasterRecursiveMultiSeries__create_train_X...   \n",
       "164  ForecasterRecursiveMultiSeries__create_train_X...   \n",
       "177  ForecasterRecursiveMultiSeries__create_train_X...   \n",
       "190  ForecasterRecursiveMultiSeries__create_train_X...   \n",
       "204  ForecasterRecursiveMultiSeries__create_train_X...   \n",
       "\n",
       "                        function_hash  run_time_avg  run_time_std_dev  \\\n",
       "3    7b994fdfa33ce4a2084e303d3f49c934      1.224587          0.055873   \n",
       "15   7b994fdfa33ce4a2084e303d3f49c934      1.375285          0.040809   \n",
       "27   7b994fdfa33ce4a2084e303d3f49c934      1.517815          0.064871   \n",
       "39   7b994fdfa33ce4a2084e303d3f49c934      2.004793          0.040390   \n",
       "51   7b994fdfa33ce4a2084e303d3f49c934      2.146876          0.070924   \n",
       "71   7b994fdfa33ce4a2084e303d3f49c934      1.568071          0.119750   \n",
       "83   7b994fdfa33ce4a2084e303d3f49c934      1.411051          0.055234   \n",
       "95   7b994fdfa33ce4a2084e303d3f49c934      1.385172          0.047952   \n",
       "107  7b994fdfa33ce4a2084e303d3f49c934      1.270865          0.041491   \n",
       "119  7b994fdfa33ce4a2084e303d3f49c934      1.206709          0.044674   \n",
       "138  7b994fdfa33ce4a2084e303d3f49c934      1.197850          0.055166   \n",
       "151  7b994fdfa33ce4a2084e303d3f49c934      1.406918          0.044804   \n",
       "164  7b994fdfa33ce4a2084e303d3f49c934      1.521542          0.186202   \n",
       "177  7b994fdfa33ce4a2084e303d3f49c934      1.744641          0.158125   \n",
       "190  7b994fdfa33ce4a2084e303d3f49c934      1.509208          0.036639   \n",
       "204  7b994fdfa33ce4a2084e303d3f49c934      1.255405          0.049512   \n",
       "\n",
       "                      datetime python_version skforecast_version  \\\n",
       "3   2025-04-23 15:05:33.595536         3.12.9             0.16.0   \n",
       "15  2025-04-23 15:11:24.516068         3.12.9             0.15.1   \n",
       "27  2025-04-23 15:15:19.958170         3.12.9             0.14.0   \n",
       "39  2025-04-23 15:27:34.667213         3.12.9             0.13.0   \n",
       "51  2025-04-23 15:37:00.019066         3.12.9             0.13.0   \n",
       "71  2025-04-23 15:56:08.959300         3.12.9             0.14.0   \n",
       "83  2025-04-23 16:00:24.536982         3.12.9             0.15.1   \n",
       "95  2025-04-23 16:04:54.682880         3.12.9             0.15.1   \n",
       "107 2025-04-23 16:08:15.939377         3.12.9             0.16.0   \n",
       "119 2025-04-23 16:11:46.163407         3.12.9             0.16.0   \n",
       "138 2025-04-23 20:12:51.486074         3.12.9             0.16.0   \n",
       "151 2025-04-23 20:18:30.189994         3.12.9             0.15.1   \n",
       "164 2025-04-23 21:59:28.005422         3.12.9             0.15.1   \n",
       "177 2025-04-23 22:12:33.655628         3.12.9             0.14.0   \n",
       "190 2025-04-23 22:46:53.046523         3.12.9             0.14.0   \n",
       "204 2025-04-23 22:55:39.612327         3.12.9             0.16.0   \n",
       "\n",
       "    numpy_version pandas_version sklearn_version lightgbm_version  \\\n",
       "3           2.2.5          2.2.3           1.6.1            4.6.0   \n",
       "15          2.2.5          2.2.3           1.6.1            4.6.0   \n",
       "27          2.2.5          2.2.3           1.6.1            4.6.0   \n",
       "39          2.2.5          2.2.3           1.6.1            4.6.0   \n",
       "51          2.2.5          2.2.3           1.6.1            4.6.0   \n",
       "71          2.2.5          2.2.3           1.6.1            4.6.0   \n",
       "83          2.2.5          2.2.3           1.6.1            4.6.0   \n",
       "95          2.2.5          2.2.3           1.6.1            4.6.0   \n",
       "107         2.2.5          2.2.3           1.6.1            4.6.0   \n",
       "119         2.2.5          2.2.3           1.6.1            4.6.0   \n",
       "138         2.2.5          2.2.3           1.6.1            4.6.0   \n",
       "151         2.2.5          2.2.3           1.6.1            4.6.0   \n",
       "164         2.2.5          2.2.3           1.6.1            4.6.0   \n",
       "177         2.2.5          2.2.3           1.6.1            4.6.0   \n",
       "190         2.2.5          2.2.3           1.6.1            4.6.0   \n",
       "204         2.2.5          2.2.3           1.6.1            4.6.0   \n",
       "\n",
       "                                          platform processor  cpu_count  \\\n",
       "3    Linux-6.11.0-21-generic-x86_64-with-glibc2.39    x86_64          8   \n",
       "15   Linux-6.11.0-21-generic-x86_64-with-glibc2.39    x86_64          8   \n",
       "27   Linux-6.11.0-21-generic-x86_64-with-glibc2.39    x86_64          8   \n",
       "39   Linux-6.11.0-21-generic-x86_64-with-glibc2.39    x86_64          8   \n",
       "51   Linux-6.11.0-21-generic-x86_64-with-glibc2.39    x86_64          8   \n",
       "71   Linux-6.11.0-21-generic-x86_64-with-glibc2.39    x86_64          8   \n",
       "83   Linux-6.11.0-21-generic-x86_64-with-glibc2.39    x86_64          8   \n",
       "95   Linux-6.11.0-21-generic-x86_64-with-glibc2.39    x86_64          8   \n",
       "107  Linux-6.11.0-21-generic-x86_64-with-glibc2.39    x86_64          8   \n",
       "119  Linux-6.11.0-21-generic-x86_64-with-glibc2.39    x86_64          8   \n",
       "138  Linux-6.11.0-21-generic-x86_64-with-glibc2.39    x86_64          8   \n",
       "151  Linux-6.11.0-21-generic-x86_64-with-glibc2.39    x86_64          8   \n",
       "164  Linux-6.11.0-21-generic-x86_64-with-glibc2.39    x86_64          8   \n",
       "177  Linux-6.11.0-21-generic-x86_64-with-glibc2.39    x86_64          8   \n",
       "190  Linux-6.11.0-21-generic-x86_64-with-glibc2.39    x86_64          8   \n",
       "204  Linux-6.11.0-21-generic-x86_64-with-glibc2.39    x86_64          8   \n",
       "\n",
       "     memory_gb  \n",
       "3        16.64  \n",
       "15       16.64  \n",
       "27       16.64  \n",
       "39       16.64  \n",
       "51       16.64  \n",
       "71       16.64  \n",
       "83       16.64  \n",
       "95       16.64  \n",
       "107      16.64  \n",
       "119      16.64  \n",
       "138      16.64  \n",
       "151      16.64  \n",
       "164      16.64  \n",
       "177      16.64  \n",
       "190      16.64  \n",
       "204      16.64  "
      ]
     },
     "metadata": {},
     "output_type": "display_data"
    },
    {
     "data": {
      "application/vnd.plotly.v1+json": {
       "config": {
        "plotlyServerURL": "https://plot.ly"
       },
       "data": [
        {
         "error_y": {
          "array": {
           "bdata": "kz4mtw6upD9dtZRXDSiyPw==",
           "dtype": "f8"
          },
          "color": "#636EFA",
          "thickness": 1.5,
          "type": "data",
          "visible": true,
          "width": 5
         },
         "hovertemplate": "%{text}<extra></extra>",
         "marker": {
          "color": "#636EFA",
          "opacity": 0.7,
          "size": 10
         },
         "mode": "markers",
         "name": "Run time - 0.13.0",
         "showlegend": true,
         "text": [
          "Forecaster: ForecasterAutoregMultiSeries<br>Regressor: LGBMRegressor<br>Function: ForecasterRecursiveMultiSeries__create_train_X_y_series_is_dataframe_no_exog<br>Function_hash: 7b994fdfa33ce4a2084e303d3f49c934<br>Datetime: 2025-04-23 15:27:34.667213<br>Python version: 3.12.9<br>skforecast version: 0.13.0<br>numpy version: 2.2.5<br>pandas version: 2.2.3<br>sklearn version: 1.6.1<br>lightgbm version: 4.6.0<br>Platform: Linux-6.11.0-21-generic-x86_64-with-glibc2.39<br>Processor: x86_64<br>CPU count: 8<br>Memory (GB): 16.64<br>",
          "Forecaster: ForecasterAutoregMultiSeries<br>Regressor: LGBMRegressor<br>Function: ForecasterRecursiveMultiSeries__create_train_X_y_series_is_dataframe_no_exog<br>Function_hash: 7b994fdfa33ce4a2084e303d3f49c934<br>Datetime: 2025-04-23 15:37:00.019066<br>Python version: 3.12.9<br>skforecast version: 0.13.0<br>numpy version: 2.2.5<br>pandas version: 2.2.3<br>sklearn version: 1.6.1<br>lightgbm version: 4.6.0<br>Platform: Linux-6.11.0-21-generic-x86_64-with-glibc2.39<br>Processor: x86_64<br>CPU count: 8<br>Memory (GB): 16.64<br>"
         ],
         "type": "scatter",
         "x": {
          "bdata": "fByzX9/Fir9AKClBT8iAPw==",
          "dtype": "f8"
         },
         "y": {
          "bdata": "M+Nh6dAJAEDN7Cd2zSwBQA==",
          "dtype": "f8"
         }
        },
        {
         "error_y": {
          "array": {
           "bdata": "iX7WIl+bsD//7buh86e+P0bXEUFxPcQ/S/u/Ql/Coj8=",
           "dtype": "f8"
          },
          "color": "#EF553B",
          "thickness": 1.5,
          "type": "data",
          "visible": true,
          "width": 5
         },
         "hovertemplate": "%{text}<extra></extra>",
         "marker": {
          "color": "#EF553B",
          "opacity": 0.7,
          "size": 10
         },
         "mode": "markers",
         "name": "Run time - 0.14.0",
         "showlegend": true,
         "text": [
          "Forecaster: ForecasterRecursiveMultiSeries<br>Regressor: LGBMRegressor<br>Function: ForecasterRecursiveMultiSeries__create_train_X_y_series_is_dataframe_no_exog<br>Function_hash: 7b994fdfa33ce4a2084e303d3f49c934<br>Datetime: 2025-04-23 15:15:19.958170<br>Python version: 3.12.9<br>skforecast version: 0.14.0<br>numpy version: 2.2.5<br>pandas version: 2.2.3<br>sklearn version: 1.6.1<br>lightgbm version: 4.6.0<br>Platform: Linux-6.11.0-21-generic-x86_64-with-glibc2.39<br>Processor: x86_64<br>CPU count: 8<br>Memory (GB): 16.64<br>",
          "Forecaster: ForecasterRecursiveMultiSeries<br>Regressor: LGBMRegressor<br>Function: ForecasterRecursiveMultiSeries__create_train_X_y_series_is_dataframe_no_exog<br>Function_hash: 7b994fdfa33ce4a2084e303d3f49c934<br>Datetime: 2025-04-23 15:56:08.959300<br>Python version: 3.12.9<br>skforecast version: 0.14.0<br>numpy version: 2.2.5<br>pandas version: 2.2.3<br>sklearn version: 1.6.1<br>lightgbm version: 4.6.0<br>Platform: Linux-6.11.0-21-generic-x86_64-with-glibc2.39<br>Processor: x86_64<br>CPU count: 8<br>Memory (GB): 16.64<br>",
          "Forecaster: ForecasterRecursiveMultiSeries<br>Regressor: LGBMRegressor<br>Function: ForecasterRecursiveMultiSeries__create_train_X_y_series_is_dataframe_no_exog<br>Function_hash: 7b994fdfa33ce4a2084e303d3f49c934<br>Datetime: 2025-04-23 22:12:33.655628<br>Python version: 3.12.9<br>skforecast version: 0.14.0<br>numpy version: 2.2.5<br>pandas version: 2.2.3<br>sklearn version: 1.6.1<br>lightgbm version: 4.6.0<br>Platform: Linux-6.11.0-21-generic-x86_64-with-glibc2.39<br>Processor: x86_64<br>CPU count: 8<br>Memory (GB): 16.64<br>",
          "Forecaster: ForecasterRecursiveMultiSeries<br>Regressor: LGBMRegressor<br>Function: ForecasterRecursiveMultiSeries__create_train_X_y_series_is_dataframe_no_exog<br>Function_hash: 7b994fdfa33ce4a2084e303d3f49c934<br>Datetime: 2025-04-23 22:46:53.046523<br>Python version: 3.12.9<br>skforecast version: 0.14.0<br>numpy version: 2.2.5<br>pandas version: 2.2.3<br>sklearn version: 1.6.1<br>lightgbm version: 4.6.0<br>Platform: Linux-6.11.0-21-generic-x86_64-with-glibc2.39<br>Processor: x86_64<br>CPU count: 8<br>Memory (GB): 16.64<br>"
         ],
         "type": "scatter",
         "x": {
          "bdata": "WsufM0wh8D/sid4cvavwP0fPO5Hnwu4/vWqPYB4m7z8=",
          "dtype": "f8"
         },
         "y": {
          "bdata": "ZqaWXvhI+D+a+er90Rb5P5pZxAEN6vs/M3Paorcl+D8=",
          "dtype": "f8"
         }
        },
        {
         "error_y": {
          "array": {
           "bdata": "l0brRvfkpD9p8/LcmkesPy/XSnwwjag/eQf3o4Lwpj+s2VJXd9XHPw==",
           "dtype": "f8"
          },
          "color": "#00CC96",
          "thickness": 1.5,
          "type": "data",
          "visible": true,
          "width": 5
         },
         "hovertemplate": "%{text}<extra></extra>",
         "marker": {
          "color": "#00CC96",
          "opacity": 0.7,
          "size": 10
         },
         "mode": "markers",
         "name": "Run time - 0.15.1",
         "showlegend": true,
         "text": [
          "Forecaster: ForecasterRecursiveMultiSeries<br>Regressor: LGBMRegressor<br>Function: ForecasterRecursiveMultiSeries__create_train_X_y_series_is_dataframe_no_exog<br>Function_hash: 7b994fdfa33ce4a2084e303d3f49c934<br>Datetime: 2025-04-23 15:11:24.516068<br>Python version: 3.12.9<br>skforecast version: 0.15.1<br>numpy version: 2.2.5<br>pandas version: 2.2.3<br>sklearn version: 1.6.1<br>lightgbm version: 4.6.0<br>Platform: Linux-6.11.0-21-generic-x86_64-with-glibc2.39<br>Processor: x86_64<br>CPU count: 8<br>Memory (GB): 16.64<br>",
          "Forecaster: ForecasterRecursiveMultiSeries<br>Regressor: LGBMRegressor<br>Function: ForecasterRecursiveMultiSeries__create_train_X_y_series_is_dataframe_no_exog<br>Function_hash: 7b994fdfa33ce4a2084e303d3f49c934<br>Datetime: 2025-04-23 16:00:24.536982<br>Python version: 3.12.9<br>skforecast version: 0.15.1<br>numpy version: 2.2.5<br>pandas version: 2.2.3<br>sklearn version: 1.6.1<br>lightgbm version: 4.6.0<br>Platform: Linux-6.11.0-21-generic-x86_64-with-glibc2.39<br>Processor: x86_64<br>CPU count: 8<br>Memory (GB): 16.64<br>",
          "Forecaster: ForecasterRecursiveMultiSeries<br>Regressor: LGBMRegressor<br>Function: ForecasterRecursiveMultiSeries__create_train_X_y_series_is_dataframe_no_exog<br>Function_hash: 7b994fdfa33ce4a2084e303d3f49c934<br>Datetime: 2025-04-23 16:04:54.682880<br>Python version: 3.12.9<br>skforecast version: 0.15.1<br>numpy version: 2.2.5<br>pandas version: 2.2.3<br>sklearn version: 1.6.1<br>lightgbm version: 4.6.0<br>Platform: Linux-6.11.0-21-generic-x86_64-with-glibc2.39<br>Processor: x86_64<br>CPU count: 8<br>Memory (GB): 16.64<br>",
          "Forecaster: ForecasterRecursiveMultiSeries<br>Regressor: LGBMRegressor<br>Function: ForecasterRecursiveMultiSeries__create_train_X_y_series_is_dataframe_no_exog<br>Function_hash: 7b994fdfa33ce4a2084e303d3f49c934<br>Datetime: 2025-04-23 20:18:30.189994<br>Python version: 3.12.9<br>skforecast version: 0.15.1<br>numpy version: 2.2.5<br>pandas version: 2.2.3<br>sklearn version: 1.6.1<br>lightgbm version: 4.6.0<br>Platform: Linux-6.11.0-21-generic-x86_64-with-glibc2.39<br>Processor: x86_64<br>CPU count: 8<br>Memory (GB): 16.64<br>",
          "Forecaster: ForecasterRecursiveMultiSeries<br>Regressor: LGBMRegressor<br>Function: ForecasterRecursiveMultiSeries__create_train_X_y_series_is_dataframe_no_exog<br>Function_hash: 7b994fdfa33ce4a2084e303d3f49c934<br>Datetime: 2025-04-23 21:59:28.005422<br>Python version: 3.12.9<br>skforecast version: 0.15.1<br>numpy version: 2.2.5<br>pandas version: 2.2.3<br>sklearn version: 1.6.1<br>lightgbm version: 4.6.0<br>Platform: Linux-6.11.0-21-generic-x86_64-with-glibc2.39<br>Processor: x86_64<br>CPU count: 8<br>Memory (GB): 16.64<br>"
         ],
         "type": "scatter",
         "x": {
          "bdata": "PJXABdYrAEAE9ARBKzsAQLPaQ8D49/8/3XFGslY0AEC7OdZSiFAAQA==",
          "dtype": "f8"
         },
         "y": {
          "bdata": "zczQiyoB9j8A4AaOqpP2PwBA+YeqKfY/MxPWhbyC9j+aGSZ+PFj4Pw==",
          "dtype": "f8"
         }
        },
        {
         "error_y": {
          "array": {
           "bdata": "Ej26q2CbrD/lJsrCXT6lP1XMLo1436Y/8Yz0or4+rD96MZHDm1mpPw==",
           "dtype": "f8"
          },
          "color": "#AB63FA",
          "thickness": 1.5,
          "type": "data",
          "visible": true,
          "width": 5
         },
         "hovertemplate": "%{text}<extra></extra>",
         "marker": {
          "color": "#AB63FA",
          "opacity": 0.7,
          "size": 10
         },
         "mode": "markers",
         "name": "Run time - 0.16.0",
         "showlegend": true,
         "text": [
          "Forecaster: ForecasterRecursiveMultiSeries<br>Regressor: LGBMRegressor<br>Function: ForecasterRecursiveMultiSeries__create_train_X_y_series_is_dataframe_no_exog<br>Function_hash: 7b994fdfa33ce4a2084e303d3f49c934<br>Datetime: 2025-04-23 15:05:33.595536<br>Python version: 3.12.9<br>skforecast version: 0.16.0<br>numpy version: 2.2.5<br>pandas version: 2.2.3<br>sklearn version: 1.6.1<br>lightgbm version: 4.6.0<br>Platform: Linux-6.11.0-21-generic-x86_64-with-glibc2.39<br>Processor: x86_64<br>CPU count: 8<br>Memory (GB): 16.64<br>",
          "Forecaster: ForecasterRecursiveMultiSeries<br>Regressor: LGBMRegressor<br>Function: ForecasterRecursiveMultiSeries__create_train_X_y_series_is_dataframe_no_exog<br>Function_hash: 7b994fdfa33ce4a2084e303d3f49c934<br>Datetime: 2025-04-23 16:08:15.939377<br>Python version: 3.12.9<br>skforecast version: 0.16.0<br>numpy version: 2.2.5<br>pandas version: 2.2.3<br>sklearn version: 1.6.1<br>lightgbm version: 4.6.0<br>Platform: Linux-6.11.0-21-generic-x86_64-with-glibc2.39<br>Processor: x86_64<br>CPU count: 8<br>Memory (GB): 16.64<br>",
          "Forecaster: ForecasterRecursiveMultiSeries<br>Regressor: LGBMRegressor<br>Function: ForecasterRecursiveMultiSeries__create_train_X_y_series_is_dataframe_no_exog<br>Function_hash: 7b994fdfa33ce4a2084e303d3f49c934<br>Datetime: 2025-04-23 16:11:46.163407<br>Python version: 3.12.9<br>skforecast version: 0.16.0<br>numpy version: 2.2.5<br>pandas version: 2.2.3<br>sklearn version: 1.6.1<br>lightgbm version: 4.6.0<br>Platform: Linux-6.11.0-21-generic-x86_64-with-glibc2.39<br>Processor: x86_64<br>CPU count: 8<br>Memory (GB): 16.64<br>",
          "Forecaster: ForecasterRecursiveMultiSeries<br>Regressor: LGBMRegressor<br>Function: ForecasterRecursiveMultiSeries__create_train_X_y_series_is_dataframe_no_exog<br>Function_hash: 7b994fdfa33ce4a2084e303d3f49c934<br>Datetime: 2025-04-23 20:12:51.486074<br>Python version: 3.12.9<br>skforecast version: 0.16.0<br>numpy version: 2.2.5<br>pandas version: 2.2.3<br>sklearn version: 1.6.1<br>lightgbm version: 4.6.0<br>Platform: Linux-6.11.0-21-generic-x86_64-with-glibc2.39<br>Processor: x86_64<br>CPU count: 8<br>Memory (GB): 16.64<br>",
          "Forecaster: ForecasterRecursiveMultiSeries<br>Regressor: LGBMRegressor<br>Function: ForecasterRecursiveMultiSeries__create_train_X_y_series_is_dataframe_no_exog<br>Function_hash: 7b994fdfa33ce4a2084e303d3f49c934<br>Datetime: 2025-04-23 22:55:39.612327<br>Python version: 3.12.9<br>skforecast version: 0.16.0<br>numpy version: 2.2.5<br>pandas version: 2.2.3<br>sklearn version: 1.6.1<br>lightgbm version: 4.6.0<br>Platform: Linux-6.11.0-21-generic-x86_64-with-glibc2.39<br>Processor: x86_64<br>CPU count: 8<br>Memory (GB): 16.64<br>"
         ],
         "type": "scatter",
         "x": {
          "bdata": "wFSMOCUtCED06Y867kEIQDttXEnoOghAKuMOOLRDCEBC7DYQsQgIQA==",
          "dtype": "f8"
         },
         "y": {
          "bdata": "zYwsz+iX8z9mZlJvdlX0PzPz63quTvM/AIAmH2Uq8z8AgE4UIxb0Pw==",
          "dtype": "f8"
         }
        },
        {
         "line": {
          "color": "black",
          "width": 2
         },
         "marker": {
          "color": "black",
          "size": 8
         },
         "mode": "lines+markers",
         "name": "Median (per version)",
         "type": "scatter",
         "x": {
          "bdata": "AAECAw==",
          "dtype": "i1"
         },
         "y": {
          "bdata": "AOjEL0+bAEAA0EAu5a/4PzMT1oW8gvY/zYwsz+iX8z8=",
          "dtype": "f8"
         }
        }
       ],
       "layout": {
        "showlegend": true,
        "template": {
         "data": {
          "bar": [
           {
            "error_x": {
             "color": "#2a3f5f"
            },
            "error_y": {
             "color": "#2a3f5f"
            },
            "marker": {
             "line": {
              "color": "#E5ECF6",
              "width": 0.5
             },
             "pattern": {
              "fillmode": "overlay",
              "size": 10,
              "solidity": 0.2
             }
            },
            "type": "bar"
           }
          ],
          "barpolar": [
           {
            "marker": {
             "line": {
              "color": "#E5ECF6",
              "width": 0.5
             },
             "pattern": {
              "fillmode": "overlay",
              "size": 10,
              "solidity": 0.2
             }
            },
            "type": "barpolar"
           }
          ],
          "carpet": [
           {
            "aaxis": {
             "endlinecolor": "#2a3f5f",
             "gridcolor": "white",
             "linecolor": "white",
             "minorgridcolor": "white",
             "startlinecolor": "#2a3f5f"
            },
            "baxis": {
             "endlinecolor": "#2a3f5f",
             "gridcolor": "white",
             "linecolor": "white",
             "minorgridcolor": "white",
             "startlinecolor": "#2a3f5f"
            },
            "type": "carpet"
           }
          ],
          "choropleth": [
           {
            "colorbar": {
             "outlinewidth": 0,
             "ticks": ""
            },
            "type": "choropleth"
           }
          ],
          "contour": [
           {
            "colorbar": {
             "outlinewidth": 0,
             "ticks": ""
            },
            "colorscale": [
             [
              0,
              "#0d0887"
             ],
             [
              0.1111111111111111,
              "#46039f"
             ],
             [
              0.2222222222222222,
              "#7201a8"
             ],
             [
              0.3333333333333333,
              "#9c179e"
             ],
             [
              0.4444444444444444,
              "#bd3786"
             ],
             [
              0.5555555555555556,
              "#d8576b"
             ],
             [
              0.6666666666666666,
              "#ed7953"
             ],
             [
              0.7777777777777778,
              "#fb9f3a"
             ],
             [
              0.8888888888888888,
              "#fdca26"
             ],
             [
              1,
              "#f0f921"
             ]
            ],
            "type": "contour"
           }
          ],
          "contourcarpet": [
           {
            "colorbar": {
             "outlinewidth": 0,
             "ticks": ""
            },
            "type": "contourcarpet"
           }
          ],
          "heatmap": [
           {
            "colorbar": {
             "outlinewidth": 0,
             "ticks": ""
            },
            "colorscale": [
             [
              0,
              "#0d0887"
             ],
             [
              0.1111111111111111,
              "#46039f"
             ],
             [
              0.2222222222222222,
              "#7201a8"
             ],
             [
              0.3333333333333333,
              "#9c179e"
             ],
             [
              0.4444444444444444,
              "#bd3786"
             ],
             [
              0.5555555555555556,
              "#d8576b"
             ],
             [
              0.6666666666666666,
              "#ed7953"
             ],
             [
              0.7777777777777778,
              "#fb9f3a"
             ],
             [
              0.8888888888888888,
              "#fdca26"
             ],
             [
              1,
              "#f0f921"
             ]
            ],
            "type": "heatmap"
           }
          ],
          "histogram": [
           {
            "marker": {
             "pattern": {
              "fillmode": "overlay",
              "size": 10,
              "solidity": 0.2
             }
            },
            "type": "histogram"
           }
          ],
          "histogram2d": [
           {
            "colorbar": {
             "outlinewidth": 0,
             "ticks": ""
            },
            "colorscale": [
             [
              0,
              "#0d0887"
             ],
             [
              0.1111111111111111,
              "#46039f"
             ],
             [
              0.2222222222222222,
              "#7201a8"
             ],
             [
              0.3333333333333333,
              "#9c179e"
             ],
             [
              0.4444444444444444,
              "#bd3786"
             ],
             [
              0.5555555555555556,
              "#d8576b"
             ],
             [
              0.6666666666666666,
              "#ed7953"
             ],
             [
              0.7777777777777778,
              "#fb9f3a"
             ],
             [
              0.8888888888888888,
              "#fdca26"
             ],
             [
              1,
              "#f0f921"
             ]
            ],
            "type": "histogram2d"
           }
          ],
          "histogram2dcontour": [
           {
            "colorbar": {
             "outlinewidth": 0,
             "ticks": ""
            },
            "colorscale": [
             [
              0,
              "#0d0887"
             ],
             [
              0.1111111111111111,
              "#46039f"
             ],
             [
              0.2222222222222222,
              "#7201a8"
             ],
             [
              0.3333333333333333,
              "#9c179e"
             ],
             [
              0.4444444444444444,
              "#bd3786"
             ],
             [
              0.5555555555555556,
              "#d8576b"
             ],
             [
              0.6666666666666666,
              "#ed7953"
             ],
             [
              0.7777777777777778,
              "#fb9f3a"
             ],
             [
              0.8888888888888888,
              "#fdca26"
             ],
             [
              1,
              "#f0f921"
             ]
            ],
            "type": "histogram2dcontour"
           }
          ],
          "mesh3d": [
           {
            "colorbar": {
             "outlinewidth": 0,
             "ticks": ""
            },
            "type": "mesh3d"
           }
          ],
          "parcoords": [
           {
            "line": {
             "colorbar": {
              "outlinewidth": 0,
              "ticks": ""
             }
            },
            "type": "parcoords"
           }
          ],
          "pie": [
           {
            "automargin": true,
            "type": "pie"
           }
          ],
          "scatter": [
           {
            "fillpattern": {
             "fillmode": "overlay",
             "size": 10,
             "solidity": 0.2
            },
            "type": "scatter"
           }
          ],
          "scatter3d": [
           {
            "line": {
             "colorbar": {
              "outlinewidth": 0,
              "ticks": ""
             }
            },
            "marker": {
             "colorbar": {
              "outlinewidth": 0,
              "ticks": ""
             }
            },
            "type": "scatter3d"
           }
          ],
          "scattercarpet": [
           {
            "marker": {
             "colorbar": {
              "outlinewidth": 0,
              "ticks": ""
             }
            },
            "type": "scattercarpet"
           }
          ],
          "scattergeo": [
           {
            "marker": {
             "colorbar": {
              "outlinewidth": 0,
              "ticks": ""
             }
            },
            "type": "scattergeo"
           }
          ],
          "scattergl": [
           {
            "marker": {
             "colorbar": {
              "outlinewidth": 0,
              "ticks": ""
             }
            },
            "type": "scattergl"
           }
          ],
          "scattermap": [
           {
            "marker": {
             "colorbar": {
              "outlinewidth": 0,
              "ticks": ""
             }
            },
            "type": "scattermap"
           }
          ],
          "scattermapbox": [
           {
            "marker": {
             "colorbar": {
              "outlinewidth": 0,
              "ticks": ""
             }
            },
            "type": "scattermapbox"
           }
          ],
          "scatterpolar": [
           {
            "marker": {
             "colorbar": {
              "outlinewidth": 0,
              "ticks": ""
             }
            },
            "type": "scatterpolar"
           }
          ],
          "scatterpolargl": [
           {
            "marker": {
             "colorbar": {
              "outlinewidth": 0,
              "ticks": ""
             }
            },
            "type": "scatterpolargl"
           }
          ],
          "scatterternary": [
           {
            "marker": {
             "colorbar": {
              "outlinewidth": 0,
              "ticks": ""
             }
            },
            "type": "scatterternary"
           }
          ],
          "surface": [
           {
            "colorbar": {
             "outlinewidth": 0,
             "ticks": ""
            },
            "colorscale": [
             [
              0,
              "#0d0887"
             ],
             [
              0.1111111111111111,
              "#46039f"
             ],
             [
              0.2222222222222222,
              "#7201a8"
             ],
             [
              0.3333333333333333,
              "#9c179e"
             ],
             [
              0.4444444444444444,
              "#bd3786"
             ],
             [
              0.5555555555555556,
              "#d8576b"
             ],
             [
              0.6666666666666666,
              "#ed7953"
             ],
             [
              0.7777777777777778,
              "#fb9f3a"
             ],
             [
              0.8888888888888888,
              "#fdca26"
             ],
             [
              1,
              "#f0f921"
             ]
            ],
            "type": "surface"
           }
          ],
          "table": [
           {
            "cells": {
             "fill": {
              "color": "#EBF0F8"
             },
             "line": {
              "color": "white"
             }
            },
            "header": {
             "fill": {
              "color": "#C8D4E3"
             },
             "line": {
              "color": "white"
             }
            },
            "type": "table"
           }
          ]
         },
         "layout": {
          "annotationdefaults": {
           "arrowcolor": "#2a3f5f",
           "arrowhead": 0,
           "arrowwidth": 1
          },
          "autotypenumbers": "strict",
          "coloraxis": {
           "colorbar": {
            "outlinewidth": 0,
            "ticks": ""
           }
          },
          "colorscale": {
           "diverging": [
            [
             0,
             "#8e0152"
            ],
            [
             0.1,
             "#c51b7d"
            ],
            [
             0.2,
             "#de77ae"
            ],
            [
             0.3,
             "#f1b6da"
            ],
            [
             0.4,
             "#fde0ef"
            ],
            [
             0.5,
             "#f7f7f7"
            ],
            [
             0.6,
             "#e6f5d0"
            ],
            [
             0.7,
             "#b8e186"
            ],
            [
             0.8,
             "#7fbc41"
            ],
            [
             0.9,
             "#4d9221"
            ],
            [
             1,
             "#276419"
            ]
           ],
           "sequential": [
            [
             0,
             "#0d0887"
            ],
            [
             0.1111111111111111,
             "#46039f"
            ],
            [
             0.2222222222222222,
             "#7201a8"
            ],
            [
             0.3333333333333333,
             "#9c179e"
            ],
            [
             0.4444444444444444,
             "#bd3786"
            ],
            [
             0.5555555555555556,
             "#d8576b"
            ],
            [
             0.6666666666666666,
             "#ed7953"
            ],
            [
             0.7777777777777778,
             "#fb9f3a"
            ],
            [
             0.8888888888888888,
             "#fdca26"
            ],
            [
             1,
             "#f0f921"
            ]
           ],
           "sequentialminus": [
            [
             0,
             "#0d0887"
            ],
            [
             0.1111111111111111,
             "#46039f"
            ],
            [
             0.2222222222222222,
             "#7201a8"
            ],
            [
             0.3333333333333333,
             "#9c179e"
            ],
            [
             0.4444444444444444,
             "#bd3786"
            ],
            [
             0.5555555555555556,
             "#d8576b"
            ],
            [
             0.6666666666666666,
             "#ed7953"
            ],
            [
             0.7777777777777778,
             "#fb9f3a"
            ],
            [
             0.8888888888888888,
             "#fdca26"
            ],
            [
             1,
             "#f0f921"
            ]
           ]
          },
          "colorway": [
           "#636efa",
           "#EF553B",
           "#00cc96",
           "#ab63fa",
           "#FFA15A",
           "#19d3f3",
           "#FF6692",
           "#B6E880",
           "#FF97FF",
           "#FECB52"
          ],
          "font": {
           "color": "#2a3f5f"
          },
          "geo": {
           "bgcolor": "white",
           "lakecolor": "white",
           "landcolor": "#E5ECF6",
           "showlakes": true,
           "showland": true,
           "subunitcolor": "white"
          },
          "hoverlabel": {
           "align": "left"
          },
          "hovermode": "closest",
          "mapbox": {
           "style": "light"
          },
          "paper_bgcolor": "white",
          "plot_bgcolor": "#E5ECF6",
          "polar": {
           "angularaxis": {
            "gridcolor": "white",
            "linecolor": "white",
            "ticks": ""
           },
           "bgcolor": "#E5ECF6",
           "radialaxis": {
            "gridcolor": "white",
            "linecolor": "white",
            "ticks": ""
           }
          },
          "scene": {
           "xaxis": {
            "backgroundcolor": "#E5ECF6",
            "gridcolor": "white",
            "gridwidth": 2,
            "linecolor": "white",
            "showbackground": true,
            "ticks": "",
            "zerolinecolor": "white"
           },
           "yaxis": {
            "backgroundcolor": "#E5ECF6",
            "gridcolor": "white",
            "gridwidth": 2,
            "linecolor": "white",
            "showbackground": true,
            "ticks": "",
            "zerolinecolor": "white"
           },
           "zaxis": {
            "backgroundcolor": "#E5ECF6",
            "gridcolor": "white",
            "gridwidth": 2,
            "linecolor": "white",
            "showbackground": true,
            "ticks": "",
            "zerolinecolor": "white"
           }
          },
          "shapedefaults": {
           "line": {
            "color": "#2a3f5f"
           }
          },
          "ternary": {
           "aaxis": {
            "gridcolor": "white",
            "linecolor": "white",
            "ticks": ""
           },
           "baxis": {
            "gridcolor": "white",
            "linecolor": "white",
            "ticks": ""
           },
           "bgcolor": "#E5ECF6",
           "caxis": {
            "gridcolor": "white",
            "linecolor": "white",
            "ticks": ""
           }
          },
          "title": {
           "x": 0.05
          },
          "xaxis": {
           "automargin": true,
           "gridcolor": "white",
           "linecolor": "white",
           "ticks": "",
           "title": {
            "standoff": 15
           },
           "zerolinecolor": "white",
           "zerolinewidth": 2
          },
          "yaxis": {
           "automargin": true,
           "gridcolor": "white",
           "linecolor": "white",
           "ticks": "",
           "title": {
            "standoff": 15
           },
           "zerolinecolor": "white",
           "zerolinewidth": 2
          }
         }
        },
        "title": {
         "text": "Execution time of ForecasterRecursiveMultiSeries__create_train_X_y_series_is_dataframe_no_exog"
        },
        "xaxis": {
         "tickangle": -45,
         "tickmode": "array",
         "ticktext": [
          "0.13.0",
          "0.14.0",
          "0.15.1",
          "0.16.0"
         ],
         "tickvals": [
          0,
          1,
          2,
          3
         ],
         "title": {
          "text": "skforecast version"
         }
        },
        "yaxis": {
         "title": {
          "text": "Execution time (seconds)"
         }
        }
       }
      }
     },
     "metadata": {},
     "output_type": "display_data"
    },
    {
     "data": {
      "application/vnd.microsoft.datawrangler.viewer.v0+json": {
       "columns": [
        {
         "name": "index",
         "rawType": "int64",
         "type": "integer"
        },
        {
         "name": "forecaster_name",
         "rawType": "object",
         "type": "string"
        },
        {
         "name": "regressor_name",
         "rawType": "object",
         "type": "string"
        },
        {
         "name": "function_name",
         "rawType": "object",
         "type": "string"
        },
        {
         "name": "function_hash",
         "rawType": "object",
         "type": "string"
        },
        {
         "name": "run_time_avg",
         "rawType": "float64",
         "type": "float"
        },
        {
         "name": "run_time_std_dev",
         "rawType": "float64",
         "type": "float"
        },
        {
         "name": "datetime",
         "rawType": "datetime64[ns]",
         "type": "datetime"
        },
        {
         "name": "python_version",
         "rawType": "object",
         "type": "string"
        },
        {
         "name": "skforecast_version",
         "rawType": "object",
         "type": "string"
        },
        {
         "name": "numpy_version",
         "rawType": "object",
         "type": "string"
        },
        {
         "name": "pandas_version",
         "rawType": "object",
         "type": "string"
        },
        {
         "name": "sklearn_version",
         "rawType": "object",
         "type": "string"
        },
        {
         "name": "lightgbm_version",
         "rawType": "object",
         "type": "string"
        },
        {
         "name": "platform",
         "rawType": "object",
         "type": "string"
        },
        {
         "name": "processor",
         "rawType": "object",
         "type": "string"
        },
        {
         "name": "cpu_count",
         "rawType": "int64",
         "type": "integer"
        },
        {
         "name": "memory_gb",
         "rawType": "float64",
         "type": "float"
        }
       ],
       "conversionMethod": "pd.DataFrame",
       "ref": "f3698a93-0259-4dbe-9f95-48b0476ef80f",
       "rows": [
        [
         "4",
         "ForecasterRecursiveMultiSeries",
         "LGBMRegressor",
         "ForecasterRecursiveMultiSeries__create_train_X_y_single_series",
         "ea2ceb1c912245376ba4cea7595175be",
         "0.0013055405997874914",
         "0.0001718328209562836",
         "2025-04-23 15:05:51.677126",
         "3.12.9",
         "0.16.0",
         "2.2.5",
         "2.2.3",
         "1.6.1",
         "4.6.0",
         "Linux-6.11.0-21-generic-x86_64-with-glibc2.39",
         "x86_64",
         "8",
         "16.64"
        ],
        [
         "16",
         "ForecasterRecursiveMultiSeries",
         "LGBMRegressor",
         "ForecasterRecursiveMultiSeries__create_train_X_y_single_series",
         "ea2ceb1c912245376ba4cea7595175be",
         "0.0013703770000574877",
         "0.00022350204881122445",
         "2025-04-23 15:11:43.049817",
         "3.12.9",
         "0.15.1",
         "2.2.5",
         "2.2.3",
         "1.6.1",
         "4.6.0",
         "Linux-6.11.0-21-generic-x86_64-with-glibc2.39",
         "x86_64",
         "8",
         "16.64"
        ],
        [
         "28",
         "ForecasterRecursiveMultiSeries",
         "LGBMRegressor",
         "ForecasterRecursiveMultiSeries__create_train_X_y_single_series",
         "ea2ceb1c912245376ba4cea7595175be",
         "0.0016048196004703641",
         "0.0003591118943989178",
         "2025-04-23 15:15:38.790638",
         "3.12.9",
         "0.14.0",
         "2.2.5",
         "2.2.3",
         "1.6.1",
         "4.6.0",
         "Linux-6.11.0-21-generic-x86_64-with-glibc2.39",
         "x86_64",
         "8",
         "16.64"
        ],
        [
         "40",
         "ForecasterAutoregMultiSeries",
         "LGBMRegressor",
         "ForecasterRecursiveMultiSeries__create_train_X_y_single_series",
         "ea2ceb1c912245376ba4cea7595175be",
         "0.0016238054005953018",
         "0.00013893143384123558",
         "2025-04-23 15:27:57.642580",
         "3.12.9",
         "0.13.0",
         "2.2.5",
         "2.2.3",
         "1.6.1",
         "4.6.0",
         "Linux-6.11.0-21-generic-x86_64-with-glibc2.39",
         "x86_64",
         "8",
         "16.64"
        ],
        [
         "52",
         "ForecasterAutoregMultiSeries",
         "LGBMRegressor",
         "ForecasterRecursiveMultiSeries__create_train_X_y_single_series",
         "ea2ceb1c912245376ba4cea7595175be",
         "0.002253390599798877",
         "0.00030141880039183367",
         "2025-04-23 15:37:24.534882",
         "3.12.9",
         "0.13.0",
         "2.2.5",
         "2.2.3",
         "1.6.1",
         "4.6.0",
         "Linux-6.11.0-21-generic-x86_64-with-glibc2.39",
         "x86_64",
         "8",
         "16.64"
        ],
        [
         "72",
         "ForecasterRecursiveMultiSeries",
         "LGBMRegressor",
         "ForecasterRecursiveMultiSeries__create_train_X_y_single_series",
         "ea2ceb1c912245376ba4cea7595175be",
         "0.0037316641999495916",
         "0.00038312351549060905",
         "2025-04-23 15:56:31.510600",
         "3.12.9",
         "0.14.0",
         "2.2.5",
         "2.2.3",
         "1.6.1",
         "4.6.0",
         "Linux-6.11.0-21-generic-x86_64-with-glibc2.39",
         "x86_64",
         "8",
         "16.64"
        ],
        [
         "84",
         "ForecasterRecursiveMultiSeries",
         "LGBMRegressor",
         "ForecasterRecursiveMultiSeries__create_train_X_y_single_series",
         "ea2ceb1c912245376ba4cea7595175be",
         "0.0015143111995712388",
         "0.0002522029402729471",
         "2025-04-23 16:00:43.539847",
         "3.12.9",
         "0.15.1",
         "2.2.5",
         "2.2.3",
         "1.6.1",
         "4.6.0",
         "Linux-6.11.0-21-generic-x86_64-with-glibc2.39",
         "x86_64",
         "8",
         "16.64"
        ],
        [
         "96",
         "ForecasterRecursiveMultiSeries",
         "LGBMRegressor",
         "ForecasterRecursiveMultiSeries__create_train_X_y_single_series",
         "ea2ceb1c912245376ba4cea7595175be",
         "0.0015389447999041295",
         "0.0002704785499684506",
         "2025-04-23 16:05:13.551260",
         "3.12.9",
         "0.15.1",
         "2.2.5",
         "2.2.3",
         "1.6.1",
         "4.6.0",
         "Linux-6.11.0-21-generic-x86_64-with-glibc2.39",
         "x86_64",
         "8",
         "16.64"
        ],
        [
         "108",
         "ForecasterRecursiveMultiSeries",
         "LGBMRegressor",
         "ForecasterRecursiveMultiSeries__create_train_X_y_single_series",
         "ea2ceb1c912245376ba4cea7595175be",
         "0.001318833400364383",
         "0.00014939287984836995",
         "2025-04-23 16:08:35.307922",
         "3.12.9",
         "0.16.0",
         "2.2.5",
         "2.2.3",
         "1.6.1",
         "4.6.0",
         "Linux-6.11.0-21-generic-x86_64-with-glibc2.39",
         "x86_64",
         "8",
         "16.64"
        ],
        [
         "120",
         "ForecasterRecursiveMultiSeries",
         "LGBMRegressor",
         "ForecasterRecursiveMultiSeries__create_train_X_y_single_series",
         "ea2ceb1c912245376ba4cea7595175be",
         "0.001437214800171205",
         "0.00015525551856401142",
         "2025-04-23 16:12:03.939259",
         "3.12.9",
         "0.16.0",
         "2.2.5",
         "2.2.3",
         "1.6.1",
         "4.6.0",
         "Linux-6.11.0-21-generic-x86_64-with-glibc2.39",
         "x86_64",
         "8",
         "16.64"
        ],
        [
         "139",
         "ForecasterRecursiveMultiSeries",
         "LGBMRegressor",
         "ForecasterRecursiveMultiSeries__create_train_X_y_single_series",
         "ea2ceb1c912245376ba4cea7595175be",
         "0.0014512559995637276",
         "0.00011865384048939071",
         "2025-04-23 20:13:09.121480",
         "3.12.9",
         "0.16.0",
         "2.2.5",
         "2.2.3",
         "1.6.1",
         "4.6.0",
         "Linux-6.11.0-21-generic-x86_64-with-glibc2.39",
         "x86_64",
         "8",
         "16.64"
        ],
        [
         "152",
         "ForecasterRecursiveMultiSeries",
         "LGBMRegressor",
         "ForecasterRecursiveMultiSeries__create_train_X_y_single_series",
         "ea2ceb1c912245376ba4cea7595175be",
         "0.0012692542000877437",
         "0.00017848820001205344",
         "2025-04-23 20:18:50.734185",
         "3.12.9",
         "0.15.1",
         "2.2.5",
         "2.2.3",
         "1.6.1",
         "4.6.0",
         "Linux-6.11.0-21-generic-x86_64-with-glibc2.39",
         "x86_64",
         "8",
         "16.64"
        ],
        [
         "165",
         "ForecasterRecursiveMultiSeries",
         "LGBMRegressor",
         "ForecasterRecursiveMultiSeries__create_train_X_y_single_series",
         "ea2ceb1c912245376ba4cea7595175be",
         "0.0012080529995728284",
         "8.73031842716692e-05",
         "2025-04-23 21:59:49.656766",
         "3.12.9",
         "0.15.1",
         "2.2.5",
         "2.2.3",
         "1.6.1",
         "4.6.0",
         "Linux-6.11.0-21-generic-x86_64-with-glibc2.39",
         "x86_64",
         "8",
         "16.64"
        ],
        [
         "178",
         "ForecasterRecursiveMultiSeries",
         "LGBMRegressor",
         "ForecasterRecursiveMultiSeries__create_train_X_y_single_series",
         "ea2ceb1c912245376ba4cea7595175be",
         "0.0014090401000430575",
         "0.00015583093409341503",
         "2025-04-23 22:12:55.033529",
         "3.12.9",
         "0.14.0",
         "2.2.5",
         "2.2.3",
         "1.6.1",
         "4.6.0",
         "Linux-6.11.0-21-generic-x86_64-with-glibc2.39",
         "x86_64",
         "8",
         "16.64"
        ],
        [
         "191",
         "ForecasterRecursiveMultiSeries",
         "LGBMRegressor",
         "ForecasterRecursiveMultiSeries__create_train_X_y_single_series",
         "ea2ceb1c912245376ba4cea7595175be",
         "0.0013977961996715748",
         "0.00015537886466849096",
         "2025-04-23 22:47:11.710556",
         "3.12.9",
         "0.14.0",
         "2.2.5",
         "2.2.3",
         "1.6.1",
         "4.6.0",
         "Linux-6.11.0-21-generic-x86_64-with-glibc2.39",
         "x86_64",
         "8",
         "16.64"
        ],
        [
         "205",
         "ForecasterRecursiveMultiSeries",
         "LGBMRegressor",
         "ForecasterRecursiveMultiSeries__create_train_X_y_single_series",
         "ea2ceb1c912245376ba4cea7595175be",
         "0.0015456863005965716",
         "0.00019184166527640124",
         "2025-04-23 22:55:58.450095",
         "3.12.9",
         "0.16.0",
         "2.2.5",
         "2.2.3",
         "1.6.1",
         "4.6.0",
         "Linux-6.11.0-21-generic-x86_64-with-glibc2.39",
         "x86_64",
         "8",
         "16.64"
        ]
       ],
       "shape": {
        "columns": 17,
        "rows": 16
       }
      },
      "text/html": [
       "<div>\n",
       "<style scoped>\n",
       "    .dataframe tbody tr th:only-of-type {\n",
       "        vertical-align: middle;\n",
       "    }\n",
       "\n",
       "    .dataframe tbody tr th {\n",
       "        vertical-align: top;\n",
       "    }\n",
       "\n",
       "    .dataframe thead th {\n",
       "        text-align: right;\n",
       "    }\n",
       "</style>\n",
       "<table border=\"1\" class=\"dataframe\">\n",
       "  <thead>\n",
       "    <tr style=\"text-align: right;\">\n",
       "      <th></th>\n",
       "      <th>forecaster_name</th>\n",
       "      <th>regressor_name</th>\n",
       "      <th>function_name</th>\n",
       "      <th>function_hash</th>\n",
       "      <th>run_time_avg</th>\n",
       "      <th>run_time_std_dev</th>\n",
       "      <th>datetime</th>\n",
       "      <th>python_version</th>\n",
       "      <th>skforecast_version</th>\n",
       "      <th>numpy_version</th>\n",
       "      <th>pandas_version</th>\n",
       "      <th>sklearn_version</th>\n",
       "      <th>lightgbm_version</th>\n",
       "      <th>platform</th>\n",
       "      <th>processor</th>\n",
       "      <th>cpu_count</th>\n",
       "      <th>memory_gb</th>\n",
       "    </tr>\n",
       "  </thead>\n",
       "  <tbody>\n",
       "    <tr>\n",
       "      <th>4</th>\n",
       "      <td>ForecasterRecursiveMultiSeries</td>\n",
       "      <td>LGBMRegressor</td>\n",
       "      <td>ForecasterRecursiveMultiSeries__create_train_X...</td>\n",
       "      <td>ea2ceb1c912245376ba4cea7595175be</td>\n",
       "      <td>0.001306</td>\n",
       "      <td>0.000172</td>\n",
       "      <td>2025-04-23 15:05:51.677126</td>\n",
       "      <td>3.12.9</td>\n",
       "      <td>0.16.0</td>\n",
       "      <td>2.2.5</td>\n",
       "      <td>2.2.3</td>\n",
       "      <td>1.6.1</td>\n",
       "      <td>4.6.0</td>\n",
       "      <td>Linux-6.11.0-21-generic-x86_64-with-glibc2.39</td>\n",
       "      <td>x86_64</td>\n",
       "      <td>8</td>\n",
       "      <td>16.64</td>\n",
       "    </tr>\n",
       "    <tr>\n",
       "      <th>16</th>\n",
       "      <td>ForecasterRecursiveMultiSeries</td>\n",
       "      <td>LGBMRegressor</td>\n",
       "      <td>ForecasterRecursiveMultiSeries__create_train_X...</td>\n",
       "      <td>ea2ceb1c912245376ba4cea7595175be</td>\n",
       "      <td>0.001370</td>\n",
       "      <td>0.000224</td>\n",
       "      <td>2025-04-23 15:11:43.049817</td>\n",
       "      <td>3.12.9</td>\n",
       "      <td>0.15.1</td>\n",
       "      <td>2.2.5</td>\n",
       "      <td>2.2.3</td>\n",
       "      <td>1.6.1</td>\n",
       "      <td>4.6.0</td>\n",
       "      <td>Linux-6.11.0-21-generic-x86_64-with-glibc2.39</td>\n",
       "      <td>x86_64</td>\n",
       "      <td>8</td>\n",
       "      <td>16.64</td>\n",
       "    </tr>\n",
       "    <tr>\n",
       "      <th>28</th>\n",
       "      <td>ForecasterRecursiveMultiSeries</td>\n",
       "      <td>LGBMRegressor</td>\n",
       "      <td>ForecasterRecursiveMultiSeries__create_train_X...</td>\n",
       "      <td>ea2ceb1c912245376ba4cea7595175be</td>\n",
       "      <td>0.001605</td>\n",
       "      <td>0.000359</td>\n",
       "      <td>2025-04-23 15:15:38.790638</td>\n",
       "      <td>3.12.9</td>\n",
       "      <td>0.14.0</td>\n",
       "      <td>2.2.5</td>\n",
       "      <td>2.2.3</td>\n",
       "      <td>1.6.1</td>\n",
       "      <td>4.6.0</td>\n",
       "      <td>Linux-6.11.0-21-generic-x86_64-with-glibc2.39</td>\n",
       "      <td>x86_64</td>\n",
       "      <td>8</td>\n",
       "      <td>16.64</td>\n",
       "    </tr>\n",
       "    <tr>\n",
       "      <th>40</th>\n",
       "      <td>ForecasterAutoregMultiSeries</td>\n",
       "      <td>LGBMRegressor</td>\n",
       "      <td>ForecasterRecursiveMultiSeries__create_train_X...</td>\n",
       "      <td>ea2ceb1c912245376ba4cea7595175be</td>\n",
       "      <td>0.001624</td>\n",
       "      <td>0.000139</td>\n",
       "      <td>2025-04-23 15:27:57.642580</td>\n",
       "      <td>3.12.9</td>\n",
       "      <td>0.13.0</td>\n",
       "      <td>2.2.5</td>\n",
       "      <td>2.2.3</td>\n",
       "      <td>1.6.1</td>\n",
       "      <td>4.6.0</td>\n",
       "      <td>Linux-6.11.0-21-generic-x86_64-with-glibc2.39</td>\n",
       "      <td>x86_64</td>\n",
       "      <td>8</td>\n",
       "      <td>16.64</td>\n",
       "    </tr>\n",
       "    <tr>\n",
       "      <th>52</th>\n",
       "      <td>ForecasterAutoregMultiSeries</td>\n",
       "      <td>LGBMRegressor</td>\n",
       "      <td>ForecasterRecursiveMultiSeries__create_train_X...</td>\n",
       "      <td>ea2ceb1c912245376ba4cea7595175be</td>\n",
       "      <td>0.002253</td>\n",
       "      <td>0.000301</td>\n",
       "      <td>2025-04-23 15:37:24.534882</td>\n",
       "      <td>3.12.9</td>\n",
       "      <td>0.13.0</td>\n",
       "      <td>2.2.5</td>\n",
       "      <td>2.2.3</td>\n",
       "      <td>1.6.1</td>\n",
       "      <td>4.6.0</td>\n",
       "      <td>Linux-6.11.0-21-generic-x86_64-with-glibc2.39</td>\n",
       "      <td>x86_64</td>\n",
       "      <td>8</td>\n",
       "      <td>16.64</td>\n",
       "    </tr>\n",
       "    <tr>\n",
       "      <th>72</th>\n",
       "      <td>ForecasterRecursiveMultiSeries</td>\n",
       "      <td>LGBMRegressor</td>\n",
       "      <td>ForecasterRecursiveMultiSeries__create_train_X...</td>\n",
       "      <td>ea2ceb1c912245376ba4cea7595175be</td>\n",
       "      <td>0.003732</td>\n",
       "      <td>0.000383</td>\n",
       "      <td>2025-04-23 15:56:31.510600</td>\n",
       "      <td>3.12.9</td>\n",
       "      <td>0.14.0</td>\n",
       "      <td>2.2.5</td>\n",
       "      <td>2.2.3</td>\n",
       "      <td>1.6.1</td>\n",
       "      <td>4.6.0</td>\n",
       "      <td>Linux-6.11.0-21-generic-x86_64-with-glibc2.39</td>\n",
       "      <td>x86_64</td>\n",
       "      <td>8</td>\n",
       "      <td>16.64</td>\n",
       "    </tr>\n",
       "    <tr>\n",
       "      <th>84</th>\n",
       "      <td>ForecasterRecursiveMultiSeries</td>\n",
       "      <td>LGBMRegressor</td>\n",
       "      <td>ForecasterRecursiveMultiSeries__create_train_X...</td>\n",
       "      <td>ea2ceb1c912245376ba4cea7595175be</td>\n",
       "      <td>0.001514</td>\n",
       "      <td>0.000252</td>\n",
       "      <td>2025-04-23 16:00:43.539847</td>\n",
       "      <td>3.12.9</td>\n",
       "      <td>0.15.1</td>\n",
       "      <td>2.2.5</td>\n",
       "      <td>2.2.3</td>\n",
       "      <td>1.6.1</td>\n",
       "      <td>4.6.0</td>\n",
       "      <td>Linux-6.11.0-21-generic-x86_64-with-glibc2.39</td>\n",
       "      <td>x86_64</td>\n",
       "      <td>8</td>\n",
       "      <td>16.64</td>\n",
       "    </tr>\n",
       "    <tr>\n",
       "      <th>96</th>\n",
       "      <td>ForecasterRecursiveMultiSeries</td>\n",
       "      <td>LGBMRegressor</td>\n",
       "      <td>ForecasterRecursiveMultiSeries__create_train_X...</td>\n",
       "      <td>ea2ceb1c912245376ba4cea7595175be</td>\n",
       "      <td>0.001539</td>\n",
       "      <td>0.000270</td>\n",
       "      <td>2025-04-23 16:05:13.551260</td>\n",
       "      <td>3.12.9</td>\n",
       "      <td>0.15.1</td>\n",
       "      <td>2.2.5</td>\n",
       "      <td>2.2.3</td>\n",
       "      <td>1.6.1</td>\n",
       "      <td>4.6.0</td>\n",
       "      <td>Linux-6.11.0-21-generic-x86_64-with-glibc2.39</td>\n",
       "      <td>x86_64</td>\n",
       "      <td>8</td>\n",
       "      <td>16.64</td>\n",
       "    </tr>\n",
       "    <tr>\n",
       "      <th>108</th>\n",
       "      <td>ForecasterRecursiveMultiSeries</td>\n",
       "      <td>LGBMRegressor</td>\n",
       "      <td>ForecasterRecursiveMultiSeries__create_train_X...</td>\n",
       "      <td>ea2ceb1c912245376ba4cea7595175be</td>\n",
       "      <td>0.001319</td>\n",
       "      <td>0.000149</td>\n",
       "      <td>2025-04-23 16:08:35.307922</td>\n",
       "      <td>3.12.9</td>\n",
       "      <td>0.16.0</td>\n",
       "      <td>2.2.5</td>\n",
       "      <td>2.2.3</td>\n",
       "      <td>1.6.1</td>\n",
       "      <td>4.6.0</td>\n",
       "      <td>Linux-6.11.0-21-generic-x86_64-with-glibc2.39</td>\n",
       "      <td>x86_64</td>\n",
       "      <td>8</td>\n",
       "      <td>16.64</td>\n",
       "    </tr>\n",
       "    <tr>\n",
       "      <th>120</th>\n",
       "      <td>ForecasterRecursiveMultiSeries</td>\n",
       "      <td>LGBMRegressor</td>\n",
       "      <td>ForecasterRecursiveMultiSeries__create_train_X...</td>\n",
       "      <td>ea2ceb1c912245376ba4cea7595175be</td>\n",
       "      <td>0.001437</td>\n",
       "      <td>0.000155</td>\n",
       "      <td>2025-04-23 16:12:03.939259</td>\n",
       "      <td>3.12.9</td>\n",
       "      <td>0.16.0</td>\n",
       "      <td>2.2.5</td>\n",
       "      <td>2.2.3</td>\n",
       "      <td>1.6.1</td>\n",
       "      <td>4.6.0</td>\n",
       "      <td>Linux-6.11.0-21-generic-x86_64-with-glibc2.39</td>\n",
       "      <td>x86_64</td>\n",
       "      <td>8</td>\n",
       "      <td>16.64</td>\n",
       "    </tr>\n",
       "    <tr>\n",
       "      <th>139</th>\n",
       "      <td>ForecasterRecursiveMultiSeries</td>\n",
       "      <td>LGBMRegressor</td>\n",
       "      <td>ForecasterRecursiveMultiSeries__create_train_X...</td>\n",
       "      <td>ea2ceb1c912245376ba4cea7595175be</td>\n",
       "      <td>0.001451</td>\n",
       "      <td>0.000119</td>\n",
       "      <td>2025-04-23 20:13:09.121480</td>\n",
       "      <td>3.12.9</td>\n",
       "      <td>0.16.0</td>\n",
       "      <td>2.2.5</td>\n",
       "      <td>2.2.3</td>\n",
       "      <td>1.6.1</td>\n",
       "      <td>4.6.0</td>\n",
       "      <td>Linux-6.11.0-21-generic-x86_64-with-glibc2.39</td>\n",
       "      <td>x86_64</td>\n",
       "      <td>8</td>\n",
       "      <td>16.64</td>\n",
       "    </tr>\n",
       "    <tr>\n",
       "      <th>152</th>\n",
       "      <td>ForecasterRecursiveMultiSeries</td>\n",
       "      <td>LGBMRegressor</td>\n",
       "      <td>ForecasterRecursiveMultiSeries__create_train_X...</td>\n",
       "      <td>ea2ceb1c912245376ba4cea7595175be</td>\n",
       "      <td>0.001269</td>\n",
       "      <td>0.000178</td>\n",
       "      <td>2025-04-23 20:18:50.734185</td>\n",
       "      <td>3.12.9</td>\n",
       "      <td>0.15.1</td>\n",
       "      <td>2.2.5</td>\n",
       "      <td>2.2.3</td>\n",
       "      <td>1.6.1</td>\n",
       "      <td>4.6.0</td>\n",
       "      <td>Linux-6.11.0-21-generic-x86_64-with-glibc2.39</td>\n",
       "      <td>x86_64</td>\n",
       "      <td>8</td>\n",
       "      <td>16.64</td>\n",
       "    </tr>\n",
       "    <tr>\n",
       "      <th>165</th>\n",
       "      <td>ForecasterRecursiveMultiSeries</td>\n",
       "      <td>LGBMRegressor</td>\n",
       "      <td>ForecasterRecursiveMultiSeries__create_train_X...</td>\n",
       "      <td>ea2ceb1c912245376ba4cea7595175be</td>\n",
       "      <td>0.001208</td>\n",
       "      <td>0.000087</td>\n",
       "      <td>2025-04-23 21:59:49.656766</td>\n",
       "      <td>3.12.9</td>\n",
       "      <td>0.15.1</td>\n",
       "      <td>2.2.5</td>\n",
       "      <td>2.2.3</td>\n",
       "      <td>1.6.1</td>\n",
       "      <td>4.6.0</td>\n",
       "      <td>Linux-6.11.0-21-generic-x86_64-with-glibc2.39</td>\n",
       "      <td>x86_64</td>\n",
       "      <td>8</td>\n",
       "      <td>16.64</td>\n",
       "    </tr>\n",
       "    <tr>\n",
       "      <th>178</th>\n",
       "      <td>ForecasterRecursiveMultiSeries</td>\n",
       "      <td>LGBMRegressor</td>\n",
       "      <td>ForecasterRecursiveMultiSeries__create_train_X...</td>\n",
       "      <td>ea2ceb1c912245376ba4cea7595175be</td>\n",
       "      <td>0.001409</td>\n",
       "      <td>0.000156</td>\n",
       "      <td>2025-04-23 22:12:55.033529</td>\n",
       "      <td>3.12.9</td>\n",
       "      <td>0.14.0</td>\n",
       "      <td>2.2.5</td>\n",
       "      <td>2.2.3</td>\n",
       "      <td>1.6.1</td>\n",
       "      <td>4.6.0</td>\n",
       "      <td>Linux-6.11.0-21-generic-x86_64-with-glibc2.39</td>\n",
       "      <td>x86_64</td>\n",
       "      <td>8</td>\n",
       "      <td>16.64</td>\n",
       "    </tr>\n",
       "    <tr>\n",
       "      <th>191</th>\n",
       "      <td>ForecasterRecursiveMultiSeries</td>\n",
       "      <td>LGBMRegressor</td>\n",
       "      <td>ForecasterRecursiveMultiSeries__create_train_X...</td>\n",
       "      <td>ea2ceb1c912245376ba4cea7595175be</td>\n",
       "      <td>0.001398</td>\n",
       "      <td>0.000155</td>\n",
       "      <td>2025-04-23 22:47:11.710556</td>\n",
       "      <td>3.12.9</td>\n",
       "      <td>0.14.0</td>\n",
       "      <td>2.2.5</td>\n",
       "      <td>2.2.3</td>\n",
       "      <td>1.6.1</td>\n",
       "      <td>4.6.0</td>\n",
       "      <td>Linux-6.11.0-21-generic-x86_64-with-glibc2.39</td>\n",
       "      <td>x86_64</td>\n",
       "      <td>8</td>\n",
       "      <td>16.64</td>\n",
       "    </tr>\n",
       "    <tr>\n",
       "      <th>205</th>\n",
       "      <td>ForecasterRecursiveMultiSeries</td>\n",
       "      <td>LGBMRegressor</td>\n",
       "      <td>ForecasterRecursiveMultiSeries__create_train_X...</td>\n",
       "      <td>ea2ceb1c912245376ba4cea7595175be</td>\n",
       "      <td>0.001546</td>\n",
       "      <td>0.000192</td>\n",
       "      <td>2025-04-23 22:55:58.450095</td>\n",
       "      <td>3.12.9</td>\n",
       "      <td>0.16.0</td>\n",
       "      <td>2.2.5</td>\n",
       "      <td>2.2.3</td>\n",
       "      <td>1.6.1</td>\n",
       "      <td>4.6.0</td>\n",
       "      <td>Linux-6.11.0-21-generic-x86_64-with-glibc2.39</td>\n",
       "      <td>x86_64</td>\n",
       "      <td>8</td>\n",
       "      <td>16.64</td>\n",
       "    </tr>\n",
       "  </tbody>\n",
       "</table>\n",
       "</div>"
      ],
      "text/plain": [
       "                    forecaster_name regressor_name  \\\n",
       "4    ForecasterRecursiveMultiSeries  LGBMRegressor   \n",
       "16   ForecasterRecursiveMultiSeries  LGBMRegressor   \n",
       "28   ForecasterRecursiveMultiSeries  LGBMRegressor   \n",
       "40     ForecasterAutoregMultiSeries  LGBMRegressor   \n",
       "52     ForecasterAutoregMultiSeries  LGBMRegressor   \n",
       "72   ForecasterRecursiveMultiSeries  LGBMRegressor   \n",
       "84   ForecasterRecursiveMultiSeries  LGBMRegressor   \n",
       "96   ForecasterRecursiveMultiSeries  LGBMRegressor   \n",
       "108  ForecasterRecursiveMultiSeries  LGBMRegressor   \n",
       "120  ForecasterRecursiveMultiSeries  LGBMRegressor   \n",
       "139  ForecasterRecursiveMultiSeries  LGBMRegressor   \n",
       "152  ForecasterRecursiveMultiSeries  LGBMRegressor   \n",
       "165  ForecasterRecursiveMultiSeries  LGBMRegressor   \n",
       "178  ForecasterRecursiveMultiSeries  LGBMRegressor   \n",
       "191  ForecasterRecursiveMultiSeries  LGBMRegressor   \n",
       "205  ForecasterRecursiveMultiSeries  LGBMRegressor   \n",
       "\n",
       "                                         function_name  \\\n",
       "4    ForecasterRecursiveMultiSeries__create_train_X...   \n",
       "16   ForecasterRecursiveMultiSeries__create_train_X...   \n",
       "28   ForecasterRecursiveMultiSeries__create_train_X...   \n",
       "40   ForecasterRecursiveMultiSeries__create_train_X...   \n",
       "52   ForecasterRecursiveMultiSeries__create_train_X...   \n",
       "72   ForecasterRecursiveMultiSeries__create_train_X...   \n",
       "84   ForecasterRecursiveMultiSeries__create_train_X...   \n",
       "96   ForecasterRecursiveMultiSeries__create_train_X...   \n",
       "108  ForecasterRecursiveMultiSeries__create_train_X...   \n",
       "120  ForecasterRecursiveMultiSeries__create_train_X...   \n",
       "139  ForecasterRecursiveMultiSeries__create_train_X...   \n",
       "152  ForecasterRecursiveMultiSeries__create_train_X...   \n",
       "165  ForecasterRecursiveMultiSeries__create_train_X...   \n",
       "178  ForecasterRecursiveMultiSeries__create_train_X...   \n",
       "191  ForecasterRecursiveMultiSeries__create_train_X...   \n",
       "205  ForecasterRecursiveMultiSeries__create_train_X...   \n",
       "\n",
       "                        function_hash  run_time_avg  run_time_std_dev  \\\n",
       "4    ea2ceb1c912245376ba4cea7595175be      0.001306          0.000172   \n",
       "16   ea2ceb1c912245376ba4cea7595175be      0.001370          0.000224   \n",
       "28   ea2ceb1c912245376ba4cea7595175be      0.001605          0.000359   \n",
       "40   ea2ceb1c912245376ba4cea7595175be      0.001624          0.000139   \n",
       "52   ea2ceb1c912245376ba4cea7595175be      0.002253          0.000301   \n",
       "72   ea2ceb1c912245376ba4cea7595175be      0.003732          0.000383   \n",
       "84   ea2ceb1c912245376ba4cea7595175be      0.001514          0.000252   \n",
       "96   ea2ceb1c912245376ba4cea7595175be      0.001539          0.000270   \n",
       "108  ea2ceb1c912245376ba4cea7595175be      0.001319          0.000149   \n",
       "120  ea2ceb1c912245376ba4cea7595175be      0.001437          0.000155   \n",
       "139  ea2ceb1c912245376ba4cea7595175be      0.001451          0.000119   \n",
       "152  ea2ceb1c912245376ba4cea7595175be      0.001269          0.000178   \n",
       "165  ea2ceb1c912245376ba4cea7595175be      0.001208          0.000087   \n",
       "178  ea2ceb1c912245376ba4cea7595175be      0.001409          0.000156   \n",
       "191  ea2ceb1c912245376ba4cea7595175be      0.001398          0.000155   \n",
       "205  ea2ceb1c912245376ba4cea7595175be      0.001546          0.000192   \n",
       "\n",
       "                      datetime python_version skforecast_version  \\\n",
       "4   2025-04-23 15:05:51.677126         3.12.9             0.16.0   \n",
       "16  2025-04-23 15:11:43.049817         3.12.9             0.15.1   \n",
       "28  2025-04-23 15:15:38.790638         3.12.9             0.14.0   \n",
       "40  2025-04-23 15:27:57.642580         3.12.9             0.13.0   \n",
       "52  2025-04-23 15:37:24.534882         3.12.9             0.13.0   \n",
       "72  2025-04-23 15:56:31.510600         3.12.9             0.14.0   \n",
       "84  2025-04-23 16:00:43.539847         3.12.9             0.15.1   \n",
       "96  2025-04-23 16:05:13.551260         3.12.9             0.15.1   \n",
       "108 2025-04-23 16:08:35.307922         3.12.9             0.16.0   \n",
       "120 2025-04-23 16:12:03.939259         3.12.9             0.16.0   \n",
       "139 2025-04-23 20:13:09.121480         3.12.9             0.16.0   \n",
       "152 2025-04-23 20:18:50.734185         3.12.9             0.15.1   \n",
       "165 2025-04-23 21:59:49.656766         3.12.9             0.15.1   \n",
       "178 2025-04-23 22:12:55.033529         3.12.9             0.14.0   \n",
       "191 2025-04-23 22:47:11.710556         3.12.9             0.14.0   \n",
       "205 2025-04-23 22:55:58.450095         3.12.9             0.16.0   \n",
       "\n",
       "    numpy_version pandas_version sklearn_version lightgbm_version  \\\n",
       "4           2.2.5          2.2.3           1.6.1            4.6.0   \n",
       "16          2.2.5          2.2.3           1.6.1            4.6.0   \n",
       "28          2.2.5          2.2.3           1.6.1            4.6.0   \n",
       "40          2.2.5          2.2.3           1.6.1            4.6.0   \n",
       "52          2.2.5          2.2.3           1.6.1            4.6.0   \n",
       "72          2.2.5          2.2.3           1.6.1            4.6.0   \n",
       "84          2.2.5          2.2.3           1.6.1            4.6.0   \n",
       "96          2.2.5          2.2.3           1.6.1            4.6.0   \n",
       "108         2.2.5          2.2.3           1.6.1            4.6.0   \n",
       "120         2.2.5          2.2.3           1.6.1            4.6.0   \n",
       "139         2.2.5          2.2.3           1.6.1            4.6.0   \n",
       "152         2.2.5          2.2.3           1.6.1            4.6.0   \n",
       "165         2.2.5          2.2.3           1.6.1            4.6.0   \n",
       "178         2.2.5          2.2.3           1.6.1            4.6.0   \n",
       "191         2.2.5          2.2.3           1.6.1            4.6.0   \n",
       "205         2.2.5          2.2.3           1.6.1            4.6.0   \n",
       "\n",
       "                                          platform processor  cpu_count  \\\n",
       "4    Linux-6.11.0-21-generic-x86_64-with-glibc2.39    x86_64          8   \n",
       "16   Linux-6.11.0-21-generic-x86_64-with-glibc2.39    x86_64          8   \n",
       "28   Linux-6.11.0-21-generic-x86_64-with-glibc2.39    x86_64          8   \n",
       "40   Linux-6.11.0-21-generic-x86_64-with-glibc2.39    x86_64          8   \n",
       "52   Linux-6.11.0-21-generic-x86_64-with-glibc2.39    x86_64          8   \n",
       "72   Linux-6.11.0-21-generic-x86_64-with-glibc2.39    x86_64          8   \n",
       "84   Linux-6.11.0-21-generic-x86_64-with-glibc2.39    x86_64          8   \n",
       "96   Linux-6.11.0-21-generic-x86_64-with-glibc2.39    x86_64          8   \n",
       "108  Linux-6.11.0-21-generic-x86_64-with-glibc2.39    x86_64          8   \n",
       "120  Linux-6.11.0-21-generic-x86_64-with-glibc2.39    x86_64          8   \n",
       "139  Linux-6.11.0-21-generic-x86_64-with-glibc2.39    x86_64          8   \n",
       "152  Linux-6.11.0-21-generic-x86_64-with-glibc2.39    x86_64          8   \n",
       "165  Linux-6.11.0-21-generic-x86_64-with-glibc2.39    x86_64          8   \n",
       "178  Linux-6.11.0-21-generic-x86_64-with-glibc2.39    x86_64          8   \n",
       "191  Linux-6.11.0-21-generic-x86_64-with-glibc2.39    x86_64          8   \n",
       "205  Linux-6.11.0-21-generic-x86_64-with-glibc2.39    x86_64          8   \n",
       "\n",
       "     memory_gb  \n",
       "4        16.64  \n",
       "16       16.64  \n",
       "28       16.64  \n",
       "40       16.64  \n",
       "52       16.64  \n",
       "72       16.64  \n",
       "84       16.64  \n",
       "96       16.64  \n",
       "108      16.64  \n",
       "120      16.64  \n",
       "139      16.64  \n",
       "152      16.64  \n",
       "165      16.64  \n",
       "178      16.64  \n",
       "191      16.64  \n",
       "205      16.64  "
      ]
     },
     "metadata": {},
     "output_type": "display_data"
    },
    {
     "data": {
      "application/vnd.plotly.v1+json": {
       "config": {
        "plotlyServerURL": "https://plot.ly"
       },
       "data": [
        {
         "error_y": {
          "array": {
           "bdata": "/q3x7cM1Ij/8cdzj98AzPw==",
           "dtype": "f8"
          },
          "color": "#636EFA",
          "thickness": 1.5,
          "type": "data",
          "visible": true,
          "width": 5
         },
         "hovertemplate": "%{text}<extra></extra>",
         "marker": {
          "color": "#636EFA",
          "opacity": 0.7,
          "size": 10
         },
         "mode": "markers",
         "name": "Run time - 0.13.0",
         "showlegend": true,
         "text": [
          "Forecaster: ForecasterAutoregMultiSeries<br>Regressor: LGBMRegressor<br>Function: ForecasterRecursiveMultiSeries__create_train_X_y_single_series<br>Function_hash: ea2ceb1c912245376ba4cea7595175be<br>Datetime: 2025-04-23 15:27:57.642580<br>Python version: 3.12.9<br>skforecast version: 0.13.0<br>numpy version: 2.2.5<br>pandas version: 2.2.3<br>sklearn version: 1.6.1<br>lightgbm version: 4.6.0<br>Platform: Linux-6.11.0-21-generic-x86_64-with-glibc2.39<br>Processor: x86_64<br>CPU count: 8<br>Memory (GB): 16.64<br>",
          "Forecaster: ForecasterAutoregMultiSeries<br>Regressor: LGBMRegressor<br>Function: ForecasterRecursiveMultiSeries__create_train_X_y_single_series<br>Function_hash: ea2ceb1c912245376ba4cea7595175be<br>Datetime: 2025-04-23 15:37:24.534882<br>Python version: 3.12.9<br>skforecast version: 0.13.0<br>numpy version: 2.2.5<br>pandas version: 2.2.3<br>sklearn version: 1.6.1<br>lightgbm version: 4.6.0<br>Platform: Linux-6.11.0-21-generic-x86_64-with-glibc2.39<br>Processor: x86_64<br>CPU count: 8<br>Memory (GB): 16.64<br>"
         ],
         "type": "scatter",
         "x": {
          "bdata": "fByzX9/Fir9AKClBT8iAPw==",
          "dtype": "f8"
         },
         "y": {
          "bdata": "zczMxbuaWj/NzMzds3ViPw==",
          "dtype": "f8"
         }
        },
        {
         "error_y": {
          "array": {
           "bdata": "d3SQ1+WINz8aBij4vhs5P898AYjRbCQ/iMjTSKZdJD8=",
           "dtype": "f8"
          },
          "color": "#EF553B",
          "thickness": 1.5,
          "type": "data",
          "visible": true,
          "width": 5
         },
         "hovertemplate": "%{text}<extra></extra>",
         "marker": {
          "color": "#EF553B",
          "opacity": 0.7,
          "size": 10
         },
         "mode": "markers",
         "name": "Run time - 0.14.0",
         "showlegend": true,
         "text": [
          "Forecaster: ForecasterRecursiveMultiSeries<br>Regressor: LGBMRegressor<br>Function: ForecasterRecursiveMultiSeries__create_train_X_y_single_series<br>Function_hash: ea2ceb1c912245376ba4cea7595175be<br>Datetime: 2025-04-23 15:15:38.790638<br>Python version: 3.12.9<br>skforecast version: 0.14.0<br>numpy version: 2.2.5<br>pandas version: 2.2.3<br>sklearn version: 1.6.1<br>lightgbm version: 4.6.0<br>Platform: Linux-6.11.0-21-generic-x86_64-with-glibc2.39<br>Processor: x86_64<br>CPU count: 8<br>Memory (GB): 16.64<br>",
          "Forecaster: ForecasterRecursiveMultiSeries<br>Regressor: LGBMRegressor<br>Function: ForecasterRecursiveMultiSeries__create_train_X_y_single_series<br>Function_hash: ea2ceb1c912245376ba4cea7595175be<br>Datetime: 2025-04-23 15:56:31.510600<br>Python version: 3.12.9<br>skforecast version: 0.14.0<br>numpy version: 2.2.5<br>pandas version: 2.2.3<br>sklearn version: 1.6.1<br>lightgbm version: 4.6.0<br>Platform: Linux-6.11.0-21-generic-x86_64-with-glibc2.39<br>Processor: x86_64<br>CPU count: 8<br>Memory (GB): 16.64<br>",
          "Forecaster: ForecasterRecursiveMultiSeries<br>Regressor: LGBMRegressor<br>Function: ForecasterRecursiveMultiSeries__create_train_X_y_single_series<br>Function_hash: ea2ceb1c912245376ba4cea7595175be<br>Datetime: 2025-04-23 22:12:55.033529<br>Python version: 3.12.9<br>skforecast version: 0.14.0<br>numpy version: 2.2.5<br>pandas version: 2.2.3<br>sklearn version: 1.6.1<br>lightgbm version: 4.6.0<br>Platform: Linux-6.11.0-21-generic-x86_64-with-glibc2.39<br>Processor: x86_64<br>CPU count: 8<br>Memory (GB): 16.64<br>",
          "Forecaster: ForecasterRecursiveMultiSeries<br>Regressor: LGBMRegressor<br>Function: ForecasterRecursiveMultiSeries__create_train_X_y_single_series<br>Function_hash: ea2ceb1c912245376ba4cea7595175be<br>Datetime: 2025-04-23 22:47:11.710556<br>Python version: 3.12.9<br>skforecast version: 0.14.0<br>numpy version: 2.2.5<br>pandas version: 2.2.3<br>sklearn version: 1.6.1<br>lightgbm version: 4.6.0<br>Platform: Linux-6.11.0-21-generic-x86_64-with-glibc2.39<br>Processor: x86_64<br>CPU count: 8<br>Memory (GB): 16.64<br>"
         ],
         "type": "scatter",
         "x": {
          "bdata": "WsufM0wh8D/sid4cvavwP0fPO5Hnwu4/vWqPYB4m7z8=",
          "dtype": "f8"
         },
         "y": {
          "bdata": "zczM7BlLWj+amVn23ZFuPwAAgEnxFVc/MzOzPcjmVj8=",
          "dtype": "f8"
         }
        },
        {
         "error_y": {
          "array": {
           "bdata": "u9j/+ntLLT/Pr2NhQ4cwPwUawYbguTE/EAqr9hFlJz9rif5I0eIWPw==",
           "dtype": "f8"
          },
          "color": "#00CC96",
          "thickness": 1.5,
          "type": "data",
          "visible": true,
          "width": 5
         },
         "hovertemplate": "%{text}<extra></extra>",
         "marker": {
          "color": "#00CC96",
          "opacity": 0.7,
          "size": 10
         },
         "mode": "markers",
         "name": "Run time - 0.15.1",
         "showlegend": true,
         "text": [
          "Forecaster: ForecasterRecursiveMultiSeries<br>Regressor: LGBMRegressor<br>Function: ForecasterRecursiveMultiSeries__create_train_X_y_single_series<br>Function_hash: ea2ceb1c912245376ba4cea7595175be<br>Datetime: 2025-04-23 15:11:43.049817<br>Python version: 3.12.9<br>skforecast version: 0.15.1<br>numpy version: 2.2.5<br>pandas version: 2.2.3<br>sklearn version: 1.6.1<br>lightgbm version: 4.6.0<br>Platform: Linux-6.11.0-21-generic-x86_64-with-glibc2.39<br>Processor: x86_64<br>CPU count: 8<br>Memory (GB): 16.64<br>",
          "Forecaster: ForecasterRecursiveMultiSeries<br>Regressor: LGBMRegressor<br>Function: ForecasterRecursiveMultiSeries__create_train_X_y_single_series<br>Function_hash: ea2ceb1c912245376ba4cea7595175be<br>Datetime: 2025-04-23 16:00:43.539847<br>Python version: 3.12.9<br>skforecast version: 0.15.1<br>numpy version: 2.2.5<br>pandas version: 2.2.3<br>sklearn version: 1.6.1<br>lightgbm version: 4.6.0<br>Platform: Linux-6.11.0-21-generic-x86_64-with-glibc2.39<br>Processor: x86_64<br>CPU count: 8<br>Memory (GB): 16.64<br>",
          "Forecaster: ForecasterRecursiveMultiSeries<br>Regressor: LGBMRegressor<br>Function: ForecasterRecursiveMultiSeries__create_train_X_y_single_series<br>Function_hash: ea2ceb1c912245376ba4cea7595175be<br>Datetime: 2025-04-23 16:05:13.551260<br>Python version: 3.12.9<br>skforecast version: 0.15.1<br>numpy version: 2.2.5<br>pandas version: 2.2.3<br>sklearn version: 1.6.1<br>lightgbm version: 4.6.0<br>Platform: Linux-6.11.0-21-generic-x86_64-with-glibc2.39<br>Processor: x86_64<br>CPU count: 8<br>Memory (GB): 16.64<br>",
          "Forecaster: ForecasterRecursiveMultiSeries<br>Regressor: LGBMRegressor<br>Function: ForecasterRecursiveMultiSeries__create_train_X_y_single_series<br>Function_hash: ea2ceb1c912245376ba4cea7595175be<br>Datetime: 2025-04-23 20:18:50.734185<br>Python version: 3.12.9<br>skforecast version: 0.15.1<br>numpy version: 2.2.5<br>pandas version: 2.2.3<br>sklearn version: 1.6.1<br>lightgbm version: 4.6.0<br>Platform: Linux-6.11.0-21-generic-x86_64-with-glibc2.39<br>Processor: x86_64<br>CPU count: 8<br>Memory (GB): 16.64<br>",
          "Forecaster: ForecasterRecursiveMultiSeries<br>Regressor: LGBMRegressor<br>Function: ForecasterRecursiveMultiSeries__create_train_X_y_single_series<br>Function_hash: ea2ceb1c912245376ba4cea7595175be<br>Datetime: 2025-04-23 21:59:49.656766<br>Python version: 3.12.9<br>skforecast version: 0.15.1<br>numpy version: 2.2.5<br>pandas version: 2.2.3<br>sklearn version: 1.6.1<br>lightgbm version: 4.6.0<br>Platform: Linux-6.11.0-21-generic-x86_64-with-glibc2.39<br>Processor: x86_64<br>CPU count: 8<br>Memory (GB): 16.64<br>"
         ],
         "type": "scatter",
         "x": {
          "bdata": "PJXABdYrAEAE9ARBKzsAQLPaQ8D49/8/3XFGslY0AEC7OdZSiFAAQA==",
          "dtype": "f8"
         },
         "y": {
          "bdata": "AACAGcdzVj8AAABFe89YPwAAgGXNNlk/ZmbmUaPLVD8AAAAI8cpTPw==",
          "dtype": "f8"
         }
        },
        {
         "error_y": {
          "array": {
           "bdata": "rpdZscCFJj+THQARy5QjPwoD4L+CWSQ/SoYxdbkaHz/0nVNbIyUpPw==",
           "dtype": "f8"
          },
          "color": "#AB63FA",
          "thickness": 1.5,
          "type": "data",
          "visible": true,
          "width": 5
         },
         "hovertemplate": "%{text}<extra></extra>",
         "marker": {
          "color": "#AB63FA",
          "opacity": 0.7,
          "size": 10
         },
         "mode": "markers",
         "name": "Run time - 0.16.0",
         "showlegend": true,
         "text": [
          "Forecaster: ForecasterRecursiveMultiSeries<br>Regressor: LGBMRegressor<br>Function: ForecasterRecursiveMultiSeries__create_train_X_y_single_series<br>Function_hash: ea2ceb1c912245376ba4cea7595175be<br>Datetime: 2025-04-23 15:05:51.677126<br>Python version: 3.12.9<br>skforecast version: 0.16.0<br>numpy version: 2.2.5<br>pandas version: 2.2.3<br>sklearn version: 1.6.1<br>lightgbm version: 4.6.0<br>Platform: Linux-6.11.0-21-generic-x86_64-with-glibc2.39<br>Processor: x86_64<br>CPU count: 8<br>Memory (GB): 16.64<br>",
          "Forecaster: ForecasterRecursiveMultiSeries<br>Regressor: LGBMRegressor<br>Function: ForecasterRecursiveMultiSeries__create_train_X_y_single_series<br>Function_hash: ea2ceb1c912245376ba4cea7595175be<br>Datetime: 2025-04-23 16:08:35.307922<br>Python version: 3.12.9<br>skforecast version: 0.16.0<br>numpy version: 2.2.5<br>pandas version: 2.2.3<br>sklearn version: 1.6.1<br>lightgbm version: 4.6.0<br>Platform: Linux-6.11.0-21-generic-x86_64-with-glibc2.39<br>Processor: x86_64<br>CPU count: 8<br>Memory (GB): 16.64<br>",
          "Forecaster: ForecasterRecursiveMultiSeries<br>Regressor: LGBMRegressor<br>Function: ForecasterRecursiveMultiSeries__create_train_X_y_single_series<br>Function_hash: ea2ceb1c912245376ba4cea7595175be<br>Datetime: 2025-04-23 16:12:03.939259<br>Python version: 3.12.9<br>skforecast version: 0.16.0<br>numpy version: 2.2.5<br>pandas version: 2.2.3<br>sklearn version: 1.6.1<br>lightgbm version: 4.6.0<br>Platform: Linux-6.11.0-21-generic-x86_64-with-glibc2.39<br>Processor: x86_64<br>CPU count: 8<br>Memory (GB): 16.64<br>",
          "Forecaster: ForecasterRecursiveMultiSeries<br>Regressor: LGBMRegressor<br>Function: ForecasterRecursiveMultiSeries__create_train_X_y_single_series<br>Function_hash: ea2ceb1c912245376ba4cea7595175be<br>Datetime: 2025-04-23 20:13:09.121480<br>Python version: 3.12.9<br>skforecast version: 0.16.0<br>numpy version: 2.2.5<br>pandas version: 2.2.3<br>sklearn version: 1.6.1<br>lightgbm version: 4.6.0<br>Platform: Linux-6.11.0-21-generic-x86_64-with-glibc2.39<br>Processor: x86_64<br>CPU count: 8<br>Memory (GB): 16.64<br>",
          "Forecaster: ForecasterRecursiveMultiSeries<br>Regressor: LGBMRegressor<br>Function: ForecasterRecursiveMultiSeries__create_train_X_y_single_series<br>Function_hash: ea2ceb1c912245376ba4cea7595175be<br>Datetime: 2025-04-23 22:55:58.450095<br>Python version: 3.12.9<br>skforecast version: 0.16.0<br>numpy version: 2.2.5<br>pandas version: 2.2.3<br>sklearn version: 1.6.1<br>lightgbm version: 4.6.0<br>Platform: Linux-6.11.0-21-generic-x86_64-with-glibc2.39<br>Processor: x86_64<br>CPU count: 8<br>Memory (GB): 16.64<br>"
         ],
         "type": "scatter",
         "x": {
          "bdata": "wFSMOCUtCED06Y867kEIQDttXEnoOghAKuMOOLRDCEBC7DYQsQgIQA==",
          "dtype": "f8"
         },
         "y": {
          "bdata": "AACAi9VjVT8zM7OUlptVP5qZGaQdjFc/mpmZQwLHVz+amRkHFFNZPw==",
          "dtype": "f8"
         }
        },
        {
         "line": {
          "color": "black",
          "width": 2
         },
         "marker": {
          "color": "black",
          "size": 8
         },
         "mode": "lines+markers",
         "name": "Median (per version)",
         "type": "scatter",
         "x": {
          "bdata": "AAECAw==",
          "dtype": "i1"
         },
         "y": {
          "bdata": "NDOzwBHDXz9mZiabhbBYPwAAgBnHc1Y/mpkZpB2MVz8=",
          "dtype": "f8"
         }
        }
       ],
       "layout": {
        "showlegend": true,
        "template": {
         "data": {
          "bar": [
           {
            "error_x": {
             "color": "#2a3f5f"
            },
            "error_y": {
             "color": "#2a3f5f"
            },
            "marker": {
             "line": {
              "color": "#E5ECF6",
              "width": 0.5
             },
             "pattern": {
              "fillmode": "overlay",
              "size": 10,
              "solidity": 0.2
             }
            },
            "type": "bar"
           }
          ],
          "barpolar": [
           {
            "marker": {
             "line": {
              "color": "#E5ECF6",
              "width": 0.5
             },
             "pattern": {
              "fillmode": "overlay",
              "size": 10,
              "solidity": 0.2
             }
            },
            "type": "barpolar"
           }
          ],
          "carpet": [
           {
            "aaxis": {
             "endlinecolor": "#2a3f5f",
             "gridcolor": "white",
             "linecolor": "white",
             "minorgridcolor": "white",
             "startlinecolor": "#2a3f5f"
            },
            "baxis": {
             "endlinecolor": "#2a3f5f",
             "gridcolor": "white",
             "linecolor": "white",
             "minorgridcolor": "white",
             "startlinecolor": "#2a3f5f"
            },
            "type": "carpet"
           }
          ],
          "choropleth": [
           {
            "colorbar": {
             "outlinewidth": 0,
             "ticks": ""
            },
            "type": "choropleth"
           }
          ],
          "contour": [
           {
            "colorbar": {
             "outlinewidth": 0,
             "ticks": ""
            },
            "colorscale": [
             [
              0,
              "#0d0887"
             ],
             [
              0.1111111111111111,
              "#46039f"
             ],
             [
              0.2222222222222222,
              "#7201a8"
             ],
             [
              0.3333333333333333,
              "#9c179e"
             ],
             [
              0.4444444444444444,
              "#bd3786"
             ],
             [
              0.5555555555555556,
              "#d8576b"
             ],
             [
              0.6666666666666666,
              "#ed7953"
             ],
             [
              0.7777777777777778,
              "#fb9f3a"
             ],
             [
              0.8888888888888888,
              "#fdca26"
             ],
             [
              1,
              "#f0f921"
             ]
            ],
            "type": "contour"
           }
          ],
          "contourcarpet": [
           {
            "colorbar": {
             "outlinewidth": 0,
             "ticks": ""
            },
            "type": "contourcarpet"
           }
          ],
          "heatmap": [
           {
            "colorbar": {
             "outlinewidth": 0,
             "ticks": ""
            },
            "colorscale": [
             [
              0,
              "#0d0887"
             ],
             [
              0.1111111111111111,
              "#46039f"
             ],
             [
              0.2222222222222222,
              "#7201a8"
             ],
             [
              0.3333333333333333,
              "#9c179e"
             ],
             [
              0.4444444444444444,
              "#bd3786"
             ],
             [
              0.5555555555555556,
              "#d8576b"
             ],
             [
              0.6666666666666666,
              "#ed7953"
             ],
             [
              0.7777777777777778,
              "#fb9f3a"
             ],
             [
              0.8888888888888888,
              "#fdca26"
             ],
             [
              1,
              "#f0f921"
             ]
            ],
            "type": "heatmap"
           }
          ],
          "histogram": [
           {
            "marker": {
             "pattern": {
              "fillmode": "overlay",
              "size": 10,
              "solidity": 0.2
             }
            },
            "type": "histogram"
           }
          ],
          "histogram2d": [
           {
            "colorbar": {
             "outlinewidth": 0,
             "ticks": ""
            },
            "colorscale": [
             [
              0,
              "#0d0887"
             ],
             [
              0.1111111111111111,
              "#46039f"
             ],
             [
              0.2222222222222222,
              "#7201a8"
             ],
             [
              0.3333333333333333,
              "#9c179e"
             ],
             [
              0.4444444444444444,
              "#bd3786"
             ],
             [
              0.5555555555555556,
              "#d8576b"
             ],
             [
              0.6666666666666666,
              "#ed7953"
             ],
             [
              0.7777777777777778,
              "#fb9f3a"
             ],
             [
              0.8888888888888888,
              "#fdca26"
             ],
             [
              1,
              "#f0f921"
             ]
            ],
            "type": "histogram2d"
           }
          ],
          "histogram2dcontour": [
           {
            "colorbar": {
             "outlinewidth": 0,
             "ticks": ""
            },
            "colorscale": [
             [
              0,
              "#0d0887"
             ],
             [
              0.1111111111111111,
              "#46039f"
             ],
             [
              0.2222222222222222,
              "#7201a8"
             ],
             [
              0.3333333333333333,
              "#9c179e"
             ],
             [
              0.4444444444444444,
              "#bd3786"
             ],
             [
              0.5555555555555556,
              "#d8576b"
             ],
             [
              0.6666666666666666,
              "#ed7953"
             ],
             [
              0.7777777777777778,
              "#fb9f3a"
             ],
             [
              0.8888888888888888,
              "#fdca26"
             ],
             [
              1,
              "#f0f921"
             ]
            ],
            "type": "histogram2dcontour"
           }
          ],
          "mesh3d": [
           {
            "colorbar": {
             "outlinewidth": 0,
             "ticks": ""
            },
            "type": "mesh3d"
           }
          ],
          "parcoords": [
           {
            "line": {
             "colorbar": {
              "outlinewidth": 0,
              "ticks": ""
             }
            },
            "type": "parcoords"
           }
          ],
          "pie": [
           {
            "automargin": true,
            "type": "pie"
           }
          ],
          "scatter": [
           {
            "fillpattern": {
             "fillmode": "overlay",
             "size": 10,
             "solidity": 0.2
            },
            "type": "scatter"
           }
          ],
          "scatter3d": [
           {
            "line": {
             "colorbar": {
              "outlinewidth": 0,
              "ticks": ""
             }
            },
            "marker": {
             "colorbar": {
              "outlinewidth": 0,
              "ticks": ""
             }
            },
            "type": "scatter3d"
           }
          ],
          "scattercarpet": [
           {
            "marker": {
             "colorbar": {
              "outlinewidth": 0,
              "ticks": ""
             }
            },
            "type": "scattercarpet"
           }
          ],
          "scattergeo": [
           {
            "marker": {
             "colorbar": {
              "outlinewidth": 0,
              "ticks": ""
             }
            },
            "type": "scattergeo"
           }
          ],
          "scattergl": [
           {
            "marker": {
             "colorbar": {
              "outlinewidth": 0,
              "ticks": ""
             }
            },
            "type": "scattergl"
           }
          ],
          "scattermap": [
           {
            "marker": {
             "colorbar": {
              "outlinewidth": 0,
              "ticks": ""
             }
            },
            "type": "scattermap"
           }
          ],
          "scattermapbox": [
           {
            "marker": {
             "colorbar": {
              "outlinewidth": 0,
              "ticks": ""
             }
            },
            "type": "scattermapbox"
           }
          ],
          "scatterpolar": [
           {
            "marker": {
             "colorbar": {
              "outlinewidth": 0,
              "ticks": ""
             }
            },
            "type": "scatterpolar"
           }
          ],
          "scatterpolargl": [
           {
            "marker": {
             "colorbar": {
              "outlinewidth": 0,
              "ticks": ""
             }
            },
            "type": "scatterpolargl"
           }
          ],
          "scatterternary": [
           {
            "marker": {
             "colorbar": {
              "outlinewidth": 0,
              "ticks": ""
             }
            },
            "type": "scatterternary"
           }
          ],
          "surface": [
           {
            "colorbar": {
             "outlinewidth": 0,
             "ticks": ""
            },
            "colorscale": [
             [
              0,
              "#0d0887"
             ],
             [
              0.1111111111111111,
              "#46039f"
             ],
             [
              0.2222222222222222,
              "#7201a8"
             ],
             [
              0.3333333333333333,
              "#9c179e"
             ],
             [
              0.4444444444444444,
              "#bd3786"
             ],
             [
              0.5555555555555556,
              "#d8576b"
             ],
             [
              0.6666666666666666,
              "#ed7953"
             ],
             [
              0.7777777777777778,
              "#fb9f3a"
             ],
             [
              0.8888888888888888,
              "#fdca26"
             ],
             [
              1,
              "#f0f921"
             ]
            ],
            "type": "surface"
           }
          ],
          "table": [
           {
            "cells": {
             "fill": {
              "color": "#EBF0F8"
             },
             "line": {
              "color": "white"
             }
            },
            "header": {
             "fill": {
              "color": "#C8D4E3"
             },
             "line": {
              "color": "white"
             }
            },
            "type": "table"
           }
          ]
         },
         "layout": {
          "annotationdefaults": {
           "arrowcolor": "#2a3f5f",
           "arrowhead": 0,
           "arrowwidth": 1
          },
          "autotypenumbers": "strict",
          "coloraxis": {
           "colorbar": {
            "outlinewidth": 0,
            "ticks": ""
           }
          },
          "colorscale": {
           "diverging": [
            [
             0,
             "#8e0152"
            ],
            [
             0.1,
             "#c51b7d"
            ],
            [
             0.2,
             "#de77ae"
            ],
            [
             0.3,
             "#f1b6da"
            ],
            [
             0.4,
             "#fde0ef"
            ],
            [
             0.5,
             "#f7f7f7"
            ],
            [
             0.6,
             "#e6f5d0"
            ],
            [
             0.7,
             "#b8e186"
            ],
            [
             0.8,
             "#7fbc41"
            ],
            [
             0.9,
             "#4d9221"
            ],
            [
             1,
             "#276419"
            ]
           ],
           "sequential": [
            [
             0,
             "#0d0887"
            ],
            [
             0.1111111111111111,
             "#46039f"
            ],
            [
             0.2222222222222222,
             "#7201a8"
            ],
            [
             0.3333333333333333,
             "#9c179e"
            ],
            [
             0.4444444444444444,
             "#bd3786"
            ],
            [
             0.5555555555555556,
             "#d8576b"
            ],
            [
             0.6666666666666666,
             "#ed7953"
            ],
            [
             0.7777777777777778,
             "#fb9f3a"
            ],
            [
             0.8888888888888888,
             "#fdca26"
            ],
            [
             1,
             "#f0f921"
            ]
           ],
           "sequentialminus": [
            [
             0,
             "#0d0887"
            ],
            [
             0.1111111111111111,
             "#46039f"
            ],
            [
             0.2222222222222222,
             "#7201a8"
            ],
            [
             0.3333333333333333,
             "#9c179e"
            ],
            [
             0.4444444444444444,
             "#bd3786"
            ],
            [
             0.5555555555555556,
             "#d8576b"
            ],
            [
             0.6666666666666666,
             "#ed7953"
            ],
            [
             0.7777777777777778,
             "#fb9f3a"
            ],
            [
             0.8888888888888888,
             "#fdca26"
            ],
            [
             1,
             "#f0f921"
            ]
           ]
          },
          "colorway": [
           "#636efa",
           "#EF553B",
           "#00cc96",
           "#ab63fa",
           "#FFA15A",
           "#19d3f3",
           "#FF6692",
           "#B6E880",
           "#FF97FF",
           "#FECB52"
          ],
          "font": {
           "color": "#2a3f5f"
          },
          "geo": {
           "bgcolor": "white",
           "lakecolor": "white",
           "landcolor": "#E5ECF6",
           "showlakes": true,
           "showland": true,
           "subunitcolor": "white"
          },
          "hoverlabel": {
           "align": "left"
          },
          "hovermode": "closest",
          "mapbox": {
           "style": "light"
          },
          "paper_bgcolor": "white",
          "plot_bgcolor": "#E5ECF6",
          "polar": {
           "angularaxis": {
            "gridcolor": "white",
            "linecolor": "white",
            "ticks": ""
           },
           "bgcolor": "#E5ECF6",
           "radialaxis": {
            "gridcolor": "white",
            "linecolor": "white",
            "ticks": ""
           }
          },
          "scene": {
           "xaxis": {
            "backgroundcolor": "#E5ECF6",
            "gridcolor": "white",
            "gridwidth": 2,
            "linecolor": "white",
            "showbackground": true,
            "ticks": "",
            "zerolinecolor": "white"
           },
           "yaxis": {
            "backgroundcolor": "#E5ECF6",
            "gridcolor": "white",
            "gridwidth": 2,
            "linecolor": "white",
            "showbackground": true,
            "ticks": "",
            "zerolinecolor": "white"
           },
           "zaxis": {
            "backgroundcolor": "#E5ECF6",
            "gridcolor": "white",
            "gridwidth": 2,
            "linecolor": "white",
            "showbackground": true,
            "ticks": "",
            "zerolinecolor": "white"
           }
          },
          "shapedefaults": {
           "line": {
            "color": "#2a3f5f"
           }
          },
          "ternary": {
           "aaxis": {
            "gridcolor": "white",
            "linecolor": "white",
            "ticks": ""
           },
           "baxis": {
            "gridcolor": "white",
            "linecolor": "white",
            "ticks": ""
           },
           "bgcolor": "#E5ECF6",
           "caxis": {
            "gridcolor": "white",
            "linecolor": "white",
            "ticks": ""
           }
          },
          "title": {
           "x": 0.05
          },
          "xaxis": {
           "automargin": true,
           "gridcolor": "white",
           "linecolor": "white",
           "ticks": "",
           "title": {
            "standoff": 15
           },
           "zerolinecolor": "white",
           "zerolinewidth": 2
          },
          "yaxis": {
           "automargin": true,
           "gridcolor": "white",
           "linecolor": "white",
           "ticks": "",
           "title": {
            "standoff": 15
           },
           "zerolinecolor": "white",
           "zerolinewidth": 2
          }
         }
        },
        "title": {
         "text": "Execution time of ForecasterRecursiveMultiSeries__create_train_X_y_single_series"
        },
        "xaxis": {
         "tickangle": -45,
         "tickmode": "array",
         "ticktext": [
          "0.13.0",
          "0.14.0",
          "0.15.1",
          "0.16.0"
         ],
         "tickvals": [
          0,
          1,
          2,
          3
         ],
         "title": {
          "text": "skforecast version"
         }
        },
        "yaxis": {
         "title": {
          "text": "Execution time (seconds)"
         }
        }
       }
      }
     },
     "metadata": {},
     "output_type": "display_data"
    },
    {
     "data": {
      "application/vnd.microsoft.datawrangler.viewer.v0+json": {
       "columns": [
        {
         "name": "index",
         "rawType": "int64",
         "type": "integer"
        },
        {
         "name": "forecaster_name",
         "rawType": "object",
         "type": "string"
        },
        {
         "name": "regressor_name",
         "rawType": "object",
         "type": "string"
        },
        {
         "name": "function_name",
         "rawType": "object",
         "type": "string"
        },
        {
         "name": "function_hash",
         "rawType": "object",
         "type": "string"
        },
        {
         "name": "run_time_avg",
         "rawType": "float64",
         "type": "float"
        },
        {
         "name": "run_time_std_dev",
         "rawType": "float64",
         "type": "float"
        },
        {
         "name": "datetime",
         "rawType": "datetime64[ns]",
         "type": "datetime"
        },
        {
         "name": "python_version",
         "rawType": "object",
         "type": "string"
        },
        {
         "name": "skforecast_version",
         "rawType": "object",
         "type": "string"
        },
        {
         "name": "numpy_version",
         "rawType": "object",
         "type": "string"
        },
        {
         "name": "pandas_version",
         "rawType": "object",
         "type": "string"
        },
        {
         "name": "sklearn_version",
         "rawType": "object",
         "type": "string"
        },
        {
         "name": "lightgbm_version",
         "rawType": "object",
         "type": "string"
        },
        {
         "name": "platform",
         "rawType": "object",
         "type": "string"
        },
        {
         "name": "processor",
         "rawType": "object",
         "type": "string"
        },
        {
         "name": "cpu_count",
         "rawType": "int64",
         "type": "integer"
        },
        {
         "name": "memory_gb",
         "rawType": "float64",
         "type": "float"
        }
       ],
       "conversionMethod": "pd.DataFrame",
       "ref": "9dfcc496-e214-464f-b147-7240aa17a6b3",
       "rows": [
        [
         "5",
         "ForecasterRecursiveMultiSeries",
         "LGBMRegressor",
         "ForecasterRecursiveMultiSeries_predict_exog_is_dict",
         "451898dccb92cc6f0a674d62eb66e4d8",
         "0.45147155259946886",
         "0.03823088059900139",
         "2025-04-23 15:05:51.687220",
         "3.12.9",
         "0.16.0",
         "2.2.5",
         "2.2.3",
         "1.6.1",
         "4.6.0",
         "Linux-6.11.0-21-generic-x86_64-with-glibc2.39",
         "x86_64",
         "8",
         "16.64"
        ],
        [
         "17",
         "ForecasterRecursiveMultiSeries",
         "LGBMRegressor",
         "ForecasterRecursiveMultiSeries_predict_exog_is_dict",
         "451898dccb92cc6f0a674d62eb66e4d8",
         "1.681694357000015",
         "0.03158724962516853",
         "2025-04-23 15:11:43.060889",
         "3.12.9",
         "0.15.1",
         "2.2.5",
         "2.2.3",
         "1.6.1",
         "4.6.0",
         "Linux-6.11.0-21-generic-x86_64-with-glibc2.39",
         "x86_64",
         "8",
         "16.64"
        ],
        [
         "29",
         "ForecasterRecursiveMultiSeries",
         "LGBMRegressor",
         "ForecasterRecursiveMultiSeries_predict_exog_is_dict",
         "451898dccb92cc6f0a674d62eb66e4d8",
         "1.6328316428000107",
         "0.007875372644256556",
         "2025-04-23 15:15:38.802105",
         "3.12.9",
         "0.14.0",
         "2.2.5",
         "2.2.3",
         "1.6.1",
         "4.6.0",
         "Linux-6.11.0-21-generic-x86_64-with-glibc2.39",
         "x86_64",
         "8",
         "16.64"
        ],
        [
         "41",
         "ForecasterAutoregMultiSeries",
         "LGBMRegressor",
         "ForecasterRecursiveMultiSeries_predict_exog_is_dict",
         "451898dccb92cc6f0a674d62eb66e4d8",
         "42.3546208886004",
         "1.2055196224852833",
         "2025-04-23 15:27:57.654222",
         "3.12.9",
         "0.13.0",
         "2.2.5",
         "2.2.3",
         "1.6.1",
         "4.6.0",
         "Linux-6.11.0-21-generic-x86_64-with-glibc2.39",
         "x86_64",
         "8",
         "16.64"
        ],
        [
         "53",
         "ForecasterAutoregMultiSeries",
         "LGBMRegressor",
         "ForecasterRecursiveMultiSeries_predict_exog_is_dict",
         "451898dccb92cc6f0a674d62eb66e4d8",
         "43.534917416800454",
         "2.2836476768211345",
         "2025-04-23 15:37:24.551023",
         "3.12.9",
         "0.13.0",
         "2.2.5",
         "2.2.3",
         "1.6.1",
         "4.6.0",
         "Linux-6.11.0-21-generic-x86_64-with-glibc2.39",
         "x86_64",
         "8",
         "16.64"
        ],
        [
         "73",
         "ForecasterRecursiveMultiSeries",
         "LGBMRegressor",
         "ForecasterRecursiveMultiSeries_predict_exog_is_dict",
         "451898dccb92cc6f0a674d62eb66e4d8",
         "1.796171426400906",
         "0.151445142573778",
         "2025-04-23 15:56:31.536580",
         "3.12.9",
         "0.14.0",
         "2.2.5",
         "2.2.3",
         "1.6.1",
         "4.6.0",
         "Linux-6.11.0-21-generic-x86_64-with-glibc2.39",
         "x86_64",
         "8",
         "16.64"
        ],
        [
         "85",
         "ForecasterRecursiveMultiSeries",
         "LGBMRegressor",
         "ForecasterRecursiveMultiSeries_predict_exog_is_dict",
         "451898dccb92cc6f0a674d62eb66e4d8",
         "1.7031429599999683",
         "0.009876501593795961",
         "2025-04-23 16:00:43.551471",
         "3.12.9",
         "0.15.1",
         "2.2.5",
         "2.2.3",
         "1.6.1",
         "4.6.0",
         "Linux-6.11.0-21-generic-x86_64-with-glibc2.39",
         "x86_64",
         "8",
         "16.64"
        ],
        [
         "97",
         "ForecasterRecursiveMultiSeries",
         "LGBMRegressor",
         "ForecasterRecursiveMultiSeries_predict_exog_is_dict",
         "451898dccb92cc6f0a674d62eb66e4d8",
         "1.6956521838004845",
         "0.02855581608624625",
         "2025-04-23 16:05:13.562818",
         "3.12.9",
         "0.15.1",
         "2.2.5",
         "2.2.3",
         "1.6.1",
         "4.6.0",
         "Linux-6.11.0-21-generic-x86_64-with-glibc2.39",
         "x86_64",
         "8",
         "16.64"
        ],
        [
         "109",
         "ForecasterRecursiveMultiSeries",
         "LGBMRegressor",
         "ForecasterRecursiveMultiSeries_predict_exog_is_dict",
         "451898dccb92cc6f0a674d62eb66e4d8",
         "0.4630448450003314",
         "0.041766957788499266",
         "2025-04-23 16:08:35.319060",
         "3.12.9",
         "0.16.0",
         "2.2.5",
         "2.2.3",
         "1.6.1",
         "4.6.0",
         "Linux-6.11.0-21-generic-x86_64-with-glibc2.39",
         "x86_64",
         "8",
         "16.64"
        ],
        [
         "121",
         "ForecasterRecursiveMultiSeries",
         "LGBMRegressor",
         "ForecasterRecursiveMultiSeries_predict_exog_is_dict",
         "451898dccb92cc6f0a674d62eb66e4d8",
         "0.46121814979997",
         "0.03881084220897723",
         "2025-04-23 16:12:03.950433",
         "3.12.9",
         "0.16.0",
         "2.2.5",
         "2.2.3",
         "1.6.1",
         "4.6.0",
         "Linux-6.11.0-21-generic-x86_64-with-glibc2.39",
         "x86_64",
         "8",
         "16.64"
        ],
        [
         "140",
         "ForecasterRecursiveMultiSeries",
         "LGBMRegressor",
         "ForecasterRecursiveMultiSeries_predict_exog_is_dict",
         "451898dccb92cc6f0a674d62eb66e4d8",
         "0.4459071466000751",
         "0.031986306372211566",
         "2025-04-23 20:13:09.132935",
         "3.12.9",
         "0.16.0",
         "2.2.5",
         "2.2.3",
         "1.6.1",
         "4.6.0",
         "Linux-6.11.0-21-generic-x86_64-with-glibc2.39",
         "x86_64",
         "8",
         "16.64"
        ],
        [
         "153",
         "ForecasterRecursiveMultiSeries",
         "LGBMRegressor",
         "ForecasterRecursiveMultiSeries_predict_exog_is_dict",
         "451898dccb92cc6f0a674d62eb66e4d8",
         "1.7010579692996544",
         "0.093446292632894",
         "2025-04-23 20:18:50.750732",
         "3.12.9",
         "0.15.1",
         "2.2.5",
         "2.2.3",
         "1.6.1",
         "4.6.0",
         "Linux-6.11.0-21-generic-x86_64-with-glibc2.39",
         "x86_64",
         "8",
         "16.64"
        ],
        [
         "166",
         "ForecasterRecursiveMultiSeries",
         "LGBMRegressor",
         "ForecasterRecursiveMultiSeries_predict_exog_is_dict",
         "451898dccb92cc6f0a674d62eb66e4d8",
         "1.6988346517005994",
         "0.10259456736874017",
         "2025-04-23 21:59:49.672956",
         "3.12.9",
         "0.15.1",
         "2.2.5",
         "2.2.3",
         "1.6.1",
         "4.6.0",
         "Linux-6.11.0-21-generic-x86_64-with-glibc2.39",
         "x86_64",
         "8",
         "16.64"
        ],
        [
         "179",
         "ForecasterRecursiveMultiSeries",
         "LGBMRegressor",
         "ForecasterRecursiveMultiSeries_predict_exog_is_dict",
         "451898dccb92cc6f0a674d62eb66e4d8",
         "1.7642110285003583",
         "0.08390273551091032",
         "2025-04-23 22:12:55.051541",
         "3.12.9",
         "0.14.0",
         "2.2.5",
         "2.2.3",
         "1.6.1",
         "4.6.0",
         "Linux-6.11.0-21-generic-x86_64-with-glibc2.39",
         "x86_64",
         "8",
         "16.64"
        ],
        [
         "192",
         "ForecasterRecursiveMultiSeries",
         "LGBMRegressor",
         "ForecasterRecursiveMultiSeries_predict_exog_is_dict",
         "451898dccb92cc6f0a674d62eb66e4d8",
         "1.6755455106002046",
         "0.027636738803306853",
         "2025-04-23 22:47:11.729015",
         "3.12.9",
         "0.14.0",
         "2.2.5",
         "2.2.3",
         "1.6.1",
         "4.6.0",
         "Linux-6.11.0-21-generic-x86_64-with-glibc2.39",
         "x86_64",
         "8",
         "16.64"
        ],
        [
         "206",
         "ForecasterRecursiveMultiSeries",
         "LGBMRegressor",
         "ForecasterRecursiveMultiSeries_predict_exog_is_dict",
         "451898dccb92cc6f0a674d62eb66e4d8",
         "0.4928786090000358",
         "0.043106702936253016",
         "2025-04-23 22:55:58.470139",
         "3.12.9",
         "0.16.0",
         "2.2.5",
         "2.2.3",
         "1.6.1",
         "4.6.0",
         "Linux-6.11.0-21-generic-x86_64-with-glibc2.39",
         "x86_64",
         "8",
         "16.64"
        ]
       ],
       "shape": {
        "columns": 17,
        "rows": 16
       }
      },
      "text/html": [
       "<div>\n",
       "<style scoped>\n",
       "    .dataframe tbody tr th:only-of-type {\n",
       "        vertical-align: middle;\n",
       "    }\n",
       "\n",
       "    .dataframe tbody tr th {\n",
       "        vertical-align: top;\n",
       "    }\n",
       "\n",
       "    .dataframe thead th {\n",
       "        text-align: right;\n",
       "    }\n",
       "</style>\n",
       "<table border=\"1\" class=\"dataframe\">\n",
       "  <thead>\n",
       "    <tr style=\"text-align: right;\">\n",
       "      <th></th>\n",
       "      <th>forecaster_name</th>\n",
       "      <th>regressor_name</th>\n",
       "      <th>function_name</th>\n",
       "      <th>function_hash</th>\n",
       "      <th>run_time_avg</th>\n",
       "      <th>run_time_std_dev</th>\n",
       "      <th>datetime</th>\n",
       "      <th>python_version</th>\n",
       "      <th>skforecast_version</th>\n",
       "      <th>numpy_version</th>\n",
       "      <th>pandas_version</th>\n",
       "      <th>sklearn_version</th>\n",
       "      <th>lightgbm_version</th>\n",
       "      <th>platform</th>\n",
       "      <th>processor</th>\n",
       "      <th>cpu_count</th>\n",
       "      <th>memory_gb</th>\n",
       "    </tr>\n",
       "  </thead>\n",
       "  <tbody>\n",
       "    <tr>\n",
       "      <th>5</th>\n",
       "      <td>ForecasterRecursiveMultiSeries</td>\n",
       "      <td>LGBMRegressor</td>\n",
       "      <td>ForecasterRecursiveMultiSeries_predict_exog_is...</td>\n",
       "      <td>451898dccb92cc6f0a674d62eb66e4d8</td>\n",
       "      <td>0.451472</td>\n",
       "      <td>0.038231</td>\n",
       "      <td>2025-04-23 15:05:51.687220</td>\n",
       "      <td>3.12.9</td>\n",
       "      <td>0.16.0</td>\n",
       "      <td>2.2.5</td>\n",
       "      <td>2.2.3</td>\n",
       "      <td>1.6.1</td>\n",
       "      <td>4.6.0</td>\n",
       "      <td>Linux-6.11.0-21-generic-x86_64-with-glibc2.39</td>\n",
       "      <td>x86_64</td>\n",
       "      <td>8</td>\n",
       "      <td>16.64</td>\n",
       "    </tr>\n",
       "    <tr>\n",
       "      <th>17</th>\n",
       "      <td>ForecasterRecursiveMultiSeries</td>\n",
       "      <td>LGBMRegressor</td>\n",
       "      <td>ForecasterRecursiveMultiSeries_predict_exog_is...</td>\n",
       "      <td>451898dccb92cc6f0a674d62eb66e4d8</td>\n",
       "      <td>1.681694</td>\n",
       "      <td>0.031587</td>\n",
       "      <td>2025-04-23 15:11:43.060889</td>\n",
       "      <td>3.12.9</td>\n",
       "      <td>0.15.1</td>\n",
       "      <td>2.2.5</td>\n",
       "      <td>2.2.3</td>\n",
       "      <td>1.6.1</td>\n",
       "      <td>4.6.0</td>\n",
       "      <td>Linux-6.11.0-21-generic-x86_64-with-glibc2.39</td>\n",
       "      <td>x86_64</td>\n",
       "      <td>8</td>\n",
       "      <td>16.64</td>\n",
       "    </tr>\n",
       "    <tr>\n",
       "      <th>29</th>\n",
       "      <td>ForecasterRecursiveMultiSeries</td>\n",
       "      <td>LGBMRegressor</td>\n",
       "      <td>ForecasterRecursiveMultiSeries_predict_exog_is...</td>\n",
       "      <td>451898dccb92cc6f0a674d62eb66e4d8</td>\n",
       "      <td>1.632832</td>\n",
       "      <td>0.007875</td>\n",
       "      <td>2025-04-23 15:15:38.802105</td>\n",
       "      <td>3.12.9</td>\n",
       "      <td>0.14.0</td>\n",
       "      <td>2.2.5</td>\n",
       "      <td>2.2.3</td>\n",
       "      <td>1.6.1</td>\n",
       "      <td>4.6.0</td>\n",
       "      <td>Linux-6.11.0-21-generic-x86_64-with-glibc2.39</td>\n",
       "      <td>x86_64</td>\n",
       "      <td>8</td>\n",
       "      <td>16.64</td>\n",
       "    </tr>\n",
       "    <tr>\n",
       "      <th>41</th>\n",
       "      <td>ForecasterAutoregMultiSeries</td>\n",
       "      <td>LGBMRegressor</td>\n",
       "      <td>ForecasterRecursiveMultiSeries_predict_exog_is...</td>\n",
       "      <td>451898dccb92cc6f0a674d62eb66e4d8</td>\n",
       "      <td>42.354621</td>\n",
       "      <td>1.205520</td>\n",
       "      <td>2025-04-23 15:27:57.654222</td>\n",
       "      <td>3.12.9</td>\n",
       "      <td>0.13.0</td>\n",
       "      <td>2.2.5</td>\n",
       "      <td>2.2.3</td>\n",
       "      <td>1.6.1</td>\n",
       "      <td>4.6.0</td>\n",
       "      <td>Linux-6.11.0-21-generic-x86_64-with-glibc2.39</td>\n",
       "      <td>x86_64</td>\n",
       "      <td>8</td>\n",
       "      <td>16.64</td>\n",
       "    </tr>\n",
       "    <tr>\n",
       "      <th>53</th>\n",
       "      <td>ForecasterAutoregMultiSeries</td>\n",
       "      <td>LGBMRegressor</td>\n",
       "      <td>ForecasterRecursiveMultiSeries_predict_exog_is...</td>\n",
       "      <td>451898dccb92cc6f0a674d62eb66e4d8</td>\n",
       "      <td>43.534917</td>\n",
       "      <td>2.283648</td>\n",
       "      <td>2025-04-23 15:37:24.551023</td>\n",
       "      <td>3.12.9</td>\n",
       "      <td>0.13.0</td>\n",
       "      <td>2.2.5</td>\n",
       "      <td>2.2.3</td>\n",
       "      <td>1.6.1</td>\n",
       "      <td>4.6.0</td>\n",
       "      <td>Linux-6.11.0-21-generic-x86_64-with-glibc2.39</td>\n",
       "      <td>x86_64</td>\n",
       "      <td>8</td>\n",
       "      <td>16.64</td>\n",
       "    </tr>\n",
       "    <tr>\n",
       "      <th>73</th>\n",
       "      <td>ForecasterRecursiveMultiSeries</td>\n",
       "      <td>LGBMRegressor</td>\n",
       "      <td>ForecasterRecursiveMultiSeries_predict_exog_is...</td>\n",
       "      <td>451898dccb92cc6f0a674d62eb66e4d8</td>\n",
       "      <td>1.796171</td>\n",
       "      <td>0.151445</td>\n",
       "      <td>2025-04-23 15:56:31.536580</td>\n",
       "      <td>3.12.9</td>\n",
       "      <td>0.14.0</td>\n",
       "      <td>2.2.5</td>\n",
       "      <td>2.2.3</td>\n",
       "      <td>1.6.1</td>\n",
       "      <td>4.6.0</td>\n",
       "      <td>Linux-6.11.0-21-generic-x86_64-with-glibc2.39</td>\n",
       "      <td>x86_64</td>\n",
       "      <td>8</td>\n",
       "      <td>16.64</td>\n",
       "    </tr>\n",
       "    <tr>\n",
       "      <th>85</th>\n",
       "      <td>ForecasterRecursiveMultiSeries</td>\n",
       "      <td>LGBMRegressor</td>\n",
       "      <td>ForecasterRecursiveMultiSeries_predict_exog_is...</td>\n",
       "      <td>451898dccb92cc6f0a674d62eb66e4d8</td>\n",
       "      <td>1.703143</td>\n",
       "      <td>0.009877</td>\n",
       "      <td>2025-04-23 16:00:43.551471</td>\n",
       "      <td>3.12.9</td>\n",
       "      <td>0.15.1</td>\n",
       "      <td>2.2.5</td>\n",
       "      <td>2.2.3</td>\n",
       "      <td>1.6.1</td>\n",
       "      <td>4.6.0</td>\n",
       "      <td>Linux-6.11.0-21-generic-x86_64-with-glibc2.39</td>\n",
       "      <td>x86_64</td>\n",
       "      <td>8</td>\n",
       "      <td>16.64</td>\n",
       "    </tr>\n",
       "    <tr>\n",
       "      <th>97</th>\n",
       "      <td>ForecasterRecursiveMultiSeries</td>\n",
       "      <td>LGBMRegressor</td>\n",
       "      <td>ForecasterRecursiveMultiSeries_predict_exog_is...</td>\n",
       "      <td>451898dccb92cc6f0a674d62eb66e4d8</td>\n",
       "      <td>1.695652</td>\n",
       "      <td>0.028556</td>\n",
       "      <td>2025-04-23 16:05:13.562818</td>\n",
       "      <td>3.12.9</td>\n",
       "      <td>0.15.1</td>\n",
       "      <td>2.2.5</td>\n",
       "      <td>2.2.3</td>\n",
       "      <td>1.6.1</td>\n",
       "      <td>4.6.0</td>\n",
       "      <td>Linux-6.11.0-21-generic-x86_64-with-glibc2.39</td>\n",
       "      <td>x86_64</td>\n",
       "      <td>8</td>\n",
       "      <td>16.64</td>\n",
       "    </tr>\n",
       "    <tr>\n",
       "      <th>109</th>\n",
       "      <td>ForecasterRecursiveMultiSeries</td>\n",
       "      <td>LGBMRegressor</td>\n",
       "      <td>ForecasterRecursiveMultiSeries_predict_exog_is...</td>\n",
       "      <td>451898dccb92cc6f0a674d62eb66e4d8</td>\n",
       "      <td>0.463045</td>\n",
       "      <td>0.041767</td>\n",
       "      <td>2025-04-23 16:08:35.319060</td>\n",
       "      <td>3.12.9</td>\n",
       "      <td>0.16.0</td>\n",
       "      <td>2.2.5</td>\n",
       "      <td>2.2.3</td>\n",
       "      <td>1.6.1</td>\n",
       "      <td>4.6.0</td>\n",
       "      <td>Linux-6.11.0-21-generic-x86_64-with-glibc2.39</td>\n",
       "      <td>x86_64</td>\n",
       "      <td>8</td>\n",
       "      <td>16.64</td>\n",
       "    </tr>\n",
       "    <tr>\n",
       "      <th>121</th>\n",
       "      <td>ForecasterRecursiveMultiSeries</td>\n",
       "      <td>LGBMRegressor</td>\n",
       "      <td>ForecasterRecursiveMultiSeries_predict_exog_is...</td>\n",
       "      <td>451898dccb92cc6f0a674d62eb66e4d8</td>\n",
       "      <td>0.461218</td>\n",
       "      <td>0.038811</td>\n",
       "      <td>2025-04-23 16:12:03.950433</td>\n",
       "      <td>3.12.9</td>\n",
       "      <td>0.16.0</td>\n",
       "      <td>2.2.5</td>\n",
       "      <td>2.2.3</td>\n",
       "      <td>1.6.1</td>\n",
       "      <td>4.6.0</td>\n",
       "      <td>Linux-6.11.0-21-generic-x86_64-with-glibc2.39</td>\n",
       "      <td>x86_64</td>\n",
       "      <td>8</td>\n",
       "      <td>16.64</td>\n",
       "    </tr>\n",
       "    <tr>\n",
       "      <th>140</th>\n",
       "      <td>ForecasterRecursiveMultiSeries</td>\n",
       "      <td>LGBMRegressor</td>\n",
       "      <td>ForecasterRecursiveMultiSeries_predict_exog_is...</td>\n",
       "      <td>451898dccb92cc6f0a674d62eb66e4d8</td>\n",
       "      <td>0.445907</td>\n",
       "      <td>0.031986</td>\n",
       "      <td>2025-04-23 20:13:09.132935</td>\n",
       "      <td>3.12.9</td>\n",
       "      <td>0.16.0</td>\n",
       "      <td>2.2.5</td>\n",
       "      <td>2.2.3</td>\n",
       "      <td>1.6.1</td>\n",
       "      <td>4.6.0</td>\n",
       "      <td>Linux-6.11.0-21-generic-x86_64-with-glibc2.39</td>\n",
       "      <td>x86_64</td>\n",
       "      <td>8</td>\n",
       "      <td>16.64</td>\n",
       "    </tr>\n",
       "    <tr>\n",
       "      <th>153</th>\n",
       "      <td>ForecasterRecursiveMultiSeries</td>\n",
       "      <td>LGBMRegressor</td>\n",
       "      <td>ForecasterRecursiveMultiSeries_predict_exog_is...</td>\n",
       "      <td>451898dccb92cc6f0a674d62eb66e4d8</td>\n",
       "      <td>1.701058</td>\n",
       "      <td>0.093446</td>\n",
       "      <td>2025-04-23 20:18:50.750732</td>\n",
       "      <td>3.12.9</td>\n",
       "      <td>0.15.1</td>\n",
       "      <td>2.2.5</td>\n",
       "      <td>2.2.3</td>\n",
       "      <td>1.6.1</td>\n",
       "      <td>4.6.0</td>\n",
       "      <td>Linux-6.11.0-21-generic-x86_64-with-glibc2.39</td>\n",
       "      <td>x86_64</td>\n",
       "      <td>8</td>\n",
       "      <td>16.64</td>\n",
       "    </tr>\n",
       "    <tr>\n",
       "      <th>166</th>\n",
       "      <td>ForecasterRecursiveMultiSeries</td>\n",
       "      <td>LGBMRegressor</td>\n",
       "      <td>ForecasterRecursiveMultiSeries_predict_exog_is...</td>\n",
       "      <td>451898dccb92cc6f0a674d62eb66e4d8</td>\n",
       "      <td>1.698835</td>\n",
       "      <td>0.102595</td>\n",
       "      <td>2025-04-23 21:59:49.672956</td>\n",
       "      <td>3.12.9</td>\n",
       "      <td>0.15.1</td>\n",
       "      <td>2.2.5</td>\n",
       "      <td>2.2.3</td>\n",
       "      <td>1.6.1</td>\n",
       "      <td>4.6.0</td>\n",
       "      <td>Linux-6.11.0-21-generic-x86_64-with-glibc2.39</td>\n",
       "      <td>x86_64</td>\n",
       "      <td>8</td>\n",
       "      <td>16.64</td>\n",
       "    </tr>\n",
       "    <tr>\n",
       "      <th>179</th>\n",
       "      <td>ForecasterRecursiveMultiSeries</td>\n",
       "      <td>LGBMRegressor</td>\n",
       "      <td>ForecasterRecursiveMultiSeries_predict_exog_is...</td>\n",
       "      <td>451898dccb92cc6f0a674d62eb66e4d8</td>\n",
       "      <td>1.764211</td>\n",
       "      <td>0.083903</td>\n",
       "      <td>2025-04-23 22:12:55.051541</td>\n",
       "      <td>3.12.9</td>\n",
       "      <td>0.14.0</td>\n",
       "      <td>2.2.5</td>\n",
       "      <td>2.2.3</td>\n",
       "      <td>1.6.1</td>\n",
       "      <td>4.6.0</td>\n",
       "      <td>Linux-6.11.0-21-generic-x86_64-with-glibc2.39</td>\n",
       "      <td>x86_64</td>\n",
       "      <td>8</td>\n",
       "      <td>16.64</td>\n",
       "    </tr>\n",
       "    <tr>\n",
       "      <th>192</th>\n",
       "      <td>ForecasterRecursiveMultiSeries</td>\n",
       "      <td>LGBMRegressor</td>\n",
       "      <td>ForecasterRecursiveMultiSeries_predict_exog_is...</td>\n",
       "      <td>451898dccb92cc6f0a674d62eb66e4d8</td>\n",
       "      <td>1.675546</td>\n",
       "      <td>0.027637</td>\n",
       "      <td>2025-04-23 22:47:11.729015</td>\n",
       "      <td>3.12.9</td>\n",
       "      <td>0.14.0</td>\n",
       "      <td>2.2.5</td>\n",
       "      <td>2.2.3</td>\n",
       "      <td>1.6.1</td>\n",
       "      <td>4.6.0</td>\n",
       "      <td>Linux-6.11.0-21-generic-x86_64-with-glibc2.39</td>\n",
       "      <td>x86_64</td>\n",
       "      <td>8</td>\n",
       "      <td>16.64</td>\n",
       "    </tr>\n",
       "    <tr>\n",
       "      <th>206</th>\n",
       "      <td>ForecasterRecursiveMultiSeries</td>\n",
       "      <td>LGBMRegressor</td>\n",
       "      <td>ForecasterRecursiveMultiSeries_predict_exog_is...</td>\n",
       "      <td>451898dccb92cc6f0a674d62eb66e4d8</td>\n",
       "      <td>0.492879</td>\n",
       "      <td>0.043107</td>\n",
       "      <td>2025-04-23 22:55:58.470139</td>\n",
       "      <td>3.12.9</td>\n",
       "      <td>0.16.0</td>\n",
       "      <td>2.2.5</td>\n",
       "      <td>2.2.3</td>\n",
       "      <td>1.6.1</td>\n",
       "      <td>4.6.0</td>\n",
       "      <td>Linux-6.11.0-21-generic-x86_64-with-glibc2.39</td>\n",
       "      <td>x86_64</td>\n",
       "      <td>8</td>\n",
       "      <td>16.64</td>\n",
       "    </tr>\n",
       "  </tbody>\n",
       "</table>\n",
       "</div>"
      ],
      "text/plain": [
       "                    forecaster_name regressor_name  \\\n",
       "5    ForecasterRecursiveMultiSeries  LGBMRegressor   \n",
       "17   ForecasterRecursiveMultiSeries  LGBMRegressor   \n",
       "29   ForecasterRecursiveMultiSeries  LGBMRegressor   \n",
       "41     ForecasterAutoregMultiSeries  LGBMRegressor   \n",
       "53     ForecasterAutoregMultiSeries  LGBMRegressor   \n",
       "73   ForecasterRecursiveMultiSeries  LGBMRegressor   \n",
       "85   ForecasterRecursiveMultiSeries  LGBMRegressor   \n",
       "97   ForecasterRecursiveMultiSeries  LGBMRegressor   \n",
       "109  ForecasterRecursiveMultiSeries  LGBMRegressor   \n",
       "121  ForecasterRecursiveMultiSeries  LGBMRegressor   \n",
       "140  ForecasterRecursiveMultiSeries  LGBMRegressor   \n",
       "153  ForecasterRecursiveMultiSeries  LGBMRegressor   \n",
       "166  ForecasterRecursiveMultiSeries  LGBMRegressor   \n",
       "179  ForecasterRecursiveMultiSeries  LGBMRegressor   \n",
       "192  ForecasterRecursiveMultiSeries  LGBMRegressor   \n",
       "206  ForecasterRecursiveMultiSeries  LGBMRegressor   \n",
       "\n",
       "                                         function_name  \\\n",
       "5    ForecasterRecursiveMultiSeries_predict_exog_is...   \n",
       "17   ForecasterRecursiveMultiSeries_predict_exog_is...   \n",
       "29   ForecasterRecursiveMultiSeries_predict_exog_is...   \n",
       "41   ForecasterRecursiveMultiSeries_predict_exog_is...   \n",
       "53   ForecasterRecursiveMultiSeries_predict_exog_is...   \n",
       "73   ForecasterRecursiveMultiSeries_predict_exog_is...   \n",
       "85   ForecasterRecursiveMultiSeries_predict_exog_is...   \n",
       "97   ForecasterRecursiveMultiSeries_predict_exog_is...   \n",
       "109  ForecasterRecursiveMultiSeries_predict_exog_is...   \n",
       "121  ForecasterRecursiveMultiSeries_predict_exog_is...   \n",
       "140  ForecasterRecursiveMultiSeries_predict_exog_is...   \n",
       "153  ForecasterRecursiveMultiSeries_predict_exog_is...   \n",
       "166  ForecasterRecursiveMultiSeries_predict_exog_is...   \n",
       "179  ForecasterRecursiveMultiSeries_predict_exog_is...   \n",
       "192  ForecasterRecursiveMultiSeries_predict_exog_is...   \n",
       "206  ForecasterRecursiveMultiSeries_predict_exog_is...   \n",
       "\n",
       "                        function_hash  run_time_avg  run_time_std_dev  \\\n",
       "5    451898dccb92cc6f0a674d62eb66e4d8      0.451472          0.038231   \n",
       "17   451898dccb92cc6f0a674d62eb66e4d8      1.681694          0.031587   \n",
       "29   451898dccb92cc6f0a674d62eb66e4d8      1.632832          0.007875   \n",
       "41   451898dccb92cc6f0a674d62eb66e4d8     42.354621          1.205520   \n",
       "53   451898dccb92cc6f0a674d62eb66e4d8     43.534917          2.283648   \n",
       "73   451898dccb92cc6f0a674d62eb66e4d8      1.796171          0.151445   \n",
       "85   451898dccb92cc6f0a674d62eb66e4d8      1.703143          0.009877   \n",
       "97   451898dccb92cc6f0a674d62eb66e4d8      1.695652          0.028556   \n",
       "109  451898dccb92cc6f0a674d62eb66e4d8      0.463045          0.041767   \n",
       "121  451898dccb92cc6f0a674d62eb66e4d8      0.461218          0.038811   \n",
       "140  451898dccb92cc6f0a674d62eb66e4d8      0.445907          0.031986   \n",
       "153  451898dccb92cc6f0a674d62eb66e4d8      1.701058          0.093446   \n",
       "166  451898dccb92cc6f0a674d62eb66e4d8      1.698835          0.102595   \n",
       "179  451898dccb92cc6f0a674d62eb66e4d8      1.764211          0.083903   \n",
       "192  451898dccb92cc6f0a674d62eb66e4d8      1.675546          0.027637   \n",
       "206  451898dccb92cc6f0a674d62eb66e4d8      0.492879          0.043107   \n",
       "\n",
       "                      datetime python_version skforecast_version  \\\n",
       "5   2025-04-23 15:05:51.687220         3.12.9             0.16.0   \n",
       "17  2025-04-23 15:11:43.060889         3.12.9             0.15.1   \n",
       "29  2025-04-23 15:15:38.802105         3.12.9             0.14.0   \n",
       "41  2025-04-23 15:27:57.654222         3.12.9             0.13.0   \n",
       "53  2025-04-23 15:37:24.551023         3.12.9             0.13.0   \n",
       "73  2025-04-23 15:56:31.536580         3.12.9             0.14.0   \n",
       "85  2025-04-23 16:00:43.551471         3.12.9             0.15.1   \n",
       "97  2025-04-23 16:05:13.562818         3.12.9             0.15.1   \n",
       "109 2025-04-23 16:08:35.319060         3.12.9             0.16.0   \n",
       "121 2025-04-23 16:12:03.950433         3.12.9             0.16.0   \n",
       "140 2025-04-23 20:13:09.132935         3.12.9             0.16.0   \n",
       "153 2025-04-23 20:18:50.750732         3.12.9             0.15.1   \n",
       "166 2025-04-23 21:59:49.672956         3.12.9             0.15.1   \n",
       "179 2025-04-23 22:12:55.051541         3.12.9             0.14.0   \n",
       "192 2025-04-23 22:47:11.729015         3.12.9             0.14.0   \n",
       "206 2025-04-23 22:55:58.470139         3.12.9             0.16.0   \n",
       "\n",
       "    numpy_version pandas_version sklearn_version lightgbm_version  \\\n",
       "5           2.2.5          2.2.3           1.6.1            4.6.0   \n",
       "17          2.2.5          2.2.3           1.6.1            4.6.0   \n",
       "29          2.2.5          2.2.3           1.6.1            4.6.0   \n",
       "41          2.2.5          2.2.3           1.6.1            4.6.0   \n",
       "53          2.2.5          2.2.3           1.6.1            4.6.0   \n",
       "73          2.2.5          2.2.3           1.6.1            4.6.0   \n",
       "85          2.2.5          2.2.3           1.6.1            4.6.0   \n",
       "97          2.2.5          2.2.3           1.6.1            4.6.0   \n",
       "109         2.2.5          2.2.3           1.6.1            4.6.0   \n",
       "121         2.2.5          2.2.3           1.6.1            4.6.0   \n",
       "140         2.2.5          2.2.3           1.6.1            4.6.0   \n",
       "153         2.2.5          2.2.3           1.6.1            4.6.0   \n",
       "166         2.2.5          2.2.3           1.6.1            4.6.0   \n",
       "179         2.2.5          2.2.3           1.6.1            4.6.0   \n",
       "192         2.2.5          2.2.3           1.6.1            4.6.0   \n",
       "206         2.2.5          2.2.3           1.6.1            4.6.0   \n",
       "\n",
       "                                          platform processor  cpu_count  \\\n",
       "5    Linux-6.11.0-21-generic-x86_64-with-glibc2.39    x86_64          8   \n",
       "17   Linux-6.11.0-21-generic-x86_64-with-glibc2.39    x86_64          8   \n",
       "29   Linux-6.11.0-21-generic-x86_64-with-glibc2.39    x86_64          8   \n",
       "41   Linux-6.11.0-21-generic-x86_64-with-glibc2.39    x86_64          8   \n",
       "53   Linux-6.11.0-21-generic-x86_64-with-glibc2.39    x86_64          8   \n",
       "73   Linux-6.11.0-21-generic-x86_64-with-glibc2.39    x86_64          8   \n",
       "85   Linux-6.11.0-21-generic-x86_64-with-glibc2.39    x86_64          8   \n",
       "97   Linux-6.11.0-21-generic-x86_64-with-glibc2.39    x86_64          8   \n",
       "109  Linux-6.11.0-21-generic-x86_64-with-glibc2.39    x86_64          8   \n",
       "121  Linux-6.11.0-21-generic-x86_64-with-glibc2.39    x86_64          8   \n",
       "140  Linux-6.11.0-21-generic-x86_64-with-glibc2.39    x86_64          8   \n",
       "153  Linux-6.11.0-21-generic-x86_64-with-glibc2.39    x86_64          8   \n",
       "166  Linux-6.11.0-21-generic-x86_64-with-glibc2.39    x86_64          8   \n",
       "179  Linux-6.11.0-21-generic-x86_64-with-glibc2.39    x86_64          8   \n",
       "192  Linux-6.11.0-21-generic-x86_64-with-glibc2.39    x86_64          8   \n",
       "206  Linux-6.11.0-21-generic-x86_64-with-glibc2.39    x86_64          8   \n",
       "\n",
       "     memory_gb  \n",
       "5        16.64  \n",
       "17       16.64  \n",
       "29       16.64  \n",
       "41       16.64  \n",
       "53       16.64  \n",
       "73       16.64  \n",
       "85       16.64  \n",
       "97       16.64  \n",
       "109      16.64  \n",
       "121      16.64  \n",
       "140      16.64  \n",
       "153      16.64  \n",
       "166      16.64  \n",
       "179      16.64  \n",
       "192      16.64  \n",
       "206      16.64  "
      ]
     },
     "metadata": {},
     "output_type": "display_data"
    },
    {
     "data": {
      "application/vnd.plotly.v1+json": {
       "config": {
        "plotlyServerURL": "https://plot.ly"
       },
       "data": [
        {
         "error_y": {
          "array": {
           "bdata": "PyuU8c5J8z/kQ7wS6UQCQA==",
           "dtype": "f8"
          },
          "color": "#636EFA",
          "thickness": 1.5,
          "type": "data",
          "visible": true,
          "width": 5
         },
         "hovertemplate": "%{text}<extra></extra>",
         "marker": {
          "color": "#636EFA",
          "opacity": 0.7,
          "size": 10
         },
         "mode": "markers",
         "name": "Run time - 0.13.0",
         "showlegend": true,
         "text": [
          "Forecaster: ForecasterAutoregMultiSeries<br>Regressor: LGBMRegressor<br>Function: ForecasterRecursiveMultiSeries_predict_exog_is_dict<br>Function_hash: 451898dccb92cc6f0a674d62eb66e4d8<br>Datetime: 2025-04-23 15:27:57.654222<br>Python version: 3.12.9<br>skforecast version: 0.13.0<br>numpy version: 2.2.5<br>pandas version: 2.2.3<br>sklearn version: 1.6.1<br>lightgbm version: 4.6.0<br>Platform: Linux-6.11.0-21-generic-x86_64-with-glibc2.39<br>Processor: x86_64<br>CPU count: 8<br>Memory (GB): 16.64<br>",
          "Forecaster: ForecasterAutoregMultiSeries<br>Regressor: LGBMRegressor<br>Function: ForecasterRecursiveMultiSeries_predict_exog_is_dict<br>Function_hash: 451898dccb92cc6f0a674d62eb66e4d8<br>Datetime: 2025-04-23 15:37:24.551023<br>Python version: 3.12.9<br>skforecast version: 0.13.0<br>numpy version: 2.2.5<br>pandas version: 2.2.3<br>sklearn version: 1.6.1<br>lightgbm version: 4.6.0<br>Platform: Linux-6.11.0-21-generic-x86_64-with-glibc2.39<br>Processor: x86_64<br>CPU count: 8<br>Memory (GB): 16.64<br>"
         ],
         "type": "scatter",
         "x": {
          "bdata": "fByzX9/Fir9AKClBT8iAPw==",
          "dtype": "f8"
         },
         "y": {
          "bdata": "M4KfN2QtRUAAnIUseMRFQA==",
          "dtype": "f8"
         }
        },
        {
         "error_y": {
          "array": {
           "bdata": "0G6bn/YggD8SCD/vjWLDP9B1EFGmerU/Hi1QJc5MnD8=",
           "dtype": "f8"
          },
          "color": "#EF553B",
          "thickness": 1.5,
          "type": "data",
          "visible": true,
          "width": 5
         },
         "hovertemplate": "%{text}<extra></extra>",
         "marker": {
          "color": "#EF553B",
          "opacity": 0.7,
          "size": 10
         },
         "mode": "markers",
         "name": "Run time - 0.14.0",
         "showlegend": true,
         "text": [
          "Forecaster: ForecasterRecursiveMultiSeries<br>Regressor: LGBMRegressor<br>Function: ForecasterRecursiveMultiSeries_predict_exog_is_dict<br>Function_hash: 451898dccb92cc6f0a674d62eb66e4d8<br>Datetime: 2025-04-23 15:15:38.802105<br>Python version: 3.12.9<br>skforecast version: 0.14.0<br>numpy version: 2.2.5<br>pandas version: 2.2.3<br>sklearn version: 1.6.1<br>lightgbm version: 4.6.0<br>Platform: Linux-6.11.0-21-generic-x86_64-with-glibc2.39<br>Processor: x86_64<br>CPU count: 8<br>Memory (GB): 16.64<br>",
          "Forecaster: ForecasterRecursiveMultiSeries<br>Regressor: LGBMRegressor<br>Function: ForecasterRecursiveMultiSeries_predict_exog_is_dict<br>Function_hash: 451898dccb92cc6f0a674d62eb66e4d8<br>Datetime: 2025-04-23 15:56:31.536580<br>Python version: 3.12.9<br>skforecast version: 0.14.0<br>numpy version: 2.2.5<br>pandas version: 2.2.3<br>sklearn version: 1.6.1<br>lightgbm version: 4.6.0<br>Platform: Linux-6.11.0-21-generic-x86_64-with-glibc2.39<br>Processor: x86_64<br>CPU count: 8<br>Memory (GB): 16.64<br>",
          "Forecaster: ForecasterRecursiveMultiSeries<br>Regressor: LGBMRegressor<br>Function: ForecasterRecursiveMultiSeries_predict_exog_is_dict<br>Function_hash: 451898dccb92cc6f0a674d62eb66e4d8<br>Datetime: 2025-04-23 22:12:55.051541<br>Python version: 3.12.9<br>skforecast version: 0.14.0<br>numpy version: 2.2.5<br>pandas version: 2.2.3<br>sklearn version: 1.6.1<br>lightgbm version: 4.6.0<br>Platform: Linux-6.11.0-21-generic-x86_64-with-glibc2.39<br>Processor: x86_64<br>CPU count: 8<br>Memory (GB): 16.64<br>",
          "Forecaster: ForecasterRecursiveMultiSeries<br>Regressor: LGBMRegressor<br>Function: ForecasterRecursiveMultiSeries_predict_exog_is_dict<br>Function_hash: 451898dccb92cc6f0a674d62eb66e4d8<br>Datetime: 2025-04-23 22:47:11.729015<br>Python version: 3.12.9<br>skforecast version: 0.14.0<br>numpy version: 2.2.5<br>pandas version: 2.2.3<br>sklearn version: 1.6.1<br>lightgbm version: 4.6.0<br>Platform: Linux-6.11.0-21-generic-x86_64-with-glibc2.39<br>Processor: x86_64<br>CPU count: 8<br>Memory (GB): 16.64<br>"
         ],
         "type": "scatter",
         "x": {
          "bdata": "WsufM0wh8D/sid4cvavwP0fPO5Hnwu4/vWqPYB4m7z8=",
          "dtype": "f8"
         },
         "y": {
          "bdata": "MzObEhQg+j/NbOY/Hr38P81s6lc1Ovw/zcwvzwjP+j8=",
          "dtype": "f8"
         }
        },
        {
         "error_y": {
          "array": {
           "bdata": "+6s4ODQsoD/NA8GaITqEP8LXzWC8PZ0//GzKohjstz/4k5g3o0O6Pw==",
           "dtype": "f8"
          },
          "color": "#00CC96",
          "thickness": 1.5,
          "type": "data",
          "visible": true,
          "width": 5
         },
         "hovertemplate": "%{text}<extra></extra>",
         "marker": {
          "color": "#00CC96",
          "opacity": 0.7,
          "size": 10
         },
         "mode": "markers",
         "name": "Run time - 0.15.1",
         "showlegend": true,
         "text": [
          "Forecaster: ForecasterRecursiveMultiSeries<br>Regressor: LGBMRegressor<br>Function: ForecasterRecursiveMultiSeries_predict_exog_is_dict<br>Function_hash: 451898dccb92cc6f0a674d62eb66e4d8<br>Datetime: 2025-04-23 15:11:43.060889<br>Python version: 3.12.9<br>skforecast version: 0.15.1<br>numpy version: 2.2.5<br>pandas version: 2.2.3<br>sklearn version: 1.6.1<br>lightgbm version: 4.6.0<br>Platform: Linux-6.11.0-21-generic-x86_64-with-glibc2.39<br>Processor: x86_64<br>CPU count: 8<br>Memory (GB): 16.64<br>",
          "Forecaster: ForecasterRecursiveMultiSeries<br>Regressor: LGBMRegressor<br>Function: ForecasterRecursiveMultiSeries_predict_exog_is_dict<br>Function_hash: 451898dccb92cc6f0a674d62eb66e4d8<br>Datetime: 2025-04-23 16:00:43.551471<br>Python version: 3.12.9<br>skforecast version: 0.15.1<br>numpy version: 2.2.5<br>pandas version: 2.2.3<br>sklearn version: 1.6.1<br>lightgbm version: 4.6.0<br>Platform: Linux-6.11.0-21-generic-x86_64-with-glibc2.39<br>Processor: x86_64<br>CPU count: 8<br>Memory (GB): 16.64<br>",
          "Forecaster: ForecasterRecursiveMultiSeries<br>Regressor: LGBMRegressor<br>Function: ForecasterRecursiveMultiSeries_predict_exog_is_dict<br>Function_hash: 451898dccb92cc6f0a674d62eb66e4d8<br>Datetime: 2025-04-23 16:05:13.562818<br>Python version: 3.12.9<br>skforecast version: 0.15.1<br>numpy version: 2.2.5<br>pandas version: 2.2.3<br>sklearn version: 1.6.1<br>lightgbm version: 4.6.0<br>Platform: Linux-6.11.0-21-generic-x86_64-with-glibc2.39<br>Processor: x86_64<br>CPU count: 8<br>Memory (GB): 16.64<br>",
          "Forecaster: ForecasterRecursiveMultiSeries<br>Regressor: LGBMRegressor<br>Function: ForecasterRecursiveMultiSeries_predict_exog_is_dict<br>Function_hash: 451898dccb92cc6f0a674d62eb66e4d8<br>Datetime: 2025-04-23 20:18:50.750732<br>Python version: 3.12.9<br>skforecast version: 0.15.1<br>numpy version: 2.2.5<br>pandas version: 2.2.3<br>sklearn version: 1.6.1<br>lightgbm version: 4.6.0<br>Platform: Linux-6.11.0-21-generic-x86_64-with-glibc2.39<br>Processor: x86_64<br>CPU count: 8<br>Memory (GB): 16.64<br>",
          "Forecaster: ForecasterRecursiveMultiSeries<br>Regressor: LGBMRegressor<br>Function: ForecasterRecursiveMultiSeries_predict_exog_is_dict<br>Function_hash: 451898dccb92cc6f0a674d62eb66e4d8<br>Datetime: 2025-04-23 21:59:49.672956<br>Python version: 3.12.9<br>skforecast version: 0.15.1<br>numpy version: 2.2.5<br>pandas version: 2.2.3<br>sklearn version: 1.6.1<br>lightgbm version: 4.6.0<br>Platform: Linux-6.11.0-21-generic-x86_64-with-glibc2.39<br>Processor: x86_64<br>CPU count: 8<br>Memory (GB): 16.64<br>"
         ],
         "type": "scatter",
         "x": {
          "bdata": "PJXABdYrAEAE9ARBKzsAQLPaQ8D49/8/3XFGslY0AEC7OdZSiFAAQA==",
          "dtype": "f8"
         },
         "y": {
          "bdata": "zeySVzjo+j/NzBnVEkD7P2YGLS9kIfs/AOCrj4g3+z+a2WU+bS77Pw==",
          "dtype": "f8"
         }
        },
        {
         "error_y": {
          "array": {
           "bdata": "k2+9e/+Soz+RkYKLemKlP58ZCcQD36M/UbSTV4JgoD/4/bLuFBKmPw==",
           "dtype": "f8"
          },
          "color": "#AB63FA",
          "thickness": 1.5,
          "type": "data",
          "visible": true,
          "width": 5
         },
         "hovertemplate": "%{text}<extra></extra>",
         "marker": {
          "color": "#AB63FA",
          "opacity": 0.7,
          "size": 10
         },
         "mode": "markers",
         "name": "Run time - 0.16.0",
         "showlegend": true,
         "text": [
          "Forecaster: ForecasterRecursiveMultiSeries<br>Regressor: LGBMRegressor<br>Function: ForecasterRecursiveMultiSeries_predict_exog_is_dict<br>Function_hash: 451898dccb92cc6f0a674d62eb66e4d8<br>Datetime: 2025-04-23 15:05:51.687220<br>Python version: 3.12.9<br>skforecast version: 0.16.0<br>numpy version: 2.2.5<br>pandas version: 2.2.3<br>sklearn version: 1.6.1<br>lightgbm version: 4.6.0<br>Platform: Linux-6.11.0-21-generic-x86_64-with-glibc2.39<br>Processor: x86_64<br>CPU count: 8<br>Memory (GB): 16.64<br>",
          "Forecaster: ForecasterRecursiveMultiSeries<br>Regressor: LGBMRegressor<br>Function: ForecasterRecursiveMultiSeries_predict_exog_is_dict<br>Function_hash: 451898dccb92cc6f0a674d62eb66e4d8<br>Datetime: 2025-04-23 16:08:35.319060<br>Python version: 3.12.9<br>skforecast version: 0.16.0<br>numpy version: 2.2.5<br>pandas version: 2.2.3<br>sklearn version: 1.6.1<br>lightgbm version: 4.6.0<br>Platform: Linux-6.11.0-21-generic-x86_64-with-glibc2.39<br>Processor: x86_64<br>CPU count: 8<br>Memory (GB): 16.64<br>",
          "Forecaster: ForecasterRecursiveMultiSeries<br>Regressor: LGBMRegressor<br>Function: ForecasterRecursiveMultiSeries_predict_exog_is_dict<br>Function_hash: 451898dccb92cc6f0a674d62eb66e4d8<br>Datetime: 2025-04-23 16:12:03.950433<br>Python version: 3.12.9<br>skforecast version: 0.16.0<br>numpy version: 2.2.5<br>pandas version: 2.2.3<br>sklearn version: 1.6.1<br>lightgbm version: 4.6.0<br>Platform: Linux-6.11.0-21-generic-x86_64-with-glibc2.39<br>Processor: x86_64<br>CPU count: 8<br>Memory (GB): 16.64<br>",
          "Forecaster: ForecasterRecursiveMultiSeries<br>Regressor: LGBMRegressor<br>Function: ForecasterRecursiveMultiSeries_predict_exog_is_dict<br>Function_hash: 451898dccb92cc6f0a674d62eb66e4d8<br>Datetime: 2025-04-23 20:13:09.132935<br>Python version: 3.12.9<br>skforecast version: 0.16.0<br>numpy version: 2.2.5<br>pandas version: 2.2.3<br>sklearn version: 1.6.1<br>lightgbm version: 4.6.0<br>Platform: Linux-6.11.0-21-generic-x86_64-with-glibc2.39<br>Processor: x86_64<br>CPU count: 8<br>Memory (GB): 16.64<br>",
          "Forecaster: ForecasterRecursiveMultiSeries<br>Regressor: LGBMRegressor<br>Function: ForecasterRecursiveMultiSeries_predict_exog_is_dict<br>Function_hash: 451898dccb92cc6f0a674d62eb66e4d8<br>Datetime: 2025-04-23 22:55:58.470139<br>Python version: 3.12.9<br>skforecast version: 0.16.0<br>numpy version: 2.2.5<br>pandas version: 2.2.3<br>sklearn version: 1.6.1<br>lightgbm version: 4.6.0<br>Platform: Linux-6.11.0-21-generic-x86_64-with-glibc2.39<br>Processor: x86_64<br>CPU count: 8<br>Memory (GB): 16.64<br>"
         ],
         "type": "scatter",
         "x": {
          "bdata": "wFSMOCUtCED06Y867kEIQDttXEnoOghAKuMOOLRDCEBC7DYQsQgIQA==",
          "dtype": "f8"
         },
         "y": {
          "bdata": "zUxf8Ojk3D9m5nbYhqLdP5qZbSGZhN0/zczsIL6J3D9mZqO4UovfPw==",
          "dtype": "f8"
         }
        },
        {
         "line": {
          "color": "black",
          "width": 2
         },
         "marker": {
          "color": "black",
          "size": 8
         },
         "mode": "lines+markers",
         "name": "Median (per version)",
         "type": "scatter",
         "x": {
          "bdata": "AAECAw==",
          "dtype": "i1"
         },
         "y": {
          "bdata": "Go8SMu54RUDNHI0Tn4T7P5rZZT5tLvs/mpltIZmE3T8=",
          "dtype": "f8"
         }
        }
       ],
       "layout": {
        "showlegend": true,
        "template": {
         "data": {
          "bar": [
           {
            "error_x": {
             "color": "#2a3f5f"
            },
            "error_y": {
             "color": "#2a3f5f"
            },
            "marker": {
             "line": {
              "color": "#E5ECF6",
              "width": 0.5
             },
             "pattern": {
              "fillmode": "overlay",
              "size": 10,
              "solidity": 0.2
             }
            },
            "type": "bar"
           }
          ],
          "barpolar": [
           {
            "marker": {
             "line": {
              "color": "#E5ECF6",
              "width": 0.5
             },
             "pattern": {
              "fillmode": "overlay",
              "size": 10,
              "solidity": 0.2
             }
            },
            "type": "barpolar"
           }
          ],
          "carpet": [
           {
            "aaxis": {
             "endlinecolor": "#2a3f5f",
             "gridcolor": "white",
             "linecolor": "white",
             "minorgridcolor": "white",
             "startlinecolor": "#2a3f5f"
            },
            "baxis": {
             "endlinecolor": "#2a3f5f",
             "gridcolor": "white",
             "linecolor": "white",
             "minorgridcolor": "white",
             "startlinecolor": "#2a3f5f"
            },
            "type": "carpet"
           }
          ],
          "choropleth": [
           {
            "colorbar": {
             "outlinewidth": 0,
             "ticks": ""
            },
            "type": "choropleth"
           }
          ],
          "contour": [
           {
            "colorbar": {
             "outlinewidth": 0,
             "ticks": ""
            },
            "colorscale": [
             [
              0,
              "#0d0887"
             ],
             [
              0.1111111111111111,
              "#46039f"
             ],
             [
              0.2222222222222222,
              "#7201a8"
             ],
             [
              0.3333333333333333,
              "#9c179e"
             ],
             [
              0.4444444444444444,
              "#bd3786"
             ],
             [
              0.5555555555555556,
              "#d8576b"
             ],
             [
              0.6666666666666666,
              "#ed7953"
             ],
             [
              0.7777777777777778,
              "#fb9f3a"
             ],
             [
              0.8888888888888888,
              "#fdca26"
             ],
             [
              1,
              "#f0f921"
             ]
            ],
            "type": "contour"
           }
          ],
          "contourcarpet": [
           {
            "colorbar": {
             "outlinewidth": 0,
             "ticks": ""
            },
            "type": "contourcarpet"
           }
          ],
          "heatmap": [
           {
            "colorbar": {
             "outlinewidth": 0,
             "ticks": ""
            },
            "colorscale": [
             [
              0,
              "#0d0887"
             ],
             [
              0.1111111111111111,
              "#46039f"
             ],
             [
              0.2222222222222222,
              "#7201a8"
             ],
             [
              0.3333333333333333,
              "#9c179e"
             ],
             [
              0.4444444444444444,
              "#bd3786"
             ],
             [
              0.5555555555555556,
              "#d8576b"
             ],
             [
              0.6666666666666666,
              "#ed7953"
             ],
             [
              0.7777777777777778,
              "#fb9f3a"
             ],
             [
              0.8888888888888888,
              "#fdca26"
             ],
             [
              1,
              "#f0f921"
             ]
            ],
            "type": "heatmap"
           }
          ],
          "histogram": [
           {
            "marker": {
             "pattern": {
              "fillmode": "overlay",
              "size": 10,
              "solidity": 0.2
             }
            },
            "type": "histogram"
           }
          ],
          "histogram2d": [
           {
            "colorbar": {
             "outlinewidth": 0,
             "ticks": ""
            },
            "colorscale": [
             [
              0,
              "#0d0887"
             ],
             [
              0.1111111111111111,
              "#46039f"
             ],
             [
              0.2222222222222222,
              "#7201a8"
             ],
             [
              0.3333333333333333,
              "#9c179e"
             ],
             [
              0.4444444444444444,
              "#bd3786"
             ],
             [
              0.5555555555555556,
              "#d8576b"
             ],
             [
              0.6666666666666666,
              "#ed7953"
             ],
             [
              0.7777777777777778,
              "#fb9f3a"
             ],
             [
              0.8888888888888888,
              "#fdca26"
             ],
             [
              1,
              "#f0f921"
             ]
            ],
            "type": "histogram2d"
           }
          ],
          "histogram2dcontour": [
           {
            "colorbar": {
             "outlinewidth": 0,
             "ticks": ""
            },
            "colorscale": [
             [
              0,
              "#0d0887"
             ],
             [
              0.1111111111111111,
              "#46039f"
             ],
             [
              0.2222222222222222,
              "#7201a8"
             ],
             [
              0.3333333333333333,
              "#9c179e"
             ],
             [
              0.4444444444444444,
              "#bd3786"
             ],
             [
              0.5555555555555556,
              "#d8576b"
             ],
             [
              0.6666666666666666,
              "#ed7953"
             ],
             [
              0.7777777777777778,
              "#fb9f3a"
             ],
             [
              0.8888888888888888,
              "#fdca26"
             ],
             [
              1,
              "#f0f921"
             ]
            ],
            "type": "histogram2dcontour"
           }
          ],
          "mesh3d": [
           {
            "colorbar": {
             "outlinewidth": 0,
             "ticks": ""
            },
            "type": "mesh3d"
           }
          ],
          "parcoords": [
           {
            "line": {
             "colorbar": {
              "outlinewidth": 0,
              "ticks": ""
             }
            },
            "type": "parcoords"
           }
          ],
          "pie": [
           {
            "automargin": true,
            "type": "pie"
           }
          ],
          "scatter": [
           {
            "fillpattern": {
             "fillmode": "overlay",
             "size": 10,
             "solidity": 0.2
            },
            "type": "scatter"
           }
          ],
          "scatter3d": [
           {
            "line": {
             "colorbar": {
              "outlinewidth": 0,
              "ticks": ""
             }
            },
            "marker": {
             "colorbar": {
              "outlinewidth": 0,
              "ticks": ""
             }
            },
            "type": "scatter3d"
           }
          ],
          "scattercarpet": [
           {
            "marker": {
             "colorbar": {
              "outlinewidth": 0,
              "ticks": ""
             }
            },
            "type": "scattercarpet"
           }
          ],
          "scattergeo": [
           {
            "marker": {
             "colorbar": {
              "outlinewidth": 0,
              "ticks": ""
             }
            },
            "type": "scattergeo"
           }
          ],
          "scattergl": [
           {
            "marker": {
             "colorbar": {
              "outlinewidth": 0,
              "ticks": ""
             }
            },
            "type": "scattergl"
           }
          ],
          "scattermap": [
           {
            "marker": {
             "colorbar": {
              "outlinewidth": 0,
              "ticks": ""
             }
            },
            "type": "scattermap"
           }
          ],
          "scattermapbox": [
           {
            "marker": {
             "colorbar": {
              "outlinewidth": 0,
              "ticks": ""
             }
            },
            "type": "scattermapbox"
           }
          ],
          "scatterpolar": [
           {
            "marker": {
             "colorbar": {
              "outlinewidth": 0,
              "ticks": ""
             }
            },
            "type": "scatterpolar"
           }
          ],
          "scatterpolargl": [
           {
            "marker": {
             "colorbar": {
              "outlinewidth": 0,
              "ticks": ""
             }
            },
            "type": "scatterpolargl"
           }
          ],
          "scatterternary": [
           {
            "marker": {
             "colorbar": {
              "outlinewidth": 0,
              "ticks": ""
             }
            },
            "type": "scatterternary"
           }
          ],
          "surface": [
           {
            "colorbar": {
             "outlinewidth": 0,
             "ticks": ""
            },
            "colorscale": [
             [
              0,
              "#0d0887"
             ],
             [
              0.1111111111111111,
              "#46039f"
             ],
             [
              0.2222222222222222,
              "#7201a8"
             ],
             [
              0.3333333333333333,
              "#9c179e"
             ],
             [
              0.4444444444444444,
              "#bd3786"
             ],
             [
              0.5555555555555556,
              "#d8576b"
             ],
             [
              0.6666666666666666,
              "#ed7953"
             ],
             [
              0.7777777777777778,
              "#fb9f3a"
             ],
             [
              0.8888888888888888,
              "#fdca26"
             ],
             [
              1,
              "#f0f921"
             ]
            ],
            "type": "surface"
           }
          ],
          "table": [
           {
            "cells": {
             "fill": {
              "color": "#EBF0F8"
             },
             "line": {
              "color": "white"
             }
            },
            "header": {
             "fill": {
              "color": "#C8D4E3"
             },
             "line": {
              "color": "white"
             }
            },
            "type": "table"
           }
          ]
         },
         "layout": {
          "annotationdefaults": {
           "arrowcolor": "#2a3f5f",
           "arrowhead": 0,
           "arrowwidth": 1
          },
          "autotypenumbers": "strict",
          "coloraxis": {
           "colorbar": {
            "outlinewidth": 0,
            "ticks": ""
           }
          },
          "colorscale": {
           "diverging": [
            [
             0,
             "#8e0152"
            ],
            [
             0.1,
             "#c51b7d"
            ],
            [
             0.2,
             "#de77ae"
            ],
            [
             0.3,
             "#f1b6da"
            ],
            [
             0.4,
             "#fde0ef"
            ],
            [
             0.5,
             "#f7f7f7"
            ],
            [
             0.6,
             "#e6f5d0"
            ],
            [
             0.7,
             "#b8e186"
            ],
            [
             0.8,
             "#7fbc41"
            ],
            [
             0.9,
             "#4d9221"
            ],
            [
             1,
             "#276419"
            ]
           ],
           "sequential": [
            [
             0,
             "#0d0887"
            ],
            [
             0.1111111111111111,
             "#46039f"
            ],
            [
             0.2222222222222222,
             "#7201a8"
            ],
            [
             0.3333333333333333,
             "#9c179e"
            ],
            [
             0.4444444444444444,
             "#bd3786"
            ],
            [
             0.5555555555555556,
             "#d8576b"
            ],
            [
             0.6666666666666666,
             "#ed7953"
            ],
            [
             0.7777777777777778,
             "#fb9f3a"
            ],
            [
             0.8888888888888888,
             "#fdca26"
            ],
            [
             1,
             "#f0f921"
            ]
           ],
           "sequentialminus": [
            [
             0,
             "#0d0887"
            ],
            [
             0.1111111111111111,
             "#46039f"
            ],
            [
             0.2222222222222222,
             "#7201a8"
            ],
            [
             0.3333333333333333,
             "#9c179e"
            ],
            [
             0.4444444444444444,
             "#bd3786"
            ],
            [
             0.5555555555555556,
             "#d8576b"
            ],
            [
             0.6666666666666666,
             "#ed7953"
            ],
            [
             0.7777777777777778,
             "#fb9f3a"
            ],
            [
             0.8888888888888888,
             "#fdca26"
            ],
            [
             1,
             "#f0f921"
            ]
           ]
          },
          "colorway": [
           "#636efa",
           "#EF553B",
           "#00cc96",
           "#ab63fa",
           "#FFA15A",
           "#19d3f3",
           "#FF6692",
           "#B6E880",
           "#FF97FF",
           "#FECB52"
          ],
          "font": {
           "color": "#2a3f5f"
          },
          "geo": {
           "bgcolor": "white",
           "lakecolor": "white",
           "landcolor": "#E5ECF6",
           "showlakes": true,
           "showland": true,
           "subunitcolor": "white"
          },
          "hoverlabel": {
           "align": "left"
          },
          "hovermode": "closest",
          "mapbox": {
           "style": "light"
          },
          "paper_bgcolor": "white",
          "plot_bgcolor": "#E5ECF6",
          "polar": {
           "angularaxis": {
            "gridcolor": "white",
            "linecolor": "white",
            "ticks": ""
           },
           "bgcolor": "#E5ECF6",
           "radialaxis": {
            "gridcolor": "white",
            "linecolor": "white",
            "ticks": ""
           }
          },
          "scene": {
           "xaxis": {
            "backgroundcolor": "#E5ECF6",
            "gridcolor": "white",
            "gridwidth": 2,
            "linecolor": "white",
            "showbackground": true,
            "ticks": "",
            "zerolinecolor": "white"
           },
           "yaxis": {
            "backgroundcolor": "#E5ECF6",
            "gridcolor": "white",
            "gridwidth": 2,
            "linecolor": "white",
            "showbackground": true,
            "ticks": "",
            "zerolinecolor": "white"
           },
           "zaxis": {
            "backgroundcolor": "#E5ECF6",
            "gridcolor": "white",
            "gridwidth": 2,
            "linecolor": "white",
            "showbackground": true,
            "ticks": "",
            "zerolinecolor": "white"
           }
          },
          "shapedefaults": {
           "line": {
            "color": "#2a3f5f"
           }
          },
          "ternary": {
           "aaxis": {
            "gridcolor": "white",
            "linecolor": "white",
            "ticks": ""
           },
           "baxis": {
            "gridcolor": "white",
            "linecolor": "white",
            "ticks": ""
           },
           "bgcolor": "#E5ECF6",
           "caxis": {
            "gridcolor": "white",
            "linecolor": "white",
            "ticks": ""
           }
          },
          "title": {
           "x": 0.05
          },
          "xaxis": {
           "automargin": true,
           "gridcolor": "white",
           "linecolor": "white",
           "ticks": "",
           "title": {
            "standoff": 15
           },
           "zerolinecolor": "white",
           "zerolinewidth": 2
          },
          "yaxis": {
           "automargin": true,
           "gridcolor": "white",
           "linecolor": "white",
           "ticks": "",
           "title": {
            "standoff": 15
           },
           "zerolinecolor": "white",
           "zerolinewidth": 2
          }
         }
        },
        "title": {
         "text": "Execution time of ForecasterRecursiveMultiSeries_predict_exog_is_dict"
        },
        "xaxis": {
         "tickangle": -45,
         "tickmode": "array",
         "ticktext": [
          "0.13.0",
          "0.14.0",
          "0.15.1",
          "0.16.0"
         ],
         "tickvals": [
          0,
          1,
          2,
          3
         ],
         "title": {
          "text": "skforecast version"
         }
        },
        "yaxis": {
         "title": {
          "text": "Execution time (seconds)"
         }
        }
       }
      }
     },
     "metadata": {},
     "output_type": "display_data"
    },
    {
     "data": {
      "application/vnd.microsoft.datawrangler.viewer.v0+json": {
       "columns": [
        {
         "name": "index",
         "rawType": "int64",
         "type": "integer"
        },
        {
         "name": "forecaster_name",
         "rawType": "object",
         "type": "string"
        },
        {
         "name": "regressor_name",
         "rawType": "object",
         "type": "string"
        },
        {
         "name": "function_name",
         "rawType": "object",
         "type": "string"
        },
        {
         "name": "function_hash",
         "rawType": "object",
         "type": "string"
        },
        {
         "name": "run_time_avg",
         "rawType": "float64",
         "type": "float"
        },
        {
         "name": "run_time_std_dev",
         "rawType": "float64",
         "type": "float"
        },
        {
         "name": "datetime",
         "rawType": "datetime64[ns]",
         "type": "datetime"
        },
        {
         "name": "python_version",
         "rawType": "object",
         "type": "string"
        },
        {
         "name": "skforecast_version",
         "rawType": "object",
         "type": "string"
        },
        {
         "name": "numpy_version",
         "rawType": "object",
         "type": "string"
        },
        {
         "name": "pandas_version",
         "rawType": "object",
         "type": "string"
        },
        {
         "name": "sklearn_version",
         "rawType": "object",
         "type": "string"
        },
        {
         "name": "lightgbm_version",
         "rawType": "object",
         "type": "string"
        },
        {
         "name": "platform",
         "rawType": "object",
         "type": "string"
        },
        {
         "name": "processor",
         "rawType": "object",
         "type": "string"
        },
        {
         "name": "cpu_count",
         "rawType": "int64",
         "type": "integer"
        },
        {
         "name": "memory_gb",
         "rawType": "float64",
         "type": "float"
        }
       ],
       "conversionMethod": "pd.DataFrame",
       "ref": "2f19507d-2018-4f6f-8301-8495dc6bc5b8",
       "rows": [
        [
         "6",
         "ForecasterRecursiveMultiSeries",
         "LGBMRegressor",
         "ForecasterRecursiveMultiSeries__create_predict_inputs_exog_is_dict",
         "52b1c12811cade5921c24c58d5503d03",
         "0.294341627799804",
         "0.03278217664350058",
         "2025-04-23 15:05:53.948491",
         "3.12.9",
         "0.16.0",
         "2.2.5",
         "2.2.3",
         "1.6.1",
         "4.6.0",
         "Linux-6.11.0-21-generic-x86_64-with-glibc2.39",
         "x86_64",
         "8",
         "16.64"
        ],
        [
         "18",
         "ForecasterRecursiveMultiSeries",
         "LGBMRegressor",
         "ForecasterRecursiveMultiSeries__create_predict_inputs_exog_is_dict",
         "52b1c12811cade5921c24c58d5503d03",
         "1.5515443933993083",
         "0.0489450400962138",
         "2025-04-23 15:11:51.473073",
         "3.12.9",
         "0.15.1",
         "2.2.5",
         "2.2.3",
         "1.6.1",
         "4.6.0",
         "Linux-6.11.0-21-generic-x86_64-with-glibc2.39",
         "x86_64",
         "8",
         "16.64"
        ],
        [
         "30",
         "ForecasterRecursiveMultiSeries",
         "LGBMRegressor",
         "ForecasterRecursiveMultiSeries__create_predict_inputs_exog_is_dict",
         "52b1c12811cade5921c24c58d5503d03",
         "1.5085263796001527",
         "0.016043268579576088",
         "2025-04-23 15:15:46.970652",
         "3.12.9",
         "0.14.0",
         "2.2.5",
         "2.2.3",
         "1.6.1",
         "4.6.0",
         "Linux-6.11.0-21-generic-x86_64-with-glibc2.39",
         "x86_64",
         "8",
         "16.64"
        ],
        [
         "42",
         "ForecasterAutoregMultiSeries",
         "LGBMRegressor",
         "ForecasterRecursiveMultiSeries__create_predict_inputs_exog_is_dict",
         "52b1c12811cade5921c24c58d5503d03",
         null,
         null,
         "2025-04-23 15:31:29.431385",
         "3.12.9",
         "0.13.0",
         "2.2.5",
         "2.2.3",
         "1.6.1",
         "4.6.0",
         "Linux-6.11.0-21-generic-x86_64-with-glibc2.39",
         "x86_64",
         "8",
         "16.64"
        ],
        [
         "54",
         "ForecasterAutoregMultiSeries",
         "LGBMRegressor",
         "ForecasterRecursiveMultiSeries__create_predict_inputs_exog_is_dict",
         "52b1c12811cade5921c24c58d5503d03",
         null,
         null,
         "2025-04-23 15:41:02.231555",
         "3.12.9",
         "0.13.0",
         "2.2.5",
         "2.2.3",
         "1.6.1",
         "4.6.0",
         "Linux-6.11.0-21-generic-x86_64-with-glibc2.39",
         "x86_64",
         "8",
         "16.64"
        ],
        [
         "74",
         "ForecasterRecursiveMultiSeries",
         "LGBMRegressor",
         "ForecasterRecursiveMultiSeries__create_predict_inputs_exog_is_dict",
         "52b1c12811cade5921c24c58d5503d03",
         "1.5827636112000618",
         "0.09688128701446776",
         "2025-04-23 15:56:40.522196",
         "3.12.9",
         "0.14.0",
         "2.2.5",
         "2.2.3",
         "1.6.1",
         "4.6.0",
         "Linux-6.11.0-21-generic-x86_64-with-glibc2.39",
         "x86_64",
         "8",
         "16.64"
        ],
        [
         "86",
         "ForecasterRecursiveMultiSeries",
         "LGBMRegressor",
         "ForecasterRecursiveMultiSeries__create_predict_inputs_exog_is_dict",
         "52b1c12811cade5921c24c58d5503d03",
         "1.7050989196006412",
         "0.28197895788387556",
         "2025-04-23 16:00:52.071181",
         "3.12.9",
         "0.15.1",
         "2.2.5",
         "2.2.3",
         "1.6.1",
         "4.6.0",
         "Linux-6.11.0-21-generic-x86_64-with-glibc2.39",
         "x86_64",
         "8",
         "16.64"
        ],
        [
         "98",
         "ForecasterRecursiveMultiSeries",
         "LGBMRegressor",
         "ForecasterRecursiveMultiSeries__create_predict_inputs_exog_is_dict",
         "52b1c12811cade5921c24c58d5503d03",
         "1.5474014901999908",
         "0.029990153118770426",
         "2025-04-23 16:05:22.045873",
         "3.12.9",
         "0.15.1",
         "2.2.5",
         "2.2.3",
         "1.6.1",
         "4.6.0",
         "Linux-6.11.0-21-generic-x86_64-with-glibc2.39",
         "x86_64",
         "8",
         "16.64"
        ],
        [
         "110",
         "ForecasterRecursiveMultiSeries",
         "LGBMRegressor",
         "ForecasterRecursiveMultiSeries__create_predict_inputs_exog_is_dict",
         "52b1c12811cade5921c24c58d5503d03",
         "0.30023387479996017",
         "0.03495718474516525",
         "2025-04-23 16:08:37.638061",
         "3.12.9",
         "0.16.0",
         "2.2.5",
         "2.2.3",
         "1.6.1",
         "4.6.0",
         "Linux-6.11.0-21-generic-x86_64-with-glibc2.39",
         "x86_64",
         "8",
         "16.64"
        ],
        [
         "122",
         "ForecasterRecursiveMultiSeries",
         "LGBMRegressor",
         "ForecasterRecursiveMultiSeries__create_predict_inputs_exog_is_dict",
         "52b1c12811cade5921c24c58d5503d03",
         "0.30639572480031346",
         "0.03871638229510142",
         "2025-04-23 16:12:06.261105",
         "3.12.9",
         "0.16.0",
         "2.2.5",
         "2.2.3",
         "1.6.1",
         "4.6.0",
         "Linux-6.11.0-21-generic-x86_64-with-glibc2.39",
         "x86_64",
         "8",
         "16.64"
        ],
        [
         "141",
         "ForecasterRecursiveMultiSeries",
         "LGBMRegressor",
         "ForecasterRecursiveMultiSeries__create_predict_inputs_exog_is_dict",
         "52b1c12811cade5921c24c58d5503d03",
         "0.29469238199963",
         "0.034340181498197356",
         "2025-04-23 20:13:11.366856",
         "3.12.9",
         "0.16.0",
         "2.2.5",
         "2.2.3",
         "1.6.1",
         "4.6.0",
         "Linux-6.11.0-21-generic-x86_64-with-glibc2.39",
         "x86_64",
         "8",
         "16.64"
        ],
        [
         "154",
         "ForecasterRecursiveMultiSeries",
         "LGBMRegressor",
         "ForecasterRecursiveMultiSeries__create_predict_inputs_exog_is_dict",
         "52b1c12811cade5921c24c58d5503d03",
         "1.4475126973999068",
         "0.027566489675227023",
         "2025-04-23 20:19:07.765864",
         "3.12.9",
         "0.15.1",
         "2.2.5",
         "2.2.3",
         "1.6.1",
         "4.6.0",
         "Linux-6.11.0-21-generic-x86_64-with-glibc2.39",
         "x86_64",
         "8",
         "16.64"
        ],
        [
         "167",
         "ForecasterRecursiveMultiSeries",
         "LGBMRegressor",
         "ForecasterRecursiveMultiSeries__create_predict_inputs_exog_is_dict",
         "52b1c12811cade5921c24c58d5503d03",
         "1.663520734800477",
         "0.11365265531079947",
         "2025-04-23 22:00:06.666093",
         "3.12.9",
         "0.15.1",
         "2.2.5",
         "2.2.3",
         "1.6.1",
         "4.6.0",
         "Linux-6.11.0-21-generic-x86_64-with-glibc2.39",
         "x86_64",
         "8",
         "16.64"
        ],
        [
         "180",
         "ForecasterRecursiveMultiSeries",
         "LGBMRegressor",
         "ForecasterRecursiveMultiSeries__create_predict_inputs_exog_is_dict",
         "52b1c12811cade5921c24c58d5503d03",
         "1.693156430300587",
         "0.1595788945321294",
         "2025-04-23 22:13:12.698404",
         "3.12.9",
         "0.14.0",
         "2.2.5",
         "2.2.3",
         "1.6.1",
         "4.6.0",
         "Linux-6.11.0-21-generic-x86_64-with-glibc2.39",
         "x86_64",
         "8",
         "16.64"
        ],
        [
         "193",
         "ForecasterRecursiveMultiSeries",
         "LGBMRegressor",
         "ForecasterRecursiveMultiSeries__create_predict_inputs_exog_is_dict",
         "52b1c12811cade5921c24c58d5503d03",
         "1.5479122532000473",
         "0.03566441755414641",
         "2025-04-23 22:47:28.489990",
         "3.12.9",
         "0.14.0",
         "2.2.5",
         "2.2.3",
         "1.6.1",
         "4.6.0",
         "Linux-6.11.0-21-generic-x86_64-with-glibc2.39",
         "x86_64",
         "8",
         "16.64"
        ],
        [
         "207",
         "ForecasterRecursiveMultiSeries",
         "LGBMRegressor",
         "ForecasterRecursiveMultiSeries__create_predict_inputs_exog_is_dict",
         "52b1c12811cade5921c24c58d5503d03",
         "0.30614498969989656",
         "0.03582970524916621",
         "2025-04-23 22:56:03.403082",
         "3.12.9",
         "0.16.0",
         "2.2.5",
         "2.2.3",
         "1.6.1",
         "4.6.0",
         "Linux-6.11.0-21-generic-x86_64-with-glibc2.39",
         "x86_64",
         "8",
         "16.64"
        ]
       ],
       "shape": {
        "columns": 17,
        "rows": 16
       }
      },
      "text/html": [
       "<div>\n",
       "<style scoped>\n",
       "    .dataframe tbody tr th:only-of-type {\n",
       "        vertical-align: middle;\n",
       "    }\n",
       "\n",
       "    .dataframe tbody tr th {\n",
       "        vertical-align: top;\n",
       "    }\n",
       "\n",
       "    .dataframe thead th {\n",
       "        text-align: right;\n",
       "    }\n",
       "</style>\n",
       "<table border=\"1\" class=\"dataframe\">\n",
       "  <thead>\n",
       "    <tr style=\"text-align: right;\">\n",
       "      <th></th>\n",
       "      <th>forecaster_name</th>\n",
       "      <th>regressor_name</th>\n",
       "      <th>function_name</th>\n",
       "      <th>function_hash</th>\n",
       "      <th>run_time_avg</th>\n",
       "      <th>run_time_std_dev</th>\n",
       "      <th>datetime</th>\n",
       "      <th>python_version</th>\n",
       "      <th>skforecast_version</th>\n",
       "      <th>numpy_version</th>\n",
       "      <th>pandas_version</th>\n",
       "      <th>sklearn_version</th>\n",
       "      <th>lightgbm_version</th>\n",
       "      <th>platform</th>\n",
       "      <th>processor</th>\n",
       "      <th>cpu_count</th>\n",
       "      <th>memory_gb</th>\n",
       "    </tr>\n",
       "  </thead>\n",
       "  <tbody>\n",
       "    <tr>\n",
       "      <th>6</th>\n",
       "      <td>ForecasterRecursiveMultiSeries</td>\n",
       "      <td>LGBMRegressor</td>\n",
       "      <td>ForecasterRecursiveMultiSeries__create_predict...</td>\n",
       "      <td>52b1c12811cade5921c24c58d5503d03</td>\n",
       "      <td>0.294342</td>\n",
       "      <td>0.032782</td>\n",
       "      <td>2025-04-23 15:05:53.948491</td>\n",
       "      <td>3.12.9</td>\n",
       "      <td>0.16.0</td>\n",
       "      <td>2.2.5</td>\n",
       "      <td>2.2.3</td>\n",
       "      <td>1.6.1</td>\n",
       "      <td>4.6.0</td>\n",
       "      <td>Linux-6.11.0-21-generic-x86_64-with-glibc2.39</td>\n",
       "      <td>x86_64</td>\n",
       "      <td>8</td>\n",
       "      <td>16.64</td>\n",
       "    </tr>\n",
       "    <tr>\n",
       "      <th>18</th>\n",
       "      <td>ForecasterRecursiveMultiSeries</td>\n",
       "      <td>LGBMRegressor</td>\n",
       "      <td>ForecasterRecursiveMultiSeries__create_predict...</td>\n",
       "      <td>52b1c12811cade5921c24c58d5503d03</td>\n",
       "      <td>1.551544</td>\n",
       "      <td>0.048945</td>\n",
       "      <td>2025-04-23 15:11:51.473073</td>\n",
       "      <td>3.12.9</td>\n",
       "      <td>0.15.1</td>\n",
       "      <td>2.2.5</td>\n",
       "      <td>2.2.3</td>\n",
       "      <td>1.6.1</td>\n",
       "      <td>4.6.0</td>\n",
       "      <td>Linux-6.11.0-21-generic-x86_64-with-glibc2.39</td>\n",
       "      <td>x86_64</td>\n",
       "      <td>8</td>\n",
       "      <td>16.64</td>\n",
       "    </tr>\n",
       "    <tr>\n",
       "      <th>30</th>\n",
       "      <td>ForecasterRecursiveMultiSeries</td>\n",
       "      <td>LGBMRegressor</td>\n",
       "      <td>ForecasterRecursiveMultiSeries__create_predict...</td>\n",
       "      <td>52b1c12811cade5921c24c58d5503d03</td>\n",
       "      <td>1.508526</td>\n",
       "      <td>0.016043</td>\n",
       "      <td>2025-04-23 15:15:46.970652</td>\n",
       "      <td>3.12.9</td>\n",
       "      <td>0.14.0</td>\n",
       "      <td>2.2.5</td>\n",
       "      <td>2.2.3</td>\n",
       "      <td>1.6.1</td>\n",
       "      <td>4.6.0</td>\n",
       "      <td>Linux-6.11.0-21-generic-x86_64-with-glibc2.39</td>\n",
       "      <td>x86_64</td>\n",
       "      <td>8</td>\n",
       "      <td>16.64</td>\n",
       "    </tr>\n",
       "    <tr>\n",
       "      <th>42</th>\n",
       "      <td>ForecasterAutoregMultiSeries</td>\n",
       "      <td>LGBMRegressor</td>\n",
       "      <td>ForecasterRecursiveMultiSeries__create_predict...</td>\n",
       "      <td>52b1c12811cade5921c24c58d5503d03</td>\n",
       "      <td>NaN</td>\n",
       "      <td>NaN</td>\n",
       "      <td>2025-04-23 15:31:29.431385</td>\n",
       "      <td>3.12.9</td>\n",
       "      <td>0.13.0</td>\n",
       "      <td>2.2.5</td>\n",
       "      <td>2.2.3</td>\n",
       "      <td>1.6.1</td>\n",
       "      <td>4.6.0</td>\n",
       "      <td>Linux-6.11.0-21-generic-x86_64-with-glibc2.39</td>\n",
       "      <td>x86_64</td>\n",
       "      <td>8</td>\n",
       "      <td>16.64</td>\n",
       "    </tr>\n",
       "    <tr>\n",
       "      <th>54</th>\n",
       "      <td>ForecasterAutoregMultiSeries</td>\n",
       "      <td>LGBMRegressor</td>\n",
       "      <td>ForecasterRecursiveMultiSeries__create_predict...</td>\n",
       "      <td>52b1c12811cade5921c24c58d5503d03</td>\n",
       "      <td>NaN</td>\n",
       "      <td>NaN</td>\n",
       "      <td>2025-04-23 15:41:02.231555</td>\n",
       "      <td>3.12.9</td>\n",
       "      <td>0.13.0</td>\n",
       "      <td>2.2.5</td>\n",
       "      <td>2.2.3</td>\n",
       "      <td>1.6.1</td>\n",
       "      <td>4.6.0</td>\n",
       "      <td>Linux-6.11.0-21-generic-x86_64-with-glibc2.39</td>\n",
       "      <td>x86_64</td>\n",
       "      <td>8</td>\n",
       "      <td>16.64</td>\n",
       "    </tr>\n",
       "    <tr>\n",
       "      <th>74</th>\n",
       "      <td>ForecasterRecursiveMultiSeries</td>\n",
       "      <td>LGBMRegressor</td>\n",
       "      <td>ForecasterRecursiveMultiSeries__create_predict...</td>\n",
       "      <td>52b1c12811cade5921c24c58d5503d03</td>\n",
       "      <td>1.582764</td>\n",
       "      <td>0.096881</td>\n",
       "      <td>2025-04-23 15:56:40.522196</td>\n",
       "      <td>3.12.9</td>\n",
       "      <td>0.14.0</td>\n",
       "      <td>2.2.5</td>\n",
       "      <td>2.2.3</td>\n",
       "      <td>1.6.1</td>\n",
       "      <td>4.6.0</td>\n",
       "      <td>Linux-6.11.0-21-generic-x86_64-with-glibc2.39</td>\n",
       "      <td>x86_64</td>\n",
       "      <td>8</td>\n",
       "      <td>16.64</td>\n",
       "    </tr>\n",
       "    <tr>\n",
       "      <th>86</th>\n",
       "      <td>ForecasterRecursiveMultiSeries</td>\n",
       "      <td>LGBMRegressor</td>\n",
       "      <td>ForecasterRecursiveMultiSeries__create_predict...</td>\n",
       "      <td>52b1c12811cade5921c24c58d5503d03</td>\n",
       "      <td>1.705099</td>\n",
       "      <td>0.281979</td>\n",
       "      <td>2025-04-23 16:00:52.071181</td>\n",
       "      <td>3.12.9</td>\n",
       "      <td>0.15.1</td>\n",
       "      <td>2.2.5</td>\n",
       "      <td>2.2.3</td>\n",
       "      <td>1.6.1</td>\n",
       "      <td>4.6.0</td>\n",
       "      <td>Linux-6.11.0-21-generic-x86_64-with-glibc2.39</td>\n",
       "      <td>x86_64</td>\n",
       "      <td>8</td>\n",
       "      <td>16.64</td>\n",
       "    </tr>\n",
       "    <tr>\n",
       "      <th>98</th>\n",
       "      <td>ForecasterRecursiveMultiSeries</td>\n",
       "      <td>LGBMRegressor</td>\n",
       "      <td>ForecasterRecursiveMultiSeries__create_predict...</td>\n",
       "      <td>52b1c12811cade5921c24c58d5503d03</td>\n",
       "      <td>1.547401</td>\n",
       "      <td>0.029990</td>\n",
       "      <td>2025-04-23 16:05:22.045873</td>\n",
       "      <td>3.12.9</td>\n",
       "      <td>0.15.1</td>\n",
       "      <td>2.2.5</td>\n",
       "      <td>2.2.3</td>\n",
       "      <td>1.6.1</td>\n",
       "      <td>4.6.0</td>\n",
       "      <td>Linux-6.11.0-21-generic-x86_64-with-glibc2.39</td>\n",
       "      <td>x86_64</td>\n",
       "      <td>8</td>\n",
       "      <td>16.64</td>\n",
       "    </tr>\n",
       "    <tr>\n",
       "      <th>110</th>\n",
       "      <td>ForecasterRecursiveMultiSeries</td>\n",
       "      <td>LGBMRegressor</td>\n",
       "      <td>ForecasterRecursiveMultiSeries__create_predict...</td>\n",
       "      <td>52b1c12811cade5921c24c58d5503d03</td>\n",
       "      <td>0.300234</td>\n",
       "      <td>0.034957</td>\n",
       "      <td>2025-04-23 16:08:37.638061</td>\n",
       "      <td>3.12.9</td>\n",
       "      <td>0.16.0</td>\n",
       "      <td>2.2.5</td>\n",
       "      <td>2.2.3</td>\n",
       "      <td>1.6.1</td>\n",
       "      <td>4.6.0</td>\n",
       "      <td>Linux-6.11.0-21-generic-x86_64-with-glibc2.39</td>\n",
       "      <td>x86_64</td>\n",
       "      <td>8</td>\n",
       "      <td>16.64</td>\n",
       "    </tr>\n",
       "    <tr>\n",
       "      <th>122</th>\n",
       "      <td>ForecasterRecursiveMultiSeries</td>\n",
       "      <td>LGBMRegressor</td>\n",
       "      <td>ForecasterRecursiveMultiSeries__create_predict...</td>\n",
       "      <td>52b1c12811cade5921c24c58d5503d03</td>\n",
       "      <td>0.306396</td>\n",
       "      <td>0.038716</td>\n",
       "      <td>2025-04-23 16:12:06.261105</td>\n",
       "      <td>3.12.9</td>\n",
       "      <td>0.16.0</td>\n",
       "      <td>2.2.5</td>\n",
       "      <td>2.2.3</td>\n",
       "      <td>1.6.1</td>\n",
       "      <td>4.6.0</td>\n",
       "      <td>Linux-6.11.0-21-generic-x86_64-with-glibc2.39</td>\n",
       "      <td>x86_64</td>\n",
       "      <td>8</td>\n",
       "      <td>16.64</td>\n",
       "    </tr>\n",
       "    <tr>\n",
       "      <th>141</th>\n",
       "      <td>ForecasterRecursiveMultiSeries</td>\n",
       "      <td>LGBMRegressor</td>\n",
       "      <td>ForecasterRecursiveMultiSeries__create_predict...</td>\n",
       "      <td>52b1c12811cade5921c24c58d5503d03</td>\n",
       "      <td>0.294692</td>\n",
       "      <td>0.034340</td>\n",
       "      <td>2025-04-23 20:13:11.366856</td>\n",
       "      <td>3.12.9</td>\n",
       "      <td>0.16.0</td>\n",
       "      <td>2.2.5</td>\n",
       "      <td>2.2.3</td>\n",
       "      <td>1.6.1</td>\n",
       "      <td>4.6.0</td>\n",
       "      <td>Linux-6.11.0-21-generic-x86_64-with-glibc2.39</td>\n",
       "      <td>x86_64</td>\n",
       "      <td>8</td>\n",
       "      <td>16.64</td>\n",
       "    </tr>\n",
       "    <tr>\n",
       "      <th>154</th>\n",
       "      <td>ForecasterRecursiveMultiSeries</td>\n",
       "      <td>LGBMRegressor</td>\n",
       "      <td>ForecasterRecursiveMultiSeries__create_predict...</td>\n",
       "      <td>52b1c12811cade5921c24c58d5503d03</td>\n",
       "      <td>1.447513</td>\n",
       "      <td>0.027566</td>\n",
       "      <td>2025-04-23 20:19:07.765864</td>\n",
       "      <td>3.12.9</td>\n",
       "      <td>0.15.1</td>\n",
       "      <td>2.2.5</td>\n",
       "      <td>2.2.3</td>\n",
       "      <td>1.6.1</td>\n",
       "      <td>4.6.0</td>\n",
       "      <td>Linux-6.11.0-21-generic-x86_64-with-glibc2.39</td>\n",
       "      <td>x86_64</td>\n",
       "      <td>8</td>\n",
       "      <td>16.64</td>\n",
       "    </tr>\n",
       "    <tr>\n",
       "      <th>167</th>\n",
       "      <td>ForecasterRecursiveMultiSeries</td>\n",
       "      <td>LGBMRegressor</td>\n",
       "      <td>ForecasterRecursiveMultiSeries__create_predict...</td>\n",
       "      <td>52b1c12811cade5921c24c58d5503d03</td>\n",
       "      <td>1.663521</td>\n",
       "      <td>0.113653</td>\n",
       "      <td>2025-04-23 22:00:06.666093</td>\n",
       "      <td>3.12.9</td>\n",
       "      <td>0.15.1</td>\n",
       "      <td>2.2.5</td>\n",
       "      <td>2.2.3</td>\n",
       "      <td>1.6.1</td>\n",
       "      <td>4.6.0</td>\n",
       "      <td>Linux-6.11.0-21-generic-x86_64-with-glibc2.39</td>\n",
       "      <td>x86_64</td>\n",
       "      <td>8</td>\n",
       "      <td>16.64</td>\n",
       "    </tr>\n",
       "    <tr>\n",
       "      <th>180</th>\n",
       "      <td>ForecasterRecursiveMultiSeries</td>\n",
       "      <td>LGBMRegressor</td>\n",
       "      <td>ForecasterRecursiveMultiSeries__create_predict...</td>\n",
       "      <td>52b1c12811cade5921c24c58d5503d03</td>\n",
       "      <td>1.693156</td>\n",
       "      <td>0.159579</td>\n",
       "      <td>2025-04-23 22:13:12.698404</td>\n",
       "      <td>3.12.9</td>\n",
       "      <td>0.14.0</td>\n",
       "      <td>2.2.5</td>\n",
       "      <td>2.2.3</td>\n",
       "      <td>1.6.1</td>\n",
       "      <td>4.6.0</td>\n",
       "      <td>Linux-6.11.0-21-generic-x86_64-with-glibc2.39</td>\n",
       "      <td>x86_64</td>\n",
       "      <td>8</td>\n",
       "      <td>16.64</td>\n",
       "    </tr>\n",
       "    <tr>\n",
       "      <th>193</th>\n",
       "      <td>ForecasterRecursiveMultiSeries</td>\n",
       "      <td>LGBMRegressor</td>\n",
       "      <td>ForecasterRecursiveMultiSeries__create_predict...</td>\n",
       "      <td>52b1c12811cade5921c24c58d5503d03</td>\n",
       "      <td>1.547912</td>\n",
       "      <td>0.035664</td>\n",
       "      <td>2025-04-23 22:47:28.489990</td>\n",
       "      <td>3.12.9</td>\n",
       "      <td>0.14.0</td>\n",
       "      <td>2.2.5</td>\n",
       "      <td>2.2.3</td>\n",
       "      <td>1.6.1</td>\n",
       "      <td>4.6.0</td>\n",
       "      <td>Linux-6.11.0-21-generic-x86_64-with-glibc2.39</td>\n",
       "      <td>x86_64</td>\n",
       "      <td>8</td>\n",
       "      <td>16.64</td>\n",
       "    </tr>\n",
       "    <tr>\n",
       "      <th>207</th>\n",
       "      <td>ForecasterRecursiveMultiSeries</td>\n",
       "      <td>LGBMRegressor</td>\n",
       "      <td>ForecasterRecursiveMultiSeries__create_predict...</td>\n",
       "      <td>52b1c12811cade5921c24c58d5503d03</td>\n",
       "      <td>0.306145</td>\n",
       "      <td>0.035830</td>\n",
       "      <td>2025-04-23 22:56:03.403082</td>\n",
       "      <td>3.12.9</td>\n",
       "      <td>0.16.0</td>\n",
       "      <td>2.2.5</td>\n",
       "      <td>2.2.3</td>\n",
       "      <td>1.6.1</td>\n",
       "      <td>4.6.0</td>\n",
       "      <td>Linux-6.11.0-21-generic-x86_64-with-glibc2.39</td>\n",
       "      <td>x86_64</td>\n",
       "      <td>8</td>\n",
       "      <td>16.64</td>\n",
       "    </tr>\n",
       "  </tbody>\n",
       "</table>\n",
       "</div>"
      ],
      "text/plain": [
       "                    forecaster_name regressor_name  \\\n",
       "6    ForecasterRecursiveMultiSeries  LGBMRegressor   \n",
       "18   ForecasterRecursiveMultiSeries  LGBMRegressor   \n",
       "30   ForecasterRecursiveMultiSeries  LGBMRegressor   \n",
       "42     ForecasterAutoregMultiSeries  LGBMRegressor   \n",
       "54     ForecasterAutoregMultiSeries  LGBMRegressor   \n",
       "74   ForecasterRecursiveMultiSeries  LGBMRegressor   \n",
       "86   ForecasterRecursiveMultiSeries  LGBMRegressor   \n",
       "98   ForecasterRecursiveMultiSeries  LGBMRegressor   \n",
       "110  ForecasterRecursiveMultiSeries  LGBMRegressor   \n",
       "122  ForecasterRecursiveMultiSeries  LGBMRegressor   \n",
       "141  ForecasterRecursiveMultiSeries  LGBMRegressor   \n",
       "154  ForecasterRecursiveMultiSeries  LGBMRegressor   \n",
       "167  ForecasterRecursiveMultiSeries  LGBMRegressor   \n",
       "180  ForecasterRecursiveMultiSeries  LGBMRegressor   \n",
       "193  ForecasterRecursiveMultiSeries  LGBMRegressor   \n",
       "207  ForecasterRecursiveMultiSeries  LGBMRegressor   \n",
       "\n",
       "                                         function_name  \\\n",
       "6    ForecasterRecursiveMultiSeries__create_predict...   \n",
       "18   ForecasterRecursiveMultiSeries__create_predict...   \n",
       "30   ForecasterRecursiveMultiSeries__create_predict...   \n",
       "42   ForecasterRecursiveMultiSeries__create_predict...   \n",
       "54   ForecasterRecursiveMultiSeries__create_predict...   \n",
       "74   ForecasterRecursiveMultiSeries__create_predict...   \n",
       "86   ForecasterRecursiveMultiSeries__create_predict...   \n",
       "98   ForecasterRecursiveMultiSeries__create_predict...   \n",
       "110  ForecasterRecursiveMultiSeries__create_predict...   \n",
       "122  ForecasterRecursiveMultiSeries__create_predict...   \n",
       "141  ForecasterRecursiveMultiSeries__create_predict...   \n",
       "154  ForecasterRecursiveMultiSeries__create_predict...   \n",
       "167  ForecasterRecursiveMultiSeries__create_predict...   \n",
       "180  ForecasterRecursiveMultiSeries__create_predict...   \n",
       "193  ForecasterRecursiveMultiSeries__create_predict...   \n",
       "207  ForecasterRecursiveMultiSeries__create_predict...   \n",
       "\n",
       "                        function_hash  run_time_avg  run_time_std_dev  \\\n",
       "6    52b1c12811cade5921c24c58d5503d03      0.294342          0.032782   \n",
       "18   52b1c12811cade5921c24c58d5503d03      1.551544          0.048945   \n",
       "30   52b1c12811cade5921c24c58d5503d03      1.508526          0.016043   \n",
       "42   52b1c12811cade5921c24c58d5503d03           NaN               NaN   \n",
       "54   52b1c12811cade5921c24c58d5503d03           NaN               NaN   \n",
       "74   52b1c12811cade5921c24c58d5503d03      1.582764          0.096881   \n",
       "86   52b1c12811cade5921c24c58d5503d03      1.705099          0.281979   \n",
       "98   52b1c12811cade5921c24c58d5503d03      1.547401          0.029990   \n",
       "110  52b1c12811cade5921c24c58d5503d03      0.300234          0.034957   \n",
       "122  52b1c12811cade5921c24c58d5503d03      0.306396          0.038716   \n",
       "141  52b1c12811cade5921c24c58d5503d03      0.294692          0.034340   \n",
       "154  52b1c12811cade5921c24c58d5503d03      1.447513          0.027566   \n",
       "167  52b1c12811cade5921c24c58d5503d03      1.663521          0.113653   \n",
       "180  52b1c12811cade5921c24c58d5503d03      1.693156          0.159579   \n",
       "193  52b1c12811cade5921c24c58d5503d03      1.547912          0.035664   \n",
       "207  52b1c12811cade5921c24c58d5503d03      0.306145          0.035830   \n",
       "\n",
       "                      datetime python_version skforecast_version  \\\n",
       "6   2025-04-23 15:05:53.948491         3.12.9             0.16.0   \n",
       "18  2025-04-23 15:11:51.473073         3.12.9             0.15.1   \n",
       "30  2025-04-23 15:15:46.970652         3.12.9             0.14.0   \n",
       "42  2025-04-23 15:31:29.431385         3.12.9             0.13.0   \n",
       "54  2025-04-23 15:41:02.231555         3.12.9             0.13.0   \n",
       "74  2025-04-23 15:56:40.522196         3.12.9             0.14.0   \n",
       "86  2025-04-23 16:00:52.071181         3.12.9             0.15.1   \n",
       "98  2025-04-23 16:05:22.045873         3.12.9             0.15.1   \n",
       "110 2025-04-23 16:08:37.638061         3.12.9             0.16.0   \n",
       "122 2025-04-23 16:12:06.261105         3.12.9             0.16.0   \n",
       "141 2025-04-23 20:13:11.366856         3.12.9             0.16.0   \n",
       "154 2025-04-23 20:19:07.765864         3.12.9             0.15.1   \n",
       "167 2025-04-23 22:00:06.666093         3.12.9             0.15.1   \n",
       "180 2025-04-23 22:13:12.698404         3.12.9             0.14.0   \n",
       "193 2025-04-23 22:47:28.489990         3.12.9             0.14.0   \n",
       "207 2025-04-23 22:56:03.403082         3.12.9             0.16.0   \n",
       "\n",
       "    numpy_version pandas_version sklearn_version lightgbm_version  \\\n",
       "6           2.2.5          2.2.3           1.6.1            4.6.0   \n",
       "18          2.2.5          2.2.3           1.6.1            4.6.0   \n",
       "30          2.2.5          2.2.3           1.6.1            4.6.0   \n",
       "42          2.2.5          2.2.3           1.6.1            4.6.0   \n",
       "54          2.2.5          2.2.3           1.6.1            4.6.0   \n",
       "74          2.2.5          2.2.3           1.6.1            4.6.0   \n",
       "86          2.2.5          2.2.3           1.6.1            4.6.0   \n",
       "98          2.2.5          2.2.3           1.6.1            4.6.0   \n",
       "110         2.2.5          2.2.3           1.6.1            4.6.0   \n",
       "122         2.2.5          2.2.3           1.6.1            4.6.0   \n",
       "141         2.2.5          2.2.3           1.6.1            4.6.0   \n",
       "154         2.2.5          2.2.3           1.6.1            4.6.0   \n",
       "167         2.2.5          2.2.3           1.6.1            4.6.0   \n",
       "180         2.2.5          2.2.3           1.6.1            4.6.0   \n",
       "193         2.2.5          2.2.3           1.6.1            4.6.0   \n",
       "207         2.2.5          2.2.3           1.6.1            4.6.0   \n",
       "\n",
       "                                          platform processor  cpu_count  \\\n",
       "6    Linux-6.11.0-21-generic-x86_64-with-glibc2.39    x86_64          8   \n",
       "18   Linux-6.11.0-21-generic-x86_64-with-glibc2.39    x86_64          8   \n",
       "30   Linux-6.11.0-21-generic-x86_64-with-glibc2.39    x86_64          8   \n",
       "42   Linux-6.11.0-21-generic-x86_64-with-glibc2.39    x86_64          8   \n",
       "54   Linux-6.11.0-21-generic-x86_64-with-glibc2.39    x86_64          8   \n",
       "74   Linux-6.11.0-21-generic-x86_64-with-glibc2.39    x86_64          8   \n",
       "86   Linux-6.11.0-21-generic-x86_64-with-glibc2.39    x86_64          8   \n",
       "98   Linux-6.11.0-21-generic-x86_64-with-glibc2.39    x86_64          8   \n",
       "110  Linux-6.11.0-21-generic-x86_64-with-glibc2.39    x86_64          8   \n",
       "122  Linux-6.11.0-21-generic-x86_64-with-glibc2.39    x86_64          8   \n",
       "141  Linux-6.11.0-21-generic-x86_64-with-glibc2.39    x86_64          8   \n",
       "154  Linux-6.11.0-21-generic-x86_64-with-glibc2.39    x86_64          8   \n",
       "167  Linux-6.11.0-21-generic-x86_64-with-glibc2.39    x86_64          8   \n",
       "180  Linux-6.11.0-21-generic-x86_64-with-glibc2.39    x86_64          8   \n",
       "193  Linux-6.11.0-21-generic-x86_64-with-glibc2.39    x86_64          8   \n",
       "207  Linux-6.11.0-21-generic-x86_64-with-glibc2.39    x86_64          8   \n",
       "\n",
       "     memory_gb  \n",
       "6        16.64  \n",
       "18       16.64  \n",
       "30       16.64  \n",
       "42       16.64  \n",
       "54       16.64  \n",
       "74       16.64  \n",
       "86       16.64  \n",
       "98       16.64  \n",
       "110      16.64  \n",
       "122      16.64  \n",
       "141      16.64  \n",
       "154      16.64  \n",
       "167      16.64  \n",
       "180      16.64  \n",
       "193      16.64  \n",
       "207      16.64  "
      ]
     },
     "metadata": {},
     "output_type": "display_data"
    },
    {
     "data": {
      "application/vnd.plotly.v1+json": {
       "config": {
        "plotlyServerURL": "https://plot.ly"
       },
       "data": [
        {
         "error_y": {
          "array": {
           "bdata": "AAAAAAAA+H8AAAAAAAD4fw==",
           "dtype": "f8"
          },
          "color": "#636EFA",
          "thickness": 1.5,
          "type": "data",
          "visible": true,
          "width": 5
         },
         "hovertemplate": "%{text}<extra></extra>",
         "marker": {
          "color": "#636EFA",
          "opacity": 0.7,
          "size": 10
         },
         "mode": "markers",
         "name": "Run time - 0.13.0",
         "showlegend": true,
         "text": [
          "Forecaster: ForecasterAutoregMultiSeries<br>Regressor: LGBMRegressor<br>Function: ForecasterRecursiveMultiSeries__create_predict_inputs_exog_is_dict<br>Function_hash: 52b1c12811cade5921c24c58d5503d03<br>Datetime: 2025-04-23 15:31:29.431385<br>Python version: 3.12.9<br>skforecast version: 0.13.0<br>numpy version: 2.2.5<br>pandas version: 2.2.3<br>sklearn version: 1.6.1<br>lightgbm version: 4.6.0<br>Platform: Linux-6.11.0-21-generic-x86_64-with-glibc2.39<br>Processor: x86_64<br>CPU count: 8<br>Memory (GB): 16.64<br>",
          "Forecaster: ForecasterAutoregMultiSeries<br>Regressor: LGBMRegressor<br>Function: ForecasterRecursiveMultiSeries__create_predict_inputs_exog_is_dict<br>Function_hash: 52b1c12811cade5921c24c58d5503d03<br>Datetime: 2025-04-23 15:41:02.231555<br>Python version: 3.12.9<br>skforecast version: 0.13.0<br>numpy version: 2.2.5<br>pandas version: 2.2.3<br>sklearn version: 1.6.1<br>lightgbm version: 4.6.0<br>Platform: Linux-6.11.0-21-generic-x86_64-with-glibc2.39<br>Processor: x86_64<br>CPU count: 8<br>Memory (GB): 16.64<br>"
         ],
         "type": "scatter",
         "x": {
          "bdata": "fByzX9/Fir9AKClBT8iAPw==",
          "dtype": "f8"
         },
         "y": {
          "bdata": "AAAAAAAA+H8AAAAAAAD4fw==",
          "dtype": "f8"
         }
        },
        {
         "error_y": {
          "array": {
           "bdata": "6ht7h6VtkD+xT1JHNs24P63bksoUbcQ/8kgNRptCoj8=",
           "dtype": "f8"
          },
          "color": "#EF553B",
          "thickness": 1.5,
          "type": "data",
          "visible": true,
          "width": 5
         },
         "hovertemplate": "%{text}<extra></extra>",
         "marker": {
          "color": "#EF553B",
          "opacity": 0.7,
          "size": 10
         },
         "mode": "markers",
         "name": "Run time - 0.14.0",
         "showlegend": true,
         "text": [
          "Forecaster: ForecasterRecursiveMultiSeries<br>Regressor: LGBMRegressor<br>Function: ForecasterRecursiveMultiSeries__create_predict_inputs_exog_is_dict<br>Function_hash: 52b1c12811cade5921c24c58d5503d03<br>Datetime: 2025-04-23 15:15:46.970652<br>Python version: 3.12.9<br>skforecast version: 0.14.0<br>numpy version: 2.2.5<br>pandas version: 2.2.3<br>sklearn version: 1.6.1<br>lightgbm version: 4.6.0<br>Platform: Linux-6.11.0-21-generic-x86_64-with-glibc2.39<br>Processor: x86_64<br>CPU count: 8<br>Memory (GB): 16.64<br>",
          "Forecaster: ForecasterRecursiveMultiSeries<br>Regressor: LGBMRegressor<br>Function: ForecasterRecursiveMultiSeries__create_predict_inputs_exog_is_dict<br>Function_hash: 52b1c12811cade5921c24c58d5503d03<br>Datetime: 2025-04-23 15:56:40.522196<br>Python version: 3.12.9<br>skforecast version: 0.14.0<br>numpy version: 2.2.5<br>pandas version: 2.2.3<br>sklearn version: 1.6.1<br>lightgbm version: 4.6.0<br>Platform: Linux-6.11.0-21-generic-x86_64-with-glibc2.39<br>Processor: x86_64<br>CPU count: 8<br>Memory (GB): 16.64<br>",
          "Forecaster: ForecasterRecursiveMultiSeries<br>Regressor: LGBMRegressor<br>Function: ForecasterRecursiveMultiSeries__create_predict_inputs_exog_is_dict<br>Function_hash: 52b1c12811cade5921c24c58d5503d03<br>Datetime: 2025-04-23 22:13:12.698404<br>Python version: 3.12.9<br>skforecast version: 0.14.0<br>numpy version: 2.2.5<br>pandas version: 2.2.3<br>sklearn version: 1.6.1<br>lightgbm version: 4.6.0<br>Platform: Linux-6.11.0-21-generic-x86_64-with-glibc2.39<br>Processor: x86_64<br>CPU count: 8<br>Memory (GB): 16.64<br>",
          "Forecaster: ForecasterRecursiveMultiSeries<br>Regressor: LGBMRegressor<br>Function: ForecasterRecursiveMultiSeries__create_predict_inputs_exog_is_dict<br>Function_hash: 52b1c12811cade5921c24c58d5503d03<br>Datetime: 2025-04-23 22:47:28.489990<br>Python version: 3.12.9<br>skforecast version: 0.14.0<br>numpy version: 2.2.5<br>pandas version: 2.2.3<br>sklearn version: 1.6.1<br>lightgbm version: 4.6.0<br>Platform: Linux-6.11.0-21-generic-x86_64-with-glibc2.39<br>Processor: x86_64<br>CPU count: 8<br>Memory (GB): 16.64<br>"
         ],
         "type": "scatter",
         "x": {
          "bdata": "WsufM0wh8D/sid4cvavwP0fPO5Hnwu4/vWqPYB4m7z8=",
          "dtype": "f8"
         },
         "y": {
          "bdata": "M5OYjuwi+D8zc7bv/1L5PzNzcjIrF/s/ZiaJoz/E+D8=",
          "dtype": "f8"
         }
        },
        {
         "error_y": {
          "array": {
           "bdata": "z38HBVMPqT+7XpF48QvSP6d7Yxu9tZ4/Q4R7zmM6nD9/16klVxi9Pw==",
           "dtype": "f8"
          },
          "color": "#00CC96",
          "thickness": 1.5,
          "type": "data",
          "visible": true,
          "width": 5
         },
         "hovertemplate": "%{text}<extra></extra>",
         "marker": {
          "color": "#00CC96",
          "opacity": 0.7,
          "size": 10
         },
         "mode": "markers",
         "name": "Run time - 0.15.1",
         "showlegend": true,
         "text": [
          "Forecaster: ForecasterRecursiveMultiSeries<br>Regressor: LGBMRegressor<br>Function: ForecasterRecursiveMultiSeries__create_predict_inputs_exog_is_dict<br>Function_hash: 52b1c12811cade5921c24c58d5503d03<br>Datetime: 2025-04-23 15:11:51.473073<br>Python version: 3.12.9<br>skforecast version: 0.15.1<br>numpy version: 2.2.5<br>pandas version: 2.2.3<br>sklearn version: 1.6.1<br>lightgbm version: 4.6.0<br>Platform: Linux-6.11.0-21-generic-x86_64-with-glibc2.39<br>Processor: x86_64<br>CPU count: 8<br>Memory (GB): 16.64<br>",
          "Forecaster: ForecasterRecursiveMultiSeries<br>Regressor: LGBMRegressor<br>Function: ForecasterRecursiveMultiSeries__create_predict_inputs_exog_is_dict<br>Function_hash: 52b1c12811cade5921c24c58d5503d03<br>Datetime: 2025-04-23 16:00:52.071181<br>Python version: 3.12.9<br>skforecast version: 0.15.1<br>numpy version: 2.2.5<br>pandas version: 2.2.3<br>sklearn version: 1.6.1<br>lightgbm version: 4.6.0<br>Platform: Linux-6.11.0-21-generic-x86_64-with-glibc2.39<br>Processor: x86_64<br>CPU count: 8<br>Memory (GB): 16.64<br>",
          "Forecaster: ForecasterRecursiveMultiSeries<br>Regressor: LGBMRegressor<br>Function: ForecasterRecursiveMultiSeries__create_predict_inputs_exog_is_dict<br>Function_hash: 52b1c12811cade5921c24c58d5503d03<br>Datetime: 2025-04-23 16:05:22.045873<br>Python version: 3.12.9<br>skforecast version: 0.15.1<br>numpy version: 2.2.5<br>pandas version: 2.2.3<br>sklearn version: 1.6.1<br>lightgbm version: 4.6.0<br>Platform: Linux-6.11.0-21-generic-x86_64-with-glibc2.39<br>Processor: x86_64<br>CPU count: 8<br>Memory (GB): 16.64<br>",
          "Forecaster: ForecasterRecursiveMultiSeries<br>Regressor: LGBMRegressor<br>Function: ForecasterRecursiveMultiSeries__create_predict_inputs_exog_is_dict<br>Function_hash: 52b1c12811cade5921c24c58d5503d03<br>Datetime: 2025-04-23 20:19:07.765864<br>Python version: 3.12.9<br>skforecast version: 0.15.1<br>numpy version: 2.2.5<br>pandas version: 2.2.3<br>sklearn version: 1.6.1<br>lightgbm version: 4.6.0<br>Platform: Linux-6.11.0-21-generic-x86_64-with-glibc2.39<br>Processor: x86_64<br>CPU count: 8<br>Memory (GB): 16.64<br>",
          "Forecaster: ForecasterRecursiveMultiSeries<br>Regressor: LGBMRegressor<br>Function: ForecasterRecursiveMultiSeries__create_predict_inputs_exog_is_dict<br>Function_hash: 52b1c12811cade5921c24c58d5503d03<br>Datetime: 2025-04-23 22:00:06.666093<br>Python version: 3.12.9<br>skforecast version: 0.15.1<br>numpy version: 2.2.5<br>pandas version: 2.2.3<br>sklearn version: 1.6.1<br>lightgbm version: 4.6.0<br>Platform: Linux-6.11.0-21-generic-x86_64-with-glibc2.39<br>Processor: x86_64<br>CPU count: 8<br>Memory (GB): 16.64<br>"
         ],
         "type": "scatter",
         "x": {
          "bdata": "PJXABdYrAEAE9ARBKzsAQLPaQ8D49/8/3XFGslY0AEC7OdZSiFAAQA==",
          "dtype": "f8"
         },
         "y": {
          "bdata": "MxO/NiDT+D8zEwLOFUj7P80MoxAowvg/mgn+EgMp9z+a+QLrx536Pw==",
          "dtype": "f8"
         }
        },
        {
         "error_y": {
          "array": {
           "bdata": "4KsmUdPIoD/6Pnt66OWhPw7FjTei0qM/mmnySAmVoT91fYpoRViiPw==",
           "dtype": "f8"
          },
          "color": "#AB63FA",
          "thickness": 1.5,
          "type": "data",
          "visible": true,
          "width": 5
         },
         "hovertemplate": "%{text}<extra></extra>",
         "marker": {
          "color": "#AB63FA",
          "opacity": 0.7,
          "size": 10
         },
         "mode": "markers",
         "name": "Run time - 0.16.0",
         "showlegend": true,
         "text": [
          "Forecaster: ForecasterRecursiveMultiSeries<br>Regressor: LGBMRegressor<br>Function: ForecasterRecursiveMultiSeries__create_predict_inputs_exog_is_dict<br>Function_hash: 52b1c12811cade5921c24c58d5503d03<br>Datetime: 2025-04-23 15:05:53.948491<br>Python version: 3.12.9<br>skforecast version: 0.16.0<br>numpy version: 2.2.5<br>pandas version: 2.2.3<br>sklearn version: 1.6.1<br>lightgbm version: 4.6.0<br>Platform: Linux-6.11.0-21-generic-x86_64-with-glibc2.39<br>Processor: x86_64<br>CPU count: 8<br>Memory (GB): 16.64<br>",
          "Forecaster: ForecasterRecursiveMultiSeries<br>Regressor: LGBMRegressor<br>Function: ForecasterRecursiveMultiSeries__create_predict_inputs_exog_is_dict<br>Function_hash: 52b1c12811cade5921c24c58d5503d03<br>Datetime: 2025-04-23 16:08:37.638061<br>Python version: 3.12.9<br>skforecast version: 0.16.0<br>numpy version: 2.2.5<br>pandas version: 2.2.3<br>sklearn version: 1.6.1<br>lightgbm version: 4.6.0<br>Platform: Linux-6.11.0-21-generic-x86_64-with-glibc2.39<br>Processor: x86_64<br>CPU count: 8<br>Memory (GB): 16.64<br>",
          "Forecaster: ForecasterRecursiveMultiSeries<br>Regressor: LGBMRegressor<br>Function: ForecasterRecursiveMultiSeries__create_predict_inputs_exog_is_dict<br>Function_hash: 52b1c12811cade5921c24c58d5503d03<br>Datetime: 2025-04-23 16:12:06.261105<br>Python version: 3.12.9<br>skforecast version: 0.16.0<br>numpy version: 2.2.5<br>pandas version: 2.2.3<br>sklearn version: 1.6.1<br>lightgbm version: 4.6.0<br>Platform: Linux-6.11.0-21-generic-x86_64-with-glibc2.39<br>Processor: x86_64<br>CPU count: 8<br>Memory (GB): 16.64<br>",
          "Forecaster: ForecasterRecursiveMultiSeries<br>Regressor: LGBMRegressor<br>Function: ForecasterRecursiveMultiSeries__create_predict_inputs_exog_is_dict<br>Function_hash: 52b1c12811cade5921c24c58d5503d03<br>Datetime: 2025-04-23 20:13:11.366856<br>Python version: 3.12.9<br>skforecast version: 0.16.0<br>numpy version: 2.2.5<br>pandas version: 2.2.3<br>sklearn version: 1.6.1<br>lightgbm version: 4.6.0<br>Platform: Linux-6.11.0-21-generic-x86_64-with-glibc2.39<br>Processor: x86_64<br>CPU count: 8<br>Memory (GB): 16.64<br>",
          "Forecaster: ForecasterRecursiveMultiSeries<br>Regressor: LGBMRegressor<br>Function: ForecasterRecursiveMultiSeries__create_predict_inputs_exog_is_dict<br>Function_hash: 52b1c12811cade5921c24c58d5503d03<br>Datetime: 2025-04-23 22:56:03.403082<br>Python version: 3.12.9<br>skforecast version: 0.16.0<br>numpy version: 2.2.5<br>pandas version: 2.2.3<br>sklearn version: 1.6.1<br>lightgbm version: 4.6.0<br>Platform: Linux-6.11.0-21-generic-x86_64-with-glibc2.39<br>Processor: x86_64<br>CPU count: 8<br>Memory (GB): 16.64<br>"
         ],
         "type": "scatter",
         "x": {
          "bdata": "wFSMOCUtCED06Y867kEIQDttXEnoOghAKuMOOLRDCEBC7DYQsQgIQA==",
          "dtype": "f8"
         },
         "y": {
          "bdata": "mhlQRH7W0j8zs1okCDfTPzOzadD8m9M/ZmbEbz3c0j+aGaYn4ZfTPw==",
          "dtype": "f8"
         }
        },
        {
         "line": {
          "color": "black",
          "width": 2
         },
         "marker": {
          "color": "black",
          "size": 8
         },
         "mode": "lines+markers",
         "name": "Median (per version)",
         "type": "scatter",
         "x": {
          "bdata": "AAECAw==",
          "dtype": "i1"
         },
         "y": {
          "bdata": "AAAAAAAA+H/MzJ/Jnwv5PzMTvzYg0/g/M7NaJAg30z8=",
          "dtype": "f8"
         }
        }
       ],
       "layout": {
        "showlegend": true,
        "template": {
         "data": {
          "bar": [
           {
            "error_x": {
             "color": "#2a3f5f"
            },
            "error_y": {
             "color": "#2a3f5f"
            },
            "marker": {
             "line": {
              "color": "#E5ECF6",
              "width": 0.5
             },
             "pattern": {
              "fillmode": "overlay",
              "size": 10,
              "solidity": 0.2
             }
            },
            "type": "bar"
           }
          ],
          "barpolar": [
           {
            "marker": {
             "line": {
              "color": "#E5ECF6",
              "width": 0.5
             },
             "pattern": {
              "fillmode": "overlay",
              "size": 10,
              "solidity": 0.2
             }
            },
            "type": "barpolar"
           }
          ],
          "carpet": [
           {
            "aaxis": {
             "endlinecolor": "#2a3f5f",
             "gridcolor": "white",
             "linecolor": "white",
             "minorgridcolor": "white",
             "startlinecolor": "#2a3f5f"
            },
            "baxis": {
             "endlinecolor": "#2a3f5f",
             "gridcolor": "white",
             "linecolor": "white",
             "minorgridcolor": "white",
             "startlinecolor": "#2a3f5f"
            },
            "type": "carpet"
           }
          ],
          "choropleth": [
           {
            "colorbar": {
             "outlinewidth": 0,
             "ticks": ""
            },
            "type": "choropleth"
           }
          ],
          "contour": [
           {
            "colorbar": {
             "outlinewidth": 0,
             "ticks": ""
            },
            "colorscale": [
             [
              0,
              "#0d0887"
             ],
             [
              0.1111111111111111,
              "#46039f"
             ],
             [
              0.2222222222222222,
              "#7201a8"
             ],
             [
              0.3333333333333333,
              "#9c179e"
             ],
             [
              0.4444444444444444,
              "#bd3786"
             ],
             [
              0.5555555555555556,
              "#d8576b"
             ],
             [
              0.6666666666666666,
              "#ed7953"
             ],
             [
              0.7777777777777778,
              "#fb9f3a"
             ],
             [
              0.8888888888888888,
              "#fdca26"
             ],
             [
              1,
              "#f0f921"
             ]
            ],
            "type": "contour"
           }
          ],
          "contourcarpet": [
           {
            "colorbar": {
             "outlinewidth": 0,
             "ticks": ""
            },
            "type": "contourcarpet"
           }
          ],
          "heatmap": [
           {
            "colorbar": {
             "outlinewidth": 0,
             "ticks": ""
            },
            "colorscale": [
             [
              0,
              "#0d0887"
             ],
             [
              0.1111111111111111,
              "#46039f"
             ],
             [
              0.2222222222222222,
              "#7201a8"
             ],
             [
              0.3333333333333333,
              "#9c179e"
             ],
             [
              0.4444444444444444,
              "#bd3786"
             ],
             [
              0.5555555555555556,
              "#d8576b"
             ],
             [
              0.6666666666666666,
              "#ed7953"
             ],
             [
              0.7777777777777778,
              "#fb9f3a"
             ],
             [
              0.8888888888888888,
              "#fdca26"
             ],
             [
              1,
              "#f0f921"
             ]
            ],
            "type": "heatmap"
           }
          ],
          "histogram": [
           {
            "marker": {
             "pattern": {
              "fillmode": "overlay",
              "size": 10,
              "solidity": 0.2
             }
            },
            "type": "histogram"
           }
          ],
          "histogram2d": [
           {
            "colorbar": {
             "outlinewidth": 0,
             "ticks": ""
            },
            "colorscale": [
             [
              0,
              "#0d0887"
             ],
             [
              0.1111111111111111,
              "#46039f"
             ],
             [
              0.2222222222222222,
              "#7201a8"
             ],
             [
              0.3333333333333333,
              "#9c179e"
             ],
             [
              0.4444444444444444,
              "#bd3786"
             ],
             [
              0.5555555555555556,
              "#d8576b"
             ],
             [
              0.6666666666666666,
              "#ed7953"
             ],
             [
              0.7777777777777778,
              "#fb9f3a"
             ],
             [
              0.8888888888888888,
              "#fdca26"
             ],
             [
              1,
              "#f0f921"
             ]
            ],
            "type": "histogram2d"
           }
          ],
          "histogram2dcontour": [
           {
            "colorbar": {
             "outlinewidth": 0,
             "ticks": ""
            },
            "colorscale": [
             [
              0,
              "#0d0887"
             ],
             [
              0.1111111111111111,
              "#46039f"
             ],
             [
              0.2222222222222222,
              "#7201a8"
             ],
             [
              0.3333333333333333,
              "#9c179e"
             ],
             [
              0.4444444444444444,
              "#bd3786"
             ],
             [
              0.5555555555555556,
              "#d8576b"
             ],
             [
              0.6666666666666666,
              "#ed7953"
             ],
             [
              0.7777777777777778,
              "#fb9f3a"
             ],
             [
              0.8888888888888888,
              "#fdca26"
             ],
             [
              1,
              "#f0f921"
             ]
            ],
            "type": "histogram2dcontour"
           }
          ],
          "mesh3d": [
           {
            "colorbar": {
             "outlinewidth": 0,
             "ticks": ""
            },
            "type": "mesh3d"
           }
          ],
          "parcoords": [
           {
            "line": {
             "colorbar": {
              "outlinewidth": 0,
              "ticks": ""
             }
            },
            "type": "parcoords"
           }
          ],
          "pie": [
           {
            "automargin": true,
            "type": "pie"
           }
          ],
          "scatter": [
           {
            "fillpattern": {
             "fillmode": "overlay",
             "size": 10,
             "solidity": 0.2
            },
            "type": "scatter"
           }
          ],
          "scatter3d": [
           {
            "line": {
             "colorbar": {
              "outlinewidth": 0,
              "ticks": ""
             }
            },
            "marker": {
             "colorbar": {
              "outlinewidth": 0,
              "ticks": ""
             }
            },
            "type": "scatter3d"
           }
          ],
          "scattercarpet": [
           {
            "marker": {
             "colorbar": {
              "outlinewidth": 0,
              "ticks": ""
             }
            },
            "type": "scattercarpet"
           }
          ],
          "scattergeo": [
           {
            "marker": {
             "colorbar": {
              "outlinewidth": 0,
              "ticks": ""
             }
            },
            "type": "scattergeo"
           }
          ],
          "scattergl": [
           {
            "marker": {
             "colorbar": {
              "outlinewidth": 0,
              "ticks": ""
             }
            },
            "type": "scattergl"
           }
          ],
          "scattermap": [
           {
            "marker": {
             "colorbar": {
              "outlinewidth": 0,
              "ticks": ""
             }
            },
            "type": "scattermap"
           }
          ],
          "scattermapbox": [
           {
            "marker": {
             "colorbar": {
              "outlinewidth": 0,
              "ticks": ""
             }
            },
            "type": "scattermapbox"
           }
          ],
          "scatterpolar": [
           {
            "marker": {
             "colorbar": {
              "outlinewidth": 0,
              "ticks": ""
             }
            },
            "type": "scatterpolar"
           }
          ],
          "scatterpolargl": [
           {
            "marker": {
             "colorbar": {
              "outlinewidth": 0,
              "ticks": ""
             }
            },
            "type": "scatterpolargl"
           }
          ],
          "scatterternary": [
           {
            "marker": {
             "colorbar": {
              "outlinewidth": 0,
              "ticks": ""
             }
            },
            "type": "scatterternary"
           }
          ],
          "surface": [
           {
            "colorbar": {
             "outlinewidth": 0,
             "ticks": ""
            },
            "colorscale": [
             [
              0,
              "#0d0887"
             ],
             [
              0.1111111111111111,
              "#46039f"
             ],
             [
              0.2222222222222222,
              "#7201a8"
             ],
             [
              0.3333333333333333,
              "#9c179e"
             ],
             [
              0.4444444444444444,
              "#bd3786"
             ],
             [
              0.5555555555555556,
              "#d8576b"
             ],
             [
              0.6666666666666666,
              "#ed7953"
             ],
             [
              0.7777777777777778,
              "#fb9f3a"
             ],
             [
              0.8888888888888888,
              "#fdca26"
             ],
             [
              1,
              "#f0f921"
             ]
            ],
            "type": "surface"
           }
          ],
          "table": [
           {
            "cells": {
             "fill": {
              "color": "#EBF0F8"
             },
             "line": {
              "color": "white"
             }
            },
            "header": {
             "fill": {
              "color": "#C8D4E3"
             },
             "line": {
              "color": "white"
             }
            },
            "type": "table"
           }
          ]
         },
         "layout": {
          "annotationdefaults": {
           "arrowcolor": "#2a3f5f",
           "arrowhead": 0,
           "arrowwidth": 1
          },
          "autotypenumbers": "strict",
          "coloraxis": {
           "colorbar": {
            "outlinewidth": 0,
            "ticks": ""
           }
          },
          "colorscale": {
           "diverging": [
            [
             0,
             "#8e0152"
            ],
            [
             0.1,
             "#c51b7d"
            ],
            [
             0.2,
             "#de77ae"
            ],
            [
             0.3,
             "#f1b6da"
            ],
            [
             0.4,
             "#fde0ef"
            ],
            [
             0.5,
             "#f7f7f7"
            ],
            [
             0.6,
             "#e6f5d0"
            ],
            [
             0.7,
             "#b8e186"
            ],
            [
             0.8,
             "#7fbc41"
            ],
            [
             0.9,
             "#4d9221"
            ],
            [
             1,
             "#276419"
            ]
           ],
           "sequential": [
            [
             0,
             "#0d0887"
            ],
            [
             0.1111111111111111,
             "#46039f"
            ],
            [
             0.2222222222222222,
             "#7201a8"
            ],
            [
             0.3333333333333333,
             "#9c179e"
            ],
            [
             0.4444444444444444,
             "#bd3786"
            ],
            [
             0.5555555555555556,
             "#d8576b"
            ],
            [
             0.6666666666666666,
             "#ed7953"
            ],
            [
             0.7777777777777778,
             "#fb9f3a"
            ],
            [
             0.8888888888888888,
             "#fdca26"
            ],
            [
             1,
             "#f0f921"
            ]
           ],
           "sequentialminus": [
            [
             0,
             "#0d0887"
            ],
            [
             0.1111111111111111,
             "#46039f"
            ],
            [
             0.2222222222222222,
             "#7201a8"
            ],
            [
             0.3333333333333333,
             "#9c179e"
            ],
            [
             0.4444444444444444,
             "#bd3786"
            ],
            [
             0.5555555555555556,
             "#d8576b"
            ],
            [
             0.6666666666666666,
             "#ed7953"
            ],
            [
             0.7777777777777778,
             "#fb9f3a"
            ],
            [
             0.8888888888888888,
             "#fdca26"
            ],
            [
             1,
             "#f0f921"
            ]
           ]
          },
          "colorway": [
           "#636efa",
           "#EF553B",
           "#00cc96",
           "#ab63fa",
           "#FFA15A",
           "#19d3f3",
           "#FF6692",
           "#B6E880",
           "#FF97FF",
           "#FECB52"
          ],
          "font": {
           "color": "#2a3f5f"
          },
          "geo": {
           "bgcolor": "white",
           "lakecolor": "white",
           "landcolor": "#E5ECF6",
           "showlakes": true,
           "showland": true,
           "subunitcolor": "white"
          },
          "hoverlabel": {
           "align": "left"
          },
          "hovermode": "closest",
          "mapbox": {
           "style": "light"
          },
          "paper_bgcolor": "white",
          "plot_bgcolor": "#E5ECF6",
          "polar": {
           "angularaxis": {
            "gridcolor": "white",
            "linecolor": "white",
            "ticks": ""
           },
           "bgcolor": "#E5ECF6",
           "radialaxis": {
            "gridcolor": "white",
            "linecolor": "white",
            "ticks": ""
           }
          },
          "scene": {
           "xaxis": {
            "backgroundcolor": "#E5ECF6",
            "gridcolor": "white",
            "gridwidth": 2,
            "linecolor": "white",
            "showbackground": true,
            "ticks": "",
            "zerolinecolor": "white"
           },
           "yaxis": {
            "backgroundcolor": "#E5ECF6",
            "gridcolor": "white",
            "gridwidth": 2,
            "linecolor": "white",
            "showbackground": true,
            "ticks": "",
            "zerolinecolor": "white"
           },
           "zaxis": {
            "backgroundcolor": "#E5ECF6",
            "gridcolor": "white",
            "gridwidth": 2,
            "linecolor": "white",
            "showbackground": true,
            "ticks": "",
            "zerolinecolor": "white"
           }
          },
          "shapedefaults": {
           "line": {
            "color": "#2a3f5f"
           }
          },
          "ternary": {
           "aaxis": {
            "gridcolor": "white",
            "linecolor": "white",
            "ticks": ""
           },
           "baxis": {
            "gridcolor": "white",
            "linecolor": "white",
            "ticks": ""
           },
           "bgcolor": "#E5ECF6",
           "caxis": {
            "gridcolor": "white",
            "linecolor": "white",
            "ticks": ""
           }
          },
          "title": {
           "x": 0.05
          },
          "xaxis": {
           "automargin": true,
           "gridcolor": "white",
           "linecolor": "white",
           "ticks": "",
           "title": {
            "standoff": 15
           },
           "zerolinecolor": "white",
           "zerolinewidth": 2
          },
          "yaxis": {
           "automargin": true,
           "gridcolor": "white",
           "linecolor": "white",
           "ticks": "",
           "title": {
            "standoff": 15
           },
           "zerolinecolor": "white",
           "zerolinewidth": 2
          }
         }
        },
        "title": {
         "text": "Execution time of ForecasterRecursiveMultiSeries__create_predict_inputs_exog_is_dict"
        },
        "xaxis": {
         "tickangle": -45,
         "tickmode": "array",
         "ticktext": [
          "0.13.0",
          "0.14.0",
          "0.15.1",
          "0.16.0"
         ],
         "tickvals": [
          0,
          1,
          2,
          3
         ],
         "title": {
          "text": "skforecast version"
         }
        },
        "yaxis": {
         "title": {
          "text": "Execution time (seconds)"
         }
        }
       }
      }
     },
     "metadata": {},
     "output_type": "display_data"
    },
    {
     "data": {
      "application/vnd.microsoft.datawrangler.viewer.v0+json": {
       "columns": [
        {
         "name": "index",
         "rawType": "int64",
         "type": "integer"
        },
        {
         "name": "forecaster_name",
         "rawType": "object",
         "type": "string"
        },
        {
         "name": "regressor_name",
         "rawType": "object",
         "type": "string"
        },
        {
         "name": "function_name",
         "rawType": "object",
         "type": "string"
        },
        {
         "name": "function_hash",
         "rawType": "object",
         "type": "string"
        },
        {
         "name": "run_time_avg",
         "rawType": "float64",
         "type": "float"
        },
        {
         "name": "run_time_std_dev",
         "rawType": "float64",
         "type": "float"
        },
        {
         "name": "datetime",
         "rawType": "datetime64[ns]",
         "type": "datetime"
        },
        {
         "name": "python_version",
         "rawType": "object",
         "type": "string"
        },
        {
         "name": "skforecast_version",
         "rawType": "object",
         "type": "string"
        },
        {
         "name": "numpy_version",
         "rawType": "object",
         "type": "string"
        },
        {
         "name": "pandas_version",
         "rawType": "object",
         "type": "string"
        },
        {
         "name": "sklearn_version",
         "rawType": "object",
         "type": "string"
        },
        {
         "name": "lightgbm_version",
         "rawType": "object",
         "type": "string"
        },
        {
         "name": "platform",
         "rawType": "object",
         "type": "string"
        },
        {
         "name": "processor",
         "rawType": "object",
         "type": "string"
        },
        {
         "name": "cpu_count",
         "rawType": "int64",
         "type": "integer"
        },
        {
         "name": "memory_gb",
         "rawType": "float64",
         "type": "float"
        }
       ],
       "conversionMethod": "pd.DataFrame",
       "ref": "b7737c38-f1fe-4b29-b230-7ef35322c98a",
       "rows": [
        [
         "7",
         "ForecasterRecursiveMultiSeries",
         "LGBMRegressor",
         "ForecasterRecursiveMultiSeries__check_predict_inputs",
         "33fe67969d33981cb73558c1dc51eb82",
         "0.07525949259979825",
         "0.01146074942737528",
         "2025-04-23 15:05:55.423850",
         "3.12.9",
         "0.16.0",
         "2.2.5",
         "2.2.3",
         "1.6.1",
         "4.6.0",
         "Linux-6.11.0-21-generic-x86_64-with-glibc2.39",
         "x86_64",
         "8",
         "16.64"
        ],
        [
         "19",
         "ForecasterRecursiveMultiSeries",
         "LGBMRegressor",
         "ForecasterRecursiveMultiSeries__check_predict_inputs",
         "33fe67969d33981cb73558c1dc51eb82",
         "0.2854214671999216",
         "0.006975553480806837",
         "2025-04-23 15:11:59.234735",
         "3.12.9",
         "0.15.1",
         "2.2.5",
         "2.2.3",
         "1.6.1",
         "4.6.0",
         "Linux-6.11.0-21-generic-x86_64-with-glibc2.39",
         "x86_64",
         "8",
         "16.64"
        ],
        [
         "31",
         "ForecasterRecursiveMultiSeries",
         "LGBMRegressor",
         "ForecasterRecursiveMultiSeries__check_predict_inputs",
         "33fe67969d33981cb73558c1dc51eb82",
         "0.2920573258004879",
         "0.01775083122843596",
         "2025-04-23 15:15:54.517700",
         "3.12.9",
         "0.14.0",
         "2.2.5",
         "2.2.3",
         "1.6.1",
         "4.6.0",
         "Linux-6.11.0-21-generic-x86_64-with-glibc2.39",
         "x86_64",
         "8",
         "16.64"
        ],
        [
         "43",
         "ForecasterAutoregMultiSeries",
         "LGBMRegressor",
         "ForecasterRecursiveMultiSeries__check_predict_inputs",
         "33fe67969d33981cb73558c1dc51eb82",
         null,
         null,
         "2025-04-23 15:31:29.435634",
         "3.12.9",
         "0.13.0",
         "2.2.5",
         "2.2.3",
         "1.6.1",
         "4.6.0",
         "Linux-6.11.0-21-generic-x86_64-with-glibc2.39",
         "x86_64",
         "8",
         "16.64"
        ],
        [
         "55",
         "ForecasterAutoregMultiSeries",
         "LGBMRegressor",
         "ForecasterRecursiveMultiSeries__check_predict_inputs",
         "33fe67969d33981cb73558c1dc51eb82",
         null,
         null,
         "2025-04-23 15:41:02.236475",
         "3.12.9",
         "0.13.0",
         "2.2.5",
         "2.2.3",
         "1.6.1",
         "4.6.0",
         "Linux-6.11.0-21-generic-x86_64-with-glibc2.39",
         "x86_64",
         "8",
         "16.64"
        ],
        [
         "75",
         "ForecasterRecursiveMultiSeries",
         "LGBMRegressor",
         "ForecasterRecursiveMultiSeries__check_predict_inputs",
         "33fe67969d33981cb73558c1dc51eb82",
         "0.3202220286002557",
         "0.009128532248842533",
         "2025-04-23 15:56:48.439766",
         "3.12.9",
         "0.14.0",
         "2.2.5",
         "2.2.3",
         "1.6.1",
         "4.6.0",
         "Linux-6.11.0-21-generic-x86_64-with-glibc2.39",
         "x86_64",
         "8",
         "16.64"
        ],
        [
         "87",
         "ForecasterRecursiveMultiSeries",
         "LGBMRegressor",
         "ForecasterRecursiveMultiSeries__check_predict_inputs",
         "33fe67969d33981cb73558c1dc51eb82",
         "0.42247457839948765",
         "0.06922862902463336",
         "2025-04-23 16:01:00.604398",
         "3.12.9",
         "0.15.1",
         "2.2.5",
         "2.2.3",
         "1.6.1",
         "4.6.0",
         "Linux-6.11.0-21-generic-x86_64-with-glibc2.39",
         "x86_64",
         "8",
         "16.64"
        ],
        [
         "99",
         "ForecasterRecursiveMultiSeries",
         "LGBMRegressor",
         "ForecasterRecursiveMultiSeries__check_predict_inputs",
         "33fe67969d33981cb73558c1dc51eb82",
         "0.28809119639918207",
         "0.006006825654934848",
         "2025-04-23 16:05:29.787076",
         "3.12.9",
         "0.15.1",
         "2.2.5",
         "2.2.3",
         "1.6.1",
         "4.6.0",
         "Linux-6.11.0-21-generic-x86_64-with-glibc2.39",
         "x86_64",
         "8",
         "16.64"
        ],
        [
         "111",
         "ForecasterRecursiveMultiSeries",
         "LGBMRegressor",
         "ForecasterRecursiveMultiSeries__check_predict_inputs",
         "33fe67969d33981cb73558c1dc51eb82",
         "0.06820721039985074",
         "0.0007553701087683703",
         "2025-04-23 16:08:39.143474",
         "3.12.9",
         "0.16.0",
         "2.2.5",
         "2.2.3",
         "1.6.1",
         "4.6.0",
         "Linux-6.11.0-21-generic-x86_64-with-glibc2.39",
         "x86_64",
         "8",
         "16.64"
        ],
        [
         "123",
         "ForecasterRecursiveMultiSeries",
         "LGBMRegressor",
         "ForecasterRecursiveMultiSeries__check_predict_inputs",
         "33fe67969d33981cb73558c1dc51eb82",
         "0.07887087460003386",
         "0.014603916997661594",
         "2025-04-23 16:12:07.797771",
         "3.12.9",
         "0.16.0",
         "2.2.5",
         "2.2.3",
         "1.6.1",
         "4.6.0",
         "Linux-6.11.0-21-generic-x86_64-with-glibc2.39",
         "x86_64",
         "8",
         "16.64"
        ],
        [
         "142",
         "ForecasterRecursiveMultiSeries",
         "LGBMRegressor",
         "ForecasterRecursiveMultiSeries__check_predict_inputs",
         "33fe67969d33981cb73558c1dc51eb82",
         "0.06824875199963572",
         "0.0006271725457756019",
         "2025-04-23 20:13:12.844264",
         "3.12.9",
         "0.16.0",
         "2.2.5",
         "2.2.3",
         "1.6.1",
         "4.6.0",
         "Linux-6.11.0-21-generic-x86_64-with-glibc2.39",
         "x86_64",
         "8",
         "16.64"
        ],
        [
         "155",
         "ForecasterRecursiveMultiSeries",
         "LGBMRegressor",
         "ForecasterRecursiveMultiSeries__check_predict_inputs",
         "33fe67969d33981cb73558c1dc51eb82",
         "0.2740987025001232",
         "0.011272637698020315",
         "2025-04-23 20:19:22.245362",
         "3.12.9",
         "0.15.1",
         "2.2.5",
         "2.2.3",
         "1.6.1",
         "4.6.0",
         "Linux-6.11.0-21-generic-x86_64-with-glibc2.39",
         "x86_64",
         "8",
         "16.64"
        ],
        [
         "168",
         "ForecasterRecursiveMultiSeries",
         "LGBMRegressor",
         "ForecasterRecursiveMultiSeries__check_predict_inputs",
         "33fe67969d33981cb73558c1dc51eb82",
         "0.3626656009997532",
         "0.050402433398039924",
         "2025-04-23 22:00:23.306033",
         "3.12.9",
         "0.15.1",
         "2.2.5",
         "2.2.3",
         "1.6.1",
         "4.6.0",
         "Linux-6.11.0-21-generic-x86_64-with-glibc2.39",
         "x86_64",
         "8",
         "16.64"
        ],
        [
         "181",
         "ForecasterRecursiveMultiSeries",
         "LGBMRegressor",
         "ForecasterRecursiveMultiSeries__check_predict_inputs",
         "33fe67969d33981cb73558c1dc51eb82",
         "0.33893906689954745",
         "0.04690413050625984",
         "2025-04-23 22:13:29.634735",
         "3.12.9",
         "0.14.0",
         "2.2.5",
         "2.2.3",
         "1.6.1",
         "4.6.0",
         "Linux-6.11.0-21-generic-x86_64-with-glibc2.39",
         "x86_64",
         "8",
         "16.64"
        ],
        [
         "194",
         "ForecasterRecursiveMultiSeries",
         "LGBMRegressor",
         "ForecasterRecursiveMultiSeries__check_predict_inputs",
         "33fe67969d33981cb73558c1dc51eb82",
         "0.2918542953004362",
         "0.011241307316008465",
         "2025-04-23 22:47:43.973616",
         "3.12.9",
         "0.14.0",
         "2.2.5",
         "2.2.3",
         "1.6.1",
         "4.6.0",
         "Linux-6.11.0-21-generic-x86_64-with-glibc2.39",
         "x86_64",
         "8",
         "16.64"
        ],
        [
         "208",
         "ForecasterRecursiveMultiSeries",
         "LGBMRegressor",
         "ForecasterRecursiveMultiSeries__check_predict_inputs",
         "33fe67969d33981cb73558c1dc51eb82",
         "0.07286467149970122",
         "0.0022602091089558318",
         "2025-04-23 22:56:06.468623",
         "3.12.9",
         "0.16.0",
         "2.2.5",
         "2.2.3",
         "1.6.1",
         "4.6.0",
         "Linux-6.11.0-21-generic-x86_64-with-glibc2.39",
         "x86_64",
         "8",
         "16.64"
        ]
       ],
       "shape": {
        "columns": 17,
        "rows": 16
       }
      },
      "text/html": [
       "<div>\n",
       "<style scoped>\n",
       "    .dataframe tbody tr th:only-of-type {\n",
       "        vertical-align: middle;\n",
       "    }\n",
       "\n",
       "    .dataframe tbody tr th {\n",
       "        vertical-align: top;\n",
       "    }\n",
       "\n",
       "    .dataframe thead th {\n",
       "        text-align: right;\n",
       "    }\n",
       "</style>\n",
       "<table border=\"1\" class=\"dataframe\">\n",
       "  <thead>\n",
       "    <tr style=\"text-align: right;\">\n",
       "      <th></th>\n",
       "      <th>forecaster_name</th>\n",
       "      <th>regressor_name</th>\n",
       "      <th>function_name</th>\n",
       "      <th>function_hash</th>\n",
       "      <th>run_time_avg</th>\n",
       "      <th>run_time_std_dev</th>\n",
       "      <th>datetime</th>\n",
       "      <th>python_version</th>\n",
       "      <th>skforecast_version</th>\n",
       "      <th>numpy_version</th>\n",
       "      <th>pandas_version</th>\n",
       "      <th>sklearn_version</th>\n",
       "      <th>lightgbm_version</th>\n",
       "      <th>platform</th>\n",
       "      <th>processor</th>\n",
       "      <th>cpu_count</th>\n",
       "      <th>memory_gb</th>\n",
       "    </tr>\n",
       "  </thead>\n",
       "  <tbody>\n",
       "    <tr>\n",
       "      <th>7</th>\n",
       "      <td>ForecasterRecursiveMultiSeries</td>\n",
       "      <td>LGBMRegressor</td>\n",
       "      <td>ForecasterRecursiveMultiSeries__check_predict_...</td>\n",
       "      <td>33fe67969d33981cb73558c1dc51eb82</td>\n",
       "      <td>0.075259</td>\n",
       "      <td>0.011461</td>\n",
       "      <td>2025-04-23 15:05:55.423850</td>\n",
       "      <td>3.12.9</td>\n",
       "      <td>0.16.0</td>\n",
       "      <td>2.2.5</td>\n",
       "      <td>2.2.3</td>\n",
       "      <td>1.6.1</td>\n",
       "      <td>4.6.0</td>\n",
       "      <td>Linux-6.11.0-21-generic-x86_64-with-glibc2.39</td>\n",
       "      <td>x86_64</td>\n",
       "      <td>8</td>\n",
       "      <td>16.64</td>\n",
       "    </tr>\n",
       "    <tr>\n",
       "      <th>19</th>\n",
       "      <td>ForecasterRecursiveMultiSeries</td>\n",
       "      <td>LGBMRegressor</td>\n",
       "      <td>ForecasterRecursiveMultiSeries__check_predict_...</td>\n",
       "      <td>33fe67969d33981cb73558c1dc51eb82</td>\n",
       "      <td>0.285421</td>\n",
       "      <td>0.006976</td>\n",
       "      <td>2025-04-23 15:11:59.234735</td>\n",
       "      <td>3.12.9</td>\n",
       "      <td>0.15.1</td>\n",
       "      <td>2.2.5</td>\n",
       "      <td>2.2.3</td>\n",
       "      <td>1.6.1</td>\n",
       "      <td>4.6.0</td>\n",
       "      <td>Linux-6.11.0-21-generic-x86_64-with-glibc2.39</td>\n",
       "      <td>x86_64</td>\n",
       "      <td>8</td>\n",
       "      <td>16.64</td>\n",
       "    </tr>\n",
       "    <tr>\n",
       "      <th>31</th>\n",
       "      <td>ForecasterRecursiveMultiSeries</td>\n",
       "      <td>LGBMRegressor</td>\n",
       "      <td>ForecasterRecursiveMultiSeries__check_predict_...</td>\n",
       "      <td>33fe67969d33981cb73558c1dc51eb82</td>\n",
       "      <td>0.292057</td>\n",
       "      <td>0.017751</td>\n",
       "      <td>2025-04-23 15:15:54.517700</td>\n",
       "      <td>3.12.9</td>\n",
       "      <td>0.14.0</td>\n",
       "      <td>2.2.5</td>\n",
       "      <td>2.2.3</td>\n",
       "      <td>1.6.1</td>\n",
       "      <td>4.6.0</td>\n",
       "      <td>Linux-6.11.0-21-generic-x86_64-with-glibc2.39</td>\n",
       "      <td>x86_64</td>\n",
       "      <td>8</td>\n",
       "      <td>16.64</td>\n",
       "    </tr>\n",
       "    <tr>\n",
       "      <th>43</th>\n",
       "      <td>ForecasterAutoregMultiSeries</td>\n",
       "      <td>LGBMRegressor</td>\n",
       "      <td>ForecasterRecursiveMultiSeries__check_predict_...</td>\n",
       "      <td>33fe67969d33981cb73558c1dc51eb82</td>\n",
       "      <td>NaN</td>\n",
       "      <td>NaN</td>\n",
       "      <td>2025-04-23 15:31:29.435634</td>\n",
       "      <td>3.12.9</td>\n",
       "      <td>0.13.0</td>\n",
       "      <td>2.2.5</td>\n",
       "      <td>2.2.3</td>\n",
       "      <td>1.6.1</td>\n",
       "      <td>4.6.0</td>\n",
       "      <td>Linux-6.11.0-21-generic-x86_64-with-glibc2.39</td>\n",
       "      <td>x86_64</td>\n",
       "      <td>8</td>\n",
       "      <td>16.64</td>\n",
       "    </tr>\n",
       "    <tr>\n",
       "      <th>55</th>\n",
       "      <td>ForecasterAutoregMultiSeries</td>\n",
       "      <td>LGBMRegressor</td>\n",
       "      <td>ForecasterRecursiveMultiSeries__check_predict_...</td>\n",
       "      <td>33fe67969d33981cb73558c1dc51eb82</td>\n",
       "      <td>NaN</td>\n",
       "      <td>NaN</td>\n",
       "      <td>2025-04-23 15:41:02.236475</td>\n",
       "      <td>3.12.9</td>\n",
       "      <td>0.13.0</td>\n",
       "      <td>2.2.5</td>\n",
       "      <td>2.2.3</td>\n",
       "      <td>1.6.1</td>\n",
       "      <td>4.6.0</td>\n",
       "      <td>Linux-6.11.0-21-generic-x86_64-with-glibc2.39</td>\n",
       "      <td>x86_64</td>\n",
       "      <td>8</td>\n",
       "      <td>16.64</td>\n",
       "    </tr>\n",
       "    <tr>\n",
       "      <th>75</th>\n",
       "      <td>ForecasterRecursiveMultiSeries</td>\n",
       "      <td>LGBMRegressor</td>\n",
       "      <td>ForecasterRecursiveMultiSeries__check_predict_...</td>\n",
       "      <td>33fe67969d33981cb73558c1dc51eb82</td>\n",
       "      <td>0.320222</td>\n",
       "      <td>0.009129</td>\n",
       "      <td>2025-04-23 15:56:48.439766</td>\n",
       "      <td>3.12.9</td>\n",
       "      <td>0.14.0</td>\n",
       "      <td>2.2.5</td>\n",
       "      <td>2.2.3</td>\n",
       "      <td>1.6.1</td>\n",
       "      <td>4.6.0</td>\n",
       "      <td>Linux-6.11.0-21-generic-x86_64-with-glibc2.39</td>\n",
       "      <td>x86_64</td>\n",
       "      <td>8</td>\n",
       "      <td>16.64</td>\n",
       "    </tr>\n",
       "    <tr>\n",
       "      <th>87</th>\n",
       "      <td>ForecasterRecursiveMultiSeries</td>\n",
       "      <td>LGBMRegressor</td>\n",
       "      <td>ForecasterRecursiveMultiSeries__check_predict_...</td>\n",
       "      <td>33fe67969d33981cb73558c1dc51eb82</td>\n",
       "      <td>0.422475</td>\n",
       "      <td>0.069229</td>\n",
       "      <td>2025-04-23 16:01:00.604398</td>\n",
       "      <td>3.12.9</td>\n",
       "      <td>0.15.1</td>\n",
       "      <td>2.2.5</td>\n",
       "      <td>2.2.3</td>\n",
       "      <td>1.6.1</td>\n",
       "      <td>4.6.0</td>\n",
       "      <td>Linux-6.11.0-21-generic-x86_64-with-glibc2.39</td>\n",
       "      <td>x86_64</td>\n",
       "      <td>8</td>\n",
       "      <td>16.64</td>\n",
       "    </tr>\n",
       "    <tr>\n",
       "      <th>99</th>\n",
       "      <td>ForecasterRecursiveMultiSeries</td>\n",
       "      <td>LGBMRegressor</td>\n",
       "      <td>ForecasterRecursiveMultiSeries__check_predict_...</td>\n",
       "      <td>33fe67969d33981cb73558c1dc51eb82</td>\n",
       "      <td>0.288091</td>\n",
       "      <td>0.006007</td>\n",
       "      <td>2025-04-23 16:05:29.787076</td>\n",
       "      <td>3.12.9</td>\n",
       "      <td>0.15.1</td>\n",
       "      <td>2.2.5</td>\n",
       "      <td>2.2.3</td>\n",
       "      <td>1.6.1</td>\n",
       "      <td>4.6.0</td>\n",
       "      <td>Linux-6.11.0-21-generic-x86_64-with-glibc2.39</td>\n",
       "      <td>x86_64</td>\n",
       "      <td>8</td>\n",
       "      <td>16.64</td>\n",
       "    </tr>\n",
       "    <tr>\n",
       "      <th>111</th>\n",
       "      <td>ForecasterRecursiveMultiSeries</td>\n",
       "      <td>LGBMRegressor</td>\n",
       "      <td>ForecasterRecursiveMultiSeries__check_predict_...</td>\n",
       "      <td>33fe67969d33981cb73558c1dc51eb82</td>\n",
       "      <td>0.068207</td>\n",
       "      <td>0.000755</td>\n",
       "      <td>2025-04-23 16:08:39.143474</td>\n",
       "      <td>3.12.9</td>\n",
       "      <td>0.16.0</td>\n",
       "      <td>2.2.5</td>\n",
       "      <td>2.2.3</td>\n",
       "      <td>1.6.1</td>\n",
       "      <td>4.6.0</td>\n",
       "      <td>Linux-6.11.0-21-generic-x86_64-with-glibc2.39</td>\n",
       "      <td>x86_64</td>\n",
       "      <td>8</td>\n",
       "      <td>16.64</td>\n",
       "    </tr>\n",
       "    <tr>\n",
       "      <th>123</th>\n",
       "      <td>ForecasterRecursiveMultiSeries</td>\n",
       "      <td>LGBMRegressor</td>\n",
       "      <td>ForecasterRecursiveMultiSeries__check_predict_...</td>\n",
       "      <td>33fe67969d33981cb73558c1dc51eb82</td>\n",
       "      <td>0.078871</td>\n",
       "      <td>0.014604</td>\n",
       "      <td>2025-04-23 16:12:07.797771</td>\n",
       "      <td>3.12.9</td>\n",
       "      <td>0.16.0</td>\n",
       "      <td>2.2.5</td>\n",
       "      <td>2.2.3</td>\n",
       "      <td>1.6.1</td>\n",
       "      <td>4.6.0</td>\n",
       "      <td>Linux-6.11.0-21-generic-x86_64-with-glibc2.39</td>\n",
       "      <td>x86_64</td>\n",
       "      <td>8</td>\n",
       "      <td>16.64</td>\n",
       "    </tr>\n",
       "    <tr>\n",
       "      <th>142</th>\n",
       "      <td>ForecasterRecursiveMultiSeries</td>\n",
       "      <td>LGBMRegressor</td>\n",
       "      <td>ForecasterRecursiveMultiSeries__check_predict_...</td>\n",
       "      <td>33fe67969d33981cb73558c1dc51eb82</td>\n",
       "      <td>0.068249</td>\n",
       "      <td>0.000627</td>\n",
       "      <td>2025-04-23 20:13:12.844264</td>\n",
       "      <td>3.12.9</td>\n",
       "      <td>0.16.0</td>\n",
       "      <td>2.2.5</td>\n",
       "      <td>2.2.3</td>\n",
       "      <td>1.6.1</td>\n",
       "      <td>4.6.0</td>\n",
       "      <td>Linux-6.11.0-21-generic-x86_64-with-glibc2.39</td>\n",
       "      <td>x86_64</td>\n",
       "      <td>8</td>\n",
       "      <td>16.64</td>\n",
       "    </tr>\n",
       "    <tr>\n",
       "      <th>155</th>\n",
       "      <td>ForecasterRecursiveMultiSeries</td>\n",
       "      <td>LGBMRegressor</td>\n",
       "      <td>ForecasterRecursiveMultiSeries__check_predict_...</td>\n",
       "      <td>33fe67969d33981cb73558c1dc51eb82</td>\n",
       "      <td>0.274099</td>\n",
       "      <td>0.011273</td>\n",
       "      <td>2025-04-23 20:19:22.245362</td>\n",
       "      <td>3.12.9</td>\n",
       "      <td>0.15.1</td>\n",
       "      <td>2.2.5</td>\n",
       "      <td>2.2.3</td>\n",
       "      <td>1.6.1</td>\n",
       "      <td>4.6.0</td>\n",
       "      <td>Linux-6.11.0-21-generic-x86_64-with-glibc2.39</td>\n",
       "      <td>x86_64</td>\n",
       "      <td>8</td>\n",
       "      <td>16.64</td>\n",
       "    </tr>\n",
       "    <tr>\n",
       "      <th>168</th>\n",
       "      <td>ForecasterRecursiveMultiSeries</td>\n",
       "      <td>LGBMRegressor</td>\n",
       "      <td>ForecasterRecursiveMultiSeries__check_predict_...</td>\n",
       "      <td>33fe67969d33981cb73558c1dc51eb82</td>\n",
       "      <td>0.362666</td>\n",
       "      <td>0.050402</td>\n",
       "      <td>2025-04-23 22:00:23.306033</td>\n",
       "      <td>3.12.9</td>\n",
       "      <td>0.15.1</td>\n",
       "      <td>2.2.5</td>\n",
       "      <td>2.2.3</td>\n",
       "      <td>1.6.1</td>\n",
       "      <td>4.6.0</td>\n",
       "      <td>Linux-6.11.0-21-generic-x86_64-with-glibc2.39</td>\n",
       "      <td>x86_64</td>\n",
       "      <td>8</td>\n",
       "      <td>16.64</td>\n",
       "    </tr>\n",
       "    <tr>\n",
       "      <th>181</th>\n",
       "      <td>ForecasterRecursiveMultiSeries</td>\n",
       "      <td>LGBMRegressor</td>\n",
       "      <td>ForecasterRecursiveMultiSeries__check_predict_...</td>\n",
       "      <td>33fe67969d33981cb73558c1dc51eb82</td>\n",
       "      <td>0.338939</td>\n",
       "      <td>0.046904</td>\n",
       "      <td>2025-04-23 22:13:29.634735</td>\n",
       "      <td>3.12.9</td>\n",
       "      <td>0.14.0</td>\n",
       "      <td>2.2.5</td>\n",
       "      <td>2.2.3</td>\n",
       "      <td>1.6.1</td>\n",
       "      <td>4.6.0</td>\n",
       "      <td>Linux-6.11.0-21-generic-x86_64-with-glibc2.39</td>\n",
       "      <td>x86_64</td>\n",
       "      <td>8</td>\n",
       "      <td>16.64</td>\n",
       "    </tr>\n",
       "    <tr>\n",
       "      <th>194</th>\n",
       "      <td>ForecasterRecursiveMultiSeries</td>\n",
       "      <td>LGBMRegressor</td>\n",
       "      <td>ForecasterRecursiveMultiSeries__check_predict_...</td>\n",
       "      <td>33fe67969d33981cb73558c1dc51eb82</td>\n",
       "      <td>0.291854</td>\n",
       "      <td>0.011241</td>\n",
       "      <td>2025-04-23 22:47:43.973616</td>\n",
       "      <td>3.12.9</td>\n",
       "      <td>0.14.0</td>\n",
       "      <td>2.2.5</td>\n",
       "      <td>2.2.3</td>\n",
       "      <td>1.6.1</td>\n",
       "      <td>4.6.0</td>\n",
       "      <td>Linux-6.11.0-21-generic-x86_64-with-glibc2.39</td>\n",
       "      <td>x86_64</td>\n",
       "      <td>8</td>\n",
       "      <td>16.64</td>\n",
       "    </tr>\n",
       "    <tr>\n",
       "      <th>208</th>\n",
       "      <td>ForecasterRecursiveMultiSeries</td>\n",
       "      <td>LGBMRegressor</td>\n",
       "      <td>ForecasterRecursiveMultiSeries__check_predict_...</td>\n",
       "      <td>33fe67969d33981cb73558c1dc51eb82</td>\n",
       "      <td>0.072865</td>\n",
       "      <td>0.002260</td>\n",
       "      <td>2025-04-23 22:56:06.468623</td>\n",
       "      <td>3.12.9</td>\n",
       "      <td>0.16.0</td>\n",
       "      <td>2.2.5</td>\n",
       "      <td>2.2.3</td>\n",
       "      <td>1.6.1</td>\n",
       "      <td>4.6.0</td>\n",
       "      <td>Linux-6.11.0-21-generic-x86_64-with-glibc2.39</td>\n",
       "      <td>x86_64</td>\n",
       "      <td>8</td>\n",
       "      <td>16.64</td>\n",
       "    </tr>\n",
       "  </tbody>\n",
       "</table>\n",
       "</div>"
      ],
      "text/plain": [
       "                    forecaster_name regressor_name  \\\n",
       "7    ForecasterRecursiveMultiSeries  LGBMRegressor   \n",
       "19   ForecasterRecursiveMultiSeries  LGBMRegressor   \n",
       "31   ForecasterRecursiveMultiSeries  LGBMRegressor   \n",
       "43     ForecasterAutoregMultiSeries  LGBMRegressor   \n",
       "55     ForecasterAutoregMultiSeries  LGBMRegressor   \n",
       "75   ForecasterRecursiveMultiSeries  LGBMRegressor   \n",
       "87   ForecasterRecursiveMultiSeries  LGBMRegressor   \n",
       "99   ForecasterRecursiveMultiSeries  LGBMRegressor   \n",
       "111  ForecasterRecursiveMultiSeries  LGBMRegressor   \n",
       "123  ForecasterRecursiveMultiSeries  LGBMRegressor   \n",
       "142  ForecasterRecursiveMultiSeries  LGBMRegressor   \n",
       "155  ForecasterRecursiveMultiSeries  LGBMRegressor   \n",
       "168  ForecasterRecursiveMultiSeries  LGBMRegressor   \n",
       "181  ForecasterRecursiveMultiSeries  LGBMRegressor   \n",
       "194  ForecasterRecursiveMultiSeries  LGBMRegressor   \n",
       "208  ForecasterRecursiveMultiSeries  LGBMRegressor   \n",
       "\n",
       "                                         function_name  \\\n",
       "7    ForecasterRecursiveMultiSeries__check_predict_...   \n",
       "19   ForecasterRecursiveMultiSeries__check_predict_...   \n",
       "31   ForecasterRecursiveMultiSeries__check_predict_...   \n",
       "43   ForecasterRecursiveMultiSeries__check_predict_...   \n",
       "55   ForecasterRecursiveMultiSeries__check_predict_...   \n",
       "75   ForecasterRecursiveMultiSeries__check_predict_...   \n",
       "87   ForecasterRecursiveMultiSeries__check_predict_...   \n",
       "99   ForecasterRecursiveMultiSeries__check_predict_...   \n",
       "111  ForecasterRecursiveMultiSeries__check_predict_...   \n",
       "123  ForecasterRecursiveMultiSeries__check_predict_...   \n",
       "142  ForecasterRecursiveMultiSeries__check_predict_...   \n",
       "155  ForecasterRecursiveMultiSeries__check_predict_...   \n",
       "168  ForecasterRecursiveMultiSeries__check_predict_...   \n",
       "181  ForecasterRecursiveMultiSeries__check_predict_...   \n",
       "194  ForecasterRecursiveMultiSeries__check_predict_...   \n",
       "208  ForecasterRecursiveMultiSeries__check_predict_...   \n",
       "\n",
       "                        function_hash  run_time_avg  run_time_std_dev  \\\n",
       "7    33fe67969d33981cb73558c1dc51eb82      0.075259          0.011461   \n",
       "19   33fe67969d33981cb73558c1dc51eb82      0.285421          0.006976   \n",
       "31   33fe67969d33981cb73558c1dc51eb82      0.292057          0.017751   \n",
       "43   33fe67969d33981cb73558c1dc51eb82           NaN               NaN   \n",
       "55   33fe67969d33981cb73558c1dc51eb82           NaN               NaN   \n",
       "75   33fe67969d33981cb73558c1dc51eb82      0.320222          0.009129   \n",
       "87   33fe67969d33981cb73558c1dc51eb82      0.422475          0.069229   \n",
       "99   33fe67969d33981cb73558c1dc51eb82      0.288091          0.006007   \n",
       "111  33fe67969d33981cb73558c1dc51eb82      0.068207          0.000755   \n",
       "123  33fe67969d33981cb73558c1dc51eb82      0.078871          0.014604   \n",
       "142  33fe67969d33981cb73558c1dc51eb82      0.068249          0.000627   \n",
       "155  33fe67969d33981cb73558c1dc51eb82      0.274099          0.011273   \n",
       "168  33fe67969d33981cb73558c1dc51eb82      0.362666          0.050402   \n",
       "181  33fe67969d33981cb73558c1dc51eb82      0.338939          0.046904   \n",
       "194  33fe67969d33981cb73558c1dc51eb82      0.291854          0.011241   \n",
       "208  33fe67969d33981cb73558c1dc51eb82      0.072865          0.002260   \n",
       "\n",
       "                      datetime python_version skforecast_version  \\\n",
       "7   2025-04-23 15:05:55.423850         3.12.9             0.16.0   \n",
       "19  2025-04-23 15:11:59.234735         3.12.9             0.15.1   \n",
       "31  2025-04-23 15:15:54.517700         3.12.9             0.14.0   \n",
       "43  2025-04-23 15:31:29.435634         3.12.9             0.13.0   \n",
       "55  2025-04-23 15:41:02.236475         3.12.9             0.13.0   \n",
       "75  2025-04-23 15:56:48.439766         3.12.9             0.14.0   \n",
       "87  2025-04-23 16:01:00.604398         3.12.9             0.15.1   \n",
       "99  2025-04-23 16:05:29.787076         3.12.9             0.15.1   \n",
       "111 2025-04-23 16:08:39.143474         3.12.9             0.16.0   \n",
       "123 2025-04-23 16:12:07.797771         3.12.9             0.16.0   \n",
       "142 2025-04-23 20:13:12.844264         3.12.9             0.16.0   \n",
       "155 2025-04-23 20:19:22.245362         3.12.9             0.15.1   \n",
       "168 2025-04-23 22:00:23.306033         3.12.9             0.15.1   \n",
       "181 2025-04-23 22:13:29.634735         3.12.9             0.14.0   \n",
       "194 2025-04-23 22:47:43.973616         3.12.9             0.14.0   \n",
       "208 2025-04-23 22:56:06.468623         3.12.9             0.16.0   \n",
       "\n",
       "    numpy_version pandas_version sklearn_version lightgbm_version  \\\n",
       "7           2.2.5          2.2.3           1.6.1            4.6.0   \n",
       "19          2.2.5          2.2.3           1.6.1            4.6.0   \n",
       "31          2.2.5          2.2.3           1.6.1            4.6.0   \n",
       "43          2.2.5          2.2.3           1.6.1            4.6.0   \n",
       "55          2.2.5          2.2.3           1.6.1            4.6.0   \n",
       "75          2.2.5          2.2.3           1.6.1            4.6.0   \n",
       "87          2.2.5          2.2.3           1.6.1            4.6.0   \n",
       "99          2.2.5          2.2.3           1.6.1            4.6.0   \n",
       "111         2.2.5          2.2.3           1.6.1            4.6.0   \n",
       "123         2.2.5          2.2.3           1.6.1            4.6.0   \n",
       "142         2.2.5          2.2.3           1.6.1            4.6.0   \n",
       "155         2.2.5          2.2.3           1.6.1            4.6.0   \n",
       "168         2.2.5          2.2.3           1.6.1            4.6.0   \n",
       "181         2.2.5          2.2.3           1.6.1            4.6.0   \n",
       "194         2.2.5          2.2.3           1.6.1            4.6.0   \n",
       "208         2.2.5          2.2.3           1.6.1            4.6.0   \n",
       "\n",
       "                                          platform processor  cpu_count  \\\n",
       "7    Linux-6.11.0-21-generic-x86_64-with-glibc2.39    x86_64          8   \n",
       "19   Linux-6.11.0-21-generic-x86_64-with-glibc2.39    x86_64          8   \n",
       "31   Linux-6.11.0-21-generic-x86_64-with-glibc2.39    x86_64          8   \n",
       "43   Linux-6.11.0-21-generic-x86_64-with-glibc2.39    x86_64          8   \n",
       "55   Linux-6.11.0-21-generic-x86_64-with-glibc2.39    x86_64          8   \n",
       "75   Linux-6.11.0-21-generic-x86_64-with-glibc2.39    x86_64          8   \n",
       "87   Linux-6.11.0-21-generic-x86_64-with-glibc2.39    x86_64          8   \n",
       "99   Linux-6.11.0-21-generic-x86_64-with-glibc2.39    x86_64          8   \n",
       "111  Linux-6.11.0-21-generic-x86_64-with-glibc2.39    x86_64          8   \n",
       "123  Linux-6.11.0-21-generic-x86_64-with-glibc2.39    x86_64          8   \n",
       "142  Linux-6.11.0-21-generic-x86_64-with-glibc2.39    x86_64          8   \n",
       "155  Linux-6.11.0-21-generic-x86_64-with-glibc2.39    x86_64          8   \n",
       "168  Linux-6.11.0-21-generic-x86_64-with-glibc2.39    x86_64          8   \n",
       "181  Linux-6.11.0-21-generic-x86_64-with-glibc2.39    x86_64          8   \n",
       "194  Linux-6.11.0-21-generic-x86_64-with-glibc2.39    x86_64          8   \n",
       "208  Linux-6.11.0-21-generic-x86_64-with-glibc2.39    x86_64          8   \n",
       "\n",
       "     memory_gb  \n",
       "7        16.64  \n",
       "19       16.64  \n",
       "31       16.64  \n",
       "43       16.64  \n",
       "55       16.64  \n",
       "75       16.64  \n",
       "87       16.64  \n",
       "99       16.64  \n",
       "111      16.64  \n",
       "123      16.64  \n",
       "142      16.64  \n",
       "155      16.64  \n",
       "168      16.64  \n",
       "181      16.64  \n",
       "194      16.64  \n",
       "208      16.64  "
      ]
     },
     "metadata": {},
     "output_type": "display_data"
    },
    {
     "data": {
      "application/vnd.plotly.v1+json": {
       "config": {
        "plotlyServerURL": "https://plot.ly"
       },
       "data": [
        {
         "error_y": {
          "array": {
           "bdata": "AAAAAAAA+H8AAAAAAAD4fw==",
           "dtype": "f8"
          },
          "color": "#636EFA",
          "thickness": 1.5,
          "type": "data",
          "visible": true,
          "width": 5
         },
         "hovertemplate": "%{text}<extra></extra>",
         "marker": {
          "color": "#636EFA",
          "opacity": 0.7,
          "size": 10
         },
         "mode": "markers",
         "name": "Run time - 0.13.0",
         "showlegend": true,
         "text": [
          "Forecaster: ForecasterAutoregMultiSeries<br>Regressor: LGBMRegressor<br>Function: ForecasterRecursiveMultiSeries__check_predict_inputs<br>Function_hash: 33fe67969d33981cb73558c1dc51eb82<br>Datetime: 2025-04-23 15:31:29.435634<br>Python version: 3.12.9<br>skforecast version: 0.13.0<br>numpy version: 2.2.5<br>pandas version: 2.2.3<br>sklearn version: 1.6.1<br>lightgbm version: 4.6.0<br>Platform: Linux-6.11.0-21-generic-x86_64-with-glibc2.39<br>Processor: x86_64<br>CPU count: 8<br>Memory (GB): 16.64<br>",
          "Forecaster: ForecasterAutoregMultiSeries<br>Regressor: LGBMRegressor<br>Function: ForecasterRecursiveMultiSeries__check_predict_inputs<br>Function_hash: 33fe67969d33981cb73558c1dc51eb82<br>Datetime: 2025-04-23 15:41:02.236475<br>Python version: 3.12.9<br>skforecast version: 0.13.0<br>numpy version: 2.2.5<br>pandas version: 2.2.3<br>sklearn version: 1.6.1<br>lightgbm version: 4.6.0<br>Platform: Linux-6.11.0-21-generic-x86_64-with-glibc2.39<br>Processor: x86_64<br>CPU count: 8<br>Memory (GB): 16.64<br>"
         ],
         "type": "scatter",
         "x": {
          "bdata": "fByzX9/Fir9AKClBT8iAPw==",
          "dtype": "f8"
         },
         "y": {
          "bdata": "AAAAAAAA+H8AAAAAAAD4fw==",
          "dtype": "f8"
         }
        },
        {
         "error_y": {
          "array": {
           "bdata": "MGtpHkYtkj9lC8Hb+rGCPx62JHXRA6g/etZKuq4Fhz8=",
           "dtype": "f8"
          },
          "color": "#EF553B",
          "thickness": 1.5,
          "type": "data",
          "visible": true,
          "width": 5
         },
         "hovertemplate": "%{text}<extra></extra>",
         "marker": {
          "color": "#EF553B",
          "opacity": 0.7,
          "size": 10
         },
         "mode": "markers",
         "name": "Run time - 0.14.0",
         "showlegend": true,
         "text": [
          "Forecaster: ForecasterRecursiveMultiSeries<br>Regressor: LGBMRegressor<br>Function: ForecasterRecursiveMultiSeries__check_predict_inputs<br>Function_hash: 33fe67969d33981cb73558c1dc51eb82<br>Datetime: 2025-04-23 15:15:54.517700<br>Python version: 3.12.9<br>skforecast version: 0.14.0<br>numpy version: 2.2.5<br>pandas version: 2.2.3<br>sklearn version: 1.6.1<br>lightgbm version: 4.6.0<br>Platform: Linux-6.11.0-21-generic-x86_64-with-glibc2.39<br>Processor: x86_64<br>CPU count: 8<br>Memory (GB): 16.64<br>",
          "Forecaster: ForecasterRecursiveMultiSeries<br>Regressor: LGBMRegressor<br>Function: ForecasterRecursiveMultiSeries__check_predict_inputs<br>Function_hash: 33fe67969d33981cb73558c1dc51eb82<br>Datetime: 2025-04-23 15:56:48.439766<br>Python version: 3.12.9<br>skforecast version: 0.14.0<br>numpy version: 2.2.5<br>pandas version: 2.2.3<br>sklearn version: 1.6.1<br>lightgbm version: 4.6.0<br>Platform: Linux-6.11.0-21-generic-x86_64-with-glibc2.39<br>Processor: x86_64<br>CPU count: 8<br>Memory (GB): 16.64<br>",
          "Forecaster: ForecasterRecursiveMultiSeries<br>Regressor: LGBMRegressor<br>Function: ForecasterRecursiveMultiSeries__check_predict_inputs<br>Function_hash: 33fe67969d33981cb73558c1dc51eb82<br>Datetime: 2025-04-23 22:13:29.634735<br>Python version: 3.12.9<br>skforecast version: 0.14.0<br>numpy version: 2.2.5<br>pandas version: 2.2.3<br>sklearn version: 1.6.1<br>lightgbm version: 4.6.0<br>Platform: Linux-6.11.0-21-generic-x86_64-with-glibc2.39<br>Processor: x86_64<br>CPU count: 8<br>Memory (GB): 16.64<br>",
          "Forecaster: ForecasterRecursiveMultiSeries<br>Regressor: LGBMRegressor<br>Function: ForecasterRecursiveMultiSeries__check_predict_inputs<br>Function_hash: 33fe67969d33981cb73558c1dc51eb82<br>Datetime: 2025-04-23 22:47:43.973616<br>Python version: 3.12.9<br>skforecast version: 0.14.0<br>numpy version: 2.2.5<br>pandas version: 2.2.3<br>sklearn version: 1.6.1<br>lightgbm version: 4.6.0<br>Platform: Linux-6.11.0-21-generic-x86_64-with-glibc2.39<br>Processor: x86_64<br>CPU count: 8<br>Memory (GB): 16.64<br>"
         ],
         "type": "scatter",
         "x": {
          "bdata": "WsufM0wh8D/sid4cvavwP0fPO5Hnwu4/vWqPYB4m7z8=",
          "dtype": "f8"
         },
         "y": {
          "bdata": "M7O3NRGx0j8AABOJhH7UP2bm6nstsdU/zcxgo72t0j8=",
          "dtype": "f8"
         }
        },
        {
         "error_y": {
          "array": {
           "bdata": "oyAl4WWSfD9Sk5up97ixPx782fucmng/c28F0hsWhz9bsyoGWc6pPw==",
           "dtype": "f8"
          },
          "color": "#00CC96",
          "thickness": 1.5,
          "type": "data",
          "visible": true,
          "width": 5
         },
         "hovertemplate": "%{text}<extra></extra>",
         "marker": {
          "color": "#00CC96",
          "opacity": 0.7,
          "size": 10
         },
         "mode": "markers",
         "name": "Run time - 0.15.1",
         "showlegend": true,
         "text": [
          "Forecaster: ForecasterRecursiveMultiSeries<br>Regressor: LGBMRegressor<br>Function: ForecasterRecursiveMultiSeries__check_predict_inputs<br>Function_hash: 33fe67969d33981cb73558c1dc51eb82<br>Datetime: 2025-04-23 15:11:59.234735<br>Python version: 3.12.9<br>skforecast version: 0.15.1<br>numpy version: 2.2.5<br>pandas version: 2.2.3<br>sklearn version: 1.6.1<br>lightgbm version: 4.6.0<br>Platform: Linux-6.11.0-21-generic-x86_64-with-glibc2.39<br>Processor: x86_64<br>CPU count: 8<br>Memory (GB): 16.64<br>",
          "Forecaster: ForecasterRecursiveMultiSeries<br>Regressor: LGBMRegressor<br>Function: ForecasterRecursiveMultiSeries__check_predict_inputs<br>Function_hash: 33fe67969d33981cb73558c1dc51eb82<br>Datetime: 2025-04-23 16:01:00.604398<br>Python version: 3.12.9<br>skforecast version: 0.15.1<br>numpy version: 2.2.5<br>pandas version: 2.2.3<br>sklearn version: 1.6.1<br>lightgbm version: 4.6.0<br>Platform: Linux-6.11.0-21-generic-x86_64-with-glibc2.39<br>Processor: x86_64<br>CPU count: 8<br>Memory (GB): 16.64<br>",
          "Forecaster: ForecasterRecursiveMultiSeries<br>Regressor: LGBMRegressor<br>Function: ForecasterRecursiveMultiSeries__check_predict_inputs<br>Function_hash: 33fe67969d33981cb73558c1dc51eb82<br>Datetime: 2025-04-23 16:05:29.787076<br>Python version: 3.12.9<br>skforecast version: 0.15.1<br>numpy version: 2.2.5<br>pandas version: 2.2.3<br>sklearn version: 1.6.1<br>lightgbm version: 4.6.0<br>Platform: Linux-6.11.0-21-generic-x86_64-with-glibc2.39<br>Processor: x86_64<br>CPU count: 8<br>Memory (GB): 16.64<br>",
          "Forecaster: ForecasterRecursiveMultiSeries<br>Regressor: LGBMRegressor<br>Function: ForecasterRecursiveMultiSeries__check_predict_inputs<br>Function_hash: 33fe67969d33981cb73558c1dc51eb82<br>Datetime: 2025-04-23 20:19:22.245362<br>Python version: 3.12.9<br>skforecast version: 0.15.1<br>numpy version: 2.2.5<br>pandas version: 2.2.3<br>sklearn version: 1.6.1<br>lightgbm version: 4.6.0<br>Platform: Linux-6.11.0-21-generic-x86_64-with-glibc2.39<br>Processor: x86_64<br>CPU count: 8<br>Memory (GB): 16.64<br>",
          "Forecaster: ForecasterRecursiveMultiSeries<br>Regressor: LGBMRegressor<br>Function: ForecasterRecursiveMultiSeries__check_predict_inputs<br>Function_hash: 33fe67969d33981cb73558c1dc51eb82<br>Datetime: 2025-04-23 22:00:23.306033<br>Python version: 3.12.9<br>skforecast version: 0.15.1<br>numpy version: 2.2.5<br>pandas version: 2.2.3<br>sklearn version: 1.6.1<br>lightgbm version: 4.6.0<br>Platform: Linux-6.11.0-21-generic-x86_64-with-glibc2.39<br>Processor: x86_64<br>CPU count: 8<br>Memory (GB): 16.64<br>"
         ],
         "type": "scatter",
         "x": {
          "bdata": "PJXABdYrAEAE9ARBKzsAQLPaQ8D49/8/3XFGslY0AEC7OdZSiFAAQA==",
          "dtype": "f8"
         },
         "y": {
          "bdata": "zczMZlhE0j8AgGfQ0gnbPzMzsw4WcNI/zUzHSNWK0T9mZuvH6TXXPw==",
          "dtype": "f8"
         }
        },
        {
         "error_y": {
          "array": {
           "bdata": "+GjTv7t4hz9ZwO70gMBIPzQJMI+o6I0/DOBZyRqNRD/FEZCGAIRiPw==",
           "dtype": "f8"
          },
          "color": "#AB63FA",
          "thickness": 1.5,
          "type": "data",
          "visible": true,
          "width": 5
         },
         "hovertemplate": "%{text}<extra></extra>",
         "marker": {
          "color": "#AB63FA",
          "opacity": 0.7,
          "size": 10
         },
         "mode": "markers",
         "name": "Run time - 0.16.0",
         "showlegend": true,
         "text": [
          "Forecaster: ForecasterRecursiveMultiSeries<br>Regressor: LGBMRegressor<br>Function: ForecasterRecursiveMultiSeries__check_predict_inputs<br>Function_hash: 33fe67969d33981cb73558c1dc51eb82<br>Datetime: 2025-04-23 15:05:55.423850<br>Python version: 3.12.9<br>skforecast version: 0.16.0<br>numpy version: 2.2.5<br>pandas version: 2.2.3<br>sklearn version: 1.6.1<br>lightgbm version: 4.6.0<br>Platform: Linux-6.11.0-21-generic-x86_64-with-glibc2.39<br>Processor: x86_64<br>CPU count: 8<br>Memory (GB): 16.64<br>",
          "Forecaster: ForecasterRecursiveMultiSeries<br>Regressor: LGBMRegressor<br>Function: ForecasterRecursiveMultiSeries__check_predict_inputs<br>Function_hash: 33fe67969d33981cb73558c1dc51eb82<br>Datetime: 2025-04-23 16:08:39.143474<br>Python version: 3.12.9<br>skforecast version: 0.16.0<br>numpy version: 2.2.5<br>pandas version: 2.2.3<br>sklearn version: 1.6.1<br>lightgbm version: 4.6.0<br>Platform: Linux-6.11.0-21-generic-x86_64-with-glibc2.39<br>Processor: x86_64<br>CPU count: 8<br>Memory (GB): 16.64<br>",
          "Forecaster: ForecasterRecursiveMultiSeries<br>Regressor: LGBMRegressor<br>Function: ForecasterRecursiveMultiSeries__check_predict_inputs<br>Function_hash: 33fe67969d33981cb73558c1dc51eb82<br>Datetime: 2025-04-23 16:12:07.797771<br>Python version: 3.12.9<br>skforecast version: 0.16.0<br>numpy version: 2.2.5<br>pandas version: 2.2.3<br>sklearn version: 1.6.1<br>lightgbm version: 4.6.0<br>Platform: Linux-6.11.0-21-generic-x86_64-with-glibc2.39<br>Processor: x86_64<br>CPU count: 8<br>Memory (GB): 16.64<br>",
          "Forecaster: ForecasterRecursiveMultiSeries<br>Regressor: LGBMRegressor<br>Function: ForecasterRecursiveMultiSeries__check_predict_inputs<br>Function_hash: 33fe67969d33981cb73558c1dc51eb82<br>Datetime: 2025-04-23 20:13:12.844264<br>Python version: 3.12.9<br>skforecast version: 0.16.0<br>numpy version: 2.2.5<br>pandas version: 2.2.3<br>sklearn version: 1.6.1<br>lightgbm version: 4.6.0<br>Platform: Linux-6.11.0-21-generic-x86_64-with-glibc2.39<br>Processor: x86_64<br>CPU count: 8<br>Memory (GB): 16.64<br>",
          "Forecaster: ForecasterRecursiveMultiSeries<br>Regressor: LGBMRegressor<br>Function: ForecasterRecursiveMultiSeries__check_predict_inputs<br>Function_hash: 33fe67969d33981cb73558c1dc51eb82<br>Datetime: 2025-04-23 22:56:06.468623<br>Python version: 3.12.9<br>skforecast version: 0.16.0<br>numpy version: 2.2.5<br>pandas version: 2.2.3<br>sklearn version: 1.6.1<br>lightgbm version: 4.6.0<br>Platform: Linux-6.11.0-21-generic-x86_64-with-glibc2.39<br>Processor: x86_64<br>CPU count: 8<br>Memory (GB): 16.64<br>"
         ],
         "type": "scatter",
         "x": {
          "bdata": "wFSMOCUtCED06Y867kEIQDttXEnoOghAKuMOOLRDCEBC7DYQsQgIQA==",
          "dtype": "f8"
         },
         "y": {
          "bdata": "AABuwzREsz/NzAQaB3axP5qZA7PhMLQ/zczUDcB4sT8AACBVQqeyPw==",
          "dtype": "f8"
         }
        },
        {
         "line": {
          "color": "black",
          "width": 2
         },
         "marker": {
          "color": "black",
          "size": 8
         },
         "mode": "lines+markers",
         "name": "Median (per version)",
         "type": "scatter",
         "x": {
          "bdata": "AAECAw==",
          "dtype": "i1"
         },
         "y": {
          "bdata": "AAAAAAAA+H+aWWXfypfTPzMzsw4WcNI/AAAgVUKnsj8=",
          "dtype": "f8"
         }
        }
       ],
       "layout": {
        "showlegend": true,
        "template": {
         "data": {
          "bar": [
           {
            "error_x": {
             "color": "#2a3f5f"
            },
            "error_y": {
             "color": "#2a3f5f"
            },
            "marker": {
             "line": {
              "color": "#E5ECF6",
              "width": 0.5
             },
             "pattern": {
              "fillmode": "overlay",
              "size": 10,
              "solidity": 0.2
             }
            },
            "type": "bar"
           }
          ],
          "barpolar": [
           {
            "marker": {
             "line": {
              "color": "#E5ECF6",
              "width": 0.5
             },
             "pattern": {
              "fillmode": "overlay",
              "size": 10,
              "solidity": 0.2
             }
            },
            "type": "barpolar"
           }
          ],
          "carpet": [
           {
            "aaxis": {
             "endlinecolor": "#2a3f5f",
             "gridcolor": "white",
             "linecolor": "white",
             "minorgridcolor": "white",
             "startlinecolor": "#2a3f5f"
            },
            "baxis": {
             "endlinecolor": "#2a3f5f",
             "gridcolor": "white",
             "linecolor": "white",
             "minorgridcolor": "white",
             "startlinecolor": "#2a3f5f"
            },
            "type": "carpet"
           }
          ],
          "choropleth": [
           {
            "colorbar": {
             "outlinewidth": 0,
             "ticks": ""
            },
            "type": "choropleth"
           }
          ],
          "contour": [
           {
            "colorbar": {
             "outlinewidth": 0,
             "ticks": ""
            },
            "colorscale": [
             [
              0,
              "#0d0887"
             ],
             [
              0.1111111111111111,
              "#46039f"
             ],
             [
              0.2222222222222222,
              "#7201a8"
             ],
             [
              0.3333333333333333,
              "#9c179e"
             ],
             [
              0.4444444444444444,
              "#bd3786"
             ],
             [
              0.5555555555555556,
              "#d8576b"
             ],
             [
              0.6666666666666666,
              "#ed7953"
             ],
             [
              0.7777777777777778,
              "#fb9f3a"
             ],
             [
              0.8888888888888888,
              "#fdca26"
             ],
             [
              1,
              "#f0f921"
             ]
            ],
            "type": "contour"
           }
          ],
          "contourcarpet": [
           {
            "colorbar": {
             "outlinewidth": 0,
             "ticks": ""
            },
            "type": "contourcarpet"
           }
          ],
          "heatmap": [
           {
            "colorbar": {
             "outlinewidth": 0,
             "ticks": ""
            },
            "colorscale": [
             [
              0,
              "#0d0887"
             ],
             [
              0.1111111111111111,
              "#46039f"
             ],
             [
              0.2222222222222222,
              "#7201a8"
             ],
             [
              0.3333333333333333,
              "#9c179e"
             ],
             [
              0.4444444444444444,
              "#bd3786"
             ],
             [
              0.5555555555555556,
              "#d8576b"
             ],
             [
              0.6666666666666666,
              "#ed7953"
             ],
             [
              0.7777777777777778,
              "#fb9f3a"
             ],
             [
              0.8888888888888888,
              "#fdca26"
             ],
             [
              1,
              "#f0f921"
             ]
            ],
            "type": "heatmap"
           }
          ],
          "histogram": [
           {
            "marker": {
             "pattern": {
              "fillmode": "overlay",
              "size": 10,
              "solidity": 0.2
             }
            },
            "type": "histogram"
           }
          ],
          "histogram2d": [
           {
            "colorbar": {
             "outlinewidth": 0,
             "ticks": ""
            },
            "colorscale": [
             [
              0,
              "#0d0887"
             ],
             [
              0.1111111111111111,
              "#46039f"
             ],
             [
              0.2222222222222222,
              "#7201a8"
             ],
             [
              0.3333333333333333,
              "#9c179e"
             ],
             [
              0.4444444444444444,
              "#bd3786"
             ],
             [
              0.5555555555555556,
              "#d8576b"
             ],
             [
              0.6666666666666666,
              "#ed7953"
             ],
             [
              0.7777777777777778,
              "#fb9f3a"
             ],
             [
              0.8888888888888888,
              "#fdca26"
             ],
             [
              1,
              "#f0f921"
             ]
            ],
            "type": "histogram2d"
           }
          ],
          "histogram2dcontour": [
           {
            "colorbar": {
             "outlinewidth": 0,
             "ticks": ""
            },
            "colorscale": [
             [
              0,
              "#0d0887"
             ],
             [
              0.1111111111111111,
              "#46039f"
             ],
             [
              0.2222222222222222,
              "#7201a8"
             ],
             [
              0.3333333333333333,
              "#9c179e"
             ],
             [
              0.4444444444444444,
              "#bd3786"
             ],
             [
              0.5555555555555556,
              "#d8576b"
             ],
             [
              0.6666666666666666,
              "#ed7953"
             ],
             [
              0.7777777777777778,
              "#fb9f3a"
             ],
             [
              0.8888888888888888,
              "#fdca26"
             ],
             [
              1,
              "#f0f921"
             ]
            ],
            "type": "histogram2dcontour"
           }
          ],
          "mesh3d": [
           {
            "colorbar": {
             "outlinewidth": 0,
             "ticks": ""
            },
            "type": "mesh3d"
           }
          ],
          "parcoords": [
           {
            "line": {
             "colorbar": {
              "outlinewidth": 0,
              "ticks": ""
             }
            },
            "type": "parcoords"
           }
          ],
          "pie": [
           {
            "automargin": true,
            "type": "pie"
           }
          ],
          "scatter": [
           {
            "fillpattern": {
             "fillmode": "overlay",
             "size": 10,
             "solidity": 0.2
            },
            "type": "scatter"
           }
          ],
          "scatter3d": [
           {
            "line": {
             "colorbar": {
              "outlinewidth": 0,
              "ticks": ""
             }
            },
            "marker": {
             "colorbar": {
              "outlinewidth": 0,
              "ticks": ""
             }
            },
            "type": "scatter3d"
           }
          ],
          "scattercarpet": [
           {
            "marker": {
             "colorbar": {
              "outlinewidth": 0,
              "ticks": ""
             }
            },
            "type": "scattercarpet"
           }
          ],
          "scattergeo": [
           {
            "marker": {
             "colorbar": {
              "outlinewidth": 0,
              "ticks": ""
             }
            },
            "type": "scattergeo"
           }
          ],
          "scattergl": [
           {
            "marker": {
             "colorbar": {
              "outlinewidth": 0,
              "ticks": ""
             }
            },
            "type": "scattergl"
           }
          ],
          "scattermap": [
           {
            "marker": {
             "colorbar": {
              "outlinewidth": 0,
              "ticks": ""
             }
            },
            "type": "scattermap"
           }
          ],
          "scattermapbox": [
           {
            "marker": {
             "colorbar": {
              "outlinewidth": 0,
              "ticks": ""
             }
            },
            "type": "scattermapbox"
           }
          ],
          "scatterpolar": [
           {
            "marker": {
             "colorbar": {
              "outlinewidth": 0,
              "ticks": ""
             }
            },
            "type": "scatterpolar"
           }
          ],
          "scatterpolargl": [
           {
            "marker": {
             "colorbar": {
              "outlinewidth": 0,
              "ticks": ""
             }
            },
            "type": "scatterpolargl"
           }
          ],
          "scatterternary": [
           {
            "marker": {
             "colorbar": {
              "outlinewidth": 0,
              "ticks": ""
             }
            },
            "type": "scatterternary"
           }
          ],
          "surface": [
           {
            "colorbar": {
             "outlinewidth": 0,
             "ticks": ""
            },
            "colorscale": [
             [
              0,
              "#0d0887"
             ],
             [
              0.1111111111111111,
              "#46039f"
             ],
             [
              0.2222222222222222,
              "#7201a8"
             ],
             [
              0.3333333333333333,
              "#9c179e"
             ],
             [
              0.4444444444444444,
              "#bd3786"
             ],
             [
              0.5555555555555556,
              "#d8576b"
             ],
             [
              0.6666666666666666,
              "#ed7953"
             ],
             [
              0.7777777777777778,
              "#fb9f3a"
             ],
             [
              0.8888888888888888,
              "#fdca26"
             ],
             [
              1,
              "#f0f921"
             ]
            ],
            "type": "surface"
           }
          ],
          "table": [
           {
            "cells": {
             "fill": {
              "color": "#EBF0F8"
             },
             "line": {
              "color": "white"
             }
            },
            "header": {
             "fill": {
              "color": "#C8D4E3"
             },
             "line": {
              "color": "white"
             }
            },
            "type": "table"
           }
          ]
         },
         "layout": {
          "annotationdefaults": {
           "arrowcolor": "#2a3f5f",
           "arrowhead": 0,
           "arrowwidth": 1
          },
          "autotypenumbers": "strict",
          "coloraxis": {
           "colorbar": {
            "outlinewidth": 0,
            "ticks": ""
           }
          },
          "colorscale": {
           "diverging": [
            [
             0,
             "#8e0152"
            ],
            [
             0.1,
             "#c51b7d"
            ],
            [
             0.2,
             "#de77ae"
            ],
            [
             0.3,
             "#f1b6da"
            ],
            [
             0.4,
             "#fde0ef"
            ],
            [
             0.5,
             "#f7f7f7"
            ],
            [
             0.6,
             "#e6f5d0"
            ],
            [
             0.7,
             "#b8e186"
            ],
            [
             0.8,
             "#7fbc41"
            ],
            [
             0.9,
             "#4d9221"
            ],
            [
             1,
             "#276419"
            ]
           ],
           "sequential": [
            [
             0,
             "#0d0887"
            ],
            [
             0.1111111111111111,
             "#46039f"
            ],
            [
             0.2222222222222222,
             "#7201a8"
            ],
            [
             0.3333333333333333,
             "#9c179e"
            ],
            [
             0.4444444444444444,
             "#bd3786"
            ],
            [
             0.5555555555555556,
             "#d8576b"
            ],
            [
             0.6666666666666666,
             "#ed7953"
            ],
            [
             0.7777777777777778,
             "#fb9f3a"
            ],
            [
             0.8888888888888888,
             "#fdca26"
            ],
            [
             1,
             "#f0f921"
            ]
           ],
           "sequentialminus": [
            [
             0,
             "#0d0887"
            ],
            [
             0.1111111111111111,
             "#46039f"
            ],
            [
             0.2222222222222222,
             "#7201a8"
            ],
            [
             0.3333333333333333,
             "#9c179e"
            ],
            [
             0.4444444444444444,
             "#bd3786"
            ],
            [
             0.5555555555555556,
             "#d8576b"
            ],
            [
             0.6666666666666666,
             "#ed7953"
            ],
            [
             0.7777777777777778,
             "#fb9f3a"
            ],
            [
             0.8888888888888888,
             "#fdca26"
            ],
            [
             1,
             "#f0f921"
            ]
           ]
          },
          "colorway": [
           "#636efa",
           "#EF553B",
           "#00cc96",
           "#ab63fa",
           "#FFA15A",
           "#19d3f3",
           "#FF6692",
           "#B6E880",
           "#FF97FF",
           "#FECB52"
          ],
          "font": {
           "color": "#2a3f5f"
          },
          "geo": {
           "bgcolor": "white",
           "lakecolor": "white",
           "landcolor": "#E5ECF6",
           "showlakes": true,
           "showland": true,
           "subunitcolor": "white"
          },
          "hoverlabel": {
           "align": "left"
          },
          "hovermode": "closest",
          "mapbox": {
           "style": "light"
          },
          "paper_bgcolor": "white",
          "plot_bgcolor": "#E5ECF6",
          "polar": {
           "angularaxis": {
            "gridcolor": "white",
            "linecolor": "white",
            "ticks": ""
           },
           "bgcolor": "#E5ECF6",
           "radialaxis": {
            "gridcolor": "white",
            "linecolor": "white",
            "ticks": ""
           }
          },
          "scene": {
           "xaxis": {
            "backgroundcolor": "#E5ECF6",
            "gridcolor": "white",
            "gridwidth": 2,
            "linecolor": "white",
            "showbackground": true,
            "ticks": "",
            "zerolinecolor": "white"
           },
           "yaxis": {
            "backgroundcolor": "#E5ECF6",
            "gridcolor": "white",
            "gridwidth": 2,
            "linecolor": "white",
            "showbackground": true,
            "ticks": "",
            "zerolinecolor": "white"
           },
           "zaxis": {
            "backgroundcolor": "#E5ECF6",
            "gridcolor": "white",
            "gridwidth": 2,
            "linecolor": "white",
            "showbackground": true,
            "ticks": "",
            "zerolinecolor": "white"
           }
          },
          "shapedefaults": {
           "line": {
            "color": "#2a3f5f"
           }
          },
          "ternary": {
           "aaxis": {
            "gridcolor": "white",
            "linecolor": "white",
            "ticks": ""
           },
           "baxis": {
            "gridcolor": "white",
            "linecolor": "white",
            "ticks": ""
           },
           "bgcolor": "#E5ECF6",
           "caxis": {
            "gridcolor": "white",
            "linecolor": "white",
            "ticks": ""
           }
          },
          "title": {
           "x": 0.05
          },
          "xaxis": {
           "automargin": true,
           "gridcolor": "white",
           "linecolor": "white",
           "ticks": "",
           "title": {
            "standoff": 15
           },
           "zerolinecolor": "white",
           "zerolinewidth": 2
          },
          "yaxis": {
           "automargin": true,
           "gridcolor": "white",
           "linecolor": "white",
           "ticks": "",
           "title": {
            "standoff": 15
           },
           "zerolinecolor": "white",
           "zerolinewidth": 2
          }
         }
        },
        "title": {
         "text": "Execution time of ForecasterRecursiveMultiSeries__check_predict_inputs"
        },
        "xaxis": {
         "tickangle": -45,
         "tickmode": "array",
         "ticktext": [
          "0.13.0",
          "0.14.0",
          "0.15.1",
          "0.16.0"
         ],
         "tickvals": [
          0,
          1,
          2,
          3
         ],
         "title": {
          "text": "skforecast version"
         }
        },
        "yaxis": {
         "title": {
          "text": "Execution time (seconds)"
         }
        }
       }
      }
     },
     "metadata": {},
     "output_type": "display_data"
    },
    {
     "data": {
      "application/vnd.microsoft.datawrangler.viewer.v0+json": {
       "columns": [
        {
         "name": "index",
         "rawType": "int64",
         "type": "integer"
        },
        {
         "name": "forecaster_name",
         "rawType": "object",
         "type": "string"
        },
        {
         "name": "regressor_name",
         "rawType": "object",
         "type": "string"
        },
        {
         "name": "function_name",
         "rawType": "object",
         "type": "string"
        },
        {
         "name": "function_hash",
         "rawType": "object",
         "type": "string"
        },
        {
         "name": "run_time_avg",
         "rawType": "float64",
         "type": "float"
        },
        {
         "name": "run_time_std_dev",
         "rawType": "float64",
         "type": "float"
        },
        {
         "name": "datetime",
         "rawType": "datetime64[ns]",
         "type": "datetime"
        },
        {
         "name": "python_version",
         "rawType": "object",
         "type": "string"
        },
        {
         "name": "skforecast_version",
         "rawType": "object",
         "type": "string"
        },
        {
         "name": "numpy_version",
         "rawType": "object",
         "type": "string"
        },
        {
         "name": "pandas_version",
         "rawType": "object",
         "type": "string"
        },
        {
         "name": "sklearn_version",
         "rawType": "object",
         "type": "string"
        },
        {
         "name": "lightgbm_version",
         "rawType": "object",
         "type": "string"
        },
        {
         "name": "platform",
         "rawType": "object",
         "type": "string"
        },
        {
         "name": "processor",
         "rawType": "object",
         "type": "string"
        },
        {
         "name": "cpu_count",
         "rawType": "int64",
         "type": "integer"
        },
        {
         "name": "memory_gb",
         "rawType": "float64",
         "type": "float"
        }
       ],
       "conversionMethod": "pd.DataFrame",
       "ref": "39d1cf36-595b-42c5-b3ec-8a127e38f640",
       "rows": [
        [
         "128",
         "ForecasterRecursiveMultiSeries",
         "LGBMRegressor",
         "ForecasterRecursiveMultiSeries_backtesting_series_is_dict_exog_is_dict",
         "81259b5066e4c039ab1805445e26e639",
         null,
         null,
         "2025-04-23 20:07:35.146022",
         "3.12.9",
         "0.16.0",
         "2.2.5",
         "2.2.3",
         "1.6.1",
         "4.6.0",
         "Linux-6.11.0-21-generic-x86_64-with-glibc2.39",
         "x86_64",
         "8",
         "16.64"
        ],
        [
         "133",
         "ForecasterRecursiveMultiSeries",
         "LGBMRegressor",
         "ForecasterRecursiveMultiSeries_backtesting_series_is_dict_exog_is_dict",
         "045a2922d13f7327fc5635f0fa1d968e",
         null,
         null,
         "2025-04-23 20:08:07.633611",
         "3.12.9",
         "0.16.0",
         "2.2.5",
         "2.2.3",
         "1.6.1",
         "4.6.0",
         "Linux-6.11.0-21-generic-x86_64-with-glibc2.39",
         "x86_64",
         "8",
         "16.64"
        ],
        [
         "134",
         "ForecasterRecursiveMultiSeries",
         "LGBMRegressor",
         "ForecasterRecursiveMultiSeries_backtesting_series_is_dict_exog_is_dict",
         "5c9a4d89a695fe2ded0327ec81495237",
         "19.79977818180014",
         "1.44024270611545",
         "2025-04-23 20:08:27.626583",
         "3.12.9",
         "0.16.0",
         "2.2.5",
         "2.2.3",
         "1.6.1",
         "4.6.0",
         "Linux-6.11.0-21-generic-x86_64-with-glibc2.39",
         "x86_64",
         "8",
         "16.64"
        ],
        [
         "143",
         "ForecasterRecursiveMultiSeries",
         "LGBMRegressor",
         "ForecasterRecursiveMultiSeries_backtesting_series_is_dict_exog_is_dict",
         "21928d6bc9058a601b52a861e58a4cfb",
         "22.981284819600113",
         "1.3499505618115901",
         "2025-04-23 20:13:13.189265",
         "3.12.9",
         "0.16.0",
         "2.2.5",
         "2.2.3",
         "1.6.1",
         "4.6.0",
         "Linux-6.11.0-21-generic-x86_64-with-glibc2.39",
         "x86_64",
         "8",
         "16.64"
        ],
        [
         "156",
         "ForecasterRecursiveMultiSeries",
         "LGBMRegressor",
         "ForecasterRecursiveMultiSeries_backtesting_series_is_dict_exog_is_dict",
         "21928d6bc9058a601b52a861e58a4cfb",
         "38.22273988539964",
         "0.2531364962220435",
         "2025-04-23 20:19:24.990623",
         "3.12.9",
         "0.15.1",
         "2.2.5",
         "2.2.3",
         "1.6.1",
         "4.6.0",
         "Linux-6.11.0-21-generic-x86_64-with-glibc2.39",
         "x86_64",
         "8",
         "16.64"
        ],
        [
         "169",
         "ForecasterRecursiveMultiSeries",
         "LGBMRegressor",
         "ForecasterRecursiveMultiSeries_backtesting_series_is_dict_exog_is_dict",
         "21928d6bc9058a601b52a861e58a4cfb",
         "43.85392267579882",
         "3.686905184108249",
         "2025-04-23 22:00:26.938013",
         "3.12.9",
         "0.15.1",
         "2.2.5",
         "2.2.3",
         "1.6.1",
         "4.6.0",
         "Linux-6.11.0-21-generic-x86_64-with-glibc2.39",
         "x86_64",
         "8",
         "16.64"
        ],
        [
         "182",
         "ForecasterRecursiveMultiSeries",
         "LGBMRegressor",
         "ForecasterRecursiveMultiSeries_backtesting_series_is_dict_exog_is_dict",
         "21928d6bc9058a601b52a861e58a4cfb",
         "42.174608236399216",
         "1.797158207640384",
         "2025-04-23 22:13:33.028822",
         "3.12.9",
         "0.14.0",
         "2.2.5",
         "2.2.3",
         "1.6.1",
         "4.6.0",
         "Linux-6.11.0-21-generic-x86_64-with-glibc2.39",
         "x86_64",
         "8",
         "16.64"
        ],
        [
         "195",
         "ForecasterRecursiveMultiSeries",
         "LGBMRegressor",
         "ForecasterRecursiveMultiSeries_backtesting_series_is_dict_exog_is_dict",
         "764622d682985b184e7b2369791c61a1",
         "41.622225872599664",
         "2.192563815974282",
         "2025-04-23 22:47:46.896636",
         "3.12.9",
         "0.14.0",
         "2.2.5",
         "2.2.3",
         "1.6.1",
         "4.6.0",
         "Linux-6.11.0-21-generic-x86_64-with-glibc2.39",
         "x86_64",
         "8",
         "16.64"
        ],
        [
         "209",
         "ForecasterRecursiveMultiSeries",
         "LGBMRegressor",
         "ForecasterRecursiveMultiSeries_backtesting_series_is_dict_exog_is_dict",
         "764622d682985b184e7b2369791c61a1",
         "21.97942980299922",
         "0.1473805388284153",
         "2025-04-23 22:56:07.201614",
         "3.12.9",
         "0.16.0",
         "2.2.5",
         "2.2.3",
         "1.6.1",
         "4.6.0",
         "Linux-6.11.0-21-generic-x86_64-with-glibc2.39",
         "x86_64",
         "8",
         "16.64"
        ]
       ],
       "shape": {
        "columns": 17,
        "rows": 9
       }
      },
      "text/html": [
       "<div>\n",
       "<style scoped>\n",
       "    .dataframe tbody tr th:only-of-type {\n",
       "        vertical-align: middle;\n",
       "    }\n",
       "\n",
       "    .dataframe tbody tr th {\n",
       "        vertical-align: top;\n",
       "    }\n",
       "\n",
       "    .dataframe thead th {\n",
       "        text-align: right;\n",
       "    }\n",
       "</style>\n",
       "<table border=\"1\" class=\"dataframe\">\n",
       "  <thead>\n",
       "    <tr style=\"text-align: right;\">\n",
       "      <th></th>\n",
       "      <th>forecaster_name</th>\n",
       "      <th>regressor_name</th>\n",
       "      <th>function_name</th>\n",
       "      <th>function_hash</th>\n",
       "      <th>run_time_avg</th>\n",
       "      <th>run_time_std_dev</th>\n",
       "      <th>datetime</th>\n",
       "      <th>python_version</th>\n",
       "      <th>skforecast_version</th>\n",
       "      <th>numpy_version</th>\n",
       "      <th>pandas_version</th>\n",
       "      <th>sklearn_version</th>\n",
       "      <th>lightgbm_version</th>\n",
       "      <th>platform</th>\n",
       "      <th>processor</th>\n",
       "      <th>cpu_count</th>\n",
       "      <th>memory_gb</th>\n",
       "    </tr>\n",
       "  </thead>\n",
       "  <tbody>\n",
       "    <tr>\n",
       "      <th>128</th>\n",
       "      <td>ForecasterRecursiveMultiSeries</td>\n",
       "      <td>LGBMRegressor</td>\n",
       "      <td>ForecasterRecursiveMultiSeries_backtesting_ser...</td>\n",
       "      <td>81259b5066e4c039ab1805445e26e639</td>\n",
       "      <td>NaN</td>\n",
       "      <td>NaN</td>\n",
       "      <td>2025-04-23 20:07:35.146022</td>\n",
       "      <td>3.12.9</td>\n",
       "      <td>0.16.0</td>\n",
       "      <td>2.2.5</td>\n",
       "      <td>2.2.3</td>\n",
       "      <td>1.6.1</td>\n",
       "      <td>4.6.0</td>\n",
       "      <td>Linux-6.11.0-21-generic-x86_64-with-glibc2.39</td>\n",
       "      <td>x86_64</td>\n",
       "      <td>8</td>\n",
       "      <td>16.64</td>\n",
       "    </tr>\n",
       "    <tr>\n",
       "      <th>133</th>\n",
       "      <td>ForecasterRecursiveMultiSeries</td>\n",
       "      <td>LGBMRegressor</td>\n",
       "      <td>ForecasterRecursiveMultiSeries_backtesting_ser...</td>\n",
       "      <td>045a2922d13f7327fc5635f0fa1d968e</td>\n",
       "      <td>NaN</td>\n",
       "      <td>NaN</td>\n",
       "      <td>2025-04-23 20:08:07.633611</td>\n",
       "      <td>3.12.9</td>\n",
       "      <td>0.16.0</td>\n",
       "      <td>2.2.5</td>\n",
       "      <td>2.2.3</td>\n",
       "      <td>1.6.1</td>\n",
       "      <td>4.6.0</td>\n",
       "      <td>Linux-6.11.0-21-generic-x86_64-with-glibc2.39</td>\n",
       "      <td>x86_64</td>\n",
       "      <td>8</td>\n",
       "      <td>16.64</td>\n",
       "    </tr>\n",
       "    <tr>\n",
       "      <th>134</th>\n",
       "      <td>ForecasterRecursiveMultiSeries</td>\n",
       "      <td>LGBMRegressor</td>\n",
       "      <td>ForecasterRecursiveMultiSeries_backtesting_ser...</td>\n",
       "      <td>5c9a4d89a695fe2ded0327ec81495237</td>\n",
       "      <td>19.799778</td>\n",
       "      <td>1.440243</td>\n",
       "      <td>2025-04-23 20:08:27.626583</td>\n",
       "      <td>3.12.9</td>\n",
       "      <td>0.16.0</td>\n",
       "      <td>2.2.5</td>\n",
       "      <td>2.2.3</td>\n",
       "      <td>1.6.1</td>\n",
       "      <td>4.6.0</td>\n",
       "      <td>Linux-6.11.0-21-generic-x86_64-with-glibc2.39</td>\n",
       "      <td>x86_64</td>\n",
       "      <td>8</td>\n",
       "      <td>16.64</td>\n",
       "    </tr>\n",
       "    <tr>\n",
       "      <th>143</th>\n",
       "      <td>ForecasterRecursiveMultiSeries</td>\n",
       "      <td>LGBMRegressor</td>\n",
       "      <td>ForecasterRecursiveMultiSeries_backtesting_ser...</td>\n",
       "      <td>21928d6bc9058a601b52a861e58a4cfb</td>\n",
       "      <td>22.981285</td>\n",
       "      <td>1.349951</td>\n",
       "      <td>2025-04-23 20:13:13.189265</td>\n",
       "      <td>3.12.9</td>\n",
       "      <td>0.16.0</td>\n",
       "      <td>2.2.5</td>\n",
       "      <td>2.2.3</td>\n",
       "      <td>1.6.1</td>\n",
       "      <td>4.6.0</td>\n",
       "      <td>Linux-6.11.0-21-generic-x86_64-with-glibc2.39</td>\n",
       "      <td>x86_64</td>\n",
       "      <td>8</td>\n",
       "      <td>16.64</td>\n",
       "    </tr>\n",
       "    <tr>\n",
       "      <th>156</th>\n",
       "      <td>ForecasterRecursiveMultiSeries</td>\n",
       "      <td>LGBMRegressor</td>\n",
       "      <td>ForecasterRecursiveMultiSeries_backtesting_ser...</td>\n",
       "      <td>21928d6bc9058a601b52a861e58a4cfb</td>\n",
       "      <td>38.222740</td>\n",
       "      <td>0.253136</td>\n",
       "      <td>2025-04-23 20:19:24.990623</td>\n",
       "      <td>3.12.9</td>\n",
       "      <td>0.15.1</td>\n",
       "      <td>2.2.5</td>\n",
       "      <td>2.2.3</td>\n",
       "      <td>1.6.1</td>\n",
       "      <td>4.6.0</td>\n",
       "      <td>Linux-6.11.0-21-generic-x86_64-with-glibc2.39</td>\n",
       "      <td>x86_64</td>\n",
       "      <td>8</td>\n",
       "      <td>16.64</td>\n",
       "    </tr>\n",
       "    <tr>\n",
       "      <th>169</th>\n",
       "      <td>ForecasterRecursiveMultiSeries</td>\n",
       "      <td>LGBMRegressor</td>\n",
       "      <td>ForecasterRecursiveMultiSeries_backtesting_ser...</td>\n",
       "      <td>21928d6bc9058a601b52a861e58a4cfb</td>\n",
       "      <td>43.853923</td>\n",
       "      <td>3.686905</td>\n",
       "      <td>2025-04-23 22:00:26.938013</td>\n",
       "      <td>3.12.9</td>\n",
       "      <td>0.15.1</td>\n",
       "      <td>2.2.5</td>\n",
       "      <td>2.2.3</td>\n",
       "      <td>1.6.1</td>\n",
       "      <td>4.6.0</td>\n",
       "      <td>Linux-6.11.0-21-generic-x86_64-with-glibc2.39</td>\n",
       "      <td>x86_64</td>\n",
       "      <td>8</td>\n",
       "      <td>16.64</td>\n",
       "    </tr>\n",
       "    <tr>\n",
       "      <th>182</th>\n",
       "      <td>ForecasterRecursiveMultiSeries</td>\n",
       "      <td>LGBMRegressor</td>\n",
       "      <td>ForecasterRecursiveMultiSeries_backtesting_ser...</td>\n",
       "      <td>21928d6bc9058a601b52a861e58a4cfb</td>\n",
       "      <td>42.174608</td>\n",
       "      <td>1.797158</td>\n",
       "      <td>2025-04-23 22:13:33.028822</td>\n",
       "      <td>3.12.9</td>\n",
       "      <td>0.14.0</td>\n",
       "      <td>2.2.5</td>\n",
       "      <td>2.2.3</td>\n",
       "      <td>1.6.1</td>\n",
       "      <td>4.6.0</td>\n",
       "      <td>Linux-6.11.0-21-generic-x86_64-with-glibc2.39</td>\n",
       "      <td>x86_64</td>\n",
       "      <td>8</td>\n",
       "      <td>16.64</td>\n",
       "    </tr>\n",
       "    <tr>\n",
       "      <th>195</th>\n",
       "      <td>ForecasterRecursiveMultiSeries</td>\n",
       "      <td>LGBMRegressor</td>\n",
       "      <td>ForecasterRecursiveMultiSeries_backtesting_ser...</td>\n",
       "      <td>764622d682985b184e7b2369791c61a1</td>\n",
       "      <td>41.622226</td>\n",
       "      <td>2.192564</td>\n",
       "      <td>2025-04-23 22:47:46.896636</td>\n",
       "      <td>3.12.9</td>\n",
       "      <td>0.14.0</td>\n",
       "      <td>2.2.5</td>\n",
       "      <td>2.2.3</td>\n",
       "      <td>1.6.1</td>\n",
       "      <td>4.6.0</td>\n",
       "      <td>Linux-6.11.0-21-generic-x86_64-with-glibc2.39</td>\n",
       "      <td>x86_64</td>\n",
       "      <td>8</td>\n",
       "      <td>16.64</td>\n",
       "    </tr>\n",
       "    <tr>\n",
       "      <th>209</th>\n",
       "      <td>ForecasterRecursiveMultiSeries</td>\n",
       "      <td>LGBMRegressor</td>\n",
       "      <td>ForecasterRecursiveMultiSeries_backtesting_ser...</td>\n",
       "      <td>764622d682985b184e7b2369791c61a1</td>\n",
       "      <td>21.979430</td>\n",
       "      <td>0.147381</td>\n",
       "      <td>2025-04-23 22:56:07.201614</td>\n",
       "      <td>3.12.9</td>\n",
       "      <td>0.16.0</td>\n",
       "      <td>2.2.5</td>\n",
       "      <td>2.2.3</td>\n",
       "      <td>1.6.1</td>\n",
       "      <td>4.6.0</td>\n",
       "      <td>Linux-6.11.0-21-generic-x86_64-with-glibc2.39</td>\n",
       "      <td>x86_64</td>\n",
       "      <td>8</td>\n",
       "      <td>16.64</td>\n",
       "    </tr>\n",
       "  </tbody>\n",
       "</table>\n",
       "</div>"
      ],
      "text/plain": [
       "                    forecaster_name regressor_name  \\\n",
       "128  ForecasterRecursiveMultiSeries  LGBMRegressor   \n",
       "133  ForecasterRecursiveMultiSeries  LGBMRegressor   \n",
       "134  ForecasterRecursiveMultiSeries  LGBMRegressor   \n",
       "143  ForecasterRecursiveMultiSeries  LGBMRegressor   \n",
       "156  ForecasterRecursiveMultiSeries  LGBMRegressor   \n",
       "169  ForecasterRecursiveMultiSeries  LGBMRegressor   \n",
       "182  ForecasterRecursiveMultiSeries  LGBMRegressor   \n",
       "195  ForecasterRecursiveMultiSeries  LGBMRegressor   \n",
       "209  ForecasterRecursiveMultiSeries  LGBMRegressor   \n",
       "\n",
       "                                         function_name  \\\n",
       "128  ForecasterRecursiveMultiSeries_backtesting_ser...   \n",
       "133  ForecasterRecursiveMultiSeries_backtesting_ser...   \n",
       "134  ForecasterRecursiveMultiSeries_backtesting_ser...   \n",
       "143  ForecasterRecursiveMultiSeries_backtesting_ser...   \n",
       "156  ForecasterRecursiveMultiSeries_backtesting_ser...   \n",
       "169  ForecasterRecursiveMultiSeries_backtesting_ser...   \n",
       "182  ForecasterRecursiveMultiSeries_backtesting_ser...   \n",
       "195  ForecasterRecursiveMultiSeries_backtesting_ser...   \n",
       "209  ForecasterRecursiveMultiSeries_backtesting_ser...   \n",
       "\n",
       "                        function_hash  run_time_avg  run_time_std_dev  \\\n",
       "128  81259b5066e4c039ab1805445e26e639           NaN               NaN   \n",
       "133  045a2922d13f7327fc5635f0fa1d968e           NaN               NaN   \n",
       "134  5c9a4d89a695fe2ded0327ec81495237     19.799778          1.440243   \n",
       "143  21928d6bc9058a601b52a861e58a4cfb     22.981285          1.349951   \n",
       "156  21928d6bc9058a601b52a861e58a4cfb     38.222740          0.253136   \n",
       "169  21928d6bc9058a601b52a861e58a4cfb     43.853923          3.686905   \n",
       "182  21928d6bc9058a601b52a861e58a4cfb     42.174608          1.797158   \n",
       "195  764622d682985b184e7b2369791c61a1     41.622226          2.192564   \n",
       "209  764622d682985b184e7b2369791c61a1     21.979430          0.147381   \n",
       "\n",
       "                      datetime python_version skforecast_version  \\\n",
       "128 2025-04-23 20:07:35.146022         3.12.9             0.16.0   \n",
       "133 2025-04-23 20:08:07.633611         3.12.9             0.16.0   \n",
       "134 2025-04-23 20:08:27.626583         3.12.9             0.16.0   \n",
       "143 2025-04-23 20:13:13.189265         3.12.9             0.16.0   \n",
       "156 2025-04-23 20:19:24.990623         3.12.9             0.15.1   \n",
       "169 2025-04-23 22:00:26.938013         3.12.9             0.15.1   \n",
       "182 2025-04-23 22:13:33.028822         3.12.9             0.14.0   \n",
       "195 2025-04-23 22:47:46.896636         3.12.9             0.14.0   \n",
       "209 2025-04-23 22:56:07.201614         3.12.9             0.16.0   \n",
       "\n",
       "    numpy_version pandas_version sklearn_version lightgbm_version  \\\n",
       "128         2.2.5          2.2.3           1.6.1            4.6.0   \n",
       "133         2.2.5          2.2.3           1.6.1            4.6.0   \n",
       "134         2.2.5          2.2.3           1.6.1            4.6.0   \n",
       "143         2.2.5          2.2.3           1.6.1            4.6.0   \n",
       "156         2.2.5          2.2.3           1.6.1            4.6.0   \n",
       "169         2.2.5          2.2.3           1.6.1            4.6.0   \n",
       "182         2.2.5          2.2.3           1.6.1            4.6.0   \n",
       "195         2.2.5          2.2.3           1.6.1            4.6.0   \n",
       "209         2.2.5          2.2.3           1.6.1            4.6.0   \n",
       "\n",
       "                                          platform processor  cpu_count  \\\n",
       "128  Linux-6.11.0-21-generic-x86_64-with-glibc2.39    x86_64          8   \n",
       "133  Linux-6.11.0-21-generic-x86_64-with-glibc2.39    x86_64          8   \n",
       "134  Linux-6.11.0-21-generic-x86_64-with-glibc2.39    x86_64          8   \n",
       "143  Linux-6.11.0-21-generic-x86_64-with-glibc2.39    x86_64          8   \n",
       "156  Linux-6.11.0-21-generic-x86_64-with-glibc2.39    x86_64          8   \n",
       "169  Linux-6.11.0-21-generic-x86_64-with-glibc2.39    x86_64          8   \n",
       "182  Linux-6.11.0-21-generic-x86_64-with-glibc2.39    x86_64          8   \n",
       "195  Linux-6.11.0-21-generic-x86_64-with-glibc2.39    x86_64          8   \n",
       "209  Linux-6.11.0-21-generic-x86_64-with-glibc2.39    x86_64          8   \n",
       "\n",
       "     memory_gb  \n",
       "128      16.64  \n",
       "133      16.64  \n",
       "134      16.64  \n",
       "143      16.64  \n",
       "156      16.64  \n",
       "169      16.64  \n",
       "182      16.64  \n",
       "195      16.64  \n",
       "209      16.64  "
      ]
     },
     "metadata": {},
     "output_type": "display_data"
    },
    {
     "data": {
      "application/vnd.plotly.v1+json": {
       "config": {
        "plotlyServerURL": "https://plot.ly"
       },
       "data": [
        {
         "error_y": {
          "array": {
           "bdata": "1tr49ijB/D8hBeDlXooBQA==",
           "dtype": "f8"
          },
          "color": "#636EFA",
          "thickness": 1.5,
          "type": "data",
          "visible": true,
          "width": 5
         },
         "hovertemplate": "%{text}<extra></extra>",
         "marker": {
          "color": "#636EFA",
          "opacity": 0.7,
          "size": 10
         },
         "mode": "markers",
         "name": "Run time - 0.14.0",
         "showlegend": true,
         "text": [
          "Forecaster: ForecasterRecursiveMultiSeries<br>Regressor: LGBMRegressor<br>Function: ForecasterRecursiveMultiSeries_backtesting_series_is_dict_exog_is_dict<br>Function_hash: 21928d6bc9058a601b52a861e58a4cfb<br>Datetime: 2025-04-23 22:13:33.028822<br>Python version: 3.12.9<br>skforecast version: 0.14.0<br>numpy version: 2.2.5<br>pandas version: 2.2.3<br>sklearn version: 1.6.1<br>lightgbm version: 4.6.0<br>Platform: Linux-6.11.0-21-generic-x86_64-with-glibc2.39<br>Processor: x86_64<br>CPU count: 8<br>Memory (GB): 16.64<br>",
          "Forecaster: ForecasterRecursiveMultiSeries<br>Regressor: LGBMRegressor<br>Function: ForecasterRecursiveMultiSeries_backtesting_series_is_dict_exog_is_dict<br>Function_hash: 764622d682985b184e7b2369791c61a1<br>Datetime: 2025-04-23 22:47:46.896636<br>Python version: 3.12.9<br>skforecast version: 0.14.0<br>numpy version: 2.2.5<br>pandas version: 2.2.3<br>sklearn version: 1.6.1<br>lightgbm version: 4.6.0<br>Platform: Linux-6.11.0-21-generic-x86_64-with-glibc2.39<br>Processor: x86_64<br>CPU count: 8<br>Memory (GB): 16.64<br>"
         ],
         "type": "scatter",
         "x": {
          "bdata": "fByzX9/Fir9AKClBT8iAPw==",
          "dtype": "f8"
         },
         "y": {
          "bdata": "M3kMkFkWRUAzxe4Ypc9EQA==",
          "dtype": "f8"
         }
        },
        {
         "error_y": {
          "array": {
           "bdata": "MKcsa2Mz0D8SlSklyH4NQA==",
           "dtype": "f8"
          },
          "color": "#EF553B",
          "thickness": 1.5,
          "type": "data",
          "visible": true,
          "width": 5
         },
         "hovertemplate": "%{text}<extra></extra>",
         "marker": {
          "color": "#EF553B",
          "opacity": 0.7,
          "size": 10
         },
         "mode": "markers",
         "name": "Run time - 0.15.1",
         "showlegend": true,
         "text": [
          "Forecaster: ForecasterRecursiveMultiSeries<br>Regressor: LGBMRegressor<br>Function: ForecasterRecursiveMultiSeries_backtesting_series_is_dict_exog_is_dict<br>Function_hash: 21928d6bc9058a601b52a861e58a4cfb<br>Datetime: 2025-04-23 20:19:24.990623<br>Python version: 3.12.9<br>skforecast version: 0.15.1<br>numpy version: 2.2.5<br>pandas version: 2.2.3<br>sklearn version: 1.6.1<br>lightgbm version: 4.6.0<br>Platform: Linux-6.11.0-21-generic-x86_64-with-glibc2.39<br>Processor: x86_64<br>CPU count: 8<br>Memory (GB): 16.64<br>",
          "Forecaster: ForecasterRecursiveMultiSeries<br>Regressor: LGBMRegressor<br>Function: ForecasterRecursiveMultiSeries_backtesting_series_is_dict_exog_is_dict<br>Function_hash: 21928d6bc9058a601b52a861e58a4cfb<br>Datetime: 2025-04-23 22:00:26.938013<br>Python version: 3.12.9<br>skforecast version: 0.15.1<br>numpy version: 2.2.5<br>pandas version: 2.2.3<br>sklearn version: 1.6.1<br>lightgbm version: 4.6.0<br>Platform: Linux-6.11.0-21-generic-x86_64-with-glibc2.39<br>Processor: x86_64<br>CPU count: 8<br>Memory (GB): 16.64<br>"
         ],
         "type": "scatter",
         "x": {
          "bdata": "WsufM0wh8D/sid4cvavwPw==",
          "dtype": "f8"
         },
         "y": {
          "bdata": "M6eVvYIcQ0Az75ZWTe1FQA==",
          "dtype": "f8"
         }
        },
        {
         "error_y": {
          "array": {
           "bdata": "AAAAAAAA+H8AAAAAAAD4fycYke87C/c/ZSmjwmWZ9T8Q3iqRXd3CPw==",
           "dtype": "f8"
          },
          "color": "#00CC96",
          "thickness": 1.5,
          "type": "data",
          "visible": true,
          "width": 5
         },
         "hovertemplate": "%{text}<extra></extra>",
         "marker": {
          "color": "#00CC96",
          "opacity": 0.7,
          "size": 10
         },
         "mode": "markers",
         "name": "Run time - 0.16.0",
         "showlegend": true,
         "text": [
          "Forecaster: ForecasterRecursiveMultiSeries<br>Regressor: LGBMRegressor<br>Function: ForecasterRecursiveMultiSeries_backtesting_series_is_dict_exog_is_dict<br>Function_hash: 81259b5066e4c039ab1805445e26e639<br>Datetime: 2025-04-23 20:07:35.146022<br>Python version: 3.12.9<br>skforecast version: 0.16.0<br>numpy version: 2.2.5<br>pandas version: 2.2.3<br>sklearn version: 1.6.1<br>lightgbm version: 4.6.0<br>Platform: Linux-6.11.0-21-generic-x86_64-with-glibc2.39<br>Processor: x86_64<br>CPU count: 8<br>Memory (GB): 16.64<br>",
          "Forecaster: ForecasterRecursiveMultiSeries<br>Regressor: LGBMRegressor<br>Function: ForecasterRecursiveMultiSeries_backtesting_series_is_dict_exog_is_dict<br>Function_hash: 045a2922d13f7327fc5635f0fa1d968e<br>Datetime: 2025-04-23 20:08:07.633611<br>Python version: 3.12.9<br>skforecast version: 0.16.0<br>numpy version: 2.2.5<br>pandas version: 2.2.3<br>sklearn version: 1.6.1<br>lightgbm version: 4.6.0<br>Platform: Linux-6.11.0-21-generic-x86_64-with-glibc2.39<br>Processor: x86_64<br>CPU count: 8<br>Memory (GB): 16.64<br>",
          "Forecaster: ForecasterRecursiveMultiSeries<br>Regressor: LGBMRegressor<br>Function: ForecasterRecursiveMultiSeries_backtesting_series_is_dict_exog_is_dict<br>Function_hash: 5c9a4d89a695fe2ded0327ec81495237<br>Datetime: 2025-04-23 20:08:27.626583<br>Python version: 3.12.9<br>skforecast version: 0.16.0<br>numpy version: 2.2.5<br>pandas version: 2.2.3<br>sklearn version: 1.6.1<br>lightgbm version: 4.6.0<br>Platform: Linux-6.11.0-21-generic-x86_64-with-glibc2.39<br>Processor: x86_64<br>CPU count: 8<br>Memory (GB): 16.64<br>",
          "Forecaster: ForecasterRecursiveMultiSeries<br>Regressor: LGBMRegressor<br>Function: ForecasterRecursiveMultiSeries_backtesting_series_is_dict_exog_is_dict<br>Function_hash: 21928d6bc9058a601b52a861e58a4cfb<br>Datetime: 2025-04-23 20:13:13.189265<br>Python version: 3.12.9<br>skforecast version: 0.16.0<br>numpy version: 2.2.5<br>pandas version: 2.2.3<br>sklearn version: 1.6.1<br>lightgbm version: 4.6.0<br>Platform: Linux-6.11.0-21-generic-x86_64-with-glibc2.39<br>Processor: x86_64<br>CPU count: 8<br>Memory (GB): 16.64<br>",
          "Forecaster: ForecasterRecursiveMultiSeries<br>Regressor: LGBMRegressor<br>Function: ForecasterRecursiveMultiSeries_backtesting_series_is_dict_exog_is_dict<br>Function_hash: 764622d682985b184e7b2369791c61a1<br>Datetime: 2025-04-23 22:56:07.201614<br>Python version: 3.12.9<br>skforecast version: 0.16.0<br>numpy version: 2.2.5<br>pandas version: 2.2.3<br>sklearn version: 1.6.1<br>lightgbm version: 4.6.0<br>Platform: Linux-6.11.0-21-generic-x86_64-with-glibc2.39<br>Processor: x86_64<br>CPU count: 8<br>Memory (GB): 16.64<br>"
         ],
         "type": "scatter",
         "x": {
          "bdata": "o+edyHNh/z9etUcwD5P/PzyVwAXWKwBABPQEQSs7AECz2kPA+Pf/Pw==",
          "dtype": "f8"
         },
         "y": {
          "bdata": "AAAAAAAA+H8AAAAAAAD4f83iTkO+zDNAZj5gezX7NkAAnFzpu/o1QA==",
          "dtype": "f8"
         }
        },
        {
         "line": {
          "color": "black",
          "width": 2
         },
         "marker": {
          "color": "black",
          "size": 8
         },
         "mode": "lines+markers",
         "name": "Median (per version)",
         "type": "scatter",
         "x": {
          "bdata": "AAEC",
          "dtype": "i1"
         },
         "y": {
          "bdata": "M599VP/yREAzSxYK6IREQACcXOm7+jVA",
          "dtype": "f8"
         }
        }
       ],
       "layout": {
        "showlegend": true,
        "template": {
         "data": {
          "bar": [
           {
            "error_x": {
             "color": "#2a3f5f"
            },
            "error_y": {
             "color": "#2a3f5f"
            },
            "marker": {
             "line": {
              "color": "#E5ECF6",
              "width": 0.5
             },
             "pattern": {
              "fillmode": "overlay",
              "size": 10,
              "solidity": 0.2
             }
            },
            "type": "bar"
           }
          ],
          "barpolar": [
           {
            "marker": {
             "line": {
              "color": "#E5ECF6",
              "width": 0.5
             },
             "pattern": {
              "fillmode": "overlay",
              "size": 10,
              "solidity": 0.2
             }
            },
            "type": "barpolar"
           }
          ],
          "carpet": [
           {
            "aaxis": {
             "endlinecolor": "#2a3f5f",
             "gridcolor": "white",
             "linecolor": "white",
             "minorgridcolor": "white",
             "startlinecolor": "#2a3f5f"
            },
            "baxis": {
             "endlinecolor": "#2a3f5f",
             "gridcolor": "white",
             "linecolor": "white",
             "minorgridcolor": "white",
             "startlinecolor": "#2a3f5f"
            },
            "type": "carpet"
           }
          ],
          "choropleth": [
           {
            "colorbar": {
             "outlinewidth": 0,
             "ticks": ""
            },
            "type": "choropleth"
           }
          ],
          "contour": [
           {
            "colorbar": {
             "outlinewidth": 0,
             "ticks": ""
            },
            "colorscale": [
             [
              0,
              "#0d0887"
             ],
             [
              0.1111111111111111,
              "#46039f"
             ],
             [
              0.2222222222222222,
              "#7201a8"
             ],
             [
              0.3333333333333333,
              "#9c179e"
             ],
             [
              0.4444444444444444,
              "#bd3786"
             ],
             [
              0.5555555555555556,
              "#d8576b"
             ],
             [
              0.6666666666666666,
              "#ed7953"
             ],
             [
              0.7777777777777778,
              "#fb9f3a"
             ],
             [
              0.8888888888888888,
              "#fdca26"
             ],
             [
              1,
              "#f0f921"
             ]
            ],
            "type": "contour"
           }
          ],
          "contourcarpet": [
           {
            "colorbar": {
             "outlinewidth": 0,
             "ticks": ""
            },
            "type": "contourcarpet"
           }
          ],
          "heatmap": [
           {
            "colorbar": {
             "outlinewidth": 0,
             "ticks": ""
            },
            "colorscale": [
             [
              0,
              "#0d0887"
             ],
             [
              0.1111111111111111,
              "#46039f"
             ],
             [
              0.2222222222222222,
              "#7201a8"
             ],
             [
              0.3333333333333333,
              "#9c179e"
             ],
             [
              0.4444444444444444,
              "#bd3786"
             ],
             [
              0.5555555555555556,
              "#d8576b"
             ],
             [
              0.6666666666666666,
              "#ed7953"
             ],
             [
              0.7777777777777778,
              "#fb9f3a"
             ],
             [
              0.8888888888888888,
              "#fdca26"
             ],
             [
              1,
              "#f0f921"
             ]
            ],
            "type": "heatmap"
           }
          ],
          "histogram": [
           {
            "marker": {
             "pattern": {
              "fillmode": "overlay",
              "size": 10,
              "solidity": 0.2
             }
            },
            "type": "histogram"
           }
          ],
          "histogram2d": [
           {
            "colorbar": {
             "outlinewidth": 0,
             "ticks": ""
            },
            "colorscale": [
             [
              0,
              "#0d0887"
             ],
             [
              0.1111111111111111,
              "#46039f"
             ],
             [
              0.2222222222222222,
              "#7201a8"
             ],
             [
              0.3333333333333333,
              "#9c179e"
             ],
             [
              0.4444444444444444,
              "#bd3786"
             ],
             [
              0.5555555555555556,
              "#d8576b"
             ],
             [
              0.6666666666666666,
              "#ed7953"
             ],
             [
              0.7777777777777778,
              "#fb9f3a"
             ],
             [
              0.8888888888888888,
              "#fdca26"
             ],
             [
              1,
              "#f0f921"
             ]
            ],
            "type": "histogram2d"
           }
          ],
          "histogram2dcontour": [
           {
            "colorbar": {
             "outlinewidth": 0,
             "ticks": ""
            },
            "colorscale": [
             [
              0,
              "#0d0887"
             ],
             [
              0.1111111111111111,
              "#46039f"
             ],
             [
              0.2222222222222222,
              "#7201a8"
             ],
             [
              0.3333333333333333,
              "#9c179e"
             ],
             [
              0.4444444444444444,
              "#bd3786"
             ],
             [
              0.5555555555555556,
              "#d8576b"
             ],
             [
              0.6666666666666666,
              "#ed7953"
             ],
             [
              0.7777777777777778,
              "#fb9f3a"
             ],
             [
              0.8888888888888888,
              "#fdca26"
             ],
             [
              1,
              "#f0f921"
             ]
            ],
            "type": "histogram2dcontour"
           }
          ],
          "mesh3d": [
           {
            "colorbar": {
             "outlinewidth": 0,
             "ticks": ""
            },
            "type": "mesh3d"
           }
          ],
          "parcoords": [
           {
            "line": {
             "colorbar": {
              "outlinewidth": 0,
              "ticks": ""
             }
            },
            "type": "parcoords"
           }
          ],
          "pie": [
           {
            "automargin": true,
            "type": "pie"
           }
          ],
          "scatter": [
           {
            "fillpattern": {
             "fillmode": "overlay",
             "size": 10,
             "solidity": 0.2
            },
            "type": "scatter"
           }
          ],
          "scatter3d": [
           {
            "line": {
             "colorbar": {
              "outlinewidth": 0,
              "ticks": ""
             }
            },
            "marker": {
             "colorbar": {
              "outlinewidth": 0,
              "ticks": ""
             }
            },
            "type": "scatter3d"
           }
          ],
          "scattercarpet": [
           {
            "marker": {
             "colorbar": {
              "outlinewidth": 0,
              "ticks": ""
             }
            },
            "type": "scattercarpet"
           }
          ],
          "scattergeo": [
           {
            "marker": {
             "colorbar": {
              "outlinewidth": 0,
              "ticks": ""
             }
            },
            "type": "scattergeo"
           }
          ],
          "scattergl": [
           {
            "marker": {
             "colorbar": {
              "outlinewidth": 0,
              "ticks": ""
             }
            },
            "type": "scattergl"
           }
          ],
          "scattermap": [
           {
            "marker": {
             "colorbar": {
              "outlinewidth": 0,
              "ticks": ""
             }
            },
            "type": "scattermap"
           }
          ],
          "scattermapbox": [
           {
            "marker": {
             "colorbar": {
              "outlinewidth": 0,
              "ticks": ""
             }
            },
            "type": "scattermapbox"
           }
          ],
          "scatterpolar": [
           {
            "marker": {
             "colorbar": {
              "outlinewidth": 0,
              "ticks": ""
             }
            },
            "type": "scatterpolar"
           }
          ],
          "scatterpolargl": [
           {
            "marker": {
             "colorbar": {
              "outlinewidth": 0,
              "ticks": ""
             }
            },
            "type": "scatterpolargl"
           }
          ],
          "scatterternary": [
           {
            "marker": {
             "colorbar": {
              "outlinewidth": 0,
              "ticks": ""
             }
            },
            "type": "scatterternary"
           }
          ],
          "surface": [
           {
            "colorbar": {
             "outlinewidth": 0,
             "ticks": ""
            },
            "colorscale": [
             [
              0,
              "#0d0887"
             ],
             [
              0.1111111111111111,
              "#46039f"
             ],
             [
              0.2222222222222222,
              "#7201a8"
             ],
             [
              0.3333333333333333,
              "#9c179e"
             ],
             [
              0.4444444444444444,
              "#bd3786"
             ],
             [
              0.5555555555555556,
              "#d8576b"
             ],
             [
              0.6666666666666666,
              "#ed7953"
             ],
             [
              0.7777777777777778,
              "#fb9f3a"
             ],
             [
              0.8888888888888888,
              "#fdca26"
             ],
             [
              1,
              "#f0f921"
             ]
            ],
            "type": "surface"
           }
          ],
          "table": [
           {
            "cells": {
             "fill": {
              "color": "#EBF0F8"
             },
             "line": {
              "color": "white"
             }
            },
            "header": {
             "fill": {
              "color": "#C8D4E3"
             },
             "line": {
              "color": "white"
             }
            },
            "type": "table"
           }
          ]
         },
         "layout": {
          "annotationdefaults": {
           "arrowcolor": "#2a3f5f",
           "arrowhead": 0,
           "arrowwidth": 1
          },
          "autotypenumbers": "strict",
          "coloraxis": {
           "colorbar": {
            "outlinewidth": 0,
            "ticks": ""
           }
          },
          "colorscale": {
           "diverging": [
            [
             0,
             "#8e0152"
            ],
            [
             0.1,
             "#c51b7d"
            ],
            [
             0.2,
             "#de77ae"
            ],
            [
             0.3,
             "#f1b6da"
            ],
            [
             0.4,
             "#fde0ef"
            ],
            [
             0.5,
             "#f7f7f7"
            ],
            [
             0.6,
             "#e6f5d0"
            ],
            [
             0.7,
             "#b8e186"
            ],
            [
             0.8,
             "#7fbc41"
            ],
            [
             0.9,
             "#4d9221"
            ],
            [
             1,
             "#276419"
            ]
           ],
           "sequential": [
            [
             0,
             "#0d0887"
            ],
            [
             0.1111111111111111,
             "#46039f"
            ],
            [
             0.2222222222222222,
             "#7201a8"
            ],
            [
             0.3333333333333333,
             "#9c179e"
            ],
            [
             0.4444444444444444,
             "#bd3786"
            ],
            [
             0.5555555555555556,
             "#d8576b"
            ],
            [
             0.6666666666666666,
             "#ed7953"
            ],
            [
             0.7777777777777778,
             "#fb9f3a"
            ],
            [
             0.8888888888888888,
             "#fdca26"
            ],
            [
             1,
             "#f0f921"
            ]
           ],
           "sequentialminus": [
            [
             0,
             "#0d0887"
            ],
            [
             0.1111111111111111,
             "#46039f"
            ],
            [
             0.2222222222222222,
             "#7201a8"
            ],
            [
             0.3333333333333333,
             "#9c179e"
            ],
            [
             0.4444444444444444,
             "#bd3786"
            ],
            [
             0.5555555555555556,
             "#d8576b"
            ],
            [
             0.6666666666666666,
             "#ed7953"
            ],
            [
             0.7777777777777778,
             "#fb9f3a"
            ],
            [
             0.8888888888888888,
             "#fdca26"
            ],
            [
             1,
             "#f0f921"
            ]
           ]
          },
          "colorway": [
           "#636efa",
           "#EF553B",
           "#00cc96",
           "#ab63fa",
           "#FFA15A",
           "#19d3f3",
           "#FF6692",
           "#B6E880",
           "#FF97FF",
           "#FECB52"
          ],
          "font": {
           "color": "#2a3f5f"
          },
          "geo": {
           "bgcolor": "white",
           "lakecolor": "white",
           "landcolor": "#E5ECF6",
           "showlakes": true,
           "showland": true,
           "subunitcolor": "white"
          },
          "hoverlabel": {
           "align": "left"
          },
          "hovermode": "closest",
          "mapbox": {
           "style": "light"
          },
          "paper_bgcolor": "white",
          "plot_bgcolor": "#E5ECF6",
          "polar": {
           "angularaxis": {
            "gridcolor": "white",
            "linecolor": "white",
            "ticks": ""
           },
           "bgcolor": "#E5ECF6",
           "radialaxis": {
            "gridcolor": "white",
            "linecolor": "white",
            "ticks": ""
           }
          },
          "scene": {
           "xaxis": {
            "backgroundcolor": "#E5ECF6",
            "gridcolor": "white",
            "gridwidth": 2,
            "linecolor": "white",
            "showbackground": true,
            "ticks": "",
            "zerolinecolor": "white"
           },
           "yaxis": {
            "backgroundcolor": "#E5ECF6",
            "gridcolor": "white",
            "gridwidth": 2,
            "linecolor": "white",
            "showbackground": true,
            "ticks": "",
            "zerolinecolor": "white"
           },
           "zaxis": {
            "backgroundcolor": "#E5ECF6",
            "gridcolor": "white",
            "gridwidth": 2,
            "linecolor": "white",
            "showbackground": true,
            "ticks": "",
            "zerolinecolor": "white"
           }
          },
          "shapedefaults": {
           "line": {
            "color": "#2a3f5f"
           }
          },
          "ternary": {
           "aaxis": {
            "gridcolor": "white",
            "linecolor": "white",
            "ticks": ""
           },
           "baxis": {
            "gridcolor": "white",
            "linecolor": "white",
            "ticks": ""
           },
           "bgcolor": "#E5ECF6",
           "caxis": {
            "gridcolor": "white",
            "linecolor": "white",
            "ticks": ""
           }
          },
          "title": {
           "x": 0.05
          },
          "xaxis": {
           "automargin": true,
           "gridcolor": "white",
           "linecolor": "white",
           "ticks": "",
           "title": {
            "standoff": 15
           },
           "zerolinecolor": "white",
           "zerolinewidth": 2
          },
          "yaxis": {
           "automargin": true,
           "gridcolor": "white",
           "linecolor": "white",
           "ticks": "",
           "title": {
            "standoff": 15
           },
           "zerolinecolor": "white",
           "zerolinewidth": 2
          }
         }
        },
        "title": {
         "text": "Execution time of ForecasterRecursiveMultiSeries_backtesting_series_is_dict_exog_is_dict"
        },
        "xaxis": {
         "tickangle": -45,
         "tickmode": "array",
         "ticktext": [
          "0.14.0",
          "0.15.1",
          "0.16.0"
         ],
         "tickvals": [
          0,
          1,
          2
         ],
         "title": {
          "text": "skforecast version"
         }
        },
        "yaxis": {
         "title": {
          "text": "Execution time (seconds)"
         }
        }
       }
      }
     },
     "metadata": {},
     "output_type": "display_data"
    },
    {
     "data": {
      "application/vnd.microsoft.datawrangler.viewer.v0+json": {
       "columns": [
        {
         "name": "index",
         "rawType": "int64",
         "type": "integer"
        },
        {
         "name": "forecaster_name",
         "rawType": "object",
         "type": "string"
        },
        {
         "name": "regressor_name",
         "rawType": "object",
         "type": "string"
        },
        {
         "name": "function_name",
         "rawType": "object",
         "type": "string"
        },
        {
         "name": "function_hash",
         "rawType": "object",
         "type": "string"
        },
        {
         "name": "run_time_avg",
         "rawType": "float64",
         "type": "float"
        },
        {
         "name": "run_time_std_dev",
         "rawType": "float64",
         "type": "float"
        },
        {
         "name": "datetime",
         "rawType": "datetime64[ns]",
         "type": "datetime"
        },
        {
         "name": "python_version",
         "rawType": "object",
         "type": "string"
        },
        {
         "name": "skforecast_version",
         "rawType": "object",
         "type": "string"
        },
        {
         "name": "numpy_version",
         "rawType": "object",
         "type": "string"
        },
        {
         "name": "pandas_version",
         "rawType": "object",
         "type": "string"
        },
        {
         "name": "sklearn_version",
         "rawType": "object",
         "type": "string"
        },
        {
         "name": "lightgbm_version",
         "rawType": "object",
         "type": "string"
        },
        {
         "name": "platform",
         "rawType": "object",
         "type": "string"
        },
        {
         "name": "processor",
         "rawType": "object",
         "type": "string"
        },
        {
         "name": "cpu_count",
         "rawType": "int64",
         "type": "integer"
        },
        {
         "name": "memory_gb",
         "rawType": "float64",
         "type": "float"
        }
       ],
       "conversionMethod": "pd.DataFrame",
       "ref": "0c3fa894-8e35-4839-8d3c-52cd61a1a604",
       "rows": [
        [
         "210",
         "ForecasterRecursiveMultiSeries",
         "LGBMRegressor",
         "ForecasterRecursiveMultiSeries_backtesting_series_is_dataframe_no_exog",
         "77968c38bfc431991b56a6500970e471",
         "14.999100005999935",
         "0.47843483042943397",
         "2025-04-23 22:57:57.105248",
         "3.12.9",
         "0.16.0",
         "2.2.5",
         "2.2.3",
         "1.6.1",
         "4.6.0",
         "Linux-6.11.0-21-generic-x86_64-with-glibc2.39",
         "x86_64",
         "8",
         "16.64"
        ]
       ],
       "shape": {
        "columns": 17,
        "rows": 1
       }
      },
      "text/html": [
       "<div>\n",
       "<style scoped>\n",
       "    .dataframe tbody tr th:only-of-type {\n",
       "        vertical-align: middle;\n",
       "    }\n",
       "\n",
       "    .dataframe tbody tr th {\n",
       "        vertical-align: top;\n",
       "    }\n",
       "\n",
       "    .dataframe thead th {\n",
       "        text-align: right;\n",
       "    }\n",
       "</style>\n",
       "<table border=\"1\" class=\"dataframe\">\n",
       "  <thead>\n",
       "    <tr style=\"text-align: right;\">\n",
       "      <th></th>\n",
       "      <th>forecaster_name</th>\n",
       "      <th>regressor_name</th>\n",
       "      <th>function_name</th>\n",
       "      <th>function_hash</th>\n",
       "      <th>run_time_avg</th>\n",
       "      <th>run_time_std_dev</th>\n",
       "      <th>datetime</th>\n",
       "      <th>python_version</th>\n",
       "      <th>skforecast_version</th>\n",
       "      <th>numpy_version</th>\n",
       "      <th>pandas_version</th>\n",
       "      <th>sklearn_version</th>\n",
       "      <th>lightgbm_version</th>\n",
       "      <th>platform</th>\n",
       "      <th>processor</th>\n",
       "      <th>cpu_count</th>\n",
       "      <th>memory_gb</th>\n",
       "    </tr>\n",
       "  </thead>\n",
       "  <tbody>\n",
       "    <tr>\n",
       "      <th>210</th>\n",
       "      <td>ForecasterRecursiveMultiSeries</td>\n",
       "      <td>LGBMRegressor</td>\n",
       "      <td>ForecasterRecursiveMultiSeries_backtesting_ser...</td>\n",
       "      <td>77968c38bfc431991b56a6500970e471</td>\n",
       "      <td>14.9991</td>\n",
       "      <td>0.478435</td>\n",
       "      <td>2025-04-23 22:57:57.105248</td>\n",
       "      <td>3.12.9</td>\n",
       "      <td>0.16.0</td>\n",
       "      <td>2.2.5</td>\n",
       "      <td>2.2.3</td>\n",
       "      <td>1.6.1</td>\n",
       "      <td>4.6.0</td>\n",
       "      <td>Linux-6.11.0-21-generic-x86_64-with-glibc2.39</td>\n",
       "      <td>x86_64</td>\n",
       "      <td>8</td>\n",
       "      <td>16.64</td>\n",
       "    </tr>\n",
       "  </tbody>\n",
       "</table>\n",
       "</div>"
      ],
      "text/plain": [
       "                    forecaster_name regressor_name  \\\n",
       "210  ForecasterRecursiveMultiSeries  LGBMRegressor   \n",
       "\n",
       "                                         function_name  \\\n",
       "210  ForecasterRecursiveMultiSeries_backtesting_ser...   \n",
       "\n",
       "                        function_hash  run_time_avg  run_time_std_dev  \\\n",
       "210  77968c38bfc431991b56a6500970e471       14.9991          0.478435   \n",
       "\n",
       "                      datetime python_version skforecast_version  \\\n",
       "210 2025-04-23 22:57:57.105248         3.12.9             0.16.0   \n",
       "\n",
       "    numpy_version pandas_version sklearn_version lightgbm_version  \\\n",
       "210         2.2.5          2.2.3           1.6.1            4.6.0   \n",
       "\n",
       "                                          platform processor  cpu_count  \\\n",
       "210  Linux-6.11.0-21-generic-x86_64-with-glibc2.39    x86_64          8   \n",
       "\n",
       "     memory_gb  \n",
       "210      16.64  "
      ]
     },
     "metadata": {},
     "output_type": "display_data"
    },
    {
     "data": {
      "application/vnd.plotly.v1+json": {
       "config": {
        "plotlyServerURL": "https://plot.ly"
       },
       "data": [
        {
         "error_y": {
          "array": {
           "bdata": "5Yx9H62e3j8=",
           "dtype": "f8"
          },
          "color": "#636EFA",
          "thickness": 1.5,
          "type": "data",
          "visible": true,
          "width": 5
         },
         "hovertemplate": "%{text}<extra></extra>",
         "marker": {
          "color": "#636EFA",
          "opacity": 0.7,
          "size": 10
         },
         "mode": "markers",
         "name": "Run time - 0.16.0",
         "showlegend": true,
         "text": [
          "Forecaster: ForecasterRecursiveMultiSeries<br>Regressor: LGBMRegressor<br>Function: ForecasterRecursiveMultiSeries_backtesting_series_is_dataframe_no_exog<br>Function_hash: 77968c38bfc431991b56a6500970e471<br>Datetime: 2025-04-23 22:57:57.105248<br>Python version: 3.12.9<br>skforecast version: 0.16.0<br>numpy version: 2.2.5<br>pandas version: 2.2.3<br>sklearn version: 1.6.1<br>lightgbm version: 4.6.0<br>Platform: Linux-6.11.0-21-generic-x86_64-with-glibc2.39<br>Processor: x86_64<br>CPU count: 8<br>Memory (GB): 16.64<br>"
         ],
         "type": "scatter",
         "x": {
          "bdata": "fByzX9/Fir8=",
          "dtype": "f8"
         },
         "y": {
          "bdata": "AGg2CYr/LUA=",
          "dtype": "f8"
         }
        },
        {
         "line": {
          "color": "black",
          "width": 2
         },
         "marker": {
          "color": "black",
          "size": 8
         },
         "mode": "lines+markers",
         "name": "Median (per version)",
         "type": "scatter",
         "x": {
          "bdata": "AA==",
          "dtype": "i1"
         },
         "y": {
          "bdata": "AGg2CYr/LUA=",
          "dtype": "f8"
         }
        }
       ],
       "layout": {
        "showlegend": true,
        "template": {
         "data": {
          "bar": [
           {
            "error_x": {
             "color": "#2a3f5f"
            },
            "error_y": {
             "color": "#2a3f5f"
            },
            "marker": {
             "line": {
              "color": "#E5ECF6",
              "width": 0.5
             },
             "pattern": {
              "fillmode": "overlay",
              "size": 10,
              "solidity": 0.2
             }
            },
            "type": "bar"
           }
          ],
          "barpolar": [
           {
            "marker": {
             "line": {
              "color": "#E5ECF6",
              "width": 0.5
             },
             "pattern": {
              "fillmode": "overlay",
              "size": 10,
              "solidity": 0.2
             }
            },
            "type": "barpolar"
           }
          ],
          "carpet": [
           {
            "aaxis": {
             "endlinecolor": "#2a3f5f",
             "gridcolor": "white",
             "linecolor": "white",
             "minorgridcolor": "white",
             "startlinecolor": "#2a3f5f"
            },
            "baxis": {
             "endlinecolor": "#2a3f5f",
             "gridcolor": "white",
             "linecolor": "white",
             "minorgridcolor": "white",
             "startlinecolor": "#2a3f5f"
            },
            "type": "carpet"
           }
          ],
          "choropleth": [
           {
            "colorbar": {
             "outlinewidth": 0,
             "ticks": ""
            },
            "type": "choropleth"
           }
          ],
          "contour": [
           {
            "colorbar": {
             "outlinewidth": 0,
             "ticks": ""
            },
            "colorscale": [
             [
              0,
              "#0d0887"
             ],
             [
              0.1111111111111111,
              "#46039f"
             ],
             [
              0.2222222222222222,
              "#7201a8"
             ],
             [
              0.3333333333333333,
              "#9c179e"
             ],
             [
              0.4444444444444444,
              "#bd3786"
             ],
             [
              0.5555555555555556,
              "#d8576b"
             ],
             [
              0.6666666666666666,
              "#ed7953"
             ],
             [
              0.7777777777777778,
              "#fb9f3a"
             ],
             [
              0.8888888888888888,
              "#fdca26"
             ],
             [
              1,
              "#f0f921"
             ]
            ],
            "type": "contour"
           }
          ],
          "contourcarpet": [
           {
            "colorbar": {
             "outlinewidth": 0,
             "ticks": ""
            },
            "type": "contourcarpet"
           }
          ],
          "heatmap": [
           {
            "colorbar": {
             "outlinewidth": 0,
             "ticks": ""
            },
            "colorscale": [
             [
              0,
              "#0d0887"
             ],
             [
              0.1111111111111111,
              "#46039f"
             ],
             [
              0.2222222222222222,
              "#7201a8"
             ],
             [
              0.3333333333333333,
              "#9c179e"
             ],
             [
              0.4444444444444444,
              "#bd3786"
             ],
             [
              0.5555555555555556,
              "#d8576b"
             ],
             [
              0.6666666666666666,
              "#ed7953"
             ],
             [
              0.7777777777777778,
              "#fb9f3a"
             ],
             [
              0.8888888888888888,
              "#fdca26"
             ],
             [
              1,
              "#f0f921"
             ]
            ],
            "type": "heatmap"
           }
          ],
          "histogram": [
           {
            "marker": {
             "pattern": {
              "fillmode": "overlay",
              "size": 10,
              "solidity": 0.2
             }
            },
            "type": "histogram"
           }
          ],
          "histogram2d": [
           {
            "colorbar": {
             "outlinewidth": 0,
             "ticks": ""
            },
            "colorscale": [
             [
              0,
              "#0d0887"
             ],
             [
              0.1111111111111111,
              "#46039f"
             ],
             [
              0.2222222222222222,
              "#7201a8"
             ],
             [
              0.3333333333333333,
              "#9c179e"
             ],
             [
              0.4444444444444444,
              "#bd3786"
             ],
             [
              0.5555555555555556,
              "#d8576b"
             ],
             [
              0.6666666666666666,
              "#ed7953"
             ],
             [
              0.7777777777777778,
              "#fb9f3a"
             ],
             [
              0.8888888888888888,
              "#fdca26"
             ],
             [
              1,
              "#f0f921"
             ]
            ],
            "type": "histogram2d"
           }
          ],
          "histogram2dcontour": [
           {
            "colorbar": {
             "outlinewidth": 0,
             "ticks": ""
            },
            "colorscale": [
             [
              0,
              "#0d0887"
             ],
             [
              0.1111111111111111,
              "#46039f"
             ],
             [
              0.2222222222222222,
              "#7201a8"
             ],
             [
              0.3333333333333333,
              "#9c179e"
             ],
             [
              0.4444444444444444,
              "#bd3786"
             ],
             [
              0.5555555555555556,
              "#d8576b"
             ],
             [
              0.6666666666666666,
              "#ed7953"
             ],
             [
              0.7777777777777778,
              "#fb9f3a"
             ],
             [
              0.8888888888888888,
              "#fdca26"
             ],
             [
              1,
              "#f0f921"
             ]
            ],
            "type": "histogram2dcontour"
           }
          ],
          "mesh3d": [
           {
            "colorbar": {
             "outlinewidth": 0,
             "ticks": ""
            },
            "type": "mesh3d"
           }
          ],
          "parcoords": [
           {
            "line": {
             "colorbar": {
              "outlinewidth": 0,
              "ticks": ""
             }
            },
            "type": "parcoords"
           }
          ],
          "pie": [
           {
            "automargin": true,
            "type": "pie"
           }
          ],
          "scatter": [
           {
            "fillpattern": {
             "fillmode": "overlay",
             "size": 10,
             "solidity": 0.2
            },
            "type": "scatter"
           }
          ],
          "scatter3d": [
           {
            "line": {
             "colorbar": {
              "outlinewidth": 0,
              "ticks": ""
             }
            },
            "marker": {
             "colorbar": {
              "outlinewidth": 0,
              "ticks": ""
             }
            },
            "type": "scatter3d"
           }
          ],
          "scattercarpet": [
           {
            "marker": {
             "colorbar": {
              "outlinewidth": 0,
              "ticks": ""
             }
            },
            "type": "scattercarpet"
           }
          ],
          "scattergeo": [
           {
            "marker": {
             "colorbar": {
              "outlinewidth": 0,
              "ticks": ""
             }
            },
            "type": "scattergeo"
           }
          ],
          "scattergl": [
           {
            "marker": {
             "colorbar": {
              "outlinewidth": 0,
              "ticks": ""
             }
            },
            "type": "scattergl"
           }
          ],
          "scattermap": [
           {
            "marker": {
             "colorbar": {
              "outlinewidth": 0,
              "ticks": ""
             }
            },
            "type": "scattermap"
           }
          ],
          "scattermapbox": [
           {
            "marker": {
             "colorbar": {
              "outlinewidth": 0,
              "ticks": ""
             }
            },
            "type": "scattermapbox"
           }
          ],
          "scatterpolar": [
           {
            "marker": {
             "colorbar": {
              "outlinewidth": 0,
              "ticks": ""
             }
            },
            "type": "scatterpolar"
           }
          ],
          "scatterpolargl": [
           {
            "marker": {
             "colorbar": {
              "outlinewidth": 0,
              "ticks": ""
             }
            },
            "type": "scatterpolargl"
           }
          ],
          "scatterternary": [
           {
            "marker": {
             "colorbar": {
              "outlinewidth": 0,
              "ticks": ""
             }
            },
            "type": "scatterternary"
           }
          ],
          "surface": [
           {
            "colorbar": {
             "outlinewidth": 0,
             "ticks": ""
            },
            "colorscale": [
             [
              0,
              "#0d0887"
             ],
             [
              0.1111111111111111,
              "#46039f"
             ],
             [
              0.2222222222222222,
              "#7201a8"
             ],
             [
              0.3333333333333333,
              "#9c179e"
             ],
             [
              0.4444444444444444,
              "#bd3786"
             ],
             [
              0.5555555555555556,
              "#d8576b"
             ],
             [
              0.6666666666666666,
              "#ed7953"
             ],
             [
              0.7777777777777778,
              "#fb9f3a"
             ],
             [
              0.8888888888888888,
              "#fdca26"
             ],
             [
              1,
              "#f0f921"
             ]
            ],
            "type": "surface"
           }
          ],
          "table": [
           {
            "cells": {
             "fill": {
              "color": "#EBF0F8"
             },
             "line": {
              "color": "white"
             }
            },
            "header": {
             "fill": {
              "color": "#C8D4E3"
             },
             "line": {
              "color": "white"
             }
            },
            "type": "table"
           }
          ]
         },
         "layout": {
          "annotationdefaults": {
           "arrowcolor": "#2a3f5f",
           "arrowhead": 0,
           "arrowwidth": 1
          },
          "autotypenumbers": "strict",
          "coloraxis": {
           "colorbar": {
            "outlinewidth": 0,
            "ticks": ""
           }
          },
          "colorscale": {
           "diverging": [
            [
             0,
             "#8e0152"
            ],
            [
             0.1,
             "#c51b7d"
            ],
            [
             0.2,
             "#de77ae"
            ],
            [
             0.3,
             "#f1b6da"
            ],
            [
             0.4,
             "#fde0ef"
            ],
            [
             0.5,
             "#f7f7f7"
            ],
            [
             0.6,
             "#e6f5d0"
            ],
            [
             0.7,
             "#b8e186"
            ],
            [
             0.8,
             "#7fbc41"
            ],
            [
             0.9,
             "#4d9221"
            ],
            [
             1,
             "#276419"
            ]
           ],
           "sequential": [
            [
             0,
             "#0d0887"
            ],
            [
             0.1111111111111111,
             "#46039f"
            ],
            [
             0.2222222222222222,
             "#7201a8"
            ],
            [
             0.3333333333333333,
             "#9c179e"
            ],
            [
             0.4444444444444444,
             "#bd3786"
            ],
            [
             0.5555555555555556,
             "#d8576b"
            ],
            [
             0.6666666666666666,
             "#ed7953"
            ],
            [
             0.7777777777777778,
             "#fb9f3a"
            ],
            [
             0.8888888888888888,
             "#fdca26"
            ],
            [
             1,
             "#f0f921"
            ]
           ],
           "sequentialminus": [
            [
             0,
             "#0d0887"
            ],
            [
             0.1111111111111111,
             "#46039f"
            ],
            [
             0.2222222222222222,
             "#7201a8"
            ],
            [
             0.3333333333333333,
             "#9c179e"
            ],
            [
             0.4444444444444444,
             "#bd3786"
            ],
            [
             0.5555555555555556,
             "#d8576b"
            ],
            [
             0.6666666666666666,
             "#ed7953"
            ],
            [
             0.7777777777777778,
             "#fb9f3a"
            ],
            [
             0.8888888888888888,
             "#fdca26"
            ],
            [
             1,
             "#f0f921"
            ]
           ]
          },
          "colorway": [
           "#636efa",
           "#EF553B",
           "#00cc96",
           "#ab63fa",
           "#FFA15A",
           "#19d3f3",
           "#FF6692",
           "#B6E880",
           "#FF97FF",
           "#FECB52"
          ],
          "font": {
           "color": "#2a3f5f"
          },
          "geo": {
           "bgcolor": "white",
           "lakecolor": "white",
           "landcolor": "#E5ECF6",
           "showlakes": true,
           "showland": true,
           "subunitcolor": "white"
          },
          "hoverlabel": {
           "align": "left"
          },
          "hovermode": "closest",
          "mapbox": {
           "style": "light"
          },
          "paper_bgcolor": "white",
          "plot_bgcolor": "#E5ECF6",
          "polar": {
           "angularaxis": {
            "gridcolor": "white",
            "linecolor": "white",
            "ticks": ""
           },
           "bgcolor": "#E5ECF6",
           "radialaxis": {
            "gridcolor": "white",
            "linecolor": "white",
            "ticks": ""
           }
          },
          "scene": {
           "xaxis": {
            "backgroundcolor": "#E5ECF6",
            "gridcolor": "white",
            "gridwidth": 2,
            "linecolor": "white",
            "showbackground": true,
            "ticks": "",
            "zerolinecolor": "white"
           },
           "yaxis": {
            "backgroundcolor": "#E5ECF6",
            "gridcolor": "white",
            "gridwidth": 2,
            "linecolor": "white",
            "showbackground": true,
            "ticks": "",
            "zerolinecolor": "white"
           },
           "zaxis": {
            "backgroundcolor": "#E5ECF6",
            "gridcolor": "white",
            "gridwidth": 2,
            "linecolor": "white",
            "showbackground": true,
            "ticks": "",
            "zerolinecolor": "white"
           }
          },
          "shapedefaults": {
           "line": {
            "color": "#2a3f5f"
           }
          },
          "ternary": {
           "aaxis": {
            "gridcolor": "white",
            "linecolor": "white",
            "ticks": ""
           },
           "baxis": {
            "gridcolor": "white",
            "linecolor": "white",
            "ticks": ""
           },
           "bgcolor": "#E5ECF6",
           "caxis": {
            "gridcolor": "white",
            "linecolor": "white",
            "ticks": ""
           }
          },
          "title": {
           "x": 0.05
          },
          "xaxis": {
           "automargin": true,
           "gridcolor": "white",
           "linecolor": "white",
           "ticks": "",
           "title": {
            "standoff": 15
           },
           "zerolinecolor": "white",
           "zerolinewidth": 2
          },
          "yaxis": {
           "automargin": true,
           "gridcolor": "white",
           "linecolor": "white",
           "ticks": "",
           "title": {
            "standoff": 15
           },
           "zerolinecolor": "white",
           "zerolinewidth": 2
          }
         }
        },
        "title": {
         "text": "Execution time of ForecasterRecursiveMultiSeries_backtesting_series_is_dataframe_no_exog"
        },
        "xaxis": {
         "tickangle": -45,
         "tickmode": "array",
         "ticktext": [
          "0.16.0"
         ],
         "tickvals": [
          0
         ],
         "title": {
          "text": "skforecast version"
         }
        },
        "yaxis": {
         "title": {
          "text": "Execution time (seconds)"
         }
        }
       }
      }
     },
     "metadata": {},
     "output_type": "display_data"
    }
   ],
   "source": [
    "# Plot results\n",
    "# ==============================================================================\n",
    "results_benchmark_all = joblib.load(\"./benchmark.joblib\")\n",
    "results_benchmark = results_benchmark_all.query(\"forecaster_name in ['ForecasterRecursiveMultiSeries', 'ForecasterAutoregMultiSeries']\").copy()\n",
    "results_benchmark = results_benchmark.query(\"regressor_name == 'LGBMRegressor'\").copy()\n",
    "for function_name in results_benchmark['function_name'].unique():\n",
    "    df = results_benchmark.query(f\"function_name == '{function_name}'\").copy()\n",
    "    display(df)\n",
    "    plot_benchmark_results(df, function_name)"
   ]
  },
  {
   "cell_type": "markdown",
   "metadata": {},
   "source": [
    "# ForecasterRecursive"
   ]
  },
  {
   "cell_type": "code",
   "execution_count": null,
   "metadata": {},
   "outputs": [],
   "source": [
    "# Mock data for benchmarking\n",
    "# ==========================================================\n",
    "len_series = 2000\n",
    "rng = np.random.default_rng(321)\n",
    "y = pd.Series(\n",
    "        data = rng.normal(loc=20, scale=5, size=len_series),\n",
    "        index=pd.date_range(\n",
    "            start='2010-01-01',\n",
    "            periods=len_series,\n",
    "            freq='h'\n",
    "        ),\n",
    "        name='y'\n",
    "    )\n",
    "rng = np.random.default_rng(321)\n",
    "exog = pd.DataFrame(index=y.index)\n",
    "exog['day_of_week'] = exog.index.dayofweek\n",
    "exog['week_of_year'] = exog.index.isocalendar().week.astype(int)\n",
    "exog['month'] = exog.index.month\n",
    "exog_prediction = pd.DataFrame(\n",
    "                    index=pd.date_range(\n",
    "                        start=series_dict[k].index.max() + pd.Timedelta(hours=1),\n",
    "                        periods=100,\n",
    "                        freq='h'\n",
    "                    )\n",
    "                 ) \n",
    "exog_prediction['day_of_week'] = exog_prediction.index.dayofweek\n",
    "exog_prediction['week_of_year'] = exog_prediction.index.isocalendar().week.astype(int)\n",
    "exog_prediction['month'] = exog_prediction.index.month"
   ]
  },
  {
   "cell_type": "code",
   "execution_count": 11,
   "metadata": {},
   "outputs": [
    {
     "name": "stdout",
     "output_type": "stream",
     "text": [
      "Benchmarking function: ForecasterRecursive_fit with skforecast version 0.16.0\n",
      "Benchmarking function: ForecasterRecursive__create_train_X_y with skforecast version 0.16.0\n",
      "Benchmarking function: ForecasterRecursive_predict with skforecast version 0.16.0\n",
      "Benchmarking function: ForecasterRecursive__create_predict_inputs with skforecast version 0.16.0\n",
      "Benchmarking function: ForecasterRecursive_backtesting with skforecast version 0.16.0\n"
     ]
    }
   ],
   "source": [
    "# Benchmarking speed ForecasterRecursive\n",
    "# ==============================================================================\n",
    "if skforecast.__version__ >= '0.14.0':\n",
    "    forecaster = ForecasterRecursive(\n",
    "        regressor=regressor,\n",
    "        lags=50,\n",
    "        transformer_y=StandardScaler(),\n",
    "        transformer_exog=StandardScaler(),\n",
    "    )\n",
    "else:\n",
    "     forecaster = ForecasterAutoreg(\n",
    "        regressor=regressor,\n",
    "        lags=50,\n",
    "        transformer_y=StandardScaler(),\n",
    "        transformer_exog=StandardScaler(),\n",
    "    )\n",
    "\n",
    "def ForecasterRecursive_fit():\n",
    "    forecaster.fit(y=y, exog=exog)\n",
    "\n",
    "def ForecasterRecursive__create_train_X_y():\n",
    "    if skforecast.__version__ >= '0.14.0':\n",
    "        forecaster._create_train_X_y(y=y, exog=exog)\n",
    "    else:\n",
    "        forecaster.create_train_X_y(y=y, exog=exog)\n",
    "\n",
    "\n",
    "def ForecasterRecursive_predict():\n",
    "    forecaster.predict(steps=100, exog=exog_prediction)\n",
    "\n",
    "def ForecasterRecursive__create_predict_inputs():\n",
    "    _ = forecaster._create_predict_inputs(\n",
    "            steps        = 100,\n",
    "            exog         = exog_prediction,\n",
    "            check_inputs = True\n",
    "        )\n",
    "    \n",
    "def ForecasterRecursive_backtesting():\n",
    "    if skforecast.__version__ >= '0.14.0':\n",
    "        cv = TimeSeriesFold(\n",
    "                initial_train_size=1200,\n",
    "                fixed_train_size=True,\n",
    "                steps=50,\n",
    "            )\n",
    "        _ = backtesting_forecaster(\n",
    "                forecaster=forecaster,\n",
    "                y=y,\n",
    "                exog=exog,\n",
    "                cv=cv,\n",
    "                metric='mean_squared_error',\n",
    "                show_progress=False\n",
    "            )\n",
    "    else:\n",
    "        _ = backtesting_forecaster(\n",
    "                forecaster=forecaster,\n",
    "                y=y,\n",
    "                exog=exog,\n",
    "                initial_train_size=1200,\n",
    "                fixed_train_size=True,\n",
    "                steps=50,\n",
    "                metric='mean_squared_error',\n",
    "                show_progress=False\n",
    "            )\n",
    "\n",
    "\n",
    "runner = BenchmarkRunner(repeat=10, output_dir=\"./\")\n",
    "_ = runner.benchmark(ForecasterRecursive_fit, forecaster= forecaster)\n",
    "_ = runner.benchmark(ForecasterRecursive__create_train_X_y, forecaster= forecaster)\n",
    "forecaster.fit(y=y, exog=exog)\n",
    "_ = runner.benchmark(ForecasterRecursive_predict, forecaster= forecaster)\n",
    "_ = runner.benchmark(ForecasterRecursive__create_predict_inputs, forecaster= forecaster)\n",
    "\n",
    "runner = BenchmarkRunner(repeat=5, output_dir=\"./\")\n",
    "_ = runner.benchmark(ForecasterRecursive_backtesting, forecaster= forecaster)"
   ]
  },
  {
   "cell_type": "code",
   "execution_count": 18,
   "metadata": {},
   "outputs": [
    {
     "data": {
      "application/vnd.microsoft.datawrangler.viewer.v0+json": {
       "columns": [
        {
         "name": "index",
         "rawType": "int64",
         "type": "integer"
        },
        {
         "name": "forecaster_name",
         "rawType": "object",
         "type": "string"
        },
        {
         "name": "regressor_name",
         "rawType": "object",
         "type": "string"
        },
        {
         "name": "function_name",
         "rawType": "object",
         "type": "string"
        },
        {
         "name": "function_hash",
         "rawType": "object",
         "type": "string"
        },
        {
         "name": "run_time_avg",
         "rawType": "float64",
         "type": "float"
        },
        {
         "name": "run_time_std_dev",
         "rawType": "float64",
         "type": "float"
        },
        {
         "name": "datetime",
         "rawType": "datetime64[ns]",
         "type": "datetime"
        },
        {
         "name": "python_version",
         "rawType": "object",
         "type": "string"
        },
        {
         "name": "skforecast_version",
         "rawType": "object",
         "type": "string"
        },
        {
         "name": "numpy_version",
         "rawType": "object",
         "type": "string"
        },
        {
         "name": "pandas_version",
         "rawType": "object",
         "type": "string"
        },
        {
         "name": "sklearn_version",
         "rawType": "object",
         "type": "string"
        },
        {
         "name": "lightgbm_version",
         "rawType": "object",
         "type": "string"
        },
        {
         "name": "platform",
         "rawType": "object",
         "type": "string"
        },
        {
         "name": "processor",
         "rawType": "object",
         "type": "string"
        },
        {
         "name": "cpu_count",
         "rawType": "int64",
         "type": "integer"
        },
        {
         "name": "memory_gb",
         "rawType": "float64",
         "type": "float"
        }
       ],
       "conversionMethod": "pd.DataFrame",
       "ref": "6f0e278c-1b12-42d7-b97c-c254bb9f663f",
       "rows": [
        [
         "8",
         "ForecasterRecursive",
         "LGBMRegressor",
         "ForecasterRecursive_fit",
         "3a6496af8f14196a05b301212de078f0",
         "0.20004566459992928",
         "0.021582108257661926",
         "2025-04-23 15:05:56.608429",
         "3.12.9",
         "0.16.0",
         "2.2.5",
         "2.2.3",
         "1.6.1",
         "4.6.0",
         "Linux-6.11.0-21-generic-x86_64-with-glibc2.39",
         "x86_64",
         "8",
         "16.64"
        ],
        [
         "20",
         "ForecasterRecursive",
         "LGBMRegressor",
         "ForecasterRecursive_fit",
         "3a6496af8f14196a05b301212de078f0",
         "0.19168488579998666",
         "0.04610227278035775",
         "2025-04-23 15:12:01.602347",
         "3.12.9",
         "0.15.1",
         "2.2.5",
         "2.2.3",
         "1.6.1",
         "4.6.0",
         "Linux-6.11.0-21-generic-x86_64-with-glibc2.39",
         "x86_64",
         "8",
         "16.64"
        ],
        [
         "32",
         "ForecasterRecursive",
         "LGBMRegressor",
         "ForecasterRecursive_fit",
         "3a6496af8f14196a05b301212de078f0",
         "0.20117437220014836",
         "0.04040134970397583",
         "2025-04-23 15:15:57.129152",
         "3.12.9",
         "0.14.0",
         "2.2.5",
         "2.2.3",
         "1.6.1",
         "4.6.0",
         "Linux-6.11.0-21-generic-x86_64-with-glibc2.39",
         "x86_64",
         "8",
         "16.64"
        ],
        [
         "44",
         "ForecasterAutoreg",
         "LGBMRegressor",
         "ForecasterRecursive_fit",
         "3a6496af8f14196a05b301212de078f0",
         "0.2364300502003971",
         "0.03953391176633617",
         "2025-04-23 15:31:29.965594",
         "3.12.9",
         "0.13.0",
         "2.2.5",
         "2.2.3",
         "1.6.1",
         "4.6.0",
         "Linux-6.11.0-21-generic-x86_64-with-glibc2.39",
         "x86_64",
         "8",
         "16.64"
        ],
        [
         "56",
         "ForecasterAutoreg",
         "LGBMRegressor",
         "ForecasterRecursive_fit",
         "3a6496af8f14196a05b301212de078f0",
         "0.2554304649998812",
         "0.06043131100746301",
         "2025-04-23 15:41:03.640028",
         "3.12.9",
         "0.13.0",
         "2.2.5",
         "2.2.3",
         "1.6.1",
         "4.6.0",
         "Linux-6.11.0-21-generic-x86_64-with-glibc2.39",
         "x86_64",
         "8",
         "16.64"
        ],
        [
         "60",
         "ForecasterAutoreg",
         "LGBMRegressor",
         "ForecasterRecursive_fit",
         "3a6496af8f14196a05b301212de078f0",
         "0.21746507419975386",
         "0.029840878269690212",
         "2025-04-23 15:46:05.440298",
         "3.12.9",
         "0.13.0",
         "2.2.5",
         "2.2.3",
         "1.6.1",
         "4.6.0",
         "Linux-6.11.0-21-generic-x86_64-with-glibc2.39",
         "x86_64",
         "8",
         "16.64"
        ],
        [
         "64",
         "ForecasterAutoreg",
         "LGBMRegressor",
         "ForecasterRecursive_fit",
         "3a6496af8f14196a05b301212de078f0",
         "0.21094307320036024",
         "0.030715529927138455",
         "2025-04-23 15:46:38.741227",
         "3.12.9",
         "0.13.0",
         "2.2.5",
         "2.2.3",
         "1.6.1",
         "4.6.0",
         "Linux-6.11.0-21-generic-x86_64-with-glibc2.39",
         "x86_64",
         "8",
         "16.64"
        ],
        [
         "76",
         "ForecasterRecursive",
         "LGBMRegressor",
         "ForecasterRecursive_fit",
         "3a6496af8f14196a05b301212de078f0",
         "0.27542679399975895",
         "0.03465689110389255",
         "2025-04-23 15:56:50.851427",
         "3.12.9",
         "0.14.0",
         "2.2.5",
         "2.2.3",
         "1.6.1",
         "4.6.0",
         "Linux-6.11.0-21-generic-x86_64-with-glibc2.39",
         "x86_64",
         "8",
         "16.64"
        ],
        [
         "88",
         "ForecasterRecursive",
         "LGBMRegressor",
         "ForecasterRecursive_fit",
         "3a6496af8f14196a05b301212de078f0",
         "0.2741355438996834",
         "0.0746945644295196",
         "2025-04-23 16:01:03.371465",
         "3.12.9",
         "0.15.1",
         "2.2.5",
         "2.2.3",
         "1.6.1",
         "4.6.0",
         "Linux-6.11.0-21-generic-x86_64-with-glibc2.39",
         "x86_64",
         "8",
         "16.64"
        ],
        [
         "100",
         "ForecasterRecursive",
         "LGBMRegressor",
         "ForecasterRecursive_fit",
         "3a6496af8f14196a05b301212de078f0",
         "0.19310888220024935",
         "0.022946933467731908",
         "2025-04-23 16:05:31.689260",
         "3.12.9",
         "0.15.1",
         "2.2.5",
         "2.2.3",
         "1.6.1",
         "4.6.0",
         "Linux-6.11.0-21-generic-x86_64-with-glibc2.39",
         "x86_64",
         "8",
         "16.64"
        ],
        [
         "112",
         "ForecasterRecursive",
         "LGBMRegressor",
         "ForecasterRecursive_fit",
         "3a6496af8f14196a05b301212de078f0",
         "0.2650022007001098",
         "0.047268272927227496",
         "2025-04-23 16:08:40.132074",
         "3.12.9",
         "0.16.0",
         "2.2.5",
         "2.2.3",
         "1.6.1",
         "4.6.0",
         "Linux-6.11.0-21-generic-x86_64-with-glibc2.39",
         "x86_64",
         "8",
         "16.64"
        ],
        [
         "124",
         "ForecasterRecursive",
         "LGBMRegressor",
         "ForecasterRecursive_fit",
         "3a6496af8f14196a05b301212de078f0",
         "0.21674900990019524",
         "0.03693928850645679",
         "2025-04-23 16:12:08.671273",
         "3.12.9",
         "0.16.0",
         "2.2.5",
         "2.2.3",
         "1.6.1",
         "4.6.0",
         "Linux-6.11.0-21-generic-x86_64-with-glibc2.39",
         "x86_64",
         "8",
         "16.64"
        ],
        [
         "129",
         "ForecasterRecursive",
         "LGBMRegressor",
         "ForecasterRecursive_fit",
         "3a6496af8f14196a05b301212de078f0",
         "0.17598675190020002",
         "0.0090151157640401",
         "2025-04-23 20:07:35.720916",
         "3.12.9",
         "0.16.0",
         "2.2.5",
         "2.2.3",
         "1.6.1",
         "4.6.0",
         "Linux-6.11.0-21-generic-x86_64-with-glibc2.39",
         "x86_64",
         "8",
         "16.64"
        ],
        [
         "144",
         "ForecasterRecursive",
         "LGBMRegressor",
         "ForecasterRecursive_fit",
         "3a6496af8f14196a05b301212de078f0",
         "0.22533184140011145",
         "0.037336705539465",
         "2025-04-23 20:15:09.318062",
         "3.12.9",
         "0.16.0",
         "2.2.5",
         "2.2.3",
         "1.6.1",
         "4.6.0",
         "Linux-6.11.0-21-generic-x86_64-with-glibc2.39",
         "x86_64",
         "8",
         "16.64"
        ],
        [
         "157",
         "ForecasterRecursive",
         "LGBMRegressor",
         "ForecasterRecursive_fit",
         "3a6496af8f14196a05b301212de078f0",
         "0.1830554640999253",
         "0.01490105071196854",
         "2025-04-23 20:22:36.622787",
         "3.12.9",
         "0.15.1",
         "2.2.5",
         "2.2.3",
         "1.6.1",
         "4.6.0",
         "Linux-6.11.0-21-generic-x86_64-with-glibc2.39",
         "x86_64",
         "8",
         "16.64"
        ],
        [
         "170",
         "ForecasterRecursive",
         "LGBMRegressor",
         "ForecasterRecursive_fit",
         "3a6496af8f14196a05b301212de078f0",
         "0.1856227411997679",
         "0.028715659069342984",
         "2025-04-23 22:04:06.916937",
         "3.12.9",
         "0.15.1",
         "2.2.5",
         "2.2.3",
         "1.6.1",
         "4.6.0",
         "Linux-6.11.0-21-generic-x86_64-with-glibc2.39",
         "x86_64",
         "8",
         "16.64"
        ],
        [
         "183",
         "ForecasterRecursive",
         "LGBMRegressor",
         "ForecasterRecursive_fit",
         "3a6496af8f14196a05b301212de078f0",
         "0.230507926599239",
         "0.062459858075797084",
         "2025-04-23 22:17:04.633888",
         "3.12.9",
         "0.14.0",
         "2.2.5",
         "2.2.3",
         "1.6.1",
         "4.6.0",
         "Linux-6.11.0-21-generic-x86_64-with-glibc2.39",
         "x86_64",
         "8",
         "16.64"
        ],
        [
         "196",
         "ForecasterRecursive",
         "LGBMRegressor",
         "ForecasterRecursive_fit",
         "3a6496af8f14196a05b301212de078f0",
         "0.23866968599977553",
         "0.035133752363728184",
         "2025-04-23 22:51:15.574093",
         "3.12.9",
         "0.14.0",
         "2.2.5",
         "2.2.3",
         "1.6.1",
         "4.6.0",
         "Linux-6.11.0-21-generic-x86_64-with-glibc2.39",
         "x86_64",
         "8",
         "16.64"
        ],
        [
         "211",
         "ForecasterRecursive",
         "LGBMRegressor",
         "ForecasterRecursive_fit",
         "3a6496af8f14196a05b301212de078f0",
         "0.2751201632010634",
         "0.07231850853741704",
         "2025-04-23 22:59:12.958399",
         "3.12.9",
         "0.16.0",
         "2.2.5",
         "2.2.3",
         "1.6.1",
         "4.6.0",
         "Linux-6.11.0-21-generic-x86_64-with-glibc2.39",
         "x86_64",
         "8",
         "16.64"
        ]
       ],
       "shape": {
        "columns": 17,
        "rows": 19
       }
      },
      "text/html": [
       "<div>\n",
       "<style scoped>\n",
       "    .dataframe tbody tr th:only-of-type {\n",
       "        vertical-align: middle;\n",
       "    }\n",
       "\n",
       "    .dataframe tbody tr th {\n",
       "        vertical-align: top;\n",
       "    }\n",
       "\n",
       "    .dataframe thead th {\n",
       "        text-align: right;\n",
       "    }\n",
       "</style>\n",
       "<table border=\"1\" class=\"dataframe\">\n",
       "  <thead>\n",
       "    <tr style=\"text-align: right;\">\n",
       "      <th></th>\n",
       "      <th>forecaster_name</th>\n",
       "      <th>regressor_name</th>\n",
       "      <th>function_name</th>\n",
       "      <th>function_hash</th>\n",
       "      <th>run_time_avg</th>\n",
       "      <th>run_time_std_dev</th>\n",
       "      <th>datetime</th>\n",
       "      <th>python_version</th>\n",
       "      <th>skforecast_version</th>\n",
       "      <th>numpy_version</th>\n",
       "      <th>pandas_version</th>\n",
       "      <th>sklearn_version</th>\n",
       "      <th>lightgbm_version</th>\n",
       "      <th>platform</th>\n",
       "      <th>processor</th>\n",
       "      <th>cpu_count</th>\n",
       "      <th>memory_gb</th>\n",
       "    </tr>\n",
       "  </thead>\n",
       "  <tbody>\n",
       "    <tr>\n",
       "      <th>8</th>\n",
       "      <td>ForecasterRecursive</td>\n",
       "      <td>LGBMRegressor</td>\n",
       "      <td>ForecasterRecursive_fit</td>\n",
       "      <td>3a6496af8f14196a05b301212de078f0</td>\n",
       "      <td>0.200046</td>\n",
       "      <td>0.021582</td>\n",
       "      <td>2025-04-23 15:05:56.608429</td>\n",
       "      <td>3.12.9</td>\n",
       "      <td>0.16.0</td>\n",
       "      <td>2.2.5</td>\n",
       "      <td>2.2.3</td>\n",
       "      <td>1.6.1</td>\n",
       "      <td>4.6.0</td>\n",
       "      <td>Linux-6.11.0-21-generic-x86_64-with-glibc2.39</td>\n",
       "      <td>x86_64</td>\n",
       "      <td>8</td>\n",
       "      <td>16.64</td>\n",
       "    </tr>\n",
       "    <tr>\n",
       "      <th>20</th>\n",
       "      <td>ForecasterRecursive</td>\n",
       "      <td>LGBMRegressor</td>\n",
       "      <td>ForecasterRecursive_fit</td>\n",
       "      <td>3a6496af8f14196a05b301212de078f0</td>\n",
       "      <td>0.191685</td>\n",
       "      <td>0.046102</td>\n",
       "      <td>2025-04-23 15:12:01.602347</td>\n",
       "      <td>3.12.9</td>\n",
       "      <td>0.15.1</td>\n",
       "      <td>2.2.5</td>\n",
       "      <td>2.2.3</td>\n",
       "      <td>1.6.1</td>\n",
       "      <td>4.6.0</td>\n",
       "      <td>Linux-6.11.0-21-generic-x86_64-with-glibc2.39</td>\n",
       "      <td>x86_64</td>\n",
       "      <td>8</td>\n",
       "      <td>16.64</td>\n",
       "    </tr>\n",
       "    <tr>\n",
       "      <th>32</th>\n",
       "      <td>ForecasterRecursive</td>\n",
       "      <td>LGBMRegressor</td>\n",
       "      <td>ForecasterRecursive_fit</td>\n",
       "      <td>3a6496af8f14196a05b301212de078f0</td>\n",
       "      <td>0.201174</td>\n",
       "      <td>0.040401</td>\n",
       "      <td>2025-04-23 15:15:57.129152</td>\n",
       "      <td>3.12.9</td>\n",
       "      <td>0.14.0</td>\n",
       "      <td>2.2.5</td>\n",
       "      <td>2.2.3</td>\n",
       "      <td>1.6.1</td>\n",
       "      <td>4.6.0</td>\n",
       "      <td>Linux-6.11.0-21-generic-x86_64-with-glibc2.39</td>\n",
       "      <td>x86_64</td>\n",
       "      <td>8</td>\n",
       "      <td>16.64</td>\n",
       "    </tr>\n",
       "    <tr>\n",
       "      <th>44</th>\n",
       "      <td>ForecasterAutoreg</td>\n",
       "      <td>LGBMRegressor</td>\n",
       "      <td>ForecasterRecursive_fit</td>\n",
       "      <td>3a6496af8f14196a05b301212de078f0</td>\n",
       "      <td>0.236430</td>\n",
       "      <td>0.039534</td>\n",
       "      <td>2025-04-23 15:31:29.965594</td>\n",
       "      <td>3.12.9</td>\n",
       "      <td>0.13.0</td>\n",
       "      <td>2.2.5</td>\n",
       "      <td>2.2.3</td>\n",
       "      <td>1.6.1</td>\n",
       "      <td>4.6.0</td>\n",
       "      <td>Linux-6.11.0-21-generic-x86_64-with-glibc2.39</td>\n",
       "      <td>x86_64</td>\n",
       "      <td>8</td>\n",
       "      <td>16.64</td>\n",
       "    </tr>\n",
       "    <tr>\n",
       "      <th>56</th>\n",
       "      <td>ForecasterAutoreg</td>\n",
       "      <td>LGBMRegressor</td>\n",
       "      <td>ForecasterRecursive_fit</td>\n",
       "      <td>3a6496af8f14196a05b301212de078f0</td>\n",
       "      <td>0.255430</td>\n",
       "      <td>0.060431</td>\n",
       "      <td>2025-04-23 15:41:03.640028</td>\n",
       "      <td>3.12.9</td>\n",
       "      <td>0.13.0</td>\n",
       "      <td>2.2.5</td>\n",
       "      <td>2.2.3</td>\n",
       "      <td>1.6.1</td>\n",
       "      <td>4.6.0</td>\n",
       "      <td>Linux-6.11.0-21-generic-x86_64-with-glibc2.39</td>\n",
       "      <td>x86_64</td>\n",
       "      <td>8</td>\n",
       "      <td>16.64</td>\n",
       "    </tr>\n",
       "    <tr>\n",
       "      <th>60</th>\n",
       "      <td>ForecasterAutoreg</td>\n",
       "      <td>LGBMRegressor</td>\n",
       "      <td>ForecasterRecursive_fit</td>\n",
       "      <td>3a6496af8f14196a05b301212de078f0</td>\n",
       "      <td>0.217465</td>\n",
       "      <td>0.029841</td>\n",
       "      <td>2025-04-23 15:46:05.440298</td>\n",
       "      <td>3.12.9</td>\n",
       "      <td>0.13.0</td>\n",
       "      <td>2.2.5</td>\n",
       "      <td>2.2.3</td>\n",
       "      <td>1.6.1</td>\n",
       "      <td>4.6.0</td>\n",
       "      <td>Linux-6.11.0-21-generic-x86_64-with-glibc2.39</td>\n",
       "      <td>x86_64</td>\n",
       "      <td>8</td>\n",
       "      <td>16.64</td>\n",
       "    </tr>\n",
       "    <tr>\n",
       "      <th>64</th>\n",
       "      <td>ForecasterAutoreg</td>\n",
       "      <td>LGBMRegressor</td>\n",
       "      <td>ForecasterRecursive_fit</td>\n",
       "      <td>3a6496af8f14196a05b301212de078f0</td>\n",
       "      <td>0.210943</td>\n",
       "      <td>0.030716</td>\n",
       "      <td>2025-04-23 15:46:38.741227</td>\n",
       "      <td>3.12.9</td>\n",
       "      <td>0.13.0</td>\n",
       "      <td>2.2.5</td>\n",
       "      <td>2.2.3</td>\n",
       "      <td>1.6.1</td>\n",
       "      <td>4.6.0</td>\n",
       "      <td>Linux-6.11.0-21-generic-x86_64-with-glibc2.39</td>\n",
       "      <td>x86_64</td>\n",
       "      <td>8</td>\n",
       "      <td>16.64</td>\n",
       "    </tr>\n",
       "    <tr>\n",
       "      <th>76</th>\n",
       "      <td>ForecasterRecursive</td>\n",
       "      <td>LGBMRegressor</td>\n",
       "      <td>ForecasterRecursive_fit</td>\n",
       "      <td>3a6496af8f14196a05b301212de078f0</td>\n",
       "      <td>0.275427</td>\n",
       "      <td>0.034657</td>\n",
       "      <td>2025-04-23 15:56:50.851427</td>\n",
       "      <td>3.12.9</td>\n",
       "      <td>0.14.0</td>\n",
       "      <td>2.2.5</td>\n",
       "      <td>2.2.3</td>\n",
       "      <td>1.6.1</td>\n",
       "      <td>4.6.0</td>\n",
       "      <td>Linux-6.11.0-21-generic-x86_64-with-glibc2.39</td>\n",
       "      <td>x86_64</td>\n",
       "      <td>8</td>\n",
       "      <td>16.64</td>\n",
       "    </tr>\n",
       "    <tr>\n",
       "      <th>88</th>\n",
       "      <td>ForecasterRecursive</td>\n",
       "      <td>LGBMRegressor</td>\n",
       "      <td>ForecasterRecursive_fit</td>\n",
       "      <td>3a6496af8f14196a05b301212de078f0</td>\n",
       "      <td>0.274136</td>\n",
       "      <td>0.074695</td>\n",
       "      <td>2025-04-23 16:01:03.371465</td>\n",
       "      <td>3.12.9</td>\n",
       "      <td>0.15.1</td>\n",
       "      <td>2.2.5</td>\n",
       "      <td>2.2.3</td>\n",
       "      <td>1.6.1</td>\n",
       "      <td>4.6.0</td>\n",
       "      <td>Linux-6.11.0-21-generic-x86_64-with-glibc2.39</td>\n",
       "      <td>x86_64</td>\n",
       "      <td>8</td>\n",
       "      <td>16.64</td>\n",
       "    </tr>\n",
       "    <tr>\n",
       "      <th>100</th>\n",
       "      <td>ForecasterRecursive</td>\n",
       "      <td>LGBMRegressor</td>\n",
       "      <td>ForecasterRecursive_fit</td>\n",
       "      <td>3a6496af8f14196a05b301212de078f0</td>\n",
       "      <td>0.193109</td>\n",
       "      <td>0.022947</td>\n",
       "      <td>2025-04-23 16:05:31.689260</td>\n",
       "      <td>3.12.9</td>\n",
       "      <td>0.15.1</td>\n",
       "      <td>2.2.5</td>\n",
       "      <td>2.2.3</td>\n",
       "      <td>1.6.1</td>\n",
       "      <td>4.6.0</td>\n",
       "      <td>Linux-6.11.0-21-generic-x86_64-with-glibc2.39</td>\n",
       "      <td>x86_64</td>\n",
       "      <td>8</td>\n",
       "      <td>16.64</td>\n",
       "    </tr>\n",
       "    <tr>\n",
       "      <th>112</th>\n",
       "      <td>ForecasterRecursive</td>\n",
       "      <td>LGBMRegressor</td>\n",
       "      <td>ForecasterRecursive_fit</td>\n",
       "      <td>3a6496af8f14196a05b301212de078f0</td>\n",
       "      <td>0.265002</td>\n",
       "      <td>0.047268</td>\n",
       "      <td>2025-04-23 16:08:40.132074</td>\n",
       "      <td>3.12.9</td>\n",
       "      <td>0.16.0</td>\n",
       "      <td>2.2.5</td>\n",
       "      <td>2.2.3</td>\n",
       "      <td>1.6.1</td>\n",
       "      <td>4.6.0</td>\n",
       "      <td>Linux-6.11.0-21-generic-x86_64-with-glibc2.39</td>\n",
       "      <td>x86_64</td>\n",
       "      <td>8</td>\n",
       "      <td>16.64</td>\n",
       "    </tr>\n",
       "    <tr>\n",
       "      <th>124</th>\n",
       "      <td>ForecasterRecursive</td>\n",
       "      <td>LGBMRegressor</td>\n",
       "      <td>ForecasterRecursive_fit</td>\n",
       "      <td>3a6496af8f14196a05b301212de078f0</td>\n",
       "      <td>0.216749</td>\n",
       "      <td>0.036939</td>\n",
       "      <td>2025-04-23 16:12:08.671273</td>\n",
       "      <td>3.12.9</td>\n",
       "      <td>0.16.0</td>\n",
       "      <td>2.2.5</td>\n",
       "      <td>2.2.3</td>\n",
       "      <td>1.6.1</td>\n",
       "      <td>4.6.0</td>\n",
       "      <td>Linux-6.11.0-21-generic-x86_64-with-glibc2.39</td>\n",
       "      <td>x86_64</td>\n",
       "      <td>8</td>\n",
       "      <td>16.64</td>\n",
       "    </tr>\n",
       "    <tr>\n",
       "      <th>129</th>\n",
       "      <td>ForecasterRecursive</td>\n",
       "      <td>LGBMRegressor</td>\n",
       "      <td>ForecasterRecursive_fit</td>\n",
       "      <td>3a6496af8f14196a05b301212de078f0</td>\n",
       "      <td>0.175987</td>\n",
       "      <td>0.009015</td>\n",
       "      <td>2025-04-23 20:07:35.720916</td>\n",
       "      <td>3.12.9</td>\n",
       "      <td>0.16.0</td>\n",
       "      <td>2.2.5</td>\n",
       "      <td>2.2.3</td>\n",
       "      <td>1.6.1</td>\n",
       "      <td>4.6.0</td>\n",
       "      <td>Linux-6.11.0-21-generic-x86_64-with-glibc2.39</td>\n",
       "      <td>x86_64</td>\n",
       "      <td>8</td>\n",
       "      <td>16.64</td>\n",
       "    </tr>\n",
       "    <tr>\n",
       "      <th>144</th>\n",
       "      <td>ForecasterRecursive</td>\n",
       "      <td>LGBMRegressor</td>\n",
       "      <td>ForecasterRecursive_fit</td>\n",
       "      <td>3a6496af8f14196a05b301212de078f0</td>\n",
       "      <td>0.225332</td>\n",
       "      <td>0.037337</td>\n",
       "      <td>2025-04-23 20:15:09.318062</td>\n",
       "      <td>3.12.9</td>\n",
       "      <td>0.16.0</td>\n",
       "      <td>2.2.5</td>\n",
       "      <td>2.2.3</td>\n",
       "      <td>1.6.1</td>\n",
       "      <td>4.6.0</td>\n",
       "      <td>Linux-6.11.0-21-generic-x86_64-with-glibc2.39</td>\n",
       "      <td>x86_64</td>\n",
       "      <td>8</td>\n",
       "      <td>16.64</td>\n",
       "    </tr>\n",
       "    <tr>\n",
       "      <th>157</th>\n",
       "      <td>ForecasterRecursive</td>\n",
       "      <td>LGBMRegressor</td>\n",
       "      <td>ForecasterRecursive_fit</td>\n",
       "      <td>3a6496af8f14196a05b301212de078f0</td>\n",
       "      <td>0.183055</td>\n",
       "      <td>0.014901</td>\n",
       "      <td>2025-04-23 20:22:36.622787</td>\n",
       "      <td>3.12.9</td>\n",
       "      <td>0.15.1</td>\n",
       "      <td>2.2.5</td>\n",
       "      <td>2.2.3</td>\n",
       "      <td>1.6.1</td>\n",
       "      <td>4.6.0</td>\n",
       "      <td>Linux-6.11.0-21-generic-x86_64-with-glibc2.39</td>\n",
       "      <td>x86_64</td>\n",
       "      <td>8</td>\n",
       "      <td>16.64</td>\n",
       "    </tr>\n",
       "    <tr>\n",
       "      <th>170</th>\n",
       "      <td>ForecasterRecursive</td>\n",
       "      <td>LGBMRegressor</td>\n",
       "      <td>ForecasterRecursive_fit</td>\n",
       "      <td>3a6496af8f14196a05b301212de078f0</td>\n",
       "      <td>0.185623</td>\n",
       "      <td>0.028716</td>\n",
       "      <td>2025-04-23 22:04:06.916937</td>\n",
       "      <td>3.12.9</td>\n",
       "      <td>0.15.1</td>\n",
       "      <td>2.2.5</td>\n",
       "      <td>2.2.3</td>\n",
       "      <td>1.6.1</td>\n",
       "      <td>4.6.0</td>\n",
       "      <td>Linux-6.11.0-21-generic-x86_64-with-glibc2.39</td>\n",
       "      <td>x86_64</td>\n",
       "      <td>8</td>\n",
       "      <td>16.64</td>\n",
       "    </tr>\n",
       "    <tr>\n",
       "      <th>183</th>\n",
       "      <td>ForecasterRecursive</td>\n",
       "      <td>LGBMRegressor</td>\n",
       "      <td>ForecasterRecursive_fit</td>\n",
       "      <td>3a6496af8f14196a05b301212de078f0</td>\n",
       "      <td>0.230508</td>\n",
       "      <td>0.062460</td>\n",
       "      <td>2025-04-23 22:17:04.633888</td>\n",
       "      <td>3.12.9</td>\n",
       "      <td>0.14.0</td>\n",
       "      <td>2.2.5</td>\n",
       "      <td>2.2.3</td>\n",
       "      <td>1.6.1</td>\n",
       "      <td>4.6.0</td>\n",
       "      <td>Linux-6.11.0-21-generic-x86_64-with-glibc2.39</td>\n",
       "      <td>x86_64</td>\n",
       "      <td>8</td>\n",
       "      <td>16.64</td>\n",
       "    </tr>\n",
       "    <tr>\n",
       "      <th>196</th>\n",
       "      <td>ForecasterRecursive</td>\n",
       "      <td>LGBMRegressor</td>\n",
       "      <td>ForecasterRecursive_fit</td>\n",
       "      <td>3a6496af8f14196a05b301212de078f0</td>\n",
       "      <td>0.238670</td>\n",
       "      <td>0.035134</td>\n",
       "      <td>2025-04-23 22:51:15.574093</td>\n",
       "      <td>3.12.9</td>\n",
       "      <td>0.14.0</td>\n",
       "      <td>2.2.5</td>\n",
       "      <td>2.2.3</td>\n",
       "      <td>1.6.1</td>\n",
       "      <td>4.6.0</td>\n",
       "      <td>Linux-6.11.0-21-generic-x86_64-with-glibc2.39</td>\n",
       "      <td>x86_64</td>\n",
       "      <td>8</td>\n",
       "      <td>16.64</td>\n",
       "    </tr>\n",
       "    <tr>\n",
       "      <th>211</th>\n",
       "      <td>ForecasterRecursive</td>\n",
       "      <td>LGBMRegressor</td>\n",
       "      <td>ForecasterRecursive_fit</td>\n",
       "      <td>3a6496af8f14196a05b301212de078f0</td>\n",
       "      <td>0.275120</td>\n",
       "      <td>0.072319</td>\n",
       "      <td>2025-04-23 22:59:12.958399</td>\n",
       "      <td>3.12.9</td>\n",
       "      <td>0.16.0</td>\n",
       "      <td>2.2.5</td>\n",
       "      <td>2.2.3</td>\n",
       "      <td>1.6.1</td>\n",
       "      <td>4.6.0</td>\n",
       "      <td>Linux-6.11.0-21-generic-x86_64-with-glibc2.39</td>\n",
       "      <td>x86_64</td>\n",
       "      <td>8</td>\n",
       "      <td>16.64</td>\n",
       "    </tr>\n",
       "  </tbody>\n",
       "</table>\n",
       "</div>"
      ],
      "text/plain": [
       "         forecaster_name regressor_name            function_name  \\\n",
       "8    ForecasterRecursive  LGBMRegressor  ForecasterRecursive_fit   \n",
       "20   ForecasterRecursive  LGBMRegressor  ForecasterRecursive_fit   \n",
       "32   ForecasterRecursive  LGBMRegressor  ForecasterRecursive_fit   \n",
       "44     ForecasterAutoreg  LGBMRegressor  ForecasterRecursive_fit   \n",
       "56     ForecasterAutoreg  LGBMRegressor  ForecasterRecursive_fit   \n",
       "60     ForecasterAutoreg  LGBMRegressor  ForecasterRecursive_fit   \n",
       "64     ForecasterAutoreg  LGBMRegressor  ForecasterRecursive_fit   \n",
       "76   ForecasterRecursive  LGBMRegressor  ForecasterRecursive_fit   \n",
       "88   ForecasterRecursive  LGBMRegressor  ForecasterRecursive_fit   \n",
       "100  ForecasterRecursive  LGBMRegressor  ForecasterRecursive_fit   \n",
       "112  ForecasterRecursive  LGBMRegressor  ForecasterRecursive_fit   \n",
       "124  ForecasterRecursive  LGBMRegressor  ForecasterRecursive_fit   \n",
       "129  ForecasterRecursive  LGBMRegressor  ForecasterRecursive_fit   \n",
       "144  ForecasterRecursive  LGBMRegressor  ForecasterRecursive_fit   \n",
       "157  ForecasterRecursive  LGBMRegressor  ForecasterRecursive_fit   \n",
       "170  ForecasterRecursive  LGBMRegressor  ForecasterRecursive_fit   \n",
       "183  ForecasterRecursive  LGBMRegressor  ForecasterRecursive_fit   \n",
       "196  ForecasterRecursive  LGBMRegressor  ForecasterRecursive_fit   \n",
       "211  ForecasterRecursive  LGBMRegressor  ForecasterRecursive_fit   \n",
       "\n",
       "                        function_hash  run_time_avg  run_time_std_dev  \\\n",
       "8    3a6496af8f14196a05b301212de078f0      0.200046          0.021582   \n",
       "20   3a6496af8f14196a05b301212de078f0      0.191685          0.046102   \n",
       "32   3a6496af8f14196a05b301212de078f0      0.201174          0.040401   \n",
       "44   3a6496af8f14196a05b301212de078f0      0.236430          0.039534   \n",
       "56   3a6496af8f14196a05b301212de078f0      0.255430          0.060431   \n",
       "60   3a6496af8f14196a05b301212de078f0      0.217465          0.029841   \n",
       "64   3a6496af8f14196a05b301212de078f0      0.210943          0.030716   \n",
       "76   3a6496af8f14196a05b301212de078f0      0.275427          0.034657   \n",
       "88   3a6496af8f14196a05b301212de078f0      0.274136          0.074695   \n",
       "100  3a6496af8f14196a05b301212de078f0      0.193109          0.022947   \n",
       "112  3a6496af8f14196a05b301212de078f0      0.265002          0.047268   \n",
       "124  3a6496af8f14196a05b301212de078f0      0.216749          0.036939   \n",
       "129  3a6496af8f14196a05b301212de078f0      0.175987          0.009015   \n",
       "144  3a6496af8f14196a05b301212de078f0      0.225332          0.037337   \n",
       "157  3a6496af8f14196a05b301212de078f0      0.183055          0.014901   \n",
       "170  3a6496af8f14196a05b301212de078f0      0.185623          0.028716   \n",
       "183  3a6496af8f14196a05b301212de078f0      0.230508          0.062460   \n",
       "196  3a6496af8f14196a05b301212de078f0      0.238670          0.035134   \n",
       "211  3a6496af8f14196a05b301212de078f0      0.275120          0.072319   \n",
       "\n",
       "                      datetime python_version skforecast_version  \\\n",
       "8   2025-04-23 15:05:56.608429         3.12.9             0.16.0   \n",
       "20  2025-04-23 15:12:01.602347         3.12.9             0.15.1   \n",
       "32  2025-04-23 15:15:57.129152         3.12.9             0.14.0   \n",
       "44  2025-04-23 15:31:29.965594         3.12.9             0.13.0   \n",
       "56  2025-04-23 15:41:03.640028         3.12.9             0.13.0   \n",
       "60  2025-04-23 15:46:05.440298         3.12.9             0.13.0   \n",
       "64  2025-04-23 15:46:38.741227         3.12.9             0.13.0   \n",
       "76  2025-04-23 15:56:50.851427         3.12.9             0.14.0   \n",
       "88  2025-04-23 16:01:03.371465         3.12.9             0.15.1   \n",
       "100 2025-04-23 16:05:31.689260         3.12.9             0.15.1   \n",
       "112 2025-04-23 16:08:40.132074         3.12.9             0.16.0   \n",
       "124 2025-04-23 16:12:08.671273         3.12.9             0.16.0   \n",
       "129 2025-04-23 20:07:35.720916         3.12.9             0.16.0   \n",
       "144 2025-04-23 20:15:09.318062         3.12.9             0.16.0   \n",
       "157 2025-04-23 20:22:36.622787         3.12.9             0.15.1   \n",
       "170 2025-04-23 22:04:06.916937         3.12.9             0.15.1   \n",
       "183 2025-04-23 22:17:04.633888         3.12.9             0.14.0   \n",
       "196 2025-04-23 22:51:15.574093         3.12.9             0.14.0   \n",
       "211 2025-04-23 22:59:12.958399         3.12.9             0.16.0   \n",
       "\n",
       "    numpy_version pandas_version sklearn_version lightgbm_version  \\\n",
       "8           2.2.5          2.2.3           1.6.1            4.6.0   \n",
       "20          2.2.5          2.2.3           1.6.1            4.6.0   \n",
       "32          2.2.5          2.2.3           1.6.1            4.6.0   \n",
       "44          2.2.5          2.2.3           1.6.1            4.6.0   \n",
       "56          2.2.5          2.2.3           1.6.1            4.6.0   \n",
       "60          2.2.5          2.2.3           1.6.1            4.6.0   \n",
       "64          2.2.5          2.2.3           1.6.1            4.6.0   \n",
       "76          2.2.5          2.2.3           1.6.1            4.6.0   \n",
       "88          2.2.5          2.2.3           1.6.1            4.6.0   \n",
       "100         2.2.5          2.2.3           1.6.1            4.6.0   \n",
       "112         2.2.5          2.2.3           1.6.1            4.6.0   \n",
       "124         2.2.5          2.2.3           1.6.1            4.6.0   \n",
       "129         2.2.5          2.2.3           1.6.1            4.6.0   \n",
       "144         2.2.5          2.2.3           1.6.1            4.6.0   \n",
       "157         2.2.5          2.2.3           1.6.1            4.6.0   \n",
       "170         2.2.5          2.2.3           1.6.1            4.6.0   \n",
       "183         2.2.5          2.2.3           1.6.1            4.6.0   \n",
       "196         2.2.5          2.2.3           1.6.1            4.6.0   \n",
       "211         2.2.5          2.2.3           1.6.1            4.6.0   \n",
       "\n",
       "                                          platform processor  cpu_count  \\\n",
       "8    Linux-6.11.0-21-generic-x86_64-with-glibc2.39    x86_64          8   \n",
       "20   Linux-6.11.0-21-generic-x86_64-with-glibc2.39    x86_64          8   \n",
       "32   Linux-6.11.0-21-generic-x86_64-with-glibc2.39    x86_64          8   \n",
       "44   Linux-6.11.0-21-generic-x86_64-with-glibc2.39    x86_64          8   \n",
       "56   Linux-6.11.0-21-generic-x86_64-with-glibc2.39    x86_64          8   \n",
       "60   Linux-6.11.0-21-generic-x86_64-with-glibc2.39    x86_64          8   \n",
       "64   Linux-6.11.0-21-generic-x86_64-with-glibc2.39    x86_64          8   \n",
       "76   Linux-6.11.0-21-generic-x86_64-with-glibc2.39    x86_64          8   \n",
       "88   Linux-6.11.0-21-generic-x86_64-with-glibc2.39    x86_64          8   \n",
       "100  Linux-6.11.0-21-generic-x86_64-with-glibc2.39    x86_64          8   \n",
       "112  Linux-6.11.0-21-generic-x86_64-with-glibc2.39    x86_64          8   \n",
       "124  Linux-6.11.0-21-generic-x86_64-with-glibc2.39    x86_64          8   \n",
       "129  Linux-6.11.0-21-generic-x86_64-with-glibc2.39    x86_64          8   \n",
       "144  Linux-6.11.0-21-generic-x86_64-with-glibc2.39    x86_64          8   \n",
       "157  Linux-6.11.0-21-generic-x86_64-with-glibc2.39    x86_64          8   \n",
       "170  Linux-6.11.0-21-generic-x86_64-with-glibc2.39    x86_64          8   \n",
       "183  Linux-6.11.0-21-generic-x86_64-with-glibc2.39    x86_64          8   \n",
       "196  Linux-6.11.0-21-generic-x86_64-with-glibc2.39    x86_64          8   \n",
       "211  Linux-6.11.0-21-generic-x86_64-with-glibc2.39    x86_64          8   \n",
       "\n",
       "     memory_gb  \n",
       "8        16.64  \n",
       "20       16.64  \n",
       "32       16.64  \n",
       "44       16.64  \n",
       "56       16.64  \n",
       "60       16.64  \n",
       "64       16.64  \n",
       "76       16.64  \n",
       "88       16.64  \n",
       "100      16.64  \n",
       "112      16.64  \n",
       "124      16.64  \n",
       "129      16.64  \n",
       "144      16.64  \n",
       "157      16.64  \n",
       "170      16.64  \n",
       "183      16.64  \n",
       "196      16.64  \n",
       "211      16.64  "
      ]
     },
     "metadata": {},
     "output_type": "display_data"
    },
    {
     "data": {
      "application/vnd.plotly.v1+json": {
       "config": {
        "plotlyServerURL": "https://plot.ly"
       },
       "data": [
        {
         "error_y": {
          "array": {
           "bdata": "NR099Mk9pD8f6NxQ2vCuP0tKAnGbjp4/BMMQUuRznz8=",
           "dtype": "f8"
          },
          "color": "#636EFA",
          "thickness": 1.5,
          "type": "data",
          "visible": true,
          "width": 5
         },
         "hovertemplate": "%{text}<extra></extra>",
         "marker": {
          "color": "#636EFA",
          "opacity": 0.7,
          "size": 10
         },
         "mode": "markers",
         "name": "Run time - 0.13.0",
         "showlegend": true,
         "text": [
          "Forecaster: ForecasterAutoreg<br>Regressor: LGBMRegressor<br>Function: ForecasterRecursive_fit<br>Function_hash: 3a6496af8f14196a05b301212de078f0<br>Datetime: 2025-04-23 15:31:29.965594<br>Python version: 3.12.9<br>skforecast version: 0.13.0<br>numpy version: 2.2.5<br>pandas version: 2.2.3<br>sklearn version: 1.6.1<br>lightgbm version: 4.6.0<br>Platform: Linux-6.11.0-21-generic-x86_64-with-glibc2.39<br>Processor: x86_64<br>CPU count: 8<br>Memory (GB): 16.64<br>",
          "Forecaster: ForecasterAutoreg<br>Regressor: LGBMRegressor<br>Function: ForecasterRecursive_fit<br>Function_hash: 3a6496af8f14196a05b301212de078f0<br>Datetime: 2025-04-23 15:41:03.640028<br>Python version: 3.12.9<br>skforecast version: 0.13.0<br>numpy version: 2.2.5<br>pandas version: 2.2.3<br>sklearn version: 1.6.1<br>lightgbm version: 4.6.0<br>Platform: Linux-6.11.0-21-generic-x86_64-with-glibc2.39<br>Processor: x86_64<br>CPU count: 8<br>Memory (GB): 16.64<br>",
          "Forecaster: ForecasterAutoreg<br>Regressor: LGBMRegressor<br>Function: ForecasterRecursive_fit<br>Function_hash: 3a6496af8f14196a05b301212de078f0<br>Datetime: 2025-04-23 15:46:05.440298<br>Python version: 3.12.9<br>skforecast version: 0.13.0<br>numpy version: 2.2.5<br>pandas version: 2.2.3<br>sklearn version: 1.6.1<br>lightgbm version: 4.6.0<br>Platform: Linux-6.11.0-21-generic-x86_64-with-glibc2.39<br>Processor: x86_64<br>CPU count: 8<br>Memory (GB): 16.64<br>",
          "Forecaster: ForecasterAutoreg<br>Regressor: LGBMRegressor<br>Function: ForecasterRecursive_fit<br>Function_hash: 3a6496af8f14196a05b301212de078f0<br>Datetime: 2025-04-23 15:46:38.741227<br>Python version: 3.12.9<br>skforecast version: 0.13.0<br>numpy version: 2.2.5<br>pandas version: 2.2.3<br>sklearn version: 1.6.1<br>lightgbm version: 4.6.0<br>Platform: Linux-6.11.0-21-generic-x86_64-with-glibc2.39<br>Processor: x86_64<br>CPU count: 8<br>Memory (GB): 16.64<br>"
         ],
         "type": "scatter",
         "x": {
          "bdata": "fByzX9/Fir9AKClBT8iAPwyt5c8ZpoA/hj3Rm6N3pT8=",
          "dtype": "f8"
         },
         "y": {
          "bdata": "AICzAldDzj9m5mQF+VjQP2bm2kLl1cs/zUxbwC4Ayz8=",
          "dtype": "f8"
         }
        },
        {
         "error_y": {
          "array": {
           "bdata": "VbtiV3yvpD/Ll75LjL6hP7GkxhoN/aE/uid/D736rz8=",
           "dtype": "f8"
          },
          "color": "#EF553B",
          "thickness": 1.5,
          "type": "data",
          "visible": true,
          "width": 5
         },
         "hovertemplate": "%{text}<extra></extra>",
         "marker": {
          "color": "#EF553B",
          "opacity": 0.7,
          "size": 10
         },
         "mode": "markers",
         "name": "Run time - 0.14.0",
         "showlegend": true,
         "text": [
          "Forecaster: ForecasterRecursive<br>Regressor: LGBMRegressor<br>Function: ForecasterRecursive_fit<br>Function_hash: 3a6496af8f14196a05b301212de078f0<br>Datetime: 2025-04-23 15:15:57.129152<br>Python version: 3.12.9<br>skforecast version: 0.14.0<br>numpy version: 2.2.5<br>pandas version: 2.2.3<br>sklearn version: 1.6.1<br>lightgbm version: 4.6.0<br>Platform: Linux-6.11.0-21-generic-x86_64-with-glibc2.39<br>Processor: x86_64<br>CPU count: 8<br>Memory (GB): 16.64<br>",
          "Forecaster: ForecasterRecursive<br>Regressor: LGBMRegressor<br>Function: ForecasterRecursive_fit<br>Function_hash: 3a6496af8f14196a05b301212de078f0<br>Datetime: 2025-04-23 15:56:50.851427<br>Python version: 3.12.9<br>skforecast version: 0.14.0<br>numpy version: 2.2.5<br>pandas version: 2.2.3<br>sklearn version: 1.6.1<br>lightgbm version: 4.6.0<br>Platform: Linux-6.11.0-21-generic-x86_64-with-glibc2.39<br>Processor: x86_64<br>CPU count: 8<br>Memory (GB): 16.64<br>",
          "Forecaster: ForecasterRecursive<br>Regressor: LGBMRegressor<br>Function: ForecasterRecursive_fit<br>Function_hash: 3a6496af8f14196a05b301212de078f0<br>Datetime: 2025-04-23 22:51:15.574093<br>Python version: 3.12.9<br>skforecast version: 0.14.0<br>numpy version: 2.2.5<br>pandas version: 2.2.3<br>sklearn version: 1.6.1<br>lightgbm version: 4.6.0<br>Platform: Linux-6.11.0-21-generic-x86_64-with-glibc2.39<br>Processor: x86_64<br>CPU count: 8<br>Memory (GB): 16.64<br>",
          "Forecaster: ForecasterRecursive<br>Regressor: LGBMRegressor<br>Function: ForecasterRecursive_fit<br>Function_hash: 3a6496af8f14196a05b301212de078f0<br>Datetime: 2025-04-23 22:17:04.633888<br>Python version: 3.12.9<br>skforecast version: 0.14.0<br>numpy version: 2.2.5<br>pandas version: 2.2.3<br>sklearn version: 1.6.1<br>lightgbm version: 4.6.0<br>Platform: Linux-6.11.0-21-generic-x86_64-with-glibc2.39<br>Processor: x86_64<br>CPU count: 8<br>Memory (GB): 16.64<br>"
         ],
         "type": "scatter",
         "x": {
          "bdata": "R887kefC7j+9ao9gHibvP3gqgQusV/A/COgJglZ28D8=",
          "dtype": "f8"
         },
         "y": {
          "bdata": "zUyy8hTAyT8z8yq0l6DRPzMz9W+6jM4/MzMbo0iBzT8=",
          "dtype": "f8"
         }
        },
        {
         "error_y": {
          "array": {
           "bdata": "P0smo2Z/lz8Ez7mTt5qnP6DradcuH7M/0flXQqNnnT8xHd8rcYSOPw==",
           "dtype": "f8"
          },
          "color": "#00CC96",
          "thickness": 1.5,
          "type": "data",
          "visible": true,
          "width": 5
         },
         "hovertemplate": "%{text}<extra></extra>",
         "marker": {
          "color": "#00CC96",
          "opacity": 0.7,
          "size": 10
         },
         "mode": "markers",
         "name": "Run time - 0.15.1",
         "showlegend": true,
         "text": [
          "Forecaster: ForecasterRecursive<br>Regressor: LGBMRegressor<br>Function: ForecasterRecursive_fit<br>Function_hash: 3a6496af8f14196a05b301212de078f0<br>Datetime: 2025-04-23 16:05:31.689260<br>Python version: 3.12.9<br>skforecast version: 0.15.1<br>numpy version: 2.2.5<br>pandas version: 2.2.3<br>sklearn version: 1.6.1<br>lightgbm version: 4.6.0<br>Platform: Linux-6.11.0-21-generic-x86_64-with-glibc2.39<br>Processor: x86_64<br>CPU count: 8<br>Memory (GB): 16.64<br>",
          "Forecaster: ForecasterRecursive<br>Regressor: LGBMRegressor<br>Function: ForecasterRecursive_fit<br>Function_hash: 3a6496af8f14196a05b301212de078f0<br>Datetime: 2025-04-23 15:12:01.602347<br>Python version: 3.12.9<br>skforecast version: 0.15.1<br>numpy version: 2.2.5<br>pandas version: 2.2.3<br>sklearn version: 1.6.1<br>lightgbm version: 4.6.0<br>Platform: Linux-6.11.0-21-generic-x86_64-with-glibc2.39<br>Processor: x86_64<br>CPU count: 8<br>Memory (GB): 16.64<br>",
          "Forecaster: ForecasterRecursive<br>Regressor: LGBMRegressor<br>Function: ForecasterRecursive_fit<br>Function_hash: 3a6496af8f14196a05b301212de078f0<br>Datetime: 2025-04-23 16:01:03.371465<br>Python version: 3.12.9<br>skforecast version: 0.15.1<br>numpy version: 2.2.5<br>pandas version: 2.2.3<br>sklearn version: 1.6.1<br>lightgbm version: 4.6.0<br>Platform: Linux-6.11.0-21-generic-x86_64-with-glibc2.39<br>Processor: x86_64<br>CPU count: 8<br>Memory (GB): 16.64<br>",
          "Forecaster: ForecasterRecursive<br>Regressor: LGBMRegressor<br>Function: ForecasterRecursive_fit<br>Function_hash: 3a6496af8f14196a05b301212de078f0<br>Datetime: 2025-04-23 22:04:06.916937<br>Python version: 3.12.9<br>skforecast version: 0.15.1<br>numpy version: 2.2.5<br>pandas version: 2.2.3<br>sklearn version: 1.6.1<br>lightgbm version: 4.6.0<br>Platform: Linux-6.11.0-21-generic-x86_64-with-glibc2.39<br>Processor: x86_64<br>CPU count: 8<br>Memory (GB): 16.64<br>",
          "Forecaster: ForecasterRecursive<br>Regressor: LGBMRegressor<br>Function: ForecasterRecursive_fit<br>Function_hash: 3a6496af8f14196a05b301212de078f0<br>Datetime: 2025-04-23 20:22:36.622787<br>Python version: 3.12.9<br>skforecast version: 0.15.1<br>numpy version: 2.2.5<br>pandas version: 2.2.3<br>sklearn version: 1.6.1<br>lightgbm version: 4.6.0<br>Platform: Linux-6.11.0-21-generic-x86_64-with-glibc2.39<br>Processor: x86_64<br>CPU count: 8<br>Memory (GB): 16.64<br>"
         ],
         "type": "scatter",
         "x": {
          "bdata": "s9pDwPj3/z/dcUayVjQAQLs51lKIUABAwFSMOCUtAED06Y867kEAQA==",
          "dtype": "f8"
         },
         "y": {
          "bdata": "AADPtsq3yD8AANNdIYnIP5oZ7s5vi9E/ZmZsaXzCxz9m5tSHXG7HPw==",
          "dtype": "f8"
         }
        },
        {
         "error_y": {
          "array": {
           "bdata": "/eCUxJ4Zlj9weAJbhHaCP0E+Jdi06aI/lcC4DIwzqD8Q+3byyx2jP9dOED13g7I/",
           "dtype": "f8"
          },
          "color": "#AB63FA",
          "thickness": 1.5,
          "type": "data",
          "visible": true,
          "width": 5
         },
         "hovertemplate": "%{text}<extra></extra>",
         "marker": {
          "color": "#AB63FA",
          "opacity": 0.7,
          "size": 10
         },
         "mode": "markers",
         "name": "Run time - 0.16.0",
         "showlegend": true,
         "text": [
          "Forecaster: ForecasterRecursive<br>Regressor: LGBMRegressor<br>Function: ForecasterRecursive_fit<br>Function_hash: 3a6496af8f14196a05b301212de078f0<br>Datetime: 2025-04-23 15:05:56.608429<br>Python version: 3.12.9<br>skforecast version: 0.16.0<br>numpy version: 2.2.5<br>pandas version: 2.2.3<br>sklearn version: 1.6.1<br>lightgbm version: 4.6.0<br>Platform: Linux-6.11.0-21-generic-x86_64-with-glibc2.39<br>Processor: x86_64<br>CPU count: 8<br>Memory (GB): 16.64<br>",
          "Forecaster: ForecasterRecursive<br>Regressor: LGBMRegressor<br>Function: ForecasterRecursive_fit<br>Function_hash: 3a6496af8f14196a05b301212de078f0<br>Datetime: 2025-04-23 20:07:35.720916<br>Python version: 3.12.9<br>skforecast version: 0.16.0<br>numpy version: 2.2.5<br>pandas version: 2.2.3<br>sklearn version: 1.6.1<br>lightgbm version: 4.6.0<br>Platform: Linux-6.11.0-21-generic-x86_64-with-glibc2.39<br>Processor: x86_64<br>CPU count: 8<br>Memory (GB): 16.64<br>",
          "Forecaster: ForecasterRecursive<br>Regressor: LGBMRegressor<br>Function: ForecasterRecursive_fit<br>Function_hash: 3a6496af8f14196a05b301212de078f0<br>Datetime: 2025-04-23 16:12:08.671273<br>Python version: 3.12.9<br>skforecast version: 0.16.0<br>numpy version: 2.2.5<br>pandas version: 2.2.3<br>sklearn version: 1.6.1<br>lightgbm version: 4.6.0<br>Platform: Linux-6.11.0-21-generic-x86_64-with-glibc2.39<br>Processor: x86_64<br>CPU count: 8<br>Memory (GB): 16.64<br>",
          "Forecaster: ForecasterRecursive<br>Regressor: LGBMRegressor<br>Function: ForecasterRecursive_fit<br>Function_hash: 3a6496af8f14196a05b301212de078f0<br>Datetime: 2025-04-23 16:08:40.132074<br>Python version: 3.12.9<br>skforecast version: 0.16.0<br>numpy version: 2.2.5<br>pandas version: 2.2.3<br>sklearn version: 1.6.1<br>lightgbm version: 4.6.0<br>Platform: Linux-6.11.0-21-generic-x86_64-with-glibc2.39<br>Processor: x86_64<br>CPU count: 8<br>Memory (GB): 16.64<br>",
          "Forecaster: ForecasterRecursive<br>Regressor: LGBMRegressor<br>Function: ForecasterRecursive_fit<br>Function_hash: 3a6496af8f14196a05b301212de078f0<br>Datetime: 2025-04-23 20:15:09.318062<br>Python version: 3.12.9<br>skforecast version: 0.16.0<br>numpy version: 2.2.5<br>pandas version: 2.2.3<br>sklearn version: 1.6.1<br>lightgbm version: 4.6.0<br>Platform: Linux-6.11.0-21-generic-x86_64-with-glibc2.39<br>Processor: x86_64<br>CPU count: 8<br>Memory (GB): 16.64<br>",
          "Forecaster: ForecasterRecursive<br>Regressor: LGBMRegressor<br>Function: ForecasterRecursive_fit<br>Function_hash: 3a6496af8f14196a05b301212de078f0<br>Datetime: 2025-04-23 22:59:12.958399<br>Python version: 3.12.9<br>skforecast version: 0.16.0<br>numpy version: 2.2.5<br>pandas version: 2.2.3<br>sklearn version: 1.6.1<br>lightgbm version: 4.6.0<br>Platform: Linux-6.11.0-21-generic-x86_64-with-glibc2.39<br>Processor: x86_64<br>CPU count: 8<br>Memory (GB): 16.64<br>"
         ],
         "type": "scatter",
         "x": {
          "bdata": "O21cSeg6CEAq4w44tEMIQELsNhCxCAhA87Jsk5y6B0AOclqACaYHQNkZK3SLTwhA",
          "dtype": "f8"
         },
         "y": {
          "bdata": "ZuaUqRibyT9mZvjfu4bGP5oZe3puvss/AABYysv10D/NzMd8rNfMP83M2pmRm9E/",
          "dtype": "f8"
         }
        },
        {
         "line": {
          "color": "black",
          "width": 2
         },
         "marker": {
          "color": "black",
          "size": 8
         },
         "mode": "lines+markers",
         "name": "Median (per version)",
         "type": "scatter",
         "x": {
          "bdata": "AAECAw==",
          "dtype": "i1"
         },
         "y": {
          "bdata": "MzPHIp4MzT8zM4iJAQfOPwAA010hicg/NHOhew1LzD8=",
          "dtype": "f8"
         }
        }
       ],
       "layout": {
        "showlegend": true,
        "template": {
         "data": {
          "bar": [
           {
            "error_x": {
             "color": "#2a3f5f"
            },
            "error_y": {
             "color": "#2a3f5f"
            },
            "marker": {
             "line": {
              "color": "#E5ECF6",
              "width": 0.5
             },
             "pattern": {
              "fillmode": "overlay",
              "size": 10,
              "solidity": 0.2
             }
            },
            "type": "bar"
           }
          ],
          "barpolar": [
           {
            "marker": {
             "line": {
              "color": "#E5ECF6",
              "width": 0.5
             },
             "pattern": {
              "fillmode": "overlay",
              "size": 10,
              "solidity": 0.2
             }
            },
            "type": "barpolar"
           }
          ],
          "carpet": [
           {
            "aaxis": {
             "endlinecolor": "#2a3f5f",
             "gridcolor": "white",
             "linecolor": "white",
             "minorgridcolor": "white",
             "startlinecolor": "#2a3f5f"
            },
            "baxis": {
             "endlinecolor": "#2a3f5f",
             "gridcolor": "white",
             "linecolor": "white",
             "minorgridcolor": "white",
             "startlinecolor": "#2a3f5f"
            },
            "type": "carpet"
           }
          ],
          "choropleth": [
           {
            "colorbar": {
             "outlinewidth": 0,
             "ticks": ""
            },
            "type": "choropleth"
           }
          ],
          "contour": [
           {
            "colorbar": {
             "outlinewidth": 0,
             "ticks": ""
            },
            "colorscale": [
             [
              0,
              "#0d0887"
             ],
             [
              0.1111111111111111,
              "#46039f"
             ],
             [
              0.2222222222222222,
              "#7201a8"
             ],
             [
              0.3333333333333333,
              "#9c179e"
             ],
             [
              0.4444444444444444,
              "#bd3786"
             ],
             [
              0.5555555555555556,
              "#d8576b"
             ],
             [
              0.6666666666666666,
              "#ed7953"
             ],
             [
              0.7777777777777778,
              "#fb9f3a"
             ],
             [
              0.8888888888888888,
              "#fdca26"
             ],
             [
              1,
              "#f0f921"
             ]
            ],
            "type": "contour"
           }
          ],
          "contourcarpet": [
           {
            "colorbar": {
             "outlinewidth": 0,
             "ticks": ""
            },
            "type": "contourcarpet"
           }
          ],
          "heatmap": [
           {
            "colorbar": {
             "outlinewidth": 0,
             "ticks": ""
            },
            "colorscale": [
             [
              0,
              "#0d0887"
             ],
             [
              0.1111111111111111,
              "#46039f"
             ],
             [
              0.2222222222222222,
              "#7201a8"
             ],
             [
              0.3333333333333333,
              "#9c179e"
             ],
             [
              0.4444444444444444,
              "#bd3786"
             ],
             [
              0.5555555555555556,
              "#d8576b"
             ],
             [
              0.6666666666666666,
              "#ed7953"
             ],
             [
              0.7777777777777778,
              "#fb9f3a"
             ],
             [
              0.8888888888888888,
              "#fdca26"
             ],
             [
              1,
              "#f0f921"
             ]
            ],
            "type": "heatmap"
           }
          ],
          "histogram": [
           {
            "marker": {
             "pattern": {
              "fillmode": "overlay",
              "size": 10,
              "solidity": 0.2
             }
            },
            "type": "histogram"
           }
          ],
          "histogram2d": [
           {
            "colorbar": {
             "outlinewidth": 0,
             "ticks": ""
            },
            "colorscale": [
             [
              0,
              "#0d0887"
             ],
             [
              0.1111111111111111,
              "#46039f"
             ],
             [
              0.2222222222222222,
              "#7201a8"
             ],
             [
              0.3333333333333333,
              "#9c179e"
             ],
             [
              0.4444444444444444,
              "#bd3786"
             ],
             [
              0.5555555555555556,
              "#d8576b"
             ],
             [
              0.6666666666666666,
              "#ed7953"
             ],
             [
              0.7777777777777778,
              "#fb9f3a"
             ],
             [
              0.8888888888888888,
              "#fdca26"
             ],
             [
              1,
              "#f0f921"
             ]
            ],
            "type": "histogram2d"
           }
          ],
          "histogram2dcontour": [
           {
            "colorbar": {
             "outlinewidth": 0,
             "ticks": ""
            },
            "colorscale": [
             [
              0,
              "#0d0887"
             ],
             [
              0.1111111111111111,
              "#46039f"
             ],
             [
              0.2222222222222222,
              "#7201a8"
             ],
             [
              0.3333333333333333,
              "#9c179e"
             ],
             [
              0.4444444444444444,
              "#bd3786"
             ],
             [
              0.5555555555555556,
              "#d8576b"
             ],
             [
              0.6666666666666666,
              "#ed7953"
             ],
             [
              0.7777777777777778,
              "#fb9f3a"
             ],
             [
              0.8888888888888888,
              "#fdca26"
             ],
             [
              1,
              "#f0f921"
             ]
            ],
            "type": "histogram2dcontour"
           }
          ],
          "mesh3d": [
           {
            "colorbar": {
             "outlinewidth": 0,
             "ticks": ""
            },
            "type": "mesh3d"
           }
          ],
          "parcoords": [
           {
            "line": {
             "colorbar": {
              "outlinewidth": 0,
              "ticks": ""
             }
            },
            "type": "parcoords"
           }
          ],
          "pie": [
           {
            "automargin": true,
            "type": "pie"
           }
          ],
          "scatter": [
           {
            "fillpattern": {
             "fillmode": "overlay",
             "size": 10,
             "solidity": 0.2
            },
            "type": "scatter"
           }
          ],
          "scatter3d": [
           {
            "line": {
             "colorbar": {
              "outlinewidth": 0,
              "ticks": ""
             }
            },
            "marker": {
             "colorbar": {
              "outlinewidth": 0,
              "ticks": ""
             }
            },
            "type": "scatter3d"
           }
          ],
          "scattercarpet": [
           {
            "marker": {
             "colorbar": {
              "outlinewidth": 0,
              "ticks": ""
             }
            },
            "type": "scattercarpet"
           }
          ],
          "scattergeo": [
           {
            "marker": {
             "colorbar": {
              "outlinewidth": 0,
              "ticks": ""
             }
            },
            "type": "scattergeo"
           }
          ],
          "scattergl": [
           {
            "marker": {
             "colorbar": {
              "outlinewidth": 0,
              "ticks": ""
             }
            },
            "type": "scattergl"
           }
          ],
          "scattermap": [
           {
            "marker": {
             "colorbar": {
              "outlinewidth": 0,
              "ticks": ""
             }
            },
            "type": "scattermap"
           }
          ],
          "scattermapbox": [
           {
            "marker": {
             "colorbar": {
              "outlinewidth": 0,
              "ticks": ""
             }
            },
            "type": "scattermapbox"
           }
          ],
          "scatterpolar": [
           {
            "marker": {
             "colorbar": {
              "outlinewidth": 0,
              "ticks": ""
             }
            },
            "type": "scatterpolar"
           }
          ],
          "scatterpolargl": [
           {
            "marker": {
             "colorbar": {
              "outlinewidth": 0,
              "ticks": ""
             }
            },
            "type": "scatterpolargl"
           }
          ],
          "scatterternary": [
           {
            "marker": {
             "colorbar": {
              "outlinewidth": 0,
              "ticks": ""
             }
            },
            "type": "scatterternary"
           }
          ],
          "surface": [
           {
            "colorbar": {
             "outlinewidth": 0,
             "ticks": ""
            },
            "colorscale": [
             [
              0,
              "#0d0887"
             ],
             [
              0.1111111111111111,
              "#46039f"
             ],
             [
              0.2222222222222222,
              "#7201a8"
             ],
             [
              0.3333333333333333,
              "#9c179e"
             ],
             [
              0.4444444444444444,
              "#bd3786"
             ],
             [
              0.5555555555555556,
              "#d8576b"
             ],
             [
              0.6666666666666666,
              "#ed7953"
             ],
             [
              0.7777777777777778,
              "#fb9f3a"
             ],
             [
              0.8888888888888888,
              "#fdca26"
             ],
             [
              1,
              "#f0f921"
             ]
            ],
            "type": "surface"
           }
          ],
          "table": [
           {
            "cells": {
             "fill": {
              "color": "#EBF0F8"
             },
             "line": {
              "color": "white"
             }
            },
            "header": {
             "fill": {
              "color": "#C8D4E3"
             },
             "line": {
              "color": "white"
             }
            },
            "type": "table"
           }
          ]
         },
         "layout": {
          "annotationdefaults": {
           "arrowcolor": "#2a3f5f",
           "arrowhead": 0,
           "arrowwidth": 1
          },
          "autotypenumbers": "strict",
          "coloraxis": {
           "colorbar": {
            "outlinewidth": 0,
            "ticks": ""
           }
          },
          "colorscale": {
           "diverging": [
            [
             0,
             "#8e0152"
            ],
            [
             0.1,
             "#c51b7d"
            ],
            [
             0.2,
             "#de77ae"
            ],
            [
             0.3,
             "#f1b6da"
            ],
            [
             0.4,
             "#fde0ef"
            ],
            [
             0.5,
             "#f7f7f7"
            ],
            [
             0.6,
             "#e6f5d0"
            ],
            [
             0.7,
             "#b8e186"
            ],
            [
             0.8,
             "#7fbc41"
            ],
            [
             0.9,
             "#4d9221"
            ],
            [
             1,
             "#276419"
            ]
           ],
           "sequential": [
            [
             0,
             "#0d0887"
            ],
            [
             0.1111111111111111,
             "#46039f"
            ],
            [
             0.2222222222222222,
             "#7201a8"
            ],
            [
             0.3333333333333333,
             "#9c179e"
            ],
            [
             0.4444444444444444,
             "#bd3786"
            ],
            [
             0.5555555555555556,
             "#d8576b"
            ],
            [
             0.6666666666666666,
             "#ed7953"
            ],
            [
             0.7777777777777778,
             "#fb9f3a"
            ],
            [
             0.8888888888888888,
             "#fdca26"
            ],
            [
             1,
             "#f0f921"
            ]
           ],
           "sequentialminus": [
            [
             0,
             "#0d0887"
            ],
            [
             0.1111111111111111,
             "#46039f"
            ],
            [
             0.2222222222222222,
             "#7201a8"
            ],
            [
             0.3333333333333333,
             "#9c179e"
            ],
            [
             0.4444444444444444,
             "#bd3786"
            ],
            [
             0.5555555555555556,
             "#d8576b"
            ],
            [
             0.6666666666666666,
             "#ed7953"
            ],
            [
             0.7777777777777778,
             "#fb9f3a"
            ],
            [
             0.8888888888888888,
             "#fdca26"
            ],
            [
             1,
             "#f0f921"
            ]
           ]
          },
          "colorway": [
           "#636efa",
           "#EF553B",
           "#00cc96",
           "#ab63fa",
           "#FFA15A",
           "#19d3f3",
           "#FF6692",
           "#B6E880",
           "#FF97FF",
           "#FECB52"
          ],
          "font": {
           "color": "#2a3f5f"
          },
          "geo": {
           "bgcolor": "white",
           "lakecolor": "white",
           "landcolor": "#E5ECF6",
           "showlakes": true,
           "showland": true,
           "subunitcolor": "white"
          },
          "hoverlabel": {
           "align": "left"
          },
          "hovermode": "closest",
          "mapbox": {
           "style": "light"
          },
          "paper_bgcolor": "white",
          "plot_bgcolor": "#E5ECF6",
          "polar": {
           "angularaxis": {
            "gridcolor": "white",
            "linecolor": "white",
            "ticks": ""
           },
           "bgcolor": "#E5ECF6",
           "radialaxis": {
            "gridcolor": "white",
            "linecolor": "white",
            "ticks": ""
           }
          },
          "scene": {
           "xaxis": {
            "backgroundcolor": "#E5ECF6",
            "gridcolor": "white",
            "gridwidth": 2,
            "linecolor": "white",
            "showbackground": true,
            "ticks": "",
            "zerolinecolor": "white"
           },
           "yaxis": {
            "backgroundcolor": "#E5ECF6",
            "gridcolor": "white",
            "gridwidth": 2,
            "linecolor": "white",
            "showbackground": true,
            "ticks": "",
            "zerolinecolor": "white"
           },
           "zaxis": {
            "backgroundcolor": "#E5ECF6",
            "gridcolor": "white",
            "gridwidth": 2,
            "linecolor": "white",
            "showbackground": true,
            "ticks": "",
            "zerolinecolor": "white"
           }
          },
          "shapedefaults": {
           "line": {
            "color": "#2a3f5f"
           }
          },
          "ternary": {
           "aaxis": {
            "gridcolor": "white",
            "linecolor": "white",
            "ticks": ""
           },
           "baxis": {
            "gridcolor": "white",
            "linecolor": "white",
            "ticks": ""
           },
           "bgcolor": "#E5ECF6",
           "caxis": {
            "gridcolor": "white",
            "linecolor": "white",
            "ticks": ""
           }
          },
          "title": {
           "x": 0.05
          },
          "xaxis": {
           "automargin": true,
           "gridcolor": "white",
           "linecolor": "white",
           "ticks": "",
           "title": {
            "standoff": 15
           },
           "zerolinecolor": "white",
           "zerolinewidth": 2
          },
          "yaxis": {
           "automargin": true,
           "gridcolor": "white",
           "linecolor": "white",
           "ticks": "",
           "title": {
            "standoff": 15
           },
           "zerolinecolor": "white",
           "zerolinewidth": 2
          }
         }
        },
        "title": {
         "text": "Execution time of ForecasterRecursive_fit"
        },
        "xaxis": {
         "tickangle": -45,
         "tickmode": "array",
         "ticktext": [
          "0.13.0",
          "0.14.0",
          "0.15.1",
          "0.16.0"
         ],
         "tickvals": [
          0,
          1,
          2,
          3
         ],
         "title": {
          "text": "skforecast version"
         }
        },
        "yaxis": {
         "title": {
          "text": "Execution time (seconds)"
         }
        }
       }
      }
     },
     "metadata": {},
     "output_type": "display_data"
    },
    {
     "data": {
      "application/vnd.microsoft.datawrangler.viewer.v0+json": {
       "columns": [
        {
         "name": "index",
         "rawType": "int64",
         "type": "integer"
        },
        {
         "name": "forecaster_name",
         "rawType": "object",
         "type": "string"
        },
        {
         "name": "regressor_name",
         "rawType": "object",
         "type": "string"
        },
        {
         "name": "function_name",
         "rawType": "object",
         "type": "string"
        },
        {
         "name": "function_hash",
         "rawType": "object",
         "type": "string"
        },
        {
         "name": "run_time_avg",
         "rawType": "float64",
         "type": "float"
        },
        {
         "name": "run_time_std_dev",
         "rawType": "float64",
         "type": "float"
        },
        {
         "name": "datetime",
         "rawType": "datetime64[ns]",
         "type": "datetime"
        },
        {
         "name": "python_version",
         "rawType": "object",
         "type": "string"
        },
        {
         "name": "skforecast_version",
         "rawType": "object",
         "type": "string"
        },
        {
         "name": "numpy_version",
         "rawType": "object",
         "type": "string"
        },
        {
         "name": "pandas_version",
         "rawType": "object",
         "type": "string"
        },
        {
         "name": "sklearn_version",
         "rawType": "object",
         "type": "string"
        },
        {
         "name": "lightgbm_version",
         "rawType": "object",
         "type": "string"
        },
        {
         "name": "platform",
         "rawType": "object",
         "type": "string"
        },
        {
         "name": "processor",
         "rawType": "object",
         "type": "string"
        },
        {
         "name": "cpu_count",
         "rawType": "int64",
         "type": "integer"
        },
        {
         "name": "memory_gb",
         "rawType": "float64",
         "type": "float"
        }
       ],
       "conversionMethod": "pd.DataFrame",
       "ref": "c20ecf98-1377-4748-b44b-552ef73d88dc",
       "rows": [
        [
         "9",
         "ForecasterRecursive",
         "LGBMRegressor",
         "ForecasterRecursive__create_train_X_y",
         "287fbd1c4920496341a9d5f9b9a9aa2a",
         "0.0035816117000649684",
         "0.00033622735505389983",
         "2025-04-23 15:05:58.613440",
         "3.12.9",
         "0.16.0",
         "2.2.5",
         "2.2.3",
         "1.6.1",
         "4.6.0",
         "Linux-6.11.0-21-generic-x86_64-with-glibc2.39",
         "x86_64",
         "8",
         "16.64"
        ],
        [
         "21",
         "ForecasterRecursive",
         "LGBMRegressor",
         "ForecasterRecursive__create_train_X_y",
         "287fbd1c4920496341a9d5f9b9a9aa2a",
         "0.002785950200086518",
         "0.00023104771807877877",
         "2025-04-23 15:12:03.522895",
         "3.12.9",
         "0.15.1",
         "2.2.5",
         "2.2.3",
         "1.6.1",
         "4.6.0",
         "Linux-6.11.0-21-generic-x86_64-with-glibc2.39",
         "x86_64",
         "8",
         "16.64"
        ],
        [
         "33",
         "ForecasterRecursive",
         "LGBMRegressor",
         "ForecasterRecursive__create_train_X_y",
         "287fbd1c4920496341a9d5f9b9a9aa2a",
         "0.0036368141998536887",
         "0.0006849227695678314",
         "2025-04-23 15:15:59.144846",
         "3.12.9",
         "0.14.0",
         "2.2.5",
         "2.2.3",
         "1.6.1",
         "4.6.0",
         "Linux-6.11.0-21-generic-x86_64-with-glibc2.39",
         "x86_64",
         "8",
         "16.64"
        ],
        [
         "45",
         "ForecasterAutoreg",
         "LGBMRegressor",
         "ForecasterRecursive__create_train_X_y",
         "287fbd1c4920496341a9d5f9b9a9aa2a",
         null,
         null,
         "2025-04-23 15:31:32.335009",
         "3.12.9",
         "0.13.0",
         "2.2.5",
         "2.2.3",
         "1.6.1",
         "4.6.0",
         "Linux-6.11.0-21-generic-x86_64-with-glibc2.39",
         "x86_64",
         "8",
         "16.64"
        ],
        [
         "57",
         "ForecasterAutoreg",
         "LGBMRegressor",
         "ForecasterRecursive__create_train_X_y",
         "287fbd1c4920496341a9d5f9b9a9aa2a",
         null,
         null,
         "2025-04-23 15:41:06.200461",
         "3.12.9",
         "0.13.0",
         "2.2.5",
         "2.2.3",
         "1.6.1",
         "4.6.0",
         "Linux-6.11.0-21-generic-x86_64-with-glibc2.39",
         "x86_64",
         "8",
         "16.64"
        ],
        [
         "61",
         "ForecasterAutoreg",
         "LGBMRegressor",
         "ForecasterRecursive__create_train_X_y",
         "1302d78676d713cc5e64125ac23a65d2",
         null,
         null,
         "2025-04-23 15:46:07.619566",
         "3.12.9",
         "0.13.0",
         "2.2.5",
         "2.2.3",
         "1.6.1",
         "4.6.0",
         "Linux-6.11.0-21-generic-x86_64-with-glibc2.39",
         "x86_64",
         "8",
         "16.64"
        ],
        [
         "65",
         "ForecasterAutoreg",
         "LGBMRegressor",
         "ForecasterRecursive__create_train_X_y",
         "20bdfc9de1cb7a9e99e703c087d136d3",
         "0.003645197600053507",
         "0.0005826224449138704",
         "2025-04-23 15:46:40.854571",
         "3.12.9",
         "0.13.0",
         "2.2.5",
         "2.2.3",
         "1.6.1",
         "4.6.0",
         "Linux-6.11.0-21-generic-x86_64-with-glibc2.39",
         "x86_64",
         "8",
         "16.64"
        ],
        [
         "77",
         "ForecasterRecursive",
         "LGBMRegressor",
         "ForecasterRecursive__create_train_X_y",
         "20bdfc9de1cb7a9e99e703c087d136d3",
         "0.004177644599985797",
         "0.000579042542093389",
         "2025-04-23 15:56:53.610990",
         "3.12.9",
         "0.14.0",
         "2.2.5",
         "2.2.3",
         "1.6.1",
         "4.6.0",
         "Linux-6.11.0-21-generic-x86_64-with-glibc2.39",
         "x86_64",
         "8",
         "16.64"
        ],
        [
         "89",
         "ForecasterRecursive",
         "LGBMRegressor",
         "ForecasterRecursive__create_train_X_y",
         "20bdfc9de1cb7a9e99e703c087d136d3",
         "0.0036531218003801767",
         "0.0002766372895946584",
         "2025-04-23 16:01:06.118167",
         "3.12.9",
         "0.15.1",
         "2.2.5",
         "2.2.3",
         "1.6.1",
         "4.6.0",
         "Linux-6.11.0-21-generic-x86_64-with-glibc2.39",
         "x86_64",
         "8",
         "16.64"
        ],
        [
         "101",
         "ForecasterRecursive",
         "LGBMRegressor",
         "ForecasterRecursive__create_train_X_y",
         "20bdfc9de1cb7a9e99e703c087d136d3",
         "0.0027731404996302446",
         "0.00037881980121280657",
         "2025-04-23 16:05:33.624338",
         "3.12.9",
         "0.15.1",
         "2.2.5",
         "2.2.3",
         "1.6.1",
         "4.6.0",
         "Linux-6.11.0-21-generic-x86_64-with-glibc2.39",
         "x86_64",
         "8",
         "16.64"
        ],
        [
         "113",
         "ForecasterRecursive",
         "LGBMRegressor",
         "ForecasterRecursive__create_train_X_y",
         "20bdfc9de1cb7a9e99e703c087d136d3",
         "0.0037372773000242886",
         "0.00036863885624796794",
         "2025-04-23 16:08:42.788133",
         "3.12.9",
         "0.16.0",
         "2.2.5",
         "2.2.3",
         "1.6.1",
         "4.6.0",
         "Linux-6.11.0-21-generic-x86_64-with-glibc2.39",
         "x86_64",
         "8",
         "16.64"
        ],
        [
         "125",
         "ForecasterRecursive",
         "LGBMRegressor",
         "ForecasterRecursive__create_train_X_y",
         "20bdfc9de1cb7a9e99e703c087d136d3",
         "0.0036185756993290853",
         "0.0002544002586207825",
         "2025-04-23 16:12:10.844438",
         "3.12.9",
         "0.16.0",
         "2.2.5",
         "2.2.3",
         "1.6.1",
         "4.6.0",
         "Linux-6.11.0-21-generic-x86_64-with-glibc2.39",
         "x86_64",
         "8",
         "16.64"
        ],
        [
         "130",
         "ForecasterRecursive",
         "LGBMRegressor",
         "ForecasterRecursive__create_train_X_y",
         "20bdfc9de1cb7a9e99e703c087d136d3",
         "0.002650409099624085",
         "0.00022706678539929822",
         "2025-04-23 20:07:37.485182",
         "3.12.9",
         "0.16.0",
         "2.2.5",
         "2.2.3",
         "1.6.1",
         "4.6.0",
         "Linux-6.11.0-21-generic-x86_64-with-glibc2.39",
         "x86_64",
         "8",
         "16.64"
        ],
        [
         "145",
         "ForecasterRecursive",
         "LGBMRegressor",
         "ForecasterRecursive__create_train_X_y",
         "20bdfc9de1cb7a9e99e703c087d136d3",
         "0.003883028899872443",
         "0.0003699226703695988",
         "2025-04-23 20:15:11.577700",
         "3.12.9",
         "0.16.0",
         "2.2.5",
         "2.2.3",
         "1.6.1",
         "4.6.0",
         "Linux-6.11.0-21-generic-x86_64-with-glibc2.39",
         "x86_64",
         "8",
         "16.64"
        ],
        [
         "158",
         "ForecasterRecursive",
         "LGBMRegressor",
         "ForecasterRecursive__create_train_X_y",
         "20bdfc9de1cb7a9e99e703c087d136d3",
         "0.002994618000047922",
         "0.0006179743714292052",
         "2025-04-23 20:22:38.457585",
         "3.12.9",
         "0.15.1",
         "2.2.5",
         "2.2.3",
         "1.6.1",
         "4.6.0",
         "Linux-6.11.0-21-generic-x86_64-with-glibc2.39",
         "x86_64",
         "8",
         "16.64"
        ],
        [
         "171",
         "ForecasterRecursive",
         "LGBMRegressor",
         "ForecasterRecursive__create_train_X_y",
         "20bdfc9de1cb7a9e99e703c087d136d3",
         "0.002882224600398331",
         "0.0002668496978420517",
         "2025-04-23 22:04:08.777492",
         "3.12.9",
         "0.15.1",
         "2.2.5",
         "2.2.3",
         "1.6.1",
         "4.6.0",
         "Linux-6.11.0-21-generic-x86_64-with-glibc2.39",
         "x86_64",
         "8",
         "16.64"
        ],
        [
         "184",
         "ForecasterRecursive",
         "LGBMRegressor",
         "ForecasterRecursive__create_train_X_y",
         "20bdfc9de1cb7a9e99e703c087d136d3",
         "0.002926618999845232",
         "0.00023844348179199296",
         "2025-04-23 22:17:06.944250",
         "3.12.9",
         "0.14.0",
         "2.2.5",
         "2.2.3",
         "1.6.1",
         "4.6.0",
         "Linux-6.11.0-21-generic-x86_64-with-glibc2.39",
         "x86_64",
         "8",
         "16.64"
        ],
        [
         "197",
         "ForecasterRecursive",
         "LGBMRegressor",
         "ForecasterRecursive__create_train_X_y",
         "20bdfc9de1cb7a9e99e703c087d136d3",
         "0.0037285849000909367",
         "0.00029122418126758073",
         "2025-04-23 22:51:17.966540",
         "3.12.9",
         "0.14.0",
         "2.2.5",
         "2.2.3",
         "1.6.1",
         "4.6.0",
         "Linux-6.11.0-21-generic-x86_64-with-glibc2.39",
         "x86_64",
         "8",
         "16.64"
        ],
        [
         "212",
         "ForecasterRecursive",
         "LGBMRegressor",
         "ForecasterRecursive__create_train_X_y",
         "20bdfc9de1cb7a9e99e703c087d136d3",
         "0.0035030872997594996",
         "0.00016057291268685737",
         "2025-04-23 22:59:15.715875",
         "3.12.9",
         "0.16.0",
         "2.2.5",
         "2.2.3",
         "1.6.1",
         "4.6.0",
         "Linux-6.11.0-21-generic-x86_64-with-glibc2.39",
         "x86_64",
         "8",
         "16.64"
        ]
       ],
       "shape": {
        "columns": 17,
        "rows": 19
       }
      },
      "text/html": [
       "<div>\n",
       "<style scoped>\n",
       "    .dataframe tbody tr th:only-of-type {\n",
       "        vertical-align: middle;\n",
       "    }\n",
       "\n",
       "    .dataframe tbody tr th {\n",
       "        vertical-align: top;\n",
       "    }\n",
       "\n",
       "    .dataframe thead th {\n",
       "        text-align: right;\n",
       "    }\n",
       "</style>\n",
       "<table border=\"1\" class=\"dataframe\">\n",
       "  <thead>\n",
       "    <tr style=\"text-align: right;\">\n",
       "      <th></th>\n",
       "      <th>forecaster_name</th>\n",
       "      <th>regressor_name</th>\n",
       "      <th>function_name</th>\n",
       "      <th>function_hash</th>\n",
       "      <th>run_time_avg</th>\n",
       "      <th>run_time_std_dev</th>\n",
       "      <th>datetime</th>\n",
       "      <th>python_version</th>\n",
       "      <th>skforecast_version</th>\n",
       "      <th>numpy_version</th>\n",
       "      <th>pandas_version</th>\n",
       "      <th>sklearn_version</th>\n",
       "      <th>lightgbm_version</th>\n",
       "      <th>platform</th>\n",
       "      <th>processor</th>\n",
       "      <th>cpu_count</th>\n",
       "      <th>memory_gb</th>\n",
       "    </tr>\n",
       "  </thead>\n",
       "  <tbody>\n",
       "    <tr>\n",
       "      <th>9</th>\n",
       "      <td>ForecasterRecursive</td>\n",
       "      <td>LGBMRegressor</td>\n",
       "      <td>ForecasterRecursive__create_train_X_y</td>\n",
       "      <td>287fbd1c4920496341a9d5f9b9a9aa2a</td>\n",
       "      <td>0.003582</td>\n",
       "      <td>0.000336</td>\n",
       "      <td>2025-04-23 15:05:58.613440</td>\n",
       "      <td>3.12.9</td>\n",
       "      <td>0.16.0</td>\n",
       "      <td>2.2.5</td>\n",
       "      <td>2.2.3</td>\n",
       "      <td>1.6.1</td>\n",
       "      <td>4.6.0</td>\n",
       "      <td>Linux-6.11.0-21-generic-x86_64-with-glibc2.39</td>\n",
       "      <td>x86_64</td>\n",
       "      <td>8</td>\n",
       "      <td>16.64</td>\n",
       "    </tr>\n",
       "    <tr>\n",
       "      <th>21</th>\n",
       "      <td>ForecasterRecursive</td>\n",
       "      <td>LGBMRegressor</td>\n",
       "      <td>ForecasterRecursive__create_train_X_y</td>\n",
       "      <td>287fbd1c4920496341a9d5f9b9a9aa2a</td>\n",
       "      <td>0.002786</td>\n",
       "      <td>0.000231</td>\n",
       "      <td>2025-04-23 15:12:03.522895</td>\n",
       "      <td>3.12.9</td>\n",
       "      <td>0.15.1</td>\n",
       "      <td>2.2.5</td>\n",
       "      <td>2.2.3</td>\n",
       "      <td>1.6.1</td>\n",
       "      <td>4.6.0</td>\n",
       "      <td>Linux-6.11.0-21-generic-x86_64-with-glibc2.39</td>\n",
       "      <td>x86_64</td>\n",
       "      <td>8</td>\n",
       "      <td>16.64</td>\n",
       "    </tr>\n",
       "    <tr>\n",
       "      <th>33</th>\n",
       "      <td>ForecasterRecursive</td>\n",
       "      <td>LGBMRegressor</td>\n",
       "      <td>ForecasterRecursive__create_train_X_y</td>\n",
       "      <td>287fbd1c4920496341a9d5f9b9a9aa2a</td>\n",
       "      <td>0.003637</td>\n",
       "      <td>0.000685</td>\n",
       "      <td>2025-04-23 15:15:59.144846</td>\n",
       "      <td>3.12.9</td>\n",
       "      <td>0.14.0</td>\n",
       "      <td>2.2.5</td>\n",
       "      <td>2.2.3</td>\n",
       "      <td>1.6.1</td>\n",
       "      <td>4.6.0</td>\n",
       "      <td>Linux-6.11.0-21-generic-x86_64-with-glibc2.39</td>\n",
       "      <td>x86_64</td>\n",
       "      <td>8</td>\n",
       "      <td>16.64</td>\n",
       "    </tr>\n",
       "    <tr>\n",
       "      <th>45</th>\n",
       "      <td>ForecasterAutoreg</td>\n",
       "      <td>LGBMRegressor</td>\n",
       "      <td>ForecasterRecursive__create_train_X_y</td>\n",
       "      <td>287fbd1c4920496341a9d5f9b9a9aa2a</td>\n",
       "      <td>NaN</td>\n",
       "      <td>NaN</td>\n",
       "      <td>2025-04-23 15:31:32.335009</td>\n",
       "      <td>3.12.9</td>\n",
       "      <td>0.13.0</td>\n",
       "      <td>2.2.5</td>\n",
       "      <td>2.2.3</td>\n",
       "      <td>1.6.1</td>\n",
       "      <td>4.6.0</td>\n",
       "      <td>Linux-6.11.0-21-generic-x86_64-with-glibc2.39</td>\n",
       "      <td>x86_64</td>\n",
       "      <td>8</td>\n",
       "      <td>16.64</td>\n",
       "    </tr>\n",
       "    <tr>\n",
       "      <th>57</th>\n",
       "      <td>ForecasterAutoreg</td>\n",
       "      <td>LGBMRegressor</td>\n",
       "      <td>ForecasterRecursive__create_train_X_y</td>\n",
       "      <td>287fbd1c4920496341a9d5f9b9a9aa2a</td>\n",
       "      <td>NaN</td>\n",
       "      <td>NaN</td>\n",
       "      <td>2025-04-23 15:41:06.200461</td>\n",
       "      <td>3.12.9</td>\n",
       "      <td>0.13.0</td>\n",
       "      <td>2.2.5</td>\n",
       "      <td>2.2.3</td>\n",
       "      <td>1.6.1</td>\n",
       "      <td>4.6.0</td>\n",
       "      <td>Linux-6.11.0-21-generic-x86_64-with-glibc2.39</td>\n",
       "      <td>x86_64</td>\n",
       "      <td>8</td>\n",
       "      <td>16.64</td>\n",
       "    </tr>\n",
       "    <tr>\n",
       "      <th>61</th>\n",
       "      <td>ForecasterAutoreg</td>\n",
       "      <td>LGBMRegressor</td>\n",
       "      <td>ForecasterRecursive__create_train_X_y</td>\n",
       "      <td>1302d78676d713cc5e64125ac23a65d2</td>\n",
       "      <td>NaN</td>\n",
       "      <td>NaN</td>\n",
       "      <td>2025-04-23 15:46:07.619566</td>\n",
       "      <td>3.12.9</td>\n",
       "      <td>0.13.0</td>\n",
       "      <td>2.2.5</td>\n",
       "      <td>2.2.3</td>\n",
       "      <td>1.6.1</td>\n",
       "      <td>4.6.0</td>\n",
       "      <td>Linux-6.11.0-21-generic-x86_64-with-glibc2.39</td>\n",
       "      <td>x86_64</td>\n",
       "      <td>8</td>\n",
       "      <td>16.64</td>\n",
       "    </tr>\n",
       "    <tr>\n",
       "      <th>65</th>\n",
       "      <td>ForecasterAutoreg</td>\n",
       "      <td>LGBMRegressor</td>\n",
       "      <td>ForecasterRecursive__create_train_X_y</td>\n",
       "      <td>20bdfc9de1cb7a9e99e703c087d136d3</td>\n",
       "      <td>0.003645</td>\n",
       "      <td>0.000583</td>\n",
       "      <td>2025-04-23 15:46:40.854571</td>\n",
       "      <td>3.12.9</td>\n",
       "      <td>0.13.0</td>\n",
       "      <td>2.2.5</td>\n",
       "      <td>2.2.3</td>\n",
       "      <td>1.6.1</td>\n",
       "      <td>4.6.0</td>\n",
       "      <td>Linux-6.11.0-21-generic-x86_64-with-glibc2.39</td>\n",
       "      <td>x86_64</td>\n",
       "      <td>8</td>\n",
       "      <td>16.64</td>\n",
       "    </tr>\n",
       "    <tr>\n",
       "      <th>77</th>\n",
       "      <td>ForecasterRecursive</td>\n",
       "      <td>LGBMRegressor</td>\n",
       "      <td>ForecasterRecursive__create_train_X_y</td>\n",
       "      <td>20bdfc9de1cb7a9e99e703c087d136d3</td>\n",
       "      <td>0.004178</td>\n",
       "      <td>0.000579</td>\n",
       "      <td>2025-04-23 15:56:53.610990</td>\n",
       "      <td>3.12.9</td>\n",
       "      <td>0.14.0</td>\n",
       "      <td>2.2.5</td>\n",
       "      <td>2.2.3</td>\n",
       "      <td>1.6.1</td>\n",
       "      <td>4.6.0</td>\n",
       "      <td>Linux-6.11.0-21-generic-x86_64-with-glibc2.39</td>\n",
       "      <td>x86_64</td>\n",
       "      <td>8</td>\n",
       "      <td>16.64</td>\n",
       "    </tr>\n",
       "    <tr>\n",
       "      <th>89</th>\n",
       "      <td>ForecasterRecursive</td>\n",
       "      <td>LGBMRegressor</td>\n",
       "      <td>ForecasterRecursive__create_train_X_y</td>\n",
       "      <td>20bdfc9de1cb7a9e99e703c087d136d3</td>\n",
       "      <td>0.003653</td>\n",
       "      <td>0.000277</td>\n",
       "      <td>2025-04-23 16:01:06.118167</td>\n",
       "      <td>3.12.9</td>\n",
       "      <td>0.15.1</td>\n",
       "      <td>2.2.5</td>\n",
       "      <td>2.2.3</td>\n",
       "      <td>1.6.1</td>\n",
       "      <td>4.6.0</td>\n",
       "      <td>Linux-6.11.0-21-generic-x86_64-with-glibc2.39</td>\n",
       "      <td>x86_64</td>\n",
       "      <td>8</td>\n",
       "      <td>16.64</td>\n",
       "    </tr>\n",
       "    <tr>\n",
       "      <th>101</th>\n",
       "      <td>ForecasterRecursive</td>\n",
       "      <td>LGBMRegressor</td>\n",
       "      <td>ForecasterRecursive__create_train_X_y</td>\n",
       "      <td>20bdfc9de1cb7a9e99e703c087d136d3</td>\n",
       "      <td>0.002773</td>\n",
       "      <td>0.000379</td>\n",
       "      <td>2025-04-23 16:05:33.624338</td>\n",
       "      <td>3.12.9</td>\n",
       "      <td>0.15.1</td>\n",
       "      <td>2.2.5</td>\n",
       "      <td>2.2.3</td>\n",
       "      <td>1.6.1</td>\n",
       "      <td>4.6.0</td>\n",
       "      <td>Linux-6.11.0-21-generic-x86_64-with-glibc2.39</td>\n",
       "      <td>x86_64</td>\n",
       "      <td>8</td>\n",
       "      <td>16.64</td>\n",
       "    </tr>\n",
       "    <tr>\n",
       "      <th>113</th>\n",
       "      <td>ForecasterRecursive</td>\n",
       "      <td>LGBMRegressor</td>\n",
       "      <td>ForecasterRecursive__create_train_X_y</td>\n",
       "      <td>20bdfc9de1cb7a9e99e703c087d136d3</td>\n",
       "      <td>0.003737</td>\n",
       "      <td>0.000369</td>\n",
       "      <td>2025-04-23 16:08:42.788133</td>\n",
       "      <td>3.12.9</td>\n",
       "      <td>0.16.0</td>\n",
       "      <td>2.2.5</td>\n",
       "      <td>2.2.3</td>\n",
       "      <td>1.6.1</td>\n",
       "      <td>4.6.0</td>\n",
       "      <td>Linux-6.11.0-21-generic-x86_64-with-glibc2.39</td>\n",
       "      <td>x86_64</td>\n",
       "      <td>8</td>\n",
       "      <td>16.64</td>\n",
       "    </tr>\n",
       "    <tr>\n",
       "      <th>125</th>\n",
       "      <td>ForecasterRecursive</td>\n",
       "      <td>LGBMRegressor</td>\n",
       "      <td>ForecasterRecursive__create_train_X_y</td>\n",
       "      <td>20bdfc9de1cb7a9e99e703c087d136d3</td>\n",
       "      <td>0.003619</td>\n",
       "      <td>0.000254</td>\n",
       "      <td>2025-04-23 16:12:10.844438</td>\n",
       "      <td>3.12.9</td>\n",
       "      <td>0.16.0</td>\n",
       "      <td>2.2.5</td>\n",
       "      <td>2.2.3</td>\n",
       "      <td>1.6.1</td>\n",
       "      <td>4.6.0</td>\n",
       "      <td>Linux-6.11.0-21-generic-x86_64-with-glibc2.39</td>\n",
       "      <td>x86_64</td>\n",
       "      <td>8</td>\n",
       "      <td>16.64</td>\n",
       "    </tr>\n",
       "    <tr>\n",
       "      <th>130</th>\n",
       "      <td>ForecasterRecursive</td>\n",
       "      <td>LGBMRegressor</td>\n",
       "      <td>ForecasterRecursive__create_train_X_y</td>\n",
       "      <td>20bdfc9de1cb7a9e99e703c087d136d3</td>\n",
       "      <td>0.002650</td>\n",
       "      <td>0.000227</td>\n",
       "      <td>2025-04-23 20:07:37.485182</td>\n",
       "      <td>3.12.9</td>\n",
       "      <td>0.16.0</td>\n",
       "      <td>2.2.5</td>\n",
       "      <td>2.2.3</td>\n",
       "      <td>1.6.1</td>\n",
       "      <td>4.6.0</td>\n",
       "      <td>Linux-6.11.0-21-generic-x86_64-with-glibc2.39</td>\n",
       "      <td>x86_64</td>\n",
       "      <td>8</td>\n",
       "      <td>16.64</td>\n",
       "    </tr>\n",
       "    <tr>\n",
       "      <th>145</th>\n",
       "      <td>ForecasterRecursive</td>\n",
       "      <td>LGBMRegressor</td>\n",
       "      <td>ForecasterRecursive__create_train_X_y</td>\n",
       "      <td>20bdfc9de1cb7a9e99e703c087d136d3</td>\n",
       "      <td>0.003883</td>\n",
       "      <td>0.000370</td>\n",
       "      <td>2025-04-23 20:15:11.577700</td>\n",
       "      <td>3.12.9</td>\n",
       "      <td>0.16.0</td>\n",
       "      <td>2.2.5</td>\n",
       "      <td>2.2.3</td>\n",
       "      <td>1.6.1</td>\n",
       "      <td>4.6.0</td>\n",
       "      <td>Linux-6.11.0-21-generic-x86_64-with-glibc2.39</td>\n",
       "      <td>x86_64</td>\n",
       "      <td>8</td>\n",
       "      <td>16.64</td>\n",
       "    </tr>\n",
       "    <tr>\n",
       "      <th>158</th>\n",
       "      <td>ForecasterRecursive</td>\n",
       "      <td>LGBMRegressor</td>\n",
       "      <td>ForecasterRecursive__create_train_X_y</td>\n",
       "      <td>20bdfc9de1cb7a9e99e703c087d136d3</td>\n",
       "      <td>0.002995</td>\n",
       "      <td>0.000618</td>\n",
       "      <td>2025-04-23 20:22:38.457585</td>\n",
       "      <td>3.12.9</td>\n",
       "      <td>0.15.1</td>\n",
       "      <td>2.2.5</td>\n",
       "      <td>2.2.3</td>\n",
       "      <td>1.6.1</td>\n",
       "      <td>4.6.0</td>\n",
       "      <td>Linux-6.11.0-21-generic-x86_64-with-glibc2.39</td>\n",
       "      <td>x86_64</td>\n",
       "      <td>8</td>\n",
       "      <td>16.64</td>\n",
       "    </tr>\n",
       "    <tr>\n",
       "      <th>171</th>\n",
       "      <td>ForecasterRecursive</td>\n",
       "      <td>LGBMRegressor</td>\n",
       "      <td>ForecasterRecursive__create_train_X_y</td>\n",
       "      <td>20bdfc9de1cb7a9e99e703c087d136d3</td>\n",
       "      <td>0.002882</td>\n",
       "      <td>0.000267</td>\n",
       "      <td>2025-04-23 22:04:08.777492</td>\n",
       "      <td>3.12.9</td>\n",
       "      <td>0.15.1</td>\n",
       "      <td>2.2.5</td>\n",
       "      <td>2.2.3</td>\n",
       "      <td>1.6.1</td>\n",
       "      <td>4.6.0</td>\n",
       "      <td>Linux-6.11.0-21-generic-x86_64-with-glibc2.39</td>\n",
       "      <td>x86_64</td>\n",
       "      <td>8</td>\n",
       "      <td>16.64</td>\n",
       "    </tr>\n",
       "    <tr>\n",
       "      <th>184</th>\n",
       "      <td>ForecasterRecursive</td>\n",
       "      <td>LGBMRegressor</td>\n",
       "      <td>ForecasterRecursive__create_train_X_y</td>\n",
       "      <td>20bdfc9de1cb7a9e99e703c087d136d3</td>\n",
       "      <td>0.002927</td>\n",
       "      <td>0.000238</td>\n",
       "      <td>2025-04-23 22:17:06.944250</td>\n",
       "      <td>3.12.9</td>\n",
       "      <td>0.14.0</td>\n",
       "      <td>2.2.5</td>\n",
       "      <td>2.2.3</td>\n",
       "      <td>1.6.1</td>\n",
       "      <td>4.6.0</td>\n",
       "      <td>Linux-6.11.0-21-generic-x86_64-with-glibc2.39</td>\n",
       "      <td>x86_64</td>\n",
       "      <td>8</td>\n",
       "      <td>16.64</td>\n",
       "    </tr>\n",
       "    <tr>\n",
       "      <th>197</th>\n",
       "      <td>ForecasterRecursive</td>\n",
       "      <td>LGBMRegressor</td>\n",
       "      <td>ForecasterRecursive__create_train_X_y</td>\n",
       "      <td>20bdfc9de1cb7a9e99e703c087d136d3</td>\n",
       "      <td>0.003729</td>\n",
       "      <td>0.000291</td>\n",
       "      <td>2025-04-23 22:51:17.966540</td>\n",
       "      <td>3.12.9</td>\n",
       "      <td>0.14.0</td>\n",
       "      <td>2.2.5</td>\n",
       "      <td>2.2.3</td>\n",
       "      <td>1.6.1</td>\n",
       "      <td>4.6.0</td>\n",
       "      <td>Linux-6.11.0-21-generic-x86_64-with-glibc2.39</td>\n",
       "      <td>x86_64</td>\n",
       "      <td>8</td>\n",
       "      <td>16.64</td>\n",
       "    </tr>\n",
       "    <tr>\n",
       "      <th>212</th>\n",
       "      <td>ForecasterRecursive</td>\n",
       "      <td>LGBMRegressor</td>\n",
       "      <td>ForecasterRecursive__create_train_X_y</td>\n",
       "      <td>20bdfc9de1cb7a9e99e703c087d136d3</td>\n",
       "      <td>0.003503</td>\n",
       "      <td>0.000161</td>\n",
       "      <td>2025-04-23 22:59:15.715875</td>\n",
       "      <td>3.12.9</td>\n",
       "      <td>0.16.0</td>\n",
       "      <td>2.2.5</td>\n",
       "      <td>2.2.3</td>\n",
       "      <td>1.6.1</td>\n",
       "      <td>4.6.0</td>\n",
       "      <td>Linux-6.11.0-21-generic-x86_64-with-glibc2.39</td>\n",
       "      <td>x86_64</td>\n",
       "      <td>8</td>\n",
       "      <td>16.64</td>\n",
       "    </tr>\n",
       "  </tbody>\n",
       "</table>\n",
       "</div>"
      ],
      "text/plain": [
       "         forecaster_name regressor_name  \\\n",
       "9    ForecasterRecursive  LGBMRegressor   \n",
       "21   ForecasterRecursive  LGBMRegressor   \n",
       "33   ForecasterRecursive  LGBMRegressor   \n",
       "45     ForecasterAutoreg  LGBMRegressor   \n",
       "57     ForecasterAutoreg  LGBMRegressor   \n",
       "61     ForecasterAutoreg  LGBMRegressor   \n",
       "65     ForecasterAutoreg  LGBMRegressor   \n",
       "77   ForecasterRecursive  LGBMRegressor   \n",
       "89   ForecasterRecursive  LGBMRegressor   \n",
       "101  ForecasterRecursive  LGBMRegressor   \n",
       "113  ForecasterRecursive  LGBMRegressor   \n",
       "125  ForecasterRecursive  LGBMRegressor   \n",
       "130  ForecasterRecursive  LGBMRegressor   \n",
       "145  ForecasterRecursive  LGBMRegressor   \n",
       "158  ForecasterRecursive  LGBMRegressor   \n",
       "171  ForecasterRecursive  LGBMRegressor   \n",
       "184  ForecasterRecursive  LGBMRegressor   \n",
       "197  ForecasterRecursive  LGBMRegressor   \n",
       "212  ForecasterRecursive  LGBMRegressor   \n",
       "\n",
       "                             function_name                     function_hash  \\\n",
       "9    ForecasterRecursive__create_train_X_y  287fbd1c4920496341a9d5f9b9a9aa2a   \n",
       "21   ForecasterRecursive__create_train_X_y  287fbd1c4920496341a9d5f9b9a9aa2a   \n",
       "33   ForecasterRecursive__create_train_X_y  287fbd1c4920496341a9d5f9b9a9aa2a   \n",
       "45   ForecasterRecursive__create_train_X_y  287fbd1c4920496341a9d5f9b9a9aa2a   \n",
       "57   ForecasterRecursive__create_train_X_y  287fbd1c4920496341a9d5f9b9a9aa2a   \n",
       "61   ForecasterRecursive__create_train_X_y  1302d78676d713cc5e64125ac23a65d2   \n",
       "65   ForecasterRecursive__create_train_X_y  20bdfc9de1cb7a9e99e703c087d136d3   \n",
       "77   ForecasterRecursive__create_train_X_y  20bdfc9de1cb7a9e99e703c087d136d3   \n",
       "89   ForecasterRecursive__create_train_X_y  20bdfc9de1cb7a9e99e703c087d136d3   \n",
       "101  ForecasterRecursive__create_train_X_y  20bdfc9de1cb7a9e99e703c087d136d3   \n",
       "113  ForecasterRecursive__create_train_X_y  20bdfc9de1cb7a9e99e703c087d136d3   \n",
       "125  ForecasterRecursive__create_train_X_y  20bdfc9de1cb7a9e99e703c087d136d3   \n",
       "130  ForecasterRecursive__create_train_X_y  20bdfc9de1cb7a9e99e703c087d136d3   \n",
       "145  ForecasterRecursive__create_train_X_y  20bdfc9de1cb7a9e99e703c087d136d3   \n",
       "158  ForecasterRecursive__create_train_X_y  20bdfc9de1cb7a9e99e703c087d136d3   \n",
       "171  ForecasterRecursive__create_train_X_y  20bdfc9de1cb7a9e99e703c087d136d3   \n",
       "184  ForecasterRecursive__create_train_X_y  20bdfc9de1cb7a9e99e703c087d136d3   \n",
       "197  ForecasterRecursive__create_train_X_y  20bdfc9de1cb7a9e99e703c087d136d3   \n",
       "212  ForecasterRecursive__create_train_X_y  20bdfc9de1cb7a9e99e703c087d136d3   \n",
       "\n",
       "     run_time_avg  run_time_std_dev                   datetime python_version  \\\n",
       "9        0.003582          0.000336 2025-04-23 15:05:58.613440         3.12.9   \n",
       "21       0.002786          0.000231 2025-04-23 15:12:03.522895         3.12.9   \n",
       "33       0.003637          0.000685 2025-04-23 15:15:59.144846         3.12.9   \n",
       "45            NaN               NaN 2025-04-23 15:31:32.335009         3.12.9   \n",
       "57            NaN               NaN 2025-04-23 15:41:06.200461         3.12.9   \n",
       "61            NaN               NaN 2025-04-23 15:46:07.619566         3.12.9   \n",
       "65       0.003645          0.000583 2025-04-23 15:46:40.854571         3.12.9   \n",
       "77       0.004178          0.000579 2025-04-23 15:56:53.610990         3.12.9   \n",
       "89       0.003653          0.000277 2025-04-23 16:01:06.118167         3.12.9   \n",
       "101      0.002773          0.000379 2025-04-23 16:05:33.624338         3.12.9   \n",
       "113      0.003737          0.000369 2025-04-23 16:08:42.788133         3.12.9   \n",
       "125      0.003619          0.000254 2025-04-23 16:12:10.844438         3.12.9   \n",
       "130      0.002650          0.000227 2025-04-23 20:07:37.485182         3.12.9   \n",
       "145      0.003883          0.000370 2025-04-23 20:15:11.577700         3.12.9   \n",
       "158      0.002995          0.000618 2025-04-23 20:22:38.457585         3.12.9   \n",
       "171      0.002882          0.000267 2025-04-23 22:04:08.777492         3.12.9   \n",
       "184      0.002927          0.000238 2025-04-23 22:17:06.944250         3.12.9   \n",
       "197      0.003729          0.000291 2025-04-23 22:51:17.966540         3.12.9   \n",
       "212      0.003503          0.000161 2025-04-23 22:59:15.715875         3.12.9   \n",
       "\n",
       "    skforecast_version numpy_version pandas_version sklearn_version  \\\n",
       "9               0.16.0         2.2.5          2.2.3           1.6.1   \n",
       "21              0.15.1         2.2.5          2.2.3           1.6.1   \n",
       "33              0.14.0         2.2.5          2.2.3           1.6.1   \n",
       "45              0.13.0         2.2.5          2.2.3           1.6.1   \n",
       "57              0.13.0         2.2.5          2.2.3           1.6.1   \n",
       "61              0.13.0         2.2.5          2.2.3           1.6.1   \n",
       "65              0.13.0         2.2.5          2.2.3           1.6.1   \n",
       "77              0.14.0         2.2.5          2.2.3           1.6.1   \n",
       "89              0.15.1         2.2.5          2.2.3           1.6.1   \n",
       "101             0.15.1         2.2.5          2.2.3           1.6.1   \n",
       "113             0.16.0         2.2.5          2.2.3           1.6.1   \n",
       "125             0.16.0         2.2.5          2.2.3           1.6.1   \n",
       "130             0.16.0         2.2.5          2.2.3           1.6.1   \n",
       "145             0.16.0         2.2.5          2.2.3           1.6.1   \n",
       "158             0.15.1         2.2.5          2.2.3           1.6.1   \n",
       "171             0.15.1         2.2.5          2.2.3           1.6.1   \n",
       "184             0.14.0         2.2.5          2.2.3           1.6.1   \n",
       "197             0.14.0         2.2.5          2.2.3           1.6.1   \n",
       "212             0.16.0         2.2.5          2.2.3           1.6.1   \n",
       "\n",
       "    lightgbm_version                                       platform processor  \\\n",
       "9              4.6.0  Linux-6.11.0-21-generic-x86_64-with-glibc2.39    x86_64   \n",
       "21             4.6.0  Linux-6.11.0-21-generic-x86_64-with-glibc2.39    x86_64   \n",
       "33             4.6.0  Linux-6.11.0-21-generic-x86_64-with-glibc2.39    x86_64   \n",
       "45             4.6.0  Linux-6.11.0-21-generic-x86_64-with-glibc2.39    x86_64   \n",
       "57             4.6.0  Linux-6.11.0-21-generic-x86_64-with-glibc2.39    x86_64   \n",
       "61             4.6.0  Linux-6.11.0-21-generic-x86_64-with-glibc2.39    x86_64   \n",
       "65             4.6.0  Linux-6.11.0-21-generic-x86_64-with-glibc2.39    x86_64   \n",
       "77             4.6.0  Linux-6.11.0-21-generic-x86_64-with-glibc2.39    x86_64   \n",
       "89             4.6.0  Linux-6.11.0-21-generic-x86_64-with-glibc2.39    x86_64   \n",
       "101            4.6.0  Linux-6.11.0-21-generic-x86_64-with-glibc2.39    x86_64   \n",
       "113            4.6.0  Linux-6.11.0-21-generic-x86_64-with-glibc2.39    x86_64   \n",
       "125            4.6.0  Linux-6.11.0-21-generic-x86_64-with-glibc2.39    x86_64   \n",
       "130            4.6.0  Linux-6.11.0-21-generic-x86_64-with-glibc2.39    x86_64   \n",
       "145            4.6.0  Linux-6.11.0-21-generic-x86_64-with-glibc2.39    x86_64   \n",
       "158            4.6.0  Linux-6.11.0-21-generic-x86_64-with-glibc2.39    x86_64   \n",
       "171            4.6.0  Linux-6.11.0-21-generic-x86_64-with-glibc2.39    x86_64   \n",
       "184            4.6.0  Linux-6.11.0-21-generic-x86_64-with-glibc2.39    x86_64   \n",
       "197            4.6.0  Linux-6.11.0-21-generic-x86_64-with-glibc2.39    x86_64   \n",
       "212            4.6.0  Linux-6.11.0-21-generic-x86_64-with-glibc2.39    x86_64   \n",
       "\n",
       "     cpu_count  memory_gb  \n",
       "9            8      16.64  \n",
       "21           8      16.64  \n",
       "33           8      16.64  \n",
       "45           8      16.64  \n",
       "57           8      16.64  \n",
       "61           8      16.64  \n",
       "65           8      16.64  \n",
       "77           8      16.64  \n",
       "89           8      16.64  \n",
       "101          8      16.64  \n",
       "113          8      16.64  \n",
       "125          8      16.64  \n",
       "130          8      16.64  \n",
       "145          8      16.64  \n",
       "158          8      16.64  \n",
       "171          8      16.64  \n",
       "184          8      16.64  \n",
       "197          8      16.64  \n",
       "212          8      16.64  "
      ]
     },
     "metadata": {},
     "output_type": "display_data"
    },
    {
     "data": {
      "application/vnd.plotly.v1+json": {
       "config": {
        "plotlyServerURL": "https://plot.ly"
       },
       "data": [
        {
         "error_y": {
          "array": {
           "bdata": "AAAAAAAA+H8AAAAAAAD4fwAAAAAAAPh/Wp5kLGQXQz8=",
           "dtype": "f8"
          },
          "color": "#636EFA",
          "thickness": 1.5,
          "type": "data",
          "visible": true,
          "width": 5
         },
         "hovertemplate": "%{text}<extra></extra>",
         "marker": {
          "color": "#636EFA",
          "opacity": 0.7,
          "size": 10
         },
         "mode": "markers",
         "name": "Run time - 0.13.0",
         "showlegend": true,
         "text": [
          "Forecaster: ForecasterAutoreg<br>Regressor: LGBMRegressor<br>Function: ForecasterRecursive__create_train_X_y<br>Function_hash: 287fbd1c4920496341a9d5f9b9a9aa2a<br>Datetime: 2025-04-23 15:31:32.335009<br>Python version: 3.12.9<br>skforecast version: 0.13.0<br>numpy version: 2.2.5<br>pandas version: 2.2.3<br>sklearn version: 1.6.1<br>lightgbm version: 4.6.0<br>Platform: Linux-6.11.0-21-generic-x86_64-with-glibc2.39<br>Processor: x86_64<br>CPU count: 8<br>Memory (GB): 16.64<br>",
          "Forecaster: ForecasterAutoreg<br>Regressor: LGBMRegressor<br>Function: ForecasterRecursive__create_train_X_y<br>Function_hash: 287fbd1c4920496341a9d5f9b9a9aa2a<br>Datetime: 2025-04-23 15:41:06.200461<br>Python version: 3.12.9<br>skforecast version: 0.13.0<br>numpy version: 2.2.5<br>pandas version: 2.2.3<br>sklearn version: 1.6.1<br>lightgbm version: 4.6.0<br>Platform: Linux-6.11.0-21-generic-x86_64-with-glibc2.39<br>Processor: x86_64<br>CPU count: 8<br>Memory (GB): 16.64<br>",
          "Forecaster: ForecasterAutoreg<br>Regressor: LGBMRegressor<br>Function: ForecasterRecursive__create_train_X_y<br>Function_hash: 1302d78676d713cc5e64125ac23a65d2<br>Datetime: 2025-04-23 15:46:07.619566<br>Python version: 3.12.9<br>skforecast version: 0.13.0<br>numpy version: 2.2.5<br>pandas version: 2.2.3<br>sklearn version: 1.6.1<br>lightgbm version: 4.6.0<br>Platform: Linux-6.11.0-21-generic-x86_64-with-glibc2.39<br>Processor: x86_64<br>CPU count: 8<br>Memory (GB): 16.64<br>",
          "Forecaster: ForecasterAutoreg<br>Regressor: LGBMRegressor<br>Function: ForecasterRecursive__create_train_X_y<br>Function_hash: 20bdfc9de1cb7a9e99e703c087d136d3<br>Datetime: 2025-04-23 15:46:40.854571<br>Python version: 3.12.9<br>skforecast version: 0.13.0<br>numpy version: 2.2.5<br>pandas version: 2.2.3<br>sklearn version: 1.6.1<br>lightgbm version: 4.6.0<br>Platform: Linux-6.11.0-21-generic-x86_64-with-glibc2.39<br>Processor: x86_64<br>CPU count: 8<br>Memory (GB): 16.64<br>"
         ],
         "type": "scatter",
         "x": {
          "bdata": "fByzX9/Fir9AKClBT8iAPwyt5c8ZpoA/hj3Rm6N3pT8=",
          "dtype": "f8"
         },
         "y": {
          "bdata": "AAAAAAAA+H8AAAAAAAD4fwAAAAAAAPh/mplZj4jcbT8=",
          "dtype": "f8"
         }
        },
        {
         "error_y": {
          "array": {
           "bdata": "B1qicoxxRj+dGwFkXPlCP0Xfl1XuFTM/+2qY6dVALz8=",
           "dtype": "f8"
          },
          "color": "#EF553B",
          "thickness": 1.5,
          "type": "data",
          "visible": true,
          "width": 5
         },
         "hovertemplate": "%{text}<extra></extra>",
         "marker": {
          "color": "#EF553B",
          "opacity": 0.7,
          "size": 10
         },
         "mode": "markers",
         "name": "Run time - 0.14.0",
         "showlegend": true,
         "text": [
          "Forecaster: ForecasterRecursive<br>Regressor: LGBMRegressor<br>Function: ForecasterRecursive__create_train_X_y<br>Function_hash: 287fbd1c4920496341a9d5f9b9a9aa2a<br>Datetime: 2025-04-23 15:15:59.144846<br>Python version: 3.12.9<br>skforecast version: 0.14.0<br>numpy version: 2.2.5<br>pandas version: 2.2.3<br>sklearn version: 1.6.1<br>lightgbm version: 4.6.0<br>Platform: Linux-6.11.0-21-generic-x86_64-with-glibc2.39<br>Processor: x86_64<br>CPU count: 8<br>Memory (GB): 16.64<br>",
          "Forecaster: ForecasterRecursive<br>Regressor: LGBMRegressor<br>Function: ForecasterRecursive__create_train_X_y<br>Function_hash: 20bdfc9de1cb7a9e99e703c087d136d3<br>Datetime: 2025-04-23 15:56:53.610990<br>Python version: 3.12.9<br>skforecast version: 0.14.0<br>numpy version: 2.2.5<br>pandas version: 2.2.3<br>sklearn version: 1.6.1<br>lightgbm version: 4.6.0<br>Platform: Linux-6.11.0-21-generic-x86_64-with-glibc2.39<br>Processor: x86_64<br>CPU count: 8<br>Memory (GB): 16.64<br>",
          "Forecaster: ForecasterRecursive<br>Regressor: LGBMRegressor<br>Function: ForecasterRecursive__create_train_X_y<br>Function_hash: 20bdfc9de1cb7a9e99e703c087d136d3<br>Datetime: 2025-04-23 22:51:17.966540<br>Python version: 3.12.9<br>skforecast version: 0.14.0<br>numpy version: 2.2.5<br>pandas version: 2.2.3<br>sklearn version: 1.6.1<br>lightgbm version: 4.6.0<br>Platform: Linux-6.11.0-21-generic-x86_64-with-glibc2.39<br>Processor: x86_64<br>CPU count: 8<br>Memory (GB): 16.64<br>",
          "Forecaster: ForecasterRecursive<br>Regressor: LGBMRegressor<br>Function: ForecasterRecursive__create_train_X_y<br>Function_hash: 20bdfc9de1cb7a9e99e703c087d136d3<br>Datetime: 2025-04-23 22:17:06.944250<br>Python version: 3.12.9<br>skforecast version: 0.14.0<br>numpy version: 2.2.5<br>pandas version: 2.2.3<br>sklearn version: 1.6.1<br>lightgbm version: 4.6.0<br>Platform: Linux-6.11.0-21-generic-x86_64-with-glibc2.39<br>Processor: x86_64<br>CPU count: 8<br>Memory (GB): 16.64<br>"
         ],
         "type": "scatter",
         "x": {
          "bdata": "R887kefC7j+9ao9gHibvP3gqgQusV/A/COgJglZ28D8=",
          "dtype": "f8"
         },
         "y": {
          "bdata": "mpmZwfPKbT9mZubukxxxP5qZmcZoi24/zcyMnJD5Zz8=",
          "dtype": "f8"
         }
        },
        {
         "error_y": {
          "array": {
           "bdata": "+uhDqIrTOD+HjDLJrEguP5r0lRw0ITI/TFaluf58MT+u6Ibb8T9EPw==",
           "dtype": "f8"
          },
          "color": "#00CC96",
          "thickness": 1.5,
          "type": "data",
          "visible": true,
          "width": 5
         },
         "hovertemplate": "%{text}<extra></extra>",
         "marker": {
          "color": "#00CC96",
          "opacity": 0.7,
          "size": 10
         },
         "mode": "markers",
         "name": "Run time - 0.15.1",
         "showlegend": true,
         "text": [
          "Forecaster: ForecasterRecursive<br>Regressor: LGBMRegressor<br>Function: ForecasterRecursive__create_train_X_y<br>Function_hash: 20bdfc9de1cb7a9e99e703c087d136d3<br>Datetime: 2025-04-23 16:05:33.624338<br>Python version: 3.12.9<br>skforecast version: 0.15.1<br>numpy version: 2.2.5<br>pandas version: 2.2.3<br>sklearn version: 1.6.1<br>lightgbm version: 4.6.0<br>Platform: Linux-6.11.0-21-generic-x86_64-with-glibc2.39<br>Processor: x86_64<br>CPU count: 8<br>Memory (GB): 16.64<br>",
          "Forecaster: ForecasterRecursive<br>Regressor: LGBMRegressor<br>Function: ForecasterRecursive__create_train_X_y<br>Function_hash: 287fbd1c4920496341a9d5f9b9a9aa2a<br>Datetime: 2025-04-23 15:12:03.522895<br>Python version: 3.12.9<br>skforecast version: 0.15.1<br>numpy version: 2.2.5<br>pandas version: 2.2.3<br>sklearn version: 1.6.1<br>lightgbm version: 4.6.0<br>Platform: Linux-6.11.0-21-generic-x86_64-with-glibc2.39<br>Processor: x86_64<br>CPU count: 8<br>Memory (GB): 16.64<br>",
          "Forecaster: ForecasterRecursive<br>Regressor: LGBMRegressor<br>Function: ForecasterRecursive__create_train_X_y<br>Function_hash: 20bdfc9de1cb7a9e99e703c087d136d3<br>Datetime: 2025-04-23 16:01:06.118167<br>Python version: 3.12.9<br>skforecast version: 0.15.1<br>numpy version: 2.2.5<br>pandas version: 2.2.3<br>sklearn version: 1.6.1<br>lightgbm version: 4.6.0<br>Platform: Linux-6.11.0-21-generic-x86_64-with-glibc2.39<br>Processor: x86_64<br>CPU count: 8<br>Memory (GB): 16.64<br>",
          "Forecaster: ForecasterRecursive<br>Regressor: LGBMRegressor<br>Function: ForecasterRecursive__create_train_X_y<br>Function_hash: 20bdfc9de1cb7a9e99e703c087d136d3<br>Datetime: 2025-04-23 22:04:08.777492<br>Python version: 3.12.9<br>skforecast version: 0.15.1<br>numpy version: 2.2.5<br>pandas version: 2.2.3<br>sklearn version: 1.6.1<br>lightgbm version: 4.6.0<br>Platform: Linux-6.11.0-21-generic-x86_64-with-glibc2.39<br>Processor: x86_64<br>CPU count: 8<br>Memory (GB): 16.64<br>",
          "Forecaster: ForecasterRecursive<br>Regressor: LGBMRegressor<br>Function: ForecasterRecursive__create_train_X_y<br>Function_hash: 20bdfc9de1cb7a9e99e703c087d136d3<br>Datetime: 2025-04-23 20:22:38.457585<br>Python version: 3.12.9<br>skforecast version: 0.15.1<br>numpy version: 2.2.5<br>pandas version: 2.2.3<br>sklearn version: 1.6.1<br>lightgbm version: 4.6.0<br>Platform: Linux-6.11.0-21-generic-x86_64-with-glibc2.39<br>Processor: x86_64<br>CPU count: 8<br>Memory (GB): 16.64<br>"
         ],
         "type": "scatter",
         "x": {
          "bdata": "s9pDwPj3/z/dcUayVjQAQLs51lKIUABAwFSMOCUtAED06Y867kEAQA==",
          "dtype": "f8"
         },
         "y": {
          "bdata": "mpkZeLK3Zj/NzOyfj9JmP2ZmJtUm7W0/AADAjHacZz+amflLK4hoPw==",
          "dtype": "f8"
         }
        },
        {
         "error_y": {
          "array": {
           "bdata": "LEh1fvUINj/eD6jVGMMtPzl4dsogrDA/Jgrl1LsoOD/JBnPFRT44P2/KNdHuCyU/",
           "dtype": "f8"
          },
          "color": "#AB63FA",
          "thickness": 1.5,
          "type": "data",
          "visible": true,
          "width": 5
         },
         "hovertemplate": "%{text}<extra></extra>",
         "marker": {
          "color": "#AB63FA",
          "opacity": 0.7,
          "size": 10
         },
         "mode": "markers",
         "name": "Run time - 0.16.0",
         "showlegend": true,
         "text": [
          "Forecaster: ForecasterRecursive<br>Regressor: LGBMRegressor<br>Function: ForecasterRecursive__create_train_X_y<br>Function_hash: 287fbd1c4920496341a9d5f9b9a9aa2a<br>Datetime: 2025-04-23 15:05:58.613440<br>Python version: 3.12.9<br>skforecast version: 0.16.0<br>numpy version: 2.2.5<br>pandas version: 2.2.3<br>sklearn version: 1.6.1<br>lightgbm version: 4.6.0<br>Platform: Linux-6.11.0-21-generic-x86_64-with-glibc2.39<br>Processor: x86_64<br>CPU count: 8<br>Memory (GB): 16.64<br>",
          "Forecaster: ForecasterRecursive<br>Regressor: LGBMRegressor<br>Function: ForecasterRecursive__create_train_X_y<br>Function_hash: 20bdfc9de1cb7a9e99e703c087d136d3<br>Datetime: 2025-04-23 20:07:37.485182<br>Python version: 3.12.9<br>skforecast version: 0.16.0<br>numpy version: 2.2.5<br>pandas version: 2.2.3<br>sklearn version: 1.6.1<br>lightgbm version: 4.6.0<br>Platform: Linux-6.11.0-21-generic-x86_64-with-glibc2.39<br>Processor: x86_64<br>CPU count: 8<br>Memory (GB): 16.64<br>",
          "Forecaster: ForecasterRecursive<br>Regressor: LGBMRegressor<br>Function: ForecasterRecursive__create_train_X_y<br>Function_hash: 20bdfc9de1cb7a9e99e703c087d136d3<br>Datetime: 2025-04-23 16:12:10.844438<br>Python version: 3.12.9<br>skforecast version: 0.16.0<br>numpy version: 2.2.5<br>pandas version: 2.2.3<br>sklearn version: 1.6.1<br>lightgbm version: 4.6.0<br>Platform: Linux-6.11.0-21-generic-x86_64-with-glibc2.39<br>Processor: x86_64<br>CPU count: 8<br>Memory (GB): 16.64<br>",
          "Forecaster: ForecasterRecursive<br>Regressor: LGBMRegressor<br>Function: ForecasterRecursive__create_train_X_y<br>Function_hash: 20bdfc9de1cb7a9e99e703c087d136d3<br>Datetime: 2025-04-23 16:08:42.788133<br>Python version: 3.12.9<br>skforecast version: 0.16.0<br>numpy version: 2.2.5<br>pandas version: 2.2.3<br>sklearn version: 1.6.1<br>lightgbm version: 4.6.0<br>Platform: Linux-6.11.0-21-generic-x86_64-with-glibc2.39<br>Processor: x86_64<br>CPU count: 8<br>Memory (GB): 16.64<br>",
          "Forecaster: ForecasterRecursive<br>Regressor: LGBMRegressor<br>Function: ForecasterRecursive__create_train_X_y<br>Function_hash: 20bdfc9de1cb7a9e99e703c087d136d3<br>Datetime: 2025-04-23 20:15:11.577700<br>Python version: 3.12.9<br>skforecast version: 0.16.0<br>numpy version: 2.2.5<br>pandas version: 2.2.3<br>sklearn version: 1.6.1<br>lightgbm version: 4.6.0<br>Platform: Linux-6.11.0-21-generic-x86_64-with-glibc2.39<br>Processor: x86_64<br>CPU count: 8<br>Memory (GB): 16.64<br>",
          "Forecaster: ForecasterRecursive<br>Regressor: LGBMRegressor<br>Function: ForecasterRecursive__create_train_X_y<br>Function_hash: 20bdfc9de1cb7a9e99e703c087d136d3<br>Datetime: 2025-04-23 22:59:15.715875<br>Python version: 3.12.9<br>skforecast version: 0.16.0<br>numpy version: 2.2.5<br>pandas version: 2.2.3<br>sklearn version: 1.6.1<br>lightgbm version: 4.6.0<br>Platform: Linux-6.11.0-21-generic-x86_64-with-glibc2.39<br>Processor: x86_64<br>CPU count: 8<br>Memory (GB): 16.64<br>"
         ],
         "type": "scatter",
         "x": {
          "bdata": "O21cSeg6CEAq4w44tEMIQELsNhCxCAhA87Jsk5y6B0AOclqACaYHQNkZK3SLTwhA",
          "dtype": "f8"
         },
         "y": {
          "bdata": "zczMIy9XbT/NzOyMT7ZlP83MLAm0pG0/MzPzeKOdbj/NzExETc9vP2ZmZqyBsmw/",
          "dtype": "f8"
         }
        },
        {
         "line": {
          "color": "black",
          "width": 2
         },
         "marker": {
          "color": "black",
          "size": 8
         },
         "mode": "lines+markers",
         "name": "Median (per version)",
         "type": "scatter",
         "x": {
          "bdata": "AAECAw==",
          "dtype": "i1"
         },
         "y": {
          "bdata": "mplZj4jcbT+amRlELituPwAAwIx2nGc/zcx8lvF9bT8=",
          "dtype": "f8"
         }
        }
       ],
       "layout": {
        "showlegend": true,
        "template": {
         "data": {
          "bar": [
           {
            "error_x": {
             "color": "#2a3f5f"
            },
            "error_y": {
             "color": "#2a3f5f"
            },
            "marker": {
             "line": {
              "color": "#E5ECF6",
              "width": 0.5
             },
             "pattern": {
              "fillmode": "overlay",
              "size": 10,
              "solidity": 0.2
             }
            },
            "type": "bar"
           }
          ],
          "barpolar": [
           {
            "marker": {
             "line": {
              "color": "#E5ECF6",
              "width": 0.5
             },
             "pattern": {
              "fillmode": "overlay",
              "size": 10,
              "solidity": 0.2
             }
            },
            "type": "barpolar"
           }
          ],
          "carpet": [
           {
            "aaxis": {
             "endlinecolor": "#2a3f5f",
             "gridcolor": "white",
             "linecolor": "white",
             "minorgridcolor": "white",
             "startlinecolor": "#2a3f5f"
            },
            "baxis": {
             "endlinecolor": "#2a3f5f",
             "gridcolor": "white",
             "linecolor": "white",
             "minorgridcolor": "white",
             "startlinecolor": "#2a3f5f"
            },
            "type": "carpet"
           }
          ],
          "choropleth": [
           {
            "colorbar": {
             "outlinewidth": 0,
             "ticks": ""
            },
            "type": "choropleth"
           }
          ],
          "contour": [
           {
            "colorbar": {
             "outlinewidth": 0,
             "ticks": ""
            },
            "colorscale": [
             [
              0,
              "#0d0887"
             ],
             [
              0.1111111111111111,
              "#46039f"
             ],
             [
              0.2222222222222222,
              "#7201a8"
             ],
             [
              0.3333333333333333,
              "#9c179e"
             ],
             [
              0.4444444444444444,
              "#bd3786"
             ],
             [
              0.5555555555555556,
              "#d8576b"
             ],
             [
              0.6666666666666666,
              "#ed7953"
             ],
             [
              0.7777777777777778,
              "#fb9f3a"
             ],
             [
              0.8888888888888888,
              "#fdca26"
             ],
             [
              1,
              "#f0f921"
             ]
            ],
            "type": "contour"
           }
          ],
          "contourcarpet": [
           {
            "colorbar": {
             "outlinewidth": 0,
             "ticks": ""
            },
            "type": "contourcarpet"
           }
          ],
          "heatmap": [
           {
            "colorbar": {
             "outlinewidth": 0,
             "ticks": ""
            },
            "colorscale": [
             [
              0,
              "#0d0887"
             ],
             [
              0.1111111111111111,
              "#46039f"
             ],
             [
              0.2222222222222222,
              "#7201a8"
             ],
             [
              0.3333333333333333,
              "#9c179e"
             ],
             [
              0.4444444444444444,
              "#bd3786"
             ],
             [
              0.5555555555555556,
              "#d8576b"
             ],
             [
              0.6666666666666666,
              "#ed7953"
             ],
             [
              0.7777777777777778,
              "#fb9f3a"
             ],
             [
              0.8888888888888888,
              "#fdca26"
             ],
             [
              1,
              "#f0f921"
             ]
            ],
            "type": "heatmap"
           }
          ],
          "histogram": [
           {
            "marker": {
             "pattern": {
              "fillmode": "overlay",
              "size": 10,
              "solidity": 0.2
             }
            },
            "type": "histogram"
           }
          ],
          "histogram2d": [
           {
            "colorbar": {
             "outlinewidth": 0,
             "ticks": ""
            },
            "colorscale": [
             [
              0,
              "#0d0887"
             ],
             [
              0.1111111111111111,
              "#46039f"
             ],
             [
              0.2222222222222222,
              "#7201a8"
             ],
             [
              0.3333333333333333,
              "#9c179e"
             ],
             [
              0.4444444444444444,
              "#bd3786"
             ],
             [
              0.5555555555555556,
              "#d8576b"
             ],
             [
              0.6666666666666666,
              "#ed7953"
             ],
             [
              0.7777777777777778,
              "#fb9f3a"
             ],
             [
              0.8888888888888888,
              "#fdca26"
             ],
             [
              1,
              "#f0f921"
             ]
            ],
            "type": "histogram2d"
           }
          ],
          "histogram2dcontour": [
           {
            "colorbar": {
             "outlinewidth": 0,
             "ticks": ""
            },
            "colorscale": [
             [
              0,
              "#0d0887"
             ],
             [
              0.1111111111111111,
              "#46039f"
             ],
             [
              0.2222222222222222,
              "#7201a8"
             ],
             [
              0.3333333333333333,
              "#9c179e"
             ],
             [
              0.4444444444444444,
              "#bd3786"
             ],
             [
              0.5555555555555556,
              "#d8576b"
             ],
             [
              0.6666666666666666,
              "#ed7953"
             ],
             [
              0.7777777777777778,
              "#fb9f3a"
             ],
             [
              0.8888888888888888,
              "#fdca26"
             ],
             [
              1,
              "#f0f921"
             ]
            ],
            "type": "histogram2dcontour"
           }
          ],
          "mesh3d": [
           {
            "colorbar": {
             "outlinewidth": 0,
             "ticks": ""
            },
            "type": "mesh3d"
           }
          ],
          "parcoords": [
           {
            "line": {
             "colorbar": {
              "outlinewidth": 0,
              "ticks": ""
             }
            },
            "type": "parcoords"
           }
          ],
          "pie": [
           {
            "automargin": true,
            "type": "pie"
           }
          ],
          "scatter": [
           {
            "fillpattern": {
             "fillmode": "overlay",
             "size": 10,
             "solidity": 0.2
            },
            "type": "scatter"
           }
          ],
          "scatter3d": [
           {
            "line": {
             "colorbar": {
              "outlinewidth": 0,
              "ticks": ""
             }
            },
            "marker": {
             "colorbar": {
              "outlinewidth": 0,
              "ticks": ""
             }
            },
            "type": "scatter3d"
           }
          ],
          "scattercarpet": [
           {
            "marker": {
             "colorbar": {
              "outlinewidth": 0,
              "ticks": ""
             }
            },
            "type": "scattercarpet"
           }
          ],
          "scattergeo": [
           {
            "marker": {
             "colorbar": {
              "outlinewidth": 0,
              "ticks": ""
             }
            },
            "type": "scattergeo"
           }
          ],
          "scattergl": [
           {
            "marker": {
             "colorbar": {
              "outlinewidth": 0,
              "ticks": ""
             }
            },
            "type": "scattergl"
           }
          ],
          "scattermap": [
           {
            "marker": {
             "colorbar": {
              "outlinewidth": 0,
              "ticks": ""
             }
            },
            "type": "scattermap"
           }
          ],
          "scattermapbox": [
           {
            "marker": {
             "colorbar": {
              "outlinewidth": 0,
              "ticks": ""
             }
            },
            "type": "scattermapbox"
           }
          ],
          "scatterpolar": [
           {
            "marker": {
             "colorbar": {
              "outlinewidth": 0,
              "ticks": ""
             }
            },
            "type": "scatterpolar"
           }
          ],
          "scatterpolargl": [
           {
            "marker": {
             "colorbar": {
              "outlinewidth": 0,
              "ticks": ""
             }
            },
            "type": "scatterpolargl"
           }
          ],
          "scatterternary": [
           {
            "marker": {
             "colorbar": {
              "outlinewidth": 0,
              "ticks": ""
             }
            },
            "type": "scatterternary"
           }
          ],
          "surface": [
           {
            "colorbar": {
             "outlinewidth": 0,
             "ticks": ""
            },
            "colorscale": [
             [
              0,
              "#0d0887"
             ],
             [
              0.1111111111111111,
              "#46039f"
             ],
             [
              0.2222222222222222,
              "#7201a8"
             ],
             [
              0.3333333333333333,
              "#9c179e"
             ],
             [
              0.4444444444444444,
              "#bd3786"
             ],
             [
              0.5555555555555556,
              "#d8576b"
             ],
             [
              0.6666666666666666,
              "#ed7953"
             ],
             [
              0.7777777777777778,
              "#fb9f3a"
             ],
             [
              0.8888888888888888,
              "#fdca26"
             ],
             [
              1,
              "#f0f921"
             ]
            ],
            "type": "surface"
           }
          ],
          "table": [
           {
            "cells": {
             "fill": {
              "color": "#EBF0F8"
             },
             "line": {
              "color": "white"
             }
            },
            "header": {
             "fill": {
              "color": "#C8D4E3"
             },
             "line": {
              "color": "white"
             }
            },
            "type": "table"
           }
          ]
         },
         "layout": {
          "annotationdefaults": {
           "arrowcolor": "#2a3f5f",
           "arrowhead": 0,
           "arrowwidth": 1
          },
          "autotypenumbers": "strict",
          "coloraxis": {
           "colorbar": {
            "outlinewidth": 0,
            "ticks": ""
           }
          },
          "colorscale": {
           "diverging": [
            [
             0,
             "#8e0152"
            ],
            [
             0.1,
             "#c51b7d"
            ],
            [
             0.2,
             "#de77ae"
            ],
            [
             0.3,
             "#f1b6da"
            ],
            [
             0.4,
             "#fde0ef"
            ],
            [
             0.5,
             "#f7f7f7"
            ],
            [
             0.6,
             "#e6f5d0"
            ],
            [
             0.7,
             "#b8e186"
            ],
            [
             0.8,
             "#7fbc41"
            ],
            [
             0.9,
             "#4d9221"
            ],
            [
             1,
             "#276419"
            ]
           ],
           "sequential": [
            [
             0,
             "#0d0887"
            ],
            [
             0.1111111111111111,
             "#46039f"
            ],
            [
             0.2222222222222222,
             "#7201a8"
            ],
            [
             0.3333333333333333,
             "#9c179e"
            ],
            [
             0.4444444444444444,
             "#bd3786"
            ],
            [
             0.5555555555555556,
             "#d8576b"
            ],
            [
             0.6666666666666666,
             "#ed7953"
            ],
            [
             0.7777777777777778,
             "#fb9f3a"
            ],
            [
             0.8888888888888888,
             "#fdca26"
            ],
            [
             1,
             "#f0f921"
            ]
           ],
           "sequentialminus": [
            [
             0,
             "#0d0887"
            ],
            [
             0.1111111111111111,
             "#46039f"
            ],
            [
             0.2222222222222222,
             "#7201a8"
            ],
            [
             0.3333333333333333,
             "#9c179e"
            ],
            [
             0.4444444444444444,
             "#bd3786"
            ],
            [
             0.5555555555555556,
             "#d8576b"
            ],
            [
             0.6666666666666666,
             "#ed7953"
            ],
            [
             0.7777777777777778,
             "#fb9f3a"
            ],
            [
             0.8888888888888888,
             "#fdca26"
            ],
            [
             1,
             "#f0f921"
            ]
           ]
          },
          "colorway": [
           "#636efa",
           "#EF553B",
           "#00cc96",
           "#ab63fa",
           "#FFA15A",
           "#19d3f3",
           "#FF6692",
           "#B6E880",
           "#FF97FF",
           "#FECB52"
          ],
          "font": {
           "color": "#2a3f5f"
          },
          "geo": {
           "bgcolor": "white",
           "lakecolor": "white",
           "landcolor": "#E5ECF6",
           "showlakes": true,
           "showland": true,
           "subunitcolor": "white"
          },
          "hoverlabel": {
           "align": "left"
          },
          "hovermode": "closest",
          "mapbox": {
           "style": "light"
          },
          "paper_bgcolor": "white",
          "plot_bgcolor": "#E5ECF6",
          "polar": {
           "angularaxis": {
            "gridcolor": "white",
            "linecolor": "white",
            "ticks": ""
           },
           "bgcolor": "#E5ECF6",
           "radialaxis": {
            "gridcolor": "white",
            "linecolor": "white",
            "ticks": ""
           }
          },
          "scene": {
           "xaxis": {
            "backgroundcolor": "#E5ECF6",
            "gridcolor": "white",
            "gridwidth": 2,
            "linecolor": "white",
            "showbackground": true,
            "ticks": "",
            "zerolinecolor": "white"
           },
           "yaxis": {
            "backgroundcolor": "#E5ECF6",
            "gridcolor": "white",
            "gridwidth": 2,
            "linecolor": "white",
            "showbackground": true,
            "ticks": "",
            "zerolinecolor": "white"
           },
           "zaxis": {
            "backgroundcolor": "#E5ECF6",
            "gridcolor": "white",
            "gridwidth": 2,
            "linecolor": "white",
            "showbackground": true,
            "ticks": "",
            "zerolinecolor": "white"
           }
          },
          "shapedefaults": {
           "line": {
            "color": "#2a3f5f"
           }
          },
          "ternary": {
           "aaxis": {
            "gridcolor": "white",
            "linecolor": "white",
            "ticks": ""
           },
           "baxis": {
            "gridcolor": "white",
            "linecolor": "white",
            "ticks": ""
           },
           "bgcolor": "#E5ECF6",
           "caxis": {
            "gridcolor": "white",
            "linecolor": "white",
            "ticks": ""
           }
          },
          "title": {
           "x": 0.05
          },
          "xaxis": {
           "automargin": true,
           "gridcolor": "white",
           "linecolor": "white",
           "ticks": "",
           "title": {
            "standoff": 15
           },
           "zerolinecolor": "white",
           "zerolinewidth": 2
          },
          "yaxis": {
           "automargin": true,
           "gridcolor": "white",
           "linecolor": "white",
           "ticks": "",
           "title": {
            "standoff": 15
           },
           "zerolinecolor": "white",
           "zerolinewidth": 2
          }
         }
        },
        "title": {
         "text": "Execution time of ForecasterRecursive__create_train_X_y"
        },
        "xaxis": {
         "tickangle": -45,
         "tickmode": "array",
         "ticktext": [
          "0.13.0",
          "0.14.0",
          "0.15.1",
          "0.16.0"
         ],
         "tickvals": [
          0,
          1,
          2,
          3
         ],
         "title": {
          "text": "skforecast version"
         }
        },
        "yaxis": {
         "title": {
          "text": "Execution time (seconds)"
         }
        }
       }
      }
     },
     "metadata": {},
     "output_type": "display_data"
    },
    {
     "data": {
      "application/vnd.microsoft.datawrangler.viewer.v0+json": {
       "columns": [
        {
         "name": "index",
         "rawType": "int64",
         "type": "integer"
        },
        {
         "name": "forecaster_name",
         "rawType": "object",
         "type": "string"
        },
        {
         "name": "regressor_name",
         "rawType": "object",
         "type": "string"
        },
        {
         "name": "function_name",
         "rawType": "object",
         "type": "string"
        },
        {
         "name": "function_hash",
         "rawType": "object",
         "type": "string"
        },
        {
         "name": "run_time_avg",
         "rawType": "float64",
         "type": "float"
        },
        {
         "name": "run_time_std_dev",
         "rawType": "float64",
         "type": "float"
        },
        {
         "name": "datetime",
         "rawType": "datetime64[ns]",
         "type": "datetime"
        },
        {
         "name": "python_version",
         "rawType": "object",
         "type": "string"
        },
        {
         "name": "skforecast_version",
         "rawType": "object",
         "type": "string"
        },
        {
         "name": "numpy_version",
         "rawType": "object",
         "type": "string"
        },
        {
         "name": "pandas_version",
         "rawType": "object",
         "type": "string"
        },
        {
         "name": "sklearn_version",
         "rawType": "object",
         "type": "string"
        },
        {
         "name": "lightgbm_version",
         "rawType": "object",
         "type": "string"
        },
        {
         "name": "platform",
         "rawType": "object",
         "type": "string"
        },
        {
         "name": "processor",
         "rawType": "object",
         "type": "string"
        },
        {
         "name": "cpu_count",
         "rawType": "int64",
         "type": "integer"
        },
        {
         "name": "memory_gb",
         "rawType": "float64",
         "type": "float"
        }
       ],
       "conversionMethod": "pd.DataFrame",
       "ref": "5c006eac-0ac1-433b-8950-acf47e86086b",
       "rows": [
        [
         "10",
         "ForecasterRecursive",
         "LGBMRegressor",
         "ForecasterRecursive_predict",
         "4f8ae3116340ac90eb9e66eac42789de",
         "0.07513624210041599",
         "0.004202259069974478",
         "2025-04-23 15:05:58.891908",
         "3.12.9",
         "0.16.0",
         "2.2.5",
         "2.2.3",
         "1.6.1",
         "4.6.0",
         "Linux-6.11.0-21-generic-x86_64-with-glibc2.39",
         "x86_64",
         "8",
         "16.64"
        ],
        [
         "22",
         "ForecasterRecursive",
         "LGBMRegressor",
         "ForecasterRecursive_predict",
         "4f8ae3116340ac90eb9e66eac42789de",
         "0.058052727699941895",
         "0.0011193468405259332",
         "2025-04-23 15:12:03.760460",
         "3.12.9",
         "0.15.1",
         "2.2.5",
         "2.2.3",
         "1.6.1",
         "4.6.0",
         "Linux-6.11.0-21-generic-x86_64-with-glibc2.39",
         "x86_64",
         "8",
         "16.64"
        ],
        [
         "34",
         "ForecasterRecursive",
         "LGBMRegressor",
         "ForecasterRecursive_predict",
         "4f8ae3116340ac90eb9e66eac42789de",
         "0.08437705670021386",
         "0.019526727413270988",
         "2025-04-23 15:15:59.361690",
         "3.12.9",
         "0.14.0",
         "2.2.5",
         "2.2.3",
         "1.6.1",
         "4.6.0",
         "Linux-6.11.0-21-generic-x86_64-with-glibc2.39",
         "x86_64",
         "8",
         "16.64"
        ],
        [
         "46",
         "ForecasterAutoreg",
         "LGBMRegressor",
         "ForecasterRecursive_predict",
         "4f8ae3116340ac90eb9e66eac42789de",
         "0.07507486530012102",
         "0.003941938930363311",
         "2025-04-23 15:31:32.543497",
         "3.12.9",
         "0.13.0",
         "2.2.5",
         "2.2.3",
         "1.6.1",
         "4.6.0",
         "Linux-6.11.0-21-generic-x86_64-with-glibc2.39",
         "x86_64",
         "8",
         "16.64"
        ],
        [
         "58",
         "ForecasterAutoreg",
         "LGBMRegressor",
         "ForecasterRecursive_predict",
         "4f8ae3116340ac90eb9e66eac42789de",
         "0.08008301919981023",
         "0.004091988084839491",
         "2025-04-23 15:41:06.477888",
         "3.12.9",
         "0.13.0",
         "2.2.5",
         "2.2.3",
         "1.6.1",
         "4.6.0",
         "Linux-6.11.0-21-generic-x86_64-with-glibc2.39",
         "x86_64",
         "8",
         "16.64"
        ],
        [
         "62",
         "ForecasterAutoreg",
         "LGBMRegressor",
         "ForecasterRecursive_predict",
         "4f8ae3116340ac90eb9e66eac42789de",
         "0.0681095665999237",
         "0.005325810334541273",
         "2025-04-23 15:46:07.814583",
         "3.12.9",
         "0.13.0",
         "2.2.5",
         "2.2.3",
         "1.6.1",
         "4.6.0",
         "Linux-6.11.0-21-generic-x86_64-with-glibc2.39",
         "x86_64",
         "8",
         "16.64"
        ],
        [
         "66",
         "ForecasterAutoreg",
         "LGBMRegressor",
         "ForecasterRecursive_predict",
         "4f8ae3116340ac90eb9e66eac42789de",
         "0.06888195860010456",
         "0.004035633858485056",
         "2025-04-23 15:46:41.087891",
         "3.12.9",
         "0.13.0",
         "2.2.5",
         "2.2.3",
         "1.6.1",
         "4.6.0",
         "Linux-6.11.0-21-generic-x86_64-with-glibc2.39",
         "x86_64",
         "8",
         "16.64"
        ],
        [
         "78",
         "ForecasterRecursive",
         "LGBMRegressor",
         "ForecasterRecursive_predict",
         "4f8ae3116340ac90eb9e66eac42789de",
         "0.08936071180014551",
         "0.00609020884558872",
         "2025-04-23 15:56:53.918733",
         "3.12.9",
         "0.14.0",
         "2.2.5",
         "2.2.3",
         "1.6.1",
         "4.6.0",
         "Linux-6.11.0-21-generic-x86_64-with-glibc2.39",
         "x86_64",
         "8",
         "16.64"
        ],
        [
         "90",
         "ForecasterRecursive",
         "LGBMRegressor",
         "ForecasterRecursive_predict",
         "4f8ae3116340ac90eb9e66eac42789de",
         "0.07749494120016606",
         "0.007501770036742843",
         "2025-04-23 16:01:06.363095",
         "3.12.9",
         "0.15.1",
         "2.2.5",
         "2.2.3",
         "1.6.1",
         "4.6.0",
         "Linux-6.11.0-21-generic-x86_64-with-glibc2.39",
         "x86_64",
         "8",
         "16.64"
        ],
        [
         "102",
         "ForecasterRecursive",
         "LGBMRegressor",
         "ForecasterRecursive_predict",
         "4f8ae3116340ac90eb9e66eac42789de",
         "0.06134711189988593",
         "0.0023799922929652537",
         "2025-04-23 16:05:33.829933",
         "3.12.9",
         "0.15.1",
         "2.2.5",
         "2.2.3",
         "1.6.1",
         "4.6.0",
         "Linux-6.11.0-21-generic-x86_64-with-glibc2.39",
         "x86_64",
         "8",
         "16.64"
        ],
        [
         "114",
         "ForecasterRecursive",
         "LGBMRegressor",
         "ForecasterRecursive_predict",
         "4f8ae3116340ac90eb9e66eac42789de",
         "0.09983513329989364",
         "0.025445827061785248",
         "2025-04-23 16:08:43.060379",
         "3.12.9",
         "0.16.0",
         "2.2.5",
         "2.2.3",
         "1.6.1",
         "4.6.0",
         "Linux-6.11.0-21-generic-x86_64-with-glibc2.39",
         "x86_64",
         "8",
         "16.64"
        ],
        [
         "126",
         "ForecasterRecursive",
         "LGBMRegressor",
         "ForecasterRecursive_predict",
         "4f8ae3116340ac90eb9e66eac42789de",
         "0.07448274099988339",
         "0.0050891159745235556",
         "2025-04-23 16:12:11.093929",
         "3.12.9",
         "0.16.0",
         "2.2.5",
         "2.2.3",
         "1.6.1",
         "4.6.0",
         "Linux-6.11.0-21-generic-x86_64-with-glibc2.39",
         "x86_64",
         "8",
         "16.64"
        ],
        [
         "131",
         "ForecasterRecursive",
         "LGBMRegressor",
         "ForecasterRecursive_predict",
         "4f8ae3116340ac90eb9e66eac42789de",
         "0.05913770619990828",
         "0.0029518937447840857",
         "2025-04-23 20:07:37.688535",
         "3.12.9",
         "0.16.0",
         "2.2.5",
         "2.2.3",
         "1.6.1",
         "4.6.0",
         "Linux-6.11.0-21-generic-x86_64-with-glibc2.39",
         "x86_64",
         "8",
         "16.64"
        ],
        [
         "146",
         "ForecasterRecursive",
         "LGBMRegressor",
         "ForecasterRecursive_predict",
         "4f8ae3116340ac90eb9e66eac42789de",
         "0.07533494280014566",
         "0.004612524296090985",
         "2025-04-23 20:15:11.845982",
         "3.12.9",
         "0.16.0",
         "2.2.5",
         "2.2.3",
         "1.6.1",
         "4.6.0",
         "Linux-6.11.0-21-generic-x86_64-with-glibc2.39",
         "x86_64",
         "8",
         "16.64"
        ],
        [
         "159",
         "ForecasterRecursive",
         "LGBMRegressor",
         "ForecasterRecursive_predict",
         "4f8ae3116340ac90eb9e66eac42789de",
         "0.05694335640018835",
         "0.0015298211484113234",
         "2025-04-23 20:22:38.666276",
         "3.12.9",
         "0.15.1",
         "2.2.5",
         "2.2.3",
         "1.6.1",
         "4.6.0",
         "Linux-6.11.0-21-generic-x86_64-with-glibc2.39",
         "x86_64",
         "8",
         "16.64"
        ],
        [
         "172",
         "ForecasterRecursive",
         "LGBMRegressor",
         "ForecasterRecursive_predict",
         "4f8ae3116340ac90eb9e66eac42789de",
         "0.057730408900170005",
         "0.000907880988942686",
         "2025-04-23 22:04:08.982584",
         "3.12.9",
         "0.15.1",
         "2.2.5",
         "2.2.3",
         "1.6.1",
         "4.6.0",
         "Linux-6.11.0-21-generic-x86_64-with-glibc2.39",
         "x86_64",
         "8",
         "16.64"
        ],
        [
         "185",
         "ForecasterRecursive",
         "LGBMRegressor",
         "ForecasterRecursive_predict",
         "4f8ae3116340ac90eb9e66eac42789de",
         "0.06070157400063181",
         "0.0015029035589285379",
         "2025-04-23 22:17:07.154060",
         "3.12.9",
         "0.14.0",
         "2.2.5",
         "2.2.3",
         "1.6.1",
         "4.6.0",
         "Linux-6.11.0-21-generic-x86_64-with-glibc2.39",
         "x86_64",
         "8",
         "16.64"
        ],
        [
         "198",
         "ForecasterRecursive",
         "LGBMRegressor",
         "ForecasterRecursive_predict",
         "4f8ae3116340ac90eb9e66eac42789de",
         "0.07257225060056953",
         "0.002594200719763446",
         "2025-04-23 22:51:18.211253",
         "3.12.9",
         "0.14.0",
         "2.2.5",
         "2.2.3",
         "1.6.1",
         "4.6.0",
         "Linux-6.11.0-21-generic-x86_64-with-glibc2.39",
         "x86_64",
         "8",
         "16.64"
        ],
        [
         "213",
         "ForecasterRecursive",
         "LGBMRegressor",
         "ForecasterRecursive_predict",
         "4f8ae3116340ac90eb9e66eac42789de",
         "0.08627472479965945",
         "0.011339561973411934",
         "2025-04-23 22:59:15.975815",
         "3.12.9",
         "0.16.0",
         "2.2.5",
         "2.2.3",
         "1.6.1",
         "4.6.0",
         "Linux-6.11.0-21-generic-x86_64-with-glibc2.39",
         "x86_64",
         "8",
         "16.64"
        ]
       ],
       "shape": {
        "columns": 17,
        "rows": 19
       }
      },
      "text/html": [
       "<div>\n",
       "<style scoped>\n",
       "    .dataframe tbody tr th:only-of-type {\n",
       "        vertical-align: middle;\n",
       "    }\n",
       "\n",
       "    .dataframe tbody tr th {\n",
       "        vertical-align: top;\n",
       "    }\n",
       "\n",
       "    .dataframe thead th {\n",
       "        text-align: right;\n",
       "    }\n",
       "</style>\n",
       "<table border=\"1\" class=\"dataframe\">\n",
       "  <thead>\n",
       "    <tr style=\"text-align: right;\">\n",
       "      <th></th>\n",
       "      <th>forecaster_name</th>\n",
       "      <th>regressor_name</th>\n",
       "      <th>function_name</th>\n",
       "      <th>function_hash</th>\n",
       "      <th>run_time_avg</th>\n",
       "      <th>run_time_std_dev</th>\n",
       "      <th>datetime</th>\n",
       "      <th>python_version</th>\n",
       "      <th>skforecast_version</th>\n",
       "      <th>numpy_version</th>\n",
       "      <th>pandas_version</th>\n",
       "      <th>sklearn_version</th>\n",
       "      <th>lightgbm_version</th>\n",
       "      <th>platform</th>\n",
       "      <th>processor</th>\n",
       "      <th>cpu_count</th>\n",
       "      <th>memory_gb</th>\n",
       "    </tr>\n",
       "  </thead>\n",
       "  <tbody>\n",
       "    <tr>\n",
       "      <th>10</th>\n",
       "      <td>ForecasterRecursive</td>\n",
       "      <td>LGBMRegressor</td>\n",
       "      <td>ForecasterRecursive_predict</td>\n",
       "      <td>4f8ae3116340ac90eb9e66eac42789de</td>\n",
       "      <td>0.075136</td>\n",
       "      <td>0.004202</td>\n",
       "      <td>2025-04-23 15:05:58.891908</td>\n",
       "      <td>3.12.9</td>\n",
       "      <td>0.16.0</td>\n",
       "      <td>2.2.5</td>\n",
       "      <td>2.2.3</td>\n",
       "      <td>1.6.1</td>\n",
       "      <td>4.6.0</td>\n",
       "      <td>Linux-6.11.0-21-generic-x86_64-with-glibc2.39</td>\n",
       "      <td>x86_64</td>\n",
       "      <td>8</td>\n",
       "      <td>16.64</td>\n",
       "    </tr>\n",
       "    <tr>\n",
       "      <th>22</th>\n",
       "      <td>ForecasterRecursive</td>\n",
       "      <td>LGBMRegressor</td>\n",
       "      <td>ForecasterRecursive_predict</td>\n",
       "      <td>4f8ae3116340ac90eb9e66eac42789de</td>\n",
       "      <td>0.058053</td>\n",
       "      <td>0.001119</td>\n",
       "      <td>2025-04-23 15:12:03.760460</td>\n",
       "      <td>3.12.9</td>\n",
       "      <td>0.15.1</td>\n",
       "      <td>2.2.5</td>\n",
       "      <td>2.2.3</td>\n",
       "      <td>1.6.1</td>\n",
       "      <td>4.6.0</td>\n",
       "      <td>Linux-6.11.0-21-generic-x86_64-with-glibc2.39</td>\n",
       "      <td>x86_64</td>\n",
       "      <td>8</td>\n",
       "      <td>16.64</td>\n",
       "    </tr>\n",
       "    <tr>\n",
       "      <th>34</th>\n",
       "      <td>ForecasterRecursive</td>\n",
       "      <td>LGBMRegressor</td>\n",
       "      <td>ForecasterRecursive_predict</td>\n",
       "      <td>4f8ae3116340ac90eb9e66eac42789de</td>\n",
       "      <td>0.084377</td>\n",
       "      <td>0.019527</td>\n",
       "      <td>2025-04-23 15:15:59.361690</td>\n",
       "      <td>3.12.9</td>\n",
       "      <td>0.14.0</td>\n",
       "      <td>2.2.5</td>\n",
       "      <td>2.2.3</td>\n",
       "      <td>1.6.1</td>\n",
       "      <td>4.6.0</td>\n",
       "      <td>Linux-6.11.0-21-generic-x86_64-with-glibc2.39</td>\n",
       "      <td>x86_64</td>\n",
       "      <td>8</td>\n",
       "      <td>16.64</td>\n",
       "    </tr>\n",
       "    <tr>\n",
       "      <th>46</th>\n",
       "      <td>ForecasterAutoreg</td>\n",
       "      <td>LGBMRegressor</td>\n",
       "      <td>ForecasterRecursive_predict</td>\n",
       "      <td>4f8ae3116340ac90eb9e66eac42789de</td>\n",
       "      <td>0.075075</td>\n",
       "      <td>0.003942</td>\n",
       "      <td>2025-04-23 15:31:32.543497</td>\n",
       "      <td>3.12.9</td>\n",
       "      <td>0.13.0</td>\n",
       "      <td>2.2.5</td>\n",
       "      <td>2.2.3</td>\n",
       "      <td>1.6.1</td>\n",
       "      <td>4.6.0</td>\n",
       "      <td>Linux-6.11.0-21-generic-x86_64-with-glibc2.39</td>\n",
       "      <td>x86_64</td>\n",
       "      <td>8</td>\n",
       "      <td>16.64</td>\n",
       "    </tr>\n",
       "    <tr>\n",
       "      <th>58</th>\n",
       "      <td>ForecasterAutoreg</td>\n",
       "      <td>LGBMRegressor</td>\n",
       "      <td>ForecasterRecursive_predict</td>\n",
       "      <td>4f8ae3116340ac90eb9e66eac42789de</td>\n",
       "      <td>0.080083</td>\n",
       "      <td>0.004092</td>\n",
       "      <td>2025-04-23 15:41:06.477888</td>\n",
       "      <td>3.12.9</td>\n",
       "      <td>0.13.0</td>\n",
       "      <td>2.2.5</td>\n",
       "      <td>2.2.3</td>\n",
       "      <td>1.6.1</td>\n",
       "      <td>4.6.0</td>\n",
       "      <td>Linux-6.11.0-21-generic-x86_64-with-glibc2.39</td>\n",
       "      <td>x86_64</td>\n",
       "      <td>8</td>\n",
       "      <td>16.64</td>\n",
       "    </tr>\n",
       "    <tr>\n",
       "      <th>62</th>\n",
       "      <td>ForecasterAutoreg</td>\n",
       "      <td>LGBMRegressor</td>\n",
       "      <td>ForecasterRecursive_predict</td>\n",
       "      <td>4f8ae3116340ac90eb9e66eac42789de</td>\n",
       "      <td>0.068110</td>\n",
       "      <td>0.005326</td>\n",
       "      <td>2025-04-23 15:46:07.814583</td>\n",
       "      <td>3.12.9</td>\n",
       "      <td>0.13.0</td>\n",
       "      <td>2.2.5</td>\n",
       "      <td>2.2.3</td>\n",
       "      <td>1.6.1</td>\n",
       "      <td>4.6.0</td>\n",
       "      <td>Linux-6.11.0-21-generic-x86_64-with-glibc2.39</td>\n",
       "      <td>x86_64</td>\n",
       "      <td>8</td>\n",
       "      <td>16.64</td>\n",
       "    </tr>\n",
       "    <tr>\n",
       "      <th>66</th>\n",
       "      <td>ForecasterAutoreg</td>\n",
       "      <td>LGBMRegressor</td>\n",
       "      <td>ForecasterRecursive_predict</td>\n",
       "      <td>4f8ae3116340ac90eb9e66eac42789de</td>\n",
       "      <td>0.068882</td>\n",
       "      <td>0.004036</td>\n",
       "      <td>2025-04-23 15:46:41.087891</td>\n",
       "      <td>3.12.9</td>\n",
       "      <td>0.13.0</td>\n",
       "      <td>2.2.5</td>\n",
       "      <td>2.2.3</td>\n",
       "      <td>1.6.1</td>\n",
       "      <td>4.6.0</td>\n",
       "      <td>Linux-6.11.0-21-generic-x86_64-with-glibc2.39</td>\n",
       "      <td>x86_64</td>\n",
       "      <td>8</td>\n",
       "      <td>16.64</td>\n",
       "    </tr>\n",
       "    <tr>\n",
       "      <th>78</th>\n",
       "      <td>ForecasterRecursive</td>\n",
       "      <td>LGBMRegressor</td>\n",
       "      <td>ForecasterRecursive_predict</td>\n",
       "      <td>4f8ae3116340ac90eb9e66eac42789de</td>\n",
       "      <td>0.089361</td>\n",
       "      <td>0.006090</td>\n",
       "      <td>2025-04-23 15:56:53.918733</td>\n",
       "      <td>3.12.9</td>\n",
       "      <td>0.14.0</td>\n",
       "      <td>2.2.5</td>\n",
       "      <td>2.2.3</td>\n",
       "      <td>1.6.1</td>\n",
       "      <td>4.6.0</td>\n",
       "      <td>Linux-6.11.0-21-generic-x86_64-with-glibc2.39</td>\n",
       "      <td>x86_64</td>\n",
       "      <td>8</td>\n",
       "      <td>16.64</td>\n",
       "    </tr>\n",
       "    <tr>\n",
       "      <th>90</th>\n",
       "      <td>ForecasterRecursive</td>\n",
       "      <td>LGBMRegressor</td>\n",
       "      <td>ForecasterRecursive_predict</td>\n",
       "      <td>4f8ae3116340ac90eb9e66eac42789de</td>\n",
       "      <td>0.077495</td>\n",
       "      <td>0.007502</td>\n",
       "      <td>2025-04-23 16:01:06.363095</td>\n",
       "      <td>3.12.9</td>\n",
       "      <td>0.15.1</td>\n",
       "      <td>2.2.5</td>\n",
       "      <td>2.2.3</td>\n",
       "      <td>1.6.1</td>\n",
       "      <td>4.6.0</td>\n",
       "      <td>Linux-6.11.0-21-generic-x86_64-with-glibc2.39</td>\n",
       "      <td>x86_64</td>\n",
       "      <td>8</td>\n",
       "      <td>16.64</td>\n",
       "    </tr>\n",
       "    <tr>\n",
       "      <th>102</th>\n",
       "      <td>ForecasterRecursive</td>\n",
       "      <td>LGBMRegressor</td>\n",
       "      <td>ForecasterRecursive_predict</td>\n",
       "      <td>4f8ae3116340ac90eb9e66eac42789de</td>\n",
       "      <td>0.061347</td>\n",
       "      <td>0.002380</td>\n",
       "      <td>2025-04-23 16:05:33.829933</td>\n",
       "      <td>3.12.9</td>\n",
       "      <td>0.15.1</td>\n",
       "      <td>2.2.5</td>\n",
       "      <td>2.2.3</td>\n",
       "      <td>1.6.1</td>\n",
       "      <td>4.6.0</td>\n",
       "      <td>Linux-6.11.0-21-generic-x86_64-with-glibc2.39</td>\n",
       "      <td>x86_64</td>\n",
       "      <td>8</td>\n",
       "      <td>16.64</td>\n",
       "    </tr>\n",
       "    <tr>\n",
       "      <th>114</th>\n",
       "      <td>ForecasterRecursive</td>\n",
       "      <td>LGBMRegressor</td>\n",
       "      <td>ForecasterRecursive_predict</td>\n",
       "      <td>4f8ae3116340ac90eb9e66eac42789de</td>\n",
       "      <td>0.099835</td>\n",
       "      <td>0.025446</td>\n",
       "      <td>2025-04-23 16:08:43.060379</td>\n",
       "      <td>3.12.9</td>\n",
       "      <td>0.16.0</td>\n",
       "      <td>2.2.5</td>\n",
       "      <td>2.2.3</td>\n",
       "      <td>1.6.1</td>\n",
       "      <td>4.6.0</td>\n",
       "      <td>Linux-6.11.0-21-generic-x86_64-with-glibc2.39</td>\n",
       "      <td>x86_64</td>\n",
       "      <td>8</td>\n",
       "      <td>16.64</td>\n",
       "    </tr>\n",
       "    <tr>\n",
       "      <th>126</th>\n",
       "      <td>ForecasterRecursive</td>\n",
       "      <td>LGBMRegressor</td>\n",
       "      <td>ForecasterRecursive_predict</td>\n",
       "      <td>4f8ae3116340ac90eb9e66eac42789de</td>\n",
       "      <td>0.074483</td>\n",
       "      <td>0.005089</td>\n",
       "      <td>2025-04-23 16:12:11.093929</td>\n",
       "      <td>3.12.9</td>\n",
       "      <td>0.16.0</td>\n",
       "      <td>2.2.5</td>\n",
       "      <td>2.2.3</td>\n",
       "      <td>1.6.1</td>\n",
       "      <td>4.6.0</td>\n",
       "      <td>Linux-6.11.0-21-generic-x86_64-with-glibc2.39</td>\n",
       "      <td>x86_64</td>\n",
       "      <td>8</td>\n",
       "      <td>16.64</td>\n",
       "    </tr>\n",
       "    <tr>\n",
       "      <th>131</th>\n",
       "      <td>ForecasterRecursive</td>\n",
       "      <td>LGBMRegressor</td>\n",
       "      <td>ForecasterRecursive_predict</td>\n",
       "      <td>4f8ae3116340ac90eb9e66eac42789de</td>\n",
       "      <td>0.059138</td>\n",
       "      <td>0.002952</td>\n",
       "      <td>2025-04-23 20:07:37.688535</td>\n",
       "      <td>3.12.9</td>\n",
       "      <td>0.16.0</td>\n",
       "      <td>2.2.5</td>\n",
       "      <td>2.2.3</td>\n",
       "      <td>1.6.1</td>\n",
       "      <td>4.6.0</td>\n",
       "      <td>Linux-6.11.0-21-generic-x86_64-with-glibc2.39</td>\n",
       "      <td>x86_64</td>\n",
       "      <td>8</td>\n",
       "      <td>16.64</td>\n",
       "    </tr>\n",
       "    <tr>\n",
       "      <th>146</th>\n",
       "      <td>ForecasterRecursive</td>\n",
       "      <td>LGBMRegressor</td>\n",
       "      <td>ForecasterRecursive_predict</td>\n",
       "      <td>4f8ae3116340ac90eb9e66eac42789de</td>\n",
       "      <td>0.075335</td>\n",
       "      <td>0.004613</td>\n",
       "      <td>2025-04-23 20:15:11.845982</td>\n",
       "      <td>3.12.9</td>\n",
       "      <td>0.16.0</td>\n",
       "      <td>2.2.5</td>\n",
       "      <td>2.2.3</td>\n",
       "      <td>1.6.1</td>\n",
       "      <td>4.6.0</td>\n",
       "      <td>Linux-6.11.0-21-generic-x86_64-with-glibc2.39</td>\n",
       "      <td>x86_64</td>\n",
       "      <td>8</td>\n",
       "      <td>16.64</td>\n",
       "    </tr>\n",
       "    <tr>\n",
       "      <th>159</th>\n",
       "      <td>ForecasterRecursive</td>\n",
       "      <td>LGBMRegressor</td>\n",
       "      <td>ForecasterRecursive_predict</td>\n",
       "      <td>4f8ae3116340ac90eb9e66eac42789de</td>\n",
       "      <td>0.056943</td>\n",
       "      <td>0.001530</td>\n",
       "      <td>2025-04-23 20:22:38.666276</td>\n",
       "      <td>3.12.9</td>\n",
       "      <td>0.15.1</td>\n",
       "      <td>2.2.5</td>\n",
       "      <td>2.2.3</td>\n",
       "      <td>1.6.1</td>\n",
       "      <td>4.6.0</td>\n",
       "      <td>Linux-6.11.0-21-generic-x86_64-with-glibc2.39</td>\n",
       "      <td>x86_64</td>\n",
       "      <td>8</td>\n",
       "      <td>16.64</td>\n",
       "    </tr>\n",
       "    <tr>\n",
       "      <th>172</th>\n",
       "      <td>ForecasterRecursive</td>\n",
       "      <td>LGBMRegressor</td>\n",
       "      <td>ForecasterRecursive_predict</td>\n",
       "      <td>4f8ae3116340ac90eb9e66eac42789de</td>\n",
       "      <td>0.057730</td>\n",
       "      <td>0.000908</td>\n",
       "      <td>2025-04-23 22:04:08.982584</td>\n",
       "      <td>3.12.9</td>\n",
       "      <td>0.15.1</td>\n",
       "      <td>2.2.5</td>\n",
       "      <td>2.2.3</td>\n",
       "      <td>1.6.1</td>\n",
       "      <td>4.6.0</td>\n",
       "      <td>Linux-6.11.0-21-generic-x86_64-with-glibc2.39</td>\n",
       "      <td>x86_64</td>\n",
       "      <td>8</td>\n",
       "      <td>16.64</td>\n",
       "    </tr>\n",
       "    <tr>\n",
       "      <th>185</th>\n",
       "      <td>ForecasterRecursive</td>\n",
       "      <td>LGBMRegressor</td>\n",
       "      <td>ForecasterRecursive_predict</td>\n",
       "      <td>4f8ae3116340ac90eb9e66eac42789de</td>\n",
       "      <td>0.060702</td>\n",
       "      <td>0.001503</td>\n",
       "      <td>2025-04-23 22:17:07.154060</td>\n",
       "      <td>3.12.9</td>\n",
       "      <td>0.14.0</td>\n",
       "      <td>2.2.5</td>\n",
       "      <td>2.2.3</td>\n",
       "      <td>1.6.1</td>\n",
       "      <td>4.6.0</td>\n",
       "      <td>Linux-6.11.0-21-generic-x86_64-with-glibc2.39</td>\n",
       "      <td>x86_64</td>\n",
       "      <td>8</td>\n",
       "      <td>16.64</td>\n",
       "    </tr>\n",
       "    <tr>\n",
       "      <th>198</th>\n",
       "      <td>ForecasterRecursive</td>\n",
       "      <td>LGBMRegressor</td>\n",
       "      <td>ForecasterRecursive_predict</td>\n",
       "      <td>4f8ae3116340ac90eb9e66eac42789de</td>\n",
       "      <td>0.072572</td>\n",
       "      <td>0.002594</td>\n",
       "      <td>2025-04-23 22:51:18.211253</td>\n",
       "      <td>3.12.9</td>\n",
       "      <td>0.14.0</td>\n",
       "      <td>2.2.5</td>\n",
       "      <td>2.2.3</td>\n",
       "      <td>1.6.1</td>\n",
       "      <td>4.6.0</td>\n",
       "      <td>Linux-6.11.0-21-generic-x86_64-with-glibc2.39</td>\n",
       "      <td>x86_64</td>\n",
       "      <td>8</td>\n",
       "      <td>16.64</td>\n",
       "    </tr>\n",
       "    <tr>\n",
       "      <th>213</th>\n",
       "      <td>ForecasterRecursive</td>\n",
       "      <td>LGBMRegressor</td>\n",
       "      <td>ForecasterRecursive_predict</td>\n",
       "      <td>4f8ae3116340ac90eb9e66eac42789de</td>\n",
       "      <td>0.086275</td>\n",
       "      <td>0.011340</td>\n",
       "      <td>2025-04-23 22:59:15.975815</td>\n",
       "      <td>3.12.9</td>\n",
       "      <td>0.16.0</td>\n",
       "      <td>2.2.5</td>\n",
       "      <td>2.2.3</td>\n",
       "      <td>1.6.1</td>\n",
       "      <td>4.6.0</td>\n",
       "      <td>Linux-6.11.0-21-generic-x86_64-with-glibc2.39</td>\n",
       "      <td>x86_64</td>\n",
       "      <td>8</td>\n",
       "      <td>16.64</td>\n",
       "    </tr>\n",
       "  </tbody>\n",
       "</table>\n",
       "</div>"
      ],
      "text/plain": [
       "         forecaster_name regressor_name                function_name  \\\n",
       "10   ForecasterRecursive  LGBMRegressor  ForecasterRecursive_predict   \n",
       "22   ForecasterRecursive  LGBMRegressor  ForecasterRecursive_predict   \n",
       "34   ForecasterRecursive  LGBMRegressor  ForecasterRecursive_predict   \n",
       "46     ForecasterAutoreg  LGBMRegressor  ForecasterRecursive_predict   \n",
       "58     ForecasterAutoreg  LGBMRegressor  ForecasterRecursive_predict   \n",
       "62     ForecasterAutoreg  LGBMRegressor  ForecasterRecursive_predict   \n",
       "66     ForecasterAutoreg  LGBMRegressor  ForecasterRecursive_predict   \n",
       "78   ForecasterRecursive  LGBMRegressor  ForecasterRecursive_predict   \n",
       "90   ForecasterRecursive  LGBMRegressor  ForecasterRecursive_predict   \n",
       "102  ForecasterRecursive  LGBMRegressor  ForecasterRecursive_predict   \n",
       "114  ForecasterRecursive  LGBMRegressor  ForecasterRecursive_predict   \n",
       "126  ForecasterRecursive  LGBMRegressor  ForecasterRecursive_predict   \n",
       "131  ForecasterRecursive  LGBMRegressor  ForecasterRecursive_predict   \n",
       "146  ForecasterRecursive  LGBMRegressor  ForecasterRecursive_predict   \n",
       "159  ForecasterRecursive  LGBMRegressor  ForecasterRecursive_predict   \n",
       "172  ForecasterRecursive  LGBMRegressor  ForecasterRecursive_predict   \n",
       "185  ForecasterRecursive  LGBMRegressor  ForecasterRecursive_predict   \n",
       "198  ForecasterRecursive  LGBMRegressor  ForecasterRecursive_predict   \n",
       "213  ForecasterRecursive  LGBMRegressor  ForecasterRecursive_predict   \n",
       "\n",
       "                        function_hash  run_time_avg  run_time_std_dev  \\\n",
       "10   4f8ae3116340ac90eb9e66eac42789de      0.075136          0.004202   \n",
       "22   4f8ae3116340ac90eb9e66eac42789de      0.058053          0.001119   \n",
       "34   4f8ae3116340ac90eb9e66eac42789de      0.084377          0.019527   \n",
       "46   4f8ae3116340ac90eb9e66eac42789de      0.075075          0.003942   \n",
       "58   4f8ae3116340ac90eb9e66eac42789de      0.080083          0.004092   \n",
       "62   4f8ae3116340ac90eb9e66eac42789de      0.068110          0.005326   \n",
       "66   4f8ae3116340ac90eb9e66eac42789de      0.068882          0.004036   \n",
       "78   4f8ae3116340ac90eb9e66eac42789de      0.089361          0.006090   \n",
       "90   4f8ae3116340ac90eb9e66eac42789de      0.077495          0.007502   \n",
       "102  4f8ae3116340ac90eb9e66eac42789de      0.061347          0.002380   \n",
       "114  4f8ae3116340ac90eb9e66eac42789de      0.099835          0.025446   \n",
       "126  4f8ae3116340ac90eb9e66eac42789de      0.074483          0.005089   \n",
       "131  4f8ae3116340ac90eb9e66eac42789de      0.059138          0.002952   \n",
       "146  4f8ae3116340ac90eb9e66eac42789de      0.075335          0.004613   \n",
       "159  4f8ae3116340ac90eb9e66eac42789de      0.056943          0.001530   \n",
       "172  4f8ae3116340ac90eb9e66eac42789de      0.057730          0.000908   \n",
       "185  4f8ae3116340ac90eb9e66eac42789de      0.060702          0.001503   \n",
       "198  4f8ae3116340ac90eb9e66eac42789de      0.072572          0.002594   \n",
       "213  4f8ae3116340ac90eb9e66eac42789de      0.086275          0.011340   \n",
       "\n",
       "                      datetime python_version skforecast_version  \\\n",
       "10  2025-04-23 15:05:58.891908         3.12.9             0.16.0   \n",
       "22  2025-04-23 15:12:03.760460         3.12.9             0.15.1   \n",
       "34  2025-04-23 15:15:59.361690         3.12.9             0.14.0   \n",
       "46  2025-04-23 15:31:32.543497         3.12.9             0.13.0   \n",
       "58  2025-04-23 15:41:06.477888         3.12.9             0.13.0   \n",
       "62  2025-04-23 15:46:07.814583         3.12.9             0.13.0   \n",
       "66  2025-04-23 15:46:41.087891         3.12.9             0.13.0   \n",
       "78  2025-04-23 15:56:53.918733         3.12.9             0.14.0   \n",
       "90  2025-04-23 16:01:06.363095         3.12.9             0.15.1   \n",
       "102 2025-04-23 16:05:33.829933         3.12.9             0.15.1   \n",
       "114 2025-04-23 16:08:43.060379         3.12.9             0.16.0   \n",
       "126 2025-04-23 16:12:11.093929         3.12.9             0.16.0   \n",
       "131 2025-04-23 20:07:37.688535         3.12.9             0.16.0   \n",
       "146 2025-04-23 20:15:11.845982         3.12.9             0.16.0   \n",
       "159 2025-04-23 20:22:38.666276         3.12.9             0.15.1   \n",
       "172 2025-04-23 22:04:08.982584         3.12.9             0.15.1   \n",
       "185 2025-04-23 22:17:07.154060         3.12.9             0.14.0   \n",
       "198 2025-04-23 22:51:18.211253         3.12.9             0.14.0   \n",
       "213 2025-04-23 22:59:15.975815         3.12.9             0.16.0   \n",
       "\n",
       "    numpy_version pandas_version sklearn_version lightgbm_version  \\\n",
       "10          2.2.5          2.2.3           1.6.1            4.6.0   \n",
       "22          2.2.5          2.2.3           1.6.1            4.6.0   \n",
       "34          2.2.5          2.2.3           1.6.1            4.6.0   \n",
       "46          2.2.5          2.2.3           1.6.1            4.6.0   \n",
       "58          2.2.5          2.2.3           1.6.1            4.6.0   \n",
       "62          2.2.5          2.2.3           1.6.1            4.6.0   \n",
       "66          2.2.5          2.2.3           1.6.1            4.6.0   \n",
       "78          2.2.5          2.2.3           1.6.1            4.6.0   \n",
       "90          2.2.5          2.2.3           1.6.1            4.6.0   \n",
       "102         2.2.5          2.2.3           1.6.1            4.6.0   \n",
       "114         2.2.5          2.2.3           1.6.1            4.6.0   \n",
       "126         2.2.5          2.2.3           1.6.1            4.6.0   \n",
       "131         2.2.5          2.2.3           1.6.1            4.6.0   \n",
       "146         2.2.5          2.2.3           1.6.1            4.6.0   \n",
       "159         2.2.5          2.2.3           1.6.1            4.6.0   \n",
       "172         2.2.5          2.2.3           1.6.1            4.6.0   \n",
       "185         2.2.5          2.2.3           1.6.1            4.6.0   \n",
       "198         2.2.5          2.2.3           1.6.1            4.6.0   \n",
       "213         2.2.5          2.2.3           1.6.1            4.6.0   \n",
       "\n",
       "                                          platform processor  cpu_count  \\\n",
       "10   Linux-6.11.0-21-generic-x86_64-with-glibc2.39    x86_64          8   \n",
       "22   Linux-6.11.0-21-generic-x86_64-with-glibc2.39    x86_64          8   \n",
       "34   Linux-6.11.0-21-generic-x86_64-with-glibc2.39    x86_64          8   \n",
       "46   Linux-6.11.0-21-generic-x86_64-with-glibc2.39    x86_64          8   \n",
       "58   Linux-6.11.0-21-generic-x86_64-with-glibc2.39    x86_64          8   \n",
       "62   Linux-6.11.0-21-generic-x86_64-with-glibc2.39    x86_64          8   \n",
       "66   Linux-6.11.0-21-generic-x86_64-with-glibc2.39    x86_64          8   \n",
       "78   Linux-6.11.0-21-generic-x86_64-with-glibc2.39    x86_64          8   \n",
       "90   Linux-6.11.0-21-generic-x86_64-with-glibc2.39    x86_64          8   \n",
       "102  Linux-6.11.0-21-generic-x86_64-with-glibc2.39    x86_64          8   \n",
       "114  Linux-6.11.0-21-generic-x86_64-with-glibc2.39    x86_64          8   \n",
       "126  Linux-6.11.0-21-generic-x86_64-with-glibc2.39    x86_64          8   \n",
       "131  Linux-6.11.0-21-generic-x86_64-with-glibc2.39    x86_64          8   \n",
       "146  Linux-6.11.0-21-generic-x86_64-with-glibc2.39    x86_64          8   \n",
       "159  Linux-6.11.0-21-generic-x86_64-with-glibc2.39    x86_64          8   \n",
       "172  Linux-6.11.0-21-generic-x86_64-with-glibc2.39    x86_64          8   \n",
       "185  Linux-6.11.0-21-generic-x86_64-with-glibc2.39    x86_64          8   \n",
       "198  Linux-6.11.0-21-generic-x86_64-with-glibc2.39    x86_64          8   \n",
       "213  Linux-6.11.0-21-generic-x86_64-with-glibc2.39    x86_64          8   \n",
       "\n",
       "     memory_gb  \n",
       "10       16.64  \n",
       "22       16.64  \n",
       "34       16.64  \n",
       "46       16.64  \n",
       "58       16.64  \n",
       "62       16.64  \n",
       "66       16.64  \n",
       "78       16.64  \n",
       "90       16.64  \n",
       "102      16.64  \n",
       "114      16.64  \n",
       "126      16.64  \n",
       "131      16.64  \n",
       "146      16.64  \n",
       "159      16.64  \n",
       "172      16.64  \n",
       "185      16.64  \n",
       "198      16.64  \n",
       "213      16.64  "
      ]
     },
     "metadata": {},
     "output_type": "display_data"
    },
    {
     "data": {
      "application/vnd.plotly.v1+json": {
       "config": {
        "plotlyServerURL": "https://plot.ly"
       },
       "data": [
        {
         "error_y": {
          "array": {
           "bdata": "dq2eLGwlcD+kBwCwwsJwPwSGYlOE0HU/Dp0NN6uHcD8=",
           "dtype": "f8"
          },
          "color": "#636EFA",
          "thickness": 1.5,
          "type": "data",
          "visible": true,
          "width": 5
         },
         "hovertemplate": "%{text}<extra></extra>",
         "marker": {
          "color": "#636EFA",
          "opacity": 0.7,
          "size": 10
         },
         "mode": "markers",
         "name": "Run time - 0.13.0",
         "showlegend": true,
         "text": [
          "Forecaster: ForecasterAutoreg<br>Regressor: LGBMRegressor<br>Function: ForecasterRecursive_predict<br>Function_hash: 4f8ae3116340ac90eb9e66eac42789de<br>Datetime: 2025-04-23 15:31:32.543497<br>Python version: 3.12.9<br>skforecast version: 0.13.0<br>numpy version: 2.2.5<br>pandas version: 2.2.3<br>sklearn version: 1.6.1<br>lightgbm version: 4.6.0<br>Platform: Linux-6.11.0-21-generic-x86_64-with-glibc2.39<br>Processor: x86_64<br>CPU count: 8<br>Memory (GB): 16.64<br>",
          "Forecaster: ForecasterAutoreg<br>Regressor: LGBMRegressor<br>Function: ForecasterRecursive_predict<br>Function_hash: 4f8ae3116340ac90eb9e66eac42789de<br>Datetime: 2025-04-23 15:41:06.477888<br>Python version: 3.12.9<br>skforecast version: 0.13.0<br>numpy version: 2.2.5<br>pandas version: 2.2.3<br>sklearn version: 1.6.1<br>lightgbm version: 4.6.0<br>Platform: Linux-6.11.0-21-generic-x86_64-with-glibc2.39<br>Processor: x86_64<br>CPU count: 8<br>Memory (GB): 16.64<br>",
          "Forecaster: ForecasterAutoreg<br>Regressor: LGBMRegressor<br>Function: ForecasterRecursive_predict<br>Function_hash: 4f8ae3116340ac90eb9e66eac42789de<br>Datetime: 2025-04-23 15:46:07.814583<br>Python version: 3.12.9<br>skforecast version: 0.13.0<br>numpy version: 2.2.5<br>pandas version: 2.2.3<br>sklearn version: 1.6.1<br>lightgbm version: 4.6.0<br>Platform: Linux-6.11.0-21-generic-x86_64-with-glibc2.39<br>Processor: x86_64<br>CPU count: 8<br>Memory (GB): 16.64<br>",
          "Forecaster: ForecasterAutoreg<br>Regressor: LGBMRegressor<br>Function: ForecasterRecursive_predict<br>Function_hash: 4f8ae3116340ac90eb9e66eac42789de<br>Datetime: 2025-04-23 15:46:41.087891<br>Python version: 3.12.9<br>skforecast version: 0.13.0<br>numpy version: 2.2.5<br>pandas version: 2.2.3<br>sklearn version: 1.6.1<br>lightgbm version: 4.6.0<br>Platform: Linux-6.11.0-21-generic-x86_64-with-glibc2.39<br>Processor: x86_64<br>CPU count: 8<br>Memory (GB): 16.64<br>"
         ],
         "type": "scatter",
         "x": {
          "bdata": "fByzX9/Fir9AKClBT8iAPwyt5c8ZpoA/hj3Rm6N3pT8=",
          "dtype": "f8"
         },
         "y": {
          "bdata": "MzM3Oxs4sz+amW0cUoC0P2ZmF+mgb7E/zcx4fz+isT8=",
          "dtype": "f8"
         }
        },
        {
         "error_y": {
          "array": {
           "bdata": "HjeNftD+kz/c8RT9C/J4P9tFBehuQGU/bPGdaKKfWD8=",
           "dtype": "f8"
          },
          "color": "#EF553B",
          "thickness": 1.5,
          "type": "data",
          "visible": true,
          "width": 5
         },
         "hovertemplate": "%{text}<extra></extra>",
         "marker": {
          "color": "#EF553B",
          "opacity": 0.7,
          "size": 10
         },
         "mode": "markers",
         "name": "Run time - 0.14.0",
         "showlegend": true,
         "text": [
          "Forecaster: ForecasterRecursive<br>Regressor: LGBMRegressor<br>Function: ForecasterRecursive_predict<br>Function_hash: 4f8ae3116340ac90eb9e66eac42789de<br>Datetime: 2025-04-23 15:15:59.361690<br>Python version: 3.12.9<br>skforecast version: 0.14.0<br>numpy version: 2.2.5<br>pandas version: 2.2.3<br>sklearn version: 1.6.1<br>lightgbm version: 4.6.0<br>Platform: Linux-6.11.0-21-generic-x86_64-with-glibc2.39<br>Processor: x86_64<br>CPU count: 8<br>Memory (GB): 16.64<br>",
          "Forecaster: ForecasterRecursive<br>Regressor: LGBMRegressor<br>Function: ForecasterRecursive_predict<br>Function_hash: 4f8ae3116340ac90eb9e66eac42789de<br>Datetime: 2025-04-23 15:56:53.918733<br>Python version: 3.12.9<br>skforecast version: 0.14.0<br>numpy version: 2.2.5<br>pandas version: 2.2.3<br>sklearn version: 1.6.1<br>lightgbm version: 4.6.0<br>Platform: Linux-6.11.0-21-generic-x86_64-with-glibc2.39<br>Processor: x86_64<br>CPU count: 8<br>Memory (GB): 16.64<br>",
          "Forecaster: ForecasterRecursive<br>Regressor: LGBMRegressor<br>Function: ForecasterRecursive_predict<br>Function_hash: 4f8ae3116340ac90eb9e66eac42789de<br>Datetime: 2025-04-23 22:51:18.211253<br>Python version: 3.12.9<br>skforecast version: 0.14.0<br>numpy version: 2.2.5<br>pandas version: 2.2.3<br>sklearn version: 1.6.1<br>lightgbm version: 4.6.0<br>Platform: Linux-6.11.0-21-generic-x86_64-with-glibc2.39<br>Processor: x86_64<br>CPU count: 8<br>Memory (GB): 16.64<br>",
          "Forecaster: ForecasterRecursive<br>Regressor: LGBMRegressor<br>Function: ForecasterRecursive_predict<br>Function_hash: 4f8ae3116340ac90eb9e66eac42789de<br>Datetime: 2025-04-23 22:17:07.154060<br>Python version: 3.12.9<br>skforecast version: 0.14.0<br>numpy version: 2.2.5<br>pandas version: 2.2.3<br>sklearn version: 1.6.1<br>lightgbm version: 4.6.0<br>Platform: Linux-6.11.0-21-generic-x86_64-with-glibc2.39<br>Processor: x86_64<br>CPU count: 8<br>Memory (GB): 16.64<br>"
         ],
         "type": "scatter",
         "x": {
          "bdata": "R887kefC7j+9ao9gHibvP3gqgQusV/A/COgJglZ28D8=",
          "dtype": "f8"
         },
         "y": {
          "bdata": "ZmYPG7yZtT+ambr2V+C2PzMz7VIYlLI/AABM1kYUrz8=",
          "dtype": "f8"
         }
        },
        {
         "error_y": {
          "array": {
           "bdata": "8D0EojR/Yz+9C6uE4VZSPzjOhA8tun4/Tlj9k9u/TT/2IkbziBBZPw==",
           "dtype": "f8"
          },
          "color": "#00CC96",
          "thickness": 1.5,
          "type": "data",
          "visible": true,
          "width": 5
         },
         "hovertemplate": "%{text}<extra></extra>",
         "marker": {
          "color": "#00CC96",
          "opacity": 0.7,
          "size": 10
         },
         "mode": "markers",
         "name": "Run time - 0.15.1",
         "showlegend": true,
         "text": [
          "Forecaster: ForecasterRecursive<br>Regressor: LGBMRegressor<br>Function: ForecasterRecursive_predict<br>Function_hash: 4f8ae3116340ac90eb9e66eac42789de<br>Datetime: 2025-04-23 16:05:33.829933<br>Python version: 3.12.9<br>skforecast version: 0.15.1<br>numpy version: 2.2.5<br>pandas version: 2.2.3<br>sklearn version: 1.6.1<br>lightgbm version: 4.6.0<br>Platform: Linux-6.11.0-21-generic-x86_64-with-glibc2.39<br>Processor: x86_64<br>CPU count: 8<br>Memory (GB): 16.64<br>",
          "Forecaster: ForecasterRecursive<br>Regressor: LGBMRegressor<br>Function: ForecasterRecursive_predict<br>Function_hash: 4f8ae3116340ac90eb9e66eac42789de<br>Datetime: 2025-04-23 15:12:03.760460<br>Python version: 3.12.9<br>skforecast version: 0.15.1<br>numpy version: 2.2.5<br>pandas version: 2.2.3<br>sklearn version: 1.6.1<br>lightgbm version: 4.6.0<br>Platform: Linux-6.11.0-21-generic-x86_64-with-glibc2.39<br>Processor: x86_64<br>CPU count: 8<br>Memory (GB): 16.64<br>",
          "Forecaster: ForecasterRecursive<br>Regressor: LGBMRegressor<br>Function: ForecasterRecursive_predict<br>Function_hash: 4f8ae3116340ac90eb9e66eac42789de<br>Datetime: 2025-04-23 16:01:06.363095<br>Python version: 3.12.9<br>skforecast version: 0.15.1<br>numpy version: 2.2.5<br>pandas version: 2.2.3<br>sklearn version: 1.6.1<br>lightgbm version: 4.6.0<br>Platform: Linux-6.11.0-21-generic-x86_64-with-glibc2.39<br>Processor: x86_64<br>CPU count: 8<br>Memory (GB): 16.64<br>",
          "Forecaster: ForecasterRecursive<br>Regressor: LGBMRegressor<br>Function: ForecasterRecursive_predict<br>Function_hash: 4f8ae3116340ac90eb9e66eac42789de<br>Datetime: 2025-04-23 22:04:08.982584<br>Python version: 3.12.9<br>skforecast version: 0.15.1<br>numpy version: 2.2.5<br>pandas version: 2.2.3<br>sklearn version: 1.6.1<br>lightgbm version: 4.6.0<br>Platform: Linux-6.11.0-21-generic-x86_64-with-glibc2.39<br>Processor: x86_64<br>CPU count: 8<br>Memory (GB): 16.64<br>",
          "Forecaster: ForecasterRecursive<br>Regressor: LGBMRegressor<br>Function: ForecasterRecursive_predict<br>Function_hash: 4f8ae3116340ac90eb9e66eac42789de<br>Datetime: 2025-04-23 20:22:38.666276<br>Python version: 3.12.9<br>skforecast version: 0.15.1<br>numpy version: 2.2.5<br>pandas version: 2.2.3<br>sklearn version: 1.6.1<br>lightgbm version: 4.6.0<br>Platform: Linux-6.11.0-21-generic-x86_64-with-glibc2.39<br>Processor: x86_64<br>CPU count: 8<br>Memory (GB): 16.64<br>"
         ],
         "type": "scatter",
         "x": {
          "bdata": "s9pDwPj3/z/dcUayVjQAQLs51lKIUABAwFSMOCUtAED06Y867kEAQA==",
          "dtype": "f8"
         },
         "y": {
          "bdata": "zcygfuNorz9mZtRNFrmtP2ZmD1611rM/AABsFNeOrT8zM+36rSetPw==",
          "dtype": "f8"
         }
        },
        {
         "error_y": {
          "array": {
           "bdata": "WdNlVGM2cT/QLQvjkS5oP4Zt0SpT2HQ/iD0zjHgOmj+4OA8QleRyP1E5nT4yOYc/",
           "dtype": "f8"
          },
          "color": "#AB63FA",
          "thickness": 1.5,
          "type": "data",
          "visible": true,
          "width": 5
         },
         "hovertemplate": "%{text}<extra></extra>",
         "marker": {
          "color": "#AB63FA",
          "opacity": 0.7,
          "size": 10
         },
         "mode": "markers",
         "name": "Run time - 0.16.0",
         "showlegend": true,
         "text": [
          "Forecaster: ForecasterRecursive<br>Regressor: LGBMRegressor<br>Function: ForecasterRecursive_predict<br>Function_hash: 4f8ae3116340ac90eb9e66eac42789de<br>Datetime: 2025-04-23 15:05:58.891908<br>Python version: 3.12.9<br>skforecast version: 0.16.0<br>numpy version: 2.2.5<br>pandas version: 2.2.3<br>sklearn version: 1.6.1<br>lightgbm version: 4.6.0<br>Platform: Linux-6.11.0-21-generic-x86_64-with-glibc2.39<br>Processor: x86_64<br>CPU count: 8<br>Memory (GB): 16.64<br>",
          "Forecaster: ForecasterRecursive<br>Regressor: LGBMRegressor<br>Function: ForecasterRecursive_predict<br>Function_hash: 4f8ae3116340ac90eb9e66eac42789de<br>Datetime: 2025-04-23 20:07:37.688535<br>Python version: 3.12.9<br>skforecast version: 0.16.0<br>numpy version: 2.2.5<br>pandas version: 2.2.3<br>sklearn version: 1.6.1<br>lightgbm version: 4.6.0<br>Platform: Linux-6.11.0-21-generic-x86_64-with-glibc2.39<br>Processor: x86_64<br>CPU count: 8<br>Memory (GB): 16.64<br>",
          "Forecaster: ForecasterRecursive<br>Regressor: LGBMRegressor<br>Function: ForecasterRecursive_predict<br>Function_hash: 4f8ae3116340ac90eb9e66eac42789de<br>Datetime: 2025-04-23 16:12:11.093929<br>Python version: 3.12.9<br>skforecast version: 0.16.0<br>numpy version: 2.2.5<br>pandas version: 2.2.3<br>sklearn version: 1.6.1<br>lightgbm version: 4.6.0<br>Platform: Linux-6.11.0-21-generic-x86_64-with-glibc2.39<br>Processor: x86_64<br>CPU count: 8<br>Memory (GB): 16.64<br>",
          "Forecaster: ForecasterRecursive<br>Regressor: LGBMRegressor<br>Function: ForecasterRecursive_predict<br>Function_hash: 4f8ae3116340ac90eb9e66eac42789de<br>Datetime: 2025-04-23 16:08:43.060379<br>Python version: 3.12.9<br>skforecast version: 0.16.0<br>numpy version: 2.2.5<br>pandas version: 2.2.3<br>sklearn version: 1.6.1<br>lightgbm version: 4.6.0<br>Platform: Linux-6.11.0-21-generic-x86_64-with-glibc2.39<br>Processor: x86_64<br>CPU count: 8<br>Memory (GB): 16.64<br>",
          "Forecaster: ForecasterRecursive<br>Regressor: LGBMRegressor<br>Function: ForecasterRecursive_predict<br>Function_hash: 4f8ae3116340ac90eb9e66eac42789de<br>Datetime: 2025-04-23 20:15:11.845982<br>Python version: 3.12.9<br>skforecast version: 0.16.0<br>numpy version: 2.2.5<br>pandas version: 2.2.3<br>sklearn version: 1.6.1<br>lightgbm version: 4.6.0<br>Platform: Linux-6.11.0-21-generic-x86_64-with-glibc2.39<br>Processor: x86_64<br>CPU count: 8<br>Memory (GB): 16.64<br>",
          "Forecaster: ForecasterRecursive<br>Regressor: LGBMRegressor<br>Function: ForecasterRecursive_predict<br>Function_hash: 4f8ae3116340ac90eb9e66eac42789de<br>Datetime: 2025-04-23 22:59:15.975815<br>Python version: 3.12.9<br>skforecast version: 0.16.0<br>numpy version: 2.2.5<br>pandas version: 2.2.3<br>sklearn version: 1.6.1<br>lightgbm version: 4.6.0<br>Platform: Linux-6.11.0-21-generic-x86_64-with-glibc2.39<br>Processor: x86_64<br>CPU count: 8<br>Memory (GB): 16.64<br>"
         ],
         "type": "scatter",
         "x": {
          "bdata": "O21cSeg6CEAq4w44tEMIQELsNhCxCAhA87Jsk5y6B0AOclqACaYHQNkZK3SLTwhA",
          "dtype": "f8"
         },
         "y": {
          "bdata": "zcyQ9iA8sz+amS0kTEeuPwAAtghNEbM/zcyDmMuOuT+amZKbJkmzP2ZmfLEZFrY/",
          "dtype": "f8"
         }
        },
        {
         "line": {
          "color": "black",
          "width": 2
         },
         "marker": {
          "color": "black",
          "size": 8
         },
         "mode": "lines+markers",
         "name": "Median (per version)",
         "type": "scatter",
         "x": {
          "bdata": "AAECAw==",
          "dtype": "i1"
         },
         "y": {
          "bdata": "AABYXS1tsj/MTP426ha0P2Zm1E0Wua0/NLMRyaNCsz8=",
          "dtype": "f8"
         }
        }
       ],
       "layout": {
        "showlegend": true,
        "template": {
         "data": {
          "bar": [
           {
            "error_x": {
             "color": "#2a3f5f"
            },
            "error_y": {
             "color": "#2a3f5f"
            },
            "marker": {
             "line": {
              "color": "#E5ECF6",
              "width": 0.5
             },
             "pattern": {
              "fillmode": "overlay",
              "size": 10,
              "solidity": 0.2
             }
            },
            "type": "bar"
           }
          ],
          "barpolar": [
           {
            "marker": {
             "line": {
              "color": "#E5ECF6",
              "width": 0.5
             },
             "pattern": {
              "fillmode": "overlay",
              "size": 10,
              "solidity": 0.2
             }
            },
            "type": "barpolar"
           }
          ],
          "carpet": [
           {
            "aaxis": {
             "endlinecolor": "#2a3f5f",
             "gridcolor": "white",
             "linecolor": "white",
             "minorgridcolor": "white",
             "startlinecolor": "#2a3f5f"
            },
            "baxis": {
             "endlinecolor": "#2a3f5f",
             "gridcolor": "white",
             "linecolor": "white",
             "minorgridcolor": "white",
             "startlinecolor": "#2a3f5f"
            },
            "type": "carpet"
           }
          ],
          "choropleth": [
           {
            "colorbar": {
             "outlinewidth": 0,
             "ticks": ""
            },
            "type": "choropleth"
           }
          ],
          "contour": [
           {
            "colorbar": {
             "outlinewidth": 0,
             "ticks": ""
            },
            "colorscale": [
             [
              0,
              "#0d0887"
             ],
             [
              0.1111111111111111,
              "#46039f"
             ],
             [
              0.2222222222222222,
              "#7201a8"
             ],
             [
              0.3333333333333333,
              "#9c179e"
             ],
             [
              0.4444444444444444,
              "#bd3786"
             ],
             [
              0.5555555555555556,
              "#d8576b"
             ],
             [
              0.6666666666666666,
              "#ed7953"
             ],
             [
              0.7777777777777778,
              "#fb9f3a"
             ],
             [
              0.8888888888888888,
              "#fdca26"
             ],
             [
              1,
              "#f0f921"
             ]
            ],
            "type": "contour"
           }
          ],
          "contourcarpet": [
           {
            "colorbar": {
             "outlinewidth": 0,
             "ticks": ""
            },
            "type": "contourcarpet"
           }
          ],
          "heatmap": [
           {
            "colorbar": {
             "outlinewidth": 0,
             "ticks": ""
            },
            "colorscale": [
             [
              0,
              "#0d0887"
             ],
             [
              0.1111111111111111,
              "#46039f"
             ],
             [
              0.2222222222222222,
              "#7201a8"
             ],
             [
              0.3333333333333333,
              "#9c179e"
             ],
             [
              0.4444444444444444,
              "#bd3786"
             ],
             [
              0.5555555555555556,
              "#d8576b"
             ],
             [
              0.6666666666666666,
              "#ed7953"
             ],
             [
              0.7777777777777778,
              "#fb9f3a"
             ],
             [
              0.8888888888888888,
              "#fdca26"
             ],
             [
              1,
              "#f0f921"
             ]
            ],
            "type": "heatmap"
           }
          ],
          "histogram": [
           {
            "marker": {
             "pattern": {
              "fillmode": "overlay",
              "size": 10,
              "solidity": 0.2
             }
            },
            "type": "histogram"
           }
          ],
          "histogram2d": [
           {
            "colorbar": {
             "outlinewidth": 0,
             "ticks": ""
            },
            "colorscale": [
             [
              0,
              "#0d0887"
             ],
             [
              0.1111111111111111,
              "#46039f"
             ],
             [
              0.2222222222222222,
              "#7201a8"
             ],
             [
              0.3333333333333333,
              "#9c179e"
             ],
             [
              0.4444444444444444,
              "#bd3786"
             ],
             [
              0.5555555555555556,
              "#d8576b"
             ],
             [
              0.6666666666666666,
              "#ed7953"
             ],
             [
              0.7777777777777778,
              "#fb9f3a"
             ],
             [
              0.8888888888888888,
              "#fdca26"
             ],
             [
              1,
              "#f0f921"
             ]
            ],
            "type": "histogram2d"
           }
          ],
          "histogram2dcontour": [
           {
            "colorbar": {
             "outlinewidth": 0,
             "ticks": ""
            },
            "colorscale": [
             [
              0,
              "#0d0887"
             ],
             [
              0.1111111111111111,
              "#46039f"
             ],
             [
              0.2222222222222222,
              "#7201a8"
             ],
             [
              0.3333333333333333,
              "#9c179e"
             ],
             [
              0.4444444444444444,
              "#bd3786"
             ],
             [
              0.5555555555555556,
              "#d8576b"
             ],
             [
              0.6666666666666666,
              "#ed7953"
             ],
             [
              0.7777777777777778,
              "#fb9f3a"
             ],
             [
              0.8888888888888888,
              "#fdca26"
             ],
             [
              1,
              "#f0f921"
             ]
            ],
            "type": "histogram2dcontour"
           }
          ],
          "mesh3d": [
           {
            "colorbar": {
             "outlinewidth": 0,
             "ticks": ""
            },
            "type": "mesh3d"
           }
          ],
          "parcoords": [
           {
            "line": {
             "colorbar": {
              "outlinewidth": 0,
              "ticks": ""
             }
            },
            "type": "parcoords"
           }
          ],
          "pie": [
           {
            "automargin": true,
            "type": "pie"
           }
          ],
          "scatter": [
           {
            "fillpattern": {
             "fillmode": "overlay",
             "size": 10,
             "solidity": 0.2
            },
            "type": "scatter"
           }
          ],
          "scatter3d": [
           {
            "line": {
             "colorbar": {
              "outlinewidth": 0,
              "ticks": ""
             }
            },
            "marker": {
             "colorbar": {
              "outlinewidth": 0,
              "ticks": ""
             }
            },
            "type": "scatter3d"
           }
          ],
          "scattercarpet": [
           {
            "marker": {
             "colorbar": {
              "outlinewidth": 0,
              "ticks": ""
             }
            },
            "type": "scattercarpet"
           }
          ],
          "scattergeo": [
           {
            "marker": {
             "colorbar": {
              "outlinewidth": 0,
              "ticks": ""
             }
            },
            "type": "scattergeo"
           }
          ],
          "scattergl": [
           {
            "marker": {
             "colorbar": {
              "outlinewidth": 0,
              "ticks": ""
             }
            },
            "type": "scattergl"
           }
          ],
          "scattermap": [
           {
            "marker": {
             "colorbar": {
              "outlinewidth": 0,
              "ticks": ""
             }
            },
            "type": "scattermap"
           }
          ],
          "scattermapbox": [
           {
            "marker": {
             "colorbar": {
              "outlinewidth": 0,
              "ticks": ""
             }
            },
            "type": "scattermapbox"
           }
          ],
          "scatterpolar": [
           {
            "marker": {
             "colorbar": {
              "outlinewidth": 0,
              "ticks": ""
             }
            },
            "type": "scatterpolar"
           }
          ],
          "scatterpolargl": [
           {
            "marker": {
             "colorbar": {
              "outlinewidth": 0,
              "ticks": ""
             }
            },
            "type": "scatterpolargl"
           }
          ],
          "scatterternary": [
           {
            "marker": {
             "colorbar": {
              "outlinewidth": 0,
              "ticks": ""
             }
            },
            "type": "scatterternary"
           }
          ],
          "surface": [
           {
            "colorbar": {
             "outlinewidth": 0,
             "ticks": ""
            },
            "colorscale": [
             [
              0,
              "#0d0887"
             ],
             [
              0.1111111111111111,
              "#46039f"
             ],
             [
              0.2222222222222222,
              "#7201a8"
             ],
             [
              0.3333333333333333,
              "#9c179e"
             ],
             [
              0.4444444444444444,
              "#bd3786"
             ],
             [
              0.5555555555555556,
              "#d8576b"
             ],
             [
              0.6666666666666666,
              "#ed7953"
             ],
             [
              0.7777777777777778,
              "#fb9f3a"
             ],
             [
              0.8888888888888888,
              "#fdca26"
             ],
             [
              1,
              "#f0f921"
             ]
            ],
            "type": "surface"
           }
          ],
          "table": [
           {
            "cells": {
             "fill": {
              "color": "#EBF0F8"
             },
             "line": {
              "color": "white"
             }
            },
            "header": {
             "fill": {
              "color": "#C8D4E3"
             },
             "line": {
              "color": "white"
             }
            },
            "type": "table"
           }
          ]
         },
         "layout": {
          "annotationdefaults": {
           "arrowcolor": "#2a3f5f",
           "arrowhead": 0,
           "arrowwidth": 1
          },
          "autotypenumbers": "strict",
          "coloraxis": {
           "colorbar": {
            "outlinewidth": 0,
            "ticks": ""
           }
          },
          "colorscale": {
           "diverging": [
            [
             0,
             "#8e0152"
            ],
            [
             0.1,
             "#c51b7d"
            ],
            [
             0.2,
             "#de77ae"
            ],
            [
             0.3,
             "#f1b6da"
            ],
            [
             0.4,
             "#fde0ef"
            ],
            [
             0.5,
             "#f7f7f7"
            ],
            [
             0.6,
             "#e6f5d0"
            ],
            [
             0.7,
             "#b8e186"
            ],
            [
             0.8,
             "#7fbc41"
            ],
            [
             0.9,
             "#4d9221"
            ],
            [
             1,
             "#276419"
            ]
           ],
           "sequential": [
            [
             0,
             "#0d0887"
            ],
            [
             0.1111111111111111,
             "#46039f"
            ],
            [
             0.2222222222222222,
             "#7201a8"
            ],
            [
             0.3333333333333333,
             "#9c179e"
            ],
            [
             0.4444444444444444,
             "#bd3786"
            ],
            [
             0.5555555555555556,
             "#d8576b"
            ],
            [
             0.6666666666666666,
             "#ed7953"
            ],
            [
             0.7777777777777778,
             "#fb9f3a"
            ],
            [
             0.8888888888888888,
             "#fdca26"
            ],
            [
             1,
             "#f0f921"
            ]
           ],
           "sequentialminus": [
            [
             0,
             "#0d0887"
            ],
            [
             0.1111111111111111,
             "#46039f"
            ],
            [
             0.2222222222222222,
             "#7201a8"
            ],
            [
             0.3333333333333333,
             "#9c179e"
            ],
            [
             0.4444444444444444,
             "#bd3786"
            ],
            [
             0.5555555555555556,
             "#d8576b"
            ],
            [
             0.6666666666666666,
             "#ed7953"
            ],
            [
             0.7777777777777778,
             "#fb9f3a"
            ],
            [
             0.8888888888888888,
             "#fdca26"
            ],
            [
             1,
             "#f0f921"
            ]
           ]
          },
          "colorway": [
           "#636efa",
           "#EF553B",
           "#00cc96",
           "#ab63fa",
           "#FFA15A",
           "#19d3f3",
           "#FF6692",
           "#B6E880",
           "#FF97FF",
           "#FECB52"
          ],
          "font": {
           "color": "#2a3f5f"
          },
          "geo": {
           "bgcolor": "white",
           "lakecolor": "white",
           "landcolor": "#E5ECF6",
           "showlakes": true,
           "showland": true,
           "subunitcolor": "white"
          },
          "hoverlabel": {
           "align": "left"
          },
          "hovermode": "closest",
          "mapbox": {
           "style": "light"
          },
          "paper_bgcolor": "white",
          "plot_bgcolor": "#E5ECF6",
          "polar": {
           "angularaxis": {
            "gridcolor": "white",
            "linecolor": "white",
            "ticks": ""
           },
           "bgcolor": "#E5ECF6",
           "radialaxis": {
            "gridcolor": "white",
            "linecolor": "white",
            "ticks": ""
           }
          },
          "scene": {
           "xaxis": {
            "backgroundcolor": "#E5ECF6",
            "gridcolor": "white",
            "gridwidth": 2,
            "linecolor": "white",
            "showbackground": true,
            "ticks": "",
            "zerolinecolor": "white"
           },
           "yaxis": {
            "backgroundcolor": "#E5ECF6",
            "gridcolor": "white",
            "gridwidth": 2,
            "linecolor": "white",
            "showbackground": true,
            "ticks": "",
            "zerolinecolor": "white"
           },
           "zaxis": {
            "backgroundcolor": "#E5ECF6",
            "gridcolor": "white",
            "gridwidth": 2,
            "linecolor": "white",
            "showbackground": true,
            "ticks": "",
            "zerolinecolor": "white"
           }
          },
          "shapedefaults": {
           "line": {
            "color": "#2a3f5f"
           }
          },
          "ternary": {
           "aaxis": {
            "gridcolor": "white",
            "linecolor": "white",
            "ticks": ""
           },
           "baxis": {
            "gridcolor": "white",
            "linecolor": "white",
            "ticks": ""
           },
           "bgcolor": "#E5ECF6",
           "caxis": {
            "gridcolor": "white",
            "linecolor": "white",
            "ticks": ""
           }
          },
          "title": {
           "x": 0.05
          },
          "xaxis": {
           "automargin": true,
           "gridcolor": "white",
           "linecolor": "white",
           "ticks": "",
           "title": {
            "standoff": 15
           },
           "zerolinecolor": "white",
           "zerolinewidth": 2
          },
          "yaxis": {
           "automargin": true,
           "gridcolor": "white",
           "linecolor": "white",
           "ticks": "",
           "title": {
            "standoff": 15
           },
           "zerolinecolor": "white",
           "zerolinewidth": 2
          }
         }
        },
        "title": {
         "text": "Execution time of ForecasterRecursive_predict"
        },
        "xaxis": {
         "tickangle": -45,
         "tickmode": "array",
         "ticktext": [
          "0.13.0",
          "0.14.0",
          "0.15.1",
          "0.16.0"
         ],
         "tickvals": [
          0,
          1,
          2,
          3
         ],
         "title": {
          "text": "skforecast version"
         }
        },
        "yaxis": {
         "title": {
          "text": "Execution time (seconds)"
         }
        }
       }
      }
     },
     "metadata": {},
     "output_type": "display_data"
    },
    {
     "data": {
      "application/vnd.microsoft.datawrangler.viewer.v0+json": {
       "columns": [
        {
         "name": "index",
         "rawType": "int64",
         "type": "integer"
        },
        {
         "name": "forecaster_name",
         "rawType": "object",
         "type": "string"
        },
        {
         "name": "regressor_name",
         "rawType": "object",
         "type": "string"
        },
        {
         "name": "function_name",
         "rawType": "object",
         "type": "string"
        },
        {
         "name": "function_hash",
         "rawType": "object",
         "type": "string"
        },
        {
         "name": "run_time_avg",
         "rawType": "float64",
         "type": "float"
        },
        {
         "name": "run_time_std_dev",
         "rawType": "float64",
         "type": "float"
        },
        {
         "name": "datetime",
         "rawType": "datetime64[ns]",
         "type": "datetime"
        },
        {
         "name": "python_version",
         "rawType": "object",
         "type": "string"
        },
        {
         "name": "skforecast_version",
         "rawType": "object",
         "type": "string"
        },
        {
         "name": "numpy_version",
         "rawType": "object",
         "type": "string"
        },
        {
         "name": "pandas_version",
         "rawType": "object",
         "type": "string"
        },
        {
         "name": "sklearn_version",
         "rawType": "object",
         "type": "string"
        },
        {
         "name": "lightgbm_version",
         "rawType": "object",
         "type": "string"
        },
        {
         "name": "platform",
         "rawType": "object",
         "type": "string"
        },
        {
         "name": "processor",
         "rawType": "object",
         "type": "string"
        },
        {
         "name": "cpu_count",
         "rawType": "int64",
         "type": "integer"
        },
        {
         "name": "memory_gb",
         "rawType": "float64",
         "type": "float"
        }
       ],
       "conversionMethod": "pd.DataFrame",
       "ref": "0a240194-1133-45b6-8912-126d5ad0d7e7",
       "rows": [
        [
         "11",
         "ForecasterRecursive",
         "LGBMRegressor",
         "ForecasterRecursive__create_predict_inputs",
         "0f4a625e8b1bb7e3f0c5bb77a04cc2fb",
         "0.0025283952001700525",
         "0.00026581109635499106",
         "2025-04-23 15:05:59.648667",
         "3.12.9",
         "0.16.0",
         "2.2.5",
         "2.2.3",
         "1.6.1",
         "4.6.0",
         "Linux-6.11.0-21-generic-x86_64-with-glibc2.39",
         "x86_64",
         "8",
         "16.64"
        ],
        [
         "23",
         "ForecasterRecursive",
         "LGBMRegressor",
         "ForecasterRecursive__create_predict_inputs",
         "0f4a625e8b1bb7e3f0c5bb77a04cc2fb",
         "0.0026585139999951934",
         "0.00032181962176841745",
         "2025-04-23 15:12:04.344930",
         "3.12.9",
         "0.15.1",
         "2.2.5",
         "2.2.3",
         "1.6.1",
         "4.6.0",
         "Linux-6.11.0-21-generic-x86_64-with-glibc2.39",
         "x86_64",
         "8",
         "16.64"
        ],
        [
         "35",
         "ForecasterRecursive",
         "LGBMRegressor",
         "ForecasterRecursive__create_predict_inputs",
         "0f4a625e8b1bb7e3f0c5bb77a04cc2fb",
         "0.0036980938002670882",
         "0.000621930094133883",
         "2025-04-23 15:16:00.211718",
         "3.12.9",
         "0.14.0",
         "2.2.5",
         "2.2.3",
         "1.6.1",
         "4.6.0",
         "Linux-6.11.0-21-generic-x86_64-with-glibc2.39",
         "x86_64",
         "8",
         "16.64"
        ],
        [
         "47",
         "ForecasterAutoreg",
         "LGBMRegressor",
         "ForecasterRecursive__create_predict_inputs",
         "0f4a625e8b1bb7e3f0c5bb77a04cc2fb",
         null,
         null,
         "2025-04-23 15:31:33.298997",
         "3.12.9",
         "0.13.0",
         "2.2.5",
         "2.2.3",
         "1.6.1",
         "4.6.0",
         "Linux-6.11.0-21-generic-x86_64-with-glibc2.39",
         "x86_64",
         "8",
         "16.64"
        ],
        [
         "59",
         "ForecasterAutoreg",
         "LGBMRegressor",
         "ForecasterRecursive__create_predict_inputs",
         "0f4a625e8b1bb7e3f0c5bb77a04cc2fb",
         null,
         null,
         "2025-04-23 15:41:07.284418",
         "3.12.9",
         "0.13.0",
         "2.2.5",
         "2.2.3",
         "1.6.1",
         "4.6.0",
         "Linux-6.11.0-21-generic-x86_64-with-glibc2.39",
         "x86_64",
         "8",
         "16.64"
        ],
        [
         "63",
         "ForecasterAutoreg",
         "LGBMRegressor",
         "ForecasterRecursive__create_predict_inputs",
         "0f4a625e8b1bb7e3f0c5bb77a04cc2fb",
         null,
         null,
         "2025-04-23 15:46:08.499926",
         "3.12.9",
         "0.13.0",
         "2.2.5",
         "2.2.3",
         "1.6.1",
         "4.6.0",
         "Linux-6.11.0-21-generic-x86_64-with-glibc2.39",
         "x86_64",
         "8",
         "16.64"
        ],
        [
         "67",
         "ForecasterAutoreg",
         "LGBMRegressor",
         "ForecasterRecursive__create_predict_inputs",
         "0f4a625e8b1bb7e3f0c5bb77a04cc2fb",
         null,
         null,
         "2025-04-23 15:46:41.780575",
         "3.12.9",
         "0.13.0",
         "2.2.5",
         "2.2.3",
         "1.6.1",
         "4.6.0",
         "Linux-6.11.0-21-generic-x86_64-with-glibc2.39",
         "x86_64",
         "8",
         "16.64"
        ],
        [
         "79",
         "ForecasterRecursive",
         "LGBMRegressor",
         "ForecasterRecursive__create_predict_inputs",
         "0f4a625e8b1bb7e3f0c5bb77a04cc2fb",
         "0.0035295209001560577",
         "0.0003647426852177326",
         "2025-04-23 15:56:54.817583",
         "3.12.9",
         "0.14.0",
         "2.2.5",
         "2.2.3",
         "1.6.1",
         "4.6.0",
         "Linux-6.11.0-21-generic-x86_64-with-glibc2.39",
         "x86_64",
         "8",
         "16.64"
        ],
        [
         "91",
         "ForecasterRecursive",
         "LGBMRegressor",
         "ForecasterRecursive__create_predict_inputs",
         "0f4a625e8b1bb7e3f0c5bb77a04cc2fb",
         "0.0030039396000574926",
         "0.00030450846592907575",
         "2025-04-23 16:01:07.143048",
         "3.12.9",
         "0.15.1",
         "2.2.5",
         "2.2.3",
         "1.6.1",
         "4.6.0",
         "Linux-6.11.0-21-generic-x86_64-with-glibc2.39",
         "x86_64",
         "8",
         "16.64"
        ],
        [
         "103",
         "ForecasterRecursive",
         "LGBMRegressor",
         "ForecasterRecursive__create_predict_inputs",
         "0f4a625e8b1bb7e3f0c5bb77a04cc2fb",
         "0.0029601401000036278",
         "0.00034884758687908315",
         "2025-04-23 16:05:34.448297",
         "3.12.9",
         "0.15.1",
         "2.2.5",
         "2.2.3",
         "1.6.1",
         "4.6.0",
         "Linux-6.11.0-21-generic-x86_64-with-glibc2.39",
         "x86_64",
         "8",
         "16.64"
        ],
        [
         "115",
         "ForecasterRecursive",
         "LGBMRegressor",
         "ForecasterRecursive__create_predict_inputs",
         "0f4a625e8b1bb7e3f0c5bb77a04cc2fb",
         "0.002491978299985931",
         "0.0002859258146135561",
         "2025-04-23 16:08:44.063423",
         "3.12.9",
         "0.16.0",
         "2.2.5",
         "2.2.3",
         "1.6.1",
         "4.6.0",
         "Linux-6.11.0-21-generic-x86_64-with-glibc2.39",
         "x86_64",
         "8",
         "16.64"
        ],
        [
         "127",
         "ForecasterRecursive",
         "LGBMRegressor",
         "ForecasterRecursive__create_predict_inputs",
         "0f4a625e8b1bb7e3f0c5bb77a04cc2fb",
         "0.0024643170992931117",
         "0.00021370946702027258",
         "2025-04-23 16:12:11.844217",
         "3.12.9",
         "0.16.0",
         "2.2.5",
         "2.2.3",
         "1.6.1",
         "4.6.0",
         "Linux-6.11.0-21-generic-x86_64-with-glibc2.39",
         "x86_64",
         "8",
         "16.64"
        ],
        [
         "132",
         "ForecasterRecursive",
         "LGBMRegressor",
         "ForecasterRecursive__create_predict_inputs",
         "0f4a625e8b1bb7e3f0c5bb77a04cc2fb",
         "0.0020630146997064",
         "0.00022216274623873663",
         "2025-04-23 20:07:38.284405",
         "3.12.9",
         "0.16.0",
         "2.2.5",
         "2.2.3",
         "1.6.1",
         "4.6.0",
         "Linux-6.11.0-21-generic-x86_64-with-glibc2.39",
         "x86_64",
         "8",
         "16.64"
        ],
        [
         "147",
         "ForecasterRecursive",
         "LGBMRegressor",
         "ForecasterRecursive__create_predict_inputs",
         "0f4a625e8b1bb7e3f0c5bb77a04cc2fb",
         "0.0024233822001406224",
         "0.00021097081720512396",
         "2025-04-23 20:15:12.604503",
         "3.12.9",
         "0.16.0",
         "2.2.5",
         "2.2.3",
         "1.6.1",
         "4.6.0",
         "Linux-6.11.0-21-generic-x86_64-with-glibc2.39",
         "x86_64",
         "8",
         "16.64"
        ],
        [
         "160",
         "ForecasterRecursive",
         "LGBMRegressor",
         "ForecasterRecursive__create_predict_inputs",
         "0f4a625e8b1bb7e3f0c5bb77a04cc2fb",
         "0.002517052399889508",
         "0.00024662356275961843",
         "2025-04-23 20:22:39.239676",
         "3.12.9",
         "0.15.1",
         "2.2.5",
         "2.2.3",
         "1.6.1",
         "4.6.0",
         "Linux-6.11.0-21-generic-x86_64-with-glibc2.39",
         "x86_64",
         "8",
         "16.64"
        ],
        [
         "173",
         "ForecasterRecursive",
         "LGBMRegressor",
         "ForecasterRecursive__create_predict_inputs",
         "0f4a625e8b1bb7e3f0c5bb77a04cc2fb",
         "0.002665250900099636",
         "0.00024126820713395232",
         "2025-04-23 22:04:09.563928",
         "3.12.9",
         "0.15.1",
         "2.2.5",
         "2.2.3",
         "1.6.1",
         "4.6.0",
         "Linux-6.11.0-21-generic-x86_64-with-glibc2.39",
         "x86_64",
         "8",
         "16.64"
        ],
        [
         "186",
         "ForecasterRecursive",
         "LGBMRegressor",
         "ForecasterRecursive__create_predict_inputs",
         "0f4a625e8b1bb7e3f0c5bb77a04cc2fb",
         "0.0026298311004211428",
         "0.0001872431806144275",
         "2025-04-23 22:17:07.765379",
         "3.12.9",
         "0.14.0",
         "2.2.5",
         "2.2.3",
         "1.6.1",
         "4.6.0",
         "Linux-6.11.0-21-generic-x86_64-with-glibc2.39",
         "x86_64",
         "8",
         "16.64"
        ],
        [
         "199",
         "ForecasterRecursive",
         "LGBMRegressor",
         "ForecasterRecursive__create_predict_inputs",
         "0f4a625e8b1bb7e3f0c5bb77a04cc2fb",
         "0.0032714625998778502",
         "0.0004734042456286637",
         "2025-04-23 22:51:18.941892",
         "3.12.9",
         "0.14.0",
         "2.2.5",
         "2.2.3",
         "1.6.1",
         "4.6.0",
         "Linux-6.11.0-21-generic-x86_64-with-glibc2.39",
         "x86_64",
         "8",
         "16.64"
        ],
        [
         "214",
         "ForecasterRecursive",
         "LGBMRegressor",
         "ForecasterRecursive__create_predict_inputs",
         "0f4a625e8b1bb7e3f0c5bb77a04cc2fb",
         "0.002464481399510987",
         "0.0002023621211876193",
         "2025-04-23 22:59:16.843980",
         "3.12.9",
         "0.16.0",
         "2.2.5",
         "2.2.3",
         "1.6.1",
         "4.6.0",
         "Linux-6.11.0-21-generic-x86_64-with-glibc2.39",
         "x86_64",
         "8",
         "16.64"
        ]
       ],
       "shape": {
        "columns": 17,
        "rows": 19
       }
      },
      "text/html": [
       "<div>\n",
       "<style scoped>\n",
       "    .dataframe tbody tr th:only-of-type {\n",
       "        vertical-align: middle;\n",
       "    }\n",
       "\n",
       "    .dataframe tbody tr th {\n",
       "        vertical-align: top;\n",
       "    }\n",
       "\n",
       "    .dataframe thead th {\n",
       "        text-align: right;\n",
       "    }\n",
       "</style>\n",
       "<table border=\"1\" class=\"dataframe\">\n",
       "  <thead>\n",
       "    <tr style=\"text-align: right;\">\n",
       "      <th></th>\n",
       "      <th>forecaster_name</th>\n",
       "      <th>regressor_name</th>\n",
       "      <th>function_name</th>\n",
       "      <th>function_hash</th>\n",
       "      <th>run_time_avg</th>\n",
       "      <th>run_time_std_dev</th>\n",
       "      <th>datetime</th>\n",
       "      <th>python_version</th>\n",
       "      <th>skforecast_version</th>\n",
       "      <th>numpy_version</th>\n",
       "      <th>pandas_version</th>\n",
       "      <th>sklearn_version</th>\n",
       "      <th>lightgbm_version</th>\n",
       "      <th>platform</th>\n",
       "      <th>processor</th>\n",
       "      <th>cpu_count</th>\n",
       "      <th>memory_gb</th>\n",
       "    </tr>\n",
       "  </thead>\n",
       "  <tbody>\n",
       "    <tr>\n",
       "      <th>11</th>\n",
       "      <td>ForecasterRecursive</td>\n",
       "      <td>LGBMRegressor</td>\n",
       "      <td>ForecasterRecursive__create_predict_inputs</td>\n",
       "      <td>0f4a625e8b1bb7e3f0c5bb77a04cc2fb</td>\n",
       "      <td>0.002528</td>\n",
       "      <td>0.000266</td>\n",
       "      <td>2025-04-23 15:05:59.648667</td>\n",
       "      <td>3.12.9</td>\n",
       "      <td>0.16.0</td>\n",
       "      <td>2.2.5</td>\n",
       "      <td>2.2.3</td>\n",
       "      <td>1.6.1</td>\n",
       "      <td>4.6.0</td>\n",
       "      <td>Linux-6.11.0-21-generic-x86_64-with-glibc2.39</td>\n",
       "      <td>x86_64</td>\n",
       "      <td>8</td>\n",
       "      <td>16.64</td>\n",
       "    </tr>\n",
       "    <tr>\n",
       "      <th>23</th>\n",
       "      <td>ForecasterRecursive</td>\n",
       "      <td>LGBMRegressor</td>\n",
       "      <td>ForecasterRecursive__create_predict_inputs</td>\n",
       "      <td>0f4a625e8b1bb7e3f0c5bb77a04cc2fb</td>\n",
       "      <td>0.002659</td>\n",
       "      <td>0.000322</td>\n",
       "      <td>2025-04-23 15:12:04.344930</td>\n",
       "      <td>3.12.9</td>\n",
       "      <td>0.15.1</td>\n",
       "      <td>2.2.5</td>\n",
       "      <td>2.2.3</td>\n",
       "      <td>1.6.1</td>\n",
       "      <td>4.6.0</td>\n",
       "      <td>Linux-6.11.0-21-generic-x86_64-with-glibc2.39</td>\n",
       "      <td>x86_64</td>\n",
       "      <td>8</td>\n",
       "      <td>16.64</td>\n",
       "    </tr>\n",
       "    <tr>\n",
       "      <th>35</th>\n",
       "      <td>ForecasterRecursive</td>\n",
       "      <td>LGBMRegressor</td>\n",
       "      <td>ForecasterRecursive__create_predict_inputs</td>\n",
       "      <td>0f4a625e8b1bb7e3f0c5bb77a04cc2fb</td>\n",
       "      <td>0.003698</td>\n",
       "      <td>0.000622</td>\n",
       "      <td>2025-04-23 15:16:00.211718</td>\n",
       "      <td>3.12.9</td>\n",
       "      <td>0.14.0</td>\n",
       "      <td>2.2.5</td>\n",
       "      <td>2.2.3</td>\n",
       "      <td>1.6.1</td>\n",
       "      <td>4.6.0</td>\n",
       "      <td>Linux-6.11.0-21-generic-x86_64-with-glibc2.39</td>\n",
       "      <td>x86_64</td>\n",
       "      <td>8</td>\n",
       "      <td>16.64</td>\n",
       "    </tr>\n",
       "    <tr>\n",
       "      <th>47</th>\n",
       "      <td>ForecasterAutoreg</td>\n",
       "      <td>LGBMRegressor</td>\n",
       "      <td>ForecasterRecursive__create_predict_inputs</td>\n",
       "      <td>0f4a625e8b1bb7e3f0c5bb77a04cc2fb</td>\n",
       "      <td>NaN</td>\n",
       "      <td>NaN</td>\n",
       "      <td>2025-04-23 15:31:33.298997</td>\n",
       "      <td>3.12.9</td>\n",
       "      <td>0.13.0</td>\n",
       "      <td>2.2.5</td>\n",
       "      <td>2.2.3</td>\n",
       "      <td>1.6.1</td>\n",
       "      <td>4.6.0</td>\n",
       "      <td>Linux-6.11.0-21-generic-x86_64-with-glibc2.39</td>\n",
       "      <td>x86_64</td>\n",
       "      <td>8</td>\n",
       "      <td>16.64</td>\n",
       "    </tr>\n",
       "    <tr>\n",
       "      <th>59</th>\n",
       "      <td>ForecasterAutoreg</td>\n",
       "      <td>LGBMRegressor</td>\n",
       "      <td>ForecasterRecursive__create_predict_inputs</td>\n",
       "      <td>0f4a625e8b1bb7e3f0c5bb77a04cc2fb</td>\n",
       "      <td>NaN</td>\n",
       "      <td>NaN</td>\n",
       "      <td>2025-04-23 15:41:07.284418</td>\n",
       "      <td>3.12.9</td>\n",
       "      <td>0.13.0</td>\n",
       "      <td>2.2.5</td>\n",
       "      <td>2.2.3</td>\n",
       "      <td>1.6.1</td>\n",
       "      <td>4.6.0</td>\n",
       "      <td>Linux-6.11.0-21-generic-x86_64-with-glibc2.39</td>\n",
       "      <td>x86_64</td>\n",
       "      <td>8</td>\n",
       "      <td>16.64</td>\n",
       "    </tr>\n",
       "    <tr>\n",
       "      <th>63</th>\n",
       "      <td>ForecasterAutoreg</td>\n",
       "      <td>LGBMRegressor</td>\n",
       "      <td>ForecasterRecursive__create_predict_inputs</td>\n",
       "      <td>0f4a625e8b1bb7e3f0c5bb77a04cc2fb</td>\n",
       "      <td>NaN</td>\n",
       "      <td>NaN</td>\n",
       "      <td>2025-04-23 15:46:08.499926</td>\n",
       "      <td>3.12.9</td>\n",
       "      <td>0.13.0</td>\n",
       "      <td>2.2.5</td>\n",
       "      <td>2.2.3</td>\n",
       "      <td>1.6.1</td>\n",
       "      <td>4.6.0</td>\n",
       "      <td>Linux-6.11.0-21-generic-x86_64-with-glibc2.39</td>\n",
       "      <td>x86_64</td>\n",
       "      <td>8</td>\n",
       "      <td>16.64</td>\n",
       "    </tr>\n",
       "    <tr>\n",
       "      <th>67</th>\n",
       "      <td>ForecasterAutoreg</td>\n",
       "      <td>LGBMRegressor</td>\n",
       "      <td>ForecasterRecursive__create_predict_inputs</td>\n",
       "      <td>0f4a625e8b1bb7e3f0c5bb77a04cc2fb</td>\n",
       "      <td>NaN</td>\n",
       "      <td>NaN</td>\n",
       "      <td>2025-04-23 15:46:41.780575</td>\n",
       "      <td>3.12.9</td>\n",
       "      <td>0.13.0</td>\n",
       "      <td>2.2.5</td>\n",
       "      <td>2.2.3</td>\n",
       "      <td>1.6.1</td>\n",
       "      <td>4.6.0</td>\n",
       "      <td>Linux-6.11.0-21-generic-x86_64-with-glibc2.39</td>\n",
       "      <td>x86_64</td>\n",
       "      <td>8</td>\n",
       "      <td>16.64</td>\n",
       "    </tr>\n",
       "    <tr>\n",
       "      <th>79</th>\n",
       "      <td>ForecasterRecursive</td>\n",
       "      <td>LGBMRegressor</td>\n",
       "      <td>ForecasterRecursive__create_predict_inputs</td>\n",
       "      <td>0f4a625e8b1bb7e3f0c5bb77a04cc2fb</td>\n",
       "      <td>0.003530</td>\n",
       "      <td>0.000365</td>\n",
       "      <td>2025-04-23 15:56:54.817583</td>\n",
       "      <td>3.12.9</td>\n",
       "      <td>0.14.0</td>\n",
       "      <td>2.2.5</td>\n",
       "      <td>2.2.3</td>\n",
       "      <td>1.6.1</td>\n",
       "      <td>4.6.0</td>\n",
       "      <td>Linux-6.11.0-21-generic-x86_64-with-glibc2.39</td>\n",
       "      <td>x86_64</td>\n",
       "      <td>8</td>\n",
       "      <td>16.64</td>\n",
       "    </tr>\n",
       "    <tr>\n",
       "      <th>91</th>\n",
       "      <td>ForecasterRecursive</td>\n",
       "      <td>LGBMRegressor</td>\n",
       "      <td>ForecasterRecursive__create_predict_inputs</td>\n",
       "      <td>0f4a625e8b1bb7e3f0c5bb77a04cc2fb</td>\n",
       "      <td>0.003004</td>\n",
       "      <td>0.000305</td>\n",
       "      <td>2025-04-23 16:01:07.143048</td>\n",
       "      <td>3.12.9</td>\n",
       "      <td>0.15.1</td>\n",
       "      <td>2.2.5</td>\n",
       "      <td>2.2.3</td>\n",
       "      <td>1.6.1</td>\n",
       "      <td>4.6.0</td>\n",
       "      <td>Linux-6.11.0-21-generic-x86_64-with-glibc2.39</td>\n",
       "      <td>x86_64</td>\n",
       "      <td>8</td>\n",
       "      <td>16.64</td>\n",
       "    </tr>\n",
       "    <tr>\n",
       "      <th>103</th>\n",
       "      <td>ForecasterRecursive</td>\n",
       "      <td>LGBMRegressor</td>\n",
       "      <td>ForecasterRecursive__create_predict_inputs</td>\n",
       "      <td>0f4a625e8b1bb7e3f0c5bb77a04cc2fb</td>\n",
       "      <td>0.002960</td>\n",
       "      <td>0.000349</td>\n",
       "      <td>2025-04-23 16:05:34.448297</td>\n",
       "      <td>3.12.9</td>\n",
       "      <td>0.15.1</td>\n",
       "      <td>2.2.5</td>\n",
       "      <td>2.2.3</td>\n",
       "      <td>1.6.1</td>\n",
       "      <td>4.6.0</td>\n",
       "      <td>Linux-6.11.0-21-generic-x86_64-with-glibc2.39</td>\n",
       "      <td>x86_64</td>\n",
       "      <td>8</td>\n",
       "      <td>16.64</td>\n",
       "    </tr>\n",
       "    <tr>\n",
       "      <th>115</th>\n",
       "      <td>ForecasterRecursive</td>\n",
       "      <td>LGBMRegressor</td>\n",
       "      <td>ForecasterRecursive__create_predict_inputs</td>\n",
       "      <td>0f4a625e8b1bb7e3f0c5bb77a04cc2fb</td>\n",
       "      <td>0.002492</td>\n",
       "      <td>0.000286</td>\n",
       "      <td>2025-04-23 16:08:44.063423</td>\n",
       "      <td>3.12.9</td>\n",
       "      <td>0.16.0</td>\n",
       "      <td>2.2.5</td>\n",
       "      <td>2.2.3</td>\n",
       "      <td>1.6.1</td>\n",
       "      <td>4.6.0</td>\n",
       "      <td>Linux-6.11.0-21-generic-x86_64-with-glibc2.39</td>\n",
       "      <td>x86_64</td>\n",
       "      <td>8</td>\n",
       "      <td>16.64</td>\n",
       "    </tr>\n",
       "    <tr>\n",
       "      <th>127</th>\n",
       "      <td>ForecasterRecursive</td>\n",
       "      <td>LGBMRegressor</td>\n",
       "      <td>ForecasterRecursive__create_predict_inputs</td>\n",
       "      <td>0f4a625e8b1bb7e3f0c5bb77a04cc2fb</td>\n",
       "      <td>0.002464</td>\n",
       "      <td>0.000214</td>\n",
       "      <td>2025-04-23 16:12:11.844217</td>\n",
       "      <td>3.12.9</td>\n",
       "      <td>0.16.0</td>\n",
       "      <td>2.2.5</td>\n",
       "      <td>2.2.3</td>\n",
       "      <td>1.6.1</td>\n",
       "      <td>4.6.0</td>\n",
       "      <td>Linux-6.11.0-21-generic-x86_64-with-glibc2.39</td>\n",
       "      <td>x86_64</td>\n",
       "      <td>8</td>\n",
       "      <td>16.64</td>\n",
       "    </tr>\n",
       "    <tr>\n",
       "      <th>132</th>\n",
       "      <td>ForecasterRecursive</td>\n",
       "      <td>LGBMRegressor</td>\n",
       "      <td>ForecasterRecursive__create_predict_inputs</td>\n",
       "      <td>0f4a625e8b1bb7e3f0c5bb77a04cc2fb</td>\n",
       "      <td>0.002063</td>\n",
       "      <td>0.000222</td>\n",
       "      <td>2025-04-23 20:07:38.284405</td>\n",
       "      <td>3.12.9</td>\n",
       "      <td>0.16.0</td>\n",
       "      <td>2.2.5</td>\n",
       "      <td>2.2.3</td>\n",
       "      <td>1.6.1</td>\n",
       "      <td>4.6.0</td>\n",
       "      <td>Linux-6.11.0-21-generic-x86_64-with-glibc2.39</td>\n",
       "      <td>x86_64</td>\n",
       "      <td>8</td>\n",
       "      <td>16.64</td>\n",
       "    </tr>\n",
       "    <tr>\n",
       "      <th>147</th>\n",
       "      <td>ForecasterRecursive</td>\n",
       "      <td>LGBMRegressor</td>\n",
       "      <td>ForecasterRecursive__create_predict_inputs</td>\n",
       "      <td>0f4a625e8b1bb7e3f0c5bb77a04cc2fb</td>\n",
       "      <td>0.002423</td>\n",
       "      <td>0.000211</td>\n",
       "      <td>2025-04-23 20:15:12.604503</td>\n",
       "      <td>3.12.9</td>\n",
       "      <td>0.16.0</td>\n",
       "      <td>2.2.5</td>\n",
       "      <td>2.2.3</td>\n",
       "      <td>1.6.1</td>\n",
       "      <td>4.6.0</td>\n",
       "      <td>Linux-6.11.0-21-generic-x86_64-with-glibc2.39</td>\n",
       "      <td>x86_64</td>\n",
       "      <td>8</td>\n",
       "      <td>16.64</td>\n",
       "    </tr>\n",
       "    <tr>\n",
       "      <th>160</th>\n",
       "      <td>ForecasterRecursive</td>\n",
       "      <td>LGBMRegressor</td>\n",
       "      <td>ForecasterRecursive__create_predict_inputs</td>\n",
       "      <td>0f4a625e8b1bb7e3f0c5bb77a04cc2fb</td>\n",
       "      <td>0.002517</td>\n",
       "      <td>0.000247</td>\n",
       "      <td>2025-04-23 20:22:39.239676</td>\n",
       "      <td>3.12.9</td>\n",
       "      <td>0.15.1</td>\n",
       "      <td>2.2.5</td>\n",
       "      <td>2.2.3</td>\n",
       "      <td>1.6.1</td>\n",
       "      <td>4.6.0</td>\n",
       "      <td>Linux-6.11.0-21-generic-x86_64-with-glibc2.39</td>\n",
       "      <td>x86_64</td>\n",
       "      <td>8</td>\n",
       "      <td>16.64</td>\n",
       "    </tr>\n",
       "    <tr>\n",
       "      <th>173</th>\n",
       "      <td>ForecasterRecursive</td>\n",
       "      <td>LGBMRegressor</td>\n",
       "      <td>ForecasterRecursive__create_predict_inputs</td>\n",
       "      <td>0f4a625e8b1bb7e3f0c5bb77a04cc2fb</td>\n",
       "      <td>0.002665</td>\n",
       "      <td>0.000241</td>\n",
       "      <td>2025-04-23 22:04:09.563928</td>\n",
       "      <td>3.12.9</td>\n",
       "      <td>0.15.1</td>\n",
       "      <td>2.2.5</td>\n",
       "      <td>2.2.3</td>\n",
       "      <td>1.6.1</td>\n",
       "      <td>4.6.0</td>\n",
       "      <td>Linux-6.11.0-21-generic-x86_64-with-glibc2.39</td>\n",
       "      <td>x86_64</td>\n",
       "      <td>8</td>\n",
       "      <td>16.64</td>\n",
       "    </tr>\n",
       "    <tr>\n",
       "      <th>186</th>\n",
       "      <td>ForecasterRecursive</td>\n",
       "      <td>LGBMRegressor</td>\n",
       "      <td>ForecasterRecursive__create_predict_inputs</td>\n",
       "      <td>0f4a625e8b1bb7e3f0c5bb77a04cc2fb</td>\n",
       "      <td>0.002630</td>\n",
       "      <td>0.000187</td>\n",
       "      <td>2025-04-23 22:17:07.765379</td>\n",
       "      <td>3.12.9</td>\n",
       "      <td>0.14.0</td>\n",
       "      <td>2.2.5</td>\n",
       "      <td>2.2.3</td>\n",
       "      <td>1.6.1</td>\n",
       "      <td>4.6.0</td>\n",
       "      <td>Linux-6.11.0-21-generic-x86_64-with-glibc2.39</td>\n",
       "      <td>x86_64</td>\n",
       "      <td>8</td>\n",
       "      <td>16.64</td>\n",
       "    </tr>\n",
       "    <tr>\n",
       "      <th>199</th>\n",
       "      <td>ForecasterRecursive</td>\n",
       "      <td>LGBMRegressor</td>\n",
       "      <td>ForecasterRecursive__create_predict_inputs</td>\n",
       "      <td>0f4a625e8b1bb7e3f0c5bb77a04cc2fb</td>\n",
       "      <td>0.003271</td>\n",
       "      <td>0.000473</td>\n",
       "      <td>2025-04-23 22:51:18.941892</td>\n",
       "      <td>3.12.9</td>\n",
       "      <td>0.14.0</td>\n",
       "      <td>2.2.5</td>\n",
       "      <td>2.2.3</td>\n",
       "      <td>1.6.1</td>\n",
       "      <td>4.6.0</td>\n",
       "      <td>Linux-6.11.0-21-generic-x86_64-with-glibc2.39</td>\n",
       "      <td>x86_64</td>\n",
       "      <td>8</td>\n",
       "      <td>16.64</td>\n",
       "    </tr>\n",
       "    <tr>\n",
       "      <th>214</th>\n",
       "      <td>ForecasterRecursive</td>\n",
       "      <td>LGBMRegressor</td>\n",
       "      <td>ForecasterRecursive__create_predict_inputs</td>\n",
       "      <td>0f4a625e8b1bb7e3f0c5bb77a04cc2fb</td>\n",
       "      <td>0.002464</td>\n",
       "      <td>0.000202</td>\n",
       "      <td>2025-04-23 22:59:16.843980</td>\n",
       "      <td>3.12.9</td>\n",
       "      <td>0.16.0</td>\n",
       "      <td>2.2.5</td>\n",
       "      <td>2.2.3</td>\n",
       "      <td>1.6.1</td>\n",
       "      <td>4.6.0</td>\n",
       "      <td>Linux-6.11.0-21-generic-x86_64-with-glibc2.39</td>\n",
       "      <td>x86_64</td>\n",
       "      <td>8</td>\n",
       "      <td>16.64</td>\n",
       "    </tr>\n",
       "  </tbody>\n",
       "</table>\n",
       "</div>"
      ],
      "text/plain": [
       "         forecaster_name regressor_name  \\\n",
       "11   ForecasterRecursive  LGBMRegressor   \n",
       "23   ForecasterRecursive  LGBMRegressor   \n",
       "35   ForecasterRecursive  LGBMRegressor   \n",
       "47     ForecasterAutoreg  LGBMRegressor   \n",
       "59     ForecasterAutoreg  LGBMRegressor   \n",
       "63     ForecasterAutoreg  LGBMRegressor   \n",
       "67     ForecasterAutoreg  LGBMRegressor   \n",
       "79   ForecasterRecursive  LGBMRegressor   \n",
       "91   ForecasterRecursive  LGBMRegressor   \n",
       "103  ForecasterRecursive  LGBMRegressor   \n",
       "115  ForecasterRecursive  LGBMRegressor   \n",
       "127  ForecasterRecursive  LGBMRegressor   \n",
       "132  ForecasterRecursive  LGBMRegressor   \n",
       "147  ForecasterRecursive  LGBMRegressor   \n",
       "160  ForecasterRecursive  LGBMRegressor   \n",
       "173  ForecasterRecursive  LGBMRegressor   \n",
       "186  ForecasterRecursive  LGBMRegressor   \n",
       "199  ForecasterRecursive  LGBMRegressor   \n",
       "214  ForecasterRecursive  LGBMRegressor   \n",
       "\n",
       "                                  function_name  \\\n",
       "11   ForecasterRecursive__create_predict_inputs   \n",
       "23   ForecasterRecursive__create_predict_inputs   \n",
       "35   ForecasterRecursive__create_predict_inputs   \n",
       "47   ForecasterRecursive__create_predict_inputs   \n",
       "59   ForecasterRecursive__create_predict_inputs   \n",
       "63   ForecasterRecursive__create_predict_inputs   \n",
       "67   ForecasterRecursive__create_predict_inputs   \n",
       "79   ForecasterRecursive__create_predict_inputs   \n",
       "91   ForecasterRecursive__create_predict_inputs   \n",
       "103  ForecasterRecursive__create_predict_inputs   \n",
       "115  ForecasterRecursive__create_predict_inputs   \n",
       "127  ForecasterRecursive__create_predict_inputs   \n",
       "132  ForecasterRecursive__create_predict_inputs   \n",
       "147  ForecasterRecursive__create_predict_inputs   \n",
       "160  ForecasterRecursive__create_predict_inputs   \n",
       "173  ForecasterRecursive__create_predict_inputs   \n",
       "186  ForecasterRecursive__create_predict_inputs   \n",
       "199  ForecasterRecursive__create_predict_inputs   \n",
       "214  ForecasterRecursive__create_predict_inputs   \n",
       "\n",
       "                        function_hash  run_time_avg  run_time_std_dev  \\\n",
       "11   0f4a625e8b1bb7e3f0c5bb77a04cc2fb      0.002528          0.000266   \n",
       "23   0f4a625e8b1bb7e3f0c5bb77a04cc2fb      0.002659          0.000322   \n",
       "35   0f4a625e8b1bb7e3f0c5bb77a04cc2fb      0.003698          0.000622   \n",
       "47   0f4a625e8b1bb7e3f0c5bb77a04cc2fb           NaN               NaN   \n",
       "59   0f4a625e8b1bb7e3f0c5bb77a04cc2fb           NaN               NaN   \n",
       "63   0f4a625e8b1bb7e3f0c5bb77a04cc2fb           NaN               NaN   \n",
       "67   0f4a625e8b1bb7e3f0c5bb77a04cc2fb           NaN               NaN   \n",
       "79   0f4a625e8b1bb7e3f0c5bb77a04cc2fb      0.003530          0.000365   \n",
       "91   0f4a625e8b1bb7e3f0c5bb77a04cc2fb      0.003004          0.000305   \n",
       "103  0f4a625e8b1bb7e3f0c5bb77a04cc2fb      0.002960          0.000349   \n",
       "115  0f4a625e8b1bb7e3f0c5bb77a04cc2fb      0.002492          0.000286   \n",
       "127  0f4a625e8b1bb7e3f0c5bb77a04cc2fb      0.002464          0.000214   \n",
       "132  0f4a625e8b1bb7e3f0c5bb77a04cc2fb      0.002063          0.000222   \n",
       "147  0f4a625e8b1bb7e3f0c5bb77a04cc2fb      0.002423          0.000211   \n",
       "160  0f4a625e8b1bb7e3f0c5bb77a04cc2fb      0.002517          0.000247   \n",
       "173  0f4a625e8b1bb7e3f0c5bb77a04cc2fb      0.002665          0.000241   \n",
       "186  0f4a625e8b1bb7e3f0c5bb77a04cc2fb      0.002630          0.000187   \n",
       "199  0f4a625e8b1bb7e3f0c5bb77a04cc2fb      0.003271          0.000473   \n",
       "214  0f4a625e8b1bb7e3f0c5bb77a04cc2fb      0.002464          0.000202   \n",
       "\n",
       "                      datetime python_version skforecast_version  \\\n",
       "11  2025-04-23 15:05:59.648667         3.12.9             0.16.0   \n",
       "23  2025-04-23 15:12:04.344930         3.12.9             0.15.1   \n",
       "35  2025-04-23 15:16:00.211718         3.12.9             0.14.0   \n",
       "47  2025-04-23 15:31:33.298997         3.12.9             0.13.0   \n",
       "59  2025-04-23 15:41:07.284418         3.12.9             0.13.0   \n",
       "63  2025-04-23 15:46:08.499926         3.12.9             0.13.0   \n",
       "67  2025-04-23 15:46:41.780575         3.12.9             0.13.0   \n",
       "79  2025-04-23 15:56:54.817583         3.12.9             0.14.0   \n",
       "91  2025-04-23 16:01:07.143048         3.12.9             0.15.1   \n",
       "103 2025-04-23 16:05:34.448297         3.12.9             0.15.1   \n",
       "115 2025-04-23 16:08:44.063423         3.12.9             0.16.0   \n",
       "127 2025-04-23 16:12:11.844217         3.12.9             0.16.0   \n",
       "132 2025-04-23 20:07:38.284405         3.12.9             0.16.0   \n",
       "147 2025-04-23 20:15:12.604503         3.12.9             0.16.0   \n",
       "160 2025-04-23 20:22:39.239676         3.12.9             0.15.1   \n",
       "173 2025-04-23 22:04:09.563928         3.12.9             0.15.1   \n",
       "186 2025-04-23 22:17:07.765379         3.12.9             0.14.0   \n",
       "199 2025-04-23 22:51:18.941892         3.12.9             0.14.0   \n",
       "214 2025-04-23 22:59:16.843980         3.12.9             0.16.0   \n",
       "\n",
       "    numpy_version pandas_version sklearn_version lightgbm_version  \\\n",
       "11          2.2.5          2.2.3           1.6.1            4.6.0   \n",
       "23          2.2.5          2.2.3           1.6.1            4.6.0   \n",
       "35          2.2.5          2.2.3           1.6.1            4.6.0   \n",
       "47          2.2.5          2.2.3           1.6.1            4.6.0   \n",
       "59          2.2.5          2.2.3           1.6.1            4.6.0   \n",
       "63          2.2.5          2.2.3           1.6.1            4.6.0   \n",
       "67          2.2.5          2.2.3           1.6.1            4.6.0   \n",
       "79          2.2.5          2.2.3           1.6.1            4.6.0   \n",
       "91          2.2.5          2.2.3           1.6.1            4.6.0   \n",
       "103         2.2.5          2.2.3           1.6.1            4.6.0   \n",
       "115         2.2.5          2.2.3           1.6.1            4.6.0   \n",
       "127         2.2.5          2.2.3           1.6.1            4.6.0   \n",
       "132         2.2.5          2.2.3           1.6.1            4.6.0   \n",
       "147         2.2.5          2.2.3           1.6.1            4.6.0   \n",
       "160         2.2.5          2.2.3           1.6.1            4.6.0   \n",
       "173         2.2.5          2.2.3           1.6.1            4.6.0   \n",
       "186         2.2.5          2.2.3           1.6.1            4.6.0   \n",
       "199         2.2.5          2.2.3           1.6.1            4.6.0   \n",
       "214         2.2.5          2.2.3           1.6.1            4.6.0   \n",
       "\n",
       "                                          platform processor  cpu_count  \\\n",
       "11   Linux-6.11.0-21-generic-x86_64-with-glibc2.39    x86_64          8   \n",
       "23   Linux-6.11.0-21-generic-x86_64-with-glibc2.39    x86_64          8   \n",
       "35   Linux-6.11.0-21-generic-x86_64-with-glibc2.39    x86_64          8   \n",
       "47   Linux-6.11.0-21-generic-x86_64-with-glibc2.39    x86_64          8   \n",
       "59   Linux-6.11.0-21-generic-x86_64-with-glibc2.39    x86_64          8   \n",
       "63   Linux-6.11.0-21-generic-x86_64-with-glibc2.39    x86_64          8   \n",
       "67   Linux-6.11.0-21-generic-x86_64-with-glibc2.39    x86_64          8   \n",
       "79   Linux-6.11.0-21-generic-x86_64-with-glibc2.39    x86_64          8   \n",
       "91   Linux-6.11.0-21-generic-x86_64-with-glibc2.39    x86_64          8   \n",
       "103  Linux-6.11.0-21-generic-x86_64-with-glibc2.39    x86_64          8   \n",
       "115  Linux-6.11.0-21-generic-x86_64-with-glibc2.39    x86_64          8   \n",
       "127  Linux-6.11.0-21-generic-x86_64-with-glibc2.39    x86_64          8   \n",
       "132  Linux-6.11.0-21-generic-x86_64-with-glibc2.39    x86_64          8   \n",
       "147  Linux-6.11.0-21-generic-x86_64-with-glibc2.39    x86_64          8   \n",
       "160  Linux-6.11.0-21-generic-x86_64-with-glibc2.39    x86_64          8   \n",
       "173  Linux-6.11.0-21-generic-x86_64-with-glibc2.39    x86_64          8   \n",
       "186  Linux-6.11.0-21-generic-x86_64-with-glibc2.39    x86_64          8   \n",
       "199  Linux-6.11.0-21-generic-x86_64-with-glibc2.39    x86_64          8   \n",
       "214  Linux-6.11.0-21-generic-x86_64-with-glibc2.39    x86_64          8   \n",
       "\n",
       "     memory_gb  \n",
       "11       16.64  \n",
       "23       16.64  \n",
       "35       16.64  \n",
       "47       16.64  \n",
       "59       16.64  \n",
       "63       16.64  \n",
       "67       16.64  \n",
       "79       16.64  \n",
       "91       16.64  \n",
       "103      16.64  \n",
       "115      16.64  \n",
       "127      16.64  \n",
       "132      16.64  \n",
       "147      16.64  \n",
       "160      16.64  \n",
       "173      16.64  \n",
       "186      16.64  \n",
       "199      16.64  \n",
       "214      16.64  "
      ]
     },
     "metadata": {},
     "output_type": "display_data"
    },
    {
     "data": {
      "application/vnd.plotly.v1+json": {
       "config": {
        "plotlyServerURL": "https://plot.ly"
       },
       "data": [
        {
         "error_y": {
          "array": {
           "bdata": "AAAAAAAA+H8AAAAAAAD4fwAAAAAAAPh/AAAAAAAA+H8=",
           "dtype": "f8"
          },
          "color": "#636EFA",
          "thickness": 1.5,
          "type": "data",
          "visible": true,
          "width": 5
         },
         "hovertemplate": "%{text}<extra></extra>",
         "marker": {
          "color": "#636EFA",
          "opacity": 0.7,
          "size": 10
         },
         "mode": "markers",
         "name": "Run time - 0.13.0",
         "showlegend": true,
         "text": [
          "Forecaster: ForecasterAutoreg<br>Regressor: LGBMRegressor<br>Function: ForecasterRecursive__create_predict_inputs<br>Function_hash: 0f4a625e8b1bb7e3f0c5bb77a04cc2fb<br>Datetime: 2025-04-23 15:31:33.298997<br>Python version: 3.12.9<br>skforecast version: 0.13.0<br>numpy version: 2.2.5<br>pandas version: 2.2.3<br>sklearn version: 1.6.1<br>lightgbm version: 4.6.0<br>Platform: Linux-6.11.0-21-generic-x86_64-with-glibc2.39<br>Processor: x86_64<br>CPU count: 8<br>Memory (GB): 16.64<br>",
          "Forecaster: ForecasterAutoreg<br>Regressor: LGBMRegressor<br>Function: ForecasterRecursive__create_predict_inputs<br>Function_hash: 0f4a625e8b1bb7e3f0c5bb77a04cc2fb<br>Datetime: 2025-04-23 15:41:07.284418<br>Python version: 3.12.9<br>skforecast version: 0.13.0<br>numpy version: 2.2.5<br>pandas version: 2.2.3<br>sklearn version: 1.6.1<br>lightgbm version: 4.6.0<br>Platform: Linux-6.11.0-21-generic-x86_64-with-glibc2.39<br>Processor: x86_64<br>CPU count: 8<br>Memory (GB): 16.64<br>",
          "Forecaster: ForecasterAutoreg<br>Regressor: LGBMRegressor<br>Function: ForecasterRecursive__create_predict_inputs<br>Function_hash: 0f4a625e8b1bb7e3f0c5bb77a04cc2fb<br>Datetime: 2025-04-23 15:46:08.499926<br>Python version: 3.12.9<br>skforecast version: 0.13.0<br>numpy version: 2.2.5<br>pandas version: 2.2.3<br>sklearn version: 1.6.1<br>lightgbm version: 4.6.0<br>Platform: Linux-6.11.0-21-generic-x86_64-with-glibc2.39<br>Processor: x86_64<br>CPU count: 8<br>Memory (GB): 16.64<br>",
          "Forecaster: ForecasterAutoreg<br>Regressor: LGBMRegressor<br>Function: ForecasterRecursive__create_predict_inputs<br>Function_hash: 0f4a625e8b1bb7e3f0c5bb77a04cc2fb<br>Datetime: 2025-04-23 15:46:41.780575<br>Python version: 3.12.9<br>skforecast version: 0.13.0<br>numpy version: 2.2.5<br>pandas version: 2.2.3<br>sklearn version: 1.6.1<br>lightgbm version: 4.6.0<br>Platform: Linux-6.11.0-21-generic-x86_64-with-glibc2.39<br>Processor: x86_64<br>CPU count: 8<br>Memory (GB): 16.64<br>"
         ],
         "type": "scatter",
         "x": {
          "bdata": "fByzX9/Fir9AKClBT8iAPwyt5c8ZpoA/hj3Rm6N3pT8=",
          "dtype": "f8"
         },
         "y": {
          "bdata": "AAAAAAAA+H8AAAAAAAD4fwAAAAAAAPh/AAAAAAAA+H8=",
          "dtype": "f8"
         }
        },
        {
         "error_y": {
          "array": {
           "bdata": "0/4UtSBhRD8dC4vnXec3P8UNtcBnBj8/q1mdrNaKKD8=",
           "dtype": "f8"
          },
          "color": "#EF553B",
          "thickness": 1.5,
          "type": "data",
          "visible": true,
          "width": 5
         },
         "hovertemplate": "%{text}<extra></extra>",
         "marker": {
          "color": "#EF553B",
          "opacity": 0.7,
          "size": 10
         },
         "mode": "markers",
         "name": "Run time - 0.14.0",
         "showlegend": true,
         "text": [
          "Forecaster: ForecasterRecursive<br>Regressor: LGBMRegressor<br>Function: ForecasterRecursive__create_predict_inputs<br>Function_hash: 0f4a625e8b1bb7e3f0c5bb77a04cc2fb<br>Datetime: 2025-04-23 15:16:00.211718<br>Python version: 3.12.9<br>skforecast version: 0.14.0<br>numpy version: 2.2.5<br>pandas version: 2.2.3<br>sklearn version: 1.6.1<br>lightgbm version: 4.6.0<br>Platform: Linux-6.11.0-21-generic-x86_64-with-glibc2.39<br>Processor: x86_64<br>CPU count: 8<br>Memory (GB): 16.64<br>",
          "Forecaster: ForecasterRecursive<br>Regressor: LGBMRegressor<br>Function: ForecasterRecursive__create_predict_inputs<br>Function_hash: 0f4a625e8b1bb7e3f0c5bb77a04cc2fb<br>Datetime: 2025-04-23 15:56:54.817583<br>Python version: 3.12.9<br>skforecast version: 0.14.0<br>numpy version: 2.2.5<br>pandas version: 2.2.3<br>sklearn version: 1.6.1<br>lightgbm version: 4.6.0<br>Platform: Linux-6.11.0-21-generic-x86_64-with-glibc2.39<br>Processor: x86_64<br>CPU count: 8<br>Memory (GB): 16.64<br>",
          "Forecaster: ForecasterRecursive<br>Regressor: LGBMRegressor<br>Function: ForecasterRecursive__create_predict_inputs<br>Function_hash: 0f4a625e8b1bb7e3f0c5bb77a04cc2fb<br>Datetime: 2025-04-23 22:51:18.941892<br>Python version: 3.12.9<br>skforecast version: 0.14.0<br>numpy version: 2.2.5<br>pandas version: 2.2.3<br>sklearn version: 1.6.1<br>lightgbm version: 4.6.0<br>Platform: Linux-6.11.0-21-generic-x86_64-with-glibc2.39<br>Processor: x86_64<br>CPU count: 8<br>Memory (GB): 16.64<br>",
          "Forecaster: ForecasterRecursive<br>Regressor: LGBMRegressor<br>Function: ForecasterRecursive__create_predict_inputs<br>Function_hash: 0f4a625e8b1bb7e3f0c5bb77a04cc2fb<br>Datetime: 2025-04-23 22:17:07.765379<br>Python version: 3.12.9<br>skforecast version: 0.14.0<br>numpy version: 2.2.5<br>pandas version: 2.2.3<br>sklearn version: 1.6.1<br>lightgbm version: 4.6.0<br>Platform: Linux-6.11.0-21-generic-x86_64-with-glibc2.39<br>Processor: x86_64<br>CPU count: 8<br>Memory (GB): 16.64<br>"
         ],
         "type": "scatter",
         "x": {
          "bdata": "R887kefC7j+9ao9gHibvP3gqgQusV/A/COgJglZ28D8=",
          "dtype": "f8"
         },
         "y": {
          "bdata": "AADA/XZLbj9mZsYa8elsP83MDBzBzGo/AABA0ieLZT8=",
          "dtype": "f8"
         }
        },
        {
         "error_y": {
          "array": {
           "bdata": "xVsY+rDcNj8kTC7APBc1P42VC+fN9DM/FxpQHp6fLz8HEPAiqCkwPw==",
           "dtype": "f8"
          },
          "color": "#00CC96",
          "thickness": 1.5,
          "type": "data",
          "visible": true,
          "width": 5
         },
         "hovertemplate": "%{text}<extra></extra>",
         "marker": {
          "color": "#00CC96",
          "opacity": 0.7,
          "size": 10
         },
         "mode": "markers",
         "name": "Run time - 0.15.1",
         "showlegend": true,
         "text": [
          "Forecaster: ForecasterRecursive<br>Regressor: LGBMRegressor<br>Function: ForecasterRecursive__create_predict_inputs<br>Function_hash: 0f4a625e8b1bb7e3f0c5bb77a04cc2fb<br>Datetime: 2025-04-23 16:05:34.448297<br>Python version: 3.12.9<br>skforecast version: 0.15.1<br>numpy version: 2.2.5<br>pandas version: 2.2.3<br>sklearn version: 1.6.1<br>lightgbm version: 4.6.0<br>Platform: Linux-6.11.0-21-generic-x86_64-with-glibc2.39<br>Processor: x86_64<br>CPU count: 8<br>Memory (GB): 16.64<br>",
          "Forecaster: ForecasterRecursive<br>Regressor: LGBMRegressor<br>Function: ForecasterRecursive__create_predict_inputs<br>Function_hash: 0f4a625e8b1bb7e3f0c5bb77a04cc2fb<br>Datetime: 2025-04-23 15:12:04.344930<br>Python version: 3.12.9<br>skforecast version: 0.15.1<br>numpy version: 2.2.5<br>pandas version: 2.2.3<br>sklearn version: 1.6.1<br>lightgbm version: 4.6.0<br>Platform: Linux-6.11.0-21-generic-x86_64-with-glibc2.39<br>Processor: x86_64<br>CPU count: 8<br>Memory (GB): 16.64<br>",
          "Forecaster: ForecasterRecursive<br>Regressor: LGBMRegressor<br>Function: ForecasterRecursive__create_predict_inputs<br>Function_hash: 0f4a625e8b1bb7e3f0c5bb77a04cc2fb<br>Datetime: 2025-04-23 16:01:07.143048<br>Python version: 3.12.9<br>skforecast version: 0.15.1<br>numpy version: 2.2.5<br>pandas version: 2.2.3<br>sklearn version: 1.6.1<br>lightgbm version: 4.6.0<br>Platform: Linux-6.11.0-21-generic-x86_64-with-glibc2.39<br>Processor: x86_64<br>CPU count: 8<br>Memory (GB): 16.64<br>",
          "Forecaster: ForecasterRecursive<br>Regressor: LGBMRegressor<br>Function: ForecasterRecursive__create_predict_inputs<br>Function_hash: 0f4a625e8b1bb7e3f0c5bb77a04cc2fb<br>Datetime: 2025-04-23 22:04:09.563928<br>Python version: 3.12.9<br>skforecast version: 0.15.1<br>numpy version: 2.2.5<br>pandas version: 2.2.3<br>sklearn version: 1.6.1<br>lightgbm version: 4.6.0<br>Platform: Linux-6.11.0-21-generic-x86_64-with-glibc2.39<br>Processor: x86_64<br>CPU count: 8<br>Memory (GB): 16.64<br>",
          "Forecaster: ForecasterRecursive<br>Regressor: LGBMRegressor<br>Function: ForecasterRecursive__create_predict_inputs<br>Function_hash: 0f4a625e8b1bb7e3f0c5bb77a04cc2fb<br>Datetime: 2025-04-23 20:22:39.239676<br>Python version: 3.12.9<br>skforecast version: 0.15.1<br>numpy version: 2.2.5<br>pandas version: 2.2.3<br>sklearn version: 1.6.1<br>lightgbm version: 4.6.0<br>Platform: Linux-6.11.0-21-generic-x86_64-with-glibc2.39<br>Processor: x86_64<br>CPU count: 8<br>Memory (GB): 16.64<br>"
         ],
         "type": "scatter",
         "x": {
          "bdata": "s9pDwPj3/z/dcUayVjQAQLs51lKIUABAwFSMOCUtAED06Y867kEAQA==",
          "dtype": "f8"
         },
         "y": {
          "bdata": "mpl5Hd0/aD8zM/PVTsdlP83M7Mq3m2g/MzNzrm/VZT/NzKw3pJ5kPw==",
          "dtype": "f8"
         }
        },
        {
         "error_y": {
          "array": {
           "bdata": "fvQ795FrMT8sDH91ix4tP4DB6FfmAiw/eFPZBQq9Mj9z4UaFAacrP+XOiGIlhio/",
           "dtype": "f8"
          },
          "color": "#AB63FA",
          "thickness": 1.5,
          "type": "data",
          "visible": true,
          "width": 5
         },
         "hovertemplate": "%{text}<extra></extra>",
         "marker": {
          "color": "#AB63FA",
          "opacity": 0.7,
          "size": 10
         },
         "mode": "markers",
         "name": "Run time - 0.16.0",
         "showlegend": true,
         "text": [
          "Forecaster: ForecasterRecursive<br>Regressor: LGBMRegressor<br>Function: ForecasterRecursive__create_predict_inputs<br>Function_hash: 0f4a625e8b1bb7e3f0c5bb77a04cc2fb<br>Datetime: 2025-04-23 15:05:59.648667<br>Python version: 3.12.9<br>skforecast version: 0.16.0<br>numpy version: 2.2.5<br>pandas version: 2.2.3<br>sklearn version: 1.6.1<br>lightgbm version: 4.6.0<br>Platform: Linux-6.11.0-21-generic-x86_64-with-glibc2.39<br>Processor: x86_64<br>CPU count: 8<br>Memory (GB): 16.64<br>",
          "Forecaster: ForecasterRecursive<br>Regressor: LGBMRegressor<br>Function: ForecasterRecursive__create_predict_inputs<br>Function_hash: 0f4a625e8b1bb7e3f0c5bb77a04cc2fb<br>Datetime: 2025-04-23 20:07:38.284405<br>Python version: 3.12.9<br>skforecast version: 0.16.0<br>numpy version: 2.2.5<br>pandas version: 2.2.3<br>sklearn version: 1.6.1<br>lightgbm version: 4.6.0<br>Platform: Linux-6.11.0-21-generic-x86_64-with-glibc2.39<br>Processor: x86_64<br>CPU count: 8<br>Memory (GB): 16.64<br>",
          "Forecaster: ForecasterRecursive<br>Regressor: LGBMRegressor<br>Function: ForecasterRecursive__create_predict_inputs<br>Function_hash: 0f4a625e8b1bb7e3f0c5bb77a04cc2fb<br>Datetime: 2025-04-23 16:12:11.844217<br>Python version: 3.12.9<br>skforecast version: 0.16.0<br>numpy version: 2.2.5<br>pandas version: 2.2.3<br>sklearn version: 1.6.1<br>lightgbm version: 4.6.0<br>Platform: Linux-6.11.0-21-generic-x86_64-with-glibc2.39<br>Processor: x86_64<br>CPU count: 8<br>Memory (GB): 16.64<br>",
          "Forecaster: ForecasterRecursive<br>Regressor: LGBMRegressor<br>Function: ForecasterRecursive__create_predict_inputs<br>Function_hash: 0f4a625e8b1bb7e3f0c5bb77a04cc2fb<br>Datetime: 2025-04-23 16:08:44.063423<br>Python version: 3.12.9<br>skforecast version: 0.16.0<br>numpy version: 2.2.5<br>pandas version: 2.2.3<br>sklearn version: 1.6.1<br>lightgbm version: 4.6.0<br>Platform: Linux-6.11.0-21-generic-x86_64-with-glibc2.39<br>Processor: x86_64<br>CPU count: 8<br>Memory (GB): 16.64<br>",
          "Forecaster: ForecasterRecursive<br>Regressor: LGBMRegressor<br>Function: ForecasterRecursive__create_predict_inputs<br>Function_hash: 0f4a625e8b1bb7e3f0c5bb77a04cc2fb<br>Datetime: 2025-04-23 20:15:12.604503<br>Python version: 3.12.9<br>skforecast version: 0.16.0<br>numpy version: 2.2.5<br>pandas version: 2.2.3<br>sklearn version: 1.6.1<br>lightgbm version: 4.6.0<br>Platform: Linux-6.11.0-21-generic-x86_64-with-glibc2.39<br>Processor: x86_64<br>CPU count: 8<br>Memory (GB): 16.64<br>",
          "Forecaster: ForecasterRecursive<br>Regressor: LGBMRegressor<br>Function: ForecasterRecursive__create_predict_inputs<br>Function_hash: 0f4a625e8b1bb7e3f0c5bb77a04cc2fb<br>Datetime: 2025-04-23 22:59:16.843980<br>Python version: 3.12.9<br>skforecast version: 0.16.0<br>numpy version: 2.2.5<br>pandas version: 2.2.3<br>sklearn version: 1.6.1<br>lightgbm version: 4.6.0<br>Platform: Linux-6.11.0-21-generic-x86_64-with-glibc2.39<br>Processor: x86_64<br>CPU count: 8<br>Memory (GB): 16.64<br>"
         ],
         "type": "scatter",
         "x": {
          "bdata": "O21cSeg6CEAq4w44tEMIQELsNhCxCAhA87Jsk5y6B0AOclqACaYHQNkZK3SLTwhA",
          "dtype": "f8"
         },
         "y": {
          "bdata": "ZmZG1m22ZD8zM1OVdOZgP2ZmJisMMGQ/AACgqQ5qZD8zM3NpM9pjP2ZmZmBkMGQ/",
          "dtype": "f8"
         }
        },
        {
         "line": {
          "color": "black",
          "width": 2
         },
         "marker": {
          "color": "black",
          "size": 8
         },
         "mode": "lines+markers",
         "name": "Median (per version)",
         "type": "scatter",
         "x": {
          "bdata": "AAECAw==",
          "dtype": "i1"
         },
         "y": {
          "bdata": "AAAAAAAA+H+amWkbWdtrPzMzc65v1WU/ZmbGRTgwZD8=",
          "dtype": "f8"
         }
        }
       ],
       "layout": {
        "showlegend": true,
        "template": {
         "data": {
          "bar": [
           {
            "error_x": {
             "color": "#2a3f5f"
            },
            "error_y": {
             "color": "#2a3f5f"
            },
            "marker": {
             "line": {
              "color": "#E5ECF6",
              "width": 0.5
             },
             "pattern": {
              "fillmode": "overlay",
              "size": 10,
              "solidity": 0.2
             }
            },
            "type": "bar"
           }
          ],
          "barpolar": [
           {
            "marker": {
             "line": {
              "color": "#E5ECF6",
              "width": 0.5
             },
             "pattern": {
              "fillmode": "overlay",
              "size": 10,
              "solidity": 0.2
             }
            },
            "type": "barpolar"
           }
          ],
          "carpet": [
           {
            "aaxis": {
             "endlinecolor": "#2a3f5f",
             "gridcolor": "white",
             "linecolor": "white",
             "minorgridcolor": "white",
             "startlinecolor": "#2a3f5f"
            },
            "baxis": {
             "endlinecolor": "#2a3f5f",
             "gridcolor": "white",
             "linecolor": "white",
             "minorgridcolor": "white",
             "startlinecolor": "#2a3f5f"
            },
            "type": "carpet"
           }
          ],
          "choropleth": [
           {
            "colorbar": {
             "outlinewidth": 0,
             "ticks": ""
            },
            "type": "choropleth"
           }
          ],
          "contour": [
           {
            "colorbar": {
             "outlinewidth": 0,
             "ticks": ""
            },
            "colorscale": [
             [
              0,
              "#0d0887"
             ],
             [
              0.1111111111111111,
              "#46039f"
             ],
             [
              0.2222222222222222,
              "#7201a8"
             ],
             [
              0.3333333333333333,
              "#9c179e"
             ],
             [
              0.4444444444444444,
              "#bd3786"
             ],
             [
              0.5555555555555556,
              "#d8576b"
             ],
             [
              0.6666666666666666,
              "#ed7953"
             ],
             [
              0.7777777777777778,
              "#fb9f3a"
             ],
             [
              0.8888888888888888,
              "#fdca26"
             ],
             [
              1,
              "#f0f921"
             ]
            ],
            "type": "contour"
           }
          ],
          "contourcarpet": [
           {
            "colorbar": {
             "outlinewidth": 0,
             "ticks": ""
            },
            "type": "contourcarpet"
           }
          ],
          "heatmap": [
           {
            "colorbar": {
             "outlinewidth": 0,
             "ticks": ""
            },
            "colorscale": [
             [
              0,
              "#0d0887"
             ],
             [
              0.1111111111111111,
              "#46039f"
             ],
             [
              0.2222222222222222,
              "#7201a8"
             ],
             [
              0.3333333333333333,
              "#9c179e"
             ],
             [
              0.4444444444444444,
              "#bd3786"
             ],
             [
              0.5555555555555556,
              "#d8576b"
             ],
             [
              0.6666666666666666,
              "#ed7953"
             ],
             [
              0.7777777777777778,
              "#fb9f3a"
             ],
             [
              0.8888888888888888,
              "#fdca26"
             ],
             [
              1,
              "#f0f921"
             ]
            ],
            "type": "heatmap"
           }
          ],
          "histogram": [
           {
            "marker": {
             "pattern": {
              "fillmode": "overlay",
              "size": 10,
              "solidity": 0.2
             }
            },
            "type": "histogram"
           }
          ],
          "histogram2d": [
           {
            "colorbar": {
             "outlinewidth": 0,
             "ticks": ""
            },
            "colorscale": [
             [
              0,
              "#0d0887"
             ],
             [
              0.1111111111111111,
              "#46039f"
             ],
             [
              0.2222222222222222,
              "#7201a8"
             ],
             [
              0.3333333333333333,
              "#9c179e"
             ],
             [
              0.4444444444444444,
              "#bd3786"
             ],
             [
              0.5555555555555556,
              "#d8576b"
             ],
             [
              0.6666666666666666,
              "#ed7953"
             ],
             [
              0.7777777777777778,
              "#fb9f3a"
             ],
             [
              0.8888888888888888,
              "#fdca26"
             ],
             [
              1,
              "#f0f921"
             ]
            ],
            "type": "histogram2d"
           }
          ],
          "histogram2dcontour": [
           {
            "colorbar": {
             "outlinewidth": 0,
             "ticks": ""
            },
            "colorscale": [
             [
              0,
              "#0d0887"
             ],
             [
              0.1111111111111111,
              "#46039f"
             ],
             [
              0.2222222222222222,
              "#7201a8"
             ],
             [
              0.3333333333333333,
              "#9c179e"
             ],
             [
              0.4444444444444444,
              "#bd3786"
             ],
             [
              0.5555555555555556,
              "#d8576b"
             ],
             [
              0.6666666666666666,
              "#ed7953"
             ],
             [
              0.7777777777777778,
              "#fb9f3a"
             ],
             [
              0.8888888888888888,
              "#fdca26"
             ],
             [
              1,
              "#f0f921"
             ]
            ],
            "type": "histogram2dcontour"
           }
          ],
          "mesh3d": [
           {
            "colorbar": {
             "outlinewidth": 0,
             "ticks": ""
            },
            "type": "mesh3d"
           }
          ],
          "parcoords": [
           {
            "line": {
             "colorbar": {
              "outlinewidth": 0,
              "ticks": ""
             }
            },
            "type": "parcoords"
           }
          ],
          "pie": [
           {
            "automargin": true,
            "type": "pie"
           }
          ],
          "scatter": [
           {
            "fillpattern": {
             "fillmode": "overlay",
             "size": 10,
             "solidity": 0.2
            },
            "type": "scatter"
           }
          ],
          "scatter3d": [
           {
            "line": {
             "colorbar": {
              "outlinewidth": 0,
              "ticks": ""
             }
            },
            "marker": {
             "colorbar": {
              "outlinewidth": 0,
              "ticks": ""
             }
            },
            "type": "scatter3d"
           }
          ],
          "scattercarpet": [
           {
            "marker": {
             "colorbar": {
              "outlinewidth": 0,
              "ticks": ""
             }
            },
            "type": "scattercarpet"
           }
          ],
          "scattergeo": [
           {
            "marker": {
             "colorbar": {
              "outlinewidth": 0,
              "ticks": ""
             }
            },
            "type": "scattergeo"
           }
          ],
          "scattergl": [
           {
            "marker": {
             "colorbar": {
              "outlinewidth": 0,
              "ticks": ""
             }
            },
            "type": "scattergl"
           }
          ],
          "scattermap": [
           {
            "marker": {
             "colorbar": {
              "outlinewidth": 0,
              "ticks": ""
             }
            },
            "type": "scattermap"
           }
          ],
          "scattermapbox": [
           {
            "marker": {
             "colorbar": {
              "outlinewidth": 0,
              "ticks": ""
             }
            },
            "type": "scattermapbox"
           }
          ],
          "scatterpolar": [
           {
            "marker": {
             "colorbar": {
              "outlinewidth": 0,
              "ticks": ""
             }
            },
            "type": "scatterpolar"
           }
          ],
          "scatterpolargl": [
           {
            "marker": {
             "colorbar": {
              "outlinewidth": 0,
              "ticks": ""
             }
            },
            "type": "scatterpolargl"
           }
          ],
          "scatterternary": [
           {
            "marker": {
             "colorbar": {
              "outlinewidth": 0,
              "ticks": ""
             }
            },
            "type": "scatterternary"
           }
          ],
          "surface": [
           {
            "colorbar": {
             "outlinewidth": 0,
             "ticks": ""
            },
            "colorscale": [
             [
              0,
              "#0d0887"
             ],
             [
              0.1111111111111111,
              "#46039f"
             ],
             [
              0.2222222222222222,
              "#7201a8"
             ],
             [
              0.3333333333333333,
              "#9c179e"
             ],
             [
              0.4444444444444444,
              "#bd3786"
             ],
             [
              0.5555555555555556,
              "#d8576b"
             ],
             [
              0.6666666666666666,
              "#ed7953"
             ],
             [
              0.7777777777777778,
              "#fb9f3a"
             ],
             [
              0.8888888888888888,
              "#fdca26"
             ],
             [
              1,
              "#f0f921"
             ]
            ],
            "type": "surface"
           }
          ],
          "table": [
           {
            "cells": {
             "fill": {
              "color": "#EBF0F8"
             },
             "line": {
              "color": "white"
             }
            },
            "header": {
             "fill": {
              "color": "#C8D4E3"
             },
             "line": {
              "color": "white"
             }
            },
            "type": "table"
           }
          ]
         },
         "layout": {
          "annotationdefaults": {
           "arrowcolor": "#2a3f5f",
           "arrowhead": 0,
           "arrowwidth": 1
          },
          "autotypenumbers": "strict",
          "coloraxis": {
           "colorbar": {
            "outlinewidth": 0,
            "ticks": ""
           }
          },
          "colorscale": {
           "diverging": [
            [
             0,
             "#8e0152"
            ],
            [
             0.1,
             "#c51b7d"
            ],
            [
             0.2,
             "#de77ae"
            ],
            [
             0.3,
             "#f1b6da"
            ],
            [
             0.4,
             "#fde0ef"
            ],
            [
             0.5,
             "#f7f7f7"
            ],
            [
             0.6,
             "#e6f5d0"
            ],
            [
             0.7,
             "#b8e186"
            ],
            [
             0.8,
             "#7fbc41"
            ],
            [
             0.9,
             "#4d9221"
            ],
            [
             1,
             "#276419"
            ]
           ],
           "sequential": [
            [
             0,
             "#0d0887"
            ],
            [
             0.1111111111111111,
             "#46039f"
            ],
            [
             0.2222222222222222,
             "#7201a8"
            ],
            [
             0.3333333333333333,
             "#9c179e"
            ],
            [
             0.4444444444444444,
             "#bd3786"
            ],
            [
             0.5555555555555556,
             "#d8576b"
            ],
            [
             0.6666666666666666,
             "#ed7953"
            ],
            [
             0.7777777777777778,
             "#fb9f3a"
            ],
            [
             0.8888888888888888,
             "#fdca26"
            ],
            [
             1,
             "#f0f921"
            ]
           ],
           "sequentialminus": [
            [
             0,
             "#0d0887"
            ],
            [
             0.1111111111111111,
             "#46039f"
            ],
            [
             0.2222222222222222,
             "#7201a8"
            ],
            [
             0.3333333333333333,
             "#9c179e"
            ],
            [
             0.4444444444444444,
             "#bd3786"
            ],
            [
             0.5555555555555556,
             "#d8576b"
            ],
            [
             0.6666666666666666,
             "#ed7953"
            ],
            [
             0.7777777777777778,
             "#fb9f3a"
            ],
            [
             0.8888888888888888,
             "#fdca26"
            ],
            [
             1,
             "#f0f921"
            ]
           ]
          },
          "colorway": [
           "#636efa",
           "#EF553B",
           "#00cc96",
           "#ab63fa",
           "#FFA15A",
           "#19d3f3",
           "#FF6692",
           "#B6E880",
           "#FF97FF",
           "#FECB52"
          ],
          "font": {
           "color": "#2a3f5f"
          },
          "geo": {
           "bgcolor": "white",
           "lakecolor": "white",
           "landcolor": "#E5ECF6",
           "showlakes": true,
           "showland": true,
           "subunitcolor": "white"
          },
          "hoverlabel": {
           "align": "left"
          },
          "hovermode": "closest",
          "mapbox": {
           "style": "light"
          },
          "paper_bgcolor": "white",
          "plot_bgcolor": "#E5ECF6",
          "polar": {
           "angularaxis": {
            "gridcolor": "white",
            "linecolor": "white",
            "ticks": ""
           },
           "bgcolor": "#E5ECF6",
           "radialaxis": {
            "gridcolor": "white",
            "linecolor": "white",
            "ticks": ""
           }
          },
          "scene": {
           "xaxis": {
            "backgroundcolor": "#E5ECF6",
            "gridcolor": "white",
            "gridwidth": 2,
            "linecolor": "white",
            "showbackground": true,
            "ticks": "",
            "zerolinecolor": "white"
           },
           "yaxis": {
            "backgroundcolor": "#E5ECF6",
            "gridcolor": "white",
            "gridwidth": 2,
            "linecolor": "white",
            "showbackground": true,
            "ticks": "",
            "zerolinecolor": "white"
           },
           "zaxis": {
            "backgroundcolor": "#E5ECF6",
            "gridcolor": "white",
            "gridwidth": 2,
            "linecolor": "white",
            "showbackground": true,
            "ticks": "",
            "zerolinecolor": "white"
           }
          },
          "shapedefaults": {
           "line": {
            "color": "#2a3f5f"
           }
          },
          "ternary": {
           "aaxis": {
            "gridcolor": "white",
            "linecolor": "white",
            "ticks": ""
           },
           "baxis": {
            "gridcolor": "white",
            "linecolor": "white",
            "ticks": ""
           },
           "bgcolor": "#E5ECF6",
           "caxis": {
            "gridcolor": "white",
            "linecolor": "white",
            "ticks": ""
           }
          },
          "title": {
           "x": 0.05
          },
          "xaxis": {
           "automargin": true,
           "gridcolor": "white",
           "linecolor": "white",
           "ticks": "",
           "title": {
            "standoff": 15
           },
           "zerolinecolor": "white",
           "zerolinewidth": 2
          },
          "yaxis": {
           "automargin": true,
           "gridcolor": "white",
           "linecolor": "white",
           "ticks": "",
           "title": {
            "standoff": 15
           },
           "zerolinecolor": "white",
           "zerolinewidth": 2
          }
         }
        },
        "title": {
         "text": "Execution time of ForecasterRecursive__create_predict_inputs"
        },
        "xaxis": {
         "tickangle": -45,
         "tickmode": "array",
         "ticktext": [
          "0.13.0",
          "0.14.0",
          "0.15.1",
          "0.16.0"
         ],
         "tickvals": [
          0,
          1,
          2,
          3
         ],
         "title": {
          "text": "skforecast version"
         }
        },
        "yaxis": {
         "title": {
          "text": "Execution time (seconds)"
         }
        }
       }
      }
     },
     "metadata": {},
     "output_type": "display_data"
    },
    {
     "data": {
      "application/vnd.microsoft.datawrangler.viewer.v0+json": {
       "columns": [
        {
         "name": "index",
         "rawType": "int64",
         "type": "integer"
        },
        {
         "name": "forecaster_name",
         "rawType": "object",
         "type": "string"
        },
        {
         "name": "regressor_name",
         "rawType": "object",
         "type": "string"
        },
        {
         "name": "function_name",
         "rawType": "object",
         "type": "string"
        },
        {
         "name": "function_hash",
         "rawType": "object",
         "type": "string"
        },
        {
         "name": "run_time_avg",
         "rawType": "float64",
         "type": "float"
        },
        {
         "name": "run_time_std_dev",
         "rawType": "float64",
         "type": "float"
        },
        {
         "name": "datetime",
         "rawType": "datetime64[ns]",
         "type": "datetime"
        },
        {
         "name": "python_version",
         "rawType": "object",
         "type": "string"
        },
        {
         "name": "skforecast_version",
         "rawType": "object",
         "type": "string"
        },
        {
         "name": "numpy_version",
         "rawType": "object",
         "type": "string"
        },
        {
         "name": "pandas_version",
         "rawType": "object",
         "type": "string"
        },
        {
         "name": "sklearn_version",
         "rawType": "object",
         "type": "string"
        },
        {
         "name": "lightgbm_version",
         "rawType": "object",
         "type": "string"
        },
        {
         "name": "platform",
         "rawType": "object",
         "type": "string"
        },
        {
         "name": "processor",
         "rawType": "object",
         "type": "string"
        },
        {
         "name": "cpu_count",
         "rawType": "int64",
         "type": "integer"
        },
        {
         "name": "memory_gb",
         "rawType": "float64",
         "type": "float"
        }
       ],
       "conversionMethod": "pd.DataFrame",
       "ref": "79fe973c-08d9-47d9-9752-e6c003c5b735",
       "rows": [
        [
         "200",
         "ForecasterRecursive",
         "LGBMRegressor",
         "ForecasterRecursive_backtesting",
         "dad167768fbdc53eca10d293c5861956",
         "0.9200415028004499",
         "0.1541156382303236",
         "2025-04-23 22:51:18.980518",
         "3.12.9",
         "0.14.0",
         "2.2.5",
         "2.2.3",
         "1.6.1",
         "4.6.0",
         "Linux-6.11.0-21-generic-x86_64-with-glibc2.39",
         "x86_64",
         "8",
         "16.64"
        ],
        [
         "215",
         "ForecasterRecursive",
         "LGBMRegressor",
         "ForecasterRecursive_backtesting",
         "dad167768fbdc53eca10d293c5861956",
         "0.8231571265998354",
         "0.04211744441797976",
         "2025-04-23 22:59:16.873858",
         "3.12.9",
         "0.16.0",
         "2.2.5",
         "2.2.3",
         "1.6.1",
         "4.6.0",
         "Linux-6.11.0-21-generic-x86_64-with-glibc2.39",
         "x86_64",
         "8",
         "16.64"
        ]
       ],
       "shape": {
        "columns": 17,
        "rows": 2
       }
      },
      "text/html": [
       "<div>\n",
       "<style scoped>\n",
       "    .dataframe tbody tr th:only-of-type {\n",
       "        vertical-align: middle;\n",
       "    }\n",
       "\n",
       "    .dataframe tbody tr th {\n",
       "        vertical-align: top;\n",
       "    }\n",
       "\n",
       "    .dataframe thead th {\n",
       "        text-align: right;\n",
       "    }\n",
       "</style>\n",
       "<table border=\"1\" class=\"dataframe\">\n",
       "  <thead>\n",
       "    <tr style=\"text-align: right;\">\n",
       "      <th></th>\n",
       "      <th>forecaster_name</th>\n",
       "      <th>regressor_name</th>\n",
       "      <th>function_name</th>\n",
       "      <th>function_hash</th>\n",
       "      <th>run_time_avg</th>\n",
       "      <th>run_time_std_dev</th>\n",
       "      <th>datetime</th>\n",
       "      <th>python_version</th>\n",
       "      <th>skforecast_version</th>\n",
       "      <th>numpy_version</th>\n",
       "      <th>pandas_version</th>\n",
       "      <th>sklearn_version</th>\n",
       "      <th>lightgbm_version</th>\n",
       "      <th>platform</th>\n",
       "      <th>processor</th>\n",
       "      <th>cpu_count</th>\n",
       "      <th>memory_gb</th>\n",
       "    </tr>\n",
       "  </thead>\n",
       "  <tbody>\n",
       "    <tr>\n",
       "      <th>200</th>\n",
       "      <td>ForecasterRecursive</td>\n",
       "      <td>LGBMRegressor</td>\n",
       "      <td>ForecasterRecursive_backtesting</td>\n",
       "      <td>dad167768fbdc53eca10d293c5861956</td>\n",
       "      <td>0.920042</td>\n",
       "      <td>0.154116</td>\n",
       "      <td>2025-04-23 22:51:18.980518</td>\n",
       "      <td>3.12.9</td>\n",
       "      <td>0.14.0</td>\n",
       "      <td>2.2.5</td>\n",
       "      <td>2.2.3</td>\n",
       "      <td>1.6.1</td>\n",
       "      <td>4.6.0</td>\n",
       "      <td>Linux-6.11.0-21-generic-x86_64-with-glibc2.39</td>\n",
       "      <td>x86_64</td>\n",
       "      <td>8</td>\n",
       "      <td>16.64</td>\n",
       "    </tr>\n",
       "    <tr>\n",
       "      <th>215</th>\n",
       "      <td>ForecasterRecursive</td>\n",
       "      <td>LGBMRegressor</td>\n",
       "      <td>ForecasterRecursive_backtesting</td>\n",
       "      <td>dad167768fbdc53eca10d293c5861956</td>\n",
       "      <td>0.823157</td>\n",
       "      <td>0.042117</td>\n",
       "      <td>2025-04-23 22:59:16.873858</td>\n",
       "      <td>3.12.9</td>\n",
       "      <td>0.16.0</td>\n",
       "      <td>2.2.5</td>\n",
       "      <td>2.2.3</td>\n",
       "      <td>1.6.1</td>\n",
       "      <td>4.6.0</td>\n",
       "      <td>Linux-6.11.0-21-generic-x86_64-with-glibc2.39</td>\n",
       "      <td>x86_64</td>\n",
       "      <td>8</td>\n",
       "      <td>16.64</td>\n",
       "    </tr>\n",
       "  </tbody>\n",
       "</table>\n",
       "</div>"
      ],
      "text/plain": [
       "         forecaster_name regressor_name                    function_name  \\\n",
       "200  ForecasterRecursive  LGBMRegressor  ForecasterRecursive_backtesting   \n",
       "215  ForecasterRecursive  LGBMRegressor  ForecasterRecursive_backtesting   \n",
       "\n",
       "                        function_hash  run_time_avg  run_time_std_dev  \\\n",
       "200  dad167768fbdc53eca10d293c5861956      0.920042          0.154116   \n",
       "215  dad167768fbdc53eca10d293c5861956      0.823157          0.042117   \n",
       "\n",
       "                      datetime python_version skforecast_version  \\\n",
       "200 2025-04-23 22:51:18.980518         3.12.9             0.14.0   \n",
       "215 2025-04-23 22:59:16.873858         3.12.9             0.16.0   \n",
       "\n",
       "    numpy_version pandas_version sklearn_version lightgbm_version  \\\n",
       "200         2.2.5          2.2.3           1.6.1            4.6.0   \n",
       "215         2.2.5          2.2.3           1.6.1            4.6.0   \n",
       "\n",
       "                                          platform processor  cpu_count  \\\n",
       "200  Linux-6.11.0-21-generic-x86_64-with-glibc2.39    x86_64          8   \n",
       "215  Linux-6.11.0-21-generic-x86_64-with-glibc2.39    x86_64          8   \n",
       "\n",
       "     memory_gb  \n",
       "200      16.64  \n",
       "215      16.64  "
      ]
     },
     "metadata": {},
     "output_type": "display_data"
    },
    {
     "data": {
      "application/vnd.plotly.v1+json": {
       "config": {
        "plotlyServerURL": "https://plot.ly"
       },
       "data": [
        {
         "error_y": {
          "array": {
           "bdata": "HC4ArQ+6wz8=",
           "dtype": "f8"
          },
          "color": "#636EFA",
          "thickness": 1.5,
          "type": "data",
          "visible": true,
          "width": 5
         },
         "hovertemplate": "%{text}<extra></extra>",
         "marker": {
          "color": "#636EFA",
          "opacity": 0.7,
          "size": 10
         },
         "mode": "markers",
         "name": "Run time - 0.14.0",
         "showlegend": true,
         "text": [
          "Forecaster: ForecasterRecursive<br>Regressor: LGBMRegressor<br>Function: ForecasterRecursive_backtesting<br>Function_hash: dad167768fbdc53eca10d293c5861956<br>Datetime: 2025-04-23 22:51:18.980518<br>Python version: 3.12.9<br>skforecast version: 0.14.0<br>numpy version: 2.2.5<br>pandas version: 2.2.3<br>sklearn version: 1.6.1<br>lightgbm version: 4.6.0<br>Platform: Linux-6.11.0-21-generic-x86_64-with-glibc2.39<br>Processor: x86_64<br>CPU count: 8<br>Memory (GB): 16.64<br>"
         ],
         "type": "scatter",
         "x": {
          "bdata": "fByzX9/Fir8=",
          "dtype": "f8"
         },
         "y": {
          "bdata": "M7Ov4Ppw7T8=",
          "dtype": "f8"
         }
        },
        {
         "error_y": {
          "array": {
           "bdata": "Z4677GqQpT8=",
           "dtype": "f8"
          },
          "color": "#EF553B",
          "thickness": 1.5,
          "type": "data",
          "visible": true,
          "width": 5
         },
         "hovertemplate": "%{text}<extra></extra>",
         "marker": {
          "color": "#EF553B",
          "opacity": 0.7,
          "size": 10
         },
         "mode": "markers",
         "name": "Run time - 0.16.0",
         "showlegend": true,
         "text": [
          "Forecaster: ForecasterRecursive<br>Regressor: LGBMRegressor<br>Function: ForecasterRecursive_backtesting<br>Function_hash: dad167768fbdc53eca10d293c5861956<br>Datetime: 2025-04-23 22:59:16.873858<br>Python version: 3.12.9<br>skforecast version: 0.16.0<br>numpy version: 2.2.5<br>pandas version: 2.2.3<br>sklearn version: 1.6.1<br>lightgbm version: 4.6.0<br>Platform: Linux-6.11.0-21-generic-x86_64-with-glibc2.39<br>Processor: x86_64<br>CPU count: 8<br>Memory (GB): 16.64<br>"
         ],
         "type": "scatter",
         "x": {
          "bdata": "UFKCnpAh8D8=",
          "dtype": "f8"
         },
         "y": {
          "bdata": "ZuZGnU1X6j8=",
          "dtype": "f8"
         }
        },
        {
         "line": {
          "color": "black",
          "width": 2
         },
         "marker": {
          "color": "black",
          "size": 8
         },
         "mode": "lines+markers",
         "name": "Median (per version)",
         "type": "scatter",
         "x": {
          "bdata": "AAE=",
          "dtype": "i1"
         },
         "y": {
          "bdata": "M7Ov4Ppw7T9m5kadTVfqPw==",
          "dtype": "f8"
         }
        }
       ],
       "layout": {
        "showlegend": true,
        "template": {
         "data": {
          "bar": [
           {
            "error_x": {
             "color": "#2a3f5f"
            },
            "error_y": {
             "color": "#2a3f5f"
            },
            "marker": {
             "line": {
              "color": "#E5ECF6",
              "width": 0.5
             },
             "pattern": {
              "fillmode": "overlay",
              "size": 10,
              "solidity": 0.2
             }
            },
            "type": "bar"
           }
          ],
          "barpolar": [
           {
            "marker": {
             "line": {
              "color": "#E5ECF6",
              "width": 0.5
             },
             "pattern": {
              "fillmode": "overlay",
              "size": 10,
              "solidity": 0.2
             }
            },
            "type": "barpolar"
           }
          ],
          "carpet": [
           {
            "aaxis": {
             "endlinecolor": "#2a3f5f",
             "gridcolor": "white",
             "linecolor": "white",
             "minorgridcolor": "white",
             "startlinecolor": "#2a3f5f"
            },
            "baxis": {
             "endlinecolor": "#2a3f5f",
             "gridcolor": "white",
             "linecolor": "white",
             "minorgridcolor": "white",
             "startlinecolor": "#2a3f5f"
            },
            "type": "carpet"
           }
          ],
          "choropleth": [
           {
            "colorbar": {
             "outlinewidth": 0,
             "ticks": ""
            },
            "type": "choropleth"
           }
          ],
          "contour": [
           {
            "colorbar": {
             "outlinewidth": 0,
             "ticks": ""
            },
            "colorscale": [
             [
              0,
              "#0d0887"
             ],
             [
              0.1111111111111111,
              "#46039f"
             ],
             [
              0.2222222222222222,
              "#7201a8"
             ],
             [
              0.3333333333333333,
              "#9c179e"
             ],
             [
              0.4444444444444444,
              "#bd3786"
             ],
             [
              0.5555555555555556,
              "#d8576b"
             ],
             [
              0.6666666666666666,
              "#ed7953"
             ],
             [
              0.7777777777777778,
              "#fb9f3a"
             ],
             [
              0.8888888888888888,
              "#fdca26"
             ],
             [
              1,
              "#f0f921"
             ]
            ],
            "type": "contour"
           }
          ],
          "contourcarpet": [
           {
            "colorbar": {
             "outlinewidth": 0,
             "ticks": ""
            },
            "type": "contourcarpet"
           }
          ],
          "heatmap": [
           {
            "colorbar": {
             "outlinewidth": 0,
             "ticks": ""
            },
            "colorscale": [
             [
              0,
              "#0d0887"
             ],
             [
              0.1111111111111111,
              "#46039f"
             ],
             [
              0.2222222222222222,
              "#7201a8"
             ],
             [
              0.3333333333333333,
              "#9c179e"
             ],
             [
              0.4444444444444444,
              "#bd3786"
             ],
             [
              0.5555555555555556,
              "#d8576b"
             ],
             [
              0.6666666666666666,
              "#ed7953"
             ],
             [
              0.7777777777777778,
              "#fb9f3a"
             ],
             [
              0.8888888888888888,
              "#fdca26"
             ],
             [
              1,
              "#f0f921"
             ]
            ],
            "type": "heatmap"
           }
          ],
          "histogram": [
           {
            "marker": {
             "pattern": {
              "fillmode": "overlay",
              "size": 10,
              "solidity": 0.2
             }
            },
            "type": "histogram"
           }
          ],
          "histogram2d": [
           {
            "colorbar": {
             "outlinewidth": 0,
             "ticks": ""
            },
            "colorscale": [
             [
              0,
              "#0d0887"
             ],
             [
              0.1111111111111111,
              "#46039f"
             ],
             [
              0.2222222222222222,
              "#7201a8"
             ],
             [
              0.3333333333333333,
              "#9c179e"
             ],
             [
              0.4444444444444444,
              "#bd3786"
             ],
             [
              0.5555555555555556,
              "#d8576b"
             ],
             [
              0.6666666666666666,
              "#ed7953"
             ],
             [
              0.7777777777777778,
              "#fb9f3a"
             ],
             [
              0.8888888888888888,
              "#fdca26"
             ],
             [
              1,
              "#f0f921"
             ]
            ],
            "type": "histogram2d"
           }
          ],
          "histogram2dcontour": [
           {
            "colorbar": {
             "outlinewidth": 0,
             "ticks": ""
            },
            "colorscale": [
             [
              0,
              "#0d0887"
             ],
             [
              0.1111111111111111,
              "#46039f"
             ],
             [
              0.2222222222222222,
              "#7201a8"
             ],
             [
              0.3333333333333333,
              "#9c179e"
             ],
             [
              0.4444444444444444,
              "#bd3786"
             ],
             [
              0.5555555555555556,
              "#d8576b"
             ],
             [
              0.6666666666666666,
              "#ed7953"
             ],
             [
              0.7777777777777778,
              "#fb9f3a"
             ],
             [
              0.8888888888888888,
              "#fdca26"
             ],
             [
              1,
              "#f0f921"
             ]
            ],
            "type": "histogram2dcontour"
           }
          ],
          "mesh3d": [
           {
            "colorbar": {
             "outlinewidth": 0,
             "ticks": ""
            },
            "type": "mesh3d"
           }
          ],
          "parcoords": [
           {
            "line": {
             "colorbar": {
              "outlinewidth": 0,
              "ticks": ""
             }
            },
            "type": "parcoords"
           }
          ],
          "pie": [
           {
            "automargin": true,
            "type": "pie"
           }
          ],
          "scatter": [
           {
            "fillpattern": {
             "fillmode": "overlay",
             "size": 10,
             "solidity": 0.2
            },
            "type": "scatter"
           }
          ],
          "scatter3d": [
           {
            "line": {
             "colorbar": {
              "outlinewidth": 0,
              "ticks": ""
             }
            },
            "marker": {
             "colorbar": {
              "outlinewidth": 0,
              "ticks": ""
             }
            },
            "type": "scatter3d"
           }
          ],
          "scattercarpet": [
           {
            "marker": {
             "colorbar": {
              "outlinewidth": 0,
              "ticks": ""
             }
            },
            "type": "scattercarpet"
           }
          ],
          "scattergeo": [
           {
            "marker": {
             "colorbar": {
              "outlinewidth": 0,
              "ticks": ""
             }
            },
            "type": "scattergeo"
           }
          ],
          "scattergl": [
           {
            "marker": {
             "colorbar": {
              "outlinewidth": 0,
              "ticks": ""
             }
            },
            "type": "scattergl"
           }
          ],
          "scattermap": [
           {
            "marker": {
             "colorbar": {
              "outlinewidth": 0,
              "ticks": ""
             }
            },
            "type": "scattermap"
           }
          ],
          "scattermapbox": [
           {
            "marker": {
             "colorbar": {
              "outlinewidth": 0,
              "ticks": ""
             }
            },
            "type": "scattermapbox"
           }
          ],
          "scatterpolar": [
           {
            "marker": {
             "colorbar": {
              "outlinewidth": 0,
              "ticks": ""
             }
            },
            "type": "scatterpolar"
           }
          ],
          "scatterpolargl": [
           {
            "marker": {
             "colorbar": {
              "outlinewidth": 0,
              "ticks": ""
             }
            },
            "type": "scatterpolargl"
           }
          ],
          "scatterternary": [
           {
            "marker": {
             "colorbar": {
              "outlinewidth": 0,
              "ticks": ""
             }
            },
            "type": "scatterternary"
           }
          ],
          "surface": [
           {
            "colorbar": {
             "outlinewidth": 0,
             "ticks": ""
            },
            "colorscale": [
             [
              0,
              "#0d0887"
             ],
             [
              0.1111111111111111,
              "#46039f"
             ],
             [
              0.2222222222222222,
              "#7201a8"
             ],
             [
              0.3333333333333333,
              "#9c179e"
             ],
             [
              0.4444444444444444,
              "#bd3786"
             ],
             [
              0.5555555555555556,
              "#d8576b"
             ],
             [
              0.6666666666666666,
              "#ed7953"
             ],
             [
              0.7777777777777778,
              "#fb9f3a"
             ],
             [
              0.8888888888888888,
              "#fdca26"
             ],
             [
              1,
              "#f0f921"
             ]
            ],
            "type": "surface"
           }
          ],
          "table": [
           {
            "cells": {
             "fill": {
              "color": "#EBF0F8"
             },
             "line": {
              "color": "white"
             }
            },
            "header": {
             "fill": {
              "color": "#C8D4E3"
             },
             "line": {
              "color": "white"
             }
            },
            "type": "table"
           }
          ]
         },
         "layout": {
          "annotationdefaults": {
           "arrowcolor": "#2a3f5f",
           "arrowhead": 0,
           "arrowwidth": 1
          },
          "autotypenumbers": "strict",
          "coloraxis": {
           "colorbar": {
            "outlinewidth": 0,
            "ticks": ""
           }
          },
          "colorscale": {
           "diverging": [
            [
             0,
             "#8e0152"
            ],
            [
             0.1,
             "#c51b7d"
            ],
            [
             0.2,
             "#de77ae"
            ],
            [
             0.3,
             "#f1b6da"
            ],
            [
             0.4,
             "#fde0ef"
            ],
            [
             0.5,
             "#f7f7f7"
            ],
            [
             0.6,
             "#e6f5d0"
            ],
            [
             0.7,
             "#b8e186"
            ],
            [
             0.8,
             "#7fbc41"
            ],
            [
             0.9,
             "#4d9221"
            ],
            [
             1,
             "#276419"
            ]
           ],
           "sequential": [
            [
             0,
             "#0d0887"
            ],
            [
             0.1111111111111111,
             "#46039f"
            ],
            [
             0.2222222222222222,
             "#7201a8"
            ],
            [
             0.3333333333333333,
             "#9c179e"
            ],
            [
             0.4444444444444444,
             "#bd3786"
            ],
            [
             0.5555555555555556,
             "#d8576b"
            ],
            [
             0.6666666666666666,
             "#ed7953"
            ],
            [
             0.7777777777777778,
             "#fb9f3a"
            ],
            [
             0.8888888888888888,
             "#fdca26"
            ],
            [
             1,
             "#f0f921"
            ]
           ],
           "sequentialminus": [
            [
             0,
             "#0d0887"
            ],
            [
             0.1111111111111111,
             "#46039f"
            ],
            [
             0.2222222222222222,
             "#7201a8"
            ],
            [
             0.3333333333333333,
             "#9c179e"
            ],
            [
             0.4444444444444444,
             "#bd3786"
            ],
            [
             0.5555555555555556,
             "#d8576b"
            ],
            [
             0.6666666666666666,
             "#ed7953"
            ],
            [
             0.7777777777777778,
             "#fb9f3a"
            ],
            [
             0.8888888888888888,
             "#fdca26"
            ],
            [
             1,
             "#f0f921"
            ]
           ]
          },
          "colorway": [
           "#636efa",
           "#EF553B",
           "#00cc96",
           "#ab63fa",
           "#FFA15A",
           "#19d3f3",
           "#FF6692",
           "#B6E880",
           "#FF97FF",
           "#FECB52"
          ],
          "font": {
           "color": "#2a3f5f"
          },
          "geo": {
           "bgcolor": "white",
           "lakecolor": "white",
           "landcolor": "#E5ECF6",
           "showlakes": true,
           "showland": true,
           "subunitcolor": "white"
          },
          "hoverlabel": {
           "align": "left"
          },
          "hovermode": "closest",
          "mapbox": {
           "style": "light"
          },
          "paper_bgcolor": "white",
          "plot_bgcolor": "#E5ECF6",
          "polar": {
           "angularaxis": {
            "gridcolor": "white",
            "linecolor": "white",
            "ticks": ""
           },
           "bgcolor": "#E5ECF6",
           "radialaxis": {
            "gridcolor": "white",
            "linecolor": "white",
            "ticks": ""
           }
          },
          "scene": {
           "xaxis": {
            "backgroundcolor": "#E5ECF6",
            "gridcolor": "white",
            "gridwidth": 2,
            "linecolor": "white",
            "showbackground": true,
            "ticks": "",
            "zerolinecolor": "white"
           },
           "yaxis": {
            "backgroundcolor": "#E5ECF6",
            "gridcolor": "white",
            "gridwidth": 2,
            "linecolor": "white",
            "showbackground": true,
            "ticks": "",
            "zerolinecolor": "white"
           },
           "zaxis": {
            "backgroundcolor": "#E5ECF6",
            "gridcolor": "white",
            "gridwidth": 2,
            "linecolor": "white",
            "showbackground": true,
            "ticks": "",
            "zerolinecolor": "white"
           }
          },
          "shapedefaults": {
           "line": {
            "color": "#2a3f5f"
           }
          },
          "ternary": {
           "aaxis": {
            "gridcolor": "white",
            "linecolor": "white",
            "ticks": ""
           },
           "baxis": {
            "gridcolor": "white",
            "linecolor": "white",
            "ticks": ""
           },
           "bgcolor": "#E5ECF6",
           "caxis": {
            "gridcolor": "white",
            "linecolor": "white",
            "ticks": ""
           }
          },
          "title": {
           "x": 0.05
          },
          "xaxis": {
           "automargin": true,
           "gridcolor": "white",
           "linecolor": "white",
           "ticks": "",
           "title": {
            "standoff": 15
           },
           "zerolinecolor": "white",
           "zerolinewidth": 2
          },
          "yaxis": {
           "automargin": true,
           "gridcolor": "white",
           "linecolor": "white",
           "ticks": "",
           "title": {
            "standoff": 15
           },
           "zerolinecolor": "white",
           "zerolinewidth": 2
          }
         }
        },
        "title": {
         "text": "Execution time of ForecasterRecursive_backtesting"
        },
        "xaxis": {
         "tickangle": -45,
         "tickmode": "array",
         "ticktext": [
          "0.14.0",
          "0.16.0"
         ],
         "tickvals": [
          0,
          1
         ],
         "title": {
          "text": "skforecast version"
         }
        },
        "yaxis": {
         "title": {
          "text": "Execution time (seconds)"
         }
        }
       }
      }
     },
     "metadata": {},
     "output_type": "display_data"
    }
   ],
   "source": [
    "# Plot results\n",
    "# ==============================================================================\n",
    "results_benchmark_all = joblib.load(\"./benchmark.joblib\")\n",
    "results_benchmark = results_benchmark_all.query(\"forecaster_name in ['ForecasterRecursive', 'ForecasterAutoreg']\").copy()\n",
    "results_benchmark = results_benchmark.query(\"regressor_name == 'LGBMRegressor'\").copy()\n",
    "for function_name in results_benchmark['function_name'].unique():\n",
    "    df = results_benchmark.query(f\"function_name == '{function_name}'\").copy()\n",
    "    display(df)\n",
    "    plot_benchmark_results(df, function_name)"
   ]
  },
  {
   "cell_type": "markdown",
   "metadata": {},
   "source": [
    "# Summary of historical results"
   ]
  },
  {
   "cell_type": "code",
   "execution_count": null,
   "metadata": {},
   "outputs": [
    {
     "data": {
      "application/vnd.plotly.v1+json": {
       "config": {
        "plotlyServerURL": "https://plot.ly"
       },
       "data": [
        {
         "alignmentgroup": "True",
         "hovertemplate": "skforecast_version=0.13.0<br>Function=%{x}<br>Median Run Time (s)=%{y}<extra></extra>",
         "legendgroup": "0.13.0",
         "marker": {
          "color": "#636efa",
          "pattern": {
           "shape": ""
          }
         },
         "name": "0.13.0",
         "offsetgroup": "0.13.0",
         "orientation": "v",
         "showlegend": true,
         "textposition": "auto",
         "type": "bar",
         "x": [
          "_check_predict_inputs",
          "_create_predict_inputs_exog_is_dict",
          "_create_train_X_y_series_is_dataframe_no_exog",
          "_create_train_X_y_series_is_dict_exog_is_dict",
          "_create_train_X_y_single_series",
          "fit_series_is_dataframe_no_exog",
          "fit_series_is_dict_exog_is_dict",
          "predict_exog_is_dict"
         ],
         "xaxis": "x",
         "y": {
          "bdata": "AAAAAAAA+H8AAAAAAAD4fwDoxC9PmwBAzQQ0zvToBEA0M7PAEcNfP2bKf73M5CZAAHbgsePfKEAajxIy7nhFQA==",
          "dtype": "f8"
         },
         "yaxis": "y"
        },
        {
         "alignmentgroup": "True",
         "hovertemplate": "skforecast_version=0.14.0<br>Function=%{x}<br>Median Run Time (s)=%{y}<extra></extra>",
         "legendgroup": "0.14.0",
         "marker": {
          "color": "#EF553B",
          "pattern": {
           "shape": ""
          }
         },
         "name": "0.14.0",
         "offsetgroup": "0.14.0",
         "orientation": "v",
         "showlegend": true,
         "textposition": "auto",
         "type": "bar",
         "x": [
          "_check_predict_inputs",
          "_create_predict_inputs_exog_is_dict",
          "_create_train_X_y_series_is_dataframe_no_exog",
          "_create_train_X_y_series_is_dict_exog_is_dict",
          "_create_train_X_y_single_series",
          "backtesting_series_is_dict_exog_is_dict",
          "fit_series_is_dataframe_no_exog",
          "fit_series_is_dict_exog_is_dict",
          "predict_exog_is_dict"
         ],
         "xaxis": "x",
         "y": {
          "bdata": "mlll38qX0z/MzJ/Jnwv5PwDQQC7lr/g/ZgbJkYcPAEBmZiabhbBYPzOffVT/8kRAZlag9XQHJUAApses45ImQM0cjROfhPs/",
          "dtype": "f8"
         },
         "yaxis": "y"
        },
        {
         "alignmentgroup": "True",
         "hovertemplate": "skforecast_version=0.15.1<br>Function=%{x}<br>Median Run Time (s)=%{y}<extra></extra>",
         "legendgroup": "0.15.1",
         "marker": {
          "color": "#00cc96",
          "pattern": {
           "shape": ""
          }
         },
         "name": "0.15.1",
         "offsetgroup": "0.15.1",
         "orientation": "v",
         "showlegend": true,
         "textposition": "auto",
         "type": "bar",
         "x": [
          "_check_predict_inputs",
          "_create_predict_inputs_exog_is_dict",
          "_create_train_X_y_series_is_dataframe_no_exog",
          "_create_train_X_y_series_is_dict_exog_is_dict",
          "_create_train_X_y_single_series",
          "backtesting_series_is_dict_exog_is_dict",
          "fit_series_is_dataframe_no_exog",
          "fit_series_is_dict_exog_is_dict",
          "predict_exog_is_dict"
         ],
         "xaxis": "x",
         "y": {
          "bdata": "MzOzDhZw0j8zE782INP4PzMT1oW8gvY/zWxdAMWw+z8AAIAZx3NWPzNLFgrohERAAEwJfftlJkBmbp+Ew5QoQJrZZT5tLvs/",
          "dtype": "f8"
         },
         "yaxis": "y"
        },
        {
         "alignmentgroup": "True",
         "hovertemplate": "skforecast_version=0.16.0<br>Function=%{x}<br>Median Run Time (s)=%{y}<extra></extra>",
         "legendgroup": "0.16.0",
         "marker": {
          "color": "#ab63fa",
          "pattern": {
           "shape": ""
          }
         },
         "name": "0.16.0",
         "offsetgroup": "0.16.0",
         "orientation": "v",
         "showlegend": true,
         "textposition": "auto",
         "type": "bar",
         "x": [
          "_check_predict_inputs",
          "_create_predict_inputs_exog_is_dict",
          "_create_train_X_y_series_is_dataframe_no_exog",
          "_create_train_X_y_series_is_dict_exog_is_dict",
          "_create_train_X_y_single_series",
          "backtesting_series_is_dataframe_no_exog",
          "backtesting_series_is_dict_exog_is_dict",
          "fit_series_is_dataframe_no_exog",
          "fit_series_is_dict_exog_is_dict",
          "predict_exog_is_dict"
         ],
         "xaxis": "x",
         "y": {
          "bdata": "AAAgVUKnsj8zs1okCDfTP82MLM/ol/M/M/MpXKSD+T+amRmkHYxXPwBoNgmK/y1AAJxc6bv6NUCaYb/+ViknQGZ209FclihAmpltIZmE3T8=",
          "dtype": "f8"
         },
         "yaxis": "y"
        }
       ],
       "layout": {
        "barmode": "group",
        "legend": {
         "title": {
          "text": "skforecast_version"
         },
         "tracegroupgap": 0
        },
        "template": {
         "data": {
          "bar": [
           {
            "error_x": {
             "color": "#2a3f5f"
            },
            "error_y": {
             "color": "#2a3f5f"
            },
            "marker": {
             "line": {
              "color": "#E5ECF6",
              "width": 0.5
             },
             "pattern": {
              "fillmode": "overlay",
              "size": 10,
              "solidity": 0.2
             }
            },
            "type": "bar"
           }
          ],
          "barpolar": [
           {
            "marker": {
             "line": {
              "color": "#E5ECF6",
              "width": 0.5
             },
             "pattern": {
              "fillmode": "overlay",
              "size": 10,
              "solidity": 0.2
             }
            },
            "type": "barpolar"
           }
          ],
          "carpet": [
           {
            "aaxis": {
             "endlinecolor": "#2a3f5f",
             "gridcolor": "white",
             "linecolor": "white",
             "minorgridcolor": "white",
             "startlinecolor": "#2a3f5f"
            },
            "baxis": {
             "endlinecolor": "#2a3f5f",
             "gridcolor": "white",
             "linecolor": "white",
             "minorgridcolor": "white",
             "startlinecolor": "#2a3f5f"
            },
            "type": "carpet"
           }
          ],
          "choropleth": [
           {
            "colorbar": {
             "outlinewidth": 0,
             "ticks": ""
            },
            "type": "choropleth"
           }
          ],
          "contour": [
           {
            "colorbar": {
             "outlinewidth": 0,
             "ticks": ""
            },
            "colorscale": [
             [
              0,
              "#0d0887"
             ],
             [
              0.1111111111111111,
              "#46039f"
             ],
             [
              0.2222222222222222,
              "#7201a8"
             ],
             [
              0.3333333333333333,
              "#9c179e"
             ],
             [
              0.4444444444444444,
              "#bd3786"
             ],
             [
              0.5555555555555556,
              "#d8576b"
             ],
             [
              0.6666666666666666,
              "#ed7953"
             ],
             [
              0.7777777777777778,
              "#fb9f3a"
             ],
             [
              0.8888888888888888,
              "#fdca26"
             ],
             [
              1,
              "#f0f921"
             ]
            ],
            "type": "contour"
           }
          ],
          "contourcarpet": [
           {
            "colorbar": {
             "outlinewidth": 0,
             "ticks": ""
            },
            "type": "contourcarpet"
           }
          ],
          "heatmap": [
           {
            "colorbar": {
             "outlinewidth": 0,
             "ticks": ""
            },
            "colorscale": [
             [
              0,
              "#0d0887"
             ],
             [
              0.1111111111111111,
              "#46039f"
             ],
             [
              0.2222222222222222,
              "#7201a8"
             ],
             [
              0.3333333333333333,
              "#9c179e"
             ],
             [
              0.4444444444444444,
              "#bd3786"
             ],
             [
              0.5555555555555556,
              "#d8576b"
             ],
             [
              0.6666666666666666,
              "#ed7953"
             ],
             [
              0.7777777777777778,
              "#fb9f3a"
             ],
             [
              0.8888888888888888,
              "#fdca26"
             ],
             [
              1,
              "#f0f921"
             ]
            ],
            "type": "heatmap"
           }
          ],
          "histogram": [
           {
            "marker": {
             "pattern": {
              "fillmode": "overlay",
              "size": 10,
              "solidity": 0.2
             }
            },
            "type": "histogram"
           }
          ],
          "histogram2d": [
           {
            "colorbar": {
             "outlinewidth": 0,
             "ticks": ""
            },
            "colorscale": [
             [
              0,
              "#0d0887"
             ],
             [
              0.1111111111111111,
              "#46039f"
             ],
             [
              0.2222222222222222,
              "#7201a8"
             ],
             [
              0.3333333333333333,
              "#9c179e"
             ],
             [
              0.4444444444444444,
              "#bd3786"
             ],
             [
              0.5555555555555556,
              "#d8576b"
             ],
             [
              0.6666666666666666,
              "#ed7953"
             ],
             [
              0.7777777777777778,
              "#fb9f3a"
             ],
             [
              0.8888888888888888,
              "#fdca26"
             ],
             [
              1,
              "#f0f921"
             ]
            ],
            "type": "histogram2d"
           }
          ],
          "histogram2dcontour": [
           {
            "colorbar": {
             "outlinewidth": 0,
             "ticks": ""
            },
            "colorscale": [
             [
              0,
              "#0d0887"
             ],
             [
              0.1111111111111111,
              "#46039f"
             ],
             [
              0.2222222222222222,
              "#7201a8"
             ],
             [
              0.3333333333333333,
              "#9c179e"
             ],
             [
              0.4444444444444444,
              "#bd3786"
             ],
             [
              0.5555555555555556,
              "#d8576b"
             ],
             [
              0.6666666666666666,
              "#ed7953"
             ],
             [
              0.7777777777777778,
              "#fb9f3a"
             ],
             [
              0.8888888888888888,
              "#fdca26"
             ],
             [
              1,
              "#f0f921"
             ]
            ],
            "type": "histogram2dcontour"
           }
          ],
          "mesh3d": [
           {
            "colorbar": {
             "outlinewidth": 0,
             "ticks": ""
            },
            "type": "mesh3d"
           }
          ],
          "parcoords": [
           {
            "line": {
             "colorbar": {
              "outlinewidth": 0,
              "ticks": ""
             }
            },
            "type": "parcoords"
           }
          ],
          "pie": [
           {
            "automargin": true,
            "type": "pie"
           }
          ],
          "scatter": [
           {
            "fillpattern": {
             "fillmode": "overlay",
             "size": 10,
             "solidity": 0.2
            },
            "type": "scatter"
           }
          ],
          "scatter3d": [
           {
            "line": {
             "colorbar": {
              "outlinewidth": 0,
              "ticks": ""
             }
            },
            "marker": {
             "colorbar": {
              "outlinewidth": 0,
              "ticks": ""
             }
            },
            "type": "scatter3d"
           }
          ],
          "scattercarpet": [
           {
            "marker": {
             "colorbar": {
              "outlinewidth": 0,
              "ticks": ""
             }
            },
            "type": "scattercarpet"
           }
          ],
          "scattergeo": [
           {
            "marker": {
             "colorbar": {
              "outlinewidth": 0,
              "ticks": ""
             }
            },
            "type": "scattergeo"
           }
          ],
          "scattergl": [
           {
            "marker": {
             "colorbar": {
              "outlinewidth": 0,
              "ticks": ""
             }
            },
            "type": "scattergl"
           }
          ],
          "scattermap": [
           {
            "marker": {
             "colorbar": {
              "outlinewidth": 0,
              "ticks": ""
             }
            },
            "type": "scattermap"
           }
          ],
          "scattermapbox": [
           {
            "marker": {
             "colorbar": {
              "outlinewidth": 0,
              "ticks": ""
             }
            },
            "type": "scattermapbox"
           }
          ],
          "scatterpolar": [
           {
            "marker": {
             "colorbar": {
              "outlinewidth": 0,
              "ticks": ""
             }
            },
            "type": "scatterpolar"
           }
          ],
          "scatterpolargl": [
           {
            "marker": {
             "colorbar": {
              "outlinewidth": 0,
              "ticks": ""
             }
            },
            "type": "scatterpolargl"
           }
          ],
          "scatterternary": [
           {
            "marker": {
             "colorbar": {
              "outlinewidth": 0,
              "ticks": ""
             }
            },
            "type": "scatterternary"
           }
          ],
          "surface": [
           {
            "colorbar": {
             "outlinewidth": 0,
             "ticks": ""
            },
            "colorscale": [
             [
              0,
              "#0d0887"
             ],
             [
              0.1111111111111111,
              "#46039f"
             ],
             [
              0.2222222222222222,
              "#7201a8"
             ],
             [
              0.3333333333333333,
              "#9c179e"
             ],
             [
              0.4444444444444444,
              "#bd3786"
             ],
             [
              0.5555555555555556,
              "#d8576b"
             ],
             [
              0.6666666666666666,
              "#ed7953"
             ],
             [
              0.7777777777777778,
              "#fb9f3a"
             ],
             [
              0.8888888888888888,
              "#fdca26"
             ],
             [
              1,
              "#f0f921"
             ]
            ],
            "type": "surface"
           }
          ],
          "table": [
           {
            "cells": {
             "fill": {
              "color": "#EBF0F8"
             },
             "line": {
              "color": "white"
             }
            },
            "header": {
             "fill": {
              "color": "#C8D4E3"
             },
             "line": {
              "color": "white"
             }
            },
            "type": "table"
           }
          ]
         },
         "layout": {
          "annotationdefaults": {
           "arrowcolor": "#2a3f5f",
           "arrowhead": 0,
           "arrowwidth": 1
          },
          "autotypenumbers": "strict",
          "coloraxis": {
           "colorbar": {
            "outlinewidth": 0,
            "ticks": ""
           }
          },
          "colorscale": {
           "diverging": [
            [
             0,
             "#8e0152"
            ],
            [
             0.1,
             "#c51b7d"
            ],
            [
             0.2,
             "#de77ae"
            ],
            [
             0.3,
             "#f1b6da"
            ],
            [
             0.4,
             "#fde0ef"
            ],
            [
             0.5,
             "#f7f7f7"
            ],
            [
             0.6,
             "#e6f5d0"
            ],
            [
             0.7,
             "#b8e186"
            ],
            [
             0.8,
             "#7fbc41"
            ],
            [
             0.9,
             "#4d9221"
            ],
            [
             1,
             "#276419"
            ]
           ],
           "sequential": [
            [
             0,
             "#0d0887"
            ],
            [
             0.1111111111111111,
             "#46039f"
            ],
            [
             0.2222222222222222,
             "#7201a8"
            ],
            [
             0.3333333333333333,
             "#9c179e"
            ],
            [
             0.4444444444444444,
             "#bd3786"
            ],
            [
             0.5555555555555556,
             "#d8576b"
            ],
            [
             0.6666666666666666,
             "#ed7953"
            ],
            [
             0.7777777777777778,
             "#fb9f3a"
            ],
            [
             0.8888888888888888,
             "#fdca26"
            ],
            [
             1,
             "#f0f921"
            ]
           ],
           "sequentialminus": [
            [
             0,
             "#0d0887"
            ],
            [
             0.1111111111111111,
             "#46039f"
            ],
            [
             0.2222222222222222,
             "#7201a8"
            ],
            [
             0.3333333333333333,
             "#9c179e"
            ],
            [
             0.4444444444444444,
             "#bd3786"
            ],
            [
             0.5555555555555556,
             "#d8576b"
            ],
            [
             0.6666666666666666,
             "#ed7953"
            ],
            [
             0.7777777777777778,
             "#fb9f3a"
            ],
            [
             0.8888888888888888,
             "#fdca26"
            ],
            [
             1,
             "#f0f921"
            ]
           ]
          },
          "colorway": [
           "#636efa",
           "#EF553B",
           "#00cc96",
           "#ab63fa",
           "#FFA15A",
           "#19d3f3",
           "#FF6692",
           "#B6E880",
           "#FF97FF",
           "#FECB52"
          ],
          "font": {
           "color": "#2a3f5f"
          },
          "geo": {
           "bgcolor": "white",
           "lakecolor": "white",
           "landcolor": "#E5ECF6",
           "showlakes": true,
           "showland": true,
           "subunitcolor": "white"
          },
          "hoverlabel": {
           "align": "left"
          },
          "hovermode": "closest",
          "mapbox": {
           "style": "light"
          },
          "paper_bgcolor": "white",
          "plot_bgcolor": "#E5ECF6",
          "polar": {
           "angularaxis": {
            "gridcolor": "white",
            "linecolor": "white",
            "ticks": ""
           },
           "bgcolor": "#E5ECF6",
           "radialaxis": {
            "gridcolor": "white",
            "linecolor": "white",
            "ticks": ""
           }
          },
          "scene": {
           "xaxis": {
            "backgroundcolor": "#E5ECF6",
            "gridcolor": "white",
            "gridwidth": 2,
            "linecolor": "white",
            "showbackground": true,
            "ticks": "",
            "zerolinecolor": "white"
           },
           "yaxis": {
            "backgroundcolor": "#E5ECF6",
            "gridcolor": "white",
            "gridwidth": 2,
            "linecolor": "white",
            "showbackground": true,
            "ticks": "",
            "zerolinecolor": "white"
           },
           "zaxis": {
            "backgroundcolor": "#E5ECF6",
            "gridcolor": "white",
            "gridwidth": 2,
            "linecolor": "white",
            "showbackground": true,
            "ticks": "",
            "zerolinecolor": "white"
           }
          },
          "shapedefaults": {
           "line": {
            "color": "#2a3f5f"
           }
          },
          "ternary": {
           "aaxis": {
            "gridcolor": "white",
            "linecolor": "white",
            "ticks": ""
           },
           "baxis": {
            "gridcolor": "white",
            "linecolor": "white",
            "ticks": ""
           },
           "bgcolor": "#E5ECF6",
           "caxis": {
            "gridcolor": "white",
            "linecolor": "white",
            "ticks": ""
           }
          },
          "title": {
           "x": 0.05
          },
          "xaxis": {
           "automargin": true,
           "gridcolor": "white",
           "linecolor": "white",
           "ticks": "",
           "title": {
            "standoff": 15
           },
           "zerolinecolor": "white",
           "zerolinewidth": 2
          },
          "yaxis": {
           "automargin": true,
           "gridcolor": "white",
           "linecolor": "white",
           "ticks": "",
           "title": {
            "standoff": 15
           },
           "zerolinecolor": "white",
           "zerolinewidth": 2
          }
         }
        },
        "title": {
         "text": "MultiSeries Forecasters - Median Run Time by Function and skforecast Version"
        },
        "xaxis": {
         "anchor": "y",
         "domain": [
          0,
          1
         ],
         "tickangle": -45,
         "title": {
          "text": "Function"
         }
        },
        "yaxis": {
         "anchor": "x",
         "domain": [
          0,
          1
         ],
         "title": {
          "text": "Median Run Time (s)"
         }
        }
       }
      }
     },
     "metadata": {},
     "output_type": "display_data"
    },
    {
     "data": {
      "application/vnd.plotly.v1+json": {
       "config": {
        "plotlyServerURL": "https://plot.ly"
       },
       "data": [
        {
         "alignmentgroup": "True",
         "hovertemplate": "skforecast_version=0.13.0<br>Function=%{x}<br>Median Run Time (s)=%{y}<extra></extra>",
         "legendgroup": "0.13.0",
         "marker": {
          "color": "#636efa",
          "pattern": {
           "shape": ""
          }
         },
         "name": "0.13.0",
         "offsetgroup": "0.13.0",
         "orientation": "v",
         "showlegend": true,
         "textposition": "auto",
         "type": "bar",
         "x": [
          "_create_predict_inputs",
          "_create_train_X_y",
          "fit",
          "predict"
         ],
         "xaxis": "x",
         "y": {
          "bdata": "AAAAAAAA+H+amVmPiNxtPzMzxyKeDM0/AABYXS1tsj8=",
          "dtype": "f8"
         },
         "yaxis": "y"
        },
        {
         "alignmentgroup": "True",
         "hovertemplate": "skforecast_version=0.14.0<br>Function=%{x}<br>Median Run Time (s)=%{y}<extra></extra>",
         "legendgroup": "0.14.0",
         "marker": {
          "color": "#EF553B",
          "pattern": {
           "shape": ""
          }
         },
         "name": "0.14.0",
         "offsetgroup": "0.14.0",
         "orientation": "v",
         "showlegend": true,
         "textposition": "auto",
         "type": "bar",
         "x": [
          "_create_predict_inputs",
          "_create_train_X_y",
          "backtesting",
          "fit",
          "predict"
         ],
         "xaxis": "x",
         "y": {
          "bdata": "mplpG1nbaz+amRlELituPzOzr+D6cO0/MzOIiQEHzj/MTP426ha0Pw==",
          "dtype": "f8"
         },
         "yaxis": "y"
        },
        {
         "alignmentgroup": "True",
         "hovertemplate": "skforecast_version=0.15.1<br>Function=%{x}<br>Median Run Time (s)=%{y}<extra></extra>",
         "legendgroup": "0.15.1",
         "marker": {
          "color": "#00cc96",
          "pattern": {
           "shape": ""
          }
         },
         "name": "0.15.1",
         "offsetgroup": "0.15.1",
         "orientation": "v",
         "showlegend": true,
         "textposition": "auto",
         "type": "bar",
         "x": [
          "_create_predict_inputs",
          "_create_train_X_y",
          "fit",
          "predict"
         ],
         "xaxis": "x",
         "y": {
          "bdata": "MzNzrm/VZT8AAMCMdpxnPwAA010hicg/ZmbUTRa5rT8=",
          "dtype": "f8"
         },
         "yaxis": "y"
        },
        {
         "alignmentgroup": "True",
         "hovertemplate": "skforecast_version=0.16.0<br>Function=%{x}<br>Median Run Time (s)=%{y}<extra></extra>",
         "legendgroup": "0.16.0",
         "marker": {
          "color": "#ab63fa",
          "pattern": {
           "shape": ""
          }
         },
         "name": "0.16.0",
         "offsetgroup": "0.16.0",
         "orientation": "v",
         "showlegend": true,
         "textposition": "auto",
         "type": "bar",
         "x": [
          "_create_predict_inputs",
          "_create_train_X_y",
          "backtesting",
          "fit",
          "predict"
         ],
         "xaxis": "x",
         "y": {
          "bdata": "ZmbGRTgwZD/NzHyW8X1tP2bmRp1NV+o/NHOhew1LzD80sxHJo0KzPw==",
          "dtype": "f8"
         },
         "yaxis": "y"
        }
       ],
       "layout": {
        "barmode": "group",
        "legend": {
         "title": {
          "text": "skforecast_version"
         },
         "tracegroupgap": 0
        },
        "template": {
         "data": {
          "bar": [
           {
            "error_x": {
             "color": "#2a3f5f"
            },
            "error_y": {
             "color": "#2a3f5f"
            },
            "marker": {
             "line": {
              "color": "#E5ECF6",
              "width": 0.5
             },
             "pattern": {
              "fillmode": "overlay",
              "size": 10,
              "solidity": 0.2
             }
            },
            "type": "bar"
           }
          ],
          "barpolar": [
           {
            "marker": {
             "line": {
              "color": "#E5ECF6",
              "width": 0.5
             },
             "pattern": {
              "fillmode": "overlay",
              "size": 10,
              "solidity": 0.2
             }
            },
            "type": "barpolar"
           }
          ],
          "carpet": [
           {
            "aaxis": {
             "endlinecolor": "#2a3f5f",
             "gridcolor": "white",
             "linecolor": "white",
             "minorgridcolor": "white",
             "startlinecolor": "#2a3f5f"
            },
            "baxis": {
             "endlinecolor": "#2a3f5f",
             "gridcolor": "white",
             "linecolor": "white",
             "minorgridcolor": "white",
             "startlinecolor": "#2a3f5f"
            },
            "type": "carpet"
           }
          ],
          "choropleth": [
           {
            "colorbar": {
             "outlinewidth": 0,
             "ticks": ""
            },
            "type": "choropleth"
           }
          ],
          "contour": [
           {
            "colorbar": {
             "outlinewidth": 0,
             "ticks": ""
            },
            "colorscale": [
             [
              0,
              "#0d0887"
             ],
             [
              0.1111111111111111,
              "#46039f"
             ],
             [
              0.2222222222222222,
              "#7201a8"
             ],
             [
              0.3333333333333333,
              "#9c179e"
             ],
             [
              0.4444444444444444,
              "#bd3786"
             ],
             [
              0.5555555555555556,
              "#d8576b"
             ],
             [
              0.6666666666666666,
              "#ed7953"
             ],
             [
              0.7777777777777778,
              "#fb9f3a"
             ],
             [
              0.8888888888888888,
              "#fdca26"
             ],
             [
              1,
              "#f0f921"
             ]
            ],
            "type": "contour"
           }
          ],
          "contourcarpet": [
           {
            "colorbar": {
             "outlinewidth": 0,
             "ticks": ""
            },
            "type": "contourcarpet"
           }
          ],
          "heatmap": [
           {
            "colorbar": {
             "outlinewidth": 0,
             "ticks": ""
            },
            "colorscale": [
             [
              0,
              "#0d0887"
             ],
             [
              0.1111111111111111,
              "#46039f"
             ],
             [
              0.2222222222222222,
              "#7201a8"
             ],
             [
              0.3333333333333333,
              "#9c179e"
             ],
             [
              0.4444444444444444,
              "#bd3786"
             ],
             [
              0.5555555555555556,
              "#d8576b"
             ],
             [
              0.6666666666666666,
              "#ed7953"
             ],
             [
              0.7777777777777778,
              "#fb9f3a"
             ],
             [
              0.8888888888888888,
              "#fdca26"
             ],
             [
              1,
              "#f0f921"
             ]
            ],
            "type": "heatmap"
           }
          ],
          "histogram": [
           {
            "marker": {
             "pattern": {
              "fillmode": "overlay",
              "size": 10,
              "solidity": 0.2
             }
            },
            "type": "histogram"
           }
          ],
          "histogram2d": [
           {
            "colorbar": {
             "outlinewidth": 0,
             "ticks": ""
            },
            "colorscale": [
             [
              0,
              "#0d0887"
             ],
             [
              0.1111111111111111,
              "#46039f"
             ],
             [
              0.2222222222222222,
              "#7201a8"
             ],
             [
              0.3333333333333333,
              "#9c179e"
             ],
             [
              0.4444444444444444,
              "#bd3786"
             ],
             [
              0.5555555555555556,
              "#d8576b"
             ],
             [
              0.6666666666666666,
              "#ed7953"
             ],
             [
              0.7777777777777778,
              "#fb9f3a"
             ],
             [
              0.8888888888888888,
              "#fdca26"
             ],
             [
              1,
              "#f0f921"
             ]
            ],
            "type": "histogram2d"
           }
          ],
          "histogram2dcontour": [
           {
            "colorbar": {
             "outlinewidth": 0,
             "ticks": ""
            },
            "colorscale": [
             [
              0,
              "#0d0887"
             ],
             [
              0.1111111111111111,
              "#46039f"
             ],
             [
              0.2222222222222222,
              "#7201a8"
             ],
             [
              0.3333333333333333,
              "#9c179e"
             ],
             [
              0.4444444444444444,
              "#bd3786"
             ],
             [
              0.5555555555555556,
              "#d8576b"
             ],
             [
              0.6666666666666666,
              "#ed7953"
             ],
             [
              0.7777777777777778,
              "#fb9f3a"
             ],
             [
              0.8888888888888888,
              "#fdca26"
             ],
             [
              1,
              "#f0f921"
             ]
            ],
            "type": "histogram2dcontour"
           }
          ],
          "mesh3d": [
           {
            "colorbar": {
             "outlinewidth": 0,
             "ticks": ""
            },
            "type": "mesh3d"
           }
          ],
          "parcoords": [
           {
            "line": {
             "colorbar": {
              "outlinewidth": 0,
              "ticks": ""
             }
            },
            "type": "parcoords"
           }
          ],
          "pie": [
           {
            "automargin": true,
            "type": "pie"
           }
          ],
          "scatter": [
           {
            "fillpattern": {
             "fillmode": "overlay",
             "size": 10,
             "solidity": 0.2
            },
            "type": "scatter"
           }
          ],
          "scatter3d": [
           {
            "line": {
             "colorbar": {
              "outlinewidth": 0,
              "ticks": ""
             }
            },
            "marker": {
             "colorbar": {
              "outlinewidth": 0,
              "ticks": ""
             }
            },
            "type": "scatter3d"
           }
          ],
          "scattercarpet": [
           {
            "marker": {
             "colorbar": {
              "outlinewidth": 0,
              "ticks": ""
             }
            },
            "type": "scattercarpet"
           }
          ],
          "scattergeo": [
           {
            "marker": {
             "colorbar": {
              "outlinewidth": 0,
              "ticks": ""
             }
            },
            "type": "scattergeo"
           }
          ],
          "scattergl": [
           {
            "marker": {
             "colorbar": {
              "outlinewidth": 0,
              "ticks": ""
             }
            },
            "type": "scattergl"
           }
          ],
          "scattermap": [
           {
            "marker": {
             "colorbar": {
              "outlinewidth": 0,
              "ticks": ""
             }
            },
            "type": "scattermap"
           }
          ],
          "scattermapbox": [
           {
            "marker": {
             "colorbar": {
              "outlinewidth": 0,
              "ticks": ""
             }
            },
            "type": "scattermapbox"
           }
          ],
          "scatterpolar": [
           {
            "marker": {
             "colorbar": {
              "outlinewidth": 0,
              "ticks": ""
             }
            },
            "type": "scatterpolar"
           }
          ],
          "scatterpolargl": [
           {
            "marker": {
             "colorbar": {
              "outlinewidth": 0,
              "ticks": ""
             }
            },
            "type": "scatterpolargl"
           }
          ],
          "scatterternary": [
           {
            "marker": {
             "colorbar": {
              "outlinewidth": 0,
              "ticks": ""
             }
            },
            "type": "scatterternary"
           }
          ],
          "surface": [
           {
            "colorbar": {
             "outlinewidth": 0,
             "ticks": ""
            },
            "colorscale": [
             [
              0,
              "#0d0887"
             ],
             [
              0.1111111111111111,
              "#46039f"
             ],
             [
              0.2222222222222222,
              "#7201a8"
             ],
             [
              0.3333333333333333,
              "#9c179e"
             ],
             [
              0.4444444444444444,
              "#bd3786"
             ],
             [
              0.5555555555555556,
              "#d8576b"
             ],
             [
              0.6666666666666666,
              "#ed7953"
             ],
             [
              0.7777777777777778,
              "#fb9f3a"
             ],
             [
              0.8888888888888888,
              "#fdca26"
             ],
             [
              1,
              "#f0f921"
             ]
            ],
            "type": "surface"
           }
          ],
          "table": [
           {
            "cells": {
             "fill": {
              "color": "#EBF0F8"
             },
             "line": {
              "color": "white"
             }
            },
            "header": {
             "fill": {
              "color": "#C8D4E3"
             },
             "line": {
              "color": "white"
             }
            },
            "type": "table"
           }
          ]
         },
         "layout": {
          "annotationdefaults": {
           "arrowcolor": "#2a3f5f",
           "arrowhead": 0,
           "arrowwidth": 1
          },
          "autotypenumbers": "strict",
          "coloraxis": {
           "colorbar": {
            "outlinewidth": 0,
            "ticks": ""
           }
          },
          "colorscale": {
           "diverging": [
            [
             0,
             "#8e0152"
            ],
            [
             0.1,
             "#c51b7d"
            ],
            [
             0.2,
             "#de77ae"
            ],
            [
             0.3,
             "#f1b6da"
            ],
            [
             0.4,
             "#fde0ef"
            ],
            [
             0.5,
             "#f7f7f7"
            ],
            [
             0.6,
             "#e6f5d0"
            ],
            [
             0.7,
             "#b8e186"
            ],
            [
             0.8,
             "#7fbc41"
            ],
            [
             0.9,
             "#4d9221"
            ],
            [
             1,
             "#276419"
            ]
           ],
           "sequential": [
            [
             0,
             "#0d0887"
            ],
            [
             0.1111111111111111,
             "#46039f"
            ],
            [
             0.2222222222222222,
             "#7201a8"
            ],
            [
             0.3333333333333333,
             "#9c179e"
            ],
            [
             0.4444444444444444,
             "#bd3786"
            ],
            [
             0.5555555555555556,
             "#d8576b"
            ],
            [
             0.6666666666666666,
             "#ed7953"
            ],
            [
             0.7777777777777778,
             "#fb9f3a"
            ],
            [
             0.8888888888888888,
             "#fdca26"
            ],
            [
             1,
             "#f0f921"
            ]
           ],
           "sequentialminus": [
            [
             0,
             "#0d0887"
            ],
            [
             0.1111111111111111,
             "#46039f"
            ],
            [
             0.2222222222222222,
             "#7201a8"
            ],
            [
             0.3333333333333333,
             "#9c179e"
            ],
            [
             0.4444444444444444,
             "#bd3786"
            ],
            [
             0.5555555555555556,
             "#d8576b"
            ],
            [
             0.6666666666666666,
             "#ed7953"
            ],
            [
             0.7777777777777778,
             "#fb9f3a"
            ],
            [
             0.8888888888888888,
             "#fdca26"
            ],
            [
             1,
             "#f0f921"
            ]
           ]
          },
          "colorway": [
           "#636efa",
           "#EF553B",
           "#00cc96",
           "#ab63fa",
           "#FFA15A",
           "#19d3f3",
           "#FF6692",
           "#B6E880",
           "#FF97FF",
           "#FECB52"
          ],
          "font": {
           "color": "#2a3f5f"
          },
          "geo": {
           "bgcolor": "white",
           "lakecolor": "white",
           "landcolor": "#E5ECF6",
           "showlakes": true,
           "showland": true,
           "subunitcolor": "white"
          },
          "hoverlabel": {
           "align": "left"
          },
          "hovermode": "closest",
          "mapbox": {
           "style": "light"
          },
          "paper_bgcolor": "white",
          "plot_bgcolor": "#E5ECF6",
          "polar": {
           "angularaxis": {
            "gridcolor": "white",
            "linecolor": "white",
            "ticks": ""
           },
           "bgcolor": "#E5ECF6",
           "radialaxis": {
            "gridcolor": "white",
            "linecolor": "white",
            "ticks": ""
           }
          },
          "scene": {
           "xaxis": {
            "backgroundcolor": "#E5ECF6",
            "gridcolor": "white",
            "gridwidth": 2,
            "linecolor": "white",
            "showbackground": true,
            "ticks": "",
            "zerolinecolor": "white"
           },
           "yaxis": {
            "backgroundcolor": "#E5ECF6",
            "gridcolor": "white",
            "gridwidth": 2,
            "linecolor": "white",
            "showbackground": true,
            "ticks": "",
            "zerolinecolor": "white"
           },
           "zaxis": {
            "backgroundcolor": "#E5ECF6",
            "gridcolor": "white",
            "gridwidth": 2,
            "linecolor": "white",
            "showbackground": true,
            "ticks": "",
            "zerolinecolor": "white"
           }
          },
          "shapedefaults": {
           "line": {
            "color": "#2a3f5f"
           }
          },
          "ternary": {
           "aaxis": {
            "gridcolor": "white",
            "linecolor": "white",
            "ticks": ""
           },
           "baxis": {
            "gridcolor": "white",
            "linecolor": "white",
            "ticks": ""
           },
           "bgcolor": "#E5ECF6",
           "caxis": {
            "gridcolor": "white",
            "linecolor": "white",
            "ticks": ""
           }
          },
          "title": {
           "x": 0.05
          },
          "xaxis": {
           "automargin": true,
           "gridcolor": "white",
           "linecolor": "white",
           "ticks": "",
           "title": {
            "standoff": 15
           },
           "zerolinecolor": "white",
           "zerolinewidth": 2
          },
          "yaxis": {
           "automargin": true,
           "gridcolor": "white",
           "linecolor": "white",
           "ticks": "",
           "title": {
            "standoff": 15
           },
           "zerolinecolor": "white",
           "zerolinewidth": 2
          }
         }
        },
        "title": {
         "text": "Single-Series Forecasters - Median Run Time by Function and skforecast Version"
        },
        "xaxis": {
         "anchor": "y",
         "domain": [
          0,
          1
         ],
         "tickangle": -45,
         "title": {
          "text": "Function"
         }
        },
        "yaxis": {
         "anchor": "x",
         "domain": [
          0,
          1
         ],
         "title": {
          "text": "Median Run Time (s)"
         }
        }
       }
      }
     },
     "metadata": {},
     "output_type": "display_data"
    }
   ],
   "source": [
    "results_benchmark_all = joblib.load(\"./benchmark.joblib\")\n",
    "results_benchmark_all['function_name'] = results_benchmark_all['function_name'].str.split('_', n=1).str[1]\n",
    "results_benchmark_all = results_benchmark_all.groupby(['forecaster_name', 'skforecast_version', 'function_name'])['run_time_avg'].agg('median').reset_index()\n",
    "results_benchmark_all = results_benchmark_all.sort_values(by=['function_name'])\n",
    "\n",
    "fig = px.bar(\n",
    "    results_benchmark_all.query(\"forecaster_name in ['ForecasterRecursiveMultiSeries', 'ForecasterAutoregMultiSeries']\"),\n",
    "    x='function_name',\n",
    "    y='run_time_avg',\n",
    "    color='skforecast_version',\n",
    "    barmode='group',\n",
    "    title='MultiSeries Forecasters - Median Run Time by Function and skforecast Version',\n",
    "    labels={'run_time_avg': 'Median Run Time (s)', 'function_name': 'Function'},\n",
    "    category_orders={'skforecast_version': sorted(results_benchmark_all['skforecast_version'].unique())}\n",
    ")\n",
    "fig.update_layout(xaxis_tickangle=-45)\n",
    "fig.show()\n",
    "\n",
    "fig = px.bar(\n",
    "    results_benchmark_all.query(\"forecaster_name in ['ForecasterRecursive', 'ForecasterAutoreg']\"),\n",
    "    x='function_name',\n",
    "    y='run_time_avg',\n",
    "    color='skforecast_version',\n",
    "    barmode='group',\n",
    "    title='Single-Series Forecasters - Median Run Time by Function and skforecast Version',\n",
    "    labels={'run_time_avg': 'Median Run Time (s)', 'function_name': 'Function'},\n",
    "    category_orders={'skforecast_version': sorted(results_benchmark_all['skforecast_version'].unique())}\n",
    ")\n",
    "fig.update_layout(xaxis_tickangle=-45)\n",
    "fig.show()\n"
   ]
  }
 ],
 "metadata": {
  "kernelspec": {
   "display_name": "skforecast_16_py12",
   "language": "python",
   "name": "python3"
  },
  "language_info": {
   "codemirror_mode": {
    "name": "ipython",
    "version": 3
   },
   "file_extension": ".py",
   "mimetype": "text/x-python",
   "name": "python",
   "nbconvert_exporter": "python",
   "pygments_lexer": "ipython3",
   "version": "3.12.9"
  },
  "orig_nbformat": 4
 },
 "nbformat": 4,
 "nbformat_minor": 2
}
