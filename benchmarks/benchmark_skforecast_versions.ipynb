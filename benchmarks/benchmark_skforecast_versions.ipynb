{
 "cells": [
  {
   "cell_type": "markdown",
   "metadata": {},
   "source": [
    "# Benchmarking skforecast\n",
    "\n",
    "This notebook benchmarks the performance (velocity) of the `skforecast` in its different versions and keeps track of the results."
   ]
  },
  {
   "cell_type": "markdown",
   "metadata": {},
   "source": [
    "**Notes**\n",
    "\n",
    "+ In version `0.15.0` the binning of residuals was introduced in multi-series forecasters. This explains the increase in the time taken to fit the model."
   ]
  },
  {
   "cell_type": "code",
   "execution_count": null,
   "metadata": {},
   "outputs": [],
   "source": [
    "%load_ext autoreload\n",
    "%autoreload 2\n",
    "import sys\n",
    "from pathlib import Path\n",
    "path = str(Path.cwd().parent)\n",
    "print(path)\n",
    "sys.path.insert(1, path)"
   ]
  },
  {
   "cell_type": "code",
   "execution_count": 2,
   "metadata": {},
   "outputs": [],
   "source": [
    "# !pip install --upgrade numpy < 2.0 && \\\n",
    "# pip install --upgrade pandas && \\\n",
    "# pip install --upgrade scikit-learn"
   ]
  },
  {
   "cell_type": "code",
   "execution_count": 3,
   "metadata": {},
   "outputs": [],
   "source": [
    "# !pip install skforecast==0.15.1\n",
    "# !pip install skforecast==0.14.0\n",
    "# !pip install skforecast==0.13.0"
   ]
  },
  {
   "cell_type": "code",
   "execution_count": 4,
   "metadata": {},
   "outputs": [],
   "source": [
    "# Libraries\n",
    "# ==============================================================================\n",
    "import numpy as np\n",
    "import pandas as pd\n",
    "import sklearn\n",
    "import joblib\n",
    "from benchmarking import BenchmarkRunner, plot_benchmark_results\n",
    "import skforecast\n",
    "import platform\n",
    "import psutil\n",
    "import plotly.express as px\n",
    "from sklearn.preprocessing import StandardScaler\n",
    "from sklearn.linear_model import LinearRegression\n",
    "from lightgbm import LGBMRegressor\n",
    "\n",
    "from skforecast.utils import *\n",
    "if skforecast.__version__ >= '0.14.0':\n",
    "    from skforecast.recursive import ForecasterRecursive, ForecasterRecursiveMultiSeries\n",
    "    from skforecast.direct import ForecasterDirect, ForecasterDirectMultiVariate\n",
    "    from skforecast.model_selection import TimeSeriesFold, backtesting_forecaster, backtesting_forecaster_multiseries\n",
    "else:\n",
    "    from skforecast.ForecasterAutoreg import ForecasterAutoreg\n",
    "    from skforecast.ForecasterAutoregMultiSeries import ForecasterAutoregMultiSeries\n",
    "    from skforecast.ForecasterAutoregDirect import ForecasterAutoregDirect\n",
    "    from skforecast.ForecasterAutoregMultiVariate import ForecasterAutoregMultiVariate\n",
    "    from skforecast.model_selection import backtesting_forecaster, backtesting_forecaster_multiseries"
   ]
  },
  {
   "cell_type": "code",
   "execution_count": 5,
   "metadata": {},
   "outputs": [
    {
     "name": "stdout",
     "output_type": "stream",
     "text": [
      "Python version: 3.12.9\n",
      "skforecast version: 0.15.1\n",
      "scikit-learn version: 1.6.1\n",
      "pandas version: 2.2.3\n",
      "numpy version: 2.2.5\n",
      "Computer network name: joaquin-HP-ProBook-440-G6\n",
      "Processor type: x86_64\n",
      "Platform type: Linux-6.11.0-24-generic-x86_64-with-glibc2.39\n",
      "Operating system: Linux\n",
      "Operating system release: 6.11.0-24-generic\n",
      "Operating system version: #24~24.04.1-Ubuntu SMP PREEMPT_DYNAMIC Tue Mar 25 20:14:34 UTC 2\n",
      "Number of physical cores: 4\n",
      "Number of logical cores: 8\n"
     ]
    }
   ],
   "source": [
    "print(f\"Python version: {platform.python_version()}\")\n",
    "print(f\"skforecast version: {skforecast.__version__}\")\n",
    "print(f\"scikit-learn version: {sklearn.__version__}\")\n",
    "print(f\"pandas version: {pd.__version__}\")\n",
    "print(f\"numpy version: {np.__version__}\")\n",
    "print(f\"Computer network name: {platform.node()}\")\n",
    "print(f\"Processor type: {platform.processor()}\")\n",
    "print(f\"Platform type: {platform.platform()}\")\n",
    "print(f\"Operating system: {platform.system()}\")\n",
    "print(f\"Operating system release: {platform.release()}\")\n",
    "print(f\"Operating system version: {platform.version()}\")\n",
    "print(f\"Number of physical cores: {psutil.cpu_count(logical=False)}\")\n",
    "print(f\"Number of logical cores: {psutil.cpu_count(logical=True)}\")"
   ]
  },
  {
   "cell_type": "code",
   "execution_count": 6,
   "metadata": {},
   "outputs": [],
   "source": [
    "import warnings\n",
    "warnings.filterwarnings(\n",
    "    \"ignore\",\n",
    "    category=FutureWarning,\n",
    "    message=\"'force_all_finite' was renamed to 'ensure_all_finite'\"\n",
    ")"
   ]
  },
  {
   "cell_type": "markdown",
   "metadata": {},
   "source": [
    "# ForecasterRecursiveMultiSeries"
   ]
  },
  {
   "cell_type": "code",
   "execution_count": 7,
   "metadata": {},
   "outputs": [],
   "source": [
    "# Mock data for benchmarking\n",
    "# ==========================================================\n",
    "n_series = 600\n",
    "len_series = 2000\n",
    "series_dict = {}\n",
    "rng = np.random.default_rng(321)\n",
    "for i in range(n_series):\n",
    "    series_dict[f'series_{i}'] = pd.Series(\n",
    "        data = rng.normal(loc=20, scale=5, size=len_series),\n",
    "        index=pd.date_range(\n",
    "            start='2010-01-01',\n",
    "            periods=len_series,\n",
    "            freq='h'\n",
    "        ),\n",
    "        name=f'series_{i}'\n",
    "    )\n",
    "series_dataframe = pd.DataFrame(series_dict, index=series_dict['series_0'].index)\n",
    "\n",
    "exog_dict = {}\n",
    "rng = np.random.default_rng(321)\n",
    "for k in series_dict.keys():\n",
    "    exog = pd.DataFrame(\n",
    "            index=series_dict[k].index\n",
    "            )\n",
    "    exog['day_of_week'] = exog.index.dayofweek\n",
    "    exog['week_of_year'] = exog.index.isocalendar().week.astype(int)\n",
    "    exog['month'] = exog.index.month\n",
    "    exog_dict[k] = exog\n",
    "\n",
    "exog_dict_prediction = {}\n",
    "for k in series_dict.keys():\n",
    "    exog = pd.DataFrame(\n",
    "            index=pd.date_range(\n",
    "                start=series_dict[k].index.max() + pd.Timedelta(hours=1),\n",
    "                periods=100,\n",
    "                freq='h'\n",
    "            )\n",
    "            )\n",
    "    exog['day_of_week'] = exog.index.dayofweek\n",
    "    exog['week_of_year'] = exog.index.isocalendar().week.astype(int)\n",
    "    exog['month'] = exog.index.month\n",
    "    exog_dict_prediction[k] = exog"
   ]
  },
  {
   "cell_type": "code",
   "execution_count": 8,
   "metadata": {},
   "outputs": [
    {
     "name": "stdout",
     "output_type": "stream",
     "text": [
      "Benchmarking function: ForecasterRecursiveMultiSeries__create_train_X_y_series_is_dict_exog_is_dict with skforecast version 0.15.1\n",
      "Benchmarking function: ForecasterRecursiveMultiSeries__create_train_X_y_series_is_dataframe_no_exog with skforecast version 0.15.1\n",
      "Benchmarking function: ForecasterRecursiveMultiSeries__create_train_X_y_series_is_dataframe_exog_dict with skforecast version 0.15.1\n",
      "Benchmarking function: ForecasterRecursiveMultiSeries__create_train_X_y_single_series with skforecast version 0.15.1\n",
      "Benchmarking function: ForecasterRecursiveMultiSeries_fit_series_is_dict_exog_is_dict with skforecast version 0.15.1\n",
      "Benchmarking function: ForecasterRecursiveMultiSeries_fit_series_is_dataframe_no_exog with skforecast version 0.15.1\n",
      "Benchmarking function: ForecasterRecursiveMultiSeries_predict_exog_is_dict with skforecast version 0.15.1\n",
      "Benchmarking function: ForecasterRecursiveMultiSeries__create_predict_inputs_exog_is_dict with skforecast version 0.15.1\n",
      "Benchmarking function: ForecasterRecursiveMultiSeries__check_predict_inputs with skforecast version 0.15.1\n",
      "Benchmarking function: ForecasterRecursiveMultiSeries_backtesting_series_is_dict_exog_is_dict with skforecast version 0.15.1\n",
      "Benchmarking function: ForecasterRecursiveMultiSeries_backtesting_series_is_dataframe_no_exog with skforecast version 0.15.1\n",
      "Benchmarking function: ForecasterRecursiveMultiSeries_backtesting_series_is_dataframe_exog_dict with skforecast version 0.15.1\n",
      "Benchmarking function: ForecasterRecursiveMultiSeries_backtesting_series_is_dataframe_exog_dict_conformal with skforecast version 0.15.1\n"
     ]
    }
   ],
   "source": [
    "# Benchmarking speed ForecasterRecursiveMultiSeries\n",
    "# ==============================================================================\n",
    "regressor = LGBMRegressor(random_state=8520, verbose=-1)\n",
    "# regressor = LinearRegression()\n",
    "if skforecast.__version__ >= '0.14.0':\n",
    "    forecaster = ForecasterRecursiveMultiSeries(\n",
    "        regressor=regressor,\n",
    "        lags=50,\n",
    "        transformer_series=StandardScaler(),\n",
    "        transformer_exog=StandardScaler(),\n",
    "        encoding=\"ordinal\"\n",
    "    )\n",
    "else:\n",
    "    forecaster = ForecasterAutoregMultiSeries(\n",
    "        regressor=regressor,\n",
    "        lags=50,\n",
    "        transformer_series=StandardScaler(),\n",
    "        transformer_exog=StandardScaler(),\n",
    "        encoding=\"ordinal\"\n",
    "    )\n",
    "\n",
    "def ForecasterRecursiveMultiSeries_fit_series_is_dict_exog_is_dict():\n",
    "    forecaster.fit(series=series_dict, exog=exog_dict)\n",
    "\n",
    "def ForecasterRecursiveMultiSeries__create_train_X_y_series_is_dict_exog_is_dict():\n",
    "    forecaster._create_train_X_y(series=series_dict, exog=exog_dict)\n",
    "\n",
    "def ForecasterRecursiveMultiSeries_fit_series_is_dataframe_no_exog():\n",
    "    forecaster.fit(series=series_dataframe)\n",
    "\n",
    "def ForecasterRecursiveMultiSeries__create_train_X_y_series_is_dataframe_no_exog():\n",
    "    forecaster._create_train_X_y(series=series_dataframe)\n",
    "\n",
    "def ForecasterRecursiveMultiSeries__create_train_X_y_series_is_dataframe_exog_dict():\n",
    "    forecaster._create_train_X_y(series=series_dataframe, exog=exog_dict)\n",
    "\n",
    "def ForecasterRecursiveMultiSeries__create_train_X_y_single_series():\n",
    "    _ = forecaster._create_train_X_y_single_series(\n",
    "            y = series_dict['series_0'],\n",
    "            exog = exog_dict['series_0'],\n",
    "            ignore_exog = False,\n",
    "        )\n",
    "\n",
    "def ForecasterRecursiveMultiSeries_predict_exog_is_dict():\n",
    "    forecaster.predict(steps=100, exog=exog_dict_prediction, suppress_warnings=True)\n",
    "\n",
    "def ForecasterRecursiveMultiSeries__create_predict_inputs_exog_is_dict():\n",
    "    _ = forecaster._create_predict_inputs(\n",
    "            steps         = 100,\n",
    "            exog         = exog_dict_prediction,\n",
    "            check_inputs = True\n",
    "        )\n",
    "\n",
    "def ForecasterRecursiveMultiSeries__check_predict_inputs():\n",
    "    check_predict_input(\n",
    "        forecaster_name  = type(forecaster).__name__,\n",
    "        steps            = 100,\n",
    "        is_fitted        = forecaster.is_fitted,\n",
    "        exog_in_         = forecaster.exog_in_,\n",
    "        index_type_      = forecaster.index_type_,\n",
    "        index_freq_      = forecaster.index_freq_,\n",
    "        window_size      = forecaster.window_size,\n",
    "        last_window      = pd.DataFrame(forecaster.last_window_),\n",
    "        exog             = exog_dict_prediction,\n",
    "        exog_type_in_    = forecaster.exog_type_in_,\n",
    "        exog_names_in_   = forecaster.exog_names_in_,\n",
    "        interval         = None,\n",
    "        levels           = forecaster.series_names_in_,\n",
    "        series_names_in_ = forecaster.series_names_in_,\n",
    "        encoding         = forecaster.encoding\n",
    "    )\n",
    "\n",
    "def ForecasterRecursiveMultiSeries_backtesting_series_is_dict_exog_is_dict():\n",
    "    if skforecast.__version__ >= '0.14.0':\n",
    "        cv = TimeSeriesFold(\n",
    "                initial_train_size=1200,\n",
    "                fixed_train_size=True,\n",
    "                steps=50,\n",
    "            )\n",
    "        _ = backtesting_forecaster_multiseries(\n",
    "                forecaster=forecaster,\n",
    "                series=series_dict,\n",
    "                exog=exog_dict,\n",
    "                cv=cv,\n",
    "                metric='mean_squared_error',\n",
    "                show_progress=False\n",
    "            )\n",
    "    else:\n",
    "        _ = backtesting_forecaster_multiseries(\n",
    "                forecaster=forecaster,\n",
    "                series=series_dict,\n",
    "                exog=exog_dict,\n",
    "                initial_train_size=1200,\n",
    "                fixed_train_size=True,\n",
    "                steps=50,\n",
    "                metric='mean_squared_error',\n",
    "                show_progress=False\n",
    "            )\n",
    "        \n",
    "def ForecasterRecursiveMultiSeries_backtesting_series_is_dataframe_no_exog():\n",
    "    if skforecast.__version__ >= '0.14.0':\n",
    "        cv = TimeSeriesFold(\n",
    "                initial_train_size=1200,\n",
    "                fixed_train_size=True,\n",
    "                steps=50,\n",
    "            )\n",
    "        _ = backtesting_forecaster_multiseries(\n",
    "                forecaster=forecaster,\n",
    "                series=series_dataframe,\n",
    "                cv=cv,\n",
    "                metric='mean_squared_error',\n",
    "                show_progress=False\n",
    "            )\n",
    "    else:\n",
    "        _ = backtesting_forecaster_multiseries(\n",
    "                forecaster=forecaster,\n",
    "                series=series_dataframe,\n",
    "                initial_train_size=1200,\n",
    "                fixed_train_size=True,\n",
    "                steps=50,\n",
    "                metric='mean_squared_error',\n",
    "                show_progress=False\n",
    "            )\n",
    "        \n",
    "def ForecasterRecursiveMultiSeries_backtesting_series_is_dataframe_exog_dict():\n",
    "    if skforecast.__version__ >= '0.14.0':\n",
    "        cv = TimeSeriesFold(\n",
    "                initial_train_size=1200,\n",
    "                fixed_train_size=True,\n",
    "                steps=50,\n",
    "            )\n",
    "        _ = backtesting_forecaster_multiseries(\n",
    "                forecaster=forecaster,\n",
    "                series=series_dataframe,\n",
    "                exog=exog_dict,\n",
    "                cv=cv,\n",
    "                metric='mean_squared_error',\n",
    "                show_progress=False\n",
    "            )\n",
    "    else:\n",
    "        _ = backtesting_forecaster_multiseries(\n",
    "                forecaster=forecaster,\n",
    "                series=series_dataframe,\n",
    "                exog=exog_dict,\n",
    "                initial_train_size=1200,\n",
    "                fixed_train_size=True,\n",
    "                steps=50,\n",
    "                metric='mean_squared_error',\n",
    "                show_progress=False\n",
    "            )\n",
    "        \n",
    "def ForecasterRecursiveMultiSeries_backtesting_series_is_dataframe_exog_dict_conformal():\n",
    "    if skforecast.__version__ >= '0.14.0':\n",
    "        cv = TimeSeriesFold(\n",
    "                initial_train_size=1200,\n",
    "                fixed_train_size=True,\n",
    "                steps=50,\n",
    "            )\n",
    "        _ = backtesting_forecaster_multiseries(\n",
    "                forecaster=forecaster,\n",
    "                series=series_dataframe,\n",
    "                exog=exog_dict,\n",
    "                cv=cv,\n",
    "                interval=[5, 95],\n",
    "                interval_method='conformal',\n",
    "                metric='mean_squared_error',\n",
    "                show_progress=False\n",
    "            )\n",
    "    else:\n",
    "        _ = backtesting_forecaster_multiseries(\n",
    "                forecaster=forecaster,\n",
    "                series=series_dataframe,\n",
    "                exog=exog_dict,\n",
    "                initial_train_size=1200,\n",
    "                fixed_train_size=True,\n",
    "                steps=50,\n",
    "                interval=[5, 95],\n",
    "                interval_method='conformal',\n",
    "                metric='mean_squared_error',\n",
    "                show_progress=False\n",
    "            )\n",
    "\n",
    "\n",
    "runner = BenchmarkRunner(repeat=10, output_dir=\"./\")\n",
    "_ = runner.benchmark(ForecasterRecursiveMultiSeries__create_train_X_y_series_is_dict_exog_is_dict, forecaster=forecaster)\n",
    "_ = runner.benchmark(ForecasterRecursiveMultiSeries__create_train_X_y_series_is_dataframe_no_exog, forecaster=forecaster)\n",
    "_ = runner.benchmark(ForecasterRecursiveMultiSeries__create_train_X_y_series_is_dataframe_exog_dict, forecaster=forecaster)\n",
    "_ = runner.benchmark(ForecasterRecursiveMultiSeries__create_train_X_y_single_series, forecaster=forecaster)\n",
    "\n",
    "runner = BenchmarkRunner(repeat=5, output_dir=\"./\")\n",
    "_ = runner.benchmark(ForecasterRecursiveMultiSeries_fit_series_is_dict_exog_is_dict, forecaster=forecaster)\n",
    "_ = runner.benchmark(ForecasterRecursiveMultiSeries_fit_series_is_dataframe_no_exog, forecaster=forecaster)\n",
    "\n",
    "forecaster.fit(series=series_dict, exog=exog_dict)\n",
    "runner = BenchmarkRunner(repeat=10, output_dir=\"./\")\n",
    "_ = runner.benchmark(ForecasterRecursiveMultiSeries_predict_exog_is_dict, forecaster=forecaster)\n",
    "_ = runner.benchmark(ForecasterRecursiveMultiSeries__create_predict_inputs_exog_is_dict, forecaster=forecaster)\n",
    "_ = runner.benchmark(ForecasterRecursiveMultiSeries__check_predict_inputs, forecaster=forecaster)\n",
    "\n",
    "runner = BenchmarkRunner(repeat=5, output_dir=\"./\")\n",
    "_ = runner.benchmark(ForecasterRecursiveMultiSeries_backtesting_series_is_dict_exog_is_dict, forecaster=forecaster)\n",
    "_ = runner.benchmark(ForecasterRecursiveMultiSeries_backtesting_series_is_dataframe_no_exog, forecaster=forecaster)\n",
    "_ = runner.benchmark(ForecasterRecursiveMultiSeries_backtesting_series_is_dataframe_exog_dict, forecaster=forecaster)\n",
    "_ = runner.benchmark(ForecasterRecursiveMultiSeries_backtesting_series_is_dataframe_exog_dict_conformal, forecaster=forecaster)"
   ]
  },
  {
   "cell_type": "code",
   "execution_count": 14,
   "metadata": {},
   "outputs": [
    {
     "data": {
      "application/vnd.plotly.v1+json": {
       "config": {
        "plotlyServerURL": "https://plot.ly"
       },
       "data": [
        {
         "error_y": {
          "array": {
           "bdata": "aZW3fBNbvD+usN94F+itPw==",
           "dtype": "f8"
          },
          "color": "#636EFA",
          "thickness": 1.5,
          "type": "data",
          "visible": true,
          "width": 5
         },
         "hovertemplate": "%{text}<extra></extra>",
         "marker": {
          "color": "#636EFA",
          "opacity": 0.7,
          "size": 10
         },
         "mode": "markers",
         "name": "Run time - 0.14.0",
         "showlegend": true,
         "text": [
          "Forecaster: ForecasterRecursiveMultiSeries<br>Regressor: LGBMRegressor<br>Function: ForecasterRecursiveMultiSeries_fit_series_is_dict_exog_is_dict<br>Function_hash: 63b606a379874ae9f340ba4fe592d695<br>Datetime: 2025-04-24 10:40:25.109072<br>Python version: 3.11.10<br>skforecast version: 0.14.0<br>numpy version: 2.1.3<br>pandas version: 2.2.3<br>sklearn version: 1.6.1<br>lightgbm version: 4.5.0<br>Platform: Windows-10-10.0.19045-SP0<br>Processor: Intel64 Family 6 Model 141 Stepping 1, GenuineIntel<br>CPU count: 16<br>Memory (GB): 34.07<br>",
          "Forecaster: ForecasterRecursiveMultiSeries<br>Regressor: LGBMRegressor<br>Function: ForecasterRecursiveMultiSeries_fit_series_is_dict_exog_is_dict<br>Function_hash: 63b606a379874ae9f340ba4fe592d695<br>Datetime: 2025-04-24 11:07:42.003553<br>Python version: 3.11.10<br>skforecast version: 0.14.0<br>numpy version: 2.1.3<br>pandas version: 2.2.3<br>sklearn version: 1.6.1<br>lightgbm version: 4.5.0<br>Platform: Windows-10-10.0.19045-SP0<br>Processor: Intel64 Family 6 Model 141 Stepping 1, GenuineIntel<br>CPU count: 16<br>Memory (GB): 34.07<br>"
         ],
         "type": "scatter",
         "x": {
          "bdata": "fByzX9/Fir9AKClBT8iAPw==",
          "dtype": "f8"
         },
         "y": {
          "bdata": "mrnVYVwsIEAzs1UyW70aQA==",
          "dtype": "f8"
         }
        },
        {
         "error_y": {
          "array": {
           "bdata": "pU3cmE8U2j/1mEbh/DjmP73mTC++GtY/",
           "dtype": "f8"
          },
          "color": "#EF553B",
          "thickness": 1.5,
          "type": "data",
          "visible": true,
          "width": 5
         },
         "hovertemplate": "%{text}<extra></extra>",
         "marker": {
          "color": "#EF553B",
          "opacity": 0.7,
          "size": 10
         },
         "mode": "markers",
         "name": "Run time - 0.15.1",
         "showlegend": true,
         "text": [
          "Forecaster: ForecasterRecursiveMultiSeries<br>Regressor: LGBMRegressor<br>Function: ForecasterRecursiveMultiSeries_fit_series_is_dict_exog_is_dict<br>Function_hash: 63b606a379874ae9f340ba4fe592d695<br>Datetime: 2025-04-24 10:33:15.303767<br>Python version: 3.11.10<br>skforecast version: 0.15.1<br>numpy version: 2.1.3<br>pandas version: 2.2.3<br>sklearn version: 1.6.1<br>lightgbm version: 4.5.0<br>Platform: Windows-10-10.0.19045-SP0<br>Processor: Intel64 Family 6 Model 141 Stepping 1, GenuineIntel<br>CPU count: 16<br>Memory (GB): 34.07<br>",
          "Forecaster: ForecasterRecursiveMultiSeries<br>Regressor: LGBMRegressor<br>Function: ForecasterRecursiveMultiSeries_fit_series_is_dict_exog_is_dict<br>Function_hash: 63b606a379874ae9f340ba4fe592d695<br>Datetime: 2025-04-24 11:16:37.067503<br>Python version: 3.11.10<br>skforecast version: 0.15.1<br>numpy version: 2.1.3<br>pandas version: 2.2.3<br>sklearn version: 1.6.1<br>lightgbm version: 4.5.0<br>Platform: Windows-10-10.0.19045-SP0<br>Processor: Intel64 Family 6 Model 141 Stepping 1, GenuineIntel<br>CPU count: 16<br>Memory (GB): 34.07<br>",
          "Forecaster: ForecasterRecursiveMultiSeries<br>Regressor: LGBMRegressor<br>Function: ForecasterRecursiveMultiSeries_fit_series_is_dict_exog_is_dict<br>Function_hash: 63b606a379874ae9f340ba4fe592d695<br>Datetime: 2025-04-24 22:51:43.667593<br>Python version: 3.12.9<br>skforecast version: 0.15.1<br>numpy version: 2.2.5<br>pandas version: 2.2.3<br>sklearn version: 1.6.1<br>lightgbm version: 4.6.0<br>Platform: Linux-6.11.0-24-generic-x86_64-with-glibc2.39<br>Processor: x86_64<br>CPU count: 8<br>Memory (GB): 16.64<br>"
         ],
         "type": "scatter",
         "x": {
          "bdata": "WsufM0wh8D/sid4cvavwP0fPO5Hnwu4/",
          "dtype": "f8"
         },
         "y": {
          "bdata": "mtnyeUHLIEDNTAoDAQwhQJqZ4iYxpiZA",
          "dtype": "f8"
         }
        },
        {
         "error_y": {
          "array": {
           "bdata": "jispyVxpsD9MjWBfI+myP90wTOQg7dg/",
           "dtype": "f8"
          },
          "color": "#00CC96",
          "thickness": 1.5,
          "type": "data",
          "visible": true,
          "width": 5
         },
         "hovertemplate": "%{text}<extra></extra>",
         "marker": {
          "color": "#00CC96",
          "opacity": 0.7,
          "size": 10
         },
         "mode": "markers",
         "name": "Run time - 0.16.0",
         "showlegend": true,
         "text": [
          "Forecaster: ForecasterRecursiveMultiSeries<br>Regressor: LGBMRegressor<br>Function: ForecasterRecursiveMultiSeries_fit_series_is_dict_exog_is_dict<br>Function_hash: 63b606a379874ae9f340ba4fe592d695<br>Datetime: 2025-04-24 18:03:06.476568<br>Python version: 3.11.10<br>skforecast version: 0.16.0<br>numpy version: 2.2.5<br>pandas version: 2.2.3<br>sklearn version: 1.6.1<br>lightgbm version: 4.5.0<br>Platform: Windows-10-10.0.19045-SP0<br>Processor: Intel64 Family 6 Model 141 Stepping 1, GenuineIntel<br>CPU count: 16<br>Memory (GB): 34.07<br>",
          "Forecaster: ForecasterRecursiveMultiSeries<br>Regressor: LGBMRegressor<br>Function: ForecasterRecursiveMultiSeries_fit_series_is_dict_exog_is_dict<br>Function_hash: 63b606a379874ae9f340ba4fe592d695<br>Datetime: 2025-04-24 18:18:13.058177<br>Python version: 3.11.10<br>skforecast version: 0.16.0<br>numpy version: 2.2.5<br>pandas version: 2.2.3<br>sklearn version: 1.6.1<br>lightgbm version: 4.5.0<br>Platform: Windows-10-10.0.19045-SP0<br>Processor: Intel64 Family 6 Model 141 Stepping 1, GenuineIntel<br>CPU count: 16<br>Memory (GB): 34.07<br>",
          "Forecaster: ForecasterRecursiveMultiSeries<br>Regressor: LGBMRegressor<br>Function: ForecasterRecursiveMultiSeries_fit_series_is_dict_exog_is_dict<br>Function_hash: 63b606a379874ae9f340ba4fe592d695<br>Datetime: 2025-04-24 22:35:47.868959<br>Python version: 3.12.9<br>skforecast version: 0.16.0<br>numpy version: 2.2.5<br>pandas version: 2.2.3<br>sklearn version: 1.6.1<br>lightgbm version: 4.6.0<br>Platform: Linux-6.11.0-24-generic-x86_64-with-glibc2.39<br>Processor: x86_64<br>CPU count: 8<br>Memory (GB): 16.64<br>"
         ],
         "type": "scatter",
         "x": {
          "bdata": "XrVHMA+T/z88lcAF1isAQAT0BEErOwBA",
          "dtype": "f8"
         },
         "y": {
          "bdata": "ZmbWzHOnHEAAQGK+eswZQDOPRb9j3CNA",
          "dtype": "f8"
         }
        },
        {
         "line": {
          "color": "black",
          "width": 2
         },
         "marker": {
          "color": "black",
          "size": 8
         },
         "mode": "lines+markers",
         "name": "Median (per version)",
         "type": "scatter",
         "x": {
          "bdata": "AAEC",
          "dtype": "i1"
         },
         "y": {
          "bdata": "NJMA+wmLHUDNTAoDAQwhQGZm1sxzpxxA",
          "dtype": "f8"
         }
        },
        {
         "line": {
          "color": "black",
          "dash": "dash",
          "width": 2
         },
         "marker": {
          "color": "black",
          "size": 8
         },
         "mode": "lines+markers",
         "name": "Mean (per version)",
         "type": "scatter",
         "x": {
          "bdata": "AAEC",
          "dtype": "i1"
         },
         "y": {
          "bdata": "NJMA+wmLHUBVlUrhe9QiQETs6608ZB9A",
          "dtype": "f8"
         }
        }
       ],
       "layout": {
        "showlegend": true,
        "template": {
         "data": {
          "bar": [
           {
            "error_x": {
             "color": "#2a3f5f"
            },
            "error_y": {
             "color": "#2a3f5f"
            },
            "marker": {
             "line": {
              "color": "#E5ECF6",
              "width": 0.5
             },
             "pattern": {
              "fillmode": "overlay",
              "size": 10,
              "solidity": 0.2
             }
            },
            "type": "bar"
           }
          ],
          "barpolar": [
           {
            "marker": {
             "line": {
              "color": "#E5ECF6",
              "width": 0.5
             },
             "pattern": {
              "fillmode": "overlay",
              "size": 10,
              "solidity": 0.2
             }
            },
            "type": "barpolar"
           }
          ],
          "carpet": [
           {
            "aaxis": {
             "endlinecolor": "#2a3f5f",
             "gridcolor": "white",
             "linecolor": "white",
             "minorgridcolor": "white",
             "startlinecolor": "#2a3f5f"
            },
            "baxis": {
             "endlinecolor": "#2a3f5f",
             "gridcolor": "white",
             "linecolor": "white",
             "minorgridcolor": "white",
             "startlinecolor": "#2a3f5f"
            },
            "type": "carpet"
           }
          ],
          "choropleth": [
           {
            "colorbar": {
             "outlinewidth": 0,
             "ticks": ""
            },
            "type": "choropleth"
           }
          ],
          "contour": [
           {
            "colorbar": {
             "outlinewidth": 0,
             "ticks": ""
            },
            "colorscale": [
             [
              0,
              "#0d0887"
             ],
             [
              0.1111111111111111,
              "#46039f"
             ],
             [
              0.2222222222222222,
              "#7201a8"
             ],
             [
              0.3333333333333333,
              "#9c179e"
             ],
             [
              0.4444444444444444,
              "#bd3786"
             ],
             [
              0.5555555555555556,
              "#d8576b"
             ],
             [
              0.6666666666666666,
              "#ed7953"
             ],
             [
              0.7777777777777778,
              "#fb9f3a"
             ],
             [
              0.8888888888888888,
              "#fdca26"
             ],
             [
              1,
              "#f0f921"
             ]
            ],
            "type": "contour"
           }
          ],
          "contourcarpet": [
           {
            "colorbar": {
             "outlinewidth": 0,
             "ticks": ""
            },
            "type": "contourcarpet"
           }
          ],
          "heatmap": [
           {
            "colorbar": {
             "outlinewidth": 0,
             "ticks": ""
            },
            "colorscale": [
             [
              0,
              "#0d0887"
             ],
             [
              0.1111111111111111,
              "#46039f"
             ],
             [
              0.2222222222222222,
              "#7201a8"
             ],
             [
              0.3333333333333333,
              "#9c179e"
             ],
             [
              0.4444444444444444,
              "#bd3786"
             ],
             [
              0.5555555555555556,
              "#d8576b"
             ],
             [
              0.6666666666666666,
              "#ed7953"
             ],
             [
              0.7777777777777778,
              "#fb9f3a"
             ],
             [
              0.8888888888888888,
              "#fdca26"
             ],
             [
              1,
              "#f0f921"
             ]
            ],
            "type": "heatmap"
           }
          ],
          "histogram": [
           {
            "marker": {
             "pattern": {
              "fillmode": "overlay",
              "size": 10,
              "solidity": 0.2
             }
            },
            "type": "histogram"
           }
          ],
          "histogram2d": [
           {
            "colorbar": {
             "outlinewidth": 0,
             "ticks": ""
            },
            "colorscale": [
             [
              0,
              "#0d0887"
             ],
             [
              0.1111111111111111,
              "#46039f"
             ],
             [
              0.2222222222222222,
              "#7201a8"
             ],
             [
              0.3333333333333333,
              "#9c179e"
             ],
             [
              0.4444444444444444,
              "#bd3786"
             ],
             [
              0.5555555555555556,
              "#d8576b"
             ],
             [
              0.6666666666666666,
              "#ed7953"
             ],
             [
              0.7777777777777778,
              "#fb9f3a"
             ],
             [
              0.8888888888888888,
              "#fdca26"
             ],
             [
              1,
              "#f0f921"
             ]
            ],
            "type": "histogram2d"
           }
          ],
          "histogram2dcontour": [
           {
            "colorbar": {
             "outlinewidth": 0,
             "ticks": ""
            },
            "colorscale": [
             [
              0,
              "#0d0887"
             ],
             [
              0.1111111111111111,
              "#46039f"
             ],
             [
              0.2222222222222222,
              "#7201a8"
             ],
             [
              0.3333333333333333,
              "#9c179e"
             ],
             [
              0.4444444444444444,
              "#bd3786"
             ],
             [
              0.5555555555555556,
              "#d8576b"
             ],
             [
              0.6666666666666666,
              "#ed7953"
             ],
             [
              0.7777777777777778,
              "#fb9f3a"
             ],
             [
              0.8888888888888888,
              "#fdca26"
             ],
             [
              1,
              "#f0f921"
             ]
            ],
            "type": "histogram2dcontour"
           }
          ],
          "mesh3d": [
           {
            "colorbar": {
             "outlinewidth": 0,
             "ticks": ""
            },
            "type": "mesh3d"
           }
          ],
          "parcoords": [
           {
            "line": {
             "colorbar": {
              "outlinewidth": 0,
              "ticks": ""
             }
            },
            "type": "parcoords"
           }
          ],
          "pie": [
           {
            "automargin": true,
            "type": "pie"
           }
          ],
          "scatter": [
           {
            "fillpattern": {
             "fillmode": "overlay",
             "size": 10,
             "solidity": 0.2
            },
            "type": "scatter"
           }
          ],
          "scatter3d": [
           {
            "line": {
             "colorbar": {
              "outlinewidth": 0,
              "ticks": ""
             }
            },
            "marker": {
             "colorbar": {
              "outlinewidth": 0,
              "ticks": ""
             }
            },
            "type": "scatter3d"
           }
          ],
          "scattercarpet": [
           {
            "marker": {
             "colorbar": {
              "outlinewidth": 0,
              "ticks": ""
             }
            },
            "type": "scattercarpet"
           }
          ],
          "scattergeo": [
           {
            "marker": {
             "colorbar": {
              "outlinewidth": 0,
              "ticks": ""
             }
            },
            "type": "scattergeo"
           }
          ],
          "scattergl": [
           {
            "marker": {
             "colorbar": {
              "outlinewidth": 0,
              "ticks": ""
             }
            },
            "type": "scattergl"
           }
          ],
          "scattermap": [
           {
            "marker": {
             "colorbar": {
              "outlinewidth": 0,
              "ticks": ""
             }
            },
            "type": "scattermap"
           }
          ],
          "scattermapbox": [
           {
            "marker": {
             "colorbar": {
              "outlinewidth": 0,
              "ticks": ""
             }
            },
            "type": "scattermapbox"
           }
          ],
          "scatterpolar": [
           {
            "marker": {
             "colorbar": {
              "outlinewidth": 0,
              "ticks": ""
             }
            },
            "type": "scatterpolar"
           }
          ],
          "scatterpolargl": [
           {
            "marker": {
             "colorbar": {
              "outlinewidth": 0,
              "ticks": ""
             }
            },
            "type": "scatterpolargl"
           }
          ],
          "scatterternary": [
           {
            "marker": {
             "colorbar": {
              "outlinewidth": 0,
              "ticks": ""
             }
            },
            "type": "scatterternary"
           }
          ],
          "surface": [
           {
            "colorbar": {
             "outlinewidth": 0,
             "ticks": ""
            },
            "colorscale": [
             [
              0,
              "#0d0887"
             ],
             [
              0.1111111111111111,
              "#46039f"
             ],
             [
              0.2222222222222222,
              "#7201a8"
             ],
             [
              0.3333333333333333,
              "#9c179e"
             ],
             [
              0.4444444444444444,
              "#bd3786"
             ],
             [
              0.5555555555555556,
              "#d8576b"
             ],
             [
              0.6666666666666666,
              "#ed7953"
             ],
             [
              0.7777777777777778,
              "#fb9f3a"
             ],
             [
              0.8888888888888888,
              "#fdca26"
             ],
             [
              1,
              "#f0f921"
             ]
            ],
            "type": "surface"
           }
          ],
          "table": [
           {
            "cells": {
             "fill": {
              "color": "#EBF0F8"
             },
             "line": {
              "color": "white"
             }
            },
            "header": {
             "fill": {
              "color": "#C8D4E3"
             },
             "line": {
              "color": "white"
             }
            },
            "type": "table"
           }
          ]
         },
         "layout": {
          "annotationdefaults": {
           "arrowcolor": "#2a3f5f",
           "arrowhead": 0,
           "arrowwidth": 1
          },
          "autotypenumbers": "strict",
          "coloraxis": {
           "colorbar": {
            "outlinewidth": 0,
            "ticks": ""
           }
          },
          "colorscale": {
           "diverging": [
            [
             0,
             "#8e0152"
            ],
            [
             0.1,
             "#c51b7d"
            ],
            [
             0.2,
             "#de77ae"
            ],
            [
             0.3,
             "#f1b6da"
            ],
            [
             0.4,
             "#fde0ef"
            ],
            [
             0.5,
             "#f7f7f7"
            ],
            [
             0.6,
             "#e6f5d0"
            ],
            [
             0.7,
             "#b8e186"
            ],
            [
             0.8,
             "#7fbc41"
            ],
            [
             0.9,
             "#4d9221"
            ],
            [
             1,
             "#276419"
            ]
           ],
           "sequential": [
            [
             0,
             "#0d0887"
            ],
            [
             0.1111111111111111,
             "#46039f"
            ],
            [
             0.2222222222222222,
             "#7201a8"
            ],
            [
             0.3333333333333333,
             "#9c179e"
            ],
            [
             0.4444444444444444,
             "#bd3786"
            ],
            [
             0.5555555555555556,
             "#d8576b"
            ],
            [
             0.6666666666666666,
             "#ed7953"
            ],
            [
             0.7777777777777778,
             "#fb9f3a"
            ],
            [
             0.8888888888888888,
             "#fdca26"
            ],
            [
             1,
             "#f0f921"
            ]
           ],
           "sequentialminus": [
            [
             0,
             "#0d0887"
            ],
            [
             0.1111111111111111,
             "#46039f"
            ],
            [
             0.2222222222222222,
             "#7201a8"
            ],
            [
             0.3333333333333333,
             "#9c179e"
            ],
            [
             0.4444444444444444,
             "#bd3786"
            ],
            [
             0.5555555555555556,
             "#d8576b"
            ],
            [
             0.6666666666666666,
             "#ed7953"
            ],
            [
             0.7777777777777778,
             "#fb9f3a"
            ],
            [
             0.8888888888888888,
             "#fdca26"
            ],
            [
             1,
             "#f0f921"
            ]
           ]
          },
          "colorway": [
           "#636efa",
           "#EF553B",
           "#00cc96",
           "#ab63fa",
           "#FFA15A",
           "#19d3f3",
           "#FF6692",
           "#B6E880",
           "#FF97FF",
           "#FECB52"
          ],
          "font": {
           "color": "#2a3f5f"
          },
          "geo": {
           "bgcolor": "white",
           "lakecolor": "white",
           "landcolor": "#E5ECF6",
           "showlakes": true,
           "showland": true,
           "subunitcolor": "white"
          },
          "hoverlabel": {
           "align": "left"
          },
          "hovermode": "closest",
          "mapbox": {
           "style": "light"
          },
          "paper_bgcolor": "white",
          "plot_bgcolor": "#E5ECF6",
          "polar": {
           "angularaxis": {
            "gridcolor": "white",
            "linecolor": "white",
            "ticks": ""
           },
           "bgcolor": "#E5ECF6",
           "radialaxis": {
            "gridcolor": "white",
            "linecolor": "white",
            "ticks": ""
           }
          },
          "scene": {
           "xaxis": {
            "backgroundcolor": "#E5ECF6",
            "gridcolor": "white",
            "gridwidth": 2,
            "linecolor": "white",
            "showbackground": true,
            "ticks": "",
            "zerolinecolor": "white"
           },
           "yaxis": {
            "backgroundcolor": "#E5ECF6",
            "gridcolor": "white",
            "gridwidth": 2,
            "linecolor": "white",
            "showbackground": true,
            "ticks": "",
            "zerolinecolor": "white"
           },
           "zaxis": {
            "backgroundcolor": "#E5ECF6",
            "gridcolor": "white",
            "gridwidth": 2,
            "linecolor": "white",
            "showbackground": true,
            "ticks": "",
            "zerolinecolor": "white"
           }
          },
          "shapedefaults": {
           "line": {
            "color": "#2a3f5f"
           }
          },
          "ternary": {
           "aaxis": {
            "gridcolor": "white",
            "linecolor": "white",
            "ticks": ""
           },
           "baxis": {
            "gridcolor": "white",
            "linecolor": "white",
            "ticks": ""
           },
           "bgcolor": "#E5ECF6",
           "caxis": {
            "gridcolor": "white",
            "linecolor": "white",
            "ticks": ""
           }
          },
          "title": {
           "x": 0.05
          },
          "xaxis": {
           "automargin": true,
           "gridcolor": "white",
           "linecolor": "white",
           "ticks": "",
           "title": {
            "standoff": 15
           },
           "zerolinecolor": "white",
           "zerolinewidth": 2
          },
          "yaxis": {
           "automargin": true,
           "gridcolor": "white",
           "linecolor": "white",
           "ticks": "",
           "title": {
            "standoff": 15
           },
           "zerolinecolor": "white",
           "zerolinewidth": 2
          }
         }
        },
        "title": {
         "text": "Execution time of ForecasterRecursiveMultiSeries_fit_series_is_dict_exog_is_dict"
        },
        "xaxis": {
         "tickangle": -45,
         "tickmode": "array",
         "ticktext": [
          "0.14.0",
          "0.15.1",
          "0.16.0"
         ],
         "tickvals": [
          0,
          1,
          2
         ],
         "title": {
          "text": "skforecast version"
         }
        },
        "yaxis": {
         "title": {
          "text": "Execution time (seconds)"
         }
        }
       }
      }
     },
     "metadata": {},
     "output_type": "display_data"
    },
    {
     "data": {
      "application/vnd.plotly.v1+json": {
       "config": {
        "plotlyServerURL": "https://plot.ly"
       },
       "data": [
        {
         "error_y": {
          "array": {
           "bdata": "eF5Hym3DqT+eZFPPbAKcPw==",
           "dtype": "f8"
          },
          "color": "#636EFA",
          "thickness": 1.5,
          "type": "data",
          "visible": true,
          "width": 5
         },
         "hovertemplate": "%{text}<extra></extra>",
         "marker": {
          "color": "#636EFA",
          "opacity": 0.7,
          "size": 10
         },
         "mode": "markers",
         "name": "Run time - 0.14.0",
         "showlegend": true,
         "text": [
          "Forecaster: ForecasterRecursiveMultiSeries<br>Regressor: LGBMRegressor<br>Function: ForecasterRecursiveMultiSeries__create_train_X_y_series_is_dict_exog_is_dict<br>Function_hash: 583e7d25f58c2314c85ab6c385d879cc<br>Datetime: 2025-04-24 10:40:35.694818<br>Python version: 3.11.10<br>skforecast version: 0.14.0<br>numpy version: 2.1.3<br>pandas version: 2.2.3<br>sklearn version: 1.6.1<br>lightgbm version: 4.5.0<br>Platform: Windows-10-10.0.19045-SP0<br>Processor: Intel64 Family 6 Model 141 Stepping 1, GenuineIntel<br>CPU count: 16<br>Memory (GB): 34.07<br>",
          "Forecaster: ForecasterRecursiveMultiSeries<br>Regressor: LGBMRegressor<br>Function: ForecasterRecursiveMultiSeries__create_train_X_y_series_is_dict_exog_is_dict<br>Function_hash: 583e7d25f58c2314c85ab6c385d879cc<br>Datetime: 2025-04-24 11:07:51.060806<br>Python version: 3.11.10<br>skforecast version: 0.14.0<br>numpy version: 2.1.3<br>pandas version: 2.2.3<br>sklearn version: 1.6.1<br>lightgbm version: 4.5.0<br>Platform: Windows-10-10.0.19045-SP0<br>Processor: Intel64 Family 6 Model 141 Stepping 1, GenuineIntel<br>CPU count: 16<br>Memory (GB): 34.07<br>"
         ],
         "type": "scatter",
         "x": {
          "bdata": "fByzX9/Fir9AKClBT8iAPw==",
          "dtype": "f8"
         },
         "y": {
          "bdata": "zczf5I7pAEBmZofVxOf8Pw==",
          "dtype": "f8"
         }
        },
        {
         "error_y": {
          "array": {
           "bdata": "kk8RKnPbtj9oxrtXIBOqP+vLcDJ5gdI/",
           "dtype": "f8"
          },
          "color": "#EF553B",
          "thickness": 1.5,
          "type": "data",
          "visible": true,
          "width": 5
         },
         "hovertemplate": "%{text}<extra></extra>",
         "marker": {
          "color": "#EF553B",
          "opacity": 0.7,
          "size": 10
         },
         "mode": "markers",
         "name": "Run time - 0.15.1",
         "showlegend": true,
         "text": [
          "Forecaster: ForecasterRecursiveMultiSeries<br>Regressor: LGBMRegressor<br>Function: ForecasterRecursiveMultiSeries__create_train_X_y_series_is_dict_exog_is_dict<br>Function_hash: 583e7d25f58c2314c85ab6c385d879cc<br>Datetime: 2025-04-24 10:33:25.095433<br>Python version: 3.11.10<br>skforecast version: 0.15.1<br>numpy version: 2.1.3<br>pandas version: 2.2.3<br>sklearn version: 1.6.1<br>lightgbm version: 4.5.0<br>Platform: Windows-10-10.0.19045-SP0<br>Processor: Intel64 Family 6 Model 141 Stepping 1, GenuineIntel<br>CPU count: 16<br>Memory (GB): 34.07<br>",
          "Forecaster: ForecasterRecursiveMultiSeries<br>Regressor: LGBMRegressor<br>Function: ForecasterRecursiveMultiSeries__create_train_X_y_series_is_dict_exog_is_dict<br>Function_hash: 583e7d25f58c2314c85ab6c385d879cc<br>Datetime: 2025-04-24 11:16:46.862258<br>Python version: 3.11.10<br>skforecast version: 0.15.1<br>numpy version: 2.1.3<br>pandas version: 2.2.3<br>sklearn version: 1.6.1<br>lightgbm version: 4.5.0<br>Platform: Windows-10-10.0.19045-SP0<br>Processor: Intel64 Family 6 Model 141 Stepping 1, GenuineIntel<br>CPU count: 16<br>Memory (GB): 34.07<br>",
          "Forecaster: ForecasterRecursiveMultiSeries<br>Regressor: LGBMRegressor<br>Function: ForecasterRecursiveMultiSeries__create_train_X_y_series_is_dict_exog_is_dict<br>Function_hash: 583e7d25f58c2314c85ab6c385d879cc<br>Datetime: 2025-04-24 22:50:06.202848<br>Python version: 3.12.9<br>skforecast version: 0.15.1<br>numpy version: 2.2.5<br>pandas version: 2.2.3<br>sklearn version: 1.6.1<br>lightgbm version: 4.6.0<br>Platform: Linux-6.11.0-24-generic-x86_64-with-glibc2.39<br>Processor: x86_64<br>CPU count: 8<br>Memory (GB): 16.64<br>"
         ],
         "type": "scatter",
         "x": {
          "bdata": "WsufM0wh8D/sid4cvavwP0fPO5Hnwu4/",
          "dtype": "f8"
         },
         "y": {
          "bdata": "mplKOUZP/z+ameO3EUT/PwDIpjLPAwNA",
          "dtype": "f8"
         }
        },
        {
         "error_y": {
          "array": {
           "bdata": "drdUq7mGqT9PX54ZrPqvP2IUuwybzrU/",
           "dtype": "f8"
          },
          "color": "#00CC96",
          "thickness": 1.5,
          "type": "data",
          "visible": true,
          "width": 5
         },
         "hovertemplate": "%{text}<extra></extra>",
         "marker": {
          "color": "#00CC96",
          "opacity": 0.7,
          "size": 10
         },
         "mode": "markers",
         "name": "Run time - 0.16.0",
         "showlegend": true,
         "text": [
          "Forecaster: ForecasterRecursiveMultiSeries<br>Regressor: LGBMRegressor<br>Function: ForecasterRecursiveMultiSeries__create_train_X_y_series_is_dict_exog_is_dict<br>Function_hash: 583e7d25f58c2314c85ab6c385d879cc<br>Datetime: 2025-04-24 18:02:03.292269<br>Python version: 3.11.10<br>skforecast version: 0.16.0<br>numpy version: 2.2.5<br>pandas version: 2.2.3<br>sklearn version: 1.6.1<br>lightgbm version: 4.5.0<br>Platform: Windows-10-10.0.19045-SP0<br>Processor: Intel64 Family 6 Model 141 Stepping 1, GenuineIntel<br>CPU count: 16<br>Memory (GB): 34.07<br>",
          "Forecaster: ForecasterRecursiveMultiSeries<br>Regressor: LGBMRegressor<br>Function: ForecasterRecursiveMultiSeries__create_train_X_y_series_is_dict_exog_is_dict<br>Function_hash: 583e7d25f58c2314c85ab6c385d879cc<br>Datetime: 2025-04-24 18:17:17.012633<br>Python version: 3.11.10<br>skforecast version: 0.16.0<br>numpy version: 2.2.5<br>pandas version: 2.2.3<br>sklearn version: 1.6.1<br>lightgbm version: 4.5.0<br>Platform: Windows-10-10.0.19045-SP0<br>Processor: Intel64 Family 6 Model 141 Stepping 1, GenuineIntel<br>CPU count: 16<br>Memory (GB): 34.07<br>",
          "Forecaster: ForecasterRecursiveMultiSeries<br>Regressor: LGBMRegressor<br>Function: ForecasterRecursiveMultiSeries__create_train_X_y_series_is_dict_exog_is_dict<br>Function_hash: 583e7d25f58c2314c85ab6c385d879cc<br>Datetime: 2025-04-24 22:34:33.698161<br>Python version: 3.12.9<br>skforecast version: 0.16.0<br>numpy version: 2.2.5<br>pandas version: 2.2.3<br>sklearn version: 1.6.1<br>lightgbm version: 4.6.0<br>Platform: Linux-6.11.0-24-generic-x86_64-with-glibc2.39<br>Processor: x86_64<br>CPU count: 8<br>Memory (GB): 16.64<br>"
         ],
         "type": "scatter",
         "x": {
          "bdata": "XrVHMA+T/z88lcAF1isAQAT0BEErOwBA",
          "dtype": "f8"
         },
         "y": {
          "bdata": "M7OkJeJP+j8zM7Cyz5b2PwDwNuuI5vY/",
          "dtype": "f8"
         }
        },
        {
         "line": {
          "color": "black",
          "width": 2
         },
         "marker": {
          "color": "black",
          "size": 8
         },
         "mode": "lines+markers",
         "name": "Median (per version)",
         "type": "scatter",
         "x": {
          "bdata": "AAEC",
          "dtype": "i1"
         },
         "y": {
          "bdata": "AICjT3Fd/z+amUo5Rk//PwDwNuuI5vY/",
          "dtype": "f8"
         }
        },
        {
         "line": {
          "color": "black",
          "dash": "dash",
          "width": 2
         },
         "marker": {
          "color": "black",
          "size": 8
         },
         "mode": "lines+markers",
         "name": "Mean (per version)",
         "type": "scatter",
         "x": {
          "bdata": "AAEC",
          "dtype": "i1"
         },
         "y": {
          "bdata": "AICjT3Fd/z8zS79jfsQAQCPyg5YT7/c/",
          "dtype": "f8"
         }
        }
       ],
       "layout": {
        "showlegend": true,
        "template": {
         "data": {
          "bar": [
           {
            "error_x": {
             "color": "#2a3f5f"
            },
            "error_y": {
             "color": "#2a3f5f"
            },
            "marker": {
             "line": {
              "color": "#E5ECF6",
              "width": 0.5
             },
             "pattern": {
              "fillmode": "overlay",
              "size": 10,
              "solidity": 0.2
             }
            },
            "type": "bar"
           }
          ],
          "barpolar": [
           {
            "marker": {
             "line": {
              "color": "#E5ECF6",
              "width": 0.5
             },
             "pattern": {
              "fillmode": "overlay",
              "size": 10,
              "solidity": 0.2
             }
            },
            "type": "barpolar"
           }
          ],
          "carpet": [
           {
            "aaxis": {
             "endlinecolor": "#2a3f5f",
             "gridcolor": "white",
             "linecolor": "white",
             "minorgridcolor": "white",
             "startlinecolor": "#2a3f5f"
            },
            "baxis": {
             "endlinecolor": "#2a3f5f",
             "gridcolor": "white",
             "linecolor": "white",
             "minorgridcolor": "white",
             "startlinecolor": "#2a3f5f"
            },
            "type": "carpet"
           }
          ],
          "choropleth": [
           {
            "colorbar": {
             "outlinewidth": 0,
             "ticks": ""
            },
            "type": "choropleth"
           }
          ],
          "contour": [
           {
            "colorbar": {
             "outlinewidth": 0,
             "ticks": ""
            },
            "colorscale": [
             [
              0,
              "#0d0887"
             ],
             [
              0.1111111111111111,
              "#46039f"
             ],
             [
              0.2222222222222222,
              "#7201a8"
             ],
             [
              0.3333333333333333,
              "#9c179e"
             ],
             [
              0.4444444444444444,
              "#bd3786"
             ],
             [
              0.5555555555555556,
              "#d8576b"
             ],
             [
              0.6666666666666666,
              "#ed7953"
             ],
             [
              0.7777777777777778,
              "#fb9f3a"
             ],
             [
              0.8888888888888888,
              "#fdca26"
             ],
             [
              1,
              "#f0f921"
             ]
            ],
            "type": "contour"
           }
          ],
          "contourcarpet": [
           {
            "colorbar": {
             "outlinewidth": 0,
             "ticks": ""
            },
            "type": "contourcarpet"
           }
          ],
          "heatmap": [
           {
            "colorbar": {
             "outlinewidth": 0,
             "ticks": ""
            },
            "colorscale": [
             [
              0,
              "#0d0887"
             ],
             [
              0.1111111111111111,
              "#46039f"
             ],
             [
              0.2222222222222222,
              "#7201a8"
             ],
             [
              0.3333333333333333,
              "#9c179e"
             ],
             [
              0.4444444444444444,
              "#bd3786"
             ],
             [
              0.5555555555555556,
              "#d8576b"
             ],
             [
              0.6666666666666666,
              "#ed7953"
             ],
             [
              0.7777777777777778,
              "#fb9f3a"
             ],
             [
              0.8888888888888888,
              "#fdca26"
             ],
             [
              1,
              "#f0f921"
             ]
            ],
            "type": "heatmap"
           }
          ],
          "histogram": [
           {
            "marker": {
             "pattern": {
              "fillmode": "overlay",
              "size": 10,
              "solidity": 0.2
             }
            },
            "type": "histogram"
           }
          ],
          "histogram2d": [
           {
            "colorbar": {
             "outlinewidth": 0,
             "ticks": ""
            },
            "colorscale": [
             [
              0,
              "#0d0887"
             ],
             [
              0.1111111111111111,
              "#46039f"
             ],
             [
              0.2222222222222222,
              "#7201a8"
             ],
             [
              0.3333333333333333,
              "#9c179e"
             ],
             [
              0.4444444444444444,
              "#bd3786"
             ],
             [
              0.5555555555555556,
              "#d8576b"
             ],
             [
              0.6666666666666666,
              "#ed7953"
             ],
             [
              0.7777777777777778,
              "#fb9f3a"
             ],
             [
              0.8888888888888888,
              "#fdca26"
             ],
             [
              1,
              "#f0f921"
             ]
            ],
            "type": "histogram2d"
           }
          ],
          "histogram2dcontour": [
           {
            "colorbar": {
             "outlinewidth": 0,
             "ticks": ""
            },
            "colorscale": [
             [
              0,
              "#0d0887"
             ],
             [
              0.1111111111111111,
              "#46039f"
             ],
             [
              0.2222222222222222,
              "#7201a8"
             ],
             [
              0.3333333333333333,
              "#9c179e"
             ],
             [
              0.4444444444444444,
              "#bd3786"
             ],
             [
              0.5555555555555556,
              "#d8576b"
             ],
             [
              0.6666666666666666,
              "#ed7953"
             ],
             [
              0.7777777777777778,
              "#fb9f3a"
             ],
             [
              0.8888888888888888,
              "#fdca26"
             ],
             [
              1,
              "#f0f921"
             ]
            ],
            "type": "histogram2dcontour"
           }
          ],
          "mesh3d": [
           {
            "colorbar": {
             "outlinewidth": 0,
             "ticks": ""
            },
            "type": "mesh3d"
           }
          ],
          "parcoords": [
           {
            "line": {
             "colorbar": {
              "outlinewidth": 0,
              "ticks": ""
             }
            },
            "type": "parcoords"
           }
          ],
          "pie": [
           {
            "automargin": true,
            "type": "pie"
           }
          ],
          "scatter": [
           {
            "fillpattern": {
             "fillmode": "overlay",
             "size": 10,
             "solidity": 0.2
            },
            "type": "scatter"
           }
          ],
          "scatter3d": [
           {
            "line": {
             "colorbar": {
              "outlinewidth": 0,
              "ticks": ""
             }
            },
            "marker": {
             "colorbar": {
              "outlinewidth": 0,
              "ticks": ""
             }
            },
            "type": "scatter3d"
           }
          ],
          "scattercarpet": [
           {
            "marker": {
             "colorbar": {
              "outlinewidth": 0,
              "ticks": ""
             }
            },
            "type": "scattercarpet"
           }
          ],
          "scattergeo": [
           {
            "marker": {
             "colorbar": {
              "outlinewidth": 0,
              "ticks": ""
             }
            },
            "type": "scattergeo"
           }
          ],
          "scattergl": [
           {
            "marker": {
             "colorbar": {
              "outlinewidth": 0,
              "ticks": ""
             }
            },
            "type": "scattergl"
           }
          ],
          "scattermap": [
           {
            "marker": {
             "colorbar": {
              "outlinewidth": 0,
              "ticks": ""
             }
            },
            "type": "scattermap"
           }
          ],
          "scattermapbox": [
           {
            "marker": {
             "colorbar": {
              "outlinewidth": 0,
              "ticks": ""
             }
            },
            "type": "scattermapbox"
           }
          ],
          "scatterpolar": [
           {
            "marker": {
             "colorbar": {
              "outlinewidth": 0,
              "ticks": ""
             }
            },
            "type": "scatterpolar"
           }
          ],
          "scatterpolargl": [
           {
            "marker": {
             "colorbar": {
              "outlinewidth": 0,
              "ticks": ""
             }
            },
            "type": "scatterpolargl"
           }
          ],
          "scatterternary": [
           {
            "marker": {
             "colorbar": {
              "outlinewidth": 0,
              "ticks": ""
             }
            },
            "type": "scatterternary"
           }
          ],
          "surface": [
           {
            "colorbar": {
             "outlinewidth": 0,
             "ticks": ""
            },
            "colorscale": [
             [
              0,
              "#0d0887"
             ],
             [
              0.1111111111111111,
              "#46039f"
             ],
             [
              0.2222222222222222,
              "#7201a8"
             ],
             [
              0.3333333333333333,
              "#9c179e"
             ],
             [
              0.4444444444444444,
              "#bd3786"
             ],
             [
              0.5555555555555556,
              "#d8576b"
             ],
             [
              0.6666666666666666,
              "#ed7953"
             ],
             [
              0.7777777777777778,
              "#fb9f3a"
             ],
             [
              0.8888888888888888,
              "#fdca26"
             ],
             [
              1,
              "#f0f921"
             ]
            ],
            "type": "surface"
           }
          ],
          "table": [
           {
            "cells": {
             "fill": {
              "color": "#EBF0F8"
             },
             "line": {
              "color": "white"
             }
            },
            "header": {
             "fill": {
              "color": "#C8D4E3"
             },
             "line": {
              "color": "white"
             }
            },
            "type": "table"
           }
          ]
         },
         "layout": {
          "annotationdefaults": {
           "arrowcolor": "#2a3f5f",
           "arrowhead": 0,
           "arrowwidth": 1
          },
          "autotypenumbers": "strict",
          "coloraxis": {
           "colorbar": {
            "outlinewidth": 0,
            "ticks": ""
           }
          },
          "colorscale": {
           "diverging": [
            [
             0,
             "#8e0152"
            ],
            [
             0.1,
             "#c51b7d"
            ],
            [
             0.2,
             "#de77ae"
            ],
            [
             0.3,
             "#f1b6da"
            ],
            [
             0.4,
             "#fde0ef"
            ],
            [
             0.5,
             "#f7f7f7"
            ],
            [
             0.6,
             "#e6f5d0"
            ],
            [
             0.7,
             "#b8e186"
            ],
            [
             0.8,
             "#7fbc41"
            ],
            [
             0.9,
             "#4d9221"
            ],
            [
             1,
             "#276419"
            ]
           ],
           "sequential": [
            [
             0,
             "#0d0887"
            ],
            [
             0.1111111111111111,
             "#46039f"
            ],
            [
             0.2222222222222222,
             "#7201a8"
            ],
            [
             0.3333333333333333,
             "#9c179e"
            ],
            [
             0.4444444444444444,
             "#bd3786"
            ],
            [
             0.5555555555555556,
             "#d8576b"
            ],
            [
             0.6666666666666666,
             "#ed7953"
            ],
            [
             0.7777777777777778,
             "#fb9f3a"
            ],
            [
             0.8888888888888888,
             "#fdca26"
            ],
            [
             1,
             "#f0f921"
            ]
           ],
           "sequentialminus": [
            [
             0,
             "#0d0887"
            ],
            [
             0.1111111111111111,
             "#46039f"
            ],
            [
             0.2222222222222222,
             "#7201a8"
            ],
            [
             0.3333333333333333,
             "#9c179e"
            ],
            [
             0.4444444444444444,
             "#bd3786"
            ],
            [
             0.5555555555555556,
             "#d8576b"
            ],
            [
             0.6666666666666666,
             "#ed7953"
            ],
            [
             0.7777777777777778,
             "#fb9f3a"
            ],
            [
             0.8888888888888888,
             "#fdca26"
            ],
            [
             1,
             "#f0f921"
            ]
           ]
          },
          "colorway": [
           "#636efa",
           "#EF553B",
           "#00cc96",
           "#ab63fa",
           "#FFA15A",
           "#19d3f3",
           "#FF6692",
           "#B6E880",
           "#FF97FF",
           "#FECB52"
          ],
          "font": {
           "color": "#2a3f5f"
          },
          "geo": {
           "bgcolor": "white",
           "lakecolor": "white",
           "landcolor": "#E5ECF6",
           "showlakes": true,
           "showland": true,
           "subunitcolor": "white"
          },
          "hoverlabel": {
           "align": "left"
          },
          "hovermode": "closest",
          "mapbox": {
           "style": "light"
          },
          "paper_bgcolor": "white",
          "plot_bgcolor": "#E5ECF6",
          "polar": {
           "angularaxis": {
            "gridcolor": "white",
            "linecolor": "white",
            "ticks": ""
           },
           "bgcolor": "#E5ECF6",
           "radialaxis": {
            "gridcolor": "white",
            "linecolor": "white",
            "ticks": ""
           }
          },
          "scene": {
           "xaxis": {
            "backgroundcolor": "#E5ECF6",
            "gridcolor": "white",
            "gridwidth": 2,
            "linecolor": "white",
            "showbackground": true,
            "ticks": "",
            "zerolinecolor": "white"
           },
           "yaxis": {
            "backgroundcolor": "#E5ECF6",
            "gridcolor": "white",
            "gridwidth": 2,
            "linecolor": "white",
            "showbackground": true,
            "ticks": "",
            "zerolinecolor": "white"
           },
           "zaxis": {
            "backgroundcolor": "#E5ECF6",
            "gridcolor": "white",
            "gridwidth": 2,
            "linecolor": "white",
            "showbackground": true,
            "ticks": "",
            "zerolinecolor": "white"
           }
          },
          "shapedefaults": {
           "line": {
            "color": "#2a3f5f"
           }
          },
          "ternary": {
           "aaxis": {
            "gridcolor": "white",
            "linecolor": "white",
            "ticks": ""
           },
           "baxis": {
            "gridcolor": "white",
            "linecolor": "white",
            "ticks": ""
           },
           "bgcolor": "#E5ECF6",
           "caxis": {
            "gridcolor": "white",
            "linecolor": "white",
            "ticks": ""
           }
          },
          "title": {
           "x": 0.05
          },
          "xaxis": {
           "automargin": true,
           "gridcolor": "white",
           "linecolor": "white",
           "ticks": "",
           "title": {
            "standoff": 15
           },
           "zerolinecolor": "white",
           "zerolinewidth": 2
          },
          "yaxis": {
           "automargin": true,
           "gridcolor": "white",
           "linecolor": "white",
           "ticks": "",
           "title": {
            "standoff": 15
           },
           "zerolinecolor": "white",
           "zerolinewidth": 2
          }
         }
        },
        "title": {
         "text": "Execution time of ForecasterRecursiveMultiSeries__create_train_X_y_series_is_dict_exog_is_dict"
        },
        "xaxis": {
         "tickangle": -45,
         "tickmode": "array",
         "ticktext": [
          "0.14.0",
          "0.15.1",
          "0.16.0"
         ],
         "tickvals": [
          0,
          1,
          2
         ],
         "title": {
          "text": "skforecast version"
         }
        },
        "yaxis": {
         "title": {
          "text": "Execution time (seconds)"
         }
        }
       }
      }
     },
     "metadata": {},
     "output_type": "display_data"
    },
    {
     "data": {
      "application/vnd.plotly.v1+json": {
       "config": {
        "plotlyServerURL": "https://plot.ly"
       },
       "data": [
        {
         "error_y": {
          "array": {
           "bdata": "iwiFCFLp2T8LJUKLj2usPw==",
           "dtype": "f8"
          },
          "color": "#636EFA",
          "thickness": 1.5,
          "type": "data",
          "visible": true,
          "width": 5
         },
         "hovertemplate": "%{text}<extra></extra>",
         "marker": {
          "color": "#636EFA",
          "opacity": 0.7,
          "size": 10
         },
         "mode": "markers",
         "name": "Run time - 0.14.0",
         "showlegend": true,
         "text": [
          "Forecaster: ForecasterRecursiveMultiSeries<br>Regressor: LGBMRegressor<br>Function: ForecasterRecursiveMultiSeries_fit_series_is_dataframe_no_exog<br>Function_hash: aa35b8ba0c0839021a95e5ba0786a67e<br>Datetime: 2025-04-24 10:41:08.105175<br>Python version: 3.11.10<br>skforecast version: 0.14.0<br>numpy version: 2.1.3<br>pandas version: 2.2.3<br>sklearn version: 1.6.1<br>lightgbm version: 4.5.0<br>Platform: Windows-10-10.0.19045-SP0<br>Processor: Intel64 Family 6 Model 141 Stepping 1, GenuineIntel<br>CPU count: 16<br>Memory (GB): 34.07<br>",
          "Forecaster: ForecasterRecursiveMultiSeries<br>Regressor: LGBMRegressor<br>Function: ForecasterRecursiveMultiSeries_fit_series_is_dataframe_no_exog<br>Function_hash: aa35b8ba0c0839021a95e5ba0786a67e<br>Datetime: 2025-04-24 11:08:21.874210<br>Python version: 3.11.10<br>skforecast version: 0.14.0<br>numpy version: 2.1.3<br>pandas version: 2.2.3<br>sklearn version: 1.6.1<br>lightgbm version: 4.5.0<br>Platform: Windows-10-10.0.19045-SP0<br>Processor: Intel64 Family 6 Model 141 Stepping 1, GenuineIntel<br>CPU count: 16<br>Memory (GB): 34.07<br>"
         ],
         "type": "scatter",
         "x": {
          "bdata": "fByzX9/Fir9AKClBT8iAPw==",
          "dtype": "f8"
         },
         "y": {
          "bdata": "mtkq5IToGUAzM5LrQ6IYQA==",
          "dtype": "f8"
         }
        },
        {
         "error_y": {
          "array": {
           "bdata": "x9kpv0+v0T+xatZ+b+ywP6Hk8TR3tLc/",
           "dtype": "f8"
          },
          "color": "#EF553B",
          "thickness": 1.5,
          "type": "data",
          "visible": true,
          "width": 5
         },
         "hovertemplate": "%{text}<extra></extra>",
         "marker": {
          "color": "#EF553B",
          "opacity": 0.7,
          "size": 10
         },
         "mode": "markers",
         "name": "Run time - 0.15.1",
         "showlegend": true,
         "text": [
          "Forecaster: ForecasterRecursiveMultiSeries<br>Regressor: LGBMRegressor<br>Function: ForecasterRecursiveMultiSeries_fit_series_is_dataframe_no_exog<br>Function_hash: aa35b8ba0c0839021a95e5ba0786a67e<br>Datetime: 2025-04-24 10:34:08.214428<br>Python version: 3.11.10<br>skforecast version: 0.15.1<br>numpy version: 2.1.3<br>pandas version: 2.2.3<br>sklearn version: 1.6.1<br>lightgbm version: 4.5.0<br>Platform: Windows-10-10.0.19045-SP0<br>Processor: Intel64 Family 6 Model 141 Stepping 1, GenuineIntel<br>CPU count: 16<br>Memory (GB): 34.07<br>",
          "Forecaster: ForecasterRecursiveMultiSeries<br>Regressor: LGBMRegressor<br>Function: ForecasterRecursiveMultiSeries_fit_series_is_dataframe_no_exog<br>Function_hash: aa35b8ba0c0839021a95e5ba0786a67e<br>Datetime: 2025-04-24 11:17:26.506134<br>Python version: 3.11.10<br>skforecast version: 0.15.1<br>numpy version: 2.1.3<br>pandas version: 2.2.3<br>sklearn version: 1.6.1<br>lightgbm version: 4.5.0<br>Platform: Windows-10-10.0.19045-SP0<br>Processor: Intel64 Family 6 Model 141 Stepping 1, GenuineIntel<br>CPU count: 16<br>Memory (GB): 34.07<br>",
          "Forecaster: ForecasterRecursiveMultiSeries<br>Regressor: LGBMRegressor<br>Function: ForecasterRecursiveMultiSeries_fit_series_is_dataframe_no_exog<br>Function_hash: aa35b8ba0c0839021a95e5ba0786a67e<br>Datetime: 2025-04-24 22:52:36.821530<br>Python version: 3.12.9<br>skforecast version: 0.15.1<br>numpy version: 2.2.5<br>pandas version: 2.2.3<br>sklearn version: 1.6.1<br>lightgbm version: 4.6.0<br>Platform: Linux-6.11.0-24-generic-x86_64-with-glibc2.39<br>Processor: x86_64<br>CPU count: 8<br>Memory (GB): 16.64<br>"
         ],
         "type": "scatter",
         "x": {
          "bdata": "WsufM0wh8D/sid4cvavwP0fPO5Hnwu4/",
          "dtype": "f8"
         },
         "y": {
          "bdata": "ZgauwRQ8IUDNTGlae7IfQM30qjJxQiVA",
          "dtype": "f8"
         }
        },
        {
         "error_y": {
          "array": {
           "bdata": "GJcDwBBtsD8NRRdHrTW5P50SwkE8ILQ/",
           "dtype": "f8"
          },
          "color": "#00CC96",
          "thickness": 1.5,
          "type": "data",
          "visible": true,
          "width": 5
         },
         "hovertemplate": "%{text}<extra></extra>",
         "marker": {
          "color": "#00CC96",
          "opacity": 0.7,
          "size": 10
         },
         "mode": "markers",
         "name": "Run time - 0.16.0",
         "showlegend": true,
         "text": [
          "Forecaster: ForecasterRecursiveMultiSeries<br>Regressor: LGBMRegressor<br>Function: ForecasterRecursiveMultiSeries_fit_series_is_dataframe_no_exog<br>Function_hash: aa35b8ba0c0839021a95e5ba0786a67e<br>Datetime: 2025-04-24 18:03:39.185807<br>Python version: 3.11.10<br>skforecast version: 0.16.0<br>numpy version: 2.2.5<br>pandas version: 2.2.3<br>sklearn version: 1.6.1<br>lightgbm version: 4.5.0<br>Platform: Windows-10-10.0.19045-SP0<br>Processor: Intel64 Family 6 Model 141 Stepping 1, GenuineIntel<br>CPU count: 16<br>Memory (GB): 34.07<br>",
          "Forecaster: ForecasterRecursiveMultiSeries<br>Regressor: LGBMRegressor<br>Function: ForecasterRecursiveMultiSeries_fit_series_is_dataframe_no_exog<br>Function_hash: aa35b8ba0c0839021a95e5ba0786a67e<br>Datetime: 2025-04-24 18:18:43.029344<br>Python version: 3.11.10<br>skforecast version: 0.16.0<br>numpy version: 2.2.5<br>pandas version: 2.2.3<br>sklearn version: 1.6.1<br>lightgbm version: 4.5.0<br>Platform: Windows-10-10.0.19045-SP0<br>Processor: Intel64 Family 6 Model 141 Stepping 1, GenuineIntel<br>CPU count: 16<br>Memory (GB): 34.07<br>",
          "Forecaster: ForecasterRecursiveMultiSeries<br>Regressor: LGBMRegressor<br>Function: ForecasterRecursiveMultiSeries_fit_series_is_dataframe_no_exog<br>Function_hash: aa35b8ba0c0839021a95e5ba0786a67e<br>Datetime: 2025-04-24 22:36:34.524126<br>Python version: 3.12.9<br>skforecast version: 0.16.0<br>numpy version: 2.2.5<br>pandas version: 2.2.3<br>sklearn version: 1.6.1<br>lightgbm version: 4.6.0<br>Platform: Linux-6.11.0-24-generic-x86_64-with-glibc2.39<br>Processor: x86_64<br>CPU count: 8<br>Memory (GB): 16.64<br>"
         ],
         "type": "scatter",
         "x": {
          "bdata": "XrVHMA+T/z88lcAF1isAQAT0BEErOwBA",
          "dtype": "f8"
         },
         "y": {
          "bdata": "AEB/2qgmGkBmZpW64PMXQJoxSOv3qCJA",
          "dtype": "f8"
         }
        },
        {
         "line": {
          "color": "black",
          "width": 2
         },
         "marker": {
          "color": "black",
          "size": 8
         },
         "mode": "lines+markers",
         "name": "Median (per version)",
         "type": "scatter",
         "x": {
          "bdata": "AAEC",
          "dtype": "i1"
         },
         "y": {
          "bdata": "ZobeZ2RFGUBmBq7BFDwhQABAf9qoJhpA",
          "dtype": "f8"
         }
        },
        {
         "line": {
          "color": "black",
          "dash": "dash",
          "width": 2
         },
         "marker": {
          "color": "black",
          "size": 8
         },
         "mode": "lines+markers",
         "name": "Mean (per version)",
         "type": "scatter",
         "x": {
          "bdata": "AAEC",
          "dtype": "i1"
         },
         "y": {
          "bdata": "ZobeZ2RFGUCJ4Nk1QR0iQDMDN3koJB1A",
          "dtype": "f8"
         }
        }
       ],
       "layout": {
        "showlegend": true,
        "template": {
         "data": {
          "bar": [
           {
            "error_x": {
             "color": "#2a3f5f"
            },
            "error_y": {
             "color": "#2a3f5f"
            },
            "marker": {
             "line": {
              "color": "#E5ECF6",
              "width": 0.5
             },
             "pattern": {
              "fillmode": "overlay",
              "size": 10,
              "solidity": 0.2
             }
            },
            "type": "bar"
           }
          ],
          "barpolar": [
           {
            "marker": {
             "line": {
              "color": "#E5ECF6",
              "width": 0.5
             },
             "pattern": {
              "fillmode": "overlay",
              "size": 10,
              "solidity": 0.2
             }
            },
            "type": "barpolar"
           }
          ],
          "carpet": [
           {
            "aaxis": {
             "endlinecolor": "#2a3f5f",
             "gridcolor": "white",
             "linecolor": "white",
             "minorgridcolor": "white",
             "startlinecolor": "#2a3f5f"
            },
            "baxis": {
             "endlinecolor": "#2a3f5f",
             "gridcolor": "white",
             "linecolor": "white",
             "minorgridcolor": "white",
             "startlinecolor": "#2a3f5f"
            },
            "type": "carpet"
           }
          ],
          "choropleth": [
           {
            "colorbar": {
             "outlinewidth": 0,
             "ticks": ""
            },
            "type": "choropleth"
           }
          ],
          "contour": [
           {
            "colorbar": {
             "outlinewidth": 0,
             "ticks": ""
            },
            "colorscale": [
             [
              0,
              "#0d0887"
             ],
             [
              0.1111111111111111,
              "#46039f"
             ],
             [
              0.2222222222222222,
              "#7201a8"
             ],
             [
              0.3333333333333333,
              "#9c179e"
             ],
             [
              0.4444444444444444,
              "#bd3786"
             ],
             [
              0.5555555555555556,
              "#d8576b"
             ],
             [
              0.6666666666666666,
              "#ed7953"
             ],
             [
              0.7777777777777778,
              "#fb9f3a"
             ],
             [
              0.8888888888888888,
              "#fdca26"
             ],
             [
              1,
              "#f0f921"
             ]
            ],
            "type": "contour"
           }
          ],
          "contourcarpet": [
           {
            "colorbar": {
             "outlinewidth": 0,
             "ticks": ""
            },
            "type": "contourcarpet"
           }
          ],
          "heatmap": [
           {
            "colorbar": {
             "outlinewidth": 0,
             "ticks": ""
            },
            "colorscale": [
             [
              0,
              "#0d0887"
             ],
             [
              0.1111111111111111,
              "#46039f"
             ],
             [
              0.2222222222222222,
              "#7201a8"
             ],
             [
              0.3333333333333333,
              "#9c179e"
             ],
             [
              0.4444444444444444,
              "#bd3786"
             ],
             [
              0.5555555555555556,
              "#d8576b"
             ],
             [
              0.6666666666666666,
              "#ed7953"
             ],
             [
              0.7777777777777778,
              "#fb9f3a"
             ],
             [
              0.8888888888888888,
              "#fdca26"
             ],
             [
              1,
              "#f0f921"
             ]
            ],
            "type": "heatmap"
           }
          ],
          "histogram": [
           {
            "marker": {
             "pattern": {
              "fillmode": "overlay",
              "size": 10,
              "solidity": 0.2
             }
            },
            "type": "histogram"
           }
          ],
          "histogram2d": [
           {
            "colorbar": {
             "outlinewidth": 0,
             "ticks": ""
            },
            "colorscale": [
             [
              0,
              "#0d0887"
             ],
             [
              0.1111111111111111,
              "#46039f"
             ],
             [
              0.2222222222222222,
              "#7201a8"
             ],
             [
              0.3333333333333333,
              "#9c179e"
             ],
             [
              0.4444444444444444,
              "#bd3786"
             ],
             [
              0.5555555555555556,
              "#d8576b"
             ],
             [
              0.6666666666666666,
              "#ed7953"
             ],
             [
              0.7777777777777778,
              "#fb9f3a"
             ],
             [
              0.8888888888888888,
              "#fdca26"
             ],
             [
              1,
              "#f0f921"
             ]
            ],
            "type": "histogram2d"
           }
          ],
          "histogram2dcontour": [
           {
            "colorbar": {
             "outlinewidth": 0,
             "ticks": ""
            },
            "colorscale": [
             [
              0,
              "#0d0887"
             ],
             [
              0.1111111111111111,
              "#46039f"
             ],
             [
              0.2222222222222222,
              "#7201a8"
             ],
             [
              0.3333333333333333,
              "#9c179e"
             ],
             [
              0.4444444444444444,
              "#bd3786"
             ],
             [
              0.5555555555555556,
              "#d8576b"
             ],
             [
              0.6666666666666666,
              "#ed7953"
             ],
             [
              0.7777777777777778,
              "#fb9f3a"
             ],
             [
              0.8888888888888888,
              "#fdca26"
             ],
             [
              1,
              "#f0f921"
             ]
            ],
            "type": "histogram2dcontour"
           }
          ],
          "mesh3d": [
           {
            "colorbar": {
             "outlinewidth": 0,
             "ticks": ""
            },
            "type": "mesh3d"
           }
          ],
          "parcoords": [
           {
            "line": {
             "colorbar": {
              "outlinewidth": 0,
              "ticks": ""
             }
            },
            "type": "parcoords"
           }
          ],
          "pie": [
           {
            "automargin": true,
            "type": "pie"
           }
          ],
          "scatter": [
           {
            "fillpattern": {
             "fillmode": "overlay",
             "size": 10,
             "solidity": 0.2
            },
            "type": "scatter"
           }
          ],
          "scatter3d": [
           {
            "line": {
             "colorbar": {
              "outlinewidth": 0,
              "ticks": ""
             }
            },
            "marker": {
             "colorbar": {
              "outlinewidth": 0,
              "ticks": ""
             }
            },
            "type": "scatter3d"
           }
          ],
          "scattercarpet": [
           {
            "marker": {
             "colorbar": {
              "outlinewidth": 0,
              "ticks": ""
             }
            },
            "type": "scattercarpet"
           }
          ],
          "scattergeo": [
           {
            "marker": {
             "colorbar": {
              "outlinewidth": 0,
              "ticks": ""
             }
            },
            "type": "scattergeo"
           }
          ],
          "scattergl": [
           {
            "marker": {
             "colorbar": {
              "outlinewidth": 0,
              "ticks": ""
             }
            },
            "type": "scattergl"
           }
          ],
          "scattermap": [
           {
            "marker": {
             "colorbar": {
              "outlinewidth": 0,
              "ticks": ""
             }
            },
            "type": "scattermap"
           }
          ],
          "scattermapbox": [
           {
            "marker": {
             "colorbar": {
              "outlinewidth": 0,
              "ticks": ""
             }
            },
            "type": "scattermapbox"
           }
          ],
          "scatterpolar": [
           {
            "marker": {
             "colorbar": {
              "outlinewidth": 0,
              "ticks": ""
             }
            },
            "type": "scatterpolar"
           }
          ],
          "scatterpolargl": [
           {
            "marker": {
             "colorbar": {
              "outlinewidth": 0,
              "ticks": ""
             }
            },
            "type": "scatterpolargl"
           }
          ],
          "scatterternary": [
           {
            "marker": {
             "colorbar": {
              "outlinewidth": 0,
              "ticks": ""
             }
            },
            "type": "scatterternary"
           }
          ],
          "surface": [
           {
            "colorbar": {
             "outlinewidth": 0,
             "ticks": ""
            },
            "colorscale": [
             [
              0,
              "#0d0887"
             ],
             [
              0.1111111111111111,
              "#46039f"
             ],
             [
              0.2222222222222222,
              "#7201a8"
             ],
             [
              0.3333333333333333,
              "#9c179e"
             ],
             [
              0.4444444444444444,
              "#bd3786"
             ],
             [
              0.5555555555555556,
              "#d8576b"
             ],
             [
              0.6666666666666666,
              "#ed7953"
             ],
             [
              0.7777777777777778,
              "#fb9f3a"
             ],
             [
              0.8888888888888888,
              "#fdca26"
             ],
             [
              1,
              "#f0f921"
             ]
            ],
            "type": "surface"
           }
          ],
          "table": [
           {
            "cells": {
             "fill": {
              "color": "#EBF0F8"
             },
             "line": {
              "color": "white"
             }
            },
            "header": {
             "fill": {
              "color": "#C8D4E3"
             },
             "line": {
              "color": "white"
             }
            },
            "type": "table"
           }
          ]
         },
         "layout": {
          "annotationdefaults": {
           "arrowcolor": "#2a3f5f",
           "arrowhead": 0,
           "arrowwidth": 1
          },
          "autotypenumbers": "strict",
          "coloraxis": {
           "colorbar": {
            "outlinewidth": 0,
            "ticks": ""
           }
          },
          "colorscale": {
           "diverging": [
            [
             0,
             "#8e0152"
            ],
            [
             0.1,
             "#c51b7d"
            ],
            [
             0.2,
             "#de77ae"
            ],
            [
             0.3,
             "#f1b6da"
            ],
            [
             0.4,
             "#fde0ef"
            ],
            [
             0.5,
             "#f7f7f7"
            ],
            [
             0.6,
             "#e6f5d0"
            ],
            [
             0.7,
             "#b8e186"
            ],
            [
             0.8,
             "#7fbc41"
            ],
            [
             0.9,
             "#4d9221"
            ],
            [
             1,
             "#276419"
            ]
           ],
           "sequential": [
            [
             0,
             "#0d0887"
            ],
            [
             0.1111111111111111,
             "#46039f"
            ],
            [
             0.2222222222222222,
             "#7201a8"
            ],
            [
             0.3333333333333333,
             "#9c179e"
            ],
            [
             0.4444444444444444,
             "#bd3786"
            ],
            [
             0.5555555555555556,
             "#d8576b"
            ],
            [
             0.6666666666666666,
             "#ed7953"
            ],
            [
             0.7777777777777778,
             "#fb9f3a"
            ],
            [
             0.8888888888888888,
             "#fdca26"
            ],
            [
             1,
             "#f0f921"
            ]
           ],
           "sequentialminus": [
            [
             0,
             "#0d0887"
            ],
            [
             0.1111111111111111,
             "#46039f"
            ],
            [
             0.2222222222222222,
             "#7201a8"
            ],
            [
             0.3333333333333333,
             "#9c179e"
            ],
            [
             0.4444444444444444,
             "#bd3786"
            ],
            [
             0.5555555555555556,
             "#d8576b"
            ],
            [
             0.6666666666666666,
             "#ed7953"
            ],
            [
             0.7777777777777778,
             "#fb9f3a"
            ],
            [
             0.8888888888888888,
             "#fdca26"
            ],
            [
             1,
             "#f0f921"
            ]
           ]
          },
          "colorway": [
           "#636efa",
           "#EF553B",
           "#00cc96",
           "#ab63fa",
           "#FFA15A",
           "#19d3f3",
           "#FF6692",
           "#B6E880",
           "#FF97FF",
           "#FECB52"
          ],
          "font": {
           "color": "#2a3f5f"
          },
          "geo": {
           "bgcolor": "white",
           "lakecolor": "white",
           "landcolor": "#E5ECF6",
           "showlakes": true,
           "showland": true,
           "subunitcolor": "white"
          },
          "hoverlabel": {
           "align": "left"
          },
          "hovermode": "closest",
          "mapbox": {
           "style": "light"
          },
          "paper_bgcolor": "white",
          "plot_bgcolor": "#E5ECF6",
          "polar": {
           "angularaxis": {
            "gridcolor": "white",
            "linecolor": "white",
            "ticks": ""
           },
           "bgcolor": "#E5ECF6",
           "radialaxis": {
            "gridcolor": "white",
            "linecolor": "white",
            "ticks": ""
           }
          },
          "scene": {
           "xaxis": {
            "backgroundcolor": "#E5ECF6",
            "gridcolor": "white",
            "gridwidth": 2,
            "linecolor": "white",
            "showbackground": true,
            "ticks": "",
            "zerolinecolor": "white"
           },
           "yaxis": {
            "backgroundcolor": "#E5ECF6",
            "gridcolor": "white",
            "gridwidth": 2,
            "linecolor": "white",
            "showbackground": true,
            "ticks": "",
            "zerolinecolor": "white"
           },
           "zaxis": {
            "backgroundcolor": "#E5ECF6",
            "gridcolor": "white",
            "gridwidth": 2,
            "linecolor": "white",
            "showbackground": true,
            "ticks": "",
            "zerolinecolor": "white"
           }
          },
          "shapedefaults": {
           "line": {
            "color": "#2a3f5f"
           }
          },
          "ternary": {
           "aaxis": {
            "gridcolor": "white",
            "linecolor": "white",
            "ticks": ""
           },
           "baxis": {
            "gridcolor": "white",
            "linecolor": "white",
            "ticks": ""
           },
           "bgcolor": "#E5ECF6",
           "caxis": {
            "gridcolor": "white",
            "linecolor": "white",
            "ticks": ""
           }
          },
          "title": {
           "x": 0.05
          },
          "xaxis": {
           "automargin": true,
           "gridcolor": "white",
           "linecolor": "white",
           "ticks": "",
           "title": {
            "standoff": 15
           },
           "zerolinecolor": "white",
           "zerolinewidth": 2
          },
          "yaxis": {
           "automargin": true,
           "gridcolor": "white",
           "linecolor": "white",
           "ticks": "",
           "title": {
            "standoff": 15
           },
           "zerolinecolor": "white",
           "zerolinewidth": 2
          }
         }
        },
        "title": {
         "text": "Execution time of ForecasterRecursiveMultiSeries_fit_series_is_dataframe_no_exog"
        },
        "xaxis": {
         "tickangle": -45,
         "tickmode": "array",
         "ticktext": [
          "0.14.0",
          "0.15.1",
          "0.16.0"
         ],
         "tickvals": [
          0,
          1,
          2
         ],
         "title": {
          "text": "skforecast version"
         }
        },
        "yaxis": {
         "title": {
          "text": "Execution time (seconds)"
         }
        }
       }
      }
     },
     "metadata": {},
     "output_type": "display_data"
    },
    {
     "data": {
      "application/vnd.plotly.v1+json": {
       "config": {
        "plotlyServerURL": "https://plot.ly"
       },
       "data": [
        {
         "error_y": {
          "array": {
           "bdata": "apzGQe42rj+ahuRXBfCkPw==",
           "dtype": "f8"
          },
          "color": "#636EFA",
          "thickness": 1.5,
          "type": "data",
          "visible": true,
          "width": 5
         },
         "hovertemplate": "%{text}<extra></extra>",
         "marker": {
          "color": "#636EFA",
          "opacity": 0.7,
          "size": 10
         },
         "mode": "markers",
         "name": "Run time - 0.14.0",
         "showlegend": true,
         "text": [
          "Forecaster: ForecasterRecursiveMultiSeries<br>Regressor: LGBMRegressor<br>Function: ForecasterRecursiveMultiSeries__create_train_X_y_series_is_dataframe_no_exog<br>Function_hash: 7b994fdfa33ce4a2084e303d3f49c934<br>Datetime: 2025-04-24 10:41:15.004316<br>Python version: 3.11.10<br>skforecast version: 0.14.0<br>numpy version: 2.1.3<br>pandas version: 2.2.3<br>sklearn version: 1.6.1<br>lightgbm version: 4.5.0<br>Platform: Windows-10-10.0.19045-SP0<br>Processor: Intel64 Family 6 Model 141 Stepping 1, GenuineIntel<br>CPU count: 16<br>Memory (GB): 34.07<br>",
          "Forecaster: ForecasterRecursiveMultiSeries<br>Regressor: LGBMRegressor<br>Function: ForecasterRecursiveMultiSeries__create_train_X_y_series_is_dataframe_no_exog<br>Function_hash: 7b994fdfa33ce4a2084e303d3f49c934<br>Datetime: 2025-04-24 11:08:28.757259<br>Python version: 3.11.10<br>skforecast version: 0.14.0<br>numpy version: 2.1.3<br>pandas version: 2.2.3<br>sklearn version: 1.6.1<br>lightgbm version: 4.5.0<br>Platform: Windows-10-10.0.19045-SP0<br>Processor: Intel64 Family 6 Model 141 Stepping 1, GenuineIntel<br>CPU count: 16<br>Memory (GB): 34.07<br>"
         ],
         "type": "scatter",
         "x": {
          "bdata": "fByzX9/Fir9AKClBT8iAPw==",
          "dtype": "f8"
         },
         "y": {
          "bdata": "mpmYvEMC9j8AACNqYPP1Pw==",
          "dtype": "f8"
         }
        },
        {
         "error_y": {
          "array": {
           "bdata": "rDXObBNStz8sGU9UjOC0P8XhzNNeZrA/",
           "dtype": "f8"
          },
          "color": "#EF553B",
          "thickness": 1.5,
          "type": "data",
          "visible": true,
          "width": 5
         },
         "hovertemplate": "%{text}<extra></extra>",
         "marker": {
          "color": "#EF553B",
          "opacity": 0.7,
          "size": 10
         },
         "mode": "markers",
         "name": "Run time - 0.15.1",
         "showlegend": true,
         "text": [
          "Forecaster: ForecasterRecursiveMultiSeries<br>Regressor: LGBMRegressor<br>Function: ForecasterRecursiveMultiSeries__create_train_X_y_series_is_dataframe_no_exog<br>Function_hash: 7b994fdfa33ce4a2084e303d3f49c934<br>Datetime: 2025-04-24 10:34:16.092443<br>Python version: 3.11.10<br>skforecast version: 0.15.1<br>numpy version: 2.1.3<br>pandas version: 2.2.3<br>sklearn version: 1.6.1<br>lightgbm version: 4.5.0<br>Platform: Windows-10-10.0.19045-SP0<br>Processor: Intel64 Family 6 Model 141 Stepping 1, GenuineIntel<br>CPU count: 16<br>Memory (GB): 34.07<br>",
          "Forecaster: ForecasterRecursiveMultiSeries<br>Regressor: LGBMRegressor<br>Function: ForecasterRecursiveMultiSeries__create_train_X_y_series_is_dataframe_no_exog<br>Function_hash: 7b994fdfa33ce4a2084e303d3f49c934<br>Datetime: 2025-04-24 11:17:34.591231<br>Python version: 3.11.10<br>skforecast version: 0.15.1<br>numpy version: 2.1.3<br>pandas version: 2.2.3<br>sklearn version: 1.6.1<br>lightgbm version: 4.5.0<br>Platform: Windows-10-10.0.19045-SP0<br>Processor: Intel64 Family 6 Model 141 Stepping 1, GenuineIntel<br>CPU count: 16<br>Memory (GB): 34.07<br>",
          "Forecaster: ForecasterRecursiveMultiSeries<br>Regressor: LGBMRegressor<br>Function: ForecasterRecursiveMultiSeries__create_train_X_y_series_is_dataframe_no_exog<br>Function_hash: 7b994fdfa33ce4a2084e303d3f49c934<br>Datetime: 2025-04-24 22:50:24.753031<br>Python version: 3.12.9<br>skforecast version: 0.15.1<br>numpy version: 2.2.5<br>pandas version: 2.2.3<br>sklearn version: 1.6.1<br>lightgbm version: 4.6.0<br>Platform: Linux-6.11.0-24-generic-x86_64-with-glibc2.39<br>Processor: x86_64<br>CPU count: 8<br>Memory (GB): 16.64<br>"
         ],
         "type": "scatter",
         "x": {
          "bdata": "WsufM0wh8D/sid4cvavwP0fPO5Hnwu4/",
          "dtype": "f8"
         },
         "y": {
          "bdata": "ZmZTdEUl+T9mZtbT3MT5P5opUB63q/0/",
          "dtype": "f8"
         }
        },
        {
         "error_y": {
          "array": {
           "bdata": "u88t4PVnqD9uVgnhOIelP/x0qvd+9Kk/",
           "dtype": "f8"
          },
          "color": "#00CC96",
          "thickness": 1.5,
          "type": "data",
          "visible": true,
          "width": 5
         },
         "hovertemplate": "%{text}<extra></extra>",
         "marker": {
          "color": "#00CC96",
          "opacity": 0.7,
          "size": 10
         },
         "mode": "markers",
         "name": "Run time - 0.16.0",
         "showlegend": true,
         "text": [
          "Forecaster: ForecasterRecursiveMultiSeries<br>Regressor: LGBMRegressor<br>Function: ForecasterRecursiveMultiSeries__create_train_X_y_series_is_dataframe_no_exog<br>Function_hash: 7b994fdfa33ce4a2084e303d3f49c934<br>Datetime: 2025-04-24 18:02:14.811485<br>Python version: 3.11.10<br>skforecast version: 0.16.0<br>numpy version: 2.2.5<br>pandas version: 2.2.3<br>sklearn version: 1.6.1<br>lightgbm version: 4.5.0<br>Platform: Windows-10-10.0.19045-SP0<br>Processor: Intel64 Family 6 Model 141 Stepping 1, GenuineIntel<br>CPU count: 16<br>Memory (GB): 34.07<br>",
          "Forecaster: ForecasterRecursiveMultiSeries<br>Regressor: LGBMRegressor<br>Function: ForecasterRecursiveMultiSeries__create_train_X_y_series_is_dataframe_no_exog<br>Function_hash: 7b994fdfa33ce4a2084e303d3f49c934<br>Datetime: 2025-04-24 18:17:26.968773<br>Python version: 3.11.10<br>skforecast version: 0.16.0<br>numpy version: 2.2.5<br>pandas version: 2.2.3<br>sklearn version: 1.6.1<br>lightgbm version: 4.5.0<br>Platform: Windows-10-10.0.19045-SP0<br>Processor: Intel64 Family 6 Model 141 Stepping 1, GenuineIntel<br>CPU count: 16<br>Memory (GB): 34.07<br>",
          "Forecaster: ForecasterRecursiveMultiSeries<br>Regressor: LGBMRegressor<br>Function: ForecasterRecursiveMultiSeries__create_train_X_y_series_is_dataframe_no_exog<br>Function_hash: 7b994fdfa33ce4a2084e303d3f49c934<br>Datetime: 2025-04-24 22:34:44.176802<br>Python version: 3.12.9<br>skforecast version: 0.16.0<br>numpy version: 2.2.5<br>pandas version: 2.2.3<br>sklearn version: 1.6.1<br>lightgbm version: 4.6.0<br>Platform: Linux-6.11.0-24-generic-x86_64-with-glibc2.39<br>Processor: x86_64<br>CPU count: 8<br>Memory (GB): 16.64<br>"
         ],
         "type": "scatter",
         "x": {
          "bdata": "XrVHMA+T/z88lcAF1isAQAT0BEErOwBA",
          "dtype": "f8"
         },
         "y": {
          "bdata": "mpl4/Eli8j/NzDk8hNHvP5p521OswfA/",
          "dtype": "f8"
         }
        },
        {
         "line": {
          "color": "black",
          "width": 2
         },
         "marker": {
          "color": "black",
          "size": 8
         },
         "mode": "lines+markers",
         "name": "Median (per version)",
         "type": "scatter",
         "x": {
          "bdata": "AAEC",
          "dtype": "i1"
         },
         "y": {
          "bdata": "zcxdE9L69T9mZtbT3MT5P5p521OswfA/",
          "dtype": "f8"
         }
        },
        {
         "line": {
          "color": "black",
          "dash": "dash",
          "width": 2
         },
         "marker": {
          "color": "black",
          "size": 8
         },
         "mode": "lines+markers",
         "name": "Mean (per version)",
         "type": "scatter",
         "x": {
          "bdata": "AAEC",
          "dtype": "i1"
         },
         "y": {
          "bdata": "zcxdE9L69T8jUtPMndz6P4moJXo9BPE/",
          "dtype": "f8"
         }
        }
       ],
       "layout": {
        "showlegend": true,
        "template": {
         "data": {
          "bar": [
           {
            "error_x": {
             "color": "#2a3f5f"
            },
            "error_y": {
             "color": "#2a3f5f"
            },
            "marker": {
             "line": {
              "color": "#E5ECF6",
              "width": 0.5
             },
             "pattern": {
              "fillmode": "overlay",
              "size": 10,
              "solidity": 0.2
             }
            },
            "type": "bar"
           }
          ],
          "barpolar": [
           {
            "marker": {
             "line": {
              "color": "#E5ECF6",
              "width": 0.5
             },
             "pattern": {
              "fillmode": "overlay",
              "size": 10,
              "solidity": 0.2
             }
            },
            "type": "barpolar"
           }
          ],
          "carpet": [
           {
            "aaxis": {
             "endlinecolor": "#2a3f5f",
             "gridcolor": "white",
             "linecolor": "white",
             "minorgridcolor": "white",
             "startlinecolor": "#2a3f5f"
            },
            "baxis": {
             "endlinecolor": "#2a3f5f",
             "gridcolor": "white",
             "linecolor": "white",
             "minorgridcolor": "white",
             "startlinecolor": "#2a3f5f"
            },
            "type": "carpet"
           }
          ],
          "choropleth": [
           {
            "colorbar": {
             "outlinewidth": 0,
             "ticks": ""
            },
            "type": "choropleth"
           }
          ],
          "contour": [
           {
            "colorbar": {
             "outlinewidth": 0,
             "ticks": ""
            },
            "colorscale": [
             [
              0,
              "#0d0887"
             ],
             [
              0.1111111111111111,
              "#46039f"
             ],
             [
              0.2222222222222222,
              "#7201a8"
             ],
             [
              0.3333333333333333,
              "#9c179e"
             ],
             [
              0.4444444444444444,
              "#bd3786"
             ],
             [
              0.5555555555555556,
              "#d8576b"
             ],
             [
              0.6666666666666666,
              "#ed7953"
             ],
             [
              0.7777777777777778,
              "#fb9f3a"
             ],
             [
              0.8888888888888888,
              "#fdca26"
             ],
             [
              1,
              "#f0f921"
             ]
            ],
            "type": "contour"
           }
          ],
          "contourcarpet": [
           {
            "colorbar": {
             "outlinewidth": 0,
             "ticks": ""
            },
            "type": "contourcarpet"
           }
          ],
          "heatmap": [
           {
            "colorbar": {
             "outlinewidth": 0,
             "ticks": ""
            },
            "colorscale": [
             [
              0,
              "#0d0887"
             ],
             [
              0.1111111111111111,
              "#46039f"
             ],
             [
              0.2222222222222222,
              "#7201a8"
             ],
             [
              0.3333333333333333,
              "#9c179e"
             ],
             [
              0.4444444444444444,
              "#bd3786"
             ],
             [
              0.5555555555555556,
              "#d8576b"
             ],
             [
              0.6666666666666666,
              "#ed7953"
             ],
             [
              0.7777777777777778,
              "#fb9f3a"
             ],
             [
              0.8888888888888888,
              "#fdca26"
             ],
             [
              1,
              "#f0f921"
             ]
            ],
            "type": "heatmap"
           }
          ],
          "histogram": [
           {
            "marker": {
             "pattern": {
              "fillmode": "overlay",
              "size": 10,
              "solidity": 0.2
             }
            },
            "type": "histogram"
           }
          ],
          "histogram2d": [
           {
            "colorbar": {
             "outlinewidth": 0,
             "ticks": ""
            },
            "colorscale": [
             [
              0,
              "#0d0887"
             ],
             [
              0.1111111111111111,
              "#46039f"
             ],
             [
              0.2222222222222222,
              "#7201a8"
             ],
             [
              0.3333333333333333,
              "#9c179e"
             ],
             [
              0.4444444444444444,
              "#bd3786"
             ],
             [
              0.5555555555555556,
              "#d8576b"
             ],
             [
              0.6666666666666666,
              "#ed7953"
             ],
             [
              0.7777777777777778,
              "#fb9f3a"
             ],
             [
              0.8888888888888888,
              "#fdca26"
             ],
             [
              1,
              "#f0f921"
             ]
            ],
            "type": "histogram2d"
           }
          ],
          "histogram2dcontour": [
           {
            "colorbar": {
             "outlinewidth": 0,
             "ticks": ""
            },
            "colorscale": [
             [
              0,
              "#0d0887"
             ],
             [
              0.1111111111111111,
              "#46039f"
             ],
             [
              0.2222222222222222,
              "#7201a8"
             ],
             [
              0.3333333333333333,
              "#9c179e"
             ],
             [
              0.4444444444444444,
              "#bd3786"
             ],
             [
              0.5555555555555556,
              "#d8576b"
             ],
             [
              0.6666666666666666,
              "#ed7953"
             ],
             [
              0.7777777777777778,
              "#fb9f3a"
             ],
             [
              0.8888888888888888,
              "#fdca26"
             ],
             [
              1,
              "#f0f921"
             ]
            ],
            "type": "histogram2dcontour"
           }
          ],
          "mesh3d": [
           {
            "colorbar": {
             "outlinewidth": 0,
             "ticks": ""
            },
            "type": "mesh3d"
           }
          ],
          "parcoords": [
           {
            "line": {
             "colorbar": {
              "outlinewidth": 0,
              "ticks": ""
             }
            },
            "type": "parcoords"
           }
          ],
          "pie": [
           {
            "automargin": true,
            "type": "pie"
           }
          ],
          "scatter": [
           {
            "fillpattern": {
             "fillmode": "overlay",
             "size": 10,
             "solidity": 0.2
            },
            "type": "scatter"
           }
          ],
          "scatter3d": [
           {
            "line": {
             "colorbar": {
              "outlinewidth": 0,
              "ticks": ""
             }
            },
            "marker": {
             "colorbar": {
              "outlinewidth": 0,
              "ticks": ""
             }
            },
            "type": "scatter3d"
           }
          ],
          "scattercarpet": [
           {
            "marker": {
             "colorbar": {
              "outlinewidth": 0,
              "ticks": ""
             }
            },
            "type": "scattercarpet"
           }
          ],
          "scattergeo": [
           {
            "marker": {
             "colorbar": {
              "outlinewidth": 0,
              "ticks": ""
             }
            },
            "type": "scattergeo"
           }
          ],
          "scattergl": [
           {
            "marker": {
             "colorbar": {
              "outlinewidth": 0,
              "ticks": ""
             }
            },
            "type": "scattergl"
           }
          ],
          "scattermap": [
           {
            "marker": {
             "colorbar": {
              "outlinewidth": 0,
              "ticks": ""
             }
            },
            "type": "scattermap"
           }
          ],
          "scattermapbox": [
           {
            "marker": {
             "colorbar": {
              "outlinewidth": 0,
              "ticks": ""
             }
            },
            "type": "scattermapbox"
           }
          ],
          "scatterpolar": [
           {
            "marker": {
             "colorbar": {
              "outlinewidth": 0,
              "ticks": ""
             }
            },
            "type": "scatterpolar"
           }
          ],
          "scatterpolargl": [
           {
            "marker": {
             "colorbar": {
              "outlinewidth": 0,
              "ticks": ""
             }
            },
            "type": "scatterpolargl"
           }
          ],
          "scatterternary": [
           {
            "marker": {
             "colorbar": {
              "outlinewidth": 0,
              "ticks": ""
             }
            },
            "type": "scatterternary"
           }
          ],
          "surface": [
           {
            "colorbar": {
             "outlinewidth": 0,
             "ticks": ""
            },
            "colorscale": [
             [
              0,
              "#0d0887"
             ],
             [
              0.1111111111111111,
              "#46039f"
             ],
             [
              0.2222222222222222,
              "#7201a8"
             ],
             [
              0.3333333333333333,
              "#9c179e"
             ],
             [
              0.4444444444444444,
              "#bd3786"
             ],
             [
              0.5555555555555556,
              "#d8576b"
             ],
             [
              0.6666666666666666,
              "#ed7953"
             ],
             [
              0.7777777777777778,
              "#fb9f3a"
             ],
             [
              0.8888888888888888,
              "#fdca26"
             ],
             [
              1,
              "#f0f921"
             ]
            ],
            "type": "surface"
           }
          ],
          "table": [
           {
            "cells": {
             "fill": {
              "color": "#EBF0F8"
             },
             "line": {
              "color": "white"
             }
            },
            "header": {
             "fill": {
              "color": "#C8D4E3"
             },
             "line": {
              "color": "white"
             }
            },
            "type": "table"
           }
          ]
         },
         "layout": {
          "annotationdefaults": {
           "arrowcolor": "#2a3f5f",
           "arrowhead": 0,
           "arrowwidth": 1
          },
          "autotypenumbers": "strict",
          "coloraxis": {
           "colorbar": {
            "outlinewidth": 0,
            "ticks": ""
           }
          },
          "colorscale": {
           "diverging": [
            [
             0,
             "#8e0152"
            ],
            [
             0.1,
             "#c51b7d"
            ],
            [
             0.2,
             "#de77ae"
            ],
            [
             0.3,
             "#f1b6da"
            ],
            [
             0.4,
             "#fde0ef"
            ],
            [
             0.5,
             "#f7f7f7"
            ],
            [
             0.6,
             "#e6f5d0"
            ],
            [
             0.7,
             "#b8e186"
            ],
            [
             0.8,
             "#7fbc41"
            ],
            [
             0.9,
             "#4d9221"
            ],
            [
             1,
             "#276419"
            ]
           ],
           "sequential": [
            [
             0,
             "#0d0887"
            ],
            [
             0.1111111111111111,
             "#46039f"
            ],
            [
             0.2222222222222222,
             "#7201a8"
            ],
            [
             0.3333333333333333,
             "#9c179e"
            ],
            [
             0.4444444444444444,
             "#bd3786"
            ],
            [
             0.5555555555555556,
             "#d8576b"
            ],
            [
             0.6666666666666666,
             "#ed7953"
            ],
            [
             0.7777777777777778,
             "#fb9f3a"
            ],
            [
             0.8888888888888888,
             "#fdca26"
            ],
            [
             1,
             "#f0f921"
            ]
           ],
           "sequentialminus": [
            [
             0,
             "#0d0887"
            ],
            [
             0.1111111111111111,
             "#46039f"
            ],
            [
             0.2222222222222222,
             "#7201a8"
            ],
            [
             0.3333333333333333,
             "#9c179e"
            ],
            [
             0.4444444444444444,
             "#bd3786"
            ],
            [
             0.5555555555555556,
             "#d8576b"
            ],
            [
             0.6666666666666666,
             "#ed7953"
            ],
            [
             0.7777777777777778,
             "#fb9f3a"
            ],
            [
             0.8888888888888888,
             "#fdca26"
            ],
            [
             1,
             "#f0f921"
            ]
           ]
          },
          "colorway": [
           "#636efa",
           "#EF553B",
           "#00cc96",
           "#ab63fa",
           "#FFA15A",
           "#19d3f3",
           "#FF6692",
           "#B6E880",
           "#FF97FF",
           "#FECB52"
          ],
          "font": {
           "color": "#2a3f5f"
          },
          "geo": {
           "bgcolor": "white",
           "lakecolor": "white",
           "landcolor": "#E5ECF6",
           "showlakes": true,
           "showland": true,
           "subunitcolor": "white"
          },
          "hoverlabel": {
           "align": "left"
          },
          "hovermode": "closest",
          "mapbox": {
           "style": "light"
          },
          "paper_bgcolor": "white",
          "plot_bgcolor": "#E5ECF6",
          "polar": {
           "angularaxis": {
            "gridcolor": "white",
            "linecolor": "white",
            "ticks": ""
           },
           "bgcolor": "#E5ECF6",
           "radialaxis": {
            "gridcolor": "white",
            "linecolor": "white",
            "ticks": ""
           }
          },
          "scene": {
           "xaxis": {
            "backgroundcolor": "#E5ECF6",
            "gridcolor": "white",
            "gridwidth": 2,
            "linecolor": "white",
            "showbackground": true,
            "ticks": "",
            "zerolinecolor": "white"
           },
           "yaxis": {
            "backgroundcolor": "#E5ECF6",
            "gridcolor": "white",
            "gridwidth": 2,
            "linecolor": "white",
            "showbackground": true,
            "ticks": "",
            "zerolinecolor": "white"
           },
           "zaxis": {
            "backgroundcolor": "#E5ECF6",
            "gridcolor": "white",
            "gridwidth": 2,
            "linecolor": "white",
            "showbackground": true,
            "ticks": "",
            "zerolinecolor": "white"
           }
          },
          "shapedefaults": {
           "line": {
            "color": "#2a3f5f"
           }
          },
          "ternary": {
           "aaxis": {
            "gridcolor": "white",
            "linecolor": "white",
            "ticks": ""
           },
           "baxis": {
            "gridcolor": "white",
            "linecolor": "white",
            "ticks": ""
           },
           "bgcolor": "#E5ECF6",
           "caxis": {
            "gridcolor": "white",
            "linecolor": "white",
            "ticks": ""
           }
          },
          "title": {
           "x": 0.05
          },
          "xaxis": {
           "automargin": true,
           "gridcolor": "white",
           "linecolor": "white",
           "ticks": "",
           "title": {
            "standoff": 15
           },
           "zerolinecolor": "white",
           "zerolinewidth": 2
          },
          "yaxis": {
           "automargin": true,
           "gridcolor": "white",
           "linecolor": "white",
           "ticks": "",
           "title": {
            "standoff": 15
           },
           "zerolinecolor": "white",
           "zerolinewidth": 2
          }
         }
        },
        "title": {
         "text": "Execution time of ForecasterRecursiveMultiSeries__create_train_X_y_series_is_dataframe_no_exog"
        },
        "xaxis": {
         "tickangle": -45,
         "tickmode": "array",
         "ticktext": [
          "0.14.0",
          "0.15.1",
          "0.16.0"
         ],
         "tickvals": [
          0,
          1,
          2
         ],
         "title": {
          "text": "skforecast version"
         }
        },
        "yaxis": {
         "title": {
          "text": "Execution time (seconds)"
         }
        }
       }
      }
     },
     "metadata": {},
     "output_type": "display_data"
    },
    {
     "data": {
      "application/vnd.plotly.v1+json": {
       "config": {
        "plotlyServerURL": "https://plot.ly"
       },
       "data": [
        {
         "error_y": {
          "array": {
           "bdata": "q3sRqBYXKj/ZKtY6qggwPw==",
           "dtype": "f8"
          },
          "color": "#636EFA",
          "thickness": 1.5,
          "type": "data",
          "visible": true,
          "width": 5
         },
         "hovertemplate": "%{text}<extra></extra>",
         "marker": {
          "color": "#636EFA",
          "opacity": 0.7,
          "size": 10
         },
         "mode": "markers",
         "name": "Run time - 0.14.0",
         "showlegend": true,
         "text": [
          "Forecaster: ForecasterRecursiveMultiSeries<br>Regressor: LGBMRegressor<br>Function: ForecasterRecursiveMultiSeries__create_train_X_y_single_series<br>Function_hash: ea2ceb1c912245376ba4cea7595175be<br>Datetime: 2025-04-24 10:41:22.054972<br>Python version: 3.11.10<br>skforecast version: 0.14.0<br>numpy version: 2.1.3<br>pandas version: 2.2.3<br>sklearn version: 1.6.1<br>lightgbm version: 4.5.0<br>Platform: Windows-10-10.0.19045-SP0<br>Processor: Intel64 Family 6 Model 141 Stepping 1, GenuineIntel<br>CPU count: 16<br>Memory (GB): 34.07<br>",
          "Forecaster: ForecasterRecursiveMultiSeries<br>Regressor: LGBMRegressor<br>Function: ForecasterRecursiveMultiSeries__create_train_X_y_single_series<br>Function_hash: ea2ceb1c912245376ba4cea7595175be<br>Datetime: 2025-04-24 11:08:35.727601<br>Python version: 3.11.10<br>skforecast version: 0.14.0<br>numpy version: 2.1.3<br>pandas version: 2.2.3<br>sklearn version: 1.6.1<br>lightgbm version: 4.5.0<br>Platform: Windows-10-10.0.19045-SP0<br>Processor: Intel64 Family 6 Model 141 Stepping 1, GenuineIntel<br>CPU count: 16<br>Memory (GB): 34.07<br>"
         ],
         "type": "scatter",
         "x": {
          "bdata": "fByzX9/Fir9AKClBT8iAPw==",
          "dtype": "f8"
         },
         "y": {
          "bdata": "zczMYHiZTz8zMzP3U0ZQPw==",
          "dtype": "f8"
         }
        },
        {
         "error_y": {
          "array": {
           "bdata": "IYGP1Xu8NT8/g+AMEtYwP/nsUdv2lhw/",
           "dtype": "f8"
          },
          "color": "#EF553B",
          "thickness": 1.5,
          "type": "data",
          "visible": true,
          "width": 5
         },
         "hovertemplate": "%{text}<extra></extra>",
         "marker": {
          "color": "#EF553B",
          "opacity": 0.7,
          "size": 10
         },
         "mode": "markers",
         "name": "Run time - 0.15.1",
         "showlegend": true,
         "text": [
          "Forecaster: ForecasterRecursiveMultiSeries<br>Regressor: LGBMRegressor<br>Function: ForecasterRecursiveMultiSeries__create_train_X_y_single_series<br>Function_hash: ea2ceb1c912245376ba4cea7595175be<br>Datetime: 2025-04-24 10:34:25.258910<br>Python version: 3.11.10<br>skforecast version: 0.15.1<br>numpy version: 2.1.3<br>pandas version: 2.2.3<br>sklearn version: 1.6.1<br>lightgbm version: 4.5.0<br>Platform: Windows-10-10.0.19045-SP0<br>Processor: Intel64 Family 6 Model 141 Stepping 1, GenuineIntel<br>CPU count: 16<br>Memory (GB): 34.07<br>",
          "Forecaster: ForecasterRecursiveMultiSeries<br>Regressor: LGBMRegressor<br>Function: ForecasterRecursiveMultiSeries__create_train_X_y_single_series<br>Function_hash: ea2ceb1c912245376ba4cea7595175be<br>Datetime: 2025-04-24 11:17:43.625303<br>Python version: 3.11.10<br>skforecast version: 0.15.1<br>numpy version: 2.1.3<br>pandas version: 2.2.3<br>sklearn version: 1.6.1<br>lightgbm version: 4.5.0<br>Platform: Windows-10-10.0.19045-SP0<br>Processor: Intel64 Family 6 Model 141 Stepping 1, GenuineIntel<br>CPU count: 16<br>Memory (GB): 34.07<br>",
          "Forecaster: ForecasterRecursiveMultiSeries<br>Regressor: LGBMRegressor<br>Function: ForecasterRecursiveMultiSeries__create_train_X_y_single_series<br>Function_hash: ea2ceb1c912245376ba4cea7595175be<br>Datetime: 2025-04-24 22:50:47.039865<br>Python version: 3.12.9<br>skforecast version: 0.15.1<br>numpy version: 2.2.5<br>pandas version: 2.2.3<br>sklearn version: 1.6.1<br>lightgbm version: 4.6.0<br>Platform: Linux-6.11.0-24-generic-x86_64-with-glibc2.39<br>Processor: x86_64<br>CPU count: 8<br>Memory (GB): 16.64<br>"
         ],
         "type": "scatter",
         "x": {
          "bdata": "WsufM0wh8D/sid4cvavwP0fPO5Hnwu4/",
          "dtype": "f8"
         },
         "y": {
          "bdata": "zczMrmy0Vj8zMzNHFvZVP83MDNjJk14/",
          "dtype": "f8"
         }
        },
        {
         "error_y": {
          "array": {
           "bdata": "BqolJERBQT+OxcA3HbIlP9anQTY4Txg/",
           "dtype": "f8"
          },
          "color": "#00CC96",
          "thickness": 1.5,
          "type": "data",
          "visible": true,
          "width": 5
         },
         "hovertemplate": "%{text}<extra></extra>",
         "marker": {
          "color": "#00CC96",
          "opacity": 0.7,
          "size": 10
         },
         "mode": "markers",
         "name": "Run time - 0.16.0",
         "showlegend": true,
         "text": [
          "Forecaster: ForecasterRecursiveMultiSeries<br>Regressor: LGBMRegressor<br>Function: ForecasterRecursiveMultiSeries__create_train_X_y_single_series<br>Function_hash: ea2ceb1c912245376ba4cea7595175be<br>Datetime: 2025-04-24 18:03:46.716793<br>Python version: 3.11.10<br>skforecast version: 0.16.0<br>numpy version: 2.2.5<br>pandas version: 2.2.3<br>sklearn version: 1.6.1<br>lightgbm version: 4.5.0<br>Platform: Windows-10-10.0.19045-SP0<br>Processor: Intel64 Family 6 Model 141 Stepping 1, GenuineIntel<br>CPU count: 16<br>Memory (GB): 34.07<br>",
          "Forecaster: ForecasterRecursiveMultiSeries<br>Regressor: LGBMRegressor<br>Function: ForecasterRecursiveMultiSeries__create_train_X_y_single_series<br>Function_hash: ea2ceb1c912245376ba4cea7595175be<br>Datetime: 2025-04-24 18:17:40.787470<br>Python version: 3.11.10<br>skforecast version: 0.16.0<br>numpy version: 2.2.5<br>pandas version: 2.2.3<br>sklearn version: 1.6.1<br>lightgbm version: 4.5.0<br>Platform: Windows-10-10.0.19045-SP0<br>Processor: Intel64 Family 6 Model 141 Stepping 1, GenuineIntel<br>CPU count: 16<br>Memory (GB): 34.07<br>",
          "Forecaster: ForecasterRecursiveMultiSeries<br>Regressor: LGBMRegressor<br>Function: ForecasterRecursiveMultiSeries__create_train_X_y_single_series<br>Function_hash: ea2ceb1c912245376ba4cea7595175be<br>Datetime: 2025-04-24 22:34:58.212120<br>Python version: 3.12.9<br>skforecast version: 0.16.0<br>numpy version: 2.2.5<br>pandas version: 2.2.3<br>sklearn version: 1.6.1<br>lightgbm version: 4.6.0<br>Platform: Linux-6.11.0-24-generic-x86_64-with-glibc2.39<br>Processor: x86_64<br>CPU count: 8<br>Memory (GB): 16.64<br>"
         ],
         "type": "scatter",
         "x": {
          "bdata": "XrVHMA+T/z88lcAF1isAQAT0BEErOwBA",
          "dtype": "f8"
         },
         "y": {
          "bdata": "AAAAFM2oTj8AAABM54FHP83MzL+sF04/",
          "dtype": "f8"
         }
        },
        {
         "line": {
          "color": "black",
          "width": 2
         },
         "marker": {
          "color": "black",
          "size": 8
         },
         "mode": "lines+markers",
         "name": "Median (per version)",
         "type": "scatter",
         "x": {
          "bdata": "AAEC",
          "dtype": "i1"
         },
         "y": {
          "bdata": "zczME4gJUD/NzMyubLRWP83MzL+sF04/",
          "dtype": "f8"
         }
        },
        {
         "line": {
          "color": "black",
          "dash": "dash",
          "width": 2
         },
         "marker": {
          "color": "black",
          "size": 8
         },
         "mode": "lines+markers",
         "name": "Mean (per version)",
         "type": "scatter",
         "x": {
          "bdata": "AAEC",
          "dtype": "i1"
         },
         "y": {
          "bdata": "zczME4gJUD/v7q5ExBRZP+/u7l8gFkw/",
          "dtype": "f8"
         }
        }
       ],
       "layout": {
        "showlegend": true,
        "template": {
         "data": {
          "bar": [
           {
            "error_x": {
             "color": "#2a3f5f"
            },
            "error_y": {
             "color": "#2a3f5f"
            },
            "marker": {
             "line": {
              "color": "#E5ECF6",
              "width": 0.5
             },
             "pattern": {
              "fillmode": "overlay",
              "size": 10,
              "solidity": 0.2
             }
            },
            "type": "bar"
           }
          ],
          "barpolar": [
           {
            "marker": {
             "line": {
              "color": "#E5ECF6",
              "width": 0.5
             },
             "pattern": {
              "fillmode": "overlay",
              "size": 10,
              "solidity": 0.2
             }
            },
            "type": "barpolar"
           }
          ],
          "carpet": [
           {
            "aaxis": {
             "endlinecolor": "#2a3f5f",
             "gridcolor": "white",
             "linecolor": "white",
             "minorgridcolor": "white",
             "startlinecolor": "#2a3f5f"
            },
            "baxis": {
             "endlinecolor": "#2a3f5f",
             "gridcolor": "white",
             "linecolor": "white",
             "minorgridcolor": "white",
             "startlinecolor": "#2a3f5f"
            },
            "type": "carpet"
           }
          ],
          "choropleth": [
           {
            "colorbar": {
             "outlinewidth": 0,
             "ticks": ""
            },
            "type": "choropleth"
           }
          ],
          "contour": [
           {
            "colorbar": {
             "outlinewidth": 0,
             "ticks": ""
            },
            "colorscale": [
             [
              0,
              "#0d0887"
             ],
             [
              0.1111111111111111,
              "#46039f"
             ],
             [
              0.2222222222222222,
              "#7201a8"
             ],
             [
              0.3333333333333333,
              "#9c179e"
             ],
             [
              0.4444444444444444,
              "#bd3786"
             ],
             [
              0.5555555555555556,
              "#d8576b"
             ],
             [
              0.6666666666666666,
              "#ed7953"
             ],
             [
              0.7777777777777778,
              "#fb9f3a"
             ],
             [
              0.8888888888888888,
              "#fdca26"
             ],
             [
              1,
              "#f0f921"
             ]
            ],
            "type": "contour"
           }
          ],
          "contourcarpet": [
           {
            "colorbar": {
             "outlinewidth": 0,
             "ticks": ""
            },
            "type": "contourcarpet"
           }
          ],
          "heatmap": [
           {
            "colorbar": {
             "outlinewidth": 0,
             "ticks": ""
            },
            "colorscale": [
             [
              0,
              "#0d0887"
             ],
             [
              0.1111111111111111,
              "#46039f"
             ],
             [
              0.2222222222222222,
              "#7201a8"
             ],
             [
              0.3333333333333333,
              "#9c179e"
             ],
             [
              0.4444444444444444,
              "#bd3786"
             ],
             [
              0.5555555555555556,
              "#d8576b"
             ],
             [
              0.6666666666666666,
              "#ed7953"
             ],
             [
              0.7777777777777778,
              "#fb9f3a"
             ],
             [
              0.8888888888888888,
              "#fdca26"
             ],
             [
              1,
              "#f0f921"
             ]
            ],
            "type": "heatmap"
           }
          ],
          "histogram": [
           {
            "marker": {
             "pattern": {
              "fillmode": "overlay",
              "size": 10,
              "solidity": 0.2
             }
            },
            "type": "histogram"
           }
          ],
          "histogram2d": [
           {
            "colorbar": {
             "outlinewidth": 0,
             "ticks": ""
            },
            "colorscale": [
             [
              0,
              "#0d0887"
             ],
             [
              0.1111111111111111,
              "#46039f"
             ],
             [
              0.2222222222222222,
              "#7201a8"
             ],
             [
              0.3333333333333333,
              "#9c179e"
             ],
             [
              0.4444444444444444,
              "#bd3786"
             ],
             [
              0.5555555555555556,
              "#d8576b"
             ],
             [
              0.6666666666666666,
              "#ed7953"
             ],
             [
              0.7777777777777778,
              "#fb9f3a"
             ],
             [
              0.8888888888888888,
              "#fdca26"
             ],
             [
              1,
              "#f0f921"
             ]
            ],
            "type": "histogram2d"
           }
          ],
          "histogram2dcontour": [
           {
            "colorbar": {
             "outlinewidth": 0,
             "ticks": ""
            },
            "colorscale": [
             [
              0,
              "#0d0887"
             ],
             [
              0.1111111111111111,
              "#46039f"
             ],
             [
              0.2222222222222222,
              "#7201a8"
             ],
             [
              0.3333333333333333,
              "#9c179e"
             ],
             [
              0.4444444444444444,
              "#bd3786"
             ],
             [
              0.5555555555555556,
              "#d8576b"
             ],
             [
              0.6666666666666666,
              "#ed7953"
             ],
             [
              0.7777777777777778,
              "#fb9f3a"
             ],
             [
              0.8888888888888888,
              "#fdca26"
             ],
             [
              1,
              "#f0f921"
             ]
            ],
            "type": "histogram2dcontour"
           }
          ],
          "mesh3d": [
           {
            "colorbar": {
             "outlinewidth": 0,
             "ticks": ""
            },
            "type": "mesh3d"
           }
          ],
          "parcoords": [
           {
            "line": {
             "colorbar": {
              "outlinewidth": 0,
              "ticks": ""
             }
            },
            "type": "parcoords"
           }
          ],
          "pie": [
           {
            "automargin": true,
            "type": "pie"
           }
          ],
          "scatter": [
           {
            "fillpattern": {
             "fillmode": "overlay",
             "size": 10,
             "solidity": 0.2
            },
            "type": "scatter"
           }
          ],
          "scatter3d": [
           {
            "line": {
             "colorbar": {
              "outlinewidth": 0,
              "ticks": ""
             }
            },
            "marker": {
             "colorbar": {
              "outlinewidth": 0,
              "ticks": ""
             }
            },
            "type": "scatter3d"
           }
          ],
          "scattercarpet": [
           {
            "marker": {
             "colorbar": {
              "outlinewidth": 0,
              "ticks": ""
             }
            },
            "type": "scattercarpet"
           }
          ],
          "scattergeo": [
           {
            "marker": {
             "colorbar": {
              "outlinewidth": 0,
              "ticks": ""
             }
            },
            "type": "scattergeo"
           }
          ],
          "scattergl": [
           {
            "marker": {
             "colorbar": {
              "outlinewidth": 0,
              "ticks": ""
             }
            },
            "type": "scattergl"
           }
          ],
          "scattermap": [
           {
            "marker": {
             "colorbar": {
              "outlinewidth": 0,
              "ticks": ""
             }
            },
            "type": "scattermap"
           }
          ],
          "scattermapbox": [
           {
            "marker": {
             "colorbar": {
              "outlinewidth": 0,
              "ticks": ""
             }
            },
            "type": "scattermapbox"
           }
          ],
          "scatterpolar": [
           {
            "marker": {
             "colorbar": {
              "outlinewidth": 0,
              "ticks": ""
             }
            },
            "type": "scatterpolar"
           }
          ],
          "scatterpolargl": [
           {
            "marker": {
             "colorbar": {
              "outlinewidth": 0,
              "ticks": ""
             }
            },
            "type": "scatterpolargl"
           }
          ],
          "scatterternary": [
           {
            "marker": {
             "colorbar": {
              "outlinewidth": 0,
              "ticks": ""
             }
            },
            "type": "scatterternary"
           }
          ],
          "surface": [
           {
            "colorbar": {
             "outlinewidth": 0,
             "ticks": ""
            },
            "colorscale": [
             [
              0,
              "#0d0887"
             ],
             [
              0.1111111111111111,
              "#46039f"
             ],
             [
              0.2222222222222222,
              "#7201a8"
             ],
             [
              0.3333333333333333,
              "#9c179e"
             ],
             [
              0.4444444444444444,
              "#bd3786"
             ],
             [
              0.5555555555555556,
              "#d8576b"
             ],
             [
              0.6666666666666666,
              "#ed7953"
             ],
             [
              0.7777777777777778,
              "#fb9f3a"
             ],
             [
              0.8888888888888888,
              "#fdca26"
             ],
             [
              1,
              "#f0f921"
             ]
            ],
            "type": "surface"
           }
          ],
          "table": [
           {
            "cells": {
             "fill": {
              "color": "#EBF0F8"
             },
             "line": {
              "color": "white"
             }
            },
            "header": {
             "fill": {
              "color": "#C8D4E3"
             },
             "line": {
              "color": "white"
             }
            },
            "type": "table"
           }
          ]
         },
         "layout": {
          "annotationdefaults": {
           "arrowcolor": "#2a3f5f",
           "arrowhead": 0,
           "arrowwidth": 1
          },
          "autotypenumbers": "strict",
          "coloraxis": {
           "colorbar": {
            "outlinewidth": 0,
            "ticks": ""
           }
          },
          "colorscale": {
           "diverging": [
            [
             0,
             "#8e0152"
            ],
            [
             0.1,
             "#c51b7d"
            ],
            [
             0.2,
             "#de77ae"
            ],
            [
             0.3,
             "#f1b6da"
            ],
            [
             0.4,
             "#fde0ef"
            ],
            [
             0.5,
             "#f7f7f7"
            ],
            [
             0.6,
             "#e6f5d0"
            ],
            [
             0.7,
             "#b8e186"
            ],
            [
             0.8,
             "#7fbc41"
            ],
            [
             0.9,
             "#4d9221"
            ],
            [
             1,
             "#276419"
            ]
           ],
           "sequential": [
            [
             0,
             "#0d0887"
            ],
            [
             0.1111111111111111,
             "#46039f"
            ],
            [
             0.2222222222222222,
             "#7201a8"
            ],
            [
             0.3333333333333333,
             "#9c179e"
            ],
            [
             0.4444444444444444,
             "#bd3786"
            ],
            [
             0.5555555555555556,
             "#d8576b"
            ],
            [
             0.6666666666666666,
             "#ed7953"
            ],
            [
             0.7777777777777778,
             "#fb9f3a"
            ],
            [
             0.8888888888888888,
             "#fdca26"
            ],
            [
             1,
             "#f0f921"
            ]
           ],
           "sequentialminus": [
            [
             0,
             "#0d0887"
            ],
            [
             0.1111111111111111,
             "#46039f"
            ],
            [
             0.2222222222222222,
             "#7201a8"
            ],
            [
             0.3333333333333333,
             "#9c179e"
            ],
            [
             0.4444444444444444,
             "#bd3786"
            ],
            [
             0.5555555555555556,
             "#d8576b"
            ],
            [
             0.6666666666666666,
             "#ed7953"
            ],
            [
             0.7777777777777778,
             "#fb9f3a"
            ],
            [
             0.8888888888888888,
             "#fdca26"
            ],
            [
             1,
             "#f0f921"
            ]
           ]
          },
          "colorway": [
           "#636efa",
           "#EF553B",
           "#00cc96",
           "#ab63fa",
           "#FFA15A",
           "#19d3f3",
           "#FF6692",
           "#B6E880",
           "#FF97FF",
           "#FECB52"
          ],
          "font": {
           "color": "#2a3f5f"
          },
          "geo": {
           "bgcolor": "white",
           "lakecolor": "white",
           "landcolor": "#E5ECF6",
           "showlakes": true,
           "showland": true,
           "subunitcolor": "white"
          },
          "hoverlabel": {
           "align": "left"
          },
          "hovermode": "closest",
          "mapbox": {
           "style": "light"
          },
          "paper_bgcolor": "white",
          "plot_bgcolor": "#E5ECF6",
          "polar": {
           "angularaxis": {
            "gridcolor": "white",
            "linecolor": "white",
            "ticks": ""
           },
           "bgcolor": "#E5ECF6",
           "radialaxis": {
            "gridcolor": "white",
            "linecolor": "white",
            "ticks": ""
           }
          },
          "scene": {
           "xaxis": {
            "backgroundcolor": "#E5ECF6",
            "gridcolor": "white",
            "gridwidth": 2,
            "linecolor": "white",
            "showbackground": true,
            "ticks": "",
            "zerolinecolor": "white"
           },
           "yaxis": {
            "backgroundcolor": "#E5ECF6",
            "gridcolor": "white",
            "gridwidth": 2,
            "linecolor": "white",
            "showbackground": true,
            "ticks": "",
            "zerolinecolor": "white"
           },
           "zaxis": {
            "backgroundcolor": "#E5ECF6",
            "gridcolor": "white",
            "gridwidth": 2,
            "linecolor": "white",
            "showbackground": true,
            "ticks": "",
            "zerolinecolor": "white"
           }
          },
          "shapedefaults": {
           "line": {
            "color": "#2a3f5f"
           }
          },
          "ternary": {
           "aaxis": {
            "gridcolor": "white",
            "linecolor": "white",
            "ticks": ""
           },
           "baxis": {
            "gridcolor": "white",
            "linecolor": "white",
            "ticks": ""
           },
           "bgcolor": "#E5ECF6",
           "caxis": {
            "gridcolor": "white",
            "linecolor": "white",
            "ticks": ""
           }
          },
          "title": {
           "x": 0.05
          },
          "xaxis": {
           "automargin": true,
           "gridcolor": "white",
           "linecolor": "white",
           "ticks": "",
           "title": {
            "standoff": 15
           },
           "zerolinecolor": "white",
           "zerolinewidth": 2
          },
          "yaxis": {
           "automargin": true,
           "gridcolor": "white",
           "linecolor": "white",
           "ticks": "",
           "title": {
            "standoff": 15
           },
           "zerolinecolor": "white",
           "zerolinewidth": 2
          }
         }
        },
        "title": {
         "text": "Execution time of ForecasterRecursiveMultiSeries__create_train_X_y_single_series"
        },
        "xaxis": {
         "tickangle": -45,
         "tickmode": "array",
         "ticktext": [
          "0.14.0",
          "0.15.1",
          "0.16.0"
         ],
         "tickvals": [
          0,
          1,
          2
         ],
         "title": {
          "text": "skforecast version"
         }
        },
        "yaxis": {
         "title": {
          "text": "Execution time (seconds)"
         }
        }
       }
      }
     },
     "metadata": {},
     "output_type": "display_data"
    },
    {
     "data": {
      "application/vnd.plotly.v1+json": {
       "config": {
        "plotlyServerURL": "https://plot.ly"
       },
       "data": [
        {
         "error_y": {
          "array": {
           "bdata": "ZnVBWG2Dkz9vmfrJBduXPw==",
           "dtype": "f8"
          },
          "color": "#636EFA",
          "thickness": 1.5,
          "type": "data",
          "visible": true,
          "width": 5
         },
         "hovertemplate": "%{text}<extra></extra>",
         "marker": {
          "color": "#636EFA",
          "opacity": 0.7,
          "size": 10
         },
         "mode": "markers",
         "name": "Run time - 0.14.0",
         "showlegend": true,
         "text": [
          "Forecaster: ForecasterRecursiveMultiSeries<br>Regressor: LGBMRegressor<br>Function: ForecasterRecursiveMultiSeries_predict_exog_is_dict<br>Function_hash: 451898dccb92cc6f0a674d62eb66e4d8<br>Datetime: 2025-04-24 10:41:33.410151<br>Python version: 3.11.10<br>skforecast version: 0.14.0<br>numpy version: 2.1.3<br>pandas version: 2.2.3<br>sklearn version: 1.6.1<br>lightgbm version: 4.5.0<br>Platform: Windows-10-10.0.19045-SP0<br>Processor: Intel64 Family 6 Model 141 Stepping 1, GenuineIntel<br>CPU count: 16<br>Memory (GB): 34.07<br>",
          "Forecaster: ForecasterRecursiveMultiSeries<br>Regressor: LGBMRegressor<br>Function: ForecasterRecursiveMultiSeries_predict_exog_is_dict<br>Function_hash: 451898dccb92cc6f0a674d62eb66e4d8<br>Datetime: 2025-04-24 11:08:47.158365<br>Python version: 3.11.10<br>skforecast version: 0.14.0<br>numpy version: 2.1.3<br>pandas version: 2.2.3<br>sklearn version: 1.6.1<br>lightgbm version: 4.5.0<br>Platform: Windows-10-10.0.19045-SP0<br>Processor: Intel64 Family 6 Model 141 Stepping 1, GenuineIntel<br>CPU count: 16<br>Memory (GB): 34.07<br>"
         ],
         "type": "scatter",
         "x": {
          "bdata": "fByzX9/Fir9AKClBT8iAPw==",
          "dtype": "f8"
         },
         "y": {
          "bdata": "ZuaUDEIh8j8zM5XMd0HyPw==",
          "dtype": "f8"
         }
        },
        {
         "error_y": {
          "array": {
           "bdata": "DGNbVNe4rT92Zp8ArsyvP/oAbZw/EJE/",
           "dtype": "f8"
          },
          "color": "#EF553B",
          "thickness": 1.5,
          "type": "data",
          "visible": true,
          "width": 5
         },
         "hovertemplate": "%{text}<extra></extra>",
         "marker": {
          "color": "#EF553B",
          "opacity": 0.7,
          "size": 10
         },
         "mode": "markers",
         "name": "Run time - 0.15.1",
         "showlegend": true,
         "text": [
          "Forecaster: ForecasterRecursiveMultiSeries<br>Regressor: LGBMRegressor<br>Function: ForecasterRecursiveMultiSeries_predict_exog_is_dict<br>Function_hash: 451898dccb92cc6f0a674d62eb66e4d8<br>Datetime: 2025-04-24 10:34:38.836399<br>Python version: 3.11.10<br>skforecast version: 0.15.1<br>numpy version: 2.1.3<br>pandas version: 2.2.3<br>sklearn version: 1.6.1<br>lightgbm version: 4.5.0<br>Platform: Windows-10-10.0.19045-SP0<br>Processor: Intel64 Family 6 Model 141 Stepping 1, GenuineIntel<br>CPU count: 16<br>Memory (GB): 34.07<br>",
          "Forecaster: ForecasterRecursiveMultiSeries<br>Regressor: LGBMRegressor<br>Function: ForecasterRecursiveMultiSeries_predict_exog_is_dict<br>Function_hash: 451898dccb92cc6f0a674d62eb66e4d8<br>Datetime: 2025-04-24 11:17:57.213546<br>Python version: 3.11.10<br>skforecast version: 0.15.1<br>numpy version: 2.1.3<br>pandas version: 2.2.3<br>sklearn version: 1.6.1<br>lightgbm version: 4.5.0<br>Platform: Windows-10-10.0.19045-SP0<br>Processor: Intel64 Family 6 Model 141 Stepping 1, GenuineIntel<br>CPU count: 16<br>Memory (GB): 34.07<br>",
          "Forecaster: ForecasterRecursiveMultiSeries<br>Regressor: LGBMRegressor<br>Function: ForecasterRecursiveMultiSeries_predict_exog_is_dict<br>Function_hash: 451898dccb92cc6f0a674d62eb66e4d8<br>Datetime: 2025-04-24 22:53:04.961432<br>Python version: 3.12.9<br>skforecast version: 0.15.1<br>numpy version: 2.2.5<br>pandas version: 2.2.3<br>sklearn version: 1.6.1<br>lightgbm version: 4.6.0<br>Platform: Linux-6.11.0-24-generic-x86_64-with-glibc2.39<br>Processor: x86_64<br>CPU count: 8<br>Memory (GB): 16.64<br>"
         ],
         "type": "scatter",
         "x": {
          "bdata": "WsufM0wh8D/sid4cvavwP0fPO5Hnwu4/",
          "dtype": "f8"
         },
         "y": {
          "bdata": "mhmOLXiv9T/NzOQQL7f1P82cXn4UZvo/",
          "dtype": "f8"
         }
        },
        {
         "error_y": {
          "array": {
           "bdata": "DdX6RzgIrT8IJySpYuekP5yuK4gWj6Q/",
           "dtype": "f8"
          },
          "color": "#00CC96",
          "thickness": 1.5,
          "type": "data",
          "visible": true,
          "width": 5
         },
         "hovertemplate": "%{text}<extra></extra>",
         "marker": {
          "color": "#00CC96",
          "opacity": 0.7,
          "size": 10
         },
         "mode": "markers",
         "name": "Run time - 0.16.0",
         "showlegend": true,
         "text": [
          "Forecaster: ForecasterRecursiveMultiSeries<br>Regressor: LGBMRegressor<br>Function: ForecasterRecursiveMultiSeries_predict_exog_is_dict<br>Function_hash: 451898dccb92cc6f0a674d62eb66e4d8<br>Datetime: 2025-04-24 18:03:51.016699<br>Python version: 3.11.10<br>skforecast version: 0.16.0<br>numpy version: 2.2.5<br>pandas version: 2.2.3<br>sklearn version: 1.6.1<br>lightgbm version: 4.5.0<br>Platform: Windows-10-10.0.19045-SP0<br>Processor: Intel64 Family 6 Model 141 Stepping 1, GenuineIntel<br>CPU count: 16<br>Memory (GB): 34.07<br>",
          "Forecaster: ForecasterRecursiveMultiSeries<br>Regressor: LGBMRegressor<br>Function: ForecasterRecursiveMultiSeries_predict_exog_is_dict<br>Function_hash: 451898dccb92cc6f0a674d62eb66e4d8<br>Datetime: 2025-04-24 18:18:53.042930<br>Python version: 3.11.10<br>skforecast version: 0.16.0<br>numpy version: 2.2.5<br>pandas version: 2.2.3<br>sklearn version: 1.6.1<br>lightgbm version: 4.5.0<br>Platform: Windows-10-10.0.19045-SP0<br>Processor: Intel64 Family 6 Model 141 Stepping 1, GenuineIntel<br>CPU count: 16<br>Memory (GB): 34.07<br>",
          "Forecaster: ForecasterRecursiveMultiSeries<br>Regressor: LGBMRegressor<br>Function: ForecasterRecursiveMultiSeries_predict_exog_is_dict<br>Function_hash: 451898dccb92cc6f0a674d62eb66e4d8<br>Datetime: 2025-04-24 22:36:49.378715<br>Python version: 3.12.9<br>skforecast version: 0.16.0<br>numpy version: 2.2.5<br>pandas version: 2.2.3<br>sklearn version: 1.6.1<br>lightgbm version: 4.6.0<br>Platform: Linux-6.11.0-24-generic-x86_64-with-glibc2.39<br>Processor: x86_64<br>CPU count: 8<br>Memory (GB): 16.64<br>"
         ],
         "type": "scatter",
         "x": {
          "bdata": "XrVHMA+T/z88lcAF1isAQAT0BEErOwBA",
          "dtype": "f8"
         },
         "y": {
          "bdata": "ZmZO9X1b2z8zM3dFUyrWPzNzYrumsNw/",
          "dtype": "f8"
         }
        },
        {
         "line": {
          "color": "black",
          "width": 2
         },
         "marker": {
          "color": "black",
          "size": 8
         },
         "mode": "lines+markers",
         "name": "Median (per version)",
         "type": "scatter",
         "x": {
          "bdata": "AAEC",
          "dtype": "i1"
         },
         "y": {
          "bdata": "zAyV7Fwx8j/NzOQQL7f1P2ZmTvV9W9s/",
          "dtype": "f8"
         }
        },
        {
         "line": {
          "color": "black",
          "dash": "dash",
          "width": 2
         },
         "marker": {
          "color": "black",
          "size": 8
         },
         "mode": "lines+markers",
         "name": "Mean (per version)",
         "type": "scatter",
         "x": {
          "bdata": "AAEC",
          "dtype": "i1"
         },
         "y": {
          "bdata": "zAyV7Fwx8j9n1kWUPkT3P0QEuPwnEto/",
          "dtype": "f8"
         }
        }
       ],
       "layout": {
        "showlegend": true,
        "template": {
         "data": {
          "bar": [
           {
            "error_x": {
             "color": "#2a3f5f"
            },
            "error_y": {
             "color": "#2a3f5f"
            },
            "marker": {
             "line": {
              "color": "#E5ECF6",
              "width": 0.5
             },
             "pattern": {
              "fillmode": "overlay",
              "size": 10,
              "solidity": 0.2
             }
            },
            "type": "bar"
           }
          ],
          "barpolar": [
           {
            "marker": {
             "line": {
              "color": "#E5ECF6",
              "width": 0.5
             },
             "pattern": {
              "fillmode": "overlay",
              "size": 10,
              "solidity": 0.2
             }
            },
            "type": "barpolar"
           }
          ],
          "carpet": [
           {
            "aaxis": {
             "endlinecolor": "#2a3f5f",
             "gridcolor": "white",
             "linecolor": "white",
             "minorgridcolor": "white",
             "startlinecolor": "#2a3f5f"
            },
            "baxis": {
             "endlinecolor": "#2a3f5f",
             "gridcolor": "white",
             "linecolor": "white",
             "minorgridcolor": "white",
             "startlinecolor": "#2a3f5f"
            },
            "type": "carpet"
           }
          ],
          "choropleth": [
           {
            "colorbar": {
             "outlinewidth": 0,
             "ticks": ""
            },
            "type": "choropleth"
           }
          ],
          "contour": [
           {
            "colorbar": {
             "outlinewidth": 0,
             "ticks": ""
            },
            "colorscale": [
             [
              0,
              "#0d0887"
             ],
             [
              0.1111111111111111,
              "#46039f"
             ],
             [
              0.2222222222222222,
              "#7201a8"
             ],
             [
              0.3333333333333333,
              "#9c179e"
             ],
             [
              0.4444444444444444,
              "#bd3786"
             ],
             [
              0.5555555555555556,
              "#d8576b"
             ],
             [
              0.6666666666666666,
              "#ed7953"
             ],
             [
              0.7777777777777778,
              "#fb9f3a"
             ],
             [
              0.8888888888888888,
              "#fdca26"
             ],
             [
              1,
              "#f0f921"
             ]
            ],
            "type": "contour"
           }
          ],
          "contourcarpet": [
           {
            "colorbar": {
             "outlinewidth": 0,
             "ticks": ""
            },
            "type": "contourcarpet"
           }
          ],
          "heatmap": [
           {
            "colorbar": {
             "outlinewidth": 0,
             "ticks": ""
            },
            "colorscale": [
             [
              0,
              "#0d0887"
             ],
             [
              0.1111111111111111,
              "#46039f"
             ],
             [
              0.2222222222222222,
              "#7201a8"
             ],
             [
              0.3333333333333333,
              "#9c179e"
             ],
             [
              0.4444444444444444,
              "#bd3786"
             ],
             [
              0.5555555555555556,
              "#d8576b"
             ],
             [
              0.6666666666666666,
              "#ed7953"
             ],
             [
              0.7777777777777778,
              "#fb9f3a"
             ],
             [
              0.8888888888888888,
              "#fdca26"
             ],
             [
              1,
              "#f0f921"
             ]
            ],
            "type": "heatmap"
           }
          ],
          "histogram": [
           {
            "marker": {
             "pattern": {
              "fillmode": "overlay",
              "size": 10,
              "solidity": 0.2
             }
            },
            "type": "histogram"
           }
          ],
          "histogram2d": [
           {
            "colorbar": {
             "outlinewidth": 0,
             "ticks": ""
            },
            "colorscale": [
             [
              0,
              "#0d0887"
             ],
             [
              0.1111111111111111,
              "#46039f"
             ],
             [
              0.2222222222222222,
              "#7201a8"
             ],
             [
              0.3333333333333333,
              "#9c179e"
             ],
             [
              0.4444444444444444,
              "#bd3786"
             ],
             [
              0.5555555555555556,
              "#d8576b"
             ],
             [
              0.6666666666666666,
              "#ed7953"
             ],
             [
              0.7777777777777778,
              "#fb9f3a"
             ],
             [
              0.8888888888888888,
              "#fdca26"
             ],
             [
              1,
              "#f0f921"
             ]
            ],
            "type": "histogram2d"
           }
          ],
          "histogram2dcontour": [
           {
            "colorbar": {
             "outlinewidth": 0,
             "ticks": ""
            },
            "colorscale": [
             [
              0,
              "#0d0887"
             ],
             [
              0.1111111111111111,
              "#46039f"
             ],
             [
              0.2222222222222222,
              "#7201a8"
             ],
             [
              0.3333333333333333,
              "#9c179e"
             ],
             [
              0.4444444444444444,
              "#bd3786"
             ],
             [
              0.5555555555555556,
              "#d8576b"
             ],
             [
              0.6666666666666666,
              "#ed7953"
             ],
             [
              0.7777777777777778,
              "#fb9f3a"
             ],
             [
              0.8888888888888888,
              "#fdca26"
             ],
             [
              1,
              "#f0f921"
             ]
            ],
            "type": "histogram2dcontour"
           }
          ],
          "mesh3d": [
           {
            "colorbar": {
             "outlinewidth": 0,
             "ticks": ""
            },
            "type": "mesh3d"
           }
          ],
          "parcoords": [
           {
            "line": {
             "colorbar": {
              "outlinewidth": 0,
              "ticks": ""
             }
            },
            "type": "parcoords"
           }
          ],
          "pie": [
           {
            "automargin": true,
            "type": "pie"
           }
          ],
          "scatter": [
           {
            "fillpattern": {
             "fillmode": "overlay",
             "size": 10,
             "solidity": 0.2
            },
            "type": "scatter"
           }
          ],
          "scatter3d": [
           {
            "line": {
             "colorbar": {
              "outlinewidth": 0,
              "ticks": ""
             }
            },
            "marker": {
             "colorbar": {
              "outlinewidth": 0,
              "ticks": ""
             }
            },
            "type": "scatter3d"
           }
          ],
          "scattercarpet": [
           {
            "marker": {
             "colorbar": {
              "outlinewidth": 0,
              "ticks": ""
             }
            },
            "type": "scattercarpet"
           }
          ],
          "scattergeo": [
           {
            "marker": {
             "colorbar": {
              "outlinewidth": 0,
              "ticks": ""
             }
            },
            "type": "scattergeo"
           }
          ],
          "scattergl": [
           {
            "marker": {
             "colorbar": {
              "outlinewidth": 0,
              "ticks": ""
             }
            },
            "type": "scattergl"
           }
          ],
          "scattermap": [
           {
            "marker": {
             "colorbar": {
              "outlinewidth": 0,
              "ticks": ""
             }
            },
            "type": "scattermap"
           }
          ],
          "scattermapbox": [
           {
            "marker": {
             "colorbar": {
              "outlinewidth": 0,
              "ticks": ""
             }
            },
            "type": "scattermapbox"
           }
          ],
          "scatterpolar": [
           {
            "marker": {
             "colorbar": {
              "outlinewidth": 0,
              "ticks": ""
             }
            },
            "type": "scatterpolar"
           }
          ],
          "scatterpolargl": [
           {
            "marker": {
             "colorbar": {
              "outlinewidth": 0,
              "ticks": ""
             }
            },
            "type": "scatterpolargl"
           }
          ],
          "scatterternary": [
           {
            "marker": {
             "colorbar": {
              "outlinewidth": 0,
              "ticks": ""
             }
            },
            "type": "scatterternary"
           }
          ],
          "surface": [
           {
            "colorbar": {
             "outlinewidth": 0,
             "ticks": ""
            },
            "colorscale": [
             [
              0,
              "#0d0887"
             ],
             [
              0.1111111111111111,
              "#46039f"
             ],
             [
              0.2222222222222222,
              "#7201a8"
             ],
             [
              0.3333333333333333,
              "#9c179e"
             ],
             [
              0.4444444444444444,
              "#bd3786"
             ],
             [
              0.5555555555555556,
              "#d8576b"
             ],
             [
              0.6666666666666666,
              "#ed7953"
             ],
             [
              0.7777777777777778,
              "#fb9f3a"
             ],
             [
              0.8888888888888888,
              "#fdca26"
             ],
             [
              1,
              "#f0f921"
             ]
            ],
            "type": "surface"
           }
          ],
          "table": [
           {
            "cells": {
             "fill": {
              "color": "#EBF0F8"
             },
             "line": {
              "color": "white"
             }
            },
            "header": {
             "fill": {
              "color": "#C8D4E3"
             },
             "line": {
              "color": "white"
             }
            },
            "type": "table"
           }
          ]
         },
         "layout": {
          "annotationdefaults": {
           "arrowcolor": "#2a3f5f",
           "arrowhead": 0,
           "arrowwidth": 1
          },
          "autotypenumbers": "strict",
          "coloraxis": {
           "colorbar": {
            "outlinewidth": 0,
            "ticks": ""
           }
          },
          "colorscale": {
           "diverging": [
            [
             0,
             "#8e0152"
            ],
            [
             0.1,
             "#c51b7d"
            ],
            [
             0.2,
             "#de77ae"
            ],
            [
             0.3,
             "#f1b6da"
            ],
            [
             0.4,
             "#fde0ef"
            ],
            [
             0.5,
             "#f7f7f7"
            ],
            [
             0.6,
             "#e6f5d0"
            ],
            [
             0.7,
             "#b8e186"
            ],
            [
             0.8,
             "#7fbc41"
            ],
            [
             0.9,
             "#4d9221"
            ],
            [
             1,
             "#276419"
            ]
           ],
           "sequential": [
            [
             0,
             "#0d0887"
            ],
            [
             0.1111111111111111,
             "#46039f"
            ],
            [
             0.2222222222222222,
             "#7201a8"
            ],
            [
             0.3333333333333333,
             "#9c179e"
            ],
            [
             0.4444444444444444,
             "#bd3786"
            ],
            [
             0.5555555555555556,
             "#d8576b"
            ],
            [
             0.6666666666666666,
             "#ed7953"
            ],
            [
             0.7777777777777778,
             "#fb9f3a"
            ],
            [
             0.8888888888888888,
             "#fdca26"
            ],
            [
             1,
             "#f0f921"
            ]
           ],
           "sequentialminus": [
            [
             0,
             "#0d0887"
            ],
            [
             0.1111111111111111,
             "#46039f"
            ],
            [
             0.2222222222222222,
             "#7201a8"
            ],
            [
             0.3333333333333333,
             "#9c179e"
            ],
            [
             0.4444444444444444,
             "#bd3786"
            ],
            [
             0.5555555555555556,
             "#d8576b"
            ],
            [
             0.6666666666666666,
             "#ed7953"
            ],
            [
             0.7777777777777778,
             "#fb9f3a"
            ],
            [
             0.8888888888888888,
             "#fdca26"
            ],
            [
             1,
             "#f0f921"
            ]
           ]
          },
          "colorway": [
           "#636efa",
           "#EF553B",
           "#00cc96",
           "#ab63fa",
           "#FFA15A",
           "#19d3f3",
           "#FF6692",
           "#B6E880",
           "#FF97FF",
           "#FECB52"
          ],
          "font": {
           "color": "#2a3f5f"
          },
          "geo": {
           "bgcolor": "white",
           "lakecolor": "white",
           "landcolor": "#E5ECF6",
           "showlakes": true,
           "showland": true,
           "subunitcolor": "white"
          },
          "hoverlabel": {
           "align": "left"
          },
          "hovermode": "closest",
          "mapbox": {
           "style": "light"
          },
          "paper_bgcolor": "white",
          "plot_bgcolor": "#E5ECF6",
          "polar": {
           "angularaxis": {
            "gridcolor": "white",
            "linecolor": "white",
            "ticks": ""
           },
           "bgcolor": "#E5ECF6",
           "radialaxis": {
            "gridcolor": "white",
            "linecolor": "white",
            "ticks": ""
           }
          },
          "scene": {
           "xaxis": {
            "backgroundcolor": "#E5ECF6",
            "gridcolor": "white",
            "gridwidth": 2,
            "linecolor": "white",
            "showbackground": true,
            "ticks": "",
            "zerolinecolor": "white"
           },
           "yaxis": {
            "backgroundcolor": "#E5ECF6",
            "gridcolor": "white",
            "gridwidth": 2,
            "linecolor": "white",
            "showbackground": true,
            "ticks": "",
            "zerolinecolor": "white"
           },
           "zaxis": {
            "backgroundcolor": "#E5ECF6",
            "gridcolor": "white",
            "gridwidth": 2,
            "linecolor": "white",
            "showbackground": true,
            "ticks": "",
            "zerolinecolor": "white"
           }
          },
          "shapedefaults": {
           "line": {
            "color": "#2a3f5f"
           }
          },
          "ternary": {
           "aaxis": {
            "gridcolor": "white",
            "linecolor": "white",
            "ticks": ""
           },
           "baxis": {
            "gridcolor": "white",
            "linecolor": "white",
            "ticks": ""
           },
           "bgcolor": "#E5ECF6",
           "caxis": {
            "gridcolor": "white",
            "linecolor": "white",
            "ticks": ""
           }
          },
          "title": {
           "x": 0.05
          },
          "xaxis": {
           "automargin": true,
           "gridcolor": "white",
           "linecolor": "white",
           "ticks": "",
           "title": {
            "standoff": 15
           },
           "zerolinecolor": "white",
           "zerolinewidth": 2
          },
          "yaxis": {
           "automargin": true,
           "gridcolor": "white",
           "linecolor": "white",
           "ticks": "",
           "title": {
            "standoff": 15
           },
           "zerolinecolor": "white",
           "zerolinewidth": 2
          }
         }
        },
        "title": {
         "text": "Execution time of ForecasterRecursiveMultiSeries_predict_exog_is_dict"
        },
        "xaxis": {
         "tickangle": -45,
         "tickmode": "array",
         "ticktext": [
          "0.14.0",
          "0.15.1",
          "0.16.0"
         ],
         "tickvals": [
          0,
          1,
          2
         ],
         "title": {
          "text": "skforecast version"
         }
        },
        "yaxis": {
         "title": {
          "text": "Execution time (seconds)"
         }
        }
       }
      }
     },
     "metadata": {},
     "output_type": "display_data"
    },
    {
     "data": {
      "application/vnd.plotly.v1+json": {
       "config": {
        "plotlyServerURL": "https://plot.ly"
       },
       "data": [
        {
         "error_y": {
          "array": {
           "bdata": "2us3DRM7oj9xC63tzHGjPw==",
           "dtype": "f8"
          },
          "color": "#636EFA",
          "thickness": 1.5,
          "type": "data",
          "visible": true,
          "width": 5
         },
         "hovertemplate": "%{text}<extra></extra>",
         "marker": {
          "color": "#636EFA",
          "opacity": 0.7,
          "size": 10
         },
         "mode": "markers",
         "name": "Run time - 0.14.0",
         "showlegend": true,
         "text": [
          "Forecaster: ForecasterRecursiveMultiSeries<br>Regressor: LGBMRegressor<br>Function: ForecasterRecursiveMultiSeries__create_predict_inputs_exog_is_dict<br>Function_hash: 52b1c12811cade5921c24c58d5503d03<br>Datetime: 2025-04-24 10:41:43.464483<br>Python version: 3.11.10<br>skforecast version: 0.14.0<br>numpy version: 2.1.3<br>pandas version: 2.2.3<br>sklearn version: 1.6.1<br>lightgbm version: 4.5.0<br>Platform: Windows-10-10.0.19045-SP0<br>Processor: Intel64 Family 6 Model 141 Stepping 1, GenuineIntel<br>CPU count: 16<br>Memory (GB): 34.07<br>",
          "Forecaster: ForecasterRecursiveMultiSeries<br>Regressor: LGBMRegressor<br>Function: ForecasterRecursiveMultiSeries__create_predict_inputs_exog_is_dict<br>Function_hash: 52b1c12811cade5921c24c58d5503d03<br>Datetime: 2025-04-24 11:08:57.137737<br>Python version: 3.11.10<br>skforecast version: 0.14.0<br>numpy version: 2.1.3<br>pandas version: 2.2.3<br>sklearn version: 1.6.1<br>lightgbm version: 4.5.0<br>Platform: Windows-10-10.0.19045-SP0<br>Processor: Intel64 Family 6 Model 141 Stepping 1, GenuineIntel<br>CPU count: 16<br>Memory (GB): 34.07<br>"
         ],
         "type": "scatter",
         "x": {
          "bdata": "fByzX9/Fir9AKClBT8iAPw==",
          "dtype": "f8"
         },
         "y": {
          "bdata": "AAAUcQAO8D8zMzcR5N3vPw==",
          "dtype": "f8"
         }
        },
        {
         "error_y": {
          "array": {
           "bdata": "/71YQEsKsj9Ffbl65l+kP5mr/9xsEZs/",
           "dtype": "f8"
          },
          "color": "#EF553B",
          "thickness": 1.5,
          "type": "data",
          "visible": true,
          "width": 5
         },
         "hovertemplate": "%{text}<extra></extra>",
         "marker": {
          "color": "#EF553B",
          "opacity": 0.7,
          "size": 10
         },
         "mode": "markers",
         "name": "Run time - 0.15.1",
         "showlegend": true,
         "text": [
          "Forecaster: ForecasterRecursiveMultiSeries<br>Regressor: LGBMRegressor<br>Function: ForecasterRecursiveMultiSeries__create_predict_inputs_exog_is_dict<br>Function_hash: 52b1c12811cade5921c24c58d5503d03<br>Datetime: 2025-04-24 10:34:50.922655<br>Python version: 3.11.10<br>skforecast version: 0.15.1<br>numpy version: 2.1.3<br>pandas version: 2.2.3<br>sklearn version: 1.6.1<br>lightgbm version: 4.5.0<br>Platform: Windows-10-10.0.19045-SP0<br>Processor: Intel64 Family 6 Model 141 Stepping 1, GenuineIntel<br>CPU count: 16<br>Memory (GB): 34.07<br>",
          "Forecaster: ForecasterRecursiveMultiSeries<br>Regressor: LGBMRegressor<br>Function: ForecasterRecursiveMultiSeries__create_predict_inputs_exog_is_dict<br>Function_hash: 52b1c12811cade5921c24c58d5503d03<br>Datetime: 2025-04-24 11:18:09.884243<br>Python version: 3.11.10<br>skforecast version: 0.15.1<br>numpy version: 2.1.3<br>pandas version: 2.2.3<br>sklearn version: 1.6.1<br>lightgbm version: 4.5.0<br>Platform: Windows-10-10.0.19045-SP0<br>Processor: Intel64 Family 6 Model 141 Stepping 1, GenuineIntel<br>CPU count: 16<br>Memory (GB): 34.07<br>",
          "Forecaster: ForecasterRecursiveMultiSeries<br>Regressor: LGBMRegressor<br>Function: ForecasterRecursiveMultiSeries__create_predict_inputs_exog_is_dict<br>Function_hash: 52b1c12811cade5921c24c58d5503d03<br>Datetime: 2025-04-24 22:53:19.951181<br>Python version: 3.12.9<br>skforecast version: 0.15.1<br>numpy version: 2.2.5<br>pandas version: 2.2.3<br>sklearn version: 1.6.1<br>lightgbm version: 4.6.0<br>Platform: Linux-6.11.0-24-generic-x86_64-with-glibc2.39<br>Processor: x86_64<br>CPU count: 8<br>Memory (GB): 16.64<br>"
         ],
         "type": "scatter",
         "x": {
          "bdata": "WsufM0wh8D/sid4cvavwP0fPO5Hnwu4/",
          "dtype": "f8"
         },
         "y": {
          "bdata": "AIBrerNK8z9mZv+H5Dn0PzPj9460+fc/",
          "dtype": "f8"
         }
        },
        {
         "error_y": {
          "array": {
           "bdata": "bPZD2+gaqD+9xUdeOxagP3axFPIPUKY/",
           "dtype": "f8"
          },
          "color": "#00CC96",
          "thickness": 1.5,
          "type": "data",
          "visible": true,
          "width": 5
         },
         "hovertemplate": "%{text}<extra></extra>",
         "marker": {
          "color": "#00CC96",
          "opacity": 0.7,
          "size": 10
         },
         "mode": "markers",
         "name": "Run time - 0.16.0",
         "showlegend": true,
         "text": [
          "Forecaster: ForecasterRecursiveMultiSeries<br>Regressor: LGBMRegressor<br>Function: ForecasterRecursiveMultiSeries__create_predict_inputs_exog_is_dict<br>Function_hash: 52b1c12811cade5921c24c58d5503d03<br>Datetime: 2025-04-24 18:03:53.447752<br>Python version: 3.11.10<br>skforecast version: 0.16.0<br>numpy version: 2.2.5<br>pandas version: 2.2.3<br>sklearn version: 1.6.1<br>lightgbm version: 4.5.0<br>Platform: Windows-10-10.0.19045-SP0<br>Processor: Intel64 Family 6 Model 141 Stepping 1, GenuineIntel<br>CPU count: 16<br>Memory (GB): 34.07<br>",
          "Forecaster: ForecasterRecursiveMultiSeries<br>Regressor: LGBMRegressor<br>Function: ForecasterRecursiveMultiSeries__create_predict_inputs_exog_is_dict<br>Function_hash: 52b1c12811cade5921c24c58d5503d03<br>Datetime: 2025-04-24 18:18:55.212261<br>Python version: 3.11.10<br>skforecast version: 0.16.0<br>numpy version: 2.2.5<br>pandas version: 2.2.3<br>sklearn version: 1.6.1<br>lightgbm version: 4.5.0<br>Platform: Windows-10-10.0.19045-SP0<br>Processor: Intel64 Family 6 Model 141 Stepping 1, GenuineIntel<br>CPU count: 16<br>Memory (GB): 34.07<br>",
          "Forecaster: ForecasterRecursiveMultiSeries<br>Regressor: LGBMRegressor<br>Function: ForecasterRecursiveMultiSeries__create_predict_inputs_exog_is_dict<br>Function_hash: 52b1c12811cade5921c24c58d5503d03<br>Datetime: 2025-04-24 22:36:52.410134<br>Python version: 3.12.9<br>skforecast version: 0.16.0<br>numpy version: 2.2.5<br>pandas version: 2.2.3<br>sklearn version: 1.6.1<br>lightgbm version: 4.6.0<br>Platform: Linux-6.11.0-24-generic-x86_64-with-glibc2.39<br>Processor: x86_64<br>CPU count: 8<br>Memory (GB): 16.64<br>"
         ],
         "type": "scatter",
         "x": {
          "bdata": "XrVHMA+T/z88lcAF1isAQAT0BEErOwBA",
          "dtype": "f8"
         },
         "y": {
          "bdata": "mpkhNCfUzj+ameGko3vLP5rZbMjNXdM/",
          "dtype": "f8"
         }
        },
        {
         "line": {
          "color": "black",
          "width": 2
         },
         "marker": {
          "color": "black",
          "size": 8
         },
         "mode": "lines+markers",
         "name": "Median (per version)",
         "type": "scatter",
         "x": {
          "bdata": "AAEC",
          "dtype": "i1"
         },
         "y": {
          "bdata": "mpmvefL87z9mZv+H5Dn0P5qZITQn1M4/",
          "dtype": "f8"
         }
        },
        {
         "line": {
          "color": "black",
          "dash": "dash",
          "width": 2
         },
         "marker": {
          "color": "black",
          "size": 8
         },
         "mode": "lines+markers",
         "name": "Mean (per version)",
         "type": "scatter",
         "x": {
          "bdata": "AAEC",
          "dtype": "i1"
         },
         "y": {
          "bdata": "mpmvefL87z+ImMuFGSr1PxHRpBGRLNA/",
          "dtype": "f8"
         }
        }
       ],
       "layout": {
        "showlegend": true,
        "template": {
         "data": {
          "bar": [
           {
            "error_x": {
             "color": "#2a3f5f"
            },
            "error_y": {
             "color": "#2a3f5f"
            },
            "marker": {
             "line": {
              "color": "#E5ECF6",
              "width": 0.5
             },
             "pattern": {
              "fillmode": "overlay",
              "size": 10,
              "solidity": 0.2
             }
            },
            "type": "bar"
           }
          ],
          "barpolar": [
           {
            "marker": {
             "line": {
              "color": "#E5ECF6",
              "width": 0.5
             },
             "pattern": {
              "fillmode": "overlay",
              "size": 10,
              "solidity": 0.2
             }
            },
            "type": "barpolar"
           }
          ],
          "carpet": [
           {
            "aaxis": {
             "endlinecolor": "#2a3f5f",
             "gridcolor": "white",
             "linecolor": "white",
             "minorgridcolor": "white",
             "startlinecolor": "#2a3f5f"
            },
            "baxis": {
             "endlinecolor": "#2a3f5f",
             "gridcolor": "white",
             "linecolor": "white",
             "minorgridcolor": "white",
             "startlinecolor": "#2a3f5f"
            },
            "type": "carpet"
           }
          ],
          "choropleth": [
           {
            "colorbar": {
             "outlinewidth": 0,
             "ticks": ""
            },
            "type": "choropleth"
           }
          ],
          "contour": [
           {
            "colorbar": {
             "outlinewidth": 0,
             "ticks": ""
            },
            "colorscale": [
             [
              0,
              "#0d0887"
             ],
             [
              0.1111111111111111,
              "#46039f"
             ],
             [
              0.2222222222222222,
              "#7201a8"
             ],
             [
              0.3333333333333333,
              "#9c179e"
             ],
             [
              0.4444444444444444,
              "#bd3786"
             ],
             [
              0.5555555555555556,
              "#d8576b"
             ],
             [
              0.6666666666666666,
              "#ed7953"
             ],
             [
              0.7777777777777778,
              "#fb9f3a"
             ],
             [
              0.8888888888888888,
              "#fdca26"
             ],
             [
              1,
              "#f0f921"
             ]
            ],
            "type": "contour"
           }
          ],
          "contourcarpet": [
           {
            "colorbar": {
             "outlinewidth": 0,
             "ticks": ""
            },
            "type": "contourcarpet"
           }
          ],
          "heatmap": [
           {
            "colorbar": {
             "outlinewidth": 0,
             "ticks": ""
            },
            "colorscale": [
             [
              0,
              "#0d0887"
             ],
             [
              0.1111111111111111,
              "#46039f"
             ],
             [
              0.2222222222222222,
              "#7201a8"
             ],
             [
              0.3333333333333333,
              "#9c179e"
             ],
             [
              0.4444444444444444,
              "#bd3786"
             ],
             [
              0.5555555555555556,
              "#d8576b"
             ],
             [
              0.6666666666666666,
              "#ed7953"
             ],
             [
              0.7777777777777778,
              "#fb9f3a"
             ],
             [
              0.8888888888888888,
              "#fdca26"
             ],
             [
              1,
              "#f0f921"
             ]
            ],
            "type": "heatmap"
           }
          ],
          "histogram": [
           {
            "marker": {
             "pattern": {
              "fillmode": "overlay",
              "size": 10,
              "solidity": 0.2
             }
            },
            "type": "histogram"
           }
          ],
          "histogram2d": [
           {
            "colorbar": {
             "outlinewidth": 0,
             "ticks": ""
            },
            "colorscale": [
             [
              0,
              "#0d0887"
             ],
             [
              0.1111111111111111,
              "#46039f"
             ],
             [
              0.2222222222222222,
              "#7201a8"
             ],
             [
              0.3333333333333333,
              "#9c179e"
             ],
             [
              0.4444444444444444,
              "#bd3786"
             ],
             [
              0.5555555555555556,
              "#d8576b"
             ],
             [
              0.6666666666666666,
              "#ed7953"
             ],
             [
              0.7777777777777778,
              "#fb9f3a"
             ],
             [
              0.8888888888888888,
              "#fdca26"
             ],
             [
              1,
              "#f0f921"
             ]
            ],
            "type": "histogram2d"
           }
          ],
          "histogram2dcontour": [
           {
            "colorbar": {
             "outlinewidth": 0,
             "ticks": ""
            },
            "colorscale": [
             [
              0,
              "#0d0887"
             ],
             [
              0.1111111111111111,
              "#46039f"
             ],
             [
              0.2222222222222222,
              "#7201a8"
             ],
             [
              0.3333333333333333,
              "#9c179e"
             ],
             [
              0.4444444444444444,
              "#bd3786"
             ],
             [
              0.5555555555555556,
              "#d8576b"
             ],
             [
              0.6666666666666666,
              "#ed7953"
             ],
             [
              0.7777777777777778,
              "#fb9f3a"
             ],
             [
              0.8888888888888888,
              "#fdca26"
             ],
             [
              1,
              "#f0f921"
             ]
            ],
            "type": "histogram2dcontour"
           }
          ],
          "mesh3d": [
           {
            "colorbar": {
             "outlinewidth": 0,
             "ticks": ""
            },
            "type": "mesh3d"
           }
          ],
          "parcoords": [
           {
            "line": {
             "colorbar": {
              "outlinewidth": 0,
              "ticks": ""
             }
            },
            "type": "parcoords"
           }
          ],
          "pie": [
           {
            "automargin": true,
            "type": "pie"
           }
          ],
          "scatter": [
           {
            "fillpattern": {
             "fillmode": "overlay",
             "size": 10,
             "solidity": 0.2
            },
            "type": "scatter"
           }
          ],
          "scatter3d": [
           {
            "line": {
             "colorbar": {
              "outlinewidth": 0,
              "ticks": ""
             }
            },
            "marker": {
             "colorbar": {
              "outlinewidth": 0,
              "ticks": ""
             }
            },
            "type": "scatter3d"
           }
          ],
          "scattercarpet": [
           {
            "marker": {
             "colorbar": {
              "outlinewidth": 0,
              "ticks": ""
             }
            },
            "type": "scattercarpet"
           }
          ],
          "scattergeo": [
           {
            "marker": {
             "colorbar": {
              "outlinewidth": 0,
              "ticks": ""
             }
            },
            "type": "scattergeo"
           }
          ],
          "scattergl": [
           {
            "marker": {
             "colorbar": {
              "outlinewidth": 0,
              "ticks": ""
             }
            },
            "type": "scattergl"
           }
          ],
          "scattermap": [
           {
            "marker": {
             "colorbar": {
              "outlinewidth": 0,
              "ticks": ""
             }
            },
            "type": "scattermap"
           }
          ],
          "scattermapbox": [
           {
            "marker": {
             "colorbar": {
              "outlinewidth": 0,
              "ticks": ""
             }
            },
            "type": "scattermapbox"
           }
          ],
          "scatterpolar": [
           {
            "marker": {
             "colorbar": {
              "outlinewidth": 0,
              "ticks": ""
             }
            },
            "type": "scatterpolar"
           }
          ],
          "scatterpolargl": [
           {
            "marker": {
             "colorbar": {
              "outlinewidth": 0,
              "ticks": ""
             }
            },
            "type": "scatterpolargl"
           }
          ],
          "scatterternary": [
           {
            "marker": {
             "colorbar": {
              "outlinewidth": 0,
              "ticks": ""
             }
            },
            "type": "scatterternary"
           }
          ],
          "surface": [
           {
            "colorbar": {
             "outlinewidth": 0,
             "ticks": ""
            },
            "colorscale": [
             [
              0,
              "#0d0887"
             ],
             [
              0.1111111111111111,
              "#46039f"
             ],
             [
              0.2222222222222222,
              "#7201a8"
             ],
             [
              0.3333333333333333,
              "#9c179e"
             ],
             [
              0.4444444444444444,
              "#bd3786"
             ],
             [
              0.5555555555555556,
              "#d8576b"
             ],
             [
              0.6666666666666666,
              "#ed7953"
             ],
             [
              0.7777777777777778,
              "#fb9f3a"
             ],
             [
              0.8888888888888888,
              "#fdca26"
             ],
             [
              1,
              "#f0f921"
             ]
            ],
            "type": "surface"
           }
          ],
          "table": [
           {
            "cells": {
             "fill": {
              "color": "#EBF0F8"
             },
             "line": {
              "color": "white"
             }
            },
            "header": {
             "fill": {
              "color": "#C8D4E3"
             },
             "line": {
              "color": "white"
             }
            },
            "type": "table"
           }
          ]
         },
         "layout": {
          "annotationdefaults": {
           "arrowcolor": "#2a3f5f",
           "arrowhead": 0,
           "arrowwidth": 1
          },
          "autotypenumbers": "strict",
          "coloraxis": {
           "colorbar": {
            "outlinewidth": 0,
            "ticks": ""
           }
          },
          "colorscale": {
           "diverging": [
            [
             0,
             "#8e0152"
            ],
            [
             0.1,
             "#c51b7d"
            ],
            [
             0.2,
             "#de77ae"
            ],
            [
             0.3,
             "#f1b6da"
            ],
            [
             0.4,
             "#fde0ef"
            ],
            [
             0.5,
             "#f7f7f7"
            ],
            [
             0.6,
             "#e6f5d0"
            ],
            [
             0.7,
             "#b8e186"
            ],
            [
             0.8,
             "#7fbc41"
            ],
            [
             0.9,
             "#4d9221"
            ],
            [
             1,
             "#276419"
            ]
           ],
           "sequential": [
            [
             0,
             "#0d0887"
            ],
            [
             0.1111111111111111,
             "#46039f"
            ],
            [
             0.2222222222222222,
             "#7201a8"
            ],
            [
             0.3333333333333333,
             "#9c179e"
            ],
            [
             0.4444444444444444,
             "#bd3786"
            ],
            [
             0.5555555555555556,
             "#d8576b"
            ],
            [
             0.6666666666666666,
             "#ed7953"
            ],
            [
             0.7777777777777778,
             "#fb9f3a"
            ],
            [
             0.8888888888888888,
             "#fdca26"
            ],
            [
             1,
             "#f0f921"
            ]
           ],
           "sequentialminus": [
            [
             0,
             "#0d0887"
            ],
            [
             0.1111111111111111,
             "#46039f"
            ],
            [
             0.2222222222222222,
             "#7201a8"
            ],
            [
             0.3333333333333333,
             "#9c179e"
            ],
            [
             0.4444444444444444,
             "#bd3786"
            ],
            [
             0.5555555555555556,
             "#d8576b"
            ],
            [
             0.6666666666666666,
             "#ed7953"
            ],
            [
             0.7777777777777778,
             "#fb9f3a"
            ],
            [
             0.8888888888888888,
             "#fdca26"
            ],
            [
             1,
             "#f0f921"
            ]
           ]
          },
          "colorway": [
           "#636efa",
           "#EF553B",
           "#00cc96",
           "#ab63fa",
           "#FFA15A",
           "#19d3f3",
           "#FF6692",
           "#B6E880",
           "#FF97FF",
           "#FECB52"
          ],
          "font": {
           "color": "#2a3f5f"
          },
          "geo": {
           "bgcolor": "white",
           "lakecolor": "white",
           "landcolor": "#E5ECF6",
           "showlakes": true,
           "showland": true,
           "subunitcolor": "white"
          },
          "hoverlabel": {
           "align": "left"
          },
          "hovermode": "closest",
          "mapbox": {
           "style": "light"
          },
          "paper_bgcolor": "white",
          "plot_bgcolor": "#E5ECF6",
          "polar": {
           "angularaxis": {
            "gridcolor": "white",
            "linecolor": "white",
            "ticks": ""
           },
           "bgcolor": "#E5ECF6",
           "radialaxis": {
            "gridcolor": "white",
            "linecolor": "white",
            "ticks": ""
           }
          },
          "scene": {
           "xaxis": {
            "backgroundcolor": "#E5ECF6",
            "gridcolor": "white",
            "gridwidth": 2,
            "linecolor": "white",
            "showbackground": true,
            "ticks": "",
            "zerolinecolor": "white"
           },
           "yaxis": {
            "backgroundcolor": "#E5ECF6",
            "gridcolor": "white",
            "gridwidth": 2,
            "linecolor": "white",
            "showbackground": true,
            "ticks": "",
            "zerolinecolor": "white"
           },
           "zaxis": {
            "backgroundcolor": "#E5ECF6",
            "gridcolor": "white",
            "gridwidth": 2,
            "linecolor": "white",
            "showbackground": true,
            "ticks": "",
            "zerolinecolor": "white"
           }
          },
          "shapedefaults": {
           "line": {
            "color": "#2a3f5f"
           }
          },
          "ternary": {
           "aaxis": {
            "gridcolor": "white",
            "linecolor": "white",
            "ticks": ""
           },
           "baxis": {
            "gridcolor": "white",
            "linecolor": "white",
            "ticks": ""
           },
           "bgcolor": "#E5ECF6",
           "caxis": {
            "gridcolor": "white",
            "linecolor": "white",
            "ticks": ""
           }
          },
          "title": {
           "x": 0.05
          },
          "xaxis": {
           "automargin": true,
           "gridcolor": "white",
           "linecolor": "white",
           "ticks": "",
           "title": {
            "standoff": 15
           },
           "zerolinecolor": "white",
           "zerolinewidth": 2
          },
          "yaxis": {
           "automargin": true,
           "gridcolor": "white",
           "linecolor": "white",
           "ticks": "",
           "title": {
            "standoff": 15
           },
           "zerolinecolor": "white",
           "zerolinewidth": 2
          }
         }
        },
        "title": {
         "text": "Execution time of ForecasterRecursiveMultiSeries__create_predict_inputs_exog_is_dict"
        },
        "xaxis": {
         "tickangle": -45,
         "tickmode": "array",
         "ticktext": [
          "0.14.0",
          "0.15.1",
          "0.16.0"
         ],
         "tickvals": [
          0,
          1,
          2
         ],
         "title": {
          "text": "skforecast version"
         }
        },
        "yaxis": {
         "title": {
          "text": "Execution time (seconds)"
         }
        }
       }
      }
     },
     "metadata": {},
     "output_type": "display_data"
    },
    {
     "data": {
      "application/vnd.plotly.v1+json": {
       "config": {
        "plotlyServerURL": "https://plot.ly"
       },
       "data": [
        {
         "error_y": {
          "array": {
           "bdata": "teJ4qzbNgj+lCXFo90h5Pw==",
           "dtype": "f8"
          },
          "color": "#636EFA",
          "thickness": 1.5,
          "type": "data",
          "visible": true,
          "width": 5
         },
         "hovertemplate": "%{text}<extra></extra>",
         "marker": {
          "color": "#636EFA",
          "opacity": 0.7,
          "size": 10
         },
         "mode": "markers",
         "name": "Run time - 0.14.0",
         "showlegend": true,
         "text": [
          "Forecaster: ForecasterRecursiveMultiSeries<br>Regressor: LGBMRegressor<br>Function: ForecasterRecursiveMultiSeries__check_predict_inputs<br>Function_hash: 33fe67969d33981cb73558c1dc51eb82<br>Datetime: 2025-04-24 10:41:45.268697<br>Python version: 3.11.10<br>skforecast version: 0.14.0<br>numpy version: 2.1.3<br>pandas version: 2.2.3<br>sklearn version: 1.6.1<br>lightgbm version: 4.5.0<br>Platform: Windows-10-10.0.19045-SP0<br>Processor: Intel64 Family 6 Model 141 Stepping 1, GenuineIntel<br>CPU count: 16<br>Memory (GB): 34.07<br>",
          "Forecaster: ForecasterRecursiveMultiSeries<br>Regressor: LGBMRegressor<br>Function: ForecasterRecursiveMultiSeries__check_predict_inputs<br>Function_hash: 33fe67969d33981cb73558c1dc51eb82<br>Datetime: 2025-04-24 11:08:58.964518<br>Python version: 3.11.10<br>skforecast version: 0.14.0<br>numpy version: 2.1.3<br>pandas version: 2.2.3<br>sklearn version: 1.6.1<br>lightgbm version: 4.5.0<br>Platform: Windows-10-10.0.19045-SP0<br>Processor: Intel64 Family 6 Model 141 Stepping 1, GenuineIntel<br>CPU count: 16<br>Memory (GB): 34.07<br>"
         ],
         "type": "scatter",
         "x": {
          "bdata": "fByzX9/Fir9AKClBT8iAPw==",
          "dtype": "f8"
         },
         "y": {
          "bdata": "Zma+ghPVxj+amQUAfRHHPw==",
          "dtype": "f8"
         }
        },
        {
         "error_y": {
          "array": {
           "bdata": "HDV8GWl5ij/xmcPPa6KUP8e8DJ9eeG4/",
           "dtype": "f8"
          },
          "color": "#EF553B",
          "thickness": 1.5,
          "type": "data",
          "visible": true,
          "width": 5
         },
         "hovertemplate": "%{text}<extra></extra>",
         "marker": {
          "color": "#EF553B",
          "opacity": 0.7,
          "size": 10
         },
         "mode": "markers",
         "name": "Run time - 0.15.1",
         "showlegend": true,
         "text": [
          "Forecaster: ForecasterRecursiveMultiSeries<br>Regressor: LGBMRegressor<br>Function: ForecasterRecursiveMultiSeries__check_predict_inputs<br>Function_hash: 33fe67969d33981cb73558c1dc51eb82<br>Datetime: 2025-04-24 10:34:52.950784<br>Python version: 3.11.10<br>skforecast version: 0.15.1<br>numpy version: 2.1.3<br>pandas version: 2.2.3<br>sklearn version: 1.6.1<br>lightgbm version: 4.5.0<br>Platform: Windows-10-10.0.19045-SP0<br>Processor: Intel64 Family 6 Model 141 Stepping 1, GenuineIntel<br>CPU count: 16<br>Memory (GB): 34.07<br>",
          "Forecaster: ForecasterRecursiveMultiSeries<br>Regressor: LGBMRegressor<br>Function: ForecasterRecursiveMultiSeries__check_predict_inputs<br>Function_hash: 33fe67969d33981cb73558c1dc51eb82<br>Datetime: 2025-04-24 11:18:12.219146<br>Python version: 3.11.10<br>skforecast version: 0.15.1<br>numpy version: 2.1.3<br>pandas version: 2.2.3<br>sklearn version: 1.6.1<br>lightgbm version: 4.5.0<br>Platform: Windows-10-10.0.19045-SP0<br>Processor: Intel64 Family 6 Model 141 Stepping 1, GenuineIntel<br>CPU count: 16<br>Memory (GB): 34.07<br>",
          "Forecaster: ForecasterRecursiveMultiSeries<br>Regressor: LGBMRegressor<br>Function: ForecasterRecursiveMultiSeries__check_predict_inputs<br>Function_hash: 33fe67969d33981cb73558c1dc51eb82<br>Datetime: 2025-04-24 22:53:22.732156<br>Python version: 3.12.9<br>skforecast version: 0.15.1<br>numpy version: 2.2.5<br>pandas version: 2.2.3<br>sklearn version: 1.6.1<br>lightgbm version: 4.6.0<br>Platform: Linux-6.11.0-24-generic-x86_64-with-glibc2.39<br>Processor: x86_64<br>CPU count: 8<br>Memory (GB): 16.64<br>"
         ],
         "type": "scatter",
         "x": {
          "bdata": "WsufM0wh8D/sid4cvavwP0fPO5Hnwu4/",
          "dtype": "f8"
         },
         "y": {
          "bdata": "mpnlWu6ryT/NzFhR5pPNP5rZ11New9E/",
          "dtype": "f8"
         }
        },
        {
         "error_y": {
          "array": {
           "bdata": "lvSpCS6jXD/Sl/dn2radP45KkZ1WsE4/",
           "dtype": "f8"
          },
          "color": "#00CC96",
          "thickness": 1.5,
          "type": "data",
          "visible": true,
          "width": 5
         },
         "hovertemplate": "%{text}<extra></extra>",
         "marker": {
          "color": "#00CC96",
          "opacity": 0.7,
          "size": 10
         },
         "mode": "markers",
         "name": "Run time - 0.16.0",
         "showlegend": true,
         "text": [
          "Forecaster: ForecasterRecursiveMultiSeries<br>Regressor: LGBMRegressor<br>Function: ForecasterRecursiveMultiSeries__check_predict_inputs<br>Function_hash: 33fe67969d33981cb73558c1dc51eb82<br>Datetime: 2025-04-24 18:03:54.004508<br>Python version: 3.11.10<br>skforecast version: 0.16.0<br>numpy version: 2.2.5<br>pandas version: 2.2.3<br>sklearn version: 1.6.1<br>lightgbm version: 4.5.0<br>Platform: Windows-10-10.0.19045-SP0<br>Processor: Intel64 Family 6 Model 141 Stepping 1, GenuineIntel<br>CPU count: 16<br>Memory (GB): 34.07<br>",
          "Forecaster: ForecasterRecursiveMultiSeries<br>Regressor: LGBMRegressor<br>Function: ForecasterRecursiveMultiSeries__check_predict_inputs<br>Function_hash: 33fe67969d33981cb73558c1dc51eb82<br>Datetime: 2025-04-24 18:18:55.866149<br>Python version: 3.11.10<br>skforecast version: 0.16.0<br>numpy version: 2.2.5<br>pandas version: 2.2.3<br>sklearn version: 1.6.1<br>lightgbm version: 4.5.0<br>Platform: Windows-10-10.0.19045-SP0<br>Processor: Intel64 Family 6 Model 141 Stepping 1, GenuineIntel<br>CPU count: 16<br>Memory (GB): 34.07<br>",
          "Forecaster: ForecasterRecursiveMultiSeries<br>Regressor: LGBMRegressor<br>Function: ForecasterRecursiveMultiSeries__check_predict_inputs<br>Function_hash: 33fe67969d33981cb73558c1dc51eb82<br>Datetime: 2025-04-24 22:36:53.101870<br>Python version: 3.12.9<br>skforecast version: 0.16.0<br>numpy version: 2.2.5<br>pandas version: 2.2.3<br>sklearn version: 1.6.1<br>lightgbm version: 4.6.0<br>Platform: Linux-6.11.0-24-generic-x86_64-with-glibc2.39<br>Processor: x86_64<br>CPU count: 8<br>Memory (GB): 16.64<br>"
         ],
         "type": "scatter",
         "x": {
          "bdata": "XrVHMA+T/z88lcAF1isAQAT0BEErOwBA",
          "dtype": "f8"
         },
         "y": {
          "bdata": "AAAAhVdYqz8zM3u5aCuwP83MrppXlLE/",
          "dtype": "f8"
         }
        },
        {
         "line": {
          "color": "black",
          "width": 2
         },
         "marker": {
          "color": "black",
          "size": 8
         },
         "mode": "lines+markers",
         "name": "Median (per version)",
         "type": "scatter",
         "x": {
          "bdata": "AAEC",
          "dtype": "i1"
         },
         "y": {
          "bdata": "AABiQUjzxj/NzFhR5pPNPzMze7loK7A/",
          "dtype": "f8"
         }
        },
        {
         "line": {
          "color": "black",
          "dash": "dash",
          "width": 2
         },
         "marker": {
          "color": "black",
          "size": 8
         },
         "mode": "lines+markers",
         "name": "Mean (per version)",
         "type": "scatter",
         "x": {
          "bdata": "AAEC",
          "dtype": "i1"
         },
         "y": {
          "bdata": "AABiQUjzxj/fXU9xMELOPwAAHA9Ina8/",
          "dtype": "f8"
         }
        }
       ],
       "layout": {
        "showlegend": true,
        "template": {
         "data": {
          "bar": [
           {
            "error_x": {
             "color": "#2a3f5f"
            },
            "error_y": {
             "color": "#2a3f5f"
            },
            "marker": {
             "line": {
              "color": "#E5ECF6",
              "width": 0.5
             },
             "pattern": {
              "fillmode": "overlay",
              "size": 10,
              "solidity": 0.2
             }
            },
            "type": "bar"
           }
          ],
          "barpolar": [
           {
            "marker": {
             "line": {
              "color": "#E5ECF6",
              "width": 0.5
             },
             "pattern": {
              "fillmode": "overlay",
              "size": 10,
              "solidity": 0.2
             }
            },
            "type": "barpolar"
           }
          ],
          "carpet": [
           {
            "aaxis": {
             "endlinecolor": "#2a3f5f",
             "gridcolor": "white",
             "linecolor": "white",
             "minorgridcolor": "white",
             "startlinecolor": "#2a3f5f"
            },
            "baxis": {
             "endlinecolor": "#2a3f5f",
             "gridcolor": "white",
             "linecolor": "white",
             "minorgridcolor": "white",
             "startlinecolor": "#2a3f5f"
            },
            "type": "carpet"
           }
          ],
          "choropleth": [
           {
            "colorbar": {
             "outlinewidth": 0,
             "ticks": ""
            },
            "type": "choropleth"
           }
          ],
          "contour": [
           {
            "colorbar": {
             "outlinewidth": 0,
             "ticks": ""
            },
            "colorscale": [
             [
              0,
              "#0d0887"
             ],
             [
              0.1111111111111111,
              "#46039f"
             ],
             [
              0.2222222222222222,
              "#7201a8"
             ],
             [
              0.3333333333333333,
              "#9c179e"
             ],
             [
              0.4444444444444444,
              "#bd3786"
             ],
             [
              0.5555555555555556,
              "#d8576b"
             ],
             [
              0.6666666666666666,
              "#ed7953"
             ],
             [
              0.7777777777777778,
              "#fb9f3a"
             ],
             [
              0.8888888888888888,
              "#fdca26"
             ],
             [
              1,
              "#f0f921"
             ]
            ],
            "type": "contour"
           }
          ],
          "contourcarpet": [
           {
            "colorbar": {
             "outlinewidth": 0,
             "ticks": ""
            },
            "type": "contourcarpet"
           }
          ],
          "heatmap": [
           {
            "colorbar": {
             "outlinewidth": 0,
             "ticks": ""
            },
            "colorscale": [
             [
              0,
              "#0d0887"
             ],
             [
              0.1111111111111111,
              "#46039f"
             ],
             [
              0.2222222222222222,
              "#7201a8"
             ],
             [
              0.3333333333333333,
              "#9c179e"
             ],
             [
              0.4444444444444444,
              "#bd3786"
             ],
             [
              0.5555555555555556,
              "#d8576b"
             ],
             [
              0.6666666666666666,
              "#ed7953"
             ],
             [
              0.7777777777777778,
              "#fb9f3a"
             ],
             [
              0.8888888888888888,
              "#fdca26"
             ],
             [
              1,
              "#f0f921"
             ]
            ],
            "type": "heatmap"
           }
          ],
          "histogram": [
           {
            "marker": {
             "pattern": {
              "fillmode": "overlay",
              "size": 10,
              "solidity": 0.2
             }
            },
            "type": "histogram"
           }
          ],
          "histogram2d": [
           {
            "colorbar": {
             "outlinewidth": 0,
             "ticks": ""
            },
            "colorscale": [
             [
              0,
              "#0d0887"
             ],
             [
              0.1111111111111111,
              "#46039f"
             ],
             [
              0.2222222222222222,
              "#7201a8"
             ],
             [
              0.3333333333333333,
              "#9c179e"
             ],
             [
              0.4444444444444444,
              "#bd3786"
             ],
             [
              0.5555555555555556,
              "#d8576b"
             ],
             [
              0.6666666666666666,
              "#ed7953"
             ],
             [
              0.7777777777777778,
              "#fb9f3a"
             ],
             [
              0.8888888888888888,
              "#fdca26"
             ],
             [
              1,
              "#f0f921"
             ]
            ],
            "type": "histogram2d"
           }
          ],
          "histogram2dcontour": [
           {
            "colorbar": {
             "outlinewidth": 0,
             "ticks": ""
            },
            "colorscale": [
             [
              0,
              "#0d0887"
             ],
             [
              0.1111111111111111,
              "#46039f"
             ],
             [
              0.2222222222222222,
              "#7201a8"
             ],
             [
              0.3333333333333333,
              "#9c179e"
             ],
             [
              0.4444444444444444,
              "#bd3786"
             ],
             [
              0.5555555555555556,
              "#d8576b"
             ],
             [
              0.6666666666666666,
              "#ed7953"
             ],
             [
              0.7777777777777778,
              "#fb9f3a"
             ],
             [
              0.8888888888888888,
              "#fdca26"
             ],
             [
              1,
              "#f0f921"
             ]
            ],
            "type": "histogram2dcontour"
           }
          ],
          "mesh3d": [
           {
            "colorbar": {
             "outlinewidth": 0,
             "ticks": ""
            },
            "type": "mesh3d"
           }
          ],
          "parcoords": [
           {
            "line": {
             "colorbar": {
              "outlinewidth": 0,
              "ticks": ""
             }
            },
            "type": "parcoords"
           }
          ],
          "pie": [
           {
            "automargin": true,
            "type": "pie"
           }
          ],
          "scatter": [
           {
            "fillpattern": {
             "fillmode": "overlay",
             "size": 10,
             "solidity": 0.2
            },
            "type": "scatter"
           }
          ],
          "scatter3d": [
           {
            "line": {
             "colorbar": {
              "outlinewidth": 0,
              "ticks": ""
             }
            },
            "marker": {
             "colorbar": {
              "outlinewidth": 0,
              "ticks": ""
             }
            },
            "type": "scatter3d"
           }
          ],
          "scattercarpet": [
           {
            "marker": {
             "colorbar": {
              "outlinewidth": 0,
              "ticks": ""
             }
            },
            "type": "scattercarpet"
           }
          ],
          "scattergeo": [
           {
            "marker": {
             "colorbar": {
              "outlinewidth": 0,
              "ticks": ""
             }
            },
            "type": "scattergeo"
           }
          ],
          "scattergl": [
           {
            "marker": {
             "colorbar": {
              "outlinewidth": 0,
              "ticks": ""
             }
            },
            "type": "scattergl"
           }
          ],
          "scattermap": [
           {
            "marker": {
             "colorbar": {
              "outlinewidth": 0,
              "ticks": ""
             }
            },
            "type": "scattermap"
           }
          ],
          "scattermapbox": [
           {
            "marker": {
             "colorbar": {
              "outlinewidth": 0,
              "ticks": ""
             }
            },
            "type": "scattermapbox"
           }
          ],
          "scatterpolar": [
           {
            "marker": {
             "colorbar": {
              "outlinewidth": 0,
              "ticks": ""
             }
            },
            "type": "scatterpolar"
           }
          ],
          "scatterpolargl": [
           {
            "marker": {
             "colorbar": {
              "outlinewidth": 0,
              "ticks": ""
             }
            },
            "type": "scatterpolargl"
           }
          ],
          "scatterternary": [
           {
            "marker": {
             "colorbar": {
              "outlinewidth": 0,
              "ticks": ""
             }
            },
            "type": "scatterternary"
           }
          ],
          "surface": [
           {
            "colorbar": {
             "outlinewidth": 0,
             "ticks": ""
            },
            "colorscale": [
             [
              0,
              "#0d0887"
             ],
             [
              0.1111111111111111,
              "#46039f"
             ],
             [
              0.2222222222222222,
              "#7201a8"
             ],
             [
              0.3333333333333333,
              "#9c179e"
             ],
             [
              0.4444444444444444,
              "#bd3786"
             ],
             [
              0.5555555555555556,
              "#d8576b"
             ],
             [
              0.6666666666666666,
              "#ed7953"
             ],
             [
              0.7777777777777778,
              "#fb9f3a"
             ],
             [
              0.8888888888888888,
              "#fdca26"
             ],
             [
              1,
              "#f0f921"
             ]
            ],
            "type": "surface"
           }
          ],
          "table": [
           {
            "cells": {
             "fill": {
              "color": "#EBF0F8"
             },
             "line": {
              "color": "white"
             }
            },
            "header": {
             "fill": {
              "color": "#C8D4E3"
             },
             "line": {
              "color": "white"
             }
            },
            "type": "table"
           }
          ]
         },
         "layout": {
          "annotationdefaults": {
           "arrowcolor": "#2a3f5f",
           "arrowhead": 0,
           "arrowwidth": 1
          },
          "autotypenumbers": "strict",
          "coloraxis": {
           "colorbar": {
            "outlinewidth": 0,
            "ticks": ""
           }
          },
          "colorscale": {
           "diverging": [
            [
             0,
             "#8e0152"
            ],
            [
             0.1,
             "#c51b7d"
            ],
            [
             0.2,
             "#de77ae"
            ],
            [
             0.3,
             "#f1b6da"
            ],
            [
             0.4,
             "#fde0ef"
            ],
            [
             0.5,
             "#f7f7f7"
            ],
            [
             0.6,
             "#e6f5d0"
            ],
            [
             0.7,
             "#b8e186"
            ],
            [
             0.8,
             "#7fbc41"
            ],
            [
             0.9,
             "#4d9221"
            ],
            [
             1,
             "#276419"
            ]
           ],
           "sequential": [
            [
             0,
             "#0d0887"
            ],
            [
             0.1111111111111111,
             "#46039f"
            ],
            [
             0.2222222222222222,
             "#7201a8"
            ],
            [
             0.3333333333333333,
             "#9c179e"
            ],
            [
             0.4444444444444444,
             "#bd3786"
            ],
            [
             0.5555555555555556,
             "#d8576b"
            ],
            [
             0.6666666666666666,
             "#ed7953"
            ],
            [
             0.7777777777777778,
             "#fb9f3a"
            ],
            [
             0.8888888888888888,
             "#fdca26"
            ],
            [
             1,
             "#f0f921"
            ]
           ],
           "sequentialminus": [
            [
             0,
             "#0d0887"
            ],
            [
             0.1111111111111111,
             "#46039f"
            ],
            [
             0.2222222222222222,
             "#7201a8"
            ],
            [
             0.3333333333333333,
             "#9c179e"
            ],
            [
             0.4444444444444444,
             "#bd3786"
            ],
            [
             0.5555555555555556,
             "#d8576b"
            ],
            [
             0.6666666666666666,
             "#ed7953"
            ],
            [
             0.7777777777777778,
             "#fb9f3a"
            ],
            [
             0.8888888888888888,
             "#fdca26"
            ],
            [
             1,
             "#f0f921"
            ]
           ]
          },
          "colorway": [
           "#636efa",
           "#EF553B",
           "#00cc96",
           "#ab63fa",
           "#FFA15A",
           "#19d3f3",
           "#FF6692",
           "#B6E880",
           "#FF97FF",
           "#FECB52"
          ],
          "font": {
           "color": "#2a3f5f"
          },
          "geo": {
           "bgcolor": "white",
           "lakecolor": "white",
           "landcolor": "#E5ECF6",
           "showlakes": true,
           "showland": true,
           "subunitcolor": "white"
          },
          "hoverlabel": {
           "align": "left"
          },
          "hovermode": "closest",
          "mapbox": {
           "style": "light"
          },
          "paper_bgcolor": "white",
          "plot_bgcolor": "#E5ECF6",
          "polar": {
           "angularaxis": {
            "gridcolor": "white",
            "linecolor": "white",
            "ticks": ""
           },
           "bgcolor": "#E5ECF6",
           "radialaxis": {
            "gridcolor": "white",
            "linecolor": "white",
            "ticks": ""
           }
          },
          "scene": {
           "xaxis": {
            "backgroundcolor": "#E5ECF6",
            "gridcolor": "white",
            "gridwidth": 2,
            "linecolor": "white",
            "showbackground": true,
            "ticks": "",
            "zerolinecolor": "white"
           },
           "yaxis": {
            "backgroundcolor": "#E5ECF6",
            "gridcolor": "white",
            "gridwidth": 2,
            "linecolor": "white",
            "showbackground": true,
            "ticks": "",
            "zerolinecolor": "white"
           },
           "zaxis": {
            "backgroundcolor": "#E5ECF6",
            "gridcolor": "white",
            "gridwidth": 2,
            "linecolor": "white",
            "showbackground": true,
            "ticks": "",
            "zerolinecolor": "white"
           }
          },
          "shapedefaults": {
           "line": {
            "color": "#2a3f5f"
           }
          },
          "ternary": {
           "aaxis": {
            "gridcolor": "white",
            "linecolor": "white",
            "ticks": ""
           },
           "baxis": {
            "gridcolor": "white",
            "linecolor": "white",
            "ticks": ""
           },
           "bgcolor": "#E5ECF6",
           "caxis": {
            "gridcolor": "white",
            "linecolor": "white",
            "ticks": ""
           }
          },
          "title": {
           "x": 0.05
          },
          "xaxis": {
           "automargin": true,
           "gridcolor": "white",
           "linecolor": "white",
           "ticks": "",
           "title": {
            "standoff": 15
           },
           "zerolinecolor": "white",
           "zerolinewidth": 2
          },
          "yaxis": {
           "automargin": true,
           "gridcolor": "white",
           "linecolor": "white",
           "ticks": "",
           "title": {
            "standoff": 15
           },
           "zerolinecolor": "white",
           "zerolinewidth": 2
          }
         }
        },
        "title": {
         "text": "Execution time of ForecasterRecursiveMultiSeries__check_predict_inputs"
        },
        "xaxis": {
         "tickangle": -45,
         "tickmode": "array",
         "ticktext": [
          "0.14.0",
          "0.15.1",
          "0.16.0"
         ],
         "tickvals": [
          0,
          1,
          2
         ],
         "title": {
          "text": "skforecast version"
         }
        },
        "yaxis": {
         "title": {
          "text": "Execution time (seconds)"
         }
        }
       }
      }
     },
     "metadata": {},
     "output_type": "display_data"
    },
    {
     "data": {
      "application/vnd.plotly.v1+json": {
       "config": {
        "plotlyServerURL": "https://plot.ly"
       },
       "data": [
        {
         "error_y": {
          "array": {
           "bdata": "RXFKbzr3wj9Lsue+ouTJPw==",
           "dtype": "f8"
          },
          "color": "#636EFA",
          "thickness": 1.5,
          "type": "data",
          "visible": true,
          "width": 5
         },
         "hovertemplate": "%{text}<extra></extra>",
         "marker": {
          "color": "#636EFA",
          "opacity": 0.7,
          "size": 10
         },
         "mode": "markers",
         "name": "Run time - 0.14.0",
         "showlegend": true,
         "text": [
          "Forecaster: ForecasterRecursiveMultiSeries<br>Regressor: LGBMRegressor<br>Function: ForecasterRecursiveMultiSeries_backtesting_series_is_dict_exog_is_dict<br>Function_hash: 764622d682985b184e7b2369791c61a1<br>Datetime: 2025-04-24 10:43:59.665535<br>Python version: 3.11.10<br>skforecast version: 0.14.0<br>numpy version: 2.1.3<br>pandas version: 2.2.3<br>sklearn version: 1.6.1<br>lightgbm version: 4.5.0<br>Platform: Windows-10-10.0.19045-SP0<br>Processor: Intel64 Family 6 Model 141 Stepping 1, GenuineIntel<br>CPU count: 16<br>Memory (GB): 34.07<br>",
          "Forecaster: ForecasterRecursiveMultiSeries<br>Regressor: LGBMRegressor<br>Function: ForecasterRecursiveMultiSeries_backtesting_series_is_dict_exog_is_dict<br>Function_hash: 764622d682985b184e7b2369791c61a1<br>Datetime: 2025-04-24 11:11:15.199890<br>Python version: 3.11.10<br>skforecast version: 0.14.0<br>numpy version: 2.1.3<br>pandas version: 2.2.3<br>sklearn version: 1.6.1<br>lightgbm version: 4.5.0<br>Platform: Windows-10-10.0.19045-SP0<br>Processor: Intel64 Family 6 Model 141 Stepping 1, GenuineIntel<br>CPU count: 16<br>Memory (GB): 34.07<br>"
         ],
         "type": "scatter",
         "x": {
          "bdata": "fByzX9/Fir9AKClBT8iAPw==",
          "dtype": "f8"
         },
         "y": {
          "bdata": "M3OPOnTfOkDNLNFYHD47QA==",
          "dtype": "f8"
         }
        },
        {
         "error_y": {
          "array": {
           "bdata": "N8zFnZUL2j9uk0slHJPYP3vxEEvNBAhA",
           "dtype": "f8"
          },
          "color": "#EF553B",
          "thickness": 1.5,
          "type": "data",
          "visible": true,
          "width": 5
         },
         "hovertemplate": "%{text}<extra></extra>",
         "marker": {
          "color": "#EF553B",
          "opacity": 0.7,
          "size": 10
         },
         "mode": "markers",
         "name": "Run time - 0.15.1",
         "showlegend": true,
         "text": [
          "Forecaster: ForecasterRecursiveMultiSeries<br>Regressor: LGBMRegressor<br>Function: ForecasterRecursiveMultiSeries_backtesting_series_is_dict_exog_is_dict<br>Function_hash: 764622d682985b184e7b2369791c61a1<br>Datetime: 2025-04-24 10:37:42.452354<br>Python version: 3.11.10<br>skforecast version: 0.15.1<br>numpy version: 2.1.3<br>pandas version: 2.2.3<br>sklearn version: 1.6.1<br>lightgbm version: 4.5.0<br>Platform: Windows-10-10.0.19045-SP0<br>Processor: Intel64 Family 6 Model 141 Stepping 1, GenuineIntel<br>CPU count: 16<br>Memory (GB): 34.07<br>",
          "Forecaster: ForecasterRecursiveMultiSeries<br>Regressor: LGBMRegressor<br>Function: ForecasterRecursiveMultiSeries_backtesting_series_is_dict_exog_is_dict<br>Function_hash: 764622d682985b184e7b2369791c61a1<br>Datetime: 2025-04-24 11:21:01.508197<br>Python version: 3.11.10<br>skforecast version: 0.15.1<br>numpy version: 2.1.3<br>pandas version: 2.2.3<br>sklearn version: 1.6.1<br>lightgbm version: 4.5.0<br>Platform: Windows-10-10.0.19045-SP0<br>Processor: Intel64 Family 6 Model 141 Stepping 1, GenuineIntel<br>CPU count: 16<br>Memory (GB): 34.07<br>",
          "Forecaster: ForecasterRecursiveMultiSeries<br>Regressor: LGBMRegressor<br>Function: ForecasterRecursiveMultiSeries_backtesting_series_is_dict_exog_is_dict<br>Function_hash: 764622d682985b184e7b2369791c61a1<br>Datetime: 2025-04-24 22:56:59.263989<br>Python version: 3.12.9<br>skforecast version: 0.15.1<br>numpy version: 2.2.5<br>pandas version: 2.2.3<br>sklearn version: 1.6.1<br>lightgbm version: 4.6.0<br>Platform: Linux-6.11.0-24-generic-x86_64-with-glibc2.39<br>Processor: x86_64<br>CPU count: 8<br>Memory (GB): 16.64<br>"
         ],
         "type": "scatter",
         "x": {
          "bdata": "WsufM0wh8D/sid4cvavwP0fPO5Hnwu4/",
          "dtype": "f8"
         },
         "y": {
          "bdata": "mjlj88zyQEBmVquXW+1AQABHpVIYp0VA",
          "dtype": "f8"
         }
        },
        {
         "error_y": {
          "array": {
           "bdata": "IKPWThir5T+tP5NKSwvEPxdJfJJmDfU/",
           "dtype": "f8"
          },
          "color": "#00CC96",
          "thickness": 1.5,
          "type": "data",
          "visible": true,
          "width": 5
         },
         "hovertemplate": "%{text}<extra></extra>",
         "marker": {
          "color": "#00CC96",
          "opacity": 0.7,
          "size": 10
         },
         "mode": "markers",
         "name": "Run time - 0.16.0",
         "showlegend": true,
         "text": [
          "Forecaster: ForecasterRecursiveMultiSeries<br>Regressor: LGBMRegressor<br>Function: ForecasterRecursiveMultiSeries_backtesting_series_is_dict_exog_is_dict<br>Function_hash: 764622d682985b184e7b2369791c61a1<br>Datetime: 2025-04-24 18:05:14.429141<br>Python version: 3.11.10<br>skforecast version: 0.16.0<br>numpy version: 2.2.5<br>pandas version: 2.2.3<br>sklearn version: 1.6.1<br>lightgbm version: 4.5.0<br>Platform: Windows-10-10.0.19045-SP0<br>Processor: Intel64 Family 6 Model 141 Stepping 1, GenuineIntel<br>CPU count: 16<br>Memory (GB): 34.07<br>",
          "Forecaster: ForecasterRecursiveMultiSeries<br>Regressor: LGBMRegressor<br>Function: ForecasterRecursiveMultiSeries_backtesting_series_is_dict_exog_is_dict<br>Function_hash: 764622d682985b184e7b2369791c61a1<br>Datetime: 2025-04-24 18:20:08.328570<br>Python version: 3.11.10<br>skforecast version: 0.16.0<br>numpy version: 2.2.5<br>pandas version: 2.2.3<br>sklearn version: 1.6.1<br>lightgbm version: 4.5.0<br>Platform: Windows-10-10.0.19045-SP0<br>Processor: Intel64 Family 6 Model 141 Stepping 1, GenuineIntel<br>CPU count: 16<br>Memory (GB): 34.07<br>",
          "Forecaster: ForecasterRecursiveMultiSeries<br>Regressor: LGBMRegressor<br>Function: ForecasterRecursiveMultiSeries_backtesting_series_is_dict_exog_is_dict<br>Function_hash: 764622d682985b184e7b2369791c61a1<br>Datetime: 2025-04-24 22:38:34.047916<br>Python version: 3.12.9<br>skforecast version: 0.16.0<br>numpy version: 2.2.5<br>pandas version: 2.2.3<br>sklearn version: 1.6.1<br>lightgbm version: 4.6.0<br>Platform: Linux-6.11.0-24-generic-x86_64-with-glibc2.39<br>Processor: x86_64<br>CPU count: 8<br>Memory (GB): 16.64<br>"
         ],
         "type": "scatter",
         "x": {
          "bdata": "XrVHMA+T/z88lcAF1isAQAT0BEErOwBA",
          "dtype": "f8"
         },
         "y": {
          "bdata": "AJDJ67kTMECaOdbme/ksQACkFRUxMDRA",
          "dtype": "f8"
         }
        },
        {
         "line": {
          "color": "black",
          "width": 2
         },
         "marker": {
          "color": "black",
          "size": 8
         },
         "mode": "lines+markers",
         "name": "Median (per version)",
         "type": "scatter",
         "x": {
          "bdata": "AAEC",
          "dtype": "i1"
         },
         "y": {
          "bdata": "AFCwScgOO0CaOWPzzPJAQACQyeu5EzBA",
          "dtype": "f8"
         }
        },
        {
         "line": {
          "color": "black",
          "dash": "dash",
          "width": 2
         },
         "marker": {
          "color": "black",
          "size": 8
         },
         "mode": "lines+markers",
         "name": "Mean (per version)",
         "type": "scatter",
         "x": {
          "bdata": "AAEC",
          "dtype": "i1"
         },
         "y": {
          "bdata": "AFCwScgOO0CrR5H0aoJCQJnFGPzi6jBA",
          "dtype": "f8"
         }
        }
       ],
       "layout": {
        "showlegend": true,
        "template": {
         "data": {
          "bar": [
           {
            "error_x": {
             "color": "#2a3f5f"
            },
            "error_y": {
             "color": "#2a3f5f"
            },
            "marker": {
             "line": {
              "color": "#E5ECF6",
              "width": 0.5
             },
             "pattern": {
              "fillmode": "overlay",
              "size": 10,
              "solidity": 0.2
             }
            },
            "type": "bar"
           }
          ],
          "barpolar": [
           {
            "marker": {
             "line": {
              "color": "#E5ECF6",
              "width": 0.5
             },
             "pattern": {
              "fillmode": "overlay",
              "size": 10,
              "solidity": 0.2
             }
            },
            "type": "barpolar"
           }
          ],
          "carpet": [
           {
            "aaxis": {
             "endlinecolor": "#2a3f5f",
             "gridcolor": "white",
             "linecolor": "white",
             "minorgridcolor": "white",
             "startlinecolor": "#2a3f5f"
            },
            "baxis": {
             "endlinecolor": "#2a3f5f",
             "gridcolor": "white",
             "linecolor": "white",
             "minorgridcolor": "white",
             "startlinecolor": "#2a3f5f"
            },
            "type": "carpet"
           }
          ],
          "choropleth": [
           {
            "colorbar": {
             "outlinewidth": 0,
             "ticks": ""
            },
            "type": "choropleth"
           }
          ],
          "contour": [
           {
            "colorbar": {
             "outlinewidth": 0,
             "ticks": ""
            },
            "colorscale": [
             [
              0,
              "#0d0887"
             ],
             [
              0.1111111111111111,
              "#46039f"
             ],
             [
              0.2222222222222222,
              "#7201a8"
             ],
             [
              0.3333333333333333,
              "#9c179e"
             ],
             [
              0.4444444444444444,
              "#bd3786"
             ],
             [
              0.5555555555555556,
              "#d8576b"
             ],
             [
              0.6666666666666666,
              "#ed7953"
             ],
             [
              0.7777777777777778,
              "#fb9f3a"
             ],
             [
              0.8888888888888888,
              "#fdca26"
             ],
             [
              1,
              "#f0f921"
             ]
            ],
            "type": "contour"
           }
          ],
          "contourcarpet": [
           {
            "colorbar": {
             "outlinewidth": 0,
             "ticks": ""
            },
            "type": "contourcarpet"
           }
          ],
          "heatmap": [
           {
            "colorbar": {
             "outlinewidth": 0,
             "ticks": ""
            },
            "colorscale": [
             [
              0,
              "#0d0887"
             ],
             [
              0.1111111111111111,
              "#46039f"
             ],
             [
              0.2222222222222222,
              "#7201a8"
             ],
             [
              0.3333333333333333,
              "#9c179e"
             ],
             [
              0.4444444444444444,
              "#bd3786"
             ],
             [
              0.5555555555555556,
              "#d8576b"
             ],
             [
              0.6666666666666666,
              "#ed7953"
             ],
             [
              0.7777777777777778,
              "#fb9f3a"
             ],
             [
              0.8888888888888888,
              "#fdca26"
             ],
             [
              1,
              "#f0f921"
             ]
            ],
            "type": "heatmap"
           }
          ],
          "histogram": [
           {
            "marker": {
             "pattern": {
              "fillmode": "overlay",
              "size": 10,
              "solidity": 0.2
             }
            },
            "type": "histogram"
           }
          ],
          "histogram2d": [
           {
            "colorbar": {
             "outlinewidth": 0,
             "ticks": ""
            },
            "colorscale": [
             [
              0,
              "#0d0887"
             ],
             [
              0.1111111111111111,
              "#46039f"
             ],
             [
              0.2222222222222222,
              "#7201a8"
             ],
             [
              0.3333333333333333,
              "#9c179e"
             ],
             [
              0.4444444444444444,
              "#bd3786"
             ],
             [
              0.5555555555555556,
              "#d8576b"
             ],
             [
              0.6666666666666666,
              "#ed7953"
             ],
             [
              0.7777777777777778,
              "#fb9f3a"
             ],
             [
              0.8888888888888888,
              "#fdca26"
             ],
             [
              1,
              "#f0f921"
             ]
            ],
            "type": "histogram2d"
           }
          ],
          "histogram2dcontour": [
           {
            "colorbar": {
             "outlinewidth": 0,
             "ticks": ""
            },
            "colorscale": [
             [
              0,
              "#0d0887"
             ],
             [
              0.1111111111111111,
              "#46039f"
             ],
             [
              0.2222222222222222,
              "#7201a8"
             ],
             [
              0.3333333333333333,
              "#9c179e"
             ],
             [
              0.4444444444444444,
              "#bd3786"
             ],
             [
              0.5555555555555556,
              "#d8576b"
             ],
             [
              0.6666666666666666,
              "#ed7953"
             ],
             [
              0.7777777777777778,
              "#fb9f3a"
             ],
             [
              0.8888888888888888,
              "#fdca26"
             ],
             [
              1,
              "#f0f921"
             ]
            ],
            "type": "histogram2dcontour"
           }
          ],
          "mesh3d": [
           {
            "colorbar": {
             "outlinewidth": 0,
             "ticks": ""
            },
            "type": "mesh3d"
           }
          ],
          "parcoords": [
           {
            "line": {
             "colorbar": {
              "outlinewidth": 0,
              "ticks": ""
             }
            },
            "type": "parcoords"
           }
          ],
          "pie": [
           {
            "automargin": true,
            "type": "pie"
           }
          ],
          "scatter": [
           {
            "fillpattern": {
             "fillmode": "overlay",
             "size": 10,
             "solidity": 0.2
            },
            "type": "scatter"
           }
          ],
          "scatter3d": [
           {
            "line": {
             "colorbar": {
              "outlinewidth": 0,
              "ticks": ""
             }
            },
            "marker": {
             "colorbar": {
              "outlinewidth": 0,
              "ticks": ""
             }
            },
            "type": "scatter3d"
           }
          ],
          "scattercarpet": [
           {
            "marker": {
             "colorbar": {
              "outlinewidth": 0,
              "ticks": ""
             }
            },
            "type": "scattercarpet"
           }
          ],
          "scattergeo": [
           {
            "marker": {
             "colorbar": {
              "outlinewidth": 0,
              "ticks": ""
             }
            },
            "type": "scattergeo"
           }
          ],
          "scattergl": [
           {
            "marker": {
             "colorbar": {
              "outlinewidth": 0,
              "ticks": ""
             }
            },
            "type": "scattergl"
           }
          ],
          "scattermap": [
           {
            "marker": {
             "colorbar": {
              "outlinewidth": 0,
              "ticks": ""
             }
            },
            "type": "scattermap"
           }
          ],
          "scattermapbox": [
           {
            "marker": {
             "colorbar": {
              "outlinewidth": 0,
              "ticks": ""
             }
            },
            "type": "scattermapbox"
           }
          ],
          "scatterpolar": [
           {
            "marker": {
             "colorbar": {
              "outlinewidth": 0,
              "ticks": ""
             }
            },
            "type": "scatterpolar"
           }
          ],
          "scatterpolargl": [
           {
            "marker": {
             "colorbar": {
              "outlinewidth": 0,
              "ticks": ""
             }
            },
            "type": "scatterpolargl"
           }
          ],
          "scatterternary": [
           {
            "marker": {
             "colorbar": {
              "outlinewidth": 0,
              "ticks": ""
             }
            },
            "type": "scatterternary"
           }
          ],
          "surface": [
           {
            "colorbar": {
             "outlinewidth": 0,
             "ticks": ""
            },
            "colorscale": [
             [
              0,
              "#0d0887"
             ],
             [
              0.1111111111111111,
              "#46039f"
             ],
             [
              0.2222222222222222,
              "#7201a8"
             ],
             [
              0.3333333333333333,
              "#9c179e"
             ],
             [
              0.4444444444444444,
              "#bd3786"
             ],
             [
              0.5555555555555556,
              "#d8576b"
             ],
             [
              0.6666666666666666,
              "#ed7953"
             ],
             [
              0.7777777777777778,
              "#fb9f3a"
             ],
             [
              0.8888888888888888,
              "#fdca26"
             ],
             [
              1,
              "#f0f921"
             ]
            ],
            "type": "surface"
           }
          ],
          "table": [
           {
            "cells": {
             "fill": {
              "color": "#EBF0F8"
             },
             "line": {
              "color": "white"
             }
            },
            "header": {
             "fill": {
              "color": "#C8D4E3"
             },
             "line": {
              "color": "white"
             }
            },
            "type": "table"
           }
          ]
         },
         "layout": {
          "annotationdefaults": {
           "arrowcolor": "#2a3f5f",
           "arrowhead": 0,
           "arrowwidth": 1
          },
          "autotypenumbers": "strict",
          "coloraxis": {
           "colorbar": {
            "outlinewidth": 0,
            "ticks": ""
           }
          },
          "colorscale": {
           "diverging": [
            [
             0,
             "#8e0152"
            ],
            [
             0.1,
             "#c51b7d"
            ],
            [
             0.2,
             "#de77ae"
            ],
            [
             0.3,
             "#f1b6da"
            ],
            [
             0.4,
             "#fde0ef"
            ],
            [
             0.5,
             "#f7f7f7"
            ],
            [
             0.6,
             "#e6f5d0"
            ],
            [
             0.7,
             "#b8e186"
            ],
            [
             0.8,
             "#7fbc41"
            ],
            [
             0.9,
             "#4d9221"
            ],
            [
             1,
             "#276419"
            ]
           ],
           "sequential": [
            [
             0,
             "#0d0887"
            ],
            [
             0.1111111111111111,
             "#46039f"
            ],
            [
             0.2222222222222222,
             "#7201a8"
            ],
            [
             0.3333333333333333,
             "#9c179e"
            ],
            [
             0.4444444444444444,
             "#bd3786"
            ],
            [
             0.5555555555555556,
             "#d8576b"
            ],
            [
             0.6666666666666666,
             "#ed7953"
            ],
            [
             0.7777777777777778,
             "#fb9f3a"
            ],
            [
             0.8888888888888888,
             "#fdca26"
            ],
            [
             1,
             "#f0f921"
            ]
           ],
           "sequentialminus": [
            [
             0,
             "#0d0887"
            ],
            [
             0.1111111111111111,
             "#46039f"
            ],
            [
             0.2222222222222222,
             "#7201a8"
            ],
            [
             0.3333333333333333,
             "#9c179e"
            ],
            [
             0.4444444444444444,
             "#bd3786"
            ],
            [
             0.5555555555555556,
             "#d8576b"
            ],
            [
             0.6666666666666666,
             "#ed7953"
            ],
            [
             0.7777777777777778,
             "#fb9f3a"
            ],
            [
             0.8888888888888888,
             "#fdca26"
            ],
            [
             1,
             "#f0f921"
            ]
           ]
          },
          "colorway": [
           "#636efa",
           "#EF553B",
           "#00cc96",
           "#ab63fa",
           "#FFA15A",
           "#19d3f3",
           "#FF6692",
           "#B6E880",
           "#FF97FF",
           "#FECB52"
          ],
          "font": {
           "color": "#2a3f5f"
          },
          "geo": {
           "bgcolor": "white",
           "lakecolor": "white",
           "landcolor": "#E5ECF6",
           "showlakes": true,
           "showland": true,
           "subunitcolor": "white"
          },
          "hoverlabel": {
           "align": "left"
          },
          "hovermode": "closest",
          "mapbox": {
           "style": "light"
          },
          "paper_bgcolor": "white",
          "plot_bgcolor": "#E5ECF6",
          "polar": {
           "angularaxis": {
            "gridcolor": "white",
            "linecolor": "white",
            "ticks": ""
           },
           "bgcolor": "#E5ECF6",
           "radialaxis": {
            "gridcolor": "white",
            "linecolor": "white",
            "ticks": ""
           }
          },
          "scene": {
           "xaxis": {
            "backgroundcolor": "#E5ECF6",
            "gridcolor": "white",
            "gridwidth": 2,
            "linecolor": "white",
            "showbackground": true,
            "ticks": "",
            "zerolinecolor": "white"
           },
           "yaxis": {
            "backgroundcolor": "#E5ECF6",
            "gridcolor": "white",
            "gridwidth": 2,
            "linecolor": "white",
            "showbackground": true,
            "ticks": "",
            "zerolinecolor": "white"
           },
           "zaxis": {
            "backgroundcolor": "#E5ECF6",
            "gridcolor": "white",
            "gridwidth": 2,
            "linecolor": "white",
            "showbackground": true,
            "ticks": "",
            "zerolinecolor": "white"
           }
          },
          "shapedefaults": {
           "line": {
            "color": "#2a3f5f"
           }
          },
          "ternary": {
           "aaxis": {
            "gridcolor": "white",
            "linecolor": "white",
            "ticks": ""
           },
           "baxis": {
            "gridcolor": "white",
            "linecolor": "white",
            "ticks": ""
           },
           "bgcolor": "#E5ECF6",
           "caxis": {
            "gridcolor": "white",
            "linecolor": "white",
            "ticks": ""
           }
          },
          "title": {
           "x": 0.05
          },
          "xaxis": {
           "automargin": true,
           "gridcolor": "white",
           "linecolor": "white",
           "ticks": "",
           "title": {
            "standoff": 15
           },
           "zerolinecolor": "white",
           "zerolinewidth": 2
          },
          "yaxis": {
           "automargin": true,
           "gridcolor": "white",
           "linecolor": "white",
           "ticks": "",
           "title": {
            "standoff": 15
           },
           "zerolinecolor": "white",
           "zerolinewidth": 2
          }
         }
        },
        "title": {
         "text": "Execution time of ForecasterRecursiveMultiSeries_backtesting_series_is_dict_exog_is_dict"
        },
        "xaxis": {
         "tickangle": -45,
         "tickmode": "array",
         "ticktext": [
          "0.14.0",
          "0.15.1",
          "0.16.0"
         ],
         "tickvals": [
          0,
          1,
          2
         ],
         "title": {
          "text": "skforecast version"
         }
        },
        "yaxis": {
         "title": {
          "text": "Execution time (seconds)"
         }
        }
       }
      }
     },
     "metadata": {},
     "output_type": "display_data"
    },
    {
     "data": {
      "application/vnd.plotly.v1+json": {
       "config": {
        "plotlyServerURL": "https://plot.ly"
       },
       "data": [
        {
         "error_y": {
          "array": {
           "bdata": "kkYi07dEyz/MAQYOMpzBPw==",
           "dtype": "f8"
          },
          "color": "#636EFA",
          "thickness": 1.5,
          "type": "data",
          "visible": true,
          "width": 5
         },
         "hovertemplate": "%{text}<extra></extra>",
         "marker": {
          "color": "#636EFA",
          "opacity": 0.7,
          "size": 10
         },
         "mode": "markers",
         "name": "Run time - 0.14.0",
         "showlegend": true,
         "text": [
          "Forecaster: ForecasterRecursiveMultiSeries<br>Regressor: LGBMRegressor<br>Function: ForecasterRecursiveMultiSeries_backtesting_series_is_dataframe_no_exog<br>Function_hash: 77968c38bfc431991b56a6500970e471<br>Datetime: 2025-04-24 10:44:51.118971<br>Python version: 3.11.10<br>skforecast version: 0.14.0<br>numpy version: 2.1.3<br>pandas version: 2.2.3<br>sklearn version: 1.6.1<br>lightgbm version: 4.5.0<br>Platform: Windows-10-10.0.19045-SP0<br>Processor: Intel64 Family 6 Model 141 Stepping 1, GenuineIntel<br>CPU count: 16<br>Memory (GB): 34.07<br>",
          "Forecaster: ForecasterRecursiveMultiSeries<br>Regressor: LGBMRegressor<br>Function: ForecasterRecursiveMultiSeries_backtesting_series_is_dataframe_no_exog<br>Function_hash: 77968c38bfc431991b56a6500970e471<br>Datetime: 2025-04-24 11:12:07.236935<br>Python version: 3.11.10<br>skforecast version: 0.14.0<br>numpy version: 2.1.3<br>pandas version: 2.2.3<br>sklearn version: 1.6.1<br>lightgbm version: 4.5.0<br>Platform: Windows-10-10.0.19045-SP0<br>Processor: Intel64 Family 6 Model 141 Stepping 1, GenuineIntel<br>CPU count: 16<br>Memory (GB): 34.07<br>"
         ],
         "type": "scatter",
         "x": {
          "bdata": "fByzX9/Fir9AKClBT8iAPw==",
          "dtype": "f8"
         },
         "y": {
          "bdata": "mtkK9U+TJEAAYPQ2ss4kQA==",
          "dtype": "f8"
         }
        },
        {
         "error_y": {
          "array": {
           "bdata": "zwYSz8IH3z+VMgawmevDP7hDYLN+evQ/",
           "dtype": "f8"
          },
          "color": "#EF553B",
          "thickness": 1.5,
          "type": "data",
          "visible": true,
          "width": 5
         },
         "hovertemplate": "%{text}<extra></extra>",
         "marker": {
          "color": "#EF553B",
          "opacity": 0.7,
          "size": 10
         },
         "mode": "markers",
         "name": "Run time - 0.15.1",
         "showlegend": true,
         "text": [
          "Forecaster: ForecasterRecursiveMultiSeries<br>Regressor: LGBMRegressor<br>Function: ForecasterRecursiveMultiSeries_backtesting_series_is_dataframe_no_exog<br>Function_hash: 77968c38bfc431991b56a6500970e471<br>Datetime: 2025-04-24 10:38:45.612438<br>Python version: 3.11.10<br>skforecast version: 0.15.1<br>numpy version: 2.1.3<br>pandas version: 2.2.3<br>sklearn version: 1.6.1<br>lightgbm version: 4.5.0<br>Platform: Windows-10-10.0.19045-SP0<br>Processor: Intel64 Family 6 Model 141 Stepping 1, GenuineIntel<br>CPU count: 16<br>Memory (GB): 34.07<br>",
          "Forecaster: ForecasterRecursiveMultiSeries<br>Regressor: LGBMRegressor<br>Function: ForecasterRecursiveMultiSeries_backtesting_series_is_dataframe_no_exog<br>Function_hash: 77968c38bfc431991b56a6500970e471<br>Datetime: 2025-04-24 11:22:05.448858<br>Python version: 3.11.10<br>skforecast version: 0.15.1<br>numpy version: 2.1.3<br>pandas version: 2.2.3<br>sklearn version: 1.6.1<br>lightgbm version: 4.5.0<br>Platform: Windows-10-10.0.19045-SP0<br>Processor: Intel64 Family 6 Model 141 Stepping 1, GenuineIntel<br>CPU count: 16<br>Memory (GB): 34.07<br>",
          "Forecaster: ForecasterRecursiveMultiSeries<br>Regressor: LGBMRegressor<br>Function: ForecasterRecursiveMultiSeries_backtesting_series_is_dataframe_no_exog<br>Function_hash: 77968c38bfc431991b56a6500970e471<br>Datetime: 2025-04-24 22:58:30.203036<br>Python version: 3.12.9<br>skforecast version: 0.15.1<br>numpy version: 2.2.5<br>pandas version: 2.2.3<br>sklearn version: 1.6.1<br>lightgbm version: 4.6.0<br>Platform: Linux-6.11.0-24-generic-x86_64-with-glibc2.39<br>Processor: x86_64<br>CPU count: 8<br>Memory (GB): 16.64<br>"
         ],
         "type": "scatter",
         "x": {
          "bdata": "WsufM0wh8D/sid4cvavwP0fPO5Hnwu4/",
          "dtype": "f8"
         },
         "y": {
          "bdata": "ZoZq0H5BKUAzE2JfmZApQGY2unLRLzJA",
          "dtype": "f8"
         }
        },
        {
         "error_y": {
          "array": {
           "bdata": "iVDARJ02wD+a+z6HaWS9PwfhCJ//ruY/",
           "dtype": "f8"
          },
          "color": "#00CC96",
          "thickness": 1.5,
          "type": "data",
          "visible": true,
          "width": 5
         },
         "hovertemplate": "%{text}<extra></extra>",
         "marker": {
          "color": "#00CC96",
          "opacity": 0.7,
          "size": 10
         },
         "mode": "markers",
         "name": "Run time - 0.16.0",
         "showlegend": true,
         "text": [
          "Forecaster: ForecasterRecursiveMultiSeries<br>Regressor: LGBMRegressor<br>Function: ForecasterRecursiveMultiSeries_backtesting_series_is_dataframe_no_exog<br>Function_hash: 77968c38bfc431991b56a6500970e471<br>Datetime: 2025-04-24 18:06:07.947284<br>Python version: 3.11.10<br>skforecast version: 0.16.0<br>numpy version: 2.2.5<br>pandas version: 2.2.3<br>sklearn version: 1.6.1<br>lightgbm version: 4.5.0<br>Platform: Windows-10-10.0.19045-SP0<br>Processor: Intel64 Family 6 Model 141 Stepping 1, GenuineIntel<br>CPU count: 16<br>Memory (GB): 34.07<br>",
          "Forecaster: ForecasterRecursiveMultiSeries<br>Regressor: LGBMRegressor<br>Function: ForecasterRecursiveMultiSeries_backtesting_series_is_dataframe_no_exog<br>Function_hash: 77968c38bfc431991b56a6500970e471<br>Datetime: 2025-04-24 18:20:55.233667<br>Python version: 3.11.10<br>skforecast version: 0.16.0<br>numpy version: 2.2.5<br>pandas version: 2.2.3<br>sklearn version: 1.6.1<br>lightgbm version: 4.5.0<br>Platform: Windows-10-10.0.19045-SP0<br>Processor: Intel64 Family 6 Model 141 Stepping 1, GenuineIntel<br>CPU count: 16<br>Memory (GB): 34.07<br>",
          "Forecaster: ForecasterRecursiveMultiSeries<br>Regressor: LGBMRegressor<br>Function: ForecasterRecursiveMultiSeries_backtesting_series_is_dataframe_no_exog<br>Function_hash: 77968c38bfc431991b56a6500970e471<br>Datetime: 2025-04-24 22:39:42.602392<br>Python version: 3.12.9<br>skforecast version: 0.16.0<br>numpy version: 2.2.5<br>pandas version: 2.2.3<br>sklearn version: 1.6.1<br>lightgbm version: 4.6.0<br>Platform: Linux-6.11.0-24-generic-x86_64-with-glibc2.39<br>Processor: x86_64<br>CPU count: 8<br>Memory (GB): 16.64<br>"
         ],
         "type": "scatter",
         "x": {
          "bdata": "XrVHMA+T/z88lcAF1isAQAT0BEErOwBA",
          "dtype": "f8"
         },
         "y": {
          "bdata": "mlk6DnJlJUDNbAQ0dMAiQADU/fhgaytA",
          "dtype": "f8"
         }
        },
        {
         "line": {
          "color": "black",
          "width": 2
         },
         "marker": {
          "color": "black",
          "size": 8
         },
         "mode": "lines+markers",
         "name": "Median (per version)",
         "type": "scatter",
         "x": {
          "bdata": "AAEC",
          "dtype": "i1"
         },
         "y": {
          "bdata": "zZz/FQGxJEAzE2JfmZApQJpZOg5yZSVA",
          "dtype": "f8"
         }
        },
        {
         "line": {
          "color": "black",
          "dash": "dash",
          "width": 2
         },
         "marker": {
          "color": "black",
          "size": 8
         },
         "mode": "lines+markers",
         "name": "Mean (per version)",
         "type": "scatter",
         "x": {
          "bdata": "AAEC",
          "dtype": "i1"
         },
         "y": {
          "bdata": "zZz/FQGxJEB3V8CxkxAtQHgzFGnChSZA",
          "dtype": "f8"
         }
        }
       ],
       "layout": {
        "showlegend": true,
        "template": {
         "data": {
          "bar": [
           {
            "error_x": {
             "color": "#2a3f5f"
            },
            "error_y": {
             "color": "#2a3f5f"
            },
            "marker": {
             "line": {
              "color": "#E5ECF6",
              "width": 0.5
             },
             "pattern": {
              "fillmode": "overlay",
              "size": 10,
              "solidity": 0.2
             }
            },
            "type": "bar"
           }
          ],
          "barpolar": [
           {
            "marker": {
             "line": {
              "color": "#E5ECF6",
              "width": 0.5
             },
             "pattern": {
              "fillmode": "overlay",
              "size": 10,
              "solidity": 0.2
             }
            },
            "type": "barpolar"
           }
          ],
          "carpet": [
           {
            "aaxis": {
             "endlinecolor": "#2a3f5f",
             "gridcolor": "white",
             "linecolor": "white",
             "minorgridcolor": "white",
             "startlinecolor": "#2a3f5f"
            },
            "baxis": {
             "endlinecolor": "#2a3f5f",
             "gridcolor": "white",
             "linecolor": "white",
             "minorgridcolor": "white",
             "startlinecolor": "#2a3f5f"
            },
            "type": "carpet"
           }
          ],
          "choropleth": [
           {
            "colorbar": {
             "outlinewidth": 0,
             "ticks": ""
            },
            "type": "choropleth"
           }
          ],
          "contour": [
           {
            "colorbar": {
             "outlinewidth": 0,
             "ticks": ""
            },
            "colorscale": [
             [
              0,
              "#0d0887"
             ],
             [
              0.1111111111111111,
              "#46039f"
             ],
             [
              0.2222222222222222,
              "#7201a8"
             ],
             [
              0.3333333333333333,
              "#9c179e"
             ],
             [
              0.4444444444444444,
              "#bd3786"
             ],
             [
              0.5555555555555556,
              "#d8576b"
             ],
             [
              0.6666666666666666,
              "#ed7953"
             ],
             [
              0.7777777777777778,
              "#fb9f3a"
             ],
             [
              0.8888888888888888,
              "#fdca26"
             ],
             [
              1,
              "#f0f921"
             ]
            ],
            "type": "contour"
           }
          ],
          "contourcarpet": [
           {
            "colorbar": {
             "outlinewidth": 0,
             "ticks": ""
            },
            "type": "contourcarpet"
           }
          ],
          "heatmap": [
           {
            "colorbar": {
             "outlinewidth": 0,
             "ticks": ""
            },
            "colorscale": [
             [
              0,
              "#0d0887"
             ],
             [
              0.1111111111111111,
              "#46039f"
             ],
             [
              0.2222222222222222,
              "#7201a8"
             ],
             [
              0.3333333333333333,
              "#9c179e"
             ],
             [
              0.4444444444444444,
              "#bd3786"
             ],
             [
              0.5555555555555556,
              "#d8576b"
             ],
             [
              0.6666666666666666,
              "#ed7953"
             ],
             [
              0.7777777777777778,
              "#fb9f3a"
             ],
             [
              0.8888888888888888,
              "#fdca26"
             ],
             [
              1,
              "#f0f921"
             ]
            ],
            "type": "heatmap"
           }
          ],
          "histogram": [
           {
            "marker": {
             "pattern": {
              "fillmode": "overlay",
              "size": 10,
              "solidity": 0.2
             }
            },
            "type": "histogram"
           }
          ],
          "histogram2d": [
           {
            "colorbar": {
             "outlinewidth": 0,
             "ticks": ""
            },
            "colorscale": [
             [
              0,
              "#0d0887"
             ],
             [
              0.1111111111111111,
              "#46039f"
             ],
             [
              0.2222222222222222,
              "#7201a8"
             ],
             [
              0.3333333333333333,
              "#9c179e"
             ],
             [
              0.4444444444444444,
              "#bd3786"
             ],
             [
              0.5555555555555556,
              "#d8576b"
             ],
             [
              0.6666666666666666,
              "#ed7953"
             ],
             [
              0.7777777777777778,
              "#fb9f3a"
             ],
             [
              0.8888888888888888,
              "#fdca26"
             ],
             [
              1,
              "#f0f921"
             ]
            ],
            "type": "histogram2d"
           }
          ],
          "histogram2dcontour": [
           {
            "colorbar": {
             "outlinewidth": 0,
             "ticks": ""
            },
            "colorscale": [
             [
              0,
              "#0d0887"
             ],
             [
              0.1111111111111111,
              "#46039f"
             ],
             [
              0.2222222222222222,
              "#7201a8"
             ],
             [
              0.3333333333333333,
              "#9c179e"
             ],
             [
              0.4444444444444444,
              "#bd3786"
             ],
             [
              0.5555555555555556,
              "#d8576b"
             ],
             [
              0.6666666666666666,
              "#ed7953"
             ],
             [
              0.7777777777777778,
              "#fb9f3a"
             ],
             [
              0.8888888888888888,
              "#fdca26"
             ],
             [
              1,
              "#f0f921"
             ]
            ],
            "type": "histogram2dcontour"
           }
          ],
          "mesh3d": [
           {
            "colorbar": {
             "outlinewidth": 0,
             "ticks": ""
            },
            "type": "mesh3d"
           }
          ],
          "parcoords": [
           {
            "line": {
             "colorbar": {
              "outlinewidth": 0,
              "ticks": ""
             }
            },
            "type": "parcoords"
           }
          ],
          "pie": [
           {
            "automargin": true,
            "type": "pie"
           }
          ],
          "scatter": [
           {
            "fillpattern": {
             "fillmode": "overlay",
             "size": 10,
             "solidity": 0.2
            },
            "type": "scatter"
           }
          ],
          "scatter3d": [
           {
            "line": {
             "colorbar": {
              "outlinewidth": 0,
              "ticks": ""
             }
            },
            "marker": {
             "colorbar": {
              "outlinewidth": 0,
              "ticks": ""
             }
            },
            "type": "scatter3d"
           }
          ],
          "scattercarpet": [
           {
            "marker": {
             "colorbar": {
              "outlinewidth": 0,
              "ticks": ""
             }
            },
            "type": "scattercarpet"
           }
          ],
          "scattergeo": [
           {
            "marker": {
             "colorbar": {
              "outlinewidth": 0,
              "ticks": ""
             }
            },
            "type": "scattergeo"
           }
          ],
          "scattergl": [
           {
            "marker": {
             "colorbar": {
              "outlinewidth": 0,
              "ticks": ""
             }
            },
            "type": "scattergl"
           }
          ],
          "scattermap": [
           {
            "marker": {
             "colorbar": {
              "outlinewidth": 0,
              "ticks": ""
             }
            },
            "type": "scattermap"
           }
          ],
          "scattermapbox": [
           {
            "marker": {
             "colorbar": {
              "outlinewidth": 0,
              "ticks": ""
             }
            },
            "type": "scattermapbox"
           }
          ],
          "scatterpolar": [
           {
            "marker": {
             "colorbar": {
              "outlinewidth": 0,
              "ticks": ""
             }
            },
            "type": "scatterpolar"
           }
          ],
          "scatterpolargl": [
           {
            "marker": {
             "colorbar": {
              "outlinewidth": 0,
              "ticks": ""
             }
            },
            "type": "scatterpolargl"
           }
          ],
          "scatterternary": [
           {
            "marker": {
             "colorbar": {
              "outlinewidth": 0,
              "ticks": ""
             }
            },
            "type": "scatterternary"
           }
          ],
          "surface": [
           {
            "colorbar": {
             "outlinewidth": 0,
             "ticks": ""
            },
            "colorscale": [
             [
              0,
              "#0d0887"
             ],
             [
              0.1111111111111111,
              "#46039f"
             ],
             [
              0.2222222222222222,
              "#7201a8"
             ],
             [
              0.3333333333333333,
              "#9c179e"
             ],
             [
              0.4444444444444444,
              "#bd3786"
             ],
             [
              0.5555555555555556,
              "#d8576b"
             ],
             [
              0.6666666666666666,
              "#ed7953"
             ],
             [
              0.7777777777777778,
              "#fb9f3a"
             ],
             [
              0.8888888888888888,
              "#fdca26"
             ],
             [
              1,
              "#f0f921"
             ]
            ],
            "type": "surface"
           }
          ],
          "table": [
           {
            "cells": {
             "fill": {
              "color": "#EBF0F8"
             },
             "line": {
              "color": "white"
             }
            },
            "header": {
             "fill": {
              "color": "#C8D4E3"
             },
             "line": {
              "color": "white"
             }
            },
            "type": "table"
           }
          ]
         },
         "layout": {
          "annotationdefaults": {
           "arrowcolor": "#2a3f5f",
           "arrowhead": 0,
           "arrowwidth": 1
          },
          "autotypenumbers": "strict",
          "coloraxis": {
           "colorbar": {
            "outlinewidth": 0,
            "ticks": ""
           }
          },
          "colorscale": {
           "diverging": [
            [
             0,
             "#8e0152"
            ],
            [
             0.1,
             "#c51b7d"
            ],
            [
             0.2,
             "#de77ae"
            ],
            [
             0.3,
             "#f1b6da"
            ],
            [
             0.4,
             "#fde0ef"
            ],
            [
             0.5,
             "#f7f7f7"
            ],
            [
             0.6,
             "#e6f5d0"
            ],
            [
             0.7,
             "#b8e186"
            ],
            [
             0.8,
             "#7fbc41"
            ],
            [
             0.9,
             "#4d9221"
            ],
            [
             1,
             "#276419"
            ]
           ],
           "sequential": [
            [
             0,
             "#0d0887"
            ],
            [
             0.1111111111111111,
             "#46039f"
            ],
            [
             0.2222222222222222,
             "#7201a8"
            ],
            [
             0.3333333333333333,
             "#9c179e"
            ],
            [
             0.4444444444444444,
             "#bd3786"
            ],
            [
             0.5555555555555556,
             "#d8576b"
            ],
            [
             0.6666666666666666,
             "#ed7953"
            ],
            [
             0.7777777777777778,
             "#fb9f3a"
            ],
            [
             0.8888888888888888,
             "#fdca26"
            ],
            [
             1,
             "#f0f921"
            ]
           ],
           "sequentialminus": [
            [
             0,
             "#0d0887"
            ],
            [
             0.1111111111111111,
             "#46039f"
            ],
            [
             0.2222222222222222,
             "#7201a8"
            ],
            [
             0.3333333333333333,
             "#9c179e"
            ],
            [
             0.4444444444444444,
             "#bd3786"
            ],
            [
             0.5555555555555556,
             "#d8576b"
            ],
            [
             0.6666666666666666,
             "#ed7953"
            ],
            [
             0.7777777777777778,
             "#fb9f3a"
            ],
            [
             0.8888888888888888,
             "#fdca26"
            ],
            [
             1,
             "#f0f921"
            ]
           ]
          },
          "colorway": [
           "#636efa",
           "#EF553B",
           "#00cc96",
           "#ab63fa",
           "#FFA15A",
           "#19d3f3",
           "#FF6692",
           "#B6E880",
           "#FF97FF",
           "#FECB52"
          ],
          "font": {
           "color": "#2a3f5f"
          },
          "geo": {
           "bgcolor": "white",
           "lakecolor": "white",
           "landcolor": "#E5ECF6",
           "showlakes": true,
           "showland": true,
           "subunitcolor": "white"
          },
          "hoverlabel": {
           "align": "left"
          },
          "hovermode": "closest",
          "mapbox": {
           "style": "light"
          },
          "paper_bgcolor": "white",
          "plot_bgcolor": "#E5ECF6",
          "polar": {
           "angularaxis": {
            "gridcolor": "white",
            "linecolor": "white",
            "ticks": ""
           },
           "bgcolor": "#E5ECF6",
           "radialaxis": {
            "gridcolor": "white",
            "linecolor": "white",
            "ticks": ""
           }
          },
          "scene": {
           "xaxis": {
            "backgroundcolor": "#E5ECF6",
            "gridcolor": "white",
            "gridwidth": 2,
            "linecolor": "white",
            "showbackground": true,
            "ticks": "",
            "zerolinecolor": "white"
           },
           "yaxis": {
            "backgroundcolor": "#E5ECF6",
            "gridcolor": "white",
            "gridwidth": 2,
            "linecolor": "white",
            "showbackground": true,
            "ticks": "",
            "zerolinecolor": "white"
           },
           "zaxis": {
            "backgroundcolor": "#E5ECF6",
            "gridcolor": "white",
            "gridwidth": 2,
            "linecolor": "white",
            "showbackground": true,
            "ticks": "",
            "zerolinecolor": "white"
           }
          },
          "shapedefaults": {
           "line": {
            "color": "#2a3f5f"
           }
          },
          "ternary": {
           "aaxis": {
            "gridcolor": "white",
            "linecolor": "white",
            "ticks": ""
           },
           "baxis": {
            "gridcolor": "white",
            "linecolor": "white",
            "ticks": ""
           },
           "bgcolor": "#E5ECF6",
           "caxis": {
            "gridcolor": "white",
            "linecolor": "white",
            "ticks": ""
           }
          },
          "title": {
           "x": 0.05
          },
          "xaxis": {
           "automargin": true,
           "gridcolor": "white",
           "linecolor": "white",
           "ticks": "",
           "title": {
            "standoff": 15
           },
           "zerolinecolor": "white",
           "zerolinewidth": 2
          },
          "yaxis": {
           "automargin": true,
           "gridcolor": "white",
           "linecolor": "white",
           "ticks": "",
           "title": {
            "standoff": 15
           },
           "zerolinecolor": "white",
           "zerolinewidth": 2
          }
         }
        },
        "title": {
         "text": "Execution time of ForecasterRecursiveMultiSeries_backtesting_series_is_dataframe_no_exog"
        },
        "xaxis": {
         "tickangle": -45,
         "tickmode": "array",
         "ticktext": [
          "0.14.0",
          "0.15.1",
          "0.16.0"
         ],
         "tickvals": [
          0,
          1,
          2
         ],
         "title": {
          "text": "skforecast version"
         }
        },
        "yaxis": {
         "title": {
          "text": "Execution time (seconds)"
         }
        }
       }
      }
     },
     "metadata": {},
     "output_type": "display_data"
    },
    {
     "data": {
      "application/vnd.plotly.v1+json": {
       "config": {
        "plotlyServerURL": "https://plot.ly"
       },
       "data": [
        {
         "error_y": {
          "array": {
           "bdata": "z0DUoDIkoT8=",
           "dtype": "f8"
          },
          "color": "#636EFA",
          "thickness": 1.5,
          "type": "data",
          "visible": true,
          "width": 5
         },
         "hovertemplate": "%{text}<extra></extra>",
         "marker": {
          "color": "#636EFA",
          "opacity": 0.7,
          "size": 10
         },
         "mode": "markers",
         "name": "Run time - 0.15.1",
         "showlegend": true,
         "text": [
          "Forecaster: ForecasterRecursiveMultiSeries<br>Regressor: LGBMRegressor<br>Function: ForecasterRecursiveMultiSeries__create_train_X_y_series_is_dataframe_exog_dict<br>Function_hash: ace3e84de8c6ee0baf7abe80c790a1db<br>Datetime: 2025-04-24 22:50:47.016292<br>Python version: 3.12.9<br>skforecast version: 0.15.1<br>numpy version: 2.2.5<br>pandas version: 2.2.3<br>sklearn version: 1.6.1<br>lightgbm version: 4.6.0<br>Platform: Linux-6.11.0-24-generic-x86_64-with-glibc2.39<br>Processor: x86_64<br>CPU count: 8<br>Memory (GB): 16.64<br>"
         ],
         "type": "scatter",
         "x": {
          "bdata": "fByzX9/Fir8=",
          "dtype": "f8"
         },
         "y": {
          "bdata": "M+s/YXrOAUA=",
          "dtype": "f8"
         }
        },
        {
         "error_y": {
          "array": {
           "bdata": "+xyFelJZsz/znL65GT6lPyevW9cJ9qE/",
           "dtype": "f8"
          },
          "color": "#EF553B",
          "thickness": 1.5,
          "type": "data",
          "visible": true,
          "width": 5
         },
         "hovertemplate": "%{text}<extra></extra>",
         "marker": {
          "color": "#EF553B",
          "opacity": 0.7,
          "size": 10
         },
         "mode": "markers",
         "name": "Run time - 0.16.0",
         "showlegend": true,
         "text": [
          "Forecaster: ForecasterRecursiveMultiSeries<br>Regressor: LGBMRegressor<br>Function: ForecasterRecursiveMultiSeries__create_train_X_y_series_is_dataframe_exog_dict<br>Function_hash: ace3e84de8c6ee0baf7abe80c790a1db<br>Datetime: 2025-04-24 18:02:30.636992<br>Python version: 3.11.10<br>skforecast version: 0.16.0<br>numpy version: 2.2.5<br>pandas version: 2.2.3<br>sklearn version: 1.6.1<br>lightgbm version: 4.5.0<br>Platform: Windows-10-10.0.19045-SP0<br>Processor: Intel64 Family 6 Model 141 Stepping 1, GenuineIntel<br>CPU count: 16<br>Memory (GB): 34.07<br>",
          "Forecaster: ForecasterRecursiveMultiSeries<br>Regressor: LGBMRegressor<br>Function: ForecasterRecursiveMultiSeries__create_train_X_y_series_is_dataframe_exog_dict<br>Function_hash: ace3e84de8c6ee0baf7abe80c790a1db<br>Datetime: 2025-04-24 18:17:40.756467<br>Python version: 3.11.10<br>skforecast version: 0.16.0<br>numpy version: 2.2.5<br>pandas version: 2.2.3<br>sklearn version: 1.6.1<br>lightgbm version: 4.5.0<br>Platform: Windows-10-10.0.19045-SP0<br>Processor: Intel64 Family 6 Model 141 Stepping 1, GenuineIntel<br>CPU count: 16<br>Memory (GB): 34.07<br>",
          "Forecaster: ForecasterRecursiveMultiSeries<br>Regressor: LGBMRegressor<br>Function: ForecasterRecursiveMultiSeries__create_train_X_y_series_is_dataframe_exog_dict<br>Function_hash: ace3e84de8c6ee0baf7abe80c790a1db<br>Datetime: 2025-04-24 22:34:58.197359<br>Python version: 3.12.9<br>skforecast version: 0.16.0<br>numpy version: 2.2.5<br>pandas version: 2.2.3<br>sklearn version: 1.6.1<br>lightgbm version: 4.6.0<br>Platform: Linux-6.11.0-24-generic-x86_64-with-glibc2.39<br>Processor: x86_64<br>CPU count: 8<br>Memory (GB): 16.64<br>"
         ],
         "type": "scatter",
         "x": {
          "bdata": "UFKCnpAh8D9ay58zTCHwP+yJ3hy9q/A/",
          "dtype": "f8"
         },
         "y": {
          "bdata": "ZubNOVdI+T8zMy0PqQT2P5q5v6F/bPY/",
          "dtype": "f8"
         }
        },
        {
         "line": {
          "color": "black",
          "width": 2
         },
         "marker": {
          "color": "black",
          "size": 8
         },
         "mode": "lines+markers",
         "name": "Median (per version)",
         "type": "scatter",
         "x": {
          "bdata": "AAE=",
          "dtype": "i1"
         },
         "y": {
          "bdata": "M+s/YXrOAUCaub+hf2z2Pw==",
          "dtype": "f8"
         }
        },
        {
         "line": {
          "color": "black",
          "dash": "dash",
          "width": 2
         },
         "marker": {
          "color": "black",
          "size": 8
         },
         "mode": "lines+markers",
         "name": "Mean (per version)",
         "type": "scatter",
         "x": {
          "bdata": "AAE=",
          "dtype": "i1"
         },
         "y": {
          "bdata": "M+s/YXrOAUBnRj5O1T33Pw==",
          "dtype": "f8"
         }
        }
       ],
       "layout": {
        "showlegend": true,
        "template": {
         "data": {
          "bar": [
           {
            "error_x": {
             "color": "#2a3f5f"
            },
            "error_y": {
             "color": "#2a3f5f"
            },
            "marker": {
             "line": {
              "color": "#E5ECF6",
              "width": 0.5
             },
             "pattern": {
              "fillmode": "overlay",
              "size": 10,
              "solidity": 0.2
             }
            },
            "type": "bar"
           }
          ],
          "barpolar": [
           {
            "marker": {
             "line": {
              "color": "#E5ECF6",
              "width": 0.5
             },
             "pattern": {
              "fillmode": "overlay",
              "size": 10,
              "solidity": 0.2
             }
            },
            "type": "barpolar"
           }
          ],
          "carpet": [
           {
            "aaxis": {
             "endlinecolor": "#2a3f5f",
             "gridcolor": "white",
             "linecolor": "white",
             "minorgridcolor": "white",
             "startlinecolor": "#2a3f5f"
            },
            "baxis": {
             "endlinecolor": "#2a3f5f",
             "gridcolor": "white",
             "linecolor": "white",
             "minorgridcolor": "white",
             "startlinecolor": "#2a3f5f"
            },
            "type": "carpet"
           }
          ],
          "choropleth": [
           {
            "colorbar": {
             "outlinewidth": 0,
             "ticks": ""
            },
            "type": "choropleth"
           }
          ],
          "contour": [
           {
            "colorbar": {
             "outlinewidth": 0,
             "ticks": ""
            },
            "colorscale": [
             [
              0,
              "#0d0887"
             ],
             [
              0.1111111111111111,
              "#46039f"
             ],
             [
              0.2222222222222222,
              "#7201a8"
             ],
             [
              0.3333333333333333,
              "#9c179e"
             ],
             [
              0.4444444444444444,
              "#bd3786"
             ],
             [
              0.5555555555555556,
              "#d8576b"
             ],
             [
              0.6666666666666666,
              "#ed7953"
             ],
             [
              0.7777777777777778,
              "#fb9f3a"
             ],
             [
              0.8888888888888888,
              "#fdca26"
             ],
             [
              1,
              "#f0f921"
             ]
            ],
            "type": "contour"
           }
          ],
          "contourcarpet": [
           {
            "colorbar": {
             "outlinewidth": 0,
             "ticks": ""
            },
            "type": "contourcarpet"
           }
          ],
          "heatmap": [
           {
            "colorbar": {
             "outlinewidth": 0,
             "ticks": ""
            },
            "colorscale": [
             [
              0,
              "#0d0887"
             ],
             [
              0.1111111111111111,
              "#46039f"
             ],
             [
              0.2222222222222222,
              "#7201a8"
             ],
             [
              0.3333333333333333,
              "#9c179e"
             ],
             [
              0.4444444444444444,
              "#bd3786"
             ],
             [
              0.5555555555555556,
              "#d8576b"
             ],
             [
              0.6666666666666666,
              "#ed7953"
             ],
             [
              0.7777777777777778,
              "#fb9f3a"
             ],
             [
              0.8888888888888888,
              "#fdca26"
             ],
             [
              1,
              "#f0f921"
             ]
            ],
            "type": "heatmap"
           }
          ],
          "histogram": [
           {
            "marker": {
             "pattern": {
              "fillmode": "overlay",
              "size": 10,
              "solidity": 0.2
             }
            },
            "type": "histogram"
           }
          ],
          "histogram2d": [
           {
            "colorbar": {
             "outlinewidth": 0,
             "ticks": ""
            },
            "colorscale": [
             [
              0,
              "#0d0887"
             ],
             [
              0.1111111111111111,
              "#46039f"
             ],
             [
              0.2222222222222222,
              "#7201a8"
             ],
             [
              0.3333333333333333,
              "#9c179e"
             ],
             [
              0.4444444444444444,
              "#bd3786"
             ],
             [
              0.5555555555555556,
              "#d8576b"
             ],
             [
              0.6666666666666666,
              "#ed7953"
             ],
             [
              0.7777777777777778,
              "#fb9f3a"
             ],
             [
              0.8888888888888888,
              "#fdca26"
             ],
             [
              1,
              "#f0f921"
             ]
            ],
            "type": "histogram2d"
           }
          ],
          "histogram2dcontour": [
           {
            "colorbar": {
             "outlinewidth": 0,
             "ticks": ""
            },
            "colorscale": [
             [
              0,
              "#0d0887"
             ],
             [
              0.1111111111111111,
              "#46039f"
             ],
             [
              0.2222222222222222,
              "#7201a8"
             ],
             [
              0.3333333333333333,
              "#9c179e"
             ],
             [
              0.4444444444444444,
              "#bd3786"
             ],
             [
              0.5555555555555556,
              "#d8576b"
             ],
             [
              0.6666666666666666,
              "#ed7953"
             ],
             [
              0.7777777777777778,
              "#fb9f3a"
             ],
             [
              0.8888888888888888,
              "#fdca26"
             ],
             [
              1,
              "#f0f921"
             ]
            ],
            "type": "histogram2dcontour"
           }
          ],
          "mesh3d": [
           {
            "colorbar": {
             "outlinewidth": 0,
             "ticks": ""
            },
            "type": "mesh3d"
           }
          ],
          "parcoords": [
           {
            "line": {
             "colorbar": {
              "outlinewidth": 0,
              "ticks": ""
             }
            },
            "type": "parcoords"
           }
          ],
          "pie": [
           {
            "automargin": true,
            "type": "pie"
           }
          ],
          "scatter": [
           {
            "fillpattern": {
             "fillmode": "overlay",
             "size": 10,
             "solidity": 0.2
            },
            "type": "scatter"
           }
          ],
          "scatter3d": [
           {
            "line": {
             "colorbar": {
              "outlinewidth": 0,
              "ticks": ""
             }
            },
            "marker": {
             "colorbar": {
              "outlinewidth": 0,
              "ticks": ""
             }
            },
            "type": "scatter3d"
           }
          ],
          "scattercarpet": [
           {
            "marker": {
             "colorbar": {
              "outlinewidth": 0,
              "ticks": ""
             }
            },
            "type": "scattercarpet"
           }
          ],
          "scattergeo": [
           {
            "marker": {
             "colorbar": {
              "outlinewidth": 0,
              "ticks": ""
             }
            },
            "type": "scattergeo"
           }
          ],
          "scattergl": [
           {
            "marker": {
             "colorbar": {
              "outlinewidth": 0,
              "ticks": ""
             }
            },
            "type": "scattergl"
           }
          ],
          "scattermap": [
           {
            "marker": {
             "colorbar": {
              "outlinewidth": 0,
              "ticks": ""
             }
            },
            "type": "scattermap"
           }
          ],
          "scattermapbox": [
           {
            "marker": {
             "colorbar": {
              "outlinewidth": 0,
              "ticks": ""
             }
            },
            "type": "scattermapbox"
           }
          ],
          "scatterpolar": [
           {
            "marker": {
             "colorbar": {
              "outlinewidth": 0,
              "ticks": ""
             }
            },
            "type": "scatterpolar"
           }
          ],
          "scatterpolargl": [
           {
            "marker": {
             "colorbar": {
              "outlinewidth": 0,
              "ticks": ""
             }
            },
            "type": "scatterpolargl"
           }
          ],
          "scatterternary": [
           {
            "marker": {
             "colorbar": {
              "outlinewidth": 0,
              "ticks": ""
             }
            },
            "type": "scatterternary"
           }
          ],
          "surface": [
           {
            "colorbar": {
             "outlinewidth": 0,
             "ticks": ""
            },
            "colorscale": [
             [
              0,
              "#0d0887"
             ],
             [
              0.1111111111111111,
              "#46039f"
             ],
             [
              0.2222222222222222,
              "#7201a8"
             ],
             [
              0.3333333333333333,
              "#9c179e"
             ],
             [
              0.4444444444444444,
              "#bd3786"
             ],
             [
              0.5555555555555556,
              "#d8576b"
             ],
             [
              0.6666666666666666,
              "#ed7953"
             ],
             [
              0.7777777777777778,
              "#fb9f3a"
             ],
             [
              0.8888888888888888,
              "#fdca26"
             ],
             [
              1,
              "#f0f921"
             ]
            ],
            "type": "surface"
           }
          ],
          "table": [
           {
            "cells": {
             "fill": {
              "color": "#EBF0F8"
             },
             "line": {
              "color": "white"
             }
            },
            "header": {
             "fill": {
              "color": "#C8D4E3"
             },
             "line": {
              "color": "white"
             }
            },
            "type": "table"
           }
          ]
         },
         "layout": {
          "annotationdefaults": {
           "arrowcolor": "#2a3f5f",
           "arrowhead": 0,
           "arrowwidth": 1
          },
          "autotypenumbers": "strict",
          "coloraxis": {
           "colorbar": {
            "outlinewidth": 0,
            "ticks": ""
           }
          },
          "colorscale": {
           "diverging": [
            [
             0,
             "#8e0152"
            ],
            [
             0.1,
             "#c51b7d"
            ],
            [
             0.2,
             "#de77ae"
            ],
            [
             0.3,
             "#f1b6da"
            ],
            [
             0.4,
             "#fde0ef"
            ],
            [
             0.5,
             "#f7f7f7"
            ],
            [
             0.6,
             "#e6f5d0"
            ],
            [
             0.7,
             "#b8e186"
            ],
            [
             0.8,
             "#7fbc41"
            ],
            [
             0.9,
             "#4d9221"
            ],
            [
             1,
             "#276419"
            ]
           ],
           "sequential": [
            [
             0,
             "#0d0887"
            ],
            [
             0.1111111111111111,
             "#46039f"
            ],
            [
             0.2222222222222222,
             "#7201a8"
            ],
            [
             0.3333333333333333,
             "#9c179e"
            ],
            [
             0.4444444444444444,
             "#bd3786"
            ],
            [
             0.5555555555555556,
             "#d8576b"
            ],
            [
             0.6666666666666666,
             "#ed7953"
            ],
            [
             0.7777777777777778,
             "#fb9f3a"
            ],
            [
             0.8888888888888888,
             "#fdca26"
            ],
            [
             1,
             "#f0f921"
            ]
           ],
           "sequentialminus": [
            [
             0,
             "#0d0887"
            ],
            [
             0.1111111111111111,
             "#46039f"
            ],
            [
             0.2222222222222222,
             "#7201a8"
            ],
            [
             0.3333333333333333,
             "#9c179e"
            ],
            [
             0.4444444444444444,
             "#bd3786"
            ],
            [
             0.5555555555555556,
             "#d8576b"
            ],
            [
             0.6666666666666666,
             "#ed7953"
            ],
            [
             0.7777777777777778,
             "#fb9f3a"
            ],
            [
             0.8888888888888888,
             "#fdca26"
            ],
            [
             1,
             "#f0f921"
            ]
           ]
          },
          "colorway": [
           "#636efa",
           "#EF553B",
           "#00cc96",
           "#ab63fa",
           "#FFA15A",
           "#19d3f3",
           "#FF6692",
           "#B6E880",
           "#FF97FF",
           "#FECB52"
          ],
          "font": {
           "color": "#2a3f5f"
          },
          "geo": {
           "bgcolor": "white",
           "lakecolor": "white",
           "landcolor": "#E5ECF6",
           "showlakes": true,
           "showland": true,
           "subunitcolor": "white"
          },
          "hoverlabel": {
           "align": "left"
          },
          "hovermode": "closest",
          "mapbox": {
           "style": "light"
          },
          "paper_bgcolor": "white",
          "plot_bgcolor": "#E5ECF6",
          "polar": {
           "angularaxis": {
            "gridcolor": "white",
            "linecolor": "white",
            "ticks": ""
           },
           "bgcolor": "#E5ECF6",
           "radialaxis": {
            "gridcolor": "white",
            "linecolor": "white",
            "ticks": ""
           }
          },
          "scene": {
           "xaxis": {
            "backgroundcolor": "#E5ECF6",
            "gridcolor": "white",
            "gridwidth": 2,
            "linecolor": "white",
            "showbackground": true,
            "ticks": "",
            "zerolinecolor": "white"
           },
           "yaxis": {
            "backgroundcolor": "#E5ECF6",
            "gridcolor": "white",
            "gridwidth": 2,
            "linecolor": "white",
            "showbackground": true,
            "ticks": "",
            "zerolinecolor": "white"
           },
           "zaxis": {
            "backgroundcolor": "#E5ECF6",
            "gridcolor": "white",
            "gridwidth": 2,
            "linecolor": "white",
            "showbackground": true,
            "ticks": "",
            "zerolinecolor": "white"
           }
          },
          "shapedefaults": {
           "line": {
            "color": "#2a3f5f"
           }
          },
          "ternary": {
           "aaxis": {
            "gridcolor": "white",
            "linecolor": "white",
            "ticks": ""
           },
           "baxis": {
            "gridcolor": "white",
            "linecolor": "white",
            "ticks": ""
           },
           "bgcolor": "#E5ECF6",
           "caxis": {
            "gridcolor": "white",
            "linecolor": "white",
            "ticks": ""
           }
          },
          "title": {
           "x": 0.05
          },
          "xaxis": {
           "automargin": true,
           "gridcolor": "white",
           "linecolor": "white",
           "ticks": "",
           "title": {
            "standoff": 15
           },
           "zerolinecolor": "white",
           "zerolinewidth": 2
          },
          "yaxis": {
           "automargin": true,
           "gridcolor": "white",
           "linecolor": "white",
           "ticks": "",
           "title": {
            "standoff": 15
           },
           "zerolinecolor": "white",
           "zerolinewidth": 2
          }
         }
        },
        "title": {
         "text": "Execution time of ForecasterRecursiveMultiSeries__create_train_X_y_series_is_dataframe_exog_dict"
        },
        "xaxis": {
         "tickangle": -45,
         "tickmode": "array",
         "ticktext": [
          "0.15.1",
          "0.16.0"
         ],
         "tickvals": [
          0,
          1
         ],
         "title": {
          "text": "skforecast version"
         }
        },
        "yaxis": {
         "title": {
          "text": "Execution time (seconds)"
         }
        }
       }
      }
     },
     "metadata": {},
     "output_type": "display_data"
    },
    {
     "data": {
      "application/vnd.plotly.v1+json": {
       "config": {
        "plotlyServerURL": "https://plot.ly"
       },
       "data": [
        {
         "error_y": {
          "array": {
           "bdata": "6lWURmyP8T8=",
           "dtype": "f8"
          },
          "color": "#636EFA",
          "thickness": 1.5,
          "type": "data",
          "visible": true,
          "width": 5
         },
         "hovertemplate": "%{text}<extra></extra>",
         "marker": {
          "color": "#636EFA",
          "opacity": 0.7,
          "size": 10
         },
         "mode": "markers",
         "name": "Run time - 0.15.1",
         "showlegend": true,
         "text": [
          "Forecaster: ForecasterRecursiveMultiSeries<br>Regressor: LGBMRegressor<br>Function: ForecasterRecursiveMultiSeries_backtesting_series_is_dataframe_exog_dict<br>Function_hash: d72f22d955e2149418d02e9e4f8b9a45<br>Datetime: 2025-04-24 23:01:54.513729<br>Python version: 3.12.9<br>skforecast version: 0.15.1<br>numpy version: 2.2.5<br>pandas version: 2.2.3<br>sklearn version: 1.6.1<br>lightgbm version: 4.6.0<br>Platform: Linux-6.11.0-24-generic-x86_64-with-glibc2.39<br>Processor: x86_64<br>CPU count: 8<br>Memory (GB): 16.64<br>"
         ],
         "type": "scatter",
         "x": {
          "bdata": "fByzX9/Fir8=",
          "dtype": "f8"
         },
         "y": {
          "bdata": "AM+Q5TVuREA=",
          "dtype": "f8"
         }
        },
        {
         "error_y": {
          "array": {
           "bdata": "s13gdEtQzT8vULTAzZnPPwDPjIifjdI/",
           "dtype": "f8"
          },
          "color": "#EF553B",
          "thickness": 1.5,
          "type": "data",
          "visible": true,
          "width": 5
         },
         "hovertemplate": "%{text}<extra></extra>",
         "marker": {
          "color": "#EF553B",
          "opacity": 0.7,
          "size": 10
         },
         "mode": "markers",
         "name": "Run time - 0.16.0",
         "showlegend": true,
         "text": [
          "Forecaster: ForecasterRecursiveMultiSeries<br>Regressor: LGBMRegressor<br>Function: ForecasterRecursiveMultiSeries_backtesting_series_is_dataframe_exog_dict<br>Function_hash: d72f22d955e2149418d02e9e4f8b9a45<br>Datetime: 2025-04-24 18:07:23.017057<br>Python version: 3.11.10<br>skforecast version: 0.16.0<br>numpy version: 2.2.5<br>pandas version: 2.2.3<br>sklearn version: 1.6.1<br>lightgbm version: 4.5.0<br>Platform: Windows-10-10.0.19045-SP0<br>Processor: Intel64 Family 6 Model 141 Stepping 1, GenuineIntel<br>CPU count: 16<br>Memory (GB): 34.07<br>",
          "Forecaster: ForecasterRecursiveMultiSeries<br>Regressor: LGBMRegressor<br>Function: ForecasterRecursiveMultiSeries_backtesting_series_is_dataframe_exog_dict<br>Function_hash: d72f22d955e2149418d02e9e4f8b9a45<br>Datetime: 2025-04-24 18:22:01.650838<br>Python version: 3.11.10<br>skforecast version: 0.16.0<br>numpy version: 2.2.5<br>pandas version: 2.2.3<br>sklearn version: 1.6.1<br>lightgbm version: 4.5.0<br>Platform: Windows-10-10.0.19045-SP0<br>Processor: Intel64 Family 6 Model 141 Stepping 1, GenuineIntel<br>CPU count: 16<br>Memory (GB): 34.07<br>",
          "Forecaster: ForecasterRecursiveMultiSeries<br>Regressor: LGBMRegressor<br>Function: ForecasterRecursiveMultiSeries_backtesting_series_is_dataframe_exog_dict<br>Function_hash: d72f22d955e2149418d02e9e4f8b9a45<br>Datetime: 2025-04-24 22:41:11.578988<br>Python version: 3.12.9<br>skforecast version: 0.16.0<br>numpy version: 2.2.5<br>pandas version: 2.2.3<br>sklearn version: 1.6.1<br>lightgbm version: 4.6.0<br>Platform: Linux-6.11.0-24-generic-x86_64-with-glibc2.39<br>Processor: x86_64<br>CPU count: 8<br>Memory (GB): 16.64<br>"
         ],
         "type": "scatter",
         "x": {
          "bdata": "UFKCnpAh8D9ay58zTCHwP+yJ3hy9q/A/",
          "dtype": "f8"
         },
         "y": {
          "bdata": "zWzVa6MDLkDNbD3P4Y4qQM14chNWyzFA",
          "dtype": "f8"
         }
        },
        {
         "line": {
          "color": "black",
          "width": 2
         },
         "marker": {
          "color": "black",
          "size": 8
         },
         "mode": "lines+markers",
         "name": "Median (per version)",
         "type": "scatter",
         "x": {
          "bdata": "AAE=",
          "dtype": "i1"
         },
         "y": {
          "bdata": "AM+Q5TVuREDNbNVrowMuQA==",
          "dtype": "f8"
         }
        },
        {
         "line": {
          "color": "black",
          "dash": "dash",
          "width": 2
         },
         "marker": {
          "color": "black",
          "size": 8
         },
         "mode": "lines+markers",
         "name": "Mean (per version)",
         "type": "scatter",
         "x": {
          "bdata": "AAE=",
          "dtype": "i1"
         },
         "y": {
          "bdata": "AM+Q5TVuREARmVLLZbguQA==",
          "dtype": "f8"
         }
        }
       ],
       "layout": {
        "showlegend": true,
        "template": {
         "data": {
          "bar": [
           {
            "error_x": {
             "color": "#2a3f5f"
            },
            "error_y": {
             "color": "#2a3f5f"
            },
            "marker": {
             "line": {
              "color": "#E5ECF6",
              "width": 0.5
             },
             "pattern": {
              "fillmode": "overlay",
              "size": 10,
              "solidity": 0.2
             }
            },
            "type": "bar"
           }
          ],
          "barpolar": [
           {
            "marker": {
             "line": {
              "color": "#E5ECF6",
              "width": 0.5
             },
             "pattern": {
              "fillmode": "overlay",
              "size": 10,
              "solidity": 0.2
             }
            },
            "type": "barpolar"
           }
          ],
          "carpet": [
           {
            "aaxis": {
             "endlinecolor": "#2a3f5f",
             "gridcolor": "white",
             "linecolor": "white",
             "minorgridcolor": "white",
             "startlinecolor": "#2a3f5f"
            },
            "baxis": {
             "endlinecolor": "#2a3f5f",
             "gridcolor": "white",
             "linecolor": "white",
             "minorgridcolor": "white",
             "startlinecolor": "#2a3f5f"
            },
            "type": "carpet"
           }
          ],
          "choropleth": [
           {
            "colorbar": {
             "outlinewidth": 0,
             "ticks": ""
            },
            "type": "choropleth"
           }
          ],
          "contour": [
           {
            "colorbar": {
             "outlinewidth": 0,
             "ticks": ""
            },
            "colorscale": [
             [
              0,
              "#0d0887"
             ],
             [
              0.1111111111111111,
              "#46039f"
             ],
             [
              0.2222222222222222,
              "#7201a8"
             ],
             [
              0.3333333333333333,
              "#9c179e"
             ],
             [
              0.4444444444444444,
              "#bd3786"
             ],
             [
              0.5555555555555556,
              "#d8576b"
             ],
             [
              0.6666666666666666,
              "#ed7953"
             ],
             [
              0.7777777777777778,
              "#fb9f3a"
             ],
             [
              0.8888888888888888,
              "#fdca26"
             ],
             [
              1,
              "#f0f921"
             ]
            ],
            "type": "contour"
           }
          ],
          "contourcarpet": [
           {
            "colorbar": {
             "outlinewidth": 0,
             "ticks": ""
            },
            "type": "contourcarpet"
           }
          ],
          "heatmap": [
           {
            "colorbar": {
             "outlinewidth": 0,
             "ticks": ""
            },
            "colorscale": [
             [
              0,
              "#0d0887"
             ],
             [
              0.1111111111111111,
              "#46039f"
             ],
             [
              0.2222222222222222,
              "#7201a8"
             ],
             [
              0.3333333333333333,
              "#9c179e"
             ],
             [
              0.4444444444444444,
              "#bd3786"
             ],
             [
              0.5555555555555556,
              "#d8576b"
             ],
             [
              0.6666666666666666,
              "#ed7953"
             ],
             [
              0.7777777777777778,
              "#fb9f3a"
             ],
             [
              0.8888888888888888,
              "#fdca26"
             ],
             [
              1,
              "#f0f921"
             ]
            ],
            "type": "heatmap"
           }
          ],
          "histogram": [
           {
            "marker": {
             "pattern": {
              "fillmode": "overlay",
              "size": 10,
              "solidity": 0.2
             }
            },
            "type": "histogram"
           }
          ],
          "histogram2d": [
           {
            "colorbar": {
             "outlinewidth": 0,
             "ticks": ""
            },
            "colorscale": [
             [
              0,
              "#0d0887"
             ],
             [
              0.1111111111111111,
              "#46039f"
             ],
             [
              0.2222222222222222,
              "#7201a8"
             ],
             [
              0.3333333333333333,
              "#9c179e"
             ],
             [
              0.4444444444444444,
              "#bd3786"
             ],
             [
              0.5555555555555556,
              "#d8576b"
             ],
             [
              0.6666666666666666,
              "#ed7953"
             ],
             [
              0.7777777777777778,
              "#fb9f3a"
             ],
             [
              0.8888888888888888,
              "#fdca26"
             ],
             [
              1,
              "#f0f921"
             ]
            ],
            "type": "histogram2d"
           }
          ],
          "histogram2dcontour": [
           {
            "colorbar": {
             "outlinewidth": 0,
             "ticks": ""
            },
            "colorscale": [
             [
              0,
              "#0d0887"
             ],
             [
              0.1111111111111111,
              "#46039f"
             ],
             [
              0.2222222222222222,
              "#7201a8"
             ],
             [
              0.3333333333333333,
              "#9c179e"
             ],
             [
              0.4444444444444444,
              "#bd3786"
             ],
             [
              0.5555555555555556,
              "#d8576b"
             ],
             [
              0.6666666666666666,
              "#ed7953"
             ],
             [
              0.7777777777777778,
              "#fb9f3a"
             ],
             [
              0.8888888888888888,
              "#fdca26"
             ],
             [
              1,
              "#f0f921"
             ]
            ],
            "type": "histogram2dcontour"
           }
          ],
          "mesh3d": [
           {
            "colorbar": {
             "outlinewidth": 0,
             "ticks": ""
            },
            "type": "mesh3d"
           }
          ],
          "parcoords": [
           {
            "line": {
             "colorbar": {
              "outlinewidth": 0,
              "ticks": ""
             }
            },
            "type": "parcoords"
           }
          ],
          "pie": [
           {
            "automargin": true,
            "type": "pie"
           }
          ],
          "scatter": [
           {
            "fillpattern": {
             "fillmode": "overlay",
             "size": 10,
             "solidity": 0.2
            },
            "type": "scatter"
           }
          ],
          "scatter3d": [
           {
            "line": {
             "colorbar": {
              "outlinewidth": 0,
              "ticks": ""
             }
            },
            "marker": {
             "colorbar": {
              "outlinewidth": 0,
              "ticks": ""
             }
            },
            "type": "scatter3d"
           }
          ],
          "scattercarpet": [
           {
            "marker": {
             "colorbar": {
              "outlinewidth": 0,
              "ticks": ""
             }
            },
            "type": "scattercarpet"
           }
          ],
          "scattergeo": [
           {
            "marker": {
             "colorbar": {
              "outlinewidth": 0,
              "ticks": ""
             }
            },
            "type": "scattergeo"
           }
          ],
          "scattergl": [
           {
            "marker": {
             "colorbar": {
              "outlinewidth": 0,
              "ticks": ""
             }
            },
            "type": "scattergl"
           }
          ],
          "scattermap": [
           {
            "marker": {
             "colorbar": {
              "outlinewidth": 0,
              "ticks": ""
             }
            },
            "type": "scattermap"
           }
          ],
          "scattermapbox": [
           {
            "marker": {
             "colorbar": {
              "outlinewidth": 0,
              "ticks": ""
             }
            },
            "type": "scattermapbox"
           }
          ],
          "scatterpolar": [
           {
            "marker": {
             "colorbar": {
              "outlinewidth": 0,
              "ticks": ""
             }
            },
            "type": "scatterpolar"
           }
          ],
          "scatterpolargl": [
           {
            "marker": {
             "colorbar": {
              "outlinewidth": 0,
              "ticks": ""
             }
            },
            "type": "scatterpolargl"
           }
          ],
          "scatterternary": [
           {
            "marker": {
             "colorbar": {
              "outlinewidth": 0,
              "ticks": ""
             }
            },
            "type": "scatterternary"
           }
          ],
          "surface": [
           {
            "colorbar": {
             "outlinewidth": 0,
             "ticks": ""
            },
            "colorscale": [
             [
              0,
              "#0d0887"
             ],
             [
              0.1111111111111111,
              "#46039f"
             ],
             [
              0.2222222222222222,
              "#7201a8"
             ],
             [
              0.3333333333333333,
              "#9c179e"
             ],
             [
              0.4444444444444444,
              "#bd3786"
             ],
             [
              0.5555555555555556,
              "#d8576b"
             ],
             [
              0.6666666666666666,
              "#ed7953"
             ],
             [
              0.7777777777777778,
              "#fb9f3a"
             ],
             [
              0.8888888888888888,
              "#fdca26"
             ],
             [
              1,
              "#f0f921"
             ]
            ],
            "type": "surface"
           }
          ],
          "table": [
           {
            "cells": {
             "fill": {
              "color": "#EBF0F8"
             },
             "line": {
              "color": "white"
             }
            },
            "header": {
             "fill": {
              "color": "#C8D4E3"
             },
             "line": {
              "color": "white"
             }
            },
            "type": "table"
           }
          ]
         },
         "layout": {
          "annotationdefaults": {
           "arrowcolor": "#2a3f5f",
           "arrowhead": 0,
           "arrowwidth": 1
          },
          "autotypenumbers": "strict",
          "coloraxis": {
           "colorbar": {
            "outlinewidth": 0,
            "ticks": ""
           }
          },
          "colorscale": {
           "diverging": [
            [
             0,
             "#8e0152"
            ],
            [
             0.1,
             "#c51b7d"
            ],
            [
             0.2,
             "#de77ae"
            ],
            [
             0.3,
             "#f1b6da"
            ],
            [
             0.4,
             "#fde0ef"
            ],
            [
             0.5,
             "#f7f7f7"
            ],
            [
             0.6,
             "#e6f5d0"
            ],
            [
             0.7,
             "#b8e186"
            ],
            [
             0.8,
             "#7fbc41"
            ],
            [
             0.9,
             "#4d9221"
            ],
            [
             1,
             "#276419"
            ]
           ],
           "sequential": [
            [
             0,
             "#0d0887"
            ],
            [
             0.1111111111111111,
             "#46039f"
            ],
            [
             0.2222222222222222,
             "#7201a8"
            ],
            [
             0.3333333333333333,
             "#9c179e"
            ],
            [
             0.4444444444444444,
             "#bd3786"
            ],
            [
             0.5555555555555556,
             "#d8576b"
            ],
            [
             0.6666666666666666,
             "#ed7953"
            ],
            [
             0.7777777777777778,
             "#fb9f3a"
            ],
            [
             0.8888888888888888,
             "#fdca26"
            ],
            [
             1,
             "#f0f921"
            ]
           ],
           "sequentialminus": [
            [
             0,
             "#0d0887"
            ],
            [
             0.1111111111111111,
             "#46039f"
            ],
            [
             0.2222222222222222,
             "#7201a8"
            ],
            [
             0.3333333333333333,
             "#9c179e"
            ],
            [
             0.4444444444444444,
             "#bd3786"
            ],
            [
             0.5555555555555556,
             "#d8576b"
            ],
            [
             0.6666666666666666,
             "#ed7953"
            ],
            [
             0.7777777777777778,
             "#fb9f3a"
            ],
            [
             0.8888888888888888,
             "#fdca26"
            ],
            [
             1,
             "#f0f921"
            ]
           ]
          },
          "colorway": [
           "#636efa",
           "#EF553B",
           "#00cc96",
           "#ab63fa",
           "#FFA15A",
           "#19d3f3",
           "#FF6692",
           "#B6E880",
           "#FF97FF",
           "#FECB52"
          ],
          "font": {
           "color": "#2a3f5f"
          },
          "geo": {
           "bgcolor": "white",
           "lakecolor": "white",
           "landcolor": "#E5ECF6",
           "showlakes": true,
           "showland": true,
           "subunitcolor": "white"
          },
          "hoverlabel": {
           "align": "left"
          },
          "hovermode": "closest",
          "mapbox": {
           "style": "light"
          },
          "paper_bgcolor": "white",
          "plot_bgcolor": "#E5ECF6",
          "polar": {
           "angularaxis": {
            "gridcolor": "white",
            "linecolor": "white",
            "ticks": ""
           },
           "bgcolor": "#E5ECF6",
           "radialaxis": {
            "gridcolor": "white",
            "linecolor": "white",
            "ticks": ""
           }
          },
          "scene": {
           "xaxis": {
            "backgroundcolor": "#E5ECF6",
            "gridcolor": "white",
            "gridwidth": 2,
            "linecolor": "white",
            "showbackground": true,
            "ticks": "",
            "zerolinecolor": "white"
           },
           "yaxis": {
            "backgroundcolor": "#E5ECF6",
            "gridcolor": "white",
            "gridwidth": 2,
            "linecolor": "white",
            "showbackground": true,
            "ticks": "",
            "zerolinecolor": "white"
           },
           "zaxis": {
            "backgroundcolor": "#E5ECF6",
            "gridcolor": "white",
            "gridwidth": 2,
            "linecolor": "white",
            "showbackground": true,
            "ticks": "",
            "zerolinecolor": "white"
           }
          },
          "shapedefaults": {
           "line": {
            "color": "#2a3f5f"
           }
          },
          "ternary": {
           "aaxis": {
            "gridcolor": "white",
            "linecolor": "white",
            "ticks": ""
           },
           "baxis": {
            "gridcolor": "white",
            "linecolor": "white",
            "ticks": ""
           },
           "bgcolor": "#E5ECF6",
           "caxis": {
            "gridcolor": "white",
            "linecolor": "white",
            "ticks": ""
           }
          },
          "title": {
           "x": 0.05
          },
          "xaxis": {
           "automargin": true,
           "gridcolor": "white",
           "linecolor": "white",
           "ticks": "",
           "title": {
            "standoff": 15
           },
           "zerolinecolor": "white",
           "zerolinewidth": 2
          },
          "yaxis": {
           "automargin": true,
           "gridcolor": "white",
           "linecolor": "white",
           "ticks": "",
           "title": {
            "standoff": 15
           },
           "zerolinecolor": "white",
           "zerolinewidth": 2
          }
         }
        },
        "title": {
         "text": "Execution time of ForecasterRecursiveMultiSeries_backtesting_series_is_dataframe_exog_dict"
        },
        "xaxis": {
         "tickangle": -45,
         "tickmode": "array",
         "ticktext": [
          "0.15.1",
          "0.16.0"
         ],
         "tickvals": [
          0,
          1
         ],
         "title": {
          "text": "skforecast version"
         }
        },
        "yaxis": {
         "title": {
          "text": "Execution time (seconds)"
         }
        }
       }
      }
     },
     "metadata": {},
     "output_type": "display_data"
    },
    {
     "data": {
      "application/vnd.plotly.v1+json": {
       "config": {
        "plotlyServerURL": "https://plot.ly"
       },
       "data": [
        {
         "error_y": {
          "array": {
           "bdata": "ilVTaKlk5z8=",
           "dtype": "f8"
          },
          "color": "#636EFA",
          "thickness": 1.5,
          "type": "data",
          "visible": true,
          "width": 5
         },
         "hovertemplate": "%{text}<extra></extra>",
         "marker": {
          "color": "#636EFA",
          "opacity": 0.7,
          "size": 10
         },
         "mode": "markers",
         "name": "Run time - 0.15.1",
         "showlegend": true,
         "text": [
          "Forecaster: ForecasterRecursiveMultiSeries<br>Regressor: LGBMRegressor<br>Function: ForecasterRecursiveMultiSeries_backtesting_series_is_dataframe_exog_dict_conformal<br>Function_hash: 4081578249b9beefbee5821991bb788b<br>Datetime: 2025-04-24 23:06:07.903988<br>Python version: 3.12.9<br>skforecast version: 0.15.1<br>numpy version: 2.2.5<br>pandas version: 2.2.3<br>sklearn version: 1.6.1<br>lightgbm version: 4.6.0<br>Platform: Linux-6.11.0-24-generic-x86_64-with-glibc2.39<br>Processor: x86_64<br>CPU count: 8<br>Memory (GB): 16.64<br>"
         ],
         "type": "scatter",
         "x": {
          "bdata": "fByzX9/Fir8=",
          "dtype": "f8"
         },
         "y": {
          "bdata": "msPKeaJWSUA=",
          "dtype": "f8"
         }
        },
        {
         "error_y": {
          "array": {
           "bdata": "1FzwHxf11T9MXWMxLuv4P3SqYYkWqMs/",
           "dtype": "f8"
          },
          "color": "#EF553B",
          "thickness": 1.5,
          "type": "data",
          "visible": true,
          "width": 5
         },
         "hovertemplate": "%{text}<extra></extra>",
         "marker": {
          "color": "#EF553B",
          "opacity": 0.7,
          "size": 10
         },
         "mode": "markers",
         "name": "Run time - 0.16.0",
         "showlegend": true,
         "text": [
          "Forecaster: ForecasterRecursiveMultiSeries<br>Regressor: LGBMRegressor<br>Function: ForecasterRecursiveMultiSeries_backtesting_series_is_dataframe_exog_dict_conformal<br>Function_hash: 4081578249b9beefbee5821991bb788b<br>Datetime: 2025-04-24 18:09:21.934592<br>Python version: 3.11.10<br>skforecast version: 0.16.0<br>numpy version: 2.2.5<br>pandas version: 2.2.3<br>sklearn version: 1.6.1<br>lightgbm version: 4.5.0<br>Platform: Windows-10-10.0.19045-SP0<br>Processor: Intel64 Family 6 Model 141 Stepping 1, GenuineIntel<br>CPU count: 16<br>Memory (GB): 34.07<br>",
          "Forecaster: ForecasterRecursiveMultiSeries<br>Regressor: LGBMRegressor<br>Function: ForecasterRecursiveMultiSeries_backtesting_series_is_dataframe_exog_dict_conformal<br>Function_hash: 4081578249b9beefbee5821991bb788b<br>Datetime: 2025-04-24 18:24:09.396025<br>Python version: 3.11.10<br>skforecast version: 0.16.0<br>numpy version: 2.2.5<br>pandas version: 2.2.3<br>sklearn version: 1.6.1<br>lightgbm version: 4.5.0<br>Platform: Windows-10-10.0.19045-SP0<br>Processor: Intel64 Family 6 Model 141 Stepping 1, GenuineIntel<br>CPU count: 16<br>Memory (GB): 34.07<br>",
          "Forecaster: ForecasterRecursiveMultiSeries<br>Regressor: LGBMRegressor<br>Function: ForecasterRecursiveMultiSeries_backtesting_series_is_dataframe_exog_dict_conformal<br>Function_hash: 4081578249b9beefbee5821991bb788b<br>Datetime: 2025-04-24 22:43:35.056748<br>Python version: 3.12.9<br>skforecast version: 0.16.0<br>numpy version: 2.2.5<br>pandas version: 2.2.3<br>sklearn version: 1.6.1<br>lightgbm version: 4.6.0<br>Platform: Linux-6.11.0-24-generic-x86_64-with-glibc2.39<br>Processor: x86_64<br>CPU count: 8<br>Memory (GB): 16.64<br>"
         ],
         "type": "scatter",
         "x": {
          "bdata": "UFKCnpAh8D9ay58zTCHwP+yJ3hy9q/A/",
          "dtype": "f8"
         },
         "y": {
          "bdata": "mnmmdcDGN0DNXIxY9oo5QJqddwPPsTxA",
          "dtype": "f8"
         }
        },
        {
         "line": {
          "color": "black",
          "width": 2
         },
         "marker": {
          "color": "black",
          "size": 8
         },
         "mode": "lines+markers",
         "name": "Median (per version)",
         "type": "scatter",
         "x": {
          "bdata": "AAE=",
          "dtype": "i1"
         },
         "y": {
          "bdata": "msPKeaJWSUDNXIxY9oo5QA==",
          "dtype": "f8"
         }
        },
        {
         "line": {
          "color": "black",
          "dash": "dash",
          "width": 2
         },
         "marker": {
          "color": "black",
          "size": 8
         },
         "mode": "lines+markers",
         "name": "Mean (per version)",
         "type": "scatter",
         "x": {
          "bdata": "AAE=",
          "dtype": "i1"
         },
         "y": {
          "bdata": "msPKeaJWSUBV0TibLAE6QA==",
          "dtype": "f8"
         }
        }
       ],
       "layout": {
        "showlegend": true,
        "template": {
         "data": {
          "bar": [
           {
            "error_x": {
             "color": "#2a3f5f"
            },
            "error_y": {
             "color": "#2a3f5f"
            },
            "marker": {
             "line": {
              "color": "#E5ECF6",
              "width": 0.5
             },
             "pattern": {
              "fillmode": "overlay",
              "size": 10,
              "solidity": 0.2
             }
            },
            "type": "bar"
           }
          ],
          "barpolar": [
           {
            "marker": {
             "line": {
              "color": "#E5ECF6",
              "width": 0.5
             },
             "pattern": {
              "fillmode": "overlay",
              "size": 10,
              "solidity": 0.2
             }
            },
            "type": "barpolar"
           }
          ],
          "carpet": [
           {
            "aaxis": {
             "endlinecolor": "#2a3f5f",
             "gridcolor": "white",
             "linecolor": "white",
             "minorgridcolor": "white",
             "startlinecolor": "#2a3f5f"
            },
            "baxis": {
             "endlinecolor": "#2a3f5f",
             "gridcolor": "white",
             "linecolor": "white",
             "minorgridcolor": "white",
             "startlinecolor": "#2a3f5f"
            },
            "type": "carpet"
           }
          ],
          "choropleth": [
           {
            "colorbar": {
             "outlinewidth": 0,
             "ticks": ""
            },
            "type": "choropleth"
           }
          ],
          "contour": [
           {
            "colorbar": {
             "outlinewidth": 0,
             "ticks": ""
            },
            "colorscale": [
             [
              0,
              "#0d0887"
             ],
             [
              0.1111111111111111,
              "#46039f"
             ],
             [
              0.2222222222222222,
              "#7201a8"
             ],
             [
              0.3333333333333333,
              "#9c179e"
             ],
             [
              0.4444444444444444,
              "#bd3786"
             ],
             [
              0.5555555555555556,
              "#d8576b"
             ],
             [
              0.6666666666666666,
              "#ed7953"
             ],
             [
              0.7777777777777778,
              "#fb9f3a"
             ],
             [
              0.8888888888888888,
              "#fdca26"
             ],
             [
              1,
              "#f0f921"
             ]
            ],
            "type": "contour"
           }
          ],
          "contourcarpet": [
           {
            "colorbar": {
             "outlinewidth": 0,
             "ticks": ""
            },
            "type": "contourcarpet"
           }
          ],
          "heatmap": [
           {
            "colorbar": {
             "outlinewidth": 0,
             "ticks": ""
            },
            "colorscale": [
             [
              0,
              "#0d0887"
             ],
             [
              0.1111111111111111,
              "#46039f"
             ],
             [
              0.2222222222222222,
              "#7201a8"
             ],
             [
              0.3333333333333333,
              "#9c179e"
             ],
             [
              0.4444444444444444,
              "#bd3786"
             ],
             [
              0.5555555555555556,
              "#d8576b"
             ],
             [
              0.6666666666666666,
              "#ed7953"
             ],
             [
              0.7777777777777778,
              "#fb9f3a"
             ],
             [
              0.8888888888888888,
              "#fdca26"
             ],
             [
              1,
              "#f0f921"
             ]
            ],
            "type": "heatmap"
           }
          ],
          "histogram": [
           {
            "marker": {
             "pattern": {
              "fillmode": "overlay",
              "size": 10,
              "solidity": 0.2
             }
            },
            "type": "histogram"
           }
          ],
          "histogram2d": [
           {
            "colorbar": {
             "outlinewidth": 0,
             "ticks": ""
            },
            "colorscale": [
             [
              0,
              "#0d0887"
             ],
             [
              0.1111111111111111,
              "#46039f"
             ],
             [
              0.2222222222222222,
              "#7201a8"
             ],
             [
              0.3333333333333333,
              "#9c179e"
             ],
             [
              0.4444444444444444,
              "#bd3786"
             ],
             [
              0.5555555555555556,
              "#d8576b"
             ],
             [
              0.6666666666666666,
              "#ed7953"
             ],
             [
              0.7777777777777778,
              "#fb9f3a"
             ],
             [
              0.8888888888888888,
              "#fdca26"
             ],
             [
              1,
              "#f0f921"
             ]
            ],
            "type": "histogram2d"
           }
          ],
          "histogram2dcontour": [
           {
            "colorbar": {
             "outlinewidth": 0,
             "ticks": ""
            },
            "colorscale": [
             [
              0,
              "#0d0887"
             ],
             [
              0.1111111111111111,
              "#46039f"
             ],
             [
              0.2222222222222222,
              "#7201a8"
             ],
             [
              0.3333333333333333,
              "#9c179e"
             ],
             [
              0.4444444444444444,
              "#bd3786"
             ],
             [
              0.5555555555555556,
              "#d8576b"
             ],
             [
              0.6666666666666666,
              "#ed7953"
             ],
             [
              0.7777777777777778,
              "#fb9f3a"
             ],
             [
              0.8888888888888888,
              "#fdca26"
             ],
             [
              1,
              "#f0f921"
             ]
            ],
            "type": "histogram2dcontour"
           }
          ],
          "mesh3d": [
           {
            "colorbar": {
             "outlinewidth": 0,
             "ticks": ""
            },
            "type": "mesh3d"
           }
          ],
          "parcoords": [
           {
            "line": {
             "colorbar": {
              "outlinewidth": 0,
              "ticks": ""
             }
            },
            "type": "parcoords"
           }
          ],
          "pie": [
           {
            "automargin": true,
            "type": "pie"
           }
          ],
          "scatter": [
           {
            "fillpattern": {
             "fillmode": "overlay",
             "size": 10,
             "solidity": 0.2
            },
            "type": "scatter"
           }
          ],
          "scatter3d": [
           {
            "line": {
             "colorbar": {
              "outlinewidth": 0,
              "ticks": ""
             }
            },
            "marker": {
             "colorbar": {
              "outlinewidth": 0,
              "ticks": ""
             }
            },
            "type": "scatter3d"
           }
          ],
          "scattercarpet": [
           {
            "marker": {
             "colorbar": {
              "outlinewidth": 0,
              "ticks": ""
             }
            },
            "type": "scattercarpet"
           }
          ],
          "scattergeo": [
           {
            "marker": {
             "colorbar": {
              "outlinewidth": 0,
              "ticks": ""
             }
            },
            "type": "scattergeo"
           }
          ],
          "scattergl": [
           {
            "marker": {
             "colorbar": {
              "outlinewidth": 0,
              "ticks": ""
             }
            },
            "type": "scattergl"
           }
          ],
          "scattermap": [
           {
            "marker": {
             "colorbar": {
              "outlinewidth": 0,
              "ticks": ""
             }
            },
            "type": "scattermap"
           }
          ],
          "scattermapbox": [
           {
            "marker": {
             "colorbar": {
              "outlinewidth": 0,
              "ticks": ""
             }
            },
            "type": "scattermapbox"
           }
          ],
          "scatterpolar": [
           {
            "marker": {
             "colorbar": {
              "outlinewidth": 0,
              "ticks": ""
             }
            },
            "type": "scatterpolar"
           }
          ],
          "scatterpolargl": [
           {
            "marker": {
             "colorbar": {
              "outlinewidth": 0,
              "ticks": ""
             }
            },
            "type": "scatterpolargl"
           }
          ],
          "scatterternary": [
           {
            "marker": {
             "colorbar": {
              "outlinewidth": 0,
              "ticks": ""
             }
            },
            "type": "scatterternary"
           }
          ],
          "surface": [
           {
            "colorbar": {
             "outlinewidth": 0,
             "ticks": ""
            },
            "colorscale": [
             [
              0,
              "#0d0887"
             ],
             [
              0.1111111111111111,
              "#46039f"
             ],
             [
              0.2222222222222222,
              "#7201a8"
             ],
             [
              0.3333333333333333,
              "#9c179e"
             ],
             [
              0.4444444444444444,
              "#bd3786"
             ],
             [
              0.5555555555555556,
              "#d8576b"
             ],
             [
              0.6666666666666666,
              "#ed7953"
             ],
             [
              0.7777777777777778,
              "#fb9f3a"
             ],
             [
              0.8888888888888888,
              "#fdca26"
             ],
             [
              1,
              "#f0f921"
             ]
            ],
            "type": "surface"
           }
          ],
          "table": [
           {
            "cells": {
             "fill": {
              "color": "#EBF0F8"
             },
             "line": {
              "color": "white"
             }
            },
            "header": {
             "fill": {
              "color": "#C8D4E3"
             },
             "line": {
              "color": "white"
             }
            },
            "type": "table"
           }
          ]
         },
         "layout": {
          "annotationdefaults": {
           "arrowcolor": "#2a3f5f",
           "arrowhead": 0,
           "arrowwidth": 1
          },
          "autotypenumbers": "strict",
          "coloraxis": {
           "colorbar": {
            "outlinewidth": 0,
            "ticks": ""
           }
          },
          "colorscale": {
           "diverging": [
            [
             0,
             "#8e0152"
            ],
            [
             0.1,
             "#c51b7d"
            ],
            [
             0.2,
             "#de77ae"
            ],
            [
             0.3,
             "#f1b6da"
            ],
            [
             0.4,
             "#fde0ef"
            ],
            [
             0.5,
             "#f7f7f7"
            ],
            [
             0.6,
             "#e6f5d0"
            ],
            [
             0.7,
             "#b8e186"
            ],
            [
             0.8,
             "#7fbc41"
            ],
            [
             0.9,
             "#4d9221"
            ],
            [
             1,
             "#276419"
            ]
           ],
           "sequential": [
            [
             0,
             "#0d0887"
            ],
            [
             0.1111111111111111,
             "#46039f"
            ],
            [
             0.2222222222222222,
             "#7201a8"
            ],
            [
             0.3333333333333333,
             "#9c179e"
            ],
            [
             0.4444444444444444,
             "#bd3786"
            ],
            [
             0.5555555555555556,
             "#d8576b"
            ],
            [
             0.6666666666666666,
             "#ed7953"
            ],
            [
             0.7777777777777778,
             "#fb9f3a"
            ],
            [
             0.8888888888888888,
             "#fdca26"
            ],
            [
             1,
             "#f0f921"
            ]
           ],
           "sequentialminus": [
            [
             0,
             "#0d0887"
            ],
            [
             0.1111111111111111,
             "#46039f"
            ],
            [
             0.2222222222222222,
             "#7201a8"
            ],
            [
             0.3333333333333333,
             "#9c179e"
            ],
            [
             0.4444444444444444,
             "#bd3786"
            ],
            [
             0.5555555555555556,
             "#d8576b"
            ],
            [
             0.6666666666666666,
             "#ed7953"
            ],
            [
             0.7777777777777778,
             "#fb9f3a"
            ],
            [
             0.8888888888888888,
             "#fdca26"
            ],
            [
             1,
             "#f0f921"
            ]
           ]
          },
          "colorway": [
           "#636efa",
           "#EF553B",
           "#00cc96",
           "#ab63fa",
           "#FFA15A",
           "#19d3f3",
           "#FF6692",
           "#B6E880",
           "#FF97FF",
           "#FECB52"
          ],
          "font": {
           "color": "#2a3f5f"
          },
          "geo": {
           "bgcolor": "white",
           "lakecolor": "white",
           "landcolor": "#E5ECF6",
           "showlakes": true,
           "showland": true,
           "subunitcolor": "white"
          },
          "hoverlabel": {
           "align": "left"
          },
          "hovermode": "closest",
          "mapbox": {
           "style": "light"
          },
          "paper_bgcolor": "white",
          "plot_bgcolor": "#E5ECF6",
          "polar": {
           "angularaxis": {
            "gridcolor": "white",
            "linecolor": "white",
            "ticks": ""
           },
           "bgcolor": "#E5ECF6",
           "radialaxis": {
            "gridcolor": "white",
            "linecolor": "white",
            "ticks": ""
           }
          },
          "scene": {
           "xaxis": {
            "backgroundcolor": "#E5ECF6",
            "gridcolor": "white",
            "gridwidth": 2,
            "linecolor": "white",
            "showbackground": true,
            "ticks": "",
            "zerolinecolor": "white"
           },
           "yaxis": {
            "backgroundcolor": "#E5ECF6",
            "gridcolor": "white",
            "gridwidth": 2,
            "linecolor": "white",
            "showbackground": true,
            "ticks": "",
            "zerolinecolor": "white"
           },
           "zaxis": {
            "backgroundcolor": "#E5ECF6",
            "gridcolor": "white",
            "gridwidth": 2,
            "linecolor": "white",
            "showbackground": true,
            "ticks": "",
            "zerolinecolor": "white"
           }
          },
          "shapedefaults": {
           "line": {
            "color": "#2a3f5f"
           }
          },
          "ternary": {
           "aaxis": {
            "gridcolor": "white",
            "linecolor": "white",
            "ticks": ""
           },
           "baxis": {
            "gridcolor": "white",
            "linecolor": "white",
            "ticks": ""
           },
           "bgcolor": "#E5ECF6",
           "caxis": {
            "gridcolor": "white",
            "linecolor": "white",
            "ticks": ""
           }
          },
          "title": {
           "x": 0.05
          },
          "xaxis": {
           "automargin": true,
           "gridcolor": "white",
           "linecolor": "white",
           "ticks": "",
           "title": {
            "standoff": 15
           },
           "zerolinecolor": "white",
           "zerolinewidth": 2
          },
          "yaxis": {
           "automargin": true,
           "gridcolor": "white",
           "linecolor": "white",
           "ticks": "",
           "title": {
            "standoff": 15
           },
           "zerolinecolor": "white",
           "zerolinewidth": 2
          }
         }
        },
        "title": {
         "text": "Execution time of ForecasterRecursiveMultiSeries_backtesting_series_is_dataframe_exog_dict_conformal"
        },
        "xaxis": {
         "tickangle": -45,
         "tickmode": "array",
         "ticktext": [
          "0.15.1",
          "0.16.0"
         ],
         "tickvals": [
          0,
          1
         ],
         "title": {
          "text": "skforecast version"
         }
        },
        "yaxis": {
         "title": {
          "text": "Execution time (seconds)"
         }
        }
       }
      }
     },
     "metadata": {},
     "output_type": "display_data"
    }
   ],
   "source": [
    "# Plot results\n",
    "# ==============================================================================\n",
    "display_df = False\n",
    "selected_date = '2025-04-24'\n",
    "selected_platform = None #'Linux-6.11.0-24-generic-x86_64-with-glibc2.39'\n",
    "\n",
    "results_benchmark_all = joblib.load(\"./benchmark.joblib\")\n",
    "results_benchmark = results_benchmark_all.query(\"forecaster_name in ['ForecasterRecursiveMultiSeries', 'ForecasterAutoregMultiSeries']\")\n",
    "results_benchmark = results_benchmark.query(\"regressor_name == 'LGBMRegressor'\")\n",
    "for function_name in results_benchmark['function_name'].unique():\n",
    "    df = results_benchmark.query(f\"function_name == '{function_name}'\")\n",
    "    if selected_date:\n",
    "        df = df[df['datetime'].dt.date == pd.to_datetime(selected_date).date()]\n",
    "    if selected_platform:\n",
    "        df = df[df['platform'] == selected_platform]\n",
    "    if display_df:\n",
    "        display(df)\n",
    "    plot_benchmark_results(df.copy(), function_name, add_median=True, add_mean=True)"
   ]
  },
  {
   "cell_type": "markdown",
   "metadata": {},
   "source": [
    "# ForecasterRecursive"
   ]
  },
  {
   "cell_type": "code",
   "execution_count": 10,
   "metadata": {},
   "outputs": [],
   "source": [
    "# Mock data for benchmarking\n",
    "# ==========================================================\n",
    "len_series = 2000\n",
    "rng = np.random.default_rng(321)\n",
    "y = pd.Series(\n",
    "        data = rng.normal(loc=20, scale=5, size=len_series),\n",
    "        index=pd.date_range(\n",
    "            start='2010-01-01',\n",
    "            periods=len_series,\n",
    "            freq='h'\n",
    "        ),\n",
    "        name='y'\n",
    "    )\n",
    "rng = np.random.default_rng(321)\n",
    "exog = pd.DataFrame(index=y.index)\n",
    "exog['day_of_week'] = exog.index.dayofweek\n",
    "exog['week_of_year'] = exog.index.isocalendar().week.astype(int)\n",
    "exog['month'] = exog.index.month\n",
    "exog_prediction = pd.DataFrame(\n",
    "                    index=pd.date_range(\n",
    "                        start=series_dict[k].index.max() + pd.Timedelta(hours=1),\n",
    "                        periods=100,\n",
    "                        freq='h'\n",
    "                    )\n",
    "                 ) \n",
    "exog_prediction['day_of_week'] = exog_prediction.index.dayofweek\n",
    "exog_prediction['week_of_year'] = exog_prediction.index.isocalendar().week.astype(int)\n",
    "exog_prediction['month'] = exog_prediction.index.month"
   ]
  },
  {
   "cell_type": "code",
   "execution_count": 11,
   "metadata": {},
   "outputs": [
    {
     "name": "stdout",
     "output_type": "stream",
     "text": [
      "Benchmarking function: ForecasterRecursive__create_train_X_y with skforecast version 0.15.1\n",
      "Benchmarking function: ForecasterRecursive_fit with skforecast version 0.15.1\n",
      "Benchmarking function: ForecasterRecursive_predict with skforecast version 0.15.1\n",
      "Benchmarking function: ForecasterRecursive__create_predict_inputs with skforecast version 0.15.1\n",
      "Benchmarking function: ForecasterRecursive_backtesting with skforecast version 0.15.1\n",
      "Benchmarking function: ForecasterRecursive_backtesting_conformal with skforecast version 0.15.1\n"
     ]
    }
   ],
   "source": [
    "# Benchmarking speed ForecasterRecursive\n",
    "# ==============================================================================\n",
    "regressor = LGBMRegressor(random_state=8520, verbose=-1)\n",
    "if skforecast.__version__ >= '0.14.0':\n",
    "    forecaster = ForecasterRecursive(\n",
    "        regressor=regressor,\n",
    "        lags=50,\n",
    "        transformer_y=StandardScaler(),\n",
    "        transformer_exog=StandardScaler(),\n",
    "    )\n",
    "else:\n",
    "    forecaster = ForecasterAutoreg(\n",
    "        regressor=regressor,\n",
    "        lags=50,\n",
    "        transformer_y=StandardScaler(),\n",
    "        transformer_exog=StandardScaler(),\n",
    "    )\n",
    "\n",
    "def ForecasterRecursive_fit():\n",
    "    forecaster.fit(y=y, exog=exog)\n",
    "\n",
    "def ForecasterRecursive__create_train_X_y():\n",
    "    if skforecast.__version__ >= '0.14.0':\n",
    "        forecaster._create_train_X_y(y=y, exog=exog)\n",
    "    else:\n",
    "        forecaster.create_train_X_y(y=y, exog=exog)\n",
    "\n",
    "\n",
    "def ForecasterRecursive_predict():\n",
    "    forecaster.predict(steps=100, exog=exog_prediction)\n",
    "\n",
    "def ForecasterRecursive__create_predict_inputs():\n",
    "    _ = forecaster._create_predict_inputs(\n",
    "            steps        = 100,\n",
    "            exog         = exog_prediction,\n",
    "            check_inputs = True\n",
    "        )\n",
    "    \n",
    "def ForecasterRecursive_backtesting():\n",
    "    if skforecast.__version__ >= '0.14.0':\n",
    "        cv = TimeSeriesFold(\n",
    "                initial_train_size=1200,\n",
    "                fixed_train_size=True,\n",
    "                steps=50,\n",
    "            )\n",
    "        _ = backtesting_forecaster(\n",
    "                forecaster=forecaster,\n",
    "                y=y,\n",
    "                exog=exog,\n",
    "                cv=cv,\n",
    "                metric='mean_squared_error',\n",
    "                show_progress=False\n",
    "            )\n",
    "    else:\n",
    "        _ = backtesting_forecaster(\n",
    "                forecaster=forecaster,\n",
    "                y=y,\n",
    "                exog=exog,\n",
    "                initial_train_size=1200,\n",
    "                fixed_train_size=True,\n",
    "                steps=50,\n",
    "                metric='mean_squared_error',\n",
    "                show_progress=False\n",
    "            )\n",
    "\n",
    "def ForecasterRecursive_backtesting_conformal():\n",
    "    if skforecast.__version__ >= '0.14.0':\n",
    "        cv = TimeSeriesFold(\n",
    "                initial_train_size=1200,\n",
    "                fixed_train_size=True,\n",
    "                steps=50,\n",
    "            )\n",
    "        _ = backtesting_forecaster(\n",
    "                forecaster=forecaster,\n",
    "                y=y,\n",
    "                exog=exog,\n",
    "                interval=[5, 95],\n",
    "                interval_method='conformal',\n",
    "                cv=cv,\n",
    "                metric='mean_squared_error',\n",
    "\n",
    "                show_progress=False\n",
    "            )\n",
    "    else:\n",
    "        _ = backtesting_forecaster(\n",
    "                forecaster=forecaster,\n",
    "                y=y,\n",
    "                exog=exog,\n",
    "                initial_train_size=1200,\n",
    "                fixed_train_size=True,\n",
    "                steps=50,\n",
    "                interval=[5, 95],\n",
    "                interval_method='conformal',\n",
    "                metric='mean_squared_error',\n",
    "                show_progress=False\n",
    "            )\n",
    "\n",
    "\n",
    "runner = BenchmarkRunner(repeat=30, output_dir=\"./\")\n",
    "_ = runner.benchmark(ForecasterRecursive__create_train_X_y, forecaster=forecaster)\n",
    "\n",
    "runner = BenchmarkRunner(repeat=10, output_dir=\"./\")\n",
    "_ = runner.benchmark(ForecasterRecursive_fit, forecaster=forecaster)\n",
    "\n",
    "runner = BenchmarkRunner(repeat=30, output_dir=\"./\")\n",
    "forecaster.fit(y=y, exog=exog)\n",
    "_ = runner.benchmark(ForecasterRecursive_predict, forecaster=forecaster)\n",
    "_ = runner.benchmark(ForecasterRecursive__create_predict_inputs, forecaster=forecaster)\n",
    "\n",
    "runner = BenchmarkRunner(repeat=5, output_dir=\"./\")\n",
    "_ = runner.benchmark(ForecasterRecursive_backtesting, forecaster=forecaster)\n",
    "_ = runner.benchmark(ForecasterRecursive_backtesting_conformal, forecaster=forecaster)"
   ]
  },
  {
   "cell_type": "code",
   "execution_count": 12,
   "metadata": {},
   "outputs": [
    {
     "data": {
      "application/vnd.plotly.v1+json": {
       "config": {
        "plotlyServerURL": "https://plot.ly"
       },
       "data": [
        {
         "error_y": {
          "array": {
           "bdata": "3lz3GXrJoD8=",
           "dtype": "f8"
          },
          "color": "#636EFA",
          "thickness": 1.5,
          "type": "data",
          "visible": true,
          "width": 5
         },
         "hovertemplate": "%{text}<extra></extra>",
         "marker": {
          "color": "#636EFA",
          "opacity": 0.7,
          "size": 10
         },
         "mode": "markers",
         "name": "Run time - 0.15.1",
         "showlegend": true,
         "text": [
          "Forecaster: ForecasterRecursive<br>Regressor: LGBMRegressor<br>Function: ForecasterRecursive_fit<br>Function_hash: 3a6496af8f14196a05b301212de078f0<br>Datetime: 2025-04-24 23:06:10.766851<br>Python version: 3.12.9<br>skforecast version: 0.15.1<br>numpy version: 2.2.5<br>pandas version: 2.2.3<br>sklearn version: 1.6.1<br>lightgbm version: 4.6.0<br>Platform: Linux-6.11.0-24-generic-x86_64-with-glibc2.39<br>Processor: x86_64<br>CPU count: 8<br>Memory (GB): 16.64<br>"
         ],
         "type": "scatter",
         "x": {
          "bdata": "fByzX9/Fir8=",
          "dtype": "f8"
         },
         "y": {
          "bdata": "M7PhDsqOyD8=",
          "dtype": "f8"
         }
        },
        {
         "error_y": {
          "array": {
           "bdata": "bRcYqhZciT8=",
           "dtype": "f8"
          },
          "color": "#EF553B",
          "thickness": 1.5,
          "type": "data",
          "visible": true,
          "width": 5
         },
         "hovertemplate": "%{text}<extra></extra>",
         "marker": {
          "color": "#EF553B",
          "opacity": 0.7,
          "size": 10
         },
         "mode": "markers",
         "name": "Run time - 0.16.0",
         "showlegend": true,
         "text": [
          "Forecaster: ForecasterRecursive<br>Regressor: LGBMRegressor<br>Function: ForecasterRecursive_fit<br>Function_hash: 3a6496af8f14196a05b301212de078f0<br>Datetime: 2025-04-24 22:43:37.606860<br>Python version: 3.12.9<br>skforecast version: 0.16.0<br>numpy version: 2.2.5<br>pandas version: 2.2.3<br>sklearn version: 1.6.1<br>lightgbm version: 4.6.0<br>Platform: Linux-6.11.0-24-generic-x86_64-with-glibc2.39<br>Processor: x86_64<br>CPU count: 8<br>Memory (GB): 16.64<br>"
         ],
         "type": "scatter",
         "x": {
          "bdata": "UFKCnpAh8D8=",
          "dtype": "f8"
         },
         "y": {
          "bdata": "AICnxyJExz8=",
          "dtype": "f8"
         }
        },
        {
         "line": {
          "color": "black",
          "width": 2
         },
         "marker": {
          "color": "black",
          "size": 8
         },
         "mode": "lines+markers",
         "name": "Median (per version)",
         "type": "scatter",
         "x": {
          "bdata": "AAE=",
          "dtype": "i1"
         },
         "y": {
          "bdata": "M7PhDsqOyD8AgKfHIkTHPw==",
          "dtype": "f8"
         }
        },
        {
         "line": {
          "color": "black",
          "dash": "dash",
          "width": 2
         },
         "marker": {
          "color": "black",
          "size": 8
         },
         "mode": "lines+markers",
         "name": "Mean (per version)",
         "type": "scatter",
         "x": {
          "bdata": "AAE=",
          "dtype": "i1"
         },
         "y": {
          "bdata": "M7PhDsqOyD8AgKfHIkTHPw==",
          "dtype": "f8"
         }
        }
       ],
       "layout": {
        "showlegend": true,
        "template": {
         "data": {
          "bar": [
           {
            "error_x": {
             "color": "#2a3f5f"
            },
            "error_y": {
             "color": "#2a3f5f"
            },
            "marker": {
             "line": {
              "color": "#E5ECF6",
              "width": 0.5
             },
             "pattern": {
              "fillmode": "overlay",
              "size": 10,
              "solidity": 0.2
             }
            },
            "type": "bar"
           }
          ],
          "barpolar": [
           {
            "marker": {
             "line": {
              "color": "#E5ECF6",
              "width": 0.5
             },
             "pattern": {
              "fillmode": "overlay",
              "size": 10,
              "solidity": 0.2
             }
            },
            "type": "barpolar"
           }
          ],
          "carpet": [
           {
            "aaxis": {
             "endlinecolor": "#2a3f5f",
             "gridcolor": "white",
             "linecolor": "white",
             "minorgridcolor": "white",
             "startlinecolor": "#2a3f5f"
            },
            "baxis": {
             "endlinecolor": "#2a3f5f",
             "gridcolor": "white",
             "linecolor": "white",
             "minorgridcolor": "white",
             "startlinecolor": "#2a3f5f"
            },
            "type": "carpet"
           }
          ],
          "choropleth": [
           {
            "colorbar": {
             "outlinewidth": 0,
             "ticks": ""
            },
            "type": "choropleth"
           }
          ],
          "contour": [
           {
            "colorbar": {
             "outlinewidth": 0,
             "ticks": ""
            },
            "colorscale": [
             [
              0,
              "#0d0887"
             ],
             [
              0.1111111111111111,
              "#46039f"
             ],
             [
              0.2222222222222222,
              "#7201a8"
             ],
             [
              0.3333333333333333,
              "#9c179e"
             ],
             [
              0.4444444444444444,
              "#bd3786"
             ],
             [
              0.5555555555555556,
              "#d8576b"
             ],
             [
              0.6666666666666666,
              "#ed7953"
             ],
             [
              0.7777777777777778,
              "#fb9f3a"
             ],
             [
              0.8888888888888888,
              "#fdca26"
             ],
             [
              1,
              "#f0f921"
             ]
            ],
            "type": "contour"
           }
          ],
          "contourcarpet": [
           {
            "colorbar": {
             "outlinewidth": 0,
             "ticks": ""
            },
            "type": "contourcarpet"
           }
          ],
          "heatmap": [
           {
            "colorbar": {
             "outlinewidth": 0,
             "ticks": ""
            },
            "colorscale": [
             [
              0,
              "#0d0887"
             ],
             [
              0.1111111111111111,
              "#46039f"
             ],
             [
              0.2222222222222222,
              "#7201a8"
             ],
             [
              0.3333333333333333,
              "#9c179e"
             ],
             [
              0.4444444444444444,
              "#bd3786"
             ],
             [
              0.5555555555555556,
              "#d8576b"
             ],
             [
              0.6666666666666666,
              "#ed7953"
             ],
             [
              0.7777777777777778,
              "#fb9f3a"
             ],
             [
              0.8888888888888888,
              "#fdca26"
             ],
             [
              1,
              "#f0f921"
             ]
            ],
            "type": "heatmap"
           }
          ],
          "histogram": [
           {
            "marker": {
             "pattern": {
              "fillmode": "overlay",
              "size": 10,
              "solidity": 0.2
             }
            },
            "type": "histogram"
           }
          ],
          "histogram2d": [
           {
            "colorbar": {
             "outlinewidth": 0,
             "ticks": ""
            },
            "colorscale": [
             [
              0,
              "#0d0887"
             ],
             [
              0.1111111111111111,
              "#46039f"
             ],
             [
              0.2222222222222222,
              "#7201a8"
             ],
             [
              0.3333333333333333,
              "#9c179e"
             ],
             [
              0.4444444444444444,
              "#bd3786"
             ],
             [
              0.5555555555555556,
              "#d8576b"
             ],
             [
              0.6666666666666666,
              "#ed7953"
             ],
             [
              0.7777777777777778,
              "#fb9f3a"
             ],
             [
              0.8888888888888888,
              "#fdca26"
             ],
             [
              1,
              "#f0f921"
             ]
            ],
            "type": "histogram2d"
           }
          ],
          "histogram2dcontour": [
           {
            "colorbar": {
             "outlinewidth": 0,
             "ticks": ""
            },
            "colorscale": [
             [
              0,
              "#0d0887"
             ],
             [
              0.1111111111111111,
              "#46039f"
             ],
             [
              0.2222222222222222,
              "#7201a8"
             ],
             [
              0.3333333333333333,
              "#9c179e"
             ],
             [
              0.4444444444444444,
              "#bd3786"
             ],
             [
              0.5555555555555556,
              "#d8576b"
             ],
             [
              0.6666666666666666,
              "#ed7953"
             ],
             [
              0.7777777777777778,
              "#fb9f3a"
             ],
             [
              0.8888888888888888,
              "#fdca26"
             ],
             [
              1,
              "#f0f921"
             ]
            ],
            "type": "histogram2dcontour"
           }
          ],
          "mesh3d": [
           {
            "colorbar": {
             "outlinewidth": 0,
             "ticks": ""
            },
            "type": "mesh3d"
           }
          ],
          "parcoords": [
           {
            "line": {
             "colorbar": {
              "outlinewidth": 0,
              "ticks": ""
             }
            },
            "type": "parcoords"
           }
          ],
          "pie": [
           {
            "automargin": true,
            "type": "pie"
           }
          ],
          "scatter": [
           {
            "fillpattern": {
             "fillmode": "overlay",
             "size": 10,
             "solidity": 0.2
            },
            "type": "scatter"
           }
          ],
          "scatter3d": [
           {
            "line": {
             "colorbar": {
              "outlinewidth": 0,
              "ticks": ""
             }
            },
            "marker": {
             "colorbar": {
              "outlinewidth": 0,
              "ticks": ""
             }
            },
            "type": "scatter3d"
           }
          ],
          "scattercarpet": [
           {
            "marker": {
             "colorbar": {
              "outlinewidth": 0,
              "ticks": ""
             }
            },
            "type": "scattercarpet"
           }
          ],
          "scattergeo": [
           {
            "marker": {
             "colorbar": {
              "outlinewidth": 0,
              "ticks": ""
             }
            },
            "type": "scattergeo"
           }
          ],
          "scattergl": [
           {
            "marker": {
             "colorbar": {
              "outlinewidth": 0,
              "ticks": ""
             }
            },
            "type": "scattergl"
           }
          ],
          "scattermap": [
           {
            "marker": {
             "colorbar": {
              "outlinewidth": 0,
              "ticks": ""
             }
            },
            "type": "scattermap"
           }
          ],
          "scattermapbox": [
           {
            "marker": {
             "colorbar": {
              "outlinewidth": 0,
              "ticks": ""
             }
            },
            "type": "scattermapbox"
           }
          ],
          "scatterpolar": [
           {
            "marker": {
             "colorbar": {
              "outlinewidth": 0,
              "ticks": ""
             }
            },
            "type": "scatterpolar"
           }
          ],
          "scatterpolargl": [
           {
            "marker": {
             "colorbar": {
              "outlinewidth": 0,
              "ticks": ""
             }
            },
            "type": "scatterpolargl"
           }
          ],
          "scatterternary": [
           {
            "marker": {
             "colorbar": {
              "outlinewidth": 0,
              "ticks": ""
             }
            },
            "type": "scatterternary"
           }
          ],
          "surface": [
           {
            "colorbar": {
             "outlinewidth": 0,
             "ticks": ""
            },
            "colorscale": [
             [
              0,
              "#0d0887"
             ],
             [
              0.1111111111111111,
              "#46039f"
             ],
             [
              0.2222222222222222,
              "#7201a8"
             ],
             [
              0.3333333333333333,
              "#9c179e"
             ],
             [
              0.4444444444444444,
              "#bd3786"
             ],
             [
              0.5555555555555556,
              "#d8576b"
             ],
             [
              0.6666666666666666,
              "#ed7953"
             ],
             [
              0.7777777777777778,
              "#fb9f3a"
             ],
             [
              0.8888888888888888,
              "#fdca26"
             ],
             [
              1,
              "#f0f921"
             ]
            ],
            "type": "surface"
           }
          ],
          "table": [
           {
            "cells": {
             "fill": {
              "color": "#EBF0F8"
             },
             "line": {
              "color": "white"
             }
            },
            "header": {
             "fill": {
              "color": "#C8D4E3"
             },
             "line": {
              "color": "white"
             }
            },
            "type": "table"
           }
          ]
         },
         "layout": {
          "annotationdefaults": {
           "arrowcolor": "#2a3f5f",
           "arrowhead": 0,
           "arrowwidth": 1
          },
          "autotypenumbers": "strict",
          "coloraxis": {
           "colorbar": {
            "outlinewidth": 0,
            "ticks": ""
           }
          },
          "colorscale": {
           "diverging": [
            [
             0,
             "#8e0152"
            ],
            [
             0.1,
             "#c51b7d"
            ],
            [
             0.2,
             "#de77ae"
            ],
            [
             0.3,
             "#f1b6da"
            ],
            [
             0.4,
             "#fde0ef"
            ],
            [
             0.5,
             "#f7f7f7"
            ],
            [
             0.6,
             "#e6f5d0"
            ],
            [
             0.7,
             "#b8e186"
            ],
            [
             0.8,
             "#7fbc41"
            ],
            [
             0.9,
             "#4d9221"
            ],
            [
             1,
             "#276419"
            ]
           ],
           "sequential": [
            [
             0,
             "#0d0887"
            ],
            [
             0.1111111111111111,
             "#46039f"
            ],
            [
             0.2222222222222222,
             "#7201a8"
            ],
            [
             0.3333333333333333,
             "#9c179e"
            ],
            [
             0.4444444444444444,
             "#bd3786"
            ],
            [
             0.5555555555555556,
             "#d8576b"
            ],
            [
             0.6666666666666666,
             "#ed7953"
            ],
            [
             0.7777777777777778,
             "#fb9f3a"
            ],
            [
             0.8888888888888888,
             "#fdca26"
            ],
            [
             1,
             "#f0f921"
            ]
           ],
           "sequentialminus": [
            [
             0,
             "#0d0887"
            ],
            [
             0.1111111111111111,
             "#46039f"
            ],
            [
             0.2222222222222222,
             "#7201a8"
            ],
            [
             0.3333333333333333,
             "#9c179e"
            ],
            [
             0.4444444444444444,
             "#bd3786"
            ],
            [
             0.5555555555555556,
             "#d8576b"
            ],
            [
             0.6666666666666666,
             "#ed7953"
            ],
            [
             0.7777777777777778,
             "#fb9f3a"
            ],
            [
             0.8888888888888888,
             "#fdca26"
            ],
            [
             1,
             "#f0f921"
            ]
           ]
          },
          "colorway": [
           "#636efa",
           "#EF553B",
           "#00cc96",
           "#ab63fa",
           "#FFA15A",
           "#19d3f3",
           "#FF6692",
           "#B6E880",
           "#FF97FF",
           "#FECB52"
          ],
          "font": {
           "color": "#2a3f5f"
          },
          "geo": {
           "bgcolor": "white",
           "lakecolor": "white",
           "landcolor": "#E5ECF6",
           "showlakes": true,
           "showland": true,
           "subunitcolor": "white"
          },
          "hoverlabel": {
           "align": "left"
          },
          "hovermode": "closest",
          "mapbox": {
           "style": "light"
          },
          "paper_bgcolor": "white",
          "plot_bgcolor": "#E5ECF6",
          "polar": {
           "angularaxis": {
            "gridcolor": "white",
            "linecolor": "white",
            "ticks": ""
           },
           "bgcolor": "#E5ECF6",
           "radialaxis": {
            "gridcolor": "white",
            "linecolor": "white",
            "ticks": ""
           }
          },
          "scene": {
           "xaxis": {
            "backgroundcolor": "#E5ECF6",
            "gridcolor": "white",
            "gridwidth": 2,
            "linecolor": "white",
            "showbackground": true,
            "ticks": "",
            "zerolinecolor": "white"
           },
           "yaxis": {
            "backgroundcolor": "#E5ECF6",
            "gridcolor": "white",
            "gridwidth": 2,
            "linecolor": "white",
            "showbackground": true,
            "ticks": "",
            "zerolinecolor": "white"
           },
           "zaxis": {
            "backgroundcolor": "#E5ECF6",
            "gridcolor": "white",
            "gridwidth": 2,
            "linecolor": "white",
            "showbackground": true,
            "ticks": "",
            "zerolinecolor": "white"
           }
          },
          "shapedefaults": {
           "line": {
            "color": "#2a3f5f"
           }
          },
          "ternary": {
           "aaxis": {
            "gridcolor": "white",
            "linecolor": "white",
            "ticks": ""
           },
           "baxis": {
            "gridcolor": "white",
            "linecolor": "white",
            "ticks": ""
           },
           "bgcolor": "#E5ECF6",
           "caxis": {
            "gridcolor": "white",
            "linecolor": "white",
            "ticks": ""
           }
          },
          "title": {
           "x": 0.05
          },
          "xaxis": {
           "automargin": true,
           "gridcolor": "white",
           "linecolor": "white",
           "ticks": "",
           "title": {
            "standoff": 15
           },
           "zerolinecolor": "white",
           "zerolinewidth": 2
          },
          "yaxis": {
           "automargin": true,
           "gridcolor": "white",
           "linecolor": "white",
           "ticks": "",
           "title": {
            "standoff": 15
           },
           "zerolinecolor": "white",
           "zerolinewidth": 2
          }
         }
        },
        "title": {
         "text": "Execution time of ForecasterRecursive_fit"
        },
        "xaxis": {
         "tickangle": -45,
         "tickmode": "array",
         "ticktext": [
          "0.15.1",
          "0.16.0"
         ],
         "tickvals": [
          0,
          1
         ],
         "title": {
          "text": "skforecast version"
         }
        },
        "yaxis": {
         "title": {
          "text": "Execution time (seconds)"
         }
        }
       }
      }
     },
     "metadata": {},
     "output_type": "display_data"
    },
    {
     "data": {
      "application/vnd.plotly.v1+json": {
       "config": {
        "plotlyServerURL": "https://plot.ly"
       },
       "data": [
        {
         "error_y": {
          "array": {
           "bdata": "Kvo/mVKcXz8=",
           "dtype": "f8"
          },
          "color": "#636EFA",
          "thickness": 1.5,
          "type": "data",
          "visible": true,
          "width": 5
         },
         "hovertemplate": "%{text}<extra></extra>",
         "marker": {
          "color": "#636EFA",
          "opacity": 0.7,
          "size": 10
         },
         "mode": "markers",
         "name": "Run time - 0.15.1",
         "showlegend": true,
         "text": [
          "Forecaster: ForecasterRecursive<br>Regressor: LGBMRegressor<br>Function: ForecasterRecursive__create_train_X_y<br>Function_hash: 20bdfc9de1cb7a9e99e703c087d136d3<br>Datetime: 2025-04-24 23:06:08.840009<br>Python version: 3.12.9<br>skforecast version: 0.15.1<br>numpy version: 2.2.5<br>pandas version: 2.2.3<br>sklearn version: 1.6.1<br>lightgbm version: 4.6.0<br>Platform: Linux-6.11.0-24-generic-x86_64-with-glibc2.39<br>Processor: x86_64<br>CPU count: 8<br>Memory (GB): 16.64<br>"
         ],
         "type": "scatter",
         "x": {
          "bdata": "fByzX9/Fir8=",
          "dtype": "f8"
         },
         "y": {
          "bdata": "iYjIskeCez8=",
          "dtype": "f8"
         }
        },
        {
         "error_y": {
          "array": {
           "bdata": "XdWncprXTT8=",
           "dtype": "f8"
          },
          "color": "#EF553B",
          "thickness": 1.5,
          "type": "data",
          "visible": true,
          "width": 5
         },
         "hovertemplate": "%{text}<extra></extra>",
         "marker": {
          "color": "#EF553B",
          "opacity": 0.7,
          "size": 10
         },
         "mode": "markers",
         "name": "Run time - 0.16.0",
         "showlegend": true,
         "text": [
          "Forecaster: ForecasterRecursive<br>Regressor: LGBMRegressor<br>Function: ForecasterRecursive__create_train_X_y<br>Function_hash: 20bdfc9de1cb7a9e99e703c087d136d3<br>Datetime: 2025-04-24 22:43:35.783645<br>Python version: 3.12.9<br>skforecast version: 0.16.0<br>numpy version: 2.2.5<br>pandas version: 2.2.3<br>sklearn version: 1.6.1<br>lightgbm version: 4.6.0<br>Platform: Linux-6.11.0-24-generic-x86_64-with-glibc2.39<br>Processor: x86_64<br>CPU count: 8<br>Memory (GB): 16.64<br>"
         ],
         "type": "scatter",
         "x": {
          "bdata": "UFKCnpAh8D8=",
          "dtype": "f8"
         },
         "y": {
          "bdata": "ERExN27ecj8=",
          "dtype": "f8"
         }
        },
        {
         "line": {
          "color": "black",
          "width": 2
         },
         "marker": {
          "color": "black",
          "size": 8
         },
         "mode": "lines+markers",
         "name": "Median (per version)",
         "type": "scatter",
         "x": {
          "bdata": "AAE=",
          "dtype": "i1"
         },
         "y": {
          "bdata": "iYjIskeCez8RETE3bt5yPw==",
          "dtype": "f8"
         }
        },
        {
         "line": {
          "color": "black",
          "dash": "dash",
          "width": 2
         },
         "marker": {
          "color": "black",
          "size": 8
         },
         "mode": "lines+markers",
         "name": "Mean (per version)",
         "type": "scatter",
         "x": {
          "bdata": "AAE=",
          "dtype": "i1"
         },
         "y": {
          "bdata": "iYjIskeCez8RETE3bt5yPw==",
          "dtype": "f8"
         }
        }
       ],
       "layout": {
        "showlegend": true,
        "template": {
         "data": {
          "bar": [
           {
            "error_x": {
             "color": "#2a3f5f"
            },
            "error_y": {
             "color": "#2a3f5f"
            },
            "marker": {
             "line": {
              "color": "#E5ECF6",
              "width": 0.5
             },
             "pattern": {
              "fillmode": "overlay",
              "size": 10,
              "solidity": 0.2
             }
            },
            "type": "bar"
           }
          ],
          "barpolar": [
           {
            "marker": {
             "line": {
              "color": "#E5ECF6",
              "width": 0.5
             },
             "pattern": {
              "fillmode": "overlay",
              "size": 10,
              "solidity": 0.2
             }
            },
            "type": "barpolar"
           }
          ],
          "carpet": [
           {
            "aaxis": {
             "endlinecolor": "#2a3f5f",
             "gridcolor": "white",
             "linecolor": "white",
             "minorgridcolor": "white",
             "startlinecolor": "#2a3f5f"
            },
            "baxis": {
             "endlinecolor": "#2a3f5f",
             "gridcolor": "white",
             "linecolor": "white",
             "minorgridcolor": "white",
             "startlinecolor": "#2a3f5f"
            },
            "type": "carpet"
           }
          ],
          "choropleth": [
           {
            "colorbar": {
             "outlinewidth": 0,
             "ticks": ""
            },
            "type": "choropleth"
           }
          ],
          "contour": [
           {
            "colorbar": {
             "outlinewidth": 0,
             "ticks": ""
            },
            "colorscale": [
             [
              0,
              "#0d0887"
             ],
             [
              0.1111111111111111,
              "#46039f"
             ],
             [
              0.2222222222222222,
              "#7201a8"
             ],
             [
              0.3333333333333333,
              "#9c179e"
             ],
             [
              0.4444444444444444,
              "#bd3786"
             ],
             [
              0.5555555555555556,
              "#d8576b"
             ],
             [
              0.6666666666666666,
              "#ed7953"
             ],
             [
              0.7777777777777778,
              "#fb9f3a"
             ],
             [
              0.8888888888888888,
              "#fdca26"
             ],
             [
              1,
              "#f0f921"
             ]
            ],
            "type": "contour"
           }
          ],
          "contourcarpet": [
           {
            "colorbar": {
             "outlinewidth": 0,
             "ticks": ""
            },
            "type": "contourcarpet"
           }
          ],
          "heatmap": [
           {
            "colorbar": {
             "outlinewidth": 0,
             "ticks": ""
            },
            "colorscale": [
             [
              0,
              "#0d0887"
             ],
             [
              0.1111111111111111,
              "#46039f"
             ],
             [
              0.2222222222222222,
              "#7201a8"
             ],
             [
              0.3333333333333333,
              "#9c179e"
             ],
             [
              0.4444444444444444,
              "#bd3786"
             ],
             [
              0.5555555555555556,
              "#d8576b"
             ],
             [
              0.6666666666666666,
              "#ed7953"
             ],
             [
              0.7777777777777778,
              "#fb9f3a"
             ],
             [
              0.8888888888888888,
              "#fdca26"
             ],
             [
              1,
              "#f0f921"
             ]
            ],
            "type": "heatmap"
           }
          ],
          "histogram": [
           {
            "marker": {
             "pattern": {
              "fillmode": "overlay",
              "size": 10,
              "solidity": 0.2
             }
            },
            "type": "histogram"
           }
          ],
          "histogram2d": [
           {
            "colorbar": {
             "outlinewidth": 0,
             "ticks": ""
            },
            "colorscale": [
             [
              0,
              "#0d0887"
             ],
             [
              0.1111111111111111,
              "#46039f"
             ],
             [
              0.2222222222222222,
              "#7201a8"
             ],
             [
              0.3333333333333333,
              "#9c179e"
             ],
             [
              0.4444444444444444,
              "#bd3786"
             ],
             [
              0.5555555555555556,
              "#d8576b"
             ],
             [
              0.6666666666666666,
              "#ed7953"
             ],
             [
              0.7777777777777778,
              "#fb9f3a"
             ],
             [
              0.8888888888888888,
              "#fdca26"
             ],
             [
              1,
              "#f0f921"
             ]
            ],
            "type": "histogram2d"
           }
          ],
          "histogram2dcontour": [
           {
            "colorbar": {
             "outlinewidth": 0,
             "ticks": ""
            },
            "colorscale": [
             [
              0,
              "#0d0887"
             ],
             [
              0.1111111111111111,
              "#46039f"
             ],
             [
              0.2222222222222222,
              "#7201a8"
             ],
             [
              0.3333333333333333,
              "#9c179e"
             ],
             [
              0.4444444444444444,
              "#bd3786"
             ],
             [
              0.5555555555555556,
              "#d8576b"
             ],
             [
              0.6666666666666666,
              "#ed7953"
             ],
             [
              0.7777777777777778,
              "#fb9f3a"
             ],
             [
              0.8888888888888888,
              "#fdca26"
             ],
             [
              1,
              "#f0f921"
             ]
            ],
            "type": "histogram2dcontour"
           }
          ],
          "mesh3d": [
           {
            "colorbar": {
             "outlinewidth": 0,
             "ticks": ""
            },
            "type": "mesh3d"
           }
          ],
          "parcoords": [
           {
            "line": {
             "colorbar": {
              "outlinewidth": 0,
              "ticks": ""
             }
            },
            "type": "parcoords"
           }
          ],
          "pie": [
           {
            "automargin": true,
            "type": "pie"
           }
          ],
          "scatter": [
           {
            "fillpattern": {
             "fillmode": "overlay",
             "size": 10,
             "solidity": 0.2
            },
            "type": "scatter"
           }
          ],
          "scatter3d": [
           {
            "line": {
             "colorbar": {
              "outlinewidth": 0,
              "ticks": ""
             }
            },
            "marker": {
             "colorbar": {
              "outlinewidth": 0,
              "ticks": ""
             }
            },
            "type": "scatter3d"
           }
          ],
          "scattercarpet": [
           {
            "marker": {
             "colorbar": {
              "outlinewidth": 0,
              "ticks": ""
             }
            },
            "type": "scattercarpet"
           }
          ],
          "scattergeo": [
           {
            "marker": {
             "colorbar": {
              "outlinewidth": 0,
              "ticks": ""
             }
            },
            "type": "scattergeo"
           }
          ],
          "scattergl": [
           {
            "marker": {
             "colorbar": {
              "outlinewidth": 0,
              "ticks": ""
             }
            },
            "type": "scattergl"
           }
          ],
          "scattermap": [
           {
            "marker": {
             "colorbar": {
              "outlinewidth": 0,
              "ticks": ""
             }
            },
            "type": "scattermap"
           }
          ],
          "scattermapbox": [
           {
            "marker": {
             "colorbar": {
              "outlinewidth": 0,
              "ticks": ""
             }
            },
            "type": "scattermapbox"
           }
          ],
          "scatterpolar": [
           {
            "marker": {
             "colorbar": {
              "outlinewidth": 0,
              "ticks": ""
             }
            },
            "type": "scatterpolar"
           }
          ],
          "scatterpolargl": [
           {
            "marker": {
             "colorbar": {
              "outlinewidth": 0,
              "ticks": ""
             }
            },
            "type": "scatterpolargl"
           }
          ],
          "scatterternary": [
           {
            "marker": {
             "colorbar": {
              "outlinewidth": 0,
              "ticks": ""
             }
            },
            "type": "scatterternary"
           }
          ],
          "surface": [
           {
            "colorbar": {
             "outlinewidth": 0,
             "ticks": ""
            },
            "colorscale": [
             [
              0,
              "#0d0887"
             ],
             [
              0.1111111111111111,
              "#46039f"
             ],
             [
              0.2222222222222222,
              "#7201a8"
             ],
             [
              0.3333333333333333,
              "#9c179e"
             ],
             [
              0.4444444444444444,
              "#bd3786"
             ],
             [
              0.5555555555555556,
              "#d8576b"
             ],
             [
              0.6666666666666666,
              "#ed7953"
             ],
             [
              0.7777777777777778,
              "#fb9f3a"
             ],
             [
              0.8888888888888888,
              "#fdca26"
             ],
             [
              1,
              "#f0f921"
             ]
            ],
            "type": "surface"
           }
          ],
          "table": [
           {
            "cells": {
             "fill": {
              "color": "#EBF0F8"
             },
             "line": {
              "color": "white"
             }
            },
            "header": {
             "fill": {
              "color": "#C8D4E3"
             },
             "line": {
              "color": "white"
             }
            },
            "type": "table"
           }
          ]
         },
         "layout": {
          "annotationdefaults": {
           "arrowcolor": "#2a3f5f",
           "arrowhead": 0,
           "arrowwidth": 1
          },
          "autotypenumbers": "strict",
          "coloraxis": {
           "colorbar": {
            "outlinewidth": 0,
            "ticks": ""
           }
          },
          "colorscale": {
           "diverging": [
            [
             0,
             "#8e0152"
            ],
            [
             0.1,
             "#c51b7d"
            ],
            [
             0.2,
             "#de77ae"
            ],
            [
             0.3,
             "#f1b6da"
            ],
            [
             0.4,
             "#fde0ef"
            ],
            [
             0.5,
             "#f7f7f7"
            ],
            [
             0.6,
             "#e6f5d0"
            ],
            [
             0.7,
             "#b8e186"
            ],
            [
             0.8,
             "#7fbc41"
            ],
            [
             0.9,
             "#4d9221"
            ],
            [
             1,
             "#276419"
            ]
           ],
           "sequential": [
            [
             0,
             "#0d0887"
            ],
            [
             0.1111111111111111,
             "#46039f"
            ],
            [
             0.2222222222222222,
             "#7201a8"
            ],
            [
             0.3333333333333333,
             "#9c179e"
            ],
            [
             0.4444444444444444,
             "#bd3786"
            ],
            [
             0.5555555555555556,
             "#d8576b"
            ],
            [
             0.6666666666666666,
             "#ed7953"
            ],
            [
             0.7777777777777778,
             "#fb9f3a"
            ],
            [
             0.8888888888888888,
             "#fdca26"
            ],
            [
             1,
             "#f0f921"
            ]
           ],
           "sequentialminus": [
            [
             0,
             "#0d0887"
            ],
            [
             0.1111111111111111,
             "#46039f"
            ],
            [
             0.2222222222222222,
             "#7201a8"
            ],
            [
             0.3333333333333333,
             "#9c179e"
            ],
            [
             0.4444444444444444,
             "#bd3786"
            ],
            [
             0.5555555555555556,
             "#d8576b"
            ],
            [
             0.6666666666666666,
             "#ed7953"
            ],
            [
             0.7777777777777778,
             "#fb9f3a"
            ],
            [
             0.8888888888888888,
             "#fdca26"
            ],
            [
             1,
             "#f0f921"
            ]
           ]
          },
          "colorway": [
           "#636efa",
           "#EF553B",
           "#00cc96",
           "#ab63fa",
           "#FFA15A",
           "#19d3f3",
           "#FF6692",
           "#B6E880",
           "#FF97FF",
           "#FECB52"
          ],
          "font": {
           "color": "#2a3f5f"
          },
          "geo": {
           "bgcolor": "white",
           "lakecolor": "white",
           "landcolor": "#E5ECF6",
           "showlakes": true,
           "showland": true,
           "subunitcolor": "white"
          },
          "hoverlabel": {
           "align": "left"
          },
          "hovermode": "closest",
          "mapbox": {
           "style": "light"
          },
          "paper_bgcolor": "white",
          "plot_bgcolor": "#E5ECF6",
          "polar": {
           "angularaxis": {
            "gridcolor": "white",
            "linecolor": "white",
            "ticks": ""
           },
           "bgcolor": "#E5ECF6",
           "radialaxis": {
            "gridcolor": "white",
            "linecolor": "white",
            "ticks": ""
           }
          },
          "scene": {
           "xaxis": {
            "backgroundcolor": "#E5ECF6",
            "gridcolor": "white",
            "gridwidth": 2,
            "linecolor": "white",
            "showbackground": true,
            "ticks": "",
            "zerolinecolor": "white"
           },
           "yaxis": {
            "backgroundcolor": "#E5ECF6",
            "gridcolor": "white",
            "gridwidth": 2,
            "linecolor": "white",
            "showbackground": true,
            "ticks": "",
            "zerolinecolor": "white"
           },
           "zaxis": {
            "backgroundcolor": "#E5ECF6",
            "gridcolor": "white",
            "gridwidth": 2,
            "linecolor": "white",
            "showbackground": true,
            "ticks": "",
            "zerolinecolor": "white"
           }
          },
          "shapedefaults": {
           "line": {
            "color": "#2a3f5f"
           }
          },
          "ternary": {
           "aaxis": {
            "gridcolor": "white",
            "linecolor": "white",
            "ticks": ""
           },
           "baxis": {
            "gridcolor": "white",
            "linecolor": "white",
            "ticks": ""
           },
           "bgcolor": "#E5ECF6",
           "caxis": {
            "gridcolor": "white",
            "linecolor": "white",
            "ticks": ""
           }
          },
          "title": {
           "x": 0.05
          },
          "xaxis": {
           "automargin": true,
           "gridcolor": "white",
           "linecolor": "white",
           "ticks": "",
           "title": {
            "standoff": 15
           },
           "zerolinecolor": "white",
           "zerolinewidth": 2
          },
          "yaxis": {
           "automargin": true,
           "gridcolor": "white",
           "linecolor": "white",
           "ticks": "",
           "title": {
            "standoff": 15
           },
           "zerolinecolor": "white",
           "zerolinewidth": 2
          }
         }
        },
        "title": {
         "text": "Execution time of ForecasterRecursive__create_train_X_y"
        },
        "xaxis": {
         "tickangle": -45,
         "tickmode": "array",
         "ticktext": [
          "0.15.1",
          "0.16.0"
         ],
         "tickvals": [
          0,
          1
         ],
         "title": {
          "text": "skforecast version"
         }
        },
        "yaxis": {
         "title": {
          "text": "Execution time (seconds)"
         }
        }
       }
      }
     },
     "metadata": {},
     "output_type": "display_data"
    },
    {
     "data": {
      "application/vnd.plotly.v1+json": {
       "config": {
        "plotlyServerURL": "https://plot.ly"
       },
       "data": [
        {
         "error_y": {
          "array": {
           "bdata": "MWdHUYCEUD8=",
           "dtype": "f8"
          },
          "color": "#636EFA",
          "thickness": 1.5,
          "type": "data",
          "visible": true,
          "width": 5
         },
         "hovertemplate": "%{text}<extra></extra>",
         "marker": {
          "color": "#636EFA",
          "opacity": 0.7,
          "size": 10
         },
         "mode": "markers",
         "name": "Run time - 0.15.1",
         "showlegend": true,
         "text": [
          "Forecaster: ForecasterRecursive<br>Regressor: LGBMRegressor<br>Function: ForecasterRecursive_predict<br>Function_hash: 4f8ae3116340ac90eb9e66eac42789de<br>Datetime: 2025-04-24 23:06:12.721550<br>Python version: 3.12.9<br>skforecast version: 0.15.1<br>numpy version: 2.2.5<br>pandas version: 2.2.3<br>sklearn version: 1.6.1<br>lightgbm version: 4.6.0<br>Platform: Linux-6.11.0-24-generic-x86_64-with-glibc2.39<br>Processor: x86_64<br>CPU count: 8<br>Memory (GB): 16.64<br>"
         ],
         "type": "scatter",
         "x": {
          "bdata": "fByzX9/Fir8=",
          "dtype": "f8"
         },
         "y": {
          "bdata": "3t3fNWZdrj8=",
          "dtype": "f8"
         }
        },
        {
         "error_y": {
          "array": {
           "bdata": "7EZFI/VDgz8=",
           "dtype": "f8"
          },
          "color": "#EF553B",
          "thickness": 1.5,
          "type": "data",
          "visible": true,
          "width": 5
         },
         "hovertemplate": "%{text}<extra></extra>",
         "marker": {
          "color": "#EF553B",
          "opacity": 0.7,
          "size": 10
         },
         "mode": "markers",
         "name": "Run time - 0.16.0",
         "showlegend": true,
         "text": [
          "Forecaster: ForecasterRecursive<br>Regressor: LGBMRegressor<br>Function: ForecasterRecursive_predict<br>Function_hash: 4f8ae3116340ac90eb9e66eac42789de<br>Datetime: 2025-04-24 22:43:39.705298<br>Python version: 3.12.9<br>skforecast version: 0.16.0<br>numpy version: 2.2.5<br>pandas version: 2.2.3<br>sklearn version: 1.6.1<br>lightgbm version: 4.6.0<br>Platform: Linux-6.11.0-24-generic-x86_64-with-glibc2.39<br>Processor: x86_64<br>CPU count: 8<br>Memory (GB): 16.64<br>"
         ],
         "type": "scatter",
         "x": {
          "bdata": "UFKCnpAh8D8=",
          "dtype": "f8"
         },
         "y": {
          "bdata": "7+4yiSVjsD8=",
          "dtype": "f8"
         }
        },
        {
         "line": {
          "color": "black",
          "width": 2
         },
         "marker": {
          "color": "black",
          "size": 8
         },
         "mode": "lines+markers",
         "name": "Median (per version)",
         "type": "scatter",
         "x": {
          "bdata": "AAE=",
          "dtype": "i1"
         },
         "y": {
          "bdata": "3t3fNWZdrj/v7jKJJWOwPw==",
          "dtype": "f8"
         }
        },
        {
         "line": {
          "color": "black",
          "dash": "dash",
          "width": 2
         },
         "marker": {
          "color": "black",
          "size": 8
         },
         "mode": "lines+markers",
         "name": "Mean (per version)",
         "type": "scatter",
         "x": {
          "bdata": "AAE=",
          "dtype": "i1"
         },
         "y": {
          "bdata": "3t3fNWZdrj/v7jKJJWOwPw==",
          "dtype": "f8"
         }
        }
       ],
       "layout": {
        "showlegend": true,
        "template": {
         "data": {
          "bar": [
           {
            "error_x": {
             "color": "#2a3f5f"
            },
            "error_y": {
             "color": "#2a3f5f"
            },
            "marker": {
             "line": {
              "color": "#E5ECF6",
              "width": 0.5
             },
             "pattern": {
              "fillmode": "overlay",
              "size": 10,
              "solidity": 0.2
             }
            },
            "type": "bar"
           }
          ],
          "barpolar": [
           {
            "marker": {
             "line": {
              "color": "#E5ECF6",
              "width": 0.5
             },
             "pattern": {
              "fillmode": "overlay",
              "size": 10,
              "solidity": 0.2
             }
            },
            "type": "barpolar"
           }
          ],
          "carpet": [
           {
            "aaxis": {
             "endlinecolor": "#2a3f5f",
             "gridcolor": "white",
             "linecolor": "white",
             "minorgridcolor": "white",
             "startlinecolor": "#2a3f5f"
            },
            "baxis": {
             "endlinecolor": "#2a3f5f",
             "gridcolor": "white",
             "linecolor": "white",
             "minorgridcolor": "white",
             "startlinecolor": "#2a3f5f"
            },
            "type": "carpet"
           }
          ],
          "choropleth": [
           {
            "colorbar": {
             "outlinewidth": 0,
             "ticks": ""
            },
            "type": "choropleth"
           }
          ],
          "contour": [
           {
            "colorbar": {
             "outlinewidth": 0,
             "ticks": ""
            },
            "colorscale": [
             [
              0,
              "#0d0887"
             ],
             [
              0.1111111111111111,
              "#46039f"
             ],
             [
              0.2222222222222222,
              "#7201a8"
             ],
             [
              0.3333333333333333,
              "#9c179e"
             ],
             [
              0.4444444444444444,
              "#bd3786"
             ],
             [
              0.5555555555555556,
              "#d8576b"
             ],
             [
              0.6666666666666666,
              "#ed7953"
             ],
             [
              0.7777777777777778,
              "#fb9f3a"
             ],
             [
              0.8888888888888888,
              "#fdca26"
             ],
             [
              1,
              "#f0f921"
             ]
            ],
            "type": "contour"
           }
          ],
          "contourcarpet": [
           {
            "colorbar": {
             "outlinewidth": 0,
             "ticks": ""
            },
            "type": "contourcarpet"
           }
          ],
          "heatmap": [
           {
            "colorbar": {
             "outlinewidth": 0,
             "ticks": ""
            },
            "colorscale": [
             [
              0,
              "#0d0887"
             ],
             [
              0.1111111111111111,
              "#46039f"
             ],
             [
              0.2222222222222222,
              "#7201a8"
             ],
             [
              0.3333333333333333,
              "#9c179e"
             ],
             [
              0.4444444444444444,
              "#bd3786"
             ],
             [
              0.5555555555555556,
              "#d8576b"
             ],
             [
              0.6666666666666666,
              "#ed7953"
             ],
             [
              0.7777777777777778,
              "#fb9f3a"
             ],
             [
              0.8888888888888888,
              "#fdca26"
             ],
             [
              1,
              "#f0f921"
             ]
            ],
            "type": "heatmap"
           }
          ],
          "histogram": [
           {
            "marker": {
             "pattern": {
              "fillmode": "overlay",
              "size": 10,
              "solidity": 0.2
             }
            },
            "type": "histogram"
           }
          ],
          "histogram2d": [
           {
            "colorbar": {
             "outlinewidth": 0,
             "ticks": ""
            },
            "colorscale": [
             [
              0,
              "#0d0887"
             ],
             [
              0.1111111111111111,
              "#46039f"
             ],
             [
              0.2222222222222222,
              "#7201a8"
             ],
             [
              0.3333333333333333,
              "#9c179e"
             ],
             [
              0.4444444444444444,
              "#bd3786"
             ],
             [
              0.5555555555555556,
              "#d8576b"
             ],
             [
              0.6666666666666666,
              "#ed7953"
             ],
             [
              0.7777777777777778,
              "#fb9f3a"
             ],
             [
              0.8888888888888888,
              "#fdca26"
             ],
             [
              1,
              "#f0f921"
             ]
            ],
            "type": "histogram2d"
           }
          ],
          "histogram2dcontour": [
           {
            "colorbar": {
             "outlinewidth": 0,
             "ticks": ""
            },
            "colorscale": [
             [
              0,
              "#0d0887"
             ],
             [
              0.1111111111111111,
              "#46039f"
             ],
             [
              0.2222222222222222,
              "#7201a8"
             ],
             [
              0.3333333333333333,
              "#9c179e"
             ],
             [
              0.4444444444444444,
              "#bd3786"
             ],
             [
              0.5555555555555556,
              "#d8576b"
             ],
             [
              0.6666666666666666,
              "#ed7953"
             ],
             [
              0.7777777777777778,
              "#fb9f3a"
             ],
             [
              0.8888888888888888,
              "#fdca26"
             ],
             [
              1,
              "#f0f921"
             ]
            ],
            "type": "histogram2dcontour"
           }
          ],
          "mesh3d": [
           {
            "colorbar": {
             "outlinewidth": 0,
             "ticks": ""
            },
            "type": "mesh3d"
           }
          ],
          "parcoords": [
           {
            "line": {
             "colorbar": {
              "outlinewidth": 0,
              "ticks": ""
             }
            },
            "type": "parcoords"
           }
          ],
          "pie": [
           {
            "automargin": true,
            "type": "pie"
           }
          ],
          "scatter": [
           {
            "fillpattern": {
             "fillmode": "overlay",
             "size": 10,
             "solidity": 0.2
            },
            "type": "scatter"
           }
          ],
          "scatter3d": [
           {
            "line": {
             "colorbar": {
              "outlinewidth": 0,
              "ticks": ""
             }
            },
            "marker": {
             "colorbar": {
              "outlinewidth": 0,
              "ticks": ""
             }
            },
            "type": "scatter3d"
           }
          ],
          "scattercarpet": [
           {
            "marker": {
             "colorbar": {
              "outlinewidth": 0,
              "ticks": ""
             }
            },
            "type": "scattercarpet"
           }
          ],
          "scattergeo": [
           {
            "marker": {
             "colorbar": {
              "outlinewidth": 0,
              "ticks": ""
             }
            },
            "type": "scattergeo"
           }
          ],
          "scattergl": [
           {
            "marker": {
             "colorbar": {
              "outlinewidth": 0,
              "ticks": ""
             }
            },
            "type": "scattergl"
           }
          ],
          "scattermap": [
           {
            "marker": {
             "colorbar": {
              "outlinewidth": 0,
              "ticks": ""
             }
            },
            "type": "scattermap"
           }
          ],
          "scattermapbox": [
           {
            "marker": {
             "colorbar": {
              "outlinewidth": 0,
              "ticks": ""
             }
            },
            "type": "scattermapbox"
           }
          ],
          "scatterpolar": [
           {
            "marker": {
             "colorbar": {
              "outlinewidth": 0,
              "ticks": ""
             }
            },
            "type": "scatterpolar"
           }
          ],
          "scatterpolargl": [
           {
            "marker": {
             "colorbar": {
              "outlinewidth": 0,
              "ticks": ""
             }
            },
            "type": "scatterpolargl"
           }
          ],
          "scatterternary": [
           {
            "marker": {
             "colorbar": {
              "outlinewidth": 0,
              "ticks": ""
             }
            },
            "type": "scatterternary"
           }
          ],
          "surface": [
           {
            "colorbar": {
             "outlinewidth": 0,
             "ticks": ""
            },
            "colorscale": [
             [
              0,
              "#0d0887"
             ],
             [
              0.1111111111111111,
              "#46039f"
             ],
             [
              0.2222222222222222,
              "#7201a8"
             ],
             [
              0.3333333333333333,
              "#9c179e"
             ],
             [
              0.4444444444444444,
              "#bd3786"
             ],
             [
              0.5555555555555556,
              "#d8576b"
             ],
             [
              0.6666666666666666,
              "#ed7953"
             ],
             [
              0.7777777777777778,
              "#fb9f3a"
             ],
             [
              0.8888888888888888,
              "#fdca26"
             ],
             [
              1,
              "#f0f921"
             ]
            ],
            "type": "surface"
           }
          ],
          "table": [
           {
            "cells": {
             "fill": {
              "color": "#EBF0F8"
             },
             "line": {
              "color": "white"
             }
            },
            "header": {
             "fill": {
              "color": "#C8D4E3"
             },
             "line": {
              "color": "white"
             }
            },
            "type": "table"
           }
          ]
         },
         "layout": {
          "annotationdefaults": {
           "arrowcolor": "#2a3f5f",
           "arrowhead": 0,
           "arrowwidth": 1
          },
          "autotypenumbers": "strict",
          "coloraxis": {
           "colorbar": {
            "outlinewidth": 0,
            "ticks": ""
           }
          },
          "colorscale": {
           "diverging": [
            [
             0,
             "#8e0152"
            ],
            [
             0.1,
             "#c51b7d"
            ],
            [
             0.2,
             "#de77ae"
            ],
            [
             0.3,
             "#f1b6da"
            ],
            [
             0.4,
             "#fde0ef"
            ],
            [
             0.5,
             "#f7f7f7"
            ],
            [
             0.6,
             "#e6f5d0"
            ],
            [
             0.7,
             "#b8e186"
            ],
            [
             0.8,
             "#7fbc41"
            ],
            [
             0.9,
             "#4d9221"
            ],
            [
             1,
             "#276419"
            ]
           ],
           "sequential": [
            [
             0,
             "#0d0887"
            ],
            [
             0.1111111111111111,
             "#46039f"
            ],
            [
             0.2222222222222222,
             "#7201a8"
            ],
            [
             0.3333333333333333,
             "#9c179e"
            ],
            [
             0.4444444444444444,
             "#bd3786"
            ],
            [
             0.5555555555555556,
             "#d8576b"
            ],
            [
             0.6666666666666666,
             "#ed7953"
            ],
            [
             0.7777777777777778,
             "#fb9f3a"
            ],
            [
             0.8888888888888888,
             "#fdca26"
            ],
            [
             1,
             "#f0f921"
            ]
           ],
           "sequentialminus": [
            [
             0,
             "#0d0887"
            ],
            [
             0.1111111111111111,
             "#46039f"
            ],
            [
             0.2222222222222222,
             "#7201a8"
            ],
            [
             0.3333333333333333,
             "#9c179e"
            ],
            [
             0.4444444444444444,
             "#bd3786"
            ],
            [
             0.5555555555555556,
             "#d8576b"
            ],
            [
             0.6666666666666666,
             "#ed7953"
            ],
            [
             0.7777777777777778,
             "#fb9f3a"
            ],
            [
             0.8888888888888888,
             "#fdca26"
            ],
            [
             1,
             "#f0f921"
            ]
           ]
          },
          "colorway": [
           "#636efa",
           "#EF553B",
           "#00cc96",
           "#ab63fa",
           "#FFA15A",
           "#19d3f3",
           "#FF6692",
           "#B6E880",
           "#FF97FF",
           "#FECB52"
          ],
          "font": {
           "color": "#2a3f5f"
          },
          "geo": {
           "bgcolor": "white",
           "lakecolor": "white",
           "landcolor": "#E5ECF6",
           "showlakes": true,
           "showland": true,
           "subunitcolor": "white"
          },
          "hoverlabel": {
           "align": "left"
          },
          "hovermode": "closest",
          "mapbox": {
           "style": "light"
          },
          "paper_bgcolor": "white",
          "plot_bgcolor": "#E5ECF6",
          "polar": {
           "angularaxis": {
            "gridcolor": "white",
            "linecolor": "white",
            "ticks": ""
           },
           "bgcolor": "#E5ECF6",
           "radialaxis": {
            "gridcolor": "white",
            "linecolor": "white",
            "ticks": ""
           }
          },
          "scene": {
           "xaxis": {
            "backgroundcolor": "#E5ECF6",
            "gridcolor": "white",
            "gridwidth": 2,
            "linecolor": "white",
            "showbackground": true,
            "ticks": "",
            "zerolinecolor": "white"
           },
           "yaxis": {
            "backgroundcolor": "#E5ECF6",
            "gridcolor": "white",
            "gridwidth": 2,
            "linecolor": "white",
            "showbackground": true,
            "ticks": "",
            "zerolinecolor": "white"
           },
           "zaxis": {
            "backgroundcolor": "#E5ECF6",
            "gridcolor": "white",
            "gridwidth": 2,
            "linecolor": "white",
            "showbackground": true,
            "ticks": "",
            "zerolinecolor": "white"
           }
          },
          "shapedefaults": {
           "line": {
            "color": "#2a3f5f"
           }
          },
          "ternary": {
           "aaxis": {
            "gridcolor": "white",
            "linecolor": "white",
            "ticks": ""
           },
           "baxis": {
            "gridcolor": "white",
            "linecolor": "white",
            "ticks": ""
           },
           "bgcolor": "#E5ECF6",
           "caxis": {
            "gridcolor": "white",
            "linecolor": "white",
            "ticks": ""
           }
          },
          "title": {
           "x": 0.05
          },
          "xaxis": {
           "automargin": true,
           "gridcolor": "white",
           "linecolor": "white",
           "ticks": "",
           "title": {
            "standoff": 15
           },
           "zerolinecolor": "white",
           "zerolinewidth": 2
          },
          "yaxis": {
           "automargin": true,
           "gridcolor": "white",
           "linecolor": "white",
           "ticks": "",
           "title": {
            "standoff": 15
           },
           "zerolinecolor": "white",
           "zerolinewidth": 2
          }
         }
        },
        "title": {
         "text": "Execution time of ForecasterRecursive_predict"
        },
        "xaxis": {
         "tickangle": -45,
         "tickmode": "array",
         "ticktext": [
          "0.15.1",
          "0.16.0"
         ],
         "tickvals": [
          0,
          1
         ],
         "title": {
          "text": "skforecast version"
         }
        },
        "yaxis": {
         "title": {
          "text": "Execution time (seconds)"
         }
        }
       }
      }
     },
     "metadata": {},
     "output_type": "display_data"
    },
    {
     "data": {
      "application/vnd.plotly.v1+json": {
       "config": {
        "plotlyServerURL": "https://plot.ly"
       },
       "data": [
        {
         "error_y": {
          "array": {
           "bdata": "XEpvnlP3Kj8=",
           "dtype": "f8"
          },
          "color": "#636EFA",
          "thickness": 1.5,
          "type": "data",
          "visible": true,
          "width": 5
         },
         "hovertemplate": "%{text}<extra></extra>",
         "marker": {
          "color": "#636EFA",
          "opacity": 0.7,
          "size": 10
         },
         "mode": "markers",
         "name": "Run time - 0.15.1",
         "showlegend": true,
         "text": [
          "Forecaster: ForecasterRecursive<br>Regressor: LGBMRegressor<br>Function: ForecasterRecursive__create_predict_inputs<br>Function_hash: 0f4a625e8b1bb7e3f0c5bb77a04cc2fb<br>Datetime: 2025-04-24 23:06:12.804417<br>Python version: 3.12.9<br>skforecast version: 0.15.1<br>numpy version: 2.2.5<br>pandas version: 2.2.3<br>sklearn version: 1.6.1<br>lightgbm version: 4.6.0<br>Platform: Linux-6.11.0-24-generic-x86_64-with-glibc2.39<br>Processor: x86_64<br>CPU count: 8<br>Memory (GB): 16.64<br>"
         ],
         "type": "scatter",
         "x": {
          "bdata": "fByzX9/Fir8=",
          "dtype": "f8"
         },
         "y": {
          "bdata": "d3f3s41wZT8=",
          "dtype": "f8"
         }
        },
        {
         "error_y": {
          "array": {
           "bdata": "FtWsfcUyNj8=",
           "dtype": "f8"
          },
          "color": "#EF553B",
          "thickness": 1.5,
          "type": "data",
          "visible": true,
          "width": 5
         },
         "hovertemplate": "%{text}<extra></extra>",
         "marker": {
          "color": "#EF553B",
          "opacity": 0.7,
          "size": 10
         },
         "mode": "markers",
         "name": "Run time - 0.16.0",
         "showlegend": true,
         "text": [
          "Forecaster: ForecasterRecursive<br>Regressor: LGBMRegressor<br>Function: ForecasterRecursive__create_predict_inputs<br>Function_hash: 0f4a625e8b1bb7e3f0c5bb77a04cc2fb<br>Datetime: 2025-04-24 22:43:39.775270<br>Python version: 3.12.9<br>skforecast version: 0.16.0<br>numpy version: 2.2.5<br>pandas version: 2.2.3<br>sklearn version: 1.6.1<br>lightgbm version: 4.6.0<br>Platform: Linux-6.11.0-24-generic-x86_64-with-glibc2.39<br>Processor: x86_64<br>CPU count: 8<br>Memory (GB): 16.64<br>"
         ],
         "type": "scatter",
         "x": {
          "bdata": "UFKCnpAh8D8=",
          "dtype": "f8"
         },
         "y": {
          "bdata": "MzPTqP+zYT8=",
          "dtype": "f8"
         }
        },
        {
         "line": {
          "color": "black",
          "width": 2
         },
         "marker": {
          "color": "black",
          "size": 8
         },
         "mode": "lines+markers",
         "name": "Median (per version)",
         "type": "scatter",
         "x": {
          "bdata": "AAE=",
          "dtype": "i1"
         },
         "y": {
          "bdata": "d3f3s41wZT8zM9Oo/7NhPw==",
          "dtype": "f8"
         }
        },
        {
         "line": {
          "color": "black",
          "dash": "dash",
          "width": 2
         },
         "marker": {
          "color": "black",
          "size": 8
         },
         "mode": "lines+markers",
         "name": "Mean (per version)",
         "type": "scatter",
         "x": {
          "bdata": "AAE=",
          "dtype": "i1"
         },
         "y": {
          "bdata": "d3f3s41wZT8zM9Oo/7NhPw==",
          "dtype": "f8"
         }
        }
       ],
       "layout": {
        "showlegend": true,
        "template": {
         "data": {
          "bar": [
           {
            "error_x": {
             "color": "#2a3f5f"
            },
            "error_y": {
             "color": "#2a3f5f"
            },
            "marker": {
             "line": {
              "color": "#E5ECF6",
              "width": 0.5
             },
             "pattern": {
              "fillmode": "overlay",
              "size": 10,
              "solidity": 0.2
             }
            },
            "type": "bar"
           }
          ],
          "barpolar": [
           {
            "marker": {
             "line": {
              "color": "#E5ECF6",
              "width": 0.5
             },
             "pattern": {
              "fillmode": "overlay",
              "size": 10,
              "solidity": 0.2
             }
            },
            "type": "barpolar"
           }
          ],
          "carpet": [
           {
            "aaxis": {
             "endlinecolor": "#2a3f5f",
             "gridcolor": "white",
             "linecolor": "white",
             "minorgridcolor": "white",
             "startlinecolor": "#2a3f5f"
            },
            "baxis": {
             "endlinecolor": "#2a3f5f",
             "gridcolor": "white",
             "linecolor": "white",
             "minorgridcolor": "white",
             "startlinecolor": "#2a3f5f"
            },
            "type": "carpet"
           }
          ],
          "choropleth": [
           {
            "colorbar": {
             "outlinewidth": 0,
             "ticks": ""
            },
            "type": "choropleth"
           }
          ],
          "contour": [
           {
            "colorbar": {
             "outlinewidth": 0,
             "ticks": ""
            },
            "colorscale": [
             [
              0,
              "#0d0887"
             ],
             [
              0.1111111111111111,
              "#46039f"
             ],
             [
              0.2222222222222222,
              "#7201a8"
             ],
             [
              0.3333333333333333,
              "#9c179e"
             ],
             [
              0.4444444444444444,
              "#bd3786"
             ],
             [
              0.5555555555555556,
              "#d8576b"
             ],
             [
              0.6666666666666666,
              "#ed7953"
             ],
             [
              0.7777777777777778,
              "#fb9f3a"
             ],
             [
              0.8888888888888888,
              "#fdca26"
             ],
             [
              1,
              "#f0f921"
             ]
            ],
            "type": "contour"
           }
          ],
          "contourcarpet": [
           {
            "colorbar": {
             "outlinewidth": 0,
             "ticks": ""
            },
            "type": "contourcarpet"
           }
          ],
          "heatmap": [
           {
            "colorbar": {
             "outlinewidth": 0,
             "ticks": ""
            },
            "colorscale": [
             [
              0,
              "#0d0887"
             ],
             [
              0.1111111111111111,
              "#46039f"
             ],
             [
              0.2222222222222222,
              "#7201a8"
             ],
             [
              0.3333333333333333,
              "#9c179e"
             ],
             [
              0.4444444444444444,
              "#bd3786"
             ],
             [
              0.5555555555555556,
              "#d8576b"
             ],
             [
              0.6666666666666666,
              "#ed7953"
             ],
             [
              0.7777777777777778,
              "#fb9f3a"
             ],
             [
              0.8888888888888888,
              "#fdca26"
             ],
             [
              1,
              "#f0f921"
             ]
            ],
            "type": "heatmap"
           }
          ],
          "histogram": [
           {
            "marker": {
             "pattern": {
              "fillmode": "overlay",
              "size": 10,
              "solidity": 0.2
             }
            },
            "type": "histogram"
           }
          ],
          "histogram2d": [
           {
            "colorbar": {
             "outlinewidth": 0,
             "ticks": ""
            },
            "colorscale": [
             [
              0,
              "#0d0887"
             ],
             [
              0.1111111111111111,
              "#46039f"
             ],
             [
              0.2222222222222222,
              "#7201a8"
             ],
             [
              0.3333333333333333,
              "#9c179e"
             ],
             [
              0.4444444444444444,
              "#bd3786"
             ],
             [
              0.5555555555555556,
              "#d8576b"
             ],
             [
              0.6666666666666666,
              "#ed7953"
             ],
             [
              0.7777777777777778,
              "#fb9f3a"
             ],
             [
              0.8888888888888888,
              "#fdca26"
             ],
             [
              1,
              "#f0f921"
             ]
            ],
            "type": "histogram2d"
           }
          ],
          "histogram2dcontour": [
           {
            "colorbar": {
             "outlinewidth": 0,
             "ticks": ""
            },
            "colorscale": [
             [
              0,
              "#0d0887"
             ],
             [
              0.1111111111111111,
              "#46039f"
             ],
             [
              0.2222222222222222,
              "#7201a8"
             ],
             [
              0.3333333333333333,
              "#9c179e"
             ],
             [
              0.4444444444444444,
              "#bd3786"
             ],
             [
              0.5555555555555556,
              "#d8576b"
             ],
             [
              0.6666666666666666,
              "#ed7953"
             ],
             [
              0.7777777777777778,
              "#fb9f3a"
             ],
             [
              0.8888888888888888,
              "#fdca26"
             ],
             [
              1,
              "#f0f921"
             ]
            ],
            "type": "histogram2dcontour"
           }
          ],
          "mesh3d": [
           {
            "colorbar": {
             "outlinewidth": 0,
             "ticks": ""
            },
            "type": "mesh3d"
           }
          ],
          "parcoords": [
           {
            "line": {
             "colorbar": {
              "outlinewidth": 0,
              "ticks": ""
             }
            },
            "type": "parcoords"
           }
          ],
          "pie": [
           {
            "automargin": true,
            "type": "pie"
           }
          ],
          "scatter": [
           {
            "fillpattern": {
             "fillmode": "overlay",
             "size": 10,
             "solidity": 0.2
            },
            "type": "scatter"
           }
          ],
          "scatter3d": [
           {
            "line": {
             "colorbar": {
              "outlinewidth": 0,
              "ticks": ""
             }
            },
            "marker": {
             "colorbar": {
              "outlinewidth": 0,
              "ticks": ""
             }
            },
            "type": "scatter3d"
           }
          ],
          "scattercarpet": [
           {
            "marker": {
             "colorbar": {
              "outlinewidth": 0,
              "ticks": ""
             }
            },
            "type": "scattercarpet"
           }
          ],
          "scattergeo": [
           {
            "marker": {
             "colorbar": {
              "outlinewidth": 0,
              "ticks": ""
             }
            },
            "type": "scattergeo"
           }
          ],
          "scattergl": [
           {
            "marker": {
             "colorbar": {
              "outlinewidth": 0,
              "ticks": ""
             }
            },
            "type": "scattergl"
           }
          ],
          "scattermap": [
           {
            "marker": {
             "colorbar": {
              "outlinewidth": 0,
              "ticks": ""
             }
            },
            "type": "scattermap"
           }
          ],
          "scattermapbox": [
           {
            "marker": {
             "colorbar": {
              "outlinewidth": 0,
              "ticks": ""
             }
            },
            "type": "scattermapbox"
           }
          ],
          "scatterpolar": [
           {
            "marker": {
             "colorbar": {
              "outlinewidth": 0,
              "ticks": ""
             }
            },
            "type": "scatterpolar"
           }
          ],
          "scatterpolargl": [
           {
            "marker": {
             "colorbar": {
              "outlinewidth": 0,
              "ticks": ""
             }
            },
            "type": "scatterpolargl"
           }
          ],
          "scatterternary": [
           {
            "marker": {
             "colorbar": {
              "outlinewidth": 0,
              "ticks": ""
             }
            },
            "type": "scatterternary"
           }
          ],
          "surface": [
           {
            "colorbar": {
             "outlinewidth": 0,
             "ticks": ""
            },
            "colorscale": [
             [
              0,
              "#0d0887"
             ],
             [
              0.1111111111111111,
              "#46039f"
             ],
             [
              0.2222222222222222,
              "#7201a8"
             ],
             [
              0.3333333333333333,
              "#9c179e"
             ],
             [
              0.4444444444444444,
              "#bd3786"
             ],
             [
              0.5555555555555556,
              "#d8576b"
             ],
             [
              0.6666666666666666,
              "#ed7953"
             ],
             [
              0.7777777777777778,
              "#fb9f3a"
             ],
             [
              0.8888888888888888,
              "#fdca26"
             ],
             [
              1,
              "#f0f921"
             ]
            ],
            "type": "surface"
           }
          ],
          "table": [
           {
            "cells": {
             "fill": {
              "color": "#EBF0F8"
             },
             "line": {
              "color": "white"
             }
            },
            "header": {
             "fill": {
              "color": "#C8D4E3"
             },
             "line": {
              "color": "white"
             }
            },
            "type": "table"
           }
          ]
         },
         "layout": {
          "annotationdefaults": {
           "arrowcolor": "#2a3f5f",
           "arrowhead": 0,
           "arrowwidth": 1
          },
          "autotypenumbers": "strict",
          "coloraxis": {
           "colorbar": {
            "outlinewidth": 0,
            "ticks": ""
           }
          },
          "colorscale": {
           "diverging": [
            [
             0,
             "#8e0152"
            ],
            [
             0.1,
             "#c51b7d"
            ],
            [
             0.2,
             "#de77ae"
            ],
            [
             0.3,
             "#f1b6da"
            ],
            [
             0.4,
             "#fde0ef"
            ],
            [
             0.5,
             "#f7f7f7"
            ],
            [
             0.6,
             "#e6f5d0"
            ],
            [
             0.7,
             "#b8e186"
            ],
            [
             0.8,
             "#7fbc41"
            ],
            [
             0.9,
             "#4d9221"
            ],
            [
             1,
             "#276419"
            ]
           ],
           "sequential": [
            [
             0,
             "#0d0887"
            ],
            [
             0.1111111111111111,
             "#46039f"
            ],
            [
             0.2222222222222222,
             "#7201a8"
            ],
            [
             0.3333333333333333,
             "#9c179e"
            ],
            [
             0.4444444444444444,
             "#bd3786"
            ],
            [
             0.5555555555555556,
             "#d8576b"
            ],
            [
             0.6666666666666666,
             "#ed7953"
            ],
            [
             0.7777777777777778,
             "#fb9f3a"
            ],
            [
             0.8888888888888888,
             "#fdca26"
            ],
            [
             1,
             "#f0f921"
            ]
           ],
           "sequentialminus": [
            [
             0,
             "#0d0887"
            ],
            [
             0.1111111111111111,
             "#46039f"
            ],
            [
             0.2222222222222222,
             "#7201a8"
            ],
            [
             0.3333333333333333,
             "#9c179e"
            ],
            [
             0.4444444444444444,
             "#bd3786"
            ],
            [
             0.5555555555555556,
             "#d8576b"
            ],
            [
             0.6666666666666666,
             "#ed7953"
            ],
            [
             0.7777777777777778,
             "#fb9f3a"
            ],
            [
             0.8888888888888888,
             "#fdca26"
            ],
            [
             1,
             "#f0f921"
            ]
           ]
          },
          "colorway": [
           "#636efa",
           "#EF553B",
           "#00cc96",
           "#ab63fa",
           "#FFA15A",
           "#19d3f3",
           "#FF6692",
           "#B6E880",
           "#FF97FF",
           "#FECB52"
          ],
          "font": {
           "color": "#2a3f5f"
          },
          "geo": {
           "bgcolor": "white",
           "lakecolor": "white",
           "landcolor": "#E5ECF6",
           "showlakes": true,
           "showland": true,
           "subunitcolor": "white"
          },
          "hoverlabel": {
           "align": "left"
          },
          "hovermode": "closest",
          "mapbox": {
           "style": "light"
          },
          "paper_bgcolor": "white",
          "plot_bgcolor": "#E5ECF6",
          "polar": {
           "angularaxis": {
            "gridcolor": "white",
            "linecolor": "white",
            "ticks": ""
           },
           "bgcolor": "#E5ECF6",
           "radialaxis": {
            "gridcolor": "white",
            "linecolor": "white",
            "ticks": ""
           }
          },
          "scene": {
           "xaxis": {
            "backgroundcolor": "#E5ECF6",
            "gridcolor": "white",
            "gridwidth": 2,
            "linecolor": "white",
            "showbackground": true,
            "ticks": "",
            "zerolinecolor": "white"
           },
           "yaxis": {
            "backgroundcolor": "#E5ECF6",
            "gridcolor": "white",
            "gridwidth": 2,
            "linecolor": "white",
            "showbackground": true,
            "ticks": "",
            "zerolinecolor": "white"
           },
           "zaxis": {
            "backgroundcolor": "#E5ECF6",
            "gridcolor": "white",
            "gridwidth": 2,
            "linecolor": "white",
            "showbackground": true,
            "ticks": "",
            "zerolinecolor": "white"
           }
          },
          "shapedefaults": {
           "line": {
            "color": "#2a3f5f"
           }
          },
          "ternary": {
           "aaxis": {
            "gridcolor": "white",
            "linecolor": "white",
            "ticks": ""
           },
           "baxis": {
            "gridcolor": "white",
            "linecolor": "white",
            "ticks": ""
           },
           "bgcolor": "#E5ECF6",
           "caxis": {
            "gridcolor": "white",
            "linecolor": "white",
            "ticks": ""
           }
          },
          "title": {
           "x": 0.05
          },
          "xaxis": {
           "automargin": true,
           "gridcolor": "white",
           "linecolor": "white",
           "ticks": "",
           "title": {
            "standoff": 15
           },
           "zerolinecolor": "white",
           "zerolinewidth": 2
          },
          "yaxis": {
           "automargin": true,
           "gridcolor": "white",
           "linecolor": "white",
           "ticks": "",
           "title": {
            "standoff": 15
           },
           "zerolinecolor": "white",
           "zerolinewidth": 2
          }
         }
        },
        "title": {
         "text": "Execution time of ForecasterRecursive__create_predict_inputs"
        },
        "xaxis": {
         "tickangle": -45,
         "tickmode": "array",
         "ticktext": [
          "0.15.1",
          "0.16.0"
         ],
         "tickvals": [
          0,
          1
         ],
         "title": {
          "text": "skforecast version"
         }
        },
        "yaxis": {
         "title": {
          "text": "Execution time (seconds)"
         }
        }
       }
      }
     },
     "metadata": {},
     "output_type": "display_data"
    },
    {
     "data": {
      "application/vnd.plotly.v1+json": {
       "config": {
        "plotlyServerURL": "https://plot.ly"
       },
       "data": [
        {
         "error_y": {
          "array": {
           "bdata": "oYh4ELourD8=",
           "dtype": "f8"
          },
          "color": "#636EFA",
          "thickness": 1.5,
          "type": "data",
          "visible": true,
          "width": 5
         },
         "hovertemplate": "%{text}<extra></extra>",
         "marker": {
          "color": "#636EFA",
          "opacity": 0.7,
          "size": 10
         },
         "mode": "markers",
         "name": "Run time - 0.15.1",
         "showlegend": true,
         "text": [
          "Forecaster: ForecasterRecursive<br>Regressor: LGBMRegressor<br>Function: ForecasterRecursive_backtesting<br>Function_hash: dad167768fbdc53eca10d293c5861956<br>Datetime: 2025-04-24 23:06:16.251176<br>Python version: 3.12.9<br>skforecast version: 0.15.1<br>numpy version: 2.2.5<br>pandas version: 2.2.3<br>sklearn version: 1.6.1<br>lightgbm version: 4.6.0<br>Platform: Linux-6.11.0-24-generic-x86_64-with-glibc2.39<br>Processor: x86_64<br>CPU count: 8<br>Memory (GB): 16.64<br>"
         ],
         "type": "scatter",
         "x": {
          "bdata": "fByzX9/Fir8=",
          "dtype": "f8"
         },
         "y": {
          "bdata": "M/MhFAAI5j8=",
          "dtype": "f8"
         }
        },
        {
         "error_y": {
          "array": {
           "bdata": "ZzOGfcFIrD8=",
           "dtype": "f8"
          },
          "color": "#EF553B",
          "thickness": 1.5,
          "type": "data",
          "visible": true,
          "width": 5
         },
         "hovertemplate": "%{text}<extra></extra>",
         "marker": {
          "color": "#EF553B",
          "opacity": 0.7,
          "size": 10
         },
         "mode": "markers",
         "name": "Run time - 0.16.0",
         "showlegend": true,
         "text": [
          "Forecaster: ForecasterRecursive<br>Regressor: LGBMRegressor<br>Function: ForecasterRecursive_backtesting<br>Function_hash: dad167768fbdc53eca10d293c5861956<br>Datetime: 2025-04-24 22:43:43.432574<br>Python version: 3.12.9<br>skforecast version: 0.16.0<br>numpy version: 2.2.5<br>pandas version: 2.2.3<br>sklearn version: 1.6.1<br>lightgbm version: 4.6.0<br>Platform: Linux-6.11.0-24-generic-x86_64-with-glibc2.39<br>Processor: x86_64<br>CPU count: 8<br>Memory (GB): 16.64<br>"
         ],
         "type": "scatter",
         "x": {
          "bdata": "UFKCnpAh8D8=",
          "dtype": "f8"
         },
         "y": {
          "bdata": "Zib72vZe5z8=",
          "dtype": "f8"
         }
        },
        {
         "line": {
          "color": "black",
          "width": 2
         },
         "marker": {
          "color": "black",
          "size": 8
         },
         "mode": "lines+markers",
         "name": "Median (per version)",
         "type": "scatter",
         "x": {
          "bdata": "AAE=",
          "dtype": "i1"
         },
         "y": {
          "bdata": "M/MhFAAI5j9mJvva9l7nPw==",
          "dtype": "f8"
         }
        },
        {
         "line": {
          "color": "black",
          "dash": "dash",
          "width": 2
         },
         "marker": {
          "color": "black",
          "size": 8
         },
         "mode": "lines+markers",
         "name": "Mean (per version)",
         "type": "scatter",
         "x": {
          "bdata": "AAE=",
          "dtype": "i1"
         },
         "y": {
          "bdata": "M/MhFAAI5j9mJvva9l7nPw==",
          "dtype": "f8"
         }
        }
       ],
       "layout": {
        "showlegend": true,
        "template": {
         "data": {
          "bar": [
           {
            "error_x": {
             "color": "#2a3f5f"
            },
            "error_y": {
             "color": "#2a3f5f"
            },
            "marker": {
             "line": {
              "color": "#E5ECF6",
              "width": 0.5
             },
             "pattern": {
              "fillmode": "overlay",
              "size": 10,
              "solidity": 0.2
             }
            },
            "type": "bar"
           }
          ],
          "barpolar": [
           {
            "marker": {
             "line": {
              "color": "#E5ECF6",
              "width": 0.5
             },
             "pattern": {
              "fillmode": "overlay",
              "size": 10,
              "solidity": 0.2
             }
            },
            "type": "barpolar"
           }
          ],
          "carpet": [
           {
            "aaxis": {
             "endlinecolor": "#2a3f5f",
             "gridcolor": "white",
             "linecolor": "white",
             "minorgridcolor": "white",
             "startlinecolor": "#2a3f5f"
            },
            "baxis": {
             "endlinecolor": "#2a3f5f",
             "gridcolor": "white",
             "linecolor": "white",
             "minorgridcolor": "white",
             "startlinecolor": "#2a3f5f"
            },
            "type": "carpet"
           }
          ],
          "choropleth": [
           {
            "colorbar": {
             "outlinewidth": 0,
             "ticks": ""
            },
            "type": "choropleth"
           }
          ],
          "contour": [
           {
            "colorbar": {
             "outlinewidth": 0,
             "ticks": ""
            },
            "colorscale": [
             [
              0,
              "#0d0887"
             ],
             [
              0.1111111111111111,
              "#46039f"
             ],
             [
              0.2222222222222222,
              "#7201a8"
             ],
             [
              0.3333333333333333,
              "#9c179e"
             ],
             [
              0.4444444444444444,
              "#bd3786"
             ],
             [
              0.5555555555555556,
              "#d8576b"
             ],
             [
              0.6666666666666666,
              "#ed7953"
             ],
             [
              0.7777777777777778,
              "#fb9f3a"
             ],
             [
              0.8888888888888888,
              "#fdca26"
             ],
             [
              1,
              "#f0f921"
             ]
            ],
            "type": "contour"
           }
          ],
          "contourcarpet": [
           {
            "colorbar": {
             "outlinewidth": 0,
             "ticks": ""
            },
            "type": "contourcarpet"
           }
          ],
          "heatmap": [
           {
            "colorbar": {
             "outlinewidth": 0,
             "ticks": ""
            },
            "colorscale": [
             [
              0,
              "#0d0887"
             ],
             [
              0.1111111111111111,
              "#46039f"
             ],
             [
              0.2222222222222222,
              "#7201a8"
             ],
             [
              0.3333333333333333,
              "#9c179e"
             ],
             [
              0.4444444444444444,
              "#bd3786"
             ],
             [
              0.5555555555555556,
              "#d8576b"
             ],
             [
              0.6666666666666666,
              "#ed7953"
             ],
             [
              0.7777777777777778,
              "#fb9f3a"
             ],
             [
              0.8888888888888888,
              "#fdca26"
             ],
             [
              1,
              "#f0f921"
             ]
            ],
            "type": "heatmap"
           }
          ],
          "histogram": [
           {
            "marker": {
             "pattern": {
              "fillmode": "overlay",
              "size": 10,
              "solidity": 0.2
             }
            },
            "type": "histogram"
           }
          ],
          "histogram2d": [
           {
            "colorbar": {
             "outlinewidth": 0,
             "ticks": ""
            },
            "colorscale": [
             [
              0,
              "#0d0887"
             ],
             [
              0.1111111111111111,
              "#46039f"
             ],
             [
              0.2222222222222222,
              "#7201a8"
             ],
             [
              0.3333333333333333,
              "#9c179e"
             ],
             [
              0.4444444444444444,
              "#bd3786"
             ],
             [
              0.5555555555555556,
              "#d8576b"
             ],
             [
              0.6666666666666666,
              "#ed7953"
             ],
             [
              0.7777777777777778,
              "#fb9f3a"
             ],
             [
              0.8888888888888888,
              "#fdca26"
             ],
             [
              1,
              "#f0f921"
             ]
            ],
            "type": "histogram2d"
           }
          ],
          "histogram2dcontour": [
           {
            "colorbar": {
             "outlinewidth": 0,
             "ticks": ""
            },
            "colorscale": [
             [
              0,
              "#0d0887"
             ],
             [
              0.1111111111111111,
              "#46039f"
             ],
             [
              0.2222222222222222,
              "#7201a8"
             ],
             [
              0.3333333333333333,
              "#9c179e"
             ],
             [
              0.4444444444444444,
              "#bd3786"
             ],
             [
              0.5555555555555556,
              "#d8576b"
             ],
             [
              0.6666666666666666,
              "#ed7953"
             ],
             [
              0.7777777777777778,
              "#fb9f3a"
             ],
             [
              0.8888888888888888,
              "#fdca26"
             ],
             [
              1,
              "#f0f921"
             ]
            ],
            "type": "histogram2dcontour"
           }
          ],
          "mesh3d": [
           {
            "colorbar": {
             "outlinewidth": 0,
             "ticks": ""
            },
            "type": "mesh3d"
           }
          ],
          "parcoords": [
           {
            "line": {
             "colorbar": {
              "outlinewidth": 0,
              "ticks": ""
             }
            },
            "type": "parcoords"
           }
          ],
          "pie": [
           {
            "automargin": true,
            "type": "pie"
           }
          ],
          "scatter": [
           {
            "fillpattern": {
             "fillmode": "overlay",
             "size": 10,
             "solidity": 0.2
            },
            "type": "scatter"
           }
          ],
          "scatter3d": [
           {
            "line": {
             "colorbar": {
              "outlinewidth": 0,
              "ticks": ""
             }
            },
            "marker": {
             "colorbar": {
              "outlinewidth": 0,
              "ticks": ""
             }
            },
            "type": "scatter3d"
           }
          ],
          "scattercarpet": [
           {
            "marker": {
             "colorbar": {
              "outlinewidth": 0,
              "ticks": ""
             }
            },
            "type": "scattercarpet"
           }
          ],
          "scattergeo": [
           {
            "marker": {
             "colorbar": {
              "outlinewidth": 0,
              "ticks": ""
             }
            },
            "type": "scattergeo"
           }
          ],
          "scattergl": [
           {
            "marker": {
             "colorbar": {
              "outlinewidth": 0,
              "ticks": ""
             }
            },
            "type": "scattergl"
           }
          ],
          "scattermap": [
           {
            "marker": {
             "colorbar": {
              "outlinewidth": 0,
              "ticks": ""
             }
            },
            "type": "scattermap"
           }
          ],
          "scattermapbox": [
           {
            "marker": {
             "colorbar": {
              "outlinewidth": 0,
              "ticks": ""
             }
            },
            "type": "scattermapbox"
           }
          ],
          "scatterpolar": [
           {
            "marker": {
             "colorbar": {
              "outlinewidth": 0,
              "ticks": ""
             }
            },
            "type": "scatterpolar"
           }
          ],
          "scatterpolargl": [
           {
            "marker": {
             "colorbar": {
              "outlinewidth": 0,
              "ticks": ""
             }
            },
            "type": "scatterpolargl"
           }
          ],
          "scatterternary": [
           {
            "marker": {
             "colorbar": {
              "outlinewidth": 0,
              "ticks": ""
             }
            },
            "type": "scatterternary"
           }
          ],
          "surface": [
           {
            "colorbar": {
             "outlinewidth": 0,
             "ticks": ""
            },
            "colorscale": [
             [
              0,
              "#0d0887"
             ],
             [
              0.1111111111111111,
              "#46039f"
             ],
             [
              0.2222222222222222,
              "#7201a8"
             ],
             [
              0.3333333333333333,
              "#9c179e"
             ],
             [
              0.4444444444444444,
              "#bd3786"
             ],
             [
              0.5555555555555556,
              "#d8576b"
             ],
             [
              0.6666666666666666,
              "#ed7953"
             ],
             [
              0.7777777777777778,
              "#fb9f3a"
             ],
             [
              0.8888888888888888,
              "#fdca26"
             ],
             [
              1,
              "#f0f921"
             ]
            ],
            "type": "surface"
           }
          ],
          "table": [
           {
            "cells": {
             "fill": {
              "color": "#EBF0F8"
             },
             "line": {
              "color": "white"
             }
            },
            "header": {
             "fill": {
              "color": "#C8D4E3"
             },
             "line": {
              "color": "white"
             }
            },
            "type": "table"
           }
          ]
         },
         "layout": {
          "annotationdefaults": {
           "arrowcolor": "#2a3f5f",
           "arrowhead": 0,
           "arrowwidth": 1
          },
          "autotypenumbers": "strict",
          "coloraxis": {
           "colorbar": {
            "outlinewidth": 0,
            "ticks": ""
           }
          },
          "colorscale": {
           "diverging": [
            [
             0,
             "#8e0152"
            ],
            [
             0.1,
             "#c51b7d"
            ],
            [
             0.2,
             "#de77ae"
            ],
            [
             0.3,
             "#f1b6da"
            ],
            [
             0.4,
             "#fde0ef"
            ],
            [
             0.5,
             "#f7f7f7"
            ],
            [
             0.6,
             "#e6f5d0"
            ],
            [
             0.7,
             "#b8e186"
            ],
            [
             0.8,
             "#7fbc41"
            ],
            [
             0.9,
             "#4d9221"
            ],
            [
             1,
             "#276419"
            ]
           ],
           "sequential": [
            [
             0,
             "#0d0887"
            ],
            [
             0.1111111111111111,
             "#46039f"
            ],
            [
             0.2222222222222222,
             "#7201a8"
            ],
            [
             0.3333333333333333,
             "#9c179e"
            ],
            [
             0.4444444444444444,
             "#bd3786"
            ],
            [
             0.5555555555555556,
             "#d8576b"
            ],
            [
             0.6666666666666666,
             "#ed7953"
            ],
            [
             0.7777777777777778,
             "#fb9f3a"
            ],
            [
             0.8888888888888888,
             "#fdca26"
            ],
            [
             1,
             "#f0f921"
            ]
           ],
           "sequentialminus": [
            [
             0,
             "#0d0887"
            ],
            [
             0.1111111111111111,
             "#46039f"
            ],
            [
             0.2222222222222222,
             "#7201a8"
            ],
            [
             0.3333333333333333,
             "#9c179e"
            ],
            [
             0.4444444444444444,
             "#bd3786"
            ],
            [
             0.5555555555555556,
             "#d8576b"
            ],
            [
             0.6666666666666666,
             "#ed7953"
            ],
            [
             0.7777777777777778,
             "#fb9f3a"
            ],
            [
             0.8888888888888888,
             "#fdca26"
            ],
            [
             1,
             "#f0f921"
            ]
           ]
          },
          "colorway": [
           "#636efa",
           "#EF553B",
           "#00cc96",
           "#ab63fa",
           "#FFA15A",
           "#19d3f3",
           "#FF6692",
           "#B6E880",
           "#FF97FF",
           "#FECB52"
          ],
          "font": {
           "color": "#2a3f5f"
          },
          "geo": {
           "bgcolor": "white",
           "lakecolor": "white",
           "landcolor": "#E5ECF6",
           "showlakes": true,
           "showland": true,
           "subunitcolor": "white"
          },
          "hoverlabel": {
           "align": "left"
          },
          "hovermode": "closest",
          "mapbox": {
           "style": "light"
          },
          "paper_bgcolor": "white",
          "plot_bgcolor": "#E5ECF6",
          "polar": {
           "angularaxis": {
            "gridcolor": "white",
            "linecolor": "white",
            "ticks": ""
           },
           "bgcolor": "#E5ECF6",
           "radialaxis": {
            "gridcolor": "white",
            "linecolor": "white",
            "ticks": ""
           }
          },
          "scene": {
           "xaxis": {
            "backgroundcolor": "#E5ECF6",
            "gridcolor": "white",
            "gridwidth": 2,
            "linecolor": "white",
            "showbackground": true,
            "ticks": "",
            "zerolinecolor": "white"
           },
           "yaxis": {
            "backgroundcolor": "#E5ECF6",
            "gridcolor": "white",
            "gridwidth": 2,
            "linecolor": "white",
            "showbackground": true,
            "ticks": "",
            "zerolinecolor": "white"
           },
           "zaxis": {
            "backgroundcolor": "#E5ECF6",
            "gridcolor": "white",
            "gridwidth": 2,
            "linecolor": "white",
            "showbackground": true,
            "ticks": "",
            "zerolinecolor": "white"
           }
          },
          "shapedefaults": {
           "line": {
            "color": "#2a3f5f"
           }
          },
          "ternary": {
           "aaxis": {
            "gridcolor": "white",
            "linecolor": "white",
            "ticks": ""
           },
           "baxis": {
            "gridcolor": "white",
            "linecolor": "white",
            "ticks": ""
           },
           "bgcolor": "#E5ECF6",
           "caxis": {
            "gridcolor": "white",
            "linecolor": "white",
            "ticks": ""
           }
          },
          "title": {
           "x": 0.05
          },
          "xaxis": {
           "automargin": true,
           "gridcolor": "white",
           "linecolor": "white",
           "ticks": "",
           "title": {
            "standoff": 15
           },
           "zerolinecolor": "white",
           "zerolinewidth": 2
          },
          "yaxis": {
           "automargin": true,
           "gridcolor": "white",
           "linecolor": "white",
           "ticks": "",
           "title": {
            "standoff": 15
           },
           "zerolinecolor": "white",
           "zerolinewidth": 2
          }
         }
        },
        "title": {
         "text": "Execution time of ForecasterRecursive_backtesting"
        },
        "xaxis": {
         "tickangle": -45,
         "tickmode": "array",
         "ticktext": [
          "0.15.1",
          "0.16.0"
         ],
         "tickvals": [
          0,
          1
         ],
         "title": {
          "text": "skforecast version"
         }
        },
        "yaxis": {
         "title": {
          "text": "Execution time (seconds)"
         }
        }
       }
      }
     },
     "metadata": {},
     "output_type": "display_data"
    },
    {
     "data": {
      "application/vnd.plotly.v1+json": {
       "config": {
        "plotlyServerURL": "https://plot.ly"
       },
       "data": [
        {
         "error_y": {
          "array": {
           "bdata": "DRVVuOs/mz8=",
           "dtype": "f8"
          },
          "color": "#636EFA",
          "thickness": 1.5,
          "type": "data",
          "visible": true,
          "width": 5
         },
         "hovertemplate": "%{text}<extra></extra>",
         "marker": {
          "color": "#636EFA",
          "opacity": 0.7,
          "size": 10
         },
         "mode": "markers",
         "name": "Run time - 0.15.1",
         "showlegend": true,
         "text": [
          "Forecaster: ForecasterRecursive<br>Regressor: LGBMRegressor<br>Function: ForecasterRecursive_backtesting_conformal<br>Function_hash: f356e528327023d064b35722d98a749e<br>Datetime: 2025-04-24 23:06:20.210011<br>Python version: 3.12.9<br>skforecast version: 0.15.1<br>numpy version: 2.2.5<br>pandas version: 2.2.3<br>sklearn version: 1.6.1<br>lightgbm version: 4.6.0<br>Platform: Linux-6.11.0-24-generic-x86_64-with-glibc2.39<br>Processor: x86_64<br>CPU count: 8<br>Memory (GB): 16.64<br>"
         ],
         "type": "scatter",
         "x": {
          "bdata": "fByzX9/Fir8=",
          "dtype": "f8"
         },
         "y": {
          "bdata": "AECiVjVN6T8=",
          "dtype": "f8"
         }
        },
        {
         "error_y": {
          "array": {
           "bdata": "dTKzfOsvkD8=",
           "dtype": "f8"
          },
          "color": "#EF553B",
          "thickness": 1.5,
          "type": "data",
          "visible": true,
          "width": 5
         },
         "hovertemplate": "%{text}<extra></extra>",
         "marker": {
          "color": "#EF553B",
          "opacity": 0.7,
          "size": 10
         },
         "mode": "markers",
         "name": "Run time - 0.16.0",
         "showlegend": true,
         "text": [
          "Forecaster: ForecasterRecursive<br>Regressor: LGBMRegressor<br>Function: ForecasterRecursive_backtesting_conformal<br>Function_hash: f356e528327023d064b35722d98a749e<br>Datetime: 2025-04-24 22:43:47.559519<br>Python version: 3.12.9<br>skforecast version: 0.16.0<br>numpy version: 2.2.5<br>pandas version: 2.2.3<br>sklearn version: 1.6.1<br>lightgbm version: 4.6.0<br>Platform: Linux-6.11.0-24-generic-x86_64-with-glibc2.39<br>Processor: x86_64<br>CPU count: 8<br>Memory (GB): 16.64<br>"
         ],
         "type": "scatter",
         "x": {
          "bdata": "UFKCnpAh8D8=",
          "dtype": "f8"
         },
         "y": {
          "bdata": "mtnSxQFf6j8=",
          "dtype": "f8"
         }
        },
        {
         "line": {
          "color": "black",
          "width": 2
         },
         "marker": {
          "color": "black",
          "size": 8
         },
         "mode": "lines+markers",
         "name": "Median (per version)",
         "type": "scatter",
         "x": {
          "bdata": "AAE=",
          "dtype": "i1"
         },
         "y": {
          "bdata": "AECiVjVN6T+a2dLFAV/qPw==",
          "dtype": "f8"
         }
        },
        {
         "line": {
          "color": "black",
          "dash": "dash",
          "width": 2
         },
         "marker": {
          "color": "black",
          "size": 8
         },
         "mode": "lines+markers",
         "name": "Mean (per version)",
         "type": "scatter",
         "x": {
          "bdata": "AAE=",
          "dtype": "i1"
         },
         "y": {
          "bdata": "AECiVjVN6T+a2dLFAV/qPw==",
          "dtype": "f8"
         }
        }
       ],
       "layout": {
        "showlegend": true,
        "template": {
         "data": {
          "bar": [
           {
            "error_x": {
             "color": "#2a3f5f"
            },
            "error_y": {
             "color": "#2a3f5f"
            },
            "marker": {
             "line": {
              "color": "#E5ECF6",
              "width": 0.5
             },
             "pattern": {
              "fillmode": "overlay",
              "size": 10,
              "solidity": 0.2
             }
            },
            "type": "bar"
           }
          ],
          "barpolar": [
           {
            "marker": {
             "line": {
              "color": "#E5ECF6",
              "width": 0.5
             },
             "pattern": {
              "fillmode": "overlay",
              "size": 10,
              "solidity": 0.2
             }
            },
            "type": "barpolar"
           }
          ],
          "carpet": [
           {
            "aaxis": {
             "endlinecolor": "#2a3f5f",
             "gridcolor": "white",
             "linecolor": "white",
             "minorgridcolor": "white",
             "startlinecolor": "#2a3f5f"
            },
            "baxis": {
             "endlinecolor": "#2a3f5f",
             "gridcolor": "white",
             "linecolor": "white",
             "minorgridcolor": "white",
             "startlinecolor": "#2a3f5f"
            },
            "type": "carpet"
           }
          ],
          "choropleth": [
           {
            "colorbar": {
             "outlinewidth": 0,
             "ticks": ""
            },
            "type": "choropleth"
           }
          ],
          "contour": [
           {
            "colorbar": {
             "outlinewidth": 0,
             "ticks": ""
            },
            "colorscale": [
             [
              0,
              "#0d0887"
             ],
             [
              0.1111111111111111,
              "#46039f"
             ],
             [
              0.2222222222222222,
              "#7201a8"
             ],
             [
              0.3333333333333333,
              "#9c179e"
             ],
             [
              0.4444444444444444,
              "#bd3786"
             ],
             [
              0.5555555555555556,
              "#d8576b"
             ],
             [
              0.6666666666666666,
              "#ed7953"
             ],
             [
              0.7777777777777778,
              "#fb9f3a"
             ],
             [
              0.8888888888888888,
              "#fdca26"
             ],
             [
              1,
              "#f0f921"
             ]
            ],
            "type": "contour"
           }
          ],
          "contourcarpet": [
           {
            "colorbar": {
             "outlinewidth": 0,
             "ticks": ""
            },
            "type": "contourcarpet"
           }
          ],
          "heatmap": [
           {
            "colorbar": {
             "outlinewidth": 0,
             "ticks": ""
            },
            "colorscale": [
             [
              0,
              "#0d0887"
             ],
             [
              0.1111111111111111,
              "#46039f"
             ],
             [
              0.2222222222222222,
              "#7201a8"
             ],
             [
              0.3333333333333333,
              "#9c179e"
             ],
             [
              0.4444444444444444,
              "#bd3786"
             ],
             [
              0.5555555555555556,
              "#d8576b"
             ],
             [
              0.6666666666666666,
              "#ed7953"
             ],
             [
              0.7777777777777778,
              "#fb9f3a"
             ],
             [
              0.8888888888888888,
              "#fdca26"
             ],
             [
              1,
              "#f0f921"
             ]
            ],
            "type": "heatmap"
           }
          ],
          "histogram": [
           {
            "marker": {
             "pattern": {
              "fillmode": "overlay",
              "size": 10,
              "solidity": 0.2
             }
            },
            "type": "histogram"
           }
          ],
          "histogram2d": [
           {
            "colorbar": {
             "outlinewidth": 0,
             "ticks": ""
            },
            "colorscale": [
             [
              0,
              "#0d0887"
             ],
             [
              0.1111111111111111,
              "#46039f"
             ],
             [
              0.2222222222222222,
              "#7201a8"
             ],
             [
              0.3333333333333333,
              "#9c179e"
             ],
             [
              0.4444444444444444,
              "#bd3786"
             ],
             [
              0.5555555555555556,
              "#d8576b"
             ],
             [
              0.6666666666666666,
              "#ed7953"
             ],
             [
              0.7777777777777778,
              "#fb9f3a"
             ],
             [
              0.8888888888888888,
              "#fdca26"
             ],
             [
              1,
              "#f0f921"
             ]
            ],
            "type": "histogram2d"
           }
          ],
          "histogram2dcontour": [
           {
            "colorbar": {
             "outlinewidth": 0,
             "ticks": ""
            },
            "colorscale": [
             [
              0,
              "#0d0887"
             ],
             [
              0.1111111111111111,
              "#46039f"
             ],
             [
              0.2222222222222222,
              "#7201a8"
             ],
             [
              0.3333333333333333,
              "#9c179e"
             ],
             [
              0.4444444444444444,
              "#bd3786"
             ],
             [
              0.5555555555555556,
              "#d8576b"
             ],
             [
              0.6666666666666666,
              "#ed7953"
             ],
             [
              0.7777777777777778,
              "#fb9f3a"
             ],
             [
              0.8888888888888888,
              "#fdca26"
             ],
             [
              1,
              "#f0f921"
             ]
            ],
            "type": "histogram2dcontour"
           }
          ],
          "mesh3d": [
           {
            "colorbar": {
             "outlinewidth": 0,
             "ticks": ""
            },
            "type": "mesh3d"
           }
          ],
          "parcoords": [
           {
            "line": {
             "colorbar": {
              "outlinewidth": 0,
              "ticks": ""
             }
            },
            "type": "parcoords"
           }
          ],
          "pie": [
           {
            "automargin": true,
            "type": "pie"
           }
          ],
          "scatter": [
           {
            "fillpattern": {
             "fillmode": "overlay",
             "size": 10,
             "solidity": 0.2
            },
            "type": "scatter"
           }
          ],
          "scatter3d": [
           {
            "line": {
             "colorbar": {
              "outlinewidth": 0,
              "ticks": ""
             }
            },
            "marker": {
             "colorbar": {
              "outlinewidth": 0,
              "ticks": ""
             }
            },
            "type": "scatter3d"
           }
          ],
          "scattercarpet": [
           {
            "marker": {
             "colorbar": {
              "outlinewidth": 0,
              "ticks": ""
             }
            },
            "type": "scattercarpet"
           }
          ],
          "scattergeo": [
           {
            "marker": {
             "colorbar": {
              "outlinewidth": 0,
              "ticks": ""
             }
            },
            "type": "scattergeo"
           }
          ],
          "scattergl": [
           {
            "marker": {
             "colorbar": {
              "outlinewidth": 0,
              "ticks": ""
             }
            },
            "type": "scattergl"
           }
          ],
          "scattermap": [
           {
            "marker": {
             "colorbar": {
              "outlinewidth": 0,
              "ticks": ""
             }
            },
            "type": "scattermap"
           }
          ],
          "scattermapbox": [
           {
            "marker": {
             "colorbar": {
              "outlinewidth": 0,
              "ticks": ""
             }
            },
            "type": "scattermapbox"
           }
          ],
          "scatterpolar": [
           {
            "marker": {
             "colorbar": {
              "outlinewidth": 0,
              "ticks": ""
             }
            },
            "type": "scatterpolar"
           }
          ],
          "scatterpolargl": [
           {
            "marker": {
             "colorbar": {
              "outlinewidth": 0,
              "ticks": ""
             }
            },
            "type": "scatterpolargl"
           }
          ],
          "scatterternary": [
           {
            "marker": {
             "colorbar": {
              "outlinewidth": 0,
              "ticks": ""
             }
            },
            "type": "scatterternary"
           }
          ],
          "surface": [
           {
            "colorbar": {
             "outlinewidth": 0,
             "ticks": ""
            },
            "colorscale": [
             [
              0,
              "#0d0887"
             ],
             [
              0.1111111111111111,
              "#46039f"
             ],
             [
              0.2222222222222222,
              "#7201a8"
             ],
             [
              0.3333333333333333,
              "#9c179e"
             ],
             [
              0.4444444444444444,
              "#bd3786"
             ],
             [
              0.5555555555555556,
              "#d8576b"
             ],
             [
              0.6666666666666666,
              "#ed7953"
             ],
             [
              0.7777777777777778,
              "#fb9f3a"
             ],
             [
              0.8888888888888888,
              "#fdca26"
             ],
             [
              1,
              "#f0f921"
             ]
            ],
            "type": "surface"
           }
          ],
          "table": [
           {
            "cells": {
             "fill": {
              "color": "#EBF0F8"
             },
             "line": {
              "color": "white"
             }
            },
            "header": {
             "fill": {
              "color": "#C8D4E3"
             },
             "line": {
              "color": "white"
             }
            },
            "type": "table"
           }
          ]
         },
         "layout": {
          "annotationdefaults": {
           "arrowcolor": "#2a3f5f",
           "arrowhead": 0,
           "arrowwidth": 1
          },
          "autotypenumbers": "strict",
          "coloraxis": {
           "colorbar": {
            "outlinewidth": 0,
            "ticks": ""
           }
          },
          "colorscale": {
           "diverging": [
            [
             0,
             "#8e0152"
            ],
            [
             0.1,
             "#c51b7d"
            ],
            [
             0.2,
             "#de77ae"
            ],
            [
             0.3,
             "#f1b6da"
            ],
            [
             0.4,
             "#fde0ef"
            ],
            [
             0.5,
             "#f7f7f7"
            ],
            [
             0.6,
             "#e6f5d0"
            ],
            [
             0.7,
             "#b8e186"
            ],
            [
             0.8,
             "#7fbc41"
            ],
            [
             0.9,
             "#4d9221"
            ],
            [
             1,
             "#276419"
            ]
           ],
           "sequential": [
            [
             0,
             "#0d0887"
            ],
            [
             0.1111111111111111,
             "#46039f"
            ],
            [
             0.2222222222222222,
             "#7201a8"
            ],
            [
             0.3333333333333333,
             "#9c179e"
            ],
            [
             0.4444444444444444,
             "#bd3786"
            ],
            [
             0.5555555555555556,
             "#d8576b"
            ],
            [
             0.6666666666666666,
             "#ed7953"
            ],
            [
             0.7777777777777778,
             "#fb9f3a"
            ],
            [
             0.8888888888888888,
             "#fdca26"
            ],
            [
             1,
             "#f0f921"
            ]
           ],
           "sequentialminus": [
            [
             0,
             "#0d0887"
            ],
            [
             0.1111111111111111,
             "#46039f"
            ],
            [
             0.2222222222222222,
             "#7201a8"
            ],
            [
             0.3333333333333333,
             "#9c179e"
            ],
            [
             0.4444444444444444,
             "#bd3786"
            ],
            [
             0.5555555555555556,
             "#d8576b"
            ],
            [
             0.6666666666666666,
             "#ed7953"
            ],
            [
             0.7777777777777778,
             "#fb9f3a"
            ],
            [
             0.8888888888888888,
             "#fdca26"
            ],
            [
             1,
             "#f0f921"
            ]
           ]
          },
          "colorway": [
           "#636efa",
           "#EF553B",
           "#00cc96",
           "#ab63fa",
           "#FFA15A",
           "#19d3f3",
           "#FF6692",
           "#B6E880",
           "#FF97FF",
           "#FECB52"
          ],
          "font": {
           "color": "#2a3f5f"
          },
          "geo": {
           "bgcolor": "white",
           "lakecolor": "white",
           "landcolor": "#E5ECF6",
           "showlakes": true,
           "showland": true,
           "subunitcolor": "white"
          },
          "hoverlabel": {
           "align": "left"
          },
          "hovermode": "closest",
          "mapbox": {
           "style": "light"
          },
          "paper_bgcolor": "white",
          "plot_bgcolor": "#E5ECF6",
          "polar": {
           "angularaxis": {
            "gridcolor": "white",
            "linecolor": "white",
            "ticks": ""
           },
           "bgcolor": "#E5ECF6",
           "radialaxis": {
            "gridcolor": "white",
            "linecolor": "white",
            "ticks": ""
           }
          },
          "scene": {
           "xaxis": {
            "backgroundcolor": "#E5ECF6",
            "gridcolor": "white",
            "gridwidth": 2,
            "linecolor": "white",
            "showbackground": true,
            "ticks": "",
            "zerolinecolor": "white"
           },
           "yaxis": {
            "backgroundcolor": "#E5ECF6",
            "gridcolor": "white",
            "gridwidth": 2,
            "linecolor": "white",
            "showbackground": true,
            "ticks": "",
            "zerolinecolor": "white"
           },
           "zaxis": {
            "backgroundcolor": "#E5ECF6",
            "gridcolor": "white",
            "gridwidth": 2,
            "linecolor": "white",
            "showbackground": true,
            "ticks": "",
            "zerolinecolor": "white"
           }
          },
          "shapedefaults": {
           "line": {
            "color": "#2a3f5f"
           }
          },
          "ternary": {
           "aaxis": {
            "gridcolor": "white",
            "linecolor": "white",
            "ticks": ""
           },
           "baxis": {
            "gridcolor": "white",
            "linecolor": "white",
            "ticks": ""
           },
           "bgcolor": "#E5ECF6",
           "caxis": {
            "gridcolor": "white",
            "linecolor": "white",
            "ticks": ""
           }
          },
          "title": {
           "x": 0.05
          },
          "xaxis": {
           "automargin": true,
           "gridcolor": "white",
           "linecolor": "white",
           "ticks": "",
           "title": {
            "standoff": 15
           },
           "zerolinecolor": "white",
           "zerolinewidth": 2
          },
          "yaxis": {
           "automargin": true,
           "gridcolor": "white",
           "linecolor": "white",
           "ticks": "",
           "title": {
            "standoff": 15
           },
           "zerolinecolor": "white",
           "zerolinewidth": 2
          }
         }
        },
        "title": {
         "text": "Execution time of ForecasterRecursive_backtesting_conformal"
        },
        "xaxis": {
         "tickangle": -45,
         "tickmode": "array",
         "ticktext": [
          "0.15.1",
          "0.16.0"
         ],
         "tickvals": [
          0,
          1
         ],
         "title": {
          "text": "skforecast version"
         }
        },
        "yaxis": {
         "title": {
          "text": "Execution time (seconds)"
         }
        }
       }
      }
     },
     "metadata": {},
     "output_type": "display_data"
    }
   ],
   "source": [
    "# Plot results\n",
    "# ==============================================================================\n",
    "display_df = False\n",
    "selected_date = '2025-04-24'\n",
    "selected_platform = 'Linux-6.11.0-24-generic-x86_64-with-glibc2.39'\n",
    "\n",
    "results_benchmark_all = joblib.load(\"./benchmark.joblib\")\n",
    "results_benchmark = results_benchmark_all.query(\"forecaster_name in ['ForecasterRecursive', 'ForecasterAutoreg']\")\n",
    "results_benchmark = results_benchmark.query(\"regressor_name == 'LGBMRegressor'\")\n",
    "for function_name in results_benchmark['function_name'].unique():\n",
    "    df = results_benchmark.query(f\"function_name == '{function_name}'\")\n",
    "    if selected_date:\n",
    "        df = df[df['datetime'].dt.date == pd.to_datetime(selected_date).date()]\n",
    "    if selected_platform:\n",
    "        df = df[df['platform'] == selected_platform]\n",
    "    if display_df:\n",
    "        display(df)\n",
    "    plot_benchmark_results(df.copy(), function_name, add_median=True, add_mean=True)"
   ]
  },
  {
   "cell_type": "markdown",
   "metadata": {},
   "source": [
    "# Summary of historical results"
   ]
  },
  {
   "cell_type": "code",
   "execution_count": 15,
   "metadata": {},
   "outputs": [
    {
     "data": {
      "application/vnd.plotly.v1+json": {
       "config": {
        "plotlyServerURL": "https://plot.ly"
       },
       "data": [
        {
         "alignmentgroup": "True",
         "hovertemplate": "skforecast_version=0.13.0<br>Function=%{x}<br>Median Run Time (s)=%{y}<extra></extra>",
         "legendgroup": "0.13.0",
         "marker": {
          "color": "#636efa",
          "pattern": {
           "shape": ""
          }
         },
         "name": "0.13.0",
         "offsetgroup": "0.13.0",
         "orientation": "v",
         "showlegend": true,
         "textposition": "auto",
         "type": "bar",
         "x": [
          "_check_predict_inputs",
          "_create_predict_inputs_exog_is_dict",
          "_create_train_X_y_series_is_dataframe_no_exog",
          "_create_train_X_y_series_is_dict_exog_is_dict",
          "_create_train_X_y_single_series",
          "fit_series_is_dataframe_no_exog",
          "fit_series_is_dict_exog_is_dict",
          "predict_exog_is_dict"
         ],
         "xaxis": "x",
         "y": {
          "bdata": "AAAAAAAA+H8AAAAAAAD4fwDoxC9PmwBAzQQ0zvToBEA0M7PAEcNfP2bKf73M5CZAAHbgsePfKEAajxIy7nhFQA==",
          "dtype": "f8"
         },
         "yaxis": "y"
        },
        {
         "alignmentgroup": "True",
         "hovertemplate": "skforecast_version=0.14.0<br>Function=%{x}<br>Median Run Time (s)=%{y}<extra></extra>",
         "legendgroup": "0.14.0",
         "marker": {
          "color": "#EF553B",
          "pattern": {
           "shape": ""
          }
         },
         "name": "0.14.0",
         "offsetgroup": "0.14.0",
         "orientation": "v",
         "showlegend": true,
         "textposition": "auto",
         "type": "bar",
         "x": [
          "_check_predict_inputs",
          "_create_predict_inputs_exog_is_dict",
          "_create_train_X_y_series_is_dataframe_no_exog",
          "_create_train_X_y_series_is_dict_exog_is_dict",
          "_create_train_X_y_single_series",
          "backtesting_series_is_dataframe_no_exog",
          "backtesting_series_is_dict_exog_is_dict",
          "fit_series_is_dataframe_no_exog",
          "fit_series_is_dict_exog_is_dict",
          "predict_exog_is_dict"
         ],
         "xaxis": "x",
         "y": {
          "bdata": "AECMbGev0j/M3BAZlnP4P8yMuABYN/g/ZgbJkYcPAECamZnDXP5WP82c/xUBsSRAza2rolk3QUCa5yg22TMkQJrHLLEpKyZAAIDlcI53+j8=",
          "dtype": "f8"
         },
         "yaxis": "y"
        },
        {
         "alignmentgroup": "True",
         "hovertemplate": "skforecast_version=0.15.1<br>Function=%{x}<br>Median Run Time (s)=%{y}<extra></extra>",
         "legendgroup": "0.15.1",
         "marker": {
          "color": "#00cc96",
          "pattern": {
           "shape": ""
          }
         },
         "name": "0.15.1",
         "offsetgroup": "0.15.1",
         "orientation": "v",
         "showlegend": true,
         "textposition": "auto",
         "type": "bar",
         "x": [
          "_check_predict_inputs",
          "_create_predict_inputs_exog_is_dict",
          "_create_train_X_y_series_is_dataframe_exog_dict",
          "_create_train_X_y_series_is_dataframe_no_exog",
          "_create_train_X_y_series_is_dict_exog_is_dict",
          "_create_train_X_y_single_series",
          "backtesting_series_is_dataframe_exog_dict",
          "backtesting_series_is_dataframe_exog_dict_conformal",
          "backtesting_series_is_dataframe_no_exog",
          "backtesting_series_is_dict_exog_is_dict",
          "fit_series_is_dataframe_no_exog",
          "fit_series_is_dict_exog_is_dict",
          "predict_exog_is_dict"
         ],
         "xaxis": "x",
         "y": {
          "bdata": "NFNSXdsD0j8AeM1P7l34PzPrP2F6zgFAzXwWhvN19z/NDEIskU78P2ZmJuQZlFY/AM+Q5TVuRECaw8p5olZJQDMTYl+ZkClAM6eVvYIcQ0BmNj2lFNwlQJoHTwbejydAmvlfQ84E+z8=",
          "dtype": "f8"
         },
         "yaxis": "y"
        },
        {
         "alignmentgroup": "True",
         "hovertemplate": "skforecast_version=0.16.0<br>Function=%{x}<br>Median Run Time (s)=%{y}<extra></extra>",
         "legendgroup": "0.16.0",
         "marker": {
          "color": "#ab63fa",
          "pattern": {
           "shape": ""
          }
         },
         "name": "0.16.0",
         "offsetgroup": "0.16.0",
         "orientation": "v",
         "showlegend": true,
         "textposition": "auto",
         "type": "bar",
         "x": [
          "_check_predict_inputs",
          "_create_predict_inputs_exog_is_dict",
          "_create_train_X_y_series_is_dataframe_exog_dict",
          "_create_train_X_y_series_is_dataframe_no_exog",
          "_create_train_X_y_series_is_dict_exog_is_dict",
          "_create_train_X_y_single_series",
          "backtesting_series_is_dataframe_exog_dict",
          "backtesting_series_is_dataframe_exog_dict_conformal",
          "backtesting_series_is_dataframe_no_exog",
          "backtesting_series_is_dict_exog_is_dict",
          "fit_series_is_dataframe_no_exog",
          "fit_series_is_dict_exog_is_dict",
          "predict_exog_is_dict"
         ],
         "xaxis": "x",
         "y": {
          "bdata": "MzN7uWgrsD+amSE0J9TOP5q5v6F/bPY/mnnbU6zB8D8A8DbriOb2P83MzL+sF04/zWzVa6MDLkDNXIxY9oo5QJpZOg5yZSVAAJDJ67kTMEAAQH/aqCYaQGZm1sxzpxxAZmZO9X1b2z8=",
          "dtype": "f8"
         },
         "yaxis": "y"
        }
       ],
       "layout": {
        "barmode": "group",
        "height": 600,
        "legend": {
         "title": {
          "text": "skforecast_version"
         },
         "tracegroupgap": 0
        },
        "template": {
         "data": {
          "bar": [
           {
            "error_x": {
             "color": "#2a3f5f"
            },
            "error_y": {
             "color": "#2a3f5f"
            },
            "marker": {
             "line": {
              "color": "#E5ECF6",
              "width": 0.5
             },
             "pattern": {
              "fillmode": "overlay",
              "size": 10,
              "solidity": 0.2
             }
            },
            "type": "bar"
           }
          ],
          "barpolar": [
           {
            "marker": {
             "line": {
              "color": "#E5ECF6",
              "width": 0.5
             },
             "pattern": {
              "fillmode": "overlay",
              "size": 10,
              "solidity": 0.2
             }
            },
            "type": "barpolar"
           }
          ],
          "carpet": [
           {
            "aaxis": {
             "endlinecolor": "#2a3f5f",
             "gridcolor": "white",
             "linecolor": "white",
             "minorgridcolor": "white",
             "startlinecolor": "#2a3f5f"
            },
            "baxis": {
             "endlinecolor": "#2a3f5f",
             "gridcolor": "white",
             "linecolor": "white",
             "minorgridcolor": "white",
             "startlinecolor": "#2a3f5f"
            },
            "type": "carpet"
           }
          ],
          "choropleth": [
           {
            "colorbar": {
             "outlinewidth": 0,
             "ticks": ""
            },
            "type": "choropleth"
           }
          ],
          "contour": [
           {
            "colorbar": {
             "outlinewidth": 0,
             "ticks": ""
            },
            "colorscale": [
             [
              0,
              "#0d0887"
             ],
             [
              0.1111111111111111,
              "#46039f"
             ],
             [
              0.2222222222222222,
              "#7201a8"
             ],
             [
              0.3333333333333333,
              "#9c179e"
             ],
             [
              0.4444444444444444,
              "#bd3786"
             ],
             [
              0.5555555555555556,
              "#d8576b"
             ],
             [
              0.6666666666666666,
              "#ed7953"
             ],
             [
              0.7777777777777778,
              "#fb9f3a"
             ],
             [
              0.8888888888888888,
              "#fdca26"
             ],
             [
              1,
              "#f0f921"
             ]
            ],
            "type": "contour"
           }
          ],
          "contourcarpet": [
           {
            "colorbar": {
             "outlinewidth": 0,
             "ticks": ""
            },
            "type": "contourcarpet"
           }
          ],
          "heatmap": [
           {
            "colorbar": {
             "outlinewidth": 0,
             "ticks": ""
            },
            "colorscale": [
             [
              0,
              "#0d0887"
             ],
             [
              0.1111111111111111,
              "#46039f"
             ],
             [
              0.2222222222222222,
              "#7201a8"
             ],
             [
              0.3333333333333333,
              "#9c179e"
             ],
             [
              0.4444444444444444,
              "#bd3786"
             ],
             [
              0.5555555555555556,
              "#d8576b"
             ],
             [
              0.6666666666666666,
              "#ed7953"
             ],
             [
              0.7777777777777778,
              "#fb9f3a"
             ],
             [
              0.8888888888888888,
              "#fdca26"
             ],
             [
              1,
              "#f0f921"
             ]
            ],
            "type": "heatmap"
           }
          ],
          "histogram": [
           {
            "marker": {
             "pattern": {
              "fillmode": "overlay",
              "size": 10,
              "solidity": 0.2
             }
            },
            "type": "histogram"
           }
          ],
          "histogram2d": [
           {
            "colorbar": {
             "outlinewidth": 0,
             "ticks": ""
            },
            "colorscale": [
             [
              0,
              "#0d0887"
             ],
             [
              0.1111111111111111,
              "#46039f"
             ],
             [
              0.2222222222222222,
              "#7201a8"
             ],
             [
              0.3333333333333333,
              "#9c179e"
             ],
             [
              0.4444444444444444,
              "#bd3786"
             ],
             [
              0.5555555555555556,
              "#d8576b"
             ],
             [
              0.6666666666666666,
              "#ed7953"
             ],
             [
              0.7777777777777778,
              "#fb9f3a"
             ],
             [
              0.8888888888888888,
              "#fdca26"
             ],
             [
              1,
              "#f0f921"
             ]
            ],
            "type": "histogram2d"
           }
          ],
          "histogram2dcontour": [
           {
            "colorbar": {
             "outlinewidth": 0,
             "ticks": ""
            },
            "colorscale": [
             [
              0,
              "#0d0887"
             ],
             [
              0.1111111111111111,
              "#46039f"
             ],
             [
              0.2222222222222222,
              "#7201a8"
             ],
             [
              0.3333333333333333,
              "#9c179e"
             ],
             [
              0.4444444444444444,
              "#bd3786"
             ],
             [
              0.5555555555555556,
              "#d8576b"
             ],
             [
              0.6666666666666666,
              "#ed7953"
             ],
             [
              0.7777777777777778,
              "#fb9f3a"
             ],
             [
              0.8888888888888888,
              "#fdca26"
             ],
             [
              1,
              "#f0f921"
             ]
            ],
            "type": "histogram2dcontour"
           }
          ],
          "mesh3d": [
           {
            "colorbar": {
             "outlinewidth": 0,
             "ticks": ""
            },
            "type": "mesh3d"
           }
          ],
          "parcoords": [
           {
            "line": {
             "colorbar": {
              "outlinewidth": 0,
              "ticks": ""
             }
            },
            "type": "parcoords"
           }
          ],
          "pie": [
           {
            "automargin": true,
            "type": "pie"
           }
          ],
          "scatter": [
           {
            "fillpattern": {
             "fillmode": "overlay",
             "size": 10,
             "solidity": 0.2
            },
            "type": "scatter"
           }
          ],
          "scatter3d": [
           {
            "line": {
             "colorbar": {
              "outlinewidth": 0,
              "ticks": ""
             }
            },
            "marker": {
             "colorbar": {
              "outlinewidth": 0,
              "ticks": ""
             }
            },
            "type": "scatter3d"
           }
          ],
          "scattercarpet": [
           {
            "marker": {
             "colorbar": {
              "outlinewidth": 0,
              "ticks": ""
             }
            },
            "type": "scattercarpet"
           }
          ],
          "scattergeo": [
           {
            "marker": {
             "colorbar": {
              "outlinewidth": 0,
              "ticks": ""
             }
            },
            "type": "scattergeo"
           }
          ],
          "scattergl": [
           {
            "marker": {
             "colorbar": {
              "outlinewidth": 0,
              "ticks": ""
             }
            },
            "type": "scattergl"
           }
          ],
          "scattermap": [
           {
            "marker": {
             "colorbar": {
              "outlinewidth": 0,
              "ticks": ""
             }
            },
            "type": "scattermap"
           }
          ],
          "scattermapbox": [
           {
            "marker": {
             "colorbar": {
              "outlinewidth": 0,
              "ticks": ""
             }
            },
            "type": "scattermapbox"
           }
          ],
          "scatterpolar": [
           {
            "marker": {
             "colorbar": {
              "outlinewidth": 0,
              "ticks": ""
             }
            },
            "type": "scatterpolar"
           }
          ],
          "scatterpolargl": [
           {
            "marker": {
             "colorbar": {
              "outlinewidth": 0,
              "ticks": ""
             }
            },
            "type": "scatterpolargl"
           }
          ],
          "scatterternary": [
           {
            "marker": {
             "colorbar": {
              "outlinewidth": 0,
              "ticks": ""
             }
            },
            "type": "scatterternary"
           }
          ],
          "surface": [
           {
            "colorbar": {
             "outlinewidth": 0,
             "ticks": ""
            },
            "colorscale": [
             [
              0,
              "#0d0887"
             ],
             [
              0.1111111111111111,
              "#46039f"
             ],
             [
              0.2222222222222222,
              "#7201a8"
             ],
             [
              0.3333333333333333,
              "#9c179e"
             ],
             [
              0.4444444444444444,
              "#bd3786"
             ],
             [
              0.5555555555555556,
              "#d8576b"
             ],
             [
              0.6666666666666666,
              "#ed7953"
             ],
             [
              0.7777777777777778,
              "#fb9f3a"
             ],
             [
              0.8888888888888888,
              "#fdca26"
             ],
             [
              1,
              "#f0f921"
             ]
            ],
            "type": "surface"
           }
          ],
          "table": [
           {
            "cells": {
             "fill": {
              "color": "#EBF0F8"
             },
             "line": {
              "color": "white"
             }
            },
            "header": {
             "fill": {
              "color": "#C8D4E3"
             },
             "line": {
              "color": "white"
             }
            },
            "type": "table"
           }
          ]
         },
         "layout": {
          "annotationdefaults": {
           "arrowcolor": "#2a3f5f",
           "arrowhead": 0,
           "arrowwidth": 1
          },
          "autotypenumbers": "strict",
          "coloraxis": {
           "colorbar": {
            "outlinewidth": 0,
            "ticks": ""
           }
          },
          "colorscale": {
           "diverging": [
            [
             0,
             "#8e0152"
            ],
            [
             0.1,
             "#c51b7d"
            ],
            [
             0.2,
             "#de77ae"
            ],
            [
             0.3,
             "#f1b6da"
            ],
            [
             0.4,
             "#fde0ef"
            ],
            [
             0.5,
             "#f7f7f7"
            ],
            [
             0.6,
             "#e6f5d0"
            ],
            [
             0.7,
             "#b8e186"
            ],
            [
             0.8,
             "#7fbc41"
            ],
            [
             0.9,
             "#4d9221"
            ],
            [
             1,
             "#276419"
            ]
           ],
           "sequential": [
            [
             0,
             "#0d0887"
            ],
            [
             0.1111111111111111,
             "#46039f"
            ],
            [
             0.2222222222222222,
             "#7201a8"
            ],
            [
             0.3333333333333333,
             "#9c179e"
            ],
            [
             0.4444444444444444,
             "#bd3786"
            ],
            [
             0.5555555555555556,
             "#d8576b"
            ],
            [
             0.6666666666666666,
             "#ed7953"
            ],
            [
             0.7777777777777778,
             "#fb9f3a"
            ],
            [
             0.8888888888888888,
             "#fdca26"
            ],
            [
             1,
             "#f0f921"
            ]
           ],
           "sequentialminus": [
            [
             0,
             "#0d0887"
            ],
            [
             0.1111111111111111,
             "#46039f"
            ],
            [
             0.2222222222222222,
             "#7201a8"
            ],
            [
             0.3333333333333333,
             "#9c179e"
            ],
            [
             0.4444444444444444,
             "#bd3786"
            ],
            [
             0.5555555555555556,
             "#d8576b"
            ],
            [
             0.6666666666666666,
             "#ed7953"
            ],
            [
             0.7777777777777778,
             "#fb9f3a"
            ],
            [
             0.8888888888888888,
             "#fdca26"
            ],
            [
             1,
             "#f0f921"
            ]
           ]
          },
          "colorway": [
           "#636efa",
           "#EF553B",
           "#00cc96",
           "#ab63fa",
           "#FFA15A",
           "#19d3f3",
           "#FF6692",
           "#B6E880",
           "#FF97FF",
           "#FECB52"
          ],
          "font": {
           "color": "#2a3f5f"
          },
          "geo": {
           "bgcolor": "white",
           "lakecolor": "white",
           "landcolor": "#E5ECF6",
           "showlakes": true,
           "showland": true,
           "subunitcolor": "white"
          },
          "hoverlabel": {
           "align": "left"
          },
          "hovermode": "closest",
          "mapbox": {
           "style": "light"
          },
          "paper_bgcolor": "white",
          "plot_bgcolor": "#E5ECF6",
          "polar": {
           "angularaxis": {
            "gridcolor": "white",
            "linecolor": "white",
            "ticks": ""
           },
           "bgcolor": "#E5ECF6",
           "radialaxis": {
            "gridcolor": "white",
            "linecolor": "white",
            "ticks": ""
           }
          },
          "scene": {
           "xaxis": {
            "backgroundcolor": "#E5ECF6",
            "gridcolor": "white",
            "gridwidth": 2,
            "linecolor": "white",
            "showbackground": true,
            "ticks": "",
            "zerolinecolor": "white"
           },
           "yaxis": {
            "backgroundcolor": "#E5ECF6",
            "gridcolor": "white",
            "gridwidth": 2,
            "linecolor": "white",
            "showbackground": true,
            "ticks": "",
            "zerolinecolor": "white"
           },
           "zaxis": {
            "backgroundcolor": "#E5ECF6",
            "gridcolor": "white",
            "gridwidth": 2,
            "linecolor": "white",
            "showbackground": true,
            "ticks": "",
            "zerolinecolor": "white"
           }
          },
          "shapedefaults": {
           "line": {
            "color": "#2a3f5f"
           }
          },
          "ternary": {
           "aaxis": {
            "gridcolor": "white",
            "linecolor": "white",
            "ticks": ""
           },
           "baxis": {
            "gridcolor": "white",
            "linecolor": "white",
            "ticks": ""
           },
           "bgcolor": "#E5ECF6",
           "caxis": {
            "gridcolor": "white",
            "linecolor": "white",
            "ticks": ""
           }
          },
          "title": {
           "x": 0.05
          },
          "xaxis": {
           "automargin": true,
           "gridcolor": "white",
           "linecolor": "white",
           "ticks": "",
           "title": {
            "standoff": 15
           },
           "zerolinecolor": "white",
           "zerolinewidth": 2
          },
          "yaxis": {
           "automargin": true,
           "gridcolor": "white",
           "linecolor": "white",
           "ticks": "",
           "title": {
            "standoff": 15
           },
           "zerolinecolor": "white",
           "zerolinewidth": 2
          }
         }
        },
        "title": {
         "text": "MultiSeries Forecasters - Median Run Time by Function and skforecast Version"
        },
        "xaxis": {
         "anchor": "y",
         "domain": [
          0,
          1
         ],
         "tickangle": -45,
         "title": {
          "text": "Function"
         }
        },
        "yaxis": {
         "anchor": "x",
         "domain": [
          0,
          1
         ],
         "title": {
          "text": "Median Run Time (s)"
         }
        }
       }
      }
     },
     "metadata": {},
     "output_type": "display_data"
    },
    {
     "data": {
      "application/vnd.plotly.v1+json": {
       "config": {
        "plotlyServerURL": "https://plot.ly"
       },
       "data": [
        {
         "alignmentgroup": "True",
         "hovertemplate": "skforecast_version=0.13.0<br>Function=%{x}<br>Median Run Time (s)=%{y}<extra></extra>",
         "legendgroup": "0.13.0",
         "marker": {
          "color": "#636efa",
          "pattern": {
           "shape": ""
          }
         },
         "name": "0.13.0",
         "offsetgroup": "0.13.0",
         "orientation": "v",
         "showlegend": true,
         "textposition": "auto",
         "type": "bar",
         "x": [
          "_create_predict_inputs",
          "_create_train_X_y",
          "fit",
          "predict"
         ],
         "xaxis": "x",
         "y": {
          "bdata": "AAAAAAAA+H+amVmPiNxtPzMzxyKeDM0/AABYXS1tsj8=",
          "dtype": "f8"
         },
         "yaxis": "y"
        },
        {
         "alignmentgroup": "True",
         "hovertemplate": "skforecast_version=0.14.0<br>Function=%{x}<br>Median Run Time (s)=%{y}<extra></extra>",
         "legendgroup": "0.14.0",
         "marker": {
          "color": "#EF553B",
          "pattern": {
           "shape": ""
          }
         },
         "name": "0.14.0",
         "offsetgroup": "0.14.0",
         "orientation": "v",
         "showlegend": true,
         "textposition": "auto",
         "type": "bar",
         "x": [
          "_create_predict_inputs",
          "_create_train_X_y",
          "backtesting",
          "fit",
          "predict"
         ],
         "xaxis": "x",
         "y": {
          "bdata": "zczsCs1jaD80MxMvQuJqP5qZ5ZH9e+A/AMDmyq6gyz+amQnfHQ+xPw==",
          "dtype": "f8"
         },
         "yaxis": "y"
        },
        {
         "alignmentgroup": "True",
         "hovertemplate": "skforecast_version=0.15.1<br>Function=%{x}<br>Median Run Time (s)=%{y}<extra></extra>",
         "legendgroup": "0.15.1",
         "marker": {
          "color": "#00cc96",
          "pattern": {
           "shape": ""
          }
         },
         "name": "0.15.1",
         "offsetgroup": "0.15.1",
         "orientation": "v",
         "showlegend": true,
         "textposition": "auto",
         "type": "bar",
         "x": [
          "_create_predict_inputs",
          "_create_train_X_y",
          "backtesting",
          "backtesting_conformal",
          "fit",
          "predict"
         ],
         "xaxis": "x",
         "y": {
          "bdata": "VVX1RO6bZT9mZlYWgzdnP5qZE1HhguI/AECiVjVN6T8zs5/jziXIPzMzILH2o60/",
          "dtype": "f8"
         },
         "yaxis": "y"
        },
        {
         "alignmentgroup": "True",
         "hovertemplate": "skforecast_version=0.16.0<br>Function=%{x}<br>Median Run Time (s)=%{y}<extra></extra>",
         "legendgroup": "0.16.0",
         "marker": {
          "color": "#ab63fa",
          "pattern": {
           "shape": ""
          }
         },
         "name": "0.16.0",
         "offsetgroup": "0.16.0",
         "orientation": "v",
         "showlegend": true,
         "textposition": "auto",
         "type": "bar",
         "x": [
          "_create_predict_inputs",
          "_create_train_X_y",
          "backtesting",
          "backtesting_conformal",
          "fit",
          "predict"
         ],
         "xaxis": "x",
         "y": {
          "bdata": "zczMMB64XT93d/dL09JyP83MHmhHYuE/AABeLn/R4j/NzPiU71vAPwAAQILaVqo/",
          "dtype": "f8"
         },
         "yaxis": "y"
        }
       ],
       "layout": {
        "barmode": "group",
        "legend": {
         "title": {
          "text": "skforecast_version"
         },
         "tracegroupgap": 0
        },
        "template": {
         "data": {
          "bar": [
           {
            "error_x": {
             "color": "#2a3f5f"
            },
            "error_y": {
             "color": "#2a3f5f"
            },
            "marker": {
             "line": {
              "color": "#E5ECF6",
              "width": 0.5
             },
             "pattern": {
              "fillmode": "overlay",
              "size": 10,
              "solidity": 0.2
             }
            },
            "type": "bar"
           }
          ],
          "barpolar": [
           {
            "marker": {
             "line": {
              "color": "#E5ECF6",
              "width": 0.5
             },
             "pattern": {
              "fillmode": "overlay",
              "size": 10,
              "solidity": 0.2
             }
            },
            "type": "barpolar"
           }
          ],
          "carpet": [
           {
            "aaxis": {
             "endlinecolor": "#2a3f5f",
             "gridcolor": "white",
             "linecolor": "white",
             "minorgridcolor": "white",
             "startlinecolor": "#2a3f5f"
            },
            "baxis": {
             "endlinecolor": "#2a3f5f",
             "gridcolor": "white",
             "linecolor": "white",
             "minorgridcolor": "white",
             "startlinecolor": "#2a3f5f"
            },
            "type": "carpet"
           }
          ],
          "choropleth": [
           {
            "colorbar": {
             "outlinewidth": 0,
             "ticks": ""
            },
            "type": "choropleth"
           }
          ],
          "contour": [
           {
            "colorbar": {
             "outlinewidth": 0,
             "ticks": ""
            },
            "colorscale": [
             [
              0,
              "#0d0887"
             ],
             [
              0.1111111111111111,
              "#46039f"
             ],
             [
              0.2222222222222222,
              "#7201a8"
             ],
             [
              0.3333333333333333,
              "#9c179e"
             ],
             [
              0.4444444444444444,
              "#bd3786"
             ],
             [
              0.5555555555555556,
              "#d8576b"
             ],
             [
              0.6666666666666666,
              "#ed7953"
             ],
             [
              0.7777777777777778,
              "#fb9f3a"
             ],
             [
              0.8888888888888888,
              "#fdca26"
             ],
             [
              1,
              "#f0f921"
             ]
            ],
            "type": "contour"
           }
          ],
          "contourcarpet": [
           {
            "colorbar": {
             "outlinewidth": 0,
             "ticks": ""
            },
            "type": "contourcarpet"
           }
          ],
          "heatmap": [
           {
            "colorbar": {
             "outlinewidth": 0,
             "ticks": ""
            },
            "colorscale": [
             [
              0,
              "#0d0887"
             ],
             [
              0.1111111111111111,
              "#46039f"
             ],
             [
              0.2222222222222222,
              "#7201a8"
             ],
             [
              0.3333333333333333,
              "#9c179e"
             ],
             [
              0.4444444444444444,
              "#bd3786"
             ],
             [
              0.5555555555555556,
              "#d8576b"
             ],
             [
              0.6666666666666666,
              "#ed7953"
             ],
             [
              0.7777777777777778,
              "#fb9f3a"
             ],
             [
              0.8888888888888888,
              "#fdca26"
             ],
             [
              1,
              "#f0f921"
             ]
            ],
            "type": "heatmap"
           }
          ],
          "histogram": [
           {
            "marker": {
             "pattern": {
              "fillmode": "overlay",
              "size": 10,
              "solidity": 0.2
             }
            },
            "type": "histogram"
           }
          ],
          "histogram2d": [
           {
            "colorbar": {
             "outlinewidth": 0,
             "ticks": ""
            },
            "colorscale": [
             [
              0,
              "#0d0887"
             ],
             [
              0.1111111111111111,
              "#46039f"
             ],
             [
              0.2222222222222222,
              "#7201a8"
             ],
             [
              0.3333333333333333,
              "#9c179e"
             ],
             [
              0.4444444444444444,
              "#bd3786"
             ],
             [
              0.5555555555555556,
              "#d8576b"
             ],
             [
              0.6666666666666666,
              "#ed7953"
             ],
             [
              0.7777777777777778,
              "#fb9f3a"
             ],
             [
              0.8888888888888888,
              "#fdca26"
             ],
             [
              1,
              "#f0f921"
             ]
            ],
            "type": "histogram2d"
           }
          ],
          "histogram2dcontour": [
           {
            "colorbar": {
             "outlinewidth": 0,
             "ticks": ""
            },
            "colorscale": [
             [
              0,
              "#0d0887"
             ],
             [
              0.1111111111111111,
              "#46039f"
             ],
             [
              0.2222222222222222,
              "#7201a8"
             ],
             [
              0.3333333333333333,
              "#9c179e"
             ],
             [
              0.4444444444444444,
              "#bd3786"
             ],
             [
              0.5555555555555556,
              "#d8576b"
             ],
             [
              0.6666666666666666,
              "#ed7953"
             ],
             [
              0.7777777777777778,
              "#fb9f3a"
             ],
             [
              0.8888888888888888,
              "#fdca26"
             ],
             [
              1,
              "#f0f921"
             ]
            ],
            "type": "histogram2dcontour"
           }
          ],
          "mesh3d": [
           {
            "colorbar": {
             "outlinewidth": 0,
             "ticks": ""
            },
            "type": "mesh3d"
           }
          ],
          "parcoords": [
           {
            "line": {
             "colorbar": {
              "outlinewidth": 0,
              "ticks": ""
             }
            },
            "type": "parcoords"
           }
          ],
          "pie": [
           {
            "automargin": true,
            "type": "pie"
           }
          ],
          "scatter": [
           {
            "fillpattern": {
             "fillmode": "overlay",
             "size": 10,
             "solidity": 0.2
            },
            "type": "scatter"
           }
          ],
          "scatter3d": [
           {
            "line": {
             "colorbar": {
              "outlinewidth": 0,
              "ticks": ""
             }
            },
            "marker": {
             "colorbar": {
              "outlinewidth": 0,
              "ticks": ""
             }
            },
            "type": "scatter3d"
           }
          ],
          "scattercarpet": [
           {
            "marker": {
             "colorbar": {
              "outlinewidth": 0,
              "ticks": ""
             }
            },
            "type": "scattercarpet"
           }
          ],
          "scattergeo": [
           {
            "marker": {
             "colorbar": {
              "outlinewidth": 0,
              "ticks": ""
             }
            },
            "type": "scattergeo"
           }
          ],
          "scattergl": [
           {
            "marker": {
             "colorbar": {
              "outlinewidth": 0,
              "ticks": ""
             }
            },
            "type": "scattergl"
           }
          ],
          "scattermap": [
           {
            "marker": {
             "colorbar": {
              "outlinewidth": 0,
              "ticks": ""
             }
            },
            "type": "scattermap"
           }
          ],
          "scattermapbox": [
           {
            "marker": {
             "colorbar": {
              "outlinewidth": 0,
              "ticks": ""
             }
            },
            "type": "scattermapbox"
           }
          ],
          "scatterpolar": [
           {
            "marker": {
             "colorbar": {
              "outlinewidth": 0,
              "ticks": ""
             }
            },
            "type": "scatterpolar"
           }
          ],
          "scatterpolargl": [
           {
            "marker": {
             "colorbar": {
              "outlinewidth": 0,
              "ticks": ""
             }
            },
            "type": "scatterpolargl"
           }
          ],
          "scatterternary": [
           {
            "marker": {
             "colorbar": {
              "outlinewidth": 0,
              "ticks": ""
             }
            },
            "type": "scatterternary"
           }
          ],
          "surface": [
           {
            "colorbar": {
             "outlinewidth": 0,
             "ticks": ""
            },
            "colorscale": [
             [
              0,
              "#0d0887"
             ],
             [
              0.1111111111111111,
              "#46039f"
             ],
             [
              0.2222222222222222,
              "#7201a8"
             ],
             [
              0.3333333333333333,
              "#9c179e"
             ],
             [
              0.4444444444444444,
              "#bd3786"
             ],
             [
              0.5555555555555556,
              "#d8576b"
             ],
             [
              0.6666666666666666,
              "#ed7953"
             ],
             [
              0.7777777777777778,
              "#fb9f3a"
             ],
             [
              0.8888888888888888,
              "#fdca26"
             ],
             [
              1,
              "#f0f921"
             ]
            ],
            "type": "surface"
           }
          ],
          "table": [
           {
            "cells": {
             "fill": {
              "color": "#EBF0F8"
             },
             "line": {
              "color": "white"
             }
            },
            "header": {
             "fill": {
              "color": "#C8D4E3"
             },
             "line": {
              "color": "white"
             }
            },
            "type": "table"
           }
          ]
         },
         "layout": {
          "annotationdefaults": {
           "arrowcolor": "#2a3f5f",
           "arrowhead": 0,
           "arrowwidth": 1
          },
          "autotypenumbers": "strict",
          "coloraxis": {
           "colorbar": {
            "outlinewidth": 0,
            "ticks": ""
           }
          },
          "colorscale": {
           "diverging": [
            [
             0,
             "#8e0152"
            ],
            [
             0.1,
             "#c51b7d"
            ],
            [
             0.2,
             "#de77ae"
            ],
            [
             0.3,
             "#f1b6da"
            ],
            [
             0.4,
             "#fde0ef"
            ],
            [
             0.5,
             "#f7f7f7"
            ],
            [
             0.6,
             "#e6f5d0"
            ],
            [
             0.7,
             "#b8e186"
            ],
            [
             0.8,
             "#7fbc41"
            ],
            [
             0.9,
             "#4d9221"
            ],
            [
             1,
             "#276419"
            ]
           ],
           "sequential": [
            [
             0,
             "#0d0887"
            ],
            [
             0.1111111111111111,
             "#46039f"
            ],
            [
             0.2222222222222222,
             "#7201a8"
            ],
            [
             0.3333333333333333,
             "#9c179e"
            ],
            [
             0.4444444444444444,
             "#bd3786"
            ],
            [
             0.5555555555555556,
             "#d8576b"
            ],
            [
             0.6666666666666666,
             "#ed7953"
            ],
            [
             0.7777777777777778,
             "#fb9f3a"
            ],
            [
             0.8888888888888888,
             "#fdca26"
            ],
            [
             1,
             "#f0f921"
            ]
           ],
           "sequentialminus": [
            [
             0,
             "#0d0887"
            ],
            [
             0.1111111111111111,
             "#46039f"
            ],
            [
             0.2222222222222222,
             "#7201a8"
            ],
            [
             0.3333333333333333,
             "#9c179e"
            ],
            [
             0.4444444444444444,
             "#bd3786"
            ],
            [
             0.5555555555555556,
             "#d8576b"
            ],
            [
             0.6666666666666666,
             "#ed7953"
            ],
            [
             0.7777777777777778,
             "#fb9f3a"
            ],
            [
             0.8888888888888888,
             "#fdca26"
            ],
            [
             1,
             "#f0f921"
            ]
           ]
          },
          "colorway": [
           "#636efa",
           "#EF553B",
           "#00cc96",
           "#ab63fa",
           "#FFA15A",
           "#19d3f3",
           "#FF6692",
           "#B6E880",
           "#FF97FF",
           "#FECB52"
          ],
          "font": {
           "color": "#2a3f5f"
          },
          "geo": {
           "bgcolor": "white",
           "lakecolor": "white",
           "landcolor": "#E5ECF6",
           "showlakes": true,
           "showland": true,
           "subunitcolor": "white"
          },
          "hoverlabel": {
           "align": "left"
          },
          "hovermode": "closest",
          "mapbox": {
           "style": "light"
          },
          "paper_bgcolor": "white",
          "plot_bgcolor": "#E5ECF6",
          "polar": {
           "angularaxis": {
            "gridcolor": "white",
            "linecolor": "white",
            "ticks": ""
           },
           "bgcolor": "#E5ECF6",
           "radialaxis": {
            "gridcolor": "white",
            "linecolor": "white",
            "ticks": ""
           }
          },
          "scene": {
           "xaxis": {
            "backgroundcolor": "#E5ECF6",
            "gridcolor": "white",
            "gridwidth": 2,
            "linecolor": "white",
            "showbackground": true,
            "ticks": "",
            "zerolinecolor": "white"
           },
           "yaxis": {
            "backgroundcolor": "#E5ECF6",
            "gridcolor": "white",
            "gridwidth": 2,
            "linecolor": "white",
            "showbackground": true,
            "ticks": "",
            "zerolinecolor": "white"
           },
           "zaxis": {
            "backgroundcolor": "#E5ECF6",
            "gridcolor": "white",
            "gridwidth": 2,
            "linecolor": "white",
            "showbackground": true,
            "ticks": "",
            "zerolinecolor": "white"
           }
          },
          "shapedefaults": {
           "line": {
            "color": "#2a3f5f"
           }
          },
          "ternary": {
           "aaxis": {
            "gridcolor": "white",
            "linecolor": "white",
            "ticks": ""
           },
           "baxis": {
            "gridcolor": "white",
            "linecolor": "white",
            "ticks": ""
           },
           "bgcolor": "#E5ECF6",
           "caxis": {
            "gridcolor": "white",
            "linecolor": "white",
            "ticks": ""
           }
          },
          "title": {
           "x": 0.05
          },
          "xaxis": {
           "automargin": true,
           "gridcolor": "white",
           "linecolor": "white",
           "ticks": "",
           "title": {
            "standoff": 15
           },
           "zerolinecolor": "white",
           "zerolinewidth": 2
          },
          "yaxis": {
           "automargin": true,
           "gridcolor": "white",
           "linecolor": "white",
           "ticks": "",
           "title": {
            "standoff": 15
           },
           "zerolinecolor": "white",
           "zerolinewidth": 2
          }
         }
        },
        "title": {
         "text": "Single-Series Forecasters - Median Run Time by Function and skforecast Version"
        },
        "xaxis": {
         "anchor": "y",
         "domain": [
          0,
          1
         ],
         "tickangle": -45,
         "title": {
          "text": "Function"
         }
        },
        "yaxis": {
         "anchor": "x",
         "domain": [
          0,
          1
         ],
         "title": {
          "text": "Median Run Time (s)"
         }
        }
       }
      }
     },
     "metadata": {},
     "output_type": "display_data"
    }
   ],
   "source": [
    "results_benchmark_all = joblib.load(\"./benchmark.joblib\")\n",
    "results_benchmark_all['function_name'] = results_benchmark_all['function_name'].str.split('_', n=1).str[1]\n",
    "results_benchmark_all = results_benchmark_all.groupby(['forecaster_name', 'skforecast_version', 'function_name'])['run_time_avg'].agg('median').reset_index()\n",
    "results_benchmark_all = results_benchmark_all.sort_values(by=['function_name'])\n",
    "\n",
    "fig = px.bar(\n",
    "    results_benchmark_all.query(\"forecaster_name in ['ForecasterRecursiveMultiSeries', 'ForecasterAutoregMultiSeries']\"),\n",
    "    x='function_name',\n",
    "    y='run_time_avg',\n",
    "    color='skforecast_version',\n",
    "    barmode='group',\n",
    "    title='MultiSeries Forecasters - Median Run Time by Function and skforecast Version',\n",
    "    labels={'run_time_avg': 'Median Run Time (s)', 'function_name': 'Function'},\n",
    "    category_orders={'skforecast_version': sorted(results_benchmark_all['skforecast_version'].unique())}\n",
    ")\n",
    "fig.update_layout(xaxis_tickangle=-45, height=600)\n",
    "fig.show()\n",
    "\n",
    "fig = px.bar(\n",
    "    results_benchmark_all.query(\"forecaster_name in ['ForecasterRecursive', 'ForecasterAutoreg']\"),\n",
    "    x='function_name',\n",
    "    y='run_time_avg',\n",
    "    color='skforecast_version',\n",
    "    barmode='group',\n",
    "    title='Single-Series Forecasters - Median Run Time by Function and skforecast Version',\n",
    "    labels={'run_time_avg': 'Median Run Time (s)', 'function_name': 'Function'},\n",
    "    category_orders={'skforecast_version': sorted(results_benchmark_all['skforecast_version'].unique())}\n",
    ")\n",
    "fig.update_layout(xaxis_tickangle=-45)\n",
    "fig.show()\n"
   ]
  }
 ],
 "metadata": {
  "kernelspec": {
   "display_name": "skforecast_py11_2",
   "language": "python",
   "name": "python3"
  },
  "language_info": {
   "codemirror_mode": {
    "name": "ipython",
    "version": 3
   },
   "file_extension": ".py",
   "mimetype": "text/x-python",
   "name": "python",
   "nbconvert_exporter": "python",
   "pygments_lexer": "ipython3",
   "version": "3.11.10"
  },
  "orig_nbformat": 4
 },
 "nbformat": 4,
 "nbformat_minor": 2
}
