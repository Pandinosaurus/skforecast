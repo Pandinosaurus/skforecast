{
 "cells": [
  {
   "cell_type": "markdown",
   "metadata": {},
   "source": [
    "# Benchmarking skforecast\n",
    "\n",
    "This notebook benchmarks the performance (velocity) of the `skforecast` in its different versions and keeps track of the results."
   ]
  },
  {
   "cell_type": "markdown",
   "metadata": {},
   "source": [
    "**Notes**\n",
    "\n",
    "+ In version `0.15.0` the binning of residuals was introduced in multi-series forecasters. This explains the increase in the time taken to fit the model."
   ]
  },
  {
   "cell_type": "code",
   "execution_count": 1,
   "metadata": {},
   "outputs": [
    {
     "name": "stdout",
     "output_type": "stream",
     "text": [
      "c:\\Users\\jaesc2\\GitHub\\skforecast\n"
     ]
    }
   ],
   "source": [
    "%load_ext autoreload\n",
    "%autoreload 2\n",
    "import sys\n",
    "from pathlib import Path\n",
    "path = str(Path.cwd().parent)\n",
    "print(path)\n",
    "sys.path.insert(1, path)"
   ]
  },
  {
   "cell_type": "code",
   "execution_count": 2,
   "metadata": {},
   "outputs": [],
   "source": [
    "# !pip install --upgrade numpy < 2.0 && \\\n",
    "# pip install --upgrade pandas && \\\n",
    "# pip install --upgrade scikit-learn"
   ]
  },
  {
   "cell_type": "code",
   "execution_count": 3,
   "metadata": {},
   "outputs": [],
   "source": [
    "# !pip install skforecast==0.15.1\n",
    "# !pip install skforecast==0.14.0\n",
    "# !pip install skforecast==0.13.0"
   ]
  },
  {
   "cell_type": "code",
   "execution_count": 4,
   "metadata": {},
   "outputs": [],
   "source": [
    "# Libraries\n",
    "# ==============================================================================\n",
    "import numpy as np\n",
    "import pandas as pd\n",
    "import sklearn\n",
    "import joblib\n",
    "from benchmarking import BenchmarkRunner, plot_benchmark_results\n",
    "import skforecast\n",
    "import platform\n",
    "import psutil\n",
    "import plotly.express as px\n",
    "from sklearn.preprocessing import StandardScaler\n",
    "from sklearn.linear_model import LinearRegression\n",
    "from lightgbm import LGBMRegressor\n",
    "\n",
    "from skforecast.utils import *\n",
    "if skforecast.__version__ >= '0.14.0':\n",
    "    from skforecast.recursive import ForecasterRecursive, ForecasterRecursiveMultiSeries\n",
    "    from skforecast.direct import ForecasterDirect, ForecasterDirectMultiVariate\n",
    "    from skforecast.model_selection import TimeSeriesFold, backtesting_forecaster, backtesting_forecaster_multiseries\n",
    "else:\n",
    "    from skforecast.ForecasterAutoreg import ForecasterAutoreg\n",
    "    from skforecast.ForecasterAutoregMultiSeries import ForecasterAutoregMultiSeries\n",
    "    from skforecast.ForecasterAutoregDirect import ForecasterAutoregDirect\n",
    "    from skforecast.ForecasterAutoregMultiVariate import ForecasterAutoregMultiVariate\n",
    "    from skforecast.model_selection import backtesting_forecaster, backtesting_forecaster_multiseries"
   ]
  },
  {
   "cell_type": "code",
   "execution_count": 5,
   "metadata": {},
   "outputs": [
    {
     "name": "stdout",
     "output_type": "stream",
     "text": [
      "Python version: 3.11.10\n",
      "skforecast version: 0.16.0\n",
      "scikit-learn version: 1.6.1\n",
      "pandas version: 2.2.3\n",
      "numpy version: 2.2.5\n",
      "Computer network name: ITES015-NB0029\n",
      "Processor type: Intel64 Family 6 Model 141 Stepping 1, GenuineIntel\n",
      "Platform type: Windows-10-10.0.19045-SP0\n",
      "Operating system: Windows\n",
      "Operating system release: 10\n",
      "Operating system version: 10.0.19045\n",
      "Number of physical cores: 8\n",
      "Number of logical cores: 16\n"
     ]
    }
   ],
   "source": [
    "print(f\"Python version: {platform.python_version()}\")\n",
    "print(f\"skforecast version: {skforecast.__version__}\")\n",
    "print(f\"scikit-learn version: {sklearn.__version__}\")\n",
    "print(f\"pandas version: {pd.__version__}\")\n",
    "print(f\"numpy version: {np.__version__}\")\n",
    "print(f\"Computer network name: {platform.node()}\")\n",
    "print(f\"Processor type: {platform.processor()}\")\n",
    "print(f\"Platform type: {platform.platform()}\")\n",
    "print(f\"Operating system: {platform.system()}\")\n",
    "print(f\"Operating system release: {platform.release()}\")\n",
    "print(f\"Operating system version: {platform.version()}\")\n",
    "print(f\"Number of physical cores: {psutil.cpu_count(logical=False)}\")\n",
    "print(f\"Number of logical cores: {psutil.cpu_count(logical=True)}\")"
   ]
  },
  {
   "cell_type": "code",
   "execution_count": 6,
   "metadata": {},
   "outputs": [],
   "source": [
    "import warnings\n",
    "warnings.filterwarnings(\n",
    "    \"ignore\",\n",
    "    category=FutureWarning,\n",
    "    message=\"'force_all_finite' was renamed to 'ensure_all_finite'\"\n",
    ")"
   ]
  },
  {
   "cell_type": "markdown",
   "metadata": {},
   "source": [
    "# ForecasterRecursiveMultiSeries"
   ]
  },
  {
   "cell_type": "code",
   "execution_count": 7,
   "metadata": {},
   "outputs": [],
   "source": [
    "# Mock data for benchmarking\n",
    "# ==========================================================\n",
    "n_series = 600\n",
    "len_series = 2000\n",
    "series_dict = {}\n",
    "rng = np.random.default_rng(321)\n",
    "for i in range(n_series):\n",
    "    series_dict[f'series_{i}'] = pd.Series(\n",
    "        data = rng.normal(loc=20, scale=5, size=len_series),\n",
    "        index=pd.date_range(\n",
    "            start='2010-01-01',\n",
    "            periods=len_series,\n",
    "            freq='h'\n",
    "        ),\n",
    "        name=f'series_{i}'\n",
    "    )\n",
    "series_dataframe = pd.DataFrame(series_dict, index=series_dict['series_0'].index)\n",
    "\n",
    "exog_dict = {}\n",
    "rng = np.random.default_rng(321)\n",
    "for k in series_dict.keys():\n",
    "    exog = pd.DataFrame(\n",
    "            index=series_dict[k].index\n",
    "            )\n",
    "    exog['day_of_week'] = exog.index.dayofweek\n",
    "    exog['week_of_year'] = exog.index.isocalendar().week.astype(int)\n",
    "    exog['month'] = exog.index.month\n",
    "    exog_dict[k] = exog\n",
    "\n",
    "exog_dict_prediction = {}\n",
    "for k in series_dict.keys():\n",
    "    exog = pd.DataFrame(\n",
    "            index=pd.date_range(\n",
    "                start=series_dict[k].index.max() + pd.Timedelta(hours=1),\n",
    "                periods=100,\n",
    "                freq='h'\n",
    "            )\n",
    "            )\n",
    "    exog['day_of_week'] = exog.index.dayofweek\n",
    "    exog['week_of_year'] = exog.index.isocalendar().week.astype(int)\n",
    "    exog['month'] = exog.index.month\n",
    "    exog_dict_prediction[k] = exog"
   ]
  },
  {
   "cell_type": "code",
   "execution_count": null,
   "metadata": {},
   "outputs": [
    {
     "name": "stdout",
     "output_type": "stream",
     "text": [
      "Benchmarking function: ForecasterRecursiveMultiSeries__create_train_X_y_series_is_dict_exog_is_dict with skforecast version 0.15.1\n",
      "Benchmarking function: ForecasterRecursiveMultiSeries__create_train_X_y_series_is_dataframe_no_exog with skforecast version 0.15.1\n",
      "Benchmarking function: ForecasterRecursiveMultiSeries__create_train_X_y_series_is_dataframe_exog_dict with skforecast version 0.15.1\n",
      "Benchmarking function: ForecasterRecursiveMultiSeries__create_train_X_y_single_series with skforecast version 0.15.1\n",
      "Benchmarking function: ForecasterRecursiveMultiSeries_fit_series_is_dict_exog_is_dict with skforecast version 0.15.1\n",
      "Benchmarking function: ForecasterRecursiveMultiSeries_fit_series_is_dataframe_no_exog with skforecast version 0.15.1\n",
      "Benchmarking function: ForecasterRecursiveMultiSeries_predict_exog_is_dict with skforecast version 0.15.1\n",
      "Benchmarking function: ForecasterRecursiveMultiSeries__create_predict_inputs_exog_is_dict with skforecast version 0.15.1\n",
      "Benchmarking function: ForecasterRecursiveMultiSeries__check_predict_inputs with skforecast version 0.15.1\n",
      "Benchmarking function: ForecasterRecursiveMultiSeries_backtesting_series_is_dict_exog_is_dict with skforecast version 0.15.1\n",
      "Benchmarking function: ForecasterRecursiveMultiSeries_backtesting_series_is_dataframe_no_exog with skforecast version 0.15.1\n",
      "Benchmarking function: ForecasterRecursiveMultiSeries_backtesting_series_is_dataframe_exog_dict with skforecast version 0.15.1\n",
      "Benchmarking function: ForecasterRecursiveMultiSeries_backtesting_series_is_dataframe_exog_dict_conformal with skforecast version 0.15.1\n"
     ]
    }
   ],
   "source": [
    "# Benchmarking speed ForecasterRecursiveMultiSeries\n",
    "# ==============================================================================\n",
    "regressor = LGBMRegressor(random_state=8520, verbose=-1)\n",
    "# regressor = LinearRegression()\n",
    "if skforecast.__version__ >= '0.14.0':\n",
    "    forecaster = ForecasterRecursiveMultiSeries(\n",
    "        regressor=regressor,\n",
    "        lags=50,\n",
    "        transformer_series=StandardScaler(),\n",
    "        transformer_exog=StandardScaler(),\n",
    "        encoding=\"ordinal\"\n",
    "    )\n",
    "else:\n",
    "    forecaster = ForecasterAutoregMultiSeries(\n",
    "        regressor=regressor,\n",
    "        lags=50,\n",
    "        transformer_series=StandardScaler(),\n",
    "        transformer_exog=StandardScaler(),\n",
    "        encoding=\"ordinal\"\n",
    "    )\n",
    "\n",
    "def ForecasterRecursiveMultiSeries_fit_series_is_dict_exog_is_dict():\n",
    "    forecaster.fit(series=series_dict, exog=exog_dict)\n",
    "\n",
    "def ForecasterRecursiveMultiSeries__create_train_X_y_series_is_dict_exog_is_dict():\n",
    "    forecaster._create_train_X_y(series=series_dict, exog=exog_dict)\n",
    "\n",
    "def ForecasterRecursiveMultiSeries_fit_series_is_dataframe_no_exog():\n",
    "    forecaster.fit(series=series_dataframe)\n",
    "\n",
    "def ForecasterRecursiveMultiSeries__create_train_X_y_series_is_dataframe_no_exog():\n",
    "    forecaster._create_train_X_y(series=series_dataframe)\n",
    "\n",
    "def ForecasterRecursiveMultiSeries__create_train_X_y_series_is_dataframe_exog_dict():\n",
    "    forecaster._create_train_X_y(series=series_dataframe, exog=exog_dict)\n",
    "\n",
    "def ForecasterRecursiveMultiSeries__create_train_X_y_single_series():\n",
    "    _ = forecaster._create_train_X_y_single_series(\n",
    "            y = series_dict['series_0'],\n",
    "            exog = exog_dict['series_0'],\n",
    "            ignore_exog = False,\n",
    "        )\n",
    "\n",
    "def ForecasterRecursiveMultiSeries_predict_exog_is_dict():\n",
    "    forecaster.predict(steps=100, exog=exog_dict_prediction, suppress_warnings=True)\n",
    "\n",
    "def ForecasterRecursiveMultiSeries_predict_interval_exog_is_dict_conformal():\n",
    "    forecaster.predict_interval(\n",
    "        steps=100,\n",
    "        exog=exog_dict_prediction,\n",
    "        method='conformal',\n",
    "        nterval=[5, 95],\n",
    "        suppress_warnings=True\n",
    "    )\n",
    "\n",
    "def ForecasterRecursiveMultiSeries__create_predict_inputs_exog_is_dict():\n",
    "    _ = forecaster._create_predict_inputs(\n",
    "            steps         = 100,\n",
    "            exog         = exog_dict_prediction,\n",
    "            check_inputs = True\n",
    "        )\n",
    "\n",
    "def ForecasterRecursiveMultiSeries__check_predict_inputs():\n",
    "    check_predict_input(\n",
    "        forecaster_name  = type(forecaster).__name__,\n",
    "        steps            = 100,\n",
    "        is_fitted        = forecaster.is_fitted,\n",
    "        exog_in_         = forecaster.exog_in_,\n",
    "        index_type_      = forecaster.index_type_,\n",
    "        index_freq_      = forecaster.index_freq_,\n",
    "        window_size      = forecaster.window_size,\n",
    "        last_window      = pd.DataFrame(forecaster.last_window_),\n",
    "        exog             = exog_dict_prediction,\n",
    "        exog_type_in_    = forecaster.exog_type_in_,\n",
    "        exog_names_in_   = forecaster.exog_names_in_,\n",
    "        interval         = None,\n",
    "        levels           = forecaster.series_names_in_,\n",
    "        series_names_in_ = forecaster.series_names_in_,\n",
    "        encoding         = forecaster.encoding\n",
    "    )\n",
    "\n",
    "def ForecasterRecursiveMultiSeries_backtesting_series_is_dict_exog_is_dict():\n",
    "    if skforecast.__version__ >= '0.14.0':\n",
    "        cv = TimeSeriesFold(\n",
    "                initial_train_size=1200,\n",
    "                fixed_train_size=True,\n",
    "                steps=50,\n",
    "            )\n",
    "        _ = backtesting_forecaster_multiseries(\n",
    "                forecaster=forecaster,\n",
    "                series=series_dict,\n",
    "                exog=exog_dict,\n",
    "                cv=cv,\n",
    "                metric='mean_squared_error',\n",
    "                show_progress=False\n",
    "            )\n",
    "    else:\n",
    "        _ = backtesting_forecaster_multiseries(\n",
    "                forecaster=forecaster,\n",
    "                series=series_dict,\n",
    "                exog=exog_dict,\n",
    "                initial_train_size=1200,\n",
    "                fixed_train_size=True,\n",
    "                steps=50,\n",
    "                metric='mean_squared_error',\n",
    "                show_progress=False\n",
    "            )\n",
    "        \n",
    "def ForecasterRecursiveMultiSeries_backtesting_series_is_dataframe_no_exog():\n",
    "    if skforecast.__version__ >= '0.14.0':\n",
    "        cv = TimeSeriesFold(\n",
    "                initial_train_size=1200,\n",
    "                fixed_train_size=True,\n",
    "                steps=50,\n",
    "            )\n",
    "        _ = backtesting_forecaster_multiseries(\n",
    "                forecaster=forecaster,\n",
    "                series=series_dataframe,\n",
    "                cv=cv,\n",
    "                metric='mean_squared_error',\n",
    "                show_progress=False\n",
    "            )\n",
    "    else:\n",
    "        _ = backtesting_forecaster_multiseries(\n",
    "                forecaster=forecaster,\n",
    "                series=series_dataframe,\n",
    "                initial_train_size=1200,\n",
    "                fixed_train_size=True,\n",
    "                steps=50,\n",
    "                metric='mean_squared_error',\n",
    "                show_progress=False\n",
    "            )\n",
    "        \n",
    "def ForecasterRecursiveMultiSeries_backtesting_series_is_dataframe_exog_dict():\n",
    "    if skforecast.__version__ >= '0.14.0':\n",
    "        cv = TimeSeriesFold(\n",
    "                initial_train_size=1200,\n",
    "                fixed_train_size=True,\n",
    "                steps=50,\n",
    "            )\n",
    "        _ = backtesting_forecaster_multiseries(\n",
    "                forecaster=forecaster,\n",
    "                series=series_dataframe,\n",
    "                exog=exog_dict,\n",
    "                cv=cv,\n",
    "                metric='mean_squared_error',\n",
    "                show_progress=False\n",
    "            )\n",
    "    else:\n",
    "        _ = backtesting_forecaster_multiseries(\n",
    "                forecaster=forecaster,\n",
    "                series=series_dataframe,\n",
    "                exog=exog_dict,\n",
    "                initial_train_size=1200,\n",
    "                fixed_train_size=True,\n",
    "                steps=50,\n",
    "                metric='mean_squared_error',\n",
    "                show_progress=False\n",
    "            )\n",
    "        \n",
    "def ForecasterRecursiveMultiSeries_backtesting_series_is_dataframe_exog_dict_conformal():\n",
    "    if skforecast.__version__ >= '0.14.0':\n",
    "        cv = TimeSeriesFold(\n",
    "                initial_train_size=1200,\n",
    "                fixed_train_size=True,\n",
    "                steps=50,\n",
    "            )\n",
    "        _ = backtesting_forecaster_multiseries(\n",
    "                forecaster=forecaster,\n",
    "                series=series_dataframe,\n",
    "                exog=exog_dict,\n",
    "                cv=cv,\n",
    "                interval=[5, 95],\n",
    "                interval_method='conformal',\n",
    "                metric='mean_squared_error',\n",
    "                show_progress=False\n",
    "            )\n",
    "    else:\n",
    "        _ = backtesting_forecaster_multiseries(\n",
    "                forecaster=forecaster,\n",
    "                series=series_dataframe,\n",
    "                exog=exog_dict,\n",
    "                initial_train_size=1200,\n",
    "                fixed_train_size=True,\n",
    "                steps=50,\n",
    "                interval=[5, 95],\n",
    "                interval_method='conformal',\n",
    "                metric='mean_squared_error',\n",
    "                show_progress=False\n",
    "            )\n",
    "\n",
    "\n",
    "runner = BenchmarkRunner(repeat=10, output_dir=\"./\")\n",
    "_ = runner.benchmark(ForecasterRecursiveMultiSeries__create_train_X_y_series_is_dict_exog_is_dict, forecaster=forecaster)\n",
    "_ = runner.benchmark(ForecasterRecursiveMultiSeries__create_train_X_y_series_is_dataframe_no_exog, forecaster=forecaster)\n",
    "_ = runner.benchmark(ForecasterRecursiveMultiSeries__create_train_X_y_series_is_dataframe_exog_dict, forecaster=forecaster)\n",
    "_ = runner.benchmark(ForecasterRecursiveMultiSeries__create_train_X_y_single_series, forecaster=forecaster)\n",
    "\n",
    "runner = BenchmarkRunner(repeat=5, output_dir=\"./\")\n",
    "_ = runner.benchmark(ForecasterRecursiveMultiSeries_fit_series_is_dict_exog_is_dict, forecaster=forecaster)\n",
    "_ = runner.benchmark(ForecasterRecursiveMultiSeries_fit_series_is_dataframe_no_exog, forecaster=forecaster)\n",
    "\n",
    "forecaster.fit(series=series_dict, exog=exog_dict)\n",
    "runner = BenchmarkRunner(repeat=10, output_dir=\"./\")\n",
    "_ = runner.benchmark(ForecasterRecursiveMultiSeries_predict_exog_is_dict, forecaster=forecaster)\n",
    "_ = runner.benchmark(ForecasterRecursiveMultiSeries_predict_interval_exog_is_dict_conformal, forecaster=forecaster)\n",
    "_ = runner.benchmark(ForecasterRecursiveMultiSeries__create_predict_inputs_exog_is_dict, forecaster=forecaster)\n",
    "_ = runner.benchmark(ForecasterRecursiveMultiSeries__check_predict_inputs, forecaster=forecaster)\n",
    "\n",
    "runner = BenchmarkRunner(repeat=5, output_dir=\"./\")\n",
    "_ = runner.benchmark(ForecasterRecursiveMultiSeries_backtesting_series_is_dict_exog_is_dict, forecaster=forecaster)\n",
    "_ = runner.benchmark(ForecasterRecursiveMultiSeries_backtesting_series_is_dataframe_no_exog, forecaster=forecaster)\n",
    "_ = runner.benchmark(ForecasterRecursiveMultiSeries_backtesting_series_is_dataframe_exog_dict, forecaster=forecaster)\n",
    "_ = runner.benchmark(ForecasterRecursiveMultiSeries_backtesting_series_is_dataframe_exog_dict_conformal, forecaster=forecaster)"
   ]
  },
  {
   "cell_type": "code",
   "execution_count": null,
   "metadata": {},
   "outputs": [
    {
     "data": {
      "application/vnd.microsoft.datawrangler.viewer.v0+json": {
       "columns": [
        {
         "name": "index",
         "rawType": "int64",
         "type": "integer"
        },
        {
         "name": "forecaster_name",
         "rawType": "object",
         "type": "string"
        },
        {
         "name": "regressor_name",
         "rawType": "object",
         "type": "string"
        },
        {
         "name": "function_name",
         "rawType": "object",
         "type": "string"
        },
        {
         "name": "function_hash",
         "rawType": "object",
         "type": "string"
        },
        {
         "name": "run_time_avg",
         "rawType": "float64",
         "type": "float"
        },
        {
         "name": "run_time_std_dev",
         "rawType": "float64",
         "type": "float"
        },
        {
         "name": "datetime",
         "rawType": "datetime64[ns]",
         "type": "datetime"
        },
        {
         "name": "python_version",
         "rawType": "object",
         "type": "string"
        },
        {
         "name": "skforecast_version",
         "rawType": "object",
         "type": "string"
        },
        {
         "name": "numpy_version",
         "rawType": "object",
         "type": "string"
        },
        {
         "name": "pandas_version",
         "rawType": "object",
         "type": "string"
        },
        {
         "name": "sklearn_version",
         "rawType": "object",
         "type": "string"
        },
        {
         "name": "lightgbm_version",
         "rawType": "object",
         "type": "string"
        },
        {
         "name": "platform",
         "rawType": "object",
         "type": "string"
        },
        {
         "name": "processor",
         "rawType": "object",
         "type": "string"
        },
        {
         "name": "cpu_count",
         "rawType": "int64",
         "type": "integer"
        },
        {
         "name": "memory_gb",
         "rawType": "float64",
         "type": "float"
        }
       ],
       "conversionMethod": "pd.DataFrame",
       "ref": "6f63a1ed-1724-4789-b964-9ed7e93be54d",
       "rows": [
        [
         "145",
         "ForecasterRecursiveMultiSeries",
         "LGBMRegressor",
         "ForecasterRecursiveMultiSeries_fit_series_is_dict_exog_is_dict",
         "63b606a379874ae9f340ba4fe592d695",
         "8.396983919997002",
         "0.4074896805552391",
         "2025-04-24 10:33:15.303767",
         "3.11.10",
         "0.15.1",
         "2.1.3",
         "2.2.3",
         "1.6.1",
         "4.5.0",
         "Windows-10-10.0.19045-SP0",
         "Intel64 Family 6 Model 141 Stepping 1, GenuineIntel",
         "16",
         "34.07"
        ],
        [
         "160",
         "ForecasterRecursiveMultiSeries",
         "LGBMRegressor",
         "ForecasterRecursiveMultiSeries_fit_series_is_dict_exog_is_dict",
         "63b606a379874ae9f340ba4fe592d695",
         "8.086642320003012",
         "0.11076471133090639",
         "2025-04-24 10:40:25.109072",
         "3.11.10",
         "0.14.0",
         "2.1.3",
         "2.2.3",
         "1.6.1",
         "4.5.0",
         "Windows-10-10.0.19045-SP0",
         "Intel64 Family 6 Model 141 Stepping 1, GenuineIntel",
         "16",
         "34.07"
        ],
        [
         "175",
         "ForecasterRecursiveMultiSeries",
         "LGBMRegressor",
         "ForecasterRecursiveMultiSeries_fit_series_is_dict_exog_is_dict",
         "63b606a379874ae9f340ba4fe592d695",
         "6.684918199997628",
         "0.05841134405622604",
         "2025-04-24 11:07:42.003553",
         "3.11.10",
         "0.14.0",
         "2.1.3",
         "2.2.3",
         "1.6.1",
         "4.5.0",
         "Windows-10-10.0.19045-SP0",
         "Intel64 Family 6 Model 141 Stepping 1, GenuineIntel",
         "16",
         "34.07"
        ],
        [
         "190",
         "ForecasterRecursiveMultiSeries",
         "LGBMRegressor",
         "ForecasterRecursiveMultiSeries_fit_series_is_dict_exog_is_dict",
         "63b606a379874ae9f340ba4fe592d695",
         "8.523445220000577",
         "0.6944565200726901",
         "2025-04-24 11:16:37.067503",
         "3.11.10",
         "0.15.1",
         "2.1.3",
         "2.2.3",
         "1.6.1",
         "4.5.0",
         "Windows-10-10.0.19045-SP0",
         "Intel64 Family 6 Model 141 Stepping 1, GenuineIntel",
         "16",
         "34.07"
        ],
        [
         "208",
         "ForecasterRecursiveMultiSeries",
         "LGBMRegressor",
         "ForecasterRecursiveMultiSeries_fit_series_is_dict_exog_is_dict",
         "63b606a379874ae9f340ba4fe592d695",
         "7.163527680002153",
         "0.06410770331528523",
         "2025-04-24 18:03:06.476568",
         "3.11.10",
         "0.16.0",
         "2.2.5",
         "2.2.3",
         "1.6.1",
         "4.5.0",
         "Windows-10-10.0.19045-SP0",
         "Intel64 Family 6 Model 141 Stepping 1, GenuineIntel",
         "16",
         "34.07"
        ],
        [
         "228",
         "ForecasterRecursiveMultiSeries",
         "LGBMRegressor",
         "ForecasterRecursiveMultiSeries_fit_series_is_dict_exog_is_dict",
         "63b606a379874ae9f340ba4fe592d695",
         "6.449686980005936",
         "0.07386990622085426",
         "2025-04-24 18:18:13.058177",
         "3.11.10",
         "0.16.0",
         "2.2.5",
         "2.2.3",
         "1.6.1",
         "4.5.0",
         "Windows-10-10.0.19045-SP0",
         "Intel64 Family 6 Model 141 Stepping 1, GenuineIntel",
         "16",
         "34.07"
        ]
       ],
       "shape": {
        "columns": 17,
        "rows": 6
       }
      },
      "text/html": [
       "<div>\n",
       "<style scoped>\n",
       "    .dataframe tbody tr th:only-of-type {\n",
       "        vertical-align: middle;\n",
       "    }\n",
       "\n",
       "    .dataframe tbody tr th {\n",
       "        vertical-align: top;\n",
       "    }\n",
       "\n",
       "    .dataframe thead th {\n",
       "        text-align: right;\n",
       "    }\n",
       "</style>\n",
       "<table border=\"1\" class=\"dataframe\">\n",
       "  <thead>\n",
       "    <tr style=\"text-align: right;\">\n",
       "      <th></th>\n",
       "      <th>forecaster_name</th>\n",
       "      <th>regressor_name</th>\n",
       "      <th>function_name</th>\n",
       "      <th>function_hash</th>\n",
       "      <th>run_time_avg</th>\n",
       "      <th>run_time_std_dev</th>\n",
       "      <th>datetime</th>\n",
       "      <th>python_version</th>\n",
       "      <th>skforecast_version</th>\n",
       "      <th>numpy_version</th>\n",
       "      <th>pandas_version</th>\n",
       "      <th>sklearn_version</th>\n",
       "      <th>lightgbm_version</th>\n",
       "      <th>platform</th>\n",
       "      <th>processor</th>\n",
       "      <th>cpu_count</th>\n",
       "      <th>memory_gb</th>\n",
       "    </tr>\n",
       "  </thead>\n",
       "  <tbody>\n",
       "    <tr>\n",
       "      <th>145</th>\n",
       "      <td>ForecasterRecursiveMultiSeries</td>\n",
       "      <td>LGBMRegressor</td>\n",
       "      <td>ForecasterRecursiveMultiSeries_fit_series_is_d...</td>\n",
       "      <td>63b606a379874ae9f340ba4fe592d695</td>\n",
       "      <td>8.396984</td>\n",
       "      <td>0.407490</td>\n",
       "      <td>2025-04-24 10:33:15.303767</td>\n",
       "      <td>3.11.10</td>\n",
       "      <td>0.15.1</td>\n",
       "      <td>2.1.3</td>\n",
       "      <td>2.2.3</td>\n",
       "      <td>1.6.1</td>\n",
       "      <td>4.5.0</td>\n",
       "      <td>Windows-10-10.0.19045-SP0</td>\n",
       "      <td>Intel64 Family 6 Model 141 Stepping 1, Genuine...</td>\n",
       "      <td>16</td>\n",
       "      <td>34.07</td>\n",
       "    </tr>\n",
       "    <tr>\n",
       "      <th>160</th>\n",
       "      <td>ForecasterRecursiveMultiSeries</td>\n",
       "      <td>LGBMRegressor</td>\n",
       "      <td>ForecasterRecursiveMultiSeries_fit_series_is_d...</td>\n",
       "      <td>63b606a379874ae9f340ba4fe592d695</td>\n",
       "      <td>8.086642</td>\n",
       "      <td>0.110765</td>\n",
       "      <td>2025-04-24 10:40:25.109072</td>\n",
       "      <td>3.11.10</td>\n",
       "      <td>0.14.0</td>\n",
       "      <td>2.1.3</td>\n",
       "      <td>2.2.3</td>\n",
       "      <td>1.6.1</td>\n",
       "      <td>4.5.0</td>\n",
       "      <td>Windows-10-10.0.19045-SP0</td>\n",
       "      <td>Intel64 Family 6 Model 141 Stepping 1, Genuine...</td>\n",
       "      <td>16</td>\n",
       "      <td>34.07</td>\n",
       "    </tr>\n",
       "    <tr>\n",
       "      <th>175</th>\n",
       "      <td>ForecasterRecursiveMultiSeries</td>\n",
       "      <td>LGBMRegressor</td>\n",
       "      <td>ForecasterRecursiveMultiSeries_fit_series_is_d...</td>\n",
       "      <td>63b606a379874ae9f340ba4fe592d695</td>\n",
       "      <td>6.684918</td>\n",
       "      <td>0.058411</td>\n",
       "      <td>2025-04-24 11:07:42.003553</td>\n",
       "      <td>3.11.10</td>\n",
       "      <td>0.14.0</td>\n",
       "      <td>2.1.3</td>\n",
       "      <td>2.2.3</td>\n",
       "      <td>1.6.1</td>\n",
       "      <td>4.5.0</td>\n",
       "      <td>Windows-10-10.0.19045-SP0</td>\n",
       "      <td>Intel64 Family 6 Model 141 Stepping 1, Genuine...</td>\n",
       "      <td>16</td>\n",
       "      <td>34.07</td>\n",
       "    </tr>\n",
       "    <tr>\n",
       "      <th>190</th>\n",
       "      <td>ForecasterRecursiveMultiSeries</td>\n",
       "      <td>LGBMRegressor</td>\n",
       "      <td>ForecasterRecursiveMultiSeries_fit_series_is_d...</td>\n",
       "      <td>63b606a379874ae9f340ba4fe592d695</td>\n",
       "      <td>8.523445</td>\n",
       "      <td>0.694457</td>\n",
       "      <td>2025-04-24 11:16:37.067503</td>\n",
       "      <td>3.11.10</td>\n",
       "      <td>0.15.1</td>\n",
       "      <td>2.1.3</td>\n",
       "      <td>2.2.3</td>\n",
       "      <td>1.6.1</td>\n",
       "      <td>4.5.0</td>\n",
       "      <td>Windows-10-10.0.19045-SP0</td>\n",
       "      <td>Intel64 Family 6 Model 141 Stepping 1, Genuine...</td>\n",
       "      <td>16</td>\n",
       "      <td>34.07</td>\n",
       "    </tr>\n",
       "    <tr>\n",
       "      <th>208</th>\n",
       "      <td>ForecasterRecursiveMultiSeries</td>\n",
       "      <td>LGBMRegressor</td>\n",
       "      <td>ForecasterRecursiveMultiSeries_fit_series_is_d...</td>\n",
       "      <td>63b606a379874ae9f340ba4fe592d695</td>\n",
       "      <td>7.163528</td>\n",
       "      <td>0.064108</td>\n",
       "      <td>2025-04-24 18:03:06.476568</td>\n",
       "      <td>3.11.10</td>\n",
       "      <td>0.16.0</td>\n",
       "      <td>2.2.5</td>\n",
       "      <td>2.2.3</td>\n",
       "      <td>1.6.1</td>\n",
       "      <td>4.5.0</td>\n",
       "      <td>Windows-10-10.0.19045-SP0</td>\n",
       "      <td>Intel64 Family 6 Model 141 Stepping 1, Genuine...</td>\n",
       "      <td>16</td>\n",
       "      <td>34.07</td>\n",
       "    </tr>\n",
       "    <tr>\n",
       "      <th>228</th>\n",
       "      <td>ForecasterRecursiveMultiSeries</td>\n",
       "      <td>LGBMRegressor</td>\n",
       "      <td>ForecasterRecursiveMultiSeries_fit_series_is_d...</td>\n",
       "      <td>63b606a379874ae9f340ba4fe592d695</td>\n",
       "      <td>6.449687</td>\n",
       "      <td>0.073870</td>\n",
       "      <td>2025-04-24 18:18:13.058177</td>\n",
       "      <td>3.11.10</td>\n",
       "      <td>0.16.0</td>\n",
       "      <td>2.2.5</td>\n",
       "      <td>2.2.3</td>\n",
       "      <td>1.6.1</td>\n",
       "      <td>4.5.0</td>\n",
       "      <td>Windows-10-10.0.19045-SP0</td>\n",
       "      <td>Intel64 Family 6 Model 141 Stepping 1, Genuine...</td>\n",
       "      <td>16</td>\n",
       "      <td>34.07</td>\n",
       "    </tr>\n",
       "  </tbody>\n",
       "</table>\n",
       "</div>"
      ],
      "text/plain": [
       "                    forecaster_name regressor_name  \\\n",
       "145  ForecasterRecursiveMultiSeries  LGBMRegressor   \n",
       "160  ForecasterRecursiveMultiSeries  LGBMRegressor   \n",
       "175  ForecasterRecursiveMultiSeries  LGBMRegressor   \n",
       "190  ForecasterRecursiveMultiSeries  LGBMRegressor   \n",
       "208  ForecasterRecursiveMultiSeries  LGBMRegressor   \n",
       "228  ForecasterRecursiveMultiSeries  LGBMRegressor   \n",
       "\n",
       "                                         function_name  \\\n",
       "145  ForecasterRecursiveMultiSeries_fit_series_is_d...   \n",
       "160  ForecasterRecursiveMultiSeries_fit_series_is_d...   \n",
       "175  ForecasterRecursiveMultiSeries_fit_series_is_d...   \n",
       "190  ForecasterRecursiveMultiSeries_fit_series_is_d...   \n",
       "208  ForecasterRecursiveMultiSeries_fit_series_is_d...   \n",
       "228  ForecasterRecursiveMultiSeries_fit_series_is_d...   \n",
       "\n",
       "                        function_hash  run_time_avg  run_time_std_dev  \\\n",
       "145  63b606a379874ae9f340ba4fe592d695      8.396984          0.407490   \n",
       "160  63b606a379874ae9f340ba4fe592d695      8.086642          0.110765   \n",
       "175  63b606a379874ae9f340ba4fe592d695      6.684918          0.058411   \n",
       "190  63b606a379874ae9f340ba4fe592d695      8.523445          0.694457   \n",
       "208  63b606a379874ae9f340ba4fe592d695      7.163528          0.064108   \n",
       "228  63b606a379874ae9f340ba4fe592d695      6.449687          0.073870   \n",
       "\n",
       "                      datetime python_version skforecast_version  \\\n",
       "145 2025-04-24 10:33:15.303767        3.11.10             0.15.1   \n",
       "160 2025-04-24 10:40:25.109072        3.11.10             0.14.0   \n",
       "175 2025-04-24 11:07:42.003553        3.11.10             0.14.0   \n",
       "190 2025-04-24 11:16:37.067503        3.11.10             0.15.1   \n",
       "208 2025-04-24 18:03:06.476568        3.11.10             0.16.0   \n",
       "228 2025-04-24 18:18:13.058177        3.11.10             0.16.0   \n",
       "\n",
       "    numpy_version pandas_version sklearn_version lightgbm_version  \\\n",
       "145         2.1.3          2.2.3           1.6.1            4.5.0   \n",
       "160         2.1.3          2.2.3           1.6.1            4.5.0   \n",
       "175         2.1.3          2.2.3           1.6.1            4.5.0   \n",
       "190         2.1.3          2.2.3           1.6.1            4.5.0   \n",
       "208         2.2.5          2.2.3           1.6.1            4.5.0   \n",
       "228         2.2.5          2.2.3           1.6.1            4.5.0   \n",
       "\n",
       "                      platform  \\\n",
       "145  Windows-10-10.0.19045-SP0   \n",
       "160  Windows-10-10.0.19045-SP0   \n",
       "175  Windows-10-10.0.19045-SP0   \n",
       "190  Windows-10-10.0.19045-SP0   \n",
       "208  Windows-10-10.0.19045-SP0   \n",
       "228  Windows-10-10.0.19045-SP0   \n",
       "\n",
       "                                             processor  cpu_count  memory_gb  \n",
       "145  Intel64 Family 6 Model 141 Stepping 1, Genuine...         16      34.07  \n",
       "160  Intel64 Family 6 Model 141 Stepping 1, Genuine...         16      34.07  \n",
       "175  Intel64 Family 6 Model 141 Stepping 1, Genuine...         16      34.07  \n",
       "190  Intel64 Family 6 Model 141 Stepping 1, Genuine...         16      34.07  \n",
       "208  Intel64 Family 6 Model 141 Stepping 1, Genuine...         16      34.07  \n",
       "228  Intel64 Family 6 Model 141 Stepping 1, Genuine...         16      34.07  "
      ]
     },
     "metadata": {},
     "output_type": "display_data"
    },
    {
     "data": {
      "application/vnd.plotly.v1+json": {
       "config": {
        "plotlyServerURL": "https://plot.ly"
       },
       "data": [
        {
         "error_y": {
          "array": [
           0.11076471133090639,
           0.05841134405622604
          ],
          "color": "#636EFA",
          "thickness": 1.5,
          "type": "data",
          "visible": true,
          "width": 5
         },
         "hovertemplate": "%{text}<extra></extra>",
         "marker": {
          "color": "#636EFA",
          "opacity": 0.7,
          "size": 10
         },
         "mode": "markers",
         "name": "Run time - 0.14.0",
         "showlegend": true,
         "text": [
          "Forecaster: ForecasterRecursiveMultiSeries<br>Regressor: LGBMRegressor<br>Function: ForecasterRecursiveMultiSeries_fit_series_is_dict_exog_is_dict<br>Function_hash: 63b606a379874ae9f340ba4fe592d695<br>Datetime: 2025-04-24 10:40:25.109072<br>Python version: 3.11.10<br>skforecast version: 0.14.0<br>numpy version: 2.1.3<br>pandas version: 2.2.3<br>sklearn version: 1.6.1<br>lightgbm version: 4.5.0<br>Platform: Windows-10-10.0.19045-SP0<br>Processor: Intel64 Family 6 Model 141 Stepping 1, GenuineIntel<br>CPU count: 16<br>Memory (GB): 34.07<br>",
          "Forecaster: ForecasterRecursiveMultiSeries<br>Regressor: LGBMRegressor<br>Function: ForecasterRecursiveMultiSeries_fit_series_is_dict_exog_is_dict<br>Function_hash: 63b606a379874ae9f340ba4fe592d695<br>Datetime: 2025-04-24 11:07:42.003553<br>Python version: 3.11.10<br>skforecast version: 0.14.0<br>numpy version: 2.1.3<br>pandas version: 2.2.3<br>sklearn version: 1.6.1<br>lightgbm version: 4.5.0<br>Platform: Windows-10-10.0.19045-SP0<br>Processor: Intel64 Family 6 Model 141 Stepping 1, GenuineIntel<br>CPU count: 16<br>Memory (GB): 34.07<br>"
         ],
         "type": "scatter",
         "x": [
          -0.013072724445363663,
          0.008194560218857672
         ],
         "y": [
          8.086642320003012,
          6.684918199997628
         ]
        },
        {
         "error_y": {
          "array": [
           0.4074896805552391,
           0.6944565200726901
          ],
          "color": "#EF553B",
          "thickness": 1.5,
          "type": "data",
          "visible": true,
          "width": 5
         },
         "hovertemplate": "%{text}<extra></extra>",
         "marker": {
          "color": "#EF553B",
          "opacity": 0.7,
          "size": 10
         },
         "mode": "markers",
         "name": "Run time - 0.15.1",
         "showlegend": true,
         "text": [
          "Forecaster: ForecasterRecursiveMultiSeries<br>Regressor: LGBMRegressor<br>Function: ForecasterRecursiveMultiSeries_fit_series_is_dict_exog_is_dict<br>Function_hash: 63b606a379874ae9f340ba4fe592d695<br>Datetime: 2025-04-24 10:33:15.303767<br>Python version: 3.11.10<br>skforecast version: 0.15.1<br>numpy version: 2.1.3<br>pandas version: 2.2.3<br>sklearn version: 1.6.1<br>lightgbm version: 4.5.0<br>Platform: Windows-10-10.0.19045-SP0<br>Processor: Intel64 Family 6 Model 141 Stepping 1, GenuineIntel<br>CPU count: 16<br>Memory (GB): 34.07<br>",
          "Forecaster: ForecasterRecursiveMultiSeries<br>Regressor: LGBMRegressor<br>Function: ForecasterRecursiveMultiSeries_fit_series_is_dict_exog_is_dict<br>Function_hash: 63b606a379874ae9f340ba4fe592d695<br>Datetime: 2025-04-24 11:16:37.067503<br>Python version: 3.11.10<br>skforecast version: 0.15.1<br>numpy version: 2.1.3<br>pandas version: 2.2.3<br>sklearn version: 1.6.1<br>lightgbm version: 4.5.0<br>Platform: Windows-10-10.0.19045-SP0<br>Processor: Intel64 Family 6 Model 141 Stepping 1, GenuineIntel<br>CPU count: 16<br>Memory (GB): 34.07<br>"
         ],
         "type": "scatter",
         "x": [
          1.0081293121881658,
          1.0419283988672943
         ],
         "y": [
          8.396983919997002,
          8.523445220000577
         ]
        },
        {
         "error_y": {
          "array": [
           0.06410770331528523,
           0.07386990622085426
          ],
          "color": "#00CC96",
          "thickness": 1.5,
          "type": "data",
          "visible": true,
          "width": 5
         },
         "hovertemplate": "%{text}<extra></extra>",
         "marker": {
          "color": "#00CC96",
          "opacity": 0.7,
          "size": 10
         },
         "mode": "markers",
         "name": "Run time - 0.16.0",
         "showlegend": true,
         "text": [
          "Forecaster: ForecasterRecursiveMultiSeries<br>Regressor: LGBMRegressor<br>Function: ForecasterRecursiveMultiSeries_fit_series_is_dict_exog_is_dict<br>Function_hash: 63b606a379874ae9f340ba4fe592d695<br>Datetime: 2025-04-24 18:03:06.476568<br>Python version: 3.11.10<br>skforecast version: 0.16.0<br>numpy version: 2.2.5<br>pandas version: 2.2.3<br>sklearn version: 1.6.1<br>lightgbm version: 4.5.0<br>Platform: Windows-10-10.0.19045-SP0<br>Processor: Intel64 Family 6 Model 141 Stepping 1, GenuineIntel<br>CPU count: 16<br>Memory (GB): 34.07<br>",
          "Forecaster: ForecasterRecursiveMultiSeries<br>Regressor: LGBMRegressor<br>Function: ForecasterRecursiveMultiSeries_fit_series_is_dict_exog_is_dict<br>Function_hash: 63b606a379874ae9f340ba4fe592d695<br>Datetime: 2025-04-24 18:18:13.058177<br>Python version: 3.11.10<br>skforecast version: 0.16.0<br>numpy version: 2.2.5<br>pandas version: 2.2.3<br>sklearn version: 1.6.1<br>lightgbm version: 4.5.0<br>Platform: Windows-10-10.0.19045-SP0<br>Processor: Intel64 Family 6 Model 141 Stepping 1, GenuineIntel<br>CPU count: 16<br>Memory (GB): 34.07<br>"
         ],
         "type": "scatter",
         "x": [
          1.9612920605272641,
          1.973403156847176
         ],
         "y": [
          7.163527680002153,
          6.449686980005936
         ]
        },
        {
         "line": {
          "color": "black",
          "width": 2
         },
         "marker": {
          "color": "black",
          "size": 8
         },
         "mode": "lines+markers",
         "name": "Median (per version)",
         "type": "scatter",
         "x": [
          0,
          1,
          2
         ],
         "y": [
          7.38578026000032,
          8.46021456999879,
          6.806607330004044
         ]
        },
        {
         "line": {
          "color": "black",
          "dash": "dash",
          "width": 2
         },
         "marker": {
          "color": "black",
          "size": 8
         },
         "mode": "lines+markers",
         "name": "Mean (per version)",
         "type": "scatter",
         "x": [
          0,
          1,
          2
         ],
         "y": [
          7.38578026000032,
          8.46021456999879,
          6.806607330004044
         ]
        }
       ],
       "layout": {
        "showlegend": true,
        "template": {
         "data": {
          "bar": [
           {
            "error_x": {
             "color": "#2a3f5f"
            },
            "error_y": {
             "color": "#2a3f5f"
            },
            "marker": {
             "line": {
              "color": "#E5ECF6",
              "width": 0.5
             },
             "pattern": {
              "fillmode": "overlay",
              "size": 10,
              "solidity": 0.2
             }
            },
            "type": "bar"
           }
          ],
          "barpolar": [
           {
            "marker": {
             "line": {
              "color": "#E5ECF6",
              "width": 0.5
             },
             "pattern": {
              "fillmode": "overlay",
              "size": 10,
              "solidity": 0.2
             }
            },
            "type": "barpolar"
           }
          ],
          "carpet": [
           {
            "aaxis": {
             "endlinecolor": "#2a3f5f",
             "gridcolor": "white",
             "linecolor": "white",
             "minorgridcolor": "white",
             "startlinecolor": "#2a3f5f"
            },
            "baxis": {
             "endlinecolor": "#2a3f5f",
             "gridcolor": "white",
             "linecolor": "white",
             "minorgridcolor": "white",
             "startlinecolor": "#2a3f5f"
            },
            "type": "carpet"
           }
          ],
          "choropleth": [
           {
            "colorbar": {
             "outlinewidth": 0,
             "ticks": ""
            },
            "type": "choropleth"
           }
          ],
          "contour": [
           {
            "colorbar": {
             "outlinewidth": 0,
             "ticks": ""
            },
            "colorscale": [
             [
              0,
              "#0d0887"
             ],
             [
              0.1111111111111111,
              "#46039f"
             ],
             [
              0.2222222222222222,
              "#7201a8"
             ],
             [
              0.3333333333333333,
              "#9c179e"
             ],
             [
              0.4444444444444444,
              "#bd3786"
             ],
             [
              0.5555555555555556,
              "#d8576b"
             ],
             [
              0.6666666666666666,
              "#ed7953"
             ],
             [
              0.7777777777777778,
              "#fb9f3a"
             ],
             [
              0.8888888888888888,
              "#fdca26"
             ],
             [
              1,
              "#f0f921"
             ]
            ],
            "type": "contour"
           }
          ],
          "contourcarpet": [
           {
            "colorbar": {
             "outlinewidth": 0,
             "ticks": ""
            },
            "type": "contourcarpet"
           }
          ],
          "heatmap": [
           {
            "colorbar": {
             "outlinewidth": 0,
             "ticks": ""
            },
            "colorscale": [
             [
              0,
              "#0d0887"
             ],
             [
              0.1111111111111111,
              "#46039f"
             ],
             [
              0.2222222222222222,
              "#7201a8"
             ],
             [
              0.3333333333333333,
              "#9c179e"
             ],
             [
              0.4444444444444444,
              "#bd3786"
             ],
             [
              0.5555555555555556,
              "#d8576b"
             ],
             [
              0.6666666666666666,
              "#ed7953"
             ],
             [
              0.7777777777777778,
              "#fb9f3a"
             ],
             [
              0.8888888888888888,
              "#fdca26"
             ],
             [
              1,
              "#f0f921"
             ]
            ],
            "type": "heatmap"
           }
          ],
          "heatmapgl": [
           {
            "colorbar": {
             "outlinewidth": 0,
             "ticks": ""
            },
            "colorscale": [
             [
              0,
              "#0d0887"
             ],
             [
              0.1111111111111111,
              "#46039f"
             ],
             [
              0.2222222222222222,
              "#7201a8"
             ],
             [
              0.3333333333333333,
              "#9c179e"
             ],
             [
              0.4444444444444444,
              "#bd3786"
             ],
             [
              0.5555555555555556,
              "#d8576b"
             ],
             [
              0.6666666666666666,
              "#ed7953"
             ],
             [
              0.7777777777777778,
              "#fb9f3a"
             ],
             [
              0.8888888888888888,
              "#fdca26"
             ],
             [
              1,
              "#f0f921"
             ]
            ],
            "type": "heatmapgl"
           }
          ],
          "histogram": [
           {
            "marker": {
             "pattern": {
              "fillmode": "overlay",
              "size": 10,
              "solidity": 0.2
             }
            },
            "type": "histogram"
           }
          ],
          "histogram2d": [
           {
            "colorbar": {
             "outlinewidth": 0,
             "ticks": ""
            },
            "colorscale": [
             [
              0,
              "#0d0887"
             ],
             [
              0.1111111111111111,
              "#46039f"
             ],
             [
              0.2222222222222222,
              "#7201a8"
             ],
             [
              0.3333333333333333,
              "#9c179e"
             ],
             [
              0.4444444444444444,
              "#bd3786"
             ],
             [
              0.5555555555555556,
              "#d8576b"
             ],
             [
              0.6666666666666666,
              "#ed7953"
             ],
             [
              0.7777777777777778,
              "#fb9f3a"
             ],
             [
              0.8888888888888888,
              "#fdca26"
             ],
             [
              1,
              "#f0f921"
             ]
            ],
            "type": "histogram2d"
           }
          ],
          "histogram2dcontour": [
           {
            "colorbar": {
             "outlinewidth": 0,
             "ticks": ""
            },
            "colorscale": [
             [
              0,
              "#0d0887"
             ],
             [
              0.1111111111111111,
              "#46039f"
             ],
             [
              0.2222222222222222,
              "#7201a8"
             ],
             [
              0.3333333333333333,
              "#9c179e"
             ],
             [
              0.4444444444444444,
              "#bd3786"
             ],
             [
              0.5555555555555556,
              "#d8576b"
             ],
             [
              0.6666666666666666,
              "#ed7953"
             ],
             [
              0.7777777777777778,
              "#fb9f3a"
             ],
             [
              0.8888888888888888,
              "#fdca26"
             ],
             [
              1,
              "#f0f921"
             ]
            ],
            "type": "histogram2dcontour"
           }
          ],
          "mesh3d": [
           {
            "colorbar": {
             "outlinewidth": 0,
             "ticks": ""
            },
            "type": "mesh3d"
           }
          ],
          "parcoords": [
           {
            "line": {
             "colorbar": {
              "outlinewidth": 0,
              "ticks": ""
             }
            },
            "type": "parcoords"
           }
          ],
          "pie": [
           {
            "automargin": true,
            "type": "pie"
           }
          ],
          "scatter": [
           {
            "fillpattern": {
             "fillmode": "overlay",
             "size": 10,
             "solidity": 0.2
            },
            "type": "scatter"
           }
          ],
          "scatter3d": [
           {
            "line": {
             "colorbar": {
              "outlinewidth": 0,
              "ticks": ""
             }
            },
            "marker": {
             "colorbar": {
              "outlinewidth": 0,
              "ticks": ""
             }
            },
            "type": "scatter3d"
           }
          ],
          "scattercarpet": [
           {
            "marker": {
             "colorbar": {
              "outlinewidth": 0,
              "ticks": ""
             }
            },
            "type": "scattercarpet"
           }
          ],
          "scattergeo": [
           {
            "marker": {
             "colorbar": {
              "outlinewidth": 0,
              "ticks": ""
             }
            },
            "type": "scattergeo"
           }
          ],
          "scattergl": [
           {
            "marker": {
             "colorbar": {
              "outlinewidth": 0,
              "ticks": ""
             }
            },
            "type": "scattergl"
           }
          ],
          "scattermapbox": [
           {
            "marker": {
             "colorbar": {
              "outlinewidth": 0,
              "ticks": ""
             }
            },
            "type": "scattermapbox"
           }
          ],
          "scatterpolar": [
           {
            "marker": {
             "colorbar": {
              "outlinewidth": 0,
              "ticks": ""
             }
            },
            "type": "scatterpolar"
           }
          ],
          "scatterpolargl": [
           {
            "marker": {
             "colorbar": {
              "outlinewidth": 0,
              "ticks": ""
             }
            },
            "type": "scatterpolargl"
           }
          ],
          "scatterternary": [
           {
            "marker": {
             "colorbar": {
              "outlinewidth": 0,
              "ticks": ""
             }
            },
            "type": "scatterternary"
           }
          ],
          "surface": [
           {
            "colorbar": {
             "outlinewidth": 0,
             "ticks": ""
            },
            "colorscale": [
             [
              0,
              "#0d0887"
             ],
             [
              0.1111111111111111,
              "#46039f"
             ],
             [
              0.2222222222222222,
              "#7201a8"
             ],
             [
              0.3333333333333333,
              "#9c179e"
             ],
             [
              0.4444444444444444,
              "#bd3786"
             ],
             [
              0.5555555555555556,
              "#d8576b"
             ],
             [
              0.6666666666666666,
              "#ed7953"
             ],
             [
              0.7777777777777778,
              "#fb9f3a"
             ],
             [
              0.8888888888888888,
              "#fdca26"
             ],
             [
              1,
              "#f0f921"
             ]
            ],
            "type": "surface"
           }
          ],
          "table": [
           {
            "cells": {
             "fill": {
              "color": "#EBF0F8"
             },
             "line": {
              "color": "white"
             }
            },
            "header": {
             "fill": {
              "color": "#C8D4E3"
             },
             "line": {
              "color": "white"
             }
            },
            "type": "table"
           }
          ]
         },
         "layout": {
          "annotationdefaults": {
           "arrowcolor": "#2a3f5f",
           "arrowhead": 0,
           "arrowwidth": 1
          },
          "autotypenumbers": "strict",
          "coloraxis": {
           "colorbar": {
            "outlinewidth": 0,
            "ticks": ""
           }
          },
          "colorscale": {
           "diverging": [
            [
             0,
             "#8e0152"
            ],
            [
             0.1,
             "#c51b7d"
            ],
            [
             0.2,
             "#de77ae"
            ],
            [
             0.3,
             "#f1b6da"
            ],
            [
             0.4,
             "#fde0ef"
            ],
            [
             0.5,
             "#f7f7f7"
            ],
            [
             0.6,
             "#e6f5d0"
            ],
            [
             0.7,
             "#b8e186"
            ],
            [
             0.8,
             "#7fbc41"
            ],
            [
             0.9,
             "#4d9221"
            ],
            [
             1,
             "#276419"
            ]
           ],
           "sequential": [
            [
             0,
             "#0d0887"
            ],
            [
             0.1111111111111111,
             "#46039f"
            ],
            [
             0.2222222222222222,
             "#7201a8"
            ],
            [
             0.3333333333333333,
             "#9c179e"
            ],
            [
             0.4444444444444444,
             "#bd3786"
            ],
            [
             0.5555555555555556,
             "#d8576b"
            ],
            [
             0.6666666666666666,
             "#ed7953"
            ],
            [
             0.7777777777777778,
             "#fb9f3a"
            ],
            [
             0.8888888888888888,
             "#fdca26"
            ],
            [
             1,
             "#f0f921"
            ]
           ],
           "sequentialminus": [
            [
             0,
             "#0d0887"
            ],
            [
             0.1111111111111111,
             "#46039f"
            ],
            [
             0.2222222222222222,
             "#7201a8"
            ],
            [
             0.3333333333333333,
             "#9c179e"
            ],
            [
             0.4444444444444444,
             "#bd3786"
            ],
            [
             0.5555555555555556,
             "#d8576b"
            ],
            [
             0.6666666666666666,
             "#ed7953"
            ],
            [
             0.7777777777777778,
             "#fb9f3a"
            ],
            [
             0.8888888888888888,
             "#fdca26"
            ],
            [
             1,
             "#f0f921"
            ]
           ]
          },
          "colorway": [
           "#636efa",
           "#EF553B",
           "#00cc96",
           "#ab63fa",
           "#FFA15A",
           "#19d3f3",
           "#FF6692",
           "#B6E880",
           "#FF97FF",
           "#FECB52"
          ],
          "font": {
           "color": "#2a3f5f"
          },
          "geo": {
           "bgcolor": "white",
           "lakecolor": "white",
           "landcolor": "#E5ECF6",
           "showlakes": true,
           "showland": true,
           "subunitcolor": "white"
          },
          "hoverlabel": {
           "align": "left"
          },
          "hovermode": "closest",
          "mapbox": {
           "style": "light"
          },
          "paper_bgcolor": "white",
          "plot_bgcolor": "#E5ECF6",
          "polar": {
           "angularaxis": {
            "gridcolor": "white",
            "linecolor": "white",
            "ticks": ""
           },
           "bgcolor": "#E5ECF6",
           "radialaxis": {
            "gridcolor": "white",
            "linecolor": "white",
            "ticks": ""
           }
          },
          "scene": {
           "xaxis": {
            "backgroundcolor": "#E5ECF6",
            "gridcolor": "white",
            "gridwidth": 2,
            "linecolor": "white",
            "showbackground": true,
            "ticks": "",
            "zerolinecolor": "white"
           },
           "yaxis": {
            "backgroundcolor": "#E5ECF6",
            "gridcolor": "white",
            "gridwidth": 2,
            "linecolor": "white",
            "showbackground": true,
            "ticks": "",
            "zerolinecolor": "white"
           },
           "zaxis": {
            "backgroundcolor": "#E5ECF6",
            "gridcolor": "white",
            "gridwidth": 2,
            "linecolor": "white",
            "showbackground": true,
            "ticks": "",
            "zerolinecolor": "white"
           }
          },
          "shapedefaults": {
           "line": {
            "color": "#2a3f5f"
           }
          },
          "ternary": {
           "aaxis": {
            "gridcolor": "white",
            "linecolor": "white",
            "ticks": ""
           },
           "baxis": {
            "gridcolor": "white",
            "linecolor": "white",
            "ticks": ""
           },
           "bgcolor": "#E5ECF6",
           "caxis": {
            "gridcolor": "white",
            "linecolor": "white",
            "ticks": ""
           }
          },
          "title": {
           "x": 0.05
          },
          "xaxis": {
           "automargin": true,
           "gridcolor": "white",
           "linecolor": "white",
           "ticks": "",
           "title": {
            "standoff": 15
           },
           "zerolinecolor": "white",
           "zerolinewidth": 2
          },
          "yaxis": {
           "automargin": true,
           "gridcolor": "white",
           "linecolor": "white",
           "ticks": "",
           "title": {
            "standoff": 15
           },
           "zerolinecolor": "white",
           "zerolinewidth": 2
          }
         }
        },
        "title": {
         "text": "Execution time of ForecasterRecursiveMultiSeries_fit_series_is_dict_exog_is_dict"
        },
        "xaxis": {
         "tickangle": -45,
         "tickmode": "array",
         "ticktext": [
          "0.14.0",
          "0.15.1",
          "0.16.0"
         ],
         "tickvals": [
          0,
          1,
          2
         ],
         "title": {
          "text": "skforecast version"
         }
        },
        "yaxis": {
         "title": {
          "text": "Execution time (seconds)"
         }
        }
       }
      }
     },
     "metadata": {},
     "output_type": "display_data"
    },
    {
     "data": {
      "application/vnd.microsoft.datawrangler.viewer.v0+json": {
       "columns": [
        {
         "name": "index",
         "rawType": "int64",
         "type": "integer"
        },
        {
         "name": "forecaster_name",
         "rawType": "object",
         "type": "string"
        },
        {
         "name": "regressor_name",
         "rawType": "object",
         "type": "string"
        },
        {
         "name": "function_name",
         "rawType": "object",
         "type": "string"
        },
        {
         "name": "function_hash",
         "rawType": "object",
         "type": "string"
        },
        {
         "name": "run_time_avg",
         "rawType": "float64",
         "type": "float"
        },
        {
         "name": "run_time_std_dev",
         "rawType": "float64",
         "type": "float"
        },
        {
         "name": "datetime",
         "rawType": "datetime64[ns]",
         "type": "datetime"
        },
        {
         "name": "python_version",
         "rawType": "object",
         "type": "string"
        },
        {
         "name": "skforecast_version",
         "rawType": "object",
         "type": "string"
        },
        {
         "name": "numpy_version",
         "rawType": "object",
         "type": "string"
        },
        {
         "name": "pandas_version",
         "rawType": "object",
         "type": "string"
        },
        {
         "name": "sklearn_version",
         "rawType": "object",
         "type": "string"
        },
        {
         "name": "lightgbm_version",
         "rawType": "object",
         "type": "string"
        },
        {
         "name": "platform",
         "rawType": "object",
         "type": "string"
        },
        {
         "name": "processor",
         "rawType": "object",
         "type": "string"
        },
        {
         "name": "cpu_count",
         "rawType": "int64",
         "type": "integer"
        },
        {
         "name": "memory_gb",
         "rawType": "float64",
         "type": "float"
        }
       ],
       "conversionMethod": "pd.DataFrame",
       "ref": "ced81542-3814-46a8-8c1e-e869282e4faf",
       "rows": [
        [
         "146",
         "ForecasterRecursiveMultiSeries",
         "LGBMRegressor",
         "ForecasterRecursiveMultiSeries__create_train_X_y_series_is_dict_exog_is_dict",
         "583e7d25f58c2314c85ab6c385d879cc",
         "1.9568540800042684",
         "0.0892860391334678",
         "2025-04-24 10:33:25.095433",
         "3.11.10",
         "0.15.1",
         "2.1.3",
         "2.2.3",
         "1.6.1",
         "4.5.0",
         "Windows-10-10.0.19045-SP0",
         "Intel64 Family 6 Model 141 Stepping 1, GenuineIntel",
         "16",
         "34.07"
        ],
        [
         "161",
         "ForecasterRecursiveMultiSeries",
         "LGBMRegressor",
         "ForecasterRecursiveMultiSeries__create_train_X_y_series_is_dict_exog_is_dict",
         "583e7d25f58c2314c85ab6c385d879cc",
         "2.114042080001673",
         "0.05031912893508389",
         "2025-04-24 10:40:35.694818",
         "3.11.10",
         "0.14.0",
         "2.1.3",
         "2.2.3",
         "1.6.1",
         "4.5.0",
         "Windows-10-10.0.19045-SP0",
         "Intel64 Family 6 Model 141 Stepping 1, GenuineIntel",
         "16",
         "34.07"
        ],
        [
         "176",
         "ForecasterRecursiveMultiSeries",
         "LGBMRegressor",
         "ForecasterRecursiveMultiSeries__create_train_X_y_series_is_dict_exog_is_dict",
         "583e7d25f58c2314c85ab6c385d879cc",
         "1.8065841999981784",
         "0.027353000787887376",
         "2025-04-24 11:07:51.060806",
         "3.11.10",
         "0.14.0",
         "2.1.3",
         "2.2.3",
         "1.6.1",
         "4.5.0",
         "Windows-10-10.0.19045-SP0",
         "Intel64 Family 6 Model 141 Stepping 1, GenuineIntel",
         "16",
         "34.07"
        ],
        [
         "191",
         "ForecasterRecursiveMultiSeries",
         "LGBMRegressor",
         "ForecasterRecursiveMultiSeries__create_train_X_y_series_is_dict_exog_is_dict",
         "583e7d25f58c2314c85ab6c385d879cc",
         "1.9541184600035195",
         "0.05092717238393335",
         "2025-04-24 11:16:46.862258",
         "3.11.10",
         "0.15.1",
         "2.1.3",
         "2.2.3",
         "1.6.1",
         "4.5.0",
         "Windows-10-10.0.19045-SP0",
         "Intel64 Family 6 Model 141 Stepping 1, GenuineIntel",
         "16",
         "34.07"
        ],
        [
         "205",
         "ForecasterRecursiveMultiSeries",
         "LGBMRegressor",
         "ForecasterRecursiveMultiSeries__create_train_X_y_series_is_dict_exog_is_dict",
         "583e7d25f58c2314c85ab6c385d879cc",
         "1.6445027800029492",
         "0.049855997242373926",
         "2025-04-24 18:02:03.292269",
         "3.11.10",
         "0.16.0",
         "2.2.5",
         "2.2.3",
         "1.6.1",
         "4.5.0",
         "Windows-10-10.0.19045-SP0",
         "Intel64 Family 6 Model 141 Stepping 1, GenuineIntel",
         "16",
         "34.07"
        ],
        [
         "224",
         "ForecasterRecursiveMultiSeries",
         "LGBMRegressor",
         "ForecasterRecursiveMultiSeries__create_train_X_y_series_is_dict_exog_is_dict",
         "583e7d25f58c2314c85ab6c385d879cc",
         "1.4118191699992166",
         "0.06245935261466561",
         "2025-04-24 18:17:17.012633",
         "3.11.10",
         "0.16.0",
         "2.2.5",
         "2.2.3",
         "1.6.1",
         "4.5.0",
         "Windows-10-10.0.19045-SP0",
         "Intel64 Family 6 Model 141 Stepping 1, GenuineIntel",
         "16",
         "34.07"
        ]
       ],
       "shape": {
        "columns": 17,
        "rows": 6
       }
      },
      "text/html": [
       "<div>\n",
       "<style scoped>\n",
       "    .dataframe tbody tr th:only-of-type {\n",
       "        vertical-align: middle;\n",
       "    }\n",
       "\n",
       "    .dataframe tbody tr th {\n",
       "        vertical-align: top;\n",
       "    }\n",
       "\n",
       "    .dataframe thead th {\n",
       "        text-align: right;\n",
       "    }\n",
       "</style>\n",
       "<table border=\"1\" class=\"dataframe\">\n",
       "  <thead>\n",
       "    <tr style=\"text-align: right;\">\n",
       "      <th></th>\n",
       "      <th>forecaster_name</th>\n",
       "      <th>regressor_name</th>\n",
       "      <th>function_name</th>\n",
       "      <th>function_hash</th>\n",
       "      <th>run_time_avg</th>\n",
       "      <th>run_time_std_dev</th>\n",
       "      <th>datetime</th>\n",
       "      <th>python_version</th>\n",
       "      <th>skforecast_version</th>\n",
       "      <th>numpy_version</th>\n",
       "      <th>pandas_version</th>\n",
       "      <th>sklearn_version</th>\n",
       "      <th>lightgbm_version</th>\n",
       "      <th>platform</th>\n",
       "      <th>processor</th>\n",
       "      <th>cpu_count</th>\n",
       "      <th>memory_gb</th>\n",
       "    </tr>\n",
       "  </thead>\n",
       "  <tbody>\n",
       "    <tr>\n",
       "      <th>146</th>\n",
       "      <td>ForecasterRecursiveMultiSeries</td>\n",
       "      <td>LGBMRegressor</td>\n",
       "      <td>ForecasterRecursiveMultiSeries__create_train_X...</td>\n",
       "      <td>583e7d25f58c2314c85ab6c385d879cc</td>\n",
       "      <td>1.956854</td>\n",
       "      <td>0.089286</td>\n",
       "      <td>2025-04-24 10:33:25.095433</td>\n",
       "      <td>3.11.10</td>\n",
       "      <td>0.15.1</td>\n",
       "      <td>2.1.3</td>\n",
       "      <td>2.2.3</td>\n",
       "      <td>1.6.1</td>\n",
       "      <td>4.5.0</td>\n",
       "      <td>Windows-10-10.0.19045-SP0</td>\n",
       "      <td>Intel64 Family 6 Model 141 Stepping 1, Genuine...</td>\n",
       "      <td>16</td>\n",
       "      <td>34.07</td>\n",
       "    </tr>\n",
       "    <tr>\n",
       "      <th>161</th>\n",
       "      <td>ForecasterRecursiveMultiSeries</td>\n",
       "      <td>LGBMRegressor</td>\n",
       "      <td>ForecasterRecursiveMultiSeries__create_train_X...</td>\n",
       "      <td>583e7d25f58c2314c85ab6c385d879cc</td>\n",
       "      <td>2.114042</td>\n",
       "      <td>0.050319</td>\n",
       "      <td>2025-04-24 10:40:35.694818</td>\n",
       "      <td>3.11.10</td>\n",
       "      <td>0.14.0</td>\n",
       "      <td>2.1.3</td>\n",
       "      <td>2.2.3</td>\n",
       "      <td>1.6.1</td>\n",
       "      <td>4.5.0</td>\n",
       "      <td>Windows-10-10.0.19045-SP0</td>\n",
       "      <td>Intel64 Family 6 Model 141 Stepping 1, Genuine...</td>\n",
       "      <td>16</td>\n",
       "      <td>34.07</td>\n",
       "    </tr>\n",
       "    <tr>\n",
       "      <th>176</th>\n",
       "      <td>ForecasterRecursiveMultiSeries</td>\n",
       "      <td>LGBMRegressor</td>\n",
       "      <td>ForecasterRecursiveMultiSeries__create_train_X...</td>\n",
       "      <td>583e7d25f58c2314c85ab6c385d879cc</td>\n",
       "      <td>1.806584</td>\n",
       "      <td>0.027353</td>\n",
       "      <td>2025-04-24 11:07:51.060806</td>\n",
       "      <td>3.11.10</td>\n",
       "      <td>0.14.0</td>\n",
       "      <td>2.1.3</td>\n",
       "      <td>2.2.3</td>\n",
       "      <td>1.6.1</td>\n",
       "      <td>4.5.0</td>\n",
       "      <td>Windows-10-10.0.19045-SP0</td>\n",
       "      <td>Intel64 Family 6 Model 141 Stepping 1, Genuine...</td>\n",
       "      <td>16</td>\n",
       "      <td>34.07</td>\n",
       "    </tr>\n",
       "    <tr>\n",
       "      <th>191</th>\n",
       "      <td>ForecasterRecursiveMultiSeries</td>\n",
       "      <td>LGBMRegressor</td>\n",
       "      <td>ForecasterRecursiveMultiSeries__create_train_X...</td>\n",
       "      <td>583e7d25f58c2314c85ab6c385d879cc</td>\n",
       "      <td>1.954118</td>\n",
       "      <td>0.050927</td>\n",
       "      <td>2025-04-24 11:16:46.862258</td>\n",
       "      <td>3.11.10</td>\n",
       "      <td>0.15.1</td>\n",
       "      <td>2.1.3</td>\n",
       "      <td>2.2.3</td>\n",
       "      <td>1.6.1</td>\n",
       "      <td>4.5.0</td>\n",
       "      <td>Windows-10-10.0.19045-SP0</td>\n",
       "      <td>Intel64 Family 6 Model 141 Stepping 1, Genuine...</td>\n",
       "      <td>16</td>\n",
       "      <td>34.07</td>\n",
       "    </tr>\n",
       "    <tr>\n",
       "      <th>205</th>\n",
       "      <td>ForecasterRecursiveMultiSeries</td>\n",
       "      <td>LGBMRegressor</td>\n",
       "      <td>ForecasterRecursiveMultiSeries__create_train_X...</td>\n",
       "      <td>583e7d25f58c2314c85ab6c385d879cc</td>\n",
       "      <td>1.644503</td>\n",
       "      <td>0.049856</td>\n",
       "      <td>2025-04-24 18:02:03.292269</td>\n",
       "      <td>3.11.10</td>\n",
       "      <td>0.16.0</td>\n",
       "      <td>2.2.5</td>\n",
       "      <td>2.2.3</td>\n",
       "      <td>1.6.1</td>\n",
       "      <td>4.5.0</td>\n",
       "      <td>Windows-10-10.0.19045-SP0</td>\n",
       "      <td>Intel64 Family 6 Model 141 Stepping 1, Genuine...</td>\n",
       "      <td>16</td>\n",
       "      <td>34.07</td>\n",
       "    </tr>\n",
       "    <tr>\n",
       "      <th>224</th>\n",
       "      <td>ForecasterRecursiveMultiSeries</td>\n",
       "      <td>LGBMRegressor</td>\n",
       "      <td>ForecasterRecursiveMultiSeries__create_train_X...</td>\n",
       "      <td>583e7d25f58c2314c85ab6c385d879cc</td>\n",
       "      <td>1.411819</td>\n",
       "      <td>0.062459</td>\n",
       "      <td>2025-04-24 18:17:17.012633</td>\n",
       "      <td>3.11.10</td>\n",
       "      <td>0.16.0</td>\n",
       "      <td>2.2.5</td>\n",
       "      <td>2.2.3</td>\n",
       "      <td>1.6.1</td>\n",
       "      <td>4.5.0</td>\n",
       "      <td>Windows-10-10.0.19045-SP0</td>\n",
       "      <td>Intel64 Family 6 Model 141 Stepping 1, Genuine...</td>\n",
       "      <td>16</td>\n",
       "      <td>34.07</td>\n",
       "    </tr>\n",
       "  </tbody>\n",
       "</table>\n",
       "</div>"
      ],
      "text/plain": [
       "                    forecaster_name regressor_name  \\\n",
       "146  ForecasterRecursiveMultiSeries  LGBMRegressor   \n",
       "161  ForecasterRecursiveMultiSeries  LGBMRegressor   \n",
       "176  ForecasterRecursiveMultiSeries  LGBMRegressor   \n",
       "191  ForecasterRecursiveMultiSeries  LGBMRegressor   \n",
       "205  ForecasterRecursiveMultiSeries  LGBMRegressor   \n",
       "224  ForecasterRecursiveMultiSeries  LGBMRegressor   \n",
       "\n",
       "                                         function_name  \\\n",
       "146  ForecasterRecursiveMultiSeries__create_train_X...   \n",
       "161  ForecasterRecursiveMultiSeries__create_train_X...   \n",
       "176  ForecasterRecursiveMultiSeries__create_train_X...   \n",
       "191  ForecasterRecursiveMultiSeries__create_train_X...   \n",
       "205  ForecasterRecursiveMultiSeries__create_train_X...   \n",
       "224  ForecasterRecursiveMultiSeries__create_train_X...   \n",
       "\n",
       "                        function_hash  run_time_avg  run_time_std_dev  \\\n",
       "146  583e7d25f58c2314c85ab6c385d879cc      1.956854          0.089286   \n",
       "161  583e7d25f58c2314c85ab6c385d879cc      2.114042          0.050319   \n",
       "176  583e7d25f58c2314c85ab6c385d879cc      1.806584          0.027353   \n",
       "191  583e7d25f58c2314c85ab6c385d879cc      1.954118          0.050927   \n",
       "205  583e7d25f58c2314c85ab6c385d879cc      1.644503          0.049856   \n",
       "224  583e7d25f58c2314c85ab6c385d879cc      1.411819          0.062459   \n",
       "\n",
       "                      datetime python_version skforecast_version  \\\n",
       "146 2025-04-24 10:33:25.095433        3.11.10             0.15.1   \n",
       "161 2025-04-24 10:40:35.694818        3.11.10             0.14.0   \n",
       "176 2025-04-24 11:07:51.060806        3.11.10             0.14.0   \n",
       "191 2025-04-24 11:16:46.862258        3.11.10             0.15.1   \n",
       "205 2025-04-24 18:02:03.292269        3.11.10             0.16.0   \n",
       "224 2025-04-24 18:17:17.012633        3.11.10             0.16.0   \n",
       "\n",
       "    numpy_version pandas_version sklearn_version lightgbm_version  \\\n",
       "146         2.1.3          2.2.3           1.6.1            4.5.0   \n",
       "161         2.1.3          2.2.3           1.6.1            4.5.0   \n",
       "176         2.1.3          2.2.3           1.6.1            4.5.0   \n",
       "191         2.1.3          2.2.3           1.6.1            4.5.0   \n",
       "205         2.2.5          2.2.3           1.6.1            4.5.0   \n",
       "224         2.2.5          2.2.3           1.6.1            4.5.0   \n",
       "\n",
       "                      platform  \\\n",
       "146  Windows-10-10.0.19045-SP0   \n",
       "161  Windows-10-10.0.19045-SP0   \n",
       "176  Windows-10-10.0.19045-SP0   \n",
       "191  Windows-10-10.0.19045-SP0   \n",
       "205  Windows-10-10.0.19045-SP0   \n",
       "224  Windows-10-10.0.19045-SP0   \n",
       "\n",
       "                                             processor  cpu_count  memory_gb  \n",
       "146  Intel64 Family 6 Model 141 Stepping 1, Genuine...         16      34.07  \n",
       "161  Intel64 Family 6 Model 141 Stepping 1, Genuine...         16      34.07  \n",
       "176  Intel64 Family 6 Model 141 Stepping 1, Genuine...         16      34.07  \n",
       "191  Intel64 Family 6 Model 141 Stepping 1, Genuine...         16      34.07  \n",
       "205  Intel64 Family 6 Model 141 Stepping 1, Genuine...         16      34.07  \n",
       "224  Intel64 Family 6 Model 141 Stepping 1, Genuine...         16      34.07  "
      ]
     },
     "metadata": {},
     "output_type": "display_data"
    },
    {
     "data": {
      "application/vnd.plotly.v1+json": {
       "config": {
        "plotlyServerURL": "https://plot.ly"
       },
       "data": [
        {
         "error_y": {
          "array": [
           0.05031912893508389,
           0.027353000787887376
          ],
          "color": "#636EFA",
          "thickness": 1.5,
          "type": "data",
          "visible": true,
          "width": 5
         },
         "hovertemplate": "%{text}<extra></extra>",
         "marker": {
          "color": "#636EFA",
          "opacity": 0.7,
          "size": 10
         },
         "mode": "markers",
         "name": "Run time - 0.14.0",
         "showlegend": true,
         "text": [
          "Forecaster: ForecasterRecursiveMultiSeries<br>Regressor: LGBMRegressor<br>Function: ForecasterRecursiveMultiSeries__create_train_X_y_series_is_dict_exog_is_dict<br>Function_hash: 583e7d25f58c2314c85ab6c385d879cc<br>Datetime: 2025-04-24 10:40:35.694818<br>Python version: 3.11.10<br>skforecast version: 0.14.0<br>numpy version: 2.1.3<br>pandas version: 2.2.3<br>sklearn version: 1.6.1<br>lightgbm version: 4.5.0<br>Platform: Windows-10-10.0.19045-SP0<br>Processor: Intel64 Family 6 Model 141 Stepping 1, GenuineIntel<br>CPU count: 16<br>Memory (GB): 34.07<br>",
          "Forecaster: ForecasterRecursiveMultiSeries<br>Regressor: LGBMRegressor<br>Function: ForecasterRecursiveMultiSeries__create_train_X_y_series_is_dict_exog_is_dict<br>Function_hash: 583e7d25f58c2314c85ab6c385d879cc<br>Datetime: 2025-04-24 11:07:51.060806<br>Python version: 3.11.10<br>skforecast version: 0.14.0<br>numpy version: 2.1.3<br>pandas version: 2.2.3<br>sklearn version: 1.6.1<br>lightgbm version: 4.5.0<br>Platform: Windows-10-10.0.19045-SP0<br>Processor: Intel64 Family 6 Model 141 Stepping 1, GenuineIntel<br>CPU count: 16<br>Memory (GB): 34.07<br>"
         ],
         "type": "scatter",
         "x": [
          -0.013072724445363663,
          0.008194560218857672
         ],
         "y": [
          2.114042080001673,
          1.8065841999981784
         ]
        },
        {
         "error_y": {
          "array": [
           0.0892860391334678,
           0.05092717238393335
          ],
          "color": "#EF553B",
          "thickness": 1.5,
          "type": "data",
          "visible": true,
          "width": 5
         },
         "hovertemplate": "%{text}<extra></extra>",
         "marker": {
          "color": "#EF553B",
          "opacity": 0.7,
          "size": 10
         },
         "mode": "markers",
         "name": "Run time - 0.15.1",
         "showlegend": true,
         "text": [
          "Forecaster: ForecasterRecursiveMultiSeries<br>Regressor: LGBMRegressor<br>Function: ForecasterRecursiveMultiSeries__create_train_X_y_series_is_dict_exog_is_dict<br>Function_hash: 583e7d25f58c2314c85ab6c385d879cc<br>Datetime: 2025-04-24 10:33:25.095433<br>Python version: 3.11.10<br>skforecast version: 0.15.1<br>numpy version: 2.1.3<br>pandas version: 2.2.3<br>sklearn version: 1.6.1<br>lightgbm version: 4.5.0<br>Platform: Windows-10-10.0.19045-SP0<br>Processor: Intel64 Family 6 Model 141 Stepping 1, GenuineIntel<br>CPU count: 16<br>Memory (GB): 34.07<br>",
          "Forecaster: ForecasterRecursiveMultiSeries<br>Regressor: LGBMRegressor<br>Function: ForecasterRecursiveMultiSeries__create_train_X_y_series_is_dict_exog_is_dict<br>Function_hash: 583e7d25f58c2314c85ab6c385d879cc<br>Datetime: 2025-04-24 11:16:46.862258<br>Python version: 3.11.10<br>skforecast version: 0.15.1<br>numpy version: 2.1.3<br>pandas version: 2.2.3<br>sklearn version: 1.6.1<br>lightgbm version: 4.5.0<br>Platform: Windows-10-10.0.19045-SP0<br>Processor: Intel64 Family 6 Model 141 Stepping 1, GenuineIntel<br>CPU count: 16<br>Memory (GB): 34.07<br>"
         ],
         "type": "scatter",
         "x": [
          1.0081293121881658,
          1.0419283988672943
         ],
         "y": [
          1.9568540800042684,
          1.9541184600035195
         ]
        },
        {
         "error_y": {
          "array": [
           0.049855997242373926,
           0.06245935261466561
          ],
          "color": "#00CC96",
          "thickness": 1.5,
          "type": "data",
          "visible": true,
          "width": 5
         },
         "hovertemplate": "%{text}<extra></extra>",
         "marker": {
          "color": "#00CC96",
          "opacity": 0.7,
          "size": 10
         },
         "mode": "markers",
         "name": "Run time - 0.16.0",
         "showlegend": true,
         "text": [
          "Forecaster: ForecasterRecursiveMultiSeries<br>Regressor: LGBMRegressor<br>Function: ForecasterRecursiveMultiSeries__create_train_X_y_series_is_dict_exog_is_dict<br>Function_hash: 583e7d25f58c2314c85ab6c385d879cc<br>Datetime: 2025-04-24 18:02:03.292269<br>Python version: 3.11.10<br>skforecast version: 0.16.0<br>numpy version: 2.2.5<br>pandas version: 2.2.3<br>sklearn version: 1.6.1<br>lightgbm version: 4.5.0<br>Platform: Windows-10-10.0.19045-SP0<br>Processor: Intel64 Family 6 Model 141 Stepping 1, GenuineIntel<br>CPU count: 16<br>Memory (GB): 34.07<br>",
          "Forecaster: ForecasterRecursiveMultiSeries<br>Regressor: LGBMRegressor<br>Function: ForecasterRecursiveMultiSeries__create_train_X_y_series_is_dict_exog_is_dict<br>Function_hash: 583e7d25f58c2314c85ab6c385d879cc<br>Datetime: 2025-04-24 18:17:17.012633<br>Python version: 3.11.10<br>skforecast version: 0.16.0<br>numpy version: 2.2.5<br>pandas version: 2.2.3<br>sklearn version: 1.6.1<br>lightgbm version: 4.5.0<br>Platform: Windows-10-10.0.19045-SP0<br>Processor: Intel64 Family 6 Model 141 Stepping 1, GenuineIntel<br>CPU count: 16<br>Memory (GB): 34.07<br>"
         ],
         "type": "scatter",
         "x": [
          1.9612920605272641,
          1.973403156847176
         ],
         "y": [
          1.6445027800029492,
          1.4118191699992166
         ]
        },
        {
         "line": {
          "color": "black",
          "width": 2
         },
         "marker": {
          "color": "black",
          "size": 8
         },
         "mode": "lines+markers",
         "name": "Median (per version)",
         "type": "scatter",
         "x": [
          0,
          1,
          2
         ],
         "y": [
          1.9603131399999256,
          1.955486270003894,
          1.528160975001083
         ]
        },
        {
         "line": {
          "color": "black",
          "dash": "dash",
          "width": 2
         },
         "marker": {
          "color": "black",
          "size": 8
         },
         "mode": "lines+markers",
         "name": "Mean (per version)",
         "type": "scatter",
         "x": [
          0,
          1,
          2
         ],
         "y": [
          1.9603131399999256,
          1.955486270003894,
          1.528160975001083
         ]
        }
       ],
       "layout": {
        "showlegend": true,
        "template": {
         "data": {
          "bar": [
           {
            "error_x": {
             "color": "#2a3f5f"
            },
            "error_y": {
             "color": "#2a3f5f"
            },
            "marker": {
             "line": {
              "color": "#E5ECF6",
              "width": 0.5
             },
             "pattern": {
              "fillmode": "overlay",
              "size": 10,
              "solidity": 0.2
             }
            },
            "type": "bar"
           }
          ],
          "barpolar": [
           {
            "marker": {
             "line": {
              "color": "#E5ECF6",
              "width": 0.5
             },
             "pattern": {
              "fillmode": "overlay",
              "size": 10,
              "solidity": 0.2
             }
            },
            "type": "barpolar"
           }
          ],
          "carpet": [
           {
            "aaxis": {
             "endlinecolor": "#2a3f5f",
             "gridcolor": "white",
             "linecolor": "white",
             "minorgridcolor": "white",
             "startlinecolor": "#2a3f5f"
            },
            "baxis": {
             "endlinecolor": "#2a3f5f",
             "gridcolor": "white",
             "linecolor": "white",
             "minorgridcolor": "white",
             "startlinecolor": "#2a3f5f"
            },
            "type": "carpet"
           }
          ],
          "choropleth": [
           {
            "colorbar": {
             "outlinewidth": 0,
             "ticks": ""
            },
            "type": "choropleth"
           }
          ],
          "contour": [
           {
            "colorbar": {
             "outlinewidth": 0,
             "ticks": ""
            },
            "colorscale": [
             [
              0,
              "#0d0887"
             ],
             [
              0.1111111111111111,
              "#46039f"
             ],
             [
              0.2222222222222222,
              "#7201a8"
             ],
             [
              0.3333333333333333,
              "#9c179e"
             ],
             [
              0.4444444444444444,
              "#bd3786"
             ],
             [
              0.5555555555555556,
              "#d8576b"
             ],
             [
              0.6666666666666666,
              "#ed7953"
             ],
             [
              0.7777777777777778,
              "#fb9f3a"
             ],
             [
              0.8888888888888888,
              "#fdca26"
             ],
             [
              1,
              "#f0f921"
             ]
            ],
            "type": "contour"
           }
          ],
          "contourcarpet": [
           {
            "colorbar": {
             "outlinewidth": 0,
             "ticks": ""
            },
            "type": "contourcarpet"
           }
          ],
          "heatmap": [
           {
            "colorbar": {
             "outlinewidth": 0,
             "ticks": ""
            },
            "colorscale": [
             [
              0,
              "#0d0887"
             ],
             [
              0.1111111111111111,
              "#46039f"
             ],
             [
              0.2222222222222222,
              "#7201a8"
             ],
             [
              0.3333333333333333,
              "#9c179e"
             ],
             [
              0.4444444444444444,
              "#bd3786"
             ],
             [
              0.5555555555555556,
              "#d8576b"
             ],
             [
              0.6666666666666666,
              "#ed7953"
             ],
             [
              0.7777777777777778,
              "#fb9f3a"
             ],
             [
              0.8888888888888888,
              "#fdca26"
             ],
             [
              1,
              "#f0f921"
             ]
            ],
            "type": "heatmap"
           }
          ],
          "heatmapgl": [
           {
            "colorbar": {
             "outlinewidth": 0,
             "ticks": ""
            },
            "colorscale": [
             [
              0,
              "#0d0887"
             ],
             [
              0.1111111111111111,
              "#46039f"
             ],
             [
              0.2222222222222222,
              "#7201a8"
             ],
             [
              0.3333333333333333,
              "#9c179e"
             ],
             [
              0.4444444444444444,
              "#bd3786"
             ],
             [
              0.5555555555555556,
              "#d8576b"
             ],
             [
              0.6666666666666666,
              "#ed7953"
             ],
             [
              0.7777777777777778,
              "#fb9f3a"
             ],
             [
              0.8888888888888888,
              "#fdca26"
             ],
             [
              1,
              "#f0f921"
             ]
            ],
            "type": "heatmapgl"
           }
          ],
          "histogram": [
           {
            "marker": {
             "pattern": {
              "fillmode": "overlay",
              "size": 10,
              "solidity": 0.2
             }
            },
            "type": "histogram"
           }
          ],
          "histogram2d": [
           {
            "colorbar": {
             "outlinewidth": 0,
             "ticks": ""
            },
            "colorscale": [
             [
              0,
              "#0d0887"
             ],
             [
              0.1111111111111111,
              "#46039f"
             ],
             [
              0.2222222222222222,
              "#7201a8"
             ],
             [
              0.3333333333333333,
              "#9c179e"
             ],
             [
              0.4444444444444444,
              "#bd3786"
             ],
             [
              0.5555555555555556,
              "#d8576b"
             ],
             [
              0.6666666666666666,
              "#ed7953"
             ],
             [
              0.7777777777777778,
              "#fb9f3a"
             ],
             [
              0.8888888888888888,
              "#fdca26"
             ],
             [
              1,
              "#f0f921"
             ]
            ],
            "type": "histogram2d"
           }
          ],
          "histogram2dcontour": [
           {
            "colorbar": {
             "outlinewidth": 0,
             "ticks": ""
            },
            "colorscale": [
             [
              0,
              "#0d0887"
             ],
             [
              0.1111111111111111,
              "#46039f"
             ],
             [
              0.2222222222222222,
              "#7201a8"
             ],
             [
              0.3333333333333333,
              "#9c179e"
             ],
             [
              0.4444444444444444,
              "#bd3786"
             ],
             [
              0.5555555555555556,
              "#d8576b"
             ],
             [
              0.6666666666666666,
              "#ed7953"
             ],
             [
              0.7777777777777778,
              "#fb9f3a"
             ],
             [
              0.8888888888888888,
              "#fdca26"
             ],
             [
              1,
              "#f0f921"
             ]
            ],
            "type": "histogram2dcontour"
           }
          ],
          "mesh3d": [
           {
            "colorbar": {
             "outlinewidth": 0,
             "ticks": ""
            },
            "type": "mesh3d"
           }
          ],
          "parcoords": [
           {
            "line": {
             "colorbar": {
              "outlinewidth": 0,
              "ticks": ""
             }
            },
            "type": "parcoords"
           }
          ],
          "pie": [
           {
            "automargin": true,
            "type": "pie"
           }
          ],
          "scatter": [
           {
            "fillpattern": {
             "fillmode": "overlay",
             "size": 10,
             "solidity": 0.2
            },
            "type": "scatter"
           }
          ],
          "scatter3d": [
           {
            "line": {
             "colorbar": {
              "outlinewidth": 0,
              "ticks": ""
             }
            },
            "marker": {
             "colorbar": {
              "outlinewidth": 0,
              "ticks": ""
             }
            },
            "type": "scatter3d"
           }
          ],
          "scattercarpet": [
           {
            "marker": {
             "colorbar": {
              "outlinewidth": 0,
              "ticks": ""
             }
            },
            "type": "scattercarpet"
           }
          ],
          "scattergeo": [
           {
            "marker": {
             "colorbar": {
              "outlinewidth": 0,
              "ticks": ""
             }
            },
            "type": "scattergeo"
           }
          ],
          "scattergl": [
           {
            "marker": {
             "colorbar": {
              "outlinewidth": 0,
              "ticks": ""
             }
            },
            "type": "scattergl"
           }
          ],
          "scattermapbox": [
           {
            "marker": {
             "colorbar": {
              "outlinewidth": 0,
              "ticks": ""
             }
            },
            "type": "scattermapbox"
           }
          ],
          "scatterpolar": [
           {
            "marker": {
             "colorbar": {
              "outlinewidth": 0,
              "ticks": ""
             }
            },
            "type": "scatterpolar"
           }
          ],
          "scatterpolargl": [
           {
            "marker": {
             "colorbar": {
              "outlinewidth": 0,
              "ticks": ""
             }
            },
            "type": "scatterpolargl"
           }
          ],
          "scatterternary": [
           {
            "marker": {
             "colorbar": {
              "outlinewidth": 0,
              "ticks": ""
             }
            },
            "type": "scatterternary"
           }
          ],
          "surface": [
           {
            "colorbar": {
             "outlinewidth": 0,
             "ticks": ""
            },
            "colorscale": [
             [
              0,
              "#0d0887"
             ],
             [
              0.1111111111111111,
              "#46039f"
             ],
             [
              0.2222222222222222,
              "#7201a8"
             ],
             [
              0.3333333333333333,
              "#9c179e"
             ],
             [
              0.4444444444444444,
              "#bd3786"
             ],
             [
              0.5555555555555556,
              "#d8576b"
             ],
             [
              0.6666666666666666,
              "#ed7953"
             ],
             [
              0.7777777777777778,
              "#fb9f3a"
             ],
             [
              0.8888888888888888,
              "#fdca26"
             ],
             [
              1,
              "#f0f921"
             ]
            ],
            "type": "surface"
           }
          ],
          "table": [
           {
            "cells": {
             "fill": {
              "color": "#EBF0F8"
             },
             "line": {
              "color": "white"
             }
            },
            "header": {
             "fill": {
              "color": "#C8D4E3"
             },
             "line": {
              "color": "white"
             }
            },
            "type": "table"
           }
          ]
         },
         "layout": {
          "annotationdefaults": {
           "arrowcolor": "#2a3f5f",
           "arrowhead": 0,
           "arrowwidth": 1
          },
          "autotypenumbers": "strict",
          "coloraxis": {
           "colorbar": {
            "outlinewidth": 0,
            "ticks": ""
           }
          },
          "colorscale": {
           "diverging": [
            [
             0,
             "#8e0152"
            ],
            [
             0.1,
             "#c51b7d"
            ],
            [
             0.2,
             "#de77ae"
            ],
            [
             0.3,
             "#f1b6da"
            ],
            [
             0.4,
             "#fde0ef"
            ],
            [
             0.5,
             "#f7f7f7"
            ],
            [
             0.6,
             "#e6f5d0"
            ],
            [
             0.7,
             "#b8e186"
            ],
            [
             0.8,
             "#7fbc41"
            ],
            [
             0.9,
             "#4d9221"
            ],
            [
             1,
             "#276419"
            ]
           ],
           "sequential": [
            [
             0,
             "#0d0887"
            ],
            [
             0.1111111111111111,
             "#46039f"
            ],
            [
             0.2222222222222222,
             "#7201a8"
            ],
            [
             0.3333333333333333,
             "#9c179e"
            ],
            [
             0.4444444444444444,
             "#bd3786"
            ],
            [
             0.5555555555555556,
             "#d8576b"
            ],
            [
             0.6666666666666666,
             "#ed7953"
            ],
            [
             0.7777777777777778,
             "#fb9f3a"
            ],
            [
             0.8888888888888888,
             "#fdca26"
            ],
            [
             1,
             "#f0f921"
            ]
           ],
           "sequentialminus": [
            [
             0,
             "#0d0887"
            ],
            [
             0.1111111111111111,
             "#46039f"
            ],
            [
             0.2222222222222222,
             "#7201a8"
            ],
            [
             0.3333333333333333,
             "#9c179e"
            ],
            [
             0.4444444444444444,
             "#bd3786"
            ],
            [
             0.5555555555555556,
             "#d8576b"
            ],
            [
             0.6666666666666666,
             "#ed7953"
            ],
            [
             0.7777777777777778,
             "#fb9f3a"
            ],
            [
             0.8888888888888888,
             "#fdca26"
            ],
            [
             1,
             "#f0f921"
            ]
           ]
          },
          "colorway": [
           "#636efa",
           "#EF553B",
           "#00cc96",
           "#ab63fa",
           "#FFA15A",
           "#19d3f3",
           "#FF6692",
           "#B6E880",
           "#FF97FF",
           "#FECB52"
          ],
          "font": {
           "color": "#2a3f5f"
          },
          "geo": {
           "bgcolor": "white",
           "lakecolor": "white",
           "landcolor": "#E5ECF6",
           "showlakes": true,
           "showland": true,
           "subunitcolor": "white"
          },
          "hoverlabel": {
           "align": "left"
          },
          "hovermode": "closest",
          "mapbox": {
           "style": "light"
          },
          "paper_bgcolor": "white",
          "plot_bgcolor": "#E5ECF6",
          "polar": {
           "angularaxis": {
            "gridcolor": "white",
            "linecolor": "white",
            "ticks": ""
           },
           "bgcolor": "#E5ECF6",
           "radialaxis": {
            "gridcolor": "white",
            "linecolor": "white",
            "ticks": ""
           }
          },
          "scene": {
           "xaxis": {
            "backgroundcolor": "#E5ECF6",
            "gridcolor": "white",
            "gridwidth": 2,
            "linecolor": "white",
            "showbackground": true,
            "ticks": "",
            "zerolinecolor": "white"
           },
           "yaxis": {
            "backgroundcolor": "#E5ECF6",
            "gridcolor": "white",
            "gridwidth": 2,
            "linecolor": "white",
            "showbackground": true,
            "ticks": "",
            "zerolinecolor": "white"
           },
           "zaxis": {
            "backgroundcolor": "#E5ECF6",
            "gridcolor": "white",
            "gridwidth": 2,
            "linecolor": "white",
            "showbackground": true,
            "ticks": "",
            "zerolinecolor": "white"
           }
          },
          "shapedefaults": {
           "line": {
            "color": "#2a3f5f"
           }
          },
          "ternary": {
           "aaxis": {
            "gridcolor": "white",
            "linecolor": "white",
            "ticks": ""
           },
           "baxis": {
            "gridcolor": "white",
            "linecolor": "white",
            "ticks": ""
           },
           "bgcolor": "#E5ECF6",
           "caxis": {
            "gridcolor": "white",
            "linecolor": "white",
            "ticks": ""
           }
          },
          "title": {
           "x": 0.05
          },
          "xaxis": {
           "automargin": true,
           "gridcolor": "white",
           "linecolor": "white",
           "ticks": "",
           "title": {
            "standoff": 15
           },
           "zerolinecolor": "white",
           "zerolinewidth": 2
          },
          "yaxis": {
           "automargin": true,
           "gridcolor": "white",
           "linecolor": "white",
           "ticks": "",
           "title": {
            "standoff": 15
           },
           "zerolinecolor": "white",
           "zerolinewidth": 2
          }
         }
        },
        "title": {
         "text": "Execution time of ForecasterRecursiveMultiSeries__create_train_X_y_series_is_dict_exog_is_dict"
        },
        "xaxis": {
         "tickangle": -45,
         "tickmode": "array",
         "ticktext": [
          "0.14.0",
          "0.15.1",
          "0.16.0"
         ],
         "tickvals": [
          0,
          1,
          2
         ],
         "title": {
          "text": "skforecast version"
         }
        },
        "yaxis": {
         "title": {
          "text": "Execution time (seconds)"
         }
        }
       }
      }
     },
     "metadata": {},
     "output_type": "display_data"
    },
    {
     "data": {
      "application/vnd.microsoft.datawrangler.viewer.v0+json": {
       "columns": [
        {
         "name": "index",
         "rawType": "int64",
         "type": "integer"
        },
        {
         "name": "forecaster_name",
         "rawType": "object",
         "type": "string"
        },
        {
         "name": "regressor_name",
         "rawType": "object",
         "type": "string"
        },
        {
         "name": "function_name",
         "rawType": "object",
         "type": "string"
        },
        {
         "name": "function_hash",
         "rawType": "object",
         "type": "string"
        },
        {
         "name": "run_time_avg",
         "rawType": "float64",
         "type": "float"
        },
        {
         "name": "run_time_std_dev",
         "rawType": "float64",
         "type": "float"
        },
        {
         "name": "datetime",
         "rawType": "datetime64[ns]",
         "type": "datetime"
        },
        {
         "name": "python_version",
         "rawType": "object",
         "type": "string"
        },
        {
         "name": "skforecast_version",
         "rawType": "object",
         "type": "string"
        },
        {
         "name": "numpy_version",
         "rawType": "object",
         "type": "string"
        },
        {
         "name": "pandas_version",
         "rawType": "object",
         "type": "string"
        },
        {
         "name": "sklearn_version",
         "rawType": "object",
         "type": "string"
        },
        {
         "name": "lightgbm_version",
         "rawType": "object",
         "type": "string"
        },
        {
         "name": "platform",
         "rawType": "object",
         "type": "string"
        },
        {
         "name": "processor",
         "rawType": "object",
         "type": "string"
        },
        {
         "name": "cpu_count",
         "rawType": "int64",
         "type": "integer"
        },
        {
         "name": "memory_gb",
         "rawType": "float64",
         "type": "float"
        }
       ],
       "conversionMethod": "pd.DataFrame",
       "ref": "d929b66b-c4f3-43b3-a9de-d5d5f0e24819",
       "rows": [
        [
         "147",
         "ForecasterRecursiveMultiSeries",
         "LGBMRegressor",
         "ForecasterRecursiveMultiSeries_fit_series_is_dataframe_no_exog",
         "aa35b8ba0c0839021a95e5ba0786a67e",
         "8.617345859998021",
         "0.2763251654463627",
         "2025-04-24 10:34:08.214428",
         "3.11.10",
         "0.15.1",
         "2.1.3",
         "2.2.3",
         "1.6.1",
         "4.5.0",
         "Windows-10-10.0.19045-SP0",
         "Intel64 Family 6 Model 141 Stepping 1, GenuineIntel",
         "16",
         "34.07"
        ],
        [
         "162",
         "ForecasterRecursiveMultiSeries",
         "LGBMRegressor",
         "ForecasterRecursiveMultiSeries_fit_series_is_dataframe_no_exog",
         "aa35b8ba0c0839021a95e5ba0786a67e",
         "6.477069439998013",
         "0.4048657496642895",
         "2025-04-24 10:41:08.105175",
         "3.11.10",
         "0.14.0",
         "2.1.3",
         "2.2.3",
         "1.6.1",
         "4.5.0",
         "Windows-10-10.0.19045-SP0",
         "Intel64 Family 6 Model 141 Stepping 1, GenuineIntel",
         "16",
         "34.07"
        ],
        [
         "177",
         "ForecasterRecursiveMultiSeries",
         "LGBMRegressor",
         "ForecasterRecursiveMultiSeries_fit_series_is_dataframe_no_exog",
         "aa35b8ba0c0839021a95e5ba0786a67e",
         "6.158462219999637",
         "0.05550812315875405",
         "2025-04-24 11:08:21.874210",
         "3.11.10",
         "0.14.0",
         "2.1.3",
         "2.2.3",
         "1.6.1",
         "4.5.0",
         "Windows-10-10.0.19045-SP0",
         "Intel64 Family 6 Model 141 Stepping 1, GenuineIntel",
         "16",
         "34.07"
        ],
        [
         "192",
         "ForecasterRecursiveMultiSeries",
         "LGBMRegressor",
         "ForecasterRecursiveMultiSeries_fit_series_is_dataframe_no_exog",
         "aa35b8ba0c0839021a95e5ba0786a67e",
         "7.924298679997446",
         "0.06610771986599208",
         "2025-04-24 11:17:26.506134",
         "3.11.10",
         "0.15.1",
         "2.1.3",
         "2.2.3",
         "1.6.1",
         "4.5.0",
         "Windows-10-10.0.19045-SP0",
         "Intel64 Family 6 Model 141 Stepping 1, GenuineIntel",
         "16",
         "34.07"
        ],
        [
         "209",
         "ForecasterRecursiveMultiSeries",
         "LGBMRegressor",
         "ForecasterRecursiveMultiSeries_fit_series_is_dataframe_no_exog",
         "aa35b8ba0c0839021a95e5ba0786a67e",
         "6.53775350000069",
         "0.06416420638887776",
         "2025-04-24 18:03:39.185807",
         "3.11.10",
         "0.16.0",
         "2.2.5",
         "2.2.3",
         "1.6.1",
         "4.5.0",
         "Windows-10-10.0.19045-SP0",
         "Intel64 Family 6 Model 141 Stepping 1, GenuineIntel",
         "16",
         "34.07"
        ],
        [
         "229",
         "ForecasterRecursiveMultiSeries",
         "LGBMRegressor",
         "ForecasterRecursiveMultiSeries_fit_series_is_dataframe_no_exog",
         "aa35b8ba0c0839021a95e5ba0786a67e",
         "5.988161959999706",
         "0.09847529397599804",
         "2025-04-24 18:18:43.029344",
         "3.11.10",
         "0.16.0",
         "2.2.5",
         "2.2.3",
         "1.6.1",
         "4.5.0",
         "Windows-10-10.0.19045-SP0",
         "Intel64 Family 6 Model 141 Stepping 1, GenuineIntel",
         "16",
         "34.07"
        ]
       ],
       "shape": {
        "columns": 17,
        "rows": 6
       }
      },
      "text/html": [
       "<div>\n",
       "<style scoped>\n",
       "    .dataframe tbody tr th:only-of-type {\n",
       "        vertical-align: middle;\n",
       "    }\n",
       "\n",
       "    .dataframe tbody tr th {\n",
       "        vertical-align: top;\n",
       "    }\n",
       "\n",
       "    .dataframe thead th {\n",
       "        text-align: right;\n",
       "    }\n",
       "</style>\n",
       "<table border=\"1\" class=\"dataframe\">\n",
       "  <thead>\n",
       "    <tr style=\"text-align: right;\">\n",
       "      <th></th>\n",
       "      <th>forecaster_name</th>\n",
       "      <th>regressor_name</th>\n",
       "      <th>function_name</th>\n",
       "      <th>function_hash</th>\n",
       "      <th>run_time_avg</th>\n",
       "      <th>run_time_std_dev</th>\n",
       "      <th>datetime</th>\n",
       "      <th>python_version</th>\n",
       "      <th>skforecast_version</th>\n",
       "      <th>numpy_version</th>\n",
       "      <th>pandas_version</th>\n",
       "      <th>sklearn_version</th>\n",
       "      <th>lightgbm_version</th>\n",
       "      <th>platform</th>\n",
       "      <th>processor</th>\n",
       "      <th>cpu_count</th>\n",
       "      <th>memory_gb</th>\n",
       "    </tr>\n",
       "  </thead>\n",
       "  <tbody>\n",
       "    <tr>\n",
       "      <th>147</th>\n",
       "      <td>ForecasterRecursiveMultiSeries</td>\n",
       "      <td>LGBMRegressor</td>\n",
       "      <td>ForecasterRecursiveMultiSeries_fit_series_is_d...</td>\n",
       "      <td>aa35b8ba0c0839021a95e5ba0786a67e</td>\n",
       "      <td>8.617346</td>\n",
       "      <td>0.276325</td>\n",
       "      <td>2025-04-24 10:34:08.214428</td>\n",
       "      <td>3.11.10</td>\n",
       "      <td>0.15.1</td>\n",
       "      <td>2.1.3</td>\n",
       "      <td>2.2.3</td>\n",
       "      <td>1.6.1</td>\n",
       "      <td>4.5.0</td>\n",
       "      <td>Windows-10-10.0.19045-SP0</td>\n",
       "      <td>Intel64 Family 6 Model 141 Stepping 1, Genuine...</td>\n",
       "      <td>16</td>\n",
       "      <td>34.07</td>\n",
       "    </tr>\n",
       "    <tr>\n",
       "      <th>162</th>\n",
       "      <td>ForecasterRecursiveMultiSeries</td>\n",
       "      <td>LGBMRegressor</td>\n",
       "      <td>ForecasterRecursiveMultiSeries_fit_series_is_d...</td>\n",
       "      <td>aa35b8ba0c0839021a95e5ba0786a67e</td>\n",
       "      <td>6.477069</td>\n",
       "      <td>0.404866</td>\n",
       "      <td>2025-04-24 10:41:08.105175</td>\n",
       "      <td>3.11.10</td>\n",
       "      <td>0.14.0</td>\n",
       "      <td>2.1.3</td>\n",
       "      <td>2.2.3</td>\n",
       "      <td>1.6.1</td>\n",
       "      <td>4.5.0</td>\n",
       "      <td>Windows-10-10.0.19045-SP0</td>\n",
       "      <td>Intel64 Family 6 Model 141 Stepping 1, Genuine...</td>\n",
       "      <td>16</td>\n",
       "      <td>34.07</td>\n",
       "    </tr>\n",
       "    <tr>\n",
       "      <th>177</th>\n",
       "      <td>ForecasterRecursiveMultiSeries</td>\n",
       "      <td>LGBMRegressor</td>\n",
       "      <td>ForecasterRecursiveMultiSeries_fit_series_is_d...</td>\n",
       "      <td>aa35b8ba0c0839021a95e5ba0786a67e</td>\n",
       "      <td>6.158462</td>\n",
       "      <td>0.055508</td>\n",
       "      <td>2025-04-24 11:08:21.874210</td>\n",
       "      <td>3.11.10</td>\n",
       "      <td>0.14.0</td>\n",
       "      <td>2.1.3</td>\n",
       "      <td>2.2.3</td>\n",
       "      <td>1.6.1</td>\n",
       "      <td>4.5.0</td>\n",
       "      <td>Windows-10-10.0.19045-SP0</td>\n",
       "      <td>Intel64 Family 6 Model 141 Stepping 1, Genuine...</td>\n",
       "      <td>16</td>\n",
       "      <td>34.07</td>\n",
       "    </tr>\n",
       "    <tr>\n",
       "      <th>192</th>\n",
       "      <td>ForecasterRecursiveMultiSeries</td>\n",
       "      <td>LGBMRegressor</td>\n",
       "      <td>ForecasterRecursiveMultiSeries_fit_series_is_d...</td>\n",
       "      <td>aa35b8ba0c0839021a95e5ba0786a67e</td>\n",
       "      <td>7.924299</td>\n",
       "      <td>0.066108</td>\n",
       "      <td>2025-04-24 11:17:26.506134</td>\n",
       "      <td>3.11.10</td>\n",
       "      <td>0.15.1</td>\n",
       "      <td>2.1.3</td>\n",
       "      <td>2.2.3</td>\n",
       "      <td>1.6.1</td>\n",
       "      <td>4.5.0</td>\n",
       "      <td>Windows-10-10.0.19045-SP0</td>\n",
       "      <td>Intel64 Family 6 Model 141 Stepping 1, Genuine...</td>\n",
       "      <td>16</td>\n",
       "      <td>34.07</td>\n",
       "    </tr>\n",
       "    <tr>\n",
       "      <th>209</th>\n",
       "      <td>ForecasterRecursiveMultiSeries</td>\n",
       "      <td>LGBMRegressor</td>\n",
       "      <td>ForecasterRecursiveMultiSeries_fit_series_is_d...</td>\n",
       "      <td>aa35b8ba0c0839021a95e5ba0786a67e</td>\n",
       "      <td>6.537754</td>\n",
       "      <td>0.064164</td>\n",
       "      <td>2025-04-24 18:03:39.185807</td>\n",
       "      <td>3.11.10</td>\n",
       "      <td>0.16.0</td>\n",
       "      <td>2.2.5</td>\n",
       "      <td>2.2.3</td>\n",
       "      <td>1.6.1</td>\n",
       "      <td>4.5.0</td>\n",
       "      <td>Windows-10-10.0.19045-SP0</td>\n",
       "      <td>Intel64 Family 6 Model 141 Stepping 1, Genuine...</td>\n",
       "      <td>16</td>\n",
       "      <td>34.07</td>\n",
       "    </tr>\n",
       "    <tr>\n",
       "      <th>229</th>\n",
       "      <td>ForecasterRecursiveMultiSeries</td>\n",
       "      <td>LGBMRegressor</td>\n",
       "      <td>ForecasterRecursiveMultiSeries_fit_series_is_d...</td>\n",
       "      <td>aa35b8ba0c0839021a95e5ba0786a67e</td>\n",
       "      <td>5.988162</td>\n",
       "      <td>0.098475</td>\n",
       "      <td>2025-04-24 18:18:43.029344</td>\n",
       "      <td>3.11.10</td>\n",
       "      <td>0.16.0</td>\n",
       "      <td>2.2.5</td>\n",
       "      <td>2.2.3</td>\n",
       "      <td>1.6.1</td>\n",
       "      <td>4.5.0</td>\n",
       "      <td>Windows-10-10.0.19045-SP0</td>\n",
       "      <td>Intel64 Family 6 Model 141 Stepping 1, Genuine...</td>\n",
       "      <td>16</td>\n",
       "      <td>34.07</td>\n",
       "    </tr>\n",
       "  </tbody>\n",
       "</table>\n",
       "</div>"
      ],
      "text/plain": [
       "                    forecaster_name regressor_name  \\\n",
       "147  ForecasterRecursiveMultiSeries  LGBMRegressor   \n",
       "162  ForecasterRecursiveMultiSeries  LGBMRegressor   \n",
       "177  ForecasterRecursiveMultiSeries  LGBMRegressor   \n",
       "192  ForecasterRecursiveMultiSeries  LGBMRegressor   \n",
       "209  ForecasterRecursiveMultiSeries  LGBMRegressor   \n",
       "229  ForecasterRecursiveMultiSeries  LGBMRegressor   \n",
       "\n",
       "                                         function_name  \\\n",
       "147  ForecasterRecursiveMultiSeries_fit_series_is_d...   \n",
       "162  ForecasterRecursiveMultiSeries_fit_series_is_d...   \n",
       "177  ForecasterRecursiveMultiSeries_fit_series_is_d...   \n",
       "192  ForecasterRecursiveMultiSeries_fit_series_is_d...   \n",
       "209  ForecasterRecursiveMultiSeries_fit_series_is_d...   \n",
       "229  ForecasterRecursiveMultiSeries_fit_series_is_d...   \n",
       "\n",
       "                        function_hash  run_time_avg  run_time_std_dev  \\\n",
       "147  aa35b8ba0c0839021a95e5ba0786a67e      8.617346          0.276325   \n",
       "162  aa35b8ba0c0839021a95e5ba0786a67e      6.477069          0.404866   \n",
       "177  aa35b8ba0c0839021a95e5ba0786a67e      6.158462          0.055508   \n",
       "192  aa35b8ba0c0839021a95e5ba0786a67e      7.924299          0.066108   \n",
       "209  aa35b8ba0c0839021a95e5ba0786a67e      6.537754          0.064164   \n",
       "229  aa35b8ba0c0839021a95e5ba0786a67e      5.988162          0.098475   \n",
       "\n",
       "                      datetime python_version skforecast_version  \\\n",
       "147 2025-04-24 10:34:08.214428        3.11.10             0.15.1   \n",
       "162 2025-04-24 10:41:08.105175        3.11.10             0.14.0   \n",
       "177 2025-04-24 11:08:21.874210        3.11.10             0.14.0   \n",
       "192 2025-04-24 11:17:26.506134        3.11.10             0.15.1   \n",
       "209 2025-04-24 18:03:39.185807        3.11.10             0.16.0   \n",
       "229 2025-04-24 18:18:43.029344        3.11.10             0.16.0   \n",
       "\n",
       "    numpy_version pandas_version sklearn_version lightgbm_version  \\\n",
       "147         2.1.3          2.2.3           1.6.1            4.5.0   \n",
       "162         2.1.3          2.2.3           1.6.1            4.5.0   \n",
       "177         2.1.3          2.2.3           1.6.1            4.5.0   \n",
       "192         2.1.3          2.2.3           1.6.1            4.5.0   \n",
       "209         2.2.5          2.2.3           1.6.1            4.5.0   \n",
       "229         2.2.5          2.2.3           1.6.1            4.5.0   \n",
       "\n",
       "                      platform  \\\n",
       "147  Windows-10-10.0.19045-SP0   \n",
       "162  Windows-10-10.0.19045-SP0   \n",
       "177  Windows-10-10.0.19045-SP0   \n",
       "192  Windows-10-10.0.19045-SP0   \n",
       "209  Windows-10-10.0.19045-SP0   \n",
       "229  Windows-10-10.0.19045-SP0   \n",
       "\n",
       "                                             processor  cpu_count  memory_gb  \n",
       "147  Intel64 Family 6 Model 141 Stepping 1, Genuine...         16      34.07  \n",
       "162  Intel64 Family 6 Model 141 Stepping 1, Genuine...         16      34.07  \n",
       "177  Intel64 Family 6 Model 141 Stepping 1, Genuine...         16      34.07  \n",
       "192  Intel64 Family 6 Model 141 Stepping 1, Genuine...         16      34.07  \n",
       "209  Intel64 Family 6 Model 141 Stepping 1, Genuine...         16      34.07  \n",
       "229  Intel64 Family 6 Model 141 Stepping 1, Genuine...         16      34.07  "
      ]
     },
     "metadata": {},
     "output_type": "display_data"
    },
    {
     "data": {
      "application/vnd.plotly.v1+json": {
       "config": {
        "plotlyServerURL": "https://plot.ly"
       },
       "data": [
        {
         "error_y": {
          "array": [
           0.4048657496642895,
           0.05550812315875405
          ],
          "color": "#636EFA",
          "thickness": 1.5,
          "type": "data",
          "visible": true,
          "width": 5
         },
         "hovertemplate": "%{text}<extra></extra>",
         "marker": {
          "color": "#636EFA",
          "opacity": 0.7,
          "size": 10
         },
         "mode": "markers",
         "name": "Run time - 0.14.0",
         "showlegend": true,
         "text": [
          "Forecaster: ForecasterRecursiveMultiSeries<br>Regressor: LGBMRegressor<br>Function: ForecasterRecursiveMultiSeries_fit_series_is_dataframe_no_exog<br>Function_hash: aa35b8ba0c0839021a95e5ba0786a67e<br>Datetime: 2025-04-24 10:41:08.105175<br>Python version: 3.11.10<br>skforecast version: 0.14.0<br>numpy version: 2.1.3<br>pandas version: 2.2.3<br>sklearn version: 1.6.1<br>lightgbm version: 4.5.0<br>Platform: Windows-10-10.0.19045-SP0<br>Processor: Intel64 Family 6 Model 141 Stepping 1, GenuineIntel<br>CPU count: 16<br>Memory (GB): 34.07<br>",
          "Forecaster: ForecasterRecursiveMultiSeries<br>Regressor: LGBMRegressor<br>Function: ForecasterRecursiveMultiSeries_fit_series_is_dataframe_no_exog<br>Function_hash: aa35b8ba0c0839021a95e5ba0786a67e<br>Datetime: 2025-04-24 11:08:21.874210<br>Python version: 3.11.10<br>skforecast version: 0.14.0<br>numpy version: 2.1.3<br>pandas version: 2.2.3<br>sklearn version: 1.6.1<br>lightgbm version: 4.5.0<br>Platform: Windows-10-10.0.19045-SP0<br>Processor: Intel64 Family 6 Model 141 Stepping 1, GenuineIntel<br>CPU count: 16<br>Memory (GB): 34.07<br>"
         ],
         "type": "scatter",
         "x": [
          -0.013072724445363663,
          0.008194560218857672
         ],
         "y": [
          6.477069439998013,
          6.158462219999637
         ]
        },
        {
         "error_y": {
          "array": [
           0.2763251654463627,
           0.06610771986599208
          ],
          "color": "#EF553B",
          "thickness": 1.5,
          "type": "data",
          "visible": true,
          "width": 5
         },
         "hovertemplate": "%{text}<extra></extra>",
         "marker": {
          "color": "#EF553B",
          "opacity": 0.7,
          "size": 10
         },
         "mode": "markers",
         "name": "Run time - 0.15.1",
         "showlegend": true,
         "text": [
          "Forecaster: ForecasterRecursiveMultiSeries<br>Regressor: LGBMRegressor<br>Function: ForecasterRecursiveMultiSeries_fit_series_is_dataframe_no_exog<br>Function_hash: aa35b8ba0c0839021a95e5ba0786a67e<br>Datetime: 2025-04-24 10:34:08.214428<br>Python version: 3.11.10<br>skforecast version: 0.15.1<br>numpy version: 2.1.3<br>pandas version: 2.2.3<br>sklearn version: 1.6.1<br>lightgbm version: 4.5.0<br>Platform: Windows-10-10.0.19045-SP0<br>Processor: Intel64 Family 6 Model 141 Stepping 1, GenuineIntel<br>CPU count: 16<br>Memory (GB): 34.07<br>",
          "Forecaster: ForecasterRecursiveMultiSeries<br>Regressor: LGBMRegressor<br>Function: ForecasterRecursiveMultiSeries_fit_series_is_dataframe_no_exog<br>Function_hash: aa35b8ba0c0839021a95e5ba0786a67e<br>Datetime: 2025-04-24 11:17:26.506134<br>Python version: 3.11.10<br>skforecast version: 0.15.1<br>numpy version: 2.1.3<br>pandas version: 2.2.3<br>sklearn version: 1.6.1<br>lightgbm version: 4.5.0<br>Platform: Windows-10-10.0.19045-SP0<br>Processor: Intel64 Family 6 Model 141 Stepping 1, GenuineIntel<br>CPU count: 16<br>Memory (GB): 34.07<br>"
         ],
         "type": "scatter",
         "x": [
          1.0081293121881658,
          1.0419283988672943
         ],
         "y": [
          8.617345859998021,
          7.924298679997446
         ]
        },
        {
         "error_y": {
          "array": [
           0.06416420638887776,
           0.09847529397599804
          ],
          "color": "#00CC96",
          "thickness": 1.5,
          "type": "data",
          "visible": true,
          "width": 5
         },
         "hovertemplate": "%{text}<extra></extra>",
         "marker": {
          "color": "#00CC96",
          "opacity": 0.7,
          "size": 10
         },
         "mode": "markers",
         "name": "Run time - 0.16.0",
         "showlegend": true,
         "text": [
          "Forecaster: ForecasterRecursiveMultiSeries<br>Regressor: LGBMRegressor<br>Function: ForecasterRecursiveMultiSeries_fit_series_is_dataframe_no_exog<br>Function_hash: aa35b8ba0c0839021a95e5ba0786a67e<br>Datetime: 2025-04-24 18:03:39.185807<br>Python version: 3.11.10<br>skforecast version: 0.16.0<br>numpy version: 2.2.5<br>pandas version: 2.2.3<br>sklearn version: 1.6.1<br>lightgbm version: 4.5.0<br>Platform: Windows-10-10.0.19045-SP0<br>Processor: Intel64 Family 6 Model 141 Stepping 1, GenuineIntel<br>CPU count: 16<br>Memory (GB): 34.07<br>",
          "Forecaster: ForecasterRecursiveMultiSeries<br>Regressor: LGBMRegressor<br>Function: ForecasterRecursiveMultiSeries_fit_series_is_dataframe_no_exog<br>Function_hash: aa35b8ba0c0839021a95e5ba0786a67e<br>Datetime: 2025-04-24 18:18:43.029344<br>Python version: 3.11.10<br>skforecast version: 0.16.0<br>numpy version: 2.2.5<br>pandas version: 2.2.3<br>sklearn version: 1.6.1<br>lightgbm version: 4.5.0<br>Platform: Windows-10-10.0.19045-SP0<br>Processor: Intel64 Family 6 Model 141 Stepping 1, GenuineIntel<br>CPU count: 16<br>Memory (GB): 34.07<br>"
         ],
         "type": "scatter",
         "x": [
          1.9612920605272641,
          1.973403156847176
         ],
         "y": [
          6.53775350000069,
          5.988161959999706
         ]
        },
        {
         "line": {
          "color": "black",
          "width": 2
         },
         "marker": {
          "color": "black",
          "size": 8
         },
         "mode": "lines+markers",
         "name": "Median (per version)",
         "type": "scatter",
         "x": [
          0,
          1,
          2
         ],
         "y": [
          6.317765829998825,
          8.270822269997733,
          6.262957730000198
         ]
        },
        {
         "line": {
          "color": "black",
          "dash": "dash",
          "width": 2
         },
         "marker": {
          "color": "black",
          "size": 8
         },
         "mode": "lines+markers",
         "name": "Mean (per version)",
         "type": "scatter",
         "x": [
          0,
          1,
          2
         ],
         "y": [
          6.317765829998825,
          8.270822269997733,
          6.262957730000198
         ]
        }
       ],
       "layout": {
        "showlegend": true,
        "template": {
         "data": {
          "bar": [
           {
            "error_x": {
             "color": "#2a3f5f"
            },
            "error_y": {
             "color": "#2a3f5f"
            },
            "marker": {
             "line": {
              "color": "#E5ECF6",
              "width": 0.5
             },
             "pattern": {
              "fillmode": "overlay",
              "size": 10,
              "solidity": 0.2
             }
            },
            "type": "bar"
           }
          ],
          "barpolar": [
           {
            "marker": {
             "line": {
              "color": "#E5ECF6",
              "width": 0.5
             },
             "pattern": {
              "fillmode": "overlay",
              "size": 10,
              "solidity": 0.2
             }
            },
            "type": "barpolar"
           }
          ],
          "carpet": [
           {
            "aaxis": {
             "endlinecolor": "#2a3f5f",
             "gridcolor": "white",
             "linecolor": "white",
             "minorgridcolor": "white",
             "startlinecolor": "#2a3f5f"
            },
            "baxis": {
             "endlinecolor": "#2a3f5f",
             "gridcolor": "white",
             "linecolor": "white",
             "minorgridcolor": "white",
             "startlinecolor": "#2a3f5f"
            },
            "type": "carpet"
           }
          ],
          "choropleth": [
           {
            "colorbar": {
             "outlinewidth": 0,
             "ticks": ""
            },
            "type": "choropleth"
           }
          ],
          "contour": [
           {
            "colorbar": {
             "outlinewidth": 0,
             "ticks": ""
            },
            "colorscale": [
             [
              0,
              "#0d0887"
             ],
             [
              0.1111111111111111,
              "#46039f"
             ],
             [
              0.2222222222222222,
              "#7201a8"
             ],
             [
              0.3333333333333333,
              "#9c179e"
             ],
             [
              0.4444444444444444,
              "#bd3786"
             ],
             [
              0.5555555555555556,
              "#d8576b"
             ],
             [
              0.6666666666666666,
              "#ed7953"
             ],
             [
              0.7777777777777778,
              "#fb9f3a"
             ],
             [
              0.8888888888888888,
              "#fdca26"
             ],
             [
              1,
              "#f0f921"
             ]
            ],
            "type": "contour"
           }
          ],
          "contourcarpet": [
           {
            "colorbar": {
             "outlinewidth": 0,
             "ticks": ""
            },
            "type": "contourcarpet"
           }
          ],
          "heatmap": [
           {
            "colorbar": {
             "outlinewidth": 0,
             "ticks": ""
            },
            "colorscale": [
             [
              0,
              "#0d0887"
             ],
             [
              0.1111111111111111,
              "#46039f"
             ],
             [
              0.2222222222222222,
              "#7201a8"
             ],
             [
              0.3333333333333333,
              "#9c179e"
             ],
             [
              0.4444444444444444,
              "#bd3786"
             ],
             [
              0.5555555555555556,
              "#d8576b"
             ],
             [
              0.6666666666666666,
              "#ed7953"
             ],
             [
              0.7777777777777778,
              "#fb9f3a"
             ],
             [
              0.8888888888888888,
              "#fdca26"
             ],
             [
              1,
              "#f0f921"
             ]
            ],
            "type": "heatmap"
           }
          ],
          "heatmapgl": [
           {
            "colorbar": {
             "outlinewidth": 0,
             "ticks": ""
            },
            "colorscale": [
             [
              0,
              "#0d0887"
             ],
             [
              0.1111111111111111,
              "#46039f"
             ],
             [
              0.2222222222222222,
              "#7201a8"
             ],
             [
              0.3333333333333333,
              "#9c179e"
             ],
             [
              0.4444444444444444,
              "#bd3786"
             ],
             [
              0.5555555555555556,
              "#d8576b"
             ],
             [
              0.6666666666666666,
              "#ed7953"
             ],
             [
              0.7777777777777778,
              "#fb9f3a"
             ],
             [
              0.8888888888888888,
              "#fdca26"
             ],
             [
              1,
              "#f0f921"
             ]
            ],
            "type": "heatmapgl"
           }
          ],
          "histogram": [
           {
            "marker": {
             "pattern": {
              "fillmode": "overlay",
              "size": 10,
              "solidity": 0.2
             }
            },
            "type": "histogram"
           }
          ],
          "histogram2d": [
           {
            "colorbar": {
             "outlinewidth": 0,
             "ticks": ""
            },
            "colorscale": [
             [
              0,
              "#0d0887"
             ],
             [
              0.1111111111111111,
              "#46039f"
             ],
             [
              0.2222222222222222,
              "#7201a8"
             ],
             [
              0.3333333333333333,
              "#9c179e"
             ],
             [
              0.4444444444444444,
              "#bd3786"
             ],
             [
              0.5555555555555556,
              "#d8576b"
             ],
             [
              0.6666666666666666,
              "#ed7953"
             ],
             [
              0.7777777777777778,
              "#fb9f3a"
             ],
             [
              0.8888888888888888,
              "#fdca26"
             ],
             [
              1,
              "#f0f921"
             ]
            ],
            "type": "histogram2d"
           }
          ],
          "histogram2dcontour": [
           {
            "colorbar": {
             "outlinewidth": 0,
             "ticks": ""
            },
            "colorscale": [
             [
              0,
              "#0d0887"
             ],
             [
              0.1111111111111111,
              "#46039f"
             ],
             [
              0.2222222222222222,
              "#7201a8"
             ],
             [
              0.3333333333333333,
              "#9c179e"
             ],
             [
              0.4444444444444444,
              "#bd3786"
             ],
             [
              0.5555555555555556,
              "#d8576b"
             ],
             [
              0.6666666666666666,
              "#ed7953"
             ],
             [
              0.7777777777777778,
              "#fb9f3a"
             ],
             [
              0.8888888888888888,
              "#fdca26"
             ],
             [
              1,
              "#f0f921"
             ]
            ],
            "type": "histogram2dcontour"
           }
          ],
          "mesh3d": [
           {
            "colorbar": {
             "outlinewidth": 0,
             "ticks": ""
            },
            "type": "mesh3d"
           }
          ],
          "parcoords": [
           {
            "line": {
             "colorbar": {
              "outlinewidth": 0,
              "ticks": ""
             }
            },
            "type": "parcoords"
           }
          ],
          "pie": [
           {
            "automargin": true,
            "type": "pie"
           }
          ],
          "scatter": [
           {
            "fillpattern": {
             "fillmode": "overlay",
             "size": 10,
             "solidity": 0.2
            },
            "type": "scatter"
           }
          ],
          "scatter3d": [
           {
            "line": {
             "colorbar": {
              "outlinewidth": 0,
              "ticks": ""
             }
            },
            "marker": {
             "colorbar": {
              "outlinewidth": 0,
              "ticks": ""
             }
            },
            "type": "scatter3d"
           }
          ],
          "scattercarpet": [
           {
            "marker": {
             "colorbar": {
              "outlinewidth": 0,
              "ticks": ""
             }
            },
            "type": "scattercarpet"
           }
          ],
          "scattergeo": [
           {
            "marker": {
             "colorbar": {
              "outlinewidth": 0,
              "ticks": ""
             }
            },
            "type": "scattergeo"
           }
          ],
          "scattergl": [
           {
            "marker": {
             "colorbar": {
              "outlinewidth": 0,
              "ticks": ""
             }
            },
            "type": "scattergl"
           }
          ],
          "scattermapbox": [
           {
            "marker": {
             "colorbar": {
              "outlinewidth": 0,
              "ticks": ""
             }
            },
            "type": "scattermapbox"
           }
          ],
          "scatterpolar": [
           {
            "marker": {
             "colorbar": {
              "outlinewidth": 0,
              "ticks": ""
             }
            },
            "type": "scatterpolar"
           }
          ],
          "scatterpolargl": [
           {
            "marker": {
             "colorbar": {
              "outlinewidth": 0,
              "ticks": ""
             }
            },
            "type": "scatterpolargl"
           }
          ],
          "scatterternary": [
           {
            "marker": {
             "colorbar": {
              "outlinewidth": 0,
              "ticks": ""
             }
            },
            "type": "scatterternary"
           }
          ],
          "surface": [
           {
            "colorbar": {
             "outlinewidth": 0,
             "ticks": ""
            },
            "colorscale": [
             [
              0,
              "#0d0887"
             ],
             [
              0.1111111111111111,
              "#46039f"
             ],
             [
              0.2222222222222222,
              "#7201a8"
             ],
             [
              0.3333333333333333,
              "#9c179e"
             ],
             [
              0.4444444444444444,
              "#bd3786"
             ],
             [
              0.5555555555555556,
              "#d8576b"
             ],
             [
              0.6666666666666666,
              "#ed7953"
             ],
             [
              0.7777777777777778,
              "#fb9f3a"
             ],
             [
              0.8888888888888888,
              "#fdca26"
             ],
             [
              1,
              "#f0f921"
             ]
            ],
            "type": "surface"
           }
          ],
          "table": [
           {
            "cells": {
             "fill": {
              "color": "#EBF0F8"
             },
             "line": {
              "color": "white"
             }
            },
            "header": {
             "fill": {
              "color": "#C8D4E3"
             },
             "line": {
              "color": "white"
             }
            },
            "type": "table"
           }
          ]
         },
         "layout": {
          "annotationdefaults": {
           "arrowcolor": "#2a3f5f",
           "arrowhead": 0,
           "arrowwidth": 1
          },
          "autotypenumbers": "strict",
          "coloraxis": {
           "colorbar": {
            "outlinewidth": 0,
            "ticks": ""
           }
          },
          "colorscale": {
           "diverging": [
            [
             0,
             "#8e0152"
            ],
            [
             0.1,
             "#c51b7d"
            ],
            [
             0.2,
             "#de77ae"
            ],
            [
             0.3,
             "#f1b6da"
            ],
            [
             0.4,
             "#fde0ef"
            ],
            [
             0.5,
             "#f7f7f7"
            ],
            [
             0.6,
             "#e6f5d0"
            ],
            [
             0.7,
             "#b8e186"
            ],
            [
             0.8,
             "#7fbc41"
            ],
            [
             0.9,
             "#4d9221"
            ],
            [
             1,
             "#276419"
            ]
           ],
           "sequential": [
            [
             0,
             "#0d0887"
            ],
            [
             0.1111111111111111,
             "#46039f"
            ],
            [
             0.2222222222222222,
             "#7201a8"
            ],
            [
             0.3333333333333333,
             "#9c179e"
            ],
            [
             0.4444444444444444,
             "#bd3786"
            ],
            [
             0.5555555555555556,
             "#d8576b"
            ],
            [
             0.6666666666666666,
             "#ed7953"
            ],
            [
             0.7777777777777778,
             "#fb9f3a"
            ],
            [
             0.8888888888888888,
             "#fdca26"
            ],
            [
             1,
             "#f0f921"
            ]
           ],
           "sequentialminus": [
            [
             0,
             "#0d0887"
            ],
            [
             0.1111111111111111,
             "#46039f"
            ],
            [
             0.2222222222222222,
             "#7201a8"
            ],
            [
             0.3333333333333333,
             "#9c179e"
            ],
            [
             0.4444444444444444,
             "#bd3786"
            ],
            [
             0.5555555555555556,
             "#d8576b"
            ],
            [
             0.6666666666666666,
             "#ed7953"
            ],
            [
             0.7777777777777778,
             "#fb9f3a"
            ],
            [
             0.8888888888888888,
             "#fdca26"
            ],
            [
             1,
             "#f0f921"
            ]
           ]
          },
          "colorway": [
           "#636efa",
           "#EF553B",
           "#00cc96",
           "#ab63fa",
           "#FFA15A",
           "#19d3f3",
           "#FF6692",
           "#B6E880",
           "#FF97FF",
           "#FECB52"
          ],
          "font": {
           "color": "#2a3f5f"
          },
          "geo": {
           "bgcolor": "white",
           "lakecolor": "white",
           "landcolor": "#E5ECF6",
           "showlakes": true,
           "showland": true,
           "subunitcolor": "white"
          },
          "hoverlabel": {
           "align": "left"
          },
          "hovermode": "closest",
          "mapbox": {
           "style": "light"
          },
          "paper_bgcolor": "white",
          "plot_bgcolor": "#E5ECF6",
          "polar": {
           "angularaxis": {
            "gridcolor": "white",
            "linecolor": "white",
            "ticks": ""
           },
           "bgcolor": "#E5ECF6",
           "radialaxis": {
            "gridcolor": "white",
            "linecolor": "white",
            "ticks": ""
           }
          },
          "scene": {
           "xaxis": {
            "backgroundcolor": "#E5ECF6",
            "gridcolor": "white",
            "gridwidth": 2,
            "linecolor": "white",
            "showbackground": true,
            "ticks": "",
            "zerolinecolor": "white"
           },
           "yaxis": {
            "backgroundcolor": "#E5ECF6",
            "gridcolor": "white",
            "gridwidth": 2,
            "linecolor": "white",
            "showbackground": true,
            "ticks": "",
            "zerolinecolor": "white"
           },
           "zaxis": {
            "backgroundcolor": "#E5ECF6",
            "gridcolor": "white",
            "gridwidth": 2,
            "linecolor": "white",
            "showbackground": true,
            "ticks": "",
            "zerolinecolor": "white"
           }
          },
          "shapedefaults": {
           "line": {
            "color": "#2a3f5f"
           }
          },
          "ternary": {
           "aaxis": {
            "gridcolor": "white",
            "linecolor": "white",
            "ticks": ""
           },
           "baxis": {
            "gridcolor": "white",
            "linecolor": "white",
            "ticks": ""
           },
           "bgcolor": "#E5ECF6",
           "caxis": {
            "gridcolor": "white",
            "linecolor": "white",
            "ticks": ""
           }
          },
          "title": {
           "x": 0.05
          },
          "xaxis": {
           "automargin": true,
           "gridcolor": "white",
           "linecolor": "white",
           "ticks": "",
           "title": {
            "standoff": 15
           },
           "zerolinecolor": "white",
           "zerolinewidth": 2
          },
          "yaxis": {
           "automargin": true,
           "gridcolor": "white",
           "linecolor": "white",
           "ticks": "",
           "title": {
            "standoff": 15
           },
           "zerolinecolor": "white",
           "zerolinewidth": 2
          }
         }
        },
        "title": {
         "text": "Execution time of ForecasterRecursiveMultiSeries_fit_series_is_dataframe_no_exog"
        },
        "xaxis": {
         "tickangle": -45,
         "tickmode": "array",
         "ticktext": [
          "0.14.0",
          "0.15.1",
          "0.16.0"
         ],
         "tickvals": [
          0,
          1,
          2
         ],
         "title": {
          "text": "skforecast version"
         }
        },
        "yaxis": {
         "title": {
          "text": "Execution time (seconds)"
         }
        }
       }
      }
     },
     "metadata": {},
     "output_type": "display_data"
    },
    {
     "data": {
      "application/vnd.microsoft.datawrangler.viewer.v0+json": {
       "columns": [
        {
         "name": "index",
         "rawType": "int64",
         "type": "integer"
        },
        {
         "name": "forecaster_name",
         "rawType": "object",
         "type": "string"
        },
        {
         "name": "regressor_name",
         "rawType": "object",
         "type": "string"
        },
        {
         "name": "function_name",
         "rawType": "object",
         "type": "string"
        },
        {
         "name": "function_hash",
         "rawType": "object",
         "type": "string"
        },
        {
         "name": "run_time_avg",
         "rawType": "float64",
         "type": "float"
        },
        {
         "name": "run_time_std_dev",
         "rawType": "float64",
         "type": "float"
        },
        {
         "name": "datetime",
         "rawType": "datetime64[ns]",
         "type": "datetime"
        },
        {
         "name": "python_version",
         "rawType": "object",
         "type": "string"
        },
        {
         "name": "skforecast_version",
         "rawType": "object",
         "type": "string"
        },
        {
         "name": "numpy_version",
         "rawType": "object",
         "type": "string"
        },
        {
         "name": "pandas_version",
         "rawType": "object",
         "type": "string"
        },
        {
         "name": "sklearn_version",
         "rawType": "object",
         "type": "string"
        },
        {
         "name": "lightgbm_version",
         "rawType": "object",
         "type": "string"
        },
        {
         "name": "platform",
         "rawType": "object",
         "type": "string"
        },
        {
         "name": "processor",
         "rawType": "object",
         "type": "string"
        },
        {
         "name": "cpu_count",
         "rawType": "int64",
         "type": "integer"
        },
        {
         "name": "memory_gb",
         "rawType": "float64",
         "type": "float"
        }
       ],
       "conversionMethod": "pd.DataFrame",
       "ref": "dd27b278-c2b2-4d53-ad68-c07d2def2625",
       "rows": [
        [
         "148",
         "ForecasterRecursiveMultiSeries",
         "LGBMRegressor",
         "ForecasterRecursiveMultiSeries__create_train_X_y_series_is_dataframe_no_exog",
         "7b994fdfa33ce4a2084e303d3f49c934",
         "1.5715994400001363",
         "0.09109612852463184",
         "2025-04-24 10:34:16.092443",
         "3.11.10",
         "0.15.1",
         "2.1.3",
         "2.2.3",
         "1.6.1",
         "4.5.0",
         "Windows-10-10.0.19045-SP0",
         "Intel64 Family 6 Model 141 Stepping 1, GenuineIntel",
         "16",
         "34.07"
        ],
        [
         "163",
         "ForecasterRecursiveMultiSeries",
         "LGBMRegressor",
         "ForecasterRecursiveMultiSeries__create_train_X_y_series_is_dataframe_no_exog",
         "7b994fdfa33ce4a2084e303d3f49c934",
         "1.3755528800043977",
         "0.05901283791472951",
         "2025-04-24 10:41:15.004316",
         "3.11.10",
         "0.14.0",
         "2.1.3",
         "2.2.3",
         "1.6.1",
         "4.5.0",
         "Windows-10-10.0.19045-SP0",
         "Intel64 Family 6 Model 141 Stepping 1, GenuineIntel",
         "16",
         "34.07"
        ],
        [
         "178",
         "ForecasterRecursiveMultiSeries",
         "LGBMRegressor",
         "ForecasterRecursiveMultiSeries__create_train_X_y_series_is_dataframe_no_exog",
         "7b994fdfa33ce4a2084e303d3f49c934",
         "1.3719181199994637",
         "0.040893713931166434",
         "2025-04-24 11:08:28.757259",
         "3.11.10",
         "0.14.0",
         "2.1.3",
         "2.2.3",
         "1.6.1",
         "4.5.0",
         "Windows-10-10.0.19045-SP0",
         "Intel64 Family 6 Model 141 Stepping 1, GenuineIntel",
         "16",
         "34.07"
        ],
        [
         "193",
         "ForecasterRecursiveMultiSeries",
         "LGBMRegressor",
         "ForecasterRecursiveMultiSeries__create_train_X_y_series_is_dataframe_no_exog",
         "7b994fdfa33ce4a2084e303d3f49c934",
         "1.6105621600057929",
         "0.08155133302998213",
         "2025-04-24 11:17:34.591231",
         "3.11.10",
         "0.15.1",
         "2.1.3",
         "2.2.3",
         "1.6.1",
         "4.5.0",
         "Windows-10-10.0.19045-SP0",
         "Intel64 Family 6 Model 141 Stepping 1, GenuineIntel",
         "16",
         "34.07"
        ],
        [
         "206",
         "ForecasterRecursiveMultiSeries",
         "LGBMRegressor",
         "ForecasterRecursiveMultiSeries__create_train_X_y_series_is_dataframe_no_exog",
         "7b994fdfa33ce4a2084e303d3f49c934",
         "1.148996340003214",
         "0.04766815530356846",
         "2025-04-24 18:02:14.811485",
         "3.11.10",
         "0.16.0",
         "2.2.5",
         "2.2.3",
         "1.6.1",
         "4.5.0",
         "Windows-10-10.0.19045-SP0",
         "Intel64 Family 6 Model 141 Stepping 1, GenuineIntel",
         "16",
         "34.07"
        ],
        [
         "225",
         "ForecasterRecursiveMultiSeries",
         "LGBMRegressor",
         "ForecasterRecursiveMultiSeries__create_train_X_y_series_is_dataframe_no_exog",
         "7b994fdfa33ce4a2084e303d3f49c934",
         "0.9943257499966421",
         "0.04204728838946613",
         "2025-04-24 18:17:26.968773",
         "3.11.10",
         "0.16.0",
         "2.2.5",
         "2.2.3",
         "1.6.1",
         "4.5.0",
         "Windows-10-10.0.19045-SP0",
         "Intel64 Family 6 Model 141 Stepping 1, GenuineIntel",
         "16",
         "34.07"
        ]
       ],
       "shape": {
        "columns": 17,
        "rows": 6
       }
      },
      "text/html": [
       "<div>\n",
       "<style scoped>\n",
       "    .dataframe tbody tr th:only-of-type {\n",
       "        vertical-align: middle;\n",
       "    }\n",
       "\n",
       "    .dataframe tbody tr th {\n",
       "        vertical-align: top;\n",
       "    }\n",
       "\n",
       "    .dataframe thead th {\n",
       "        text-align: right;\n",
       "    }\n",
       "</style>\n",
       "<table border=\"1\" class=\"dataframe\">\n",
       "  <thead>\n",
       "    <tr style=\"text-align: right;\">\n",
       "      <th></th>\n",
       "      <th>forecaster_name</th>\n",
       "      <th>regressor_name</th>\n",
       "      <th>function_name</th>\n",
       "      <th>function_hash</th>\n",
       "      <th>run_time_avg</th>\n",
       "      <th>run_time_std_dev</th>\n",
       "      <th>datetime</th>\n",
       "      <th>python_version</th>\n",
       "      <th>skforecast_version</th>\n",
       "      <th>numpy_version</th>\n",
       "      <th>pandas_version</th>\n",
       "      <th>sklearn_version</th>\n",
       "      <th>lightgbm_version</th>\n",
       "      <th>platform</th>\n",
       "      <th>processor</th>\n",
       "      <th>cpu_count</th>\n",
       "      <th>memory_gb</th>\n",
       "    </tr>\n",
       "  </thead>\n",
       "  <tbody>\n",
       "    <tr>\n",
       "      <th>148</th>\n",
       "      <td>ForecasterRecursiveMultiSeries</td>\n",
       "      <td>LGBMRegressor</td>\n",
       "      <td>ForecasterRecursiveMultiSeries__create_train_X...</td>\n",
       "      <td>7b994fdfa33ce4a2084e303d3f49c934</td>\n",
       "      <td>1.571599</td>\n",
       "      <td>0.091096</td>\n",
       "      <td>2025-04-24 10:34:16.092443</td>\n",
       "      <td>3.11.10</td>\n",
       "      <td>0.15.1</td>\n",
       "      <td>2.1.3</td>\n",
       "      <td>2.2.3</td>\n",
       "      <td>1.6.1</td>\n",
       "      <td>4.5.0</td>\n",
       "      <td>Windows-10-10.0.19045-SP0</td>\n",
       "      <td>Intel64 Family 6 Model 141 Stepping 1, Genuine...</td>\n",
       "      <td>16</td>\n",
       "      <td>34.07</td>\n",
       "    </tr>\n",
       "    <tr>\n",
       "      <th>163</th>\n",
       "      <td>ForecasterRecursiveMultiSeries</td>\n",
       "      <td>LGBMRegressor</td>\n",
       "      <td>ForecasterRecursiveMultiSeries__create_train_X...</td>\n",
       "      <td>7b994fdfa33ce4a2084e303d3f49c934</td>\n",
       "      <td>1.375553</td>\n",
       "      <td>0.059013</td>\n",
       "      <td>2025-04-24 10:41:15.004316</td>\n",
       "      <td>3.11.10</td>\n",
       "      <td>0.14.0</td>\n",
       "      <td>2.1.3</td>\n",
       "      <td>2.2.3</td>\n",
       "      <td>1.6.1</td>\n",
       "      <td>4.5.0</td>\n",
       "      <td>Windows-10-10.0.19045-SP0</td>\n",
       "      <td>Intel64 Family 6 Model 141 Stepping 1, Genuine...</td>\n",
       "      <td>16</td>\n",
       "      <td>34.07</td>\n",
       "    </tr>\n",
       "    <tr>\n",
       "      <th>178</th>\n",
       "      <td>ForecasterRecursiveMultiSeries</td>\n",
       "      <td>LGBMRegressor</td>\n",
       "      <td>ForecasterRecursiveMultiSeries__create_train_X...</td>\n",
       "      <td>7b994fdfa33ce4a2084e303d3f49c934</td>\n",
       "      <td>1.371918</td>\n",
       "      <td>0.040894</td>\n",
       "      <td>2025-04-24 11:08:28.757259</td>\n",
       "      <td>3.11.10</td>\n",
       "      <td>0.14.0</td>\n",
       "      <td>2.1.3</td>\n",
       "      <td>2.2.3</td>\n",
       "      <td>1.6.1</td>\n",
       "      <td>4.5.0</td>\n",
       "      <td>Windows-10-10.0.19045-SP0</td>\n",
       "      <td>Intel64 Family 6 Model 141 Stepping 1, Genuine...</td>\n",
       "      <td>16</td>\n",
       "      <td>34.07</td>\n",
       "    </tr>\n",
       "    <tr>\n",
       "      <th>193</th>\n",
       "      <td>ForecasterRecursiveMultiSeries</td>\n",
       "      <td>LGBMRegressor</td>\n",
       "      <td>ForecasterRecursiveMultiSeries__create_train_X...</td>\n",
       "      <td>7b994fdfa33ce4a2084e303d3f49c934</td>\n",
       "      <td>1.610562</td>\n",
       "      <td>0.081551</td>\n",
       "      <td>2025-04-24 11:17:34.591231</td>\n",
       "      <td>3.11.10</td>\n",
       "      <td>0.15.1</td>\n",
       "      <td>2.1.3</td>\n",
       "      <td>2.2.3</td>\n",
       "      <td>1.6.1</td>\n",
       "      <td>4.5.0</td>\n",
       "      <td>Windows-10-10.0.19045-SP0</td>\n",
       "      <td>Intel64 Family 6 Model 141 Stepping 1, Genuine...</td>\n",
       "      <td>16</td>\n",
       "      <td>34.07</td>\n",
       "    </tr>\n",
       "    <tr>\n",
       "      <th>206</th>\n",
       "      <td>ForecasterRecursiveMultiSeries</td>\n",
       "      <td>LGBMRegressor</td>\n",
       "      <td>ForecasterRecursiveMultiSeries__create_train_X...</td>\n",
       "      <td>7b994fdfa33ce4a2084e303d3f49c934</td>\n",
       "      <td>1.148996</td>\n",
       "      <td>0.047668</td>\n",
       "      <td>2025-04-24 18:02:14.811485</td>\n",
       "      <td>3.11.10</td>\n",
       "      <td>0.16.0</td>\n",
       "      <td>2.2.5</td>\n",
       "      <td>2.2.3</td>\n",
       "      <td>1.6.1</td>\n",
       "      <td>4.5.0</td>\n",
       "      <td>Windows-10-10.0.19045-SP0</td>\n",
       "      <td>Intel64 Family 6 Model 141 Stepping 1, Genuine...</td>\n",
       "      <td>16</td>\n",
       "      <td>34.07</td>\n",
       "    </tr>\n",
       "    <tr>\n",
       "      <th>225</th>\n",
       "      <td>ForecasterRecursiveMultiSeries</td>\n",
       "      <td>LGBMRegressor</td>\n",
       "      <td>ForecasterRecursiveMultiSeries__create_train_X...</td>\n",
       "      <td>7b994fdfa33ce4a2084e303d3f49c934</td>\n",
       "      <td>0.994326</td>\n",
       "      <td>0.042047</td>\n",
       "      <td>2025-04-24 18:17:26.968773</td>\n",
       "      <td>3.11.10</td>\n",
       "      <td>0.16.0</td>\n",
       "      <td>2.2.5</td>\n",
       "      <td>2.2.3</td>\n",
       "      <td>1.6.1</td>\n",
       "      <td>4.5.0</td>\n",
       "      <td>Windows-10-10.0.19045-SP0</td>\n",
       "      <td>Intel64 Family 6 Model 141 Stepping 1, Genuine...</td>\n",
       "      <td>16</td>\n",
       "      <td>34.07</td>\n",
       "    </tr>\n",
       "  </tbody>\n",
       "</table>\n",
       "</div>"
      ],
      "text/plain": [
       "                    forecaster_name regressor_name  \\\n",
       "148  ForecasterRecursiveMultiSeries  LGBMRegressor   \n",
       "163  ForecasterRecursiveMultiSeries  LGBMRegressor   \n",
       "178  ForecasterRecursiveMultiSeries  LGBMRegressor   \n",
       "193  ForecasterRecursiveMultiSeries  LGBMRegressor   \n",
       "206  ForecasterRecursiveMultiSeries  LGBMRegressor   \n",
       "225  ForecasterRecursiveMultiSeries  LGBMRegressor   \n",
       "\n",
       "                                         function_name  \\\n",
       "148  ForecasterRecursiveMultiSeries__create_train_X...   \n",
       "163  ForecasterRecursiveMultiSeries__create_train_X...   \n",
       "178  ForecasterRecursiveMultiSeries__create_train_X...   \n",
       "193  ForecasterRecursiveMultiSeries__create_train_X...   \n",
       "206  ForecasterRecursiveMultiSeries__create_train_X...   \n",
       "225  ForecasterRecursiveMultiSeries__create_train_X...   \n",
       "\n",
       "                        function_hash  run_time_avg  run_time_std_dev  \\\n",
       "148  7b994fdfa33ce4a2084e303d3f49c934      1.571599          0.091096   \n",
       "163  7b994fdfa33ce4a2084e303d3f49c934      1.375553          0.059013   \n",
       "178  7b994fdfa33ce4a2084e303d3f49c934      1.371918          0.040894   \n",
       "193  7b994fdfa33ce4a2084e303d3f49c934      1.610562          0.081551   \n",
       "206  7b994fdfa33ce4a2084e303d3f49c934      1.148996          0.047668   \n",
       "225  7b994fdfa33ce4a2084e303d3f49c934      0.994326          0.042047   \n",
       "\n",
       "                      datetime python_version skforecast_version  \\\n",
       "148 2025-04-24 10:34:16.092443        3.11.10             0.15.1   \n",
       "163 2025-04-24 10:41:15.004316        3.11.10             0.14.0   \n",
       "178 2025-04-24 11:08:28.757259        3.11.10             0.14.0   \n",
       "193 2025-04-24 11:17:34.591231        3.11.10             0.15.1   \n",
       "206 2025-04-24 18:02:14.811485        3.11.10             0.16.0   \n",
       "225 2025-04-24 18:17:26.968773        3.11.10             0.16.0   \n",
       "\n",
       "    numpy_version pandas_version sklearn_version lightgbm_version  \\\n",
       "148         2.1.3          2.2.3           1.6.1            4.5.0   \n",
       "163         2.1.3          2.2.3           1.6.1            4.5.0   \n",
       "178         2.1.3          2.2.3           1.6.1            4.5.0   \n",
       "193         2.1.3          2.2.3           1.6.1            4.5.0   \n",
       "206         2.2.5          2.2.3           1.6.1            4.5.0   \n",
       "225         2.2.5          2.2.3           1.6.1            4.5.0   \n",
       "\n",
       "                      platform  \\\n",
       "148  Windows-10-10.0.19045-SP0   \n",
       "163  Windows-10-10.0.19045-SP0   \n",
       "178  Windows-10-10.0.19045-SP0   \n",
       "193  Windows-10-10.0.19045-SP0   \n",
       "206  Windows-10-10.0.19045-SP0   \n",
       "225  Windows-10-10.0.19045-SP0   \n",
       "\n",
       "                                             processor  cpu_count  memory_gb  \n",
       "148  Intel64 Family 6 Model 141 Stepping 1, Genuine...         16      34.07  \n",
       "163  Intel64 Family 6 Model 141 Stepping 1, Genuine...         16      34.07  \n",
       "178  Intel64 Family 6 Model 141 Stepping 1, Genuine...         16      34.07  \n",
       "193  Intel64 Family 6 Model 141 Stepping 1, Genuine...         16      34.07  \n",
       "206  Intel64 Family 6 Model 141 Stepping 1, Genuine...         16      34.07  \n",
       "225  Intel64 Family 6 Model 141 Stepping 1, Genuine...         16      34.07  "
      ]
     },
     "metadata": {},
     "output_type": "display_data"
    },
    {
     "data": {
      "application/vnd.plotly.v1+json": {
       "config": {
        "plotlyServerURL": "https://plot.ly"
       },
       "data": [
        {
         "error_y": {
          "array": [
           0.05901283791472951,
           0.040893713931166434
          ],
          "color": "#636EFA",
          "thickness": 1.5,
          "type": "data",
          "visible": true,
          "width": 5
         },
         "hovertemplate": "%{text}<extra></extra>",
         "marker": {
          "color": "#636EFA",
          "opacity": 0.7,
          "size": 10
         },
         "mode": "markers",
         "name": "Run time - 0.14.0",
         "showlegend": true,
         "text": [
          "Forecaster: ForecasterRecursiveMultiSeries<br>Regressor: LGBMRegressor<br>Function: ForecasterRecursiveMultiSeries__create_train_X_y_series_is_dataframe_no_exog<br>Function_hash: 7b994fdfa33ce4a2084e303d3f49c934<br>Datetime: 2025-04-24 10:41:15.004316<br>Python version: 3.11.10<br>skforecast version: 0.14.0<br>numpy version: 2.1.3<br>pandas version: 2.2.3<br>sklearn version: 1.6.1<br>lightgbm version: 4.5.0<br>Platform: Windows-10-10.0.19045-SP0<br>Processor: Intel64 Family 6 Model 141 Stepping 1, GenuineIntel<br>CPU count: 16<br>Memory (GB): 34.07<br>",
          "Forecaster: ForecasterRecursiveMultiSeries<br>Regressor: LGBMRegressor<br>Function: ForecasterRecursiveMultiSeries__create_train_X_y_series_is_dataframe_no_exog<br>Function_hash: 7b994fdfa33ce4a2084e303d3f49c934<br>Datetime: 2025-04-24 11:08:28.757259<br>Python version: 3.11.10<br>skforecast version: 0.14.0<br>numpy version: 2.1.3<br>pandas version: 2.2.3<br>sklearn version: 1.6.1<br>lightgbm version: 4.5.0<br>Platform: Windows-10-10.0.19045-SP0<br>Processor: Intel64 Family 6 Model 141 Stepping 1, GenuineIntel<br>CPU count: 16<br>Memory (GB): 34.07<br>"
         ],
         "type": "scatter",
         "x": [
          -0.013072724445363663,
          0.008194560218857672
         ],
         "y": [
          1.3755528800043977,
          1.3719181199994637
         ]
        },
        {
         "error_y": {
          "array": [
           0.09109612852463184,
           0.08155133302998213
          ],
          "color": "#EF553B",
          "thickness": 1.5,
          "type": "data",
          "visible": true,
          "width": 5
         },
         "hovertemplate": "%{text}<extra></extra>",
         "marker": {
          "color": "#EF553B",
          "opacity": 0.7,
          "size": 10
         },
         "mode": "markers",
         "name": "Run time - 0.15.1",
         "showlegend": true,
         "text": [
          "Forecaster: ForecasterRecursiveMultiSeries<br>Regressor: LGBMRegressor<br>Function: ForecasterRecursiveMultiSeries__create_train_X_y_series_is_dataframe_no_exog<br>Function_hash: 7b994fdfa33ce4a2084e303d3f49c934<br>Datetime: 2025-04-24 10:34:16.092443<br>Python version: 3.11.10<br>skforecast version: 0.15.1<br>numpy version: 2.1.3<br>pandas version: 2.2.3<br>sklearn version: 1.6.1<br>lightgbm version: 4.5.0<br>Platform: Windows-10-10.0.19045-SP0<br>Processor: Intel64 Family 6 Model 141 Stepping 1, GenuineIntel<br>CPU count: 16<br>Memory (GB): 34.07<br>",
          "Forecaster: ForecasterRecursiveMultiSeries<br>Regressor: LGBMRegressor<br>Function: ForecasterRecursiveMultiSeries__create_train_X_y_series_is_dataframe_no_exog<br>Function_hash: 7b994fdfa33ce4a2084e303d3f49c934<br>Datetime: 2025-04-24 11:17:34.591231<br>Python version: 3.11.10<br>skforecast version: 0.15.1<br>numpy version: 2.1.3<br>pandas version: 2.2.3<br>sklearn version: 1.6.1<br>lightgbm version: 4.5.0<br>Platform: Windows-10-10.0.19045-SP0<br>Processor: Intel64 Family 6 Model 141 Stepping 1, GenuineIntel<br>CPU count: 16<br>Memory (GB): 34.07<br>"
         ],
         "type": "scatter",
         "x": [
          1.0081293121881658,
          1.0419283988672943
         ],
         "y": [
          1.5715994400001363,
          1.6105621600057929
         ]
        },
        {
         "error_y": {
          "array": [
           0.04766815530356846,
           0.04204728838946613
          ],
          "color": "#00CC96",
          "thickness": 1.5,
          "type": "data",
          "visible": true,
          "width": 5
         },
         "hovertemplate": "%{text}<extra></extra>",
         "marker": {
          "color": "#00CC96",
          "opacity": 0.7,
          "size": 10
         },
         "mode": "markers",
         "name": "Run time - 0.16.0",
         "showlegend": true,
         "text": [
          "Forecaster: ForecasterRecursiveMultiSeries<br>Regressor: LGBMRegressor<br>Function: ForecasterRecursiveMultiSeries__create_train_X_y_series_is_dataframe_no_exog<br>Function_hash: 7b994fdfa33ce4a2084e303d3f49c934<br>Datetime: 2025-04-24 18:02:14.811485<br>Python version: 3.11.10<br>skforecast version: 0.16.0<br>numpy version: 2.2.5<br>pandas version: 2.2.3<br>sklearn version: 1.6.1<br>lightgbm version: 4.5.0<br>Platform: Windows-10-10.0.19045-SP0<br>Processor: Intel64 Family 6 Model 141 Stepping 1, GenuineIntel<br>CPU count: 16<br>Memory (GB): 34.07<br>",
          "Forecaster: ForecasterRecursiveMultiSeries<br>Regressor: LGBMRegressor<br>Function: ForecasterRecursiveMultiSeries__create_train_X_y_series_is_dataframe_no_exog<br>Function_hash: 7b994fdfa33ce4a2084e303d3f49c934<br>Datetime: 2025-04-24 18:17:26.968773<br>Python version: 3.11.10<br>skforecast version: 0.16.0<br>numpy version: 2.2.5<br>pandas version: 2.2.3<br>sklearn version: 1.6.1<br>lightgbm version: 4.5.0<br>Platform: Windows-10-10.0.19045-SP0<br>Processor: Intel64 Family 6 Model 141 Stepping 1, GenuineIntel<br>CPU count: 16<br>Memory (GB): 34.07<br>"
         ],
         "type": "scatter",
         "x": [
          1.9612920605272641,
          1.973403156847176
         ],
         "y": [
          1.148996340003214,
          0.9943257499966421
         ]
        },
        {
         "line": {
          "color": "black",
          "width": 2
         },
         "marker": {
          "color": "black",
          "size": 8
         },
         "mode": "lines+markers",
         "name": "Median (per version)",
         "type": "scatter",
         "x": [
          0,
          1,
          2
         ],
         "y": [
          1.3737355000019307,
          1.5910808000029646,
          1.071661044999928
         ]
        },
        {
         "line": {
          "color": "black",
          "dash": "dash",
          "width": 2
         },
         "marker": {
          "color": "black",
          "size": 8
         },
         "mode": "lines+markers",
         "name": "Mean (per version)",
         "type": "scatter",
         "x": [
          0,
          1,
          2
         ],
         "y": [
          1.3737355000019307,
          1.5910808000029646,
          1.071661044999928
         ]
        }
       ],
       "layout": {
        "showlegend": true,
        "template": {
         "data": {
          "bar": [
           {
            "error_x": {
             "color": "#2a3f5f"
            },
            "error_y": {
             "color": "#2a3f5f"
            },
            "marker": {
             "line": {
              "color": "#E5ECF6",
              "width": 0.5
             },
             "pattern": {
              "fillmode": "overlay",
              "size": 10,
              "solidity": 0.2
             }
            },
            "type": "bar"
           }
          ],
          "barpolar": [
           {
            "marker": {
             "line": {
              "color": "#E5ECF6",
              "width": 0.5
             },
             "pattern": {
              "fillmode": "overlay",
              "size": 10,
              "solidity": 0.2
             }
            },
            "type": "barpolar"
           }
          ],
          "carpet": [
           {
            "aaxis": {
             "endlinecolor": "#2a3f5f",
             "gridcolor": "white",
             "linecolor": "white",
             "minorgridcolor": "white",
             "startlinecolor": "#2a3f5f"
            },
            "baxis": {
             "endlinecolor": "#2a3f5f",
             "gridcolor": "white",
             "linecolor": "white",
             "minorgridcolor": "white",
             "startlinecolor": "#2a3f5f"
            },
            "type": "carpet"
           }
          ],
          "choropleth": [
           {
            "colorbar": {
             "outlinewidth": 0,
             "ticks": ""
            },
            "type": "choropleth"
           }
          ],
          "contour": [
           {
            "colorbar": {
             "outlinewidth": 0,
             "ticks": ""
            },
            "colorscale": [
             [
              0,
              "#0d0887"
             ],
             [
              0.1111111111111111,
              "#46039f"
             ],
             [
              0.2222222222222222,
              "#7201a8"
             ],
             [
              0.3333333333333333,
              "#9c179e"
             ],
             [
              0.4444444444444444,
              "#bd3786"
             ],
             [
              0.5555555555555556,
              "#d8576b"
             ],
             [
              0.6666666666666666,
              "#ed7953"
             ],
             [
              0.7777777777777778,
              "#fb9f3a"
             ],
             [
              0.8888888888888888,
              "#fdca26"
             ],
             [
              1,
              "#f0f921"
             ]
            ],
            "type": "contour"
           }
          ],
          "contourcarpet": [
           {
            "colorbar": {
             "outlinewidth": 0,
             "ticks": ""
            },
            "type": "contourcarpet"
           }
          ],
          "heatmap": [
           {
            "colorbar": {
             "outlinewidth": 0,
             "ticks": ""
            },
            "colorscale": [
             [
              0,
              "#0d0887"
             ],
             [
              0.1111111111111111,
              "#46039f"
             ],
             [
              0.2222222222222222,
              "#7201a8"
             ],
             [
              0.3333333333333333,
              "#9c179e"
             ],
             [
              0.4444444444444444,
              "#bd3786"
             ],
             [
              0.5555555555555556,
              "#d8576b"
             ],
             [
              0.6666666666666666,
              "#ed7953"
             ],
             [
              0.7777777777777778,
              "#fb9f3a"
             ],
             [
              0.8888888888888888,
              "#fdca26"
             ],
             [
              1,
              "#f0f921"
             ]
            ],
            "type": "heatmap"
           }
          ],
          "heatmapgl": [
           {
            "colorbar": {
             "outlinewidth": 0,
             "ticks": ""
            },
            "colorscale": [
             [
              0,
              "#0d0887"
             ],
             [
              0.1111111111111111,
              "#46039f"
             ],
             [
              0.2222222222222222,
              "#7201a8"
             ],
             [
              0.3333333333333333,
              "#9c179e"
             ],
             [
              0.4444444444444444,
              "#bd3786"
             ],
             [
              0.5555555555555556,
              "#d8576b"
             ],
             [
              0.6666666666666666,
              "#ed7953"
             ],
             [
              0.7777777777777778,
              "#fb9f3a"
             ],
             [
              0.8888888888888888,
              "#fdca26"
             ],
             [
              1,
              "#f0f921"
             ]
            ],
            "type": "heatmapgl"
           }
          ],
          "histogram": [
           {
            "marker": {
             "pattern": {
              "fillmode": "overlay",
              "size": 10,
              "solidity": 0.2
             }
            },
            "type": "histogram"
           }
          ],
          "histogram2d": [
           {
            "colorbar": {
             "outlinewidth": 0,
             "ticks": ""
            },
            "colorscale": [
             [
              0,
              "#0d0887"
             ],
             [
              0.1111111111111111,
              "#46039f"
             ],
             [
              0.2222222222222222,
              "#7201a8"
             ],
             [
              0.3333333333333333,
              "#9c179e"
             ],
             [
              0.4444444444444444,
              "#bd3786"
             ],
             [
              0.5555555555555556,
              "#d8576b"
             ],
             [
              0.6666666666666666,
              "#ed7953"
             ],
             [
              0.7777777777777778,
              "#fb9f3a"
             ],
             [
              0.8888888888888888,
              "#fdca26"
             ],
             [
              1,
              "#f0f921"
             ]
            ],
            "type": "histogram2d"
           }
          ],
          "histogram2dcontour": [
           {
            "colorbar": {
             "outlinewidth": 0,
             "ticks": ""
            },
            "colorscale": [
             [
              0,
              "#0d0887"
             ],
             [
              0.1111111111111111,
              "#46039f"
             ],
             [
              0.2222222222222222,
              "#7201a8"
             ],
             [
              0.3333333333333333,
              "#9c179e"
             ],
             [
              0.4444444444444444,
              "#bd3786"
             ],
             [
              0.5555555555555556,
              "#d8576b"
             ],
             [
              0.6666666666666666,
              "#ed7953"
             ],
             [
              0.7777777777777778,
              "#fb9f3a"
             ],
             [
              0.8888888888888888,
              "#fdca26"
             ],
             [
              1,
              "#f0f921"
             ]
            ],
            "type": "histogram2dcontour"
           }
          ],
          "mesh3d": [
           {
            "colorbar": {
             "outlinewidth": 0,
             "ticks": ""
            },
            "type": "mesh3d"
           }
          ],
          "parcoords": [
           {
            "line": {
             "colorbar": {
              "outlinewidth": 0,
              "ticks": ""
             }
            },
            "type": "parcoords"
           }
          ],
          "pie": [
           {
            "automargin": true,
            "type": "pie"
           }
          ],
          "scatter": [
           {
            "fillpattern": {
             "fillmode": "overlay",
             "size": 10,
             "solidity": 0.2
            },
            "type": "scatter"
           }
          ],
          "scatter3d": [
           {
            "line": {
             "colorbar": {
              "outlinewidth": 0,
              "ticks": ""
             }
            },
            "marker": {
             "colorbar": {
              "outlinewidth": 0,
              "ticks": ""
             }
            },
            "type": "scatter3d"
           }
          ],
          "scattercarpet": [
           {
            "marker": {
             "colorbar": {
              "outlinewidth": 0,
              "ticks": ""
             }
            },
            "type": "scattercarpet"
           }
          ],
          "scattergeo": [
           {
            "marker": {
             "colorbar": {
              "outlinewidth": 0,
              "ticks": ""
             }
            },
            "type": "scattergeo"
           }
          ],
          "scattergl": [
           {
            "marker": {
             "colorbar": {
              "outlinewidth": 0,
              "ticks": ""
             }
            },
            "type": "scattergl"
           }
          ],
          "scattermapbox": [
           {
            "marker": {
             "colorbar": {
              "outlinewidth": 0,
              "ticks": ""
             }
            },
            "type": "scattermapbox"
           }
          ],
          "scatterpolar": [
           {
            "marker": {
             "colorbar": {
              "outlinewidth": 0,
              "ticks": ""
             }
            },
            "type": "scatterpolar"
           }
          ],
          "scatterpolargl": [
           {
            "marker": {
             "colorbar": {
              "outlinewidth": 0,
              "ticks": ""
             }
            },
            "type": "scatterpolargl"
           }
          ],
          "scatterternary": [
           {
            "marker": {
             "colorbar": {
              "outlinewidth": 0,
              "ticks": ""
             }
            },
            "type": "scatterternary"
           }
          ],
          "surface": [
           {
            "colorbar": {
             "outlinewidth": 0,
             "ticks": ""
            },
            "colorscale": [
             [
              0,
              "#0d0887"
             ],
             [
              0.1111111111111111,
              "#46039f"
             ],
             [
              0.2222222222222222,
              "#7201a8"
             ],
             [
              0.3333333333333333,
              "#9c179e"
             ],
             [
              0.4444444444444444,
              "#bd3786"
             ],
             [
              0.5555555555555556,
              "#d8576b"
             ],
             [
              0.6666666666666666,
              "#ed7953"
             ],
             [
              0.7777777777777778,
              "#fb9f3a"
             ],
             [
              0.8888888888888888,
              "#fdca26"
             ],
             [
              1,
              "#f0f921"
             ]
            ],
            "type": "surface"
           }
          ],
          "table": [
           {
            "cells": {
             "fill": {
              "color": "#EBF0F8"
             },
             "line": {
              "color": "white"
             }
            },
            "header": {
             "fill": {
              "color": "#C8D4E3"
             },
             "line": {
              "color": "white"
             }
            },
            "type": "table"
           }
          ]
         },
         "layout": {
          "annotationdefaults": {
           "arrowcolor": "#2a3f5f",
           "arrowhead": 0,
           "arrowwidth": 1
          },
          "autotypenumbers": "strict",
          "coloraxis": {
           "colorbar": {
            "outlinewidth": 0,
            "ticks": ""
           }
          },
          "colorscale": {
           "diverging": [
            [
             0,
             "#8e0152"
            ],
            [
             0.1,
             "#c51b7d"
            ],
            [
             0.2,
             "#de77ae"
            ],
            [
             0.3,
             "#f1b6da"
            ],
            [
             0.4,
             "#fde0ef"
            ],
            [
             0.5,
             "#f7f7f7"
            ],
            [
             0.6,
             "#e6f5d0"
            ],
            [
             0.7,
             "#b8e186"
            ],
            [
             0.8,
             "#7fbc41"
            ],
            [
             0.9,
             "#4d9221"
            ],
            [
             1,
             "#276419"
            ]
           ],
           "sequential": [
            [
             0,
             "#0d0887"
            ],
            [
             0.1111111111111111,
             "#46039f"
            ],
            [
             0.2222222222222222,
             "#7201a8"
            ],
            [
             0.3333333333333333,
             "#9c179e"
            ],
            [
             0.4444444444444444,
             "#bd3786"
            ],
            [
             0.5555555555555556,
             "#d8576b"
            ],
            [
             0.6666666666666666,
             "#ed7953"
            ],
            [
             0.7777777777777778,
             "#fb9f3a"
            ],
            [
             0.8888888888888888,
             "#fdca26"
            ],
            [
             1,
             "#f0f921"
            ]
           ],
           "sequentialminus": [
            [
             0,
             "#0d0887"
            ],
            [
             0.1111111111111111,
             "#46039f"
            ],
            [
             0.2222222222222222,
             "#7201a8"
            ],
            [
             0.3333333333333333,
             "#9c179e"
            ],
            [
             0.4444444444444444,
             "#bd3786"
            ],
            [
             0.5555555555555556,
             "#d8576b"
            ],
            [
             0.6666666666666666,
             "#ed7953"
            ],
            [
             0.7777777777777778,
             "#fb9f3a"
            ],
            [
             0.8888888888888888,
             "#fdca26"
            ],
            [
             1,
             "#f0f921"
            ]
           ]
          },
          "colorway": [
           "#636efa",
           "#EF553B",
           "#00cc96",
           "#ab63fa",
           "#FFA15A",
           "#19d3f3",
           "#FF6692",
           "#B6E880",
           "#FF97FF",
           "#FECB52"
          ],
          "font": {
           "color": "#2a3f5f"
          },
          "geo": {
           "bgcolor": "white",
           "lakecolor": "white",
           "landcolor": "#E5ECF6",
           "showlakes": true,
           "showland": true,
           "subunitcolor": "white"
          },
          "hoverlabel": {
           "align": "left"
          },
          "hovermode": "closest",
          "mapbox": {
           "style": "light"
          },
          "paper_bgcolor": "white",
          "plot_bgcolor": "#E5ECF6",
          "polar": {
           "angularaxis": {
            "gridcolor": "white",
            "linecolor": "white",
            "ticks": ""
           },
           "bgcolor": "#E5ECF6",
           "radialaxis": {
            "gridcolor": "white",
            "linecolor": "white",
            "ticks": ""
           }
          },
          "scene": {
           "xaxis": {
            "backgroundcolor": "#E5ECF6",
            "gridcolor": "white",
            "gridwidth": 2,
            "linecolor": "white",
            "showbackground": true,
            "ticks": "",
            "zerolinecolor": "white"
           },
           "yaxis": {
            "backgroundcolor": "#E5ECF6",
            "gridcolor": "white",
            "gridwidth": 2,
            "linecolor": "white",
            "showbackground": true,
            "ticks": "",
            "zerolinecolor": "white"
           },
           "zaxis": {
            "backgroundcolor": "#E5ECF6",
            "gridcolor": "white",
            "gridwidth": 2,
            "linecolor": "white",
            "showbackground": true,
            "ticks": "",
            "zerolinecolor": "white"
           }
          },
          "shapedefaults": {
           "line": {
            "color": "#2a3f5f"
           }
          },
          "ternary": {
           "aaxis": {
            "gridcolor": "white",
            "linecolor": "white",
            "ticks": ""
           },
           "baxis": {
            "gridcolor": "white",
            "linecolor": "white",
            "ticks": ""
           },
           "bgcolor": "#E5ECF6",
           "caxis": {
            "gridcolor": "white",
            "linecolor": "white",
            "ticks": ""
           }
          },
          "title": {
           "x": 0.05
          },
          "xaxis": {
           "automargin": true,
           "gridcolor": "white",
           "linecolor": "white",
           "ticks": "",
           "title": {
            "standoff": 15
           },
           "zerolinecolor": "white",
           "zerolinewidth": 2
          },
          "yaxis": {
           "automargin": true,
           "gridcolor": "white",
           "linecolor": "white",
           "ticks": "",
           "title": {
            "standoff": 15
           },
           "zerolinecolor": "white",
           "zerolinewidth": 2
          }
         }
        },
        "title": {
         "text": "Execution time of ForecasterRecursiveMultiSeries__create_train_X_y_series_is_dataframe_no_exog"
        },
        "xaxis": {
         "tickangle": -45,
         "tickmode": "array",
         "ticktext": [
          "0.14.0",
          "0.15.1",
          "0.16.0"
         ],
         "tickvals": [
          0,
          1,
          2
         ],
         "title": {
          "text": "skforecast version"
         }
        },
        "yaxis": {
         "title": {
          "text": "Execution time (seconds)"
         }
        }
       }
      }
     },
     "metadata": {},
     "output_type": "display_data"
    },
    {
     "data": {
      "application/vnd.microsoft.datawrangler.viewer.v0+json": {
       "columns": [
        {
         "name": "index",
         "rawType": "int64",
         "type": "integer"
        },
        {
         "name": "forecaster_name",
         "rawType": "object",
         "type": "string"
        },
        {
         "name": "regressor_name",
         "rawType": "object",
         "type": "string"
        },
        {
         "name": "function_name",
         "rawType": "object",
         "type": "string"
        },
        {
         "name": "function_hash",
         "rawType": "object",
         "type": "string"
        },
        {
         "name": "run_time_avg",
         "rawType": "float64",
         "type": "float"
        },
        {
         "name": "run_time_std_dev",
         "rawType": "float64",
         "type": "float"
        },
        {
         "name": "datetime",
         "rawType": "datetime64[ns]",
         "type": "datetime"
        },
        {
         "name": "python_version",
         "rawType": "object",
         "type": "string"
        },
        {
         "name": "skforecast_version",
         "rawType": "object",
         "type": "string"
        },
        {
         "name": "numpy_version",
         "rawType": "object",
         "type": "string"
        },
        {
         "name": "pandas_version",
         "rawType": "object",
         "type": "string"
        },
        {
         "name": "sklearn_version",
         "rawType": "object",
         "type": "string"
        },
        {
         "name": "lightgbm_version",
         "rawType": "object",
         "type": "string"
        },
        {
         "name": "platform",
         "rawType": "object",
         "type": "string"
        },
        {
         "name": "processor",
         "rawType": "object",
         "type": "string"
        },
        {
         "name": "cpu_count",
         "rawType": "int64",
         "type": "integer"
        },
        {
         "name": "memory_gb",
         "rawType": "float64",
         "type": "float"
        }
       ],
       "conversionMethod": "pd.DataFrame",
       "ref": "940e065a-e4ed-406a-b451-edf7d061610c",
       "rows": [
        [
         "149",
         "ForecasterRecursiveMultiSeries",
         "LGBMRegressor",
         "ForecasterRecursiveMultiSeries__create_train_X_y_single_series",
         "ea2ceb1c912245376ba4cea7595175be",
         "0.0013857900004950352",
         "0.0003316690759316444",
         "2025-04-24 10:34:25.258910",
         "3.11.10",
         "0.15.1",
         "2.1.3",
         "2.2.3",
         "1.6.1",
         "4.5.0",
         "Windows-10-10.0.19045-SP0",
         "Intel64 Family 6 Model 141 Stepping 1, GenuineIntel",
         "16",
         "34.07"
        ],
        [
         "164",
         "ForecasterRecursiveMultiSeries",
         "LGBMRegressor",
         "ForecasterRecursiveMultiSeries__create_train_X_y_single_series",
         "ea2ceb1c912245376ba4cea7595175be",
         "0.0009643399986089207",
         "0.00019905234879310832",
         "2025-04-24 10:41:22.054972",
         "3.11.10",
         "0.14.0",
         "2.1.3",
         "2.2.3",
         "1.6.1",
         "4.5.0",
         "Windows-10-10.0.19045-SP0",
         "Intel64 Family 6 Model 141 Stepping 1, GenuineIntel",
         "16",
         "34.07"
        ],
        [
         "179",
         "ForecasterRecursiveMultiSeries",
         "LGBMRegressor",
         "ForecasterRecursiveMultiSeries__create_train_X_y_single_series",
         "ea2ceb1c912245376ba4cea7595175be",
         "0.0009933299996191635",
         "0.00024465709687919234",
         "2025-04-24 11:08:35.727601",
         "3.11.10",
         "0.14.0",
         "2.1.3",
         "2.2.3",
         "1.6.1",
         "4.5.0",
         "Windows-10-10.0.19045-SP0",
         "Intel64 Family 6 Model 141 Stepping 1, GenuineIntel",
         "16",
         "34.07"
        ],
        [
         "194",
         "ForecasterRecursiveMultiSeries",
         "LGBMRegressor",
         "ForecasterRecursiveMultiSeries__create_train_X_y_single_series",
         "ea2ceb1c912245376ba4cea7595175be",
         "0.001340409999829717",
         "0.00025690022164508505",
         "2025-04-24 11:17:43.625303",
         "3.11.10",
         "0.15.1",
         "2.1.3",
         "2.2.3",
         "1.6.1",
         "4.5.0",
         "Windows-10-10.0.19045-SP0",
         "Intel64 Family 6 Model 141 Stepping 1, GenuineIntel",
         "16",
         "34.07"
        ],
        [
         "210",
         "ForecasterRecursiveMultiSeries",
         "LGBMRegressor",
         "ForecasterRecursiveMultiSeries__create_train_X_y_single_series",
         "ea2ceb1c912245376ba4cea7595175be",
         "0.0009356500013382174",
         "0.0005265791626645761",
         "2025-04-24 18:03:46.716793",
         "3.11.10",
         "0.16.0",
         "2.2.5",
         "2.2.3",
         "1.6.1",
         "4.5.0",
         "Windows-10-10.0.19045-SP0",
         "Intel64 Family 6 Model 141 Stepping 1, GenuineIntel",
         "16",
         "34.07"
        ],
        [
         "227",
         "ForecasterRecursiveMultiSeries",
         "LGBMRegressor",
         "ForecasterRecursiveMultiSeries__create_train_X_y_single_series",
         "ea2ceb1c912245376ba4cea7595175be",
         "0.0007173900012276135",
         "0.00016552549993912837",
         "2025-04-24 18:17:40.787470",
         "3.11.10",
         "0.16.0",
         "2.2.5",
         "2.2.3",
         "1.6.1",
         "4.5.0",
         "Windows-10-10.0.19045-SP0",
         "Intel64 Family 6 Model 141 Stepping 1, GenuineIntel",
         "16",
         "34.07"
        ]
       ],
       "shape": {
        "columns": 17,
        "rows": 6
       }
      },
      "text/html": [
       "<div>\n",
       "<style scoped>\n",
       "    .dataframe tbody tr th:only-of-type {\n",
       "        vertical-align: middle;\n",
       "    }\n",
       "\n",
       "    .dataframe tbody tr th {\n",
       "        vertical-align: top;\n",
       "    }\n",
       "\n",
       "    .dataframe thead th {\n",
       "        text-align: right;\n",
       "    }\n",
       "</style>\n",
       "<table border=\"1\" class=\"dataframe\">\n",
       "  <thead>\n",
       "    <tr style=\"text-align: right;\">\n",
       "      <th></th>\n",
       "      <th>forecaster_name</th>\n",
       "      <th>regressor_name</th>\n",
       "      <th>function_name</th>\n",
       "      <th>function_hash</th>\n",
       "      <th>run_time_avg</th>\n",
       "      <th>run_time_std_dev</th>\n",
       "      <th>datetime</th>\n",
       "      <th>python_version</th>\n",
       "      <th>skforecast_version</th>\n",
       "      <th>numpy_version</th>\n",
       "      <th>pandas_version</th>\n",
       "      <th>sklearn_version</th>\n",
       "      <th>lightgbm_version</th>\n",
       "      <th>platform</th>\n",
       "      <th>processor</th>\n",
       "      <th>cpu_count</th>\n",
       "      <th>memory_gb</th>\n",
       "    </tr>\n",
       "  </thead>\n",
       "  <tbody>\n",
       "    <tr>\n",
       "      <th>149</th>\n",
       "      <td>ForecasterRecursiveMultiSeries</td>\n",
       "      <td>LGBMRegressor</td>\n",
       "      <td>ForecasterRecursiveMultiSeries__create_train_X...</td>\n",
       "      <td>ea2ceb1c912245376ba4cea7595175be</td>\n",
       "      <td>0.001386</td>\n",
       "      <td>0.000332</td>\n",
       "      <td>2025-04-24 10:34:25.258910</td>\n",
       "      <td>3.11.10</td>\n",
       "      <td>0.15.1</td>\n",
       "      <td>2.1.3</td>\n",
       "      <td>2.2.3</td>\n",
       "      <td>1.6.1</td>\n",
       "      <td>4.5.0</td>\n",
       "      <td>Windows-10-10.0.19045-SP0</td>\n",
       "      <td>Intel64 Family 6 Model 141 Stepping 1, Genuine...</td>\n",
       "      <td>16</td>\n",
       "      <td>34.07</td>\n",
       "    </tr>\n",
       "    <tr>\n",
       "      <th>164</th>\n",
       "      <td>ForecasterRecursiveMultiSeries</td>\n",
       "      <td>LGBMRegressor</td>\n",
       "      <td>ForecasterRecursiveMultiSeries__create_train_X...</td>\n",
       "      <td>ea2ceb1c912245376ba4cea7595175be</td>\n",
       "      <td>0.000964</td>\n",
       "      <td>0.000199</td>\n",
       "      <td>2025-04-24 10:41:22.054972</td>\n",
       "      <td>3.11.10</td>\n",
       "      <td>0.14.0</td>\n",
       "      <td>2.1.3</td>\n",
       "      <td>2.2.3</td>\n",
       "      <td>1.6.1</td>\n",
       "      <td>4.5.0</td>\n",
       "      <td>Windows-10-10.0.19045-SP0</td>\n",
       "      <td>Intel64 Family 6 Model 141 Stepping 1, Genuine...</td>\n",
       "      <td>16</td>\n",
       "      <td>34.07</td>\n",
       "    </tr>\n",
       "    <tr>\n",
       "      <th>179</th>\n",
       "      <td>ForecasterRecursiveMultiSeries</td>\n",
       "      <td>LGBMRegressor</td>\n",
       "      <td>ForecasterRecursiveMultiSeries__create_train_X...</td>\n",
       "      <td>ea2ceb1c912245376ba4cea7595175be</td>\n",
       "      <td>0.000993</td>\n",
       "      <td>0.000245</td>\n",
       "      <td>2025-04-24 11:08:35.727601</td>\n",
       "      <td>3.11.10</td>\n",
       "      <td>0.14.0</td>\n",
       "      <td>2.1.3</td>\n",
       "      <td>2.2.3</td>\n",
       "      <td>1.6.1</td>\n",
       "      <td>4.5.0</td>\n",
       "      <td>Windows-10-10.0.19045-SP0</td>\n",
       "      <td>Intel64 Family 6 Model 141 Stepping 1, Genuine...</td>\n",
       "      <td>16</td>\n",
       "      <td>34.07</td>\n",
       "    </tr>\n",
       "    <tr>\n",
       "      <th>194</th>\n",
       "      <td>ForecasterRecursiveMultiSeries</td>\n",
       "      <td>LGBMRegressor</td>\n",
       "      <td>ForecasterRecursiveMultiSeries__create_train_X...</td>\n",
       "      <td>ea2ceb1c912245376ba4cea7595175be</td>\n",
       "      <td>0.001340</td>\n",
       "      <td>0.000257</td>\n",
       "      <td>2025-04-24 11:17:43.625303</td>\n",
       "      <td>3.11.10</td>\n",
       "      <td>0.15.1</td>\n",
       "      <td>2.1.3</td>\n",
       "      <td>2.2.3</td>\n",
       "      <td>1.6.1</td>\n",
       "      <td>4.5.0</td>\n",
       "      <td>Windows-10-10.0.19045-SP0</td>\n",
       "      <td>Intel64 Family 6 Model 141 Stepping 1, Genuine...</td>\n",
       "      <td>16</td>\n",
       "      <td>34.07</td>\n",
       "    </tr>\n",
       "    <tr>\n",
       "      <th>210</th>\n",
       "      <td>ForecasterRecursiveMultiSeries</td>\n",
       "      <td>LGBMRegressor</td>\n",
       "      <td>ForecasterRecursiveMultiSeries__create_train_X...</td>\n",
       "      <td>ea2ceb1c912245376ba4cea7595175be</td>\n",
       "      <td>0.000936</td>\n",
       "      <td>0.000527</td>\n",
       "      <td>2025-04-24 18:03:46.716793</td>\n",
       "      <td>3.11.10</td>\n",
       "      <td>0.16.0</td>\n",
       "      <td>2.2.5</td>\n",
       "      <td>2.2.3</td>\n",
       "      <td>1.6.1</td>\n",
       "      <td>4.5.0</td>\n",
       "      <td>Windows-10-10.0.19045-SP0</td>\n",
       "      <td>Intel64 Family 6 Model 141 Stepping 1, Genuine...</td>\n",
       "      <td>16</td>\n",
       "      <td>34.07</td>\n",
       "    </tr>\n",
       "    <tr>\n",
       "      <th>227</th>\n",
       "      <td>ForecasterRecursiveMultiSeries</td>\n",
       "      <td>LGBMRegressor</td>\n",
       "      <td>ForecasterRecursiveMultiSeries__create_train_X...</td>\n",
       "      <td>ea2ceb1c912245376ba4cea7595175be</td>\n",
       "      <td>0.000717</td>\n",
       "      <td>0.000166</td>\n",
       "      <td>2025-04-24 18:17:40.787470</td>\n",
       "      <td>3.11.10</td>\n",
       "      <td>0.16.0</td>\n",
       "      <td>2.2.5</td>\n",
       "      <td>2.2.3</td>\n",
       "      <td>1.6.1</td>\n",
       "      <td>4.5.0</td>\n",
       "      <td>Windows-10-10.0.19045-SP0</td>\n",
       "      <td>Intel64 Family 6 Model 141 Stepping 1, Genuine...</td>\n",
       "      <td>16</td>\n",
       "      <td>34.07</td>\n",
       "    </tr>\n",
       "  </tbody>\n",
       "</table>\n",
       "</div>"
      ],
      "text/plain": [
       "                    forecaster_name regressor_name  \\\n",
       "149  ForecasterRecursiveMultiSeries  LGBMRegressor   \n",
       "164  ForecasterRecursiveMultiSeries  LGBMRegressor   \n",
       "179  ForecasterRecursiveMultiSeries  LGBMRegressor   \n",
       "194  ForecasterRecursiveMultiSeries  LGBMRegressor   \n",
       "210  ForecasterRecursiveMultiSeries  LGBMRegressor   \n",
       "227  ForecasterRecursiveMultiSeries  LGBMRegressor   \n",
       "\n",
       "                                         function_name  \\\n",
       "149  ForecasterRecursiveMultiSeries__create_train_X...   \n",
       "164  ForecasterRecursiveMultiSeries__create_train_X...   \n",
       "179  ForecasterRecursiveMultiSeries__create_train_X...   \n",
       "194  ForecasterRecursiveMultiSeries__create_train_X...   \n",
       "210  ForecasterRecursiveMultiSeries__create_train_X...   \n",
       "227  ForecasterRecursiveMultiSeries__create_train_X...   \n",
       "\n",
       "                        function_hash  run_time_avg  run_time_std_dev  \\\n",
       "149  ea2ceb1c912245376ba4cea7595175be      0.001386          0.000332   \n",
       "164  ea2ceb1c912245376ba4cea7595175be      0.000964          0.000199   \n",
       "179  ea2ceb1c912245376ba4cea7595175be      0.000993          0.000245   \n",
       "194  ea2ceb1c912245376ba4cea7595175be      0.001340          0.000257   \n",
       "210  ea2ceb1c912245376ba4cea7595175be      0.000936          0.000527   \n",
       "227  ea2ceb1c912245376ba4cea7595175be      0.000717          0.000166   \n",
       "\n",
       "                      datetime python_version skforecast_version  \\\n",
       "149 2025-04-24 10:34:25.258910        3.11.10             0.15.1   \n",
       "164 2025-04-24 10:41:22.054972        3.11.10             0.14.0   \n",
       "179 2025-04-24 11:08:35.727601        3.11.10             0.14.0   \n",
       "194 2025-04-24 11:17:43.625303        3.11.10             0.15.1   \n",
       "210 2025-04-24 18:03:46.716793        3.11.10             0.16.0   \n",
       "227 2025-04-24 18:17:40.787470        3.11.10             0.16.0   \n",
       "\n",
       "    numpy_version pandas_version sklearn_version lightgbm_version  \\\n",
       "149         2.1.3          2.2.3           1.6.1            4.5.0   \n",
       "164         2.1.3          2.2.3           1.6.1            4.5.0   \n",
       "179         2.1.3          2.2.3           1.6.1            4.5.0   \n",
       "194         2.1.3          2.2.3           1.6.1            4.5.0   \n",
       "210         2.2.5          2.2.3           1.6.1            4.5.0   \n",
       "227         2.2.5          2.2.3           1.6.1            4.5.0   \n",
       "\n",
       "                      platform  \\\n",
       "149  Windows-10-10.0.19045-SP0   \n",
       "164  Windows-10-10.0.19045-SP0   \n",
       "179  Windows-10-10.0.19045-SP0   \n",
       "194  Windows-10-10.0.19045-SP0   \n",
       "210  Windows-10-10.0.19045-SP0   \n",
       "227  Windows-10-10.0.19045-SP0   \n",
       "\n",
       "                                             processor  cpu_count  memory_gb  \n",
       "149  Intel64 Family 6 Model 141 Stepping 1, Genuine...         16      34.07  \n",
       "164  Intel64 Family 6 Model 141 Stepping 1, Genuine...         16      34.07  \n",
       "179  Intel64 Family 6 Model 141 Stepping 1, Genuine...         16      34.07  \n",
       "194  Intel64 Family 6 Model 141 Stepping 1, Genuine...         16      34.07  \n",
       "210  Intel64 Family 6 Model 141 Stepping 1, Genuine...         16      34.07  \n",
       "227  Intel64 Family 6 Model 141 Stepping 1, Genuine...         16      34.07  "
      ]
     },
     "metadata": {},
     "output_type": "display_data"
    },
    {
     "data": {
      "application/vnd.plotly.v1+json": {
       "config": {
        "plotlyServerURL": "https://plot.ly"
       },
       "data": [
        {
         "error_y": {
          "array": [
           0.00019905234879310832,
           0.00024465709687919234
          ],
          "color": "#636EFA",
          "thickness": 1.5,
          "type": "data",
          "visible": true,
          "width": 5
         },
         "hovertemplate": "%{text}<extra></extra>",
         "marker": {
          "color": "#636EFA",
          "opacity": 0.7,
          "size": 10
         },
         "mode": "markers",
         "name": "Run time - 0.14.0",
         "showlegend": true,
         "text": [
          "Forecaster: ForecasterRecursiveMultiSeries<br>Regressor: LGBMRegressor<br>Function: ForecasterRecursiveMultiSeries__create_train_X_y_single_series<br>Function_hash: ea2ceb1c912245376ba4cea7595175be<br>Datetime: 2025-04-24 10:41:22.054972<br>Python version: 3.11.10<br>skforecast version: 0.14.0<br>numpy version: 2.1.3<br>pandas version: 2.2.3<br>sklearn version: 1.6.1<br>lightgbm version: 4.5.0<br>Platform: Windows-10-10.0.19045-SP0<br>Processor: Intel64 Family 6 Model 141 Stepping 1, GenuineIntel<br>CPU count: 16<br>Memory (GB): 34.07<br>",
          "Forecaster: ForecasterRecursiveMultiSeries<br>Regressor: LGBMRegressor<br>Function: ForecasterRecursiveMultiSeries__create_train_X_y_single_series<br>Function_hash: ea2ceb1c912245376ba4cea7595175be<br>Datetime: 2025-04-24 11:08:35.727601<br>Python version: 3.11.10<br>skforecast version: 0.14.0<br>numpy version: 2.1.3<br>pandas version: 2.2.3<br>sklearn version: 1.6.1<br>lightgbm version: 4.5.0<br>Platform: Windows-10-10.0.19045-SP0<br>Processor: Intel64 Family 6 Model 141 Stepping 1, GenuineIntel<br>CPU count: 16<br>Memory (GB): 34.07<br>"
         ],
         "type": "scatter",
         "x": [
          -0.013072724445363663,
          0.008194560218857672
         ],
         "y": [
          0.0009643399986089207,
          0.0009933299996191635
         ]
        },
        {
         "error_y": {
          "array": [
           0.0003316690759316444,
           0.00025690022164508505
          ],
          "color": "#EF553B",
          "thickness": 1.5,
          "type": "data",
          "visible": true,
          "width": 5
         },
         "hovertemplate": "%{text}<extra></extra>",
         "marker": {
          "color": "#EF553B",
          "opacity": 0.7,
          "size": 10
         },
         "mode": "markers",
         "name": "Run time - 0.15.1",
         "showlegend": true,
         "text": [
          "Forecaster: ForecasterRecursiveMultiSeries<br>Regressor: LGBMRegressor<br>Function: ForecasterRecursiveMultiSeries__create_train_X_y_single_series<br>Function_hash: ea2ceb1c912245376ba4cea7595175be<br>Datetime: 2025-04-24 10:34:25.258910<br>Python version: 3.11.10<br>skforecast version: 0.15.1<br>numpy version: 2.1.3<br>pandas version: 2.2.3<br>sklearn version: 1.6.1<br>lightgbm version: 4.5.0<br>Platform: Windows-10-10.0.19045-SP0<br>Processor: Intel64 Family 6 Model 141 Stepping 1, GenuineIntel<br>CPU count: 16<br>Memory (GB): 34.07<br>",
          "Forecaster: ForecasterRecursiveMultiSeries<br>Regressor: LGBMRegressor<br>Function: ForecasterRecursiveMultiSeries__create_train_X_y_single_series<br>Function_hash: ea2ceb1c912245376ba4cea7595175be<br>Datetime: 2025-04-24 11:17:43.625303<br>Python version: 3.11.10<br>skforecast version: 0.15.1<br>numpy version: 2.1.3<br>pandas version: 2.2.3<br>sklearn version: 1.6.1<br>lightgbm version: 4.5.0<br>Platform: Windows-10-10.0.19045-SP0<br>Processor: Intel64 Family 6 Model 141 Stepping 1, GenuineIntel<br>CPU count: 16<br>Memory (GB): 34.07<br>"
         ],
         "type": "scatter",
         "x": [
          1.0081293121881658,
          1.0419283988672943
         ],
         "y": [
          0.0013857900004950352,
          0.001340409999829717
         ]
        },
        {
         "error_y": {
          "array": [
           0.0005265791626645761,
           0.00016552549993912837
          ],
          "color": "#00CC96",
          "thickness": 1.5,
          "type": "data",
          "visible": true,
          "width": 5
         },
         "hovertemplate": "%{text}<extra></extra>",
         "marker": {
          "color": "#00CC96",
          "opacity": 0.7,
          "size": 10
         },
         "mode": "markers",
         "name": "Run time - 0.16.0",
         "showlegend": true,
         "text": [
          "Forecaster: ForecasterRecursiveMultiSeries<br>Regressor: LGBMRegressor<br>Function: ForecasterRecursiveMultiSeries__create_train_X_y_single_series<br>Function_hash: ea2ceb1c912245376ba4cea7595175be<br>Datetime: 2025-04-24 18:03:46.716793<br>Python version: 3.11.10<br>skforecast version: 0.16.0<br>numpy version: 2.2.5<br>pandas version: 2.2.3<br>sklearn version: 1.6.1<br>lightgbm version: 4.5.0<br>Platform: Windows-10-10.0.19045-SP0<br>Processor: Intel64 Family 6 Model 141 Stepping 1, GenuineIntel<br>CPU count: 16<br>Memory (GB): 34.07<br>",
          "Forecaster: ForecasterRecursiveMultiSeries<br>Regressor: LGBMRegressor<br>Function: ForecasterRecursiveMultiSeries__create_train_X_y_single_series<br>Function_hash: ea2ceb1c912245376ba4cea7595175be<br>Datetime: 2025-04-24 18:17:40.787470<br>Python version: 3.11.10<br>skforecast version: 0.16.0<br>numpy version: 2.2.5<br>pandas version: 2.2.3<br>sklearn version: 1.6.1<br>lightgbm version: 4.5.0<br>Platform: Windows-10-10.0.19045-SP0<br>Processor: Intel64 Family 6 Model 141 Stepping 1, GenuineIntel<br>CPU count: 16<br>Memory (GB): 34.07<br>"
         ],
         "type": "scatter",
         "x": [
          1.9612920605272641,
          1.973403156847176
         ],
         "y": [
          0.0009356500013382174,
          0.0007173900012276135
         ]
        },
        {
         "line": {
          "color": "black",
          "width": 2
         },
         "marker": {
          "color": "black",
          "size": 8
         },
         "mode": "lines+markers",
         "name": "Median (per version)",
         "type": "scatter",
         "x": [
          0,
          1,
          2
         ],
         "y": [
          0.0009788349991140422,
          0.001363100000162376,
          0.0008265200012829155
         ]
        },
        {
         "line": {
          "color": "black",
          "dash": "dash",
          "width": 2
         },
         "marker": {
          "color": "black",
          "size": 8
         },
         "mode": "lines+markers",
         "name": "Mean (per version)",
         "type": "scatter",
         "x": [
          0,
          1,
          2
         ],
         "y": [
          0.0009788349991140422,
          0.001363100000162376,
          0.0008265200012829155
         ]
        }
       ],
       "layout": {
        "showlegend": true,
        "template": {
         "data": {
          "bar": [
           {
            "error_x": {
             "color": "#2a3f5f"
            },
            "error_y": {
             "color": "#2a3f5f"
            },
            "marker": {
             "line": {
              "color": "#E5ECF6",
              "width": 0.5
             },
             "pattern": {
              "fillmode": "overlay",
              "size": 10,
              "solidity": 0.2
             }
            },
            "type": "bar"
           }
          ],
          "barpolar": [
           {
            "marker": {
             "line": {
              "color": "#E5ECF6",
              "width": 0.5
             },
             "pattern": {
              "fillmode": "overlay",
              "size": 10,
              "solidity": 0.2
             }
            },
            "type": "barpolar"
           }
          ],
          "carpet": [
           {
            "aaxis": {
             "endlinecolor": "#2a3f5f",
             "gridcolor": "white",
             "linecolor": "white",
             "minorgridcolor": "white",
             "startlinecolor": "#2a3f5f"
            },
            "baxis": {
             "endlinecolor": "#2a3f5f",
             "gridcolor": "white",
             "linecolor": "white",
             "minorgridcolor": "white",
             "startlinecolor": "#2a3f5f"
            },
            "type": "carpet"
           }
          ],
          "choropleth": [
           {
            "colorbar": {
             "outlinewidth": 0,
             "ticks": ""
            },
            "type": "choropleth"
           }
          ],
          "contour": [
           {
            "colorbar": {
             "outlinewidth": 0,
             "ticks": ""
            },
            "colorscale": [
             [
              0,
              "#0d0887"
             ],
             [
              0.1111111111111111,
              "#46039f"
             ],
             [
              0.2222222222222222,
              "#7201a8"
             ],
             [
              0.3333333333333333,
              "#9c179e"
             ],
             [
              0.4444444444444444,
              "#bd3786"
             ],
             [
              0.5555555555555556,
              "#d8576b"
             ],
             [
              0.6666666666666666,
              "#ed7953"
             ],
             [
              0.7777777777777778,
              "#fb9f3a"
             ],
             [
              0.8888888888888888,
              "#fdca26"
             ],
             [
              1,
              "#f0f921"
             ]
            ],
            "type": "contour"
           }
          ],
          "contourcarpet": [
           {
            "colorbar": {
             "outlinewidth": 0,
             "ticks": ""
            },
            "type": "contourcarpet"
           }
          ],
          "heatmap": [
           {
            "colorbar": {
             "outlinewidth": 0,
             "ticks": ""
            },
            "colorscale": [
             [
              0,
              "#0d0887"
             ],
             [
              0.1111111111111111,
              "#46039f"
             ],
             [
              0.2222222222222222,
              "#7201a8"
             ],
             [
              0.3333333333333333,
              "#9c179e"
             ],
             [
              0.4444444444444444,
              "#bd3786"
             ],
             [
              0.5555555555555556,
              "#d8576b"
             ],
             [
              0.6666666666666666,
              "#ed7953"
             ],
             [
              0.7777777777777778,
              "#fb9f3a"
             ],
             [
              0.8888888888888888,
              "#fdca26"
             ],
             [
              1,
              "#f0f921"
             ]
            ],
            "type": "heatmap"
           }
          ],
          "heatmapgl": [
           {
            "colorbar": {
             "outlinewidth": 0,
             "ticks": ""
            },
            "colorscale": [
             [
              0,
              "#0d0887"
             ],
             [
              0.1111111111111111,
              "#46039f"
             ],
             [
              0.2222222222222222,
              "#7201a8"
             ],
             [
              0.3333333333333333,
              "#9c179e"
             ],
             [
              0.4444444444444444,
              "#bd3786"
             ],
             [
              0.5555555555555556,
              "#d8576b"
             ],
             [
              0.6666666666666666,
              "#ed7953"
             ],
             [
              0.7777777777777778,
              "#fb9f3a"
             ],
             [
              0.8888888888888888,
              "#fdca26"
             ],
             [
              1,
              "#f0f921"
             ]
            ],
            "type": "heatmapgl"
           }
          ],
          "histogram": [
           {
            "marker": {
             "pattern": {
              "fillmode": "overlay",
              "size": 10,
              "solidity": 0.2
             }
            },
            "type": "histogram"
           }
          ],
          "histogram2d": [
           {
            "colorbar": {
             "outlinewidth": 0,
             "ticks": ""
            },
            "colorscale": [
             [
              0,
              "#0d0887"
             ],
             [
              0.1111111111111111,
              "#46039f"
             ],
             [
              0.2222222222222222,
              "#7201a8"
             ],
             [
              0.3333333333333333,
              "#9c179e"
             ],
             [
              0.4444444444444444,
              "#bd3786"
             ],
             [
              0.5555555555555556,
              "#d8576b"
             ],
             [
              0.6666666666666666,
              "#ed7953"
             ],
             [
              0.7777777777777778,
              "#fb9f3a"
             ],
             [
              0.8888888888888888,
              "#fdca26"
             ],
             [
              1,
              "#f0f921"
             ]
            ],
            "type": "histogram2d"
           }
          ],
          "histogram2dcontour": [
           {
            "colorbar": {
             "outlinewidth": 0,
             "ticks": ""
            },
            "colorscale": [
             [
              0,
              "#0d0887"
             ],
             [
              0.1111111111111111,
              "#46039f"
             ],
             [
              0.2222222222222222,
              "#7201a8"
             ],
             [
              0.3333333333333333,
              "#9c179e"
             ],
             [
              0.4444444444444444,
              "#bd3786"
             ],
             [
              0.5555555555555556,
              "#d8576b"
             ],
             [
              0.6666666666666666,
              "#ed7953"
             ],
             [
              0.7777777777777778,
              "#fb9f3a"
             ],
             [
              0.8888888888888888,
              "#fdca26"
             ],
             [
              1,
              "#f0f921"
             ]
            ],
            "type": "histogram2dcontour"
           }
          ],
          "mesh3d": [
           {
            "colorbar": {
             "outlinewidth": 0,
             "ticks": ""
            },
            "type": "mesh3d"
           }
          ],
          "parcoords": [
           {
            "line": {
             "colorbar": {
              "outlinewidth": 0,
              "ticks": ""
             }
            },
            "type": "parcoords"
           }
          ],
          "pie": [
           {
            "automargin": true,
            "type": "pie"
           }
          ],
          "scatter": [
           {
            "fillpattern": {
             "fillmode": "overlay",
             "size": 10,
             "solidity": 0.2
            },
            "type": "scatter"
           }
          ],
          "scatter3d": [
           {
            "line": {
             "colorbar": {
              "outlinewidth": 0,
              "ticks": ""
             }
            },
            "marker": {
             "colorbar": {
              "outlinewidth": 0,
              "ticks": ""
             }
            },
            "type": "scatter3d"
           }
          ],
          "scattercarpet": [
           {
            "marker": {
             "colorbar": {
              "outlinewidth": 0,
              "ticks": ""
             }
            },
            "type": "scattercarpet"
           }
          ],
          "scattergeo": [
           {
            "marker": {
             "colorbar": {
              "outlinewidth": 0,
              "ticks": ""
             }
            },
            "type": "scattergeo"
           }
          ],
          "scattergl": [
           {
            "marker": {
             "colorbar": {
              "outlinewidth": 0,
              "ticks": ""
             }
            },
            "type": "scattergl"
           }
          ],
          "scattermapbox": [
           {
            "marker": {
             "colorbar": {
              "outlinewidth": 0,
              "ticks": ""
             }
            },
            "type": "scattermapbox"
           }
          ],
          "scatterpolar": [
           {
            "marker": {
             "colorbar": {
              "outlinewidth": 0,
              "ticks": ""
             }
            },
            "type": "scatterpolar"
           }
          ],
          "scatterpolargl": [
           {
            "marker": {
             "colorbar": {
              "outlinewidth": 0,
              "ticks": ""
             }
            },
            "type": "scatterpolargl"
           }
          ],
          "scatterternary": [
           {
            "marker": {
             "colorbar": {
              "outlinewidth": 0,
              "ticks": ""
             }
            },
            "type": "scatterternary"
           }
          ],
          "surface": [
           {
            "colorbar": {
             "outlinewidth": 0,
             "ticks": ""
            },
            "colorscale": [
             [
              0,
              "#0d0887"
             ],
             [
              0.1111111111111111,
              "#46039f"
             ],
             [
              0.2222222222222222,
              "#7201a8"
             ],
             [
              0.3333333333333333,
              "#9c179e"
             ],
             [
              0.4444444444444444,
              "#bd3786"
             ],
             [
              0.5555555555555556,
              "#d8576b"
             ],
             [
              0.6666666666666666,
              "#ed7953"
             ],
             [
              0.7777777777777778,
              "#fb9f3a"
             ],
             [
              0.8888888888888888,
              "#fdca26"
             ],
             [
              1,
              "#f0f921"
             ]
            ],
            "type": "surface"
           }
          ],
          "table": [
           {
            "cells": {
             "fill": {
              "color": "#EBF0F8"
             },
             "line": {
              "color": "white"
             }
            },
            "header": {
             "fill": {
              "color": "#C8D4E3"
             },
             "line": {
              "color": "white"
             }
            },
            "type": "table"
           }
          ]
         },
         "layout": {
          "annotationdefaults": {
           "arrowcolor": "#2a3f5f",
           "arrowhead": 0,
           "arrowwidth": 1
          },
          "autotypenumbers": "strict",
          "coloraxis": {
           "colorbar": {
            "outlinewidth": 0,
            "ticks": ""
           }
          },
          "colorscale": {
           "diverging": [
            [
             0,
             "#8e0152"
            ],
            [
             0.1,
             "#c51b7d"
            ],
            [
             0.2,
             "#de77ae"
            ],
            [
             0.3,
             "#f1b6da"
            ],
            [
             0.4,
             "#fde0ef"
            ],
            [
             0.5,
             "#f7f7f7"
            ],
            [
             0.6,
             "#e6f5d0"
            ],
            [
             0.7,
             "#b8e186"
            ],
            [
             0.8,
             "#7fbc41"
            ],
            [
             0.9,
             "#4d9221"
            ],
            [
             1,
             "#276419"
            ]
           ],
           "sequential": [
            [
             0,
             "#0d0887"
            ],
            [
             0.1111111111111111,
             "#46039f"
            ],
            [
             0.2222222222222222,
             "#7201a8"
            ],
            [
             0.3333333333333333,
             "#9c179e"
            ],
            [
             0.4444444444444444,
             "#bd3786"
            ],
            [
             0.5555555555555556,
             "#d8576b"
            ],
            [
             0.6666666666666666,
             "#ed7953"
            ],
            [
             0.7777777777777778,
             "#fb9f3a"
            ],
            [
             0.8888888888888888,
             "#fdca26"
            ],
            [
             1,
             "#f0f921"
            ]
           ],
           "sequentialminus": [
            [
             0,
             "#0d0887"
            ],
            [
             0.1111111111111111,
             "#46039f"
            ],
            [
             0.2222222222222222,
             "#7201a8"
            ],
            [
             0.3333333333333333,
             "#9c179e"
            ],
            [
             0.4444444444444444,
             "#bd3786"
            ],
            [
             0.5555555555555556,
             "#d8576b"
            ],
            [
             0.6666666666666666,
             "#ed7953"
            ],
            [
             0.7777777777777778,
             "#fb9f3a"
            ],
            [
             0.8888888888888888,
             "#fdca26"
            ],
            [
             1,
             "#f0f921"
            ]
           ]
          },
          "colorway": [
           "#636efa",
           "#EF553B",
           "#00cc96",
           "#ab63fa",
           "#FFA15A",
           "#19d3f3",
           "#FF6692",
           "#B6E880",
           "#FF97FF",
           "#FECB52"
          ],
          "font": {
           "color": "#2a3f5f"
          },
          "geo": {
           "bgcolor": "white",
           "lakecolor": "white",
           "landcolor": "#E5ECF6",
           "showlakes": true,
           "showland": true,
           "subunitcolor": "white"
          },
          "hoverlabel": {
           "align": "left"
          },
          "hovermode": "closest",
          "mapbox": {
           "style": "light"
          },
          "paper_bgcolor": "white",
          "plot_bgcolor": "#E5ECF6",
          "polar": {
           "angularaxis": {
            "gridcolor": "white",
            "linecolor": "white",
            "ticks": ""
           },
           "bgcolor": "#E5ECF6",
           "radialaxis": {
            "gridcolor": "white",
            "linecolor": "white",
            "ticks": ""
           }
          },
          "scene": {
           "xaxis": {
            "backgroundcolor": "#E5ECF6",
            "gridcolor": "white",
            "gridwidth": 2,
            "linecolor": "white",
            "showbackground": true,
            "ticks": "",
            "zerolinecolor": "white"
           },
           "yaxis": {
            "backgroundcolor": "#E5ECF6",
            "gridcolor": "white",
            "gridwidth": 2,
            "linecolor": "white",
            "showbackground": true,
            "ticks": "",
            "zerolinecolor": "white"
           },
           "zaxis": {
            "backgroundcolor": "#E5ECF6",
            "gridcolor": "white",
            "gridwidth": 2,
            "linecolor": "white",
            "showbackground": true,
            "ticks": "",
            "zerolinecolor": "white"
           }
          },
          "shapedefaults": {
           "line": {
            "color": "#2a3f5f"
           }
          },
          "ternary": {
           "aaxis": {
            "gridcolor": "white",
            "linecolor": "white",
            "ticks": ""
           },
           "baxis": {
            "gridcolor": "white",
            "linecolor": "white",
            "ticks": ""
           },
           "bgcolor": "#E5ECF6",
           "caxis": {
            "gridcolor": "white",
            "linecolor": "white",
            "ticks": ""
           }
          },
          "title": {
           "x": 0.05
          },
          "xaxis": {
           "automargin": true,
           "gridcolor": "white",
           "linecolor": "white",
           "ticks": "",
           "title": {
            "standoff": 15
           },
           "zerolinecolor": "white",
           "zerolinewidth": 2
          },
          "yaxis": {
           "automargin": true,
           "gridcolor": "white",
           "linecolor": "white",
           "ticks": "",
           "title": {
            "standoff": 15
           },
           "zerolinecolor": "white",
           "zerolinewidth": 2
          }
         }
        },
        "title": {
         "text": "Execution time of ForecasterRecursiveMultiSeries__create_train_X_y_single_series"
        },
        "xaxis": {
         "tickangle": -45,
         "tickmode": "array",
         "ticktext": [
          "0.14.0",
          "0.15.1",
          "0.16.0"
         ],
         "tickvals": [
          0,
          1,
          2
         ],
         "title": {
          "text": "skforecast version"
         }
        },
        "yaxis": {
         "title": {
          "text": "Execution time (seconds)"
         }
        }
       }
      }
     },
     "metadata": {},
     "output_type": "display_data"
    },
    {
     "data": {
      "application/vnd.microsoft.datawrangler.viewer.v0+json": {
       "columns": [
        {
         "name": "index",
         "rawType": "int64",
         "type": "integer"
        },
        {
         "name": "forecaster_name",
         "rawType": "object",
         "type": "string"
        },
        {
         "name": "regressor_name",
         "rawType": "object",
         "type": "string"
        },
        {
         "name": "function_name",
         "rawType": "object",
         "type": "string"
        },
        {
         "name": "function_hash",
         "rawType": "object",
         "type": "string"
        },
        {
         "name": "run_time_avg",
         "rawType": "float64",
         "type": "float"
        },
        {
         "name": "run_time_std_dev",
         "rawType": "float64",
         "type": "float"
        },
        {
         "name": "datetime",
         "rawType": "datetime64[ns]",
         "type": "datetime"
        },
        {
         "name": "python_version",
         "rawType": "object",
         "type": "string"
        },
        {
         "name": "skforecast_version",
         "rawType": "object",
         "type": "string"
        },
        {
         "name": "numpy_version",
         "rawType": "object",
         "type": "string"
        },
        {
         "name": "pandas_version",
         "rawType": "object",
         "type": "string"
        },
        {
         "name": "sklearn_version",
         "rawType": "object",
         "type": "string"
        },
        {
         "name": "lightgbm_version",
         "rawType": "object",
         "type": "string"
        },
        {
         "name": "platform",
         "rawType": "object",
         "type": "string"
        },
        {
         "name": "processor",
         "rawType": "object",
         "type": "string"
        },
        {
         "name": "cpu_count",
         "rawType": "int64",
         "type": "integer"
        },
        {
         "name": "memory_gb",
         "rawType": "float64",
         "type": "float"
        }
       ],
       "conversionMethod": "pd.DataFrame",
       "ref": "6845686e-c788-4b70-90c3-f50dba49854e",
       "rows": [
        [
         "150",
         "ForecasterRecursiveMultiSeries",
         "LGBMRegressor",
         "ForecasterRecursiveMultiSeries_predict_exog_is_dict",
         "451898dccb92cc6f0a674d62eb66e4d8",
         "1.3553392199988594",
         "0.05805085091350834",
         "2025-04-24 10:34:38.836399",
         "3.11.10",
         "0.15.1",
         "2.1.3",
         "2.2.3",
         "1.6.1",
         "4.5.0",
         "Windows-10-10.0.19045-SP0",
         "Intel64 Family 6 Model 141 Stepping 1, GenuineIntel",
         "16",
         "34.07"
        ],
        [
         "165",
         "ForecasterRecursiveMultiSeries",
         "LGBMRegressor",
         "ForecasterRecursiveMultiSeries_predict_exog_is_dict",
         "451898dccb92cc6f0a674d62eb66e4d8",
         "1.1331196300001465",
         "0.019056042205524724",
         "2025-04-24 10:41:33.410151",
         "3.11.10",
         "0.14.0",
         "2.1.3",
         "2.2.3",
         "1.6.1",
         "4.5.0",
         "Windows-10-10.0.19045-SP0",
         "Intel64 Family 6 Model 141 Stepping 1, GenuineIntel",
         "16",
         "34.07"
        ],
        [
         "180",
         "ForecasterRecursiveMultiSeries",
         "LGBMRegressor",
         "ForecasterRecursiveMultiSeries_predict_exog_is_dict",
         "451898dccb92cc6f0a674d62eb66e4d8",
         "1.140983389999019",
         "0.023296442463697383",
         "2025-04-24 11:08:47.158365",
         "3.11.10",
         "0.14.0",
         "2.1.3",
         "2.2.3",
         "1.6.1",
         "4.5.0",
         "Windows-10-10.0.19045-SP0",
         "Intel64 Family 6 Model 141 Stepping 1, GenuineIntel",
         "16",
         "34.07"
        ],
        [
         "195",
         "ForecasterRecursiveMultiSeries",
         "LGBMRegressor",
         "ForecasterRecursiveMultiSeries_predict_exog_is_dict",
         "451898dccb92cc6f0a674d62eb66e4d8",
         "1.3572226200019941",
         "0.062108457160957295",
         "2025-04-24 11:17:57.213546",
         "3.11.10",
         "0.15.1",
         "2.1.3",
         "2.2.3",
         "1.6.1",
         "4.5.0",
         "Windows-10-10.0.19045-SP0",
         "Intel64 Family 6 Model 141 Stepping 1, GenuineIntel",
         "16",
         "34.07"
        ],
        [
         "211",
         "ForecasterRecursiveMultiSeries",
         "LGBMRegressor",
         "ForecasterRecursiveMultiSeries_predict_exog_is_dict",
         "451898dccb92cc6f0a674d62eb66e4d8",
         "0.427459230000386",
         "0.05670333746585685",
         "2025-04-24 18:03:51.016699",
         "3.11.10",
         "0.16.0",
         "2.2.5",
         "2.2.3",
         "1.6.1",
         "4.5.0",
         "Windows-10-10.0.19045-SP0",
         "Intel64 Family 6 Model 141 Stepping 1, GenuineIntel",
         "16",
         "34.07"
        ],
        [
         "230",
         "ForecasterRecursiveMultiSeries",
         "LGBMRegressor",
         "ForecasterRecursiveMultiSeries_predict_exog_is_dict",
         "451898dccb92cc6f0a674d62eb66e4d8",
         "0.34633332999947014",
         "0.04082783045494237",
         "2025-04-24 18:18:53.042930",
         "3.11.10",
         "0.16.0",
         "2.2.5",
         "2.2.3",
         "1.6.1",
         "4.5.0",
         "Windows-10-10.0.19045-SP0",
         "Intel64 Family 6 Model 141 Stepping 1, GenuineIntel",
         "16",
         "34.07"
        ]
       ],
       "shape": {
        "columns": 17,
        "rows": 6
       }
      },
      "text/html": [
       "<div>\n",
       "<style scoped>\n",
       "    .dataframe tbody tr th:only-of-type {\n",
       "        vertical-align: middle;\n",
       "    }\n",
       "\n",
       "    .dataframe tbody tr th {\n",
       "        vertical-align: top;\n",
       "    }\n",
       "\n",
       "    .dataframe thead th {\n",
       "        text-align: right;\n",
       "    }\n",
       "</style>\n",
       "<table border=\"1\" class=\"dataframe\">\n",
       "  <thead>\n",
       "    <tr style=\"text-align: right;\">\n",
       "      <th></th>\n",
       "      <th>forecaster_name</th>\n",
       "      <th>regressor_name</th>\n",
       "      <th>function_name</th>\n",
       "      <th>function_hash</th>\n",
       "      <th>run_time_avg</th>\n",
       "      <th>run_time_std_dev</th>\n",
       "      <th>datetime</th>\n",
       "      <th>python_version</th>\n",
       "      <th>skforecast_version</th>\n",
       "      <th>numpy_version</th>\n",
       "      <th>pandas_version</th>\n",
       "      <th>sklearn_version</th>\n",
       "      <th>lightgbm_version</th>\n",
       "      <th>platform</th>\n",
       "      <th>processor</th>\n",
       "      <th>cpu_count</th>\n",
       "      <th>memory_gb</th>\n",
       "    </tr>\n",
       "  </thead>\n",
       "  <tbody>\n",
       "    <tr>\n",
       "      <th>150</th>\n",
       "      <td>ForecasterRecursiveMultiSeries</td>\n",
       "      <td>LGBMRegressor</td>\n",
       "      <td>ForecasterRecursiveMultiSeries_predict_exog_is...</td>\n",
       "      <td>451898dccb92cc6f0a674d62eb66e4d8</td>\n",
       "      <td>1.355339</td>\n",
       "      <td>0.058051</td>\n",
       "      <td>2025-04-24 10:34:38.836399</td>\n",
       "      <td>3.11.10</td>\n",
       "      <td>0.15.1</td>\n",
       "      <td>2.1.3</td>\n",
       "      <td>2.2.3</td>\n",
       "      <td>1.6.1</td>\n",
       "      <td>4.5.0</td>\n",
       "      <td>Windows-10-10.0.19045-SP0</td>\n",
       "      <td>Intel64 Family 6 Model 141 Stepping 1, Genuine...</td>\n",
       "      <td>16</td>\n",
       "      <td>34.07</td>\n",
       "    </tr>\n",
       "    <tr>\n",
       "      <th>165</th>\n",
       "      <td>ForecasterRecursiveMultiSeries</td>\n",
       "      <td>LGBMRegressor</td>\n",
       "      <td>ForecasterRecursiveMultiSeries_predict_exog_is...</td>\n",
       "      <td>451898dccb92cc6f0a674d62eb66e4d8</td>\n",
       "      <td>1.133120</td>\n",
       "      <td>0.019056</td>\n",
       "      <td>2025-04-24 10:41:33.410151</td>\n",
       "      <td>3.11.10</td>\n",
       "      <td>0.14.0</td>\n",
       "      <td>2.1.3</td>\n",
       "      <td>2.2.3</td>\n",
       "      <td>1.6.1</td>\n",
       "      <td>4.5.0</td>\n",
       "      <td>Windows-10-10.0.19045-SP0</td>\n",
       "      <td>Intel64 Family 6 Model 141 Stepping 1, Genuine...</td>\n",
       "      <td>16</td>\n",
       "      <td>34.07</td>\n",
       "    </tr>\n",
       "    <tr>\n",
       "      <th>180</th>\n",
       "      <td>ForecasterRecursiveMultiSeries</td>\n",
       "      <td>LGBMRegressor</td>\n",
       "      <td>ForecasterRecursiveMultiSeries_predict_exog_is...</td>\n",
       "      <td>451898dccb92cc6f0a674d62eb66e4d8</td>\n",
       "      <td>1.140983</td>\n",
       "      <td>0.023296</td>\n",
       "      <td>2025-04-24 11:08:47.158365</td>\n",
       "      <td>3.11.10</td>\n",
       "      <td>0.14.0</td>\n",
       "      <td>2.1.3</td>\n",
       "      <td>2.2.3</td>\n",
       "      <td>1.6.1</td>\n",
       "      <td>4.5.0</td>\n",
       "      <td>Windows-10-10.0.19045-SP0</td>\n",
       "      <td>Intel64 Family 6 Model 141 Stepping 1, Genuine...</td>\n",
       "      <td>16</td>\n",
       "      <td>34.07</td>\n",
       "    </tr>\n",
       "    <tr>\n",
       "      <th>195</th>\n",
       "      <td>ForecasterRecursiveMultiSeries</td>\n",
       "      <td>LGBMRegressor</td>\n",
       "      <td>ForecasterRecursiveMultiSeries_predict_exog_is...</td>\n",
       "      <td>451898dccb92cc6f0a674d62eb66e4d8</td>\n",
       "      <td>1.357223</td>\n",
       "      <td>0.062108</td>\n",
       "      <td>2025-04-24 11:17:57.213546</td>\n",
       "      <td>3.11.10</td>\n",
       "      <td>0.15.1</td>\n",
       "      <td>2.1.3</td>\n",
       "      <td>2.2.3</td>\n",
       "      <td>1.6.1</td>\n",
       "      <td>4.5.0</td>\n",
       "      <td>Windows-10-10.0.19045-SP0</td>\n",
       "      <td>Intel64 Family 6 Model 141 Stepping 1, Genuine...</td>\n",
       "      <td>16</td>\n",
       "      <td>34.07</td>\n",
       "    </tr>\n",
       "    <tr>\n",
       "      <th>211</th>\n",
       "      <td>ForecasterRecursiveMultiSeries</td>\n",
       "      <td>LGBMRegressor</td>\n",
       "      <td>ForecasterRecursiveMultiSeries_predict_exog_is...</td>\n",
       "      <td>451898dccb92cc6f0a674d62eb66e4d8</td>\n",
       "      <td>0.427459</td>\n",
       "      <td>0.056703</td>\n",
       "      <td>2025-04-24 18:03:51.016699</td>\n",
       "      <td>3.11.10</td>\n",
       "      <td>0.16.0</td>\n",
       "      <td>2.2.5</td>\n",
       "      <td>2.2.3</td>\n",
       "      <td>1.6.1</td>\n",
       "      <td>4.5.0</td>\n",
       "      <td>Windows-10-10.0.19045-SP0</td>\n",
       "      <td>Intel64 Family 6 Model 141 Stepping 1, Genuine...</td>\n",
       "      <td>16</td>\n",
       "      <td>34.07</td>\n",
       "    </tr>\n",
       "    <tr>\n",
       "      <th>230</th>\n",
       "      <td>ForecasterRecursiveMultiSeries</td>\n",
       "      <td>LGBMRegressor</td>\n",
       "      <td>ForecasterRecursiveMultiSeries_predict_exog_is...</td>\n",
       "      <td>451898dccb92cc6f0a674d62eb66e4d8</td>\n",
       "      <td>0.346333</td>\n",
       "      <td>0.040828</td>\n",
       "      <td>2025-04-24 18:18:53.042930</td>\n",
       "      <td>3.11.10</td>\n",
       "      <td>0.16.0</td>\n",
       "      <td>2.2.5</td>\n",
       "      <td>2.2.3</td>\n",
       "      <td>1.6.1</td>\n",
       "      <td>4.5.0</td>\n",
       "      <td>Windows-10-10.0.19045-SP0</td>\n",
       "      <td>Intel64 Family 6 Model 141 Stepping 1, Genuine...</td>\n",
       "      <td>16</td>\n",
       "      <td>34.07</td>\n",
       "    </tr>\n",
       "  </tbody>\n",
       "</table>\n",
       "</div>"
      ],
      "text/plain": [
       "                    forecaster_name regressor_name  \\\n",
       "150  ForecasterRecursiveMultiSeries  LGBMRegressor   \n",
       "165  ForecasterRecursiveMultiSeries  LGBMRegressor   \n",
       "180  ForecasterRecursiveMultiSeries  LGBMRegressor   \n",
       "195  ForecasterRecursiveMultiSeries  LGBMRegressor   \n",
       "211  ForecasterRecursiveMultiSeries  LGBMRegressor   \n",
       "230  ForecasterRecursiveMultiSeries  LGBMRegressor   \n",
       "\n",
       "                                         function_name  \\\n",
       "150  ForecasterRecursiveMultiSeries_predict_exog_is...   \n",
       "165  ForecasterRecursiveMultiSeries_predict_exog_is...   \n",
       "180  ForecasterRecursiveMultiSeries_predict_exog_is...   \n",
       "195  ForecasterRecursiveMultiSeries_predict_exog_is...   \n",
       "211  ForecasterRecursiveMultiSeries_predict_exog_is...   \n",
       "230  ForecasterRecursiveMultiSeries_predict_exog_is...   \n",
       "\n",
       "                        function_hash  run_time_avg  run_time_std_dev  \\\n",
       "150  451898dccb92cc6f0a674d62eb66e4d8      1.355339          0.058051   \n",
       "165  451898dccb92cc6f0a674d62eb66e4d8      1.133120          0.019056   \n",
       "180  451898dccb92cc6f0a674d62eb66e4d8      1.140983          0.023296   \n",
       "195  451898dccb92cc6f0a674d62eb66e4d8      1.357223          0.062108   \n",
       "211  451898dccb92cc6f0a674d62eb66e4d8      0.427459          0.056703   \n",
       "230  451898dccb92cc6f0a674d62eb66e4d8      0.346333          0.040828   \n",
       "\n",
       "                      datetime python_version skforecast_version  \\\n",
       "150 2025-04-24 10:34:38.836399        3.11.10             0.15.1   \n",
       "165 2025-04-24 10:41:33.410151        3.11.10             0.14.0   \n",
       "180 2025-04-24 11:08:47.158365        3.11.10             0.14.0   \n",
       "195 2025-04-24 11:17:57.213546        3.11.10             0.15.1   \n",
       "211 2025-04-24 18:03:51.016699        3.11.10             0.16.0   \n",
       "230 2025-04-24 18:18:53.042930        3.11.10             0.16.0   \n",
       "\n",
       "    numpy_version pandas_version sklearn_version lightgbm_version  \\\n",
       "150         2.1.3          2.2.3           1.6.1            4.5.0   \n",
       "165         2.1.3          2.2.3           1.6.1            4.5.0   \n",
       "180         2.1.3          2.2.3           1.6.1            4.5.0   \n",
       "195         2.1.3          2.2.3           1.6.1            4.5.0   \n",
       "211         2.2.5          2.2.3           1.6.1            4.5.0   \n",
       "230         2.2.5          2.2.3           1.6.1            4.5.0   \n",
       "\n",
       "                      platform  \\\n",
       "150  Windows-10-10.0.19045-SP0   \n",
       "165  Windows-10-10.0.19045-SP0   \n",
       "180  Windows-10-10.0.19045-SP0   \n",
       "195  Windows-10-10.0.19045-SP0   \n",
       "211  Windows-10-10.0.19045-SP0   \n",
       "230  Windows-10-10.0.19045-SP0   \n",
       "\n",
       "                                             processor  cpu_count  memory_gb  \n",
       "150  Intel64 Family 6 Model 141 Stepping 1, Genuine...         16      34.07  \n",
       "165  Intel64 Family 6 Model 141 Stepping 1, Genuine...         16      34.07  \n",
       "180  Intel64 Family 6 Model 141 Stepping 1, Genuine...         16      34.07  \n",
       "195  Intel64 Family 6 Model 141 Stepping 1, Genuine...         16      34.07  \n",
       "211  Intel64 Family 6 Model 141 Stepping 1, Genuine...         16      34.07  \n",
       "230  Intel64 Family 6 Model 141 Stepping 1, Genuine...         16      34.07  "
      ]
     },
     "metadata": {},
     "output_type": "display_data"
    },
    {
     "data": {
      "application/vnd.plotly.v1+json": {
       "config": {
        "plotlyServerURL": "https://plot.ly"
       },
       "data": [
        {
         "error_y": {
          "array": [
           0.019056042205524724,
           0.023296442463697383
          ],
          "color": "#636EFA",
          "thickness": 1.5,
          "type": "data",
          "visible": true,
          "width": 5
         },
         "hovertemplate": "%{text}<extra></extra>",
         "marker": {
          "color": "#636EFA",
          "opacity": 0.7,
          "size": 10
         },
         "mode": "markers",
         "name": "Run time - 0.14.0",
         "showlegend": true,
         "text": [
          "Forecaster: ForecasterRecursiveMultiSeries<br>Regressor: LGBMRegressor<br>Function: ForecasterRecursiveMultiSeries_predict_exog_is_dict<br>Function_hash: 451898dccb92cc6f0a674d62eb66e4d8<br>Datetime: 2025-04-24 10:41:33.410151<br>Python version: 3.11.10<br>skforecast version: 0.14.0<br>numpy version: 2.1.3<br>pandas version: 2.2.3<br>sklearn version: 1.6.1<br>lightgbm version: 4.5.0<br>Platform: Windows-10-10.0.19045-SP0<br>Processor: Intel64 Family 6 Model 141 Stepping 1, GenuineIntel<br>CPU count: 16<br>Memory (GB): 34.07<br>",
          "Forecaster: ForecasterRecursiveMultiSeries<br>Regressor: LGBMRegressor<br>Function: ForecasterRecursiveMultiSeries_predict_exog_is_dict<br>Function_hash: 451898dccb92cc6f0a674d62eb66e4d8<br>Datetime: 2025-04-24 11:08:47.158365<br>Python version: 3.11.10<br>skforecast version: 0.14.0<br>numpy version: 2.1.3<br>pandas version: 2.2.3<br>sklearn version: 1.6.1<br>lightgbm version: 4.5.0<br>Platform: Windows-10-10.0.19045-SP0<br>Processor: Intel64 Family 6 Model 141 Stepping 1, GenuineIntel<br>CPU count: 16<br>Memory (GB): 34.07<br>"
         ],
         "type": "scatter",
         "x": [
          -0.013072724445363663,
          0.008194560218857672
         ],
         "y": [
          1.1331196300001465,
          1.140983389999019
         ]
        },
        {
         "error_y": {
          "array": [
           0.05805085091350834,
           0.062108457160957295
          ],
          "color": "#EF553B",
          "thickness": 1.5,
          "type": "data",
          "visible": true,
          "width": 5
         },
         "hovertemplate": "%{text}<extra></extra>",
         "marker": {
          "color": "#EF553B",
          "opacity": 0.7,
          "size": 10
         },
         "mode": "markers",
         "name": "Run time - 0.15.1",
         "showlegend": true,
         "text": [
          "Forecaster: ForecasterRecursiveMultiSeries<br>Regressor: LGBMRegressor<br>Function: ForecasterRecursiveMultiSeries_predict_exog_is_dict<br>Function_hash: 451898dccb92cc6f0a674d62eb66e4d8<br>Datetime: 2025-04-24 10:34:38.836399<br>Python version: 3.11.10<br>skforecast version: 0.15.1<br>numpy version: 2.1.3<br>pandas version: 2.2.3<br>sklearn version: 1.6.1<br>lightgbm version: 4.5.0<br>Platform: Windows-10-10.0.19045-SP0<br>Processor: Intel64 Family 6 Model 141 Stepping 1, GenuineIntel<br>CPU count: 16<br>Memory (GB): 34.07<br>",
          "Forecaster: ForecasterRecursiveMultiSeries<br>Regressor: LGBMRegressor<br>Function: ForecasterRecursiveMultiSeries_predict_exog_is_dict<br>Function_hash: 451898dccb92cc6f0a674d62eb66e4d8<br>Datetime: 2025-04-24 11:17:57.213546<br>Python version: 3.11.10<br>skforecast version: 0.15.1<br>numpy version: 2.1.3<br>pandas version: 2.2.3<br>sklearn version: 1.6.1<br>lightgbm version: 4.5.0<br>Platform: Windows-10-10.0.19045-SP0<br>Processor: Intel64 Family 6 Model 141 Stepping 1, GenuineIntel<br>CPU count: 16<br>Memory (GB): 34.07<br>"
         ],
         "type": "scatter",
         "x": [
          1.0081293121881658,
          1.0419283988672943
         ],
         "y": [
          1.3553392199988594,
          1.3572226200019941
         ]
        },
        {
         "error_y": {
          "array": [
           0.05670333746585685,
           0.04082783045494237
          ],
          "color": "#00CC96",
          "thickness": 1.5,
          "type": "data",
          "visible": true,
          "width": 5
         },
         "hovertemplate": "%{text}<extra></extra>",
         "marker": {
          "color": "#00CC96",
          "opacity": 0.7,
          "size": 10
         },
         "mode": "markers",
         "name": "Run time - 0.16.0",
         "showlegend": true,
         "text": [
          "Forecaster: ForecasterRecursiveMultiSeries<br>Regressor: LGBMRegressor<br>Function: ForecasterRecursiveMultiSeries_predict_exog_is_dict<br>Function_hash: 451898dccb92cc6f0a674d62eb66e4d8<br>Datetime: 2025-04-24 18:03:51.016699<br>Python version: 3.11.10<br>skforecast version: 0.16.0<br>numpy version: 2.2.5<br>pandas version: 2.2.3<br>sklearn version: 1.6.1<br>lightgbm version: 4.5.0<br>Platform: Windows-10-10.0.19045-SP0<br>Processor: Intel64 Family 6 Model 141 Stepping 1, GenuineIntel<br>CPU count: 16<br>Memory (GB): 34.07<br>",
          "Forecaster: ForecasterRecursiveMultiSeries<br>Regressor: LGBMRegressor<br>Function: ForecasterRecursiveMultiSeries_predict_exog_is_dict<br>Function_hash: 451898dccb92cc6f0a674d62eb66e4d8<br>Datetime: 2025-04-24 18:18:53.042930<br>Python version: 3.11.10<br>skforecast version: 0.16.0<br>numpy version: 2.2.5<br>pandas version: 2.2.3<br>sklearn version: 1.6.1<br>lightgbm version: 4.5.0<br>Platform: Windows-10-10.0.19045-SP0<br>Processor: Intel64 Family 6 Model 141 Stepping 1, GenuineIntel<br>CPU count: 16<br>Memory (GB): 34.07<br>"
         ],
         "type": "scatter",
         "x": [
          1.9612920605272641,
          1.973403156847176
         ],
         "y": [
          0.427459230000386,
          0.34633332999947014
         ]
        },
        {
         "line": {
          "color": "black",
          "width": 2
         },
         "marker": {
          "color": "black",
          "size": 8
         },
         "mode": "lines+markers",
         "name": "Median (per version)",
         "type": "scatter",
         "x": [
          0,
          1,
          2
         ],
         "y": [
          1.1370515099995826,
          1.3562809200004269,
          0.38689627999992804
         ]
        },
        {
         "line": {
          "color": "black",
          "dash": "dash",
          "width": 2
         },
         "marker": {
          "color": "black",
          "size": 8
         },
         "mode": "lines+markers",
         "name": "Mean (per version)",
         "type": "scatter",
         "x": [
          0,
          1,
          2
         ],
         "y": [
          1.1370515099995826,
          1.3562809200004269,
          0.38689627999992804
         ]
        }
       ],
       "layout": {
        "showlegend": true,
        "template": {
         "data": {
          "bar": [
           {
            "error_x": {
             "color": "#2a3f5f"
            },
            "error_y": {
             "color": "#2a3f5f"
            },
            "marker": {
             "line": {
              "color": "#E5ECF6",
              "width": 0.5
             },
             "pattern": {
              "fillmode": "overlay",
              "size": 10,
              "solidity": 0.2
             }
            },
            "type": "bar"
           }
          ],
          "barpolar": [
           {
            "marker": {
             "line": {
              "color": "#E5ECF6",
              "width": 0.5
             },
             "pattern": {
              "fillmode": "overlay",
              "size": 10,
              "solidity": 0.2
             }
            },
            "type": "barpolar"
           }
          ],
          "carpet": [
           {
            "aaxis": {
             "endlinecolor": "#2a3f5f",
             "gridcolor": "white",
             "linecolor": "white",
             "minorgridcolor": "white",
             "startlinecolor": "#2a3f5f"
            },
            "baxis": {
             "endlinecolor": "#2a3f5f",
             "gridcolor": "white",
             "linecolor": "white",
             "minorgridcolor": "white",
             "startlinecolor": "#2a3f5f"
            },
            "type": "carpet"
           }
          ],
          "choropleth": [
           {
            "colorbar": {
             "outlinewidth": 0,
             "ticks": ""
            },
            "type": "choropleth"
           }
          ],
          "contour": [
           {
            "colorbar": {
             "outlinewidth": 0,
             "ticks": ""
            },
            "colorscale": [
             [
              0,
              "#0d0887"
             ],
             [
              0.1111111111111111,
              "#46039f"
             ],
             [
              0.2222222222222222,
              "#7201a8"
             ],
             [
              0.3333333333333333,
              "#9c179e"
             ],
             [
              0.4444444444444444,
              "#bd3786"
             ],
             [
              0.5555555555555556,
              "#d8576b"
             ],
             [
              0.6666666666666666,
              "#ed7953"
             ],
             [
              0.7777777777777778,
              "#fb9f3a"
             ],
             [
              0.8888888888888888,
              "#fdca26"
             ],
             [
              1,
              "#f0f921"
             ]
            ],
            "type": "contour"
           }
          ],
          "contourcarpet": [
           {
            "colorbar": {
             "outlinewidth": 0,
             "ticks": ""
            },
            "type": "contourcarpet"
           }
          ],
          "heatmap": [
           {
            "colorbar": {
             "outlinewidth": 0,
             "ticks": ""
            },
            "colorscale": [
             [
              0,
              "#0d0887"
             ],
             [
              0.1111111111111111,
              "#46039f"
             ],
             [
              0.2222222222222222,
              "#7201a8"
             ],
             [
              0.3333333333333333,
              "#9c179e"
             ],
             [
              0.4444444444444444,
              "#bd3786"
             ],
             [
              0.5555555555555556,
              "#d8576b"
             ],
             [
              0.6666666666666666,
              "#ed7953"
             ],
             [
              0.7777777777777778,
              "#fb9f3a"
             ],
             [
              0.8888888888888888,
              "#fdca26"
             ],
             [
              1,
              "#f0f921"
             ]
            ],
            "type": "heatmap"
           }
          ],
          "heatmapgl": [
           {
            "colorbar": {
             "outlinewidth": 0,
             "ticks": ""
            },
            "colorscale": [
             [
              0,
              "#0d0887"
             ],
             [
              0.1111111111111111,
              "#46039f"
             ],
             [
              0.2222222222222222,
              "#7201a8"
             ],
             [
              0.3333333333333333,
              "#9c179e"
             ],
             [
              0.4444444444444444,
              "#bd3786"
             ],
             [
              0.5555555555555556,
              "#d8576b"
             ],
             [
              0.6666666666666666,
              "#ed7953"
             ],
             [
              0.7777777777777778,
              "#fb9f3a"
             ],
             [
              0.8888888888888888,
              "#fdca26"
             ],
             [
              1,
              "#f0f921"
             ]
            ],
            "type": "heatmapgl"
           }
          ],
          "histogram": [
           {
            "marker": {
             "pattern": {
              "fillmode": "overlay",
              "size": 10,
              "solidity": 0.2
             }
            },
            "type": "histogram"
           }
          ],
          "histogram2d": [
           {
            "colorbar": {
             "outlinewidth": 0,
             "ticks": ""
            },
            "colorscale": [
             [
              0,
              "#0d0887"
             ],
             [
              0.1111111111111111,
              "#46039f"
             ],
             [
              0.2222222222222222,
              "#7201a8"
             ],
             [
              0.3333333333333333,
              "#9c179e"
             ],
             [
              0.4444444444444444,
              "#bd3786"
             ],
             [
              0.5555555555555556,
              "#d8576b"
             ],
             [
              0.6666666666666666,
              "#ed7953"
             ],
             [
              0.7777777777777778,
              "#fb9f3a"
             ],
             [
              0.8888888888888888,
              "#fdca26"
             ],
             [
              1,
              "#f0f921"
             ]
            ],
            "type": "histogram2d"
           }
          ],
          "histogram2dcontour": [
           {
            "colorbar": {
             "outlinewidth": 0,
             "ticks": ""
            },
            "colorscale": [
             [
              0,
              "#0d0887"
             ],
             [
              0.1111111111111111,
              "#46039f"
             ],
             [
              0.2222222222222222,
              "#7201a8"
             ],
             [
              0.3333333333333333,
              "#9c179e"
             ],
             [
              0.4444444444444444,
              "#bd3786"
             ],
             [
              0.5555555555555556,
              "#d8576b"
             ],
             [
              0.6666666666666666,
              "#ed7953"
             ],
             [
              0.7777777777777778,
              "#fb9f3a"
             ],
             [
              0.8888888888888888,
              "#fdca26"
             ],
             [
              1,
              "#f0f921"
             ]
            ],
            "type": "histogram2dcontour"
           }
          ],
          "mesh3d": [
           {
            "colorbar": {
             "outlinewidth": 0,
             "ticks": ""
            },
            "type": "mesh3d"
           }
          ],
          "parcoords": [
           {
            "line": {
             "colorbar": {
              "outlinewidth": 0,
              "ticks": ""
             }
            },
            "type": "parcoords"
           }
          ],
          "pie": [
           {
            "automargin": true,
            "type": "pie"
           }
          ],
          "scatter": [
           {
            "fillpattern": {
             "fillmode": "overlay",
             "size": 10,
             "solidity": 0.2
            },
            "type": "scatter"
           }
          ],
          "scatter3d": [
           {
            "line": {
             "colorbar": {
              "outlinewidth": 0,
              "ticks": ""
             }
            },
            "marker": {
             "colorbar": {
              "outlinewidth": 0,
              "ticks": ""
             }
            },
            "type": "scatter3d"
           }
          ],
          "scattercarpet": [
           {
            "marker": {
             "colorbar": {
              "outlinewidth": 0,
              "ticks": ""
             }
            },
            "type": "scattercarpet"
           }
          ],
          "scattergeo": [
           {
            "marker": {
             "colorbar": {
              "outlinewidth": 0,
              "ticks": ""
             }
            },
            "type": "scattergeo"
           }
          ],
          "scattergl": [
           {
            "marker": {
             "colorbar": {
              "outlinewidth": 0,
              "ticks": ""
             }
            },
            "type": "scattergl"
           }
          ],
          "scattermapbox": [
           {
            "marker": {
             "colorbar": {
              "outlinewidth": 0,
              "ticks": ""
             }
            },
            "type": "scattermapbox"
           }
          ],
          "scatterpolar": [
           {
            "marker": {
             "colorbar": {
              "outlinewidth": 0,
              "ticks": ""
             }
            },
            "type": "scatterpolar"
           }
          ],
          "scatterpolargl": [
           {
            "marker": {
             "colorbar": {
              "outlinewidth": 0,
              "ticks": ""
             }
            },
            "type": "scatterpolargl"
           }
          ],
          "scatterternary": [
           {
            "marker": {
             "colorbar": {
              "outlinewidth": 0,
              "ticks": ""
             }
            },
            "type": "scatterternary"
           }
          ],
          "surface": [
           {
            "colorbar": {
             "outlinewidth": 0,
             "ticks": ""
            },
            "colorscale": [
             [
              0,
              "#0d0887"
             ],
             [
              0.1111111111111111,
              "#46039f"
             ],
             [
              0.2222222222222222,
              "#7201a8"
             ],
             [
              0.3333333333333333,
              "#9c179e"
             ],
             [
              0.4444444444444444,
              "#bd3786"
             ],
             [
              0.5555555555555556,
              "#d8576b"
             ],
             [
              0.6666666666666666,
              "#ed7953"
             ],
             [
              0.7777777777777778,
              "#fb9f3a"
             ],
             [
              0.8888888888888888,
              "#fdca26"
             ],
             [
              1,
              "#f0f921"
             ]
            ],
            "type": "surface"
           }
          ],
          "table": [
           {
            "cells": {
             "fill": {
              "color": "#EBF0F8"
             },
             "line": {
              "color": "white"
             }
            },
            "header": {
             "fill": {
              "color": "#C8D4E3"
             },
             "line": {
              "color": "white"
             }
            },
            "type": "table"
           }
          ]
         },
         "layout": {
          "annotationdefaults": {
           "arrowcolor": "#2a3f5f",
           "arrowhead": 0,
           "arrowwidth": 1
          },
          "autotypenumbers": "strict",
          "coloraxis": {
           "colorbar": {
            "outlinewidth": 0,
            "ticks": ""
           }
          },
          "colorscale": {
           "diverging": [
            [
             0,
             "#8e0152"
            ],
            [
             0.1,
             "#c51b7d"
            ],
            [
             0.2,
             "#de77ae"
            ],
            [
             0.3,
             "#f1b6da"
            ],
            [
             0.4,
             "#fde0ef"
            ],
            [
             0.5,
             "#f7f7f7"
            ],
            [
             0.6,
             "#e6f5d0"
            ],
            [
             0.7,
             "#b8e186"
            ],
            [
             0.8,
             "#7fbc41"
            ],
            [
             0.9,
             "#4d9221"
            ],
            [
             1,
             "#276419"
            ]
           ],
           "sequential": [
            [
             0,
             "#0d0887"
            ],
            [
             0.1111111111111111,
             "#46039f"
            ],
            [
             0.2222222222222222,
             "#7201a8"
            ],
            [
             0.3333333333333333,
             "#9c179e"
            ],
            [
             0.4444444444444444,
             "#bd3786"
            ],
            [
             0.5555555555555556,
             "#d8576b"
            ],
            [
             0.6666666666666666,
             "#ed7953"
            ],
            [
             0.7777777777777778,
             "#fb9f3a"
            ],
            [
             0.8888888888888888,
             "#fdca26"
            ],
            [
             1,
             "#f0f921"
            ]
           ],
           "sequentialminus": [
            [
             0,
             "#0d0887"
            ],
            [
             0.1111111111111111,
             "#46039f"
            ],
            [
             0.2222222222222222,
             "#7201a8"
            ],
            [
             0.3333333333333333,
             "#9c179e"
            ],
            [
             0.4444444444444444,
             "#bd3786"
            ],
            [
             0.5555555555555556,
             "#d8576b"
            ],
            [
             0.6666666666666666,
             "#ed7953"
            ],
            [
             0.7777777777777778,
             "#fb9f3a"
            ],
            [
             0.8888888888888888,
             "#fdca26"
            ],
            [
             1,
             "#f0f921"
            ]
           ]
          },
          "colorway": [
           "#636efa",
           "#EF553B",
           "#00cc96",
           "#ab63fa",
           "#FFA15A",
           "#19d3f3",
           "#FF6692",
           "#B6E880",
           "#FF97FF",
           "#FECB52"
          ],
          "font": {
           "color": "#2a3f5f"
          },
          "geo": {
           "bgcolor": "white",
           "lakecolor": "white",
           "landcolor": "#E5ECF6",
           "showlakes": true,
           "showland": true,
           "subunitcolor": "white"
          },
          "hoverlabel": {
           "align": "left"
          },
          "hovermode": "closest",
          "mapbox": {
           "style": "light"
          },
          "paper_bgcolor": "white",
          "plot_bgcolor": "#E5ECF6",
          "polar": {
           "angularaxis": {
            "gridcolor": "white",
            "linecolor": "white",
            "ticks": ""
           },
           "bgcolor": "#E5ECF6",
           "radialaxis": {
            "gridcolor": "white",
            "linecolor": "white",
            "ticks": ""
           }
          },
          "scene": {
           "xaxis": {
            "backgroundcolor": "#E5ECF6",
            "gridcolor": "white",
            "gridwidth": 2,
            "linecolor": "white",
            "showbackground": true,
            "ticks": "",
            "zerolinecolor": "white"
           },
           "yaxis": {
            "backgroundcolor": "#E5ECF6",
            "gridcolor": "white",
            "gridwidth": 2,
            "linecolor": "white",
            "showbackground": true,
            "ticks": "",
            "zerolinecolor": "white"
           },
           "zaxis": {
            "backgroundcolor": "#E5ECF6",
            "gridcolor": "white",
            "gridwidth": 2,
            "linecolor": "white",
            "showbackground": true,
            "ticks": "",
            "zerolinecolor": "white"
           }
          },
          "shapedefaults": {
           "line": {
            "color": "#2a3f5f"
           }
          },
          "ternary": {
           "aaxis": {
            "gridcolor": "white",
            "linecolor": "white",
            "ticks": ""
           },
           "baxis": {
            "gridcolor": "white",
            "linecolor": "white",
            "ticks": ""
           },
           "bgcolor": "#E5ECF6",
           "caxis": {
            "gridcolor": "white",
            "linecolor": "white",
            "ticks": ""
           }
          },
          "title": {
           "x": 0.05
          },
          "xaxis": {
           "automargin": true,
           "gridcolor": "white",
           "linecolor": "white",
           "ticks": "",
           "title": {
            "standoff": 15
           },
           "zerolinecolor": "white",
           "zerolinewidth": 2
          },
          "yaxis": {
           "automargin": true,
           "gridcolor": "white",
           "linecolor": "white",
           "ticks": "",
           "title": {
            "standoff": 15
           },
           "zerolinecolor": "white",
           "zerolinewidth": 2
          }
         }
        },
        "title": {
         "text": "Execution time of ForecasterRecursiveMultiSeries_predict_exog_is_dict"
        },
        "xaxis": {
         "tickangle": -45,
         "tickmode": "array",
         "ticktext": [
          "0.14.0",
          "0.15.1",
          "0.16.0"
         ],
         "tickvals": [
          0,
          1,
          2
         ],
         "title": {
          "text": "skforecast version"
         }
        },
        "yaxis": {
         "title": {
          "text": "Execution time (seconds)"
         }
        }
       }
      }
     },
     "metadata": {},
     "output_type": "display_data"
    },
    {
     "data": {
      "application/vnd.microsoft.datawrangler.viewer.v0+json": {
       "columns": [
        {
         "name": "index",
         "rawType": "int64",
         "type": "integer"
        },
        {
         "name": "forecaster_name",
         "rawType": "object",
         "type": "string"
        },
        {
         "name": "regressor_name",
         "rawType": "object",
         "type": "string"
        },
        {
         "name": "function_name",
         "rawType": "object",
         "type": "string"
        },
        {
         "name": "function_hash",
         "rawType": "object",
         "type": "string"
        },
        {
         "name": "run_time_avg",
         "rawType": "float64",
         "type": "float"
        },
        {
         "name": "run_time_std_dev",
         "rawType": "float64",
         "type": "float"
        },
        {
         "name": "datetime",
         "rawType": "datetime64[ns]",
         "type": "datetime"
        },
        {
         "name": "python_version",
         "rawType": "object",
         "type": "string"
        },
        {
         "name": "skforecast_version",
         "rawType": "object",
         "type": "string"
        },
        {
         "name": "numpy_version",
         "rawType": "object",
         "type": "string"
        },
        {
         "name": "pandas_version",
         "rawType": "object",
         "type": "string"
        },
        {
         "name": "sklearn_version",
         "rawType": "object",
         "type": "string"
        },
        {
         "name": "lightgbm_version",
         "rawType": "object",
         "type": "string"
        },
        {
         "name": "platform",
         "rawType": "object",
         "type": "string"
        },
        {
         "name": "processor",
         "rawType": "object",
         "type": "string"
        },
        {
         "name": "cpu_count",
         "rawType": "int64",
         "type": "integer"
        },
        {
         "name": "memory_gb",
         "rawType": "float64",
         "type": "float"
        }
       ],
       "conversionMethod": "pd.DataFrame",
       "ref": "dc332f93-6063-4d13-8f37-ca21ca8bac2f",
       "rows": [
        [
         "151",
         "ForecasterRecursiveMultiSeries",
         "LGBMRegressor",
         "ForecasterRecursiveMultiSeries__create_predict_inputs_exog_is_dict",
         "52b1c12811cade5921c24c58d5503d03",
         "1.205737570002384",
         "0.07046957322085488",
         "2025-04-24 10:34:50.922655",
         "3.11.10",
         "0.15.1",
         "2.1.3",
         "2.2.3",
         "1.6.1",
         "4.5.0",
         "Windows-10-10.0.19045-SP0",
         "Intel64 Family 6 Model 141 Stepping 1, GenuineIntel",
         "16",
         "34.07"
        ],
        [
         "166",
         "ForecasterRecursiveMultiSeries",
         "LGBMRegressor",
         "ForecasterRecursiveMultiSeries__create_predict_inputs_exog_is_dict",
         "52b1c12811cade5921c24c58d5503d03",
         "1.003418389998842",
         "0.03560695206029836",
         "2025-04-24 10:41:43.464483",
         "3.11.10",
         "0.14.0",
         "2.1.3",
         "2.2.3",
         "1.6.1",
         "4.5.0",
         "Windows-10-10.0.19045-SP0",
         "Intel64 Family 6 Model 141 Stepping 1, GenuineIntel",
         "16",
         "34.07"
        ],
        [
         "181",
         "ForecasterRecursiveMultiSeries",
         "LGBMRegressor",
         "ForecasterRecursiveMultiSeries__create_predict_inputs_exog_is_dict",
         "52b1c12811cade5921c24c58d5503d03",
         "0.9958362900011707",
         "0.03797760392492123",
         "2025-04-24 11:08:57.137737",
         "3.11.10",
         "0.14.0",
         "2.1.3",
         "2.2.3",
         "1.6.1",
         "4.5.0",
         "Windows-10-10.0.19045-SP0",
         "Intel64 Family 6 Model 141 Stepping 1, GenuineIntel",
         "16",
         "34.07"
        ],
        [
         "196",
         "ForecasterRecursiveMultiSeries",
         "LGBMRegressor",
         "ForecasterRecursiveMultiSeries__create_predict_inputs_exog_is_dict",
         "52b1c12811cade5921c24c58d5503d03",
         "1.26413395999989",
         "0.039794161301637966",
         "2025-04-24 11:18:09.884243",
         "3.11.10",
         "0.15.1",
         "2.1.3",
         "2.2.3",
         "1.6.1",
         "4.5.0",
         "Windows-10-10.0.19045-SP0",
         "Intel64 Family 6 Model 141 Stepping 1, GenuineIntel",
         "16",
         "34.07"
        ],
        [
         "212",
         "ForecasterRecursiveMultiSeries",
         "LGBMRegressor",
         "ForecasterRecursiveMultiSeries__create_predict_inputs_exog_is_dict",
         "52b1c12811cade5921c24c58d5503d03",
         "0.24084940000029748",
         "0.04708030392246773",
         "2025-04-24 18:03:53.447752",
         "3.11.10",
         "0.16.0",
         "2.2.5",
         "2.2.3",
         "1.6.1",
         "4.5.0",
         "Windows-10-10.0.19045-SP0",
         "Intel64 Family 6 Model 141 Stepping 1, GenuineIntel",
         "16",
         "34.07"
        ],
        [
         "231",
         "ForecasterRecursiveMultiSeries",
         "LGBMRegressor",
         "ForecasterRecursiveMultiSeries__create_predict_inputs_exog_is_dict",
         "52b1c12811cade5921c24c58d5503d03",
         "0.21471067000238692",
         "0.03141961599238694",
         "2025-04-24 18:18:55.212261",
         "3.11.10",
         "0.16.0",
         "2.2.5",
         "2.2.3",
         "1.6.1",
         "4.5.0",
         "Windows-10-10.0.19045-SP0",
         "Intel64 Family 6 Model 141 Stepping 1, GenuineIntel",
         "16",
         "34.07"
        ]
       ],
       "shape": {
        "columns": 17,
        "rows": 6
       }
      },
      "text/html": [
       "<div>\n",
       "<style scoped>\n",
       "    .dataframe tbody tr th:only-of-type {\n",
       "        vertical-align: middle;\n",
       "    }\n",
       "\n",
       "    .dataframe tbody tr th {\n",
       "        vertical-align: top;\n",
       "    }\n",
       "\n",
       "    .dataframe thead th {\n",
       "        text-align: right;\n",
       "    }\n",
       "</style>\n",
       "<table border=\"1\" class=\"dataframe\">\n",
       "  <thead>\n",
       "    <tr style=\"text-align: right;\">\n",
       "      <th></th>\n",
       "      <th>forecaster_name</th>\n",
       "      <th>regressor_name</th>\n",
       "      <th>function_name</th>\n",
       "      <th>function_hash</th>\n",
       "      <th>run_time_avg</th>\n",
       "      <th>run_time_std_dev</th>\n",
       "      <th>datetime</th>\n",
       "      <th>python_version</th>\n",
       "      <th>skforecast_version</th>\n",
       "      <th>numpy_version</th>\n",
       "      <th>pandas_version</th>\n",
       "      <th>sklearn_version</th>\n",
       "      <th>lightgbm_version</th>\n",
       "      <th>platform</th>\n",
       "      <th>processor</th>\n",
       "      <th>cpu_count</th>\n",
       "      <th>memory_gb</th>\n",
       "    </tr>\n",
       "  </thead>\n",
       "  <tbody>\n",
       "    <tr>\n",
       "      <th>151</th>\n",
       "      <td>ForecasterRecursiveMultiSeries</td>\n",
       "      <td>LGBMRegressor</td>\n",
       "      <td>ForecasterRecursiveMultiSeries__create_predict...</td>\n",
       "      <td>52b1c12811cade5921c24c58d5503d03</td>\n",
       "      <td>1.205738</td>\n",
       "      <td>0.070470</td>\n",
       "      <td>2025-04-24 10:34:50.922655</td>\n",
       "      <td>3.11.10</td>\n",
       "      <td>0.15.1</td>\n",
       "      <td>2.1.3</td>\n",
       "      <td>2.2.3</td>\n",
       "      <td>1.6.1</td>\n",
       "      <td>4.5.0</td>\n",
       "      <td>Windows-10-10.0.19045-SP0</td>\n",
       "      <td>Intel64 Family 6 Model 141 Stepping 1, Genuine...</td>\n",
       "      <td>16</td>\n",
       "      <td>34.07</td>\n",
       "    </tr>\n",
       "    <tr>\n",
       "      <th>166</th>\n",
       "      <td>ForecasterRecursiveMultiSeries</td>\n",
       "      <td>LGBMRegressor</td>\n",
       "      <td>ForecasterRecursiveMultiSeries__create_predict...</td>\n",
       "      <td>52b1c12811cade5921c24c58d5503d03</td>\n",
       "      <td>1.003418</td>\n",
       "      <td>0.035607</td>\n",
       "      <td>2025-04-24 10:41:43.464483</td>\n",
       "      <td>3.11.10</td>\n",
       "      <td>0.14.0</td>\n",
       "      <td>2.1.3</td>\n",
       "      <td>2.2.3</td>\n",
       "      <td>1.6.1</td>\n",
       "      <td>4.5.0</td>\n",
       "      <td>Windows-10-10.0.19045-SP0</td>\n",
       "      <td>Intel64 Family 6 Model 141 Stepping 1, Genuine...</td>\n",
       "      <td>16</td>\n",
       "      <td>34.07</td>\n",
       "    </tr>\n",
       "    <tr>\n",
       "      <th>181</th>\n",
       "      <td>ForecasterRecursiveMultiSeries</td>\n",
       "      <td>LGBMRegressor</td>\n",
       "      <td>ForecasterRecursiveMultiSeries__create_predict...</td>\n",
       "      <td>52b1c12811cade5921c24c58d5503d03</td>\n",
       "      <td>0.995836</td>\n",
       "      <td>0.037978</td>\n",
       "      <td>2025-04-24 11:08:57.137737</td>\n",
       "      <td>3.11.10</td>\n",
       "      <td>0.14.0</td>\n",
       "      <td>2.1.3</td>\n",
       "      <td>2.2.3</td>\n",
       "      <td>1.6.1</td>\n",
       "      <td>4.5.0</td>\n",
       "      <td>Windows-10-10.0.19045-SP0</td>\n",
       "      <td>Intel64 Family 6 Model 141 Stepping 1, Genuine...</td>\n",
       "      <td>16</td>\n",
       "      <td>34.07</td>\n",
       "    </tr>\n",
       "    <tr>\n",
       "      <th>196</th>\n",
       "      <td>ForecasterRecursiveMultiSeries</td>\n",
       "      <td>LGBMRegressor</td>\n",
       "      <td>ForecasterRecursiveMultiSeries__create_predict...</td>\n",
       "      <td>52b1c12811cade5921c24c58d5503d03</td>\n",
       "      <td>1.264134</td>\n",
       "      <td>0.039794</td>\n",
       "      <td>2025-04-24 11:18:09.884243</td>\n",
       "      <td>3.11.10</td>\n",
       "      <td>0.15.1</td>\n",
       "      <td>2.1.3</td>\n",
       "      <td>2.2.3</td>\n",
       "      <td>1.6.1</td>\n",
       "      <td>4.5.0</td>\n",
       "      <td>Windows-10-10.0.19045-SP0</td>\n",
       "      <td>Intel64 Family 6 Model 141 Stepping 1, Genuine...</td>\n",
       "      <td>16</td>\n",
       "      <td>34.07</td>\n",
       "    </tr>\n",
       "    <tr>\n",
       "      <th>212</th>\n",
       "      <td>ForecasterRecursiveMultiSeries</td>\n",
       "      <td>LGBMRegressor</td>\n",
       "      <td>ForecasterRecursiveMultiSeries__create_predict...</td>\n",
       "      <td>52b1c12811cade5921c24c58d5503d03</td>\n",
       "      <td>0.240849</td>\n",
       "      <td>0.047080</td>\n",
       "      <td>2025-04-24 18:03:53.447752</td>\n",
       "      <td>3.11.10</td>\n",
       "      <td>0.16.0</td>\n",
       "      <td>2.2.5</td>\n",
       "      <td>2.2.3</td>\n",
       "      <td>1.6.1</td>\n",
       "      <td>4.5.0</td>\n",
       "      <td>Windows-10-10.0.19045-SP0</td>\n",
       "      <td>Intel64 Family 6 Model 141 Stepping 1, Genuine...</td>\n",
       "      <td>16</td>\n",
       "      <td>34.07</td>\n",
       "    </tr>\n",
       "    <tr>\n",
       "      <th>231</th>\n",
       "      <td>ForecasterRecursiveMultiSeries</td>\n",
       "      <td>LGBMRegressor</td>\n",
       "      <td>ForecasterRecursiveMultiSeries__create_predict...</td>\n",
       "      <td>52b1c12811cade5921c24c58d5503d03</td>\n",
       "      <td>0.214711</td>\n",
       "      <td>0.031420</td>\n",
       "      <td>2025-04-24 18:18:55.212261</td>\n",
       "      <td>3.11.10</td>\n",
       "      <td>0.16.0</td>\n",
       "      <td>2.2.5</td>\n",
       "      <td>2.2.3</td>\n",
       "      <td>1.6.1</td>\n",
       "      <td>4.5.0</td>\n",
       "      <td>Windows-10-10.0.19045-SP0</td>\n",
       "      <td>Intel64 Family 6 Model 141 Stepping 1, Genuine...</td>\n",
       "      <td>16</td>\n",
       "      <td>34.07</td>\n",
       "    </tr>\n",
       "  </tbody>\n",
       "</table>\n",
       "</div>"
      ],
      "text/plain": [
       "                    forecaster_name regressor_name  \\\n",
       "151  ForecasterRecursiveMultiSeries  LGBMRegressor   \n",
       "166  ForecasterRecursiveMultiSeries  LGBMRegressor   \n",
       "181  ForecasterRecursiveMultiSeries  LGBMRegressor   \n",
       "196  ForecasterRecursiveMultiSeries  LGBMRegressor   \n",
       "212  ForecasterRecursiveMultiSeries  LGBMRegressor   \n",
       "231  ForecasterRecursiveMultiSeries  LGBMRegressor   \n",
       "\n",
       "                                         function_name  \\\n",
       "151  ForecasterRecursiveMultiSeries__create_predict...   \n",
       "166  ForecasterRecursiveMultiSeries__create_predict...   \n",
       "181  ForecasterRecursiveMultiSeries__create_predict...   \n",
       "196  ForecasterRecursiveMultiSeries__create_predict...   \n",
       "212  ForecasterRecursiveMultiSeries__create_predict...   \n",
       "231  ForecasterRecursiveMultiSeries__create_predict...   \n",
       "\n",
       "                        function_hash  run_time_avg  run_time_std_dev  \\\n",
       "151  52b1c12811cade5921c24c58d5503d03      1.205738          0.070470   \n",
       "166  52b1c12811cade5921c24c58d5503d03      1.003418          0.035607   \n",
       "181  52b1c12811cade5921c24c58d5503d03      0.995836          0.037978   \n",
       "196  52b1c12811cade5921c24c58d5503d03      1.264134          0.039794   \n",
       "212  52b1c12811cade5921c24c58d5503d03      0.240849          0.047080   \n",
       "231  52b1c12811cade5921c24c58d5503d03      0.214711          0.031420   \n",
       "\n",
       "                      datetime python_version skforecast_version  \\\n",
       "151 2025-04-24 10:34:50.922655        3.11.10             0.15.1   \n",
       "166 2025-04-24 10:41:43.464483        3.11.10             0.14.0   \n",
       "181 2025-04-24 11:08:57.137737        3.11.10             0.14.0   \n",
       "196 2025-04-24 11:18:09.884243        3.11.10             0.15.1   \n",
       "212 2025-04-24 18:03:53.447752        3.11.10             0.16.0   \n",
       "231 2025-04-24 18:18:55.212261        3.11.10             0.16.0   \n",
       "\n",
       "    numpy_version pandas_version sklearn_version lightgbm_version  \\\n",
       "151         2.1.3          2.2.3           1.6.1            4.5.0   \n",
       "166         2.1.3          2.2.3           1.6.1            4.5.0   \n",
       "181         2.1.3          2.2.3           1.6.1            4.5.0   \n",
       "196         2.1.3          2.2.3           1.6.1            4.5.0   \n",
       "212         2.2.5          2.2.3           1.6.1            4.5.0   \n",
       "231         2.2.5          2.2.3           1.6.1            4.5.0   \n",
       "\n",
       "                      platform  \\\n",
       "151  Windows-10-10.0.19045-SP0   \n",
       "166  Windows-10-10.0.19045-SP0   \n",
       "181  Windows-10-10.0.19045-SP0   \n",
       "196  Windows-10-10.0.19045-SP0   \n",
       "212  Windows-10-10.0.19045-SP0   \n",
       "231  Windows-10-10.0.19045-SP0   \n",
       "\n",
       "                                             processor  cpu_count  memory_gb  \n",
       "151  Intel64 Family 6 Model 141 Stepping 1, Genuine...         16      34.07  \n",
       "166  Intel64 Family 6 Model 141 Stepping 1, Genuine...         16      34.07  \n",
       "181  Intel64 Family 6 Model 141 Stepping 1, Genuine...         16      34.07  \n",
       "196  Intel64 Family 6 Model 141 Stepping 1, Genuine...         16      34.07  \n",
       "212  Intel64 Family 6 Model 141 Stepping 1, Genuine...         16      34.07  \n",
       "231  Intel64 Family 6 Model 141 Stepping 1, Genuine...         16      34.07  "
      ]
     },
     "metadata": {},
     "output_type": "display_data"
    },
    {
     "data": {
      "application/vnd.plotly.v1+json": {
       "config": {
        "plotlyServerURL": "https://plot.ly"
       },
       "data": [
        {
         "error_y": {
          "array": [
           0.03560695206029836,
           0.03797760392492123
          ],
          "color": "#636EFA",
          "thickness": 1.5,
          "type": "data",
          "visible": true,
          "width": 5
         },
         "hovertemplate": "%{text}<extra></extra>",
         "marker": {
          "color": "#636EFA",
          "opacity": 0.7,
          "size": 10
         },
         "mode": "markers",
         "name": "Run time - 0.14.0",
         "showlegend": true,
         "text": [
          "Forecaster: ForecasterRecursiveMultiSeries<br>Regressor: LGBMRegressor<br>Function: ForecasterRecursiveMultiSeries__create_predict_inputs_exog_is_dict<br>Function_hash: 52b1c12811cade5921c24c58d5503d03<br>Datetime: 2025-04-24 10:41:43.464483<br>Python version: 3.11.10<br>skforecast version: 0.14.0<br>numpy version: 2.1.3<br>pandas version: 2.2.3<br>sklearn version: 1.6.1<br>lightgbm version: 4.5.0<br>Platform: Windows-10-10.0.19045-SP0<br>Processor: Intel64 Family 6 Model 141 Stepping 1, GenuineIntel<br>CPU count: 16<br>Memory (GB): 34.07<br>",
          "Forecaster: ForecasterRecursiveMultiSeries<br>Regressor: LGBMRegressor<br>Function: ForecasterRecursiveMultiSeries__create_predict_inputs_exog_is_dict<br>Function_hash: 52b1c12811cade5921c24c58d5503d03<br>Datetime: 2025-04-24 11:08:57.137737<br>Python version: 3.11.10<br>skforecast version: 0.14.0<br>numpy version: 2.1.3<br>pandas version: 2.2.3<br>sklearn version: 1.6.1<br>lightgbm version: 4.5.0<br>Platform: Windows-10-10.0.19045-SP0<br>Processor: Intel64 Family 6 Model 141 Stepping 1, GenuineIntel<br>CPU count: 16<br>Memory (GB): 34.07<br>"
         ],
         "type": "scatter",
         "x": [
          -0.013072724445363663,
          0.008194560218857672
         ],
         "y": [
          1.003418389998842,
          0.9958362900011707
         ]
        },
        {
         "error_y": {
          "array": [
           0.07046957322085488,
           0.039794161301637966
          ],
          "color": "#EF553B",
          "thickness": 1.5,
          "type": "data",
          "visible": true,
          "width": 5
         },
         "hovertemplate": "%{text}<extra></extra>",
         "marker": {
          "color": "#EF553B",
          "opacity": 0.7,
          "size": 10
         },
         "mode": "markers",
         "name": "Run time - 0.15.1",
         "showlegend": true,
         "text": [
          "Forecaster: ForecasterRecursiveMultiSeries<br>Regressor: LGBMRegressor<br>Function: ForecasterRecursiveMultiSeries__create_predict_inputs_exog_is_dict<br>Function_hash: 52b1c12811cade5921c24c58d5503d03<br>Datetime: 2025-04-24 10:34:50.922655<br>Python version: 3.11.10<br>skforecast version: 0.15.1<br>numpy version: 2.1.3<br>pandas version: 2.2.3<br>sklearn version: 1.6.1<br>lightgbm version: 4.5.0<br>Platform: Windows-10-10.0.19045-SP0<br>Processor: Intel64 Family 6 Model 141 Stepping 1, GenuineIntel<br>CPU count: 16<br>Memory (GB): 34.07<br>",
          "Forecaster: ForecasterRecursiveMultiSeries<br>Regressor: LGBMRegressor<br>Function: ForecasterRecursiveMultiSeries__create_predict_inputs_exog_is_dict<br>Function_hash: 52b1c12811cade5921c24c58d5503d03<br>Datetime: 2025-04-24 11:18:09.884243<br>Python version: 3.11.10<br>skforecast version: 0.15.1<br>numpy version: 2.1.3<br>pandas version: 2.2.3<br>sklearn version: 1.6.1<br>lightgbm version: 4.5.0<br>Platform: Windows-10-10.0.19045-SP0<br>Processor: Intel64 Family 6 Model 141 Stepping 1, GenuineIntel<br>CPU count: 16<br>Memory (GB): 34.07<br>"
         ],
         "type": "scatter",
         "x": [
          1.0081293121881658,
          1.0419283988672943
         ],
         "y": [
          1.205737570002384,
          1.26413395999989
         ]
        },
        {
         "error_y": {
          "array": [
           0.04708030392246773,
           0.03141961599238694
          ],
          "color": "#00CC96",
          "thickness": 1.5,
          "type": "data",
          "visible": true,
          "width": 5
         },
         "hovertemplate": "%{text}<extra></extra>",
         "marker": {
          "color": "#00CC96",
          "opacity": 0.7,
          "size": 10
         },
         "mode": "markers",
         "name": "Run time - 0.16.0",
         "showlegend": true,
         "text": [
          "Forecaster: ForecasterRecursiveMultiSeries<br>Regressor: LGBMRegressor<br>Function: ForecasterRecursiveMultiSeries__create_predict_inputs_exog_is_dict<br>Function_hash: 52b1c12811cade5921c24c58d5503d03<br>Datetime: 2025-04-24 18:03:53.447752<br>Python version: 3.11.10<br>skforecast version: 0.16.0<br>numpy version: 2.2.5<br>pandas version: 2.2.3<br>sklearn version: 1.6.1<br>lightgbm version: 4.5.0<br>Platform: Windows-10-10.0.19045-SP0<br>Processor: Intel64 Family 6 Model 141 Stepping 1, GenuineIntel<br>CPU count: 16<br>Memory (GB): 34.07<br>",
          "Forecaster: ForecasterRecursiveMultiSeries<br>Regressor: LGBMRegressor<br>Function: ForecasterRecursiveMultiSeries__create_predict_inputs_exog_is_dict<br>Function_hash: 52b1c12811cade5921c24c58d5503d03<br>Datetime: 2025-04-24 18:18:55.212261<br>Python version: 3.11.10<br>skforecast version: 0.16.0<br>numpy version: 2.2.5<br>pandas version: 2.2.3<br>sklearn version: 1.6.1<br>lightgbm version: 4.5.0<br>Platform: Windows-10-10.0.19045-SP0<br>Processor: Intel64 Family 6 Model 141 Stepping 1, GenuineIntel<br>CPU count: 16<br>Memory (GB): 34.07<br>"
         ],
         "type": "scatter",
         "x": [
          1.9612920605272641,
          1.973403156847176
         ],
         "y": [
          0.24084940000029748,
          0.21471067000238692
         ]
        },
        {
         "line": {
          "color": "black",
          "width": 2
         },
         "marker": {
          "color": "black",
          "size": 8
         },
         "mode": "lines+markers",
         "name": "Median (per version)",
         "type": "scatter",
         "x": [
          0,
          1,
          2
         ],
         "y": [
          0.9996273400000064,
          1.234935765001137,
          0.2277800350013422
         ]
        },
        {
         "line": {
          "color": "black",
          "dash": "dash",
          "width": 2
         },
         "marker": {
          "color": "black",
          "size": 8
         },
         "mode": "lines+markers",
         "name": "Mean (per version)",
         "type": "scatter",
         "x": [
          0,
          1,
          2
         ],
         "y": [
          0.9996273400000064,
          1.234935765001137,
          0.2277800350013422
         ]
        }
       ],
       "layout": {
        "showlegend": true,
        "template": {
         "data": {
          "bar": [
           {
            "error_x": {
             "color": "#2a3f5f"
            },
            "error_y": {
             "color": "#2a3f5f"
            },
            "marker": {
             "line": {
              "color": "#E5ECF6",
              "width": 0.5
             },
             "pattern": {
              "fillmode": "overlay",
              "size": 10,
              "solidity": 0.2
             }
            },
            "type": "bar"
           }
          ],
          "barpolar": [
           {
            "marker": {
             "line": {
              "color": "#E5ECF6",
              "width": 0.5
             },
             "pattern": {
              "fillmode": "overlay",
              "size": 10,
              "solidity": 0.2
             }
            },
            "type": "barpolar"
           }
          ],
          "carpet": [
           {
            "aaxis": {
             "endlinecolor": "#2a3f5f",
             "gridcolor": "white",
             "linecolor": "white",
             "minorgridcolor": "white",
             "startlinecolor": "#2a3f5f"
            },
            "baxis": {
             "endlinecolor": "#2a3f5f",
             "gridcolor": "white",
             "linecolor": "white",
             "minorgridcolor": "white",
             "startlinecolor": "#2a3f5f"
            },
            "type": "carpet"
           }
          ],
          "choropleth": [
           {
            "colorbar": {
             "outlinewidth": 0,
             "ticks": ""
            },
            "type": "choropleth"
           }
          ],
          "contour": [
           {
            "colorbar": {
             "outlinewidth": 0,
             "ticks": ""
            },
            "colorscale": [
             [
              0,
              "#0d0887"
             ],
             [
              0.1111111111111111,
              "#46039f"
             ],
             [
              0.2222222222222222,
              "#7201a8"
             ],
             [
              0.3333333333333333,
              "#9c179e"
             ],
             [
              0.4444444444444444,
              "#bd3786"
             ],
             [
              0.5555555555555556,
              "#d8576b"
             ],
             [
              0.6666666666666666,
              "#ed7953"
             ],
             [
              0.7777777777777778,
              "#fb9f3a"
             ],
             [
              0.8888888888888888,
              "#fdca26"
             ],
             [
              1,
              "#f0f921"
             ]
            ],
            "type": "contour"
           }
          ],
          "contourcarpet": [
           {
            "colorbar": {
             "outlinewidth": 0,
             "ticks": ""
            },
            "type": "contourcarpet"
           }
          ],
          "heatmap": [
           {
            "colorbar": {
             "outlinewidth": 0,
             "ticks": ""
            },
            "colorscale": [
             [
              0,
              "#0d0887"
             ],
             [
              0.1111111111111111,
              "#46039f"
             ],
             [
              0.2222222222222222,
              "#7201a8"
             ],
             [
              0.3333333333333333,
              "#9c179e"
             ],
             [
              0.4444444444444444,
              "#bd3786"
             ],
             [
              0.5555555555555556,
              "#d8576b"
             ],
             [
              0.6666666666666666,
              "#ed7953"
             ],
             [
              0.7777777777777778,
              "#fb9f3a"
             ],
             [
              0.8888888888888888,
              "#fdca26"
             ],
             [
              1,
              "#f0f921"
             ]
            ],
            "type": "heatmap"
           }
          ],
          "heatmapgl": [
           {
            "colorbar": {
             "outlinewidth": 0,
             "ticks": ""
            },
            "colorscale": [
             [
              0,
              "#0d0887"
             ],
             [
              0.1111111111111111,
              "#46039f"
             ],
             [
              0.2222222222222222,
              "#7201a8"
             ],
             [
              0.3333333333333333,
              "#9c179e"
             ],
             [
              0.4444444444444444,
              "#bd3786"
             ],
             [
              0.5555555555555556,
              "#d8576b"
             ],
             [
              0.6666666666666666,
              "#ed7953"
             ],
             [
              0.7777777777777778,
              "#fb9f3a"
             ],
             [
              0.8888888888888888,
              "#fdca26"
             ],
             [
              1,
              "#f0f921"
             ]
            ],
            "type": "heatmapgl"
           }
          ],
          "histogram": [
           {
            "marker": {
             "pattern": {
              "fillmode": "overlay",
              "size": 10,
              "solidity": 0.2
             }
            },
            "type": "histogram"
           }
          ],
          "histogram2d": [
           {
            "colorbar": {
             "outlinewidth": 0,
             "ticks": ""
            },
            "colorscale": [
             [
              0,
              "#0d0887"
             ],
             [
              0.1111111111111111,
              "#46039f"
             ],
             [
              0.2222222222222222,
              "#7201a8"
             ],
             [
              0.3333333333333333,
              "#9c179e"
             ],
             [
              0.4444444444444444,
              "#bd3786"
             ],
             [
              0.5555555555555556,
              "#d8576b"
             ],
             [
              0.6666666666666666,
              "#ed7953"
             ],
             [
              0.7777777777777778,
              "#fb9f3a"
             ],
             [
              0.8888888888888888,
              "#fdca26"
             ],
             [
              1,
              "#f0f921"
             ]
            ],
            "type": "histogram2d"
           }
          ],
          "histogram2dcontour": [
           {
            "colorbar": {
             "outlinewidth": 0,
             "ticks": ""
            },
            "colorscale": [
             [
              0,
              "#0d0887"
             ],
             [
              0.1111111111111111,
              "#46039f"
             ],
             [
              0.2222222222222222,
              "#7201a8"
             ],
             [
              0.3333333333333333,
              "#9c179e"
             ],
             [
              0.4444444444444444,
              "#bd3786"
             ],
             [
              0.5555555555555556,
              "#d8576b"
             ],
             [
              0.6666666666666666,
              "#ed7953"
             ],
             [
              0.7777777777777778,
              "#fb9f3a"
             ],
             [
              0.8888888888888888,
              "#fdca26"
             ],
             [
              1,
              "#f0f921"
             ]
            ],
            "type": "histogram2dcontour"
           }
          ],
          "mesh3d": [
           {
            "colorbar": {
             "outlinewidth": 0,
             "ticks": ""
            },
            "type": "mesh3d"
           }
          ],
          "parcoords": [
           {
            "line": {
             "colorbar": {
              "outlinewidth": 0,
              "ticks": ""
             }
            },
            "type": "parcoords"
           }
          ],
          "pie": [
           {
            "automargin": true,
            "type": "pie"
           }
          ],
          "scatter": [
           {
            "fillpattern": {
             "fillmode": "overlay",
             "size": 10,
             "solidity": 0.2
            },
            "type": "scatter"
           }
          ],
          "scatter3d": [
           {
            "line": {
             "colorbar": {
              "outlinewidth": 0,
              "ticks": ""
             }
            },
            "marker": {
             "colorbar": {
              "outlinewidth": 0,
              "ticks": ""
             }
            },
            "type": "scatter3d"
           }
          ],
          "scattercarpet": [
           {
            "marker": {
             "colorbar": {
              "outlinewidth": 0,
              "ticks": ""
             }
            },
            "type": "scattercarpet"
           }
          ],
          "scattergeo": [
           {
            "marker": {
             "colorbar": {
              "outlinewidth": 0,
              "ticks": ""
             }
            },
            "type": "scattergeo"
           }
          ],
          "scattergl": [
           {
            "marker": {
             "colorbar": {
              "outlinewidth": 0,
              "ticks": ""
             }
            },
            "type": "scattergl"
           }
          ],
          "scattermapbox": [
           {
            "marker": {
             "colorbar": {
              "outlinewidth": 0,
              "ticks": ""
             }
            },
            "type": "scattermapbox"
           }
          ],
          "scatterpolar": [
           {
            "marker": {
             "colorbar": {
              "outlinewidth": 0,
              "ticks": ""
             }
            },
            "type": "scatterpolar"
           }
          ],
          "scatterpolargl": [
           {
            "marker": {
             "colorbar": {
              "outlinewidth": 0,
              "ticks": ""
             }
            },
            "type": "scatterpolargl"
           }
          ],
          "scatterternary": [
           {
            "marker": {
             "colorbar": {
              "outlinewidth": 0,
              "ticks": ""
             }
            },
            "type": "scatterternary"
           }
          ],
          "surface": [
           {
            "colorbar": {
             "outlinewidth": 0,
             "ticks": ""
            },
            "colorscale": [
             [
              0,
              "#0d0887"
             ],
             [
              0.1111111111111111,
              "#46039f"
             ],
             [
              0.2222222222222222,
              "#7201a8"
             ],
             [
              0.3333333333333333,
              "#9c179e"
             ],
             [
              0.4444444444444444,
              "#bd3786"
             ],
             [
              0.5555555555555556,
              "#d8576b"
             ],
             [
              0.6666666666666666,
              "#ed7953"
             ],
             [
              0.7777777777777778,
              "#fb9f3a"
             ],
             [
              0.8888888888888888,
              "#fdca26"
             ],
             [
              1,
              "#f0f921"
             ]
            ],
            "type": "surface"
           }
          ],
          "table": [
           {
            "cells": {
             "fill": {
              "color": "#EBF0F8"
             },
             "line": {
              "color": "white"
             }
            },
            "header": {
             "fill": {
              "color": "#C8D4E3"
             },
             "line": {
              "color": "white"
             }
            },
            "type": "table"
           }
          ]
         },
         "layout": {
          "annotationdefaults": {
           "arrowcolor": "#2a3f5f",
           "arrowhead": 0,
           "arrowwidth": 1
          },
          "autotypenumbers": "strict",
          "coloraxis": {
           "colorbar": {
            "outlinewidth": 0,
            "ticks": ""
           }
          },
          "colorscale": {
           "diverging": [
            [
             0,
             "#8e0152"
            ],
            [
             0.1,
             "#c51b7d"
            ],
            [
             0.2,
             "#de77ae"
            ],
            [
             0.3,
             "#f1b6da"
            ],
            [
             0.4,
             "#fde0ef"
            ],
            [
             0.5,
             "#f7f7f7"
            ],
            [
             0.6,
             "#e6f5d0"
            ],
            [
             0.7,
             "#b8e186"
            ],
            [
             0.8,
             "#7fbc41"
            ],
            [
             0.9,
             "#4d9221"
            ],
            [
             1,
             "#276419"
            ]
           ],
           "sequential": [
            [
             0,
             "#0d0887"
            ],
            [
             0.1111111111111111,
             "#46039f"
            ],
            [
             0.2222222222222222,
             "#7201a8"
            ],
            [
             0.3333333333333333,
             "#9c179e"
            ],
            [
             0.4444444444444444,
             "#bd3786"
            ],
            [
             0.5555555555555556,
             "#d8576b"
            ],
            [
             0.6666666666666666,
             "#ed7953"
            ],
            [
             0.7777777777777778,
             "#fb9f3a"
            ],
            [
             0.8888888888888888,
             "#fdca26"
            ],
            [
             1,
             "#f0f921"
            ]
           ],
           "sequentialminus": [
            [
             0,
             "#0d0887"
            ],
            [
             0.1111111111111111,
             "#46039f"
            ],
            [
             0.2222222222222222,
             "#7201a8"
            ],
            [
             0.3333333333333333,
             "#9c179e"
            ],
            [
             0.4444444444444444,
             "#bd3786"
            ],
            [
             0.5555555555555556,
             "#d8576b"
            ],
            [
             0.6666666666666666,
             "#ed7953"
            ],
            [
             0.7777777777777778,
             "#fb9f3a"
            ],
            [
             0.8888888888888888,
             "#fdca26"
            ],
            [
             1,
             "#f0f921"
            ]
           ]
          },
          "colorway": [
           "#636efa",
           "#EF553B",
           "#00cc96",
           "#ab63fa",
           "#FFA15A",
           "#19d3f3",
           "#FF6692",
           "#B6E880",
           "#FF97FF",
           "#FECB52"
          ],
          "font": {
           "color": "#2a3f5f"
          },
          "geo": {
           "bgcolor": "white",
           "lakecolor": "white",
           "landcolor": "#E5ECF6",
           "showlakes": true,
           "showland": true,
           "subunitcolor": "white"
          },
          "hoverlabel": {
           "align": "left"
          },
          "hovermode": "closest",
          "mapbox": {
           "style": "light"
          },
          "paper_bgcolor": "white",
          "plot_bgcolor": "#E5ECF6",
          "polar": {
           "angularaxis": {
            "gridcolor": "white",
            "linecolor": "white",
            "ticks": ""
           },
           "bgcolor": "#E5ECF6",
           "radialaxis": {
            "gridcolor": "white",
            "linecolor": "white",
            "ticks": ""
           }
          },
          "scene": {
           "xaxis": {
            "backgroundcolor": "#E5ECF6",
            "gridcolor": "white",
            "gridwidth": 2,
            "linecolor": "white",
            "showbackground": true,
            "ticks": "",
            "zerolinecolor": "white"
           },
           "yaxis": {
            "backgroundcolor": "#E5ECF6",
            "gridcolor": "white",
            "gridwidth": 2,
            "linecolor": "white",
            "showbackground": true,
            "ticks": "",
            "zerolinecolor": "white"
           },
           "zaxis": {
            "backgroundcolor": "#E5ECF6",
            "gridcolor": "white",
            "gridwidth": 2,
            "linecolor": "white",
            "showbackground": true,
            "ticks": "",
            "zerolinecolor": "white"
           }
          },
          "shapedefaults": {
           "line": {
            "color": "#2a3f5f"
           }
          },
          "ternary": {
           "aaxis": {
            "gridcolor": "white",
            "linecolor": "white",
            "ticks": ""
           },
           "baxis": {
            "gridcolor": "white",
            "linecolor": "white",
            "ticks": ""
           },
           "bgcolor": "#E5ECF6",
           "caxis": {
            "gridcolor": "white",
            "linecolor": "white",
            "ticks": ""
           }
          },
          "title": {
           "x": 0.05
          },
          "xaxis": {
           "automargin": true,
           "gridcolor": "white",
           "linecolor": "white",
           "ticks": "",
           "title": {
            "standoff": 15
           },
           "zerolinecolor": "white",
           "zerolinewidth": 2
          },
          "yaxis": {
           "automargin": true,
           "gridcolor": "white",
           "linecolor": "white",
           "ticks": "",
           "title": {
            "standoff": 15
           },
           "zerolinecolor": "white",
           "zerolinewidth": 2
          }
         }
        },
        "title": {
         "text": "Execution time of ForecasterRecursiveMultiSeries__create_predict_inputs_exog_is_dict"
        },
        "xaxis": {
         "tickangle": -45,
         "tickmode": "array",
         "ticktext": [
          "0.14.0",
          "0.15.1",
          "0.16.0"
         ],
         "tickvals": [
          0,
          1,
          2
         ],
         "title": {
          "text": "skforecast version"
         }
        },
        "yaxis": {
         "title": {
          "text": "Execution time (seconds)"
         }
        }
       }
      }
     },
     "metadata": {},
     "output_type": "display_data"
    },
    {
     "data": {
      "application/vnd.microsoft.datawrangler.viewer.v0+json": {
       "columns": [
        {
         "name": "index",
         "rawType": "int64",
         "type": "integer"
        },
        {
         "name": "forecaster_name",
         "rawType": "object",
         "type": "string"
        },
        {
         "name": "regressor_name",
         "rawType": "object",
         "type": "string"
        },
        {
         "name": "function_name",
         "rawType": "object",
         "type": "string"
        },
        {
         "name": "function_hash",
         "rawType": "object",
         "type": "string"
        },
        {
         "name": "run_time_avg",
         "rawType": "float64",
         "type": "float"
        },
        {
         "name": "run_time_std_dev",
         "rawType": "float64",
         "type": "float"
        },
        {
         "name": "datetime",
         "rawType": "datetime64[ns]",
         "type": "datetime"
        },
        {
         "name": "python_version",
         "rawType": "object",
         "type": "string"
        },
        {
         "name": "skforecast_version",
         "rawType": "object",
         "type": "string"
        },
        {
         "name": "numpy_version",
         "rawType": "object",
         "type": "string"
        },
        {
         "name": "pandas_version",
         "rawType": "object",
         "type": "string"
        },
        {
         "name": "sklearn_version",
         "rawType": "object",
         "type": "string"
        },
        {
         "name": "lightgbm_version",
         "rawType": "object",
         "type": "string"
        },
        {
         "name": "platform",
         "rawType": "object",
         "type": "string"
        },
        {
         "name": "processor",
         "rawType": "object",
         "type": "string"
        },
        {
         "name": "cpu_count",
         "rawType": "int64",
         "type": "integer"
        },
        {
         "name": "memory_gb",
         "rawType": "float64",
         "type": "float"
        }
       ],
       "conversionMethod": "pd.DataFrame",
       "ref": "1d6b62b2-127d-4271-ac0d-ba5bbcfda537",
       "rows": [
        [
         "152",
         "ForecasterRecursiveMultiSeries",
         "LGBMRegressor",
         "ForecasterRecursiveMultiSeries__check_predict_inputs",
         "33fe67969d33981cb73558c1dc51eb82",
         "0.20055941999744392",
         "0.012926884737249504",
         "2025-04-24 10:34:52.950784",
         "3.11.10",
         "0.15.1",
         "2.1.3",
         "2.2.3",
         "1.6.1",
         "4.5.0",
         "Windows-10-10.0.19045-SP0",
         "Intel64 Family 6 Model 141 Stepping 1, GenuineIntel",
         "16",
         "34.07"
        ],
        [
         "167",
         "ForecasterRecursiveMultiSeries",
         "LGBMRegressor",
         "ForecasterRecursiveMultiSeries__check_predict_inputs",
         "33fe67969d33981cb73558c1dc51eb82",
         "0.1783775699994294",
         "0.009180476291576903",
         "2025-04-24 10:41:45.268697",
         "3.11.10",
         "0.14.0",
         "2.1.3",
         "2.2.3",
         "1.6.1",
         "4.5.0",
         "Windows-10-10.0.19045-SP0",
         "Intel64 Family 6 Model 141 Stepping 1, GenuineIntel",
         "16",
         "34.07"
        ],
        [
         "182",
         "ForecasterRecursiveMultiSeries",
         "LGBMRegressor",
         "ForecasterRecursiveMultiSeries__check_predict_inputs",
         "33fe67969d33981cb73558c1dc51eb82",
         "0.1802211999995052",
         "0.006173101842309602",
         "2025-04-24 11:08:58.964518",
         "3.11.10",
         "0.14.0",
         "2.1.3",
         "2.2.3",
         "1.6.1",
         "4.5.0",
         "Windows-10-10.0.19045-SP0",
         "Intel64 Family 6 Model 141 Stepping 1, GenuineIntel",
         "16",
         "34.07"
        ],
        [
         "197",
         "ForecasterRecursiveMultiSeries",
         "LGBMRegressor",
         "ForecasterRecursiveMultiSeries__check_predict_inputs",
         "33fe67969d33981cb73558c1dc51eb82",
         "0.23107604000106222",
         "0.020150837474739395",
         "2025-04-24 11:18:12.219146",
         "3.11.10",
         "0.15.1",
         "2.1.3",
         "2.2.3",
         "1.6.1",
         "4.5.0",
         "Windows-10-10.0.19045-SP0",
         "Intel64 Family 6 Model 141 Stepping 1, GenuineIntel",
         "16",
         "34.07"
        ],
        [
         "213",
         "ForecasterRecursiveMultiSeries",
         "LGBMRegressor",
         "ForecasterRecursiveMultiSeries__check_predict_inputs",
         "33fe67969d33981cb73558c1dc51eb82",
         "0.05340837000403553",
         "0.001747889479389008",
         "2025-04-24 18:03:54.004508",
         "3.11.10",
         "0.16.0",
         "2.2.5",
         "2.2.3",
         "1.6.1",
         "4.5.0",
         "Windows-10-10.0.19045-SP0",
         "Intel64 Family 6 Model 141 Stepping 1, GenuineIntel",
         "16",
         "34.07"
        ],
        [
         "232",
         "ForecasterRecursiveMultiSeries",
         "LGBMRegressor",
         "ForecasterRecursiveMultiSeries__check_predict_inputs",
         "33fe67969d33981cb73558c1dc51eb82",
         "0.06316236999846296",
         "0.029017841907169224",
         "2025-04-24 18:18:55.866149",
         "3.11.10",
         "0.16.0",
         "2.2.5",
         "2.2.3",
         "1.6.1",
         "4.5.0",
         "Windows-10-10.0.19045-SP0",
         "Intel64 Family 6 Model 141 Stepping 1, GenuineIntel",
         "16",
         "34.07"
        ]
       ],
       "shape": {
        "columns": 17,
        "rows": 6
       }
      },
      "text/html": [
       "<div>\n",
       "<style scoped>\n",
       "    .dataframe tbody tr th:only-of-type {\n",
       "        vertical-align: middle;\n",
       "    }\n",
       "\n",
       "    .dataframe tbody tr th {\n",
       "        vertical-align: top;\n",
       "    }\n",
       "\n",
       "    .dataframe thead th {\n",
       "        text-align: right;\n",
       "    }\n",
       "</style>\n",
       "<table border=\"1\" class=\"dataframe\">\n",
       "  <thead>\n",
       "    <tr style=\"text-align: right;\">\n",
       "      <th></th>\n",
       "      <th>forecaster_name</th>\n",
       "      <th>regressor_name</th>\n",
       "      <th>function_name</th>\n",
       "      <th>function_hash</th>\n",
       "      <th>run_time_avg</th>\n",
       "      <th>run_time_std_dev</th>\n",
       "      <th>datetime</th>\n",
       "      <th>python_version</th>\n",
       "      <th>skforecast_version</th>\n",
       "      <th>numpy_version</th>\n",
       "      <th>pandas_version</th>\n",
       "      <th>sklearn_version</th>\n",
       "      <th>lightgbm_version</th>\n",
       "      <th>platform</th>\n",
       "      <th>processor</th>\n",
       "      <th>cpu_count</th>\n",
       "      <th>memory_gb</th>\n",
       "    </tr>\n",
       "  </thead>\n",
       "  <tbody>\n",
       "    <tr>\n",
       "      <th>152</th>\n",
       "      <td>ForecasterRecursiveMultiSeries</td>\n",
       "      <td>LGBMRegressor</td>\n",
       "      <td>ForecasterRecursiveMultiSeries__check_predict_...</td>\n",
       "      <td>33fe67969d33981cb73558c1dc51eb82</td>\n",
       "      <td>0.200559</td>\n",
       "      <td>0.012927</td>\n",
       "      <td>2025-04-24 10:34:52.950784</td>\n",
       "      <td>3.11.10</td>\n",
       "      <td>0.15.1</td>\n",
       "      <td>2.1.3</td>\n",
       "      <td>2.2.3</td>\n",
       "      <td>1.6.1</td>\n",
       "      <td>4.5.0</td>\n",
       "      <td>Windows-10-10.0.19045-SP0</td>\n",
       "      <td>Intel64 Family 6 Model 141 Stepping 1, Genuine...</td>\n",
       "      <td>16</td>\n",
       "      <td>34.07</td>\n",
       "    </tr>\n",
       "    <tr>\n",
       "      <th>167</th>\n",
       "      <td>ForecasterRecursiveMultiSeries</td>\n",
       "      <td>LGBMRegressor</td>\n",
       "      <td>ForecasterRecursiveMultiSeries__check_predict_...</td>\n",
       "      <td>33fe67969d33981cb73558c1dc51eb82</td>\n",
       "      <td>0.178378</td>\n",
       "      <td>0.009180</td>\n",
       "      <td>2025-04-24 10:41:45.268697</td>\n",
       "      <td>3.11.10</td>\n",
       "      <td>0.14.0</td>\n",
       "      <td>2.1.3</td>\n",
       "      <td>2.2.3</td>\n",
       "      <td>1.6.1</td>\n",
       "      <td>4.5.0</td>\n",
       "      <td>Windows-10-10.0.19045-SP0</td>\n",
       "      <td>Intel64 Family 6 Model 141 Stepping 1, Genuine...</td>\n",
       "      <td>16</td>\n",
       "      <td>34.07</td>\n",
       "    </tr>\n",
       "    <tr>\n",
       "      <th>182</th>\n",
       "      <td>ForecasterRecursiveMultiSeries</td>\n",
       "      <td>LGBMRegressor</td>\n",
       "      <td>ForecasterRecursiveMultiSeries__check_predict_...</td>\n",
       "      <td>33fe67969d33981cb73558c1dc51eb82</td>\n",
       "      <td>0.180221</td>\n",
       "      <td>0.006173</td>\n",
       "      <td>2025-04-24 11:08:58.964518</td>\n",
       "      <td>3.11.10</td>\n",
       "      <td>0.14.0</td>\n",
       "      <td>2.1.3</td>\n",
       "      <td>2.2.3</td>\n",
       "      <td>1.6.1</td>\n",
       "      <td>4.5.0</td>\n",
       "      <td>Windows-10-10.0.19045-SP0</td>\n",
       "      <td>Intel64 Family 6 Model 141 Stepping 1, Genuine...</td>\n",
       "      <td>16</td>\n",
       "      <td>34.07</td>\n",
       "    </tr>\n",
       "    <tr>\n",
       "      <th>197</th>\n",
       "      <td>ForecasterRecursiveMultiSeries</td>\n",
       "      <td>LGBMRegressor</td>\n",
       "      <td>ForecasterRecursiveMultiSeries__check_predict_...</td>\n",
       "      <td>33fe67969d33981cb73558c1dc51eb82</td>\n",
       "      <td>0.231076</td>\n",
       "      <td>0.020151</td>\n",
       "      <td>2025-04-24 11:18:12.219146</td>\n",
       "      <td>3.11.10</td>\n",
       "      <td>0.15.1</td>\n",
       "      <td>2.1.3</td>\n",
       "      <td>2.2.3</td>\n",
       "      <td>1.6.1</td>\n",
       "      <td>4.5.0</td>\n",
       "      <td>Windows-10-10.0.19045-SP0</td>\n",
       "      <td>Intel64 Family 6 Model 141 Stepping 1, Genuine...</td>\n",
       "      <td>16</td>\n",
       "      <td>34.07</td>\n",
       "    </tr>\n",
       "    <tr>\n",
       "      <th>213</th>\n",
       "      <td>ForecasterRecursiveMultiSeries</td>\n",
       "      <td>LGBMRegressor</td>\n",
       "      <td>ForecasterRecursiveMultiSeries__check_predict_...</td>\n",
       "      <td>33fe67969d33981cb73558c1dc51eb82</td>\n",
       "      <td>0.053408</td>\n",
       "      <td>0.001748</td>\n",
       "      <td>2025-04-24 18:03:54.004508</td>\n",
       "      <td>3.11.10</td>\n",
       "      <td>0.16.0</td>\n",
       "      <td>2.2.5</td>\n",
       "      <td>2.2.3</td>\n",
       "      <td>1.6.1</td>\n",
       "      <td>4.5.0</td>\n",
       "      <td>Windows-10-10.0.19045-SP0</td>\n",
       "      <td>Intel64 Family 6 Model 141 Stepping 1, Genuine...</td>\n",
       "      <td>16</td>\n",
       "      <td>34.07</td>\n",
       "    </tr>\n",
       "    <tr>\n",
       "      <th>232</th>\n",
       "      <td>ForecasterRecursiveMultiSeries</td>\n",
       "      <td>LGBMRegressor</td>\n",
       "      <td>ForecasterRecursiveMultiSeries__check_predict_...</td>\n",
       "      <td>33fe67969d33981cb73558c1dc51eb82</td>\n",
       "      <td>0.063162</td>\n",
       "      <td>0.029018</td>\n",
       "      <td>2025-04-24 18:18:55.866149</td>\n",
       "      <td>3.11.10</td>\n",
       "      <td>0.16.0</td>\n",
       "      <td>2.2.5</td>\n",
       "      <td>2.2.3</td>\n",
       "      <td>1.6.1</td>\n",
       "      <td>4.5.0</td>\n",
       "      <td>Windows-10-10.0.19045-SP0</td>\n",
       "      <td>Intel64 Family 6 Model 141 Stepping 1, Genuine...</td>\n",
       "      <td>16</td>\n",
       "      <td>34.07</td>\n",
       "    </tr>\n",
       "  </tbody>\n",
       "</table>\n",
       "</div>"
      ],
      "text/plain": [
       "                    forecaster_name regressor_name  \\\n",
       "152  ForecasterRecursiveMultiSeries  LGBMRegressor   \n",
       "167  ForecasterRecursiveMultiSeries  LGBMRegressor   \n",
       "182  ForecasterRecursiveMultiSeries  LGBMRegressor   \n",
       "197  ForecasterRecursiveMultiSeries  LGBMRegressor   \n",
       "213  ForecasterRecursiveMultiSeries  LGBMRegressor   \n",
       "232  ForecasterRecursiveMultiSeries  LGBMRegressor   \n",
       "\n",
       "                                         function_name  \\\n",
       "152  ForecasterRecursiveMultiSeries__check_predict_...   \n",
       "167  ForecasterRecursiveMultiSeries__check_predict_...   \n",
       "182  ForecasterRecursiveMultiSeries__check_predict_...   \n",
       "197  ForecasterRecursiveMultiSeries__check_predict_...   \n",
       "213  ForecasterRecursiveMultiSeries__check_predict_...   \n",
       "232  ForecasterRecursiveMultiSeries__check_predict_...   \n",
       "\n",
       "                        function_hash  run_time_avg  run_time_std_dev  \\\n",
       "152  33fe67969d33981cb73558c1dc51eb82      0.200559          0.012927   \n",
       "167  33fe67969d33981cb73558c1dc51eb82      0.178378          0.009180   \n",
       "182  33fe67969d33981cb73558c1dc51eb82      0.180221          0.006173   \n",
       "197  33fe67969d33981cb73558c1dc51eb82      0.231076          0.020151   \n",
       "213  33fe67969d33981cb73558c1dc51eb82      0.053408          0.001748   \n",
       "232  33fe67969d33981cb73558c1dc51eb82      0.063162          0.029018   \n",
       "\n",
       "                      datetime python_version skforecast_version  \\\n",
       "152 2025-04-24 10:34:52.950784        3.11.10             0.15.1   \n",
       "167 2025-04-24 10:41:45.268697        3.11.10             0.14.0   \n",
       "182 2025-04-24 11:08:58.964518        3.11.10             0.14.0   \n",
       "197 2025-04-24 11:18:12.219146        3.11.10             0.15.1   \n",
       "213 2025-04-24 18:03:54.004508        3.11.10             0.16.0   \n",
       "232 2025-04-24 18:18:55.866149        3.11.10             0.16.0   \n",
       "\n",
       "    numpy_version pandas_version sklearn_version lightgbm_version  \\\n",
       "152         2.1.3          2.2.3           1.6.1            4.5.0   \n",
       "167         2.1.3          2.2.3           1.6.1            4.5.0   \n",
       "182         2.1.3          2.2.3           1.6.1            4.5.0   \n",
       "197         2.1.3          2.2.3           1.6.1            4.5.0   \n",
       "213         2.2.5          2.2.3           1.6.1            4.5.0   \n",
       "232         2.2.5          2.2.3           1.6.1            4.5.0   \n",
       "\n",
       "                      platform  \\\n",
       "152  Windows-10-10.0.19045-SP0   \n",
       "167  Windows-10-10.0.19045-SP0   \n",
       "182  Windows-10-10.0.19045-SP0   \n",
       "197  Windows-10-10.0.19045-SP0   \n",
       "213  Windows-10-10.0.19045-SP0   \n",
       "232  Windows-10-10.0.19045-SP0   \n",
       "\n",
       "                                             processor  cpu_count  memory_gb  \n",
       "152  Intel64 Family 6 Model 141 Stepping 1, Genuine...         16      34.07  \n",
       "167  Intel64 Family 6 Model 141 Stepping 1, Genuine...         16      34.07  \n",
       "182  Intel64 Family 6 Model 141 Stepping 1, Genuine...         16      34.07  \n",
       "197  Intel64 Family 6 Model 141 Stepping 1, Genuine...         16      34.07  \n",
       "213  Intel64 Family 6 Model 141 Stepping 1, Genuine...         16      34.07  \n",
       "232  Intel64 Family 6 Model 141 Stepping 1, Genuine...         16      34.07  "
      ]
     },
     "metadata": {},
     "output_type": "display_data"
    },
    {
     "data": {
      "application/vnd.plotly.v1+json": {
       "config": {
        "plotlyServerURL": "https://plot.ly"
       },
       "data": [
        {
         "error_y": {
          "array": [
           0.009180476291576903,
           0.006173101842309602
          ],
          "color": "#636EFA",
          "thickness": 1.5,
          "type": "data",
          "visible": true,
          "width": 5
         },
         "hovertemplate": "%{text}<extra></extra>",
         "marker": {
          "color": "#636EFA",
          "opacity": 0.7,
          "size": 10
         },
         "mode": "markers",
         "name": "Run time - 0.14.0",
         "showlegend": true,
         "text": [
          "Forecaster: ForecasterRecursiveMultiSeries<br>Regressor: LGBMRegressor<br>Function: ForecasterRecursiveMultiSeries__check_predict_inputs<br>Function_hash: 33fe67969d33981cb73558c1dc51eb82<br>Datetime: 2025-04-24 10:41:45.268697<br>Python version: 3.11.10<br>skforecast version: 0.14.0<br>numpy version: 2.1.3<br>pandas version: 2.2.3<br>sklearn version: 1.6.1<br>lightgbm version: 4.5.0<br>Platform: Windows-10-10.0.19045-SP0<br>Processor: Intel64 Family 6 Model 141 Stepping 1, GenuineIntel<br>CPU count: 16<br>Memory (GB): 34.07<br>",
          "Forecaster: ForecasterRecursiveMultiSeries<br>Regressor: LGBMRegressor<br>Function: ForecasterRecursiveMultiSeries__check_predict_inputs<br>Function_hash: 33fe67969d33981cb73558c1dc51eb82<br>Datetime: 2025-04-24 11:08:58.964518<br>Python version: 3.11.10<br>skforecast version: 0.14.0<br>numpy version: 2.1.3<br>pandas version: 2.2.3<br>sklearn version: 1.6.1<br>lightgbm version: 4.5.0<br>Platform: Windows-10-10.0.19045-SP0<br>Processor: Intel64 Family 6 Model 141 Stepping 1, GenuineIntel<br>CPU count: 16<br>Memory (GB): 34.07<br>"
         ],
         "type": "scatter",
         "x": [
          -0.013072724445363663,
          0.008194560218857672
         ],
         "y": [
          0.1783775699994294,
          0.1802211999995052
         ]
        },
        {
         "error_y": {
          "array": [
           0.012926884737249504,
           0.020150837474739395
          ],
          "color": "#EF553B",
          "thickness": 1.5,
          "type": "data",
          "visible": true,
          "width": 5
         },
         "hovertemplate": "%{text}<extra></extra>",
         "marker": {
          "color": "#EF553B",
          "opacity": 0.7,
          "size": 10
         },
         "mode": "markers",
         "name": "Run time - 0.15.1",
         "showlegend": true,
         "text": [
          "Forecaster: ForecasterRecursiveMultiSeries<br>Regressor: LGBMRegressor<br>Function: ForecasterRecursiveMultiSeries__check_predict_inputs<br>Function_hash: 33fe67969d33981cb73558c1dc51eb82<br>Datetime: 2025-04-24 10:34:52.950784<br>Python version: 3.11.10<br>skforecast version: 0.15.1<br>numpy version: 2.1.3<br>pandas version: 2.2.3<br>sklearn version: 1.6.1<br>lightgbm version: 4.5.0<br>Platform: Windows-10-10.0.19045-SP0<br>Processor: Intel64 Family 6 Model 141 Stepping 1, GenuineIntel<br>CPU count: 16<br>Memory (GB): 34.07<br>",
          "Forecaster: ForecasterRecursiveMultiSeries<br>Regressor: LGBMRegressor<br>Function: ForecasterRecursiveMultiSeries__check_predict_inputs<br>Function_hash: 33fe67969d33981cb73558c1dc51eb82<br>Datetime: 2025-04-24 11:18:12.219146<br>Python version: 3.11.10<br>skforecast version: 0.15.1<br>numpy version: 2.1.3<br>pandas version: 2.2.3<br>sklearn version: 1.6.1<br>lightgbm version: 4.5.0<br>Platform: Windows-10-10.0.19045-SP0<br>Processor: Intel64 Family 6 Model 141 Stepping 1, GenuineIntel<br>CPU count: 16<br>Memory (GB): 34.07<br>"
         ],
         "type": "scatter",
         "x": [
          1.0081293121881658,
          1.0419283988672943
         ],
         "y": [
          0.20055941999744392,
          0.23107604000106222
         ]
        },
        {
         "error_y": {
          "array": [
           0.001747889479389008,
           0.029017841907169224
          ],
          "color": "#00CC96",
          "thickness": 1.5,
          "type": "data",
          "visible": true,
          "width": 5
         },
         "hovertemplate": "%{text}<extra></extra>",
         "marker": {
          "color": "#00CC96",
          "opacity": 0.7,
          "size": 10
         },
         "mode": "markers",
         "name": "Run time - 0.16.0",
         "showlegend": true,
         "text": [
          "Forecaster: ForecasterRecursiveMultiSeries<br>Regressor: LGBMRegressor<br>Function: ForecasterRecursiveMultiSeries__check_predict_inputs<br>Function_hash: 33fe67969d33981cb73558c1dc51eb82<br>Datetime: 2025-04-24 18:03:54.004508<br>Python version: 3.11.10<br>skforecast version: 0.16.0<br>numpy version: 2.2.5<br>pandas version: 2.2.3<br>sklearn version: 1.6.1<br>lightgbm version: 4.5.0<br>Platform: Windows-10-10.0.19045-SP0<br>Processor: Intel64 Family 6 Model 141 Stepping 1, GenuineIntel<br>CPU count: 16<br>Memory (GB): 34.07<br>",
          "Forecaster: ForecasterRecursiveMultiSeries<br>Regressor: LGBMRegressor<br>Function: ForecasterRecursiveMultiSeries__check_predict_inputs<br>Function_hash: 33fe67969d33981cb73558c1dc51eb82<br>Datetime: 2025-04-24 18:18:55.866149<br>Python version: 3.11.10<br>skforecast version: 0.16.0<br>numpy version: 2.2.5<br>pandas version: 2.2.3<br>sklearn version: 1.6.1<br>lightgbm version: 4.5.0<br>Platform: Windows-10-10.0.19045-SP0<br>Processor: Intel64 Family 6 Model 141 Stepping 1, GenuineIntel<br>CPU count: 16<br>Memory (GB): 34.07<br>"
         ],
         "type": "scatter",
         "x": [
          1.9612920605272641,
          1.973403156847176
         ],
         "y": [
          0.05340837000403553,
          0.06316236999846296
         ]
        },
        {
         "line": {
          "color": "black",
          "width": 2
         },
         "marker": {
          "color": "black",
          "size": 8
         },
         "mode": "lines+markers",
         "name": "Median (per version)",
         "type": "scatter",
         "x": [
          0,
          1,
          2
         ],
         "y": [
          0.1792993849994673,
          0.21581772999925308,
          0.05828537000124925
         ]
        },
        {
         "line": {
          "color": "black",
          "dash": "dash",
          "width": 2
         },
         "marker": {
          "color": "black",
          "size": 8
         },
         "mode": "lines+markers",
         "name": "Mean (per version)",
         "type": "scatter",
         "x": [
          0,
          1,
          2
         ],
         "y": [
          0.1792993849994673,
          0.21581772999925308,
          0.05828537000124925
         ]
        }
       ],
       "layout": {
        "showlegend": true,
        "template": {
         "data": {
          "bar": [
           {
            "error_x": {
             "color": "#2a3f5f"
            },
            "error_y": {
             "color": "#2a3f5f"
            },
            "marker": {
             "line": {
              "color": "#E5ECF6",
              "width": 0.5
             },
             "pattern": {
              "fillmode": "overlay",
              "size": 10,
              "solidity": 0.2
             }
            },
            "type": "bar"
           }
          ],
          "barpolar": [
           {
            "marker": {
             "line": {
              "color": "#E5ECF6",
              "width": 0.5
             },
             "pattern": {
              "fillmode": "overlay",
              "size": 10,
              "solidity": 0.2
             }
            },
            "type": "barpolar"
           }
          ],
          "carpet": [
           {
            "aaxis": {
             "endlinecolor": "#2a3f5f",
             "gridcolor": "white",
             "linecolor": "white",
             "minorgridcolor": "white",
             "startlinecolor": "#2a3f5f"
            },
            "baxis": {
             "endlinecolor": "#2a3f5f",
             "gridcolor": "white",
             "linecolor": "white",
             "minorgridcolor": "white",
             "startlinecolor": "#2a3f5f"
            },
            "type": "carpet"
           }
          ],
          "choropleth": [
           {
            "colorbar": {
             "outlinewidth": 0,
             "ticks": ""
            },
            "type": "choropleth"
           }
          ],
          "contour": [
           {
            "colorbar": {
             "outlinewidth": 0,
             "ticks": ""
            },
            "colorscale": [
             [
              0,
              "#0d0887"
             ],
             [
              0.1111111111111111,
              "#46039f"
             ],
             [
              0.2222222222222222,
              "#7201a8"
             ],
             [
              0.3333333333333333,
              "#9c179e"
             ],
             [
              0.4444444444444444,
              "#bd3786"
             ],
             [
              0.5555555555555556,
              "#d8576b"
             ],
             [
              0.6666666666666666,
              "#ed7953"
             ],
             [
              0.7777777777777778,
              "#fb9f3a"
             ],
             [
              0.8888888888888888,
              "#fdca26"
             ],
             [
              1,
              "#f0f921"
             ]
            ],
            "type": "contour"
           }
          ],
          "contourcarpet": [
           {
            "colorbar": {
             "outlinewidth": 0,
             "ticks": ""
            },
            "type": "contourcarpet"
           }
          ],
          "heatmap": [
           {
            "colorbar": {
             "outlinewidth": 0,
             "ticks": ""
            },
            "colorscale": [
             [
              0,
              "#0d0887"
             ],
             [
              0.1111111111111111,
              "#46039f"
             ],
             [
              0.2222222222222222,
              "#7201a8"
             ],
             [
              0.3333333333333333,
              "#9c179e"
             ],
             [
              0.4444444444444444,
              "#bd3786"
             ],
             [
              0.5555555555555556,
              "#d8576b"
             ],
             [
              0.6666666666666666,
              "#ed7953"
             ],
             [
              0.7777777777777778,
              "#fb9f3a"
             ],
             [
              0.8888888888888888,
              "#fdca26"
             ],
             [
              1,
              "#f0f921"
             ]
            ],
            "type": "heatmap"
           }
          ],
          "heatmapgl": [
           {
            "colorbar": {
             "outlinewidth": 0,
             "ticks": ""
            },
            "colorscale": [
             [
              0,
              "#0d0887"
             ],
             [
              0.1111111111111111,
              "#46039f"
             ],
             [
              0.2222222222222222,
              "#7201a8"
             ],
             [
              0.3333333333333333,
              "#9c179e"
             ],
             [
              0.4444444444444444,
              "#bd3786"
             ],
             [
              0.5555555555555556,
              "#d8576b"
             ],
             [
              0.6666666666666666,
              "#ed7953"
             ],
             [
              0.7777777777777778,
              "#fb9f3a"
             ],
             [
              0.8888888888888888,
              "#fdca26"
             ],
             [
              1,
              "#f0f921"
             ]
            ],
            "type": "heatmapgl"
           }
          ],
          "histogram": [
           {
            "marker": {
             "pattern": {
              "fillmode": "overlay",
              "size": 10,
              "solidity": 0.2
             }
            },
            "type": "histogram"
           }
          ],
          "histogram2d": [
           {
            "colorbar": {
             "outlinewidth": 0,
             "ticks": ""
            },
            "colorscale": [
             [
              0,
              "#0d0887"
             ],
             [
              0.1111111111111111,
              "#46039f"
             ],
             [
              0.2222222222222222,
              "#7201a8"
             ],
             [
              0.3333333333333333,
              "#9c179e"
             ],
             [
              0.4444444444444444,
              "#bd3786"
             ],
             [
              0.5555555555555556,
              "#d8576b"
             ],
             [
              0.6666666666666666,
              "#ed7953"
             ],
             [
              0.7777777777777778,
              "#fb9f3a"
             ],
             [
              0.8888888888888888,
              "#fdca26"
             ],
             [
              1,
              "#f0f921"
             ]
            ],
            "type": "histogram2d"
           }
          ],
          "histogram2dcontour": [
           {
            "colorbar": {
             "outlinewidth": 0,
             "ticks": ""
            },
            "colorscale": [
             [
              0,
              "#0d0887"
             ],
             [
              0.1111111111111111,
              "#46039f"
             ],
             [
              0.2222222222222222,
              "#7201a8"
             ],
             [
              0.3333333333333333,
              "#9c179e"
             ],
             [
              0.4444444444444444,
              "#bd3786"
             ],
             [
              0.5555555555555556,
              "#d8576b"
             ],
             [
              0.6666666666666666,
              "#ed7953"
             ],
             [
              0.7777777777777778,
              "#fb9f3a"
             ],
             [
              0.8888888888888888,
              "#fdca26"
             ],
             [
              1,
              "#f0f921"
             ]
            ],
            "type": "histogram2dcontour"
           }
          ],
          "mesh3d": [
           {
            "colorbar": {
             "outlinewidth": 0,
             "ticks": ""
            },
            "type": "mesh3d"
           }
          ],
          "parcoords": [
           {
            "line": {
             "colorbar": {
              "outlinewidth": 0,
              "ticks": ""
             }
            },
            "type": "parcoords"
           }
          ],
          "pie": [
           {
            "automargin": true,
            "type": "pie"
           }
          ],
          "scatter": [
           {
            "fillpattern": {
             "fillmode": "overlay",
             "size": 10,
             "solidity": 0.2
            },
            "type": "scatter"
           }
          ],
          "scatter3d": [
           {
            "line": {
             "colorbar": {
              "outlinewidth": 0,
              "ticks": ""
             }
            },
            "marker": {
             "colorbar": {
              "outlinewidth": 0,
              "ticks": ""
             }
            },
            "type": "scatter3d"
           }
          ],
          "scattercarpet": [
           {
            "marker": {
             "colorbar": {
              "outlinewidth": 0,
              "ticks": ""
             }
            },
            "type": "scattercarpet"
           }
          ],
          "scattergeo": [
           {
            "marker": {
             "colorbar": {
              "outlinewidth": 0,
              "ticks": ""
             }
            },
            "type": "scattergeo"
           }
          ],
          "scattergl": [
           {
            "marker": {
             "colorbar": {
              "outlinewidth": 0,
              "ticks": ""
             }
            },
            "type": "scattergl"
           }
          ],
          "scattermapbox": [
           {
            "marker": {
             "colorbar": {
              "outlinewidth": 0,
              "ticks": ""
             }
            },
            "type": "scattermapbox"
           }
          ],
          "scatterpolar": [
           {
            "marker": {
             "colorbar": {
              "outlinewidth": 0,
              "ticks": ""
             }
            },
            "type": "scatterpolar"
           }
          ],
          "scatterpolargl": [
           {
            "marker": {
             "colorbar": {
              "outlinewidth": 0,
              "ticks": ""
             }
            },
            "type": "scatterpolargl"
           }
          ],
          "scatterternary": [
           {
            "marker": {
             "colorbar": {
              "outlinewidth": 0,
              "ticks": ""
             }
            },
            "type": "scatterternary"
           }
          ],
          "surface": [
           {
            "colorbar": {
             "outlinewidth": 0,
             "ticks": ""
            },
            "colorscale": [
             [
              0,
              "#0d0887"
             ],
             [
              0.1111111111111111,
              "#46039f"
             ],
             [
              0.2222222222222222,
              "#7201a8"
             ],
             [
              0.3333333333333333,
              "#9c179e"
             ],
             [
              0.4444444444444444,
              "#bd3786"
             ],
             [
              0.5555555555555556,
              "#d8576b"
             ],
             [
              0.6666666666666666,
              "#ed7953"
             ],
             [
              0.7777777777777778,
              "#fb9f3a"
             ],
             [
              0.8888888888888888,
              "#fdca26"
             ],
             [
              1,
              "#f0f921"
             ]
            ],
            "type": "surface"
           }
          ],
          "table": [
           {
            "cells": {
             "fill": {
              "color": "#EBF0F8"
             },
             "line": {
              "color": "white"
             }
            },
            "header": {
             "fill": {
              "color": "#C8D4E3"
             },
             "line": {
              "color": "white"
             }
            },
            "type": "table"
           }
          ]
         },
         "layout": {
          "annotationdefaults": {
           "arrowcolor": "#2a3f5f",
           "arrowhead": 0,
           "arrowwidth": 1
          },
          "autotypenumbers": "strict",
          "coloraxis": {
           "colorbar": {
            "outlinewidth": 0,
            "ticks": ""
           }
          },
          "colorscale": {
           "diverging": [
            [
             0,
             "#8e0152"
            ],
            [
             0.1,
             "#c51b7d"
            ],
            [
             0.2,
             "#de77ae"
            ],
            [
             0.3,
             "#f1b6da"
            ],
            [
             0.4,
             "#fde0ef"
            ],
            [
             0.5,
             "#f7f7f7"
            ],
            [
             0.6,
             "#e6f5d0"
            ],
            [
             0.7,
             "#b8e186"
            ],
            [
             0.8,
             "#7fbc41"
            ],
            [
             0.9,
             "#4d9221"
            ],
            [
             1,
             "#276419"
            ]
           ],
           "sequential": [
            [
             0,
             "#0d0887"
            ],
            [
             0.1111111111111111,
             "#46039f"
            ],
            [
             0.2222222222222222,
             "#7201a8"
            ],
            [
             0.3333333333333333,
             "#9c179e"
            ],
            [
             0.4444444444444444,
             "#bd3786"
            ],
            [
             0.5555555555555556,
             "#d8576b"
            ],
            [
             0.6666666666666666,
             "#ed7953"
            ],
            [
             0.7777777777777778,
             "#fb9f3a"
            ],
            [
             0.8888888888888888,
             "#fdca26"
            ],
            [
             1,
             "#f0f921"
            ]
           ],
           "sequentialminus": [
            [
             0,
             "#0d0887"
            ],
            [
             0.1111111111111111,
             "#46039f"
            ],
            [
             0.2222222222222222,
             "#7201a8"
            ],
            [
             0.3333333333333333,
             "#9c179e"
            ],
            [
             0.4444444444444444,
             "#bd3786"
            ],
            [
             0.5555555555555556,
             "#d8576b"
            ],
            [
             0.6666666666666666,
             "#ed7953"
            ],
            [
             0.7777777777777778,
             "#fb9f3a"
            ],
            [
             0.8888888888888888,
             "#fdca26"
            ],
            [
             1,
             "#f0f921"
            ]
           ]
          },
          "colorway": [
           "#636efa",
           "#EF553B",
           "#00cc96",
           "#ab63fa",
           "#FFA15A",
           "#19d3f3",
           "#FF6692",
           "#B6E880",
           "#FF97FF",
           "#FECB52"
          ],
          "font": {
           "color": "#2a3f5f"
          },
          "geo": {
           "bgcolor": "white",
           "lakecolor": "white",
           "landcolor": "#E5ECF6",
           "showlakes": true,
           "showland": true,
           "subunitcolor": "white"
          },
          "hoverlabel": {
           "align": "left"
          },
          "hovermode": "closest",
          "mapbox": {
           "style": "light"
          },
          "paper_bgcolor": "white",
          "plot_bgcolor": "#E5ECF6",
          "polar": {
           "angularaxis": {
            "gridcolor": "white",
            "linecolor": "white",
            "ticks": ""
           },
           "bgcolor": "#E5ECF6",
           "radialaxis": {
            "gridcolor": "white",
            "linecolor": "white",
            "ticks": ""
           }
          },
          "scene": {
           "xaxis": {
            "backgroundcolor": "#E5ECF6",
            "gridcolor": "white",
            "gridwidth": 2,
            "linecolor": "white",
            "showbackground": true,
            "ticks": "",
            "zerolinecolor": "white"
           },
           "yaxis": {
            "backgroundcolor": "#E5ECF6",
            "gridcolor": "white",
            "gridwidth": 2,
            "linecolor": "white",
            "showbackground": true,
            "ticks": "",
            "zerolinecolor": "white"
           },
           "zaxis": {
            "backgroundcolor": "#E5ECF6",
            "gridcolor": "white",
            "gridwidth": 2,
            "linecolor": "white",
            "showbackground": true,
            "ticks": "",
            "zerolinecolor": "white"
           }
          },
          "shapedefaults": {
           "line": {
            "color": "#2a3f5f"
           }
          },
          "ternary": {
           "aaxis": {
            "gridcolor": "white",
            "linecolor": "white",
            "ticks": ""
           },
           "baxis": {
            "gridcolor": "white",
            "linecolor": "white",
            "ticks": ""
           },
           "bgcolor": "#E5ECF6",
           "caxis": {
            "gridcolor": "white",
            "linecolor": "white",
            "ticks": ""
           }
          },
          "title": {
           "x": 0.05
          },
          "xaxis": {
           "automargin": true,
           "gridcolor": "white",
           "linecolor": "white",
           "ticks": "",
           "title": {
            "standoff": 15
           },
           "zerolinecolor": "white",
           "zerolinewidth": 2
          },
          "yaxis": {
           "automargin": true,
           "gridcolor": "white",
           "linecolor": "white",
           "ticks": "",
           "title": {
            "standoff": 15
           },
           "zerolinecolor": "white",
           "zerolinewidth": 2
          }
         }
        },
        "title": {
         "text": "Execution time of ForecasterRecursiveMultiSeries__check_predict_inputs"
        },
        "xaxis": {
         "tickangle": -45,
         "tickmode": "array",
         "ticktext": [
          "0.14.0",
          "0.15.1",
          "0.16.0"
         ],
         "tickvals": [
          0,
          1,
          2
         ],
         "title": {
          "text": "skforecast version"
         }
        },
        "yaxis": {
         "title": {
          "text": "Execution time (seconds)"
         }
        }
       }
      }
     },
     "metadata": {},
     "output_type": "display_data"
    },
    {
     "data": {
      "application/vnd.microsoft.datawrangler.viewer.v0+json": {
       "columns": [
        {
         "name": "index",
         "rawType": "int64",
         "type": "integer"
        },
        {
         "name": "forecaster_name",
         "rawType": "object",
         "type": "string"
        },
        {
         "name": "regressor_name",
         "rawType": "object",
         "type": "string"
        },
        {
         "name": "function_name",
         "rawType": "object",
         "type": "string"
        },
        {
         "name": "function_hash",
         "rawType": "object",
         "type": "string"
        },
        {
         "name": "run_time_avg",
         "rawType": "float64",
         "type": "float"
        },
        {
         "name": "run_time_std_dev",
         "rawType": "float64",
         "type": "float"
        },
        {
         "name": "datetime",
         "rawType": "datetime64[ns]",
         "type": "datetime"
        },
        {
         "name": "python_version",
         "rawType": "object",
         "type": "string"
        },
        {
         "name": "skforecast_version",
         "rawType": "object",
         "type": "string"
        },
        {
         "name": "numpy_version",
         "rawType": "object",
         "type": "string"
        },
        {
         "name": "pandas_version",
         "rawType": "object",
         "type": "string"
        },
        {
         "name": "sklearn_version",
         "rawType": "object",
         "type": "string"
        },
        {
         "name": "lightgbm_version",
         "rawType": "object",
         "type": "string"
        },
        {
         "name": "platform",
         "rawType": "object",
         "type": "string"
        },
        {
         "name": "processor",
         "rawType": "object",
         "type": "string"
        },
        {
         "name": "cpu_count",
         "rawType": "int64",
         "type": "integer"
        },
        {
         "name": "memory_gb",
         "rawType": "float64",
         "type": "float"
        }
       ],
       "conversionMethod": "pd.DataFrame",
       "ref": "0b3e237b-c590-4283-8bc7-2c75dbb5a181",
       "rows": [
        [
         "153",
         "ForecasterRecursiveMultiSeries",
         "LGBMRegressor",
         "ForecasterRecursiveMultiSeries_backtesting_series_is_dict_exog_is_dict",
         "764622d682985b184e7b2369791c61a1",
         "33.896879600000105",
         "0.40695705802426424",
         "2025-04-24 10:37:42.452354",
         "3.11.10",
         "0.15.1",
         "2.1.3",
         "2.2.3",
         "1.6.1",
         "4.5.0",
         "Windows-10-10.0.19045-SP0",
         "Intel64 Family 6 Model 141 Stepping 1, GenuineIntel",
         "16",
         "34.07"
        ],
        [
         "168",
         "ForecasterRecursiveMultiSeries",
         "LGBMRegressor",
         "ForecasterRecursiveMultiSeries_backtesting_series_is_dict_exog_is_dict",
         "764622d682985b184e7b2369791c61a1",
         "26.872867260000202",
         "0.14816980775948188",
         "2025-04-24 10:43:59.665535",
         "3.11.10",
         "0.14.0",
         "2.1.3",
         "2.2.3",
         "1.6.1",
         "4.5.0",
         "Windows-10-10.0.19045-SP0",
         "Intel64 Family 6 Model 141 Stepping 1, GenuineIntel",
         "16",
         "34.07"
        ],
        [
         "183",
         "ForecasterRecursiveMultiSeries",
         "LGBMRegressor",
         "ForecasterRecursiveMultiSeries_backtesting_series_is_dict_exog_is_dict",
         "764622d682985b184e7b2369791c61a1",
         "27.24262004000484",
         "0.20228990861450521",
         "2025-04-24 11:11:15.199890",
         "3.11.10",
         "0.14.0",
         "2.1.3",
         "2.2.3",
         "1.6.1",
         "4.5.0",
         "Windows-10-10.0.19045-SP0",
         "Intel64 Family 6 Model 141 Stepping 1, GenuineIntel",
         "16",
         "34.07"
        ],
        [
         "198",
         "ForecasterRecursiveMultiSeries",
         "LGBMRegressor",
         "ForecasterRecursiveMultiSeries_backtesting_series_is_dict_exog_is_dict",
         "764622d682985b184e7b2369791c61a1",
         "33.854357679997335",
         "0.3839788784228436",
         "2025-04-24 11:21:01.508197",
         "3.11.10",
         "0.15.1",
         "2.1.3",
         "2.2.3",
         "1.6.1",
         "4.5.0",
         "Windows-10-10.0.19045-SP0",
         "Intel64 Family 6 Model 141 Stepping 1, GenuineIntel",
         "16",
         "34.07"
        ],
        [
         "214",
         "ForecasterRecursiveMultiSeries",
         "LGBMRegressor",
         "ForecasterRecursiveMultiSeries_backtesting_series_is_dict_exog_is_dict",
         "764622d682985b184e7b2369791c61a1",
         "16.07705567999801",
         "0.6771356143773097",
         "2025-04-24 18:05:14.429141",
         "3.11.10",
         "0.16.0",
         "2.2.5",
         "2.2.3",
         "1.6.1",
         "4.5.0",
         "Windows-10-10.0.19045-SP0",
         "Intel64 Family 6 Model 141 Stepping 1, GenuineIntel",
         "16",
         "34.07"
        ],
        [
         "233",
         "ForecasterRecursiveMultiSeries",
         "LGBMRegressor",
         "ForecasterRecursiveMultiSeries_backtesting_series_is_dict_exog_is_dict",
         "764622d682985b184e7b2369791c61a1",
         "14.487273420000566",
         "0.15659466878287046",
         "2025-04-24 18:20:08.328570",
         "3.11.10",
         "0.16.0",
         "2.2.5",
         "2.2.3",
         "1.6.1",
         "4.5.0",
         "Windows-10-10.0.19045-SP0",
         "Intel64 Family 6 Model 141 Stepping 1, GenuineIntel",
         "16",
         "34.07"
        ]
       ],
       "shape": {
        "columns": 17,
        "rows": 6
       }
      },
      "text/html": [
       "<div>\n",
       "<style scoped>\n",
       "    .dataframe tbody tr th:only-of-type {\n",
       "        vertical-align: middle;\n",
       "    }\n",
       "\n",
       "    .dataframe tbody tr th {\n",
       "        vertical-align: top;\n",
       "    }\n",
       "\n",
       "    .dataframe thead th {\n",
       "        text-align: right;\n",
       "    }\n",
       "</style>\n",
       "<table border=\"1\" class=\"dataframe\">\n",
       "  <thead>\n",
       "    <tr style=\"text-align: right;\">\n",
       "      <th></th>\n",
       "      <th>forecaster_name</th>\n",
       "      <th>regressor_name</th>\n",
       "      <th>function_name</th>\n",
       "      <th>function_hash</th>\n",
       "      <th>run_time_avg</th>\n",
       "      <th>run_time_std_dev</th>\n",
       "      <th>datetime</th>\n",
       "      <th>python_version</th>\n",
       "      <th>skforecast_version</th>\n",
       "      <th>numpy_version</th>\n",
       "      <th>pandas_version</th>\n",
       "      <th>sklearn_version</th>\n",
       "      <th>lightgbm_version</th>\n",
       "      <th>platform</th>\n",
       "      <th>processor</th>\n",
       "      <th>cpu_count</th>\n",
       "      <th>memory_gb</th>\n",
       "    </tr>\n",
       "  </thead>\n",
       "  <tbody>\n",
       "    <tr>\n",
       "      <th>153</th>\n",
       "      <td>ForecasterRecursiveMultiSeries</td>\n",
       "      <td>LGBMRegressor</td>\n",
       "      <td>ForecasterRecursiveMultiSeries_backtesting_ser...</td>\n",
       "      <td>764622d682985b184e7b2369791c61a1</td>\n",
       "      <td>33.896880</td>\n",
       "      <td>0.406957</td>\n",
       "      <td>2025-04-24 10:37:42.452354</td>\n",
       "      <td>3.11.10</td>\n",
       "      <td>0.15.1</td>\n",
       "      <td>2.1.3</td>\n",
       "      <td>2.2.3</td>\n",
       "      <td>1.6.1</td>\n",
       "      <td>4.5.0</td>\n",
       "      <td>Windows-10-10.0.19045-SP0</td>\n",
       "      <td>Intel64 Family 6 Model 141 Stepping 1, Genuine...</td>\n",
       "      <td>16</td>\n",
       "      <td>34.07</td>\n",
       "    </tr>\n",
       "    <tr>\n",
       "      <th>168</th>\n",
       "      <td>ForecasterRecursiveMultiSeries</td>\n",
       "      <td>LGBMRegressor</td>\n",
       "      <td>ForecasterRecursiveMultiSeries_backtesting_ser...</td>\n",
       "      <td>764622d682985b184e7b2369791c61a1</td>\n",
       "      <td>26.872867</td>\n",
       "      <td>0.148170</td>\n",
       "      <td>2025-04-24 10:43:59.665535</td>\n",
       "      <td>3.11.10</td>\n",
       "      <td>0.14.0</td>\n",
       "      <td>2.1.3</td>\n",
       "      <td>2.2.3</td>\n",
       "      <td>1.6.1</td>\n",
       "      <td>4.5.0</td>\n",
       "      <td>Windows-10-10.0.19045-SP0</td>\n",
       "      <td>Intel64 Family 6 Model 141 Stepping 1, Genuine...</td>\n",
       "      <td>16</td>\n",
       "      <td>34.07</td>\n",
       "    </tr>\n",
       "    <tr>\n",
       "      <th>183</th>\n",
       "      <td>ForecasterRecursiveMultiSeries</td>\n",
       "      <td>LGBMRegressor</td>\n",
       "      <td>ForecasterRecursiveMultiSeries_backtesting_ser...</td>\n",
       "      <td>764622d682985b184e7b2369791c61a1</td>\n",
       "      <td>27.242620</td>\n",
       "      <td>0.202290</td>\n",
       "      <td>2025-04-24 11:11:15.199890</td>\n",
       "      <td>3.11.10</td>\n",
       "      <td>0.14.0</td>\n",
       "      <td>2.1.3</td>\n",
       "      <td>2.2.3</td>\n",
       "      <td>1.6.1</td>\n",
       "      <td>4.5.0</td>\n",
       "      <td>Windows-10-10.0.19045-SP0</td>\n",
       "      <td>Intel64 Family 6 Model 141 Stepping 1, Genuine...</td>\n",
       "      <td>16</td>\n",
       "      <td>34.07</td>\n",
       "    </tr>\n",
       "    <tr>\n",
       "      <th>198</th>\n",
       "      <td>ForecasterRecursiveMultiSeries</td>\n",
       "      <td>LGBMRegressor</td>\n",
       "      <td>ForecasterRecursiveMultiSeries_backtesting_ser...</td>\n",
       "      <td>764622d682985b184e7b2369791c61a1</td>\n",
       "      <td>33.854358</td>\n",
       "      <td>0.383979</td>\n",
       "      <td>2025-04-24 11:21:01.508197</td>\n",
       "      <td>3.11.10</td>\n",
       "      <td>0.15.1</td>\n",
       "      <td>2.1.3</td>\n",
       "      <td>2.2.3</td>\n",
       "      <td>1.6.1</td>\n",
       "      <td>4.5.0</td>\n",
       "      <td>Windows-10-10.0.19045-SP0</td>\n",
       "      <td>Intel64 Family 6 Model 141 Stepping 1, Genuine...</td>\n",
       "      <td>16</td>\n",
       "      <td>34.07</td>\n",
       "    </tr>\n",
       "    <tr>\n",
       "      <th>214</th>\n",
       "      <td>ForecasterRecursiveMultiSeries</td>\n",
       "      <td>LGBMRegressor</td>\n",
       "      <td>ForecasterRecursiveMultiSeries_backtesting_ser...</td>\n",
       "      <td>764622d682985b184e7b2369791c61a1</td>\n",
       "      <td>16.077056</td>\n",
       "      <td>0.677136</td>\n",
       "      <td>2025-04-24 18:05:14.429141</td>\n",
       "      <td>3.11.10</td>\n",
       "      <td>0.16.0</td>\n",
       "      <td>2.2.5</td>\n",
       "      <td>2.2.3</td>\n",
       "      <td>1.6.1</td>\n",
       "      <td>4.5.0</td>\n",
       "      <td>Windows-10-10.0.19045-SP0</td>\n",
       "      <td>Intel64 Family 6 Model 141 Stepping 1, Genuine...</td>\n",
       "      <td>16</td>\n",
       "      <td>34.07</td>\n",
       "    </tr>\n",
       "    <tr>\n",
       "      <th>233</th>\n",
       "      <td>ForecasterRecursiveMultiSeries</td>\n",
       "      <td>LGBMRegressor</td>\n",
       "      <td>ForecasterRecursiveMultiSeries_backtesting_ser...</td>\n",
       "      <td>764622d682985b184e7b2369791c61a1</td>\n",
       "      <td>14.487273</td>\n",
       "      <td>0.156595</td>\n",
       "      <td>2025-04-24 18:20:08.328570</td>\n",
       "      <td>3.11.10</td>\n",
       "      <td>0.16.0</td>\n",
       "      <td>2.2.5</td>\n",
       "      <td>2.2.3</td>\n",
       "      <td>1.6.1</td>\n",
       "      <td>4.5.0</td>\n",
       "      <td>Windows-10-10.0.19045-SP0</td>\n",
       "      <td>Intel64 Family 6 Model 141 Stepping 1, Genuine...</td>\n",
       "      <td>16</td>\n",
       "      <td>34.07</td>\n",
       "    </tr>\n",
       "  </tbody>\n",
       "</table>\n",
       "</div>"
      ],
      "text/plain": [
       "                    forecaster_name regressor_name  \\\n",
       "153  ForecasterRecursiveMultiSeries  LGBMRegressor   \n",
       "168  ForecasterRecursiveMultiSeries  LGBMRegressor   \n",
       "183  ForecasterRecursiveMultiSeries  LGBMRegressor   \n",
       "198  ForecasterRecursiveMultiSeries  LGBMRegressor   \n",
       "214  ForecasterRecursiveMultiSeries  LGBMRegressor   \n",
       "233  ForecasterRecursiveMultiSeries  LGBMRegressor   \n",
       "\n",
       "                                         function_name  \\\n",
       "153  ForecasterRecursiveMultiSeries_backtesting_ser...   \n",
       "168  ForecasterRecursiveMultiSeries_backtesting_ser...   \n",
       "183  ForecasterRecursiveMultiSeries_backtesting_ser...   \n",
       "198  ForecasterRecursiveMultiSeries_backtesting_ser...   \n",
       "214  ForecasterRecursiveMultiSeries_backtesting_ser...   \n",
       "233  ForecasterRecursiveMultiSeries_backtesting_ser...   \n",
       "\n",
       "                        function_hash  run_time_avg  run_time_std_dev  \\\n",
       "153  764622d682985b184e7b2369791c61a1     33.896880          0.406957   \n",
       "168  764622d682985b184e7b2369791c61a1     26.872867          0.148170   \n",
       "183  764622d682985b184e7b2369791c61a1     27.242620          0.202290   \n",
       "198  764622d682985b184e7b2369791c61a1     33.854358          0.383979   \n",
       "214  764622d682985b184e7b2369791c61a1     16.077056          0.677136   \n",
       "233  764622d682985b184e7b2369791c61a1     14.487273          0.156595   \n",
       "\n",
       "                      datetime python_version skforecast_version  \\\n",
       "153 2025-04-24 10:37:42.452354        3.11.10             0.15.1   \n",
       "168 2025-04-24 10:43:59.665535        3.11.10             0.14.0   \n",
       "183 2025-04-24 11:11:15.199890        3.11.10             0.14.0   \n",
       "198 2025-04-24 11:21:01.508197        3.11.10             0.15.1   \n",
       "214 2025-04-24 18:05:14.429141        3.11.10             0.16.0   \n",
       "233 2025-04-24 18:20:08.328570        3.11.10             0.16.0   \n",
       "\n",
       "    numpy_version pandas_version sklearn_version lightgbm_version  \\\n",
       "153         2.1.3          2.2.3           1.6.1            4.5.0   \n",
       "168         2.1.3          2.2.3           1.6.1            4.5.0   \n",
       "183         2.1.3          2.2.3           1.6.1            4.5.0   \n",
       "198         2.1.3          2.2.3           1.6.1            4.5.0   \n",
       "214         2.2.5          2.2.3           1.6.1            4.5.0   \n",
       "233         2.2.5          2.2.3           1.6.1            4.5.0   \n",
       "\n",
       "                      platform  \\\n",
       "153  Windows-10-10.0.19045-SP0   \n",
       "168  Windows-10-10.0.19045-SP0   \n",
       "183  Windows-10-10.0.19045-SP0   \n",
       "198  Windows-10-10.0.19045-SP0   \n",
       "214  Windows-10-10.0.19045-SP0   \n",
       "233  Windows-10-10.0.19045-SP0   \n",
       "\n",
       "                                             processor  cpu_count  memory_gb  \n",
       "153  Intel64 Family 6 Model 141 Stepping 1, Genuine...         16      34.07  \n",
       "168  Intel64 Family 6 Model 141 Stepping 1, Genuine...         16      34.07  \n",
       "183  Intel64 Family 6 Model 141 Stepping 1, Genuine...         16      34.07  \n",
       "198  Intel64 Family 6 Model 141 Stepping 1, Genuine...         16      34.07  \n",
       "214  Intel64 Family 6 Model 141 Stepping 1, Genuine...         16      34.07  \n",
       "233  Intel64 Family 6 Model 141 Stepping 1, Genuine...         16      34.07  "
      ]
     },
     "metadata": {},
     "output_type": "display_data"
    },
    {
     "data": {
      "application/vnd.plotly.v1+json": {
       "config": {
        "plotlyServerURL": "https://plot.ly"
       },
       "data": [
        {
         "error_y": {
          "array": [
           0.14816980775948188,
           0.20228990861450521
          ],
          "color": "#636EFA",
          "thickness": 1.5,
          "type": "data",
          "visible": true,
          "width": 5
         },
         "hovertemplate": "%{text}<extra></extra>",
         "marker": {
          "color": "#636EFA",
          "opacity": 0.7,
          "size": 10
         },
         "mode": "markers",
         "name": "Run time - 0.14.0",
         "showlegend": true,
         "text": [
          "Forecaster: ForecasterRecursiveMultiSeries<br>Regressor: LGBMRegressor<br>Function: ForecasterRecursiveMultiSeries_backtesting_series_is_dict_exog_is_dict<br>Function_hash: 764622d682985b184e7b2369791c61a1<br>Datetime: 2025-04-24 10:43:59.665535<br>Python version: 3.11.10<br>skforecast version: 0.14.0<br>numpy version: 2.1.3<br>pandas version: 2.2.3<br>sklearn version: 1.6.1<br>lightgbm version: 4.5.0<br>Platform: Windows-10-10.0.19045-SP0<br>Processor: Intel64 Family 6 Model 141 Stepping 1, GenuineIntel<br>CPU count: 16<br>Memory (GB): 34.07<br>",
          "Forecaster: ForecasterRecursiveMultiSeries<br>Regressor: LGBMRegressor<br>Function: ForecasterRecursiveMultiSeries_backtesting_series_is_dict_exog_is_dict<br>Function_hash: 764622d682985b184e7b2369791c61a1<br>Datetime: 2025-04-24 11:11:15.199890<br>Python version: 3.11.10<br>skforecast version: 0.14.0<br>numpy version: 2.1.3<br>pandas version: 2.2.3<br>sklearn version: 1.6.1<br>lightgbm version: 4.5.0<br>Platform: Windows-10-10.0.19045-SP0<br>Processor: Intel64 Family 6 Model 141 Stepping 1, GenuineIntel<br>CPU count: 16<br>Memory (GB): 34.07<br>"
         ],
         "type": "scatter",
         "x": [
          -0.013072724445363663,
          0.008194560218857672
         ],
         "y": [
          26.872867260000202,
          27.24262004000484
         ]
        },
        {
         "error_y": {
          "array": [
           0.40695705802426424,
           0.3839788784228436
          ],
          "color": "#EF553B",
          "thickness": 1.5,
          "type": "data",
          "visible": true,
          "width": 5
         },
         "hovertemplate": "%{text}<extra></extra>",
         "marker": {
          "color": "#EF553B",
          "opacity": 0.7,
          "size": 10
         },
         "mode": "markers",
         "name": "Run time - 0.15.1",
         "showlegend": true,
         "text": [
          "Forecaster: ForecasterRecursiveMultiSeries<br>Regressor: LGBMRegressor<br>Function: ForecasterRecursiveMultiSeries_backtesting_series_is_dict_exog_is_dict<br>Function_hash: 764622d682985b184e7b2369791c61a1<br>Datetime: 2025-04-24 10:37:42.452354<br>Python version: 3.11.10<br>skforecast version: 0.15.1<br>numpy version: 2.1.3<br>pandas version: 2.2.3<br>sklearn version: 1.6.1<br>lightgbm version: 4.5.0<br>Platform: Windows-10-10.0.19045-SP0<br>Processor: Intel64 Family 6 Model 141 Stepping 1, GenuineIntel<br>CPU count: 16<br>Memory (GB): 34.07<br>",
          "Forecaster: ForecasterRecursiveMultiSeries<br>Regressor: LGBMRegressor<br>Function: ForecasterRecursiveMultiSeries_backtesting_series_is_dict_exog_is_dict<br>Function_hash: 764622d682985b184e7b2369791c61a1<br>Datetime: 2025-04-24 11:21:01.508197<br>Python version: 3.11.10<br>skforecast version: 0.15.1<br>numpy version: 2.1.3<br>pandas version: 2.2.3<br>sklearn version: 1.6.1<br>lightgbm version: 4.5.0<br>Platform: Windows-10-10.0.19045-SP0<br>Processor: Intel64 Family 6 Model 141 Stepping 1, GenuineIntel<br>CPU count: 16<br>Memory (GB): 34.07<br>"
         ],
         "type": "scatter",
         "x": [
          1.0081293121881658,
          1.0419283988672943
         ],
         "y": [
          33.896879600000105,
          33.854357679997335
         ]
        },
        {
         "error_y": {
          "array": [
           0.6771356143773097,
           0.15659466878287046
          ],
          "color": "#00CC96",
          "thickness": 1.5,
          "type": "data",
          "visible": true,
          "width": 5
         },
         "hovertemplate": "%{text}<extra></extra>",
         "marker": {
          "color": "#00CC96",
          "opacity": 0.7,
          "size": 10
         },
         "mode": "markers",
         "name": "Run time - 0.16.0",
         "showlegend": true,
         "text": [
          "Forecaster: ForecasterRecursiveMultiSeries<br>Regressor: LGBMRegressor<br>Function: ForecasterRecursiveMultiSeries_backtesting_series_is_dict_exog_is_dict<br>Function_hash: 764622d682985b184e7b2369791c61a1<br>Datetime: 2025-04-24 18:05:14.429141<br>Python version: 3.11.10<br>skforecast version: 0.16.0<br>numpy version: 2.2.5<br>pandas version: 2.2.3<br>sklearn version: 1.6.1<br>lightgbm version: 4.5.0<br>Platform: Windows-10-10.0.19045-SP0<br>Processor: Intel64 Family 6 Model 141 Stepping 1, GenuineIntel<br>CPU count: 16<br>Memory (GB): 34.07<br>",
          "Forecaster: ForecasterRecursiveMultiSeries<br>Regressor: LGBMRegressor<br>Function: ForecasterRecursiveMultiSeries_backtesting_series_is_dict_exog_is_dict<br>Function_hash: 764622d682985b184e7b2369791c61a1<br>Datetime: 2025-04-24 18:20:08.328570<br>Python version: 3.11.10<br>skforecast version: 0.16.0<br>numpy version: 2.2.5<br>pandas version: 2.2.3<br>sklearn version: 1.6.1<br>lightgbm version: 4.5.0<br>Platform: Windows-10-10.0.19045-SP0<br>Processor: Intel64 Family 6 Model 141 Stepping 1, GenuineIntel<br>CPU count: 16<br>Memory (GB): 34.07<br>"
         ],
         "type": "scatter",
         "x": [
          1.9612920605272641,
          1.973403156847176
         ],
         "y": [
          16.07705567999801,
          14.487273420000566
         ]
        },
        {
         "line": {
          "color": "black",
          "width": 2
         },
         "marker": {
          "color": "black",
          "size": 8
         },
         "mode": "lines+markers",
         "name": "Median (per version)",
         "type": "scatter",
         "x": [
          0,
          1,
          2
         ],
         "y": [
          27.05774365000252,
          33.87561863999872,
          15.282164549999289
         ]
        },
        {
         "line": {
          "color": "black",
          "dash": "dash",
          "width": 2
         },
         "marker": {
          "color": "black",
          "size": 8
         },
         "mode": "lines+markers",
         "name": "Mean (per version)",
         "type": "scatter",
         "x": [
          0,
          1,
          2
         ],
         "y": [
          27.05774365000252,
          33.87561863999872,
          15.282164549999289
         ]
        }
       ],
       "layout": {
        "showlegend": true,
        "template": {
         "data": {
          "bar": [
           {
            "error_x": {
             "color": "#2a3f5f"
            },
            "error_y": {
             "color": "#2a3f5f"
            },
            "marker": {
             "line": {
              "color": "#E5ECF6",
              "width": 0.5
             },
             "pattern": {
              "fillmode": "overlay",
              "size": 10,
              "solidity": 0.2
             }
            },
            "type": "bar"
           }
          ],
          "barpolar": [
           {
            "marker": {
             "line": {
              "color": "#E5ECF6",
              "width": 0.5
             },
             "pattern": {
              "fillmode": "overlay",
              "size": 10,
              "solidity": 0.2
             }
            },
            "type": "barpolar"
           }
          ],
          "carpet": [
           {
            "aaxis": {
             "endlinecolor": "#2a3f5f",
             "gridcolor": "white",
             "linecolor": "white",
             "minorgridcolor": "white",
             "startlinecolor": "#2a3f5f"
            },
            "baxis": {
             "endlinecolor": "#2a3f5f",
             "gridcolor": "white",
             "linecolor": "white",
             "minorgridcolor": "white",
             "startlinecolor": "#2a3f5f"
            },
            "type": "carpet"
           }
          ],
          "choropleth": [
           {
            "colorbar": {
             "outlinewidth": 0,
             "ticks": ""
            },
            "type": "choropleth"
           }
          ],
          "contour": [
           {
            "colorbar": {
             "outlinewidth": 0,
             "ticks": ""
            },
            "colorscale": [
             [
              0,
              "#0d0887"
             ],
             [
              0.1111111111111111,
              "#46039f"
             ],
             [
              0.2222222222222222,
              "#7201a8"
             ],
             [
              0.3333333333333333,
              "#9c179e"
             ],
             [
              0.4444444444444444,
              "#bd3786"
             ],
             [
              0.5555555555555556,
              "#d8576b"
             ],
             [
              0.6666666666666666,
              "#ed7953"
             ],
             [
              0.7777777777777778,
              "#fb9f3a"
             ],
             [
              0.8888888888888888,
              "#fdca26"
             ],
             [
              1,
              "#f0f921"
             ]
            ],
            "type": "contour"
           }
          ],
          "contourcarpet": [
           {
            "colorbar": {
             "outlinewidth": 0,
             "ticks": ""
            },
            "type": "contourcarpet"
           }
          ],
          "heatmap": [
           {
            "colorbar": {
             "outlinewidth": 0,
             "ticks": ""
            },
            "colorscale": [
             [
              0,
              "#0d0887"
             ],
             [
              0.1111111111111111,
              "#46039f"
             ],
             [
              0.2222222222222222,
              "#7201a8"
             ],
             [
              0.3333333333333333,
              "#9c179e"
             ],
             [
              0.4444444444444444,
              "#bd3786"
             ],
             [
              0.5555555555555556,
              "#d8576b"
             ],
             [
              0.6666666666666666,
              "#ed7953"
             ],
             [
              0.7777777777777778,
              "#fb9f3a"
             ],
             [
              0.8888888888888888,
              "#fdca26"
             ],
             [
              1,
              "#f0f921"
             ]
            ],
            "type": "heatmap"
           }
          ],
          "heatmapgl": [
           {
            "colorbar": {
             "outlinewidth": 0,
             "ticks": ""
            },
            "colorscale": [
             [
              0,
              "#0d0887"
             ],
             [
              0.1111111111111111,
              "#46039f"
             ],
             [
              0.2222222222222222,
              "#7201a8"
             ],
             [
              0.3333333333333333,
              "#9c179e"
             ],
             [
              0.4444444444444444,
              "#bd3786"
             ],
             [
              0.5555555555555556,
              "#d8576b"
             ],
             [
              0.6666666666666666,
              "#ed7953"
             ],
             [
              0.7777777777777778,
              "#fb9f3a"
             ],
             [
              0.8888888888888888,
              "#fdca26"
             ],
             [
              1,
              "#f0f921"
             ]
            ],
            "type": "heatmapgl"
           }
          ],
          "histogram": [
           {
            "marker": {
             "pattern": {
              "fillmode": "overlay",
              "size": 10,
              "solidity": 0.2
             }
            },
            "type": "histogram"
           }
          ],
          "histogram2d": [
           {
            "colorbar": {
             "outlinewidth": 0,
             "ticks": ""
            },
            "colorscale": [
             [
              0,
              "#0d0887"
             ],
             [
              0.1111111111111111,
              "#46039f"
             ],
             [
              0.2222222222222222,
              "#7201a8"
             ],
             [
              0.3333333333333333,
              "#9c179e"
             ],
             [
              0.4444444444444444,
              "#bd3786"
             ],
             [
              0.5555555555555556,
              "#d8576b"
             ],
             [
              0.6666666666666666,
              "#ed7953"
             ],
             [
              0.7777777777777778,
              "#fb9f3a"
             ],
             [
              0.8888888888888888,
              "#fdca26"
             ],
             [
              1,
              "#f0f921"
             ]
            ],
            "type": "histogram2d"
           }
          ],
          "histogram2dcontour": [
           {
            "colorbar": {
             "outlinewidth": 0,
             "ticks": ""
            },
            "colorscale": [
             [
              0,
              "#0d0887"
             ],
             [
              0.1111111111111111,
              "#46039f"
             ],
             [
              0.2222222222222222,
              "#7201a8"
             ],
             [
              0.3333333333333333,
              "#9c179e"
             ],
             [
              0.4444444444444444,
              "#bd3786"
             ],
             [
              0.5555555555555556,
              "#d8576b"
             ],
             [
              0.6666666666666666,
              "#ed7953"
             ],
             [
              0.7777777777777778,
              "#fb9f3a"
             ],
             [
              0.8888888888888888,
              "#fdca26"
             ],
             [
              1,
              "#f0f921"
             ]
            ],
            "type": "histogram2dcontour"
           }
          ],
          "mesh3d": [
           {
            "colorbar": {
             "outlinewidth": 0,
             "ticks": ""
            },
            "type": "mesh3d"
           }
          ],
          "parcoords": [
           {
            "line": {
             "colorbar": {
              "outlinewidth": 0,
              "ticks": ""
             }
            },
            "type": "parcoords"
           }
          ],
          "pie": [
           {
            "automargin": true,
            "type": "pie"
           }
          ],
          "scatter": [
           {
            "fillpattern": {
             "fillmode": "overlay",
             "size": 10,
             "solidity": 0.2
            },
            "type": "scatter"
           }
          ],
          "scatter3d": [
           {
            "line": {
             "colorbar": {
              "outlinewidth": 0,
              "ticks": ""
             }
            },
            "marker": {
             "colorbar": {
              "outlinewidth": 0,
              "ticks": ""
             }
            },
            "type": "scatter3d"
           }
          ],
          "scattercarpet": [
           {
            "marker": {
             "colorbar": {
              "outlinewidth": 0,
              "ticks": ""
             }
            },
            "type": "scattercarpet"
           }
          ],
          "scattergeo": [
           {
            "marker": {
             "colorbar": {
              "outlinewidth": 0,
              "ticks": ""
             }
            },
            "type": "scattergeo"
           }
          ],
          "scattergl": [
           {
            "marker": {
             "colorbar": {
              "outlinewidth": 0,
              "ticks": ""
             }
            },
            "type": "scattergl"
           }
          ],
          "scattermapbox": [
           {
            "marker": {
             "colorbar": {
              "outlinewidth": 0,
              "ticks": ""
             }
            },
            "type": "scattermapbox"
           }
          ],
          "scatterpolar": [
           {
            "marker": {
             "colorbar": {
              "outlinewidth": 0,
              "ticks": ""
             }
            },
            "type": "scatterpolar"
           }
          ],
          "scatterpolargl": [
           {
            "marker": {
             "colorbar": {
              "outlinewidth": 0,
              "ticks": ""
             }
            },
            "type": "scatterpolargl"
           }
          ],
          "scatterternary": [
           {
            "marker": {
             "colorbar": {
              "outlinewidth": 0,
              "ticks": ""
             }
            },
            "type": "scatterternary"
           }
          ],
          "surface": [
           {
            "colorbar": {
             "outlinewidth": 0,
             "ticks": ""
            },
            "colorscale": [
             [
              0,
              "#0d0887"
             ],
             [
              0.1111111111111111,
              "#46039f"
             ],
             [
              0.2222222222222222,
              "#7201a8"
             ],
             [
              0.3333333333333333,
              "#9c179e"
             ],
             [
              0.4444444444444444,
              "#bd3786"
             ],
             [
              0.5555555555555556,
              "#d8576b"
             ],
             [
              0.6666666666666666,
              "#ed7953"
             ],
             [
              0.7777777777777778,
              "#fb9f3a"
             ],
             [
              0.8888888888888888,
              "#fdca26"
             ],
             [
              1,
              "#f0f921"
             ]
            ],
            "type": "surface"
           }
          ],
          "table": [
           {
            "cells": {
             "fill": {
              "color": "#EBF0F8"
             },
             "line": {
              "color": "white"
             }
            },
            "header": {
             "fill": {
              "color": "#C8D4E3"
             },
             "line": {
              "color": "white"
             }
            },
            "type": "table"
           }
          ]
         },
         "layout": {
          "annotationdefaults": {
           "arrowcolor": "#2a3f5f",
           "arrowhead": 0,
           "arrowwidth": 1
          },
          "autotypenumbers": "strict",
          "coloraxis": {
           "colorbar": {
            "outlinewidth": 0,
            "ticks": ""
           }
          },
          "colorscale": {
           "diverging": [
            [
             0,
             "#8e0152"
            ],
            [
             0.1,
             "#c51b7d"
            ],
            [
             0.2,
             "#de77ae"
            ],
            [
             0.3,
             "#f1b6da"
            ],
            [
             0.4,
             "#fde0ef"
            ],
            [
             0.5,
             "#f7f7f7"
            ],
            [
             0.6,
             "#e6f5d0"
            ],
            [
             0.7,
             "#b8e186"
            ],
            [
             0.8,
             "#7fbc41"
            ],
            [
             0.9,
             "#4d9221"
            ],
            [
             1,
             "#276419"
            ]
           ],
           "sequential": [
            [
             0,
             "#0d0887"
            ],
            [
             0.1111111111111111,
             "#46039f"
            ],
            [
             0.2222222222222222,
             "#7201a8"
            ],
            [
             0.3333333333333333,
             "#9c179e"
            ],
            [
             0.4444444444444444,
             "#bd3786"
            ],
            [
             0.5555555555555556,
             "#d8576b"
            ],
            [
             0.6666666666666666,
             "#ed7953"
            ],
            [
             0.7777777777777778,
             "#fb9f3a"
            ],
            [
             0.8888888888888888,
             "#fdca26"
            ],
            [
             1,
             "#f0f921"
            ]
           ],
           "sequentialminus": [
            [
             0,
             "#0d0887"
            ],
            [
             0.1111111111111111,
             "#46039f"
            ],
            [
             0.2222222222222222,
             "#7201a8"
            ],
            [
             0.3333333333333333,
             "#9c179e"
            ],
            [
             0.4444444444444444,
             "#bd3786"
            ],
            [
             0.5555555555555556,
             "#d8576b"
            ],
            [
             0.6666666666666666,
             "#ed7953"
            ],
            [
             0.7777777777777778,
             "#fb9f3a"
            ],
            [
             0.8888888888888888,
             "#fdca26"
            ],
            [
             1,
             "#f0f921"
            ]
           ]
          },
          "colorway": [
           "#636efa",
           "#EF553B",
           "#00cc96",
           "#ab63fa",
           "#FFA15A",
           "#19d3f3",
           "#FF6692",
           "#B6E880",
           "#FF97FF",
           "#FECB52"
          ],
          "font": {
           "color": "#2a3f5f"
          },
          "geo": {
           "bgcolor": "white",
           "lakecolor": "white",
           "landcolor": "#E5ECF6",
           "showlakes": true,
           "showland": true,
           "subunitcolor": "white"
          },
          "hoverlabel": {
           "align": "left"
          },
          "hovermode": "closest",
          "mapbox": {
           "style": "light"
          },
          "paper_bgcolor": "white",
          "plot_bgcolor": "#E5ECF6",
          "polar": {
           "angularaxis": {
            "gridcolor": "white",
            "linecolor": "white",
            "ticks": ""
           },
           "bgcolor": "#E5ECF6",
           "radialaxis": {
            "gridcolor": "white",
            "linecolor": "white",
            "ticks": ""
           }
          },
          "scene": {
           "xaxis": {
            "backgroundcolor": "#E5ECF6",
            "gridcolor": "white",
            "gridwidth": 2,
            "linecolor": "white",
            "showbackground": true,
            "ticks": "",
            "zerolinecolor": "white"
           },
           "yaxis": {
            "backgroundcolor": "#E5ECF6",
            "gridcolor": "white",
            "gridwidth": 2,
            "linecolor": "white",
            "showbackground": true,
            "ticks": "",
            "zerolinecolor": "white"
           },
           "zaxis": {
            "backgroundcolor": "#E5ECF6",
            "gridcolor": "white",
            "gridwidth": 2,
            "linecolor": "white",
            "showbackground": true,
            "ticks": "",
            "zerolinecolor": "white"
           }
          },
          "shapedefaults": {
           "line": {
            "color": "#2a3f5f"
           }
          },
          "ternary": {
           "aaxis": {
            "gridcolor": "white",
            "linecolor": "white",
            "ticks": ""
           },
           "baxis": {
            "gridcolor": "white",
            "linecolor": "white",
            "ticks": ""
           },
           "bgcolor": "#E5ECF6",
           "caxis": {
            "gridcolor": "white",
            "linecolor": "white",
            "ticks": ""
           }
          },
          "title": {
           "x": 0.05
          },
          "xaxis": {
           "automargin": true,
           "gridcolor": "white",
           "linecolor": "white",
           "ticks": "",
           "title": {
            "standoff": 15
           },
           "zerolinecolor": "white",
           "zerolinewidth": 2
          },
          "yaxis": {
           "automargin": true,
           "gridcolor": "white",
           "linecolor": "white",
           "ticks": "",
           "title": {
            "standoff": 15
           },
           "zerolinecolor": "white",
           "zerolinewidth": 2
          }
         }
        },
        "title": {
         "text": "Execution time of ForecasterRecursiveMultiSeries_backtesting_series_is_dict_exog_is_dict"
        },
        "xaxis": {
         "tickangle": -45,
         "tickmode": "array",
         "ticktext": [
          "0.14.0",
          "0.15.1",
          "0.16.0"
         ],
         "tickvals": [
          0,
          1,
          2
         ],
         "title": {
          "text": "skforecast version"
         }
        },
        "yaxis": {
         "title": {
          "text": "Execution time (seconds)"
         }
        }
       }
      }
     },
     "metadata": {},
     "output_type": "display_data"
    },
    {
     "data": {
      "application/vnd.microsoft.datawrangler.viewer.v0+json": {
       "columns": [
        {
         "name": "index",
         "rawType": "int64",
         "type": "integer"
        },
        {
         "name": "forecaster_name",
         "rawType": "object",
         "type": "string"
        },
        {
         "name": "regressor_name",
         "rawType": "object",
         "type": "string"
        },
        {
         "name": "function_name",
         "rawType": "object",
         "type": "string"
        },
        {
         "name": "function_hash",
         "rawType": "object",
         "type": "string"
        },
        {
         "name": "run_time_avg",
         "rawType": "float64",
         "type": "float"
        },
        {
         "name": "run_time_std_dev",
         "rawType": "float64",
         "type": "float"
        },
        {
         "name": "datetime",
         "rawType": "datetime64[ns]",
         "type": "datetime"
        },
        {
         "name": "python_version",
         "rawType": "object",
         "type": "string"
        },
        {
         "name": "skforecast_version",
         "rawType": "object",
         "type": "string"
        },
        {
         "name": "numpy_version",
         "rawType": "object",
         "type": "string"
        },
        {
         "name": "pandas_version",
         "rawType": "object",
         "type": "string"
        },
        {
         "name": "sklearn_version",
         "rawType": "object",
         "type": "string"
        },
        {
         "name": "lightgbm_version",
         "rawType": "object",
         "type": "string"
        },
        {
         "name": "platform",
         "rawType": "object",
         "type": "string"
        },
        {
         "name": "processor",
         "rawType": "object",
         "type": "string"
        },
        {
         "name": "cpu_count",
         "rawType": "int64",
         "type": "integer"
        },
        {
         "name": "memory_gb",
         "rawType": "float64",
         "type": "float"
        }
       ],
       "conversionMethod": "pd.DataFrame",
       "ref": "26017002-570b-4703-9331-76c99fb82b50",
       "rows": [
        [
         "154",
         "ForecasterRecursiveMultiSeries",
         "LGBMRegressor",
         "ForecasterRecursiveMultiSeries_backtesting_series_is_dataframe_no_exog",
         "77968c38bfc431991b56a6500970e471",
         "12.627920639995136",
         "0.484848692147449",
         "2025-04-24 10:38:45.612438",
         "3.11.10",
         "0.15.1",
         "2.1.3",
         "2.2.3",
         "1.6.1",
         "4.5.0",
         "Windows-10-10.0.19045-SP0",
         "Intel64 Family 6 Model 141 Stepping 1, GenuineIntel",
         "16",
         "34.07"
        ],
        [
         "169",
         "ForecasterRecursiveMultiSeries",
         "LGBMRegressor",
         "ForecasterRecursiveMultiSeries_backtesting_series_is_dataframe_no_exog",
         "77968c38bfc431991b56a6500970e471",
         "10.28771940000006",
         "0.2130346089293665",
         "2025-04-24 10:44:51.118971",
         "3.11.10",
         "0.14.0",
         "2.1.3",
         "2.2.3",
         "1.6.1",
         "4.5.0",
         "Windows-10-10.0.19045-SP0",
         "Intel64 Family 6 Model 141 Stepping 1, GenuineIntel",
         "16",
         "34.07"
        ],
        [
         "184",
         "ForecasterRecursiveMultiSeries",
         "LGBMRegressor",
         "ForecasterRecursiveMultiSeries_backtesting_series_is_dataframe_no_exog",
         "77968c38bfc431991b56a6500970e471",
         "10.403703420000966",
         "0.13757920918216227",
         "2025-04-24 11:12:07.236935",
         "3.11.10",
         "0.14.0",
         "2.1.3",
         "2.2.3",
         "1.6.1",
         "4.5.0",
         "Windows-10-10.0.19045-SP0",
         "Intel64 Family 6 Model 141 Stepping 1, GenuineIntel",
         "16",
         "34.07"
        ],
        [
         "199",
         "ForecasterRecursiveMultiSeries",
         "LGBMRegressor",
         "ForecasterRecursiveMultiSeries_backtesting_series_is_dataframe_no_exog",
         "77968c38bfc431991b56a6500970e471",
         "12.78242014000134",
         "0.15562745184833618",
         "2025-04-24 11:22:05.448858",
         "3.11.10",
         "0.15.1",
         "2.1.3",
         "2.2.3",
         "1.6.1",
         "4.5.0",
         "Windows-10-10.0.19045-SP0",
         "Intel64 Family 6 Model 141 Stepping 1, GenuineIntel",
         "16",
         "34.07"
        ],
        [
         "215",
         "ForecasterRecursiveMultiSeries",
         "LGBMRegressor",
         "ForecasterRecursiveMultiSeries_backtesting_series_is_dataframe_no_exog",
         "77968c38bfc431991b56a6500970e471",
         "10.69813580000191",
         "0.1266666970919952",
         "2025-04-24 18:06:07.947284",
         "3.11.10",
         "0.16.0",
         "2.2.5",
         "2.2.3",
         "1.6.1",
         "4.5.0",
         "Windows-10-10.0.19045-SP0",
         "Intel64 Family 6 Model 141 Stepping 1, GenuineIntel",
         "16",
         "34.07"
        ],
        [
         "234",
         "ForecasterRecursiveMultiSeries",
         "LGBMRegressor",
         "ForecasterRecursiveMultiSeries_backtesting_series_is_dataframe_no_exog",
         "77968c38bfc431991b56a6500970e471",
         "9.375886560001527",
         "0.11481341888337085",
         "2025-04-24 18:20:55.233667",
         "3.11.10",
         "0.16.0",
         "2.2.5",
         "2.2.3",
         "1.6.1",
         "4.5.0",
         "Windows-10-10.0.19045-SP0",
         "Intel64 Family 6 Model 141 Stepping 1, GenuineIntel",
         "16",
         "34.07"
        ]
       ],
       "shape": {
        "columns": 17,
        "rows": 6
       }
      },
      "text/html": [
       "<div>\n",
       "<style scoped>\n",
       "    .dataframe tbody tr th:only-of-type {\n",
       "        vertical-align: middle;\n",
       "    }\n",
       "\n",
       "    .dataframe tbody tr th {\n",
       "        vertical-align: top;\n",
       "    }\n",
       "\n",
       "    .dataframe thead th {\n",
       "        text-align: right;\n",
       "    }\n",
       "</style>\n",
       "<table border=\"1\" class=\"dataframe\">\n",
       "  <thead>\n",
       "    <tr style=\"text-align: right;\">\n",
       "      <th></th>\n",
       "      <th>forecaster_name</th>\n",
       "      <th>regressor_name</th>\n",
       "      <th>function_name</th>\n",
       "      <th>function_hash</th>\n",
       "      <th>run_time_avg</th>\n",
       "      <th>run_time_std_dev</th>\n",
       "      <th>datetime</th>\n",
       "      <th>python_version</th>\n",
       "      <th>skforecast_version</th>\n",
       "      <th>numpy_version</th>\n",
       "      <th>pandas_version</th>\n",
       "      <th>sklearn_version</th>\n",
       "      <th>lightgbm_version</th>\n",
       "      <th>platform</th>\n",
       "      <th>processor</th>\n",
       "      <th>cpu_count</th>\n",
       "      <th>memory_gb</th>\n",
       "    </tr>\n",
       "  </thead>\n",
       "  <tbody>\n",
       "    <tr>\n",
       "      <th>154</th>\n",
       "      <td>ForecasterRecursiveMultiSeries</td>\n",
       "      <td>LGBMRegressor</td>\n",
       "      <td>ForecasterRecursiveMultiSeries_backtesting_ser...</td>\n",
       "      <td>77968c38bfc431991b56a6500970e471</td>\n",
       "      <td>12.627921</td>\n",
       "      <td>0.484849</td>\n",
       "      <td>2025-04-24 10:38:45.612438</td>\n",
       "      <td>3.11.10</td>\n",
       "      <td>0.15.1</td>\n",
       "      <td>2.1.3</td>\n",
       "      <td>2.2.3</td>\n",
       "      <td>1.6.1</td>\n",
       "      <td>4.5.0</td>\n",
       "      <td>Windows-10-10.0.19045-SP0</td>\n",
       "      <td>Intel64 Family 6 Model 141 Stepping 1, Genuine...</td>\n",
       "      <td>16</td>\n",
       "      <td>34.07</td>\n",
       "    </tr>\n",
       "    <tr>\n",
       "      <th>169</th>\n",
       "      <td>ForecasterRecursiveMultiSeries</td>\n",
       "      <td>LGBMRegressor</td>\n",
       "      <td>ForecasterRecursiveMultiSeries_backtesting_ser...</td>\n",
       "      <td>77968c38bfc431991b56a6500970e471</td>\n",
       "      <td>10.287719</td>\n",
       "      <td>0.213035</td>\n",
       "      <td>2025-04-24 10:44:51.118971</td>\n",
       "      <td>3.11.10</td>\n",
       "      <td>0.14.0</td>\n",
       "      <td>2.1.3</td>\n",
       "      <td>2.2.3</td>\n",
       "      <td>1.6.1</td>\n",
       "      <td>4.5.0</td>\n",
       "      <td>Windows-10-10.0.19045-SP0</td>\n",
       "      <td>Intel64 Family 6 Model 141 Stepping 1, Genuine...</td>\n",
       "      <td>16</td>\n",
       "      <td>34.07</td>\n",
       "    </tr>\n",
       "    <tr>\n",
       "      <th>184</th>\n",
       "      <td>ForecasterRecursiveMultiSeries</td>\n",
       "      <td>LGBMRegressor</td>\n",
       "      <td>ForecasterRecursiveMultiSeries_backtesting_ser...</td>\n",
       "      <td>77968c38bfc431991b56a6500970e471</td>\n",
       "      <td>10.403703</td>\n",
       "      <td>0.137579</td>\n",
       "      <td>2025-04-24 11:12:07.236935</td>\n",
       "      <td>3.11.10</td>\n",
       "      <td>0.14.0</td>\n",
       "      <td>2.1.3</td>\n",
       "      <td>2.2.3</td>\n",
       "      <td>1.6.1</td>\n",
       "      <td>4.5.0</td>\n",
       "      <td>Windows-10-10.0.19045-SP0</td>\n",
       "      <td>Intel64 Family 6 Model 141 Stepping 1, Genuine...</td>\n",
       "      <td>16</td>\n",
       "      <td>34.07</td>\n",
       "    </tr>\n",
       "    <tr>\n",
       "      <th>199</th>\n",
       "      <td>ForecasterRecursiveMultiSeries</td>\n",
       "      <td>LGBMRegressor</td>\n",
       "      <td>ForecasterRecursiveMultiSeries_backtesting_ser...</td>\n",
       "      <td>77968c38bfc431991b56a6500970e471</td>\n",
       "      <td>12.782420</td>\n",
       "      <td>0.155627</td>\n",
       "      <td>2025-04-24 11:22:05.448858</td>\n",
       "      <td>3.11.10</td>\n",
       "      <td>0.15.1</td>\n",
       "      <td>2.1.3</td>\n",
       "      <td>2.2.3</td>\n",
       "      <td>1.6.1</td>\n",
       "      <td>4.5.0</td>\n",
       "      <td>Windows-10-10.0.19045-SP0</td>\n",
       "      <td>Intel64 Family 6 Model 141 Stepping 1, Genuine...</td>\n",
       "      <td>16</td>\n",
       "      <td>34.07</td>\n",
       "    </tr>\n",
       "    <tr>\n",
       "      <th>215</th>\n",
       "      <td>ForecasterRecursiveMultiSeries</td>\n",
       "      <td>LGBMRegressor</td>\n",
       "      <td>ForecasterRecursiveMultiSeries_backtesting_ser...</td>\n",
       "      <td>77968c38bfc431991b56a6500970e471</td>\n",
       "      <td>10.698136</td>\n",
       "      <td>0.126667</td>\n",
       "      <td>2025-04-24 18:06:07.947284</td>\n",
       "      <td>3.11.10</td>\n",
       "      <td>0.16.0</td>\n",
       "      <td>2.2.5</td>\n",
       "      <td>2.2.3</td>\n",
       "      <td>1.6.1</td>\n",
       "      <td>4.5.0</td>\n",
       "      <td>Windows-10-10.0.19045-SP0</td>\n",
       "      <td>Intel64 Family 6 Model 141 Stepping 1, Genuine...</td>\n",
       "      <td>16</td>\n",
       "      <td>34.07</td>\n",
       "    </tr>\n",
       "    <tr>\n",
       "      <th>234</th>\n",
       "      <td>ForecasterRecursiveMultiSeries</td>\n",
       "      <td>LGBMRegressor</td>\n",
       "      <td>ForecasterRecursiveMultiSeries_backtesting_ser...</td>\n",
       "      <td>77968c38bfc431991b56a6500970e471</td>\n",
       "      <td>9.375887</td>\n",
       "      <td>0.114813</td>\n",
       "      <td>2025-04-24 18:20:55.233667</td>\n",
       "      <td>3.11.10</td>\n",
       "      <td>0.16.0</td>\n",
       "      <td>2.2.5</td>\n",
       "      <td>2.2.3</td>\n",
       "      <td>1.6.1</td>\n",
       "      <td>4.5.0</td>\n",
       "      <td>Windows-10-10.0.19045-SP0</td>\n",
       "      <td>Intel64 Family 6 Model 141 Stepping 1, Genuine...</td>\n",
       "      <td>16</td>\n",
       "      <td>34.07</td>\n",
       "    </tr>\n",
       "  </tbody>\n",
       "</table>\n",
       "</div>"
      ],
      "text/plain": [
       "                    forecaster_name regressor_name  \\\n",
       "154  ForecasterRecursiveMultiSeries  LGBMRegressor   \n",
       "169  ForecasterRecursiveMultiSeries  LGBMRegressor   \n",
       "184  ForecasterRecursiveMultiSeries  LGBMRegressor   \n",
       "199  ForecasterRecursiveMultiSeries  LGBMRegressor   \n",
       "215  ForecasterRecursiveMultiSeries  LGBMRegressor   \n",
       "234  ForecasterRecursiveMultiSeries  LGBMRegressor   \n",
       "\n",
       "                                         function_name  \\\n",
       "154  ForecasterRecursiveMultiSeries_backtesting_ser...   \n",
       "169  ForecasterRecursiveMultiSeries_backtesting_ser...   \n",
       "184  ForecasterRecursiveMultiSeries_backtesting_ser...   \n",
       "199  ForecasterRecursiveMultiSeries_backtesting_ser...   \n",
       "215  ForecasterRecursiveMultiSeries_backtesting_ser...   \n",
       "234  ForecasterRecursiveMultiSeries_backtesting_ser...   \n",
       "\n",
       "                        function_hash  run_time_avg  run_time_std_dev  \\\n",
       "154  77968c38bfc431991b56a6500970e471     12.627921          0.484849   \n",
       "169  77968c38bfc431991b56a6500970e471     10.287719          0.213035   \n",
       "184  77968c38bfc431991b56a6500970e471     10.403703          0.137579   \n",
       "199  77968c38bfc431991b56a6500970e471     12.782420          0.155627   \n",
       "215  77968c38bfc431991b56a6500970e471     10.698136          0.126667   \n",
       "234  77968c38bfc431991b56a6500970e471      9.375887          0.114813   \n",
       "\n",
       "                      datetime python_version skforecast_version  \\\n",
       "154 2025-04-24 10:38:45.612438        3.11.10             0.15.1   \n",
       "169 2025-04-24 10:44:51.118971        3.11.10             0.14.0   \n",
       "184 2025-04-24 11:12:07.236935        3.11.10             0.14.0   \n",
       "199 2025-04-24 11:22:05.448858        3.11.10             0.15.1   \n",
       "215 2025-04-24 18:06:07.947284        3.11.10             0.16.0   \n",
       "234 2025-04-24 18:20:55.233667        3.11.10             0.16.0   \n",
       "\n",
       "    numpy_version pandas_version sklearn_version lightgbm_version  \\\n",
       "154         2.1.3          2.2.3           1.6.1            4.5.0   \n",
       "169         2.1.3          2.2.3           1.6.1            4.5.0   \n",
       "184         2.1.3          2.2.3           1.6.1            4.5.0   \n",
       "199         2.1.3          2.2.3           1.6.1            4.5.0   \n",
       "215         2.2.5          2.2.3           1.6.1            4.5.0   \n",
       "234         2.2.5          2.2.3           1.6.1            4.5.0   \n",
       "\n",
       "                      platform  \\\n",
       "154  Windows-10-10.0.19045-SP0   \n",
       "169  Windows-10-10.0.19045-SP0   \n",
       "184  Windows-10-10.0.19045-SP0   \n",
       "199  Windows-10-10.0.19045-SP0   \n",
       "215  Windows-10-10.0.19045-SP0   \n",
       "234  Windows-10-10.0.19045-SP0   \n",
       "\n",
       "                                             processor  cpu_count  memory_gb  \n",
       "154  Intel64 Family 6 Model 141 Stepping 1, Genuine...         16      34.07  \n",
       "169  Intel64 Family 6 Model 141 Stepping 1, Genuine...         16      34.07  \n",
       "184  Intel64 Family 6 Model 141 Stepping 1, Genuine...         16      34.07  \n",
       "199  Intel64 Family 6 Model 141 Stepping 1, Genuine...         16      34.07  \n",
       "215  Intel64 Family 6 Model 141 Stepping 1, Genuine...         16      34.07  \n",
       "234  Intel64 Family 6 Model 141 Stepping 1, Genuine...         16      34.07  "
      ]
     },
     "metadata": {},
     "output_type": "display_data"
    },
    {
     "data": {
      "application/vnd.plotly.v1+json": {
       "config": {
        "plotlyServerURL": "https://plot.ly"
       },
       "data": [
        {
         "error_y": {
          "array": [
           0.2130346089293665,
           0.13757920918216227
          ],
          "color": "#636EFA",
          "thickness": 1.5,
          "type": "data",
          "visible": true,
          "width": 5
         },
         "hovertemplate": "%{text}<extra></extra>",
         "marker": {
          "color": "#636EFA",
          "opacity": 0.7,
          "size": 10
         },
         "mode": "markers",
         "name": "Run time - 0.14.0",
         "showlegend": true,
         "text": [
          "Forecaster: ForecasterRecursiveMultiSeries<br>Regressor: LGBMRegressor<br>Function: ForecasterRecursiveMultiSeries_backtesting_series_is_dataframe_no_exog<br>Function_hash: 77968c38bfc431991b56a6500970e471<br>Datetime: 2025-04-24 10:44:51.118971<br>Python version: 3.11.10<br>skforecast version: 0.14.0<br>numpy version: 2.1.3<br>pandas version: 2.2.3<br>sklearn version: 1.6.1<br>lightgbm version: 4.5.0<br>Platform: Windows-10-10.0.19045-SP0<br>Processor: Intel64 Family 6 Model 141 Stepping 1, GenuineIntel<br>CPU count: 16<br>Memory (GB): 34.07<br>",
          "Forecaster: ForecasterRecursiveMultiSeries<br>Regressor: LGBMRegressor<br>Function: ForecasterRecursiveMultiSeries_backtesting_series_is_dataframe_no_exog<br>Function_hash: 77968c38bfc431991b56a6500970e471<br>Datetime: 2025-04-24 11:12:07.236935<br>Python version: 3.11.10<br>skforecast version: 0.14.0<br>numpy version: 2.1.3<br>pandas version: 2.2.3<br>sklearn version: 1.6.1<br>lightgbm version: 4.5.0<br>Platform: Windows-10-10.0.19045-SP0<br>Processor: Intel64 Family 6 Model 141 Stepping 1, GenuineIntel<br>CPU count: 16<br>Memory (GB): 34.07<br>"
         ],
         "type": "scatter",
         "x": [
          -0.013072724445363663,
          0.008194560218857672
         ],
         "y": [
          10.28771940000006,
          10.403703420000966
         ]
        },
        {
         "error_y": {
          "array": [
           0.484848692147449,
           0.15562745184833618
          ],
          "color": "#EF553B",
          "thickness": 1.5,
          "type": "data",
          "visible": true,
          "width": 5
         },
         "hovertemplate": "%{text}<extra></extra>",
         "marker": {
          "color": "#EF553B",
          "opacity": 0.7,
          "size": 10
         },
         "mode": "markers",
         "name": "Run time - 0.15.1",
         "showlegend": true,
         "text": [
          "Forecaster: ForecasterRecursiveMultiSeries<br>Regressor: LGBMRegressor<br>Function: ForecasterRecursiveMultiSeries_backtesting_series_is_dataframe_no_exog<br>Function_hash: 77968c38bfc431991b56a6500970e471<br>Datetime: 2025-04-24 10:38:45.612438<br>Python version: 3.11.10<br>skforecast version: 0.15.1<br>numpy version: 2.1.3<br>pandas version: 2.2.3<br>sklearn version: 1.6.1<br>lightgbm version: 4.5.0<br>Platform: Windows-10-10.0.19045-SP0<br>Processor: Intel64 Family 6 Model 141 Stepping 1, GenuineIntel<br>CPU count: 16<br>Memory (GB): 34.07<br>",
          "Forecaster: ForecasterRecursiveMultiSeries<br>Regressor: LGBMRegressor<br>Function: ForecasterRecursiveMultiSeries_backtesting_series_is_dataframe_no_exog<br>Function_hash: 77968c38bfc431991b56a6500970e471<br>Datetime: 2025-04-24 11:22:05.448858<br>Python version: 3.11.10<br>skforecast version: 0.15.1<br>numpy version: 2.1.3<br>pandas version: 2.2.3<br>sklearn version: 1.6.1<br>lightgbm version: 4.5.0<br>Platform: Windows-10-10.0.19045-SP0<br>Processor: Intel64 Family 6 Model 141 Stepping 1, GenuineIntel<br>CPU count: 16<br>Memory (GB): 34.07<br>"
         ],
         "type": "scatter",
         "x": [
          1.0081293121881658,
          1.0419283988672943
         ],
         "y": [
          12.627920639995136,
          12.78242014000134
         ]
        },
        {
         "error_y": {
          "array": [
           0.1266666970919952,
           0.11481341888337085
          ],
          "color": "#00CC96",
          "thickness": 1.5,
          "type": "data",
          "visible": true,
          "width": 5
         },
         "hovertemplate": "%{text}<extra></extra>",
         "marker": {
          "color": "#00CC96",
          "opacity": 0.7,
          "size": 10
         },
         "mode": "markers",
         "name": "Run time - 0.16.0",
         "showlegend": true,
         "text": [
          "Forecaster: ForecasterRecursiveMultiSeries<br>Regressor: LGBMRegressor<br>Function: ForecasterRecursiveMultiSeries_backtesting_series_is_dataframe_no_exog<br>Function_hash: 77968c38bfc431991b56a6500970e471<br>Datetime: 2025-04-24 18:06:07.947284<br>Python version: 3.11.10<br>skforecast version: 0.16.0<br>numpy version: 2.2.5<br>pandas version: 2.2.3<br>sklearn version: 1.6.1<br>lightgbm version: 4.5.0<br>Platform: Windows-10-10.0.19045-SP0<br>Processor: Intel64 Family 6 Model 141 Stepping 1, GenuineIntel<br>CPU count: 16<br>Memory (GB): 34.07<br>",
          "Forecaster: ForecasterRecursiveMultiSeries<br>Regressor: LGBMRegressor<br>Function: ForecasterRecursiveMultiSeries_backtesting_series_is_dataframe_no_exog<br>Function_hash: 77968c38bfc431991b56a6500970e471<br>Datetime: 2025-04-24 18:20:55.233667<br>Python version: 3.11.10<br>skforecast version: 0.16.0<br>numpy version: 2.2.5<br>pandas version: 2.2.3<br>sklearn version: 1.6.1<br>lightgbm version: 4.5.0<br>Platform: Windows-10-10.0.19045-SP0<br>Processor: Intel64 Family 6 Model 141 Stepping 1, GenuineIntel<br>CPU count: 16<br>Memory (GB): 34.07<br>"
         ],
         "type": "scatter",
         "x": [
          1.9612920605272641,
          1.973403156847176
         ],
         "y": [
          10.69813580000191,
          9.375886560001527
         ]
        },
        {
         "line": {
          "color": "black",
          "width": 2
         },
         "marker": {
          "color": "black",
          "size": 8
         },
         "mode": "lines+markers",
         "name": "Median (per version)",
         "type": "scatter",
         "x": [
          0,
          1,
          2
         ],
         "y": [
          10.345711410000513,
          12.705170389998237,
          10.03701118000172
         ]
        },
        {
         "line": {
          "color": "black",
          "dash": "dash",
          "width": 2
         },
         "marker": {
          "color": "black",
          "size": 8
         },
         "mode": "lines+markers",
         "name": "Mean (per version)",
         "type": "scatter",
         "x": [
          0,
          1,
          2
         ],
         "y": [
          10.345711410000513,
          12.705170389998237,
          10.03701118000172
         ]
        }
       ],
       "layout": {
        "showlegend": true,
        "template": {
         "data": {
          "bar": [
           {
            "error_x": {
             "color": "#2a3f5f"
            },
            "error_y": {
             "color": "#2a3f5f"
            },
            "marker": {
             "line": {
              "color": "#E5ECF6",
              "width": 0.5
             },
             "pattern": {
              "fillmode": "overlay",
              "size": 10,
              "solidity": 0.2
             }
            },
            "type": "bar"
           }
          ],
          "barpolar": [
           {
            "marker": {
             "line": {
              "color": "#E5ECF6",
              "width": 0.5
             },
             "pattern": {
              "fillmode": "overlay",
              "size": 10,
              "solidity": 0.2
             }
            },
            "type": "barpolar"
           }
          ],
          "carpet": [
           {
            "aaxis": {
             "endlinecolor": "#2a3f5f",
             "gridcolor": "white",
             "linecolor": "white",
             "minorgridcolor": "white",
             "startlinecolor": "#2a3f5f"
            },
            "baxis": {
             "endlinecolor": "#2a3f5f",
             "gridcolor": "white",
             "linecolor": "white",
             "minorgridcolor": "white",
             "startlinecolor": "#2a3f5f"
            },
            "type": "carpet"
           }
          ],
          "choropleth": [
           {
            "colorbar": {
             "outlinewidth": 0,
             "ticks": ""
            },
            "type": "choropleth"
           }
          ],
          "contour": [
           {
            "colorbar": {
             "outlinewidth": 0,
             "ticks": ""
            },
            "colorscale": [
             [
              0,
              "#0d0887"
             ],
             [
              0.1111111111111111,
              "#46039f"
             ],
             [
              0.2222222222222222,
              "#7201a8"
             ],
             [
              0.3333333333333333,
              "#9c179e"
             ],
             [
              0.4444444444444444,
              "#bd3786"
             ],
             [
              0.5555555555555556,
              "#d8576b"
             ],
             [
              0.6666666666666666,
              "#ed7953"
             ],
             [
              0.7777777777777778,
              "#fb9f3a"
             ],
             [
              0.8888888888888888,
              "#fdca26"
             ],
             [
              1,
              "#f0f921"
             ]
            ],
            "type": "contour"
           }
          ],
          "contourcarpet": [
           {
            "colorbar": {
             "outlinewidth": 0,
             "ticks": ""
            },
            "type": "contourcarpet"
           }
          ],
          "heatmap": [
           {
            "colorbar": {
             "outlinewidth": 0,
             "ticks": ""
            },
            "colorscale": [
             [
              0,
              "#0d0887"
             ],
             [
              0.1111111111111111,
              "#46039f"
             ],
             [
              0.2222222222222222,
              "#7201a8"
             ],
             [
              0.3333333333333333,
              "#9c179e"
             ],
             [
              0.4444444444444444,
              "#bd3786"
             ],
             [
              0.5555555555555556,
              "#d8576b"
             ],
             [
              0.6666666666666666,
              "#ed7953"
             ],
             [
              0.7777777777777778,
              "#fb9f3a"
             ],
             [
              0.8888888888888888,
              "#fdca26"
             ],
             [
              1,
              "#f0f921"
             ]
            ],
            "type": "heatmap"
           }
          ],
          "heatmapgl": [
           {
            "colorbar": {
             "outlinewidth": 0,
             "ticks": ""
            },
            "colorscale": [
             [
              0,
              "#0d0887"
             ],
             [
              0.1111111111111111,
              "#46039f"
             ],
             [
              0.2222222222222222,
              "#7201a8"
             ],
             [
              0.3333333333333333,
              "#9c179e"
             ],
             [
              0.4444444444444444,
              "#bd3786"
             ],
             [
              0.5555555555555556,
              "#d8576b"
             ],
             [
              0.6666666666666666,
              "#ed7953"
             ],
             [
              0.7777777777777778,
              "#fb9f3a"
             ],
             [
              0.8888888888888888,
              "#fdca26"
             ],
             [
              1,
              "#f0f921"
             ]
            ],
            "type": "heatmapgl"
           }
          ],
          "histogram": [
           {
            "marker": {
             "pattern": {
              "fillmode": "overlay",
              "size": 10,
              "solidity": 0.2
             }
            },
            "type": "histogram"
           }
          ],
          "histogram2d": [
           {
            "colorbar": {
             "outlinewidth": 0,
             "ticks": ""
            },
            "colorscale": [
             [
              0,
              "#0d0887"
             ],
             [
              0.1111111111111111,
              "#46039f"
             ],
             [
              0.2222222222222222,
              "#7201a8"
             ],
             [
              0.3333333333333333,
              "#9c179e"
             ],
             [
              0.4444444444444444,
              "#bd3786"
             ],
             [
              0.5555555555555556,
              "#d8576b"
             ],
             [
              0.6666666666666666,
              "#ed7953"
             ],
             [
              0.7777777777777778,
              "#fb9f3a"
             ],
             [
              0.8888888888888888,
              "#fdca26"
             ],
             [
              1,
              "#f0f921"
             ]
            ],
            "type": "histogram2d"
           }
          ],
          "histogram2dcontour": [
           {
            "colorbar": {
             "outlinewidth": 0,
             "ticks": ""
            },
            "colorscale": [
             [
              0,
              "#0d0887"
             ],
             [
              0.1111111111111111,
              "#46039f"
             ],
             [
              0.2222222222222222,
              "#7201a8"
             ],
             [
              0.3333333333333333,
              "#9c179e"
             ],
             [
              0.4444444444444444,
              "#bd3786"
             ],
             [
              0.5555555555555556,
              "#d8576b"
             ],
             [
              0.6666666666666666,
              "#ed7953"
             ],
             [
              0.7777777777777778,
              "#fb9f3a"
             ],
             [
              0.8888888888888888,
              "#fdca26"
             ],
             [
              1,
              "#f0f921"
             ]
            ],
            "type": "histogram2dcontour"
           }
          ],
          "mesh3d": [
           {
            "colorbar": {
             "outlinewidth": 0,
             "ticks": ""
            },
            "type": "mesh3d"
           }
          ],
          "parcoords": [
           {
            "line": {
             "colorbar": {
              "outlinewidth": 0,
              "ticks": ""
             }
            },
            "type": "parcoords"
           }
          ],
          "pie": [
           {
            "automargin": true,
            "type": "pie"
           }
          ],
          "scatter": [
           {
            "fillpattern": {
             "fillmode": "overlay",
             "size": 10,
             "solidity": 0.2
            },
            "type": "scatter"
           }
          ],
          "scatter3d": [
           {
            "line": {
             "colorbar": {
              "outlinewidth": 0,
              "ticks": ""
             }
            },
            "marker": {
             "colorbar": {
              "outlinewidth": 0,
              "ticks": ""
             }
            },
            "type": "scatter3d"
           }
          ],
          "scattercarpet": [
           {
            "marker": {
             "colorbar": {
              "outlinewidth": 0,
              "ticks": ""
             }
            },
            "type": "scattercarpet"
           }
          ],
          "scattergeo": [
           {
            "marker": {
             "colorbar": {
              "outlinewidth": 0,
              "ticks": ""
             }
            },
            "type": "scattergeo"
           }
          ],
          "scattergl": [
           {
            "marker": {
             "colorbar": {
              "outlinewidth": 0,
              "ticks": ""
             }
            },
            "type": "scattergl"
           }
          ],
          "scattermapbox": [
           {
            "marker": {
             "colorbar": {
              "outlinewidth": 0,
              "ticks": ""
             }
            },
            "type": "scattermapbox"
           }
          ],
          "scatterpolar": [
           {
            "marker": {
             "colorbar": {
              "outlinewidth": 0,
              "ticks": ""
             }
            },
            "type": "scatterpolar"
           }
          ],
          "scatterpolargl": [
           {
            "marker": {
             "colorbar": {
              "outlinewidth": 0,
              "ticks": ""
             }
            },
            "type": "scatterpolargl"
           }
          ],
          "scatterternary": [
           {
            "marker": {
             "colorbar": {
              "outlinewidth": 0,
              "ticks": ""
             }
            },
            "type": "scatterternary"
           }
          ],
          "surface": [
           {
            "colorbar": {
             "outlinewidth": 0,
             "ticks": ""
            },
            "colorscale": [
             [
              0,
              "#0d0887"
             ],
             [
              0.1111111111111111,
              "#46039f"
             ],
             [
              0.2222222222222222,
              "#7201a8"
             ],
             [
              0.3333333333333333,
              "#9c179e"
             ],
             [
              0.4444444444444444,
              "#bd3786"
             ],
             [
              0.5555555555555556,
              "#d8576b"
             ],
             [
              0.6666666666666666,
              "#ed7953"
             ],
             [
              0.7777777777777778,
              "#fb9f3a"
             ],
             [
              0.8888888888888888,
              "#fdca26"
             ],
             [
              1,
              "#f0f921"
             ]
            ],
            "type": "surface"
           }
          ],
          "table": [
           {
            "cells": {
             "fill": {
              "color": "#EBF0F8"
             },
             "line": {
              "color": "white"
             }
            },
            "header": {
             "fill": {
              "color": "#C8D4E3"
             },
             "line": {
              "color": "white"
             }
            },
            "type": "table"
           }
          ]
         },
         "layout": {
          "annotationdefaults": {
           "arrowcolor": "#2a3f5f",
           "arrowhead": 0,
           "arrowwidth": 1
          },
          "autotypenumbers": "strict",
          "coloraxis": {
           "colorbar": {
            "outlinewidth": 0,
            "ticks": ""
           }
          },
          "colorscale": {
           "diverging": [
            [
             0,
             "#8e0152"
            ],
            [
             0.1,
             "#c51b7d"
            ],
            [
             0.2,
             "#de77ae"
            ],
            [
             0.3,
             "#f1b6da"
            ],
            [
             0.4,
             "#fde0ef"
            ],
            [
             0.5,
             "#f7f7f7"
            ],
            [
             0.6,
             "#e6f5d0"
            ],
            [
             0.7,
             "#b8e186"
            ],
            [
             0.8,
             "#7fbc41"
            ],
            [
             0.9,
             "#4d9221"
            ],
            [
             1,
             "#276419"
            ]
           ],
           "sequential": [
            [
             0,
             "#0d0887"
            ],
            [
             0.1111111111111111,
             "#46039f"
            ],
            [
             0.2222222222222222,
             "#7201a8"
            ],
            [
             0.3333333333333333,
             "#9c179e"
            ],
            [
             0.4444444444444444,
             "#bd3786"
            ],
            [
             0.5555555555555556,
             "#d8576b"
            ],
            [
             0.6666666666666666,
             "#ed7953"
            ],
            [
             0.7777777777777778,
             "#fb9f3a"
            ],
            [
             0.8888888888888888,
             "#fdca26"
            ],
            [
             1,
             "#f0f921"
            ]
           ],
           "sequentialminus": [
            [
             0,
             "#0d0887"
            ],
            [
             0.1111111111111111,
             "#46039f"
            ],
            [
             0.2222222222222222,
             "#7201a8"
            ],
            [
             0.3333333333333333,
             "#9c179e"
            ],
            [
             0.4444444444444444,
             "#bd3786"
            ],
            [
             0.5555555555555556,
             "#d8576b"
            ],
            [
             0.6666666666666666,
             "#ed7953"
            ],
            [
             0.7777777777777778,
             "#fb9f3a"
            ],
            [
             0.8888888888888888,
             "#fdca26"
            ],
            [
             1,
             "#f0f921"
            ]
           ]
          },
          "colorway": [
           "#636efa",
           "#EF553B",
           "#00cc96",
           "#ab63fa",
           "#FFA15A",
           "#19d3f3",
           "#FF6692",
           "#B6E880",
           "#FF97FF",
           "#FECB52"
          ],
          "font": {
           "color": "#2a3f5f"
          },
          "geo": {
           "bgcolor": "white",
           "lakecolor": "white",
           "landcolor": "#E5ECF6",
           "showlakes": true,
           "showland": true,
           "subunitcolor": "white"
          },
          "hoverlabel": {
           "align": "left"
          },
          "hovermode": "closest",
          "mapbox": {
           "style": "light"
          },
          "paper_bgcolor": "white",
          "plot_bgcolor": "#E5ECF6",
          "polar": {
           "angularaxis": {
            "gridcolor": "white",
            "linecolor": "white",
            "ticks": ""
           },
           "bgcolor": "#E5ECF6",
           "radialaxis": {
            "gridcolor": "white",
            "linecolor": "white",
            "ticks": ""
           }
          },
          "scene": {
           "xaxis": {
            "backgroundcolor": "#E5ECF6",
            "gridcolor": "white",
            "gridwidth": 2,
            "linecolor": "white",
            "showbackground": true,
            "ticks": "",
            "zerolinecolor": "white"
           },
           "yaxis": {
            "backgroundcolor": "#E5ECF6",
            "gridcolor": "white",
            "gridwidth": 2,
            "linecolor": "white",
            "showbackground": true,
            "ticks": "",
            "zerolinecolor": "white"
           },
           "zaxis": {
            "backgroundcolor": "#E5ECF6",
            "gridcolor": "white",
            "gridwidth": 2,
            "linecolor": "white",
            "showbackground": true,
            "ticks": "",
            "zerolinecolor": "white"
           }
          },
          "shapedefaults": {
           "line": {
            "color": "#2a3f5f"
           }
          },
          "ternary": {
           "aaxis": {
            "gridcolor": "white",
            "linecolor": "white",
            "ticks": ""
           },
           "baxis": {
            "gridcolor": "white",
            "linecolor": "white",
            "ticks": ""
           },
           "bgcolor": "#E5ECF6",
           "caxis": {
            "gridcolor": "white",
            "linecolor": "white",
            "ticks": ""
           }
          },
          "title": {
           "x": 0.05
          },
          "xaxis": {
           "automargin": true,
           "gridcolor": "white",
           "linecolor": "white",
           "ticks": "",
           "title": {
            "standoff": 15
           },
           "zerolinecolor": "white",
           "zerolinewidth": 2
          },
          "yaxis": {
           "automargin": true,
           "gridcolor": "white",
           "linecolor": "white",
           "ticks": "",
           "title": {
            "standoff": 15
           },
           "zerolinecolor": "white",
           "zerolinewidth": 2
          }
         }
        },
        "title": {
         "text": "Execution time of ForecasterRecursiveMultiSeries_backtesting_series_is_dataframe_no_exog"
        },
        "xaxis": {
         "tickangle": -45,
         "tickmode": "array",
         "ticktext": [
          "0.14.0",
          "0.15.1",
          "0.16.0"
         ],
         "tickvals": [
          0,
          1,
          2
         ],
         "title": {
          "text": "skforecast version"
         }
        },
        "yaxis": {
         "title": {
          "text": "Execution time (seconds)"
         }
        }
       }
      }
     },
     "metadata": {},
     "output_type": "display_data"
    },
    {
     "data": {
      "application/vnd.microsoft.datawrangler.viewer.v0+json": {
       "columns": [
        {
         "name": "index",
         "rawType": "int64",
         "type": "integer"
        },
        {
         "name": "forecaster_name",
         "rawType": "object",
         "type": "string"
        },
        {
         "name": "regressor_name",
         "rawType": "object",
         "type": "string"
        },
        {
         "name": "function_name",
         "rawType": "object",
         "type": "string"
        },
        {
         "name": "function_hash",
         "rawType": "object",
         "type": "string"
        },
        {
         "name": "run_time_avg",
         "rawType": "float64",
         "type": "float"
        },
        {
         "name": "run_time_std_dev",
         "rawType": "float64",
         "type": "float"
        },
        {
         "name": "datetime",
         "rawType": "datetime64[ns]",
         "type": "datetime"
        },
        {
         "name": "python_version",
         "rawType": "object",
         "type": "string"
        },
        {
         "name": "skforecast_version",
         "rawType": "object",
         "type": "string"
        },
        {
         "name": "numpy_version",
         "rawType": "object",
         "type": "string"
        },
        {
         "name": "pandas_version",
         "rawType": "object",
         "type": "string"
        },
        {
         "name": "sklearn_version",
         "rawType": "object",
         "type": "string"
        },
        {
         "name": "lightgbm_version",
         "rawType": "object",
         "type": "string"
        },
        {
         "name": "platform",
         "rawType": "object",
         "type": "string"
        },
        {
         "name": "processor",
         "rawType": "object",
         "type": "string"
        },
        {
         "name": "cpu_count",
         "rawType": "int64",
         "type": "integer"
        },
        {
         "name": "memory_gb",
         "rawType": "float64",
         "type": "float"
        }
       ],
       "conversionMethod": "pd.DataFrame",
       "ref": "e6104947-4bb9-48ac-9ac0-fccfbf5c72cf",
       "rows": [
        [
         "207",
         "ForecasterRecursiveMultiSeries",
         "LGBMRegressor",
         "ForecasterRecursiveMultiSeries__create_train_X_y_series_is_dataframe_exog_dict",
         "ace3e84de8c6ee0baf7abe80c790a1db",
         "1.5801613100033136",
         "0.07558169833383836",
         "2025-04-24 18:02:30.636992",
         "3.11.10",
         "0.16.0",
         "2.2.5",
         "2.2.3",
         "1.6.1",
         "4.5.0",
         "Windows-10-10.0.19045-SP0",
         "Intel64 Family 6 Model 141 Stepping 1, GenuineIntel",
         "16",
         "34.07"
        ],
        [
         "226",
         "ForecasterRecursiveMultiSeries",
         "LGBMRegressor",
         "ForecasterRecursiveMultiSeries__create_train_X_y_series_is_dataframe_exog_dict",
         "ace3e84de8c6ee0baf7abe80c790a1db",
         "1.3761377899965737",
         "0.041489414142512525",
         "2025-04-24 18:17:40.756467",
         "3.11.10",
         "0.16.0",
         "2.2.5",
         "2.2.3",
         "1.6.1",
         "4.5.0",
         "Windows-10-10.0.19045-SP0",
         "Intel64 Family 6 Model 141 Stepping 1, GenuineIntel",
         "16",
         "34.07"
        ]
       ],
       "shape": {
        "columns": 17,
        "rows": 2
       }
      },
      "text/html": [
       "<div>\n",
       "<style scoped>\n",
       "    .dataframe tbody tr th:only-of-type {\n",
       "        vertical-align: middle;\n",
       "    }\n",
       "\n",
       "    .dataframe tbody tr th {\n",
       "        vertical-align: top;\n",
       "    }\n",
       "\n",
       "    .dataframe thead th {\n",
       "        text-align: right;\n",
       "    }\n",
       "</style>\n",
       "<table border=\"1\" class=\"dataframe\">\n",
       "  <thead>\n",
       "    <tr style=\"text-align: right;\">\n",
       "      <th></th>\n",
       "      <th>forecaster_name</th>\n",
       "      <th>regressor_name</th>\n",
       "      <th>function_name</th>\n",
       "      <th>function_hash</th>\n",
       "      <th>run_time_avg</th>\n",
       "      <th>run_time_std_dev</th>\n",
       "      <th>datetime</th>\n",
       "      <th>python_version</th>\n",
       "      <th>skforecast_version</th>\n",
       "      <th>numpy_version</th>\n",
       "      <th>pandas_version</th>\n",
       "      <th>sklearn_version</th>\n",
       "      <th>lightgbm_version</th>\n",
       "      <th>platform</th>\n",
       "      <th>processor</th>\n",
       "      <th>cpu_count</th>\n",
       "      <th>memory_gb</th>\n",
       "    </tr>\n",
       "  </thead>\n",
       "  <tbody>\n",
       "    <tr>\n",
       "      <th>207</th>\n",
       "      <td>ForecasterRecursiveMultiSeries</td>\n",
       "      <td>LGBMRegressor</td>\n",
       "      <td>ForecasterRecursiveMultiSeries__create_train_X...</td>\n",
       "      <td>ace3e84de8c6ee0baf7abe80c790a1db</td>\n",
       "      <td>1.580161</td>\n",
       "      <td>0.075582</td>\n",
       "      <td>2025-04-24 18:02:30.636992</td>\n",
       "      <td>3.11.10</td>\n",
       "      <td>0.16.0</td>\n",
       "      <td>2.2.5</td>\n",
       "      <td>2.2.3</td>\n",
       "      <td>1.6.1</td>\n",
       "      <td>4.5.0</td>\n",
       "      <td>Windows-10-10.0.19045-SP0</td>\n",
       "      <td>Intel64 Family 6 Model 141 Stepping 1, Genuine...</td>\n",
       "      <td>16</td>\n",
       "      <td>34.07</td>\n",
       "    </tr>\n",
       "    <tr>\n",
       "      <th>226</th>\n",
       "      <td>ForecasterRecursiveMultiSeries</td>\n",
       "      <td>LGBMRegressor</td>\n",
       "      <td>ForecasterRecursiveMultiSeries__create_train_X...</td>\n",
       "      <td>ace3e84de8c6ee0baf7abe80c790a1db</td>\n",
       "      <td>1.376138</td>\n",
       "      <td>0.041489</td>\n",
       "      <td>2025-04-24 18:17:40.756467</td>\n",
       "      <td>3.11.10</td>\n",
       "      <td>0.16.0</td>\n",
       "      <td>2.2.5</td>\n",
       "      <td>2.2.3</td>\n",
       "      <td>1.6.1</td>\n",
       "      <td>4.5.0</td>\n",
       "      <td>Windows-10-10.0.19045-SP0</td>\n",
       "      <td>Intel64 Family 6 Model 141 Stepping 1, Genuine...</td>\n",
       "      <td>16</td>\n",
       "      <td>34.07</td>\n",
       "    </tr>\n",
       "  </tbody>\n",
       "</table>\n",
       "</div>"
      ],
      "text/plain": [
       "                    forecaster_name regressor_name  \\\n",
       "207  ForecasterRecursiveMultiSeries  LGBMRegressor   \n",
       "226  ForecasterRecursiveMultiSeries  LGBMRegressor   \n",
       "\n",
       "                                         function_name  \\\n",
       "207  ForecasterRecursiveMultiSeries__create_train_X...   \n",
       "226  ForecasterRecursiveMultiSeries__create_train_X...   \n",
       "\n",
       "                        function_hash  run_time_avg  run_time_std_dev  \\\n",
       "207  ace3e84de8c6ee0baf7abe80c790a1db      1.580161          0.075582   \n",
       "226  ace3e84de8c6ee0baf7abe80c790a1db      1.376138          0.041489   \n",
       "\n",
       "                      datetime python_version skforecast_version  \\\n",
       "207 2025-04-24 18:02:30.636992        3.11.10             0.16.0   \n",
       "226 2025-04-24 18:17:40.756467        3.11.10             0.16.0   \n",
       "\n",
       "    numpy_version pandas_version sklearn_version lightgbm_version  \\\n",
       "207         2.2.5          2.2.3           1.6.1            4.5.0   \n",
       "226         2.2.5          2.2.3           1.6.1            4.5.0   \n",
       "\n",
       "                      platform  \\\n",
       "207  Windows-10-10.0.19045-SP0   \n",
       "226  Windows-10-10.0.19045-SP0   \n",
       "\n",
       "                                             processor  cpu_count  memory_gb  \n",
       "207  Intel64 Family 6 Model 141 Stepping 1, Genuine...         16      34.07  \n",
       "226  Intel64 Family 6 Model 141 Stepping 1, Genuine...         16      34.07  "
      ]
     },
     "metadata": {},
     "output_type": "display_data"
    },
    {
     "data": {
      "application/vnd.plotly.v1+json": {
       "config": {
        "plotlyServerURL": "https://plot.ly"
       },
       "data": [
        {
         "error_y": {
          "array": [
           0.07558169833383836,
           0.041489414142512525
          ],
          "color": "#636EFA",
          "thickness": 1.5,
          "type": "data",
          "visible": true,
          "width": 5
         },
         "hovertemplate": "%{text}<extra></extra>",
         "marker": {
          "color": "#636EFA",
          "opacity": 0.7,
          "size": 10
         },
         "mode": "markers",
         "name": "Run time - 0.16.0",
         "showlegend": true,
         "text": [
          "Forecaster: ForecasterRecursiveMultiSeries<br>Regressor: LGBMRegressor<br>Function: ForecasterRecursiveMultiSeries__create_train_X_y_series_is_dataframe_exog_dict<br>Function_hash: ace3e84de8c6ee0baf7abe80c790a1db<br>Datetime: 2025-04-24 18:02:30.636992<br>Python version: 3.11.10<br>skforecast version: 0.16.0<br>numpy version: 2.2.5<br>pandas version: 2.2.3<br>sklearn version: 1.6.1<br>lightgbm version: 4.5.0<br>Platform: Windows-10-10.0.19045-SP0<br>Processor: Intel64 Family 6 Model 141 Stepping 1, GenuineIntel<br>CPU count: 16<br>Memory (GB): 34.07<br>",
          "Forecaster: ForecasterRecursiveMultiSeries<br>Regressor: LGBMRegressor<br>Function: ForecasterRecursiveMultiSeries__create_train_X_y_series_is_dataframe_exog_dict<br>Function_hash: ace3e84de8c6ee0baf7abe80c790a1db<br>Datetime: 2025-04-24 18:17:40.756467<br>Python version: 3.11.10<br>skforecast version: 0.16.0<br>numpy version: 2.2.5<br>pandas version: 2.2.3<br>sklearn version: 1.6.1<br>lightgbm version: 4.5.0<br>Platform: Windows-10-10.0.19045-SP0<br>Processor: Intel64 Family 6 Model 141 Stepping 1, GenuineIntel<br>CPU count: 16<br>Memory (GB): 34.07<br>"
         ],
         "type": "scatter",
         "x": [
          -0.013072724445363663,
          0.008194560218857672
         ],
         "y": [
          1.5801613100033136,
          1.3761377899965737
         ]
        },
        {
         "line": {
          "color": "black",
          "width": 2
         },
         "marker": {
          "color": "black",
          "size": 8
         },
         "mode": "lines+markers",
         "name": "Median (per version)",
         "type": "scatter",
         "x": [
          0
         ],
         "y": [
          1.4781495499999435
         ]
        },
        {
         "line": {
          "color": "black",
          "dash": "dash",
          "width": 2
         },
         "marker": {
          "color": "black",
          "size": 8
         },
         "mode": "lines+markers",
         "name": "Mean (per version)",
         "type": "scatter",
         "x": [
          0
         ],
         "y": [
          1.4781495499999435
         ]
        }
       ],
       "layout": {
        "showlegend": true,
        "template": {
         "data": {
          "bar": [
           {
            "error_x": {
             "color": "#2a3f5f"
            },
            "error_y": {
             "color": "#2a3f5f"
            },
            "marker": {
             "line": {
              "color": "#E5ECF6",
              "width": 0.5
             },
             "pattern": {
              "fillmode": "overlay",
              "size": 10,
              "solidity": 0.2
             }
            },
            "type": "bar"
           }
          ],
          "barpolar": [
           {
            "marker": {
             "line": {
              "color": "#E5ECF6",
              "width": 0.5
             },
             "pattern": {
              "fillmode": "overlay",
              "size": 10,
              "solidity": 0.2
             }
            },
            "type": "barpolar"
           }
          ],
          "carpet": [
           {
            "aaxis": {
             "endlinecolor": "#2a3f5f",
             "gridcolor": "white",
             "linecolor": "white",
             "minorgridcolor": "white",
             "startlinecolor": "#2a3f5f"
            },
            "baxis": {
             "endlinecolor": "#2a3f5f",
             "gridcolor": "white",
             "linecolor": "white",
             "minorgridcolor": "white",
             "startlinecolor": "#2a3f5f"
            },
            "type": "carpet"
           }
          ],
          "choropleth": [
           {
            "colorbar": {
             "outlinewidth": 0,
             "ticks": ""
            },
            "type": "choropleth"
           }
          ],
          "contour": [
           {
            "colorbar": {
             "outlinewidth": 0,
             "ticks": ""
            },
            "colorscale": [
             [
              0,
              "#0d0887"
             ],
             [
              0.1111111111111111,
              "#46039f"
             ],
             [
              0.2222222222222222,
              "#7201a8"
             ],
             [
              0.3333333333333333,
              "#9c179e"
             ],
             [
              0.4444444444444444,
              "#bd3786"
             ],
             [
              0.5555555555555556,
              "#d8576b"
             ],
             [
              0.6666666666666666,
              "#ed7953"
             ],
             [
              0.7777777777777778,
              "#fb9f3a"
             ],
             [
              0.8888888888888888,
              "#fdca26"
             ],
             [
              1,
              "#f0f921"
             ]
            ],
            "type": "contour"
           }
          ],
          "contourcarpet": [
           {
            "colorbar": {
             "outlinewidth": 0,
             "ticks": ""
            },
            "type": "contourcarpet"
           }
          ],
          "heatmap": [
           {
            "colorbar": {
             "outlinewidth": 0,
             "ticks": ""
            },
            "colorscale": [
             [
              0,
              "#0d0887"
             ],
             [
              0.1111111111111111,
              "#46039f"
             ],
             [
              0.2222222222222222,
              "#7201a8"
             ],
             [
              0.3333333333333333,
              "#9c179e"
             ],
             [
              0.4444444444444444,
              "#bd3786"
             ],
             [
              0.5555555555555556,
              "#d8576b"
             ],
             [
              0.6666666666666666,
              "#ed7953"
             ],
             [
              0.7777777777777778,
              "#fb9f3a"
             ],
             [
              0.8888888888888888,
              "#fdca26"
             ],
             [
              1,
              "#f0f921"
             ]
            ],
            "type": "heatmap"
           }
          ],
          "heatmapgl": [
           {
            "colorbar": {
             "outlinewidth": 0,
             "ticks": ""
            },
            "colorscale": [
             [
              0,
              "#0d0887"
             ],
             [
              0.1111111111111111,
              "#46039f"
             ],
             [
              0.2222222222222222,
              "#7201a8"
             ],
             [
              0.3333333333333333,
              "#9c179e"
             ],
             [
              0.4444444444444444,
              "#bd3786"
             ],
             [
              0.5555555555555556,
              "#d8576b"
             ],
             [
              0.6666666666666666,
              "#ed7953"
             ],
             [
              0.7777777777777778,
              "#fb9f3a"
             ],
             [
              0.8888888888888888,
              "#fdca26"
             ],
             [
              1,
              "#f0f921"
             ]
            ],
            "type": "heatmapgl"
           }
          ],
          "histogram": [
           {
            "marker": {
             "pattern": {
              "fillmode": "overlay",
              "size": 10,
              "solidity": 0.2
             }
            },
            "type": "histogram"
           }
          ],
          "histogram2d": [
           {
            "colorbar": {
             "outlinewidth": 0,
             "ticks": ""
            },
            "colorscale": [
             [
              0,
              "#0d0887"
             ],
             [
              0.1111111111111111,
              "#46039f"
             ],
             [
              0.2222222222222222,
              "#7201a8"
             ],
             [
              0.3333333333333333,
              "#9c179e"
             ],
             [
              0.4444444444444444,
              "#bd3786"
             ],
             [
              0.5555555555555556,
              "#d8576b"
             ],
             [
              0.6666666666666666,
              "#ed7953"
             ],
             [
              0.7777777777777778,
              "#fb9f3a"
             ],
             [
              0.8888888888888888,
              "#fdca26"
             ],
             [
              1,
              "#f0f921"
             ]
            ],
            "type": "histogram2d"
           }
          ],
          "histogram2dcontour": [
           {
            "colorbar": {
             "outlinewidth": 0,
             "ticks": ""
            },
            "colorscale": [
             [
              0,
              "#0d0887"
             ],
             [
              0.1111111111111111,
              "#46039f"
             ],
             [
              0.2222222222222222,
              "#7201a8"
             ],
             [
              0.3333333333333333,
              "#9c179e"
             ],
             [
              0.4444444444444444,
              "#bd3786"
             ],
             [
              0.5555555555555556,
              "#d8576b"
             ],
             [
              0.6666666666666666,
              "#ed7953"
             ],
             [
              0.7777777777777778,
              "#fb9f3a"
             ],
             [
              0.8888888888888888,
              "#fdca26"
             ],
             [
              1,
              "#f0f921"
             ]
            ],
            "type": "histogram2dcontour"
           }
          ],
          "mesh3d": [
           {
            "colorbar": {
             "outlinewidth": 0,
             "ticks": ""
            },
            "type": "mesh3d"
           }
          ],
          "parcoords": [
           {
            "line": {
             "colorbar": {
              "outlinewidth": 0,
              "ticks": ""
             }
            },
            "type": "parcoords"
           }
          ],
          "pie": [
           {
            "automargin": true,
            "type": "pie"
           }
          ],
          "scatter": [
           {
            "fillpattern": {
             "fillmode": "overlay",
             "size": 10,
             "solidity": 0.2
            },
            "type": "scatter"
           }
          ],
          "scatter3d": [
           {
            "line": {
             "colorbar": {
              "outlinewidth": 0,
              "ticks": ""
             }
            },
            "marker": {
             "colorbar": {
              "outlinewidth": 0,
              "ticks": ""
             }
            },
            "type": "scatter3d"
           }
          ],
          "scattercarpet": [
           {
            "marker": {
             "colorbar": {
              "outlinewidth": 0,
              "ticks": ""
             }
            },
            "type": "scattercarpet"
           }
          ],
          "scattergeo": [
           {
            "marker": {
             "colorbar": {
              "outlinewidth": 0,
              "ticks": ""
             }
            },
            "type": "scattergeo"
           }
          ],
          "scattergl": [
           {
            "marker": {
             "colorbar": {
              "outlinewidth": 0,
              "ticks": ""
             }
            },
            "type": "scattergl"
           }
          ],
          "scattermapbox": [
           {
            "marker": {
             "colorbar": {
              "outlinewidth": 0,
              "ticks": ""
             }
            },
            "type": "scattermapbox"
           }
          ],
          "scatterpolar": [
           {
            "marker": {
             "colorbar": {
              "outlinewidth": 0,
              "ticks": ""
             }
            },
            "type": "scatterpolar"
           }
          ],
          "scatterpolargl": [
           {
            "marker": {
             "colorbar": {
              "outlinewidth": 0,
              "ticks": ""
             }
            },
            "type": "scatterpolargl"
           }
          ],
          "scatterternary": [
           {
            "marker": {
             "colorbar": {
              "outlinewidth": 0,
              "ticks": ""
             }
            },
            "type": "scatterternary"
           }
          ],
          "surface": [
           {
            "colorbar": {
             "outlinewidth": 0,
             "ticks": ""
            },
            "colorscale": [
             [
              0,
              "#0d0887"
             ],
             [
              0.1111111111111111,
              "#46039f"
             ],
             [
              0.2222222222222222,
              "#7201a8"
             ],
             [
              0.3333333333333333,
              "#9c179e"
             ],
             [
              0.4444444444444444,
              "#bd3786"
             ],
             [
              0.5555555555555556,
              "#d8576b"
             ],
             [
              0.6666666666666666,
              "#ed7953"
             ],
             [
              0.7777777777777778,
              "#fb9f3a"
             ],
             [
              0.8888888888888888,
              "#fdca26"
             ],
             [
              1,
              "#f0f921"
             ]
            ],
            "type": "surface"
           }
          ],
          "table": [
           {
            "cells": {
             "fill": {
              "color": "#EBF0F8"
             },
             "line": {
              "color": "white"
             }
            },
            "header": {
             "fill": {
              "color": "#C8D4E3"
             },
             "line": {
              "color": "white"
             }
            },
            "type": "table"
           }
          ]
         },
         "layout": {
          "annotationdefaults": {
           "arrowcolor": "#2a3f5f",
           "arrowhead": 0,
           "arrowwidth": 1
          },
          "autotypenumbers": "strict",
          "coloraxis": {
           "colorbar": {
            "outlinewidth": 0,
            "ticks": ""
           }
          },
          "colorscale": {
           "diverging": [
            [
             0,
             "#8e0152"
            ],
            [
             0.1,
             "#c51b7d"
            ],
            [
             0.2,
             "#de77ae"
            ],
            [
             0.3,
             "#f1b6da"
            ],
            [
             0.4,
             "#fde0ef"
            ],
            [
             0.5,
             "#f7f7f7"
            ],
            [
             0.6,
             "#e6f5d0"
            ],
            [
             0.7,
             "#b8e186"
            ],
            [
             0.8,
             "#7fbc41"
            ],
            [
             0.9,
             "#4d9221"
            ],
            [
             1,
             "#276419"
            ]
           ],
           "sequential": [
            [
             0,
             "#0d0887"
            ],
            [
             0.1111111111111111,
             "#46039f"
            ],
            [
             0.2222222222222222,
             "#7201a8"
            ],
            [
             0.3333333333333333,
             "#9c179e"
            ],
            [
             0.4444444444444444,
             "#bd3786"
            ],
            [
             0.5555555555555556,
             "#d8576b"
            ],
            [
             0.6666666666666666,
             "#ed7953"
            ],
            [
             0.7777777777777778,
             "#fb9f3a"
            ],
            [
             0.8888888888888888,
             "#fdca26"
            ],
            [
             1,
             "#f0f921"
            ]
           ],
           "sequentialminus": [
            [
             0,
             "#0d0887"
            ],
            [
             0.1111111111111111,
             "#46039f"
            ],
            [
             0.2222222222222222,
             "#7201a8"
            ],
            [
             0.3333333333333333,
             "#9c179e"
            ],
            [
             0.4444444444444444,
             "#bd3786"
            ],
            [
             0.5555555555555556,
             "#d8576b"
            ],
            [
             0.6666666666666666,
             "#ed7953"
            ],
            [
             0.7777777777777778,
             "#fb9f3a"
            ],
            [
             0.8888888888888888,
             "#fdca26"
            ],
            [
             1,
             "#f0f921"
            ]
           ]
          },
          "colorway": [
           "#636efa",
           "#EF553B",
           "#00cc96",
           "#ab63fa",
           "#FFA15A",
           "#19d3f3",
           "#FF6692",
           "#B6E880",
           "#FF97FF",
           "#FECB52"
          ],
          "font": {
           "color": "#2a3f5f"
          },
          "geo": {
           "bgcolor": "white",
           "lakecolor": "white",
           "landcolor": "#E5ECF6",
           "showlakes": true,
           "showland": true,
           "subunitcolor": "white"
          },
          "hoverlabel": {
           "align": "left"
          },
          "hovermode": "closest",
          "mapbox": {
           "style": "light"
          },
          "paper_bgcolor": "white",
          "plot_bgcolor": "#E5ECF6",
          "polar": {
           "angularaxis": {
            "gridcolor": "white",
            "linecolor": "white",
            "ticks": ""
           },
           "bgcolor": "#E5ECF6",
           "radialaxis": {
            "gridcolor": "white",
            "linecolor": "white",
            "ticks": ""
           }
          },
          "scene": {
           "xaxis": {
            "backgroundcolor": "#E5ECF6",
            "gridcolor": "white",
            "gridwidth": 2,
            "linecolor": "white",
            "showbackground": true,
            "ticks": "",
            "zerolinecolor": "white"
           },
           "yaxis": {
            "backgroundcolor": "#E5ECF6",
            "gridcolor": "white",
            "gridwidth": 2,
            "linecolor": "white",
            "showbackground": true,
            "ticks": "",
            "zerolinecolor": "white"
           },
           "zaxis": {
            "backgroundcolor": "#E5ECF6",
            "gridcolor": "white",
            "gridwidth": 2,
            "linecolor": "white",
            "showbackground": true,
            "ticks": "",
            "zerolinecolor": "white"
           }
          },
          "shapedefaults": {
           "line": {
            "color": "#2a3f5f"
           }
          },
          "ternary": {
           "aaxis": {
            "gridcolor": "white",
            "linecolor": "white",
            "ticks": ""
           },
           "baxis": {
            "gridcolor": "white",
            "linecolor": "white",
            "ticks": ""
           },
           "bgcolor": "#E5ECF6",
           "caxis": {
            "gridcolor": "white",
            "linecolor": "white",
            "ticks": ""
           }
          },
          "title": {
           "x": 0.05
          },
          "xaxis": {
           "automargin": true,
           "gridcolor": "white",
           "linecolor": "white",
           "ticks": "",
           "title": {
            "standoff": 15
           },
           "zerolinecolor": "white",
           "zerolinewidth": 2
          },
          "yaxis": {
           "automargin": true,
           "gridcolor": "white",
           "linecolor": "white",
           "ticks": "",
           "title": {
            "standoff": 15
           },
           "zerolinecolor": "white",
           "zerolinewidth": 2
          }
         }
        },
        "title": {
         "text": "Execution time of ForecasterRecursiveMultiSeries__create_train_X_y_series_is_dataframe_exog_dict"
        },
        "xaxis": {
         "tickangle": -45,
         "tickmode": "array",
         "ticktext": [
          "0.16.0"
         ],
         "tickvals": [
          0
         ],
         "title": {
          "text": "skforecast version"
         }
        },
        "yaxis": {
         "title": {
          "text": "Execution time (seconds)"
         }
        }
       }
      }
     },
     "metadata": {},
     "output_type": "display_data"
    },
    {
     "data": {
      "application/vnd.microsoft.datawrangler.viewer.v0+json": {
       "columns": [
        {
         "name": "index",
         "rawType": "int64",
         "type": "integer"
        },
        {
         "name": "forecaster_name",
         "rawType": "object",
         "type": "string"
        },
        {
         "name": "regressor_name",
         "rawType": "object",
         "type": "string"
        },
        {
         "name": "function_name",
         "rawType": "object",
         "type": "string"
        },
        {
         "name": "function_hash",
         "rawType": "object",
         "type": "string"
        },
        {
         "name": "run_time_avg",
         "rawType": "float64",
         "type": "float"
        },
        {
         "name": "run_time_std_dev",
         "rawType": "float64",
         "type": "float"
        },
        {
         "name": "datetime",
         "rawType": "datetime64[ns]",
         "type": "datetime"
        },
        {
         "name": "python_version",
         "rawType": "object",
         "type": "string"
        },
        {
         "name": "skforecast_version",
         "rawType": "object",
         "type": "string"
        },
        {
         "name": "numpy_version",
         "rawType": "object",
         "type": "string"
        },
        {
         "name": "pandas_version",
         "rawType": "object",
         "type": "string"
        },
        {
         "name": "sklearn_version",
         "rawType": "object",
         "type": "string"
        },
        {
         "name": "lightgbm_version",
         "rawType": "object",
         "type": "string"
        },
        {
         "name": "platform",
         "rawType": "object",
         "type": "string"
        },
        {
         "name": "processor",
         "rawType": "object",
         "type": "string"
        },
        {
         "name": "cpu_count",
         "rawType": "int64",
         "type": "integer"
        },
        {
         "name": "memory_gb",
         "rawType": "float64",
         "type": "float"
        }
       ],
       "conversionMethod": "pd.DataFrame",
       "ref": "0efaf2ab-a5df-4b2f-b63a-0e4610c718b5",
       "rows": [
        [
         "216",
         "ForecasterRecursiveMultiSeries",
         "LGBMRegressor",
         "ForecasterRecursiveMultiSeries_backtesting_series_is_dataframe_exog_dict",
         "d72f22d955e2149418d02e9e4f8b9a45",
         "15.00710618000303",
         "0.22901290137154504",
         "2025-04-24 18:07:23.017057",
         "3.11.10",
         "0.16.0",
         "2.2.5",
         "2.2.3",
         "1.6.1",
         "4.5.0",
         "Windows-10-10.0.19045-SP0",
         "Intel64 Family 6 Model 141 Stepping 1, GenuineIntel",
         "16",
         "34.07"
        ],
        [
         "235",
         "ForecasterRecursiveMultiSeries",
         "LGBMRegressor",
         "ForecasterRecursiveMultiSeries_backtesting_series_is_dataframe_exog_dict",
         "d72f22d955e2149418d02e9e4f8b9a45",
         "13.279066540001077",
         "0.2468812170924379",
         "2025-04-24 18:22:01.650838",
         "3.11.10",
         "0.16.0",
         "2.2.5",
         "2.2.3",
         "1.6.1",
         "4.5.0",
         "Windows-10-10.0.19045-SP0",
         "Intel64 Family 6 Model 141 Stepping 1, GenuineIntel",
         "16",
         "34.07"
        ]
       ],
       "shape": {
        "columns": 17,
        "rows": 2
       }
      },
      "text/html": [
       "<div>\n",
       "<style scoped>\n",
       "    .dataframe tbody tr th:only-of-type {\n",
       "        vertical-align: middle;\n",
       "    }\n",
       "\n",
       "    .dataframe tbody tr th {\n",
       "        vertical-align: top;\n",
       "    }\n",
       "\n",
       "    .dataframe thead th {\n",
       "        text-align: right;\n",
       "    }\n",
       "</style>\n",
       "<table border=\"1\" class=\"dataframe\">\n",
       "  <thead>\n",
       "    <tr style=\"text-align: right;\">\n",
       "      <th></th>\n",
       "      <th>forecaster_name</th>\n",
       "      <th>regressor_name</th>\n",
       "      <th>function_name</th>\n",
       "      <th>function_hash</th>\n",
       "      <th>run_time_avg</th>\n",
       "      <th>run_time_std_dev</th>\n",
       "      <th>datetime</th>\n",
       "      <th>python_version</th>\n",
       "      <th>skforecast_version</th>\n",
       "      <th>numpy_version</th>\n",
       "      <th>pandas_version</th>\n",
       "      <th>sklearn_version</th>\n",
       "      <th>lightgbm_version</th>\n",
       "      <th>platform</th>\n",
       "      <th>processor</th>\n",
       "      <th>cpu_count</th>\n",
       "      <th>memory_gb</th>\n",
       "    </tr>\n",
       "  </thead>\n",
       "  <tbody>\n",
       "    <tr>\n",
       "      <th>216</th>\n",
       "      <td>ForecasterRecursiveMultiSeries</td>\n",
       "      <td>LGBMRegressor</td>\n",
       "      <td>ForecasterRecursiveMultiSeries_backtesting_ser...</td>\n",
       "      <td>d72f22d955e2149418d02e9e4f8b9a45</td>\n",
       "      <td>15.007106</td>\n",
       "      <td>0.229013</td>\n",
       "      <td>2025-04-24 18:07:23.017057</td>\n",
       "      <td>3.11.10</td>\n",
       "      <td>0.16.0</td>\n",
       "      <td>2.2.5</td>\n",
       "      <td>2.2.3</td>\n",
       "      <td>1.6.1</td>\n",
       "      <td>4.5.0</td>\n",
       "      <td>Windows-10-10.0.19045-SP0</td>\n",
       "      <td>Intel64 Family 6 Model 141 Stepping 1, Genuine...</td>\n",
       "      <td>16</td>\n",
       "      <td>34.07</td>\n",
       "    </tr>\n",
       "    <tr>\n",
       "      <th>235</th>\n",
       "      <td>ForecasterRecursiveMultiSeries</td>\n",
       "      <td>LGBMRegressor</td>\n",
       "      <td>ForecasterRecursiveMultiSeries_backtesting_ser...</td>\n",
       "      <td>d72f22d955e2149418d02e9e4f8b9a45</td>\n",
       "      <td>13.279067</td>\n",
       "      <td>0.246881</td>\n",
       "      <td>2025-04-24 18:22:01.650838</td>\n",
       "      <td>3.11.10</td>\n",
       "      <td>0.16.0</td>\n",
       "      <td>2.2.5</td>\n",
       "      <td>2.2.3</td>\n",
       "      <td>1.6.1</td>\n",
       "      <td>4.5.0</td>\n",
       "      <td>Windows-10-10.0.19045-SP0</td>\n",
       "      <td>Intel64 Family 6 Model 141 Stepping 1, Genuine...</td>\n",
       "      <td>16</td>\n",
       "      <td>34.07</td>\n",
       "    </tr>\n",
       "  </tbody>\n",
       "</table>\n",
       "</div>"
      ],
      "text/plain": [
       "                    forecaster_name regressor_name  \\\n",
       "216  ForecasterRecursiveMultiSeries  LGBMRegressor   \n",
       "235  ForecasterRecursiveMultiSeries  LGBMRegressor   \n",
       "\n",
       "                                         function_name  \\\n",
       "216  ForecasterRecursiveMultiSeries_backtesting_ser...   \n",
       "235  ForecasterRecursiveMultiSeries_backtesting_ser...   \n",
       "\n",
       "                        function_hash  run_time_avg  run_time_std_dev  \\\n",
       "216  d72f22d955e2149418d02e9e4f8b9a45     15.007106          0.229013   \n",
       "235  d72f22d955e2149418d02e9e4f8b9a45     13.279067          0.246881   \n",
       "\n",
       "                      datetime python_version skforecast_version  \\\n",
       "216 2025-04-24 18:07:23.017057        3.11.10             0.16.0   \n",
       "235 2025-04-24 18:22:01.650838        3.11.10             0.16.0   \n",
       "\n",
       "    numpy_version pandas_version sklearn_version lightgbm_version  \\\n",
       "216         2.2.5          2.2.3           1.6.1            4.5.0   \n",
       "235         2.2.5          2.2.3           1.6.1            4.5.0   \n",
       "\n",
       "                      platform  \\\n",
       "216  Windows-10-10.0.19045-SP0   \n",
       "235  Windows-10-10.0.19045-SP0   \n",
       "\n",
       "                                             processor  cpu_count  memory_gb  \n",
       "216  Intel64 Family 6 Model 141 Stepping 1, Genuine...         16      34.07  \n",
       "235  Intel64 Family 6 Model 141 Stepping 1, Genuine...         16      34.07  "
      ]
     },
     "metadata": {},
     "output_type": "display_data"
    },
    {
     "data": {
      "application/vnd.plotly.v1+json": {
       "config": {
        "plotlyServerURL": "https://plot.ly"
       },
       "data": [
        {
         "error_y": {
          "array": [
           0.22901290137154504,
           0.2468812170924379
          ],
          "color": "#636EFA",
          "thickness": 1.5,
          "type": "data",
          "visible": true,
          "width": 5
         },
         "hovertemplate": "%{text}<extra></extra>",
         "marker": {
          "color": "#636EFA",
          "opacity": 0.7,
          "size": 10
         },
         "mode": "markers",
         "name": "Run time - 0.16.0",
         "showlegend": true,
         "text": [
          "Forecaster: ForecasterRecursiveMultiSeries<br>Regressor: LGBMRegressor<br>Function: ForecasterRecursiveMultiSeries_backtesting_series_is_dataframe_exog_dict<br>Function_hash: d72f22d955e2149418d02e9e4f8b9a45<br>Datetime: 2025-04-24 18:07:23.017057<br>Python version: 3.11.10<br>skforecast version: 0.16.0<br>numpy version: 2.2.5<br>pandas version: 2.2.3<br>sklearn version: 1.6.1<br>lightgbm version: 4.5.0<br>Platform: Windows-10-10.0.19045-SP0<br>Processor: Intel64 Family 6 Model 141 Stepping 1, GenuineIntel<br>CPU count: 16<br>Memory (GB): 34.07<br>",
          "Forecaster: ForecasterRecursiveMultiSeries<br>Regressor: LGBMRegressor<br>Function: ForecasterRecursiveMultiSeries_backtesting_series_is_dataframe_exog_dict<br>Function_hash: d72f22d955e2149418d02e9e4f8b9a45<br>Datetime: 2025-04-24 18:22:01.650838<br>Python version: 3.11.10<br>skforecast version: 0.16.0<br>numpy version: 2.2.5<br>pandas version: 2.2.3<br>sklearn version: 1.6.1<br>lightgbm version: 4.5.0<br>Platform: Windows-10-10.0.19045-SP0<br>Processor: Intel64 Family 6 Model 141 Stepping 1, GenuineIntel<br>CPU count: 16<br>Memory (GB): 34.07<br>"
         ],
         "type": "scatter",
         "x": [
          -0.013072724445363663,
          0.008194560218857672
         ],
         "y": [
          15.00710618000303,
          13.279066540001077
         ]
        },
        {
         "line": {
          "color": "black",
          "width": 2
         },
         "marker": {
          "color": "black",
          "size": 8
         },
         "mode": "lines+markers",
         "name": "Median (per version)",
         "type": "scatter",
         "x": [
          0
         ],
         "y": [
          14.143086360002053
         ]
        },
        {
         "line": {
          "color": "black",
          "dash": "dash",
          "width": 2
         },
         "marker": {
          "color": "black",
          "size": 8
         },
         "mode": "lines+markers",
         "name": "Mean (per version)",
         "type": "scatter",
         "x": [
          0
         ],
         "y": [
          14.143086360002053
         ]
        }
       ],
       "layout": {
        "showlegend": true,
        "template": {
         "data": {
          "bar": [
           {
            "error_x": {
             "color": "#2a3f5f"
            },
            "error_y": {
             "color": "#2a3f5f"
            },
            "marker": {
             "line": {
              "color": "#E5ECF6",
              "width": 0.5
             },
             "pattern": {
              "fillmode": "overlay",
              "size": 10,
              "solidity": 0.2
             }
            },
            "type": "bar"
           }
          ],
          "barpolar": [
           {
            "marker": {
             "line": {
              "color": "#E5ECF6",
              "width": 0.5
             },
             "pattern": {
              "fillmode": "overlay",
              "size": 10,
              "solidity": 0.2
             }
            },
            "type": "barpolar"
           }
          ],
          "carpet": [
           {
            "aaxis": {
             "endlinecolor": "#2a3f5f",
             "gridcolor": "white",
             "linecolor": "white",
             "minorgridcolor": "white",
             "startlinecolor": "#2a3f5f"
            },
            "baxis": {
             "endlinecolor": "#2a3f5f",
             "gridcolor": "white",
             "linecolor": "white",
             "minorgridcolor": "white",
             "startlinecolor": "#2a3f5f"
            },
            "type": "carpet"
           }
          ],
          "choropleth": [
           {
            "colorbar": {
             "outlinewidth": 0,
             "ticks": ""
            },
            "type": "choropleth"
           }
          ],
          "contour": [
           {
            "colorbar": {
             "outlinewidth": 0,
             "ticks": ""
            },
            "colorscale": [
             [
              0,
              "#0d0887"
             ],
             [
              0.1111111111111111,
              "#46039f"
             ],
             [
              0.2222222222222222,
              "#7201a8"
             ],
             [
              0.3333333333333333,
              "#9c179e"
             ],
             [
              0.4444444444444444,
              "#bd3786"
             ],
             [
              0.5555555555555556,
              "#d8576b"
             ],
             [
              0.6666666666666666,
              "#ed7953"
             ],
             [
              0.7777777777777778,
              "#fb9f3a"
             ],
             [
              0.8888888888888888,
              "#fdca26"
             ],
             [
              1,
              "#f0f921"
             ]
            ],
            "type": "contour"
           }
          ],
          "contourcarpet": [
           {
            "colorbar": {
             "outlinewidth": 0,
             "ticks": ""
            },
            "type": "contourcarpet"
           }
          ],
          "heatmap": [
           {
            "colorbar": {
             "outlinewidth": 0,
             "ticks": ""
            },
            "colorscale": [
             [
              0,
              "#0d0887"
             ],
             [
              0.1111111111111111,
              "#46039f"
             ],
             [
              0.2222222222222222,
              "#7201a8"
             ],
             [
              0.3333333333333333,
              "#9c179e"
             ],
             [
              0.4444444444444444,
              "#bd3786"
             ],
             [
              0.5555555555555556,
              "#d8576b"
             ],
             [
              0.6666666666666666,
              "#ed7953"
             ],
             [
              0.7777777777777778,
              "#fb9f3a"
             ],
             [
              0.8888888888888888,
              "#fdca26"
             ],
             [
              1,
              "#f0f921"
             ]
            ],
            "type": "heatmap"
           }
          ],
          "heatmapgl": [
           {
            "colorbar": {
             "outlinewidth": 0,
             "ticks": ""
            },
            "colorscale": [
             [
              0,
              "#0d0887"
             ],
             [
              0.1111111111111111,
              "#46039f"
             ],
             [
              0.2222222222222222,
              "#7201a8"
             ],
             [
              0.3333333333333333,
              "#9c179e"
             ],
             [
              0.4444444444444444,
              "#bd3786"
             ],
             [
              0.5555555555555556,
              "#d8576b"
             ],
             [
              0.6666666666666666,
              "#ed7953"
             ],
             [
              0.7777777777777778,
              "#fb9f3a"
             ],
             [
              0.8888888888888888,
              "#fdca26"
             ],
             [
              1,
              "#f0f921"
             ]
            ],
            "type": "heatmapgl"
           }
          ],
          "histogram": [
           {
            "marker": {
             "pattern": {
              "fillmode": "overlay",
              "size": 10,
              "solidity": 0.2
             }
            },
            "type": "histogram"
           }
          ],
          "histogram2d": [
           {
            "colorbar": {
             "outlinewidth": 0,
             "ticks": ""
            },
            "colorscale": [
             [
              0,
              "#0d0887"
             ],
             [
              0.1111111111111111,
              "#46039f"
             ],
             [
              0.2222222222222222,
              "#7201a8"
             ],
             [
              0.3333333333333333,
              "#9c179e"
             ],
             [
              0.4444444444444444,
              "#bd3786"
             ],
             [
              0.5555555555555556,
              "#d8576b"
             ],
             [
              0.6666666666666666,
              "#ed7953"
             ],
             [
              0.7777777777777778,
              "#fb9f3a"
             ],
             [
              0.8888888888888888,
              "#fdca26"
             ],
             [
              1,
              "#f0f921"
             ]
            ],
            "type": "histogram2d"
           }
          ],
          "histogram2dcontour": [
           {
            "colorbar": {
             "outlinewidth": 0,
             "ticks": ""
            },
            "colorscale": [
             [
              0,
              "#0d0887"
             ],
             [
              0.1111111111111111,
              "#46039f"
             ],
             [
              0.2222222222222222,
              "#7201a8"
             ],
             [
              0.3333333333333333,
              "#9c179e"
             ],
             [
              0.4444444444444444,
              "#bd3786"
             ],
             [
              0.5555555555555556,
              "#d8576b"
             ],
             [
              0.6666666666666666,
              "#ed7953"
             ],
             [
              0.7777777777777778,
              "#fb9f3a"
             ],
             [
              0.8888888888888888,
              "#fdca26"
             ],
             [
              1,
              "#f0f921"
             ]
            ],
            "type": "histogram2dcontour"
           }
          ],
          "mesh3d": [
           {
            "colorbar": {
             "outlinewidth": 0,
             "ticks": ""
            },
            "type": "mesh3d"
           }
          ],
          "parcoords": [
           {
            "line": {
             "colorbar": {
              "outlinewidth": 0,
              "ticks": ""
             }
            },
            "type": "parcoords"
           }
          ],
          "pie": [
           {
            "automargin": true,
            "type": "pie"
           }
          ],
          "scatter": [
           {
            "fillpattern": {
             "fillmode": "overlay",
             "size": 10,
             "solidity": 0.2
            },
            "type": "scatter"
           }
          ],
          "scatter3d": [
           {
            "line": {
             "colorbar": {
              "outlinewidth": 0,
              "ticks": ""
             }
            },
            "marker": {
             "colorbar": {
              "outlinewidth": 0,
              "ticks": ""
             }
            },
            "type": "scatter3d"
           }
          ],
          "scattercarpet": [
           {
            "marker": {
             "colorbar": {
              "outlinewidth": 0,
              "ticks": ""
             }
            },
            "type": "scattercarpet"
           }
          ],
          "scattergeo": [
           {
            "marker": {
             "colorbar": {
              "outlinewidth": 0,
              "ticks": ""
             }
            },
            "type": "scattergeo"
           }
          ],
          "scattergl": [
           {
            "marker": {
             "colorbar": {
              "outlinewidth": 0,
              "ticks": ""
             }
            },
            "type": "scattergl"
           }
          ],
          "scattermapbox": [
           {
            "marker": {
             "colorbar": {
              "outlinewidth": 0,
              "ticks": ""
             }
            },
            "type": "scattermapbox"
           }
          ],
          "scatterpolar": [
           {
            "marker": {
             "colorbar": {
              "outlinewidth": 0,
              "ticks": ""
             }
            },
            "type": "scatterpolar"
           }
          ],
          "scatterpolargl": [
           {
            "marker": {
             "colorbar": {
              "outlinewidth": 0,
              "ticks": ""
             }
            },
            "type": "scatterpolargl"
           }
          ],
          "scatterternary": [
           {
            "marker": {
             "colorbar": {
              "outlinewidth": 0,
              "ticks": ""
             }
            },
            "type": "scatterternary"
           }
          ],
          "surface": [
           {
            "colorbar": {
             "outlinewidth": 0,
             "ticks": ""
            },
            "colorscale": [
             [
              0,
              "#0d0887"
             ],
             [
              0.1111111111111111,
              "#46039f"
             ],
             [
              0.2222222222222222,
              "#7201a8"
             ],
             [
              0.3333333333333333,
              "#9c179e"
             ],
             [
              0.4444444444444444,
              "#bd3786"
             ],
             [
              0.5555555555555556,
              "#d8576b"
             ],
             [
              0.6666666666666666,
              "#ed7953"
             ],
             [
              0.7777777777777778,
              "#fb9f3a"
             ],
             [
              0.8888888888888888,
              "#fdca26"
             ],
             [
              1,
              "#f0f921"
             ]
            ],
            "type": "surface"
           }
          ],
          "table": [
           {
            "cells": {
             "fill": {
              "color": "#EBF0F8"
             },
             "line": {
              "color": "white"
             }
            },
            "header": {
             "fill": {
              "color": "#C8D4E3"
             },
             "line": {
              "color": "white"
             }
            },
            "type": "table"
           }
          ]
         },
         "layout": {
          "annotationdefaults": {
           "arrowcolor": "#2a3f5f",
           "arrowhead": 0,
           "arrowwidth": 1
          },
          "autotypenumbers": "strict",
          "coloraxis": {
           "colorbar": {
            "outlinewidth": 0,
            "ticks": ""
           }
          },
          "colorscale": {
           "diverging": [
            [
             0,
             "#8e0152"
            ],
            [
             0.1,
             "#c51b7d"
            ],
            [
             0.2,
             "#de77ae"
            ],
            [
             0.3,
             "#f1b6da"
            ],
            [
             0.4,
             "#fde0ef"
            ],
            [
             0.5,
             "#f7f7f7"
            ],
            [
             0.6,
             "#e6f5d0"
            ],
            [
             0.7,
             "#b8e186"
            ],
            [
             0.8,
             "#7fbc41"
            ],
            [
             0.9,
             "#4d9221"
            ],
            [
             1,
             "#276419"
            ]
           ],
           "sequential": [
            [
             0,
             "#0d0887"
            ],
            [
             0.1111111111111111,
             "#46039f"
            ],
            [
             0.2222222222222222,
             "#7201a8"
            ],
            [
             0.3333333333333333,
             "#9c179e"
            ],
            [
             0.4444444444444444,
             "#bd3786"
            ],
            [
             0.5555555555555556,
             "#d8576b"
            ],
            [
             0.6666666666666666,
             "#ed7953"
            ],
            [
             0.7777777777777778,
             "#fb9f3a"
            ],
            [
             0.8888888888888888,
             "#fdca26"
            ],
            [
             1,
             "#f0f921"
            ]
           ],
           "sequentialminus": [
            [
             0,
             "#0d0887"
            ],
            [
             0.1111111111111111,
             "#46039f"
            ],
            [
             0.2222222222222222,
             "#7201a8"
            ],
            [
             0.3333333333333333,
             "#9c179e"
            ],
            [
             0.4444444444444444,
             "#bd3786"
            ],
            [
             0.5555555555555556,
             "#d8576b"
            ],
            [
             0.6666666666666666,
             "#ed7953"
            ],
            [
             0.7777777777777778,
             "#fb9f3a"
            ],
            [
             0.8888888888888888,
             "#fdca26"
            ],
            [
             1,
             "#f0f921"
            ]
           ]
          },
          "colorway": [
           "#636efa",
           "#EF553B",
           "#00cc96",
           "#ab63fa",
           "#FFA15A",
           "#19d3f3",
           "#FF6692",
           "#B6E880",
           "#FF97FF",
           "#FECB52"
          ],
          "font": {
           "color": "#2a3f5f"
          },
          "geo": {
           "bgcolor": "white",
           "lakecolor": "white",
           "landcolor": "#E5ECF6",
           "showlakes": true,
           "showland": true,
           "subunitcolor": "white"
          },
          "hoverlabel": {
           "align": "left"
          },
          "hovermode": "closest",
          "mapbox": {
           "style": "light"
          },
          "paper_bgcolor": "white",
          "plot_bgcolor": "#E5ECF6",
          "polar": {
           "angularaxis": {
            "gridcolor": "white",
            "linecolor": "white",
            "ticks": ""
           },
           "bgcolor": "#E5ECF6",
           "radialaxis": {
            "gridcolor": "white",
            "linecolor": "white",
            "ticks": ""
           }
          },
          "scene": {
           "xaxis": {
            "backgroundcolor": "#E5ECF6",
            "gridcolor": "white",
            "gridwidth": 2,
            "linecolor": "white",
            "showbackground": true,
            "ticks": "",
            "zerolinecolor": "white"
           },
           "yaxis": {
            "backgroundcolor": "#E5ECF6",
            "gridcolor": "white",
            "gridwidth": 2,
            "linecolor": "white",
            "showbackground": true,
            "ticks": "",
            "zerolinecolor": "white"
           },
           "zaxis": {
            "backgroundcolor": "#E5ECF6",
            "gridcolor": "white",
            "gridwidth": 2,
            "linecolor": "white",
            "showbackground": true,
            "ticks": "",
            "zerolinecolor": "white"
           }
          },
          "shapedefaults": {
           "line": {
            "color": "#2a3f5f"
           }
          },
          "ternary": {
           "aaxis": {
            "gridcolor": "white",
            "linecolor": "white",
            "ticks": ""
           },
           "baxis": {
            "gridcolor": "white",
            "linecolor": "white",
            "ticks": ""
           },
           "bgcolor": "#E5ECF6",
           "caxis": {
            "gridcolor": "white",
            "linecolor": "white",
            "ticks": ""
           }
          },
          "title": {
           "x": 0.05
          },
          "xaxis": {
           "automargin": true,
           "gridcolor": "white",
           "linecolor": "white",
           "ticks": "",
           "title": {
            "standoff": 15
           },
           "zerolinecolor": "white",
           "zerolinewidth": 2
          },
          "yaxis": {
           "automargin": true,
           "gridcolor": "white",
           "linecolor": "white",
           "ticks": "",
           "title": {
            "standoff": 15
           },
           "zerolinecolor": "white",
           "zerolinewidth": 2
          }
         }
        },
        "title": {
         "text": "Execution time of ForecasterRecursiveMultiSeries_backtesting_series_is_dataframe_exog_dict"
        },
        "xaxis": {
         "tickangle": -45,
         "tickmode": "array",
         "ticktext": [
          "0.16.0"
         ],
         "tickvals": [
          0
         ],
         "title": {
          "text": "skforecast version"
         }
        },
        "yaxis": {
         "title": {
          "text": "Execution time (seconds)"
         }
        }
       }
      }
     },
     "metadata": {},
     "output_type": "display_data"
    },
    {
     "data": {
      "application/vnd.microsoft.datawrangler.viewer.v0+json": {
       "columns": [
        {
         "name": "index",
         "rawType": "int64",
         "type": "integer"
        },
        {
         "name": "forecaster_name",
         "rawType": "object",
         "type": "string"
        },
        {
         "name": "regressor_name",
         "rawType": "object",
         "type": "string"
        },
        {
         "name": "function_name",
         "rawType": "object",
         "type": "string"
        },
        {
         "name": "function_hash",
         "rawType": "object",
         "type": "string"
        },
        {
         "name": "run_time_avg",
         "rawType": "float64",
         "type": "float"
        },
        {
         "name": "run_time_std_dev",
         "rawType": "float64",
         "type": "float"
        },
        {
         "name": "datetime",
         "rawType": "datetime64[ns]",
         "type": "datetime"
        },
        {
         "name": "python_version",
         "rawType": "object",
         "type": "string"
        },
        {
         "name": "skforecast_version",
         "rawType": "object",
         "type": "string"
        },
        {
         "name": "numpy_version",
         "rawType": "object",
         "type": "string"
        },
        {
         "name": "pandas_version",
         "rawType": "object",
         "type": "string"
        },
        {
         "name": "sklearn_version",
         "rawType": "object",
         "type": "string"
        },
        {
         "name": "lightgbm_version",
         "rawType": "object",
         "type": "string"
        },
        {
         "name": "platform",
         "rawType": "object",
         "type": "string"
        },
        {
         "name": "processor",
         "rawType": "object",
         "type": "string"
        },
        {
         "name": "cpu_count",
         "rawType": "int64",
         "type": "integer"
        },
        {
         "name": "memory_gb",
         "rawType": "float64",
         "type": "float"
        }
       ],
       "conversionMethod": "pd.DataFrame",
       "ref": "16b681e4-3064-46df-809c-53b5b112926c",
       "rows": [
        [
         "217",
         "ForecasterRecursiveMultiSeries",
         "LGBMRegressor",
         "ForecasterRecursiveMultiSeries_backtesting_series_is_dataframe_exog_dict_conformal",
         "4081578249b9beefbee5821991bb788b",
         "23.77637420000392",
         "0.34308412665400323",
         "2025-04-24 18:09:21.934592",
         "3.11.10",
         "0.16.0",
         "2.2.5",
         "2.2.3",
         "1.6.1",
         "4.5.0",
         "Windows-10-10.0.19045-SP0",
         "Intel64 Family 6 Model 141 Stepping 1, GenuineIntel",
         "16",
         "34.07"
        ],
        [
         "236",
         "ForecasterRecursiveMultiSeries",
         "LGBMRegressor",
         "ForecasterRecursiveMultiSeries_backtesting_series_is_dataframe_exog_dict_conformal",
         "4081578249b9beefbee5821991bb788b",
         "25.542821439998807",
         "1.5574170998787222",
         "2025-04-24 18:24:09.396025",
         "3.11.10",
         "0.16.0",
         "2.2.5",
         "2.2.3",
         "1.6.1",
         "4.5.0",
         "Windows-10-10.0.19045-SP0",
         "Intel64 Family 6 Model 141 Stepping 1, GenuineIntel",
         "16",
         "34.07"
        ]
       ],
       "shape": {
        "columns": 17,
        "rows": 2
       }
      },
      "text/html": [
       "<div>\n",
       "<style scoped>\n",
       "    .dataframe tbody tr th:only-of-type {\n",
       "        vertical-align: middle;\n",
       "    }\n",
       "\n",
       "    .dataframe tbody tr th {\n",
       "        vertical-align: top;\n",
       "    }\n",
       "\n",
       "    .dataframe thead th {\n",
       "        text-align: right;\n",
       "    }\n",
       "</style>\n",
       "<table border=\"1\" class=\"dataframe\">\n",
       "  <thead>\n",
       "    <tr style=\"text-align: right;\">\n",
       "      <th></th>\n",
       "      <th>forecaster_name</th>\n",
       "      <th>regressor_name</th>\n",
       "      <th>function_name</th>\n",
       "      <th>function_hash</th>\n",
       "      <th>run_time_avg</th>\n",
       "      <th>run_time_std_dev</th>\n",
       "      <th>datetime</th>\n",
       "      <th>python_version</th>\n",
       "      <th>skforecast_version</th>\n",
       "      <th>numpy_version</th>\n",
       "      <th>pandas_version</th>\n",
       "      <th>sklearn_version</th>\n",
       "      <th>lightgbm_version</th>\n",
       "      <th>platform</th>\n",
       "      <th>processor</th>\n",
       "      <th>cpu_count</th>\n",
       "      <th>memory_gb</th>\n",
       "    </tr>\n",
       "  </thead>\n",
       "  <tbody>\n",
       "    <tr>\n",
       "      <th>217</th>\n",
       "      <td>ForecasterRecursiveMultiSeries</td>\n",
       "      <td>LGBMRegressor</td>\n",
       "      <td>ForecasterRecursiveMultiSeries_backtesting_ser...</td>\n",
       "      <td>4081578249b9beefbee5821991bb788b</td>\n",
       "      <td>23.776374</td>\n",
       "      <td>0.343084</td>\n",
       "      <td>2025-04-24 18:09:21.934592</td>\n",
       "      <td>3.11.10</td>\n",
       "      <td>0.16.0</td>\n",
       "      <td>2.2.5</td>\n",
       "      <td>2.2.3</td>\n",
       "      <td>1.6.1</td>\n",
       "      <td>4.5.0</td>\n",
       "      <td>Windows-10-10.0.19045-SP0</td>\n",
       "      <td>Intel64 Family 6 Model 141 Stepping 1, Genuine...</td>\n",
       "      <td>16</td>\n",
       "      <td>34.07</td>\n",
       "    </tr>\n",
       "    <tr>\n",
       "      <th>236</th>\n",
       "      <td>ForecasterRecursiveMultiSeries</td>\n",
       "      <td>LGBMRegressor</td>\n",
       "      <td>ForecasterRecursiveMultiSeries_backtesting_ser...</td>\n",
       "      <td>4081578249b9beefbee5821991bb788b</td>\n",
       "      <td>25.542821</td>\n",
       "      <td>1.557417</td>\n",
       "      <td>2025-04-24 18:24:09.396025</td>\n",
       "      <td>3.11.10</td>\n",
       "      <td>0.16.0</td>\n",
       "      <td>2.2.5</td>\n",
       "      <td>2.2.3</td>\n",
       "      <td>1.6.1</td>\n",
       "      <td>4.5.0</td>\n",
       "      <td>Windows-10-10.0.19045-SP0</td>\n",
       "      <td>Intel64 Family 6 Model 141 Stepping 1, Genuine...</td>\n",
       "      <td>16</td>\n",
       "      <td>34.07</td>\n",
       "    </tr>\n",
       "  </tbody>\n",
       "</table>\n",
       "</div>"
      ],
      "text/plain": [
       "                    forecaster_name regressor_name  \\\n",
       "217  ForecasterRecursiveMultiSeries  LGBMRegressor   \n",
       "236  ForecasterRecursiveMultiSeries  LGBMRegressor   \n",
       "\n",
       "                                         function_name  \\\n",
       "217  ForecasterRecursiveMultiSeries_backtesting_ser...   \n",
       "236  ForecasterRecursiveMultiSeries_backtesting_ser...   \n",
       "\n",
       "                        function_hash  run_time_avg  run_time_std_dev  \\\n",
       "217  4081578249b9beefbee5821991bb788b     23.776374          0.343084   \n",
       "236  4081578249b9beefbee5821991bb788b     25.542821          1.557417   \n",
       "\n",
       "                      datetime python_version skforecast_version  \\\n",
       "217 2025-04-24 18:09:21.934592        3.11.10             0.16.0   \n",
       "236 2025-04-24 18:24:09.396025        3.11.10             0.16.0   \n",
       "\n",
       "    numpy_version pandas_version sklearn_version lightgbm_version  \\\n",
       "217         2.2.5          2.2.3           1.6.1            4.5.0   \n",
       "236         2.2.5          2.2.3           1.6.1            4.5.0   \n",
       "\n",
       "                      platform  \\\n",
       "217  Windows-10-10.0.19045-SP0   \n",
       "236  Windows-10-10.0.19045-SP0   \n",
       "\n",
       "                                             processor  cpu_count  memory_gb  \n",
       "217  Intel64 Family 6 Model 141 Stepping 1, Genuine...         16      34.07  \n",
       "236  Intel64 Family 6 Model 141 Stepping 1, Genuine...         16      34.07  "
      ]
     },
     "metadata": {},
     "output_type": "display_data"
    },
    {
     "data": {
      "application/vnd.plotly.v1+json": {
       "config": {
        "plotlyServerURL": "https://plot.ly"
       },
       "data": [
        {
         "error_y": {
          "array": [
           0.34308412665400323,
           1.5574170998787222
          ],
          "color": "#636EFA",
          "thickness": 1.5,
          "type": "data",
          "visible": true,
          "width": 5
         },
         "hovertemplate": "%{text}<extra></extra>",
         "marker": {
          "color": "#636EFA",
          "opacity": 0.7,
          "size": 10
         },
         "mode": "markers",
         "name": "Run time - 0.16.0",
         "showlegend": true,
         "text": [
          "Forecaster: ForecasterRecursiveMultiSeries<br>Regressor: LGBMRegressor<br>Function: ForecasterRecursiveMultiSeries_backtesting_series_is_dataframe_exog_dict_conformal<br>Function_hash: 4081578249b9beefbee5821991bb788b<br>Datetime: 2025-04-24 18:09:21.934592<br>Python version: 3.11.10<br>skforecast version: 0.16.0<br>numpy version: 2.2.5<br>pandas version: 2.2.3<br>sklearn version: 1.6.1<br>lightgbm version: 4.5.0<br>Platform: Windows-10-10.0.19045-SP0<br>Processor: Intel64 Family 6 Model 141 Stepping 1, GenuineIntel<br>CPU count: 16<br>Memory (GB): 34.07<br>",
          "Forecaster: ForecasterRecursiveMultiSeries<br>Regressor: LGBMRegressor<br>Function: ForecasterRecursiveMultiSeries_backtesting_series_is_dataframe_exog_dict_conformal<br>Function_hash: 4081578249b9beefbee5821991bb788b<br>Datetime: 2025-04-24 18:24:09.396025<br>Python version: 3.11.10<br>skforecast version: 0.16.0<br>numpy version: 2.2.5<br>pandas version: 2.2.3<br>sklearn version: 1.6.1<br>lightgbm version: 4.5.0<br>Platform: Windows-10-10.0.19045-SP0<br>Processor: Intel64 Family 6 Model 141 Stepping 1, GenuineIntel<br>CPU count: 16<br>Memory (GB): 34.07<br>"
         ],
         "type": "scatter",
         "x": [
          -0.013072724445363663,
          0.008194560218857672
         ],
         "y": [
          23.77637420000392,
          25.542821439998807
         ]
        },
        {
         "line": {
          "color": "black",
          "width": 2
         },
         "marker": {
          "color": "black",
          "size": 8
         },
         "mode": "lines+markers",
         "name": "Median (per version)",
         "type": "scatter",
         "x": [
          0
         ],
         "y": [
          24.659597820001366
         ]
        },
        {
         "line": {
          "color": "black",
          "dash": "dash",
          "width": 2
         },
         "marker": {
          "color": "black",
          "size": 8
         },
         "mode": "lines+markers",
         "name": "Mean (per version)",
         "type": "scatter",
         "x": [
          0
         ],
         "y": [
          24.659597820001366
         ]
        }
       ],
       "layout": {
        "showlegend": true,
        "template": {
         "data": {
          "bar": [
           {
            "error_x": {
             "color": "#2a3f5f"
            },
            "error_y": {
             "color": "#2a3f5f"
            },
            "marker": {
             "line": {
              "color": "#E5ECF6",
              "width": 0.5
             },
             "pattern": {
              "fillmode": "overlay",
              "size": 10,
              "solidity": 0.2
             }
            },
            "type": "bar"
           }
          ],
          "barpolar": [
           {
            "marker": {
             "line": {
              "color": "#E5ECF6",
              "width": 0.5
             },
             "pattern": {
              "fillmode": "overlay",
              "size": 10,
              "solidity": 0.2
             }
            },
            "type": "barpolar"
           }
          ],
          "carpet": [
           {
            "aaxis": {
             "endlinecolor": "#2a3f5f",
             "gridcolor": "white",
             "linecolor": "white",
             "minorgridcolor": "white",
             "startlinecolor": "#2a3f5f"
            },
            "baxis": {
             "endlinecolor": "#2a3f5f",
             "gridcolor": "white",
             "linecolor": "white",
             "minorgridcolor": "white",
             "startlinecolor": "#2a3f5f"
            },
            "type": "carpet"
           }
          ],
          "choropleth": [
           {
            "colorbar": {
             "outlinewidth": 0,
             "ticks": ""
            },
            "type": "choropleth"
           }
          ],
          "contour": [
           {
            "colorbar": {
             "outlinewidth": 0,
             "ticks": ""
            },
            "colorscale": [
             [
              0,
              "#0d0887"
             ],
             [
              0.1111111111111111,
              "#46039f"
             ],
             [
              0.2222222222222222,
              "#7201a8"
             ],
             [
              0.3333333333333333,
              "#9c179e"
             ],
             [
              0.4444444444444444,
              "#bd3786"
             ],
             [
              0.5555555555555556,
              "#d8576b"
             ],
             [
              0.6666666666666666,
              "#ed7953"
             ],
             [
              0.7777777777777778,
              "#fb9f3a"
             ],
             [
              0.8888888888888888,
              "#fdca26"
             ],
             [
              1,
              "#f0f921"
             ]
            ],
            "type": "contour"
           }
          ],
          "contourcarpet": [
           {
            "colorbar": {
             "outlinewidth": 0,
             "ticks": ""
            },
            "type": "contourcarpet"
           }
          ],
          "heatmap": [
           {
            "colorbar": {
             "outlinewidth": 0,
             "ticks": ""
            },
            "colorscale": [
             [
              0,
              "#0d0887"
             ],
             [
              0.1111111111111111,
              "#46039f"
             ],
             [
              0.2222222222222222,
              "#7201a8"
             ],
             [
              0.3333333333333333,
              "#9c179e"
             ],
             [
              0.4444444444444444,
              "#bd3786"
             ],
             [
              0.5555555555555556,
              "#d8576b"
             ],
             [
              0.6666666666666666,
              "#ed7953"
             ],
             [
              0.7777777777777778,
              "#fb9f3a"
             ],
             [
              0.8888888888888888,
              "#fdca26"
             ],
             [
              1,
              "#f0f921"
             ]
            ],
            "type": "heatmap"
           }
          ],
          "heatmapgl": [
           {
            "colorbar": {
             "outlinewidth": 0,
             "ticks": ""
            },
            "colorscale": [
             [
              0,
              "#0d0887"
             ],
             [
              0.1111111111111111,
              "#46039f"
             ],
             [
              0.2222222222222222,
              "#7201a8"
             ],
             [
              0.3333333333333333,
              "#9c179e"
             ],
             [
              0.4444444444444444,
              "#bd3786"
             ],
             [
              0.5555555555555556,
              "#d8576b"
             ],
             [
              0.6666666666666666,
              "#ed7953"
             ],
             [
              0.7777777777777778,
              "#fb9f3a"
             ],
             [
              0.8888888888888888,
              "#fdca26"
             ],
             [
              1,
              "#f0f921"
             ]
            ],
            "type": "heatmapgl"
           }
          ],
          "histogram": [
           {
            "marker": {
             "pattern": {
              "fillmode": "overlay",
              "size": 10,
              "solidity": 0.2
             }
            },
            "type": "histogram"
           }
          ],
          "histogram2d": [
           {
            "colorbar": {
             "outlinewidth": 0,
             "ticks": ""
            },
            "colorscale": [
             [
              0,
              "#0d0887"
             ],
             [
              0.1111111111111111,
              "#46039f"
             ],
             [
              0.2222222222222222,
              "#7201a8"
             ],
             [
              0.3333333333333333,
              "#9c179e"
             ],
             [
              0.4444444444444444,
              "#bd3786"
             ],
             [
              0.5555555555555556,
              "#d8576b"
             ],
             [
              0.6666666666666666,
              "#ed7953"
             ],
             [
              0.7777777777777778,
              "#fb9f3a"
             ],
             [
              0.8888888888888888,
              "#fdca26"
             ],
             [
              1,
              "#f0f921"
             ]
            ],
            "type": "histogram2d"
           }
          ],
          "histogram2dcontour": [
           {
            "colorbar": {
             "outlinewidth": 0,
             "ticks": ""
            },
            "colorscale": [
             [
              0,
              "#0d0887"
             ],
             [
              0.1111111111111111,
              "#46039f"
             ],
             [
              0.2222222222222222,
              "#7201a8"
             ],
             [
              0.3333333333333333,
              "#9c179e"
             ],
             [
              0.4444444444444444,
              "#bd3786"
             ],
             [
              0.5555555555555556,
              "#d8576b"
             ],
             [
              0.6666666666666666,
              "#ed7953"
             ],
             [
              0.7777777777777778,
              "#fb9f3a"
             ],
             [
              0.8888888888888888,
              "#fdca26"
             ],
             [
              1,
              "#f0f921"
             ]
            ],
            "type": "histogram2dcontour"
           }
          ],
          "mesh3d": [
           {
            "colorbar": {
             "outlinewidth": 0,
             "ticks": ""
            },
            "type": "mesh3d"
           }
          ],
          "parcoords": [
           {
            "line": {
             "colorbar": {
              "outlinewidth": 0,
              "ticks": ""
             }
            },
            "type": "parcoords"
           }
          ],
          "pie": [
           {
            "automargin": true,
            "type": "pie"
           }
          ],
          "scatter": [
           {
            "fillpattern": {
             "fillmode": "overlay",
             "size": 10,
             "solidity": 0.2
            },
            "type": "scatter"
           }
          ],
          "scatter3d": [
           {
            "line": {
             "colorbar": {
              "outlinewidth": 0,
              "ticks": ""
             }
            },
            "marker": {
             "colorbar": {
              "outlinewidth": 0,
              "ticks": ""
             }
            },
            "type": "scatter3d"
           }
          ],
          "scattercarpet": [
           {
            "marker": {
             "colorbar": {
              "outlinewidth": 0,
              "ticks": ""
             }
            },
            "type": "scattercarpet"
           }
          ],
          "scattergeo": [
           {
            "marker": {
             "colorbar": {
              "outlinewidth": 0,
              "ticks": ""
             }
            },
            "type": "scattergeo"
           }
          ],
          "scattergl": [
           {
            "marker": {
             "colorbar": {
              "outlinewidth": 0,
              "ticks": ""
             }
            },
            "type": "scattergl"
           }
          ],
          "scattermapbox": [
           {
            "marker": {
             "colorbar": {
              "outlinewidth": 0,
              "ticks": ""
             }
            },
            "type": "scattermapbox"
           }
          ],
          "scatterpolar": [
           {
            "marker": {
             "colorbar": {
              "outlinewidth": 0,
              "ticks": ""
             }
            },
            "type": "scatterpolar"
           }
          ],
          "scatterpolargl": [
           {
            "marker": {
             "colorbar": {
              "outlinewidth": 0,
              "ticks": ""
             }
            },
            "type": "scatterpolargl"
           }
          ],
          "scatterternary": [
           {
            "marker": {
             "colorbar": {
              "outlinewidth": 0,
              "ticks": ""
             }
            },
            "type": "scatterternary"
           }
          ],
          "surface": [
           {
            "colorbar": {
             "outlinewidth": 0,
             "ticks": ""
            },
            "colorscale": [
             [
              0,
              "#0d0887"
             ],
             [
              0.1111111111111111,
              "#46039f"
             ],
             [
              0.2222222222222222,
              "#7201a8"
             ],
             [
              0.3333333333333333,
              "#9c179e"
             ],
             [
              0.4444444444444444,
              "#bd3786"
             ],
             [
              0.5555555555555556,
              "#d8576b"
             ],
             [
              0.6666666666666666,
              "#ed7953"
             ],
             [
              0.7777777777777778,
              "#fb9f3a"
             ],
             [
              0.8888888888888888,
              "#fdca26"
             ],
             [
              1,
              "#f0f921"
             ]
            ],
            "type": "surface"
           }
          ],
          "table": [
           {
            "cells": {
             "fill": {
              "color": "#EBF0F8"
             },
             "line": {
              "color": "white"
             }
            },
            "header": {
             "fill": {
              "color": "#C8D4E3"
             },
             "line": {
              "color": "white"
             }
            },
            "type": "table"
           }
          ]
         },
         "layout": {
          "annotationdefaults": {
           "arrowcolor": "#2a3f5f",
           "arrowhead": 0,
           "arrowwidth": 1
          },
          "autotypenumbers": "strict",
          "coloraxis": {
           "colorbar": {
            "outlinewidth": 0,
            "ticks": ""
           }
          },
          "colorscale": {
           "diverging": [
            [
             0,
             "#8e0152"
            ],
            [
             0.1,
             "#c51b7d"
            ],
            [
             0.2,
             "#de77ae"
            ],
            [
             0.3,
             "#f1b6da"
            ],
            [
             0.4,
             "#fde0ef"
            ],
            [
             0.5,
             "#f7f7f7"
            ],
            [
             0.6,
             "#e6f5d0"
            ],
            [
             0.7,
             "#b8e186"
            ],
            [
             0.8,
             "#7fbc41"
            ],
            [
             0.9,
             "#4d9221"
            ],
            [
             1,
             "#276419"
            ]
           ],
           "sequential": [
            [
             0,
             "#0d0887"
            ],
            [
             0.1111111111111111,
             "#46039f"
            ],
            [
             0.2222222222222222,
             "#7201a8"
            ],
            [
             0.3333333333333333,
             "#9c179e"
            ],
            [
             0.4444444444444444,
             "#bd3786"
            ],
            [
             0.5555555555555556,
             "#d8576b"
            ],
            [
             0.6666666666666666,
             "#ed7953"
            ],
            [
             0.7777777777777778,
             "#fb9f3a"
            ],
            [
             0.8888888888888888,
             "#fdca26"
            ],
            [
             1,
             "#f0f921"
            ]
           ],
           "sequentialminus": [
            [
             0,
             "#0d0887"
            ],
            [
             0.1111111111111111,
             "#46039f"
            ],
            [
             0.2222222222222222,
             "#7201a8"
            ],
            [
             0.3333333333333333,
             "#9c179e"
            ],
            [
             0.4444444444444444,
             "#bd3786"
            ],
            [
             0.5555555555555556,
             "#d8576b"
            ],
            [
             0.6666666666666666,
             "#ed7953"
            ],
            [
             0.7777777777777778,
             "#fb9f3a"
            ],
            [
             0.8888888888888888,
             "#fdca26"
            ],
            [
             1,
             "#f0f921"
            ]
           ]
          },
          "colorway": [
           "#636efa",
           "#EF553B",
           "#00cc96",
           "#ab63fa",
           "#FFA15A",
           "#19d3f3",
           "#FF6692",
           "#B6E880",
           "#FF97FF",
           "#FECB52"
          ],
          "font": {
           "color": "#2a3f5f"
          },
          "geo": {
           "bgcolor": "white",
           "lakecolor": "white",
           "landcolor": "#E5ECF6",
           "showlakes": true,
           "showland": true,
           "subunitcolor": "white"
          },
          "hoverlabel": {
           "align": "left"
          },
          "hovermode": "closest",
          "mapbox": {
           "style": "light"
          },
          "paper_bgcolor": "white",
          "plot_bgcolor": "#E5ECF6",
          "polar": {
           "angularaxis": {
            "gridcolor": "white",
            "linecolor": "white",
            "ticks": ""
           },
           "bgcolor": "#E5ECF6",
           "radialaxis": {
            "gridcolor": "white",
            "linecolor": "white",
            "ticks": ""
           }
          },
          "scene": {
           "xaxis": {
            "backgroundcolor": "#E5ECF6",
            "gridcolor": "white",
            "gridwidth": 2,
            "linecolor": "white",
            "showbackground": true,
            "ticks": "",
            "zerolinecolor": "white"
           },
           "yaxis": {
            "backgroundcolor": "#E5ECF6",
            "gridcolor": "white",
            "gridwidth": 2,
            "linecolor": "white",
            "showbackground": true,
            "ticks": "",
            "zerolinecolor": "white"
           },
           "zaxis": {
            "backgroundcolor": "#E5ECF6",
            "gridcolor": "white",
            "gridwidth": 2,
            "linecolor": "white",
            "showbackground": true,
            "ticks": "",
            "zerolinecolor": "white"
           }
          },
          "shapedefaults": {
           "line": {
            "color": "#2a3f5f"
           }
          },
          "ternary": {
           "aaxis": {
            "gridcolor": "white",
            "linecolor": "white",
            "ticks": ""
           },
           "baxis": {
            "gridcolor": "white",
            "linecolor": "white",
            "ticks": ""
           },
           "bgcolor": "#E5ECF6",
           "caxis": {
            "gridcolor": "white",
            "linecolor": "white",
            "ticks": ""
           }
          },
          "title": {
           "x": 0.05
          },
          "xaxis": {
           "automargin": true,
           "gridcolor": "white",
           "linecolor": "white",
           "ticks": "",
           "title": {
            "standoff": 15
           },
           "zerolinecolor": "white",
           "zerolinewidth": 2
          },
          "yaxis": {
           "automargin": true,
           "gridcolor": "white",
           "linecolor": "white",
           "ticks": "",
           "title": {
            "standoff": 15
           },
           "zerolinecolor": "white",
           "zerolinewidth": 2
          }
         }
        },
        "title": {
         "text": "Execution time of ForecasterRecursiveMultiSeries_backtesting_series_is_dataframe_exog_dict_conformal"
        },
        "xaxis": {
         "tickangle": -45,
         "tickmode": "array",
         "ticktext": [
          "0.16.0"
         ],
         "tickvals": [
          0
         ],
         "title": {
          "text": "skforecast version"
         }
        },
        "yaxis": {
         "title": {
          "text": "Execution time (seconds)"
         }
        }
       }
      }
     },
     "metadata": {},
     "output_type": "display_data"
    }
   ],
   "source": [
    "# Plot results\n",
    "# ==============================================================================\n",
    "display_df = True\n",
    "selected_date = None\n",
    "# 'Linux-6.11.0-24-generic-x86_64-with-glibc2.39'\n",
    "# 'Windows-10-10.0.19045-SP0'\n",
    "selected_platform = None\n",
    "\n",
    "results_benchmark_all = joblib.load(\"./benchmark.joblib\")\n",
    "results_benchmark = results_benchmark_all.query(\"forecaster_name in ['ForecasterRecursiveMultiSeries', 'ForecasterAutoregMultiSeries']\")\n",
    "results_benchmark = results_benchmark.query(\"regressor_name == 'LGBMRegressor'\")\n",
    "for function_name in results_benchmark['function_name'].unique():\n",
    "    df = results_benchmark.query(f\"function_name == '{function_name}'\")\n",
    "    if selected_date:\n",
    "        df = df[df['datetime'].dt.date == pd.to_datetime(selected_date).date()]\n",
    "    if selected_platform:\n",
    "        df = df[df['platform'] == selected_platform]\n",
    "    if display_df:\n",
    "        display(df)\n",
    "    plot_benchmark_results(df.copy(), function_name, add_median=True, add_mean=True)"
   ]
  },
  {
   "cell_type": "markdown",
   "metadata": {},
   "source": [
    "# ForecasterRecursive"
   ]
  },
  {
   "cell_type": "code",
   "execution_count": 10,
   "metadata": {},
   "outputs": [],
   "source": [
    "# Mock data for benchmarking\n",
    "# ==========================================================\n",
    "len_series = 2000\n",
    "rng = np.random.default_rng(321)\n",
    "y = pd.Series(\n",
    "        data = rng.normal(loc=20, scale=5, size=len_series),\n",
    "        index=pd.date_range(\n",
    "            start='2010-01-01',\n",
    "            periods=len_series,\n",
    "            freq='h'\n",
    "        ),\n",
    "        name='y'\n",
    "    )\n",
    "rng = np.random.default_rng(321)\n",
    "exog = pd.DataFrame(index=y.index)\n",
    "exog['day_of_week'] = exog.index.dayofweek\n",
    "exog['week_of_year'] = exog.index.isocalendar().week.astype(int)\n",
    "exog['month'] = exog.index.month\n",
    "exog_prediction = pd.DataFrame(\n",
    "                    index=pd.date_range(\n",
    "                        start=series_dict[k].index.max() + pd.Timedelta(hours=1),\n",
    "                        periods=100,\n",
    "                        freq='h'\n",
    "                    )\n",
    "                 ) \n",
    "exog_prediction['day_of_week'] = exog_prediction.index.dayofweek\n",
    "exog_prediction['week_of_year'] = exog_prediction.index.isocalendar().week.astype(int)\n",
    "exog_prediction['month'] = exog_prediction.index.month"
   ]
  },
  {
   "cell_type": "code",
   "execution_count": null,
   "metadata": {},
   "outputs": [
    {
     "name": "stdout",
     "output_type": "stream",
     "text": [
      "Benchmarking function: ForecasterRecursive__create_train_X_y with skforecast version 0.15.1\n",
      "Benchmarking function: ForecasterRecursive_fit with skforecast version 0.15.1\n",
      "Benchmarking function: ForecasterRecursive_predict with skforecast version 0.15.1\n",
      "Benchmarking function: ForecasterRecursive__create_predict_inputs with skforecast version 0.15.1\n",
      "Benchmarking function: ForecasterRecursive_backtesting with skforecast version 0.15.1\n",
      "Benchmarking function: ForecasterRecursive_backtesting_conformal with skforecast version 0.15.1\n"
     ]
    }
   ],
   "source": [
    "# Benchmarking speed ForecasterRecursive\n",
    "# ==============================================================================\n",
    "regressor = LGBMRegressor(random_state=8520, verbose=-1)\n",
    "if skforecast.__version__ >= '0.14.0':\n",
    "    forecaster = ForecasterRecursive(\n",
    "        regressor=regressor,\n",
    "        lags=50,\n",
    "        transformer_y=StandardScaler(),\n",
    "        transformer_exog=StandardScaler(),\n",
    "    )\n",
    "else:\n",
    "    forecaster = ForecasterAutoreg(\n",
    "        regressor=regressor,\n",
    "        lags=50,\n",
    "        transformer_y=StandardScaler(),\n",
    "        transformer_exog=StandardScaler(),\n",
    "    )\n",
    "\n",
    "def ForecasterRecursive_fit():\n",
    "    forecaster.fit(y=y, exog=exog)\n",
    "\n",
    "def ForecasterRecursive__create_train_X_y():\n",
    "    if skforecast.__version__ >= '0.14.0':\n",
    "        forecaster._create_train_X_y(y=y, exog=exog)\n",
    "    else:\n",
    "        forecaster.create_train_X_y(y=y, exog=exog)\n",
    "\n",
    "\n",
    "def ForecasterRecursive_predict():\n",
    "    forecaster.predict(steps=100, exog=exog_prediction)\n",
    "\n",
    "def ForecasterRecursive_predict_interval_conformal():\n",
    "    forecaster.predict(\n",
    "        steps=100,\n",
    "        exog=exog_prediction,\n",
    "        interval=[5, 95],\n",
    "        interval_method='conformal'\n",
    "    )\n",
    "\n",
    "\n",
    "def ForecasterRecursive__create_predict_inputs():\n",
    "    _ = forecaster._create_predict_inputs(\n",
    "            steps        = 100,\n",
    "            exog         = exog_prediction,\n",
    "            check_inputs = True\n",
    "        )\n",
    "    \n",
    "def ForecasterRecursive_backtesting():\n",
    "    if skforecast.__version__ >= '0.14.0':\n",
    "        cv = TimeSeriesFold(\n",
    "                initial_train_size=1200,\n",
    "                fixed_train_size=True,\n",
    "                steps=50,\n",
    "            )\n",
    "        _ = backtesting_forecaster(\n",
    "                forecaster=forecaster,\n",
    "                y=y,\n",
    "                exog=exog,\n",
    "                cv=cv,\n",
    "                metric='mean_squared_error',\n",
    "                show_progress=False\n",
    "            )\n",
    "    else:\n",
    "        _ = backtesting_forecaster(\n",
    "                forecaster=forecaster,\n",
    "                y=y,\n",
    "                exog=exog,\n",
    "                initial_train_size=1200,\n",
    "                fixed_train_size=True,\n",
    "                steps=50,\n",
    "                metric='mean_squared_error',\n",
    "                show_progress=False\n",
    "            )\n",
    "\n",
    "def ForecasterRecursive_backtesting_conformal():\n",
    "    if skforecast.__version__ >= '0.14.0':\n",
    "        cv = TimeSeriesFold(\n",
    "                initial_train_size=1200,\n",
    "                fixed_train_size=True,\n",
    "                steps=50,\n",
    "            )\n",
    "        _ = backtesting_forecaster(\n",
    "                forecaster=forecaster,\n",
    "                y=y,\n",
    "                exog=exog,\n",
    "                interval=[5, 95],\n",
    "                interval_method='conformal',\n",
    "                cv=cv,\n",
    "                metric='mean_squared_error',\n",
    "\n",
    "                show_progress=False\n",
    "            )\n",
    "    else:\n",
    "        _ = backtesting_forecaster(\n",
    "                forecaster=forecaster,\n",
    "                y=y,\n",
    "                exog=exog,\n",
    "                initial_train_size=1200,\n",
    "                fixed_train_size=True,\n",
    "                steps=50,\n",
    "                interval=[5, 95],\n",
    "                interval_method='conformal',\n",
    "                metric='mean_squared_error',\n",
    "                show_progress=False\n",
    "            )\n",
    "\n",
    "\n",
    "runner = BenchmarkRunner(repeat=30, output_dir=\"./\")\n",
    "_ = runner.benchmark(ForecasterRecursive__create_train_X_y, forecaster=forecaster)\n",
    "\n",
    "runner = BenchmarkRunner(repeat=10, output_dir=\"./\")\n",
    "_ = runner.benchmark(ForecasterRecursive_fit, forecaster=forecaster)\n",
    "\n",
    "runner = BenchmarkRunner(repeat=30, output_dir=\"./\")\n",
    "forecaster.fit(y=y, exog=exog)\n",
    "_ = runner.benchmark(ForecasterRecursive_predict, forecaster=forecaster)\n",
    "_ = runner.benchmark(ForecasterRecursive_predict_interval_conformal, forecaster=forecaster)\n",
    "_ = runner.benchmark(ForecasterRecursive__create_predict_inputs, forecaster=forecaster)\n",
    "\n",
    "runner = BenchmarkRunner(repeat=5, output_dir=\"./\")\n",
    "_ = runner.benchmark(ForecasterRecursive_backtesting, forecaster=forecaster)\n",
    "_ = runner.benchmark(ForecasterRecursive_backtesting_conformal, forecaster=forecaster)"
   ]
  },
  {
   "cell_type": "code",
   "execution_count": null,
   "metadata": {},
   "outputs": [
    {
     "data": {
      "application/vnd.plotly.v1+json": {
       "config": {
        "plotlyServerURL": "https://plot.ly"
       },
       "data": [
        {
         "error_y": {
          "array": {
           "bdata": "3lz3GXrJoD8=",
           "dtype": "f8"
          },
          "color": "#636EFA",
          "thickness": 1.5,
          "type": "data",
          "visible": true,
          "width": 5
         },
         "hovertemplate": "%{text}<extra></extra>",
         "marker": {
          "color": "#636EFA",
          "opacity": 0.7,
          "size": 10
         },
         "mode": "markers",
         "name": "Run time - 0.15.1",
         "showlegend": true,
         "text": [
          "Forecaster: ForecasterRecursive<br>Regressor: LGBMRegressor<br>Function: ForecasterRecursive_fit<br>Function_hash: 3a6496af8f14196a05b301212de078f0<br>Datetime: 2025-04-24 23:06:10.766851<br>Python version: 3.12.9<br>skforecast version: 0.15.1<br>numpy version: 2.2.5<br>pandas version: 2.2.3<br>sklearn version: 1.6.1<br>lightgbm version: 4.6.0<br>Platform: Linux-6.11.0-24-generic-x86_64-with-glibc2.39<br>Processor: x86_64<br>CPU count: 8<br>Memory (GB): 16.64<br>"
         ],
         "type": "scatter",
         "x": {
          "bdata": "fByzX9/Fir8=",
          "dtype": "f8"
         },
         "y": {
          "bdata": "M7PhDsqOyD8=",
          "dtype": "f8"
         }
        },
        {
         "error_y": {
          "array": {
           "bdata": "bRcYqhZciT8=",
           "dtype": "f8"
          },
          "color": "#EF553B",
          "thickness": 1.5,
          "type": "data",
          "visible": true,
          "width": 5
         },
         "hovertemplate": "%{text}<extra></extra>",
         "marker": {
          "color": "#EF553B",
          "opacity": 0.7,
          "size": 10
         },
         "mode": "markers",
         "name": "Run time - 0.16.0",
         "showlegend": true,
         "text": [
          "Forecaster: ForecasterRecursive<br>Regressor: LGBMRegressor<br>Function: ForecasterRecursive_fit<br>Function_hash: 3a6496af8f14196a05b301212de078f0<br>Datetime: 2025-04-24 22:43:37.606860<br>Python version: 3.12.9<br>skforecast version: 0.16.0<br>numpy version: 2.2.5<br>pandas version: 2.2.3<br>sklearn version: 1.6.1<br>lightgbm version: 4.6.0<br>Platform: Linux-6.11.0-24-generic-x86_64-with-glibc2.39<br>Processor: x86_64<br>CPU count: 8<br>Memory (GB): 16.64<br>"
         ],
         "type": "scatter",
         "x": {
          "bdata": "UFKCnpAh8D8=",
          "dtype": "f8"
         },
         "y": {
          "bdata": "AICnxyJExz8=",
          "dtype": "f8"
         }
        },
        {
         "line": {
          "color": "black",
          "width": 2
         },
         "marker": {
          "color": "black",
          "size": 8
         },
         "mode": "lines+markers",
         "name": "Median (per version)",
         "type": "scatter",
         "x": {
          "bdata": "AAE=",
          "dtype": "i1"
         },
         "y": {
          "bdata": "M7PhDsqOyD8AgKfHIkTHPw==",
          "dtype": "f8"
         }
        },
        {
         "line": {
          "color": "black",
          "dash": "dash",
          "width": 2
         },
         "marker": {
          "color": "black",
          "size": 8
         },
         "mode": "lines+markers",
         "name": "Mean (per version)",
         "type": "scatter",
         "x": {
          "bdata": "AAE=",
          "dtype": "i1"
         },
         "y": {
          "bdata": "M7PhDsqOyD8AgKfHIkTHPw==",
          "dtype": "f8"
         }
        }
       ],
       "layout": {
        "showlegend": true,
        "template": {
         "data": {
          "bar": [
           {
            "error_x": {
             "color": "#2a3f5f"
            },
            "error_y": {
             "color": "#2a3f5f"
            },
            "marker": {
             "line": {
              "color": "#E5ECF6",
              "width": 0.5
             },
             "pattern": {
              "fillmode": "overlay",
              "size": 10,
              "solidity": 0.2
             }
            },
            "type": "bar"
           }
          ],
          "barpolar": [
           {
            "marker": {
             "line": {
              "color": "#E5ECF6",
              "width": 0.5
             },
             "pattern": {
              "fillmode": "overlay",
              "size": 10,
              "solidity": 0.2
             }
            },
            "type": "barpolar"
           }
          ],
          "carpet": [
           {
            "aaxis": {
             "endlinecolor": "#2a3f5f",
             "gridcolor": "white",
             "linecolor": "white",
             "minorgridcolor": "white",
             "startlinecolor": "#2a3f5f"
            },
            "baxis": {
             "endlinecolor": "#2a3f5f",
             "gridcolor": "white",
             "linecolor": "white",
             "minorgridcolor": "white",
             "startlinecolor": "#2a3f5f"
            },
            "type": "carpet"
           }
          ],
          "choropleth": [
           {
            "colorbar": {
             "outlinewidth": 0,
             "ticks": ""
            },
            "type": "choropleth"
           }
          ],
          "contour": [
           {
            "colorbar": {
             "outlinewidth": 0,
             "ticks": ""
            },
            "colorscale": [
             [
              0,
              "#0d0887"
             ],
             [
              0.1111111111111111,
              "#46039f"
             ],
             [
              0.2222222222222222,
              "#7201a8"
             ],
             [
              0.3333333333333333,
              "#9c179e"
             ],
             [
              0.4444444444444444,
              "#bd3786"
             ],
             [
              0.5555555555555556,
              "#d8576b"
             ],
             [
              0.6666666666666666,
              "#ed7953"
             ],
             [
              0.7777777777777778,
              "#fb9f3a"
             ],
             [
              0.8888888888888888,
              "#fdca26"
             ],
             [
              1,
              "#f0f921"
             ]
            ],
            "type": "contour"
           }
          ],
          "contourcarpet": [
           {
            "colorbar": {
             "outlinewidth": 0,
             "ticks": ""
            },
            "type": "contourcarpet"
           }
          ],
          "heatmap": [
           {
            "colorbar": {
             "outlinewidth": 0,
             "ticks": ""
            },
            "colorscale": [
             [
              0,
              "#0d0887"
             ],
             [
              0.1111111111111111,
              "#46039f"
             ],
             [
              0.2222222222222222,
              "#7201a8"
             ],
             [
              0.3333333333333333,
              "#9c179e"
             ],
             [
              0.4444444444444444,
              "#bd3786"
             ],
             [
              0.5555555555555556,
              "#d8576b"
             ],
             [
              0.6666666666666666,
              "#ed7953"
             ],
             [
              0.7777777777777778,
              "#fb9f3a"
             ],
             [
              0.8888888888888888,
              "#fdca26"
             ],
             [
              1,
              "#f0f921"
             ]
            ],
            "type": "heatmap"
           }
          ],
          "histogram": [
           {
            "marker": {
             "pattern": {
              "fillmode": "overlay",
              "size": 10,
              "solidity": 0.2
             }
            },
            "type": "histogram"
           }
          ],
          "histogram2d": [
           {
            "colorbar": {
             "outlinewidth": 0,
             "ticks": ""
            },
            "colorscale": [
             [
              0,
              "#0d0887"
             ],
             [
              0.1111111111111111,
              "#46039f"
             ],
             [
              0.2222222222222222,
              "#7201a8"
             ],
             [
              0.3333333333333333,
              "#9c179e"
             ],
             [
              0.4444444444444444,
              "#bd3786"
             ],
             [
              0.5555555555555556,
              "#d8576b"
             ],
             [
              0.6666666666666666,
              "#ed7953"
             ],
             [
              0.7777777777777778,
              "#fb9f3a"
             ],
             [
              0.8888888888888888,
              "#fdca26"
             ],
             [
              1,
              "#f0f921"
             ]
            ],
            "type": "histogram2d"
           }
          ],
          "histogram2dcontour": [
           {
            "colorbar": {
             "outlinewidth": 0,
             "ticks": ""
            },
            "colorscale": [
             [
              0,
              "#0d0887"
             ],
             [
              0.1111111111111111,
              "#46039f"
             ],
             [
              0.2222222222222222,
              "#7201a8"
             ],
             [
              0.3333333333333333,
              "#9c179e"
             ],
             [
              0.4444444444444444,
              "#bd3786"
             ],
             [
              0.5555555555555556,
              "#d8576b"
             ],
             [
              0.6666666666666666,
              "#ed7953"
             ],
             [
              0.7777777777777778,
              "#fb9f3a"
             ],
             [
              0.8888888888888888,
              "#fdca26"
             ],
             [
              1,
              "#f0f921"
             ]
            ],
            "type": "histogram2dcontour"
           }
          ],
          "mesh3d": [
           {
            "colorbar": {
             "outlinewidth": 0,
             "ticks": ""
            },
            "type": "mesh3d"
           }
          ],
          "parcoords": [
           {
            "line": {
             "colorbar": {
              "outlinewidth": 0,
              "ticks": ""
             }
            },
            "type": "parcoords"
           }
          ],
          "pie": [
           {
            "automargin": true,
            "type": "pie"
           }
          ],
          "scatter": [
           {
            "fillpattern": {
             "fillmode": "overlay",
             "size": 10,
             "solidity": 0.2
            },
            "type": "scatter"
           }
          ],
          "scatter3d": [
           {
            "line": {
             "colorbar": {
              "outlinewidth": 0,
              "ticks": ""
             }
            },
            "marker": {
             "colorbar": {
              "outlinewidth": 0,
              "ticks": ""
             }
            },
            "type": "scatter3d"
           }
          ],
          "scattercarpet": [
           {
            "marker": {
             "colorbar": {
              "outlinewidth": 0,
              "ticks": ""
             }
            },
            "type": "scattercarpet"
           }
          ],
          "scattergeo": [
           {
            "marker": {
             "colorbar": {
              "outlinewidth": 0,
              "ticks": ""
             }
            },
            "type": "scattergeo"
           }
          ],
          "scattergl": [
           {
            "marker": {
             "colorbar": {
              "outlinewidth": 0,
              "ticks": ""
             }
            },
            "type": "scattergl"
           }
          ],
          "scattermap": [
           {
            "marker": {
             "colorbar": {
              "outlinewidth": 0,
              "ticks": ""
             }
            },
            "type": "scattermap"
           }
          ],
          "scattermapbox": [
           {
            "marker": {
             "colorbar": {
              "outlinewidth": 0,
              "ticks": ""
             }
            },
            "type": "scattermapbox"
           }
          ],
          "scatterpolar": [
           {
            "marker": {
             "colorbar": {
              "outlinewidth": 0,
              "ticks": ""
             }
            },
            "type": "scatterpolar"
           }
          ],
          "scatterpolargl": [
           {
            "marker": {
             "colorbar": {
              "outlinewidth": 0,
              "ticks": ""
             }
            },
            "type": "scatterpolargl"
           }
          ],
          "scatterternary": [
           {
            "marker": {
             "colorbar": {
              "outlinewidth": 0,
              "ticks": ""
             }
            },
            "type": "scatterternary"
           }
          ],
          "surface": [
           {
            "colorbar": {
             "outlinewidth": 0,
             "ticks": ""
            },
            "colorscale": [
             [
              0,
              "#0d0887"
             ],
             [
              0.1111111111111111,
              "#46039f"
             ],
             [
              0.2222222222222222,
              "#7201a8"
             ],
             [
              0.3333333333333333,
              "#9c179e"
             ],
             [
              0.4444444444444444,
              "#bd3786"
             ],
             [
              0.5555555555555556,
              "#d8576b"
             ],
             [
              0.6666666666666666,
              "#ed7953"
             ],
             [
              0.7777777777777778,
              "#fb9f3a"
             ],
             [
              0.8888888888888888,
              "#fdca26"
             ],
             [
              1,
              "#f0f921"
             ]
            ],
            "type": "surface"
           }
          ],
          "table": [
           {
            "cells": {
             "fill": {
              "color": "#EBF0F8"
             },
             "line": {
              "color": "white"
             }
            },
            "header": {
             "fill": {
              "color": "#C8D4E3"
             },
             "line": {
              "color": "white"
             }
            },
            "type": "table"
           }
          ]
         },
         "layout": {
          "annotationdefaults": {
           "arrowcolor": "#2a3f5f",
           "arrowhead": 0,
           "arrowwidth": 1
          },
          "autotypenumbers": "strict",
          "coloraxis": {
           "colorbar": {
            "outlinewidth": 0,
            "ticks": ""
           }
          },
          "colorscale": {
           "diverging": [
            [
             0,
             "#8e0152"
            ],
            [
             0.1,
             "#c51b7d"
            ],
            [
             0.2,
             "#de77ae"
            ],
            [
             0.3,
             "#f1b6da"
            ],
            [
             0.4,
             "#fde0ef"
            ],
            [
             0.5,
             "#f7f7f7"
            ],
            [
             0.6,
             "#e6f5d0"
            ],
            [
             0.7,
             "#b8e186"
            ],
            [
             0.8,
             "#7fbc41"
            ],
            [
             0.9,
             "#4d9221"
            ],
            [
             1,
             "#276419"
            ]
           ],
           "sequential": [
            [
             0,
             "#0d0887"
            ],
            [
             0.1111111111111111,
             "#46039f"
            ],
            [
             0.2222222222222222,
             "#7201a8"
            ],
            [
             0.3333333333333333,
             "#9c179e"
            ],
            [
             0.4444444444444444,
             "#bd3786"
            ],
            [
             0.5555555555555556,
             "#d8576b"
            ],
            [
             0.6666666666666666,
             "#ed7953"
            ],
            [
             0.7777777777777778,
             "#fb9f3a"
            ],
            [
             0.8888888888888888,
             "#fdca26"
            ],
            [
             1,
             "#f0f921"
            ]
           ],
           "sequentialminus": [
            [
             0,
             "#0d0887"
            ],
            [
             0.1111111111111111,
             "#46039f"
            ],
            [
             0.2222222222222222,
             "#7201a8"
            ],
            [
             0.3333333333333333,
             "#9c179e"
            ],
            [
             0.4444444444444444,
             "#bd3786"
            ],
            [
             0.5555555555555556,
             "#d8576b"
            ],
            [
             0.6666666666666666,
             "#ed7953"
            ],
            [
             0.7777777777777778,
             "#fb9f3a"
            ],
            [
             0.8888888888888888,
             "#fdca26"
            ],
            [
             1,
             "#f0f921"
            ]
           ]
          },
          "colorway": [
           "#636efa",
           "#EF553B",
           "#00cc96",
           "#ab63fa",
           "#FFA15A",
           "#19d3f3",
           "#FF6692",
           "#B6E880",
           "#FF97FF",
           "#FECB52"
          ],
          "font": {
           "color": "#2a3f5f"
          },
          "geo": {
           "bgcolor": "white",
           "lakecolor": "white",
           "landcolor": "#E5ECF6",
           "showlakes": true,
           "showland": true,
           "subunitcolor": "white"
          },
          "hoverlabel": {
           "align": "left"
          },
          "hovermode": "closest",
          "mapbox": {
           "style": "light"
          },
          "paper_bgcolor": "white",
          "plot_bgcolor": "#E5ECF6",
          "polar": {
           "angularaxis": {
            "gridcolor": "white",
            "linecolor": "white",
            "ticks": ""
           },
           "bgcolor": "#E5ECF6",
           "radialaxis": {
            "gridcolor": "white",
            "linecolor": "white",
            "ticks": ""
           }
          },
          "scene": {
           "xaxis": {
            "backgroundcolor": "#E5ECF6",
            "gridcolor": "white",
            "gridwidth": 2,
            "linecolor": "white",
            "showbackground": true,
            "ticks": "",
            "zerolinecolor": "white"
           },
           "yaxis": {
            "backgroundcolor": "#E5ECF6",
            "gridcolor": "white",
            "gridwidth": 2,
            "linecolor": "white",
            "showbackground": true,
            "ticks": "",
            "zerolinecolor": "white"
           },
           "zaxis": {
            "backgroundcolor": "#E5ECF6",
            "gridcolor": "white",
            "gridwidth": 2,
            "linecolor": "white",
            "showbackground": true,
            "ticks": "",
            "zerolinecolor": "white"
           }
          },
          "shapedefaults": {
           "line": {
            "color": "#2a3f5f"
           }
          },
          "ternary": {
           "aaxis": {
            "gridcolor": "white",
            "linecolor": "white",
            "ticks": ""
           },
           "baxis": {
            "gridcolor": "white",
            "linecolor": "white",
            "ticks": ""
           },
           "bgcolor": "#E5ECF6",
           "caxis": {
            "gridcolor": "white",
            "linecolor": "white",
            "ticks": ""
           }
          },
          "title": {
           "x": 0.05
          },
          "xaxis": {
           "automargin": true,
           "gridcolor": "white",
           "linecolor": "white",
           "ticks": "",
           "title": {
            "standoff": 15
           },
           "zerolinecolor": "white",
           "zerolinewidth": 2
          },
          "yaxis": {
           "automargin": true,
           "gridcolor": "white",
           "linecolor": "white",
           "ticks": "",
           "title": {
            "standoff": 15
           },
           "zerolinecolor": "white",
           "zerolinewidth": 2
          }
         }
        },
        "title": {
         "text": "Execution time of ForecasterRecursive_fit"
        },
        "xaxis": {
         "tickangle": -45,
         "tickmode": "array",
         "ticktext": [
          "0.15.1",
          "0.16.0"
         ],
         "tickvals": [
          0,
          1
         ],
         "title": {
          "text": "skforecast version"
         }
        },
        "yaxis": {
         "title": {
          "text": "Execution time (seconds)"
         }
        }
       }
      }
     },
     "metadata": {},
     "output_type": "display_data"
    },
    {
     "data": {
      "application/vnd.plotly.v1+json": {
       "config": {
        "plotlyServerURL": "https://plot.ly"
       },
       "data": [
        {
         "error_y": {
          "array": {
           "bdata": "Kvo/mVKcXz8=",
           "dtype": "f8"
          },
          "color": "#636EFA",
          "thickness": 1.5,
          "type": "data",
          "visible": true,
          "width": 5
         },
         "hovertemplate": "%{text}<extra></extra>",
         "marker": {
          "color": "#636EFA",
          "opacity": 0.7,
          "size": 10
         },
         "mode": "markers",
         "name": "Run time - 0.15.1",
         "showlegend": true,
         "text": [
          "Forecaster: ForecasterRecursive<br>Regressor: LGBMRegressor<br>Function: ForecasterRecursive__create_train_X_y<br>Function_hash: 20bdfc9de1cb7a9e99e703c087d136d3<br>Datetime: 2025-04-24 23:06:08.840009<br>Python version: 3.12.9<br>skforecast version: 0.15.1<br>numpy version: 2.2.5<br>pandas version: 2.2.3<br>sklearn version: 1.6.1<br>lightgbm version: 4.6.0<br>Platform: Linux-6.11.0-24-generic-x86_64-with-glibc2.39<br>Processor: x86_64<br>CPU count: 8<br>Memory (GB): 16.64<br>"
         ],
         "type": "scatter",
         "x": {
          "bdata": "fByzX9/Fir8=",
          "dtype": "f8"
         },
         "y": {
          "bdata": "iYjIskeCez8=",
          "dtype": "f8"
         }
        },
        {
         "error_y": {
          "array": {
           "bdata": "XdWncprXTT8=",
           "dtype": "f8"
          },
          "color": "#EF553B",
          "thickness": 1.5,
          "type": "data",
          "visible": true,
          "width": 5
         },
         "hovertemplate": "%{text}<extra></extra>",
         "marker": {
          "color": "#EF553B",
          "opacity": 0.7,
          "size": 10
         },
         "mode": "markers",
         "name": "Run time - 0.16.0",
         "showlegend": true,
         "text": [
          "Forecaster: ForecasterRecursive<br>Regressor: LGBMRegressor<br>Function: ForecasterRecursive__create_train_X_y<br>Function_hash: 20bdfc9de1cb7a9e99e703c087d136d3<br>Datetime: 2025-04-24 22:43:35.783645<br>Python version: 3.12.9<br>skforecast version: 0.16.0<br>numpy version: 2.2.5<br>pandas version: 2.2.3<br>sklearn version: 1.6.1<br>lightgbm version: 4.6.0<br>Platform: Linux-6.11.0-24-generic-x86_64-with-glibc2.39<br>Processor: x86_64<br>CPU count: 8<br>Memory (GB): 16.64<br>"
         ],
         "type": "scatter",
         "x": {
          "bdata": "UFKCnpAh8D8=",
          "dtype": "f8"
         },
         "y": {
          "bdata": "ERExN27ecj8=",
          "dtype": "f8"
         }
        },
        {
         "line": {
          "color": "black",
          "width": 2
         },
         "marker": {
          "color": "black",
          "size": 8
         },
         "mode": "lines+markers",
         "name": "Median (per version)",
         "type": "scatter",
         "x": {
          "bdata": "AAE=",
          "dtype": "i1"
         },
         "y": {
          "bdata": "iYjIskeCez8RETE3bt5yPw==",
          "dtype": "f8"
         }
        },
        {
         "line": {
          "color": "black",
          "dash": "dash",
          "width": 2
         },
         "marker": {
          "color": "black",
          "size": 8
         },
         "mode": "lines+markers",
         "name": "Mean (per version)",
         "type": "scatter",
         "x": {
          "bdata": "AAE=",
          "dtype": "i1"
         },
         "y": {
          "bdata": "iYjIskeCez8RETE3bt5yPw==",
          "dtype": "f8"
         }
        }
       ],
       "layout": {
        "showlegend": true,
        "template": {
         "data": {
          "bar": [
           {
            "error_x": {
             "color": "#2a3f5f"
            },
            "error_y": {
             "color": "#2a3f5f"
            },
            "marker": {
             "line": {
              "color": "#E5ECF6",
              "width": 0.5
             },
             "pattern": {
              "fillmode": "overlay",
              "size": 10,
              "solidity": 0.2
             }
            },
            "type": "bar"
           }
          ],
          "barpolar": [
           {
            "marker": {
             "line": {
              "color": "#E5ECF6",
              "width": 0.5
             },
             "pattern": {
              "fillmode": "overlay",
              "size": 10,
              "solidity": 0.2
             }
            },
            "type": "barpolar"
           }
          ],
          "carpet": [
           {
            "aaxis": {
             "endlinecolor": "#2a3f5f",
             "gridcolor": "white",
             "linecolor": "white",
             "minorgridcolor": "white",
             "startlinecolor": "#2a3f5f"
            },
            "baxis": {
             "endlinecolor": "#2a3f5f",
             "gridcolor": "white",
             "linecolor": "white",
             "minorgridcolor": "white",
             "startlinecolor": "#2a3f5f"
            },
            "type": "carpet"
           }
          ],
          "choropleth": [
           {
            "colorbar": {
             "outlinewidth": 0,
             "ticks": ""
            },
            "type": "choropleth"
           }
          ],
          "contour": [
           {
            "colorbar": {
             "outlinewidth": 0,
             "ticks": ""
            },
            "colorscale": [
             [
              0,
              "#0d0887"
             ],
             [
              0.1111111111111111,
              "#46039f"
             ],
             [
              0.2222222222222222,
              "#7201a8"
             ],
             [
              0.3333333333333333,
              "#9c179e"
             ],
             [
              0.4444444444444444,
              "#bd3786"
             ],
             [
              0.5555555555555556,
              "#d8576b"
             ],
             [
              0.6666666666666666,
              "#ed7953"
             ],
             [
              0.7777777777777778,
              "#fb9f3a"
             ],
             [
              0.8888888888888888,
              "#fdca26"
             ],
             [
              1,
              "#f0f921"
             ]
            ],
            "type": "contour"
           }
          ],
          "contourcarpet": [
           {
            "colorbar": {
             "outlinewidth": 0,
             "ticks": ""
            },
            "type": "contourcarpet"
           }
          ],
          "heatmap": [
           {
            "colorbar": {
             "outlinewidth": 0,
             "ticks": ""
            },
            "colorscale": [
             [
              0,
              "#0d0887"
             ],
             [
              0.1111111111111111,
              "#46039f"
             ],
             [
              0.2222222222222222,
              "#7201a8"
             ],
             [
              0.3333333333333333,
              "#9c179e"
             ],
             [
              0.4444444444444444,
              "#bd3786"
             ],
             [
              0.5555555555555556,
              "#d8576b"
             ],
             [
              0.6666666666666666,
              "#ed7953"
             ],
             [
              0.7777777777777778,
              "#fb9f3a"
             ],
             [
              0.8888888888888888,
              "#fdca26"
             ],
             [
              1,
              "#f0f921"
             ]
            ],
            "type": "heatmap"
           }
          ],
          "histogram": [
           {
            "marker": {
             "pattern": {
              "fillmode": "overlay",
              "size": 10,
              "solidity": 0.2
             }
            },
            "type": "histogram"
           }
          ],
          "histogram2d": [
           {
            "colorbar": {
             "outlinewidth": 0,
             "ticks": ""
            },
            "colorscale": [
             [
              0,
              "#0d0887"
             ],
             [
              0.1111111111111111,
              "#46039f"
             ],
             [
              0.2222222222222222,
              "#7201a8"
             ],
             [
              0.3333333333333333,
              "#9c179e"
             ],
             [
              0.4444444444444444,
              "#bd3786"
             ],
             [
              0.5555555555555556,
              "#d8576b"
             ],
             [
              0.6666666666666666,
              "#ed7953"
             ],
             [
              0.7777777777777778,
              "#fb9f3a"
             ],
             [
              0.8888888888888888,
              "#fdca26"
             ],
             [
              1,
              "#f0f921"
             ]
            ],
            "type": "histogram2d"
           }
          ],
          "histogram2dcontour": [
           {
            "colorbar": {
             "outlinewidth": 0,
             "ticks": ""
            },
            "colorscale": [
             [
              0,
              "#0d0887"
             ],
             [
              0.1111111111111111,
              "#46039f"
             ],
             [
              0.2222222222222222,
              "#7201a8"
             ],
             [
              0.3333333333333333,
              "#9c179e"
             ],
             [
              0.4444444444444444,
              "#bd3786"
             ],
             [
              0.5555555555555556,
              "#d8576b"
             ],
             [
              0.6666666666666666,
              "#ed7953"
             ],
             [
              0.7777777777777778,
              "#fb9f3a"
             ],
             [
              0.8888888888888888,
              "#fdca26"
             ],
             [
              1,
              "#f0f921"
             ]
            ],
            "type": "histogram2dcontour"
           }
          ],
          "mesh3d": [
           {
            "colorbar": {
             "outlinewidth": 0,
             "ticks": ""
            },
            "type": "mesh3d"
           }
          ],
          "parcoords": [
           {
            "line": {
             "colorbar": {
              "outlinewidth": 0,
              "ticks": ""
             }
            },
            "type": "parcoords"
           }
          ],
          "pie": [
           {
            "automargin": true,
            "type": "pie"
           }
          ],
          "scatter": [
           {
            "fillpattern": {
             "fillmode": "overlay",
             "size": 10,
             "solidity": 0.2
            },
            "type": "scatter"
           }
          ],
          "scatter3d": [
           {
            "line": {
             "colorbar": {
              "outlinewidth": 0,
              "ticks": ""
             }
            },
            "marker": {
             "colorbar": {
              "outlinewidth": 0,
              "ticks": ""
             }
            },
            "type": "scatter3d"
           }
          ],
          "scattercarpet": [
           {
            "marker": {
             "colorbar": {
              "outlinewidth": 0,
              "ticks": ""
             }
            },
            "type": "scattercarpet"
           }
          ],
          "scattergeo": [
           {
            "marker": {
             "colorbar": {
              "outlinewidth": 0,
              "ticks": ""
             }
            },
            "type": "scattergeo"
           }
          ],
          "scattergl": [
           {
            "marker": {
             "colorbar": {
              "outlinewidth": 0,
              "ticks": ""
             }
            },
            "type": "scattergl"
           }
          ],
          "scattermap": [
           {
            "marker": {
             "colorbar": {
              "outlinewidth": 0,
              "ticks": ""
             }
            },
            "type": "scattermap"
           }
          ],
          "scattermapbox": [
           {
            "marker": {
             "colorbar": {
              "outlinewidth": 0,
              "ticks": ""
             }
            },
            "type": "scattermapbox"
           }
          ],
          "scatterpolar": [
           {
            "marker": {
             "colorbar": {
              "outlinewidth": 0,
              "ticks": ""
             }
            },
            "type": "scatterpolar"
           }
          ],
          "scatterpolargl": [
           {
            "marker": {
             "colorbar": {
              "outlinewidth": 0,
              "ticks": ""
             }
            },
            "type": "scatterpolargl"
           }
          ],
          "scatterternary": [
           {
            "marker": {
             "colorbar": {
              "outlinewidth": 0,
              "ticks": ""
             }
            },
            "type": "scatterternary"
           }
          ],
          "surface": [
           {
            "colorbar": {
             "outlinewidth": 0,
             "ticks": ""
            },
            "colorscale": [
             [
              0,
              "#0d0887"
             ],
             [
              0.1111111111111111,
              "#46039f"
             ],
             [
              0.2222222222222222,
              "#7201a8"
             ],
             [
              0.3333333333333333,
              "#9c179e"
             ],
             [
              0.4444444444444444,
              "#bd3786"
             ],
             [
              0.5555555555555556,
              "#d8576b"
             ],
             [
              0.6666666666666666,
              "#ed7953"
             ],
             [
              0.7777777777777778,
              "#fb9f3a"
             ],
             [
              0.8888888888888888,
              "#fdca26"
             ],
             [
              1,
              "#f0f921"
             ]
            ],
            "type": "surface"
           }
          ],
          "table": [
           {
            "cells": {
             "fill": {
              "color": "#EBF0F8"
             },
             "line": {
              "color": "white"
             }
            },
            "header": {
             "fill": {
              "color": "#C8D4E3"
             },
             "line": {
              "color": "white"
             }
            },
            "type": "table"
           }
          ]
         },
         "layout": {
          "annotationdefaults": {
           "arrowcolor": "#2a3f5f",
           "arrowhead": 0,
           "arrowwidth": 1
          },
          "autotypenumbers": "strict",
          "coloraxis": {
           "colorbar": {
            "outlinewidth": 0,
            "ticks": ""
           }
          },
          "colorscale": {
           "diverging": [
            [
             0,
             "#8e0152"
            ],
            [
             0.1,
             "#c51b7d"
            ],
            [
             0.2,
             "#de77ae"
            ],
            [
             0.3,
             "#f1b6da"
            ],
            [
             0.4,
             "#fde0ef"
            ],
            [
             0.5,
             "#f7f7f7"
            ],
            [
             0.6,
             "#e6f5d0"
            ],
            [
             0.7,
             "#b8e186"
            ],
            [
             0.8,
             "#7fbc41"
            ],
            [
             0.9,
             "#4d9221"
            ],
            [
             1,
             "#276419"
            ]
           ],
           "sequential": [
            [
             0,
             "#0d0887"
            ],
            [
             0.1111111111111111,
             "#46039f"
            ],
            [
             0.2222222222222222,
             "#7201a8"
            ],
            [
             0.3333333333333333,
             "#9c179e"
            ],
            [
             0.4444444444444444,
             "#bd3786"
            ],
            [
             0.5555555555555556,
             "#d8576b"
            ],
            [
             0.6666666666666666,
             "#ed7953"
            ],
            [
             0.7777777777777778,
             "#fb9f3a"
            ],
            [
             0.8888888888888888,
             "#fdca26"
            ],
            [
             1,
             "#f0f921"
            ]
           ],
           "sequentialminus": [
            [
             0,
             "#0d0887"
            ],
            [
             0.1111111111111111,
             "#46039f"
            ],
            [
             0.2222222222222222,
             "#7201a8"
            ],
            [
             0.3333333333333333,
             "#9c179e"
            ],
            [
             0.4444444444444444,
             "#bd3786"
            ],
            [
             0.5555555555555556,
             "#d8576b"
            ],
            [
             0.6666666666666666,
             "#ed7953"
            ],
            [
             0.7777777777777778,
             "#fb9f3a"
            ],
            [
             0.8888888888888888,
             "#fdca26"
            ],
            [
             1,
             "#f0f921"
            ]
           ]
          },
          "colorway": [
           "#636efa",
           "#EF553B",
           "#00cc96",
           "#ab63fa",
           "#FFA15A",
           "#19d3f3",
           "#FF6692",
           "#B6E880",
           "#FF97FF",
           "#FECB52"
          ],
          "font": {
           "color": "#2a3f5f"
          },
          "geo": {
           "bgcolor": "white",
           "lakecolor": "white",
           "landcolor": "#E5ECF6",
           "showlakes": true,
           "showland": true,
           "subunitcolor": "white"
          },
          "hoverlabel": {
           "align": "left"
          },
          "hovermode": "closest",
          "mapbox": {
           "style": "light"
          },
          "paper_bgcolor": "white",
          "plot_bgcolor": "#E5ECF6",
          "polar": {
           "angularaxis": {
            "gridcolor": "white",
            "linecolor": "white",
            "ticks": ""
           },
           "bgcolor": "#E5ECF6",
           "radialaxis": {
            "gridcolor": "white",
            "linecolor": "white",
            "ticks": ""
           }
          },
          "scene": {
           "xaxis": {
            "backgroundcolor": "#E5ECF6",
            "gridcolor": "white",
            "gridwidth": 2,
            "linecolor": "white",
            "showbackground": true,
            "ticks": "",
            "zerolinecolor": "white"
           },
           "yaxis": {
            "backgroundcolor": "#E5ECF6",
            "gridcolor": "white",
            "gridwidth": 2,
            "linecolor": "white",
            "showbackground": true,
            "ticks": "",
            "zerolinecolor": "white"
           },
           "zaxis": {
            "backgroundcolor": "#E5ECF6",
            "gridcolor": "white",
            "gridwidth": 2,
            "linecolor": "white",
            "showbackground": true,
            "ticks": "",
            "zerolinecolor": "white"
           }
          },
          "shapedefaults": {
           "line": {
            "color": "#2a3f5f"
           }
          },
          "ternary": {
           "aaxis": {
            "gridcolor": "white",
            "linecolor": "white",
            "ticks": ""
           },
           "baxis": {
            "gridcolor": "white",
            "linecolor": "white",
            "ticks": ""
           },
           "bgcolor": "#E5ECF6",
           "caxis": {
            "gridcolor": "white",
            "linecolor": "white",
            "ticks": ""
           }
          },
          "title": {
           "x": 0.05
          },
          "xaxis": {
           "automargin": true,
           "gridcolor": "white",
           "linecolor": "white",
           "ticks": "",
           "title": {
            "standoff": 15
           },
           "zerolinecolor": "white",
           "zerolinewidth": 2
          },
          "yaxis": {
           "automargin": true,
           "gridcolor": "white",
           "linecolor": "white",
           "ticks": "",
           "title": {
            "standoff": 15
           },
           "zerolinecolor": "white",
           "zerolinewidth": 2
          }
         }
        },
        "title": {
         "text": "Execution time of ForecasterRecursive__create_train_X_y"
        },
        "xaxis": {
         "tickangle": -45,
         "tickmode": "array",
         "ticktext": [
          "0.15.1",
          "0.16.0"
         ],
         "tickvals": [
          0,
          1
         ],
         "title": {
          "text": "skforecast version"
         }
        },
        "yaxis": {
         "title": {
          "text": "Execution time (seconds)"
         }
        }
       }
      }
     },
     "metadata": {},
     "output_type": "display_data"
    },
    {
     "data": {
      "application/vnd.plotly.v1+json": {
       "config": {
        "plotlyServerURL": "https://plot.ly"
       },
       "data": [
        {
         "error_y": {
          "array": {
           "bdata": "MWdHUYCEUD8=",
           "dtype": "f8"
          },
          "color": "#636EFA",
          "thickness": 1.5,
          "type": "data",
          "visible": true,
          "width": 5
         },
         "hovertemplate": "%{text}<extra></extra>",
         "marker": {
          "color": "#636EFA",
          "opacity": 0.7,
          "size": 10
         },
         "mode": "markers",
         "name": "Run time - 0.15.1",
         "showlegend": true,
         "text": [
          "Forecaster: ForecasterRecursive<br>Regressor: LGBMRegressor<br>Function: ForecasterRecursive_predict<br>Function_hash: 4f8ae3116340ac90eb9e66eac42789de<br>Datetime: 2025-04-24 23:06:12.721550<br>Python version: 3.12.9<br>skforecast version: 0.15.1<br>numpy version: 2.2.5<br>pandas version: 2.2.3<br>sklearn version: 1.6.1<br>lightgbm version: 4.6.0<br>Platform: Linux-6.11.0-24-generic-x86_64-with-glibc2.39<br>Processor: x86_64<br>CPU count: 8<br>Memory (GB): 16.64<br>"
         ],
         "type": "scatter",
         "x": {
          "bdata": "fByzX9/Fir8=",
          "dtype": "f8"
         },
         "y": {
          "bdata": "3t3fNWZdrj8=",
          "dtype": "f8"
         }
        },
        {
         "error_y": {
          "array": {
           "bdata": "7EZFI/VDgz8=",
           "dtype": "f8"
          },
          "color": "#EF553B",
          "thickness": 1.5,
          "type": "data",
          "visible": true,
          "width": 5
         },
         "hovertemplate": "%{text}<extra></extra>",
         "marker": {
          "color": "#EF553B",
          "opacity": 0.7,
          "size": 10
         },
         "mode": "markers",
         "name": "Run time - 0.16.0",
         "showlegend": true,
         "text": [
          "Forecaster: ForecasterRecursive<br>Regressor: LGBMRegressor<br>Function: ForecasterRecursive_predict<br>Function_hash: 4f8ae3116340ac90eb9e66eac42789de<br>Datetime: 2025-04-24 22:43:39.705298<br>Python version: 3.12.9<br>skforecast version: 0.16.0<br>numpy version: 2.2.5<br>pandas version: 2.2.3<br>sklearn version: 1.6.1<br>lightgbm version: 4.6.0<br>Platform: Linux-6.11.0-24-generic-x86_64-with-glibc2.39<br>Processor: x86_64<br>CPU count: 8<br>Memory (GB): 16.64<br>"
         ],
         "type": "scatter",
         "x": {
          "bdata": "UFKCnpAh8D8=",
          "dtype": "f8"
         },
         "y": {
          "bdata": "7+4yiSVjsD8=",
          "dtype": "f8"
         }
        },
        {
         "line": {
          "color": "black",
          "width": 2
         },
         "marker": {
          "color": "black",
          "size": 8
         },
         "mode": "lines+markers",
         "name": "Median (per version)",
         "type": "scatter",
         "x": {
          "bdata": "AAE=",
          "dtype": "i1"
         },
         "y": {
          "bdata": "3t3fNWZdrj/v7jKJJWOwPw==",
          "dtype": "f8"
         }
        },
        {
         "line": {
          "color": "black",
          "dash": "dash",
          "width": 2
         },
         "marker": {
          "color": "black",
          "size": 8
         },
         "mode": "lines+markers",
         "name": "Mean (per version)",
         "type": "scatter",
         "x": {
          "bdata": "AAE=",
          "dtype": "i1"
         },
         "y": {
          "bdata": "3t3fNWZdrj/v7jKJJWOwPw==",
          "dtype": "f8"
         }
        }
       ],
       "layout": {
        "showlegend": true,
        "template": {
         "data": {
          "bar": [
           {
            "error_x": {
             "color": "#2a3f5f"
            },
            "error_y": {
             "color": "#2a3f5f"
            },
            "marker": {
             "line": {
              "color": "#E5ECF6",
              "width": 0.5
             },
             "pattern": {
              "fillmode": "overlay",
              "size": 10,
              "solidity": 0.2
             }
            },
            "type": "bar"
           }
          ],
          "barpolar": [
           {
            "marker": {
             "line": {
              "color": "#E5ECF6",
              "width": 0.5
             },
             "pattern": {
              "fillmode": "overlay",
              "size": 10,
              "solidity": 0.2
             }
            },
            "type": "barpolar"
           }
          ],
          "carpet": [
           {
            "aaxis": {
             "endlinecolor": "#2a3f5f",
             "gridcolor": "white",
             "linecolor": "white",
             "minorgridcolor": "white",
             "startlinecolor": "#2a3f5f"
            },
            "baxis": {
             "endlinecolor": "#2a3f5f",
             "gridcolor": "white",
             "linecolor": "white",
             "minorgridcolor": "white",
             "startlinecolor": "#2a3f5f"
            },
            "type": "carpet"
           }
          ],
          "choropleth": [
           {
            "colorbar": {
             "outlinewidth": 0,
             "ticks": ""
            },
            "type": "choropleth"
           }
          ],
          "contour": [
           {
            "colorbar": {
             "outlinewidth": 0,
             "ticks": ""
            },
            "colorscale": [
             [
              0,
              "#0d0887"
             ],
             [
              0.1111111111111111,
              "#46039f"
             ],
             [
              0.2222222222222222,
              "#7201a8"
             ],
             [
              0.3333333333333333,
              "#9c179e"
             ],
             [
              0.4444444444444444,
              "#bd3786"
             ],
             [
              0.5555555555555556,
              "#d8576b"
             ],
             [
              0.6666666666666666,
              "#ed7953"
             ],
             [
              0.7777777777777778,
              "#fb9f3a"
             ],
             [
              0.8888888888888888,
              "#fdca26"
             ],
             [
              1,
              "#f0f921"
             ]
            ],
            "type": "contour"
           }
          ],
          "contourcarpet": [
           {
            "colorbar": {
             "outlinewidth": 0,
             "ticks": ""
            },
            "type": "contourcarpet"
           }
          ],
          "heatmap": [
           {
            "colorbar": {
             "outlinewidth": 0,
             "ticks": ""
            },
            "colorscale": [
             [
              0,
              "#0d0887"
             ],
             [
              0.1111111111111111,
              "#46039f"
             ],
             [
              0.2222222222222222,
              "#7201a8"
             ],
             [
              0.3333333333333333,
              "#9c179e"
             ],
             [
              0.4444444444444444,
              "#bd3786"
             ],
             [
              0.5555555555555556,
              "#d8576b"
             ],
             [
              0.6666666666666666,
              "#ed7953"
             ],
             [
              0.7777777777777778,
              "#fb9f3a"
             ],
             [
              0.8888888888888888,
              "#fdca26"
             ],
             [
              1,
              "#f0f921"
             ]
            ],
            "type": "heatmap"
           }
          ],
          "histogram": [
           {
            "marker": {
             "pattern": {
              "fillmode": "overlay",
              "size": 10,
              "solidity": 0.2
             }
            },
            "type": "histogram"
           }
          ],
          "histogram2d": [
           {
            "colorbar": {
             "outlinewidth": 0,
             "ticks": ""
            },
            "colorscale": [
             [
              0,
              "#0d0887"
             ],
             [
              0.1111111111111111,
              "#46039f"
             ],
             [
              0.2222222222222222,
              "#7201a8"
             ],
             [
              0.3333333333333333,
              "#9c179e"
             ],
             [
              0.4444444444444444,
              "#bd3786"
             ],
             [
              0.5555555555555556,
              "#d8576b"
             ],
             [
              0.6666666666666666,
              "#ed7953"
             ],
             [
              0.7777777777777778,
              "#fb9f3a"
             ],
             [
              0.8888888888888888,
              "#fdca26"
             ],
             [
              1,
              "#f0f921"
             ]
            ],
            "type": "histogram2d"
           }
          ],
          "histogram2dcontour": [
           {
            "colorbar": {
             "outlinewidth": 0,
             "ticks": ""
            },
            "colorscale": [
             [
              0,
              "#0d0887"
             ],
             [
              0.1111111111111111,
              "#46039f"
             ],
             [
              0.2222222222222222,
              "#7201a8"
             ],
             [
              0.3333333333333333,
              "#9c179e"
             ],
             [
              0.4444444444444444,
              "#bd3786"
             ],
             [
              0.5555555555555556,
              "#d8576b"
             ],
             [
              0.6666666666666666,
              "#ed7953"
             ],
             [
              0.7777777777777778,
              "#fb9f3a"
             ],
             [
              0.8888888888888888,
              "#fdca26"
             ],
             [
              1,
              "#f0f921"
             ]
            ],
            "type": "histogram2dcontour"
           }
          ],
          "mesh3d": [
           {
            "colorbar": {
             "outlinewidth": 0,
             "ticks": ""
            },
            "type": "mesh3d"
           }
          ],
          "parcoords": [
           {
            "line": {
             "colorbar": {
              "outlinewidth": 0,
              "ticks": ""
             }
            },
            "type": "parcoords"
           }
          ],
          "pie": [
           {
            "automargin": true,
            "type": "pie"
           }
          ],
          "scatter": [
           {
            "fillpattern": {
             "fillmode": "overlay",
             "size": 10,
             "solidity": 0.2
            },
            "type": "scatter"
           }
          ],
          "scatter3d": [
           {
            "line": {
             "colorbar": {
              "outlinewidth": 0,
              "ticks": ""
             }
            },
            "marker": {
             "colorbar": {
              "outlinewidth": 0,
              "ticks": ""
             }
            },
            "type": "scatter3d"
           }
          ],
          "scattercarpet": [
           {
            "marker": {
             "colorbar": {
              "outlinewidth": 0,
              "ticks": ""
             }
            },
            "type": "scattercarpet"
           }
          ],
          "scattergeo": [
           {
            "marker": {
             "colorbar": {
              "outlinewidth": 0,
              "ticks": ""
             }
            },
            "type": "scattergeo"
           }
          ],
          "scattergl": [
           {
            "marker": {
             "colorbar": {
              "outlinewidth": 0,
              "ticks": ""
             }
            },
            "type": "scattergl"
           }
          ],
          "scattermap": [
           {
            "marker": {
             "colorbar": {
              "outlinewidth": 0,
              "ticks": ""
             }
            },
            "type": "scattermap"
           }
          ],
          "scattermapbox": [
           {
            "marker": {
             "colorbar": {
              "outlinewidth": 0,
              "ticks": ""
             }
            },
            "type": "scattermapbox"
           }
          ],
          "scatterpolar": [
           {
            "marker": {
             "colorbar": {
              "outlinewidth": 0,
              "ticks": ""
             }
            },
            "type": "scatterpolar"
           }
          ],
          "scatterpolargl": [
           {
            "marker": {
             "colorbar": {
              "outlinewidth": 0,
              "ticks": ""
             }
            },
            "type": "scatterpolargl"
           }
          ],
          "scatterternary": [
           {
            "marker": {
             "colorbar": {
              "outlinewidth": 0,
              "ticks": ""
             }
            },
            "type": "scatterternary"
           }
          ],
          "surface": [
           {
            "colorbar": {
             "outlinewidth": 0,
             "ticks": ""
            },
            "colorscale": [
             [
              0,
              "#0d0887"
             ],
             [
              0.1111111111111111,
              "#46039f"
             ],
             [
              0.2222222222222222,
              "#7201a8"
             ],
             [
              0.3333333333333333,
              "#9c179e"
             ],
             [
              0.4444444444444444,
              "#bd3786"
             ],
             [
              0.5555555555555556,
              "#d8576b"
             ],
             [
              0.6666666666666666,
              "#ed7953"
             ],
             [
              0.7777777777777778,
              "#fb9f3a"
             ],
             [
              0.8888888888888888,
              "#fdca26"
             ],
             [
              1,
              "#f0f921"
             ]
            ],
            "type": "surface"
           }
          ],
          "table": [
           {
            "cells": {
             "fill": {
              "color": "#EBF0F8"
             },
             "line": {
              "color": "white"
             }
            },
            "header": {
             "fill": {
              "color": "#C8D4E3"
             },
             "line": {
              "color": "white"
             }
            },
            "type": "table"
           }
          ]
         },
         "layout": {
          "annotationdefaults": {
           "arrowcolor": "#2a3f5f",
           "arrowhead": 0,
           "arrowwidth": 1
          },
          "autotypenumbers": "strict",
          "coloraxis": {
           "colorbar": {
            "outlinewidth": 0,
            "ticks": ""
           }
          },
          "colorscale": {
           "diverging": [
            [
             0,
             "#8e0152"
            ],
            [
             0.1,
             "#c51b7d"
            ],
            [
             0.2,
             "#de77ae"
            ],
            [
             0.3,
             "#f1b6da"
            ],
            [
             0.4,
             "#fde0ef"
            ],
            [
             0.5,
             "#f7f7f7"
            ],
            [
             0.6,
             "#e6f5d0"
            ],
            [
             0.7,
             "#b8e186"
            ],
            [
             0.8,
             "#7fbc41"
            ],
            [
             0.9,
             "#4d9221"
            ],
            [
             1,
             "#276419"
            ]
           ],
           "sequential": [
            [
             0,
             "#0d0887"
            ],
            [
             0.1111111111111111,
             "#46039f"
            ],
            [
             0.2222222222222222,
             "#7201a8"
            ],
            [
             0.3333333333333333,
             "#9c179e"
            ],
            [
             0.4444444444444444,
             "#bd3786"
            ],
            [
             0.5555555555555556,
             "#d8576b"
            ],
            [
             0.6666666666666666,
             "#ed7953"
            ],
            [
             0.7777777777777778,
             "#fb9f3a"
            ],
            [
             0.8888888888888888,
             "#fdca26"
            ],
            [
             1,
             "#f0f921"
            ]
           ],
           "sequentialminus": [
            [
             0,
             "#0d0887"
            ],
            [
             0.1111111111111111,
             "#46039f"
            ],
            [
             0.2222222222222222,
             "#7201a8"
            ],
            [
             0.3333333333333333,
             "#9c179e"
            ],
            [
             0.4444444444444444,
             "#bd3786"
            ],
            [
             0.5555555555555556,
             "#d8576b"
            ],
            [
             0.6666666666666666,
             "#ed7953"
            ],
            [
             0.7777777777777778,
             "#fb9f3a"
            ],
            [
             0.8888888888888888,
             "#fdca26"
            ],
            [
             1,
             "#f0f921"
            ]
           ]
          },
          "colorway": [
           "#636efa",
           "#EF553B",
           "#00cc96",
           "#ab63fa",
           "#FFA15A",
           "#19d3f3",
           "#FF6692",
           "#B6E880",
           "#FF97FF",
           "#FECB52"
          ],
          "font": {
           "color": "#2a3f5f"
          },
          "geo": {
           "bgcolor": "white",
           "lakecolor": "white",
           "landcolor": "#E5ECF6",
           "showlakes": true,
           "showland": true,
           "subunitcolor": "white"
          },
          "hoverlabel": {
           "align": "left"
          },
          "hovermode": "closest",
          "mapbox": {
           "style": "light"
          },
          "paper_bgcolor": "white",
          "plot_bgcolor": "#E5ECF6",
          "polar": {
           "angularaxis": {
            "gridcolor": "white",
            "linecolor": "white",
            "ticks": ""
           },
           "bgcolor": "#E5ECF6",
           "radialaxis": {
            "gridcolor": "white",
            "linecolor": "white",
            "ticks": ""
           }
          },
          "scene": {
           "xaxis": {
            "backgroundcolor": "#E5ECF6",
            "gridcolor": "white",
            "gridwidth": 2,
            "linecolor": "white",
            "showbackground": true,
            "ticks": "",
            "zerolinecolor": "white"
           },
           "yaxis": {
            "backgroundcolor": "#E5ECF6",
            "gridcolor": "white",
            "gridwidth": 2,
            "linecolor": "white",
            "showbackground": true,
            "ticks": "",
            "zerolinecolor": "white"
           },
           "zaxis": {
            "backgroundcolor": "#E5ECF6",
            "gridcolor": "white",
            "gridwidth": 2,
            "linecolor": "white",
            "showbackground": true,
            "ticks": "",
            "zerolinecolor": "white"
           }
          },
          "shapedefaults": {
           "line": {
            "color": "#2a3f5f"
           }
          },
          "ternary": {
           "aaxis": {
            "gridcolor": "white",
            "linecolor": "white",
            "ticks": ""
           },
           "baxis": {
            "gridcolor": "white",
            "linecolor": "white",
            "ticks": ""
           },
           "bgcolor": "#E5ECF6",
           "caxis": {
            "gridcolor": "white",
            "linecolor": "white",
            "ticks": ""
           }
          },
          "title": {
           "x": 0.05
          },
          "xaxis": {
           "automargin": true,
           "gridcolor": "white",
           "linecolor": "white",
           "ticks": "",
           "title": {
            "standoff": 15
           },
           "zerolinecolor": "white",
           "zerolinewidth": 2
          },
          "yaxis": {
           "automargin": true,
           "gridcolor": "white",
           "linecolor": "white",
           "ticks": "",
           "title": {
            "standoff": 15
           },
           "zerolinecolor": "white",
           "zerolinewidth": 2
          }
         }
        },
        "title": {
         "text": "Execution time of ForecasterRecursive_predict"
        },
        "xaxis": {
         "tickangle": -45,
         "tickmode": "array",
         "ticktext": [
          "0.15.1",
          "0.16.0"
         ],
         "tickvals": [
          0,
          1
         ],
         "title": {
          "text": "skforecast version"
         }
        },
        "yaxis": {
         "title": {
          "text": "Execution time (seconds)"
         }
        }
       }
      }
     },
     "metadata": {},
     "output_type": "display_data"
    },
    {
     "data": {
      "application/vnd.plotly.v1+json": {
       "config": {
        "plotlyServerURL": "https://plot.ly"
       },
       "data": [
        {
         "error_y": {
          "array": {
           "bdata": "XEpvnlP3Kj8=",
           "dtype": "f8"
          },
          "color": "#636EFA",
          "thickness": 1.5,
          "type": "data",
          "visible": true,
          "width": 5
         },
         "hovertemplate": "%{text}<extra></extra>",
         "marker": {
          "color": "#636EFA",
          "opacity": 0.7,
          "size": 10
         },
         "mode": "markers",
         "name": "Run time - 0.15.1",
         "showlegend": true,
         "text": [
          "Forecaster: ForecasterRecursive<br>Regressor: LGBMRegressor<br>Function: ForecasterRecursive__create_predict_inputs<br>Function_hash: 0f4a625e8b1bb7e3f0c5bb77a04cc2fb<br>Datetime: 2025-04-24 23:06:12.804417<br>Python version: 3.12.9<br>skforecast version: 0.15.1<br>numpy version: 2.2.5<br>pandas version: 2.2.3<br>sklearn version: 1.6.1<br>lightgbm version: 4.6.0<br>Platform: Linux-6.11.0-24-generic-x86_64-with-glibc2.39<br>Processor: x86_64<br>CPU count: 8<br>Memory (GB): 16.64<br>"
         ],
         "type": "scatter",
         "x": {
          "bdata": "fByzX9/Fir8=",
          "dtype": "f8"
         },
         "y": {
          "bdata": "d3f3s41wZT8=",
          "dtype": "f8"
         }
        },
        {
         "error_y": {
          "array": {
           "bdata": "FtWsfcUyNj8=",
           "dtype": "f8"
          },
          "color": "#EF553B",
          "thickness": 1.5,
          "type": "data",
          "visible": true,
          "width": 5
         },
         "hovertemplate": "%{text}<extra></extra>",
         "marker": {
          "color": "#EF553B",
          "opacity": 0.7,
          "size": 10
         },
         "mode": "markers",
         "name": "Run time - 0.16.0",
         "showlegend": true,
         "text": [
          "Forecaster: ForecasterRecursive<br>Regressor: LGBMRegressor<br>Function: ForecasterRecursive__create_predict_inputs<br>Function_hash: 0f4a625e8b1bb7e3f0c5bb77a04cc2fb<br>Datetime: 2025-04-24 22:43:39.775270<br>Python version: 3.12.9<br>skforecast version: 0.16.0<br>numpy version: 2.2.5<br>pandas version: 2.2.3<br>sklearn version: 1.6.1<br>lightgbm version: 4.6.0<br>Platform: Linux-6.11.0-24-generic-x86_64-with-glibc2.39<br>Processor: x86_64<br>CPU count: 8<br>Memory (GB): 16.64<br>"
         ],
         "type": "scatter",
         "x": {
          "bdata": "UFKCnpAh8D8=",
          "dtype": "f8"
         },
         "y": {
          "bdata": "MzPTqP+zYT8=",
          "dtype": "f8"
         }
        },
        {
         "line": {
          "color": "black",
          "width": 2
         },
         "marker": {
          "color": "black",
          "size": 8
         },
         "mode": "lines+markers",
         "name": "Median (per version)",
         "type": "scatter",
         "x": {
          "bdata": "AAE=",
          "dtype": "i1"
         },
         "y": {
          "bdata": "d3f3s41wZT8zM9Oo/7NhPw==",
          "dtype": "f8"
         }
        },
        {
         "line": {
          "color": "black",
          "dash": "dash",
          "width": 2
         },
         "marker": {
          "color": "black",
          "size": 8
         },
         "mode": "lines+markers",
         "name": "Mean (per version)",
         "type": "scatter",
         "x": {
          "bdata": "AAE=",
          "dtype": "i1"
         },
         "y": {
          "bdata": "d3f3s41wZT8zM9Oo/7NhPw==",
          "dtype": "f8"
         }
        }
       ],
       "layout": {
        "showlegend": true,
        "template": {
         "data": {
          "bar": [
           {
            "error_x": {
             "color": "#2a3f5f"
            },
            "error_y": {
             "color": "#2a3f5f"
            },
            "marker": {
             "line": {
              "color": "#E5ECF6",
              "width": 0.5
             },
             "pattern": {
              "fillmode": "overlay",
              "size": 10,
              "solidity": 0.2
             }
            },
            "type": "bar"
           }
          ],
          "barpolar": [
           {
            "marker": {
             "line": {
              "color": "#E5ECF6",
              "width": 0.5
             },
             "pattern": {
              "fillmode": "overlay",
              "size": 10,
              "solidity": 0.2
             }
            },
            "type": "barpolar"
           }
          ],
          "carpet": [
           {
            "aaxis": {
             "endlinecolor": "#2a3f5f",
             "gridcolor": "white",
             "linecolor": "white",
             "minorgridcolor": "white",
             "startlinecolor": "#2a3f5f"
            },
            "baxis": {
             "endlinecolor": "#2a3f5f",
             "gridcolor": "white",
             "linecolor": "white",
             "minorgridcolor": "white",
             "startlinecolor": "#2a3f5f"
            },
            "type": "carpet"
           }
          ],
          "choropleth": [
           {
            "colorbar": {
             "outlinewidth": 0,
             "ticks": ""
            },
            "type": "choropleth"
           }
          ],
          "contour": [
           {
            "colorbar": {
             "outlinewidth": 0,
             "ticks": ""
            },
            "colorscale": [
             [
              0,
              "#0d0887"
             ],
             [
              0.1111111111111111,
              "#46039f"
             ],
             [
              0.2222222222222222,
              "#7201a8"
             ],
             [
              0.3333333333333333,
              "#9c179e"
             ],
             [
              0.4444444444444444,
              "#bd3786"
             ],
             [
              0.5555555555555556,
              "#d8576b"
             ],
             [
              0.6666666666666666,
              "#ed7953"
             ],
             [
              0.7777777777777778,
              "#fb9f3a"
             ],
             [
              0.8888888888888888,
              "#fdca26"
             ],
             [
              1,
              "#f0f921"
             ]
            ],
            "type": "contour"
           }
          ],
          "contourcarpet": [
           {
            "colorbar": {
             "outlinewidth": 0,
             "ticks": ""
            },
            "type": "contourcarpet"
           }
          ],
          "heatmap": [
           {
            "colorbar": {
             "outlinewidth": 0,
             "ticks": ""
            },
            "colorscale": [
             [
              0,
              "#0d0887"
             ],
             [
              0.1111111111111111,
              "#46039f"
             ],
             [
              0.2222222222222222,
              "#7201a8"
             ],
             [
              0.3333333333333333,
              "#9c179e"
             ],
             [
              0.4444444444444444,
              "#bd3786"
             ],
             [
              0.5555555555555556,
              "#d8576b"
             ],
             [
              0.6666666666666666,
              "#ed7953"
             ],
             [
              0.7777777777777778,
              "#fb9f3a"
             ],
             [
              0.8888888888888888,
              "#fdca26"
             ],
             [
              1,
              "#f0f921"
             ]
            ],
            "type": "heatmap"
           }
          ],
          "histogram": [
           {
            "marker": {
             "pattern": {
              "fillmode": "overlay",
              "size": 10,
              "solidity": 0.2
             }
            },
            "type": "histogram"
           }
          ],
          "histogram2d": [
           {
            "colorbar": {
             "outlinewidth": 0,
             "ticks": ""
            },
            "colorscale": [
             [
              0,
              "#0d0887"
             ],
             [
              0.1111111111111111,
              "#46039f"
             ],
             [
              0.2222222222222222,
              "#7201a8"
             ],
             [
              0.3333333333333333,
              "#9c179e"
             ],
             [
              0.4444444444444444,
              "#bd3786"
             ],
             [
              0.5555555555555556,
              "#d8576b"
             ],
             [
              0.6666666666666666,
              "#ed7953"
             ],
             [
              0.7777777777777778,
              "#fb9f3a"
             ],
             [
              0.8888888888888888,
              "#fdca26"
             ],
             [
              1,
              "#f0f921"
             ]
            ],
            "type": "histogram2d"
           }
          ],
          "histogram2dcontour": [
           {
            "colorbar": {
             "outlinewidth": 0,
             "ticks": ""
            },
            "colorscale": [
             [
              0,
              "#0d0887"
             ],
             [
              0.1111111111111111,
              "#46039f"
             ],
             [
              0.2222222222222222,
              "#7201a8"
             ],
             [
              0.3333333333333333,
              "#9c179e"
             ],
             [
              0.4444444444444444,
              "#bd3786"
             ],
             [
              0.5555555555555556,
              "#d8576b"
             ],
             [
              0.6666666666666666,
              "#ed7953"
             ],
             [
              0.7777777777777778,
              "#fb9f3a"
             ],
             [
              0.8888888888888888,
              "#fdca26"
             ],
             [
              1,
              "#f0f921"
             ]
            ],
            "type": "histogram2dcontour"
           }
          ],
          "mesh3d": [
           {
            "colorbar": {
             "outlinewidth": 0,
             "ticks": ""
            },
            "type": "mesh3d"
           }
          ],
          "parcoords": [
           {
            "line": {
             "colorbar": {
              "outlinewidth": 0,
              "ticks": ""
             }
            },
            "type": "parcoords"
           }
          ],
          "pie": [
           {
            "automargin": true,
            "type": "pie"
           }
          ],
          "scatter": [
           {
            "fillpattern": {
             "fillmode": "overlay",
             "size": 10,
             "solidity": 0.2
            },
            "type": "scatter"
           }
          ],
          "scatter3d": [
           {
            "line": {
             "colorbar": {
              "outlinewidth": 0,
              "ticks": ""
             }
            },
            "marker": {
             "colorbar": {
              "outlinewidth": 0,
              "ticks": ""
             }
            },
            "type": "scatter3d"
           }
          ],
          "scattercarpet": [
           {
            "marker": {
             "colorbar": {
              "outlinewidth": 0,
              "ticks": ""
             }
            },
            "type": "scattercarpet"
           }
          ],
          "scattergeo": [
           {
            "marker": {
             "colorbar": {
              "outlinewidth": 0,
              "ticks": ""
             }
            },
            "type": "scattergeo"
           }
          ],
          "scattergl": [
           {
            "marker": {
             "colorbar": {
              "outlinewidth": 0,
              "ticks": ""
             }
            },
            "type": "scattergl"
           }
          ],
          "scattermap": [
           {
            "marker": {
             "colorbar": {
              "outlinewidth": 0,
              "ticks": ""
             }
            },
            "type": "scattermap"
           }
          ],
          "scattermapbox": [
           {
            "marker": {
             "colorbar": {
              "outlinewidth": 0,
              "ticks": ""
             }
            },
            "type": "scattermapbox"
           }
          ],
          "scatterpolar": [
           {
            "marker": {
             "colorbar": {
              "outlinewidth": 0,
              "ticks": ""
             }
            },
            "type": "scatterpolar"
           }
          ],
          "scatterpolargl": [
           {
            "marker": {
             "colorbar": {
              "outlinewidth": 0,
              "ticks": ""
             }
            },
            "type": "scatterpolargl"
           }
          ],
          "scatterternary": [
           {
            "marker": {
             "colorbar": {
              "outlinewidth": 0,
              "ticks": ""
             }
            },
            "type": "scatterternary"
           }
          ],
          "surface": [
           {
            "colorbar": {
             "outlinewidth": 0,
             "ticks": ""
            },
            "colorscale": [
             [
              0,
              "#0d0887"
             ],
             [
              0.1111111111111111,
              "#46039f"
             ],
             [
              0.2222222222222222,
              "#7201a8"
             ],
             [
              0.3333333333333333,
              "#9c179e"
             ],
             [
              0.4444444444444444,
              "#bd3786"
             ],
             [
              0.5555555555555556,
              "#d8576b"
             ],
             [
              0.6666666666666666,
              "#ed7953"
             ],
             [
              0.7777777777777778,
              "#fb9f3a"
             ],
             [
              0.8888888888888888,
              "#fdca26"
             ],
             [
              1,
              "#f0f921"
             ]
            ],
            "type": "surface"
           }
          ],
          "table": [
           {
            "cells": {
             "fill": {
              "color": "#EBF0F8"
             },
             "line": {
              "color": "white"
             }
            },
            "header": {
             "fill": {
              "color": "#C8D4E3"
             },
             "line": {
              "color": "white"
             }
            },
            "type": "table"
           }
          ]
         },
         "layout": {
          "annotationdefaults": {
           "arrowcolor": "#2a3f5f",
           "arrowhead": 0,
           "arrowwidth": 1
          },
          "autotypenumbers": "strict",
          "coloraxis": {
           "colorbar": {
            "outlinewidth": 0,
            "ticks": ""
           }
          },
          "colorscale": {
           "diverging": [
            [
             0,
             "#8e0152"
            ],
            [
             0.1,
             "#c51b7d"
            ],
            [
             0.2,
             "#de77ae"
            ],
            [
             0.3,
             "#f1b6da"
            ],
            [
             0.4,
             "#fde0ef"
            ],
            [
             0.5,
             "#f7f7f7"
            ],
            [
             0.6,
             "#e6f5d0"
            ],
            [
             0.7,
             "#b8e186"
            ],
            [
             0.8,
             "#7fbc41"
            ],
            [
             0.9,
             "#4d9221"
            ],
            [
             1,
             "#276419"
            ]
           ],
           "sequential": [
            [
             0,
             "#0d0887"
            ],
            [
             0.1111111111111111,
             "#46039f"
            ],
            [
             0.2222222222222222,
             "#7201a8"
            ],
            [
             0.3333333333333333,
             "#9c179e"
            ],
            [
             0.4444444444444444,
             "#bd3786"
            ],
            [
             0.5555555555555556,
             "#d8576b"
            ],
            [
             0.6666666666666666,
             "#ed7953"
            ],
            [
             0.7777777777777778,
             "#fb9f3a"
            ],
            [
             0.8888888888888888,
             "#fdca26"
            ],
            [
             1,
             "#f0f921"
            ]
           ],
           "sequentialminus": [
            [
             0,
             "#0d0887"
            ],
            [
             0.1111111111111111,
             "#46039f"
            ],
            [
             0.2222222222222222,
             "#7201a8"
            ],
            [
             0.3333333333333333,
             "#9c179e"
            ],
            [
             0.4444444444444444,
             "#bd3786"
            ],
            [
             0.5555555555555556,
             "#d8576b"
            ],
            [
             0.6666666666666666,
             "#ed7953"
            ],
            [
             0.7777777777777778,
             "#fb9f3a"
            ],
            [
             0.8888888888888888,
             "#fdca26"
            ],
            [
             1,
             "#f0f921"
            ]
           ]
          },
          "colorway": [
           "#636efa",
           "#EF553B",
           "#00cc96",
           "#ab63fa",
           "#FFA15A",
           "#19d3f3",
           "#FF6692",
           "#B6E880",
           "#FF97FF",
           "#FECB52"
          ],
          "font": {
           "color": "#2a3f5f"
          },
          "geo": {
           "bgcolor": "white",
           "lakecolor": "white",
           "landcolor": "#E5ECF6",
           "showlakes": true,
           "showland": true,
           "subunitcolor": "white"
          },
          "hoverlabel": {
           "align": "left"
          },
          "hovermode": "closest",
          "mapbox": {
           "style": "light"
          },
          "paper_bgcolor": "white",
          "plot_bgcolor": "#E5ECF6",
          "polar": {
           "angularaxis": {
            "gridcolor": "white",
            "linecolor": "white",
            "ticks": ""
           },
           "bgcolor": "#E5ECF6",
           "radialaxis": {
            "gridcolor": "white",
            "linecolor": "white",
            "ticks": ""
           }
          },
          "scene": {
           "xaxis": {
            "backgroundcolor": "#E5ECF6",
            "gridcolor": "white",
            "gridwidth": 2,
            "linecolor": "white",
            "showbackground": true,
            "ticks": "",
            "zerolinecolor": "white"
           },
           "yaxis": {
            "backgroundcolor": "#E5ECF6",
            "gridcolor": "white",
            "gridwidth": 2,
            "linecolor": "white",
            "showbackground": true,
            "ticks": "",
            "zerolinecolor": "white"
           },
           "zaxis": {
            "backgroundcolor": "#E5ECF6",
            "gridcolor": "white",
            "gridwidth": 2,
            "linecolor": "white",
            "showbackground": true,
            "ticks": "",
            "zerolinecolor": "white"
           }
          },
          "shapedefaults": {
           "line": {
            "color": "#2a3f5f"
           }
          },
          "ternary": {
           "aaxis": {
            "gridcolor": "white",
            "linecolor": "white",
            "ticks": ""
           },
           "baxis": {
            "gridcolor": "white",
            "linecolor": "white",
            "ticks": ""
           },
           "bgcolor": "#E5ECF6",
           "caxis": {
            "gridcolor": "white",
            "linecolor": "white",
            "ticks": ""
           }
          },
          "title": {
           "x": 0.05
          },
          "xaxis": {
           "automargin": true,
           "gridcolor": "white",
           "linecolor": "white",
           "ticks": "",
           "title": {
            "standoff": 15
           },
           "zerolinecolor": "white",
           "zerolinewidth": 2
          },
          "yaxis": {
           "automargin": true,
           "gridcolor": "white",
           "linecolor": "white",
           "ticks": "",
           "title": {
            "standoff": 15
           },
           "zerolinecolor": "white",
           "zerolinewidth": 2
          }
         }
        },
        "title": {
         "text": "Execution time of ForecasterRecursive__create_predict_inputs"
        },
        "xaxis": {
         "tickangle": -45,
         "tickmode": "array",
         "ticktext": [
          "0.15.1",
          "0.16.0"
         ],
         "tickvals": [
          0,
          1
         ],
         "title": {
          "text": "skforecast version"
         }
        },
        "yaxis": {
         "title": {
          "text": "Execution time (seconds)"
         }
        }
       }
      }
     },
     "metadata": {},
     "output_type": "display_data"
    },
    {
     "data": {
      "application/vnd.plotly.v1+json": {
       "config": {
        "plotlyServerURL": "https://plot.ly"
       },
       "data": [
        {
         "error_y": {
          "array": {
           "bdata": "oYh4ELourD8=",
           "dtype": "f8"
          },
          "color": "#636EFA",
          "thickness": 1.5,
          "type": "data",
          "visible": true,
          "width": 5
         },
         "hovertemplate": "%{text}<extra></extra>",
         "marker": {
          "color": "#636EFA",
          "opacity": 0.7,
          "size": 10
         },
         "mode": "markers",
         "name": "Run time - 0.15.1",
         "showlegend": true,
         "text": [
          "Forecaster: ForecasterRecursive<br>Regressor: LGBMRegressor<br>Function: ForecasterRecursive_backtesting<br>Function_hash: dad167768fbdc53eca10d293c5861956<br>Datetime: 2025-04-24 23:06:16.251176<br>Python version: 3.12.9<br>skforecast version: 0.15.1<br>numpy version: 2.2.5<br>pandas version: 2.2.3<br>sklearn version: 1.6.1<br>lightgbm version: 4.6.0<br>Platform: Linux-6.11.0-24-generic-x86_64-with-glibc2.39<br>Processor: x86_64<br>CPU count: 8<br>Memory (GB): 16.64<br>"
         ],
         "type": "scatter",
         "x": {
          "bdata": "fByzX9/Fir8=",
          "dtype": "f8"
         },
         "y": {
          "bdata": "M/MhFAAI5j8=",
          "dtype": "f8"
         }
        },
        {
         "error_y": {
          "array": {
           "bdata": "ZzOGfcFIrD8=",
           "dtype": "f8"
          },
          "color": "#EF553B",
          "thickness": 1.5,
          "type": "data",
          "visible": true,
          "width": 5
         },
         "hovertemplate": "%{text}<extra></extra>",
         "marker": {
          "color": "#EF553B",
          "opacity": 0.7,
          "size": 10
         },
         "mode": "markers",
         "name": "Run time - 0.16.0",
         "showlegend": true,
         "text": [
          "Forecaster: ForecasterRecursive<br>Regressor: LGBMRegressor<br>Function: ForecasterRecursive_backtesting<br>Function_hash: dad167768fbdc53eca10d293c5861956<br>Datetime: 2025-04-24 22:43:43.432574<br>Python version: 3.12.9<br>skforecast version: 0.16.0<br>numpy version: 2.2.5<br>pandas version: 2.2.3<br>sklearn version: 1.6.1<br>lightgbm version: 4.6.0<br>Platform: Linux-6.11.0-24-generic-x86_64-with-glibc2.39<br>Processor: x86_64<br>CPU count: 8<br>Memory (GB): 16.64<br>"
         ],
         "type": "scatter",
         "x": {
          "bdata": "UFKCnpAh8D8=",
          "dtype": "f8"
         },
         "y": {
          "bdata": "Zib72vZe5z8=",
          "dtype": "f8"
         }
        },
        {
         "line": {
          "color": "black",
          "width": 2
         },
         "marker": {
          "color": "black",
          "size": 8
         },
         "mode": "lines+markers",
         "name": "Median (per version)",
         "type": "scatter",
         "x": {
          "bdata": "AAE=",
          "dtype": "i1"
         },
         "y": {
          "bdata": "M/MhFAAI5j9mJvva9l7nPw==",
          "dtype": "f8"
         }
        },
        {
         "line": {
          "color": "black",
          "dash": "dash",
          "width": 2
         },
         "marker": {
          "color": "black",
          "size": 8
         },
         "mode": "lines+markers",
         "name": "Mean (per version)",
         "type": "scatter",
         "x": {
          "bdata": "AAE=",
          "dtype": "i1"
         },
         "y": {
          "bdata": "M/MhFAAI5j9mJvva9l7nPw==",
          "dtype": "f8"
         }
        }
       ],
       "layout": {
        "showlegend": true,
        "template": {
         "data": {
          "bar": [
           {
            "error_x": {
             "color": "#2a3f5f"
            },
            "error_y": {
             "color": "#2a3f5f"
            },
            "marker": {
             "line": {
              "color": "#E5ECF6",
              "width": 0.5
             },
             "pattern": {
              "fillmode": "overlay",
              "size": 10,
              "solidity": 0.2
             }
            },
            "type": "bar"
           }
          ],
          "barpolar": [
           {
            "marker": {
             "line": {
              "color": "#E5ECF6",
              "width": 0.5
             },
             "pattern": {
              "fillmode": "overlay",
              "size": 10,
              "solidity": 0.2
             }
            },
            "type": "barpolar"
           }
          ],
          "carpet": [
           {
            "aaxis": {
             "endlinecolor": "#2a3f5f",
             "gridcolor": "white",
             "linecolor": "white",
             "minorgridcolor": "white",
             "startlinecolor": "#2a3f5f"
            },
            "baxis": {
             "endlinecolor": "#2a3f5f",
             "gridcolor": "white",
             "linecolor": "white",
             "minorgridcolor": "white",
             "startlinecolor": "#2a3f5f"
            },
            "type": "carpet"
           }
          ],
          "choropleth": [
           {
            "colorbar": {
             "outlinewidth": 0,
             "ticks": ""
            },
            "type": "choropleth"
           }
          ],
          "contour": [
           {
            "colorbar": {
             "outlinewidth": 0,
             "ticks": ""
            },
            "colorscale": [
             [
              0,
              "#0d0887"
             ],
             [
              0.1111111111111111,
              "#46039f"
             ],
             [
              0.2222222222222222,
              "#7201a8"
             ],
             [
              0.3333333333333333,
              "#9c179e"
             ],
             [
              0.4444444444444444,
              "#bd3786"
             ],
             [
              0.5555555555555556,
              "#d8576b"
             ],
             [
              0.6666666666666666,
              "#ed7953"
             ],
             [
              0.7777777777777778,
              "#fb9f3a"
             ],
             [
              0.8888888888888888,
              "#fdca26"
             ],
             [
              1,
              "#f0f921"
             ]
            ],
            "type": "contour"
           }
          ],
          "contourcarpet": [
           {
            "colorbar": {
             "outlinewidth": 0,
             "ticks": ""
            },
            "type": "contourcarpet"
           }
          ],
          "heatmap": [
           {
            "colorbar": {
             "outlinewidth": 0,
             "ticks": ""
            },
            "colorscale": [
             [
              0,
              "#0d0887"
             ],
             [
              0.1111111111111111,
              "#46039f"
             ],
             [
              0.2222222222222222,
              "#7201a8"
             ],
             [
              0.3333333333333333,
              "#9c179e"
             ],
             [
              0.4444444444444444,
              "#bd3786"
             ],
             [
              0.5555555555555556,
              "#d8576b"
             ],
             [
              0.6666666666666666,
              "#ed7953"
             ],
             [
              0.7777777777777778,
              "#fb9f3a"
             ],
             [
              0.8888888888888888,
              "#fdca26"
             ],
             [
              1,
              "#f0f921"
             ]
            ],
            "type": "heatmap"
           }
          ],
          "histogram": [
           {
            "marker": {
             "pattern": {
              "fillmode": "overlay",
              "size": 10,
              "solidity": 0.2
             }
            },
            "type": "histogram"
           }
          ],
          "histogram2d": [
           {
            "colorbar": {
             "outlinewidth": 0,
             "ticks": ""
            },
            "colorscale": [
             [
              0,
              "#0d0887"
             ],
             [
              0.1111111111111111,
              "#46039f"
             ],
             [
              0.2222222222222222,
              "#7201a8"
             ],
             [
              0.3333333333333333,
              "#9c179e"
             ],
             [
              0.4444444444444444,
              "#bd3786"
             ],
             [
              0.5555555555555556,
              "#d8576b"
             ],
             [
              0.6666666666666666,
              "#ed7953"
             ],
             [
              0.7777777777777778,
              "#fb9f3a"
             ],
             [
              0.8888888888888888,
              "#fdca26"
             ],
             [
              1,
              "#f0f921"
             ]
            ],
            "type": "histogram2d"
           }
          ],
          "histogram2dcontour": [
           {
            "colorbar": {
             "outlinewidth": 0,
             "ticks": ""
            },
            "colorscale": [
             [
              0,
              "#0d0887"
             ],
             [
              0.1111111111111111,
              "#46039f"
             ],
             [
              0.2222222222222222,
              "#7201a8"
             ],
             [
              0.3333333333333333,
              "#9c179e"
             ],
             [
              0.4444444444444444,
              "#bd3786"
             ],
             [
              0.5555555555555556,
              "#d8576b"
             ],
             [
              0.6666666666666666,
              "#ed7953"
             ],
             [
              0.7777777777777778,
              "#fb9f3a"
             ],
             [
              0.8888888888888888,
              "#fdca26"
             ],
             [
              1,
              "#f0f921"
             ]
            ],
            "type": "histogram2dcontour"
           }
          ],
          "mesh3d": [
           {
            "colorbar": {
             "outlinewidth": 0,
             "ticks": ""
            },
            "type": "mesh3d"
           }
          ],
          "parcoords": [
           {
            "line": {
             "colorbar": {
              "outlinewidth": 0,
              "ticks": ""
             }
            },
            "type": "parcoords"
           }
          ],
          "pie": [
           {
            "automargin": true,
            "type": "pie"
           }
          ],
          "scatter": [
           {
            "fillpattern": {
             "fillmode": "overlay",
             "size": 10,
             "solidity": 0.2
            },
            "type": "scatter"
           }
          ],
          "scatter3d": [
           {
            "line": {
             "colorbar": {
              "outlinewidth": 0,
              "ticks": ""
             }
            },
            "marker": {
             "colorbar": {
              "outlinewidth": 0,
              "ticks": ""
             }
            },
            "type": "scatter3d"
           }
          ],
          "scattercarpet": [
           {
            "marker": {
             "colorbar": {
              "outlinewidth": 0,
              "ticks": ""
             }
            },
            "type": "scattercarpet"
           }
          ],
          "scattergeo": [
           {
            "marker": {
             "colorbar": {
              "outlinewidth": 0,
              "ticks": ""
             }
            },
            "type": "scattergeo"
           }
          ],
          "scattergl": [
           {
            "marker": {
             "colorbar": {
              "outlinewidth": 0,
              "ticks": ""
             }
            },
            "type": "scattergl"
           }
          ],
          "scattermap": [
           {
            "marker": {
             "colorbar": {
              "outlinewidth": 0,
              "ticks": ""
             }
            },
            "type": "scattermap"
           }
          ],
          "scattermapbox": [
           {
            "marker": {
             "colorbar": {
              "outlinewidth": 0,
              "ticks": ""
             }
            },
            "type": "scattermapbox"
           }
          ],
          "scatterpolar": [
           {
            "marker": {
             "colorbar": {
              "outlinewidth": 0,
              "ticks": ""
             }
            },
            "type": "scatterpolar"
           }
          ],
          "scatterpolargl": [
           {
            "marker": {
             "colorbar": {
              "outlinewidth": 0,
              "ticks": ""
             }
            },
            "type": "scatterpolargl"
           }
          ],
          "scatterternary": [
           {
            "marker": {
             "colorbar": {
              "outlinewidth": 0,
              "ticks": ""
             }
            },
            "type": "scatterternary"
           }
          ],
          "surface": [
           {
            "colorbar": {
             "outlinewidth": 0,
             "ticks": ""
            },
            "colorscale": [
             [
              0,
              "#0d0887"
             ],
             [
              0.1111111111111111,
              "#46039f"
             ],
             [
              0.2222222222222222,
              "#7201a8"
             ],
             [
              0.3333333333333333,
              "#9c179e"
             ],
             [
              0.4444444444444444,
              "#bd3786"
             ],
             [
              0.5555555555555556,
              "#d8576b"
             ],
             [
              0.6666666666666666,
              "#ed7953"
             ],
             [
              0.7777777777777778,
              "#fb9f3a"
             ],
             [
              0.8888888888888888,
              "#fdca26"
             ],
             [
              1,
              "#f0f921"
             ]
            ],
            "type": "surface"
           }
          ],
          "table": [
           {
            "cells": {
             "fill": {
              "color": "#EBF0F8"
             },
             "line": {
              "color": "white"
             }
            },
            "header": {
             "fill": {
              "color": "#C8D4E3"
             },
             "line": {
              "color": "white"
             }
            },
            "type": "table"
           }
          ]
         },
         "layout": {
          "annotationdefaults": {
           "arrowcolor": "#2a3f5f",
           "arrowhead": 0,
           "arrowwidth": 1
          },
          "autotypenumbers": "strict",
          "coloraxis": {
           "colorbar": {
            "outlinewidth": 0,
            "ticks": ""
           }
          },
          "colorscale": {
           "diverging": [
            [
             0,
             "#8e0152"
            ],
            [
             0.1,
             "#c51b7d"
            ],
            [
             0.2,
             "#de77ae"
            ],
            [
             0.3,
             "#f1b6da"
            ],
            [
             0.4,
             "#fde0ef"
            ],
            [
             0.5,
             "#f7f7f7"
            ],
            [
             0.6,
             "#e6f5d0"
            ],
            [
             0.7,
             "#b8e186"
            ],
            [
             0.8,
             "#7fbc41"
            ],
            [
             0.9,
             "#4d9221"
            ],
            [
             1,
             "#276419"
            ]
           ],
           "sequential": [
            [
             0,
             "#0d0887"
            ],
            [
             0.1111111111111111,
             "#46039f"
            ],
            [
             0.2222222222222222,
             "#7201a8"
            ],
            [
             0.3333333333333333,
             "#9c179e"
            ],
            [
             0.4444444444444444,
             "#bd3786"
            ],
            [
             0.5555555555555556,
             "#d8576b"
            ],
            [
             0.6666666666666666,
             "#ed7953"
            ],
            [
             0.7777777777777778,
             "#fb9f3a"
            ],
            [
             0.8888888888888888,
             "#fdca26"
            ],
            [
             1,
             "#f0f921"
            ]
           ],
           "sequentialminus": [
            [
             0,
             "#0d0887"
            ],
            [
             0.1111111111111111,
             "#46039f"
            ],
            [
             0.2222222222222222,
             "#7201a8"
            ],
            [
             0.3333333333333333,
             "#9c179e"
            ],
            [
             0.4444444444444444,
             "#bd3786"
            ],
            [
             0.5555555555555556,
             "#d8576b"
            ],
            [
             0.6666666666666666,
             "#ed7953"
            ],
            [
             0.7777777777777778,
             "#fb9f3a"
            ],
            [
             0.8888888888888888,
             "#fdca26"
            ],
            [
             1,
             "#f0f921"
            ]
           ]
          },
          "colorway": [
           "#636efa",
           "#EF553B",
           "#00cc96",
           "#ab63fa",
           "#FFA15A",
           "#19d3f3",
           "#FF6692",
           "#B6E880",
           "#FF97FF",
           "#FECB52"
          ],
          "font": {
           "color": "#2a3f5f"
          },
          "geo": {
           "bgcolor": "white",
           "lakecolor": "white",
           "landcolor": "#E5ECF6",
           "showlakes": true,
           "showland": true,
           "subunitcolor": "white"
          },
          "hoverlabel": {
           "align": "left"
          },
          "hovermode": "closest",
          "mapbox": {
           "style": "light"
          },
          "paper_bgcolor": "white",
          "plot_bgcolor": "#E5ECF6",
          "polar": {
           "angularaxis": {
            "gridcolor": "white",
            "linecolor": "white",
            "ticks": ""
           },
           "bgcolor": "#E5ECF6",
           "radialaxis": {
            "gridcolor": "white",
            "linecolor": "white",
            "ticks": ""
           }
          },
          "scene": {
           "xaxis": {
            "backgroundcolor": "#E5ECF6",
            "gridcolor": "white",
            "gridwidth": 2,
            "linecolor": "white",
            "showbackground": true,
            "ticks": "",
            "zerolinecolor": "white"
           },
           "yaxis": {
            "backgroundcolor": "#E5ECF6",
            "gridcolor": "white",
            "gridwidth": 2,
            "linecolor": "white",
            "showbackground": true,
            "ticks": "",
            "zerolinecolor": "white"
           },
           "zaxis": {
            "backgroundcolor": "#E5ECF6",
            "gridcolor": "white",
            "gridwidth": 2,
            "linecolor": "white",
            "showbackground": true,
            "ticks": "",
            "zerolinecolor": "white"
           }
          },
          "shapedefaults": {
           "line": {
            "color": "#2a3f5f"
           }
          },
          "ternary": {
           "aaxis": {
            "gridcolor": "white",
            "linecolor": "white",
            "ticks": ""
           },
           "baxis": {
            "gridcolor": "white",
            "linecolor": "white",
            "ticks": ""
           },
           "bgcolor": "#E5ECF6",
           "caxis": {
            "gridcolor": "white",
            "linecolor": "white",
            "ticks": ""
           }
          },
          "title": {
           "x": 0.05
          },
          "xaxis": {
           "automargin": true,
           "gridcolor": "white",
           "linecolor": "white",
           "ticks": "",
           "title": {
            "standoff": 15
           },
           "zerolinecolor": "white",
           "zerolinewidth": 2
          },
          "yaxis": {
           "automargin": true,
           "gridcolor": "white",
           "linecolor": "white",
           "ticks": "",
           "title": {
            "standoff": 15
           },
           "zerolinecolor": "white",
           "zerolinewidth": 2
          }
         }
        },
        "title": {
         "text": "Execution time of ForecasterRecursive_backtesting"
        },
        "xaxis": {
         "tickangle": -45,
         "tickmode": "array",
         "ticktext": [
          "0.15.1",
          "0.16.0"
         ],
         "tickvals": [
          0,
          1
         ],
         "title": {
          "text": "skforecast version"
         }
        },
        "yaxis": {
         "title": {
          "text": "Execution time (seconds)"
         }
        }
       }
      }
     },
     "metadata": {},
     "output_type": "display_data"
    },
    {
     "data": {
      "application/vnd.plotly.v1+json": {
       "config": {
        "plotlyServerURL": "https://plot.ly"
       },
       "data": [
        {
         "error_y": {
          "array": {
           "bdata": "DRVVuOs/mz8=",
           "dtype": "f8"
          },
          "color": "#636EFA",
          "thickness": 1.5,
          "type": "data",
          "visible": true,
          "width": 5
         },
         "hovertemplate": "%{text}<extra></extra>",
         "marker": {
          "color": "#636EFA",
          "opacity": 0.7,
          "size": 10
         },
         "mode": "markers",
         "name": "Run time - 0.15.1",
         "showlegend": true,
         "text": [
          "Forecaster: ForecasterRecursive<br>Regressor: LGBMRegressor<br>Function: ForecasterRecursive_backtesting_conformal<br>Function_hash: f356e528327023d064b35722d98a749e<br>Datetime: 2025-04-24 23:06:20.210011<br>Python version: 3.12.9<br>skforecast version: 0.15.1<br>numpy version: 2.2.5<br>pandas version: 2.2.3<br>sklearn version: 1.6.1<br>lightgbm version: 4.6.0<br>Platform: Linux-6.11.0-24-generic-x86_64-with-glibc2.39<br>Processor: x86_64<br>CPU count: 8<br>Memory (GB): 16.64<br>"
         ],
         "type": "scatter",
         "x": {
          "bdata": "fByzX9/Fir8=",
          "dtype": "f8"
         },
         "y": {
          "bdata": "AECiVjVN6T8=",
          "dtype": "f8"
         }
        },
        {
         "error_y": {
          "array": {
           "bdata": "dTKzfOsvkD8=",
           "dtype": "f8"
          },
          "color": "#EF553B",
          "thickness": 1.5,
          "type": "data",
          "visible": true,
          "width": 5
         },
         "hovertemplate": "%{text}<extra></extra>",
         "marker": {
          "color": "#EF553B",
          "opacity": 0.7,
          "size": 10
         },
         "mode": "markers",
         "name": "Run time - 0.16.0",
         "showlegend": true,
         "text": [
          "Forecaster: ForecasterRecursive<br>Regressor: LGBMRegressor<br>Function: ForecasterRecursive_backtesting_conformal<br>Function_hash: f356e528327023d064b35722d98a749e<br>Datetime: 2025-04-24 22:43:47.559519<br>Python version: 3.12.9<br>skforecast version: 0.16.0<br>numpy version: 2.2.5<br>pandas version: 2.2.3<br>sklearn version: 1.6.1<br>lightgbm version: 4.6.0<br>Platform: Linux-6.11.0-24-generic-x86_64-with-glibc2.39<br>Processor: x86_64<br>CPU count: 8<br>Memory (GB): 16.64<br>"
         ],
         "type": "scatter",
         "x": {
          "bdata": "UFKCnpAh8D8=",
          "dtype": "f8"
         },
         "y": {
          "bdata": "mtnSxQFf6j8=",
          "dtype": "f8"
         }
        },
        {
         "line": {
          "color": "black",
          "width": 2
         },
         "marker": {
          "color": "black",
          "size": 8
         },
         "mode": "lines+markers",
         "name": "Median (per version)",
         "type": "scatter",
         "x": {
          "bdata": "AAE=",
          "dtype": "i1"
         },
         "y": {
          "bdata": "AECiVjVN6T+a2dLFAV/qPw==",
          "dtype": "f8"
         }
        },
        {
         "line": {
          "color": "black",
          "dash": "dash",
          "width": 2
         },
         "marker": {
          "color": "black",
          "size": 8
         },
         "mode": "lines+markers",
         "name": "Mean (per version)",
         "type": "scatter",
         "x": {
          "bdata": "AAE=",
          "dtype": "i1"
         },
         "y": {
          "bdata": "AECiVjVN6T+a2dLFAV/qPw==",
          "dtype": "f8"
         }
        }
       ],
       "layout": {
        "showlegend": true,
        "template": {
         "data": {
          "bar": [
           {
            "error_x": {
             "color": "#2a3f5f"
            },
            "error_y": {
             "color": "#2a3f5f"
            },
            "marker": {
             "line": {
              "color": "#E5ECF6",
              "width": 0.5
             },
             "pattern": {
              "fillmode": "overlay",
              "size": 10,
              "solidity": 0.2
             }
            },
            "type": "bar"
           }
          ],
          "barpolar": [
           {
            "marker": {
             "line": {
              "color": "#E5ECF6",
              "width": 0.5
             },
             "pattern": {
              "fillmode": "overlay",
              "size": 10,
              "solidity": 0.2
             }
            },
            "type": "barpolar"
           }
          ],
          "carpet": [
           {
            "aaxis": {
             "endlinecolor": "#2a3f5f",
             "gridcolor": "white",
             "linecolor": "white",
             "minorgridcolor": "white",
             "startlinecolor": "#2a3f5f"
            },
            "baxis": {
             "endlinecolor": "#2a3f5f",
             "gridcolor": "white",
             "linecolor": "white",
             "minorgridcolor": "white",
             "startlinecolor": "#2a3f5f"
            },
            "type": "carpet"
           }
          ],
          "choropleth": [
           {
            "colorbar": {
             "outlinewidth": 0,
             "ticks": ""
            },
            "type": "choropleth"
           }
          ],
          "contour": [
           {
            "colorbar": {
             "outlinewidth": 0,
             "ticks": ""
            },
            "colorscale": [
             [
              0,
              "#0d0887"
             ],
             [
              0.1111111111111111,
              "#46039f"
             ],
             [
              0.2222222222222222,
              "#7201a8"
             ],
             [
              0.3333333333333333,
              "#9c179e"
             ],
             [
              0.4444444444444444,
              "#bd3786"
             ],
             [
              0.5555555555555556,
              "#d8576b"
             ],
             [
              0.6666666666666666,
              "#ed7953"
             ],
             [
              0.7777777777777778,
              "#fb9f3a"
             ],
             [
              0.8888888888888888,
              "#fdca26"
             ],
             [
              1,
              "#f0f921"
             ]
            ],
            "type": "contour"
           }
          ],
          "contourcarpet": [
           {
            "colorbar": {
             "outlinewidth": 0,
             "ticks": ""
            },
            "type": "contourcarpet"
           }
          ],
          "heatmap": [
           {
            "colorbar": {
             "outlinewidth": 0,
             "ticks": ""
            },
            "colorscale": [
             [
              0,
              "#0d0887"
             ],
             [
              0.1111111111111111,
              "#46039f"
             ],
             [
              0.2222222222222222,
              "#7201a8"
             ],
             [
              0.3333333333333333,
              "#9c179e"
             ],
             [
              0.4444444444444444,
              "#bd3786"
             ],
             [
              0.5555555555555556,
              "#d8576b"
             ],
             [
              0.6666666666666666,
              "#ed7953"
             ],
             [
              0.7777777777777778,
              "#fb9f3a"
             ],
             [
              0.8888888888888888,
              "#fdca26"
             ],
             [
              1,
              "#f0f921"
             ]
            ],
            "type": "heatmap"
           }
          ],
          "histogram": [
           {
            "marker": {
             "pattern": {
              "fillmode": "overlay",
              "size": 10,
              "solidity": 0.2
             }
            },
            "type": "histogram"
           }
          ],
          "histogram2d": [
           {
            "colorbar": {
             "outlinewidth": 0,
             "ticks": ""
            },
            "colorscale": [
             [
              0,
              "#0d0887"
             ],
             [
              0.1111111111111111,
              "#46039f"
             ],
             [
              0.2222222222222222,
              "#7201a8"
             ],
             [
              0.3333333333333333,
              "#9c179e"
             ],
             [
              0.4444444444444444,
              "#bd3786"
             ],
             [
              0.5555555555555556,
              "#d8576b"
             ],
             [
              0.6666666666666666,
              "#ed7953"
             ],
             [
              0.7777777777777778,
              "#fb9f3a"
             ],
             [
              0.8888888888888888,
              "#fdca26"
             ],
             [
              1,
              "#f0f921"
             ]
            ],
            "type": "histogram2d"
           }
          ],
          "histogram2dcontour": [
           {
            "colorbar": {
             "outlinewidth": 0,
             "ticks": ""
            },
            "colorscale": [
             [
              0,
              "#0d0887"
             ],
             [
              0.1111111111111111,
              "#46039f"
             ],
             [
              0.2222222222222222,
              "#7201a8"
             ],
             [
              0.3333333333333333,
              "#9c179e"
             ],
             [
              0.4444444444444444,
              "#bd3786"
             ],
             [
              0.5555555555555556,
              "#d8576b"
             ],
             [
              0.6666666666666666,
              "#ed7953"
             ],
             [
              0.7777777777777778,
              "#fb9f3a"
             ],
             [
              0.8888888888888888,
              "#fdca26"
             ],
             [
              1,
              "#f0f921"
             ]
            ],
            "type": "histogram2dcontour"
           }
          ],
          "mesh3d": [
           {
            "colorbar": {
             "outlinewidth": 0,
             "ticks": ""
            },
            "type": "mesh3d"
           }
          ],
          "parcoords": [
           {
            "line": {
             "colorbar": {
              "outlinewidth": 0,
              "ticks": ""
             }
            },
            "type": "parcoords"
           }
          ],
          "pie": [
           {
            "automargin": true,
            "type": "pie"
           }
          ],
          "scatter": [
           {
            "fillpattern": {
             "fillmode": "overlay",
             "size": 10,
             "solidity": 0.2
            },
            "type": "scatter"
           }
          ],
          "scatter3d": [
           {
            "line": {
             "colorbar": {
              "outlinewidth": 0,
              "ticks": ""
             }
            },
            "marker": {
             "colorbar": {
              "outlinewidth": 0,
              "ticks": ""
             }
            },
            "type": "scatter3d"
           }
          ],
          "scattercarpet": [
           {
            "marker": {
             "colorbar": {
              "outlinewidth": 0,
              "ticks": ""
             }
            },
            "type": "scattercarpet"
           }
          ],
          "scattergeo": [
           {
            "marker": {
             "colorbar": {
              "outlinewidth": 0,
              "ticks": ""
             }
            },
            "type": "scattergeo"
           }
          ],
          "scattergl": [
           {
            "marker": {
             "colorbar": {
              "outlinewidth": 0,
              "ticks": ""
             }
            },
            "type": "scattergl"
           }
          ],
          "scattermap": [
           {
            "marker": {
             "colorbar": {
              "outlinewidth": 0,
              "ticks": ""
             }
            },
            "type": "scattermap"
           }
          ],
          "scattermapbox": [
           {
            "marker": {
             "colorbar": {
              "outlinewidth": 0,
              "ticks": ""
             }
            },
            "type": "scattermapbox"
           }
          ],
          "scatterpolar": [
           {
            "marker": {
             "colorbar": {
              "outlinewidth": 0,
              "ticks": ""
             }
            },
            "type": "scatterpolar"
           }
          ],
          "scatterpolargl": [
           {
            "marker": {
             "colorbar": {
              "outlinewidth": 0,
              "ticks": ""
             }
            },
            "type": "scatterpolargl"
           }
          ],
          "scatterternary": [
           {
            "marker": {
             "colorbar": {
              "outlinewidth": 0,
              "ticks": ""
             }
            },
            "type": "scatterternary"
           }
          ],
          "surface": [
           {
            "colorbar": {
             "outlinewidth": 0,
             "ticks": ""
            },
            "colorscale": [
             [
              0,
              "#0d0887"
             ],
             [
              0.1111111111111111,
              "#46039f"
             ],
             [
              0.2222222222222222,
              "#7201a8"
             ],
             [
              0.3333333333333333,
              "#9c179e"
             ],
             [
              0.4444444444444444,
              "#bd3786"
             ],
             [
              0.5555555555555556,
              "#d8576b"
             ],
             [
              0.6666666666666666,
              "#ed7953"
             ],
             [
              0.7777777777777778,
              "#fb9f3a"
             ],
             [
              0.8888888888888888,
              "#fdca26"
             ],
             [
              1,
              "#f0f921"
             ]
            ],
            "type": "surface"
           }
          ],
          "table": [
           {
            "cells": {
             "fill": {
              "color": "#EBF0F8"
             },
             "line": {
              "color": "white"
             }
            },
            "header": {
             "fill": {
              "color": "#C8D4E3"
             },
             "line": {
              "color": "white"
             }
            },
            "type": "table"
           }
          ]
         },
         "layout": {
          "annotationdefaults": {
           "arrowcolor": "#2a3f5f",
           "arrowhead": 0,
           "arrowwidth": 1
          },
          "autotypenumbers": "strict",
          "coloraxis": {
           "colorbar": {
            "outlinewidth": 0,
            "ticks": ""
           }
          },
          "colorscale": {
           "diverging": [
            [
             0,
             "#8e0152"
            ],
            [
             0.1,
             "#c51b7d"
            ],
            [
             0.2,
             "#de77ae"
            ],
            [
             0.3,
             "#f1b6da"
            ],
            [
             0.4,
             "#fde0ef"
            ],
            [
             0.5,
             "#f7f7f7"
            ],
            [
             0.6,
             "#e6f5d0"
            ],
            [
             0.7,
             "#b8e186"
            ],
            [
             0.8,
             "#7fbc41"
            ],
            [
             0.9,
             "#4d9221"
            ],
            [
             1,
             "#276419"
            ]
           ],
           "sequential": [
            [
             0,
             "#0d0887"
            ],
            [
             0.1111111111111111,
             "#46039f"
            ],
            [
             0.2222222222222222,
             "#7201a8"
            ],
            [
             0.3333333333333333,
             "#9c179e"
            ],
            [
             0.4444444444444444,
             "#bd3786"
            ],
            [
             0.5555555555555556,
             "#d8576b"
            ],
            [
             0.6666666666666666,
             "#ed7953"
            ],
            [
             0.7777777777777778,
             "#fb9f3a"
            ],
            [
             0.8888888888888888,
             "#fdca26"
            ],
            [
             1,
             "#f0f921"
            ]
           ],
           "sequentialminus": [
            [
             0,
             "#0d0887"
            ],
            [
             0.1111111111111111,
             "#46039f"
            ],
            [
             0.2222222222222222,
             "#7201a8"
            ],
            [
             0.3333333333333333,
             "#9c179e"
            ],
            [
             0.4444444444444444,
             "#bd3786"
            ],
            [
             0.5555555555555556,
             "#d8576b"
            ],
            [
             0.6666666666666666,
             "#ed7953"
            ],
            [
             0.7777777777777778,
             "#fb9f3a"
            ],
            [
             0.8888888888888888,
             "#fdca26"
            ],
            [
             1,
             "#f0f921"
            ]
           ]
          },
          "colorway": [
           "#636efa",
           "#EF553B",
           "#00cc96",
           "#ab63fa",
           "#FFA15A",
           "#19d3f3",
           "#FF6692",
           "#B6E880",
           "#FF97FF",
           "#FECB52"
          ],
          "font": {
           "color": "#2a3f5f"
          },
          "geo": {
           "bgcolor": "white",
           "lakecolor": "white",
           "landcolor": "#E5ECF6",
           "showlakes": true,
           "showland": true,
           "subunitcolor": "white"
          },
          "hoverlabel": {
           "align": "left"
          },
          "hovermode": "closest",
          "mapbox": {
           "style": "light"
          },
          "paper_bgcolor": "white",
          "plot_bgcolor": "#E5ECF6",
          "polar": {
           "angularaxis": {
            "gridcolor": "white",
            "linecolor": "white",
            "ticks": ""
           },
           "bgcolor": "#E5ECF6",
           "radialaxis": {
            "gridcolor": "white",
            "linecolor": "white",
            "ticks": ""
           }
          },
          "scene": {
           "xaxis": {
            "backgroundcolor": "#E5ECF6",
            "gridcolor": "white",
            "gridwidth": 2,
            "linecolor": "white",
            "showbackground": true,
            "ticks": "",
            "zerolinecolor": "white"
           },
           "yaxis": {
            "backgroundcolor": "#E5ECF6",
            "gridcolor": "white",
            "gridwidth": 2,
            "linecolor": "white",
            "showbackground": true,
            "ticks": "",
            "zerolinecolor": "white"
           },
           "zaxis": {
            "backgroundcolor": "#E5ECF6",
            "gridcolor": "white",
            "gridwidth": 2,
            "linecolor": "white",
            "showbackground": true,
            "ticks": "",
            "zerolinecolor": "white"
           }
          },
          "shapedefaults": {
           "line": {
            "color": "#2a3f5f"
           }
          },
          "ternary": {
           "aaxis": {
            "gridcolor": "white",
            "linecolor": "white",
            "ticks": ""
           },
           "baxis": {
            "gridcolor": "white",
            "linecolor": "white",
            "ticks": ""
           },
           "bgcolor": "#E5ECF6",
           "caxis": {
            "gridcolor": "white",
            "linecolor": "white",
            "ticks": ""
           }
          },
          "title": {
           "x": 0.05
          },
          "xaxis": {
           "automargin": true,
           "gridcolor": "white",
           "linecolor": "white",
           "ticks": "",
           "title": {
            "standoff": 15
           },
           "zerolinecolor": "white",
           "zerolinewidth": 2
          },
          "yaxis": {
           "automargin": true,
           "gridcolor": "white",
           "linecolor": "white",
           "ticks": "",
           "title": {
            "standoff": 15
           },
           "zerolinecolor": "white",
           "zerolinewidth": 2
          }
         }
        },
        "title": {
         "text": "Execution time of ForecasterRecursive_backtesting_conformal"
        },
        "xaxis": {
         "tickangle": -45,
         "tickmode": "array",
         "ticktext": [
          "0.15.1",
          "0.16.0"
         ],
         "tickvals": [
          0,
          1
         ],
         "title": {
          "text": "skforecast version"
         }
        },
        "yaxis": {
         "title": {
          "text": "Execution time (seconds)"
         }
        }
       }
      }
     },
     "metadata": {},
     "output_type": "display_data"
    }
   ],
   "source": [
    "# Plot results\n",
    "# ==============================================================================\n",
    "display_df = False\n",
    "selected_date = None\n",
    "# 'Linux-6.11.0-24-generic-x86_64-with-glibc2.39'\n",
    "# 'Windows-10-10.0.19045-SP0'\n",
    "selected_platform = None\n",
    "\n",
    "results_benchmark_all = joblib.load(\"./benchmark.joblib\")\n",
    "results_benchmark = results_benchmark_all.query(\"forecaster_name in ['ForecasterRecursive', 'ForecasterAutoreg']\")\n",
    "results_benchmark = results_benchmark.query(\"regressor_name == 'LGBMRegressor'\")\n",
    "for function_name in results_benchmark['function_name'].unique():\n",
    "    df = results_benchmark.query(f\"function_name == '{function_name}'\")\n",
    "    if selected_date:\n",
    "        df = df[df['datetime'].dt.date == pd.to_datetime(selected_date).date()]\n",
    "    if selected_platform:\n",
    "        df = df[df['platform'] == selected_platform]\n",
    "    if display_df:\n",
    "        display(df)\n",
    "    plot_benchmark_results(df.copy(), function_name, add_median=True, add_mean=True)"
   ]
  },
  {
   "cell_type": "markdown",
   "metadata": {},
   "source": [
    "# Summary of historical results"
   ]
  },
  {
   "cell_type": "code",
   "execution_count": 15,
   "metadata": {},
   "outputs": [
    {
     "data": {
      "application/vnd.plotly.v1+json": {
       "config": {
        "plotlyServerURL": "https://plot.ly"
       },
       "data": [
        {
         "alignmentgroup": "True",
         "hovertemplate": "skforecast_version=0.13.0<br>Function=%{x}<br>Median Run Time (s)=%{y}<extra></extra>",
         "legendgroup": "0.13.0",
         "marker": {
          "color": "#636efa",
          "pattern": {
           "shape": ""
          }
         },
         "name": "0.13.0",
         "offsetgroup": "0.13.0",
         "orientation": "v",
         "showlegend": true,
         "textposition": "auto",
         "type": "bar",
         "x": [
          "_check_predict_inputs",
          "_create_predict_inputs_exog_is_dict",
          "_create_train_X_y_series_is_dataframe_no_exog",
          "_create_train_X_y_series_is_dict_exog_is_dict",
          "_create_train_X_y_single_series",
          "fit_series_is_dataframe_no_exog",
          "fit_series_is_dict_exog_is_dict",
          "predict_exog_is_dict"
         ],
         "xaxis": "x",
         "y": {
          "bdata": "AAAAAAAA+H8AAAAAAAD4fwDoxC9PmwBAzQQ0zvToBEA0M7PAEcNfP2bKf73M5CZAAHbgsePfKEAajxIy7nhFQA==",
          "dtype": "f8"
         },
         "yaxis": "y"
        },
        {
         "alignmentgroup": "True",
         "hovertemplate": "skforecast_version=0.14.0<br>Function=%{x}<br>Median Run Time (s)=%{y}<extra></extra>",
         "legendgroup": "0.14.0",
         "marker": {
          "color": "#EF553B",
          "pattern": {
           "shape": ""
          }
         },
         "name": "0.14.0",
         "offsetgroup": "0.14.0",
         "orientation": "v",
         "showlegend": true,
         "textposition": "auto",
         "type": "bar",
         "x": [
          "_check_predict_inputs",
          "_create_predict_inputs_exog_is_dict",
          "_create_train_X_y_series_is_dataframe_no_exog",
          "_create_train_X_y_series_is_dict_exog_is_dict",
          "_create_train_X_y_single_series",
          "backtesting_series_is_dataframe_no_exog",
          "backtesting_series_is_dict_exog_is_dict",
          "fit_series_is_dataframe_no_exog",
          "fit_series_is_dict_exog_is_dict",
          "predict_exog_is_dict"
         ],
         "xaxis": "x",
         "y": {
          "bdata": "AECMbGev0j/M3BAZlnP4P8yMuABYN/g/ZgbJkYcPAECamZnDXP5WP82c/xUBsSRAza2rolk3QUCa5yg22TMkQJrHLLEpKyZAAIDlcI53+j8=",
          "dtype": "f8"
         },
         "yaxis": "y"
        },
        {
         "alignmentgroup": "True",
         "hovertemplate": "skforecast_version=0.15.1<br>Function=%{x}<br>Median Run Time (s)=%{y}<extra></extra>",
         "legendgroup": "0.15.1",
         "marker": {
          "color": "#00cc96",
          "pattern": {
           "shape": ""
          }
         },
         "name": "0.15.1",
         "offsetgroup": "0.15.1",
         "orientation": "v",
         "showlegend": true,
         "textposition": "auto",
         "type": "bar",
         "x": [
          "_check_predict_inputs",
          "_create_predict_inputs_exog_is_dict",
          "_create_train_X_y_series_is_dataframe_exog_dict",
          "_create_train_X_y_series_is_dataframe_no_exog",
          "_create_train_X_y_series_is_dict_exog_is_dict",
          "_create_train_X_y_single_series",
          "backtesting_series_is_dataframe_exog_dict",
          "backtesting_series_is_dataframe_exog_dict_conformal",
          "backtesting_series_is_dataframe_no_exog",
          "backtesting_series_is_dict_exog_is_dict",
          "fit_series_is_dataframe_no_exog",
          "fit_series_is_dict_exog_is_dict",
          "predict_exog_is_dict"
         ],
         "xaxis": "x",
         "y": {
          "bdata": "NFNSXdsD0j8AeM1P7l34PzPrP2F6zgFAzXwWhvN19z/NDEIskU78P2ZmJuQZlFY/AM+Q5TVuRECaw8p5olZJQDMTYl+ZkClAM6eVvYIcQ0BmNj2lFNwlQJoHTwbejydAmvlfQ84E+z8=",
          "dtype": "f8"
         },
         "yaxis": "y"
        },
        {
         "alignmentgroup": "True",
         "hovertemplate": "skforecast_version=0.16.0<br>Function=%{x}<br>Median Run Time (s)=%{y}<extra></extra>",
         "legendgroup": "0.16.0",
         "marker": {
          "color": "#ab63fa",
          "pattern": {
           "shape": ""
          }
         },
         "name": "0.16.0",
         "offsetgroup": "0.16.0",
         "orientation": "v",
         "showlegend": true,
         "textposition": "auto",
         "type": "bar",
         "x": [
          "_check_predict_inputs",
          "_create_predict_inputs_exog_is_dict",
          "_create_train_X_y_series_is_dataframe_exog_dict",
          "_create_train_X_y_series_is_dataframe_no_exog",
          "_create_train_X_y_series_is_dict_exog_is_dict",
          "_create_train_X_y_single_series",
          "backtesting_series_is_dataframe_exog_dict",
          "backtesting_series_is_dataframe_exog_dict_conformal",
          "backtesting_series_is_dataframe_no_exog",
          "backtesting_series_is_dict_exog_is_dict",
          "fit_series_is_dataframe_no_exog",
          "fit_series_is_dict_exog_is_dict",
          "predict_exog_is_dict"
         ],
         "xaxis": "x",
         "y": {
          "bdata": "MzN7uWgrsD+amSE0J9TOP5q5v6F/bPY/mnnbU6zB8D8A8DbriOb2P83MzL+sF04/zWzVa6MDLkDNXIxY9oo5QJpZOg5yZSVAAJDJ67kTMEAAQH/aqCYaQGZm1sxzpxxAZmZO9X1b2z8=",
          "dtype": "f8"
         },
         "yaxis": "y"
        }
       ],
       "layout": {
        "barmode": "group",
        "height": 600,
        "legend": {
         "title": {
          "text": "skforecast_version"
         },
         "tracegroupgap": 0
        },
        "template": {
         "data": {
          "bar": [
           {
            "error_x": {
             "color": "#2a3f5f"
            },
            "error_y": {
             "color": "#2a3f5f"
            },
            "marker": {
             "line": {
              "color": "#E5ECF6",
              "width": 0.5
             },
             "pattern": {
              "fillmode": "overlay",
              "size": 10,
              "solidity": 0.2
             }
            },
            "type": "bar"
           }
          ],
          "barpolar": [
           {
            "marker": {
             "line": {
              "color": "#E5ECF6",
              "width": 0.5
             },
             "pattern": {
              "fillmode": "overlay",
              "size": 10,
              "solidity": 0.2
             }
            },
            "type": "barpolar"
           }
          ],
          "carpet": [
           {
            "aaxis": {
             "endlinecolor": "#2a3f5f",
             "gridcolor": "white",
             "linecolor": "white",
             "minorgridcolor": "white",
             "startlinecolor": "#2a3f5f"
            },
            "baxis": {
             "endlinecolor": "#2a3f5f",
             "gridcolor": "white",
             "linecolor": "white",
             "minorgridcolor": "white",
             "startlinecolor": "#2a3f5f"
            },
            "type": "carpet"
           }
          ],
          "choropleth": [
           {
            "colorbar": {
             "outlinewidth": 0,
             "ticks": ""
            },
            "type": "choropleth"
           }
          ],
          "contour": [
           {
            "colorbar": {
             "outlinewidth": 0,
             "ticks": ""
            },
            "colorscale": [
             [
              0,
              "#0d0887"
             ],
             [
              0.1111111111111111,
              "#46039f"
             ],
             [
              0.2222222222222222,
              "#7201a8"
             ],
             [
              0.3333333333333333,
              "#9c179e"
             ],
             [
              0.4444444444444444,
              "#bd3786"
             ],
             [
              0.5555555555555556,
              "#d8576b"
             ],
             [
              0.6666666666666666,
              "#ed7953"
             ],
             [
              0.7777777777777778,
              "#fb9f3a"
             ],
             [
              0.8888888888888888,
              "#fdca26"
             ],
             [
              1,
              "#f0f921"
             ]
            ],
            "type": "contour"
           }
          ],
          "contourcarpet": [
           {
            "colorbar": {
             "outlinewidth": 0,
             "ticks": ""
            },
            "type": "contourcarpet"
           }
          ],
          "heatmap": [
           {
            "colorbar": {
             "outlinewidth": 0,
             "ticks": ""
            },
            "colorscale": [
             [
              0,
              "#0d0887"
             ],
             [
              0.1111111111111111,
              "#46039f"
             ],
             [
              0.2222222222222222,
              "#7201a8"
             ],
             [
              0.3333333333333333,
              "#9c179e"
             ],
             [
              0.4444444444444444,
              "#bd3786"
             ],
             [
              0.5555555555555556,
              "#d8576b"
             ],
             [
              0.6666666666666666,
              "#ed7953"
             ],
             [
              0.7777777777777778,
              "#fb9f3a"
             ],
             [
              0.8888888888888888,
              "#fdca26"
             ],
             [
              1,
              "#f0f921"
             ]
            ],
            "type": "heatmap"
           }
          ],
          "histogram": [
           {
            "marker": {
             "pattern": {
              "fillmode": "overlay",
              "size": 10,
              "solidity": 0.2
             }
            },
            "type": "histogram"
           }
          ],
          "histogram2d": [
           {
            "colorbar": {
             "outlinewidth": 0,
             "ticks": ""
            },
            "colorscale": [
             [
              0,
              "#0d0887"
             ],
             [
              0.1111111111111111,
              "#46039f"
             ],
             [
              0.2222222222222222,
              "#7201a8"
             ],
             [
              0.3333333333333333,
              "#9c179e"
             ],
             [
              0.4444444444444444,
              "#bd3786"
             ],
             [
              0.5555555555555556,
              "#d8576b"
             ],
             [
              0.6666666666666666,
              "#ed7953"
             ],
             [
              0.7777777777777778,
              "#fb9f3a"
             ],
             [
              0.8888888888888888,
              "#fdca26"
             ],
             [
              1,
              "#f0f921"
             ]
            ],
            "type": "histogram2d"
           }
          ],
          "histogram2dcontour": [
           {
            "colorbar": {
             "outlinewidth": 0,
             "ticks": ""
            },
            "colorscale": [
             [
              0,
              "#0d0887"
             ],
             [
              0.1111111111111111,
              "#46039f"
             ],
             [
              0.2222222222222222,
              "#7201a8"
             ],
             [
              0.3333333333333333,
              "#9c179e"
             ],
             [
              0.4444444444444444,
              "#bd3786"
             ],
             [
              0.5555555555555556,
              "#d8576b"
             ],
             [
              0.6666666666666666,
              "#ed7953"
             ],
             [
              0.7777777777777778,
              "#fb9f3a"
             ],
             [
              0.8888888888888888,
              "#fdca26"
             ],
             [
              1,
              "#f0f921"
             ]
            ],
            "type": "histogram2dcontour"
           }
          ],
          "mesh3d": [
           {
            "colorbar": {
             "outlinewidth": 0,
             "ticks": ""
            },
            "type": "mesh3d"
           }
          ],
          "parcoords": [
           {
            "line": {
             "colorbar": {
              "outlinewidth": 0,
              "ticks": ""
             }
            },
            "type": "parcoords"
           }
          ],
          "pie": [
           {
            "automargin": true,
            "type": "pie"
           }
          ],
          "scatter": [
           {
            "fillpattern": {
             "fillmode": "overlay",
             "size": 10,
             "solidity": 0.2
            },
            "type": "scatter"
           }
          ],
          "scatter3d": [
           {
            "line": {
             "colorbar": {
              "outlinewidth": 0,
              "ticks": ""
             }
            },
            "marker": {
             "colorbar": {
              "outlinewidth": 0,
              "ticks": ""
             }
            },
            "type": "scatter3d"
           }
          ],
          "scattercarpet": [
           {
            "marker": {
             "colorbar": {
              "outlinewidth": 0,
              "ticks": ""
             }
            },
            "type": "scattercarpet"
           }
          ],
          "scattergeo": [
           {
            "marker": {
             "colorbar": {
              "outlinewidth": 0,
              "ticks": ""
             }
            },
            "type": "scattergeo"
           }
          ],
          "scattergl": [
           {
            "marker": {
             "colorbar": {
              "outlinewidth": 0,
              "ticks": ""
             }
            },
            "type": "scattergl"
           }
          ],
          "scattermap": [
           {
            "marker": {
             "colorbar": {
              "outlinewidth": 0,
              "ticks": ""
             }
            },
            "type": "scattermap"
           }
          ],
          "scattermapbox": [
           {
            "marker": {
             "colorbar": {
              "outlinewidth": 0,
              "ticks": ""
             }
            },
            "type": "scattermapbox"
           }
          ],
          "scatterpolar": [
           {
            "marker": {
             "colorbar": {
              "outlinewidth": 0,
              "ticks": ""
             }
            },
            "type": "scatterpolar"
           }
          ],
          "scatterpolargl": [
           {
            "marker": {
             "colorbar": {
              "outlinewidth": 0,
              "ticks": ""
             }
            },
            "type": "scatterpolargl"
           }
          ],
          "scatterternary": [
           {
            "marker": {
             "colorbar": {
              "outlinewidth": 0,
              "ticks": ""
             }
            },
            "type": "scatterternary"
           }
          ],
          "surface": [
           {
            "colorbar": {
             "outlinewidth": 0,
             "ticks": ""
            },
            "colorscale": [
             [
              0,
              "#0d0887"
             ],
             [
              0.1111111111111111,
              "#46039f"
             ],
             [
              0.2222222222222222,
              "#7201a8"
             ],
             [
              0.3333333333333333,
              "#9c179e"
             ],
             [
              0.4444444444444444,
              "#bd3786"
             ],
             [
              0.5555555555555556,
              "#d8576b"
             ],
             [
              0.6666666666666666,
              "#ed7953"
             ],
             [
              0.7777777777777778,
              "#fb9f3a"
             ],
             [
              0.8888888888888888,
              "#fdca26"
             ],
             [
              1,
              "#f0f921"
             ]
            ],
            "type": "surface"
           }
          ],
          "table": [
           {
            "cells": {
             "fill": {
              "color": "#EBF0F8"
             },
             "line": {
              "color": "white"
             }
            },
            "header": {
             "fill": {
              "color": "#C8D4E3"
             },
             "line": {
              "color": "white"
             }
            },
            "type": "table"
           }
          ]
         },
         "layout": {
          "annotationdefaults": {
           "arrowcolor": "#2a3f5f",
           "arrowhead": 0,
           "arrowwidth": 1
          },
          "autotypenumbers": "strict",
          "coloraxis": {
           "colorbar": {
            "outlinewidth": 0,
            "ticks": ""
           }
          },
          "colorscale": {
           "diverging": [
            [
             0,
             "#8e0152"
            ],
            [
             0.1,
             "#c51b7d"
            ],
            [
             0.2,
             "#de77ae"
            ],
            [
             0.3,
             "#f1b6da"
            ],
            [
             0.4,
             "#fde0ef"
            ],
            [
             0.5,
             "#f7f7f7"
            ],
            [
             0.6,
             "#e6f5d0"
            ],
            [
             0.7,
             "#b8e186"
            ],
            [
             0.8,
             "#7fbc41"
            ],
            [
             0.9,
             "#4d9221"
            ],
            [
             1,
             "#276419"
            ]
           ],
           "sequential": [
            [
             0,
             "#0d0887"
            ],
            [
             0.1111111111111111,
             "#46039f"
            ],
            [
             0.2222222222222222,
             "#7201a8"
            ],
            [
             0.3333333333333333,
             "#9c179e"
            ],
            [
             0.4444444444444444,
             "#bd3786"
            ],
            [
             0.5555555555555556,
             "#d8576b"
            ],
            [
             0.6666666666666666,
             "#ed7953"
            ],
            [
             0.7777777777777778,
             "#fb9f3a"
            ],
            [
             0.8888888888888888,
             "#fdca26"
            ],
            [
             1,
             "#f0f921"
            ]
           ],
           "sequentialminus": [
            [
             0,
             "#0d0887"
            ],
            [
             0.1111111111111111,
             "#46039f"
            ],
            [
             0.2222222222222222,
             "#7201a8"
            ],
            [
             0.3333333333333333,
             "#9c179e"
            ],
            [
             0.4444444444444444,
             "#bd3786"
            ],
            [
             0.5555555555555556,
             "#d8576b"
            ],
            [
             0.6666666666666666,
             "#ed7953"
            ],
            [
             0.7777777777777778,
             "#fb9f3a"
            ],
            [
             0.8888888888888888,
             "#fdca26"
            ],
            [
             1,
             "#f0f921"
            ]
           ]
          },
          "colorway": [
           "#636efa",
           "#EF553B",
           "#00cc96",
           "#ab63fa",
           "#FFA15A",
           "#19d3f3",
           "#FF6692",
           "#B6E880",
           "#FF97FF",
           "#FECB52"
          ],
          "font": {
           "color": "#2a3f5f"
          },
          "geo": {
           "bgcolor": "white",
           "lakecolor": "white",
           "landcolor": "#E5ECF6",
           "showlakes": true,
           "showland": true,
           "subunitcolor": "white"
          },
          "hoverlabel": {
           "align": "left"
          },
          "hovermode": "closest",
          "mapbox": {
           "style": "light"
          },
          "paper_bgcolor": "white",
          "plot_bgcolor": "#E5ECF6",
          "polar": {
           "angularaxis": {
            "gridcolor": "white",
            "linecolor": "white",
            "ticks": ""
           },
           "bgcolor": "#E5ECF6",
           "radialaxis": {
            "gridcolor": "white",
            "linecolor": "white",
            "ticks": ""
           }
          },
          "scene": {
           "xaxis": {
            "backgroundcolor": "#E5ECF6",
            "gridcolor": "white",
            "gridwidth": 2,
            "linecolor": "white",
            "showbackground": true,
            "ticks": "",
            "zerolinecolor": "white"
           },
           "yaxis": {
            "backgroundcolor": "#E5ECF6",
            "gridcolor": "white",
            "gridwidth": 2,
            "linecolor": "white",
            "showbackground": true,
            "ticks": "",
            "zerolinecolor": "white"
           },
           "zaxis": {
            "backgroundcolor": "#E5ECF6",
            "gridcolor": "white",
            "gridwidth": 2,
            "linecolor": "white",
            "showbackground": true,
            "ticks": "",
            "zerolinecolor": "white"
           }
          },
          "shapedefaults": {
           "line": {
            "color": "#2a3f5f"
           }
          },
          "ternary": {
           "aaxis": {
            "gridcolor": "white",
            "linecolor": "white",
            "ticks": ""
           },
           "baxis": {
            "gridcolor": "white",
            "linecolor": "white",
            "ticks": ""
           },
           "bgcolor": "#E5ECF6",
           "caxis": {
            "gridcolor": "white",
            "linecolor": "white",
            "ticks": ""
           }
          },
          "title": {
           "x": 0.05
          },
          "xaxis": {
           "automargin": true,
           "gridcolor": "white",
           "linecolor": "white",
           "ticks": "",
           "title": {
            "standoff": 15
           },
           "zerolinecolor": "white",
           "zerolinewidth": 2
          },
          "yaxis": {
           "automargin": true,
           "gridcolor": "white",
           "linecolor": "white",
           "ticks": "",
           "title": {
            "standoff": 15
           },
           "zerolinecolor": "white",
           "zerolinewidth": 2
          }
         }
        },
        "title": {
         "text": "MultiSeries Forecasters - Median Run Time by Function and skforecast Version"
        },
        "xaxis": {
         "anchor": "y",
         "domain": [
          0,
          1
         ],
         "tickangle": -45,
         "title": {
          "text": "Function"
         }
        },
        "yaxis": {
         "anchor": "x",
         "domain": [
          0,
          1
         ],
         "title": {
          "text": "Median Run Time (s)"
         }
        }
       }
      }
     },
     "metadata": {},
     "output_type": "display_data"
    },
    {
     "data": {
      "application/vnd.plotly.v1+json": {
       "config": {
        "plotlyServerURL": "https://plot.ly"
       },
       "data": [
        {
         "alignmentgroup": "True",
         "hovertemplate": "skforecast_version=0.13.0<br>Function=%{x}<br>Median Run Time (s)=%{y}<extra></extra>",
         "legendgroup": "0.13.0",
         "marker": {
          "color": "#636efa",
          "pattern": {
           "shape": ""
          }
         },
         "name": "0.13.0",
         "offsetgroup": "0.13.0",
         "orientation": "v",
         "showlegend": true,
         "textposition": "auto",
         "type": "bar",
         "x": [
          "_create_predict_inputs",
          "_create_train_X_y",
          "fit",
          "predict"
         ],
         "xaxis": "x",
         "y": {
          "bdata": "AAAAAAAA+H+amVmPiNxtPzMzxyKeDM0/AABYXS1tsj8=",
          "dtype": "f8"
         },
         "yaxis": "y"
        },
        {
         "alignmentgroup": "True",
         "hovertemplate": "skforecast_version=0.14.0<br>Function=%{x}<br>Median Run Time (s)=%{y}<extra></extra>",
         "legendgroup": "0.14.0",
         "marker": {
          "color": "#EF553B",
          "pattern": {
           "shape": ""
          }
         },
         "name": "0.14.0",
         "offsetgroup": "0.14.0",
         "orientation": "v",
         "showlegend": true,
         "textposition": "auto",
         "type": "bar",
         "x": [
          "_create_predict_inputs",
          "_create_train_X_y",
          "backtesting",
          "fit",
          "predict"
         ],
         "xaxis": "x",
         "y": {
          "bdata": "zczsCs1jaD80MxMvQuJqP5qZ5ZH9e+A/AMDmyq6gyz+amQnfHQ+xPw==",
          "dtype": "f8"
         },
         "yaxis": "y"
        },
        {
         "alignmentgroup": "True",
         "hovertemplate": "skforecast_version=0.15.1<br>Function=%{x}<br>Median Run Time (s)=%{y}<extra></extra>",
         "legendgroup": "0.15.1",
         "marker": {
          "color": "#00cc96",
          "pattern": {
           "shape": ""
          }
         },
         "name": "0.15.1",
         "offsetgroup": "0.15.1",
         "orientation": "v",
         "showlegend": true,
         "textposition": "auto",
         "type": "bar",
         "x": [
          "_create_predict_inputs",
          "_create_train_X_y",
          "backtesting",
          "backtesting_conformal",
          "fit",
          "predict"
         ],
         "xaxis": "x",
         "y": {
          "bdata": "VVX1RO6bZT9mZlYWgzdnP5qZE1HhguI/AECiVjVN6T8zs5/jziXIPzMzILH2o60/",
          "dtype": "f8"
         },
         "yaxis": "y"
        },
        {
         "alignmentgroup": "True",
         "hovertemplate": "skforecast_version=0.16.0<br>Function=%{x}<br>Median Run Time (s)=%{y}<extra></extra>",
         "legendgroup": "0.16.0",
         "marker": {
          "color": "#ab63fa",
          "pattern": {
           "shape": ""
          }
         },
         "name": "0.16.0",
         "offsetgroup": "0.16.0",
         "orientation": "v",
         "showlegend": true,
         "textposition": "auto",
         "type": "bar",
         "x": [
          "_create_predict_inputs",
          "_create_train_X_y",
          "backtesting",
          "backtesting_conformal",
          "fit",
          "predict"
         ],
         "xaxis": "x",
         "y": {
          "bdata": "zczMMB64XT93d/dL09JyP83MHmhHYuE/AABeLn/R4j/NzPiU71vAPwAAQILaVqo/",
          "dtype": "f8"
         },
         "yaxis": "y"
        }
       ],
       "layout": {
        "barmode": "group",
        "legend": {
         "title": {
          "text": "skforecast_version"
         },
         "tracegroupgap": 0
        },
        "template": {
         "data": {
          "bar": [
           {
            "error_x": {
             "color": "#2a3f5f"
            },
            "error_y": {
             "color": "#2a3f5f"
            },
            "marker": {
             "line": {
              "color": "#E5ECF6",
              "width": 0.5
             },
             "pattern": {
              "fillmode": "overlay",
              "size": 10,
              "solidity": 0.2
             }
            },
            "type": "bar"
           }
          ],
          "barpolar": [
           {
            "marker": {
             "line": {
              "color": "#E5ECF6",
              "width": 0.5
             },
             "pattern": {
              "fillmode": "overlay",
              "size": 10,
              "solidity": 0.2
             }
            },
            "type": "barpolar"
           }
          ],
          "carpet": [
           {
            "aaxis": {
             "endlinecolor": "#2a3f5f",
             "gridcolor": "white",
             "linecolor": "white",
             "minorgridcolor": "white",
             "startlinecolor": "#2a3f5f"
            },
            "baxis": {
             "endlinecolor": "#2a3f5f",
             "gridcolor": "white",
             "linecolor": "white",
             "minorgridcolor": "white",
             "startlinecolor": "#2a3f5f"
            },
            "type": "carpet"
           }
          ],
          "choropleth": [
           {
            "colorbar": {
             "outlinewidth": 0,
             "ticks": ""
            },
            "type": "choropleth"
           }
          ],
          "contour": [
           {
            "colorbar": {
             "outlinewidth": 0,
             "ticks": ""
            },
            "colorscale": [
             [
              0,
              "#0d0887"
             ],
             [
              0.1111111111111111,
              "#46039f"
             ],
             [
              0.2222222222222222,
              "#7201a8"
             ],
             [
              0.3333333333333333,
              "#9c179e"
             ],
             [
              0.4444444444444444,
              "#bd3786"
             ],
             [
              0.5555555555555556,
              "#d8576b"
             ],
             [
              0.6666666666666666,
              "#ed7953"
             ],
             [
              0.7777777777777778,
              "#fb9f3a"
             ],
             [
              0.8888888888888888,
              "#fdca26"
             ],
             [
              1,
              "#f0f921"
             ]
            ],
            "type": "contour"
           }
          ],
          "contourcarpet": [
           {
            "colorbar": {
             "outlinewidth": 0,
             "ticks": ""
            },
            "type": "contourcarpet"
           }
          ],
          "heatmap": [
           {
            "colorbar": {
             "outlinewidth": 0,
             "ticks": ""
            },
            "colorscale": [
             [
              0,
              "#0d0887"
             ],
             [
              0.1111111111111111,
              "#46039f"
             ],
             [
              0.2222222222222222,
              "#7201a8"
             ],
             [
              0.3333333333333333,
              "#9c179e"
             ],
             [
              0.4444444444444444,
              "#bd3786"
             ],
             [
              0.5555555555555556,
              "#d8576b"
             ],
             [
              0.6666666666666666,
              "#ed7953"
             ],
             [
              0.7777777777777778,
              "#fb9f3a"
             ],
             [
              0.8888888888888888,
              "#fdca26"
             ],
             [
              1,
              "#f0f921"
             ]
            ],
            "type": "heatmap"
           }
          ],
          "histogram": [
           {
            "marker": {
             "pattern": {
              "fillmode": "overlay",
              "size": 10,
              "solidity": 0.2
             }
            },
            "type": "histogram"
           }
          ],
          "histogram2d": [
           {
            "colorbar": {
             "outlinewidth": 0,
             "ticks": ""
            },
            "colorscale": [
             [
              0,
              "#0d0887"
             ],
             [
              0.1111111111111111,
              "#46039f"
             ],
             [
              0.2222222222222222,
              "#7201a8"
             ],
             [
              0.3333333333333333,
              "#9c179e"
             ],
             [
              0.4444444444444444,
              "#bd3786"
             ],
             [
              0.5555555555555556,
              "#d8576b"
             ],
             [
              0.6666666666666666,
              "#ed7953"
             ],
             [
              0.7777777777777778,
              "#fb9f3a"
             ],
             [
              0.8888888888888888,
              "#fdca26"
             ],
             [
              1,
              "#f0f921"
             ]
            ],
            "type": "histogram2d"
           }
          ],
          "histogram2dcontour": [
           {
            "colorbar": {
             "outlinewidth": 0,
             "ticks": ""
            },
            "colorscale": [
             [
              0,
              "#0d0887"
             ],
             [
              0.1111111111111111,
              "#46039f"
             ],
             [
              0.2222222222222222,
              "#7201a8"
             ],
             [
              0.3333333333333333,
              "#9c179e"
             ],
             [
              0.4444444444444444,
              "#bd3786"
             ],
             [
              0.5555555555555556,
              "#d8576b"
             ],
             [
              0.6666666666666666,
              "#ed7953"
             ],
             [
              0.7777777777777778,
              "#fb9f3a"
             ],
             [
              0.8888888888888888,
              "#fdca26"
             ],
             [
              1,
              "#f0f921"
             ]
            ],
            "type": "histogram2dcontour"
           }
          ],
          "mesh3d": [
           {
            "colorbar": {
             "outlinewidth": 0,
             "ticks": ""
            },
            "type": "mesh3d"
           }
          ],
          "parcoords": [
           {
            "line": {
             "colorbar": {
              "outlinewidth": 0,
              "ticks": ""
             }
            },
            "type": "parcoords"
           }
          ],
          "pie": [
           {
            "automargin": true,
            "type": "pie"
           }
          ],
          "scatter": [
           {
            "fillpattern": {
             "fillmode": "overlay",
             "size": 10,
             "solidity": 0.2
            },
            "type": "scatter"
           }
          ],
          "scatter3d": [
           {
            "line": {
             "colorbar": {
              "outlinewidth": 0,
              "ticks": ""
             }
            },
            "marker": {
             "colorbar": {
              "outlinewidth": 0,
              "ticks": ""
             }
            },
            "type": "scatter3d"
           }
          ],
          "scattercarpet": [
           {
            "marker": {
             "colorbar": {
              "outlinewidth": 0,
              "ticks": ""
             }
            },
            "type": "scattercarpet"
           }
          ],
          "scattergeo": [
           {
            "marker": {
             "colorbar": {
              "outlinewidth": 0,
              "ticks": ""
             }
            },
            "type": "scattergeo"
           }
          ],
          "scattergl": [
           {
            "marker": {
             "colorbar": {
              "outlinewidth": 0,
              "ticks": ""
             }
            },
            "type": "scattergl"
           }
          ],
          "scattermap": [
           {
            "marker": {
             "colorbar": {
              "outlinewidth": 0,
              "ticks": ""
             }
            },
            "type": "scattermap"
           }
          ],
          "scattermapbox": [
           {
            "marker": {
             "colorbar": {
              "outlinewidth": 0,
              "ticks": ""
             }
            },
            "type": "scattermapbox"
           }
          ],
          "scatterpolar": [
           {
            "marker": {
             "colorbar": {
              "outlinewidth": 0,
              "ticks": ""
             }
            },
            "type": "scatterpolar"
           }
          ],
          "scatterpolargl": [
           {
            "marker": {
             "colorbar": {
              "outlinewidth": 0,
              "ticks": ""
             }
            },
            "type": "scatterpolargl"
           }
          ],
          "scatterternary": [
           {
            "marker": {
             "colorbar": {
              "outlinewidth": 0,
              "ticks": ""
             }
            },
            "type": "scatterternary"
           }
          ],
          "surface": [
           {
            "colorbar": {
             "outlinewidth": 0,
             "ticks": ""
            },
            "colorscale": [
             [
              0,
              "#0d0887"
             ],
             [
              0.1111111111111111,
              "#46039f"
             ],
             [
              0.2222222222222222,
              "#7201a8"
             ],
             [
              0.3333333333333333,
              "#9c179e"
             ],
             [
              0.4444444444444444,
              "#bd3786"
             ],
             [
              0.5555555555555556,
              "#d8576b"
             ],
             [
              0.6666666666666666,
              "#ed7953"
             ],
             [
              0.7777777777777778,
              "#fb9f3a"
             ],
             [
              0.8888888888888888,
              "#fdca26"
             ],
             [
              1,
              "#f0f921"
             ]
            ],
            "type": "surface"
           }
          ],
          "table": [
           {
            "cells": {
             "fill": {
              "color": "#EBF0F8"
             },
             "line": {
              "color": "white"
             }
            },
            "header": {
             "fill": {
              "color": "#C8D4E3"
             },
             "line": {
              "color": "white"
             }
            },
            "type": "table"
           }
          ]
         },
         "layout": {
          "annotationdefaults": {
           "arrowcolor": "#2a3f5f",
           "arrowhead": 0,
           "arrowwidth": 1
          },
          "autotypenumbers": "strict",
          "coloraxis": {
           "colorbar": {
            "outlinewidth": 0,
            "ticks": ""
           }
          },
          "colorscale": {
           "diverging": [
            [
             0,
             "#8e0152"
            ],
            [
             0.1,
             "#c51b7d"
            ],
            [
             0.2,
             "#de77ae"
            ],
            [
             0.3,
             "#f1b6da"
            ],
            [
             0.4,
             "#fde0ef"
            ],
            [
             0.5,
             "#f7f7f7"
            ],
            [
             0.6,
             "#e6f5d0"
            ],
            [
             0.7,
             "#b8e186"
            ],
            [
             0.8,
             "#7fbc41"
            ],
            [
             0.9,
             "#4d9221"
            ],
            [
             1,
             "#276419"
            ]
           ],
           "sequential": [
            [
             0,
             "#0d0887"
            ],
            [
             0.1111111111111111,
             "#46039f"
            ],
            [
             0.2222222222222222,
             "#7201a8"
            ],
            [
             0.3333333333333333,
             "#9c179e"
            ],
            [
             0.4444444444444444,
             "#bd3786"
            ],
            [
             0.5555555555555556,
             "#d8576b"
            ],
            [
             0.6666666666666666,
             "#ed7953"
            ],
            [
             0.7777777777777778,
             "#fb9f3a"
            ],
            [
             0.8888888888888888,
             "#fdca26"
            ],
            [
             1,
             "#f0f921"
            ]
           ],
           "sequentialminus": [
            [
             0,
             "#0d0887"
            ],
            [
             0.1111111111111111,
             "#46039f"
            ],
            [
             0.2222222222222222,
             "#7201a8"
            ],
            [
             0.3333333333333333,
             "#9c179e"
            ],
            [
             0.4444444444444444,
             "#bd3786"
            ],
            [
             0.5555555555555556,
             "#d8576b"
            ],
            [
             0.6666666666666666,
             "#ed7953"
            ],
            [
             0.7777777777777778,
             "#fb9f3a"
            ],
            [
             0.8888888888888888,
             "#fdca26"
            ],
            [
             1,
             "#f0f921"
            ]
           ]
          },
          "colorway": [
           "#636efa",
           "#EF553B",
           "#00cc96",
           "#ab63fa",
           "#FFA15A",
           "#19d3f3",
           "#FF6692",
           "#B6E880",
           "#FF97FF",
           "#FECB52"
          ],
          "font": {
           "color": "#2a3f5f"
          },
          "geo": {
           "bgcolor": "white",
           "lakecolor": "white",
           "landcolor": "#E5ECF6",
           "showlakes": true,
           "showland": true,
           "subunitcolor": "white"
          },
          "hoverlabel": {
           "align": "left"
          },
          "hovermode": "closest",
          "mapbox": {
           "style": "light"
          },
          "paper_bgcolor": "white",
          "plot_bgcolor": "#E5ECF6",
          "polar": {
           "angularaxis": {
            "gridcolor": "white",
            "linecolor": "white",
            "ticks": ""
           },
           "bgcolor": "#E5ECF6",
           "radialaxis": {
            "gridcolor": "white",
            "linecolor": "white",
            "ticks": ""
           }
          },
          "scene": {
           "xaxis": {
            "backgroundcolor": "#E5ECF6",
            "gridcolor": "white",
            "gridwidth": 2,
            "linecolor": "white",
            "showbackground": true,
            "ticks": "",
            "zerolinecolor": "white"
           },
           "yaxis": {
            "backgroundcolor": "#E5ECF6",
            "gridcolor": "white",
            "gridwidth": 2,
            "linecolor": "white",
            "showbackground": true,
            "ticks": "",
            "zerolinecolor": "white"
           },
           "zaxis": {
            "backgroundcolor": "#E5ECF6",
            "gridcolor": "white",
            "gridwidth": 2,
            "linecolor": "white",
            "showbackground": true,
            "ticks": "",
            "zerolinecolor": "white"
           }
          },
          "shapedefaults": {
           "line": {
            "color": "#2a3f5f"
           }
          },
          "ternary": {
           "aaxis": {
            "gridcolor": "white",
            "linecolor": "white",
            "ticks": ""
           },
           "baxis": {
            "gridcolor": "white",
            "linecolor": "white",
            "ticks": ""
           },
           "bgcolor": "#E5ECF6",
           "caxis": {
            "gridcolor": "white",
            "linecolor": "white",
            "ticks": ""
           }
          },
          "title": {
           "x": 0.05
          },
          "xaxis": {
           "automargin": true,
           "gridcolor": "white",
           "linecolor": "white",
           "ticks": "",
           "title": {
            "standoff": 15
           },
           "zerolinecolor": "white",
           "zerolinewidth": 2
          },
          "yaxis": {
           "automargin": true,
           "gridcolor": "white",
           "linecolor": "white",
           "ticks": "",
           "title": {
            "standoff": 15
           },
           "zerolinecolor": "white",
           "zerolinewidth": 2
          }
         }
        },
        "title": {
         "text": "Single-Series Forecasters - Median Run Time by Function and skforecast Version"
        },
        "xaxis": {
         "anchor": "y",
         "domain": [
          0,
          1
         ],
         "tickangle": -45,
         "title": {
          "text": "Function"
         }
        },
        "yaxis": {
         "anchor": "x",
         "domain": [
          0,
          1
         ],
         "title": {
          "text": "Median Run Time (s)"
         }
        }
       }
      }
     },
     "metadata": {},
     "output_type": "display_data"
    }
   ],
   "source": [
    "results_benchmark_all = joblib.load(\"./benchmark.joblib\")\n",
    "results_benchmark_all['function_name'] = results_benchmark_all['function_name'].str.split('_', n=1).str[1]\n",
    "results_benchmark_all = results_benchmark_all.groupby(['forecaster_name', 'skforecast_version', 'function_name'])['run_time_avg'].agg('median').reset_index()\n",
    "results_benchmark_all = results_benchmark_all.sort_values(by=['function_name'])\n",
    "\n",
    "fig = px.bar(\n",
    "    results_benchmark_all.query(\"forecaster_name in ['ForecasterRecursiveMultiSeries', 'ForecasterAutoregMultiSeries']\"),\n",
    "    x='function_name',\n",
    "    y='run_time_avg',\n",
    "    color='skforecast_version',\n",
    "    barmode='group',\n",
    "    title='MultiSeries Forecasters - Median Run Time by Function and skforecast Version',\n",
    "    labels={'run_time_avg': 'Median Run Time (s)', 'function_name': 'Function'},\n",
    "    category_orders={'skforecast_version': sorted(results_benchmark_all['skforecast_version'].unique())}\n",
    ")\n",
    "fig.update_layout(xaxis_tickangle=-45, height=600)\n",
    "fig.show()\n",
    "\n",
    "fig = px.bar(\n",
    "    results_benchmark_all.query(\"forecaster_name in ['ForecasterRecursive', 'ForecasterAutoreg']\"),\n",
    "    x='function_name',\n",
    "    y='run_time_avg',\n",
    "    color='skforecast_version',\n",
    "    barmode='group',\n",
    "    title='Single-Series Forecasters - Median Run Time by Function and skforecast Version',\n",
    "    labels={'run_time_avg': 'Median Run Time (s)', 'function_name': 'Function'},\n",
    "    category_orders={'skforecast_version': sorted(results_benchmark_all['skforecast_version'].unique())}\n",
    ")\n",
    "fig.update_layout(xaxis_tickangle=-45)\n",
    "fig.show()\n"
   ]
  }
 ],
 "metadata": {
  "kernelspec": {
   "display_name": "skforecast_16_py12",
   "language": "python",
   "name": "python3"
  },
  "language_info": {
   "codemirror_mode": {
    "name": "ipython",
    "version": 3
   },
   "file_extension": ".py",
   "mimetype": "text/x-python",
   "name": "python",
   "nbconvert_exporter": "python",
   "pygments_lexer": "ipython3",
   "version": "3.12.9"
  },
  "orig_nbformat": 4
 },
 "nbformat": 4,
 "nbformat_minor": 2
}
