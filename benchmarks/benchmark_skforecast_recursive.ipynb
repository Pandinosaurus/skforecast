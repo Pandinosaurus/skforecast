{
 "cells": [
  {
   "cell_type": "markdown",
   "metadata": {},
   "source": [
    "# Benchmarking skforecast Recursive Forecasters\n",
    "\n",
    "This notebook benchmarks the performance (velocity) of the `skforecast` in its different versions and keeps track of the results."
   ]
  },
  {
   "cell_type": "markdown",
   "metadata": {},
   "source": [
    "**Notes**\n",
    "\n",
    "+ In version `0.15.0` the binning of residuals was introduced in multi-series forecasters. This explains the increase in the time taken to fit the model."
   ]
  },
  {
   "cell_type": "code",
   "execution_count": 1,
   "metadata": {},
   "outputs": [
    {
     "name": "stdout",
     "output_type": "stream",
     "text": [
      "/home/joaquin/Documents/GitHub/skforecast\n"
     ]
    }
   ],
   "source": [
    "%load_ext autoreload\n",
    "%autoreload 2\n",
    "import sys\n",
    "from pathlib import Path\n",
    "path = str(Path.cwd().parent)\n",
    "print(path)\n",
    "sys.path.insert(1, path)"
   ]
  },
  {
   "cell_type": "code",
   "execution_count": 2,
   "metadata": {},
   "outputs": [],
   "source": [
    "# !pip install --upgrade numpy < 2.0 && \\\n",
    "# pip install --upgrade pandas && \\\n",
    "# pip install --upgrade scikit-learn"
   ]
  },
  {
   "cell_type": "code",
   "execution_count": 3,
   "metadata": {},
   "outputs": [],
   "source": [
    "# !pip install skforecast==0.15.1\n",
    "# !pip install skforecast==0.14.0\n",
    "# !pip install skforecast==0.13.0"
   ]
  },
  {
   "cell_type": "code",
   "execution_count": null,
   "metadata": {},
   "outputs": [],
   "source": [
    "# Libraries\n",
    "# ==============================================================================\n",
    "import numpy as np\n",
    "import pandas as pd\n",
    "import sklearn\n",
    "import joblib\n",
    "from benchmarking import (\n",
    "    plot_benchmark_results,\n",
    "    run_benchmark_ForecasterRecursiveMultiSeries,\n",
    "    run_benchmark_ForecasterRecursive\n",
    ")\n",
    "import skforecast\n",
    "import platform\n",
    "import psutil\n",
    "import plotly.express as px"
   ]
  },
  {
   "cell_type": "code",
   "execution_count": 6,
   "metadata": {},
   "outputs": [
    {
     "name": "stdout",
     "output_type": "stream",
     "text": [
      "Python version: 3.12.9\n",
      "skforecast version: 0.16.0\n",
      "scikit-learn version: 1.6.1\n",
      "pandas version: 2.2.3\n",
      "numpy version: 2.2.5\n",
      "Computer network name: joaquin-HP-ProBook-440-G6\n",
      "Processor type: x86_64\n",
      "Platform type: Linux-6.11.0-24-generic-x86_64-with-glibc2.39\n",
      "Operating system: Linux\n",
      "Operating system release: 6.11.0-24-generic\n",
      "Operating system version: #24~24.04.1-Ubuntu SMP PREEMPT_DYNAMIC Tue Mar 25 20:14:34 UTC 2\n",
      "Number of physical cores: 4\n",
      "Number of logical cores: 8\n"
     ]
    }
   ],
   "source": [
    "print(f\"Python version: {platform.python_version()}\")\n",
    "print(f\"skforecast version: {skforecast.__version__}\")\n",
    "print(f\"scikit-learn version: {sklearn.__version__}\")\n",
    "print(f\"pandas version: {pd.__version__}\")\n",
    "print(f\"numpy version: {np.__version__}\")\n",
    "print(f\"Computer network name: {platform.node()}\")\n",
    "print(f\"Processor type: {platform.processor()}\")\n",
    "print(f\"Platform type: {platform.platform()}\")\n",
    "print(f\"Operating system: {platform.system()}\")\n",
    "print(f\"Operating system release: {platform.release()}\")\n",
    "print(f\"Operating system version: {platform.version()}\")\n",
    "print(f\"Number of physical cores: {psutil.cpu_count(logical=False)}\")\n",
    "print(f\"Number of logical cores: {psutil.cpu_count(logical=True)}\")"
   ]
  },
  {
   "cell_type": "code",
   "execution_count": 7,
   "metadata": {},
   "outputs": [],
   "source": [
    "import warnings\n",
    "warnings.filterwarnings(\n",
    "    \"ignore\",\n",
    "    category=FutureWarning,\n",
    "    message=\"'force_all_finite' was renamed to 'ensure_all_finite'\"\n",
    ")"
   ]
  },
  {
   "cell_type": "markdown",
   "metadata": {},
   "source": [
    "# ForecasterRecursiveMultiSeries"
   ]
  },
  {
   "cell_type": "code",
   "execution_count": null,
   "metadata": {},
   "outputs": [],
   "source": [
    "# Mock data for benchmarking\n",
    "# ==========================================================\n",
    "n_series = 600\n",
    "len_series = 2000\n",
    "series_dict = {}\n",
    "rng = np.random.default_rng(321)\n",
    "for i in range(n_series):\n",
    "    series_dict[f'series_{i}'] = pd.Series(\n",
    "        data = rng.normal(loc=20, scale=5, size=len_series),\n",
    "        index=pd.date_range(\n",
    "            start='2010-01-01',\n",
    "            periods=len_series,\n",
    "            freq='h'\n",
    "        ),\n",
    "        name=f'series_{i}'\n",
    "    )\n",
    "series_dataframe = pd.DataFrame(series_dict, index=series_dict['series_0'].index)\n",
    "\n",
    "exog_dict = {}\n",
    "rng = np.random.default_rng(321)\n",
    "for k in series_dict.keys():\n",
    "    exog = pd.DataFrame(\n",
    "            index=series_dict[k].index\n",
    "            )\n",
    "    exog['day_of_week'] = exog.index.dayofweek\n",
    "    exog['week_of_year'] = exog.index.isocalendar().week.astype(int)\n",
    "    exog['month'] = exog.index.month\n",
    "    exog_dict[k] = exog\n",
    "\n",
    "exog_dict_prediction = {}\n",
    "for k in series_dict.keys():\n",
    "    exog = pd.DataFrame(\n",
    "            index=pd.date_range(\n",
    "                start=series_dict[k].index.max() + pd.Timedelta(hours=1),\n",
    "                periods=100,\n",
    "                freq='h'\n",
    "            )\n",
    "            )\n",
    "    exog['day_of_week'] = exog.index.dayofweek\n",
    "    exog['week_of_year'] = exog.index.isocalendar().week.astype(int)\n",
    "    exog['month'] = exog.index.month\n",
    "    exog_dict_prediction[k] = exog"
   ]
  },
  {
   "cell_type": "code",
   "execution_count": null,
   "metadata": {},
   "outputs": [],
   "source": [
    "run_benchmark_ForecasterRecursiveMultiSeries(\n",
    "    series_dict=series_dict,\n",
    "    series_dataframe=series_dataframe,\n",
    "    exog_dict=exog_dict,\n",
    "    exog_dict_prediction=exog_dict_prediction,\n",
    ")"
   ]
  },
  {
   "cell_type": "code",
   "execution_count": null,
   "metadata": {},
   "outputs": [],
   "source": [
    "# Plot results\n",
    "# ==============================================================================\n",
    "display_df = True\n",
    "selected_date = None\n",
    "# 'Linux-6.11.0-24-generic-x86_64-with-glibc2.39'\n",
    "# 'Windows-10-10.0.19045-SP0'\n",
    "selected_platform = None\n",
    "\n",
    "results_benchmark_all = joblib.load(\"./benchmark.joblib\")\n",
    "results_benchmark = results_benchmark_all.query(\"forecaster_name in ['ForecasterRecursiveMultiSeries', 'ForecasterAutoregMultiSeries']\")\n",
    "results_benchmark = results_benchmark.query(\"regressor_name == 'LGBMRegressor'\")\n",
    "for function_name in results_benchmark['function_name'].unique():\n",
    "    df = results_benchmark.query(f\"function_name == '{function_name}'\")\n",
    "    if selected_date:\n",
    "        df = df[df['datetime'].dt.date == pd.to_datetime(selected_date).date()]\n",
    "    if selected_platform:\n",
    "        df = df[df['platform'] == selected_platform]\n",
    "    if display_df:\n",
    "        display(df.tail(3))\n",
    "    plot_benchmark_results(df.copy(), function_name, add_median=True, add_mean=True)"
   ]
  },
  {
   "cell_type": "markdown",
   "metadata": {},
   "source": [
    "# ForecasterRecursive"
   ]
  },
  {
   "cell_type": "code",
   "execution_count": 8,
   "metadata": {},
   "outputs": [],
   "source": [
    "# Mock data for benchmarking\n",
    "# ==========================================================\n",
    "len_series = 2000\n",
    "rng = np.random.default_rng(321)\n",
    "y = pd.Series(\n",
    "        data = rng.normal(loc=20, scale=5, size=len_series),\n",
    "        index=pd.date_range(\n",
    "            start='2010-01-01',\n",
    "            periods=len_series,\n",
    "            freq='h'\n",
    "        ),\n",
    "        name='y'\n",
    "    )\n",
    "rng = np.random.default_rng(321)\n",
    "exog = pd.DataFrame(index=y.index)\n",
    "exog['day_of_week'] = exog.index.dayofweek\n",
    "exog['week_of_year'] = exog.index.isocalendar().week.astype(int)\n",
    "exog['month'] = exog.index.month\n",
    "exog_prediction = pd.DataFrame(\n",
    "                    index=pd.date_range(\n",
    "                        start=exog.index.max() + pd.Timedelta(hours=1),\n",
    "                        periods=100,\n",
    "                        freq='h'\n",
    "                    )\n",
    "                 ) \n",
    "exog_prediction['day_of_week'] = exog_prediction.index.dayofweek\n",
    "exog_prediction['week_of_year'] = exog_prediction.index.isocalendar().week.astype(int)\n",
    "exog_prediction['month'] = exog_prediction.index.month"
   ]
  },
  {
   "cell_type": "code",
   "execution_count": 10,
   "metadata": {},
   "outputs": [
    {
     "name": "stdout",
     "output_type": "stream",
     "text": [
      "Benchmarking function: ForecasterRecursive__create_train_X_y\n",
      "Benchmarking function: ForecasterRecursive_fit\n",
      "Benchmarking function: ForecasterRecursive_predict\n",
      "Benchmarking function: ForecasterRecursive_predict_interval_conformal\n",
      "Benchmarking function: ForecasterRecursive__create_predict_inputs\n",
      "Benchmarking function: ForecasterRecursive_backtesting\n",
      "Benchmarking function: ForecasterRecursive_backtesting_conformal\n"
     ]
    }
   ],
   "source": [
    "run_benchmark_ForecasterRecursive(y=y, exog=exog, exog_prediction=exog_prediction)"
   ]
  },
  {
   "cell_type": "code",
   "execution_count": 11,
   "metadata": {},
   "outputs": [
    {
     "data": {
      "application/vnd.plotly.v1+json": {
       "config": {
        "plotlyServerURL": "https://plot.ly"
       },
       "data": [
        {
         "error_y": {
          "array": {
           "bdata": "NR099Mk9pD8f6NxQ2vCuP0tKAnGbjp4/BMMQUuRznz8=",
           "dtype": "f8"
          },
          "color": "#636EFA",
          "thickness": 1.5,
          "type": "data",
          "visible": true,
          "width": 5
         },
         "hovertemplate": "%{text}<extra></extra>",
         "marker": {
          "color": "#636EFA",
          "opacity": 0.7,
          "size": 10,
          "symbol": "circle"
         },
         "mode": "markers",
         "name": "0.13.0 - Linux-6.11.0-21-generic-x86_64-with-glibc2.39",
         "showlegend": true,
         "text": [
          "Forecaster: ForecasterAutoreg<br>Regressor: LGBMRegressor<br>Function: ForecasterRecursive_fit<br>Function_hash: 3a6496af8f14196a05b301212de078f0<br>Datetime: 2025-04-23 15:31:29.965594<br>Python version: 3.12.9<br>skforecast version: 0.13.0<br>numpy version: 2.2.5<br>pandas version: 2.2.3<br>sklearn version: 1.6.1<br>lightgbm version: 4.6.0<br>Platform: Linux-6.11.0-21-generic-x86_64-with-glibc2.39<br>Processor: x86_64<br>CPU count: 8<br>Memory (GB): 16.64<br>",
          "Forecaster: ForecasterAutoreg<br>Regressor: LGBMRegressor<br>Function: ForecasterRecursive_fit<br>Function_hash: 3a6496af8f14196a05b301212de078f0<br>Datetime: 2025-04-23 15:41:03.640028<br>Python version: 3.12.9<br>skforecast version: 0.13.0<br>numpy version: 2.2.5<br>pandas version: 2.2.3<br>sklearn version: 1.6.1<br>lightgbm version: 4.6.0<br>Platform: Linux-6.11.0-21-generic-x86_64-with-glibc2.39<br>Processor: x86_64<br>CPU count: 8<br>Memory (GB): 16.64<br>",
          "Forecaster: ForecasterAutoreg<br>Regressor: LGBMRegressor<br>Function: ForecasterRecursive_fit<br>Function_hash: 3a6496af8f14196a05b301212de078f0<br>Datetime: 2025-04-23 15:46:05.440298<br>Python version: 3.12.9<br>skforecast version: 0.13.0<br>numpy version: 2.2.5<br>pandas version: 2.2.3<br>sklearn version: 1.6.1<br>lightgbm version: 4.6.0<br>Platform: Linux-6.11.0-21-generic-x86_64-with-glibc2.39<br>Processor: x86_64<br>CPU count: 8<br>Memory (GB): 16.64<br>",
          "Forecaster: ForecasterAutoreg<br>Regressor: LGBMRegressor<br>Function: ForecasterRecursive_fit<br>Function_hash: 3a6496af8f14196a05b301212de078f0<br>Datetime: 2025-04-23 15:46:38.741227<br>Python version: 3.12.9<br>skforecast version: 0.13.0<br>numpy version: 2.2.5<br>pandas version: 2.2.3<br>sklearn version: 1.6.1<br>lightgbm version: 4.6.0<br>Platform: Linux-6.11.0-21-generic-x86_64-with-glibc2.39<br>Processor: x86_64<br>CPU count: 8<br>Memory (GB): 16.64<br>"
         ],
         "type": "scatter",
         "x": {
          "bdata": "fByzX9/Fir9AKClBT8iAPwyt5c8ZpoA/hj3Rm6N3pT8=",
          "dtype": "f8"
         },
         "y": {
          "bdata": "AICzAldDzj9m5mQF+VjQP2bm2kLl1cs/zUxbwC4Ayz8=",
          "dtype": "f8"
         }
        },
        {
         "error_y": {
          "array": {
           "bdata": "VbtiV3yvpD/Ll75LjL6hP7onfw+9+q8/saTGGg39oT8=",
           "dtype": "f8"
          },
          "color": "#EF553B",
          "thickness": 1.5,
          "type": "data",
          "visible": true,
          "width": 5
         },
         "hovertemplate": "%{text}<extra></extra>",
         "marker": {
          "color": "#EF553B",
          "opacity": 0.7,
          "size": 10,
          "symbol": "circle"
         },
         "mode": "markers",
         "name": "0.14.0 - Linux-6.11.0-21-generic-x86_64-with-glibc2.39",
         "showlegend": true,
         "text": [
          "Forecaster: ForecasterRecursive<br>Regressor: LGBMRegressor<br>Function: ForecasterRecursive_fit<br>Function_hash: 3a6496af8f14196a05b301212de078f0<br>Datetime: 2025-04-23 15:15:57.129152<br>Python version: 3.12.9<br>skforecast version: 0.14.0<br>numpy version: 2.2.5<br>pandas version: 2.2.3<br>sklearn version: 1.6.1<br>lightgbm version: 4.6.0<br>Platform: Linux-6.11.0-21-generic-x86_64-with-glibc2.39<br>Processor: x86_64<br>CPU count: 8<br>Memory (GB): 16.64<br>",
          "Forecaster: ForecasterRecursive<br>Regressor: LGBMRegressor<br>Function: ForecasterRecursive_fit<br>Function_hash: 3a6496af8f14196a05b301212de078f0<br>Datetime: 2025-04-23 15:56:50.851427<br>Python version: 3.12.9<br>skforecast version: 0.14.0<br>numpy version: 2.2.5<br>pandas version: 2.2.3<br>sklearn version: 1.6.1<br>lightgbm version: 4.6.0<br>Platform: Linux-6.11.0-21-generic-x86_64-with-glibc2.39<br>Processor: x86_64<br>CPU count: 8<br>Memory (GB): 16.64<br>",
          "Forecaster: ForecasterRecursive<br>Regressor: LGBMRegressor<br>Function: ForecasterRecursive_fit<br>Function_hash: 3a6496af8f14196a05b301212de078f0<br>Datetime: 2025-04-23 22:17:04.633888<br>Python version: 3.12.9<br>skforecast version: 0.14.0<br>numpy version: 2.2.5<br>pandas version: 2.2.3<br>sklearn version: 1.6.1<br>lightgbm version: 4.6.0<br>Platform: Linux-6.11.0-21-generic-x86_64-with-glibc2.39<br>Processor: x86_64<br>CPU count: 8<br>Memory (GB): 16.64<br>",
          "Forecaster: ForecasterRecursive<br>Regressor: LGBMRegressor<br>Function: ForecasterRecursive_fit<br>Function_hash: 3a6496af8f14196a05b301212de078f0<br>Datetime: 2025-04-23 22:51:15.574093<br>Python version: 3.12.9<br>skforecast version: 0.14.0<br>numpy version: 2.2.5<br>pandas version: 2.2.3<br>sklearn version: 1.6.1<br>lightgbm version: 4.6.0<br>Platform: Linux-6.11.0-21-generic-x86_64-with-glibc2.39<br>Processor: x86_64<br>CPU count: 8<br>Memory (GB): 16.64<br>"
         ],
         "type": "scatter",
         "x": {
          "bdata": "R887kefC7j+9ao9gHibvP2e1h4Dx7+8/uuOMZK1o8D8=",
          "dtype": "f8"
         },
         "y": {
          "bdata": "zUyy8hTAyT8z8yq0l6DRPzMzG6NIgc0/MzP1b7qMzj8=",
          "dtype": "f8"
         }
        },
        {
         "error_y": {
          "array": {
           "bdata": "wkih1BSRnT9wsG3bRzeUPw==",
           "dtype": "f8"
          },
          "color": "#EF553B",
          "thickness": 1.5,
          "type": "data",
          "visible": true,
          "width": 5
         },
         "hovertemplate": "%{text}<extra></extra>",
         "marker": {
          "color": "#EF553B",
          "opacity": 0.7,
          "size": 10,
          "symbol": "square"
         },
         "mode": "markers",
         "name": "0.14.0 - Linux-6.11.0-24-generic-x86_64-with-glibc2.39",
         "showlegend": true,
         "text": [
          "Forecaster: ForecasterRecursive<br>Regressor: LGBMRegressor<br>Function: ForecasterRecursive_fit<br>Function_hash: 3a6496af8f14196a05b301212de078f0<br>Datetime: 2025-04-25 22:33:06.960917<br>Python version: 3.12.9<br>skforecast version: 0.14.0<br>numpy version: 2.2.5<br>pandas version: 2.2.3<br>sklearn version: 1.6.1<br>lightgbm version: 4.6.0<br>Platform: Linux-6.11.0-24-generic-x86_64-with-glibc2.39<br>Processor: x86_64<br>CPU count: 8<br>Memory (GB): 16.64<br>",
          "Forecaster: ForecasterRecursive<br>Regressor: LGBMRegressor<br>Function: ForecasterRecursive_fit<br>Function_hash: 3a6496af8f14196a05b301212de078f0<br>Datetime: 2025-04-25 22:30:23.224222<br>Python version: 3.12.9<br>skforecast version: 0.14.0<br>numpy version: 2.2.5<br>pandas version: 2.2.3<br>sklearn version: 1.6.1<br>lightgbm version: 4.6.0<br>Platform: Linux-6.11.0-24-generic-x86_64-with-glibc2.39<br>Processor: x86_64<br>CPU count: 8<br>Memory (GB): 16.64<br>"
         ],
         "type": "scatter",
         "x": {
          "bdata": "eCqBC6xX8D8I6AmCVnbwPw==",
          "dtype": "f8"
         },
         "y": {
          "bdata": "AIAIC0YkzD8AgI2Q2KrJPw==",
          "dtype": "f8"
         }
        },
        {
         "error_y": {
          "array": {
           "bdata": "L445AHbxiT8WJOra6ueKPw==",
           "dtype": "f8"
          },
          "color": "#EF553B",
          "thickness": 1.5,
          "type": "data",
          "visible": true,
          "width": 5
         },
         "hovertemplate": "%{text}<extra></extra>",
         "marker": {
          "color": "#EF553B",
          "opacity": 0.7,
          "size": 10,
          "symbol": "diamond"
         },
         "mode": "markers",
         "name": "0.14.0 - Windows-10-10.0.19045-SP0",
         "showlegend": true,
         "text": [
          "Forecaster: ForecasterRecursive<br>Regressor: LGBMRegressor<br>Function: ForecasterRecursive_fit<br>Function_hash: 3a6496af8f14196a05b301212de078f0<br>Datetime: 2025-04-24 10:44:52.756588<br>Python version: 3.11.10<br>skforecast version: 0.14.0<br>numpy version: 2.1.3<br>pandas version: 2.2.3<br>sklearn version: 1.6.1<br>lightgbm version: 4.5.0<br>Platform: Windows-10-10.0.19045-SP0<br>Processor: Intel64 Family 6 Model 141 Stepping 1, GenuineIntel<br>CPU count: 16<br>Memory (GB): 34.07<br>",
          "Forecaster: ForecasterRecursive<br>Regressor: LGBMRegressor<br>Function: ForecasterRecursive_fit<br>Function_hash: 3a6496af8f14196a05b301212de078f0<br>Datetime: 2025-04-24 11:12:08.942372<br>Python version: 3.11.10<br>skforecast version: 0.14.0<br>numpy version: 2.1.3<br>pandas version: 2.2.3<br>sklearn version: 1.6.1<br>lightgbm version: 4.5.0<br>Platform: Windows-10-10.0.19045-SP0<br>Processor: Intel64 Family 6 Model 141 Stepping 1, GenuineIntel<br>CPU count: 16<br>Memory (GB): 34.07<br>"
         ],
         "type": "scatter",
         "x": {
          "bdata": "dXOspRCh8D+AqRhxSlrwPw==",
          "dtype": "f8"
         },
         "y": {
          "bdata": "MzNjZUxFvD/NzJQTtMm9Pw==",
          "dtype": "f8"
         }
        },
        {
         "error_y": {
          "array": {
           "bdata": "BM+5k7eapz/R+VdCo2edPzEd3ytxhI4/P0smo2Z/lz+g62nXLh+zPw==",
           "dtype": "f8"
          },
          "color": "#00CC96",
          "thickness": 1.5,
          "type": "data",
          "visible": true,
          "width": 5
         },
         "hovertemplate": "%{text}<extra></extra>",
         "marker": {
          "color": "#00CC96",
          "opacity": 0.7,
          "size": 10,
          "symbol": "circle"
         },
         "mode": "markers",
         "name": "0.15.1 - Linux-6.11.0-21-generic-x86_64-with-glibc2.39",
         "showlegend": true,
         "text": [
          "Forecaster: ForecasterRecursive<br>Regressor: LGBMRegressor<br>Function: ForecasterRecursive_fit<br>Function_hash: 3a6496af8f14196a05b301212de078f0<br>Datetime: 2025-04-23 15:12:01.602347<br>Python version: 3.12.9<br>skforecast version: 0.15.1<br>numpy version: 2.2.5<br>pandas version: 2.2.3<br>sklearn version: 1.6.1<br>lightgbm version: 4.6.0<br>Platform: Linux-6.11.0-21-generic-x86_64-with-glibc2.39<br>Processor: x86_64<br>CPU count: 8<br>Memory (GB): 16.64<br>",
          "Forecaster: ForecasterRecursive<br>Regressor: LGBMRegressor<br>Function: ForecasterRecursive_fit<br>Function_hash: 3a6496af8f14196a05b301212de078f0<br>Datetime: 2025-04-23 22:04:06.916937<br>Python version: 3.12.9<br>skforecast version: 0.15.1<br>numpy version: 2.2.5<br>pandas version: 2.2.3<br>sklearn version: 1.6.1<br>lightgbm version: 4.6.0<br>Platform: Linux-6.11.0-21-generic-x86_64-with-glibc2.39<br>Processor: x86_64<br>CPU count: 8<br>Memory (GB): 16.64<br>",
          "Forecaster: ForecasterRecursive<br>Regressor: LGBMRegressor<br>Function: ForecasterRecursive_fit<br>Function_hash: 3a6496af8f14196a05b301212de078f0<br>Datetime: 2025-04-23 20:22:36.622787<br>Python version: 3.12.9<br>skforecast version: 0.15.1<br>numpy version: 2.2.5<br>pandas version: 2.2.3<br>sklearn version: 1.6.1<br>lightgbm version: 4.6.0<br>Platform: Linux-6.11.0-21-generic-x86_64-with-glibc2.39<br>Processor: x86_64<br>CPU count: 8<br>Memory (GB): 16.64<br>",
          "Forecaster: ForecasterRecursive<br>Regressor: LGBMRegressor<br>Function: ForecasterRecursive_fit<br>Function_hash: 3a6496af8f14196a05b301212de078f0<br>Datetime: 2025-04-23 16:05:31.689260<br>Python version: 3.12.9<br>skforecast version: 0.15.1<br>numpy version: 2.2.5<br>pandas version: 2.2.3<br>sklearn version: 1.6.1<br>lightgbm version: 4.6.0<br>Platform: Linux-6.11.0-21-generic-x86_64-with-glibc2.39<br>Processor: x86_64<br>CPU count: 8<br>Memory (GB): 16.64<br>",
          "Forecaster: ForecasterRecursive<br>Regressor: LGBMRegressor<br>Function: ForecasterRecursive_fit<br>Function_hash: 3a6496af8f14196a05b301212de078f0<br>Datetime: 2025-04-23 16:01:03.371465<br>Python version: 3.12.9<br>skforecast version: 0.15.1<br>numpy version: 2.2.5<br>pandas version: 2.2.3<br>sklearn version: 1.6.1<br>lightgbm version: 4.6.0<br>Platform: Linux-6.11.0-21-generic-x86_64-with-glibc2.39<br>Processor: x86_64<br>CPU count: 8<br>Memory (GB): 16.64<br>"
         ],
         "type": "scatter",
         "x": {
          "bdata": "9OmPOu5BAEDZGSt0i08AQO4kD5sOBABAYJn7hhxa/z88jdp4XGj/Pw==",
          "dtype": "f8"
         },
         "y": {
          "bdata": "AADTXSGJyD9mZmxpfMLHP2bm1Idcbsc/AADPtsq3yD+aGe7Ob4vRPw==",
          "dtype": "f8"
         }
        },
        {
         "error_y": {
          "array": {
           "bdata": "QdgKr2xYkz+T6OCAgEeiP95c9xl6yaA/",
           "dtype": "f8"
          },
          "color": "#00CC96",
          "thickness": 1.5,
          "type": "data",
          "visible": true,
          "width": 5
         },
         "hovertemplate": "%{text}<extra></extra>",
         "marker": {
          "color": "#00CC96",
          "opacity": 0.7,
          "size": 10,
          "symbol": "square"
         },
         "mode": "markers",
         "name": "0.15.1 - Linux-6.11.0-24-generic-x86_64-with-glibc2.39",
         "showlegend": true,
         "text": [
          "Forecaster: ForecasterRecursive<br>Regressor: LGBMRegressor<br>Function: ForecasterRecursive_fit<br>Function_hash: 3a6496af8f14196a05b301212de078f0<br>Datetime: 2025-04-25 22:29:39.702966<br>Python version: 3.12.9<br>skforecast version: 0.15.1<br>numpy version: 2.2.5<br>pandas version: 2.2.3<br>sklearn version: 1.6.1<br>lightgbm version: 4.6.0<br>Platform: Linux-6.11.0-24-generic-x86_64-with-glibc2.39<br>Processor: x86_64<br>CPU count: 8<br>Memory (GB): 16.64<br>",
          "Forecaster: ForecasterRecursive<br>Regressor: LGBMRegressor<br>Function: ForecasterRecursive_fit<br>Function_hash: 3a6496af8f14196a05b301212de078f0<br>Datetime: 2025-04-25 22:29:03.439995<br>Python version: 3.12.9<br>skforecast version: 0.15.1<br>numpy version: 2.2.5<br>pandas version: 2.2.3<br>sklearn version: 1.6.1<br>lightgbm version: 4.6.0<br>Platform: Linux-6.11.0-24-generic-x86_64-with-glibc2.39<br>Processor: x86_64<br>CPU count: 8<br>Memory (GB): 16.64<br>",
          "Forecaster: ForecasterRecursive<br>Regressor: LGBMRegressor<br>Function: ForecasterRecursive_fit<br>Function_hash: 3a6496af8f14196a05b301212de078f0<br>Datetime: 2025-04-24 23:06:10.766851<br>Python version: 3.12.9<br>skforecast version: 0.15.1<br>numpy version: 2.2.5<br>pandas version: 2.2.3<br>sklearn version: 1.6.1<br>lightgbm version: 4.6.0<br>Platform: Linux-6.11.0-24-generic-x86_64-with-glibc2.39<br>Processor: x86_64<br>CPU count: 8<br>Memory (GB): 16.64<br>"
         ],
         "type": "scatter",
         "x": {
          "bdata": "O21cSeg6AEAq4w44tEMAQELsNhCxCABA",
          "dtype": "f8"
         },
         "y": {
          "bdata": "MzM9KSltyz8AgCB0fG/NPzOz4Q7Kjsg/",
          "dtype": "f8"
         }
        },
        {
         "error_y": {
          "array": {
           "bdata": "5b4Orv37gz8vltYGw/uGPw==",
           "dtype": "f8"
          },
          "color": "#00CC96",
          "thickness": 1.5,
          "type": "data",
          "visible": true,
          "width": 5
         },
         "hovertemplate": "%{text}<extra></extra>",
         "marker": {
          "color": "#00CC96",
          "opacity": 0.7,
          "size": 10,
          "symbol": "diamond"
         },
         "mode": "markers",
         "name": "0.15.1 - Windows-10-10.0.19045-SP0",
         "showlegend": true,
         "text": [
          "Forecaster: ForecasterRecursive<br>Regressor: LGBMRegressor<br>Function: ForecasterRecursive_fit<br>Function_hash: 3a6496af8f14196a05b301212de078f0<br>Datetime: 2025-04-24 11:22:07.251396<br>Python version: 3.11.10<br>skforecast version: 0.15.1<br>numpy version: 2.1.3<br>pandas version: 2.2.3<br>sklearn version: 1.6.1<br>lightgbm version: 4.5.0<br>Platform: Windows-10-10.0.19045-SP0<br>Processor: Intel64 Family 6 Model 141 Stepping 1, GenuineIntel<br>CPU count: 16<br>Memory (GB): 34.07<br>",
          "Forecaster: ForecasterRecursive<br>Regressor: LGBMRegressor<br>Function: ForecasterRecursive_fit<br>Function_hash: 3a6496af8f14196a05b301212de078f0<br>Datetime: 2025-04-24 10:38:47.237622<br>Python version: 3.11.10<br>skforecast version: 0.15.1<br>numpy version: 2.1.3<br>pandas version: 2.2.3<br>sklearn version: 1.6.1<br>lightgbm version: 4.5.0<br>Platform: Windows-10-10.0.19045-SP0<br>Processor: Intel64 Family 6 Model 141 Stepping 1, GenuineIntel<br>CPU count: 16<br>Memory (GB): 34.07<br>"
         ],
         "type": "scatter",
         "x": {
          "bdata": "5mXZJjl1/z8c5LQAE0z/Pw==",
          "dtype": "f8"
         },
         "y": {
          "bdata": "zcz8crBIvz8AAOjHX1q8Pw==",
          "dtype": "f8"
         }
        },
        {
         "error_y": {
          "array": {
           "bdata": "bRcYqhZciT8eTt/FvNKyP3Ifb6aIVqI/4U5IeFuJnD8EttrnxPylP4bzSmsHx58/deQ9aCFupT+W/4JbhDajP6hpxnXFaIs/",
           "dtype": "f8"
          },
          "color": "#AB63FA",
          "thickness": 1.5,
          "type": "data",
          "visible": true,
          "width": 5
         },
         "hovertemplate": "%{text}<extra></extra>",
         "marker": {
          "color": "#AB63FA",
          "opacity": 0.7,
          "size": 10,
          "symbol": "square"
         },
         "mode": "markers",
         "name": "0.16.0 - Linux-6.11.0-24-generic-x86_64-with-glibc2.39",
         "showlegend": true,
         "text": [
          "Forecaster: ForecasterRecursive<br>Regressor: LGBMRegressor<br>Function: ForecasterRecursive_fit<br>Function_hash: 3a6496af8f14196a05b301212de078f0<br>Datetime: 2025-04-24 22:43:37.606860<br>Python version: 3.12.9<br>skforecast version: 0.16.0<br>numpy version: 2.2.5<br>pandas version: 2.2.3<br>sklearn version: 1.6.1<br>lightgbm version: 4.6.0<br>Platform: Linux-6.11.0-24-generic-x86_64-with-glibc2.39<br>Processor: x86_64<br>CPU count: 8<br>Memory (GB): 16.64<br>",
          "Forecaster: ForecasterRecursive<br>Regressor: LGBMRegressor<br>Function: ForecasterRecursive_fit<br>Function_hash: 3a6496af8f14196a05b301212de078f0<br>Datetime: 2025-04-25 22:23:58.190264<br>Python version: 3.12.9<br>skforecast version: 0.16.0<br>numpy version: 2.2.5<br>pandas version: 2.2.3<br>sklearn version: 1.6.1<br>lightgbm version: 4.6.0<br>Platform: Linux-6.11.0-24-generic-x86_64-with-glibc2.39<br>Processor: x86_64<br>CPU count: 8<br>Memory (GB): 16.64<br>",
          "Forecaster: ForecasterRecursive<br>Regressor: LGBMRegressor<br>Function: ForecasterRecursive_fit<br>Function_hash: 3a6496af8f14196a05b301212de078f0<br>Datetime: 2025-04-25 22:25:56.728001<br>Python version: 3.12.9<br>skforecast version: 0.16.0<br>numpy version: 2.2.5<br>pandas version: 2.2.3<br>sklearn version: 1.6.1<br>lightgbm version: 4.6.0<br>Platform: Linux-6.11.0-24-generic-x86_64-with-glibc2.39<br>Processor: x86_64<br>CPU count: 8<br>Memory (GB): 16.64<br>",
          "Forecaster: ForecasterRecursive<br>Regressor: LGBMRegressor<br>Function: ForecasterRecursive_fit<br>Function_hash: 3a6496af8f14196a05b301212de078f0<br>Datetime: 2025-04-25 22:26:29.231874<br>Python version: 3.12.9<br>skforecast version: 0.16.0<br>numpy version: 2.2.5<br>pandas version: 2.2.3<br>sklearn version: 1.6.1<br>lightgbm version: 4.6.0<br>Platform: Linux-6.11.0-24-generic-x86_64-with-glibc2.39<br>Processor: x86_64<br>CPU count: 8<br>Memory (GB): 16.64<br>",
          "Forecaster: ForecasterRecursive<br>Regressor: LGBMRegressor<br>Function: ForecasterRecursive_fit<br>Function_hash: 3a6496af8f14196a05b301212de078f0<br>Datetime: 2025-04-25 22:27:16.486226<br>Python version: 3.12.9<br>skforecast version: 0.16.0<br>numpy version: 2.2.5<br>pandas version: 2.2.3<br>sklearn version: 1.6.1<br>lightgbm version: 4.6.0<br>Platform: Linux-6.11.0-24-generic-x86_64-with-glibc2.39<br>Processor: x86_64<br>CPU count: 8<br>Memory (GB): 16.64<br>",
          "Forecaster: ForecasterRecursive<br>Regressor: LGBMRegressor<br>Function: ForecasterRecursive_fit<br>Function_hash: 3a6496af8f14196a05b301212de078f0<br>Datetime: 2025-04-25 22:28:15.944123<br>Python version: 3.12.9<br>skforecast version: 0.16.0<br>numpy version: 2.2.5<br>pandas version: 2.2.3<br>sklearn version: 1.6.1<br>lightgbm version: 4.6.0<br>Platform: Linux-6.11.0-24-generic-x86_64-with-glibc2.39<br>Processor: x86_64<br>CPU count: 8<br>Memory (GB): 16.64<br>",
          "Forecaster: ForecasterRecursive<br>Regressor: LGBMRegressor<br>Function: ForecasterRecursive_fit<br>Function_hash: 3a6496af8f14196a05b301212de078f0<br>Datetime: 2025-04-25 22:36:58.853004<br>Python version: 3.12.9<br>skforecast version: 0.16.0<br>numpy version: 2.2.5<br>pandas version: 2.2.3<br>sklearn version: 1.6.1<br>lightgbm version: 4.6.0<br>Platform: Linux-6.11.0-24-generic-x86_64-with-glibc2.39<br>Processor: x86_64<br>CPU count: 8<br>Memory (GB): 16.64<br>",
          "Forecaster: ForecasterRecursive<br>Regressor: LGBMRegressor<br>Function: ForecasterRecursive_fit<br>Function_hash: 3a6496af8f14196a05b301212de078f0<br>Datetime: 2025-04-25 22:58:06.612772<br>Python version: 3.12.9<br>skforecast version: 0.16.0<br>numpy version: 2.2.5<br>pandas version: 2.2.3<br>sklearn version: 1.6.1<br>lightgbm version: 4.6.0<br>Platform: Linux-6.11.0-24-generic-x86_64-with-glibc2.39<br>Processor: x86_64<br>CPU count: 8<br>Memory (GB): 16.64<br>",
          "Forecaster: ForecasterRecursive<br>Regressor: LGBMRegressor<br>Function: ForecasterRecursive_fit<br>Function_hash: 9d73eaf5faa980194d715362601eed68<br>Datetime: 2025-04-27 11:58:00.476665<br>Python version: 3.12.9<br>skforecast version: 0.16.0<br>numpy version: 2.2.5<br>pandas version: 2.2.3<br>sklearn version: 1.6.1<br>lightgbm version: 4.6.0<br>Platform: Linux-6.11.0-24-generic-x86_64-with-glibc2.39<br>Processor: x86_64<br>CPU count: 8<br>Memory (GB): 16.64<br>"
         ],
         "type": "scatter",
         "x": {
          "bdata": "o5B3p65UCEDwe8YQCBwIQL1cCLapsgdAaWNkGdn0B0CaEj/qo0QIQNM+DpKwmwdAuBLwKDGcB0DuJQ55yDUIQMBjPI9E2QdA",
          "dtype": "f8"
         },
         "y": {
          "bdata": "AICnxyJExz8zM44NjHzLPzOzTtd3480/zczg7z7/yj8AgOlGsePOP5oZpTSsHM8/M7MGak4p0D8z8zDzMuXSP5oZI9VGAMk/",
          "dtype": "f8"
         }
        },
        {
         "error_y": {
          "array": {
           "bdata": "qKi/aZJWfj9jeyj+28BxPw==",
           "dtype": "f8"
          },
          "color": "#AB63FA",
          "thickness": 1.5,
          "type": "data",
          "visible": true,
          "width": 5
         },
         "hovertemplate": "%{text}<extra></extra>",
         "marker": {
          "color": "#AB63FA",
          "opacity": 0.7,
          "size": 10,
          "symbol": "diamond"
         },
         "mode": "markers",
         "name": "0.16.0 - Windows-10-10.0.19045-SP0",
         "showlegend": true,
         "text": [
          "Forecaster: ForecasterRecursive<br>Regressor: LGBMRegressor<br>Function: ForecasterRecursive_fit<br>Function_hash: 3a6496af8f14196a05b301212de078f0<br>Datetime: 2025-04-24 18:09:24.813587<br>Python version: 3.11.10<br>skforecast version: 0.16.0<br>numpy version: 2.2.5<br>pandas version: 2.2.3<br>sklearn version: 1.6.1<br>lightgbm version: 4.5.0<br>Platform: Windows-10-10.0.19045-SP0<br>Processor: Intel64 Family 6 Model 141 Stepping 1, GenuineIntel<br>CPU count: 16<br>Memory (GB): 34.07<br>",
          "Forecaster: ForecasterRecursive<br>Regressor: LGBMRegressor<br>Function: ForecasterRecursive_fit<br>Function_hash: 3a6496af8f14196a05b301212de078f0<br>Datetime: 2025-04-24 18:24:11.913187<br>Python version: 3.11.10<br>skforecast version: 0.16.0<br>numpy version: 2.2.5<br>pandas version: 2.2.3<br>sklearn version: 1.6.1<br>lightgbm version: 4.5.0<br>Platform: Windows-10-10.0.19045-SP0<br>Processor: Intel64 Family 6 Model 141 Stepping 1, GenuineIntel<br>CPU count: 16<br>Memory (GB): 34.07<br>"
         ],
         "type": "scatter",
         "x": {
          "bdata": "QqPfMFkXCEBr5Mtt+dcHQA==",
          "dtype": "f8"
         },
         "y": {
          "bdata": "zcz4lO9bwD9mZjaFAKa+Pw==",
          "dtype": "f8"
         }
        },
        {
         "line": {
          "color": "black",
          "width": 2
         },
         "marker": {
          "color": "black",
          "size": 8
         },
         "mode": "lines+markers",
         "name": "Median (per version)",
         "type": "scatter",
         "x": {
          "bdata": "AAECAw==",
          "dtype": "i1"
         },
         "y": {
          "bdata": "MzPHIp4MzT9mZt1+LfLKP5pZWrb1i8g/MzOODYx8yz8=",
          "dtype": "f8"
         }
        },
        {
         "line": {
          "color": "black",
          "dash": "dash",
          "width": 2
         },
         "marker": {
          "color": "black",
          "size": 8
         },
         "mode": "lines+markers",
         "name": "Mean (per version)",
         "type": "scatter",
         "x": {
          "bdata": "AAECAw==",
          "dtype": "i1"
         },
         "y": {
          "bdata": "AOAsRNdyzT8zU8XIvHzJP+K68Qr2Rsg/eUqlaOjyyj8=",
          "dtype": "f8"
         }
        }
       ],
       "layout": {
        "showlegend": true,
        "template": {
         "data": {
          "bar": [
           {
            "error_x": {
             "color": "#2a3f5f"
            },
            "error_y": {
             "color": "#2a3f5f"
            },
            "marker": {
             "line": {
              "color": "#E5ECF6",
              "width": 0.5
             },
             "pattern": {
              "fillmode": "overlay",
              "size": 10,
              "solidity": 0.2
             }
            },
            "type": "bar"
           }
          ],
          "barpolar": [
           {
            "marker": {
             "line": {
              "color": "#E5ECF6",
              "width": 0.5
             },
             "pattern": {
              "fillmode": "overlay",
              "size": 10,
              "solidity": 0.2
             }
            },
            "type": "barpolar"
           }
          ],
          "carpet": [
           {
            "aaxis": {
             "endlinecolor": "#2a3f5f",
             "gridcolor": "white",
             "linecolor": "white",
             "minorgridcolor": "white",
             "startlinecolor": "#2a3f5f"
            },
            "baxis": {
             "endlinecolor": "#2a3f5f",
             "gridcolor": "white",
             "linecolor": "white",
             "minorgridcolor": "white",
             "startlinecolor": "#2a3f5f"
            },
            "type": "carpet"
           }
          ],
          "choropleth": [
           {
            "colorbar": {
             "outlinewidth": 0,
             "ticks": ""
            },
            "type": "choropleth"
           }
          ],
          "contour": [
           {
            "colorbar": {
             "outlinewidth": 0,
             "ticks": ""
            },
            "colorscale": [
             [
              0,
              "#0d0887"
             ],
             [
              0.1111111111111111,
              "#46039f"
             ],
             [
              0.2222222222222222,
              "#7201a8"
             ],
             [
              0.3333333333333333,
              "#9c179e"
             ],
             [
              0.4444444444444444,
              "#bd3786"
             ],
             [
              0.5555555555555556,
              "#d8576b"
             ],
             [
              0.6666666666666666,
              "#ed7953"
             ],
             [
              0.7777777777777778,
              "#fb9f3a"
             ],
             [
              0.8888888888888888,
              "#fdca26"
             ],
             [
              1,
              "#f0f921"
             ]
            ],
            "type": "contour"
           }
          ],
          "contourcarpet": [
           {
            "colorbar": {
             "outlinewidth": 0,
             "ticks": ""
            },
            "type": "contourcarpet"
           }
          ],
          "heatmap": [
           {
            "colorbar": {
             "outlinewidth": 0,
             "ticks": ""
            },
            "colorscale": [
             [
              0,
              "#0d0887"
             ],
             [
              0.1111111111111111,
              "#46039f"
             ],
             [
              0.2222222222222222,
              "#7201a8"
             ],
             [
              0.3333333333333333,
              "#9c179e"
             ],
             [
              0.4444444444444444,
              "#bd3786"
             ],
             [
              0.5555555555555556,
              "#d8576b"
             ],
             [
              0.6666666666666666,
              "#ed7953"
             ],
             [
              0.7777777777777778,
              "#fb9f3a"
             ],
             [
              0.8888888888888888,
              "#fdca26"
             ],
             [
              1,
              "#f0f921"
             ]
            ],
            "type": "heatmap"
           }
          ],
          "histogram": [
           {
            "marker": {
             "pattern": {
              "fillmode": "overlay",
              "size": 10,
              "solidity": 0.2
             }
            },
            "type": "histogram"
           }
          ],
          "histogram2d": [
           {
            "colorbar": {
             "outlinewidth": 0,
             "ticks": ""
            },
            "colorscale": [
             [
              0,
              "#0d0887"
             ],
             [
              0.1111111111111111,
              "#46039f"
             ],
             [
              0.2222222222222222,
              "#7201a8"
             ],
             [
              0.3333333333333333,
              "#9c179e"
             ],
             [
              0.4444444444444444,
              "#bd3786"
             ],
             [
              0.5555555555555556,
              "#d8576b"
             ],
             [
              0.6666666666666666,
              "#ed7953"
             ],
             [
              0.7777777777777778,
              "#fb9f3a"
             ],
             [
              0.8888888888888888,
              "#fdca26"
             ],
             [
              1,
              "#f0f921"
             ]
            ],
            "type": "histogram2d"
           }
          ],
          "histogram2dcontour": [
           {
            "colorbar": {
             "outlinewidth": 0,
             "ticks": ""
            },
            "colorscale": [
             [
              0,
              "#0d0887"
             ],
             [
              0.1111111111111111,
              "#46039f"
             ],
             [
              0.2222222222222222,
              "#7201a8"
             ],
             [
              0.3333333333333333,
              "#9c179e"
             ],
             [
              0.4444444444444444,
              "#bd3786"
             ],
             [
              0.5555555555555556,
              "#d8576b"
             ],
             [
              0.6666666666666666,
              "#ed7953"
             ],
             [
              0.7777777777777778,
              "#fb9f3a"
             ],
             [
              0.8888888888888888,
              "#fdca26"
             ],
             [
              1,
              "#f0f921"
             ]
            ],
            "type": "histogram2dcontour"
           }
          ],
          "mesh3d": [
           {
            "colorbar": {
             "outlinewidth": 0,
             "ticks": ""
            },
            "type": "mesh3d"
           }
          ],
          "parcoords": [
           {
            "line": {
             "colorbar": {
              "outlinewidth": 0,
              "ticks": ""
             }
            },
            "type": "parcoords"
           }
          ],
          "pie": [
           {
            "automargin": true,
            "type": "pie"
           }
          ],
          "scatter": [
           {
            "fillpattern": {
             "fillmode": "overlay",
             "size": 10,
             "solidity": 0.2
            },
            "type": "scatter"
           }
          ],
          "scatter3d": [
           {
            "line": {
             "colorbar": {
              "outlinewidth": 0,
              "ticks": ""
             }
            },
            "marker": {
             "colorbar": {
              "outlinewidth": 0,
              "ticks": ""
             }
            },
            "type": "scatter3d"
           }
          ],
          "scattercarpet": [
           {
            "marker": {
             "colorbar": {
              "outlinewidth": 0,
              "ticks": ""
             }
            },
            "type": "scattercarpet"
           }
          ],
          "scattergeo": [
           {
            "marker": {
             "colorbar": {
              "outlinewidth": 0,
              "ticks": ""
             }
            },
            "type": "scattergeo"
           }
          ],
          "scattergl": [
           {
            "marker": {
             "colorbar": {
              "outlinewidth": 0,
              "ticks": ""
             }
            },
            "type": "scattergl"
           }
          ],
          "scattermap": [
           {
            "marker": {
             "colorbar": {
              "outlinewidth": 0,
              "ticks": ""
             }
            },
            "type": "scattermap"
           }
          ],
          "scattermapbox": [
           {
            "marker": {
             "colorbar": {
              "outlinewidth": 0,
              "ticks": ""
             }
            },
            "type": "scattermapbox"
           }
          ],
          "scatterpolar": [
           {
            "marker": {
             "colorbar": {
              "outlinewidth": 0,
              "ticks": ""
             }
            },
            "type": "scatterpolar"
           }
          ],
          "scatterpolargl": [
           {
            "marker": {
             "colorbar": {
              "outlinewidth": 0,
              "ticks": ""
             }
            },
            "type": "scatterpolargl"
           }
          ],
          "scatterternary": [
           {
            "marker": {
             "colorbar": {
              "outlinewidth": 0,
              "ticks": ""
             }
            },
            "type": "scatterternary"
           }
          ],
          "surface": [
           {
            "colorbar": {
             "outlinewidth": 0,
             "ticks": ""
            },
            "colorscale": [
             [
              0,
              "#0d0887"
             ],
             [
              0.1111111111111111,
              "#46039f"
             ],
             [
              0.2222222222222222,
              "#7201a8"
             ],
             [
              0.3333333333333333,
              "#9c179e"
             ],
             [
              0.4444444444444444,
              "#bd3786"
             ],
             [
              0.5555555555555556,
              "#d8576b"
             ],
             [
              0.6666666666666666,
              "#ed7953"
             ],
             [
              0.7777777777777778,
              "#fb9f3a"
             ],
             [
              0.8888888888888888,
              "#fdca26"
             ],
             [
              1,
              "#f0f921"
             ]
            ],
            "type": "surface"
           }
          ],
          "table": [
           {
            "cells": {
             "fill": {
              "color": "#EBF0F8"
             },
             "line": {
              "color": "white"
             }
            },
            "header": {
             "fill": {
              "color": "#C8D4E3"
             },
             "line": {
              "color": "white"
             }
            },
            "type": "table"
           }
          ]
         },
         "layout": {
          "annotationdefaults": {
           "arrowcolor": "#2a3f5f",
           "arrowhead": 0,
           "arrowwidth": 1
          },
          "autotypenumbers": "strict",
          "coloraxis": {
           "colorbar": {
            "outlinewidth": 0,
            "ticks": ""
           }
          },
          "colorscale": {
           "diverging": [
            [
             0,
             "#8e0152"
            ],
            [
             0.1,
             "#c51b7d"
            ],
            [
             0.2,
             "#de77ae"
            ],
            [
             0.3,
             "#f1b6da"
            ],
            [
             0.4,
             "#fde0ef"
            ],
            [
             0.5,
             "#f7f7f7"
            ],
            [
             0.6,
             "#e6f5d0"
            ],
            [
             0.7,
             "#b8e186"
            ],
            [
             0.8,
             "#7fbc41"
            ],
            [
             0.9,
             "#4d9221"
            ],
            [
             1,
             "#276419"
            ]
           ],
           "sequential": [
            [
             0,
             "#0d0887"
            ],
            [
             0.1111111111111111,
             "#46039f"
            ],
            [
             0.2222222222222222,
             "#7201a8"
            ],
            [
             0.3333333333333333,
             "#9c179e"
            ],
            [
             0.4444444444444444,
             "#bd3786"
            ],
            [
             0.5555555555555556,
             "#d8576b"
            ],
            [
             0.6666666666666666,
             "#ed7953"
            ],
            [
             0.7777777777777778,
             "#fb9f3a"
            ],
            [
             0.8888888888888888,
             "#fdca26"
            ],
            [
             1,
             "#f0f921"
            ]
           ],
           "sequentialminus": [
            [
             0,
             "#0d0887"
            ],
            [
             0.1111111111111111,
             "#46039f"
            ],
            [
             0.2222222222222222,
             "#7201a8"
            ],
            [
             0.3333333333333333,
             "#9c179e"
            ],
            [
             0.4444444444444444,
             "#bd3786"
            ],
            [
             0.5555555555555556,
             "#d8576b"
            ],
            [
             0.6666666666666666,
             "#ed7953"
            ],
            [
             0.7777777777777778,
             "#fb9f3a"
            ],
            [
             0.8888888888888888,
             "#fdca26"
            ],
            [
             1,
             "#f0f921"
            ]
           ]
          },
          "colorway": [
           "#636efa",
           "#EF553B",
           "#00cc96",
           "#ab63fa",
           "#FFA15A",
           "#19d3f3",
           "#FF6692",
           "#B6E880",
           "#FF97FF",
           "#FECB52"
          ],
          "font": {
           "color": "#2a3f5f"
          },
          "geo": {
           "bgcolor": "white",
           "lakecolor": "white",
           "landcolor": "#E5ECF6",
           "showlakes": true,
           "showland": true,
           "subunitcolor": "white"
          },
          "hoverlabel": {
           "align": "left"
          },
          "hovermode": "closest",
          "mapbox": {
           "style": "light"
          },
          "paper_bgcolor": "white",
          "plot_bgcolor": "#E5ECF6",
          "polar": {
           "angularaxis": {
            "gridcolor": "white",
            "linecolor": "white",
            "ticks": ""
           },
           "bgcolor": "#E5ECF6",
           "radialaxis": {
            "gridcolor": "white",
            "linecolor": "white",
            "ticks": ""
           }
          },
          "scene": {
           "xaxis": {
            "backgroundcolor": "#E5ECF6",
            "gridcolor": "white",
            "gridwidth": 2,
            "linecolor": "white",
            "showbackground": true,
            "ticks": "",
            "zerolinecolor": "white"
           },
           "yaxis": {
            "backgroundcolor": "#E5ECF6",
            "gridcolor": "white",
            "gridwidth": 2,
            "linecolor": "white",
            "showbackground": true,
            "ticks": "",
            "zerolinecolor": "white"
           },
           "zaxis": {
            "backgroundcolor": "#E5ECF6",
            "gridcolor": "white",
            "gridwidth": 2,
            "linecolor": "white",
            "showbackground": true,
            "ticks": "",
            "zerolinecolor": "white"
           }
          },
          "shapedefaults": {
           "line": {
            "color": "#2a3f5f"
           }
          },
          "ternary": {
           "aaxis": {
            "gridcolor": "white",
            "linecolor": "white",
            "ticks": ""
           },
           "baxis": {
            "gridcolor": "white",
            "linecolor": "white",
            "ticks": ""
           },
           "bgcolor": "#E5ECF6",
           "caxis": {
            "gridcolor": "white",
            "linecolor": "white",
            "ticks": ""
           }
          },
          "title": {
           "x": 0.05
          },
          "xaxis": {
           "automargin": true,
           "gridcolor": "white",
           "linecolor": "white",
           "ticks": "",
           "title": {
            "standoff": 15
           },
           "zerolinecolor": "white",
           "zerolinewidth": 2
          },
          "yaxis": {
           "automargin": true,
           "gridcolor": "white",
           "linecolor": "white",
           "ticks": "",
           "title": {
            "standoff": 15
           },
           "zerolinecolor": "white",
           "zerolinewidth": 2
          }
         }
        },
        "title": {
         "text": "Execution time of ForecasterRecursive_fit"
        },
        "xaxis": {
         "tickangle": -45,
         "tickmode": "array",
         "ticktext": [
          "0.13.0",
          "0.14.0",
          "0.15.1",
          "0.16.0"
         ],
         "tickvals": [
          0,
          1,
          2,
          3
         ],
         "title": {
          "text": "skforecast version"
         }
        },
        "yaxis": {
         "title": {
          "text": "Execution time (seconds)"
         }
        }
       }
      }
     },
     "metadata": {},
     "output_type": "display_data"
    },
    {
     "data": {
      "application/vnd.plotly.v1+json": {
       "config": {
        "plotlyServerURL": "https://plot.ly"
       },
       "data": [
        {
         "error_y": {
          "array": {
           "bdata": "AAAAAAAA+H8AAAAAAAD4fwAAAAAAAPh/Wp5kLGQXQz8=",
           "dtype": "f8"
          },
          "color": "#636EFA",
          "thickness": 1.5,
          "type": "data",
          "visible": true,
          "width": 5
         },
         "hovertemplate": "%{text}<extra></extra>",
         "marker": {
          "color": "#636EFA",
          "opacity": 0.7,
          "size": 10,
          "symbol": "circle"
         },
         "mode": "markers",
         "name": "0.13.0 - Linux-6.11.0-21-generic-x86_64-with-glibc2.39",
         "showlegend": true,
         "text": [
          "Forecaster: ForecasterAutoreg<br>Regressor: LGBMRegressor<br>Function: ForecasterRecursive__create_train_X_y<br>Function_hash: 287fbd1c4920496341a9d5f9b9a9aa2a<br>Datetime: 2025-04-23 15:31:32.335009<br>Python version: 3.12.9<br>skforecast version: 0.13.0<br>numpy version: 2.2.5<br>pandas version: 2.2.3<br>sklearn version: 1.6.1<br>lightgbm version: 4.6.0<br>Platform: Linux-6.11.0-21-generic-x86_64-with-glibc2.39<br>Processor: x86_64<br>CPU count: 8<br>Memory (GB): 16.64<br>",
          "Forecaster: ForecasterAutoreg<br>Regressor: LGBMRegressor<br>Function: ForecasterRecursive__create_train_X_y<br>Function_hash: 287fbd1c4920496341a9d5f9b9a9aa2a<br>Datetime: 2025-04-23 15:41:06.200461<br>Python version: 3.12.9<br>skforecast version: 0.13.0<br>numpy version: 2.2.5<br>pandas version: 2.2.3<br>sklearn version: 1.6.1<br>lightgbm version: 4.6.0<br>Platform: Linux-6.11.0-21-generic-x86_64-with-glibc2.39<br>Processor: x86_64<br>CPU count: 8<br>Memory (GB): 16.64<br>",
          "Forecaster: ForecasterAutoreg<br>Regressor: LGBMRegressor<br>Function: ForecasterRecursive__create_train_X_y<br>Function_hash: 1302d78676d713cc5e64125ac23a65d2<br>Datetime: 2025-04-23 15:46:07.619566<br>Python version: 3.12.9<br>skforecast version: 0.13.0<br>numpy version: 2.2.5<br>pandas version: 2.2.3<br>sklearn version: 1.6.1<br>lightgbm version: 4.6.0<br>Platform: Linux-6.11.0-21-generic-x86_64-with-glibc2.39<br>Processor: x86_64<br>CPU count: 8<br>Memory (GB): 16.64<br>",
          "Forecaster: ForecasterAutoreg<br>Regressor: LGBMRegressor<br>Function: ForecasterRecursive__create_train_X_y<br>Function_hash: 20bdfc9de1cb7a9e99e703c087d136d3<br>Datetime: 2025-04-23 15:46:40.854571<br>Python version: 3.12.9<br>skforecast version: 0.13.0<br>numpy version: 2.2.5<br>pandas version: 2.2.3<br>sklearn version: 1.6.1<br>lightgbm version: 4.6.0<br>Platform: Linux-6.11.0-21-generic-x86_64-with-glibc2.39<br>Processor: x86_64<br>CPU count: 8<br>Memory (GB): 16.64<br>"
         ],
         "type": "scatter",
         "x": {
          "bdata": "fByzX9/Fir9AKClBT8iAPwyt5c8ZpoA/hj3Rm6N3pT8=",
          "dtype": "f8"
         },
         "y": {
          "bdata": "AAAAAAAA+H8AAAAAAAD4fwAAAAAAAPh/mplZj4jcbT8=",
          "dtype": "f8"
         }
        },
        {
         "error_y": {
          "array": {
           "bdata": "B1qicoxxRj+dGwFkXPlCP/tqmOnVQC8/Rd+XVe4VMz8=",
           "dtype": "f8"
          },
          "color": "#EF553B",
          "thickness": 1.5,
          "type": "data",
          "visible": true,
          "width": 5
         },
         "hovertemplate": "%{text}<extra></extra>",
         "marker": {
          "color": "#EF553B",
          "opacity": 0.7,
          "size": 10,
          "symbol": "circle"
         },
         "mode": "markers",
         "name": "0.14.0 - Linux-6.11.0-21-generic-x86_64-with-glibc2.39",
         "showlegend": true,
         "text": [
          "Forecaster: ForecasterRecursive<br>Regressor: LGBMRegressor<br>Function: ForecasterRecursive__create_train_X_y<br>Function_hash: 287fbd1c4920496341a9d5f9b9a9aa2a<br>Datetime: 2025-04-23 15:15:59.144846<br>Python version: 3.12.9<br>skforecast version: 0.14.0<br>numpy version: 2.2.5<br>pandas version: 2.2.3<br>sklearn version: 1.6.1<br>lightgbm version: 4.6.0<br>Platform: Linux-6.11.0-21-generic-x86_64-with-glibc2.39<br>Processor: x86_64<br>CPU count: 8<br>Memory (GB): 16.64<br>",
          "Forecaster: ForecasterRecursive<br>Regressor: LGBMRegressor<br>Function: ForecasterRecursive__create_train_X_y<br>Function_hash: 20bdfc9de1cb7a9e99e703c087d136d3<br>Datetime: 2025-04-23 15:56:53.610990<br>Python version: 3.12.9<br>skforecast version: 0.14.0<br>numpy version: 2.2.5<br>pandas version: 2.2.3<br>sklearn version: 1.6.1<br>lightgbm version: 4.6.0<br>Platform: Linux-6.11.0-21-generic-x86_64-with-glibc2.39<br>Processor: x86_64<br>CPU count: 8<br>Memory (GB): 16.64<br>",
          "Forecaster: ForecasterRecursive<br>Regressor: LGBMRegressor<br>Function: ForecasterRecursive__create_train_X_y<br>Function_hash: 20bdfc9de1cb7a9e99e703c087d136d3<br>Datetime: 2025-04-23 22:17:06.944250<br>Python version: 3.12.9<br>skforecast version: 0.14.0<br>numpy version: 2.2.5<br>pandas version: 2.2.3<br>sklearn version: 1.6.1<br>lightgbm version: 4.6.0<br>Platform: Linux-6.11.0-21-generic-x86_64-with-glibc2.39<br>Processor: x86_64<br>CPU count: 8<br>Memory (GB): 16.64<br>",
          "Forecaster: ForecasterRecursive<br>Regressor: LGBMRegressor<br>Function: ForecasterRecursive__create_train_X_y<br>Function_hash: 20bdfc9de1cb7a9e99e703c087d136d3<br>Datetime: 2025-04-23 22:51:17.966540<br>Python version: 3.12.9<br>skforecast version: 0.14.0<br>numpy version: 2.2.5<br>pandas version: 2.2.3<br>sklearn version: 1.6.1<br>lightgbm version: 4.6.0<br>Platform: Linux-6.11.0-21-generic-x86_64-with-glibc2.39<br>Processor: x86_64<br>CPU count: 8<br>Memory (GB): 16.64<br>"
         ],
         "type": "scatter",
         "x": {
          "bdata": "R887kefC7j+9ao9gHibvP2e1h4Dx7+8/uuOMZK1o8D8=",
          "dtype": "f8"
         },
         "y": {
          "bdata": "mpmZwfPKbT9mZubukxxxP83MjJyQ+Wc/mpmZxmiLbj8=",
          "dtype": "f8"
         }
        },
        {
         "error_y": {
          "array": {
           "bdata": "exPa0vBjWT/y6uPobfhgPw==",
           "dtype": "f8"
          },
          "color": "#EF553B",
          "thickness": 1.5,
          "type": "data",
          "visible": true,
          "width": 5
         },
         "hovertemplate": "%{text}<extra></extra>",
         "marker": {
          "color": "#EF553B",
          "opacity": 0.7,
          "size": 10,
          "symbol": "square"
         },
         "mode": "markers",
         "name": "0.14.0 - Linux-6.11.0-24-generic-x86_64-with-glibc2.39",
         "showlegend": true,
         "text": [
          "Forecaster: ForecasterRecursive<br>Regressor: LGBMRegressor<br>Function: ForecasterRecursive__create_train_X_y<br>Function_hash: 20bdfc9de1cb7a9e99e703c087d136d3<br>Datetime: 2025-04-25 22:33:04.754853<br>Python version: 3.12.9<br>skforecast version: 0.14.0<br>numpy version: 2.2.5<br>pandas version: 2.2.3<br>sklearn version: 1.6.1<br>lightgbm version: 4.6.0<br>Platform: Linux-6.11.0-24-generic-x86_64-with-glibc2.39<br>Processor: x86_64<br>CPU count: 8<br>Memory (GB): 16.64<br>",
          "Forecaster: ForecasterRecursive<br>Regressor: LGBMRegressor<br>Function: ForecasterRecursive__create_train_X_y<br>Function_hash: 20bdfc9de1cb7a9e99e703c087d136d3<br>Datetime: 2025-04-25 22:30:21.210797<br>Python version: 3.12.9<br>skforecast version: 0.14.0<br>numpy version: 2.2.5<br>pandas version: 2.2.3<br>sklearn version: 1.6.1<br>lightgbm version: 4.6.0<br>Platform: Linux-6.11.0-24-generic-x86_64-with-glibc2.39<br>Processor: x86_64<br>CPU count: 8<br>Memory (GB): 16.64<br>"
         ],
         "type": "scatter",
         "x": {
          "bdata": "eCqBC6xX8D8I6AmCVnbwPw==",
          "dtype": "f8"
         },
         "y": {
          "bdata": "VVXFA7PZfT8iIvIkukl8Pw==",
          "dtype": "f8"
         }
        },
        {
         "error_y": {
          "array": {
           "bdata": "81/qaJn2QT9rfPrS15csPw==",
           "dtype": "f8"
          },
          "color": "#EF553B",
          "thickness": 1.5,
          "type": "data",
          "visible": true,
          "width": 5
         },
         "hovertemplate": "%{text}<extra></extra>",
         "marker": {
          "color": "#EF553B",
          "opacity": 0.7,
          "size": 10,
          "symbol": "diamond"
         },
         "mode": "markers",
         "name": "0.14.0 - Windows-10-10.0.19045-SP0",
         "showlegend": true,
         "text": [
          "Forecaster: ForecasterRecursive<br>Regressor: LGBMRegressor<br>Function: ForecasterRecursive__create_train_X_y<br>Function_hash: 20bdfc9de1cb7a9e99e703c087d136d3<br>Datetime: 2025-04-24 10:44:52.790437<br>Python version: 3.11.10<br>skforecast version: 0.14.0<br>numpy version: 2.1.3<br>pandas version: 2.2.3<br>sklearn version: 1.6.1<br>lightgbm version: 4.5.0<br>Platform: Windows-10-10.0.19045-SP0<br>Processor: Intel64 Family 6 Model 141 Stepping 1, GenuineIntel<br>CPU count: 16<br>Memory (GB): 34.07<br>",
          "Forecaster: ForecasterRecursive<br>Regressor: LGBMRegressor<br>Function: ForecasterRecursive__create_train_X_y<br>Function_hash: 20bdfc9de1cb7a9e99e703c087d136d3<br>Datetime: 2025-04-24 11:12:08.980774<br>Python version: 3.11.10<br>skforecast version: 0.14.0<br>numpy version: 2.1.3<br>pandas version: 2.2.3<br>sklearn version: 1.6.1<br>lightgbm version: 4.5.0<br>Platform: Windows-10-10.0.19045-SP0<br>Processor: Intel64 Family 6 Model 141 Stepping 1, GenuineIntel<br>CPU count: 16<br>Memory (GB): 34.07<br>"
         ],
         "type": "scatter",
         "x": {
          "bdata": "dXOspRCh8D+AqRhxSlrwPw==",
          "dtype": "f8"
         },
         "y": {
          "bdata": "zczMOXgmZD9mZmaCdftgPw==",
          "dtype": "f8"
         }
        },
        {
         "error_y": {
          "array": {
           "bdata": "h4wyyaxILj9MVqW5/nwxP67ohtvxP0Q/+uhDqIrTOD+a9JUcNCEyPw==",
           "dtype": "f8"
          },
          "color": "#00CC96",
          "thickness": 1.5,
          "type": "data",
          "visible": true,
          "width": 5
         },
         "hovertemplate": "%{text}<extra></extra>",
         "marker": {
          "color": "#00CC96",
          "opacity": 0.7,
          "size": 10,
          "symbol": "circle"
         },
         "mode": "markers",
         "name": "0.15.1 - Linux-6.11.0-21-generic-x86_64-with-glibc2.39",
         "showlegend": true,
         "text": [
          "Forecaster: ForecasterRecursive<br>Regressor: LGBMRegressor<br>Function: ForecasterRecursive__create_train_X_y<br>Function_hash: 287fbd1c4920496341a9d5f9b9a9aa2a<br>Datetime: 2025-04-23 15:12:03.522895<br>Python version: 3.12.9<br>skforecast version: 0.15.1<br>numpy version: 2.2.5<br>pandas version: 2.2.3<br>sklearn version: 1.6.1<br>lightgbm version: 4.6.0<br>Platform: Linux-6.11.0-21-generic-x86_64-with-glibc2.39<br>Processor: x86_64<br>CPU count: 8<br>Memory (GB): 16.64<br>",
          "Forecaster: ForecasterRecursive<br>Regressor: LGBMRegressor<br>Function: ForecasterRecursive__create_train_X_y<br>Function_hash: 20bdfc9de1cb7a9e99e703c087d136d3<br>Datetime: 2025-04-23 22:04:08.777492<br>Python version: 3.12.9<br>skforecast version: 0.15.1<br>numpy version: 2.2.5<br>pandas version: 2.2.3<br>sklearn version: 1.6.1<br>lightgbm version: 4.6.0<br>Platform: Linux-6.11.0-21-generic-x86_64-with-glibc2.39<br>Processor: x86_64<br>CPU count: 8<br>Memory (GB): 16.64<br>",
          "Forecaster: ForecasterRecursive<br>Regressor: LGBMRegressor<br>Function: ForecasterRecursive__create_train_X_y<br>Function_hash: 20bdfc9de1cb7a9e99e703c087d136d3<br>Datetime: 2025-04-23 20:22:38.457585<br>Python version: 3.12.9<br>skforecast version: 0.15.1<br>numpy version: 2.2.5<br>pandas version: 2.2.3<br>sklearn version: 1.6.1<br>lightgbm version: 4.6.0<br>Platform: Linux-6.11.0-21-generic-x86_64-with-glibc2.39<br>Processor: x86_64<br>CPU count: 8<br>Memory (GB): 16.64<br>",
          "Forecaster: ForecasterRecursive<br>Regressor: LGBMRegressor<br>Function: ForecasterRecursive__create_train_X_y<br>Function_hash: 20bdfc9de1cb7a9e99e703c087d136d3<br>Datetime: 2025-04-23 16:05:33.624338<br>Python version: 3.12.9<br>skforecast version: 0.15.1<br>numpy version: 2.2.5<br>pandas version: 2.2.3<br>sklearn version: 1.6.1<br>lightgbm version: 4.6.0<br>Platform: Linux-6.11.0-21-generic-x86_64-with-glibc2.39<br>Processor: x86_64<br>CPU count: 8<br>Memory (GB): 16.64<br>",
          "Forecaster: ForecasterRecursive<br>Regressor: LGBMRegressor<br>Function: ForecasterRecursive__create_train_X_y<br>Function_hash: 20bdfc9de1cb7a9e99e703c087d136d3<br>Datetime: 2025-04-23 16:01:06.118167<br>Python version: 3.12.9<br>skforecast version: 0.15.1<br>numpy version: 2.2.5<br>pandas version: 2.2.3<br>sklearn version: 1.6.1<br>lightgbm version: 4.6.0<br>Platform: Linux-6.11.0-21-generic-x86_64-with-glibc2.39<br>Processor: x86_64<br>CPU count: 8<br>Memory (GB): 16.64<br>"
         ],
         "type": "scatter",
         "x": {
          "bdata": "9OmPOu5BAEDZGSt0i08AQO4kD5sOBABAYJn7hhxa/z88jdp4XGj/Pw==",
          "dtype": "f8"
         },
         "y": {
          "bdata": "zczsn4/SZj8AAMCMdpxnP5qZ+UsriGg/mpkZeLK3Zj9mZibVJu1tPw==",
          "dtype": "f8"
         }
        },
        {
         "error_y": {
          "array": {
           "bdata": "9OeuzOP6XD/6YkTPudJgPyr6P5lSnF8/",
           "dtype": "f8"
          },
          "color": "#00CC96",
          "thickness": 1.5,
          "type": "data",
          "visible": true,
          "width": 5
         },
         "hovertemplate": "%{text}<extra></extra>",
         "marker": {
          "color": "#00CC96",
          "opacity": 0.7,
          "size": 10,
          "symbol": "square"
         },
         "mode": "markers",
         "name": "0.15.1 - Linux-6.11.0-24-generic-x86_64-with-glibc2.39",
         "showlegend": true,
         "text": [
          "Forecaster: ForecasterRecursive<br>Regressor: LGBMRegressor<br>Function: ForecasterRecursive__create_train_X_y<br>Function_hash: 20bdfc9de1cb7a9e99e703c087d136d3<br>Datetime: 2025-04-25 22:29:37.554026<br>Python version: 3.12.9<br>skforecast version: 0.15.1<br>numpy version: 2.2.5<br>pandas version: 2.2.3<br>sklearn version: 1.6.1<br>lightgbm version: 4.6.0<br>Platform: Linux-6.11.0-24-generic-x86_64-with-glibc2.39<br>Processor: x86_64<br>CPU count: 8<br>Memory (GB): 16.64<br>",
          "Forecaster: ForecasterRecursive<br>Regressor: LGBMRegressor<br>Function: ForecasterRecursive__create_train_X_y<br>Function_hash: 20bdfc9de1cb7a9e99e703c087d136d3<br>Datetime: 2025-04-25 22:29:01.133435<br>Python version: 3.12.9<br>skforecast version: 0.15.1<br>numpy version: 2.2.5<br>pandas version: 2.2.3<br>sklearn version: 1.6.1<br>lightgbm version: 4.6.0<br>Platform: Linux-6.11.0-24-generic-x86_64-with-glibc2.39<br>Processor: x86_64<br>CPU count: 8<br>Memory (GB): 16.64<br>",
          "Forecaster: ForecasterRecursive<br>Regressor: LGBMRegressor<br>Function: ForecasterRecursive__create_train_X_y<br>Function_hash: 20bdfc9de1cb7a9e99e703c087d136d3<br>Datetime: 2025-04-24 23:06:08.840009<br>Python version: 3.12.9<br>skforecast version: 0.15.1<br>numpy version: 2.2.5<br>pandas version: 2.2.3<br>sklearn version: 1.6.1<br>lightgbm version: 4.6.0<br>Platform: Linux-6.11.0-24-generic-x86_64-with-glibc2.39<br>Processor: x86_64<br>CPU count: 8<br>Memory (GB): 16.64<br>"
         ],
         "type": "scatter",
         "x": {
          "bdata": "O21cSeg6AEAq4w44tEMAQELsNhCxCABA",
          "dtype": "f8"
         },
         "y": {
          "bdata": "vLv7X44HfT8REQEiZkh/P4mIyLJHgns/",
          "dtype": "f8"
         }
        },
        {
         "error_y": {
          "array": {
           "bdata": "jY9p1C/tNz95GPCPBYEyPw==",
           "dtype": "f8"
          },
          "color": "#00CC96",
          "thickness": 1.5,
          "type": "data",
          "visible": true,
          "width": 5
         },
         "hovertemplate": "%{text}<extra></extra>",
         "marker": {
          "color": "#00CC96",
          "opacity": 0.7,
          "size": 10,
          "symbol": "diamond"
         },
         "mode": "markers",
         "name": "0.15.1 - Windows-10-10.0.19045-SP0",
         "showlegend": true,
         "text": [
          "Forecaster: ForecasterRecursive<br>Regressor: LGBMRegressor<br>Function: ForecasterRecursive__create_train_X_y<br>Function_hash: 20bdfc9de1cb7a9e99e703c087d136d3<br>Datetime: 2025-04-24 11:22:07.289026<br>Python version: 3.11.10<br>skforecast version: 0.15.1<br>numpy version: 2.1.3<br>pandas version: 2.2.3<br>sklearn version: 1.6.1<br>lightgbm version: 4.5.0<br>Platform: Windows-10-10.0.19045-SP0<br>Processor: Intel64 Family 6 Model 141 Stepping 1, GenuineIntel<br>CPU count: 16<br>Memory (GB): 34.07<br>",
          "Forecaster: ForecasterRecursive<br>Regressor: LGBMRegressor<br>Function: ForecasterRecursive__create_train_X_y<br>Function_hash: 20bdfc9de1cb7a9e99e703c087d136d3<br>Datetime: 2025-04-24 10:38:47.271866<br>Python version: 3.11.10<br>skforecast version: 0.15.1<br>numpy version: 2.1.3<br>pandas version: 2.2.3<br>sklearn version: 1.6.1<br>lightgbm version: 4.5.0<br>Platform: Windows-10-10.0.19045-SP0<br>Processor: Intel64 Family 6 Model 141 Stepping 1, GenuineIntel<br>CPU count: 16<br>Memory (GB): 34.07<br>"
         ],
         "type": "scatter",
         "x": {
          "bdata": "5mXZJjl1/z8c5LQAE0z/Pw==",
          "dtype": "f8"
         },
         "y": {
          "bdata": "mpmZpvciZD9mZmZT6cRhPw==",
          "dtype": "f8"
         }
        },
        {
         "error_y": {
          "array": {
           "bdata": "XdWncprXTT9A7V85X+NQP0uOXRjNXmA/p/QNC073UD+GD6vXMlpwP87VrgDAjVM/ujFG0S7nZD8o/aHRKKFfP9cgp8ONE1I/",
           "dtype": "f8"
          },
          "color": "#AB63FA",
          "thickness": 1.5,
          "type": "data",
          "visible": true,
          "width": 5
         },
         "hovertemplate": "%{text}<extra></extra>",
         "marker": {
          "color": "#AB63FA",
          "opacity": 0.7,
          "size": 10,
          "symbol": "square"
         },
         "mode": "markers",
         "name": "0.16.0 - Linux-6.11.0-24-generic-x86_64-with-glibc2.39",
         "showlegend": true,
         "text": [
          "Forecaster: ForecasterRecursive<br>Regressor: LGBMRegressor<br>Function: ForecasterRecursive__create_train_X_y<br>Function_hash: 20bdfc9de1cb7a9e99e703c087d136d3<br>Datetime: 2025-04-24 22:43:35.783645<br>Python version: 3.12.9<br>skforecast version: 0.16.0<br>numpy version: 2.2.5<br>pandas version: 2.2.3<br>sklearn version: 1.6.1<br>lightgbm version: 4.6.0<br>Platform: Linux-6.11.0-24-generic-x86_64-with-glibc2.39<br>Processor: x86_64<br>CPU count: 8<br>Memory (GB): 16.64<br>",
          "Forecaster: ForecasterRecursive<br>Regressor: LGBMRegressor<br>Function: ForecasterRecursive__create_train_X_y<br>Function_hash: 20bdfc9de1cb7a9e99e703c087d136d3<br>Datetime: 2025-04-25 22:23:56.034510<br>Python version: 3.12.9<br>skforecast version: 0.16.0<br>numpy version: 2.2.5<br>pandas version: 2.2.3<br>sklearn version: 1.6.1<br>lightgbm version: 4.6.0<br>Platform: Linux-6.11.0-24-generic-x86_64-with-glibc2.39<br>Processor: x86_64<br>CPU count: 8<br>Memory (GB): 16.64<br>",
          "Forecaster: ForecasterRecursive<br>Regressor: LGBMRegressor<br>Function: ForecasterRecursive__create_train_X_y<br>Function_hash: 20bdfc9de1cb7a9e99e703c087d136d3<br>Datetime: 2025-04-25 22:25:54.386611<br>Python version: 3.12.9<br>skforecast version: 0.16.0<br>numpy version: 2.2.5<br>pandas version: 2.2.3<br>sklearn version: 1.6.1<br>lightgbm version: 4.6.0<br>Platform: Linux-6.11.0-24-generic-x86_64-with-glibc2.39<br>Processor: x86_64<br>CPU count: 8<br>Memory (GB): 16.64<br>",
          "Forecaster: ForecasterRecursive<br>Regressor: LGBMRegressor<br>Function: ForecasterRecursive__create_train_X_y<br>Function_hash: 20bdfc9de1cb7a9e99e703c087d136d3<br>Datetime: 2025-04-25 22:26:27.116687<br>Python version: 3.12.9<br>skforecast version: 0.16.0<br>numpy version: 2.2.5<br>pandas version: 2.2.3<br>sklearn version: 1.6.1<br>lightgbm version: 4.6.0<br>Platform: Linux-6.11.0-24-generic-x86_64-with-glibc2.39<br>Processor: x86_64<br>CPU count: 8<br>Memory (GB): 16.64<br>",
          "Forecaster: ForecasterRecursive<br>Regressor: LGBMRegressor<br>Function: ForecasterRecursive__create_train_X_y<br>Function_hash: 20bdfc9de1cb7a9e99e703c087d136d3<br>Datetime: 2025-04-25 22:27:14.066151<br>Python version: 3.12.9<br>skforecast version: 0.16.0<br>numpy version: 2.2.5<br>pandas version: 2.2.3<br>sklearn version: 1.6.1<br>lightgbm version: 4.6.0<br>Platform: Linux-6.11.0-24-generic-x86_64-with-glibc2.39<br>Processor: x86_64<br>CPU count: 8<br>Memory (GB): 16.64<br>",
          "Forecaster: ForecasterRecursive<br>Regressor: LGBMRegressor<br>Function: ForecasterRecursive__create_train_X_y<br>Function_hash: 20bdfc9de1cb7a9e99e703c087d136d3<br>Datetime: 2025-04-25 22:28:13.506643<br>Python version: 3.12.9<br>skforecast version: 0.16.0<br>numpy version: 2.2.5<br>pandas version: 2.2.3<br>sklearn version: 1.6.1<br>lightgbm version: 4.6.0<br>Platform: Linux-6.11.0-24-generic-x86_64-with-glibc2.39<br>Processor: x86_64<br>CPU count: 8<br>Memory (GB): 16.64<br>",
          "Forecaster: ForecasterRecursive<br>Regressor: LGBMRegressor<br>Function: ForecasterRecursive__create_train_X_y<br>Function_hash: 20bdfc9de1cb7a9e99e703c087d136d3<br>Datetime: 2025-04-25 22:36:56.320286<br>Python version: 3.12.9<br>skforecast version: 0.16.0<br>numpy version: 2.2.5<br>pandas version: 2.2.3<br>sklearn version: 1.6.1<br>lightgbm version: 4.6.0<br>Platform: Linux-6.11.0-24-generic-x86_64-with-glibc2.39<br>Processor: x86_64<br>CPU count: 8<br>Memory (GB): 16.64<br>",
          "Forecaster: ForecasterRecursive<br>Regressor: LGBMRegressor<br>Function: ForecasterRecursive__create_train_X_y<br>Function_hash: 20bdfc9de1cb7a9e99e703c087d136d3<br>Datetime: 2025-04-25 22:58:03.647799<br>Python version: 3.12.9<br>skforecast version: 0.16.0<br>numpy version: 2.2.5<br>pandas version: 2.2.3<br>sklearn version: 1.6.1<br>lightgbm version: 4.6.0<br>Platform: Linux-6.11.0-24-generic-x86_64-with-glibc2.39<br>Processor: x86_64<br>CPU count: 8<br>Memory (GB): 16.64<br>",
          "Forecaster: ForecasterRecursive<br>Regressor: LGBMRegressor<br>Function: ForecasterRecursive__create_train_X_y<br>Function_hash: 65f3fec8372f16bcc89a66327a4fc8e9<br>Datetime: 2025-04-27 11:57:58.518344<br>Python version: 3.12.9<br>skforecast version: 0.16.0<br>numpy version: 2.2.5<br>pandas version: 2.2.3<br>sklearn version: 1.6.1<br>lightgbm version: 4.6.0<br>Platform: Linux-6.11.0-24-generic-x86_64-with-glibc2.39<br>Processor: x86_64<br>CPU count: 8<br>Memory (GB): 16.64<br>"
         ],
         "type": "scatter",
         "x": {
          "bdata": "o5B3p65UCEDwe8YQCBwIQL1cCLapsgdAaWNkGdn0B0CaEj/qo0QIQNM+DpKwmwdAuBLwKDGcB0DuJQ55yDUIQMBjPI9E2QdA",
          "dtype": "f8"
         },
         "y": {
          "bdata": "ERExN27ecj+JiMikI2F3P83M7GzKA34/zczMUtzGdj/e3Q3eOyJ+P+/u/lUVC3g/7+72FRXEgD+JiPi/N5SCP2Zmzgts4HY/",
          "dtype": "f8"
         }
        },
        {
         "error_y": {
          "array": {
           "bdata": "dotjty3xUT9wpZl3BIJYPw==",
           "dtype": "f8"
          },
          "color": "#AB63FA",
          "thickness": 1.5,
          "type": "data",
          "visible": true,
          "width": 5
         },
         "hovertemplate": "%{text}<extra></extra>",
         "marker": {
          "color": "#AB63FA",
          "opacity": 0.7,
          "size": 10,
          "symbol": "diamond"
         },
         "mode": "markers",
         "name": "0.16.0 - Windows-10-10.0.19045-SP0",
         "showlegend": true,
         "text": [
          "Forecaster: ForecasterRecursive<br>Regressor: LGBMRegressor<br>Function: ForecasterRecursive__create_train_X_y<br>Function_hash: 20bdfc9de1cb7a9e99e703c087d136d3<br>Datetime: 2025-04-24 18:09:23.523600<br>Python version: 3.11.10<br>skforecast version: 0.16.0<br>numpy version: 2.2.5<br>pandas version: 2.2.3<br>sklearn version: 1.6.1<br>lightgbm version: 4.5.0<br>Platform: Windows-10-10.0.19045-SP0<br>Processor: Intel64 Family 6 Model 141 Stepping 1, GenuineIntel<br>CPU count: 16<br>Memory (GB): 34.07<br>",
          "Forecaster: ForecasterRecursive<br>Regressor: LGBMRegressor<br>Function: ForecasterRecursive__create_train_X_y<br>Function_hash: 20bdfc9de1cb7a9e99e703c087d136d3<br>Datetime: 2025-04-24 18:24:10.697714<br>Python version: 3.11.10<br>skforecast version: 0.16.0<br>numpy version: 2.2.5<br>pandas version: 2.2.3<br>sklearn version: 1.6.1<br>lightgbm version: 4.5.0<br>Platform: Windows-10-10.0.19045-SP0<br>Processor: Intel64 Family 6 Model 141 Stepping 1, GenuineIntel<br>CPU count: 16<br>Memory (GB): 34.07<br>"
         ],
         "type": "scatter",
         "x": {
          "bdata": "QqPfMFkXCEBr5Mtt+dcHQA==",
          "dtype": "f8"
         },
         "y": {
          "bdata": "d3f3S9PScj9mZmZTb2VsPw==",
          "dtype": "f8"
         }
        },
        {
         "line": {
          "color": "black",
          "width": 2
         },
         "marker": {
          "color": "black",
          "size": 8
         },
         "mode": "lines+markers",
         "name": "Median (per version)",
         "type": "scatter",
         "x": {
          "bdata": "AAECAw==",
          "dtype": "i1"
         },
         "y": {
          "bdata": "mplZj4jcbT+amRlELituP83MXOxQEmg/iYjIpCNhdz8=",
          "dtype": "f8"
         }
        },
        {
         "line": {
          "color": "black",
          "dash": "dash",
          "width": 2
         },
         "marker": {
          "color": "black",
          "size": 8
         },
         "mode": "lines+markers",
         "name": "Mean (per version)",
         "type": "scatter",
         "x": {
          "bdata": "AAECAw==",
          "dtype": "i1"
         },
         "y": {
          "bdata": "mplZj4jcbT/v7gLRHf9wP6cNrJue23A/jC4Cl7wSeT8=",
          "dtype": "f8"
         }
        }
       ],
       "layout": {
        "showlegend": true,
        "template": {
         "data": {
          "bar": [
           {
            "error_x": {
             "color": "#2a3f5f"
            },
            "error_y": {
             "color": "#2a3f5f"
            },
            "marker": {
             "line": {
              "color": "#E5ECF6",
              "width": 0.5
             },
             "pattern": {
              "fillmode": "overlay",
              "size": 10,
              "solidity": 0.2
             }
            },
            "type": "bar"
           }
          ],
          "barpolar": [
           {
            "marker": {
             "line": {
              "color": "#E5ECF6",
              "width": 0.5
             },
             "pattern": {
              "fillmode": "overlay",
              "size": 10,
              "solidity": 0.2
             }
            },
            "type": "barpolar"
           }
          ],
          "carpet": [
           {
            "aaxis": {
             "endlinecolor": "#2a3f5f",
             "gridcolor": "white",
             "linecolor": "white",
             "minorgridcolor": "white",
             "startlinecolor": "#2a3f5f"
            },
            "baxis": {
             "endlinecolor": "#2a3f5f",
             "gridcolor": "white",
             "linecolor": "white",
             "minorgridcolor": "white",
             "startlinecolor": "#2a3f5f"
            },
            "type": "carpet"
           }
          ],
          "choropleth": [
           {
            "colorbar": {
             "outlinewidth": 0,
             "ticks": ""
            },
            "type": "choropleth"
           }
          ],
          "contour": [
           {
            "colorbar": {
             "outlinewidth": 0,
             "ticks": ""
            },
            "colorscale": [
             [
              0,
              "#0d0887"
             ],
             [
              0.1111111111111111,
              "#46039f"
             ],
             [
              0.2222222222222222,
              "#7201a8"
             ],
             [
              0.3333333333333333,
              "#9c179e"
             ],
             [
              0.4444444444444444,
              "#bd3786"
             ],
             [
              0.5555555555555556,
              "#d8576b"
             ],
             [
              0.6666666666666666,
              "#ed7953"
             ],
             [
              0.7777777777777778,
              "#fb9f3a"
             ],
             [
              0.8888888888888888,
              "#fdca26"
             ],
             [
              1,
              "#f0f921"
             ]
            ],
            "type": "contour"
           }
          ],
          "contourcarpet": [
           {
            "colorbar": {
             "outlinewidth": 0,
             "ticks": ""
            },
            "type": "contourcarpet"
           }
          ],
          "heatmap": [
           {
            "colorbar": {
             "outlinewidth": 0,
             "ticks": ""
            },
            "colorscale": [
             [
              0,
              "#0d0887"
             ],
             [
              0.1111111111111111,
              "#46039f"
             ],
             [
              0.2222222222222222,
              "#7201a8"
             ],
             [
              0.3333333333333333,
              "#9c179e"
             ],
             [
              0.4444444444444444,
              "#bd3786"
             ],
             [
              0.5555555555555556,
              "#d8576b"
             ],
             [
              0.6666666666666666,
              "#ed7953"
             ],
             [
              0.7777777777777778,
              "#fb9f3a"
             ],
             [
              0.8888888888888888,
              "#fdca26"
             ],
             [
              1,
              "#f0f921"
             ]
            ],
            "type": "heatmap"
           }
          ],
          "histogram": [
           {
            "marker": {
             "pattern": {
              "fillmode": "overlay",
              "size": 10,
              "solidity": 0.2
             }
            },
            "type": "histogram"
           }
          ],
          "histogram2d": [
           {
            "colorbar": {
             "outlinewidth": 0,
             "ticks": ""
            },
            "colorscale": [
             [
              0,
              "#0d0887"
             ],
             [
              0.1111111111111111,
              "#46039f"
             ],
             [
              0.2222222222222222,
              "#7201a8"
             ],
             [
              0.3333333333333333,
              "#9c179e"
             ],
             [
              0.4444444444444444,
              "#bd3786"
             ],
             [
              0.5555555555555556,
              "#d8576b"
             ],
             [
              0.6666666666666666,
              "#ed7953"
             ],
             [
              0.7777777777777778,
              "#fb9f3a"
             ],
             [
              0.8888888888888888,
              "#fdca26"
             ],
             [
              1,
              "#f0f921"
             ]
            ],
            "type": "histogram2d"
           }
          ],
          "histogram2dcontour": [
           {
            "colorbar": {
             "outlinewidth": 0,
             "ticks": ""
            },
            "colorscale": [
             [
              0,
              "#0d0887"
             ],
             [
              0.1111111111111111,
              "#46039f"
             ],
             [
              0.2222222222222222,
              "#7201a8"
             ],
             [
              0.3333333333333333,
              "#9c179e"
             ],
             [
              0.4444444444444444,
              "#bd3786"
             ],
             [
              0.5555555555555556,
              "#d8576b"
             ],
             [
              0.6666666666666666,
              "#ed7953"
             ],
             [
              0.7777777777777778,
              "#fb9f3a"
             ],
             [
              0.8888888888888888,
              "#fdca26"
             ],
             [
              1,
              "#f0f921"
             ]
            ],
            "type": "histogram2dcontour"
           }
          ],
          "mesh3d": [
           {
            "colorbar": {
             "outlinewidth": 0,
             "ticks": ""
            },
            "type": "mesh3d"
           }
          ],
          "parcoords": [
           {
            "line": {
             "colorbar": {
              "outlinewidth": 0,
              "ticks": ""
             }
            },
            "type": "parcoords"
           }
          ],
          "pie": [
           {
            "automargin": true,
            "type": "pie"
           }
          ],
          "scatter": [
           {
            "fillpattern": {
             "fillmode": "overlay",
             "size": 10,
             "solidity": 0.2
            },
            "type": "scatter"
           }
          ],
          "scatter3d": [
           {
            "line": {
             "colorbar": {
              "outlinewidth": 0,
              "ticks": ""
             }
            },
            "marker": {
             "colorbar": {
              "outlinewidth": 0,
              "ticks": ""
             }
            },
            "type": "scatter3d"
           }
          ],
          "scattercarpet": [
           {
            "marker": {
             "colorbar": {
              "outlinewidth": 0,
              "ticks": ""
             }
            },
            "type": "scattercarpet"
           }
          ],
          "scattergeo": [
           {
            "marker": {
             "colorbar": {
              "outlinewidth": 0,
              "ticks": ""
             }
            },
            "type": "scattergeo"
           }
          ],
          "scattergl": [
           {
            "marker": {
             "colorbar": {
              "outlinewidth": 0,
              "ticks": ""
             }
            },
            "type": "scattergl"
           }
          ],
          "scattermap": [
           {
            "marker": {
             "colorbar": {
              "outlinewidth": 0,
              "ticks": ""
             }
            },
            "type": "scattermap"
           }
          ],
          "scattermapbox": [
           {
            "marker": {
             "colorbar": {
              "outlinewidth": 0,
              "ticks": ""
             }
            },
            "type": "scattermapbox"
           }
          ],
          "scatterpolar": [
           {
            "marker": {
             "colorbar": {
              "outlinewidth": 0,
              "ticks": ""
             }
            },
            "type": "scatterpolar"
           }
          ],
          "scatterpolargl": [
           {
            "marker": {
             "colorbar": {
              "outlinewidth": 0,
              "ticks": ""
             }
            },
            "type": "scatterpolargl"
           }
          ],
          "scatterternary": [
           {
            "marker": {
             "colorbar": {
              "outlinewidth": 0,
              "ticks": ""
             }
            },
            "type": "scatterternary"
           }
          ],
          "surface": [
           {
            "colorbar": {
             "outlinewidth": 0,
             "ticks": ""
            },
            "colorscale": [
             [
              0,
              "#0d0887"
             ],
             [
              0.1111111111111111,
              "#46039f"
             ],
             [
              0.2222222222222222,
              "#7201a8"
             ],
             [
              0.3333333333333333,
              "#9c179e"
             ],
             [
              0.4444444444444444,
              "#bd3786"
             ],
             [
              0.5555555555555556,
              "#d8576b"
             ],
             [
              0.6666666666666666,
              "#ed7953"
             ],
             [
              0.7777777777777778,
              "#fb9f3a"
             ],
             [
              0.8888888888888888,
              "#fdca26"
             ],
             [
              1,
              "#f0f921"
             ]
            ],
            "type": "surface"
           }
          ],
          "table": [
           {
            "cells": {
             "fill": {
              "color": "#EBF0F8"
             },
             "line": {
              "color": "white"
             }
            },
            "header": {
             "fill": {
              "color": "#C8D4E3"
             },
             "line": {
              "color": "white"
             }
            },
            "type": "table"
           }
          ]
         },
         "layout": {
          "annotationdefaults": {
           "arrowcolor": "#2a3f5f",
           "arrowhead": 0,
           "arrowwidth": 1
          },
          "autotypenumbers": "strict",
          "coloraxis": {
           "colorbar": {
            "outlinewidth": 0,
            "ticks": ""
           }
          },
          "colorscale": {
           "diverging": [
            [
             0,
             "#8e0152"
            ],
            [
             0.1,
             "#c51b7d"
            ],
            [
             0.2,
             "#de77ae"
            ],
            [
             0.3,
             "#f1b6da"
            ],
            [
             0.4,
             "#fde0ef"
            ],
            [
             0.5,
             "#f7f7f7"
            ],
            [
             0.6,
             "#e6f5d0"
            ],
            [
             0.7,
             "#b8e186"
            ],
            [
             0.8,
             "#7fbc41"
            ],
            [
             0.9,
             "#4d9221"
            ],
            [
             1,
             "#276419"
            ]
           ],
           "sequential": [
            [
             0,
             "#0d0887"
            ],
            [
             0.1111111111111111,
             "#46039f"
            ],
            [
             0.2222222222222222,
             "#7201a8"
            ],
            [
             0.3333333333333333,
             "#9c179e"
            ],
            [
             0.4444444444444444,
             "#bd3786"
            ],
            [
             0.5555555555555556,
             "#d8576b"
            ],
            [
             0.6666666666666666,
             "#ed7953"
            ],
            [
             0.7777777777777778,
             "#fb9f3a"
            ],
            [
             0.8888888888888888,
             "#fdca26"
            ],
            [
             1,
             "#f0f921"
            ]
           ],
           "sequentialminus": [
            [
             0,
             "#0d0887"
            ],
            [
             0.1111111111111111,
             "#46039f"
            ],
            [
             0.2222222222222222,
             "#7201a8"
            ],
            [
             0.3333333333333333,
             "#9c179e"
            ],
            [
             0.4444444444444444,
             "#bd3786"
            ],
            [
             0.5555555555555556,
             "#d8576b"
            ],
            [
             0.6666666666666666,
             "#ed7953"
            ],
            [
             0.7777777777777778,
             "#fb9f3a"
            ],
            [
             0.8888888888888888,
             "#fdca26"
            ],
            [
             1,
             "#f0f921"
            ]
           ]
          },
          "colorway": [
           "#636efa",
           "#EF553B",
           "#00cc96",
           "#ab63fa",
           "#FFA15A",
           "#19d3f3",
           "#FF6692",
           "#B6E880",
           "#FF97FF",
           "#FECB52"
          ],
          "font": {
           "color": "#2a3f5f"
          },
          "geo": {
           "bgcolor": "white",
           "lakecolor": "white",
           "landcolor": "#E5ECF6",
           "showlakes": true,
           "showland": true,
           "subunitcolor": "white"
          },
          "hoverlabel": {
           "align": "left"
          },
          "hovermode": "closest",
          "mapbox": {
           "style": "light"
          },
          "paper_bgcolor": "white",
          "plot_bgcolor": "#E5ECF6",
          "polar": {
           "angularaxis": {
            "gridcolor": "white",
            "linecolor": "white",
            "ticks": ""
           },
           "bgcolor": "#E5ECF6",
           "radialaxis": {
            "gridcolor": "white",
            "linecolor": "white",
            "ticks": ""
           }
          },
          "scene": {
           "xaxis": {
            "backgroundcolor": "#E5ECF6",
            "gridcolor": "white",
            "gridwidth": 2,
            "linecolor": "white",
            "showbackground": true,
            "ticks": "",
            "zerolinecolor": "white"
           },
           "yaxis": {
            "backgroundcolor": "#E5ECF6",
            "gridcolor": "white",
            "gridwidth": 2,
            "linecolor": "white",
            "showbackground": true,
            "ticks": "",
            "zerolinecolor": "white"
           },
           "zaxis": {
            "backgroundcolor": "#E5ECF6",
            "gridcolor": "white",
            "gridwidth": 2,
            "linecolor": "white",
            "showbackground": true,
            "ticks": "",
            "zerolinecolor": "white"
           }
          },
          "shapedefaults": {
           "line": {
            "color": "#2a3f5f"
           }
          },
          "ternary": {
           "aaxis": {
            "gridcolor": "white",
            "linecolor": "white",
            "ticks": ""
           },
           "baxis": {
            "gridcolor": "white",
            "linecolor": "white",
            "ticks": ""
           },
           "bgcolor": "#E5ECF6",
           "caxis": {
            "gridcolor": "white",
            "linecolor": "white",
            "ticks": ""
           }
          },
          "title": {
           "x": 0.05
          },
          "xaxis": {
           "automargin": true,
           "gridcolor": "white",
           "linecolor": "white",
           "ticks": "",
           "title": {
            "standoff": 15
           },
           "zerolinecolor": "white",
           "zerolinewidth": 2
          },
          "yaxis": {
           "automargin": true,
           "gridcolor": "white",
           "linecolor": "white",
           "ticks": "",
           "title": {
            "standoff": 15
           },
           "zerolinecolor": "white",
           "zerolinewidth": 2
          }
         }
        },
        "title": {
         "text": "Execution time of ForecasterRecursive__create_train_X_y"
        },
        "xaxis": {
         "tickangle": -45,
         "tickmode": "array",
         "ticktext": [
          "0.13.0",
          "0.14.0",
          "0.15.1",
          "0.16.0"
         ],
         "tickvals": [
          0,
          1,
          2,
          3
         ],
         "title": {
          "text": "skforecast version"
         }
        },
        "yaxis": {
         "title": {
          "text": "Execution time (seconds)"
         }
        }
       }
      }
     },
     "metadata": {},
     "output_type": "display_data"
    },
    {
     "data": {
      "application/vnd.plotly.v1+json": {
       "config": {
        "plotlyServerURL": "https://plot.ly"
       },
       "data": [
        {
         "error_y": {
          "array": {
           "bdata": "dq2eLGwlcD+kBwCwwsJwPwSGYlOE0HU/Dp0NN6uHcD8=",
           "dtype": "f8"
          },
          "color": "#636EFA",
          "thickness": 1.5,
          "type": "data",
          "visible": true,
          "width": 5
         },
         "hovertemplate": "%{text}<extra></extra>",
         "marker": {
          "color": "#636EFA",
          "opacity": 0.7,
          "size": 10,
          "symbol": "circle"
         },
         "mode": "markers",
         "name": "0.13.0 - Linux-6.11.0-21-generic-x86_64-with-glibc2.39",
         "showlegend": true,
         "text": [
          "Forecaster: ForecasterAutoreg<br>Regressor: LGBMRegressor<br>Function: ForecasterRecursive_predict<br>Function_hash: 4f8ae3116340ac90eb9e66eac42789de<br>Datetime: 2025-04-23 15:31:32.543497<br>Python version: 3.12.9<br>skforecast version: 0.13.0<br>numpy version: 2.2.5<br>pandas version: 2.2.3<br>sklearn version: 1.6.1<br>lightgbm version: 4.6.0<br>Platform: Linux-6.11.0-21-generic-x86_64-with-glibc2.39<br>Processor: x86_64<br>CPU count: 8<br>Memory (GB): 16.64<br>",
          "Forecaster: ForecasterAutoreg<br>Regressor: LGBMRegressor<br>Function: ForecasterRecursive_predict<br>Function_hash: 4f8ae3116340ac90eb9e66eac42789de<br>Datetime: 2025-04-23 15:41:06.477888<br>Python version: 3.12.9<br>skforecast version: 0.13.0<br>numpy version: 2.2.5<br>pandas version: 2.2.3<br>sklearn version: 1.6.1<br>lightgbm version: 4.6.0<br>Platform: Linux-6.11.0-21-generic-x86_64-with-glibc2.39<br>Processor: x86_64<br>CPU count: 8<br>Memory (GB): 16.64<br>",
          "Forecaster: ForecasterAutoreg<br>Regressor: LGBMRegressor<br>Function: ForecasterRecursive_predict<br>Function_hash: 4f8ae3116340ac90eb9e66eac42789de<br>Datetime: 2025-04-23 15:46:07.814583<br>Python version: 3.12.9<br>skforecast version: 0.13.0<br>numpy version: 2.2.5<br>pandas version: 2.2.3<br>sklearn version: 1.6.1<br>lightgbm version: 4.6.0<br>Platform: Linux-6.11.0-21-generic-x86_64-with-glibc2.39<br>Processor: x86_64<br>CPU count: 8<br>Memory (GB): 16.64<br>",
          "Forecaster: ForecasterAutoreg<br>Regressor: LGBMRegressor<br>Function: ForecasterRecursive_predict<br>Function_hash: 4f8ae3116340ac90eb9e66eac42789de<br>Datetime: 2025-04-23 15:46:41.087891<br>Python version: 3.12.9<br>skforecast version: 0.13.0<br>numpy version: 2.2.5<br>pandas version: 2.2.3<br>sklearn version: 1.6.1<br>lightgbm version: 4.6.0<br>Platform: Linux-6.11.0-21-generic-x86_64-with-glibc2.39<br>Processor: x86_64<br>CPU count: 8<br>Memory (GB): 16.64<br>"
         ],
         "type": "scatter",
         "x": {
          "bdata": "fByzX9/Fir9AKClBT8iAPwyt5c8ZpoA/hj3Rm6N3pT8=",
          "dtype": "f8"
         },
         "y": {
          "bdata": "MzM3Oxs4sz+amW0cUoC0P2ZmF+mgb7E/zcx4fz+isT8=",
          "dtype": "f8"
         }
        },
        {
         "error_y": {
          "array": {
           "bdata": "HjeNftD+kz/c8RT9C/J4P2zxnWiin1g/20UF6G5AZT8=",
           "dtype": "f8"
          },
          "color": "#EF553B",
          "thickness": 1.5,
          "type": "data",
          "visible": true,
          "width": 5
         },
         "hovertemplate": "%{text}<extra></extra>",
         "marker": {
          "color": "#EF553B",
          "opacity": 0.7,
          "size": 10,
          "symbol": "circle"
         },
         "mode": "markers",
         "name": "0.14.0 - Linux-6.11.0-21-generic-x86_64-with-glibc2.39",
         "showlegend": true,
         "text": [
          "Forecaster: ForecasterRecursive<br>Regressor: LGBMRegressor<br>Function: ForecasterRecursive_predict<br>Function_hash: 4f8ae3116340ac90eb9e66eac42789de<br>Datetime: 2025-04-23 15:15:59.361690<br>Python version: 3.12.9<br>skforecast version: 0.14.0<br>numpy version: 2.2.5<br>pandas version: 2.2.3<br>sklearn version: 1.6.1<br>lightgbm version: 4.6.0<br>Platform: Linux-6.11.0-21-generic-x86_64-with-glibc2.39<br>Processor: x86_64<br>CPU count: 8<br>Memory (GB): 16.64<br>",
          "Forecaster: ForecasterRecursive<br>Regressor: LGBMRegressor<br>Function: ForecasterRecursive_predict<br>Function_hash: 4f8ae3116340ac90eb9e66eac42789de<br>Datetime: 2025-04-23 15:56:53.918733<br>Python version: 3.12.9<br>skforecast version: 0.14.0<br>numpy version: 2.2.5<br>pandas version: 2.2.3<br>sklearn version: 1.6.1<br>lightgbm version: 4.6.0<br>Platform: Linux-6.11.0-21-generic-x86_64-with-glibc2.39<br>Processor: x86_64<br>CPU count: 8<br>Memory (GB): 16.64<br>",
          "Forecaster: ForecasterRecursive<br>Regressor: LGBMRegressor<br>Function: ForecasterRecursive_predict<br>Function_hash: 4f8ae3116340ac90eb9e66eac42789de<br>Datetime: 2025-04-23 22:17:07.154060<br>Python version: 3.12.9<br>skforecast version: 0.14.0<br>numpy version: 2.2.5<br>pandas version: 2.2.3<br>sklearn version: 1.6.1<br>lightgbm version: 4.6.0<br>Platform: Linux-6.11.0-21-generic-x86_64-with-glibc2.39<br>Processor: x86_64<br>CPU count: 8<br>Memory (GB): 16.64<br>",
          "Forecaster: ForecasterRecursive<br>Regressor: LGBMRegressor<br>Function: ForecasterRecursive_predict<br>Function_hash: 4f8ae3116340ac90eb9e66eac42789de<br>Datetime: 2025-04-23 22:51:18.211253<br>Python version: 3.12.9<br>skforecast version: 0.14.0<br>numpy version: 2.2.5<br>pandas version: 2.2.3<br>sklearn version: 1.6.1<br>lightgbm version: 4.6.0<br>Platform: Linux-6.11.0-21-generic-x86_64-with-glibc2.39<br>Processor: x86_64<br>CPU count: 8<br>Memory (GB): 16.64<br>"
         ],
         "type": "scatter",
         "x": {
          "bdata": "R887kefC7j+9ao9gHibvP2e1h4Dx7+8/uuOMZK1o8D8=",
          "dtype": "f8"
         },
         "y": {
          "bdata": "ZmYPG7yZtT+ambr2V+C2PwAATNZGFK8/MzPtUhiUsj8=",
          "dtype": "f8"
         }
        },
        {
         "error_y": {
          "array": {
           "bdata": "FM4Y885anD+hybT5JJtrPw==",
           "dtype": "f8"
          },
          "color": "#EF553B",
          "thickness": 1.5,
          "type": "data",
          "visible": true,
          "width": 5
         },
         "hovertemplate": "%{text}<extra></extra>",
         "marker": {
          "color": "#EF553B",
          "opacity": 0.7,
          "size": 10,
          "symbol": "square"
         },
         "mode": "markers",
         "name": "0.14.0 - Linux-6.11.0-24-generic-x86_64-with-glibc2.39",
         "showlegend": true,
         "text": [
          "Forecaster: ForecasterRecursive<br>Regressor: LGBMRegressor<br>Function: ForecasterRecursive_predict<br>Function_hash: 4f8ae3116340ac90eb9e66eac42789de<br>Datetime: 2025-04-25 22:33:09.743048<br>Python version: 3.12.9<br>skforecast version: 0.14.0<br>numpy version: 2.2.5<br>pandas version: 2.2.3<br>sklearn version: 1.6.1<br>lightgbm version: 4.6.0<br>Platform: Linux-6.11.0-24-generic-x86_64-with-glibc2.39<br>Processor: x86_64<br>CPU count: 8<br>Memory (GB): 16.64<br>",
          "Forecaster: ForecasterRecursive<br>Regressor: LGBMRegressor<br>Function: ForecasterRecursive_predict<br>Function_hash: 4f8ae3116340ac90eb9e66eac42789de<br>Datetime: 2025-04-25 22:30:25.234717<br>Python version: 3.12.9<br>skforecast version: 0.14.0<br>numpy version: 2.2.5<br>pandas version: 2.2.3<br>sklearn version: 1.6.1<br>lightgbm version: 4.6.0<br>Platform: Linux-6.11.0-24-generic-x86_64-with-glibc2.39<br>Processor: x86_64<br>CPU count: 8<br>Memory (GB): 16.64<br>"
         ],
         "type": "scatter",
         "x": {
          "bdata": "eCqBC6xX8D8I6AmCVnbwPw==",
          "dtype": "f8"
         },
         "y": {
          "bdata": "3t3uXolctT+8uwsRMvquPw==",
          "dtype": "f8"
         }
        },
        {
         "error_y": {
          "array": {
           "bdata": "bPa+CGt5dT9f4CsPICtuPw==",
           "dtype": "f8"
          },
          "color": "#EF553B",
          "thickness": 1.5,
          "type": "data",
          "visible": true,
          "width": 5
         },
         "hovertemplate": "%{text}<extra></extra>",
         "marker": {
          "color": "#EF553B",
          "opacity": 0.7,
          "size": 10,
          "symbol": "diamond"
         },
         "mode": "markers",
         "name": "0.14.0 - Windows-10-10.0.19045-SP0",
         "showlegend": true,
         "text": [
          "Forecaster: ForecasterRecursive<br>Regressor: LGBMRegressor<br>Function: ForecasterRecursive_predict<br>Function_hash: 4f8ae3116340ac90eb9e66eac42789de<br>Datetime: 2025-04-24 10:44:53.402989<br>Python version: 3.11.10<br>skforecast version: 0.14.0<br>numpy version: 2.1.3<br>pandas version: 2.2.3<br>sklearn version: 1.6.1<br>lightgbm version: 4.5.0<br>Platform: Windows-10-10.0.19045-SP0<br>Processor: Intel64 Family 6 Model 141 Stepping 1, GenuineIntel<br>CPU count: 16<br>Memory (GB): 34.07<br>",
          "Forecaster: ForecasterRecursive<br>Regressor: LGBMRegressor<br>Function: ForecasterRecursive_predict<br>Function_hash: 4f8ae3116340ac90eb9e66eac42789de<br>Datetime: 2025-04-24 11:12:09.573756<br>Python version: 3.11.10<br>skforecast version: 0.14.0<br>numpy version: 2.1.3<br>pandas version: 2.2.3<br>sklearn version: 1.6.1<br>lightgbm version: 4.5.0<br>Platform: Windows-10-10.0.19045-SP0<br>Processor: Intel64 Family 6 Model 141 Stepping 1, GenuineIntel<br>CPU count: 16<br>Memory (GB): 34.07<br>"
         ],
         "type": "scatter",
         "x": {
          "bdata": "dXOspRCh8D+AqRhxSlrwPw==",
          "dtype": "f8"
         },
         "y": {
          "bdata": "ZmbWe1MmqT8zM8M8+S6oPw==",
          "dtype": "f8"
         }
        },
        {
         "error_y": {
          "array": {
           "bdata": "vQurhOFWUj9OWP2T279NP/YiRvOIEFk/8D0EojR/Yz84zoQPLbp+Pw==",
           "dtype": "f8"
          },
          "color": "#00CC96",
          "thickness": 1.5,
          "type": "data",
          "visible": true,
          "width": 5
         },
         "hovertemplate": "%{text}<extra></extra>",
         "marker": {
          "color": "#00CC96",
          "opacity": 0.7,
          "size": 10,
          "symbol": "circle"
         },
         "mode": "markers",
         "name": "0.15.1 - Linux-6.11.0-21-generic-x86_64-with-glibc2.39",
         "showlegend": true,
         "text": [
          "Forecaster: ForecasterRecursive<br>Regressor: LGBMRegressor<br>Function: ForecasterRecursive_predict<br>Function_hash: 4f8ae3116340ac90eb9e66eac42789de<br>Datetime: 2025-04-23 15:12:03.760460<br>Python version: 3.12.9<br>skforecast version: 0.15.1<br>numpy version: 2.2.5<br>pandas version: 2.2.3<br>sklearn version: 1.6.1<br>lightgbm version: 4.6.0<br>Platform: Linux-6.11.0-21-generic-x86_64-with-glibc2.39<br>Processor: x86_64<br>CPU count: 8<br>Memory (GB): 16.64<br>",
          "Forecaster: ForecasterRecursive<br>Regressor: LGBMRegressor<br>Function: ForecasterRecursive_predict<br>Function_hash: 4f8ae3116340ac90eb9e66eac42789de<br>Datetime: 2025-04-23 22:04:08.982584<br>Python version: 3.12.9<br>skforecast version: 0.15.1<br>numpy version: 2.2.5<br>pandas version: 2.2.3<br>sklearn version: 1.6.1<br>lightgbm version: 4.6.0<br>Platform: Linux-6.11.0-21-generic-x86_64-with-glibc2.39<br>Processor: x86_64<br>CPU count: 8<br>Memory (GB): 16.64<br>",
          "Forecaster: ForecasterRecursive<br>Regressor: LGBMRegressor<br>Function: ForecasterRecursive_predict<br>Function_hash: 4f8ae3116340ac90eb9e66eac42789de<br>Datetime: 2025-04-23 20:22:38.666276<br>Python version: 3.12.9<br>skforecast version: 0.15.1<br>numpy version: 2.2.5<br>pandas version: 2.2.3<br>sklearn version: 1.6.1<br>lightgbm version: 4.6.0<br>Platform: Linux-6.11.0-21-generic-x86_64-with-glibc2.39<br>Processor: x86_64<br>CPU count: 8<br>Memory (GB): 16.64<br>",
          "Forecaster: ForecasterRecursive<br>Regressor: LGBMRegressor<br>Function: ForecasterRecursive_predict<br>Function_hash: 4f8ae3116340ac90eb9e66eac42789de<br>Datetime: 2025-04-23 16:05:33.829933<br>Python version: 3.12.9<br>skforecast version: 0.15.1<br>numpy version: 2.2.5<br>pandas version: 2.2.3<br>sklearn version: 1.6.1<br>lightgbm version: 4.6.0<br>Platform: Linux-6.11.0-21-generic-x86_64-with-glibc2.39<br>Processor: x86_64<br>CPU count: 8<br>Memory (GB): 16.64<br>",
          "Forecaster: ForecasterRecursive<br>Regressor: LGBMRegressor<br>Function: ForecasterRecursive_predict<br>Function_hash: 4f8ae3116340ac90eb9e66eac42789de<br>Datetime: 2025-04-23 16:01:06.363095<br>Python version: 3.12.9<br>skforecast version: 0.15.1<br>numpy version: 2.2.5<br>pandas version: 2.2.3<br>sklearn version: 1.6.1<br>lightgbm version: 4.6.0<br>Platform: Linux-6.11.0-21-generic-x86_64-with-glibc2.39<br>Processor: x86_64<br>CPU count: 8<br>Memory (GB): 16.64<br>"
         ],
         "type": "scatter",
         "x": {
          "bdata": "9OmPOu5BAEDZGSt0i08AQO4kD5sOBABAYJn7hhxa/z88jdp4XGj/Pw==",
          "dtype": "f8"
         },
         "y": {
          "bdata": "ZmbUTRa5rT8AAGwU146tPzMz7fqtJ60/zcygfuNorz9mZg9etdazPw==",
          "dtype": "f8"
         }
        },
        {
         "error_y": {
          "array": {
           "bdata": "zGeBRn8mmj/ZGFghaPOOPzFnR1GAhFA/",
           "dtype": "f8"
          },
          "color": "#00CC96",
          "thickness": 1.5,
          "type": "data",
          "visible": true,
          "width": 5
         },
         "hovertemplate": "%{text}<extra></extra>",
         "marker": {
          "color": "#00CC96",
          "opacity": 0.7,
          "size": 10,
          "symbol": "square"
         },
         "mode": "markers",
         "name": "0.15.1 - Linux-6.11.0-24-generic-x86_64-with-glibc2.39",
         "showlegend": true,
         "text": [
          "Forecaster: ForecasterRecursive<br>Regressor: LGBMRegressor<br>Function: ForecasterRecursive_predict<br>Function_hash: 4f8ae3116340ac90eb9e66eac42789de<br>Datetime: 2025-04-25 22:29:42.272469<br>Python version: 3.12.9<br>skforecast version: 0.15.1<br>numpy version: 2.2.5<br>pandas version: 2.2.3<br>sklearn version: 1.6.1<br>lightgbm version: 4.6.0<br>Platform: Linux-6.11.0-24-generic-x86_64-with-glibc2.39<br>Processor: x86_64<br>CPU count: 8<br>Memory (GB): 16.64<br>",
          "Forecaster: ForecasterRecursive<br>Regressor: LGBMRegressor<br>Function: ForecasterRecursive_predict<br>Function_hash: 4f8ae3116340ac90eb9e66eac42789de<br>Datetime: 2025-04-25 22:29:05.843414<br>Python version: 3.12.9<br>skforecast version: 0.15.1<br>numpy version: 2.2.5<br>pandas version: 2.2.3<br>sklearn version: 1.6.1<br>lightgbm version: 4.6.0<br>Platform: Linux-6.11.0-24-generic-x86_64-with-glibc2.39<br>Processor: x86_64<br>CPU count: 8<br>Memory (GB): 16.64<br>",
          "Forecaster: ForecasterRecursive<br>Regressor: LGBMRegressor<br>Function: ForecasterRecursive_predict<br>Function_hash: 4f8ae3116340ac90eb9e66eac42789de<br>Datetime: 2025-04-24 23:06:12.721550<br>Python version: 3.12.9<br>skforecast version: 0.15.1<br>numpy version: 2.2.5<br>pandas version: 2.2.3<br>sklearn version: 1.6.1<br>lightgbm version: 4.6.0<br>Platform: Linux-6.11.0-24-generic-x86_64-with-glibc2.39<br>Processor: x86_64<br>CPU count: 8<br>Memory (GB): 16.64<br>"
         ],
         "type": "scatter",
         "x": {
          "bdata": "O21cSeg6AEAq4w44tEMAQELsNhCxCABA",
          "dtype": "f8"
         },
         "y": {
          "bdata": "7+7QRTQStD9VVUGRGpayP97d3zVmXa4/",
          "dtype": "f8"
         }
        },
        {
         "error_y": {
          "array": {
           "bdata": "EuD8IB5Efj87hnGTLV53Pw==",
           "dtype": "f8"
          },
          "color": "#00CC96",
          "thickness": 1.5,
          "type": "data",
          "visible": true,
          "width": 5
         },
         "hovertemplate": "%{text}<extra></extra>",
         "marker": {
          "color": "#00CC96",
          "opacity": 0.7,
          "size": 10,
          "symbol": "diamond"
         },
         "mode": "markers",
         "name": "0.15.1 - Windows-10-10.0.19045-SP0",
         "showlegend": true,
         "text": [
          "Forecaster: ForecasterRecursive<br>Regressor: LGBMRegressor<br>Function: ForecasterRecursive_predict<br>Function_hash: 4f8ae3116340ac90eb9e66eac42789de<br>Datetime: 2025-04-24 11:22:08.019282<br>Python version: 3.11.10<br>skforecast version: 0.15.1<br>numpy version: 2.1.3<br>pandas version: 2.2.3<br>sklearn version: 1.6.1<br>lightgbm version: 4.5.0<br>Platform: Windows-10-10.0.19045-SP0<br>Processor: Intel64 Family 6 Model 141 Stepping 1, GenuineIntel<br>CPU count: 16<br>Memory (GB): 34.07<br>",
          "Forecaster: ForecasterRecursive<br>Regressor: LGBMRegressor<br>Function: ForecasterRecursive_predict<br>Function_hash: 4f8ae3116340ac90eb9e66eac42789de<br>Datetime: 2025-04-24 10:38:47.905924<br>Python version: 3.11.10<br>skforecast version: 0.15.1<br>numpy version: 2.1.3<br>pandas version: 2.2.3<br>sklearn version: 1.6.1<br>lightgbm version: 4.5.0<br>Platform: Windows-10-10.0.19045-SP0<br>Processor: Intel64 Family 6 Model 141 Stepping 1, GenuineIntel<br>CPU count: 16<br>Memory (GB): 34.07<br>"
         ],
         "type": "scatter",
         "x": {
          "bdata": "5mXZJjl1/z8c5LQAE0z/Pw==",
          "dtype": "f8"
         },
         "y": {
          "bdata": "AACAX7GGrT+amdmjonepPw==",
          "dtype": "f8"
         }
        },
        {
         "error_y": {
          "array": {
           "bdata": "7EZFI/VDgz8dRiMC19B+PyJcRlXIXoU/qZUxOJbHkj+CdHar/vCFP9h070e4HY0/3P4Nma+nZz+dTOcVPwKOP30QITkGNH0/",
           "dtype": "f8"
          },
          "color": "#AB63FA",
          "thickness": 1.5,
          "type": "data",
          "visible": true,
          "width": 5
         },
         "hovertemplate": "%{text}<extra></extra>",
         "marker": {
          "color": "#AB63FA",
          "opacity": 0.7,
          "size": 10,
          "symbol": "square"
         },
         "mode": "markers",
         "name": "0.16.0 - Linux-6.11.0-24-generic-x86_64-with-glibc2.39",
         "showlegend": true,
         "text": [
          "Forecaster: ForecasterRecursive<br>Regressor: LGBMRegressor<br>Function: ForecasterRecursive_predict<br>Function_hash: 4f8ae3116340ac90eb9e66eac42789de<br>Datetime: 2025-04-24 22:43:39.705298<br>Python version: 3.12.9<br>skforecast version: 0.16.0<br>numpy version: 2.2.5<br>pandas version: 2.2.3<br>sklearn version: 1.6.1<br>lightgbm version: 4.6.0<br>Platform: Linux-6.11.0-24-generic-x86_64-with-glibc2.39<br>Processor: x86_64<br>CPU count: 8<br>Memory (GB): 16.64<br>",
          "Forecaster: ForecasterRecursive<br>Regressor: LGBMRegressor<br>Function: ForecasterRecursive_predict<br>Function_hash: 4f8ae3116340ac90eb9e66eac42789de<br>Datetime: 2025-04-25 22:24:00.404606<br>Python version: 3.12.9<br>skforecast version: 0.16.0<br>numpy version: 2.2.5<br>pandas version: 2.2.3<br>sklearn version: 1.6.1<br>lightgbm version: 4.6.0<br>Platform: Linux-6.11.0-24-generic-x86_64-with-glibc2.39<br>Processor: x86_64<br>CPU count: 8<br>Memory (GB): 16.64<br>",
          "Forecaster: ForecasterRecursive<br>Regressor: LGBMRegressor<br>Function: ForecasterRecursive_predict<br>Function_hash: 4f8ae3116340ac90eb9e66eac42789de<br>Datetime: 2025-04-25 22:25:58.807375<br>Python version: 3.12.9<br>skforecast version: 0.16.0<br>numpy version: 2.2.5<br>pandas version: 2.2.3<br>sklearn version: 1.6.1<br>lightgbm version: 4.6.0<br>Platform: Linux-6.11.0-24-generic-x86_64-with-glibc2.39<br>Processor: x86_64<br>CPU count: 8<br>Memory (GB): 16.64<br>",
          "Forecaster: ForecasterRecursive<br>Regressor: LGBMRegressor<br>Function: ForecasterRecursive_predict<br>Function_hash: 4f8ae3116340ac90eb9e66eac42789de<br>Datetime: 2025-04-25 22:26:31.554016<br>Python version: 3.12.9<br>skforecast version: 0.16.0<br>numpy version: 2.2.5<br>pandas version: 2.2.3<br>sklearn version: 1.6.1<br>lightgbm version: 4.6.0<br>Platform: Linux-6.11.0-24-generic-x86_64-with-glibc2.39<br>Processor: x86_64<br>CPU count: 8<br>Memory (GB): 16.64<br>",
          "Forecaster: ForecasterRecursive<br>Regressor: LGBMRegressor<br>Function: ForecasterRecursive_predict<br>Function_hash: 4f8ae3116340ac90eb9e66eac42789de<br>Datetime: 2025-04-25 22:27:18.621448<br>Python version: 3.12.9<br>skforecast version: 0.16.0<br>numpy version: 2.2.5<br>pandas version: 2.2.3<br>sklearn version: 1.6.1<br>lightgbm version: 4.6.0<br>Platform: Linux-6.11.0-24-generic-x86_64-with-glibc2.39<br>Processor: x86_64<br>CPU count: 8<br>Memory (GB): 16.64<br>",
          "Forecaster: ForecasterRecursive<br>Regressor: LGBMRegressor<br>Function: ForecasterRecursive_predict<br>Function_hash: 4f8ae3116340ac90eb9e66eac42789de<br>Datetime: 2025-04-25 22:28:18.354883<br>Python version: 3.12.9<br>skforecast version: 0.16.0<br>numpy version: 2.2.5<br>pandas version: 2.2.3<br>sklearn version: 1.6.1<br>lightgbm version: 4.6.0<br>Platform: Linux-6.11.0-24-generic-x86_64-with-glibc2.39<br>Processor: x86_64<br>CPU count: 8<br>Memory (GB): 16.64<br>",
          "Forecaster: ForecasterRecursive<br>Regressor: LGBMRegressor<br>Function: ForecasterRecursive_predict<br>Function_hash: 4f8ae3116340ac90eb9e66eac42789de<br>Datetime: 2025-04-25 22:37:00.859665<br>Python version: 3.12.9<br>skforecast version: 0.16.0<br>numpy version: 2.2.5<br>pandas version: 2.2.3<br>sklearn version: 1.6.1<br>lightgbm version: 4.6.0<br>Platform: Linux-6.11.0-24-generic-x86_64-with-glibc2.39<br>Processor: x86_64<br>CPU count: 8<br>Memory (GB): 16.64<br>",
          "Forecaster: ForecasterRecursive<br>Regressor: LGBMRegressor<br>Function: ForecasterRecursive_predict<br>Function_hash: 4f8ae3116340ac90eb9e66eac42789de<br>Datetime: 2025-04-25 22:58:09.257513<br>Python version: 3.12.9<br>skforecast version: 0.16.0<br>numpy version: 2.2.5<br>pandas version: 2.2.3<br>sklearn version: 1.6.1<br>lightgbm version: 4.6.0<br>Platform: Linux-6.11.0-24-generic-x86_64-with-glibc2.39<br>Processor: x86_64<br>CPU count: 8<br>Memory (GB): 16.64<br>",
          "Forecaster: ForecasterRecursive<br>Regressor: LGBMRegressor<br>Function: ForecasterRecursive_predict<br>Function_hash: 9b38c1cb544d9d3a4cfebc44b60cdb17<br>Datetime: 2025-04-27 11:58:02.643974<br>Python version: 3.12.9<br>skforecast version: 0.16.0<br>numpy version: 2.2.5<br>pandas version: 2.2.3<br>sklearn version: 1.6.1<br>lightgbm version: 4.6.0<br>Platform: Linux-6.11.0-24-generic-x86_64-with-glibc2.39<br>Processor: x86_64<br>CPU count: 8<br>Memory (GB): 16.64<br>"
         ],
         "type": "scatter",
         "x": {
          "bdata": "o5B3p65UCEDwe8YQCBwIQL1cCLapsgdAaWNkGdn0B0CaEj/qo0QIQNM+DpKwmwdAuBLwKDGcB0DuJQ55yDUIQMBjPI9E2QdA",
          "dtype": "f8"
         },
         "y": {
          "bdata": "7+4yiSVjsD+amQhH+kCxP6uq8RVQL7A/RES6k3Iwsj+rqnlsZIiwP97d7Ytz77E/d3dFnq7trj9VVYKNvpK0PyIigoO7xa8/",
          "dtype": "f8"
         }
        },
        {
         "error_y": {
          "array": {
           "bdata": "dq2hO4iaaT+NJ03sc553Pw==",
           "dtype": "f8"
          },
          "color": "#AB63FA",
          "thickness": 1.5,
          "type": "data",
          "visible": true,
          "width": 5
         },
         "hovertemplate": "%{text}<extra></extra>",
         "marker": {
          "color": "#AB63FA",
          "opacity": 0.7,
          "size": 10,
          "symbol": "diamond"
         },
         "mode": "markers",
         "name": "0.16.0 - Windows-10-10.0.19045-SP0",
         "showlegend": true,
         "text": [
          "Forecaster: ForecasterRecursive<br>Regressor: LGBMRegressor<br>Function: ForecasterRecursive_predict<br>Function_hash: 4f8ae3116340ac90eb9e66eac42789de<br>Datetime: 2025-04-24 18:09:26.478141<br>Python version: 3.11.10<br>skforecast version: 0.16.0<br>numpy version: 2.2.5<br>pandas version: 2.2.3<br>sklearn version: 1.6.1<br>lightgbm version: 4.5.0<br>Platform: Windows-10-10.0.19045-SP0<br>Processor: Intel64 Family 6 Model 141 Stepping 1, GenuineIntel<br>CPU count: 16<br>Memory (GB): 34.07<br>",
          "Forecaster: ForecasterRecursive<br>Regressor: LGBMRegressor<br>Function: ForecasterRecursive_predict<br>Function_hash: 4f8ae3116340ac90eb9e66eac42789de<br>Datetime: 2025-04-24 18:24:13.604186<br>Python version: 3.11.10<br>skforecast version: 0.16.0<br>numpy version: 2.2.5<br>pandas version: 2.2.3<br>sklearn version: 1.6.1<br>lightgbm version: 4.5.0<br>Platform: Windows-10-10.0.19045-SP0<br>Processor: Intel64 Family 6 Model 141 Stepping 1, GenuineIntel<br>CPU count: 16<br>Memory (GB): 34.07<br>"
         ],
         "type": "scatter",
         "x": {
          "bdata": "QqPfMFkXCEBr5Mtt+dcHQA==",
          "dtype": "f8"
         },
         "y": {
          "bdata": "ERGhBreqqT8AAECC2laqPw==",
          "dtype": "f8"
         }
        },
        {
         "line": {
          "color": "black",
          "width": 2
         },
         "marker": {
          "color": "black",
          "size": 8
         },
         "mode": "lines+markers",
         "name": "Median (per version)",
         "type": "scatter",
         "x": {
          "bdata": "AAECAw==",
          "dtype": "i1"
         },
         "y": {
          "bdata": "AABYXS1tsj+amQnfHQ+xPyIi2kE+C64/7+4yiSVjsD8=",
          "dtype": "f8"
         }
        },
        {
         "line": {
          "color": "black",
          "dash": "dash",
          "width": 2
         },
         "marker": {
          "color": "black",
          "size": 8
         },
         "mode": "lines+markers",
         "name": "Mean (per version)",
         "type": "scatter",
         "x": {
          "bdata": "AAECAw==",
          "dtype": "i1"
         },
         "y": {
          "bdata": "AEANcJOysj9313MSk4OxP8L19t8cHLA/4YNgE6JmsD8=",
          "dtype": "f8"
         }
        }
       ],
       "layout": {
        "showlegend": true,
        "template": {
         "data": {
          "bar": [
           {
            "error_x": {
             "color": "#2a3f5f"
            },
            "error_y": {
             "color": "#2a3f5f"
            },
            "marker": {
             "line": {
              "color": "#E5ECF6",
              "width": 0.5
             },
             "pattern": {
              "fillmode": "overlay",
              "size": 10,
              "solidity": 0.2
             }
            },
            "type": "bar"
           }
          ],
          "barpolar": [
           {
            "marker": {
             "line": {
              "color": "#E5ECF6",
              "width": 0.5
             },
             "pattern": {
              "fillmode": "overlay",
              "size": 10,
              "solidity": 0.2
             }
            },
            "type": "barpolar"
           }
          ],
          "carpet": [
           {
            "aaxis": {
             "endlinecolor": "#2a3f5f",
             "gridcolor": "white",
             "linecolor": "white",
             "minorgridcolor": "white",
             "startlinecolor": "#2a3f5f"
            },
            "baxis": {
             "endlinecolor": "#2a3f5f",
             "gridcolor": "white",
             "linecolor": "white",
             "minorgridcolor": "white",
             "startlinecolor": "#2a3f5f"
            },
            "type": "carpet"
           }
          ],
          "choropleth": [
           {
            "colorbar": {
             "outlinewidth": 0,
             "ticks": ""
            },
            "type": "choropleth"
           }
          ],
          "contour": [
           {
            "colorbar": {
             "outlinewidth": 0,
             "ticks": ""
            },
            "colorscale": [
             [
              0,
              "#0d0887"
             ],
             [
              0.1111111111111111,
              "#46039f"
             ],
             [
              0.2222222222222222,
              "#7201a8"
             ],
             [
              0.3333333333333333,
              "#9c179e"
             ],
             [
              0.4444444444444444,
              "#bd3786"
             ],
             [
              0.5555555555555556,
              "#d8576b"
             ],
             [
              0.6666666666666666,
              "#ed7953"
             ],
             [
              0.7777777777777778,
              "#fb9f3a"
             ],
             [
              0.8888888888888888,
              "#fdca26"
             ],
             [
              1,
              "#f0f921"
             ]
            ],
            "type": "contour"
           }
          ],
          "contourcarpet": [
           {
            "colorbar": {
             "outlinewidth": 0,
             "ticks": ""
            },
            "type": "contourcarpet"
           }
          ],
          "heatmap": [
           {
            "colorbar": {
             "outlinewidth": 0,
             "ticks": ""
            },
            "colorscale": [
             [
              0,
              "#0d0887"
             ],
             [
              0.1111111111111111,
              "#46039f"
             ],
             [
              0.2222222222222222,
              "#7201a8"
             ],
             [
              0.3333333333333333,
              "#9c179e"
             ],
             [
              0.4444444444444444,
              "#bd3786"
             ],
             [
              0.5555555555555556,
              "#d8576b"
             ],
             [
              0.6666666666666666,
              "#ed7953"
             ],
             [
              0.7777777777777778,
              "#fb9f3a"
             ],
             [
              0.8888888888888888,
              "#fdca26"
             ],
             [
              1,
              "#f0f921"
             ]
            ],
            "type": "heatmap"
           }
          ],
          "histogram": [
           {
            "marker": {
             "pattern": {
              "fillmode": "overlay",
              "size": 10,
              "solidity": 0.2
             }
            },
            "type": "histogram"
           }
          ],
          "histogram2d": [
           {
            "colorbar": {
             "outlinewidth": 0,
             "ticks": ""
            },
            "colorscale": [
             [
              0,
              "#0d0887"
             ],
             [
              0.1111111111111111,
              "#46039f"
             ],
             [
              0.2222222222222222,
              "#7201a8"
             ],
             [
              0.3333333333333333,
              "#9c179e"
             ],
             [
              0.4444444444444444,
              "#bd3786"
             ],
             [
              0.5555555555555556,
              "#d8576b"
             ],
             [
              0.6666666666666666,
              "#ed7953"
             ],
             [
              0.7777777777777778,
              "#fb9f3a"
             ],
             [
              0.8888888888888888,
              "#fdca26"
             ],
             [
              1,
              "#f0f921"
             ]
            ],
            "type": "histogram2d"
           }
          ],
          "histogram2dcontour": [
           {
            "colorbar": {
             "outlinewidth": 0,
             "ticks": ""
            },
            "colorscale": [
             [
              0,
              "#0d0887"
             ],
             [
              0.1111111111111111,
              "#46039f"
             ],
             [
              0.2222222222222222,
              "#7201a8"
             ],
             [
              0.3333333333333333,
              "#9c179e"
             ],
             [
              0.4444444444444444,
              "#bd3786"
             ],
             [
              0.5555555555555556,
              "#d8576b"
             ],
             [
              0.6666666666666666,
              "#ed7953"
             ],
             [
              0.7777777777777778,
              "#fb9f3a"
             ],
             [
              0.8888888888888888,
              "#fdca26"
             ],
             [
              1,
              "#f0f921"
             ]
            ],
            "type": "histogram2dcontour"
           }
          ],
          "mesh3d": [
           {
            "colorbar": {
             "outlinewidth": 0,
             "ticks": ""
            },
            "type": "mesh3d"
           }
          ],
          "parcoords": [
           {
            "line": {
             "colorbar": {
              "outlinewidth": 0,
              "ticks": ""
             }
            },
            "type": "parcoords"
           }
          ],
          "pie": [
           {
            "automargin": true,
            "type": "pie"
           }
          ],
          "scatter": [
           {
            "fillpattern": {
             "fillmode": "overlay",
             "size": 10,
             "solidity": 0.2
            },
            "type": "scatter"
           }
          ],
          "scatter3d": [
           {
            "line": {
             "colorbar": {
              "outlinewidth": 0,
              "ticks": ""
             }
            },
            "marker": {
             "colorbar": {
              "outlinewidth": 0,
              "ticks": ""
             }
            },
            "type": "scatter3d"
           }
          ],
          "scattercarpet": [
           {
            "marker": {
             "colorbar": {
              "outlinewidth": 0,
              "ticks": ""
             }
            },
            "type": "scattercarpet"
           }
          ],
          "scattergeo": [
           {
            "marker": {
             "colorbar": {
              "outlinewidth": 0,
              "ticks": ""
             }
            },
            "type": "scattergeo"
           }
          ],
          "scattergl": [
           {
            "marker": {
             "colorbar": {
              "outlinewidth": 0,
              "ticks": ""
             }
            },
            "type": "scattergl"
           }
          ],
          "scattermap": [
           {
            "marker": {
             "colorbar": {
              "outlinewidth": 0,
              "ticks": ""
             }
            },
            "type": "scattermap"
           }
          ],
          "scattermapbox": [
           {
            "marker": {
             "colorbar": {
              "outlinewidth": 0,
              "ticks": ""
             }
            },
            "type": "scattermapbox"
           }
          ],
          "scatterpolar": [
           {
            "marker": {
             "colorbar": {
              "outlinewidth": 0,
              "ticks": ""
             }
            },
            "type": "scatterpolar"
           }
          ],
          "scatterpolargl": [
           {
            "marker": {
             "colorbar": {
              "outlinewidth": 0,
              "ticks": ""
             }
            },
            "type": "scatterpolargl"
           }
          ],
          "scatterternary": [
           {
            "marker": {
             "colorbar": {
              "outlinewidth": 0,
              "ticks": ""
             }
            },
            "type": "scatterternary"
           }
          ],
          "surface": [
           {
            "colorbar": {
             "outlinewidth": 0,
             "ticks": ""
            },
            "colorscale": [
             [
              0,
              "#0d0887"
             ],
             [
              0.1111111111111111,
              "#46039f"
             ],
             [
              0.2222222222222222,
              "#7201a8"
             ],
             [
              0.3333333333333333,
              "#9c179e"
             ],
             [
              0.4444444444444444,
              "#bd3786"
             ],
             [
              0.5555555555555556,
              "#d8576b"
             ],
             [
              0.6666666666666666,
              "#ed7953"
             ],
             [
              0.7777777777777778,
              "#fb9f3a"
             ],
             [
              0.8888888888888888,
              "#fdca26"
             ],
             [
              1,
              "#f0f921"
             ]
            ],
            "type": "surface"
           }
          ],
          "table": [
           {
            "cells": {
             "fill": {
              "color": "#EBF0F8"
             },
             "line": {
              "color": "white"
             }
            },
            "header": {
             "fill": {
              "color": "#C8D4E3"
             },
             "line": {
              "color": "white"
             }
            },
            "type": "table"
           }
          ]
         },
         "layout": {
          "annotationdefaults": {
           "arrowcolor": "#2a3f5f",
           "arrowhead": 0,
           "arrowwidth": 1
          },
          "autotypenumbers": "strict",
          "coloraxis": {
           "colorbar": {
            "outlinewidth": 0,
            "ticks": ""
           }
          },
          "colorscale": {
           "diverging": [
            [
             0,
             "#8e0152"
            ],
            [
             0.1,
             "#c51b7d"
            ],
            [
             0.2,
             "#de77ae"
            ],
            [
             0.3,
             "#f1b6da"
            ],
            [
             0.4,
             "#fde0ef"
            ],
            [
             0.5,
             "#f7f7f7"
            ],
            [
             0.6,
             "#e6f5d0"
            ],
            [
             0.7,
             "#b8e186"
            ],
            [
             0.8,
             "#7fbc41"
            ],
            [
             0.9,
             "#4d9221"
            ],
            [
             1,
             "#276419"
            ]
           ],
           "sequential": [
            [
             0,
             "#0d0887"
            ],
            [
             0.1111111111111111,
             "#46039f"
            ],
            [
             0.2222222222222222,
             "#7201a8"
            ],
            [
             0.3333333333333333,
             "#9c179e"
            ],
            [
             0.4444444444444444,
             "#bd3786"
            ],
            [
             0.5555555555555556,
             "#d8576b"
            ],
            [
             0.6666666666666666,
             "#ed7953"
            ],
            [
             0.7777777777777778,
             "#fb9f3a"
            ],
            [
             0.8888888888888888,
             "#fdca26"
            ],
            [
             1,
             "#f0f921"
            ]
           ],
           "sequentialminus": [
            [
             0,
             "#0d0887"
            ],
            [
             0.1111111111111111,
             "#46039f"
            ],
            [
             0.2222222222222222,
             "#7201a8"
            ],
            [
             0.3333333333333333,
             "#9c179e"
            ],
            [
             0.4444444444444444,
             "#bd3786"
            ],
            [
             0.5555555555555556,
             "#d8576b"
            ],
            [
             0.6666666666666666,
             "#ed7953"
            ],
            [
             0.7777777777777778,
             "#fb9f3a"
            ],
            [
             0.8888888888888888,
             "#fdca26"
            ],
            [
             1,
             "#f0f921"
            ]
           ]
          },
          "colorway": [
           "#636efa",
           "#EF553B",
           "#00cc96",
           "#ab63fa",
           "#FFA15A",
           "#19d3f3",
           "#FF6692",
           "#B6E880",
           "#FF97FF",
           "#FECB52"
          ],
          "font": {
           "color": "#2a3f5f"
          },
          "geo": {
           "bgcolor": "white",
           "lakecolor": "white",
           "landcolor": "#E5ECF6",
           "showlakes": true,
           "showland": true,
           "subunitcolor": "white"
          },
          "hoverlabel": {
           "align": "left"
          },
          "hovermode": "closest",
          "mapbox": {
           "style": "light"
          },
          "paper_bgcolor": "white",
          "plot_bgcolor": "#E5ECF6",
          "polar": {
           "angularaxis": {
            "gridcolor": "white",
            "linecolor": "white",
            "ticks": ""
           },
           "bgcolor": "#E5ECF6",
           "radialaxis": {
            "gridcolor": "white",
            "linecolor": "white",
            "ticks": ""
           }
          },
          "scene": {
           "xaxis": {
            "backgroundcolor": "#E5ECF6",
            "gridcolor": "white",
            "gridwidth": 2,
            "linecolor": "white",
            "showbackground": true,
            "ticks": "",
            "zerolinecolor": "white"
           },
           "yaxis": {
            "backgroundcolor": "#E5ECF6",
            "gridcolor": "white",
            "gridwidth": 2,
            "linecolor": "white",
            "showbackground": true,
            "ticks": "",
            "zerolinecolor": "white"
           },
           "zaxis": {
            "backgroundcolor": "#E5ECF6",
            "gridcolor": "white",
            "gridwidth": 2,
            "linecolor": "white",
            "showbackground": true,
            "ticks": "",
            "zerolinecolor": "white"
           }
          },
          "shapedefaults": {
           "line": {
            "color": "#2a3f5f"
           }
          },
          "ternary": {
           "aaxis": {
            "gridcolor": "white",
            "linecolor": "white",
            "ticks": ""
           },
           "baxis": {
            "gridcolor": "white",
            "linecolor": "white",
            "ticks": ""
           },
           "bgcolor": "#E5ECF6",
           "caxis": {
            "gridcolor": "white",
            "linecolor": "white",
            "ticks": ""
           }
          },
          "title": {
           "x": 0.05
          },
          "xaxis": {
           "automargin": true,
           "gridcolor": "white",
           "linecolor": "white",
           "ticks": "",
           "title": {
            "standoff": 15
           },
           "zerolinecolor": "white",
           "zerolinewidth": 2
          },
          "yaxis": {
           "automargin": true,
           "gridcolor": "white",
           "linecolor": "white",
           "ticks": "",
           "title": {
            "standoff": 15
           },
           "zerolinecolor": "white",
           "zerolinewidth": 2
          }
         }
        },
        "title": {
         "text": "Execution time of ForecasterRecursive_predict"
        },
        "xaxis": {
         "tickangle": -45,
         "tickmode": "array",
         "ticktext": [
          "0.13.0",
          "0.14.0",
          "0.15.1",
          "0.16.0"
         ],
         "tickvals": [
          0,
          1,
          2,
          3
         ],
         "title": {
          "text": "skforecast version"
         }
        },
        "yaxis": {
         "title": {
          "text": "Execution time (seconds)"
         }
        }
       }
      }
     },
     "metadata": {},
     "output_type": "display_data"
    },
    {
     "data": {
      "application/vnd.plotly.v1+json": {
       "config": {
        "plotlyServerURL": "https://plot.ly"
       },
       "data": [
        {
         "error_y": {
          "array": {
           "bdata": "AAAAAAAA+H8AAAAAAAD4fwAAAAAAAPh/AAAAAAAA+H8=",
           "dtype": "f8"
          },
          "color": "#636EFA",
          "thickness": 1.5,
          "type": "data",
          "visible": true,
          "width": 5
         },
         "hovertemplate": "%{text}<extra></extra>",
         "marker": {
          "color": "#636EFA",
          "opacity": 0.7,
          "size": 10,
          "symbol": "circle"
         },
         "mode": "markers",
         "name": "0.13.0 - Linux-6.11.0-21-generic-x86_64-with-glibc2.39",
         "showlegend": true,
         "text": [
          "Forecaster: ForecasterAutoreg<br>Regressor: LGBMRegressor<br>Function: ForecasterRecursive__create_predict_inputs<br>Function_hash: 0f4a625e8b1bb7e3f0c5bb77a04cc2fb<br>Datetime: 2025-04-23 15:31:33.298997<br>Python version: 3.12.9<br>skforecast version: 0.13.0<br>numpy version: 2.2.5<br>pandas version: 2.2.3<br>sklearn version: 1.6.1<br>lightgbm version: 4.6.0<br>Platform: Linux-6.11.0-21-generic-x86_64-with-glibc2.39<br>Processor: x86_64<br>CPU count: 8<br>Memory (GB): 16.64<br>",
          "Forecaster: ForecasterAutoreg<br>Regressor: LGBMRegressor<br>Function: ForecasterRecursive__create_predict_inputs<br>Function_hash: 0f4a625e8b1bb7e3f0c5bb77a04cc2fb<br>Datetime: 2025-04-23 15:41:07.284418<br>Python version: 3.12.9<br>skforecast version: 0.13.0<br>numpy version: 2.2.5<br>pandas version: 2.2.3<br>sklearn version: 1.6.1<br>lightgbm version: 4.6.0<br>Platform: Linux-6.11.0-21-generic-x86_64-with-glibc2.39<br>Processor: x86_64<br>CPU count: 8<br>Memory (GB): 16.64<br>",
          "Forecaster: ForecasterAutoreg<br>Regressor: LGBMRegressor<br>Function: ForecasterRecursive__create_predict_inputs<br>Function_hash: 0f4a625e8b1bb7e3f0c5bb77a04cc2fb<br>Datetime: 2025-04-23 15:46:08.499926<br>Python version: 3.12.9<br>skforecast version: 0.13.0<br>numpy version: 2.2.5<br>pandas version: 2.2.3<br>sklearn version: 1.6.1<br>lightgbm version: 4.6.0<br>Platform: Linux-6.11.0-21-generic-x86_64-with-glibc2.39<br>Processor: x86_64<br>CPU count: 8<br>Memory (GB): 16.64<br>",
          "Forecaster: ForecasterAutoreg<br>Regressor: LGBMRegressor<br>Function: ForecasterRecursive__create_predict_inputs<br>Function_hash: 0f4a625e8b1bb7e3f0c5bb77a04cc2fb<br>Datetime: 2025-04-23 15:46:41.780575<br>Python version: 3.12.9<br>skforecast version: 0.13.0<br>numpy version: 2.2.5<br>pandas version: 2.2.3<br>sklearn version: 1.6.1<br>lightgbm version: 4.6.0<br>Platform: Linux-6.11.0-21-generic-x86_64-with-glibc2.39<br>Processor: x86_64<br>CPU count: 8<br>Memory (GB): 16.64<br>"
         ],
         "type": "scatter",
         "x": {
          "bdata": "fByzX9/Fir9AKClBT8iAPwyt5c8ZpoA/hj3Rm6N3pT8=",
          "dtype": "f8"
         },
         "y": {
          "bdata": "AAAAAAAA+H8AAAAAAAD4fwAAAAAAAPh/AAAAAAAA+H8=",
          "dtype": "f8"
         }
        },
        {
         "error_y": {
          "array": {
           "bdata": "0/4UtSBhRD8dC4vnXec3P6tZnazWiig/xQ21wGcGPz8=",
           "dtype": "f8"
          },
          "color": "#EF553B",
          "thickness": 1.5,
          "type": "data",
          "visible": true,
          "width": 5
         },
         "hovertemplate": "%{text}<extra></extra>",
         "marker": {
          "color": "#EF553B",
          "opacity": 0.7,
          "size": 10,
          "symbol": "circle"
         },
         "mode": "markers",
         "name": "0.14.0 - Linux-6.11.0-21-generic-x86_64-with-glibc2.39",
         "showlegend": true,
         "text": [
          "Forecaster: ForecasterRecursive<br>Regressor: LGBMRegressor<br>Function: ForecasterRecursive__create_predict_inputs<br>Function_hash: 0f4a625e8b1bb7e3f0c5bb77a04cc2fb<br>Datetime: 2025-04-23 15:16:00.211718<br>Python version: 3.12.9<br>skforecast version: 0.14.0<br>numpy version: 2.2.5<br>pandas version: 2.2.3<br>sklearn version: 1.6.1<br>lightgbm version: 4.6.0<br>Platform: Linux-6.11.0-21-generic-x86_64-with-glibc2.39<br>Processor: x86_64<br>CPU count: 8<br>Memory (GB): 16.64<br>",
          "Forecaster: ForecasterRecursive<br>Regressor: LGBMRegressor<br>Function: ForecasterRecursive__create_predict_inputs<br>Function_hash: 0f4a625e8b1bb7e3f0c5bb77a04cc2fb<br>Datetime: 2025-04-23 15:56:54.817583<br>Python version: 3.12.9<br>skforecast version: 0.14.0<br>numpy version: 2.2.5<br>pandas version: 2.2.3<br>sklearn version: 1.6.1<br>lightgbm version: 4.6.0<br>Platform: Linux-6.11.0-21-generic-x86_64-with-glibc2.39<br>Processor: x86_64<br>CPU count: 8<br>Memory (GB): 16.64<br>",
          "Forecaster: ForecasterRecursive<br>Regressor: LGBMRegressor<br>Function: ForecasterRecursive__create_predict_inputs<br>Function_hash: 0f4a625e8b1bb7e3f0c5bb77a04cc2fb<br>Datetime: 2025-04-23 22:17:07.765379<br>Python version: 3.12.9<br>skforecast version: 0.14.0<br>numpy version: 2.2.5<br>pandas version: 2.2.3<br>sklearn version: 1.6.1<br>lightgbm version: 4.6.0<br>Platform: Linux-6.11.0-21-generic-x86_64-with-glibc2.39<br>Processor: x86_64<br>CPU count: 8<br>Memory (GB): 16.64<br>",
          "Forecaster: ForecasterRecursive<br>Regressor: LGBMRegressor<br>Function: ForecasterRecursive__create_predict_inputs<br>Function_hash: 0f4a625e8b1bb7e3f0c5bb77a04cc2fb<br>Datetime: 2025-04-23 22:51:18.941892<br>Python version: 3.12.9<br>skforecast version: 0.14.0<br>numpy version: 2.2.5<br>pandas version: 2.2.3<br>sklearn version: 1.6.1<br>lightgbm version: 4.6.0<br>Platform: Linux-6.11.0-21-generic-x86_64-with-glibc2.39<br>Processor: x86_64<br>CPU count: 8<br>Memory (GB): 16.64<br>"
         ],
         "type": "scatter",
         "x": {
          "bdata": "R887kefC7j+9ao9gHibvP2e1h4Dx7+8/uuOMZK1o8D8=",
          "dtype": "f8"
         },
         "y": {
          "bdata": "AADA/XZLbj9mZsYa8elsPwAAQNIni2U/zcwMHMHMaj8=",
          "dtype": "f8"
         }
        },
        {
         "error_y": {
          "array": {
           "bdata": "448QvofrQT+K4sxtynE7Pw==",
           "dtype": "f8"
          },
          "color": "#EF553B",
          "thickness": 1.5,
          "type": "data",
          "visible": true,
          "width": 5
         },
         "hovertemplate": "%{text}<extra></extra>",
         "marker": {
          "color": "#EF553B",
          "opacity": 0.7,
          "size": 10,
          "symbol": "square"
         },
         "mode": "markers",
         "name": "0.14.0 - Linux-6.11.0-24-generic-x86_64-with-glibc2.39",
         "showlegend": true,
         "text": [
          "Forecaster: ForecasterRecursive<br>Regressor: LGBMRegressor<br>Function: ForecasterRecursive__create_predict_inputs<br>Function_hash: 0f4a625e8b1bb7e3f0c5bb77a04cc2fb<br>Datetime: 2025-04-25 22:33:09.838880<br>Python version: 3.12.9<br>skforecast version: 0.14.0<br>numpy version: 2.2.5<br>pandas version: 2.2.3<br>sklearn version: 1.6.1<br>lightgbm version: 4.6.0<br>Platform: Linux-6.11.0-24-generic-x86_64-with-glibc2.39<br>Processor: x86_64<br>CPU count: 8<br>Memory (GB): 16.64<br>",
          "Forecaster: ForecasterRecursive<br>Regressor: LGBMRegressor<br>Function: ForecasterRecursive__create_predict_inputs<br>Function_hash: 0f4a625e8b1bb7e3f0c5bb77a04cc2fb<br>Datetime: 2025-04-25 22:30:25.331228<br>Python version: 3.12.9<br>skforecast version: 0.14.0<br>numpy version: 2.2.5<br>pandas version: 2.2.3<br>sklearn version: 1.6.1<br>lightgbm version: 4.6.0<br>Platform: Linux-6.11.0-24-generic-x86_64-with-glibc2.39<br>Processor: x86_64<br>CPU count: 8<br>Memory (GB): 16.64<br>"
         ],
         "type": "scatter",
         "x": {
          "bdata": "eCqBC6xX8D8I6AmCVnbwPw==",
          "dtype": "f8"
         },
         "y": {
          "bdata": "3t1db/4pZz+rqkoOGMFnPw==",
          "dtype": "f8"
         }
        },
        {
         "error_y": {
          "array": {
           "bdata": "t11Sj92BKD8Qasun6csrPw==",
           "dtype": "f8"
          },
          "color": "#EF553B",
          "thickness": 1.5,
          "type": "data",
          "visible": true,
          "width": 5
         },
         "hovertemplate": "%{text}<extra></extra>",
         "marker": {
          "color": "#EF553B",
          "opacity": 0.7,
          "size": 10,
          "symbol": "diamond"
         },
         "mode": "markers",
         "name": "0.14.0 - Windows-10-10.0.19045-SP0",
         "showlegend": true,
         "text": [
          "Forecaster: ForecasterRecursive<br>Regressor: LGBMRegressor<br>Function: ForecasterRecursive__create_predict_inputs<br>Function_hash: 0f4a625e8b1bb7e3f0c5bb77a04cc2fb<br>Datetime: 2025-04-24 10:44:53.450503<br>Python version: 3.11.10<br>skforecast version: 0.14.0<br>numpy version: 2.1.3<br>pandas version: 2.2.3<br>sklearn version: 1.6.1<br>lightgbm version: 4.5.0<br>Platform: Windows-10-10.0.19045-SP0<br>Processor: Intel64 Family 6 Model 141 Stepping 1, GenuineIntel<br>CPU count: 16<br>Memory (GB): 34.07<br>",
          "Forecaster: ForecasterRecursive<br>Regressor: LGBMRegressor<br>Function: ForecasterRecursive__create_predict_inputs<br>Function_hash: 0f4a625e8b1bb7e3f0c5bb77a04cc2fb<br>Datetime: 2025-04-24 11:12:09.624725<br>Python version: 3.11.10<br>skforecast version: 0.14.0<br>numpy version: 2.1.3<br>pandas version: 2.2.3<br>sklearn version: 1.6.1<br>lightgbm version: 4.5.0<br>Platform: Windows-10-10.0.19045-SP0<br>Processor: Intel64 Family 6 Model 141 Stepping 1, GenuineIntel<br>CPU count: 16<br>Memory (GB): 34.07<br>"
         ],
         "type": "scatter",
         "x": {
          "bdata": "dXOspRCh8D+AqRhxSlrwPw==",
          "dtype": "f8"
         },
         "y": {
          "bdata": "zczM+dj6ZT9mZmb+fedjPw==",
          "dtype": "f8"
         }
        },
        {
         "error_y": {
          "array": {
           "bdata": "JEwuwDwXNT8XGlAenp8vPwcQ8CKoKTA/xVsY+rDcNj+NlQvnzfQzPw==",
           "dtype": "f8"
          },
          "color": "#00CC96",
          "thickness": 1.5,
          "type": "data",
          "visible": true,
          "width": 5
         },
         "hovertemplate": "%{text}<extra></extra>",
         "marker": {
          "color": "#00CC96",
          "opacity": 0.7,
          "size": 10,
          "symbol": "circle"
         },
         "mode": "markers",
         "name": "0.15.1 - Linux-6.11.0-21-generic-x86_64-with-glibc2.39",
         "showlegend": true,
         "text": [
          "Forecaster: ForecasterRecursive<br>Regressor: LGBMRegressor<br>Function: ForecasterRecursive__create_predict_inputs<br>Function_hash: 0f4a625e8b1bb7e3f0c5bb77a04cc2fb<br>Datetime: 2025-04-23 15:12:04.344930<br>Python version: 3.12.9<br>skforecast version: 0.15.1<br>numpy version: 2.2.5<br>pandas version: 2.2.3<br>sklearn version: 1.6.1<br>lightgbm version: 4.6.0<br>Platform: Linux-6.11.0-21-generic-x86_64-with-glibc2.39<br>Processor: x86_64<br>CPU count: 8<br>Memory (GB): 16.64<br>",
          "Forecaster: ForecasterRecursive<br>Regressor: LGBMRegressor<br>Function: ForecasterRecursive__create_predict_inputs<br>Function_hash: 0f4a625e8b1bb7e3f0c5bb77a04cc2fb<br>Datetime: 2025-04-23 22:04:09.563928<br>Python version: 3.12.9<br>skforecast version: 0.15.1<br>numpy version: 2.2.5<br>pandas version: 2.2.3<br>sklearn version: 1.6.1<br>lightgbm version: 4.6.0<br>Platform: Linux-6.11.0-21-generic-x86_64-with-glibc2.39<br>Processor: x86_64<br>CPU count: 8<br>Memory (GB): 16.64<br>",
          "Forecaster: ForecasterRecursive<br>Regressor: LGBMRegressor<br>Function: ForecasterRecursive__create_predict_inputs<br>Function_hash: 0f4a625e8b1bb7e3f0c5bb77a04cc2fb<br>Datetime: 2025-04-23 20:22:39.239676<br>Python version: 3.12.9<br>skforecast version: 0.15.1<br>numpy version: 2.2.5<br>pandas version: 2.2.3<br>sklearn version: 1.6.1<br>lightgbm version: 4.6.0<br>Platform: Linux-6.11.0-21-generic-x86_64-with-glibc2.39<br>Processor: x86_64<br>CPU count: 8<br>Memory (GB): 16.64<br>",
          "Forecaster: ForecasterRecursive<br>Regressor: LGBMRegressor<br>Function: ForecasterRecursive__create_predict_inputs<br>Function_hash: 0f4a625e8b1bb7e3f0c5bb77a04cc2fb<br>Datetime: 2025-04-23 16:05:34.448297<br>Python version: 3.12.9<br>skforecast version: 0.15.1<br>numpy version: 2.2.5<br>pandas version: 2.2.3<br>sklearn version: 1.6.1<br>lightgbm version: 4.6.0<br>Platform: Linux-6.11.0-21-generic-x86_64-with-glibc2.39<br>Processor: x86_64<br>CPU count: 8<br>Memory (GB): 16.64<br>",
          "Forecaster: ForecasterRecursive<br>Regressor: LGBMRegressor<br>Function: ForecasterRecursive__create_predict_inputs<br>Function_hash: 0f4a625e8b1bb7e3f0c5bb77a04cc2fb<br>Datetime: 2025-04-23 16:01:07.143048<br>Python version: 3.12.9<br>skforecast version: 0.15.1<br>numpy version: 2.2.5<br>pandas version: 2.2.3<br>sklearn version: 1.6.1<br>lightgbm version: 4.6.0<br>Platform: Linux-6.11.0-21-generic-x86_64-with-glibc2.39<br>Processor: x86_64<br>CPU count: 8<br>Memory (GB): 16.64<br>"
         ],
         "type": "scatter",
         "x": {
          "bdata": "9OmPOu5BAEDZGSt0i08AQO4kD5sOBABAYJn7hhxa/z88jdp4XGj/Pw==",
          "dtype": "f8"
         },
         "y": {
          "bdata": "MzPz1U7HZT8zM3Oub9VlP83MrDeknmQ/mpl5Hd0/aD/NzOzKt5toPw==",
          "dtype": "f8"
         }
        },
        {
         "error_y": {
          "array": {
           "bdata": "osk3QfBMPT94hoorBBs4P1xKb55T9yo/",
           "dtype": "f8"
          },
          "color": "#00CC96",
          "thickness": 1.5,
          "type": "data",
          "visible": true,
          "width": 5
         },
         "hovertemplate": "%{text}<extra></extra>",
         "marker": {
          "color": "#00CC96",
          "opacity": 0.7,
          "size": 10,
          "symbol": "square"
         },
         "mode": "markers",
         "name": "0.15.1 - Linux-6.11.0-24-generic-x86_64-with-glibc2.39",
         "showlegend": true,
         "text": [
          "Forecaster: ForecasterRecursive<br>Regressor: LGBMRegressor<br>Function: ForecasterRecursive__create_predict_inputs<br>Function_hash: 0f4a625e8b1bb7e3f0c5bb77a04cc2fb<br>Datetime: 2025-04-25 22:29:44.412836<br>Python version: 3.12.9<br>skforecast version: 0.15.1<br>numpy version: 2.2.5<br>pandas version: 2.2.3<br>sklearn version: 1.6.1<br>lightgbm version: 4.6.0<br>Platform: Linux-6.11.0-24-generic-x86_64-with-glibc2.39<br>Processor: x86_64<br>CPU count: 8<br>Memory (GB): 16.64<br>",
          "Forecaster: ForecasterRecursive<br>Regressor: LGBMRegressor<br>Function: ForecasterRecursive__create_predict_inputs<br>Function_hash: 0f4a625e8b1bb7e3f0c5bb77a04cc2fb<br>Datetime: 2025-04-25 22:29:07.945971<br>Python version: 3.12.9<br>skforecast version: 0.15.1<br>numpy version: 2.2.5<br>pandas version: 2.2.3<br>sklearn version: 1.6.1<br>lightgbm version: 4.6.0<br>Platform: Linux-6.11.0-24-generic-x86_64-with-glibc2.39<br>Processor: x86_64<br>CPU count: 8<br>Memory (GB): 16.64<br>",
          "Forecaster: ForecasterRecursive<br>Regressor: LGBMRegressor<br>Function: ForecasterRecursive__create_predict_inputs<br>Function_hash: 0f4a625e8b1bb7e3f0c5bb77a04cc2fb<br>Datetime: 2025-04-24 23:06:12.804417<br>Python version: 3.12.9<br>skforecast version: 0.15.1<br>numpy version: 2.2.5<br>pandas version: 2.2.3<br>sklearn version: 1.6.1<br>lightgbm version: 4.6.0<br>Platform: Linux-6.11.0-24-generic-x86_64-with-glibc2.39<br>Processor: x86_64<br>CPU count: 8<br>Memory (GB): 16.64<br>"
         ],
         "type": "scatter",
         "x": {
          "bdata": "O21cSeg6AEAq4w44tEMAQELsNhCxCABA",
          "dtype": "f8"
         },
         "y": {
          "bdata": "MzNTmOg+Zz9ERCT9f6RmP3d397ONcGU/",
          "dtype": "f8"
         }
        },
        {
         "error_y": {
          "array": {
           "bdata": "X0IAWQSwMj93HhwZaxUoPw==",
           "dtype": "f8"
          },
          "color": "#00CC96",
          "thickness": 1.5,
          "type": "data",
          "visible": true,
          "width": 5
         },
         "hovertemplate": "%{text}<extra></extra>",
         "marker": {
          "color": "#00CC96",
          "opacity": 0.7,
          "size": 10,
          "symbol": "diamond"
         },
         "mode": "markers",
         "name": "0.15.1 - Windows-10-10.0.19045-SP0",
         "showlegend": true,
         "text": [
          "Forecaster: ForecasterRecursive<br>Regressor: LGBMRegressor<br>Function: ForecasterRecursive__create_predict_inputs<br>Function_hash: 0f4a625e8b1bb7e3f0c5bb77a04cc2fb<br>Datetime: 2025-04-24 11:22:08.066994<br>Python version: 3.11.10<br>skforecast version: 0.15.1<br>numpy version: 2.1.3<br>pandas version: 2.2.3<br>sklearn version: 1.6.1<br>lightgbm version: 4.5.0<br>Platform: Windows-10-10.0.19045-SP0<br>Processor: Intel64 Family 6 Model 141 Stepping 1, GenuineIntel<br>CPU count: 16<br>Memory (GB): 34.07<br>",
          "Forecaster: ForecasterRecursive<br>Regressor: LGBMRegressor<br>Function: ForecasterRecursive__create_predict_inputs<br>Function_hash: 0f4a625e8b1bb7e3f0c5bb77a04cc2fb<br>Datetime: 2025-04-24 10:38:47.948169<br>Python version: 3.11.10<br>skforecast version: 0.15.1<br>numpy version: 2.1.3<br>pandas version: 2.2.3<br>sklearn version: 1.6.1<br>lightgbm version: 4.5.0<br>Platform: Windows-10-10.0.19045-SP0<br>Processor: Intel64 Family 6 Model 141 Stepping 1, GenuineIntel<br>CPU count: 16<br>Memory (GB): 34.07<br>"
         ],
         "type": "scatter",
         "x": {
          "bdata": "5mXZJjl1/z8c5LQAE0z/Pw==",
          "dtype": "f8"
         },
         "y": {
          "bdata": "mpmZOWLKYz8zMzMLMOJhPw==",
          "dtype": "f8"
         }
        },
        {
         "error_y": {
          "array": {
           "bdata": "FtWsfcUyNj/j+5mwD7w7P00hsAB3TlA/BUZX3Q9NMz921IUNGuEwP3joeucDMDM/8Y8oZYHfPz941fL7B9UrP+QYCCzJhDU/",
           "dtype": "f8"
          },
          "color": "#AB63FA",
          "thickness": 1.5,
          "type": "data",
          "visible": true,
          "width": 5
         },
         "hovertemplate": "%{text}<extra></extra>",
         "marker": {
          "color": "#AB63FA",
          "opacity": 0.7,
          "size": 10,
          "symbol": "square"
         },
         "mode": "markers",
         "name": "0.16.0 - Linux-6.11.0-24-generic-x86_64-with-glibc2.39",
         "showlegend": true,
         "text": [
          "Forecaster: ForecasterRecursive<br>Regressor: LGBMRegressor<br>Function: ForecasterRecursive__create_predict_inputs<br>Function_hash: 0f4a625e8b1bb7e3f0c5bb77a04cc2fb<br>Datetime: 2025-04-24 22:43:39.775270<br>Python version: 3.12.9<br>skforecast version: 0.16.0<br>numpy version: 2.2.5<br>pandas version: 2.2.3<br>sklearn version: 1.6.1<br>lightgbm version: 4.6.0<br>Platform: Linux-6.11.0-24-generic-x86_64-with-glibc2.39<br>Processor: x86_64<br>CPU count: 8<br>Memory (GB): 16.64<br>",
          "Forecaster: ForecasterRecursive<br>Regressor: LGBMRegressor<br>Function: ForecasterRecursive__create_predict_inputs<br>Function_hash: 0f4a625e8b1bb7e3f0c5bb77a04cc2fb<br>Datetime: 2025-04-25 22:24:00.489066<br>Python version: 3.12.9<br>skforecast version: 0.16.0<br>numpy version: 2.2.5<br>pandas version: 2.2.3<br>sklearn version: 1.6.1<br>lightgbm version: 4.6.0<br>Platform: Linux-6.11.0-24-generic-x86_64-with-glibc2.39<br>Processor: x86_64<br>CPU count: 8<br>Memory (GB): 16.64<br>",
          "Forecaster: ForecasterRecursive<br>Regressor: LGBMRegressor<br>Function: ForecasterRecursive__create_predict_inputs<br>Function_hash: 0f4a625e8b1bb7e3f0c5bb77a04cc2fb<br>Datetime: 2025-04-25 22:25:58.921585<br>Python version: 3.12.9<br>skforecast version: 0.16.0<br>numpy version: 2.2.5<br>pandas version: 2.2.3<br>sklearn version: 1.6.1<br>lightgbm version: 4.6.0<br>Platform: Linux-6.11.0-24-generic-x86_64-with-glibc2.39<br>Processor: x86_64<br>CPU count: 8<br>Memory (GB): 16.64<br>",
          "Forecaster: ForecasterRecursive<br>Regressor: LGBMRegressor<br>Function: ForecasterRecursive__create_predict_inputs<br>Function_hash: 0f4a625e8b1bb7e3f0c5bb77a04cc2fb<br>Datetime: 2025-04-25 22:26:31.632995<br>Python version: 3.12.9<br>skforecast version: 0.16.0<br>numpy version: 2.2.5<br>pandas version: 2.2.3<br>sklearn version: 1.6.1<br>lightgbm version: 4.6.0<br>Platform: Linux-6.11.0-24-generic-x86_64-with-glibc2.39<br>Processor: x86_64<br>CPU count: 8<br>Memory (GB): 16.64<br>",
          "Forecaster: ForecasterRecursive<br>Regressor: LGBMRegressor<br>Function: ForecasterRecursive__create_predict_inputs<br>Function_hash: 0f4a625e8b1bb7e3f0c5bb77a04cc2fb<br>Datetime: 2025-04-25 22:27:20.611454<br>Python version: 3.12.9<br>skforecast version: 0.16.0<br>numpy version: 2.2.5<br>pandas version: 2.2.3<br>sklearn version: 1.6.1<br>lightgbm version: 4.6.0<br>Platform: Linux-6.11.0-24-generic-x86_64-with-glibc2.39<br>Processor: x86_64<br>CPU count: 8<br>Memory (GB): 16.64<br>",
          "Forecaster: ForecasterRecursive<br>Regressor: LGBMRegressor<br>Function: ForecasterRecursive__create_predict_inputs<br>Function_hash: 0f4a625e8b1bb7e3f0c5bb77a04cc2fb<br>Datetime: 2025-04-25 22:28:20.373221<br>Python version: 3.12.9<br>skforecast version: 0.16.0<br>numpy version: 2.2.5<br>pandas version: 2.2.3<br>sklearn version: 1.6.1<br>lightgbm version: 4.6.0<br>Platform: Linux-6.11.0-24-generic-x86_64-with-glibc2.39<br>Processor: x86_64<br>CPU count: 8<br>Memory (GB): 16.64<br>",
          "Forecaster: ForecasterRecursive<br>Regressor: LGBMRegressor<br>Function: ForecasterRecursive__create_predict_inputs<br>Function_hash: 0f4a625e8b1bb7e3f0c5bb77a04cc2fb<br>Datetime: 2025-04-25 22:37:02.913925<br>Python version: 3.12.9<br>skforecast version: 0.16.0<br>numpy version: 2.2.5<br>pandas version: 2.2.3<br>sklearn version: 1.6.1<br>lightgbm version: 4.6.0<br>Platform: Linux-6.11.0-24-generic-x86_64-with-glibc2.39<br>Processor: x86_64<br>CPU count: 8<br>Memory (GB): 16.64<br>",
          "Forecaster: ForecasterRecursive<br>Regressor: LGBMRegressor<br>Function: ForecasterRecursive__create_predict_inputs<br>Function_hash: 0f4a625e8b1bb7e3f0c5bb77a04cc2fb<br>Datetime: 2025-04-25 22:58:11.968414<br>Python version: 3.12.9<br>skforecast version: 0.16.0<br>numpy version: 2.2.5<br>pandas version: 2.2.3<br>sklearn version: 1.6.1<br>lightgbm version: 4.6.0<br>Platform: Linux-6.11.0-24-generic-x86_64-with-glibc2.39<br>Processor: x86_64<br>CPU count: 8<br>Memory (GB): 16.64<br>",
          "Forecaster: ForecasterRecursive<br>Regressor: LGBMRegressor<br>Function: ForecasterRecursive__create_predict_inputs<br>Function_hash: 794ecec497fa8d159c594dd2f6ce3ee6<br>Datetime: 2025-04-27 11:58:04.547454<br>Python version: 3.12.9<br>skforecast version: 0.16.0<br>numpy version: 2.2.5<br>pandas version: 2.2.3<br>sklearn version: 1.6.1<br>lightgbm version: 4.6.0<br>Platform: Linux-6.11.0-24-generic-x86_64-with-glibc2.39<br>Processor: x86_64<br>CPU count: 8<br>Memory (GB): 16.64<br>"
         ],
         "type": "scatter",
         "x": {
          "bdata": "o5B3p65UCEDwe8YQCBwIQL1cCLapsgdAaWNkGdn0B0CaEj/qo0QIQNM+DpKwmwdAuBLwKDGcB0DuJQ55yDUIQMBjPI9E2QdA",
          "dtype": "f8"
         },
         "y": {
          "bdata": "MzPTqP+zYT93dxe51ONjP6uq6pWsIms/7+6u53zOYj/e3X2AY4RiPwAAQOfk8WE/vLubaPNjYz9VVdXyRzdmP83M3OPKwmE/",
          "dtype": "f8"
         }
        },
        {
         "error_y": {
          "array": {
           "bdata": "f9nWzn6OKz9ZpnrafpcwPw==",
           "dtype": "f8"
          },
          "color": "#AB63FA",
          "thickness": 1.5,
          "type": "data",
          "visible": true,
          "width": 5
         },
         "hovertemplate": "%{text}<extra></extra>",
         "marker": {
          "color": "#AB63FA",
          "opacity": 0.7,
          "size": 10,
          "symbol": "diamond"
         },
         "mode": "markers",
         "name": "0.16.0 - Windows-10-10.0.19045-SP0",
         "showlegend": true,
         "text": [
          "Forecaster: ForecasterRecursive<br>Regressor: LGBMRegressor<br>Function: ForecasterRecursive__create_predict_inputs<br>Function_hash: 0f4a625e8b1bb7e3f0c5bb77a04cc2fb<br>Datetime: 2025-04-24 18:09:26.547982<br>Python version: 3.11.10<br>skforecast version: 0.16.0<br>numpy version: 2.2.5<br>pandas version: 2.2.3<br>sklearn version: 1.6.1<br>lightgbm version: 4.5.0<br>Platform: Windows-10-10.0.19045-SP0<br>Processor: Intel64 Family 6 Model 141 Stepping 1, GenuineIntel<br>CPU count: 16<br>Memory (GB): 34.07<br>",
          "Forecaster: ForecasterRecursive<br>Regressor: LGBMRegressor<br>Function: ForecasterRecursive__create_predict_inputs<br>Function_hash: 0f4a625e8b1bb7e3f0c5bb77a04cc2fb<br>Datetime: 2025-04-24 18:24:13.683808<br>Python version: 3.11.10<br>skforecast version: 0.16.0<br>numpy version: 2.2.5<br>pandas version: 2.2.3<br>sklearn version: 1.6.1<br>lightgbm version: 4.5.0<br>Platform: Windows-10-10.0.19045-SP0<br>Processor: Intel64 Family 6 Model 141 Stepping 1, GenuineIntel<br>CPU count: 16<br>Memory (GB): 34.07<br>"
         ],
         "type": "scatter",
         "x": {
          "bdata": "QqPfMFkXCEBr5Mtt+dcHQA==",
          "dtype": "f8"
         },
         "y": {
          "bdata": "REREyHjsWj/NzMwwHrhdPw==",
          "dtype": "f8"
         }
        },
        {
         "line": {
          "color": "black",
          "width": 2
         },
         "marker": {
          "color": "black",
          "size": 8
         },
         "mode": "lines+markers",
         "name": "Median (per version)",
         "type": "scatter",
         "x": {
          "bdata": "AAECAw==",
          "dtype": "i1"
         },
         "y": {
          "bdata": "AAAAAAAA+H9ERNQ+i3VnPzMzM0JfzmU/3t19gGOEYj8=",
          "dtype": "f8"
         }
        },
        {
         "line": {
          "color": "black",
          "dash": "dash",
          "width": 2
         },
         "marker": {
          "color": "black",
          "size": 8
         },
         "mode": "lines+markers",
         "name": "Mean (per version)",
         "type": "scatter",
         "x": {
          "bdata": "AAECAw==",
          "dtype": "i1"
         },
         "y": {
          "bdata": "AAAAAAAA+H/e3ZXPV4toP4mIeGsmz2U/9ToC6WrhYj8=",
          "dtype": "f8"
         }
        }
       ],
       "layout": {
        "showlegend": true,
        "template": {
         "data": {
          "bar": [
           {
            "error_x": {
             "color": "#2a3f5f"
            },
            "error_y": {
             "color": "#2a3f5f"
            },
            "marker": {
             "line": {
              "color": "#E5ECF6",
              "width": 0.5
             },
             "pattern": {
              "fillmode": "overlay",
              "size": 10,
              "solidity": 0.2
             }
            },
            "type": "bar"
           }
          ],
          "barpolar": [
           {
            "marker": {
             "line": {
              "color": "#E5ECF6",
              "width": 0.5
             },
             "pattern": {
              "fillmode": "overlay",
              "size": 10,
              "solidity": 0.2
             }
            },
            "type": "barpolar"
           }
          ],
          "carpet": [
           {
            "aaxis": {
             "endlinecolor": "#2a3f5f",
             "gridcolor": "white",
             "linecolor": "white",
             "minorgridcolor": "white",
             "startlinecolor": "#2a3f5f"
            },
            "baxis": {
             "endlinecolor": "#2a3f5f",
             "gridcolor": "white",
             "linecolor": "white",
             "minorgridcolor": "white",
             "startlinecolor": "#2a3f5f"
            },
            "type": "carpet"
           }
          ],
          "choropleth": [
           {
            "colorbar": {
             "outlinewidth": 0,
             "ticks": ""
            },
            "type": "choropleth"
           }
          ],
          "contour": [
           {
            "colorbar": {
             "outlinewidth": 0,
             "ticks": ""
            },
            "colorscale": [
             [
              0,
              "#0d0887"
             ],
             [
              0.1111111111111111,
              "#46039f"
             ],
             [
              0.2222222222222222,
              "#7201a8"
             ],
             [
              0.3333333333333333,
              "#9c179e"
             ],
             [
              0.4444444444444444,
              "#bd3786"
             ],
             [
              0.5555555555555556,
              "#d8576b"
             ],
             [
              0.6666666666666666,
              "#ed7953"
             ],
             [
              0.7777777777777778,
              "#fb9f3a"
             ],
             [
              0.8888888888888888,
              "#fdca26"
             ],
             [
              1,
              "#f0f921"
             ]
            ],
            "type": "contour"
           }
          ],
          "contourcarpet": [
           {
            "colorbar": {
             "outlinewidth": 0,
             "ticks": ""
            },
            "type": "contourcarpet"
           }
          ],
          "heatmap": [
           {
            "colorbar": {
             "outlinewidth": 0,
             "ticks": ""
            },
            "colorscale": [
             [
              0,
              "#0d0887"
             ],
             [
              0.1111111111111111,
              "#46039f"
             ],
             [
              0.2222222222222222,
              "#7201a8"
             ],
             [
              0.3333333333333333,
              "#9c179e"
             ],
             [
              0.4444444444444444,
              "#bd3786"
             ],
             [
              0.5555555555555556,
              "#d8576b"
             ],
             [
              0.6666666666666666,
              "#ed7953"
             ],
             [
              0.7777777777777778,
              "#fb9f3a"
             ],
             [
              0.8888888888888888,
              "#fdca26"
             ],
             [
              1,
              "#f0f921"
             ]
            ],
            "type": "heatmap"
           }
          ],
          "histogram": [
           {
            "marker": {
             "pattern": {
              "fillmode": "overlay",
              "size": 10,
              "solidity": 0.2
             }
            },
            "type": "histogram"
           }
          ],
          "histogram2d": [
           {
            "colorbar": {
             "outlinewidth": 0,
             "ticks": ""
            },
            "colorscale": [
             [
              0,
              "#0d0887"
             ],
             [
              0.1111111111111111,
              "#46039f"
             ],
             [
              0.2222222222222222,
              "#7201a8"
             ],
             [
              0.3333333333333333,
              "#9c179e"
             ],
             [
              0.4444444444444444,
              "#bd3786"
             ],
             [
              0.5555555555555556,
              "#d8576b"
             ],
             [
              0.6666666666666666,
              "#ed7953"
             ],
             [
              0.7777777777777778,
              "#fb9f3a"
             ],
             [
              0.8888888888888888,
              "#fdca26"
             ],
             [
              1,
              "#f0f921"
             ]
            ],
            "type": "histogram2d"
           }
          ],
          "histogram2dcontour": [
           {
            "colorbar": {
             "outlinewidth": 0,
             "ticks": ""
            },
            "colorscale": [
             [
              0,
              "#0d0887"
             ],
             [
              0.1111111111111111,
              "#46039f"
             ],
             [
              0.2222222222222222,
              "#7201a8"
             ],
             [
              0.3333333333333333,
              "#9c179e"
             ],
             [
              0.4444444444444444,
              "#bd3786"
             ],
             [
              0.5555555555555556,
              "#d8576b"
             ],
             [
              0.6666666666666666,
              "#ed7953"
             ],
             [
              0.7777777777777778,
              "#fb9f3a"
             ],
             [
              0.8888888888888888,
              "#fdca26"
             ],
             [
              1,
              "#f0f921"
             ]
            ],
            "type": "histogram2dcontour"
           }
          ],
          "mesh3d": [
           {
            "colorbar": {
             "outlinewidth": 0,
             "ticks": ""
            },
            "type": "mesh3d"
           }
          ],
          "parcoords": [
           {
            "line": {
             "colorbar": {
              "outlinewidth": 0,
              "ticks": ""
             }
            },
            "type": "parcoords"
           }
          ],
          "pie": [
           {
            "automargin": true,
            "type": "pie"
           }
          ],
          "scatter": [
           {
            "fillpattern": {
             "fillmode": "overlay",
             "size": 10,
             "solidity": 0.2
            },
            "type": "scatter"
           }
          ],
          "scatter3d": [
           {
            "line": {
             "colorbar": {
              "outlinewidth": 0,
              "ticks": ""
             }
            },
            "marker": {
             "colorbar": {
              "outlinewidth": 0,
              "ticks": ""
             }
            },
            "type": "scatter3d"
           }
          ],
          "scattercarpet": [
           {
            "marker": {
             "colorbar": {
              "outlinewidth": 0,
              "ticks": ""
             }
            },
            "type": "scattercarpet"
           }
          ],
          "scattergeo": [
           {
            "marker": {
             "colorbar": {
              "outlinewidth": 0,
              "ticks": ""
             }
            },
            "type": "scattergeo"
           }
          ],
          "scattergl": [
           {
            "marker": {
             "colorbar": {
              "outlinewidth": 0,
              "ticks": ""
             }
            },
            "type": "scattergl"
           }
          ],
          "scattermap": [
           {
            "marker": {
             "colorbar": {
              "outlinewidth": 0,
              "ticks": ""
             }
            },
            "type": "scattermap"
           }
          ],
          "scattermapbox": [
           {
            "marker": {
             "colorbar": {
              "outlinewidth": 0,
              "ticks": ""
             }
            },
            "type": "scattermapbox"
           }
          ],
          "scatterpolar": [
           {
            "marker": {
             "colorbar": {
              "outlinewidth": 0,
              "ticks": ""
             }
            },
            "type": "scatterpolar"
           }
          ],
          "scatterpolargl": [
           {
            "marker": {
             "colorbar": {
              "outlinewidth": 0,
              "ticks": ""
             }
            },
            "type": "scatterpolargl"
           }
          ],
          "scatterternary": [
           {
            "marker": {
             "colorbar": {
              "outlinewidth": 0,
              "ticks": ""
             }
            },
            "type": "scatterternary"
           }
          ],
          "surface": [
           {
            "colorbar": {
             "outlinewidth": 0,
             "ticks": ""
            },
            "colorscale": [
             [
              0,
              "#0d0887"
             ],
             [
              0.1111111111111111,
              "#46039f"
             ],
             [
              0.2222222222222222,
              "#7201a8"
             ],
             [
              0.3333333333333333,
              "#9c179e"
             ],
             [
              0.4444444444444444,
              "#bd3786"
             ],
             [
              0.5555555555555556,
              "#d8576b"
             ],
             [
              0.6666666666666666,
              "#ed7953"
             ],
             [
              0.7777777777777778,
              "#fb9f3a"
             ],
             [
              0.8888888888888888,
              "#fdca26"
             ],
             [
              1,
              "#f0f921"
             ]
            ],
            "type": "surface"
           }
          ],
          "table": [
           {
            "cells": {
             "fill": {
              "color": "#EBF0F8"
             },
             "line": {
              "color": "white"
             }
            },
            "header": {
             "fill": {
              "color": "#C8D4E3"
             },
             "line": {
              "color": "white"
             }
            },
            "type": "table"
           }
          ]
         },
         "layout": {
          "annotationdefaults": {
           "arrowcolor": "#2a3f5f",
           "arrowhead": 0,
           "arrowwidth": 1
          },
          "autotypenumbers": "strict",
          "coloraxis": {
           "colorbar": {
            "outlinewidth": 0,
            "ticks": ""
           }
          },
          "colorscale": {
           "diverging": [
            [
             0,
             "#8e0152"
            ],
            [
             0.1,
             "#c51b7d"
            ],
            [
             0.2,
             "#de77ae"
            ],
            [
             0.3,
             "#f1b6da"
            ],
            [
             0.4,
             "#fde0ef"
            ],
            [
             0.5,
             "#f7f7f7"
            ],
            [
             0.6,
             "#e6f5d0"
            ],
            [
             0.7,
             "#b8e186"
            ],
            [
             0.8,
             "#7fbc41"
            ],
            [
             0.9,
             "#4d9221"
            ],
            [
             1,
             "#276419"
            ]
           ],
           "sequential": [
            [
             0,
             "#0d0887"
            ],
            [
             0.1111111111111111,
             "#46039f"
            ],
            [
             0.2222222222222222,
             "#7201a8"
            ],
            [
             0.3333333333333333,
             "#9c179e"
            ],
            [
             0.4444444444444444,
             "#bd3786"
            ],
            [
             0.5555555555555556,
             "#d8576b"
            ],
            [
             0.6666666666666666,
             "#ed7953"
            ],
            [
             0.7777777777777778,
             "#fb9f3a"
            ],
            [
             0.8888888888888888,
             "#fdca26"
            ],
            [
             1,
             "#f0f921"
            ]
           ],
           "sequentialminus": [
            [
             0,
             "#0d0887"
            ],
            [
             0.1111111111111111,
             "#46039f"
            ],
            [
             0.2222222222222222,
             "#7201a8"
            ],
            [
             0.3333333333333333,
             "#9c179e"
            ],
            [
             0.4444444444444444,
             "#bd3786"
            ],
            [
             0.5555555555555556,
             "#d8576b"
            ],
            [
             0.6666666666666666,
             "#ed7953"
            ],
            [
             0.7777777777777778,
             "#fb9f3a"
            ],
            [
             0.8888888888888888,
             "#fdca26"
            ],
            [
             1,
             "#f0f921"
            ]
           ]
          },
          "colorway": [
           "#636efa",
           "#EF553B",
           "#00cc96",
           "#ab63fa",
           "#FFA15A",
           "#19d3f3",
           "#FF6692",
           "#B6E880",
           "#FF97FF",
           "#FECB52"
          ],
          "font": {
           "color": "#2a3f5f"
          },
          "geo": {
           "bgcolor": "white",
           "lakecolor": "white",
           "landcolor": "#E5ECF6",
           "showlakes": true,
           "showland": true,
           "subunitcolor": "white"
          },
          "hoverlabel": {
           "align": "left"
          },
          "hovermode": "closest",
          "mapbox": {
           "style": "light"
          },
          "paper_bgcolor": "white",
          "plot_bgcolor": "#E5ECF6",
          "polar": {
           "angularaxis": {
            "gridcolor": "white",
            "linecolor": "white",
            "ticks": ""
           },
           "bgcolor": "#E5ECF6",
           "radialaxis": {
            "gridcolor": "white",
            "linecolor": "white",
            "ticks": ""
           }
          },
          "scene": {
           "xaxis": {
            "backgroundcolor": "#E5ECF6",
            "gridcolor": "white",
            "gridwidth": 2,
            "linecolor": "white",
            "showbackground": true,
            "ticks": "",
            "zerolinecolor": "white"
           },
           "yaxis": {
            "backgroundcolor": "#E5ECF6",
            "gridcolor": "white",
            "gridwidth": 2,
            "linecolor": "white",
            "showbackground": true,
            "ticks": "",
            "zerolinecolor": "white"
           },
           "zaxis": {
            "backgroundcolor": "#E5ECF6",
            "gridcolor": "white",
            "gridwidth": 2,
            "linecolor": "white",
            "showbackground": true,
            "ticks": "",
            "zerolinecolor": "white"
           }
          },
          "shapedefaults": {
           "line": {
            "color": "#2a3f5f"
           }
          },
          "ternary": {
           "aaxis": {
            "gridcolor": "white",
            "linecolor": "white",
            "ticks": ""
           },
           "baxis": {
            "gridcolor": "white",
            "linecolor": "white",
            "ticks": ""
           },
           "bgcolor": "#E5ECF6",
           "caxis": {
            "gridcolor": "white",
            "linecolor": "white",
            "ticks": ""
           }
          },
          "title": {
           "x": 0.05
          },
          "xaxis": {
           "automargin": true,
           "gridcolor": "white",
           "linecolor": "white",
           "ticks": "",
           "title": {
            "standoff": 15
           },
           "zerolinecolor": "white",
           "zerolinewidth": 2
          },
          "yaxis": {
           "automargin": true,
           "gridcolor": "white",
           "linecolor": "white",
           "ticks": "",
           "title": {
            "standoff": 15
           },
           "zerolinecolor": "white",
           "zerolinewidth": 2
          }
         }
        },
        "title": {
         "text": "Execution time of ForecasterRecursive__create_predict_inputs"
        },
        "xaxis": {
         "tickangle": -45,
         "tickmode": "array",
         "ticktext": [
          "0.13.0",
          "0.14.0",
          "0.15.1",
          "0.16.0"
         ],
         "tickvals": [
          0,
          1,
          2,
          3
         ],
         "title": {
          "text": "skforecast version"
         }
        },
        "yaxis": {
         "title": {
          "text": "Execution time (seconds)"
         }
        }
       }
      }
     },
     "metadata": {},
     "output_type": "display_data"
    },
    {
     "data": {
      "application/vnd.plotly.v1+json": {
       "config": {
        "plotlyServerURL": "https://plot.ly"
       },
       "data": [
        {
         "error_y": {
          "array": {
           "bdata": "HC4ArQ+6wz8=",
           "dtype": "f8"
          },
          "color": "#636EFA",
          "thickness": 1.5,
          "type": "data",
          "visible": true,
          "width": 5
         },
         "hovertemplate": "%{text}<extra></extra>",
         "marker": {
          "color": "#636EFA",
          "opacity": 0.7,
          "size": 10,
          "symbol": "circle"
         },
         "mode": "markers",
         "name": "0.14.0 - Linux-6.11.0-21-generic-x86_64-with-glibc2.39",
         "showlegend": true,
         "text": [
          "Forecaster: ForecasterRecursive<br>Regressor: LGBMRegressor<br>Function: ForecasterRecursive_backtesting<br>Function_hash: dad167768fbdc53eca10d293c5861956<br>Datetime: 2025-04-23 22:51:18.980518<br>Python version: 3.12.9<br>skforecast version: 0.14.0<br>numpy version: 2.2.5<br>pandas version: 2.2.3<br>sklearn version: 1.6.1<br>lightgbm version: 4.6.0<br>Platform: Linux-6.11.0-21-generic-x86_64-with-glibc2.39<br>Processor: x86_64<br>CPU count: 8<br>Memory (GB): 16.64<br>"
         ],
         "type": "scatter",
         "x": {
          "bdata": "fByzX9/Fir8=",
          "dtype": "f8"
         },
         "y": {
          "bdata": "M7Ov4Ppw7T8=",
          "dtype": "f8"
         }
        },
        {
         "error_y": {
          "array": {
           "bdata": "zaFm+KazlD8m7R8dRM2bPw==",
           "dtype": "f8"
          },
          "color": "#636EFA",
          "thickness": 1.5,
          "type": "data",
          "visible": true,
          "width": 5
         },
         "hovertemplate": "%{text}<extra></extra>",
         "marker": {
          "color": "#636EFA",
          "opacity": 0.7,
          "size": 10,
          "symbol": "square"
         },
         "mode": "markers",
         "name": "0.14.0 - Windows-10-10.0.19045-SP0",
         "showlegend": true,
         "text": [
          "Forecaster: ForecasterRecursive<br>Regressor: LGBMRegressor<br>Function: ForecasterRecursive_backtesting<br>Function_hash: dad167768fbdc53eca10d293c5861956<br>Datetime: 2025-04-24 10:44:55.867188<br>Python version: 3.11.10<br>skforecast version: 0.14.0<br>numpy version: 2.1.3<br>pandas version: 2.2.3<br>sklearn version: 1.6.1<br>lightgbm version: 4.5.0<br>Platform: Windows-10-10.0.19045-SP0<br>Processor: Intel64 Family 6 Model 141 Stepping 1, GenuineIntel<br>CPU count: 16<br>Memory (GB): 34.07<br>",
          "Forecaster: ForecasterRecursive<br>Regressor: LGBMRegressor<br>Function: ForecasterRecursive_backtesting<br>Function_hash: dad167768fbdc53eca10d293c5861956<br>Datetime: 2025-04-24 11:12:12.221550<br>Python version: 3.11.10<br>skforecast version: 0.14.0<br>numpy version: 2.1.3<br>pandas version: 2.2.3<br>sklearn version: 1.6.1<br>lightgbm version: 4.5.0<br>Platform: Windows-10-10.0.19045-SP0<br>Processor: Intel64 Family 6 Model 141 Stepping 1, GenuineIntel<br>CPU count: 16<br>Memory (GB): 34.07<br>"
         ],
         "type": "scatter",
         "x": {
          "bdata": "QCgpQU/IgD8MreXPGaaAPw==",
          "dtype": "f8"
         },
         "y": {
          "bdata": "zczIkjGl3j+ameWR/XvgPw==",
          "dtype": "f8"
         }
        },
        {
         "error_y": {
          "array": {
           "bdata": "+7cttX1lmT8cTh3NRB6jPw==",
           "dtype": "f8"
          },
          "color": "#636EFA",
          "thickness": 1.5,
          "type": "data",
          "visible": true,
          "width": 5
         },
         "hovertemplate": "%{text}<extra></extra>",
         "marker": {
          "color": "#636EFA",
          "opacity": 0.7,
          "size": 10,
          "symbol": "diamond"
         },
         "mode": "markers",
         "name": "0.14.0 - Linux-6.11.0-24-generic-x86_64-with-glibc2.39",
         "showlegend": true,
         "text": [
          "Forecaster: ForecasterRecursive<br>Regressor: LGBMRegressor<br>Function: ForecasterRecursive_backtesting<br>Function_hash: dad167768fbdc53eca10d293c5861956<br>Datetime: 2025-04-25 22:33:13.262755<br>Python version: 3.12.9<br>skforecast version: 0.14.0<br>numpy version: 2.2.5<br>pandas version: 2.2.3<br>sklearn version: 1.6.1<br>lightgbm version: 4.6.0<br>Platform: Linux-6.11.0-24-generic-x86_64-with-glibc2.39<br>Processor: x86_64<br>CPU count: 8<br>Memory (GB): 16.64<br>",
          "Forecaster: ForecasterRecursive<br>Regressor: LGBMRegressor<br>Function: ForecasterRecursive_backtesting<br>Function_hash: dad167768fbdc53eca10d293c5861956<br>Datetime: 2025-04-25 22:30:28.864001<br>Python version: 3.12.9<br>skforecast version: 0.14.0<br>numpy version: 2.2.5<br>pandas version: 2.2.3<br>sklearn version: 1.6.1<br>lightgbm version: 4.6.0<br>Platform: Linux-6.11.0-24-generic-x86_64-with-glibc2.39<br>Processor: x86_64<br>CPU count: 8<br>Memory (GB): 16.64<br>"
         ],
         "type": "scatter",
         "x": {
          "bdata": "hj3Rm6N3pT+VC0PshtGjvw==",
          "dtype": "f8"
         },
         "y": {
          "bdata": "mhmI7ADi5T/NjAwTpJLmPw==",
          "dtype": "f8"
         }
        },
        {
         "error_y": {
          "array": {
           "bdata": "pS8j35NajT/uhBWFJzSFPw==",
           "dtype": "f8"
          },
          "color": "#EF553B",
          "thickness": 1.5,
          "type": "data",
          "visible": true,
          "width": 5
         },
         "hovertemplate": "%{text}<extra></extra>",
         "marker": {
          "color": "#EF553B",
          "opacity": 0.7,
          "size": 10,
          "symbol": "square"
         },
         "mode": "markers",
         "name": "0.15.1 - Windows-10-10.0.19045-SP0",
         "showlegend": true,
         "text": [
          "Forecaster: ForecasterRecursive<br>Regressor: LGBMRegressor<br>Function: ForecasterRecursive_backtesting<br>Function_hash: dad167768fbdc53eca10d293c5861956<br>Datetime: 2025-04-24 10:38:50.414649<br>Python version: 3.11.10<br>skforecast version: 0.15.1<br>numpy version: 2.1.3<br>pandas version: 2.2.3<br>sklearn version: 1.6.1<br>lightgbm version: 4.5.0<br>Platform: Windows-10-10.0.19045-SP0<br>Processor: Intel64 Family 6 Model 141 Stepping 1, GenuineIntel<br>CPU count: 16<br>Memory (GB): 34.07<br>",
          "Forecaster: ForecasterRecursive<br>Regressor: LGBMRegressor<br>Function: ForecasterRecursive_backtesting<br>Function_hash: dad167768fbdc53eca10d293c5861956<br>Datetime: 2025-04-24 11:22:10.983319<br>Python version: 3.11.10<br>skforecast version: 0.15.1<br>numpy version: 2.1.3<br>pandas version: 2.2.3<br>sklearn version: 1.6.1<br>lightgbm version: 4.5.0<br>Platform: Windows-10-10.0.19045-SP0<br>Processor: Intel64 Family 6 Model 141 Stepping 1, GenuineIntel<br>CPU count: 16<br>Memory (GB): 34.07<br>"
         ],
         "type": "scatter",
         "x": {
          "bdata": "vWqPYB4m7z94KoELrFfwPw==",
          "dtype": "f8"
         },
         "y": {
          "bdata": "mpk9VREw3z+amRNR4YLiPw==",
          "dtype": "f8"
         }
        },
        {
         "error_y": {
          "array": {
           "bdata": "oYh4ELourD984m7adaqRP1V1TqrJHps/",
           "dtype": "f8"
          },
          "color": "#EF553B",
          "thickness": 1.5,
          "type": "data",
          "visible": true,
          "width": 5
         },
         "hovertemplate": "%{text}<extra></extra>",
         "marker": {
          "color": "#EF553B",
          "opacity": 0.7,
          "size": 10,
          "symbol": "diamond"
         },
         "mode": "markers",
         "name": "0.15.1 - Linux-6.11.0-24-generic-x86_64-with-glibc2.39",
         "showlegend": true,
         "text": [
          "Forecaster: ForecasterRecursive<br>Regressor: LGBMRegressor<br>Function: ForecasterRecursive_backtesting<br>Function_hash: dad167768fbdc53eca10d293c5861956<br>Datetime: 2025-04-24 23:06:16.251176<br>Python version: 3.12.9<br>skforecast version: 0.15.1<br>numpy version: 2.2.5<br>pandas version: 2.2.3<br>sklearn version: 1.6.1<br>lightgbm version: 4.6.0<br>Platform: Linux-6.11.0-24-generic-x86_64-with-glibc2.39<br>Processor: x86_64<br>CPU count: 8<br>Memory (GB): 16.64<br>",
          "Forecaster: ForecasterRecursive<br>Regressor: LGBMRegressor<br>Function: ForecasterRecursive_backtesting<br>Function_hash: dad167768fbdc53eca10d293c5861956<br>Datetime: 2025-04-25 22:29:47.878635<br>Python version: 3.12.9<br>skforecast version: 0.15.1<br>numpy version: 2.2.5<br>pandas version: 2.2.3<br>sklearn version: 1.6.1<br>lightgbm version: 4.6.0<br>Platform: Linux-6.11.0-24-generic-x86_64-with-glibc2.39<br>Processor: x86_64<br>CPU count: 8<br>Memory (GB): 16.64<br>",
          "Forecaster: ForecasterRecursive<br>Regressor: LGBMRegressor<br>Function: ForecasterRecursive_backtesting<br>Function_hash: dad167768fbdc53eca10d293c5861956<br>Datetime: 2025-04-25 22:29:11.605845<br>Python version: 3.12.9<br>skforecast version: 0.15.1<br>numpy version: 2.2.5<br>pandas version: 2.2.3<br>sklearn version: 1.6.1<br>lightgbm version: 4.6.0<br>Platform: Linux-6.11.0-24-generic-x86_64-with-glibc2.39<br>Processor: x86_64<br>CPU count: 8<br>Memory (GB): 16.64<br>"
         ],
         "type": "scatter",
         "x": {
          "bdata": "COgJglZ28D9ntYeA8e/vP7rjjGStaPA/",
          "dtype": "f8"
         },
         "y": {
          "bdata": "M/MhFAAI5j+aWSDOvyXmP5qZPMCBY+c/",
          "dtype": "f8"
         }
        },
        {
         "error_y": {
          "array": {
           "bdata": "BCxUxg+wcD9lqosIXfmaPw==",
           "dtype": "f8"
          },
          "color": "#00CC96",
          "thickness": 1.5,
          "type": "data",
          "visible": true,
          "width": 5
         },
         "hovertemplate": "%{text}<extra></extra>",
         "marker": {
          "color": "#00CC96",
          "opacity": 0.7,
          "size": 10,
          "symbol": "square"
         },
         "mode": "markers",
         "name": "0.16.0 - Windows-10-10.0.19045-SP0",
         "showlegend": true,
         "text": [
          "Forecaster: ForecasterRecursive<br>Regressor: LGBMRegressor<br>Function: ForecasterRecursive_backtesting<br>Function_hash: dad167768fbdc53eca10d293c5861956<br>Datetime: 2025-04-24 18:24:16.413614<br>Python version: 3.11.10<br>skforecast version: 0.16.0<br>numpy version: 2.2.5<br>pandas version: 2.2.3<br>sklearn version: 1.6.1<br>lightgbm version: 4.5.0<br>Platform: Windows-10-10.0.19045-SP0<br>Processor: Intel64 Family 6 Model 141 Stepping 1, GenuineIntel<br>CPU count: 16<br>Memory (GB): 34.07<br>",
          "Forecaster: ForecasterRecursive<br>Regressor: LGBMRegressor<br>Function: ForecasterRecursive_backtesting<br>Function_hash: dad167768fbdc53eca10d293c5861956<br>Datetime: 2025-04-24 18:09:29.299411<br>Python version: 3.11.10<br>skforecast version: 0.16.0<br>numpy version: 2.2.5<br>pandas version: 2.2.3<br>sklearn version: 1.6.1<br>lightgbm version: 4.5.0<br>Platform: Windows-10-10.0.19045-SP0<br>Processor: Intel64 Family 6 Model 141 Stepping 1, GenuineIntel<br>CPU count: 16<br>Memory (GB): 34.07<br>"
         ],
         "type": "scatter",
         "x": {
          "bdata": "HOS0ABNM/z/ZGSt0i08AQA==",
          "dtype": "f8"
         },
         "y": {
          "bdata": "Zma+txJP4T/NzB5oR2LhPw==",
          "dtype": "f8"
         }
        },
        {
         "error_y": {
          "array": {
           "bdata": "foEMj8gxgT+RSQhdKkGQPy2G4EZytbY/BEBFZPpXsz8Cs2focMDBP1ULlq7pt7I/ZzOGfcFIrD/fjGUmUdaiPw2+qiDz1qA/",
           "dtype": "f8"
          },
          "color": "#00CC96",
          "thickness": 1.5,
          "type": "data",
          "visible": true,
          "width": 5
         },
         "hovertemplate": "%{text}<extra></extra>",
         "marker": {
          "color": "#00CC96",
          "opacity": 0.7,
          "size": 10,
          "symbol": "diamond"
         },
         "mode": "markers",
         "name": "0.16.0 - Linux-6.11.0-24-generic-x86_64-with-glibc2.39",
         "showlegend": true,
         "text": [
          "Forecaster: ForecasterRecursive<br>Regressor: LGBMRegressor<br>Function: ForecasterRecursive_backtesting<br>Function_hash: dad167768fbdc53eca10d293c5861956<br>Datetime: 2025-04-25 22:37:06.368315<br>Python version: 3.12.9<br>skforecast version: 0.16.0<br>numpy version: 2.2.5<br>pandas version: 2.2.3<br>sklearn version: 1.6.1<br>lightgbm version: 4.6.0<br>Platform: Linux-6.11.0-24-generic-x86_64-with-glibc2.39<br>Processor: x86_64<br>CPU count: 8<br>Memory (GB): 16.64<br>",
          "Forecaster: ForecasterRecursive<br>Regressor: LGBMRegressor<br>Function: ForecasterRecursive_backtesting<br>Function_hash: dad167768fbdc53eca10d293c5861956<br>Datetime: 2025-04-25 22:28:23.749909<br>Python version: 3.12.9<br>skforecast version: 0.16.0<br>numpy version: 2.2.5<br>pandas version: 2.2.3<br>sklearn version: 1.6.1<br>lightgbm version: 4.6.0<br>Platform: Linux-6.11.0-24-generic-x86_64-with-glibc2.39<br>Processor: x86_64<br>CPU count: 8<br>Memory (GB): 16.64<br>",
          "Forecaster: ForecasterRecursive<br>Regressor: LGBMRegressor<br>Function: ForecasterRecursive_backtesting<br>Function_hash: dad167768fbdc53eca10d293c5861956<br>Datetime: 2025-04-25 22:26:02.976562<br>Python version: 3.12.9<br>skforecast version: 0.16.0<br>numpy version: 2.2.5<br>pandas version: 2.2.3<br>sklearn version: 1.6.1<br>lightgbm version: 4.6.0<br>Platform: Linux-6.11.0-24-generic-x86_64-with-glibc2.39<br>Processor: x86_64<br>CPU count: 8<br>Memory (GB): 16.64<br>",
          "Forecaster: ForecasterRecursive<br>Regressor: LGBMRegressor<br>Function: ForecasterRecursive_backtesting<br>Function_hash: dad167768fbdc53eca10d293c5861956<br>Datetime: 2025-04-25 22:26:35.423562<br>Python version: 3.12.9<br>skforecast version: 0.16.0<br>numpy version: 2.2.5<br>pandas version: 2.2.3<br>sklearn version: 1.6.1<br>lightgbm version: 4.6.0<br>Platform: Linux-6.11.0-24-generic-x86_64-with-glibc2.39<br>Processor: x86_64<br>CPU count: 8<br>Memory (GB): 16.64<br>",
          "Forecaster: ForecasterRecursive<br>Regressor: LGBMRegressor<br>Function: ForecasterRecursive_backtesting<br>Function_hash: dad167768fbdc53eca10d293c5861956<br>Datetime: 2025-04-25 22:58:16.480974<br>Python version: 3.12.9<br>skforecast version: 0.16.0<br>numpy version: 2.2.5<br>pandas version: 2.2.3<br>sklearn version: 1.6.1<br>lightgbm version: 4.6.0<br>Platform: Linux-6.11.0-24-generic-x86_64-with-glibc2.39<br>Processor: x86_64<br>CPU count: 8<br>Memory (GB): 16.64<br>",
          "Forecaster: ForecasterRecursive<br>Regressor: LGBMRegressor<br>Function: ForecasterRecursive_backtesting<br>Function_hash: dad167768fbdc53eca10d293c5861956<br>Datetime: 2025-04-25 22:24:04.272344<br>Python version: 3.12.9<br>skforecast version: 0.16.0<br>numpy version: 2.2.5<br>pandas version: 2.2.3<br>sklearn version: 1.6.1<br>lightgbm version: 4.6.0<br>Platform: Linux-6.11.0-24-generic-x86_64-with-glibc2.39<br>Processor: x86_64<br>CPU count: 8<br>Memory (GB): 16.64<br>",
          "Forecaster: ForecasterRecursive<br>Regressor: LGBMRegressor<br>Function: ForecasterRecursive_backtesting<br>Function_hash: dad167768fbdc53eca10d293c5861956<br>Datetime: 2025-04-24 22:43:43.432574<br>Python version: 3.12.9<br>skforecast version: 0.16.0<br>numpy version: 2.2.5<br>pandas version: 2.2.3<br>sklearn version: 1.6.1<br>lightgbm version: 4.6.0<br>Platform: Linux-6.11.0-24-generic-x86_64-with-glibc2.39<br>Processor: x86_64<br>CPU count: 8<br>Memory (GB): 16.64<br>",
          "Forecaster: ForecasterRecursive<br>Regressor: LGBMRegressor<br>Function: ForecasterRecursive_backtesting<br>Function_hash: dad167768fbdc53eca10d293c5861956<br>Datetime: 2025-04-25 22:27:24.140946<br>Python version: 3.12.9<br>skforecast version: 0.16.0<br>numpy version: 2.2.5<br>pandas version: 2.2.3<br>sklearn version: 1.6.1<br>lightgbm version: 4.6.0<br>Platform: Linux-6.11.0-24-generic-x86_64-with-glibc2.39<br>Processor: x86_64<br>CPU count: 8<br>Memory (GB): 16.64<br>",
          "Forecaster: ForecasterRecursive<br>Regressor: LGBMRegressor<br>Function: ForecasterRecursive_backtesting<br>Function_hash: 2cd4f042c51d7487f41e9a6964b11e4a<br>Datetime: 2025-04-27 11:58:08.022747<br>Python version: 3.12.9<br>skforecast version: 0.16.0<br>numpy version: 2.2.5<br>pandas version: 2.2.3<br>sklearn version: 1.6.1<br>lightgbm version: 4.6.0<br>Platform: Linux-6.11.0-24-generic-x86_64-with-glibc2.39<br>Processor: x86_64<br>CPU count: 8<br>Memory (GB): 16.64<br>"
         ],
         "type": "scatter",
         "x": {
          "bdata": "uznWUohQAEDAVIw4JS0AQPTpjzruQQBAO21cSeg6AEAq4w44tEMAQELsNhCxCABA5mXZJjl1/z/uJA+bDgQAQGCZ+4YcWv8/",
          "dtype": "f8"
         },
         "y": {
          "bdata": "M/M1lZgS5j/NjC/aB5PlP5oZNOJI5+k/zcxC4qY36D8z8xV+m9fsPzPzucyqLOg/Zib72vZe5z8AQDrHd4/mP5o54Q3kNuY/",
          "dtype": "f8"
         }
        },
        {
         "line": {
          "color": "black",
          "width": 2
         },
         "marker": {
          "color": "black",
          "size": 8
         },
         "mode": "lines+markers",
         "name": "Median (per version)",
         "type": "scatter",
         "x": {
          "bdata": "AAEC",
          "dtype": "i1"
         },
         "y": {
          "bdata": "mhmI7ADi5T8z8yEUAAjmPwBAOsd3j+Y/",
          "dtype": "f8"
         }
        },
        {
         "line": {
          "color": "black",
          "dash": "dash",
          "width": 2
         },
         "marker": {
          "color": "black",
          "size": 8
         },
         "mode": "lines+markers",
         "name": "Mean (per version)",
         "type": "scatter",
         "x": {
          "bdata": "AAEC",
          "dtype": "i1"
         },
         "y": {
          "bdata": "7BG22Aok5T/2qNZSolXkP13UJQdpseY/",
          "dtype": "f8"
         }
        }
       ],
       "layout": {
        "showlegend": true,
        "template": {
         "data": {
          "bar": [
           {
            "error_x": {
             "color": "#2a3f5f"
            },
            "error_y": {
             "color": "#2a3f5f"
            },
            "marker": {
             "line": {
              "color": "#E5ECF6",
              "width": 0.5
             },
             "pattern": {
              "fillmode": "overlay",
              "size": 10,
              "solidity": 0.2
             }
            },
            "type": "bar"
           }
          ],
          "barpolar": [
           {
            "marker": {
             "line": {
              "color": "#E5ECF6",
              "width": 0.5
             },
             "pattern": {
              "fillmode": "overlay",
              "size": 10,
              "solidity": 0.2
             }
            },
            "type": "barpolar"
           }
          ],
          "carpet": [
           {
            "aaxis": {
             "endlinecolor": "#2a3f5f",
             "gridcolor": "white",
             "linecolor": "white",
             "minorgridcolor": "white",
             "startlinecolor": "#2a3f5f"
            },
            "baxis": {
             "endlinecolor": "#2a3f5f",
             "gridcolor": "white",
             "linecolor": "white",
             "minorgridcolor": "white",
             "startlinecolor": "#2a3f5f"
            },
            "type": "carpet"
           }
          ],
          "choropleth": [
           {
            "colorbar": {
             "outlinewidth": 0,
             "ticks": ""
            },
            "type": "choropleth"
           }
          ],
          "contour": [
           {
            "colorbar": {
             "outlinewidth": 0,
             "ticks": ""
            },
            "colorscale": [
             [
              0,
              "#0d0887"
             ],
             [
              0.1111111111111111,
              "#46039f"
             ],
             [
              0.2222222222222222,
              "#7201a8"
             ],
             [
              0.3333333333333333,
              "#9c179e"
             ],
             [
              0.4444444444444444,
              "#bd3786"
             ],
             [
              0.5555555555555556,
              "#d8576b"
             ],
             [
              0.6666666666666666,
              "#ed7953"
             ],
             [
              0.7777777777777778,
              "#fb9f3a"
             ],
             [
              0.8888888888888888,
              "#fdca26"
             ],
             [
              1,
              "#f0f921"
             ]
            ],
            "type": "contour"
           }
          ],
          "contourcarpet": [
           {
            "colorbar": {
             "outlinewidth": 0,
             "ticks": ""
            },
            "type": "contourcarpet"
           }
          ],
          "heatmap": [
           {
            "colorbar": {
             "outlinewidth": 0,
             "ticks": ""
            },
            "colorscale": [
             [
              0,
              "#0d0887"
             ],
             [
              0.1111111111111111,
              "#46039f"
             ],
             [
              0.2222222222222222,
              "#7201a8"
             ],
             [
              0.3333333333333333,
              "#9c179e"
             ],
             [
              0.4444444444444444,
              "#bd3786"
             ],
             [
              0.5555555555555556,
              "#d8576b"
             ],
             [
              0.6666666666666666,
              "#ed7953"
             ],
             [
              0.7777777777777778,
              "#fb9f3a"
             ],
             [
              0.8888888888888888,
              "#fdca26"
             ],
             [
              1,
              "#f0f921"
             ]
            ],
            "type": "heatmap"
           }
          ],
          "histogram": [
           {
            "marker": {
             "pattern": {
              "fillmode": "overlay",
              "size": 10,
              "solidity": 0.2
             }
            },
            "type": "histogram"
           }
          ],
          "histogram2d": [
           {
            "colorbar": {
             "outlinewidth": 0,
             "ticks": ""
            },
            "colorscale": [
             [
              0,
              "#0d0887"
             ],
             [
              0.1111111111111111,
              "#46039f"
             ],
             [
              0.2222222222222222,
              "#7201a8"
             ],
             [
              0.3333333333333333,
              "#9c179e"
             ],
             [
              0.4444444444444444,
              "#bd3786"
             ],
             [
              0.5555555555555556,
              "#d8576b"
             ],
             [
              0.6666666666666666,
              "#ed7953"
             ],
             [
              0.7777777777777778,
              "#fb9f3a"
             ],
             [
              0.8888888888888888,
              "#fdca26"
             ],
             [
              1,
              "#f0f921"
             ]
            ],
            "type": "histogram2d"
           }
          ],
          "histogram2dcontour": [
           {
            "colorbar": {
             "outlinewidth": 0,
             "ticks": ""
            },
            "colorscale": [
             [
              0,
              "#0d0887"
             ],
             [
              0.1111111111111111,
              "#46039f"
             ],
             [
              0.2222222222222222,
              "#7201a8"
             ],
             [
              0.3333333333333333,
              "#9c179e"
             ],
             [
              0.4444444444444444,
              "#bd3786"
             ],
             [
              0.5555555555555556,
              "#d8576b"
             ],
             [
              0.6666666666666666,
              "#ed7953"
             ],
             [
              0.7777777777777778,
              "#fb9f3a"
             ],
             [
              0.8888888888888888,
              "#fdca26"
             ],
             [
              1,
              "#f0f921"
             ]
            ],
            "type": "histogram2dcontour"
           }
          ],
          "mesh3d": [
           {
            "colorbar": {
             "outlinewidth": 0,
             "ticks": ""
            },
            "type": "mesh3d"
           }
          ],
          "parcoords": [
           {
            "line": {
             "colorbar": {
              "outlinewidth": 0,
              "ticks": ""
             }
            },
            "type": "parcoords"
           }
          ],
          "pie": [
           {
            "automargin": true,
            "type": "pie"
           }
          ],
          "scatter": [
           {
            "fillpattern": {
             "fillmode": "overlay",
             "size": 10,
             "solidity": 0.2
            },
            "type": "scatter"
           }
          ],
          "scatter3d": [
           {
            "line": {
             "colorbar": {
              "outlinewidth": 0,
              "ticks": ""
             }
            },
            "marker": {
             "colorbar": {
              "outlinewidth": 0,
              "ticks": ""
             }
            },
            "type": "scatter3d"
           }
          ],
          "scattercarpet": [
           {
            "marker": {
             "colorbar": {
              "outlinewidth": 0,
              "ticks": ""
             }
            },
            "type": "scattercarpet"
           }
          ],
          "scattergeo": [
           {
            "marker": {
             "colorbar": {
              "outlinewidth": 0,
              "ticks": ""
             }
            },
            "type": "scattergeo"
           }
          ],
          "scattergl": [
           {
            "marker": {
             "colorbar": {
              "outlinewidth": 0,
              "ticks": ""
             }
            },
            "type": "scattergl"
           }
          ],
          "scattermap": [
           {
            "marker": {
             "colorbar": {
              "outlinewidth": 0,
              "ticks": ""
             }
            },
            "type": "scattermap"
           }
          ],
          "scattermapbox": [
           {
            "marker": {
             "colorbar": {
              "outlinewidth": 0,
              "ticks": ""
             }
            },
            "type": "scattermapbox"
           }
          ],
          "scatterpolar": [
           {
            "marker": {
             "colorbar": {
              "outlinewidth": 0,
              "ticks": ""
             }
            },
            "type": "scatterpolar"
           }
          ],
          "scatterpolargl": [
           {
            "marker": {
             "colorbar": {
              "outlinewidth": 0,
              "ticks": ""
             }
            },
            "type": "scatterpolargl"
           }
          ],
          "scatterternary": [
           {
            "marker": {
             "colorbar": {
              "outlinewidth": 0,
              "ticks": ""
             }
            },
            "type": "scatterternary"
           }
          ],
          "surface": [
           {
            "colorbar": {
             "outlinewidth": 0,
             "ticks": ""
            },
            "colorscale": [
             [
              0,
              "#0d0887"
             ],
             [
              0.1111111111111111,
              "#46039f"
             ],
             [
              0.2222222222222222,
              "#7201a8"
             ],
             [
              0.3333333333333333,
              "#9c179e"
             ],
             [
              0.4444444444444444,
              "#bd3786"
             ],
             [
              0.5555555555555556,
              "#d8576b"
             ],
             [
              0.6666666666666666,
              "#ed7953"
             ],
             [
              0.7777777777777778,
              "#fb9f3a"
             ],
             [
              0.8888888888888888,
              "#fdca26"
             ],
             [
              1,
              "#f0f921"
             ]
            ],
            "type": "surface"
           }
          ],
          "table": [
           {
            "cells": {
             "fill": {
              "color": "#EBF0F8"
             },
             "line": {
              "color": "white"
             }
            },
            "header": {
             "fill": {
              "color": "#C8D4E3"
             },
             "line": {
              "color": "white"
             }
            },
            "type": "table"
           }
          ]
         },
         "layout": {
          "annotationdefaults": {
           "arrowcolor": "#2a3f5f",
           "arrowhead": 0,
           "arrowwidth": 1
          },
          "autotypenumbers": "strict",
          "coloraxis": {
           "colorbar": {
            "outlinewidth": 0,
            "ticks": ""
           }
          },
          "colorscale": {
           "diverging": [
            [
             0,
             "#8e0152"
            ],
            [
             0.1,
             "#c51b7d"
            ],
            [
             0.2,
             "#de77ae"
            ],
            [
             0.3,
             "#f1b6da"
            ],
            [
             0.4,
             "#fde0ef"
            ],
            [
             0.5,
             "#f7f7f7"
            ],
            [
             0.6,
             "#e6f5d0"
            ],
            [
             0.7,
             "#b8e186"
            ],
            [
             0.8,
             "#7fbc41"
            ],
            [
             0.9,
             "#4d9221"
            ],
            [
             1,
             "#276419"
            ]
           ],
           "sequential": [
            [
             0,
             "#0d0887"
            ],
            [
             0.1111111111111111,
             "#46039f"
            ],
            [
             0.2222222222222222,
             "#7201a8"
            ],
            [
             0.3333333333333333,
             "#9c179e"
            ],
            [
             0.4444444444444444,
             "#bd3786"
            ],
            [
             0.5555555555555556,
             "#d8576b"
            ],
            [
             0.6666666666666666,
             "#ed7953"
            ],
            [
             0.7777777777777778,
             "#fb9f3a"
            ],
            [
             0.8888888888888888,
             "#fdca26"
            ],
            [
             1,
             "#f0f921"
            ]
           ],
           "sequentialminus": [
            [
             0,
             "#0d0887"
            ],
            [
             0.1111111111111111,
             "#46039f"
            ],
            [
             0.2222222222222222,
             "#7201a8"
            ],
            [
             0.3333333333333333,
             "#9c179e"
            ],
            [
             0.4444444444444444,
             "#bd3786"
            ],
            [
             0.5555555555555556,
             "#d8576b"
            ],
            [
             0.6666666666666666,
             "#ed7953"
            ],
            [
             0.7777777777777778,
             "#fb9f3a"
            ],
            [
             0.8888888888888888,
             "#fdca26"
            ],
            [
             1,
             "#f0f921"
            ]
           ]
          },
          "colorway": [
           "#636efa",
           "#EF553B",
           "#00cc96",
           "#ab63fa",
           "#FFA15A",
           "#19d3f3",
           "#FF6692",
           "#B6E880",
           "#FF97FF",
           "#FECB52"
          ],
          "font": {
           "color": "#2a3f5f"
          },
          "geo": {
           "bgcolor": "white",
           "lakecolor": "white",
           "landcolor": "#E5ECF6",
           "showlakes": true,
           "showland": true,
           "subunitcolor": "white"
          },
          "hoverlabel": {
           "align": "left"
          },
          "hovermode": "closest",
          "mapbox": {
           "style": "light"
          },
          "paper_bgcolor": "white",
          "plot_bgcolor": "#E5ECF6",
          "polar": {
           "angularaxis": {
            "gridcolor": "white",
            "linecolor": "white",
            "ticks": ""
           },
           "bgcolor": "#E5ECF6",
           "radialaxis": {
            "gridcolor": "white",
            "linecolor": "white",
            "ticks": ""
           }
          },
          "scene": {
           "xaxis": {
            "backgroundcolor": "#E5ECF6",
            "gridcolor": "white",
            "gridwidth": 2,
            "linecolor": "white",
            "showbackground": true,
            "ticks": "",
            "zerolinecolor": "white"
           },
           "yaxis": {
            "backgroundcolor": "#E5ECF6",
            "gridcolor": "white",
            "gridwidth": 2,
            "linecolor": "white",
            "showbackground": true,
            "ticks": "",
            "zerolinecolor": "white"
           },
           "zaxis": {
            "backgroundcolor": "#E5ECF6",
            "gridcolor": "white",
            "gridwidth": 2,
            "linecolor": "white",
            "showbackground": true,
            "ticks": "",
            "zerolinecolor": "white"
           }
          },
          "shapedefaults": {
           "line": {
            "color": "#2a3f5f"
           }
          },
          "ternary": {
           "aaxis": {
            "gridcolor": "white",
            "linecolor": "white",
            "ticks": ""
           },
           "baxis": {
            "gridcolor": "white",
            "linecolor": "white",
            "ticks": ""
           },
           "bgcolor": "#E5ECF6",
           "caxis": {
            "gridcolor": "white",
            "linecolor": "white",
            "ticks": ""
           }
          },
          "title": {
           "x": 0.05
          },
          "xaxis": {
           "automargin": true,
           "gridcolor": "white",
           "linecolor": "white",
           "ticks": "",
           "title": {
            "standoff": 15
           },
           "zerolinecolor": "white",
           "zerolinewidth": 2
          },
          "yaxis": {
           "automargin": true,
           "gridcolor": "white",
           "linecolor": "white",
           "ticks": "",
           "title": {
            "standoff": 15
           },
           "zerolinecolor": "white",
           "zerolinewidth": 2
          }
         }
        },
        "title": {
         "text": "Execution time of ForecasterRecursive_backtesting"
        },
        "xaxis": {
         "tickangle": -45,
         "tickmode": "array",
         "ticktext": [
          "0.14.0",
          "0.15.1",
          "0.16.0"
         ],
         "tickvals": [
          0,
          1,
          2
         ],
         "title": {
          "text": "skforecast version"
         }
        },
        "yaxis": {
         "title": {
          "text": "Execution time (seconds)"
         }
        }
       }
      }
     },
     "metadata": {},
     "output_type": "display_data"
    },
    {
     "data": {
      "application/vnd.plotly.v1+json": {
       "config": {
        "plotlyServerURL": "https://plot.ly"
       },
       "data": [
        {
         "error_y": {
          "array": {
           "bdata": "AAAAAAAA+H8AAAAAAAD4fw==",
           "dtype": "f8"
          },
          "color": "#636EFA",
          "thickness": 1.5,
          "type": "data",
          "visible": true,
          "width": 5
         },
         "hovertemplate": "%{text}<extra></extra>",
         "marker": {
          "color": "#636EFA",
          "opacity": 0.7,
          "size": 10,
          "symbol": "circle"
         },
         "mode": "markers",
         "name": "0.14.0 - Linux-6.11.0-24-generic-x86_64-with-glibc2.39",
         "showlegend": true,
         "text": [
          "Forecaster: ForecasterRecursive<br>Regressor: LGBMRegressor<br>Function: ForecasterRecursive_backtesting_conformal<br>Function_hash: f356e528327023d064b35722d98a749e<br>Datetime: 2025-04-25 22:30:28.870008<br>Python version: 3.12.9<br>skforecast version: 0.14.0<br>numpy version: 2.2.5<br>pandas version: 2.2.3<br>sklearn version: 1.6.1<br>lightgbm version: 4.6.0<br>Platform: Linux-6.11.0-24-generic-x86_64-with-glibc2.39<br>Processor: x86_64<br>CPU count: 8<br>Memory (GB): 16.64<br>",
          "Forecaster: ForecasterRecursive<br>Regressor: LGBMRegressor<br>Function: ForecasterRecursive_backtesting_conformal<br>Function_hash: f356e528327023d064b35722d98a749e<br>Datetime: 2025-04-25 22:33:13.269378<br>Python version: 3.12.9<br>skforecast version: 0.14.0<br>numpy version: 2.2.5<br>pandas version: 2.2.3<br>sklearn version: 1.6.1<br>lightgbm version: 4.6.0<br>Platform: Linux-6.11.0-24-generic-x86_64-with-glibc2.39<br>Processor: x86_64<br>CPU count: 8<br>Memory (GB): 16.64<br>"
         ],
         "type": "scatter",
         "x": {
          "bdata": "fByzX9/Fir9AKClBT8iAPw==",
          "dtype": "f8"
         },
         "y": {
          "bdata": "AAAAAAAA+H8AAAAAAAD4fw==",
          "dtype": "f8"
         }
        },
        {
         "error_y": {
          "array": {
           "bdata": "DRVVuOs/mz+7KtIfzQKkP6WrkipCQKc/",
           "dtype": "f8"
          },
          "color": "#EF553B",
          "thickness": 1.5,
          "type": "data",
          "visible": true,
          "width": 5
         },
         "hovertemplate": "%{text}<extra></extra>",
         "marker": {
          "color": "#EF553B",
          "opacity": 0.7,
          "size": 10,
          "symbol": "circle"
         },
         "mode": "markers",
         "name": "0.15.1 - Linux-6.11.0-24-generic-x86_64-with-glibc2.39",
         "showlegend": true,
         "text": [
          "Forecaster: ForecasterRecursive<br>Regressor: LGBMRegressor<br>Function: ForecasterRecursive_backtesting_conformal<br>Function_hash: f356e528327023d064b35722d98a749e<br>Datetime: 2025-04-24 23:06:20.210011<br>Python version: 3.12.9<br>skforecast version: 0.15.1<br>numpy version: 2.2.5<br>pandas version: 2.2.3<br>sklearn version: 1.6.1<br>lightgbm version: 4.6.0<br>Platform: Linux-6.11.0-24-generic-x86_64-with-glibc2.39<br>Processor: x86_64<br>CPU count: 8<br>Memory (GB): 16.64<br>",
          "Forecaster: ForecasterRecursive<br>Regressor: LGBMRegressor<br>Function: ForecasterRecursive_backtesting_conformal<br>Function_hash: f356e528327023d064b35722d98a749e<br>Datetime: 2025-04-25 22:29:16.042683<br>Python version: 3.12.9<br>skforecast version: 0.15.1<br>numpy version: 2.2.5<br>pandas version: 2.2.3<br>sklearn version: 1.6.1<br>lightgbm version: 4.6.0<br>Platform: Linux-6.11.0-24-generic-x86_64-with-glibc2.39<br>Processor: x86_64<br>CPU count: 8<br>Memory (GB): 16.64<br>",
          "Forecaster: ForecasterRecursive<br>Regressor: LGBMRegressor<br>Function: ForecasterRecursive_backtesting_conformal<br>Function_hash: f356e528327023d064b35722d98a749e<br>Datetime: 2025-04-25 22:29:51.582088<br>Python version: 3.12.9<br>skforecast version: 0.15.1<br>numpy version: 2.2.5<br>pandas version: 2.2.3<br>sklearn version: 1.6.1<br>lightgbm version: 4.6.0<br>Platform: Linux-6.11.0-24-generic-x86_64-with-glibc2.39<br>Processor: x86_64<br>CPU count: 8<br>Memory (GB): 16.64<br>"
         ],
         "type": "scatter",
         "x": {
          "bdata": "WsufM0wh8D/sid4cvavwP0fPO5Hnwu4/",
          "dtype": "f8"
         },
         "y": {
          "bdata": "AECiVjVN6T+aGfjCGFzsPwBAE5olq+c/",
          "dtype": "f8"
         }
        },
        {
         "error_y": {
          "array": {
           "bdata": "dTKzfOsvkD9iJlVAuEVqP3JWf7InPJk/cP43RbSFbj9G5tNuKgWbP6r2NUJC/6A/XRCGlRmWkz8RVBDsXtOoPyY/Ua+SrLg/",
           "dtype": "f8"
          },
          "color": "#00CC96",
          "thickness": 1.5,
          "type": "data",
          "visible": true,
          "width": 5
         },
         "hovertemplate": "%{text}<extra></extra>",
         "marker": {
          "color": "#00CC96",
          "opacity": 0.7,
          "size": 10,
          "symbol": "circle"
         },
         "mode": "markers",
         "name": "0.16.0 - Linux-6.11.0-24-generic-x86_64-with-glibc2.39",
         "showlegend": true,
         "text": [
          "Forecaster: ForecasterRecursive<br>Regressor: LGBMRegressor<br>Function: ForecasterRecursive_backtesting_conformal<br>Function_hash: f356e528327023d064b35722d98a749e<br>Datetime: 2025-04-24 22:43:47.559519<br>Python version: 3.12.9<br>skforecast version: 0.16.0<br>numpy version: 2.2.5<br>pandas version: 2.2.3<br>sklearn version: 1.6.1<br>lightgbm version: 4.6.0<br>Platform: Linux-6.11.0-24-generic-x86_64-with-glibc2.39<br>Processor: x86_64<br>CPU count: 8<br>Memory (GB): 16.64<br>",
          "Forecaster: ForecasterRecursive<br>Regressor: LGBMRegressor<br>Function: ForecasterRecursive_backtesting_conformal<br>Function_hash: f356e528327023d064b35722d98a749e<br>Datetime: 2025-04-25 22:24:07.702357<br>Python version: 3.12.9<br>skforecast version: 0.16.0<br>numpy version: 2.2.5<br>pandas version: 2.2.3<br>sklearn version: 1.6.1<br>lightgbm version: 4.6.0<br>Platform: Linux-6.11.0-24-generic-x86_64-with-glibc2.39<br>Processor: x86_64<br>CPU count: 8<br>Memory (GB): 16.64<br>",
          "Forecaster: ForecasterRecursive<br>Regressor: LGBMRegressor<br>Function: ForecasterRecursive_backtesting_conformal<br>Function_hash: f356e528327023d064b35722d98a749e<br>Datetime: 2025-04-25 22:26:06.880800<br>Python version: 3.12.9<br>skforecast version: 0.16.0<br>numpy version: 2.2.5<br>pandas version: 2.2.3<br>sklearn version: 1.6.1<br>lightgbm version: 4.6.0<br>Platform: Linux-6.11.0-24-generic-x86_64-with-glibc2.39<br>Processor: x86_64<br>CPU count: 8<br>Memory (GB): 16.64<br>",
          "Forecaster: ForecasterRecursive<br>Regressor: LGBMRegressor<br>Function: ForecasterRecursive_backtesting_conformal<br>Function_hash: f356e528327023d064b35722d98a749e<br>Datetime: 2025-04-25 22:26:39.145381<br>Python version: 3.12.9<br>skforecast version: 0.16.0<br>numpy version: 2.2.5<br>pandas version: 2.2.3<br>sklearn version: 1.6.1<br>lightgbm version: 4.6.0<br>Platform: Linux-6.11.0-24-generic-x86_64-with-glibc2.39<br>Processor: x86_64<br>CPU count: 8<br>Memory (GB): 16.64<br>",
          "Forecaster: ForecasterRecursive<br>Regressor: LGBMRegressor<br>Function: ForecasterRecursive_backtesting_conformal<br>Function_hash: f356e528327023d064b35722d98a749e<br>Datetime: 2025-04-25 22:27:27.788799<br>Python version: 3.12.9<br>skforecast version: 0.16.0<br>numpy version: 2.2.5<br>pandas version: 2.2.3<br>sklearn version: 1.6.1<br>lightgbm version: 4.6.0<br>Platform: Linux-6.11.0-24-generic-x86_64-with-glibc2.39<br>Processor: x86_64<br>CPU count: 8<br>Memory (GB): 16.64<br>",
          "Forecaster: ForecasterRecursive<br>Regressor: LGBMRegressor<br>Function: ForecasterRecursive_backtesting_conformal<br>Function_hash: f356e528327023d064b35722d98a749e<br>Datetime: 2025-04-25 22:28:27.325339<br>Python version: 3.12.9<br>skforecast version: 0.16.0<br>numpy version: 2.2.5<br>pandas version: 2.2.3<br>sklearn version: 1.6.1<br>lightgbm version: 4.6.0<br>Platform: Linux-6.11.0-24-generic-x86_64-with-glibc2.39<br>Processor: x86_64<br>CPU count: 8<br>Memory (GB): 16.64<br>",
          "Forecaster: ForecasterRecursive<br>Regressor: LGBMRegressor<br>Function: ForecasterRecursive_backtesting_conformal<br>Function_hash: f356e528327023d064b35722d98a749e<br>Datetime: 2025-04-25 22:37:09.999480<br>Python version: 3.12.9<br>skforecast version: 0.16.0<br>numpy version: 2.2.5<br>pandas version: 2.2.3<br>sklearn version: 1.6.1<br>lightgbm version: 4.6.0<br>Platform: Linux-6.11.0-24-generic-x86_64-with-glibc2.39<br>Processor: x86_64<br>CPU count: 8<br>Memory (GB): 16.64<br>",
          "Forecaster: ForecasterRecursive<br>Regressor: LGBMRegressor<br>Function: ForecasterRecursive_backtesting_conformal<br>Function_hash: f356e528327023d064b35722d98a749e<br>Datetime: 2025-04-25 22:58:21.242668<br>Python version: 3.12.9<br>skforecast version: 0.16.0<br>numpy version: 2.2.5<br>pandas version: 2.2.3<br>sklearn version: 1.6.1<br>lightgbm version: 4.6.0<br>Platform: Linux-6.11.0-24-generic-x86_64-with-glibc2.39<br>Processor: x86_64<br>CPU count: 8<br>Memory (GB): 16.64<br>",
          "Forecaster: ForecasterRecursive<br>Regressor: LGBMRegressor<br>Function: ForecasterRecursive_backtesting_conformal<br>Function_hash: 91c2c2125969e4ba74b54be02bbc8b51<br>Datetime: 2025-04-27 11:58:12.241019<br>Python version: 3.12.9<br>skforecast version: 0.16.0<br>numpy version: 2.2.5<br>pandas version: 2.2.3<br>sklearn version: 1.6.1<br>lightgbm version: 4.6.0<br>Platform: Linux-6.11.0-24-generic-x86_64-with-glibc2.39<br>Processor: x86_64<br>CPU count: 8<br>Memory (GB): 16.64<br>"
         ],
         "type": "scatter",
         "x": {
          "bdata": "BPQEQSs7AECz2kPA+Pf/P91xRrJWNABAuznWUohQAEDAVIw4JS0AQPTpjzruQQBAO21cSeg6AEAq4w44tEMAQELsNhCxCABA",
          "dtype": "f8"
         },
         "y": {
          "bdata": "mtnSxQFf6j+amVawEOzlPzMzsN1P8+g/zcx24ojK5z8zM+7sVk/nP83MotMI2OY/mpk12Yg15z+a2b9HEm/uP2YGhUcu9uo/",
          "dtype": "f8"
         }
        },
        {
         "error_y": {
          "array": {
           "bdata": "npUpOnoGkj/gseKnckCaPw==",
           "dtype": "f8"
          },
          "color": "#00CC96",
          "thickness": 1.5,
          "type": "data",
          "visible": true,
          "width": 5
         },
         "hovertemplate": "%{text}<extra></extra>",
         "marker": {
          "color": "#00CC96",
          "opacity": 0.7,
          "size": 10,
          "symbol": "square"
         },
         "mode": "markers",
         "name": "0.16.0 - Windows-10-10.0.19045-SP0",
         "showlegend": true,
         "text": [
          "Forecaster: ForecasterRecursive<br>Regressor: LGBMRegressor<br>Function: ForecasterRecursive_backtesting_conformal<br>Function_hash: f356e528327023d064b35722d98a749e<br>Datetime: 2025-04-24 18:09:32.208851<br>Python version: 3.11.10<br>skforecast version: 0.16.0<br>numpy version: 2.2.5<br>pandas version: 2.2.3<br>sklearn version: 1.6.1<br>lightgbm version: 4.5.0<br>Platform: Windows-10-10.0.19045-SP0<br>Processor: Intel64 Family 6 Model 141 Stepping 1, GenuineIntel<br>CPU count: 16<br>Memory (GB): 34.07<br>",
          "Forecaster: ForecasterRecursive<br>Regressor: LGBMRegressor<br>Function: ForecasterRecursive_backtesting_conformal<br>Function_hash: f356e528327023d064b35722d98a749e<br>Datetime: 2025-04-24 18:24:19.378329<br>Python version: 3.11.10<br>skforecast version: 0.16.0<br>numpy version: 2.2.5<br>pandas version: 2.2.3<br>sklearn version: 1.6.1<br>lightgbm version: 4.5.0<br>Platform: Windows-10-10.0.19045-SP0<br>Processor: Intel64 Family 6 Model 141 Stepping 1, GenuineIntel<br>CPU count: 16<br>Memory (GB): 34.07<br>"
         ],
         "type": "scatter",
         "x": {
          "bdata": "XrVHMA+T/z88lcAF1isAQA==",
          "dtype": "f8"
         },
         "y": {
          "bdata": "zcy22O1z4j8AAF4uf9HiPw==",
          "dtype": "f8"
         }
        },
        {
         "line": {
          "color": "black",
          "width": 2
         },
         "marker": {
          "color": "black",
          "size": 8
         },
         "mode": "lines+markers",
         "name": "Median (per version)",
         "type": "scatter",
         "x": {
          "bdata": "AAEC",
          "dtype": "i1"
         },
         "y": {
          "bdata": "AAAAAAAA+H8AQKJWNU3pPzMz7uxWT+c/",
          "dtype": "f8"
         }
        },
        {
         "line": {
          "color": "black",
          "dash": "dash",
          "width": 2
         },
         "marker": {
          "color": "black",
          "size": 8
         },
         "mode": "lines+markers",
         "name": "Mean (per version)",
         "type": "scatter",
         "x": {
          "bdata": "AAEC",
          "dtype": "i1"
         },
         "y": {
          "bdata": "AAAAAAAA+H+IiOQ70cbpPw/LOKyuu+c/",
          "dtype": "f8"
         }
        }
       ],
       "layout": {
        "showlegend": true,
        "template": {
         "data": {
          "bar": [
           {
            "error_x": {
             "color": "#2a3f5f"
            },
            "error_y": {
             "color": "#2a3f5f"
            },
            "marker": {
             "line": {
              "color": "#E5ECF6",
              "width": 0.5
             },
             "pattern": {
              "fillmode": "overlay",
              "size": 10,
              "solidity": 0.2
             }
            },
            "type": "bar"
           }
          ],
          "barpolar": [
           {
            "marker": {
             "line": {
              "color": "#E5ECF6",
              "width": 0.5
             },
             "pattern": {
              "fillmode": "overlay",
              "size": 10,
              "solidity": 0.2
             }
            },
            "type": "barpolar"
           }
          ],
          "carpet": [
           {
            "aaxis": {
             "endlinecolor": "#2a3f5f",
             "gridcolor": "white",
             "linecolor": "white",
             "minorgridcolor": "white",
             "startlinecolor": "#2a3f5f"
            },
            "baxis": {
             "endlinecolor": "#2a3f5f",
             "gridcolor": "white",
             "linecolor": "white",
             "minorgridcolor": "white",
             "startlinecolor": "#2a3f5f"
            },
            "type": "carpet"
           }
          ],
          "choropleth": [
           {
            "colorbar": {
             "outlinewidth": 0,
             "ticks": ""
            },
            "type": "choropleth"
           }
          ],
          "contour": [
           {
            "colorbar": {
             "outlinewidth": 0,
             "ticks": ""
            },
            "colorscale": [
             [
              0,
              "#0d0887"
             ],
             [
              0.1111111111111111,
              "#46039f"
             ],
             [
              0.2222222222222222,
              "#7201a8"
             ],
             [
              0.3333333333333333,
              "#9c179e"
             ],
             [
              0.4444444444444444,
              "#bd3786"
             ],
             [
              0.5555555555555556,
              "#d8576b"
             ],
             [
              0.6666666666666666,
              "#ed7953"
             ],
             [
              0.7777777777777778,
              "#fb9f3a"
             ],
             [
              0.8888888888888888,
              "#fdca26"
             ],
             [
              1,
              "#f0f921"
             ]
            ],
            "type": "contour"
           }
          ],
          "contourcarpet": [
           {
            "colorbar": {
             "outlinewidth": 0,
             "ticks": ""
            },
            "type": "contourcarpet"
           }
          ],
          "heatmap": [
           {
            "colorbar": {
             "outlinewidth": 0,
             "ticks": ""
            },
            "colorscale": [
             [
              0,
              "#0d0887"
             ],
             [
              0.1111111111111111,
              "#46039f"
             ],
             [
              0.2222222222222222,
              "#7201a8"
             ],
             [
              0.3333333333333333,
              "#9c179e"
             ],
             [
              0.4444444444444444,
              "#bd3786"
             ],
             [
              0.5555555555555556,
              "#d8576b"
             ],
             [
              0.6666666666666666,
              "#ed7953"
             ],
             [
              0.7777777777777778,
              "#fb9f3a"
             ],
             [
              0.8888888888888888,
              "#fdca26"
             ],
             [
              1,
              "#f0f921"
             ]
            ],
            "type": "heatmap"
           }
          ],
          "histogram": [
           {
            "marker": {
             "pattern": {
              "fillmode": "overlay",
              "size": 10,
              "solidity": 0.2
             }
            },
            "type": "histogram"
           }
          ],
          "histogram2d": [
           {
            "colorbar": {
             "outlinewidth": 0,
             "ticks": ""
            },
            "colorscale": [
             [
              0,
              "#0d0887"
             ],
             [
              0.1111111111111111,
              "#46039f"
             ],
             [
              0.2222222222222222,
              "#7201a8"
             ],
             [
              0.3333333333333333,
              "#9c179e"
             ],
             [
              0.4444444444444444,
              "#bd3786"
             ],
             [
              0.5555555555555556,
              "#d8576b"
             ],
             [
              0.6666666666666666,
              "#ed7953"
             ],
             [
              0.7777777777777778,
              "#fb9f3a"
             ],
             [
              0.8888888888888888,
              "#fdca26"
             ],
             [
              1,
              "#f0f921"
             ]
            ],
            "type": "histogram2d"
           }
          ],
          "histogram2dcontour": [
           {
            "colorbar": {
             "outlinewidth": 0,
             "ticks": ""
            },
            "colorscale": [
             [
              0,
              "#0d0887"
             ],
             [
              0.1111111111111111,
              "#46039f"
             ],
             [
              0.2222222222222222,
              "#7201a8"
             ],
             [
              0.3333333333333333,
              "#9c179e"
             ],
             [
              0.4444444444444444,
              "#bd3786"
             ],
             [
              0.5555555555555556,
              "#d8576b"
             ],
             [
              0.6666666666666666,
              "#ed7953"
             ],
             [
              0.7777777777777778,
              "#fb9f3a"
             ],
             [
              0.8888888888888888,
              "#fdca26"
             ],
             [
              1,
              "#f0f921"
             ]
            ],
            "type": "histogram2dcontour"
           }
          ],
          "mesh3d": [
           {
            "colorbar": {
             "outlinewidth": 0,
             "ticks": ""
            },
            "type": "mesh3d"
           }
          ],
          "parcoords": [
           {
            "line": {
             "colorbar": {
              "outlinewidth": 0,
              "ticks": ""
             }
            },
            "type": "parcoords"
           }
          ],
          "pie": [
           {
            "automargin": true,
            "type": "pie"
           }
          ],
          "scatter": [
           {
            "fillpattern": {
             "fillmode": "overlay",
             "size": 10,
             "solidity": 0.2
            },
            "type": "scatter"
           }
          ],
          "scatter3d": [
           {
            "line": {
             "colorbar": {
              "outlinewidth": 0,
              "ticks": ""
             }
            },
            "marker": {
             "colorbar": {
              "outlinewidth": 0,
              "ticks": ""
             }
            },
            "type": "scatter3d"
           }
          ],
          "scattercarpet": [
           {
            "marker": {
             "colorbar": {
              "outlinewidth": 0,
              "ticks": ""
             }
            },
            "type": "scattercarpet"
           }
          ],
          "scattergeo": [
           {
            "marker": {
             "colorbar": {
              "outlinewidth": 0,
              "ticks": ""
             }
            },
            "type": "scattergeo"
           }
          ],
          "scattergl": [
           {
            "marker": {
             "colorbar": {
              "outlinewidth": 0,
              "ticks": ""
             }
            },
            "type": "scattergl"
           }
          ],
          "scattermap": [
           {
            "marker": {
             "colorbar": {
              "outlinewidth": 0,
              "ticks": ""
             }
            },
            "type": "scattermap"
           }
          ],
          "scattermapbox": [
           {
            "marker": {
             "colorbar": {
              "outlinewidth": 0,
              "ticks": ""
             }
            },
            "type": "scattermapbox"
           }
          ],
          "scatterpolar": [
           {
            "marker": {
             "colorbar": {
              "outlinewidth": 0,
              "ticks": ""
             }
            },
            "type": "scatterpolar"
           }
          ],
          "scatterpolargl": [
           {
            "marker": {
             "colorbar": {
              "outlinewidth": 0,
              "ticks": ""
             }
            },
            "type": "scatterpolargl"
           }
          ],
          "scatterternary": [
           {
            "marker": {
             "colorbar": {
              "outlinewidth": 0,
              "ticks": ""
             }
            },
            "type": "scatterternary"
           }
          ],
          "surface": [
           {
            "colorbar": {
             "outlinewidth": 0,
             "ticks": ""
            },
            "colorscale": [
             [
              0,
              "#0d0887"
             ],
             [
              0.1111111111111111,
              "#46039f"
             ],
             [
              0.2222222222222222,
              "#7201a8"
             ],
             [
              0.3333333333333333,
              "#9c179e"
             ],
             [
              0.4444444444444444,
              "#bd3786"
             ],
             [
              0.5555555555555556,
              "#d8576b"
             ],
             [
              0.6666666666666666,
              "#ed7953"
             ],
             [
              0.7777777777777778,
              "#fb9f3a"
             ],
             [
              0.8888888888888888,
              "#fdca26"
             ],
             [
              1,
              "#f0f921"
             ]
            ],
            "type": "surface"
           }
          ],
          "table": [
           {
            "cells": {
             "fill": {
              "color": "#EBF0F8"
             },
             "line": {
              "color": "white"
             }
            },
            "header": {
             "fill": {
              "color": "#C8D4E3"
             },
             "line": {
              "color": "white"
             }
            },
            "type": "table"
           }
          ]
         },
         "layout": {
          "annotationdefaults": {
           "arrowcolor": "#2a3f5f",
           "arrowhead": 0,
           "arrowwidth": 1
          },
          "autotypenumbers": "strict",
          "coloraxis": {
           "colorbar": {
            "outlinewidth": 0,
            "ticks": ""
           }
          },
          "colorscale": {
           "diverging": [
            [
             0,
             "#8e0152"
            ],
            [
             0.1,
             "#c51b7d"
            ],
            [
             0.2,
             "#de77ae"
            ],
            [
             0.3,
             "#f1b6da"
            ],
            [
             0.4,
             "#fde0ef"
            ],
            [
             0.5,
             "#f7f7f7"
            ],
            [
             0.6,
             "#e6f5d0"
            ],
            [
             0.7,
             "#b8e186"
            ],
            [
             0.8,
             "#7fbc41"
            ],
            [
             0.9,
             "#4d9221"
            ],
            [
             1,
             "#276419"
            ]
           ],
           "sequential": [
            [
             0,
             "#0d0887"
            ],
            [
             0.1111111111111111,
             "#46039f"
            ],
            [
             0.2222222222222222,
             "#7201a8"
            ],
            [
             0.3333333333333333,
             "#9c179e"
            ],
            [
             0.4444444444444444,
             "#bd3786"
            ],
            [
             0.5555555555555556,
             "#d8576b"
            ],
            [
             0.6666666666666666,
             "#ed7953"
            ],
            [
             0.7777777777777778,
             "#fb9f3a"
            ],
            [
             0.8888888888888888,
             "#fdca26"
            ],
            [
             1,
             "#f0f921"
            ]
           ],
           "sequentialminus": [
            [
             0,
             "#0d0887"
            ],
            [
             0.1111111111111111,
             "#46039f"
            ],
            [
             0.2222222222222222,
             "#7201a8"
            ],
            [
             0.3333333333333333,
             "#9c179e"
            ],
            [
             0.4444444444444444,
             "#bd3786"
            ],
            [
             0.5555555555555556,
             "#d8576b"
            ],
            [
             0.6666666666666666,
             "#ed7953"
            ],
            [
             0.7777777777777778,
             "#fb9f3a"
            ],
            [
             0.8888888888888888,
             "#fdca26"
            ],
            [
             1,
             "#f0f921"
            ]
           ]
          },
          "colorway": [
           "#636efa",
           "#EF553B",
           "#00cc96",
           "#ab63fa",
           "#FFA15A",
           "#19d3f3",
           "#FF6692",
           "#B6E880",
           "#FF97FF",
           "#FECB52"
          ],
          "font": {
           "color": "#2a3f5f"
          },
          "geo": {
           "bgcolor": "white",
           "lakecolor": "white",
           "landcolor": "#E5ECF6",
           "showlakes": true,
           "showland": true,
           "subunitcolor": "white"
          },
          "hoverlabel": {
           "align": "left"
          },
          "hovermode": "closest",
          "mapbox": {
           "style": "light"
          },
          "paper_bgcolor": "white",
          "plot_bgcolor": "#E5ECF6",
          "polar": {
           "angularaxis": {
            "gridcolor": "white",
            "linecolor": "white",
            "ticks": ""
           },
           "bgcolor": "#E5ECF6",
           "radialaxis": {
            "gridcolor": "white",
            "linecolor": "white",
            "ticks": ""
           }
          },
          "scene": {
           "xaxis": {
            "backgroundcolor": "#E5ECF6",
            "gridcolor": "white",
            "gridwidth": 2,
            "linecolor": "white",
            "showbackground": true,
            "ticks": "",
            "zerolinecolor": "white"
           },
           "yaxis": {
            "backgroundcolor": "#E5ECF6",
            "gridcolor": "white",
            "gridwidth": 2,
            "linecolor": "white",
            "showbackground": true,
            "ticks": "",
            "zerolinecolor": "white"
           },
           "zaxis": {
            "backgroundcolor": "#E5ECF6",
            "gridcolor": "white",
            "gridwidth": 2,
            "linecolor": "white",
            "showbackground": true,
            "ticks": "",
            "zerolinecolor": "white"
           }
          },
          "shapedefaults": {
           "line": {
            "color": "#2a3f5f"
           }
          },
          "ternary": {
           "aaxis": {
            "gridcolor": "white",
            "linecolor": "white",
            "ticks": ""
           },
           "baxis": {
            "gridcolor": "white",
            "linecolor": "white",
            "ticks": ""
           },
           "bgcolor": "#E5ECF6",
           "caxis": {
            "gridcolor": "white",
            "linecolor": "white",
            "ticks": ""
           }
          },
          "title": {
           "x": 0.05
          },
          "xaxis": {
           "automargin": true,
           "gridcolor": "white",
           "linecolor": "white",
           "ticks": "",
           "title": {
            "standoff": 15
           },
           "zerolinecolor": "white",
           "zerolinewidth": 2
          },
          "yaxis": {
           "automargin": true,
           "gridcolor": "white",
           "linecolor": "white",
           "ticks": "",
           "title": {
            "standoff": 15
           },
           "zerolinecolor": "white",
           "zerolinewidth": 2
          }
         }
        },
        "title": {
         "text": "Execution time of ForecasterRecursive_backtesting_conformal"
        },
        "xaxis": {
         "tickangle": -45,
         "tickmode": "array",
         "ticktext": [
          "0.14.0",
          "0.15.1",
          "0.16.0"
         ],
         "tickvals": [
          0,
          1,
          2
         ],
         "title": {
          "text": "skforecast version"
         }
        },
        "yaxis": {
         "title": {
          "text": "Execution time (seconds)"
         }
        }
       }
      }
     },
     "metadata": {},
     "output_type": "display_data"
    },
    {
     "data": {
      "application/vnd.plotly.v1+json": {
       "config": {
        "plotlyServerURL": "https://plot.ly"
       },
       "data": [
        {
         "error_y": {
          "array": {
           "bdata": "AAAAAAAA+H8AAAAAAAD4fw==",
           "dtype": "f8"
          },
          "color": "#636EFA",
          "thickness": 1.5,
          "type": "data",
          "visible": true,
          "width": 5
         },
         "hovertemplate": "%{text}<extra></extra>",
         "marker": {
          "color": "#636EFA",
          "opacity": 0.7,
          "size": 10,
          "symbol": "circle"
         },
         "mode": "markers",
         "name": "0.14.0 - Linux-6.11.0-24-generic-x86_64-with-glibc2.39",
         "showlegend": true,
         "text": [
          "Forecaster: ForecasterRecursive<br>Regressor: LGBMRegressor<br>Function: ForecasterRecursive_predict_interval_conformal<br>Function_hash: 94a26793e971b2cf5954d99a283129d1<br>Datetime: 2025-04-25 22:30:25.239460<br>Python version: 3.12.9<br>skforecast version: 0.14.0<br>numpy version: 2.2.5<br>pandas version: 2.2.3<br>sklearn version: 1.6.1<br>lightgbm version: 4.6.0<br>Platform: Linux-6.11.0-24-generic-x86_64-with-glibc2.39<br>Processor: x86_64<br>CPU count: 8<br>Memory (GB): 16.64<br>",
          "Forecaster: ForecasterRecursive<br>Regressor: LGBMRegressor<br>Function: ForecasterRecursive_predict_interval_conformal<br>Function_hash: 94a26793e971b2cf5954d99a283129d1<br>Datetime: 2025-04-25 22:33:09.749380<br>Python version: 3.12.9<br>skforecast version: 0.14.0<br>numpy version: 2.2.5<br>pandas version: 2.2.3<br>sklearn version: 1.6.1<br>lightgbm version: 4.6.0<br>Platform: Linux-6.11.0-24-generic-x86_64-with-glibc2.39<br>Processor: x86_64<br>CPU count: 8<br>Memory (GB): 16.64<br>"
         ],
         "type": "scatter",
         "x": {
          "bdata": "fByzX9/Fir9AKClBT8iAPw==",
          "dtype": "f8"
         },
         "y": {
          "bdata": "AAAAAAAA+H8AAAAAAAD4fw==",
          "dtype": "f8"
         }
        },
        {
         "error_y": {
          "array": {
           "bdata": "x/2JDbeadD92M3ZlnpGGPw==",
           "dtype": "f8"
          },
          "color": "#EF553B",
          "thickness": 1.5,
          "type": "data",
          "visible": true,
          "width": 5
         },
         "hovertemplate": "%{text}<extra></extra>",
         "marker": {
          "color": "#EF553B",
          "opacity": 0.7,
          "size": 10,
          "symbol": "circle"
         },
         "mode": "markers",
         "name": "0.15.1 - Linux-6.11.0-24-generic-x86_64-with-glibc2.39",
         "showlegend": true,
         "text": [
          "Forecaster: ForecasterRecursive<br>Regressor: LGBMRegressor<br>Function: ForecasterRecursive_predict_interval_conformal<br>Function_hash: 94a26793e971b2cf5954d99a283129d1<br>Datetime: 2025-04-25 22:29:07.858155<br>Python version: 3.12.9<br>skforecast version: 0.15.1<br>numpy version: 2.2.5<br>pandas version: 2.2.3<br>sklearn version: 1.6.1<br>lightgbm version: 4.6.0<br>Platform: Linux-6.11.0-24-generic-x86_64-with-glibc2.39<br>Processor: x86_64<br>CPU count: 8<br>Memory (GB): 16.64<br>",
          "Forecaster: ForecasterRecursive<br>Regressor: LGBMRegressor<br>Function: ForecasterRecursive_predict_interval_conformal<br>Function_hash: 94a26793e971b2cf5954d99a283129d1<br>Datetime: 2025-04-25 22:29:44.322475<br>Python version: 3.12.9<br>skforecast version: 0.15.1<br>numpy version: 2.2.5<br>pandas version: 2.2.3<br>sklearn version: 1.6.1<br>lightgbm version: 4.6.0<br>Platform: Linux-6.11.0-24-generic-x86_64-with-glibc2.39<br>Processor: x86_64<br>CPU count: 8<br>Memory (GB): 16.64<br>"
         ],
         "type": "scatter",
         "x": {
          "bdata": "WsufM0wh8D/sid4cvavwPw==",
          "dtype": "f8"
         },
         "y": {
          "bdata": "mpnZEw0msT9ERD5TXXKxPw==",
          "dtype": "f8"
         }
        },
        {
         "error_y": {
          "array": {
           "bdata": "AAAAAAAA+H8AAAAAAAD4fwAAAAAAAPh/kw5XiwZTdT+3ixBhkGqFP5Sam1NLuY0/G4P66MMHlj8IWLPy/4ZfPw==",
           "dtype": "f8"
          },
          "color": "#00CC96",
          "thickness": 1.5,
          "type": "data",
          "visible": true,
          "width": 5
         },
         "hovertemplate": "%{text}<extra></extra>",
         "marker": {
          "color": "#00CC96",
          "opacity": 0.7,
          "size": 10,
          "symbol": "circle"
         },
         "mode": "markers",
         "name": "0.16.0 - Linux-6.11.0-24-generic-x86_64-with-glibc2.39",
         "showlegend": true,
         "text": [
          "Forecaster: ForecasterRecursive<br>Regressor: LGBMRegressor<br>Function: ForecasterRecursive_predict_interval_conformal<br>Function_hash: 106bd31ce0f86adfe33b6d4bc2acceac<br>Datetime: 2025-04-25 22:24:00.410900<br>Python version: 3.12.9<br>skforecast version: 0.16.0<br>numpy version: 2.2.5<br>pandas version: 2.2.3<br>sklearn version: 1.6.1<br>lightgbm version: 4.6.0<br>Platform: Linux-6.11.0-24-generic-x86_64-with-glibc2.39<br>Processor: x86_64<br>CPU count: 8<br>Memory (GB): 16.64<br>",
          "Forecaster: ForecasterRecursive<br>Regressor: LGBMRegressor<br>Function: ForecasterRecursive_predict_interval_conformal<br>Function_hash: 4143059f30ede4d3cda68b8942c221bd<br>Datetime: 2025-04-25 22:25:58.813549<br>Python version: 3.12.9<br>skforecast version: 0.16.0<br>numpy version: 2.2.5<br>pandas version: 2.2.3<br>sklearn version: 1.6.1<br>lightgbm version: 4.6.0<br>Platform: Linux-6.11.0-24-generic-x86_64-with-glibc2.39<br>Processor: x86_64<br>CPU count: 8<br>Memory (GB): 16.64<br>",
          "Forecaster: ForecasterRecursive<br>Regressor: LGBMRegressor<br>Function: ForecasterRecursive_predict_interval_conformal<br>Function_hash: 94a26793e971b2cf5954d99a283129d1<br>Datetime: 2025-04-25 22:26:31.559382<br>Python version: 3.12.9<br>skforecast version: 0.16.0<br>numpy version: 2.2.5<br>pandas version: 2.2.3<br>sklearn version: 1.6.1<br>lightgbm version: 4.6.0<br>Platform: Linux-6.11.0-24-generic-x86_64-with-glibc2.39<br>Processor: x86_64<br>CPU count: 8<br>Memory (GB): 16.64<br>",
          "Forecaster: ForecasterRecursive<br>Regressor: LGBMRegressor<br>Function: ForecasterRecursive_predict_interval_conformal<br>Function_hash: 94a26793e971b2cf5954d99a283129d1<br>Datetime: 2025-04-25 22:27:20.538217<br>Python version: 3.12.9<br>skforecast version: 0.16.0<br>numpy version: 2.2.5<br>pandas version: 2.2.3<br>sklearn version: 1.6.1<br>lightgbm version: 4.6.0<br>Platform: Linux-6.11.0-24-generic-x86_64-with-glibc2.39<br>Processor: x86_64<br>CPU count: 8<br>Memory (GB): 16.64<br>",
          "Forecaster: ForecasterRecursive<br>Regressor: LGBMRegressor<br>Function: ForecasterRecursive_predict_interval_conformal<br>Function_hash: 94a26793e971b2cf5954d99a283129d1<br>Datetime: 2025-04-25 22:28:20.302862<br>Python version: 3.12.9<br>skforecast version: 0.16.0<br>numpy version: 2.2.5<br>pandas version: 2.2.3<br>sklearn version: 1.6.1<br>lightgbm version: 4.6.0<br>Platform: Linux-6.11.0-24-generic-x86_64-with-glibc2.39<br>Processor: x86_64<br>CPU count: 8<br>Memory (GB): 16.64<br>",
          "Forecaster: ForecasterRecursive<br>Regressor: LGBMRegressor<br>Function: ForecasterRecursive_predict_interval_conformal<br>Function_hash: 94a26793e971b2cf5954d99a283129d1<br>Datetime: 2025-04-25 22:37:02.836734<br>Python version: 3.12.9<br>skforecast version: 0.16.0<br>numpy version: 2.2.5<br>pandas version: 2.2.3<br>sklearn version: 1.6.1<br>lightgbm version: 4.6.0<br>Platform: Linux-6.11.0-24-generic-x86_64-with-glibc2.39<br>Processor: x86_64<br>CPU count: 8<br>Memory (GB): 16.64<br>",
          "Forecaster: ForecasterRecursive<br>Regressor: LGBMRegressor<br>Function: ForecasterRecursive_predict_interval_conformal<br>Function_hash: 94a26793e971b2cf5954d99a283129d1<br>Datetime: 2025-04-25 22:58:11.881121<br>Python version: 3.12.9<br>skforecast version: 0.16.0<br>numpy version: 2.2.5<br>pandas version: 2.2.3<br>sklearn version: 1.6.1<br>lightgbm version: 4.6.0<br>Platform: Linux-6.11.0-24-generic-x86_64-with-glibc2.39<br>Processor: x86_64<br>CPU count: 8<br>Memory (GB): 16.64<br>",
          "Forecaster: ForecasterRecursive<br>Regressor: LGBMRegressor<br>Function: ForecasterRecursive_predict_interval_conformal<br>Function_hash: 77d80fbd39c00d678ff8cf45b41611c0<br>Datetime: 2025-04-27 11:58:04.477778<br>Python version: 3.12.9<br>skforecast version: 0.16.0<br>numpy version: 2.2.5<br>pandas version: 2.2.3<br>sklearn version: 1.6.1<br>lightgbm version: 4.6.0<br>Platform: Linux-6.11.0-24-generic-x86_64-with-glibc2.39<br>Processor: x86_64<br>CPU count: 8<br>Memory (GB): 16.64<br>"
         ],
         "type": "scatter",
         "x": {
          "bdata": "o+edyHNh/z9etUcwD5P/PzyVwAXWKwBABPQEQSs7AECz2kPA+Pf/P91xRrJWNABAuznWUohQAEDAVIw4JS0AQA==",
          "dtype": "f8"
         },
         "y": {
          "bdata": "AAAAAAAA+H8AAAAAAAD4fwAAAAAAAPh/vLtMr/VOsD/NzMRe+4+wP1VVVh4r1bA/RET8g+9Wtj8zM441oDivPw==",
          "dtype": "f8"
         }
        },
        {
         "line": {
          "color": "black",
          "width": 2
         },
         "marker": {
          "color": "black",
          "size": 8
         },
         "mode": "lines+markers",
         "name": "Median (per version)",
         "type": "scatter",
         "x": {
          "bdata": "AAEC",
          "dtype": "i1"
         },
         "y": {
          "bdata": "AAAAAAAA+H/v7oszNUyxP83MxF77j7A/",
          "dtype": "f8"
         }
        },
        {
         "line": {
          "color": "black",
          "dash": "dash",
          "width": 2
         },
         "marker": {
          "color": "black",
          "size": 8
         },
         "mode": "lines+markers",
         "name": "Mean (per version)",
         "type": "scatter",
         "x": {
          "bdata": "AAEC",
          "dtype": "i1"
         },
         "y": {
          "bdata": "AAAAAAAA+H/v7oszNUyxPyY/oijfh7E/",
          "dtype": "f8"
         }
        }
       ],
       "layout": {
        "showlegend": true,
        "template": {
         "data": {
          "bar": [
           {
            "error_x": {
             "color": "#2a3f5f"
            },
            "error_y": {
             "color": "#2a3f5f"
            },
            "marker": {
             "line": {
              "color": "#E5ECF6",
              "width": 0.5
             },
             "pattern": {
              "fillmode": "overlay",
              "size": 10,
              "solidity": 0.2
             }
            },
            "type": "bar"
           }
          ],
          "barpolar": [
           {
            "marker": {
             "line": {
              "color": "#E5ECF6",
              "width": 0.5
             },
             "pattern": {
              "fillmode": "overlay",
              "size": 10,
              "solidity": 0.2
             }
            },
            "type": "barpolar"
           }
          ],
          "carpet": [
           {
            "aaxis": {
             "endlinecolor": "#2a3f5f",
             "gridcolor": "white",
             "linecolor": "white",
             "minorgridcolor": "white",
             "startlinecolor": "#2a3f5f"
            },
            "baxis": {
             "endlinecolor": "#2a3f5f",
             "gridcolor": "white",
             "linecolor": "white",
             "minorgridcolor": "white",
             "startlinecolor": "#2a3f5f"
            },
            "type": "carpet"
           }
          ],
          "choropleth": [
           {
            "colorbar": {
             "outlinewidth": 0,
             "ticks": ""
            },
            "type": "choropleth"
           }
          ],
          "contour": [
           {
            "colorbar": {
             "outlinewidth": 0,
             "ticks": ""
            },
            "colorscale": [
             [
              0,
              "#0d0887"
             ],
             [
              0.1111111111111111,
              "#46039f"
             ],
             [
              0.2222222222222222,
              "#7201a8"
             ],
             [
              0.3333333333333333,
              "#9c179e"
             ],
             [
              0.4444444444444444,
              "#bd3786"
             ],
             [
              0.5555555555555556,
              "#d8576b"
             ],
             [
              0.6666666666666666,
              "#ed7953"
             ],
             [
              0.7777777777777778,
              "#fb9f3a"
             ],
             [
              0.8888888888888888,
              "#fdca26"
             ],
             [
              1,
              "#f0f921"
             ]
            ],
            "type": "contour"
           }
          ],
          "contourcarpet": [
           {
            "colorbar": {
             "outlinewidth": 0,
             "ticks": ""
            },
            "type": "contourcarpet"
           }
          ],
          "heatmap": [
           {
            "colorbar": {
             "outlinewidth": 0,
             "ticks": ""
            },
            "colorscale": [
             [
              0,
              "#0d0887"
             ],
             [
              0.1111111111111111,
              "#46039f"
             ],
             [
              0.2222222222222222,
              "#7201a8"
             ],
             [
              0.3333333333333333,
              "#9c179e"
             ],
             [
              0.4444444444444444,
              "#bd3786"
             ],
             [
              0.5555555555555556,
              "#d8576b"
             ],
             [
              0.6666666666666666,
              "#ed7953"
             ],
             [
              0.7777777777777778,
              "#fb9f3a"
             ],
             [
              0.8888888888888888,
              "#fdca26"
             ],
             [
              1,
              "#f0f921"
             ]
            ],
            "type": "heatmap"
           }
          ],
          "histogram": [
           {
            "marker": {
             "pattern": {
              "fillmode": "overlay",
              "size": 10,
              "solidity": 0.2
             }
            },
            "type": "histogram"
           }
          ],
          "histogram2d": [
           {
            "colorbar": {
             "outlinewidth": 0,
             "ticks": ""
            },
            "colorscale": [
             [
              0,
              "#0d0887"
             ],
             [
              0.1111111111111111,
              "#46039f"
             ],
             [
              0.2222222222222222,
              "#7201a8"
             ],
             [
              0.3333333333333333,
              "#9c179e"
             ],
             [
              0.4444444444444444,
              "#bd3786"
             ],
             [
              0.5555555555555556,
              "#d8576b"
             ],
             [
              0.6666666666666666,
              "#ed7953"
             ],
             [
              0.7777777777777778,
              "#fb9f3a"
             ],
             [
              0.8888888888888888,
              "#fdca26"
             ],
             [
              1,
              "#f0f921"
             ]
            ],
            "type": "histogram2d"
           }
          ],
          "histogram2dcontour": [
           {
            "colorbar": {
             "outlinewidth": 0,
             "ticks": ""
            },
            "colorscale": [
             [
              0,
              "#0d0887"
             ],
             [
              0.1111111111111111,
              "#46039f"
             ],
             [
              0.2222222222222222,
              "#7201a8"
             ],
             [
              0.3333333333333333,
              "#9c179e"
             ],
             [
              0.4444444444444444,
              "#bd3786"
             ],
             [
              0.5555555555555556,
              "#d8576b"
             ],
             [
              0.6666666666666666,
              "#ed7953"
             ],
             [
              0.7777777777777778,
              "#fb9f3a"
             ],
             [
              0.8888888888888888,
              "#fdca26"
             ],
             [
              1,
              "#f0f921"
             ]
            ],
            "type": "histogram2dcontour"
           }
          ],
          "mesh3d": [
           {
            "colorbar": {
             "outlinewidth": 0,
             "ticks": ""
            },
            "type": "mesh3d"
           }
          ],
          "parcoords": [
           {
            "line": {
             "colorbar": {
              "outlinewidth": 0,
              "ticks": ""
             }
            },
            "type": "parcoords"
           }
          ],
          "pie": [
           {
            "automargin": true,
            "type": "pie"
           }
          ],
          "scatter": [
           {
            "fillpattern": {
             "fillmode": "overlay",
             "size": 10,
             "solidity": 0.2
            },
            "type": "scatter"
           }
          ],
          "scatter3d": [
           {
            "line": {
             "colorbar": {
              "outlinewidth": 0,
              "ticks": ""
             }
            },
            "marker": {
             "colorbar": {
              "outlinewidth": 0,
              "ticks": ""
             }
            },
            "type": "scatter3d"
           }
          ],
          "scattercarpet": [
           {
            "marker": {
             "colorbar": {
              "outlinewidth": 0,
              "ticks": ""
             }
            },
            "type": "scattercarpet"
           }
          ],
          "scattergeo": [
           {
            "marker": {
             "colorbar": {
              "outlinewidth": 0,
              "ticks": ""
             }
            },
            "type": "scattergeo"
           }
          ],
          "scattergl": [
           {
            "marker": {
             "colorbar": {
              "outlinewidth": 0,
              "ticks": ""
             }
            },
            "type": "scattergl"
           }
          ],
          "scattermap": [
           {
            "marker": {
             "colorbar": {
              "outlinewidth": 0,
              "ticks": ""
             }
            },
            "type": "scattermap"
           }
          ],
          "scattermapbox": [
           {
            "marker": {
             "colorbar": {
              "outlinewidth": 0,
              "ticks": ""
             }
            },
            "type": "scattermapbox"
           }
          ],
          "scatterpolar": [
           {
            "marker": {
             "colorbar": {
              "outlinewidth": 0,
              "ticks": ""
             }
            },
            "type": "scatterpolar"
           }
          ],
          "scatterpolargl": [
           {
            "marker": {
             "colorbar": {
              "outlinewidth": 0,
              "ticks": ""
             }
            },
            "type": "scatterpolargl"
           }
          ],
          "scatterternary": [
           {
            "marker": {
             "colorbar": {
              "outlinewidth": 0,
              "ticks": ""
             }
            },
            "type": "scatterternary"
           }
          ],
          "surface": [
           {
            "colorbar": {
             "outlinewidth": 0,
             "ticks": ""
            },
            "colorscale": [
             [
              0,
              "#0d0887"
             ],
             [
              0.1111111111111111,
              "#46039f"
             ],
             [
              0.2222222222222222,
              "#7201a8"
             ],
             [
              0.3333333333333333,
              "#9c179e"
             ],
             [
              0.4444444444444444,
              "#bd3786"
             ],
             [
              0.5555555555555556,
              "#d8576b"
             ],
             [
              0.6666666666666666,
              "#ed7953"
             ],
             [
              0.7777777777777778,
              "#fb9f3a"
             ],
             [
              0.8888888888888888,
              "#fdca26"
             ],
             [
              1,
              "#f0f921"
             ]
            ],
            "type": "surface"
           }
          ],
          "table": [
           {
            "cells": {
             "fill": {
              "color": "#EBF0F8"
             },
             "line": {
              "color": "white"
             }
            },
            "header": {
             "fill": {
              "color": "#C8D4E3"
             },
             "line": {
              "color": "white"
             }
            },
            "type": "table"
           }
          ]
         },
         "layout": {
          "annotationdefaults": {
           "arrowcolor": "#2a3f5f",
           "arrowhead": 0,
           "arrowwidth": 1
          },
          "autotypenumbers": "strict",
          "coloraxis": {
           "colorbar": {
            "outlinewidth": 0,
            "ticks": ""
           }
          },
          "colorscale": {
           "diverging": [
            [
             0,
             "#8e0152"
            ],
            [
             0.1,
             "#c51b7d"
            ],
            [
             0.2,
             "#de77ae"
            ],
            [
             0.3,
             "#f1b6da"
            ],
            [
             0.4,
             "#fde0ef"
            ],
            [
             0.5,
             "#f7f7f7"
            ],
            [
             0.6,
             "#e6f5d0"
            ],
            [
             0.7,
             "#b8e186"
            ],
            [
             0.8,
             "#7fbc41"
            ],
            [
             0.9,
             "#4d9221"
            ],
            [
             1,
             "#276419"
            ]
           ],
           "sequential": [
            [
             0,
             "#0d0887"
            ],
            [
             0.1111111111111111,
             "#46039f"
            ],
            [
             0.2222222222222222,
             "#7201a8"
            ],
            [
             0.3333333333333333,
             "#9c179e"
            ],
            [
             0.4444444444444444,
             "#bd3786"
            ],
            [
             0.5555555555555556,
             "#d8576b"
            ],
            [
             0.6666666666666666,
             "#ed7953"
            ],
            [
             0.7777777777777778,
             "#fb9f3a"
            ],
            [
             0.8888888888888888,
             "#fdca26"
            ],
            [
             1,
             "#f0f921"
            ]
           ],
           "sequentialminus": [
            [
             0,
             "#0d0887"
            ],
            [
             0.1111111111111111,
             "#46039f"
            ],
            [
             0.2222222222222222,
             "#7201a8"
            ],
            [
             0.3333333333333333,
             "#9c179e"
            ],
            [
             0.4444444444444444,
             "#bd3786"
            ],
            [
             0.5555555555555556,
             "#d8576b"
            ],
            [
             0.6666666666666666,
             "#ed7953"
            ],
            [
             0.7777777777777778,
             "#fb9f3a"
            ],
            [
             0.8888888888888888,
             "#fdca26"
            ],
            [
             1,
             "#f0f921"
            ]
           ]
          },
          "colorway": [
           "#636efa",
           "#EF553B",
           "#00cc96",
           "#ab63fa",
           "#FFA15A",
           "#19d3f3",
           "#FF6692",
           "#B6E880",
           "#FF97FF",
           "#FECB52"
          ],
          "font": {
           "color": "#2a3f5f"
          },
          "geo": {
           "bgcolor": "white",
           "lakecolor": "white",
           "landcolor": "#E5ECF6",
           "showlakes": true,
           "showland": true,
           "subunitcolor": "white"
          },
          "hoverlabel": {
           "align": "left"
          },
          "hovermode": "closest",
          "mapbox": {
           "style": "light"
          },
          "paper_bgcolor": "white",
          "plot_bgcolor": "#E5ECF6",
          "polar": {
           "angularaxis": {
            "gridcolor": "white",
            "linecolor": "white",
            "ticks": ""
           },
           "bgcolor": "#E5ECF6",
           "radialaxis": {
            "gridcolor": "white",
            "linecolor": "white",
            "ticks": ""
           }
          },
          "scene": {
           "xaxis": {
            "backgroundcolor": "#E5ECF6",
            "gridcolor": "white",
            "gridwidth": 2,
            "linecolor": "white",
            "showbackground": true,
            "ticks": "",
            "zerolinecolor": "white"
           },
           "yaxis": {
            "backgroundcolor": "#E5ECF6",
            "gridcolor": "white",
            "gridwidth": 2,
            "linecolor": "white",
            "showbackground": true,
            "ticks": "",
            "zerolinecolor": "white"
           },
           "zaxis": {
            "backgroundcolor": "#E5ECF6",
            "gridcolor": "white",
            "gridwidth": 2,
            "linecolor": "white",
            "showbackground": true,
            "ticks": "",
            "zerolinecolor": "white"
           }
          },
          "shapedefaults": {
           "line": {
            "color": "#2a3f5f"
           }
          },
          "ternary": {
           "aaxis": {
            "gridcolor": "white",
            "linecolor": "white",
            "ticks": ""
           },
           "baxis": {
            "gridcolor": "white",
            "linecolor": "white",
            "ticks": ""
           },
           "bgcolor": "#E5ECF6",
           "caxis": {
            "gridcolor": "white",
            "linecolor": "white",
            "ticks": ""
           }
          },
          "title": {
           "x": 0.05
          },
          "xaxis": {
           "automargin": true,
           "gridcolor": "white",
           "linecolor": "white",
           "ticks": "",
           "title": {
            "standoff": 15
           },
           "zerolinecolor": "white",
           "zerolinewidth": 2
          },
          "yaxis": {
           "automargin": true,
           "gridcolor": "white",
           "linecolor": "white",
           "ticks": "",
           "title": {
            "standoff": 15
           },
           "zerolinecolor": "white",
           "zerolinewidth": 2
          }
         }
        },
        "title": {
         "text": "Execution time of ForecasterRecursive_predict_interval_conformal"
        },
        "xaxis": {
         "tickangle": -45,
         "tickmode": "array",
         "ticktext": [
          "0.14.0",
          "0.15.1",
          "0.16.0"
         ],
         "tickvals": [
          0,
          1,
          2
         ],
         "title": {
          "text": "skforecast version"
         }
        },
        "yaxis": {
         "title": {
          "text": "Execution time (seconds)"
         }
        }
       }
      }
     },
     "metadata": {},
     "output_type": "display_data"
    }
   ],
   "source": [
    "# Plot results\n",
    "# ==============================================================================\n",
    "display_df = False\n",
    "selected_date = None\n",
    "# 'Linux-6.11.0-24-generic-x86_64-with-glibc2.39'\n",
    "# 'Windows-10-10.0.19045-SP0'\n",
    "selected_platform = None\n",
    "\n",
    "results_benchmark_all = joblib.load(\"./benchmark.joblib\")\n",
    "results_benchmark = results_benchmark_all.query(\"forecaster_name in ['ForecasterRecursive', 'ForecasterAutoreg']\")\n",
    "results_benchmark = results_benchmark.query(\"regressor_name == 'LGBMRegressor'\")\n",
    "for function_name in results_benchmark['function_name'].unique():\n",
    "    df = results_benchmark.query(f\"function_name == '{function_name}'\")\n",
    "    if selected_date:\n",
    "        df = df[df['datetime'].dt.date == pd.to_datetime(selected_date).date()]\n",
    "    if selected_platform:\n",
    "        df = df[df['platform'] == selected_platform]\n",
    "    if display_df:\n",
    "        display(df.tail(3))\n",
    "    plot_benchmark_results(df.copy(), function_name, add_median=True, add_mean=True)"
   ]
  },
  {
   "cell_type": "markdown",
   "metadata": {},
   "source": [
    "# Summary of historical results"
   ]
  },
  {
   "cell_type": "code",
   "execution_count": 14,
   "metadata": {},
   "outputs": [
    {
     "data": {
      "application/vnd.plotly.v1+json": {
       "config": {
        "plotlyServerURL": "https://plot.ly"
       },
       "data": [
        {
         "alignmentgroup": "True",
         "hovertemplate": "skforecast_version=0.13.0<br>Function=%{x}<br>Median Run Time (s)=%{y}<extra></extra>",
         "legendgroup": "0.13.0",
         "marker": {
          "color": "#636efa",
          "pattern": {
           "shape": ""
          }
         },
         "name": "0.13.0",
         "offsetgroup": "0.13.0",
         "orientation": "v",
         "showlegend": true,
         "textposition": "auto",
         "type": "bar",
         "x": [
          "_check_predict_inputs",
          "_create_predict_inputs_exog_is_dict",
          "_create_train_X_y_series_is_dataframe_no_exog",
          "_create_train_X_y_series_is_dict_exog_is_dict",
          "_create_train_X_y_single_series",
          "fit_series_is_dataframe_no_exog",
          "fit_series_is_dict_exog_is_dict",
          "predict_exog_is_dict"
         ],
         "xaxis": "x",
         "y": {
          "bdata": "AAAAAAAA+H8AAAAAAAD4fwDoxC9PmwBAzQQ0zvToBEA0M7PAEcNfP2bKf73M5CZAAHbgsePfKEAajxIy7nhFQA==",
          "dtype": "f8"
         },
         "yaxis": "y"
        },
        {
         "alignmentgroup": "True",
         "hovertemplate": "skforecast_version=0.14.0<br>Function=%{x}<br>Median Run Time (s)=%{y}<extra></extra>",
         "legendgroup": "0.14.0",
         "marker": {
          "color": "#EF553B",
          "pattern": {
           "shape": ""
          }
         },
         "name": "0.14.0",
         "offsetgroup": "0.14.0",
         "orientation": "v",
         "showlegend": true,
         "textposition": "auto",
         "type": "bar",
         "x": [
          "_check_predict_inputs",
          "_create_predict_inputs_exog_is_dict",
          "_create_train_X_y_series_is_dataframe_exog_dict",
          "_create_train_X_y_series_is_dataframe_no_exog",
          "_create_train_X_y_series_is_dict_exog_is_dict",
          "_create_train_X_y_single_series",
          "backtesting_series_is_dataframe_no_exog",
          "backtesting_series_is_dict_exog_is_dict",
          "fit_series_is_dataframe_no_exog",
          "fit_series_is_dict_exog_is_dict",
          "predict_exog_is_dict",
          "predict_interval_exog_is_dict_conformal"
         ],
         "xaxis": "x",
         "y": {
          "bdata": "M7O3NRGx0j9mJomjP8T4P5oB0dEDjgRAZqaWXvhI+D8z00W3QREAQAAAgEnxFVc/zZz/FQGxJEDNrauiWTdBQJrBFb2NNCRAAMQtWM9cJkDNzC/PCM/6PwAAAAAAAPh/",
          "dtype": "f8"
         },
         "yaxis": "y"
        },
        {
         "alignmentgroup": "True",
         "hovertemplate": "skforecast_version=0.15.1<br>Function=%{x}<br>Median Run Time (s)=%{y}<extra></extra>",
         "legendgroup": "0.15.1",
         "marker": {
          "color": "#00cc96",
          "pattern": {
           "shape": ""
          }
         },
         "name": "0.15.1",
         "offsetgroup": "0.15.1",
         "orientation": "v",
         "showlegend": true,
         "textposition": "auto",
         "type": "bar",
         "x": [
          "_check_predict_inputs",
          "_create_predict_inputs_exog_is_dict",
          "_create_train_X_y_series_is_dataframe_exog_dict",
          "_create_train_X_y_series_is_dataframe_no_exog",
          "_create_train_X_y_series_is_dict_exog_is_dict",
          "_create_train_X_y_single_series",
          "backtesting_series_is_dataframe_exog_dict",
          "backtesting_series_is_dataframe_exog_dict_conformal",
          "backtesting_series_is_dataframe_no_exog",
          "backtesting_series_is_dict_exog_is_dict",
          "fit_series_is_dataframe_no_exog",
          "fit_series_is_dict_exog_is_dict",
          "predict_exog_is_dict"
         ],
         "xaxis": "x",
         "y": {
          "bdata": "NFNSXdsD0j8AeM1P7l34PzPrP2F6zgFAzXwWhvN19z/NDEIskU78P2ZmJuQZlFY/AM+Q5TVuRECaw8p5olZJQDMTYl+ZkClAM6eVvYIcQ0BmNj2lFNwlQJoHTwbejydAmvlfQ84E+z8=",
          "dtype": "f8"
         },
         "yaxis": "y"
        },
        {
         "alignmentgroup": "True",
         "hovertemplate": "skforecast_version=0.16.0<br>Function=%{x}<br>Median Run Time (s)=%{y}<extra></extra>",
         "legendgroup": "0.16.0",
         "marker": {
          "color": "#ab63fa",
          "pattern": {
           "shape": ""
          }
         },
         "name": "0.16.0",
         "offsetgroup": "0.16.0",
         "orientation": "v",
         "showlegend": true,
         "textposition": "auto",
         "type": "bar",
         "x": [
          "_check_predict_inputs",
          "_create_predict_inputs_exog_is_dict",
          "_create_train_X_y_series_is_dataframe_exog_dict",
          "_create_train_X_y_series_is_dataframe_no_exog",
          "_create_train_X_y_series_is_dict_exog_is_dict",
          "_create_train_X_y_single_series",
          "backtesting_series_is_dataframe_exog_dict",
          "backtesting_series_is_dataframe_exog_dict_conformal",
          "backtesting_series_is_dataframe_no_exog",
          "backtesting_series_is_dict_exog_is_dict",
          "fit_series_is_dataframe_no_exog",
          "fit_series_is_dict_exog_is_dict",
          "predict_exog_is_dict",
          "predict_interval_exog_is_dict_conformal"
         ],
         "xaxis": "x",
         "y": {
          "bdata": "zcyumleUsT+a2WzIzV3TP2bmzTlXSPk/mpl4/Eli8j+a+QUvkfr5PwAAABTNqE4/mpeu5JNmMEA0/QGuYh47QADU/fhgaytAAKQVFTEwNECa0YdYTLwfQDOPRb9j3CNAM3Niu6aw3D8AAAAAAAD4fw==",
          "dtype": "f8"
         },
         "yaxis": "y"
        }
       ],
       "layout": {
        "barmode": "group",
        "height": 600,
        "legend": {
         "title": {
          "text": "skforecast_version"
         },
         "tracegroupgap": 0
        },
        "template": {
         "data": {
          "bar": [
           {
            "error_x": {
             "color": "#2a3f5f"
            },
            "error_y": {
             "color": "#2a3f5f"
            },
            "marker": {
             "line": {
              "color": "#E5ECF6",
              "width": 0.5
             },
             "pattern": {
              "fillmode": "overlay",
              "size": 10,
              "solidity": 0.2
             }
            },
            "type": "bar"
           }
          ],
          "barpolar": [
           {
            "marker": {
             "line": {
              "color": "#E5ECF6",
              "width": 0.5
             },
             "pattern": {
              "fillmode": "overlay",
              "size": 10,
              "solidity": 0.2
             }
            },
            "type": "barpolar"
           }
          ],
          "carpet": [
           {
            "aaxis": {
             "endlinecolor": "#2a3f5f",
             "gridcolor": "white",
             "linecolor": "white",
             "minorgridcolor": "white",
             "startlinecolor": "#2a3f5f"
            },
            "baxis": {
             "endlinecolor": "#2a3f5f",
             "gridcolor": "white",
             "linecolor": "white",
             "minorgridcolor": "white",
             "startlinecolor": "#2a3f5f"
            },
            "type": "carpet"
           }
          ],
          "choropleth": [
           {
            "colorbar": {
             "outlinewidth": 0,
             "ticks": ""
            },
            "type": "choropleth"
           }
          ],
          "contour": [
           {
            "colorbar": {
             "outlinewidth": 0,
             "ticks": ""
            },
            "colorscale": [
             [
              0,
              "#0d0887"
             ],
             [
              0.1111111111111111,
              "#46039f"
             ],
             [
              0.2222222222222222,
              "#7201a8"
             ],
             [
              0.3333333333333333,
              "#9c179e"
             ],
             [
              0.4444444444444444,
              "#bd3786"
             ],
             [
              0.5555555555555556,
              "#d8576b"
             ],
             [
              0.6666666666666666,
              "#ed7953"
             ],
             [
              0.7777777777777778,
              "#fb9f3a"
             ],
             [
              0.8888888888888888,
              "#fdca26"
             ],
             [
              1,
              "#f0f921"
             ]
            ],
            "type": "contour"
           }
          ],
          "contourcarpet": [
           {
            "colorbar": {
             "outlinewidth": 0,
             "ticks": ""
            },
            "type": "contourcarpet"
           }
          ],
          "heatmap": [
           {
            "colorbar": {
             "outlinewidth": 0,
             "ticks": ""
            },
            "colorscale": [
             [
              0,
              "#0d0887"
             ],
             [
              0.1111111111111111,
              "#46039f"
             ],
             [
              0.2222222222222222,
              "#7201a8"
             ],
             [
              0.3333333333333333,
              "#9c179e"
             ],
             [
              0.4444444444444444,
              "#bd3786"
             ],
             [
              0.5555555555555556,
              "#d8576b"
             ],
             [
              0.6666666666666666,
              "#ed7953"
             ],
             [
              0.7777777777777778,
              "#fb9f3a"
             ],
             [
              0.8888888888888888,
              "#fdca26"
             ],
             [
              1,
              "#f0f921"
             ]
            ],
            "type": "heatmap"
           }
          ],
          "histogram": [
           {
            "marker": {
             "pattern": {
              "fillmode": "overlay",
              "size": 10,
              "solidity": 0.2
             }
            },
            "type": "histogram"
           }
          ],
          "histogram2d": [
           {
            "colorbar": {
             "outlinewidth": 0,
             "ticks": ""
            },
            "colorscale": [
             [
              0,
              "#0d0887"
             ],
             [
              0.1111111111111111,
              "#46039f"
             ],
             [
              0.2222222222222222,
              "#7201a8"
             ],
             [
              0.3333333333333333,
              "#9c179e"
             ],
             [
              0.4444444444444444,
              "#bd3786"
             ],
             [
              0.5555555555555556,
              "#d8576b"
             ],
             [
              0.6666666666666666,
              "#ed7953"
             ],
             [
              0.7777777777777778,
              "#fb9f3a"
             ],
             [
              0.8888888888888888,
              "#fdca26"
             ],
             [
              1,
              "#f0f921"
             ]
            ],
            "type": "histogram2d"
           }
          ],
          "histogram2dcontour": [
           {
            "colorbar": {
             "outlinewidth": 0,
             "ticks": ""
            },
            "colorscale": [
             [
              0,
              "#0d0887"
             ],
             [
              0.1111111111111111,
              "#46039f"
             ],
             [
              0.2222222222222222,
              "#7201a8"
             ],
             [
              0.3333333333333333,
              "#9c179e"
             ],
             [
              0.4444444444444444,
              "#bd3786"
             ],
             [
              0.5555555555555556,
              "#d8576b"
             ],
             [
              0.6666666666666666,
              "#ed7953"
             ],
             [
              0.7777777777777778,
              "#fb9f3a"
             ],
             [
              0.8888888888888888,
              "#fdca26"
             ],
             [
              1,
              "#f0f921"
             ]
            ],
            "type": "histogram2dcontour"
           }
          ],
          "mesh3d": [
           {
            "colorbar": {
             "outlinewidth": 0,
             "ticks": ""
            },
            "type": "mesh3d"
           }
          ],
          "parcoords": [
           {
            "line": {
             "colorbar": {
              "outlinewidth": 0,
              "ticks": ""
             }
            },
            "type": "parcoords"
           }
          ],
          "pie": [
           {
            "automargin": true,
            "type": "pie"
           }
          ],
          "scatter": [
           {
            "fillpattern": {
             "fillmode": "overlay",
             "size": 10,
             "solidity": 0.2
            },
            "type": "scatter"
           }
          ],
          "scatter3d": [
           {
            "line": {
             "colorbar": {
              "outlinewidth": 0,
              "ticks": ""
             }
            },
            "marker": {
             "colorbar": {
              "outlinewidth": 0,
              "ticks": ""
             }
            },
            "type": "scatter3d"
           }
          ],
          "scattercarpet": [
           {
            "marker": {
             "colorbar": {
              "outlinewidth": 0,
              "ticks": ""
             }
            },
            "type": "scattercarpet"
           }
          ],
          "scattergeo": [
           {
            "marker": {
             "colorbar": {
              "outlinewidth": 0,
              "ticks": ""
             }
            },
            "type": "scattergeo"
           }
          ],
          "scattergl": [
           {
            "marker": {
             "colorbar": {
              "outlinewidth": 0,
              "ticks": ""
             }
            },
            "type": "scattergl"
           }
          ],
          "scattermap": [
           {
            "marker": {
             "colorbar": {
              "outlinewidth": 0,
              "ticks": ""
             }
            },
            "type": "scattermap"
           }
          ],
          "scattermapbox": [
           {
            "marker": {
             "colorbar": {
              "outlinewidth": 0,
              "ticks": ""
             }
            },
            "type": "scattermapbox"
           }
          ],
          "scatterpolar": [
           {
            "marker": {
             "colorbar": {
              "outlinewidth": 0,
              "ticks": ""
             }
            },
            "type": "scatterpolar"
           }
          ],
          "scatterpolargl": [
           {
            "marker": {
             "colorbar": {
              "outlinewidth": 0,
              "ticks": ""
             }
            },
            "type": "scatterpolargl"
           }
          ],
          "scatterternary": [
           {
            "marker": {
             "colorbar": {
              "outlinewidth": 0,
              "ticks": ""
             }
            },
            "type": "scatterternary"
           }
          ],
          "surface": [
           {
            "colorbar": {
             "outlinewidth": 0,
             "ticks": ""
            },
            "colorscale": [
             [
              0,
              "#0d0887"
             ],
             [
              0.1111111111111111,
              "#46039f"
             ],
             [
              0.2222222222222222,
              "#7201a8"
             ],
             [
              0.3333333333333333,
              "#9c179e"
             ],
             [
              0.4444444444444444,
              "#bd3786"
             ],
             [
              0.5555555555555556,
              "#d8576b"
             ],
             [
              0.6666666666666666,
              "#ed7953"
             ],
             [
              0.7777777777777778,
              "#fb9f3a"
             ],
             [
              0.8888888888888888,
              "#fdca26"
             ],
             [
              1,
              "#f0f921"
             ]
            ],
            "type": "surface"
           }
          ],
          "table": [
           {
            "cells": {
             "fill": {
              "color": "#EBF0F8"
             },
             "line": {
              "color": "white"
             }
            },
            "header": {
             "fill": {
              "color": "#C8D4E3"
             },
             "line": {
              "color": "white"
             }
            },
            "type": "table"
           }
          ]
         },
         "layout": {
          "annotationdefaults": {
           "arrowcolor": "#2a3f5f",
           "arrowhead": 0,
           "arrowwidth": 1
          },
          "autotypenumbers": "strict",
          "coloraxis": {
           "colorbar": {
            "outlinewidth": 0,
            "ticks": ""
           }
          },
          "colorscale": {
           "diverging": [
            [
             0,
             "#8e0152"
            ],
            [
             0.1,
             "#c51b7d"
            ],
            [
             0.2,
             "#de77ae"
            ],
            [
             0.3,
             "#f1b6da"
            ],
            [
             0.4,
             "#fde0ef"
            ],
            [
             0.5,
             "#f7f7f7"
            ],
            [
             0.6,
             "#e6f5d0"
            ],
            [
             0.7,
             "#b8e186"
            ],
            [
             0.8,
             "#7fbc41"
            ],
            [
             0.9,
             "#4d9221"
            ],
            [
             1,
             "#276419"
            ]
           ],
           "sequential": [
            [
             0,
             "#0d0887"
            ],
            [
             0.1111111111111111,
             "#46039f"
            ],
            [
             0.2222222222222222,
             "#7201a8"
            ],
            [
             0.3333333333333333,
             "#9c179e"
            ],
            [
             0.4444444444444444,
             "#bd3786"
            ],
            [
             0.5555555555555556,
             "#d8576b"
            ],
            [
             0.6666666666666666,
             "#ed7953"
            ],
            [
             0.7777777777777778,
             "#fb9f3a"
            ],
            [
             0.8888888888888888,
             "#fdca26"
            ],
            [
             1,
             "#f0f921"
            ]
           ],
           "sequentialminus": [
            [
             0,
             "#0d0887"
            ],
            [
             0.1111111111111111,
             "#46039f"
            ],
            [
             0.2222222222222222,
             "#7201a8"
            ],
            [
             0.3333333333333333,
             "#9c179e"
            ],
            [
             0.4444444444444444,
             "#bd3786"
            ],
            [
             0.5555555555555556,
             "#d8576b"
            ],
            [
             0.6666666666666666,
             "#ed7953"
            ],
            [
             0.7777777777777778,
             "#fb9f3a"
            ],
            [
             0.8888888888888888,
             "#fdca26"
            ],
            [
             1,
             "#f0f921"
            ]
           ]
          },
          "colorway": [
           "#636efa",
           "#EF553B",
           "#00cc96",
           "#ab63fa",
           "#FFA15A",
           "#19d3f3",
           "#FF6692",
           "#B6E880",
           "#FF97FF",
           "#FECB52"
          ],
          "font": {
           "color": "#2a3f5f"
          },
          "geo": {
           "bgcolor": "white",
           "lakecolor": "white",
           "landcolor": "#E5ECF6",
           "showlakes": true,
           "showland": true,
           "subunitcolor": "white"
          },
          "hoverlabel": {
           "align": "left"
          },
          "hovermode": "closest",
          "mapbox": {
           "style": "light"
          },
          "paper_bgcolor": "white",
          "plot_bgcolor": "#E5ECF6",
          "polar": {
           "angularaxis": {
            "gridcolor": "white",
            "linecolor": "white",
            "ticks": ""
           },
           "bgcolor": "#E5ECF6",
           "radialaxis": {
            "gridcolor": "white",
            "linecolor": "white",
            "ticks": ""
           }
          },
          "scene": {
           "xaxis": {
            "backgroundcolor": "#E5ECF6",
            "gridcolor": "white",
            "gridwidth": 2,
            "linecolor": "white",
            "showbackground": true,
            "ticks": "",
            "zerolinecolor": "white"
           },
           "yaxis": {
            "backgroundcolor": "#E5ECF6",
            "gridcolor": "white",
            "gridwidth": 2,
            "linecolor": "white",
            "showbackground": true,
            "ticks": "",
            "zerolinecolor": "white"
           },
           "zaxis": {
            "backgroundcolor": "#E5ECF6",
            "gridcolor": "white",
            "gridwidth": 2,
            "linecolor": "white",
            "showbackground": true,
            "ticks": "",
            "zerolinecolor": "white"
           }
          },
          "shapedefaults": {
           "line": {
            "color": "#2a3f5f"
           }
          },
          "ternary": {
           "aaxis": {
            "gridcolor": "white",
            "linecolor": "white",
            "ticks": ""
           },
           "baxis": {
            "gridcolor": "white",
            "linecolor": "white",
            "ticks": ""
           },
           "bgcolor": "#E5ECF6",
           "caxis": {
            "gridcolor": "white",
            "linecolor": "white",
            "ticks": ""
           }
          },
          "title": {
           "x": 0.05
          },
          "xaxis": {
           "automargin": true,
           "gridcolor": "white",
           "linecolor": "white",
           "ticks": "",
           "title": {
            "standoff": 15
           },
           "zerolinecolor": "white",
           "zerolinewidth": 2
          },
          "yaxis": {
           "automargin": true,
           "gridcolor": "white",
           "linecolor": "white",
           "ticks": "",
           "title": {
            "standoff": 15
           },
           "zerolinecolor": "white",
           "zerolinewidth": 2
          }
         }
        },
        "title": {
         "text": "MultiSeries Forecasters - Median Run Time by Function and skforecast Version"
        },
        "xaxis": {
         "anchor": "y",
         "domain": [
          0,
          1
         ],
         "tickangle": -45,
         "title": {
          "text": "Function"
         }
        },
        "yaxis": {
         "anchor": "x",
         "domain": [
          0,
          1
         ],
         "title": {
          "text": "Median Run Time (s)"
         }
        }
       }
      }
     },
     "metadata": {},
     "output_type": "display_data"
    },
    {
     "data": {
      "application/vnd.plotly.v1+json": {
       "config": {
        "plotlyServerURL": "https://plot.ly"
       },
       "data": [
        {
         "alignmentgroup": "True",
         "hovertemplate": "skforecast_version=0.13.0<br>Function=%{x}<br>Median Run Time (s)=%{y}<extra></extra>",
         "legendgroup": "0.13.0",
         "marker": {
          "color": "#636efa",
          "pattern": {
           "shape": ""
          }
         },
         "name": "0.13.0",
         "offsetgroup": "0.13.0",
         "orientation": "v",
         "showlegend": true,
         "textposition": "auto",
         "type": "bar",
         "x": [
          "_create_predict_inputs",
          "_create_train_X_y",
          "fit",
          "predict"
         ],
         "xaxis": "x",
         "y": {
          "bdata": "AAAAAAAA+H+amVmPiNxtPzMzxyKeDM0/AABYXS1tsj8=",
          "dtype": "f8"
         },
         "yaxis": "y"
        },
        {
         "alignmentgroup": "True",
         "hovertemplate": "skforecast_version=0.14.0<br>Function=%{x}<br>Median Run Time (s)=%{y}<extra></extra>",
         "legendgroup": "0.14.0",
         "marker": {
          "color": "#EF553B",
          "pattern": {
           "shape": ""
          }
         },
         "name": "0.14.0",
         "offsetgroup": "0.14.0",
         "orientation": "v",
         "showlegend": true,
         "textposition": "auto",
         "type": "bar",
         "x": [
          "_create_predict_inputs",
          "_create_train_X_y",
          "backtesting",
          "backtesting_conformal",
          "fit",
          "predict",
          "predict_interval_conformal"
         ],
         "xaxis": "x",
         "y": {
          "bdata": "RETUPot1Zz+amRlELituP5oZiOwA4uU/AAAAAAAA+H9mZt1+LfLKP5qZCd8dD7E/AAAAAAAA+H8=",
          "dtype": "f8"
         },
         "yaxis": "y"
        },
        {
         "alignmentgroup": "True",
         "hovertemplate": "skforecast_version=0.15.1<br>Function=%{x}<br>Median Run Time (s)=%{y}<extra></extra>",
         "legendgroup": "0.15.1",
         "marker": {
          "color": "#00cc96",
          "pattern": {
           "shape": ""
          }
         },
         "name": "0.15.1",
         "offsetgroup": "0.15.1",
         "orientation": "v",
         "showlegend": true,
         "textposition": "auto",
         "type": "bar",
         "x": [
          "_create_predict_inputs",
          "_create_train_X_y",
          "backtesting",
          "backtesting_conformal",
          "fit",
          "predict",
          "predict_interval_conformal"
         ],
         "xaxis": "x",
         "y": {
          "bdata": "MzMzQl/OZT/NzFzsUBJoPzPzIRQACOY/AECiVjVN6T+aWVq29YvIPyIi2kE+C64/7+6LMzVMsT8=",
          "dtype": "f8"
         },
         "yaxis": "y"
        },
        {
         "alignmentgroup": "True",
         "hovertemplate": "skforecast_version=0.16.0<br>Function=%{x}<br>Median Run Time (s)=%{y}<extra></extra>",
         "legendgroup": "0.16.0",
         "marker": {
          "color": "#ab63fa",
          "pattern": {
           "shape": ""
          }
         },
         "name": "0.16.0",
         "offsetgroup": "0.16.0",
         "orientation": "v",
         "showlegend": true,
         "textposition": "auto",
         "type": "bar",
         "x": [
          "_create_predict_inputs",
          "_create_train_X_y",
          "backtesting",
          "backtesting_conformal",
          "fit",
          "predict",
          "predict_interval_conformal"
         ],
         "xaxis": "x",
         "y": {
          "bdata": "3t19gGOEYj+JiMikI2F3PwBAOsd3j+Y/MzPu7FZP5z8zM44NjHzLP+/uMoklY7A/zczEXvuPsD8=",
          "dtype": "f8"
         },
         "yaxis": "y"
        }
       ],
       "layout": {
        "barmode": "group",
        "legend": {
         "title": {
          "text": "skforecast_version"
         },
         "tracegroupgap": 0
        },
        "template": {
         "data": {
          "bar": [
           {
            "error_x": {
             "color": "#2a3f5f"
            },
            "error_y": {
             "color": "#2a3f5f"
            },
            "marker": {
             "line": {
              "color": "#E5ECF6",
              "width": 0.5
             },
             "pattern": {
              "fillmode": "overlay",
              "size": 10,
              "solidity": 0.2
             }
            },
            "type": "bar"
           }
          ],
          "barpolar": [
           {
            "marker": {
             "line": {
              "color": "#E5ECF6",
              "width": 0.5
             },
             "pattern": {
              "fillmode": "overlay",
              "size": 10,
              "solidity": 0.2
             }
            },
            "type": "barpolar"
           }
          ],
          "carpet": [
           {
            "aaxis": {
             "endlinecolor": "#2a3f5f",
             "gridcolor": "white",
             "linecolor": "white",
             "minorgridcolor": "white",
             "startlinecolor": "#2a3f5f"
            },
            "baxis": {
             "endlinecolor": "#2a3f5f",
             "gridcolor": "white",
             "linecolor": "white",
             "minorgridcolor": "white",
             "startlinecolor": "#2a3f5f"
            },
            "type": "carpet"
           }
          ],
          "choropleth": [
           {
            "colorbar": {
             "outlinewidth": 0,
             "ticks": ""
            },
            "type": "choropleth"
           }
          ],
          "contour": [
           {
            "colorbar": {
             "outlinewidth": 0,
             "ticks": ""
            },
            "colorscale": [
             [
              0,
              "#0d0887"
             ],
             [
              0.1111111111111111,
              "#46039f"
             ],
             [
              0.2222222222222222,
              "#7201a8"
             ],
             [
              0.3333333333333333,
              "#9c179e"
             ],
             [
              0.4444444444444444,
              "#bd3786"
             ],
             [
              0.5555555555555556,
              "#d8576b"
             ],
             [
              0.6666666666666666,
              "#ed7953"
             ],
             [
              0.7777777777777778,
              "#fb9f3a"
             ],
             [
              0.8888888888888888,
              "#fdca26"
             ],
             [
              1,
              "#f0f921"
             ]
            ],
            "type": "contour"
           }
          ],
          "contourcarpet": [
           {
            "colorbar": {
             "outlinewidth": 0,
             "ticks": ""
            },
            "type": "contourcarpet"
           }
          ],
          "heatmap": [
           {
            "colorbar": {
             "outlinewidth": 0,
             "ticks": ""
            },
            "colorscale": [
             [
              0,
              "#0d0887"
             ],
             [
              0.1111111111111111,
              "#46039f"
             ],
             [
              0.2222222222222222,
              "#7201a8"
             ],
             [
              0.3333333333333333,
              "#9c179e"
             ],
             [
              0.4444444444444444,
              "#bd3786"
             ],
             [
              0.5555555555555556,
              "#d8576b"
             ],
             [
              0.6666666666666666,
              "#ed7953"
             ],
             [
              0.7777777777777778,
              "#fb9f3a"
             ],
             [
              0.8888888888888888,
              "#fdca26"
             ],
             [
              1,
              "#f0f921"
             ]
            ],
            "type": "heatmap"
           }
          ],
          "histogram": [
           {
            "marker": {
             "pattern": {
              "fillmode": "overlay",
              "size": 10,
              "solidity": 0.2
             }
            },
            "type": "histogram"
           }
          ],
          "histogram2d": [
           {
            "colorbar": {
             "outlinewidth": 0,
             "ticks": ""
            },
            "colorscale": [
             [
              0,
              "#0d0887"
             ],
             [
              0.1111111111111111,
              "#46039f"
             ],
             [
              0.2222222222222222,
              "#7201a8"
             ],
             [
              0.3333333333333333,
              "#9c179e"
             ],
             [
              0.4444444444444444,
              "#bd3786"
             ],
             [
              0.5555555555555556,
              "#d8576b"
             ],
             [
              0.6666666666666666,
              "#ed7953"
             ],
             [
              0.7777777777777778,
              "#fb9f3a"
             ],
             [
              0.8888888888888888,
              "#fdca26"
             ],
             [
              1,
              "#f0f921"
             ]
            ],
            "type": "histogram2d"
           }
          ],
          "histogram2dcontour": [
           {
            "colorbar": {
             "outlinewidth": 0,
             "ticks": ""
            },
            "colorscale": [
             [
              0,
              "#0d0887"
             ],
             [
              0.1111111111111111,
              "#46039f"
             ],
             [
              0.2222222222222222,
              "#7201a8"
             ],
             [
              0.3333333333333333,
              "#9c179e"
             ],
             [
              0.4444444444444444,
              "#bd3786"
             ],
             [
              0.5555555555555556,
              "#d8576b"
             ],
             [
              0.6666666666666666,
              "#ed7953"
             ],
             [
              0.7777777777777778,
              "#fb9f3a"
             ],
             [
              0.8888888888888888,
              "#fdca26"
             ],
             [
              1,
              "#f0f921"
             ]
            ],
            "type": "histogram2dcontour"
           }
          ],
          "mesh3d": [
           {
            "colorbar": {
             "outlinewidth": 0,
             "ticks": ""
            },
            "type": "mesh3d"
           }
          ],
          "parcoords": [
           {
            "line": {
             "colorbar": {
              "outlinewidth": 0,
              "ticks": ""
             }
            },
            "type": "parcoords"
           }
          ],
          "pie": [
           {
            "automargin": true,
            "type": "pie"
           }
          ],
          "scatter": [
           {
            "fillpattern": {
             "fillmode": "overlay",
             "size": 10,
             "solidity": 0.2
            },
            "type": "scatter"
           }
          ],
          "scatter3d": [
           {
            "line": {
             "colorbar": {
              "outlinewidth": 0,
              "ticks": ""
             }
            },
            "marker": {
             "colorbar": {
              "outlinewidth": 0,
              "ticks": ""
             }
            },
            "type": "scatter3d"
           }
          ],
          "scattercarpet": [
           {
            "marker": {
             "colorbar": {
              "outlinewidth": 0,
              "ticks": ""
             }
            },
            "type": "scattercarpet"
           }
          ],
          "scattergeo": [
           {
            "marker": {
             "colorbar": {
              "outlinewidth": 0,
              "ticks": ""
             }
            },
            "type": "scattergeo"
           }
          ],
          "scattergl": [
           {
            "marker": {
             "colorbar": {
              "outlinewidth": 0,
              "ticks": ""
             }
            },
            "type": "scattergl"
           }
          ],
          "scattermap": [
           {
            "marker": {
             "colorbar": {
              "outlinewidth": 0,
              "ticks": ""
             }
            },
            "type": "scattermap"
           }
          ],
          "scattermapbox": [
           {
            "marker": {
             "colorbar": {
              "outlinewidth": 0,
              "ticks": ""
             }
            },
            "type": "scattermapbox"
           }
          ],
          "scatterpolar": [
           {
            "marker": {
             "colorbar": {
              "outlinewidth": 0,
              "ticks": ""
             }
            },
            "type": "scatterpolar"
           }
          ],
          "scatterpolargl": [
           {
            "marker": {
             "colorbar": {
              "outlinewidth": 0,
              "ticks": ""
             }
            },
            "type": "scatterpolargl"
           }
          ],
          "scatterternary": [
           {
            "marker": {
             "colorbar": {
              "outlinewidth": 0,
              "ticks": ""
             }
            },
            "type": "scatterternary"
           }
          ],
          "surface": [
           {
            "colorbar": {
             "outlinewidth": 0,
             "ticks": ""
            },
            "colorscale": [
             [
              0,
              "#0d0887"
             ],
             [
              0.1111111111111111,
              "#46039f"
             ],
             [
              0.2222222222222222,
              "#7201a8"
             ],
             [
              0.3333333333333333,
              "#9c179e"
             ],
             [
              0.4444444444444444,
              "#bd3786"
             ],
             [
              0.5555555555555556,
              "#d8576b"
             ],
             [
              0.6666666666666666,
              "#ed7953"
             ],
             [
              0.7777777777777778,
              "#fb9f3a"
             ],
             [
              0.8888888888888888,
              "#fdca26"
             ],
             [
              1,
              "#f0f921"
             ]
            ],
            "type": "surface"
           }
          ],
          "table": [
           {
            "cells": {
             "fill": {
              "color": "#EBF0F8"
             },
             "line": {
              "color": "white"
             }
            },
            "header": {
             "fill": {
              "color": "#C8D4E3"
             },
             "line": {
              "color": "white"
             }
            },
            "type": "table"
           }
          ]
         },
         "layout": {
          "annotationdefaults": {
           "arrowcolor": "#2a3f5f",
           "arrowhead": 0,
           "arrowwidth": 1
          },
          "autotypenumbers": "strict",
          "coloraxis": {
           "colorbar": {
            "outlinewidth": 0,
            "ticks": ""
           }
          },
          "colorscale": {
           "diverging": [
            [
             0,
             "#8e0152"
            ],
            [
             0.1,
             "#c51b7d"
            ],
            [
             0.2,
             "#de77ae"
            ],
            [
             0.3,
             "#f1b6da"
            ],
            [
             0.4,
             "#fde0ef"
            ],
            [
             0.5,
             "#f7f7f7"
            ],
            [
             0.6,
             "#e6f5d0"
            ],
            [
             0.7,
             "#b8e186"
            ],
            [
             0.8,
             "#7fbc41"
            ],
            [
             0.9,
             "#4d9221"
            ],
            [
             1,
             "#276419"
            ]
           ],
           "sequential": [
            [
             0,
             "#0d0887"
            ],
            [
             0.1111111111111111,
             "#46039f"
            ],
            [
             0.2222222222222222,
             "#7201a8"
            ],
            [
             0.3333333333333333,
             "#9c179e"
            ],
            [
             0.4444444444444444,
             "#bd3786"
            ],
            [
             0.5555555555555556,
             "#d8576b"
            ],
            [
             0.6666666666666666,
             "#ed7953"
            ],
            [
             0.7777777777777778,
             "#fb9f3a"
            ],
            [
             0.8888888888888888,
             "#fdca26"
            ],
            [
             1,
             "#f0f921"
            ]
           ],
           "sequentialminus": [
            [
             0,
             "#0d0887"
            ],
            [
             0.1111111111111111,
             "#46039f"
            ],
            [
             0.2222222222222222,
             "#7201a8"
            ],
            [
             0.3333333333333333,
             "#9c179e"
            ],
            [
             0.4444444444444444,
             "#bd3786"
            ],
            [
             0.5555555555555556,
             "#d8576b"
            ],
            [
             0.6666666666666666,
             "#ed7953"
            ],
            [
             0.7777777777777778,
             "#fb9f3a"
            ],
            [
             0.8888888888888888,
             "#fdca26"
            ],
            [
             1,
             "#f0f921"
            ]
           ]
          },
          "colorway": [
           "#636efa",
           "#EF553B",
           "#00cc96",
           "#ab63fa",
           "#FFA15A",
           "#19d3f3",
           "#FF6692",
           "#B6E880",
           "#FF97FF",
           "#FECB52"
          ],
          "font": {
           "color": "#2a3f5f"
          },
          "geo": {
           "bgcolor": "white",
           "lakecolor": "white",
           "landcolor": "#E5ECF6",
           "showlakes": true,
           "showland": true,
           "subunitcolor": "white"
          },
          "hoverlabel": {
           "align": "left"
          },
          "hovermode": "closest",
          "mapbox": {
           "style": "light"
          },
          "paper_bgcolor": "white",
          "plot_bgcolor": "#E5ECF6",
          "polar": {
           "angularaxis": {
            "gridcolor": "white",
            "linecolor": "white",
            "ticks": ""
           },
           "bgcolor": "#E5ECF6",
           "radialaxis": {
            "gridcolor": "white",
            "linecolor": "white",
            "ticks": ""
           }
          },
          "scene": {
           "xaxis": {
            "backgroundcolor": "#E5ECF6",
            "gridcolor": "white",
            "gridwidth": 2,
            "linecolor": "white",
            "showbackground": true,
            "ticks": "",
            "zerolinecolor": "white"
           },
           "yaxis": {
            "backgroundcolor": "#E5ECF6",
            "gridcolor": "white",
            "gridwidth": 2,
            "linecolor": "white",
            "showbackground": true,
            "ticks": "",
            "zerolinecolor": "white"
           },
           "zaxis": {
            "backgroundcolor": "#E5ECF6",
            "gridcolor": "white",
            "gridwidth": 2,
            "linecolor": "white",
            "showbackground": true,
            "ticks": "",
            "zerolinecolor": "white"
           }
          },
          "shapedefaults": {
           "line": {
            "color": "#2a3f5f"
           }
          },
          "ternary": {
           "aaxis": {
            "gridcolor": "white",
            "linecolor": "white",
            "ticks": ""
           },
           "baxis": {
            "gridcolor": "white",
            "linecolor": "white",
            "ticks": ""
           },
           "bgcolor": "#E5ECF6",
           "caxis": {
            "gridcolor": "white",
            "linecolor": "white",
            "ticks": ""
           }
          },
          "title": {
           "x": 0.05
          },
          "xaxis": {
           "automargin": true,
           "gridcolor": "white",
           "linecolor": "white",
           "ticks": "",
           "title": {
            "standoff": 15
           },
           "zerolinecolor": "white",
           "zerolinewidth": 2
          },
          "yaxis": {
           "automargin": true,
           "gridcolor": "white",
           "linecolor": "white",
           "ticks": "",
           "title": {
            "standoff": 15
           },
           "zerolinecolor": "white",
           "zerolinewidth": 2
          }
         }
        },
        "title": {
         "text": "Single-Series Forecasters - Median Run Time by Function and skforecast Version"
        },
        "xaxis": {
         "anchor": "y",
         "domain": [
          0,
          1
         ],
         "tickangle": -45,
         "title": {
          "text": "Function"
         }
        },
        "yaxis": {
         "anchor": "x",
         "domain": [
          0,
          1
         ],
         "title": {
          "text": "Median Run Time (s)"
         }
        }
       }
      }
     },
     "metadata": {},
     "output_type": "display_data"
    }
   ],
   "source": [
    "selected_date = None\n",
    "# 'Linux-6.11.0-24-generic-x86_64-with-glibc2.39'\n",
    "# 'Windows-10-10.0.19045-SP0'\n",
    "selected_platform = None\n",
    "\n",
    "results_benchmark_all = joblib.load(\"./benchmark.joblib\")\n",
    "results_benchmark_all['function_name'] = results_benchmark_all['function_name'].str.split('_', n=1).str[1]\n",
    "if selected_date:\n",
    "    results_benchmark_all = results_benchmark_all.query(\"datetime.dt.date == @selected_date\")\n",
    "if selected_platform:\n",
    "    results_benchmark_all = results_benchmark_all.query(\"platform == @selected_platform\")\n",
    "results_benchmark_all = results_benchmark_all.groupby(['forecaster_name', 'skforecast_version', 'function_name'])['run_time_avg'].agg('median').reset_index()\n",
    "results_benchmark_all = results_benchmark_all.sort_values(by=['function_name'])\n",
    "\n",
    "fig = px.bar(\n",
    "    results_benchmark_all.query(\"forecaster_name in ['ForecasterRecursiveMultiSeries', 'ForecasterAutoregMultiSeries']\"),\n",
    "    x='function_name',\n",
    "    y='run_time_avg',\n",
    "    color='skforecast_version',\n",
    "    barmode='group',\n",
    "    title='MultiSeries Forecasters - Median Run Time by Function and skforecast Version',\n",
    "    labels={'run_time_avg': 'Median Run Time (s)', 'function_name': 'Function'},\n",
    "    category_orders={'skforecast_version': sorted(results_benchmark_all['skforecast_version'].unique())}\n",
    ")\n",
    "fig.update_layout(xaxis_tickangle=-45, height=600)\n",
    "fig.show()\n",
    "\n",
    "fig = px.bar(\n",
    "    results_benchmark_all.query(\"forecaster_name in ['ForecasterRecursive', 'ForecasterAutoreg']\"),\n",
    "    x='function_name',\n",
    "    y='run_time_avg',\n",
    "    color='skforecast_version',\n",
    "    barmode='group',\n",
    "    title='Single-Series Forecasters - Median Run Time by Function and skforecast Version',\n",
    "    labels={'run_time_avg': 'Median Run Time (s)', 'function_name': 'Function'},\n",
    "    category_orders={'skforecast_version': sorted(results_benchmark_all['skforecast_version'].unique())}\n",
    ")\n",
    "fig.update_layout(xaxis_tickangle=-45)\n",
    "fig.show()\n"
   ]
  }
 ],
 "metadata": {
  "kernelspec": {
   "display_name": "skforecast_16_py12",
   "language": "python",
   "name": "python3"
  },
  "language_info": {
   "codemirror_mode": {
    "name": "ipython",
    "version": 3
   },
   "file_extension": ".py",
   "mimetype": "text/x-python",
   "name": "python",
   "nbconvert_exporter": "python",
   "pygments_lexer": "ipython3",
   "version": "3.12.9"
  },
  "orig_nbformat": 4
 },
 "nbformat": 4,
 "nbformat_minor": 2
}
