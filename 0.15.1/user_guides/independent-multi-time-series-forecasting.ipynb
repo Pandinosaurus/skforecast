{
 "cells": [
  {
   "attachments": {},
   "cell_type": "markdown",
   "id": "28fd5b27",
   "metadata": {},
   "source": [
    "# Global Forecasting Models: Independent multi-series forecasting\n",
    "\n",
    "[Univariate time series forecasting](../introduction-forecasting/introduction-forecasting.html) models a single time series as a linear or nonlinear combination of its lags, using past values of the series to predict its future. Global forecasting, involves building a single predictive model that considers all time series simultaneously. It attempts to capture the core patterns that govern the series, thereby mitigating the potential noise that each series might introduce. This approach is computationally efficient, easy to maintain, and can yield more robust generalizations across time series.\n",
    "\n",
    "In **independent multi-series forecasting** a single model is trained for all time series, but each time series remains independent of the others, meaning that past values of one series are not used as predictors of other series. However, modeling them together is useful because the series may follow the same intrinsic pattern regarding their past and future values. For instance, the sales of products A and B in the same store may not be related, but they follow the same dynamics, that of the store.\n",
    "\n",
    "<p style=\"text-align: center\">\n",
    "<img src=\"../img/forecaster_multi_series_train_matrix_diagram.png\" style=\"width: 700px\">\n",
    "<br>\n",
    "<font size=\"2.5\"> <i>Internal Forecaster transformation of two time series and an exogenous variable into the matrices needed to train a machine learning model in a multi-series context.</i></font>\n",
    "</p>\n",
    "\n",
    "To predict the next *n* steps, the strategy of [recursive multi-step forecasting](../introduction-forecasting/introduction-forecasting.html#recursive-multi-step-forecasting) is applied, with the only difference being that the series name for which to estimate the predictions needs to be indicated.\n",
    "\n",
    "<p style=\"text-align: center\">\n",
    "<img src=\"../img/forecaster_multi_series_prediction_diagram.png\" style=\"width: 700px\">\n",
    "<br>\n",
    "<font size=\"2.5\"> <i>Diagram of recursive forecasting with multiple independent time series.</i></font>\n",
    "</p>\n",
    "\n",
    "Using the <code>ForecasterRecursiveMultiSeries</code> it is possible to easily build machine learning models for independent multi-series forecasting."
   ]
  },
  {
   "cell_type": "markdown",
   "id": "3c561e7a",
   "metadata": {},
   "source": [
    "<div class=\"admonition note\" name=\"html-admonition\" style=\"background: rgba(0,184,212,.1); padding-top: 0px; padding-bottom: 6px; border-radius: 8px; border-left: 8px solid #00b8d4; border-color: #00b8d4; padding-left: 10px; padding-right: 10px;\">\n",
    "\n",
    "<p class=\"title\">\n",
    "    <i style=\"font-size: 18px; color:#00b8d4;\"></i>\n",
    "    <b style=\"color: #00b8d4;\">&#9998 Note</b>\n",
    "</p>\n",
    "\n",
    "Skforecast offers additional approaches to building global forecasting models:\n",
    "\n",
    "<ul>\n",
    "    <li>\n",
    "    <a href=\"../user_guides/multi-series-with-different-length-and-different_exog.html\">Global Forecasting Models: Time series with different lengths and different exogenous variables</a>\n",
    "    </li>\n",
    "    <li>\n",
    "    <a href=\"../user_guides/dependent-multi-series-multivariate-forecasting.html\">Global Forecasting Models: Dependent multi-series forecasting (Multivariate forecasting)</a>\n",
    "    </li>\n",
    "    <li>\n",
    "    <a href=\"../user_guides/forecasting-with-deep-learning-rnn-lstm.html\">Global Forecasting Models: Forecasting with Deep Learning</a>\n",
    "    </li>\n",
    "</ul>\n",
    "\n",
    "\n",
    "To learn more about global forecasting models visit our examples:\n",
    "\n",
    "<ul>\n",
    "    <li>\n",
    "    <a href=\"https://www.cienciadedatos.net/documentos/py44-multi-series-forecasting-skforecast.html\">Global Forecasting Models: Multi-series forecasting with Python and skforecast</a>\n",
    "    </li>\n",
    "    <li>\n",
    "    <a href=\"https://www.cienciadedatos.net/documentos/py59-scalable-forecasting-models.html\">Scalable Forecasting: Modeling thousand time series with a single global model</a>\n",
    "    </li>\n",
    "    <li>\n",
    "    <a href=\"https://cienciadedatos.net/documentos/py53-global-forecasting-models\">Global Forecasting Models: Comparative Analysis of Single and Multi-Series Forecasting Modeling</a>\n",
    "    </li>\n",
    "    <li>\n",
    "    <a href=\"https://cienciadedatos.net/documentos/py54-forecasting-with-deep-learning\">Forecasting with Deep Learning</a>\n",
    "    </li>\n",
    "</ul>\n",
    "\n",
    "</div>"
   ]
  },
  {
   "attachments": {},
   "cell_type": "markdown",
   "id": "77a4bb4b",
   "metadata": {},
   "source": [
    "## Libraries and data"
   ]
  },
  {
   "cell_type": "code",
   "execution_count": 1,
   "id": "b15fba42",
   "metadata": {
    "ExecuteTime": {
     "end_time": "2022-09-20T10:50:15.488670Z",
     "start_time": "2022-09-20T10:50:15.468737Z"
    }
   },
   "outputs": [],
   "source": [
    "# Libraries\n",
    "# ==============================================================================\n",
    "import numpy as np\n",
    "import pandas as pd\n",
    "import matplotlib.pyplot as plt\n",
    "from sklearn.preprocessing import StandardScaler, MinMaxScaler\n",
    "from sklearn.metrics import mean_absolute_error\n",
    "from lightgbm import LGBMRegressor\n",
    "from skforecast.datasets import fetch_dataset\n",
    "from skforecast.preprocessing import RollingFeatures\n",
    "from skforecast.recursive import ForecasterRecursiveMultiSeries\n",
    "from skforecast.model_selection import (\n",
    "    TimeSeriesFold,\n",
    "    backtesting_forecaster_multiseries,\n",
    "    grid_search_forecaster_multiseries,\n",
    "    bayesian_search_forecaster_multiseries\n",
    ")\n",
    "from skforecast.plot import set_dark_theme"
   ]
  },
  {
   "cell_type": "code",
   "execution_count": 2,
   "id": "0c0024f6-5d9b-4e0d-a332-dfb71280d7e3",
   "metadata": {
    "ExecuteTime": {
     "end_time": "2022-09-20T09:48:03.761722Z",
     "start_time": "2022-09-20T09:48:02.297714Z"
    }
   },
   "outputs": [
    {
     "name": "stdout",
     "output_type": "stream",
     "text": [
      "items_sales\n",
      "-----------\n",
      "Simulated time series for the sales of 3 different items.\n",
      "Simulated data.\n",
      "Shape of the dataset: (1097, 3)\n"
     ]
    },
    {
     "data": {
      "application/vnd.microsoft.datawrangler.viewer.v0+json": {
       "columns": [
        {
         "name": "date",
         "rawType": "datetime64[ns]",
         "type": "datetime"
        },
        {
         "name": "item_1",
         "rawType": "float64",
         "type": "float"
        },
        {
         "name": "item_2",
         "rawType": "float64",
         "type": "float"
        },
        {
         "name": "item_3",
         "rawType": "float64",
         "type": "float"
        }
       ],
       "conversionMethod": "pd.DataFrame",
       "ref": "01b371bf-7bb8-46f3-8a95-dd1fc8b72c24",
       "rows": [
        [
         "2012-01-01 00:00:00",
         "8.2531745918",
         "21.047727272727272",
         "19.42973946376865"
        ],
        [
         "2012-01-02 00:00:00",
         "22.7778257304",
         "26.578125",
         "28.00986308040715"
        ],
        [
         "2012-01-03 00:00:00",
         "27.5490988882",
         "31.751041666666666",
         "32.0789220997037"
        ],
        [
         "2012-01-04 00:00:00",
         "25.8955329422",
         "24.56770833333333",
         "27.25227557993816"
        ],
        [
         "2012-01-05 00:00:00",
         "21.3792376946",
         "18.191666666666663",
         "20.35773678098677"
        ]
       ],
       "shape": {
        "columns": 3,
        "rows": 5
       }
      },
      "text/html": [
       "<div>\n",
       "<style scoped>\n",
       "    .dataframe tbody tr th:only-of-type {\n",
       "        vertical-align: middle;\n",
       "    }\n",
       "\n",
       "    .dataframe tbody tr th {\n",
       "        vertical-align: top;\n",
       "    }\n",
       "\n",
       "    .dataframe thead th {\n",
       "        text-align: right;\n",
       "    }\n",
       "</style>\n",
       "<table border=\"1\" class=\"dataframe\">\n",
       "  <thead>\n",
       "    <tr style=\"text-align: right;\">\n",
       "      <th></th>\n",
       "      <th>item_1</th>\n",
       "      <th>item_2</th>\n",
       "      <th>item_3</th>\n",
       "    </tr>\n",
       "    <tr>\n",
       "      <th>date</th>\n",
       "      <th></th>\n",
       "      <th></th>\n",
       "      <th></th>\n",
       "    </tr>\n",
       "  </thead>\n",
       "  <tbody>\n",
       "    <tr>\n",
       "      <th>2012-01-01</th>\n",
       "      <td>8.253175</td>\n",
       "      <td>21.047727</td>\n",
       "      <td>19.429739</td>\n",
       "    </tr>\n",
       "    <tr>\n",
       "      <th>2012-01-02</th>\n",
       "      <td>22.777826</td>\n",
       "      <td>26.578125</td>\n",
       "      <td>28.009863</td>\n",
       "    </tr>\n",
       "    <tr>\n",
       "      <th>2012-01-03</th>\n",
       "      <td>27.549099</td>\n",
       "      <td>31.751042</td>\n",
       "      <td>32.078922</td>\n",
       "    </tr>\n",
       "    <tr>\n",
       "      <th>2012-01-04</th>\n",
       "      <td>25.895533</td>\n",
       "      <td>24.567708</td>\n",
       "      <td>27.252276</td>\n",
       "    </tr>\n",
       "    <tr>\n",
       "      <th>2012-01-05</th>\n",
       "      <td>21.379238</td>\n",
       "      <td>18.191667</td>\n",
       "      <td>20.357737</td>\n",
       "    </tr>\n",
       "  </tbody>\n",
       "</table>\n",
       "</div>"
      ],
      "text/plain": [
       "               item_1     item_2     item_3\n",
       "date                                       \n",
       "2012-01-01   8.253175  21.047727  19.429739\n",
       "2012-01-02  22.777826  26.578125  28.009863\n",
       "2012-01-03  27.549099  31.751042  32.078922\n",
       "2012-01-04  25.895533  24.567708  27.252276\n",
       "2012-01-05  21.379238  18.191667  20.357737"
      ]
     },
     "execution_count": 2,
     "metadata": {},
     "output_type": "execute_result"
    }
   ],
   "source": [
    "# Data download\n",
    "# ==============================================================================\n",
    "data = fetch_dataset(name=\"items_sales\")\n",
    "data.head()"
   ]
  },
  {
   "cell_type": "code",
   "execution_count": 3,
   "id": "9eca9251",
   "metadata": {
    "ExecuteTime": {
     "end_time": "2022-09-20T09:48:06.136685Z",
     "start_time": "2022-09-20T09:48:06.122785Z"
    }
   },
   "outputs": [
    {
     "name": "stdout",
     "output_type": "stream",
     "text": [
      "Train dates : 2012-01-01 00:00:00 --- 2014-07-15 00:00:00   (n=927)\n",
      "Test dates  : 2014-07-16 00:00:00 --- 2015-01-01 00:00:00   (n=170)\n"
     ]
    }
   ],
   "source": [
    "# Split data into train-val-test\n",
    "# ==============================================================================\n",
    "end_train = '2014-07-15 23:59:00'\n",
    "data_train = data.loc[:end_train, :].copy()\n",
    "data_test  = data.loc[end_train:, :].copy()\n",
    "\n",
    "print(\n",
    "    f\"Train dates : {data_train.index.min()} --- {data_train.index.max()}   \"\n",
    "    f\"(n={len(data_train)})\"\n",
    ")\n",
    "print(\n",
    "    f\"Test dates  : {data_test.index.min()} --- {data_test.index.max()}   \"\n",
    "    f\"(n={len(data_test)})\"\n",
    ")"
   ]
  },
  {
   "cell_type": "code",
   "execution_count": 4,
   "id": "2c0ee344",
   "metadata": {
    "ExecuteTime": {
     "end_time": "2022-09-20T09:48:45.616852Z",
     "start_time": "2022-09-20T09:48:45.150172Z"
    }
   },
   "outputs": [
    {
     "data": {
      "image/png": "[encoded data removed]",
      "text/plain": [
       "<Figure size 900x500 with 3 Axes>"
      ]
     },
     "metadata": {},
     "output_type": "display_data"
    }
   ],
   "source": [
    "# Plot time series\n",
    "# ==============================================================================\n",
    "set_dark_theme()\n",
    "fig, axes = plt.subplots(nrows=3, ncols=1, figsize=(9, 5), sharex=True)\n",
    "for i, col in enumerate(data.columns):\n",
    "    data_train[col].plot(ax=axes[i], label='train')\n",
    "    data_test[col].plot(ax=axes[i], label='test')\n",
    "    axes[i].set_title(col)\n",
    "    axes[i].set_ylabel('sales')\n",
    "    axes[i].set_xlabel('')\n",
    "    axes[i].legend(loc='upper right')\n",
    "fig.tight_layout()\n",
    "plt.show();"
   ]
  },
  {
   "attachments": {},
   "cell_type": "markdown",
   "id": "9801a209-b601-4d9b-aa3c-a2e03df98c98",
   "metadata": {},
   "source": [
    "## ForecasterRecursiveMultiSeries"
   ]
  },
  {
   "cell_type": "code",
   "execution_count": 5,
   "id": "349d1b95-5b16-4620-a46e-d595b4187ebe",
   "metadata": {
    "ExecuteTime": {
     "end_time": "2022-09-20T09:59:14.441502Z",
     "start_time": "2022-09-20T09:59:14.404629Z"
    }
   },
   "outputs": [
    {
     "data": {
      "text/html": [
       "\n",
       "    <style>\n",
       "        .container-5faea380a7b24feeb833e4edba04c409 {\n",
       "            font-family: 'Arial', sans-serif;\n",
       "            font-size: 0.9em;\n",
       "            color: #333333;\n",
       "            border: 1px solid #ddd;\n",
       "            background-color: #f0f8ff;\n",
       "            padding: 5px 15px;\n",
       "            border-radius: 8px;\n",
       "            max-width: 600px;\n",
       "            #margin: auto;\n",
       "        }\n",
       "        .container-5faea380a7b24feeb833e4edba04c409 h2 {\n",
       "            font-size: 1.5em;\n",
       "            color: #222222;\n",
       "            border-bottom: 2px solid #ddd;\n",
       "            padding-bottom: 5px;\n",
       "            margin-bottom: 15px;\n",
       "            margin-top: 5px;\n",
       "        }\n",
       "        .container-5faea380a7b24feeb833e4edba04c409 details {\n",
       "            margin: 10px 0;\n",
       "        }\n",
       "        .container-5faea380a7b24feeb833e4edba04c409 summary {\n",
       "            font-weight: bold;\n",
       "            font-size: 1.1em;\n",
       "            color: #000000;\n",
       "            cursor: pointer;\n",
       "            margin-bottom: 5px;\n",
       "            background-color: #b3dbfd;\n",
       "            padding: 5px;\n",
       "            border-radius: 5px;\n",
       "        }\n",
       "        .container-5faea380a7b24feeb833e4edba04c409 summary:hover {\n",
       "            color: #000000;\n",
       "            background-color: #e0e0e0;\n",
       "        }\n",
       "        .container-5faea380a7b24feeb833e4edba04c409 ul {\n",
       "            font-family: 'Courier New', monospace;\n",
       "            list-style-type: none;\n",
       "            padding-left: 20px;\n",
       "            margin: 10px 0;\n",
       "            line-height: normal;\n",
       "        }\n",
       "        .container-5faea380a7b24feeb833e4edba04c409 li {\n",
       "            margin: 5px 0;\n",
       "            font-family: 'Courier New', monospace;\n",
       "        }\n",
       "        .container-5faea380a7b24feeb833e4edba04c409 li strong {\n",
       "            font-weight: bold;\n",
       "            color: #444444;\n",
       "        }\n",
       "        .container-5faea380a7b24feeb833e4edba04c409 li::before {\n",
       "            content: \"- \";\n",
       "            color: #666666;\n",
       "        }\n",
       "        .container-5faea380a7b24feeb833e4edba04c409 a {\n",
       "            color: #001633;\n",
       "            text-decoration: none;\n",
       "        }\n",
       "        .container-5faea380a7b24feeb833e4edba04c409 a:hover {\n",
       "            color: #359ccb; \n",
       "        }\n",
       "    </style>\n",
       "    \n",
       "        <div class=\"container-5faea380a7b24feeb833e4edba04c409\">\n",
       "            <h2>ForecasterRecursiveMultiSeries</h2>\n",
       "            <details open>\n",
       "                <summary>General Information</summary>\n",
       "                <ul>\n",
       "                    <li><strong>Regressor:</strong> LGBMRegressor</li>\n",
       "                    <li><strong>Lags:</strong> [ 1  2  3  4  5  6  7  8  9 10 11 12 13 14 15 16 17 18 19 20 21 22 23 24]</li>\n",
       "                    <li><strong>Window features:</strong> ['roll_mean_24', 'roll_mean_48']</li>\n",
       "                    <li><strong>Window size:</strong> 48</li>\n",
       "                    <li><strong>Series encoding:</strong> ordinal</li>\n",
       "                    <li><strong>Exogenous included:</strong> False</li>\n",
       "                    <li><strong>Weight function included:</strong> False</li>\n",
       "                    <li><strong>Series weights:</strong> None</li>\n",
       "                    <li><strong>Differentiation order:</strong> None</li>\n",
       "                    <li><strong>Creation date:</strong> 2025-03-07 12:07:14</li>\n",
       "                    <li><strong>Last fit date:</strong> 2025-03-07 12:07:15</li>\n",
       "                    <li><strong>Skforecast version:</strong> 0.15.0</li>\n",
       "                    <li><strong>Python version:</strong> 3.12.9</li>\n",
       "                    <li><strong>Forecaster id:</strong> None</li>\n",
       "                </ul>\n",
       "            </details>\n",
       "            <details>\n",
       "                <summary>Exogenous Variables</summary>\n",
       "                <ul>\n",
       "                    None\n",
       "                </ul>\n",
       "            </details>\n",
       "            <details>\n",
       "                <summary>Data Transformations</summary>\n",
       "                <ul>\n",
       "                    <li><strong>Transformer for series:</strong> None</li>\n",
       "                    <li><strong>Transformer for exog:</strong> None</li>\n",
       "                </ul>\n",
       "            </details>\n",
       "            <details>\n",
       "                <summary>Training Information</summary>\n",
       "                <ul>\n",
       "                    <li><strong>Series names (levels):</strong> item_1, item_2, item_3</li>\n",
       "                    <li><strong>Training range:</strong> 'item_1': ['2012-01-01', '2014-07-15'], 'item_2': ['2012-01-01', '2014-07-15'], 'item_3': ['2012-01-01', '2014-07-15']</li>\n",
       "                    <li><strong>Training index type:</strong> DatetimeIndex</li>\n",
       "                    <li><strong>Training index frequency:</strong> D</li>\n",
       "                </ul>\n",
       "            </details>\n",
       "            <details>\n",
       "                <summary>Regressor Parameters</summary>\n",
       "                <ul>\n",
       "                    {'boosting_type': 'gbdt', 'class_weight': None, 'colsample_bytree': 1.0, 'importance_type': 'split', 'learning_rate': 0.1, 'max_depth': -1, 'min_child_samples': 20, 'min_child_weight': 0.001, 'min_split_gain': 0.0, 'n_estimators': 100, 'n_jobs': None, 'num_leaves': 31, 'objective': None, 'random_state': 123, 'reg_alpha': 0.0, 'reg_lambda': 0.0, 'subsample': 1.0, 'subsample_for_bin': 200000, 'subsample_freq': 0, 'verbose': -1}\n",
       "                </ul>\n",
       "            </details>\n",
       "            <details>\n",
       "                <summary>Fit Kwargs</summary>\n",
       "                <ul>\n",
       "                    {}\n",
       "                </ul>\n",
       "            </details>\n",
       "            <p>\n",
       "                <a href=\"https://skforecast.org/0.15.0/api/forecasterrecursivemultiseries.html\">&#128712 <strong>API Reference</strong></a>\n",
       "                &nbsp;&nbsp;\n",
       "                <a href=\"https://skforecast.org/0.15.0/user_guides/independent-multi-time-series-forecasting.html\">&#128462 <strong>User Guide</strong></a>\n",
       "            </p>\n",
       "        </div>\n",
       "        "
      ],
      "text/plain": [
       "============================== \n",
       "ForecasterRecursiveMultiSeries \n",
       "============================== \n",
       "Regressor: LGBMRegressor \n",
       "Lags: [ 1  2  3  4  5  6  7  8  9 10 11 12 13 14 15 16 17 18 19 20 21 22 23 24] \n",
       "Window features: ['roll_mean_24', 'roll_mean_48'] \n",
       "Window size: 48 \n",
       "Series encoding: ordinal \n",
       "Series names (levels): item_1, item_2, item_3 \n",
       "Exogenous included: False \n",
       "Exogenous names: None \n",
       "Transformer for series: None \n",
       "Transformer for exog: None \n",
       "Weight function included: False \n",
       "Series weights: None \n",
       "Differentiation order: None \n",
       "Training range: \n",
       "    'item_1': ['2012-01-01', '2014-07-15'], 'item_2': ['2012-01-01', '2014-07-15'],\n",
       "    'item_3': ['2012-01-01', '2014-07-15'] \n",
       "Training index type: DatetimeIndex \n",
       "Training index frequency: D \n",
       "Regressor parameters: \n",
       "    {'boosting_type': 'gbdt', 'class_weight': None, 'colsample_bytree': 1.0,\n",
       "    'importance_type': 'split', 'learning_rate': 0.1, 'max_depth': -1,\n",
       "    'min_child_samples': 20, 'min_child_weight': 0.001, 'min_split_gain': 0.0,\n",
       "    'n_estimators': 100, 'n_jobs': None, 'num_leaves': 31, 'objective': None,\n",
       "    'random_state': 123, 'reg_alpha': 0.0, 'reg_lambda': 0.0, 'subsample': 1.0,\n",
       "    'subsample_for_bin': 200000, 'subsample_freq': 0, 'verbose': -1} \n",
       "fit_kwargs: {} \n",
       "Creation date: 2025-03-07 12:07:14 \n",
       "Last fit date: 2025-03-07 12:07:15 \n",
       "Skforecast version: 0.15.0 \n",
       "Python version: 3.12.9 \n",
       "Forecaster id: None "
      ]
     },
     "execution_count": 5,
     "metadata": {},
     "output_type": "execute_result"
    }
   ],
   "source": [
    "# Create and train ForecasterRecursiveMultiSeries\n",
    "# ==============================================================================\n",
    "forecaster = ForecasterRecursiveMultiSeries(\n",
    "                 regressor          = LGBMRegressor(random_state=123, verbose=-1),\n",
    "                 lags               = 24,\n",
    "                 window_features    = RollingFeatures(stats=['mean', 'mean'], window_sizes=[24, 48]),\n",
    "                 encoding           = 'ordinal',\n",
    "                 transformer_series = None,\n",
    "                 transformer_exog   = None,\n",
    "                 weight_func        = None,\n",
    "                 series_weights     = None,\n",
    "                 differentiation    = None,\n",
    "                 dropna_from_series = False,\n",
    "                 fit_kwargs         = None,\n",
    "                 forecaster_id      = None\n",
    "             )\n",
    "\n",
    "forecaster.fit(series=data_train, store_in_sample_residuals=True)\n",
    "forecaster"
   ]
  },
  {
   "attachments": {},
   "cell_type": "markdown",
   "id": "be12a14b",
   "metadata": {},
   "source": [
    "Two methods can be use to predict the next n steps: `predict()` or `predict_interval()`. The argument `levels` is used to indicate for which series estimate predictions. If `None` all series will be predicted."
   ]
  },
  {
   "cell_type": "code",
   "execution_count": 6,
   "id": "f1bdf4f8-b999-4d97-899c-fbcc2af7066a",
   "metadata": {
    "ExecuteTime": {
     "end_time": "2022-09-20T10:00:26.432022Z",
     "start_time": "2022-09-20T10:00:25.599841Z"
    }
   },
   "outputs": [
    {
     "data": {
      "application/vnd.microsoft.datawrangler.viewer.v0+json": {
       "columns": [
        {
         "name": "index",
         "rawType": "datetime64[ns]",
         "type": "datetime"
        },
        {
         "name": "level",
         "rawType": "object",
         "type": "string"
        },
        {
         "name": "pred",
         "rawType": "float64",
         "type": "float"
        }
       ],
       "conversionMethod": "pd.DataFrame",
       "ref": "a95c6214-fcb4-4555-ac28-9f8c64fe9333",
       "rows": [
        [
         "2014-07-16 00:00:00",
         "item_1",
         "25.69870275190361"
        ],
        [
         "2014-07-17 00:00:00",
         "item_1",
         "25.676439817763846"
        ],
        [
         "2014-07-18 00:00:00",
         "item_1",
         "25.26902968320632"
        ]
       ],
       "shape": {
        "columns": 2,
        "rows": 3
       }
      },
      "text/html": [
       "<div>\n",
       "<style scoped>\n",
       "    .dataframe tbody tr th:only-of-type {\n",
       "        vertical-align: middle;\n",
       "    }\n",
       "\n",
       "    .dataframe tbody tr th {\n",
       "        vertical-align: top;\n",
       "    }\n",
       "\n",
       "    .dataframe thead th {\n",
       "        text-align: right;\n",
       "    }\n",
       "</style>\n",
       "<table border=\"1\" class=\"dataframe\">\n",
       "  <thead>\n",
       "    <tr style=\"text-align: right;\">\n",
       "      <th></th>\n",
       "      <th>level</th>\n",
       "      <th>pred</th>\n",
       "    </tr>\n",
       "  </thead>\n",
       "  <tbody>\n",
       "    <tr>\n",
       "      <th>2014-07-16</th>\n",
       "      <td>item_1</td>\n",
       "      <td>25.698703</td>\n",
       "    </tr>\n",
       "    <tr>\n",
       "      <th>2014-07-17</th>\n",
       "      <td>item_1</td>\n",
       "      <td>25.676440</td>\n",
       "    </tr>\n",
       "    <tr>\n",
       "      <th>2014-07-18</th>\n",
       "      <td>item_1</td>\n",
       "      <td>25.269030</td>\n",
       "    </tr>\n",
       "  </tbody>\n",
       "</table>\n",
       "</div>"
      ],
      "text/plain": [
       "             level       pred\n",
       "2014-07-16  item_1  25.698703\n",
       "2014-07-17  item_1  25.676440\n",
       "2014-07-18  item_1  25.269030"
      ]
     },
     "metadata": {},
     "output_type": "display_data"
    },
    {
     "data": {
      "application/vnd.microsoft.datawrangler.viewer.v0+json": {
       "columns": [
        {
         "name": "index",
         "rawType": "datetime64[ns]",
         "type": "datetime"
        },
        {
         "name": "level",
         "rawType": "object",
         "type": "string"
        },
        {
         "name": "pred",
         "rawType": "float64",
         "type": "float"
        },
        {
         "name": "lower_bound",
         "rawType": "float64",
         "type": "float"
        },
        {
         "name": "upper_bound",
         "rawType": "float64",
         "type": "float"
        }
       ],
       "conversionMethod": "pd.DataFrame",
       "ref": "4985b5e6-a855-4843-b174-4bad1489cabe",
       "rows": [
        [
         "2014-07-16 00:00:00",
         "item_1",
         "25.69870275190361",
         "23.63090765757881",
         "27.76649784622841"
        ],
        [
         "2014-07-16 00:00:00",
         "item_2",
         "10.469603458573792",
         "8.967504778253907",
         "11.971702138893676"
        ],
        [
         "2014-07-17 00:00:00",
         "item_1",
         "25.676439817763846",
         "23.60864472343905",
         "27.744234912088643"
        ]
       ],
       "shape": {
        "columns": 4,
        "rows": 3
       }
      },
      "text/html": [
       "<div>\n",
       "<style scoped>\n",
       "    .dataframe tbody tr th:only-of-type {\n",
       "        vertical-align: middle;\n",
       "    }\n",
       "\n",
       "    .dataframe tbody tr th {\n",
       "        vertical-align: top;\n",
       "    }\n",
       "\n",
       "    .dataframe thead th {\n",
       "        text-align: right;\n",
       "    }\n",
       "</style>\n",
       "<table border=\"1\" class=\"dataframe\">\n",
       "  <thead>\n",
       "    <tr style=\"text-align: right;\">\n",
       "      <th></th>\n",
       "      <th>level</th>\n",
       "      <th>pred</th>\n",
       "      <th>lower_bound</th>\n",
       "      <th>upper_bound</th>\n",
       "    </tr>\n",
       "  </thead>\n",
       "  <tbody>\n",
       "    <tr>\n",
       "      <th>2014-07-16</th>\n",
       "      <td>item_1</td>\n",
       "      <td>25.698703</td>\n",
       "      <td>23.630908</td>\n",
       "      <td>27.766498</td>\n",
       "    </tr>\n",
       "    <tr>\n",
       "      <th>2014-07-16</th>\n",
       "      <td>item_2</td>\n",
       "      <td>10.469603</td>\n",
       "      <td>8.967505</td>\n",
       "      <td>11.971702</td>\n",
       "    </tr>\n",
       "    <tr>\n",
       "      <th>2014-07-17</th>\n",
       "      <td>item_1</td>\n",
       "      <td>25.676440</td>\n",
       "      <td>23.608645</td>\n",
       "      <td>27.744235</td>\n",
       "    </tr>\n",
       "  </tbody>\n",
       "</table>\n",
       "</div>"
      ],
      "text/plain": [
       "             level       pred  lower_bound  upper_bound\n",
       "2014-07-16  item_1  25.698703    23.630908    27.766498\n",
       "2014-07-16  item_2  10.469603     8.967505    11.971702\n",
       "2014-07-17  item_1  25.676440    23.608645    27.744235"
      ]
     },
     "metadata": {},
     "output_type": "display_data"
    }
   ],
   "source": [
    "# Predictions and prediction intervals\n",
    "# ==============================================================================\n",
    "steps = 24\n",
    "\n",
    "# Predictions for item_1\n",
    "predictions_item_1 = forecaster.predict(steps=steps, levels='item_1')\n",
    "display(predictions_item_1.head(3))\n",
    "\n",
    "# Interval predictions for item_1 and item_2\n",
    "predictions_intervals = forecaster.predict_interval(\n",
    "    steps    = steps,\n",
    "    levels   = ['item_1', 'item_2'],\n",
    "    method   = \"conformal\",\n",
    "    interval = 0.9\n",
    ")\n",
    "display(predictions_intervals.head(3))"
   ]
  },
  {
   "attachments": {},
   "cell_type": "markdown",
   "id": "bfc89fd7",
   "metadata": {},
   "source": [
    "## Backtesting multiple series\n",
    "\n",
    "As in the `predict` method, the `levels` at which [backtesting](../user_guides/backtesting.html) is performed must be indicated. The argument can also be set to `None` to perform backtesting at all levels. In addition to the individual metric(s) for each series, the aggregated value is calculated using the following methods:\n",
    "\n",
    "+ average: the average (arithmetic mean) of all levels.\n",
    "\n",
    "+ weighted_average: the average of the metrics weighted by the number of predicted values of each level.\n",
    "\n",
    "+ pooling: the values of all levels are pooled and then the metric is calculated."
   ]
  },
  {
   "cell_type": "code",
   "execution_count": 7,
   "id": "b1b53f4b-be13-4e7b-bfdd-2cf0f3492452",
   "metadata": {
    "ExecuteTime": {
     "end_time": "2022-09-20T11:01:44.610083Z",
     "start_time": "2022-09-20T11:01:44.092807Z"
    }
   },
   "outputs": [
    {
     "data": {
      "application/vnd.jupyter.widget-view+json": {
       "model_id": "bf30a74810404dee8cf0a8a22e9740fe",
       "version_major": 2,
       "version_minor": 0
      },
      "text/plain": [
       "  0%|          | 0/8 [00:00<?, ?it/s]"
      ]
     },
     "metadata": {},
     "output_type": "display_data"
    },
    {
     "name": "stdout",
     "output_type": "stream",
     "text": [
      "Backtest metrics\n"
     ]
    },
    {
     "data": {
      "application/vnd.microsoft.datawrangler.viewer.v0+json": {
       "columns": [
        {
         "name": "index",
         "rawType": "int64",
         "type": "integer"
        },
        {
         "name": "levels",
         "rawType": "object",
         "type": "string"
        },
        {
         "name": "mean_absolute_error",
         "rawType": "float64",
         "type": "float"
        }
       ],
       "conversionMethod": "pd.DataFrame",
       "ref": "17ca26b9-d2dc-43fc-94ef-1c43c906abf8",
       "rows": [
        [
         "0",
         "item_1",
         "1.1941082205905342"
        ],
        [
         "1",
         "item_2",
         "2.595094091152171"
        ],
        [
         "2",
         "item_3",
         "3.316836130133358"
        ],
        [
         "3",
         "average",
         "2.3686794806253544"
        ],
        [
         "4",
         "weighted_average",
         "2.368679480625355"
        ],
        [
         "5",
         "pooling",
         "2.368679480625355"
        ]
       ],
       "shape": {
        "columns": 2,
        "rows": 6
       }
      },
      "text/html": [
       "<div>\n",
       "<style scoped>\n",
       "    .dataframe tbody tr th:only-of-type {\n",
       "        vertical-align: middle;\n",
       "    }\n",
       "\n",
       "    .dataframe tbody tr th {\n",
       "        vertical-align: top;\n",
       "    }\n",
       "\n",
       "    .dataframe thead th {\n",
       "        text-align: right;\n",
       "    }\n",
       "</style>\n",
       "<table border=\"1\" class=\"dataframe\">\n",
       "  <thead>\n",
       "    <tr style=\"text-align: right;\">\n",
       "      <th></th>\n",
       "      <th>levels</th>\n",
       "      <th>mean_absolute_error</th>\n",
       "    </tr>\n",
       "  </thead>\n",
       "  <tbody>\n",
       "    <tr>\n",
       "      <th>0</th>\n",
       "      <td>item_1</td>\n",
       "      <td>1.194108</td>\n",
       "    </tr>\n",
       "    <tr>\n",
       "      <th>1</th>\n",
       "      <td>item_2</td>\n",
       "      <td>2.595094</td>\n",
       "    </tr>\n",
       "    <tr>\n",
       "      <th>2</th>\n",
       "      <td>item_3</td>\n",
       "      <td>3.316836</td>\n",
       "    </tr>\n",
       "    <tr>\n",
       "      <th>3</th>\n",
       "      <td>average</td>\n",
       "      <td>2.368679</td>\n",
       "    </tr>\n",
       "    <tr>\n",
       "      <th>4</th>\n",
       "      <td>weighted_average</td>\n",
       "      <td>2.368679</td>\n",
       "    </tr>\n",
       "    <tr>\n",
       "      <th>5</th>\n",
       "      <td>pooling</td>\n",
       "      <td>2.368679</td>\n",
       "    </tr>\n",
       "  </tbody>\n",
       "</table>\n",
       "</div>"
      ],
      "text/plain": [
       "             levels  mean_absolute_error\n",
       "0            item_1             1.194108\n",
       "1            item_2             2.595094\n",
       "2            item_3             3.316836\n",
       "3           average             2.368679\n",
       "4  weighted_average             2.368679\n",
       "5           pooling             2.368679"
      ]
     },
     "metadata": {},
     "output_type": "display_data"
    },
    {
     "name": "stdout",
     "output_type": "stream",
     "text": [
      "\n",
      "Backtest predictions\n"
     ]
    },
    {
     "data": {
      "application/vnd.microsoft.datawrangler.viewer.v0+json": {
       "columns": [
        {
         "name": "index",
         "rawType": "datetime64[ns]",
         "type": "datetime"
        },
        {
         "name": "level",
         "rawType": "object",
         "type": "string"
        },
        {
         "name": "pred",
         "rawType": "float64",
         "type": "float"
        }
       ],
       "conversionMethod": "pd.DataFrame",
       "ref": "6ab90182-2494-4ce4-98fd-4ebe2041a8b9",
       "rows": [
        [
         "2014-07-16 00:00:00",
         "item_1",
         "25.69870275190361"
        ],
        [
         "2014-07-16 00:00:00",
         "item_2",
         "10.469603458573792"
        ],
        [
         "2014-07-16 00:00:00",
         "item_3",
         "11.329471736738894"
        ],
        [
         "2014-07-17 00:00:00",
         "item_1",
         "25.676439817763846"
        ]
       ],
       "shape": {
        "columns": 2,
        "rows": 4
       }
      },
      "text/html": [
       "<div>\n",
       "<style scoped>\n",
       "    .dataframe tbody tr th:only-of-type {\n",
       "        vertical-align: middle;\n",
       "    }\n",
       "\n",
       "    .dataframe tbody tr th {\n",
       "        vertical-align: top;\n",
       "    }\n",
       "\n",
       "    .dataframe thead th {\n",
       "        text-align: right;\n",
       "    }\n",
       "</style>\n",
       "<table border=\"1\" class=\"dataframe\">\n",
       "  <thead>\n",
       "    <tr style=\"text-align: right;\">\n",
       "      <th></th>\n",
       "      <th>level</th>\n",
       "      <th>pred</th>\n",
       "    </tr>\n",
       "  </thead>\n",
       "  <tbody>\n",
       "    <tr>\n",
       "      <th>2014-07-16</th>\n",
       "      <td>item_1</td>\n",
       "      <td>25.698703</td>\n",
       "    </tr>\n",
       "    <tr>\n",
       "      <th>2014-07-16</th>\n",
       "      <td>item_2</td>\n",
       "      <td>10.469603</td>\n",
       "    </tr>\n",
       "    <tr>\n",
       "      <th>2014-07-16</th>\n",
       "      <td>item_3</td>\n",
       "      <td>11.329472</td>\n",
       "    </tr>\n",
       "    <tr>\n",
       "      <th>2014-07-17</th>\n",
       "      <td>item_1</td>\n",
       "      <td>25.676440</td>\n",
       "    </tr>\n",
       "  </tbody>\n",
       "</table>\n",
       "</div>"
      ],
      "text/plain": [
       "             level       pred\n",
       "2014-07-16  item_1  25.698703\n",
       "2014-07-16  item_2  10.469603\n",
       "2014-07-16  item_3  11.329472\n",
       "2014-07-17  item_1  25.676440"
      ]
     },
     "execution_count": 7,
     "metadata": {},
     "output_type": "execute_result"
    }
   ],
   "source": [
    "# Backtesting multiple time series\n",
    "# ==============================================================================\n",
    "cv = TimeSeriesFold(\n",
    "         steps              = 24,\n",
    "         initial_train_size = len(data_train),\n",
    "         refit              = True\n",
    "     )\n",
    "\n",
    "metrics_levels, backtest_predictions = backtesting_forecaster_multiseries(\n",
    "    forecaster            = forecaster,\n",
    "    series                = data,\n",
    "    exog                  = None,\n",
    "    cv                    = cv,\n",
    "    levels                = None,\n",
    "    metric                = 'mean_absolute_error',\n",
    "    add_aggregated_metric = True\n",
    ")\n",
    "\n",
    "print(\"Backtest metrics\")\n",
    "display(metrics_levels)\n",
    "print(\"\")\n",
    "print(\"Backtest predictions\")\n",
    "backtest_predictions.head(4)"
   ]
  },
  {
   "attachments": {},
   "cell_type": "markdown",
   "id": "0d93ddc5",
   "metadata": {},
   "source": [
    "## Hyperparameter search and lags selection\n",
    "\n",
    "The `grid_search_forecaster_multiseries`, `random_search_forecaster_multiseries` and `bayesian_search_forecaster_multiseries` functions in the `model_selection` module allow for lags and hyperparameter optimization. It is performed using the backtesting strategy for validation as in other Forecasters, [see the user guide here](../user_guides/hyperparameter-tuning-and-lags-selection.html), except for the `levels` argument:\n",
    "\n",
    "`levels`: level(s) at which the forecaster is optimized, for example:\n",
    "\n",
    "+ If `levels` is a list, the function will search for the lags and hyperparameters that minimize the aggregated error of the predictions of the selected time series. The available aggregation methods are the same as for backtesting (`average`, `weighted_average`, `pooling`). If the `aggregate_metric` argument is a list, all aggregation methods will be calculated for each metric.\n",
    "\n",
    "+ If `levels = None`, the function will search for the lags and hyperparameters that minimize the aggregated error of the predictions of all time series.\n",
    "\n",
    "+ If `levels = 'item_1'` (Same as `levels = ['item_1']`), the function will search for the lags and hyperparameters that minimize the error of the `item_1` predictions. The resulting metric will be the one calculated for `item_1`.\n",
    "\n",
    "The following example shows how to use `grid_search_forecaster_multiseries` to find the best lags and model hyperparameters for all time series (all `levels`)."
   ]
  },
  {
   "cell_type": "code",
   "execution_count": 8,
   "id": "6413fa80",
   "metadata": {},
   "outputs": [],
   "source": [
    "# Create Forecaster Multi-Series\n",
    "# ==============================================================================\n",
    "forecaster = ForecasterRecursiveMultiSeries(\n",
    "                 regressor = LGBMRegressor(random_state=123, verbose=-1),\n",
    "                 lags      = 24,\n",
    "                 encoding  = 'ordinal'\n",
    "             )"
   ]
  },
  {
   "cell_type": "code",
   "execution_count": 9,
   "id": "8d8a8721",
   "metadata": {},
   "outputs": [
    {
     "data": {
      "application/vnd.jupyter.widget-view+json": {
       "model_id": "52e58e7109584feb94a114e405a65f2c",
       "version_major": 2,
       "version_minor": 0
      },
      "text/plain": [
       "lags grid:   0%|          | 0/2 [00:00<?, ?it/s]"
      ]
     },
     "metadata": {},
     "output_type": "display_data"
    },
    {
     "data": {
      "application/vnd.jupyter.widget-view+json": {
       "model_id": "ec5a4f10f9364e73a5b8d433808e7e46",
       "version_major": 2,
       "version_minor": 0
      },
      "text/plain": [
       "params grid:   0%|          | 0/4 [00:00<?, ?it/s]"
      ]
     },
     "metadata": {},
     "output_type": "display_data"
    },
    {
     "name": "stdout",
     "output_type": "stream",
     "text": [
      "`Forecaster` refitted using the best-found lags and parameters, and the whole data set: \n",
      "  Lags: [ 1  2  3  4  5  6  7  8  9 10 11 12 13 14 15 16 17 18 19 20 21 22 23 24\n",
      " 25 26 27 28 29 30 31 32 33 34 35 36 37 38 39 40 41 42 43 44 45 46 47 48] \n",
      "  Parameters: {'max_depth': 7, 'n_estimators': 20}\n",
      "  Backtesting metric: 2.2406649526622306\n",
      "  Levels: ['item_1', 'item_2', 'item_3']\n",
      "\n"
     ]
    },
    {
     "data": {
      "application/vnd.microsoft.datawrangler.viewer.v0+json": {
       "columns": [
        {
         "name": "index",
         "rawType": "int64",
         "type": "integer"
        },
        {
         "name": "levels",
         "rawType": "object",
         "type": "unknown"
        },
        {
         "name": "lags",
         "rawType": "object",
         "type": "unknown"
        },
        {
         "name": "lags_label",
         "rawType": "object",
         "type": "string"
        },
        {
         "name": "params",
         "rawType": "object",
         "type": "unknown"
        },
        {
         "name": "mean_absolute_error__weighted_average",
         "rawType": "float64",
         "type": "float"
        },
        {
         "name": "max_depth",
         "rawType": "int64",
         "type": "integer"
        },
        {
         "name": "n_estimators",
         "rawType": "int64",
         "type": "integer"
        }
       ],
       "conversionMethod": "pd.DataFrame",
       "ref": "fd1729fd-84f9-4102-9084-d8ba0daa7957",
       "rows": [
        [
         "0",
         "['item_1', 'item_2', 'item_3']",
         "[ 1  2  3  4  5  6  7  8  9 10 11 12 13 14 15 16 17 18 19 20 21 22 23 24\n 25 26 27 28 29 30 31 32 33 34 35 36 37 38 39 40 41 42 43 44 45 46 47 48]",
         "48 lags",
         "{'max_depth': 7, 'n_estimators': 20}",
         "2.2406649526622306",
         "7",
         "20"
        ],
        [
         "1",
         "['item_1', 'item_2', 'item_3']",
         "[ 1  2  3  4  5  6  7  8  9 10 11 12 13 14 15 16 17 18 19 20 21 22 23 24\n 25 26 27 28 29 30 31 32 33 34 35 36 37 38 39 40 41 42 43 44 45 46 47 48]",
         "48 lags",
         "{'max_depth': 3, 'n_estimators': 20}",
         "2.379333894079495",
         "3",
         "20"
        ],
        [
         "2",
         "['item_1', 'item_2', 'item_3']",
         "[ 1  2  3  4  5  6  7  8  9 10 11 12 13 14 15 16 17 18 19 20 21 22 23 24]",
         "24 lags",
         "{'max_depth': 7, 'n_estimators': 20}",
         "2.4329971571857323",
         "7",
         "20"
        ],
        [
         "3",
         "['item_1', 'item_2', 'item_3']",
         "[ 1  2  3  4  5  6  7  8  9 10 11 12 13 14 15 16 17 18 19 20 21 22 23 24]",
         "24 lags",
         "{'max_depth': 3, 'n_estimators': 20}",
         "2.4574223279801357",
         "3",
         "20"
        ],
        [
         "4",
         "['item_1', 'item_2', 'item_3']",
         "[ 1  2  3  4  5  6  7  8  9 10 11 12 13 14 15 16 17 18 19 20 21 22 23 24\n 25 26 27 28 29 30 31 32 33 34 35 36 37 38 39 40 41 42 43 44 45 46 47 48]",
         "48 lags",
         "{'max_depth': 7, 'n_estimators': 10}",
         "3.0485436183697",
         "7",
         "10"
        ],
        [
         "5",
         "['item_1', 'item_2', 'item_3']",
         "[ 1  2  3  4  5  6  7  8  9 10 11 12 13 14 15 16 17 18 19 20 21 22 23 24\n 25 26 27 28 29 30 31 32 33 34 35 36 37 38 39 40 41 42 43 44 45 46 47 48]",
         "48 lags",
         "{'max_depth': 3, 'n_estimators': 10}",
         "3.245696915365777",
         "3",
         "10"
        ],
        [
         "6",
         "['item_1', 'item_2', 'item_3']",
         "[ 1  2  3  4  5  6  7  8  9 10 11 12 13 14 15 16 17 18 19 20 21 22 23 24]",
         "24 lags",
         "{'max_depth': 3, 'n_estimators': 10}",
         "3.2675656407261866",
         "3",
         "10"
        ],
        [
         "7",
         "['item_1', 'item_2', 'item_3']",
         "[ 1  2  3  4  5  6  7  8  9 10 11 12 13 14 15 16 17 18 19 20 21 22 23 24]",
         "24 lags",
         "{'max_depth': 7, 'n_estimators': 10}",
         "3.331623138628223",
         "7",
         "10"
        ]
       ],
       "shape": {
        "columns": 7,
        "rows": 8
       }
      },
      "text/html": [
       "<div>\n",
       "<style scoped>\n",
       "    .dataframe tbody tr th:only-of-type {\n",
       "        vertical-align: middle;\n",
       "    }\n",
       "\n",
       "    .dataframe tbody tr th {\n",
       "        vertical-align: top;\n",
       "    }\n",
       "\n",
       "    .dataframe thead th {\n",
       "        text-align: right;\n",
       "    }\n",
       "</style>\n",
       "<table border=\"1\" class=\"dataframe\">\n",
       "  <thead>\n",
       "    <tr style=\"text-align: right;\">\n",
       "      <th></th>\n",
       "      <th>levels</th>\n",
       "      <th>lags</th>\n",
       "      <th>lags_label</th>\n",
       "      <th>params</th>\n",
       "      <th>mean_absolute_error__weighted_average</th>\n",
       "      <th>max_depth</th>\n",
       "      <th>n_estimators</th>\n",
       "    </tr>\n",
       "  </thead>\n",
       "  <tbody>\n",
       "    <tr>\n",
       "      <th>0</th>\n",
       "      <td>[item_1, item_2, item_3]</td>\n",
       "      <td>[1, 2, 3, 4, 5, 6, 7, 8, 9, 10, 11, 12, 13, 14...</td>\n",
       "      <td>48 lags</td>\n",
       "      <td>{'max_depth': 7, 'n_estimators': 20}</td>\n",
       "      <td>2.240665</td>\n",
       "      <td>7</td>\n",
       "      <td>20</td>\n",
       "    </tr>\n",
       "    <tr>\n",
       "      <th>1</th>\n",
       "      <td>[item_1, item_2, item_3]</td>\n",
       "      <td>[1, 2, 3, 4, 5, 6, 7, 8, 9, 10, 11, 12, 13, 14...</td>\n",
       "      <td>48 lags</td>\n",
       "      <td>{'max_depth': 3, 'n_estimators': 20}</td>\n",
       "      <td>2.379334</td>\n",
       "      <td>3</td>\n",
       "      <td>20</td>\n",
       "    </tr>\n",
       "    <tr>\n",
       "      <th>2</th>\n",
       "      <td>[item_1, item_2, item_3]</td>\n",
       "      <td>[1, 2, 3, 4, 5, 6, 7, 8, 9, 10, 11, 12, 13, 14...</td>\n",
       "      <td>24 lags</td>\n",
       "      <td>{'max_depth': 7, 'n_estimators': 20}</td>\n",
       "      <td>2.432997</td>\n",
       "      <td>7</td>\n",
       "      <td>20</td>\n",
       "    </tr>\n",
       "    <tr>\n",
       "      <th>3</th>\n",
       "      <td>[item_1, item_2, item_3]</td>\n",
       "      <td>[1, 2, 3, 4, 5, 6, 7, 8, 9, 10, 11, 12, 13, 14...</td>\n",
       "      <td>24 lags</td>\n",
       "      <td>{'max_depth': 3, 'n_estimators': 20}</td>\n",
       "      <td>2.457422</td>\n",
       "      <td>3</td>\n",
       "      <td>20</td>\n",
       "    </tr>\n",
       "    <tr>\n",
       "      <th>4</th>\n",
       "      <td>[item_1, item_2, item_3]</td>\n",
       "      <td>[1, 2, 3, 4, 5, 6, 7, 8, 9, 10, 11, 12, 13, 14...</td>\n",
       "      <td>48 lags</td>\n",
       "      <td>{'max_depth': 7, 'n_estimators': 10}</td>\n",
       "      <td>3.048544</td>\n",
       "      <td>7</td>\n",
       "      <td>10</td>\n",
       "    </tr>\n",
       "    <tr>\n",
       "      <th>5</th>\n",
       "      <td>[item_1, item_2, item_3]</td>\n",
       "      <td>[1, 2, 3, 4, 5, 6, 7, 8, 9, 10, 11, 12, 13, 14...</td>\n",
       "      <td>48 lags</td>\n",
       "      <td>{'max_depth': 3, 'n_estimators': 10}</td>\n",
       "      <td>3.245697</td>\n",
       "      <td>3</td>\n",
       "      <td>10</td>\n",
       "    </tr>\n",
       "    <tr>\n",
       "      <th>6</th>\n",
       "      <td>[item_1, item_2, item_3]</td>\n",
       "      <td>[1, 2, 3, 4, 5, 6, 7, 8, 9, 10, 11, 12, 13, 14...</td>\n",
       "      <td>24 lags</td>\n",
       "      <td>{'max_depth': 3, 'n_estimators': 10}</td>\n",
       "      <td>3.267566</td>\n",
       "      <td>3</td>\n",
       "      <td>10</td>\n",
       "    </tr>\n",
       "    <tr>\n",
       "      <th>7</th>\n",
       "      <td>[item_1, item_2, item_3]</td>\n",
       "      <td>[1, 2, 3, 4, 5, 6, 7, 8, 9, 10, 11, 12, 13, 14...</td>\n",
       "      <td>24 lags</td>\n",
       "      <td>{'max_depth': 7, 'n_estimators': 10}</td>\n",
       "      <td>3.331623</td>\n",
       "      <td>7</td>\n",
       "      <td>10</td>\n",
       "    </tr>\n",
       "  </tbody>\n",
       "</table>\n",
       "</div>"
      ],
      "text/plain": [
       "                     levels  \\\n",
       "0  [item_1, item_2, item_3]   \n",
       "1  [item_1, item_2, item_3]   \n",
       "2  [item_1, item_2, item_3]   \n",
       "3  [item_1, item_2, item_3]   \n",
       "4  [item_1, item_2, item_3]   \n",
       "5  [item_1, item_2, item_3]   \n",
       "6  [item_1, item_2, item_3]   \n",
       "7  [item_1, item_2, item_3]   \n",
       "\n",
       "                                                lags lags_label  \\\n",
       "0  [1, 2, 3, 4, 5, 6, 7, 8, 9, 10, 11, 12, 13, 14...    48 lags   \n",
       "1  [1, 2, 3, 4, 5, 6, 7, 8, 9, 10, 11, 12, 13, 14...    48 lags   \n",
       "2  [1, 2, 3, 4, 5, 6, 7, 8, 9, 10, 11, 12, 13, 14...    24 lags   \n",
       "3  [1, 2, 3, 4, 5, 6, 7, 8, 9, 10, 11, 12, 13, 14...    24 lags   \n",
       "4  [1, 2, 3, 4, 5, 6, 7, 8, 9, 10, 11, 12, 13, 14...    48 lags   \n",
       "5  [1, 2, 3, 4, 5, 6, 7, 8, 9, 10, 11, 12, 13, 14...    48 lags   \n",
       "6  [1, 2, 3, 4, 5, 6, 7, 8, 9, 10, 11, 12, 13, 14...    24 lags   \n",
       "7  [1, 2, 3, 4, 5, 6, 7, 8, 9, 10, 11, 12, 13, 14...    24 lags   \n",
       "\n",
       "                                 params  \\\n",
       "0  {'max_depth': 7, 'n_estimators': 20}   \n",
       "1  {'max_depth': 3, 'n_estimators': 20}   \n",
       "2  {'max_depth': 7, 'n_estimators': 20}   \n",
       "3  {'max_depth': 3, 'n_estimators': 20}   \n",
       "4  {'max_depth': 7, 'n_estimators': 10}   \n",
       "5  {'max_depth': 3, 'n_estimators': 10}   \n",
       "6  {'max_depth': 3, 'n_estimators': 10}   \n",
       "7  {'max_depth': 7, 'n_estimators': 10}   \n",
       "\n",
       "   mean_absolute_error__weighted_average  max_depth  n_estimators  \n",
       "0                               2.240665          7            20  \n",
       "1                               2.379334          3            20  \n",
       "2                               2.432997          7            20  \n",
       "3                               2.457422          3            20  \n",
       "4                               3.048544          7            10  \n",
       "5                               3.245697          3            10  \n",
       "6                               3.267566          3            10  \n",
       "7                               3.331623          7            10  "
      ]
     },
     "execution_count": 9,
     "metadata": {},
     "output_type": "execute_result"
    }
   ],
   "source": [
    "# Grid search Multi-Series\n",
    "# ==============================================================================\n",
    "lags_grid = {\n",
    "    '24 lags': 24,\n",
    "    '48 lags': 48\n",
    "}\n",
    "\n",
    "param_grid = {\n",
    "    'n_estimators': [10, 20],\n",
    "    'max_depth': [3, 7]\n",
    "}\n",
    "\n",
    "levels = ['item_1', 'item_2', 'item_3']\n",
    "\n",
    "cv = TimeSeriesFold(\n",
    "         steps              = 24,\n",
    "         initial_train_size = len(data_train),\n",
    "         refit              = False\n",
    "     )\n",
    "\n",
    "results = grid_search_forecaster_multiseries(\n",
    "              forecaster         = forecaster,\n",
    "              series             = data,\n",
    "              exog               = None,\n",
    "              lags_grid          = lags_grid,\n",
    "              param_grid         = param_grid,\n",
    "              cv                 = cv,\n",
    "              levels             = levels,\n",
    "              metric             = 'mean_absolute_error',\n",
    "              aggregate_metric   = 'weighted_average'\n",
    "          )\n",
    "\n",
    "results"
   ]
  },
  {
   "cell_type": "markdown",
   "id": "11af14a6",
   "metadata": {},
   "source": [
    "It is also possible to perform a bayesian optimization with `optuna` using the `bayesian_search_forecaster_multiseries` function. For more information about this type of optimization, see the [user guide here](../user_guides/hyperparameter-tuning-and-lags-selection.html#bayesian-search)."
   ]
  },
  {
   "cell_type": "code",
   "execution_count": 10,
   "id": "9469a6a2",
   "metadata": {},
   "outputs": [
    {
     "data": {
      "application/vnd.jupyter.widget-view+json": {
       "model_id": "9ce7d353e12f40cfba29974e323815bd",
       "version_major": 2,
       "version_minor": 0
      },
      "text/plain": [
       "  0%|          | 0/5 [00:00<?, ?it/s]"
      ]
     },
     "metadata": {},
     "output_type": "display_data"
    },
    {
     "name": "stdout",
     "output_type": "stream",
     "text": [
      "`Forecaster` refitted using the best-found lags and parameters, and the whole data set: \n",
      "  Lags: [ 1  2  3  4  5  6  7  8  9 10 11 12 13 14 15 16 17 18 19 20 21 22 23 24\n",
      " 25 26 27 28 29 30 31 32 33 34 35 36 37 38 39 40 41 42 43 44 45 46 47 48] \n",
      "  Parameters: {'n_estimators': 16, 'min_samples_leaf': 9, 'max_features': 'log2'}\n",
      "  Backtesting metric: 2.544932138435008\n",
      "  Levels: ['item_1', 'item_2', 'item_3']\n",
      "\n"
     ]
    },
    {
     "data": {
      "application/vnd.microsoft.datawrangler.viewer.v0+json": {
       "columns": [
        {
         "name": "index",
         "rawType": "int64",
         "type": "integer"
        },
        {
         "name": "levels",
         "rawType": "object",
         "type": "unknown"
        },
        {
         "name": "lags",
         "rawType": "object",
         "type": "unknown"
        },
        {
         "name": "params",
         "rawType": "object",
         "type": "unknown"
        },
        {
         "name": "mean_absolute_error__weighted_average",
         "rawType": "float64",
         "type": "float"
        },
        {
         "name": "mean_absolute_error__average",
         "rawType": "float64",
         "type": "float"
        },
        {
         "name": "mean_absolute_error__pooling",
         "rawType": "float64",
         "type": "float"
        },
        {
         "name": "n_estimators",
         "rawType": "int64",
         "type": "integer"
        },
        {
         "name": "min_samples_leaf",
         "rawType": "int64",
         "type": "integer"
        },
        {
         "name": "max_features",
         "rawType": "object",
         "type": "string"
        }
       ],
       "conversionMethod": "pd.DataFrame",
       "ref": "141f5ed8-c1ea-4614-8d6b-28dbdbf0f387",
       "rows": [
        [
         "0",
         "['item_1', 'item_2', 'item_3']",
         "[ 1  2  3  4  5  6  7  8  9 10 11 12 13 14 15 16 17 18 19 20 21 22 23 24\n 25 26 27 28 29 30 31 32 33 34 35 36 37 38 39 40 41 42 43 44 45 46 47 48]",
         "{'n_estimators': 16, 'min_samples_leaf': 9, 'max_features': 'log2'}",
         "2.544932138435008",
         "2.5449321384350077",
         "2.5449321384350077",
         "16",
         "9",
         "log2"
        ],
        [
         "1",
         "['item_1', 'item_2', 'item_3']",
         "[ 1  2  3  4  5  6  7  8  9 10 11 12 13 14 15 16 17 18 19 20 21 22 23 24]",
         "{'n_estimators': 15, 'min_samples_leaf': 4, 'max_features': 'sqrt'}",
         "2.712387989643993",
         "2.712387989643993",
         "2.7123879896439926",
         "15",
         "4",
         "sqrt"
        ],
        [
         "2",
         "['item_1', 'item_2', 'item_3']",
         "[ 1  2  3  4  5  6  7  8  9 10 11 12 13 14 15 16 17 18 19 20 21 22 23 24]",
         "{'n_estimators': 14, 'min_samples_leaf': 8, 'max_features': 'log2'}",
         "2.82484347330071",
         "2.82484347330071",
         "2.82484347330071",
         "14",
         "8",
         "log2"
        ],
        [
         "3",
         "['item_1', 'item_2', 'item_3']",
         "[ 1  2  3  4  5  6  7  8  9 10 11 12 13 14 15 16 17 18 19 20 21 22 23 24]",
         "{'n_estimators': 13, 'min_samples_leaf': 3, 'max_features': 'sqrt'}",
         "2.9841163093591345",
         "2.984116309359135",
         "2.984116309359135",
         "13",
         "3",
         "sqrt"
        ]
       ],
       "shape": {
        "columns": 9,
        "rows": 4
       }
      },
      "text/html": [
       "<div>\n",
       "<style scoped>\n",
       "    .dataframe tbody tr th:only-of-type {\n",
       "        vertical-align: middle;\n",
       "    }\n",
       "\n",
       "    .dataframe tbody tr th {\n",
       "        vertical-align: top;\n",
       "    }\n",
       "\n",
       "    .dataframe thead th {\n",
       "        text-align: right;\n",
       "    }\n",
       "</style>\n",
       "<table border=\"1\" class=\"dataframe\">\n",
       "  <thead>\n",
       "    <tr style=\"text-align: right;\">\n",
       "      <th></th>\n",
       "      <th>levels</th>\n",
       "      <th>lags</th>\n",
       "      <th>params</th>\n",
       "      <th>mean_absolute_error__weighted_average</th>\n",
       "      <th>mean_absolute_error__average</th>\n",
       "      <th>mean_absolute_error__pooling</th>\n",
       "      <th>n_estimators</th>\n",
       "      <th>min_samples_leaf</th>\n",
       "      <th>max_features</th>\n",
       "    </tr>\n",
       "  </thead>\n",
       "  <tbody>\n",
       "    <tr>\n",
       "      <th>0</th>\n",
       "      <td>[item_1, item_2, item_3]</td>\n",
       "      <td>[1, 2, 3, 4, 5, 6, 7, 8, 9, 10, 11, 12, 13, 14...</td>\n",
       "      <td>{'n_estimators': 16, 'min_samples_leaf': 9, 'm...</td>\n",
       "      <td>2.544932</td>\n",
       "      <td>2.544932</td>\n",
       "      <td>2.544932</td>\n",
       "      <td>16</td>\n",
       "      <td>9</td>\n",
       "      <td>log2</td>\n",
       "    </tr>\n",
       "    <tr>\n",
       "      <th>1</th>\n",
       "      <td>[item_1, item_2, item_3]</td>\n",
       "      <td>[1, 2, 3, 4, 5, 6, 7, 8, 9, 10, 11, 12, 13, 14...</td>\n",
       "      <td>{'n_estimators': 15, 'min_samples_leaf': 4, 'm...</td>\n",
       "      <td>2.712388</td>\n",
       "      <td>2.712388</td>\n",
       "      <td>2.712388</td>\n",
       "      <td>15</td>\n",
       "      <td>4</td>\n",
       "      <td>sqrt</td>\n",
       "    </tr>\n",
       "    <tr>\n",
       "      <th>2</th>\n",
       "      <td>[item_1, item_2, item_3]</td>\n",
       "      <td>[1, 2, 3, 4, 5, 6, 7, 8, 9, 10, 11, 12, 13, 14...</td>\n",
       "      <td>{'n_estimators': 14, 'min_samples_leaf': 8, 'm...</td>\n",
       "      <td>2.824843</td>\n",
       "      <td>2.824843</td>\n",
       "      <td>2.824843</td>\n",
       "      <td>14</td>\n",
       "      <td>8</td>\n",
       "      <td>log2</td>\n",
       "    </tr>\n",
       "    <tr>\n",
       "      <th>3</th>\n",
       "      <td>[item_1, item_2, item_3]</td>\n",
       "      <td>[1, 2, 3, 4, 5, 6, 7, 8, 9, 10, 11, 12, 13, 14...</td>\n",
       "      <td>{'n_estimators': 13, 'min_samples_leaf': 3, 'm...</td>\n",
       "      <td>2.984116</td>\n",
       "      <td>2.984116</td>\n",
       "      <td>2.984116</td>\n",
       "      <td>13</td>\n",
       "      <td>3</td>\n",
       "      <td>sqrt</td>\n",
       "    </tr>\n",
       "  </tbody>\n",
       "</table>\n",
       "</div>"
      ],
      "text/plain": [
       "                     levels  \\\n",
       "0  [item_1, item_2, item_3]   \n",
       "1  [item_1, item_2, item_3]   \n",
       "2  [item_1, item_2, item_3]   \n",
       "3  [item_1, item_2, item_3]   \n",
       "\n",
       "                                                lags  \\\n",
       "0  [1, 2, 3, 4, 5, 6, 7, 8, 9, 10, 11, 12, 13, 14...   \n",
       "1  [1, 2, 3, 4, 5, 6, 7, 8, 9, 10, 11, 12, 13, 14...   \n",
       "2  [1, 2, 3, 4, 5, 6, 7, 8, 9, 10, 11, 12, 13, 14...   \n",
       "3  [1, 2, 3, 4, 5, 6, 7, 8, 9, 10, 11, 12, 13, 14...   \n",
       "\n",
       "                                              params  \\\n",
       "0  {'n_estimators': 16, 'min_samples_leaf': 9, 'm...   \n",
       "1  {'n_estimators': 15, 'min_samples_leaf': 4, 'm...   \n",
       "2  {'n_estimators': 14, 'min_samples_leaf': 8, 'm...   \n",
       "3  {'n_estimators': 13, 'min_samples_leaf': 3, 'm...   \n",
       "\n",
       "   mean_absolute_error__weighted_average  mean_absolute_error__average  \\\n",
       "0                               2.544932                      2.544932   \n",
       "1                               2.712388                      2.712388   \n",
       "2                               2.824843                      2.824843   \n",
       "3                               2.984116                      2.984116   \n",
       "\n",
       "   mean_absolute_error__pooling  n_estimators  min_samples_leaf max_features  \n",
       "0                      2.544932            16                 9         log2  \n",
       "1                      2.712388            15                 4         sqrt  \n",
       "2                      2.824843            14                 8         log2  \n",
       "3                      2.984116            13                 3         sqrt  "
      ]
     },
     "execution_count": 10,
     "metadata": {},
     "output_type": "execute_result"
    }
   ],
   "source": [
    "# Bayesian search hyperparameters and lags with Optuna\n",
    "# ==============================================================================\n",
    "forecaster = ForecasterRecursiveMultiSeries(\n",
    "                 regressor = LGBMRegressor(random_state=123, verbose=-1),\n",
    "                 lags      = 24,\n",
    "                 encoding  = 'ordinal'\n",
    "             )\n",
    "\n",
    "levels = ['item_1', 'item_2', 'item_3']\n",
    "\n",
    "# Search space\n",
    "def search_space(trial):\n",
    "    search_space  = {\n",
    "        'lags'            : trial.suggest_categorical('lags', [24, 48]),\n",
    "        'n_estimators'    : trial.suggest_int('n_estimators', 10, 20),\n",
    "        'min_samples_leaf': trial.suggest_int('min_samples_leaf', 1, 10),\n",
    "        'max_features'    : trial.suggest_categorical('max_features', ['log2', 'sqrt'])\n",
    "    }\n",
    "\n",
    "    return search_space\n",
    "\n",
    "cv = TimeSeriesFold(\n",
    "         steps              = 24,\n",
    "         initial_train_size = len(data_train),\n",
    "         refit              = False\n",
    "     )\n",
    "\n",
    "results, best_trial = bayesian_search_forecaster_multiseries(\n",
    "    forecaster            = forecaster,\n",
    "    series                = data,\n",
    "    exog                  = None,\n",
    "    search_space          = search_space,\n",
    "    cv                    = cv,\n",
    "    levels                = levels,\n",
    "    metric                = 'mean_absolute_error',\n",
    "    aggregate_metric      = ['weighted_average', 'average', 'pooling'],\n",
    "    n_trials              = 5\n",
    ")\n",
    "\n",
    "results.head(4)"
   ]
  },
  {
   "cell_type": "markdown",
   "id": "1003b9a6",
   "metadata": {},
   "source": [
    "`best_trial` contains information of the trial which achived the best results. See more in [Study class](https://optuna.readthedocs.io/en/stable/reference/generated/optuna.study.Study.html#optuna.study.Study)."
   ]
  },
  {
   "cell_type": "code",
   "execution_count": 11,
   "id": "4d86ee74",
   "metadata": {},
   "outputs": [
    {
     "data": {
      "text/plain": [
       "FrozenTrial(number=3, state=1, values=[2.544932138435008], datetime_start=datetime.datetime(2025, 3, 7, 12, 7, 36, 876499), datetime_complete=datetime.datetime(2025, 3, 7, 12, 7, 37, 855258), params={'lags': 48, 'n_estimators': 16, 'min_samples_leaf': 9, 'max_features': 'log2'}, user_attrs={}, system_attrs={}, intermediate_values={}, distributions={'lags': CategoricalDistribution(choices=(24, 48)), 'n_estimators': IntDistribution(high=20, log=False, low=10, step=1), 'min_samples_leaf': IntDistribution(high=10, log=False, low=1, step=1), 'max_features': CategoricalDistribution(choices=('log2', 'sqrt'))}, trial_id=3, value=None)"
      ]
     },
     "execution_count": 11,
     "metadata": {},
     "output_type": "execute_result"
    }
   ],
   "source": [
    "# Optuna best trial in the study\n",
    "# ==============================================================================\n",
    "best_trial"
   ]
  },
  {
   "cell_type": "markdown",
   "id": "3222e83d",
   "metadata": {},
   "source": [
    "## Exogenous variables in multi-series forecasting\n",
    "\n",
    "Exogenous variables are predictors that are independent of the model being used for forecasting, and their future values must be known in order to include them in the prediction process."
   ]
  },
  {
   "cell_type": "markdown",
   "id": "1988d4a4",
   "metadata": {},
   "source": [
    "<div class=\"admonition note\" name=\"html-admonition\" style=\"background: rgba(0,184,212,.1); padding-top: 0px; padding-bottom: 6px; border-radius: 8px; border-left: 8px solid #00b8d4; border-color: #00b8d4; padding-left: 10px; padding-right: 10px;\">\n",
    "\n",
    "<p class=\"title\">\n",
    "    <i style=\"font-size: 18px; color:#00b8d4;\"></i>\n",
    "    <b style=\"color: #00b8d4;\">&#9998 Note</b>\n",
    "</p>\n",
    "\n",
    "<p>\n",
    "    The <code>ForecasterRecursiveMultiSeries</code> supports the use of distinct exogenous variables for each individual series. For a comprehensive guide on handling time series with varying lengths and exogenous variables, refer to the \n",
    "    <a href=\"../user_guides/multi-series-with-different-length-and-different_exog.html\">Global Forecasting Models: Time Series with Different Lengths and Different Exogenous Variables</a>. \n",
    "    Additionally, for a more general overview of using exogenous variables in forecasting, please consult the \n",
    "    <a href=\"../user_guides/exogenous-variables.html\">Exogenous Variables User Guide</a>.\n",
    "</p>\n",
    "\n",
    "</div>"
   ]
  },
  {
   "cell_type": "code",
   "execution_count": 12,
   "id": "9e218c83",
   "metadata": {},
   "outputs": [
    {
     "data": {
      "application/vnd.microsoft.datawrangler.viewer.v0+json": {
       "columns": [
        {
         "name": "date",
         "rawType": "datetime64[ns]",
         "type": "datetime"
        },
        {
         "name": "item_1",
         "rawType": "float64",
         "type": "float"
        },
        {
         "name": "item_2",
         "rawType": "float64",
         "type": "float"
        },
        {
         "name": "item_3",
         "rawType": "float64",
         "type": "float"
        },
        {
         "name": "month",
         "rawType": "int32",
         "type": "integer"
        }
       ],
       "conversionMethod": "pd.DataFrame",
       "ref": "3315b815-50ec-41f7-b400-d045109cd99d",
       "rows": [
        [
         "2012-01-01 00:00:00",
         "8.2531745918",
         "21.047727272727272",
         "19.42973946376865",
         "1"
        ],
        [
         "2012-01-02 00:00:00",
         "22.7778257304",
         "26.578125",
         "28.00986308040715",
         "1"
        ],
        [
         "2012-01-03 00:00:00",
         "27.5490988882",
         "31.751041666666666",
         "32.0789220997037",
         "1"
        ]
       ],
       "shape": {
        "columns": 4,
        "rows": 3
       }
      },
      "text/html": [
       "<div>\n",
       "<style scoped>\n",
       "    .dataframe tbody tr th:only-of-type {\n",
       "        vertical-align: middle;\n",
       "    }\n",
       "\n",
       "    .dataframe tbody tr th {\n",
       "        vertical-align: top;\n",
       "    }\n",
       "\n",
       "    .dataframe thead th {\n",
       "        text-align: right;\n",
       "    }\n",
       "</style>\n",
       "<table border=\"1\" class=\"dataframe\">\n",
       "  <thead>\n",
       "    <tr style=\"text-align: right;\">\n",
       "      <th></th>\n",
       "      <th>item_1</th>\n",
       "      <th>item_2</th>\n",
       "      <th>item_3</th>\n",
       "      <th>month</th>\n",
       "    </tr>\n",
       "    <tr>\n",
       "      <th>date</th>\n",
       "      <th></th>\n",
       "      <th></th>\n",
       "      <th></th>\n",
       "      <th></th>\n",
       "    </tr>\n",
       "  </thead>\n",
       "  <tbody>\n",
       "    <tr>\n",
       "      <th>2012-01-01</th>\n",
       "      <td>8.253175</td>\n",
       "      <td>21.047727</td>\n",
       "      <td>19.429739</td>\n",
       "      <td>1</td>\n",
       "    </tr>\n",
       "    <tr>\n",
       "      <th>2012-01-02</th>\n",
       "      <td>22.777826</td>\n",
       "      <td>26.578125</td>\n",
       "      <td>28.009863</td>\n",
       "      <td>1</td>\n",
       "    </tr>\n",
       "    <tr>\n",
       "      <th>2012-01-03</th>\n",
       "      <td>27.549099</td>\n",
       "      <td>31.751042</td>\n",
       "      <td>32.078922</td>\n",
       "      <td>1</td>\n",
       "    </tr>\n",
       "  </tbody>\n",
       "</table>\n",
       "</div>"
      ],
      "text/plain": [
       "               item_1     item_2     item_3  month\n",
       "date                                              \n",
       "2012-01-01   8.253175  21.047727  19.429739      1\n",
       "2012-01-02  22.777826  26.578125  28.009863      1\n",
       "2012-01-03  27.549099  31.751042  32.078922      1"
      ]
     },
     "execution_count": 12,
     "metadata": {},
     "output_type": "execute_result"
    }
   ],
   "source": [
    "# Generate the exogenous variable month\n",
    "# ==============================================================================\n",
    "data_exog = data.copy()\n",
    "data_exog['month'] = data_exog.index.month\n",
    "\n",
    "# Split data into train-val-test\n",
    "# ==============================================================================\n",
    "end_train = '2014-07-15 23:59:00'\n",
    "data_exog_train = data_exog.loc[:end_train, :].copy()\n",
    "data_exog_test  = data_exog.loc[end_train:, :].copy()\n",
    "\n",
    "data_exog_train.head(3)"
   ]
  },
  {
   "cell_type": "code",
   "execution_count": 13,
   "id": "8facf614",
   "metadata": {},
   "outputs": [
    {
     "data": {
      "text/html": [
       "\n",
       "    <style>\n",
       "        .container-56585b944d0d4faeacbff4037c52500a {\n",
       "            font-family: 'Arial', sans-serif;\n",
       "            font-size: 0.9em;\n",
       "            color: #333333;\n",
       "            border: 1px solid #ddd;\n",
       "            background-color: #f0f8ff;\n",
       "            padding: 5px 15px;\n",
       "            border-radius: 8px;\n",
       "            max-width: 600px;\n",
       "            #margin: auto;\n",
       "        }\n",
       "        .container-56585b944d0d4faeacbff4037c52500a h2 {\n",
       "            font-size: 1.5em;\n",
       "            color: #222222;\n",
       "            border-bottom: 2px solid #ddd;\n",
       "            padding-bottom: 5px;\n",
       "            margin-bottom: 15px;\n",
       "            margin-top: 5px;\n",
       "        }\n",
       "        .container-56585b944d0d4faeacbff4037c52500a details {\n",
       "            margin: 10px 0;\n",
       "        }\n",
       "        .container-56585b944d0d4faeacbff4037c52500a summary {\n",
       "            font-weight: bold;\n",
       "            font-size: 1.1em;\n",
       "            color: #000000;\n",
       "            cursor: pointer;\n",
       "            margin-bottom: 5px;\n",
       "            background-color: #b3dbfd;\n",
       "            padding: 5px;\n",
       "            border-radius: 5px;\n",
       "        }\n",
       "        .container-56585b944d0d4faeacbff4037c52500a summary:hover {\n",
       "            color: #000000;\n",
       "            background-color: #e0e0e0;\n",
       "        }\n",
       "        .container-56585b944d0d4faeacbff4037c52500a ul {\n",
       "            font-family: 'Courier New', monospace;\n",
       "            list-style-type: none;\n",
       "            padding-left: 20px;\n",
       "            margin: 10px 0;\n",
       "            line-height: normal;\n",
       "        }\n",
       "        .container-56585b944d0d4faeacbff4037c52500a li {\n",
       "            margin: 5px 0;\n",
       "            font-family: 'Courier New', monospace;\n",
       "        }\n",
       "        .container-56585b944d0d4faeacbff4037c52500a li strong {\n",
       "            font-weight: bold;\n",
       "            color: #444444;\n",
       "        }\n",
       "        .container-56585b944d0d4faeacbff4037c52500a li::before {\n",
       "            content: \"- \";\n",
       "            color: #666666;\n",
       "        }\n",
       "        .container-56585b944d0d4faeacbff4037c52500a a {\n",
       "            color: #001633;\n",
       "            text-decoration: none;\n",
       "        }\n",
       "        .container-56585b944d0d4faeacbff4037c52500a a:hover {\n",
       "            color: #359ccb; \n",
       "        }\n",
       "    </style>\n",
       "    \n",
       "        <div class=\"container-56585b944d0d4faeacbff4037c52500a\">\n",
       "            <h2>ForecasterRecursiveMultiSeries</h2>\n",
       "            <details open>\n",
       "                <summary>General Information</summary>\n",
       "                <ul>\n",
       "                    <li><strong>Regressor:</strong> LGBMRegressor</li>\n",
       "                    <li><strong>Lags:</strong> [ 1  2  3  4  5  6  7  8  9 10 11 12 13 14 15 16 17 18 19 20 21 22 23 24]</li>\n",
       "                    <li><strong>Window features:</strong> ['roll_mean_24', 'roll_mean_48']</li>\n",
       "                    <li><strong>Window size:</strong> 48</li>\n",
       "                    <li><strong>Series encoding:</strong> ordinal</li>\n",
       "                    <li><strong>Exogenous included:</strong> True</li>\n",
       "                    <li><strong>Weight function included:</strong> False</li>\n",
       "                    <li><strong>Series weights:</strong> None</li>\n",
       "                    <li><strong>Differentiation order:</strong> None</li>\n",
       "                    <li><strong>Creation date:</strong> 2025-03-07 12:07:39</li>\n",
       "                    <li><strong>Last fit date:</strong> 2025-03-07 12:07:41</li>\n",
       "                    <li><strong>Skforecast version:</strong> 0.15.0</li>\n",
       "                    <li><strong>Python version:</strong> 3.12.9</li>\n",
       "                    <li><strong>Forecaster id:</strong> None</li>\n",
       "                </ul>\n",
       "            </details>\n",
       "            <details>\n",
       "                <summary>Exogenous Variables</summary>\n",
       "                <ul>\n",
       "                    month\n",
       "                </ul>\n",
       "            </details>\n",
       "            <details>\n",
       "                <summary>Data Transformations</summary>\n",
       "                <ul>\n",
       "                    <li><strong>Transformer for series:</strong> None</li>\n",
       "                    <li><strong>Transformer for exog:</strong> None</li>\n",
       "                </ul>\n",
       "            </details>\n",
       "            <details>\n",
       "                <summary>Training Information</summary>\n",
       "                <ul>\n",
       "                    <li><strong>Series names (levels):</strong> item_1, item_2, item_3</li>\n",
       "                    <li><strong>Training range:</strong> 'item_1': ['2012-01-01', '2014-07-15'], 'item_2': ['2012-01-01', '2014-07-15'], 'item_3': ['2012-01-01', '2014-07-15']</li>\n",
       "                    <li><strong>Training index type:</strong> DatetimeIndex</li>\n",
       "                    <li><strong>Training index frequency:</strong> D</li>\n",
       "                </ul>\n",
       "            </details>\n",
       "            <details>\n",
       "                <summary>Regressor Parameters</summary>\n",
       "                <ul>\n",
       "                    {'boosting_type': 'gbdt', 'class_weight': None, 'colsample_bytree': 1.0, 'importance_type': 'split', 'learning_rate': 0.1, 'max_depth': -1, 'min_child_samples': 20, 'min_child_weight': 0.001, 'min_split_gain': 0.0, 'n_estimators': 100, 'n_jobs': None, 'num_leaves': 31, 'objective': None, 'random_state': 123, 'reg_alpha': 0.0, 'reg_lambda': 0.0, 'subsample': 1.0, 'subsample_for_bin': 200000, 'subsample_freq': 0, 'verbose': -1}\n",
       "                </ul>\n",
       "            </details>\n",
       "            <details>\n",
       "                <summary>Fit Kwargs</summary>\n",
       "                <ul>\n",
       "                    {}\n",
       "                </ul>\n",
       "            </details>\n",
       "            <p>\n",
       "                <a href=\"https://skforecast.org/0.15.0/api/forecasterrecursivemultiseries.html\">&#128712 <strong>API Reference</strong></a>\n",
       "                &nbsp;&nbsp;\n",
       "                <a href=\"https://skforecast.org/0.15.0/user_guides/independent-multi-time-series-forecasting.html\">&#128462 <strong>User Guide</strong></a>\n",
       "            </p>\n",
       "        </div>\n",
       "        "
      ],
      "text/plain": [
       "============================== \n",
       "ForecasterRecursiveMultiSeries \n",
       "============================== \n",
       "Regressor: LGBMRegressor \n",
       "Lags: [ 1  2  3  4  5  6  7  8  9 10 11 12 13 14 15 16 17 18 19 20 21 22 23 24] \n",
       "Window features: ['roll_mean_24', 'roll_mean_48'] \n",
       "Window size: 48 \n",
       "Series encoding: ordinal \n",
       "Series names (levels): item_1, item_2, item_3 \n",
       "Exogenous included: True \n",
       "Exogenous names: month \n",
       "Transformer for series: None \n",
       "Transformer for exog: None \n",
       "Weight function included: False \n",
       "Series weights: None \n",
       "Differentiation order: None \n",
       "Training range: \n",
       "    'item_1': ['2012-01-01', '2014-07-15'], 'item_2': ['2012-01-01', '2014-07-15'],\n",
       "    'item_3': ['2012-01-01', '2014-07-15'] \n",
       "Training index type: DatetimeIndex \n",
       "Training index frequency: D \n",
       "Regressor parameters: \n",
       "    {'boosting_type': 'gbdt', 'class_weight': None, 'colsample_bytree': 1.0,\n",
       "    'importance_type': 'split', 'learning_rate': 0.1, 'max_depth': -1,\n",
       "    'min_child_samples': 20, 'min_child_weight': 0.001, 'min_split_gain': 0.0,\n",
       "    'n_estimators': 100, 'n_jobs': None, 'num_leaves': 31, 'objective': None,\n",
       "    'random_state': 123, 'reg_alpha': 0.0, 'reg_lambda': 0.0, 'subsample': 1.0,\n",
       "    'subsample_for_bin': 200000, 'subsample_freq': 0, 'verbose': -1} \n",
       "fit_kwargs: {} \n",
       "Creation date: 2025-03-07 12:07:39 \n",
       "Last fit date: 2025-03-07 12:07:41 \n",
       "Skforecast version: 0.15.0 \n",
       "Python version: 3.12.9 \n",
       "Forecaster id: None "
      ]
     },
     "execution_count": 13,
     "metadata": {},
     "output_type": "execute_result"
    }
   ],
   "source": [
    "# Create and fit forecaster\n",
    "# ==============================================================================\n",
    "forecaster = ForecasterRecursiveMultiSeries(\n",
    "                 regressor       = LGBMRegressor(random_state=123, verbose=-1),\n",
    "                 lags            = 24,\n",
    "                 window_features = RollingFeatures(stats=['mean', 'mean'], window_sizes=[24, 48]),\n",
    "                 encoding        = 'ordinal'\n",
    "             )\n",
    "\n",
    "forecaster.fit(\n",
    "    series = data_exog_train[['item_1', 'item_2', 'item_3']], \n",
    "    exog   = data_exog_train[['month']]\n",
    ")\n",
    "forecaster"
   ]
  },
  {
   "cell_type": "markdown",
   "id": "3991a708",
   "metadata": {},
   "source": [
    "If the `Forecaster` has been trained using exogenous variables, they should be provided during the prediction phase."
   ]
  },
  {
   "cell_type": "code",
   "execution_count": 14,
   "id": "1ce6c1a4",
   "metadata": {},
   "outputs": [
    {
     "data": {
      "application/vnd.microsoft.datawrangler.viewer.v0+json": {
       "columns": [
        {
         "name": "index",
         "rawType": "datetime64[ns]",
         "type": "datetime"
        },
        {
         "name": "level",
         "rawType": "object",
         "type": "string"
        },
        {
         "name": "pred",
         "rawType": "float64",
         "type": "float"
        }
       ],
       "conversionMethod": "pd.DataFrame",
       "ref": "c8746e3c-20f4-4d5c-bfd5-cc9a1d53835f",
       "rows": [
        [
         "2014-07-16 00:00:00",
         "item_1",
         "25.5122368886157"
        ],
        [
         "2014-07-16 00:00:00",
         "item_2",
         "10.096573959381885"
        ],
        [
         "2014-07-16 00:00:00",
         "item_3",
         "11.036197975045372"
        ]
       ],
       "shape": {
        "columns": 2,
        "rows": 3
       }
      },
      "text/html": [
       "<div>\n",
       "<style scoped>\n",
       "    .dataframe tbody tr th:only-of-type {\n",
       "        vertical-align: middle;\n",
       "    }\n",
       "\n",
       "    .dataframe tbody tr th {\n",
       "        vertical-align: top;\n",
       "    }\n",
       "\n",
       "    .dataframe thead th {\n",
       "        text-align: right;\n",
       "    }\n",
       "</style>\n",
       "<table border=\"1\" class=\"dataframe\">\n",
       "  <thead>\n",
       "    <tr style=\"text-align: right;\">\n",
       "      <th></th>\n",
       "      <th>level</th>\n",
       "      <th>pred</th>\n",
       "    </tr>\n",
       "  </thead>\n",
       "  <tbody>\n",
       "    <tr>\n",
       "      <th>2014-07-16</th>\n",
       "      <td>item_1</td>\n",
       "      <td>25.512237</td>\n",
       "    </tr>\n",
       "    <tr>\n",
       "      <th>2014-07-16</th>\n",
       "      <td>item_2</td>\n",
       "      <td>10.096574</td>\n",
       "    </tr>\n",
       "    <tr>\n",
       "      <th>2014-07-16</th>\n",
       "      <td>item_3</td>\n",
       "      <td>11.036198</td>\n",
       "    </tr>\n",
       "  </tbody>\n",
       "</table>\n",
       "</div>"
      ],
      "text/plain": [
       "             level       pred\n",
       "2014-07-16  item_1  25.512237\n",
       "2014-07-16  item_2  10.096574\n",
       "2014-07-16  item_3  11.036198"
      ]
     },
     "execution_count": 14,
     "metadata": {},
     "output_type": "execute_result"
    }
   ],
   "source": [
    "# Predict with exogenous variables\n",
    "# ==============================================================================\n",
    "predictions = forecaster.predict(steps=24, exog=data_exog_test[['month']])\n",
    "predictions.head(3)"
   ]
  },
  {
   "cell_type": "markdown",
   "id": "f66bf3f6",
   "metadata": {},
   "source": [
    "As mentioned earlier, the `month` exogenous variable is replicated for each of the series. This can be easily demonstrated using the `create_train_X_y` method, which returns the matrix used in the `fit` method."
   ]
  },
  {
   "cell_type": "code",
   "execution_count": 15,
   "id": "38fb44e6",
   "metadata": {},
   "outputs": [],
   "source": [
    "# X_train matrix\n",
    "# ==============================================================================\n",
    "X_train = forecaster.create_train_X_y(\n",
    "    series = data_exog_train[['item_1', 'item_2', 'item_3']], \n",
    "    exog   = data_exog_train[['month']]\n",
    ")[0]"
   ]
  },
  {
   "cell_type": "code",
   "execution_count": 16,
   "id": "3ea20fc1",
   "metadata": {},
   "outputs": [
    {
     "data": {
      "application/vnd.microsoft.datawrangler.viewer.v0+json": {
       "columns": [
        {
         "name": "date",
         "rawType": "datetime64[ns]",
         "type": "datetime"
        },
        {
         "name": "lag_1",
         "rawType": "float64",
         "type": "float"
        },
        {
         "name": "lag_2",
         "rawType": "float64",
         "type": "float"
        },
        {
         "name": "lag_3",
         "rawType": "float64",
         "type": "float"
        },
        {
         "name": "lag_4",
         "rawType": "float64",
         "type": "float"
        },
        {
         "name": "lag_5",
         "rawType": "float64",
         "type": "float"
        },
        {
         "name": "lag_6",
         "rawType": "float64",
         "type": "float"
        },
        {
         "name": "lag_7",
         "rawType": "float64",
         "type": "float"
        },
        {
         "name": "lag_8",
         "rawType": "float64",
         "type": "float"
        },
        {
         "name": "lag_9",
         "rawType": "float64",
         "type": "float"
        },
        {
         "name": "lag_10",
         "rawType": "float64",
         "type": "float"
        },
        {
         "name": "lag_11",
         "rawType": "float64",
         "type": "float"
        },
        {
         "name": "lag_12",
         "rawType": "float64",
         "type": "float"
        },
        {
         "name": "lag_13",
         "rawType": "float64",
         "type": "float"
        },
        {
         "name": "lag_14",
         "rawType": "float64",
         "type": "float"
        },
        {
         "name": "lag_15",
         "rawType": "float64",
         "type": "float"
        },
        {
         "name": "lag_16",
         "rawType": "float64",
         "type": "float"
        },
        {
         "name": "lag_17",
         "rawType": "float64",
         "type": "float"
        },
        {
         "name": "lag_18",
         "rawType": "float64",
         "type": "float"
        },
        {
         "name": "lag_19",
         "rawType": "float64",
         "type": "float"
        },
        {
         "name": "lag_20",
         "rawType": "float64",
         "type": "float"
        },
        {
         "name": "lag_21",
         "rawType": "float64",
         "type": "float"
        },
        {
         "name": "lag_22",
         "rawType": "float64",
         "type": "float"
        },
        {
         "name": "lag_23",
         "rawType": "float64",
         "type": "float"
        },
        {
         "name": "lag_24",
         "rawType": "float64",
         "type": "float"
        },
        {
         "name": "roll_mean_24",
         "rawType": "float64",
         "type": "float"
        },
        {
         "name": "roll_mean_48",
         "rawType": "float64",
         "type": "float"
        },
        {
         "name": "_level_skforecast",
         "rawType": "int64",
         "type": "integer"
        },
        {
         "name": "month",
         "rawType": "int32",
         "type": "integer"
        }
       ],
       "conversionMethod": "pd.DataFrame",
       "ref": "66202b9c-4f50-47a5-844a-30525e6287b6",
       "rows": [
        [
         "2012-02-18 00:00:00",
         "25.60977195",
         "27.6463802184",
         "25.061150100600003",
         "23.6192401168",
         "20.7883898364",
         "19.5587745634",
         "22.2089471126",
         "23.4247174266",
         "22.8077899266",
         "22.8610859772",
         "23.0085166702",
         "21.7637392242",
         "23.119965756600003",
         "23.360304427800003",
         "23.7880656272",
         "23.0665817198",
         "22.8254907978",
         "25.7241906512",
         "27.3882750192",
         "24.6157781496",
         "24.7864545244",
         "21.4239304588",
         "23.908368438",
         "28.7474816646",
         "23.796391264916668",
         "23.031105760983333",
         "0",
         "2"
        ],
        [
         "2012-02-19 00:00:00",
         "22.5040424446",
         "25.60977195",
         "27.6463802184",
         "25.061150100600003",
         "23.6192401168",
         "20.7883898364",
         "19.5587745634",
         "22.2089471126",
         "23.4247174266",
         "22.8077899266",
         "22.8610859772",
         "23.0085166702",
         "21.7637392242",
         "23.119965756600003",
         "23.360304427800003",
         "23.7880656272",
         "23.0665817198",
         "22.8254907978",
         "25.7241906512",
         "27.3882750192",
         "24.6157781496",
         "24.7864545244",
         "21.4239304588",
         "23.908368438",
         "23.53624796408333",
         "23.327998841250004",
         "0",
         "2"
        ],
        [
         "2012-02-20 00:00:00",
         "20.838095392200003",
         "22.5040424446",
         "25.60977195",
         "27.6463802184",
         "25.061150100600003",
         "23.6192401168",
         "20.7883898364",
         "19.5587745634",
         "22.2089471126",
         "23.4247174266",
         "22.8077899266",
         "22.8610859772",
         "23.0085166702",
         "21.7637392242",
         "23.119965756600003",
         "23.360304427800003",
         "23.7880656272",
         "23.0665817198",
         "22.8254907978",
         "25.7241906512",
         "27.3882750192",
         "24.6157781496",
         "24.7864545244",
         "21.4239304588",
         "23.408319920508337",
         "23.287587792537497",
         "0",
         "2"
        ]
       ],
       "shape": {
        "columns": 28,
        "rows": 3
       }
      },
      "text/html": [
       "<div>\n",
       "<style scoped>\n",
       "    .dataframe tbody tr th:only-of-type {\n",
       "        vertical-align: middle;\n",
       "    }\n",
       "\n",
       "    .dataframe tbody tr th {\n",
       "        vertical-align: top;\n",
       "    }\n",
       "\n",
       "    .dataframe thead th {\n",
       "        text-align: right;\n",
       "    }\n",
       "</style>\n",
       "<table border=\"1\" class=\"dataframe\">\n",
       "  <thead>\n",
       "    <tr style=\"text-align: right;\">\n",
       "      <th></th>\n",
       "      <th>lag_1</th>\n",
       "      <th>lag_2</th>\n",
       "      <th>lag_3</th>\n",
       "      <th>lag_4</th>\n",
       "      <th>lag_5</th>\n",
       "      <th>lag_6</th>\n",
       "      <th>lag_7</th>\n",
       "      <th>lag_8</th>\n",
       "      <th>lag_9</th>\n",
       "      <th>lag_10</th>\n",
       "      <th>...</th>\n",
       "      <th>lag_19</th>\n",
       "      <th>lag_20</th>\n",
       "      <th>lag_21</th>\n",
       "      <th>lag_22</th>\n",
       "      <th>lag_23</th>\n",
       "      <th>lag_24</th>\n",
       "      <th>roll_mean_24</th>\n",
       "      <th>roll_mean_48</th>\n",
       "      <th>_level_skforecast</th>\n",
       "      <th>month</th>\n",
       "    </tr>\n",
       "    <tr>\n",
       "      <th>date</th>\n",
       "      <th></th>\n",
       "      <th></th>\n",
       "      <th></th>\n",
       "      <th></th>\n",
       "      <th></th>\n",
       "      <th></th>\n",
       "      <th></th>\n",
       "      <th></th>\n",
       "      <th></th>\n",
       "      <th></th>\n",
       "      <th></th>\n",
       "      <th></th>\n",
       "      <th></th>\n",
       "      <th></th>\n",
       "      <th></th>\n",
       "      <th></th>\n",
       "      <th></th>\n",
       "      <th></th>\n",
       "      <th></th>\n",
       "      <th></th>\n",
       "      <th></th>\n",
       "    </tr>\n",
       "  </thead>\n",
       "  <tbody>\n",
       "    <tr>\n",
       "      <th>2012-02-18</th>\n",
       "      <td>25.609772</td>\n",
       "      <td>27.646380</td>\n",
       "      <td>25.061150</td>\n",
       "      <td>23.61924</td>\n",
       "      <td>20.78839</td>\n",
       "      <td>19.558775</td>\n",
       "      <td>22.208947</td>\n",
       "      <td>23.424717</td>\n",
       "      <td>22.807790</td>\n",
       "      <td>22.861086</td>\n",
       "      <td>...</td>\n",
       "      <td>27.388275</td>\n",
       "      <td>24.615778</td>\n",
       "      <td>24.786455</td>\n",
       "      <td>21.423930</td>\n",
       "      <td>23.908368</td>\n",
       "      <td>28.747482</td>\n",
       "      <td>23.796391</td>\n",
       "      <td>23.031106</td>\n",
       "      <td>0</td>\n",
       "      <td>2</td>\n",
       "    </tr>\n",
       "    <tr>\n",
       "      <th>2012-02-19</th>\n",
       "      <td>22.504042</td>\n",
       "      <td>25.609772</td>\n",
       "      <td>27.646380</td>\n",
       "      <td>25.06115</td>\n",
       "      <td>23.61924</td>\n",
       "      <td>20.788390</td>\n",
       "      <td>19.558775</td>\n",
       "      <td>22.208947</td>\n",
       "      <td>23.424717</td>\n",
       "      <td>22.807790</td>\n",
       "      <td>...</td>\n",
       "      <td>25.724191</td>\n",
       "      <td>27.388275</td>\n",
       "      <td>24.615778</td>\n",
       "      <td>24.786455</td>\n",
       "      <td>21.423930</td>\n",
       "      <td>23.908368</td>\n",
       "      <td>23.536248</td>\n",
       "      <td>23.327999</td>\n",
       "      <td>0</td>\n",
       "      <td>2</td>\n",
       "    </tr>\n",
       "    <tr>\n",
       "      <th>2012-02-20</th>\n",
       "      <td>20.838095</td>\n",
       "      <td>22.504042</td>\n",
       "      <td>25.609772</td>\n",
       "      <td>27.64638</td>\n",
       "      <td>25.06115</td>\n",
       "      <td>23.619240</td>\n",
       "      <td>20.788390</td>\n",
       "      <td>19.558775</td>\n",
       "      <td>22.208947</td>\n",
       "      <td>23.424717</td>\n",
       "      <td>...</td>\n",
       "      <td>22.825491</td>\n",
       "      <td>25.724191</td>\n",
       "      <td>27.388275</td>\n",
       "      <td>24.615778</td>\n",
       "      <td>24.786455</td>\n",
       "      <td>21.423930</td>\n",
       "      <td>23.408320</td>\n",
       "      <td>23.287588</td>\n",
       "      <td>0</td>\n",
       "      <td>2</td>\n",
       "    </tr>\n",
       "  </tbody>\n",
       "</table>\n",
       "<p>3 rows × 28 columns</p>\n",
       "</div>"
      ],
      "text/plain": [
       "                lag_1      lag_2      lag_3     lag_4     lag_5      lag_6  \\\n",
       "date                                                                         \n",
       "2012-02-18  25.609772  27.646380  25.061150  23.61924  20.78839  19.558775   \n",
       "2012-02-19  22.504042  25.609772  27.646380  25.06115  23.61924  20.788390   \n",
       "2012-02-20  20.838095  22.504042  25.609772  27.64638  25.06115  23.619240   \n",
       "\n",
       "                lag_7      lag_8      lag_9     lag_10  ...     lag_19  \\\n",
       "date                                                    ...              \n",
       "2012-02-18  22.208947  23.424717  22.807790  22.861086  ...  27.388275   \n",
       "2012-02-19  19.558775  22.208947  23.424717  22.807790  ...  25.724191   \n",
       "2012-02-20  20.788390  19.558775  22.208947  23.424717  ...  22.825491   \n",
       "\n",
       "               lag_20     lag_21     lag_22     lag_23     lag_24  \\\n",
       "date                                                                \n",
       "2012-02-18  24.615778  24.786455  21.423930  23.908368  28.747482   \n",
       "2012-02-19  27.388275  24.615778  24.786455  21.423930  23.908368   \n",
       "2012-02-20  25.724191  27.388275  24.615778  24.786455  21.423930   \n",
       "\n",
       "            roll_mean_24  roll_mean_48  _level_skforecast  month  \n",
       "date                                                              \n",
       "2012-02-18     23.796391     23.031106                  0      2  \n",
       "2012-02-19     23.536248     23.327999                  0      2  \n",
       "2012-02-20     23.408320     23.287588                  0      2  \n",
       "\n",
       "[3 rows x 28 columns]"
      ]
     },
     "execution_count": 16,
     "metadata": {},
     "output_type": "execute_result"
    }
   ],
   "source": [
    "# X_train slice for item_1\n",
    "# ==============================================================================\n",
    "X_train.loc[X_train['_level_skforecast'] == 0].head(3)"
   ]
  },
  {
   "cell_type": "code",
   "execution_count": 17,
   "id": "62aa0f6b",
   "metadata": {},
   "outputs": [
    {
     "data": {
      "application/vnd.microsoft.datawrangler.viewer.v0+json": {
       "columns": [
        {
         "name": "date",
         "rawType": "datetime64[ns]",
         "type": "datetime"
        },
        {
         "name": "lag_1",
         "rawType": "float64",
         "type": "float"
        },
        {
         "name": "lag_2",
         "rawType": "float64",
         "type": "float"
        },
        {
         "name": "lag_3",
         "rawType": "float64",
         "type": "float"
        },
        {
         "name": "lag_4",
         "rawType": "float64",
         "type": "float"
        },
        {
         "name": "lag_5",
         "rawType": "float64",
         "type": "float"
        },
        {
         "name": "lag_6",
         "rawType": "float64",
         "type": "float"
        },
        {
         "name": "lag_7",
         "rawType": "float64",
         "type": "float"
        },
        {
         "name": "lag_8",
         "rawType": "float64",
         "type": "float"
        },
        {
         "name": "lag_9",
         "rawType": "float64",
         "type": "float"
        },
        {
         "name": "lag_10",
         "rawType": "float64",
         "type": "float"
        },
        {
         "name": "lag_11",
         "rawType": "float64",
         "type": "float"
        },
        {
         "name": "lag_12",
         "rawType": "float64",
         "type": "float"
        },
        {
         "name": "lag_13",
         "rawType": "float64",
         "type": "float"
        },
        {
         "name": "lag_14",
         "rawType": "float64",
         "type": "float"
        },
        {
         "name": "lag_15",
         "rawType": "float64",
         "type": "float"
        },
        {
         "name": "lag_16",
         "rawType": "float64",
         "type": "float"
        },
        {
         "name": "lag_17",
         "rawType": "float64",
         "type": "float"
        },
        {
         "name": "lag_18",
         "rawType": "float64",
         "type": "float"
        },
        {
         "name": "lag_19",
         "rawType": "float64",
         "type": "float"
        },
        {
         "name": "lag_20",
         "rawType": "float64",
         "type": "float"
        },
        {
         "name": "lag_21",
         "rawType": "float64",
         "type": "float"
        },
        {
         "name": "lag_22",
         "rawType": "float64",
         "type": "float"
        },
        {
         "name": "lag_23",
         "rawType": "float64",
         "type": "float"
        },
        {
         "name": "lag_24",
         "rawType": "float64",
         "type": "float"
        },
        {
         "name": "roll_mean_24",
         "rawType": "float64",
         "type": "float"
        },
        {
         "name": "roll_mean_48",
         "rawType": "float64",
         "type": "float"
        },
        {
         "name": "_level_skforecast",
         "rawType": "int64",
         "type": "integer"
        },
        {
         "name": "month",
         "rawType": "int32",
         "type": "integer"
        }
       ],
       "conversionMethod": "pd.DataFrame",
       "ref": "d9b852dd-c0a3-4a8a-8323-848f0af6adf5",
       "rows": [
        [
         "2012-02-18 00:00:00",
         "20.221875",
         "28.195833333333336",
         "22.97083333333333",
         "19.903125",
         "19.23958333333333",
         "18.446875",
         "19.85833333333333",
         "20.844791666666666",
         "17.282291666666666",
         "17.295833333333334",
         "18.459375",
         "18.979166666666668",
         "29.040625",
         "21.977083333333336",
         "20.667708333333334",
         "18.59375",
         "16.605208333333334",
         "21.542708333333334",
         "28.11145833333333",
         "25.032291666666666",
         "24.680208333333336",
         "20.038541666666667",
         "19.759375",
         "26.61145833333333",
         "21.431597222222223",
         "21.400473484848487",
         "1",
         "2"
        ],
        [
         "2012-02-19 00:00:00",
         "19.176041666666663",
         "20.221875",
         "28.195833333333336",
         "22.97083333333333",
         "19.903125",
         "19.23958333333333",
         "18.446875",
         "19.85833333333333",
         "20.844791666666666",
         "17.282291666666666",
         "17.295833333333334",
         "18.459375",
         "18.979166666666668",
         "29.040625",
         "21.977083333333336",
         "20.667708333333334",
         "18.59375",
         "16.605208333333334",
         "21.542708333333334",
         "28.11145833333333",
         "25.032291666666666",
         "24.680208333333336",
         "20.038541666666667",
         "19.759375",
         "21.121788194444445",
         "21.361480034722224",
         "1",
         "2"
        ],
        [
         "2012-02-20 00:00:00",
         "21.991666666666664",
         "19.176041666666663",
         "20.221875",
         "28.195833333333336",
         "22.97083333333333",
         "19.903125",
         "19.23958333333333",
         "18.446875",
         "19.85833333333333",
         "20.844791666666666",
         "17.282291666666666",
         "17.295833333333334",
         "18.459375",
         "18.979166666666668",
         "29.040625",
         "21.977083333333336",
         "20.667708333333334",
         "18.59375",
         "16.605208333333334",
         "21.542708333333334",
         "28.11145833333333",
         "25.032291666666666",
         "24.680208333333336",
         "20.038541666666667",
         "21.214800347222223",
         "21.265928819444444",
         "1",
         "2"
        ]
       ],
       "shape": {
        "columns": 28,
        "rows": 3
       }
      },
      "text/html": [
       "<div>\n",
       "<style scoped>\n",
       "    .dataframe tbody tr th:only-of-type {\n",
       "        vertical-align: middle;\n",
       "    }\n",
       "\n",
       "    .dataframe tbody tr th {\n",
       "        vertical-align: top;\n",
       "    }\n",
       "\n",
       "    .dataframe thead th {\n",
       "        text-align: right;\n",
       "    }\n",
       "</style>\n",
       "<table border=\"1\" class=\"dataframe\">\n",
       "  <thead>\n",
       "    <tr style=\"text-align: right;\">\n",
       "      <th></th>\n",
       "      <th>lag_1</th>\n",
       "      <th>lag_2</th>\n",
       "      <th>lag_3</th>\n",
       "      <th>lag_4</th>\n",
       "      <th>lag_5</th>\n",
       "      <th>lag_6</th>\n",
       "      <th>lag_7</th>\n",
       "      <th>lag_8</th>\n",
       "      <th>lag_9</th>\n",
       "      <th>lag_10</th>\n",
       "      <th>...</th>\n",
       "      <th>lag_19</th>\n",
       "      <th>lag_20</th>\n",
       "      <th>lag_21</th>\n",
       "      <th>lag_22</th>\n",
       "      <th>lag_23</th>\n",
       "      <th>lag_24</th>\n",
       "      <th>roll_mean_24</th>\n",
       "      <th>roll_mean_48</th>\n",
       "      <th>_level_skforecast</th>\n",
       "      <th>month</th>\n",
       "    </tr>\n",
       "    <tr>\n",
       "      <th>date</th>\n",
       "      <th></th>\n",
       "      <th></th>\n",
       "      <th></th>\n",
       "      <th></th>\n",
       "      <th></th>\n",
       "      <th></th>\n",
       "      <th></th>\n",
       "      <th></th>\n",
       "      <th></th>\n",
       "      <th></th>\n",
       "      <th></th>\n",
       "      <th></th>\n",
       "      <th></th>\n",
       "      <th></th>\n",
       "      <th></th>\n",
       "      <th></th>\n",
       "      <th></th>\n",
       "      <th></th>\n",
       "      <th></th>\n",
       "      <th></th>\n",
       "      <th></th>\n",
       "    </tr>\n",
       "  </thead>\n",
       "  <tbody>\n",
       "    <tr>\n",
       "      <th>2012-02-18</th>\n",
       "      <td>20.221875</td>\n",
       "      <td>28.195833</td>\n",
       "      <td>22.970833</td>\n",
       "      <td>19.903125</td>\n",
       "      <td>19.239583</td>\n",
       "      <td>18.446875</td>\n",
       "      <td>19.858333</td>\n",
       "      <td>20.844792</td>\n",
       "      <td>17.282292</td>\n",
       "      <td>17.295833</td>\n",
       "      <td>...</td>\n",
       "      <td>28.111458</td>\n",
       "      <td>25.032292</td>\n",
       "      <td>24.680208</td>\n",
       "      <td>20.038542</td>\n",
       "      <td>19.759375</td>\n",
       "      <td>26.611458</td>\n",
       "      <td>21.431597</td>\n",
       "      <td>21.400473</td>\n",
       "      <td>1</td>\n",
       "      <td>2</td>\n",
       "    </tr>\n",
       "    <tr>\n",
       "      <th>2012-02-19</th>\n",
       "      <td>19.176042</td>\n",
       "      <td>20.221875</td>\n",
       "      <td>28.195833</td>\n",
       "      <td>22.970833</td>\n",
       "      <td>19.903125</td>\n",
       "      <td>19.239583</td>\n",
       "      <td>18.446875</td>\n",
       "      <td>19.858333</td>\n",
       "      <td>20.844792</td>\n",
       "      <td>17.282292</td>\n",
       "      <td>...</td>\n",
       "      <td>21.542708</td>\n",
       "      <td>28.111458</td>\n",
       "      <td>25.032292</td>\n",
       "      <td>24.680208</td>\n",
       "      <td>20.038542</td>\n",
       "      <td>19.759375</td>\n",
       "      <td>21.121788</td>\n",
       "      <td>21.361480</td>\n",
       "      <td>1</td>\n",
       "      <td>2</td>\n",
       "    </tr>\n",
       "    <tr>\n",
       "      <th>2012-02-20</th>\n",
       "      <td>21.991667</td>\n",
       "      <td>19.176042</td>\n",
       "      <td>20.221875</td>\n",
       "      <td>28.195833</td>\n",
       "      <td>22.970833</td>\n",
       "      <td>19.903125</td>\n",
       "      <td>19.239583</td>\n",
       "      <td>18.446875</td>\n",
       "      <td>19.858333</td>\n",
       "      <td>20.844792</td>\n",
       "      <td>...</td>\n",
       "      <td>16.605208</td>\n",
       "      <td>21.542708</td>\n",
       "      <td>28.111458</td>\n",
       "      <td>25.032292</td>\n",
       "      <td>24.680208</td>\n",
       "      <td>20.038542</td>\n",
       "      <td>21.214800</td>\n",
       "      <td>21.265929</td>\n",
       "      <td>1</td>\n",
       "      <td>2</td>\n",
       "    </tr>\n",
       "  </tbody>\n",
       "</table>\n",
       "<p>3 rows × 28 columns</p>\n",
       "</div>"
      ],
      "text/plain": [
       "                lag_1      lag_2      lag_3      lag_4      lag_5      lag_6  \\\n",
       "date                                                                           \n",
       "2012-02-18  20.221875  28.195833  22.970833  19.903125  19.239583  18.446875   \n",
       "2012-02-19  19.176042  20.221875  28.195833  22.970833  19.903125  19.239583   \n",
       "2012-02-20  21.991667  19.176042  20.221875  28.195833  22.970833  19.903125   \n",
       "\n",
       "                lag_7      lag_8      lag_9     lag_10  ...     lag_19  \\\n",
       "date                                                    ...              \n",
       "2012-02-18  19.858333  20.844792  17.282292  17.295833  ...  28.111458   \n",
       "2012-02-19  18.446875  19.858333  20.844792  17.282292  ...  21.542708   \n",
       "2012-02-20  19.239583  18.446875  19.858333  20.844792  ...  16.605208   \n",
       "\n",
       "               lag_20     lag_21     lag_22     lag_23     lag_24  \\\n",
       "date                                                                \n",
       "2012-02-18  25.032292  24.680208  20.038542  19.759375  26.611458   \n",
       "2012-02-19  28.111458  25.032292  24.680208  20.038542  19.759375   \n",
       "2012-02-20  21.542708  28.111458  25.032292  24.680208  20.038542   \n",
       "\n",
       "            roll_mean_24  roll_mean_48  _level_skforecast  month  \n",
       "date                                                              \n",
       "2012-02-18     21.431597     21.400473                  1      2  \n",
       "2012-02-19     21.121788     21.361480                  1      2  \n",
       "2012-02-20     21.214800     21.265929                  1      2  \n",
       "\n",
       "[3 rows x 28 columns]"
      ]
     },
     "execution_count": 17,
     "metadata": {},
     "output_type": "execute_result"
    }
   ],
   "source": [
    "# X_train slice for item_2\n",
    "# ==============================================================================\n",
    "X_train.loc[X_train['_level_skforecast'] == 1].head(3)"
   ]
  },
  {
   "cell_type": "markdown",
   "id": "6b01c641",
   "metadata": {},
   "source": [
    "To use exogenous variables in backtesting or hyperparameter tuning, they must be specified with the `exog` argument."
   ]
  },
  {
   "cell_type": "code",
   "execution_count": 18,
   "id": "bcbb06a9",
   "metadata": {},
   "outputs": [
    {
     "data": {
      "application/vnd.jupyter.widget-view+json": {
       "model_id": "c9be7d9cd8cc4b71a0aa10532931efad",
       "version_major": 2,
       "version_minor": 0
      },
      "text/plain": [
       "  0%|          | 0/8 [00:00<?, ?it/s]"
      ]
     },
     "metadata": {},
     "output_type": "display_data"
    },
    {
     "data": {
      "application/vnd.microsoft.datawrangler.viewer.v0+json": {
       "columns": [
        {
         "name": "index",
         "rawType": "int64",
         "type": "integer"
        },
        {
         "name": "levels",
         "rawType": "object",
         "type": "string"
        },
        {
         "name": "mean_absolute_error",
         "rawType": "float64",
         "type": "float"
        }
       ],
       "conversionMethod": "pd.DataFrame",
       "ref": "3acc09d0-45ad-43d7-bddd-0cfed96a59cd",
       "rows": [
        [
         "0",
         "item_1",
         "1.2655691145645709"
        ],
        [
         "1",
         "item_2",
         "2.617126128321142"
        ],
        [
         "2",
         "item_3",
         "3.2852838832498317"
        ],
        [
         "3",
         "average",
         "2.389326375378515"
        ],
        [
         "4",
         "weighted_average",
         "2.3893263753785146"
        ],
        [
         "5",
         "pooling",
         "2.3893263753785146"
        ]
       ],
       "shape": {
        "columns": 2,
        "rows": 6
       }
      },
      "text/html": [
       "<div>\n",
       "<style scoped>\n",
       "    .dataframe tbody tr th:only-of-type {\n",
       "        vertical-align: middle;\n",
       "    }\n",
       "\n",
       "    .dataframe tbody tr th {\n",
       "        vertical-align: top;\n",
       "    }\n",
       "\n",
       "    .dataframe thead th {\n",
       "        text-align: right;\n",
       "    }\n",
       "</style>\n",
       "<table border=\"1\" class=\"dataframe\">\n",
       "  <thead>\n",
       "    <tr style=\"text-align: right;\">\n",
       "      <th></th>\n",
       "      <th>levels</th>\n",
       "      <th>mean_absolute_error</th>\n",
       "    </tr>\n",
       "  </thead>\n",
       "  <tbody>\n",
       "    <tr>\n",
       "      <th>0</th>\n",
       "      <td>item_1</td>\n",
       "      <td>1.265569</td>\n",
       "    </tr>\n",
       "    <tr>\n",
       "      <th>1</th>\n",
       "      <td>item_2</td>\n",
       "      <td>2.617126</td>\n",
       "    </tr>\n",
       "    <tr>\n",
       "      <th>2</th>\n",
       "      <td>item_3</td>\n",
       "      <td>3.285284</td>\n",
       "    </tr>\n",
       "    <tr>\n",
       "      <th>3</th>\n",
       "      <td>average</td>\n",
       "      <td>2.389326</td>\n",
       "    </tr>\n",
       "    <tr>\n",
       "      <th>4</th>\n",
       "      <td>weighted_average</td>\n",
       "      <td>2.389326</td>\n",
       "    </tr>\n",
       "    <tr>\n",
       "      <th>5</th>\n",
       "      <td>pooling</td>\n",
       "      <td>2.389326</td>\n",
       "    </tr>\n",
       "  </tbody>\n",
       "</table>\n",
       "</div>"
      ],
      "text/plain": [
       "             levels  mean_absolute_error\n",
       "0            item_1             1.265569\n",
       "1            item_2             2.617126\n",
       "2            item_3             3.285284\n",
       "3           average             2.389326\n",
       "4  weighted_average             2.389326\n",
       "5           pooling             2.389326"
      ]
     },
     "metadata": {},
     "output_type": "display_data"
    },
    {
     "data": {
      "application/vnd.microsoft.datawrangler.viewer.v0+json": {
       "columns": [
        {
         "name": "index",
         "rawType": "datetime64[ns]",
         "type": "datetime"
        },
        {
         "name": "level",
         "rawType": "object",
         "type": "string"
        },
        {
         "name": "pred",
         "rawType": "float64",
         "type": "float"
        }
       ],
       "conversionMethod": "pd.DataFrame",
       "ref": "76d0cf05-3960-4bce-b94e-e283e851d6e3",
       "rows": [
        [
         "2014-07-16 00:00:00",
         "item_1",
         "25.5122368886157"
        ],
        [
         "2014-07-16 00:00:00",
         "item_2",
         "10.096573959381885"
        ],
        [
         "2014-07-16 00:00:00",
         "item_3",
         "11.036197975045372"
        ],
        [
         "2014-07-17 00:00:00",
         "item_1",
         "25.56661511948584"
        ]
       ],
       "shape": {
        "columns": 2,
        "rows": 4
       }
      },
      "text/html": [
       "<div>\n",
       "<style scoped>\n",
       "    .dataframe tbody tr th:only-of-type {\n",
       "        vertical-align: middle;\n",
       "    }\n",
       "\n",
       "    .dataframe tbody tr th {\n",
       "        vertical-align: top;\n",
       "    }\n",
       "\n",
       "    .dataframe thead th {\n",
       "        text-align: right;\n",
       "    }\n",
       "</style>\n",
       "<table border=\"1\" class=\"dataframe\">\n",
       "  <thead>\n",
       "    <tr style=\"text-align: right;\">\n",
       "      <th></th>\n",
       "      <th>level</th>\n",
       "      <th>pred</th>\n",
       "    </tr>\n",
       "  </thead>\n",
       "  <tbody>\n",
       "    <tr>\n",
       "      <th>2014-07-16</th>\n",
       "      <td>item_1</td>\n",
       "      <td>25.512237</td>\n",
       "    </tr>\n",
       "    <tr>\n",
       "      <th>2014-07-16</th>\n",
       "      <td>item_2</td>\n",
       "      <td>10.096574</td>\n",
       "    </tr>\n",
       "    <tr>\n",
       "      <th>2014-07-16</th>\n",
       "      <td>item_3</td>\n",
       "      <td>11.036198</td>\n",
       "    </tr>\n",
       "    <tr>\n",
       "      <th>2014-07-17</th>\n",
       "      <td>item_1</td>\n",
       "      <td>25.566615</td>\n",
       "    </tr>\n",
       "  </tbody>\n",
       "</table>\n",
       "</div>"
      ],
      "text/plain": [
       "             level       pred\n",
       "2014-07-16  item_1  25.512237\n",
       "2014-07-16  item_2  10.096574\n",
       "2014-07-16  item_3  11.036198\n",
       "2014-07-17  item_1  25.566615"
      ]
     },
     "execution_count": 18,
     "metadata": {},
     "output_type": "execute_result"
    }
   ],
   "source": [
    "# Backtesting Multi-Series with exog\n",
    "# ==============================================================================\n",
    "cv = TimeSeriesFold(\n",
    "         steps              = 24,\n",
    "         initial_train_size = len(data_exog_train),\n",
    "         refit              = True,\n",
    "     )\n",
    "\n",
    "metrics_levels, backtest_predictions = backtesting_forecaster_multiseries(\n",
    "    forecaster            = forecaster,\n",
    "    series                = data_exog[['item_1', 'item_2', 'item_3']],\n",
    "    exog                  = data_exog[['month']],\n",
    "    cv                    = cv,\n",
    "    levels                = None,\n",
    "    metric                = 'mean_absolute_error',\n",
    "    add_aggregated_metric = True\n",
    ")\n",
    "\n",
    "display(metrics_levels)\n",
    "backtest_predictions.head(4)"
   ]
  },
  {
   "attachments": {},
   "cell_type": "markdown",
   "id": "da302dd6",
   "metadata": {},
   "source": [
    "## Series transformations"
   ]
  },
  {
   "cell_type": "markdown",
   "id": "ba8c8ed6",
   "metadata": {},
   "source": [
    "<code>ForecasterRecursiveMultiSeries</code> allows to transform series before training the model using the argument `transformer_series`, three diferent options are available:\n",
    "\n",
    "+ `transformer_series` is a single transformer: When a single transformer is provided, it is automatically cloned for each individual series. Each cloned transformer is then trained separately on one of the series.\n",
    "\n",
    "+ `transformer_series` is a dictionary: A different transformer can be specified for each series by passing a dictionary where the keys correspond to the series names and the values are the transformers. Each series is transformed according to its designated transformer. When this option is used, it is mandatory to include a transformer for unknown series, which is indicated by the key `'_unknown_level'`.\n",
    "\n",
    "+ `transformer_series` is None: no transformations are applied to any of the series.\n",
    "\n",
    "Regardless of the configuration, each series is transformed independently. Even when using a single transformer, it is cloned internally and applied separately to each series."
   ]
  },
  {
   "cell_type": "code",
   "execution_count": 19,
   "id": "0d13c7ad",
   "metadata": {},
   "outputs": [
    {
     "data": {
      "text/html": [
       "\n",
       "    <style>\n",
       "        .container-ec2c05a98be44bc88ba9ac2d8b16d23a {\n",
       "            font-family: 'Arial', sans-serif;\n",
       "            font-size: 0.9em;\n",
       "            color: #333333;\n",
       "            border: 1px solid #ddd;\n",
       "            background-color: #f0f8ff;\n",
       "            padding: 5px 15px;\n",
       "            border-radius: 8px;\n",
       "            max-width: 600px;\n",
       "            #margin: auto;\n",
       "        }\n",
       "        .container-ec2c05a98be44bc88ba9ac2d8b16d23a h2 {\n",
       "            font-size: 1.5em;\n",
       "            color: #222222;\n",
       "            border-bottom: 2px solid #ddd;\n",
       "            padding-bottom: 5px;\n",
       "            margin-bottom: 15px;\n",
       "            margin-top: 5px;\n",
       "        }\n",
       "        .container-ec2c05a98be44bc88ba9ac2d8b16d23a details {\n",
       "            margin: 10px 0;\n",
       "        }\n",
       "        .container-ec2c05a98be44bc88ba9ac2d8b16d23a summary {\n",
       "            font-weight: bold;\n",
       "            font-size: 1.1em;\n",
       "            color: #000000;\n",
       "            cursor: pointer;\n",
       "            margin-bottom: 5px;\n",
       "            background-color: #b3dbfd;\n",
       "            padding: 5px;\n",
       "            border-radius: 5px;\n",
       "        }\n",
       "        .container-ec2c05a98be44bc88ba9ac2d8b16d23a summary:hover {\n",
       "            color: #000000;\n",
       "            background-color: #e0e0e0;\n",
       "        }\n",
       "        .container-ec2c05a98be44bc88ba9ac2d8b16d23a ul {\n",
       "            font-family: 'Courier New', monospace;\n",
       "            list-style-type: none;\n",
       "            padding-left: 20px;\n",
       "            margin: 10px 0;\n",
       "            line-height: normal;\n",
       "        }\n",
       "        .container-ec2c05a98be44bc88ba9ac2d8b16d23a li {\n",
       "            margin: 5px 0;\n",
       "            font-family: 'Courier New', monospace;\n",
       "        }\n",
       "        .container-ec2c05a98be44bc88ba9ac2d8b16d23a li strong {\n",
       "            font-weight: bold;\n",
       "            color: #444444;\n",
       "        }\n",
       "        .container-ec2c05a98be44bc88ba9ac2d8b16d23a li::before {\n",
       "            content: \"- \";\n",
       "            color: #666666;\n",
       "        }\n",
       "        .container-ec2c05a98be44bc88ba9ac2d8b16d23a a {\n",
       "            color: #001633;\n",
       "            text-decoration: none;\n",
       "        }\n",
       "        .container-ec2c05a98be44bc88ba9ac2d8b16d23a a:hover {\n",
       "            color: #359ccb; \n",
       "        }\n",
       "    </style>\n",
       "    \n",
       "        <div class=\"container-ec2c05a98be44bc88ba9ac2d8b16d23a\">\n",
       "            <h2>ForecasterRecursiveMultiSeries</h2>\n",
       "            <details open>\n",
       "                <summary>General Information</summary>\n",
       "                <ul>\n",
       "                    <li><strong>Regressor:</strong> LGBMRegressor</li>\n",
       "                    <li><strong>Lags:</strong> [ 1  2  3  4  5  6  7  8  9 10 11 12 13 14 15 16 17 18 19 20 21 22 23 24]</li>\n",
       "                    <li><strong>Window features:</strong> ['roll_mean_24', 'roll_mean_48']</li>\n",
       "                    <li><strong>Window size:</strong> 48</li>\n",
       "                    <li><strong>Series encoding:</strong> ordinal</li>\n",
       "                    <li><strong>Exogenous included:</strong> False</li>\n",
       "                    <li><strong>Weight function included:</strong> False</li>\n",
       "                    <li><strong>Series weights:</strong> None</li>\n",
       "                    <li><strong>Differentiation order:</strong> None</li>\n",
       "                    <li><strong>Creation date:</strong> 2025-03-07 12:08:04</li>\n",
       "                    <li><strong>Last fit date:</strong> 2025-03-07 12:08:06</li>\n",
       "                    <li><strong>Skforecast version:</strong> 0.15.0</li>\n",
       "                    <li><strong>Python version:</strong> 3.12.9</li>\n",
       "                    <li><strong>Forecaster id:</strong> None</li>\n",
       "                </ul>\n",
       "            </details>\n",
       "            <details>\n",
       "                <summary>Exogenous Variables</summary>\n",
       "                <ul>\n",
       "                    None\n",
       "                </ul>\n",
       "            </details>\n",
       "            <details>\n",
       "                <summary>Data Transformations</summary>\n",
       "                <ul>\n",
       "                    <li><strong>Transformer for series:</strong> StandardScaler()</li>\n",
       "                    <li><strong>Transformer for exog:</strong> None</li>\n",
       "                </ul>\n",
       "            </details>\n",
       "            <details>\n",
       "                <summary>Training Information</summary>\n",
       "                <ul>\n",
       "                    <li><strong>Series names (levels):</strong> item_1, item_2, item_3</li>\n",
       "                    <li><strong>Training range:</strong> 'item_1': ['2012-01-01', '2014-07-15'], 'item_2': ['2012-01-01', '2014-07-15'], 'item_3': ['2012-01-01', '2014-07-15']</li>\n",
       "                    <li><strong>Training index type:</strong> DatetimeIndex</li>\n",
       "                    <li><strong>Training index frequency:</strong> D</li>\n",
       "                </ul>\n",
       "            </details>\n",
       "            <details>\n",
       "                <summary>Regressor Parameters</summary>\n",
       "                <ul>\n",
       "                    {'boosting_type': 'gbdt', 'class_weight': None, 'colsample_bytree': 1.0, 'importance_type': 'split', 'learning_rate': 0.1, 'max_depth': -1, 'min_child_samples': 20, 'min_child_weight': 0.001, 'min_split_gain': 0.0, 'n_estimators': 100, 'n_jobs': None, 'num_leaves': 31, 'objective': None, 'random_state': 123, 'reg_alpha': 0.0, 'reg_lambda': 0.0, 'subsample': 1.0, 'subsample_for_bin': 200000, 'subsample_freq': 0, 'verbose': -1}\n",
       "                </ul>\n",
       "            </details>\n",
       "            <details>\n",
       "                <summary>Fit Kwargs</summary>\n",
       "                <ul>\n",
       "                    {}\n",
       "                </ul>\n",
       "            </details>\n",
       "            <p>\n",
       "                <a href=\"https://skforecast.org/0.15.0/api/forecasterrecursivemultiseries.html\">&#128712 <strong>API Reference</strong></a>\n",
       "                &nbsp;&nbsp;\n",
       "                <a href=\"https://skforecast.org/0.15.0/user_guides/independent-multi-time-series-forecasting.html\">&#128462 <strong>User Guide</strong></a>\n",
       "            </p>\n",
       "        </div>\n",
       "        "
      ],
      "text/plain": [
       "============================== \n",
       "ForecasterRecursiveMultiSeries \n",
       "============================== \n",
       "Regressor: LGBMRegressor \n",
       "Lags: [ 1  2  3  4  5  6  7  8  9 10 11 12 13 14 15 16 17 18 19 20 21 22 23 24] \n",
       "Window features: ['roll_mean_24', 'roll_mean_48'] \n",
       "Window size: 48 \n",
       "Series encoding: ordinal \n",
       "Series names (levels): item_1, item_2, item_3 \n",
       "Exogenous included: False \n",
       "Exogenous names: None \n",
       "Transformer for series: StandardScaler() \n",
       "Transformer for exog: None \n",
       "Weight function included: False \n",
       "Series weights: None \n",
       "Differentiation order: None \n",
       "Training range: \n",
       "    'item_1': ['2012-01-01', '2014-07-15'], 'item_2': ['2012-01-01', '2014-07-15'],\n",
       "    'item_3': ['2012-01-01', '2014-07-15'] \n",
       "Training index type: DatetimeIndex \n",
       "Training index frequency: D \n",
       "Regressor parameters: \n",
       "    {'boosting_type': 'gbdt', 'class_weight': None, 'colsample_bytree': 1.0,\n",
       "    'importance_type': 'split', 'learning_rate': 0.1, 'max_depth': -1,\n",
       "    'min_child_samples': 20, 'min_child_weight': 0.001, 'min_split_gain': 0.0,\n",
       "    'n_estimators': 100, 'n_jobs': None, 'num_leaves': 31, 'objective': None,\n",
       "    'random_state': 123, 'reg_alpha': 0.0, 'reg_lambda': 0.0, 'subsample': 1.0,\n",
       "    'subsample_for_bin': 200000, 'subsample_freq': 0, 'verbose': -1} \n",
       "fit_kwargs: {} \n",
       "Creation date: 2025-03-07 12:08:04 \n",
       "Last fit date: 2025-03-07 12:08:06 \n",
       "Skforecast version: 0.15.0 \n",
       "Python version: 3.12.9 \n",
       "Forecaster id: None "
      ]
     },
     "execution_count": 19,
     "metadata": {},
     "output_type": "execute_result"
    }
   ],
   "source": [
    "# Series transformation: same transformation for all series\n",
    "# ==============================================================================\n",
    "forecaster = ForecasterRecursiveMultiSeries(\n",
    "                 regressor          = LGBMRegressor(random_state=123, verbose=-1),\n",
    "                 lags               = 24,\n",
    "                 window_features    = RollingFeatures(stats=['mean', 'mean'], window_sizes=[24, 48]),\n",
    "                 encoding           = 'ordinal',\n",
    "                 transformer_series = StandardScaler(),\n",
    "                 transformer_exog   = None\n",
    "             )\n",
    "\n",
    "forecaster.fit(series=data_train)\n",
    "forecaster"
   ]
  },
  {
   "cell_type": "markdown",
   "id": "44e58643",
   "metadata": {},
   "source": [
    "It is possible to access the fitted transformers for each series through the `transformers_series_` attribute. This allows verification that each transformer has been trained independently."
   ]
  },
  {
   "cell_type": "code",
   "execution_count": 20,
   "id": "220f534e",
   "metadata": {},
   "outputs": [
    {
     "name": "stdout",
     "output_type": "stream",
     "text": [
      "Series item_1: StandardScaler() mean=[22.47606719], scale=[2.56240321]\n",
      "Series item_2: StandardScaler() mean=[16.41739687], scale=[5.00145466]\n",
      "Series item_3: StandardScaler() mean=[17.30064109], scale=[5.53439225]\n",
      "Series _unknown_level: StandardScaler() mean=[18.73136838], scale=[5.2799675]\n"
     ]
    }
   ],
   "source": [
    "# Mean and scale of the transformer for each series\n",
    "# ==============================================================================\n",
    "for k, v in forecaster.transformer_series_.items():\n",
    "    print(f\"Series {k}: {v} mean={v.mean_}, scale={v.scale_}\")"
   ]
  },
  {
   "cell_type": "code",
   "execution_count": 21,
   "id": "9c6cce05",
   "metadata": {},
   "outputs": [
    {
     "data": {
      "text/html": [
       "<pre style=\"white-space:pre;overflow-x:auto;line-height:normal;font-family:Menlo,'DejaVu Sans Mono',consolas,'Courier New',monospace\"><span style=\"color: #ffaf00; text-decoration-color: #ffaf00\">╭─────────────────────────────── IgnoredArgumentWarning ───────────────────────────────╮</span>\n",
       "<span style=\"color: #ffaf00; text-decoration-color: #ffaf00\">│</span> {'item_3'} not present in `transformer_series`. No transformation is applied to      <span style=\"color: #ffaf00; text-decoration-color: #ffaf00\">│</span>\n",
       "<span style=\"color: #ffaf00; text-decoration-color: #ffaf00\">│</span> these series.                                                                        <span style=\"color: #ffaf00; text-decoration-color: #ffaf00\">│</span>\n",
       "<span style=\"color: #ffaf00; text-decoration-color: #ffaf00\">│</span>                                                                                      <span style=\"color: #ffaf00; text-decoration-color: #ffaf00\">│</span>\n",
       "<span style=\"color: #ffaf00; text-decoration-color: #ffaf00\">│</span> Category : IgnoredArgumentWarning                                                    <span style=\"color: #ffaf00; text-decoration-color: #ffaf00\">│</span>\n",
       "<span style=\"color: #ffaf00; text-decoration-color: #ffaf00\">│</span> Location :                                                                           <span style=\"color: #ffaf00; text-decoration-color: #ffaf00\">│</span>\n",
       "<span style=\"color: #ffaf00; text-decoration-color: #ffaf00\">│</span> c:\\anaconda\\envs\\skforecast_15_p12\\Lib\\site-packages\\skforecast\\utils\\utils.py:370   <span style=\"color: #ffaf00; text-decoration-color: #ffaf00\">│</span>\n",
       "<span style=\"color: #ffaf00; text-decoration-color: #ffaf00\">│</span> Suppress : warnings.simplefilter('ignore', category=IgnoredArgumentWarning)          <span style=\"color: #ffaf00; text-decoration-color: #ffaf00\">│</span>\n",
       "<span style=\"color: #ffaf00; text-decoration-color: #ffaf00\">╰──────────────────────────────────────────────────────────────────────────────────────╯</span>\n",
       "</pre>\n"
      ],
      "text/plain": [
       "\u001b[38;5;214m╭─\u001b[0m\u001b[38;5;214m──────────────────────────────\u001b[0m\u001b[38;5;214m IgnoredArgumentWarning \u001b[0m\u001b[38;5;214m──────────────────────────────\u001b[0m\u001b[38;5;214m─╮\u001b[0m\n",
       "\u001b[38;5;214m│\u001b[0m {'item_3'} not present in `transformer_series`. No transformation is applied to      \u001b[38;5;214m│\u001b[0m\n",
       "\u001b[38;5;214m│\u001b[0m these series.                                                                        \u001b[38;5;214m│\u001b[0m\n",
       "\u001b[38;5;214m│\u001b[0m                                                                                      \u001b[38;5;214m│\u001b[0m\n",
       "\u001b[38;5;214m│\u001b[0m Category : IgnoredArgumentWarning                                                    \u001b[38;5;214m│\u001b[0m\n",
       "\u001b[38;5;214m│\u001b[0m Location :                                                                           \u001b[38;5;214m│\u001b[0m\n",
       "\u001b[38;5;214m│\u001b[0m c:\\anaconda\\envs\\skforecast_15_p12\\Lib\\site-packages\\skforecast\\utils\\utils.py:370   \u001b[38;5;214m│\u001b[0m\n",
       "\u001b[38;5;214m│\u001b[0m Suppress : warnings.simplefilter('ignore', category=IgnoredArgumentWarning)          \u001b[38;5;214m│\u001b[0m\n",
       "\u001b[38;5;214m╰──────────────────────────────────────────────────────────────────────────────────────╯\u001b[0m\n"
      ]
     },
     "metadata": {},
     "output_type": "display_data"
    }
   ],
   "source": [
    "# Series transformation: different transformation for each series\n",
    "# ==============================================================================\n",
    "forecaster = ForecasterRecursiveMultiSeries(\n",
    "                 regressor          = LGBMRegressor(random_state=123, verbose=-1),\n",
    "                 lags               = 24,\n",
    "                 window_features    = RollingFeatures(stats=['mean', 'mean'], window_sizes=[24, 48]),\n",
    "                 encoding           = 'ordinal',\n",
    "                 transformer_series = {'item_1': StandardScaler(), 'item_2': MinMaxScaler(), '_unknown_level': StandardScaler()},\n",
    "                 transformer_exog   = None\n",
    "             )\n",
    "\n",
    "forecaster.fit(series=data_train)"
   ]
  },
  {
   "cell_type": "code",
   "execution_count": 22,
   "id": "e91dc7ed",
   "metadata": {},
   "outputs": [
    {
     "name": "stdout",
     "output_type": "stream",
     "text": [
      "Series item_1: {'copy': True, 'with_mean': True, 'with_std': True}\n",
      "Series item_2: {'clip': False, 'copy': True, 'feature_range': (0, 1)}\n",
      "Series item_3: None\n",
      "Series _unknown_level: {'copy': True, 'with_mean': True, 'with_std': True}\n"
     ]
    }
   ],
   "source": [
    "# Transformer trained for each series\n",
    "# ==============================================================================\n",
    "for k, v in forecaster.transformer_series_.items():\n",
    "    if v is not None:\n",
    "        print(f\"Series {k}: {v.get_params()}\")\n",
    "    else:\n",
    "        print(f\"Series {k}: {v}\")"
   ]
  },
  {
   "attachments": {},
   "cell_type": "markdown",
   "id": "d6130828",
   "metadata": {},
   "source": [
    "## Series with different lengths and different exogenous variables"
   ]
  },
  {
   "cell_type": "markdown",
   "id": "a568438c",
   "metadata": {},
   "source": [
    "The class <code>ForecasterRecursiveMultiSeries</code> allows the simultaneous modeling of time series of different lengths and using different exogenous variables. Various scenarios are possible:\n",
    "\n",
    "- If `series` is a `pandas DataFrame` and `exog` is a `pandas Series` or `DataFrame`, each exog is duplicated for each series. `exog` must have the same index as `series` (type, length and frequency).\n",
    "\n",
    "- If `series` is a `pandas DataFrame` and `exog` is a dict of `pandas Series` or `DataFrames`. Each key in `exog` must be a column in `series` and the values are the exog for each series. `exog` must have the same index as `series` (type, length and frequency).\n",
    "\n",
    "- If `series` is a `dict` of `pandas Series`, `exog` must be a dict of `pandas Series` or `DataFrames`. The keys in `series` and `exog` must be the same. All series and exog must have a `pandas DatetimeIndex` with the same frequency.\n",
    "\n",
    "\n",
    "| Series type  | Exog type               | Requirements                                 |\n",
    "|:------------:|:-----------------------:|:--------------------------------------------:|\n",
    "| `DataFrame`  | `Series` or `DataFrame` | Same index (type, length and frequency)      |\n",
    "| `DataFrame`  | `dict`                  | Same index (type, length and frequency)      |\n",
    "| `dict`       | `dict`                  | Both `pandas DatetimeIndex` (same frequency) |"
   ]
  },
  {
   "cell_type": "code",
   "execution_count": 23,
   "id": "afb2c111",
   "metadata": {},
   "outputs": [
    {
     "data": {
      "application/vnd.microsoft.datawrangler.viewer.v0+json": {
       "columns": [
        {
         "name": "date",
         "rawType": "datetime64[ns]",
         "type": "datetime"
        },
        {
         "name": "lag_1",
         "rawType": "float64",
         "type": "float"
        },
        {
         "name": "lag_2",
         "rawType": "float64",
         "type": "float"
        },
        {
         "name": "lag_3",
         "rawType": "float64",
         "type": "float"
        },
        {
         "name": "lag_4",
         "rawType": "float64",
         "type": "float"
        },
        {
         "name": "_level_skforecast",
         "rawType": "int64",
         "type": "integer"
        },
        {
         "name": "month",
         "rawType": "int32",
         "type": "integer"
        }
       ],
       "conversionMethod": "pd.DataFrame",
       "ref": "7559da72-07cc-4006-8808-0896e0885f91",
       "rows": [
        [
         "2012-01-05 00:00:00",
         "1.3344760642634725",
         "1.9797944668923622",
         "0.11776387770073361",
         "-5.550606769491605",
         "0",
         "1"
        ],
        [
         "2012-01-06 00:00:00",
         "-0.4280471916319265",
         "1.3344760642634725",
         "1.9797944668923622",
         "0.11776387770073361",
         "0",
         "1"
        ],
        [
         "2012-01-07 00:00:00",
         "-0.5344297619459561",
         "-0.4280471916319265",
         "1.3344760642634725",
         "1.9797944668923622",
         "0",
         "1"
        ]
       ],
       "shape": {
        "columns": 6,
        "rows": 3
       }
      },
      "text/html": [
       "<div>\n",
       "<style scoped>\n",
       "    .dataframe tbody tr th:only-of-type {\n",
       "        vertical-align: middle;\n",
       "    }\n",
       "\n",
       "    .dataframe tbody tr th {\n",
       "        vertical-align: top;\n",
       "    }\n",
       "\n",
       "    .dataframe thead th {\n",
       "        text-align: right;\n",
       "    }\n",
       "</style>\n",
       "<table border=\"1\" class=\"dataframe\">\n",
       "  <thead>\n",
       "    <tr style=\"text-align: right;\">\n",
       "      <th></th>\n",
       "      <th>lag_1</th>\n",
       "      <th>lag_2</th>\n",
       "      <th>lag_3</th>\n",
       "      <th>lag_4</th>\n",
       "      <th>_level_skforecast</th>\n",
       "      <th>month</th>\n",
       "    </tr>\n",
       "    <tr>\n",
       "      <th>date</th>\n",
       "      <th></th>\n",
       "      <th></th>\n",
       "      <th></th>\n",
       "      <th></th>\n",
       "      <th></th>\n",
       "      <th></th>\n",
       "    </tr>\n",
       "  </thead>\n",
       "  <tbody>\n",
       "    <tr>\n",
       "      <th>2012-01-05</th>\n",
       "      <td>1.334476</td>\n",
       "      <td>1.979794</td>\n",
       "      <td>0.117764</td>\n",
       "      <td>-5.550607</td>\n",
       "      <td>0</td>\n",
       "      <td>1</td>\n",
       "    </tr>\n",
       "    <tr>\n",
       "      <th>2012-01-06</th>\n",
       "      <td>-0.428047</td>\n",
       "      <td>1.334476</td>\n",
       "      <td>1.979794</td>\n",
       "      <td>0.117764</td>\n",
       "      <td>0</td>\n",
       "      <td>1</td>\n",
       "    </tr>\n",
       "    <tr>\n",
       "      <th>2012-01-07</th>\n",
       "      <td>-0.534430</td>\n",
       "      <td>-0.428047</td>\n",
       "      <td>1.334476</td>\n",
       "      <td>1.979794</td>\n",
       "      <td>0</td>\n",
       "      <td>1</td>\n",
       "    </tr>\n",
       "  </tbody>\n",
       "</table>\n",
       "</div>"
      ],
      "text/plain": [
       "               lag_1     lag_2     lag_3     lag_4  _level_skforecast  month\n",
       "date                                                                        \n",
       "2012-01-05  1.334476  1.979794  0.117764 -5.550607                  0      1\n",
       "2012-01-06 -0.428047  1.334476  1.979794  0.117764                  0      1\n",
       "2012-01-07 -0.534430 -0.428047  1.334476  1.979794                  0      1"
      ]
     },
     "execution_count": 23,
     "metadata": {},
     "output_type": "execute_result"
    }
   ],
   "source": [
    "# Series and exog as DataFrames \n",
    "# ==============================================================================\n",
    "forecaster = ForecasterRecursiveMultiSeries(\n",
    "                 regressor          = LGBMRegressor(random_state=123, verbose=-1),\n",
    "                 lags               = 4,\n",
    "                 encoding           = 'ordinal',\n",
    "                 transformer_series = StandardScaler()\n",
    "             )\n",
    "\n",
    "X, y = forecaster.create_train_X_y(\n",
    "    series = data_exog_train[['item_1', 'item_2', 'item_3']], \n",
    "    exog   = data_exog_train[['month']]\n",
    ")\n",
    "X.head(3)"
   ]
  },
  {
   "cell_type": "markdown",
   "id": "666d8251",
   "metadata": {},
   "source": [
    "When `exog` is a dictionary of `pandas Series` or `DataFrames`, different exogenous variables can be used for each series or the same exogenous variable can have different values for each series."
   ]
  },
  {
   "cell_type": "code",
   "execution_count": 24,
   "id": "b5d912fb",
   "metadata": {},
   "outputs": [],
   "source": [
    "# Ilustrative example of different values for the same exogenous variable\n",
    "# ==============================================================================\n",
    "exog_1_item_1_train = pd.Series([1] * len(data_exog_train), name='exog_1', index=data_exog_train.index)\n",
    "exog_1_item_2_train = pd.Series([10] * len(data_exog_train), name='exog_1', index=data_exog_train.index)\n",
    "exog_1_item_3_train = pd.Series([100] * len(data_exog_train), name='exog_1', index=data_exog_train.index)\n",
    "\n",
    "exog_1_item_1_test = pd.Series([1] * len(data_exog_test), name='exog_1', index=data_exog_test.index)\n",
    "exog_1_item_2_test = pd.Series([10] * len(data_exog_test), name='exog_1', index=data_exog_test.index)\n",
    "exog_1_item_3_test = pd.Series([100] * len(data_exog_test), name='exog_1', index=data_exog_test.index)"
   ]
  },
  {
   "cell_type": "code",
   "execution_count": 25,
   "id": "b9090a1b",
   "metadata": {},
   "outputs": [
    {
     "data": {
      "application/vnd.microsoft.datawrangler.viewer.v0+json": {
       "columns": [
        {
         "name": "date",
         "rawType": "datetime64[ns]",
         "type": "datetime"
        },
        {
         "name": "lag_1",
         "rawType": "float64",
         "type": "float"
        },
        {
         "name": "lag_2",
         "rawType": "float64",
         "type": "float"
        },
        {
         "name": "lag_3",
         "rawType": "float64",
         "type": "float"
        },
        {
         "name": "lag_4",
         "rawType": "float64",
         "type": "float"
        },
        {
         "name": "_level_skforecast",
         "rawType": "int64",
         "type": "integer"
        },
        {
         "name": "exog_1",
         "rawType": "int64",
         "type": "integer"
        }
       ],
       "conversionMethod": "pd.DataFrame",
       "ref": "42df1230-0aec-4c10-98d0-c55ac46c81d0",
       "rows": [
        [
         "2012-01-05 00:00:00",
         "25.8955329422",
         "27.5490988882",
         "22.7778257304",
         "8.2531745918",
         "0",
         "1"
        ],
        [
         "2012-01-06 00:00:00",
         "21.3792376946",
         "25.8955329422",
         "27.5490988882",
         "22.7778257304",
         "0",
         "1"
        ],
        [
         "2012-01-07 00:00:00",
         "21.106642655",
         "21.3792376946",
         "25.8955329422",
         "27.5490988882",
         "0",
         "1"
        ]
       ],
       "shape": {
        "columns": 6,
        "rows": 3
       }
      },
      "text/html": [
       "<div>\n",
       "<style scoped>\n",
       "    .dataframe tbody tr th:only-of-type {\n",
       "        vertical-align: middle;\n",
       "    }\n",
       "\n",
       "    .dataframe tbody tr th {\n",
       "        vertical-align: top;\n",
       "    }\n",
       "\n",
       "    .dataframe thead th {\n",
       "        text-align: right;\n",
       "    }\n",
       "</style>\n",
       "<table border=\"1\" class=\"dataframe\">\n",
       "  <thead>\n",
       "    <tr style=\"text-align: right;\">\n",
       "      <th></th>\n",
       "      <th>lag_1</th>\n",
       "      <th>lag_2</th>\n",
       "      <th>lag_3</th>\n",
       "      <th>lag_4</th>\n",
       "      <th>_level_skforecast</th>\n",
       "      <th>exog_1</th>\n",
       "    </tr>\n",
       "    <tr>\n",
       "      <th>date</th>\n",
       "      <th></th>\n",
       "      <th></th>\n",
       "      <th></th>\n",
       "      <th></th>\n",
       "      <th></th>\n",
       "      <th></th>\n",
       "    </tr>\n",
       "  </thead>\n",
       "  <tbody>\n",
       "    <tr>\n",
       "      <th>2012-01-05</th>\n",
       "      <td>25.895533</td>\n",
       "      <td>27.549099</td>\n",
       "      <td>22.777826</td>\n",
       "      <td>8.253175</td>\n",
       "      <td>0</td>\n",
       "      <td>1</td>\n",
       "    </tr>\n",
       "    <tr>\n",
       "      <th>2012-01-06</th>\n",
       "      <td>21.379238</td>\n",
       "      <td>25.895533</td>\n",
       "      <td>27.549099</td>\n",
       "      <td>22.777826</td>\n",
       "      <td>0</td>\n",
       "      <td>1</td>\n",
       "    </tr>\n",
       "    <tr>\n",
       "      <th>2012-01-07</th>\n",
       "      <td>21.106643</td>\n",
       "      <td>21.379238</td>\n",
       "      <td>25.895533</td>\n",
       "      <td>27.549099</td>\n",
       "      <td>0</td>\n",
       "      <td>1</td>\n",
       "    </tr>\n",
       "  </tbody>\n",
       "</table>\n",
       "</div>"
      ],
      "text/plain": [
       "                lag_1      lag_2      lag_3      lag_4  _level_skforecast  \\\n",
       "date                                                                        \n",
       "2012-01-05  25.895533  27.549099  22.777826   8.253175                  0   \n",
       "2012-01-06  21.379238  25.895533  27.549099  22.777826                  0   \n",
       "2012-01-07  21.106643  21.379238  25.895533  27.549099                  0   \n",
       "\n",
       "            exog_1  \n",
       "date                \n",
       "2012-01-05       1  \n",
       "2012-01-06       1  \n",
       "2012-01-07       1  "
      ]
     },
     "metadata": {},
     "output_type": "display_data"
    },
    {
     "name": "stdout",
     "output_type": "stream",
     "text": [
      "\n",
      "Column `exog_1` as different values for each item (_level_skforecast id):\n"
     ]
    },
    {
     "data": {
      "text/plain": [
       "exog_1\n",
       "1      923\n",
       "10     923\n",
       "100    923\n",
       "Name: count, dtype: int64"
      ]
     },
     "execution_count": 25,
     "metadata": {},
     "output_type": "execute_result"
    }
   ],
   "source": [
    "# Series as DataFrame and exog as dict\n",
    "# ==============================================================================\n",
    "exog_train_as_dict = {\n",
    "    'item_1': exog_1_item_1_train,\n",
    "    'item_2': exog_1_item_2_train,\n",
    "    'item_3': exog_1_item_3_train\n",
    "}\n",
    "\n",
    "forecaster = ForecasterRecursiveMultiSeries(\n",
    "                 regressor = LGBMRegressor(random_state=123, verbose=-1),\n",
    "                 lags      = 4,\n",
    "                 encoding  = 'ordinal'\n",
    "             )\n",
    "\n",
    "X, y = forecaster.create_train_X_y(\n",
    "    series = data_exog_train[['item_1', 'item_2', 'item_3']], \n",
    "    exog   = exog_train_as_dict\n",
    ")\n",
    "\n",
    "display(X.head(3))\n",
    "print(\"\")\n",
    "print(\"Column `exog_1` as different values for each item (_level_skforecast id):\")\n",
    "X['exog_1'].value_counts()"
   ]
  },
  {
   "cell_type": "code",
   "execution_count": 26,
   "id": "20991082",
   "metadata": {},
   "outputs": [
    {
     "data": {
      "application/vnd.microsoft.datawrangler.viewer.v0+json": {
       "columns": [
        {
         "name": "index",
         "rawType": "datetime64[ns]",
         "type": "datetime"
        },
        {
         "name": "level",
         "rawType": "object",
         "type": "string"
        },
        {
         "name": "pred",
         "rawType": "float64",
         "type": "float"
        }
       ],
       "conversionMethod": "pd.DataFrame",
       "ref": "1af7909e-7ef2-4b17-b703-6282e3fac958",
       "rows": [
        [
         "2014-07-16 00:00:00",
         "item_1",
         "25.648910320863134"
        ],
        [
         "2014-07-16 00:00:00",
         "item_2",
         "10.677387566347301"
        ],
        [
         "2014-07-16 00:00:00",
         "item_3",
         "12.40263169147829"
        ]
       ],
       "shape": {
        "columns": 2,
        "rows": 3
       }
      },
      "text/html": [
       "<div>\n",
       "<style scoped>\n",
       "    .dataframe tbody tr th:only-of-type {\n",
       "        vertical-align: middle;\n",
       "    }\n",
       "\n",
       "    .dataframe tbody tr th {\n",
       "        vertical-align: top;\n",
       "    }\n",
       "\n",
       "    .dataframe thead th {\n",
       "        text-align: right;\n",
       "    }\n",
       "</style>\n",
       "<table border=\"1\" class=\"dataframe\">\n",
       "  <thead>\n",
       "    <tr style=\"text-align: right;\">\n",
       "      <th></th>\n",
       "      <th>level</th>\n",
       "      <th>pred</th>\n",
       "    </tr>\n",
       "  </thead>\n",
       "  <tbody>\n",
       "    <tr>\n",
       "      <th>2014-07-16</th>\n",
       "      <td>item_1</td>\n",
       "      <td>25.648910</td>\n",
       "    </tr>\n",
       "    <tr>\n",
       "      <th>2014-07-16</th>\n",
       "      <td>item_2</td>\n",
       "      <td>10.677388</td>\n",
       "    </tr>\n",
       "    <tr>\n",
       "      <th>2014-07-16</th>\n",
       "      <td>item_3</td>\n",
       "      <td>12.402632</td>\n",
       "    </tr>\n",
       "  </tbody>\n",
       "</table>\n",
       "</div>"
      ],
      "text/plain": [
       "             level       pred\n",
       "2014-07-16  item_1  25.648910\n",
       "2014-07-16  item_2  10.677388\n",
       "2014-07-16  item_3  12.402632"
      ]
     },
     "execution_count": 26,
     "metadata": {},
     "output_type": "execute_result"
    }
   ],
   "source": [
    "# Predict with series as DataFrame and exog as dict\n",
    "# ==============================================================================\n",
    "forecaster.fit(\n",
    "    series = data_exog_train[['item_1', 'item_2', 'item_3']], \n",
    "    exog   = exog_train_as_dict\n",
    ")\n",
    "\n",
    "exog_pred_as_dict = {\n",
    "    'item_1': exog_1_item_1_test,\n",
    "    'item_2': exog_1_item_2_test,\n",
    "    'item_3': exog_1_item_3_test\n",
    "}\n",
    "\n",
    "predictions = forecaster.predict(steps=24, exog=exog_pred_as_dict)\n",
    "predictions.head(3)"
   ]
  },
  {
   "cell_type": "markdown",
   "id": "25362369",
   "metadata": {},
   "source": [
    "<div class=\"admonition note\" name=\"html-admonition\" style=\"background: rgba(0,191,191,.1); padding-top: 0px; padding-bottom: 6px; border-radius: 8px; border-left: 8px solid #00bfa5; border-color: #00bfa5; padding-left: 10px; padding-right: 10px;\">\n",
    "\n",
    "<p class=\"title\">\n",
    "    <i style=\"font-size: 18px; color:#00bfa5;\"></i>\n",
    "    <b style=\"color: #00bfa5;\">&#128161 Tip</b>\n",
    "</p>\n",
    "\n",
    "When using series with different lengths and different exogenous variables, it is recommended to use <code>series</code> and <code>exog</code> as dictionaries. This way, it is easier to manage the data and avoid errors.\n",
    "\n",
    "Visit <a href=\"../user_guides/multi-series-with-different-length-and-different_exog.html\">Global Forecasting Models: Time series with different lengths and different exogenous variables</a> for more information.\n",
    "\n",
    "</div>"
   ]
  },
  {
   "cell_type": "markdown",
   "id": "8cb6d36b",
   "metadata": {},
   "source": [
    "## Series Encoding in multi-series\n",
    "\n",
    "When creating the training matrices, the <code>ForecasterRecursiveMultiSeries</code> class encodes the series names to identify the series to which the observations belong. Different encoding methods can be used:\n",
    "\n",
    "- `'ordinal'` (default), a single column (`_level_skforecast`) is created with integer values from 0 to n_series - 1.\n",
    "\n",
    "- `'ordinal_category'`, a single column (`_level_skforecast`) is created with integer values from 0 to n_series - 1. Then, the column is transformed into `pandas.category` dtype so that it can be used as a categorical variable.\n",
    "\n",
    "- `'onehot'`, a binary column is created for each series.\n",
    "\n",
    "- `None`, no encoding is performed (no column is created)."
   ]
  },
  {
   "cell_type": "markdown",
   "id": "f6892272",
   "metadata": {},
   "source": [
    "<div class=\"admonition note\" name=\"html-admonition\" style=\"background: rgba(255,145,0,.1); padding-top: 0px; padding-bottom: 6px; border-radius: 8px; border-left: 8px solid #ff9100; border-color: #ff9100; padding-left: 10px; padding-right: 10px\">\n",
    "\n",
    "<p class=\"title\">\n",
    "    <i style=\"font-size: 18px; color:#ff9100; border-color: #ff1744;\"></i>\n",
    "    <b style=\"color: #ff9100;\"> <span style=\"color: #ff9100;\">&#9888;</span> Warning</b>\n",
    "</p>\n",
    "\n",
    "<code>ForecasterRecursiveMultiSeries</code> class can use <code>encoding='ordinal_category'</code> for encoding time series identifiers. This approach creates a new column (<i>_level_skforecast</i>) of type pandas <code>category</code>. Consequently, the regressors must be able to handle categorical variables. If the regressors do not support categorical variables, the user should set the encoding to <code>'ordinal'</code> or <code>'onehot'</code> for compatibility.\n",
    "\n",
    "<p>Some examples of regressors that support categorical variables and how to enable them are:</p>\n",
    "\n",
    "<strong>HistGradientBoostingRegressor</strong> \n",
    "\n",
    "```python\n",
    "HistGradientBoostingRegressor(categorical_features=\"from_dtype\")\n",
    "```\n",
    "\n",
    "<strong>LightGBM</strong>\n",
    "\n",
    "<code>LGBMRegressor</code> does not allow configuration of categorical features during initialization, but rather in its <code>fit</code> method. Therefore, use Forecaster' argument <code>fit_kwargs = {'categorical_feature':'auto'}</code>. This is the default behavior of <code>LGBMRegressor</code> if no indication is given.\n",
    "\n",
    "<strong>XGBoost</strong>\n",
    "```python\n",
    "XGBRegressor(enable_categorical=True)\n",
    "```\n",
    "\n",
    "</div>"
   ]
  },
  {
   "cell_type": "code",
   "execution_count": 27,
   "id": "a76479c2",
   "metadata": {},
   "outputs": [
    {
     "data": {
      "application/vnd.microsoft.datawrangler.viewer.v0+json": {
       "columns": [
        {
         "name": "date",
         "rawType": "datetime64[ns]",
         "type": "datetime"
        },
        {
         "name": "lag_1",
         "rawType": "float64",
         "type": "float"
        },
        {
         "name": "lag_2",
         "rawType": "float64",
         "type": "float"
        },
        {
         "name": "lag_3",
         "rawType": "float64",
         "type": "float"
        },
        {
         "name": "_level_skforecast",
         "rawType": "category",
         "type": "unknown"
        }
       ],
       "conversionMethod": "pd.DataFrame",
       "ref": "a0f1fa05-2b71-47d5-b97b-38139c14ad1e",
       "rows": [
        [
         "2012-01-04 00:00:00",
         "27.5490988882",
         "22.7778257304",
         "8.2531745918",
         "0"
        ],
        [
         "2012-01-05 00:00:00",
         "25.8955329422",
         "27.5490988882",
         "22.7778257304",
         "0"
        ],
        [
         "2012-01-06 00:00:00",
         "21.3792376946",
         "25.8955329422",
         "27.5490988882",
         "0"
        ]
       ],
       "shape": {
        "columns": 4,
        "rows": 3
       }
      },
      "text/html": [
       "<div>\n",
       "<style scoped>\n",
       "    .dataframe tbody tr th:only-of-type {\n",
       "        vertical-align: middle;\n",
       "    }\n",
       "\n",
       "    .dataframe tbody tr th {\n",
       "        vertical-align: top;\n",
       "    }\n",
       "\n",
       "    .dataframe thead th {\n",
       "        text-align: right;\n",
       "    }\n",
       "</style>\n",
       "<table border=\"1\" class=\"dataframe\">\n",
       "  <thead>\n",
       "    <tr style=\"text-align: right;\">\n",
       "      <th></th>\n",
       "      <th>lag_1</th>\n",
       "      <th>lag_2</th>\n",
       "      <th>lag_3</th>\n",
       "      <th>_level_skforecast</th>\n",
       "    </tr>\n",
       "    <tr>\n",
       "      <th>date</th>\n",
       "      <th></th>\n",
       "      <th></th>\n",
       "      <th></th>\n",
       "      <th></th>\n",
       "    </tr>\n",
       "  </thead>\n",
       "  <tbody>\n",
       "    <tr>\n",
       "      <th>2012-01-04</th>\n",
       "      <td>27.549099</td>\n",
       "      <td>22.777826</td>\n",
       "      <td>8.253175</td>\n",
       "      <td>0</td>\n",
       "    </tr>\n",
       "    <tr>\n",
       "      <th>2012-01-05</th>\n",
       "      <td>25.895533</td>\n",
       "      <td>27.549099</td>\n",
       "      <td>22.777826</td>\n",
       "      <td>0</td>\n",
       "    </tr>\n",
       "    <tr>\n",
       "      <th>2012-01-06</th>\n",
       "      <td>21.379238</td>\n",
       "      <td>25.895533</td>\n",
       "      <td>27.549099</td>\n",
       "      <td>0</td>\n",
       "    </tr>\n",
       "  </tbody>\n",
       "</table>\n",
       "</div>"
      ],
      "text/plain": [
       "                lag_1      lag_2      lag_3 _level_skforecast\n",
       "date                                                         \n",
       "2012-01-04  27.549099  22.777826   8.253175                 0\n",
       "2012-01-05  25.895533  27.549099  22.777826                 0\n",
       "2012-01-06  21.379238  25.895533  27.549099                 0"
      ]
     },
     "metadata": {},
     "output_type": "display_data"
    },
    {
     "name": "stdout",
     "output_type": "stream",
     "text": [
      "\n",
      "lag_1                 float64\n",
      "lag_2                 float64\n",
      "lag_3                 float64\n",
      "_level_skforecast    category\n",
      "dtype: object\n",
      "\n",
      "_level_skforecast\n",
      "0    924\n",
      "1    924\n",
      "2    924\n",
      "Name: count, dtype: int64\n"
     ]
    }
   ],
   "source": [
    "# Ordinal_category encoding\n",
    "# ==============================================================================\n",
    "forecaster = ForecasterRecursiveMultiSeries(\n",
    "                 regressor = LGBMRegressor(random_state=123, verbose=-1),\n",
    "                 lags      = 3,\n",
    "                 encoding  = 'ordinal_category'\n",
    "             )\n",
    "\n",
    "X, y = forecaster.create_train_X_y(series=data_train)\n",
    "\n",
    "display(X.head(3))\n",
    "print(\"\")\n",
    "print(X.dtypes)\n",
    "print(\"\")\n",
    "print(X['_level_skforecast'].value_counts())"
   ]
  },
  {
   "cell_type": "code",
   "execution_count": 28,
   "id": "627fa899",
   "metadata": {},
   "outputs": [
    {
     "data": {
      "application/vnd.microsoft.datawrangler.viewer.v0+json": {
       "columns": [
        {
         "name": "date",
         "rawType": "datetime64[ns]",
         "type": "datetime"
        },
        {
         "name": "lag_1",
         "rawType": "float64",
         "type": "float"
        },
        {
         "name": "lag_2",
         "rawType": "float64",
         "type": "float"
        },
        {
         "name": "lag_3",
         "rawType": "float64",
         "type": "float"
        },
        {
         "name": "_level_skforecast",
         "rawType": "int64",
         "type": "integer"
        }
       ],
       "conversionMethod": "pd.DataFrame",
       "ref": "caa5a01f-5990-4e1b-9815-1de8b69c7290",
       "rows": [
        [
         "2012-01-04 00:00:00",
         "27.5490988882",
         "22.7778257304",
         "8.2531745918",
         "0"
        ],
        [
         "2012-01-05 00:00:00",
         "25.8955329422",
         "27.5490988882",
         "22.7778257304",
         "0"
        ],
        [
         "2012-01-06 00:00:00",
         "21.3792376946",
         "25.8955329422",
         "27.5490988882",
         "0"
        ]
       ],
       "shape": {
        "columns": 4,
        "rows": 3
       }
      },
      "text/html": [
       "<div>\n",
       "<style scoped>\n",
       "    .dataframe tbody tr th:only-of-type {\n",
       "        vertical-align: middle;\n",
       "    }\n",
       "\n",
       "    .dataframe tbody tr th {\n",
       "        vertical-align: top;\n",
       "    }\n",
       "\n",
       "    .dataframe thead th {\n",
       "        text-align: right;\n",
       "    }\n",
       "</style>\n",
       "<table border=\"1\" class=\"dataframe\">\n",
       "  <thead>\n",
       "    <tr style=\"text-align: right;\">\n",
       "      <th></th>\n",
       "      <th>lag_1</th>\n",
       "      <th>lag_2</th>\n",
       "      <th>lag_3</th>\n",
       "      <th>_level_skforecast</th>\n",
       "    </tr>\n",
       "    <tr>\n",
       "      <th>date</th>\n",
       "      <th></th>\n",
       "      <th></th>\n",
       "      <th></th>\n",
       "      <th></th>\n",
       "    </tr>\n",
       "  </thead>\n",
       "  <tbody>\n",
       "    <tr>\n",
       "      <th>2012-01-04</th>\n",
       "      <td>27.549099</td>\n",
       "      <td>22.777826</td>\n",
       "      <td>8.253175</td>\n",
       "      <td>0</td>\n",
       "    </tr>\n",
       "    <tr>\n",
       "      <th>2012-01-05</th>\n",
       "      <td>25.895533</td>\n",
       "      <td>27.549099</td>\n",
       "      <td>22.777826</td>\n",
       "      <td>0</td>\n",
       "    </tr>\n",
       "    <tr>\n",
       "      <th>2012-01-06</th>\n",
       "      <td>21.379238</td>\n",
       "      <td>25.895533</td>\n",
       "      <td>27.549099</td>\n",
       "      <td>0</td>\n",
       "    </tr>\n",
       "  </tbody>\n",
       "</table>\n",
       "</div>"
      ],
      "text/plain": [
       "                lag_1      lag_2      lag_3  _level_skforecast\n",
       "date                                                          \n",
       "2012-01-04  27.549099  22.777826   8.253175                  0\n",
       "2012-01-05  25.895533  27.549099  22.777826                  0\n",
       "2012-01-06  21.379238  25.895533  27.549099                  0"
      ]
     },
     "metadata": {},
     "output_type": "display_data"
    },
    {
     "name": "stdout",
     "output_type": "stream",
     "text": [
      "\n",
      "lag_1                float64\n",
      "lag_2                float64\n",
      "lag_3                float64\n",
      "_level_skforecast      int64\n",
      "dtype: object\n",
      "\n",
      "_level_skforecast\n",
      "0    924\n",
      "1    924\n",
      "2    924\n",
      "Name: count, dtype: int64\n"
     ]
    }
   ],
   "source": [
    "# Ordinal encoding\n",
    "# ==============================================================================\n",
    "forecaster = ForecasterRecursiveMultiSeries(\n",
    "                 regressor = LGBMRegressor(random_state=123, verbose=-1),\n",
    "                 lags      = 3,\n",
    "                 encoding  = 'ordinal'\n",
    "             )\n",
    "\n",
    "X, y = forecaster.create_train_X_y(series=data_train)\n",
    "\n",
    "display(X.head(3))\n",
    "print(\"\")\n",
    "print(X.dtypes)\n",
    "print(\"\")\n",
    "print(X['_level_skforecast'].value_counts())"
   ]
  },
  {
   "cell_type": "code",
   "execution_count": 29,
   "id": "2bc2027d",
   "metadata": {},
   "outputs": [
    {
     "data": {
      "application/vnd.microsoft.datawrangler.viewer.v0+json": {
       "columns": [
        {
         "name": "date",
         "rawType": "datetime64[ns]",
         "type": "datetime"
        },
        {
         "name": "lag_1",
         "rawType": "float64",
         "type": "float"
        },
        {
         "name": "lag_2",
         "rawType": "float64",
         "type": "float"
        },
        {
         "name": "lag_3",
         "rawType": "float64",
         "type": "float"
        },
        {
         "name": "item_1",
         "rawType": "int64",
         "type": "integer"
        },
        {
         "name": "item_2",
         "rawType": "int64",
         "type": "integer"
        },
        {
         "name": "item_3",
         "rawType": "int64",
         "type": "integer"
        }
       ],
       "conversionMethod": "pd.DataFrame",
       "ref": "045a8cf5-8d5c-43e3-8573-e393759feeee",
       "rows": [
        [
         "2012-01-04 00:00:00",
         "27.5490988882",
         "22.7778257304",
         "8.2531745918",
         "1",
         "0",
         "0"
        ],
        [
         "2012-01-05 00:00:00",
         "25.8955329422",
         "27.5490988882",
         "22.7778257304",
         "1",
         "0",
         "0"
        ],
        [
         "2012-01-06 00:00:00",
         "21.3792376946",
         "25.8955329422",
         "27.5490988882",
         "1",
         "0",
         "0"
        ]
       ],
       "shape": {
        "columns": 6,
        "rows": 3
       }
      },
      "text/html": [
       "<div>\n",
       "<style scoped>\n",
       "    .dataframe tbody tr th:only-of-type {\n",
       "        vertical-align: middle;\n",
       "    }\n",
       "\n",
       "    .dataframe tbody tr th {\n",
       "        vertical-align: top;\n",
       "    }\n",
       "\n",
       "    .dataframe thead th {\n",
       "        text-align: right;\n",
       "    }\n",
       "</style>\n",
       "<table border=\"1\" class=\"dataframe\">\n",
       "  <thead>\n",
       "    <tr style=\"text-align: right;\">\n",
       "      <th></th>\n",
       "      <th>lag_1</th>\n",
       "      <th>lag_2</th>\n",
       "      <th>lag_3</th>\n",
       "      <th>item_1</th>\n",
       "      <th>item_2</th>\n",
       "      <th>item_3</th>\n",
       "    </tr>\n",
       "    <tr>\n",
       "      <th>date</th>\n",
       "      <th></th>\n",
       "      <th></th>\n",
       "      <th></th>\n",
       "      <th></th>\n",
       "      <th></th>\n",
       "      <th></th>\n",
       "    </tr>\n",
       "  </thead>\n",
       "  <tbody>\n",
       "    <tr>\n",
       "      <th>2012-01-04</th>\n",
       "      <td>27.549099</td>\n",
       "      <td>22.777826</td>\n",
       "      <td>8.253175</td>\n",
       "      <td>1</td>\n",
       "      <td>0</td>\n",
       "      <td>0</td>\n",
       "    </tr>\n",
       "    <tr>\n",
       "      <th>2012-01-05</th>\n",
       "      <td>25.895533</td>\n",
       "      <td>27.549099</td>\n",
       "      <td>22.777826</td>\n",
       "      <td>1</td>\n",
       "      <td>0</td>\n",
       "      <td>0</td>\n",
       "    </tr>\n",
       "    <tr>\n",
       "      <th>2012-01-06</th>\n",
       "      <td>21.379238</td>\n",
       "      <td>25.895533</td>\n",
       "      <td>27.549099</td>\n",
       "      <td>1</td>\n",
       "      <td>0</td>\n",
       "      <td>0</td>\n",
       "    </tr>\n",
       "  </tbody>\n",
       "</table>\n",
       "</div>"
      ],
      "text/plain": [
       "                lag_1      lag_2      lag_3  item_1  item_2  item_3\n",
       "date                                                               \n",
       "2012-01-04  27.549099  22.777826   8.253175       1       0       0\n",
       "2012-01-05  25.895533  27.549099  22.777826       1       0       0\n",
       "2012-01-06  21.379238  25.895533  27.549099       1       0       0"
      ]
     },
     "metadata": {},
     "output_type": "display_data"
    },
    {
     "name": "stdout",
     "output_type": "stream",
     "text": [
      "\n",
      "lag_1     float64\n",
      "lag_2     float64\n",
      "lag_3     float64\n",
      "item_1      int64\n",
      "item_2      int64\n",
      "item_3      int64\n",
      "dtype: object\n",
      "\n",
      "item_1\n",
      "0    1848\n",
      "1     924\n",
      "Name: count, dtype: int64\n"
     ]
    }
   ],
   "source": [
    "# Onehot encoding (one column per series)\n",
    "# ==============================================================================\n",
    "forecaster = ForecasterRecursiveMultiSeries(\n",
    "                 regressor = LGBMRegressor(random_state=123, verbose=-1),\n",
    "                 lags      = 3,\n",
    "                 encoding  = 'onehot'\n",
    "             )\n",
    "\n",
    "X, y = forecaster.create_train_X_y(series=data_train)\n",
    "\n",
    "display(X.head(3))\n",
    "print(\"\")\n",
    "print(X.dtypes)\n",
    "print(\"\")\n",
    "print(X['item_1'].value_counts())"
   ]
  },
  {
   "cell_type": "code",
   "execution_count": 30,
   "id": "f5fd89b4",
   "metadata": {},
   "outputs": [
    {
     "data": {
      "application/vnd.microsoft.datawrangler.viewer.v0+json": {
       "columns": [
        {
         "name": "date",
         "rawType": "datetime64[ns]",
         "type": "datetime"
        },
        {
         "name": "lag_1",
         "rawType": "float64",
         "type": "float"
        },
        {
         "name": "lag_2",
         "rawType": "float64",
         "type": "float"
        },
        {
         "name": "lag_3",
         "rawType": "float64",
         "type": "float"
        }
       ],
       "conversionMethod": "pd.DataFrame",
       "ref": "a6070041-97c6-42e6-8790-a2b3ed198279",
       "rows": [
        [
         "2012-01-04 00:00:00",
         "27.5490988882",
         "22.7778257304",
         "8.2531745918"
        ],
        [
         "2012-01-05 00:00:00",
         "25.8955329422",
         "27.5490988882",
         "22.7778257304"
        ],
        [
         "2012-01-06 00:00:00",
         "21.3792376946",
         "25.8955329422",
         "27.5490988882"
        ]
       ],
       "shape": {
        "columns": 3,
        "rows": 3
       }
      },
      "text/html": [
       "<div>\n",
       "<style scoped>\n",
       "    .dataframe tbody tr th:only-of-type {\n",
       "        vertical-align: middle;\n",
       "    }\n",
       "\n",
       "    .dataframe tbody tr th {\n",
       "        vertical-align: top;\n",
       "    }\n",
       "\n",
       "    .dataframe thead th {\n",
       "        text-align: right;\n",
       "    }\n",
       "</style>\n",
       "<table border=\"1\" class=\"dataframe\">\n",
       "  <thead>\n",
       "    <tr style=\"text-align: right;\">\n",
       "      <th></th>\n",
       "      <th>lag_1</th>\n",
       "      <th>lag_2</th>\n",
       "      <th>lag_3</th>\n",
       "    </tr>\n",
       "    <tr>\n",
       "      <th>date</th>\n",
       "      <th></th>\n",
       "      <th></th>\n",
       "      <th></th>\n",
       "    </tr>\n",
       "  </thead>\n",
       "  <tbody>\n",
       "    <tr>\n",
       "      <th>2012-01-04</th>\n",
       "      <td>27.549099</td>\n",
       "      <td>22.777826</td>\n",
       "      <td>8.253175</td>\n",
       "    </tr>\n",
       "    <tr>\n",
       "      <th>2012-01-05</th>\n",
       "      <td>25.895533</td>\n",
       "      <td>27.549099</td>\n",
       "      <td>22.777826</td>\n",
       "    </tr>\n",
       "    <tr>\n",
       "      <th>2012-01-06</th>\n",
       "      <td>21.379238</td>\n",
       "      <td>25.895533</td>\n",
       "      <td>27.549099</td>\n",
       "    </tr>\n",
       "  </tbody>\n",
       "</table>\n",
       "</div>"
      ],
      "text/plain": [
       "                lag_1      lag_2      lag_3\n",
       "date                                       \n",
       "2012-01-04  27.549099  22.777826   8.253175\n",
       "2012-01-05  25.895533  27.549099  22.777826\n",
       "2012-01-06  21.379238  25.895533  27.549099"
      ]
     },
     "metadata": {},
     "output_type": "display_data"
    },
    {
     "name": "stdout",
     "output_type": "stream",
     "text": [
      "\n",
      "lag_1    float64\n",
      "lag_2    float64\n",
      "lag_3    float64\n",
      "dtype: object\n"
     ]
    }
   ],
   "source": [
    "# Onehot encoding (one column per series)\n",
    "# ==============================================================================\n",
    "forecaster = ForecasterRecursiveMultiSeries(\n",
    "                 regressor = LGBMRegressor(random_state=123, verbose=-1),\n",
    "                 lags      = 3,\n",
    "                 encoding  = None\n",
    "             )\n",
    "\n",
    "X, y = forecaster.create_train_X_y(series=data_train)\n",
    "\n",
    "display(X.head(3))\n",
    "print(\"\")\n",
    "print(X.dtypes)"
   ]
  },
  {
   "cell_type": "markdown",
   "id": "0a5c7dee",
   "metadata": {},
   "source": [
    "## Forecasting unknown series\n",
    "\n",
    "<code>ForecasterRecursiveMultiSeries</code> allows the prediction of unknown series (levels). If a series not seen during training is found during the prediction phase, the forecaster will encode the series according to the following rules:\n",
    "\n",
    "+ If `encoding` is `'onehot'`, all dummy columns are set to 0.\n",
    "\n",
    "+ If `encoding` is `'ordinal_category'` or `'ordinal'`, the value of the column `_level_skforecast` is set to `NaN`.\n",
    "\n",
    "Since the series was not present during training, the last window of the series must be provided when calling the `predict` method."
   ]
  },
  {
   "cell_type": "markdown",
   "id": "e3660a60",
   "metadata": {},
   "source": [
    "<div class=\"admonition note\" name=\"html-admonition\" style=\"background: rgba(255,145,0,.1); padding-top: 0px; padding-bottom: 6px; border-radius: 8px; border-left: 8px solid #ff9100; border-color: #ff9100; padding-left: 10px; padding-right: 10px\">\n",
    "<p class=\"title\">\n",
    "    <i style=\"font-size: 18px; color:#ff9100; border-color: #ff1744;\"></i>\n",
    "    <b style=\"color: #ff9100;\"> <span style=\"color: #ff9100;\">&#9888;</span> Warning</b>\n",
    "</p>\n",
    "\n",
    "Since the unknown series are encoded as NaN when the forecaster uses the <code>'ordinal_category'</code> or <code>'ordinal'</code> encoding, only regressors that can handle missing values can be used, otherwise an error will be raised.\n",
    "\n",
    "</div>"
   ]
  },
  {
   "cell_type": "code",
   "execution_count": 31,
   "id": "bb9f3f0c",
   "metadata": {},
   "outputs": [
    {
     "name": "stdout",
     "output_type": "stream",
     "text": [
      "Series seen by during training: ['item_1', 'item_2', 'item_3']\n"
     ]
    }
   ],
   "source": [
    "# Forecaster trainied with series item_1, item_2 and item_3\n",
    "# ==============================================================================\n",
    "forecaster = ForecasterRecursiveMultiSeries(\n",
    "                 regressor = LGBMRegressor(random_state=123, verbose=-1),\n",
    "                 lags      = 3,\n",
    "                 encoding  = 'ordinal'\n",
    "             )\n",
    "\n",
    "forecaster.fit(series=data_train)\n",
    "print(f\"Series seen by during training: {forecaster.series_names_in_}\")"
   ]
  },
  {
   "cell_type": "code",
   "execution_count": 32,
   "id": "70f5c5a1",
   "metadata": {},
   "outputs": [
    {
     "data": {
      "text/html": [
       "<pre style=\"white-space:pre;overflow-x:auto;line-height:normal;font-family:Menlo,'DejaVu Sans Mono',consolas,'Courier New',monospace\"><span style=\"color: #ffaf00; text-decoration-color: #ffaf00\">╭──────────────────────────────── UnknownLevelWarning ─────────────────────────────────╮</span>\n",
       "<span style=\"color: #ffaf00; text-decoration-color: #ffaf00\">│</span> `levels` {'item_4'} were not included in training. Unknown levels are encoded as     <span style=\"color: #ffaf00; text-decoration-color: #ffaf00\">│</span>\n",
       "<span style=\"color: #ffaf00; text-decoration-color: #ffaf00\">│</span> NaN, which may cause the prediction to fail if the regressor does not accept NaN     <span style=\"color: #ffaf00; text-decoration-color: #ffaf00\">│</span>\n",
       "<span style=\"color: #ffaf00; text-decoration-color: #ffaf00\">│</span> values.                                                                              <span style=\"color: #ffaf00; text-decoration-color: #ffaf00\">│</span>\n",
       "<span style=\"color: #ffaf00; text-decoration-color: #ffaf00\">│</span>                                                                                      <span style=\"color: #ffaf00; text-decoration-color: #ffaf00\">│</span>\n",
       "<span style=\"color: #ffaf00; text-decoration-color: #ffaf00\">│</span> Category : UnknownLevelWarning                                                       <span style=\"color: #ffaf00; text-decoration-color: #ffaf00\">│</span>\n",
       "<span style=\"color: #ffaf00; text-decoration-color: #ffaf00\">│</span> Location :                                                                           <span style=\"color: #ffaf00; text-decoration-color: #ffaf00\">│</span>\n",
       "<span style=\"color: #ffaf00; text-decoration-color: #ffaf00\">│</span> c:\\anaconda\\envs\\skforecast_15_p12\\Lib\\site-packages\\skforecast\\utils\\utils.py:899   <span style=\"color: #ffaf00; text-decoration-color: #ffaf00\">│</span>\n",
       "<span style=\"color: #ffaf00; text-decoration-color: #ffaf00\">│</span> Suppress : warnings.simplefilter('ignore', category=UnknownLevelWarning)             <span style=\"color: #ffaf00; text-decoration-color: #ffaf00\">│</span>\n",
       "<span style=\"color: #ffaf00; text-decoration-color: #ffaf00\">╰──────────────────────────────────────────────────────────────────────────────────────╯</span>\n",
       "</pre>\n"
      ],
      "text/plain": [
       "\u001b[38;5;214m╭─\u001b[0m\u001b[38;5;214m───────────────────────────────\u001b[0m\u001b[38;5;214m UnknownLevelWarning \u001b[0m\u001b[38;5;214m────────────────────────────────\u001b[0m\u001b[38;5;214m─╮\u001b[0m\n",
       "\u001b[38;5;214m│\u001b[0m `levels` {'item_4'} were not included in training. Unknown levels are encoded as     \u001b[38;5;214m│\u001b[0m\n",
       "\u001b[38;5;214m│\u001b[0m NaN, which may cause the prediction to fail if the regressor does not accept NaN     \u001b[38;5;214m│\u001b[0m\n",
       "\u001b[38;5;214m│\u001b[0m values.                                                                              \u001b[38;5;214m│\u001b[0m\n",
       "\u001b[38;5;214m│\u001b[0m                                                                                      \u001b[38;5;214m│\u001b[0m\n",
       "\u001b[38;5;214m│\u001b[0m Category : UnknownLevelWarning                                                       \u001b[38;5;214m│\u001b[0m\n",
       "\u001b[38;5;214m│\u001b[0m Location :                                                                           \u001b[38;5;214m│\u001b[0m\n",
       "\u001b[38;5;214m│\u001b[0m c:\\anaconda\\envs\\skforecast_15_p12\\Lib\\site-packages\\skforecast\\utils\\utils.py:899   \u001b[38;5;214m│\u001b[0m\n",
       "\u001b[38;5;214m│\u001b[0m Suppress : warnings.simplefilter('ignore', category=UnknownLevelWarning)             \u001b[38;5;214m│\u001b[0m\n",
       "\u001b[38;5;214m╰──────────────────────────────────────────────────────────────────────────────────────╯\u001b[0m\n"
      ]
     },
     "metadata": {},
     "output_type": "display_data"
    },
    {
     "data": {
      "application/vnd.microsoft.datawrangler.viewer.v0+json": {
       "columns": [
        {
         "name": "index",
         "rawType": "datetime64[ns]",
         "type": "datetime"
        },
        {
         "name": "level",
         "rawType": "object",
         "type": "string"
        },
        {
         "name": "pred",
         "rawType": "float64",
         "type": "float"
        }
       ],
       "conversionMethod": "pd.DataFrame",
       "ref": "7f62892a-90d1-43f4-bec5-a8466be760ee",
       "rows": [
        [
         "2014-07-16 00:00:00",
         "item_4",
         "24.35141551223057"
        ],
        [
         "2014-07-17 00:00:00",
         "item_4",
         "25.779253214755272"
        ],
        [
         "2014-07-18 00:00:00",
         "item_4",
         "25.637366040852722"
        ]
       ],
       "shape": {
        "columns": 2,
        "rows": 3
       }
      },
      "text/html": [
       "<div>\n",
       "<style scoped>\n",
       "    .dataframe tbody tr th:only-of-type {\n",
       "        vertical-align: middle;\n",
       "    }\n",
       "\n",
       "    .dataframe tbody tr th {\n",
       "        vertical-align: top;\n",
       "    }\n",
       "\n",
       "    .dataframe thead th {\n",
       "        text-align: right;\n",
       "    }\n",
       "</style>\n",
       "<table border=\"1\" class=\"dataframe\">\n",
       "  <thead>\n",
       "    <tr style=\"text-align: right;\">\n",
       "      <th></th>\n",
       "      <th>level</th>\n",
       "      <th>pred</th>\n",
       "    </tr>\n",
       "  </thead>\n",
       "  <tbody>\n",
       "    <tr>\n",
       "      <th>2014-07-16</th>\n",
       "      <td>item_4</td>\n",
       "      <td>24.351416</td>\n",
       "    </tr>\n",
       "    <tr>\n",
       "      <th>2014-07-17</th>\n",
       "      <td>item_4</td>\n",
       "      <td>25.779253</td>\n",
       "    </tr>\n",
       "    <tr>\n",
       "      <th>2014-07-18</th>\n",
       "      <td>item_4</td>\n",
       "      <td>25.637366</td>\n",
       "    </tr>\n",
       "  </tbody>\n",
       "</table>\n",
       "</div>"
      ],
      "text/plain": [
       "             level       pred\n",
       "2014-07-16  item_4  24.351416\n",
       "2014-07-17  item_4  25.779253\n",
       "2014-07-18  item_4  25.637366"
      ]
     },
     "execution_count": 32,
     "metadata": {},
     "output_type": "execute_result"
    }
   ],
   "source": [
    "# Forecasting a new series not seen in the training\n",
    "# ==============================================================================\n",
    "last_window_item_4 = pd.DataFrame(\n",
    "    data    = [23.46, 22.3587, 29.348],\n",
    "    columns = ['item_4'],\n",
    "    index   = pd.date_range(start=\"2014-07-13\", periods=3, freq=\"D\"),\n",
    ")\n",
    "\n",
    "forecaster.predict(\n",
    "    levels            = 'item_4', \n",
    "    steps             = 3, \n",
    "    last_window       = last_window_item_4,\n",
    "    suppress_warnings = False\n",
    ")"
   ]
  },
  {
   "cell_type": "markdown",
   "id": "a3a9b91e",
   "metadata": {},
   "source": [
    "If the forecaster `encoding` is `None`, then the forecaster does not take the series id into account, therefore it can predict unknown series without any problem as long as the last window of the series is provided."
   ]
  },
  {
   "cell_type": "code",
   "execution_count": 33,
   "id": "25bb07bc",
   "metadata": {},
   "outputs": [],
   "source": [
    "# Forecaster trainied with series item_1, item_2 and item_3 without encoding\n",
    "# ==============================================================================\n",
    "forecaster = ForecasterRecursiveMultiSeries(\n",
    "                 regressor = LGBMRegressor(random_state=123, verbose=-1),\n",
    "                 lags      = 3,\n",
    "                 encoding  = None\n",
    "             )\n",
    "\n",
    "forecaster.fit(series=data_train)"
   ]
  },
  {
   "cell_type": "code",
   "execution_count": 34,
   "id": "f5119669",
   "metadata": {},
   "outputs": [
    {
     "data": {
      "application/vnd.microsoft.datawrangler.viewer.v0+json": {
       "columns": [
        {
         "name": "index",
         "rawType": "datetime64[ns]",
         "type": "datetime"
        },
        {
         "name": "level",
         "rawType": "object",
         "type": "string"
        },
        {
         "name": "pred",
         "rawType": "float64",
         "type": "float"
        }
       ],
       "conversionMethod": "pd.DataFrame",
       "ref": "72e91408-198b-415d-b40c-985c042b89b0",
       "rows": [
        [
         "2014-07-16 00:00:00",
         "item_4",
         "21.897883416319505"
        ],
        [
         "2014-07-17 00:00:00",
         "item_4",
         "19.992323236162765"
        ],
        [
         "2014-07-18 00:00:00",
         "item_4",
         "19.847593268785825"
        ]
       ],
       "shape": {
        "columns": 2,
        "rows": 3
       }
      },
      "text/html": [
       "<div>\n",
       "<style scoped>\n",
       "    .dataframe tbody tr th:only-of-type {\n",
       "        vertical-align: middle;\n",
       "    }\n",
       "\n",
       "    .dataframe tbody tr th {\n",
       "        vertical-align: top;\n",
       "    }\n",
       "\n",
       "    .dataframe thead th {\n",
       "        text-align: right;\n",
       "    }\n",
       "</style>\n",
       "<table border=\"1\" class=\"dataframe\">\n",
       "  <thead>\n",
       "    <tr style=\"text-align: right;\">\n",
       "      <th></th>\n",
       "      <th>level</th>\n",
       "      <th>pred</th>\n",
       "    </tr>\n",
       "  </thead>\n",
       "  <tbody>\n",
       "    <tr>\n",
       "      <th>2014-07-16</th>\n",
       "      <td>item_4</td>\n",
       "      <td>21.897883</td>\n",
       "    </tr>\n",
       "    <tr>\n",
       "      <th>2014-07-17</th>\n",
       "      <td>item_4</td>\n",
       "      <td>19.992323</td>\n",
       "    </tr>\n",
       "    <tr>\n",
       "      <th>2014-07-18</th>\n",
       "      <td>item_4</td>\n",
       "      <td>19.847593</td>\n",
       "    </tr>\n",
       "  </tbody>\n",
       "</table>\n",
       "</div>"
      ],
      "text/plain": [
       "             level       pred\n",
       "2014-07-16  item_4  21.897883\n",
       "2014-07-17  item_4  19.992323\n",
       "2014-07-18  item_4  19.847593"
      ]
     },
     "execution_count": 34,
     "metadata": {},
     "output_type": "execute_result"
    }
   ],
   "source": [
    "# Forecasting a new series not seen in the training\n",
    "# ==============================================================================\n",
    "forecaster.predict(\n",
    "    levels            = 'item_4', \n",
    "    steps             = 3, \n",
    "    last_window       = last_window_item_4,\n",
    "    suppress_warnings = False\n",
    ")"
   ]
  },
  {
   "cell_type": "markdown",
   "id": "07b23d21",
   "metadata": {},
   "source": [
    "Forecasting intervals for unknown series are also possible. In this case, a random sample of residuals (`_unknown_level` key) is drawn from the residuals of the known series. The quality of the intervals depends on the similarity of the unknown series to the known series."
   ]
  },
  {
   "cell_type": "code",
   "execution_count": 35,
   "id": "a8a3e874",
   "metadata": {},
   "outputs": [
    {
     "name": "stdout",
     "output_type": "stream",
     "text": [
      "Residuals for item_1: n=924\n",
      "Residuals for item_2: n=924\n",
      "Residuals for item_3: n=924\n",
      "Residuals for _unknown_level: n=2772\n"
     ]
    }
   ],
   "source": [
    "# Forecasting intervals for an unknown series\n",
    "# ==============================================================================\n",
    "forecaster = ForecasterRecursiveMultiSeries(\n",
    "                 regressor = LGBMRegressor(random_state=123, verbose=-1),\n",
    "                 lags      = 3,\n",
    "                 encoding  = 'ordinal'\n",
    "             )\n",
    "\n",
    "forecaster.fit(series=data_train, store_in_sample_residuals=True)\n",
    "\n",
    "# Number of in-sample residuals by bin\n",
    "# ==============================================================================\n",
    "for k, v in forecaster.in_sample_residuals_.items():\n",
    "    print(f\"Residuals for {k}: n={len(v)}\")"
   ]
  },
  {
   "cell_type": "code",
   "execution_count": 36,
   "id": "3117302c",
   "metadata": {},
   "outputs": [
    {
     "data": {
      "text/html": [
       "<pre style=\"white-space:pre;overflow-x:auto;line-height:normal;font-family:Menlo,'DejaVu Sans Mono',consolas,'Courier New',monospace\"><span style=\"color: #ffaf00; text-decoration-color: #ffaf00\">╭──────────────────────────────── UnknownLevelWarning ─────────────────────────────────╮</span>\n",
       "<span style=\"color: #ffaf00; text-decoration-color: #ffaf00\">│</span> `levels` {'item_4'} were not included in training. Unknown levels are encoded as     <span style=\"color: #ffaf00; text-decoration-color: #ffaf00\">│</span>\n",
       "<span style=\"color: #ffaf00; text-decoration-color: #ffaf00\">│</span> NaN, which may cause the prediction to fail if the regressor does not accept NaN     <span style=\"color: #ffaf00; text-decoration-color: #ffaf00\">│</span>\n",
       "<span style=\"color: #ffaf00; text-decoration-color: #ffaf00\">│</span> values.                                                                              <span style=\"color: #ffaf00; text-decoration-color: #ffaf00\">│</span>\n",
       "<span style=\"color: #ffaf00; text-decoration-color: #ffaf00\">│</span>                                                                                      <span style=\"color: #ffaf00; text-decoration-color: #ffaf00\">│</span>\n",
       "<span style=\"color: #ffaf00; text-decoration-color: #ffaf00\">│</span> Category : UnknownLevelWarning                                                       <span style=\"color: #ffaf00; text-decoration-color: #ffaf00\">│</span>\n",
       "<span style=\"color: #ffaf00; text-decoration-color: #ffaf00\">│</span> Location :                                                                           <span style=\"color: #ffaf00; text-decoration-color: #ffaf00\">│</span>\n",
       "<span style=\"color: #ffaf00; text-decoration-color: #ffaf00\">│</span> c:\\anaconda\\envs\\skforecast_15_p12\\Lib\\site-packages\\skforecast\\utils\\utils.py:899   <span style=\"color: #ffaf00; text-decoration-color: #ffaf00\">│</span>\n",
       "<span style=\"color: #ffaf00; text-decoration-color: #ffaf00\">│</span> Suppress : warnings.simplefilter('ignore', category=UnknownLevelWarning)             <span style=\"color: #ffaf00; text-decoration-color: #ffaf00\">│</span>\n",
       "<span style=\"color: #ffaf00; text-decoration-color: #ffaf00\">╰──────────────────────────────────────────────────────────────────────────────────────╯</span>\n",
       "</pre>\n"
      ],
      "text/plain": [
       "\u001b[38;5;214m╭─\u001b[0m\u001b[38;5;214m───────────────────────────────\u001b[0m\u001b[38;5;214m UnknownLevelWarning \u001b[0m\u001b[38;5;214m────────────────────────────────\u001b[0m\u001b[38;5;214m─╮\u001b[0m\n",
       "\u001b[38;5;214m│\u001b[0m `levels` {'item_4'} were not included in training. Unknown levels are encoded as     \u001b[38;5;214m│\u001b[0m\n",
       "\u001b[38;5;214m│\u001b[0m NaN, which may cause the prediction to fail if the regressor does not accept NaN     \u001b[38;5;214m│\u001b[0m\n",
       "\u001b[38;5;214m│\u001b[0m values.                                                                              \u001b[38;5;214m│\u001b[0m\n",
       "\u001b[38;5;214m│\u001b[0m                                                                                      \u001b[38;5;214m│\u001b[0m\n",
       "\u001b[38;5;214m│\u001b[0m Category : UnknownLevelWarning                                                       \u001b[38;5;214m│\u001b[0m\n",
       "\u001b[38;5;214m│\u001b[0m Location :                                                                           \u001b[38;5;214m│\u001b[0m\n",
       "\u001b[38;5;214m│\u001b[0m c:\\anaconda\\envs\\skforecast_15_p12\\Lib\\site-packages\\skforecast\\utils\\utils.py:899   \u001b[38;5;214m│\u001b[0m\n",
       "\u001b[38;5;214m│\u001b[0m Suppress : warnings.simplefilter('ignore', category=UnknownLevelWarning)             \u001b[38;5;214m│\u001b[0m\n",
       "\u001b[38;5;214m╰──────────────────────────────────────────────────────────────────────────────────────╯\u001b[0m\n"
      ]
     },
     "metadata": {},
     "output_type": "display_data"
    },
    {
     "data": {
      "text/html": [
       "<pre style=\"white-space:pre;overflow-x:auto;line-height:normal;font-family:Menlo,'DejaVu Sans Mono',consolas,'Courier New',monospace\"><span style=\"color: #ffaf00; text-decoration-color: #ffaf00\">╭──────────────────────────────── UnknownLevelWarning ─────────────────────────────────╮</span>\n",
       "<span style=\"color: #ffaf00; text-decoration-color: #ffaf00\">│</span> `levels` {'item_4'} are not present in `forecaster.in_sample_residuals_by_bin_`,     <span style=\"color: #ffaf00; text-decoration-color: #ffaf00\">│</span>\n",
       "<span style=\"color: #ffaf00; text-decoration-color: #ffaf00\">│</span> most likely because they were not present in the training data. A random sample of   <span style=\"color: #ffaf00; text-decoration-color: #ffaf00\">│</span>\n",
       "<span style=\"color: #ffaf00; text-decoration-color: #ffaf00\">│</span> the residuals from other levels will be used. This can lead to inaccurate intervals  <span style=\"color: #ffaf00; text-decoration-color: #ffaf00\">│</span>\n",
       "<span style=\"color: #ffaf00; text-decoration-color: #ffaf00\">│</span> for the unknown levels.                                                              <span style=\"color: #ffaf00; text-decoration-color: #ffaf00\">│</span>\n",
       "<span style=\"color: #ffaf00; text-decoration-color: #ffaf00\">│</span>                                                                                      <span style=\"color: #ffaf00; text-decoration-color: #ffaf00\">│</span>\n",
       "<span style=\"color: #ffaf00; text-decoration-color: #ffaf00\">│</span> Category : UnknownLevelWarning                                                       <span style=\"color: #ffaf00; text-decoration-color: #ffaf00\">│</span>\n",
       "<span style=\"color: #ffaf00; text-decoration-color: #ffaf00\">│</span> Location :                                                                           <span style=\"color: #ffaf00; text-decoration-color: #ffaf00\">│</span>\n",
       "<span style=\"color: #ffaf00; text-decoration-color: #ffaf00\">│</span> c:\\anaconda\\envs\\skforecast_15_p12\\Lib\\site-packages\\skforecast\\utils\\utils.py:1282  <span style=\"color: #ffaf00; text-decoration-color: #ffaf00\">│</span>\n",
       "<span style=\"color: #ffaf00; text-decoration-color: #ffaf00\">│</span> Suppress : warnings.simplefilter('ignore', category=UnknownLevelWarning)             <span style=\"color: #ffaf00; text-decoration-color: #ffaf00\">│</span>\n",
       "<span style=\"color: #ffaf00; text-decoration-color: #ffaf00\">╰──────────────────────────────────────────────────────────────────────────────────────╯</span>\n",
       "</pre>\n"
      ],
      "text/plain": [
       "\u001b[38;5;214m╭─\u001b[0m\u001b[38;5;214m───────────────────────────────\u001b[0m\u001b[38;5;214m UnknownLevelWarning \u001b[0m\u001b[38;5;214m────────────────────────────────\u001b[0m\u001b[38;5;214m─╮\u001b[0m\n",
       "\u001b[38;5;214m│\u001b[0m `levels` {'item_4'} are not present in `forecaster.in_sample_residuals_by_bin_`,     \u001b[38;5;214m│\u001b[0m\n",
       "\u001b[38;5;214m│\u001b[0m most likely because they were not present in the training data. A random sample of   \u001b[38;5;214m│\u001b[0m\n",
       "\u001b[38;5;214m│\u001b[0m the residuals from other levels will be used. This can lead to inaccurate intervals  \u001b[38;5;214m│\u001b[0m\n",
       "\u001b[38;5;214m│\u001b[0m for the unknown levels.                                                              \u001b[38;5;214m│\u001b[0m\n",
       "\u001b[38;5;214m│\u001b[0m                                                                                      \u001b[38;5;214m│\u001b[0m\n",
       "\u001b[38;5;214m│\u001b[0m Category : UnknownLevelWarning                                                       \u001b[38;5;214m│\u001b[0m\n",
       "\u001b[38;5;214m│\u001b[0m Location :                                                                           \u001b[38;5;214m│\u001b[0m\n",
       "\u001b[38;5;214m│\u001b[0m c:\\anaconda\\envs\\skforecast_15_p12\\Lib\\site-packages\\skforecast\\utils\\utils.py:1282  \u001b[38;5;214m│\u001b[0m\n",
       "\u001b[38;5;214m│\u001b[0m Suppress : warnings.simplefilter('ignore', category=UnknownLevelWarning)             \u001b[38;5;214m│\u001b[0m\n",
       "\u001b[38;5;214m╰──────────────────────────────────────────────────────────────────────────────────────╯\u001b[0m\n"
      ]
     },
     "metadata": {},
     "output_type": "display_data"
    },
    {
     "data": {
      "application/vnd.microsoft.datawrangler.viewer.v0+json": {
       "columns": [
        {
         "name": "index",
         "rawType": "datetime64[ns]",
         "type": "datetime"
        },
        {
         "name": "level",
         "rawType": "object",
         "type": "string"
        },
        {
         "name": "pred",
         "rawType": "float64",
         "type": "float"
        },
        {
         "name": "lower_bound",
         "rawType": "float64",
         "type": "float"
        },
        {
         "name": "upper_bound",
         "rawType": "float64",
         "type": "float"
        }
       ],
       "conversionMethod": "pd.DataFrame",
       "ref": "accad818-0d24-4058-9030-0993c96a9e71",
       "rows": [
        [
         "2014-07-16 00:00:00",
         "item_4",
         "24.35141551223057",
         "20.33161846539938",
         "28.37121255906176"
        ],
        [
         "2014-07-17 00:00:00",
         "item_4",
         "25.779253214755272",
         "21.75945616792408",
         "29.799050261586466"
        ],
        [
         "2014-07-18 00:00:00",
         "item_4",
         "25.637366040852722",
         "21.617568994021532",
         "29.657163087683912"
        ]
       ],
       "shape": {
        "columns": 4,
        "rows": 3
       }
      },
      "text/html": [
       "<div>\n",
       "<style scoped>\n",
       "    .dataframe tbody tr th:only-of-type {\n",
       "        vertical-align: middle;\n",
       "    }\n",
       "\n",
       "    .dataframe tbody tr th {\n",
       "        vertical-align: top;\n",
       "    }\n",
       "\n",
       "    .dataframe thead th {\n",
       "        text-align: right;\n",
       "    }\n",
       "</style>\n",
       "<table border=\"1\" class=\"dataframe\">\n",
       "  <thead>\n",
       "    <tr style=\"text-align: right;\">\n",
       "      <th></th>\n",
       "      <th>level</th>\n",
       "      <th>pred</th>\n",
       "      <th>lower_bound</th>\n",
       "      <th>upper_bound</th>\n",
       "    </tr>\n",
       "  </thead>\n",
       "  <tbody>\n",
       "    <tr>\n",
       "      <th>2014-07-16</th>\n",
       "      <td>item_4</td>\n",
       "      <td>24.351416</td>\n",
       "      <td>20.331618</td>\n",
       "      <td>28.371213</td>\n",
       "    </tr>\n",
       "    <tr>\n",
       "      <th>2014-07-17</th>\n",
       "      <td>item_4</td>\n",
       "      <td>25.779253</td>\n",
       "      <td>21.759456</td>\n",
       "      <td>29.799050</td>\n",
       "    </tr>\n",
       "    <tr>\n",
       "      <th>2014-07-18</th>\n",
       "      <td>item_4</td>\n",
       "      <td>25.637366</td>\n",
       "      <td>21.617569</td>\n",
       "      <td>29.657163</td>\n",
       "    </tr>\n",
       "  </tbody>\n",
       "</table>\n",
       "</div>"
      ],
      "text/plain": [
       "             level       pred  lower_bound  upper_bound\n",
       "2014-07-16  item_4  24.351416    20.331618    28.371213\n",
       "2014-07-17  item_4  25.779253    21.759456    29.799050\n",
       "2014-07-18  item_4  25.637366    21.617569    29.657163"
      ]
     },
     "execution_count": 36,
     "metadata": {},
     "output_type": "execute_result"
    }
   ],
   "source": [
    "# Forecasting intervals for an unknown series\n",
    "# ==============================================================================\n",
    "forecaster.predict_interval(\n",
    "    levels                  = 'item_4',\n",
    "    steps                   = 3,\n",
    "    last_window             = last_window_item_4,\n",
    "    use_in_sample_residuals = True,\n",
    "    suppress_warnings       = False\n",
    ")"
   ]
  },
  {
   "cell_type": "markdown",
   "id": "063cacb0",
   "metadata": {},
   "source": [
    "For the use of out-of-sample residuals (`use_in_sample_residuals = False`), the user can [provide the residuals](../user_guides/probabilistic-forecasting-bootstrapped-residuals.html#out-sample-residuals-non-conditioned-on-predicted-values) using the `set_out_sample_residuals` method and a random sample of residuals will be drawn to predict the unknown series."
   ]
  },
  {
   "attachments": {},
   "cell_type": "markdown",
   "id": "6ef846b0",
   "metadata": {},
   "source": [
    "## Weights in multi-series\n",
    "\n",
    "The weights are used to control the influence that each observation has on the training of the model. <code>ForecasterRecursiveMultiSeries</code> accepts two types of weights:\n",
    "\n",
    "+ `series_weights` controls the relative importance of each series. If a series has twice as much weight as the others, the observations of that series influence the training twice as much. The higher the weight of a series relative to the others, the more the model will focus on trying to learn that series.\n",
    "\n",
    "+ `weight_func` controls the relative importance of each observation according to its index value. For example, a function that assigns a lower weight to certain dates.\n",
    "\n",
    "If the two types of weights are indicated, they are **multiplied to create the final weights**. The resulting `sample_weight` cannot have negative values.\n",
    "\n",
    "<p style=\"text-align: center\">\n",
    "<img src=\"../img/forecaster_multi_series_sample_weight.png\" style=\"width: 900px\">\n",
    "<br>\n",
    "<font size=\"2.5\"> <i>Weights in multi-series.</i></font>\n",
    "</p>\n",
    "\n",
    "+ `series_weights` is a dict of the form `{'series_name': float}`. If a series is used during `fit` and is not present in `series_weights`, it will have a weight of 1.\n",
    "\n",
    "+ `weight_func` is a function that defines the individual weights of each sample **based on the index**. \n",
    "  \n",
    "    + If it is a `callable`, the same function will apply to all series. \n",
    "  \n",
    "    + If it is a `dict` of the form `{'series_name': callable}`, a different function can be used for each series. A weight of 1 is given to all series not present in `weight_func`."
   ]
  },
  {
   "cell_type": "code",
   "execution_count": 37,
   "id": "d4966617",
   "metadata": {},
   "outputs": [
    {
     "data": {
      "application/vnd.microsoft.datawrangler.viewer.v0+json": {
       "columns": [
        {
         "name": "index",
         "rawType": "datetime64[ns]",
         "type": "datetime"
        },
        {
         "name": "level",
         "rawType": "object",
         "type": "string"
        },
        {
         "name": "pred",
         "rawType": "float64",
         "type": "float"
        }
       ],
       "conversionMethod": "pd.DataFrame",
       "ref": "d16c956e-01cb-4cc4-acb9-0d08ddbad657",
       "rows": [
        [
         "2014-07-16 00:00:00",
         "item_1",
         "25.928015518097073"
        ],
        [
         "2014-07-16 00:00:00",
         "item_2",
         "11.42999393668811"
        ],
        [
         "2014-07-16 00:00:00",
         "item_3",
         "11.717830261223849"
        ]
       ],
       "shape": {
        "columns": 2,
        "rows": 3
       }
      },
      "text/html": [
       "<div>\n",
       "<style scoped>\n",
       "    .dataframe tbody tr th:only-of-type {\n",
       "        vertical-align: middle;\n",
       "    }\n",
       "\n",
       "    .dataframe tbody tr th {\n",
       "        vertical-align: top;\n",
       "    }\n",
       "\n",
       "    .dataframe thead th {\n",
       "        text-align: right;\n",
       "    }\n",
       "</style>\n",
       "<table border=\"1\" class=\"dataframe\">\n",
       "  <thead>\n",
       "    <tr style=\"text-align: right;\">\n",
       "      <th></th>\n",
       "      <th>level</th>\n",
       "      <th>pred</th>\n",
       "    </tr>\n",
       "  </thead>\n",
       "  <tbody>\n",
       "    <tr>\n",
       "      <th>2014-07-16</th>\n",
       "      <td>item_1</td>\n",
       "      <td>25.928016</td>\n",
       "    </tr>\n",
       "    <tr>\n",
       "      <th>2014-07-16</th>\n",
       "      <td>item_2</td>\n",
       "      <td>11.429994</td>\n",
       "    </tr>\n",
       "    <tr>\n",
       "      <th>2014-07-16</th>\n",
       "      <td>item_3</td>\n",
       "      <td>11.717830</td>\n",
       "    </tr>\n",
       "  </tbody>\n",
       "</table>\n",
       "</div>"
      ],
      "text/plain": [
       "             level       pred\n",
       "2014-07-16  item_1  25.928016\n",
       "2014-07-16  item_2  11.429994\n",
       "2014-07-16  item_3  11.717830"
      ]
     },
     "execution_count": 37,
     "metadata": {},
     "output_type": "execute_result"
    }
   ],
   "source": [
    "# Weights in Multi-Series\n",
    "# ==============================================================================\n",
    "def custom_weights(index):\n",
    "    \"\"\"\n",
    "    Return 0 if index is between '2013-01-01' and '2013-01-31', 1 otherwise.\n",
    "    \"\"\"\n",
    "    weights = np.where(\n",
    "                  (index >= '2013-01-01') & (index <= '2013-01-31'),\n",
    "                   0,\n",
    "                   1\n",
    "              )\n",
    "    \n",
    "    return weights\n",
    "\n",
    "\n",
    "forecaster = ForecasterRecursiveMultiSeries(\n",
    "                 regressor          = LGBMRegressor(random_state=123, verbose=-1),\n",
    "                 lags               = 24,\n",
    "                 window_features    = RollingFeatures(stats=['mean', 'mean'], window_sizes=[24, 48]),\n",
    "                 encoding           = 'ordinal',\n",
    "                 transformer_series = StandardScaler(),\n",
    "                 weight_func        = custom_weights,\n",
    "                 series_weights     = {'item_1': 1., 'item_2': 2., 'item_3': 1.}  # Same as {'item_2': 2.}\n",
    "             )\n",
    "\n",
    "forecaster.fit(series=data_train)\n",
    "forecaster.predict(steps=24).head(3)"
   ]
  },
  {
   "attachments": {},
   "cell_type": "markdown",
   "id": "9f7180da",
   "metadata": {},
   "source": [
    "<div class=\"admonition note\" name=\"html-admonition\" style=\"background: rgba(255,145,0,.1); padding-top: 0px; padding-bottom: 6px; border-radius: 8px; border-left: 8px solid #ff9100; border-color: #ff9100; padding-left: 10px; padding-right: 10px\">\n",
    "\n",
    "<p class=\"title\">\n",
    "    <i style=\"font-size: 18px; color:#ff9100; border-color: #ff1744;\"></i>\n",
    "    <b style=\"color: #ff9100;\"> <span style=\"color: #ff9100;\">&#9888;</span> Warning</b>\n",
    "</p>\n",
    "\n",
    "The <code>weight_func</code> and <code>series_weights</code> arguments will be ignored if the regressor does not accept <code>sample_weight</code> in its <code>fit</code> method.\n",
    "\n",
    "</div>"
   ]
  },
  {
   "attachments": {},
   "cell_type": "markdown",
   "id": "3c410247",
   "metadata": {},
   "source": [
    "The source code of the `weight_func` added to the forecaster is stored in the argument `source_code_weight_func`. If `weight_func` is a `dict`, it will be a `dict` of the form `{'series_name': source_code_weight_func}` ."
   ]
  },
  {
   "cell_type": "code",
   "execution_count": 38,
   "id": "fbe3c2a9",
   "metadata": {},
   "outputs": [
    {
     "name": "stdout",
     "output_type": "stream",
     "text": [
      "def custom_weights(index):\n",
      "    \"\"\"\n",
      "    Return 0 if index is between '2013-01-01' and '2013-01-31', 1 otherwise.\n",
      "    \"\"\"\n",
      "    weights = np.where(\n",
      "                  (index >= '2013-01-01') & (index <= '2013-01-31'),\n",
      "                   0,\n",
      "                   1\n",
      "              )\n",
      "    \n",
      "    return weights\n",
      "\n"
     ]
    }
   ],
   "source": [
    "# Source code weight function\n",
    "# ==============================================================================\n",
    "print(forecaster.source_code_weight_func)"
   ]
  },
  {
   "cell_type": "markdown",
   "id": "6600e6d8",
   "metadata": {},
   "source": [
    "## Differentiation\n",
    "\n",
    "Time series differentiation involves computing the differences between consecutive observations in the time series. When it comes to training forecasting models, differentiation offers the advantage of focusing on relative rates of change rather than directly attempting to model the absolute values. Once the predictions have been estimated, this transformation can be easily reversed to restore the values to their original scale.\n",
    "\n",
    "In the `ForecasterRecursiveMultiSeries` class, the `differentiation` argument can be:\n",
    "\n",
    "+ `int`: all series are differentiated `int` times.\n",
    "\n",
    "+ `dict`: a different order of differentiation can be specified for each series. For example, `differentiation = {'item_1': 1, 'item_2': 2, 'item_3': None, '_unknown_level': 1}`. The `_unknown_level` key is used to differentiate the unknown series when predicting.\n",
    "\n",
    "When using a `dict`, the value needed to include in the `differentiation` argument of a `cv` (e.g. `TimeSeriesFold` for [backtesting](../user_guides/backtesting.html)) object is the maximum differentiation order of all series. This value is available in the `differentiation_max` attribute."
   ]
  },
  {
   "cell_type": "markdown",
   "id": "f7745863",
   "metadata": {},
   "source": [
    "<div class=\"admonition note\" name=\"html-admonition\" style=\"background: rgba(0,191,191,.1); padding-top: 0px; padding-bottom: 6px; border-radius: 8px; border-left: 8px solid #00bfa5; border-color: #00bfa5; padding-left: 10px; padding-right: 10px;\">\n",
    "\n",
    "<p class=\"title\">\n",
    "    <i style=\"font-size: 18px; color:#00bfa5;\"></i>\n",
    "    <b style=\"color: #00bfa5;\">&#128161 Tip</b>\n",
    "</p>\n",
    "\n",
    "To learn more about modeling time series differentiation, visit our example: <a href=\"https://www.cienciadedatos.net/documentos/py49-modelling-time-series-trend-with-tree-based-models.html\">Modelling time series trend with tree based models</a>.\n",
    "\n",
    "</div>"
   ]
  },
  {
   "cell_type": "code",
   "execution_count": 39,
   "id": "9ad76b81",
   "metadata": {},
   "outputs": [
    {
     "data": {
      "text/html": [
       "\n",
       "    <style>\n",
       "        .container-2b0296383cf342688ec9e8c6dda6e71f {\n",
       "            font-family: 'Arial', sans-serif;\n",
       "            font-size: 0.9em;\n",
       "            color: #333333;\n",
       "            border: 1px solid #ddd;\n",
       "            background-color: #f0f8ff;\n",
       "            padding: 5px 15px;\n",
       "            border-radius: 8px;\n",
       "            max-width: 600px;\n",
       "            #margin: auto;\n",
       "        }\n",
       "        .container-2b0296383cf342688ec9e8c6dda6e71f h2 {\n",
       "            font-size: 1.5em;\n",
       "            color: #222222;\n",
       "            border-bottom: 2px solid #ddd;\n",
       "            padding-bottom: 5px;\n",
       "            margin-bottom: 15px;\n",
       "            margin-top: 5px;\n",
       "        }\n",
       "        .container-2b0296383cf342688ec9e8c6dda6e71f details {\n",
       "            margin: 10px 0;\n",
       "        }\n",
       "        .container-2b0296383cf342688ec9e8c6dda6e71f summary {\n",
       "            font-weight: bold;\n",
       "            font-size: 1.1em;\n",
       "            color: #000000;\n",
       "            cursor: pointer;\n",
       "            margin-bottom: 5px;\n",
       "            background-color: #b3dbfd;\n",
       "            padding: 5px;\n",
       "            border-radius: 5px;\n",
       "        }\n",
       "        .container-2b0296383cf342688ec9e8c6dda6e71f summary:hover {\n",
       "            color: #000000;\n",
       "            background-color: #e0e0e0;\n",
       "        }\n",
       "        .container-2b0296383cf342688ec9e8c6dda6e71f ul {\n",
       "            font-family: 'Courier New', monospace;\n",
       "            list-style-type: none;\n",
       "            padding-left: 20px;\n",
       "            margin: 10px 0;\n",
       "            line-height: normal;\n",
       "        }\n",
       "        .container-2b0296383cf342688ec9e8c6dda6e71f li {\n",
       "            margin: 5px 0;\n",
       "            font-family: 'Courier New', monospace;\n",
       "        }\n",
       "        .container-2b0296383cf342688ec9e8c6dda6e71f li strong {\n",
       "            font-weight: bold;\n",
       "            color: #444444;\n",
       "        }\n",
       "        .container-2b0296383cf342688ec9e8c6dda6e71f li::before {\n",
       "            content: \"- \";\n",
       "            color: #666666;\n",
       "        }\n",
       "        .container-2b0296383cf342688ec9e8c6dda6e71f a {\n",
       "            color: #001633;\n",
       "            text-decoration: none;\n",
       "        }\n",
       "        .container-2b0296383cf342688ec9e8c6dda6e71f a:hover {\n",
       "            color: #359ccb; \n",
       "        }\n",
       "    </style>\n",
       "    \n",
       "        <div class=\"container-2b0296383cf342688ec9e8c6dda6e71f\">\n",
       "            <h2>ForecasterRecursiveMultiSeries</h2>\n",
       "            <details open>\n",
       "                <summary>General Information</summary>\n",
       "                <ul>\n",
       "                    <li><strong>Regressor:</strong> LGBMRegressor</li>\n",
       "                    <li><strong>Lags:</strong> [ 1  2  3  4  5  6  7  8  9 10 11 12 13 14 15 16 17 18 19 20 21 22 23 24]</li>\n",
       "                    <li><strong>Window features:</strong> ['roll_mean_24', 'roll_mean_48']</li>\n",
       "                    <li><strong>Window size:</strong> 49</li>\n",
       "                    <li><strong>Series encoding:</strong> ordinal</li>\n",
       "                    <li><strong>Exogenous included:</strong> False</li>\n",
       "                    <li><strong>Weight function included:</strong> False</li>\n",
       "                    <li><strong>Series weights:</strong> None</li>\n",
       "                    <li><strong>Differentiation order:</strong> 1</li>\n",
       "                    <li><strong>Creation date:</strong> 2025-03-07 12:09:00</li>\n",
       "                    <li><strong>Last fit date:</strong> 2025-03-07 12:09:04</li>\n",
       "                    <li><strong>Skforecast version:</strong> 0.15.0</li>\n",
       "                    <li><strong>Python version:</strong> 3.12.9</li>\n",
       "                    <li><strong>Forecaster id:</strong> None</li>\n",
       "                </ul>\n",
       "            </details>\n",
       "            <details>\n",
       "                <summary>Exogenous Variables</summary>\n",
       "                <ul>\n",
       "                    None\n",
       "                </ul>\n",
       "            </details>\n",
       "            <details>\n",
       "                <summary>Data Transformations</summary>\n",
       "                <ul>\n",
       "                    <li><strong>Transformer for series:</strong> None</li>\n",
       "                    <li><strong>Transformer for exog:</strong> None</li>\n",
       "                </ul>\n",
       "            </details>\n",
       "            <details>\n",
       "                <summary>Training Information</summary>\n",
       "                <ul>\n",
       "                    <li><strong>Series names (levels):</strong> item_1, item_2, item_3</li>\n",
       "                    <li><strong>Training range:</strong> 'item_1': ['2012-01-01', '2014-07-15'], 'item_2': ['2012-01-01', '2014-07-15'], 'item_3': ['2012-01-01', '2014-07-15']</li>\n",
       "                    <li><strong>Training index type:</strong> DatetimeIndex</li>\n",
       "                    <li><strong>Training index frequency:</strong> D</li>\n",
       "                </ul>\n",
       "            </details>\n",
       "            <details>\n",
       "                <summary>Regressor Parameters</summary>\n",
       "                <ul>\n",
       "                    {'boosting_type': 'gbdt', 'class_weight': None, 'colsample_bytree': 1.0, 'importance_type': 'split', 'learning_rate': 0.1, 'max_depth': -1, 'min_child_samples': 20, 'min_child_weight': 0.001, 'min_split_gain': 0.0, 'n_estimators': 100, 'n_jobs': None, 'num_leaves': 31, 'objective': None, 'random_state': 123, 'reg_alpha': 0.0, 'reg_lambda': 0.0, 'subsample': 1.0, 'subsample_for_bin': 200000, 'subsample_freq': 0, 'verbose': -1}\n",
       "                </ul>\n",
       "            </details>\n",
       "            <details>\n",
       "                <summary>Fit Kwargs</summary>\n",
       "                <ul>\n",
       "                    {}\n",
       "                </ul>\n",
       "            </details>\n",
       "            <p>\n",
       "                <a href=\"https://skforecast.org/0.15.0/api/forecasterrecursivemultiseries.html\">&#128712 <strong>API Reference</strong></a>\n",
       "                &nbsp;&nbsp;\n",
       "                <a href=\"https://skforecast.org/0.15.0/user_guides/independent-multi-time-series-forecasting.html\">&#128462 <strong>User Guide</strong></a>\n",
       "            </p>\n",
       "        </div>\n",
       "        "
      ],
      "text/plain": [
       "============================== \n",
       "ForecasterRecursiveMultiSeries \n",
       "============================== \n",
       "Regressor: LGBMRegressor \n",
       "Lags: [ 1  2  3  4  5  6  7  8  9 10 11 12 13 14 15 16 17 18 19 20 21 22 23 24] \n",
       "Window features: ['roll_mean_24', 'roll_mean_48'] \n",
       "Window size: 49 \n",
       "Series encoding: ordinal \n",
       "Series names (levels): item_1, item_2, item_3 \n",
       "Exogenous included: False \n",
       "Exogenous names: None \n",
       "Transformer for series: None \n",
       "Transformer for exog: None \n",
       "Weight function included: False \n",
       "Series weights: None \n",
       "Differentiation order: 1 \n",
       "Training range: \n",
       "    'item_1': ['2012-01-01', '2014-07-15'], 'item_2': ['2012-01-01', '2014-07-15'],\n",
       "    'item_3': ['2012-01-01', '2014-07-15'] \n",
       "Training index type: DatetimeIndex \n",
       "Training index frequency: D \n",
       "Regressor parameters: \n",
       "    {'boosting_type': 'gbdt', 'class_weight': None, 'colsample_bytree': 1.0,\n",
       "    'importance_type': 'split', 'learning_rate': 0.1, 'max_depth': -1,\n",
       "    'min_child_samples': 20, 'min_child_weight': 0.001, 'min_split_gain': 0.0,\n",
       "    'n_estimators': 100, 'n_jobs': None, 'num_leaves': 31, 'objective': None,\n",
       "    'random_state': 123, 'reg_alpha': 0.0, 'reg_lambda': 0.0, 'subsample': 1.0,\n",
       "    'subsample_for_bin': 200000, 'subsample_freq': 0, 'verbose': -1} \n",
       "fit_kwargs: {} \n",
       "Creation date: 2025-03-07 12:09:00 \n",
       "Last fit date: 2025-03-07 12:09:04 \n",
       "Skforecast version: 0.15.0 \n",
       "Python version: 3.12.9 \n",
       "Forecaster id: None "
      ]
     },
     "execution_count": 39,
     "metadata": {},
     "output_type": "execute_result"
    }
   ],
   "source": [
    "# Create and fit forecaster\n",
    "# ==============================================================================\n",
    "forecaster = ForecasterRecursiveMultiSeries(\n",
    "                 regressor       = LGBMRegressor(random_state=123, verbose=-1),\n",
    "                 lags            = 24,\n",
    "                 window_features = RollingFeatures(stats=['mean', 'mean'], window_sizes=[24, 48]),\n",
    "                 differentiation = 1  # Same as {'item_1': 1, 'item_2': 1, 'item_3': 1, '_unknown_level': 1}\n",
    "             )\n",
    "\n",
    "forecaster.fit(series=data_train)\n",
    "forecaster"
   ]
  },
  {
   "cell_type": "code",
   "execution_count": 40,
   "id": "f85ede6f",
   "metadata": {},
   "outputs": [
    {
     "data": {
      "application/vnd.microsoft.datawrangler.viewer.v0+json": {
       "columns": [
        {
         "name": "index",
         "rawType": "datetime64[ns]",
         "type": "datetime"
        },
        {
         "name": "level",
         "rawType": "object",
         "type": "string"
        },
        {
         "name": "pred",
         "rawType": "float64",
         "type": "float"
        }
       ],
       "conversionMethod": "pd.DataFrame",
       "ref": "9f9cf3c1-9809-4e0a-942f-1488020fa246",
       "rows": [
        [
         "2014-07-16 00:00:00",
         "item_1",
         "26.33222231982305"
        ],
        [
         "2014-07-16 00:00:00",
         "item_2",
         "10.707125833945781"
        ],
        [
         "2014-07-16 00:00:00",
         "item_3",
         "10.825072678896415"
        ]
       ],
       "shape": {
        "columns": 2,
        "rows": 3
       }
      },
      "text/html": [
       "<div>\n",
       "<style scoped>\n",
       "    .dataframe tbody tr th:only-of-type {\n",
       "        vertical-align: middle;\n",
       "    }\n",
       "\n",
       "    .dataframe tbody tr th {\n",
       "        vertical-align: top;\n",
       "    }\n",
       "\n",
       "    .dataframe thead th {\n",
       "        text-align: right;\n",
       "    }\n",
       "</style>\n",
       "<table border=\"1\" class=\"dataframe\">\n",
       "  <thead>\n",
       "    <tr style=\"text-align: right;\">\n",
       "      <th></th>\n",
       "      <th>level</th>\n",
       "      <th>pred</th>\n",
       "    </tr>\n",
       "  </thead>\n",
       "  <tbody>\n",
       "    <tr>\n",
       "      <th>2014-07-16</th>\n",
       "      <td>item_1</td>\n",
       "      <td>26.332222</td>\n",
       "    </tr>\n",
       "    <tr>\n",
       "      <th>2014-07-16</th>\n",
       "      <td>item_2</td>\n",
       "      <td>10.707126</td>\n",
       "    </tr>\n",
       "    <tr>\n",
       "      <th>2014-07-16</th>\n",
       "      <td>item_3</td>\n",
       "      <td>10.825073</td>\n",
       "    </tr>\n",
       "  </tbody>\n",
       "</table>\n",
       "</div>"
      ],
      "text/plain": [
       "             level       pred\n",
       "2014-07-16  item_1  26.332222\n",
       "2014-07-16  item_2  10.707126\n",
       "2014-07-16  item_3  10.825073"
      ]
     },
     "execution_count": 40,
     "metadata": {},
     "output_type": "execute_result"
    }
   ],
   "source": [
    "# Predict\n",
    "# ==============================================================================\n",
    "predictions = forecaster.predict(steps=24)\n",
    "predictions.head(3)"
   ]
  },
  {
   "cell_type": "markdown",
   "id": "c362ade2",
   "metadata": {},
   "source": [
    "## Probabilistic forecasting\n",
    "\n",
    "Skforecast allows to apply all its implemented probabilistic forecasting methods (bootstrapping, conformal prediction and quantile regression) to global models. This means that the model is trained with all the available time series and the forecast is made for all the time series.\n",
    "\n",
    "Visit [Probabilistic forecasting: Global Models](../user_guides/probabilistic-forecasting-global-models.html) for more information."
   ]
  },
  {
   "cell_type": "markdown",
   "id": "4cb7999f",
   "metadata": {},
   "source": [
    "## Feature selection in multi-series\n",
    "\n",
    "Feature selection is the process of selecting a subset of relevant features (variables, predictors) for use in model construction. Feature selection techniques are used for several reasons: to simplify models to make them easier to interpret, to reduce training time, to avoid the curse of dimensionality, to improve generalization by reducing overfitting (formally, variance reduction), and others.\n",
    "\n",
    "Skforecast is compatible with the [feature selection methods implemented in the scikit-learn](https://scikit-learn.org/stable/modules/feature_selection.html) library. Visit [Global Forecasting Models: Feature Selection](../user_guides/feature-selection.html#global-forecasting-models-feature-selection) for more information."
   ]
  },
  {
   "attachments": {},
   "cell_type": "markdown",
   "id": "31b0c86d",
   "metadata": {},
   "source": [
    "## Compare multiple metrics\n",
    "\n",
    "All four functions (`backtesting_forecaster_multiseries`, `grid_search_forecaster_multiseries`,  `random_search_forecaster_multiseries`, and `bayesian_search_forecaster_multiseries`) allow the calculation of multiple metrics, including custom metrics, for each forecaster configuration if a list is provided.\n",
    "\n",
    "The best model is selected based on the **first metric** in the list and the **first aggregation method** (if more than one is indicated)."
   ]
  },
  {
   "cell_type": "markdown",
   "id": "75001fca",
   "metadata": {},
   "source": [
    "<div class=\"admonition note\" name=\"html-admonition\" style=\"background: rgba(0,191,191,.1); padding-top: 0px; padding-bottom: 6px; border-radius: 8px; border-left: 8px solid #00bfa5; border-color: #00bfa5; padding-left: 10px; padding-right: 10px;\">\n",
    "\n",
    "<p class=\"title\">\n",
    "    <i style=\"font-size: 18px; color:#00bfa5;\"></i>\n",
    "    <b style=\"color: #00bfa5;\">&#128161 Tip</b>\n",
    "</p>\n",
    "\n",
    "To learn more about metrics, visit our user guide: <a href=\"../user_guides/metrics.html\">Time Series Forecasting Metrics</a>.\n",
    "\n",
    "</div>"
   ]
  },
  {
   "cell_type": "code",
   "execution_count": 41,
   "id": "9b5c77b3",
   "metadata": {},
   "outputs": [
    {
     "data": {
      "application/vnd.jupyter.widget-view+json": {
       "model_id": "343d84f9f1bf47ecbe2e441ce01a8094",
       "version_major": 2,
       "version_minor": 0
      },
      "text/plain": [
       "lags grid:   0%|          | 0/2 [00:00<?, ?it/s]"
      ]
     },
     "metadata": {},
     "output_type": "display_data"
    },
    {
     "data": {
      "application/vnd.jupyter.widget-view+json": {
       "model_id": "6c69bf08a02747178de53cd31bd6dd1d",
       "version_major": 2,
       "version_minor": 0
      },
      "text/plain": [
       "params grid:   0%|          | 0/4 [00:00<?, ?it/s]"
      ]
     },
     "metadata": {},
     "output_type": "display_data"
    },
    {
     "name": "stdout",
     "output_type": "stream",
     "text": [
      "`Forecaster` refitted using the best-found lags and parameters, and the whole data set: \n",
      "  Lags: [ 1  2  3  4  5  6  7  8  9 10 11 12 13 14 15 16 17 18 19 20 21 22 23 24\n",
      " 25 26 27 28 29 30 31 32 33 34 35 36 37 38 39 40 41 42 43 44 45 46 47 48] \n",
      "  Parameters: {'max_depth': 7, 'n_estimators': 20}\n",
      "  Backtesting metric: 2.288448178505924\n",
      "  Levels: ['item_1', 'item_2', 'item_3']\n",
      "\n"
     ]
    },
    {
     "data": {
      "application/vnd.microsoft.datawrangler.viewer.v0+json": {
       "columns": [
        {
         "name": "index",
         "rawType": "int64",
         "type": "integer"
        },
        {
         "name": "levels",
         "rawType": "object",
         "type": "unknown"
        },
        {
         "name": "lags",
         "rawType": "object",
         "type": "unknown"
        },
        {
         "name": "lags_label",
         "rawType": "object",
         "type": "unknown"
        },
        {
         "name": "params",
         "rawType": "object",
         "type": "unknown"
        },
        {
         "name": "mean_absolute_error__weighted_average",
         "rawType": "float64",
         "type": "float"
        },
        {
         "name": "mean_absolute_error__average",
         "rawType": "float64",
         "type": "float"
        },
        {
         "name": "mean_absolute_error__pooling",
         "rawType": "float64",
         "type": "float"
        },
        {
         "name": "custom_metric__weighted_average",
         "rawType": "float64",
         "type": "float"
        },
        {
         "name": "custom_metric__average",
         "rawType": "float64",
         "type": "float"
        },
        {
         "name": "custom_metric__pooling",
         "rawType": "float64",
         "type": "float"
        },
        {
         "name": "mean_squared_error__weighted_average",
         "rawType": "float64",
         "type": "float"
        },
        {
         "name": "mean_squared_error__average",
         "rawType": "float64",
         "type": "float"
        },
        {
         "name": "mean_squared_error__pooling",
         "rawType": "float64",
         "type": "float"
        },
        {
         "name": "max_depth",
         "rawType": "int64",
         "type": "integer"
        },
        {
         "name": "n_estimators",
         "rawType": "int64",
         "type": "integer"
        }
       ],
       "conversionMethod": "pd.DataFrame",
       "ref": "874930ab-4e60-41bb-9bd0-c3637bcf14e4",
       "rows": [
        [
         "0",
         "['item_1', 'item_2', 'item_3']",
         "[ 1  2  3  4  5  6  7  8  9 10 11 12 13 14 15 16 17 18 19 20 21 22 23 24\n 25 26 27 28 29 30 31 32 33 34 35 36 37 38 39 40 41 42 43 44 45 46 47 48]",
         "[ 1  2  3  4  5  6  7  8  9 10 11 12 13 14 15 16 17 18 19 20 21 22 23 24\n 25 26 27 28 29 30 31 32 33 34 35 36 37 38 39 40 41 42 43 44 45 46 47 48]",
         "{'max_depth': 7, 'n_estimators': 20}",
         "2.288448178505924",
         "2.2884481785059245",
         "2.288448178505925",
         "2.3149218989998164",
         "2.3149218989998164",
         "2.3149218989998164",
         "9.462712038572922",
         "9.46271203857292",
         "9.46271203857292",
         "7",
         "20"
        ],
        [
         "1",
         "['item_1', 'item_2', 'item_3']",
         "[ 1  2  3  4  5  6  7  8  9 10 11 12 13 14 15 16 17 18 19 20 21 22 23 24]",
         "[ 1  2  3  4  5  6  7  8  9 10 11 12 13 14 15 16 17 18 19 20 21 22 23 24]",
         "{'max_depth': 7, 'n_estimators': 20}",
         "2.3577342326150927",
         "2.357734232615093",
         "2.3577342326150927",
         "2.306111727143375",
         "2.306111727143375",
         "2.3061117271433744",
         "10.121310208222738",
         "10.121310208222738",
         "10.121310208222738",
         "7",
         "20"
        ],
        [
         "2",
         "['item_1', 'item_2', 'item_3']",
         "[ 1  2  3  4  5  6  7  8  9 10 11 12 13 14 15 16 17 18 19 20 21 22 23 24\n 25 26 27 28 29 30 31 32 33 34 35 36 37 38 39 40 41 42 43 44 45 46 47 48]",
         "[ 1  2  3  4  5  6  7  8  9 10 11 12 13 14 15 16 17 18 19 20 21 22 23 24\n 25 26 27 28 29 30 31 32 33 34 35 36 37 38 39 40 41 42 43 44 45 46 47 48]",
         "{'max_depth': 3, 'n_estimators': 20}",
         "2.377537280570565",
         "2.377537280570565",
         "2.3775372805705643",
         "2.302790476639889",
         "2.302790476639889",
         "2.302790476639889",
         "10.179578435197973",
         "10.179578435197973",
         "10.179578435197971",
         "3",
         "20"
        ],
        [
         "3",
         "['item_1', 'item_2', 'item_3']",
         "[ 1  2  3  4  5  6  7  8  9 10 11 12 13 14 15 16 17 18 19 20 21 22 23 24]",
         "[ 1  2  3  4  5  6  7  8  9 10 11 12 13 14 15 16 17 18 19 20 21 22 23 24]",
         "{'max_depth': 3, 'n_estimators': 20}",
         "2.474796568547209",
         "2.474796568547209",
         "2.474796568547209",
         "2.365731742163382",
         "2.3657317421633817",
         "2.3657317421633826",
         "10.70865057540174",
         "10.70865057540174",
         "10.70865057540174",
         "3",
         "20"
        ],
        [
         "4",
         "['item_1', 'item_2', 'item_3']",
         "[ 1  2  3  4  5  6  7  8  9 10 11 12 13 14 15 16 17 18 19 20 21 22 23 24\n 25 26 27 28 29 30 31 32 33 34 35 36 37 38 39 40 41 42 43 44 45 46 47 48]",
         "[ 1  2  3  4  5  6  7  8  9 10 11 12 13 14 15 16 17 18 19 20 21 22 23 24\n 25 26 27 28 29 30 31 32 33 34 35 36 37 38 39 40 41 42 43 44 45 46 47 48]",
         "{'max_depth': 7, 'n_estimators': 10}",
         "3.0889042129105975",
         "3.088904212910598",
         "3.088904212910599",
         "2.6420924434716064",
         "2.6420924434716064",
         "2.642092443471607",
         "14.761587265478013",
         "14.76158726547801",
         "14.76158726547801",
         "7",
         "10"
        ],
        [
         "5",
         "['item_1', 'item_2', 'item_3']",
         "[ 1  2  3  4  5  6  7  8  9 10 11 12 13 14 15 16 17 18 19 20 21 22 23 24]",
         "[ 1  2  3  4  5  6  7  8  9 10 11 12 13 14 15 16 17 18 19 20 21 22 23 24]",
         "{'max_depth': 7, 'n_estimators': 10}",
         "3.1349546511713786",
         "3.1349546511713786",
         "3.134954651171379",
         "2.565649662703223",
         "2.5656496627032226",
         "2.5656496627032226",
         "15.509249263528352",
         "15.509249263528352",
         "15.50924926352835",
         "7",
         "10"
        ],
        [
         "6",
         "['item_1', 'item_2', 'item_3']",
         "[ 1  2  3  4  5  6  7  8  9 10 11 12 13 14 15 16 17 18 19 20 21 22 23 24\n 25 26 27 28 29 30 31 32 33 34 35 36 37 38 39 40 41 42 43 44 45 46 47 48]",
         "[ 1  2  3  4  5  6  7  8  9 10 11 12 13 14 15 16 17 18 19 20 21 22 23 24\n 25 26 27 28 29 30 31 32 33 34 35 36 37 38 39 40 41 42 43 44 45 46 47 48]",
         "{'max_depth': 3, 'n_estimators': 10}",
         "3.208172589162535",
         "3.208172589162535",
         "3.208172589162535",
         "2.600284947271339",
         "2.600284947271339",
         "2.600284947271339",
         "15.870432843649105",
         "15.870432843649105",
         "15.870432843649107",
         "3",
         "10"
        ],
        [
         "7",
         "['item_1', 'item_2', 'item_3']",
         "[ 1  2  3  4  5  6  7  8  9 10 11 12 13 14 15 16 17 18 19 20 21 22 23 24]",
         "[ 1  2  3  4  5  6  7  8  9 10 11 12 13 14 15 16 17 18 19 20 21 22 23 24]",
         "{'max_depth': 3, 'n_estimators': 10}",
         "3.2405151945282404",
         "3.2405151945282404",
         "3.2405151945282404",
         "2.6385979060403626",
         "2.6385979060403626",
         "2.638597906040362",
         "16.016638875289374",
         "16.016638875289374",
         "16.016638875289374",
         "3",
         "10"
        ]
       ],
       "shape": {
        "columns": 15,
        "rows": 8
       }
      },
      "text/html": [
       "<div>\n",
       "<style scoped>\n",
       "    .dataframe tbody tr th:only-of-type {\n",
       "        vertical-align: middle;\n",
       "    }\n",
       "\n",
       "    .dataframe tbody tr th {\n",
       "        vertical-align: top;\n",
       "    }\n",
       "\n",
       "    .dataframe thead th {\n",
       "        text-align: right;\n",
       "    }\n",
       "</style>\n",
       "<table border=\"1\" class=\"dataframe\">\n",
       "  <thead>\n",
       "    <tr style=\"text-align: right;\">\n",
       "      <th></th>\n",
       "      <th>levels</th>\n",
       "      <th>lags</th>\n",
       "      <th>lags_label</th>\n",
       "      <th>params</th>\n",
       "      <th>mean_absolute_error__weighted_average</th>\n",
       "      <th>mean_absolute_error__average</th>\n",
       "      <th>mean_absolute_error__pooling</th>\n",
       "      <th>custom_metric__weighted_average</th>\n",
       "      <th>custom_metric__average</th>\n",
       "      <th>custom_metric__pooling</th>\n",
       "      <th>mean_squared_error__weighted_average</th>\n",
       "      <th>mean_squared_error__average</th>\n",
       "      <th>mean_squared_error__pooling</th>\n",
       "      <th>max_depth</th>\n",
       "      <th>n_estimators</th>\n",
       "    </tr>\n",
       "  </thead>\n",
       "  <tbody>\n",
       "    <tr>\n",
       "      <th>0</th>\n",
       "      <td>[item_1, item_2, item_3]</td>\n",
       "      <td>[1, 2, 3, 4, 5, 6, 7, 8, 9, 10, 11, 12, 13, 14...</td>\n",
       "      <td>[1, 2, 3, 4, 5, 6, 7, 8, 9, 10, 11, 12, 13, 14...</td>\n",
       "      <td>{'max_depth': 7, 'n_estimators': 20}</td>\n",
       "      <td>2.288448</td>\n",
       "      <td>2.288448</td>\n",
       "      <td>2.288448</td>\n",
       "      <td>2.314922</td>\n",
       "      <td>2.314922</td>\n",
       "      <td>2.314922</td>\n",
       "      <td>9.462712</td>\n",
       "      <td>9.462712</td>\n",
       "      <td>9.462712</td>\n",
       "      <td>7</td>\n",
       "      <td>20</td>\n",
       "    </tr>\n",
       "    <tr>\n",
       "      <th>1</th>\n",
       "      <td>[item_1, item_2, item_3]</td>\n",
       "      <td>[1, 2, 3, 4, 5, 6, 7, 8, 9, 10, 11, 12, 13, 14...</td>\n",
       "      <td>[1, 2, 3, 4, 5, 6, 7, 8, 9, 10, 11, 12, 13, 14...</td>\n",
       "      <td>{'max_depth': 7, 'n_estimators': 20}</td>\n",
       "      <td>2.357734</td>\n",
       "      <td>2.357734</td>\n",
       "      <td>2.357734</td>\n",
       "      <td>2.306112</td>\n",
       "      <td>2.306112</td>\n",
       "      <td>2.306112</td>\n",
       "      <td>10.121310</td>\n",
       "      <td>10.121310</td>\n",
       "      <td>10.121310</td>\n",
       "      <td>7</td>\n",
       "      <td>20</td>\n",
       "    </tr>\n",
       "    <tr>\n",
       "      <th>2</th>\n",
       "      <td>[item_1, item_2, item_3]</td>\n",
       "      <td>[1, 2, 3, 4, 5, 6, 7, 8, 9, 10, 11, 12, 13, 14...</td>\n",
       "      <td>[1, 2, 3, 4, 5, 6, 7, 8, 9, 10, 11, 12, 13, 14...</td>\n",
       "      <td>{'max_depth': 3, 'n_estimators': 20}</td>\n",
       "      <td>2.377537</td>\n",
       "      <td>2.377537</td>\n",
       "      <td>2.377537</td>\n",
       "      <td>2.302790</td>\n",
       "      <td>2.302790</td>\n",
       "      <td>2.302790</td>\n",
       "      <td>10.179578</td>\n",
       "      <td>10.179578</td>\n",
       "      <td>10.179578</td>\n",
       "      <td>3</td>\n",
       "      <td>20</td>\n",
       "    </tr>\n",
       "    <tr>\n",
       "      <th>3</th>\n",
       "      <td>[item_1, item_2, item_3]</td>\n",
       "      <td>[1, 2, 3, 4, 5, 6, 7, 8, 9, 10, 11, 12, 13, 14...</td>\n",
       "      <td>[1, 2, 3, 4, 5, 6, 7, 8, 9, 10, 11, 12, 13, 14...</td>\n",
       "      <td>{'max_depth': 3, 'n_estimators': 20}</td>\n",
       "      <td>2.474797</td>\n",
       "      <td>2.474797</td>\n",
       "      <td>2.474797</td>\n",
       "      <td>2.365732</td>\n",
       "      <td>2.365732</td>\n",
       "      <td>2.365732</td>\n",
       "      <td>10.708651</td>\n",
       "      <td>10.708651</td>\n",
       "      <td>10.708651</td>\n",
       "      <td>3</td>\n",
       "      <td>20</td>\n",
       "    </tr>\n",
       "    <tr>\n",
       "      <th>4</th>\n",
       "      <td>[item_1, item_2, item_3]</td>\n",
       "      <td>[1, 2, 3, 4, 5, 6, 7, 8, 9, 10, 11, 12, 13, 14...</td>\n",
       "      <td>[1, 2, 3, 4, 5, 6, 7, 8, 9, 10, 11, 12, 13, 14...</td>\n",
       "      <td>{'max_depth': 7, 'n_estimators': 10}</td>\n",
       "      <td>3.088904</td>\n",
       "      <td>3.088904</td>\n",
       "      <td>3.088904</td>\n",
       "      <td>2.642092</td>\n",
       "      <td>2.642092</td>\n",
       "      <td>2.642092</td>\n",
       "      <td>14.761587</td>\n",
       "      <td>14.761587</td>\n",
       "      <td>14.761587</td>\n",
       "      <td>7</td>\n",
       "      <td>10</td>\n",
       "    </tr>\n",
       "    <tr>\n",
       "      <th>5</th>\n",
       "      <td>[item_1, item_2, item_3]</td>\n",
       "      <td>[1, 2, 3, 4, 5, 6, 7, 8, 9, 10, 11, 12, 13, 14...</td>\n",
       "      <td>[1, 2, 3, 4, 5, 6, 7, 8, 9, 10, 11, 12, 13, 14...</td>\n",
       "      <td>{'max_depth': 7, 'n_estimators': 10}</td>\n",
       "      <td>3.134955</td>\n",
       "      <td>3.134955</td>\n",
       "      <td>3.134955</td>\n",
       "      <td>2.565650</td>\n",
       "      <td>2.565650</td>\n",
       "      <td>2.565650</td>\n",
       "      <td>15.509249</td>\n",
       "      <td>15.509249</td>\n",
       "      <td>15.509249</td>\n",
       "      <td>7</td>\n",
       "      <td>10</td>\n",
       "    </tr>\n",
       "    <tr>\n",
       "      <th>6</th>\n",
       "      <td>[item_1, item_2, item_3]</td>\n",
       "      <td>[1, 2, 3, 4, 5, 6, 7, 8, 9, 10, 11, 12, 13, 14...</td>\n",
       "      <td>[1, 2, 3, 4, 5, 6, 7, 8, 9, 10, 11, 12, 13, 14...</td>\n",
       "      <td>{'max_depth': 3, 'n_estimators': 10}</td>\n",
       "      <td>3.208173</td>\n",
       "      <td>3.208173</td>\n",
       "      <td>3.208173</td>\n",
       "      <td>2.600285</td>\n",
       "      <td>2.600285</td>\n",
       "      <td>2.600285</td>\n",
       "      <td>15.870433</td>\n",
       "      <td>15.870433</td>\n",
       "      <td>15.870433</td>\n",
       "      <td>3</td>\n",
       "      <td>10</td>\n",
       "    </tr>\n",
       "    <tr>\n",
       "      <th>7</th>\n",
       "      <td>[item_1, item_2, item_3]</td>\n",
       "      <td>[1, 2, 3, 4, 5, 6, 7, 8, 9, 10, 11, 12, 13, 14...</td>\n",
       "      <td>[1, 2, 3, 4, 5, 6, 7, 8, 9, 10, 11, 12, 13, 14...</td>\n",
       "      <td>{'max_depth': 3, 'n_estimators': 10}</td>\n",
       "      <td>3.240515</td>\n",
       "      <td>3.240515</td>\n",
       "      <td>3.240515</td>\n",
       "      <td>2.638598</td>\n",
       "      <td>2.638598</td>\n",
       "      <td>2.638598</td>\n",
       "      <td>16.016639</td>\n",
       "      <td>16.016639</td>\n",
       "      <td>16.016639</td>\n",
       "      <td>3</td>\n",
       "      <td>10</td>\n",
       "    </tr>\n",
       "  </tbody>\n",
       "</table>\n",
       "</div>"
      ],
      "text/plain": [
       "                     levels  \\\n",
       "0  [item_1, item_2, item_3]   \n",
       "1  [item_1, item_2, item_3]   \n",
       "2  [item_1, item_2, item_3]   \n",
       "3  [item_1, item_2, item_3]   \n",
       "4  [item_1, item_2, item_3]   \n",
       "5  [item_1, item_2, item_3]   \n",
       "6  [item_1, item_2, item_3]   \n",
       "7  [item_1, item_2, item_3]   \n",
       "\n",
       "                                                lags  \\\n",
       "0  [1, 2, 3, 4, 5, 6, 7, 8, 9, 10, 11, 12, 13, 14...   \n",
       "1  [1, 2, 3, 4, 5, 6, 7, 8, 9, 10, 11, 12, 13, 14...   \n",
       "2  [1, 2, 3, 4, 5, 6, 7, 8, 9, 10, 11, 12, 13, 14...   \n",
       "3  [1, 2, 3, 4, 5, 6, 7, 8, 9, 10, 11, 12, 13, 14...   \n",
       "4  [1, 2, 3, 4, 5, 6, 7, 8, 9, 10, 11, 12, 13, 14...   \n",
       "5  [1, 2, 3, 4, 5, 6, 7, 8, 9, 10, 11, 12, 13, 14...   \n",
       "6  [1, 2, 3, 4, 5, 6, 7, 8, 9, 10, 11, 12, 13, 14...   \n",
       "7  [1, 2, 3, 4, 5, 6, 7, 8, 9, 10, 11, 12, 13, 14...   \n",
       "\n",
       "                                          lags_label  \\\n",
       "0  [1, 2, 3, 4, 5, 6, 7, 8, 9, 10, 11, 12, 13, 14...   \n",
       "1  [1, 2, 3, 4, 5, 6, 7, 8, 9, 10, 11, 12, 13, 14...   \n",
       "2  [1, 2, 3, 4, 5, 6, 7, 8, 9, 10, 11, 12, 13, 14...   \n",
       "3  [1, 2, 3, 4, 5, 6, 7, 8, 9, 10, 11, 12, 13, 14...   \n",
       "4  [1, 2, 3, 4, 5, 6, 7, 8, 9, 10, 11, 12, 13, 14...   \n",
       "5  [1, 2, 3, 4, 5, 6, 7, 8, 9, 10, 11, 12, 13, 14...   \n",
       "6  [1, 2, 3, 4, 5, 6, 7, 8, 9, 10, 11, 12, 13, 14...   \n",
       "7  [1, 2, 3, 4, 5, 6, 7, 8, 9, 10, 11, 12, 13, 14...   \n",
       "\n",
       "                                 params  \\\n",
       "0  {'max_depth': 7, 'n_estimators': 20}   \n",
       "1  {'max_depth': 7, 'n_estimators': 20}   \n",
       "2  {'max_depth': 3, 'n_estimators': 20}   \n",
       "3  {'max_depth': 3, 'n_estimators': 20}   \n",
       "4  {'max_depth': 7, 'n_estimators': 10}   \n",
       "5  {'max_depth': 7, 'n_estimators': 10}   \n",
       "6  {'max_depth': 3, 'n_estimators': 10}   \n",
       "7  {'max_depth': 3, 'n_estimators': 10}   \n",
       "\n",
       "   mean_absolute_error__weighted_average  mean_absolute_error__average  \\\n",
       "0                               2.288448                      2.288448   \n",
       "1                               2.357734                      2.357734   \n",
       "2                               2.377537                      2.377537   \n",
       "3                               2.474797                      2.474797   \n",
       "4                               3.088904                      3.088904   \n",
       "5                               3.134955                      3.134955   \n",
       "6                               3.208173                      3.208173   \n",
       "7                               3.240515                      3.240515   \n",
       "\n",
       "   mean_absolute_error__pooling  custom_metric__weighted_average  \\\n",
       "0                      2.288448                         2.314922   \n",
       "1                      2.357734                         2.306112   \n",
       "2                      2.377537                         2.302790   \n",
       "3                      2.474797                         2.365732   \n",
       "4                      3.088904                         2.642092   \n",
       "5                      3.134955                         2.565650   \n",
       "6                      3.208173                         2.600285   \n",
       "7                      3.240515                         2.638598   \n",
       "\n",
       "   custom_metric__average  custom_metric__pooling  \\\n",
       "0                2.314922                2.314922   \n",
       "1                2.306112                2.306112   \n",
       "2                2.302790                2.302790   \n",
       "3                2.365732                2.365732   \n",
       "4                2.642092                2.642092   \n",
       "5                2.565650                2.565650   \n",
       "6                2.600285                2.600285   \n",
       "7                2.638598                2.638598   \n",
       "\n",
       "   mean_squared_error__weighted_average  mean_squared_error__average  \\\n",
       "0                              9.462712                     9.462712   \n",
       "1                             10.121310                    10.121310   \n",
       "2                             10.179578                    10.179578   \n",
       "3                             10.708651                    10.708651   \n",
       "4                             14.761587                    14.761587   \n",
       "5                             15.509249                    15.509249   \n",
       "6                             15.870433                    15.870433   \n",
       "7                             16.016639                    16.016639   \n",
       "\n",
       "   mean_squared_error__pooling  max_depth  n_estimators  \n",
       "0                     9.462712          7            20  \n",
       "1                    10.121310          7            20  \n",
       "2                    10.179578          3            20  \n",
       "3                    10.708651          3            20  \n",
       "4                    14.761587          7            10  \n",
       "5                    15.509249          7            10  \n",
       "6                    15.870433          3            10  \n",
       "7                    16.016639          3            10  "
      ]
     },
     "execution_count": 41,
     "metadata": {},
     "output_type": "execute_result"
    }
   ],
   "source": [
    "# Grid search Multi-Series with multiple metrics\n",
    "# ==============================================================================\n",
    "forecaster = ForecasterRecursiveMultiSeries(\n",
    "                 regressor = LGBMRegressor(random_state=123, verbose=-1),\n",
    "                 lags      = 24,\n",
    "                 encoding  = 'ordinal'\n",
    "             )\n",
    "\n",
    "\n",
    "def custom_metric(y_true, y_pred):\n",
    "    \"\"\"\n",
    "    Calculate the mean absolute error using only the predicted values of the last\n",
    "    3 months of the year.\n",
    "    \"\"\"\n",
    "    mask = y_true.index.month.isin([10, 11, 12])\n",
    "    metric = mean_absolute_error(y_true[mask], y_pred[mask])\n",
    "    \n",
    "    return metric\n",
    "\n",
    "\n",
    "lags_grid = [24, 48]\n",
    "param_grid = {\n",
    "    'n_estimators': [10, 20],\n",
    "    'max_depth': [3, 7]\n",
    "}\n",
    "\n",
    "cv = TimeSeriesFold(\n",
    "         steps              = 24,\n",
    "         initial_train_size = len(data_train),\n",
    "         refit              = True,\n",
    "     )\n",
    "\n",
    "results = grid_search_forecaster_multiseries(\n",
    "              forecaster         = forecaster,\n",
    "              series             = data,\n",
    "              exog               = None,\n",
    "              lags_grid          = lags_grid,\n",
    "              param_grid         = param_grid,\n",
    "              cv                 = cv,\n",
    "              levels             = None,\n",
    "              metric             = [mean_absolute_error, custom_metric, 'mean_squared_error'],\n",
    "              aggregate_metric   = ['weighted_average', 'average', 'pooling']\n",
    "          )\n",
    "\n",
    "results"
   ]
  },
  {
   "cell_type": "markdown",
   "id": "e4483ec6",
   "metadata": {},
   "source": [
    "## Training and prediction matrices\n",
    "\n",
    "While the primary goal of building forecasting models is to predict future values, it is equally important to evaluate if the model is effectively learning from the training data. Analyzing predictions on the training data or exploring the prediction matrices is crucial for assessing model performance and understanding areas for optimization. This process can help identify issues like overfitting or underfitting, as well as provide deeper insights into the model’s decision-making process. Check the [How to Extract Training and Prediction Matrices](../user_guides/training-and-prediction-matrices.html) user guide for more information."
   ]
  }
 ],
 "metadata": {
  "kernelspec": {
   "display_name": "skforecast_15_p12",
   "language": "python",
   "name": "python3"
  },
  "language_info": {
   "codemirror_mode": {
    "name": "ipython",
    "version": 3
   },
   "file_extension": ".py",
   "mimetype": "text/x-python",
   "name": "python",
   "nbconvert_exporter": "python",
   "pygments_lexer": "ipython3",
   "version": "3.12.9"
  },
  "toc": {
   "base_numbering": 1,
   "nav_menu": {},
   "number_sections": true,
   "sideBar": true,
   "skip_h1_title": false,
   "title_cell": "Table of Contents",
   "title_sidebar": "Contents",
   "toc_cell": false,
   "toc_position": {
    "height": "calc(100% - 180px)",
    "left": "10px",
    "top": "150px",
    "width": "184.087px"
   },
   "toc_section_display": true,
   "toc_window_display": true
  }
 },
 "nbformat": 4,
 "nbformat_minor": 5
}
